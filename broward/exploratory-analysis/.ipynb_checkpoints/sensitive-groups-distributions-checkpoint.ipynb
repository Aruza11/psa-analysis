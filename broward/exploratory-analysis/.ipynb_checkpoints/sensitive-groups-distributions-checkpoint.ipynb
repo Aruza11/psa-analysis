{
 "cells": [
  {
   "cell_type": "code",
   "execution_count": 1,
   "metadata": {},
   "outputs": [
    {
     "name": "stdout",
     "output_type": "stream",
     "text": [
      "Current working directory is now:  C:\\Users\\Caroline Wang\\OneDrive\\Duke\\Criminal Recidivism\\psa-analysis\n"
     ]
    }
   ],
   "source": [
    "import os \n",
    "os.chdir('../../')\n",
    "print(\"Current working directory is now: \", os.getcwd())\n",
    "\n",
    "import pandas as pd \n",
    "import numpy as np \n",
    "from IPython.display import display\n",
    "import matplotlib.pyplot as plt \n",
    "\n",
    "from utils.load_settings import load_settings\n",
    "\n",
    "%matplotlib inline\n",
    "# load parameters\n",
    "settings = load_settings()"
   ]
  },
  {
   "cell_type": "markdown",
   "metadata": {},
   "source": [
    "#### Read in data \n",
    "\n"
   ]
  },
  {
   "cell_type": "code",
   "execution_count": null,
   "metadata": {},
   "outputs": [],
   "source": [
    "broward_data = pd.read_csv(\"broward/data/broward_data.csv\")\n",
    "kentucky_data = pd.read_csv(\"kentucky/data/processed/kentucky_data.csv\")\n",
    "\n",
    "for decoder_name, decoder_dict in settings['decoders'].items():\n",
    "    broward_data = broward_data.replace({decoder_name: decoder_dict})\n",
    "    kentucky_data = kentucky_data.replace({decoder_name: decoder_dict})\n",
    "\n",
    "broward_data.rename(columns=settings['decoders']['label'], inplace=True)\n",
    "kentucky_data.rename(columns=settings['decoders']['label'], inplace=True)"
   ]
  },
  {
   "cell_type": "markdown",
   "metadata": {},
   "source": [
    "### Compute group balance "
   ]
  },
  {
   "cell_type": "code",
   "execution_count": 14,
   "metadata": {},
   "outputs": [
    {
     "data": {
      "text/html": [
       "<div>\n",
       "<style scoped>\n",
       "    .dataframe tbody tr th:only-of-type {\n",
       "        vertical-align: middle;\n",
       "    }\n",
       "\n",
       "    .dataframe tbody tr th {\n",
       "        vertical-align: top;\n",
       "    }\n",
       "\n",
       "    .dataframe thead th {\n",
       "        text-align: right;\n",
       "    }\n",
       "</style>\n",
       "<table border=\"1\" class=\"dataframe\">\n",
       "  <thead>\n",
       "    <tr style=\"text-align: right;\">\n",
       "      <th></th>\n",
       "      <th>Attribute</th>\n",
       "      <th>Attribute Value</th>\n",
       "      <th>n_inds</th>\n",
       "      <th>% total</th>\n",
       "    </tr>\n",
       "  </thead>\n",
       "  <tbody>\n",
       "    <tr>\n",
       "      <th>0</th>\n",
       "      <td>race</td>\n",
       "      <td>African-American</td>\n",
       "      <td>1124</td>\n",
       "      <td>57.52</td>\n",
       "    </tr>\n",
       "    <tr>\n",
       "      <th>1</th>\n",
       "      <td>race</td>\n",
       "      <td>Caucasian</td>\n",
       "      <td>601</td>\n",
       "      <td>30.76</td>\n",
       "    </tr>\n",
       "    <tr>\n",
       "      <th>2</th>\n",
       "      <td>race</td>\n",
       "      <td>Hispanic</td>\n",
       "      <td>127</td>\n",
       "      <td>6.50</td>\n",
       "    </tr>\n",
       "    <tr>\n",
       "      <th>3</th>\n",
       "      <td>race</td>\n",
       "      <td>Other</td>\n",
       "      <td>102</td>\n",
       "      <td>5.22</td>\n",
       "    </tr>\n",
       "    <tr>\n",
       "      <th>4</th>\n",
       "      <td>sex</td>\n",
       "      <td>female</td>\n",
       "      <td>251</td>\n",
       "      <td>12.85</td>\n",
       "    </tr>\n",
       "    <tr>\n",
       "      <th>5</th>\n",
       "      <td>sex</td>\n",
       "      <td>male</td>\n",
       "      <td>1703</td>\n",
       "      <td>87.15</td>\n",
       "    </tr>\n",
       "  </tbody>\n",
       "</table>\n",
       "</div>"
      ],
      "text/plain": [
       "  Attribute   Attribute Value  n_inds  % total\n",
       "0      race  African-American    1124    57.52\n",
       "1      race         Caucasian     601    30.76\n",
       "2      race          Hispanic     127     6.50\n",
       "3      race             Other     102     5.22\n",
       "4       sex            female     251    12.85\n",
       "5       sex              male    1703    87.15"
      ]
     },
     "execution_count": 14,
     "metadata": {},
     "output_type": "execute_result"
    }
   ],
   "source": [
    "## broward\n",
    "broward_attrs = broward_data[['person_id', 'screening_date', 'sex', 'race']]\n",
    "            \n",
    "broward_attrs = (pd.melt(broward_attrs, id_vars =['person_id', 'screening_date'], value_vars=['sex', 'race'])\n",
    "                .rename({'variable': 'Attribute',\n",
    "                         'value': 'Attribute Value'},\n",
    "                        axis=1))\n",
    "\n",
    "broward_attrs = broward_attrs.groupby([\"Attribute\", \"Attribute Value\"]).size().to_frame('n_inds').reset_index()\n",
    "\n",
    "# check totals are same for race and sex\n",
    "assert (broward_attrs[broward_attrs['Attribute']=='race']['n_inds'].sum()) == (broward_attrs[broward_attrs['Attribute']=='sex']['n_inds'].sum())\n",
    "total_inds = broward_attrs[broward_attrs['Attribute']=='race']['n_inds'].sum()\n",
    "\n",
    "# add percent col\n",
    "broward_attrs[\"% total\"] = ((broward_attrs['n_inds'] / total_inds) * 100).apply(lambda x: round(x, 2))\n",
    "broward_attrs"
   ]
  },
  {
   "cell_type": "code",
   "execution_count": 15,
   "metadata": {},
   "outputs": [
    {
     "data": {
      "text/html": [
       "<div>\n",
       "<style scoped>\n",
       "    .dataframe tbody tr th:only-of-type {\n",
       "        vertical-align: middle;\n",
       "    }\n",
       "\n",
       "    .dataframe tbody tr th {\n",
       "        vertical-align: top;\n",
       "    }\n",
       "\n",
       "    .dataframe thead th {\n",
       "        text-align: right;\n",
       "    }\n",
       "</style>\n",
       "<table border=\"1\" class=\"dataframe\">\n",
       "  <thead>\n",
       "    <tr style=\"text-align: right;\">\n",
       "      <th></th>\n",
       "      <th>Attribute</th>\n",
       "      <th>Attribute Value</th>\n",
       "      <th>n_inds</th>\n",
       "      <th>% total</th>\n",
       "    </tr>\n",
       "  </thead>\n",
       "  <tbody>\n",
       "    <tr>\n",
       "      <th>0</th>\n",
       "      <td>race</td>\n",
       "      <td>African-American</td>\n",
       "      <td>25367</td>\n",
       "      <td>17.37</td>\n",
       "    </tr>\n",
       "    <tr>\n",
       "      <th>1</th>\n",
       "      <td>race</td>\n",
       "      <td>Caucasian</td>\n",
       "      <td>117627</td>\n",
       "      <td>80.56</td>\n",
       "    </tr>\n",
       "    <tr>\n",
       "      <th>2</th>\n",
       "      <td>race</td>\n",
       "      <td>Other</td>\n",
       "      <td>3009</td>\n",
       "      <td>2.06</td>\n",
       "    </tr>\n",
       "    <tr>\n",
       "      <th>3</th>\n",
       "      <td>sex</td>\n",
       "      <td>female</td>\n",
       "      <td>44658</td>\n",
       "      <td>30.59</td>\n",
       "    </tr>\n",
       "    <tr>\n",
       "      <th>4</th>\n",
       "      <td>sex</td>\n",
       "      <td>male</td>\n",
       "      <td>101345</td>\n",
       "      <td>69.41</td>\n",
       "    </tr>\n",
       "  </tbody>\n",
       "</table>\n",
       "</div>"
      ],
      "text/plain": [
       "  Attribute   Attribute Value  n_inds  % total\n",
       "0      race  African-American   25367    17.37\n",
       "1      race         Caucasian  117627    80.56\n",
       "2      race             Other    3009     2.06\n",
       "3       sex            female   44658    30.59\n",
       "4       sex              male  101345    69.41"
      ]
     },
     "execution_count": 15,
     "metadata": {},
     "output_type": "execute_result"
    }
   ],
   "source": [
    "## kentucky\n",
    "kentucky_attrs = kentucky_data[['person_id', 'screening_date', 'sex', 'race']]\n",
    "\n",
    "kentucky_attrs = (pd.melt(kentucky_attrs, id_vars =['person_id', 'screening_date'], value_vars=['sex', 'race'])\n",
    "                .rename({'variable': 'Attribute',\n",
    "                         'value': 'Attribute Value'},\n",
    "                        axis=1))\n",
    "\n",
    "kentucky_attrs = kentucky_attrs.groupby([\"Attribute\", \"Attribute Value\"]).size().to_frame('n_inds').reset_index()\n",
    "\n",
    "# check totals are same for race and sex\n",
    "assert (kentucky_attrs[kentucky_attrs['Attribute']=='race']['n_inds'].sum()) == (kentucky_attrs[kentucky_attrs['Attribute']=='sex']['n_inds'].sum())\n",
    "total_inds = kentucky_attrs[kentucky_attrs['Attribute']=='race']['n_inds'].sum()\n",
    "\n",
    "# add percent col\n",
    "kentucky_attrs[\"% total\"] = ((kentucky_attrs['n_inds'] / total_inds) * 100).apply(lambda x: round(x, 2))\n",
    "kentucky_attrs"
   ]
  },
  {
   "cell_type": "code",
   "execution_count": 6,
   "metadata": {},
   "outputs": [],
   "source": [
    "## write result\n",
    "broward_attrs.to_csv(\"broward/logs/fairness_results/data_visualizations/broward_racial_distr.csv\")\n",
    "kentucky_attrs.to_csv(\"kentucky/logs/fairness_results/data_visualizations/kentucky_racial_distr.csv\")"
   ]
  },
  {
   "cell_type": "markdown",
   "metadata": {},
   "source": [
    "### Check for recidivism balance across all groups for all problems\n",
    "\n",
    "i.e. $P(Y = 1 | group = g_1)$"
   ]
  },
  {
   "cell_type": "code",
   "execution_count": 16,
   "metadata": {
    "scrolled": true
   },
   "outputs": [],
   "source": [
    "total_inds = broward_data.shape[0]\n",
    "# unpivot the sensitive attributes\n",
    "broward_attrs = (pd.melt(broward_data, id_vars =['person_id', 'screening_date'], value_vars=['sex', 'race'])\n",
    "                   .rename({'variable': 'Attribute',\n",
    "                            'value': 'Attribute Value'},\n",
    "                            axis=1)\n",
    "                    # concatenate the label info \n",
    "                   .merge(broward_data[['person_id', 'screening_date'] + settings[\"broward_labels\"]], \n",
    "                          on = ['person_id', 'screening_date'],\n",
    "                          how = 'left'))\n",
    "\n",
    "broward_recid_balance_groups = {}\n",
    "for label in settings['broward_labels']:\n",
    "    broward_attrs_label = broward_attrs[['person_id', 'screening_date', 'Attribute', 'Attribute Value'] + [label]]\n",
    "\n",
    "    res = (broward_attrs_label.groupby(['Attribute', 'Attribute Value'])\n",
    "                              .sum()[label]\n",
    "                              .to_frame('n_inds_recid')\n",
    "                              .reset_index())\n",
    "    \n",
    "    res['total_inds'] = total_inds\n",
    "    total_inds_with_attr = (broward_attrs_label\n",
    "                           .groupby(['Attribute', 'Attribute Value'])\n",
    "                           .size()\n",
    "                           .to_frame(\"total_inds_with_attr\")\n",
    "                           .reset_index())\n",
    "    \n",
    "    res = res.merge(total_inds_with_attr, on = ['Attribute', 'Attribute Value'], how='left')\n",
    "    res['P(Y = 1 | Attr = attr)'] = res['n_inds_recid']/res['total_inds_with_attr']\n",
    "    res['P(Y = 1,  Attr = attr)'] = res['n_inds_recid']/total_inds\n",
    "    res['label'] = label\n",
    "    \n",
    "    res.set_index('label')\n",
    "    broward_recid_balance_groups[label] = res"
   ]
  },
  {
   "cell_type": "code",
   "execution_count": 17,
   "metadata": {},
   "outputs": [
    {
     "data": {
      "text/html": [
       "<div>\n",
       "<style scoped>\n",
       "    .dataframe tbody tr th:only-of-type {\n",
       "        vertical-align: middle;\n",
       "    }\n",
       "\n",
       "    .dataframe tbody tr th {\n",
       "        vertical-align: top;\n",
       "    }\n",
       "\n",
       "    .dataframe thead th {\n",
       "        text-align: right;\n",
       "    }\n",
       "</style>\n",
       "<table border=\"1\" class=\"dataframe\">\n",
       "  <thead>\n",
       "    <tr style=\"text-align: right;\">\n",
       "      <th></th>\n",
       "      <th>label</th>\n",
       "      <th>Attribute</th>\n",
       "      <th>Attribute Value</th>\n",
       "      <th>P(Y = 1 | Attr = attr)</th>\n",
       "    </tr>\n",
       "  </thead>\n",
       "  <tbody>\n",
       "    <tr>\n",
       "      <th>0</th>\n",
       "      <td>general_two_year</td>\n",
       "      <td>race</td>\n",
       "      <td>African-American</td>\n",
       "      <td>0.496441</td>\n",
       "    </tr>\n",
       "    <tr>\n",
       "      <th>1</th>\n",
       "      <td>general_two_year</td>\n",
       "      <td>race</td>\n",
       "      <td>Caucasian</td>\n",
       "      <td>0.407654</td>\n",
       "    </tr>\n",
       "    <tr>\n",
       "      <th>2</th>\n",
       "      <td>general_two_year</td>\n",
       "      <td>race</td>\n",
       "      <td>Hispanic</td>\n",
       "      <td>0.338583</td>\n",
       "    </tr>\n",
       "    <tr>\n",
       "      <th>3</th>\n",
       "      <td>general_two_year</td>\n",
       "      <td>race</td>\n",
       "      <td>Other</td>\n",
       "      <td>0.421569</td>\n",
       "    </tr>\n",
       "    <tr>\n",
       "      <th>4</th>\n",
       "      <td>general_two_year</td>\n",
       "      <td>sex</td>\n",
       "      <td>female</td>\n",
       "      <td>0.354582</td>\n",
       "    </tr>\n",
       "  </tbody>\n",
       "</table>\n",
       "</div>"
      ],
      "text/plain": [
       "              label Attribute   Attribute Value  P(Y = 1 | Attr = attr)\n",
       "0  general_two_year      race  African-American                0.496441\n",
       "1  general_two_year      race         Caucasian                0.407654\n",
       "2  general_two_year      race          Hispanic                0.338583\n",
       "3  general_two_year      race             Other                0.421569\n",
       "4  general_two_year       sex            female                0.354582"
      ]
     },
     "execution_count": 17,
     "metadata": {},
     "output_type": "execute_result"
    }
   ],
   "source": [
    "# merge dictionary into 1 df\n",
    "broward_recid_balance_df = (pd.concat(broward_recid_balance_groups, axis=0)\n",
    "                            .reset_index()\n",
    "                            .iloc[:, 2:])[['label', 'Attribute', 'Attribute Value', 'P(Y = 1 | Attr = attr)']]\n",
    "broward_recid_balance_df = broward_recid_balance_df.replace({'label': settings['decoders']['label']})\n",
    "broward_recid_balance_df.head()"
   ]
  },
  {
   "cell_type": "markdown",
   "metadata": {},
   "source": [
    "#### Broward Race Conditional Prob Plot"
   ]
  },
  {
   "cell_type": "code",
   "execution_count": 18,
   "metadata": {},
   "outputs": [],
   "source": [
    "from utils.plotting_helpers import safe_save_plt\n",
    "\n",
    "def prob_recid_conditioned_sensitive_attr(df:pd.DataFrame, \n",
    "                                          attribute:str, \n",
    "                                          dataset_name:str,\n",
    "                                          save_path:None):\n",
    "    # cast df from long to wide with each attribute being a different column \n",
    "    wide_df = (df[df[\"Attribute\"] == attribute]\n",
    "                .pivot(index='label', \n",
    "                       columns='Attribute Value', \n",
    "                       values=[ 'P(Y = 1 | Attr = attr)']))\n",
    "    \n",
    "    # get a list of unique columns\n",
    "    attribute_values = df[df[\"Attribute\"] == attribute ][\"Attribute Value\"].unique()\n",
    "    \n",
    "    # set width of bar\n",
    "    barWidth = 0.15\n",
    "\n",
    "    # set height of bar\n",
    "    bars = {attribute_value: {\"bar\": None, \"pos\": None} for attribute_value in attribute_values}\n",
    "    for attribute_value in attribute_values:\n",
    "        bars[attribute_value][\"bar\"] = wide_df[('P(Y = 1 | Attr = attr)', attribute_value)]\n",
    "        bar_len = len(bars[attribute_value][\"bar\"])\n",
    "\n",
    "    # Set position of bar on X axis\n",
    "    for i, (bar_name, bar_dict) in enumerate(bars.items()):\n",
    "        if i == 0:\n",
    "            bar_dict[\"pos\"] = np.arange(len(bar_dict[\"bar\"]))\n",
    "        else: \n",
    "            prev_bar_pos = bars[prev_bar_name][\"pos\"]\n",
    "            bar_dict[\"pos\"] = [x + barWidth for x in prev_bar_pos]\n",
    "        prev_bar_name = bar_name \n",
    "\n",
    "    # Make the plot\n",
    "    plt.figure(figsize=(10, 5))\n",
    "    plt.style.use('ggplot')\n",
    "    \n",
    "    colors = ['cornflowerblue', 'lightslategrey', 'lightskyblue', 'steelblue']\n",
    "    for i, (bar_name, bar_dict) in enumerate(bars.items()):\n",
    "        plt.bar(bar_dict[\"pos\"], bar_dict[\"bar\"], color=colors[i], width=barWidth, edgecolor='white', label=bar_name)\n",
    "\n",
    "    # Add xticks on the middle of the group bars\n",
    "    plt.xlabel('Prediction Problem', fontweight='bold')\n",
    "    plt.xticks([r + barWidth for r in range(len(afr_am_bar))], wide_df.index, rotation=45)\n",
    "\n",
    "    # Limit y axis to 0,1 \n",
    "    plt.ylim(0,1)\n",
    "    plt.ylabel('P(Y = 1 | Attr = attr)', fontweight='bold')\n",
    "\n",
    "    # Create legend, add title, & show/save graphic\n",
    "    plt.legend()\n",
    "    plt.title(f'Probability of recidivism (conditioned on {attribute}) is not the same for \\nany prediction problem on {dataset_name}')\n",
    "    \n",
    "    if save_path is not None: \n",
    "        safe_save_plt(plt, save_path)\n",
    "    plt.show()\n",
    "    plt.close()\n",
    "    return"
   ]
  },
  {
   "cell_type": "code",
   "execution_count": 19,
   "metadata": {},
   "outputs": [
    {
     "ename": "NameError",
     "evalue": "name 'afr_am_bar' is not defined",
     "output_type": "error",
     "traceback": [
      "\u001b[1;31m---------------------------------------------------------------------------\u001b[0m",
      "\u001b[1;31mNameError\u001b[0m                                 Traceback (most recent call last)",
      "\u001b[1;32m<ipython-input-19-87d9966e4bba>\u001b[0m in \u001b[0;36m<module>\u001b[1;34m()\u001b[0m\n\u001b[0;32m      2\u001b[0m                                       \u001b[1;34m\"race\"\u001b[0m\u001b[1;33m,\u001b[0m\u001b[1;33m\u001b[0m\u001b[0m\n\u001b[0;32m      3\u001b[0m                                       \u001b[0mdataset_name\u001b[0m \u001b[1;33m=\u001b[0m \u001b[1;34m\"Broward\"\u001b[0m\u001b[1;33m,\u001b[0m\u001b[1;33m\u001b[0m\u001b[0m\n\u001b[1;32m----> 4\u001b[1;33m                                       save_path = \"broward/logs/fairness_results/data_visualizations/broward_prob_recid_conditioned_race.pdf\")\n\u001b[0m\u001b[0;32m      5\u001b[0m prob_recid_conditioned_sensitive_attr(broward_recid_balance_df, \n\u001b[0;32m      6\u001b[0m                                       \u001b[1;34m\"sex\"\u001b[0m\u001b[1;33m,\u001b[0m\u001b[1;33m\u001b[0m\u001b[0m\n",
      "\u001b[1;32m<ipython-input-18-28402203154b>\u001b[0m in \u001b[0;36mprob_recid_conditioned_sensitive_attr\u001b[1;34m(df, attribute, dataset_name, save_path)\u001b[0m\n\u001b[0;32m     41\u001b[0m     \u001b[1;31m# Add xticks on the middle of the group bars\u001b[0m\u001b[1;33m\u001b[0m\u001b[1;33m\u001b[0m\u001b[0m\n\u001b[0;32m     42\u001b[0m     \u001b[0mplt\u001b[0m\u001b[1;33m.\u001b[0m\u001b[0mxlabel\u001b[0m\u001b[1;33m(\u001b[0m\u001b[1;34m'Prediction Problem'\u001b[0m\u001b[1;33m,\u001b[0m \u001b[0mfontweight\u001b[0m\u001b[1;33m=\u001b[0m\u001b[1;34m'bold'\u001b[0m\u001b[1;33m)\u001b[0m\u001b[1;33m\u001b[0m\u001b[0m\n\u001b[1;32m---> 43\u001b[1;33m     \u001b[0mplt\u001b[0m\u001b[1;33m.\u001b[0m\u001b[0mxticks\u001b[0m\u001b[1;33m(\u001b[0m\u001b[1;33m[\u001b[0m\u001b[0mr\u001b[0m \u001b[1;33m+\u001b[0m \u001b[0mbarWidth\u001b[0m \u001b[1;32mfor\u001b[0m \u001b[0mr\u001b[0m \u001b[1;32min\u001b[0m \u001b[0mrange\u001b[0m\u001b[1;33m(\u001b[0m\u001b[0mlen\u001b[0m\u001b[1;33m(\u001b[0m\u001b[0mafr_am_bar\u001b[0m\u001b[1;33m)\u001b[0m\u001b[1;33m)\u001b[0m\u001b[1;33m]\u001b[0m\u001b[1;33m,\u001b[0m \u001b[0mwide_df\u001b[0m\u001b[1;33m.\u001b[0m\u001b[0mindex\u001b[0m\u001b[1;33m,\u001b[0m \u001b[0mrotation\u001b[0m\u001b[1;33m=\u001b[0m\u001b[1;36m45\u001b[0m\u001b[1;33m)\u001b[0m\u001b[1;33m\u001b[0m\u001b[0m\n\u001b[0m\u001b[0;32m     44\u001b[0m \u001b[1;33m\u001b[0m\u001b[0m\n\u001b[0;32m     45\u001b[0m     \u001b[1;31m# Limit y axis to 0,1\u001b[0m\u001b[1;33m\u001b[0m\u001b[1;33m\u001b[0m\u001b[0m\n",
      "\u001b[1;31mNameError\u001b[0m: name 'afr_am_bar' is not defined"
     ]
    },
    {
     "data": {
      "image/png": "[encoded data removed]",
      "text/plain": [
       "<Figure size 720x360 with 1 Axes>"
      ]
     },
     "metadata": {},
     "output_type": "display_data"
    }
   ],
   "source": [
    "prob_recid_conditioned_sensitive_attr(broward_recid_balance_df, \n",
    "                                      \"race\", \n",
    "                                      dataset_name = \"Broward\",\n",
    "                                      save_path = \"broward/logs/fairness_results/data_visualizations/broward_prob_recid_conditioned_race.pdf\")\n",
    "prob_recid_conditioned_sensitive_attr(broward_recid_balance_df, \n",
    "                                      \"sex\", \n",
    "                                      dataset_name = \"Broward\",\n",
    "                                      save_path = \"broward/logs/fairness_results/data_visualizations/broward_prob_recid_conditioned_sex.pdf\")"
   ]
  },
  {
   "cell_type": "markdown",
   "metadata": {},
   "source": [
    "##### Same for Kentucky"
   ]
  },
  {
   "cell_type": "code",
   "execution_count": null,
   "metadata": {
    "scrolled": true
   },
   "outputs": [],
   "source": [
    "total_inds = kentucky_data.shape[0]\n",
    "# unpivot the sensitive attributes\n",
    "kentucky_attrs = (pd.melt(kentucky_data, id_vars =['person_id', 'screening_date'], value_vars=['sex', 'race'])\n",
    "                   .rename({'variable': 'Attribute',\n",
    "                            'value': 'Attribute Value'},\n",
    "                            axis=1)\n",
    "                    # concatenate the label info \n",
    "                   .merge(kentucky_data[['person_id', 'screening_date'] + settings[\"kentucky_labels\"]], \n",
    "                          on = ['person_id', 'screening_date'],\n",
    "                          how = 'left'))\n",
    "\n",
    "kentucky_recid_balance_groups = {}\n",
    "for label in settings['kentucky_labels']:\n",
    "    kentucky_attrs_label = kentucky_attrs[['person_id', 'screening_date', 'Attribute', 'Attribute Value'] + [label]]\n",
    "\n",
    "    res = (kentucky_attrs_label.groupby(['Attribute', 'Attribute Value'])\n",
    "                              .sum()[label]\n",
    "                              .to_frame('n_inds_recid')\n",
    "                              .reset_index())\n",
    "    \n",
    "    res['total_inds'] = total_inds\n",
    "    total_inds_with_attr = (kentucky_attrs_label\n",
    "                           .groupby(['Attribute', 'Attribute Value'])\n",
    "                           .size()\n",
    "                           .to_frame(\"total_inds_with_attr\")\n",
    "                           .reset_index())\n",
    "    \n",
    "    res = res.merge(total_inds_with_attr, on = ['Attribute', 'Attribute Value'], how='left')\n",
    "    res['P(Y = 1 | Attr = attr)'] = res['n_inds_recid']/res['total_inds_with_attr']\n",
    "    res['P(Y = 1,  Attr = attr)'] = res['n_inds_recid']/total_inds\n",
    "    res['label'] = label\n",
    "    \n",
    "    res.set_index('label')\n",
    "    kentucky_recid_balance_groups[label] = res"
   ]
  },
  {
   "cell_type": "code",
   "execution_count": null,
   "metadata": {},
   "outputs": [],
   "source": [
    "# merge dictionary into 1 df\n",
    "kentucky_recid_balance_df = (pd.concat(kentucky_recid_balance_groups, axis=0)\n",
    "                            .reset_index()\n",
    "                            .iloc[:, 2:])[['label', 'Attribute', 'Attribute Value', 'P(Y = 1 | Attr = attr)']]\n",
    "kentucky_recid_balance_df.head()"
   ]
  },
  {
   "cell_type": "code",
   "execution_count": null,
   "metadata": {},
   "outputs": [],
   "source": [
    "prob_recid_conditioned_sensitive_attr(kentucky_recid_balance_df, \n",
    "                                      \"race\", \n",
    "                                      dataset_name = \"Kentucky\",\n",
    "                                      save_path = \"kentucky/logs/fairness_results/data_visualizations/kentucky_prob_recid_conditioned_race.pdf\")\n",
    "\n",
    "prob_recid_conditioned_sensitive_attr(kentucky_recid_balance_df, \n",
    "                                      \"sex\", \n",
    "                                      dataset_name = \"Kentucky\",\n",
    "                                      save_path = \"kentucky/logs/fairness_results/data_visualizations/kentucky_prob_recid_conditioned_sex.pdf\")"
   ]
  }
 ],
 "metadata": {
  "kernelspec": {
   "display_name": "Python 3",
   "language": "python",
   "name": "python3"
  },
  "language_info": {
   "codemirror_mode": {
    "name": "ipython",
    "version": 3
   },
   "file_extension": ".py",
   "mimetype": "text/x-python",
   "name": "python",
   "nbconvert_exporter": "python",
   "pygments_lexer": "ipython3",
   "version": "3.6.5"
  }
 },
 "nbformat": 4,
 "nbformat_minor": 2
}
