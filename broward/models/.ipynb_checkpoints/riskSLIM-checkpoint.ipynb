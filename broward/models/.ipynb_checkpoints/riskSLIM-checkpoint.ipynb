{
 "cells": [
  {
   "cell_type": "code",
   "execution_count": 81,
   "metadata": {},
   "outputs": [],
   "source": [
    "import sys,os\n",
    "srcpath = \"C:/Users/Caroline Wang/src/risk-slim-11-11-18\"\n",
    "sys.path.insert(0, srcpath)\n",
    "\n",
    "import numpy as np\n",
    "import pandas as pd\n",
    "import matplotlib.pyplot as plt\n",
    "\n",
    "import pickle\n",
    "from utils import expand_grid\n",
    "from pprint import pprint\n",
    "\n",
    "from sklearn.model_selection import train_test_split, KFold\n",
    "from sklearn.metrics import roc_curve, auc\n",
    "from sklearn.utils import shuffle\n",
    "\n",
    "\n",
    "import cplex as cplex\n",
    "from riskslim.helper_functions import load_data_from_csv, print_model\n",
    "from riskslim.setup_functions import get_conservative_offset\n",
    "from riskslim.coefficient_set import CoefficientSet\n",
    "from riskslim.lattice_cpa import setup_lattice_cpa, finish_lattice_cpa"
   ]
  },
  {
   "cell_type": "markdown",
   "metadata": {},
   "source": [
    "## RiskSLIM "
   ]
  },
  {
   "cell_type": "markdown",
   "metadata": {},
   "source": [
    "Data Processing"
   ]
  },
  {
   "cell_type": "code",
   "execution_count": 72,
   "metadata": {},
   "outputs": [],
   "source": [
    "%%capture\n",
    "\n",
    "train_name = \"train_stumps\"                                      \n",
    "test_name = \"test_stumps\"                                      # name of the data\n",
    "\n",
    "# data_dir = os.getcwd()                                      # directory where datasets are stored\n",
    "data_dir = \"../data/\"      #new change unsure if works        # directory where datasets are stored\n",
    "\n",
    "train_csv = data_dir + train_name + \".csv\"     # csv file for the train dataset\n",
    "test_csv = data_dir + test_name  + \".csv\"         # csv file for the test dataset\n",
    "\n",
    "#data formatted for our own eval functions\n",
    "train = pd.read_csv(train_csv)\n",
    "test = pd.read_csv(test_csv)\n",
    "X_train, Y_train = train.iloc[:,1:], train.iloc[:,0].values\n",
    "X_test, Y_test = test.iloc[:,1:], test.iloc[:,0].values\n",
    "\n",
    "#data formatted for riskSLIM\n",
    "#we utilize the riskSLIM's data processing function for debugging purposes\n",
    "riskslim_train = load_data_from_csv(dataset_csv_file = train_csv)\n"
   ]
  },
  {
   "cell_type": "markdown",
   "metadata": {},
   "source": [
    "In the stumps dataset, for age vars, have values eighteen, nineteen, twenty, twenty1, twenty2, twenty3, twenty4, twenty6, twenty8, thirty, thirty2, thirty4, thirty6, thirty8, forty, forty4, forty8, fifty2, fifty6, sixty, sixty5. "
   ]
  },
  {
   "cell_type": "code",
   "execution_count": 73,
   "metadata": {},
   "outputs": [
    {
     "name": "stdout",
     "output_type": "stream",
     "text": [
      "{'X': array([[1., 0., 1., ..., 0., 1., 0.],\n",
      "       [1., 0., 1., ..., 0., 1., 0.],\n",
      "       [1., 0., 0., ..., 0., 1., 0.],\n",
      "       ...,\n",
      "       [1., 0., 0., ..., 0., 1., 1.],\n",
      "       [1., 0., 1., ..., 0., 0., 0.],\n",
      "       [1., 0., 0., ..., 0., 1., 1.]]), 'Y': array([[ 1],\n",
      "       [ 1],\n",
      "       [-1],\n",
      "       ...,\n",
      "       [-1],\n",
      "       [-1],\n",
      "       [ 1]], dtype=int64), 'variable_names': ['(Intercept)', 'p_current_age_eighteen', 'p_current_age_twenty2', 'p_current_age_twenty6', 'p_current_age_thirty2', 'p_current_age_forty', 'p_current_age_forty8', 'p_current_age_sixty', 'fail_appear_two_plus_one', 'fail_appear_two_plus_five', 'fail_appear_two_yr_one', 'fail_appear_two_yr_five', 'p_arrest_one', 'p_arrest_five', 'p_arrest_nine', 'p_charge_one', 'p_charge_five', 'p_charge_violent_one', 'p_charge_violent_five', 'p_drug_one', 'p_drug_five', 'p_juv_fel_count_one', 'p_juv_fel_count_seven', 'p_misdem_count_person_one', 'p_misdem_count_person_nine', 'p_misdemassault_arrest_one', 'p_misdemassault_arrest_five', 'p_murder_arrest_one', 'p_murder_arrest_five', 'p_n_on_probation_one', 'p_n_on_probation_five', 'p_prison_one', 'p_prison_five', 'p_probation_three', 'p_probation_four', 'p_probation_six', 'p_probation_seven', 'p_property_one', 'p_property_eight', 'p_sex_arrest_two', 'p_sex_arrest_six', 'p_sex_arrest_seven', 'p_stalking_one', 'p_stalking_five', 'p_weapons_arrest_one', 'p_weapons_arrest_five', 'prior_conviction_M_one', 'prior_conviction_M_seven'], 'outcome_name': 'recid_use', 'sample_weights': array([1., 1., 1., ..., 1., 1., 1.])}\n"
     ]
    }
   ],
   "source": [
    "#select a subset of features to work with\n",
    "adaboost_subset = [\"p_current_age_eighteen\",\"p_current_age_twenty2\", \"p_current_age_twenty6\", \"p_current_age_thirty2\",\n",
    "                   \"p_current_age_forty\", \"p_current_age_forty8\", \"p_current_age_sixty\",\n",
    "#                     \"p_age_first_offense_thirty8\", \"p_age_first_offense_thirty\", \"p_age_first_offense_sixty\",\n",
    "                    \"fail_appear_two_plus_one\", \"fail_appear_two_plus_five\",\n",
    "                    \"fail_appear_two_yr_one\", \"fail_appear_two_yr_five\",\n",
    "#                     \"is_misdem_one\", #boolean variable\n",
    "                    \"p_arrest_one\",\"p_arrest_five\", \"p_arrest_nine\", \n",
    "                    \"p_charge_one\", \"p_charge_five\", \n",
    "                    \"p_charge_violent_one\", \"p_charge_violent_five\", \n",
    "                    \"p_drug_one\", \"p_drug_five\",\n",
    "                    \"p_juv_fel_count_one\", \"p_juv_fel_count_seven\", \n",
    "                    \"p_misdem_count_person_one\", \"p_misdem_count_person_nine\", \n",
    "                    \"p_misdemassault_arrest_one\", \"p_misdemassault_arrest_five\",\n",
    "                     \"p_murder_arrest_one\", \"p_murder_arrest_five\", \n",
    "                     \"p_n_on_probation_one\", \"p_n_on_probation_five\",\n",
    "                    \"p_prison_one\", \"p_prison_five\",\n",
    "                     \"p_probation_three\", \"p_probation_four\", \"p_probation_six\", \"p_probation_seven\", \n",
    "                    \"p_property_one\", \"p_property_eight\", \n",
    "                    \"p_sex_arrest_two\",\"p_sex_arrest_six\", \"p_sex_arrest_seven\",\n",
    "                    \"p_stalking_one\", \"p_stalking_five\",\n",
    "                    \"p_weapons_arrest_one\", \"p_weapons_arrest_five\", \n",
    "                    \"prior_conviction_M_one\", \"prior_conviction_M_seven\"]\n",
    "\n",
    "#select subset of features for data\n",
    "X_train, X_test = X_train[adaboost_subset].values, X_test[adaboost_subset].values\n",
    "\n",
    "#change labels to 1 and 0 \n",
    "Y_train[Y_train == -1] = 0\n",
    "Y_test[Y_test == -1] = 0\n",
    "\n",
    "#select subset of features for riskslim formatted training data \n",
    "intercept_col = np.ones(X_train.shape[0])\n",
    "intercept_col.shape = (X_train.shape[0],1)\n",
    "riskslim_train['X'] = np.hstack((intercept_col, X_train))\n",
    "riskslim_train['variable_names'] = ['(Intercept)'] + adaboost_subset\n",
    "print(riskslim_train)"
   ]
  },
  {
   "cell_type": "markdown",
   "metadata": {},
   "source": [
    "Tips from Berk on riskSLIm:     \n",
    "    \n",
    "    1. to add a constraint like \"either \"CellSize\" or \"CellShape\"\n",
    "    you must formulate the constraint in terms of the alpha variables\n",
    "    alpha[cell_size] + alpha[cell_shape] <= 1 to MIP\n",
    "    mip.linear_constraints.add(\n",
    "            names = [\"EitherOr_CellSize_or_CellShape\"],\n",
    "            lin_expr = [cplex.SparsePair(ind = get_alpha_ind(['UniformityOfCellSize', 'UniformityOfCellShape']),\n",
    "                                         val = [1.0, 1.0])],\n",
    "            senses = \"L\",\n",
    "            rhs = [1.0])\n",
    "            \n",
    "    2. to add a constraint like \"either \"CellSize\" or \"CellShape\"\n",
    "       you must formulate the constraint in terms of the alpha variables\n",
    "       alpha[cell_size] + alpha[cell_shape] <= 1 to MIP\n",
    "       mip.linear_constraints.add(\n",
    "             names = [\"EitherOr_CellSize_or_CellShape\"],\n",
    "             lin_expr = [cplex.SparsePair(ind = get_alpha_ind(['UniformityOfCellSize', 'UniformityOfCellShape']),\n",
    "                                          val = [1.0, 1.0])],\n",
    "             senses = \"L\",\n",
    "             rhs = [1.0])\n",
    "\n"
   ]
  },
  {
   "cell_type": "code",
   "execution_count": 68,
   "metadata": {},
   "outputs": [],
   "source": [
    "def fit_riskSLIM(data, params): \n",
    "    '''\n",
    "    @param data = {\n",
    "        \"X\": train, (ndarray)\n",
    "        \"Y\": test,  (ndarray)\n",
    "        \"sample_weights\": sample_weights\n",
    "        \"variable_names\": variable_names\n",
    "    }\n",
    "    @param params: dictionary containing parameters \n",
    "    '''\n",
    "\n",
    "    settings = {\n",
    "        # Problem Parameters\n",
    "        'c0_value': params['c0_value'],\n",
    "        'w_pos': params['w_pos'],\n",
    "        #\n",
    "        # LCPA Settings\n",
    "        'max_runtime': params['max_runtime'],                               # max runtime for LCPA\n",
    "        'max_tolerance': np.finfo('float').eps,             # tolerance to stop LCPA (set to 0 to return provably optimal solution)\n",
    "        'display_cplex_progress': False,                     # print CPLEX progress on screen\n",
    "        'loss_computation': 'normal',                       # how to compute the loss function ('normal','fast','lookup')\n",
    "        #\n",
    "        # RiskSLIM MIP settings\n",
    "        'drop_variables': False,\n",
    "        #\n",
    "        # LCPA Improvements\n",
    "        'round_flag': False,                                # round continuous solutions with SeqRd\n",
    "        'polish_flag': False,                               # polish integer feasible solutions with DCD\n",
    "        'chained_updates_flag': False,                      # use chained updates\n",
    "        'initialization_flag': False,                       # use initialization procedure\n",
    "        'init_max_runtime': 300.0,                          # max time to run CPA in initialization procedure\n",
    "        'add_cuts_at_heuristic_solutions': True,            # add cuts at integer feasible solutions found using polishing/rounding\n",
    "        #\n",
    "        # CPLEX Solver Parameters\n",
    "        'cplex_randomseed': 0,                              # random seed\n",
    "        'cplex_mipemphasis': 0,                             # cplex MIP strategy\n",
    "    }\n",
    "\n",
    "    # # turn on at your own risk\n",
    "    # settings['round_flag'] = False\n",
    "    # settings['polish_flag'] = False\n",
    "    # settings['chained_updates_flag'] = False\n",
    "    # settings['initialization_flag'] = False\n",
    "    N, P = data[\"X\"].shape\n",
    "\n",
    "    # create coefficient set and set the value of the offset parameter\n",
    "    coef_set = CoefficientSet(variable_names=data['variable_names'], lb=params['min_coefficient'], ub=params['max_coefficient'], sign=1)\n",
    "    conservative_offset = get_conservative_offset(data, coef_set, int(params['max_L0_value']))\n",
    "    max_offset = min(params['max_offset'], conservative_offset)\n",
    "    \n",
    "    coef_set['(Intercept)'].ub = max_offset\n",
    "    coef_set['(Intercept)'].lb = -max_offset\n",
    "\n",
    "    # create constraint\n",
    "    trivial_L0_max = P - np.sum(coef_set.C_0j == 0)\n",
    "    max_L0_value = min(int(params['max_L0_value']), trivial_L0_max)\n",
    "\n",
    "    constraints = {\n",
    "        'L0_min': 0,\n",
    "        'L0_max': max_L0_value,\n",
    "        'coef_set':coef_set,\n",
    "    }\n",
    "\n",
    "    # initialize MIP for lattice CPA\n",
    "    mip_objects = setup_lattice_cpa(data, constraints, settings)\n",
    "\n",
    "    # add operational constraints\n",
    "    mip, indices = mip_objects['mip'], mip_objects['indices']\n",
    "    get_alpha_name = lambda var_name: 'alpha_' + str(data['variable_names'].index(var_name))\n",
    "    get_alpha_ind = lambda var_names: [get_alpha_name(v) for v in var_names]\n",
    "\n",
    "\n",
    "    mip_objects['mip'] = mip\n",
    "\n",
    "    # pass MIP back to lattice CPA so that it will solve\n",
    "    model_info, mip_info, lcpa_info = finish_lattice_cpa(data, constraints, mip_objects, settings)\n",
    "    #model_info contains the actual model\n",
    "    return model_info, mip_info, lcpa_info"
   ]
  },
  {
   "cell_type": "code",
   "execution_count": 69,
   "metadata": {},
   "outputs": [],
   "source": [
    "def riskslim_prediction(X, model_info, subtraction_score):\n",
    "    \"\"\"\n",
    "    @parameters\n",
    "    X: test input features (array)\n",
    "    model_info: output from RiskSLIM model\n",
    "    subtraction_score: the score used to calculate probability\n",
    "    \"\"\"\n",
    "    \n",
    "    ## initialize parameters\n",
    "    dictionary = {}\n",
    "    prob = np.zeros(len(X))\n",
    "    scores = np.zeros(len(X))\n",
    "    \n",
    "    ## prepare statistics\n",
    "    coefs = model_info['solution'][1:]\n",
    "    index = np.where(coefs != 0)[0]\n",
    "    \n",
    "    nonzero_coefs = coefs[index]\n",
    "    features = cols[index]\n",
    "    X_sub = X[:,index]\n",
    "    \n",
    "    ## build dictionaries\n",
    "    for i in range(len(index)):\n",
    "        feature_name = features[i]\n",
    "        coef = nonzero_coefs[i]\n",
    "        dictionary.update({feature_name: coef})\n",
    "        \n",
    "    ## calculate probability\n",
    "    for i in range(len(X_sub)):\n",
    "        summation = 0\n",
    "        for j in range(len(features)):\n",
    "            a = X_sub[i,j]\n",
    "            summation += dictionary[features[j]] * a\n",
    "    \n",
    "        scores[i] = summation\n",
    "    \n",
    "    prob = 1/(1+np.exp(-(scores - subtraction_score)))\n",
    "    \n",
    "    return prob\n",
    "\n",
    "def riskslim_accuracy(X, Y, model_info, subtraction_score, threshold=0.5):\n",
    "    \n",
    "    prob = riskslim_prediction(X, model_info, subtraction_score)\n",
    "    pred = np.mean((prob > threshold) == Y)\n",
    "    \n",
    "    return pred"
   ]
  },
  {
   "cell_type": "code",
   "execution_count": null,
   "metadata": {},
   "outputs": [],
   "source": []
  },
  {
   "cell_type": "markdown",
   "metadata": {},
   "source": [
    "Code to actually run riskSLIM"
   ]
  },
  {
   "cell_type": "code",
   "execution_count": 74,
   "metadata": {},
   "outputs": [
    {
     "name": "stdout",
     "output_type": "stream",
     "text": [
      "setting c0 = 0.0 to ensure that intercept is not penalized\n",
      "05/25/19 @ 05:15 PM | switching loss computation from normal to lookup\n",
      "05/25/19 @ 05:15 PM | 961 rows in lookup table\n",
      "05/25/19 @ 05:15 PM | switching loss computation from normal to lookup\n",
      "05/25/19 @ 05:15 PM | 961 rows in lookup table\n",
      "PREDICT STRING:  Pr(RECID_USE = +1) = 1/(1 + exp(-3 - score)  TOTAL STRING:  ADD POINTS FROM ROWS 1 to 6  RHO_NAMES:  ['p_probation_seven', 'p_arrest_one', 'p_current_age_twenty6', 'fail_appear_two_yr_one', 'p_charge_violent_five', 'prior_conviction_M_seven']\n",
      "+-----------------------------------------------+------------------+-----------+\n",
      "| Pr(RECID_USE = +1) = 1/(1 + exp(-3 - score)   |                  |           |\n",
      "| ============================================= | ================ | ========= |\n",
      "| p_probation_seven                             |         4 points |   + ..... |\n",
      "| p_arrest_one                                  |         2 points |   + ..... |\n",
      "| p_current_age_twenty6                         |         1 points |   + ..... |\n",
      "| fail_appear_two_yr_one                        |         1 points |   + ..... |\n",
      "| p_charge_violent_five                         |         1 points |   + ..... |\n",
      "| prior_conviction_M_seven                      |         1 points |   + ..... |\n",
      "| ============================================= | ================ | ========= |\n",
      "| ADD POINTS FROM ROWS 1 to 6                   |            SCORE |   = ..... |\n",
      "+-----------------------------------------------+------------------+-----------+\n"
     ]
    },
    {
     "data": {
      "text/plain": [
       "<prettytable.PrettyTable at 0x17a51d65ac8>"
      ]
     },
     "execution_count": 74,
     "metadata": {},
     "output_type": "execute_result"
    }
   ],
   "source": [
    "# problem parameters\n",
    "params = {\n",
    "    \"max_coefficient\" : 10,                                        # value of largest/smallest coefficient\n",
    "    \"min_coefficient\" : 0,                                         # sets the lower bound on the coeffs\n",
    "    \"max_L0_value\" : 6,                                            \n",
    "    \"max_offset\" : 50,                                             # maximum value of offset parameter (optional)\n",
    "    \"c0_value\" : 1e-6,                                             # L0-penalty parameter such that c0_value > 0; larger values -> sparser models; we set to a small value (1e-6) so that we get a model with max_L0_value terms\n",
    "    \"w_pos\" : 1.00,                                                # relative weight on examples with y = +1; w_neg = 1.00 (optional)\n",
    "    \"max_runtime\": 900\n",
    "    }\n",
    "\n",
    "model_info, mip_info, lcpa_info = fit_riskSLIM(riskslim_train , params)\n",
    "print_model(model_info['solution'], riskslim_train)"
   ]
  },
  {
   "cell_type": "code",
   "execution_count": 75,
   "metadata": {},
   "outputs": [
    {
     "data": {
      "text/plain": [
       "0.6058981233243967"
      ]
     },
     "execution_count": 75,
     "metadata": {},
     "output_type": "execute_result"
    }
   ],
   "source": [
    "subtraction_score = 3\n",
    "riskslim_accuracy(X_test, Y_test, model_info, subtraction_score)"
   ]
  },
  {
   "cell_type": "markdown",
   "metadata": {},
   "source": [
    "## Cross validation"
   ]
  },
  {
   "cell_type": "code",
   "execution_count": 77,
   "metadata": {},
   "outputs": [
    {
     "name": "stdout",
     "output_type": "stream",
     "text": [
      "setting c0 = 0.0 to ensure that intercept is not penalized\n",
      "05/25/19 @ 05:56 PM | switching loss computation from normal to lookup\n",
      "05/25/19 @ 05:56 PM | 931 rows in lookup table\n",
      "05/25/19 @ 05:56 PM | switching loss computation from normal to lookup\n",
      "05/25/19 @ 05:56 PM | 931 rows in lookup table\n",
      "PREDICT STRING:  Pr(RECID_USE = +1) = 1/(1 + exp(-2 - score)  TOTAL STRING:  ADD POINTS FROM ROWS 1 to 5  RHO_NAMES:  ['p_juv_fel_count_seven', 'p_probation_seven', 'p_current_age_thirty2', 'p_misdem_count_person_one', 'p_misdem_count_person_nine']\n",
      "+-----------------------------------------------+-------------------+-----------+\n",
      "| Pr(RECID_USE = +1) = 1/(1 + exp(-2 - score)   |                   |           |\n",
      "| ============================================= | ================= | ========= |\n",
      "| p_juv_fel_count_seven                         |         10 points |   + ..... |\n",
      "| p_probation_seven                             |          2 points |   + ..... |\n",
      "| p_current_age_thirty2                         |          1 points |   + ..... |\n",
      "| p_misdem_count_person_one                     |          1 points |   + ..... |\n",
      "| p_misdem_count_person_nine                    |          1 points |   + ..... |\n",
      "| ============================================= | ================= | ========= |\n",
      "| ADD POINTS FROM ROWS 1 to 5                   |             SCORE |   = ..... |\n",
      "+-----------------------------------------------+-------------------+-----------+\n",
      "setting c0 = 0.0 to ensure that intercept is not penalized\n",
      "05/25/19 @ 06:01 PM | switching loss computation from normal to lookup\n",
      "05/25/19 @ 06:01 PM | 961 rows in lookup table\n",
      "05/25/19 @ 06:01 PM | switching loss computation from normal to lookup\n",
      "05/25/19 @ 06:01 PM | 961 rows in lookup table\n",
      "PREDICT STRING:  Pr(RECID_USE = +1) = 1/(1 + exp(-5 - score)  TOTAL STRING:  ADD POINTS FROM ROWS 1 to 5  RHO_NAMES:  ['p_arrest_one', 'p_current_age_twenty6', 'p_charge_violent_five', 'p_misdem_count_person_one', 'prior_conviction_M_seven']\n",
      "+-----------------------------------------------+------------------+-----------+\n",
      "| Pr(RECID_USE = +1) = 1/(1 + exp(-5 - score)   |                  |           |\n",
      "| ============================================= | ================ | ========= |\n",
      "| p_arrest_one                                  |         3 points |   + ..... |\n",
      "| p_current_age_twenty6                         |         1 points |   + ..... |\n",
      "| p_charge_violent_five                         |         1 points |   + ..... |\n",
      "| p_misdem_count_person_one                     |         1 points |   + ..... |\n",
      "| prior_conviction_M_seven                      |         1 points |   + ..... |\n",
      "| ============================================= | ================ | ========= |\n",
      "| ADD POINTS FROM ROWS 1 to 5                   |            SCORE |   = ..... |\n",
      "+-----------------------------------------------+------------------+-----------+\n",
      "setting c0 = 0.0 to ensure that intercept is not penalized\n",
      "05/25/19 @ 06:06 PM | switching loss computation from normal to lookup\n",
      "05/25/19 @ 06:06 PM | 941 rows in lookup table\n",
      "05/25/19 @ 06:06 PM | switching loss computation from normal to lookup\n",
      "05/25/19 @ 06:06 PM | 941 rows in lookup table\n",
      "PREDICT STRING:  Pr(RECID_USE = +1) = 1/(1 + exp(-2 - score)  TOTAL STRING:  ADD POINTS FROM ROWS 1 to 6  RHO_NAMES:  ['p_current_age_twenty6', 'fail_appear_two_plus_one', 'fail_appear_two_yr_one', 'p_arrest_one', 'p_charge_violent_five', 'prior_conviction_M_seven']\n",
      "+-----------------------------------------------+------------------+-----------+\n",
      "| Pr(RECID_USE = +1) = 1/(1 + exp(-2 - score)   |                  |           |\n",
      "| ============================================= | ================ | ========= |\n",
      "| p_current_age_twenty6                         |         1 points |   + ..... |\n",
      "| fail_appear_two_plus_one                      |         1 points |   + ..... |\n",
      "| fail_appear_two_yr_one                        |         1 points |   + ..... |\n",
      "| p_arrest_one                                  |         1 points |   + ..... |\n",
      "| p_charge_violent_five                         |         1 points |   + ..... |\n",
      "| prior_conviction_M_seven                      |         1 points |   + ..... |\n",
      "| ============================================= | ================ | ========= |\n",
      "| ADD POINTS FROM ROWS 1 to 6                   |            SCORE |   = ..... |\n",
      "+-----------------------------------------------+------------------+-----------+\n",
      "setting c0 = 0.0 to ensure that intercept is not penalized\n",
      "05/25/19 @ 06:11 PM | switching loss computation from normal to lookup\n",
      "05/25/19 @ 06:11 PM | 961 rows in lookup table\n",
      "05/25/19 @ 06:11 PM | switching loss computation from normal to lookup\n",
      "05/25/19 @ 06:11 PM | 961 rows in lookup table\n",
      "PREDICT STRING:  Pr(RECID_USE = +1) = 1/(1 + exp(-2 - score)  TOTAL STRING:  ADD POINTS FROM ROWS 1 to 6  RHO_NAMES:  ['p_probation_seven', 'p_current_age_twenty6', 'fail_appear_two_yr_one', 'p_charge_violent_five', 'p_misdem_count_person_one', 'prior_conviction_M_seven']\n",
      "+-----------------------------------------------+------------------+-----------+\n",
      "| Pr(RECID_USE = +1) = 1/(1 + exp(-2 - score)   |                  |           |\n",
      "| ============================================= | ================ | ========= |\n",
      "| p_probation_seven                             |         2 points |   + ..... |\n",
      "| p_current_age_twenty6                         |         1 points |   + ..... |\n",
      "| fail_appear_two_yr_one                        |         1 points |   + ..... |\n",
      "| p_charge_violent_five                         |         1 points |   + ..... |\n",
      "| p_misdem_count_person_one                     |         1 points |   + ..... |\n",
      "| prior_conviction_M_seven                      |         1 points |   + ..... |\n",
      "| ============================================= | ================ | ========= |\n",
      "| ADD POINTS FROM ROWS 1 to 6                   |            SCORE |   = ..... |\n",
      "+-----------------------------------------------+------------------+-----------+\n",
      "setting c0 = 0.0 to ensure that intercept is not penalized\n",
      "05/25/19 @ 06:16 PM | switching loss computation from normal to lookup\n",
      "05/25/19 @ 06:16 PM | 961 rows in lookup table\n",
      "05/25/19 @ 06:16 PM | switching loss computation from normal to lookup\n",
      "05/25/19 @ 06:16 PM | 961 rows in lookup table\n",
      "PREDICT STRING:  Pr(RECID_USE = +1) = 1/(1 + exp(-12 - score)  TOTAL STRING:  ADD POINTS FROM ROWS 1 to 6  RHO_NAMES:  ['p_charge_one', 'p_current_age_eighteen', 'p_current_age_thirty2', 'p_misdem_count_person_one', 'p_property_eight', 'prior_conviction_M_seven']\n",
      "+------------------------------------------------+-------------------+-----------+\n",
      "| Pr(RECID_USE = +1) = 1/(1 + exp(-12 - score)   |                   |           |\n",
      "| ============================================== | ================= | ========= |\n",
      "| p_charge_one                                   |         10 points |   + ..... |\n",
      "| p_current_age_eighteen                         |          1 points |   + ..... |\n",
      "| p_current_age_thirty2                          |          1 points |   + ..... |\n",
      "| p_misdem_count_person_one                      |          1 points |   + ..... |\n",
      "| p_property_eight                               |          1 points |   + ..... |\n",
      "| prior_conviction_M_seven                       |          1 points |   + ..... |\n",
      "| ============================================== | ================= | ========= |\n",
      "| ADD POINTS FROM ROWS 1 to 6                    |             SCORE |   = ..... |\n",
      "+------------------------------------------------+-------------------+-----------+\n"
     ]
    }
   ],
   "source": [
    "n_folds = 5\n",
    "params = {\n",
    "    \"max_coefficient\" : 10,                                        # value of largest/smallest coefficient\n",
    "    \"min_coefficient\" : 0,                                         # sets the lower bound on the coeffs\n",
    "    \"max_L0_value\" : 6,                                            \n",
    "    \"max_offset\" : 50,                                             # maximum value of offset parameter (optional)\n",
    "    \"c0_value\" : 1e-6,                                             # L0-penalty parameter such that c0_value > 0; larger values -> sparser models; we set to a small value (1e-6) so that we get a model with max_L0_value terms\n",
    "    \"w_pos\" : 1.00,                                                # relative weight on examples with y = +1; w_neg = 1.00 (optional)\n",
    "    \"max_runtime\": 300\n",
    "    }\n",
    "\n",
    "cv = KFold(n_splits=n_folds, random_state=816, shuffle=True)\n",
    "results = []\n",
    "x_train_agg, x_test_agg = [], []\n",
    "y_train_agg, y_test_agg = [], []\n",
    "model_information = []\n",
    "\n",
    "for train_inds, test_inds in cv.split(riskslim_train['X'], riskslim_train['Y']):\n",
    "    \n",
    "    ## subset train data & store test data\n",
    "#     X_train, Y_train = riskslim_train['X'][train_inds], riskslim_train['Y'][train_inds]\n",
    "    X_test, Y_test = riskslim_train['X'][test_inds], riskslim_train['Y'][test_inds]\n",
    "#     sample_weights_train = sample_weights[train_inds]\n",
    "#     sample_weights_test = sample_weights[test_inds]\n",
    "    \n",
    "    train_fold = {\n",
    "        \"X\": riskslim_train['X'][train_inds],  #features\n",
    "        \"Y\": riskslim_train['Y'][train_inds],  #labels\n",
    "        \"sample_weights\":  riskslim_train['sample_weights'][train_inds],\n",
    "        \"variable_names\":  riskslim_train['variable_names'], \n",
    "        \"outcome_name\": riskslim_train['outcome_name']\n",
    "    }\n",
    "\n",
    "    x_train_agg.append(train_fold[\"X\"])\n",
    "    y_train_agg.append(train_fold[\"Y\"])\n",
    "    \n",
    "    x_test_agg.append(X_test)\n",
    "    y_test_agg.append(Y_test)\n",
    "\n",
    "\n",
    "#     ## create new data dictionary\n",
    "#     new_train_data = {\n",
    "#         'X': X_train,\n",
    "#         'Y': Y_train,\n",
    "#         'variable_names': variable_names,\n",
    "#         'outcome_name': outcome_name,\n",
    "#         'sample_weights': sample_weights_train\n",
    "#     }\n",
    "        \n",
    "    ## fit the model\n",
    "    model_info, mip_info, lcpa_info = fit_riskSLIM(train_fold , params)\n",
    "    model_information.append(model_info)\n",
    "    print_model(model_info['solution'], train_fold)"
   ]
  },
  {
   "cell_type": "code",
   "execution_count": 78,
   "metadata": {},
   "outputs": [],
   "source": [
    "subtraction_scores = [2, 5, 2, 2, 12]\n"
   ]
  },
  {
   "cell_type": "code",
   "execution_count": 82,
   "metadata": {},
   "outputs": [
    {
     "data": {
      "text/plain": [
       "Text(0, 0.5, 'True Positive Rate')"
      ]
     },
     "execution_count": 82,
     "metadata": {},
     "output_type": "execute_result"
    },
    {
     "data": {
      "image/png": "[encoded data removed]",
      "text/plain": [
       "<Figure size 576x432 with 1 Axes>"
      ]
     },
     "metadata": {},
     "output_type": "display_data"
    },
    {
     "data": {
      "image/png": "[encoded data removed]",
      "text/plain": [
       "<Figure size 576x432 with 1 Axes>"
      ]
     },
     "metadata": {},
     "output_type": "display_data"
    },
    {
     "data": {
      "image/png": "[encoded data removed]",
      "text/plain": [
       "<Figure size 576x432 with 1 Axes>"
      ]
     },
     "metadata": {},
     "output_type": "display_data"
    },
    {
     "data": {
      "image/png": "[encoded data removed]",
      "text/plain": [
       "<Figure size 576x432 with 1 Axes>"
      ]
     },
     "metadata": {},
     "output_type": "display_data"
    },
    {
     "data": {
      "image/png": "[encoded data removed]",
      "text/plain": [
       "<Figure size 576x432 with 1 Axes>"
      ]
     },
     "metadata": {},
     "output_type": "display_data"
    }
   ],
   "source": [
    "test_acc = []\n",
    "train_acc = []\n",
    "\n",
    "for i in range(n_folds):\n",
    "#     plt.figure(figsize=(8,6))\n",
    "    test_prob = riskslim_prediction(x_test_agg[i], model_information[i], subtraction_scores[i])\n",
    "    train_prob = riskslim_prediction(x_train_agg[i], model_information[i], subtraction_scores[i])\n",
    "    y_test, y_train = y_test_agg[i], y_train_agg[i]\n",
    "    y_test[y_test == -1] = 0\n",
    "    y_train[y_train == -1] = 0\n",
    "    \n",
    "    test_acc.append(np.mean((test_prob > 0.5) == y_test))\n",
    "    train_acc.append(np.mean((train_prob > 0.5) == y_test))\n",
    "    ## compute ROC curve and AUC\n",
    "    fpr, tpr, thresholds = roc_curve(y_test, test_prob)\n",
    "    roc_auc = auc(fpr, tpr)\n",
    "    plt.plot(fpr, tpr, lw=1, alpha=0.8, \n",
    "             label = 'ROC fold %d (AUC = %0.2f)' % (i, roc_auc))\n",
    "    i += 1\n",
    "    \n",
    "plt.plot([0, 1], [0, 1], lw=2, linestyle = '--',color='black',alpha=.8)\n",
    "plt.title(\"ROC & AUC\")\n",
    "plt.legend(loc = \"lower right\")\n",
    "plt.xlim([-0.05, 1.05])\n",
    "plt.ylim([-0.05, 1.05])\n",
    "plt.xlabel('False Positive Rate')\n",
    "plt.ylabel('True Positive Rate')"
   ]
  },
  {
   "cell_type": "code",
   "execution_count": null,
   "metadata": {},
   "outputs": [],
   "source": [
    "test_acc\n",
    "train_acc"
   ]
  },
  {
   "cell_type": "markdown",
   "metadata": {},
   "source": [
    "################"
   ]
  },
  {
   "cell_type": "code",
   "execution_count": null,
   "metadata": {},
   "outputs": [],
   "source": [
    "#possible later implementation of nested c.v.\n",
    "setup = {\n",
    "    \"nfolds\" : 5\n",
    "}\n",
    "\n",
    "param_grid = expand_grid(params) #list of dictionaries \n",
    "nparam = len(param_grid)\n",
    "i_param_best = 0\n",
    "eval_varnames = dict.fromkeys([\"train_auc_mean\",\"train_auc_std\",\"test_auc_mean\",\"test_auc_std\"])\n",
    "seeds = np.random.randint(10000, size = nparam)\n",
    "performance = [] #a list of dictionaries \n",
    "\n",
    "for i, param_dict in enumerate(param_grid): \n",
    "    #always a different set of K folds....is that okay? \n",
    "    kfold = KFold(setup[\"nfolds\"], shuffle = True, random_state = seeds[i])\n",
    "    performance.append({\n",
    "        \"i_param\": i, \n",
    "        \"seed\": seeds[i]}.update(eval_varnames)\n",
    "        )\n",
    "\n",
    "    for train_inds, test_inds in kfold.split(riskslim_train['X'], riskslim_train['Y']):\n",
    "        train_folds = {\n",
    "            \"X\": riskslim_train['X'][train_inds],  #features\n",
    "            \"Y\": riskslim_train['Y'][train_inds],  #labels\n",
    "            \"sample_weights\":  riskslim_train['sample_weights'][train_inds],\n",
    "            \"variable_names\":  riskslim_train['variable_names']\n",
    "        }\n",
    "        \n",
    "        model_info, mip_info, lcpa_info = fit_riskSLIM(train_folds , param_dict)\n",
    "        print_model(model_info['solution'], train_folds)\n",
    "        riskslim_accuracy(X_test, Y_test, model_info, 7)\n"
   ]
  }
 ],
 "metadata": {
  "kernelspec": {
   "display_name": "Python 3",
   "language": "python",
   "name": "python3"
  },
  "language_info": {
   "codemirror_mode": {
    "name": "ipython",
    "version": 3
   },
   "file_extension": ".py",
   "mimetype": "text/x-python",
   "name": "python",
   "nbconvert_exporter": "python",
   "pygments_lexer": "ipython3",
   "version": "3.6.5"
  }
 },
 "nbformat": 4,
 "nbformat_minor": 2
}
