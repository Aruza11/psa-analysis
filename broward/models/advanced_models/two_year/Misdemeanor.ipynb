{
 "cells": [
  {
   "cell_type": "code",
   "execution_count": 1,
   "metadata": {},
   "outputs": [
    {
     "name": "stdout",
     "output_type": "stream",
     "text": [
      "Current working directory is now:  C:\\Users\\binha\\Documents\\Duke\\Cynthia Research\\psa-analysis - test\n",
      "no stored variable summary_M2_broward_interpret\n"
     ]
    },
    {
     "name": "stderr",
     "output_type": "stream",
     "text": [
      "C:\\Users\\binha\\Anaconda3\\lib\\site-packages\\sklearn\\externals\\six.py:31: DeprecationWarning:\n",
      "\n",
      "The module is deprecated in version 0.21 and will be removed in version 0.23 since we've dropped support for Python 2.7. Please rely on the official version of six (https://pypi.org/project/six/).\n",
      "\n"
     ]
    }
   ],
   "source": [
    "import os \n",
    "os.chdir('../../../../')\n",
    "print(\"Current working directory is now: \", os.getcwd())\n",
    "\n",
    "import pandas as pd \n",
    "import numpy as np\n",
    "import csv\n",
    "import utils.baseline_functions as base\n",
    "import stumps\n",
    "import RiskSLIM as slim\n",
    "\n",
    "from sklearn.linear_model import LogisticRegression\n",
    "from sklearn.model_selection import KFold, GridSearchCV\n",
    "from sklearn.metrics import roc_auc_score\n",
    "\n",
    "# restore saved variables\n",
    "%store -r summary_M2_broward_interpret"
   ]
  },
  {
   "cell_type": "markdown",
   "metadata": {},
   "source": [
    "### CART & EBM"
   ]
  },
  {
   "cell_type": "code",
   "execution_count": 2,
   "metadata": {},
   "outputs": [],
   "source": [
    "data = pd.read_csv(\"~/Documents/Duke/Cynthia Research/KY-analysis-mytrials/broward/data/broward_data.csv\")\n",
    "x = data.loc[:,:'five_year']\n",
    "y = data['recid_M2'].values"
   ]
  },
  {
   "cell_type": "code",
   "execution_count": 3,
   "metadata": {
    "scrolled": true
   },
   "outputs": [
    {
     "name": "stdout",
     "output_type": "stream",
     "text": [
      "model_id, score_thresholds 0 {'rank_abs': [0]}\n",
      "get_disparity_predefined_group()\n",
      "model_id, score_thresholds 0 {'rank_abs': [0]}\n",
      "get_disparity_predefined_group()\n",
      "model_id, score_thresholds 0 {'rank_abs': [38]}\n",
      "get_disparity_predefined_group()\n",
      "model_id, score_thresholds 0 {'rank_abs': [34]}\n",
      "get_disparity_predefined_group()\n",
      "model_id, score_thresholds 0 {'rank_abs': [0]}\n",
      "get_disparity_predefined_group()\n"
     ]
    },
    {
     "name": "stderr",
     "output_type": "stream",
     "text": [
      "WARNING:interpret.utils.all:Passing a numpy array to schema autogen when it should be dataframe.\n",
      "WARNING:interpret.utils.all:Passing a numpy array to schema autogen when it should be dataframe.\n",
      "WARNING:interpret.utils.all:Passing a numpy array to schema autogen when it should be dataframe.\n",
      "WARNING:interpret.utils.all:Passing a numpy array to schema autogen when it should be dataframe.\n",
      "WARNING:interpret.utils.all:Passing a numpy array to schema autogen when it should be dataframe.\n",
      "WARNING:interpret.utils.all:Passing a numpy array to schema autogen when it should be dataframe.\n",
      "WARNING:interpret.utils.all:Passing a numpy array to schema autogen when it should be dataframe.\n",
      "WARNING:interpret.utils.all:Passing a numpy array to schema autogen when it should be dataframe.\n",
      "WARNING:interpret.utils.all:Passing a numpy array to schema autogen when it should be dataframe.\n",
      "WARNING:interpret.utils.all:Passing a numpy array to schema autogen when it should be dataframe.\n",
      "WARNING:interpret.utils.all:Passing a numpy array to schema autogen when it should be dataframe.\n",
      "WARNING:interpret.utils.all:Passing a numpy array to schema autogen when it should be dataframe.\n",
      "WARNING:interpret.utils.all:Passing a numpy array to schema autogen when it should be dataframe.\n",
      "WARNING:interpret.utils.all:Passing a numpy array to schema autogen when it should be dataframe.\n",
      "WARNING:interpret.utils.all:Passing a numpy array to schema autogen when it should be dataframe.\n",
      "WARNING:interpret.utils.all:Passing a numpy array to schema autogen when it should be dataframe.\n",
      "WARNING:interpret.utils.all:Passing a numpy array to schema autogen when it should be dataframe.\n",
      "WARNING:interpret.utils.all:Passing a numpy array to schema autogen when it should be dataframe.\n",
      "WARNING:interpret.utils.all:Passing a numpy array to schema autogen when it should be dataframe.\n",
      "WARNING:interpret.utils.all:Passing a numpy array to schema autogen when it should be dataframe.\n",
      "WARNING:interpret.utils.all:Passing a numpy array to schema autogen when it should be dataframe.\n",
      "WARNING:interpret.utils.all:Passing a numpy array to schema autogen when it should be dataframe.\n",
      "WARNING:interpret.utils.all:Passing a numpy array to schema autogen when it should be dataframe.\n",
      "WARNING:interpret.utils.all:Passing a numpy array to schema autogen when it should be dataframe.\n",
      "WARNING:interpret.utils.all:Passing a numpy array to schema autogen when it should be dataframe.\n",
      "WARNING:interpret.utils.all:Passing a numpy array to schema autogen when it should be dataframe.\n",
      "WARNING:interpret.utils.all:Passing a numpy array to schema autogen when it should be dataframe.\n",
      "WARNING:interpret.utils.all:Passing a numpy array to schema autogen when it should be dataframe.\n",
      "WARNING:interpret.utils.all:Passing a numpy array to schema autogen when it should be dataframe.\n",
      "WARNING:interpret.utils.all:Passing a numpy array to schema autogen when it should be dataframe.\n",
      "WARNING:interpret.utils.all:Passing a numpy array to schema autogen when it should be dataframe.\n",
      "WARNING:interpret.utils.all:Passing a numpy array to schema autogen when it should be dataframe.\n"
     ]
    },
    {
     "name": "stdout",
     "output_type": "stream",
     "text": [
      "model_id, score_thresholds 0 {'rank_abs': [0]}\n",
      "get_disparity_predefined_group()\n"
     ]
    },
    {
     "name": "stderr",
     "output_type": "stream",
     "text": [
      "WARNING:interpret.utils.all:Passing a numpy array to schema autogen when it should be dataframe.\n",
      "WARNING:interpret.utils.all:Passing a numpy array to schema autogen when it should be dataframe.\n",
      "WARNING:interpret.utils.all:Passing a numpy array to schema autogen when it should be dataframe.\n",
      "WARNING:interpret.utils.all:Passing a numpy array to schema autogen when it should be dataframe.\n",
      "WARNING:interpret.utils.all:Passing a numpy array to schema autogen when it should be dataframe.\n",
      "WARNING:interpret.utils.all:Passing a numpy array to schema autogen when it should be dataframe.\n",
      "WARNING:interpret.utils.all:Passing a numpy array to schema autogen when it should be dataframe.\n",
      "WARNING:interpret.utils.all:Passing a numpy array to schema autogen when it should be dataframe.\n",
      "WARNING:interpret.utils.all:Passing a numpy array to schema autogen when it should be dataframe.\n",
      "WARNING:interpret.utils.all:Passing a numpy array to schema autogen when it should be dataframe.\n",
      "WARNING:interpret.utils.all:Passing a numpy array to schema autogen when it should be dataframe.\n",
      "WARNING:interpret.utils.all:Passing a numpy array to schema autogen when it should be dataframe.\n",
      "WARNING:interpret.utils.all:Passing a numpy array to schema autogen when it should be dataframe.\n",
      "WARNING:interpret.utils.all:Passing a numpy array to schema autogen when it should be dataframe.\n",
      "WARNING:interpret.utils.all:Passing a numpy array to schema autogen when it should be dataframe.\n",
      "WARNING:interpret.utils.all:Passing a numpy array to schema autogen when it should be dataframe.\n",
      "WARNING:interpret.utils.all:Passing a numpy array to schema autogen when it should be dataframe.\n",
      "WARNING:interpret.utils.all:Passing a numpy array to schema autogen when it should be dataframe.\n",
      "WARNING:interpret.utils.all:Passing a numpy array to schema autogen when it should be dataframe.\n",
      "WARNING:interpret.utils.all:Passing a numpy array to schema autogen when it should be dataframe.\n",
      "WARNING:interpret.utils.all:Passing a numpy array to schema autogen when it should be dataframe.\n",
      "WARNING:interpret.utils.all:Passing a numpy array to schema autogen when it should be dataframe.\n",
      "WARNING:interpret.utils.all:Passing a numpy array to schema autogen when it should be dataframe.\n",
      "WARNING:interpret.utils.all:Passing a numpy array to schema autogen when it should be dataframe.\n",
      "WARNING:interpret.utils.all:Passing a numpy array to schema autogen when it should be dataframe.\n",
      "WARNING:interpret.utils.all:Passing a numpy array to schema autogen when it should be dataframe.\n",
      "WARNING:interpret.utils.all:Passing a numpy array to schema autogen when it should be dataframe.\n",
      "WARNING:interpret.utils.all:Passing a numpy array to schema autogen when it should be dataframe.\n",
      "WARNING:interpret.utils.all:Passing a numpy array to schema autogen when it should be dataframe.\n",
      "WARNING:interpret.utils.all:Passing a numpy array to schema autogen when it should be dataframe.\n",
      "WARNING:interpret.utils.all:Passing a numpy array to schema autogen when it should be dataframe.\n",
      "WARNING:interpret.utils.all:Passing a numpy array to schema autogen when it should be dataframe.\n"
     ]
    },
    {
     "name": "stdout",
     "output_type": "stream",
     "text": [
      "model_id, score_thresholds 0 {'rank_abs': [0]}\n"
     ]
    },
    {
     "name": "stderr",
     "output_type": "stream",
     "text": [
      "WARNING:interpret.utils.all:Passing a numpy array to schema autogen when it should be dataframe.\n"
     ]
    },
    {
     "name": "stdout",
     "output_type": "stream",
     "text": [
      "get_disparity_predefined_group()\n"
     ]
    },
    {
     "name": "stderr",
     "output_type": "stream",
     "text": [
      "WARNING:interpret.utils.all:Passing a numpy array to schema autogen when it should be dataframe.\n",
      "WARNING:interpret.utils.all:Passing a numpy array to schema autogen when it should be dataframe.\n",
      "WARNING:interpret.utils.all:Passing a numpy array to schema autogen when it should be dataframe.\n",
      "WARNING:interpret.utils.all:Passing a numpy array to schema autogen when it should be dataframe.\n",
      "WARNING:interpret.utils.all:Passing a numpy array to schema autogen when it should be dataframe.\n",
      "WARNING:interpret.utils.all:Passing a numpy array to schema autogen when it should be dataframe.\n",
      "WARNING:interpret.utils.all:Passing a numpy array to schema autogen when it should be dataframe.\n",
      "WARNING:interpret.utils.all:Passing a numpy array to schema autogen when it should be dataframe.\n",
      "WARNING:interpret.utils.all:Passing a numpy array to schema autogen when it should be dataframe.\n",
      "WARNING:interpret.utils.all:Passing a numpy array to schema autogen when it should be dataframe.\n",
      "WARNING:interpret.utils.all:Passing a numpy array to schema autogen when it should be dataframe.\n",
      "WARNING:interpret.utils.all:Passing a numpy array to schema autogen when it should be dataframe.\n",
      "WARNING:interpret.utils.all:Passing a numpy array to schema autogen when it should be dataframe.\n",
      "WARNING:interpret.utils.all:Passing a numpy array to schema autogen when it should be dataframe.\n",
      "WARNING:interpret.utils.all:Passing a numpy array to schema autogen when it should be dataframe.\n",
      "WARNING:interpret.utils.all:Passing a numpy array to schema autogen when it should be dataframe.\n",
      "WARNING:interpret.utils.all:Passing a numpy array to schema autogen when it should be dataframe.\n",
      "WARNING:interpret.utils.all:Passing a numpy array to schema autogen when it should be dataframe.\n",
      "WARNING:interpret.utils.all:Passing a numpy array to schema autogen when it should be dataframe.\n",
      "WARNING:interpret.utils.all:Passing a numpy array to schema autogen when it should be dataframe.\n",
      "WARNING:interpret.utils.all:Passing a numpy array to schema autogen when it should be dataframe.\n",
      "WARNING:interpret.utils.all:Passing a numpy array to schema autogen when it should be dataframe.\n",
      "WARNING:interpret.utils.all:Passing a numpy array to schema autogen when it should be dataframe.\n",
      "WARNING:interpret.utils.all:Passing a numpy array to schema autogen when it should be dataframe.\n",
      "WARNING:interpret.utils.all:Passing a numpy array to schema autogen when it should be dataframe.\n",
      "WARNING:interpret.utils.all:Passing a numpy array to schema autogen when it should be dataframe.\n",
      "WARNING:interpret.utils.all:Passing a numpy array to schema autogen when it should be dataframe.\n",
      "WARNING:interpret.utils.all:Passing a numpy array to schema autogen when it should be dataframe.\n",
      "WARNING:interpret.utils.all:Passing a numpy array to schema autogen when it should be dataframe.\n",
      "WARNING:interpret.utils.all:Passing a numpy array to schema autogen when it should be dataframe.\n",
      "WARNING:interpret.utils.all:Passing a numpy array to schema autogen when it should be dataframe.\n"
     ]
    },
    {
     "name": "stdout",
     "output_type": "stream",
     "text": [
      "model_id, score_thresholds 0 {'rank_abs': [0]}\n"
     ]
    },
    {
     "name": "stderr",
     "output_type": "stream",
     "text": [
      "WARNING:interpret.utils.all:Passing a numpy array to schema autogen when it should be dataframe.\n"
     ]
    },
    {
     "name": "stdout",
     "output_type": "stream",
     "text": [
      "get_disparity_predefined_group()\n"
     ]
    },
    {
     "name": "stderr",
     "output_type": "stream",
     "text": [
      "WARNING:interpret.utils.all:Passing a numpy array to schema autogen when it should be dataframe.\n",
      "WARNING:interpret.utils.all:Passing a numpy array to schema autogen when it should be dataframe.\n",
      "WARNING:interpret.utils.all:Passing a numpy array to schema autogen when it should be dataframe.\n",
      "WARNING:interpret.utils.all:Passing a numpy array to schema autogen when it should be dataframe.\n",
      "WARNING:interpret.utils.all:Passing a numpy array to schema autogen when it should be dataframe.\n",
      "WARNING:interpret.utils.all:Passing a numpy array to schema autogen when it should be dataframe.\n",
      "WARNING:interpret.utils.all:Passing a numpy array to schema autogen when it should be dataframe.\n",
      "WARNING:interpret.utils.all:Passing a numpy array to schema autogen when it should be dataframe.\n",
      "WARNING:interpret.utils.all:Passing a numpy array to schema autogen when it should be dataframe.\n",
      "WARNING:interpret.utils.all:Passing a numpy array to schema autogen when it should be dataframe.\n",
      "WARNING:interpret.utils.all:Passing a numpy array to schema autogen when it should be dataframe.\n",
      "WARNING:interpret.utils.all:Passing a numpy array to schema autogen when it should be dataframe.\n",
      "WARNING:interpret.utils.all:Passing a numpy array to schema autogen when it should be dataframe.\n",
      "WARNING:interpret.utils.all:Passing a numpy array to schema autogen when it should be dataframe.\n",
      "WARNING:interpret.utils.all:Passing a numpy array to schema autogen when it should be dataframe.\n",
      "WARNING:interpret.utils.all:Passing a numpy array to schema autogen when it should be dataframe.\n",
      "WARNING:interpret.utils.all:Passing a numpy array to schema autogen when it should be dataframe.\n",
      "WARNING:interpret.utils.all:Passing a numpy array to schema autogen when it should be dataframe.\n",
      "WARNING:interpret.utils.all:Passing a numpy array to schema autogen when it should be dataframe.\n",
      "WARNING:interpret.utils.all:Passing a numpy array to schema autogen when it should be dataframe.\n",
      "WARNING:interpret.utils.all:Passing a numpy array to schema autogen when it should be dataframe.\n",
      "WARNING:interpret.utils.all:Passing a numpy array to schema autogen when it should be dataframe.\n",
      "WARNING:interpret.utils.all:Passing a numpy array to schema autogen when it should be dataframe.\n",
      "WARNING:interpret.utils.all:Passing a numpy array to schema autogen when it should be dataframe.\n",
      "WARNING:interpret.utils.all:Passing a numpy array to schema autogen when it should be dataframe.\n",
      "WARNING:interpret.utils.all:Passing a numpy array to schema autogen when it should be dataframe.\n",
      "WARNING:interpret.utils.all:Passing a numpy array to schema autogen when it should be dataframe.\n",
      "WARNING:interpret.utils.all:Passing a numpy array to schema autogen when it should be dataframe.\n",
      "WARNING:interpret.utils.all:Passing a numpy array to schema autogen when it should be dataframe.\n",
      "WARNING:interpret.utils.all:Passing a numpy array to schema autogen when it should be dataframe.\n",
      "WARNING:interpret.utils.all:Passing a numpy array to schema autogen when it should be dataframe.\n"
     ]
    },
    {
     "name": "stdout",
     "output_type": "stream",
     "text": [
      "model_id, score_thresholds 0 {'rank_abs': [0]}\n"
     ]
    },
    {
     "name": "stderr",
     "output_type": "stream",
     "text": [
      "WARNING:interpret.utils.all:Passing a numpy array to schema autogen when it should be dataframe.\n"
     ]
    },
    {
     "name": "stdout",
     "output_type": "stream",
     "text": [
      "get_disparity_predefined_group()\n"
     ]
    },
    {
     "name": "stderr",
     "output_type": "stream",
     "text": [
      "WARNING:interpret.utils.all:Passing a numpy array to schema autogen when it should be dataframe.\n",
      "WARNING:interpret.utils.all:Passing a numpy array to schema autogen when it should be dataframe.\n",
      "WARNING:interpret.utils.all:Passing a numpy array to schema autogen when it should be dataframe.\n",
      "WARNING:interpret.utils.all:Passing a numpy array to schema autogen when it should be dataframe.\n",
      "WARNING:interpret.utils.all:Passing a numpy array to schema autogen when it should be dataframe.\n",
      "WARNING:interpret.utils.all:Passing a numpy array to schema autogen when it should be dataframe.\n",
      "WARNING:interpret.utils.all:Passing a numpy array to schema autogen when it should be dataframe.\n",
      "WARNING:interpret.utils.all:Passing a numpy array to schema autogen when it should be dataframe.\n",
      "WARNING:interpret.utils.all:Passing a numpy array to schema autogen when it should be dataframe.\n",
      "WARNING:interpret.utils.all:Passing a numpy array to schema autogen when it should be dataframe.\n",
      "WARNING:interpret.utils.all:Passing a numpy array to schema autogen when it should be dataframe.\n",
      "WARNING:interpret.utils.all:Passing a numpy array to schema autogen when it should be dataframe.\n",
      "WARNING:interpret.utils.all:Passing a numpy array to schema autogen when it should be dataframe.\n",
      "WARNING:interpret.utils.all:Passing a numpy array to schema autogen when it should be dataframe.\n",
      "WARNING:interpret.utils.all:Passing a numpy array to schema autogen when it should be dataframe.\n",
      "WARNING:interpret.utils.all:Passing a numpy array to schema autogen when it should be dataframe.\n",
      "WARNING:interpret.utils.all:Passing a numpy array to schema autogen when it should be dataframe.\n",
      "WARNING:interpret.utils.all:Passing a numpy array to schema autogen when it should be dataframe.\n",
      "WARNING:interpret.utils.all:Passing a numpy array to schema autogen when it should be dataframe.\n",
      "WARNING:interpret.utils.all:Passing a numpy array to schema autogen when it should be dataframe.\n",
      "WARNING:interpret.utils.all:Passing a numpy array to schema autogen when it should be dataframe.\n",
      "WARNING:interpret.utils.all:Passing a numpy array to schema autogen when it should be dataframe.\n",
      "WARNING:interpret.utils.all:Passing a numpy array to schema autogen when it should be dataframe.\n",
      "WARNING:interpret.utils.all:Passing a numpy array to schema autogen when it should be dataframe.\n",
      "WARNING:interpret.utils.all:Passing a numpy array to schema autogen when it should be dataframe.\n",
      "WARNING:interpret.utils.all:Passing a numpy array to schema autogen when it should be dataframe.\n",
      "WARNING:interpret.utils.all:Passing a numpy array to schema autogen when it should be dataframe.\n",
      "WARNING:interpret.utils.all:Passing a numpy array to schema autogen when it should be dataframe.\n",
      "WARNING:interpret.utils.all:Passing a numpy array to schema autogen when it should be dataframe.\n",
      "WARNING:interpret.utils.all:Passing a numpy array to schema autogen when it should be dataframe.\n",
      "WARNING:interpret.utils.all:Passing a numpy array to schema autogen when it should be dataframe.\n"
     ]
    },
    {
     "name": "stdout",
     "output_type": "stream",
     "text": [
      "model_id, score_thresholds 0 {'rank_abs': [0]}\n",
      "get_disparity_predefined_group()\n"
     ]
    }
   ],
   "source": [
    "#### CART\n",
    "depth = [1,2]\n",
    "impurity = [0.001, 0.003]\n",
    "split = [2,3,4]\n",
    "cart_summary = base.CART(X=x,\n",
    "                         Y=y,\n",
    "                         depth=depth,\n",
    "                         split=split,\n",
    "                         impurity=impurity, \n",
    "                         seed = 816)\n",
    "\n",
    "#### EBM\n",
    "estimators = [60, 80, 100]\n",
    "depth = [1]\n",
    "learning_rate = [0.05]\n",
    "holdout_split = [0.9]\n",
    "ebm_summary = base.EBM(X=x,\n",
    "                       Y=y,\n",
    "                       learning_rate = learning_rate,\n",
    "                       depth = depth,\n",
    "                       estimators=estimators,\n",
    "                       holdout_split=holdout_split,\n",
    "                       seed=816)"
   ]
  },
  {
   "cell_type": "code",
   "execution_count": 12,
   "metadata": {},
   "outputs": [
    {
     "data": {
      "text/plain": [
       "(0.572530257448205, 0.04501022166523705)"
      ]
     },
     "execution_count": 12,
     "metadata": {},
     "output_type": "execute_result"
    }
   ],
   "source": [
    "np.mean(cart_summary['holdout_test_auc']), np.mean(cart_summary['auc_diffs'])"
   ]
  },
  {
   "cell_type": "code",
   "execution_count": 13,
   "metadata": {},
   "outputs": [
    {
     "data": {
      "text/plain": [
       "(0.634597763465176, 0.05052023649391877)"
      ]
     },
     "execution_count": 13,
     "metadata": {},
     "output_type": "execute_result"
    }
   ],
   "source": [
    "np.mean(ebm_summary['holdout_test_auc']), np.mean(ebm_summary['auc_diffs'])"
   ]
  },
  {
   "cell_type": "markdown",
   "metadata": {},
   "source": [
    "## Lasso Stumps"
   ]
  },
  {
   "cell_type": "code",
   "execution_count": 14,
   "metadata": {},
   "outputs": [],
   "source": [
    "## load whole data\n",
    "data = pd.read_csv(\"~/Documents/Duke/Cynthia Research/KY-analysis-mytrials/broward/data/broward_stumps.csv\")\n",
    "X_stumps, Y_stumps = data.loc[:,:'five_year>=1'], data['recid_M2'].values\n",
    "Y_stumps[Y_stumps == -1] = 0\n",
    "cols = X_stumps.columns[3:]\n",
    "\n",
    "## load train & test data\n",
    "train_stumps = pd.read_csv(\"~/Documents/Duke/Cynthia Research/KY-analysis-mytrials/broward/data/broward_train_stumps.csv\")\n",
    "test_stumps = pd.read_csv(\"~/Documents/Duke/Cynthia Research/KY-analysis-mytrials/broward/data/broward_test_stumps.csv\")\n",
    "\n",
    "X_train_stumps, Y_train_stumps = train_stumps.loc[:,:'five_year>=1'], train_stumps['recid_M2'].values\n",
    "X_test_stumps, Y_test_stumps = test_stumps.loc[:,:'five_year>=1'], test_stumps['recid_M2'].values\n",
    "\n",
    "Y_train_stumps[Y_train_stumps == -1] = 0\n",
    "Y_test_stumps[Y_test_stumps == -1] = 0"
   ]
  },
  {
   "cell_type": "markdown",
   "metadata": {},
   "source": [
    "#### Nested Cross Validation"
   ]
  },
  {
   "cell_type": "code",
   "execution_count": 57,
   "metadata": {},
   "outputs": [
    {
     "name": "stdout",
     "output_type": "stream",
     "text": [
      "model_id, score_thresholds 0 {'rank_abs': [186]}\n",
      "get_disparity_predefined_group()\n",
      "model_id, score_thresholds 0 {'rank_abs': [172]}\n",
      "get_disparity_predefined_group()\n",
      "model_id, score_thresholds 0 {'rank_abs': [192]}\n",
      "get_disparity_predefined_group()\n",
      "model_id, score_thresholds 0 {'rank_abs': [178]}\n",
      "get_disparity_predefined_group()\n",
      "model_id, score_thresholds 0 {'rank_abs': [185]}\n",
      "get_disparity_predefined_group()\n"
     ]
    }
   ],
   "source": [
    "stump_summary = stumps.stump_cv(X = X_stumps, \n",
    "                                Y = Y_stumps, \n",
    "                                columns=cols, \n",
    "                                c_grid={'C': [0.01, 0.03, 0.05, 0.07]}, \n",
    "                                seed = 816)"
   ]
  },
  {
   "cell_type": "code",
   "execution_count": 58,
   "metadata": {},
   "outputs": [
    {
     "data": {
      "text/plain": [
       "([{'C': 0.07}, {'C': 0.07}, {'C': 0.07}, {'C': 0.07}, {'C': 0.07}],\n",
       " 0.6107367126903137,\n",
       " 0.050672540309280326)"
      ]
     },
     "execution_count": 58,
     "metadata": {},
     "output_type": "execute_result"
    }
   ],
   "source": [
    "stump_summary['best_params'], np.mean(stump_summary['holdout_test_auc']), np.mean(stump_summary['auc_diffs'])"
   ]
  },
  {
   "cell_type": "markdown",
   "metadata": {},
   "source": [
    "##### Best Stump Model"
   ]
  },
  {
   "cell_type": "code",
   "execution_count": 31,
   "metadata": {},
   "outputs": [],
   "source": [
    "best_stump_model = stumps.stump_model(X_train_stumps, Y_train_stumps, \n",
    "                                      X_test_stumps, Y_test_stumps, \n",
    "                                      c=0.05, columns=cols, seed=816)"
   ]
  },
  {
   "cell_type": "markdown",
   "metadata": {},
   "source": [
    "##### Prediction Table"
   ]
  },
  {
   "cell_type": "code",
   "execution_count": 32,
   "metadata": {
    "scrolled": true
   },
   "outputs": [
    {
     "name": "stdout",
     "output_type": "stream",
     "text": [
      "+-----------------------------------+----------------+\n",
      "| Features                          | Score          |\n",
      "|====================================================|\n",
      "| p_current_age>=27                 | -0.4           |\n",
      "| p_current_age>=29                 | -18.1          |\n",
      "| p_current_age>=30                 | -9.0           |\n",
      "| p_age_first_offense<=18           | 1.0            |\n",
      "| p_age_first_offense<=30           | 10.7           |\n",
      "| p_felprop_violarrest>=1           | -21.1          |\n",
      "| p_felprop_violarrest>=2           | -9.8           |\n",
      "| prior_conviction_F>=2             | -2.1           |\n",
      "| prior_conviction_M>=2             | 12.1           |\n",
      "| prior_conviction_M>=4             | 1.6            |\n",
      "| prior_conviction_M>=5             | 0.1            |\n",
      "| p_arrest>=4                       | 10.4           |\n",
      "| p_drug>=1                         | 4.8            |\n",
      "| p_stealing>=2                     | -1.1           |\n",
      "| years_since_last_crime>=1         | -16.3          |\n",
      "| years_since_last_crime>=1.5       | -11.5          |\n",
      "| one_year>=1                       | 2.3            |\n",
      "| three_year>=1                     | 8.7            |\n",
      "| Intercept                         | 0.0            |\n",
      "|====================================================|\n",
      "| ADD POINTS FROM ROWS 1 TO 18      | Total Score    |\n",
      "+-----------------------------------+----------------+\n"
     ]
    }
   ],
   "source": [
    "stumps.stump_table(best_stump_model['coefs'], \n",
    "                   best_stump_model['features'], \n",
    "                   best_stump_model['intercept'], \n",
    "                   best_stump_model['dictionary'])"
   ]
  },
  {
   "cell_type": "markdown",
   "metadata": {},
   "source": [
    "##### Stumps Visualization"
   ]
  },
  {
   "cell_type": "code",
   "execution_count": 33,
   "metadata": {
    "scrolled": true
   },
   "outputs": [
    {
     "data": {
      "image/png": "[encoded data removed]",
      "text/plain": [
       "<Figure size 288x216 with 1 Axes>"
      ]
     },
     "metadata": {
      "needs_background": "light"
     },
     "output_type": "display_data"
    },
    {
     "data": {
      "image/png": "[encoded data removed]",
      "text/plain": [
       "<Figure size 288x216 with 1 Axes>"
      ]
     },
     "metadata": {
      "needs_background": "light"
     },
     "output_type": "display_data"
    },
    {
     "data": {
      "image/png": "[encoded data removed]",
      "text/plain": [
       "<Figure size 288x216 with 1 Axes>"
      ]
     },
     "metadata": {
      "needs_background": "light"
     },
     "output_type": "display_data"
    },
    {
     "data": {
      "image/png": "[encoded data removed]",
      "text/plain": [
       "<Figure size 288x216 with 1 Axes>"
      ]
     },
     "metadata": {
      "needs_background": "light"
     },
     "output_type": "display_data"
    },
    {
     "data": {
      "image/png": "[encoded data removed]",
      "text/plain": [
       "<Figure size 288x216 with 1 Axes>"
      ]
     },
     "metadata": {
      "needs_background": "light"
     },
     "output_type": "display_data"
    },
    {
     "data": {
      "image/png": "[encoded data removed]",
      "text/plain": [
       "<Figure size 288x216 with 1 Axes>"
      ]
     },
     "metadata": {
      "needs_background": "light"
     },
     "output_type": "display_data"
    }
   ],
   "source": [
    "stumps.stump_plots(best_stump_model['features'], best_stump_model['coefs'])"
   ]
  },
  {
   "cell_type": "markdown",
   "metadata": {},
   "source": [
    "## RiskSLIM"
   ]
  },
  {
   "cell_type": "code",
   "execution_count": 63,
   "metadata": {},
   "outputs": [],
   "source": [
    "## load stumps data\n",
    "data = pd.read_csv(\"~/Documents/Duke/Cynthia Research/KY-analysis-mytrials/broward/data/broward_stumps.csv\")\n",
    "x, y = data.loc[:,:'five_year>=1'], data['recid_M2'].values\n",
    "cols = x.columns[3:]"
   ]
  },
  {
   "cell_type": "code",
   "execution_count": 85,
   "metadata": {},
   "outputs": [
    {
     "data": {
      "text/plain": [
       "21"
      ]
     },
     "execution_count": 85,
     "metadata": {},
     "output_type": "execute_result"
    }
   ],
   "source": [
    "## train on best param chosen by Lasso Stumps from above\n",
    "x_train = x.copy().drop(['race', 'person_id', 'screening_date'], axis=1)\n",
    "lasso = LogisticRegression(class_weight='balanced', solver='liblinear', penalty='l1', C=0.05, random_state=816).fit(x_train,y)\n",
    "selected_features = cols[lasso.coef_[0] != 0].tolist()\n",
    "len(selected_features)"
   ]
  },
  {
   "cell_type": "code",
   "execution_count": 86,
   "metadata": {},
   "outputs": [],
   "source": [
    "### Subset features\n",
    "if 'sex' in selected_features:\n",
    "    selected_features = ['recid_M2', 'person_id', 'screening_date', 'race'] + selected_features\n",
    "    indicator = 1\n",
    "else:\n",
    "    selected_features = ['recid_M2', 'person_id', 'screening_date', 'race', 'sex'] + selected_features\n",
    "    indicator = 0\n",
    "\n",
    "sub_data = data[selected_features]\n",
    "sub_X, sub_Y = sub_data.iloc[:,1:], sub_data.iloc[:,0].values\n",
    "sub_X.insert(0, '(Intercept)', 1)"
   ]
  },
  {
   "cell_type": "code",
   "execution_count": 87,
   "metadata": {
    "scrolled": true
   },
   "outputs": [
    {
     "name": "stdout",
     "output_type": "stream",
     "text": [
      "setting c0 = 0.0 to ensure that intercept is not penalized\n",
      "09/10/19 @ 10:32 AM | switching loss computation from lookup to weighted\n",
      "09/10/19 @ 10:32 AM | ------------------------------------------------------------\n",
      "09/10/19 @ 10:32 AM | runnning initialization procedure\n",
      "09/10/19 @ 10:32 AM | ------------------------------------------------------------\n",
      "09/10/19 @ 10:32 AM | CPA produced 2 cuts\n",
      "09/10/19 @ 10:32 AM | running naive rounding on 49 solutions\n",
      "09/10/19 @ 10:32 AM | best objective value: 0.5674\n",
      "09/10/19 @ 10:32 AM | rounding produced 5 integer solutions\n",
      "09/10/19 @ 10:32 AM | best objective value is 0.5748\n",
      "09/10/19 @ 10:32 AM | running sequential rounding on 49 solutions\n",
      "09/10/19 @ 10:32 AM | best objective value: 0.5674\n",
      "09/10/19 @ 10:32 AM | sequential rounding produced 3 integer solutions\n",
      "09/10/19 @ 10:32 AM | best objective value: 0.5748\n",
      "09/10/19 @ 10:32 AM | polishing 8 solutions\n",
      "09/10/19 @ 10:32 AM | best objective value: 0.5748\n",
      "09/10/19 @ 10:32 AM | polishing produced 5 integer solutions\n",
      "09/10/19 @ 10:32 AM | initialization produced 8 feasible solutions\n",
      "09/10/19 @ 10:32 AM | best objective value: 0.5748\n",
      "09/10/19 @ 10:32 AM | ------------------------------------------------------------\n",
      "09/10/19 @ 10:32 AM | completed initialization procedure\n",
      "09/10/19 @ 10:32 AM | ------------------------------------------------------------\n",
      "09/10/19 @ 10:32 AM | switching loss computation from lookup to weighted\n",
      "CPXPARAM_Read_DataCheck                          1\n",
      "CPXPARAM_Threads                                 1\n",
      "CPXPARAM_Parallel                                1\n",
      "CPXPARAM_RandomSeed                              0\n",
      "CPXPARAM_TimeLimit                               200\n",
      "CPXPARAM_MIP_Tolerances_LowerCutoff              0.5653790077598726\n",
      "CPXPARAM_MIP_Tolerances_UpperCutoff              0.57476388457548488\n"
     ]
    },
    {
     "name": "stderr",
     "output_type": "stream",
     "text": [
      "Warning: Control callbacks may disable some MIP features.\n"
     ]
    },
    {
     "name": "stdout",
     "output_type": "stream",
     "text": [
      "Lazy constraint(s) or lazy constraint callback is present.\n",
      "    Disabling dual reductions (CPX_PARAM_REDUCE) in presolve.\n",
      "    Disabling non-linear reductions (CPX_PARAM_PRELINEAR) in presolve.\n",
      "         Disabling repeat represolve because of lazy constraint/incumbent callback.\n",
      "09/10/19 @ 10:32 AM | adding 156 initial cuts\n",
      "1 of 1 MIP starts provided solutions.\n",
      "MIP start 'mip_start_0' defined initial solution with objective 0.5748.\n",
      "Tried aggregator 1 time.\n",
      "Reduced MIP has 24 rows, 48 columns, and 91 nonzeros.\n",
      "Reduced MIP has 22 binaries, 24 generals, 0 SOSs, and 0 indicators.\n",
      "Presolve time = 0.02 sec. (0.05 ticks)\n",
      "Probing time = 0.00 sec. (0.01 ticks)\n",
      "MIP emphasis: balance optimality and feasibility.\n",
      "MIP search method: traditional branch-and-cut.\n",
      "Parallel mode: none, using 1 thread.\n",
      "Root relaxation solution time = 0.00 sec. (0.02 ticks)\n",
      "\n",
      "        Nodes                                         Cuts/\n",
      "   Node  Left     Objective  IInf  Best Integer    Best Bound    ItCnt     Gap         Variable B NodeID Parent  Depth\n",
      "\n",
      "*     0+    0                            0.5748        0.5654             1.63%\n",
      "      0     0        0.5654     1        0.5748        0.5654        0    1.63%\n",
      "      0     2        0.5654     1        0.5748        0.5654        0    1.63%                        0             0\n",
      "Elapsed time = 0.06 sec. (0.98 ticks, tree = 0.01 MB, solutions = 1)\n",
      "*   562   235      integral     0        0.5748        0.5654     1721    1.63%\n",
      "   3629   880        0.5708     5        0.5748        0.5654    15865    1.63%          rho_18 U   3629   3628     53\n",
      "   6555  1517        0.5692     6        0.5748        0.5654    30059    1.63%           rho_7 U   6555   1404     17\n",
      "   9074  1812        0.5654     4        0.5748        0.5654    43751    1.63%          rho_16 D   9074   9073     52\n",
      "  11922  2242        0.5688     7        0.5748        0.5654    56034    1.63%           rho_7 N  11922  11921     36\n",
      "  14364  2532        cutoff              0.5748        0.5654    67470    1.63%          rho_19 U  14364  14363     63\n",
      "  17036  2215        0.5687     8        0.5748        0.5687    77584    1.06%           rho_0 D  17036  17034     18\n",
      "  19765  1451        0.5713     9        0.5748        0.5713    86541    0.60%           rho_0 D  19765  19763     41\n",
      "\n",
      "User cuts applied:  86\n",
      "\n",
      "Root node processing (before b&c):\n",
      "  Real time             =    0.06 sec. (0.99 ticks)\n",
      "Sequential b&c:\n",
      "  Real time             =    1.92 sec. (1833.43 ticks)\n",
      "                          ------------\n",
      "Total (root+branch&cut) =    1.99 sec. (1834.42 ticks)\n",
      "+----------------------------------------------+------------------+-----------+\n",
      "| Pr(Y = +1) = 1.0/(1.0 + exp(-(-2 + score))   |                  |           |\n",
      "| ============================================ | ================ | ========= |\n",
      "| p_age_first_offense<=30                      |         1 points |   + ..... |\n",
      "| fail_appear_two_yr>=1                        |         1 points |   + ..... |\n",
      "| ============================================ | ================ | ========= |\n",
      "| ADD POINTS FROM ROWS 1 to 2                  |            SCORE |   = ..... |\n",
      "+----------------------------------------------+------------------+-----------+\n",
      "model_id, score_thresholds 0 {'rank_abs': [0]}\n",
      "get_disparity_predefined_group()\n",
      "setting c0 = 0.0 to ensure that intercept is not penalized\n",
      "09/10/19 @ 10:32 AM | switching loss computation from lookup to weighted\n",
      "09/10/19 @ 10:32 AM | ------------------------------------------------------------\n",
      "09/10/19 @ 10:32 AM | runnning initialization procedure\n",
      "09/10/19 @ 10:32 AM | ------------------------------------------------------------\n",
      "09/10/19 @ 10:32 AM | CPA produced 2 cuts\n",
      "09/10/19 @ 10:32 AM | running naive rounding on 47 solutions\n",
      "09/10/19 @ 10:32 AM | best objective value: 0.5628\n",
      "09/10/19 @ 10:32 AM | rounding produced 4 integer solutions\n",
      "09/10/19 @ 10:32 AM | best objective value is 0.5710\n",
      "09/10/19 @ 10:32 AM | running sequential rounding on 47 solutions\n",
      "09/10/19 @ 10:32 AM | best objective value: 0.5628\n",
      "09/10/19 @ 10:32 AM | sequential rounding produced 3 integer solutions\n",
      "09/10/19 @ 10:32 AM | best objective value: 0.5710\n",
      "09/10/19 @ 10:32 AM | polishing 7 solutions\n",
      "09/10/19 @ 10:32 AM | best objective value: 0.5710\n",
      "09/10/19 @ 10:32 AM | polishing produced 3 integer solutions\n",
      "09/10/19 @ 10:32 AM | initialization produced 6 feasible solutions\n",
      "09/10/19 @ 10:32 AM | best objective value: 0.5710\n",
      "09/10/19 @ 10:32 AM | ------------------------------------------------------------\n",
      "09/10/19 @ 10:32 AM | completed initialization procedure\n",
      "09/10/19 @ 10:32 AM | ------------------------------------------------------------\n",
      "09/10/19 @ 10:32 AM | switching loss computation from lookup to weighted\n",
      "CPXPARAM_Read_DataCheck                          1\n",
      "CPXPARAM_Threads                                 1\n",
      "CPXPARAM_Parallel                                1\n",
      "CPXPARAM_RandomSeed                              0\n",
      "CPXPARAM_TimeLimit                               200\n",
      "CPXPARAM_MIP_Tolerances_LowerCutoff              0.55950731150643851\n",
      "CPXPARAM_MIP_Tolerances_UpperCutoff              0.57096756261772619\n"
     ]
    },
    {
     "name": "stderr",
     "output_type": "stream",
     "text": [
      "Warning: Control callbacks may disable some MIP features.\n"
     ]
    },
    {
     "name": "stdout",
     "output_type": "stream",
     "text": [
      "Lazy constraint(s) or lazy constraint callback is present.\n",
      "    Disabling dual reductions (CPX_PARAM_REDUCE) in presolve.\n",
      "    Disabling non-linear reductions (CPX_PARAM_PRELINEAR) in presolve.\n",
      "         Disabling repeat represolve because of lazy constraint/incumbent callback.\n",
      "09/10/19 @ 10:32 AM | adding 174 initial cuts\n",
      "1 of 1 MIP starts provided solutions.\n",
      "MIP start 'mip_start_0' defined initial solution with objective 0.5710.\n",
      "Tried aggregator 1 time.\n",
      "Reduced MIP has 24 rows, 48 columns, and 91 nonzeros.\n",
      "Reduced MIP has 22 binaries, 24 generals, 0 SOSs, and 0 indicators.\n",
      "Presolve time = 0.00 sec. (0.05 ticks)\n",
      "Probing time = 0.00 sec. (0.01 ticks)\n",
      "MIP emphasis: balance optimality and feasibility.\n",
      "MIP search method: traditional branch-and-cut.\n",
      "Parallel mode: none, using 1 thread.\n",
      "Root relaxation solution time = 0.00 sec. (0.02 ticks)\n",
      "\n",
      "        Nodes                                         Cuts/\n",
      "   Node  Left     Objective  IInf  Best Integer    Best Bound    ItCnt     Gap         Variable B NodeID Parent  Depth\n",
      "\n",
      "*     0+    0                            0.5710        0.5595             2.01%\n",
      "      0     0        0.5595     1        0.5710        0.5595        0    2.01%\n",
      "      0     0        0.5595     4        0.5710       Cuts: 2        2    2.01%\n",
      "      0     0        0.5595     5        0.5710      Fract: 2        5    2.01%\n",
      "      0     2        0.5595     6        0.5710        0.5595        5    2.01%                        0             0\n",
      "Elapsed time = 0.06 sec. (1.95 ticks, tree = 0.01 MB, solutions = 1)\n",
      "*  1510+  564                            0.5710        0.5595             2.01%\n",
      "   3196  1042        0.5595     7        0.5710        0.5595    13534    2.01%          rho_18 D   3196   3195     49\n",
      "   5812  1670        0.5680     6        0.5710        0.5595    24971    2.01%           rho_5 D   5812   5811     19\n",
      "   8166  2360        0.5651     5        0.5710        0.5595    35331    2.01%           rho_0 U   8166   8165     69\n",
      "  10356  2846        0.5660     9        0.5710        0.5595    45903    2.01%          rho_22 U  10356  10355     19\n",
      "  12596  3446        0.5655     1        0.5710        0.5595    56135    2.01%          rho_19 U  12596  12594     46\n",
      "  14631  3937        0.5626    10        0.5710        0.5595    65024    2.01%           rho_1 D  14631  14630     29\n",
      "  16624  4431        0.5599    10        0.5710        0.5595    73389    2.01%           rho_0 U  16624  16623     16\n",
      "  18923  5147        0.5672     3        0.5710        0.5595    82766    2.01%           rho_1 N  18923  18922     28\n",
      "  21306  5874        cutoff              0.5710        0.5595    91684    2.01%           rho_5 U  21306  21305     66\n",
      "  30467  8570        0.5705     9        0.5710        0.5595   131032    2.01%           rho_1 D  30467  30465     73\n",
      "Elapsed time = 3.31 sec. (3101.71 ticks, tree = 2.42 MB, solutions = 2)\n",
      "  39519 10937        0.5695    10        0.5710        0.5595   170988    2.01%           rho_0 U  39519  39518     20\n",
      "  49120 13524        0.5598     7        0.5710        0.5595   209448    2.01%           rho_8 D  49120  49112     22\n",
      "  58154 15812        0.5650     7        0.5710        0.5595   247790    2.01%           rho_1 D  58154  54735     33\n",
      "  67135 18128        0.5661     6        0.5710        0.5595   285861    2.01%          rho_17 D  67135  67133     53\n",
      "  75858 19866        cutoff              0.5710        0.5595   322495    2.01%           rho_8 U  75858  75856     27\n",
      "  84914 21253        0.5654     9        0.5710        0.5605   358023    1.84%           rho_0 D  84914  49604     37\n",
      "  94388 22094        0.5674     4        0.5710        0.5611   391781    1.73%           rho_0 U  94388  94386     39\n",
      " 103420 22568        0.5667     7        0.5710        0.5618   424676    1.60%          rho_16 D 103420 103419     51\n",
      " 112650 23170        0.5688     3        0.5710        0.5625   457066    1.48%          rho_17 U 112650  54682     36\n",
      " 121742 22765        0.5647     7        0.5710        0.5632   489063    1.37%          rho_12 D 121742  92874     25\n",
      "Elapsed time = 10.47 sec. (12639.52 ticks, tree = 6.12 MB, solutions = 2)\n",
      " 130921 21793        0.5638     8        0.5710        0.5638   521221    1.26%           rho_1 D 130921  82574     35\n",
      " 140074 20570        cutoff              0.5710        0.5645   553309    1.13%          rho_19 U 140074  16414     20\n",
      " 149423 18545        0.5652     5        0.5710        0.5652   586310    1.00%          rho_19 U 149423  54776     51\n",
      " 159882 16440        cutoff              0.5710        0.5661   620266    0.86%           rho_5 U 159882 159881     22\n",
      " 169534 12930        0.5691     6        0.5710        0.5671   651947    0.68%           rho_0 U 169534 169533     24\n",
      " 179211  7943        0.5692     6        0.5710        0.5684   682219    0.45%           rho_0 U 179211 160500     20\n",
      " 188479   882        cutoff              0.5710        0.5705   708765    0.07%           rho_1 U 188479  87159     49\n",
      "\n",
      "Gomory fractional cuts applied:  1\n",
      "User cuts applied:  127\n",
      "\n",
      "Root node processing (before b&c):\n",
      "  Real time             =    0.06 sec. (1.95 ticks)\n",
      "Sequential b&c:\n",
      "  Real time             =   15.30 sec. (19413.35 ticks)\n",
      "                          ------------\n",
      "Total (root+branch&cut) =   15.36 sec. (19415.30 ticks)\n",
      "+----------------------------------------------+------------------+-----------+\n",
      "| Pr(Y = +1) = 1.0/(1.0 + exp(-(-2 + score))   |                  |           |\n",
      "| ============================================ | ================ | ========= |\n",
      "| p_age_first_offense<=30                      |         1 points |   + ..... |\n",
      "| fail_appear_two_yr>=1                        |         1 points |   + ..... |\n",
      "| ============================================ | ================ | ========= |\n",
      "| ADD POINTS FROM ROWS 1 to 2                  |            SCORE |   = ..... |\n",
      "+----------------------------------------------+------------------+-----------+\n",
      "model_id, score_thresholds 0 {'rank_abs': [0]}\n",
      "get_disparity_predefined_group()\n",
      "setting c0 = 0.0 to ensure that intercept is not penalized\n",
      "09/10/19 @ 10:33 AM | 981 rows in lookup table\n",
      "09/10/19 @ 10:33 AM | ------------------------------------------------------------\n",
      "09/10/19 @ 10:33 AM | runnning initialization procedure\n",
      "09/10/19 @ 10:33 AM | ------------------------------------------------------------\n",
      "09/10/19 @ 10:33 AM | CPA produced 2 cuts\n",
      "09/10/19 @ 10:33 AM | running naive rounding on 56 solutions\n",
      "09/10/19 @ 10:33 AM | best objective value: 0.5631\n",
      "09/10/19 @ 10:33 AM | rounding produced 3 integer solutions\n",
      "09/10/19 @ 10:33 AM | best objective value is 0.5718\n",
      "09/10/19 @ 10:33 AM | running sequential rounding on 56 solutions\n",
      "09/10/19 @ 10:33 AM | best objective value: 0.5631\n",
      "09/10/19 @ 10:33 AM | sequential rounding produced 2 integer solutions\n",
      "09/10/19 @ 10:33 AM | best objective value: 0.5718\n",
      "09/10/19 @ 10:33 AM | polishing 5 solutions\n",
      "09/10/19 @ 10:33 AM | best objective value: 0.5718\n",
      "09/10/19 @ 10:33 AM | polishing produced 3 integer solutions\n",
      "09/10/19 @ 10:33 AM | initialization produced 5 feasible solutions\n",
      "09/10/19 @ 10:33 AM | best objective value: 0.5718\n",
      "09/10/19 @ 10:33 AM | ------------------------------------------------------------\n",
      "09/10/19 @ 10:33 AM | completed initialization procedure\n",
      "09/10/19 @ 10:33 AM | ------------------------------------------------------------\n",
      "09/10/19 @ 10:33 AM | 981 rows in lookup table\n",
      "CPXPARAM_Read_DataCheck                          1\n",
      "CPXPARAM_Threads                                 1\n",
      "CPXPARAM_Parallel                                1\n",
      "CPXPARAM_RandomSeed                              0\n",
      "CPXPARAM_TimeLimit                               200\n",
      "CPXPARAM_MIP_Tolerances_LowerCutoff              0.56176856783816576\n",
      "CPXPARAM_MIP_Tolerances_UpperCutoff              0.571811463521951\n"
     ]
    },
    {
     "name": "stderr",
     "output_type": "stream",
     "text": [
      "Warning: Control callbacks may disable some MIP features.\n"
     ]
    },
    {
     "name": "stdout",
     "output_type": "stream",
     "text": [
      "Lazy constraint(s) or lazy constraint callback is present.\n",
      "    Disabling dual reductions (CPX_PARAM_REDUCE) in presolve.\n",
      "    Disabling non-linear reductions (CPX_PARAM_PRELINEAR) in presolve.\n",
      "         Disabling repeat represolve because of lazy constraint/incumbent callback.\n",
      "09/10/19 @ 10:33 AM | adding 136 initial cuts\n",
      "1 of 1 MIP starts provided solutions.\n",
      "MIP start 'mip_start_0' defined initial solution with objective 0.5718.\n",
      "Tried aggregator 1 time.\n",
      "Reduced MIP has 24 rows, 48 columns, and 91 nonzeros.\n",
      "Reduced MIP has 22 binaries, 24 generals, 0 SOSs, and 0 indicators.\n",
      "Presolve time = 0.00 sec. (0.05 ticks)\n",
      "Probing time = 0.00 sec. (0.01 ticks)\n",
      "MIP emphasis: balance optimality and feasibility.\n",
      "MIP search method: traditional branch-and-cut.\n",
      "Parallel mode: none, using 1 thread.\n",
      "Root relaxation solution time = 0.00 sec. (0.02 ticks)\n",
      "\n",
      "        Nodes                                         Cuts/\n",
      "   Node  Left     Objective  IInf  Best Integer    Best Bound    ItCnt     Gap         Variable B NodeID Parent  Depth\n",
      "\n",
      "*     0+    0                            0.5718        0.5618             1.76%\n",
      "      0     0        0.5618     1        0.5718        0.5618        0    1.76%\n",
      "      0     0        0.5618     4        0.5718       Cuts: 2        2    1.76%\n",
      "      0     0        0.5618     4        0.5718    MIRcuts: 1        3    1.76%\n",
      "      0     2        0.5618     4        0.5718        0.5618        3    1.76%                        0             0\n",
      "Elapsed time = 0.05 sec. (1.62 ticks, tree = 0.01 MB, solutions = 1)\n",
      "*  2670+  779                            0.5718        0.5618             1.76%\n",
      "   3602   984        0.5618     9        0.5718        0.5618    16288    1.76%          rho_22 D   3602   3601     22\n",
      "   6319  1613        cutoff              0.5718        0.5618    30569    1.76%          rho_18 D   6319   6318     11\n",
      "   9148  2436        0.5649    11        0.5718        0.5618    44645    1.76%          rho_18 D   9148   9147      9\n",
      "  11700  2963        cutoff              0.5718        0.5618    57185    1.76%           rho_6 U  11700  11697     33\n",
      "  14137  3482        0.5643     6        0.5718        0.5618    69269    1.76%          rho_16 D  14137  14135     37\n",
      "  16692  4115        0.5618     7        0.5718        0.5618    80246    1.76%          rho_22 U  16692  16687     47\n",
      "  19148  4513        0.5706     7        0.5718        0.5618    90783    1.76%           rho_5 D  19148  19147     24\n",
      "  21958  5095        0.5676     5        0.5718        0.5618   103628    1.76%          rho_17 D  21958  21955     49\n",
      "  24598  5723        0.5672    11        0.5718        0.5618   115967    1.76%           rho_8 D  24598  24596     51\n",
      "* 28764  6331      integral     0        0.5718        0.5630   132605    1.55%\n",
      "  35803  6077        cutoff              0.5718        0.5649   156499    1.22%           rho_8 U  35803  35802     27\n",
      "Elapsed time = 2.98 sec. (3101.56 ticks, tree = 1.56 MB, solutions = 3)\n",
      "  47221  2826        cutoff              0.5718        0.5685   195657    0.58%           rho_5 U  47221  29667     43\n",
      "\n",
      "Mixed integer rounding cuts applied:  1\n",
      "Gomory fractional cuts applied:  1\n",
      "User cuts applied:  87\n",
      "\n",
      "Root node processing (before b&c):\n",
      "  Real time             =    0.05 sec. (1.62 ticks)\n",
      "Sequential b&c:\n",
      "  Real time             =    3.91 sec. (4346.51 ticks)\n",
      "                          ------------\n",
      "Total (root+branch&cut) =    3.95 sec. (4348.13 ticks)\n",
      "+----------------------------------------------+------------------+-----------+\n",
      "| Pr(Y = +1) = 1.0/(1.0 + exp(-(-2 + score))   |                  |           |\n",
      "| ============================================ | ================ | ========= |\n",
      "| p_age_first_offense<=30                      |         1 points |   + ..... |\n",
      "| fail_appear_two_yr>=1                        |         1 points |   + ..... |\n",
      "| ============================================ | ================ | ========= |\n",
      "| ADD POINTS FROM ROWS 1 to 2                  |            SCORE |   = ..... |\n",
      "+----------------------------------------------+------------------+-----------+\n",
      "model_id, score_thresholds 0 {'rank_abs': [0]}\n",
      "get_disparity_predefined_group()\n",
      "setting c0 = 0.0 to ensure that intercept is not penalized\n",
      "09/10/19 @ 10:33 AM | 981 rows in lookup table\n",
      "09/10/19 @ 10:33 AM | ------------------------------------------------------------\n",
      "09/10/19 @ 10:33 AM | runnning initialization procedure\n",
      "09/10/19 @ 10:33 AM | ------------------------------------------------------------\n",
      "09/10/19 @ 10:33 AM | CPA produced 2 cuts\n",
      "09/10/19 @ 10:33 AM | running naive rounding on 45 solutions\n",
      "09/10/19 @ 10:33 AM | best objective value: 0.5601\n",
      "09/10/19 @ 10:33 AM | rounding produced 4 integer solutions\n",
      "09/10/19 @ 10:33 AM | best objective value is 0.5706\n",
      "09/10/19 @ 10:33 AM | running sequential rounding on 45 solutions\n",
      "09/10/19 @ 10:33 AM | best objective value: 0.5601\n",
      "09/10/19 @ 10:33 AM | sequential rounding produced 3 integer solutions\n",
      "09/10/19 @ 10:33 AM | best objective value: 0.5706\n",
      "09/10/19 @ 10:33 AM | polishing 7 solutions\n",
      "09/10/19 @ 10:33 AM | best objective value: 0.5706\n",
      "09/10/19 @ 10:33 AM | polishing produced 5 integer solutions\n",
      "09/10/19 @ 10:33 AM | initialization produced 6 feasible solutions\n",
      "09/10/19 @ 10:33 AM | best objective value: 0.5706\n",
      "09/10/19 @ 10:33 AM | ------------------------------------------------------------\n",
      "09/10/19 @ 10:33 AM | completed initialization procedure\n",
      "09/10/19 @ 10:33 AM | ------------------------------------------------------------\n",
      "09/10/19 @ 10:33 AM | 981 rows in lookup table\n",
      "CPXPARAM_Read_DataCheck                          1\n",
      "CPXPARAM_Threads                                 1\n",
      "CPXPARAM_Parallel                                1\n",
      "CPXPARAM_RandomSeed                              0\n",
      "CPXPARAM_TimeLimit                               200\n",
      "CPXPARAM_MIP_Tolerances_LowerCutoff              0.55876656358646293\n",
      "CPXPARAM_MIP_Tolerances_UpperCutoff              0.57061711699505202\n"
     ]
    },
    {
     "name": "stderr",
     "output_type": "stream",
     "text": [
      "Warning: Control callbacks may disable some MIP features.\n"
     ]
    },
    {
     "name": "stdout",
     "output_type": "stream",
     "text": [
      "Lazy constraint(s) or lazy constraint callback is present.\n",
      "    Disabling dual reductions (CPX_PARAM_REDUCE) in presolve.\n",
      "    Disabling non-linear reductions (CPX_PARAM_PRELINEAR) in presolve.\n",
      "         Disabling repeat represolve because of lazy constraint/incumbent callback.\n",
      "09/10/19 @ 10:33 AM | adding 166 initial cuts\n",
      "1 of 1 MIP starts provided solutions.\n",
      "MIP start 'mip_start_0' defined initial solution with objective 0.5706.\n",
      "Tried aggregator 1 time.\n",
      "Reduced MIP has 24 rows, 48 columns, and 91 nonzeros.\n",
      "Reduced MIP has 22 binaries, 24 generals, 0 SOSs, and 0 indicators.\n",
      "Presolve time = 0.00 sec. (0.05 ticks)\n",
      "Probing time = 0.00 sec. (0.01 ticks)\n",
      "MIP emphasis: balance optimality and feasibility.\n",
      "MIP search method: traditional branch-and-cut.\n",
      "Parallel mode: none, using 1 thread.\n",
      "Root relaxation solution time = 0.00 sec. (0.02 ticks)\n",
      "\n",
      "        Nodes                                         Cuts/\n",
      "   Node  Left     Objective  IInf  Best Integer    Best Bound    ItCnt     Gap         Variable B NodeID Parent  Depth\n",
      "\n",
      "*     0+    0                            0.5706        0.5588             2.08%\n",
      "      0     0        0.5588     1        0.5706        0.5588        0    2.08%\n",
      "      0     0        0.5588     4        0.5706       Cuts: 2        2    2.08%\n",
      "      0     0        0.5588     5        0.5706       Cuts: 3        5    2.08%\n",
      "      0     2        0.5588     6        0.5706        0.5588        5    2.08%                        0             0\n",
      "Elapsed time = 0.08 sec. (1.95 ticks, tree = 0.01 MB, solutions = 1)\n",
      "*  2380+  789                            0.5706        0.5588             2.08%\n",
      "   3360   920        0.5694     5        0.5706        0.5588    13952    2.08%           rho_2 D   3360   3358     43\n",
      "   5930  1474        0.5588     6        0.5706        0.5588    25775    2.08%           rho_7 D   5930   5929     35\n",
      "   8157  1843        0.5685     5        0.5706        0.5588    35932    2.08%           rho_5 U   8157   8156     28\n",
      "  10206  2279        0.5588    12        0.5706        0.5588    46139    2.08%          rho_12 U  10206  10205     19\n",
      "  12433  2767        0.5588     7        0.5706        0.5588    55133    2.08%          rho_22 U  12433  12425     44\n",
      "  14540  3255        0.5588     7        0.5706        0.5588    63461    2.08%           rho_8 D  14540  14174     64\n",
      "  16651  3719        0.5636     6        0.5706        0.5588    72170    2.08%           rho_7 D  16651  16650     43\n",
      "  18760  4246        0.5588     4        0.5706        0.5588    81371    2.08%          rho_22 U  18760  18754     52\n",
      "  21020  4618        0.5588     5        0.5706        0.5588    90914    2.08%          rho_22 D  21020  21019     50\n",
      "  30846  6710        0.5606     9        0.5706        0.5603   125769    1.81%           rho_6 D  30846  30844     19\n",
      "Elapsed time = 3.61 sec. (3103.16 ticks, tree = 1.71 MB, solutions = 2)\n",
      "  41027  6732        0.5648     6        0.5706        0.5626   157468    1.40%          rho_13 N  41027  41026     45\n",
      "  50839  5246        cutoff              0.5706        0.5651   188655    0.97%          rho_18 U  50839  50837     49\n",
      "  60946   444        cutoff              0.5706        0.5700   219712    0.11%          rho_16 D  60946  27490     38\n",
      "\n",
      "Gomory fractional cuts applied:  1\n",
      "User cuts applied:  120\n",
      "\n",
      "Root node processing (before b&c):\n",
      "  Real time             =    0.08 sec. (1.95 ticks)\n",
      "Sequential b&c:\n",
      "  Real time             =    5.95 sec. (6007.13 ticks)\n",
      "                          ------------\n",
      "Total (root+branch&cut) =    6.03 sec. (6009.09 ticks)\n",
      "+----------------------------------------------+------------------+-----------+\n",
      "| Pr(Y = +1) = 1.0/(1.0 + exp(-(-2 + score))   |                  |           |\n",
      "| ============================================ | ================ | ========= |\n",
      "| p_age_first_offense<=30                      |         1 points |   + ..... |\n",
      "| fail_appear_two_yr>=1                        |         1 points |   + ..... |\n",
      "| ============================================ | ================ | ========= |\n",
      "| ADD POINTS FROM ROWS 1 to 2                  |            SCORE |   = ..... |\n",
      "+----------------------------------------------+------------------+-----------+\n",
      "model_id, score_thresholds 0 {'rank_abs': [0]}\n",
      "get_disparity_predefined_group()\n",
      "setting c0 = 0.0 to ensure that intercept is not penalized\n",
      "09/10/19 @ 10:33 AM | 981 rows in lookup table\n",
      "09/10/19 @ 10:33 AM | ------------------------------------------------------------\n",
      "09/10/19 @ 10:33 AM | runnning initialization procedure\n",
      "09/10/19 @ 10:33 AM | ------------------------------------------------------------\n",
      "09/10/19 @ 10:33 AM | CPA produced 2 cuts\n",
      "09/10/19 @ 10:33 AM | running naive rounding on 51 solutions\n",
      "09/10/19 @ 10:33 AM | best objective value: 0.5628\n",
      "09/10/19 @ 10:33 AM | rounding produced 4 integer solutions\n",
      "09/10/19 @ 10:33 AM | best objective value is 0.5716\n",
      "09/10/19 @ 10:33 AM | running sequential rounding on 51 solutions\n",
      "09/10/19 @ 10:33 AM | best objective value: 0.5628\n",
      "09/10/19 @ 10:33 AM | sequential rounding produced 3 integer solutions\n",
      "09/10/19 @ 10:33 AM | best objective value: 0.5716\n",
      "09/10/19 @ 10:33 AM | polishing 7 solutions\n",
      "09/10/19 @ 10:33 AM | best objective value: 0.5716\n",
      "09/10/19 @ 10:33 AM | polishing produced 4 integer solutions\n",
      "09/10/19 @ 10:33 AM | initialization produced 6 feasible solutions\n",
      "09/10/19 @ 10:33 AM | best objective value: 0.5716\n",
      "09/10/19 @ 10:33 AM | ------------------------------------------------------------\n",
      "09/10/19 @ 10:33 AM | completed initialization procedure\n",
      "09/10/19 @ 10:33 AM | ------------------------------------------------------------\n",
      "09/10/19 @ 10:33 AM | 981 rows in lookup table\n",
      "CPXPARAM_Read_DataCheck                          1\n",
      "CPXPARAM_Threads                                 1\n",
      "CPXPARAM_Parallel                                1\n",
      "CPXPARAM_RandomSeed                              0\n",
      "CPXPARAM_TimeLimit                               200\n",
      "CPXPARAM_MIP_Tolerances_LowerCutoff              0.56139043205818662\n",
      "CPXPARAM_MIP_Tolerances_UpperCutoff              0.57155378138375312\n"
     ]
    },
    {
     "name": "stderr",
     "output_type": "stream",
     "text": [
      "Warning: Control callbacks may disable some MIP features.\n"
     ]
    },
    {
     "name": "stdout",
     "output_type": "stream",
     "text": [
      "Lazy constraint(s) or lazy constraint callback is present.\n",
      "    Disabling dual reductions (CPX_PARAM_REDUCE) in presolve.\n",
      "    Disabling non-linear reductions (CPX_PARAM_PRELINEAR) in presolve.\n",
      "         Disabling repeat represolve because of lazy constraint/incumbent callback.\n",
      "09/10/19 @ 10:33 AM | adding 150 initial cuts\n",
      "1 of 1 MIP starts provided solutions.\n",
      "MIP start 'mip_start_0' defined initial solution with objective 0.5716.\n",
      "Tried aggregator 1 time.\n",
      "Reduced MIP has 24 rows, 48 columns, and 91 nonzeros.\n",
      "Reduced MIP has 22 binaries, 24 generals, 0 SOSs, and 0 indicators.\n",
      "Presolve time = 0.01 sec. (0.05 ticks)\n",
      "Probing time = 0.00 sec. (0.01 ticks)\n",
      "MIP emphasis: balance optimality and feasibility.\n",
      "MIP search method: traditional branch-and-cut.\n",
      "Parallel mode: none, using 1 thread.\n",
      "Root relaxation solution time = 0.00 sec. (0.02 ticks)\n",
      "\n",
      "        Nodes                                         Cuts/\n",
      "   Node  Left     Objective  IInf  Best Integer    Best Bound    ItCnt     Gap         Variable B NodeID Parent  Depth\n",
      "\n",
      "*     0+    0                            0.5716        0.5614             1.78%\n",
      "      0     0        0.5614     1        0.5716        0.5614        0    1.78%\n",
      "      0     2        0.5614     1        0.5716        0.5614        0    1.78%                        0             0\n",
      "Elapsed time = 0.06 sec. (0.97 ticks, tree = 0.01 MB, solutions = 1)\n",
      "   3320   962        0.5711     3        0.5716        0.5614    14713    1.78%          rho_19 D   3320   3319     37\n",
      "   6155  1512        cutoff              0.5716        0.5614    27164    1.78%          rho_17 U   6155   6154     38\n",
      "   8658  2046        cutoff              0.5716        0.5614    38305    1.78%          rho_19 U   8658   8657     32\n",
      "  10993  2740        0.5614     8        0.5716        0.5614    48769    1.78%          rho_11 D  10993  10892     41\n",
      "  13235  3266        0.5656     5        0.5716        0.5614    58271    1.78%          rho_16 D  13235  13234     27\n",
      "  15590  3535        0.5685     5        0.5716        0.5614    67142    1.78%           rho_0 D  15590  15589     48\n",
      "  17832  4139        0.5614     3        0.5716        0.5614    76456    1.78%           rho_1 U  17832  17830     24\n",
      "  20162  4412        0.5620     6        0.5716        0.5614    86810    1.78%           rho_7 N  20162  20160     23\n",
      "  22602  4504        0.5645     7        0.5716        0.5615    96854    1.76%          rho_16 D  22602  17467     35\n",
      "  32876  3658        0.5708     8        0.5716        0.5662   130043    0.94%          rho_16 N  32876   6481     29\n",
      "Elapsed time = 2.88 sec. (3100.93 ticks, tree = 1.05 MB, solutions = 1)\n",
      "\n",
      "User cuts applied:  106\n",
      "\n",
      "Root node processing (before b&c):\n",
      "  Real time             =    0.06 sec. (0.97 ticks)\n",
      "Sequential b&c:\n",
      "  Real time             =    3.31 sec. (3706.32 ticks)\n",
      "                          ------------\n",
      "Total (root+branch&cut) =    3.38 sec. (3707.29 ticks)\n",
      "+----------------------------------------------+------------------+-----------+\n",
      "| Pr(Y = +1) = 1.0/(1.0 + exp(-(-2 + score))   |                  |           |\n",
      "| ============================================ | ================ | ========= |\n",
      "| p_age_first_offense<=30                      |         1 points |   + ..... |\n",
      "| fail_appear_two_yr>=1                        |         1 points |   + ..... |\n",
      "| ============================================ | ================ | ========= |\n",
      "| ADD POINTS FROM ROWS 1 to 2                  |            SCORE |   = ..... |\n",
      "+----------------------------------------------+------------------+-----------+\n",
      "model_id, score_thresholds 0 {'rank_abs': [0]}\n",
      "get_disparity_predefined_group()\n"
     ]
    }
   ],
   "source": [
    "riskslim_summary = slim.risk_cv(X=sub_X, \n",
    "                                Y=sub_Y, \n",
    "                                indicator = 1,\n",
    "                                y_label='recid_M2', \n",
    "                                max_coef=20, \n",
    "                                max_coef_number=8, \n",
    "                                max_runtime=200, \n",
    "                                c=1e-8, \n",
    "                                seed=816)"
   ]
  },
  {
   "cell_type": "code",
   "execution_count": 88,
   "metadata": {},
   "outputs": [
    {
     "data": {
      "text/plain": [
       "(0.5796779623104039, 0.5798121917788827)"
      ]
     },
     "execution_count": 88,
     "metadata": {},
     "output_type": "execute_result"
    }
   ],
   "source": [
    "np.mean(riskslim_summary['train_auc']), np.mean(riskslim_summary['test_auc'])"
   ]
  },
  {
   "cell_type": "markdown",
   "metadata": {},
   "source": [
    "## Arnold PSA"
   ]
  },
  {
   "cell_type": "code",
   "execution_count": 89,
   "metadata": {},
   "outputs": [],
   "source": [
    "### load data\n",
    "data = pd.read_csv(\"~/Documents/Duke/Cynthia Research/KY-analysis-mytrials/broward/data/broward_arnold.csv\")\n",
    "X_arnold_raw = data['arnold_nca_raw'].values\n",
    "X_arnold_calc = data['arnold_nca'].values\n",
    "Y_arnold = data['recid_M2'].values"
   ]
  },
  {
   "cell_type": "code",
   "execution_count": 90,
   "metadata": {},
   "outputs": [],
   "source": [
    "## set up cross validation\n",
    "cv = KFold(n_splits=5,shuffle=True,random_state=816)\n",
    "raw_auc = []\n",
    "calc_auc = []\n",
    "\n",
    "## raw score\n",
    "i = 1\n",
    "for train, test in cv.split(X_arnold_raw, Y_arnold):\n",
    "    y_pred_raw, y_pred_calc, y_test = X_arnold_raw[test], X_arnold_calc[test], Y_arnold[test]\n",
    "    raw_auc.append(roc_auc_score(y_test, y_pred_raw))\n",
    "    calc_auc.append(roc_auc_score(y_test, y_pred_calc))\n",
    "    i+=1 "
   ]
  },
  {
   "cell_type": "markdown",
   "metadata": {},
   "source": [
    "### Results"
   ]
  },
  {
   "cell_type": "code",
   "execution_count": 91,
   "metadata": {},
   "outputs": [
    {
     "name": "stdout",
     "output_type": "stream",
     "text": [
      "Stored 'summary_M2_broward_interpret' (dict)\n"
     ]
    }
   ],
   "source": [
    "#### save results\n",
    "summary_M2_broward_interpret = {\"CART\": cart_summary,\n",
    "                                   \"EBM\": ebm_summary, \n",
    "                                   'Lasso Stumps': stump_summary, \n",
    "                                   'RiskSLIM': riskslim_summary, \n",
    "                                   'Arnold PSA Raw': raw_auc, \n",
    "                                   'Arnold PSA': calc_auc}\n",
    "%store summary_M2_broward_interpret"
   ]
  },
  {
   "cell_type": "code",
   "execution_count": 92,
   "metadata": {},
   "outputs": [
    {
     "data": {
      "text/plain": [
       "[['CART', 0.572530257448205, 0.04501022166523705],\n",
       " ['EBM', 0.634597763465176, 0.05052023649391877],\n",
       " ['Lasso Stumps', 0.6107367126903137, 0.050672540309280326],\n",
       " ['RiskSLIM', 0.5798121917788827],\n",
       " ['Arnold PSA Raw', 0.551],\n",
       " ['Arnold PSA', 0.546]]"
      ]
     },
     "execution_count": 92,
     "metadata": {},
     "output_type": "execute_result"
    }
   ],
   "source": [
    "results = [[\"CART\", np.mean(cart_summary['holdout_test_auc']), np.mean(cart_summary['auc_diffs'])],\n",
    "           [\"EBM\", np.mean(ebm_summary['holdout_test_auc']), np.mean(ebm_summary['auc_diffs'])], \n",
    "           [\"Lasso Stumps\", np.mean(stump_summary['holdout_test_auc']), np.mean(stump_summary['auc_diffs'])],\n",
    "           ['RiskSLIM', np.mean(riskslim_summary['test_auc'])],\n",
    "           ['Arnold PSA Raw', round(np.mean(raw_auc), 3)], \n",
    "           ['Arnold PSA', round(np.mean(calc_auc), 3)]]\n",
    "results"
   ]
  },
  {
   "cell_type": "code",
   "execution_count": 93,
   "metadata": {},
   "outputs": [],
   "source": [
    "auc = [np.mean(cart_summary['holdout_test_auc']), \n",
    "       np.mean(ebm_summary['holdout_test_auc']), \n",
    "       np.mean(stump_summary['holdout_test_auc']), \n",
    "       np.mean(riskslim_summary['test_auc'])]"
   ]
  },
  {
   "cell_type": "code",
   "execution_count": 94,
   "metadata": {},
   "outputs": [],
   "source": [
    "path = \"C:/Users/binha/Documents/Duke/Cynthia Research/KY-analysis-mytrials/broward/broward models/model results/Advanced Models/Two Year/\"\n",
    "results = [[\"Misdemeanor\", np.str((round(np.mean(cart_summary['holdout_test_auc']), 3))) + \" (\" + np.str(round(np.std(cart_summary['holdout_test_auc']), 3)) + \")\", \n",
    "            np.str(round(np.mean(ebm_summary['holdout_test_auc']),3)) + \" (\" + np.str(round(np.std(ebm_summary['holdout_test_auc']), 3)) + \")\", \n",
    "            np.str(round(np.mean(stump_summary['holdout_test_auc']),3)) + \" (\" + np.str(round(np.std(stump_summary['holdout_test_auc']), 3)) + \")\",             \n",
    "            np.str(round(np.mean(riskslim_summary['test_auc']),3)) + \" (\" + np.str(round(np.std(riskslim_summary['test_auc']), 3)) + \")\", \n",
    "            round(np.max(auc) - np.min(auc), 3),\n",
    "            np.str(round(np.mean(raw_auc), 3)) + \" (\" + np.str(round(np.std(raw_auc),3)) + \")\", \n",
    "            np.str(round(np.mean(calc_auc), 3)) + \" (\" + np.str(round(np.std(calc_auc),3)) + \")\"]]\n",
    "with open(path + 'Interpretable Models Summary.csv', 'a') as writeFile:\n",
    "    writer = csv.writer(writeFile)\n",
    "    writer.writerows(results)"
   ]
  }
 ],
 "metadata": {
  "kernelspec": {
   "display_name": "Python 3",
   "language": "python",
   "name": "python3"
  },
  "language_info": {
   "codemirror_mode": {
    "name": "ipython",
    "version": 3
   },
   "file_extension": ".py",
   "mimetype": "text/x-python",
   "name": "python",
   "nbconvert_exporter": "python",
   "pygments_lexer": "ipython3",
   "version": "3.6.5"
  }
 },
 "nbformat": 4,
 "nbformat_minor": 4
}
