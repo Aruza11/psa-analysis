{
 "cells": [
  {
   "cell_type": "code",
   "execution_count": 5,
   "metadata": {},
   "outputs": [],
   "source": [
    "import pandas as pd \n",
    "import numpy as np\n",
    "import csv\n",
    "import advanced_functions as advance\n",
    "import stumps\n",
    "from sklearn.model_selection import KFold, GridSearchCV\n",
    "from sklearn.metrics import roc_curve, auc"
   ]
  },
  {
   "cell_type": "markdown",
   "metadata": {},
   "source": [
    "### AdaBoost & EBM"
   ]
  },
  {
   "cell_type": "code",
   "execution_count": 6,
   "metadata": {},
   "outputs": [],
   "source": [
    "### train data\n",
    "train_data = pd.read_csv(\"~/Documents/Duke/Cynthia Research/KY-analysis-mytrials/broward/data/broward_train.csv\")\n",
    "train_data = train_data.drop(['person_id', 'screening_date'], axis=1)\n",
    "train_X = train_data.loc[:,:'five_year']\n",
    "train_Y = train_data['recid_violent6'].values\n",
    "\n",
    "### test data\n",
    "test_data = pd.read_csv(\"~/Documents/Duke/Cynthia Research/KY-analysis-mytrials/broward/data/broward_test.csv\")\n",
    "test_data = test_data.drop(['person_id', 'screening_date'], axis=1)\n",
    "test_X = test_data.loc[:,:'five_year']\n",
    "test_Y = test_data['recid_violent6'].values"
   ]
  },
  {
   "cell_type": "code",
   "execution_count": 8,
   "metadata": {},
   "outputs": [],
   "source": [
    "#### GAM\n",
    "estimators = [5,10]\n",
    "depth = [1]\n",
    "learning_rate = [0.01, 0.03]\n",
    "holdout_split = [0.9]\n",
    "ebm_summary = advance.EBM(train_X, train_Y, test_X, test_Y, learning_rate,depth,estimators,holdout_split,816)"
   ]
  },
  {
   "cell_type": "markdown",
   "metadata": {},
   "source": [
    "### Lasso Stumps"
   ]
  },
  {
   "cell_type": "code",
   "execution_count": 9,
   "metadata": {},
   "outputs": [],
   "source": [
    "## load stumps data\n",
    "data = pd.read_csv(\"~/Documents/Duke/Cynthia Research/KY-analysis-mytrials/broward/data/broward_stumps.csv\")\n",
    "X_stumps, Y_stumps = data.loc[:,:'five_year>=1'], data['recid_violent6'].values\n",
    "Y_stumps[Y_stumps == -1] = 0\n",
    "cols = X_stumps.columns"
   ]
  },
  {
   "cell_type": "code",
   "execution_count": 10,
   "metadata": {},
   "outputs": [
    {
     "data": {
      "text/plain": [
       "Index(['sex>=1', 'p_current_age>=18', 'p_current_age>=19', 'p_current_age>=23',\n",
       "       'p_current_age>=27', 'p_current_age>=29', 'p_current_age>=30',\n",
       "       'p_current_age>=31', 'p_current_age>=33', 'p_current_age>=37',\n",
       "       ...\n",
       "       'years_since_last_crime>=2.5', 'years_since_last_crime>=3',\n",
       "       'years_since_last_crime>=3.5', 'years_since_last_crime>=4',\n",
       "       'years_since_last_crime>=4.5', 'years_since_last_crime>=5',\n",
       "       'six_month>=1', 'one_year>=1', 'three_year>=1', 'five_year>=1'],\n",
       "      dtype='object', length=158)"
      ]
     },
     "execution_count": 10,
     "metadata": {},
     "output_type": "execute_result"
    }
   ],
   "source": [
    "cols"
   ]
  },
  {
   "cell_type": "code",
   "execution_count": 12,
   "metadata": {},
   "outputs": [],
   "source": [
    "### stumps model\n",
    "alpha = [0.01]\n",
    "Stump = stumps.stump_features(X_stumps, Y_stumps, cols, alpha, 816)"
   ]
  },
  {
   "cell_type": "code",
   "execution_count": 13,
   "metadata": {},
   "outputs": [
    {
     "data": {
      "text/plain": [
       "(0.7135076696368431, 0.7114213662274469, 0.023688021013810623)"
      ]
     },
     "execution_count": 13,
     "metadata": {},
     "output_type": "execute_result"
    }
   ],
   "source": [
    "np.mean(Stump['test_auc']), np.mean(Stump['train_auc']), Stump['auc_diff']"
   ]
  },
  {
   "cell_type": "code",
   "execution_count": 14,
   "metadata": {
    "scrolled": true
   },
   "outputs": [
    {
     "name": "stdout",
     "output_type": "stream",
     "text": [
      "+-----------------------------------+----------------+\n",
      "| Features                          | Score          |\n",
      "|====================================================|\n",
      "| current_violent>=1                | 0.031          |\n",
      "| violent_conviction>=2             | 0.011          |\n",
      "| violent_conviction>=3             | 0.015          |\n",
      "| p_property>=2                     | 0.001          |\n",
      "| p_stealing>=1                     | 0.004          |\n",
      "| p_stealing>=4                     | 0.01           |\n",
      "| years_since_last_crime>=1         | -0.011         |\n",
      "| Intercept                         | 0.062          |\n",
      "|====================================================|\n",
      "| ADD POINTS FROM ROWS 1 TO 7      | Total Score    |\n",
      "+-----------------------------------+----------------+\n"
     ]
    }
   ],
   "source": [
    "stumps.stump_table(Stump['coefs'], Stump['features'], Stump['intercept'], Stump['dictionary'])"
   ]
  },
  {
   "cell_type": "code",
   "execution_count": 16,
   "metadata": {
    "scrolled": true
   },
   "outputs": [
    {
     "data": {
      "image/png": "[encoded data removed]",
      "text/plain": [
       "<Figure size 288x216 with 1 Axes>"
      ]
     },
     "metadata": {
      "needs_background": "light"
     },
     "output_type": "display_data"
    },
    {
     "data": {
      "image/png": "[encoded data removed]",
      "text/plain": [
       "<Figure size 288x216 with 1 Axes>"
      ]
     },
     "metadata": {
      "needs_background": "light"
     },
     "output_type": "display_data"
    },
    {
     "data": {
      "image/png": "[encoded data removed]",
      "text/plain": [
       "<Figure size 288x216 with 1 Axes>"
      ]
     },
     "metadata": {
      "needs_background": "light"
     },
     "output_type": "display_data"
    },
    {
     "data": {
      "image/png": "[encoded data removed]",
      "text/plain": [
       "<Figure size 288x216 with 1 Axes>"
      ]
     },
     "metadata": {
      "needs_background": "light"
     },
     "output_type": "display_data"
    },
    {
     "data": {
      "image/png": "[encoded data removed]",
      "text/plain": [
       "<Figure size 288x216 with 1 Axes>"
      ]
     },
     "metadata": {
      "needs_background": "light"
     },
     "output_type": "display_data"
    }
   ],
   "source": [
    "stumps.stump_plots(Stump['features'], Stump['coefs'])"
   ]
  },
  {
   "cell_type": "markdown",
   "metadata": {},
   "source": [
    "### Arnold PSA"
   ]
  },
  {
   "cell_type": "code",
   "execution_count": 17,
   "metadata": {},
   "outputs": [],
   "source": [
    "### load data\n",
    "data = pd.read_csv(\"~/Documents/Duke/Cynthia Research/KY-analysis-mytrials/broward/data/broward_arnold.csv\")\n",
    "X_arnold_raw = data['arnold_nvca_raw'].values\n",
    "Y_arnold = data['recid_violent6'].values"
   ]
  },
  {
   "cell_type": "code",
   "execution_count": 19,
   "metadata": {},
   "outputs": [],
   "source": [
    "## set up cross validation\n",
    "cv = KFold(n_splits=5,shuffle=True,random_state=816)\n",
    "raw_auc = []\n",
    "\n",
    "## raw score\n",
    "i = 1\n",
    "for train, test in cv.split(X_arnold_raw, Y_arnold):\n",
    "    y_pred_raw, y_test = X_arnold_raw[test], Y_arnold[test]\n",
    "    raw_fpr, raw_tpr, raw_thresholds = roc_curve(y_test, y_pred_raw)\n",
    "    raw_auc.append(auc(raw_fpr, raw_tpr))\n",
    "    i+=1 "
   ]
  },
  {
   "cell_type": "markdown",
   "metadata": {},
   "source": [
    "### Results"
   ]
  },
  {
   "cell_type": "code",
   "execution_count": 23,
   "metadata": {},
   "outputs": [],
   "source": [
    "results = [[\"EBM\", ebm_summary['best_validation_auc'], ebm_summary['best_validation_std'], ebm_summary['best_param']], \n",
    "           ['Lasso Stumps', round(np.mean(Stump['test_auc']),3), round(np.std(Stump['test_auc']),3)], \n",
    "           ['Arnold PSA Raw', round(np.mean(raw_auc), 3), round(np.std(raw_auc), 3)], \n",
    "           ['Arnold PSA', round(np.mean(calc_auc), 3), round(np.std(calc_auc), 3)]]"
   ]
  },
  {
   "cell_type": "code",
   "execution_count": 24,
   "metadata": {},
   "outputs": [
    {
     "data": {
      "text/plain": [
       "[['AdaBoost',\n",
       "  0.6438730033461224,\n",
       "  0.018642382119523626,\n",
       "  {'learning_rate': 0.05, 'n_estimators': 10}],\n",
       " ['EBM',\n",
       "  0.6596007200011168,\n",
       "  0.02375994427912098,\n",
       "  {'holdout_split': 0.9,\n",
       "   'learning_rate': 0.03,\n",
       "   'max_tree_splits': 1,\n",
       "   'n_estimators': 40}],\n",
       " ['Lasso Stumps', 0.674, 0.007],\n",
       " ['Arnold PSA Raw', 0.611, 0.045],\n",
       " ['Arnold PSA', 0.605, 0.043]]"
      ]
     },
     "execution_count": 24,
     "metadata": {},
     "output_type": "execute_result"
    }
   ],
   "source": [
    "results"
   ]
  },
  {
   "cell_type": "code",
   "execution_count": 24,
   "metadata": {},
   "outputs": [],
   "source": [
    "path = \"C:/Users/binha/Documents/Duke/Cynthia Research/KY-analysis-mytrials/broward/broward models/model results/Advanced Models/Six Month/\"\n",
    "results = [[\"Violent\", round(ebm_summary['best_validation_auc'],3), round(ebm_summary['best_validation_std'], 3), round(np.mean(Stump['test_auc']),3), round(np.std(Stump['test_auc']),3), round(np.mean(raw_auc), 3), round(np.std(raw_auc), 3), round(np.mean(calc_auc), 3), round(np.std(calc_auc), 3)]]\n",
    "with open(path + 'Advanced Models Summary.csv', 'a') as writeFile:\n",
    "    writer = csv.writer(writeFile)\n",
    "    writer.writerows(results)"
   ]
  }
 ],
 "metadata": {
  "kernelspec": {
   "display_name": "Python 3",
   "language": "python",
   "name": "python3"
  },
  "language_info": {
   "codemirror_mode": {
    "name": "ipython",
    "version": 3
   },
   "file_extension": ".py",
   "mimetype": "text/x-python",
   "name": "python",
   "nbconvert_exporter": "python",
   "pygments_lexer": "ipython3",
   "version": "3.7.4"
  }
 },
 "nbformat": 4,
 "nbformat_minor": 2
}
