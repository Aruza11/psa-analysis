{
 "cells": [
  {
   "cell_type": "code",
   "execution_count": 1,
   "metadata": {
    "hideCode": false,
    "hidePrompt": false
   },
   "outputs": [],
   "source": [
    "import pytablewriter\n",
    "import pandas as pd\n",
    "import numpy as np"
   ]
  },
  {
   "cell_type": "code",
   "execution_count": 2,
   "metadata": {
    "hideCode": false,
    "hidePrompt": false
   },
   "outputs": [],
   "source": [
    "result = pd.read_csv(\"C:\\\\Users\\\\binha\\\\Documents\\\\Duke\\\\Cynthia Research\\\\KY-analysis-mytrials\\\\broward\\\\broward models\\\\model results\\\\Advanced Models\\\\Six Month\\\\Advanced Models Summary.csv\")"
   ]
  },
  {
   "cell_type": "code",
   "execution_count": 3,
   "metadata": {
    "hideCode": false,
    "hidePrompt": false
   },
   "outputs": [
    {
     "data": {
      "text/html": [
       "<div>\n",
       "<style scoped>\n",
       "    .dataframe tbody tr th:only-of-type {\n",
       "        vertical-align: middle;\n",
       "    }\n",
       "\n",
       "    .dataframe tbody tr th {\n",
       "        vertical-align: top;\n",
       "    }\n",
       "\n",
       "    .dataframe thead th {\n",
       "        text-align: right;\n",
       "    }\n",
       "</style>\n",
       "<table border=\"1\" class=\"dataframe\">\n",
       "  <thead>\n",
       "    <tr style=\"text-align: right;\">\n",
       "      <th></th>\n",
       "      <th>Unnamed: 0</th>\n",
       "      <th>AdaBoost</th>\n",
       "      <th>std</th>\n",
       "      <th>EBM</th>\n",
       "      <th>std.1</th>\n",
       "      <th>Lasso Stumps</th>\n",
       "      <th>std.2</th>\n",
       "      <th>Arnold PSA Raw</th>\n",
       "      <th>std.3</th>\n",
       "      <th>Arnold PSA</th>\n",
       "      <th>std.4</th>\n",
       "    </tr>\n",
       "  </thead>\n",
       "  <tbody>\n",
       "    <tr>\n",
       "      <th>0</th>\n",
       "      <td>Recidivism</td>\n",
       "      <td>0.584</td>\n",
       "      <td>0.025</td>\n",
       "      <td>0.625</td>\n",
       "      <td>0.017</td>\n",
       "      <td>0.625</td>\n",
       "      <td>0.022</td>\n",
       "      <td>0.585</td>\n",
       "      <td>0.039</td>\n",
       "      <td>0.579</td>\n",
       "      <td>0.037</td>\n",
       "    </tr>\n",
       "    <tr>\n",
       "      <th>1</th>\n",
       "      <td>Violence</td>\n",
       "      <td>0.675</td>\n",
       "      <td>0.036</td>\n",
       "      <td>0.672</td>\n",
       "      <td>0.026</td>\n",
       "      <td>0.714</td>\n",
       "      <td>0.036</td>\n",
       "      <td>0.682</td>\n",
       "      <td>0.052</td>\n",
       "      <td>-</td>\n",
       "      <td>-</td>\n",
       "    </tr>\n",
       "    <tr>\n",
       "      <th>2</th>\n",
       "      <td>Recidivism</td>\n",
       "      <td>0.652</td>\n",
       "      <td>0.024</td>\n",
       "      <td>0.602</td>\n",
       "      <td>0.096</td>\n",
       "      <td>0.720</td>\n",
       "      <td>0.030</td>\n",
       "      <td>0.518</td>\n",
       "      <td>0.028</td>\n",
       "      <td>0.506</td>\n",
       "      <td>0.033</td>\n",
       "    </tr>\n",
       "    <tr>\n",
       "      <th>3</th>\n",
       "      <td>Recidivism</td>\n",
       "      <td>0.659</td>\n",
       "      <td>0.067</td>\n",
       "      <td>0.706</td>\n",
       "      <td>0.066</td>\n",
       "      <td>0.712</td>\n",
       "      <td>0.062</td>\n",
       "      <td>0.628</td>\n",
       "      <td>0.062</td>\n",
       "      <td>0.621</td>\n",
       "      <td>0.066</td>\n",
       "    </tr>\n",
       "    <tr>\n",
       "      <th>4</th>\n",
       "      <td>Recidivism</td>\n",
       "      <td>0.539</td>\n",
       "      <td>0.038</td>\n",
       "      <td>0.626</td>\n",
       "      <td>0.035</td>\n",
       "      <td>0.591</td>\n",
       "      <td>0.037</td>\n",
       "      <td>0.589</td>\n",
       "      <td>0.037</td>\n",
       "      <td>0.582</td>\n",
       "      <td>0.038</td>\n",
       "    </tr>\n",
       "    <tr>\n",
       "      <th>5</th>\n",
       "      <td>Recidivism</td>\n",
       "      <td>0.569</td>\n",
       "      <td>0.035</td>\n",
       "      <td>0.609</td>\n",
       "      <td>0.035</td>\n",
       "      <td>0.586</td>\n",
       "      <td>0.039</td>\n",
       "      <td>0.585</td>\n",
       "      <td>0.039</td>\n",
       "      <td>0.579</td>\n",
       "      <td>0.037</td>\n",
       "    </tr>\n",
       "  </tbody>\n",
       "</table>\n",
       "</div>"
      ],
      "text/plain": [
       "   Unnamed: 0  AdaBoost    std    EBM  std.1  Lasso Stumps  std.2  \\\n",
       "0  Recidivism     0.584  0.025  0.625  0.017         0.625  0.022   \n",
       "1    Violence     0.675  0.036  0.672  0.026         0.714  0.036   \n",
       "2  Recidivism     0.652  0.024  0.602  0.096         0.720  0.030   \n",
       "3  Recidivism     0.659  0.067  0.706  0.066         0.712  0.062   \n",
       "4  Recidivism     0.539  0.038  0.626  0.035         0.591  0.037   \n",
       "5  Recidivism     0.569  0.035  0.609  0.035         0.586  0.039   \n",
       "\n",
       "   Arnold PSA Raw  std.3 Arnold PSA  std.4  \n",
       "0           0.585  0.039      0.579  0.037  \n",
       "1           0.682  0.052          -      -  \n",
       "2           0.518  0.028      0.506  0.033  \n",
       "3           0.628  0.062      0.621  0.066  \n",
       "4           0.589  0.037      0.582  0.038  \n",
       "5           0.585  0.039      0.579  0.037  "
      ]
     },
     "execution_count": 3,
     "metadata": {},
     "output_type": "execute_result"
    }
   ],
   "source": [
    "result"
   ]
  },
  {
   "cell_type": "code",
   "execution_count": 4,
   "metadata": {
    "hideCode": false,
    "hidePrompt": false
   },
   "outputs": [],
   "source": [
    "cols = result.columns.to_list()\n",
    "values = result.values.tolist()"
   ]
  },
  {
   "cell_type": "code",
   "execution_count": 5,
   "metadata": {
    "hideCode": false,
    "hideOutput": true,
    "hidePrompt": false
   },
   "outputs": [
    {
     "name": "stdout",
     "output_type": "stream",
     "text": [
      "\\begin{array}{l | r | r | r | r | r | r | r | r | r | r} \\hline\n",
      "    \\verb|Two Year Recidivism| & 0.7380 &  0.00200 & 0.7370 &  0.00100 & 0.7360 & 0.002 & 0.6970 & 0.00300 & 0.6880 & 0.00300 \\\\ \\hline\n",
      "    Violence            & 0.8210 &  0.00200 & 0.8200 &  0.00200 & 0.8150 & 0.002 & 0.7970 & 0.00200 & 0.7960 & 0.00200 \\\\ \\hline\n",
      "    Drug                & 0.7020 &  0.00400 & 0.7010 &  0.00400 & 0.6970 & 0.004 & 0.6540 & 0.00500 & 0.6500 & 0.00500 \\\\ \\hline\n",
      "    Property            & 0.7850 &  0.00700 & 0.7860 &  0.00700 & 0.7800 & 0.006 & 0.7240 & 0.01100 & 0.6980 & 0.01300 \\\\ \\hline\n",
      "    Felony              & 0.7460 &  0.00300 & 0.7450 &  0.00300 & 0.7420 & 0.003 & 0.7050 & 0.00200 & 0.6930 & 0.00200 \\\\ \\hline\n",
      "    Misdemeanor         & 0.7130 &  0.00200 & 0.7130 &  0.00200 & 0.7090 & 0.003 & 0.6870 & 0.00400 & 0.6780 & 0.00400 \\\\ \\hline\n",
      "\\end{array}\n"
     ]
    }
   ],
   "source": [
    "writer = pytablewriter.LatexTableWriter()\n",
    "writer.value_matrix = values\n",
    "writer.write_table()"
   ]
  }
 ],
 "metadata": {
  "hide_code_all_hidden": false,
  "kernelspec": {
   "display_name": "Python 3",
   "language": "python",
   "name": "python3"
  },
  "language_info": {
   "codemirror_mode": {
    "name": "ipython",
    "version": 3
   },
   "file_extension": ".py",
   "mimetype": "text/x-python",
   "name": "python",
   "nbconvert_exporter": "python",
   "pygments_lexer": "ipython3",
   "version": "3.7.0"
  }
 },
 "nbformat": 4,
 "nbformat_minor": 2
}
