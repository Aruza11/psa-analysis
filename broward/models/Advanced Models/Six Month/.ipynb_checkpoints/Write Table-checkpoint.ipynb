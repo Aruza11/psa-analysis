{
 "cells": [
  {
   "cell_type": "code",
   "execution_count": 1,
   "metadata": {
    "hideCode": false,
    "hidePrompt": false
   },
   "outputs": [],
   "source": [
    "import pytablewriter\n",
    "import pandas as pd\n",
    "import numpy as np"
   ]
  },
  {
   "cell_type": "code",
   "execution_count": 2,
   "metadata": {
    "hideCode": false,
    "hidePrompt": false
   },
   "outputs": [],
   "source": [
    "result = pd.read_csv(\"C:\\\\Users\\\\binha\\\\Documents\\\\Duke\\\\Cynthia Research\\\\KY-analysis-mytrials\\\\broward\\\\broward models\\\\model results\\\\Advanced Models\\\\Six Month\\\\Interpretable Models Summary.csv\")"
   ]
  },
  {
   "cell_type": "code",
   "execution_count": 3,
   "metadata": {
    "hideCode": false,
    "hidePrompt": false
   },
   "outputs": [
    {
     "data": {
      "text/html": [
       "<div>\n",
       "<style scoped>\n",
       "    .dataframe tbody tr th:only-of-type {\n",
       "        vertical-align: middle;\n",
       "    }\n",
       "\n",
       "    .dataframe tbody tr th {\n",
       "        vertical-align: top;\n",
       "    }\n",
       "\n",
       "    .dataframe thead th {\n",
       "        text-align: right;\n",
       "    }\n",
       "</style>\n",
       "<table border=\"1\" class=\"dataframe\">\n",
       "  <thead>\n",
       "    <tr style=\"text-align: right;\">\n",
       "      <th></th>\n",
       "      <th>Unnamed: 0</th>\n",
       "      <th>CART</th>\n",
       "      <th>EBM</th>\n",
       "      <th>Lasso Stumps</th>\n",
       "      <th>RiskSLIM</th>\n",
       "      <th>Performance Range</th>\n",
       "      <th>Arnold PSA Raw</th>\n",
       "      <th>Arnold PSA</th>\n",
       "    </tr>\n",
       "  </thead>\n",
       "  <tbody>\n",
       "    <tr>\n",
       "      <th>0</th>\n",
       "      <td>General</td>\n",
       "      <td>0.586 (0.01)</td>\n",
       "      <td>0.625 (0.017)</td>\n",
       "      <td>0.63 (0.018)</td>\n",
       "      <td>0.601 (0.028)</td>\n",
       "      <td>0.052</td>\n",
       "      <td>0.585 (0.039)</td>\n",
       "      <td>0.579 (0.037)</td>\n",
       "    </tr>\n",
       "    <tr>\n",
       "      <th>1</th>\n",
       "      <td>Violent</td>\n",
       "      <td>0.624 (0.02)</td>\n",
       "      <td>0.678 (0.034)</td>\n",
       "      <td>0.689 (0.022)</td>\n",
       "      <td>0.671 (0.017)</td>\n",
       "      <td>0.065</td>\n",
       "      <td>0.612 (0.053)</td>\n",
       "      <td>0.607 (0.051)</td>\n",
       "    </tr>\n",
       "    <tr>\n",
       "      <th>2</th>\n",
       "      <td>Drug</td>\n",
       "      <td>0.567 (0.062)</td>\n",
       "      <td>0.627 (0.073)</td>\n",
       "      <td>0.684 (0.079)</td>\n",
       "      <td>0.664 (0.079)</td>\n",
       "      <td>0.117</td>\n",
       "      <td>0.518 (0.028)</td>\n",
       "      <td>0.506 (0.033)</td>\n",
       "    </tr>\n",
       "    <tr>\n",
       "      <th>3</th>\n",
       "      <td>Property</td>\n",
       "      <td>0.64 (0.058)</td>\n",
       "      <td>0.711 (0.061)</td>\n",
       "      <td>0.706 (0.021)</td>\n",
       "      <td>0.691 (0.04)</td>\n",
       "      <td>0.070</td>\n",
       "      <td>0.628 (0.062)</td>\n",
       "      <td>0.621 (0.066)</td>\n",
       "    </tr>\n",
       "    <tr>\n",
       "      <th>4</th>\n",
       "      <td>Felony</td>\n",
       "      <td>0.538 (0.04)</td>\n",
       "      <td>0.629 (0.03)</td>\n",
       "      <td>0.607 (0.048)</td>\n",
       "      <td>0.593 (0.021)</td>\n",
       "      <td>0.091</td>\n",
       "      <td>0.589 (0.037)</td>\n",
       "      <td>0.582 (0.038)</td>\n",
       "    </tr>\n",
       "    <tr>\n",
       "      <th>5</th>\n",
       "      <td>Misdemeanor</td>\n",
       "      <td>0.568 (0.034)</td>\n",
       "      <td>0.606 (0.041)</td>\n",
       "      <td>0.596 (0.022)</td>\n",
       "      <td>0.565 (0.026)</td>\n",
       "      <td>0.041</td>\n",
       "      <td>0.561 (0.046)</td>\n",
       "      <td>0.557 (0.044)</td>\n",
       "    </tr>\n",
       "  </tbody>\n",
       "</table>\n",
       "</div>"
      ],
      "text/plain": [
       "    Unnamed: 0           CART            EBM   Lasso Stumps       RiskSLIM  \\\n",
       "0      General   0.586 (0.01)  0.625 (0.017)   0.63 (0.018)  0.601 (0.028)   \n",
       "1      Violent   0.624 (0.02)  0.678 (0.034)  0.689 (0.022)  0.671 (0.017)   \n",
       "2         Drug  0.567 (0.062)  0.627 (0.073)  0.684 (0.079)  0.664 (0.079)   \n",
       "3     Property   0.64 (0.058)  0.711 (0.061)  0.706 (0.021)   0.691 (0.04)   \n",
       "4       Felony   0.538 (0.04)   0.629 (0.03)  0.607 (0.048)  0.593 (0.021)   \n",
       "5  Misdemeanor  0.568 (0.034)  0.606 (0.041)  0.596 (0.022)  0.565 (0.026)   \n",
       "\n",
       "   Performance Range Arnold PSA Raw     Arnold PSA  \n",
       "0              0.052  0.585 (0.039)  0.579 (0.037)  \n",
       "1              0.065  0.612 (0.053)  0.607 (0.051)  \n",
       "2              0.117  0.518 (0.028)  0.506 (0.033)  \n",
       "3              0.070  0.628 (0.062)  0.621 (0.066)  \n",
       "4              0.091  0.589 (0.037)  0.582 (0.038)  \n",
       "5              0.041  0.561 (0.046)  0.557 (0.044)  "
      ]
     },
     "execution_count": 3,
     "metadata": {},
     "output_type": "execute_result"
    }
   ],
   "source": [
    "result"
   ]
  },
  {
   "cell_type": "code",
   "execution_count": 4,
   "metadata": {
    "hideCode": false,
    "hidePrompt": false
   },
   "outputs": [],
   "source": [
    "cols = result.columns.to_list()\n",
    "values = result.values.tolist()"
   ]
  },
  {
   "cell_type": "code",
   "execution_count": 5,
   "metadata": {
    "hideCode": false,
    "hideOutput": true,
    "hidePrompt": false
   },
   "outputs": [
    {
     "name": "stdout",
     "output_type": "stream",
     "text": [
      "\\begin{array}{l | r | r | r | r | r | r | r | r | l | l} \\hline\n",
      "    Recidivism & 0.584 & 0.02500 & 0.625 & 0.01700 & 0.6250 & 0.02200 & 0.585 & 0.03900 & 0.579 & 0.037 \\\\ \\hline\n",
      "    Violence   & 0.675 & 0.03600 & 0.672 & 0.02600 & 0.7140 & 0.03600 & 0.682 & 0.05200 & \\verb|-    | & \\verb|-    | \\\\ \\hline\n",
      "    Recidivism & 0.652 & 0.02400 & 0.602 & 0.09600 & 0.7200 & 0.03000 & 0.518 & 0.02800 & 0.506 & 0.033 \\\\ \\hline\n",
      "    Recidivism & 0.659 & 0.06700 & 0.706 & 0.06600 & 0.7120 & 0.06200 & 0.628 & 0.06200 & 0.621 & 0.066 \\\\ \\hline\n",
      "    Recidivism & 0.539 & 0.03800 & 0.626 & 0.03500 & 0.5910 & 0.03700 & 0.589 & 0.03700 & 0.582 & 0.038 \\\\ \\hline\n",
      "    Recidivism & 0.569 & 0.03500 & 0.609 & 0.03500 & 0.5860 & 0.03900 & 0.585 & 0.03900 & 0.579 & 0.037 \\\\ \\hline\n",
      "\\end{array}\n"
     ]
    }
   ],
   "source": [
    "writer = pytablewriter.LatexTableWriter()\n",
    "writer.value_matrix = values\n",
    "writer.write_table()"
   ]
  }
 ],
 "metadata": {
  "hide_code_all_hidden": false,
  "kernelspec": {
   "display_name": "Python 3",
   "language": "python",
   "name": "python3"
  },
  "language_info": {
   "codemirror_mode": {
    "name": "ipython",
    "version": 3
   },
   "file_extension": ".py",
   "mimetype": "text/x-python",
   "name": "python",
   "nbconvert_exporter": "python",
   "pygments_lexer": "ipython3",
   "version": "3.7.4"
  }
 },
 "nbformat": 4,
 "nbformat_minor": 4
}
