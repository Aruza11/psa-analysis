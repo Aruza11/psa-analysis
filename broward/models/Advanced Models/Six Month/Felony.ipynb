{
 "cells": [
  {
   "cell_type": "code",
   "execution_count": 1,
   "metadata": {},
   "outputs": [
    {
     "name": "stdout",
     "output_type": "stream",
     "text": [
      "Current working directory is now:  C:\\Users\\binha\\Documents\\Duke\\Cynthia Research\\psa-analysis - test\n",
      "no stored variable summary_F6_broward_interpret\n"
     ]
    },
    {
     "name": "stderr",
     "output_type": "stream",
     "text": [
      "C:\\Users\\binha\\Anaconda3\\lib\\site-packages\\sklearn\\externals\\six.py:31: DeprecationWarning:\n",
      "\n",
      "The module is deprecated in version 0.21 and will be removed in version 0.23 since we've dropped support for Python 2.7. Please rely on the official version of six (https://pypi.org/project/six/).\n",
      "\n"
     ]
    }
   ],
   "source": [
    "import os \n",
    "os.chdir('../../../../')\n",
    "print(\"Current working directory is now: \", os.getcwd())\n",
    "\n",
    "import pandas as pd \n",
    "import numpy as np\n",
    "import csv\n",
    "import utils.baseline_functions as base\n",
    "import RiskSLIM as slim\n",
    "import stumps\n",
    "\n",
    "from sklearn.linear_model import LogisticRegression\n",
    "from sklearn.model_selection import KFold, GridSearchCV\n",
    "from sklearn.metrics import roc_curve, auc\n",
    "\n",
    "# restore saved variables\n",
    "%store -r summary_F6_broward_interpret"
   ]
  },
  {
   "cell_type": "markdown",
   "metadata": {},
   "source": [
    "### CART & EBM"
   ]
  },
  {
   "cell_type": "code",
   "execution_count": 4,
   "metadata": {},
   "outputs": [],
   "source": [
    "data = pd.read_csv(\"~/Documents/Duke/Cynthia Research/KY-analysis-mytrials/broward/data/broward_data.csv\")\n",
    "x = data.loc[:,:'five_year']\n",
    "y = data['recid_F6'].values"
   ]
  },
  {
   "cell_type": "code",
   "execution_count": 5,
   "metadata": {
    "scrolled": true
   },
   "outputs": [
    {
     "name": "stdout",
     "output_type": "stream",
     "text": [
      "model_id, score_thresholds 0 {'rank_abs': [0]}\n",
      "get_disparity_predefined_group()\n",
      "model_id, score_thresholds 0 {'rank_abs': [4]}\n",
      "get_disparity_predefined_group()\n",
      "model_id, score_thresholds 0 {'rank_abs': [1]}\n",
      "get_disparity_predefined_group()\n",
      "model_id, score_thresholds 0 {'rank_abs': [0]}\n",
      "get_disparity_predefined_group()\n",
      "model_id, score_thresholds 0 {'rank_abs': [0]}\n",
      "get_disparity_predefined_group()\n"
     ]
    },
    {
     "name": "stderr",
     "output_type": "stream",
     "text": [
      "WARNING:interpret.utils.all:Passing a numpy array to schema autogen when it should be dataframe.\n",
      "WARNING:interpret.utils.all:Passing a numpy array to schema autogen when it should be dataframe.\n",
      "WARNING:interpret.utils.all:Passing a numpy array to schema autogen when it should be dataframe.\n",
      "WARNING:interpret.utils.all:Passing a numpy array to schema autogen when it should be dataframe.\n",
      "WARNING:interpret.utils.all:Passing a numpy array to schema autogen when it should be dataframe.\n",
      "WARNING:interpret.utils.all:Passing a numpy array to schema autogen when it should be dataframe.\n",
      "WARNING:interpret.utils.all:Passing a numpy array to schema autogen when it should be dataframe.\n",
      "WARNING:interpret.utils.all:Passing a numpy array to schema autogen when it should be dataframe.\n",
      "WARNING:interpret.utils.all:Passing a numpy array to schema autogen when it should be dataframe.\n",
      "WARNING:interpret.utils.all:Passing a numpy array to schema autogen when it should be dataframe.\n",
      "WARNING:interpret.utils.all:Passing a numpy array to schema autogen when it should be dataframe.\n",
      "WARNING:interpret.utils.all:Passing a numpy array to schema autogen when it should be dataframe.\n",
      "WARNING:interpret.utils.all:Passing a numpy array to schema autogen when it should be dataframe.\n",
      "WARNING:interpret.utils.all:Passing a numpy array to schema autogen when it should be dataframe.\n",
      "WARNING:interpret.utils.all:Passing a numpy array to schema autogen when it should be dataframe.\n",
      "WARNING:interpret.utils.all:Passing a numpy array to schema autogen when it should be dataframe.\n",
      "WARNING:interpret.utils.all:Passing a numpy array to schema autogen when it should be dataframe.\n",
      "WARNING:interpret.utils.all:Passing a numpy array to schema autogen when it should be dataframe.\n",
      "WARNING:interpret.utils.all:Passing a numpy array to schema autogen when it should be dataframe.\n",
      "WARNING:interpret.utils.all:Passing a numpy array to schema autogen when it should be dataframe.\n",
      "WARNING:interpret.utils.all:Passing a numpy array to schema autogen when it should be dataframe.\n",
      "WARNING:interpret.utils.all:Passing a numpy array to schema autogen when it should be dataframe.\n"
     ]
    },
    {
     "name": "stdout",
     "output_type": "stream",
     "text": [
      "model_id, score_thresholds 0 {'rank_abs': [0]}\n"
     ]
    },
    {
     "name": "stderr",
     "output_type": "stream",
     "text": [
      "WARNING:interpret.utils.all:Passing a numpy array to schema autogen when it should be dataframe.\n"
     ]
    },
    {
     "name": "stdout",
     "output_type": "stream",
     "text": [
      "get_disparity_predefined_group()\n"
     ]
    },
    {
     "name": "stderr",
     "output_type": "stream",
     "text": [
      "WARNING:interpret.utils.all:Passing a numpy array to schema autogen when it should be dataframe.\n",
      "WARNING:interpret.utils.all:Passing a numpy array to schema autogen when it should be dataframe.\n",
      "WARNING:interpret.utils.all:Passing a numpy array to schema autogen when it should be dataframe.\n",
      "WARNING:interpret.utils.all:Passing a numpy array to schema autogen when it should be dataframe.\n",
      "WARNING:interpret.utils.all:Passing a numpy array to schema autogen when it should be dataframe.\n",
      "WARNING:interpret.utils.all:Passing a numpy array to schema autogen when it should be dataframe.\n",
      "WARNING:interpret.utils.all:Passing a numpy array to schema autogen when it should be dataframe.\n",
      "WARNING:interpret.utils.all:Passing a numpy array to schema autogen when it should be dataframe.\n",
      "WARNING:interpret.utils.all:Passing a numpy array to schema autogen when it should be dataframe.\n",
      "WARNING:interpret.utils.all:Passing a numpy array to schema autogen when it should be dataframe.\n",
      "WARNING:interpret.utils.all:Passing a numpy array to schema autogen when it should be dataframe.\n",
      "WARNING:interpret.utils.all:Passing a numpy array to schema autogen when it should be dataframe.\n",
      "WARNING:interpret.utils.all:Passing a numpy array to schema autogen when it should be dataframe.\n",
      "WARNING:interpret.utils.all:Passing a numpy array to schema autogen when it should be dataframe.\n",
      "WARNING:interpret.utils.all:Passing a numpy array to schema autogen when it should be dataframe.\n",
      "WARNING:interpret.utils.all:Passing a numpy array to schema autogen when it should be dataframe.\n",
      "WARNING:interpret.utils.all:Passing a numpy array to schema autogen when it should be dataframe.\n",
      "WARNING:interpret.utils.all:Passing a numpy array to schema autogen when it should be dataframe.\n",
      "WARNING:interpret.utils.all:Passing a numpy array to schema autogen when it should be dataframe.\n",
      "WARNING:interpret.utils.all:Passing a numpy array to schema autogen when it should be dataframe.\n",
      "WARNING:interpret.utils.all:Passing a numpy array to schema autogen when it should be dataframe.\n"
     ]
    },
    {
     "name": "stdout",
     "output_type": "stream",
     "text": [
      "model_id, score_thresholds 0 {'rank_abs': [0]}\n"
     ]
    },
    {
     "name": "stderr",
     "output_type": "stream",
     "text": [
      "WARNING:interpret.utils.all:Passing a numpy array to schema autogen when it should be dataframe.\n"
     ]
    },
    {
     "name": "stdout",
     "output_type": "stream",
     "text": [
      "get_disparity_predefined_group()\n"
     ]
    },
    {
     "name": "stderr",
     "output_type": "stream",
     "text": [
      "WARNING:interpret.utils.all:Passing a numpy array to schema autogen when it should be dataframe.\n",
      "WARNING:interpret.utils.all:Passing a numpy array to schema autogen when it should be dataframe.\n",
      "WARNING:interpret.utils.all:Passing a numpy array to schema autogen when it should be dataframe.\n",
      "WARNING:interpret.utils.all:Passing a numpy array to schema autogen when it should be dataframe.\n",
      "WARNING:interpret.utils.all:Passing a numpy array to schema autogen when it should be dataframe.\n",
      "WARNING:interpret.utils.all:Passing a numpy array to schema autogen when it should be dataframe.\n",
      "WARNING:interpret.utils.all:Passing a numpy array to schema autogen when it should be dataframe.\n",
      "WARNING:interpret.utils.all:Passing a numpy array to schema autogen when it should be dataframe.\n",
      "WARNING:interpret.utils.all:Passing a numpy array to schema autogen when it should be dataframe.\n",
      "WARNING:interpret.utils.all:Passing a numpy array to schema autogen when it should be dataframe.\n",
      "WARNING:interpret.utils.all:Passing a numpy array to schema autogen when it should be dataframe.\n",
      "WARNING:interpret.utils.all:Passing a numpy array to schema autogen when it should be dataframe.\n",
      "WARNING:interpret.utils.all:Passing a numpy array to schema autogen when it should be dataframe.\n",
      "WARNING:interpret.utils.all:Passing a numpy array to schema autogen when it should be dataframe.\n",
      "WARNING:interpret.utils.all:Passing a numpy array to schema autogen when it should be dataframe.\n",
      "WARNING:interpret.utils.all:Passing a numpy array to schema autogen when it should be dataframe.\n",
      "WARNING:interpret.utils.all:Passing a numpy array to schema autogen when it should be dataframe.\n",
      "WARNING:interpret.utils.all:Passing a numpy array to schema autogen when it should be dataframe.\n",
      "WARNING:interpret.utils.all:Passing a numpy array to schema autogen when it should be dataframe.\n",
      "WARNING:interpret.utils.all:Passing a numpy array to schema autogen when it should be dataframe.\n",
      "WARNING:interpret.utils.all:Passing a numpy array to schema autogen when it should be dataframe.\n"
     ]
    },
    {
     "name": "stdout",
     "output_type": "stream",
     "text": [
      "model_id, score_thresholds 0 {'rank_abs': [0]}\n"
     ]
    },
    {
     "name": "stderr",
     "output_type": "stream",
     "text": [
      "WARNING:interpret.utils.all:Passing a numpy array to schema autogen when it should be dataframe.\n"
     ]
    },
    {
     "name": "stdout",
     "output_type": "stream",
     "text": [
      "get_disparity_predefined_group()\n"
     ]
    },
    {
     "name": "stderr",
     "output_type": "stream",
     "text": [
      "WARNING:interpret.utils.all:Passing a numpy array to schema autogen when it should be dataframe.\n",
      "WARNING:interpret.utils.all:Passing a numpy array to schema autogen when it should be dataframe.\n",
      "WARNING:interpret.utils.all:Passing a numpy array to schema autogen when it should be dataframe.\n",
      "WARNING:interpret.utils.all:Passing a numpy array to schema autogen when it should be dataframe.\n",
      "WARNING:interpret.utils.all:Passing a numpy array to schema autogen when it should be dataframe.\n",
      "WARNING:interpret.utils.all:Passing a numpy array to schema autogen when it should be dataframe.\n",
      "WARNING:interpret.utils.all:Passing a numpy array to schema autogen when it should be dataframe.\n",
      "WARNING:interpret.utils.all:Passing a numpy array to schema autogen when it should be dataframe.\n",
      "WARNING:interpret.utils.all:Passing a numpy array to schema autogen when it should be dataframe.\n",
      "WARNING:interpret.utils.all:Passing a numpy array to schema autogen when it should be dataframe.\n",
      "WARNING:interpret.utils.all:Passing a numpy array to schema autogen when it should be dataframe.\n",
      "WARNING:interpret.utils.all:Passing a numpy array to schema autogen when it should be dataframe.\n",
      "WARNING:interpret.utils.all:Passing a numpy array to schema autogen when it should be dataframe.\n",
      "WARNING:interpret.utils.all:Passing a numpy array to schema autogen when it should be dataframe.\n",
      "WARNING:interpret.utils.all:Passing a numpy array to schema autogen when it should be dataframe.\n",
      "WARNING:interpret.utils.all:Passing a numpy array to schema autogen when it should be dataframe.\n",
      "WARNING:interpret.utils.all:Passing a numpy array to schema autogen when it should be dataframe.\n",
      "WARNING:interpret.utils.all:Passing a numpy array to schema autogen when it should be dataframe.\n",
      "WARNING:interpret.utils.all:Passing a numpy array to schema autogen when it should be dataframe.\n",
      "WARNING:interpret.utils.all:Passing a numpy array to schema autogen when it should be dataframe.\n",
      "WARNING:interpret.utils.all:Passing a numpy array to schema autogen when it should be dataframe.\n"
     ]
    },
    {
     "name": "stdout",
     "output_type": "stream",
     "text": [
      "model_id, score_thresholds 0 {'rank_abs': [0]}\n",
      "get_disparity_predefined_group()\n"
     ]
    },
    {
     "name": "stderr",
     "output_type": "stream",
     "text": [
      "WARNING:interpret.utils.all:Passing a numpy array to schema autogen when it should be dataframe.\n",
      "WARNING:interpret.utils.all:Passing a numpy array to schema autogen when it should be dataframe.\n",
      "WARNING:interpret.utils.all:Passing a numpy array to schema autogen when it should be dataframe.\n",
      "WARNING:interpret.utils.all:Passing a numpy array to schema autogen when it should be dataframe.\n",
      "WARNING:interpret.utils.all:Passing a numpy array to schema autogen when it should be dataframe.\n",
      "WARNING:interpret.utils.all:Passing a numpy array to schema autogen when it should be dataframe.\n",
      "WARNING:interpret.utils.all:Passing a numpy array to schema autogen when it should be dataframe.\n",
      "WARNING:interpret.utils.all:Passing a numpy array to schema autogen when it should be dataframe.\n",
      "WARNING:interpret.utils.all:Passing a numpy array to schema autogen when it should be dataframe.\n",
      "WARNING:interpret.utils.all:Passing a numpy array to schema autogen when it should be dataframe.\n",
      "WARNING:interpret.utils.all:Passing a numpy array to schema autogen when it should be dataframe.\n",
      "WARNING:interpret.utils.all:Passing a numpy array to schema autogen when it should be dataframe.\n",
      "WARNING:interpret.utils.all:Passing a numpy array to schema autogen when it should be dataframe.\n",
      "WARNING:interpret.utils.all:Passing a numpy array to schema autogen when it should be dataframe.\n",
      "WARNING:interpret.utils.all:Passing a numpy array to schema autogen when it should be dataframe.\n",
      "WARNING:interpret.utils.all:Passing a numpy array to schema autogen when it should be dataframe.\n",
      "WARNING:interpret.utils.all:Passing a numpy array to schema autogen when it should be dataframe.\n",
      "WARNING:interpret.utils.all:Passing a numpy array to schema autogen when it should be dataframe.\n",
      "WARNING:interpret.utils.all:Passing a numpy array to schema autogen when it should be dataframe.\n",
      "WARNING:interpret.utils.all:Passing a numpy array to schema autogen when it should be dataframe.\n",
      "WARNING:interpret.utils.all:Passing a numpy array to schema autogen when it should be dataframe.\n",
      "WARNING:interpret.utils.all:Passing a numpy array to schema autogen when it should be dataframe.\n"
     ]
    },
    {
     "name": "stdout",
     "output_type": "stream",
     "text": [
      "model_id, score_thresholds 0 {'rank_abs': [0]}\n",
      "get_disparity_predefined_group()\n"
     ]
    }
   ],
   "source": [
    "#### CART\n",
    "depth = [1]\n",
    "impurity = [0.001, 0.003]\n",
    "split = [2,3,4]\n",
    "cart_summary = base.CART(X=x,\n",
    "                         Y=y,\n",
    "                         depth=depth,\n",
    "                         split=split,\n",
    "                         impurity=impurity, \n",
    "                         seed = 816)\n",
    "\n",
    "#### EBM\n",
    "estimators = [40,60]\n",
    "depth = [1]\n",
    "learning_rate = [0.01, 0.03]\n",
    "holdout_split = [0.9]\n",
    "ebm_summary = base.EBM(X=x,\n",
    "                       Y=y,\n",
    "                       learning_rate = learning_rate,\n",
    "                       depth = depth,\n",
    "                       estimators=estimators,\n",
    "                       holdout_split=holdout_split,\n",
    "                       seed=816)"
   ]
  },
  {
   "cell_type": "code",
   "execution_count": 14,
   "metadata": {},
   "outputs": [
    {
     "data": {
      "text/plain": [
       "(0.5384490738516593, 0.040682942852898155)"
      ]
     },
     "execution_count": 14,
     "metadata": {},
     "output_type": "execute_result"
    }
   ],
   "source": [
    "np.mean(cart_summary['holdout_test_auc']), np.mean(cart_summary['auc_diffs'])"
   ]
  },
  {
   "cell_type": "code",
   "execution_count": 15,
   "metadata": {},
   "outputs": [
    {
     "data": {
      "text/plain": [
       "(0.6293875862041538, 0.06471933818591483)"
      ]
     },
     "execution_count": 15,
     "metadata": {},
     "output_type": "execute_result"
    }
   ],
   "source": [
    "np.mean(ebm_summary['holdout_test_auc']), np.mean(ebm_summary['auc_diffs'])"
   ]
  },
  {
   "cell_type": "markdown",
   "metadata": {},
   "source": [
    "## Lasso Stumps"
   ]
  },
  {
   "cell_type": "code",
   "execution_count": 16,
   "metadata": {},
   "outputs": [],
   "source": [
    "## load whole data\n",
    "data = pd.read_csv(\"~/Documents/Duke/Cynthia Research/KY-analysis-mytrials/broward/data/broward_stumps.csv\")\n",
    "X_stumps, Y_stumps = data.loc[:,:'five_year>=1'], data['recid_F6'].values\n",
    "Y_stumps[Y_stumps == -1] = 0\n",
    "cols = X_stumps.columns[3:]\n",
    "\n",
    "## load train & test data\n",
    "train_stumps = pd.read_csv(\"~/Documents/Duke/Cynthia Research/KY-analysis-mytrials/broward/data/broward_train_stumps.csv\")\n",
    "test_stumps = pd.read_csv(\"~/Documents/Duke/Cynthia Research/KY-analysis-mytrials/broward/data/broward_test_stumps.csv\")\n",
    "\n",
    "X_train_stumps, Y_train_stumps = train_stumps.loc[:,:'five_year>=1'], train_stumps['recid_F6'].values\n",
    "X_test_stumps, Y_test_stumps = test_stumps.loc[:,:'five_year>=1'], test_stumps['recid_F6'].values\n",
    "\n",
    "Y_train_stumps[Y_train_stumps == -1] = 0\n",
    "Y_test_stumps[Y_test_stumps == -1] = 0"
   ]
  },
  {
   "cell_type": "markdown",
   "metadata": {},
   "source": [
    "#### Nested Cross Validation"
   ]
  },
  {
   "cell_type": "code",
   "execution_count": 23,
   "metadata": {},
   "outputs": [
    {
     "name": "stdout",
     "output_type": "stream",
     "text": [
      "model_id, score_thresholds 0 {'rank_abs': [168]}\n",
      "get_disparity_predefined_group()\n",
      "model_id, score_thresholds 0 {'rank_abs': [179]}\n",
      "get_disparity_predefined_group()\n",
      "model_id, score_thresholds 0 {'rank_abs': [162]}\n",
      "get_disparity_predefined_group()\n",
      "model_id, score_thresholds 0 {'rank_abs': [146]}\n",
      "get_disparity_predefined_group()\n",
      "model_id, score_thresholds 0 {'rank_abs': [137]}\n",
      "get_disparity_predefined_group()\n"
     ]
    }
   ],
   "source": [
    "stump_summary = stumps.stump_cv(X = X_stumps, \n",
    "                                Y = Y_stumps, \n",
    "                                columns=cols, \n",
    "                                c_grid={'C': [0.01, 0.02, 0.03]}, \n",
    "                                seed = 816)"
   ]
  },
  {
   "cell_type": "code",
   "execution_count": 24,
   "metadata": {},
   "outputs": [
    {
     "data": {
      "text/plain": [
       "({'C': 0.03}, 0.6066156398577509, 0.0632923554258525)"
      ]
     },
     "execution_count": 24,
     "metadata": {},
     "output_type": "execute_result"
    }
   ],
   "source": [
    "stump_summary['best_param'], np.mean(stump_summary['holdout_test_auc']), np.mean(stump_summary['auc_diffs'])"
   ]
  },
  {
   "cell_type": "markdown",
   "metadata": {},
   "source": [
    "##### Best Stump Model"
   ]
  },
  {
   "cell_type": "code",
   "execution_count": 25,
   "metadata": {},
   "outputs": [],
   "source": [
    "best_stump_model = stumps.stump_model(X_train_stumps, Y_train_stumps, \n",
    "                                      X_test_stumps, Y_test_stumps, \n",
    "                                      c=0.03, columns=cols, seed=816)"
   ]
  },
  {
   "cell_type": "markdown",
   "metadata": {},
   "source": [
    "##### Prediction Table"
   ]
  },
  {
   "cell_type": "code",
   "execution_count": 26,
   "metadata": {
    "scrolled": true
   },
   "outputs": [
    {
     "name": "stdout",
     "output_type": "stream",
     "text": [
      "+-----------------------------------+----------------+\n",
      "| Features                          | Score          |\n",
      "|====================================================|\n",
      "| p_current_age>=30                 | -5.0           |\n",
      "| p_current_age>=33                 | -14.0          |\n",
      "| p_charge>=11                      | 10.6           |\n",
      "| p_felprop_violarrest>=2           | 3.1            |\n",
      "| p_property>=2                     | 16.8           |\n",
      "| p_property>=4                     | 0.1            |\n",
      "| p_stealing>=2                     | 12.3           |\n",
      "| years_since_last_crime>=0.5       | -5.8           |\n",
      "| years_since_last_crime>=1         | -3.7           |\n",
      "| years_since_last_crime>=2         | -2.0           |\n",
      "| years_since_last_crime>=3         | -0.3           |\n",
      "| years_since_last_crime>=4         | -20.0          |\n",
      "| Intercept                         | 0.0            |\n",
      "|====================================================|\n",
      "| ADD POINTS FROM ROWS 1 TO 12      | Total Score    |\n",
      "+-----------------------------------+----------------+\n"
     ]
    }
   ],
   "source": [
    "stumps.stump_table(best_stump_model['coefs'], \n",
    "                   best_stump_model['features'], \n",
    "                   best_stump_model['intercept'], \n",
    "                   best_stump_model['dictionary'])"
   ]
  },
  {
   "cell_type": "markdown",
   "metadata": {},
   "source": [
    "##### Stumps Visualization"
   ]
  },
  {
   "cell_type": "code",
   "execution_count": 27,
   "metadata": {
    "scrolled": true
   },
   "outputs": [
    {
     "data": {
      "image/png": "[encoded data removed]",
      "text/plain": [
       "<Figure size 288x216 with 1 Axes>"
      ]
     },
     "metadata": {
      "needs_background": "light"
     },
     "output_type": "display_data"
    },
    {
     "data": {
      "image/png": "[encoded data removed]",
      "text/plain": [
       "<Figure size 288x216 with 1 Axes>"
      ]
     },
     "metadata": {
      "needs_background": "light"
     },
     "output_type": "display_data"
    },
    {
     "data": {
      "image/png": "[encoded data removed]",
      "text/plain": [
       "<Figure size 288x216 with 1 Axes>"
      ]
     },
     "metadata": {
      "needs_background": "light"
     },
     "output_type": "display_data"
    },
    {
     "data": {
      "image/png": "[encoded data removed]",
      "text/plain": [
       "<Figure size 288x216 with 1 Axes>"
      ]
     },
     "metadata": {
      "needs_background": "light"
     },
     "output_type": "display_data"
    }
   ],
   "source": [
    "stumps.stump_plots(best_stump_model['features'], best_stump_model['coefs'])"
   ]
  },
  {
   "cell_type": "markdown",
   "metadata": {},
   "source": [
    "## RiskSLIM"
   ]
  },
  {
   "cell_type": "code",
   "execution_count": 28,
   "metadata": {},
   "outputs": [],
   "source": [
    "## load stumps data\n",
    "data = pd.read_csv(\"~/Documents/Duke/Cynthia Research/KY-analysis-mytrials/broward/data/broward_stumps.csv\")\n",
    "x, y = data.loc[:,:'five_year>=1'], data['recid_F6'].values\n",
    "cols = x.columns[3:]"
   ]
  },
  {
   "cell_type": "code",
   "execution_count": 42,
   "metadata": {},
   "outputs": [
    {
     "data": {
      "text/plain": [
       "19"
      ]
     },
     "execution_count": 42,
     "metadata": {},
     "output_type": "execute_result"
    }
   ],
   "source": [
    "## train on best param chosen by Lasso Stumps from above\n",
    "x_train = x.copy().drop(['race', 'person_id', 'screening_date'], axis=1)\n",
    "lasso = LogisticRegression(class_weight='balanced', solver='liblinear', penalty='l1', C=0.05, random_state=816).fit(x_train,y)\n",
    "selected_features = cols[lasso.coef_[0] != 0].tolist()\n",
    "len(selected_features)"
   ]
  },
  {
   "cell_type": "code",
   "execution_count": 43,
   "metadata": {},
   "outputs": [],
   "source": [
    "### Subset features\n",
    "if 'sex' in selected_features:\n",
    "    selected_features = ['recid_F6', 'person_id', 'screening_date', 'race'] + selected_features\n",
    "    indicator = 1\n",
    "else:\n",
    "    selected_features = ['recid_F6', 'person_id', 'screening_date', 'race', 'sex'] + selected_features\n",
    "    indicator = 0\n",
    "\n",
    "sub_data = data[selected_features]\n",
    "sub_X, sub_Y = sub_data.iloc[:,1:], sub_data.iloc[:,0].values\n",
    "sub_X.insert(0, '(Intercept)', 1)"
   ]
  },
  {
   "cell_type": "code",
   "execution_count": 44,
   "metadata": {
    "scrolled": true
   },
   "outputs": [
    {
     "name": "stdout",
     "output_type": "stream",
     "text": [
      "setting c0 = 0.0 to ensure that intercept is not penalized\n",
      "09/10/19 @ 01:37 AM | switching loss computation from lookup to weighted\n",
      "09/10/19 @ 01:37 AM | ------------------------------------------------------------\n",
      "09/10/19 @ 01:37 AM | runnning initialization procedure\n",
      "09/10/19 @ 01:37 AM | ------------------------------------------------------------\n",
      "09/10/19 @ 01:37 AM | CPA produced 2 cuts\n",
      "09/10/19 @ 01:37 AM | running naive rounding on 95 solutions\n",
      "09/10/19 @ 01:37 AM | best objective value: 0.2743\n",
      "09/10/19 @ 01:37 AM | rounding produced 1 integer solutions\n",
      "09/10/19 @ 01:37 AM | best objective value is 0.2958\n",
      "09/10/19 @ 01:37 AM | running sequential rounding on 95 solutions\n",
      "09/10/19 @ 01:37 AM | best objective value: 0.2743\n",
      "09/10/19 @ 01:37 AM | sequential rounding produced 2 integer solutions\n",
      "09/10/19 @ 01:37 AM | best objective value: 0.2792\n",
      "09/10/19 @ 01:37 AM | polishing 3 solutions\n",
      "09/10/19 @ 01:37 AM | best objective value: 0.2792\n",
      "09/10/19 @ 01:37 AM | polishing produced 3 integer solutions\n",
      "09/10/19 @ 01:37 AM | initialization produced 4 feasible solutions\n",
      "09/10/19 @ 01:37 AM | best objective value: 0.2792\n",
      "09/10/19 @ 01:37 AM | ------------------------------------------------------------\n",
      "09/10/19 @ 01:37 AM | completed initialization procedure\n",
      "09/10/19 @ 01:37 AM | ------------------------------------------------------------\n",
      "09/10/19 @ 01:37 AM | switching loss computation from lookup to weighted\n",
      "CPXPARAM_Read_DataCheck                          1\n",
      "CPXPARAM_Threads                                 1\n",
      "CPXPARAM_Parallel                                1\n",
      "CPXPARAM_RandomSeed                              0\n",
      "CPXPARAM_TimeLimit                               200\n",
      "CPXPARAM_MIP_Tolerances_LowerCutoff              0.274234700354545\n",
      "CPXPARAM_MIP_Tolerances_UpperCutoff              0.27917136916981261\n"
     ]
    },
    {
     "name": "stderr",
     "output_type": "stream",
     "text": [
      "Warning: Control callbacks may disable some MIP features.\n"
     ]
    },
    {
     "name": "stdout",
     "output_type": "stream",
     "text": [
      "Lazy constraint(s) or lazy constraint callback is present.\n",
      "    Disabling dual reductions (CPX_PARAM_REDUCE) in presolve.\n",
      "    Disabling non-linear reductions (CPX_PARAM_PRELINEAR) in presolve.\n",
      "         Disabling repeat represolve because of lazy constraint/incumbent callback.\n",
      "09/10/19 @ 01:37 AM | adding 94 initial cuts\n",
      "1 of 1 MIP starts provided solutions.\n",
      "MIP start 'mip_start_0' defined initial solution with objective 0.2792.\n",
      "Tried aggregator 1 time.\n",
      "Reduced MIP has 21 rows, 42 columns, and 79 nonzeros.\n",
      "Reduced MIP has 19 binaries, 21 generals, 0 SOSs, and 0 indicators.\n",
      "Presolve time = 0.00 sec. (0.04 ticks)\n",
      "Probing time = 0.00 sec. (0.01 ticks)\n",
      "MIP emphasis: balance optimality and feasibility.\n",
      "MIP search method: traditional branch-and-cut.\n",
      "Parallel mode: none, using 1 thread.\n",
      "Root relaxation solution time = 0.00 sec. (0.02 ticks)\n",
      "\n",
      "        Nodes                                         Cuts/\n",
      "   Node  Left     Objective  IInf  Best Integer    Best Bound    ItCnt     Gap         Variable B NodeID Parent  Depth\n",
      "\n",
      "*     0+    0                            0.2792        0.2742             1.77%\n",
      "      0     0        0.2742     1        0.2792        0.2742        0    1.77%\n",
      "      0     2        0.2742     6        0.2792        0.2742        0    1.77%                        0             0\n",
      "Elapsed time = 0.06 sec. (1.07 ticks, tree = 0.01 MB, solutions = 1)\n",
      "   4163   281        cutoff              0.2792        0.2767    17646    0.88%          rho_11 D   4163   1931     22\n",
      "\n",
      "User cuts applied:  68\n",
      "\n",
      "Root node processing (before b&c):\n",
      "  Real time             =    0.06 sec. (1.07 ticks)\n",
      "Sequential b&c:\n",
      "  Real time             =    0.53 sec. (257.73 ticks)\n",
      "                          ------------\n",
      "Total (root+branch&cut) =    0.59 sec. (258.80 ticks)\n",
      "+----------------------------------------------+------------------+-----------+\n",
      "| Pr(Y = +1) = 1.0/(1.0 + exp(-(-5 + score))   |                  |           |\n",
      "| ============================================ | ================ | ========= |\n",
      "| p_charge>=3                                  |         2 points |   + ..... |\n",
      "| p_felprop_violarrest>=2                      |         1 points |   + ..... |\n",
      "| prior_conviction_M>=7                        |         1 points |   + ..... |\n",
      "| ============================================ | ================ | ========= |\n",
      "| ADD POINTS FROM ROWS 1 to 3                  |            SCORE |   = ..... |\n",
      "+----------------------------------------------+------------------+-----------+\n",
      "model_id, score_thresholds 0 {'rank_abs': [0]}\n",
      "get_disparity_predefined_group()\n",
      "setting c0 = 0.0 to ensure that intercept is not penalized\n",
      "09/10/19 @ 01:37 AM | switching loss computation from lookup to weighted\n",
      "09/10/19 @ 01:37 AM | ------------------------------------------------------------\n",
      "09/10/19 @ 01:37 AM | runnning initialization procedure\n",
      "09/10/19 @ 01:37 AM | ------------------------------------------------------------\n",
      "09/10/19 @ 01:37 AM | CPA produced 2 cuts\n",
      "09/10/19 @ 01:37 AM | running naive rounding on 109 solutions\n",
      "09/10/19 @ 01:37 AM | best objective value: 0.2898\n",
      "09/10/19 @ 01:37 AM | rounding produced 2 integer solutions\n",
      "09/10/19 @ 01:37 AM | best objective value is 0.2978\n",
      "09/10/19 @ 01:37 AM | running sequential rounding on 109 solutions\n",
      "09/10/19 @ 01:37 AM | best objective value: 0.2898\n",
      "09/10/19 @ 01:37 AM | sequential rounding produced 2 integer solutions\n",
      "09/10/19 @ 01:37 AM | best objective value: 0.2933\n",
      "09/10/19 @ 01:37 AM | polishing 4 solutions\n",
      "09/10/19 @ 01:37 AM | best objective value: 0.2933\n",
      "09/10/19 @ 01:37 AM | polishing produced 2 integer solutions\n",
      "09/10/19 @ 01:37 AM | initialization produced 3 feasible solutions\n",
      "09/10/19 @ 01:37 AM | best objective value: 0.2933\n",
      "09/10/19 @ 01:37 AM | ------------------------------------------------------------\n",
      "09/10/19 @ 01:37 AM | completed initialization procedure\n",
      "09/10/19 @ 01:37 AM | ------------------------------------------------------------\n",
      "09/10/19 @ 01:37 AM | switching loss computation from lookup to weighted\n",
      "CPXPARAM_Read_DataCheck                          1\n",
      "CPXPARAM_Threads                                 1\n",
      "CPXPARAM_Parallel                                1\n",
      "CPXPARAM_RandomSeed                              0\n",
      "CPXPARAM_TimeLimit                               200\n",
      "CPXPARAM_MIP_Tolerances_LowerCutoff              0.28978173620472092\n",
      "CPXPARAM_MIP_Tolerances_UpperCutoff              0.29334063708409397\n"
     ]
    },
    {
     "name": "stderr",
     "output_type": "stream",
     "text": [
      "Warning: Control callbacks may disable some MIP features.\n"
     ]
    },
    {
     "name": "stdout",
     "output_type": "stream",
     "text": [
      "Lazy constraint(s) or lazy constraint callback is present.\n",
      "    Disabling dual reductions (CPX_PARAM_REDUCE) in presolve.\n",
      "    Disabling non-linear reductions (CPX_PARAM_PRELINEAR) in presolve.\n",
      "         Disabling repeat represolve because of lazy constraint/incumbent callback.\n",
      "09/10/19 @ 01:37 AM | adding 111 initial cuts\n",
      "1 of 1 MIP starts provided solutions.\n",
      "MIP start 'mip_start_0' defined initial solution with objective 0.2933.\n",
      "Tried aggregator 1 time.\n",
      "Reduced MIP has 21 rows, 42 columns, and 79 nonzeros.\n",
      "Reduced MIP has 19 binaries, 21 generals, 0 SOSs, and 0 indicators.\n",
      "Presolve time = 0.01 sec. (0.04 ticks)\n",
      "Probing time = 0.00 sec. (0.01 ticks)\n",
      "MIP emphasis: balance optimality and feasibility.\n",
      "MIP search method: traditional branch-and-cut.\n",
      "Parallel mode: none, using 1 thread.\n",
      "Root relaxation solution time = 0.00 sec. (0.02 ticks)\n",
      "\n",
      "        Nodes                                         Cuts/\n",
      "   Node  Left     Objective  IInf  Best Integer    Best Bound    ItCnt     Gap         Variable B NodeID Parent  Depth\n",
      "\n",
      "*     0+    0                            0.2933        0.2898             1.21%\n",
      "      0     0        0.2898     1        0.2933        0.2898        0    1.21%\n",
      "      0     2        0.2898     3        0.2933        0.2898        0    1.21%                        0             0\n",
      "Elapsed time = 0.06 sec. (1.00 ticks, tree = 0.01 MB, solutions = 1)\n",
      "*   180+   49                            0.2933        0.2898             1.20%\n",
      "\n",
      "Implied bound cuts applied:  4\n",
      "User cuts applied:  42\n",
      "\n",
      "Root node processing (before b&c):\n",
      "  Real time             =    0.06 sec. (0.99 ticks)\n",
      "Sequential b&c:\n",
      "  Real time             =    0.20 sec. (50.62 ticks)\n",
      "                          ------------\n",
      "Total (root+branch&cut) =    0.27 sec. (51.61 ticks)\n",
      "+----------------------------------------------+------------------+-----------+\n",
      "| Pr(Y = +1) = 1.0/(1.0 + exp(-(-5 + score))   |                  |           |\n",
      "| ============================================ | ================ | ========= |\n",
      "| p_charge>=3                                  |         2 points |   + ..... |\n",
      "| p_stealing>=1                                |         1 points |   + ..... |\n",
      "| ============================================ | ================ | ========= |\n",
      "| ADD POINTS FROM ROWS 1 to 2                  |            SCORE |   = ..... |\n",
      "+----------------------------------------------+------------------+-----------+\n",
      "model_id, score_thresholds 0 {'rank_abs': [0]}\n",
      "get_disparity_predefined_group()\n",
      "setting c0 = 0.0 to ensure that intercept is not penalized\n",
      "09/10/19 @ 01:37 AM | 861 rows in lookup table\n",
      "09/10/19 @ 01:37 AM | ------------------------------------------------------------\n",
      "09/10/19 @ 01:37 AM | runnning initialization procedure\n",
      "09/10/19 @ 01:37 AM | ------------------------------------------------------------\n",
      "09/10/19 @ 01:37 AM | CPA produced 2 cuts\n",
      "09/10/19 @ 01:37 AM | running naive rounding on 105 solutions\n",
      "09/10/19 @ 01:37 AM | best objective value: 0.2951\n",
      "09/10/19 @ 01:37 AM | rounding produced 1 integer solutions\n",
      "09/10/19 @ 01:37 AM | best objective value is 0.3065\n",
      "09/10/19 @ 01:37 AM | running sequential rounding on 105 solutions\n",
      "09/10/19 @ 01:37 AM | best objective value: 0.2951\n",
      "09/10/19 @ 01:37 AM | sequential rounding produced 1 integer solutions\n",
      "09/10/19 @ 01:37 AM | best objective value: 0.3065\n",
      "09/10/19 @ 01:37 AM | polishing 2 solutions\n",
      "09/10/19 @ 01:37 AM | best objective value: 0.3065\n",
      "09/10/19 @ 01:37 AM | polishing produced 1 integer solutions\n",
      "09/10/19 @ 01:37 AM | initialization produced 1 feasible solutions\n",
      "09/10/19 @ 01:37 AM | best objective value: 0.3065\n",
      "09/10/19 @ 01:37 AM | ------------------------------------------------------------\n",
      "09/10/19 @ 01:37 AM | completed initialization procedure\n",
      "09/10/19 @ 01:37 AM | ------------------------------------------------------------\n",
      "09/10/19 @ 01:37 AM | 861 rows in lookup table\n",
      "CPXPARAM_Read_DataCheck                          1\n",
      "CPXPARAM_Threads                                 1\n",
      "CPXPARAM_Parallel                                1\n",
      "CPXPARAM_RandomSeed                              0\n",
      "CPXPARAM_TimeLimit                               200\n",
      "CPXPARAM_MIP_Tolerances_LowerCutoff              0.29512221346264944\n",
      "CPXPARAM_MIP_Tolerances_UpperCutoff              0.30652767596296226\n"
     ]
    },
    {
     "name": "stderr",
     "output_type": "stream",
     "text": [
      "Warning: Control callbacks may disable some MIP features.\n"
     ]
    },
    {
     "name": "stdout",
     "output_type": "stream",
     "text": [
      "Lazy constraint(s) or lazy constraint callback is present.\n",
      "    Disabling dual reductions (CPX_PARAM_REDUCE) in presolve.\n",
      "    Disabling non-linear reductions (CPX_PARAM_PRELINEAR) in presolve.\n",
      "         Disabling repeat represolve because of lazy constraint/incumbent callback.\n",
      "09/10/19 @ 01:37 AM | adding 104 initial cuts\n",
      "1 of 1 MIP starts provided solutions.\n",
      "MIP start 'mip_start_0' defined initial solution with objective 0.3065.\n",
      "Tried aggregator 1 time.\n",
      "Reduced MIP has 21 rows, 42 columns, and 79 nonzeros.\n",
      "Reduced MIP has 19 binaries, 21 generals, 0 SOSs, and 0 indicators.\n",
      "Presolve time = 0.00 sec. (0.04 ticks)\n",
      "Probing time = 0.00 sec. (0.01 ticks)\n",
      "MIP emphasis: balance optimality and feasibility.\n",
      "MIP search method: traditional branch-and-cut.\n",
      "Parallel mode: none, using 1 thread.\n",
      "Root relaxation solution time = 0.00 sec. (0.02 ticks)\n",
      "\n",
      "        Nodes                                         Cuts/\n",
      "   Node  Left     Objective  IInf  Best Integer    Best Bound    ItCnt     Gap         Variable B NodeID Parent  Depth\n",
      "\n",
      "*     0+    0                            0.3065        0.2951             3.72%\n",
      "      0     0        0.2951     1        0.3065        0.2951        0    3.72%\n",
      "*     0+    0                            0.3039        0.2951             2.88%\n",
      "      0     2        0.2951     4        0.3039        0.2951        0    2.88%                        0             0\n",
      "Elapsed time = 0.06 sec. (0.99 ticks, tree = 0.01 MB, solutions = 2)\n",
      "*   227    85      integral     0        0.3027        0.2951      659    2.51%\n",
      "*   460+  139                            0.3027        0.2951             2.50%\n",
      "*   923   252      integral     0        0.3025        0.2951     3194    2.44%\n",
      "*  2063   465      integral     0        0.3022        0.2951     8151    2.34%\n",
      "*  2873   314      integral     0        0.3022        0.2982    10783    1.32%\n",
      "   3050   209        0.3013     5        0.3022        0.2993    11283    0.97%           rho_6 U   3050    712     11\n",
      "*  3293     6      integral     0        0.3017        0.3017    11920    0.02%\n",
      "\n",
      "User cuts applied:  118\n",
      "\n",
      "Root node processing (before b&c):\n",
      "  Real time             =    0.06 sec. (1.00 ticks)\n",
      "Sequential b&c:\n",
      "  Real time             =    0.44 sec. (256.39 ticks)\n",
      "                          ------------\n",
      "Total (root+branch&cut) =    0.50 sec. (257.39 ticks)\n",
      "+----------------------------------------------+------------------+-----------+\n",
      "| Pr(Y = +1) = 1.0/(1.0 + exp(-(-4 + score))   |                  |           |\n",
      "| ============================================ | ================ | ========= |\n",
      "| p_charge>=3                                  |         1 points |   + ..... |\n",
      "| p_charge>=11                                 |         1 points |   + ..... |\n",
      "| p_felprop_violarrest>=2                      |         1 points |   + ..... |\n",
      "| ============================================ | ================ | ========= |\n",
      "| ADD POINTS FROM ROWS 1 to 3                  |            SCORE |   = ..... |\n",
      "+----------------------------------------------+------------------+-----------+\n",
      "model_id, score_thresholds 0 {'rank_abs': [0]}\n",
      "get_disparity_predefined_group()\n",
      "setting c0 = 0.0 to ensure that intercept is not penalized\n",
      "09/10/19 @ 01:37 AM | 861 rows in lookup table\n",
      "09/10/19 @ 01:37 AM | ------------------------------------------------------------\n",
      "09/10/19 @ 01:37 AM | runnning initialization procedure\n",
      "09/10/19 @ 01:37 AM | ------------------------------------------------------------\n",
      "09/10/19 @ 01:37 AM | CPA produced 2 cuts\n",
      "09/10/19 @ 01:37 AM | running naive rounding on 113 solutions\n",
      "09/10/19 @ 01:37 AM | best objective value: 0.2694\n",
      "09/10/19 @ 01:37 AM | rounding produced 1 integer solutions\n",
      "09/10/19 @ 01:37 AM | best objective value is 0.2917\n",
      "09/10/19 @ 01:37 AM | running sequential rounding on 113 solutions\n",
      "09/10/19 @ 01:37 AM | best objective value: 0.2694\n",
      "09/10/19 @ 01:37 AM | sequential rounding produced 2 integer solutions\n",
      "09/10/19 @ 01:37 AM | best objective value: 0.2748\n",
      "09/10/19 @ 01:37 AM | polishing 3 solutions\n",
      "09/10/19 @ 01:37 AM | best objective value: 0.2748\n",
      "09/10/19 @ 01:37 AM | polishing produced 3 integer solutions\n",
      "09/10/19 @ 01:37 AM | initialization produced 4 feasible solutions\n",
      "09/10/19 @ 01:37 AM | best objective value: 0.2748\n",
      "09/10/19 @ 01:37 AM | ------------------------------------------------------------\n",
      "09/10/19 @ 01:37 AM | completed initialization procedure\n",
      "09/10/19 @ 01:37 AM | ------------------------------------------------------------\n",
      "09/10/19 @ 01:37 AM | 861 rows in lookup table\n",
      "CPXPARAM_Read_DataCheck                          1\n",
      "CPXPARAM_Threads                                 1\n",
      "CPXPARAM_Parallel                                1\n",
      "CPXPARAM_RandomSeed                              0\n",
      "CPXPARAM_TimeLimit                               200\n",
      "CPXPARAM_MIP_Tolerances_LowerCutoff              0.26933121291061085\n",
      "CPXPARAM_MIP_Tolerances_UpperCutoff              0.27476597065502401\n"
     ]
    },
    {
     "name": "stderr",
     "output_type": "stream",
     "text": [
      "Warning: Control callbacks may disable some MIP features.\n"
     ]
    },
    {
     "name": "stdout",
     "output_type": "stream",
     "text": [
      "Lazy constraint(s) or lazy constraint callback is present.\n",
      "    Disabling dual reductions (CPX_PARAM_REDUCE) in presolve.\n",
      "    Disabling non-linear reductions (CPX_PARAM_PRELINEAR) in presolve.\n",
      "         Disabling repeat represolve because of lazy constraint/incumbent callback.\n",
      "09/10/19 @ 01:37 AM | adding 112 initial cuts\n",
      "1 of 1 MIP starts provided solutions.\n",
      "MIP start 'mip_start_0' defined initial solution with objective 0.2748.\n",
      "Tried aggregator 1 time.\n",
      "Reduced MIP has 21 rows, 42 columns, and 79 nonzeros.\n",
      "Reduced MIP has 19 binaries, 21 generals, 0 SOSs, and 0 indicators.\n",
      "Presolve time = 0.00 sec. (0.04 ticks)\n",
      "Probing time = 0.00 sec. (0.01 ticks)\n",
      "MIP emphasis: balance optimality and feasibility.\n",
      "MIP search method: traditional branch-and-cut.\n",
      "Parallel mode: none, using 1 thread.\n",
      "Root relaxation solution time = 0.02 sec. (0.02 ticks)\n",
      "\n",
      "        Nodes                                         Cuts/\n",
      "   Node  Left     Objective  IInf  Best Integer    Best Bound    ItCnt     Gap         Variable B NodeID Parent  Depth\n",
      "\n",
      "*     0+    0                            0.2748        0.2693             1.98%\n",
      "      0     0        0.2693     1        0.2748        0.2693        0    1.98%\n",
      "      0     2        0.2693     5        0.2748        0.2693        0    1.98%                        0             0\n",
      "Elapsed time = 0.06 sec. (1.10 ticks, tree = 0.01 MB, solutions = 1)\n",
      "*   320+  140                            0.2744        0.2693             1.86%\n",
      "   3529   634        0.2735     8        0.2744        0.2693    13984    1.86%          rho_15 U   3529   3015     22\n",
      "\n",
      "User cuts applied:  91\n",
      "\n",
      "Root node processing (before b&c):\n",
      "  Real time             =    0.06 sec. (1.10 ticks)\n",
      "Sequential b&c:\n",
      "  Real time             =    0.55 sec. (366.41 ticks)\n",
      "                          ------------\n",
      "Total (root+branch&cut) =    0.61 sec. (367.50 ticks)\n",
      "+----------------------------------------------+------------------+-----------+\n",
      "| Pr(Y = +1) = 1.0/(1.0 + exp(-(-5 + score))   |                  |           |\n",
      "| ============================================ | ================ | ========= |\n",
      "| p_charge>=3                                  |         2 points |   + ..... |\n",
      "| p_stealing>=1                                |         1 points |   + ..... |\n",
      "| ============================================ | ================ | ========= |\n",
      "| ADD POINTS FROM ROWS 1 to 2                  |            SCORE |   = ..... |\n",
      "+----------------------------------------------+------------------+-----------+\n",
      "model_id, score_thresholds 0 {'rank_abs': [0]}\n",
      "get_disparity_predefined_group()\n",
      "setting c0 = 0.0 to ensure that intercept is not penalized\n",
      "09/10/19 @ 01:37 AM | 861 rows in lookup table\n",
      "09/10/19 @ 01:37 AM | ------------------------------------------------------------\n",
      "09/10/19 @ 01:37 AM | runnning initialization procedure\n",
      "09/10/19 @ 01:37 AM | ------------------------------------------------------------\n",
      "09/10/19 @ 01:37 AM | CPA produced 2 cuts\n",
      "09/10/19 @ 01:37 AM | running naive rounding on 111 solutions\n",
      "09/10/19 @ 01:37 AM | best objective value: 0.2851\n",
      "09/10/19 @ 01:37 AM | rounding produced 1 integer solutions\n",
      "09/10/19 @ 01:37 AM | best objective value is 0.3103\n",
      "09/10/19 @ 01:37 AM | running sequential rounding on 111 solutions\n",
      "09/10/19 @ 01:37 AM | best objective value: 0.2851\n",
      "09/10/19 @ 01:37 AM | sequential rounding produced 2 integer solutions\n",
      "09/10/19 @ 01:37 AM | best objective value: 0.2954\n",
      "09/10/19 @ 01:37 AM | polishing 3 solutions\n",
      "09/10/19 @ 01:37 AM | best objective value: 0.2954\n",
      "09/10/19 @ 01:37 AM | polishing produced 3 integer solutions\n",
      "09/10/19 @ 01:37 AM | initialization produced 4 feasible solutions\n",
      "09/10/19 @ 01:37 AM | best objective value: 0.2954\n",
      "09/10/19 @ 01:37 AM | ------------------------------------------------------------\n",
      "09/10/19 @ 01:37 AM | completed initialization procedure\n",
      "09/10/19 @ 01:37 AM | ------------------------------------------------------------\n",
      "09/10/19 @ 01:37 AM | 861 rows in lookup table\n",
      "CPXPARAM_Read_DataCheck                          1\n",
      "CPXPARAM_Threads                                 1\n",
      "CPXPARAM_Parallel                                1\n",
      "CPXPARAM_RandomSeed                              0\n",
      "CPXPARAM_TimeLimit                               200\n",
      "CPXPARAM_MIP_Tolerances_LowerCutoff              0.28504208244678425\n",
      "CPXPARAM_MIP_Tolerances_UpperCutoff              0.29542470129779957\n"
     ]
    },
    {
     "name": "stderr",
     "output_type": "stream",
     "text": [
      "Warning: Control callbacks may disable some MIP features.\n"
     ]
    },
    {
     "name": "stdout",
     "output_type": "stream",
     "text": [
      "Lazy constraint(s) or lazy constraint callback is present.\n",
      "    Disabling dual reductions (CPX_PARAM_REDUCE) in presolve.\n",
      "    Disabling non-linear reductions (CPX_PARAM_PRELINEAR) in presolve.\n",
      "         Disabling repeat represolve because of lazy constraint/incumbent callback.\n",
      "09/10/19 @ 01:37 AM | adding 110 initial cuts\n",
      "1 of 1 MIP starts provided solutions.\n",
      "MIP start 'mip_start_0' defined initial solution with objective 0.2954.\n",
      "Tried aggregator 1 time.\n",
      "Reduced MIP has 21 rows, 42 columns, and 79 nonzeros.\n",
      "Reduced MIP has 19 binaries, 21 generals, 0 SOSs, and 0 indicators.\n",
      "Presolve time = 0.00 sec. (0.04 ticks)\n",
      "Probing time = 0.00 sec. (0.01 ticks)\n",
      "MIP emphasis: balance optimality and feasibility.\n",
      "MIP search method: traditional branch-and-cut.\n",
      "Parallel mode: none, using 1 thread.\n",
      "Root relaxation solution time = 0.00 sec. (0.02 ticks)\n",
      "\n",
      "        Nodes                                         Cuts/\n",
      "   Node  Left     Objective  IInf  Best Integer    Best Bound    ItCnt     Gap         Variable B NodeID Parent  Depth\n",
      "\n",
      "*     0+    0                            0.2954        0.2850             3.51%\n",
      "      0     0        0.2850     1        0.2954        0.2850        0    3.51%\n",
      "*     0+    0                            0.2920        0.2850             2.37%\n",
      "      0     2        0.2850     4        0.2920        0.2850        0    2.37%                        0             0\n",
      "Elapsed time = 0.05 sec. (1.07 ticks, tree = 0.01 MB, solutions = 2)\n",
      "*   470+  172                            0.2918        0.2850             2.32%\n",
      "*   595   187      integral     0        0.2918        0.2850     1870    2.32%\n",
      "*   960+  255                            0.2907        0.2850             1.96%\n",
      "*  1187   296      integral     0        0.2906        0.2850     4088    1.93%\n",
      "   3300   332        0.2893     3        0.2906        0.2876    12276    1.04%          rho_16 U   3300   1481     25\n",
      "\n",
      "User cuts applied:  102\n",
      "\n",
      "Root node processing (before b&c):\n",
      "  Real time             =    0.05 sec. (1.08 ticks)\n",
      "Sequential b&c:\n",
      "  Real time             =    0.41 sec. (270.58 ticks)\n",
      "                          ------------\n",
      "Total (root+branch&cut) =    0.45 sec. (271.66 ticks)\n",
      "+----------------------------------------------+------------------+-----------+\n",
      "| Pr(Y = +1) = 1.0/(1.0 + exp(-(-4 + score))   |                  |           |\n",
      "| ============================================ | ================ | ========= |\n",
      "| p_charge>=3                                  |         1 points |   + ..... |\n",
      "| p_property>=2                                |         1 points |   + ..... |\n",
      "| ============================================ | ================ | ========= |\n",
      "| ADD POINTS FROM ROWS 1 to 2                  |            SCORE |   = ..... |\n",
      "+----------------------------------------------+------------------+-----------+\n",
      "model_id, score_thresholds 0 {'rank_abs': [0]}\n",
      "get_disparity_predefined_group()\n"
     ]
    }
   ],
   "source": [
    "riskslim_summary = slim.risk_cv(X=sub_X, \n",
    "                                Y=sub_Y, \n",
    "                                indicator = indicator,\n",
    "                                y_label='recid_F6', \n",
    "                                max_coef=20, \n",
    "                                max_coef_number=10, \n",
    "                                max_runtime=200, \n",
    "                                c=1e-8, \n",
    "                                seed=816)"
   ]
  },
  {
   "cell_type": "code",
   "execution_count": 45,
   "metadata": {},
   "outputs": [
    {
     "data": {
      "text/plain": [
       "(0.6158169419043178, 0.5933561382997344)"
      ]
     },
     "execution_count": 45,
     "metadata": {},
     "output_type": "execute_result"
    }
   ],
   "source": [
    "np.mean(riskslim_summary['train_auc']), np.mean(riskslim_summary['test_auc'])"
   ]
  },
  {
   "cell_type": "markdown",
   "metadata": {},
   "source": [
    "## Arnold PSA"
   ]
  },
  {
   "cell_type": "code",
   "execution_count": 46,
   "metadata": {},
   "outputs": [],
   "source": [
    "### load data\n",
    "data = pd.read_csv(\"~/Documents/Duke/Cynthia Research/KY-analysis-mytrials/broward/data/broward_arnold.csv\")\n",
    "X_arnold_raw = data['arnold_nca_raw'].values\n",
    "X_arnold_calc = data['arnold_nca'].values\n",
    "Y_arnold = data['recid_F6'].values"
   ]
  },
  {
   "cell_type": "code",
   "execution_count": 47,
   "metadata": {},
   "outputs": [],
   "source": [
    "## set up cross validation\n",
    "cv = KFold(n_splits=5,shuffle=True,random_state=816)\n",
    "raw_auc = []\n",
    "calc_auc = []\n",
    "\n",
    "## raw score\n",
    "i = 1\n",
    "for train, test in cv.split(X_arnold_raw, Y_arnold):\n",
    "    y_pred_raw, y_pred_calc, y_test = X_arnold_raw[test], X_arnold_calc[test], Y_arnold[test]\n",
    "    raw_fpr, raw_tpr, raw_thresholds = roc_curve(y_test, y_pred_raw)\n",
    "    calc_fpr, calc_tpr, calc_thresholds = roc_curve(y_test, y_pred_calc)\n",
    "    raw_auc.append(auc(raw_fpr, raw_tpr))\n",
    "    calc_auc.append(auc(calc_fpr, calc_tpr))\n",
    "    i+=1 "
   ]
  },
  {
   "cell_type": "markdown",
   "metadata": {},
   "source": [
    "### Results"
   ]
  },
  {
   "cell_type": "code",
   "execution_count": 48,
   "metadata": {},
   "outputs": [
    {
     "name": "stdout",
     "output_type": "stream",
     "text": [
      "Stored 'summary_F6_broward_interpret' (dict)\n"
     ]
    }
   ],
   "source": [
    "#### save results\n",
    "summary_F6_broward_interpret = {\"CART\": cart_summary,\n",
    "                                   \"EBM\": ebm_summary, \n",
    "                                   'Lasso Stumps': stump_summary, \n",
    "                                   'RiskSLIM': riskslim_summary, \n",
    "                                   'Arnold PSA Raw': raw_auc, \n",
    "                                   'Arnold PSA': calc_auc}\n",
    "%store summary_F6_broward_interpret"
   ]
  },
  {
   "cell_type": "code",
   "execution_count": 49,
   "metadata": {},
   "outputs": [
    {
     "data": {
      "text/plain": [
       "[['CART', 0.5384490738516593, 0.040682942852898155],\n",
       " ['EBM', 0.6293875862041538, 0.06471933818591483],\n",
       " ['Lasso Stumps', 0.6066156398577509, 0.0632923554258525],\n",
       " ['RiskSLIM', 0.5933561382997344],\n",
       " ['Arnold PSA Raw', 0.589],\n",
       " ['Arnold PSA', 0.582]]"
      ]
     },
     "execution_count": 49,
     "metadata": {},
     "output_type": "execute_result"
    }
   ],
   "source": [
    "results = [[\"CART\", np.mean(cart_summary['holdout_test_auc']), np.mean(cart_summary['auc_diffs'])],\n",
    "           [\"EBM\", np.mean(ebm_summary['holdout_test_auc']), np.mean(ebm_summary['auc_diffs'])], \n",
    "           [\"Lasso Stumps\", np.mean(stump_summary['holdout_test_auc']), np.mean(stump_summary['auc_diffs'])],\n",
    "           ['RiskSLIM', np.mean(riskslim_summary['test_auc'])],\n",
    "           ['Arnold PSA Raw', round(np.mean(raw_auc), 3)], \n",
    "           ['Arnold PSA', round(np.mean(calc_auc), 3)]]\n",
    "results"
   ]
  },
  {
   "cell_type": "code",
   "execution_count": 50,
   "metadata": {},
   "outputs": [],
   "source": [
    "auc = [np.mean(cart_summary['holdout_test_auc']), \n",
    "       np.mean(ebm_summary['holdout_test_auc']), \n",
    "       np.mean(stump_summary['holdout_test_auc']), \n",
    "       np.mean(riskslim_summary['test_auc'])]"
   ]
  },
  {
   "cell_type": "code",
   "execution_count": 52,
   "metadata": {},
   "outputs": [],
   "source": [
    "path = \"C:/Users/binha/Documents/Duke/Cynthia Research/KY-analysis-mytrials/broward/broward models/model results/Advanced Models/Six Month/\"\n",
    "results = [[\"Felony\", np.str((round(np.mean(cart_summary['holdout_test_auc']), 3))) + \" (\" + np.str(round(np.std(cart_summary['holdout_test_auc']), 3)) + \")\", \n",
    "            np.str(round(np.mean(ebm_summary['holdout_test_auc']),3)) + \" (\" + np.str(round(np.std(ebm_summary['holdout_test_auc']), 3)) + \")\", \n",
    "            np.str(round(np.mean(stump_summary['holdout_test_auc']),3)) + \" (\" + np.str(round(np.std(stump_summary['holdout_test_auc']), 3)) + \")\",             \n",
    "            np.str(round(np.mean(riskslim_summary['test_auc']),3)) + \" (\" + np.str(round(np.std(riskslim_summary['test_auc']), 3)) + \")\", \n",
    "            round(np.max(auc) - np.min(auc), 3),\n",
    "            np.str(round(np.mean(raw_auc), 3)) + \" (\" + np.str(round(np.std(raw_auc),3)) + \")\", \n",
    "            np.str(round(np.mean(calc_auc), 3)) + \" (\" + np.str(round(np.std(calc_auc),3)) + \")\"]]\n",
    "with open(path + 'Interpretable Models Summary.csv', 'a') as writeFile:\n",
    "    writer = csv.writer(writeFile)\n",
    "    writer.writerows(results)"
   ]
  }
 ],
 "metadata": {
  "kernelspec": {
   "display_name": "Python 3",
   "language": "python",
   "name": "python3"
  },
  "language_info": {
   "codemirror_mode": {
    "name": "ipython",
    "version": 3
   },
   "file_extension": ".py",
   "mimetype": "text/x-python",
   "name": "python",
   "nbconvert_exporter": "python",
   "pygments_lexer": "ipython3",
   "version": "3.7.4"
  }
 },
 "nbformat": 4,
 "nbformat_minor": 4
}
