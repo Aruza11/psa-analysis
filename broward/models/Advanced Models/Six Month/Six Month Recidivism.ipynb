{
 "cells": [
  {
   "cell_type": "code",
   "execution_count": 2,
   "metadata": {},
   "outputs": [
    {
     "name": "stdout",
     "output_type": "stream",
     "text": [
      "Current working directory is now:  C:\\Users\\binha\\Documents\\Duke\\Cynthia Research\\psa-analysis - test\n",
      "no stored variable summary_general6_broward_interpret\n"
     ]
    },
    {
     "name": "stderr",
     "output_type": "stream",
     "text": [
      "C:\\Users\\binha\\Anaconda3\\lib\\site-packages\\sklearn\\externals\\six.py:31: DeprecationWarning:\n",
      "\n",
      "The module is deprecated in version 0.21 and will be removed in version 0.23 since we've dropped support for Python 2.7. Please rely on the official version of six (https://pypi.org/project/six/).\n",
      "\n"
     ]
    }
   ],
   "source": [
    "import os \n",
    "os.chdir('../../../../')\n",
    "print(\"Current working directory is now: \", os.getcwd())\n",
    "\n",
    "import pandas as pd \n",
    "import numpy as np\n",
    "import csv\n",
    "import utils.baseline_functions as base\n",
    "import RiskSLIM as slim\n",
    "import stumps\n",
    "\n",
    "from sklearn.linear_model import LogisticRegression\n",
    "from sklearn.model_selection import KFold, GridSearchCV\n",
    "from sklearn.metrics import roc_curve, auc\n",
    "\n",
    "# restore saved variables\n",
    "%store -r summary_general6_broward_interpret"
   ]
  },
  {
   "cell_type": "markdown",
   "metadata": {},
   "source": [
    "### CART & EBM"
   ]
  },
  {
   "cell_type": "code",
   "execution_count": 3,
   "metadata": {},
   "outputs": [],
   "source": [
    "data = pd.read_csv(\"~/Documents/Duke/Cynthia Research/KY-analysis-mytrials/broward/data/broward_data.csv\")\n",
    "x = data.loc[:,:'five_year']\n",
    "y = data['recid_six_month'].values"
   ]
  },
  {
   "cell_type": "code",
   "execution_count": 4,
   "metadata": {
    "scrolled": true
   },
   "outputs": [
    {
     "name": "stdout",
     "output_type": "stream",
     "text": [
      "model_id, score_thresholds 0 {'rank_abs': [0]}\n",
      "get_disparity_predefined_group()\n",
      "model_id, score_thresholds 0 {'rank_abs': [11]}\n",
      "get_disparity_predefined_group()\n",
      "model_id, score_thresholds 0 {'rank_abs': [1]}\n",
      "get_disparity_predefined_group()\n",
      "model_id, score_thresholds 0 {'rank_abs': [0]}\n",
      "get_disparity_predefined_group()\n",
      "model_id, score_thresholds 0 {'rank_abs': [0]}\n"
     ]
    },
    {
     "name": "stderr",
     "output_type": "stream",
     "text": [
      "WARNING:interpret.utils.all:Passing a numpy array to schema autogen when it should be dataframe.\n"
     ]
    },
    {
     "name": "stdout",
     "output_type": "stream",
     "text": [
      "get_disparity_predefined_group()\n"
     ]
    },
    {
     "name": "stderr",
     "output_type": "stream",
     "text": [
      "WARNING:interpret.utils.all:Passing a numpy array to schema autogen when it should be dataframe.\n",
      "WARNING:interpret.utils.all:Passing a numpy array to schema autogen when it should be dataframe.\n",
      "WARNING:interpret.utils.all:Passing a numpy array to schema autogen when it should be dataframe.\n",
      "WARNING:interpret.utils.all:Passing a numpy array to schema autogen when it should be dataframe.\n",
      "WARNING:interpret.utils.all:Passing a numpy array to schema autogen when it should be dataframe.\n",
      "WARNING:interpret.utils.all:Passing a numpy array to schema autogen when it should be dataframe.\n",
      "WARNING:interpret.utils.all:Passing a numpy array to schema autogen when it should be dataframe.\n",
      "WARNING:interpret.utils.all:Passing a numpy array to schema autogen when it should be dataframe.\n",
      "WARNING:interpret.utils.all:Passing a numpy array to schema autogen when it should be dataframe.\n",
      "WARNING:interpret.utils.all:Passing a numpy array to schema autogen when it should be dataframe.\n",
      "WARNING:interpret.utils.all:Passing a numpy array to schema autogen when it should be dataframe.\n",
      "WARNING:interpret.utils.all:Passing a numpy array to schema autogen when it should be dataframe.\n",
      "WARNING:interpret.utils.all:Passing a numpy array to schema autogen when it should be dataframe.\n",
      "WARNING:interpret.utils.all:Passing a numpy array to schema autogen when it should be dataframe.\n",
      "WARNING:interpret.utils.all:Passing a numpy array to schema autogen when it should be dataframe.\n",
      "WARNING:interpret.utils.all:Passing a numpy array to schema autogen when it should be dataframe.\n",
      "WARNING:interpret.utils.all:Passing a numpy array to schema autogen when it should be dataframe.\n",
      "WARNING:interpret.utils.all:Passing a numpy array to schema autogen when it should be dataframe.\n",
      "WARNING:interpret.utils.all:Passing a numpy array to schema autogen when it should be dataframe.\n",
      "WARNING:interpret.utils.all:Passing a numpy array to schema autogen when it should be dataframe.\n",
      "WARNING:interpret.utils.all:Passing a numpy array to schema autogen when it should be dataframe.\n"
     ]
    },
    {
     "name": "stdout",
     "output_type": "stream",
     "text": [
      "model_id, score_thresholds 0 {'rank_abs': [0]}\n"
     ]
    },
    {
     "name": "stderr",
     "output_type": "stream",
     "text": [
      "WARNING:interpret.utils.all:Passing a numpy array to schema autogen when it should be dataframe.\n"
     ]
    },
    {
     "name": "stdout",
     "output_type": "stream",
     "text": [
      "get_disparity_predefined_group()\n"
     ]
    },
    {
     "name": "stderr",
     "output_type": "stream",
     "text": [
      "WARNING:interpret.utils.all:Passing a numpy array to schema autogen when it should be dataframe.\n",
      "WARNING:interpret.utils.all:Passing a numpy array to schema autogen when it should be dataframe.\n",
      "WARNING:interpret.utils.all:Passing a numpy array to schema autogen when it should be dataframe.\n",
      "WARNING:interpret.utils.all:Passing a numpy array to schema autogen when it should be dataframe.\n",
      "WARNING:interpret.utils.all:Passing a numpy array to schema autogen when it should be dataframe.\n",
      "WARNING:interpret.utils.all:Passing a numpy array to schema autogen when it should be dataframe.\n",
      "WARNING:interpret.utils.all:Passing a numpy array to schema autogen when it should be dataframe.\n",
      "WARNING:interpret.utils.all:Passing a numpy array to schema autogen when it should be dataframe.\n",
      "WARNING:interpret.utils.all:Passing a numpy array to schema autogen when it should be dataframe.\n",
      "WARNING:interpret.utils.all:Passing a numpy array to schema autogen when it should be dataframe.\n",
      "WARNING:interpret.utils.all:Passing a numpy array to schema autogen when it should be dataframe.\n",
      "WARNING:interpret.utils.all:Passing a numpy array to schema autogen when it should be dataframe.\n",
      "WARNING:interpret.utils.all:Passing a numpy array to schema autogen when it should be dataframe.\n",
      "WARNING:interpret.utils.all:Passing a numpy array to schema autogen when it should be dataframe.\n",
      "WARNING:interpret.utils.all:Passing a numpy array to schema autogen when it should be dataframe.\n",
      "WARNING:interpret.utils.all:Passing a numpy array to schema autogen when it should be dataframe.\n",
      "WARNING:interpret.utils.all:Passing a numpy array to schema autogen when it should be dataframe.\n",
      "WARNING:interpret.utils.all:Passing a numpy array to schema autogen when it should be dataframe.\n",
      "WARNING:interpret.utils.all:Passing a numpy array to schema autogen when it should be dataframe.\n",
      "WARNING:interpret.utils.all:Passing a numpy array to schema autogen when it should be dataframe.\n",
      "WARNING:interpret.utils.all:Passing a numpy array to schema autogen when it should be dataframe.\n"
     ]
    },
    {
     "name": "stdout",
     "output_type": "stream",
     "text": [
      "model_id, score_thresholds 0 {'rank_abs': [0]}\n"
     ]
    },
    {
     "name": "stderr",
     "output_type": "stream",
     "text": [
      "WARNING:interpret.utils.all:Passing a numpy array to schema autogen when it should be dataframe.\n"
     ]
    },
    {
     "name": "stdout",
     "output_type": "stream",
     "text": [
      "get_disparity_predefined_group()\n"
     ]
    },
    {
     "name": "stderr",
     "output_type": "stream",
     "text": [
      "WARNING:interpret.utils.all:Passing a numpy array to schema autogen when it should be dataframe.\n",
      "WARNING:interpret.utils.all:Passing a numpy array to schema autogen when it should be dataframe.\n",
      "WARNING:interpret.utils.all:Passing a numpy array to schema autogen when it should be dataframe.\n",
      "WARNING:interpret.utils.all:Passing a numpy array to schema autogen when it should be dataframe.\n",
      "WARNING:interpret.utils.all:Passing a numpy array to schema autogen when it should be dataframe.\n",
      "WARNING:interpret.utils.all:Passing a numpy array to schema autogen when it should be dataframe.\n",
      "WARNING:interpret.utils.all:Passing a numpy array to schema autogen when it should be dataframe.\n",
      "WARNING:interpret.utils.all:Passing a numpy array to schema autogen when it should be dataframe.\n",
      "WARNING:interpret.utils.all:Passing a numpy array to schema autogen when it should be dataframe.\n",
      "WARNING:interpret.utils.all:Passing a numpy array to schema autogen when it should be dataframe.\n",
      "WARNING:interpret.utils.all:Passing a numpy array to schema autogen when it should be dataframe.\n",
      "WARNING:interpret.utils.all:Passing a numpy array to schema autogen when it should be dataframe.\n",
      "WARNING:interpret.utils.all:Passing a numpy array to schema autogen when it should be dataframe.\n",
      "WARNING:interpret.utils.all:Passing a numpy array to schema autogen when it should be dataframe.\n",
      "WARNING:interpret.utils.all:Passing a numpy array to schema autogen when it should be dataframe.\n",
      "WARNING:interpret.utils.all:Passing a numpy array to schema autogen when it should be dataframe.\n",
      "WARNING:interpret.utils.all:Passing a numpy array to schema autogen when it should be dataframe.\n",
      "WARNING:interpret.utils.all:Passing a numpy array to schema autogen when it should be dataframe.\n",
      "WARNING:interpret.utils.all:Passing a numpy array to schema autogen when it should be dataframe.\n",
      "WARNING:interpret.utils.all:Passing a numpy array to schema autogen when it should be dataframe.\n",
      "WARNING:interpret.utils.all:Passing a numpy array to schema autogen when it should be dataframe.\n"
     ]
    },
    {
     "name": "stdout",
     "output_type": "stream",
     "text": [
      "model_id, score_thresholds 0 {'rank_abs': [0]}\n"
     ]
    },
    {
     "name": "stderr",
     "output_type": "stream",
     "text": [
      "WARNING:interpret.utils.all:Passing a numpy array to schema autogen when it should be dataframe.\n"
     ]
    },
    {
     "name": "stdout",
     "output_type": "stream",
     "text": [
      "get_disparity_predefined_group()\n"
     ]
    },
    {
     "name": "stderr",
     "output_type": "stream",
     "text": [
      "WARNING:interpret.utils.all:Passing a numpy array to schema autogen when it should be dataframe.\n",
      "WARNING:interpret.utils.all:Passing a numpy array to schema autogen when it should be dataframe.\n",
      "WARNING:interpret.utils.all:Passing a numpy array to schema autogen when it should be dataframe.\n",
      "WARNING:interpret.utils.all:Passing a numpy array to schema autogen when it should be dataframe.\n",
      "WARNING:interpret.utils.all:Passing a numpy array to schema autogen when it should be dataframe.\n",
      "WARNING:interpret.utils.all:Passing a numpy array to schema autogen when it should be dataframe.\n",
      "WARNING:interpret.utils.all:Passing a numpy array to schema autogen when it should be dataframe.\n",
      "WARNING:interpret.utils.all:Passing a numpy array to schema autogen when it should be dataframe.\n",
      "WARNING:interpret.utils.all:Passing a numpy array to schema autogen when it should be dataframe.\n",
      "WARNING:interpret.utils.all:Passing a numpy array to schema autogen when it should be dataframe.\n",
      "WARNING:interpret.utils.all:Passing a numpy array to schema autogen when it should be dataframe.\n",
      "WARNING:interpret.utils.all:Passing a numpy array to schema autogen when it should be dataframe.\n",
      "WARNING:interpret.utils.all:Passing a numpy array to schema autogen when it should be dataframe.\n",
      "WARNING:interpret.utils.all:Passing a numpy array to schema autogen when it should be dataframe.\n",
      "WARNING:interpret.utils.all:Passing a numpy array to schema autogen when it should be dataframe.\n",
      "WARNING:interpret.utils.all:Passing a numpy array to schema autogen when it should be dataframe.\n",
      "WARNING:interpret.utils.all:Passing a numpy array to schema autogen when it should be dataframe.\n",
      "WARNING:interpret.utils.all:Passing a numpy array to schema autogen when it should be dataframe.\n",
      "WARNING:interpret.utils.all:Passing a numpy array to schema autogen when it should be dataframe.\n",
      "WARNING:interpret.utils.all:Passing a numpy array to schema autogen when it should be dataframe.\n",
      "WARNING:interpret.utils.all:Passing a numpy array to schema autogen when it should be dataframe.\n"
     ]
    },
    {
     "name": "stdout",
     "output_type": "stream",
     "text": [
      "model_id, score_thresholds 0 {'rank_abs': [0]}\n"
     ]
    },
    {
     "name": "stderr",
     "output_type": "stream",
     "text": [
      "WARNING:interpret.utils.all:Passing a numpy array to schema autogen when it should be dataframe.\n"
     ]
    },
    {
     "name": "stdout",
     "output_type": "stream",
     "text": [
      "get_disparity_predefined_group()\n"
     ]
    },
    {
     "name": "stderr",
     "output_type": "stream",
     "text": [
      "WARNING:interpret.utils.all:Passing a numpy array to schema autogen when it should be dataframe.\n",
      "WARNING:interpret.utils.all:Passing a numpy array to schema autogen when it should be dataframe.\n",
      "WARNING:interpret.utils.all:Passing a numpy array to schema autogen when it should be dataframe.\n",
      "WARNING:interpret.utils.all:Passing a numpy array to schema autogen when it should be dataframe.\n",
      "WARNING:interpret.utils.all:Passing a numpy array to schema autogen when it should be dataframe.\n",
      "WARNING:interpret.utils.all:Passing a numpy array to schema autogen when it should be dataframe.\n",
      "WARNING:interpret.utils.all:Passing a numpy array to schema autogen when it should be dataframe.\n",
      "WARNING:interpret.utils.all:Passing a numpy array to schema autogen when it should be dataframe.\n",
      "WARNING:interpret.utils.all:Passing a numpy array to schema autogen when it should be dataframe.\n",
      "WARNING:interpret.utils.all:Passing a numpy array to schema autogen when it should be dataframe.\n",
      "WARNING:interpret.utils.all:Passing a numpy array to schema autogen when it should be dataframe.\n",
      "WARNING:interpret.utils.all:Passing a numpy array to schema autogen when it should be dataframe.\n",
      "WARNING:interpret.utils.all:Passing a numpy array to schema autogen when it should be dataframe.\n",
      "WARNING:interpret.utils.all:Passing a numpy array to schema autogen when it should be dataframe.\n",
      "WARNING:interpret.utils.all:Passing a numpy array to schema autogen when it should be dataframe.\n",
      "WARNING:interpret.utils.all:Passing a numpy array to schema autogen when it should be dataframe.\n",
      "WARNING:interpret.utils.all:Passing a numpy array to schema autogen when it should be dataframe.\n",
      "WARNING:interpret.utils.all:Passing a numpy array to schema autogen when it should be dataframe.\n",
      "WARNING:interpret.utils.all:Passing a numpy array to schema autogen when it should be dataframe.\n",
      "WARNING:interpret.utils.all:Passing a numpy array to schema autogen when it should be dataframe.\n",
      "WARNING:interpret.utils.all:Passing a numpy array to schema autogen when it should be dataframe.\n"
     ]
    },
    {
     "name": "stdout",
     "output_type": "stream",
     "text": [
      "model_id, score_thresholds 0 {'rank_abs': [0]}\n",
      "get_disparity_predefined_group()\n"
     ]
    }
   ],
   "source": [
    "#### CART\n",
    "depth = [1,2]\n",
    "impurity = [0.001, 0.003]\n",
    "split = [2,3,4]\n",
    "cart_summary = base.CART(X=x,\n",
    "                         Y=y,\n",
    "                         depth=depth,\n",
    "                         split=split,\n",
    "                         impurity=impurity, \n",
    "                         seed = 816)\n",
    "\n",
    "#### EBM\n",
    "estimators = [40,60]\n",
    "depth = [1]\n",
    "learning_rate = [0.05]\n",
    "holdout_split = [0.9]\n",
    "ebm_summary = base.EBM(X=x,\n",
    "                       Y=y,\n",
    "                       learning_rate = learning_rate,\n",
    "                       depth = depth,\n",
    "                       estimators=estimators,\n",
    "                       holdout_split=holdout_split,\n",
    "                       seed=816)"
   ]
  },
  {
   "cell_type": "code",
   "execution_count": 52,
   "metadata": {},
   "outputs": [
    {
     "data": {
      "text/plain": [
       "(0.5864508444358527, 0.0461191328631587)"
      ]
     },
     "execution_count": 52,
     "metadata": {},
     "output_type": "execute_result"
    }
   ],
   "source": [
    "np.mean(cart_summary['holdout_test_auc']), np.mean(cart_summary['auc_diffs'])"
   ]
  },
  {
   "cell_type": "code",
   "execution_count": 6,
   "metadata": {},
   "outputs": [
    {
     "data": {
      "text/plain": [
       "(0.625213357299855, 0.04067050775069516)"
      ]
     },
     "execution_count": 6,
     "metadata": {},
     "output_type": "execute_result"
    }
   ],
   "source": [
    "np.mean(ebm_summary['holdout_test_auc']), np.mean(ebm_summary['auc_diffs'])"
   ]
  },
  {
   "cell_type": "markdown",
   "metadata": {},
   "source": [
    "## Lasso Stumps"
   ]
  },
  {
   "cell_type": "code",
   "execution_count": 7,
   "metadata": {},
   "outputs": [],
   "source": [
    "## load whole data\n",
    "data = pd.read_csv(\"~/Documents/Duke/Cynthia Research/KY-analysis-mytrials/broward/data/broward_stumps.csv\")\n",
    "X_stumps, Y_stumps = data.loc[:,:'five_year>=1'], data['recid_six_month'].values\n",
    "Y_stumps[Y_stumps == -1] = 0\n",
    "cols = X_stumps.columns[3:]\n",
    "\n",
    "## load train & test data\n",
    "train_stumps = pd.read_csv(\"~/Documents/Duke/Cynthia Research/KY-analysis-mytrials/broward/data/broward_train_stumps.csv\")\n",
    "test_stumps = pd.read_csv(\"~/Documents/Duke/Cynthia Research/KY-analysis-mytrials/broward/data/broward_test_stumps.csv\")\n",
    "\n",
    "X_train_stumps, Y_train_stumps = train_stumps.loc[:,:'five_year>=1'], train_stumps['recid_six_month'].values\n",
    "X_test_stumps, Y_test_stumps = test_stumps.loc[:,:'five_year>=1'], test_stumps['recid_six_month'].values\n",
    "\n",
    "Y_train_stumps[Y_train_stumps == -1] = 0\n",
    "Y_test_stumps[Y_test_stumps == -1] = 0"
   ]
  },
  {
   "cell_type": "markdown",
   "metadata": {},
   "source": [
    "#### Nested Cross Validation"
   ]
  },
  {
   "cell_type": "code",
   "execution_count": 8,
   "metadata": {},
   "outputs": [
    {
     "name": "stdout",
     "output_type": "stream",
     "text": [
      "model_id, score_thresholds 0 {'rank_abs': [181]}\n",
      "get_disparity_predefined_group()\n",
      "model_id, score_thresholds 0 {'rank_abs': [186]}\n",
      "get_disparity_predefined_group()\n",
      "model_id, score_thresholds 0 {'rank_abs': [193]}\n",
      "get_disparity_predefined_group()\n",
      "model_id, score_thresholds 0 {'rank_abs': [170]}\n",
      "get_disparity_predefined_group()\n",
      "model_id, score_thresholds 0 {'rank_abs': [171]}\n",
      "get_disparity_predefined_group()\n"
     ]
    }
   ],
   "source": [
    "stump_summary = stumps.stump_cv(X = X_stumps, \n",
    "                                Y = Y_stumps, \n",
    "                                columns=cols, \n",
    "                                c_grid={'C': [0.05, 0.1]}, \n",
    "                                seed = 816)"
   ]
  },
  {
   "cell_type": "code",
   "execution_count": 10,
   "metadata": {},
   "outputs": [
    {
     "data": {
      "text/plain": [
       "([{'C': 0.1}, {'C': 0.1}, {'C': 0.1}, {'C': 0.1}, {'C': 0.05}],\n",
       " 0.6303914121401959,\n",
       " 0.04381195224597663)"
      ]
     },
     "execution_count": 10,
     "metadata": {},
     "output_type": "execute_result"
    }
   ],
   "source": [
    "stump_summary['best_params'], np.mean(stump_summary['holdout_test_auc']), np.mean(stump_summary['auc_diffs'])"
   ]
  },
  {
   "cell_type": "markdown",
   "metadata": {},
   "source": [
    "##### Best Stump Model\n",
    "- alpha = 0.05 (alpha = 0.1 gives better results, but too many features)"
   ]
  },
  {
   "cell_type": "code",
   "execution_count": 11,
   "metadata": {},
   "outputs": [],
   "source": [
    "best_stump_model = stumps.stump_model(X_train_stumps, Y_train_stumps, \n",
    "                                      X_test_stumps, Y_test_stumps, \n",
    "                                      c=0.1, columns=cols, seed=816)"
   ]
  },
  {
   "cell_type": "markdown",
   "metadata": {},
   "source": [
    "##### Prediction Table"
   ]
  },
  {
   "cell_type": "code",
   "execution_count": 12,
   "metadata": {
    "scrolled": true
   },
   "outputs": [
    {
     "name": "stdout",
     "output_type": "stream",
     "text": [
      "+-----------------------------------+----------------+\n",
      "| Features                          | Score          |\n",
      "|====================================================|\n",
      "| p_current_age>=23                 | -17.5          |\n",
      "| p_current_age>=30                 | -16.0          |\n",
      "| p_current_age>=37                 | -16.0          |\n",
      "| p_age_first_offense<=18           | -1.0           |\n",
      "| p_charge>=6                       | 11.4           |\n",
      "| p_charge>=13                      | 17.6           |\n",
      "| p_probation>=3                    | -6.8           |\n",
      "| p_felprop_violarrest>=1           | -9.0           |\n",
      "| p_weapons_arrest>=1               | 0.4            |\n",
      "| prior_conviction_M>=3             | 9.2            |\n",
      "| prior_conviction_M>=5             | 11.4           |\n",
      "| prior_conviction_M>=7             | 21.5           |\n",
      "| total_convictions>=3              | 1.7            |\n",
      "| p_arrest>=5                       | 9.7            |\n",
      "| p_property>=2                     | 34.1           |\n",
      "| p_drug>=2                         | 0.5            |\n",
      "| p_dui>=1                          | -31.6          |\n",
      "| p_stealing>=3                     | -17.9          |\n",
      "| years_since_last_crime>=1         | -10.2          |\n",
      "| years_since_last_crime>=2         | -19.1          |\n",
      "| years_since_last_crime>=4         | -46.9          |\n",
      "| six_month>=1                      | 13.7           |\n",
      "| one_year>=1                       | 0.0            |\n",
      "| Intercept                         | 0.0            |\n",
      "|====================================================|\n",
      "| ADD POINTS FROM ROWS 1 TO 23      | Total Score    |\n",
      "+-----------------------------------+----------------+\n"
     ]
    }
   ],
   "source": [
    "stumps.stump_table(best_stump_model['coefs'], \n",
    "                   best_stump_model['features'], \n",
    "                   best_stump_model['intercept'], \n",
    "                   best_stump_model['dictionary'])"
   ]
  },
  {
   "cell_type": "markdown",
   "metadata": {},
   "source": [
    "##### Stumps Visualization"
   ]
  },
  {
   "cell_type": "code",
   "execution_count": 13,
   "metadata": {
    "scrolled": true
   },
   "outputs": [
    {
     "data": {
      "image/png": "[encoded data removed]",
      "text/plain": [
       "<Figure size 288x216 with 1 Axes>"
      ]
     },
     "metadata": {
      "needs_background": "light"
     },
     "output_type": "display_data"
    },
    {
     "data": {
      "image/png": "[encoded data removed]",
      "text/plain": [
       "<Figure size 288x216 with 1 Axes>"
      ]
     },
     "metadata": {
      "needs_background": "light"
     },
     "output_type": "display_data"
    },
    {
     "data": {
      "image/png": "[encoded data removed]",
      "text/plain": [
       "<Figure size 288x216 with 1 Axes>"
      ]
     },
     "metadata": {
      "needs_background": "light"
     },
     "output_type": "display_data"
    },
    {
     "data": {
      "image/png": "[encoded data removed]",
      "text/plain": [
       "<Figure size 288x216 with 1 Axes>"
      ]
     },
     "metadata": {
      "needs_background": "light"
     },
     "output_type": "display_data"
    },
    {
     "data": {
      "image/png": "[encoded data removed]",
      "text/plain": [
       "<Figure size 288x216 with 1 Axes>"
      ]
     },
     "metadata": {
      "needs_background": "light"
     },
     "output_type": "display_data"
    },
    {
     "data": {
      "image/png": "[encoded data removed]",
      "text/plain": [
       "<Figure size 288x216 with 1 Axes>"
      ]
     },
     "metadata": {
      "needs_background": "light"
     },
     "output_type": "display_data"
    },
    {
     "data": {
      "image/png": "[encoded data removed]",
      "text/plain": [
       "<Figure size 288x216 with 1 Axes>"
      ]
     },
     "metadata": {
      "needs_background": "light"
     },
     "output_type": "display_data"
    },
    {
     "data": {
      "image/png": "[encoded data removed]",
      "text/plain": [
       "<Figure size 288x216 with 1 Axes>"
      ]
     },
     "metadata": {
      "needs_background": "light"
     },
     "output_type": "display_data"
    },
    {
     "data": {
      "image/png": "[encoded data removed]",
      "text/plain": [
       "<Figure size 288x216 with 1 Axes>"
      ]
     },
     "metadata": {
      "needs_background": "light"
     },
     "output_type": "display_data"
    },
    {
     "data": {
      "image/png": "[encoded data removed]",
      "text/plain": [
       "<Figure size 288x216 with 1 Axes>"
      ]
     },
     "metadata": {
      "needs_background": "light"
     },
     "output_type": "display_data"
    }
   ],
   "source": [
    "stumps.stump_plots(best_stump_model['features'], best_stump_model['coefs'])"
   ]
  },
  {
   "cell_type": "markdown",
   "metadata": {},
   "source": [
    "## RiskSLIM"
   ]
  },
  {
   "cell_type": "code",
   "execution_count": 14,
   "metadata": {},
   "outputs": [],
   "source": [
    "## load stumps data\n",
    "data = pd.read_csv(\"~/Documents/Duke/Cynthia Research/KY-analysis-mytrials/broward/data/broward_stumps.csv\")\n",
    "x, y = data.loc[:,:'five_year>=1'], data['recid_six_month'].values\n",
    "cols = x.columns[3:]"
   ]
  },
  {
   "cell_type": "code",
   "execution_count": 31,
   "metadata": {},
   "outputs": [
    {
     "data": {
      "text/plain": [
       "24"
      ]
     },
     "execution_count": 31,
     "metadata": {},
     "output_type": "execute_result"
    }
   ],
   "source": [
    "## train on best param chosen by Lasso Stumps from above\n",
    "x_train = x.copy().drop(['race', 'person_id', 'screening_date'], axis=1)\n",
    "lasso = LogisticRegression(class_weight='balanced', solver='liblinear', penalty='l1', C=0.1, random_state=816).fit(x_train,y)\n",
    "selected_features = cols[lasso.coef_[0] != 0].tolist()\n",
    "len(selected_features)"
   ]
  },
  {
   "cell_type": "code",
   "execution_count": 32,
   "metadata": {},
   "outputs": [],
   "source": [
    "### Subset features\n",
    "if 'sex' in selected_features:\n",
    "    selected_features = ['recid_six_month', 'person_id', 'screening_date', 'race'] + selected_features\n",
    "    indicator = 1\n",
    "else:\n",
    "    selected_features = ['recid_six_month', 'person_id', 'screening_date', 'race', 'sex'] + selected_features\n",
    "    indicator = 0\n",
    "    \n",
    "sub_data = data[selected_features]\n",
    "sub_X, sub_Y = sub_data.iloc[:,1:], sub_data.iloc[:,0].values\n",
    "sub_X.insert(0, '(Intercept)', 1)"
   ]
  },
  {
   "cell_type": "code",
   "execution_count": 33,
   "metadata": {
    "scrolled": true
   },
   "outputs": [
    {
     "name": "stdout",
     "output_type": "stream",
     "text": [
      "setting c0 = 0.0 to ensure that intercept is not penalized\n",
      "09/10/19 @ 01:14 AM | switching loss computation from lookup to weighted\n",
      "09/10/19 @ 01:14 AM | ------------------------------------------------------------\n",
      "09/10/19 @ 01:14 AM | runnning initialization procedure\n",
      "09/10/19 @ 01:14 AM | ------------------------------------------------------------\n",
      "09/10/19 @ 01:14 AM | CPA produced 2 cuts\n",
      "09/10/19 @ 01:14 AM | running naive rounding on 115 solutions\n",
      "09/10/19 @ 01:14 AM | best objective value: 0.4931\n",
      "09/10/19 @ 01:14 AM | rounding produced 2 integer solutions\n",
      "09/10/19 @ 01:14 AM | best objective value is 0.5435\n",
      "09/10/19 @ 01:14 AM | running sequential rounding on 115 solutions\n",
      "09/10/19 @ 01:14 AM | best objective value: 0.4931\n",
      "09/10/19 @ 01:14 AM | sequential rounding produced 2 integer solutions\n",
      "09/10/19 @ 01:14 AM | best objective value: 0.5085\n",
      "09/10/19 @ 01:14 AM | polishing 4 solutions\n",
      "09/10/19 @ 01:14 AM | best objective value: 0.5085\n",
      "09/10/19 @ 01:14 AM | polishing produced 3 integer solutions\n",
      "09/10/19 @ 01:14 AM | initialization produced 5 feasible solutions\n",
      "09/10/19 @ 01:14 AM | best objective value: 0.5085\n",
      "09/10/19 @ 01:14 AM | ------------------------------------------------------------\n",
      "09/10/19 @ 01:14 AM | completed initialization procedure\n",
      "09/10/19 @ 01:14 AM | ------------------------------------------------------------\n",
      "09/10/19 @ 01:14 AM | switching loss computation from lookup to weighted\n",
      "CPXPARAM_Read_DataCheck                          1\n",
      "CPXPARAM_Threads                                 1\n",
      "CPXPARAM_Parallel                                1\n",
      "CPXPARAM_RandomSeed                              0\n",
      "CPXPARAM_TimeLimit                               200\n",
      "CPXPARAM_MIP_Tolerances_LowerCutoff              0.49307606207869042\n",
      "CPXPARAM_MIP_Tolerances_UpperCutoff              0.50845670865077008\n"
     ]
    },
    {
     "name": "stderr",
     "output_type": "stream",
     "text": [
      "Warning: Control callbacks may disable some MIP features.\n"
     ]
    },
    {
     "name": "stdout",
     "output_type": "stream",
     "text": [
      "Lazy constraint(s) or lazy constraint callback is present.\n",
      "    Disabling dual reductions (CPX_PARAM_REDUCE) in presolve.\n",
      "    Disabling non-linear reductions (CPX_PARAM_PRELINEAR) in presolve.\n",
      "         Disabling repeat represolve because of lazy constraint/incumbent callback.\n",
      "09/10/19 @ 01:14 AM | adding 114 initial cuts\n",
      "1 of 1 MIP starts provided solutions.\n",
      "MIP start 'mip_start_0' defined initial solution with objective 0.5085.\n",
      "Tried aggregator 1 time.\n",
      "Reduced MIP has 26 rows, 52 columns, and 99 nonzeros.\n",
      "Reduced MIP has 24 binaries, 26 generals, 0 SOSs, and 0 indicators.\n",
      "Presolve time = 0.00 sec. (0.05 ticks)\n",
      "Probing time = 0.00 sec. (0.01 ticks)\n",
      "MIP emphasis: balance optimality and feasibility.\n",
      "MIP search method: traditional branch-and-cut.\n",
      "Parallel mode: none, using 1 thread.\n",
      "Root relaxation solution time = 0.00 sec. (0.03 ticks)\n",
      "\n",
      "        Nodes                                         Cuts/\n",
      "   Node  Left     Objective  IInf  Best Integer    Best Bound    ItCnt     Gap         Variable B NodeID Parent  Depth\n",
      "\n",
      "*     0+    0                            0.5085        0.4931             3.02%\n",
      "      0     0        0.4931     1        0.5085        0.4931        0    3.02%\n",
      "      0     0        0.4931     3        0.5085      Fract: 1        1    3.02%\n",
      "      0     0        0.4931     5        0.5085      Fract: 2        6    3.02%\n",
      "      0     2        0.4931     5        0.5085        0.4931        6    3.02%                        0             0\n",
      "Elapsed time = 0.06 sec. (1.61 ticks, tree = 0.01 MB, solutions = 1)\n",
      "*   120+   53                            0.5085        0.4931             3.02%\n",
      "*   710+  250                            0.5081        0.4931             2.96%\n",
      "*  2650+  785                            0.5053        0.4931             2.42%\n",
      "   2790   829        0.4931    13        0.5053        0.4931    11911    2.42%          rho_20 D   2790   2789     41\n",
      "   5159  1678        cutoff              0.5053        0.4931    23429    2.42%          rho_14 U   5159   5158     18\n",
      "   7587  2432        cutoff              0.5053        0.4931    34800    2.42%          rho_17 U   7587   7585     34\n",
      "  10022  3236        0.4973     8        0.5053        0.4931    46064    2.42%           rho_6 U  10022   9882     40\n",
      "  12343  3959        cutoff              0.5053        0.4931    57224    2.42%           rho_1 U  12343  12340     30\n",
      "  14614  4540        cutoff              0.5053        0.4931    68065    2.42%          rho_16 U  14614  14612     33\n",
      "  17064  5081        cutoff              0.5053        0.4937    78061    2.30%          rho_21 D  17064  17063     37\n",
      "  19709  5178        cutoff              0.5053        0.4948    87263    2.07%          rho_21 D  19709  19708     28\n",
      "  22711  4781        0.5000     5        0.5053        0.4970    96777    1.65%          rho_17 D  22711  22709     28\n",
      "* 24970  4438      integral     0        0.5053        0.4987   104342    1.31%\n",
      "\n",
      "Gomory fractional cuts applied:  1\n",
      "User cuts applied:  102\n",
      "\n",
      "Root node processing (before b&c):\n",
      "  Real time             =    0.06 sec. (1.62 ticks)\n",
      "Sequential b&c:\n",
      "  Real time             =    2.80 sec. (2837.20 ticks)\n",
      "                          ------------\n",
      "Total (root+branch&cut) =    2.86 sec. (2838.82 ticks)\n",
      "+----------------------------------------------+------------------+-----------+\n",
      "| Pr(Y = +1) = 1.0/(1.0 + exp(-(-2 + score))   |                  |           |\n",
      "| ============================================ | ================ | ========= |\n",
      "| prior_conviction_M>=7                        |         1 points |   + ..... |\n",
      "| six_month>=1                                 |         1 points |   + ..... |\n",
      "| ============================================ | ================ | ========= |\n",
      "| ADD POINTS FROM ROWS 1 to 2                  |            SCORE |   = ..... |\n",
      "+----------------------------------------------+------------------+-----------+\n",
      "model_id, score_thresholds 0 {'rank_abs': [0]}\n",
      "get_disparity_predefined_group()\n",
      "setting c0 = 0.0 to ensure that intercept is not penalized\n",
      "09/10/19 @ 01:14 AM | switching loss computation from lookup to weighted\n",
      "09/10/19 @ 01:14 AM | ------------------------------------------------------------\n",
      "09/10/19 @ 01:14 AM | runnning initialization procedure\n",
      "09/10/19 @ 01:14 AM | ------------------------------------------------------------\n",
      "09/10/19 @ 01:14 AM | CPA produced 2 cuts\n",
      "09/10/19 @ 01:14 AM | running naive rounding on 90 solutions\n",
      "09/10/19 @ 01:14 AM | best objective value: 0.5044\n",
      "09/10/19 @ 01:14 AM | rounding produced 1 integer solutions\n",
      "09/10/19 @ 01:14 AM | best objective value is 0.5275\n",
      "09/10/19 @ 01:14 AM | running sequential rounding on 90 solutions\n",
      "09/10/19 @ 01:14 AM | best objective value: 0.5044\n",
      "09/10/19 @ 01:14 AM | sequential rounding produced 2 integer solutions\n",
      "09/10/19 @ 01:14 AM | best objective value: 0.5176\n",
      "09/10/19 @ 01:14 AM | polishing 3 solutions\n",
      "09/10/19 @ 01:14 AM | best objective value: 0.5176\n",
      "09/10/19 @ 01:14 AM | polishing produced 3 integer solutions\n",
      "09/10/19 @ 01:14 AM | initialization produced 3 feasible solutions\n",
      "09/10/19 @ 01:14 AM | best objective value: 0.5176\n",
      "09/10/19 @ 01:14 AM | ------------------------------------------------------------\n",
      "09/10/19 @ 01:14 AM | completed initialization procedure\n",
      "09/10/19 @ 01:14 AM | ------------------------------------------------------------\n",
      "09/10/19 @ 01:14 AM | switching loss computation from lookup to weighted\n",
      "CPXPARAM_Read_DataCheck                          1\n",
      "CPXPARAM_Threads                                 1\n",
      "CPXPARAM_Parallel                                1\n",
      "CPXPARAM_RandomSeed                              0\n",
      "CPXPARAM_TimeLimit                               200\n",
      "CPXPARAM_MIP_Tolerances_LowerCutoff              0.50427551724730502\n",
      "CPXPARAM_MIP_Tolerances_UpperCutoff              0.51759073583140502\n"
     ]
    },
    {
     "name": "stderr",
     "output_type": "stream",
     "text": [
      "Warning: Control callbacks may disable some MIP features.\n"
     ]
    },
    {
     "name": "stdout",
     "output_type": "stream",
     "text": [
      "Lazy constraint(s) or lazy constraint callback is present.\n",
      "    Disabling dual reductions (CPX_PARAM_REDUCE) in presolve.\n",
      "    Disabling non-linear reductions (CPX_PARAM_PRELINEAR) in presolve.\n",
      "         Disabling repeat represolve because of lazy constraint/incumbent callback.\n",
      "09/10/19 @ 01:14 AM | adding 161 initial cuts\n",
      "1 of 1 MIP starts provided solutions.\n",
      "MIP start 'mip_start_0' defined initial solution with objective 0.5176.\n",
      "Tried aggregator 1 time.\n",
      "Reduced MIP has 26 rows, 52 columns, and 99 nonzeros.\n",
      "Reduced MIP has 24 binaries, 26 generals, 0 SOSs, and 0 indicators.\n",
      "Presolve time = 0.00 sec. (0.05 ticks)\n",
      "Probing time = 0.00 sec. (0.01 ticks)\n",
      "MIP emphasis: balance optimality and feasibility.\n",
      "MIP search method: traditional branch-and-cut.\n",
      "Parallel mode: none, using 1 thread.\n",
      "Root relaxation solution time = 0.00 sec. (0.03 ticks)\n",
      "\n",
      "        Nodes                                         Cuts/\n",
      "   Node  Left     Objective  IInf  Best Integer    Best Bound    ItCnt     Gap         Variable B NodeID Parent  Depth\n",
      "\n",
      "*     0+    0                            0.5176        0.5043             2.57%\n",
      "      0     0        0.5043     1        0.5176        0.5043        0    2.57%\n",
      "      0     0        0.5043     4        0.5176       Cuts: 2        2    2.57%\n",
      "      0     0        0.5043     5        0.5176    MIRcuts: 1        4    2.57%\n",
      "      0     2        0.5043     4        0.5176        0.5043        4    2.57%                        0             0\n",
      "Elapsed time = 0.06 sec. (1.87 ticks, tree = 0.01 MB, solutions = 1)\n",
      "*   680+  292                            0.5168        0.5043             2.42%\n",
      "   2944   890        0.5043    10        0.5168        0.5043    13428    2.42%           rho_1 D   2944   2943     24\n",
      "   5632  1730        0.5043     5        0.5168        0.5043    26238    2.42%          rho_20 U   5632   5606     32\n",
      "   8000  2450        0.5043     6        0.5168        0.5043    38855    2.42%           rho_0 D   8000   7985     38\n",
      "  10312  3130        cutoff              0.5168        0.5043    50498    2.42%          rho_17 U  10312  10311     53\n",
      "  12358  3588        0.5043     2        0.5168        0.5043    61575    2.42%          rho_20 U  12358  12347     23\n",
      "  14708  4453        0.5112    11        0.5168        0.5043    72973    2.42%          rho_24 D  14708  14707     58\n",
      "  16643  4950        0.5143     9        0.5168        0.5043    83919    2.42%           rho_7 D  16643  16641     36\n",
      "  18797  5478        0.5061    10        0.5168        0.5043    96256    2.42%          rho_17 D  18797  18796     20\n",
      "  21054  6299        cutoff              0.5168        0.5043   108637    2.42%          rho_14 U  21054  21053     30\n",
      "  30119  8624        0.5164     9        0.5168        0.5043   155959    2.42%          rho_17 D  30119  30118     39\n",
      "Elapsed time = 2.80 sec. (3101.79 ticks, tree = 2.46 MB, solutions = 2)\n",
      "  39688 10033        0.5157     6        0.5168        0.5060   200677    2.09%           rho_2 D  39688  39687     25\n",
      "  49471 10387        cutoff              0.5168        0.5081   242386    1.69%          rho_15 U  49471  49470     47\n",
      "  59873  8131        0.5152    13        0.5168        0.5109   281181    1.14%          rho_12 D  59873  54244     25\n",
      "  71320  1280        cutoff              0.5168        0.5154   318265    0.27%          rho_17 U  71320   1831     35\n",
      "\n",
      "Mixed integer rounding cuts applied:  1\n",
      "Gomory fractional cuts applied:  1\n",
      "User cuts applied:  108\n",
      "\n",
      "Root node processing (before b&c):\n",
      "  Real time             =    0.06 sec. (1.87 ticks)\n",
      "Sequential b&c:\n",
      "  Real time             =    5.53 sec. (7023.28 ticks)\n",
      "                          ------------\n",
      "Total (root+branch&cut) =    5.59 sec. (7025.15 ticks)\n",
      "+----------------------------------------------+------------------+-----------+\n",
      "| Pr(Y = +1) = 1.0/(1.0 + exp(-(-2 + score))   |                  |           |\n",
      "| ============================================ | ================ | ========= |\n",
      "| prior_conviction_M>=5                        |         1 points |   + ..... |\n",
      "| six_month>=1                                 |         1 points |   + ..... |\n",
      "| ============================================ | ================ | ========= |\n",
      "| ADD POINTS FROM ROWS 1 to 2                  |            SCORE |   = ..... |\n",
      "+----------------------------------------------+------------------+-----------+\n",
      "model_id, score_thresholds 0 {'rank_abs': [0]}\n",
      "get_disparity_predefined_group()\n",
      "setting c0 = 0.0 to ensure that intercept is not penalized\n",
      "09/10/19 @ 01:14 AM | 1061 rows in lookup table\n",
      "09/10/19 @ 01:14 AM | ------------------------------------------------------------\n",
      "09/10/19 @ 01:14 AM | runnning initialization procedure\n",
      "09/10/19 @ 01:14 AM | ------------------------------------------------------------\n",
      "09/10/19 @ 01:14 AM | CPA produced 2 cuts\n",
      "09/10/19 @ 01:14 AM | running naive rounding on 125 solutions\n",
      "09/10/19 @ 01:14 AM | best objective value: 0.5047\n",
      "09/10/19 @ 01:14 AM | rounding produced 1 integer solutions\n",
      "09/10/19 @ 01:14 AM | best objective value is 0.5291\n",
      "09/10/19 @ 01:14 AM | running sequential rounding on 125 solutions\n",
      "09/10/19 @ 01:14 AM | best objective value: 0.5047\n",
      "09/10/19 @ 01:14 AM | sequential rounding produced 1 integer solutions\n",
      "09/10/19 @ 01:14 AM | best objective value: 0.5171\n",
      "09/10/19 @ 01:14 AM | polishing 2 solutions\n",
      "09/10/19 @ 01:14 AM | best objective value: 0.5171\n",
      "09/10/19 @ 01:14 AM | polishing produced 2 integer solutions\n",
      "09/10/19 @ 01:14 AM | initialization produced 2 feasible solutions\n",
      "09/10/19 @ 01:14 AM | best objective value: 0.5171\n",
      "09/10/19 @ 01:14 AM | ------------------------------------------------------------\n",
      "09/10/19 @ 01:14 AM | completed initialization procedure\n",
      "09/10/19 @ 01:14 AM | ------------------------------------------------------------\n",
      "09/10/19 @ 01:14 AM | 1061 rows in lookup table\n",
      "CPXPARAM_Read_DataCheck                          1\n",
      "CPXPARAM_Threads                                 1\n",
      "CPXPARAM_Parallel                                1\n",
      "CPXPARAM_RandomSeed                              0\n",
      "CPXPARAM_TimeLimit                               200\n",
      "CPXPARAM_MIP_Tolerances_LowerCutoff              0.50467636356008716\n",
      "CPXPARAM_MIP_Tolerances_UpperCutoff              0.51712209812184595\n"
     ]
    },
    {
     "name": "stderr",
     "output_type": "stream",
     "text": [
      "Warning: Control callbacks may disable some MIP features.\n"
     ]
    },
    {
     "name": "stdout",
     "output_type": "stream",
     "text": [
      "Lazy constraint(s) or lazy constraint callback is present.\n",
      "    Disabling dual reductions (CPX_PARAM_REDUCE) in presolve.\n",
      "    Disabling non-linear reductions (CPX_PARAM_PRELINEAR) in presolve.\n",
      "         Disabling repeat represolve because of lazy constraint/incumbent callback.\n",
      "09/10/19 @ 01:14 AM | adding 124 initial cuts\n",
      "1 of 1 MIP starts provided solutions.\n",
      "MIP start 'mip_start_0' defined initial solution with objective 0.5171.\n",
      "Tried aggregator 1 time.\n",
      "Reduced MIP has 26 rows, 52 columns, and 99 nonzeros.\n",
      "Reduced MIP has 24 binaries, 26 generals, 0 SOSs, and 0 indicators.\n",
      "Presolve time = 0.00 sec. (0.05 ticks)\n",
      "Probing time = 0.00 sec. (0.01 ticks)\n",
      "MIP emphasis: balance optimality and feasibility.\n",
      "MIP search method: traditional branch-and-cut.\n",
      "Parallel mode: none, using 1 thread.\n",
      "Root relaxation solution time = 0.00 sec. (0.03 ticks)\n",
      "\n",
      "        Nodes                                         Cuts/\n",
      "   Node  Left     Objective  IInf  Best Integer    Best Bound    ItCnt     Gap         Variable B NodeID Parent  Depth\n",
      "\n",
      "*     0+    0                            0.5171        0.5047             2.41%\n",
      "      0     0        0.5047     1        0.5171        0.5047        0    2.41%\n",
      "      0     0        0.5047     3        0.5171      Fract: 1        1    2.41%\n",
      "      0     0        0.5047     5        0.5171      Fract: 1        3    2.41%\n",
      "      0     2        0.5047     4        0.5171        0.5047        3    2.41%                        0             0\n",
      "Elapsed time = 0.06 sec. (1.85 ticks, tree = 0.01 MB, solutions = 1)\n",
      "   3041   800        0.5047     4        0.5171        0.5047    13590    2.41%           rho_0 D   3041   3039     14\n",
      "   5659  1479        0.5071     7        0.5171        0.5047    26144    2.41%           rho_1 D   5659   5658     46\n",
      "   8099  2222        0.5058     7        0.5171        0.5047    38995    2.41%          rho_24 U   8099   8098     45\n",
      "  10439  2777        0.5047     9        0.5171        0.5047    51184    2.41%          rho_14 D  10439  10438     20\n",
      "  12798  3441        0.5143     9        0.5171        0.5047    63826    2.41%          rho_15 D  12798  12797     19\n",
      "  15489  4043        0.5104     7        0.5171        0.5047    75017    2.41%          rho_14 D  15489  15487     44\n",
      "  17821  4366        0.5167     3        0.5171        0.5047    87366    2.41%          rho_17 N  17821  17819     41\n",
      "  20136  4766        cutoff              0.5171        0.5050    97541    2.34%          rho_11 U  20136  20135     42\n",
      "  22664  5137        0.5126     7        0.5171        0.5062   106910    2.10%          rho_21 D  22664  22663     61\n",
      "  33627  2422        0.5158     4        0.5171        0.5120   147114    0.99%          rho_17 D  33627  33626     47\n",
      "Elapsed time = 3.11 sec. (3101.76 ticks, tree = 0.82 MB, solutions = 1)\n",
      "\n",
      "Implied bound cuts applied:  1\n",
      "Gomory fractional cuts applied:  2\n",
      "User cuts applied:  99\n",
      "\n",
      "Root node processing (before b&c):\n",
      "  Real time             =    0.06 sec. (1.85 ticks)\n",
      "Sequential b&c:\n",
      "  Real time             =    3.34 sec. (3431.10 ticks)\n",
      "                          ------------\n",
      "Total (root+branch&cut) =    3.41 sec. (3432.95 ticks)\n",
      "+----------------------------------------------+------------------+-----------+\n",
      "| Pr(Y = +1) = 1.0/(1.0 + exp(-(-2 + score))   |                  |           |\n",
      "| ============================================ | ================ | ========= |\n",
      "| prior_conviction_M>=7                        |         1 points |   + ..... |\n",
      "| six_month>=1                                 |         1 points |   + ..... |\n",
      "| ============================================ | ================ | ========= |\n",
      "| ADD POINTS FROM ROWS 1 to 2                  |            SCORE |   = ..... |\n",
      "+----------------------------------------------+------------------+-----------+\n",
      "model_id, score_thresholds 0 {'rank_abs': [0]}\n",
      "get_disparity_predefined_group()\n",
      "setting c0 = 0.0 to ensure that intercept is not penalized\n",
      "09/10/19 @ 01:14 AM | 1061 rows in lookup table\n",
      "09/10/19 @ 01:14 AM | ------------------------------------------------------------\n",
      "09/10/19 @ 01:14 AM | runnning initialization procedure\n",
      "09/10/19 @ 01:14 AM | ------------------------------------------------------------\n",
      "09/10/19 @ 01:14 AM | CPA produced 2 cuts\n",
      "09/10/19 @ 01:14 AM | running naive rounding on 117 solutions\n",
      "09/10/19 @ 01:14 AM | best objective value: 0.4889\n",
      "09/10/19 @ 01:14 AM | rounding produced 1 integer solutions\n",
      "09/10/19 @ 01:14 AM | best objective value is 0.6021\n",
      "09/10/19 @ 01:14 AM | running sequential rounding on 117 solutions\n",
      "09/10/19 @ 01:14 AM | best objective value: 0.4889\n",
      "09/10/19 @ 01:14 AM | sequential rounding produced 2 integer solutions\n",
      "09/10/19 @ 01:14 AM | best objective value: 0.5084\n",
      "09/10/19 @ 01:14 AM | polishing 3 solutions\n",
      "09/10/19 @ 01:14 AM | best objective value: 0.5084\n",
      "09/10/19 @ 01:14 AM | polishing produced 3 integer solutions\n",
      "09/10/19 @ 01:14 AM | initialization produced 4 feasible solutions\n",
      "09/10/19 @ 01:14 AM | best objective value: 0.5084\n",
      "09/10/19 @ 01:14 AM | ------------------------------------------------------------\n",
      "09/10/19 @ 01:14 AM | completed initialization procedure\n",
      "09/10/19 @ 01:14 AM | ------------------------------------------------------------\n",
      "09/10/19 @ 01:14 AM | 1061 rows in lookup table\n",
      "CPXPARAM_Read_DataCheck                          1\n",
      "CPXPARAM_Threads                                 1\n",
      "CPXPARAM_Parallel                                1\n",
      "CPXPARAM_RandomSeed                              0\n",
      "CPXPARAM_TimeLimit                               200\n",
      "CPXPARAM_MIP_Tolerances_LowerCutoff              0.48890854494749059\n",
      "CPXPARAM_MIP_Tolerances_UpperCutoff              0.50835546932729481\n"
     ]
    },
    {
     "name": "stderr",
     "output_type": "stream",
     "text": [
      "Warning: Control callbacks may disable some MIP features.\n"
     ]
    },
    {
     "name": "stdout",
     "output_type": "stream",
     "text": [
      "Lazy constraint(s) or lazy constraint callback is present.\n",
      "    Disabling dual reductions (CPX_PARAM_REDUCE) in presolve.\n",
      "    Disabling non-linear reductions (CPX_PARAM_PRELINEAR) in presolve.\n",
      "         Disabling repeat represolve because of lazy constraint/incumbent callback.\n",
      "09/10/19 @ 01:14 AM | adding 128 initial cuts\n",
      "1 of 1 MIP starts provided solutions.\n",
      "MIP start 'mip_start_0' defined initial solution with objective 0.5084.\n",
      "Tried aggregator 1 time.\n",
      "Reduced MIP has 26 rows, 52 columns, and 99 nonzeros.\n",
      "Reduced MIP has 24 binaries, 26 generals, 0 SOSs, and 0 indicators.\n",
      "Presolve time = 0.00 sec. (0.05 ticks)\n",
      "Probing time = 0.00 sec. (0.01 ticks)\n",
      "MIP emphasis: balance optimality and feasibility.\n",
      "MIP search method: traditional branch-and-cut.\n",
      "Parallel mode: none, using 1 thread.\n",
      "Root relaxation solution time = 0.00 sec. (0.03 ticks)\n",
      "\n",
      "        Nodes                                         Cuts/\n",
      "   Node  Left     Objective  IInf  Best Integer    Best Bound    ItCnt     Gap         Variable B NodeID Parent  Depth\n",
      "\n",
      "*     0+    0                            0.5084        0.4889             3.83%\n",
      "      0     0        0.4889     1        0.5084        0.4889        0    3.83%\n",
      "      0     0        0.4889     3        0.5084      Fract: 1        1    3.83%\n",
      "      0     0        0.4889     7        0.5084      Fract: 1        4    3.83%\n",
      "*     0+    0                            0.5008        0.4889             2.37%\n",
      "      0     2        0.4889     6        0.5008        0.4889        4    2.37%                        0             0\n",
      "Elapsed time = 0.08 sec. (1.90 ticks, tree = 0.01 MB, solutions = 2)\n",
      "*   200+   94                            0.5007        0.4889             2.36%\n",
      "*   210+   86                            0.4983        0.4889             1.88%\n",
      "   3259   759        cutoff              0.4983        0.4889    14840    1.88%           rho_0 U   3259   3258     22\n",
      "   5990  1193        0.4893     9        0.4983        0.4889    27961    1.88%          rho_12 D   5990   5989     38\n",
      "   8691  1763        0.4889     4        0.4983        0.4889    40700    1.88%          rho_20 U   8691   8689     37\n",
      "  11317  2099        cutoff              0.4983        0.4889    53670    1.88%           rho_0 U  11317  11316     56\n",
      "  13710  2711        0.4889     8        0.4983        0.4889    64790    1.88%          rho_24 D  13710  13709     17\n",
      "  16020  3062        0.4941    13        0.4983        0.4893    76080    1.81%          rho_13 U  16020  16019     37\n",
      "  18622  2876        cutoff              0.4983        0.4917    86102    1.32%           rho_7 U  18622  18621     18\n",
      "  21469  1607        cutoff              0.4983        0.4941    96263    0.84%          rho_17 U  21469  21468     40\n",
      "\n",
      "Implied bound cuts applied:  1\n",
      "Gomory fractional cuts applied:  2\n",
      "User cuts applied:  81\n",
      "\n",
      "Root node processing (before b&c):\n",
      "  Real time             =    0.08 sec. (1.90 ticks)\n",
      "Sequential b&c:\n",
      "  Real time             =    2.06 sec. (2077.76 ticks)\n",
      "                          ------------\n",
      "Total (root+branch&cut) =    2.14 sec. (2079.66 ticks)\n",
      "+----------------------------------------------+------------------+-----------+\n",
      "| Pr(Y = +1) = 1.0/(1.0 + exp(-(-2 + score))   |                  |           |\n",
      "| ============================================ | ================ | ========= |\n",
      "| prior_conviction_M>=7                        |         1 points |   + ..... |\n",
      "| six_month>=1                                 |         1 points |   + ..... |\n",
      "| ============================================ | ================ | ========= |\n",
      "| ADD POINTS FROM ROWS 1 to 2                  |            SCORE |   = ..... |\n",
      "+----------------------------------------------+------------------+-----------+\n",
      "model_id, score_thresholds 0 {'rank_abs': [0]}\n",
      "get_disparity_predefined_group()\n",
      "setting c0 = 0.0 to ensure that intercept is not penalized\n",
      "09/10/19 @ 01:14 AM | 1061 rows in lookup table\n",
      "09/10/19 @ 01:14 AM | ------------------------------------------------------------\n",
      "09/10/19 @ 01:14 AM | runnning initialization procedure\n",
      "09/10/19 @ 01:14 AM | ------------------------------------------------------------\n",
      "09/10/19 @ 01:14 AM | CPA produced 2 cuts\n",
      "09/10/19 @ 01:14 AM | running naive rounding on 116 solutions\n",
      "09/10/19 @ 01:14 AM | best objective value: 0.5024\n",
      "09/10/19 @ 01:14 AM | rounding produced 1 integer solutions\n",
      "09/10/19 @ 01:14 AM | best objective value is 0.6254\n",
      "09/10/19 @ 01:14 AM | running sequential rounding on 116 solutions\n",
      "09/10/19 @ 01:14 AM | best objective value: 0.5024\n",
      "09/10/19 @ 01:14 AM | sequential rounding produced 2 integer solutions\n",
      "09/10/19 @ 01:14 AM | best objective value: 0.5172\n",
      "09/10/19 @ 01:14 AM | polishing 3 solutions\n",
      "09/10/19 @ 01:14 AM | best objective value: 0.5172\n",
      "09/10/19 @ 01:14 AM | polishing produced 3 integer solutions\n",
      "09/10/19 @ 01:14 AM | initialization produced 5 feasible solutions\n",
      "09/10/19 @ 01:14 AM | best objective value: 0.5151\n",
      "09/10/19 @ 01:14 AM | ------------------------------------------------------------\n",
      "09/10/19 @ 01:14 AM | completed initialization procedure\n",
      "09/10/19 @ 01:14 AM | ------------------------------------------------------------\n",
      "09/10/19 @ 01:14 AM | 1061 rows in lookup table\n",
      "CPXPARAM_Read_DataCheck                          1\n",
      "CPXPARAM_Threads                                 1\n",
      "CPXPARAM_Parallel                                1\n",
      "CPXPARAM_RandomSeed                              0\n",
      "CPXPARAM_TimeLimit                               200\n",
      "CPXPARAM_MIP_Tolerances_LowerCutoff              0.50235402156510289\n",
      "CPXPARAM_MIP_Tolerances_UpperCutoff              0.51511056195639293\n"
     ]
    },
    {
     "name": "stderr",
     "output_type": "stream",
     "text": [
      "Warning: Control callbacks may disable some MIP features.\n"
     ]
    },
    {
     "name": "stdout",
     "output_type": "stream",
     "text": [
      "Lazy constraint(s) or lazy constraint callback is present.\n",
      "    Disabling dual reductions (CPX_PARAM_REDUCE) in presolve.\n",
      "    Disabling non-linear reductions (CPX_PARAM_PRELINEAR) in presolve.\n",
      "         Disabling repeat represolve because of lazy constraint/incumbent callback.\n",
      "09/10/19 @ 01:14 AM | adding 115 initial cuts\n",
      "1 of 1 MIP starts provided solutions.\n",
      "MIP start 'mip_start_0' defined initial solution with objective 0.5151.\n",
      "Tried aggregator 1 time.\n",
      "Reduced MIP has 26 rows, 52 columns, and 99 nonzeros.\n",
      "Reduced MIP has 24 binaries, 26 generals, 0 SOSs, and 0 indicators.\n",
      "Presolve time = 0.00 sec. (0.05 ticks)\n",
      "Probing time = 0.00 sec. (0.01 ticks)\n",
      "MIP emphasis: balance optimality and feasibility.\n",
      "MIP search method: traditional branch-and-cut.\n",
      "Parallel mode: none, using 1 thread.\n",
      "Root relaxation solution time = 0.00 sec. (0.03 ticks)\n",
      "\n",
      "        Nodes                                         Cuts/\n",
      "   Node  Left     Objective  IInf  Best Integer    Best Bound    ItCnt     Gap         Variable B NodeID Parent  Depth\n",
      "\n",
      "*     0+    0                            0.5151        0.5024             2.48%\n",
      "      0     0        0.5024     1        0.5151        0.5024        0    2.48%\n",
      "      0     0        0.5024     4        0.5151       Cuts: 2        2    2.48%\n",
      "      0     0        0.5024     5        0.5151    MIRcuts: 1        4    2.48%\n",
      "      0     2        0.5024     4        0.5151        0.5024        4    2.48%                        0             0\n",
      "Elapsed time = 0.06 sec. (1.67 ticks, tree = 0.01 MB, solutions = 1)\n",
      "   3499  1040        0.5101     3        0.5151        0.5024    13833    2.48%           rho_1 D   3499   3498     22\n",
      "   6473  1665        0.5148     3        0.5151        0.5024    27182    2.48%           rho_1 D   6473   6472     54\n",
      "   9148  2444        0.5063     6        0.5151        0.5024    40817    2.48%          rho_13 U   9148   9147     21\n",
      "  11809  3168        0.5108     9        0.5151        0.5024    52512    2.48%           rho_1 D  11809  11808     17\n",
      "  14419  3623        0.5122     7        0.5151        0.5036    63290    2.24%          rho_21 D  14419  14418     20\n",
      "  17167  3724        0.5062     4        0.5151        0.5057    72227    1.83%           rho_1 U  17167  13533     30\n",
      "  20234  3680        0.5128     8        0.5151        0.5074    81905    1.50%           rho_1 U  20234   8580     46\n",
      "* 21318  3478      integral     0        0.5151        0.5082    85181    1.35%\n",
      "  23457  2790        0.5121     5        0.5151        0.5097    91759    1.05%           rho_0 D  23457  16231     14\n",
      "  26802  1159        cutoff              0.5151        0.5127   101320    0.47%          rho_21 U  26802  26800     53\n",
      "\n",
      "Mixed integer rounding cuts applied:  1\n",
      "Gomory fractional cuts applied:  1\n",
      "User cuts applied:  81\n",
      "\n",
      "Root node processing (before b&c):\n",
      "  Real time             =    0.06 sec. (1.67 ticks)\n",
      "Sequential b&c:\n",
      "  Real time             =    2.08 sec. (2248.88 ticks)\n",
      "                          ------------\n",
      "Total (root+branch&cut) =    2.14 sec. (2250.55 ticks)\n",
      "+----------------------------------------------+------------------+-----------+\n",
      "| Pr(Y = +1) = 1.0/(1.0 + exp(-(-2 + score))   |                  |           |\n",
      "| ============================================ | ================ | ========= |\n",
      "| prior_conviction_M>=7                        |         1 points |   + ..... |\n",
      "| six_month>=1                                 |         1 points |   + ..... |\n",
      "| ============================================ | ================ | ========= |\n",
      "| ADD POINTS FROM ROWS 1 to 2                  |            SCORE |   = ..... |\n",
      "+----------------------------------------------+------------------+-----------+\n",
      "model_id, score_thresholds 0 {'rank_abs': [0]}\n",
      "get_disparity_predefined_group()\n"
     ]
    }
   ],
   "source": [
    "riskslim_summary = slim.risk_cv(X=sub_X, \n",
    "                                Y=sub_Y, \n",
    "                                indicator = indicator,\n",
    "                                y_label='recid_six_month', \n",
    "                                max_coef=20, \n",
    "                                max_coef_number=10, \n",
    "                                max_runtime=200, \n",
    "                                c=1e-8, \n",
    "                                seed=816)"
   ]
  },
  {
   "cell_type": "code",
   "execution_count": 34,
   "metadata": {},
   "outputs": [
    {
     "data": {
      "text/plain": [
       "(0.6037658325514629, 0.6006045813462284)"
      ]
     },
     "execution_count": 34,
     "metadata": {},
     "output_type": "execute_result"
    }
   ],
   "source": [
    "np.mean(riskslim_summary['train_auc']), np.mean(riskslim_summary['test_auc'])"
   ]
  },
  {
   "cell_type": "markdown",
   "metadata": {},
   "source": [
    "## Arnold PSA"
   ]
  },
  {
   "cell_type": "code",
   "execution_count": 35,
   "metadata": {},
   "outputs": [],
   "source": [
    "### load data\n",
    "data = pd.read_csv(\"~/Documents/Duke/Cynthia Research/KY-analysis-mytrials/broward/data/broward_arnold.csv\")\n",
    "X_arnold_raw = data['arnold_nca_raw'].values\n",
    "X_arnold_calc = data['arnold_nca'].values\n",
    "Y_arnold = data['recid_six_month'].values"
   ]
  },
  {
   "cell_type": "code",
   "execution_count": 36,
   "metadata": {},
   "outputs": [],
   "source": [
    "## set up cross validation\n",
    "cv = KFold(n_splits=5,shuffle=True,random_state=816)\n",
    "raw_auc = []\n",
    "calc_auc = []\n",
    "\n",
    "## raw score\n",
    "i = 1\n",
    "for train, test in cv.split(X_arnold_raw, Y_arnold):\n",
    "    y_pred_raw, y_pred_calc, y_test = X_arnold_raw[test], X_arnold_calc[test], Y_arnold[test]\n",
    "    raw_fpr, raw_tpr, raw_thresholds = roc_curve(y_test, y_pred_raw)\n",
    "    calc_fpr, calc_tpr, calc_thresholds = roc_curve(y_test, y_pred_calc)\n",
    "    raw_auc.append(auc(raw_fpr, raw_tpr))\n",
    "    calc_auc.append(auc(calc_fpr, calc_tpr))\n",
    "    i+=1 "
   ]
  },
  {
   "cell_type": "markdown",
   "metadata": {},
   "source": [
    "### Results"
   ]
  },
  {
   "cell_type": "code",
   "execution_count": 37,
   "metadata": {},
   "outputs": [
    {
     "name": "stdout",
     "output_type": "stream",
     "text": [
      "Stored 'summary_general6_broward_interpret' (dict)\n"
     ]
    }
   ],
   "source": [
    "#### save results\n",
    "summary_general6_broward_interpret = {\"CART\": cart_summary,\n",
    "                                   \"EBM\": ebm_summary, \n",
    "                                   'Lasso Stumps': stump_summary, \n",
    "                                   'RiskSLIM': riskslim_summary, \n",
    "                                   'Arnold PSA Raw': raw_auc, \n",
    "                                   'Arnold PSA': calc_auc}\n",
    "%store summary_general6_broward_interpret"
   ]
  },
  {
   "cell_type": "code",
   "execution_count": 40,
   "metadata": {},
   "outputs": [
    {
     "data": {
      "text/plain": [
       "[['CART', 0.5785365477304171, 0.05323178600165297],\n",
       " ['EBM', 0.625213357299855, 0.04067050775069516],\n",
       " ['Lasso Stumps', 0.6303914121401959, 0.04381195224597663],\n",
       " ['RiskSLIM', 0.6006045813462284],\n",
       " ['Arnold PSA Raw', 0.585],\n",
       " ['Arnold PSA', 0.579]]"
      ]
     },
     "execution_count": 40,
     "metadata": {},
     "output_type": "execute_result"
    }
   ],
   "source": [
    "results = [[\"CART\", np.mean(cart_summary['holdout_test_auc']), np.mean(cart_summary['auc_diffs'])],\n",
    "           [\"EBM\", np.mean(ebm_summary['holdout_test_auc']), np.mean(ebm_summary['auc_diffs'])], \n",
    "           [\"Lasso Stumps\", np.mean(stump_summary['holdout_test_auc']), np.mean(stump_summary['auc_diffs'])],\n",
    "           ['RiskSLIM', np.mean(riskslim_summary['test_auc'])],\n",
    "           ['Arnold PSA Raw', round(np.mean(raw_auc), 3)], \n",
    "           ['Arnold PSA', round(np.mean(calc_auc), 3)]]\n",
    "results"
   ]
  },
  {
   "cell_type": "code",
   "execution_count": 46,
   "metadata": {},
   "outputs": [],
   "source": [
    "auc = [np.mean(cart_summary['holdout_test_auc']), \n",
    "       np.mean(ebm_summary['holdout_test_auc']), \n",
    "       np.mean(stump_summary['holdout_test_auc']), \n",
    "       np.mean(riskslim_summary['test_auc'])]"
   ]
  },
  {
   "cell_type": "code",
   "execution_count": 53,
   "metadata": {},
   "outputs": [],
   "source": [
    "path = \"C:/Users/binha/Documents/Duke/Cynthia Research/KY-analysis-mytrials/broward/broward models/model results/Advanced Models/Six Month/\"\n",
    "results = [[\"\", \"CART\", \"EBM\", \"Lasso Stumps\", \"RiskSLIM\", \"Performance Range\", \"Arnold PSA Raw\", \"Arnold PSA\"],\n",
    "           [\"General\", np.str((round(np.mean(cart_summary['holdout_test_auc']), 3))) + \" (\" + np.str(round(np.std(cart_summary['holdout_test_auc']), 3)) + \")\", \n",
    "            np.str(round(np.mean(ebm_summary['holdout_test_auc']),3)) + \" (\" + np.str(round(np.std(ebm_summary['holdout_test_auc']), 3)) + \")\", \n",
    "            np.str(round(np.mean(stump_summary['holdout_test_auc']),3)) + \" (\" + np.str(round(np.std(stump_summary['holdout_test_auc']), 3)) + \")\",             \n",
    "            np.str(round(np.mean(riskslim_summary['test_auc']),3)) + \" (\" + np.str(round(np.std(riskslim_summary['test_auc']), 3)) + \")\", \n",
    "            round(np.max(auc) - np.min(auc), 3),\n",
    "            np.str(round(np.mean(raw_auc), 3)) + \" (\" + np.str(round(np.std(raw_auc),3)) + \")\", \n",
    "            np.str(round(np.mean(calc_auc), 3)) + \" (\" + np.str(round(np.std(calc_auc),3)) + \")\"]]\n",
    "with open(path + 'Interpretable Models Summary.csv', 'w') as writeFile:\n",
    "    writer = csv.writer(writeFile)\n",
    "    writer.writerows(results)"
   ]
  }
 ],
 "metadata": {
  "kernelspec": {
   "display_name": "Python 3",
   "language": "python",
   "name": "python3"
  },
  "language_info": {
   "codemirror_mode": {
    "name": "ipython",
    "version": 3
   },
   "file_extension": ".py",
   "mimetype": "text/x-python",
   "name": "python",
   "nbconvert_exporter": "python",
   "pygments_lexer": "ipython3",
   "version": "3.7.4"
  }
 },
 "nbformat": 4,
 "nbformat_minor": 4
}
