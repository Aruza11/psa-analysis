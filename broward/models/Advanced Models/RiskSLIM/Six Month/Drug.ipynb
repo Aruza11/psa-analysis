{
 "cells": [
  {
   "cell_type": "code",
   "execution_count": 1,
   "metadata": {},
   "outputs": [],
   "source": [
    "import numpy as np\n",
    "import pandas as pd\n",
    "import RiskSLIM as risk\n",
    "import csv\n",
    "\n",
    "from riskslim.helper_functions import load_data_from_csv, print_model\n",
    "from sklearn.linear_model import Lasso\n",
    "from sklearn.model_selection import train_test_split, KFold, StratifiedKFold\n",
    "from sklearn.metrics import roc_curve, auc, roc_auc_score\n",
    "from sklearn.utils import shuffle"
   ]
  },
  {
   "cell_type": "markdown",
   "metadata": {
    "hideCode": false,
    "hidePrompt": false
   },
   "source": [
    "### Lasso Feature Selection"
   ]
  },
  {
   "cell_type": "code",
   "execution_count": 9,
   "metadata": {},
   "outputs": [],
   "source": [
    "## load stumps data\n",
    "data = pd.read_csv(\"~/Documents/Duke/Cynthia Research/KY-analysis-mytrials/broward/data/broward_stumps.csv\")\n",
    "X, Y = data.loc[:,:'five_year>=1'], data['recid_drug6'].values\n",
    "Y[Y == -1]\n",
    "cols = X.columns"
   ]
  },
  {
   "cell_type": "code",
   "execution_count": 11,
   "metadata": {},
   "outputs": [
    {
     "data": {
      "text/plain": [
       "(17, 0.7699688371330162)"
      ]
     },
     "execution_count": 11,
     "metadata": {},
     "output_type": "execute_result"
    }
   ],
   "source": [
    "## lasso\n",
    "lasso = Lasso(random_state=816, alpha=0.005).fit(X, Y)\n",
    "selected_features = cols[lasso.coef_ != 0].tolist()\n",
    "len(selected_features), roc_auc_score(Y, lasso.predict(X))"
   ]
  },
  {
   "cell_type": "markdown",
   "metadata": {},
   "source": [
    "#### subset features"
   ]
  },
  {
   "cell_type": "code",
   "execution_count": 12,
   "metadata": {},
   "outputs": [],
   "source": [
    "### Subset features\n",
    "selected_features.insert(0, 'recid_drug6')\n",
    "sub_data = data[selected_features]\n",
    "sub_X, sub_Y = sub_data.iloc[:,1:], sub_data.iloc[:,0].values\n",
    "sub_X.insert(0, '(Intercept)', 1)"
   ]
  },
  {
   "cell_type": "markdown",
   "metadata": {
    "hideCode": false,
    "hidePrompt": false
   },
   "source": [
    "### Cross Validation"
   ]
  },
  {
   "cell_type": "code",
   "execution_count": 13,
   "metadata": {
    "hideCode": false,
    "hidePrompt": false
   },
   "outputs": [],
   "source": [
    "SLIM_X, SLIM_Y = sub_X.values, sub_Y.reshape(-1,1)\n",
    "variable_names = sub_X.columns.tolist()\n",
    "outcome_name = 'recid_drug6'\n",
    "sample_weights = np.repeat(1, len(sub_Y))"
   ]
  },
  {
   "cell_type": "code",
   "execution_count": 14,
   "metadata": {
    "hideCode": false,
    "hidePrompt": false,
    "scrolled": true
   },
   "outputs": [
    {
     "name": "stdout",
     "output_type": "stream",
     "text": [
      "setting c0 = 0.0 to ensure that intercept is not penalized\n",
      "08/17/19 @ 05:53 PM | 781 rows in lookup table\n",
      "08/17/19 @ 05:53 PM | ------------------------------------------------------------\n",
      "08/17/19 @ 05:53 PM | runnning initialization procedure\n",
      "08/17/19 @ 05:53 PM | ------------------------------------------------------------\n",
      "08/17/19 @ 05:53 PM | CPA produced 2 cuts\n",
      "08/17/19 @ 05:53 PM | running naive rounding on 72 solutions\n",
      "08/17/19 @ 05:53 PM | best objective value: 0.1560\n",
      "08/17/19 @ 05:53 PM | rounding produced 1 integer solutions\n",
      "08/17/19 @ 05:53 PM | best objective value is 0.1583\n",
      "08/17/19 @ 05:53 PM | running sequential rounding on 72 solutions\n",
      "08/17/19 @ 05:53 PM | best objective value: 0.1560\n",
      "08/17/19 @ 05:53 PM | sequential rounding produced 1 integer solutions\n",
      "08/17/19 @ 05:53 PM | best objective value: 0.1583\n",
      "08/17/19 @ 05:53 PM | polishing 2 solutions\n",
      "08/17/19 @ 05:53 PM | best objective value: 0.1583\n",
      "08/17/19 @ 05:53 PM | polishing produced 1 integer solutions\n",
      "08/17/19 @ 05:53 PM | initialization produced 1 feasible solutions\n",
      "08/17/19 @ 05:53 PM | best objective value: 0.1583\n",
      "08/17/19 @ 05:53 PM | ------------------------------------------------------------\n",
      "08/17/19 @ 05:53 PM | completed initialization procedure\n",
      "08/17/19 @ 05:53 PM | ------------------------------------------------------------\n",
      "08/17/19 @ 05:53 PM | 781 rows in lookup table\n",
      "CPXPARAM_Read_DataCheck                          1\n",
      "CPXPARAM_Threads                                 1\n",
      "CPXPARAM_Parallel                                1\n",
      "CPXPARAM_RandomSeed                              0\n",
      "CPXPARAM_TimeLimit                               200\n",
      "CPXPARAM_MIP_Tolerances_LowerCutoff              0.15597449653938233\n",
      "CPXPARAM_MIP_Tolerances_UpperCutoff              0.15829600582160996\n"
     ]
    },
    {
     "name": "stderr",
     "output_type": "stream",
     "text": [
      "Warning: Control callbacks may disable some MIP features.\n"
     ]
    },
    {
     "name": "stdout",
     "output_type": "stream",
     "text": [
      "Lazy constraint(s) or lazy constraint callback is present.\n",
      "    Disabling dual reductions (CPX_PARAM_REDUCE) in presolve.\n",
      "    Disabling non-linear reductions (CPX_PARAM_PRELINEAR) in presolve.\n",
      "         Disabling repeat represolve because of lazy constraint/incumbent callback.\n",
      "08/17/19 @ 05:53 PM | adding 71 initial cuts\n",
      "1 of 1 MIP starts provided solutions.\n",
      "MIP start 'mip_start_0' defined initial solution with objective 0.1583.\n",
      "Tried aggregator 1 time.\n",
      "Reduced MIP has 19 rows, 38 columns, and 71 nonzeros.\n",
      "Reduced MIP has 17 binaries, 19 generals, 0 SOSs, and 0 indicators.\n",
      "Presolve time = 0.00 sec. (0.04 ticks)\n",
      "Probing time = 0.00 sec. (0.01 ticks)\n",
      "MIP emphasis: balance optimality and feasibility.\n",
      "MIP search method: traditional branch-and-cut.\n",
      "Parallel mode: none, using 1 thread.\n",
      "Root relaxation solution time = 0.00 sec. (0.02 ticks)\n",
      "\n",
      "        Nodes                                         Cuts/\n",
      "   Node  Left     Objective  IInf  Best Integer    Best Bound    ItCnt     Gap         Variable B NodeID Parent  Depth\n",
      "\n",
      "*     0+    0                            0.1583        0.1550             2.10%\n",
      "      0     0        0.1560     1        0.1583        0.1560        1    1.47%\n",
      "      0     2        0.1560     2        0.1583        0.1560        1    1.47%                        0             0\n",
      "Elapsed time = 0.05 sec. (0.71 ticks, tree = 0.01 MB, solutions = 1)\n",
      "\n",
      "User cuts applied:  38\n",
      "\n",
      "Root node processing (before b&c):\n",
      "  Real time             =    0.05 sec. (0.72 ticks)\n",
      "Sequential b&c:\n",
      "  Real time             =    0.06 sec. (12.80 ticks)\n",
      "                          ------------\n",
      "Total (root+branch&cut) =    0.11 sec. (13.51 ticks)\n",
      "+----------------------------------------------+------------------+-----------+\n",
      "| Pr(Y = +1) = 1.0/(1.0 + exp(-(-4 + score))   |                  |           |\n",
      "| ============================================ | ================ | ========= |\n",
      "| p_probation>=5                               |         1 points |   + ..... |\n",
      "| p_drug>=2                                    |         1 points |   + ..... |\n",
      "| ============================================ | ================ | ========= |\n",
      "| ADD POINTS FROM ROWS 1 to 2                  |            SCORE |   = ..... |\n",
      "+----------------------------------------------+------------------+-----------+\n",
      "setting c0 = 0.0 to ensure that intercept is not penalized\n",
      "08/17/19 @ 05:53 PM | 781 rows in lookup table\n",
      "08/17/19 @ 05:53 PM | ------------------------------------------------------------\n",
      "08/17/19 @ 05:53 PM | runnning initialization procedure\n",
      "08/17/19 @ 05:53 PM | ------------------------------------------------------------\n",
      "08/17/19 @ 05:53 PM | CPA produced 2 cuts\n",
      "08/17/19 @ 05:53 PM | running naive rounding on 59 solutions\n",
      "08/17/19 @ 05:53 PM | best objective value: 0.1471\n",
      "08/17/19 @ 05:53 PM | rounding produced 1 integer solutions\n",
      "08/17/19 @ 05:53 PM | best objective value is 0.1510\n",
      "08/17/19 @ 05:53 PM | running sequential rounding on 59 solutions\n",
      "08/17/19 @ 05:53 PM | best objective value: 0.1471\n",
      "08/17/19 @ 05:53 PM | sequential rounding produced 1 integer solutions\n",
      "08/17/19 @ 05:53 PM | best objective value: 0.1510\n",
      "08/17/19 @ 05:53 PM | polishing 2 solutions\n",
      "08/17/19 @ 05:53 PM | best objective value: 0.1510\n",
      "08/17/19 @ 05:53 PM | polishing produced 1 integer solutions\n",
      "08/17/19 @ 05:53 PM | initialization produced 2 feasible solutions\n",
      "08/17/19 @ 05:53 PM | best objective value: 0.1510\n",
      "08/17/19 @ 05:53 PM | ------------------------------------------------------------\n",
      "08/17/19 @ 05:53 PM | completed initialization procedure\n",
      "08/17/19 @ 05:53 PM | ------------------------------------------------------------\n",
      "08/17/19 @ 05:53 PM | 781 rows in lookup table\n",
      "CPXPARAM_Read_DataCheck                          1\n",
      "CPXPARAM_Threads                                 1\n",
      "CPXPARAM_Parallel                                1\n",
      "CPXPARAM_RandomSeed                              0\n",
      "CPXPARAM_TimeLimit                               200\n",
      "CPXPARAM_MIP_Tolerances_LowerCutoff              0.14708071553181898\n",
      "CPXPARAM_MIP_Tolerances_UpperCutoff              0.15096589747161362\n"
     ]
    },
    {
     "name": "stderr",
     "output_type": "stream",
     "text": [
      "Warning: Control callbacks may disable some MIP features.\n"
     ]
    },
    {
     "name": "stdout",
     "output_type": "stream",
     "text": [
      "Lazy constraint(s) or lazy constraint callback is present.\n",
      "    Disabling dual reductions (CPX_PARAM_REDUCE) in presolve.\n",
      "    Disabling non-linear reductions (CPX_PARAM_PRELINEAR) in presolve.\n",
      "         Disabling repeat represolve because of lazy constraint/incumbent callback.\n",
      "08/17/19 @ 05:53 PM | adding 58 initial cuts\n",
      "1 of 1 MIP starts provided solutions.\n",
      "MIP start 'mip_start_0' defined initial solution with objective 0.1510.\n",
      "Tried aggregator 1 time.\n",
      "Reduced MIP has 19 rows, 38 columns, and 71 nonzeros.\n",
      "Reduced MIP has 17 binaries, 19 generals, 0 SOSs, and 0 indicators.\n",
      "Presolve time = 0.00 sec. (0.04 ticks)\n",
      "Probing time = 0.00 sec. (0.01 ticks)\n",
      "MIP emphasis: balance optimality and feasibility.\n",
      "MIP search method: traditional branch-and-cut.\n",
      "Parallel mode: none, using 1 thread.\n",
      "Root relaxation solution time = 0.00 sec. (0.02 ticks)\n",
      "\n",
      "        Nodes                                         Cuts/\n",
      "   Node  Left     Objective  IInf  Best Integer    Best Bound    ItCnt     Gap         Variable B NodeID Parent  Depth\n",
      "\n",
      "*     0+    0                            0.1510        0.1461             3.24%\n",
      "      0     0        0.1471     1        0.1510        0.1471        1    2.57%\n",
      "      0     2        0.1471     2        0.1510        0.1471        1    2.57%                        0             0\n",
      "Elapsed time = 0.05 sec. (0.73 ticks, tree = 0.01 MB, solutions = 1)\n",
      "*   230+   45                            0.1500        0.1471             1.95%\n",
      "*   236    42      integral     0        0.1492        0.1471      789    1.42%         alpha_9 D    236    235     11\n",
      "\n",
      "User cuts applied:  42\n",
      "\n",
      "Root node processing (before b&c):\n",
      "  Real time             =    0.03 sec. (0.74 ticks)\n",
      "Sequential b&c:\n",
      "  Real time             =    0.08 sec. (14.32 ticks)\n",
      "                          ------------\n",
      "Total (root+branch&cut) =    0.11 sec. (15.05 ticks)\n",
      "+----------------------------------------------+------------------+-----------+\n",
      "| Pr(Y = +1) = 1.0/(1.0 + exp(-(-4 + score))   |                  |           |\n",
      "| ============================================ | ================ | ========= |\n",
      "| p_probation>=5                               |         1 points |   + ..... |\n",
      "| p_drug>=2                                    |         1 points |   + ..... |\n",
      "| ============================================ | ================ | ========= |\n",
      "| ADD POINTS FROM ROWS 1 to 2                  |            SCORE |   = ..... |\n",
      "+----------------------------------------------+------------------+-----------+\n",
      "setting c0 = 0.0 to ensure that intercept is not penalized\n",
      "08/17/19 @ 05:53 PM | 781 rows in lookup table\n",
      "08/17/19 @ 05:53 PM | ------------------------------------------------------------\n",
      "08/17/19 @ 05:53 PM | runnning initialization procedure\n",
      "08/17/19 @ 05:53 PM | ------------------------------------------------------------\n",
      "08/17/19 @ 05:53 PM | CPA produced 2 cuts\n",
      "08/17/19 @ 05:53 PM | running naive rounding on 85 solutions\n",
      "08/17/19 @ 05:53 PM | best objective value: 0.1625\n",
      "08/17/19 @ 05:53 PM | rounding produced 1 integer solutions\n",
      "08/17/19 @ 05:53 PM | best objective value is 0.1671\n",
      "08/17/19 @ 05:53 PM | running sequential rounding on 85 solutions\n",
      "08/17/19 @ 05:53 PM | best objective value: 0.1625\n",
      "08/17/19 @ 05:53 PM | sequential rounding produced 1 integer solutions\n",
      "08/17/19 @ 05:53 PM | best objective value: 0.1662\n",
      "08/17/19 @ 05:53 PM | polishing 2 solutions\n",
      "08/17/19 @ 05:53 PM | best objective value: 0.1662\n",
      "08/17/19 @ 05:53 PM | polishing produced 2 integer solutions\n",
      "08/17/19 @ 05:53 PM | initialization produced 2 feasible solutions\n",
      "08/17/19 @ 05:53 PM | best objective value: 0.1662\n",
      "08/17/19 @ 05:53 PM | ------------------------------------------------------------\n",
      "08/17/19 @ 05:53 PM | completed initialization procedure\n",
      "08/17/19 @ 05:53 PM | ------------------------------------------------------------\n",
      "08/17/19 @ 05:53 PM | 781 rows in lookup table\n",
      "CPXPARAM_Read_DataCheck                          1\n",
      "CPXPARAM_Threads                                 1\n",
      "CPXPARAM_Parallel                                1\n",
      "CPXPARAM_RandomSeed                              0\n",
      "CPXPARAM_TimeLimit                               200\n",
      "CPXPARAM_MIP_Tolerances_LowerCutoff              0.16252133445049718\n",
      "CPXPARAM_MIP_Tolerances_UpperCutoff              0.16615032252710132\n"
     ]
    },
    {
     "name": "stderr",
     "output_type": "stream",
     "text": [
      "Warning: Control callbacks may disable some MIP features.\n"
     ]
    },
    {
     "name": "stdout",
     "output_type": "stream",
     "text": [
      "Lazy constraint(s) or lazy constraint callback is present.\n",
      "    Disabling dual reductions (CPX_PARAM_REDUCE) in presolve.\n",
      "    Disabling non-linear reductions (CPX_PARAM_PRELINEAR) in presolve.\n",
      "         Disabling repeat represolve because of lazy constraint/incumbent callback.\n",
      "08/17/19 @ 05:53 PM | adding 84 initial cuts\n",
      "1 of 1 MIP starts provided solutions.\n",
      "MIP start 'mip_start_0' defined initial solution with objective 0.1662.\n",
      "Tried aggregator 1 time.\n",
      "Reduced MIP has 19 rows, 38 columns, and 71 nonzeros.\n",
      "Reduced MIP has 17 binaries, 19 generals, 0 SOSs, and 0 indicators.\n",
      "Presolve time = 0.00 sec. (0.04 ticks)\n",
      "Probing time = 0.00 sec. (0.01 ticks)\n",
      "MIP emphasis: balance optimality and feasibility.\n",
      "MIP search method: traditional branch-and-cut.\n",
      "Parallel mode: none, using 1 thread.\n",
      "Root relaxation solution time = 0.00 sec. (0.02 ticks)\n",
      "\n",
      "        Nodes                                         Cuts/\n",
      "   Node  Left     Objective  IInf  Best Integer    Best Bound    ItCnt     Gap         Variable B NodeID Parent  Depth\n",
      "\n",
      "*     0+    0                            0.1662        0.1615             2.79%\n",
      "      0     0        0.1625     1        0.1662        0.1625        1    2.18%\n",
      "      0     2        0.1625     2        0.1662        0.1625        1    2.18%                        0             0\n",
      "Elapsed time = 0.05 sec. (0.63 ticks, tree = 0.01 MB, solutions = 1)\n",
      "\n",
      "User cuts applied:  55\n",
      "\n",
      "Root node processing (before b&c):\n",
      "  Real time             =    0.05 sec. (0.63 ticks)\n",
      "Sequential b&c:\n",
      "  Real time             =    0.09 sec. (22.29 ticks)\n",
      "                          ------------\n",
      "Total (root+branch&cut) =    0.14 sec. (22.92 ticks)\n",
      "+----------------------------------------------+------------------+-----------+\n",
      "| Pr(Y = +1) = 1.0/(1.0 + exp(-(-4 + score))   |                  |           |\n",
      "| ============================================ | ================ | ========= |\n",
      "| p_age_first_offense<=19                      |         1 points |   + ..... |\n",
      "| p_probation>=5                               |         1 points |   + ..... |\n",
      "| p_drug>=2                                    |         1 points |   + ..... |\n",
      "| ============================================ | ================ | ========= |\n",
      "| ADD POINTS FROM ROWS 1 to 3                  |            SCORE |   = ..... |\n",
      "+----------------------------------------------+------------------+-----------+\n",
      "setting c0 = 0.0 to ensure that intercept is not penalized\n",
      "08/17/19 @ 05:53 PM | 781 rows in lookup table\n",
      "08/17/19 @ 05:53 PM | ------------------------------------------------------------\n",
      "08/17/19 @ 05:53 PM | runnning initialization procedure\n",
      "08/17/19 @ 05:53 PM | ------------------------------------------------------------\n",
      "08/17/19 @ 05:53 PM | CPA produced 2 cuts\n",
      "08/17/19 @ 05:53 PM | running naive rounding on 79 solutions\n",
      "08/17/19 @ 05:53 PM | best objective value: 0.1653\n",
      "08/17/19 @ 05:53 PM | rounding produced 1 integer solutions\n",
      "08/17/19 @ 05:53 PM | best objective value is 0.1707\n",
      "08/17/19 @ 05:53 PM | running sequential rounding on 79 solutions\n",
      "08/17/19 @ 05:53 PM | best objective value: 0.1653\n",
      "08/17/19 @ 05:53 PM | sequential rounding produced 1 integer solutions\n",
      "08/17/19 @ 05:53 PM | best objective value: 0.1691\n",
      "08/17/19 @ 05:53 PM | polishing 2 solutions\n",
      "08/17/19 @ 05:53 PM | best objective value: 0.1691\n",
      "08/17/19 @ 05:53 PM | polishing produced 1 integer solutions\n",
      "08/17/19 @ 05:53 PM | initialization produced 2 feasible solutions\n",
      "08/17/19 @ 05:53 PM | best objective value: 0.1691\n",
      "08/17/19 @ 05:53 PM | ------------------------------------------------------------\n",
      "08/17/19 @ 05:53 PM | completed initialization procedure\n",
      "08/17/19 @ 05:53 PM | ------------------------------------------------------------\n",
      "08/17/19 @ 05:53 PM | 781 rows in lookup table\n",
      "CPXPARAM_Read_DataCheck                          1\n",
      "CPXPARAM_Threads                                 1\n",
      "CPXPARAM_Parallel                                1\n",
      "CPXPARAM_RandomSeed                              0\n",
      "CPXPARAM_TimeLimit                               200\n",
      "CPXPARAM_MIP_Tolerances_LowerCutoff              0.16530348720242813\n",
      "CPXPARAM_MIP_Tolerances_UpperCutoff              0.16909779486607657\n"
     ]
    },
    {
     "name": "stderr",
     "output_type": "stream",
     "text": [
      "Warning: Control callbacks may disable some MIP features.\n"
     ]
    },
    {
     "name": "stdout",
     "output_type": "stream",
     "text": [
      "Lazy constraint(s) or lazy constraint callback is present.\n",
      "    Disabling dual reductions (CPX_PARAM_REDUCE) in presolve.\n",
      "    Disabling non-linear reductions (CPX_PARAM_PRELINEAR) in presolve.\n",
      "         Disabling repeat represolve because of lazy constraint/incumbent callback.\n",
      "08/17/19 @ 05:53 PM | adding 78 initial cuts\n",
      "1 of 1 MIP starts provided solutions.\n",
      "MIP start 'mip_start_0' defined initial solution with objective 0.1691.\n",
      "Tried aggregator 1 time.\n",
      "Reduced MIP has 19 rows, 38 columns, and 71 nonzeros.\n",
      "Reduced MIP has 17 binaries, 19 generals, 0 SOSs, and 0 indicators.\n",
      "Presolve time = 0.02 sec. (0.04 ticks)\n",
      "Probing time = 0.00 sec. (0.01 ticks)\n",
      "MIP emphasis: balance optimality and feasibility.\n",
      "MIP search method: traditional branch-and-cut.\n",
      "Parallel mode: none, using 1 thread.\n",
      "Root relaxation solution time = 0.00 sec. (0.02 ticks)\n",
      "\n",
      "        Nodes                                         Cuts/\n",
      "   Node  Left     Objective  IInf  Best Integer    Best Bound    ItCnt     Gap         Variable B NodeID Parent  Depth\n",
      "\n",
      "*     0+    0                            0.1691        0.1643             2.84%\n",
      "      0     0        0.1653     1        0.1691        0.1653        1    2.24%\n",
      "      0     2        0.1653     2        0.1691        0.1653        1    2.24%                        0             0\n",
      "Elapsed time = 0.06 sec. (0.62 ticks, tree = 0.01 MB, solutions = 1)\n",
      "\n",
      "User cuts applied:  51\n",
      "\n",
      "Root node processing (before b&c):\n",
      "  Real time             =    0.06 sec. (0.62 ticks)\n",
      "Sequential b&c:\n",
      "  Real time             =    0.08 sec. (18.10 ticks)\n",
      "                          ------------\n",
      "Total (root+branch&cut) =    0.14 sec. (18.71 ticks)\n",
      "+----------------------------------------------+------------------+-----------+\n",
      "| Pr(Y = +1) = 1.0/(1.0 + exp(-(-4 + score))   |                  |           |\n",
      "| ============================================ | ================ | ========= |\n",
      "| p_probation>=5                               |         1 points |   + ..... |\n",
      "| p_drug>=2                                    |         1 points |   + ..... |\n",
      "| ============================================ | ================ | ========= |\n",
      "| ADD POINTS FROM ROWS 1 to 2                  |            SCORE |   = ..... |\n",
      "+----------------------------------------------+------------------+-----------+\n",
      "setting c0 = 0.0 to ensure that intercept is not penalized\n",
      "08/17/19 @ 05:53 PM | 781 rows in lookup table\n",
      "08/17/19 @ 05:53 PM | ------------------------------------------------------------\n",
      "08/17/19 @ 05:53 PM | runnning initialization procedure\n",
      "08/17/19 @ 05:53 PM | ------------------------------------------------------------\n",
      "08/17/19 @ 05:53 PM | CPA produced 2 cuts\n",
      "08/17/19 @ 05:53 PM | running naive rounding on 104 solutions\n",
      "08/17/19 @ 05:53 PM | best objective value: 0.1518\n",
      "08/17/19 @ 05:53 PM | rounding produced 3 integer solutions\n",
      "08/17/19 @ 05:53 PM | best objective value is 0.1561\n",
      "08/17/19 @ 05:53 PM | running sequential rounding on 104 solutions\n",
      "08/17/19 @ 05:53 PM | best objective value: 0.1518\n",
      "08/17/19 @ 05:53 PM | sequential rounding produced 2 integer solutions\n",
      "08/17/19 @ 05:53 PM | best objective value: 0.1561\n",
      "08/17/19 @ 05:53 PM | polishing 5 solutions\n",
      "08/17/19 @ 05:53 PM | best objective value: 0.1561\n",
      "08/17/19 @ 05:53 PM | polishing produced 2 integer solutions\n",
      "08/17/19 @ 05:53 PM | initialization produced 4 feasible solutions\n",
      "08/17/19 @ 05:53 PM | best objective value: 0.1561\n",
      "08/17/19 @ 05:53 PM | ------------------------------------------------------------\n",
      "08/17/19 @ 05:53 PM | completed initialization procedure\n",
      "08/17/19 @ 05:53 PM | ------------------------------------------------------------\n",
      "08/17/19 @ 05:53 PM | 781 rows in lookup table\n",
      "CPXPARAM_Read_DataCheck                          1\n",
      "CPXPARAM_Threads                                 1\n",
      "CPXPARAM_Parallel                                1\n",
      "CPXPARAM_RandomSeed                              0\n",
      "CPXPARAM_TimeLimit                               200\n",
      "CPXPARAM_MIP_Tolerances_LowerCutoff              0.15178745616614159\n",
      "CPXPARAM_MIP_Tolerances_UpperCutoff              0.15607143118982567\n"
     ]
    },
    {
     "name": "stderr",
     "output_type": "stream",
     "text": [
      "Warning: Control callbacks may disable some MIP features.\n"
     ]
    },
    {
     "name": "stdout",
     "output_type": "stream",
     "text": [
      "Lazy constraint(s) or lazy constraint callback is present.\n",
      "    Disabling dual reductions (CPX_PARAM_REDUCE) in presolve.\n",
      "    Disabling non-linear reductions (CPX_PARAM_PRELINEAR) in presolve.\n",
      "         Disabling repeat represolve because of lazy constraint/incumbent callback.\n",
      "08/17/19 @ 05:53 PM | adding 103 initial cuts\n",
      "1 of 1 MIP starts provided solutions.\n",
      "MIP start 'mip_start_0' defined initial solution with objective 0.1561.\n",
      "Tried aggregator 1 time.\n",
      "Reduced MIP has 19 rows, 38 columns, and 71 nonzeros.\n",
      "Reduced MIP has 17 binaries, 19 generals, 0 SOSs, and 0 indicators.\n",
      "Presolve time = 0.00 sec. (0.04 ticks)\n",
      "Probing time = 0.00 sec. (0.01 ticks)\n",
      "MIP emphasis: balance optimality and feasibility.\n",
      "MIP search method: traditional branch-and-cut.\n",
      "Parallel mode: none, using 1 thread.\n",
      "Root relaxation solution time = 0.00 sec. (0.02 ticks)\n",
      "\n",
      "        Nodes                                         Cuts/\n",
      "   Node  Left     Objective  IInf  Best Integer    Best Bound    ItCnt     Gap         Variable B NodeID Parent  Depth\n",
      "\n",
      "*     0+    0                            0.1561        0.1508             3.39%\n",
      "      0     0        0.1518     1        0.1561        0.1518        1    2.74%\n",
      "      0     2        0.1518     2        0.1561        0.1518        1    2.74%                        0             0\n",
      "Elapsed time = 0.05 sec. (0.76 ticks, tree = 0.01 MB, solutions = 1)\n",
      "*    70+   37                            0.1560        0.1518             2.68%\n",
      "*    70+   33                            0.1549        0.1518             2.01%\n",
      "*   204    69      integral     0        0.1548        0.1518      631    1.95%\n",
      "\n",
      "User cuts applied:  63\n",
      "\n",
      "Root node processing (before b&c):\n",
      "  Real time             =    0.05 sec. (0.76 ticks)\n",
      "Sequential b&c:\n",
      "  Real time             =    0.09 sec. (31.23 ticks)\n",
      "                          ------------\n",
      "Total (root+branch&cut) =    0.14 sec. (31.99 ticks)\n",
      "+----------------------------------------------+------------------+-----------+\n",
      "| Pr(Y = +1) = 1.0/(1.0 + exp(-(-5 + score))   |                  |           |\n",
      "| ============================================ | ================ | ========= |\n",
      "| p_age_first_offense<=21                      |         1 points |   + ..... |\n",
      "| p_drug>=2                                    |         1 points |   + ..... |\n",
      "| p_drug>=3                                    |         1 points |   + ..... |\n",
      "| ============================================ | ================ | ========= |\n",
      "| ADD POINTS FROM ROWS 1 to 3                  |            SCORE |   = ..... |\n",
      "+----------------------------------------------+------------------+-----------+\n"
     ]
    }
   ],
   "source": [
    "#cv = KFold(n_splits=5, random_state=816, shuffle=True)\n",
    "cv = KFold(n_splits=5, random_state=816, shuffle=True)\n",
    "train_auc, test_auc = [], []\n",
    "\n",
    "i = 0\n",
    "for train, test in cv.split(SLIM_X, SLIM_Y):\n",
    "    \n",
    "    ## subset train data & store test data\n",
    "    X_train, Y_train = SLIM_X[train], SLIM_Y[train]\n",
    "    X_test, Y_test = SLIM_X[test], SLIM_Y[test]\n",
    "    sample_weights_train, sample_weights_test = sample_weights[train], sample_weights[test]\n",
    "\n",
    "    ## create new data dictionary\n",
    "    new_train_data = {\n",
    "        'X': X_train,\n",
    "        'Y': Y_train,\n",
    "        'variable_names': variable_names,\n",
    "        'outcome_name': outcome_name,\n",
    "        'sample_weights': sample_weights_train\n",
    "    }\n",
    "        \n",
    "    ## fit the model\n",
    "    model_info, mip_info, lcpa_info = risk.risk_slim(new_train_data, max_coefficient=20, max_L0_value=10, \n",
    "                                                c0_value=1e-4, max_runtime=200)\n",
    "    print_model(model_info['solution'], new_train_data)\n",
    "    \n",
    "    ## change data format\n",
    "    X_train, X_test = X_train[:,1:], X_test[:,1:] ## remove the first column, which is \"intercept\"\n",
    "    Y_train[Y_train == -1] = 0 ## change -1 to 0\n",
    "    Y_test[Y_test == -1] = 0\n",
    "    \n",
    "    ## probability & accuracy\n",
    "    train_prob = risk.riskslim_prediction(X_train, cols, model_info).reshape(-1,1)\n",
    "    test_prob = risk.riskslim_prediction(X_test, cols, model_info).reshape(-1,1)\n",
    "    \n",
    "    ## AUC\n",
    "    train_auc.append(roc_auc_score(Y_train, train_prob))\n",
    "    test_auc.append(roc_auc_score(Y_test, test_prob))"
   ]
  },
  {
   "cell_type": "code",
   "execution_count": 15,
   "metadata": {},
   "outputs": [
    {
     "data": {
      "text/plain": [
       "(0.6811005865748749, 0.6518376237326248)"
      ]
     },
     "execution_count": 15,
     "metadata": {},
     "output_type": "execute_result"
    }
   ],
   "source": [
    "np.mean(train_auc), np.mean(test_auc)"
   ]
  },
  {
   "cell_type": "markdown",
   "metadata": {},
   "source": [
    "### Save Results"
   ]
  },
  {
   "cell_type": "code",
   "execution_count": 16,
   "metadata": {},
   "outputs": [],
   "source": [
    "#log model results to the model performance folder, as per standards\n",
    "path = \"C:\\\\Users\\\\binha\\\\Documents\\\\Duke\\\\Cynthia Research\\\\KY-analysis-mytrials\\\\broward\\\\broward models\\\\model results\\\\Advanced Models\\\\Six Month\\\\\"\n",
    "results = [[\"Drug\", np.mean(train_auc), np.std(train_auc), np.mean(test_auc), np.std(test_auc)]]\n",
    "with open(path + 'Six Month RiskSLIM.csv', 'a') as writeFile:\n",
    "    writer = csv.writer(writeFile)\n",
    "    writer.writerows(results)"
   ]
  }
 ],
 "metadata": {
  "kernelspec": {
   "display_name": "Python 3",
   "language": "python",
   "name": "python3"
  },
  "language_info": {
   "codemirror_mode": {
    "name": "ipython",
    "version": 3
   },
   "file_extension": ".py",
   "mimetype": "text/x-python",
   "name": "python",
   "nbconvert_exporter": "python",
   "pygments_lexer": "ipython3",
   "version": "3.7.0"
  }
 },
 "nbformat": 4,
 "nbformat_minor": 2
}
