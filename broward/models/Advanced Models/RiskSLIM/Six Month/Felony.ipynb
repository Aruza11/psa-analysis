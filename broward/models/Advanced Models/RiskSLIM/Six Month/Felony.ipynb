{
 "cells": [
  {
   "cell_type": "code",
   "execution_count": 1,
   "metadata": {},
   "outputs": [],
   "source": [
    "import numpy as np\n",
    "import pandas as pd\n",
    "import RiskSLIM as risk\n",
    "import csv\n",
    "\n",
    "from riskslim.helper_functions import load_data_from_csv, print_model\n",
    "from sklearn.linear_model import Lasso\n",
    "from sklearn.model_selection import train_test_split, KFold, StratifiedKFold\n",
    "from sklearn.metrics import roc_curve, auc, roc_auc_score\n",
    "from sklearn.utils import shuffle"
   ]
  },
  {
   "cell_type": "markdown",
   "metadata": {
    "hideCode": false,
    "hidePrompt": false
   },
   "source": [
    "### Lasso Feature Selection"
   ]
  },
  {
   "cell_type": "code",
   "execution_count": 2,
   "metadata": {},
   "outputs": [],
   "source": [
    "## load stumps data\n",
    "data = pd.read_csv(\"~/Documents/Duke/Cynthia Research/KY-analysis-mytrials/broward/data/broward_stumps.csv\")\n",
    "X, Y = data.loc[:,:'five_year>=1'], data['recid_F6'].values\n",
    "cols = X.columns"
   ]
  },
  {
   "cell_type": "code",
   "execution_count": 3,
   "metadata": {},
   "outputs": [
    {
     "data": {
      "text/plain": [
       "(12, 0.6563218390804597)"
      ]
     },
     "execution_count": 3,
     "metadata": {},
     "output_type": "execute_result"
    }
   ],
   "source": [
    "## lasso\n",
    "lasso = Lasso(random_state=816, alpha=0.013).fit(X, Y)\n",
    "selected_features = cols[lasso.coef_ != 0].tolist()\n",
    "len(selected_features), roc_auc_score(Y, lasso.predict(X))"
   ]
  },
  {
   "cell_type": "markdown",
   "metadata": {},
   "source": [
    "#### subset features"
   ]
  },
  {
   "cell_type": "code",
   "execution_count": 4,
   "metadata": {},
   "outputs": [],
   "source": [
    "### Subset features\n",
    "selected_features.insert(0, 'recid_F6')\n",
    "sub_data = data[selected_features]\n",
    "sub_X, sub_Y = sub_data.iloc[:,1:], sub_data.iloc[:,0].values\n",
    "sub_X.insert(0, '(Intercept)', 1)"
   ]
  },
  {
   "cell_type": "markdown",
   "metadata": {
    "hideCode": false,
    "hidePrompt": false
   },
   "source": [
    "### Cross Validation"
   ]
  },
  {
   "cell_type": "code",
   "execution_count": 5,
   "metadata": {
    "hideCode": false,
    "hidePrompt": false
   },
   "outputs": [],
   "source": [
    "SLIM_X, SLIM_Y = sub_X.values, sub_Y.reshape(-1,1)\n",
    "variable_names = sub_X.columns.tolist()\n",
    "outcome_name = 'recid_F6'\n",
    "sample_weights = np.repeat(1, len(sub_Y))"
   ]
  },
  {
   "cell_type": "code",
   "execution_count": 6,
   "metadata": {
    "hideCode": false,
    "hidePrompt": false,
    "scrolled": true
   },
   "outputs": [
    {
     "name": "stdout",
     "output_type": "stream",
     "text": [
      "setting c0 = 0.0 to ensure that intercept is not penalized\n",
      "08/17/19 @ 05:48 PM | 581 rows in lookup table\n",
      "08/17/19 @ 05:48 PM | ------------------------------------------------------------\n",
      "08/17/19 @ 05:48 PM | runnning initialization procedure\n",
      "08/17/19 @ 05:48 PM | ------------------------------------------------------------\n",
      "08/17/19 @ 05:48 PM | CPA produced 2 cuts\n",
      "08/17/19 @ 05:48 PM | running naive rounding on 98 solutions\n",
      "08/17/19 @ 05:48 PM | best objective value: 0.2882\n",
      "08/17/19 @ 05:48 PM | rounding produced 1 integer solutions\n",
      "08/17/19 @ 05:48 PM | best objective value is 0.3115\n",
      "08/17/19 @ 05:48 PM | running sequential rounding on 98 solutions\n",
      "08/17/19 @ 05:48 PM | best objective value: 0.2882\n",
      "08/17/19 @ 05:48 PM | sequential rounding produced 2 integer solutions\n",
      "08/17/19 @ 05:48 PM | best objective value: 0.2963\n",
      "08/17/19 @ 05:48 PM | polishing 3 solutions\n",
      "08/17/19 @ 05:48 PM | best objective value: 0.2963\n",
      "08/17/19 @ 05:48 PM | polishing produced 3 integer solutions\n",
      "08/17/19 @ 05:48 PM | initialization produced 4 feasible solutions\n",
      "08/17/19 @ 05:48 PM | best objective value: 0.2963\n",
      "08/17/19 @ 05:48 PM | ------------------------------------------------------------\n",
      "08/17/19 @ 05:48 PM | completed initialization procedure\n",
      "08/17/19 @ 05:48 PM | ------------------------------------------------------------\n",
      "08/17/19 @ 05:48 PM | 581 rows in lookup table\n",
      "CPXPARAM_Read_DataCheck                          1\n",
      "CPXPARAM_Threads                                 1\n",
      "CPXPARAM_Parallel                                1\n",
      "CPXPARAM_RandomSeed                              0\n",
      "CPXPARAM_TimeLimit                               200\n",
      "CPXPARAM_MIP_Tolerances_LowerCutoff              0.28817152197538481\n",
      "CPXPARAM_MIP_Tolerances_UpperCutoff              0.29625336442838074\n"
     ]
    },
    {
     "name": "stderr",
     "output_type": "stream",
     "text": [
      "Warning: Control callbacks may disable some MIP features.\n"
     ]
    },
    {
     "name": "stdout",
     "output_type": "stream",
     "text": [
      "Lazy constraint(s) or lazy constraint callback is present.\n",
      "    Disabling dual reductions (CPX_PARAM_REDUCE) in presolve.\n",
      "    Disabling non-linear reductions (CPX_PARAM_PRELINEAR) in presolve.\n",
      "         Disabling repeat represolve because of lazy constraint/incumbent callback.\n",
      "08/17/19 @ 05:48 PM | adding 97 initial cuts\n",
      "1 of 1 MIP starts provided solutions.\n",
      "MIP start 'mip_start_0' defined initial solution with objective 0.2963.\n",
      "Tried aggregator 1 time.\n",
      "Reduced MIP has 14 rows, 28 columns, and 51 nonzeros.\n",
      "Reduced MIP has 12 binaries, 14 generals, 0 SOSs, and 0 indicators.\n",
      "Presolve time = 0.00 sec. (0.02 ticks)\n",
      "Probing time = 0.00 sec. (0.01 ticks)\n",
      "MIP emphasis: balance optimality and feasibility.\n",
      "MIP search method: traditional branch-and-cut.\n",
      "Parallel mode: none, using 1 thread.\n",
      "Root relaxation solution time = 0.00 sec. (0.02 ticks)\n",
      "\n",
      "        Nodes                                         Cuts/\n",
      "   Node  Left     Objective  IInf  Best Integer    Best Bound    ItCnt     Gap         Variable B NodeID Parent  Depth\n",
      "\n",
      "*     0+    0                            0.2963        0.2782             6.10%\n",
      "      0     0        0.2882     1        0.2963        0.2882        1    2.73%\n",
      "      0     2        0.2882     1        0.2963        0.2882        1    2.73%                        0             0\n",
      "Elapsed time = 0.06 sec. (0.59 ticks, tree = 0.01 MB, solutions = 1)\n",
      "*   390+   76                            0.2958        0.2882             2.58%\n",
      "\n",
      "Implied bound cuts applied:  1\n",
      "User cuts applied:  37\n",
      "\n",
      "Root node processing (before b&c):\n",
      "  Real time             =    0.06 sec. (0.59 ticks)\n",
      "Sequential b&c:\n",
      "  Real time             =    0.16 sec. (84.59 ticks)\n",
      "                          ------------\n",
      "Total (root+branch&cut) =    0.22 sec. (85.18 ticks)\n",
      "+----------------------------------------------+------------------+-----------+\n",
      "| Pr(Y = +1) = 1.0/(1.0 + exp(-(-3 + score))   |                  |           |\n",
      "| ============================================ | ================ | ========= |\n",
      "| p_property>=2                                |         1 points |   + ..... |\n",
      "| ============================================ | ================ | ========= |\n",
      "| ADD POINTS FROM ROWS 1 to 1                  |            SCORE |   = ..... |\n",
      "+----------------------------------------------+------------------+-----------+\n",
      "setting c0 = 0.0 to ensure that intercept is not penalized\n",
      "08/17/19 @ 05:48 PM | 581 rows in lookup table\n",
      "08/17/19 @ 05:48 PM | ------------------------------------------------------------\n",
      "08/17/19 @ 05:48 PM | runnning initialization procedure\n",
      "08/17/19 @ 05:48 PM | ------------------------------------------------------------\n",
      "08/17/19 @ 05:48 PM | CPA produced 2 cuts\n",
      "08/17/19 @ 05:48 PM | running naive rounding on 79 solutions\n",
      "08/17/19 @ 05:48 PM | best objective value: 0.2839\n",
      "08/17/19 @ 05:48 PM | rounding produced 3 integer solutions\n",
      "08/17/19 @ 05:48 PM | best objective value is 0.2907\n",
      "08/17/19 @ 05:48 PM | running sequential rounding on 79 solutions\n",
      "08/17/19 @ 05:48 PM | best objective value: 0.2839\n",
      "08/17/19 @ 05:48 PM | sequential rounding produced 2 integer solutions\n",
      "08/17/19 @ 05:48 PM | best objective value: 0.2907\n",
      "08/17/19 @ 05:48 PM | polishing 5 solutions\n",
      "08/17/19 @ 05:48 PM | best objective value: 0.2907\n",
      "08/17/19 @ 05:48 PM | polishing produced 3 integer solutions\n",
      "08/17/19 @ 05:48 PM | initialization produced 5 feasible solutions\n",
      "08/17/19 @ 05:48 PM | best objective value: 0.2907\n",
      "08/17/19 @ 05:48 PM | ------------------------------------------------------------\n",
      "08/17/19 @ 05:48 PM | completed initialization procedure\n",
      "08/17/19 @ 05:48 PM | ------------------------------------------------------------\n",
      "08/17/19 @ 05:48 PM | 581 rows in lookup table\n",
      "CPXPARAM_Read_DataCheck                          1\n",
      "CPXPARAM_Threads                                 1\n",
      "CPXPARAM_Parallel                                1\n",
      "CPXPARAM_RandomSeed                              0\n",
      "CPXPARAM_TimeLimit                               200\n",
      "CPXPARAM_MIP_Tolerances_LowerCutoff              0.28391942231073058\n",
      "CPXPARAM_MIP_Tolerances_UpperCutoff              0.29068644254391235\n"
     ]
    },
    {
     "name": "stderr",
     "output_type": "stream",
     "text": [
      "Warning: Control callbacks may disable some MIP features.\n"
     ]
    },
    {
     "name": "stdout",
     "output_type": "stream",
     "text": [
      "Lazy constraint(s) or lazy constraint callback is present.\n",
      "    Disabling dual reductions (CPX_PARAM_REDUCE) in presolve.\n",
      "    Disabling non-linear reductions (CPX_PARAM_PRELINEAR) in presolve.\n",
      "         Disabling repeat represolve because of lazy constraint/incumbent callback.\n",
      "08/17/19 @ 05:48 PM | adding 78 initial cuts\n",
      "1 of 1 MIP starts provided solutions.\n",
      "MIP start 'mip_start_0' defined initial solution with objective 0.2907.\n",
      "Tried aggregator 1 time.\n",
      "Reduced MIP has 14 rows, 28 columns, and 51 nonzeros.\n",
      "Reduced MIP has 12 binaries, 14 generals, 0 SOSs, and 0 indicators.\n",
      "Presolve time = 0.01 sec. (0.02 ticks)\n",
      "Probing time = 0.00 sec. (0.01 ticks)\n",
      "MIP emphasis: balance optimality and feasibility.\n",
      "MIP search method: traditional branch-and-cut.\n",
      "Parallel mode: none, using 1 thread.\n",
      "Root relaxation solution time = 0.00 sec. (0.02 ticks)\n",
      "\n",
      "        Nodes                                         Cuts/\n",
      "   Node  Left     Objective  IInf  Best Integer    Best Bound    ItCnt     Gap         Variable B NodeID Parent  Depth\n",
      "\n",
      "*     0+    0                            0.2907        0.2739             5.77%\n",
      "      0     0        0.2839     1        0.2907        0.2839        1    2.33%\n",
      "      0     2        0.2839     5        0.2907        0.2839        1    2.33%                        0             0\n",
      "Elapsed time = 0.05 sec. (0.61 ticks, tree = 0.01 MB, solutions = 1)\n",
      "\n",
      "User cuts applied:  36\n",
      "\n",
      "Root node processing (before b&c):\n",
      "  Real time             =    0.05 sec. (0.61 ticks)\n",
      "Sequential b&c:\n",
      "  Real time             =    0.25 sec. (133.21 ticks)\n",
      "                          ------------\n",
      "Total (root+branch&cut) =    0.30 sec. (133.82 ticks)\n",
      "+----------------------------------------------+------------------+-----------+\n",
      "| Pr(Y = +1) = 1.0/(1.0 + exp(-(-3 + score))   |                  |           |\n",
      "| ============================================ | ================ | ========= |\n",
      "| prior_conviction_F>=4                        |         1 points |   + ..... |\n",
      "| six_month>=1                                 |         1 points |   + ..... |\n",
      "| ============================================ | ================ | ========= |\n",
      "| ADD POINTS FROM ROWS 1 to 2                  |            SCORE |   = ..... |\n",
      "+----------------------------------------------+------------------+-----------+\n",
      "setting c0 = 0.0 to ensure that intercept is not penalized\n",
      "08/17/19 @ 05:48 PM | 581 rows in lookup table\n",
      "08/17/19 @ 05:48 PM | ------------------------------------------------------------\n",
      "08/17/19 @ 05:48 PM | runnning initialization procedure\n",
      "08/17/19 @ 05:48 PM | ------------------------------------------------------------\n",
      "08/17/19 @ 05:48 PM | CPA produced 2 cuts\n",
      "08/17/19 @ 05:48 PM | running naive rounding on 67 solutions\n",
      "08/17/19 @ 05:48 PM | best objective value: 0.2950\n",
      "08/17/19 @ 05:48 PM | rounding produced 1 integer solutions\n",
      "08/17/19 @ 05:48 PM | best objective value is 0.3192\n",
      "08/17/19 @ 05:48 PM | running sequential rounding on 67 solutions\n",
      "08/17/19 @ 05:48 PM | best objective value: 0.2950\n",
      "08/17/19 @ 05:48 PM | sequential rounding produced 1 integer solutions\n",
      "08/17/19 @ 05:48 PM | best objective value: 0.3055\n",
      "08/17/19 @ 05:48 PM | polishing 2 solutions\n",
      "08/17/19 @ 05:48 PM | best objective value: 0.3055\n",
      "08/17/19 @ 05:48 PM | polishing produced 2 integer solutions\n",
      "08/17/19 @ 05:48 PM | initialization produced 3 feasible solutions\n",
      "08/17/19 @ 05:48 PM | best objective value: 0.3055\n",
      "08/17/19 @ 05:48 PM | ------------------------------------------------------------\n",
      "08/17/19 @ 05:48 PM | completed initialization procedure\n",
      "08/17/19 @ 05:48 PM | ------------------------------------------------------------\n",
      "08/17/19 @ 05:48 PM | 581 rows in lookup table\n",
      "CPXPARAM_Read_DataCheck                          1\n",
      "CPXPARAM_Threads                                 1\n",
      "CPXPARAM_Parallel                                1\n",
      "CPXPARAM_RandomSeed                              0\n",
      "CPXPARAM_TimeLimit                               200\n",
      "CPXPARAM_MIP_Tolerances_LowerCutoff              0.29492160424185215\n",
      "CPXPARAM_MIP_Tolerances_UpperCutoff              0.30553782019630232\n"
     ]
    },
    {
     "name": "stderr",
     "output_type": "stream",
     "text": [
      "Warning: Control callbacks may disable some MIP features.\n"
     ]
    },
    {
     "name": "stdout",
     "output_type": "stream",
     "text": [
      "Lazy constraint(s) or lazy constraint callback is present.\n",
      "    Disabling dual reductions (CPX_PARAM_REDUCE) in presolve.\n",
      "    Disabling non-linear reductions (CPX_PARAM_PRELINEAR) in presolve.\n",
      "         Disabling repeat represolve because of lazy constraint/incumbent callback.\n",
      "08/17/19 @ 05:48 PM | adding 66 initial cuts\n",
      "1 of 1 MIP starts provided solutions.\n",
      "MIP start 'mip_start_0' defined initial solution with objective 0.3055.\n",
      "Tried aggregator 1 time.\n",
      "Reduced MIP has 14 rows, 28 columns, and 51 nonzeros.\n",
      "Reduced MIP has 12 binaries, 14 generals, 0 SOSs, and 0 indicators.\n",
      "Presolve time = 0.00 sec. (0.02 ticks)\n",
      "Probing time = 0.00 sec. (0.01 ticks)\n",
      "MIP emphasis: balance optimality and feasibility.\n",
      "MIP search method: traditional branch-and-cut.\n",
      "Parallel mode: none, using 1 thread.\n",
      "Root relaxation solution time = 0.00 sec. (0.02 ticks)\n",
      "\n",
      "        Nodes                                         Cuts/\n",
      "   Node  Left     Objective  IInf  Best Integer    Best Bound    ItCnt     Gap         Variable B NodeID Parent  Depth\n",
      "\n",
      "*     0+    0                            0.3055        0.2849             6.75%\n",
      "      0     0        0.2949     1        0.3055        0.2949        1    3.47%\n",
      "      0     2        0.2949     5        0.3055        0.2949        1    3.47%                        0             0\n",
      "Elapsed time = 0.05 sec. (0.63 ticks, tree = 0.01 MB, solutions = 1)\n",
      "*   160+   42                            0.3047        0.2949             3.20%\n",
      "*   180    43      integral     0        0.3025        0.2949      639    2.52%\n",
      "*   195    29      integral     0        0.3005        0.2949      694    1.87%\n",
      "\n",
      "User cuts applied:  36\n",
      "\n",
      "Root node processing (before b&c):\n",
      "  Real time             =    0.03 sec. (0.64 ticks)\n",
      "Sequential b&c:\n",
      "  Real time             =    0.13 sec. (69.54 ticks)\n",
      "                          ------------\n",
      "Total (root+branch&cut) =    0.16 sec. (70.18 ticks)\n",
      "+----------------------------------------------+------------------+-----------+\n",
      "| Pr(Y = +1) = 1.0/(1.0 + exp(-(-3 + score))   |                  |           |\n",
      "| ============================================ | ================ | ========= |\n",
      "| p_stealing>=1                                |         1 points |   + ..... |\n",
      "| ============================================ | ================ | ========= |\n",
      "| ADD POINTS FROM ROWS 1 to 1                  |            SCORE |   = ..... |\n",
      "+----------------------------------------------+------------------+-----------+\n",
      "setting c0 = 0.0 to ensure that intercept is not penalized\n",
      "08/17/19 @ 05:48 PM | 581 rows in lookup table\n",
      "08/17/19 @ 05:48 PM | ------------------------------------------------------------\n",
      "08/17/19 @ 05:48 PM | runnning initialization procedure\n",
      "08/17/19 @ 05:48 PM | ------------------------------------------------------------\n",
      "08/17/19 @ 05:48 PM | CPA produced 2 cuts\n",
      "08/17/19 @ 05:48 PM | running naive rounding on 87 solutions\n",
      "08/17/19 @ 05:48 PM | best objective value: 0.2844\n",
      "08/17/19 @ 05:48 PM | rounding produced 1 integer solutions\n",
      "08/17/19 @ 05:48 PM | best objective value is 0.2947\n",
      "08/17/19 @ 05:48 PM | running sequential rounding on 87 solutions\n",
      "08/17/19 @ 05:48 PM | best objective value: 0.2844\n",
      "08/17/19 @ 05:48 PM | sequential rounding produced 1 integer solutions\n",
      "08/17/19 @ 05:48 PM | best objective value: 0.2904\n",
      "08/17/19 @ 05:48 PM | polishing 2 solutions\n",
      "08/17/19 @ 05:48 PM | best objective value: 0.2904\n",
      "08/17/19 @ 05:48 PM | polishing produced 2 integer solutions\n",
      "08/17/19 @ 05:48 PM | initialization produced 2 feasible solutions\n",
      "08/17/19 @ 05:48 PM | best objective value: 0.2904\n",
      "08/17/19 @ 05:48 PM | ------------------------------------------------------------\n",
      "08/17/19 @ 05:48 PM | completed initialization procedure\n",
      "08/17/19 @ 05:48 PM | ------------------------------------------------------------\n",
      "08/17/19 @ 05:48 PM | 581 rows in lookup table\n",
      "CPXPARAM_Read_DataCheck                          1\n",
      "CPXPARAM_Threads                                 1\n",
      "CPXPARAM_Parallel                                1\n",
      "CPXPARAM_RandomSeed                              0\n",
      "CPXPARAM_TimeLimit                               200\n",
      "CPXPARAM_MIP_Tolerances_LowerCutoff              0.28433063677737502\n",
      "CPXPARAM_MIP_Tolerances_UpperCutoff              0.29037401108824307\n"
     ]
    },
    {
     "name": "stderr",
     "output_type": "stream",
     "text": [
      "Warning: Control callbacks may disable some MIP features.\n"
     ]
    },
    {
     "name": "stdout",
     "output_type": "stream",
     "text": [
      "Lazy constraint(s) or lazy constraint callback is present.\n",
      "    Disabling dual reductions (CPX_PARAM_REDUCE) in presolve.\n",
      "    Disabling non-linear reductions (CPX_PARAM_PRELINEAR) in presolve.\n",
      "         Disabling repeat represolve because of lazy constraint/incumbent callback.\n",
      "08/17/19 @ 05:48 PM | adding 86 initial cuts\n",
      "1 of 1 MIP starts provided solutions.\n",
      "MIP start 'mip_start_0' defined initial solution with objective 0.2904.\n",
      "Tried aggregator 1 time.\n",
      "Reduced MIP has 14 rows, 28 columns, and 51 nonzeros.\n",
      "Reduced MIP has 12 binaries, 14 generals, 0 SOSs, and 0 indicators.\n",
      "Presolve time = 0.00 sec. (0.02 ticks)\n",
      "Probing time = 0.00 sec. (0.01 ticks)\n",
      "MIP emphasis: balance optimality and feasibility.\n",
      "MIP search method: traditional branch-and-cut.\n",
      "Parallel mode: none, using 1 thread.\n",
      "Root relaxation solution time = 0.00 sec. (0.02 ticks)\n",
      "\n",
      "        Nodes                                         Cuts/\n",
      "   Node  Left     Objective  IInf  Best Integer    Best Bound    ItCnt     Gap         Variable B NodeID Parent  Depth\n",
      "\n",
      "*     0+    0                            0.2904        0.2743             5.53%\n",
      "      0     0        0.2843     1        0.2904        0.2843        1    2.08%\n",
      "      0     0        0.2843     1        0.2904      Fract: 1        3    2.08%\n",
      "      0     2        0.2843     2        0.2904        0.2843        3    2.08%                        0             0\n",
      "Elapsed time = 0.05 sec. (0.72 ticks, tree = 0.01 MB, solutions = 1)\n",
      "\n",
      "Implied bound cuts applied:  1\n",
      "Gomory fractional cuts applied:  1\n",
      "User cuts applied:  33\n",
      "\n",
      "Root node processing (before b&c):\n",
      "  Real time             =    0.05 sec. (0.72 ticks)\n",
      "Sequential b&c:\n",
      "  Real time             =    0.20 sec. (129.94 ticks)\n",
      "                          ------------\n",
      "Total (root+branch&cut) =    0.25 sec. (130.66 ticks)\n",
      "+----------------------------------------------+------------------+-----------+\n",
      "| Pr(Y = +1) = 1.0/(1.0 + exp(-(-3 + score))   |                  |           |\n",
      "| ============================================ | ================ | ========= |\n",
      "| p_felprop_violarrest>=2                      |         1 points |   + ..... |\n",
      "| six_month>=1                                 |         1 points |   + ..... |\n",
      "| ============================================ | ================ | ========= |\n",
      "| ADD POINTS FROM ROWS 1 to 2                  |            SCORE |   = ..... |\n",
      "+----------------------------------------------+------------------+-----------+\n",
      "setting c0 = 0.0 to ensure that intercept is not penalized\n",
      "08/17/19 @ 05:48 PM | 581 rows in lookup table\n",
      "08/17/19 @ 05:48 PM | ------------------------------------------------------------\n",
      "08/17/19 @ 05:48 PM | runnning initialization procedure\n",
      "08/17/19 @ 05:48 PM | ------------------------------------------------------------\n",
      "08/17/19 @ 05:48 PM | CPA produced 2 cuts\n",
      "08/17/19 @ 05:48 PM | running naive rounding on 83 solutions\n",
      "08/17/19 @ 05:48 PM | best objective value: 0.2952\n",
      "08/17/19 @ 05:48 PM | rounding produced 2 integer solutions\n",
      "08/17/19 @ 05:48 PM | best objective value is 0.3101\n",
      "08/17/19 @ 05:48 PM | running sequential rounding on 83 solutions\n",
      "08/17/19 @ 05:48 PM | best objective value: 0.2952\n",
      "08/17/19 @ 05:48 PM | sequential rounding produced 1 integer solutions\n",
      "08/17/19 @ 05:48 PM | best objective value: 0.3022\n",
      "08/17/19 @ 05:48 PM | polishing 3 solutions\n",
      "08/17/19 @ 05:48 PM | best objective value: 0.3022\n",
      "08/17/19 @ 05:48 PM | polishing produced 3 integer solutions\n",
      "08/17/19 @ 05:48 PM | initialization produced 4 feasible solutions\n",
      "08/17/19 @ 05:48 PM | best objective value: 0.3022\n",
      "08/17/19 @ 05:48 PM | ------------------------------------------------------------\n",
      "08/17/19 @ 05:48 PM | completed initialization procedure\n",
      "08/17/19 @ 05:48 PM | ------------------------------------------------------------\n",
      "08/17/19 @ 05:48 PM | 581 rows in lookup table\n",
      "CPXPARAM_Read_DataCheck                          1\n",
      "CPXPARAM_Threads                                 1\n",
      "CPXPARAM_Parallel                                1\n",
      "CPXPARAM_RandomSeed                              0\n",
      "CPXPARAM_TimeLimit                               200\n",
      "CPXPARAM_MIP_Tolerances_LowerCutoff              0.29517253743454802\n",
      "CPXPARAM_MIP_Tolerances_UpperCutoff              0.30219965456730041\n"
     ]
    },
    {
     "name": "stderr",
     "output_type": "stream",
     "text": [
      "Warning: Control callbacks may disable some MIP features.\n"
     ]
    },
    {
     "name": "stdout",
     "output_type": "stream",
     "text": [
      "Lazy constraint(s) or lazy constraint callback is present.\n",
      "    Disabling dual reductions (CPX_PARAM_REDUCE) in presolve.\n",
      "    Disabling non-linear reductions (CPX_PARAM_PRELINEAR) in presolve.\n",
      "         Disabling repeat represolve because of lazy constraint/incumbent callback.\n",
      "08/17/19 @ 05:48 PM | adding 82 initial cuts\n",
      "1 of 1 MIP starts provided solutions.\n",
      "MIP start 'mip_start_0' defined initial solution with objective 0.3022.\n",
      "Tried aggregator 1 time.\n",
      "Reduced MIP has 14 rows, 28 columns, and 51 nonzeros.\n",
      "Reduced MIP has 12 binaries, 14 generals, 0 SOSs, and 0 indicators.\n",
      "Presolve time = 0.00 sec. (0.02 ticks)\n",
      "Probing time = 0.00 sec. (0.01 ticks)\n",
      "MIP emphasis: balance optimality and feasibility.\n",
      "MIP search method: traditional branch-and-cut.\n",
      "Parallel mode: none, using 1 thread.\n",
      "Root relaxation solution time = 0.00 sec. (0.02 ticks)\n",
      "\n",
      "        Nodes                                         Cuts/\n",
      "   Node  Left     Objective  IInf  Best Integer    Best Bound    ItCnt     Gap         Variable B NodeID Parent  Depth\n",
      "\n",
      "*     0+    0                            0.3022        0.2852             5.63%\n",
      "      0     0        0.2952     1        0.3022        0.2952        1    2.33%\n",
      "      0     0        0.2952     1        0.3022      Fract: 1        2    2.33%\n",
      "      0     2        0.2952     3        0.3022        0.2952        2    2.33%                        0             0\n",
      "Elapsed time = 0.05 sec. (0.81 ticks, tree = 0.01 MB, solutions = 1)\n",
      "\n",
      "Gomory fractional cuts applied:  1\n",
      "User cuts applied:  34\n",
      "\n",
      "Root node processing (before b&c):\n",
      "  Real time             =    0.03 sec. (0.81 ticks)\n",
      "Sequential b&c:\n",
      "  Real time             =    0.20 sec. (92.39 ticks)\n",
      "                          ------------\n",
      "Total (root+branch&cut) =    0.23 sec. (93.20 ticks)\n",
      "+----------------------------------------------+------------------+-----------+\n",
      "| Pr(Y = +1) = 1.0/(1.0 + exp(-(-3 + score))   |                  |           |\n",
      "| ============================================ | ================ | ========= |\n",
      "| p_felprop_violarrest>=2                      |         1 points |   + ..... |\n",
      "| six_month>=1                                 |         1 points |   + ..... |\n",
      "| ============================================ | ================ | ========= |\n",
      "| ADD POINTS FROM ROWS 1 to 2                  |            SCORE |   = ..... |\n",
      "+----------------------------------------------+------------------+-----------+\n"
     ]
    }
   ],
   "source": [
    "#cv = KFold(n_splits=5, random_state=816, shuffle=True)\n",
    "cv = KFold(n_splits=5, random_state=816, shuffle=True)\n",
    "train_auc, test_auc = [], []\n",
    "\n",
    "i = 0\n",
    "for train, test in cv.split(SLIM_X, SLIM_Y):\n",
    "    \n",
    "    ## subset train data & store test data\n",
    "    X_train, Y_train = SLIM_X[train], SLIM_Y[train]\n",
    "    X_test, Y_test = SLIM_X[test], SLIM_Y[test]\n",
    "    sample_weights_train, sample_weights_test = sample_weights[train], sample_weights[test]\n",
    "\n",
    "    ## create new data dictionary\n",
    "    new_train_data = {\n",
    "        'X': X_train,\n",
    "        'Y': Y_train,\n",
    "        'variable_names': variable_names,\n",
    "        'outcome_name': outcome_name,\n",
    "        'sample_weights': sample_weights_train\n",
    "    }\n",
    "        \n",
    "    ## fit the model\n",
    "    model_info, mip_info, lcpa_info = risk.risk_slim(new_train_data, max_coefficient=20, max_L0_value=10, \n",
    "                                                c0_value=1e-3, max_runtime=200)\n",
    "    print_model(model_info['solution'], new_train_data)\n",
    "    \n",
    "    ## change data format\n",
    "    X_train, X_test = X_train[:,1:], X_test[:,1:] ## remove the first column, which is \"intercept\"\n",
    "    Y_train[Y_train == -1] = 0 ## change -1 to 0\n",
    "    Y_test[Y_test == -1] = 0\n",
    "    \n",
    "    ## probability & accuracy\n",
    "    train_prob = risk.riskslim_prediction(X_train, cols, model_info).reshape(-1,1)\n",
    "    test_prob = risk.riskslim_prediction(X_test, cols, model_info).reshape(-1,1)\n",
    "    \n",
    "    ## AUC\n",
    "    train_auc.append(roc_auc_score(Y_train, train_prob))\n",
    "    test_auc.append(roc_auc_score(Y_test, test_prob))"
   ]
  },
  {
   "cell_type": "code",
   "execution_count": 7,
   "metadata": {},
   "outputs": [
    {
     "data": {
      "text/plain": [
       "(0.6040713865936714, 0.5660373269888426)"
      ]
     },
     "execution_count": 7,
     "metadata": {},
     "output_type": "execute_result"
    }
   ],
   "source": [
    "np.mean(train_auc), np.mean(test_auc)"
   ]
  },
  {
   "cell_type": "markdown",
   "metadata": {},
   "source": [
    "### Save Results"
   ]
  },
  {
   "cell_type": "code",
   "execution_count": 8,
   "metadata": {},
   "outputs": [],
   "source": [
    "#log model results to the model performance folder, as per standards\n",
    "path = \"C:\\\\Users\\\\binha\\\\Documents\\\\Duke\\\\Cynthia Research\\\\KY-analysis-mytrials\\\\broward\\\\broward models\\\\model results\\\\Advanced Models\\\\Six Month\\\\\"\n",
    "results = [[\"Felony\", np.mean(train_auc), np.std(train_auc), np.mean(test_auc), np.std(test_auc)]]\n",
    "with open(path + 'Six Month RiskSLIM.csv', 'a') as writeFile:\n",
    "    writer = csv.writer(writeFile)\n",
    "    writer.writerows(results)"
   ]
  }
 ],
 "metadata": {
  "kernelspec": {
   "display_name": "Python 3",
   "language": "python",
   "name": "python3"
  },
  "language_info": {
   "codemirror_mode": {
    "name": "ipython",
    "version": 3
   },
   "file_extension": ".py",
   "mimetype": "text/x-python",
   "name": "python",
   "nbconvert_exporter": "python",
   "pygments_lexer": "ipython3",
   "version": "3.7.0"
  }
 },
 "nbformat": 4,
 "nbformat_minor": 2
}
