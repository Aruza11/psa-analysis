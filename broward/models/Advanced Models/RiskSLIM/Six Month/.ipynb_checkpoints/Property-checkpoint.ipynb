{
 "cells": [
  {
   "cell_type": "code",
   "execution_count": 1,
   "metadata": {},
   "outputs": [],
   "source": [
    "import numpy as np\n",
    "import pandas as pd\n",
    "import RiskSLIM as risk\n",
    "import csv\n",
    "\n",
    "from riskslim.helper_functions import load_data_from_csv, print_model\n",
    "from sklearn.linear_model import Lasso\n",
    "from sklearn.model_selection import train_test_split, KFold, StratifiedKFold\n",
    "from sklearn.metrics import roc_curve, auc, roc_auc_score\n",
    "from sklearn.utils import shuffle"
   ]
  },
  {
   "cell_type": "markdown",
   "metadata": {
    "hideCode": false,
    "hidePrompt": false
   },
   "source": [
    "### Lasso Feature Selection"
   ]
  },
  {
   "cell_type": "code",
   "execution_count": 2,
   "metadata": {},
   "outputs": [],
   "source": [
    "## load stumps data\n",
    "data = pd.read_csv(\"~/Documents/Duke/Cynthia Research/KY-analysis-mytrials/broward/data/broward_stumps.csv\")\n",
    "X, Y = data.loc[:,:'five_year>=1'], data['recid_property6'].values\n",
    "cols = X.columns"
   ]
  },
  {
   "cell_type": "code",
   "execution_count": 10,
   "metadata": {},
   "outputs": [
    {
     "data": {
      "text/plain": [
       "(10, 0.7532382565095003)"
      ]
     },
     "execution_count": 10,
     "metadata": {},
     "output_type": "execute_result"
    }
   ],
   "source": [
    "## lasso\n",
    "lasso = Lasso(random_state=816, alpha=0.01).fit(X, Y)\n",
    "selected_features = cols[lasso.coef_ != 0].tolist()\n",
    "len(selected_features), roc_auc_score(Y, lasso.predict(X))"
   ]
  },
  {
   "cell_type": "markdown",
   "metadata": {},
   "source": [
    "#### subset features"
   ]
  },
  {
   "cell_type": "code",
   "execution_count": 11,
   "metadata": {},
   "outputs": [],
   "source": [
    "### Subset features\n",
    "selected_features.insert(0, 'recid_property6')\n",
    "sub_data = data[selected_features]\n",
    "sub_X, sub_Y = sub_data.iloc[:,1:], sub_data.iloc[:,0].values\n",
    "sub_X.insert(0, '(Intercept)', 1)"
   ]
  },
  {
   "cell_type": "markdown",
   "metadata": {
    "hideCode": false,
    "hidePrompt": false
   },
   "source": [
    "### Cross Validation"
   ]
  },
  {
   "cell_type": "code",
   "execution_count": 12,
   "metadata": {
    "hideCode": false,
    "hidePrompt": false
   },
   "outputs": [],
   "source": [
    "SLIM_X, SLIM_Y = sub_X.values, sub_Y.reshape(-1,1)\n",
    "variable_names = sub_X.columns.tolist()\n",
    "outcome_name = 'recid_property6'\n",
    "sample_weights = np.repeat(1, len(sub_Y))"
   ]
  },
  {
   "cell_type": "code",
   "execution_count": 13,
   "metadata": {
    "hideCode": false,
    "hidePrompt": false,
    "scrolled": true
   },
   "outputs": [
    {
     "name": "stdout",
     "output_type": "stream",
     "text": [
      "setting c0 = 0.0 to ensure that intercept is not penalized\n",
      "08/17/19 @ 05:49 PM | 501 rows in lookup table\n",
      "08/17/19 @ 05:49 PM | ------------------------------------------------------------\n",
      "08/17/19 @ 05:49 PM | runnning initialization procedure\n",
      "08/17/19 @ 05:49 PM | ------------------------------------------------------------\n",
      "08/17/19 @ 05:49 PM | CPA produced 2 cuts\n",
      "08/17/19 @ 05:49 PM | running naive rounding on 74 solutions\n",
      "08/17/19 @ 05:49 PM | best objective value: 0.1782\n",
      "08/17/19 @ 05:49 PM | rounding produced 1 integer solutions\n",
      "08/17/19 @ 05:49 PM | best objective value is 0.2054\n",
      "08/17/19 @ 05:49 PM | running sequential rounding on 74 solutions\n",
      "08/17/19 @ 05:49 PM | best objective value: 0.1782\n",
      "08/17/19 @ 05:49 PM | sequential rounding produced 2 integer solutions\n",
      "08/17/19 @ 05:49 PM | best objective value: 0.1988\n",
      "08/17/19 @ 05:49 PM | polishing 3 solutions\n",
      "08/17/19 @ 05:49 PM | best objective value: 0.1988\n",
      "08/17/19 @ 05:49 PM | polishing produced 3 integer solutions\n",
      "08/17/19 @ 05:49 PM | initialization produced 4 feasible solutions\n",
      "08/17/19 @ 05:49 PM | best objective value: 0.1942\n",
      "08/17/19 @ 05:49 PM | ------------------------------------------------------------\n",
      "08/17/19 @ 05:49 PM | completed initialization procedure\n",
      "08/17/19 @ 05:49 PM | ------------------------------------------------------------\n",
      "08/17/19 @ 05:49 PM | 501 rows in lookup table\n",
      "CPXPARAM_Read_DataCheck                          1\n",
      "CPXPARAM_Threads                                 1\n",
      "CPXPARAM_Parallel                                1\n",
      "CPXPARAM_RandomSeed                              0\n",
      "CPXPARAM_TimeLimit                               200\n",
      "CPXPARAM_MIP_Tolerances_LowerCutoff              0.1781463549019707\n",
      "CPXPARAM_MIP_Tolerances_UpperCutoff              0.19423568917957662\n"
     ]
    },
    {
     "name": "stderr",
     "output_type": "stream",
     "text": [
      "Warning: Control callbacks may disable some MIP features.\n"
     ]
    },
    {
     "name": "stdout",
     "output_type": "stream",
     "text": [
      "Lazy constraint(s) or lazy constraint callback is present.\n",
      "    Disabling dual reductions (CPX_PARAM_REDUCE) in presolve.\n",
      "    Disabling non-linear reductions (CPX_PARAM_PRELINEAR) in presolve.\n",
      "         Disabling repeat represolve because of lazy constraint/incumbent callback.\n",
      "08/17/19 @ 05:49 PM | adding 73 initial cuts\n",
      "1 of 1 MIP starts provided solutions.\n",
      "MIP start 'mip_start_0' defined initial solution with objective 0.1942.\n",
      "Tried aggregator 2 times.\n",
      "MIP Presolve eliminated 1 rows and 1 columns.\n",
      "Aggregator did 1 substitutions.\n",
      "Reduced MIP has 10 rows, 22 columns, and 20 nonzeros.\n",
      "Reduced MIP has 10 binaries, 11 generals, 0 SOSs, and 0 indicators.\n",
      "Presolve time = 0.02 sec. (0.02 ticks)\n",
      "Probing time = 0.00 sec. (0.00 ticks)\n",
      "MIP emphasis: balance optimality and feasibility.\n",
      "MIP search method: traditional branch-and-cut.\n",
      "Parallel mode: none, using 1 thread.\n",
      "Root relaxation solution time = 0.00 sec. (0.01 ticks)\n",
      "\n",
      "        Nodes                                         Cuts/\n",
      "   Node  Left     Objective  IInf  Best Integer    Best Bound    ItCnt     Gap         Variable B NodeID Parent  Depth\n",
      "\n",
      "*     0+    0                            0.1942        0.1781             8.28%\n",
      "      0     0        0.1781     1        0.1942        0.1781        0    8.28%\n",
      "      0     2        0.1781     1        0.1942        0.1781        0    8.28%                        0             0\n",
      "Elapsed time = 0.05 sec. (0.31 ticks, tree = 0.01 MB, solutions = 1)\n",
      "\n",
      "Implied bound cuts applied:  1\n",
      "User cuts applied:  29\n",
      "\n",
      "Root node processing (before b&c):\n",
      "  Real time             =    0.05 sec. (0.31 ticks)\n",
      "Sequential b&c:\n",
      "  Real time             =    0.05 sec. (11.90 ticks)\n",
      "                          ------------\n",
      "Total (root+branch&cut) =    0.09 sec. (12.21 ticks)\n",
      "+----------------------------------------------+------------------+-----------+\n",
      "| Pr(Y = +1) = 1.0/(1.0 + exp(-(-3 + score))   |                  |           |\n",
      "| ============================================ | ================ | ========= |\n",
      "| p_property>=5                                |         1 points |   + ..... |\n",
      "| ============================================ | ================ | ========= |\n",
      "| ADD POINTS FROM ROWS 1 to 1                  |            SCORE |   = ..... |\n",
      "+----------------------------------------------+------------------+-----------+\n",
      "setting c0 = 0.0 to ensure that intercept is not penalized\n",
      "08/17/19 @ 05:49 PM | 501 rows in lookup table\n",
      "08/17/19 @ 05:49 PM | ------------------------------------------------------------\n",
      "08/17/19 @ 05:49 PM | runnning initialization procedure\n",
      "08/17/19 @ 05:49 PM | ------------------------------------------------------------\n",
      "08/17/19 @ 05:49 PM | CPA produced 2 cuts\n",
      "08/17/19 @ 05:49 PM | running naive rounding on 80 solutions\n",
      "08/17/19 @ 05:49 PM | best objective value: 0.1902\n",
      "08/17/19 @ 05:49 PM | rounding produced 2 integer solutions\n",
      "08/17/19 @ 05:49 PM | best objective value is 0.2168\n",
      "08/17/19 @ 05:49 PM | running sequential rounding on 80 solutions\n",
      "08/17/19 @ 05:49 PM | best objective value: 0.1902\n",
      "08/17/19 @ 05:49 PM | sequential rounding produced 2 integer solutions\n",
      "08/17/19 @ 05:49 PM | best objective value: 0.2118\n",
      "08/17/19 @ 05:49 PM | polishing 4 solutions\n",
      "08/17/19 @ 05:49 PM | best objective value: 0.2118\n",
      "08/17/19 @ 05:49 PM | polishing produced 3 integer solutions\n",
      "08/17/19 @ 05:49 PM | initialization produced 5 feasible solutions\n",
      "08/17/19 @ 05:49 PM | best objective value: 0.2118\n",
      "08/17/19 @ 05:49 PM | ------------------------------------------------------------\n",
      "08/17/19 @ 05:49 PM | completed initialization procedure\n",
      "08/17/19 @ 05:49 PM | ------------------------------------------------------------\n",
      "08/17/19 @ 05:49 PM | 501 rows in lookup table\n",
      "CPXPARAM_Read_DataCheck                          1\n",
      "CPXPARAM_Threads                                 1\n",
      "CPXPARAM_Parallel                                1\n",
      "CPXPARAM_RandomSeed                              0\n",
      "CPXPARAM_TimeLimit                               200\n",
      "CPXPARAM_MIP_Tolerances_LowerCutoff              0.19015262744029812\n",
      "CPXPARAM_MIP_Tolerances_UpperCutoff              0.21183536562529681\n"
     ]
    },
    {
     "name": "stderr",
     "output_type": "stream",
     "text": [
      "Warning: Control callbacks may disable some MIP features.\n"
     ]
    },
    {
     "name": "stdout",
     "output_type": "stream",
     "text": [
      "Lazy constraint(s) or lazy constraint callback is present.\n",
      "    Disabling dual reductions (CPX_PARAM_REDUCE) in presolve.\n",
      "    Disabling non-linear reductions (CPX_PARAM_PRELINEAR) in presolve.\n",
      "         Disabling repeat represolve because of lazy constraint/incumbent callback.\n",
      "08/17/19 @ 05:49 PM | adding 79 initial cuts\n",
      "1 of 1 MIP starts provided solutions.\n",
      "MIP start 'mip_start_0' defined initial solution with objective 0.2118.\n",
      "Tried aggregator 2 times.\n",
      "MIP Presolve eliminated 1 rows and 1 columns.\n",
      "Aggregator did 1 substitutions.\n",
      "Reduced MIP has 10 rows, 22 columns, and 20 nonzeros.\n",
      "Reduced MIP has 10 binaries, 11 generals, 0 SOSs, and 0 indicators.\n",
      "Presolve time = 0.00 sec. (0.02 ticks)\n",
      "Probing time = 0.00 sec. (0.00 ticks)\n",
      "MIP emphasis: balance optimality and feasibility.\n",
      "MIP search method: traditional branch-and-cut.\n",
      "Parallel mode: none, using 1 thread.\n",
      "Root relaxation solution time = 0.00 sec. (0.01 ticks)\n",
      "\n",
      "        Nodes                                         Cuts/\n",
      "   Node  Left     Objective  IInf  Best Integer    Best Bound    ItCnt     Gap         Variable B NodeID Parent  Depth\n",
      "\n",
      "*     0+    0                            0.2118        0.1902            10.24%\n",
      "      0     0        0.1902     1        0.2118        0.1902        0   10.24%\n",
      "*     0+    0                            0.2060        0.1902             7.68%\n",
      "      0     2        0.1902     2        0.2060        0.1902        0    7.68%                        0             0\n",
      "Elapsed time = 0.03 sec. (0.40 ticks, tree = 0.01 MB, solutions = 2)\n",
      "*    10+    9                            0.2055        0.1902             7.46%\n",
      "\n",
      "User cuts applied:  25\n",
      "\n",
      "Root node processing (before b&c):\n",
      "  Real time             =    0.03 sec. (0.40 ticks)\n",
      "Sequential b&c:\n",
      "  Real time             =    0.05 sec. (7.88 ticks)\n",
      "                          ------------\n",
      "Total (root+branch&cut) =    0.08 sec. (8.29 ticks)\n",
      "+----------------------------------------------+------------------+-----------+\n",
      "| Pr(Y = +1) = 1.0/(1.0 + exp(-(-3 + score))   |                  |           |\n",
      "| ============================================ | ================ | ========= |\n",
      "| p_property>=4                                |         1 points |   + ..... |\n",
      "| ============================================ | ================ | ========= |\n",
      "| ADD POINTS FROM ROWS 1 to 1                  |            SCORE |   = ..... |\n",
      "+----------------------------------------------+------------------+-----------+\n",
      "setting c0 = 0.0 to ensure that intercept is not penalized\n",
      "08/17/19 @ 05:49 PM | 501 rows in lookup table\n",
      "08/17/19 @ 05:49 PM | ------------------------------------------------------------\n",
      "08/17/19 @ 05:49 PM | runnning initialization procedure\n",
      "08/17/19 @ 05:49 PM | ------------------------------------------------------------\n",
      "08/17/19 @ 05:49 PM | CPA produced 2 cuts\n",
      "08/17/19 @ 05:49 PM | running naive rounding on 68 solutions\n",
      "08/17/19 @ 05:49 PM | best objective value: 0.1857\n",
      "08/17/19 @ 05:49 PM | rounding produced 1 integer solutions\n",
      "08/17/19 @ 05:49 PM | best objective value is 0.2242\n",
      "08/17/19 @ 05:49 PM | running sequential rounding on 68 solutions\n",
      "08/17/19 @ 05:49 PM | best objective value: 0.1857\n",
      "08/17/19 @ 05:49 PM | sequential rounding produced 1 integer solutions\n",
      "08/17/19 @ 05:49 PM | best objective value: 0.2053\n",
      "08/17/19 @ 05:49 PM | polishing 2 solutions\n",
      "08/17/19 @ 05:49 PM | best objective value: 0.2053\n",
      "08/17/19 @ 05:49 PM | polishing produced 1 integer solutions\n",
      "08/17/19 @ 05:49 PM | initialization produced 2 feasible solutions\n",
      "08/17/19 @ 05:49 PM | best objective value: 0.2053\n",
      "08/17/19 @ 05:49 PM | ------------------------------------------------------------\n",
      "08/17/19 @ 05:49 PM | completed initialization procedure\n",
      "08/17/19 @ 05:49 PM | ------------------------------------------------------------\n",
      "08/17/19 @ 05:49 PM | 501 rows in lookup table\n",
      "CPXPARAM_Read_DataCheck                          1\n",
      "CPXPARAM_Threads                                 1\n",
      "CPXPARAM_Parallel                                1\n",
      "CPXPARAM_RandomSeed                              0\n",
      "CPXPARAM_TimeLimit                               200\n",
      "CPXPARAM_MIP_Tolerances_LowerCutoff              0.18564734243276174\n",
      "CPXPARAM_MIP_Tolerances_UpperCutoff              0.20527740241888409\n"
     ]
    },
    {
     "name": "stderr",
     "output_type": "stream",
     "text": [
      "Warning: Control callbacks may disable some MIP features.\n"
     ]
    },
    {
     "name": "stdout",
     "output_type": "stream",
     "text": [
      "Lazy constraint(s) or lazy constraint callback is present.\n",
      "    Disabling dual reductions (CPX_PARAM_REDUCE) in presolve.\n",
      "    Disabling non-linear reductions (CPX_PARAM_PRELINEAR) in presolve.\n",
      "         Disabling repeat represolve because of lazy constraint/incumbent callback.\n",
      "08/17/19 @ 05:49 PM | adding 67 initial cuts\n",
      "1 of 1 MIP starts provided solutions.\n",
      "MIP start 'mip_start_0' defined initial solution with objective 0.2053.\n",
      "Tried aggregator 2 times.\n",
      "MIP Presolve eliminated 1 rows and 1 columns.\n",
      "Aggregator did 1 substitutions.\n",
      "Reduced MIP has 10 rows, 22 columns, and 20 nonzeros.\n",
      "Reduced MIP has 10 binaries, 11 generals, 0 SOSs, and 0 indicators.\n",
      "Presolve time = 0.00 sec. (0.02 ticks)\n",
      "Probing time = 0.00 sec. (0.00 ticks)\n",
      "MIP emphasis: balance optimality and feasibility.\n",
      "MIP search method: traditional branch-and-cut.\n",
      "Parallel mode: none, using 1 thread.\n",
      "Root relaxation solution time = 0.00 sec. (0.01 ticks)\n",
      "\n",
      "        Nodes                                         Cuts/\n",
      "   Node  Left     Objective  IInf  Best Integer    Best Bound    ItCnt     Gap         Variable B NodeID Parent  Depth\n",
      "\n",
      "*     0+    0                            0.2053        0.1856             9.56%\n",
      "      0     0        0.1856     1        0.2053        0.1856        0    9.56%\n",
      "*     0+    0                            0.2002        0.1856             7.28%\n",
      "      0     2        0.1856     2        0.2002        0.1856        0    7.28%                        0             0\n",
      "Elapsed time = 0.05 sec. (0.39 ticks, tree = 0.01 MB, solutions = 2)\n",
      "\n",
      "User cuts applied:  23\n",
      "\n",
      "Root node processing (before b&c):\n",
      "  Real time             =    0.05 sec. (0.38 ticks)\n",
      "Sequential b&c:\n",
      "  Real time             =    0.05 sec. (7.10 ticks)\n",
      "                          ------------\n",
      "Total (root+branch&cut) =    0.09 sec. (7.49 ticks)\n"
     ]
    },
    {
     "ename": "ValueError",
     "evalue": "max() arg is an empty sequence",
     "output_type": "error",
     "traceback": [
      "\u001b[1;31m---------------------------------------------------------------------------\u001b[0m",
      "\u001b[1;31mValueError\u001b[0m                                Traceback (most recent call last)",
      "\u001b[1;32m<ipython-input-13-bbbc9d51f321>\u001b[0m in \u001b[0;36m<module>\u001b[1;34m\u001b[0m\n\u001b[0;32m     23\u001b[0m     model_info, mip_info, lcpa_info = risk.risk_slim(new_train_data, max_coefficient=20, max_L0_value=10, \n\u001b[0;32m     24\u001b[0m                                                 c0_value=1e-2, max_runtime=200)\n\u001b[1;32m---> 25\u001b[1;33m     \u001b[0mprint_model\u001b[0m\u001b[1;33m(\u001b[0m\u001b[0mmodel_info\u001b[0m\u001b[1;33m[\u001b[0m\u001b[1;34m'solution'\u001b[0m\u001b[1;33m]\u001b[0m\u001b[1;33m,\u001b[0m \u001b[0mnew_train_data\u001b[0m\u001b[1;33m)\u001b[0m\u001b[1;33m\u001b[0m\u001b[0m\n\u001b[0m\u001b[0;32m     26\u001b[0m \u001b[1;33m\u001b[0m\u001b[0m\n\u001b[0;32m     27\u001b[0m     \u001b[1;31m## change data format\u001b[0m\u001b[1;33m\u001b[0m\u001b[1;33m\u001b[0m\u001b[0m\n",
      "\u001b[1;32mc:\\users\\binha\\risk-slim\\riskslim\\helper_functions.py\u001b[0m in \u001b[0;36mprint_model\u001b[1;34m(rho, data, show_omitted_variables)\u001b[0m\n\u001b[0;32m    388\u001b[0m     \u001b[0mtotal_string\u001b[0m \u001b[1;33m=\u001b[0m \u001b[1;34m\"ADD POINTS FROM ROWS %d to %d\"\u001b[0m \u001b[1;33m%\u001b[0m \u001b[1;33m(\u001b[0m\u001b[1;36m1\u001b[0m\u001b[1;33m,\u001b[0m \u001b[0mn_variable_rows\u001b[0m\u001b[1;33m)\u001b[0m\u001b[1;33m\u001b[0m\u001b[0m\n\u001b[0;32m    389\u001b[0m \u001b[1;33m\u001b[0m\u001b[0m\n\u001b[1;32m--> 390\u001b[1;33m     \u001b[0mmax_name_col_length\u001b[0m \u001b[1;33m=\u001b[0m \u001b[0mmax\u001b[0m\u001b[1;33m(\u001b[0m\u001b[0mlen\u001b[0m\u001b[1;33m(\u001b[0m\u001b[0mpredict_string\u001b[0m\u001b[1;33m)\u001b[0m\u001b[1;33m,\u001b[0m \u001b[0mlen\u001b[0m\u001b[1;33m(\u001b[0m\u001b[0mtotal_string\u001b[0m\u001b[1;33m)\u001b[0m\u001b[1;33m,\u001b[0m \u001b[0mmax\u001b[0m\u001b[1;33m(\u001b[0m\u001b[1;33m[\u001b[0m\u001b[0mlen\u001b[0m\u001b[1;33m(\u001b[0m\u001b[0ms\u001b[0m\u001b[1;33m)\u001b[0m \u001b[1;32mfor\u001b[0m \u001b[0ms\u001b[0m \u001b[1;32min\u001b[0m \u001b[0mrho_names\u001b[0m\u001b[1;33m]\u001b[0m\u001b[1;33m)\u001b[0m\u001b[1;33m)\u001b[0m \u001b[1;33m+\u001b[0m \u001b[1;36m2\u001b[0m\u001b[1;33m\u001b[0m\u001b[0m\n\u001b[0m\u001b[0;32m    391\u001b[0m     \u001b[0mmax_value_col_length\u001b[0m \u001b[1;33m=\u001b[0m \u001b[0mmax\u001b[0m\u001b[1;33m(\u001b[0m\u001b[1;36m7\u001b[0m\u001b[1;33m,\u001b[0m \u001b[0mmax\u001b[0m\u001b[1;33m(\u001b[0m\u001b[1;33m[\u001b[0m\u001b[0mlen\u001b[0m\u001b[1;33m(\u001b[0m\u001b[0ms\u001b[0m\u001b[1;33m)\u001b[0m \u001b[1;32mfor\u001b[0m \u001b[0ms\u001b[0m \u001b[1;32min\u001b[0m \u001b[0mrho_values_string\u001b[0m\u001b[1;33m]\u001b[0m\u001b[1;33m)\u001b[0m \u001b[1;33m+\u001b[0m \u001b[0mlen\u001b[0m\u001b[1;33m(\u001b[0m\u001b[1;34m\"points\"\u001b[0m\u001b[1;33m)\u001b[0m\u001b[1;33m)\u001b[0m \u001b[1;33m+\u001b[0m \u001b[1;36m2\u001b[0m\u001b[1;33m\u001b[0m\u001b[0m\n\u001b[0;32m    392\u001b[0m \u001b[1;33m\u001b[0m\u001b[0m\n",
      "\u001b[1;31mValueError\u001b[0m: max() arg is an empty sequence"
     ]
    }
   ],
   "source": [
    "#cv = KFold(n_splits=5, random_state=816, shuffle=True)\n",
    "cv = KFold(n_splits=5, random_state=816, shuffle=True)\n",
    "train_auc, test_auc = [], []\n",
    "\n",
    "i = 0\n",
    "for train, test in cv.split(SLIM_X, SLIM_Y):\n",
    "    \n",
    "    ## subset train data & store test data\n",
    "    X_train, Y_train = SLIM_X[train], SLIM_Y[train]\n",
    "    X_test, Y_test = SLIM_X[test], SLIM_Y[test]\n",
    "    sample_weights_train, sample_weights_test = sample_weights[train], sample_weights[test]\n",
    "\n",
    "    ## create new data dictionary\n",
    "    new_train_data = {\n",
    "        'X': X_train,\n",
    "        'Y': Y_train,\n",
    "        'variable_names': variable_names,\n",
    "        'outcome_name': outcome_name,\n",
    "        'sample_weights': sample_weights_train\n",
    "    }\n",
    "        \n",
    "    ## fit the model\n",
    "    model_info, mip_info, lcpa_info = risk.risk_slim(new_train_data, max_coefficient=20, max_L0_value=10, \n",
    "                                                c0_value=1e-2, max_runtime=200)\n",
    "    print_model(model_info['solution'], new_train_data)\n",
    "    \n",
    "    ## change data format\n",
    "    X_train, X_test = X_train[:,1:], X_test[:,1:] ## remove the first column, which is \"intercept\"\n",
    "    Y_train[Y_train == -1] = 0 ## change -1 to 0\n",
    "    Y_test[Y_test == -1] = 0\n",
    "    \n",
    "    ## probability & accuracy\n",
    "    train_prob = risk.riskslim_prediction(X_train, cols, model_info).reshape(-1,1)\n",
    "    test_prob = risk.riskslim_prediction(X_test, cols, model_info).reshape(-1,1)\n",
    "    \n",
    "    ## AUC\n",
    "    train_auc.append(roc_auc_score(Y_train, train_prob))\n",
    "    test_auc.append(roc_auc_score(Y_test, test_prob))"
   ]
  },
  {
   "cell_type": "code",
   "execution_count": 14,
   "metadata": {},
   "outputs": [
    {
     "data": {
      "text/plain": [
       "(0.6567830030448659, 0.6537021125893077)"
      ]
     },
     "execution_count": 14,
     "metadata": {},
     "output_type": "execute_result"
    }
   ],
   "source": [
    "np.mean(train_auc), np.mean(test_auc)"
   ]
  },
  {
   "cell_type": "markdown",
   "metadata": {},
   "source": [
    "### Save Results"
   ]
  },
  {
   "cell_type": "code",
   "execution_count": 15,
   "metadata": {},
   "outputs": [],
   "source": [
    "#log model results to the model performance folder, as per standards\n",
    "path = \"C:\\\\Users\\\\binha\\\\Documents\\\\Duke\\\\Cynthia Research\\\\KY-analysis-mytrials\\\\broward\\\\broward models\\\\model results\\\\Advanced Models\\\\Six Month\\\\\"\n",
    "results = [[\"Property\", np.mean(train_auc), np.std(train_auc), np.mean(test_auc), np.std(test_auc)]]\n",
    "with open(path + 'Six Month RiskSLIM.csv', 'a') as writeFile:\n",
    "    writer = csv.writer(writeFile)\n",
    "    writer.writerows(results)"
   ]
  }
 ],
 "metadata": {
  "hide_code_all_hidden": false,
  "kernelspec": {
   "display_name": "Python 3",
   "language": "python",
   "name": "python3"
  },
  "language_info": {
   "codemirror_mode": {
    "name": "ipython",
    "version": 3
   },
   "file_extension": ".py",
   "mimetype": "text/x-python",
   "name": "python",
   "nbconvert_exporter": "python",
   "pygments_lexer": "ipython3",
   "version": "3.7.0"
  }
 },
 "nbformat": 4,
 "nbformat_minor": 2
}
