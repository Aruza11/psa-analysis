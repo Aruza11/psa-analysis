{
 "cells": [
  {
   "cell_type": "code",
   "execution_count": 2,
   "metadata": {
    "hideCode": false,
    "hidePrompt": false
   },
   "outputs": [],
   "source": [
    "import pytablewriter\n",
    "import pandas as pd\n",
    "import numpy as np"
   ]
  },
  {
   "cell_type": "code",
   "execution_count": 3,
   "metadata": {
    "hideCode": false,
    "hidePrompt": false
   },
   "outputs": [],
   "source": [
    "result = pd.read_csv(\"C:\\\\Users\\\\binha\\\\Documents\\\\Duke\\\\Cynthia Research\\\\KY-analysis-mytrials\\\\broward\\\\broward models\\\\model results\\\\Advanced Models\\\\Two Year\\\\Advanced Models Summary.csv\")"
   ]
  },
  {
   "cell_type": "code",
   "execution_count": 4,
   "metadata": {
    "hideCode": false,
    "hidePrompt": false
   },
   "outputs": [
    {
     "data": {
      "text/html": [
       "<div>\n",
       "<style scoped>\n",
       "    .dataframe tbody tr th:only-of-type {\n",
       "        vertical-align: middle;\n",
       "    }\n",
       "\n",
       "    .dataframe tbody tr th {\n",
       "        vertical-align: top;\n",
       "    }\n",
       "\n",
       "    .dataframe thead th {\n",
       "        text-align: right;\n",
       "    }\n",
       "</style>\n",
       "<table border=\"1\" class=\"dataframe\">\n",
       "  <thead>\n",
       "    <tr style=\"text-align: right;\">\n",
       "      <th></th>\n",
       "      <th>Unnamed: 0</th>\n",
       "      <th>AdaBoost</th>\n",
       "      <th>std</th>\n",
       "      <th>EBM</th>\n",
       "      <th>std.1</th>\n",
       "      <th>Lasso Stumps</th>\n",
       "      <th>std.2</th>\n",
       "      <th>Arnold PSA Raw</th>\n",
       "      <th>std.3</th>\n",
       "      <th>Arnold PSA</th>\n",
       "      <th>std.4</th>\n",
       "    </tr>\n",
       "  </thead>\n",
       "  <tbody>\n",
       "    <tr>\n",
       "      <th>0</th>\n",
       "      <td>Recidivism</td>\n",
       "      <td>0.644</td>\n",
       "      <td>0.006</td>\n",
       "      <td>0.660</td>\n",
       "      <td>0.026</td>\n",
       "      <td>0.674</td>\n",
       "      <td>0.007</td>\n",
       "      <td>0.611</td>\n",
       "      <td>0.045</td>\n",
       "      <td>0.605</td>\n",
       "      <td>0.043</td>\n",
       "    </tr>\n",
       "    <tr>\n",
       "      <th>1</th>\n",
       "      <td>Violence</td>\n",
       "      <td>0.589</td>\n",
       "      <td>0.020</td>\n",
       "      <td>0.676</td>\n",
       "      <td>0.022</td>\n",
       "      <td>0.682</td>\n",
       "      <td>0.028</td>\n",
       "      <td>0.649</td>\n",
       "      <td>0.029</td>\n",
       "      <td>-</td>\n",
       "      <td>-</td>\n",
       "    </tr>\n",
       "    <tr>\n",
       "      <th>2</th>\n",
       "      <td>Drug</td>\n",
       "      <td>0.690</td>\n",
       "      <td>0.036</td>\n",
       "      <td>0.641</td>\n",
       "      <td>0.027</td>\n",
       "      <td>0.720</td>\n",
       "      <td>0.030</td>\n",
       "      <td>0.558</td>\n",
       "      <td>0.056</td>\n",
       "      <td>0.546</td>\n",
       "      <td>0.054</td>\n",
       "    </tr>\n",
       "    <tr>\n",
       "      <th>3</th>\n",
       "      <td>Property</td>\n",
       "      <td>0.680</td>\n",
       "      <td>0.031</td>\n",
       "      <td>0.690</td>\n",
       "      <td>0.031</td>\n",
       "      <td>0.750</td>\n",
       "      <td>0.031</td>\n",
       "      <td>0.657</td>\n",
       "      <td>0.058</td>\n",
       "      <td>0.657</td>\n",
       "      <td>0.058</td>\n",
       "    </tr>\n",
       "    <tr>\n",
       "      <th>4</th>\n",
       "      <td>Felony</td>\n",
       "      <td>0.629</td>\n",
       "      <td>0.041</td>\n",
       "      <td>0.654</td>\n",
       "      <td>0.043</td>\n",
       "      <td>0.636</td>\n",
       "      <td>0.039</td>\n",
       "      <td>0.620</td>\n",
       "      <td>0.045</td>\n",
       "      <td>0.616</td>\n",
       "      <td>0.046</td>\n",
       "    </tr>\n",
       "    <tr>\n",
       "      <th>5</th>\n",
       "      <td>Misdemeanor</td>\n",
       "      <td>0.554</td>\n",
       "      <td>0.016</td>\n",
       "      <td>0.624</td>\n",
       "      <td>0.019</td>\n",
       "      <td>0.607</td>\n",
       "      <td>0.014</td>\n",
       "      <td>0.551</td>\n",
       "      <td>0.026</td>\n",
       "      <td>0.546</td>\n",
       "      <td>0.028</td>\n",
       "    </tr>\n",
       "  </tbody>\n",
       "</table>\n",
       "</div>"
      ],
      "text/plain": [
       "    Unnamed: 0  AdaBoost    std    EBM  std.1  Lasso Stumps  std.2  \\\n",
       "0   Recidivism     0.644  0.006  0.660  0.026         0.674  0.007   \n",
       "1     Violence     0.589  0.020  0.676  0.022         0.682  0.028   \n",
       "2         Drug     0.690  0.036  0.641  0.027         0.720  0.030   \n",
       "3     Property     0.680  0.031  0.690  0.031         0.750  0.031   \n",
       "4       Felony     0.629  0.041  0.654  0.043         0.636  0.039   \n",
       "5  Misdemeanor     0.554  0.016  0.624  0.019         0.607  0.014   \n",
       "\n",
       "   Arnold PSA Raw  std.3 Arnold PSA  std.4  \n",
       "0           0.611  0.045      0.605  0.043  \n",
       "1           0.649  0.029          -      -  \n",
       "2           0.558  0.056      0.546  0.054  \n",
       "3           0.657  0.058      0.657  0.058  \n",
       "4           0.620  0.045      0.616  0.046  \n",
       "5           0.551  0.026      0.546  0.028  "
      ]
     },
     "execution_count": 4,
     "metadata": {},
     "output_type": "execute_result"
    }
   ],
   "source": [
    "result"
   ]
  },
  {
   "cell_type": "code",
   "execution_count": 5,
   "metadata": {
    "hideCode": false,
    "hidePrompt": false
   },
   "outputs": [],
   "source": [
    "cols = result.columns.to_list()\n",
    "values = result.values.tolist()"
   ]
  },
  {
   "cell_type": "code",
   "execution_count": 6,
   "metadata": {
    "hideCode": false,
    "hideOutput": true,
    "hidePrompt": false
   },
   "outputs": [
    {
     "name": "stdout",
     "output_type": "stream",
     "text": [
      "\\begin{array}{l | r | r | r | r | r | r | r | r | l | l} \\hline\n",
      "    Recidivism  & 0.6440 & 0.00600 & 0.6600 & 0.02600 & 0.674 &  0.00700 & 0.6110 & 0.04500 & 0.605 & 0.043 \\\\ \\hline\n",
      "    Violence    & 0.5890 & 0.02000 & 0.6760 & 0.02200 & 0.682 &  0.02800 & 0.6490 & 0.02900 & \\verb|-    | & \\verb|-    | \\\\ \\hline\n",
      "    Drug        & 0.6900 & 0.03600 & 0.6410 & 0.02700 & 0.720 &  0.03000 & 0.5580 & 0.05600 & 0.546 & 0.054 \\\\ \\hline\n",
      "    Property    & 0.6800 & 0.03100 & 0.6900 & 0.03100 & 0.750 &  0.03100 & 0.6570 & 0.05800 & 0.657 & 0.058 \\\\ \\hline\n",
      "    Felony      & 0.6290 & 0.04100 & 0.6540 & 0.04300 & 0.636 &  0.03900 & 0.6200 & 0.04500 & 0.616 & 0.046 \\\\ \\hline\n",
      "    Misdemeanor & 0.5540 & 0.01600 & 0.6240 & 0.01900 & 0.607 &  0.01400 & 0.5510 & 0.02600 & 0.546 & 0.028 \\\\ \\hline\n",
      "\\end{array}\n"
     ]
    }
   ],
   "source": [
    "writer = pytablewriter.LatexTableWriter()\n",
    "writer.value_matrix = values\n",
    "writer.write_table()"
   ]
  }
 ],
 "metadata": {
  "hide_code_all_hidden": false,
  "kernelspec": {
   "display_name": "Python 3",
   "language": "python",
   "name": "python3"
  },
  "language_info": {
   "codemirror_mode": {
    "name": "ipython",
    "version": 3
   },
   "file_extension": ".py",
   "mimetype": "text/x-python",
   "name": "python",
   "nbconvert_exporter": "python",
   "pygments_lexer": "ipython3",
   "version": "3.7.0"
  }
 },
 "nbformat": 4,
 "nbformat_minor": 2
}
