{
 "cells": [
  {
   "cell_type": "code",
   "execution_count": 1,
   "metadata": {
    "hideCode": false,
    "hidePrompt": false
   },
   "outputs": [],
   "source": [
    "import pytablewriter\n",
    "import pandas as pd\n",
    "import numpy as np"
   ]
  },
  {
   "cell_type": "code",
   "execution_count": 3,
   "metadata": {
    "hideCode": false,
    "hidePrompt": false
   },
   "outputs": [],
   "source": [
    "result = pd.read_csv(\"C:\\\\Users\\\\binha\\\\Documents\\\\Duke\\\\Cynthia Research\\\\KY-analysis-mytrials\\\\broward\\\\broward models\\\\model results\\\\Advanced Models\\\\Two Year\\\\Interpretable Models Summary.csv\")"
   ]
  },
  {
   "cell_type": "code",
   "execution_count": 4,
   "metadata": {
    "hideCode": false,
    "hidePrompt": false
   },
   "outputs": [
    {
     "data": {
      "text/html": [
       "<div>\n",
       "<style scoped>\n",
       "    .dataframe tbody tr th:only-of-type {\n",
       "        vertical-align: middle;\n",
       "    }\n",
       "\n",
       "    .dataframe tbody tr th {\n",
       "        vertical-align: top;\n",
       "    }\n",
       "\n",
       "    .dataframe thead th {\n",
       "        text-align: right;\n",
       "    }\n",
       "</style>\n",
       "<table border=\"1\" class=\"dataframe\">\n",
       "  <thead>\n",
       "    <tr style=\"text-align: right;\">\n",
       "      <th></th>\n",
       "      <th>Unnamed: 0</th>\n",
       "      <th>CART</th>\n",
       "      <th>EBM</th>\n",
       "      <th>Lasso Stumps</th>\n",
       "      <th>RiskSLIM</th>\n",
       "      <th>Performance Range</th>\n",
       "      <th>Arnold PSA Raw</th>\n",
       "      <th>Arnold PSA</th>\n",
       "    </tr>\n",
       "  </thead>\n",
       "  <tbody>\n",
       "    <tr>\n",
       "      <th>0</th>\n",
       "      <td>General</td>\n",
       "      <td>0.625 (0.019)</td>\n",
       "      <td>0.661 (0.022)</td>\n",
       "      <td>0.658 (0.013)</td>\n",
       "      <td>0.645 (0.018)</td>\n",
       "      <td>0.036</td>\n",
       "      <td>0.611 (0.045)</td>\n",
       "      <td>0.605 (0.043)</td>\n",
       "    </tr>\n",
       "    <tr>\n",
       "      <th>1</th>\n",
       "      <td>Violent</td>\n",
       "      <td>0.619 (0.035)</td>\n",
       "      <td>0.675 (0.022)</td>\n",
       "      <td>0.681 (0.041)</td>\n",
       "      <td>0.664 (0.041)</td>\n",
       "      <td>0.062</td>\n",
       "      <td>0.649 (0.029)</td>\n",
       "      <td>-</td>\n",
       "    </tr>\n",
       "    <tr>\n",
       "      <th>2</th>\n",
       "      <td>Property</td>\n",
       "      <td>0.699 (0.034)</td>\n",
       "      <td>0.734 (0.033)</td>\n",
       "      <td>0.739 (0.052)</td>\n",
       "      <td>0.694 (0.035)</td>\n",
       "      <td>0.045</td>\n",
       "      <td>0.657 (0.058)</td>\n",
       "      <td>0.657 (0.058)</td>\n",
       "    </tr>\n",
       "    <tr>\n",
       "      <th>3</th>\n",
       "      <td>Felony</td>\n",
       "      <td>0.623 (0.036)</td>\n",
       "      <td>0.652 (0.043)</td>\n",
       "      <td>0.653 (0.033)</td>\n",
       "      <td>0.603 (0.039)</td>\n",
       "      <td>0.050</td>\n",
       "      <td>0.62 (0.045)</td>\n",
       "      <td>0.616 (0.046)</td>\n",
       "    </tr>\n",
       "    <tr>\n",
       "      <th>4</th>\n",
       "      <td>Misdemeanor</td>\n",
       "      <td>0.573 (0.015)</td>\n",
       "      <td>0.635 (0.023)</td>\n",
       "      <td>0.611 (0.028)</td>\n",
       "      <td>0.58 (0.017)</td>\n",
       "      <td>0.062</td>\n",
       "      <td>0.551 (0.026)</td>\n",
       "      <td>0.546 (0.028)</td>\n",
       "    </tr>\n",
       "  </tbody>\n",
       "</table>\n",
       "</div>"
      ],
      "text/plain": [
       "    Unnamed: 0           CART            EBM   Lasso Stumps       RiskSLIM  \\\n",
       "0      General  0.625 (0.019)  0.661 (0.022)  0.658 (0.013)  0.645 (0.018)   \n",
       "1      Violent  0.619 (0.035)  0.675 (0.022)  0.681 (0.041)  0.664 (0.041)   \n",
       "2     Property  0.699 (0.034)  0.734 (0.033)  0.739 (0.052)  0.694 (0.035)   \n",
       "3       Felony  0.623 (0.036)  0.652 (0.043)  0.653 (0.033)  0.603 (0.039)   \n",
       "4  Misdemeanor  0.573 (0.015)  0.635 (0.023)  0.611 (0.028)   0.58 (0.017)   \n",
       "\n",
       "   Performance Range Arnold PSA Raw     Arnold PSA  \n",
       "0              0.036  0.611 (0.045)  0.605 (0.043)  \n",
       "1              0.062  0.649 (0.029)              -  \n",
       "2              0.045  0.657 (0.058)  0.657 (0.058)  \n",
       "3              0.050   0.62 (0.045)  0.616 (0.046)  \n",
       "4              0.062  0.551 (0.026)  0.546 (0.028)  "
      ]
     },
     "execution_count": 4,
     "metadata": {},
     "output_type": "execute_result"
    }
   ],
   "source": [
    "result"
   ]
  },
  {
   "cell_type": "code",
   "execution_count": 5,
   "metadata": {
    "hideCode": false,
    "hidePrompt": false
   },
   "outputs": [],
   "source": [
    "cols = result.columns.to_list()\n",
    "values = result.values.tolist()"
   ]
  },
  {
   "cell_type": "code",
   "execution_count": 6,
   "metadata": {
    "hideCode": false,
    "hideOutput": true,
    "hidePrompt": false
   },
   "outputs": [
    {
     "name": "stdout",
     "output_type": "stream",
     "text": [
      "\\begin{array}{l | l | l | l | l | r | l | l} \\hline\n",
      "    General     & \\verb|0.625 (0.019)| & \\verb|0.661 (0.022)| & \\verb|0.658 (0.013)| & \\verb|0.645 (0.018)| & 0.03600 & \\verb|0.611 (0.045)| & \\verb|0.605 (0.043)| \\\\ \\hline\n",
      "    Violent     & \\verb|0.619 (0.035)| & \\verb|0.675 (0.022)| & \\verb|0.681 (0.041)| & \\verb|0.664 (0.041)| & 0.06200 & \\verb|0.649 (0.029)| & \\verb|-            | \\\\ \\hline\n",
      "    Property    & \\verb|0.699 (0.034)| & \\verb|0.734 (0.033)| & \\verb|0.739 (0.052)| & \\verb|0.694 (0.035)| & 0.04500 & \\verb|0.657 (0.058)| & \\verb|0.657 (0.058)| \\\\ \\hline\n",
      "    Felony      & \\verb|0.623 (0.036)| & \\verb|0.652 (0.043)| & \\verb|0.653 (0.033)| & \\verb|0.603 (0.039)| & 0.05000 & \\verb|0.62 (0.045) | & \\verb|0.616 (0.046)| \\\\ \\hline\n",
      "    Misdemeanor & \\verb|0.573 (0.015)| & \\verb|0.635 (0.023)| & \\verb|0.611 (0.028)| & \\verb|0.58 (0.017) | & 0.06200 & \\verb|0.551 (0.026)| & \\verb|0.546 (0.028)| \\\\ \\hline\n",
      "\\end{array}\n"
     ]
    }
   ],
   "source": [
    "writer = pytablewriter.LatexTableWriter()\n",
    "writer.value_matrix = values\n",
    "writer.write_table()"
   ]
  }
 ],
 "metadata": {
  "hide_code_all_hidden": false,
  "kernelspec": {
   "display_name": "Python 3",
   "language": "python",
   "name": "python3"
  },
  "language_info": {
   "codemirror_mode": {
    "name": "ipython",
    "version": 3
   },
   "file_extension": ".py",
   "mimetype": "text/x-python",
   "name": "python",
   "nbconvert_exporter": "python",
   "pygments_lexer": "ipython3",
   "version": "3.7.4"
  }
 },
 "nbformat": 4,
 "nbformat_minor": 4
}
