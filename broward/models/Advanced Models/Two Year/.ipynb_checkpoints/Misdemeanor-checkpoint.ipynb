{
 "cells": [
  {
   "cell_type": "code",
   "execution_count": 1,
   "metadata": {},
   "outputs": [],
   "source": [
    "import os \n",
    "os.chdir('../../../../')\n",
    "print(\"Current working directory is now: \", os.getcwd())\n",
    "\n",
    "import pandas as pd \n",
    "import numpy as np\n",
    "import csv\n",
    "import utils.baseline_functions as base\n",
    "#import advanced_functions as advance\n",
    "import stumps\n",
    "from sklearn.model_selection import KFold, GridSearchCV\n",
    "from sklearn.metrics import roc_curve, auc"
   ]
  },
  {
   "cell_type": "code",
   "execution_count": 2,
   "metadata": {},
   "outputs": [],
   "source": [
    "data = pd.read_csv(\"~/Documents/Duke/Cynthia Research/KY-analysis-mytrials/broward/data/broward_data.csv\")\n",
    "x = data.loc[:,:'five_year']\n",
    "y = data['recid_M2'].values"
   ]
  },
  {
   "cell_type": "markdown",
   "metadata": {},
   "source": [
    "### CART & EBM"
   ]
  },
  {
   "cell_type": "code",
   "execution_count": null,
   "metadata": {},
   "outputs": [],
   "source": [
    "#### CART\n",
    "depth = [1,2]\n",
    "impurity = [0.001, 0.003]\n",
    "split = [2,3,4]\n",
    "cart_summary = base.CART(X=x,\n",
    "                         Y=y,\n",
    "                         depth=depth,\n",
    "                         split=split,\n",
    "                         impurity=impurity, \n",
    "                         seed = 816)\n",
    "\n",
    "#### GAM\n",
    "estimators = [5]\n",
    "depth = [1]\n",
    "learning_rate = [0.01]\n",
    "holdout_split = [0.9]\n",
    "gam_summary = base.EBM(X=x,\n",
    "                       Y=y,\n",
    "                       learning_rate = learning_rate,\n",
    "                       depth = depth,\n",
    "                       estimators=estimators,\n",
    "                       holdout_split=holdout_split,\n",
    "                       seed=816)"
   ]
  },
  {
   "cell_type": "markdown",
   "metadata": {},
   "source": [
    "### Lasso Stumps"
   ]
  },
  {
   "cell_type": "code",
   "execution_count": 9,
   "metadata": {},
   "outputs": [],
   "source": [
    "## load stumps data\n",
    "data = pd.read_csv(\"~/Documents/Duke/Cynthia Research/KY-analysis-mytrials/broward/data/broward_stumps.csv\")\n",
    "#data = data.drop(['person_id', 'screening_date'], axis=1)\n",
    "X_stumps, Y_stumps = data.loc[:,:'five_year>=1'], data['recid_M2'].values\n",
    "Y_stumps[Y_stumps == -1] = 0\n",
    "cols = X_stumps.columns"
   ]
  },
  {
   "cell_type": "code",
   "execution_count": 10,
   "metadata": {},
   "outputs": [
    {
     "data": {
      "text/plain": [
       "Index(['sex>=1', 'p_current_age>=18', 'p_current_age>=19', 'p_current_age>=23',\n",
       "       'p_current_age>=27', 'p_current_age>=29', 'p_current_age>=30',\n",
       "       'p_current_age>=31', 'p_current_age>=33', 'p_current_age>=37',\n",
       "       ...\n",
       "       'years_since_last_crime>=2.5', 'years_since_last_crime>=3',\n",
       "       'years_since_last_crime>=3.5', 'years_since_last_crime>=4',\n",
       "       'years_since_last_crime>=4.5', 'years_since_last_crime>=5',\n",
       "       'six_month>=1', 'one_year>=1', 'three_year>=1', 'five_year>=1'],\n",
       "      dtype='object', length=158)"
      ]
     },
     "execution_count": 10,
     "metadata": {},
     "output_type": "execute_result"
    }
   ],
   "source": [
    "cols"
   ]
  },
  {
   "cell_type": "code",
   "execution_count": 18,
   "metadata": {},
   "outputs": [],
   "source": [
    "### stumps model\n",
    "alpha = [0.02]\n",
    "Stump = stumps.stump_features(X_stumps, Y_stumps, cols, alpha, 816)"
   ]
  },
  {
   "cell_type": "code",
   "execution_count": 19,
   "metadata": {},
   "outputs": [
    {
     "data": {
      "text/plain": [
       "(0.6070020312997194, 0.6068149358247921, 0.018015725820237027)"
      ]
     },
     "execution_count": 19,
     "metadata": {},
     "output_type": "execute_result"
    }
   ],
   "source": [
    "np.mean(Stump['test_auc']), np.mean(Stump['train_auc']), Stump['auc_diff']"
   ]
  },
  {
   "cell_type": "code",
   "execution_count": 20,
   "metadata": {
    "scrolled": true
   },
   "outputs": [
    {
     "name": "stdout",
     "output_type": "stream",
     "text": [
      "+-----------------------------------+----------------+\n",
      "| Features                          | Score          |\n",
      "|====================================================|\n",
      "| p_current_age>=27                 | -0.004         |\n",
      "| p_current_age>=29                 | -0.002         |\n",
      "| p_current_age>=30                 | -0.031         |\n",
      "| years_since_last_crime>=1         | -0.002         |\n",
      "| years_since_last_crime>=1.5       | -0.023         |\n",
      "| Intercept                         | 0.3            |\n",
      "|====================================================|\n",
      "| ADD POINTS FROM ROWS 1 TO 5      | Total Score    |\n",
      "+-----------------------------------+----------------+\n"
     ]
    }
   ],
   "source": [
    "stumps.stump_table(Stump['coefs'], Stump['features'], Stump['intercept'], Stump['dictionary'])"
   ]
  },
  {
   "cell_type": "code",
   "execution_count": 22,
   "metadata": {
    "scrolled": true
   },
   "outputs": [
    {
     "data": {
      "image/png": "[encoded data removed]",
      "text/plain": [
       "<Figure size 288x216 with 1 Axes>"
      ]
     },
     "metadata": {
      "needs_background": "light"
     },
     "output_type": "display_data"
    },
    {
     "data": {
      "image/png": "[encoded data removed]",
      "text/plain": [
       "<Figure size 288x216 with 1 Axes>"
      ]
     },
     "metadata": {
      "needs_background": "light"
     },
     "output_type": "display_data"
    }
   ],
   "source": [
    "stumps.stump_plots(Stump['features'], Stump['coefs'])"
   ]
  },
  {
   "cell_type": "markdown",
   "metadata": {},
   "source": [
    "### Arnold PSA"
   ]
  },
  {
   "cell_type": "code",
   "execution_count": 23,
   "metadata": {},
   "outputs": [],
   "source": [
    "### load data\n",
    "data = pd.read_csv(\"~/Documents/Duke/Cynthia Research/KY-analysis-mytrials/broward/data/broward_arnold.csv\")\n",
    "X_arnold_raw = data['arnold_nca_raw'].values\n",
    "X_arnold_calc = data['arnold_nca'].values\n",
    "Y_arnold = data['recid_M2'].values"
   ]
  },
  {
   "cell_type": "code",
   "execution_count": 24,
   "metadata": {},
   "outputs": [],
   "source": [
    "## set up cross validation\n",
    "cv = KFold(n_splits=5,shuffle=True,random_state=816)\n",
    "raw_auc = []\n",
    "calc_auc = []\n",
    "\n",
    "## raw score\n",
    "i = 1\n",
    "for train, test in cv.split(X_arnold_raw, Y_arnold):\n",
    "    y_pred_raw, y_pred_calc, y_test = X_arnold_raw[test], X_arnold_calc[test], Y_arnold[test]\n",
    "    raw_fpr, raw_tpr, raw_thresholds = roc_curve(y_test, y_pred_raw)\n",
    "    calc_fpr, calc_tpr, calc_thresholds = roc_curve(y_test, y_pred_calc)\n",
    "    raw_auc.append(auc(raw_fpr, raw_tpr))\n",
    "    calc_auc.append(auc(calc_fpr, calc_tpr))\n",
    "    i+=1 "
   ]
  },
  {
   "cell_type": "markdown",
   "metadata": {},
   "source": [
    "### Results"
   ]
  },
  {
   "cell_type": "code",
   "execution_count": 23,
   "metadata": {},
   "outputs": [],
   "source": [
    "results = [[\"EBM\", ebm_summary['best_validation_auc'], ebm_summary['best_validation_std'], ebm_summary['best_param']], \n",
    "           ['Lasso Stumps', round(np.mean(Stump['test_auc']),3), round(np.std(Stump['test_auc']),3)], \n",
    "           ['Arnold PSA Raw', round(np.mean(raw_auc), 3), round(np.std(raw_auc), 3)], \n",
    "           ['Arnold PSA', round(np.mean(calc_auc), 3), round(np.std(calc_auc), 3)]]"
   ]
  },
  {
   "cell_type": "code",
   "execution_count": 24,
   "metadata": {},
   "outputs": [
    {
     "data": {
      "text/plain": [
       "[['AdaBoost',\n",
       "  0.6438730033461224,\n",
       "  0.018642382119523626,\n",
       "  {'learning_rate': 0.05, 'n_estimators': 10}],\n",
       " ['EBM',\n",
       "  0.6596007200011168,\n",
       "  0.02375994427912098,\n",
       "  {'holdout_split': 0.9,\n",
       "   'learning_rate': 0.03,\n",
       "   'max_tree_splits': 1,\n",
       "   'n_estimators': 40}],\n",
       " ['Lasso Stumps', 0.674, 0.007],\n",
       " ['Arnold PSA Raw', 0.611, 0.045],\n",
       " ['Arnold PSA', 0.605, 0.043]]"
      ]
     },
     "execution_count": 24,
     "metadata": {},
     "output_type": "execute_result"
    }
   ],
   "source": [
    "results"
   ]
  },
  {
   "cell_type": "code",
   "execution_count": 41,
   "metadata": {},
   "outputs": [],
   "source": [
    "path = \"C:/Users/binha/Documents/Duke/Cynthia Research/KY-analysis-mytrials/broward/broward models/model results/Advanced Models/Two Year/\"\n",
    "results = [[\"Misdemeanor\", round(ebm_summary['best_validation_auc'],3), round(ebm_summary['best_validation_std'], 3), round(np.mean(Stump['test_auc']),3), round(np.std(Stump['test_auc']),3), round(np.mean(raw_auc), 3), round(np.std(raw_auc), 3), round(np.mean(calc_auc), 3), round(np.std(calc_auc), 3)]]\n",
    "with open(path + 'Advanced Models Summary.csv', 'a') as writeFile:\n",
    "    writer = csv.writer(writeFile)\n",
    "    writer.writerows(results)"
   ]
  }
 ],
 "metadata": {
  "kernelspec": {
   "display_name": "Python 3",
   "language": "python",
   "name": "python3"
  },
  "language_info": {
   "codemirror_mode": {
    "name": "ipython",
    "version": 3
   },
   "file_extension": ".py",
   "mimetype": "text/x-python",
   "name": "python",
   "nbconvert_exporter": "python",
   "pygments_lexer": "ipython3",
   "version": "3.7.4"
  }
 },
 "nbformat": 4,
 "nbformat_minor": 4
}
