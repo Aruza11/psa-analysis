{
 "cells": [
  {
   "cell_type": "code",
   "execution_count": 1,
   "metadata": {},
   "outputs": [
    {
     "name": "stdout",
     "output_type": "stream",
     "text": [
      "Current working directory is now:  C:\\Users\\Caroline Wang\\OneDrive\\Duke\\Criminal Recidivism\\psa-analysis\n"
     ]
    },
    {
     "name": "stderr",
     "output_type": "stream",
     "text": [
      "C:\\Users\\Caroline Wang\\Anaconda3\\lib\\site-packages\\sklearn\\ensemble\\weight_boosting.py:29: DeprecationWarning: numpy.core.umath_tests is an internal NumPy module and should not be imported. It will be removed in a future NumPy release.\n",
      "  from numpy.core.umath_tests import inner1d\n"
     ]
    }
   ],
   "source": [
    "import os \n",
    "os.chdir('../../../../')\n",
    "print(\"Current working directory is now: \", os.getcwd())\n",
    "\n",
    "import pandas as pd \n",
    "import numpy as np\n",
    "import csv\n",
    "import utils.baseline_functions as base\n",
    "\n",
    "# restore saved variables \n",
    "# %store -r summary_felony_two_year"
   ]
  },
  {
   "cell_type": "markdown",
   "metadata": {},
   "source": [
    "## Get Baseline Results"
   ]
  },
  {
   "cell_type": "code",
   "execution_count": 2,
   "metadata": {},
   "outputs": [],
   "source": [
    "### train data\n",
    "data = pd.read_csv(\"broward/data/broward_data.csv\")\n",
    "x = data.loc[:,:'five_year']\n",
    "y = data['recid_F2'].values"
   ]
  },
  {
   "cell_type": "code",
   "execution_count": 4,
   "metadata": {},
   "outputs": [
    {
     "name": "stdout",
     "output_type": "stream",
     "text": [
      "model_id, score_thresholds 1 {'rank_abs': [114]}\n",
      "get_disparity_predefined_group()\n",
      "model_id, score_thresholds 1 {'rank_abs': [125]}\n",
      "get_disparity_predefined_group()\n",
      "model_id, score_thresholds 1 {'rank_abs': [101]}\n",
      "get_disparity_predefined_group()\n",
      "model_id, score_thresholds 1 {'rank_abs': [136]}\n",
      "get_disparity_predefined_group()\n",
      "model_id, score_thresholds 1 {'rank_abs': [130]}\n",
      "get_disparity_predefined_group()\n",
      "model_id, score_thresholds 1 {'rank_abs': [116]}\n",
      "get_disparity_predefined_group()\n",
      "model_id, score_thresholds 1 {'rank_abs': [109]}\n",
      "get_disparity_predefined_group()\n",
      "model_id, score_thresholds 1 {'rank_abs': [109]}\n",
      "get_disparity_predefined_group()\n",
      "model_id, score_thresholds 1 {'rank_abs': [139]}\n",
      "get_disparity_predefined_group()\n",
      "model_id, score_thresholds 1 {'rank_abs': [142]}\n",
      "get_disparity_predefined_group()\n",
      "model_id, score_thresholds 1 {'rank_abs': [0]}\n",
      "get_disparity_predefined_group()\n",
      "model_id, score_thresholds 1 {'rank_abs': [3]}\n",
      "get_disparity_predefined_group()\n",
      "model_id, score_thresholds 1 {'rank_abs': [1]}\n",
      "get_disparity_predefined_group()\n",
      "model_id, score_thresholds 1 {'rank_abs': [4]}\n",
      "get_disparity_predefined_group()\n",
      "model_id, score_thresholds 1 {'rank_abs': [0]}\n",
      "get_disparity_predefined_group()\n",
      "model_id, score_thresholds 1 {'rank_abs': [0]}\n",
      "get_disparity_predefined_group()\n",
      "model_id, score_thresholds 1 {'rank_abs': [12]}\n",
      "get_disparity_predefined_group()\n",
      "model_id, score_thresholds 1 {'rank_abs': [1]}\n",
      "get_disparity_predefined_group()\n",
      "model_id, score_thresholds 1 {'rank_abs': [0]}\n",
      "get_disparity_predefined_group()\n",
      "model_id, score_thresholds 1 {'rank_abs': [4]}\n",
      "get_disparity_predefined_group()\n",
      "model_id, score_thresholds 1 {'rank_abs': [0]}\n",
      "get_disparity_predefined_group()\n",
      "model_id, score_thresholds 1 {'rank_abs': [0]}\n",
      "get_disparity_predefined_group()\n",
      "model_id, score_thresholds 1 {'rank_abs': [0]}\n",
      "get_disparity_predefined_group()\n",
      "model_id, score_thresholds 1 {'rank_abs': [0]}\n",
      "get_disparity_predefined_group()\n",
      "model_id, score_thresholds 1 {'rank_abs': [0]}\n",
      "get_disparity_predefined_group()\n"
     ]
    },
    {
     "name": "stderr",
     "output_type": "stream",
     "text": [
      "C:\\Users\\Caroline Wang\\Anaconda3\\lib\\site-packages\\sklearn\\preprocessing\\label.py:151: DeprecationWarning: The truth value of an empty array is ambiguous. Returning False, but in future this will result in an error. Use `array.size > 0` to check that an array is not empty.\n",
      "  if diff:\n"
     ]
    },
    {
     "name": "stdout",
     "output_type": "stream",
     "text": [
      "model_id, score_thresholds 1 {'rank_abs': [0]}\n",
      "get_disparity_predefined_group()\n"
     ]
    },
    {
     "name": "stderr",
     "output_type": "stream",
     "text": [
      "C:\\Users\\Caroline Wang\\Anaconda3\\lib\\site-packages\\sklearn\\preprocessing\\label.py:151: DeprecationWarning: The truth value of an empty array is ambiguous. Returning False, but in future this will result in an error. Use `array.size > 0` to check that an array is not empty.\n",
      "  if diff:\n"
     ]
    },
    {
     "name": "stdout",
     "output_type": "stream",
     "text": [
      "model_id, score_thresholds 1 {'rank_abs': [0]}\n",
      "get_disparity_predefined_group()\n"
     ]
    },
    {
     "name": "stderr",
     "output_type": "stream",
     "text": [
      "C:\\Users\\Caroline Wang\\Anaconda3\\lib\\site-packages\\sklearn\\preprocessing\\label.py:151: DeprecationWarning: The truth value of an empty array is ambiguous. Returning False, but in future this will result in an error. Use `array.size > 0` to check that an array is not empty.\n",
      "  if diff:\n"
     ]
    },
    {
     "name": "stdout",
     "output_type": "stream",
     "text": [
      "model_id, score_thresholds 1 {'rank_abs': [0]}\n",
      "get_disparity_predefined_group()\n"
     ]
    },
    {
     "name": "stderr",
     "output_type": "stream",
     "text": [
      "C:\\Users\\Caroline Wang\\Anaconda3\\lib\\site-packages\\sklearn\\preprocessing\\label.py:151: DeprecationWarning: The truth value of an empty array is ambiguous. Returning False, but in future this will result in an error. Use `array.size > 0` to check that an array is not empty.\n",
      "  if diff:\n"
     ]
    },
    {
     "name": "stdout",
     "output_type": "stream",
     "text": [
      "model_id, score_thresholds 1 {'rank_abs': [0]}\n",
      "get_disparity_predefined_group()\n"
     ]
    },
    {
     "name": "stderr",
     "output_type": "stream",
     "text": [
      "C:\\Users\\Caroline Wang\\Anaconda3\\lib\\site-packages\\sklearn\\preprocessing\\label.py:151: DeprecationWarning: The truth value of an empty array is ambiguous. Returning False, but in future this will result in an error. Use `array.size > 0` to check that an array is not empty.\n",
      "  if diff:\n"
     ]
    },
    {
     "name": "stdout",
     "output_type": "stream",
     "text": [
      "model_id, score_thresholds 1 {'rank_abs': [0]}\n",
      "get_disparity_predefined_group()\n",
      "Stored 'summary_felony_two_year' (dict)\n"
     ]
    }
   ],
   "source": [
    "#### Logistic\n",
    "c = [1e-5, 1e-4, 1e-3, 1e-2]\n",
    "logistic_summary = base.Logistic(X=x,\n",
    "                                 Y=y, \n",
    "                                 C=c,\n",
    "                                 seed=816)\n",
    "\n",
    "#### Lasso\n",
    "c = [1e-2, 0.1, 1]\n",
    "lasso_summary = base.Lasso(X=x,\n",
    "                           Y=y,\n",
    "                           C=c,\n",
    "                           seed=816)\n",
    "\n",
    "#### LinearSVM\n",
    "c = [1e-5, 1e-4, 1e-3]\n",
    "svm_summary = base.LinearSVM(X=x,\n",
    "                             Y=y,\n",
    "                             C=c,\n",
    "                             seed=816)\n",
    "\n",
    "#### CART\n",
    "depth = [1,2]\n",
    "impurity = [0.001, 0.003]\n",
    "split = [2,3,4]\n",
    "cart_summary = base.CART(X=x,\n",
    "                         Y=y,\n",
    "                         depth=depth,\n",
    "                         split=split,\n",
    "                         impurity=impurity, \n",
    "                         seed=816)\n",
    "\n",
    "#### Random Forest\n",
    "n_estimators =  [10,30]\n",
    "depth = [1]\n",
    "impurity = [0.003, 0.005]\n",
    "rf_summary = base.RF(X=x,\n",
    "                     Y=y, \n",
    "                     depth=depth, \n",
    "                     estimators=n_estimators, \n",
    "                     impurity=impurity,\n",
    "                     seed=816)\n",
    "\n",
    "#### XGBoost\n",
    "learning_rate = [0.05,0.07]\n",
    "depth = [2,3]\n",
    "n_estimators = [20]\n",
    "gamma = [12,14,16]\n",
    "child_weight = [12,14,16]\n",
    "subsample = [0.3, 0.5]\n",
    "xgb_summary = base.XGB(X=x,\n",
    "                       Y=y,\n",
    "                       learning_rate=learning_rate, \n",
    "                       depth=depth, \n",
    "                       estimators=n_estimators,\n",
    "                       gamma=gamma, \n",
    "                       child_weight=child_weight, \n",
    "                       subsample=subsample, \n",
    "                       seed=816)\n",
    "#### save results \n",
    "summary_felony_two_year = {\"Logistic\": logistic_summary,\n",
    "                         \"Lasso\": lasso_summary,\n",
    "                         \"LinearSVM\": svm_summary,\n",
    "                         \"CART\": cart_summary, \n",
    "                         \"RF\": rf_summary,\n",
    "                         \"XGBoost\": xgb_summary\n",
    "                        }\n",
    "\n",
    "%store summary_felony_two_year"
   ]
  },
  {
   "cell_type": "code",
   "execution_count": 6,
   "metadata": {},
   "outputs": [
    {
     "data": {
      "text/plain": [
       "[['Logistic', 0.653452540047807, 0.016207763938814356],\n",
       " ['Lasso', 0.6443898451034308, 0.01973603738375267],\n",
       " ['LinearSVM', 0.6281970641740509, 0.03599819545085605],\n",
       " ['CART', 0.6233096227887536, 0.03520361431333039],\n",
       " ['RF', 0.6217729221129905, 0.030551002224270474],\n",
       " ['XGBoost', 0.6259200792663778, 0.016383245022810744]]"
      ]
     },
     "execution_count": 6,
     "metadata": {},
     "output_type": "execute_result"
    }
   ],
   "source": [
    "results = [[model_name, np.mean(model_summary[\"holdout_test_auc\"]), np.mean(model_summary[\"auc_diffs\"])] \\\n",
    "           for model_name, model_summary in summary_felony_two_year.items()]\n",
    "results"
   ]
  },
  {
   "cell_type": "code",
   "execution_count": 7,
   "metadata": {},
   "outputs": [
    {
     "data": {
      "text/plain": [
       "[['Logistic',\n",
       "  [{'C': 0.0001}, {'C': 0.001}, {'C': 0.0001}, {'C': 0.001}, {'C': 0.001}]],\n",
       " ['Lasso', [{'C': 0.01}, {'C': 0.01}, {'C': 0.01}, {'C': 0.1}, {'C': 0.1}]],\n",
       " ['LinearSVM',\n",
       "  [{'C': 0.0001}, {'C': 0.001}, {'C': 0.001}, {'C': 0.001}, {'C': 0.001}]],\n",
       " ['CART',\n",
       "  [{'max_depth': 2, 'min_impurity_decrease': 0.001, 'min_samples_split': 2},\n",
       "   {'max_depth': 2, 'min_impurity_decrease': 0.001, 'min_samples_split': 2},\n",
       "   {'max_depth': 2, 'min_impurity_decrease': 0.001, 'min_samples_split': 2},\n",
       "   {'max_depth': 2, 'min_impurity_decrease': 0.003, 'min_samples_split': 2},\n",
       "   {'max_depth': 2, 'min_impurity_decrease': 0.001, 'min_samples_split': 2}]],\n",
       " ['RF',\n",
       "  [{'max_depth': 1, 'min_impurity_decrease': 0.003, 'n_estimators': 30},\n",
       "   {'max_depth': 1, 'min_impurity_decrease': 0.003, 'n_estimators': 30},\n",
       "   {'max_depth': 1, 'min_impurity_decrease': 0.003, 'n_estimators': 30},\n",
       "   {'max_depth': 1, 'min_impurity_decrease': 0.003, 'n_estimators': 30},\n",
       "   {'max_depth': 1, 'min_impurity_decrease': 0.003, 'n_estimators': 30}]],\n",
       " ['XGBoost',\n",
       "  [{'gamma': 16,\n",
       "    'learning_rate': 0.05,\n",
       "    'max_depth': 2,\n",
       "    'min_child_weight': 12,\n",
       "    'n_estimators': 20,\n",
       "    'subsample': 0.5},\n",
       "   {'gamma': 12,\n",
       "    'learning_rate': 0.07,\n",
       "    'max_depth': 2,\n",
       "    'min_child_weight': 12,\n",
       "    'n_estimators': 20,\n",
       "    'subsample': 0.3},\n",
       "   {'gamma': 12,\n",
       "    'learning_rate': 0.05,\n",
       "    'max_depth': 2,\n",
       "    'min_child_weight': 16,\n",
       "    'n_estimators': 20,\n",
       "    'subsample': 0.5},\n",
       "   {'gamma': 12,\n",
       "    'learning_rate': 0.07,\n",
       "    'max_depth': 2,\n",
       "    'min_child_weight': 16,\n",
       "    'n_estimators': 20,\n",
       "    'subsample': 0.5},\n",
       "   {'gamma': 12,\n",
       "    'learning_rate': 0.07,\n",
       "    'max_depth': 2,\n",
       "    'min_child_weight': 12,\n",
       "    'n_estimators': 20,\n",
       "    'subsample': 0.5}]]]"
      ]
     },
     "execution_count": 7,
     "metadata": {},
     "output_type": "execute_result"
    }
   ],
   "source": [
    "params = [[model_name, model_summary['best_param']] for model_name, model_summary in summary_felony_two_year.items()]\n",
    "params"
   ]
  },
  {
   "cell_type": "code",
   "execution_count": 34,
   "metadata": {},
   "outputs": [],
   "source": [
    "path = \"C:\\\\Users\\\\binha\\\\Documents\\\\Duke\\\\Cynthia Research\\\\KY-analysis-mytrials\\\\broward\\\\broward models\\\\model results\\\\Baselines\\\\Two Year\\\\\"\n",
    "results = [[\"Felony\", np.str((round(np.mean(logistic_summary['holdout_test_auc']), 3))) + \" (\" + np.str(round(np.std(logistic_summary['holdout_test_auc']), 3)) + \")\", \n",
    "            np.str(round(np.mean(lasso_summary['holdout_test_auc']),3)) + \" (\" + np.str(round(np.std(lasso_summary['holdout_test_auc']), 3)) + \")\", \n",
    "            np.str(round(np.mean(svm_summary['holdout_test_auc']),3)) + \" (\" + np.str(round(np.std(svm_summary['holdout_test_auc']), 3)) + \")\", \n",
    "            np.str(round(np.mean(cart_summary['holdout_test_auc']),3)) + \" (\" + np.str(round(np.std(cart_summary['holdout_test_auc']), 3)) + \")\", \n",
    "            np.str(round(np.mean(rf_summary['holdout_test_auc']),3)) + \" (\" + np.str(round(np.std(rf_summary['holdout_test_auc']), 3)) + \")\", \n",
    "            np.str(round(np.mean(xgb_summary['holdout_test_auc']),3)) + \" (\" + np.str(round(np.std(xgb_summary['holdout_test_auc']), 3)) + \")\"]]\n",
    "with open(path + 'Two Year Baseline Summary.csv', 'a') as writeFile:\n",
    "    writer = csv.writer(writeFile)\n",
    "    writer.writerows(results)"
   ]
  },
  {
   "cell_type": "markdown",
   "metadata": {},
   "source": [
    "## Plotting Fairness"
   ]
  }
 ],
 "metadata": {
  "kernelspec": {
   "display_name": "Python 3",
   "language": "python",
   "name": "python3"
  },
  "language_info": {
   "codemirror_mode": {
    "name": "ipython",
    "version": 3
   },
   "file_extension": ".py",
   "mimetype": "text/x-python",
   "name": "python",
   "nbconvert_exporter": "python",
   "pygments_lexer": "ipython3",
   "version": "3.6.5"
  }
 },
 "nbformat": 4,
 "nbformat_minor": 4
}
