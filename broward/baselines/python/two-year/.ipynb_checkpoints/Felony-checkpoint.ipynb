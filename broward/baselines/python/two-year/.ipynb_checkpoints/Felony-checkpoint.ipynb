{
 "cells": [
  {
   "cell_type": "code",
   "execution_count": 1,
   "metadata": {},
   "outputs": [
    {
     "name": "stdout",
     "output_type": "stream",
     "text": [
      "Current working directory is now:  C:\\Users\\binha\\Documents\\Duke\\Cynthia Research\\psa-analysis - test\n"
     ]
    },
    {
     "name": "stderr",
     "output_type": "stream",
     "text": [
      "C:\\Users\\binha\\Anaconda3\\lib\\site-packages\\sklearn\\externals\\six.py:31: DeprecationWarning:\n",
      "\n",
      "The module is deprecated in version 0.21 and will be removed in version 0.23 since we've dropped support for Python 2.7. Please rely on the official version of six (https://pypi.org/project/six/).\n",
      "\n"
     ]
    }
   ],
   "source": [
    "import os \n",
    "os.chdir('../../../../')\n",
    "print(\"Current working directory is now: \", os.getcwd())\n",
    "\n",
    "import pandas as pd \n",
    "import numpy as np\n",
    "import csv\n",
    "import utils.baseline_functions as base\n",
    "\n",
    "# restore saved variables\n",
    "%store -r summary_F_two_year_broward"
   ]
  },
  {
   "cell_type": "code",
   "execution_count": 2,
   "metadata": {},
   "outputs": [],
   "source": [
    "### train data\n",
    "data = pd.read_csv(\"~/Documents/Duke/Cynthia Research/KY-analysis-mytrials/broward/data/broward_data.csv\")\n",
    "x = data.loc[:,:'five_year']\n",
    "y = data['recid_F2'].values"
   ]
  },
  {
   "cell_type": "code",
   "execution_count": 3,
   "metadata": {
    "collapsed": true,
    "jupyter": {
     "outputs_hidden": true
    }
   },
   "outputs": [
    {
     "name": "stdout",
     "output_type": "stream",
     "text": [
      "model_id, score_thresholds 0 {'rank_abs': [114]}\n",
      "get_disparity_predefined_group()\n",
      "model_id, score_thresholds 0 {'rank_abs': [125]}\n",
      "get_disparity_predefined_group()\n",
      "model_id, score_thresholds 0 {'rank_abs': [101]}\n",
      "get_disparity_predefined_group()\n",
      "model_id, score_thresholds 0 {'rank_abs': [136]}\n",
      "get_disparity_predefined_group()\n",
      "model_id, score_thresholds 0 {'rank_abs': [130]}\n",
      "get_disparity_predefined_group()\n",
      "model_id, score_thresholds 0 {'rank_abs': [116]}\n",
      "get_disparity_predefined_group()\n",
      "model_id, score_thresholds 0 {'rank_abs': [109]}\n",
      "get_disparity_predefined_group()\n",
      "model_id, score_thresholds 0 {'rank_abs': [109]}\n",
      "get_disparity_predefined_group()\n",
      "model_id, score_thresholds 0 {'rank_abs': [136]}\n",
      "get_disparity_predefined_group()\n",
      "model_id, score_thresholds 0 {'rank_abs': [117]}\n",
      "get_disparity_predefined_group()\n",
      "model_id, score_thresholds 0 {'rank_abs': [0]}\n",
      "get_disparity_predefined_group()\n",
      "model_id, score_thresholds 0 {'rank_abs': [3]}\n",
      "get_disparity_predefined_group()\n",
      "model_id, score_thresholds 0 {'rank_abs': [1]}\n",
      "get_disparity_predefined_group()\n",
      "model_id, score_thresholds 0 {'rank_abs': [4]}\n",
      "get_disparity_predefined_group()\n",
      "model_id, score_thresholds 0 {'rank_abs': [1]}\n",
      "get_disparity_predefined_group()\n",
      "model_id, score_thresholds 0 {'rank_abs': [0]}\n",
      "get_disparity_predefined_group()\n",
      "model_id, score_thresholds 0 {'rank_abs': [1]}\n",
      "get_disparity_predefined_group()\n",
      "model_id, score_thresholds 0 {'rank_abs': [1]}\n",
      "get_disparity_predefined_group()\n",
      "model_id, score_thresholds 0 {'rank_abs': [3]}\n",
      "get_disparity_predefined_group()\n",
      "model_id, score_thresholds 0 {'rank_abs': [1]}\n",
      "get_disparity_predefined_group()\n",
      "model_id, score_thresholds 0 {'rank_abs': [0]}\n",
      "get_disparity_predefined_group()\n",
      "model_id, score_thresholds 0 {'rank_abs': [0]}\n",
      "get_disparity_predefined_group()\n",
      "model_id, score_thresholds 0 {'rank_abs': [0]}\n",
      "get_disparity_predefined_group()\n",
      "model_id, score_thresholds 0 {'rank_abs': [0]}\n",
      "get_disparity_predefined_group()\n",
      "model_id, score_thresholds 0 {'rank_abs': [0]}\n",
      "get_disparity_predefined_group()\n",
      "Stored 'summary' (dict)\n"
     ]
    }
   ],
   "source": [
    "#### Logistic\n",
    "c = [1e-5, 1e-4, 1e-3, 1e-2]\n",
    "logistic_summary = base.Logistic(X=x,\n",
    "                                 Y=y, \n",
    "                                 C=c,\n",
    "                                 seed=816)\n",
    "\n",
    "#### Lasso\n",
    "c = [1e-5, 1e-4, 1e-3, 1e-2]\n",
    "lasso_summary = base.Lasso(X=x,\n",
    "                           Y=y,\n",
    "                           C=c,\n",
    "                           seed=816)\n",
    "\n",
    "#### LinearSVM\n",
    "c = [1e-5, 1e-4, 1e-3, 1e-2]\n",
    "svm_summary = base.LinearSVM(X=x,\n",
    "                             Y=y,\n",
    "                             C=c,\n",
    "                             seed=816)\n",
    "\n",
    "#### Random Forest\n",
    "n_estimators =  [60,80,100]\n",
    "depth = [1,2,3]\n",
    "impurity = [0.001, 0.003, 0.005]\n",
    "rf_summary = base.RF(X=x,\n",
    "                     Y=y, \n",
    "                     depth=depth, \n",
    "                     estimators=n_estimators, \n",
    "                     impurity=impurity,\n",
    "                     seed=816)\n",
    "\n",
    "#### XGBoost\n",
    "learning_rate = [0.05,0.07]\n",
    "depth = [2,3]\n",
    "n_estimators = [20, 40, 60]\n",
    "gamma = [8,10,12]\n",
    "child_weight = [8,10,12]\n",
    "subsample = [0.3, 0.5]\n",
    "xgb_summary = base.XGB(X=x,\n",
    "                       Y=y,\n",
    "                       learning_rate=learning_rate, \n",
    "                       depth=depth, \n",
    "                       estimators=n_estimators,\n",
    "                       gamma=gamma, \n",
    "                       child_weight=child_weight, \n",
    "                       subsample=subsample, \n",
    "                       seed=816)\n",
    "\n",
    "#### save results\n",
    "summary_F_two_year_broward = {\"Logistic\": logistic_summary,\n",
    "           \"Lasso\": lasso_summary,\n",
    "           \"LinearSVM\": svm_summary,\n",
    "           \"RF\": rf_summary,\n",
    "           \"XGBoost\": xgb_summary}\n",
    "%store summary_F_two_year_broward"
   ]
  },
  {
   "cell_type": "code",
   "execution_count": 14,
   "metadata": {},
   "outputs": [
    {
     "data": {
      "text/plain": [
       "[['Logistic', 0.653452540047807, 0.016207763938814422],\n",
       " ['Lasso', 0.6485790719242365, 0.009289025467629487],\n",
       " ['LinearSVM', 0.62544551379734, 0.03872393976144153],\n",
       " ['RF', 0.6438866862739173, 0.06615077073862127],\n",
       " ['XGBoost', 0.6557341244180718, 0.04171895953549869]]"
      ]
     },
     "execution_count": 14,
     "metadata": {},
     "output_type": "execute_result"
    }
   ],
   "source": [
    "results = []\n",
    "auc = [] ## for table writing -- the performance range \n",
    "\n",
    "for model_name, model_summary in summary_F_two_year_broward.items():\n",
    "    results.append([model_name, np.mean(model_summary['holdout_test_auc']), np.mean(model_summary['auc_diffs'])])\n",
    "    auc.append(np.mean(model_summary['holdout_test_auc']))\n",
    "    \n",
    "results"
   ]
  },
  {
   "cell_type": "code",
   "execution_count": 15,
   "metadata": {},
   "outputs": [
    {
     "data": {
      "text/plain": [
       "[['Logistic',\n",
       "  [{'C': 0.0001}, {'C': 0.001}, {'C': 0.0001}, {'C': 0.001}, {'C': 0.001}]],\n",
       " ['Lasso', [{'C': 0.01}, {'C': 0.01}, {'C': 0.01}, {'C': 0.01}, {'C': 0.01}]],\n",
       " ['LinearSVM',\n",
       "  [{'C': 0.0001}, {'C': 0.001}, {'C': 0.001}, {'C': 0.001}, {'C': 0.01}]],\n",
       " ['RF',\n",
       "  [{'max_depth': 2, 'min_impurity_decrease': 0.001, 'n_estimators': 80},\n",
       "   {'max_depth': 3, 'min_impurity_decrease': 0.001, 'n_estimators': 80},\n",
       "   {'max_depth': 3, 'min_impurity_decrease': 0.001, 'n_estimators': 80},\n",
       "   {'max_depth': 3, 'min_impurity_decrease': 0.001, 'n_estimators': 80},\n",
       "   {'max_depth': 3, 'min_impurity_decrease': 0.001, 'n_estimators': 80}]],\n",
       " ['XGBoost',\n",
       "  [{'gamma': 8,\n",
       "    'learning_rate': 0.05,\n",
       "    'max_depth': 2,\n",
       "    'min_child_weight': 8,\n",
       "    'n_estimators': 60,\n",
       "    'subsample': 0.5},\n",
       "   {'gamma': 8,\n",
       "    'learning_rate': 0.07,\n",
       "    'max_depth': 2,\n",
       "    'min_child_weight': 8,\n",
       "    'n_estimators': 60,\n",
       "    'subsample': 0.5},\n",
       "   {'gamma': 8,\n",
       "    'learning_rate': 0.05,\n",
       "    'max_depth': 3,\n",
       "    'min_child_weight': 10,\n",
       "    'n_estimators': 60,\n",
       "    'subsample': 0.5},\n",
       "   {'gamma': 8,\n",
       "    'learning_rate': 0.05,\n",
       "    'max_depth': 3,\n",
       "    'min_child_weight': 8,\n",
       "    'n_estimators': 60,\n",
       "    'subsample': 0.3},\n",
       "   {'gamma': 8,\n",
       "    'learning_rate': 0.07,\n",
       "    'max_depth': 3,\n",
       "    'min_child_weight': 10,\n",
       "    'n_estimators': 60,\n",
       "    'subsample': 0.5}]]]"
      ]
     },
     "execution_count": 15,
     "metadata": {},
     "output_type": "execute_result"
    }
   ],
   "source": [
    "params = [[model_name, model_summary['best_param']] for model_name, model_summary in summary_F_two_year_broward.items()]\n",
    "params"
   ]
  },
  {
   "cell_type": "code",
   "execution_count": 16,
   "metadata": {},
   "outputs": [],
   "source": [
    "path = \"C:\\\\Users\\\\binha\\\\Documents\\\\Duke\\\\Cynthia Research\\\\KY-analysis-mytrials\\\\broward\\\\broward models\\\\model results\\\\Baselines\\\\Two Year\\\\\"\n",
    "results = [[\"Felony\", np.str((round(np.mean(logistic_summary['holdout_test_auc']), 3))) + \" (\" + np.str(round(np.std(logistic_summary['holdout_test_auc']), 3)) + \")\", \n",
    "            np.str(round(np.mean(lasso_summary['holdout_test_auc']),3)) + \" (\" + np.str(round(np.std(lasso_summary['holdout_test_auc']), 3)) + \")\", \n",
    "            np.str(round(np.mean(svm_summary['holdout_test_auc']),3)) + \" (\" + np.str(round(np.std(svm_summary['holdout_test_auc']), 3)) + \")\", \n",
    "            np.str(round(np.mean(rf_summary['holdout_test_auc']),3)) + \" (\" + np.str(round(np.std(rf_summary['holdout_test_auc']), 3)) + \")\", \n",
    "            np.str(round(np.mean(xgb_summary['holdout_test_auc']),3)) + \" (\" + np.str(round(np.std(xgb_summary['holdout_test_auc']), 3)) + \")\", \n",
    "            round(np.max(auc) - np.min(auc), 3)]]\n",
    "with open(path + 'Two Year Baseline Summary.csv', 'a') as writeFile:\n",
    "    writer = csv.writer(writeFile)\n",
    "    writer.writerows(results)"
   ]
  }
 ],
 "metadata": {
  "kernelspec": {
   "display_name": "Python 3",
   "language": "python",
   "name": "python3"
  },
  "language_info": {
   "codemirror_mode": {
    "name": "ipython",
    "version": 3
   },
   "file_extension": ".py",
   "mimetype": "text/x-python",
   "name": "python",
   "nbconvert_exporter": "python",
   "pygments_lexer": "ipython3",
   "version": "3.7.4"
  }
 },
 "nbformat": 4,
 "nbformat_minor": 4
}
