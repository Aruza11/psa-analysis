{
 "cells": [
  {
   "cell_type": "code",
   "execution_count": 1,
   "metadata": {
    "hideCode": false,
    "hidePrompt": false
   },
   "outputs": [],
   "source": [
    "import pytablewriter\n",
    "import pandas as pd\n",
    "import numpy as np"
   ]
  },
  {
   "cell_type": "code",
   "execution_count": 2,
   "metadata": {
    "hideCode": false,
    "hidePrompt": false
   },
   "outputs": [],
   "source": [
    "result = pd.read_csv(\"C:\\\\Users\\\\binha\\\\Documents\\\\Duke\\\\Cynthia Research\\\\KY-analysis-mytrials\\\\broward\\\\broward models\\\\model results\\\\Baselines\\\\Two Year\\\\Two Year Baseline Summary.csv\")"
   ]
  },
  {
   "cell_type": "code",
   "execution_count": 3,
   "metadata": {
    "hideCode": false,
    "hidePrompt": false
   },
   "outputs": [
    {
     "data": {
      "text/html": [
       "<div>\n",
       "<style scoped>\n",
       "    .dataframe tbody tr th:only-of-type {\n",
       "        vertical-align: middle;\n",
       "    }\n",
       "\n",
       "    .dataframe tbody tr th {\n",
       "        vertical-align: top;\n",
       "    }\n",
       "\n",
       "    .dataframe thead th {\n",
       "        text-align: right;\n",
       "    }\n",
       "</style>\n",
       "<table border=\"1\" class=\"dataframe\">\n",
       "  <thead>\n",
       "    <tr style=\"text-align: right;\">\n",
       "      <th></th>\n",
       "      <th>Unnamed: 0</th>\n",
       "      <th>Logistic</th>\n",
       "      <th>Lasso</th>\n",
       "      <th>Linear SVM</th>\n",
       "      <th>Random Forest</th>\n",
       "      <th>XGBoost</th>\n",
       "      <th>Performance Range</th>\n",
       "    </tr>\n",
       "  </thead>\n",
       "  <tbody>\n",
       "    <tr>\n",
       "      <th>0</th>\n",
       "      <td>General</td>\n",
       "      <td>0.668 (0.02)</td>\n",
       "      <td>0.659 (0.013)</td>\n",
       "      <td>0.667 (0.019)</td>\n",
       "      <td>0.661 (0.018)</td>\n",
       "      <td>0.66 (0.017)</td>\n",
       "      <td>0.009</td>\n",
       "    </tr>\n",
       "    <tr>\n",
       "      <th>1</th>\n",
       "      <td>Violent</td>\n",
       "      <td>0.689 (0.012)</td>\n",
       "      <td>0.677 (0.022)</td>\n",
       "      <td>0.679 (0.012)</td>\n",
       "      <td>0.661 (0.027)</td>\n",
       "      <td>0.685 (0.015)</td>\n",
       "      <td>0.028</td>\n",
       "    </tr>\n",
       "    <tr>\n",
       "      <th>2</th>\n",
       "      <td>Drug</td>\n",
       "      <td>0.696 (0.037)</td>\n",
       "      <td>0.708 (0.021)</td>\n",
       "      <td>0.69 (0.047)</td>\n",
       "      <td>0.689 (0.019)</td>\n",
       "      <td>0.702 (0.015)</td>\n",
       "      <td>0.019</td>\n",
       "    </tr>\n",
       "    <tr>\n",
       "      <th>3</th>\n",
       "      <td>Property</td>\n",
       "      <td>0.731 (0.021)</td>\n",
       "      <td>0.733 (0.027)</td>\n",
       "      <td>0.726 (0.016)</td>\n",
       "      <td>0.712 (0.04)</td>\n",
       "      <td>0.727 (0.026)</td>\n",
       "      <td>0.021</td>\n",
       "    </tr>\n",
       "    <tr>\n",
       "      <th>4</th>\n",
       "      <td>Felony</td>\n",
       "      <td>0.653 (0.04)</td>\n",
       "      <td>0.649 (0.04)</td>\n",
       "      <td>0.625 (0.034)</td>\n",
       "      <td>0.644 (0.043)</td>\n",
       "      <td>0.656 (0.04)</td>\n",
       "      <td>0.030</td>\n",
       "    </tr>\n",
       "    <tr>\n",
       "      <th>5</th>\n",
       "      <td>Misdemeanor</td>\n",
       "      <td>0.632 (0.034)</td>\n",
       "      <td>0.624 (0.03)</td>\n",
       "      <td>0.635 (0.025)</td>\n",
       "      <td>0.627 (0.019)</td>\n",
       "      <td>0.627 (0.011)</td>\n",
       "      <td>0.011</td>\n",
       "    </tr>\n",
       "  </tbody>\n",
       "</table>\n",
       "</div>"
      ],
      "text/plain": [
       "    Unnamed: 0       Logistic          Lasso     Linear SVM  Random Forest  \\\n",
       "0      General   0.668 (0.02)  0.659 (0.013)  0.667 (0.019)  0.661 (0.018)   \n",
       "1      Violent  0.689 (0.012)  0.677 (0.022)  0.679 (0.012)  0.661 (0.027)   \n",
       "2         Drug  0.696 (0.037)  0.708 (0.021)   0.69 (0.047)  0.689 (0.019)   \n",
       "3     Property  0.731 (0.021)  0.733 (0.027)  0.726 (0.016)   0.712 (0.04)   \n",
       "4       Felony   0.653 (0.04)   0.649 (0.04)  0.625 (0.034)  0.644 (0.043)   \n",
       "5  Misdemeanor  0.632 (0.034)   0.624 (0.03)  0.635 (0.025)  0.627 (0.019)   \n",
       "\n",
       "         XGBoost  Performance Range  \n",
       "0   0.66 (0.017)              0.009  \n",
       "1  0.685 (0.015)              0.028  \n",
       "2  0.702 (0.015)              0.019  \n",
       "3  0.727 (0.026)              0.021  \n",
       "4   0.656 (0.04)              0.030  \n",
       "5  0.627 (0.011)              0.011  "
      ]
     },
     "execution_count": 3,
     "metadata": {},
     "output_type": "execute_result"
    }
   ],
   "source": [
    "result"
   ]
  },
  {
   "cell_type": "code",
   "execution_count": 4,
   "metadata": {
    "hideCode": false,
    "hidePrompt": false
   },
   "outputs": [],
   "source": [
    "cols = result.columns.to_list()\n",
    "values = result.values.tolist()"
   ]
  },
  {
   "cell_type": "code",
   "execution_count": 5,
   "metadata": {
    "hideCode": false,
    "hideOutput": true,
    "hidePrompt": false
   },
   "outputs": [
    {
     "name": "stdout",
     "output_type": "stream",
     "text": [
      "\\begin{array}{l | l | l | l | l | l | r} \\hline\n",
      "    General     & \\verb|0.668 (0.02) | & \\verb|0.659 (0.013)| & \\verb|0.667 (0.019)| & \\verb|0.661 (0.018)| & \\verb|0.66 (0.017) | &  0.00900 \\\\ \\hline\n",
      "    Violent     & \\verb|0.689 (0.012)| & \\verb|0.677 (0.022)| & \\verb|0.679 (0.012)| & \\verb|0.661 (0.027)| & \\verb|0.685 (0.015)| &  0.02800 \\\\ \\hline\n",
      "    Drug        & \\verb|0.696 (0.037)| & \\verb|0.708 (0.021)| & \\verb|0.69 (0.047) | & \\verb|0.689 (0.019)| & \\verb|0.702 (0.015)| &  0.01900 \\\\ \\hline\n",
      "    Property    & \\verb|0.731 (0.021)| & \\verb|0.733 (0.027)| & \\verb|0.726 (0.016)| & \\verb|0.712 (0.04) | & \\verb|0.727 (0.026)| &  0.02100 \\\\ \\hline\n",
      "    Felony      & \\verb|0.653 (0.04) | & \\verb|0.649 (0.04) | & \\verb|0.625 (0.034)| & \\verb|0.644 (0.043)| & \\verb|0.656 (0.04) | &  0.03000 \\\\ \\hline\n",
      "    Misdemeanor & \\verb|0.632 (0.034)| & \\verb|0.624 (0.03) | & \\verb|0.635 (0.025)| & \\verb|0.627 (0.019)| & \\verb|0.627 (0.011)| &  0.01100 \\\\ \\hline\n",
      "\\end{array}\n"
     ]
    }
   ],
   "source": [
    "writer = pytablewriter.LatexTableWriter()\n",
    "writer.value_matrix = values\n",
    "writer.write_table()"
   ]
  }
 ],
 "metadata": {
  "hide_code_all_hidden": false,
  "kernelspec": {
   "display_name": "Python 3",
   "language": "python",
   "name": "python3"
  },
  "language_info": {
   "codemirror_mode": {
    "name": "ipython",
    "version": 3
   },
   "file_extension": ".py",
   "mimetype": "text/x-python",
   "name": "python",
   "nbconvert_exporter": "python",
   "pygments_lexer": "ipython3",
   "version": "3.7.4"
  }
 },
 "nbformat": 4,
 "nbformat_minor": 4
}
