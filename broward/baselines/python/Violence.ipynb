{
 "cells": [
  {
   "cell_type": "code",
   "execution_count": 1,
   "metadata": {},
   "outputs": [],
   "source": [
    "import pandas as pd \n",
    "import numpy as np\n",
    "import csv\n",
    "import baseline_functions as base"
   ]
  },
  {
   "cell_type": "code",
   "execution_count": 2,
   "metadata": {},
   "outputs": [],
   "source": [
    "### load data\n",
    "data = pd.read_csv(\"~/Documents/Duke/Cynthia Research/KY-analysis-mytrials/broward/data/broward_data.csv\")\n",
    "data = data.drop(['person_id', 'screening_date'], axis=1)\n",
    "X = data.loc[:,:'five_year'].values\n",
    "Y = data['recid_violent'].values"
   ]
  },
  {
   "cell_type": "code",
   "execution_count": 3,
   "metadata": {},
   "outputs": [],
   "source": [
    "#### Logistic\n",
    "c = [1e-5, 1e-4, 1e-3]\n",
    "logistic_train, logistic_test = base.Logistic(X,Y,c,816)\n",
    "\n",
    "#### Lasso\n",
    "alpha = [0.01, 0.1, 1]\n",
    "lasso_train, lasso_test = base.Lasso(X,Y,alpha,816)\n",
    "\n",
    "#### LinearSVM\n",
    "c = [1e-5, 1e-4]\n",
    "svm_train, svm_test = base.LinearSVM(X,Y,c,816)\n",
    "\n",
    "#### CART\n",
    "depth = [1,2,3]\n",
    "impurity = [0.007, 0.009]\n",
    "split = [2,3,4]\n",
    "cart_train, cart_test = base.CART(X,Y,depth,split, impurity, 816)\n",
    "\n",
    "#### Random Forest\n",
    "n_estimators =  [20,30]\n",
    "depth = [1]\n",
    "impurity = [0.01, 0.013, 0.015]\n",
    "rf_train, rf_test = base.RF(X,Y, depth, n_estimators, impurity,816)\n",
    "\n",
    "#### XGBoost\n",
    "learning_rate = [0.05,0.07]\n",
    "depth = [2,3]\n",
    "n_estimators = [20]\n",
    "gamma = [12,14,16]\n",
    "child_weight = [12,14,16]\n",
    "subsample = [0.3, 0.5]\n",
    "xgb_train, xgb_test = base.XGB(X,Y,learning_rate, depth, n_estimators,gamma, child_weight, subsample, 816)"
   ]
  },
  {
   "cell_type": "code",
   "execution_count": 7,
   "metadata": {},
   "outputs": [],
   "source": [
    "results = [[\"Logistic\", np.mean(logistic_train) - np.mean(logistic_test), np.mean(logistic_test)],\n",
    "           [\"Lasso\", np.mean(lasso_train) - np.mean(lasso_test), np.mean(lasso_test)],\n",
    "           [\"SVM\", np.mean(svm_train) - np.mean(svm_test), np.mean(svm_test)],\n",
    "           [\"CART\", np.mean(cart_train) - np.mean(cart_test), np.mean(cart_test)],\n",
    "           [\"RF\", np.mean(rf_train) - np.mean(rf_test), np.mean(rf_test)],\n",
    "           [\"XGBoost\", np.mean(xgb_train) - np.mean(xgb_test), np.mean(xgb_test)]]"
   ]
  },
  {
   "cell_type": "code",
   "execution_count": 8,
   "metadata": {},
   "outputs": [
    {
     "data": {
      "text/plain": [
       "[['Logistic', 0.016726539609654978, 0.6806861434390965],\n",
       " ['Lasso', 0.017898869893201663, 0.6843008064086986],\n",
       " ['SVM', 0.013384710287307477, 0.6679492982038564],\n",
       " ['CART', 0.02574893751177576, 0.5687459124822258],\n",
       " ['RF', 0.01751728292453325, 0.6232892577383531],\n",
       " ['XGBoost', 0.021343299983535235, 0.6550707362165311]]"
      ]
     },
     "execution_count": 8,
     "metadata": {},
     "output_type": "execute_result"
    }
   ],
   "source": [
    "results"
   ]
  },
  {
   "cell_type": "code",
   "execution_count": 10,
   "metadata": {},
   "outputs": [],
   "source": [
    "path = \"C:\\\\Users\\\\binha\\\\Documents\\\\Duke\\\\Cynthia Research\\\\KY-analysis-mytrials\\\\broward\\\\broward models\\\\Baseline Model Results\\\\\"\n",
    "results = [[\"Violence\", round(np.mean(logistic_test),3), round(np.std(logistic_test), 3), round(np.mean(lasso_test),3), round(np.std(lasso_test), 3), round(np.mean(svm_test),3), round(np.std(svm_test), 3), round(np.mean(cart_test),3), round(np.std(cart_test), 3), round(np.mean(rf_test),3), round(np.std(rf_test), 3), round(np.mean(xgb_test),3), round(np.std(xgb_test), 3)]]\n",
    "with open(path + 'Baseline Summary.csv', 'a') as writeFile:\n",
    "    writer = csv.writer(writeFile)\n",
    "    writer.writerows(results)"
   ]
  }
 ],
 "metadata": {
  "kernelspec": {
   "display_name": "Python 3",
   "language": "python",
   "name": "python3"
  },
  "language_info": {
   "codemirror_mode": {
    "name": "ipython",
    "version": 3
   },
   "file_extension": ".py",
   "mimetype": "text/x-python",
   "name": "python",
   "nbconvert_exporter": "python",
   "pygments_lexer": "ipython3",
   "version": "3.7.0"
  }
 },
 "nbformat": 4,
 "nbformat_minor": 2
}
