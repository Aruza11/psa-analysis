{
 "cells": [
  {
   "cell_type": "code",
   "execution_count": 1,
   "metadata": {
    "hideCode": false,
    "hidePrompt": false
   },
   "outputs": [],
   "source": [
    "import pytablewriter\n",
    "import pandas as pd\n",
    "import numpy as np"
   ]
  },
  {
   "cell_type": "code",
   "execution_count": 2,
   "metadata": {
    "hideCode": false,
    "hidePrompt": false
   },
   "outputs": [],
   "source": [
    "result = pd.read_csv(\"C:\\\\Users\\\\binha\\\\Documents\\\\Duke\\\\Cynthia Research\\\\KY-analysis-mytrials\\\\broward\\\\broward models\\\\model results\\\\Baselines\\\\Six Month\\\\Six Month Baseline Summary.csv\")"
   ]
  },
  {
   "cell_type": "code",
   "execution_count": 3,
   "metadata": {
    "hideCode": false,
    "hidePrompt": false
   },
   "outputs": [
    {
     "data": {
      "text/html": [
       "<div>\n",
       "<style scoped>\n",
       "    .dataframe tbody tr th:only-of-type {\n",
       "        vertical-align: middle;\n",
       "    }\n",
       "\n",
       "    .dataframe tbody tr th {\n",
       "        vertical-align: top;\n",
       "    }\n",
       "\n",
       "    .dataframe thead th {\n",
       "        text-align: right;\n",
       "    }\n",
       "</style>\n",
       "<table border=\"1\" class=\"dataframe\">\n",
       "  <thead>\n",
       "    <tr style=\"text-align: right;\">\n",
       "      <th></th>\n",
       "      <th>Unnamed: 0</th>\n",
       "      <th>Logistic</th>\n",
       "      <th>Lasso</th>\n",
       "      <th>Linear SVM</th>\n",
       "      <th>Random Forest</th>\n",
       "      <th>XGBoost</th>\n",
       "      <th>Performance Range</th>\n",
       "    </tr>\n",
       "  </thead>\n",
       "  <tbody>\n",
       "    <tr>\n",
       "      <th>0</th>\n",
       "      <td>General</td>\n",
       "      <td>0.628 (0.03)</td>\n",
       "      <td>0.624 (0.028)</td>\n",
       "      <td>0.621 (0.013)</td>\n",
       "      <td>0.619 (0.015)</td>\n",
       "      <td>0.619 (0.017)</td>\n",
       "      <td>0.009</td>\n",
       "    </tr>\n",
       "    <tr>\n",
       "      <th>1</th>\n",
       "      <td>Violent</td>\n",
       "      <td>0.68 (0.033)</td>\n",
       "      <td>0.68 (0.037)</td>\n",
       "      <td>0.653 (0.043)</td>\n",
       "      <td>0.676 (0.04)</td>\n",
       "      <td>0.678 (0.025)</td>\n",
       "      <td>0.027</td>\n",
       "    </tr>\n",
       "    <tr>\n",
       "      <th>2</th>\n",
       "      <td>Drug</td>\n",
       "      <td>0.661 (0.087)</td>\n",
       "      <td>0.667 (0.056)</td>\n",
       "      <td>0.633 (0.069)</td>\n",
       "      <td>0.645 (0.068)</td>\n",
       "      <td>0.661 (0.054)</td>\n",
       "      <td>0.034</td>\n",
       "    </tr>\n",
       "    <tr>\n",
       "      <th>3</th>\n",
       "      <td>Property</td>\n",
       "      <td>0.725 (0.044)</td>\n",
       "      <td>0.731 (0.041)</td>\n",
       "      <td>0.69 (0.048)</td>\n",
       "      <td>0.684 (0.07)</td>\n",
       "      <td>0.704 (0.062)</td>\n",
       "      <td>0.047</td>\n",
       "    </tr>\n",
       "    <tr>\n",
       "      <th>4</th>\n",
       "      <td>Felony</td>\n",
       "      <td>0.621 (0.037)</td>\n",
       "      <td>0.632 (0.023)</td>\n",
       "      <td>0.583 (0.018)</td>\n",
       "      <td>0.614 (0.028)</td>\n",
       "      <td>0.609 (0.049)</td>\n",
       "      <td>0.048</td>\n",
       "    </tr>\n",
       "    <tr>\n",
       "      <th>5</th>\n",
       "      <td>Misdemeanor</td>\n",
       "      <td>0.609 (0.038)</td>\n",
       "      <td>0.613 (0.044)</td>\n",
       "      <td>0.611 (0.011)</td>\n",
       "      <td>0.595 (0.038)</td>\n",
       "      <td>0.582 (0.029)</td>\n",
       "      <td>0.031</td>\n",
       "    </tr>\n",
       "  </tbody>\n",
       "</table>\n",
       "</div>"
      ],
      "text/plain": [
       "    Unnamed: 0       Logistic          Lasso     Linear SVM  Random Forest  \\\n",
       "0      General   0.628 (0.03)  0.624 (0.028)  0.621 (0.013)  0.619 (0.015)   \n",
       "1      Violent   0.68 (0.033)   0.68 (0.037)  0.653 (0.043)   0.676 (0.04)   \n",
       "2         Drug  0.661 (0.087)  0.667 (0.056)  0.633 (0.069)  0.645 (0.068)   \n",
       "3     Property  0.725 (0.044)  0.731 (0.041)   0.69 (0.048)   0.684 (0.07)   \n",
       "4       Felony  0.621 (0.037)  0.632 (0.023)  0.583 (0.018)  0.614 (0.028)   \n",
       "5  Misdemeanor  0.609 (0.038)  0.613 (0.044)  0.611 (0.011)  0.595 (0.038)   \n",
       "\n",
       "         XGBoost  Performance Range  \n",
       "0  0.619 (0.017)              0.009  \n",
       "1  0.678 (0.025)              0.027  \n",
       "2  0.661 (0.054)              0.034  \n",
       "3  0.704 (0.062)              0.047  \n",
       "4  0.609 (0.049)              0.048  \n",
       "5  0.582 (0.029)              0.031  "
      ]
     },
     "execution_count": 3,
     "metadata": {},
     "output_type": "execute_result"
    }
   ],
   "source": [
    "result"
   ]
  },
  {
   "cell_type": "code",
   "execution_count": 4,
   "metadata": {
    "hideCode": false,
    "hidePrompt": false
   },
   "outputs": [],
   "source": [
    "cols = result.columns.to_list()\n",
    "values = result.values.tolist()"
   ]
  },
  {
   "cell_type": "code",
   "execution_count": 5,
   "metadata": {
    "hideCode": false,
    "hideOutput": true,
    "hidePrompt": false
   },
   "outputs": [
    {
     "name": "stdout",
     "output_type": "stream",
     "text": [
      "\\begin{array}{l | l | l | l | l | l | r} \\hline\n",
      "    General     & \\verb|0.628 (0.03) | & \\verb|0.624 (0.028)| & \\verb|0.621 (0.013)| & \\verb|0.619 (0.015)| & \\verb|0.619 (0.017)| &  0.00900 \\\\ \\hline\n",
      "    Violent     & \\verb|0.68 (0.033) | & \\verb|0.68 (0.037) | & \\verb|0.653 (0.043)| & \\verb|0.676 (0.04) | & \\verb|0.678 (0.025)| &  0.02700 \\\\ \\hline\n",
      "    Drug        & \\verb|0.661 (0.087)| & \\verb|0.667 (0.056)| & \\verb|0.633 (0.069)| & \\verb|0.645 (0.068)| & \\verb|0.661 (0.054)| &  0.03400 \\\\ \\hline\n",
      "    Property    & \\verb|0.725 (0.044)| & \\verb|0.731 (0.041)| & \\verb|0.69 (0.048) | & \\verb|0.684 (0.07) | & \\verb|0.704 (0.062)| &  0.04700 \\\\ \\hline\n",
      "    Felony      & \\verb|0.621 (0.037)| & \\verb|0.632 (0.023)| & \\verb|0.583 (0.018)| & \\verb|0.614 (0.028)| & \\verb|0.609 (0.049)| &  0.04800 \\\\ \\hline\n",
      "    Misdemeanor & \\verb|0.609 (0.038)| & \\verb|0.613 (0.044)| & \\verb|0.611 (0.011)| & \\verb|0.595 (0.038)| & \\verb|0.582 (0.029)| &  0.03100 \\\\ \\hline\n",
      "\\end{array}\n"
     ]
    }
   ],
   "source": [
    "writer = pytablewriter.LatexTableWriter()\n",
    "writer.value_matrix = values\n",
    "writer.write_table()"
   ]
  }
 ],
 "metadata": {
  "hide_code_all_hidden": false,
  "kernelspec": {
   "display_name": "Python 3",
   "language": "python",
   "name": "python3"
  },
  "language_info": {
   "codemirror_mode": {
    "name": "ipython",
    "version": 3
   },
   "file_extension": ".py",
   "mimetype": "text/x-python",
   "name": "python",
   "nbconvert_exporter": "python",
   "pygments_lexer": "ipython3",
   "version": "3.7.4"
  }
 },
 "nbformat": 4,
 "nbformat_minor": 4
}
