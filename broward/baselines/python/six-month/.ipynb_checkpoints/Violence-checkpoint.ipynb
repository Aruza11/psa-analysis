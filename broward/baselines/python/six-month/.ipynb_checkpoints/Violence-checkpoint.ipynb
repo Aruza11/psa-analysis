{
 "cells": [
  {
   "cell_type": "code",
   "execution_count": 79,
   "metadata": {},
   "outputs": [],
   "source": [
    "import os \n",
    "os.chdir('../../../../')\n",
    "print(os.getcwd())\n",
    "\n",
    "import pandas as pd \n",
    "import numpy as np\n",
    "import csv\n",
    "import broward.baselines.python.baseline_functions as base"
   ]
  },
  {
   "cell_type": "code",
   "execution_count": 2,
   "metadata": {},
   "outputs": [],
   "source": [
    "### train data\n",
    "train_data = pd.read_csv(\"broward/data/broward_train.csv\")\n",
    "train_X = train_data.loc[:,:'five_year']\n",
    "train_Y = train_data['recid_violent6']\n",
    "\n",
    "### test data\n",
    "test_data = pd.read_csv(\"broward/data/broward_test.csv\")\n",
    "test_X = test_data.loc[:,:'five_year']\n",
    "test_Y = test_data['recid_violent6']"
   ]
  },
  {
   "cell_type": "code",
   "execution_count": null,
   "metadata": {},
   "outputs": [],
   "source": [
    "#### Logistic\n",
    "c = [1e-5]\n",
    "logistic_summary = base.Logistic(train_X, train_Y, test_X, test_Y, c,816)\n",
    "\n",
    "#### Lasso\n",
    "alpha = [0.01]\n",
    "lasso_summary = base.Lasso(train_X, train_Y, test_X, test_Y,alpha,816)\n",
    "\n",
    "#### LinearSVM\n",
    "c = [5e-5]\n",
    "svm_summary = base.LinearSVM(train_X, train_Y, test_X, test_Y,c,816)\n",
    "\n",
    "#### CART\n",
    "depth = [1]\n",
    "impurity = [0.004]\n",
    "split = [2,3,4]\n",
    "cart_summary = base.CART(train_X, train_Y, test_X, test_Y,depth,split, impurity, 816)\n",
    "\n",
    "#### Random Forest\n",
    "n_estimators =  [20,40,60,80]\n",
    "depth = [1]\n",
    "impurity = [0.003]\n",
    "rf_summary = base.RF(train_X, train_Y, test_X, test_Y, depth, n_estimators, impurity,816)\n",
    "\n",
    "#### XGBoost\n",
    "learning_rate = [0.05]\n",
    "depth = [1]\n",
    "n_estimators = [20]\n",
    "gamma = [2,4,6]\n",
    "child_weight = [2,4,6]\n",
    "subsample = [0.3, 0.5]\n",
    "xgb_summary = base.XGB(train_X, train_Y, test_X, test_Y,learning_rate, depth, n_estimators,gamma, child_weight, subsample, 816)"
   ]
  },
  {
   "cell_type": "code",
   "execution_count": 7,
   "metadata": {},
   "outputs": [],
   "source": [
    "results = [[\"Logistic\", logistic_summary['best_validation_auc'], logistic_summary['best_validation_auc_diff'], logistic_summary['best_param']],\n",
    "           [\"Lasso\", lasso_summary['best_validation_auc'], lasso_summary['best_validation_auc_diff'], lasso_summary['best_param']],\n",
    "           [\"LinearSVM\", svm_summary['best_validation_auc'], svm_summary['best_validation_auc_diff'], svm_summary['best_param']],\n",
    "           [\"CART\", cart_summary['best_validation_auc'], cart_summary['best_validation_auc_diff'], cart_summary['best_param']],\n",
    "           [\"RF\", rf_summary['best_validation_auc'], rf_summary['best_validation_auc_diff'], rf_summary['best_param']],\n",
    "           [\"XGBoost\", xgb_summary['best_validation_auc'], xgb_summary['best_validation_auc_diff'], xgb_summary['best_param']]]"
   ]
  },
  {
   "cell_type": "code",
   "execution_count": 8,
   "metadata": {},
   "outputs": [
    {
     "data": {
      "text/plain": [
       "[['Logistic', 0.6614746768019618, 0.011377324404064693, {'C': 0.001}],\n",
       " ['Lasso', 0.6549675472938596, 0.02305068856439374, {'alpha': 0.01}],\n",
       " ['LinearSVM', 0.660909065394619, 0.011403899367495973, {'C': 0.0001}],\n",
       " ['CART',\n",
       "  0.6032644173165788,\n",
       "  0.021635960336564564,\n",
       "  {'max_depth': 2, 'min_impurity_decrease': 0.007, 'min_samples_split': 2}],\n",
       " ['RF',\n",
       "  0.6451308051050336,\n",
       "  0.021481710522960884,\n",
       "  {'max_depth': 1, 'min_impurity_decrease': 0.01, 'n_estimators': 50}],\n",
       " ['XGBoost',\n",
       "  0.6512014814269436,\n",
       "  0.029307127832094215,\n",
       "  {'gamma': 12,\n",
       "   'learning_rate': 0.05,\n",
       "   'max_depth': 3,\n",
       "   'min_child_weight': 14,\n",
       "   'n_estimators': 20,\n",
       "   'subsample': 0.5}]]"
      ]
     },
     "execution_count": 8,
     "metadata": {},
     "output_type": "execute_result"
    }
   ],
   "source": [
    "results"
   ]
  },
  {
   "cell_type": "code",
   "execution_count": 168,
   "metadata": {},
   "outputs": [],
   "source": [
    "path = \"C:\\\\Users\\\\binha\\\\Documents\\\\Duke\\\\Cynthia Research\\\\KY-analysis-mytrials\\\\broward\\\\broward models\\\\model results\\\\Baselines\\\\Six Month\\\\\"\n",
    "results = [[\"\", \"Logistic\", \"STD\", \"Lasso\", \"STD\", \"Linear SVM\", \"STD\", \"CART\", \"STD\", \"Random Forest\", \"STD\", \"XGBoost\", \"STD\"],\n",
    "           [\"Violent\", round(logistic_summary['best_validation_auc'],3), round(logistic_summary['best_validation_std'], 3), \n",
    "            round(lasso_summary['best_validation_auc'],3), round(lasso_summary['best_validation_std'], 3), \n",
    "            round(svm_summary['best_validation_auc'],3), round(lasso_summary['best_validation_std'], 3), \n",
    "            round(cart_summary['best_validation_auc'],3), round(cart_summary['best_validation_std'], 3), \n",
    "            round(rf_summary['best_validation_auc'],3), round(rf_summary['best_validation_std'], 3), \n",
    "            round(xgb_summary['best_validation_auc'],3), round(xgb_summary['best_validation_std'], 3)]]\n",
    "with open(path + 'Six Month Baseline Summary.csv', 'a') as writeFile:\n",
    "    writer = csv.writer(writeFile)\n",
    "    writer.writerows(results)"
   ]
  }
 ],
 "metadata": {
  "kernelspec": {
   "display_name": "Python 3",
   "language": "python",
   "name": "python3"
  },
  "language_info": {
   "codemirror_mode": {
    "name": "ipython",
    "version": 3
   },
   "file_extension": ".py",
   "mimetype": "text/x-python",
   "name": "python",
   "nbconvert_exporter": "python",
   "pygments_lexer": "ipython3",
   "version": "3.6.5"
  }
 },
 "nbformat": 4,
 "nbformat_minor": 2
}
