{
 "cells": [
  {
   "cell_type": "code",
   "execution_count": 1,
   "metadata": {},
   "outputs": [
    {
     "name": "stdout",
     "output_type": "stream",
     "text": [
      "Current working directory is now:  C:\\Users\\Feroze\\Google Drive\\DUKE 2016-2020\\psa-analysis\n"
     ]
    }
   ],
   "source": [
    "import os \n",
    "os.chdir('../../../../')\n",
    "print(\"Current working directory is now: \", os.getcwd())\n",
    "\n",
    "import pandas as pd \n",
    "import numpy as np\n",
    "import csv\n",
    "import utils.baseline_functions as base\n",
    "\n",
    "# restore saved variables\n",
    "%store -r summary_drug_six_month_broward"
   ]
  },
  {
   "cell_type": "code",
   "execution_count": 2,
   "metadata": {},
   "outputs": [],
   "source": [
    "### train data\n",
    "data = pd.read_csv(\"broward/data/broward_data.csv\")\n",
    "x = data.loc[:,:'five_year']\n",
    "y = data['recid_drug6'].values"
   ]
  },
  {
   "cell_type": "code",
   "execution_count": 3,
   "metadata": {},
   "outputs": [
    {
     "name": "stdout",
     "output_type": "stream",
     "text": [
      "model_id, score_thresholds 1 {'rank_abs': [81]}\n",
      "get_disparity_predefined_group()\n"
     ]
    },
    {
     "name": "stderr",
     "output_type": "stream",
     "text": [
      "C:\\Users\\Feroze\\Google Drive\\DUKE 2016-2020\\psa-analysis\\utils\\fairness_functions.py:83: RuntimeWarning: invalid value encountered in longlong_scalars\n",
      "  ppv = tp / (tp + fp)\n",
      "C:\\Users\\Feroze\\Google Drive\\DUKE 2016-2020\\psa-analysis\\utils\\fairness_functions.py:87: RuntimeWarning: invalid value encountered in longlong_scalars\n",
      "  fnr = fn / (fn + tp)\n",
      "C:\\Users\\Feroze\\Google Drive\\DUKE 2016-2020\\psa-analysis\\utils\\fairness_functions.py:96: RuntimeWarning: invalid value encountered in longlong_scalars\n",
      "  ratio = fn / fp\n"
     ]
    },
    {
     "name": "stdout",
     "output_type": "stream",
     "text": [
      "model_id, score_thresholds 1 {'rank_abs': [83]}\n",
      "get_disparity_predefined_group()\n"
     ]
    },
    {
     "name": "stderr",
     "output_type": "stream",
     "text": [
      "C:\\Users\\Feroze\\Google Drive\\DUKE 2016-2020\\psa-analysis\\utils\\fairness_functions.py:87: RuntimeWarning: invalid value encountered in longlong_scalars\n",
      "  fnr = fn / (fn + tp)\n"
     ]
    },
    {
     "name": "stdout",
     "output_type": "stream",
     "text": [
      "model_id, score_thresholds 1 {'rank_abs': [71]}\n",
      "get_disparity_predefined_group()\n"
     ]
    },
    {
     "name": "stderr",
     "output_type": "stream",
     "text": [
      "C:\\Users\\Feroze\\Google Drive\\DUKE 2016-2020\\psa-analysis\\utils\\fairness_functions.py:87: RuntimeWarning: invalid value encountered in longlong_scalars\n",
      "  fnr = fn / (fn + tp)\n"
     ]
    },
    {
     "name": "stdout",
     "output_type": "stream",
     "text": [
      "model_id, score_thresholds 1 {'rank_abs': [75]}\n",
      "get_disparity_predefined_group()\n"
     ]
    },
    {
     "name": "stderr",
     "output_type": "stream",
     "text": [
      "C:\\Users\\Feroze\\Google Drive\\DUKE 2016-2020\\psa-analysis\\utils\\fairness_functions.py:87: RuntimeWarning: invalid value encountered in longlong_scalars\n",
      "  fnr = fn / (fn + tp)\n"
     ]
    },
    {
     "name": "stdout",
     "output_type": "stream",
     "text": [
      "model_id, score_thresholds 1 {'rank_abs': [84]}\n",
      "get_disparity_predefined_group()\n"
     ]
    },
    {
     "name": "stderr",
     "output_type": "stream",
     "text": [
      "C:\\Users\\Feroze\\Google Drive\\DUKE 2016-2020\\psa-analysis\\utils\\fairness_functions.py:87: RuntimeWarning: invalid value encountered in longlong_scalars\n",
      "  fnr = fn / (fn + tp)\n"
     ]
    }
   ],
   "source": [
    "#### Logistic\n",
    "c = [1e-5, 1e-4, 1e-3, 1e-2]\n",
    "logistic_summary = base.Logistic(X=x,\n",
    "                                 Y=y, \n",
    "                                 C=c,\n",
    "                                 seed=816)"
   ]
  },
  {
   "cell_type": "code",
   "execution_count": 4,
   "metadata": {},
   "outputs": [
    {
     "name": "stdout",
     "output_type": "stream",
     "text": [
      "[{'sex': {'female': {'PPV': 0.08108108108108109, 'FPR': 0.20359281437125748, 'FNR': 0.5384615384615384, 'Accuracy': 0.7838616714697406, 'Treatment Equality': 0.10294117647058823}, 'male': {'PPV': 0.2857142857142857, 'FPR': 0.125, 'FNR': 0.5, 'Accuracy': 0.8409090909090909, 'Treatment Equality': 0.4}}, 'race': {'Caucasian': {'PPV': 0.21052631578947367, 'FPR': 0.12, 'FNR': 0.3333333333333333, 'Accuracy': 0.8702290076335878, 'Treatment Equality': 0.13333333333333333}, 'African-American': {'PPV': 0.07142857142857142, 'FPR': 0.25, 'FNR': 0.5555555555555556, 'Accuracy': 0.7373271889400922, 'Treatment Equality': 0.09615384615384616}, 'Native American': {'PPV': nan, 'FPR': 0.0, 'FNR': nan, 'Accuracy': 1.0, 'Treatment Equality': nan}, 'Other': {'PPV': 0.0, 'FPR': 0.058823529411764705, 'FNR': nan, 'Accuracy': 0.9411764705882353, 'Treatment Equality': 0.0}, 'Hispanic': {'PPV': 0.0, 'FPR': 0.25, 'FNR': 1.0, 'Accuracy': 0.6818181818181818, 'Treatment Equality': 0.4}, 'Asian': {'PPV': nan, 'FPR': 0.0, 'FNR': nan, 'Accuracy': 1.0, 'Treatment Equality': nan}}}, {'sex': {'female': {'PPV': 0.1, 'FPR': 0.22641509433962265, 'FNR': 0.5555555555555556, 'Accuracy': 0.7559523809523809, 'Treatment Equality': 0.1388888888888889}, 'male': {'PPV': 0.0, 'FPR': 0.05660377358490566, 'FNR': 1.0, 'Accuracy': 0.9090909090909091, 'Treatment Equality': 0.6666666666666666}}, 'race': {'Hispanic': {'PPV': 0.25, 'FPR': 0.1, 'FNR': 0.0, 'Accuracy': 0.9032258064516129, 'Treatment Equality': 0.0}, 'Other': {'PPV': 0.0, 'FPR': 0.05, 'FNR': nan, 'Accuracy': 0.95, 'Treatment Equality': 0.0}, 'African-American': {'PPV': 0.09230769230769231, 'FPR': 0.271889400921659, 'FNR': 0.5714285714285714, 'Accuracy': 0.70995670995671, 'Treatment Equality': 0.13559322033898305}, 'Caucasian': {'PPV': 0.07692307692307693, 'FPR': 0.11538461538461539, 'FNR': 0.8, 'Accuracy': 0.8532110091743119, 'Treatment Equality': 0.3333333333333333}}}, {'sex': {'female': {'PPV': 0.04477611940298507, 'FPR': 0.1945288753799392, 'FNR': 0.7, 'Accuracy': 0.7905604719764012, 'Treatment Equality': 0.109375}, 'male': {'PPV': 0.0, 'FPR': 0.08, 'FNR': 1.0, 'Accuracy': 0.8846153846153846, 'Treatment Equality': 0.5}}, 'race': {'African-American': {'PPV': 0.05660377358490566, 'FPR': 0.23923444976076555, 'FNR': 0.625, 'Accuracy': 0.7465437788018433, 'Treatment Equality': 0.1}, 'Hispanic': {'PPV': 0.0, 'FPR': 0.07692307692307693, 'FNR': nan, 'Accuracy': 0.9230769230769231, 'Treatment Equality': 0.0}, 'Other': {'PPV': 0.0, 'FPR': 0.05, 'FNR': 1.0, 'Accuracy': 0.9047619047619048, 'Treatment Equality': 1.0}, 'Caucasian': {'PPV': 0.0, 'FPR': 0.10833333333333334, 'FNR': 1.0, 'Accuracy': 0.8699186991869918, 'Treatment Equality': 0.23076923076923078}, 'Native American': {'PPV': 0.0, 'FPR': 1.0, 'FNR': nan, 'Accuracy': 0.0, 'Treatment Equality': 0.0}, 'Asian': {'PPV': 0.0, 'FPR': 0.3333333333333333, 'FNR': nan, 'Accuracy': 0.6666666666666666, 'Treatment Equality': 0.0}}}, {'sex': {'female': {'PPV': 0.0821917808219178, 'FPR': 0.20303030303030303, 'FNR': 0.45454545454545453, 'Accuracy': 0.7888563049853372, 'Treatment Equality': 0.07462686567164178}, 'male': {'PPV': 0.0, 'FPR': 0.04, 'FNR': nan, 'Accuracy': 0.96, 'Treatment Equality': 0.0}}, 'race': {'African-American': {'PPV': 0.09090909090909091, 'FPR': 0.228310502283105, 'FNR': 0.375, 'Accuracy': 0.7665198237885462, 'Treatment Equality': 0.06}, 'Other': {'PPV': 0.0, 'FPR': 0.13333333333333333, 'FNR': 1.0, 'Accuracy': 0.8125, 'Treatment Equality': 0.5}, 'Caucasian': {'PPV': 0.0625, 'FPR': 0.12195121951219512, 'FNR': 0.5, 'Accuracy': 0.872, 'Treatment Equality': 0.06666666666666667}, 'Hispanic': {'PPV': 0.0, 'FPR': 0.045454545454545456, 'FNR': nan, 'Accuracy': 0.9545454545454546, 'Treatment Equality': 0.0}, 'Native American': {'PPV': 0.0, 'FPR': 1.0, 'FNR': nan, 'Accuracy': 0.0, 'Treatment Equality': 0.0}}}, {'sex': {'female': {'PPV': 0.0759493670886076, 'FPR': 0.2260061919504644, 'FNR': 0.6470588235294118, 'Accuracy': 0.7529411764705882, 'Treatment Equality': 0.1506849315068493}, 'male': {'PPV': 0.0, 'FPR': 0.10204081632653061, 'FNR': 1.0, 'Accuracy': 0.88, 'Treatment Equality': 0.2}}, 'race': {'Hispanic': {'PPV': 0.0, 'FPR': 0.15384615384615385, 'FNR': nan, 'Accuracy': 0.8461538461538461, 'Treatment Equality': 0.0}, 'African-American': {'PPV': 0.034482758620689655, 'FPR': 0.25112107623318386, 'FNR': 0.7777777777777778, 'Accuracy': 0.728448275862069, 'Treatment Equality': 0.125}, 'Caucasian': {'PPV': 0.2, 'FPR': 0.1523809523809524, 'FNR': 0.5, 'Accuracy': 0.8230088495575221, 'Treatment Equality': 0.25}, 'Other': {'PPV': 0.0, 'FPR': 0.1111111111111111, 'FNR': 1.0, 'Accuracy': 0.8421052631578947, 'Treatment Equality': 0.5}}}]\n"
     ]
    }
   ],
   "source": [
    "print(logistic_summary['confusion_matrix_stats'])"
   ]
  },
  {
   "cell_type": "code",
   "execution_count": 9,
   "metadata": {},
   "outputs": [
    {
     "data": {
      "text/plain": [
       "{'sex': {'female': {'PPV': 0.08108108108108109,\n",
       "   'FPR': 0.20359281437125748,\n",
       "   'FNR': 0.5384615384615384,\n",
       "   'Accuracy': 0.7838616714697406,\n",
       "   'Treatment Equality': 0.10294117647058823},\n",
       "  'male': {'PPV': 0.2857142857142857,\n",
       "   'FPR': 0.125,\n",
       "   'FNR': 0.5,\n",
       "   'Accuracy': 0.8409090909090909,\n",
       "   'Treatment Equality': 0.4}},\n",
       " 'race': {'Caucasian': {'PPV': 0.21052631578947367,\n",
       "   'FPR': 0.12,\n",
       "   'FNR': 0.3333333333333333,\n",
       "   'Accuracy': 0.8702290076335878,\n",
       "   'Treatment Equality': 0.13333333333333333},\n",
       "  'African-American': {'PPV': 0.07142857142857142,\n",
       "   'FPR': 0.25,\n",
       "   'FNR': 0.5555555555555556,\n",
       "   'Accuracy': 0.7373271889400922,\n",
       "   'Treatment Equality': 0.09615384615384616},\n",
       "  'Native American': {'PPV': nan,\n",
       "   'FPR': 0.0,\n",
       "   'FNR': nan,\n",
       "   'Accuracy': 1.0,\n",
       "   'Treatment Equality': nan},\n",
       "  'Other': {'PPV': 0.0,\n",
       "   'FPR': 0.058823529411764705,\n",
       "   'FNR': nan,\n",
       "   'Accuracy': 0.9411764705882353,\n",
       "   'Treatment Equality': 0.0},\n",
       "  'Hispanic': {'PPV': 0.0,\n",
       "   'FPR': 0.25,\n",
       "   'FNR': 1.0,\n",
       "   'Accuracy': 0.6818181818181818,\n",
       "   'Treatment Equality': 0.4},\n",
       "  'Asian': {'PPV': nan,\n",
       "   'FPR': 0.0,\n",
       "   'FNR': nan,\n",
       "   'Accuracy': 1.0,\n",
       "   'Treatment Equality': nan}}}"
      ]
     },
     "execution_count": 9,
     "metadata": {},
     "output_type": "execute_result"
    }
   ],
   "source": [
    "logistic_summary['confusion_matrix_stats'][0]"
   ]
  },
  {
   "cell_type": "code",
   "execution_count": 4,
   "metadata": {
    "scrolled": true
   },
   "outputs": [
    {
     "name": "stdout",
     "output_type": "stream",
     "text": [
      "model_id, score_thresholds 1 {'rank_abs': [81]}\n",
      "get_disparity_predefined_group()\n",
      "model_id, score_thresholds 1 {'rank_abs': [83]}\n",
      "get_disparity_predefined_group()\n",
      "model_id, score_thresholds 1 {'rank_abs': [71]}\n",
      "get_disparity_predefined_group()\n",
      "model_id, score_thresholds 1 {'rank_abs': [75]}\n",
      "get_disparity_predefined_group()\n",
      "model_id, score_thresholds 1 {'rank_abs': [84]}\n",
      "get_disparity_predefined_group()\n",
      "model_id, score_thresholds 1 {'rank_abs': [98]}\n",
      "get_disparity_predefined_group()\n",
      "model_id, score_thresholds 1 {'rank_abs': [100]}\n",
      "get_disparity_predefined_group()\n",
      "model_id, score_thresholds 1 {'rank_abs': [90]}\n",
      "get_disparity_predefined_group()\n",
      "model_id, score_thresholds 1 {'rank_abs': [88]}\n",
      "get_disparity_predefined_group()\n",
      "model_id, score_thresholds 1 {'rank_abs': [78]}\n",
      "get_disparity_predefined_group()\n"
     ]
    },
    {
     "name": "stderr",
     "output_type": "stream",
     "text": [
      "C:\\Users\\Feroze\\AppData\\Roaming\\Python\\Python36\\site-packages\\sklearn\\model_selection\\_search.py:814: DeprecationWarning: The default of the `iid` parameter will change from True to False in version 0.22 and will be removed in 0.24. This will change numeric results when test-set sizes are unequal.\n",
      "  DeprecationWarning)\n",
      "C:\\Users\\Feroze\\AppData\\Roaming\\Python\\Python36\\site-packages\\sklearn\\model_selection\\_search.py:814: DeprecationWarning: The default of the `iid` parameter will change from True to False in version 0.22 and will be removed in 0.24. This will change numeric results when test-set sizes are unequal.\n",
      "  DeprecationWarning)\n"
     ]
    },
    {
     "name": "stdout",
     "output_type": "stream",
     "text": [
      "model_id, score_thresholds 1 {'rank_abs': [0]}\n",
      "get_disparity_predefined_group()\n",
      "model_id, score_thresholds 1 {'rank_abs': [0]}\n",
      "get_disparity_predefined_group()\n",
      "model_id, score_thresholds 1 {'rank_abs': [0]}\n",
      "get_disparity_predefined_group()\n",
      "model_id, score_thresholds 1 {'rank_abs': [0]}\n",
      "get_disparity_predefined_group()\n",
      "model_id, score_thresholds 1 {'rank_abs': [0]}\n",
      "get_disparity_predefined_group()\n",
      "model_id, score_thresholds 1 {'rank_abs': [0]}\n",
      "get_disparity_predefined_group()\n",
      "model_id, score_thresholds 1 {'rank_abs': [0]}\n",
      "get_disparity_predefined_group()\n",
      "model_id, score_thresholds 1 {'rank_abs': [0]}\n",
      "get_disparity_predefined_group()\n",
      "model_id, score_thresholds 1 {'rank_abs': [0]}\n",
      "get_disparity_predefined_group()\n",
      "model_id, score_thresholds 1 {'rank_abs': [0]}\n",
      "get_disparity_predefined_group()\n",
      "model_id, score_thresholds 1 {'rank_abs': [0]}\n",
      "get_disparity_predefined_group()\n",
      "model_id, score_thresholds 1 {'rank_abs': [0]}\n",
      "get_disparity_predefined_group()\n",
      "model_id, score_thresholds 1 {'rank_abs': [0]}\n",
      "get_disparity_predefined_group()\n"
     ]
    },
    {
     "name": "stderr",
     "output_type": "stream",
     "text": [
      "C:\\Users\\Feroze\\AppData\\Roaming\\Python\\Python36\\site-packages\\sklearn\\model_selection\\_search.py:814: DeprecationWarning: The default of the `iid` parameter will change from True to False in version 0.22 and will be removed in 0.24. This will change numeric results when test-set sizes are unequal.\n",
      "  DeprecationWarning)\n",
      "C:\\Users\\Feroze\\AppData\\Roaming\\Python\\Python36\\site-packages\\sklearn\\model_selection\\_search.py:814: DeprecationWarning: The default of the `iid` parameter will change from True to False in version 0.22 and will be removed in 0.24. This will change numeric results when test-set sizes are unequal.\n",
      "  DeprecationWarning)\n"
     ]
    },
    {
     "name": "stdout",
     "output_type": "stream",
     "text": [
      "model_id, score_thresholds 1 {'rank_abs': [0]}\n",
      "get_disparity_predefined_group()\n",
      "model_id, score_thresholds 1 {'rank_abs': [0]}\n",
      "get_disparity_predefined_group()\n",
      "Stored 'summary_drug_six_month_broward' (dict)\n"
     ]
    }
   ],
   "source": [
    "#### Logistic\n",
    "c = [1e-5, 1e-4, 1e-3, 1e-2]\n",
    "logistic_summary = base.Logistic(X=x,\n",
    "                                 Y=y, \n",
    "                                 C=c,\n",
    "                                 seed=816)\n",
    "\n",
    "#### Lasso\n",
    "c = [1e-5, 1e-4, 1e-3, 1e-2]\n",
    "lasso_summary = base.Lasso(X=x,\n",
    "                           Y=y,\n",
    "                           C=c,\n",
    "                           seed=816)\n",
    "\n",
    "#### LinearSVM\n",
    "c = [1e-5, 1e-4, 1e-3]\n",
    "svm_summary = base.LinearSVM(X=x,\n",
    "                             Y=y,\n",
    "                             C=c,\n",
    "                             seed=816)\n",
    "\n",
    "#### Random Forest\n",
    "n_estimators =  [60,80,100]\n",
    "depth = [1]\n",
    "impurity = [0.001, 0.003, 0.005]\n",
    "rf_summary = base.RF(X=x,\n",
    "                     Y=y, \n",
    "                     depth=depth, \n",
    "                     estimators=n_estimators, \n",
    "                     impurity=impurity,\n",
    "                     seed=816)\n",
    "\n",
    "#### XGBoost\n",
    "learning_rate = [0.05, 0.07]\n",
    "depth = [1,2]\n",
    "n_estimators = [20,40,60]\n",
    "gamma = [6,8,10]\n",
    "child_weight = [6,8,10]\n",
    "subsample = [0.3, 0.5]\n",
    "xgb_summary = base.XGB(X=x,\n",
    "                       Y=y,\n",
    "                       learning_rate=learning_rate, \n",
    "                       depth=depth, \n",
    "                       estimators=n_estimators,\n",
    "                       gamma=gamma, \n",
    "                       child_weight=child_weight, \n",
    "                       subsample=subsample, \n",
    "                       seed=816)\n",
    "\n",
    "#### save results\n",
    "summary_drug_six_month_broward = {\"Logistic\": logistic_summary,\n",
    "           \"Lasso\": lasso_summary,\n",
    "           \"LinearSVM\": svm_summary,\n",
    "           \"RF\": rf_summary,\n",
    "           \"XGBoost\": xgb_summary}\n",
    "%store summary_drug_six_month_broward"
   ]
  },
  {
   "cell_type": "code",
   "execution_count": 9,
   "metadata": {},
   "outputs": [
    {
     "data": {
      "text/plain": [
       "[['Logistic', 0.660736309751812, 0.03257725432729579],\n",
       " ['Lasso', 0.667230596180396, 0.048820433133383176],\n",
       " ['LinearSVM', 0.6331124867230422, 0.047080488893336644],\n",
       " ['RF', 0.6453211259891561, 0.07640455005188933],\n",
       " ['XGBoost', 0.6759130219355365, 0.04167971201796048]]"
      ]
     },
     "execution_count": 9,
     "metadata": {},
     "output_type": "execute_result"
    }
   ],
   "source": [
    "results = []\n",
    "auc = [] ## for table writing -- the performance range \n",
    "\n",
    "for model_name, model_summary in summary_drug_six_month_broward.items():\n",
    "    results.append([model_name, np.mean(model_summary['holdout_test_auc']), np.mean(model_summary['auc_diffs'])])\n",
    "    auc.append(np.mean(model_summary['holdout_test_auc']))\n",
    "    \n",
    "results"
   ]
  },
  {
   "cell_type": "code",
   "execution_count": 10,
   "metadata": {},
   "outputs": [
    {
     "data": {
      "text/plain": [
       "[['Logistic',\n",
       "  [{'C': 0.0001}, {'C': 0.0001}, {'C': 0.0001}, {'C': 0.0001}, {'C': 0.001}]],\n",
       " ['Lasso', [{'C': 0.01}, {'C': 0.01}, {'C': 0.01}, {'C': 0.01}, {'C': 0.01}]],\n",
       " ['LinearSVM',\n",
       "  [{'C': 0.0001}, {'C': 0.001}, {'C': 0.0001}, {'C': 0.0001}, {'C': 0.001}]],\n",
       " ['RF',\n",
       "  [{'max_depth': 1, 'min_impurity_decrease': 0.001, 'n_estimators': 80},\n",
       "   {'max_depth': 1, 'min_impurity_decrease': 0.001, 'n_estimators': 80},\n",
       "   {'max_depth': 1, 'min_impurity_decrease': 0.001, 'n_estimators': 100},\n",
       "   {'max_depth': 1, 'min_impurity_decrease': 0.001, 'n_estimators': 80},\n",
       "   {'max_depth': 1, 'min_impurity_decrease': 0.001, 'n_estimators': 80}]],\n",
       " ['XGBoost',\n",
       "  [{'gamma': 6,\n",
       "    'learning_rate': 0.07,\n",
       "    'max_depth': 2,\n",
       "    'min_child_weight': 6,\n",
       "    'n_estimators': 60,\n",
       "    'subsample': 0.5},\n",
       "   {'gamma': 6,\n",
       "    'learning_rate': 0.05,\n",
       "    'max_depth': 2,\n",
       "    'min_child_weight': 6,\n",
       "    'n_estimators': 60,\n",
       "    'subsample': 0.5},\n",
       "   {'gamma': 6,\n",
       "    'learning_rate': 0.05,\n",
       "    'max_depth': 1,\n",
       "    'min_child_weight': 6,\n",
       "    'n_estimators': 60,\n",
       "    'subsample': 0.5},\n",
       "   {'gamma': 6,\n",
       "    'learning_rate': 0.07,\n",
       "    'max_depth': 2,\n",
       "    'min_child_weight': 6,\n",
       "    'n_estimators': 40,\n",
       "    'subsample': 0.5},\n",
       "   {'gamma': 6,\n",
       "    'learning_rate': 0.07,\n",
       "    'max_depth': 2,\n",
       "    'min_child_weight': 10,\n",
       "    'n_estimators': 40,\n",
       "    'subsample': 0.5}]]]"
      ]
     },
     "execution_count": 10,
     "metadata": {},
     "output_type": "execute_result"
    }
   ],
   "source": [
    "params = [[model_name, model_summary['best_param']] for model_name, model_summary in summary_drug_six_month_broward.items()]\n",
    "params"
   ]
  },
  {
   "cell_type": "code",
   "execution_count": 40,
   "metadata": {},
   "outputs": [],
   "source": [
    "path = \"C:\\\\Users\\\\binha\\\\Documents\\\\Duke\\\\Cynthia Research\\\\KY-analysis-mytrials\\\\broward\\\\broward models\\\\model results\\\\Baselines\\\\Six Month\\\\\"\n",
    "results = [[\"Drug\", np.str((round(np.mean(logistic_summary['holdout_test_auc']), 3))) + \" (\" + np.str(round(np.std(logistic_summary['holdout_test_auc']), 3)) + \")\", \n",
    "            np.str(round(np.mean(lasso_summary['holdout_test_auc']),3)) + \" (\" + np.str(round(np.std(lasso_summary['holdout_test_auc']), 3)) + \")\", \n",
    "            np.str(round(np.mean(svm_summary['holdout_test_auc']),3)) + \" (\" + np.str(round(np.std(svm_summary['holdout_test_auc']), 3)) + \")\", \n",
    "            np.str(round(np.mean(rf_summary['holdout_test_auc']),3)) + \" (\" + np.str(round(np.std(rf_summary['holdout_test_auc']), 3)) + \")\", \n",
    "            np.str(round(np.mean(xgb_summary['holdout_test_auc']),3)) + \" (\" + np.str(round(np.std(xgb_summary['holdout_test_auc']), 3)) + \")\", \n",
    "            round(np.max(auc) - np.min(auc), 3)]]\n",
    "with open(path + 'Six Month Baseline Summary.csv', 'a') as writeFile:\n",
    "    writer = csv.writer(writeFile)\n",
    "    writer.writerows(results)"
   ]
  },
  {
   "cell_type": "code",
   "execution_count": 13,
   "metadata": {},
   "outputs": [
    {
     "data": {
      "text/html": [
       "<div>\n",
       "<style scoped>\n",
       "    .dataframe tbody tr th:only-of-type {\n",
       "        vertical-align: middle;\n",
       "    }\n",
       "\n",
       "    .dataframe tbody tr th {\n",
       "        vertical-align: top;\n",
       "    }\n",
       "\n",
       "    .dataframe thead th {\n",
       "        text-align: right;\n",
       "    }\n",
       "</style>\n",
       "<table border=\"1\" class=\"dataframe\">\n",
       "  <thead>\n",
       "    <tr style=\"text-align: right;\">\n",
       "      <th></th>\n",
       "      <th>attribute_name</th>\n",
       "      <th>attribute_value</th>\n",
       "      <th>tpr</th>\n",
       "      <th>tnr</th>\n",
       "      <th>for</th>\n",
       "      <th>fdr</th>\n",
       "      <th>fpr</th>\n",
       "      <th>fnr</th>\n",
       "      <th>npv</th>\n",
       "      <th>precision</th>\n",
       "      <th>...</th>\n",
       "      <th>FPR Parity</th>\n",
       "      <th>Unsupervised Fairness</th>\n",
       "      <th>Impact Parity</th>\n",
       "      <th>FNR Parity</th>\n",
       "      <th>Supervised Fairness</th>\n",
       "      <th>TPR Parity</th>\n",
       "      <th>NPV Parity</th>\n",
       "      <th>FDR Parity</th>\n",
       "      <th>Statistical Parity</th>\n",
       "      <th>TNR Parity</th>\n",
       "    </tr>\n",
       "  </thead>\n",
       "  <tbody>\n",
       "    <tr>\n",
       "      <td>0</td>\n",
       "      <td>sex</td>\n",
       "      <td>female</td>\n",
       "      <td>0.0</td>\n",
       "      <td>1.0</td>\n",
       "      <td>0.037464</td>\n",
       "      <td>NaN</td>\n",
       "      <td>0.0</td>\n",
       "      <td>1.0</td>\n",
       "      <td>0.962536</td>\n",
       "      <td>NaN</td>\n",
       "      <td>...</td>\n",
       "      <td>NaN</td>\n",
       "      <td>NaN</td>\n",
       "      <td>NaN</td>\n",
       "      <td>True</td>\n",
       "      <td>False</td>\n",
       "      <td>NaN</td>\n",
       "      <td>True</td>\n",
       "      <td>NaN</td>\n",
       "      <td>NaN</td>\n",
       "      <td>True</td>\n",
       "    </tr>\n",
       "    <tr>\n",
       "      <td>1</td>\n",
       "      <td>sex</td>\n",
       "      <td>male</td>\n",
       "      <td>0.0</td>\n",
       "      <td>1.0</td>\n",
       "      <td>0.090909</td>\n",
       "      <td>NaN</td>\n",
       "      <td>0.0</td>\n",
       "      <td>1.0</td>\n",
       "      <td>0.909091</td>\n",
       "      <td>NaN</td>\n",
       "      <td>...</td>\n",
       "      <td>NaN</td>\n",
       "      <td>NaN</td>\n",
       "      <td>NaN</td>\n",
       "      <td>True</td>\n",
       "      <td>False</td>\n",
       "      <td>NaN</td>\n",
       "      <td>True</td>\n",
       "      <td>NaN</td>\n",
       "      <td>NaN</td>\n",
       "      <td>True</td>\n",
       "    </tr>\n",
       "    <tr>\n",
       "      <td>2</td>\n",
       "      <td>race</td>\n",
       "      <td>African-American</td>\n",
       "      <td>0.0</td>\n",
       "      <td>1.0</td>\n",
       "      <td>0.041475</td>\n",
       "      <td>NaN</td>\n",
       "      <td>0.0</td>\n",
       "      <td>1.0</td>\n",
       "      <td>0.958525</td>\n",
       "      <td>NaN</td>\n",
       "      <td>...</td>\n",
       "      <td>NaN</td>\n",
       "      <td>NaN</td>\n",
       "      <td>NaN</td>\n",
       "      <td>True</td>\n",
       "      <td>False</td>\n",
       "      <td>NaN</td>\n",
       "      <td>True</td>\n",
       "      <td>NaN</td>\n",
       "      <td>NaN</td>\n",
       "      <td>True</td>\n",
       "    </tr>\n",
       "    <tr>\n",
       "      <td>3</td>\n",
       "      <td>race</td>\n",
       "      <td>Asian</td>\n",
       "      <td>NaN</td>\n",
       "      <td>1.0</td>\n",
       "      <td>0.000000</td>\n",
       "      <td>NaN</td>\n",
       "      <td>0.0</td>\n",
       "      <td>NaN</td>\n",
       "      <td>1.000000</td>\n",
       "      <td>NaN</td>\n",
       "      <td>...</td>\n",
       "      <td>NaN</td>\n",
       "      <td>NaN</td>\n",
       "      <td>NaN</td>\n",
       "      <td>NaN</td>\n",
       "      <td>False</td>\n",
       "      <td>NaN</td>\n",
       "      <td>True</td>\n",
       "      <td>NaN</td>\n",
       "      <td>NaN</td>\n",
       "      <td>True</td>\n",
       "    </tr>\n",
       "    <tr>\n",
       "      <td>4</td>\n",
       "      <td>race</td>\n",
       "      <td>Caucasian</td>\n",
       "      <td>0.0</td>\n",
       "      <td>1.0</td>\n",
       "      <td>0.045802</td>\n",
       "      <td>NaN</td>\n",
       "      <td>0.0</td>\n",
       "      <td>1.0</td>\n",
       "      <td>0.954198</td>\n",
       "      <td>NaN</td>\n",
       "      <td>...</td>\n",
       "      <td>NaN</td>\n",
       "      <td>NaN</td>\n",
       "      <td>NaN</td>\n",
       "      <td>True</td>\n",
       "      <td>False</td>\n",
       "      <td>NaN</td>\n",
       "      <td>True</td>\n",
       "      <td>NaN</td>\n",
       "      <td>NaN</td>\n",
       "      <td>True</td>\n",
       "    </tr>\n",
       "    <tr>\n",
       "      <td>5</td>\n",
       "      <td>race</td>\n",
       "      <td>Hispanic</td>\n",
       "      <td>0.0</td>\n",
       "      <td>1.0</td>\n",
       "      <td>0.090909</td>\n",
       "      <td>NaN</td>\n",
       "      <td>0.0</td>\n",
       "      <td>1.0</td>\n",
       "      <td>0.909091</td>\n",
       "      <td>NaN</td>\n",
       "      <td>...</td>\n",
       "      <td>NaN</td>\n",
       "      <td>NaN</td>\n",
       "      <td>NaN</td>\n",
       "      <td>True</td>\n",
       "      <td>False</td>\n",
       "      <td>NaN</td>\n",
       "      <td>True</td>\n",
       "      <td>NaN</td>\n",
       "      <td>NaN</td>\n",
       "      <td>True</td>\n",
       "    </tr>\n",
       "    <tr>\n",
       "      <td>6</td>\n",
       "      <td>race</td>\n",
       "      <td>Native American</td>\n",
       "      <td>NaN</td>\n",
       "      <td>1.0</td>\n",
       "      <td>0.000000</td>\n",
       "      <td>NaN</td>\n",
       "      <td>0.0</td>\n",
       "      <td>NaN</td>\n",
       "      <td>1.000000</td>\n",
       "      <td>NaN</td>\n",
       "      <td>...</td>\n",
       "      <td>NaN</td>\n",
       "      <td>NaN</td>\n",
       "      <td>NaN</td>\n",
       "      <td>NaN</td>\n",
       "      <td>False</td>\n",
       "      <td>NaN</td>\n",
       "      <td>True</td>\n",
       "      <td>NaN</td>\n",
       "      <td>NaN</td>\n",
       "      <td>True</td>\n",
       "    </tr>\n",
       "    <tr>\n",
       "      <td>7</td>\n",
       "      <td>race</td>\n",
       "      <td>Other</td>\n",
       "      <td>NaN</td>\n",
       "      <td>1.0</td>\n",
       "      <td>0.000000</td>\n",
       "      <td>NaN</td>\n",
       "      <td>0.0</td>\n",
       "      <td>NaN</td>\n",
       "      <td>1.000000</td>\n",
       "      <td>NaN</td>\n",
       "      <td>...</td>\n",
       "      <td>NaN</td>\n",
       "      <td>NaN</td>\n",
       "      <td>NaN</td>\n",
       "      <td>NaN</td>\n",
       "      <td>False</td>\n",
       "      <td>NaN</td>\n",
       "      <td>True</td>\n",
       "      <td>NaN</td>\n",
       "      <td>NaN</td>\n",
       "      <td>True</td>\n",
       "    </tr>\n",
       "  </tbody>\n",
       "</table>\n",
       "<p>8 rows × 38 columns</p>\n",
       "</div>"
      ],
      "text/plain": [
       "  attribute_name   attribute_value  tpr  tnr       for  fdr  fpr  fnr  \\\n",
       "0            sex            female  0.0  1.0  0.037464  NaN  0.0  1.0   \n",
       "1            sex              male  0.0  1.0  0.090909  NaN  0.0  1.0   \n",
       "2           race  African-American  0.0  1.0  0.041475  NaN  0.0  1.0   \n",
       "3           race             Asian  NaN  1.0  0.000000  NaN  0.0  NaN   \n",
       "4           race         Caucasian  0.0  1.0  0.045802  NaN  0.0  1.0   \n",
       "5           race          Hispanic  0.0  1.0  0.090909  NaN  0.0  1.0   \n",
       "6           race   Native American  NaN  1.0  0.000000  NaN  0.0  NaN   \n",
       "7           race             Other  NaN  1.0  0.000000  NaN  0.0  NaN   \n",
       "\n",
       "        npv  precision  ...  FPR Parity  Unsupervised Fairness  Impact Parity  \\\n",
       "0  0.962536        NaN  ...         NaN                    NaN            NaN   \n",
       "1  0.909091        NaN  ...         NaN                    NaN            NaN   \n",
       "2  0.958525        NaN  ...         NaN                    NaN            NaN   \n",
       "3  1.000000        NaN  ...         NaN                    NaN            NaN   \n",
       "4  0.954198        NaN  ...         NaN                    NaN            NaN   \n",
       "5  0.909091        NaN  ...         NaN                    NaN            NaN   \n",
       "6  1.000000        NaN  ...         NaN                    NaN            NaN   \n",
       "7  1.000000        NaN  ...         NaN                    NaN            NaN   \n",
       "\n",
       "   FNR Parity  Supervised Fairness  TPR Parity  NPV Parity  FDR Parity  \\\n",
       "0        True                False         NaN        True         NaN   \n",
       "1        True                False         NaN        True         NaN   \n",
       "2        True                False         NaN        True         NaN   \n",
       "3         NaN                False         NaN        True         NaN   \n",
       "4        True                False         NaN        True         NaN   \n",
       "5        True                False         NaN        True         NaN   \n",
       "6         NaN                False         NaN        True         NaN   \n",
       "7         NaN                False         NaN        True         NaN   \n",
       "\n",
       "   Statistical Parity  TNR Parity  \n",
       "0                 NaN        True  \n",
       "1                 NaN        True  \n",
       "2                 NaN        True  \n",
       "3                 NaN        True  \n",
       "4                 NaN        True  \n",
       "5                 NaN        True  \n",
       "6                 NaN        True  \n",
       "7                 NaN        True  \n",
       "\n",
       "[8 rows x 38 columns]"
      ]
     },
     "execution_count": 13,
     "metadata": {},
     "output_type": "execute_result"
    }
   ],
   "source": [
    "rf_summary['fairness_overview'][0]"
   ]
  },
  {
   "cell_type": "code",
   "execution_count": null,
   "metadata": {},
   "outputs": [],
   "source": []
  }
 ],
 "metadata": {
  "kernelspec": {
   "display_name": "Python 3",
   "language": "python",
   "name": "python3"
  },
  "language_info": {
   "codemirror_mode": {
    "name": "ipython",
    "version": 3
   },
   "file_extension": ".py",
   "mimetype": "text/x-python",
   "name": "python",
   "nbconvert_exporter": "python",
   "pygments_lexer": "ipython3",
   "version": "3.6.5"
  }
 },
 "nbformat": 4,
 "nbformat_minor": 4
}
