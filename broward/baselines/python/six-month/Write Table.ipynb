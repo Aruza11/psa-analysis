{
 "cells": [
  {
   "cell_type": "code",
   "execution_count": 1,
   "metadata": {
    "hideCode": false,
    "hidePrompt": false
   },
   "outputs": [],
   "source": [
    "import pytablewriter\n",
    "import pandas as pd\n",
    "import numpy as np"
   ]
  },
  {
   "cell_type": "code",
   "execution_count": 2,
   "metadata": {
    "hideCode": false,
    "hidePrompt": false
   },
   "outputs": [],
   "source": [
    "result = pd.read_csv(\"C:\\\\Users\\\\binha\\\\Documents\\\\Duke\\\\Cynthia Research\\\\KY-analysis-mytrials\\\\broward\\\\broward models\\\\model results\\\\Baselines\\\\Six Month\\\\Six Month Baseline Summary.csv\")"
   ]
  },
  {
   "cell_type": "code",
   "execution_count": 4,
   "metadata": {
    "hideCode": false,
    "hidePrompt": false
   },
   "outputs": [
    {
     "data": {
      "text/html": [
       "<div>\n",
       "<style scoped>\n",
       "    .dataframe tbody tr th:only-of-type {\n",
       "        vertical-align: middle;\n",
       "    }\n",
       "\n",
       "    .dataframe tbody tr th {\n",
       "        vertical-align: top;\n",
       "    }\n",
       "\n",
       "    .dataframe thead th {\n",
       "        text-align: right;\n",
       "    }\n",
       "</style>\n",
       "<table border=\"1\" class=\"dataframe\">\n",
       "  <thead>\n",
       "    <tr style=\"text-align: right;\">\n",
       "      <th></th>\n",
       "      <th>Unnamed: 0</th>\n",
       "      <th>Logistic</th>\n",
       "      <th>STD</th>\n",
       "      <th>Lasso</th>\n",
       "      <th>STD.1</th>\n",
       "      <th>Linear SVM</th>\n",
       "      <th>STD.2</th>\n",
       "      <th>CART</th>\n",
       "      <th>STD.3</th>\n",
       "      <th>Random Forest</th>\n",
       "      <th>STD.4</th>\n",
       "      <th>XGBoost</th>\n",
       "      <th>STD.5</th>\n",
       "    </tr>\n",
       "  </thead>\n",
       "  <tbody>\n",
       "    <tr>\n",
       "      <th>0</th>\n",
       "      <td>Recidivism</td>\n",
       "      <td>0.629</td>\n",
       "      <td>0.032</td>\n",
       "      <td>0.618</td>\n",
       "      <td>0.024</td>\n",
       "      <td>0.623</td>\n",
       "      <td>0.024</td>\n",
       "      <td>0.532</td>\n",
       "      <td>0.028</td>\n",
       "      <td>0.617</td>\n",
       "      <td>0.015</td>\n",
       "      <td>0.607</td>\n",
       "      <td>0.021</td>\n",
       "    </tr>\n",
       "    <tr>\n",
       "      <th>1</th>\n",
       "      <td>Violence</td>\n",
       "      <td>0.619</td>\n",
       "      <td>0.059</td>\n",
       "      <td>0.696</td>\n",
       "      <td>0.040</td>\n",
       "      <td>0.596</td>\n",
       "      <td>0.040</td>\n",
       "      <td>0.503</td>\n",
       "      <td>0.007</td>\n",
       "      <td>0.670</td>\n",
       "      <td>0.052</td>\n",
       "      <td>0.685</td>\n",
       "      <td>0.043</td>\n",
       "    </tr>\n",
       "    <tr>\n",
       "      <th>2</th>\n",
       "      <td>Drug</td>\n",
       "      <td>0.659</td>\n",
       "      <td>0.078</td>\n",
       "      <td>0.675</td>\n",
       "      <td>0.062</td>\n",
       "      <td>0.596</td>\n",
       "      <td>0.062</td>\n",
       "      <td>0.513</td>\n",
       "      <td>0.027</td>\n",
       "      <td>0.580</td>\n",
       "      <td>0.058</td>\n",
       "      <td>0.674</td>\n",
       "      <td>0.052</td>\n",
       "    </tr>\n",
       "    <tr>\n",
       "      <th>3</th>\n",
       "      <td>Property</td>\n",
       "      <td>0.681</td>\n",
       "      <td>0.057</td>\n",
       "      <td>0.727</td>\n",
       "      <td>0.039</td>\n",
       "      <td>0.675</td>\n",
       "      <td>0.039</td>\n",
       "      <td>0.634</td>\n",
       "      <td>0.058</td>\n",
       "      <td>0.579</td>\n",
       "      <td>0.074</td>\n",
       "      <td>0.687</td>\n",
       "      <td>0.075</td>\n",
       "    </tr>\n",
       "    <tr>\n",
       "      <th>4</th>\n",
       "      <td>Felony</td>\n",
       "      <td>0.624</td>\n",
       "      <td>0.032</td>\n",
       "      <td>0.609</td>\n",
       "      <td>0.032</td>\n",
       "      <td>0.576</td>\n",
       "      <td>0.032</td>\n",
       "      <td>0.538</td>\n",
       "      <td>0.040</td>\n",
       "      <td>0.547</td>\n",
       "      <td>0.050</td>\n",
       "      <td>0.622</td>\n",
       "      <td>0.037</td>\n",
       "    </tr>\n",
       "    <tr>\n",
       "      <th>5</th>\n",
       "      <td>Misdemeanor</td>\n",
       "      <td>0.614</td>\n",
       "      <td>0.036</td>\n",
       "      <td>0.610</td>\n",
       "      <td>0.029</td>\n",
       "      <td>0.602</td>\n",
       "      <td>0.029</td>\n",
       "      <td>0.569</td>\n",
       "      <td>0.035</td>\n",
       "      <td>0.517</td>\n",
       "      <td>0.018</td>\n",
       "      <td>0.594</td>\n",
       "      <td>0.035</td>\n",
       "    </tr>\n",
       "  </tbody>\n",
       "</table>\n",
       "</div>"
      ],
      "text/plain": [
       "    Unnamed: 0  Logistic    STD  Lasso  STD.1  Linear SVM  STD.2   CART  \\\n",
       "0   Recidivism     0.629  0.032  0.618  0.024       0.623  0.024  0.532   \n",
       "1     Violence     0.619  0.059  0.696  0.040       0.596  0.040  0.503   \n",
       "2         Drug     0.659  0.078  0.675  0.062       0.596  0.062  0.513   \n",
       "3     Property     0.681  0.057  0.727  0.039       0.675  0.039  0.634   \n",
       "4       Felony     0.624  0.032  0.609  0.032       0.576  0.032  0.538   \n",
       "5  Misdemeanor     0.614  0.036  0.610  0.029       0.602  0.029  0.569   \n",
       "\n",
       "   STD.3  Random Forest  STD.4  XGBoost  STD.5  \n",
       "0  0.028          0.617  0.015    0.607  0.021  \n",
       "1  0.007          0.670  0.052    0.685  0.043  \n",
       "2  0.027          0.580  0.058    0.674  0.052  \n",
       "3  0.058          0.579  0.074    0.687  0.075  \n",
       "4  0.040          0.547  0.050    0.622  0.037  \n",
       "5  0.035          0.517  0.018    0.594  0.035  "
      ]
     },
     "execution_count": 4,
     "metadata": {},
     "output_type": "execute_result"
    }
   ],
   "source": [
    "result"
   ]
  },
  {
   "cell_type": "code",
   "execution_count": 5,
   "metadata": {
    "hideCode": false,
    "hidePrompt": false
   },
   "outputs": [],
   "source": [
    "cols = result.columns.to_list()\n",
    "values = result.values.tolist()"
   ]
  },
  {
   "cell_type": "code",
   "execution_count": 6,
   "metadata": {
    "hideCode": false,
    "hideOutput": true,
    "hidePrompt": false
   },
   "outputs": [
    {
     "name": "stdout",
     "output_type": "stream",
     "text": [
      "\\begin{array}{l | r | r | r | r | r | r | r | r | r | r | r | r} \\hline\n",
      "    Recidivism  & 0.6290 & 0.03200 & 0.618 & 0.02400 & 0.6230 & 0.02400 & 0.5320 & 0.028000 & 0.617 & 0.01500 & 0.607 & 0.02100 \\\\ \\hline\n",
      "    Violence    & 0.6190 & 0.05900 & 0.696 & 0.04000 & 0.5960 & 0.04000 & 0.5030 & 0.007000 & 0.670 & 0.05200 & 0.685 & 0.04300 \\\\ \\hline\n",
      "    Drug        & 0.6590 & 0.07800 & 0.675 & 0.06200 & 0.5960 & 0.06200 & 0.5130 & 0.027000 & 0.580 & 0.05800 & 0.674 & 0.05200 \\\\ \\hline\n",
      "    Property    & 0.6810 & 0.05700 & 0.727 & 0.03900 & 0.6750 & 0.03900 & 0.6340 & 0.058000 & 0.579 & 0.07400 & 0.687 & 0.07500 \\\\ \\hline\n",
      "    Felony      & 0.6240 & 0.03200 & 0.609 & 0.03200 & 0.5760 & 0.03200 & 0.5380 & 0.040000 & 0.547 & 0.05000 & 0.622 & 0.03700 \\\\ \\hline\n",
      "    Misdemeanor & 0.6140 & 0.03600 & 0.610 & 0.02900 & 0.6020 & 0.02900 & 0.5690 & 0.035000 & 0.517 & 0.01800 & 0.594 & 0.03500 \\\\ \\hline\n",
      "\\end{array}\n"
     ]
    }
   ],
   "source": [
    "writer = pytablewriter.LatexTableWriter()\n",
    "writer.value_matrix = values\n",
    "writer.write_table()"
   ]
  }
 ],
 "metadata": {
  "hide_code_all_hidden": false,
  "kernelspec": {
   "display_name": "Python 3",
   "language": "python",
   "name": "python3"
  },
  "language_info": {
   "codemirror_mode": {
    "name": "ipython",
    "version": 3
   },
   "file_extension": ".py",
   "mimetype": "text/x-python",
   "name": "python",
   "nbconvert_exporter": "python",
   "pygments_lexer": "ipython3",
   "version": "3.7.0"
  }
 },
 "nbformat": 4,
 "nbformat_minor": 2
}
