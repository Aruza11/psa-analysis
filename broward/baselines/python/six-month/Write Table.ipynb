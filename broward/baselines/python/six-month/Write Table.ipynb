{
 "cells": [
  {
   "cell_type": "code",
   "execution_count": 1,
   "metadata": {
    "hideCode": false,
    "hidePrompt": false
   },
   "outputs": [],
   "source": [
    "import pytablewriter\n",
    "import pandas as pd\n",
    "import numpy as np"
   ]
  },
  {
   "cell_type": "code",
   "execution_count": 2,
   "metadata": {
    "hideCode": false,
    "hidePrompt": false
   },
   "outputs": [],
   "source": [
    "result = pd.read_csv(\"C:\\\\Users\\\\binha\\\\Documents\\\\Duke\\\\Cynthia Research\\\\KY-analysis-mytrials\\\\broward\\\\broward models\\\\model results\\\\Baselines\\\\Six Month\\\\Six Month Baseline Summary.csv\")"
   ]
  },
  {
   "cell_type": "code",
   "execution_count": 3,
   "metadata": {
    "hideCode": false,
    "hidePrompt": false
   },
   "outputs": [
    {
     "data": {
      "text/html": [
       "<div>\n",
       "<style scoped>\n",
       "    .dataframe tbody tr th:only-of-type {\n",
       "        vertical-align: middle;\n",
       "    }\n",
       "\n",
       "    .dataframe tbody tr th {\n",
       "        vertical-align: top;\n",
       "    }\n",
       "\n",
       "    .dataframe thead th {\n",
       "        text-align: right;\n",
       "    }\n",
       "</style>\n",
       "<table border=\"1\" class=\"dataframe\">\n",
       "  <thead>\n",
       "    <tr style=\"text-align: right;\">\n",
       "      <th></th>\n",
       "      <th>Unnamed: 0</th>\n",
       "      <th>Logistic</th>\n",
       "      <th>Lasso</th>\n",
       "      <th>Linear SVM</th>\n",
       "      <th>Random Forest</th>\n",
       "      <th>XGBoost</th>\n",
       "      <th>Performance Range</th>\n",
       "    </tr>\n",
       "  </thead>\n",
       "  <tbody>\n",
       "    <tr>\n",
       "      <th>0</th>\n",
       "      <td>General</td>\n",
       "      <td>0.627 (0.027)</td>\n",
       "      <td>0.621 (0.029)</td>\n",
       "      <td>0.621 (0.013)</td>\n",
       "      <td>0.614 (0.014)</td>\n",
       "      <td>0.616 (0.017)</td>\n",
       "      <td>0.012</td>\n",
       "    </tr>\n",
       "    <tr>\n",
       "      <th>1</th>\n",
       "      <td>Violent</td>\n",
       "      <td>0.677 (0.031)</td>\n",
       "      <td>0.699 (0.046)</td>\n",
       "      <td>0.653 (0.042)</td>\n",
       "      <td>0.674 (0.046)</td>\n",
       "      <td>0.68 (0.023)</td>\n",
       "      <td>0.046</td>\n",
       "    </tr>\n",
       "    <tr>\n",
       "      <th>2</th>\n",
       "      <td>Drug</td>\n",
       "      <td>0.668 (0.083)</td>\n",
       "      <td>0.655 (0.069)</td>\n",
       "      <td>0.633 (0.069)</td>\n",
       "      <td>0.66 (0.07)</td>\n",
       "      <td>0.652 (0.025)</td>\n",
       "      <td>0.035</td>\n",
       "    </tr>\n",
       "    <tr>\n",
       "      <th>3</th>\n",
       "      <td>Property</td>\n",
       "      <td>0.721 (0.042)</td>\n",
       "      <td>0.724 (0.039)</td>\n",
       "      <td>0.69 (0.048)</td>\n",
       "      <td>0.693 (0.052)</td>\n",
       "      <td>0.691 (0.06)</td>\n",
       "      <td>0.034</td>\n",
       "    </tr>\n",
       "    <tr>\n",
       "      <th>4</th>\n",
       "      <td>Felony</td>\n",
       "      <td>0.621 (0.037)</td>\n",
       "      <td>0.624 (0.026)</td>\n",
       "      <td>0.583 (0.018)</td>\n",
       "      <td>0.615 (0.029)</td>\n",
       "      <td>0.613 (0.052)</td>\n",
       "      <td>0.041</td>\n",
       "    </tr>\n",
       "    <tr>\n",
       "      <th>5</th>\n",
       "      <td>Misdemeanor</td>\n",
       "      <td>0.607 (0.037)</td>\n",
       "      <td>0.611 (0.037)</td>\n",
       "      <td>0.611 (0.011)</td>\n",
       "      <td>0.586 (0.038)</td>\n",
       "      <td>0.594 (0.03)</td>\n",
       "      <td>0.025</td>\n",
       "    </tr>\n",
       "  </tbody>\n",
       "</table>\n",
       "</div>"
      ],
      "text/plain": [
       "    Unnamed: 0       Logistic          Lasso     Linear SVM  Random Forest  \\\n",
       "0      General  0.627 (0.027)  0.621 (0.029)  0.621 (0.013)  0.614 (0.014)   \n",
       "1      Violent  0.677 (0.031)  0.699 (0.046)  0.653 (0.042)  0.674 (0.046)   \n",
       "2         Drug  0.668 (0.083)  0.655 (0.069)  0.633 (0.069)    0.66 (0.07)   \n",
       "3     Property  0.721 (0.042)  0.724 (0.039)   0.69 (0.048)  0.693 (0.052)   \n",
       "4       Felony  0.621 (0.037)  0.624 (0.026)  0.583 (0.018)  0.615 (0.029)   \n",
       "5  Misdemeanor  0.607 (0.037)  0.611 (0.037)  0.611 (0.011)  0.586 (0.038)   \n",
       "\n",
       "         XGBoost  Performance Range  \n",
       "0  0.616 (0.017)              0.012  \n",
       "1   0.68 (0.023)              0.046  \n",
       "2  0.652 (0.025)              0.035  \n",
       "3   0.691 (0.06)              0.034  \n",
       "4  0.613 (0.052)              0.041  \n",
       "5   0.594 (0.03)              0.025  "
      ]
     },
     "execution_count": 3,
     "metadata": {},
     "output_type": "execute_result"
    }
   ],
   "source": [
    "result"
   ]
  },
  {
   "cell_type": "code",
   "execution_count": 4,
   "metadata": {
    "hideCode": false,
    "hidePrompt": false
   },
   "outputs": [],
   "source": [
    "cols = result.columns.to_list()\n",
    "values = result.values.tolist()"
   ]
  },
  {
   "cell_type": "code",
   "execution_count": 5,
   "metadata": {
    "hideCode": false,
    "hideOutput": true,
    "hidePrompt": false
   },
   "outputs": [
    {
     "name": "stdout",
     "output_type": "stream",
     "text": [
      "\\begin{array}{l | l | l | l | l | l | r} \\hline\n",
      "    General     & \\verb|0.627 (0.027)| & \\verb|0.621 (0.029)| & \\verb|0.621 (0.013)| & \\verb|0.614 (0.014)| & \\verb|0.616 (0.017)| & 0.01200 \\\\ \\hline\n",
      "    Violent     & \\verb|0.677 (0.031)| & \\verb|0.699 (0.046)| & \\verb|0.653 (0.042)| & \\verb|0.674 (0.046)| & \\verb|0.68 (0.023) | & 0.04600 \\\\ \\hline\n",
      "    Drug        & \\verb|0.668 (0.083)| & \\verb|0.655 (0.069)| & \\verb|0.633 (0.069)| & \\verb|0.66 (0.07)  | & \\verb|0.652 (0.025)| & 0.03500 \\\\ \\hline\n",
      "    Property    & \\verb|0.721 (0.042)| & \\verb|0.724 (0.039)| & \\verb|0.69 (0.048) | & \\verb|0.693 (0.052)| & \\verb|0.691 (0.06) | & 0.03400 \\\\ \\hline\n",
      "    Felony      & \\verb|0.621 (0.037)| & \\verb|0.624 (0.026)| & \\verb|0.583 (0.018)| & \\verb|0.615 (0.029)| & \\verb|0.613 (0.052)| & 0.04100 \\\\ \\hline\n",
      "    Misdemeanor & \\verb|0.607 (0.037)| & \\verb|0.611 (0.037)| & \\verb|0.611 (0.011)| & \\verb|0.586 (0.038)| & \\verb|0.594 (0.03) | & 0.02500 \\\\ \\hline\n",
      "\\end{array}\n"
     ]
    }
   ],
   "source": [
    "writer = pytablewriter.LatexTableWriter()\n",
    "writer.value_matrix = values\n",
    "writer.write_table()"
   ]
  }
 ],
 "metadata": {
  "hide_code_all_hidden": false,
  "kernelspec": {
   "display_name": "Python 3",
   "language": "python",
   "name": "python3"
  },
  "language_info": {
   "codemirror_mode": {
    "name": "ipython",
    "version": 3
   },
   "file_extension": ".py",
   "mimetype": "text/x-python",
   "name": "python",
   "nbconvert_exporter": "python",
   "pygments_lexer": "ipython3",
   "version": "3.7.4"
  }
 },
 "nbformat": 4,
 "nbformat_minor": 4
}
