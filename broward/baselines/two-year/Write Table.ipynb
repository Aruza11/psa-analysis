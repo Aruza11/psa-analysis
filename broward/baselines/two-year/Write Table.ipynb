{
 "cells": [
  {
   "cell_type": "code",
   "execution_count": 8,
   "metadata": {
    "hideCode": false,
    "hidePrompt": false
   },
   "outputs": [],
   "source": [
    "import pytablewriter\n",
    "import pandas as pd\n",
    "import numpy as np"
   ]
  },
  {
   "cell_type": "code",
   "execution_count": 9,
   "metadata": {
    "hideCode": false,
    "hidePrompt": false
   },
   "outputs": [],
   "source": [
    "result = pd.read_csv(\"C:\\\\Users\\\\binha\\\\Documents\\\\Duke\\\\Cynthia Research\\\\KY-analysis-mytrials\\\\broward\\\\broward models\\\\model results\\\\Baselines\\\\Two Year\\\\Two Year Baseline Summary.csv\")"
   ]
  },
  {
   "cell_type": "code",
   "execution_count": 10,
   "metadata": {
    "hideCode": false,
    "hidePrompt": false
   },
   "outputs": [
    {
     "data": {
      "text/html": [
       "<div>\n",
       "<style scoped>\n",
       "    .dataframe tbody tr th:only-of-type {\n",
       "        vertical-align: middle;\n",
       "    }\n",
       "\n",
       "    .dataframe tbody tr th {\n",
       "        vertical-align: top;\n",
       "    }\n",
       "\n",
       "    .dataframe thead th {\n",
       "        text-align: right;\n",
       "    }\n",
       "</style>\n",
       "<table border=\"1\" class=\"dataframe\">\n",
       "  <thead>\n",
       "    <tr style=\"text-align: right;\">\n",
       "      <th></th>\n",
       "      <th>Unnamed: 0</th>\n",
       "      <th>Logistic</th>\n",
       "      <th>Lasso</th>\n",
       "      <th>Linear SVM</th>\n",
       "      <th>Random Forest</th>\n",
       "      <th>XGBoost</th>\n",
       "      <th>Performance Range</th>\n",
       "    </tr>\n",
       "  </thead>\n",
       "  <tbody>\n",
       "    <tr>\n",
       "      <th>0</th>\n",
       "      <td>General</td>\n",
       "      <td>0.666 (0.02)</td>\n",
       "      <td>0.666 (0.017)</td>\n",
       "      <td>0.664 (0.02)</td>\n",
       "      <td>0.654 (0.018)</td>\n",
       "      <td>0.66 (0.021)</td>\n",
       "      <td>0.012</td>\n",
       "    </tr>\n",
       "    <tr>\n",
       "      <th>1</th>\n",
       "      <td>Violent</td>\n",
       "      <td>0.681 (0.011)</td>\n",
       "      <td>0.685 (0.011)</td>\n",
       "      <td>0.67 (0.013)</td>\n",
       "      <td>0.674 (0.017)</td>\n",
       "      <td>0.676 (0.009)</td>\n",
       "      <td>0.015</td>\n",
       "    </tr>\n",
       "    <tr>\n",
       "      <th>2</th>\n",
       "      <td>Drug</td>\n",
       "      <td>0.697 (0.035)</td>\n",
       "      <td>0.698 (0.035)</td>\n",
       "      <td>0.691 (0.047)</td>\n",
       "      <td>0.694 (0.013)</td>\n",
       "      <td>0.711 (0.013)</td>\n",
       "      <td>0.020</td>\n",
       "    </tr>\n",
       "    <tr>\n",
       "      <th>3</th>\n",
       "      <td>Property</td>\n",
       "      <td>0.732 (0.028)</td>\n",
       "      <td>0.729 (0.023)</td>\n",
       "      <td>0.717 (0.021)</td>\n",
       "      <td>0.724 (0.037)</td>\n",
       "      <td>0.742 (0.027)</td>\n",
       "      <td>0.026</td>\n",
       "    </tr>\n",
       "    <tr>\n",
       "      <th>4</th>\n",
       "      <td>Felony</td>\n",
       "      <td>0.64 (0.038)</td>\n",
       "      <td>0.641 (0.041)</td>\n",
       "      <td>0.624 (0.028)</td>\n",
       "      <td>0.646 (0.038)</td>\n",
       "      <td>0.645 (0.041)</td>\n",
       "      <td>0.022</td>\n",
       "    </tr>\n",
       "    <tr>\n",
       "      <th>5</th>\n",
       "      <td>Misdemeanor</td>\n",
       "      <td>0.631 (0.03)</td>\n",
       "      <td>0.635 (0.027)</td>\n",
       "      <td>0.629 (0.028)</td>\n",
       "      <td>0.629 (0.021)</td>\n",
       "      <td>0.628 (0.009)</td>\n",
       "      <td>0.006</td>\n",
       "    </tr>\n",
       "  </tbody>\n",
       "</table>\n",
       "</div>"
      ],
      "text/plain": [
       "    Unnamed: 0       Logistic          Lasso     Linear SVM  Random Forest  \\\n",
       "0      General   0.666 (0.02)  0.666 (0.017)   0.664 (0.02)  0.654 (0.018)   \n",
       "1      Violent  0.681 (0.011)  0.685 (0.011)   0.67 (0.013)  0.674 (0.017)   \n",
       "2         Drug  0.697 (0.035)  0.698 (0.035)  0.691 (0.047)  0.694 (0.013)   \n",
       "3     Property  0.732 (0.028)  0.729 (0.023)  0.717 (0.021)  0.724 (0.037)   \n",
       "4       Felony   0.64 (0.038)  0.641 (0.041)  0.624 (0.028)  0.646 (0.038)   \n",
       "5  Misdemeanor   0.631 (0.03)  0.635 (0.027)  0.629 (0.028)  0.629 (0.021)   \n",
       "\n",
       "         XGBoost  Performance Range  \n",
       "0   0.66 (0.021)              0.012  \n",
       "1  0.676 (0.009)              0.015  \n",
       "2  0.711 (0.013)              0.020  \n",
       "3  0.742 (0.027)              0.026  \n",
       "4  0.645 (0.041)              0.022  \n",
       "5  0.628 (0.009)              0.006  "
      ]
     },
     "execution_count": 10,
     "metadata": {},
     "output_type": "execute_result"
    }
   ],
   "source": [
    "result"
   ]
  },
  {
   "cell_type": "code",
   "execution_count": 11,
   "metadata": {
    "hideCode": false,
    "hidePrompt": false
   },
   "outputs": [],
   "source": [
    "cols = result.columns.to_list()\n",
    "values = result.values.tolist()"
   ]
  },
  {
   "cell_type": "code",
   "execution_count": 12,
   "metadata": {
    "hideCode": false,
    "hideOutput": true,
    "hidePrompt": false
   },
   "outputs": [
    {
     "name": "stdout",
     "output_type": "stream",
     "text": [
      "\\begin{array}{l | l | l | l | l | l | r} \\hline\n",
      "    General     & \\verb|0.666 (0.02) | & \\verb|0.666 (0.017)| & \\verb|0.664 (0.02) | & \\verb|0.654 (0.018)| & \\verb|0.66 (0.021) | & 0.01200 \\\\ \\hline\n",
      "    Violent     & \\verb|0.681 (0.011)| & \\verb|0.685 (0.011)| & \\verb|0.67 (0.013) | & \\verb|0.674 (0.017)| & \\verb|0.676 (0.009)| & 0.01500 \\\\ \\hline\n",
      "    Drug        & \\verb|0.697 (0.035)| & \\verb|0.698 (0.035)| & \\verb|0.691 (0.047)| & \\verb|0.694 (0.013)| & \\verb|0.711 (0.013)| & 0.02000 \\\\ \\hline\n",
      "    Property    & \\verb|0.732 (0.028)| & \\verb|0.729 (0.023)| & \\verb|0.717 (0.021)| & \\verb|0.724 (0.037)| & \\verb|0.742 (0.027)| & 0.02600 \\\\ \\hline\n",
      "    Felony      & \\verb|0.64 (0.038) | & \\verb|0.641 (0.041)| & \\verb|0.624 (0.028)| & \\verb|0.646 (0.038)| & \\verb|0.645 (0.041)| & 0.02200 \\\\ \\hline\n",
      "    Misdemeanor & \\verb|0.631 (0.03) | & \\verb|0.635 (0.027)| & \\verb|0.629 (0.028)| & \\verb|0.629 (0.021)| & \\verb|0.628 (0.009)| & 0.00600 \\\\ \\hline\n",
      "\\end{array}\n"
     ]
    }
   ],
   "source": [
    "writer = pytablewriter.LatexTableWriter()\n",
    "writer.value_matrix = values\n",
    "writer.write_table()"
   ]
  }
 ],
 "metadata": {
  "hide_code_all_hidden": false,
  "kernelspec": {
   "display_name": "Python 3",
   "language": "python",
   "name": "python3"
  },
  "language_info": {
   "codemirror_mode": {
    "name": "ipython",
    "version": 3
   },
   "file_extension": ".py",
   "mimetype": "text/x-python",
   "name": "python",
   "nbconvert_exporter": "python",
   "pygments_lexer": "ipython3",
   "version": "3.7.4"
  }
 },
 "nbformat": 4,
 "nbformat_minor": 4
}
