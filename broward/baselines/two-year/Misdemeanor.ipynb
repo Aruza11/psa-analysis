{
 "cells": [
  {
   "cell_type": "code",
   "execution_count": 2,
   "metadata": {},
   "outputs": [
    {
     "name": "stdout",
     "output_type": "stream",
     "text": [
      "Current working directory is now:  C:\\Users\\binha\n"
     ]
    }
   ],
   "source": [
    "import os \n",
    "os.chdir('../../../../')\n",
    "print(\"Current working directory is now: \", os.getcwd())\n",
    "\n",
    "import pandas as pd \n",
    "import numpy as np\n",
    "import csv\n",
    "import utils.baseline_functions as base\n",
    "\n",
    "# restore saved variables\n",
    "#%store -r summary_misdemeanor2_FL"
   ]
  },
  {
   "cell_type": "code",
   "execution_count": 4,
   "metadata": {},
   "outputs": [],
   "source": [
    "### train data\n",
    "data = pd.read_csv(\"~/Documents/Duke/Cynthia Research/KY-analysis-mytrials/broward/data/broward_data.csv\")\n",
    "x = data.loc[:,:'five_year']\n",
    "y = data['misdemeanor_two_year'].values"
   ]
  },
  {
   "cell_type": "code",
   "execution_count": 5,
   "metadata": {
    "scrolled": true
   },
   "outputs": [
    {
     "name": "stderr",
     "output_type": "stream",
     "text": [
      "C:\\Users\\binha\\Documents\\Duke\\Cynthia Research\\psa-analysis - test2\\utils\\fairness_functions.py:88: RuntimeWarning: invalid value encountered in longlong_scalars\n",
      "  prob = labels.sum() / len(labels)\n",
      "C:\\Users\\binha\\Documents\\Duke\\Cynthia Research\\psa-analysis - test2\\utils\\fairness_functions.py:88: RuntimeWarning: invalid value encountered in longlong_scalars\n",
      "  prob = labels.sum() / len(labels)\n",
      "C:\\Users\\binha\\Documents\\Duke\\Cynthia Research\\psa-analysis - test2\\utils\\fairness_functions.py:88: RuntimeWarning: invalid value encountered in longlong_scalars\n",
      "  prob = labels.sum() / len(labels)\n",
      "C:\\Users\\binha\\Documents\\Duke\\Cynthia Research\\psa-analysis - test2\\utils\\fairness_functions.py:88: RuntimeWarning: invalid value encountered in longlong_scalars\n",
      "  prob = labels.sum() / len(labels)\n",
      "C:\\Users\\binha\\Documents\\Duke\\Cynthia Research\\psa-analysis - test2\\utils\\fairness_functions.py:88: RuntimeWarning: invalid value encountered in longlong_scalars\n",
      "  prob = labels.sum() / len(labels)\n",
      "C:\\Users\\binha\\Documents\\Duke\\Cynthia Research\\psa-analysis - test2\\utils\\fairness_functions.py:88: RuntimeWarning: invalid value encountered in longlong_scalars\n",
      "  prob = labels.sum() / len(labels)\n",
      "C:\\Users\\binha\\Documents\\Duke\\Cynthia Research\\psa-analysis - test2\\utils\\fairness_functions.py:88: RuntimeWarning: invalid value encountered in longlong_scalars\n",
      "  prob = labels.sum() / len(labels)\n",
      "C:\\Users\\binha\\Documents\\Duke\\Cynthia Research\\psa-analysis - test2\\utils\\fairness_functions.py:88: RuntimeWarning: invalid value encountered in longlong_scalars\n",
      "  prob = labels.sum() / len(labels)\n",
      "C:\\Users\\binha\\Documents\\Duke\\Cynthia Research\\psa-analysis - test2\\utils\\fairness_functions.py:88: RuntimeWarning: invalid value encountered in longlong_scalars\n",
      "  prob = labels.sum() / len(labels)\n",
      "C:\\Users\\binha\\Documents\\Duke\\Cynthia Research\\psa-analysis - test2\\utils\\fairness_functions.py:88: RuntimeWarning: invalid value encountered in longlong_scalars\n",
      "  prob = labels.sum() / len(labels)\n",
      "C:\\Users\\binha\\Documents\\Duke\\Cynthia Research\\psa-analysis - test2\\utils\\fairness_functions.py:43: RuntimeWarning: divide by zero encountered in longlong_scalars\n",
      "  ratio = fn / fp if fp is not 0 else 0\n",
      "C:\\Users\\binha\\Documents\\Duke\\Cynthia Research\\psa-analysis - test2\\utils\\fairness_functions.py:88: RuntimeWarning: invalid value encountered in longlong_scalars\n",
      "  prob = labels.sum() / len(labels)\n",
      "C:\\Users\\binha\\Documents\\Duke\\Cynthia Research\\psa-analysis - test2\\utils\\fairness_functions.py:43: RuntimeWarning: divide by zero encountered in longlong_scalars\n",
      "  ratio = fn / fp if fp is not 0 else 0\n",
      "C:\\Users\\binha\\Documents\\Duke\\Cynthia Research\\psa-analysis - test2\\utils\\fairness_functions.py:88: RuntimeWarning: invalid value encountered in longlong_scalars\n",
      "  prob = labels.sum() / len(labels)\n",
      "C:\\Users\\binha\\Documents\\Duke\\Cynthia Research\\psa-analysis - test2\\utils\\fairness_functions.py:43: RuntimeWarning: divide by zero encountered in longlong_scalars\n",
      "  ratio = fn / fp if fp is not 0 else 0\n",
      "C:\\Users\\binha\\Documents\\Duke\\Cynthia Research\\psa-analysis - test2\\utils\\fairness_functions.py:88: RuntimeWarning: invalid value encountered in longlong_scalars\n",
      "  prob = labels.sum() / len(labels)\n",
      "C:\\Users\\binha\\Documents\\Duke\\Cynthia Research\\psa-analysis - test2\\utils\\fairness_functions.py:43: RuntimeWarning: divide by zero encountered in longlong_scalars\n",
      "  ratio = fn / fp if fp is not 0 else 0\n",
      "C:\\Users\\binha\\Documents\\Duke\\Cynthia Research\\psa-analysis - test2\\utils\\fairness_functions.py:88: RuntimeWarning: invalid value encountered in longlong_scalars\n",
      "  prob = labels.sum() / len(labels)\n",
      "C:\\Users\\binha\\Documents\\Duke\\Cynthia Research\\psa-analysis - test2\\utils\\fairness_functions.py:43: RuntimeWarning: divide by zero encountered in longlong_scalars\n",
      "  ratio = fn / fp if fp is not 0 else 0\n",
      "C:\\Users\\binha\\Documents\\Duke\\Cynthia Research\\psa-analysis - test2\\utils\\fairness_functions.py:88: RuntimeWarning: invalid value encountered in longlong_scalars\n",
      "  prob = labels.sum() / len(labels)\n",
      "C:\\Users\\binha\\Documents\\Duke\\Cynthia Research\\psa-analysis - test2\\utils\\fairness_functions.py:43: RuntimeWarning: divide by zero encountered in longlong_scalars\n",
      "  ratio = fn / fp if fp is not 0 else 0\n",
      "C:\\Users\\binha\\Documents\\Duke\\Cynthia Research\\psa-analysis - test2\\utils\\fairness_functions.py:88: RuntimeWarning: invalid value encountered in longlong_scalars\n",
      "  prob = labels.sum() / len(labels)\n",
      "C:\\Users\\binha\\Documents\\Duke\\Cynthia Research\\psa-analysis - test2\\utils\\fairness_functions.py:43: RuntimeWarning: divide by zero encountered in longlong_scalars\n",
      "  ratio = fn / fp if fp is not 0 else 0\n",
      "C:\\Users\\binha\\Documents\\Duke\\Cynthia Research\\psa-analysis - test2\\utils\\fairness_functions.py:88: RuntimeWarning: invalid value encountered in longlong_scalars\n",
      "  prob = labels.sum() / len(labels)\n",
      "C:\\Users\\binha\\Documents\\Duke\\Cynthia Research\\psa-analysis - test2\\utils\\fairness_functions.py:43: RuntimeWarning: divide by zero encountered in longlong_scalars\n",
      "  ratio = fn / fp if fp is not 0 else 0\n",
      "C:\\Users\\binha\\Documents\\Duke\\Cynthia Research\\psa-analysis - test2\\utils\\fairness_functions.py:88: RuntimeWarning: invalid value encountered in longlong_scalars\n",
      "  prob = labels.sum() / len(labels)\n",
      "C:\\Users\\binha\\Documents\\Duke\\Cynthia Research\\psa-analysis - test2\\utils\\fairness_functions.py:43: RuntimeWarning: divide by zero encountered in longlong_scalars\n",
      "  ratio = fn / fp if fp is not 0 else 0\n",
      "C:\\Users\\binha\\Documents\\Duke\\Cynthia Research\\psa-analysis - test2\\utils\\fairness_functions.py:88: RuntimeWarning: invalid value encountered in longlong_scalars\n",
      "  prob = labels.sum() / len(labels)\n",
      "C:\\Users\\binha\\Documents\\Duke\\Cynthia Research\\psa-analysis - test2\\utils\\fairness_functions.py:43: RuntimeWarning: divide by zero encountered in longlong_scalars\n",
      "  ratio = fn / fp if fp is not 0 else 0\n",
      "C:\\Users\\binha\\Documents\\Duke\\Cynthia Research\\psa-analysis - test2\\utils\\fairness_functions.py:88: RuntimeWarning: invalid value encountered in longlong_scalars\n",
      "  prob = labels.sum() / len(labels)\n",
      "C:\\Users\\binha\\Documents\\Duke\\Cynthia Research\\psa-analysis - test2\\utils\\fairness_functions.py:43: RuntimeWarning: divide by zero encountered in longlong_scalars\n",
      "  ratio = fn / fp if fp is not 0 else 0\n",
      "C:\\Users\\binha\\Documents\\Duke\\Cynthia Research\\psa-analysis - test2\\utils\\fairness_functions.py:88: RuntimeWarning: invalid value encountered in longlong_scalars\n",
      "  prob = labels.sum() / len(labels)\n",
      "C:\\Users\\binha\\Documents\\Duke\\Cynthia Research\\psa-analysis - test2\\utils\\fairness_functions.py:43: RuntimeWarning: divide by zero encountered in longlong_scalars\n",
      "  ratio = fn / fp if fp is not 0 else 0\n",
      "C:\\Users\\binha\\Documents\\Duke\\Cynthia Research\\psa-analysis - test2\\utils\\fairness_functions.py:88: RuntimeWarning: invalid value encountered in longlong_scalars\n",
      "  prob = labels.sum() / len(labels)\n",
      "C:\\Users\\binha\\Documents\\Duke\\Cynthia Research\\psa-analysis - test2\\utils\\fairness_functions.py:43: RuntimeWarning: divide by zero encountered in longlong_scalars\n",
      "  ratio = fn / fp if fp is not 0 else 0\n",
      "C:\\Users\\binha\\Documents\\Duke\\Cynthia Research\\psa-analysis - test2\\utils\\fairness_functions.py:88: RuntimeWarning: invalid value encountered in longlong_scalars\n",
      "  prob = labels.sum() / len(labels)\n",
      "C:\\Users\\binha\\Documents\\Duke\\Cynthia Research\\psa-analysis - test2\\utils\\fairness_functions.py:43: RuntimeWarning: divide by zero encountered in longlong_scalars\n",
      "  ratio = fn / fp if fp is not 0 else 0\n",
      "C:\\Users\\binha\\Documents\\Duke\\Cynthia Research\\psa-analysis - test2\\utils\\fairness_functions.py:88: RuntimeWarning: invalid value encountered in longlong_scalars\n",
      "  prob = labels.sum() / len(labels)\n",
      "C:\\Users\\binha\\Documents\\Duke\\Cynthia Research\\psa-analysis - test2\\utils\\fairness_functions.py:43: RuntimeWarning: divide by zero encountered in longlong_scalars\n",
      "  ratio = fn / fp if fp is not 0 else 0\n",
      "C:\\Users\\binha\\Documents\\Duke\\Cynthia Research\\psa-analysis - test2\\utils\\fairness_functions.py:88: RuntimeWarning: invalid value encountered in longlong_scalars\n",
      "  prob = labels.sum() / len(labels)\n"
     ]
    }
   ],
   "source": [
    "#### Logistic\n",
    "c = [1e-5, 5e-5, 1e-4, 5e-4, 1e-3, 3e-5, 1e-2, 5e-2]\n",
    "logistic_summary = base.Logistic(X=x,\n",
    "                                 Y=y, \n",
    "                                 C=c,\n",
    "                                 seed=816)\n",
    "\n",
    "#### Lasso\n",
    "c = [1e-5, 5e-5, 1e-4, 5e-4, 1e-3, 3e-5, 1e-2, 5e-2]\n",
    "lasso_summary = base.Lasso(X=x,\n",
    "                           Y=y,\n",
    "                           C=c,\n",
    "                           seed=816)\n",
    "\n",
    "#### LinearSVM\n",
    "c = [1e-5, 5e-5, 1e-4, 5e-4, 1e-3, 3e-5, 1e-2, 5e-2]\n",
    "svm_summary = base.LinearSVM(X=x,\n",
    "                             Y=y,\n",
    "                             C=c,\n",
    "                             seed=816)\n",
    "\n",
    "#### Random Forest\n",
    "n_estimators =  [100,150,200]\n",
    "depth = [1,2]\n",
    "impurity = [0.001, 0.002, 0.003, 0.004]\n",
    "rf_summary = base.RF(X=x,\n",
    "                     Y=y, \n",
    "                     depth=depth, \n",
    "                     estimators=n_estimators, \n",
    "                     impurity=impurity,\n",
    "                     seed=816)\n",
    "\n",
    "learning_rate = [0.05]\n",
    "depth = [1,2]\n",
    "n_estimators = [60,80,100]\n",
    "gamma = [6,8,10]\n",
    "child_weight = [6,8,10]\n",
    "subsample = [0.3]\n",
    "xgb_summary = base.XGB(X=x,\n",
    "                       Y=y,\n",
    "                       learning_rate=learning_rate, \n",
    "                       depth=depth, \n",
    "                       estimators=n_estimators,\n",
    "                       gamma=gamma, \n",
    "                       child_weight=child_weight, \n",
    "                       subsample=subsample, \n",
    "                       seed=816)\n",
    "\n",
    "\n",
    "#### save results\n",
    "summary_misdemeanor2_FL = {\"Logistic\": logistic_summary,\n",
    "                           \"Lasso\": lasso_summary,\n",
    "                           \"LinearSVM\": svm_summary,\n",
    "                           \"RF\": rf_summary,\n",
    "                           \"XGBoost\": xgb_summary}"
   ]
  },
  {
   "cell_type": "code",
   "execution_count": 7,
   "metadata": {},
   "outputs": [
    {
     "data": {
      "text/plain": [
       "[['Logistic', 0.6313352621455554, 0.036745496526457574],\n",
       " ['Lasso', 0.6345070220289882, 0.02676985229143323],\n",
       " ['LinearSVM', 0.6292240329156868, 0.025951469972327355],\n",
       " ['RF', 0.6293875320235693, 0.0580636233576395],\n",
       " ['XGBoost', 0.6284202654851805, 0.04865110368340879]]"
      ]
     },
     "execution_count": 7,
     "metadata": {},
     "output_type": "execute_result"
    }
   ],
   "source": [
    "results = []\n",
    "auc = [] ## for table writing -- the performance range \n",
    "for model_name, model_summary in summary_misdemeanor2_FL.items():\n",
    "    results.append([model_name, np.mean(model_summary['holdout_test_auc']), np.mean(model_summary['auc_diffs'])])\n",
    "    auc.append(np.mean(model_summary['holdout_test_auc']))\n",
    "results"
   ]
  },
  {
   "cell_type": "code",
   "execution_count": 5,
   "metadata": {
    "scrolled": true
   },
   "outputs": [
    {
     "data": {
      "text/plain": [
       "[['Logistic',\n",
       "  [{'C': 0.01}, {'C': 0.01}, {'C': 0.01}, {'C': 0.01}, {'C': 0.05}]],\n",
       " ['Lasso', [{'C': 0.05}, {'C': 0.05}, {'C': 0.05}, {'C': 0.05}, {'C': 0.05}]],\n",
       " ['LinearSVM',\n",
       "  [{'C': 0.0005}, {'C': 0.0001}, {'C': 0.0001}, {'C': 0.0005}, {'C': 3e-05}]],\n",
       " ['RF',\n",
       "  [{'max_depth': 2, 'min_impurity_decrease': 0.003, 'n_estimators': 80},\n",
       "   {'max_depth': 2, 'min_impurity_decrease': 0.003, 'n_estimators': 80},\n",
       "   {'max_depth': 2, 'min_impurity_decrease': 0.003, 'n_estimators': 60},\n",
       "   {'max_depth': 2, 'min_impurity_decrease': 0.003, 'n_estimators': 80},\n",
       "   {'max_depth': 2, 'min_impurity_decrease': 0.003, 'n_estimators': 60}]],\n",
       " ['XGBoost',\n",
       "  [{'gamma': 8,\n",
       "    'learning_rate': 0.05,\n",
       "    'max_depth': 2,\n",
       "    'min_child_weight': 10,\n",
       "    'n_estimators': 80,\n",
       "    'subsample': 0.3},\n",
       "   {'gamma': 10,\n",
       "    'learning_rate': 0.05,\n",
       "    'max_depth': 2,\n",
       "    'min_child_weight': 8,\n",
       "    'n_estimators': 100,\n",
       "    'subsample': 0.3},\n",
       "   {'gamma': 8,\n",
       "    'learning_rate': 0.05,\n",
       "    'max_depth': 2,\n",
       "    'min_child_weight': 8,\n",
       "    'n_estimators': 80,\n",
       "    'subsample': 0.3},\n",
       "   {'gamma': 8,\n",
       "    'learning_rate': 0.05,\n",
       "    'max_depth': 2,\n",
       "    'min_child_weight': 10,\n",
       "    'n_estimators': 100,\n",
       "    'subsample': 0.3},\n",
       "   {'gamma': 8,\n",
       "    'learning_rate': 0.05,\n",
       "    'max_depth': 2,\n",
       "    'min_child_weight': 8,\n",
       "    'n_estimators': 60,\n",
       "    'subsample': 0.3}]]]"
      ]
     },
     "execution_count": 5,
     "metadata": {},
     "output_type": "execute_result"
    }
   ],
   "source": [
    "params = [[model_name, model_summary['best_param']] for model_name, model_summary in summary_M2_FL.items()]\n",
    "params"
   ]
  },
  {
   "cell_type": "code",
   "execution_count": 10,
   "metadata": {},
   "outputs": [],
   "source": [
    "path = \"C:\\\\Users\\\\binha\\\\Documents\\\\Duke\\\\Cynthia Research\\\\KY-analysis-mytrials\\\\broward\\\\broward models\\\\model results\\\\Baselines\\\\Two Year\\\\\"\n",
    "results = [[\"Misdemeanor\", np.str((round(np.mean(logistic_summary['holdout_test_auc']), 3))) + \" (\" + np.str(round(np.std(logistic_summary['holdout_test_auc']), 3)) + \")\", \n",
    "            np.str(round(np.mean(lasso_summary['holdout_test_auc']),3)) + \" (\" + np.str(round(np.std(lasso_summary['holdout_test_auc']), 3)) + \")\", \n",
    "            np.str(round(np.mean(svm_summary['holdout_test_auc']),3)) + \" (\" + np.str(round(np.std(svm_summary['holdout_test_auc']), 3)) + \")\", \n",
    "            np.str(round(np.mean(rf_summary['holdout_test_auc']),3)) + \" (\" + np.str(round(np.std(rf_summary['holdout_test_auc']), 3)) + \")\", \n",
    "            np.str(round(np.mean(xgb_summary['holdout_test_auc']),3)) + \" (\" + np.str(round(np.std(xgb_summary['holdout_test_auc']), 3)) + \")\", \n",
    "            round(np.max(auc) - np.min(auc), 3)]]\n",
    "with open(path + 'Two Year Baseline Summary.csv', 'a') as writeFile:\n",
    "    writer = csv.writer(writeFile)\n",
    "    writer.writerows(results)"
   ]
  }
 ],
 "metadata": {
  "kernelspec": {
   "display_name": "Python 3",
   "language": "python",
   "name": "python3"
  },
  "language_info": {
   "codemirror_mode": {
    "name": "ipython",
    "version": 3
   },
   "file_extension": ".py",
   "mimetype": "text/x-python",
   "name": "python",
   "nbconvert_exporter": "python",
   "pygments_lexer": "ipython3",
   "version": "3.7.4"
  }
 },
 "nbformat": 4,
 "nbformat_minor": 4
}
