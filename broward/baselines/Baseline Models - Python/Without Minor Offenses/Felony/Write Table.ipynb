{
 "cells": [
  {
   "cell_type": "code",
   "execution_count": 1,
   "metadata": {},
   "outputs": [],
   "source": [
    "import pytablewriter\n",
    "import pandas as pd\n",
    "import numpy as np"
   ]
  },
  {
   "cell_type": "code",
   "execution_count": 7,
   "metadata": {},
   "outputs": [],
   "source": [
    "result = pd.read_csv(\"C:\\\\Users\\\\binha\\\\Documents\\\\Duke\\\\Cynthia Research\\\\KY-analysis-mytrials\\\\broward\\\\broward models\\\\Baseline Model Results\\\\Without Minor Offenses\\\\Felony\\\\Felony Summary.csv\")"
   ]
  },
  {
   "cell_type": "code",
   "execution_count": 8,
   "metadata": {},
   "outputs": [
    {
     "data": {
      "text/html": [
       "<div>\n",
       "<style scoped>\n",
       "    .dataframe tbody tr th:only-of-type {\n",
       "        vertical-align: middle;\n",
       "    }\n",
       "\n",
       "    .dataframe tbody tr th {\n",
       "        vertical-align: top;\n",
       "    }\n",
       "\n",
       "    .dataframe thead th {\n",
       "        text-align: right;\n",
       "    }\n",
       "</style>\n",
       "<table border=\"1\" class=\"dataframe\">\n",
       "  <thead>\n",
       "    <tr style=\"text-align: right;\">\n",
       "      <th></th>\n",
       "      <th>Model</th>\n",
       "      <th>train_auc_mean</th>\n",
       "      <th>train_auc_std</th>\n",
       "      <th>validation_auc_mean</th>\n",
       "      <th>validation_auc_std</th>\n",
       "      <th>holdout_test_auc</th>\n",
       "      <th>holdout_test_acc</th>\n",
       "    </tr>\n",
       "  </thead>\n",
       "  <tbody>\n",
       "    <tr>\n",
       "      <th>0</th>\n",
       "      <td>Logistic Regression</td>\n",
       "      <td>0.643649</td>\n",
       "      <td>0.012603</td>\n",
       "      <td>0.633074</td>\n",
       "      <td>0.057931</td>\n",
       "      <td>0.711432</td>\n",
       "      <td>0.725806</td>\n",
       "    </tr>\n",
       "    <tr>\n",
       "      <th>1</th>\n",
       "      <td>Lasso</td>\n",
       "      <td>0.643095</td>\n",
       "      <td>0.011824</td>\n",
       "      <td>0.629451</td>\n",
       "      <td>0.050898</td>\n",
       "      <td>0.706731</td>\n",
       "      <td>0.841398</td>\n",
       "    </tr>\n",
       "    <tr>\n",
       "      <th>2</th>\n",
       "      <td>CART</td>\n",
       "      <td>0.579045</td>\n",
       "      <td>0.018729</td>\n",
       "      <td>0.558866</td>\n",
       "      <td>0.015801</td>\n",
       "      <td>0.593269</td>\n",
       "      <td>0.838710</td>\n",
       "    </tr>\n",
       "    <tr>\n",
       "      <th>3</th>\n",
       "      <td>RF</td>\n",
       "      <td>0.644694</td>\n",
       "      <td>0.011681</td>\n",
       "      <td>0.624993</td>\n",
       "      <td>0.044926</td>\n",
       "      <td>0.680823</td>\n",
       "      <td>0.838710</td>\n",
       "    </tr>\n",
       "    <tr>\n",
       "      <th>4</th>\n",
       "      <td>SVM</td>\n",
       "      <td>0.567876</td>\n",
       "      <td>0.101556</td>\n",
       "      <td>0.580647</td>\n",
       "      <td>0.084749</td>\n",
       "      <td>0.545726</td>\n",
       "      <td>0.838710</td>\n",
       "    </tr>\n",
       "    <tr>\n",
       "      <th>5</th>\n",
       "      <td>XGBoost</td>\n",
       "      <td>0.653757</td>\n",
       "      <td>0.026115</td>\n",
       "      <td>0.635363</td>\n",
       "      <td>0.022765</td>\n",
       "      <td>0.698584</td>\n",
       "      <td>0.838710</td>\n",
       "    </tr>\n",
       "  </tbody>\n",
       "</table>\n",
       "</div>"
      ],
      "text/plain": [
       "                 Model  train_auc_mean  train_auc_std  validation_auc_mean  \\\n",
       "0  Logistic Regression        0.643649       0.012603             0.633074   \n",
       "1                Lasso        0.643095       0.011824             0.629451   \n",
       "2                 CART        0.579045       0.018729             0.558866   \n",
       "3                   RF        0.644694       0.011681             0.624993   \n",
       "4                  SVM        0.567876       0.101556             0.580647   \n",
       "5              XGBoost        0.653757       0.026115             0.635363   \n",
       "\n",
       "   validation_auc_std  holdout_test_auc  holdout_test_acc  \n",
       "0            0.057931          0.711432          0.725806  \n",
       "1            0.050898          0.706731          0.841398  \n",
       "2            0.015801          0.593269          0.838710  \n",
       "3            0.044926          0.680823          0.838710  \n",
       "4            0.084749          0.545726          0.838710  \n",
       "5            0.022765          0.698584          0.838710  "
      ]
     },
     "execution_count": 8,
     "metadata": {},
     "output_type": "execute_result"
    }
   ],
   "source": [
    "result"
   ]
  },
  {
   "cell_type": "code",
   "execution_count": 9,
   "metadata": {},
   "outputs": [],
   "source": [
    "cols = result.columns.to_list()\n",
    "values = result.values.tolist()"
   ]
  },
  {
   "cell_type": "code",
   "execution_count": 10,
   "metadata": {},
   "outputs": [
    {
     "name": "stdout",
     "output_type": "stream",
     "text": [
      "\\begin{array}{l | r | r | r | r | r | r} \\hline\n",
      "    \\verb|      Models       | & \\verb|Train AUC| & \\verb|  STD  | & \\verb|Validation AUC| & \\verb|  STD  | & \\verb|Holdout AUC| & \\verb|Holdout ACC| \\\\ \\hline\n",
      "    \\hline\n",
      "    \\verb|Logistic Regression| &    0.6436 & 0.01260 &         0.6331 & 0.05793 &      0.7114 &      0.7258 \\\\ \\hline\n",
      "    Lasso               &    0.6431 & 0.01182 &         0.6295 & 0.05090 &      0.7067 &      0.8414 \\\\ \\hline\n",
      "    CART                &    0.5790 & 0.01873 &         0.5589 & 0.01580 &      0.5933 &      0.8387 \\\\ \\hline\n",
      "    RF                  &    0.6447 & 0.01168 &         0.6250 & 0.04493 &      0.6808 &      0.8387 \\\\ \\hline\n",
      "    SVM                 &    0.5679 & 0.10156 &         0.5806 & 0.08475 &      0.5457 &      0.8387 \\\\ \\hline\n",
      "    XGBoost             &    0.6538 & 0.02611 &         0.6354 & 0.02276 &      0.6986 &      0.8387 \\\\ \\hline\n",
      "\\end{array}\n"
     ]
    }
   ],
   "source": [
    "writer = pytablewriter.LatexTableWriter()\n",
    "writer.headers = ['Models','Train AUC', 'STD', 'Validation AUC', 'STD', 'Holdout AUC', 'Holdout ACC']\n",
    "writer.value_matrix = values\n",
    "writer.write_table()"
   ]
  }
 ],
 "metadata": {
  "kernelspec": {
   "display_name": "Python 3",
   "language": "python",
   "name": "python3"
  },
  "language_info": {
   "codemirror_mode": {
    "name": "ipython",
    "version": 3
   },
   "file_extension": ".py",
   "mimetype": "text/x-python",
   "name": "python",
   "nbconvert_exporter": "python",
   "pygments_lexer": "ipython3",
   "version": "3.7.0"
  }
 },
 "nbformat": 4,
 "nbformat_minor": 2
}
