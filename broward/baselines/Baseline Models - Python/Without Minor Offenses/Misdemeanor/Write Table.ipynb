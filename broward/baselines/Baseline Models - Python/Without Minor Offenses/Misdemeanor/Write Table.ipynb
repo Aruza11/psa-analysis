{
 "cells": [
  {
   "cell_type": "code",
   "execution_count": 1,
   "metadata": {},
   "outputs": [],
   "source": [
    "import pytablewriter\n",
    "import pandas as pd\n",
    "import numpy as np"
   ]
  },
  {
   "cell_type": "code",
   "execution_count": 6,
   "metadata": {},
   "outputs": [],
   "source": [
    "result = pd.read_csv(\"C:\\\\Users\\\\binha\\\\Documents\\\\Duke\\\\Cynthia Research\\\\KY-analysis-mytrials\\\\broward\\\\broward models\\\\Baseline Model Results\\\\Without Minor Offenses\\\\Misdemeanor\\\\Misdemeanor Summary.csv\")"
   ]
  },
  {
   "cell_type": "code",
   "execution_count": 7,
   "metadata": {},
   "outputs": [
    {
     "data": {
      "text/html": [
       "<div>\n",
       "<style scoped>\n",
       "    .dataframe tbody tr th:only-of-type {\n",
       "        vertical-align: middle;\n",
       "    }\n",
       "\n",
       "    .dataframe tbody tr th {\n",
       "        vertical-align: top;\n",
       "    }\n",
       "\n",
       "    .dataframe thead th {\n",
       "        text-align: right;\n",
       "    }\n",
       "</style>\n",
       "<table border=\"1\" class=\"dataframe\">\n",
       "  <thead>\n",
       "    <tr style=\"text-align: right;\">\n",
       "      <th></th>\n",
       "      <th>Model</th>\n",
       "      <th>train_auc_mean</th>\n",
       "      <th>train_auc_std</th>\n",
       "      <th>validation_auc_mean</th>\n",
       "      <th>validation_auc_std</th>\n",
       "      <th>holdout_test_auc</th>\n",
       "      <th>holdout_test_acc</th>\n",
       "    </tr>\n",
       "  </thead>\n",
       "  <tbody>\n",
       "    <tr>\n",
       "      <th>0</th>\n",
       "      <td>Logistic Regression</td>\n",
       "      <td>0.633459</td>\n",
       "      <td>0.004769</td>\n",
       "      <td>0.616477</td>\n",
       "      <td>0.031527</td>\n",
       "      <td>0.626320</td>\n",
       "      <td>0.693548</td>\n",
       "    </tr>\n",
       "    <tr>\n",
       "      <th>1</th>\n",
       "      <td>Lasso</td>\n",
       "      <td>0.647597</td>\n",
       "      <td>0.004877</td>\n",
       "      <td>0.632922</td>\n",
       "      <td>0.017988</td>\n",
       "      <td>0.630266</td>\n",
       "      <td>0.728495</td>\n",
       "    </tr>\n",
       "    <tr>\n",
       "      <th>2</th>\n",
       "      <td>CART</td>\n",
       "      <td>0.564583</td>\n",
       "      <td>0.032807</td>\n",
       "      <td>0.540792</td>\n",
       "      <td>0.028023</td>\n",
       "      <td>0.500000</td>\n",
       "      <td>0.728495</td>\n",
       "    </tr>\n",
       "    <tr>\n",
       "      <th>3</th>\n",
       "      <td>RF</td>\n",
       "      <td>0.638848</td>\n",
       "      <td>0.006505</td>\n",
       "      <td>0.616052</td>\n",
       "      <td>0.010119</td>\n",
       "      <td>0.603120</td>\n",
       "      <td>0.728495</td>\n",
       "    </tr>\n",
       "    <tr>\n",
       "      <th>4</th>\n",
       "      <td>SVM</td>\n",
       "      <td>0.532993</td>\n",
       "      <td>0.109463</td>\n",
       "      <td>0.530789</td>\n",
       "      <td>0.080264</td>\n",
       "      <td>0.598882</td>\n",
       "      <td>0.728495</td>\n",
       "    </tr>\n",
       "    <tr>\n",
       "      <th>5</th>\n",
       "      <td>XGBoost</td>\n",
       "      <td>0.637352</td>\n",
       "      <td>0.019335</td>\n",
       "      <td>0.618364</td>\n",
       "      <td>0.024277</td>\n",
       "      <td>0.612181</td>\n",
       "      <td>0.728495</td>\n",
       "    </tr>\n",
       "  </tbody>\n",
       "</table>\n",
       "</div>"
      ],
      "text/plain": [
       "                 Model  train_auc_mean  train_auc_std  validation_auc_mean  \\\n",
       "0  Logistic Regression        0.633459       0.004769             0.616477   \n",
       "1                Lasso        0.647597       0.004877             0.632922   \n",
       "2                 CART        0.564583       0.032807             0.540792   \n",
       "3                   RF        0.638848       0.006505             0.616052   \n",
       "4                  SVM        0.532993       0.109463             0.530789   \n",
       "5              XGBoost        0.637352       0.019335             0.618364   \n",
       "\n",
       "   validation_auc_std  holdout_test_auc  holdout_test_acc  \n",
       "0            0.031527          0.626320          0.693548  \n",
       "1            0.017988          0.630266          0.728495  \n",
       "2            0.028023          0.500000          0.728495  \n",
       "3            0.010119          0.603120          0.728495  \n",
       "4            0.080264          0.598882          0.728495  \n",
       "5            0.024277          0.612181          0.728495  "
      ]
     },
     "execution_count": 7,
     "metadata": {},
     "output_type": "execute_result"
    }
   ],
   "source": [
    "result"
   ]
  },
  {
   "cell_type": "code",
   "execution_count": 8,
   "metadata": {},
   "outputs": [],
   "source": [
    "cols = result.columns.to_list()\n",
    "values = result.values.tolist()"
   ]
  },
  {
   "cell_type": "code",
   "execution_count": 9,
   "metadata": {},
   "outputs": [
    {
     "name": "stdout",
     "output_type": "stream",
     "text": [
      "\\begin{array}{l | r | r | r | r | r | r} \\hline\n",
      "    \\verb|      Models       | & \\verb|Train AUC| & \\verb|  STD   | & \\verb|Validation AUC| & \\verb|  STD  | & \\verb|Holdout AUC| & \\verb|Holdout ACC| \\\\ \\hline\n",
      "    \\hline\n",
      "    \\verb|Logistic Regression| &    0.6335 & 0.004769 &         0.6165 & 0.03153 &      0.6263 &      0.6935 \\\\ \\hline\n",
      "    Lasso               &    0.6476 & 0.004877 &         0.6329 & 0.01799 &      0.6303 &      0.7285 \\\\ \\hline\n",
      "    CART                &    0.5646 & 0.032807 &         0.5408 & 0.02802 &      0.5000 &      0.7285 \\\\ \\hline\n",
      "    RF                  &    0.6388 & 0.006505 &         0.6161 & 0.01012 &      0.6031 &      0.7285 \\\\ \\hline\n",
      "    SVM                 &    0.5330 & 0.109463 &         0.5308 & 0.08026 &      0.5989 &      0.7285 \\\\ \\hline\n",
      "    XGBoost             &    0.6374 & 0.019335 &         0.6184 & 0.02428 &      0.6122 &      0.7285 \\\\ \\hline\n",
      "\\end{array}\n"
     ]
    }
   ],
   "source": [
    "writer = pytablewriter.LatexTableWriter()\n",
    "writer.table_name = 'Recidivism Prediction'\n",
    "writer.headers = ['Models','Train AUC', 'STD', 'Validation AUC', 'STD', 'Holdout AUC', 'Holdout ACC']\n",
    "writer.value_matrix = values\n",
    "writer.write_table()"
   ]
  }
 ],
 "metadata": {
  "kernelspec": {
   "display_name": "Python 3",
   "language": "python",
   "name": "python3"
  },
  "language_info": {
   "codemirror_mode": {
    "name": "ipython",
    "version": 3
   },
   "file_extension": ".py",
   "mimetype": "text/x-python",
   "name": "python",
   "nbconvert_exporter": "python",
   "pygments_lexer": "ipython3",
   "version": "3.7.0"
  }
 },
 "nbformat": 4,
 "nbformat_minor": 2
}
