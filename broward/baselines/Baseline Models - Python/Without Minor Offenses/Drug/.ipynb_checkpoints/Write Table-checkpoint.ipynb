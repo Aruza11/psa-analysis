{
 "cells": [
  {
   "cell_type": "code",
   "execution_count": 1,
   "metadata": {},
   "outputs": [],
   "source": [
    "import pytablewriter\n",
    "import pandas as pd\n",
    "import numpy as np"
   ]
  },
  {
   "cell_type": "code",
   "execution_count": 6,
   "metadata": {},
   "outputs": [],
   "source": [
    "result = pd.read_csv(\"C:\\\\Users\\\\binha\\\\Documents\\\\Duke\\\\Cynthia Research\\\\KY-analysis-mytrials\\\\broward\\\\broward models\\\\Baseline Model Results\\\\Without Minor Offenses\\\\Drug\\\\Drug Summary.csv\")"
   ]
  },
  {
   "cell_type": "code",
   "execution_count": 7,
   "metadata": {},
   "outputs": [
    {
     "data": {
      "text/html": [
       "<div>\n",
       "<style scoped>\n",
       "    .dataframe tbody tr th:only-of-type {\n",
       "        vertical-align: middle;\n",
       "    }\n",
       "\n",
       "    .dataframe tbody tr th {\n",
       "        vertical-align: top;\n",
       "    }\n",
       "\n",
       "    .dataframe thead th {\n",
       "        text-align: right;\n",
       "    }\n",
       "</style>\n",
       "<table border=\"1\" class=\"dataframe\">\n",
       "  <thead>\n",
       "    <tr style=\"text-align: right;\">\n",
       "      <th></th>\n",
       "      <th>Model</th>\n",
       "      <th>train_auc_mean</th>\n",
       "      <th>train_auc_std</th>\n",
       "      <th>validation_auc_mean</th>\n",
       "      <th>validation_auc_std</th>\n",
       "      <th>heldout_test_auc</th>\n",
       "      <th>heldout_test_acc</th>\n",
       "    </tr>\n",
       "  </thead>\n",
       "  <tbody>\n",
       "    <tr>\n",
       "      <th>0</th>\n",
       "      <td>Logistic Regression</td>\n",
       "      <td>0.715036</td>\n",
       "      <td>0.014088</td>\n",
       "      <td>0.702265</td>\n",
       "      <td>0.053383</td>\n",
       "      <td>0.654441</td>\n",
       "      <td>0.789189</td>\n",
       "    </tr>\n",
       "    <tr>\n",
       "      <th>1</th>\n",
       "      <td>Lasso</td>\n",
       "      <td>0.742986</td>\n",
       "      <td>0.010833</td>\n",
       "      <td>0.737532</td>\n",
       "      <td>0.041664</td>\n",
       "      <td>0.629865</td>\n",
       "      <td>0.902703</td>\n",
       "    </tr>\n",
       "    <tr>\n",
       "      <th>2</th>\n",
       "      <td>CART</td>\n",
       "      <td>0.690856</td>\n",
       "      <td>0.025083</td>\n",
       "      <td>0.674530</td>\n",
       "      <td>0.049391</td>\n",
       "      <td>0.624792</td>\n",
       "      <td>0.902703</td>\n",
       "    </tr>\n",
       "    <tr>\n",
       "      <th>3</th>\n",
       "      <td>SVM</td>\n",
       "      <td>0.666725</td>\n",
       "      <td>0.023146</td>\n",
       "      <td>0.620429</td>\n",
       "      <td>0.075903</td>\n",
       "      <td>0.584747</td>\n",
       "      <td>0.902703</td>\n",
       "    </tr>\n",
       "    <tr>\n",
       "      <th>4</th>\n",
       "      <td>RF</td>\n",
       "      <td>0.673873</td>\n",
       "      <td>0.024548</td>\n",
       "      <td>0.654340</td>\n",
       "      <td>0.032813</td>\n",
       "      <td>0.630822</td>\n",
       "      <td>0.902703</td>\n",
       "    </tr>\n",
       "    <tr>\n",
       "      <th>5</th>\n",
       "      <td>XGBoost</td>\n",
       "      <td>0.740978</td>\n",
       "      <td>0.054313</td>\n",
       "      <td>0.721068</td>\n",
       "      <td>0.052041</td>\n",
       "      <td>0.675815</td>\n",
       "      <td>0.902703</td>\n",
       "    </tr>\n",
       "  </tbody>\n",
       "</table>\n",
       "</div>"
      ],
      "text/plain": [
       "                 Model  train_auc_mean  train_auc_std  validation_auc_mean  \\\n",
       "0  Logistic Regression        0.715036       0.014088             0.702265   \n",
       "1                Lasso        0.742986       0.010833             0.737532   \n",
       "2                 CART        0.690856       0.025083             0.674530   \n",
       "3                  SVM        0.666725       0.023146             0.620429   \n",
       "4                   RF        0.673873       0.024548             0.654340   \n",
       "5              XGBoost        0.740978       0.054313             0.721068   \n",
       "\n",
       "   validation_auc_std  heldout_test_auc  heldout_test_acc  \n",
       "0            0.053383          0.654441          0.789189  \n",
       "1            0.041664          0.629865          0.902703  \n",
       "2            0.049391          0.624792          0.902703  \n",
       "3            0.075903          0.584747          0.902703  \n",
       "4            0.032813          0.630822          0.902703  \n",
       "5            0.052041          0.675815          0.902703  "
      ]
     },
     "execution_count": 7,
     "metadata": {},
     "output_type": "execute_result"
    }
   ],
   "source": [
    "result"
   ]
  },
  {
   "cell_type": "code",
   "execution_count": 8,
   "metadata": {},
   "outputs": [],
   "source": [
    "cols = result.columns.to_list()\n",
    "values = result.values.tolist()"
   ]
  },
  {
   "cell_type": "code",
   "execution_count": 9,
   "metadata": {},
   "outputs": [
    {
     "name": "stdout",
     "output_type": "stream",
     "text": [
      "\\begin{array}{l | r | r | r | r | r | r} \\hline\n",
      "    \\verb|      Models       | & \\verb|Train AUC| & \\verb|  STD  | & \\verb|Validation AUC| & \\verb|  STD  | & \\verb|Holdout AUC| & \\verb|Holdout ACC| \\\\ \\hline\n",
      "    \\hline\n",
      "    \\verb|Logistic Regression| &    0.7150 & 0.01409 &         0.7023 & 0.05338 &      0.6544 &      0.7892 \\\\ \\hline\n",
      "    Lasso               &    0.7430 & 0.01083 &         0.7375 & 0.04166 &      0.6299 &      0.9027 \\\\ \\hline\n",
      "    CART                &    0.6909 & 0.02508 &         0.6745 & 0.04939 &      0.6248 &      0.9027 \\\\ \\hline\n",
      "    SVM                 &    0.6667 & 0.02315 &         0.6204 & 0.07590 &      0.5847 &      0.9027 \\\\ \\hline\n",
      "    RF                  &    0.6739 & 0.02455 &         0.6543 & 0.03281 &      0.6308 &      0.9027 \\\\ \\hline\n",
      "    XGBoost             &    0.7410 & 0.05431 &         0.7211 & 0.05204 &      0.6758 &      0.9027 \\\\ \\hline\n",
      "\\end{array}\n"
     ]
    }
   ],
   "source": [
    "writer = pytablewriter.LatexTableWriter()\n",
    "writer.table_name = 'Recidivism Prediction'\n",
    "writer.headers = ['Models','Train AUC', 'STD', 'Validation AUC', 'STD', 'Holdout AUC', 'Holdout ACC']\n",
    "writer.value_matrix = values\n",
    "writer.write_table()"
   ]
  }
 ],
 "metadata": {
  "kernelspec": {
   "display_name": "Python 3",
   "language": "python",
   "name": "python3"
  },
  "language_info": {
   "codemirror_mode": {
    "name": "ipython",
    "version": 3
   },
   "file_extension": ".py",
   "mimetype": "text/x-python",
   "name": "python",
   "nbconvert_exporter": "python",
   "pygments_lexer": "ipython3",
   "version": "3.7.0"
  }
 },
 "nbformat": 4,
 "nbformat_minor": 2
}
