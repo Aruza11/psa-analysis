{
 "cells": [
  {
   "cell_type": "code",
   "execution_count": 1,
   "metadata": {},
   "outputs": [],
   "source": [
    "import pytablewriter\n",
    "import pandas as pd\n",
    "import numpy as np"
   ]
  },
  {
   "cell_type": "code",
   "execution_count": 6,
   "metadata": {},
   "outputs": [],
   "source": [
    "result = pd.read_csv(\"C:\\\\Users\\\\binha\\\\Documents\\\\Duke\\\\Cynthia Research\\\\KY-analysis-mytrials\\\\broward\\\\broward models\\\\Baseline Model Results\\\\Without Minor Offenses\\\\Property\\\\Property Summary.csv\")"
   ]
  },
  {
   "cell_type": "code",
   "execution_count": 7,
   "metadata": {},
   "outputs": [
    {
     "data": {
      "text/html": [
       "<div>\n",
       "<style scoped>\n",
       "    .dataframe tbody tr th:only-of-type {\n",
       "        vertical-align: middle;\n",
       "    }\n",
       "\n",
       "    .dataframe tbody tr th {\n",
       "        vertical-align: top;\n",
       "    }\n",
       "\n",
       "    .dataframe thead th {\n",
       "        text-align: right;\n",
       "    }\n",
       "</style>\n",
       "<table border=\"1\" class=\"dataframe\">\n",
       "  <thead>\n",
       "    <tr style=\"text-align: right;\">\n",
       "      <th></th>\n",
       "      <th>Model</th>\n",
       "      <th>train_auc_mean</th>\n",
       "      <th>train_auc_std</th>\n",
       "      <th>validation_auc_mean</th>\n",
       "      <th>validation_auc_std</th>\n",
       "      <th>holdout_test_auc</th>\n",
       "      <th>holdout_test_acc</th>\n",
       "    </tr>\n",
       "  </thead>\n",
       "  <tbody>\n",
       "    <tr>\n",
       "      <th>0</th>\n",
       "      <td>Logistic Regression</td>\n",
       "      <td>0.754942</td>\n",
       "      <td>0.008733</td>\n",
       "      <td>0.746047</td>\n",
       "      <td>0.032088</td>\n",
       "      <td>0.720988</td>\n",
       "      <td>0.776882</td>\n",
       "    </tr>\n",
       "    <tr>\n",
       "      <th>1</th>\n",
       "      <td>Lasso</td>\n",
       "      <td>0.768803</td>\n",
       "      <td>0.008445</td>\n",
       "      <td>0.748154</td>\n",
       "      <td>0.036023</td>\n",
       "      <td>0.747933</td>\n",
       "      <td>0.922043</td>\n",
       "    </tr>\n",
       "    <tr>\n",
       "      <th>2</th>\n",
       "      <td>CART</td>\n",
       "      <td>0.657288</td>\n",
       "      <td>0.013736</td>\n",
       "      <td>0.628732</td>\n",
       "      <td>0.032809</td>\n",
       "      <td>0.586957</td>\n",
       "      <td>0.927419</td>\n",
       "    </tr>\n",
       "    <tr>\n",
       "      <th>3</th>\n",
       "      <td>SVM</td>\n",
       "      <td>0.697458</td>\n",
       "      <td>0.029089</td>\n",
       "      <td>0.680998</td>\n",
       "      <td>0.033854</td>\n",
       "      <td>0.721095</td>\n",
       "      <td>0.927419</td>\n",
       "    </tr>\n",
       "    <tr>\n",
       "      <th>4</th>\n",
       "      <td>RF</td>\n",
       "      <td>0.704985</td>\n",
       "      <td>0.021645</td>\n",
       "      <td>0.685284</td>\n",
       "      <td>0.022082</td>\n",
       "      <td>0.656844</td>\n",
       "      <td>0.927419</td>\n",
       "    </tr>\n",
       "    <tr>\n",
       "      <th>5</th>\n",
       "      <td>XGBoost</td>\n",
       "      <td>0.757179</td>\n",
       "      <td>0.039002</td>\n",
       "      <td>0.752370</td>\n",
       "      <td>0.041747</td>\n",
       "      <td>0.716962</td>\n",
       "      <td>0.927419</td>\n",
       "    </tr>\n",
       "  </tbody>\n",
       "</table>\n",
       "</div>"
      ],
      "text/plain": [
       "                 Model  train_auc_mean  train_auc_std  validation_auc_mean  \\\n",
       "0  Logistic Regression        0.754942       0.008733             0.746047   \n",
       "1                Lasso        0.768803       0.008445             0.748154   \n",
       "2                 CART        0.657288       0.013736             0.628732   \n",
       "3                  SVM        0.697458       0.029089             0.680998   \n",
       "4                   RF        0.704985       0.021645             0.685284   \n",
       "5              XGBoost        0.757179       0.039002             0.752370   \n",
       "\n",
       "   validation_auc_std  holdout_test_auc  holdout_test_acc  \n",
       "0            0.032088          0.720988          0.776882  \n",
       "1            0.036023          0.747933          0.922043  \n",
       "2            0.032809          0.586957          0.927419  \n",
       "3            0.033854          0.721095          0.927419  \n",
       "4            0.022082          0.656844          0.927419  \n",
       "5            0.041747          0.716962          0.927419  "
      ]
     },
     "execution_count": 7,
     "metadata": {},
     "output_type": "execute_result"
    }
   ],
   "source": [
    "result"
   ]
  },
  {
   "cell_type": "code",
   "execution_count": 8,
   "metadata": {},
   "outputs": [],
   "source": [
    "cols = result.columns.to_list()\n",
    "values = result.values.tolist()"
   ]
  },
  {
   "cell_type": "code",
   "execution_count": 10,
   "metadata": {},
   "outputs": [
    {
     "name": "stdout",
     "output_type": "stream",
     "text": [
      "\\begin{array}{l | r | r | r | r | r | r} \\hline\n",
      "    \\verb|      Models       | & \\verb|Train AUC| & \\verb|  STD   | & \\verb|Validation AUC| & \\verb|  STD  | & \\verb|Holdout AUC| & \\verb|Holdout ACC| \\\\ \\hline\n",
      "    \\hline\n",
      "    \\verb|Logistic Regression| &    0.7549 & 0.008733 &         0.7460 & 0.03209 &      0.7210 &      0.7769 \\\\ \\hline\n",
      "    Lasso               &    0.7688 & 0.008445 &         0.7482 & 0.03602 &      0.7479 &      0.9220 \\\\ \\hline\n",
      "    CART                &    0.6573 & 0.013736 &         0.6287 & 0.03281 &      0.5870 &      0.9274 \\\\ \\hline\n",
      "    SVM                 &    0.6975 & 0.029089 &         0.6810 & 0.03385 &      0.7211 &      0.9274 \\\\ \\hline\n",
      "    RF                  &    0.7050 & 0.021645 &         0.6853 & 0.02208 &      0.6568 &      0.9274 \\\\ \\hline\n",
      "    XGBoost             &    0.7572 & 0.039002 &         0.7524 & 0.04175 &      0.7170 &      0.9274 \\\\ \\hline\n",
      "\\end{array}\n"
     ]
    }
   ],
   "source": [
    "writer = pytablewriter.LatexTableWriter()\n",
    "writer.headers = ['Models','Train AUC', 'STD', 'Validation AUC', 'STD', 'Holdout AUC', 'Holdout ACC']\n",
    "writer.value_matrix = values\n",
    "writer.write_table()"
   ]
  }
 ],
 "metadata": {
  "kernelspec": {
   "display_name": "Python 3",
   "language": "python",
   "name": "python3"
  },
  "language_info": {
   "codemirror_mode": {
    "name": "ipython",
    "version": 3
   },
   "file_extension": ".py",
   "mimetype": "text/x-python",
   "name": "python",
   "nbconvert_exporter": "python",
   "pygments_lexer": "ipython3",
   "version": "3.7.0"
  }
 },
 "nbformat": 4,
 "nbformat_minor": 2
}
