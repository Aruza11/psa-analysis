{
 "cells": [
  {
   "cell_type": "code",
   "execution_count": 3,
   "metadata": {},
   "outputs": [],
   "source": [
    "import pytablewriter\n",
    "import pandas as pd\n",
    "import numpy as np"
   ]
  },
  {
   "cell_type": "code",
   "execution_count": 6,
   "metadata": {},
   "outputs": [],
   "source": [
    "result = pd.read_csv(\"C:\\\\Users\\\\binha\\\\Documents\\\\Duke\\\\Cynthia Research\\\\KY-analysis-mytrials\\\\broward\\\\broward models\\\\Baseline Model Results\\\\Without Minor Offenses\\\\Recidivism\\\\Recidivism Summary.csv\")"
   ]
  },
  {
   "cell_type": "code",
   "execution_count": 8,
   "metadata": {},
   "outputs": [
    {
     "data": {
      "text/html": [
       "<div>\n",
       "<style scoped>\n",
       "    .dataframe tbody tr th:only-of-type {\n",
       "        vertical-align: middle;\n",
       "    }\n",
       "\n",
       "    .dataframe tbody tr th {\n",
       "        vertical-align: top;\n",
       "    }\n",
       "\n",
       "    .dataframe thead th {\n",
       "        text-align: right;\n",
       "    }\n",
       "</style>\n",
       "<table border=\"1\" class=\"dataframe\">\n",
       "  <thead>\n",
       "    <tr style=\"text-align: right;\">\n",
       "      <th></th>\n",
       "      <th>Model</th>\n",
       "      <th>train_auc_mean</th>\n",
       "      <th>train_auc_std</th>\n",
       "      <th>validation_auc_mean</th>\n",
       "      <th>validation_auc_std</th>\n",
       "      <th>holdout_test_auc</th>\n",
       "      <th>holdout_test_acc</th>\n",
       "    </tr>\n",
       "  </thead>\n",
       "  <tbody>\n",
       "    <tr>\n",
       "      <th>0</th>\n",
       "      <td>Logistic Regression</td>\n",
       "      <td>0.682995</td>\n",
       "      <td>0.006120</td>\n",
       "      <td>0.663736</td>\n",
       "      <td>0.028411</td>\n",
       "      <td>0.712828</td>\n",
       "      <td>0.639785</td>\n",
       "    </tr>\n",
       "    <tr>\n",
       "      <th>1</th>\n",
       "      <td>Lasso</td>\n",
       "      <td>0.664121</td>\n",
       "      <td>0.006052</td>\n",
       "      <td>0.658243</td>\n",
       "      <td>0.022303</td>\n",
       "      <td>0.704943</td>\n",
       "      <td>0.645161</td>\n",
       "    </tr>\n",
       "    <tr>\n",
       "      <th>2</th>\n",
       "      <td>CART</td>\n",
       "      <td>0.633084</td>\n",
       "      <td>0.015076</td>\n",
       "      <td>0.610246</td>\n",
       "      <td>0.021222</td>\n",
       "      <td>0.644670</td>\n",
       "      <td>0.629032</td>\n",
       "    </tr>\n",
       "    <tr>\n",
       "      <th>3</th>\n",
       "      <td>SVM</td>\n",
       "      <td>0.674256</td>\n",
       "      <td>0.006138</td>\n",
       "      <td>0.655173</td>\n",
       "      <td>0.026922</td>\n",
       "      <td>0.712931</td>\n",
       "      <td>0.645161</td>\n",
       "    </tr>\n",
       "    <tr>\n",
       "      <th>4</th>\n",
       "      <td>RF</td>\n",
       "      <td>0.673526</td>\n",
       "      <td>0.007150</td>\n",
       "      <td>0.657332</td>\n",
       "      <td>0.026079</td>\n",
       "      <td>0.696412</td>\n",
       "      <td>0.610215</td>\n",
       "    </tr>\n",
       "    <tr>\n",
       "      <th>5</th>\n",
       "      <td>XGBoost</td>\n",
       "      <td>0.679564</td>\n",
       "      <td>0.018675</td>\n",
       "      <td>0.664410</td>\n",
       "      <td>0.017202</td>\n",
       "      <td>0.682531</td>\n",
       "      <td>0.647849</td>\n",
       "    </tr>\n",
       "  </tbody>\n",
       "</table>\n",
       "</div>"
      ],
      "text/plain": [
       "                 Model  train_auc_mean  train_auc_std  validation_auc_mean  \\\n",
       "0  Logistic Regression        0.682995       0.006120             0.663736   \n",
       "1                Lasso        0.664121       0.006052             0.658243   \n",
       "2                 CART        0.633084       0.015076             0.610246   \n",
       "3                  SVM        0.674256       0.006138             0.655173   \n",
       "4                   RF        0.673526       0.007150             0.657332   \n",
       "5              XGBoost        0.679564       0.018675             0.664410   \n",
       "\n",
       "   validation_auc_std  holdout_test_auc  holdout_test_acc  \n",
       "0            0.028411          0.712828          0.639785  \n",
       "1            0.022303          0.704943          0.645161  \n",
       "2            0.021222          0.644670          0.629032  \n",
       "3            0.026922          0.712931          0.645161  \n",
       "4            0.026079          0.696412          0.610215  \n",
       "5            0.017202          0.682531          0.647849  "
      ]
     },
     "execution_count": 8,
     "metadata": {},
     "output_type": "execute_result"
    }
   ],
   "source": [
    "result"
   ]
  },
  {
   "cell_type": "code",
   "execution_count": 9,
   "metadata": {},
   "outputs": [],
   "source": [
    "cols = result.columns.to_list()\n",
    "values = result.values.tolist()"
   ]
  },
  {
   "cell_type": "code",
   "execution_count": 14,
   "metadata": {},
   "outputs": [
    {
     "name": "stdout",
     "output_type": "stream",
     "text": [
      "\\begin{array}{l | r | r | r | r | r | r} \\hline\n",
      "    \\verb|      Models       | & \\verb|Train AUC| & \\verb|  STD   | & \\verb|Validation AUC| & \\verb|  STD  | & \\verb|Holdout AUC| & \\verb|Holdout ACC| \\\\ \\hline\n",
      "    \\hline\n",
      "    \\verb|Logistic Regression| &    0.6830 & 0.006120 &         0.6637 & 0.02841 &      0.7128 &      0.6398 \\\\ \\hline\n",
      "    Lasso               &    0.6641 & 0.006052 &         0.6582 & 0.02230 &      0.7049 &      0.6452 \\\\ \\hline\n",
      "    CART                &    0.6331 & 0.015076 &         0.6102 & 0.02122 &      0.6447 &      0.6290 \\\\ \\hline\n",
      "    SVM                 &    0.6743 & 0.006138 &         0.6552 & 0.02692 &      0.7129 &      0.6452 \\\\ \\hline\n",
      "    RF                  &    0.6735 & 0.007150 &         0.6573 & 0.02608 &      0.6964 &      0.6102 \\\\ \\hline\n",
      "    XGBoost             &    0.6796 & 0.018675 &         0.6644 & 0.01720 &      0.6825 &      0.6478 \\\\ \\hline\n",
      "\\end{array}\n"
     ]
    }
   ],
   "source": [
    "writer = pytablewriter.LatexTableWriter()\n",
    "writer.table_name = 'Recidivism Prediction'\n",
    "writer.headers = ['Models','Train AUC', 'STD', 'Validation AUC', 'STD', 'Holdout AUC', 'Holdout ACC']\n",
    "writer.value_matrix = values\n",
    "writer.write_table()"
   ]
  }
 ],
 "metadata": {
  "kernelspec": {
   "display_name": "Python 3",
   "language": "python",
   "name": "python3"
  },
  "language_info": {
   "codemirror_mode": {
    "name": "ipython",
    "version": 3
   },
   "file_extension": ".py",
   "mimetype": "text/x-python",
   "name": "python",
   "nbconvert_exporter": "python",
   "pygments_lexer": "ipython3",
   "version": "3.7.0"
  }
 },
 "nbformat": 4,
 "nbformat_minor": 2
}
