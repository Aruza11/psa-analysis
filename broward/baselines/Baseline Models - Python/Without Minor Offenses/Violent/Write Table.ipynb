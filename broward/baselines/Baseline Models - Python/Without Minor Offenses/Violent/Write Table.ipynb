{
 "cells": [
  {
   "cell_type": "code",
   "execution_count": 1,
   "metadata": {},
   "outputs": [],
   "source": [
    "import pytablewriter\n",
    "import pandas as pd\n",
    "import numpy as np"
   ]
  },
  {
   "cell_type": "code",
   "execution_count": 6,
   "metadata": {},
   "outputs": [],
   "source": [
    "result = pd.read_csv(\"C:\\\\Users\\\\binha\\\\Documents\\\\Duke\\\\Cynthia Research\\\\KY-analysis-mytrials\\\\broward\\\\broward models\\\\Baseline Model Results\\\\Without Minor Offenses\\\\Violent\\\\Violent Summary.csv\")"
   ]
  },
  {
   "cell_type": "code",
   "execution_count": 7,
   "metadata": {},
   "outputs": [
    {
     "data": {
      "text/html": [
       "<div>\n",
       "<style scoped>\n",
       "    .dataframe tbody tr th:only-of-type {\n",
       "        vertical-align: middle;\n",
       "    }\n",
       "\n",
       "    .dataframe tbody tr th {\n",
       "        vertical-align: top;\n",
       "    }\n",
       "\n",
       "    .dataframe thead th {\n",
       "        text-align: right;\n",
       "    }\n",
       "</style>\n",
       "<table border=\"1\" class=\"dataframe\">\n",
       "  <thead>\n",
       "    <tr style=\"text-align: right;\">\n",
       "      <th></th>\n",
       "      <th>Model</th>\n",
       "      <th>train_auc_mean</th>\n",
       "      <th>train_auc_std</th>\n",
       "      <th>validation_auc_mean</th>\n",
       "      <th>validation_auc_std</th>\n",
       "      <th>holdout_test_auc</th>\n",
       "      <th>holdout_test_acc</th>\n",
       "    </tr>\n",
       "  </thead>\n",
       "  <tbody>\n",
       "    <tr>\n",
       "      <th>0</th>\n",
       "      <td>Logistic Regression</td>\n",
       "      <td>0.672957</td>\n",
       "      <td>0.005149</td>\n",
       "      <td>0.664430</td>\n",
       "      <td>0.036453</td>\n",
       "      <td>0.672375</td>\n",
       "      <td>0.704301</td>\n",
       "    </tr>\n",
       "    <tr>\n",
       "      <th>1</th>\n",
       "      <td>Lasso</td>\n",
       "      <td>0.688887</td>\n",
       "      <td>0.007591</td>\n",
       "      <td>0.677211</td>\n",
       "      <td>0.035611</td>\n",
       "      <td>0.672753</td>\n",
       "      <td>0.809140</td>\n",
       "    </tr>\n",
       "    <tr>\n",
       "      <th>2</th>\n",
       "      <td>CART</td>\n",
       "      <td>0.603676</td>\n",
       "      <td>0.008910</td>\n",
       "      <td>0.592156</td>\n",
       "      <td>0.027329</td>\n",
       "      <td>0.528808</td>\n",
       "      <td>0.811828</td>\n",
       "    </tr>\n",
       "    <tr>\n",
       "      <th>3</th>\n",
       "      <td>SVM</td>\n",
       "      <td>0.653908</td>\n",
       "      <td>0.032910</td>\n",
       "      <td>0.637192</td>\n",
       "      <td>0.012520</td>\n",
       "      <td>0.577247</td>\n",
       "      <td>0.811828</td>\n",
       "    </tr>\n",
       "    <tr>\n",
       "      <th>4</th>\n",
       "      <td>RF</td>\n",
       "      <td>0.676829</td>\n",
       "      <td>0.006458</td>\n",
       "      <td>0.658821</td>\n",
       "      <td>0.043038</td>\n",
       "      <td>0.575237</td>\n",
       "      <td>0.811828</td>\n",
       "    </tr>\n",
       "    <tr>\n",
       "      <th>5</th>\n",
       "      <td>XGBoost</td>\n",
       "      <td>0.646132</td>\n",
       "      <td>0.015908</td>\n",
       "      <td>0.631203</td>\n",
       "      <td>0.012420</td>\n",
       "      <td>0.623817</td>\n",
       "      <td>0.811828</td>\n",
       "    </tr>\n",
       "  </tbody>\n",
       "</table>\n",
       "</div>"
      ],
      "text/plain": [
       "                 Model  train_auc_mean  train_auc_std  validation_auc_mean  \\\n",
       "0  Logistic Regression        0.672957       0.005149             0.664430   \n",
       "1                Lasso        0.688887       0.007591             0.677211   \n",
       "2                 CART        0.603676       0.008910             0.592156   \n",
       "3                  SVM        0.653908       0.032910             0.637192   \n",
       "4                   RF        0.676829       0.006458             0.658821   \n",
       "5              XGBoost        0.646132       0.015908             0.631203   \n",
       "\n",
       "   validation_auc_std  holdout_test_auc  holdout_test_acc  \n",
       "0            0.036453          0.672375          0.704301  \n",
       "1            0.035611          0.672753          0.809140  \n",
       "2            0.027329          0.528808          0.811828  \n",
       "3            0.012520          0.577247          0.811828  \n",
       "4            0.043038          0.575237          0.811828  \n",
       "5            0.012420          0.623817          0.811828  "
      ]
     },
     "execution_count": 7,
     "metadata": {},
     "output_type": "execute_result"
    }
   ],
   "source": [
    "result"
   ]
  },
  {
   "cell_type": "code",
   "execution_count": 8,
   "metadata": {},
   "outputs": [],
   "source": [
    "cols = result.columns.to_list()\n",
    "values = result.values.tolist()"
   ]
  },
  {
   "cell_type": "code",
   "execution_count": 9,
   "metadata": {},
   "outputs": [
    {
     "name": "stdout",
     "output_type": "stream",
     "text": [
      "\\begin{array}{l | r | r | r | r | r | r} \\hline\n",
      "    \\verb|      Models       | & \\verb|Train AUC| & \\verb|  STD   | & \\verb|Validation AUC| & \\verb|  STD  | & \\verb|Holdout AUC| & \\verb|Holdout ACC| \\\\ \\hline\n",
      "    \\hline\n",
      "    \\verb|Logistic Regression| &    0.6730 & 0.005149 &         0.6644 & 0.03645 &      0.6724 &      0.7043 \\\\ \\hline\n",
      "    Lasso               &    0.6889 & 0.007591 &         0.6772 & 0.03561 &      0.6728 &      0.8091 \\\\ \\hline\n",
      "    CART                &    0.6037 & 0.008910 &         0.5922 & 0.02733 &      0.5288 &      0.8118 \\\\ \\hline\n",
      "    SVM                 &    0.6539 & 0.032910 &         0.6372 & 0.01252 &      0.5772 &      0.8118 \\\\ \\hline\n",
      "    RF                  &    0.6768 & 0.006458 &         0.6588 & 0.04304 &      0.5752 &      0.8118 \\\\ \\hline\n",
      "    XGBoost             &    0.6461 & 0.015908 &         0.6312 & 0.01242 &      0.6238 &      0.8118 \\\\ \\hline\n",
      "\\end{array}\n"
     ]
    }
   ],
   "source": [
    "writer = pytablewriter.LatexTableWriter()\n",
    "writer.table_name = 'Recidivism Prediction'\n",
    "writer.headers = ['Models','Train AUC', 'STD', 'Validation AUC', 'STD', 'Holdout AUC', 'Holdout ACC']\n",
    "writer.value_matrix = values\n",
    "writer.write_table()"
   ]
  }
 ],
 "metadata": {
  "kernelspec": {
   "display_name": "Python 3",
   "language": "python",
   "name": "python3"
  },
  "language_info": {
   "codemirror_mode": {
    "name": "ipython",
    "version": 3
   },
   "file_extension": ".py",
   "mimetype": "text/x-python",
   "name": "python",
   "nbconvert_exporter": "python",
   "pygments_lexer": "ipython3",
   "version": "3.7.0"
  }
 },
 "nbformat": 4,
 "nbformat_minor": 2
}
