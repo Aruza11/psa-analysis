{
 "cells": [
  {
   "cell_type": "code",
   "execution_count": 13,
   "metadata": {},
   "outputs": [],
   "source": [
    "import pandas as pd \n",
    "import numpy as np\n",
    "import csv\n",
    "from sklearn.model_selection import KFold\n",
    "from sklearn.metrics import roc_curve, auc"
   ]
  },
  {
   "cell_type": "code",
   "execution_count": 16,
   "metadata": {},
   "outputs": [],
   "source": [
    "### load data\n",
    "data = pd.read_csv(\"~/Documents/Duke/Cynthia Research/KY-analysis-mytrials/broward/data/broward_arnold.csv\")\n",
    "data = data.drop(['person_id', 'screening_date'], axis=1)\n",
    "X = data['arnold_nca_raw']\n",
    "\n",
    "## set up cross validation\n",
    "cv = KFold(n_splits=5,shuffle=True,random_state=816)"
   ]
  },
  {
   "cell_type": "markdown",
   "metadata": {},
   "source": [
    "#### Arnold PSA"
   ]
  },
  {
   "cell_type": "code",
   "execution_count": 17,
   "metadata": {},
   "outputs": [],
   "source": [
    "labels = ['recid_two_year', 'recid_six_month', 'recid_drug', 'recid_property', 'recid_F', 'recid_M']\n",
    "results = []\n",
    "for l in labels:\n",
    "    Y = data[l].values\n",
    "    loop = []\n",
    "    i = 1\n",
    "    for train, test in cv.split(X, Y):\n",
    "        y_pred, y_test = X[test], Y[test]\n",
    "        fpr,tpr,thresholds = roc_curve(y_test, y_pred)\n",
    "        loop.append(auc(fpr, tpr))\n",
    "        i+=1 \n",
    "    results.append([l, round(np.mean(loop), 3), round(np.std(loop),3)])"
   ]
  },
  {
   "cell_type": "markdown",
   "metadata": {},
   "source": [
    "#### Violence"
   ]
  },
  {
   "cell_type": "code",
   "execution_count": 20,
   "metadata": {},
   "outputs": [],
   "source": [
    "X = data['arnold_nvca_raw'].values\n",
    "Y = data['recid_violent'].values\n",
    "violence = []\n",
    "i = 1\n",
    "for train, test in cv.split(X, Y):\n",
    "    y_pred, y_test = X[test], Y[test]\n",
    "    fpr,tpr,thresholds = roc_curve(y_test, y_pred)\n",
    "    violence.append(auc(fpr, tpr))\n",
    "    i+=1 \n",
    "results.append(['recid_violence', round(np.mean(violence),3), round(np.std(violence),3)])"
   ]
  },
  {
   "cell_type": "code",
   "execution_count": 21,
   "metadata": {},
   "outputs": [
    {
     "data": {
      "text/plain": [
       "[['recid_two_year', 0.611, 0.045],\n",
       " ['recid_six_month', 0.585, 0.039],\n",
       " ['recid_drug', 0.558, 0.056],\n",
       " ['recid_property', 0.657, 0.058],\n",
       " ['recid_F', 0.62, 0.045],\n",
       " ['recid_M', 0.551, 0.026],\n",
       " ['recid_violence', 0.649, 0.029]]"
      ]
     },
     "execution_count": 21,
     "metadata": {},
     "output_type": "execute_result"
    }
   ],
   "source": [
    "results"
   ]
  }
 ],
 "metadata": {
  "kernelspec": {
   "display_name": "Python 3",
   "language": "python",
   "name": "python3"
  },
  "language_info": {
   "codemirror_mode": {
    "name": "ipython",
    "version": 3
   },
   "file_extension": ".py",
   "mimetype": "text/x-python",
   "name": "python",
   "nbconvert_exporter": "python",
   "pygments_lexer": "ipython3",
   "version": "3.7.0"
  }
 },
 "nbformat": 4,
 "nbformat_minor": 2
}
