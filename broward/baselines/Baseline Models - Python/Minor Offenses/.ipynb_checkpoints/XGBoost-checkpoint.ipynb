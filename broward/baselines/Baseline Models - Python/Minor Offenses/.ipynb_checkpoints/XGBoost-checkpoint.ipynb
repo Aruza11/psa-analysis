{
 "cells": [
  {
   "cell_type": "code",
   "execution_count": 5,
   "metadata": {},
   "outputs": [],
   "source": [
    "import pandas as pd \n",
    "import numpy as np\n",
    "import xgboost as xgb\n",
    "import csv\n",
    "\n",
    "from sklearn.model_selection import train_test_split, KFold\n",
    "from sklearn.metrics import roc_curve, auc\n",
    "from sklearn.utils import shuffle\n",
    "\n",
    "import matplotlib.pyplot as plt"
   ]
  },
  {
   "cell_type": "code",
   "execution_count": 6,
   "metadata": {},
   "outputs": [],
   "source": [
    "train_pd = pd.read_csv(\"~/Documents/Duke/Cynthia Research/KY-analysis-mytrials/broward/data/train.csv\")\n",
    "test_pd = pd.read_csv(\"~/Documents/Duke/Cynthia Research/KY-analysis-mytrials/broward/data/test.csv\")\n",
    "\n",
    "x_train, y_train = train_pd.values[:,:-1], train_pd.values[:,-1]\n",
    "x_test, y_test = test_pd.values[:,:-1], test_pd.values[:,-1]"
   ]
  },
  {
   "cell_type": "markdown",
   "metadata": {},
   "source": [
    "#### Train ACC/AUC"
   ]
  },
  {
   "cell_type": "code",
   "execution_count": 208,
   "metadata": {},
   "outputs": [
    {
     "data": {
      "text/plain": [
       "0.6487523992322457"
      ]
     },
     "execution_count": 208,
     "metadata": {},
     "output_type": "execute_result"
    }
   ],
   "source": [
    "xgboost = xgb.XGBClassifier(learning_rate=0.9, max_depth=1, n_estimators=20).fit(x_train, y_train)\n",
    "xgboost.score(x_train, y_train)"
   ]
  },
  {
   "cell_type": "code",
   "execution_count": 209,
   "metadata": {},
   "outputs": [
    {
     "data": {
      "text/plain": [
       "0.6487935656836461"
      ]
     },
     "execution_count": 209,
     "metadata": {},
     "output_type": "execute_result"
    }
   ],
   "source": [
    "xgboost.score(x_test, y_test)"
   ]
  },
  {
   "cell_type": "code",
   "execution_count": 70,
   "metadata": {},
   "outputs": [
    {
     "data": {
      "text/plain": [
       "0.700934910696328"
      ]
     },
     "execution_count": 70,
     "metadata": {},
     "output_type": "execute_result"
    }
   ],
   "source": [
    "train_prob = xgboost.predict_proba(x_train)[:,1]\n",
    "train_fpr, train_tpr, train_thresholds = roc_curve(y_train, train_prob)\n",
    "train_roc_auc = auc(train_fpr, train_tpr)\n",
    "train_roc_auc"
   ]
  },
  {
   "cell_type": "markdown",
   "metadata": {},
   "source": [
    "#### CV"
   ]
  },
  {
   "cell_type": "code",
   "execution_count": 164,
   "metadata": {},
   "outputs": [],
   "source": [
    "def crossvalidation(nfold, lr, depth, N, min_child_weight = 1, subsample = 1, colsample_bylevel = 1,\n",
    "                    colsample_bytree=1, reg_lambda=1):\n",
    "    \n",
    "    cv = KFold(n_splits=nfold, random_state=816, shuffle=True)\n",
    "    classifier = xgb.XGBClassifier(learning_rate=lr, max_depth=depth, n_estimators=N, \n",
    "                                   min_child_weight=min_child_weight, subsample=subsample, \n",
    "                                   colsample_bylevel=colsample_bylevel, \n",
    "                                   colsample_bytree=colsample_bytree, \n",
    "                                   reg_lambda = 1)\n",
    "    train_acc, test_acc = [], []\n",
    "    train_auc, test_auc = [], []\n",
    "\n",
    "    i = 0\n",
    "    for train, test in cv.split(x_train, y_train):\n",
    "    \n",
    "        ## data & classifier\n",
    "        X_train, Y_train = x_train[train], y_train[train]\n",
    "        X_test, Y_test = x_train[test], y_train[test]\n",
    "        fit_model = classifier.fit(X_train, Y_train)\n",
    "    \n",
    "        ## accuracy & probability\n",
    "        train_acc.append(fit_model.score(X_train, Y_train))\n",
    "        test_acc.append(fit_model.score(X_test, Y_test))\n",
    "    \n",
    "        train_prob = fit_model.predict_proba(X_train)[:,1]\n",
    "        test_prob = fit_model.predict_proba(X_test)[:,1]\n",
    "    \n",
    "        ## compute ROC curve and AUC\n",
    "    \n",
    "        train_fpr, train_tpr, train_thresholds = roc_curve(Y_train, train_prob)\n",
    "        test_fpr, test_tpr, test_thresholds = roc_curve(Y_test, test_prob)\n",
    "        train_roc_auc = auc(train_fpr, train_tpr)\n",
    "        test_roc_auc = auc(test_fpr, test_tpr)\n",
    "    \n",
    "        train_auc.append(train_roc_auc)\n",
    "        test_auc.append(test_roc_auc)\n",
    "        i += 1\n",
    "    \n",
    "    return train_acc, test_acc, train_auc, test_auc"
   ]
  },
  {
   "cell_type": "code",
   "execution_count": 232,
   "metadata": {},
   "outputs": [],
   "source": [
    "Depth = [1]\n",
    "lr = [0.001, 0.005, 0.01, 0.05, 0.1, 0.2]\n",
    "num_estimator = [10, 20, 30]"
   ]
  },
  {
   "cell_type": "code",
   "execution_count": 233,
   "metadata": {
    "scrolled": true
   },
   "outputs": [
    {
     "name": "stdout",
     "output_type": "stream",
     "text": [
      "Learning Rate,  Depth,  Number of Estimators,  Avg. ACC Diff,  Avg. AUC Diff,  Avg. Test AUC,  Avg. Test ACC\n",
      "0.001               1            10                  2.64%            2.08%         0.583           0.563\n",
      "0.005               1            10                  2.37%            2.72%         0.591           0.569\n",
      "0.01               1            10                  2.6%            2.45%         0.598           0.571\n",
      "0.05               1            10                  1.92%            2.38%         0.622           0.576\n",
      "0.1               1            10                  2.07%            2.57%         0.628           0.579\n",
      "0.2               1            10                  3.88%            3.27%         0.631           0.579\n",
      "0.001               1            20                  2.58%            2.26%         0.585           0.564\n",
      "0.005               1            20                  2.98%            2.41%         0.598           0.568\n",
      "0.01               1            20                  2.67%            2.62%         0.611           0.569\n",
      "0.05               1            20                  2.06%            2.69%         0.628           0.58\n",
      "0.1               1            20                  3.32%            3.53%         0.63           0.583\n",
      "0.2               1            20                  4.89%            4.28%         0.636           0.586\n",
      "0.001               1            30                  2.58%            2.42%         0.587           0.564\n",
      "0.005               1            30                  2.62%            2.52%         0.607           0.569\n",
      "0.01               1            30                  2.56%            2.5%         0.619           0.571\n",
      "0.05               1            30                  3.11%            3.39%         0.627           0.578\n",
      "0.1               1            30                  4.94%            3.94%         0.635           0.579\n",
      "0.2               1            30                  4.38%            5.04%         0.636           0.599\n"
     ]
    }
   ],
   "source": [
    "print(\"Learning Rate, \", \"Depth, \", \"Number of Estimators, \", \"Avg. ACC Diff, \", \"Avg. AUC Diff, \", \"Avg. Test AUC, \", \"Avg. Test ACC\")\n",
    "\n",
    "for i in Depth:\n",
    "    for j in num_estimator:\n",
    "        for k in lr:\n",
    "            train_acc, test_acc, train_auc, test_auc = crossvalidation(10, k, i, j)\n",
    "            acc_diff = str(round((np.mean(train_acc) - np.mean(test_acc))*100, 2)) + \"%\"\n",
    "            auc_diff = str(round((np.mean(train_auc) - np.mean(test_auc))*100, 2)) + \"%\"\n",
    "            print(k, \"             \", i, \"          \", j, \"                \", acc_diff, \"          \", auc_diff, \"       \", round(np.mean(test_auc), 3), \"         \", round(np.mean(test_acc), 3))"
   ]
  },
  {
   "cell_type": "markdown",
   "metadata": {},
   "source": [
    "#### Best Parameter\n",
    "learning rate: 0.1\n",
    "depth: 1\n",
    "N: 20"
   ]
  },
  {
   "cell_type": "code",
   "execution_count": 224,
   "metadata": {},
   "outputs": [
    {
     "data": {
      "text/plain": [
       "(0.5962891874600128, 0.6273458445040214)"
      ]
     },
     "execution_count": 224,
     "metadata": {},
     "output_type": "execute_result"
    }
   ],
   "source": [
    "xgboost = xgb.XGBClassifier(learning_rate=0.05, max_depth=1, n_estimators=20).fit(x_train, y_train)\n",
    "xgboost.score(x_train, y_train), xgboost.score(x_test, y_test)"
   ]
  },
  {
   "cell_type": "code",
   "execution_count": 225,
   "metadata": {},
   "outputs": [
    {
     "data": {
      "text/plain": [
       "0.6471210817333848"
      ]
     },
     "execution_count": 225,
     "metadata": {},
     "output_type": "execute_result"
    }
   ],
   "source": [
    "prob = xgboost.predict_proba(x_train)[:,1]\n",
    "fpr, tpr, thresholds = roc_curve(y_train, prob)\n",
    "train_roc_auc = auc(fpr, tpr)\n",
    "train_roc_auc"
   ]
  },
  {
   "cell_type": "code",
   "execution_count": 226,
   "metadata": {},
   "outputs": [
    {
     "data": {
      "text/plain": [
       "0.6543062200956937"
      ]
     },
     "execution_count": 226,
     "metadata": {},
     "output_type": "execute_result"
    }
   ],
   "source": [
    "prob = xgboost.predict_proba(x_test)[:,1]\n",
    "fpr, tpr, thresholds = roc_curve(y_test, prob)\n",
    "train_roc_auc = auc(fpr, tpr)\n",
    "train_roc_auc"
   ]
  },
  {
   "cell_type": "code",
   "execution_count": 230,
   "metadata": {},
   "outputs": [],
   "source": [
    "train_acc, test_acc, train_auc, test_auc = crossvalidation(10, 0.05, 1, 20)"
   ]
  },
  {
   "cell_type": "code",
   "execution_count": 231,
   "metadata": {},
   "outputs": [
    {
     "data": {
      "text/plain": [
       "(0.6001974985871293, 0.579593336599706, 0.6544994997113768, 0.6275627839190581)"
      ]
     },
     "execution_count": 231,
     "metadata": {},
     "output_type": "execute_result"
    }
   ],
   "source": [
    "np.mean(train_acc), np.mean(test_acc), np.mean(train_auc), np.mean(test_auc)"
   ]
  },
  {
   "cell_type": "code",
   "execution_count": null,
   "metadata": {},
   "outputs": [],
   "source": []
  },
  {
   "cell_type": "markdown",
   "metadata": {},
   "source": [
    "learning rate: 0.1\n",
    "depth: 1\n",
    "N: 20"
   ]
  },
  {
   "cell_type": "code",
   "execution_count": 220,
   "metadata": {},
   "outputs": [
    {
     "data": {
      "text/plain": [
       "(0.6071657069737684, 0.6273458445040214)"
      ]
     },
     "execution_count": 220,
     "metadata": {},
     "output_type": "execute_result"
    }
   ],
   "source": [
    "xgboost = xgb.XGBClassifier(learning_rate=0.1, max_depth=1, n_estimators=20).fit(x_train, y_train)\n",
    "xgboost.score(x_train, y_train), xgboost.score(x_test, y_test)"
   ]
  },
  {
   "cell_type": "code",
   "execution_count": 221,
   "metadata": {},
   "outputs": [
    {
     "data": {
      "text/plain": [
       "0.6635541443695989"
      ]
     },
     "execution_count": 221,
     "metadata": {},
     "output_type": "execute_result"
    }
   ],
   "source": [
    "prob = xgboost.predict_proba(x_train)[:,1]\n",
    "fpr, tpr, thresholds = roc_curve(y_train, prob)\n",
    "train_roc_auc = auc(fpr, tpr)\n",
    "train_roc_auc"
   ]
  },
  {
   "cell_type": "code",
   "execution_count": 222,
   "metadata": {},
   "outputs": [
    {
     "data": {
      "text/plain": [
       "0.6561734158011436"
      ]
     },
     "execution_count": 222,
     "metadata": {},
     "output_type": "execute_result"
    }
   ],
   "source": [
    "prob = xgboost.predict_proba(x_test)[:,1]\n",
    "fpr, tpr, thresholds = roc_curve(y_test, prob)\n",
    "train_roc_auc = auc(fpr, tpr)\n",
    "train_roc_auc"
   ]
  },
  {
   "cell_type": "code",
   "execution_count": 218,
   "metadata": {},
   "outputs": [],
   "source": [
    "train_acc, test_acc, train_auc, test_auc = crossvalidation(10, 0.1, 1, 20)"
   ]
  },
  {
   "cell_type": "code",
   "execution_count": 219,
   "metadata": {},
   "outputs": [
    {
     "data": {
      "text/plain": [
       "(0.6160520805846808, 0.582827045565899, 0.6654704172619631, 0.6301857484401998)"
      ]
     },
     "execution_count": 219,
     "metadata": {},
     "output_type": "execute_result"
    }
   ],
   "source": [
    "np.mean(train_acc), np.mean(test_acc), np.mean(train_auc), np.mean(test_auc)"
   ]
  },
  {
   "cell_type": "code",
   "execution_count": null,
   "metadata": {},
   "outputs": [],
   "source": []
  },
  {
   "cell_type": "markdown",
   "metadata": {},
   "source": [
    "learning rate: 0.2\n",
    "depth: 1\n",
    "N: 10"
   ]
  },
  {
   "cell_type": "code",
   "execution_count": 234,
   "metadata": {},
   "outputs": [
    {
     "data": {
      "text/plain": [
       "(0.618682021753039, 0.6166219839142091)"
      ]
     },
     "execution_count": 234,
     "metadata": {},
     "output_type": "execute_result"
    }
   ],
   "source": [
    "xgboost = xgb.XGBClassifier(learning_rate=0.2, max_depth=1, n_estimators=10).fit(x_train, y_train)\n",
    "xgboost.score(x_train, y_train), xgboost.score(x_test, y_test)"
   ]
  },
  {
   "cell_type": "code",
   "execution_count": 235,
   "metadata": {},
   "outputs": [
    {
     "data": {
      "text/plain": [
       "0.6611018790534504"
      ]
     },
     "execution_count": 235,
     "metadata": {},
     "output_type": "execute_result"
    }
   ],
   "source": [
    "prob = xgboost.predict_proba(x_train)[:,1]\n",
    "fpr, tpr, thresholds = roc_curve(y_train, prob)\n",
    "train_roc_auc = auc(fpr, tpr)\n",
    "train_roc_auc"
   ]
  },
  {
   "cell_type": "code",
   "execution_count": 236,
   "metadata": {},
   "outputs": [
    {
     "data": {
      "text/plain": [
       "0.6519868129303302"
      ]
     },
     "execution_count": 236,
     "metadata": {},
     "output_type": "execute_result"
    }
   ],
   "source": [
    "prob = xgboost.predict_proba(x_test)[:,1]\n",
    "fpr, tpr, thresholds = roc_curve(y_test, prob)\n",
    "train_roc_auc = auc(fpr, tpr)\n",
    "train_roc_auc"
   ]
  },
  {
   "cell_type": "code",
   "execution_count": 237,
   "metadata": {},
   "outputs": [],
   "source": [
    "train_acc, test_acc, train_auc, test_auc = crossvalidation(10, 0.2, 1, 10)"
   ]
  },
  {
   "cell_type": "code",
   "execution_count": 238,
   "metadata": {},
   "outputs": [
    {
     "data": {
      "text/plain": [
       "(0.6178274953216037,\n",
       " 0.5789849746856116,\n",
       " 0.6637797203901282,\n",
       " 0.6310522274952126)"
      ]
     },
     "execution_count": 238,
     "metadata": {},
     "output_type": "execute_result"
    }
   ],
   "source": [
    "np.mean(train_acc), np.mean(test_acc), np.mean(train_auc), np.mean(test_auc)"
   ]
  },
  {
   "cell_type": "code",
   "execution_count": null,
   "metadata": {},
   "outputs": [],
   "source": []
  },
  {
   "cell_type": "code",
   "execution_count": null,
   "metadata": {},
   "outputs": [],
   "source": []
  },
  {
   "cell_type": "code",
   "execution_count": null,
   "metadata": {},
   "outputs": [],
   "source": []
  },
  {
   "cell_type": "code",
   "execution_count": null,
   "metadata": {},
   "outputs": [],
   "source": []
  },
  {
   "cell_type": "markdown",
   "metadata": {},
   "source": [
    "### Appendix"
   ]
  },
  {
   "cell_type": "markdown",
   "metadata": {},
   "source": [
    "#### Cross Validation"
   ]
  },
  {
   "cell_type": "code",
   "execution_count": 201,
   "metadata": {},
   "outputs": [
    {
     "data": {
      "text/plain": [
       "Text(0,0.5,'True Positive Rate')"
      ]
     },
     "execution_count": 201,
     "metadata": {},
     "output_type": "execute_result"
    },
    {
     "data": {
      "image/png": "[encoded data removed]",
      "text/plain": [
       "<Figure size 576x432 with 1 Axes>"
      ]
     },
     "metadata": {
      "needs_background": "light"
     },
     "output_type": "display_data"
    }
   ],
   "source": [
    "cv = KFold(n_splits=10, random_state=816, shuffle=True)\n",
    "classifier = xgb.XGBClassifier(learning_rate=0.9, max_depth=1, n_estimators=20, colsample_bylevel=0.1)\n",
    "train_acc, test_acc = [], []\n",
    "train_auc, test_auc = [], []\n",
    "\n",
    "i = 0\n",
    "plt.figure(figsize=(8,6))\n",
    "for train, test in cv.split(x_train, y_train):\n",
    "    \n",
    "    ## data & classifier\n",
    "    X_train, Y_train = x_train[train], y_train[train]\n",
    "    X_test, Y_test = x_train[test], y_train[test]\n",
    "    fit_model = classifier.fit(X_train, Y_train)\n",
    "    \n",
    "    ## accuracy & probability\n",
    "    train_acc.append(fit_model.score(X_train, Y_train))\n",
    "    test_acc.append(fit_model.score(X_test, Y_test))\n",
    "    \n",
    "    train_prob = fit_model.predict_proba(X_train)[:,1]\n",
    "    test_prob = fit_model.predict_proba(X_test)[:,1]\n",
    "    \n",
    "    ## compute ROC curve and AUC\n",
    "    \n",
    "    train_fpr, train_tpr, train_thresholds = roc_curve(Y_train, train_prob)\n",
    "    test_fpr, test_tpr, test_thresholds = roc_curve(Y_test, test_prob)\n",
    "    train_roc_auc = auc(train_fpr, train_tpr)\n",
    "    test_roc_auc = auc(test_fpr, test_tpr)\n",
    "    \n",
    "    train_auc.append(train_roc_auc)\n",
    "    test_auc.append(test_roc_auc)\n",
    "    \n",
    "    ## plot test auc\n",
    "    plt.plot(test_fpr, test_tpr, lw=1, alpha=0.8, \n",
    "             label = 'ROC fold %d (AUC = %0.2f)' % (i, test_roc_auc))\n",
    "    i += 1\n",
    "\n",
    "plt.plot([0, 1], [0, 1], lw=2, linestyle = '--',color='black',alpha=.8)\n",
    "plt.title(\"ROC & AUC\")\n",
    "plt.legend(loc = \"lower right\")\n",
    "plt.xlim([-0.05, 1.05])\n",
    "plt.ylim([-0.05, 1.05])\n",
    "plt.xlabel('False Positive Rate')\n",
    "plt.ylabel('True Positive Rate')"
   ]
  },
  {
   "cell_type": "code",
   "execution_count": 202,
   "metadata": {},
   "outputs": [
    {
     "data": {
      "text/plain": [
       "(0.641997996200667, 0.5879185040013064)"
      ]
     },
     "execution_count": 202,
     "metadata": {},
     "output_type": "execute_result"
    }
   ],
   "source": [
    "np.mean(train_acc), np.mean(test_acc)"
   ]
  },
  {
   "cell_type": "code",
   "execution_count": 203,
   "metadata": {},
   "outputs": [
    {
     "data": {
      "text/plain": [
       "(0.6901791267762335, 0.6225108640602519)"
      ]
     },
     "execution_count": 203,
     "metadata": {},
     "output_type": "execute_result"
    }
   ],
   "source": [
    "np.mean(train_auc), np.mean(test_auc) "
   ]
  },
  {
   "cell_type": "code",
   "execution_count": null,
   "metadata": {},
   "outputs": [],
   "source": []
  },
  {
   "cell_type": "code",
   "execution_count": null,
   "metadata": {},
   "outputs": [],
   "source": []
  },
  {
   "cell_type": "code",
   "execution_count": null,
   "metadata": {},
   "outputs": [],
   "source": []
  },
  {
   "cell_type": "code",
   "execution_count": null,
   "metadata": {},
   "outputs": [],
   "source": []
  },
  {
   "cell_type": "code",
   "execution_count": 7,
   "metadata": {},
   "outputs": [],
   "source": [
    "dtrain = xgb.DMatrix(x_train, label=y_train)\n",
    "dtest = xgb.DMatrix(x_test, label=y_test)"
   ]
  },
  {
   "cell_type": "code",
   "execution_count": 8,
   "metadata": {},
   "outputs": [],
   "source": [
    "params = {'max_depth':6, \n",
    "          'eta':0.1, \n",
    "          'gamma':0.1, \n",
    "          'objective':'binary:logistic', \n",
    "          'min_child_weight':5, \n",
    "          'subsample':1, \n",
    "          'colsample_bytree':1, \n",
    "          'early_stopping_rounds':10}"
   ]
  },
  {
   "cell_type": "code",
   "execution_count": 12,
   "metadata": {},
   "outputs": [],
   "source": [
    "a = xgb.cv(params, dtrain, num_boost_round=30, nfold=5)"
   ]
  },
  {
   "cell_type": "code",
   "execution_count": null,
   "metadata": {},
   "outputs": [],
   "source": [
    "D = []\n",
    "LR = []\n",
    "test_AUC = []\n",
    "iter = []\n",
    "\n",
    "for i in depth:\n",
    "    for j in lr:\n",
    "        print(i,j)\n",
    "        params = {'max_depth':i, \n",
    "                  'eta':j, \n",
    "                  'gamma':0, \n",
    "                  'silent':1, \n",
    "                  'objective':'binary:logistic', \n",
    "                  'min_child_weight':1, \n",
    "                  'eval_metric': 'auc'}\n",
    "        cv = xgb.cv(params, dtrain, nfold=5, num_boost_round=100)\n",
    "        test_auc = cv['test-auc-mean']\n",
    "        \n",
    "        test_AUC.append(np.max(test_auc))\n",
    "        iter.append(np.where(test_auc == np.max(test_auc))[0][0] + 1)\n",
    "        D.append(i)\n",
    "        LR.append(j)"
   ]
  }
 ],
 "metadata": {
  "kernelspec": {
   "display_name": "Python 3",
   "language": "python",
   "name": "python3"
  },
  "language_info": {
   "codemirror_mode": {
    "name": "ipython",
    "version": 3
   },
   "file_extension": ".py",
   "mimetype": "text/x-python",
   "name": "python",
   "nbconvert_exporter": "python",
   "pygments_lexer": "ipython3",
   "version": "3.7.0"
  }
 },
 "nbformat": 4,
 "nbformat_minor": 2
}
