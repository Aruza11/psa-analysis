{
 "cells": [
  {
   "cell_type": "code",
   "execution_count": 7,
   "metadata": {
    "hideCode": false,
    "hidePrompt": false
   },
   "outputs": [],
   "source": [
    "import pytablewriter\n",
    "import pandas as pd\n",
    "import numpy as np"
   ]
  },
  {
   "cell_type": "code",
   "execution_count": 8,
   "metadata": {
    "hideCode": false,
    "hidePrompt": false
   },
   "outputs": [],
   "source": [
    "result = pd.read_csv(\"C:\\\\Users\\\\binha\\\\Documents\\\\Duke\\\\Cynthia Research\\\\KY-analysis-mytrials\\\\broward\\\\broward models\\\\model results\\\\Baselines\\\\Six Month\\\\Six Month Baseline Summary.csv\")"
   ]
  },
  {
   "cell_type": "code",
   "execution_count": 9,
   "metadata": {
    "hideCode": false,
    "hidePrompt": false
   },
   "outputs": [
    {
     "data": {
      "text/html": [
       "<div>\n",
       "<style scoped>\n",
       "    .dataframe tbody tr th:only-of-type {\n",
       "        vertical-align: middle;\n",
       "    }\n",
       "\n",
       "    .dataframe tbody tr th {\n",
       "        vertical-align: top;\n",
       "    }\n",
       "\n",
       "    .dataframe thead th {\n",
       "        text-align: right;\n",
       "    }\n",
       "</style>\n",
       "<table border=\"1\" class=\"dataframe\">\n",
       "  <thead>\n",
       "    <tr style=\"text-align: right;\">\n",
       "      <th></th>\n",
       "      <th>Unnamed: 0</th>\n",
       "      <th>Logistic</th>\n",
       "      <th>Lasso</th>\n",
       "      <th>Linear SVM</th>\n",
       "      <th>Random Forest</th>\n",
       "      <th>XGBoost</th>\n",
       "      <th>Performance Range</th>\n",
       "    </tr>\n",
       "  </thead>\n",
       "  <tbody>\n",
       "    <tr>\n",
       "      <th>0</th>\n",
       "      <td>General</td>\n",
       "      <td>0.627 (0.029)</td>\n",
       "      <td>0.618 (0.027)</td>\n",
       "      <td>0.613 (0.016)</td>\n",
       "      <td>0.613 (0.009)</td>\n",
       "      <td>0.61 (0.014)</td>\n",
       "      <td>0.017</td>\n",
       "    </tr>\n",
       "    <tr>\n",
       "      <th>1</th>\n",
       "      <td>Violent</td>\n",
       "      <td>0.648 (0.033)</td>\n",
       "      <td>0.667 (0.048)</td>\n",
       "      <td>0.646 (0.053)</td>\n",
       "      <td>0.672 (0.047)</td>\n",
       "      <td>0.685 (0.019)</td>\n",
       "      <td>0.040</td>\n",
       "    </tr>\n",
       "    <tr>\n",
       "      <th>2</th>\n",
       "      <td>Drug</td>\n",
       "      <td>0.679 (0.085)</td>\n",
       "      <td>0.658 (0.072)</td>\n",
       "      <td>0.641 (0.065)</td>\n",
       "      <td>0.633 (0.058)</td>\n",
       "      <td>0.695 (0.034)</td>\n",
       "      <td>0.062</td>\n",
       "    </tr>\n",
       "    <tr>\n",
       "      <th>3</th>\n",
       "      <td>Property</td>\n",
       "      <td>0.709 (0.043)</td>\n",
       "      <td>0.715 (0.038)</td>\n",
       "      <td>0.663 (0.035)</td>\n",
       "      <td>0.699 (0.041)</td>\n",
       "      <td>0.715 (0.048)</td>\n",
       "      <td>0.052</td>\n",
       "    </tr>\n",
       "    <tr>\n",
       "      <th>4</th>\n",
       "      <td>Felony</td>\n",
       "      <td>0.604 (0.038)</td>\n",
       "      <td>0.602 (0.037)</td>\n",
       "      <td>0.563 (0.022)</td>\n",
       "      <td>0.607 (0.028)</td>\n",
       "      <td>0.606 (0.037)</td>\n",
       "      <td>0.041</td>\n",
       "    </tr>\n",
       "    <tr>\n",
       "      <th>5</th>\n",
       "      <td>Misdemeanor</td>\n",
       "      <td>0.603 (0.022)</td>\n",
       "      <td>0.605 (0.025)</td>\n",
       "      <td>0.582 (0.026)</td>\n",
       "      <td>0.576 (0.032)</td>\n",
       "      <td>0.577 (0.028)</td>\n",
       "      <td>0.029</td>\n",
       "    </tr>\n",
       "  </tbody>\n",
       "</table>\n",
       "</div>"
      ],
      "text/plain": [
       "    Unnamed: 0       Logistic          Lasso     Linear SVM  Random Forest  \\\n",
       "0      General  0.627 (0.029)  0.618 (0.027)  0.613 (0.016)  0.613 (0.009)   \n",
       "1      Violent  0.648 (0.033)  0.667 (0.048)  0.646 (0.053)  0.672 (0.047)   \n",
       "2         Drug  0.679 (0.085)  0.658 (0.072)  0.641 (0.065)  0.633 (0.058)   \n",
       "3     Property  0.709 (0.043)  0.715 (0.038)  0.663 (0.035)  0.699 (0.041)   \n",
       "4       Felony  0.604 (0.038)  0.602 (0.037)  0.563 (0.022)  0.607 (0.028)   \n",
       "5  Misdemeanor  0.603 (0.022)  0.605 (0.025)  0.582 (0.026)  0.576 (0.032)   \n",
       "\n",
       "         XGBoost  Performance Range  \n",
       "0   0.61 (0.014)              0.017  \n",
       "1  0.685 (0.019)              0.040  \n",
       "2  0.695 (0.034)              0.062  \n",
       "3  0.715 (0.048)              0.052  \n",
       "4  0.606 (0.037)              0.041  \n",
       "5  0.577 (0.028)              0.029  "
      ]
     },
     "execution_count": 9,
     "metadata": {},
     "output_type": "execute_result"
    }
   ],
   "source": [
    "result"
   ]
  },
  {
   "cell_type": "code",
   "execution_count": 10,
   "metadata": {
    "hideCode": false,
    "hidePrompt": false
   },
   "outputs": [],
   "source": [
    "cols = result.columns.to_list()\n",
    "values = result.values.tolist()"
   ]
  },
  {
   "cell_type": "code",
   "execution_count": 11,
   "metadata": {
    "hideCode": false,
    "hideOutput": true,
    "hidePrompt": false
   },
   "outputs": [
    {
     "name": "stdout",
     "output_type": "stream",
     "text": [
      "\\begin{array}{l | l | l | l | l | l | r} \\hline\n",
      "    General     & \\verb|0.627 (0.029)| & \\verb|0.618 (0.027)| & \\verb|0.613 (0.016)| & \\verb|0.613 (0.009)| & \\verb|0.61 (0.014) | & 0.01700 \\\\ \\hline\n",
      "    Violent     & \\verb|0.648 (0.033)| & \\verb|0.667 (0.048)| & \\verb|0.646 (0.053)| & \\verb|0.672 (0.047)| & \\verb|0.685 (0.019)| & 0.04000 \\\\ \\hline\n",
      "    Drug        & \\verb|0.679 (0.085)| & \\verb|0.658 (0.072)| & \\verb|0.641 (0.065)| & \\verb|0.633 (0.058)| & \\verb|0.695 (0.034)| & 0.06200 \\\\ \\hline\n",
      "    Property    & \\verb|0.709 (0.043)| & \\verb|0.715 (0.038)| & \\verb|0.663 (0.035)| & \\verb|0.699 (0.041)| & \\verb|0.715 (0.048)| & 0.05200 \\\\ \\hline\n",
      "    Felony      & \\verb|0.604 (0.038)| & \\verb|0.602 (0.037)| & \\verb|0.563 (0.022)| & \\verb|0.607 (0.028)| & \\verb|0.606 (0.037)| & 0.04100 \\\\ \\hline\n",
      "    Misdemeanor & \\verb|0.603 (0.022)| & \\verb|0.605 (0.025)| & \\verb|0.582 (0.026)| & \\verb|0.576 (0.032)| & \\verb|0.577 (0.028)| & 0.02900 \\\\ \\hline\n",
      "\\end{array}\n"
     ]
    }
   ],
   "source": [
    "writer = pytablewriter.LatexTableWriter()\n",
    "writer.value_matrix = values\n",
    "writer.write_table()"
   ]
  }
 ],
 "metadata": {
  "hide_code_all_hidden": false,
  "kernelspec": {
   "display_name": "Python 3",
   "language": "python",
   "name": "python3"
  },
  "language_info": {
   "codemirror_mode": {
    "name": "ipython",
    "version": 3
   },
   "file_extension": ".py",
   "mimetype": "text/x-python",
   "name": "python",
   "nbconvert_exporter": "python",
   "pygments_lexer": "ipython3",
   "version": "3.7.4"
  }
 },
 "nbformat": 4,
 "nbformat_minor": 4
}
