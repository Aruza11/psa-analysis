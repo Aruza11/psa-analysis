{
 "cells": [
  {
   "cell_type": "code",
   "execution_count": 1,
   "metadata": {
    "hideCode": false,
    "hidePrompt": false
   },
   "outputs": [],
   "source": [
    "import pytablewriter\n",
    "import pandas as pd\n",
    "import numpy as np"
   ]
  },
  {
   "cell_type": "code",
   "execution_count": 2,
   "metadata": {
    "hideCode": false,
    "hidePrompt": false
   },
   "outputs": [],
   "source": [
    "result = pd.read_csv(\"C:\\\\Users\\\\binha\\\\Documents\\\\Duke\\\\Cynthia Research\\\\KY-analysis-mytrials\\\\broward\\\\broward models\\\\Baseline Model Results\\\\Baseline Summary.csv\")"
   ]
  },
  {
   "cell_type": "code",
   "execution_count": 3,
   "metadata": {
    "hideCode": false,
    "hidePrompt": false
   },
   "outputs": [
    {
     "data": {
      "text/html": [
       "<div>\n",
       "<style scoped>\n",
       "    .dataframe tbody tr th:only-of-type {\n",
       "        vertical-align: middle;\n",
       "    }\n",
       "\n",
       "    .dataframe tbody tr th {\n",
       "        vertical-align: top;\n",
       "    }\n",
       "\n",
       "    .dataframe thead th {\n",
       "        text-align: right;\n",
       "    }\n",
       "</style>\n",
       "<table border=\"1\" class=\"dataframe\">\n",
       "  <thead>\n",
       "    <tr style=\"text-align: right;\">\n",
       "      <th></th>\n",
       "      <th>Unnamed: 0</th>\n",
       "      <th>Logistic</th>\n",
       "      <th>std</th>\n",
       "      <th>Lasso</th>\n",
       "      <th>std.1</th>\n",
       "      <th>Linear SVM</th>\n",
       "      <th>std.2</th>\n",
       "      <th>CART</th>\n",
       "      <th>std.3</th>\n",
       "      <th>Random Forest</th>\n",
       "      <th>std.4</th>\n",
       "      <th>XGBoost</th>\n",
       "      <th>std.5</th>\n",
       "    </tr>\n",
       "  </thead>\n",
       "  <tbody>\n",
       "    <tr>\n",
       "      <th>0</th>\n",
       "      <td>Two Year Recidivism</td>\n",
       "      <td>0.665</td>\n",
       "      <td>0.016</td>\n",
       "      <td>0.665</td>\n",
       "      <td>0.019</td>\n",
       "      <td>0.668</td>\n",
       "      <td>0.017</td>\n",
       "      <td>0.613</td>\n",
       "      <td>0.012</td>\n",
       "      <td>0.653</td>\n",
       "      <td>0.019</td>\n",
       "      <td>0.661</td>\n",
       "      <td>0.012</td>\n",
       "    </tr>\n",
       "    <tr>\n",
       "      <th>1</th>\n",
       "      <td>Six Month Recidivism</td>\n",
       "      <td>0.629</td>\n",
       "      <td>0.032</td>\n",
       "      <td>0.618</td>\n",
       "      <td>0.024</td>\n",
       "      <td>0.623</td>\n",
       "      <td>0.014</td>\n",
       "      <td>0.532</td>\n",
       "      <td>0.028</td>\n",
       "      <td>0.619</td>\n",
       "      <td>0.015</td>\n",
       "      <td>0.616</td>\n",
       "      <td>0.016</td>\n",
       "    </tr>\n",
       "    <tr>\n",
       "      <th>2</th>\n",
       "      <td>Violence</td>\n",
       "      <td>0.681</td>\n",
       "      <td>0.015</td>\n",
       "      <td>0.684</td>\n",
       "      <td>0.013</td>\n",
       "      <td>0.668</td>\n",
       "      <td>0.017</td>\n",
       "      <td>0.569</td>\n",
       "      <td>0.013</td>\n",
       "      <td>0.623</td>\n",
       "      <td>0.034</td>\n",
       "      <td>0.655</td>\n",
       "      <td>0.032</td>\n",
       "    </tr>\n",
       "    <tr>\n",
       "      <th>3</th>\n",
       "      <td>Drug</td>\n",
       "      <td>0.669</td>\n",
       "      <td>0.033</td>\n",
       "      <td>0.708</td>\n",
       "      <td>0.027</td>\n",
       "      <td>0.687</td>\n",
       "      <td>0.052</td>\n",
       "      <td>0.625</td>\n",
       "      <td>0.025</td>\n",
       "      <td>0.644</td>\n",
       "      <td>0.034</td>\n",
       "      <td>0.686</td>\n",
       "      <td>0.022</td>\n",
       "    </tr>\n",
       "    <tr>\n",
       "      <th>4</th>\n",
       "      <td>Property</td>\n",
       "      <td>0.735</td>\n",
       "      <td>0.029</td>\n",
       "      <td>0.737</td>\n",
       "      <td>0.031</td>\n",
       "      <td>0.695</td>\n",
       "      <td>0.037</td>\n",
       "      <td>0.638</td>\n",
       "      <td>0.035</td>\n",
       "      <td>0.692</td>\n",
       "      <td>0.044</td>\n",
       "      <td>0.728</td>\n",
       "      <td>0.031</td>\n",
       "    </tr>\n",
       "    <tr>\n",
       "      <th>5</th>\n",
       "      <td>Felony</td>\n",
       "      <td>0.652</td>\n",
       "      <td>0.040</td>\n",
       "      <td>0.642</td>\n",
       "      <td>0.036</td>\n",
       "      <td>0.628</td>\n",
       "      <td>0.032</td>\n",
       "      <td>0.623</td>\n",
       "      <td>0.036</td>\n",
       "      <td>0.615</td>\n",
       "      <td>0.042</td>\n",
       "      <td>0.623</td>\n",
       "      <td>0.027</td>\n",
       "    </tr>\n",
       "    <tr>\n",
       "      <th>6</th>\n",
       "      <td>Misdemeanor</td>\n",
       "      <td>0.621</td>\n",
       "      <td>0.023</td>\n",
       "      <td>0.635</td>\n",
       "      <td>0.025</td>\n",
       "      <td>0.638</td>\n",
       "      <td>0.022</td>\n",
       "      <td>0.518</td>\n",
       "      <td>0.022</td>\n",
       "      <td>0.618</td>\n",
       "      <td>0.018</td>\n",
       "      <td>0.607</td>\n",
       "      <td>0.013</td>\n",
       "    </tr>\n",
       "  </tbody>\n",
       "</table>\n",
       "</div>"
      ],
      "text/plain": [
       "             Unnamed: 0  Logistic    std  Lasso  std.1  Linear SVM  std.2  \\\n",
       "0   Two Year Recidivism     0.665  0.016  0.665  0.019       0.668  0.017   \n",
       "1  Six Month Recidivism     0.629  0.032  0.618  0.024       0.623  0.014   \n",
       "2              Violence     0.681  0.015  0.684  0.013       0.668  0.017   \n",
       "3                  Drug     0.669  0.033  0.708  0.027       0.687  0.052   \n",
       "4              Property     0.735  0.029  0.737  0.031       0.695  0.037   \n",
       "5                Felony     0.652  0.040  0.642  0.036       0.628  0.032   \n",
       "6           Misdemeanor     0.621  0.023  0.635  0.025       0.638  0.022   \n",
       "\n",
       "    CART  std.3  Random Forest  std.4  XGBoost  std.5  \n",
       "0  0.613  0.012          0.653  0.019    0.661  0.012  \n",
       "1  0.532  0.028          0.619  0.015    0.616  0.016  \n",
       "2  0.569  0.013          0.623  0.034    0.655  0.032  \n",
       "3  0.625  0.025          0.644  0.034    0.686  0.022  \n",
       "4  0.638  0.035          0.692  0.044    0.728  0.031  \n",
       "5  0.623  0.036          0.615  0.042    0.623  0.027  \n",
       "6  0.518  0.022          0.618  0.018    0.607  0.013  "
      ]
     },
     "execution_count": 3,
     "metadata": {},
     "output_type": "execute_result"
    }
   ],
   "source": [
    "result"
   ]
  },
  {
   "cell_type": "code",
   "execution_count": 5,
   "metadata": {
    "hideCode": false,
    "hidePrompt": false
   },
   "outputs": [],
   "source": [
    "cols = result.columns.to_list()\n",
    "values = result.values.tolist()"
   ]
  },
  {
   "cell_type": "code",
   "execution_count": 6,
   "metadata": {
    "hideCode": false,
    "hideOutput": true,
    "hidePrompt": false
   },
   "outputs": [
    {
     "name": "stdout",
     "output_type": "stream",
     "text": [
      "\\begin{array}{l | r | r | r | r | r | r | r | r | r | r | r | r} \\hline\n",
      "    \\verb|Two Year Recidivism | & 0.6650 & 0.01600 & 0.665 & 0.01900 & 0.6680 & 0.01700 & 0.613 & 0.01200 & 0.6530 & 0.01900 & 0.6610 & 0.01200 \\\\ \\hline\n",
      "    \\verb|Six Month Recidivism| & 0.6290 & 0.03200 & 0.618 & 0.02400 & 0.6230 & 0.01400 & 0.532 & 0.02800 & 0.6190 & 0.01500 & 0.6160 & 0.01600 \\\\ \\hline\n",
      "    Violence             & 0.6810 & 0.01500 & 0.684 & 0.01300 & 0.6680 & 0.01700 & 0.569 & 0.01300 & 0.6230 & 0.03400 & 0.6550 & 0.03200 \\\\ \\hline\n",
      "    Drug                 & 0.6690 & 0.03300 & 0.708 & 0.02700 & 0.6870 & 0.05200 & 0.625 & 0.02500 & 0.6440 & 0.03400 & 0.6860 & 0.02200 \\\\ \\hline\n",
      "    Property             & 0.7350 & 0.02900 & 0.737 & 0.03100 & 0.6950 & 0.03700 & 0.638 & 0.03500 & 0.6920 & 0.04400 & 0.7280 & 0.03100 \\\\ \\hline\n",
      "    Felony               & 0.6520 & 0.04000 & 0.642 & 0.03600 & 0.6280 & 0.03200 & 0.623 & 0.03600 & 0.6150 & 0.04200 & 0.6230 & 0.02700 \\\\ \\hline\n",
      "    Misdemeanor          & 0.6210 & 0.02300 & 0.635 & 0.02500 & 0.6380 & 0.02200 & 0.518 & 0.02200 & 0.6180 & 0.01800 & 0.6070 & 0.01300 \\\\ \\hline\n",
      "\\end{array}\n"
     ]
    }
   ],
   "source": [
    "writer = pytablewriter.LatexTableWriter()\n",
    "writer.value_matrix = values\n",
    "writer.write_table()"
   ]
  },
  {
   "cell_type": "code",
   "execution_count": null,
   "metadata": {
    "hideCode": false,
    "hidePrompt": false
   },
   "outputs": [],
   "source": []
  }
 ],
 "metadata": {
  "hide_code_all_hidden": false,
  "kernelspec": {
   "display_name": "Python 3",
   "language": "python",
   "name": "python3"
  },
  "language_info": {
   "codemirror_mode": {
    "name": "ipython",
    "version": 3
   },
   "file_extension": ".py",
   "mimetype": "text/x-python",
   "name": "python",
   "nbconvert_exporter": "python",
   "pygments_lexer": "ipython3",
   "version": "3.7.0"
  }
 },
 "nbformat": 4,
 "nbformat_minor": 2
}
