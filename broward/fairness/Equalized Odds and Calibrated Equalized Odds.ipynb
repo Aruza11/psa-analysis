{
 "cells": [
  {
   "cell_type": "code",
   "execution_count": null,
   "metadata": {},
   "outputs": [
    {
     "name": "stdout",
     "output_type": "stream",
     "text": [
      "Current working directory is now:  C:\\Users\\Caroline Wang\\OneDrive\\Duke\\Criminal Recidivism\\psa-analysis\n"
     ]
    }
   ],
   "source": [
    "import os \n",
    "os.chdir('../../')\n",
    "print(\"Current working directory is now: \", os.getcwd())\n",
    "\n",
    "import numpy as np \n",
    "import pandas as pd \n",
    "from broward.models.advanced_models.six_month import stumps"
   ]
  },
  {
   "cell_type": "markdown",
   "metadata": {},
   "source": [
    "Prepare data/make predictions. Currently, testing on the six-month violent felonies problem. "
   ]
  },
  {
   "cell_type": "code",
   "execution_count": null,
   "metadata": {},
   "outputs": [],
   "source": [
    "## load whole data\n",
    "data = pd.read_csv(\"broward/data/broward_stumps.csv\")\n",
    "X_stumps, Y_stumps = data.loc[:,:'five_year>=1'], data['recid_violent6'].values\n",
    "Y_stumps[Y_stumps == -1] = 0\n",
    "cols = X_stumps.columns[3:]\n",
    "\n",
    "## load train & test data\n",
    "train_stumps = pd.read_csv(\"broward/data/broward_train_stumps.csv\")\n",
    "test_stumps = pd.read_csv(\"broward/data/broward_test_stumps.csv\")\n",
    "\n",
    "X_train_stumps, Y_train_stumps = train_stumps.loc[:,:'five_year>=1'], train_stumps['recid_violent6'].values\n",
    "X_test_stumps, Y_test_stumps = test_stumps.loc[:,:'five_year>=1'], test_stumps['recid_violent6'].values\n",
    "\n",
    "Y_train_stumps[Y_train_stumps == -1] = 0\n",
    "Y_test_stumps[Y_test_stumps == -1] = 0"
   ]
  },
  {
   "cell_type": "raw",
   "metadata": {},
   "source": [
    "stump_summary = stumps.stump_cv(X = X_stumps, \n",
    "                                Y = Y_stumps, \n",
    "                                columns=cols, \n",
    "                                c_grid={'C': [0.05]}, \n",
    "                                seed = 816)\n",
    "stump_summary['confusion_matrix_stats']"
   ]
  },
  {
   "cell_type": "code",
   "execution_count": null,
   "metadata": {},
   "outputs": [],
   "source": [
    "from sklearn.linear_model import LogisticRegression\n",
    "\n",
    "def stump_preds(X_train, Y_train, X_test, Y_test, c, columns, seed):\n",
    "        \n",
    "    ## remove unused feature in modeling\n",
    "    preds_df = X_test\n",
    "    X_train = X_train.drop(['person_id', 'screening_date', 'race'], axis=1)\n",
    "    X_test = X_test.drop(['person_id', 'screening_date', 'race'], axis=1)\n",
    "    \n",
    "    ## estimator\n",
    "    lasso = LogisticRegression(class_weight = 'balanced', solver='liblinear', \n",
    "                               random_state=seed, penalty='l1', C = c).fit(X_train, Y_train)\n",
    "    coefs = lasso.coef_[lasso.coef_ != 0]\n",
    "    features = columns[lasso.coef_[0] != 0].tolist()\n",
    "    intercept = round(lasso.intercept_[0],3)\n",
    "     \n",
    "    ## dictionary\n",
    "    lasso_dict_rounding = {}\n",
    "    for i in range(len(features)):\n",
    "        lasso_dict_rounding.update({features[i]: round(round(coefs[i], 3)*100, 1)})\n",
    "    \n",
    "    ## prediction on test set\n",
    "    prob = 0\n",
    "    for k in features:\n",
    "        test_values = X_test[k]*(lasso_dict_rounding[k]/100)\n",
    "        prob += test_values\n",
    "    \n",
    "    holdout_prob = np.exp(prob)/(1+np.exp(prob))\n",
    "    preds_df['prediction'] = holdout_prob \n",
    "    preds_df['label'] = Y_test\n",
    "#     test_auc = roc_auc_score(Y_test, holdout_prob)\n",
    "    \n",
    "    return {'coefs': coefs, \n",
    "            'features': features, \n",
    "            'intercept': intercept, \n",
    "            'dictionary': lasso_dict_rounding, \n",
    "#             'test_auc': test_auc,\n",
    "            'preds_df': preds_df[['person_id',  'screening_date', 'race', 'prediction', 'label']]}"
   ]
  },
  {
   "cell_type": "code",
   "execution_count": null,
   "metadata": {},
   "outputs": [],
   "source": [
    "# based on nested CV procedure, best c value was .05\n",
    "# 163 columns, 372 rows)\n",
    "best_stumps_summary = stump_preds(X_train_stumps, Y_train_stumps, \n",
    "                          X_test_stumps, Y_test_stumps, \n",
    "                          c=0.05, columns=cols, seed=816)\n",
    "stumps_violence6 = best_stumps_summary['preds_df'].rename(columns={\"race\": \"group\"})\n",
    "stumps_violence6 = stumps_violence6[(stumps_violence6['group']==\"Caucasian\") | (stumps_violence6['group']==\"African-American\")]\n",
    "stumps_violence6.drop(labels = [\"person_id\",\"screening_date\"], inplace=True, axis=1)\n",
    "stumps_violence6['group'] = stumps_violence6['group'].map({'Caucasian': 0, 'African-American': 1})\n",
    "stumps_violence6"
   ]
  },
  {
   "cell_type": "markdown",
   "metadata": {},
   "source": [
    "## Enforce Equalized Odds (Hardt, Srebo)"
   ]
  },
  {
   "cell_type": "code",
   "execution_count": null,
   "metadata": {},
   "outputs": [],
   "source": [
    "from fairness_enforcers.equalized_odds.eq_odds import run_eq_odds"
   ]
  },
  {
   "cell_type": "code",
   "execution_count": null,
   "metadata": {},
   "outputs": [],
   "source": [
    "run_eq_odds(test_and_val_data=stumps_violence6)\n"
   ]
  },
  {
   "cell_type": "markdown",
   "metadata": {},
   "source": [
    "## Enforce Calibrated Equalized Odds"
   ]
  },
  {
   "cell_type": "code",
   "execution_count": null,
   "metadata": {},
   "outputs": [],
   "source": [
    "from fairness_enforcers.equalized_odds.calib_eq_odds import run_calib_eq_odds"
   ]
  },
  {
   "cell_type": "code",
   "execution_count": null,
   "metadata": {},
   "outputs": [],
   "source": [
    "run_calib_eq_odds(test_and_val_data=stumps_violence6)"
   ]
  }
 ],
 "metadata": {
  "kernelspec": {
   "display_name": "Python 3",
   "language": "python",
   "name": "python3"
  },
  "language_info": {
   "codemirror_mode": {
    "name": "ipython",
    "version": 3
   },
   "file_extension": ".py",
   "mimetype": "text/x-python",
   "name": "python",
   "nbconvert_exporter": "python",
   "pygments_lexer": "ipython3",
   "version": "3.6.5"
  }
 },
 "nbformat": 4,
 "nbformat_minor": 2
}
