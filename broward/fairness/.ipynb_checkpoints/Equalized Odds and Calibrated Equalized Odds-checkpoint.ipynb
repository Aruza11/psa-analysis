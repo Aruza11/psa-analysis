{
 "cells": [
  {
   "cell_type": "code",
   "execution_count": 1,
   "metadata": {},
   "outputs": [
    {
     "name": "stdout",
     "output_type": "stream",
     "text": [
      "Current working directory is now:  C:\\Users\\Caroline Wang\\OneDrive\\Duke\\Criminal Recidivism\\psa-analysis\n"
     ]
    }
   ],
   "source": [
    "import os \n",
    "os.chdir('../../')\n",
    "print(\"Current working directory is now: \", os.getcwd())\n",
    "\n",
    "import numpy as np \n",
    "import pandas as pd \n",
    "from broward.models.advanced_models.six_month import stumps"
   ]
  },
  {
   "cell_type": "markdown",
   "metadata": {},
   "source": [
    "## Fairness for Two Year General Recidivism \n",
    "Base rate 45.5%, the highest out of all Broward problems. "
   ]
  },
  {
   "cell_type": "code",
   "execution_count": 2,
   "metadata": {},
   "outputs": [],
   "source": [
    "# load train & test data\n",
    "train_stumps = pd.read_csv(\"broward/data/broward_train_stumps.csv\")\n",
    "test_stumps = pd.read_csv(\"broward/data/broward_test_stumps.csv\")\n",
    "\n",
    "X_train_stumps, Y_train_stumps = train_stumps.loc[:,:'five_year>=1'], train_stumps['recid_two_year'].values\n",
    "X_test_stumps, Y_test_stumps = test_stumps.loc[:,:'five_year>=1'], test_stumps['recid_two_year'].values\n",
    "cols = X_train_stumps.columns[3:]\n",
    "\n",
    "Y_train_stumps[Y_train_stumps == -1] = 0\n",
    "Y_test_stumps[Y_test_stumps == -1] = 0"
   ]
  },
  {
   "cell_type": "code",
   "execution_count": 3,
   "metadata": {},
   "outputs": [],
   "source": [
    "from sklearn.linear_model import LogisticRegression\n",
    "\n",
    "def stump_preds(X_train, Y_train, X_test, Y_test, c, columns, seed):\n",
    "    ## remove unused feature in modeling\n",
    "    # preds df is caroline's addition\n",
    "    preds_df = X_test\n",
    "    X_train = X_train.drop(['person_id', 'screening_date', 'race'], axis=1)\n",
    "    X_test = X_test.drop(['person_id', 'screening_date', 'race'], axis=1)\n",
    "    \n",
    "    ## estimator\n",
    "    lasso = LogisticRegression(class_weight = 'balanced', solver='liblinear', \n",
    "                               random_state=seed, penalty='l1', C = c).fit(X_train, Y_train)\n",
    "    coefs = lasso.coef_[lasso.coef_ != 0]\n",
    "    features = columns[lasso.coef_[0] != 0].tolist()\n",
    "    intercept = round(lasso.intercept_[0],3)\n",
    "     \n",
    "    ## dictionary\n",
    "    lasso_dict_rounding = {}\n",
    "    for i in range(len(features)):\n",
    "        lasso_dict_rounding.update({features[i]: round(round(coefs[i], 3)*100, 1)})\n",
    "    \n",
    "    ## prediction on test set\n",
    "    prob = 0\n",
    "    for k in features:\n",
    "        test_values = X_test[k]*(lasso_dict_rounding[k]/100)\n",
    "        prob += test_values\n",
    "    \n",
    "    holdout_prob = np.exp(prob)/(1+np.exp(prob))\n",
    "    preds_df['prediction'] = holdout_prob \n",
    "    preds_df['label'] = Y_test\n",
    "#     test_auc = roc_auc_score(Y_test, holdout_prob)\n",
    "    \n",
    "    return {'coefs': coefs, \n",
    "            'features': features, \n",
    "            'intercept': intercept, \n",
    "            'dictionary': lasso_dict_rounding, \n",
    "#             'test_auc': test_auc,\n",
    "            'preds_df': preds_df[['person_id',  'screening_date', 'race', 'prediction', 'label']]}"
   ]
  },
  {
   "cell_type": "code",
   "execution_count": 30,
   "metadata": {},
   "outputs": [],
   "source": [
    "# based on nested CV procedure, best c value was .05\n",
    "best_stumps_summary = stump_preds(X_train_stumps, Y_train_stumps, \n",
    "                                  X_test_stumps, Y_test_stumps, \n",
    "                                  c=0.05, columns=cols, seed=816)\n",
    "\n",
    "# the above gives predictions on test set; I need predictions on train set \n",
    "two_year_recid_stumps = best_stumps_summary['preds_df'].rename(columns={\"race\": \"group\"})\n",
    "two_year_recid_stumps = two_year_recid_stumps[(two_year_recid_stumps['group']==\"Caucasian\") | (two_year_recid_stumps['group']==\"African-American\")]\n",
    "two_year_recid_stumps.drop(labels = [\"person_id\",\"screening_date\"], inplace=True, axis=1)\n",
    "two_year_recid_stumps['group'] = two_year_recid_stumps['group'].map({'Caucasian': 0, 'African-American': 1})"
   ]
  },
  {
   "cell_type": "code",
   "execution_count": 31,
   "metadata": {},
   "outputs": [
    {
     "name": "stdout",
     "output_type": "stream",
     "text": [
      "+-----------------------------------+----------------+\n",
      "| Features                          | Score          |\n",
      "|====================================================|\n",
      "| p_current_age>=23                 | -23.0          |\n",
      "| p_current_age>=37                 | -74.2          |\n",
      "| p_age_first_offense<=20           | 10.9           |\n",
      "| p_age_first_offense<=29           | -19.6          |\n",
      "| p_charge>=8                       | -52.9          |\n",
      "| p_prison>=1                       | 24.9           |\n",
      "| p_probation>=5                    | 46.6           |\n",
      "| p_felassault_arrest>=1            | -8.3           |\n",
      "| p_weapons_arrest>=1               | -2.7           |\n",
      "| prior_conviction_M>=1             | -1.2           |\n",
      "| prior_conviction_M>=7             | 29.6           |\n",
      "| violent_conviction>=5             | -13.5          |\n",
      "| p_arrest>=30                      | 5.3            |\n",
      "| p_drug>=2                         | 103.4          |\n",
      "| p_drug>=3                         | 26.3           |\n",
      "| p_dui>=1                          | -20.6          |\n",
      "| p_stealing>=3                     | -20.6          |\n",
      "| years_since_last_crime>=0.5       | -14.5          |\n",
      "| years_since_last_crime>=1         | -0.2           |\n",
      "| Intercept                         | 0.0            |\n",
      "|====================================================|\n",
      "| ADD POINTS FROM ROWS 1 TO 19      | Total Score    |\n",
      "+-----------------------------------+----------------+\n"
     ]
    }
   ],
   "source": [
    "stumps.stump_table(best_stumps_summary['coefs'], \n",
    "                   best_stumps_summary['features'], \n",
    "                   best_stumps_summary['intercept'], \n",
    "                   best_stumps_summary['dictionary'])"
   ]
  },
  {
   "cell_type": "markdown",
   "metadata": {},
   "source": [
    "#### Enforce Equalized Odds (Hardt, Srebo)"
   ]
  },
  {
   "cell_type": "code",
   "execution_count": 5,
   "metadata": {},
   "outputs": [],
   "source": [
    "from fairness_enforcers.equalized_odds.eq_odds import run_eq_odds\n",
    "from fairness_enforcers.equalized_odds.calib_eq_odds import run_calib_eq_odds"
   ]
  },
  {
   "cell_type": "markdown",
   "metadata": {},
   "source": [
    "Questions: Why are the originals different between the original groups when computed for equalized odds vs for calibrated equalized odds?"
   ]
  },
  {
   "cell_type": "code",
   "execution_count": 18,
   "metadata": {},
   "outputs": [
    {
     "name": "stdout",
     "output_type": "stream",
     "text": [
      "Original group 0 model:\n",
      "Accuracy: 0.700\n",
      "AUC: 0.694\n",
      "FPR: 0.140\n",
      "FNR: 0.160\n",
      "FP cost: 0.441\n",
      "FN cost: 0.516\n",
      "Base rate: 0.400\n",
      "Avg. score: 0.458\n",
      "\n",
      "Original group 1 model:\n",
      "Accuracy: 0.617\n",
      "AUC: 0.614\n",
      "FPR: 0.262\n",
      "FNR: 0.121\n",
      "FP cost: 0.493\n",
      "FN cost: 0.467\n",
      "Base rate: 0.495\n",
      "Avg. score: 0.513\n",
      "\n",
      "Equalized odds group 0 model:\n",
      "Accuracy: 0.700\n",
      "AUC: 0.694\n",
      "FPR: 0.140\n",
      "FNR: 0.160\n",
      "FP cost: 0.441\n",
      "FN cost: 0.516\n",
      "Base rate: 0.400\n",
      "Avg. score: 0.458\n",
      "\n",
      "Equalized odds group 1 model:\n",
      "Accuracy: 0.579\n",
      "AUC: 0.640\n",
      "FPR: 0.159\n",
      "FNR: 0.262\n",
      "FP cost: 0.454\n",
      "FN cost: 0.505\n",
      "Base rate: 0.495\n",
      "Avg. score: 0.474\n",
      "\n"
     ]
    },
    {
     "name": "stderr",
     "output_type": "stream",
     "text": [
      "C:\\Users\\Caroline Wang\\OneDrive\\Duke\\Criminal Recidivism\\psa-analysis\\fairness_enforcers\\equalized_odds\\eq_odds.py:220: FutureWarning: Method .as_matrix will be removed in a future version. Use .values instead.\n",
      "  group_0_val_model = Model(group_0_val_data['prediction'].as_matrix(), group_0_val_data['label'].as_matrix())\n",
      "C:\\Users\\Caroline Wang\\OneDrive\\Duke\\Criminal Recidivism\\psa-analysis\\fairness_enforcers\\equalized_odds\\eq_odds.py:221: FutureWarning: Method .as_matrix will be removed in a future version. Use .values instead.\n",
      "  group_1_val_model = Model(group_1_val_data['prediction'].as_matrix(), group_1_val_data['label'].as_matrix())\n",
      "C:\\Users\\Caroline Wang\\OneDrive\\Duke\\Criminal Recidivism\\psa-analysis\\fairness_enforcers\\equalized_odds\\eq_odds.py:222: FutureWarning: Method .as_matrix will be removed in a future version. Use .values instead.\n",
      "  group_0_test_model = Model(group_0_test_data['prediction'].as_matrix(), group_0_test_data['label'].as_matrix())\n",
      "C:\\Users\\Caroline Wang\\OneDrive\\Duke\\Criminal Recidivism\\psa-analysis\\fairness_enforcers\\equalized_odds\\eq_odds.py:223: FutureWarning: Method .as_matrix will be removed in a future version. Use .values instead.\n",
      "  group_1_test_model = Model(group_1_test_data['prediction'].as_matrix(), group_1_test_data['label'].as_matrix())\n"
     ]
    }
   ],
   "source": [
    "eq_group_0_test_model, eq_group_1_test_model, eq_odds_group_0_test_model, eq_odds_group_1_test_model = run_eq_odds(test_and_val_data=two_year_recid_stumps)\n"
   ]
  },
  {
   "cell_type": "markdown",
   "metadata": {},
   "source": [
    "#### Enforce Calibrated Equalized Odds"
   ]
  },
  {
   "cell_type": "code",
   "execution_count": 7,
   "metadata": {},
   "outputs": [],
   "source": [
    "calib_group_1_test_summary, calib_group_1_test_summary, calib_eq_odds_group_0_test_summary, calib_eq_odds_group_1_test_summary = run_calib_eq_odds(test_and_val_data=two_year_recid_stumps,\n",
    "                                                                                                                                                   cost_constraint='fpr')"
   ]
  },
  {
   "cell_type": "markdown",
   "metadata": {},
   "source": [
    "\"To measure false-negative or false-positive discrimination, it is enough to check the difference in error rates between groups. To measure calibration, we can compare the average model score with the population's base rate. A necessary (but not sufficient) condition for calibration is that the average model score should match the base rate.\" \n",
    "\n",
    "I thnk they assume that the models are calibrated? "
   ]
  },
  {
   "cell_type": "markdown",
   "metadata": {},
   "source": [
    "## Fairness for Six Month Drug Recidivism \n",
    "Base rate 4%, the lowest out of all Broward problems. "
   ]
  },
  {
   "cell_type": "code",
   "execution_count": 32,
   "metadata": {},
   "outputs": [],
   "source": [
    "# load train & test data\n",
    "X_train_stumps, Y_train_stumps = train_stumps.loc[:,:'five_year>=1'], train_stumps['recid_drug6'].values\n",
    "X_test_stumps, Y_test_stumps = test_stumps.loc[:,:'five_year>=1'], test_stumps['recid_drug6'].values\n",
    "cols = X_train_stumps.columns[3:]\n",
    "\n",
    "Y_train_stumps[Y_train_stumps == -1] = 0\n",
    "Y_test_stumps[Y_test_stumps == -1] = 0"
   ]
  },
  {
   "cell_type": "code",
   "execution_count": 33,
   "metadata": {},
   "outputs": [
    {
     "name": "stdout",
     "output_type": "stream",
     "text": [
      "+-----------------------------------+----------------+\n",
      "| Features                          | Score          |\n",
      "|====================================================|\n",
      "| p_current_age>=23                 | -23.0          |\n",
      "| p_current_age>=37                 | -74.2          |\n",
      "| p_age_first_offense<=20           | 10.9           |\n",
      "| p_age_first_offense<=29           | -19.6          |\n",
      "| p_charge>=8                       | -52.9          |\n",
      "| p_prison>=1                       | 24.9           |\n",
      "| p_probation>=5                    | 46.6           |\n",
      "| p_felassault_arrest>=1            | -8.3           |\n",
      "| p_weapons_arrest>=1               | -2.7           |\n",
      "| prior_conviction_M>=1             | -1.2           |\n",
      "| prior_conviction_M>=7             | 29.6           |\n",
      "| violent_conviction>=5             | -13.5          |\n",
      "| p_arrest>=30                      | 5.3            |\n",
      "| p_drug>=2                         | 103.4          |\n",
      "| p_drug>=3                         | 26.3           |\n",
      "| p_dui>=1                          | -20.6          |\n",
      "| p_stealing>=3                     | -20.6          |\n",
      "| years_since_last_crime>=0.5       | -14.5          |\n",
      "| years_since_last_crime>=1         | -0.2           |\n",
      "| Intercept                         | 0.0            |\n",
      "|====================================================|\n",
      "| ADD POINTS FROM ROWS 1 TO 19      | Total Score    |\n",
      "+-----------------------------------+----------------+\n"
     ]
    }
   ],
   "source": [
    "# based on nested CV procedure, best c value was .05\n",
    "best_stumps_summary = stump_preds(X_train_stumps, Y_train_stumps, \n",
    "                                  X_test_stumps, Y_test_stumps, \n",
    "                                  c=0.05, columns=cols, seed=816)\n",
    "\n",
    "stumps.stump_table(best_stumps_summary['coefs'], \n",
    "                   best_stumps_summary['features'], \n",
    "                   best_stumps_summary['intercept'], \n",
    "                   best_stumps_summary['dictionary'])\n"
   ]
  },
  {
   "cell_type": "code",
   "execution_count": 29,
   "metadata": {},
   "outputs": [
    {
     "name": "stdout",
     "output_type": "stream",
     "text": [
      "Original group 0 model:\n",
      "Accuracy: 0.667\n",
      "AUC: 0.681\n",
      "FPR: 0.158\n",
      "FNR: 0.175\n",
      "FP cost: 0.445\n",
      "FN cost: 0.500\n",
      "Base rate: 0.421\n",
      "Avg. score: 0.468\n",
      "\n",
      "Original group 1 model:\n",
      "Accuracy: 0.640\n",
      "AUC: 0.678\n",
      "FPR: 0.280\n",
      "FNR: 0.080\n",
      "FP cost: 0.491\n",
      "FN cost: 0.448\n",
      "Base rate: 0.440\n",
      "Avg. score: 0.518\n",
      "\n",
      "Equalized odds group 0 model:\n",
      "Accuracy: 0.667\n",
      "AUC: 0.681\n",
      "FPR: 0.158\n",
      "FNR: 0.175\n",
      "FP cost: 0.445\n",
      "FN cost: 0.500\n",
      "Base rate: 0.421\n",
      "Avg. score: 0.468\n",
      "\n",
      "Equalized odds group 1 model:\n",
      "Accuracy: 0.660\n",
      "AUC: 0.738\n",
      "FPR: 0.130\n",
      "FNR: 0.210\n",
      "FP cost: 0.454\n",
      "FN cost: 0.477\n",
      "Base rate: 0.440\n",
      "Avg. score: 0.484\n",
      "\n",
      "Cost constraint is fpr\n",
      "Original group 0 model:\n",
      "Accuracy: 0.750\n",
      "AUC: 0.711\n",
      "FPR: 0.125\n",
      "FNR: 0.125\n",
      "FP cost: 0.444\n",
      "FN cost: 0.500\n",
      "Base rate: 0.393\n",
      "Avg. score: 0.466\n",
      "\n",
      "Original group 1 model:\n",
      "Accuracy: 0.614\n",
      "AUC: 0.624\n",
      "FPR: 0.267\n",
      "FNR: 0.119\n",
      "FP cost: 0.496\n",
      "FN cost: 0.460\n",
      "Base rate: 0.475\n",
      "Avg. score: 0.517\n",
      "\n",
      "Equalized odds group 0 model:\n",
      "Accuracy: 0.750\n",
      "AUC: 0.711\n",
      "FPR: 0.125\n",
      "FNR: 0.125\n",
      "FP cost: 0.444\n",
      "FN cost: 0.500\n",
      "Base rate: 0.393\n",
      "Avg. score: 0.466\n",
      "\n",
      "Equalized odds group 1 model:\n",
      "Accuracy: 0.614\n",
      "AUC: 0.624\n",
      "FPR: 0.267\n",
      "FNR: 0.119\n",
      "FP cost: 0.496\n",
      "FN cost: 0.460\n",
      "Base rate: 0.475\n",
      "Avg. score: 0.517\n",
      "\n"
     ]
    },
    {
     "name": "stderr",
     "output_type": "stream",
     "text": [
      "C:\\Users\\Caroline Wang\\OneDrive\\Duke\\Criminal Recidivism\\psa-analysis\\fairness_enforcers\\equalized_odds\\eq_odds.py:220: FutureWarning: Method .as_matrix will be removed in a future version. Use .values instead.\n",
      "  group_0_val_model = Model(group_0_val_data['prediction'].as_matrix(), group_0_val_data['label'].as_matrix())\n",
      "C:\\Users\\Caroline Wang\\OneDrive\\Duke\\Criminal Recidivism\\psa-analysis\\fairness_enforcers\\equalized_odds\\eq_odds.py:221: FutureWarning: Method .as_matrix will be removed in a future version. Use .values instead.\n",
      "  group_1_val_model = Model(group_1_val_data['prediction'].as_matrix(), group_1_val_data['label'].as_matrix())\n",
      "C:\\Users\\Caroline Wang\\OneDrive\\Duke\\Criminal Recidivism\\psa-analysis\\fairness_enforcers\\equalized_odds\\eq_odds.py:222: FutureWarning: Method .as_matrix will be removed in a future version. Use .values instead.\n",
      "  group_0_test_model = Model(group_0_test_data['prediction'].as_matrix(), group_0_test_data['label'].as_matrix())\n",
      "C:\\Users\\Caroline Wang\\OneDrive\\Duke\\Criminal Recidivism\\psa-analysis\\fairness_enforcers\\equalized_odds\\eq_odds.py:223: FutureWarning: Method .as_matrix will be removed in a future version. Use .values instead.\n",
      "  group_1_test_model = Model(group_1_test_data['prediction'].as_matrix(), group_1_test_data['label'].as_matrix())\n",
      "C:\\Users\\Caroline Wang\\OneDrive\\Duke\\Criminal Recidivism\\psa-analysis\\fairness_enforcers\\equalized_odds\\calib_eq_odds.py:188: FutureWarning: Method .as_matrix will be removed in a future version. Use .values instead.\n",
      "  group_0_val_model = Model(group_0_val_data['prediction'].as_matrix(), group_0_val_data['label'].as_matrix())\n",
      "C:\\Users\\Caroline Wang\\OneDrive\\Duke\\Criminal Recidivism\\psa-analysis\\fairness_enforcers\\equalized_odds\\calib_eq_odds.py:189: FutureWarning: Method .as_matrix will be removed in a future version. Use .values instead.\n",
      "  group_1_val_model = Model(group_1_val_data['prediction'].as_matrix(), group_1_val_data['label'].as_matrix())\n",
      "C:\\Users\\Caroline Wang\\OneDrive\\Duke\\Criminal Recidivism\\psa-analysis\\fairness_enforcers\\equalized_odds\\calib_eq_odds.py:190: FutureWarning: Method .as_matrix will be removed in a future version. Use .values instead.\n",
      "  group_0_test_model = Model(group_0_test_data['prediction'].as_matrix(), group_0_test_data['label'].as_matrix())\n",
      "C:\\Users\\Caroline Wang\\OneDrive\\Duke\\Criminal Recidivism\\psa-analysis\\fairness_enforcers\\equalized_odds\\calib_eq_odds.py:191: FutureWarning: Method .as_matrix will be removed in a future version. Use .values instead.\n",
      "  group_1_test_model = Model(group_1_test_data['prediction'].as_matrix(), group_1_test_data['label'].as_matrix())\n"
     ]
    }
   ],
   "source": [
    "recid_drug6_stumps = best_stumps_summary['preds_df'].rename(columns={\"race\": \"group\"})\n",
    "recid_drug6_stumps = recid_drug6_stumps[(recid_drug6_stumps['group']==\"Caucasian\") | (recid_drug6_stumps['group']==\"African-American\")]\n",
    "recid_drug6_stumps.drop(labels = [\"person_id\",\"screening_date\"], inplace=True, axis=1)\n",
    "recid_drug6_stumps['group'] = recid_drug6_stumps['group'].map({'Caucasian': 0, 'African-American': 1})\n",
    "\n",
    "eq_group_0_test_model, eq_group_1_test_model, eq_odds_group_0_test_model, eq_odds_group_1_test_model = run_eq_odds(test_and_val_data=two_year_recid_stumps)\n",
    "calib_group_1_test_summary, calib_group_1_test_summary, calib_eq_odds_group_0_test_summary, calib_eq_odds_group_1_test_summary = run_calib_eq_odds(test_and_val_data=two_year_recid_stumps,\n",
    "                                                                                                                                                   cost_constraint='fpr')"
   ]
  }
 ],
 "metadata": {
  "kernelspec": {
   "display_name": "Python 3",
   "language": "python",
   "name": "python3"
  },
  "language_info": {
   "codemirror_mode": {
    "name": "ipython",
    "version": 3
   },
   "file_extension": ".py",
   "mimetype": "text/x-python",
   "name": "python",
   "nbconvert_exporter": "python",
   "pygments_lexer": "ipython3",
   "version": "3.6.5"
  }
 },
 "nbformat": 4,
 "nbformat_minor": 2
}
