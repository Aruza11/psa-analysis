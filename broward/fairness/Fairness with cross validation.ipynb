{
 "cells": [
  {
   "cell_type": "code",
   "execution_count": 1,
   "metadata": {},
   "outputs": [],
   "source": [
    "import numpy as np \n",
    "import pandas as pd \n",
    "from sklearn.metrics import make_scorer\n",
    "from sklearn.linear_model import LogisticRegression\n",
    "from sklearn.model_selection import KFold, GridSearchCV, cross_validate\n",
    "from sklearn.model_selection import train_test_split\n",
    "\n",
    "\n",
    "from aequitas.group import Group\n",
    "from aequitas.bias import Bias\n",
    "from aequitas.fairness import Fairness\n",
    "from aequitas.plotting import Plot\n",
    "\n",
    "%matplotlib inline"
   ]
  },
  {
   "cell_type": "markdown",
   "metadata": {},
   "source": [
    "## Incorporating fairness into cross validation"
   ]
  },
  {
   "cell_type": "markdown",
   "metadata": {},
   "source": [
    "Read in data "
   ]
  },
  {
   "cell_type": "code",
   "execution_count": 16,
   "metadata": {},
   "outputs": [],
   "source": [
    "### load data\n",
    "data = pd.read_csv(\"../data/broward_data.csv\")\n",
    "\n",
    "X = data.loc[:,:'five_year']\n",
    "Y = data['recid_two_year']"
   ]
  },
  {
   "cell_type": "code",
   "execution_count": 25,
   "metadata": {},
   "outputs": [
    {
     "data": {
      "text/plain": [
       "Index(['person_id', 'screening_date', 'sex', 'p_current_age',\n",
       "       'p_age_first_offense', 'p_charge', 'p_jail30', 'p_prison',\n",
       "       'p_probation', 'p_juv_fel_count', 'p_felprop_violarrest',\n",
       "       'p_murder_arrest', 'p_felassault_arrest', 'p_misdemassault_arrest',\n",
       "       'p_famviol_arrest', 'p_sex_arrest', 'p_weapons_arrest',\n",
       "       'fail_appear_two_yr', 'fail_appear_two_plus', 'current_violent',\n",
       "       'current_violent20', 'pending_charge', 'prior_conviction_F',\n",
       "       'prior_conviction_M', 'violent_conviction', 'total_convictions',\n",
       "       'p_arrest', 'p_property', 'p_traffic', 'p_drug', 'p_dui', 'p_domestic',\n",
       "       'p_stalking', 'p_voyeurism', 'p_fraud', 'p_stealing', 'p_trespass',\n",
       "       'years_since_last_crime', 'six_month', 'one_year', 'three_year',\n",
       "       'five_year', 'recid_two_year', 'recid_six_month', 'recid_drug',\n",
       "       'recid_property', 'recid_M', 'recid_F', 'recid_violent'],\n",
       "      dtype='object')"
      ]
     },
     "execution_count": 25,
     "metadata": {},
     "output_type": "execute_result"
    }
   ],
   "source": [
    "data.columns"
   ]
  },
  {
   "cell_type": "code",
   "execution_count": 21,
   "metadata": {},
   "outputs": [],
   "source": [
    "### Implementing fairness as scoring method \n",
    "\n",
    "\n",
    "def compute_fairness(df: pd.DataFrame, \n",
    "                     decoders: dict, \n",
    "                     sensitive_attrs: list,\n",
    "                     ref_groups_dict: dict) -> pd.DataFrame:\n",
    "    \"\"\"\n",
    "    decoders: dictionary of dictionary of decoders \n",
    "    \"\"\"\n",
    "    df = df.rename({\"person_id\": \"entity_id\"}, axis=\"columns\")\n",
    "    # decode numeric encodings for cat var\n",
    "    for decoder_name, decoder_dict in decoders.items():\n",
    "        df = df.replace({decoder_name: decoder_dict})\n",
    "    \n",
    "    g = Group()\n",
    "    xtab, _ = g.get_crosstabs(df, attr_cols=sensitive_attrs)\n",
    "    # compute bias \n",
    "    b = Bias()\n",
    "    bdf = b.get_disparity_predefined_groups(xtab, \n",
    "                                            original_df=df, \n",
    "                                            ref_groups_dict=ref_groups_dict, \n",
    "                                            alpha=0.05, \n",
    "#                                           check_significance=True, \n",
    "#                                           mask_significance=True\n",
    "                                            )\n",
    "    f = Fairness()\n",
    "    fdf = f.get_group_value_fairness(bdf)\n",
    "\n",
    "    # list results of fairness analysis\n",
    "    parity_determinations = f.list_parities(fdf)\n",
    "    \n",
    "    absolute_metrics = g.list_absolute_metrics(xtab)\n",
    "    return fdf[['attribute_name', 'attribute_value'] + absolute_metrics + b.list_disparities(fdf) + parity_determinations].style"
   ]
  },
  {
   "cell_type": "code",
   "execution_count": 22,
   "metadata": {},
   "outputs": [
    {
     "name": "stderr",
     "output_type": "stream",
     "text": [
      "C:\\Users\\Caroline Wang\\Anaconda3\\lib\\site-packages\\pandas\\core\\indexing.py:362: SettingWithCopyWarning: \n",
      "A value is trying to be set on a copy of a slice from a DataFrame.\n",
      "Try using .loc[row_indexer,col_indexer] = value instead\n",
      "\n",
      "See the caveats in the documentation: http://pandas.pydata.org/pandas-docs/stable/user_guide/indexing.html#returning-a-view-versus-a-copy\n",
      "  self.obj[key] = _infer_fill_value(value)\n",
      "C:\\Users\\Caroline Wang\\Anaconda3\\lib\\site-packages\\pandas\\core\\indexing.py:480: SettingWithCopyWarning: \n",
      "A value is trying to be set on a copy of a slice from a DataFrame.\n",
      "Try using .loc[row_indexer,col_indexer] = value instead\n",
      "\n",
      "See the caveats in the documentation: http://pandas.pydata.org/pandas-docs/stable/user_guide/indexing.html#returning-a-view-versus-a-copy\n",
      "  self.obj[item] = s\n"
     ]
    },
    {
     "name": "stdout",
     "output_type": "stream",
     "text": [
      "model_id, score_thresholds 1 {'rank_abs': [307]}\n",
      "get_disparity_predefined_group()\n"
     ]
    },
    {
     "data": {
      "text/html": [
       "<style  type=\"text/css\" >\n",
       "</style><table id=\"T_408fe94a_c728_11e9_854b_c1ec4e0571f1\" ><thead>    <tr>        <th class=\"blank level0\" ></th>        <th class=\"col_heading level0 col0\" >attribute_name</th>        <th class=\"col_heading level0 col1\" >attribute_value</th>        <th class=\"col_heading level0 col2\" >tpr</th>        <th class=\"col_heading level0 col3\" >tnr</th>        <th class=\"col_heading level0 col4\" >for</th>        <th class=\"col_heading level0 col5\" >fdr</th>        <th class=\"col_heading level0 col6\" >fpr</th>        <th class=\"col_heading level0 col7\" >fnr</th>        <th class=\"col_heading level0 col8\" >npv</th>        <th class=\"col_heading level0 col9\" >precision</th>        <th class=\"col_heading level0 col10\" >ppr</th>        <th class=\"col_heading level0 col11\" >pprev</th>        <th class=\"col_heading level0 col12\" >prev</th>        <th class=\"col_heading level0 col13\" >ppr_disparity</th>        <th class=\"col_heading level0 col14\" >pprev_disparity</th>        <th class=\"col_heading level0 col15\" >precision_disparity</th>        <th class=\"col_heading level0 col16\" >fdr_disparity</th>        <th class=\"col_heading level0 col17\" >for_disparity</th>        <th class=\"col_heading level0 col18\" >fpr_disparity</th>        <th class=\"col_heading level0 col19\" >fnr_disparity</th>        <th class=\"col_heading level0 col20\" >tpr_disparity</th>        <th class=\"col_heading level0 col21\" >tnr_disparity</th>        <th class=\"col_heading level0 col22\" >npv_disparity</th>        <th class=\"col_heading level0 col23\" >TNR Parity</th>        <th class=\"col_heading level0 col24\" >FNR Parity</th>        <th class=\"col_heading level0 col25\" >Statistical Parity</th>        <th class=\"col_heading level0 col26\" >FPR Parity</th>        <th class=\"col_heading level0 col27\" >Supervised Fairness</th>        <th class=\"col_heading level0 col28\" >TypeII Parity</th>        <th class=\"col_heading level0 col29\" >FDR Parity</th>        <th class=\"col_heading level0 col30\" >TypeI Parity</th>        <th class=\"col_heading level0 col31\" >Impact Parity</th>        <th class=\"col_heading level0 col32\" >Precision Parity</th>        <th class=\"col_heading level0 col33\" >NPV Parity</th>        <th class=\"col_heading level0 col34\" >FOR Parity</th>        <th class=\"col_heading level0 col35\" >Equalized Odds</th>        <th class=\"col_heading level0 col36\" >TPR Parity</th>        <th class=\"col_heading level0 col37\" >Unsupervised Fairness</th>    </tr></thead><tbody>\n",
       "                <tr>\n",
       "                        <th id=\"T_408fe94a_c728_11e9_854b_c1ec4e0571f1level0_row0\" class=\"row_heading level0 row0\" >0</th>\n",
       "                        <td id=\"T_408fe94a_c728_11e9_854b_c1ec4e0571f1row0_col0\" class=\"data row0 col0\" >sex</td>\n",
       "                        <td id=\"T_408fe94a_c728_11e9_854b_c1ec4e0571f1row0_col1\" class=\"data row0 col1\" >female</td>\n",
       "                        <td id=\"T_408fe94a_c728_11e9_854b_c1ec4e0571f1row0_col2\" class=\"data row0 col2\" >0.470588</td>\n",
       "                        <td id=\"T_408fe94a_c728_11e9_854b_c1ec4e0571f1row0_col3\" class=\"data row0 col3\" >0.9</td>\n",
       "                        <td id=\"T_408fe94a_c728_11e9_854b_c1ec4e0571f1row0_col4\" class=\"data row0 col4\" >0.285714</td>\n",
       "                        <td id=\"T_408fe94a_c728_11e9_854b_c1ec4e0571f1row0_col5\" class=\"data row0 col5\" >0.238095</td>\n",
       "                        <td id=\"T_408fe94a_c728_11e9_854b_c1ec4e0571f1row0_col6\" class=\"data row0 col6\" >0.1</td>\n",
       "                        <td id=\"T_408fe94a_c728_11e9_854b_c1ec4e0571f1row0_col7\" class=\"data row0 col7\" >0.529412</td>\n",
       "                        <td id=\"T_408fe94a_c728_11e9_854b_c1ec4e0571f1row0_col8\" class=\"data row0 col8\" >0.714286</td>\n",
       "                        <td id=\"T_408fe94a_c728_11e9_854b_c1ec4e0571f1row0_col9\" class=\"data row0 col9\" >0.761905</td>\n",
       "                        <td id=\"T_408fe94a_c728_11e9_854b_c1ec4e0571f1row0_col10\" class=\"data row0 col10\" >0.0684039</td>\n",
       "                        <td id=\"T_408fe94a_c728_11e9_854b_c1ec4e0571f1row0_col11\" class=\"data row0 col11\" >0.25</td>\n",
       "                        <td id=\"T_408fe94a_c728_11e9_854b_c1ec4e0571f1row0_col12\" class=\"data row0 col12\" >0.404762</td>\n",
       "                        <td id=\"T_408fe94a_c728_11e9_854b_c1ec4e0571f1row0_col13\" class=\"data row0 col13\" >0.0734266</td>\n",
       "                        <td id=\"T_408fe94a_c728_11e9_854b_c1ec4e0571f1row0_col14\" class=\"data row0 col14\" >0.439685</td>\n",
       "                        <td id=\"T_408fe94a_c728_11e9_854b_c1ec4e0571f1row0_col15\" class=\"data row0 col15\" >1.28938</td>\n",
       "                        <td id=\"T_408fe94a_c728_11e9_854b_c1ec4e0571f1row0_col16\" class=\"data row0 col16\" >0.582011</td>\n",
       "                        <td id=\"T_408fe94a_c728_11e9_854b_c1ec4e0571f1row0_col17\" class=\"data row0 col17\" >0.925373</td>\n",
       "                        <td id=\"T_408fe94a_c728_11e9_854b_c1ec4e0571f1row0_col18\" class=\"data row0 col18\" >0.228205</td>\n",
       "                        <td id=\"T_408fe94a_c728_11e9_854b_c1ec4e0571f1row0_col19\" class=\"data row0 col19\" >1.86479</td>\n",
       "                        <td id=\"T_408fe94a_c728_11e9_854b_c1ec4e0571f1row0_col20\" class=\"data row0 col20\" >0.657153</td>\n",
       "                        <td id=\"T_408fe94a_c728_11e9_854b_c1ec4e0571f1row0_col21\" class=\"data row0 col21\" >1.602</td>\n",
       "                        <td id=\"T_408fe94a_c728_11e9_854b_c1ec4e0571f1row0_col22\" class=\"data row0 col22\" >1.03333</td>\n",
       "                        <td id=\"T_408fe94a_c728_11e9_854b_c1ec4e0571f1row0_col23\" class=\"data row0 col23\" >False</td>\n",
       "                        <td id=\"T_408fe94a_c728_11e9_854b_c1ec4e0571f1row0_col24\" class=\"data row0 col24\" >False</td>\n",
       "                        <td id=\"T_408fe94a_c728_11e9_854b_c1ec4e0571f1row0_col25\" class=\"data row0 col25\" >False</td>\n",
       "                        <td id=\"T_408fe94a_c728_11e9_854b_c1ec4e0571f1row0_col26\" class=\"data row0 col26\" >False</td>\n",
       "                        <td id=\"T_408fe94a_c728_11e9_854b_c1ec4e0571f1row0_col27\" class=\"data row0 col27\" >False</td>\n",
       "                        <td id=\"T_408fe94a_c728_11e9_854b_c1ec4e0571f1row0_col28\" class=\"data row0 col28\" >False</td>\n",
       "                        <td id=\"T_408fe94a_c728_11e9_854b_c1ec4e0571f1row0_col29\" class=\"data row0 col29\" >False</td>\n",
       "                        <td id=\"T_408fe94a_c728_11e9_854b_c1ec4e0571f1row0_col30\" class=\"data row0 col30\" >False</td>\n",
       "                        <td id=\"T_408fe94a_c728_11e9_854b_c1ec4e0571f1row0_col31\" class=\"data row0 col31\" >False</td>\n",
       "                        <td id=\"T_408fe94a_c728_11e9_854b_c1ec4e0571f1row0_col32\" class=\"data row0 col32\" >False</td>\n",
       "                        <td id=\"T_408fe94a_c728_11e9_854b_c1ec4e0571f1row0_col33\" class=\"data row0 col33\" >True</td>\n",
       "                        <td id=\"T_408fe94a_c728_11e9_854b_c1ec4e0571f1row0_col34\" class=\"data row0 col34\" >True</td>\n",
       "                        <td id=\"T_408fe94a_c728_11e9_854b_c1ec4e0571f1row0_col35\" class=\"data row0 col35\" >False</td>\n",
       "                        <td id=\"T_408fe94a_c728_11e9_854b_c1ec4e0571f1row0_col36\" class=\"data row0 col36\" >False</td>\n",
       "                        <td id=\"T_408fe94a_c728_11e9_854b_c1ec4e0571f1row0_col37\" class=\"data row0 col37\" >False</td>\n",
       "            </tr>\n",
       "            <tr>\n",
       "                        <th id=\"T_408fe94a_c728_11e9_854b_c1ec4e0571f1level0_row1\" class=\"row_heading level0 row1\" >1</th>\n",
       "                        <td id=\"T_408fe94a_c728_11e9_854b_c1ec4e0571f1row1_col0\" class=\"data row1 col0\" >sex</td>\n",
       "                        <td id=\"T_408fe94a_c728_11e9_854b_c1ec4e0571f1row1_col1\" class=\"data row1 col1\" >male</td>\n",
       "                        <td id=\"T_408fe94a_c728_11e9_854b_c1ec4e0571f1row1_col2\" class=\"data row1 col2\" >0.716102</td>\n",
       "                        <td id=\"T_408fe94a_c728_11e9_854b_c1ec4e0571f1row1_col3\" class=\"data row1 col3\" >0.561798</td>\n",
       "                        <td id=\"T_408fe94a_c728_11e9_854b_c1ec4e0571f1row1_col4\" class=\"data row1 col4\" >0.308756</td>\n",
       "                        <td id=\"T_408fe94a_c728_11e9_854b_c1ec4e0571f1row1_col5\" class=\"data row1 col5\" >0.409091</td>\n",
       "                        <td id=\"T_408fe94a_c728_11e9_854b_c1ec4e0571f1row1_col6\" class=\"data row1 col6\" >0.438202</td>\n",
       "                        <td id=\"T_408fe94a_c728_11e9_854b_c1ec4e0571f1row1_col7\" class=\"data row1 col7\" >0.283898</td>\n",
       "                        <td id=\"T_408fe94a_c728_11e9_854b_c1ec4e0571f1row1_col8\" class=\"data row1 col8\" >0.691244</td>\n",
       "                        <td id=\"T_408fe94a_c728_11e9_854b_c1ec4e0571f1row1_col9\" class=\"data row1 col9\" >0.590909</td>\n",
       "                        <td id=\"T_408fe94a_c728_11e9_854b_c1ec4e0571f1row1_col10\" class=\"data row1 col10\" >0.931596</td>\n",
       "                        <td id=\"T_408fe94a_c728_11e9_854b_c1ec4e0571f1row1_col11\" class=\"data row1 col11\" >0.568588</td>\n",
       "                        <td id=\"T_408fe94a_c728_11e9_854b_c1ec4e0571f1row1_col12\" class=\"data row1 col12\" >0.469185</td>\n",
       "                        <td id=\"T_408fe94a_c728_11e9_854b_c1ec4e0571f1row1_col13\" class=\"data row1 col13\" >1</td>\n",
       "                        <td id=\"T_408fe94a_c728_11e9_854b_c1ec4e0571f1row1_col14\" class=\"data row1 col14\" >1</td>\n",
       "                        <td id=\"T_408fe94a_c728_11e9_854b_c1ec4e0571f1row1_col15\" class=\"data row1 col15\" >1</td>\n",
       "                        <td id=\"T_408fe94a_c728_11e9_854b_c1ec4e0571f1row1_col16\" class=\"data row1 col16\" >1</td>\n",
       "                        <td id=\"T_408fe94a_c728_11e9_854b_c1ec4e0571f1row1_col17\" class=\"data row1 col17\" >1</td>\n",
       "                        <td id=\"T_408fe94a_c728_11e9_854b_c1ec4e0571f1row1_col18\" class=\"data row1 col18\" >1</td>\n",
       "                        <td id=\"T_408fe94a_c728_11e9_854b_c1ec4e0571f1row1_col19\" class=\"data row1 col19\" >1</td>\n",
       "                        <td id=\"T_408fe94a_c728_11e9_854b_c1ec4e0571f1row1_col20\" class=\"data row1 col20\" >1</td>\n",
       "                        <td id=\"T_408fe94a_c728_11e9_854b_c1ec4e0571f1row1_col21\" class=\"data row1 col21\" >1</td>\n",
       "                        <td id=\"T_408fe94a_c728_11e9_854b_c1ec4e0571f1row1_col22\" class=\"data row1 col22\" >1</td>\n",
       "                        <td id=\"T_408fe94a_c728_11e9_854b_c1ec4e0571f1row1_col23\" class=\"data row1 col23\" >True</td>\n",
       "                        <td id=\"T_408fe94a_c728_11e9_854b_c1ec4e0571f1row1_col24\" class=\"data row1 col24\" >True</td>\n",
       "                        <td id=\"T_408fe94a_c728_11e9_854b_c1ec4e0571f1row1_col25\" class=\"data row1 col25\" >True</td>\n",
       "                        <td id=\"T_408fe94a_c728_11e9_854b_c1ec4e0571f1row1_col26\" class=\"data row1 col26\" >True</td>\n",
       "                        <td id=\"T_408fe94a_c728_11e9_854b_c1ec4e0571f1row1_col27\" class=\"data row1 col27\" >True</td>\n",
       "                        <td id=\"T_408fe94a_c728_11e9_854b_c1ec4e0571f1row1_col28\" class=\"data row1 col28\" >True</td>\n",
       "                        <td id=\"T_408fe94a_c728_11e9_854b_c1ec4e0571f1row1_col29\" class=\"data row1 col29\" >True</td>\n",
       "                        <td id=\"T_408fe94a_c728_11e9_854b_c1ec4e0571f1row1_col30\" class=\"data row1 col30\" >True</td>\n",
       "                        <td id=\"T_408fe94a_c728_11e9_854b_c1ec4e0571f1row1_col31\" class=\"data row1 col31\" >True</td>\n",
       "                        <td id=\"T_408fe94a_c728_11e9_854b_c1ec4e0571f1row1_col32\" class=\"data row1 col32\" >True</td>\n",
       "                        <td id=\"T_408fe94a_c728_11e9_854b_c1ec4e0571f1row1_col33\" class=\"data row1 col33\" >True</td>\n",
       "                        <td id=\"T_408fe94a_c728_11e9_854b_c1ec4e0571f1row1_col34\" class=\"data row1 col34\" >True</td>\n",
       "                        <td id=\"T_408fe94a_c728_11e9_854b_c1ec4e0571f1row1_col35\" class=\"data row1 col35\" >True</td>\n",
       "                        <td id=\"T_408fe94a_c728_11e9_854b_c1ec4e0571f1row1_col36\" class=\"data row1 col36\" >True</td>\n",
       "                        <td id=\"T_408fe94a_c728_11e9_854b_c1ec4e0571f1row1_col37\" class=\"data row1 col37\" >True</td>\n",
       "            </tr>\n",
       "    </tbody></table>"
      ],
      "text/plain": [
       "<pandas.io.formats.style.Styler at 0x15c6b13bba8>"
      ]
     },
     "execution_count": 22,
     "metadata": {},
     "output_type": "execute_result"
    }
   ],
   "source": [
    "# prepare data \n",
    "X_train, X_test, Y_train, Y_test = train_test_split(X, Y, test_size=.3, shuffle = True, random_state = 5829)\n",
    "\n",
    "clf = LogisticRegression(class_weight = 'balanced', solver='liblinear', random_state=0)\n",
    "clf.fit(X_train.drop(['person_id', 'screening_date'], axis=1),\n",
    "        Y_train)\n",
    "preds = clf.predict(X_test.drop(['person_id', 'screening_date'], axis=1))\n",
    "X_test.loc[:,\"score\"] = preds\n",
    "X_test.loc[:,\"label_value\"] = Y_test\n",
    "\n",
    "df = X_test[[\"person_id\", \"screening_date\", \"sex\", \"score\", \"label_value\"]]\n",
    "df = df.rename({\"person_id\": \"entity_id\"}, axis=\"columns\")\n",
    "\n",
    "\n",
    "decoders = {\"sex\": {0: \"male\",\n",
    "                    1: \"female\"}\n",
    "           }\n",
    "\n",
    "sensitive_attrs = ['sex'] # race \n",
    "\n",
    "ref_groups_dict = {'sex':'male'}\n",
    "res = compute_fairness(df, \n",
    "                       decoders=decoders, \n",
    "                       sensitive_attrs=sensitive_attrs,\n",
    "                       ref_groups_dict=ref_groups_dict)\n",
    "\n",
    "res"
   ]
  },
  {
   "cell_type": "markdown",
   "metadata": {},
   "source": [
    "### Create Custom Scorer\n",
    "\n",
    "https://scikit-learn.org/stable/modules/model_evaluation.html#scoring"
   ]
  },
  {
   "cell_type": "code",
   "execution_count": 7,
   "metadata": {},
   "outputs": [
    {
     "name": "stdout",
     "output_type": "stream",
     "text": [
      "0.6931471805599453\n",
      "-0.6931471805599453\n"
     ]
    }
   ],
   "source": [
    "def my_custom_loss_func(y_true, y_pred):\n",
    "    diff = np.abs(y_true - y_pred).max()\n",
    "    return np.log1p(diff)\n",
    "\n",
    " # score will negate the return value of my_custom_loss_func,\n",
    " # which will be np.log(2), 0.693, given the values for X\n",
    " # and y defined below.\n",
    "score = make_scorer(my_custom_loss_func, greater_is_better=False)\n",
    "X = [[1], [1]]\n",
    "y = [0, 1]\n",
    "from sklearn.dummy import DummyClassifier\n",
    "clf = DummyClassifier(strategy='most_frequent', random_state=0)\n",
    "clf = clf.fit(X, y)\n",
    "print(my_custom_loss_func(y, clf.predict(X)) )\n",
    "\n",
    "print(score(clf, X, y))\n"
   ]
  },
  {
   "cell_type": "markdown",
   "metadata": {},
   "source": [
    "### Adapt current logistic prediction method "
   ]
  },
  {
   "cell_type": "markdown",
   "metadata": {},
   "source": [
    "#### Original"
   ]
  },
  {
   "cell_type": "code",
   "execution_count": 17,
   "metadata": {},
   "outputs": [],
   "source": [
    "def Logistic(x, y, C,seed):\n",
    "    from sklearn.linear_model import LogisticRegression\n",
    "    from sklearn.model_selection import KFold, GridSearchCV, cross_validate\n",
    "    \n",
    "    ## cross validation set up\n",
    "    inner_cv = KFold(n_splits=5,shuffle=True,random_state=seed)\n",
    "    outer_cv = KFold(n_splits=5,shuffle=True,random_state=seed)\n",
    "    \n",
    "    ### model & parameters\n",
    "    lr = LogisticRegression(class_weight = 'balanced', solver='liblinear', random_state=seed)\n",
    "    c_grid = {\"C\": C}\n",
    "    \n",
    "    ### nested cross validation\n",
    "    clf = GridSearchCV(estimator=lr, param_grid=c_grid, scoring='roc_auc',cv=inner_cv, return_train_score=True)\n",
    "    nested_score = cross_validate(clf, X=x, y=y, scoring='roc_auc', cv=outer_cv, return_train_score=True)\n",
    "    train_score, test_score = nested_score['train_score'], nested_score['test_score']\n",
    "    \n",
    "    return train_score, test_score"
   ]
  },
  {
   "cell_type": "code",
   "execution_count": 18,
   "metadata": {},
   "outputs": [
    {
     "data": {
      "text/plain": [
       "[0.011141768594555845, 0.6651818167782302]"
      ]
     },
     "execution_count": 18,
     "metadata": {},
     "output_type": "execute_result"
    }
   ],
   "source": [
    "c = [1e-5, 1e-4, 1e-3]\n",
    "\n",
    "logistic_train, logistic_test = Logistic(X.drop(['person_id', 'screening_date'], axis=1),\n",
    "                                         Y,\n",
    "                                         c,\n",
    "                                         816)\n",
    "res = [np.mean(logistic_train) - np.mean(logistic_test), np.mean(logistic_test)]\n",
    "res"
   ]
  },
  {
   "cell_type": "markdown",
   "metadata": {},
   "source": [
    "#### New"
   ]
  },
  {
   "cell_type": "code",
   "execution_count": null,
   "metadata": {},
   "outputs": [],
   "source": [
    "from sklearn.linear_model import LogisticRegression\n",
    "from sklearn.model_selection import KFold, GridSearchCV, cross_validate\n",
    "\n",
    "def Logistic(X, y, C,seed):\n",
    "    \"\"\"\n",
    "    X: pandas dataframe including ID columns\n",
    "    Y:\n",
    "    \"\"\"\n",
    "    X_no_id = X.drop([\"person_id\", \"screening_date\"], axis=1)\n",
    "    # cross validation set up\n",
    "    inner_cv = KFold(n_splits=5,shuffle=True,random_state=seed)\n",
    "    outer_cv = KFold(n_splits=5,shuffle=True,random_state=seed)\n",
    "    \n",
    "    # model & parameters\n",
    "    lr = LogisticRegression(class_weight = 'balanced', solver='liblinear', random_state=seed)\n",
    "    c_grid = {\"C\": C}\n",
    "    \n",
    "    # nested cross validation\n",
    "    clf = GridSearchCV(estimator=lr, param_grid=c_grid, scoring='roc_auc',cv=inner_cv, return_train_score=True)\n",
    "    nested_score = cross_validate(clf, X=X_no_id, y=y, scoring='roc_auc', cv=outer_cv, return_train_score=True)\n",
    "    train_score, test_score = nested_score['train_score'], nested_score['test_score']\n",
    "    \n",
    "    \n",
    "    # prepare for fairness analysis\n",
    "#     preds = clf.predict(X_test.drop(['person_id', 'screening_date'], axis=1))\n",
    "#     X_test.loc[:,\"score\"] = preds\n",
    "#     X_test.loc[:,\"label_value\"] = Y_test\n",
    "#     df = X_test[[\"person_id\", \"screening_date\", \"sex\", \"score\", \"label_value\"]]\n",
    "#     df[\"entity_id\"] = \" \".join(df[\"person_id\"], df[\"entity_id\"])\n",
    "#     df.drop([\"person_id\", \"screening_date\"])\n",
    "    return train_score, test_score"
   ]
  },
  {
   "cell_type": "code",
   "execution_count": 24,
   "metadata": {
    "scrolled": true
   },
   "outputs": [
    {
     "data": {
      "text/plain": [
       "Index(['person_id', 'screening_date', 'sex', 'p_current_age',\n",
       "       'p_age_first_offense', 'p_charge', 'p_jail30', 'p_prison',\n",
       "       'p_probation', 'p_juv_fel_count', 'p_felprop_violarrest',\n",
       "       'p_murder_arrest', 'p_felassault_arrest', 'p_misdemassault_arrest',\n",
       "       'p_famviol_arrest', 'p_sex_arrest', 'p_weapons_arrest',\n",
       "       'fail_appear_two_yr', 'fail_appear_two_plus', 'current_violent',\n",
       "       'current_violent20', 'pending_charge', 'prior_conviction_F',\n",
       "       'prior_conviction_M', 'violent_conviction', 'total_convictions',\n",
       "       'p_arrest', 'p_property', 'p_traffic', 'p_drug', 'p_dui', 'p_domestic',\n",
       "       'p_stalking', 'p_voyeurism', 'p_fraud', 'p_stealing', 'p_trespass',\n",
       "       'years_since_last_crime', 'six_month', 'one_year', 'three_year',\n",
       "       'five_year'],\n",
       "      dtype='object')"
      ]
     },
     "execution_count": 24,
     "metadata": {},
     "output_type": "execute_result"
    }
   ],
   "source": [
    "X.columns"
   ]
  }
 ],
 "metadata": {
  "kernelspec": {
   "display_name": "Python 3",
   "language": "python",
   "name": "python3"
  },
  "language_info": {
   "codemirror_mode": {
    "name": "ipython",
    "version": 3
   },
   "file_extension": ".py",
   "mimetype": "text/x-python",
   "name": "python",
   "nbconvert_exporter": "python",
   "pygments_lexer": "ipython3",
   "version": "3.6.5"
  }
 },
 "nbformat": 4,
 "nbformat_minor": 2
}
