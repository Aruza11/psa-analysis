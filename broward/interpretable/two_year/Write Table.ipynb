{
 "cells": [
  {
   "cell_type": "code",
   "execution_count": 1,
   "metadata": {
    "hideCode": false,
    "hidePrompt": false
   },
   "outputs": [],
   "source": [
    "import pytablewriter\n",
    "import pandas as pd\n",
    "import numpy as np"
   ]
  },
  {
   "cell_type": "code",
   "execution_count": 2,
   "metadata": {
    "hideCode": false,
    "hidePrompt": false
   },
   "outputs": [],
   "source": [
    "result = pd.read_csv(\"C:\\\\Users\\\\binha\\\\Documents\\\\Duke\\\\Cynthia Research\\\\KY-analysis-mytrials\\\\broward\\\\broward models\\\\model results\\\\Interpretable Models\\\\Two Year\\\\Interpretable Models Summary.csv\")"
   ]
  },
  {
   "cell_type": "code",
   "execution_count": 3,
   "metadata": {
    "hideCode": false,
    "hidePrompt": false
   },
   "outputs": [
    {
     "data": {
      "text/html": [
       "<div>\n",
       "<style scoped>\n",
       "    .dataframe tbody tr th:only-of-type {\n",
       "        vertical-align: middle;\n",
       "    }\n",
       "\n",
       "    .dataframe tbody tr th {\n",
       "        vertical-align: top;\n",
       "    }\n",
       "\n",
       "    .dataframe thead th {\n",
       "        text-align: right;\n",
       "    }\n",
       "</style>\n",
       "<table border=\"1\" class=\"dataframe\">\n",
       "  <thead>\n",
       "    <tr style=\"text-align: right;\">\n",
       "      <th></th>\n",
       "      <th>Unnamed: 0</th>\n",
       "      <th>CART</th>\n",
       "      <th>EBM</th>\n",
       "      <th>Lasso Stumps</th>\n",
       "      <th>RiskSLIM</th>\n",
       "      <th>Performance Range</th>\n",
       "      <th>Arnold PSA</th>\n",
       "      <th>Compas</th>\n",
       "    </tr>\n",
       "  </thead>\n",
       "  <tbody>\n",
       "    <tr>\n",
       "      <th>0</th>\n",
       "      <td>General</td>\n",
       "      <td>0.62 (0.027)</td>\n",
       "      <td>0.661 (0.028)</td>\n",
       "      <td>0.653 (0.019)</td>\n",
       "      <td>0.626 (0.024)</td>\n",
       "      <td>0.042</td>\n",
       "      <td>0.605 (0.022)</td>\n",
       "      <td>0.631 (0.019)</td>\n",
       "    </tr>\n",
       "    <tr>\n",
       "      <th>1</th>\n",
       "      <td>Violent</td>\n",
       "      <td>0.621 (0.046)</td>\n",
       "      <td>0.675 (0.046)</td>\n",
       "      <td>0.669 (0.041)</td>\n",
       "      <td>0.651 (0.055)</td>\n",
       "      <td>0.053</td>\n",
       "      <td>0.628 (0.028)</td>\n",
       "      <td>0.639 (0.036)</td>\n",
       "    </tr>\n",
       "    <tr>\n",
       "      <th>2</th>\n",
       "      <td>Drug</td>\n",
       "      <td>0.654 (0.028)</td>\n",
       "      <td>0.684 (0.046)</td>\n",
       "      <td>0.719 (0.029)</td>\n",
       "      <td>0.696 (0.026)</td>\n",
       "      <td>0.066</td>\n",
       "      <td>0.552 (0.05)</td>\n",
       "      <td>0.633 (0.025)</td>\n",
       "    </tr>\n",
       "    <tr>\n",
       "      <th>3</th>\n",
       "      <td>Property</td>\n",
       "      <td>0.684 (0.058)</td>\n",
       "      <td>0.739 (0.033)</td>\n",
       "      <td>0.742 (0.025)</td>\n",
       "      <td>0.719 (0.029)</td>\n",
       "      <td>0.058</td>\n",
       "      <td>0.658 (0.012)</td>\n",
       "      <td>0.645 (0.036)</td>\n",
       "    </tr>\n",
       "    <tr>\n",
       "      <th>4</th>\n",
       "      <td>Felony</td>\n",
       "      <td>0.595 (0.028)</td>\n",
       "      <td>0.655 (0.051)</td>\n",
       "      <td>0.627 (0.036)</td>\n",
       "      <td>0.618 (0.021)</td>\n",
       "      <td>0.060</td>\n",
       "      <td>0.619 (0.044)</td>\n",
       "      <td>0.652 (0.034)</td>\n",
       "    </tr>\n",
       "    <tr>\n",
       "      <th>5</th>\n",
       "      <td>Misdemeanor</td>\n",
       "      <td>0.567 (0.047)</td>\n",
       "      <td>0.634 (0.029)</td>\n",
       "      <td>0.618 (0.025)</td>\n",
       "      <td>0.568 (0.017)</td>\n",
       "      <td>0.067</td>\n",
       "      <td>0.544 (0.019)</td>\n",
       "      <td>0.551 (0.03)</td>\n",
       "    </tr>\n",
       "  </tbody>\n",
       "</table>\n",
       "</div>"
      ],
      "text/plain": [
       "    Unnamed: 0           CART            EBM   Lasso Stumps       RiskSLIM  \\\n",
       "0      General   0.62 (0.027)  0.661 (0.028)  0.653 (0.019)  0.626 (0.024)   \n",
       "1      Violent  0.621 (0.046)  0.675 (0.046)  0.669 (0.041)  0.651 (0.055)   \n",
       "2         Drug  0.654 (0.028)  0.684 (0.046)  0.719 (0.029)  0.696 (0.026)   \n",
       "3     Property  0.684 (0.058)  0.739 (0.033)  0.742 (0.025)  0.719 (0.029)   \n",
       "4       Felony  0.595 (0.028)  0.655 (0.051)  0.627 (0.036)  0.618 (0.021)   \n",
       "5  Misdemeanor  0.567 (0.047)  0.634 (0.029)  0.618 (0.025)  0.568 (0.017)   \n",
       "\n",
       "   Performance Range     Arnold PSA         Compas  \n",
       "0              0.042  0.605 (0.022)  0.631 (0.019)  \n",
       "1              0.053  0.628 (0.028)  0.639 (0.036)  \n",
       "2              0.066   0.552 (0.05)  0.633 (0.025)  \n",
       "3              0.058  0.658 (0.012)  0.645 (0.036)  \n",
       "4              0.060  0.619 (0.044)  0.652 (0.034)  \n",
       "5              0.067  0.544 (0.019)   0.551 (0.03)  "
      ]
     },
     "execution_count": 3,
     "metadata": {},
     "output_type": "execute_result"
    }
   ],
   "source": [
    "result"
   ]
  },
  {
   "cell_type": "code",
   "execution_count": 4,
   "metadata": {
    "hideCode": false,
    "hidePrompt": false
   },
   "outputs": [],
   "source": [
    "cols = result.columns.to_list()\n",
    "values = result.values.tolist()"
   ]
  },
  {
   "cell_type": "code",
   "execution_count": 5,
   "metadata": {
    "hideCode": false,
    "hideOutput": true,
    "hidePrompt": false
   },
   "outputs": [
    {
     "name": "stdout",
     "output_type": "stream",
     "text": [
      "\\begin{array}{l | l | l | l | l | r | l | l} \\hline\n",
      "    General     & \\verb|0.62 (0.027) | & \\verb|0.661 (0.028)| & \\verb|0.653 (0.019)| & \\verb|0.626 (0.024)| & 0.04200 & \\verb|0.605 (0.022)| & \\verb|0.631 (0.019)| \\\\ \\hline\n",
      "    Violent     & \\verb|0.621 (0.046)| & \\verb|0.675 (0.046)| & \\verb|0.669 (0.041)| & \\verb|0.651 (0.055)| & 0.05300 & \\verb|0.628 (0.028)| & \\verb|0.639 (0.036)| \\\\ \\hline\n",
      "    Drug        & \\verb|0.654 (0.028)| & \\verb|0.684 (0.046)| & \\verb|0.719 (0.029)| & \\verb|0.696 (0.026)| & 0.06600 & \\verb|0.552 (0.05) | & \\verb|0.633 (0.025)| \\\\ \\hline\n",
      "    Property    & \\verb|0.684 (0.058)| & \\verb|0.739 (0.033)| & \\verb|0.742 (0.025)| & \\verb|0.719 (0.029)| & 0.05800 & \\verb|0.658 (0.012)| & \\verb|0.645 (0.036)| \\\\ \\hline\n",
      "    Felony      & \\verb|0.595 (0.028)| & \\verb|0.655 (0.051)| & \\verb|0.627 (0.036)| & \\verb|0.618 (0.021)| & 0.06000 & \\verb|0.619 (0.044)| & \\verb|0.652 (0.034)| \\\\ \\hline\n",
      "    Misdemeanor & \\verb|0.567 (0.047)| & \\verb|0.634 (0.029)| & \\verb|0.618 (0.025)| & \\verb|0.568 (0.017)| & 0.06700 & \\verb|0.544 (0.019)| & \\verb|0.551 (0.03) | \\\\ \\hline\n",
      "\\end{array}\n"
     ]
    }
   ],
   "source": [
    "writer = pytablewriter.LatexTableWriter()\n",
    "writer.value_matrix = values\n",
    "writer.write_table()"
   ]
  }
 ],
 "metadata": {
  "hide_code_all_hidden": false,
  "kernelspec": {
   "display_name": "Python 3",
   "language": "python",
   "name": "python3"
  },
  "language_info": {
   "codemirror_mode": {
    "name": "ipython",
    "version": 3
   },
   "file_extension": ".py",
   "mimetype": "text/x-python",
   "name": "python",
   "nbconvert_exporter": "python",
   "pygments_lexer": "ipython3",
   "version": "3.7.4"
  }
 },
 "nbformat": 4,
 "nbformat_minor": 4
}
