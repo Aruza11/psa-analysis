{
 "cells": [
  {
   "cell_type": "code",
   "execution_count": 1,
   "metadata": {
    "hideCode": false,
    "hidePrompt": false
   },
   "outputs": [],
   "source": [
    "import pytablewriter\n",
    "import pandas as pd\n",
    "import numpy as np"
   ]
  },
  {
   "cell_type": "code",
   "execution_count": 4,
   "metadata": {
    "hideCode": false,
    "hidePrompt": false
   },
   "outputs": [],
   "source": [
    "result = pd.read_csv(\"C:\\\\Users\\\\binha\\\\Documents\\\\Duke\\\\Cynthia Research\\\\KY-analysis-mytrials\\\\broward\\\\broward models\\\\model results\\\\Interpretable Models\\\\Two Year\\\\Interpretable Models Summary.csv\")"
   ]
  },
  {
   "cell_type": "code",
   "execution_count": 5,
   "metadata": {
    "hideCode": false,
    "hidePrompt": false
   },
   "outputs": [
    {
     "data": {
      "text/html": [
       "<div>\n",
       "<style scoped>\n",
       "    .dataframe tbody tr th:only-of-type {\n",
       "        vertical-align: middle;\n",
       "    }\n",
       "\n",
       "    .dataframe tbody tr th {\n",
       "        vertical-align: top;\n",
       "    }\n",
       "\n",
       "    .dataframe thead th {\n",
       "        text-align: right;\n",
       "    }\n",
       "</style>\n",
       "<table border=\"1\" class=\"dataframe\">\n",
       "  <thead>\n",
       "    <tr style=\"text-align: right;\">\n",
       "      <th></th>\n",
       "      <th>Unnamed: 0</th>\n",
       "      <th>CART</th>\n",
       "      <th>EBM</th>\n",
       "      <th>Lasso Stumps</th>\n",
       "      <th>RiskSLIM</th>\n",
       "      <th>Corel</th>\n",
       "      <th>Performance Range</th>\n",
       "      <th>Arnold PSA</th>\n",
       "    </tr>\n",
       "  </thead>\n",
       "  <tbody>\n",
       "    <tr>\n",
       "      <th>0</th>\n",
       "      <td>General</td>\n",
       "      <td>0.625 (0.019)</td>\n",
       "      <td>0.661 (0.022)</td>\n",
       "      <td>0.669 (0.005)</td>\n",
       "      <td>0.647 (0.026)</td>\n",
       "      <td>0.56 (0.014)</td>\n",
       "      <td>0.109</td>\n",
       "      <td>0.605 (0.043)</td>\n",
       "    </tr>\n",
       "    <tr>\n",
       "      <th>1</th>\n",
       "      <td>Violent</td>\n",
       "      <td>0.611 (0.01)</td>\n",
       "      <td>0.675 (0.023)</td>\n",
       "      <td>0.682 (0.026)</td>\n",
       "      <td>0.655 (0.027)</td>\n",
       "      <td>0.531 (0.004)</td>\n",
       "      <td>0.151</td>\n",
       "      <td>0.649 (0.029)</td>\n",
       "    </tr>\n",
       "    <tr>\n",
       "      <th>2</th>\n",
       "      <td>Drug</td>\n",
       "      <td>0.636 (0.017)</td>\n",
       "      <td>0.667 (0.019)</td>\n",
       "      <td>0.709 (0.012)</td>\n",
       "      <td>0.703 (0.048)</td>\n",
       "      <td>0.5 (0.0)</td>\n",
       "      <td>0.209</td>\n",
       "      <td>0.546 (0.054)</td>\n",
       "    </tr>\n",
       "    <tr>\n",
       "      <th>3</th>\n",
       "      <td>Property</td>\n",
       "      <td>0.699 (0.034)</td>\n",
       "      <td>0.734 (0.033)</td>\n",
       "      <td>0.734 (0.035)</td>\n",
       "      <td>0.685 (0.024)</td>\n",
       "      <td>0.585 (0.071)</td>\n",
       "      <td>0.149</td>\n",
       "      <td>0.657 (0.058)</td>\n",
       "    </tr>\n",
       "    <tr>\n",
       "      <th>4</th>\n",
       "      <td>Felony</td>\n",
       "      <td>0.615 (0.033)</td>\n",
       "      <td>0.651 (0.043)</td>\n",
       "      <td>0.649 (0.037)</td>\n",
       "      <td>0.611 (0.03)</td>\n",
       "      <td>0.518 (0.017)</td>\n",
       "      <td>0.133</td>\n",
       "      <td>0.616 (0.046)</td>\n",
       "    </tr>\n",
       "    <tr>\n",
       "      <th>5</th>\n",
       "      <td>Misdemeanor</td>\n",
       "      <td>0.579 (0.014)</td>\n",
       "      <td>0.633 (0.023)</td>\n",
       "      <td>0.624 (0.017)</td>\n",
       "      <td>0.579 (0.014)</td>\n",
       "      <td>0.505 (0.005)</td>\n",
       "      <td>0.128</td>\n",
       "      <td>0.546 (0.028)</td>\n",
       "    </tr>\n",
       "  </tbody>\n",
       "</table>\n",
       "</div>"
      ],
      "text/plain": [
       "    Unnamed: 0           CART            EBM   Lasso Stumps       RiskSLIM  \\\n",
       "0      General  0.625 (0.019)  0.661 (0.022)  0.669 (0.005)  0.647 (0.026)   \n",
       "1      Violent   0.611 (0.01)  0.675 (0.023)  0.682 (0.026)  0.655 (0.027)   \n",
       "2         Drug  0.636 (0.017)  0.667 (0.019)  0.709 (0.012)  0.703 (0.048)   \n",
       "3     Property  0.699 (0.034)  0.734 (0.033)  0.734 (0.035)  0.685 (0.024)   \n",
       "4       Felony  0.615 (0.033)  0.651 (0.043)  0.649 (0.037)   0.611 (0.03)   \n",
       "5  Misdemeanor  0.579 (0.014)  0.633 (0.023)  0.624 (0.017)  0.579 (0.014)   \n",
       "\n",
       "           Corel  Performance Range     Arnold PSA  \n",
       "0   0.56 (0.014)              0.109  0.605 (0.043)  \n",
       "1  0.531 (0.004)              0.151  0.649 (0.029)  \n",
       "2      0.5 (0.0)              0.209  0.546 (0.054)  \n",
       "3  0.585 (0.071)              0.149  0.657 (0.058)  \n",
       "4  0.518 (0.017)              0.133  0.616 (0.046)  \n",
       "5  0.505 (0.005)              0.128  0.546 (0.028)  "
      ]
     },
     "execution_count": 5,
     "metadata": {},
     "output_type": "execute_result"
    }
   ],
   "source": [
    "result"
   ]
  },
  {
   "cell_type": "code",
   "execution_count": 6,
   "metadata": {
    "hideCode": false,
    "hidePrompt": false
   },
   "outputs": [],
   "source": [
    "cols = result.columns.to_list()\n",
    "values = result.values.tolist()"
   ]
  },
  {
   "cell_type": "code",
   "execution_count": 7,
   "metadata": {
    "hideCode": false,
    "hideOutput": true,
    "hidePrompt": false
   },
   "outputs": [
    {
     "name": "stdout",
     "output_type": "stream",
     "text": [
      "\\begin{array}{l | l | l | l | l | l | r | l} \\hline\n",
      "    General     & \\verb|0.625 (0.019)| & \\verb|0.661 (0.022)| & \\verb|0.669 (0.005)| & \\verb|0.647 (0.026)| & \\verb|0.56 (0.014) | & 0.109 & \\verb|0.605 (0.043)| \\\\ \\hline\n",
      "    Violent     & \\verb|0.611 (0.01) | & \\verb|0.675 (0.023)| & \\verb|0.682 (0.026)| & \\verb|0.655 (0.027)| & \\verb|0.531 (0.004)| & 0.151 & \\verb|0.649 (0.029)| \\\\ \\hline\n",
      "    Drug        & \\verb|0.636 (0.017)| & \\verb|0.667 (0.019)| & \\verb|0.709 (0.012)| & \\verb|0.703 (0.048)| & \\verb|0.5 (0.0)    | & 0.209 & \\verb|0.546 (0.054)| \\\\ \\hline\n",
      "    Property    & \\verb|0.699 (0.034)| & \\verb|0.734 (0.033)| & \\verb|0.734 (0.035)| & \\verb|0.685 (0.024)| & \\verb|0.585 (0.071)| & 0.149 & \\verb|0.657 (0.058)| \\\\ \\hline\n",
      "    Felony      & \\verb|0.615 (0.033)| & \\verb|0.651 (0.043)| & \\verb|0.649 (0.037)| & \\verb|0.611 (0.03) | & \\verb|0.518 (0.017)| & 0.133 & \\verb|0.616 (0.046)| \\\\ \\hline\n",
      "    Misdemeanor & \\verb|0.579 (0.014)| & \\verb|0.633 (0.023)| & \\verb|0.624 (0.017)| & \\verb|0.579 (0.014)| & \\verb|0.505 (0.005)| & 0.128 & \\verb|0.546 (0.028)| \\\\ \\hline\n",
      "\\end{array}\n"
     ]
    }
   ],
   "source": [
    "writer = pytablewriter.LatexTableWriter()\n",
    "writer.value_matrix = values\n",
    "writer.write_table()"
   ]
  }
 ],
 "metadata": {
  "hide_code_all_hidden": false,
  "kernelspec": {
   "display_name": "Python 3",
   "language": "python",
   "name": "python3"
  },
  "language_info": {
   "codemirror_mode": {
    "name": "ipython",
    "version": 3
   },
   "file_extension": ".py",
   "mimetype": "text/x-python",
   "name": "python",
   "nbconvert_exporter": "python",
   "pygments_lexer": "ipython3",
   "version": "3.7.4"
  }
 },
 "nbformat": 4,
 "nbformat_minor": 4
}
