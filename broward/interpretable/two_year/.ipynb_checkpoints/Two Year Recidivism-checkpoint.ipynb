{
 "cells": [
  {
   "cell_type": "code",
   "execution_count": 1,
   "metadata": {},
   "outputs": [
    {
     "name": "stdout",
     "output_type": "stream",
     "text": [
      "Current working directory is now:  C:\\Users\\binha\\Documents\\Duke\\Cynthia Research\\psa-analysis - test2\n"
     ]
    },
    {
     "name": "stderr",
     "output_type": "stream",
     "text": [
      "C:\\Users\\binha\\Anaconda3\\lib\\site-packages\\sklearn\\externals\\six.py:31: DeprecationWarning:\n",
      "\n",
      "The module is deprecated in version 0.21 and will be removed in version 0.23 since we've dropped support for Python 2.7. Please rely on the official version of six (https://pypi.org/project/six/).\n",
      "\n"
     ]
    }
   ],
   "source": [
    "import os \n",
    "os.chdir('../../../')\n",
    "print(\"Current working directory is now: \", os.getcwd())\n",
    "\n",
    "import pandas as pd \n",
    "import numpy as np\n",
    "import csv\n",
    "import utils.interpretable_functions as interpret\n",
    "import utils.RiskSLIM as slim\n",
    "import utils.stumps as stumps\n",
    "import utils.Corel as Corel\n",
    "\n",
    "from sklearn.linear_model import LogisticRegression\n",
    "from sklearn.model_selection import KFold, GridSearchCV\n",
    "from sklearn.metrics import roc_auc_score\n",
    "\n",
    "# restore saved variables\n",
    "%store -r summary_general2_FL_interpret"
   ]
  },
  {
   "cell_type": "markdown",
   "metadata": {},
   "source": [
    "## CART & EBM"
   ]
  },
  {
   "cell_type": "code",
   "execution_count": 2,
   "metadata": {},
   "outputs": [],
   "source": [
    "data = pd.read_csv(\"~/Documents/Duke/Cynthia Research/KY-analysis-mytrials/broward/data/broward_data.csv\")\n",
    "x = data.loc[:,:'five_year']\n",
    "y = data['recid_two_year'].values"
   ]
  },
  {
   "cell_type": "code",
   "execution_count": 2,
   "metadata": {
    "scrolled": true
   },
   "outputs": [
    {
     "ename": "NameError",
     "evalue": "name 'x' is not defined",
     "output_type": "error",
     "traceback": [
      "\u001b[1;31m---------------------------------------------------------------------------\u001b[0m",
      "\u001b[1;31mNameError\u001b[0m                                 Traceback (most recent call last)",
      "\u001b[1;32m<ipython-input-2-2391b949ada1>\u001b[0m in \u001b[0;36m<module>\u001b[1;34m\u001b[0m\n\u001b[0;32m      3\u001b[0m \u001b[0mimpurity\u001b[0m \u001b[1;33m=\u001b[0m \u001b[1;33m[\u001b[0m\u001b[1;36m0.001\u001b[0m\u001b[1;33m,\u001b[0m \u001b[1;36m0.003\u001b[0m\u001b[1;33m]\u001b[0m\u001b[1;33m\u001b[0m\u001b[1;33m\u001b[0m\u001b[0m\n\u001b[0;32m      4\u001b[0m \u001b[0msplit\u001b[0m \u001b[1;33m=\u001b[0m \u001b[1;33m[\u001b[0m\u001b[1;36m2\u001b[0m\u001b[1;33m,\u001b[0m\u001b[1;36m3\u001b[0m\u001b[1;33m,\u001b[0m\u001b[1;36m4\u001b[0m\u001b[1;33m]\u001b[0m\u001b[1;33m\u001b[0m\u001b[1;33m\u001b[0m\u001b[0m\n\u001b[1;32m----> 5\u001b[1;33m cart_summary = interpret.CART(X=x,\n\u001b[0m\u001b[0;32m      6\u001b[0m                          \u001b[0mY\u001b[0m\u001b[1;33m=\u001b[0m\u001b[0my\u001b[0m\u001b[1;33m,\u001b[0m\u001b[1;33m\u001b[0m\u001b[1;33m\u001b[0m\u001b[0m\n\u001b[0;32m      7\u001b[0m                          \u001b[0mdepth\u001b[0m\u001b[1;33m=\u001b[0m\u001b[0mdepth\u001b[0m\u001b[1;33m,\u001b[0m\u001b[1;33m\u001b[0m\u001b[1;33m\u001b[0m\u001b[0m\n",
      "\u001b[1;31mNameError\u001b[0m: name 'x' is not defined"
     ]
    }
   ],
   "source": [
    "#### CART\n",
    "depth = [1,2,3]\n",
    "impurity = [0.001, 0.003]\n",
    "split = [2,3,4]\n",
    "cart_summary = interpret.CART(X=x,\n",
    "                         Y=y,\n",
    "                         depth=depth,\n",
    "                         split=split,\n",
    "                         impurity=impurity, \n",
    "                         seed = 816)\n",
    "\n",
    "#### GAM\n",
    "estimators = [60,80,100]\n",
    "depth = [1,2]\n",
    "learning_rate = [0.01]\n",
    "holdout_split = [0.7, 0.9]\n",
    "ebm_summary = interpret.EBM(X=x,\n",
    "                       Y=y,\n",
    "                       learning_rate = learning_rate,\n",
    "                       depth = depth,\n",
    "                       estimators=estimators,\n",
    "                       holdout_split=holdout_split,\n",
    "                       seed=816)"
   ]
  },
  {
   "cell_type": "code",
   "execution_count": 13,
   "metadata": {},
   "outputs": [
    {
     "data": {
      "text/plain": [
       "(0.6252219810133669, 0.03951471498908745)"
      ]
     },
     "execution_count": 13,
     "metadata": {},
     "output_type": "execute_result"
    }
   ],
   "source": [
    "np.mean(cart_summary['holdout_test_auc']), np.mean(cart_summary['auc_diffs'])"
   ]
  },
  {
   "cell_type": "code",
   "execution_count": 14,
   "metadata": {},
   "outputs": [
    {
     "data": {
      "text/plain": [
       "(0.660773377058851, 0.04104531338815751)"
      ]
     },
     "execution_count": 14,
     "metadata": {},
     "output_type": "execute_result"
    }
   ],
   "source": [
    "np.mean(ebm_summary['holdout_test_auc']), np.mean(ebm_summary['auc_diffs'])"
   ]
  },
  {
   "cell_type": "markdown",
   "metadata": {},
   "source": [
    "## Lasso Stumps"
   ]
  },
  {
   "cell_type": "code",
   "execution_count": 3,
   "metadata": {},
   "outputs": [],
   "source": [
    "## load whole data\n",
    "data = pd.read_csv(\"~/Documents/Duke/Cynthia Research/KY-analysis-mytrials/broward/data/broward_stumps.csv\")\n",
    "X_stumps, Y_stumps = data.loc[:,:'five_year>=1'], data['recid_two_year'].values\n",
    "Y_stumps[Y_stumps == -1] = 0\n",
    "cols = X_stumps.columns[3:]\n",
    "\n",
    "## load train & test data\n",
    "train_stumps = pd.read_csv(\"~/Documents/Duke/Cynthia Research/KY-analysis-mytrials/broward/data/broward_train_stumps.csv\")\n",
    "test_stumps = pd.read_csv(\"~/Documents/Duke/Cynthia Research/KY-analysis-mytrials/broward/data/broward_test_stumps.csv\")\n",
    "X_train_stumps, Y_train_stumps = train_stumps.loc[:,:'five_year>=1'], train_stumps['recid_two_year'].values\n",
    "X_test_stumps, Y_test_stumps = test_stumps.loc[:,:'five_year>=1'], test_stumps['recid_two_year'].values\n",
    "Y_train_stumps[Y_train_stumps == -1] = 0\n",
    "Y_test_stumps[Y_test_stumps == -1] = 0"
   ]
  },
  {
   "cell_type": "markdown",
   "metadata": {},
   "source": [
    "#### Nested Cross Validation"
   ]
  },
  {
   "cell_type": "code",
   "execution_count": 4,
   "metadata": {
    "scrolled": true
   },
   "outputs": [
    {
     "name": "stderr",
     "output_type": "stream",
     "text": [
      "C:\\Users\\binha\\Documents\\Duke\\Cynthia Research\\psa-analysis - test2\\utils\\fairness_functions.py:95: RuntimeWarning:\n",
      "\n",
      "divide by zero encountered in longlong_scalars\n",
      "\n",
      "C:\\Users\\binha\\Documents\\Duke\\Cynthia Research\\psa-analysis - test2\\utils\\fairness_functions.py:86: RuntimeWarning:\n",
      "\n",
      "invalid value encountered in longlong_scalars\n",
      "\n",
      "C:\\Users\\binha\\Documents\\Duke\\Cynthia Research\\psa-analysis - test2\\utils\\fairness_functions.py:84: RuntimeWarning:\n",
      "\n",
      "invalid value encountered in longlong_scalars\n",
      "\n",
      "C:\\Users\\binha\\Documents\\Duke\\Cynthia Research\\psa-analysis - test2\\utils\\fairness_functions.py:95: RuntimeWarning:\n",
      "\n",
      "invalid value encountered in longlong_scalars\n",
      "\n",
      "C:\\Users\\binha\\Documents\\Duke\\Cynthia Research\\psa-analysis - test2\\utils\\fairness_functions.py:133: RuntimeWarning:\n",
      "\n",
      "invalid value encountered in longlong_scalars\n",
      "\n",
      "C:\\Users\\binha\\Documents\\Duke\\Cynthia Research\\psa-analysis - test2\\utils\\fairness_functions.py:86: RuntimeWarning:\n",
      "\n",
      "invalid value encountered in longlong_scalars\n",
      "\n",
      "C:\\Users\\binha\\Documents\\Duke\\Cynthia Research\\psa-analysis - test2\\utils\\fairness_functions.py:82: RuntimeWarning:\n",
      "\n",
      "invalid value encountered in longlong_scalars\n",
      "\n",
      "C:\\Users\\binha\\Documents\\Duke\\Cynthia Research\\psa-analysis - test2\\utils\\fairness_functions.py:95: RuntimeWarning:\n",
      "\n",
      "divide by zero encountered in longlong_scalars\n",
      "\n",
      "C:\\Users\\binha\\Documents\\Duke\\Cynthia Research\\psa-analysis - test2\\utils\\fairness_functions.py:133: RuntimeWarning:\n",
      "\n",
      "invalid value encountered in longlong_scalars\n",
      "\n",
      "C:\\Users\\binha\\Documents\\Duke\\Cynthia Research\\psa-analysis - test2\\utils\\fairness_functions.py:133: RuntimeWarning:\n",
      "\n",
      "invalid value encountered in longlong_scalars\n",
      "\n",
      "C:\\Users\\binha\\Documents\\Duke\\Cynthia Research\\psa-analysis - test2\\utils\\fairness_functions.py:82: RuntimeWarning:\n",
      "\n",
      "invalid value encountered in longlong_scalars\n",
      "\n",
      "C:\\Users\\binha\\Documents\\Duke\\Cynthia Research\\psa-analysis - test2\\utils\\fairness_functions.py:84: RuntimeWarning:\n",
      "\n",
      "invalid value encountered in longlong_scalars\n",
      "\n",
      "C:\\Users\\binha\\Documents\\Duke\\Cynthia Research\\psa-analysis - test2\\utils\\fairness_functions.py:95: RuntimeWarning:\n",
      "\n",
      "divide by zero encountered in longlong_scalars\n",
      "\n",
      "C:\\Users\\binha\\Documents\\Duke\\Cynthia Research\\psa-analysis - test2\\utils\\fairness_functions.py:133: RuntimeWarning:\n",
      "\n",
      "invalid value encountered in longlong_scalars\n",
      "\n",
      "C:\\Users\\binha\\Documents\\Duke\\Cynthia Research\\psa-analysis - test2\\utils\\fairness_functions.py:86: RuntimeWarning:\n",
      "\n",
      "invalid value encountered in longlong_scalars\n",
      "\n",
      "C:\\Users\\binha\\Documents\\Duke\\Cynthia Research\\psa-analysis - test2\\utils\\fairness_functions.py:82: RuntimeWarning:\n",
      "\n",
      "invalid value encountered in longlong_scalars\n",
      "\n",
      "C:\\Users\\binha\\Documents\\Duke\\Cynthia Research\\psa-analysis - test2\\utils\\fairness_functions.py:95: RuntimeWarning:\n",
      "\n",
      "invalid value encountered in longlong_scalars\n",
      "\n",
      "C:\\Users\\binha\\Documents\\Duke\\Cynthia Research\\psa-analysis - test2\\utils\\fairness_functions.py:133: RuntimeWarning:\n",
      "\n",
      "invalid value encountered in longlong_scalars\n",
      "\n"
     ]
    }
   ],
   "source": [
    "stump_summary = stumps.stump_cv(X = X_stumps, \n",
    "                                Y = Y_stumps, \n",
    "                                columns=cols, \n",
    "                                c_grid={'C': [0.07, 0.09, 0.11, 0.13, 0.15, 0.17, 0.19]}, \n",
    "                                seed = 816)"
   ]
  },
  {
   "cell_type": "code",
   "execution_count": 5,
   "metadata": {},
   "outputs": [
    {
     "data": {
      "text/plain": [
       "([{'C': 0.15}, {'C': 0.19}, {'C': 0.17}, {'C': 0.15}, {'C': 0.17}],\n",
       " 0.6691980390821374,\n",
       " 0.040576316605307985)"
      ]
     },
     "execution_count": 5,
     "metadata": {},
     "output_type": "execute_result"
    }
   ],
   "source": [
    "stump_summary['best_params'], np.mean(stump_summary['holdout_test_auc']), np.mean(stump_summary['auc_diffs'])"
   ]
  },
  {
   "cell_type": "code",
   "execution_count": 5,
   "metadata": {},
   "outputs": [
    {
     "data": {
      "text/plain": [
       "[0.6792554590897131,\n",
       " 0.668252572098726,\n",
       " 0.6648104265402843,\n",
       " 0.6679132286398722,\n",
       " 0.665758509042091]"
      ]
     },
     "execution_count": 5,
     "metadata": {},
     "output_type": "execute_result"
    }
   ],
   "source": [
    "stump_summary['holdout_test_auc']"
   ]
  },
  {
   "cell_type": "markdown",
   "metadata": {},
   "source": [
    "##### Best Stump Model"
   ]
  },
  {
   "cell_type": "code",
   "execution_count": 38,
   "metadata": {},
   "outputs": [
    {
     "data": {
      "text/plain": [
       "26"
      ]
     },
     "execution_count": 38,
     "metadata": {},
     "output_type": "execute_result"
    }
   ],
   "source": [
    "best_stump_model = stumps.stump_model(X_train_stumps, \n",
    "                                      Y_train_stumps, \n",
    "                                      X_test_stumps, \n",
    "                                      Y_test_stumps, \n",
    "                                      c=0.15, \n",
    "                                      columns=cols, \n",
    "                                      seed=816)\n",
    "len(best_stump_model['features'])"
   ]
  },
  {
   "cell_type": "markdown",
   "metadata": {},
   "source": [
    "##### Prediction Table"
   ]
  },
  {
   "cell_type": "code",
   "execution_count": 39,
   "metadata": {
    "scrolled": true
   },
   "outputs": [
    {
     "name": "stdout",
     "output_type": "stream",
     "text": [
      "\begin{tabular}{|l|r|r|} \\hline\n",
      "1. sex>=1 & 7.0 & +... \\ \\hline\n",
      "2. p_current_age>=23 & 21.4 & -... \\ \\hline\n",
      "3. p_current_age>=30 & 28.1 & -... \\ \\hline\n",
      "4. p_current_age>=31 & 12.0 & -... \\ \\hline\n",
      "5. p_current_age>=33 & 1.0 & -... \\ \\hline\n",
      "6. p_age_first_offense<=28 & 23.8 & +... \\ \\hline\n",
      "7. p_probation>=4 & 8.4 & +... \\ \\hline\n",
      "8. p_misdemassault_arrest>=1 & 2.9 & +... \\ \\hline\n",
      "9. fail_appear_two_yr>=1 & 20.6 & +... \\ \\hline\n",
      "10. prior_conviction_M>=2 & 2.5 & +... \\ \\hline\n",
      "11. prior_conviction_M>=4 & 29.4 & +... \\ \\hline\n",
      "12. prior_conviction_M>=7 & 31.8 & +... \\ \\hline\n",
      "13. violent_conviction>=2 & 7.8 & +... \\ \\hline\n",
      "14. p_arrest>=4 & 17.0 & +... \\ \\hline\n",
      "15. p_arrest>=6 & 2.2 & +... \\ \\hline\n",
      "16. p_property>=5 & 4.2 & +... \\ \\hline\n",
      "17. p_property>=6 & 8.4 & +... \\ \\hline\n",
      "18. p_drug>=1 & 11.2 & +... \\ \\hline\n",
      "19. p_drug>=2 & 1.1 & +... \\ \\hline\n",
      "20. p_dui>=1 & 19.3 & -... \\ \\hline\n",
      "21. p_stealing>=1 & 2.5 & -... \\ \\hline\n",
      "22. p_stealing>=2 & 11.5 & -... \\ \\hline\n",
      "23. years_since_last_crime>=0.5 & 22.9 & -... \\ \\hline\n",
      "24. years_since_last_crime>=1.5 & 15.3 & -... \\ \\hline\n",
      "25. years_since_last_crime>=3 & 21.1 & -... \\ \\hline\n",
      "26. years_since_last_crime>=4 & 6.4 & -... \\ \\hline\n",
      "27. Intercept & 0.0 & -... \\ \\hline\n",
      "\textbf{ADD POINTS FROM ROWS 1 TO 27}  &  \textbf{SCORE} & = ..... \\ \\hline\n",
      "\\multicolumn{3}{l}{Pr(Y = 1) = exp(score/100) / (1 + exp(score/100))} \\ \\hline\n"
     ]
    }
   ],
   "source": [
    "stumps.latex_stump_table(best_stump_model['coefs'], \n",
    "                         best_stump_model['features'], \n",
    "                         best_stump_model['intercept'], \n",
    "                         best_stump_model['dictionary'])"
   ]
  },
  {
   "cell_type": "markdown",
   "metadata": {},
   "source": [
    "##### Stumps Visualization"
   ]
  },
  {
   "cell_type": "code",
   "execution_count": 68,
   "metadata": {
    "scrolled": true
   },
   "outputs": [
    {
     "data": {
      "image/png": "[encoded data removed]",
      "text/plain": [
       "<Figure size 288x216 with 1 Axes>"
      ]
     },
     "metadata": {
      "needs_background": "light"
     },
     "output_type": "display_data"
    },
    {
     "data": {
      "image/png": "[encoded data removed]",
      "text/plain": [
       "<Figure size 288x216 with 1 Axes>"
      ]
     },
     "metadata": {
      "needs_background": "light"
     },
     "output_type": "display_data"
    },
    {
     "data": {
      "image/png": "[encoded data removed]",
      "text/plain": [
       "<Figure size 288x216 with 1 Axes>"
      ]
     },
     "metadata": {
      "needs_background": "light"
     },
     "output_type": "display_data"
    }
   ],
   "source": [
    "stumps.stump_plots(best_stump_model['features'], best_stump_model['coefs'])"
   ]
  },
  {
   "cell_type": "markdown",
   "metadata": {},
   "source": [
    "## RiskSLIM"
   ]
  },
  {
   "cell_type": "code",
   "execution_count": 6,
   "metadata": {},
   "outputs": [],
   "source": [
    "## load stumps data\n",
    "data = pd.read_csv(\"~/Documents/Duke/Cynthia Research/KY-analysis-mytrials/broward/data/broward_stumps.csv\")\n",
    "x, y = data.loc[:,:'five_year>=1'], data['recid_two_year'].values\n",
    "cols = x.columns[3:]"
   ]
  },
  {
   "cell_type": "code",
   "execution_count": 7,
   "metadata": {},
   "outputs": [
    {
     "data": {
      "text/plain": [
       "14"
      ]
     },
     "execution_count": 7,
     "metadata": {},
     "output_type": "execute_result"
    }
   ],
   "source": [
    "## train on best param chosen by Lasso Stumps from above\n",
    "x_train = x.copy().drop(['race', 'person_id', 'screening_date'], axis=1)\n",
    "lasso = LogisticRegression(class_weight='balanced', solver='liblinear', penalty='l1', C=0.03, random_state=816).fit(x_train,y)\n",
    "selected_features = cols[lasso.coef_[0] != 0].tolist()\n",
    "len(selected_features)"
   ]
  },
  {
   "cell_type": "code",
   "execution_count": 8,
   "metadata": {},
   "outputs": [],
   "source": [
    "### Subset features\n",
    "if 'sex>=1' in selected_features:\n",
    "    selected_features = ['recid_two_year', 'person_id', 'screening_date', 'race'] + selected_features\n",
    "    indicator = 1\n",
    "else:\n",
    "    selected_features = ['recid_two_year', 'person_id', 'screening_date', 'race', 'sex>=1'] + selected_features\n",
    "    indicator = 0\n",
    "    \n",
    "sub_data = data[selected_features]\n",
    "sub_X, sub_Y = sub_data.iloc[:,1:], sub_data.iloc[:,0].values\n",
    "sub_X.insert(0, '(Intercept)', 1)"
   ]
  },
  {
   "cell_type": "code",
   "execution_count": 9,
   "metadata": {
    "scrolled": true
   },
   "outputs": [
    {
     "name": "stdout",
     "output_type": "stream",
     "text": [
      "setting c0 = 0.0 to ensure that intercept is not penalized\n",
      "10/02/19 @ 10:12 PM | 661 rows in lookup table\n",
      "10/02/19 @ 10:12 PM | ------------------------------------------------------------\n",
      "10/02/19 @ 10:12 PM | runnning initialization procedure\n",
      "10/02/19 @ 10:12 PM | ------------------------------------------------------------\n",
      "10/02/19 @ 10:12 PM | CPA produced 2 cuts\n",
      "10/02/19 @ 10:12 PM | running naive rounding on 104 solutions\n",
      "10/02/19 @ 10:12 PM | best objective value: 0.6528\n",
      "10/02/19 @ 10:12 PM | rounding produced 2 integer solutions\n",
      "10/02/19 @ 10:12 PM | best objective value is 0.6780\n",
      "10/02/19 @ 10:12 PM | running sequential rounding on 104 solutions\n",
      "10/02/19 @ 10:12 PM | best objective value: 0.6528\n",
      "10/02/19 @ 10:12 PM | sequential rounding produced 1 integer solutions\n",
      "10/02/19 @ 10:12 PM | best objective value: 0.6748\n",
      "10/02/19 @ 10:12 PM | polishing 3 solutions\n",
      "10/02/19 @ 10:12 PM | best objective value: 0.6748\n",
      "10/02/19 @ 10:12 PM | polishing produced 2 integer solutions\n",
      "10/02/19 @ 10:12 PM | initialization produced 3 feasible solutions\n",
      "10/02/19 @ 10:12 PM | best objective value: 0.6748\n",
      "10/02/19 @ 10:12 PM | ------------------------------------------------------------\n",
      "10/02/19 @ 10:12 PM | completed initialization procedure\n",
      "10/02/19 @ 10:12 PM | ------------------------------------------------------------\n",
      "10/02/19 @ 10:12 PM | 661 rows in lookup table\n",
      "CPXPARAM_Read_DataCheck                          1\n",
      "CPXPARAM_Threads                                 1\n",
      "CPXPARAM_Parallel                                1\n",
      "CPXPARAM_RandomSeed                              0\n",
      "CPXPARAM_TimeLimit                               200\n",
      "CPXPARAM_MIP_Tolerances_LowerCutoff              0.65269446593456937\n",
      "CPXPARAM_MIP_Tolerances_UpperCutoff              0.67478210051557641\n"
     ]
    },
    {
     "name": "stderr",
     "output_type": "stream",
     "text": [
      "Warning: Control callbacks may disable some MIP features.\n"
     ]
    },
    {
     "name": "stdout",
     "output_type": "stream",
     "text": [
      "Lazy constraint(s) or lazy constraint callback is present.\n",
      "    Disabling dual reductions (CPX_PARAM_REDUCE) in presolve.\n",
      "    Disabling non-linear reductions (CPX_PARAM_PRELINEAR) in presolve.\n",
      "         Disabling repeat represolve because of lazy constraint/incumbent callback.\n",
      "10/02/19 @ 10:12 PM | adding 103 initial cuts\n",
      "1 of 1 MIP starts provided solutions.\n",
      "MIP start 'mip_start_0' defined initial solution with objective 0.6748.\n",
      "Tried aggregator 1 time.\n",
      "Reduced MIP has 16 rows, 32 columns, and 59 nonzeros.\n",
      "Reduced MIP has 14 binaries, 16 generals, 0 SOSs, and 0 indicators.\n",
      "Presolve time = 0.00 sec. (0.03 ticks)\n",
      "Probing time = 0.00 sec. (0.01 ticks)\n",
      "MIP emphasis: balance optimality and feasibility.\n",
      "MIP search method: traditional branch-and-cut.\n",
      "Parallel mode: none, using 1 thread.\n",
      "Root relaxation solution time = 0.00 sec. (0.02 ticks)\n",
      "\n",
      "        Nodes                                         Cuts/\n",
      "   Node  Left     Objective  IInf  Best Integer    Best Bound    ItCnt     Gap         Variable B NodeID Parent  Depth\n",
      "\n",
      "*     0+    0                            0.6748        0.6527             3.27%\n",
      "      0     0        0.6527     1        0.6748        0.6527        1    3.27%\n",
      "      0     0        0.6527     1        0.6748       Cuts: 3        4    3.27%\n",
      "      0     0        0.6527     6        0.6748      Fract: 1        7    3.27%\n",
      "      0     2        0.6527     6        0.6748        0.6527        7    3.27%                        0             0\n",
      "Elapsed time = 0.05 sec. (1.13 ticks, tree = 0.01 MB, solutions = 1)\n",
      "*   109    37      integral     0        0.6740        0.6527      290    3.17%\n",
      "*   278    88      integral     0        0.6740        0.6527      847    3.17%\n",
      "*   768   199      integral     0        0.6710        0.6527     2873    2.72%           rho_9 D    768    767     11\n",
      "*   780   188      integral     0        0.6693        0.6527     2895    2.48%\n",
      "*   887   221      integral     0        0.6693        0.6527     3267    2.48%\n",
      "   4870  1269        0.6553     4        0.6693        0.6527    20837    2.48%          rho_14 D   4870   4869     41\n",
      "   8645   943        0.6657     3        0.6693        0.6601    34380    1.37%           rho_4 D   8645   8644     33\n",
      "\n",
      "Gomory fractional cuts applied:  3\n",
      "User cuts applied:  67\n",
      "\n",
      "Root node processing (before b&c):\n",
      "  Real time             =    0.05 sec. (1.14 ticks)\n",
      "Sequential b&c:\n",
      "  Real time             =    0.78 sec. (582.43 ticks)\n",
      "                          ------------\n",
      "Total (root+branch&cut) =    0.83 sec. (583.56 ticks)\n",
      "+----------------------------------------------+------------------+-----------+\n",
      "| Pr(Y = +1) = 1.0/(1.0 + exp(-(-3 + score))   |                  |           |\n",
      "| ============================================ | ================ | ========= |\n",
      "| three_year>=1                                |         2 points |   + ..... |\n",
      "| p_age_first_offense<=23                      |         1 points |   + ..... |\n",
      "| prior_conviction_M>=5                        |         1 points |   + ..... |\n",
      "| years_since_last_crime>=3                    |         1 points |   + ..... |\n",
      "| ============================================ | ================ | ========= |\n",
      "| ADD POINTS FROM ROWS 1 to 4                  |            SCORE |   = ..... |\n",
      "+----------------------------------------------+------------------+-----------+\n"
     ]
    },
    {
     "name": "stderr",
     "output_type": "stream",
     "text": [
      "C:\\Users\\binha\\Documents\\Duke\\Cynthia Research\\psa-analysis - test2\\utils\\fairness_functions.py:95: RuntimeWarning:\n",
      "\n",
      "divide by zero encountered in longlong_scalars\n",
      "\n",
      "C:\\Users\\binha\\Documents\\Duke\\Cynthia Research\\psa-analysis - test2\\utils\\fairness_functions.py:82: RuntimeWarning:\n",
      "\n",
      "invalid value encountered in longlong_scalars\n",
      "\n",
      "C:\\Users\\binha\\Documents\\Duke\\Cynthia Research\\psa-analysis - test2\\utils\\fairness_functions.py:86: RuntimeWarning:\n",
      "\n",
      "invalid value encountered in longlong_scalars\n",
      "\n",
      "C:\\Users\\binha\\Documents\\Duke\\Cynthia Research\\psa-analysis - test2\\utils\\fairness_functions.py:95: RuntimeWarning:\n",
      "\n",
      "invalid value encountered in longlong_scalars\n",
      "\n",
      "C:\\Users\\binha\\Documents\\Duke\\Cynthia Research\\psa-analysis - test2\\utils\\fairness_functions.py:84: RuntimeWarning:\n",
      "\n",
      "invalid value encountered in longlong_scalars\n",
      "\n",
      "C:\\Users\\binha\\Documents\\Duke\\Cynthia Research\\psa-analysis - test2\\utils\\fairness_functions.py:133: RuntimeWarning:\n",
      "\n",
      "invalid value encountered in longlong_scalars\n",
      "\n"
     ]
    },
    {
     "name": "stdout",
     "output_type": "stream",
     "text": [
      "setting c0 = 0.0 to ensure that intercept is not penalized\n",
      "10/02/19 @ 10:12 PM | 661 rows in lookup table\n",
      "10/02/19 @ 10:12 PM | ------------------------------------------------------------\n",
      "10/02/19 @ 10:12 PM | runnning initialization procedure\n",
      "10/02/19 @ 10:12 PM | ------------------------------------------------------------\n",
      "10/02/19 @ 10:12 PM | CPA produced 2 cuts\n",
      "10/02/19 @ 10:12 PM | running naive rounding on 100 solutions\n",
      "10/02/19 @ 10:12 PM | best objective value: 0.6473\n",
      "10/02/19 @ 10:12 PM | rounding produced 1 integer solutions\n",
      "10/02/19 @ 10:12 PM | best objective value is 0.7335\n",
      "10/02/19 @ 10:12 PM | running sequential rounding on 100 solutions\n",
      "10/02/19 @ 10:12 PM | best objective value: 0.6473\n",
      "10/02/19 @ 10:12 PM | sequential rounding produced 1 integer solutions\n",
      "10/02/19 @ 10:12 PM | best objective value: 0.6587\n",
      "10/02/19 @ 10:12 PM | polishing 2 solutions\n",
      "10/02/19 @ 10:12 PM | best objective value: 0.6587\n",
      "10/02/19 @ 10:12 PM | polishing produced 2 integer solutions\n",
      "10/02/19 @ 10:12 PM | initialization produced 3 feasible solutions\n",
      "10/02/19 @ 10:12 PM | best objective value: 0.6587\n",
      "10/02/19 @ 10:12 PM | ------------------------------------------------------------\n",
      "10/02/19 @ 10:12 PM | completed initialization procedure\n",
      "10/02/19 @ 10:12 PM | ------------------------------------------------------------\n",
      "10/02/19 @ 10:12 PM | 661 rows in lookup table\n",
      "CPXPARAM_Read_DataCheck                          1\n",
      "CPXPARAM_Threads                                 1\n",
      "CPXPARAM_Parallel                                1\n",
      "CPXPARAM_RandomSeed                              0\n",
      "CPXPARAM_TimeLimit                               200\n",
      "CPXPARAM_MIP_Tolerances_LowerCutoff              0.64726424800652194\n",
      "CPXPARAM_MIP_Tolerances_UpperCutoff              0.65872095062611791\n"
     ]
    },
    {
     "name": "stderr",
     "output_type": "stream",
     "text": [
      "Warning: Control callbacks may disable some MIP features.\n"
     ]
    },
    {
     "name": "stdout",
     "output_type": "stream",
     "text": [
      "Lazy constraint(s) or lazy constraint callback is present.\n",
      "    Disabling dual reductions (CPX_PARAM_REDUCE) in presolve.\n",
      "    Disabling non-linear reductions (CPX_PARAM_PRELINEAR) in presolve.\n",
      "         Disabling repeat represolve because of lazy constraint/incumbent callback.\n",
      "10/02/19 @ 10:12 PM | adding 99 initial cuts\n",
      "1 of 1 MIP starts provided solutions.\n",
      "MIP start 'mip_start_0' defined initial solution with objective 0.6587.\n",
      "Tried aggregator 1 time.\n",
      "Reduced MIP has 16 rows, 32 columns, and 59 nonzeros.\n",
      "Reduced MIP has 14 binaries, 16 generals, 0 SOSs, and 0 indicators.\n",
      "Presolve time = 0.00 sec. (0.03 ticks)\n",
      "Probing time = 0.00 sec. (0.01 ticks)\n",
      "MIP emphasis: balance optimality and feasibility.\n",
      "MIP search method: traditional branch-and-cut.\n",
      "Parallel mode: none, using 1 thread.\n",
      "Root relaxation solution time = 0.00 sec. (0.02 ticks)\n",
      "\n",
      "        Nodes                                         Cuts/\n",
      "   Node  Left     Objective  IInf  Best Integer    Best Bound    ItCnt     Gap         Variable B NodeID Parent  Depth\n",
      "\n",
      "*     0+    0                            0.6587        0.6473             1.74%\n",
      "      0     0        0.6473     1        0.6587        0.6473        1    1.74%\n",
      "      0     0        0.6473     2        0.6587       Cuts: 2        3    1.74%\n",
      "      0     2        0.6473     5        0.6587        0.6473        3    1.74%                        0             0\n",
      "Elapsed time = 0.05 sec. (0.87 ticks, tree = 0.01 MB, solutions = 1)\n",
      "\n",
      "Gomory fractional cuts applied:  1\n",
      "User cuts applied:  39\n",
      "\n",
      "Root node processing (before b&c):\n",
      "  Real time             =    0.05 sec. (0.87 ticks)\n",
      "Sequential b&c:\n",
      "  Real time             =    0.39 sec. (202.46 ticks)\n",
      "                          ------------\n",
      "Total (root+branch&cut) =    0.44 sec. (203.32 ticks)\n",
      "+----------------------------------------------+------------------+-----------+\n",
      "| Pr(Y = +1) = 1.0/(1.0 + exp(-(-2 + score))   |                  |           |\n",
      "| ============================================ | ================ | ========= |\n",
      "| p_age_first_offense<=23                      |         1 points |   + ..... |\n",
      "| prior_conviction_M>=5                        |         1 points |   + ..... |\n",
      "| three_year>=1                                |         1 points |   + ..... |\n",
      "| ============================================ | ================ | ========= |\n",
      "| ADD POINTS FROM ROWS 1 to 3                  |            SCORE |   = ..... |\n",
      "+----------------------------------------------+------------------+-----------+\n"
     ]
    },
    {
     "name": "stderr",
     "output_type": "stream",
     "text": [
      "C:\\Users\\binha\\Documents\\Duke\\Cynthia Research\\psa-analysis - test2\\utils\\fairness_functions.py:86: RuntimeWarning:\n",
      "\n",
      "invalid value encountered in longlong_scalars\n",
      "\n",
      "C:\\Users\\binha\\Documents\\Duke\\Cynthia Research\\psa-analysis - test2\\utils\\fairness_functions.py:82: RuntimeWarning:\n",
      "\n",
      "invalid value encountered in longlong_scalars\n",
      "\n",
      "C:\\Users\\binha\\Documents\\Duke\\Cynthia Research\\psa-analysis - test2\\utils\\fairness_functions.py:95: RuntimeWarning:\n",
      "\n",
      "divide by zero encountered in longlong_scalars\n",
      "\n",
      "C:\\Users\\binha\\Documents\\Duke\\Cynthia Research\\psa-analysis - test2\\utils\\fairness_functions.py:133: RuntimeWarning:\n",
      "\n",
      "invalid value encountered in longlong_scalars\n",
      "\n"
     ]
    },
    {
     "name": "stdout",
     "output_type": "stream",
     "text": [
      "setting c0 = 0.0 to ensure that intercept is not penalized\n",
      "10/02/19 @ 10:12 PM | 661 rows in lookup table\n",
      "10/02/19 @ 10:12 PM | ------------------------------------------------------------\n",
      "10/02/19 @ 10:12 PM | runnning initialization procedure\n",
      "10/02/19 @ 10:12 PM | ------------------------------------------------------------\n",
      "10/02/19 @ 10:12 PM | CPA produced 2 cuts\n",
      "10/02/19 @ 10:12 PM | running naive rounding on 104 solutions\n",
      "10/02/19 @ 10:12 PM | best objective value: 0.6430\n",
      "10/02/19 @ 10:12 PM | rounding produced 1 integer solutions\n",
      "10/02/19 @ 10:12 PM | best objective value is 0.7235\n",
      "10/02/19 @ 10:12 PM | running sequential rounding on 104 solutions\n",
      "10/02/19 @ 10:12 PM | best objective value: 0.6430\n",
      "10/02/19 @ 10:12 PM | sequential rounding produced 1 integer solutions\n",
      "10/02/19 @ 10:12 PM | best objective value: 0.6529\n",
      "10/02/19 @ 10:12 PM | polishing 2 solutions\n",
      "10/02/19 @ 10:12 PM | best objective value: 0.6529\n",
      "10/02/19 @ 10:12 PM | polishing produced 2 integer solutions\n",
      "10/02/19 @ 10:12 PM | initialization produced 3 feasible solutions\n",
      "10/02/19 @ 10:12 PM | best objective value: 0.6529\n",
      "10/02/19 @ 10:12 PM | ------------------------------------------------------------\n",
      "10/02/19 @ 10:12 PM | completed initialization procedure\n",
      "10/02/19 @ 10:12 PM | ------------------------------------------------------------\n",
      "10/02/19 @ 10:12 PM | 661 rows in lookup table\n",
      "CPXPARAM_Read_DataCheck                          1\n",
      "CPXPARAM_Threads                                 1\n",
      "CPXPARAM_Parallel                                1\n",
      "CPXPARAM_RandomSeed                              0\n",
      "CPXPARAM_TimeLimit                               200\n",
      "CPXPARAM_MIP_Tolerances_LowerCutoff              0.64295237218496182\n",
      "CPXPARAM_MIP_Tolerances_UpperCutoff              0.65294264564126903\n"
     ]
    },
    {
     "name": "stderr",
     "output_type": "stream",
     "text": [
      "Warning: Control callbacks may disable some MIP features.\n"
     ]
    },
    {
     "name": "stdout",
     "output_type": "stream",
     "text": [
      "Lazy constraint(s) or lazy constraint callback is present.\n",
      "    Disabling dual reductions (CPX_PARAM_REDUCE) in presolve.\n",
      "    Disabling non-linear reductions (CPX_PARAM_PRELINEAR) in presolve.\n",
      "         Disabling repeat represolve because of lazy constraint/incumbent callback.\n",
      "10/02/19 @ 10:12 PM | adding 103 initial cuts\n",
      "1 of 1 MIP starts provided solutions.\n",
      "MIP start 'mip_start_0' defined initial solution with objective 0.6529.\n",
      "Tried aggregator 1 time.\n",
      "Reduced MIP has 16 rows, 32 columns, and 59 nonzeros.\n",
      "Reduced MIP has 14 binaries, 16 generals, 0 SOSs, and 0 indicators.\n",
      "Presolve time = 0.00 sec. (0.03 ticks)\n",
      "Probing time = 0.00 sec. (0.01 ticks)\n",
      "MIP emphasis: balance optimality and feasibility.\n",
      "MIP search method: traditional branch-and-cut.\n",
      "Parallel mode: none, using 1 thread.\n",
      "Root relaxation solution time = 0.00 sec. (0.02 ticks)\n",
      "\n",
      "        Nodes                                         Cuts/\n",
      "   Node  Left     Objective  IInf  Best Integer    Best Bound    ItCnt     Gap         Variable B NodeID Parent  Depth\n",
      "\n",
      "*     0+    0                            0.6529        0.6429             1.53%\n",
      "      0     0        0.6430     1        0.6529        0.6430        1    1.53%\n",
      "      0     0        0.6430     2        0.6529       Cuts: 2        3    1.53%\n",
      "      0     0        0.6430     5        0.6529    MIRcuts: 1        5    1.53%\n",
      "      0     2        0.6430     2        0.6529        0.6430        5    1.53%                        0             0\n",
      "Elapsed time = 0.05 sec. (0.91 ticks, tree = 0.01 MB, solutions = 1)\n",
      "\n",
      "Mixed integer rounding cuts applied:  1\n",
      "Gomory fractional cuts applied:  1\n",
      "User cuts applied:  46\n",
      "\n",
      "Root node processing (before b&c):\n",
      "  Real time             =    0.05 sec. (0.92 ticks)\n",
      "Sequential b&c:\n",
      "  Real time             =    0.36 sec. (187.62 ticks)\n",
      "                          ------------\n",
      "Total (root+branch&cut) =    0.41 sec. (188.54 ticks)\n",
      "+----------------------------------------------+------------------+-----------+\n",
      "| Pr(Y = +1) = 1.0/(1.0 + exp(-(-2 + score))   |                  |           |\n",
      "| ============================================ | ================ | ========= |\n",
      "| p_age_first_offense<=23                      |         1 points |   + ..... |\n",
      "| prior_conviction_M>=5                        |         1 points |   + ..... |\n",
      "| three_year>=1                                |         1 points |   + ..... |\n",
      "| ============================================ | ================ | ========= |\n",
      "| ADD POINTS FROM ROWS 1 to 3                  |            SCORE |   = ..... |\n",
      "+----------------------------------------------+------------------+-----------+\n"
     ]
    },
    {
     "name": "stderr",
     "output_type": "stream",
     "text": [
      "C:\\Users\\binha\\Documents\\Duke\\Cynthia Research\\psa-analysis - test2\\utils\\fairness_functions.py:95: RuntimeWarning:\n",
      "\n",
      "divide by zero encountered in longlong_scalars\n",
      "\n",
      "C:\\Users\\binha\\Documents\\Duke\\Cynthia Research\\psa-analysis - test2\\utils\\fairness_functions.py:133: RuntimeWarning:\n",
      "\n",
      "invalid value encountered in longlong_scalars\n",
      "\n"
     ]
    },
    {
     "name": "stdout",
     "output_type": "stream",
     "text": [
      "setting c0 = 0.0 to ensure that intercept is not penalized\n",
      "10/02/19 @ 10:12 PM | 661 rows in lookup table\n",
      "10/02/19 @ 10:12 PM | ------------------------------------------------------------\n",
      "10/02/19 @ 10:12 PM | runnning initialization procedure\n",
      "10/02/19 @ 10:12 PM | ------------------------------------------------------------\n",
      "10/02/19 @ 10:12 PM | CPA produced 2 cuts\n",
      "10/02/19 @ 10:12 PM | running naive rounding on 84 solutions\n",
      "10/02/19 @ 10:12 PM | best objective value: 0.6504\n",
      "10/02/19 @ 10:12 PM | rounding produced 1 integer solutions\n",
      "10/02/19 @ 10:12 PM | best objective value is 0.8015\n",
      "10/02/19 @ 10:12 PM | running sequential rounding on 84 solutions\n",
      "10/02/19 @ 10:12 PM | best objective value: 0.6504\n",
      "10/02/19 @ 10:12 PM | sequential rounding produced 2 integer solutions\n",
      "10/02/19 @ 10:12 PM | best objective value: 0.6640\n",
      "10/02/19 @ 10:12 PM | polishing 3 solutions\n",
      "10/02/19 @ 10:12 PM | best objective value: 0.6640\n",
      "10/02/19 @ 10:12 PM | polishing produced 3 integer solutions\n",
      "10/02/19 @ 10:12 PM | initialization produced 4 feasible solutions\n",
      "10/02/19 @ 10:12 PM | best objective value: 0.6640\n",
      "10/02/19 @ 10:12 PM | ------------------------------------------------------------\n",
      "10/02/19 @ 10:12 PM | completed initialization procedure\n",
      "10/02/19 @ 10:12 PM | ------------------------------------------------------------\n",
      "10/02/19 @ 10:12 PM | 661 rows in lookup table\n",
      "CPXPARAM_Read_DataCheck                          1\n",
      "CPXPARAM_Threads                                 1\n",
      "CPXPARAM_Parallel                                1\n",
      "CPXPARAM_RandomSeed                              0\n",
      "CPXPARAM_TimeLimit                               200\n",
      "CPXPARAM_MIP_Tolerances_LowerCutoff              0.65038042196307133\n",
      "CPXPARAM_MIP_Tolerances_UpperCutoff              0.66395247495008314\n"
     ]
    },
    {
     "name": "stderr",
     "output_type": "stream",
     "text": [
      "Warning: Control callbacks may disable some MIP features.\n"
     ]
    },
    {
     "name": "stdout",
     "output_type": "stream",
     "text": [
      "Lazy constraint(s) or lazy constraint callback is present.\n",
      "    Disabling dual reductions (CPX_PARAM_REDUCE) in presolve.\n",
      "    Disabling non-linear reductions (CPX_PARAM_PRELINEAR) in presolve.\n",
      "         Disabling repeat represolve because of lazy constraint/incumbent callback.\n",
      "10/02/19 @ 10:12 PM | adding 83 initial cuts\n",
      "1 of 1 MIP starts provided solutions.\n",
      "MIP start 'mip_start_0' defined initial solution with objective 0.6640.\n",
      "Tried aggregator 1 time.\n",
      "Reduced MIP has 16 rows, 32 columns, and 59 nonzeros.\n",
      "Reduced MIP has 14 binaries, 16 generals, 0 SOSs, and 0 indicators.\n",
      "Presolve time = 0.00 sec. (0.03 ticks)\n",
      "Probing time = 0.00 sec. (0.01 ticks)\n",
      "MIP emphasis: balance optimality and feasibility.\n",
      "MIP search method: traditional branch-and-cut.\n",
      "Parallel mode: none, using 1 thread.\n",
      "Root relaxation solution time = 0.00 sec. (0.02 ticks)\n",
      "\n",
      "        Nodes                                         Cuts/\n",
      "   Node  Left     Objective  IInf  Best Integer    Best Bound    ItCnt     Gap         Variable B NodeID Parent  Depth\n",
      "\n",
      "*     0+    0                            0.6640        0.6504             2.05%\n",
      "      0     0        0.6504     1        0.6640        0.6504        1    2.04%\n",
      "      0     0        0.6504     2        0.6640       Cuts: 2        3    2.04%\n",
      "      0     0        0.6504     4        0.6640    MIRcuts: 1        4    2.04%\n",
      "      0     2        0.6504     4        0.6640        0.6504        4    2.04%                        0             0\n",
      "Elapsed time = 0.03 sec. (0.86 ticks, tree = 0.01 MB, solutions = 1)\n",
      "*  1810   257      integral     0        0.6639        0.6504     6049    2.03%\n",
      "\n",
      "Mixed integer rounding cuts applied:  1\n",
      "Gomory fractional cuts applied:  1\n",
      "User cuts applied:  46\n",
      "\n",
      "Root node processing (before b&c):\n",
      "  Real time             =    0.03 sec. (0.86 ticks)\n",
      "Sequential b&c:\n",
      "  Real time             =    0.38 sec. (192.11 ticks)\n",
      "                          ------------\n",
      "Total (root+branch&cut) =    0.41 sec. (192.97 ticks)\n",
      "+----------------------------------------------+------------------+-----------+\n",
      "| Pr(Y = +1) = 1.0/(1.0 + exp(-(-2 + score))   |                  |           |\n",
      "| ============================================ | ================ | ========= |\n",
      "| p_age_first_offense<=23                      |         1 points |   + ..... |\n",
      "| prior_conviction_M>=4                        |         1 points |   + ..... |\n",
      "| three_year>=1                                |         1 points |   + ..... |\n",
      "| ============================================ | ================ | ========= |\n",
      "| ADD POINTS FROM ROWS 1 to 3                  |            SCORE |   = ..... |\n",
      "+----------------------------------------------+------------------+-----------+\n"
     ]
    },
    {
     "name": "stderr",
     "output_type": "stream",
     "text": [
      "C:\\Users\\binha\\Documents\\Duke\\Cynthia Research\\psa-analysis - test2\\utils\\fairness_functions.py:95: RuntimeWarning:\n",
      "\n",
      "divide by zero encountered in longlong_scalars\n",
      "\n",
      "C:\\Users\\binha\\Documents\\Duke\\Cynthia Research\\psa-analysis - test2\\utils\\fairness_functions.py:82: RuntimeWarning:\n",
      "\n",
      "invalid value encountered in longlong_scalars\n",
      "\n",
      "C:\\Users\\binha\\Documents\\Duke\\Cynthia Research\\psa-analysis - test2\\utils\\fairness_functions.py:84: RuntimeWarning:\n",
      "\n",
      "invalid value encountered in longlong_scalars\n",
      "\n",
      "C:\\Users\\binha\\Documents\\Duke\\Cynthia Research\\psa-analysis - test2\\utils\\fairness_functions.py:133: RuntimeWarning:\n",
      "\n",
      "invalid value encountered in longlong_scalars\n",
      "\n"
     ]
    },
    {
     "name": "stdout",
     "output_type": "stream",
     "text": [
      "setting c0 = 0.0 to ensure that intercept is not penalized\n",
      "10/02/19 @ 10:12 PM | 661 rows in lookup table\n",
      "10/02/19 @ 10:12 PM | ------------------------------------------------------------\n",
      "10/02/19 @ 10:12 PM | runnning initialization procedure\n",
      "10/02/19 @ 10:12 PM | ------------------------------------------------------------\n",
      "10/02/19 @ 10:12 PM | CPA produced 2 cuts\n",
      "10/02/19 @ 10:12 PM | running naive rounding on 101 solutions\n",
      "10/02/19 @ 10:12 PM | best objective value: 0.6449\n",
      "10/02/19 @ 10:12 PM | rounding produced 1 integer solutions\n",
      "10/02/19 @ 10:12 PM | best objective value is 0.7831\n",
      "10/02/19 @ 10:12 PM | running sequential rounding on 101 solutions\n",
      "10/02/19 @ 10:12 PM | best objective value: 0.6449\n",
      "10/02/19 @ 10:12 PM | sequential rounding produced 1 integer solutions\n",
      "10/02/19 @ 10:12 PM | best objective value: 0.6558\n",
      "10/02/19 @ 10:12 PM | polishing 2 solutions\n",
      "10/02/19 @ 10:12 PM | best objective value: 0.6558\n",
      "10/02/19 @ 10:12 PM | polishing produced 2 integer solutions\n",
      "10/02/19 @ 10:12 PM | initialization produced 3 feasible solutions\n",
      "10/02/19 @ 10:12 PM | best objective value: 0.6558\n",
      "10/02/19 @ 10:12 PM | ------------------------------------------------------------\n",
      "10/02/19 @ 10:12 PM | completed initialization procedure\n",
      "10/02/19 @ 10:12 PM | ------------------------------------------------------------\n",
      "10/02/19 @ 10:12 PM | 661 rows in lookup table\n",
      "CPXPARAM_Read_DataCheck                          1\n",
      "CPXPARAM_Threads                                 1\n",
      "CPXPARAM_Parallel                                1\n",
      "CPXPARAM_RandomSeed                              0\n",
      "CPXPARAM_TimeLimit                               200\n",
      "CPXPARAM_MIP_Tolerances_LowerCutoff              0.64481220353897883\n",
      "CPXPARAM_MIP_Tolerances_UpperCutoff              0.65577508125444228\n"
     ]
    },
    {
     "name": "stderr",
     "output_type": "stream",
     "text": [
      "Warning: Control callbacks may disable some MIP features.\n"
     ]
    },
    {
     "name": "stdout",
     "output_type": "stream",
     "text": [
      "Lazy constraint(s) or lazy constraint callback is present.\n",
      "    Disabling dual reductions (CPX_PARAM_REDUCE) in presolve.\n",
      "    Disabling non-linear reductions (CPX_PARAM_PRELINEAR) in presolve.\n",
      "         Disabling repeat represolve because of lazy constraint/incumbent callback.\n",
      "10/02/19 @ 10:12 PM | adding 100 initial cuts\n",
      "1 of 1 MIP starts provided solutions.\n",
      "MIP start 'mip_start_0' defined initial solution with objective 0.6558.\n",
      "Tried aggregator 1 time.\n",
      "Reduced MIP has 16 rows, 32 columns, and 59 nonzeros.\n",
      "Reduced MIP has 14 binaries, 16 generals, 0 SOSs, and 0 indicators.\n",
      "Presolve time = 0.02 sec. (0.03 ticks)\n",
      "Probing time = 0.00 sec. (0.01 ticks)\n",
      "MIP emphasis: balance optimality and feasibility.\n",
      "MIP search method: traditional branch-and-cut.\n",
      "Parallel mode: none, using 1 thread.\n",
      "Root relaxation solution time = 0.00 sec. (0.02 ticks)\n",
      "\n",
      "        Nodes                                         Cuts/\n",
      "   Node  Left     Objective  IInf  Best Integer    Best Bound    ItCnt     Gap         Variable B NodeID Parent  Depth\n",
      "\n",
      "*     0+    0                            0.6558        0.6448             1.67%\n",
      "      0     0        0.6448     1        0.6558        0.6448        1    1.67%\n",
      "      0     0        0.6448     1        0.6558       Cuts: 3        4    1.67%\n",
      "      0     0        0.6448     1        0.6558    MIRcuts: 1        5    1.67%\n",
      "      0     2        0.6448     2        0.6558        0.6448        5    1.67%                        0             0\n",
      "Elapsed time = 0.05 sec. (0.84 ticks, tree = 0.01 MB, solutions = 1)\n",
      "   5688   939        cutoff              0.6558        0.6448    21168    1.67%          rho_11 D   5688   5687     26\n",
      "\n",
      "Implied bound cuts applied:  1\n",
      "Gomory fractional cuts applied:  1\n",
      "User cuts applied:  48\n",
      "\n",
      "Root node processing (before b&c):\n",
      "  Real time             =    0.05 sec. (0.84 ticks)\n",
      "Sequential b&c:\n",
      "  Real time             =    0.64 sec. (379.36 ticks)\n",
      "                          ------------\n",
      "Total (root+branch&cut) =    0.69 sec. (380.20 ticks)\n",
      "+----------------------------------------------+------------------+-----------+\n",
      "| Pr(Y = +1) = 1.0/(1.0 + exp(-(-2 + score))   |                  |           |\n",
      "| ============================================ | ================ | ========= |\n",
      "| p_age_first_offense<=23                      |         1 points |   + ..... |\n",
      "| prior_conviction_M>=5                        |         1 points |   + ..... |\n",
      "| three_year>=1                                |         1 points |   + ..... |\n",
      "| ============================================ | ================ | ========= |\n",
      "| ADD POINTS FROM ROWS 1 to 3                  |            SCORE |   = ..... |\n",
      "+----------------------------------------------+------------------+-----------+\n"
     ]
    },
    {
     "name": "stderr",
     "output_type": "stream",
     "text": [
      "C:\\Users\\binha\\Documents\\Duke\\Cynthia Research\\psa-analysis - test2\\utils\\fairness_functions.py:95: RuntimeWarning:\n",
      "\n",
      "divide by zero encountered in longlong_scalars\n",
      "\n",
      "C:\\Users\\binha\\Documents\\Duke\\Cynthia Research\\psa-analysis - test2\\utils\\fairness_functions.py:86: RuntimeWarning:\n",
      "\n",
      "invalid value encountered in longlong_scalars\n",
      "\n",
      "C:\\Users\\binha\\Documents\\Duke\\Cynthia Research\\psa-analysis - test2\\utils\\fairness_functions.py:82: RuntimeWarning:\n",
      "\n",
      "invalid value encountered in longlong_scalars\n",
      "\n",
      "C:\\Users\\binha\\Documents\\Duke\\Cynthia Research\\psa-analysis - test2\\utils\\fairness_functions.py:95: RuntimeWarning:\n",
      "\n",
      "invalid value encountered in longlong_scalars\n",
      "\n",
      "C:\\Users\\binha\\Documents\\Duke\\Cynthia Research\\psa-analysis - test2\\utils\\fairness_functions.py:133: RuntimeWarning:\n",
      "\n",
      "invalid value encountered in longlong_scalars\n",
      "\n"
     ]
    }
   ],
   "source": [
    "riskslim_summary = slim.risk_cv(X=sub_X, \n",
    "                                Y=sub_Y, \n",
    "                                indicator=indicator,\n",
    "                                y_label='recid_two_year', \n",
    "                                max_coef=20, \n",
    "                                max_coef_number=10, \n",
    "                                max_runtime=200, \n",
    "                                c=1e-6, \n",
    "                                seed=816)"
   ]
  },
  {
   "cell_type": "code",
   "execution_count": 87,
   "metadata": {},
   "outputs": [
    {
     "data": {
      "text/plain": [
       "(0.6488908281109158, 0.6467156511783555)"
      ]
     },
     "execution_count": 87,
     "metadata": {},
     "output_type": "execute_result"
    }
   ],
   "source": [
    "np.mean(riskslim_summary['train_auc']), np.mean(riskslim_summary['test_auc'])"
   ]
  },
  {
   "cell_type": "markdown",
   "metadata": {},
   "source": [
    "## Arnold PSA"
   ]
  },
  {
   "cell_type": "code",
   "execution_count": 61,
   "metadata": {},
   "outputs": [],
   "source": [
    "### load data\n",
    "data = pd.read_csv(\"~/Documents/Duke/Cynthia Research/KY-analysis-mytrials/broward/data/broward_arnold.csv\")\n",
    "X_arnold = data['arnold_nca'].values\n",
    "Y_arnold = data['recid_two_year'].values\n",
    "\n",
    "## set up cross validation\n",
    "cv = KFold(n_splits=5,shuffle=True,random_state=816)\n",
    "arnold_auc = []\n",
    "for train, test in cv.split(X_arnold, Y_arnold):\n",
    "    y_pred_arnold, y_test = X_arnold[test], Y_arnold[test]\n",
    "    arnold_auc.append(roc_auc_score(y_test, y_pred_arnold))"
   ]
  },
  {
   "cell_type": "markdown",
   "metadata": {},
   "source": [
    "### Corel"
   ]
  },
  {
   "cell_type": "code",
   "execution_count": 11,
   "metadata": {},
   "outputs": [],
   "source": [
    "## load stumps data\n",
    "data = pd.read_csv(\"~/Documents/Duke/Cynthia Research/KY-analysis-mytrials/broward/data/broward_stumps.csv\")\n",
    "x, y = data.loc[:,:'five_year>=1'], data['recid_two_year'].values\n",
    "y[y==-1]=0"
   ]
  },
  {
   "cell_type": "code",
   "execution_count": 12,
   "metadata": {
    "scrolled": true
   },
   "outputs": [
    {
     "name": "stderr",
     "output_type": "stream",
     "text": [
      "C:\\Users\\binha\\Documents\\Duke\\Cynthia Research\\psa-analysis - test2\\utils\\fairness_functions.py:95: RuntimeWarning:\n",
      "\n",
      "divide by zero encountered in longlong_scalars\n",
      "\n",
      "C:\\Users\\binha\\Documents\\Duke\\Cynthia Research\\psa-analysis - test2\\utils\\fairness_functions.py:82: RuntimeWarning:\n",
      "\n",
      "invalid value encountered in longlong_scalars\n",
      "\n",
      "C:\\Users\\binha\\Documents\\Duke\\Cynthia Research\\psa-analysis - test2\\utils\\fairness_functions.py:86: RuntimeWarning:\n",
      "\n",
      "invalid value encountered in longlong_scalars\n",
      "\n",
      "C:\\Users\\binha\\Documents\\Duke\\Cynthia Research\\psa-analysis - test2\\utils\\fairness_functions.py:95: RuntimeWarning:\n",
      "\n",
      "invalid value encountered in longlong_scalars\n",
      "\n",
      "C:\\Users\\binha\\Documents\\Duke\\Cynthia Research\\psa-analysis - test2\\utils\\fairness_functions.py:84: RuntimeWarning:\n",
      "\n",
      "invalid value encountered in longlong_scalars\n",
      "\n"
     ]
    },
    {
     "ename": "NameError",
     "evalue": "name 'compute_calibration_fairness' is not defined",
     "output_type": "error",
     "traceback": [
      "\u001b[1;31m---------------------------------------------------------------------------\u001b[0m",
      "\u001b[1;31mNameError\u001b[0m                                 Traceback (most recent call last)",
      "\u001b[1;32m<ipython-input-12-64fb13695cbf>\u001b[0m in \u001b[0;36m<module>\u001b[1;34m\u001b[0m\n\u001b[1;32m----> 1\u001b[1;33m \u001b[0mcorel_summary\u001b[0m \u001b[1;33m=\u001b[0m \u001b[0mCorel\u001b[0m\u001b[1;33m.\u001b[0m\u001b[0mcorel_cv\u001b[0m\u001b[1;33m(\u001b[0m\u001b[0mx\u001b[0m\u001b[1;33m,\u001b[0m \u001b[0my\u001b[0m\u001b[1;33m,\u001b[0m \u001b[0mmax_card\u001b[0m\u001b[1;33m=\u001b[0m\u001b[1;36m2\u001b[0m\u001b[1;33m,\u001b[0m \u001b[0mc\u001b[0m\u001b[1;33m=\u001b[0m\u001b[1;36m1e-4\u001b[0m\u001b[1;33m,\u001b[0m \u001b[0mseed\u001b[0m\u001b[1;33m=\u001b[0m\u001b[1;36m816\u001b[0m\u001b[1;33m)\u001b[0m\u001b[1;33m\u001b[0m\u001b[1;33m\u001b[0m\u001b[0m\n\u001b[0m",
      "\u001b[1;32m~\\Documents\\Duke\\Cynthia Research\\psa-analysis - test2\\utils\\Corel.py\u001b[0m in \u001b[0;36mcorel_cv\u001b[1;34m(X, Y, max_card, c, seed)\u001b[0m\n\u001b[0;32m    157\u001b[0m \u001b[1;33m\u001b[0m\u001b[0m\n\u001b[0;32m    158\u001b[0m         \u001b[1;31m## calibration\u001b[0m\u001b[1;33m\u001b[0m\u001b[1;33m\u001b[0m\u001b[1;33m\u001b[0m\u001b[0m\n\u001b[1;32m--> 159\u001b[1;33m         calibration = compute_calibration_fairness(df=holdout_with_attrs, \n\u001b[0m\u001b[0;32m    160\u001b[0m                                                    probs=test_prob, labels=test_y, protected_variables=[\"sex\", \"race\"])\n\u001b[0;32m    161\u001b[0m         \u001b[0mcalibration_final\u001b[0m \u001b[1;33m=\u001b[0m \u001b[0mcalibration\u001b[0m\u001b[1;33m.\u001b[0m\u001b[0massign\u001b[0m\u001b[1;33m(\u001b[0m\u001b[0mfold_num\u001b[0m \u001b[1;33m=\u001b[0m \u001b[1;33m[\u001b[0m\u001b[0mi\u001b[0m\u001b[1;33m]\u001b[0m\u001b[1;33m*\u001b[0m\u001b[0mcalibration\u001b[0m\u001b[1;33m[\u001b[0m\u001b[1;34m'Attribute'\u001b[0m\u001b[1;33m]\u001b[0m\u001b[1;33m.\u001b[0m\u001b[0mcount\u001b[0m\u001b[1;33m(\u001b[0m\u001b[1;33m)\u001b[0m\u001b[1;33m)\u001b[0m\u001b[1;33m\u001b[0m\u001b[1;33m\u001b[0m\u001b[0m\n",
      "\u001b[1;31mNameError\u001b[0m: name 'compute_calibration_fairness' is not defined"
     ]
    }
   ],
   "source": [
    "corel_summary = Corel.corel_cv(x, y, max_card=2, c=1e-4, seed=816)"
   ]
  },
  {
   "cell_type": "code",
   "execution_count": 4,
   "metadata": {},
   "outputs": [
    {
     "data": {
      "text/plain": [
       "(0.5597863037722216, 0.014022760702122323)"
      ]
     },
     "execution_count": 4,
     "metadata": {},
     "output_type": "execute_result"
    }
   ],
   "source": [
    "np.mean(corel_summary['test_auc']), np.std(corel_summary['test_auc'])"
   ]
  },
  {
   "cell_type": "markdown",
   "metadata": {},
   "source": [
    "### Results"
   ]
  },
  {
   "cell_type": "code",
   "execution_count": 65,
   "metadata": {},
   "outputs": [
    {
     "name": "stdout",
     "output_type": "stream",
     "text": [
      "Stored 'summary_general2_FL_interpret' (dict)\n"
     ]
    }
   ],
   "source": [
    "#### save results\n",
    "summary_general2_FL_interpret = {\"CART\": cart_summary,\n",
    "                                 \"EBM\": ebm_summary, \n",
    "                                 'Lasso Stumps': stump_summary, \n",
    "                                 'RiskSLIM': riskslim_summary, \n",
    "                                 'Corel': corel_summary,\n",
    "                                 'Arnold PSA': arnold_auc}\n",
    "%store summary_general2_FL_interpret"
   ]
  },
  {
   "cell_type": "code",
   "execution_count": 66,
   "metadata": {},
   "outputs": [
    {
     "data": {
      "text/plain": [
       "[['CART', 0.6252219810133669, 0.03951471498908745],\n",
       " ['EBM', 0.660773377058851, 0.04104531338815751],\n",
       " ['Lasso Stumps', 0.6691980390821374, 0.040576316605307985],\n",
       " ['RiskSLIM', 0.6467156511783555],\n",
       " ['Corel', 0.5597863037722216],\n",
       " ['Arnold PSA', 0.605]]"
      ]
     },
     "execution_count": 66,
     "metadata": {},
     "output_type": "execute_result"
    }
   ],
   "source": [
    "results = [[\"CART\", np.mean(cart_summary['holdout_test_auc']), np.mean(cart_summary['auc_diffs'])],\n",
    "           [\"EBM\", np.mean(ebm_summary['holdout_test_auc']), np.mean(ebm_summary['auc_diffs'])], \n",
    "           [\"Lasso Stumps\", np.mean(stump_summary['holdout_test_auc']), np.mean(stump_summary['auc_diffs'])],\n",
    "           ['RiskSLIM', np.mean(riskslim_summary['test_auc'])],\n",
    "           ['Corel', np.mean(corel_summary['test_auc'])],\n",
    "           ['Arnold PSA', round(np.mean(arnold_auc), 3)]]\n",
    "results"
   ]
  },
  {
   "cell_type": "code",
   "execution_count": 67,
   "metadata": {},
   "outputs": [],
   "source": [
    "auc = [np.mean(cart_summary['holdout_test_auc']), \n",
    "       np.mean(ebm_summary['holdout_test_auc']), \n",
    "       np.mean(stump_summary['holdout_test_auc']), \n",
    "       np.mean(riskslim_summary['test_auc']), \n",
    "       np.mean(corel_summary['test_auc'])]"
   ]
  },
  {
   "cell_type": "code",
   "execution_count": 68,
   "metadata": {},
   "outputs": [],
   "source": [
    "path = \"C:/Users/binha/Documents/Duke/Cynthia Research/KY-analysis-mytrials/broward/broward models/model results/Interpretable Models/Two Year/\"\n",
    "results = [[\"\", \"CART\", \"EBM\", \"Lasso Stumps\", \"RiskSLIM\", \"Corel\", \"Performance Range\", \"Arnold PSA\"],\n",
    "           [\"General\", np.str((round(np.mean(cart_summary['holdout_test_auc']), 3))) + \" (\" + np.str(round(np.std(cart_summary['holdout_test_auc']), 3)) + \")\", \n",
    "            np.str(round(np.mean(ebm_summary['holdout_test_auc']),3)) + \" (\" + np.str(round(np.std(ebm_summary['holdout_test_auc']), 3)) + \")\", \n",
    "            np.str(round(np.mean(stump_summary['holdout_test_auc']),3)) + \" (\" + np.str(round(np.std(stump_summary['holdout_test_auc']), 3)) + \")\",             \n",
    "            np.str(round(np.mean(riskslim_summary['test_auc']),3)) + \" (\" + np.str(round(np.std(riskslim_summary['test_auc']), 3)) + \")\", \n",
    "            np.str(round(np.mean(corel_summary['test_auc']),3)) + \" (\" + np.str(round(np.std(corel_summary['test_auc']), 3)) + \")\", \n",
    "            round(np.max(auc) - np.min(auc), 3),\n",
    "            np.str(round(np.mean(arnold_auc), 3)) + \" (\" + np.str(round(np.std(arnold_auc),3)) + \")\"]]\n",
    "with open(path + 'Interpretable Models Summary.csv', 'w') as writeFile:\n",
    "    writer = csv.writer(writeFile)\n",
    "    writer.writerows(results)"
   ]
  },
  {
   "cell_type": "code",
   "execution_count": 70,
   "metadata": {},
   "outputs": [],
   "source": [
    "cart_confusion = cart_summary['confusion_matrix_stats']\n",
    "ebm_confusion = ebm_summary['confusion_matrix_stats']\n",
    "riskslim_confusion = riskslim_summary['confusion_matrix_stats']\n",
    "stumps_confusion = stump_summary['confusion_matrix_stats']\n",
    "corel_confusion = corel_summary['confusion_matrix_stats']\n",
    "#arnold_confusion = cart_summary['confusion_matrix_stats']\n",
    "\n",
    "## save results\n",
    "cart_confusion.to_csv(r'C:/Users/binha/Documents/Duke/Cynthia Research/KY-analysis-mytrials/broward/broward models/model fairness/Two Year/general/cart_confusion.csv', index=None,header=True)\n",
    "ebm_confusion.to_csv(r'C:/Users/binha/Documents/Duke/Cynthia Research/KY-analysis-mytrials/broward/broward models/model fairness/Two Year/general/ebm_confusion.csv', index=None,header=True)\n",
    "riskslim_confusion.to_csv(r'C:/Users/binha/Documents/Duke/Cynthia Research/KY-analysis-mytrials/broward/broward models/model fairness/Two Year/general/riskslim_confusion.csv', index=None,header=True)\n",
    "stumps_confusion.to_csv(r'C:/Users/binha/Documents/Duke/Cynthia Research/KY-analysis-mytrials/broward/broward models/model fairness/Two Year/general/stumps_confusion.csv', index=None,header=True)\n",
    "corel_confusion.to_csv(r'C:/Users/binha/Documents/Duke/Cynthia Research/KY-analysis-mytrials/broward/broward models/model fairness/Two Year/general/corel_confusion.csv', index=None,header=True)\n",
    "#arnold_confusion.to_csv(r'C:/Users/binha/Documents/Duke/Cynthia Research/KY-analysis-mytrials/broward/broward models/model fairness/Two Year/general/arnold_confusion.csv', index=None,header=True)"
   ]
  },
  {
   "cell_type": "code",
   "execution_count": 5,
   "metadata": {},
   "outputs": [],
   "source": [
    "corel_confusion = corel_summary['confusion_matrix_stats']\n",
    "corel_confusion.to_csv(r'C:/Users/binha/Documents/Duke/Cynthia Research/KY-analysis-mytrials/broward/broward models/model fairness/Two Year/general/corel_confusion.csv', index=None,header=True)"
   ]
  }
 ],
 "metadata": {
  "kernelspec": {
   "display_name": "Python 3",
   "language": "python",
   "name": "python3"
  },
  "language_info": {
   "codemirror_mode": {
    "name": "ipython",
    "version": 3
   },
   "file_extension": ".py",
   "mimetype": "text/x-python",
   "name": "python",
   "nbconvert_exporter": "python",
   "pygments_lexer": "ipython3",
   "version": "3.7.4"
  }
 },
 "nbformat": 4,
 "nbformat_minor": 4
}
