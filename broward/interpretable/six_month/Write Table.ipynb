{
 "cells": [
  {
   "cell_type": "code",
   "execution_count": 15,
   "metadata": {
    "hideCode": false,
    "hidePrompt": false
   },
   "outputs": [],
   "source": [
    "import pytablewriter\n",
    "import pandas as pd\n",
    "import numpy as np"
   ]
  },
  {
   "cell_type": "code",
   "execution_count": 16,
   "metadata": {
    "hideCode": false,
    "hidePrompt": false
   },
   "outputs": [],
   "source": [
    "result = pd.read_csv(\"C:\\\\Users\\\\binha\\\\Documents\\\\Duke\\\\Cynthia Research\\\\KY-analysis-mytrials\\\\broward\\\\broward models\\\\model results\\\\Interpretable Models\\\\Six Month\\\\Interpretable Models Summary.csv\")"
   ]
  },
  {
   "cell_type": "code",
   "execution_count": 17,
   "metadata": {
    "hideCode": false,
    "hidePrompt": false
   },
   "outputs": [
    {
     "data": {
      "text/html": [
       "<div>\n",
       "<style scoped>\n",
       "    .dataframe tbody tr th:only-of-type {\n",
       "        vertical-align: middle;\n",
       "    }\n",
       "\n",
       "    .dataframe tbody tr th {\n",
       "        vertical-align: top;\n",
       "    }\n",
       "\n",
       "    .dataframe thead th {\n",
       "        text-align: right;\n",
       "    }\n",
       "</style>\n",
       "<table border=\"1\" class=\"dataframe\">\n",
       "  <thead>\n",
       "    <tr style=\"text-align: right;\">\n",
       "      <th></th>\n",
       "      <th>Unnamed: 0</th>\n",
       "      <th>CART</th>\n",
       "      <th>EBM</th>\n",
       "      <th>Lasso Stumps</th>\n",
       "      <th>RiskSLIM</th>\n",
       "      <th>Performance Range</th>\n",
       "      <th>Arnold PSA</th>\n",
       "      <th>Compas</th>\n",
       "    </tr>\n",
       "  </thead>\n",
       "  <tbody>\n",
       "    <tr>\n",
       "      <th>0</th>\n",
       "      <td>General</td>\n",
       "      <td>0.561 (0.025)</td>\n",
       "      <td>0.622 (0.022)</td>\n",
       "      <td>0.619 (0.013)</td>\n",
       "      <td>0.593 (0.01)</td>\n",
       "      <td>0.060</td>\n",
       "      <td>0.577 (0.018)</td>\n",
       "      <td>0.609 (0.019)</td>\n",
       "    </tr>\n",
       "    <tr>\n",
       "      <th>1</th>\n",
       "      <td>Violent</td>\n",
       "      <td>0.627 (0.053)</td>\n",
       "      <td>0.675 (0.043)</td>\n",
       "      <td>0.675 (0.033)</td>\n",
       "      <td>0.679 (0.038)</td>\n",
       "      <td>0.051</td>\n",
       "      <td>0.675 (0.038)</td>\n",
       "      <td>0.609 (0.047)</td>\n",
       "    </tr>\n",
       "    <tr>\n",
       "      <th>2</th>\n",
       "      <td>Drug</td>\n",
       "      <td>0.569 (0.074)</td>\n",
       "      <td>0.671 (0.039)</td>\n",
       "      <td>0.697 (0.058)</td>\n",
       "      <td>0.663 (0.051)</td>\n",
       "      <td>0.128</td>\n",
       "      <td>0.498 (0.057)</td>\n",
       "      <td>0.597 (0.05)</td>\n",
       "    </tr>\n",
       "    <tr>\n",
       "      <th>3</th>\n",
       "      <td>Property</td>\n",
       "      <td>0.635 (0.052)</td>\n",
       "      <td>0.724 (0.03)</td>\n",
       "      <td>0.713 (0.041)</td>\n",
       "      <td>0.723 (0.034)</td>\n",
       "      <td>0.089</td>\n",
       "      <td>0.626 (0.029)</td>\n",
       "      <td>0.64 (0.035)</td>\n",
       "    </tr>\n",
       "    <tr>\n",
       "      <th>4</th>\n",
       "      <td>Felony</td>\n",
       "      <td>0.508 (0.012)</td>\n",
       "      <td>0.608 (0.05)</td>\n",
       "      <td>0.59 (0.055)</td>\n",
       "      <td>0.587 (0.025)</td>\n",
       "      <td>0.100</td>\n",
       "      <td>0.58 (0.052)</td>\n",
       "      <td>0.624 (0.051)</td>\n",
       "    </tr>\n",
       "    <tr>\n",
       "      <th>5</th>\n",
       "      <td>Misdemeanor</td>\n",
       "      <td>0.54 (0.023)</td>\n",
       "      <td>0.605 (0.045)</td>\n",
       "      <td>0.586 (0.029)</td>\n",
       "      <td>0.583 (0.029)</td>\n",
       "      <td>0.065</td>\n",
       "      <td>0.556 (0.03)</td>\n",
       "      <td>0.569 (0.024)</td>\n",
       "    </tr>\n",
       "  </tbody>\n",
       "</table>\n",
       "</div>"
      ],
      "text/plain": [
       "    Unnamed: 0           CART            EBM   Lasso Stumps       RiskSLIM  \\\n",
       "0      General  0.561 (0.025)  0.622 (0.022)  0.619 (0.013)   0.593 (0.01)   \n",
       "1      Violent  0.627 (0.053)  0.675 (0.043)  0.675 (0.033)  0.679 (0.038)   \n",
       "2         Drug  0.569 (0.074)  0.671 (0.039)  0.697 (0.058)  0.663 (0.051)   \n",
       "3     Property  0.635 (0.052)   0.724 (0.03)  0.713 (0.041)  0.723 (0.034)   \n",
       "4       Felony  0.508 (0.012)   0.608 (0.05)   0.59 (0.055)  0.587 (0.025)   \n",
       "5  Misdemeanor   0.54 (0.023)  0.605 (0.045)  0.586 (0.029)  0.583 (0.029)   \n",
       "\n",
       "   Performance Range     Arnold PSA         Compas  \n",
       "0              0.060  0.577 (0.018)  0.609 (0.019)  \n",
       "1              0.051  0.675 (0.038)  0.609 (0.047)  \n",
       "2              0.128  0.498 (0.057)   0.597 (0.05)  \n",
       "3              0.089  0.626 (0.029)   0.64 (0.035)  \n",
       "4              0.100   0.58 (0.052)  0.624 (0.051)  \n",
       "5              0.065   0.556 (0.03)  0.569 (0.024)  "
      ]
     },
     "execution_count": 17,
     "metadata": {},
     "output_type": "execute_result"
    }
   ],
   "source": [
    "result"
   ]
  },
  {
   "cell_type": "code",
   "execution_count": 18,
   "metadata": {
    "hideCode": false,
    "hidePrompt": false
   },
   "outputs": [],
   "source": [
    "cols = result.columns.to_list()\n",
    "values = result.values.tolist()"
   ]
  },
  {
   "cell_type": "code",
   "execution_count": 19,
   "metadata": {
    "hideCode": false,
    "hideOutput": true,
    "hidePrompt": false
   },
   "outputs": [
    {
     "name": "stdout",
     "output_type": "stream",
     "text": [
      "\\begin{array}{l | l | l | l | l | r | l | l} \\hline\n",
      "    General     & \\verb|0.561 (0.025)| & \\verb|0.622 (0.022)| & \\verb|0.619 (0.013)| & \\verb|0.593 (0.01) | &  0.0600 & \\verb|0.577 (0.018)| & \\verb|0.609 (0.019)| \\\\ \\hline\n",
      "    Violent     & \\verb|0.627 (0.053)| & \\verb|0.675 (0.043)| & \\verb|0.675 (0.033)| & \\verb|0.679 (0.038)| &  0.0510 & \\verb|0.675 (0.038)| & \\verb|0.609 (0.047)| \\\\ \\hline\n",
      "    Drug        & \\verb|0.569 (0.074)| & \\verb|0.671 (0.039)| & \\verb|0.697 (0.058)| & \\verb|0.663 (0.051)| &  0.1280 & \\verb|0.498 (0.057)| & \\verb|0.597 (0.05) | \\\\ \\hline\n",
      "    Property    & \\verb|0.635 (0.052)| & \\verb|0.724 (0.03) | & \\verb|0.713 (0.041)| & \\verb|0.723 (0.034)| &  0.0890 & \\verb|0.626 (0.029)| & \\verb|0.64 (0.035) | \\\\ \\hline\n",
      "    Felony      & \\verb|0.508 (0.012)| & \\verb|0.608 (0.05) | & \\verb|0.59 (0.055) | & \\verb|0.587 (0.025)| &  0.1000 & \\verb|0.58 (0.052) | & \\verb|0.624 (0.051)| \\\\ \\hline\n",
      "    Misdemeanor & \\verb|0.54 (0.023) | & \\verb|0.605 (0.045)| & \\verb|0.586 (0.029)| & \\verb|0.583 (0.029)| &  0.0650 & \\verb|0.556 (0.03) | & \\verb|0.569 (0.024)| \\\\ \\hline\n",
      "\\end{array}\n"
     ]
    }
   ],
   "source": [
    "writer = pytablewriter.LatexTableWriter()\n",
    "writer.value_matrix = values\n",
    "writer.write_table()"
   ]
  }
 ],
 "metadata": {
  "hide_code_all_hidden": false,
  "kernelspec": {
   "display_name": "Python 3",
   "language": "python",
   "name": "python3"
  },
  "language_info": {
   "codemirror_mode": {
    "name": "ipython",
    "version": 3
   },
   "file_extension": ".py",
   "mimetype": "text/x-python",
   "name": "python",
   "nbconvert_exporter": "python",
   "pygments_lexer": "ipython3",
   "version": "3.7.4"
  }
 },
 "nbformat": 4,
 "nbformat_minor": 4
}
