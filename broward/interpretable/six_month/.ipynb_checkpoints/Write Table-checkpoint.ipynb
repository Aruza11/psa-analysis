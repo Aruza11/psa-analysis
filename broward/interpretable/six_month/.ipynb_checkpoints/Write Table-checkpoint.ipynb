{
 "cells": [
  {
   "cell_type": "code",
   "execution_count": 1,
   "metadata": {
    "hideCode": false,
    "hidePrompt": false
   },
   "outputs": [],
   "source": [
    "import pytablewriter\n",
    "import pandas as pd\n",
    "import numpy as np"
   ]
  },
  {
   "cell_type": "code",
   "execution_count": 2,
   "metadata": {
    "hideCode": false,
    "hidePrompt": false
   },
   "outputs": [],
   "source": [
    "result = pd.read_csv(\"C:\\\\Users\\\\binha\\\\Documents\\\\Duke\\\\Cynthia Research\\\\KY-analysis-mytrials\\\\broward\\\\broward models\\\\model results\\\\Interpretable Models\\\\Six Month\\\\Interpretable Models Summary.csv\")"
   ]
  },
  {
   "cell_type": "code",
   "execution_count": 3,
   "metadata": {
    "hideCode": false,
    "hidePrompt": false
   },
   "outputs": [
    {
     "data": {
      "text/html": [
       "<div>\n",
       "<style scoped>\n",
       "    .dataframe tbody tr th:only-of-type {\n",
       "        vertical-align: middle;\n",
       "    }\n",
       "\n",
       "    .dataframe tbody tr th {\n",
       "        vertical-align: top;\n",
       "    }\n",
       "\n",
       "    .dataframe thead th {\n",
       "        text-align: right;\n",
       "    }\n",
       "</style>\n",
       "<table border=\"1\" class=\"dataframe\">\n",
       "  <thead>\n",
       "    <tr style=\"text-align: right;\">\n",
       "      <th></th>\n",
       "      <th>Unnamed: 0</th>\n",
       "      <th>CART</th>\n",
       "      <th>EBM</th>\n",
       "      <th>Lasso Stumps</th>\n",
       "      <th>RiskSLIM</th>\n",
       "      <th>Corel</th>\n",
       "      <th>Performance Range</th>\n",
       "      <th>Arnold PSA</th>\n",
       "    </tr>\n",
       "  </thead>\n",
       "  <tbody>\n",
       "    <tr>\n",
       "      <th>0</th>\n",
       "      <td>General</td>\n",
       "      <td>0.579 (0.021)</td>\n",
       "      <td>0.623 (0.019)</td>\n",
       "      <td>0.62 (0.025)</td>\n",
       "      <td>0.588 (0.025)</td>\n",
       "      <td>0.511 (0.009)</td>\n",
       "      <td>0.112</td>\n",
       "      <td>0.579 (0.037)</td>\n",
       "    </tr>\n",
       "    <tr>\n",
       "      <th>1</th>\n",
       "      <td>Violent</td>\n",
       "      <td>0.624 (0.02)</td>\n",
       "      <td>0.677 (0.028)</td>\n",
       "      <td>0.681 (0.031)</td>\n",
       "      <td>0.655 (0.031)</td>\n",
       "      <td>0.5 (0.0)</td>\n",
       "      <td>0.181</td>\n",
       "      <td>0.682 (0.052)</td>\n",
       "    </tr>\n",
       "    <tr>\n",
       "      <th>2</th>\n",
       "      <td>Drug</td>\n",
       "      <td>0.567 (0.062)</td>\n",
       "      <td>0.646 (0.062)</td>\n",
       "      <td>0.688 (0.059)</td>\n",
       "      <td>0.66 (0.035)</td>\n",
       "      <td>0.5 (0.0)</td>\n",
       "      <td>0.188</td>\n",
       "      <td>0.506 (0.033)</td>\n",
       "    </tr>\n",
       "    <tr>\n",
       "      <th>3</th>\n",
       "      <td>Property</td>\n",
       "      <td>0.64 (0.058)</td>\n",
       "      <td>0.714 (0.059)</td>\n",
       "      <td>0.687 (0.04)</td>\n",
       "      <td>0.666 (0.04)</td>\n",
       "      <td>0.5 (0.0)</td>\n",
       "      <td>0.214</td>\n",
       "      <td>0.621 (0.066)</td>\n",
       "    </tr>\n",
       "    <tr>\n",
       "      <th>4</th>\n",
       "      <td>Felony</td>\n",
       "      <td>0.538 (0.038)</td>\n",
       "      <td>0.627 (0.037)</td>\n",
       "      <td>0.609 (0.05)</td>\n",
       "      <td>0.592 (0.035)</td>\n",
       "      <td>0.5 (0.0)</td>\n",
       "      <td>0.127</td>\n",
       "      <td>0.582 (0.038)</td>\n",
       "    </tr>\n",
       "    <tr>\n",
       "      <th>5</th>\n",
       "      <td>Misdemeanor</td>\n",
       "      <td>0.568 (0.034)</td>\n",
       "      <td>0.599 (0.032)</td>\n",
       "      <td>0.6 (0.043)</td>\n",
       "      <td>0.547 (0.028)</td>\n",
       "      <td>0.5 (0.0)</td>\n",
       "      <td>0.100</td>\n",
       "      <td>0.557 (0.044)</td>\n",
       "    </tr>\n",
       "  </tbody>\n",
       "</table>\n",
       "</div>"
      ],
      "text/plain": [
       "    Unnamed: 0           CART            EBM   Lasso Stumps       RiskSLIM  \\\n",
       "0      General  0.579 (0.021)  0.623 (0.019)   0.62 (0.025)  0.588 (0.025)   \n",
       "1      Violent   0.624 (0.02)  0.677 (0.028)  0.681 (0.031)  0.655 (0.031)   \n",
       "2         Drug  0.567 (0.062)  0.646 (0.062)  0.688 (0.059)   0.66 (0.035)   \n",
       "3     Property   0.64 (0.058)  0.714 (0.059)   0.687 (0.04)   0.666 (0.04)   \n",
       "4       Felony  0.538 (0.038)  0.627 (0.037)   0.609 (0.05)  0.592 (0.035)   \n",
       "5  Misdemeanor  0.568 (0.034)  0.599 (0.032)    0.6 (0.043)  0.547 (0.028)   \n",
       "\n",
       "           Corel  Performance Range     Arnold PSA  \n",
       "0  0.511 (0.009)              0.112  0.579 (0.037)  \n",
       "1      0.5 (0.0)              0.181  0.682 (0.052)  \n",
       "2      0.5 (0.0)              0.188  0.506 (0.033)  \n",
       "3      0.5 (0.0)              0.214  0.621 (0.066)  \n",
       "4      0.5 (0.0)              0.127  0.582 (0.038)  \n",
       "5      0.5 (0.0)              0.100  0.557 (0.044)  "
      ]
     },
     "execution_count": 3,
     "metadata": {},
     "output_type": "execute_result"
    }
   ],
   "source": [
    "result"
   ]
  },
  {
   "cell_type": "code",
   "execution_count": 4,
   "metadata": {
    "hideCode": false,
    "hidePrompt": false
   },
   "outputs": [],
   "source": [
    "cols = result.columns.to_list()\n",
    "values = result.values.tolist()"
   ]
  },
  {
   "cell_type": "code",
   "execution_count": 5,
   "metadata": {
    "hideCode": false,
    "hideOutput": true,
    "hidePrompt": false
   },
   "outputs": [
    {
     "name": "stdout",
     "output_type": "stream",
     "text": [
      "\\begin{array}{l | l | l | l | l | l | r | l} \\hline\n",
      "    General     & \\verb|0.579 (0.021)| & \\verb|0.623 (0.019)| & \\verb|0.62 (0.025) | & \\verb|0.588 (0.025)| & \\verb|0.511 (0.009)| & 0.1120 & \\verb|0.579 (0.037)| \\\\ \\hline\n",
      "    Violent     & \\verb|0.624 (0.02) | & \\verb|0.677 (0.028)| & \\verb|0.681 (0.031)| & \\verb|0.655 (0.031)| & \\verb|0.5 (0.0)    | & 0.1810 & \\verb|0.682 (0.052)| \\\\ \\hline\n",
      "    Drug        & \\verb|0.567 (0.062)| & \\verb|0.646 (0.062)| & \\verb|0.688 (0.059)| & \\verb|0.66 (0.035) | & \\verb|0.5 (0.0)    | & 0.1880 & \\verb|0.506 (0.033)| \\\\ \\hline\n",
      "    Property    & \\verb|0.64 (0.058) | & \\verb|0.714 (0.059)| & \\verb|0.687 (0.04) | & \\verb|0.666 (0.04) | & \\verb|0.5 (0.0)    | & 0.2140 & \\verb|0.621 (0.066)| \\\\ \\hline\n",
      "    Felony      & \\verb|0.538 (0.038)| & \\verb|0.627 (0.037)| & \\verb|0.609 (0.05) | & \\verb|0.592 (0.035)| & \\verb|0.5 (0.0)    | & 0.1270 & \\verb|0.582 (0.038)| \\\\ \\hline\n",
      "    Misdemeanor & \\verb|0.568 (0.034)| & \\verb|0.599 (0.032)| & \\verb|0.6 (0.043)  | & \\verb|0.547 (0.028)| & \\verb|0.5 (0.0)    | & 0.1000 & \\verb|0.557 (0.044)| \\\\ \\hline\n",
      "\\end{array}\n"
     ]
    }
   ],
   "source": [
    "writer = pytablewriter.LatexTableWriter()\n",
    "writer.value_matrix = values\n",
    "writer.write_table()"
   ]
  }
 ],
 "metadata": {
  "hide_code_all_hidden": false,
  "kernelspec": {
   "display_name": "Python 3",
   "language": "python",
   "name": "python3"
  },
  "language_info": {
   "codemirror_mode": {
    "name": "ipython",
    "version": 3
   },
   "file_extension": ".py",
   "mimetype": "text/x-python",
   "name": "python",
   "nbconvert_exporter": "python",
   "pygments_lexer": "ipython3",
   "version": "3.7.4"
  }
 },
 "nbformat": 4,
 "nbformat_minor": 4
}
