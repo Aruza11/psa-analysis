{
 "cells": [
  {
   "cell_type": "markdown",
   "metadata": {},
   "source": [
    "## Boosted stumps "
   ]
  },
  {
   "cell_type": "code",
   "execution_count": 54,
   "metadata": {},
   "outputs": [],
   "source": [
    "import pandas as pd \n",
    "import numpy as np\n",
    "\n",
    "from scipy.optimize import minimize \n",
    "\n",
    "from sklearn.model_selection import train_test_split, KFold\n",
    "from sklearn.metrics import roc_curve, auc\n",
    "from sklearn.utils import shuffle\n",
    "\n",
    "import matplotlib.pyplot as plt\n",
    "from tabulate import tabulate \n",
    "\n",
    "%matplotlib inline\n",
    "%store -r folds_performance\n",
    "%store -r model_reliance"
   ]
  },
  {
   "cell_type": "code",
   "execution_count": 56,
   "metadata": {},
   "outputs": [
    {
     "name": "stdout",
     "output_type": "stream",
     "text": [
      "(373, 77)\n"
     ]
    }
   ],
   "source": [
    "train_pd = pd.read_csv(\"ada_train.csv\")\n",
    "test_pd = pd.read_csv(\"ada_test.csv\")\n",
    "\n",
    "train_np, test_np = np.array(train_pd), np.array(test_pd)\n",
    "train_np[train_np == 0] = -1\n",
    "test_np[test_np==0]=-1\n",
    "X_train, Y_train = train_np[:,1:], train_np[:,0]\n",
    "X_test, Y_test = test_np[:,1:], test_np[:,0]\n",
    "print(X_test.shape)\n",
    "\n"
   ]
  },
  {
   "cell_type": "code",
   "execution_count": 59,
   "metadata": {},
   "outputs": [
    {
     "name": "stdout",
     "output_type": "stream",
     "text": [
      "['recid_use', 'p_charge1', 'p_charge3', 'p_charge5', 'p_charge7', 'p_charge9', 'p_jail30_1', 'p_jail30_3', 'p_jail30_5', 'p_jail30_7', 'p_jail30_9', 'p_prison1', 'p_prison3', 'p_prison5', 'p_prison7', 'p_prison9', 'p_probation1', 'p_probation3', 'p_probation5', 'p_probation7', 'p_probation9', 'p_juv_fel_count1', 'p_juv_fel_count3', 'p_juv_fel_count5', 'p_juv_fel_count7', 'p_juv_fel_count9', 'p_felprop_violarrest1', 'p_felprop_violarrest3', 'p_felprop_violarrest5', 'p_felprop_violarrest7', 'p_felprop_violarrest9', 'p_murder_arrest1', 'p_murder_arrest3', 'p_murder_arrest5', 'p_murder_arrest7', 'p_murder_arrest9', 'p_felassault_arrest1', 'p_felassault_arrest3', 'p_felassault_arrest5', 'p_felassault_arrest7', 'p_felassault_arrest9', 'p_misdemassault_arrest1', 'p_misdemassault_arrest3', 'p_misdemassault_arrest5', 'p_misdemassault_arrest7', 'p_misdemassault_arrest9', 'p_famviol_arrest1', 'p_famviol_arrest3', 'p_famviol_arrest5', 'p_famviol_arrest7', 'p_famviol_arrest9', 'p_weapons_arrest1', 'p_weapons_arrest3', 'p_weapons_arrest5', 'p_weapons_arrest7', 'p_weapons_arrest9', 'p_current_age18', 'p_current_age21', 'p_current_age25', 'p_current_age30', 'p_current_age39', 'p_current_age49', 'p_current_age59', 'p_property1', 'p_property3', 'p_property5', 'p_property7', 'p_property9', 'prior_conviction_M1', 'prior_conviction_M3', 'prior_conviction_M5', 'prior_conviction_M7', 'prior_conviction_M9', 'total_convictions1', 'total_convictions3', 'total_convictions5', 'total_convictions7', 'total_convictions9']\n"
     ]
    }
   ],
   "source": [
    "print(train_pd.columns.tolist())"
   ]
  },
  {
   "cell_type": "code",
   "execution_count": 37,
   "metadata": {},
   "outputs": [
    {
     "name": "stdout",
     "output_type": "stream",
     "text": [
      "t =  0\n",
      "t =  200\n",
      "t =  400\n",
      "t =  600\n",
      "t =  800\n"
     ]
    }
   ],
   "source": [
    "def AdaBoost_train(X, Y, T):\n",
    "    '''\n",
    "    @param X: n x p np array\n",
    "    @param Y: labels for X, y \\in {-1,1}\n",
    "    @param T: number iterations\n",
    "    returns: a p x 1 vector of weights on each feature\n",
    "    '''\n",
    "#     Duplicate dataset with negative features for AdaBoost \n",
    "#     X = np.concatenate([X_train, -X_train], axis = 1 )\n",
    "\n",
    "    # d_t should be n x 1 vector\n",
    "    # alpha should be T x 1 vector (weight for each weak classifier)\n",
    "    n, p = X.shape[0], X.shape[1]\n",
    "    d = np.ones(n)* (1/n)\n",
    "    \n",
    "    def featureClassifier(X, Y, n, p, d):\n",
    "        '''\n",
    "        All features above are binary\n",
    "        Returns the index of the feature which performs best as a classifier\n",
    "        '''\n",
    "        weighted_error  = np.ones(p)\n",
    "        all_misclass = []\n",
    "        for j in range(p):\n",
    "            #compute misclassification errotr\n",
    "            misclass = np.array([1 if Y[i]!= X[i,j] else 0 for i in range(n)]) #ones vector s.t. label col != feature j\n",
    "            #record weighted error for jth feature\n",
    "            weighted_error[j] = np.dot(misclass, d)\n",
    "            all_misclass.append(misclass)\n",
    "        #pick the jth feature which minimizes the weighted misclassification error\n",
    "        best_j, error_j = np.argmin(weighted_error), np.min(weighted_error)\n",
    "        return best_j, error_j, all_misclass[best_j]\n",
    "     \n",
    "    alphas, classifier_inds = np.zeros(T), np.zeros(T)\n",
    "\n",
    "    for t in range(T):\n",
    "        if t%200 == 0: print(\"t = \", t)\n",
    "        best_j, epsilon, misclass = featureClassifier(X,Y,n,p,d)\n",
    "        #compute weights on weak classifiers \n",
    "        alpha = .5 * np.log((1-epsilon)/epsilon)\n",
    "        alphas[t] = alpha\n",
    "        classifier_inds[t] = best_j\n",
    "        \n",
    "        #update weights on points\n",
    "        misclass_inds, correct_inds = np.argwhere(misclass == 1), np.argwhere(misclass == 0)\n",
    "        d[misclass_inds] *= np.exp(alpha) \n",
    "        d[correct_inds] *= np.exp(-alpha) \n",
    "#         perform normalization\n",
    "        Z = np.sum(d)\n",
    "        d = d/Z\n",
    "    #compute weights on each feature from alphas \n",
    "    \n",
    "    feat_weights = np.zeros(p)\n",
    "    for i,classifier_ind in enumerate(classifier_inds): \n",
    "        feat_weights[int(classifier_ind)] += alphas[i]\n",
    "        \n",
    "    return feat_weights \n",
    "\n",
    "T = 1000\n",
    "feat_weights = AdaBoost_train(X_train,Y_train, T)"
   ]
  },
  {
   "cell_type": "code",
   "execution_count": 46,
   "metadata": {},
   "outputs": [
    {
     "name": "stdout",
     "output_type": "stream",
     "text": [
      "Train accuracy is  0.6356749311294766 \n",
      "Test accuracy is  0.628099173553719\n"
     ]
    }
   ],
   "source": [
    "def AdaBoost_predict(X, feat_weights, threshold = .5):\n",
    "    '''\n",
    "    Converts AdaBoost predictions to probabilities and outputs a class \n",
    "    @param X: np array of data to predict on \n",
    "    @param alphas: weights on each feature \n",
    "    @param classifier_inds: indices of the features we use as weak classifiers\n",
    "    '''\n",
    "#     def AdaBoost_billweights(feat_weights): \n",
    "#         '''\n",
    "#         Accumulate AdaBoost weights on the doubled dataset (with \"negative\" bills) so that there are only 16 weights.\n",
    "#         '''\n",
    "#         ada_bill_weights = []\n",
    "#         for i in range(77): \n",
    "#             ada_bill_weights.append(feat_weights[i] - feat_weights[i+77])\n",
    "#         return np.array(ada_bill_weights)\n",
    "    \n",
    "#     bill_weights = AdaBoost_billweights(feat_weights)\n",
    "\n",
    "    raw = X @ feat_weights\n",
    "    probas = np.exp(2*raw) / (1 + np.exp(2*raw))\n",
    "    #threshold probabilities to get a class\n",
    "    preds = np.copy(probas)\n",
    "    preds[probas > threshold] = 1\n",
    "    preds[probas <= threshold] = -1\n",
    "    return probas, preds \n",
    "    \n",
    "def AdaBoost_accuracy(X_train, Y_train, X_test, Y_test, feat_weights, threshold = .5):\n",
    "    '''Computes training and test accuracy using weak classifiers from AdaBoost_train. '''\n",
    "    \n",
    "    train_probas,train_preds = AdaBoost_predict(X_train, feat_weights, threshold)\n",
    "    test_probas, test_preds = AdaBoost_predict(X_test, feat_weights, threshold)\n",
    "    #percent correctly classified\n",
    "    train_acc =  sum([1 for i in range(len(Y_train)) if train_preds[i] == Y_train[i] ])/len(Y_train) \n",
    "    test_acc =  sum([1 for i in range(len(Y_test)) if test_preds[i] == Y_test[i] ])/len(Y_test)\n",
    "    return train_acc, test_acc\n",
    "\n",
    "train_acc, test_acc = AdaBoost_accuracy(X_train, Y_train, X_test, Y_test, feat_weights)\n",
    "print(\"Train accuracy is \", train_acc, \"\\nTest accuracy is \", test_acc)"
   ]
  },
  {
   "cell_type": "code",
   "execution_count": 7,
   "metadata": {},
   "outputs": [
    {
     "name": "stdout",
     "output_type": "stream",
     "text": [
      "0.6112600536193029\n"
     ]
    }
   ],
   "source": [
    "#testing logistic regresesion \n",
    "from sklearn.linear_model import LogisticRegression\n",
    "\n",
    "lr = LogisticRegression(class_weight = 'balanced')\n",
    "lr.fit(X_train, Y_train)\n",
    "acc_lr = lr.score(X_test, Y_test)\n",
    "print(acc_lr)\n",
    "\n",
    "#testing random forest \n",
    "from sklearn.ensemble import RandomForestClassifier\n",
    "\n",
    "rf = RandomForestClassifier(max_depth = 5, bootstrap = True)\n",
    "rf.fit(X_train, Y_train)\n",
    "acc_rf = rf.score(X_test, Y_test)\n",
    "print(acc_rf)\n",
    "\n",
    "#test sklearn adaboost\n",
    "from sklearn.ensemble import AdaBoostClassifier\n",
    "from sklearn.tree import DecisionTreeClassifier\n",
    "\n",
    "bdt = AdaBoostClassifier(DecisionTreeClassifier(max_depth=1),\n",
    "                         algorithm=\"SAMME\",\n",
    "                         n_estimators=200)\n",
    "bdt.fit(X_train, Y_train)\n",
    "acc_bdt = bdt.score(X_test, Y_test)\n",
    "print(acc_bdt)"
   ]
  },
  {
   "cell_type": "markdown",
   "metadata": {},
   "source": [
    "Cross validation code "
   ]
  },
  {
   "cell_type": "code",
   "execution_count": 41,
   "metadata": {},
   "outputs": [],
   "source": [
    "#combine train and test sets, then shuffle, so that we may divide them into folds later \n",
    "data = np.array(shuffle(pd.concat([train_pd, test_pd], axis = 0)))\n",
    "data[data == 0] = -1\n",
    "X, Y = data[:,1:], data[:,0]"
   ]
  },
  {
   "cell_type": "code",
   "execution_count": 42,
   "metadata": {},
   "outputs": [
    {
     "name": "stdout",
     "output_type": "stream",
     "text": [
      "Fold  0\n",
      "t =  0\n",
      "t =  200\n",
      "t =  400\n",
      "(array([-1.,  1.]), array([800, 652], dtype=int64))\n",
      "[ 1. -1. -1.  1. -1.  1.  1. -1.  1. -1.  1. -1.  1. -1. -1. -1.  1. -1.\n",
      "  1.  1. -1.  1.  1.  1. -1.  1. -1.  1.  1.  1. -1.  1.  1.  1. -1.  1.\n",
      " -1. -1. -1. -1.  1. -1. -1. -1.  1. -1. -1. -1.  1. -1.  1.  1. -1. -1.\n",
      " -1.  1. -1. -1. -1. -1. -1.  1.  1. -1. -1. -1.  1.  1. -1.  1.  1. -1.\n",
      " -1.  1.  1.  1. -1.  1. -1. -1. -1.  1. -1. -1.  1. -1. -1. -1. -1. -1.\n",
      " -1. -1. -1. -1. -1. -1. -1. -1.  1. -1. -1. -1. -1.  1.  1. -1. -1.  1.\n",
      " -1. -1. -1. -1.  1. -1. -1.  1.  1. -1. -1. -1. -1. -1. -1. -1. -1.  1.\n",
      " -1.  1. -1. -1. -1. -1.  1. -1. -1. -1.  1.  1.  1. -1.  1. -1.  1.  1.\n",
      " -1. -1. -1.  1. -1. -1. -1.  1.  1.  1. -1. -1. -1. -1. -1. -1.  1.  1.\n",
      "  1.  1.  1.  1. -1. -1.  1. -1. -1. -1.  1. -1.  1.  1.  1.  1.  1.  1.\n",
      "  1.  1. -1. -1.  1. -1. -1.  1.  1.  1. -1. -1. -1.  1.  1.  1.  1. -1.\n",
      " -1.  1. -1. -1. -1.  1. -1. -1. -1.  1. -1. -1.  1. -1.  1. -1.  1.  1.\n",
      " -1. -1. -1. -1.  1. -1. -1. -1. -1.  1. -1.  1. -1.  1. -1. -1. -1. -1.\n",
      " -1. -1. -1. -1. -1.  1. -1.  1. -1.  1. -1. -1. -1. -1. -1. -1. -1.  1.\n",
      "  1.  1.  1.  1. -1.  1.  1. -1.  1. -1.  1. -1. -1.  1.  1. -1.  1. -1.\n",
      "  1. -1.  1. -1. -1.  1. -1. -1. -1. -1.  1. -1.  1. -1. -1.  1.  1.  1.\n",
      "  1.  1.  1. -1.  1. -1.  1.  1. -1. -1. -1.  1.  1. -1.  1. -1.  1.  1.\n",
      " -1. -1. -1.  1.  1.  1.  1.  1.  1. -1. -1.  1. -1. -1. -1. -1.  1.  1.\n",
      " -1. -1. -1. -1.  1. -1.  1.  1.  1. -1. -1.  1.  1.  1. -1.  1.  1. -1.\n",
      "  1.  1. -1.  1. -1. -1. -1. -1.  1. -1. -1.  1.  1. -1.  1. -1.  1.  1.\n",
      " -1. -1. -1. -1.  1. -1.  1.  1.  1. -1. -1. -1. -1.  1. -1.  1. -1. -1.\n",
      " -1. -1.  1. -1.  1.  1. -1.  1.  1. -1. -1.  1. -1. -1. -1. -1.  1. -1.\n",
      " -1. -1.  1. -1. -1.  1. -1.  1. -1. -1. -1. -1.  1. -1.  1.  1. -1. -1.\n",
      "  1. -1.  1.  1.  1.  1. -1. -1.  1.  1. -1. -1.  1. -1. -1. -1. -1. -1.\n",
      " -1.  1. -1. -1.  1. -1. -1. -1.  1.  1.  1. -1.  1.  1.  1. -1. -1.  1.\n",
      "  1. -1.  1.  1. -1.  1.  1.  1. -1.  1.  1. -1.  1.  1. -1.  1. -1.  1.\n",
      " -1. -1. -1.  1.  1.  1.  1. -1.  1. -1.  1. -1. -1. -1. -1. -1.]\n",
      "Fold  1\n",
      "t =  0\n",
      "t =  200\n",
      "t =  400\n",
      "(array([-1.,  1.]), array([849, 603], dtype=int64))\n",
      "[-1. -1. -1. -1. -1.  1. -1.  1.  1.  1. -1.  1. -1. -1. -1.  1. -1.  1.\n",
      "  1. -1.  1. -1. -1. -1.  1. -1. -1.  1.  1. -1.  1.  1.  1. -1.  1.  1.\n",
      "  1. -1.  1.  1. -1. -1.  1.  1.  1.  1.  1. -1. -1.  1.  1.  1.  1. -1.\n",
      "  1.  1. -1.  1.  1. -1. -1. -1. -1. -1. -1. -1.  1. -1.  1. -1. -1.  1.\n",
      " -1. -1. -1.  1.  1. -1. -1. -1.  1. -1. -1.  1.  1.  1. -1.  1. -1.  1.\n",
      "  1.  1.  1.  1.  1. -1. -1. -1. -1.  1. -1. -1.  1.  1.  1.  1.  1. -1.\n",
      "  1. -1. -1. -1. -1. -1.  1. -1. -1.  1. -1. -1. -1.  1. -1. -1.  1. -1.\n",
      " -1. -1.  1. -1. -1.  1.  1.  1.  1. -1. -1. -1.  1. -1. -1. -1. -1.  1.\n",
      " -1.  1. -1. -1. -1.  1. -1. -1. -1.  1.  1. -1.  1. -1. -1. -1. -1. -1.\n",
      " -1. -1.  1. -1. -1.  1. -1. -1. -1. -1.  1. -1. -1. -1.  1. -1. -1. -1.\n",
      "  1. -1. -1. -1. -1.  1.  1.  1. -1. -1. -1.  1.  1.  1.  1.  1.  1. -1.\n",
      " -1. -1. -1.  1.  1. -1.  1. -1. -1. -1. -1. -1. -1.  1.  1.  1.  1. -1.\n",
      " -1.  1. -1. -1. -1.  1.  1. -1.  1.  1. -1. -1. -1. -1. -1. -1.  1. -1.\n",
      " -1.  1. -1. -1.  1. -1. -1. -1. -1. -1.  1. -1. -1.  1. -1.  1.  1. -1.\n",
      " -1. -1. -1.  1. -1. -1. -1.  1.  1. -1. -1. -1. -1.  1. -1.  1. -1. -1.\n",
      "  1.  1. -1.  1.  1. -1. -1. -1. -1. -1.  1.  1. -1. -1. -1.  1.  1.  1.\n",
      " -1. -1.  1. -1. -1. -1. -1. -1.  1. -1. -1. -1.  1. -1.  1.  1. -1.  1.\n",
      " -1.  1. -1.  1. -1.  1. -1. -1. -1. -1.  1. -1. -1.  1.  1. -1. -1. -1.\n",
      "  1. -1. -1.  1.  1. -1. -1. -1. -1.  1.  1.  1.  1.  1. -1.  1. -1. -1.\n",
      " -1.  1.  1. -1. -1. -1.  1. -1. -1. -1. -1. -1. -1. -1.  1. -1. -1. -1.\n",
      " -1. -1. -1. -1. -1.  1. -1. -1.  1. -1.  1.  1. -1.  1.  1. -1.  1. -1.\n",
      " -1. -1.  1.  1. -1. -1. -1.  1.  1.  1.  1. -1.  1.  1. -1. -1. -1.  1.\n",
      "  1. -1.  1.  1.  1. -1.  1. -1.  1. -1. -1. -1.  1.  1. -1. -1.  1.  1.\n",
      "  1.  1.  1.  1. -1.  1. -1. -1.  1. -1. -1. -1. -1.  1.  1. -1. -1. -1.\n",
      " -1. -1. -1.  1. -1. -1. -1. -1. -1. -1. -1. -1. -1.  1.  1.  1.  1. -1.\n",
      " -1. -1. -1.  1.  1. -1. -1.  1. -1.  1. -1.  1. -1.  1.  1.  1. -1. -1.\n",
      "  1.  1. -1.  1. -1.  1.  1. -1. -1. -1. -1. -1. -1.  1.  1. -1.]\n",
      "Fold  2\n",
      "t =  0\n",
      "t =  200\n",
      "t =  400\n",
      "(array([-1.,  1.]), array([915, 537], dtype=int64))\n",
      "[ 1.  1. -1.  1.  1. -1. -1.  1.  1. -1.  1. -1. -1. -1. -1. -1.  1.  1.\n",
      " -1. -1. -1. -1. -1.  1.  1.  1. -1. -1. -1. -1. -1. -1.  1. -1.  1. -1.\n",
      " -1. -1. -1. -1.  1.  1.  1. -1. -1. -1.  1. -1. -1.  1. -1. -1. -1. -1.\n",
      "  1. -1.  1.  1. -1. -1. -1. -1.  1. -1. -1. -1.  1. -1.  1.  1. -1. -1.\n",
      "  1.  1. -1. -1. -1. -1. -1. -1. -1. -1. -1. -1.  1.  1. -1. -1. -1. -1.\n",
      " -1. -1.  1.  1.  1. -1. -1.  1. -1.  1.  1. -1.  1. -1.  1. -1. -1. -1.\n",
      " -1. -1. -1. -1. -1.  1.  1.  1. -1.  1. -1. -1.  1. -1. -1. -1. -1. -1.\n",
      " -1. -1.  1. -1.  1. -1.  1. -1. -1.  1.  1. -1.  1.  1. -1. -1. -1. -1.\n",
      " -1.  1. -1. -1. -1. -1. -1.  1. -1. -1. -1.  1. -1.  1. -1. -1. -1. -1.\n",
      "  1. -1.  1.  1.  1. -1. -1. -1.  1. -1. -1.  1.  1.  1. -1.  1. -1. -1.\n",
      " -1. -1.  1.  1. -1.  1. -1. -1. -1. -1. -1. -1. -1.  1. -1. -1. -1. -1.\n",
      " -1. -1. -1. -1.  1. -1. -1. -1. -1. -1.  1.  1. -1. -1.  1. -1.  1. -1.\n",
      " -1. -1.  1.  1.  1. -1.  1. -1.  1.  1.  1. -1. -1. -1.  1.  1.  1. -1.\n",
      " -1. -1. -1. -1. -1. -1. -1.  1. -1.  1. -1. -1.  1. -1. -1.  1. -1.  1.\n",
      " -1. -1. -1. -1.  1. -1. -1. -1. -1.  1.  1. -1. -1. -1.  1.  1.  1. -1.\n",
      "  1.  1. -1. -1. -1. -1. -1.  1.  1.  1.  1. -1. -1.  1. -1. -1. -1. -1.\n",
      " -1. -1.  1. -1. -1. -1. -1.  1.  1.  1. -1. -1. -1. -1.  1.  1. -1.  1.\n",
      " -1. -1. -1. -1. -1.  1.  1. -1.  1. -1.  1. -1. -1. -1. -1.  1.  1.  1.\n",
      "  1. -1. -1. -1. -1. -1.  1. -1. -1. -1.  1. -1. -1. -1.  1.  1.  1.  1.\n",
      " -1.  1. -1.  1. -1.  1. -1.  1.  1.  1. -1. -1.  1. -1. -1.  1. -1. -1.\n",
      "  1.  1. -1.  1. -1. -1. -1.  1.  1. -1. -1.  1. -1.  1.  1.  1. -1. -1.\n",
      "  1.  1. -1. -1.  1.  1.  1.  1.  1. -1.  1. -1. -1.  1.  1. -1. -1.  1.\n",
      "  1.  1.  1.  1. -1.  1. -1.  1. -1.  1.  1.  1. -1. -1. -1.  1. -1. -1.\n",
      "  1. -1.  1.  1. -1. -1. -1. -1. -1.  1.  1. -1. -1.  1. -1. -1.  1.  1.\n",
      " -1. -1.  1.  1.  1. -1.  1.  1.  1. -1.  1. -1.  1.  1.  1. -1.  1.  1.\n",
      " -1. -1. -1.  1. -1. -1.  1.  1.  1. -1. -1. -1. -1.  1. -1. -1.  1. -1.\n",
      " -1. -1. -1.  1. -1.  1. -1. -1.  1.  1. -1.  1. -1.  1. -1. -1.]\n",
      "Fold  3\n",
      "t =  0\n",
      "t =  200\n",
      "t =  400\n",
      "(array([-1.,  1.]), array([881, 571], dtype=int64))\n",
      "[ 1.  1. -1. -1. -1. -1. -1. -1. -1. -1.  1. -1. -1. -1. -1.  1.  1.  1.\n",
      " -1.  1. -1. -1. -1. -1. -1.  1. -1. -1. -1.  1.  1. -1. -1. -1. -1.  1.\n",
      "  1. -1. -1. -1.  1.  1.  1. -1. -1. -1.  1. -1. -1. -1.  1.  1. -1.  1.\n",
      "  1.  1. -1. -1. -1. -1. -1. -1. -1. -1. -1.  1. -1.  1. -1. -1.  1. -1.\n",
      "  1.  1.  1.  1.  1.  1. -1. -1. -1. -1. -1.  1.  1. -1. -1.  1. -1. -1.\n",
      " -1.  1. -1.  1.  1. -1. -1. -1. -1. -1. -1. -1.  1.  1. -1. -1.  1.  1.\n",
      " -1. -1. -1.  1.  1. -1.  1. -1.  1. -1. -1.  1. -1. -1.  1.  1.  1.  1.\n",
      "  1. -1. -1. -1. -1.  1.  1. -1.  1.  1. -1.  1.  1.  1.  1. -1.  1. -1.\n",
      "  1. -1. -1.  1. -1. -1.  1. -1. -1. -1. -1. -1.  1.  1.  1.  1.  1.  1.\n",
      "  1.  1. -1. -1. -1. -1. -1.  1. -1.  1. -1. -1. -1. -1. -1.  1. -1.  1.\n",
      "  1. -1. -1.  1. -1. -1. -1. -1.  1. -1.  1. -1. -1. -1. -1.  1.  1.  1.\n",
      "  1. -1.  1. -1. -1. -1. -1.  1. -1.  1. -1. -1. -1. -1. -1. -1.  1. -1.\n",
      " -1. -1.  1.  1.  1. -1.  1. -1. -1. -1.  1. -1. -1.  1. -1.  1.  1.  1.\n",
      "  1. -1.  1. -1. -1. -1.  1.  1. -1. -1. -1. -1. -1. -1. -1. -1.  1.  1.\n",
      "  1. -1.  1.  1. -1. -1. -1.  1.  1. -1. -1.  1.  1. -1. -1. -1. -1. -1.\n",
      "  1.  1. -1. -1. -1. -1.  1.  1.  1. -1.  1. -1. -1.  1. -1.  1.  1. -1.\n",
      " -1. -1.  1.  1.  1. -1. -1.  1. -1.  1.  1.  1. -1.  1. -1. -1.  1.  1.\n",
      "  1.  1.  1. -1. -1.  1. -1. -1. -1. -1. -1.  1. -1. -1.  1.  1. -1. -1.\n",
      " -1. -1. -1. -1.  1. -1.  1. -1. -1. -1. -1.  1.  1. -1.  1.  1. -1. -1.\n",
      " -1.  1.  1. -1.  1.  1. -1. -1.  1.  1.  1. -1. -1. -1.  1.  1. -1. -1.\n",
      " -1. -1. -1. -1.  1. -1. -1. -1. -1. -1. -1. -1. -1. -1. -1. -1.  1. -1.\n",
      " -1. -1. -1. -1.  1.  1. -1. -1. -1. -1.  1. -1.  1. -1. -1.  1.  1. -1.\n",
      "  1. -1. -1. -1.  1. -1. -1.  1. -1. -1.  1.  1. -1. -1.  1.  1.  1. -1.\n",
      " -1.  1. -1. -1. -1. -1. -1.  1.  1.  1.  1. -1. -1.  1. -1. -1.  1. -1.\n",
      " -1. -1. -1.  1. -1. -1. -1. -1.  1. -1.  1. -1. -1.  1. -1. -1. -1.  1.\n",
      "  1. -1. -1. -1.  1. -1. -1. -1.  1. -1. -1.  1. -1. -1. -1. -1. -1. -1.\n",
      "  1. -1. -1. -1.  1. -1.  1. -1. -1.  1.  1.  1. -1. -1. -1. -1.]\n",
      "Stored 'folds_performance' (list)\n"
     ]
    }
   ],
   "source": [
    "cv = KFold(n_splits = 4,random_state = 4924, shuffle = True)\n",
    "T = 500\n",
    "\n",
    "folds_performance = []\n",
    "fold_ind = 0\n",
    "\n",
    "for train_inds, test_inds in cv.split(X,Y): \n",
    "    print(\"Fold \", fold_ind)\n",
    "    fold_ind+=1\n",
    "    X_train, Y_train = X[train_inds], Y[train_inds]\n",
    "    X_test, Y_test = X[test_inds], Y[test_inds]\n",
    "    \n",
    "    #train AdaBoost\n",
    "    feat_weights = AdaBoost_train(X_train,Y_train, T)\n",
    "\n",
    "    #get AdaBoost probabilities on the test fold\n",
    "    Ada_probas, _ = AdaBoost_predict(X_test, feat_weights)\n",
    "    Ada_fpr, Ada_tpr, _ = roc_curve(Y_test,Ada_probas) #compute fpr, tpr, auc\n",
    "    Ada_auc = auc(Ada_fpr, Ada_tpr)\n",
    "\n",
    "    #compute accuracies on train and test for AdaBoost\n",
    "    Ada_train_acc, Ada_test_acc = AdaBoost_accuracy(X_train, Y_train, X_test, Y_test, feat_weights)\n",
    "\n",
    "    folds_performance.append({\n",
    "        #AdaBoost performance\n",
    "        \"ada_fpr\" : Ada_fpr, \n",
    "        \"ada_tpr\": Ada_tpr, \n",
    "        \"ada_auc\": Ada_auc, \n",
    "        \"ada_train_acc\": Ada_train_acc, \n",
    "        \"ada_test_acc\": Ada_test_acc, \n",
    "        \"ada_feat_weights\": feat_weights \n",
    "    })\n",
    "\n",
    "%store folds_performance"
   ]
  },
  {
   "cell_type": "markdown",
   "metadata": {},
   "source": [
    "## ROC "
   ]
  },
  {
   "cell_type": "code",
   "execution_count": 61,
   "metadata": {},
   "outputs": [
    {
     "data": {
      "image/png": "[encoded data removed]",
      "text/plain": [
       "<Figure size 432x288 with 1 Axes>"
      ]
     },
     "metadata": {},
     "output_type": "display_data"
    }
   ],
   "source": [
    "#Plot ROC curves for all folds \n",
    "for i, fold_info in enumerate(folds_performance): \n",
    "    plt.plot(fold_info[\"ada_fpr\"], fold_info[\"ada_tpr\"],\n",
    "             label='ROC curve for Fold'+ str(i) + '(AUC = {0:0.2f})'.format(fold_info[\"ada_auc\"]),\n",
    "             linewidth=1)\n",
    "\n",
    "plt.title('AdaBoost ROC Curves on 4 Folds')\n",
    "plt.xlabel('False Positive Rate')\n",
    "plt.ylabel('True Positive Rate')\n",
    "plt.xlim([0.0, 1.0])\n",
    "plt.ylim([0.0,1.05])\n",
    "plt.legend(loc='best')\n",
    "plt.show()\n"
   ]
  },
  {
   "cell_type": "markdown",
   "metadata": {},
   "source": [
    "## Accuracy, AUC"
   ]
  },
  {
   "cell_type": "code",
   "execution_count": 44,
   "metadata": {},
   "outputs": [
    {
     "data": {
      "image/png": "[encoded data removed]",
      "text/plain": [
       "<Figure size 720x288 with 2 Axes>"
      ]
     },
     "metadata": {},
     "output_type": "display_data"
    }
   ],
   "source": [
    "#Plot test acc, test AUC\n",
    "ada_testacc_list, ada_testauc_list = [], []\n",
    "\n",
    "for fold_info in folds_performance:\n",
    "    ada_testacc_list.append(fold_info[\"ada_test_acc\"])\n",
    "    ada_testauc_list.append(fold_info[\"ada_auc\"])\n",
    "\n",
    "def boxplots(algorithm, test_acc, test_auc):\n",
    "    #box plot using test accuracy \n",
    "    fig, (bp1_ax, bp2_ax) = plt.subplots(1,2, figsize=(10,4))\n",
    "    bp1_ax.set_title(algorithm + \" Test Accuracy\")\n",
    "    bp1_ax.boxplot(np.array(test_acc))\n",
    "\n",
    "    #box plot using AUC\n",
    "    bp2_ax.set_title(algorithm + \" Test AUC\")\n",
    "    bp2_ax.boxplot(np.array(test_auc))\n",
    "\n",
    "    plt.tight_layout()  \n",
    "    plt.show()\n",
    "\n",
    "boxplots(\"AdaBoost\", ada_testacc_list, ada_testauc_list)"
   ]
  },
  {
   "cell_type": "markdown",
   "metadata": {},
   "source": [
    "## Model reliance"
   ]
  },
  {
   "cell_type": "code",
   "execution_count": 60,
   "metadata": {},
   "outputs": [
    {
     "name": "stdout",
     "output_type": "stream",
     "text": [
      "Stored 'model_reliance' (list)\n",
      "Feature                     AdaBoost\n",
      "-----------------------  -----------\n",
      "p_charge1                 0.00000000\n",
      "p_charge3                 0.00000000\n",
      "p_charge5                -0.00214477\n",
      "p_charge7                 0.00000000\n",
      "p_charge9                 0.00000000\n",
      "p_jail30_1                0.00000000\n",
      "p_jail30_3                0.00000000\n",
      "p_jail30_5                0.00000000\n",
      "p_jail30_7                0.00000000\n",
      "p_jail30_9                0.00000000\n",
      "p_prison1                 0.00428954\n",
      "p_prison3                 0.00000000\n",
      "p_prison5                 0.00000000\n",
      "p_prison7                 0.00000000\n",
      "p_prison9                 0.00000000\n",
      "p_probation1              0.00000000\n",
      "p_probation3              0.00000000\n",
      "p_probation5              0.00455764\n",
      "p_probation7             -0.00026810\n",
      "p_probation9              0.00000000\n",
      "p_juv_fel_count1          0.00000000\n",
      "p_juv_fel_count3          0.00000000\n",
      "p_juv_fel_count5          0.00000000\n",
      "p_juv_fel_count7          0.00000000\n",
      "p_juv_fel_count9          0.00000000\n",
      "p_felprop_violarrest1     0.00000000\n",
      "p_felprop_violarrest3     0.00509383\n",
      "p_felprop_violarrest5     0.00000000\n",
      "p_felprop_violarrest7     0.00000000\n",
      "p_felprop_violarrest9     0.00000000\n",
      "p_murder_arrest1          0.00000000\n",
      "p_murder_arrest3          0.00000000\n",
      "p_murder_arrest5          0.00000000\n",
      "p_murder_arrest7          0.00000000\n",
      "p_murder_arrest9          0.00000000\n",
      "p_felassault_arrest1      0.00000000\n",
      "p_felassault_arrest3      0.00000000\n",
      "p_felassault_arrest5      0.00000000\n",
      "p_felassault_arrest7      0.00000000\n",
      "p_felassault_arrest9      0.00000000\n",
      "p_misdemassault_arrest1   0.00214477\n",
      "p_misdemassault_arrest3   0.00134048\n",
      "p_misdemassault_arrest5   0.00000000\n",
      "p_misdemassault_arrest7   0.00000000\n",
      "p_misdemassault_arrest9   0.00000000\n",
      "p_famviol_arrest1         0.00000000\n",
      "p_famviol_arrest3         0.00000000\n",
      "p_famviol_arrest5         0.00000000\n",
      "p_famviol_arrest7         0.00000000\n",
      "p_famviol_arrest9         0.00000000\n",
      "p_weapons_arrest1         0.01045576\n",
      "p_weapons_arrest3         0.00000000\n",
      "p_weapons_arrest5         0.00000000\n",
      "p_weapons_arrest7         0.00000000\n",
      "p_weapons_arrest9         0.00000000\n",
      "p_current_age18           0.00777480\n",
      "p_current_age21          -0.00428954\n",
      "p_current_age25           0.00697051\n",
      "p_current_age30          -0.00831099\n",
      "p_current_age39           0.00000000\n",
      "p_current_age49          -0.00563003\n",
      "p_current_age59           0.00053619\n",
      "p_property1               0.00000000\n",
      "p_property3               0.00000000\n",
      "p_property5               0.00000000\n",
      "p_property7               0.00348525\n",
      "p_property9               0.00000000\n",
      "prior_conviction_M1       0.00000000\n",
      "prior_conviction_M3       0.00000000\n",
      "prior_conviction_M5      -0.02975871\n",
      "prior_conviction_M7       0.00375335\n",
      "prior_conviction_M9       0.00134048\n",
      "total_convictions1        0.00000000\n",
      "total_convictions3        0.00000000\n",
      "total_convictions5        0.00000000\n",
      "total_convictions7        0.00000000\n",
      "total_convictions9        0.00000000\n"
     ]
    }
   ],
   "source": [
    "#Compute error of AdaBoost test set\n",
    "ada_error = 1 - AdaBoost_accuracy(X_train, Y_train,X_test, Y_test, feat_weights)[1]\n",
    "\n",
    "model_reliance = []\n",
    "col_labels = train_pd.columns.tolist()[1:]\n",
    "for j in range(X_test.shape[1]): #iterate over features\n",
    "    ada_avg_perm_error = 0\n",
    "\n",
    "    #perform 10 shuffles of feature j and average the error obtained\n",
    "    for k in range(10): \n",
    "        X_test_perm = np.copy(X_test)\n",
    "        np.random.shuffle(X_test_perm[:,j])\n",
    "        ada_avg_perm_error += ( 1 -  AdaBoost_accuracy(X_train, Y_train, X_test_perm, Y_test, feat_weights)[1])\n",
    "    \n",
    "    model_reliance.append([col_labels[j], ada_error - ada_avg_perm_error/10])\n",
    "    \n",
    "%store model_reliance \n",
    "print(tabulate(model_reliance, headers=[\"Feature\", \"AdaBoost\"], floatfmt=\".8f\"))"
   ]
  },
  {
   "cell_type": "markdown",
   "metadata": {},
   "source": [
    "## Scoring Plots"
   ]
  },
  {
   "cell_type": "code",
   "execution_count": 84,
   "metadata": {},
   "outputs": [
    {
     "name": "stdout",
     "output_type": "stream",
     "text": [
      "(47, 77)\n",
      "[0.01212445 0.01064754 0.01064754 0.01064754 0.00691198 0.00691198\n",
      " 0.00691198 0.00691198 0.00589396 0.00589396 0.00589396 0.00589396\n",
      " 0.00589396 0.00285641 0.00285641 0.00285641 0.00285641 0.00285641\n",
      " 0.00285641 0.00285641 0.00285641 0.00285641 0.00285641 0.00285641\n",
      " 0.00285641 0.00285641 0.00285641 0.00285641 0.00285641 0.00285641\n",
      " 0.00285641 0.00285641 0.00218342 0.00218342 0.00218342 0.00218342\n",
      " 0.00218342 0.00218342 0.00218342 0.00218342 0.00218342 0.00218342\n",
      " 0.00172671 0.00172671 0.00172671 0.00172671 0.00172671]\n"
     ]
    },
    {
     "data": {
      "image/png": "[encoded data removed]",
      "text/plain": [
       "<Figure size 432x288 with 1 Axes>"
      ]
     },
     "metadata": {},
     "output_type": "display_data"
    }
   ],
   "source": [
    "#idea: loop through features\n",
    "#generate artificial data which has values for this only, plot adaboost probabilities\n",
    "\n",
    "age_examples = np.ones((47,77))*-1\n",
    "print(age_examples.shape)\n",
    "\n",
    "for age in range(18, 65):\n",
    "    age_examples[age-18, 55] = 1 if age <= 18 else -1\n",
    "    age_examples[age-18, 56] = 1 if age <= 21 else -1\n",
    "    age_examples[age-18, 57] = 1 if age <= 25 else -1\n",
    "    age_examples[age-18, 58] = 1 if age <= 30 else -1\n",
    "    age_examples[age-18, 59] = 1 if age <= 39 else -1\n",
    "    age_examples[age-18, 60] = 1 if age <= 49 else -1\n",
    "    age_examples[age-18, 61] = 1 if age <= 59 else -1\n",
    "    \n",
    "age_probas, _ = AdaBoost_predict(age_examples, feat_weights)\n",
    "print(age_probas)\n",
    "plt.plot(age_probas*10)\n",
    "plt.title('AdaBoost GAM Shape Curve: Current age')\n",
    "plt.xlabel('Current Age')\n",
    "plt.ylabel('Prob Recid')\n",
    "plt.xlim([0.0, 1.0])\n",
    "plt.ylim([0.0,1.05])\n",
    "plt.show()\n"
   ]
  },
  {
   "cell_type": "code",
   "execution_count": 81,
   "metadata": {},
   "outputs": [
    {
     "name": "stdout",
     "output_type": "stream",
     "text": [
      "[1.12035121 0.         0.09097289 0.         0.         0.\n",
      " 0.         0.         0.         0.         0.05538233 0.\n",
      " 0.         0.         0.         0.         0.         0.04193969\n",
      " 0.86997942 0.         0.         0.         0.         0.\n",
      " 0.         0.         0.01433071 0.         0.         0.\n",
      " 0.         0.         0.         0.         0.         0.\n",
      " 0.         0.         0.         0.         0.02419291 0.11305691\n",
      " 0.         0.         0.         0.         0.         0.\n",
      " 0.         0.         0.04655069 0.         0.         0.\n",
      " 0.         0.03284715 0.10896027 0.04008829 0.18185376 0.\n",
      " 0.06733709 0.05878317 0.         0.         0.         0.04878132\n",
      " 0.         0.         0.         0.20531654 0.04544538 0.01373609\n",
      " 0.         0.         0.         0.         0.        ]\n"
     ]
    }
   ],
   "source": [
    "print(feat_weights)"
   ]
  }
 ],
 "metadata": {
  "kernelspec": {
   "display_name": "Python 3",
   "language": "python",
   "name": "python3"
  },
  "language_info": {
   "codemirror_mode": {
    "name": "ipython",
    "version": 3
   },
   "file_extension": ".py",
   "mimetype": "text/x-python",
   "name": "python",
   "nbconvert_exporter": "python",
   "pygments_lexer": "ipython3",
   "version": "3.6.5"
  }
 },
 "nbformat": 4,
 "nbformat_minor": 2
}
