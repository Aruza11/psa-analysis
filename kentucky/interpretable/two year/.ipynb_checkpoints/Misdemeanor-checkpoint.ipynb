{
 "cells": [
  {
   "cell_type": "code",
   "execution_count": 1,
   "metadata": {},
   "outputs": [
    {
     "name": "stdout",
     "output_type": "stream",
     "text": [
      "Current working directory is now:  C:\\Users\\binha\\Documents\\Duke\\Cynthia Research\\psa-analysis - test2\n"
     ]
    },
    {
     "name": "stderr",
     "output_type": "stream",
     "text": [
      "C:\\Users\\binha\\Anaconda3\\lib\\site-packages\\sklearn\\externals\\six.py:31: DeprecationWarning:\n",
      "\n",
      "The module is deprecated in version 0.21 and will be removed in version 0.23 since we've dropped support for Python 2.7. Please rely on the official version of six (https://pypi.org/project/six/).\n",
      "\n"
     ]
    }
   ],
   "source": [
    "import os \n",
    "os.chdir('../../../')\n",
    "print(\"Current working directory is now: \", os.getcwd())\n",
    "\n",
    "import pandas as pd \n",
    "import numpy as np\n",
    "import csv\n",
    "import utils.interpretable_functions as interpret\n",
    "import utils.RiskSLIM as slim\n",
    "import utils.stumps as stumps\n",
    "import utils.Corel as Corel\n",
    "\n",
    "from sklearn.linear_model import LogisticRegression\n",
    "from sklearn.model_selection import KFold, GridSearchCV\n",
    "from sklearn.metrics import roc_auc_score\n",
    "\n",
    "# restore saved variables\n",
    "%store -r summary_M2_KY_interpret"
   ]
  },
  {
   "cell_type": "markdown",
   "metadata": {},
   "source": [
    "### CART & EBM"
   ]
  },
  {
   "cell_type": "code",
   "execution_count": 2,
   "metadata": {},
   "outputs": [],
   "source": [
    "### load data\n",
    "data = pd.read_csv(\"~/Documents/Duke/Cynthia Research/KY-analysis-mytrials/KY Recidivism/KY data/kentucky_data.csv\")\n",
    "data = data.drop(['fta_risk_score_raw','nca_risk_score_raw','pvf_risk_score_raw', \n",
    "                  'fta_calc', 'nca_calc', 'pvf_calc'], axis=1)\n",
    "x = data.loc[:,:'current_violence']\n",
    "y = data['recid_M_two_year'].values"
   ]
  },
  {
   "cell_type": "code",
   "execution_count": 3,
   "metadata": {
    "scrolled": true
   },
   "outputs": [
    {
     "name": "stdout",
     "output_type": "stream",
     "text": [
      "model_id, score_thresholds 0 {'rank_abs': [1271]}\n",
      "get_disparity_predefined_group()\n",
      "model_id, score_thresholds 0 {'rank_abs': [1116]}\n",
      "get_disparity_predefined_group()\n"
     ]
    },
    {
     "name": "stderr",
     "output_type": "stream",
     "text": [
      "C:\\Users\\binha\\Documents\\Duke\\Cynthia Research\\psa-analysis - test2\\utils\\fairness_functions.py:82: RuntimeWarning:\n",
      "\n",
      "invalid value encountered in longlong_scalars\n",
      "\n",
      "C:\\Users\\binha\\Documents\\Duke\\Cynthia Research\\psa-analysis - test2\\utils\\fairness_functions.py:95: RuntimeWarning:\n",
      "\n",
      "divide by zero encountered in longlong_scalars\n",
      "\n"
     ]
    },
    {
     "name": "stdout",
     "output_type": "stream",
     "text": [
      "model_id, score_thresholds 0 {'rank_abs': [1443]}\n",
      "get_disparity_predefined_group()\n"
     ]
    },
    {
     "name": "stderr",
     "output_type": "stream",
     "text": [
      "C:\\Users\\binha\\Documents\\Duke\\Cynthia Research\\psa-analysis - test2\\utils\\fairness_functions.py:82: RuntimeWarning:\n",
      "\n",
      "invalid value encountered in longlong_scalars\n",
      "\n",
      "C:\\Users\\binha\\Documents\\Duke\\Cynthia Research\\psa-analysis - test2\\utils\\fairness_functions.py:95: RuntimeWarning:\n",
      "\n",
      "divide by zero encountered in longlong_scalars\n",
      "\n"
     ]
    },
    {
     "name": "stdout",
     "output_type": "stream",
     "text": [
      "model_id, score_thresholds 0 {'rank_abs': [1499]}\n",
      "get_disparity_predefined_group()\n"
     ]
    },
    {
     "name": "stderr",
     "output_type": "stream",
     "text": [
      "C:\\Users\\binha\\Documents\\Duke\\Cynthia Research\\psa-analysis - test2\\utils\\fairness_functions.py:82: RuntimeWarning:\n",
      "\n",
      "invalid value encountered in longlong_scalars\n",
      "\n",
      "C:\\Users\\binha\\Documents\\Duke\\Cynthia Research\\psa-analysis - test2\\utils\\fairness_functions.py:86: RuntimeWarning:\n",
      "\n",
      "invalid value encountered in longlong_scalars\n",
      "\n",
      "C:\\Users\\binha\\Documents\\Duke\\Cynthia Research\\psa-analysis - test2\\utils\\fairness_functions.py:95: RuntimeWarning:\n",
      "\n",
      "invalid value encountered in longlong_scalars\n",
      "\n"
     ]
    },
    {
     "name": "stdout",
     "output_type": "stream",
     "text": [
      "model_id, score_thresholds 0 {'rank_abs': [1160]}\n",
      "get_disparity_predefined_group()\n"
     ]
    },
    {
     "name": "stderr",
     "output_type": "stream",
     "text": [
      "C:\\Users\\binha\\Documents\\Duke\\Cynthia Research\\psa-analysis - test2\\utils\\fairness_functions.py:95: RuntimeWarning:\n",
      "\n",
      "divide by zero encountered in longlong_scalars\n",
      "\n",
      "C:\\Users\\binha\\Documents\\Duke\\Cynthia Research\\psa-analysis - test2\\utils\\fairness_functions.py:82: RuntimeWarning:\n",
      "\n",
      "invalid value encountered in longlong_scalars\n",
      "\n",
      "C:\\Users\\binha\\Documents\\Duke\\Cynthia Research\\psa-analysis - test2\\utils\\fairness_functions.py:86: RuntimeWarning:\n",
      "\n",
      "invalid value encountered in longlong_scalars\n",
      "\n",
      "C:\\Users\\binha\\Documents\\Duke\\Cynthia Research\\psa-analysis - test2\\utils\\fairness_functions.py:95: RuntimeWarning:\n",
      "\n",
      "invalid value encountered in longlong_scalars\n",
      "\n",
      "WARNING:interpret.utils.all:Passing a numpy array to schema autogen when it should be dataframe.\n",
      "WARNING:interpret.utils.all:Passing a numpy array to schema autogen when it should be dataframe.\n",
      "WARNING:interpret.utils.all:Passing a numpy array to schema autogen when it should be dataframe.\n",
      "WARNING:interpret.utils.all:Passing a numpy array to schema autogen when it should be dataframe.\n",
      "WARNING:interpret.utils.all:Passing a numpy array to schema autogen when it should be dataframe.\n",
      "WARNING:interpret.utils.all:Passing a numpy array to schema autogen when it should be dataframe.\n",
      "WARNING:interpret.utils.all:Passing a numpy array to schema autogen when it should be dataframe.\n",
      "WARNING:interpret.utils.all:Passing a numpy array to schema autogen when it should be dataframe.\n",
      "WARNING:interpret.utils.all:Passing a numpy array to schema autogen when it should be dataframe.\n",
      "WARNING:interpret.utils.all:Passing a numpy array to schema autogen when it should be dataframe.\n",
      "WARNING:interpret.utils.all:Passing a numpy array to schema autogen when it should be dataframe.\n",
      "WARNING:interpret.utils.all:Passing a numpy array to schema autogen when it should be dataframe.\n"
     ]
    },
    {
     "name": "stdout",
     "output_type": "stream",
     "text": [
      "model_id, score_thresholds 0 {'rank_abs': [1236]}\n",
      "get_disparity_predefined_group()\n"
     ]
    },
    {
     "name": "stderr",
     "output_type": "stream",
     "text": [
      "C:\\Users\\binha\\Documents\\Duke\\Cynthia Research\\psa-analysis - test2\\utils\\fairness_functions.py:82: RuntimeWarning:\n",
      "\n",
      "invalid value encountered in longlong_scalars\n",
      "\n",
      "C:\\Users\\binha\\Documents\\Duke\\Cynthia Research\\psa-analysis - test2\\utils\\fairness_functions.py:95: RuntimeWarning:\n",
      "\n",
      "divide by zero encountered in longlong_scalars\n",
      "\n",
      "WARNING:interpret.utils.all:Passing a numpy array to schema autogen when it should be dataframe.\n",
      "WARNING:interpret.utils.all:Passing a numpy array to schema autogen when it should be dataframe.\n",
      "WARNING:interpret.utils.all:Passing a numpy array to schema autogen when it should be dataframe.\n",
      "WARNING:interpret.utils.all:Passing a numpy array to schema autogen when it should be dataframe.\n",
      "WARNING:interpret.utils.all:Passing a numpy array to schema autogen when it should be dataframe.\n",
      "WARNING:interpret.utils.all:Passing a numpy array to schema autogen when it should be dataframe.\n",
      "WARNING:interpret.utils.all:Passing a numpy array to schema autogen when it should be dataframe.\n",
      "WARNING:interpret.utils.all:Passing a numpy array to schema autogen when it should be dataframe.\n",
      "WARNING:interpret.utils.all:Passing a numpy array to schema autogen when it should be dataframe.\n",
      "WARNING:interpret.utils.all:Passing a numpy array to schema autogen when it should be dataframe.\n",
      "WARNING:interpret.utils.all:Passing a numpy array to schema autogen when it should be dataframe.\n",
      "WARNING:interpret.utils.all:Passing a numpy array to schema autogen when it should be dataframe.\n"
     ]
    },
    {
     "name": "stdout",
     "output_type": "stream",
     "text": [
      "model_id, score_thresholds 0 {'rank_abs': [1257]}\n",
      "get_disparity_predefined_group()\n"
     ]
    },
    {
     "name": "stderr",
     "output_type": "stream",
     "text": [
      "C:\\Users\\binha\\Documents\\Duke\\Cynthia Research\\psa-analysis - test2\\utils\\fairness_functions.py:82: RuntimeWarning:\n",
      "\n",
      "invalid value encountered in longlong_scalars\n",
      "\n",
      "C:\\Users\\binha\\Documents\\Duke\\Cynthia Research\\psa-analysis - test2\\utils\\fairness_functions.py:95: RuntimeWarning:\n",
      "\n",
      "divide by zero encountered in longlong_scalars\n",
      "\n",
      "WARNING:interpret.utils.all:Passing a numpy array to schema autogen when it should be dataframe.\n",
      "WARNING:interpret.utils.all:Passing a numpy array to schema autogen when it should be dataframe.\n",
      "WARNING:interpret.utils.all:Passing a numpy array to schema autogen when it should be dataframe.\n",
      "WARNING:interpret.utils.all:Passing a numpy array to schema autogen when it should be dataframe.\n",
      "WARNING:interpret.utils.all:Passing a numpy array to schema autogen when it should be dataframe.\n",
      "WARNING:interpret.utils.all:Passing a numpy array to schema autogen when it should be dataframe.\n",
      "WARNING:interpret.utils.all:Passing a numpy array to schema autogen when it should be dataframe.\n",
      "WARNING:interpret.utils.all:Passing a numpy array to schema autogen when it should be dataframe.\n",
      "WARNING:interpret.utils.all:Passing a numpy array to schema autogen when it should be dataframe.\n",
      "WARNING:interpret.utils.all:Passing a numpy array to schema autogen when it should be dataframe.\n",
      "WARNING:interpret.utils.all:Passing a numpy array to schema autogen when it should be dataframe.\n",
      "WARNING:interpret.utils.all:Passing a numpy array to schema autogen when it should be dataframe.\n"
     ]
    },
    {
     "name": "stdout",
     "output_type": "stream",
     "text": [
      "model_id, score_thresholds 0 {'rank_abs': [1307]}\n",
      "get_disparity_predefined_group()\n"
     ]
    },
    {
     "name": "stderr",
     "output_type": "stream",
     "text": [
      "C:\\Users\\binha\\Documents\\Duke\\Cynthia Research\\psa-analysis - test2\\utils\\fairness_functions.py:95: RuntimeWarning:\n",
      "\n",
      "divide by zero encountered in longlong_scalars\n",
      "\n",
      "C:\\Users\\binha\\Documents\\Duke\\Cynthia Research\\psa-analysis - test2\\utils\\fairness_functions.py:82: RuntimeWarning:\n",
      "\n",
      "invalid value encountered in longlong_scalars\n",
      "\n",
      "WARNING:interpret.utils.all:Passing a numpy array to schema autogen when it should be dataframe.\n",
      "WARNING:interpret.utils.all:Passing a numpy array to schema autogen when it should be dataframe.\n",
      "WARNING:interpret.utils.all:Passing a numpy array to schema autogen when it should be dataframe.\n",
      "WARNING:interpret.utils.all:Passing a numpy array to schema autogen when it should be dataframe.\n",
      "WARNING:interpret.utils.all:Passing a numpy array to schema autogen when it should be dataframe.\n",
      "WARNING:interpret.utils.all:Passing a numpy array to schema autogen when it should be dataframe.\n",
      "WARNING:interpret.utils.all:Passing a numpy array to schema autogen when it should be dataframe.\n",
      "WARNING:interpret.utils.all:Passing a numpy array to schema autogen when it should be dataframe.\n",
      "WARNING:interpret.utils.all:Passing a numpy array to schema autogen when it should be dataframe.\n",
      "WARNING:interpret.utils.all:Passing a numpy array to schema autogen when it should be dataframe.\n",
      "WARNING:interpret.utils.all:Passing a numpy array to schema autogen when it should be dataframe.\n",
      "WARNING:interpret.utils.all:Passing a numpy array to schema autogen when it should be dataframe.\n"
     ]
    },
    {
     "name": "stdout",
     "output_type": "stream",
     "text": [
      "model_id, score_thresholds 0 {'rank_abs': [1325]}\n",
      "get_disparity_predefined_group()\n"
     ]
    },
    {
     "name": "stderr",
     "output_type": "stream",
     "text": [
      "C:\\Users\\binha\\Documents\\Duke\\Cynthia Research\\psa-analysis - test2\\utils\\fairness_functions.py:82: RuntimeWarning:\n",
      "\n",
      "invalid value encountered in longlong_scalars\n",
      "\n",
      "C:\\Users\\binha\\Documents\\Duke\\Cynthia Research\\psa-analysis - test2\\utils\\fairness_functions.py:86: RuntimeWarning:\n",
      "\n",
      "invalid value encountered in longlong_scalars\n",
      "\n",
      "C:\\Users\\binha\\Documents\\Duke\\Cynthia Research\\psa-analysis - test2\\utils\\fairness_functions.py:95: RuntimeWarning:\n",
      "\n",
      "invalid value encountered in longlong_scalars\n",
      "\n",
      "C:\\Users\\binha\\Documents\\Duke\\Cynthia Research\\psa-analysis - test2\\utils\\fairness_functions.py:95: RuntimeWarning:\n",
      "\n",
      "divide by zero encountered in longlong_scalars\n",
      "\n",
      "WARNING:interpret.utils.all:Passing a numpy array to schema autogen when it should be dataframe.\n",
      "WARNING:interpret.utils.all:Passing a numpy array to schema autogen when it should be dataframe.\n",
      "WARNING:interpret.utils.all:Passing a numpy array to schema autogen when it should be dataframe.\n",
      "WARNING:interpret.utils.all:Passing a numpy array to schema autogen when it should be dataframe.\n",
      "WARNING:interpret.utils.all:Passing a numpy array to schema autogen when it should be dataframe.\n",
      "WARNING:interpret.utils.all:Passing a numpy array to schema autogen when it should be dataframe.\n",
      "WARNING:interpret.utils.all:Passing a numpy array to schema autogen when it should be dataframe.\n",
      "WARNING:interpret.utils.all:Passing a numpy array to schema autogen when it should be dataframe.\n",
      "WARNING:interpret.utils.all:Passing a numpy array to schema autogen when it should be dataframe.\n",
      "WARNING:interpret.utils.all:Passing a numpy array to schema autogen when it should be dataframe.\n",
      "WARNING:interpret.utils.all:Passing a numpy array to schema autogen when it should be dataframe.\n",
      "WARNING:interpret.utils.all:Passing a numpy array to schema autogen when it should be dataframe.\n"
     ]
    },
    {
     "name": "stdout",
     "output_type": "stream",
     "text": [
      "model_id, score_thresholds 0 {'rank_abs': [1242]}\n",
      "get_disparity_predefined_group()\n"
     ]
    },
    {
     "name": "stderr",
     "output_type": "stream",
     "text": [
      "C:\\Users\\binha\\Documents\\Duke\\Cynthia Research\\psa-analysis - test2\\utils\\fairness_functions.py:82: RuntimeWarning:\n",
      "\n",
      "invalid value encountered in longlong_scalars\n",
      "\n",
      "C:\\Users\\binha\\Documents\\Duke\\Cynthia Research\\psa-analysis - test2\\utils\\fairness_functions.py:95: RuntimeWarning:\n",
      "\n",
      "divide by zero encountered in longlong_scalars\n",
      "\n",
      "C:\\Users\\binha\\Documents\\Duke\\Cynthia Research\\psa-analysis - test2\\utils\\fairness_functions.py:86: RuntimeWarning:\n",
      "\n",
      "invalid value encountered in longlong_scalars\n",
      "\n",
      "C:\\Users\\binha\\Documents\\Duke\\Cynthia Research\\psa-analysis - test2\\utils\\fairness_functions.py:95: RuntimeWarning:\n",
      "\n",
      "invalid value encountered in longlong_scalars\n",
      "\n"
     ]
    }
   ],
   "source": [
    "#### CART\n",
    "depth = [7,8,9]\n",
    "cart_summary = interpret.CART(X=x,\n",
    "                         Y=y,\n",
    "                         depth=depth,\n",
    "                         seed=816)\n",
    "\n",
    "#### EBM\n",
    "estimators = [40]\n",
    "depth = [2]\n",
    "learning_rate = [0.5]\n",
    "ebm_summary = interpret.EBM(X=x,\n",
    "                       Y=y,\n",
    "                       learning_rate=learning_rate,\n",
    "                       depth=depth,\n",
    "                       estimators=estimators,\n",
    "                       seed =816)"
   ]
  },
  {
   "cell_type": "code",
   "execution_count": 4,
   "metadata": {},
   "outputs": [
    {
     "data": {
      "text/plain": [
       "(0.6829818600599438, 0.01871051495352529)"
      ]
     },
     "execution_count": 4,
     "metadata": {},
     "output_type": "execute_result"
    }
   ],
   "source": [
    "np.mean(cart_summary['holdout_test_auc']), np.mean(cart_summary['auc_diffs'])"
   ]
  },
  {
   "cell_type": "code",
   "execution_count": 5,
   "metadata": {},
   "outputs": [
    {
     "data": {
      "text/plain": [
       "(0.6937930159366317, 0.005239697762050066)"
      ]
     },
     "execution_count": 5,
     "metadata": {},
     "output_type": "execute_result"
    }
   ],
   "source": [
    "np.mean(ebm_summary['holdout_test_auc']), np.mean(ebm_summary['auc_diffs'])"
   ]
  },
  {
   "cell_type": "markdown",
   "metadata": {},
   "source": [
    "## Lasso Stumps"
   ]
  },
  {
   "cell_type": "code",
   "execution_count": 6,
   "metadata": {},
   "outputs": [],
   "source": [
    "## load whole data\n",
    "data = pd.read_csv(\"~/Documents/Duke/Cynthia Research/KY-analysis-mytrials/KY Recidivism/KY data/kentucky_stumps.csv\")\n",
    "X_stumps, Y_stumps = data.loc[:,:'current_violence>=1'], data['recid_M_two_year'].values\n",
    "Y_stumps[Y_stumps == -1] = 0\n",
    "cols = X_stumps.columns[3:]\n",
    "\n",
    "## load train & test data\n",
    "train_stumps = pd.read_csv(\"~/Documents/Duke/Cynthia Research/KY-analysis-mytrials/KY Recidivism/KY data/kentucky_train_stumps.csv\")\n",
    "test_stumps = pd.read_csv(\"~/Documents/Duke/Cynthia Research/KY-analysis-mytrials/KY Recidivism/KY data/kentucky_test_stumps.csv\")\n",
    "X_train_stumps, Y_train_stumps = train_stumps.loc[:,:'current_violence>=1'], train_stumps['recid_M_two_year'].values\n",
    "X_test_stumps, Y_test_stumps = test_stumps.loc[:,:'current_violence>=1'], test_stumps['recid_M_two_year'].values\n",
    "Y_train_stumps[Y_train_stumps == -1] = 0\n",
    "Y_test_stumps[Y_test_stumps == -1] = 0"
   ]
  },
  {
   "cell_type": "markdown",
   "metadata": {},
   "source": [
    "#### Nested Cross Validation"
   ]
  },
  {
   "cell_type": "code",
   "execution_count": 12,
   "metadata": {
    "scrolled": true
   },
   "outputs": [
    {
     "name": "stdout",
     "output_type": "stream",
     "text": [
      "model_id, score_thresholds 0 {'rank_abs': [8929]}\n",
      "get_disparity_predefined_group()\n",
      "model_id, score_thresholds 0 {'rank_abs': [8688]}\n",
      "get_disparity_predefined_group()\n"
     ]
    },
    {
     "name": "stderr",
     "output_type": "stream",
     "text": [
      "C:\\Users\\binha\\Documents\\Duke\\Cynthia Research\\psa-analysis - test2\\utils\\fairness_functions.py:86: RuntimeWarning:\n",
      "\n",
      "invalid value encountered in longlong_scalars\n",
      "\n"
     ]
    },
    {
     "name": "stdout",
     "output_type": "stream",
     "text": [
      "model_id, score_thresholds 0 {'rank_abs': [8985]}\n",
      "get_disparity_predefined_group()\n",
      "model_id, score_thresholds 0 {'rank_abs': [9230]}\n",
      "get_disparity_predefined_group()\n",
      "model_id, score_thresholds 0 {'rank_abs': [9217]}\n",
      "get_disparity_predefined_group()\n"
     ]
    },
    {
     "name": "stderr",
     "output_type": "stream",
     "text": [
      "C:\\Users\\binha\\Documents\\Duke\\Cynthia Research\\psa-analysis - test2\\utils\\fairness_functions.py:86: RuntimeWarning:\n",
      "\n",
      "invalid value encountered in longlong_scalars\n",
      "\n"
     ]
    }
   ],
   "source": [
    "stump_summary = stumps.stump_cv(X = X_stumps, \n",
    "                                Y = Y_stumps, \n",
    "                                columns=cols, \n",
    "                                c_grid={'C': [0.001, 0.002, 0.003]}, \n",
    "                                seed = 816)"
   ]
  },
  {
   "cell_type": "code",
   "execution_count": 13,
   "metadata": {},
   "outputs": [
    {
     "data": {
      "text/plain": [
       "([{'C': 0.003}, {'C': 0.003}, {'C': 0.003}, {'C': 0.003}, {'C': 0.003}],\n",
       " 0.6834968667251611,\n",
       " 0.00040384955047689797)"
      ]
     },
     "execution_count": 13,
     "metadata": {},
     "output_type": "execute_result"
    }
   ],
   "source": [
    "stump_summary['best_params'], np.mean(stump_summary['holdout_test_auc']), np.mean(stump_summary['auc_diffs'])"
   ]
  },
  {
   "cell_type": "markdown",
   "metadata": {},
   "source": [
    "##### Best Stump Model"
   ]
  },
  {
   "cell_type": "code",
   "execution_count": 14,
   "metadata": {},
   "outputs": [
    {
     "data": {
      "text/plain": [
       "18"
      ]
     },
     "execution_count": 14,
     "metadata": {},
     "output_type": "execute_result"
    }
   ],
   "source": [
    "best_stump_model = stumps.stump_model(X_train_stumps, \n",
    "                                      Y_train_stumps, \n",
    "                                      X_test_stumps, \n",
    "                                      Y_test_stumps, \n",
    "                                      c=0.003, \n",
    "                                      columns=cols, \n",
    "                                      seed=816)\n",
    "len(best_stump_model['features'])"
   ]
  },
  {
   "cell_type": "markdown",
   "metadata": {},
   "source": [
    "##### Prediction Table"
   ]
  },
  {
   "cell_type": "code",
   "execution_count": 15,
   "metadata": {
    "scrolled": true
   },
   "outputs": [
    {
     "name": "stdout",
     "output_type": "stream",
     "text": [
      "\begin{tabular}{|l|r|r|} \\hline\n",
      "1. sex>=1 & 4.2 & +... \\ \\hline\n",
      "2. age_at_current_charge<=30 & 0.2 & +... \\ \\hline\n",
      "3. age_at_current_charge<=38 & 4.3 & +... \\ \\hline\n",
      "4. p_arrest>=1 & 25.6 & -... \\ \\hline\n",
      "5. p_arrest>=2 & 40.9 & +... \\ \\hline\n",
      "6. p_arrest>=3 & 28.9 & +... \\ \\hline\n",
      "7. p_arrest>=4 & 12.5 & +... \\ \\hline\n",
      "8. p_arrest>=5 & 16.8 & +... \\ \\hline\n",
      "9. p_charges>=1 & 22.1 & -... \\ \\hline\n",
      "10. p_violence>=1 & 9.2 & +... \\ \\hline\n",
      "11. p_misdemeanor>=1 & 14.6 & +... \\ \\hline\n",
      "12. p_misdemeanor>=2 & 6.5 & +... \\ \\hline\n",
      "13. p_misdemeanor>=3 & 6.9 & +... \\ \\hline\n",
      "14. p_stealing>=1 & 7.5 & -... \\ \\hline\n",
      "15. p_prison>=1 & 25.8 & -... \\ \\hline\n",
      "16. p_jail30>=1 & 16.3 & +... \\ \\hline\n",
      "17. p_pending_charge>=1 & 54.8 & +... \\ \\hline\n",
      "18. p_probation>=1 & 17.2 & +... \\ \\hline\n",
      "19. Intercept & -0.238 & +... \\ \\hline\n",
      "\textbf{ADD POINTS FROM ROWS 1 TO 19}  &  \textbf{SCORE} & = ..... \\ \\hline\n",
      "\\multicolumn{3}{l}{Pr(Y = 1) = exp(score/100) / (1 + exp(score/100))} \\ \\hline\n"
     ]
    }
   ],
   "source": [
    "stumps.latex_stump_table(best_stump_model['coefs'], \n",
    "                         best_stump_model['features'], \n",
    "                         best_stump_model['intercept'], \n",
    "                         best_stump_model['dictionary'])"
   ]
  },
  {
   "cell_type": "markdown",
   "metadata": {},
   "source": [
    "##### Stumps Visualizations"
   ]
  },
  {
   "cell_type": "code",
   "execution_count": 16,
   "metadata": {
    "scrolled": true
   },
   "outputs": [
    {
     "data": {
      "image/png": "[encoded data removed]",
      "text/plain": [
       "<Figure size 288x216 with 1 Axes>"
      ]
     },
     "metadata": {
      "needs_background": "light"
     },
     "output_type": "display_data"
    },
    {
     "data": {
      "image/png": "[encoded data removed]",
      "text/plain": [
       "<Figure size 288x216 with 1 Axes>"
      ]
     },
     "metadata": {
      "needs_background": "light"
     },
     "output_type": "display_data"
    },
    {
     "data": {
      "image/png": "[encoded data removed]",
      "text/plain": [
       "<Figure size 288x216 with 1 Axes>"
      ]
     },
     "metadata": {
      "needs_background": "light"
     },
     "output_type": "display_data"
    },
    {
     "data": {
      "image/png": "[encoded data removed]",
      "text/plain": [
       "<Figure size 288x216 with 1 Axes>"
      ]
     },
     "metadata": {
      "needs_background": "light"
     },
     "output_type": "display_data"
    },
    {
     "data": {
      "image/png": "[encoded data removed]",
      "text/plain": [
       "<Figure size 288x216 with 1 Axes>"
      ]
     },
     "metadata": {
      "needs_background": "light"
     },
     "output_type": "display_data"
    },
    {
     "data": {
      "image/png": "[encoded data removed]",
      "text/plain": [
       "<Figure size 288x216 with 1 Axes>"
      ]
     },
     "metadata": {
      "needs_background": "light"
     },
     "output_type": "display_data"
    },
    {
     "data": {
      "image/png": "[encoded data removed]",
      "text/plain": [
       "<Figure size 288x216 with 1 Axes>"
      ]
     },
     "metadata": {
      "needs_background": "light"
     },
     "output_type": "display_data"
    },
    {
     "data": {
      "image/png": "[encoded data removed]",
      "text/plain": [
       "<Figure size 288x216 with 1 Axes>"
      ]
     },
     "metadata": {
      "needs_background": "light"
     },
     "output_type": "display_data"
    },
    {
     "data": {
      "image/png": "[encoded data removed]",
      "text/plain": [
       "<Figure size 288x216 with 1 Axes>"
      ]
     },
     "metadata": {
      "needs_background": "light"
     },
     "output_type": "display_data"
    },
    {
     "data": {
      "image/png": "[encoded data removed]",
      "text/plain": [
       "<Figure size 288x216 with 1 Axes>"
      ]
     },
     "metadata": {
      "needs_background": "light"
     },
     "output_type": "display_data"
    },
    {
     "data": {
      "image/png": "[encoded data removed]",
      "text/plain": [
       "<Figure size 288x216 with 1 Axes>"
      ]
     },
     "metadata": {
      "needs_background": "light"
     },
     "output_type": "display_data"
    }
   ],
   "source": [
    "stumps.stump_plots(best_stump_model['features'], best_stump_model['coefs'], indicator='KY')"
   ]
  },
  {
   "cell_type": "markdown",
   "metadata": {},
   "source": [
    "## RiskSLIM"
   ]
  },
  {
   "cell_type": "code",
   "execution_count": 17,
   "metadata": {},
   "outputs": [],
   "source": [
    "## load stumps data\n",
    "data = pd.read_csv(\"~/Documents/Duke/Cynthia Research/KY-analysis-mytrials/KY Recidivism/KY data/kentucky_stumps.csv\")\n",
    "x, y = data.loc[:,:'current_violence>=1'], data['recid_M_two_year'].values\n",
    "cols = x.columns[3:]"
   ]
  },
  {
   "cell_type": "code",
   "execution_count": 18,
   "metadata": {},
   "outputs": [
    {
     "data": {
      "text/plain": [
       "39"
      ]
     },
     "execution_count": 18,
     "metadata": {},
     "output_type": "execute_result"
    }
   ],
   "source": [
    "## train on best param chosen by Lasso Stumps from above\n",
    "x_train = x.copy().drop(['race', 'person_id', 'screening_date'], axis=1)\n",
    "lasso = LogisticRegression(class_weight='balanced', solver='liblinear', penalty='l1', C=0.01, random_state=816).fit(x_train,y)\n",
    "selected_features = cols[lasso.coef_[0] != 0].tolist()\n",
    "len(selected_features)"
   ]
  },
  {
   "cell_type": "code",
   "execution_count": 19,
   "metadata": {},
   "outputs": [],
   "source": [
    "### Subset features\n",
    "if 'sex>=1' in selected_features:\n",
    "    selected_features = ['recid_M_two_year', 'person_id', 'screening_date', 'race'] + selected_features\n",
    "    indicator = 1\n",
    "else:\n",
    "    selected_features = ['recid_M_two_year', 'person_id', 'screening_date', 'race', 'sex>=1'] + selected_features\n",
    "    indicator = 0\n",
    "\n",
    "sub_data = data[selected_features]\n",
    "sub_X, sub_Y = sub_data.iloc[:,1:], sub_data.iloc[:,0].values\n",
    "sub_X.insert(0, '(Intercept)', 1)"
   ]
  },
  {
   "cell_type": "code",
   "execution_count": 20,
   "metadata": {
    "scrolled": true
   },
   "outputs": [
    {
     "name": "stdout",
     "output_type": "stream",
     "text": [
      "setting c0 = 0.0 to ensure that intercept is not penalized\n",
      "10/01/19 @ 02:17 PM | 1661 rows in lookup table\n",
      "10/01/19 @ 02:17 PM | ------------------------------------------------------------\n",
      "10/01/19 @ 02:17 PM | runnning initialization procedure\n",
      "10/01/19 @ 02:17 PM | ------------------------------------------------------------\n",
      "10/01/19 @ 02:17 PM | CPA produced 2 cuts\n",
      "10/01/19 @ 02:17 PM | running naive rounding on 64 solutions\n",
      "10/01/19 @ 02:17 PM | best objective value: 0.5170\n",
      "10/01/19 @ 02:17 PM | rounding produced 5 integer solutions\n",
      "10/01/19 @ 02:17 PM | best objective value is 0.5344\n",
      "10/01/19 @ 02:17 PM | running sequential rounding on 64 solutions\n",
      "10/01/19 @ 02:17 PM | best objective value: 0.5170\n",
      "10/01/19 @ 02:17 PM | sequential rounding produced 6 integer solutions\n",
      "10/01/19 @ 02:17 PM | best objective value: 0.5317\n",
      "10/01/19 @ 02:17 PM | polishing 11 solutions\n",
      "10/01/19 @ 02:17 PM | best objective value: 0.5317\n",
      "10/01/19 @ 02:17 PM | polishing produced 5 integer solutions\n",
      "10/01/19 @ 02:17 PM | initialization produced 11 feasible solutions\n",
      "10/01/19 @ 02:17 PM | best objective value: 0.5297\n",
      "10/01/19 @ 02:17 PM | ------------------------------------------------------------\n",
      "10/01/19 @ 02:17 PM | completed initialization procedure\n",
      "10/01/19 @ 02:17 PM | ------------------------------------------------------------\n",
      "10/01/19 @ 02:17 PM | 1661 rows in lookup table\n",
      "CPXPARAM_Read_DataCheck                          1\n",
      "CPXPARAM_Threads                                 1\n",
      "CPXPARAM_Parallel                                1\n",
      "CPXPARAM_RandomSeed                              0\n",
      "CPXPARAM_TimeLimit                               200\n",
      "CPXPARAM_MIP_Tolerances_LowerCutoff              0.51185650773618385\n",
      "CPXPARAM_MIP_Tolerances_UpperCutoff              0.52966989115165686\n"
     ]
    },
    {
     "name": "stderr",
     "output_type": "stream",
     "text": [
      "Warning: Control callbacks may disable some MIP features.\n"
     ]
    },
    {
     "name": "stdout",
     "output_type": "stream",
     "text": [
      "Lazy constraint(s) or lazy constraint callback is present.\n",
      "    Disabling dual reductions (CPX_PARAM_REDUCE) in presolve.\n",
      "    Disabling non-linear reductions (CPX_PARAM_PRELINEAR) in presolve.\n",
      "         Disabling repeat represolve because of lazy constraint/incumbent callback.\n",
      "10/01/19 @ 02:17 PM | adding 249 initial cuts\n",
      "1 of 1 MIP starts provided solutions.\n",
      "MIP start 'mip_start_0' defined initial solution with objective 0.5297.\n",
      "Tried aggregator 1 time.\n",
      "Reduced MIP has 41 rows, 82 columns, and 159 nonzeros.\n",
      "Reduced MIP has 39 binaries, 41 generals, 0 SOSs, and 0 indicators.\n",
      "Presolve time = 0.00 sec. (0.10 ticks)\n",
      "Probing time = 0.00 sec. (0.03 ticks)\n",
      "MIP emphasis: balance optimality and feasibility.\n",
      "MIP search method: traditional branch-and-cut.\n",
      "Parallel mode: none, using 1 thread.\n",
      "Root relaxation solution time = 0.00 sec. (0.05 ticks)\n",
      "\n",
      "        Nodes                                         Cuts/\n",
      "   Node  Left     Objective  IInf  Best Integer    Best Bound    ItCnt     Gap         Variable B NodeID Parent  Depth\n",
      "\n",
      "*     0+    0                            0.5297        0.5019             5.25%\n",
      "      0     0        0.5119     1        0.5297        0.5119        1    3.36%\n",
      "      0     0        0.5119     1        0.5297      Fract: 2        3    3.36%\n",
      "      0     0        0.5119     1        0.5297      Fract: 2        5    3.36%\n",
      "      0     2        0.5119     2        0.5297        0.5119        5    3.36%                        0             0\n",
      "Elapsed time = 0.50 sec. (2.70 ticks, tree = 0.01 MB, solutions = 1)\n",
      "   2050  1094        0.5119    12        0.5297        0.5119     9700    3.36%         L0_norm D   2050   2049     35\n",
      "   3392  1707        0.5183    12        0.5297        0.5119    17293    3.36%          rho_20 D   3392   3391     32\n",
      "   4450  2245        0.5274    11        0.5297        0.5119    24331    3.36%           rho_0 D   4450   4448     49\n",
      "   5484  2697        0.5119    13        0.5297        0.5119    30228    3.36%           rho_0 D   5484   5482     66\n",
      "   6488  3173        0.5142    11        0.5297        0.5119    35269    3.36%           rho_9 D   6488   6487     30\n",
      "   7393  3427        cutoff              0.5297        0.5119    40606    3.36%           rho_0 U   7393   7392     26\n",
      "   8260  3892        0.5119    11        0.5297        0.5119    45063    3.36%         L0_norm D   8260   3016     16\n",
      "   9085  4388        cutoff              0.5297        0.5119    49606    3.36%          rho_34 U   9085   9084     41\n",
      "   9916  4870        0.5201     2        0.5297        0.5119    53773    3.36%           rho_0 D   9916   9914     58\n",
      "  13433  6413        0.5137    14        0.5297        0.5119    71792    3.36%          rho_11 U  13433  13431     20\n",
      "Elapsed time = 6.61 sec. (3105.01 ticks, tree = 2.01 MB, solutions = 1)\n",
      "  16910  7762        0.5227    11        0.5297        0.5119    88653    3.36%          rho_17 D  16910  16909     71\n",
      "  19916  9153        cutoff              0.5297        0.5119   108369    3.36%          rho_20 U  19916  19915     28\n",
      "  23476 10166        0.5198    13        0.5297        0.5119   123260    3.36%          rho_25 D  23476  23474     56\n",
      "  26770 11264        0.5229    11        0.5297        0.5119   138093    3.36%          rho_17 U  26770  26768     77\n",
      "  29498 12552        0.5119     2        0.5297        0.5119   156522    3.36%          rho_17 U  29498  29496     61\n",
      "  31879 13683        0.5119    16        0.5297        0.5119   178584    3.36%          rho_17 D  31879  31878     46\n",
      "  34449 14900        0.5131    20        0.5297        0.5119   198718    3.36%          rho_27 D  34449  34448     36\n",
      "  36889 16057        0.5119    14        0.5297        0.5119   219360    3.36%           rho_0 D  36889  36887     79\n",
      "  39283 17035        0.5242    13        0.5297        0.5119   238621    3.36%          rho_18 D  39283  39281     27\n",
      "  41648 18008        0.5194     9        0.5297        0.5119   256849    3.36%           rho_8 U  41648  41647     97\n",
      "Elapsed time = 18.05 sec. (12644.15 ticks, tree = 6.26 MB, solutions = 1)\n",
      "  43968 18898        cutoff              0.5297        0.5119   274161    3.36%           rho_0 U  43968  43967     60\n",
      "  46244 19843        0.5119     6        0.5297        0.5119   293183    3.36%           rho_9 U  46244  46199     60\n",
      "  48670 20880        cutoff              0.5297        0.5119   311121    3.36%           rho_0 U  48670  48669     39\n",
      "  51110 21960        0.5258    14        0.5297        0.5119   330102    3.36%           rho_5 D  51110  51108     77\n",
      "  53670 23059        0.5147    15        0.5297        0.5119   348261    3.36%          rho_39 D  53670  53669     80\n",
      "  56095 24063        cutoff              0.5297        0.5119   366657    3.36%           rho_0 U  56095  56094     23\n",
      "  58803 24731        cutoff              0.5297        0.5119   381627    3.36%           rho_0 U  58803  58801     85\n",
      "  61662 25445        0.5202    11        0.5297        0.5119   394533    3.36%          rho_20 D  61662  61660     67\n",
      "  63880 26355        0.5119    11        0.5297        0.5119   414146    3.36%          rho_17 D  63880  55044     39\n",
      "  66125 27481        0.5146    21        0.5297        0.5119   433871    3.36%          rho_17 D  66125  66124     64\n",
      "Elapsed time = 31.41 sec. (22183.22 ticks, tree = 8.93 MB, solutions = 1)\n",
      "  68393 28588        0.5119     8        0.5297        0.5119   453923    3.36%           rho_9 D  68393  68392     52\n",
      "  70559 29371        0.5258    14        0.5297        0.5119   473149    3.36%           rho_5 D  70559  70557     75\n",
      "  72867 30176        cutoff              0.5297        0.5119   489130    3.36%           rho_8 D  72867  72866     63\n",
      "  74980 30904        0.5202     2        0.5297        0.5119   507546    3.36%           rho_0 D  74980  74978     63\n",
      "  77089 31606        0.5119    17        0.5297        0.5119   525360    3.36%           rho_9 U  77089  45698     50\n",
      "  79484 32174        0.5126    18        0.5297        0.5119   539809    3.36%          rho_17 D  79484  79483     36\n",
      "  82296 32656        cutoff              0.5297        0.5119   553447    3.36%           rho_0 U  82296  82295     42\n",
      "  84460 33526        0.5229    13        0.5297        0.5119   573933    3.36%          rho_15 D  84460  84458     81\n",
      "  86585 34344        0.5286     9        0.5297        0.5119   594303    3.36%          rho_25 D  86585  86584     97\n",
      "  88800 35010        0.5119     2        0.5297        0.5119   611385    3.36%           rho_0 D  88800  88798     46\n",
      "Elapsed time = 44.28 sec. (31722.69 ticks, tree = 12.45 MB, solutions = 1)\n",
      "  90922 35811        0.5119     9        0.5297        0.5119   630102    3.36%          rho_10 U  90922  90900     48\n",
      "  93016 36466        0.5229    13        0.5297        0.5119   648810    3.36%          rho_15 D  93016  93014     79\n",
      "  95420 37141        0.5119    13        0.5297        0.5119   664823    3.36%          rho_24 D  95420  93251     67\n",
      "  97898 38136        cutoff              0.5297        0.5119   682937    3.36%           rho_2 D  97898  97897     79\n",
      " 100069 38926        0.5119    17        0.5297        0.5119   701292    3.36%         L0_norm U 100069 100068     95\n",
      " 102277 39580        0.5287     7        0.5297        0.5119   717515    3.36%          rho_14 D 102277 102275     80\n",
      " 104523 40293        0.5119     6        0.5297        0.5119   734759    3.36%          rho_17 U 104523 104498     65\n",
      " 106880 41104        0.5119    16        0.5297        0.5119   751626    3.36%          rho_17 D 106880 106879     51\n",
      " 109242 41756        0.5119     7        0.5297        0.5119   767466    3.36%           rho_0 D 109242 109240     38\n",
      " 111256 42415        0.5124    19        0.5297        0.5119   784425    3.36%          rho_39 D 111256 111254     93\n",
      "Elapsed time = 58.25 sec. (41262.82 ticks, tree = 14.59 MB, solutions = 1)\n",
      " 113403 43060        0.5140    18        0.5297        0.5119   800405    3.36%           rho_0 D 113403   3836     30\n",
      " 115389 43864        0.5119    21        0.5297        0.5119   818068    3.36%          rho_18 D 115389 115388     84\n",
      " 117507 44650        0.5226    16        0.5297        0.5119   835848    3.36%          rho_20 D 117507 117506     69\n",
      " 119490 45401        0.5119    13        0.5297        0.5119   854766    3.36%          rho_18 D 119490 119489     46\n",
      " 121627 46137        cutoff              0.5297        0.5119   872108    3.36%          rho_34 U 121627 121626     50\n",
      " 123698 47003        cutoff              0.5297        0.5119   890913    3.36%          rho_28 U 123698 123697     40\n",
      " 125715 47833        cutoff              0.5297        0.5119   910357    3.36%          rho_28 U 125715 125714     56\n",
      " 127780 48709        0.5158    20        0.5297        0.5119   929231    3.36%           rho_5 D 127780 127779     58\n",
      " 129847 49603        0.5119    13        0.5297        0.5119   948203    3.36%           rho_7 U 129847  65020     48\n",
      " 132030 50448        0.5174    20        0.5297        0.5119   966396    3.36%          rho_20 D 132030 132029     82\n",
      "Elapsed time = 71.06 sec. (50803.91 ticks, tree = 16.89 MB, solutions = 1)\n",
      " 134220 51306        0.5243    13        0.5297        0.5119   983697    3.36%          rho_24 U 134220 134219     49\n",
      " 136121 51584        0.5242    10        0.5297        0.5119  1002190    3.36%           rho_5 U 136121 129576     63\n",
      " 137971 52080        0.5119    10        0.5297        0.5119  1020862    3.36%         L0_norm D 137971  54571     15\n",
      " 140567 52539        0.5242    10        0.5297        0.5119  1032602    3.36%           rho_5 U 140567 122624     74\n",
      " 142370 52913        0.5119    12        0.5297        0.5119  1050620    3.36%         L0_norm D 142370 142161     15\n",
      " 144270 53517        0.5141    11        0.5297        0.5119  1068316    3.36%           rho_8 D 144270 144269     46\n",
      " 146246 54367        cutoff              0.5297        0.5119  1085675    3.36%          rho_27 U 146246 146245     29\n",
      " 148553 55106        0.5128    20        0.5297        0.5119  1101200    3.36%          rho_17 U 148553 148551     26\n",
      " 151009 56022        cutoff              0.5297        0.5119  1117384    3.36%           rho_4 U 151009 151008     80\n",
      " 152888 56674        0.5126    19        0.5297        0.5119  1136435    3.36%          rho_17 D 152888 152887     46\n",
      "Elapsed time = 82.01 sec. (60348.01 ticks, tree = 18.72 MB, solutions = 1)\n",
      " 155012 57474        0.5287    21        0.5297        0.5119  1152042    3.36%           rho_0 D 155012 155011     23\n",
      " 157174 58242        0.5199    15        0.5297        0.5119  1167649    3.36%           rho_5 D 157174 157172     92\n",
      " 159410 58898        0.5119    11        0.5297        0.5119  1182370    3.36%          rho_17 D 159410 159409     68\n",
      " 161407 59568        0.5260    11        0.5297        0.5119  1195666    3.36%          rho_25 D 161407 161406     72\n",
      " 163299 60439        0.5279    11        0.5297        0.5119  1214766    3.36%          rho_20 D 163299 163298     45\n",
      " 165434 61199        cutoff              0.5297        0.5119  1231155    3.36%          rho_14 U 165434 165433     65\n",
      " 167400 61993        0.5233    20        0.5297        0.5119  1248665    3.36%          rho_25 D 167400 167398     95\n",
      " 169268 62764        cutoff              0.5297        0.5119  1267752    3.36%           rho_0 U 169268 169267     51\n",
      " 171182 63615        0.5247    10        0.5297        0.5119  1287078    3.36%          rho_12 U 171182 171181     77\n",
      " 172851 64309        0.5119    12        0.5297        0.5119  1306709    3.36%          rho_17 U 172851 172849     68\n",
      "Elapsed time = 93.50 sec. (69888.38 ticks, tree = 20.95 MB, solutions = 1)\n",
      " 174443 64927        0.5158    24        0.5297        0.5119  1326678    3.36%          rho_17 D 174443 174442     47\n",
      " 176216 65630        0.5119    10        0.5297        0.5119  1345602    3.36%           rho_0 D 176216 176214     66\n",
      " 178330 66270        0.5119    10        0.5297        0.5119  1360879    3.36%          rho_17 U 178330 178328     69\n",
      " 179833 66919        0.5293     5        0.5297        0.5119  1382378    3.36%          rho_20 N 179833 179832     73\n",
      " 181355 67542        0.5186    17        0.5297        0.5119  1403569    3.36%          rho_18 D 181355 181354     83\n",
      " 182883 68207        0.5277    19        0.5297        0.5119  1424630    3.36%          rho_23 D 182883 182881     34\n",
      " 184834 68750        0.5271    11        0.5297        0.5119  1441658    3.36%          rho_18 D 184834 184833     36\n",
      " 186276 69411        cutoff              0.5297        0.5119  1462812    3.36%           rho_0 U 186276 186275     57\n",
      " 187987 70070        cutoff              0.5297        0.5119  1481528    3.36%           rho_0 D 187987 187985     53\n",
      " 189845 70719        cutoff              0.5297        0.5119  1499542    3.36%          rho_24 U 189845 189844    103\n",
      "Elapsed time = 104.38 sec. (79428.77 ticks, tree = 25.67 MB, solutions = 1)\n",
      " 192342 71281        0.5119    12        0.5297        0.5119  1514158    3.36%          rho_17 U 192342 192340     49\n",
      " 194290 72138        0.5187    17        0.5297        0.5119  1532360    3.36%           rho_4 D 194290 194289     62\n",
      " 196303 72842        0.5124    20        0.5297        0.5119  1549369    3.36%           rho_9 U 196303 105137     81\n",
      " 198278 73492        cutoff              0.5297        0.5119  1566728    3.36%          rho_15 U 198278 198277    106\n",
      " 200271 74165        cutoff              0.5297        0.5119  1583254    3.36%          rho_15 U 200271 200270     94\n",
      " 202171 74728        0.5119    10        0.5297        0.5119  1600533    3.36%          rho_17 U 202171 202163     47\n",
      " 204200 75538        0.5244     3        0.5297        0.5119  1617098    3.36%         L0_norm D 204200 204198     31\n",
      " 206586 76073        cutoff              0.5297        0.5119  1628439    3.36%          rho_25 U 206586 206585     42\n",
      " 209030 77017        0.5119    12        0.5297        0.5119  1642650    3.36%           rho_0 D 209030 209028     53\n",
      " 218040 79963        0.5119     9        0.5297        0.5119  1702676    3.36%           rho_0 D 218040 218038     44\n",
      "Elapsed time = 117.33 sec. (91830.32 ticks, tree = 28.34 MB, solutions = 1)\n",
      " 225668 83229        cutoff              0.5297        0.5119  1770650    3.36%           rho_0 D 225668 225667     61\n",
      " 234000 85988        0.5279    13        0.5297        0.5119  1832060    3.36%          rho_13 U 234000 233998     82\n",
      " 243006 88102        0.5273     1        0.5297        0.5119  1887208    3.36%           rho_0 D 243006 243005     70\n",
      " 251719 91250        0.5205     1        0.5297        0.5119  1946408    3.36%           rho_0 D 251719 251718     68\n",
      " 259443 93774        0.5198    19        0.5297        0.5119  2009095    3.36%          rho_18 D 259443 259440    101\n",
      " 266385 96809        cutoff              0.5297        0.5119  2076887    3.36%          rho_20 U 266385 266384     39\n",
      " 273150 98937        0.5177    22        0.5297        0.5119  2141311    3.36%           rho_7 D 273150 273149     48\n",
      " 279604 101801        0.5154    22        0.5297        0.5119  2215522    3.36%          rho_17 D 279604 279603     74\n",
      " 286686 104611        0.5251    14        0.5297        0.5119  2285125    3.36%          rho_38 D 286686 286685     59\n",
      " 294192 107491        0.5119    11        0.5297        0.5119  2350768    3.36%           rho_0 D 294192 294190     79\n",
      "Elapsed time = 161.70 sec. (129980.88 ticks, tree = 36.40 MB, solutions = 1)\n",
      " 302539 110366        cutoff              0.5297        0.5119  2409926    3.36%           rho_0 U 302539 302538     41\n",
      " 309996 113799        0.5119     8        0.5297        0.5119  2482752    3.36%           rho_0 D 309996 309994     41\n",
      " 318382 116435        0.5178    18        0.5297        0.5119  2542347    3.36%          rho_18 D 318382 318380     66\n",
      " 326143 118766        0.5211    15        0.5297        0.5119  2604503    3.36%          rho_24 U 326143 326142     59\n",
      " 333085 121011        cutoff              0.5297        0.5119  2669933    3.36%          rho_39 U 333085 333084     32\n",
      " 340365 123534        0.5119     4        0.5297        0.5119  2730989    3.36%          rho_17 U 340365 340363     68\n",
      " 347206 126370        cutoff              0.5297        0.5119  2798140    3.36%          rho_39 U 347206 347205     36\n",
      " 353781 128786        0.5241    13        0.5297        0.5119  2862498    3.36%          rho_13 U 353781 353780     64\n",
      " 361263 131531        0.5119    10        0.5297        0.5119  2920741    3.36%           rho_0 D 361263 361261     56\n",
      "\n",
      "Gomory fractional cuts applied:  1\n",
      "User cuts applied:  494\n",
      "\n",
      "Root node processing (before b&c):\n",
      "  Real time             =    0.48 sec. (2.75 ticks)\n",
      "Sequential b&c:\n",
      "  Real time             =  199.53 sec. (166404.83 ticks)\n",
      "                          ------------\n",
      "Total (root+branch&cut) =  200.01 sec. (166407.59 ticks)\n",
      "+----------------------------------------------+------------------+-----------+\n",
      "| Pr(Y = +1) = 1.0/(1.0 + exp(-(-2 + score))   |                  |           |\n",
      "| ============================================ | ================ | ========= |\n",
      "| p_arrest>=2                                  |         1 points |   + ..... |\n",
      "| p_pending_charge>=1                          |         1 points |   + ..... |\n",
      "| ============================================ | ================ | ========= |\n",
      "| ADD POINTS FROM ROWS 1 to 2                  |            SCORE |   = ..... |\n",
      "+----------------------------------------------+------------------+-----------+\n",
      "model_id, score_thresholds 0 {'rank_abs': [0]}\n",
      "get_disparity_predefined_group()\n"
     ]
    },
    {
     "name": "stderr",
     "output_type": "stream",
     "text": [
      "C:\\Users\\binha\\Documents\\Duke\\Cynthia Research\\psa-analysis - test2\\utils\\fairness_functions.py:82: RuntimeWarning:\n",
      "\n",
      "invalid value encountered in longlong_scalars\n",
      "\n",
      "C:\\Users\\binha\\Documents\\Duke\\Cynthia Research\\psa-analysis - test2\\utils\\fairness_functions.py:95: RuntimeWarning:\n",
      "\n",
      "divide by zero encountered in longlong_scalars\n",
      "\n"
     ]
    },
    {
     "name": "stdout",
     "output_type": "stream",
     "text": [
      "setting c0 = 0.0 to ensure that intercept is not penalized\n",
      "10/01/19 @ 02:21 PM | 1661 rows in lookup table\n",
      "10/01/19 @ 02:21 PM | ------------------------------------------------------------\n",
      "10/01/19 @ 02:21 PM | runnning initialization procedure\n",
      "10/01/19 @ 02:21 PM | ------------------------------------------------------------\n",
      "10/01/19 @ 02:21 PM | CPA produced 2 cuts\n",
      "10/01/19 @ 02:21 PM | running naive rounding on 61 solutions\n",
      "10/01/19 @ 02:21 PM | best objective value: 0.5188\n",
      "10/01/19 @ 02:21 PM | rounding produced 5 integer solutions\n",
      "10/01/19 @ 02:21 PM | best objective value is 0.5466\n",
      "10/01/19 @ 02:21 PM | running sequential rounding on 61 solutions\n",
      "10/01/19 @ 02:21 PM | best objective value: 0.5188\n",
      "10/01/19 @ 02:21 PM | sequential rounding produced 6 integer solutions\n",
      "10/01/19 @ 02:21 PM | best objective value: 0.5300\n",
      "10/01/19 @ 02:21 PM | polishing 11 solutions\n",
      "10/01/19 @ 02:21 PM | best objective value: 0.5300\n",
      "10/01/19 @ 02:21 PM | polishing produced 3 integer solutions\n",
      "10/01/19 @ 02:21 PM | initialization produced 12 feasible solutions\n",
      "10/01/19 @ 02:21 PM | best objective value: 0.5300\n",
      "10/01/19 @ 02:21 PM | ------------------------------------------------------------\n",
      "10/01/19 @ 02:21 PM | completed initialization procedure\n",
      "10/01/19 @ 02:21 PM | ------------------------------------------------------------\n",
      "10/01/19 @ 02:21 PM | 1661 rows in lookup table\n",
      "CPXPARAM_Read_DataCheck                          1\n",
      "CPXPARAM_Threads                                 1\n",
      "CPXPARAM_Parallel                                1\n",
      "CPXPARAM_RandomSeed                              0\n",
      "CPXPARAM_TimeLimit                               200\n",
      "CPXPARAM_MIP_Tolerances_LowerCutoff              0.51178834146045871\n",
      "CPXPARAM_MIP_Tolerances_UpperCutoff              0.52995895448787034\n"
     ]
    },
    {
     "name": "stderr",
     "output_type": "stream",
     "text": [
      "Warning: Control callbacks may disable some MIP features.\n"
     ]
    },
    {
     "name": "stdout",
     "output_type": "stream",
     "text": [
      "Lazy constraint(s) or lazy constraint callback is present.\n",
      "    Disabling dual reductions (CPX_PARAM_REDUCE) in presolve.\n",
      "    Disabling non-linear reductions (CPX_PARAM_PRELINEAR) in presolve.\n",
      "         Disabling repeat represolve because of lazy constraint/incumbent callback.\n",
      "10/01/19 @ 02:21 PM | adding 254 initial cuts\n",
      "1 of 1 MIP starts provided solutions.\n",
      "MIP start 'mip_start_0' defined initial solution with objective 0.5300.\n",
      "Tried aggregator 1 time.\n",
      "Reduced MIP has 41 rows, 82 columns, and 159 nonzeros.\n",
      "Reduced MIP has 39 binaries, 41 generals, 0 SOSs, and 0 indicators.\n",
      "Presolve time = 0.02 sec. (0.10 ticks)\n",
      "Probing time = 0.00 sec. (0.03 ticks)\n",
      "MIP emphasis: balance optimality and feasibility.\n",
      "MIP search method: traditional branch-and-cut.\n",
      "Parallel mode: none, using 1 thread.\n",
      "Root relaxation solution time = 0.00 sec. (0.05 ticks)\n",
      "\n",
      "        Nodes                                         Cuts/\n",
      "   Node  Left     Objective  IInf  Best Integer    Best Bound    ItCnt     Gap         Variable B NodeID Parent  Depth\n",
      "\n",
      "*     0+    0                            0.5300        0.5018             5.32%\n",
      "      0     0        0.5118     1        0.5300        0.5118        1    3.43%\n",
      "      0     0        0.5118     1        0.5300      Fract: 2        3    3.43%\n",
      "      0     0        0.5118     1        0.5300      Fract: 2        5    3.43%\n",
      "      0     2        0.5118     2        0.5300        0.5118        5    3.43%                        0             0\n",
      "Elapsed time = 0.20 sec. (2.70 ticks, tree = 0.01 MB, solutions = 1)\n",
      "   2003  1161        cutoff              0.5300        0.5118    10327    3.43%         L0_norm D   2003   2002     21\n",
      "   3190  1728        0.5267     0        0.5300        0.5118    18022    3.43%          rho_26 D   3190   3188     37\n",
      "   4378  2263        cutoff              0.5300        0.5118    23412    3.43%          rho_14 U   4378   4376     21\n",
      "   5360  2615        0.5148    10        0.5300        0.5118    29629    3.43%          rho_17 D   5360   5359     54\n",
      "   6338  2977        cutoff              0.5300        0.5118    35228    3.43%           rho_0 U   6338   6337     45\n",
      "   7230  3302        0.5218    24        0.5300        0.5118    40893    3.43%          rho_11 D   7230   7229     15\n",
      "   8120  3674        cutoff              0.5300        0.5118    46142    3.43%          rho_34 D   8120   8119     22\n",
      "   9050  3942        0.5171     1        0.5300        0.5118    50565    3.43%           rho_0 D   9050   9049     79\n",
      "   9927  4267        0.5129    20        0.5300        0.5118    55115    3.43%          rho_17 U   9927   9925     40\n",
      "  13820  5350        0.5160     1        0.5300        0.5118    72897    3.43%           rho_0 D  13820  13819     96\n",
      "Elapsed time = 9.89 sec. (3104.69 ticks, tree = 1.72 MB, solutions = 1)\n",
      "  17045  6639        cutoff              0.5300        0.5118    91578    3.43%           rho_4 U  17045  17044     69\n",
      "  19950  8062        0.5118    17        0.5300        0.5118   111511    3.43%          rho_17 D  19950  19949     23\n",
      "  22780  9133        0.5118    14        0.5300        0.5118   129552    3.43%           rho_9 D  22780  22779     27\n",
      "  25360 10089        0.5274     9        0.5300        0.5118   147618    3.43%          rho_16 D  25360  25359     35\n",
      "  27970 10956        0.5119     2        0.5300        0.5118   163549    3.43%           rho_0 D  27970  27968     46\n",
      "  30977 11541        0.5210    13        0.5300        0.5118   175728    3.43%          rho_17 U  30977  30975     68\n",
      "  33302 12463        0.5176    17        0.5300        0.5118   192268    3.43%          rho_17 D  33302  33301     75\n",
      "  35705 13454        0.5145     2        0.5300        0.5118   210011    3.43%          rho_17 U  35705  35704     28\n",
      "  38193 14182        0.5288     7        0.5300        0.5118   224117    3.43%          rho_26 D  38193  38191     80\n",
      "  40690 15182        cutoff              0.5300        0.5118   241444    3.43%          rho_28 U  40690  40688     64\n",
      "Elapsed time = 26.25 sec. (12644.66 ticks, tree = 4.87 MB, solutions = 1)\n",
      "  43190 16198        0.5221    13        0.5300        0.5118   258661    3.43%           rho_3 D  43190  43189     51\n",
      "  45442 17086        0.5275    12        0.5300        0.5118   274811    3.43%          rho_35 D  45442  45441     67\n",
      "  47720 17852        0.5118     6        0.5300        0.5118   290805    3.43%           rho_0 D  47720  47718     43\n",
      "  50021 18468        cutoff              0.5300        0.5118   305493    3.43%          rho_39 U  50021  50020     85\n",
      "  52391 19266        0.5175    13        0.5300        0.5118   320480    3.43%          rho_20 D  52391  52390     25\n",
      "  55010 20398        0.5118     9        0.5300        0.5118   335691    3.43%          rho_17 U  55010  54991     55\n",
      "  57346 21534        0.5260     9        0.5300        0.5118   350603    3.43%          rho_26 D  57346  57344     58\n",
      "  59850 22760        0.5118    10        0.5300        0.5118   364713    3.43%           rho_0 D  59850  59848     79\n",
      "  62358 23790        0.5142    17        0.5300        0.5118   380457    3.43%          rho_18 D  62358  62357     48\n",
      "  64669 24725        0.5260    13        0.5300        0.5118   394087    3.43%          rho_27 D  64669  64668    100\n",
      "Elapsed time = 40.84 sec. (22184.93 ticks, tree = 8.35 MB, solutions = 1)\n",
      "  66256 25353        0.5127    13        0.5300        0.5118   415282    3.43%          rho_17 D  66256  66246     58\n",
      "  68074 26031        0.5121    11        0.5300        0.5118   434023    3.43%          rho_17 D  68074  15953     23\n",
      "  70166 26732        0.5124    15        0.5300        0.5118   448704    3.43%          rho_17 D  70166  70165     67\n",
      "  72350 27412        0.5118    10        0.5300        0.5118   464986    3.43%          rho_17 U  72350  72348     51\n",
      "  74142 27907        0.5202    19        0.5300        0.5118   484925    3.43%           rho_5 D  74142  74140     67\n",
      "  76040 28441        0.5149     1        0.5300        0.5118   503813    3.43%          rho_17 U  76040  76038     82\n",
      "  78174 29294        0.5118    10        0.5300        0.5118   519359    3.43%           rho_0 D  78174  78172     68\n",
      "  80367 30043        0.5141    15        0.5300        0.5118   534992    3.43%          rho_17 D  80367  80366     43\n",
      "  82481 30864        0.5118    10        0.5300        0.5118   552172    3.43%          rho_17 U  82481  82479     62\n",
      "  84746 31706        cutoff              0.5300        0.5118   567572    3.43%           rho_0 U  84746  84745     78\n",
      "Elapsed time = 52.33 sec. (31726.43 ticks, tree = 10.42 MB, solutions = 1)\n",
      "  86637 32303        cutoff              0.5300        0.5118   585480    3.43%           rho_0 U  86637  86636     43\n",
      "  88204 33103        0.5118    13        0.5300        0.5118   606550    3.43%          rho_10 D  88204  88202     20\n",
      "  90740 33694        0.5282     7        0.5300        0.5118   618102    3.43%          rho_38 D  90740  90738     38\n",
      "  93068 34357        cutoff              0.5300        0.5118   632402    3.43%           rho_0 U  93068  93067     31\n",
      "  95076 35107        0.5164    12        0.5300        0.5118   647393    3.43%          rho_20 D  95076  95075     68\n",
      "  97060 35759        0.5118     8        0.5300        0.5118   662655    3.43%           rho_0 D  97060  97058     41\n",
      "  98910 36438        0.5241    13        0.5300        0.5118   679982    3.43%          rho_18 D  98910  98908     57\n",
      " 101070 37105        0.5233    13        0.5300        0.5118   693353    3.43%          rho_20 D 101070 101069     83\n",
      " 103131 37761        cutoff              0.5300        0.5118   707592    3.43%          rho_38 D 103131 103129     92\n",
      " 104871 38438        cutoff              0.5300        0.5118   725760    3.43%           rho_0 U 104871 104870     90\n",
      "Elapsed time = 67.78 sec. (41268.99 ticks, tree = 13.80 MB, solutions = 1)\n",
      " 106562 39167        cutoff              0.5300        0.5118   744191    3.43%          rho_16 D 106562 106560     37\n",
      " 108724 40001        cutoff              0.5300        0.5118   759899    3.43%           rho_0 U 108724 108723     57\n",
      " 110632 40746        0.5230     8        0.5300        0.5118   774405    3.43%           rho_6 D 110632 110630     23\n",
      " 112686 41326        0.5118    13        0.5300        0.5118   787866    3.43%           rho_0 D 112686 112684     36\n",
      " 114901 41823        0.5139    17        0.5300        0.5118   800508    3.43%         L0_norm U 114901 114899     24\n",
      " 116713 42379        0.5118    12        0.5300        0.5118   815657    3.43%          rho_24 D 116713 116352     30\n",
      " 118312 42891        0.5278    10        0.5300        0.5118   833095    3.43%          rho_11 U 118312 118217     51\n",
      " 120075 43360        cutoff              0.5300        0.5118   848580    3.43%          rho_27 U 120075 120074     48\n",
      " 121951 43921        cutoff              0.5300        0.5118   863474    3.43%          rho_20 U 121951 121950     43\n",
      " 123866 44445        0.5136     1        0.5300        0.5118   878932    3.43%           rho_0 D 123866 123864     62\n",
      "Elapsed time = 79.74 sec. (50808.35 ticks, tree = 15.59 MB, solutions = 1)\n",
      " 126083 44781        0.5299     1        0.5300        0.5118   890906    3.43%          rho_18 U 126083 126082     75\n",
      " 128000 45276        0.5252    11        0.5300        0.5118   905759    3.43%          rho_25 D 128000 127999     70\n",
      " 129895 45943        cutoff              0.5300        0.5118   921199    3.43%           rho_0 U 129895 129894     23\n",
      " 131748 46584        cutoff              0.5300        0.5118   936383    3.43%           rho_0 U 131748 131747     38\n",
      " 133883 47260        0.5170     1        0.5300        0.5118   948649    3.43%          rho_17 U 133883 133881     67\n",
      " 136346 47569        cutoff              0.5300        0.5118   959715    3.43%           rho_0 U 136346 136345     47\n",
      " 139040 48200        0.5136     1        0.5300        0.5118   971469    3.43%          rho_17 U 139040 139039     42\n",
      " 141259 48920        cutoff              0.5300        0.5118   985449    3.43%          rho_16 U 141259 141258     49\n",
      " 143245 49662        0.5229    16        0.5300        0.5118  1001359    3.43%          rho_27 D 143245 143244     70\n",
      " 145259 50397        0.5118     2        0.5300        0.5118  1017279    3.43%           rho_0 D 145259 145258     79\n",
      "Elapsed time = 90.38 sec. (60348.95 ticks, tree = 17.35 MB, solutions = 1)\n",
      " 147618 51136        0.5118     8        0.5300        0.5118  1030058    3.43%          rho_17 U 147618 147616     37\n",
      " 149608 51914        0.5118    15        0.5300        0.5118  1045084    3.43%          rho_17 D 149608 147144     39\n",
      " 151936 52619        cutoff              0.5300        0.5118  1058300    3.43%          rho_28 U 151936 151934     50\n",
      " 154103 53290        0.5251     1        0.5300        0.5118  1072782    3.43%           rho_7 U 154103 154102     44\n",
      " 155876 54168        0.5283    10        0.5300        0.5118  1089531    3.43%          rho_26 D 155876 155874     49\n",
      " 157753 54975        0.5118    15        0.5300        0.5118  1104727    3.43%          rho_17 U 157753 157751     60\n",
      " 159812 55821        0.5139    16        0.5300        0.5118  1119176    3.43%          rho_13 U 159812 159810     65\n",
      " 162450 56425        0.5118    14        0.5300        0.5118  1132878    3.43%          rho_17 U 162450 162448     44\n",
      " 164565 57176        0.5118    10        0.5300        0.5118  1147327    3.43%           rho_0 D 164565 164563     80\n",
      " 166809 58032        0.5123    13        0.5300        0.5118  1160078    3.43%          rho_17 D 166809 166808     57\n",
      "Elapsed time = 101.95 sec. (69889.02 ticks, tree = 19.65 MB, solutions = 1)\n",
      " 169110 58762        0.5125     1        0.5300        0.5118  1172205    3.43%          rho_17 U 169110 169108     62\n",
      " 171400 59655        cutoff              0.5300        0.5118  1185845    3.43%          rho_28 U 171400 171398     77\n",
      " 173731 60320        cutoff              0.5300        0.5118  1198711    3.43%           rho_0 U 173731 173730     47\n",
      " 176022 61067        0.5232    11        0.5300        0.5118  1212008    3.43%          rho_25 D 176022 176021     55\n",
      " 178310 61795        0.5118    13        0.5300        0.5118  1225132    3.43%          rho_39 D 178310 178309     42\n",
      " 180639 62477        0.5220     1        0.5300        0.5118  1238034    3.43%           rho_9 U 180639 180638     57\n",
      " 182950 63169        0.5263    11        0.5300        0.5118  1251182    3.43%          rho_26 D 182950 182949     46\n",
      " 185134 63768        0.5288    15        0.5300        0.5118  1264351    3.43%           rho_4 D 185134 185132     41\n",
      " 186925 64297        cutoff              0.5300        0.5118  1280425    3.43%          rho_16 U 186925 186924     57\n",
      " 188962 64941        cutoff              0.5300        0.5118  1294564    3.43%           rho_3 U 188962 188961     51\n",
      "Elapsed time = 111.80 sec. (79428.81 ticks, tree = 21.72 MB, solutions = 1)\n",
      " 191025 65597        0.5118    10        0.5300        0.5118  1308217    3.43%           rho_9 U 191025 190717     59\n",
      " 193122 66109        0.5136    17        0.5300        0.5118  1322179    3.43%          rho_39 D 193122 193120     56\n",
      " 195153 66635        cutoff              0.5300        0.5118  1336856    3.43%          rho_27 U 195153 195151     55\n",
      " 197160 67228        0.5118    11        0.5300        0.5118  1351225    3.43%          rho_10 D 197160 197159     33\n",
      " 199250 68131        0.5118    11        0.5300        0.5118  1364438    3.43%          rho_17 D 199250 199249     55\n",
      " 201389 68773        0.5277    11        0.5300        0.5118  1376587    3.43%          rho_38 D 201389 201387     57\n",
      " 203279 69615        0.5287     7        0.5300        0.5118  1391276    3.43%          rho_38 D 203279 203277     37\n",
      " 205364 70389        0.5138    18        0.5300        0.5118  1404835    3.43%           rho_5 D 205364 205363     54\n",
      " 207781 70945        0.5133    16        0.5300        0.5118  1414939    3.43%           rho_0 D 207781 207779     51\n",
      " 216237 73500        0.5193    18        0.5300        0.5118  1466263    3.43%           rho_9 D 216237 216236     66\n",
      "Elapsed time = 126.75 sec. (91830.56 ticks, tree = 27.13 MB, solutions = 1)\n",
      " 224801 76088        cutoff              0.5300        0.5118  1511725    3.43%          rho_20 U 224801 224800     50\n",
      " 233560 77816        0.5248    16        0.5300        0.5118  1564441    3.43%          rho_14 D 233560 233558     45\n",
      " 240239 80423        0.5264    12        0.5300        0.5118  1625486    3.43%          rho_26 D 240239 240237     62\n",
      " 247243 82897        0.5281    11        0.5300        0.5118  1684850    3.43%          rho_39 U 247243 247241     45\n",
      " 254440 85479        0.5156    17        0.5300        0.5118  1751813    3.43%           rho_0 D 254440 254438     69\n",
      " 261512 87743        0.5118    14        0.5300        0.5118  1809911    3.43%          rho_10 U 261512 128822     25\n",
      " 268472 90040        cutoff              0.5300        0.5118  1869005    3.43%           rho_0 U 268472 268471     58\n",
      " 274780 92153        0.5118    10        0.5300        0.5118  1928929    3.43%          rho_17 U 274780 274778     64\n",
      " 281823 94348        0.5186    14        0.5300        0.5118  1983538    3.43%           rho_6 U 281823 281820     60\n",
      " 290164 95903        0.5170    15        0.5300        0.5118  2028971    3.43%          rho_39 D 290164 290162     42\n",
      "Elapsed time = 168.38 sec. (129984.32 ticks, tree = 34.00 MB, solutions = 1)\n",
      " 298129 97937        cutoff              0.5300        0.5118  2078701    3.43%           rho_0 U 298129 298128     57\n",
      " 305180 100266        0.5118     9        0.5300        0.5118  2131341    3.43%          rho_17 U 305180 305178     62\n",
      " 311558 102065        0.5118    10        0.5300        0.5118  2191310    3.43%           rho_0 D 311558 311556     60\n",
      " 316276 104404        0.5133    25        0.5300        0.5118  2263113    3.43%          rho_18 D 316276 316275     36\n",
      " 322615 106985        0.5275    13        0.5300        0.5118  2320887    3.43%          rho_20 U 322615 322614     76\n",
      " 330116 108896        cutoff              0.5300        0.5118  2368117    3.43%          rho_18 U 330116 330115     55\n",
      " 337090 111040        0.5122    14        0.5300        0.5118  2416322    3.43%           rho_0 D 337090 337088     38\n",
      " 343909 113945        0.5186    15        0.5300        0.5118  2470420    3.43%           rho_4 D 343909 343908     50\n",
      "\n",
      "Gomory fractional cuts applied:  1\n",
      "User cuts applied:  543\n",
      "\n",
      "Root node processing (before b&c):\n",
      "  Real time             =    0.19 sec. (2.77 ticks)\n",
      "Sequential b&c:\n",
      "  Real time             =  199.83 sec. (160611.90 ticks)\n",
      "                          ------------\n",
      "Total (root+branch&cut) =  200.02 sec. (160614.67 ticks)\n",
      "+----------------------------------------------+------------------+-----------+\n",
      "| Pr(Y = +1) = 1.0/(1.0 + exp(-(-2 + score))   |                  |           |\n",
      "| ============================================ | ================ | ========= |\n",
      "| p_arrest>=2                                  |         1 points |   + ..... |\n",
      "| p_pending_charge>=1                          |         1 points |   + ..... |\n",
      "| ============================================ | ================ | ========= |\n",
      "| ADD POINTS FROM ROWS 1 to 2                  |            SCORE |   = ..... |\n",
      "+----------------------------------------------+------------------+-----------+\n",
      "model_id, score_thresholds 0 {'rank_abs': [0]}\n",
      "get_disparity_predefined_group()\n"
     ]
    },
    {
     "name": "stderr",
     "output_type": "stream",
     "text": [
      "C:\\Users\\binha\\Documents\\Duke\\Cynthia Research\\psa-analysis - test2\\utils\\fairness_functions.py:82: RuntimeWarning:\n",
      "\n",
      "invalid value encountered in longlong_scalars\n",
      "\n",
      "C:\\Users\\binha\\Documents\\Duke\\Cynthia Research\\psa-analysis - test2\\utils\\fairness_functions.py:95: RuntimeWarning:\n",
      "\n",
      "divide by zero encountered in longlong_scalars\n",
      "\n",
      "C:\\Users\\binha\\Documents\\Duke\\Cynthia Research\\psa-analysis - test2\\utils\\fairness_functions.py:86: RuntimeWarning:\n",
      "\n",
      "invalid value encountered in longlong_scalars\n",
      "\n",
      "C:\\Users\\binha\\Documents\\Duke\\Cynthia Research\\psa-analysis - test2\\utils\\fairness_functions.py:95: RuntimeWarning:\n",
      "\n",
      "invalid value encountered in longlong_scalars\n",
      "\n"
     ]
    },
    {
     "name": "stdout",
     "output_type": "stream",
     "text": [
      "setting c0 = 0.0 to ensure that intercept is not penalized\n",
      "10/01/19 @ 02:24 PM | 1661 rows in lookup table\n",
      "10/01/19 @ 02:24 PM | ------------------------------------------------------------\n",
      "10/01/19 @ 02:24 PM | runnning initialization procedure\n",
      "10/01/19 @ 02:24 PM | ------------------------------------------------------------\n",
      "10/01/19 @ 02:24 PM | CPA produced 2 cuts\n",
      "10/01/19 @ 02:24 PM | running naive rounding on 70 solutions\n",
      "10/01/19 @ 02:24 PM | best objective value: 0.5164\n",
      "10/01/19 @ 02:24 PM | rounding produced 5 integer solutions\n",
      "10/01/19 @ 02:24 PM | best objective value is 0.5300\n",
      "10/01/19 @ 02:24 PM | running sequential rounding on 70 solutions\n",
      "10/01/19 @ 02:24 PM | best objective value: 0.5164\n",
      "10/01/19 @ 02:24 PM | sequential rounding produced 6 integer solutions\n",
      "10/01/19 @ 02:24 PM | best objective value: 0.5289\n",
      "10/01/19 @ 02:24 PM | polishing 11 solutions\n",
      "10/01/19 @ 02:24 PM | best objective value: 0.5289\n",
      "10/01/19 @ 02:24 PM | polishing produced 3 integer solutions\n",
      "10/01/19 @ 02:24 PM | initialization produced 12 feasible solutions\n",
      "10/01/19 @ 02:24 PM | best objective value: 0.5288\n",
      "10/01/19 @ 02:24 PM | ------------------------------------------------------------\n",
      "10/01/19 @ 02:24 PM | completed initialization procedure\n",
      "10/01/19 @ 02:24 PM | ------------------------------------------------------------\n",
      "10/01/19 @ 02:24 PM | 1661 rows in lookup table\n",
      "CPXPARAM_Read_DataCheck                          1\n",
      "CPXPARAM_Threads                                 1\n",
      "CPXPARAM_Parallel                                1\n",
      "CPXPARAM_RandomSeed                              0\n",
      "CPXPARAM_TimeLimit                               200\n",
      "CPXPARAM_MIP_Tolerances_LowerCutoff              0.51148134170308834\n",
      "CPXPARAM_MIP_Tolerances_UpperCutoff              0.52880443667259658\n"
     ]
    },
    {
     "name": "stderr",
     "output_type": "stream",
     "text": [
      "Warning: Control callbacks may disable some MIP features.\n"
     ]
    },
    {
     "name": "stdout",
     "output_type": "stream",
     "text": [
      "Lazy constraint(s) or lazy constraint callback is present.\n",
      "    Disabling dual reductions (CPX_PARAM_REDUCE) in presolve.\n",
      "    Disabling non-linear reductions (CPX_PARAM_PRELINEAR) in presolve.\n",
      "         Disabling repeat represolve because of lazy constraint/incumbent callback.\n",
      "10/01/19 @ 02:24 PM | adding 250 initial cuts\n",
      "1 of 1 MIP starts provided solutions.\n",
      "MIP start 'mip_start_0' defined initial solution with objective 0.5288.\n",
      "Tried aggregator 1 time.\n",
      "Reduced MIP has 41 rows, 82 columns, and 159 nonzeros.\n",
      "Reduced MIP has 39 binaries, 41 generals, 0 SOSs, and 0 indicators.\n",
      "Presolve time = 0.00 sec. (0.10 ticks)\n",
      "Probing time = 0.00 sec. (0.03 ticks)\n",
      "MIP emphasis: balance optimality and feasibility.\n",
      "MIP search method: traditional branch-and-cut.\n",
      "Parallel mode: none, using 1 thread.\n",
      "Root relaxation solution time = 0.00 sec. (0.05 ticks)\n",
      "\n",
      "        Nodes                                         Cuts/\n",
      "   Node  Left     Objective  IInf  Best Integer    Best Bound    ItCnt     Gap         Variable B NodeID Parent  Depth\n",
      "\n",
      "*     0+    0                            0.5288        0.5015             5.17%\n",
      "      0     0        0.5115     1        0.5288        0.5115        1    3.28%\n",
      "      0     0        0.5115     1        0.5288      Fract: 2        3    3.28%\n",
      "      0     0        0.5115     1        0.5288      Fract: 2        5    3.28%\n",
      "      0     2        0.5115     2        0.5288        0.5115        5    3.28%                        0             0\n",
      "Elapsed time = 0.16 sec. (2.71 ticks, tree = 0.01 MB, solutions = 1)\n",
      "   1836  1000        0.5187     5        0.5288        0.5115     9322    3.28%          rho_16 D   1836   1835     30\n",
      "   3002  1484        0.5197    11        0.5288        0.5115    17159    3.28%        alpha_16 U   3002     37     24\n",
      "   3971  1905        0.5259     6        0.5288        0.5115    23789    3.28%           rho_0 U   3971   3970     15\n",
      "   4820  2313        0.5115    15        0.5288        0.5115    29451    3.28%         L0_norm U   4820   4819     18\n",
      "   5691  2648        0.5120    18        0.5288        0.5115    35084    3.28%         L0_norm U   5691   5688     21\n",
      "   6503  2949        0.5115     8        0.5288        0.5115    40920    3.28%          rho_10 D   6503   6502     39\n",
      "   7170  3276        0.5220     1        0.5288        0.5115    47284    3.28%           rho_0 D   7170   7169     75\n",
      "   7920  3744        0.5279     6        0.5288        0.5115    52223    3.28%          rho_25 D   7920   7919     38\n",
      "   8628  4029        0.5116    18        0.5288        0.5115    57914    3.28%           rho_0 U   8628   8627     17\n",
      "  11980  5596        0.5176     7        0.5288        0.5115    78829    3.28%          rho_16 D  11980  11978     47\n",
      "Elapsed time = 5.03 sec. (3105.64 ticks, tree = 1.78 MB, solutions = 1)\n",
      "  15268  6711        0.5223     5        0.5288        0.5115    96659    3.28%           rho_3 U  15268  15267     41\n",
      "  18403  7828        0.5132    14        0.5288        0.5115   116047    3.28%          rho_22 U  18403   1588     18\n",
      "  21090  8850        0.5118    10        0.5288        0.5115   136735    3.28%          rho_17 U  21090  10601     38\n",
      "  24011  9862        0.5225    11        0.5288        0.5115   154832    3.28%          rho_39 D  24011  24009     37\n",
      "  26923 11109        0.5140    15        0.5288        0.5115   172021    3.28%          rho_17 D  26923  26922    104\n",
      "  29635 12073        0.5126     9        0.5288        0.5115   188669    3.28%           rho_0 D  29635  29633     33\n",
      "  32663 12767        0.5184    16        0.5288        0.5115   204384    3.28%          rho_20 D  32663  32662     45\n",
      "  35496 13603        cutoff              0.5288        0.5115   220625    3.28%          rho_20 U  35496  35495     50\n",
      "  38173 14787        0.5162    10        0.5288        0.5115   237658    3.28%           rho_9 D  38173  38172     22\n",
      "  40560 15813        0.5115     7        0.5288        0.5115   254716    3.28%         L0_norm D  40560  40543     21\n",
      "Elapsed time = 15.89 sec. (12646.41 ticks, tree = 4.99 MB, solutions = 1)\n",
      "  43580 16803        0.5121    20        0.5288        0.5115   269386    3.28%          rho_17 D  43580  43579     80\n",
      "  45883 17667        0.5161     1        0.5288        0.5115   286158    3.28%           rho_9 D  45883  45882     66\n",
      "  48480 18324        0.5115    15        0.5288        0.5115   300244    3.28%          rho_10 U  48480  48479     17\n",
      "  50747 19642        cutoff              0.5288        0.5115   317475    3.28%           rho_0 U  50747  50746     74\n",
      "  52649 20574        0.5255    10        0.5288        0.5115   338477    3.28%          rho_14 D  52649  52648     69\n",
      "  54617 21473        0.5244    11        0.5288        0.5115   359133    3.28%           rho_8 U  54617  54616     21\n",
      "  57065 22188        0.5209     9        0.5288        0.5115   373969    3.28%          rho_39 D  57065  57063     64\n",
      "  59670 22844        0.5204    14        0.5288        0.5115   386904    3.28%           rho_5 D  59670  59669     64\n",
      "  62477 23277        cutoff              0.5288        0.5115   396816    3.28%          rho_17 D  62477  62476     66\n",
      "  64950 24010        0.5115    12        0.5288        0.5115   411289    3.28%           rho_0 D  64950  64948     37\n",
      "Elapsed time = 25.88 sec. (22187.75 ticks, tree = 8.06 MB, solutions = 1)\n",
      "  67402 24904        0.5124    10        0.5288        0.5115   425485    3.28%           rho_8 U  67402  67151     22\n",
      "  70166 25469        0.5115     2        0.5288        0.5115   439495    3.28%          rho_17 U  70166  70164     75\n",
      "  72658 26173        0.5131    16        0.5288        0.5115   454364    3.28%          rho_20 D  72658  72657     38\n",
      "  74794 27084        cutoff              0.5288        0.5115   471517    3.28%           rho_0 U  74794  74793     31\n",
      "  76805 27981        0.5115    13        0.5288        0.5115   489353    3.28%           rho_0 D  76805  76803     46\n",
      "  78796 28915        0.5197    11        0.5288        0.5115   506880    3.28%           rho_0 D  78796  78794     41\n",
      "  81255 29747        0.5220    13        0.5288        0.5115   521546    3.28%          rho_39 D  81255  81253     60\n",
      "  83390 30598        0.5166    17        0.5288        0.5115   541068    3.28%           rho_5 D  83390  83389     90\n",
      "  85386 31433        cutoff              0.5288        0.5115   561266    3.28%          rho_35 D  85386  85385     39\n",
      "  87570 32352        0.5259     9        0.5288        0.5115   576475    3.28%           rho_0 U  87570  87569     82\n",
      "Elapsed time = 35.38 sec. (31727.63 ticks, tree = 10.48 MB, solutions = 1)\n",
      "  90059 33117        0.5115     5        0.5288        0.5115   591305    3.28%          rho_17 U  90059  90057     72\n",
      "  92327 33845        0.5115    18        0.5288        0.5115   606051    3.28%           rho_9 D  92327  90834     37\n",
      "  94667 34599        0.5154    21        0.5288        0.5115   621727    3.28%           rho_9 D  94667  94665     63\n",
      "  96891 35307        0.5115    12        0.5288        0.5115   636075    3.28%           rho_0 D  96891  96889     35\n",
      "  98921 36214        0.5164    21        0.5288        0.5115   652382    3.28%          rho_11 D  98921  98920     24\n",
      " 100882 36986        0.5125    22        0.5288        0.5115   669629    3.28%          rho_17 D 100882 100881     66\n",
      " 102655 37644        0.5210    14        0.5288        0.5115   687734    3.28%          rho_23 D 102655 102653     58\n",
      " 104446 38274        0.5224    11        0.5288        0.5115   705911    3.28%          rho_37 U 104446 104444     86\n",
      " 106474 38903        0.5245    13        0.5288        0.5115   722082    3.28%          rho_38 D 106474 106472     59\n",
      " 108895 39555        0.5235    13        0.5288        0.5115   734594    3.28%          rho_38 D 108895 108893     47\n",
      "Elapsed time = 44.59 sec. (41269.15 ticks, tree = 13.98 MB, solutions = 1)\n",
      " 111000 40337        0.5166    18        0.5288        0.5115   749511    3.28%           rho_0 U 111000 110999     24\n",
      " 113055 40971        cutoff              0.5288        0.5115   765189    3.28%          rho_17 U 113055 113054     38\n",
      " 115150 41725        0.5115    13        0.5288        0.5115   779615    3.28%          rho_37 D 115150 115149     36\n",
      " 117141 42382        0.5282     7        0.5288        0.5115   795348    3.28%           rho_4 D 117141 117140     37\n",
      " 119173 43037        0.5170    20        0.5288        0.5115   811684    3.28%          rho_11 U 119173 118704     26\n",
      " 121133 43674        0.5115    15        0.5288        0.5115   828206    3.28%          rho_17 U 121133 121131     51\n",
      " 122948 44195        0.5220    16        0.5288        0.5115   845233    3.28%           rho_4 D 122948 122947     41\n",
      " 124745 44865        0.5149    13        0.5288        0.5115   862441    3.28%           rho_0 U 124745 124744     28\n",
      " 126954 45416        0.5223     9        0.5288        0.5115   876127    3.28%          rho_23 D 126954 126952     36\n",
      " 129328 46098        0.5154    11        0.5288        0.5115   888185    3.28%           rho_4 D 129328 129326     33\n",
      "Elapsed time = 53.44 sec. (50811.23 ticks, tree = 15.91 MB, solutions = 1)\n",
      " 131689 46737        0.5124    13        0.5288        0.5115   900917    3.28%           rho_8 D 131689 131688     34\n",
      " 133892 47363        0.5120    16        0.5288        0.5115   915262    3.28%         L0_norm U 133892 133891     43\n",
      " 136226 48028        0.5120    16        0.5288        0.5115   927949    3.28%         L0_norm U 136226 136055     59\n",
      " 138595 48665        0.5263    11        0.5288        0.5115   940629    3.28%          rho_16 D 138595 138593     53\n",
      " 140290 49346        0.5261    14        0.5288        0.5115   959254    3.28%          rho_30 D 140290 140288     77\n",
      " 142012 50010        0.5155    12        0.5288        0.5115   977237    3.28%           rho_6 D 142012 142010     54\n",
      " 144165 50683        0.5272     7        0.5288        0.5115   992678    3.28%           rho_2 D 144165 144164     57\n",
      " 146246 51422        0.5263    12        0.5288        0.5115  1008647    3.28%          rho_18 D 146246 146244     29\n",
      " 148097 52050        0.5255    12        0.5288        0.5115  1024876    3.28%          rho_16 D 148097 148095     77\n",
      " 149973 52846        0.5115    12        0.5288        0.5115  1042718    3.28%           rho_0 D 149973 149971     72\n",
      "Elapsed time = 61.89 sec. (60350.84 ticks, tree = 17.91 MB, solutions = 1)\n",
      " 151760 53553        0.5115    12        0.5288        0.5115  1059301    3.28%          rho_17 U 151760   9020     21\n",
      " 154417 54333        cutoff              0.5288        0.5115  1073900    3.28%           rho_0 U 154417 154416     63\n",
      " 156141 55005        0.5131    19        0.5288        0.5115  1093755    3.28%          rho_17 D 156141 156140     52\n",
      " 157560 55705        0.5131    20        0.5288        0.5115  1116748    3.28%          rho_17 D 157560 157559     59\n",
      " 158955 56448        0.5115     9        0.5288        0.5115  1138682    3.28%           rho_0 D 158955 158953     44\n",
      " 160179 57043        cutoff              0.5288        0.5115  1162061    3.28%           rho_5 D 160179 160178     44\n",
      " 161656 57671        0.5115     6        0.5288        0.5115  1182830    3.28%          rho_17 U 161656 161654     72\n",
      " 163379 58477        0.5136    15        0.5288        0.5115  1200389    3.28%           rho_7 U 163379  17035     21\n",
      " 165251 59107        0.5258    15        0.5288        0.5115  1216811    3.28%          rho_39 D 165251 165249     63\n",
      " 167162 59735        0.5115    14        0.5288        0.5115  1234042    3.28%           rho_0 D 167162 167160     55\n",
      "Elapsed time = 70.77 sec. (69893.29 ticks, tree = 19.96 MB, solutions = 1)\n",
      " 169313 60426        0.5287    13        0.5288        0.5115  1250539    3.28%         L0_norm U 169313 169311     38\n",
      " 171508 61187        0.5206    20        0.5288        0.5115  1264599    3.28%          rho_18 D 171508 171506     28\n",
      " 173640 61713        0.5237    13        0.5288        0.5115  1278461    3.28%          rho_38 D 173640 173639     37\n",
      " 175978 62415        cutoff              0.5288        0.5115  1292281    3.28%          rho_17 D 175978 175977     55\n",
      " 178286 63091        0.5136    17        0.5288        0.5115  1307589    3.28%           rho_8 D 178286 178285     39\n",
      " 180585 63527        0.5133    20        0.5288        0.5115  1319759    3.28%          rho_17 D 180585 180584     36\n",
      " 182594 64116        0.5230    15        0.5288        0.5115  1336135    3.28%          rho_26 D 182594 182592     65\n",
      " 184006 64731        0.5115    10        0.5288        0.5115  1356116    3.28%          rho_17 U 184006 184004     65\n",
      " 185690 65408        0.5211    18        0.5288        0.5115  1375030    3.28%           rho_4 U 185690 185048     34\n",
      " 187667 66086        0.5249    11        0.5288        0.5115  1391254    3.28%          rho_26 D 187667 187666    105\n",
      "Elapsed time = 79.13 sec. (79433.85 ticks, tree = 24.67 MB, solutions = 1)\n",
      " 189136 66758        0.5250    15        0.5288        0.5115  1411360    3.28%          rho_27 D 189136 189134     36\n",
      " 191043 67469        0.5257    10        0.5288        0.5115  1426964    3.28%          rho_26 D 191043 191041     46\n",
      " 193165 68139        0.5121    22        0.5288        0.5115  1443235    3.28%          rho_17 D 193165 192170     44\n",
      " 195406 69177        0.5121    22        0.5288        0.5115  1458533    3.28%          rho_17 D 195406 194049     35\n",
      " 197600 70353        0.5121    23        0.5288        0.5115  1474654    3.28%          rho_17 D 197600 197599     42\n",
      " 199534 71026        0.5115     7        0.5288        0.5115  1490432    3.28%          rho_17 U 199534 199533     30\n",
      " 201304 71747        0.5115    11        0.5288        0.5115  1506379    3.28%           rho_0 D 201304 201302     27\n",
      " 203113 72319        0.5270    11        0.5288        0.5115  1522293    3.28%          rho_27 D 203113 203111     24\n",
      " 205017 73080        0.5158    17        0.5288        0.5115  1538320    3.28%           rho_3 D 205017 205015     39\n",
      " 212193 76124        0.5115    12        0.5288        0.5115  1612083    3.28%          rho_17 U 212193 212191     57\n",
      "Elapsed time = 90.55 sec. (91840.92 ticks, tree = 27.63 MB, solutions = 1)\n",
      " 220033 79046        0.5215     1        0.5288        0.5115  1675614    3.28%           rho_8 U 220033 220032     42\n",
      " 227348 81416        0.5121    23        0.5288        0.5115  1741122    3.28%          rho_17 D 227348 227347     61\n",
      " 234430 83931        cutoff              0.5288        0.5115  1811869    3.28%           rho_0 U 234430 234429     76\n",
      " 242156 86377        0.5115     3        0.5288        0.5115  1875666    3.28%           rho_0 D 242156 242154     85\n",
      " 251180 89909        0.5200    18        0.5288        0.5115  1935674    3.28%          rho_27 D 251180 251179     80\n",
      " 259871 92442        0.5257     1        0.5288        0.5115  1993210    3.28%          rho_18 U 259871 259870     23\n",
      " 267500 95073        0.5137    18        0.5288        0.5115  2053661    3.28%           rho_1 D 267500 267499     31\n",
      " 274450 97397        0.5266     9        0.5288        0.5115  2108869    3.28%          rho_34 D 274450 274449     31\n",
      " 280858 99597        0.5131     1        0.5288        0.5115  2173048    3.28%           rho_0 D 280858 280857     54\n",
      " 287510 101885        0.5115    13        0.5288        0.5115  2242257    3.28%          rho_17 U 287510 287508     72\n",
      "Elapsed time = 127.19 sec. (129994.45 ticks, tree = 35.25 MB, solutions = 1)\n",
      " 293660 104070        0.5156    20        0.5288        0.5115  2317634    3.28%          rho_20 D 293660 293659     65\n",
      " 300347 106035        0.5246    16        0.5288        0.5115  2383016    3.28%          rho_27 D 300347 300345     88\n",
      " 308268 107912        0.5261    11        0.5288        0.5115  2440143    3.28%          rho_34 D 308268 308266     80\n",
      " 316735 109347        0.5183    19        0.5288        0.5115  2490660    3.28%          rho_20 D 316735 316734     37\n",
      " 323457 111493        cutoff              0.5288        0.5115  2557608    3.28%          rho_34 U 323457 323456     86\n",
      " 330090 114724        0.5122    23        0.5288        0.5115  2627218    3.28%          rho_17 D 330090 330089     44\n",
      " 336780 117118        0.5151    17        0.5288        0.5115  2691304    3.28%          rho_18 D 336780 336778     34\n",
      " 343969 118849        0.5261    13        0.5288        0.5115  2749460    3.28%          rho_14 D 343969 343968     47\n",
      " 350439 120930        cutoff              0.5288        0.5115  2820258    3.28%           rho_0 U 350439 350438     72\n",
      " 357761 122775        0.5279    14        0.5288        0.5115  2880548    3.28%           rho_4 U 357761 357759     29\n",
      "Elapsed time = 162.77 sec. (168146.37 ticks, tree = 41.49 MB, solutions = 1)\n",
      " 365486 125036        cutoff              0.5288        0.5115  2935553    3.28%           rho_0 U 365486 365485     28\n",
      " 372078 126753        cutoff              0.5288        0.5115  3002907    3.28%          rho_17 D 372078 372077     83\n",
      " 378706 129352        0.5116    20        0.5288        0.5115  3071945    3.28%          rho_17 D 378706 378705     56\n",
      " 385822 131632        0.5259     9        0.5288        0.5115  3134316    3.28%          rho_16 D 385822 385820     55\n",
      " 393130 133824        0.5121    21        0.5288        0.5115  3194950    3.28%          rho_17 D 393130 393129     69\n",
      " 400206 135961        cutoff              0.5288        0.5115  3252629    3.28%           rho_3 U 400206 400205     39\n",
      " 407780 137887        cutoff              0.5288        0.5115  3305953    3.28%          rho_26 U 407780 407779     70\n",
      " 415235 139604        cutoff              0.5288        0.5115  3346084    3.28%          rho_20 U 415235 415234     70\n",
      " 422795 141952        cutoff              0.5288        0.5115  3401165    3.28%          rho_15 U 422795 422794     72\n",
      " 430100 144364        cutoff              0.5288        0.5115  3461730    3.28%          rho_35 D 430100 430099     67\n",
      "Elapsed time = 198.36 sec. (206296.43 ticks, tree = 50.86 MB, solutions = 1)\n",
      "\n",
      "Gomory fractional cuts applied:  1\n",
      "User cuts applied:  483\n",
      "\n",
      "Root node processing (before b&c):\n",
      "  Real time             =    0.16 sec. (2.77 ticks)\n",
      "Sequential b&c:\n",
      "  Real time             =  199.86 sec. (208158.38 ticks)\n",
      "                          ------------\n",
      "Total (root+branch&cut) =  200.02 sec. (208161.15 ticks)\n",
      "+----------------------------------------------+------------------+-----------+\n",
      "| Pr(Y = +1) = 1.0/(1.0 + exp(-(-2 + score))   |                  |           |\n",
      "| ============================================ | ================ | ========= |\n",
      "| p_arrest>=2                                  |         1 points |   + ..... |\n",
      "| p_pending_charge>=1                          |         1 points |   + ..... |\n",
      "| ============================================ | ================ | ========= |\n",
      "| ADD POINTS FROM ROWS 1 to 2                  |            SCORE |   = ..... |\n",
      "+----------------------------------------------+------------------+-----------+\n",
      "model_id, score_thresholds 0 {'rank_abs': [0]}\n",
      "get_disparity_predefined_group()\n"
     ]
    },
    {
     "name": "stderr",
     "output_type": "stream",
     "text": [
      "C:\\Users\\binha\\Documents\\Duke\\Cynthia Research\\psa-analysis - test2\\utils\\fairness_functions.py:82: RuntimeWarning:\n",
      "\n",
      "invalid value encountered in longlong_scalars\n",
      "\n",
      "C:\\Users\\binha\\Documents\\Duke\\Cynthia Research\\psa-analysis - test2\\utils\\fairness_functions.py:95: RuntimeWarning:\n",
      "\n",
      "divide by zero encountered in longlong_scalars\n",
      "\n"
     ]
    },
    {
     "name": "stdout",
     "output_type": "stream",
     "text": [
      "setting c0 = 0.0 to ensure that intercept is not penalized\n",
      "10/01/19 @ 02:28 PM | 1661 rows in lookup table\n",
      "10/01/19 @ 02:28 PM | ------------------------------------------------------------\n",
      "10/01/19 @ 02:28 PM | runnning initialization procedure\n",
      "10/01/19 @ 02:28 PM | ------------------------------------------------------------\n",
      "10/01/19 @ 02:28 PM | CPA produced 2 cuts\n",
      "10/01/19 @ 02:28 PM | running naive rounding on 63 solutions\n",
      "10/01/19 @ 02:28 PM | best objective value: 0.5159\n",
      "10/01/19 @ 02:28 PM | rounding produced 5 integer solutions\n",
      "10/01/19 @ 02:28 PM | best objective value is 0.5332\n",
      "10/01/19 @ 02:28 PM | running sequential rounding on 63 solutions\n",
      "10/01/19 @ 02:28 PM | best objective value: 0.5159\n",
      "10/01/19 @ 02:28 PM | sequential rounding produced 6 integer solutions\n",
      "10/01/19 @ 02:28 PM | best objective value: 0.5331\n",
      "10/01/19 @ 02:28 PM | polishing 11 solutions\n",
      "10/01/19 @ 02:28 PM | best objective value: 0.5331\n",
      "10/01/19 @ 02:28 PM | polishing produced 3 integer solutions\n",
      "10/01/19 @ 02:28 PM | initialization produced 12 feasible solutions\n",
      "10/01/19 @ 02:28 PM | best objective value: 0.5276\n",
      "10/01/19 @ 02:28 PM | ------------------------------------------------------------\n",
      "10/01/19 @ 02:28 PM | completed initialization procedure\n",
      "10/01/19 @ 02:28 PM | ------------------------------------------------------------\n",
      "10/01/19 @ 02:28 PM | 1661 rows in lookup table\n",
      "CPXPARAM_Read_DataCheck                          1\n",
      "CPXPARAM_Threads                                 1\n",
      "CPXPARAM_Parallel                                1\n",
      "CPXPARAM_RandomSeed                              0\n",
      "CPXPARAM_TimeLimit                               200\n",
      "CPXPARAM_MIP_Tolerances_LowerCutoff              0.51069450069469446\n",
      "CPXPARAM_MIP_Tolerances_UpperCutoff              0.52757315461902599\n"
     ]
    },
    {
     "name": "stderr",
     "output_type": "stream",
     "text": [
      "Warning: Control callbacks may disable some MIP features.\n"
     ]
    },
    {
     "name": "stdout",
     "output_type": "stream",
     "text": [
      "Lazy constraint(s) or lazy constraint callback is present.\n",
      "    Disabling dual reductions (CPX_PARAM_REDUCE) in presolve.\n",
      "    Disabling non-linear reductions (CPX_PARAM_PRELINEAR) in presolve.\n",
      "         Disabling repeat represolve because of lazy constraint/incumbent callback.\n",
      "10/01/19 @ 02:28 PM | adding 250 initial cuts\n",
      "1 of 1 MIP starts provided solutions.\n",
      "MIP start 'mip_start_0' defined initial solution with objective 0.5276.\n",
      "Tried aggregator 1 time.\n",
      "Reduced MIP has 41 rows, 82 columns, and 159 nonzeros.\n",
      "Reduced MIP has 39 binaries, 41 generals, 0 SOSs, and 0 indicators.\n",
      "Presolve time = 0.00 sec. (0.10 ticks)\n",
      "Probing time = 0.00 sec. (0.03 ticks)\n",
      "MIP emphasis: balance optimality and feasibility.\n",
      "MIP search method: traditional branch-and-cut.\n",
      "Parallel mode: none, using 1 thread.\n",
      "Root relaxation solution time = 0.00 sec. (0.05 ticks)\n",
      "\n",
      "        Nodes                                         Cuts/\n",
      "   Node  Left     Objective  IInf  Best Integer    Best Bound    ItCnt     Gap         Variable B NodeID Parent  Depth\n",
      "\n",
      "*     0+    0                            0.5276        0.5007             5.09%\n",
      "      0     0        0.5107     1        0.5276        0.5107        1    3.20%\n",
      "      0     0        0.5107     1        0.5276      Fract: 2        3    3.20%\n",
      "      0     0        0.5107     1        0.5276      Fract: 2        5    3.20%\n",
      "      0     2        0.5107     2        0.5276        0.5107        5    3.20%                        0             0\n",
      "Elapsed time = 0.16 sec. (2.70 ticks, tree = 0.01 MB, solutions = 1)\n",
      "   1897   941        0.5107    10        0.5276        0.5107    10872    3.20%           rho_5 D   1897   1895     22\n",
      "   3147  1480        0.5227     8        0.5276        0.5107    19140    3.20%          rho_20 D   3147   3146     32\n",
      "   4216  1873        0.5260     9        0.5276        0.5107    26446    3.20%          rho_24 U   4216   4215     27\n",
      "   5444  2252        0.5107     1        0.5276        0.5107    32300    3.20%          rho_10 U   5444   5311     45\n",
      "   6762  2418        cutoff              0.5276        0.5107    37395    3.20%          rho_17 D   6762   6761     54\n",
      "   7839  2823        cutoff              0.5276        0.5107    43004    3.20%          rho_10 D   7839   7838     62\n",
      "   8767  3115        0.5203    17        0.5276        0.5107    49021    3.20%          rho_27 D   8767   8766     27\n",
      "   9610  3351        0.5107    21        0.5276        0.5107    54381    3.20%          rho_22 D   9610   9609     25\n",
      "  10416  3677        0.5253    10        0.5276        0.5107    59246    3.20%          rho_25 D  10416  10414     38\n",
      "  13670  4844        0.5184    16        0.5276        0.5107    82379    3.20%          rho_17 D  13670  13668     22\n",
      "Elapsed time = 5.02 sec. (3104.80 ticks, tree = 1.56 MB, solutions = 1)\n",
      "  16706  5864        0.5129    20        0.5276        0.5107   103511    3.20%          rho_10 U  16706  16704     46\n",
      "  19925  6872        0.5155     1        0.5276        0.5107   122180    3.20%         L0_norm D  19925  19924     52\n",
      "  23034  7939        0.5215    18        0.5276        0.5107   141522    3.20%           rho_4 D  23034  23032     34\n",
      "  26140  9111        0.5254     8        0.5276        0.5107   161916    3.20%           rho_7 U  26140  26139     88\n",
      "  29255 10232        0.5134     1        0.5276        0.5107   179544    3.20%          rho_17 U  29255  29253     41\n",
      "  32200 11323        0.5118    13        0.5276        0.5107   199336    3.20%           rho_9 D  32200  21551     88\n",
      "  35130 12402        0.5246    12        0.5276        0.5107   216971    3.20%          rho_28 D  35130  35129     74\n",
      "  37571 13427        0.5107    10        0.5276        0.5107   239376    3.20%           rho_0 D  37571   7979     21\n",
      "  40269 14421        0.5115    18        0.5276        0.5107   260403    3.20%          rho_28 U  40269   7164     14\n",
      "  43139 15475        cutoff              0.5276        0.5107   279485    3.20%           rho_5 U  43139  43138     67\n",
      "Elapsed time = 15.47 sec. (12644.76 ticks, tree = 4.84 MB, solutions = 1)\n",
      "  45889 16570        cutoff              0.5276        0.5107   297709    3.20%           rho_0 U  45889  45888     67\n",
      "  48434 17496        0.5107    10        0.5276        0.5107   317375    3.20%           rho_0 D  48434  48432     44\n",
      "  51204 18337        0.5107    12        0.5276        0.5107   336047    3.20%           rho_0 D  51204  40797     24\n",
      "  53976 19353        0.5182    16        0.5276        0.5107   353832    3.20%           rho_0 D  53976  53974     26\n",
      "  56570 20461        0.5183    13        0.5276        0.5107   372513    3.20%           rho_0 D  56570  56568    100\n",
      "  59303 21295        0.5195     9        0.5276        0.5107   389228    3.20%          rho_27 D  59303  59301     40\n",
      "  61930 21995        0.5116    23        0.5276        0.5107   406992    3.20%          rho_17 D  61930  61929     51\n",
      "  64568 22752        0.5211     1        0.5276        0.5107   425062    3.20%         L0_norm D  64568  64474     33\n",
      "  67312 23595        0.5246    11        0.5276        0.5107   442113    3.20%          rho_39 D  67312  67310     59\n",
      "  70119 24378        0.5250    10        0.5276        0.5107   458654    3.20%          rho_20 D  70119  70118     67\n",
      "Elapsed time = 24.69 sec. (22185.44 ticks, tree = 8.03 MB, solutions = 1)\n",
      "  72886 25354        0.5218    11        0.5276        0.5107   475898    3.20%           rho_2 D  72886  72884     40\n",
      "  76060 26037        0.5128    10        0.5276        0.5107   490807    3.20%           rho_7 U  76060  76034     39\n",
      "  78557 26891        0.5261    15        0.5276        0.5107   509742    3.20%          rho_10 D  78557  78555     22\n",
      "  80850 27730        0.5120    12        0.5276        0.5107   528938    3.20%          rho_10 D  80850  80849     53\n",
      "  83380 28544        0.5274     2        0.5276        0.5107   545349    3.20%          rho_10 D  83380  83379     59\n",
      "  85307 29249        0.5117    18        0.5276        0.5107   566841    3.20%          rho_28 D  85307  85306     61\n",
      "  87555 30329        0.5256     8        0.5276        0.5107   585278    3.20%          rho_39 U  87555  87554     34\n",
      "  89359 31037        0.5150    14        0.5276        0.5107   609349    3.20%          rho_17 D  89359  89358     61\n",
      "  91510 31787        cutoff              0.5276        0.5107   629581    3.20%         L0_norm D  91510  91509     32\n",
      "  94131 32145        0.5235    13        0.5276        0.5107   643789    3.20%           rho_0 D  94131  94129     44\n",
      "Elapsed time = 34.89 sec. (31725.21 ticks, tree = 10.24 MB, solutions = 1)\n",
      "  96610 32490        0.5164    16        0.5276        0.5107   659105    3.20%          rho_23 D  96610  96609     38\n",
      "  98737 33344        0.5127    21        0.5276        0.5107   676968    3.20%          rho_17 D  98737  98736     56\n",
      " 101214 34137        0.5274     1        0.5276        0.5107   693238    3.20%          rho_10 U 101214 101213     31\n",
      " 103664 34985        0.5267    12        0.5276        0.5107   708815    3.20%           rho_5 D 103664 103663     34\n",
      " 106000 35887        0.5107    14        0.5276        0.5107   727270    3.20%           rho_0 D 106000 105998     59\n",
      " 108044 36786        0.5162    14        0.5276        0.5107   746567    3.20%           rho_0 U 108044 108043     12\n",
      " 110400 37655        0.5173    13        0.5276        0.5107   763507    3.20%          rho_22 D 110400 110398     25\n",
      " 113053 38462        0.5110    10        0.5276        0.5107   779365    3.20%          rho_17 U 113053  44495     27\n",
      " 115335 39279        0.5107    14        0.5276        0.5107   796234    3.20%           rho_0 D 115335 115333     60\n",
      " 117591 40140        0.5116    19        0.5276        0.5107   813057    3.20%           rho_9 D 117591 117590     57\n",
      "Elapsed time = 44.09 sec. (41268.72 ticks, tree = 13.90 MB, solutions = 1)\n",
      " 120250 41039        0.5225    13        0.5276        0.5107   831418    3.20%          rho_34 D 120250 120248     78\n",
      " 122735 41705        0.5228    11        0.5276        0.5107   849724    3.20%          rho_25 D 122735 122733     64\n",
      " 124974 42314        0.5159    17        0.5276        0.5107   867893    3.20%          rho_23 D 124974 124972     67\n",
      " 127783 42880        0.5213     1        0.5276        0.5107   884314    3.20%           rho_0 D 127783 127781     45\n",
      " 130128 43526        0.5133    12        0.5276        0.5107   899940    3.20%           rho_7 D 130128 130127     59\n",
      " 132549 44054        0.5214    15        0.5276        0.5107   914619    3.20%          rho_23 D 132549 132547     50\n",
      " 134946 44595        cutoff              0.5276        0.5107   929802    3.20%           rho_4 U 134946 134945     38\n",
      " 137284 45180        0.5111    18        0.5276        0.5107   944918    3.20%         L0_norm U 137284 137283     42\n",
      " 139695 45717        0.5226    15        0.5276        0.5107   959708    3.20%           rho_0 D 139695 139694     61\n",
      " 142060 46273        0.5246    13        0.5276        0.5107   974876    3.20%          rho_20 D 142060 142059     97\n",
      "Elapsed time = 52.89 sec. (50808.09 ticks, tree = 15.63 MB, solutions = 1)\n",
      " 144480 46678        0.5271    13        0.5276        0.5107   988897    3.20%          rho_14 D 144480 144478     73\n",
      " 146878 47013        0.5107    13        0.5276        0.5107  1002937    3.20%           rho_9 D 146878 146877     82\n",
      " 149295 47537        cutoff              0.5276        0.5107  1017553    3.20%           rho_4 U 149295 149294     76\n",
      " 151678 48043        cutoff              0.5276        0.5107  1032565    3.20%           rho_0 U 151678 151677     46\n",
      " 154082 48765        0.5120    15        0.5276        0.5107  1048809    3.20%           rho_0 D 154082 154080     34\n",
      " 156390 49620        0.5223    12        0.5276        0.5107  1064787    3.20%          rho_11 D 156390 156388     34\n",
      " 158749 50444        0.5191    11        0.5276        0.5107  1079862    3.20%           rho_5 D 158749 158747     31\n",
      " 160930 51271        0.5107    12        0.5276        0.5107  1095967    3.20%           rho_0 D 160930 160914     20\n",
      " 162917 52093        cutoff              0.5276        0.5107  1115424    3.20%           rho_0 U 162917 162916     30\n",
      " 165307 52872        0.5168    12        0.5276        0.5107  1130076    3.20%           rho_4 D 165307 165305     55\n",
      "Elapsed time = 64.98 sec. (60348.98 ticks, tree = 17.54 MB, solutions = 1)\n",
      " 167829 53547        cutoff              0.5276        0.5107  1143544    3.20%          rho_24 U 167829 167828     54\n",
      " 170310 54288        0.5263    10        0.5276        0.5107  1157102    3.20%          rho_34 D 170310 170308     64\n",
      " 172678 55032        0.5236    13        0.5276        0.5107  1171453    3.20%         L0_norm U 172678 172676     31\n",
      " 174431 55772        cutoff              0.5276        0.5107  1191691    3.20%           rho_5 U 174431 174429     16\n",
      " 176889 56505        cutoff              0.5276        0.5107  1206181    3.20%          rho_15 D 176889 176888     44\n",
      " 179216 57330        0.5166    12        0.5276        0.5107  1220029    3.20%          rho_22 U 179216 179181     31\n",
      " 181410 58057        0.5107    19        0.5276        0.5107  1236620    3.20%         L0_norm U 181410 181409     20\n",
      " 183645 58898        0.5238    11        0.5276        0.5107  1252471    3.20%          rho_39 D 183645 183643     36\n",
      " 185689 59575        cutoff              0.5276        0.5107  1271054    3.20%          rho_25 U 185689 185688     86\n",
      " 187639 60401        0.5261     8        0.5276        0.5107  1289473    3.20%           rho_4 U 187639 187638     38\n",
      "Elapsed time = 78.14 sec. (69890.20 ticks, tree = 19.72 MB, solutions = 1)\n",
      " 189769 61384        cutoff              0.5276        0.5107  1307520    3.20%           rho_0 U 189769 189768     24\n",
      " 191822 62151        0.5107    16        0.5276        0.5107  1326047    3.20%          rho_17 U 191822 191820     42\n",
      " 193846 62893        0.5131     1        0.5276        0.5107  1343771    3.20%          rho_17 U 193846 193844     29\n",
      " 196808 63478        0.5116    14        0.5276        0.5107  1354983    3.20%         L0_norm U 196808 196807     36\n",
      " 199220 64096        0.5121    19        0.5276        0.5107  1368982    3.20%           rho_1 D 199220 199218     18\n",
      " 201478 64844        0.5134    17        0.5276        0.5107  1384869    3.20%          rho_10 U 201478 201476     45\n",
      " 203667 65607        0.5154    13        0.5276        0.5107  1400510    3.20%         L0_norm U 203667 203665     46\n",
      " 205995 66143        0.5107    13        0.5276        0.5107  1414021    3.20%           rho_9 D 205995 166441     43\n",
      " 208268 66689        0.5206    11        0.5276        0.5107  1427962    3.20%          rho_24 D 208268 208266     54\n",
      " 210483 67474        0.5107    12        0.5276        0.5107  1442261    3.20%           rho_0 D 210483 210481     53\n",
      "Elapsed time = 90.69 sec. (79430.53 ticks, tree = 24.60 MB, solutions = 1)\n",
      " 212424 68269        0.5156    18        0.5276        0.5107  1459297    3.20%           rho_0 D 212424 212422     53\n",
      " 214342 69083        0.5228    16        0.5276        0.5107  1475528    3.20%           rho_6 D 214342 214340    105\n",
      " 216408 69918        0.5107    14        0.5276        0.5107  1491387    3.20%          rho_17 U 216408 216406     58\n",
      " 218472 70680        0.5154     2        0.5276        0.5107  1507937    3.20%          rho_10 U 218472 218470     38\n",
      " 220542 71391        0.5108    23        0.5276        0.5107  1524294    3.20%          rho_10 U 220542 220540     37\n",
      " 222619 72445        cutoff              0.5276        0.5107  1539918    3.20%          rho_28 U 222619 222618     31\n",
      " 224660 73116        0.5124    21        0.5276        0.5107  1557881    3.20%           rho_0 D 224660 106770     63\n",
      " 227222 73580        0.5108    15        0.5276        0.5107  1571556    3.20%           rho_0 U 227222 227221     56\n",
      " 229681 74129        0.5162    13        0.5276        0.5107  1583910    3.20%           rho_4 D 229681 229680     63\n",
      " 237299 77343        cutoff              0.5276        0.5107  1653140    3.20%           rho_1 U 237299 237298     34\n",
      "Elapsed time = 108.23 sec. (91834.91 ticks, tree = 27.44 MB, solutions = 1)\n",
      " 245859 80961        cutoff              0.5276        0.5107  1714585    3.20%           rho_0 U 245859 245858     19\n",
      " 253466 84060        0.5169    19        0.5276        0.5107  1781146    3.20%          rho_18 D 253466 253464     37\n",
      " 261280 87377        0.5107    19        0.5276        0.5107  1851191    3.20%          rho_17 D 261280 261279     36\n",
      " 269494 90426        cutoff              0.5276        0.5107  1922852    3.20%           rho_0 U 269494 269493     54\n",
      " 277640 92871        cutoff              0.5276        0.5107  1988368    3.20%          rho_23 U 277640 277639     40\n",
      " 286900 95812        cutoff              0.5276        0.5107  2046546    3.20%           rho_0 U 286900 286899     30\n",
      " 295964 98498        0.5213    18        0.5276        0.5107  2106594    3.20%          rho_25 D 295964 295963     48\n",
      " 304834 101330        0.5107     8        0.5276        0.5107  2164392    3.20%          rho_17 U 304834 304832     73\n",
      " 313234 104480        cutoff              0.5276        0.5107  2225033    3.20%          rho_20 U 313234 313233     28\n",
      " 322182 107880        0.5134    21        0.5276        0.5107  2284788    3.20%          rho_22 D 322182 322181     49\n",
      "Elapsed time = 149.53 sec. (129984.85 ticks, tree = 36.38 MB, solutions = 1)\n",
      " 330947 110180        cutoff              0.5276        0.5107  2342902    3.20%           rho_5 U 330947 330945     60\n",
      " 339800 112112        0.5180     1        0.5276        0.5107  2398111    3.20%           rho_0 D 339800 339798     59\n",
      " 348219 115943        0.5183    13        0.5276        0.5107  2459533    3.20%          rho_18 D 348219 348217     33\n",
      " 357173 118661        cutoff              0.5276        0.5107  2519153    3.20%           rho_0 U 357173 357172     38\n",
      " 364293 121906        0.5160    16        0.5276        0.5107  2591479    3.20%          rho_23 D 364293 364292     45\n",
      " 372930 125367        0.5142    16        0.5276        0.5107  2653777    3.20%          rho_20 D 372930 372929     45\n",
      " 382074 127589        cutoff              0.5276        0.5107  2713630    3.20%           rho_4 U 382074 382073     95\n",
      " 388355 130337        0.5120    24        0.5276        0.5107  2790301    3.20%          rho_17 D 388355 388354     64\n",
      " 396537 133113        0.5270    15        0.5276        0.5107  2847044    3.20%           rho_7 U 396537 396536     24\n",
      " 404315 136261        0.5253    10        0.5276        0.5107  2913645    3.20%          rho_39 U 404315 404314     74\n",
      "Elapsed time = 186.31 sec. (168134.84 ticks, tree = 47.62 MB, solutions = 1)\n",
      " 412179 140162        0.5120    26        0.5276        0.5107  2978821    3.20%           rho_0 D 412179 412177     95\n",
      " 420191 143409        0.5171     8        0.5276        0.5107  3040932    3.20%           rho_7 U 420191 234423     40\n",
      " 427772 145491        0.5125     1        0.5276        0.5107  3100574    3.20%          rho_17 U 427772 427769     67\n",
      "\n",
      "Gomory fractional cuts applied:  1\n",
      "User cuts applied:  457\n",
      "\n",
      "Root node processing (before b&c):\n",
      "  Real time             =    0.14 sec. (2.75 ticks)\n",
      "Sequential b&c:\n",
      "  Real time             =  199.88 sec. (182901.93 ticks)\n",
      "                          ------------\n",
      "Total (root+branch&cut) =  200.02 sec. (182904.68 ticks)\n",
      "+----------------------------------------------+------------------+-----------+\n",
      "| Pr(Y = +1) = 1.0/(1.0 + exp(-(-2 + score))   |                  |           |\n",
      "| ============================================ | ================ | ========= |\n",
      "| p_arrest>=2                                  |         1 points |   + ..... |\n",
      "| p_pending_charge>=1                          |         1 points |   + ..... |\n",
      "| ============================================ | ================ | ========= |\n",
      "| ADD POINTS FROM ROWS 1 to 2                  |            SCORE |   = ..... |\n",
      "+----------------------------------------------+------------------+-----------+\n",
      "model_id, score_thresholds 0 {'rank_abs': [0]}\n",
      "get_disparity_predefined_group()\n"
     ]
    },
    {
     "name": "stderr",
     "output_type": "stream",
     "text": [
      "C:\\Users\\binha\\Documents\\Duke\\Cynthia Research\\psa-analysis - test2\\utils\\fairness_functions.py:82: RuntimeWarning:\n",
      "\n",
      "invalid value encountered in longlong_scalars\n",
      "\n",
      "C:\\Users\\binha\\Documents\\Duke\\Cynthia Research\\psa-analysis - test2\\utils\\fairness_functions.py:95: RuntimeWarning:\n",
      "\n",
      "divide by zero encountered in longlong_scalars\n",
      "\n"
     ]
    },
    {
     "name": "stdout",
     "output_type": "stream",
     "text": [
      "setting c0 = 0.0 to ensure that intercept is not penalized\n",
      "10/01/19 @ 02:31 PM | 1661 rows in lookup table\n",
      "10/01/19 @ 02:31 PM | ------------------------------------------------------------\n",
      "10/01/19 @ 02:31 PM | runnning initialization procedure\n",
      "10/01/19 @ 02:31 PM | ------------------------------------------------------------\n",
      "10/01/19 @ 02:31 PM | CPA produced 2 cuts\n",
      "10/01/19 @ 02:31 PM | running naive rounding on 70 solutions\n",
      "10/01/19 @ 02:31 PM | best objective value: 0.5158\n",
      "10/01/19 @ 02:31 PM | rounding produced 5 integer solutions\n",
      "10/01/19 @ 02:31 PM | best objective value is 0.5303\n",
      "10/01/19 @ 02:31 PM | running sequential rounding on 70 solutions\n",
      "10/01/19 @ 02:31 PM | best objective value: 0.5158\n",
      "10/01/19 @ 02:31 PM | sequential rounding produced 5 integer solutions\n",
      "10/01/19 @ 02:31 PM | best objective value: 0.5280\n",
      "10/01/19 @ 02:31 PM | polishing 10 solutions\n",
      "10/01/19 @ 02:31 PM | best objective value: 0.5280\n",
      "10/01/19 @ 02:31 PM | polishing produced 5 integer solutions\n",
      "10/01/19 @ 02:31 PM | initialization produced 12 feasible solutions\n",
      "10/01/19 @ 02:31 PM | best objective value: 0.5264\n",
      "10/01/19 @ 02:31 PM | ------------------------------------------------------------\n",
      "10/01/19 @ 02:31 PM | completed initialization procedure\n",
      "10/01/19 @ 02:31 PM | ------------------------------------------------------------\n",
      "10/01/19 @ 02:31 PM | 1661 rows in lookup table\n",
      "CPXPARAM_Read_DataCheck                          1\n",
      "CPXPARAM_Threads                                 1\n",
      "CPXPARAM_Parallel                                1\n",
      "CPXPARAM_RandomSeed                              0\n",
      "CPXPARAM_TimeLimit                               200\n",
      "CPXPARAM_MIP_Tolerances_LowerCutoff              0.50971727468375316\n",
      "CPXPARAM_MIP_Tolerances_UpperCutoff              0.52635713017774133\n"
     ]
    },
    {
     "name": "stderr",
     "output_type": "stream",
     "text": [
      "Warning: Control callbacks may disable some MIP features.\n"
     ]
    },
    {
     "name": "stdout",
     "output_type": "stream",
     "text": [
      "Lazy constraint(s) or lazy constraint callback is present.\n",
      "    Disabling dual reductions (CPX_PARAM_REDUCE) in presolve.\n",
      "    Disabling non-linear reductions (CPX_PARAM_PRELINEAR) in presolve.\n",
      "         Disabling repeat represolve because of lazy constraint/incumbent callback.\n",
      "10/01/19 @ 02:31 PM | adding 249 initial cuts\n",
      "1 of 1 MIP starts provided solutions.\n",
      "MIP start 'mip_start_0' defined initial solution with objective 0.5264.\n",
      "Tried aggregator 1 time.\n",
      "Reduced MIP has 41 rows, 82 columns, and 159 nonzeros.\n",
      "Reduced MIP has 39 binaries, 41 generals, 0 SOSs, and 0 indicators.\n",
      "Presolve time = 0.02 sec. (0.10 ticks)\n",
      "Probing time = 0.00 sec. (0.03 ticks)\n",
      "MIP emphasis: balance optimality and feasibility.\n",
      "MIP search method: traditional branch-and-cut.\n",
      "Parallel mode: none, using 1 thread.\n",
      "Root relaxation solution time = 0.00 sec. (0.05 ticks)\n",
      "\n",
      "        Nodes                                         Cuts/\n",
      "   Node  Left     Objective  IInf  Best Integer    Best Bound    ItCnt     Gap         Variable B NodeID Parent  Depth\n",
      "\n",
      "*     0+    0                            0.5264        0.4997             5.06%\n",
      "      0     0        0.5097     1        0.5264        0.5097        1    3.16%\n",
      "      0     0        0.5097     1        0.5264      Fract: 2        3    3.16%\n",
      "      0     0        0.5097     1        0.5264      Fract: 2        5    3.16%\n",
      "      0     2        0.5097     2        0.5264        0.5097        5    3.16%                        0             0\n",
      "Elapsed time = 0.61 sec. (2.69 ticks, tree = 0.01 MB, solutions = 1)\n",
      "   1818  1002        0.5256     7        0.5264        0.5097     9493    3.16%         L0_norm U   1818   1817     44\n",
      "   2969  1516        0.5193    10        0.5264        0.5097    17398    3.16%           rho_5 D   2969   2968     26\n",
      "   4026  1931        cutoff              0.5264        0.5097    24167    3.16%          rho_22 U   4026   4025     26\n",
      "   5077  2396        cutoff              0.5264        0.5097    30706    3.16%           rho_0 U   5077   5076     37\n",
      "   5979  2766        cutoff              0.5264        0.5097    36752    3.16%          rho_23 U   5979   5976     66\n",
      "   6779  3078        cutoff              0.5264        0.5097    42635    3.16%           rho_4 U   6779   6778     31\n",
      "   7486  3320        0.5190    11        0.5264        0.5097    49766    3.16%          rho_15 D   7486   7484     75\n",
      "   8262  3614        0.5249     7        0.5264        0.5097    54961    3.16%           rho_0 U   8262    914      5\n",
      "   9107  3873        0.5141    13        0.5264        0.5097    59864    3.16%          rho_25 D   9107   9106     51\n",
      "  12569  4992        0.5241     5        0.5264        0.5097    79439    3.16%          rho_28 U  12569  12568     34\n",
      "Elapsed time = 9.72 sec. (3103.78 ticks, tree = 1.61 MB, solutions = 1)\n",
      "  15788  6157        cutoff              0.5264        0.5097    98667    3.16%          rho_17 D  15788  15787     70\n",
      "  18856  7132        0.5250     2        0.5264        0.5097   117378    3.16%          rho_30 U  18856  18855     49\n",
      "  22000  8030        0.5097     5        0.5264        0.5097   136835    3.16%          rho_17 U  22000  21998     51\n",
      "  25188  8983        cutoff              0.5264        0.5097   155374    3.16%          rho_20 U  25188  25186     61\n",
      "  28102 10036        0.5207    13        0.5264        0.5097   177452    3.16%          rho_33 U  28102  28101     48\n",
      "  30918 10872        0.5097    16        0.5264        0.5097   198923    3.16%          rho_17 D  30918  30917     53\n",
      "  33843 11690        0.5213    18        0.5264        0.5097   217944    3.16%          rho_20 D  33843  33841     76\n",
      "  36490 12632        0.5125    16        0.5264        0.5097   237648    3.16%          rho_17 D  36490  36489     96\n",
      "  39238 13770        0.5097     2        0.5264        0.5097   259595    3.16%          rho_17 U  39238  39236     83\n",
      "  42039 14849        0.5097     7        0.5264        0.5097   280581    3.16%         L0_norm U  42039  42038     42\n",
      "Elapsed time = 23.67 sec. (12645.50 ticks, tree = 4.70 MB, solutions = 1)\n",
      "  45283 16207        0.5161    16        0.5264        0.5097   296211    3.16%          rho_38 D  45283  45282     66\n",
      "  48010 17557        0.5171    15        0.5264        0.5097   316430    3.16%          rho_38 D  48010  48009     50\n",
      "  50468 18636        0.5182     2        0.5264        0.5097   338022    3.16%           rho_0 D  50468  50466     24\n",
      "  53310 19489        0.5116    16        0.5264        0.5097   355783    3.16%          rho_27 D  53310  53307     56\n",
      "  55540 20226        0.5097     8        0.5264        0.5097   376597    3.16%           rho_0 D  55540  55538     62\n",
      "  58132 21040        0.5097     8        0.5264        0.5097   397173    3.16%           rho_0 D  58132  58130     44\n",
      "  60590 21725        0.5097    14        0.5264        0.5097   417449    3.16%          rho_17 D  60590  60589     31\n",
      "  63097 22725        0.5178    17        0.5264        0.5097   438473    3.16%          rho_25 D  63097  63096     81\n",
      "  65545 23790        cutoff              0.5264        0.5097   458472    3.16%           rho_0 D  65545  65544     52\n",
      "  68336 24586        0.5220    12        0.5264        0.5097   475903    3.16%          rho_14 D  68336  68335     87\n",
      "Elapsed time = 36.53 sec. (22185.38 ticks, tree = 8.20 MB, solutions = 1)\n",
      "  71167 25532        0.5178    16        0.5264        0.5097   495706    3.16%          rho_35 D  71167  71166     76\n",
      "  74042 26290        cutoff              0.5264        0.5097   513230    3.16%          rho_15 U  74042  74041     86\n",
      "  76940 27027        0.5245    11        0.5264        0.5097   530430    3.16%          rho_34 D  76940  76938     99\n",
      "  79566 27705        0.5258    11        0.5264        0.5097   546865    3.16%          rho_15 D  79566  79564     42\n",
      "  81464 28469        0.5097    10        0.5264        0.5097   569879    3.16%          rho_10 U  81464  81462     36\n",
      "  84087 29338        0.5220    12        0.5264        0.5097   589144    3.16%          rho_18 D  84087  84086     31\n",
      "  86259 30271        0.5097    19        0.5264        0.5097   611085    3.16%         L0_norm U  86259  86258     79\n",
      "  88493 31026        0.5107     2        0.5264        0.5097   630325    3.16%          rho_17 U  88493  88491     51\n",
      "  91437 31772        0.5097    13        0.5264        0.5097   644653    3.16%          rho_17 D  91437  91436     51\n",
      "  94209 32291        0.5128     1        0.5264        0.5097   659551    3.16%           rho_0 D  94209  94207     77\n",
      "Elapsed time = 47.05 sec. (31724.43 ticks, tree = 10.40 MB, solutions = 1)\n",
      "  97119 32884        cutoff              0.5264        0.5097   672241    3.16%          rho_17 D  97119  97118     59\n",
      "  99190 33643        0.5262    16        0.5264        0.5097   693697    3.16%          rho_27 U  99190  99189     35\n",
      " 100753 34249        0.5097     8        0.5264        0.5097   718716    3.16%          rho_17 U 100753 100751     85\n",
      " 102813 34886        cutoff              0.5264        0.5097   739012    3.16%           rho_0 U 102813 102812     57\n",
      " 104814 35699        0.5133    19        0.5264        0.5097   759760    3.16%          rho_17 D 104814 104813     79\n",
      " 106978 36519        0.5151    18        0.5264        0.5097   779997    3.16%          rho_17 D 106978 106977     51\n",
      " 108959 37254        cutoff              0.5264        0.5097   801368    3.16%          rho_22 D 108959 108958     44\n",
      " 111582 38182        0.5097    11        0.5264        0.5097   818667    3.16%           rho_0 D 111582 111580     57\n",
      " 114621 38982        0.5208    16        0.5264        0.5097   833767    3.16%          rho_35 D 114621 114620     53\n",
      " 116811 39606        0.5132    22        0.5264        0.5097   852405    3.16%          rho_17 D 116811 116810     62\n",
      "Elapsed time = 60.44 sec. (41263.54 ticks, tree = 13.91 MB, solutions = 1)\n",
      " 119148 40642        0.5190     2        0.5264        0.5097   870348    3.16%          rho_17 U 119148 119147     61\n",
      " 121690 41679        0.5112    10        0.5264        0.5097   888444    3.16%           rho_4 D 121690 121689     71\n",
      " 124853 42409        0.5102    11        0.5264        0.5097   901894    3.16%           rho_4 D 124853 124852     35\n",
      " 127875 43376        0.5231     8        0.5264        0.5097   915447    3.16%          rho_34 D 127875 127873     61\n",
      " 130747 44516        0.5097     1        0.5264        0.5097   930543    3.16%          rho_17 U 130747 130745     41\n",
      " 133415 45631        cutoff              0.5264        0.5097   945383    3.16%          rho_17 D 133415 133414     48\n",
      " 136545 46786        0.5097     6        0.5264        0.5097   959681    3.16%           rho_0 D 136545 136543     51\n",
      " 139057 47909        0.5112    12        0.5264        0.5097   977266    3.16%          rho_17 D 139057 139056     33\n",
      " 142155 48743        cutoff              0.5264        0.5097   990442    3.16%          rho_27 U 142155 136057     73\n",
      " 145343 49472        0.5105    13        0.5264        0.5097  1003049    3.16%           rho_4 D 145343 145342     66\n",
      "Elapsed time = 72.78 sec. (50802.10 ticks, tree = 16.69 MB, solutions = 1)\n",
      " 148340 50071        0.5157    17        0.5264        0.5097  1016360    3.16%          rho_39 D 148340 148338     36\n",
      " 150784 50957        0.5184    16        0.5264        0.5097  1033507    3.16%           rho_4 D 150784 150782     80\n",
      " 153109 51936        0.5097     7        0.5264        0.5097  1052270    3.16%          rho_17 U 153109 153107     53\n",
      " 155356 52571        0.5102    12        0.5264        0.5097  1069373    3.16%          rho_27 D 155356 132215     34\n",
      " 157126 52707        cutoff              0.5264        0.5097  1089203    3.16%           rho_0 D 157126 157125     49\n",
      " 159576 53156        0.5097     8        0.5264        0.5097  1105158    3.16%          rho_17 U 159576 159548     36\n",
      " 161902 54040    infeasible              0.5264        0.5097  1124711    3.16%          rho_20 U 161902 161901     61\n",
      " 163845 54832        0.5215    17        0.5264        0.5097  1146024    3.16%          rho_18 U 163845 163844     56\n",
      " 165855 55655        0.5223    18        0.5264        0.5097  1166283    3.16%           rho_5 D 165855 165854     31\n",
      " 167940 56344        0.5136    20        0.5264        0.5097  1186231    3.16%           rho_7 D 167940 167939     56\n",
      "Elapsed time = 83.00 sec. (60341.86 ticks, tree = 18.68 MB, solutions = 1)\n",
      " 170664 57345        0.5097     5        0.5264        0.5097  1199655    3.16%          rho_17 U 170664 170543     53\n",
      " 173040 58256        0.5238    11        0.5264        0.5097  1216289    3.16%          rho_14 U 173040 173039     72\n",
      " 175255 58995        0.5248     9        0.5264        0.5097  1234809    3.16%          rho_34 D 175255 175254     93\n",
      " 177303 59507        0.5100     1        0.5264        0.5097  1254269    3.16%          rho_17 U 177303 177302     78\n",
      " 179839 60220        0.5216     2        0.5264        0.5097  1269926    3.16%           rho_1 U 179839 179838     61\n",
      " 182170 61033        0.5216     2        0.5264        0.5097  1287985    3.16%           rho_1 U 182170 182168     73\n",
      " 184802 61275        0.5144     2        0.5264        0.5097  1301701    3.16%           rho_9 U 184802 179777     72\n",
      " 187207 61592        0.5254    16        0.5264        0.5097  1315548    3.16%           rho_1 D 187207 187205     52\n",
      " 189123 61989        0.5123    16        0.5264        0.5097  1336059    3.16%           rho_7 U 189123 189101     79\n",
      " 191432 62791        0.5235    15        0.5264        0.5097  1353066    3.16%           rho_0 D 191432 191431     40\n",
      "Elapsed time = 92.47 sec. (69881.05 ticks, tree = 20.58 MB, solutions = 1)\n",
      " 193887 63662        cutoff              0.5264        0.5097  1367636    3.16%           rho_0 U 193887 193886     54\n",
      " 196266 64640        0.5233     1        0.5264        0.5097  1384522    3.16%           rho_0 D 196266 196265     70\n",
      " 198735 65602        cutoff              0.5264        0.5097  1401418    3.16%         L0_norm D 198735 198526     70\n",
      " 201431 66259        0.5114    15        0.5264        0.5097  1415132    3.16%           rho_7 D 201431 201429     83\n",
      " 204044 66909        0.5220    12        0.5264        0.5097  1428938    3.16%          rho_35 D 204044 204043     55\n",
      " 206629 67691        0.5235    14        0.5264        0.5097  1443127    3.16%           rho_0 D 206629 206628     96\n",
      " 209103 68447        0.5187     7        0.5264        0.5097  1457866    3.16%           rho_7 D 209103 209101     39\n",
      " 211050 69040        0.5118    15        0.5264        0.5097  1477189    3.16%          rho_18 D 211050 211049     37\n",
      " 213465 69691        0.5107    13        0.5264        0.5097  1492131    3.16%           rho_4 D 213465 213464     64\n",
      " 215964 70378        0.5129     1        0.5264        0.5097  1506811    3.16%           rho_0 D 215964 215962     42\n",
      "Elapsed time = 101.80 sec. (79420.23 ticks, tree = 25.59 MB, solutions = 1)\n",
      " 218019 70929        0.5202     1        0.5264        0.5097  1526067    3.16%          rho_17 D 218019 218018     36\n",
      " 220220 71564        0.5097    14        0.5264        0.5097  1542853    3.16%           rho_0 D 220220 220218     76\n",
      " 222434 72239        0.5097    15        0.5264        0.5097  1559638    3.16%           rho_7 D 222434 222278     67\n",
      " 225016 73013        0.5139    14        0.5264        0.5097  1575348    3.16%          rho_20 D 225016 225015     46\n",
      " 227446 73787        cutoff              0.5264        0.5097  1591057    3.16%          rho_35 U 227446 227443     90\n",
      " 229791 74492        0.5195    13        0.5264        0.5097  1606002    3.16%          rho_23 D 229791 229790     40\n",
      " 232013 75056        0.5097    12        0.5264        0.5097  1623442    3.16%           rho_0 D 232013 232011     32\n",
      " 234438 75870        0.5249     1        0.5264        0.5097  1639136    3.16%          rho_37 U 234438 234435     78\n",
      " 237091 76674        cutoff              0.5264        0.5097  1653161    3.16%          rho_34 U 237091 237090     67\n",
      " 247237 79655        0.5115    14        0.5264        0.5097  1711698    3.16%          rho_39 D 247237 247235     28\n",
      "Elapsed time = 116.58 sec. (91821.50 ticks, tree = 28.30 MB, solutions = 1)\n",
      " 256962 82143        0.5210    11        0.5264        0.5097  1769893    3.16%          rho_26 D 256962 256960     55\n",
      " 265865 84776        0.5112    11        0.5264        0.5097  1834649    3.16%          rho_20 D 265865 265863     78\n",
      " 275091 87642        0.5235     8        0.5264        0.5097  1892719    3.16%          rho_14 D 275091 275089     44\n",
      " 282524 89561        0.5156    19        0.5264        0.5097  1964849    3.16%          rho_27 D 282524 282522     34\n",
      " 291438 92549        cutoff              0.5264        0.5097  2035603    3.16%          rho_34 D 291438 291436     68\n",
      " 300022 94396        0.5253     9        0.5264        0.5097  2102968    3.16%           rho_4 D 300022 300021     98\n",
      " 308646 96844        cutoff              0.5264        0.5097  2177333    3.16%          rho_34 U 308646 308645     85\n",
      " 317528 99730        0.5244    12        0.5264        0.5097  2240925    3.16%           rho_7 D 317528 317526     33\n",
      " 326601 102218        0.5124    13        0.5264        0.5097  2300850    3.16%          rho_24 D 326601 326599     37\n",
      " 335840 103023        cutoff              0.5264        0.5097  2353786    3.16%          rho_24 U 335840 335839     80\n",
      "Elapsed time = 146.66 sec. (129970.68 ticks, tree = 35.08 MB, solutions = 1)\n",
      " 344521 104672        0.5097    12        0.5264        0.5097  2411096    3.16%          rho_17 U 344521 344519     36\n",
      " 352578 107354        0.5097    13        0.5264        0.5097  2476532    3.16%           rho_8 D 352578 351488     73\n",
      " 360176 109047        0.5136    21        0.5264        0.5097  2544549    3.16%           rho_0 D 360176 360174     56\n",
      " 368630 111911        0.5254    15        0.5264        0.5097  2612107    3.16%          rho_34 D 368630 368628     76\n",
      " 377990 115659        0.5255    15        0.5264        0.5097  2682162    3.16%          rho_34 D 377990 377988     57\n",
      " 386244 118930        cutoff              0.5264        0.5097  2753405    3.16%          rho_26 D 386244 386242     61\n",
      " 394761 121924        0.5097     9        0.5264        0.5097  2819367    3.16%           rho_0 D 394761 394759     47\n",
      " 404532 125606        0.5119    15        0.5264        0.5097  2877185    3.16%          rho_17 D 404532 404390     27\n",
      " 412878 128090        0.5172    12        0.5264        0.5097  2942784    3.16%          rho_39 D 412878 412876     37\n",
      " 421361 130476        cutoff              0.5264        0.5097  2998169    3.16%          rho_30 D 421361 421360     97\n",
      "Elapsed time = 176.27 sec. (168120.72 ticks, tree = 43.01 MB, solutions = 1)\n",
      " 429704 132703        0.5119    14        0.5264        0.5097  3054372    3.16%          rho_20 D 429704 429702     32\n",
      " 437822 134778        0.5203    17        0.5264        0.5097  3112887    3.16%           rho_7 D 437822 437820     47\n",
      " 446296 136700        0.5127    14        0.5264        0.5097  3167910    3.16%          rho_20 D 446296 446294     55\n",
      " 455400 138949        0.5097    13        0.5264        0.5097  3222715    3.16%           rho_8 D 455400 455399     47\n",
      " 464142 140995        0.5223    15        0.5264        0.5097  3278506    3.16%          rho_35 D 464142 464141     75\n",
      " 471910 143519        0.5097     9        0.5264        0.5097  3339060    3.16%          rho_17 U 471910 471889     35\n",
      "\n",
      "Gomory fractional cuts applied:  1\n",
      "User cuts applied:  449\n",
      "\n",
      "Root node processing (before b&c):\n",
      "  Real time             =    0.60 sec. (2.74 ticks)\n",
      "Sequential b&c:\n",
      "  Real time             =  199.44 sec. (191407.30 ticks)\n",
      "                          ------------\n",
      "Total (root+branch&cut) =  200.03 sec. (191410.04 ticks)\n",
      "+----------------------------------------------+------------------+-----------+\n",
      "| Pr(Y = +1) = 1.0/(1.0 + exp(-(-2 + score))   |                  |           |\n",
      "| ============================================ | ================ | ========= |\n",
      "| p_arrest>=2                                  |         1 points |   + ..... |\n",
      "| p_pending_charge>=1                          |         1 points |   + ..... |\n",
      "| ============================================ | ================ | ========= |\n",
      "| ADD POINTS FROM ROWS 1 to 2                  |            SCORE |   = ..... |\n",
      "+----------------------------------------------+------------------+-----------+\n",
      "model_id, score_thresholds 0 {'rank_abs': [0]}\n",
      "get_disparity_predefined_group()\n"
     ]
    },
    {
     "name": "stderr",
     "output_type": "stream",
     "text": [
      "C:\\Users\\binha\\Documents\\Duke\\Cynthia Research\\psa-analysis - test2\\utils\\fairness_functions.py:82: RuntimeWarning:\n",
      "\n",
      "invalid value encountered in longlong_scalars\n",
      "\n",
      "C:\\Users\\binha\\Documents\\Duke\\Cynthia Research\\psa-analysis - test2\\utils\\fairness_functions.py:95: RuntimeWarning:\n",
      "\n",
      "divide by zero encountered in longlong_scalars\n",
      "\n",
      "C:\\Users\\binha\\Documents\\Duke\\Cynthia Research\\psa-analysis - test2\\utils\\fairness_functions.py:86: RuntimeWarning:\n",
      "\n",
      "invalid value encountered in longlong_scalars\n",
      "\n",
      "C:\\Users\\binha\\Documents\\Duke\\Cynthia Research\\psa-analysis - test2\\utils\\fairness_functions.py:95: RuntimeWarning:\n",
      "\n",
      "invalid value encountered in longlong_scalars\n",
      "\n"
     ]
    }
   ],
   "source": [
    "riskslim_summary = slim.risk_cv(X=sub_X, \n",
    "                                Y=sub_Y, \n",
    "                                indicator = indicator,\n",
    "                                y_label='recid_M2', \n",
    "                                max_coef=20, \n",
    "                                max_coef_number=10, \n",
    "                                max_runtime=200, \n",
    "                                c=1e-3, \n",
    "                                seed=816)"
   ]
  },
  {
   "cell_type": "code",
   "execution_count": 21,
   "metadata": {},
   "outputs": [
    {
     "data": {
      "text/plain": [
       "(0.651266894702957, 0.6512700830534838)"
      ]
     },
     "execution_count": 21,
     "metadata": {},
     "output_type": "execute_result"
    }
   ],
   "source": [
    "np.mean(riskslim_summary['train_auc']), np.mean(riskslim_summary['test_auc'])"
   ]
  },
  {
   "cell_type": "markdown",
   "metadata": {},
   "source": [
    "### Arnold PSA"
   ]
  },
  {
   "cell_type": "code",
   "execution_count": 22,
   "metadata": {},
   "outputs": [],
   "source": [
    "### load data\n",
    "data = pd.read_csv(\"~/Documents/Duke/Cynthia Research/KY-analysis-mytrials/KY Recidivism/KY data/kentucky_data.csv\")\n",
    "X_arnold = data['nca_risk_score_raw'].values\n",
    "Y_arnold = data['recid_M_two_year'].values\n",
    "\n",
    "## set up cross validation\n",
    "cv = KFold(n_splits=5,shuffle=True,random_state=816)\n",
    "arnold_auc = []\n",
    "for train, test in cv.split(X_arnold, Y_arnold):\n",
    "    y_pred_arnold, y_test = X_arnold[test], Y_arnold[test]\n",
    "    arnold_auc.append(roc_auc_score(y_test, y_pred_arnold))"
   ]
  },
  {
   "cell_type": "markdown",
   "metadata": {},
   "source": [
    "### Corel"
   ]
  },
  {
   "cell_type": "code",
   "execution_count": 2,
   "metadata": {},
   "outputs": [],
   "source": [
    "## load stumps data\n",
    "data = pd.read_csv(\"~/Documents/Duke/Cynthia Research/KY-analysis-mytrials/KY Recidivism/KY data/kentucky_stumps.csv\")\n",
    "x, y = data.loc[:,:'current_violence>=1'], data['recid_M_two_year'].values\n",
    "y[y == -1] = 0"
   ]
  },
  {
   "cell_type": "code",
   "execution_count": 3,
   "metadata": {
    "scrolled": true
   },
   "outputs": [
    {
     "name": "stderr",
     "output_type": "stream",
     "text": [
      "C:\\Users\\binha\\Documents\\Duke\\Cynthia Research\\psa-analysis - test2\\utils\\fairness_functions.py:82: RuntimeWarning:\n",
      "\n",
      "invalid value encountered in longlong_scalars\n",
      "\n",
      "C:\\Users\\binha\\Documents\\Duke\\Cynthia Research\\psa-analysis - test2\\utils\\fairness_functions.py:95: RuntimeWarning:\n",
      "\n",
      "divide by zero encountered in longlong_scalars\n",
      "\n",
      "C:\\Users\\binha\\Documents\\Duke\\Cynthia Research\\psa-analysis - test2\\utils\\fairness_functions.py:95: RuntimeWarning:\n",
      "\n",
      "divide by zero encountered in longlong_scalars\n",
      "\n",
      "C:\\Users\\binha\\Documents\\Duke\\Cynthia Research\\psa-analysis - test2\\utils\\fairness_functions.py:82: RuntimeWarning:\n",
      "\n",
      "invalid value encountered in longlong_scalars\n",
      "\n",
      "C:\\Users\\binha\\Documents\\Duke\\Cynthia Research\\psa-analysis - test2\\utils\\fairness_functions.py:86: RuntimeWarning:\n",
      "\n",
      "invalid value encountered in longlong_scalars\n",
      "\n",
      "C:\\Users\\binha\\Documents\\Duke\\Cynthia Research\\psa-analysis - test2\\utils\\fairness_functions.py:95: RuntimeWarning:\n",
      "\n",
      "invalid value encountered in longlong_scalars\n",
      "\n",
      "C:\\Users\\binha\\Documents\\Duke\\Cynthia Research\\psa-analysis - test2\\utils\\fairness_functions.py:82: RuntimeWarning:\n",
      "\n",
      "invalid value encountered in longlong_scalars\n",
      "\n",
      "C:\\Users\\binha\\Documents\\Duke\\Cynthia Research\\psa-analysis - test2\\utils\\fairness_functions.py:95: RuntimeWarning:\n",
      "\n",
      "divide by zero encountered in longlong_scalars\n",
      "\n",
      "C:\\Users\\binha\\Documents\\Duke\\Cynthia Research\\psa-analysis - test2\\utils\\fairness_functions.py:82: RuntimeWarning:\n",
      "\n",
      "invalid value encountered in longlong_scalars\n",
      "\n",
      "C:\\Users\\binha\\Documents\\Duke\\Cynthia Research\\psa-analysis - test2\\utils\\fairness_functions.py:95: RuntimeWarning:\n",
      "\n",
      "divide by zero encountered in longlong_scalars\n",
      "\n",
      "C:\\Users\\binha\\Documents\\Duke\\Cynthia Research\\psa-analysis - test2\\utils\\fairness_functions.py:82: RuntimeWarning:\n",
      "\n",
      "invalid value encountered in longlong_scalars\n",
      "\n",
      "C:\\Users\\binha\\Documents\\Duke\\Cynthia Research\\psa-analysis - test2\\utils\\fairness_functions.py:95: RuntimeWarning:\n",
      "\n",
      "divide by zero encountered in longlong_scalars\n",
      "\n",
      "C:\\Users\\binha\\Documents\\Duke\\Cynthia Research\\psa-analysis - test2\\utils\\fairness_functions.py:86: RuntimeWarning:\n",
      "\n",
      "invalid value encountered in longlong_scalars\n",
      "\n",
      "C:\\Users\\binha\\Documents\\Duke\\Cynthia Research\\psa-analysis - test2\\utils\\fairness_functions.py:95: RuntimeWarning:\n",
      "\n",
      "invalid value encountered in longlong_scalars\n",
      "\n"
     ]
    }
   ],
   "source": [
    "corel_summary = Corel.corel_cv(x, y, max_card=2, c=1e-4, seed=816)"
   ]
  },
  {
   "cell_type": "code",
   "execution_count": 4,
   "metadata": {},
   "outputs": [
    {
     "data": {
      "text/plain": [
       "(0.5447491595407804, 0.0020094981446215675)"
      ]
     },
     "execution_count": 4,
     "metadata": {},
     "output_type": "execute_result"
    }
   ],
   "source": [
    "np.mean(corel_summary['test_auc']), np.std(corel_summary['test_auc'])"
   ]
  },
  {
   "cell_type": "markdown",
   "metadata": {},
   "source": [
    "### Results"
   ]
  },
  {
   "cell_type": "code",
   "execution_count": 26,
   "metadata": {},
   "outputs": [
    {
     "name": "stdout",
     "output_type": "stream",
     "text": [
      "Stored 'summary_M2_KY_interpret' (dict)\n"
     ]
    }
   ],
   "source": [
    "#### save results\n",
    "summary_M2_KY_interpret = {\"CART\": cart_summary,\n",
    "                           \"EBM\": ebm_summary, \n",
    "                           'Lasso Stumps': stump_summary, \n",
    "                           'RiskSLIM': riskslim_summary, \n",
    "                           'Corel': corel_summary,\n",
    "                           'Arnold PSA': arnold_auc}\n",
    "%store summary_M2_KY_interpret"
   ]
  },
  {
   "cell_type": "code",
   "execution_count": 27,
   "metadata": {},
   "outputs": [
    {
     "data": {
      "text/plain": [
       "[['CART', 0.6829818600599438, 0.01871051495352529],\n",
       " ['EBM', 0.6937930159366317, 0.005239697762050066],\n",
       " ['Lasso Stumps', 0.6834968667251611, 0.00040384955047689797],\n",
       " ['RiskSLIM', 0.6512700830534838],\n",
       " ['Corel', 0.5447491595407804],\n",
       " ['Arnold PSA', 0.683]]"
      ]
     },
     "execution_count": 27,
     "metadata": {},
     "output_type": "execute_result"
    }
   ],
   "source": [
    "results = [[\"CART\", np.mean(cart_summary['holdout_test_auc']), np.mean(cart_summary['auc_diffs'])],\n",
    "           [\"EBM\", np.mean(ebm_summary['holdout_test_auc']), np.mean(ebm_summary['auc_diffs'])], \n",
    "           [\"Lasso Stumps\", np.mean(stump_summary['holdout_test_auc']), np.mean(stump_summary['auc_diffs'])],\n",
    "           ['RiskSLIM', np.mean(riskslim_summary['test_auc'])],\n",
    "           ['Corel', np.mean(corel_summary['test_auc'])],\n",
    "           ['Arnold PSA', round(np.mean(arnold_auc), 3)]]\n",
    "results"
   ]
  },
  {
   "cell_type": "code",
   "execution_count": 28,
   "metadata": {},
   "outputs": [],
   "source": [
    "auc = [np.mean(cart_summary['holdout_test_auc']), \n",
    "       np.mean(ebm_summary['holdout_test_auc']), \n",
    "       np.mean(stump_summary['holdout_test_auc']), \n",
    "       np.mean(riskslim_summary['test_auc']), \n",
    "       np.mean(corel_summary['test_auc'])]"
   ]
  },
  {
   "cell_type": "code",
   "execution_count": 29,
   "metadata": {},
   "outputs": [],
   "source": [
    "path = \"C:/Users/binha/Documents/Duke/Cynthia Research/KY-analysis-mytrials/KY Recidivism/KY Results/Models/Two Year/\"\n",
    "results = [[\"Misdemeanor\", np.str((round(np.mean(cart_summary['holdout_test_auc']), 3))) + \" (\" + np.str(round(np.std(cart_summary['holdout_test_auc']), 3)) + \")\", \n",
    "            np.str(round(np.mean(ebm_summary['holdout_test_auc']),3)) + \" (\" + np.str(round(np.std(ebm_summary['holdout_test_auc']), 3)) + \")\", \n",
    "            np.str(round(np.mean(stump_summary['holdout_test_auc']),3)) + \" (\" + np.str(round(np.std(stump_summary['holdout_test_auc']), 3)) + \")\",             \n",
    "            np.str(round(np.mean(riskslim_summary['test_auc']),3)) + \" (\" + np.str(round(np.std(riskslim_summary['test_auc']), 3)) + \")\", \n",
    "            np.str(round(np.mean(corel_summary['test_auc']),3)) + \" (\" + np.str(round(np.std(corel_summary['test_auc']), 3)) + \")\", \n",
    "            round(np.max(auc) - np.min(auc), 3),\n",
    "            np.str(round(np.mean(arnold_auc), 3)) + \" (\" + np.str(round(np.std(arnold_auc),3)) + \")\"]]\n",
    "with open(path + 'Interpretable Models Summary.csv', 'a') as writeFile:\n",
    "    writer = csv.writer(writeFile)\n",
    "    writer.writerows(results)"
   ]
  },
  {
   "cell_type": "code",
   "execution_count": 30,
   "metadata": {},
   "outputs": [],
   "source": [
    "cart_confusion = cart_summary['confusion_matrix_stats']\n",
    "ebm_confusion = ebm_summary['confusion_matrix_stats']\n",
    "riskslim_confusion = riskslim_summary['confusion_matrix_stats']\n",
    "stumps_confusion = stump_summary['confusion_matrix_stats']\n",
    "corel_confusion = corel_summary['confusion_matrix_stats']\n",
    "#arnold_confusion = cart_summary['confusion_matrix_stats']\n",
    "\n",
    "## save results\n",
    "cart_confusion.to_csv(r'C:/Users/binha/Documents/Duke/Cynthia Research/KY-analysis-mytrials/KY Recidivism/KY Fairness/Two Year/misdemeanor/cart_confusion.csv', index=None,header=True)\n",
    "ebm_confusion.to_csv(r'C:/Users/binha/Documents/Duke/Cynthia Research/KY-analysis-mytrials/KY Recidivism/KY Fairness/Two Year/misdemeanor/ebm_confusion.csv', index=None,header=True)\n",
    "riskslim_confusion.to_csv(r'C:/Users/binha/Documents/Duke/Cynthia Research/KY-analysis-mytrials/KY Recidivism/KY Fairness/Two Year/misdemeanor/riskslim_confusion.csv', index=None,header=True)\n",
    "stumps_confusion.to_csv(r'C:/Users/binha/Documents/Duke/Cynthia Research/KY-analysis-mytrials/KY Recidivism/KY Fairness/Two Year/misdemeanor/stumps_confusion.csv', index=None,header=True)\n",
    "corel_confusion.to_csv(r'C:/Users/binha/Documents/Duke/Cynthia Research/KY-analysis-mytrials/KY Recidivism/KY Fairness/Two Year/misdemeanor/corel_confusion.csv', index=None,header=True)\n",
    "#arnold_confusion.to_csv(r'C:/Users/binha/Documents/Duke/Cynthia Research/KY-analysis-mytrials/broward/broward models/model fairness/Two Year/general/arnold_confusion.csv', index=None,header=True)"
   ]
  },
  {
   "cell_type": "code",
   "execution_count": 5,
   "metadata": {},
   "outputs": [],
   "source": [
    "corel_confusion = corel_summary['confusion_matrix_stats']\n",
    "corel_confusion.to_csv(r'C:/Users/binha/Documents/Duke/Cynthia Research/KY-analysis-mytrials/KY Recidivism/KY Fairness/Two Year/misdemeanor/corel_confusion.csv', index=None,header=True)"
   ]
  }
 ],
 "metadata": {
  "kernelspec": {
   "display_name": "Python 3",
   "language": "python",
   "name": "python3"
  },
  "language_info": {
   "codemirror_mode": {
    "name": "ipython",
    "version": 3
   },
   "file_extension": ".py",
   "mimetype": "text/x-python",
   "name": "python",
   "nbconvert_exporter": "python",
   "pygments_lexer": "ipython3",
   "version": "3.7.4"
  }
 },
 "nbformat": 4,
 "nbformat_minor": 4
}
