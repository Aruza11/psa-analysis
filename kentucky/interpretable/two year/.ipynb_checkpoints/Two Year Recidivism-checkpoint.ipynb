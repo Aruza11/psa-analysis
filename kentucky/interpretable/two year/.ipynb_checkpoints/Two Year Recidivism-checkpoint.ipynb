{
 "cells": [
  {
   "cell_type": "code",
   "execution_count": 1,
   "metadata": {},
   "outputs": [
    {
     "name": "stdout",
     "output_type": "stream",
     "text": [
      "Current working directory is now:  C:\\Users\\binha\\Documents\\Duke\\Cynthia Research\\psa-analysis - test2\n"
     ]
    },
    {
     "name": "stderr",
     "output_type": "stream",
     "text": [
      "C:\\Users\\binha\\Anaconda3\\lib\\site-packages\\sklearn\\externals\\six.py:31: DeprecationWarning:\n",
      "\n",
      "The module is deprecated in version 0.21 and will be removed in version 0.23 since we've dropped support for Python 2.7. Please rely on the official version of six (https://pypi.org/project/six/).\n",
      "\n"
     ]
    }
   ],
   "source": [
    "import os \n",
    "os.chdir('../../../')\n",
    "print(\"Current working directory is now: \", os.getcwd())\n",
    "\n",
    "import pandas as pd \n",
    "import numpy as np\n",
    "import csv\n",
    "import utils.interpretable_functions as interpret\n",
    "import utils.RiskSLIM as slim\n",
    "import utils.stumps as stumps\n",
    "import utils.Corel as Corel\n",
    "\n",
    "from sklearn.linear_model import LogisticRegression\n",
    "from sklearn.model_selection import KFold, GridSearchCV\n",
    "from sklearn.metrics import roc_auc_score\n",
    "\n",
    "# restore saved variables\n",
    "%store -r summary_general2_KY_interpret"
   ]
  },
  {
   "cell_type": "markdown",
   "metadata": {},
   "source": [
    "### CART & EBM"
   ]
  },
  {
   "cell_type": "code",
   "execution_count": 3,
   "metadata": {},
   "outputs": [],
   "source": [
    "### load data\n",
    "data = pd.read_csv(\"~/Documents/Duke/Cynthia Research/KY-analysis-mytrials/KY Recidivism/KY data/kentucky_data.csv\")\n",
    "data = data.drop(['fta_risk_score_raw','nca_risk_score_raw','pvf_risk_score_raw', \n",
    "                  'fta_calc', 'nca_calc', 'pvf_calc'], axis=1)\n",
    "x = data.loc[:,:'current_violence']\n",
    "y = data['recid_two_year'].values"
   ]
  },
  {
   "cell_type": "code",
   "execution_count": 4,
   "metadata": {
    "scrolled": true
   },
   "outputs": [
    {
     "name": "stdout",
     "output_type": "stream",
     "text": [
      "model_id, score_thresholds 0 {'rank_abs': [3873]}\n",
      "get_disparity_predefined_group()\n",
      "model_id, score_thresholds 0 {'rank_abs': [3860]}\n",
      "get_disparity_predefined_group()\n",
      "model_id, score_thresholds 0 {'rank_abs': [3470]}\n",
      "get_disparity_predefined_group()\n"
     ]
    },
    {
     "name": "stderr",
     "output_type": "stream",
     "text": [
      "C:\\Users\\binha\\Documents\\Duke\\Cynthia Research\\psa-analysis - test2\\utils\\fairness_functions.py:95: RuntimeWarning:\n",
      "\n",
      "divide by zero encountered in longlong_scalars\n",
      "\n",
      "C:\\Users\\binha\\Documents\\Duke\\Cynthia Research\\psa-analysis - test2\\utils\\fairness_functions.py:82: RuntimeWarning:\n",
      "\n",
      "invalid value encountered in longlong_scalars\n",
      "\n"
     ]
    },
    {
     "name": "stdout",
     "output_type": "stream",
     "text": [
      "model_id, score_thresholds 0 {'rank_abs': [3943]}\n",
      "get_disparity_predefined_group()\n"
     ]
    },
    {
     "name": "stderr",
     "output_type": "stream",
     "text": [
      "C:\\Users\\binha\\Documents\\Duke\\Cynthia Research\\psa-analysis - test2\\utils\\fairness_functions.py:82: RuntimeWarning:\n",
      "\n",
      "invalid value encountered in longlong_scalars\n",
      "\n",
      "C:\\Users\\binha\\Documents\\Duke\\Cynthia Research\\psa-analysis - test2\\utils\\fairness_functions.py:95: RuntimeWarning:\n",
      "\n",
      "divide by zero encountered in longlong_scalars\n",
      "\n"
     ]
    },
    {
     "name": "stdout",
     "output_type": "stream",
     "text": [
      "model_id, score_thresholds 0 {'rank_abs': [3979]}\n",
      "get_disparity_predefined_group()\n"
     ]
    },
    {
     "name": "stderr",
     "output_type": "stream",
     "text": [
      "C:\\Users\\binha\\Documents\\Duke\\Cynthia Research\\psa-analysis - test2\\utils\\fairness_functions.py:82: RuntimeWarning:\n",
      "\n",
      "invalid value encountered in longlong_scalars\n",
      "\n",
      "C:\\Users\\binha\\Documents\\Duke\\Cynthia Research\\psa-analysis - test2\\utils\\fairness_functions.py:86: RuntimeWarning:\n",
      "\n",
      "invalid value encountered in longlong_scalars\n",
      "\n",
      "C:\\Users\\binha\\Documents\\Duke\\Cynthia Research\\psa-analysis - test2\\utils\\fairness_functions.py:95: RuntimeWarning:\n",
      "\n",
      "invalid value encountered in longlong_scalars\n",
      "\n",
      "WARNING:interpret.utils.all:Passing a numpy array to schema autogen when it should be dataframe.\n",
      "WARNING:interpret.utils.all:Passing a numpy array to schema autogen when it should be dataframe.\n",
      "WARNING:interpret.utils.all:Passing a numpy array to schema autogen when it should be dataframe.\n",
      "WARNING:interpret.utils.all:Passing a numpy array to schema autogen when it should be dataframe.\n",
      "WARNING:interpret.utils.all:Passing a numpy array to schema autogen when it should be dataframe.\n",
      "WARNING:interpret.utils.all:Passing a numpy array to schema autogen when it should be dataframe.\n",
      "WARNING:interpret.utils.all:Passing a numpy array to schema autogen when it should be dataframe.\n",
      "WARNING:interpret.utils.all:Passing a numpy array to schema autogen when it should be dataframe.\n",
      "WARNING:interpret.utils.all:Passing a numpy array to schema autogen when it should be dataframe.\n",
      "WARNING:interpret.utils.all:Passing a numpy array to schema autogen when it should be dataframe.\n",
      "WARNING:interpret.utils.all:Passing a numpy array to schema autogen when it should be dataframe.\n",
      "WARNING:interpret.utils.all:Passing a numpy array to schema autogen when it should be dataframe.\n"
     ]
    },
    {
     "name": "stdout",
     "output_type": "stream",
     "text": [
      "model_id, score_thresholds 0 {'rank_abs': [3729]}\n",
      "get_disparity_predefined_group()\n"
     ]
    },
    {
     "name": "stderr",
     "output_type": "stream",
     "text": [
      "WARNING:interpret.utils.all:Passing a numpy array to schema autogen when it should be dataframe.\n",
      "WARNING:interpret.utils.all:Passing a numpy array to schema autogen when it should be dataframe.\n",
      "WARNING:interpret.utils.all:Passing a numpy array to schema autogen when it should be dataframe.\n",
      "WARNING:interpret.utils.all:Passing a numpy array to schema autogen when it should be dataframe.\n",
      "WARNING:interpret.utils.all:Passing a numpy array to schema autogen when it should be dataframe.\n",
      "WARNING:interpret.utils.all:Passing a numpy array to schema autogen when it should be dataframe.\n",
      "WARNING:interpret.utils.all:Passing a numpy array to schema autogen when it should be dataframe.\n",
      "WARNING:interpret.utils.all:Passing a numpy array to schema autogen when it should be dataframe.\n",
      "WARNING:interpret.utils.all:Passing a numpy array to schema autogen when it should be dataframe.\n",
      "WARNING:interpret.utils.all:Passing a numpy array to schema autogen when it should be dataframe.\n",
      "WARNING:interpret.utils.all:Passing a numpy array to schema autogen when it should be dataframe.\n",
      "WARNING:interpret.utils.all:Passing a numpy array to schema autogen when it should be dataframe.\n"
     ]
    },
    {
     "name": "stdout",
     "output_type": "stream",
     "text": [
      "model_id, score_thresholds 0 {'rank_abs': [3823]}\n",
      "get_disparity_predefined_group()\n"
     ]
    },
    {
     "name": "stderr",
     "output_type": "stream",
     "text": [
      "WARNING:interpret.utils.all:Passing a numpy array to schema autogen when it should be dataframe.\n",
      "WARNING:interpret.utils.all:Passing a numpy array to schema autogen when it should be dataframe.\n",
      "WARNING:interpret.utils.all:Passing a numpy array to schema autogen when it should be dataframe.\n",
      "WARNING:interpret.utils.all:Passing a numpy array to schema autogen when it should be dataframe.\n",
      "WARNING:interpret.utils.all:Passing a numpy array to schema autogen when it should be dataframe.\n",
      "WARNING:interpret.utils.all:Passing a numpy array to schema autogen when it should be dataframe.\n",
      "WARNING:interpret.utils.all:Passing a numpy array to schema autogen when it should be dataframe.\n",
      "WARNING:interpret.utils.all:Passing a numpy array to schema autogen when it should be dataframe.\n",
      "WARNING:interpret.utils.all:Passing a numpy array to schema autogen when it should be dataframe.\n",
      "WARNING:interpret.utils.all:Passing a numpy array to schema autogen when it should be dataframe.\n",
      "WARNING:interpret.utils.all:Passing a numpy array to schema autogen when it should be dataframe.\n",
      "WARNING:interpret.utils.all:Passing a numpy array to schema autogen when it should be dataframe.\n"
     ]
    },
    {
     "name": "stdout",
     "output_type": "stream",
     "text": [
      "model_id, score_thresholds 0 {'rank_abs': [3939]}\n",
      "get_disparity_predefined_group()\n"
     ]
    },
    {
     "name": "stderr",
     "output_type": "stream",
     "text": [
      "C:\\Users\\binha\\Documents\\Duke\\Cynthia Research\\psa-analysis - test2\\utils\\fairness_functions.py:82: RuntimeWarning:\n",
      "\n",
      "invalid value encountered in longlong_scalars\n",
      "\n",
      "C:\\Users\\binha\\Documents\\Duke\\Cynthia Research\\psa-analysis - test2\\utils\\fairness_functions.py:95: RuntimeWarning:\n",
      "\n",
      "divide by zero encountered in longlong_scalars\n",
      "\n",
      "WARNING:interpret.utils.all:Passing a numpy array to schema autogen when it should be dataframe.\n",
      "WARNING:interpret.utils.all:Passing a numpy array to schema autogen when it should be dataframe.\n",
      "WARNING:interpret.utils.all:Passing a numpy array to schema autogen when it should be dataframe.\n",
      "WARNING:interpret.utils.all:Passing a numpy array to schema autogen when it should be dataframe.\n",
      "WARNING:interpret.utils.all:Passing a numpy array to schema autogen when it should be dataframe.\n",
      "WARNING:interpret.utils.all:Passing a numpy array to schema autogen when it should be dataframe.\n",
      "WARNING:interpret.utils.all:Passing a numpy array to schema autogen when it should be dataframe.\n",
      "WARNING:interpret.utils.all:Passing a numpy array to schema autogen when it should be dataframe.\n",
      "WARNING:interpret.utils.all:Passing a numpy array to schema autogen when it should be dataframe.\n",
      "WARNING:interpret.utils.all:Passing a numpy array to schema autogen when it should be dataframe.\n",
      "WARNING:interpret.utils.all:Passing a numpy array to schema autogen when it should be dataframe.\n",
      "WARNING:interpret.utils.all:Passing a numpy array to schema autogen when it should be dataframe.\n"
     ]
    },
    {
     "name": "stdout",
     "output_type": "stream",
     "text": [
      "model_id, score_thresholds 0 {'rank_abs': [3886]}\n",
      "get_disparity_predefined_group()\n"
     ]
    },
    {
     "name": "stderr",
     "output_type": "stream",
     "text": [
      "C:\\Users\\binha\\Documents\\Duke\\Cynthia Research\\psa-analysis - test2\\utils\\fairness_functions.py:95: RuntimeWarning:\n",
      "\n",
      "divide by zero encountered in longlong_scalars\n",
      "\n",
      "WARNING:interpret.utils.all:Passing a numpy array to schema autogen when it should be dataframe.\n",
      "WARNING:interpret.utils.all:Passing a numpy array to schema autogen when it should be dataframe.\n",
      "WARNING:interpret.utils.all:Passing a numpy array to schema autogen when it should be dataframe.\n",
      "WARNING:interpret.utils.all:Passing a numpy array to schema autogen when it should be dataframe.\n",
      "WARNING:interpret.utils.all:Passing a numpy array to schema autogen when it should be dataframe.\n",
      "WARNING:interpret.utils.all:Passing a numpy array to schema autogen when it should be dataframe.\n",
      "WARNING:interpret.utils.all:Passing a numpy array to schema autogen when it should be dataframe.\n",
      "WARNING:interpret.utils.all:Passing a numpy array to schema autogen when it should be dataframe.\n",
      "WARNING:interpret.utils.all:Passing a numpy array to schema autogen when it should be dataframe.\n",
      "WARNING:interpret.utils.all:Passing a numpy array to schema autogen when it should be dataframe.\n",
      "WARNING:interpret.utils.all:Passing a numpy array to schema autogen when it should be dataframe.\n",
      "WARNING:interpret.utils.all:Passing a numpy array to schema autogen when it should be dataframe.\n"
     ]
    },
    {
     "name": "stdout",
     "output_type": "stream",
     "text": [
      "model_id, score_thresholds 0 {'rank_abs': [3965]}\n",
      "get_disparity_predefined_group()\n"
     ]
    },
    {
     "name": "stderr",
     "output_type": "stream",
     "text": [
      "C:\\Users\\binha\\Documents\\Duke\\Cynthia Research\\psa-analysis - test2\\utils\\fairness_functions.py:82: RuntimeWarning:\n",
      "\n",
      "invalid value encountered in longlong_scalars\n",
      "\n",
      "C:\\Users\\binha\\Documents\\Duke\\Cynthia Research\\psa-analysis - test2\\utils\\fairness_functions.py:86: RuntimeWarning:\n",
      "\n",
      "invalid value encountered in longlong_scalars\n",
      "\n",
      "C:\\Users\\binha\\Documents\\Duke\\Cynthia Research\\psa-analysis - test2\\utils\\fairness_functions.py:95: RuntimeWarning:\n",
      "\n",
      "invalid value encountered in longlong_scalars\n",
      "\n"
     ]
    }
   ],
   "source": [
    "#### CART\n",
    "depth = [7,8,9]\n",
    "cart_summary = interpret.CART(X=x,\n",
    "                         Y=y,\n",
    "                         depth=depth,\n",
    "                         seed=816)\n",
    "\n",
    "#### EBM\n",
    "estimators = [40]\n",
    "depth = [2]\n",
    "learning_rate = [0.5]\n",
    "ebm_summary = interpret.EBM(X=x,\n",
    "                       Y=y,\n",
    "                       learning_rate=learning_rate,\n",
    "                       depth=depth,\n",
    "                       estimators=estimators,\n",
    "                       seed =816)"
   ]
  },
  {
   "cell_type": "code",
   "execution_count": 7,
   "metadata": {},
   "outputs": [
    {
     "data": {
      "text/plain": [
       "(0.7124557209857397, 0.010995292197268159)"
      ]
     },
     "execution_count": 7,
     "metadata": {},
     "output_type": "execute_result"
    }
   ],
   "source": [
    "np.mean(cart_summary['holdout_test_auc']), np.mean(cart_summary['auc_diffs'])"
   ]
  },
  {
   "cell_type": "code",
   "execution_count": 8,
   "metadata": {},
   "outputs": [
    {
     "data": {
      "text/plain": [
       "(0.7194362050665991, 0.004092846234606174)"
      ]
     },
     "execution_count": 8,
     "metadata": {},
     "output_type": "execute_result"
    }
   ],
   "source": [
    "np.mean(ebm_summary['holdout_test_auc']), np.mean(ebm_summary['auc_diffs'])"
   ]
  },
  {
   "cell_type": "markdown",
   "metadata": {},
   "source": [
    "## Lasso Stumps"
   ]
  },
  {
   "cell_type": "code",
   "execution_count": 9,
   "metadata": {},
   "outputs": [],
   "source": [
    "## load whole data\n",
    "data = pd.read_csv(\"~/Documents/Duke/Cynthia Research/KY-analysis-mytrials/KY Recidivism/KY data/kentucky_stumps.csv\")\n",
    "X_stumps, Y_stumps = data.loc[:,:'current_violence>=1'], data['recid_two_year'].values\n",
    "Y_stumps[Y_stumps == -1] = 0\n",
    "cols = X_stumps.columns[3:]\n",
    "\n",
    "## load train & test data\n",
    "train_stumps = pd.read_csv(\"~/Documents/Duke/Cynthia Research/KY-analysis-mytrials/KY Recidivism/KY data/kentucky_train_stumps.csv\")\n",
    "test_stumps = pd.read_csv(\"~/Documents/Duke/Cynthia Research/KY-analysis-mytrials/KY Recidivism/KY data/kentucky_test_stumps.csv\")\n",
    "X_train_stumps, Y_train_stumps = train_stumps.loc[:,:'current_violence>=1'], train_stumps['recid_two_year'].values\n",
    "X_test_stumps, Y_test_stumps = test_stumps.loc[:,:'current_violence>=1'], test_stumps['recid_two_year'].values\n",
    "Y_train_stumps[Y_train_stumps == -1] = 0\n",
    "Y_test_stumps[Y_test_stumps == -1] = 0"
   ]
  },
  {
   "cell_type": "markdown",
   "metadata": {},
   "source": [
    "#### Nested Cross Validation"
   ]
  },
  {
   "cell_type": "code",
   "execution_count": 10,
   "metadata": {
    "scrolled": true
   },
   "outputs": [
    {
     "name": "stdout",
     "output_type": "stream",
     "text": [
      "model_id, score_thresholds 0 {'rank_abs': [8793]}\n",
      "get_disparity_predefined_group()\n",
      "model_id, score_thresholds 0 {'rank_abs': [8717]}\n",
      "get_disparity_predefined_group()\n",
      "model_id, score_thresholds 0 {'rank_abs': [9301]}\n",
      "get_disparity_predefined_group()\n",
      "model_id, score_thresholds 0 {'rank_abs': [8541]}\n",
      "get_disparity_predefined_group()\n",
      "model_id, score_thresholds 0 {'rank_abs': [9225]}\n",
      "get_disparity_predefined_group()\n"
     ]
    },
    {
     "name": "stderr",
     "output_type": "stream",
     "text": [
      "C:\\Users\\binha\\Documents\\Duke\\Cynthia Research\\psa-analysis - test2\\utils\\fairness_functions.py:86: RuntimeWarning:\n",
      "\n",
      "invalid value encountered in longlong_scalars\n",
      "\n"
     ]
    }
   ],
   "source": [
    "stump_summary = stumps.stump_cv(X = X_stumps, \n",
    "                                Y = Y_stumps, \n",
    "                                columns=cols, \n",
    "                                c_grid={'C': [0.001, 0.002, 0.003]}, \n",
    "                                seed = 816)"
   ]
  },
  {
   "cell_type": "code",
   "execution_count": 11,
   "metadata": {},
   "outputs": [
    {
     "data": {
      "text/plain": [
       "([{'C': 0.003}, {'C': 0.003}, {'C': 0.003}, {'C': 0.003}, {'C': 0.003}],\n",
       " 0.7119243315405125,\n",
       " 0.0002779238278749485)"
      ]
     },
     "execution_count": 11,
     "metadata": {},
     "output_type": "execute_result"
    }
   ],
   "source": [
    "stump_summary['best_params'], np.mean(stump_summary['holdout_test_auc']), np.mean(stump_summary['auc_diffs'])"
   ]
  },
  {
   "cell_type": "markdown",
   "metadata": {},
   "source": [
    "##### Best Stump Model"
   ]
  },
  {
   "cell_type": "code",
   "execution_count": 12,
   "metadata": {},
   "outputs": [
    {
     "data": {
      "text/plain": [
       "17"
      ]
     },
     "execution_count": 12,
     "metadata": {},
     "output_type": "execute_result"
    }
   ],
   "source": [
    "best_stump_model = stumps.stump_model(X_train_stumps, \n",
    "                                      Y_train_stumps, \n",
    "                                      X_test_stumps, \n",
    "                                      Y_test_stumps, \n",
    "                                      c=0.003, \n",
    "                                      columns=cols, \n",
    "                                      seed=816)\n",
    "len(best_stump_model['features'])"
   ]
  },
  {
   "cell_type": "markdown",
   "metadata": {},
   "source": [
    "##### Prediction Table"
   ]
  },
  {
   "cell_type": "code",
   "execution_count": 13,
   "metadata": {
    "scrolled": true
   },
   "outputs": [
    {
     "name": "stdout",
     "output_type": "stream",
     "text": [
      "\begin{tabular}{|l|r|r|} \\hline\n",
      "1. sex>=1 & 2.3 & +... \\ \\hline\n",
      "2. age_at_current_charge<=38 & 7.8 & +... \\ \\hline\n",
      "3. p_arrest>=1 & 36.2 & -... \\ \\hline\n",
      "4. p_arrest>=2 & 59.6 & +... \\ \\hline\n",
      "5. p_arrest>=3 & 39.8 & +... \\ \\hline\n",
      "6. p_arrest>=4 & 25.1 & +... \\ \\hline\n",
      "7. p_arrest>=5 & 16.8 & +... \\ \\hline\n",
      "8. p_charges>=1 & 17.1 & -... \\ \\hline\n",
      "9. p_charges>=2 & 1.4 & +... \\ \\hline\n",
      "10. p_violence>=1 & 16.4 & +... \\ \\hline\n",
      "11. p_felony>=1 & 12.9 & +... \\ \\hline\n",
      "12. p_stealing>=1 & 3.3 & -... \\ \\hline\n",
      "13. ADE>=1 & 4.0 & -... \\ \\hline\n",
      "14. p_jail30>=1 & 20.8 & +... \\ \\hline\n",
      "15. p_pending_charge>=1 & 44.7 & +... \\ \\hline\n",
      "16. p_probation>=1 & 24.3 & +... \\ \\hline\n",
      "17. one_year>=1 & 3.2 & +... \\ \\hline\n",
      "18. Intercept & -0.268 & +... \\ \\hline\n",
      "\textbf{ADD POINTS FROM ROWS 1 TO 18}  &  \textbf{SCORE} & = ..... \\ \\hline\n",
      "\\multicolumn{3}{l}{Pr(Y = 1) = exp(score/100) / (1 + exp(score/100))} \\ \\hline\n"
     ]
    }
   ],
   "source": [
    "stumps.latex_stump_table(best_stump_model['coefs'], \n",
    "                         best_stump_model['features'], \n",
    "                         best_stump_model['intercept'], \n",
    "                         best_stump_model['dictionary'])"
   ]
  },
  {
   "cell_type": "markdown",
   "metadata": {},
   "source": [
    "##### Stumps Visualizations"
   ]
  },
  {
   "cell_type": "code",
   "execution_count": 14,
   "metadata": {
    "scrolled": true
   },
   "outputs": [
    {
     "data": {
      "image/png": "[encoded data removed]",
      "text/plain": [
       "<Figure size 288x216 with 1 Axes>"
      ]
     },
     "metadata": {
      "needs_background": "light"
     },
     "output_type": "display_data"
    },
    {
     "data": {
      "image/png": "[encoded data removed]",
      "text/plain": [
       "<Figure size 288x216 with 1 Axes>"
      ]
     },
     "metadata": {
      "needs_background": "light"
     },
     "output_type": "display_data"
    },
    {
     "data": {
      "image/png": "[encoded data removed]",
      "text/plain": [
       "<Figure size 288x216 with 1 Axes>"
      ]
     },
     "metadata": {
      "needs_background": "light"
     },
     "output_type": "display_data"
    },
    {
     "data": {
      "image/png": "[encoded data removed]",
      "text/plain": [
       "<Figure size 288x216 with 1 Axes>"
      ]
     },
     "metadata": {
      "needs_background": "light"
     },
     "output_type": "display_data"
    },
    {
     "data": {
      "image/png": "[encoded data removed]",
      "text/plain": [
       "<Figure size 288x216 with 1 Axes>"
      ]
     },
     "metadata": {
      "needs_background": "light"
     },
     "output_type": "display_data"
    },
    {
     "data": {
      "image/png": "[encoded data removed]",
      "text/plain": [
       "<Figure size 288x216 with 1 Axes>"
      ]
     },
     "metadata": {
      "needs_background": "light"
     },
     "output_type": "display_data"
    },
    {
     "data": {
      "image/png": "[encoded data removed]",
      "text/plain": [
       "<Figure size 288x216 with 1 Axes>"
      ]
     },
     "metadata": {
      "needs_background": "light"
     },
     "output_type": "display_data"
    },
    {
     "data": {
      "image/png": "[encoded data removed]",
      "text/plain": [
       "<Figure size 288x216 with 1 Axes>"
      ]
     },
     "metadata": {
      "needs_background": "light"
     },
     "output_type": "display_data"
    },
    {
     "data": {
      "image/png": "[encoded data removed]",
      "text/plain": [
       "<Figure size 288x216 with 1 Axes>"
      ]
     },
     "metadata": {
      "needs_background": "light"
     },
     "output_type": "display_data"
    },
    {
     "data": {
      "image/png": "[encoded data removed]",
      "text/plain": [
       "<Figure size 288x216 with 1 Axes>"
      ]
     },
     "metadata": {
      "needs_background": "light"
     },
     "output_type": "display_data"
    },
    {
     "data": {
      "image/png": "[encoded data removed]",
      "text/plain": [
       "<Figure size 288x216 with 1 Axes>"
      ]
     },
     "metadata": {
      "needs_background": "light"
     },
     "output_type": "display_data"
    },
    {
     "data": {
      "image/png": "[encoded data removed]",
      "text/plain": [
       "<Figure size 288x216 with 1 Axes>"
      ]
     },
     "metadata": {
      "needs_background": "light"
     },
     "output_type": "display_data"
    }
   ],
   "source": [
    "stumps.stump_plots(best_stump_model['features'], best_stump_model['coefs'], indicator=\"KY\")"
   ]
  },
  {
   "cell_type": "markdown",
   "metadata": {},
   "source": [
    "## RiskSLIM"
   ]
  },
  {
   "cell_type": "code",
   "execution_count": 15,
   "metadata": {},
   "outputs": [],
   "source": [
    "## load stumps data\n",
    "data = pd.read_csv(\"~/Documents/Duke/Cynthia Research/KY-analysis-mytrials/KY Recidivism/KY data/kentucky_stumps.csv\")\n",
    "x, y = data.loc[:,:'current_violence>=1'], data['recid_two_year'].values\n",
    "cols = x.columns[3:]"
   ]
  },
  {
   "cell_type": "code",
   "execution_count": 16,
   "metadata": {},
   "outputs": [
    {
     "data": {
      "text/plain": [
       "34"
      ]
     },
     "execution_count": 16,
     "metadata": {},
     "output_type": "execute_result"
    }
   ],
   "source": [
    "## train on best param chosen by Lasso Stumps from above\n",
    "x_train = x.copy().drop(['race', 'person_id', 'screening_date'], axis=1)\n",
    "lasso = LogisticRegression(class_weight='balanced', solver='liblinear', penalty='l1', C=0.009, random_state=816).fit(x_train,y)\n",
    "selected_features = cols[lasso.coef_[0] != 0].tolist()\n",
    "len(selected_features)"
   ]
  },
  {
   "cell_type": "code",
   "execution_count": 17,
   "metadata": {},
   "outputs": [],
   "source": [
    "### Subset features\n",
    "if 'sex>=1' in selected_features:\n",
    "    selected_features = ['recid_two_year', 'person_id', 'screening_date', 'race'] + selected_features\n",
    "    indicator = 1\n",
    "else:\n",
    "    selected_features = ['recid_two_year', 'person_id', 'screening_date', 'race', 'sex>=1'] + selected_features\n",
    "    indicator = 0\n",
    "\n",
    "sub_data = data[selected_features]\n",
    "sub_X, sub_Y = sub_data.iloc[:,1:], sub_data.iloc[:,0].values\n",
    "sub_X.insert(0, '(Intercept)', 1)"
   ]
  },
  {
   "cell_type": "code",
   "execution_count": 18,
   "metadata": {
    "scrolled": true
   },
   "outputs": [
    {
     "name": "stdout",
     "output_type": "stream",
     "text": [
      "setting c0 = 0.0 to ensure that intercept is not penalized\n",
      "10/01/19 @ 01:48 PM | 1461 rows in lookup table\n",
      "10/01/19 @ 01:48 PM | ------------------------------------------------------------\n",
      "10/01/19 @ 01:48 PM | runnning initialization procedure\n",
      "10/01/19 @ 01:48 PM | ------------------------------------------------------------\n",
      "10/01/19 @ 01:48 PM | CPA produced 2 cuts\n",
      "10/01/19 @ 01:48 PM | running naive rounding on 32 solutions\n",
      "10/01/19 @ 01:48 PM | best objective value: 0.5909\n",
      "10/01/19 @ 01:48 PM | rounding produced 5 integer solutions\n",
      "10/01/19 @ 01:48 PM | best objective value is 0.6088\n",
      "10/01/19 @ 01:48 PM | running sequential rounding on 32 solutions\n",
      "10/01/19 @ 01:48 PM | best objective value: 0.5909\n",
      "10/01/19 @ 01:48 PM | sequential rounding produced 6 integer solutions\n",
      "10/01/19 @ 01:48 PM | best objective value: 0.6088\n",
      "10/01/19 @ 01:48 PM | polishing 11 solutions\n",
      "10/01/19 @ 01:48 PM | best objective value: 0.6088\n",
      "10/01/19 @ 01:48 PM | polishing produced 5 integer solutions\n",
      "10/01/19 @ 01:48 PM | initialization produced 13 feasible solutions\n",
      "10/01/19 @ 01:48 PM | best objective value: 0.5958\n",
      "10/01/19 @ 01:48 PM | ------------------------------------------------------------\n",
      "10/01/19 @ 01:48 PM | completed initialization procedure\n",
      "10/01/19 @ 01:48 PM | ------------------------------------------------------------\n",
      "10/01/19 @ 01:48 PM | 1461 rows in lookup table\n",
      "CPXPARAM_Read_DataCheck                          1\n",
      "CPXPARAM_Threads                                 1\n",
      "CPXPARAM_Parallel                                1\n",
      "CPXPARAM_RandomSeed                              0\n",
      "CPXPARAM_TimeLimit                               200\n",
      "CPXPARAM_MIP_Tolerances_LowerCutoff              0.57570648992426832\n",
      "CPXPARAM_MIP_Tolerances_UpperCutoff              0.59584434923858165\n"
     ]
    },
    {
     "name": "stderr",
     "output_type": "stream",
     "text": [
      "Warning: Control callbacks may disable some MIP features.\n"
     ]
    },
    {
     "name": "stdout",
     "output_type": "stream",
     "text": [
      "Lazy constraint(s) or lazy constraint callback is present.\n",
      "    Disabling dual reductions (CPX_PARAM_REDUCE) in presolve.\n",
      "    Disabling non-linear reductions (CPX_PARAM_PRELINEAR) in presolve.\n",
      "         Disabling repeat represolve because of lazy constraint/incumbent callback.\n",
      "10/01/19 @ 01:48 PM | adding 249 initial cuts\n",
      "1 of 1 MIP starts provided solutions.\n",
      "MIP start 'mip_start_0' defined initial solution with objective 0.5958.\n",
      "Tried aggregator 1 time.\n",
      "Reduced MIP has 36 rows, 72 columns, and 139 nonzeros.\n",
      "Reduced MIP has 34 binaries, 36 generals, 0 SOSs, and 0 indicators.\n",
      "Presolve time = 0.02 sec. (0.08 ticks)\n",
      "Probing time = 0.00 sec. (0.02 ticks)\n",
      "MIP emphasis: balance optimality and feasibility.\n",
      "MIP search method: traditional branch-and-cut.\n",
      "Parallel mode: none, using 1 thread.\n",
      "Root relaxation solution time = 0.00 sec. (0.05 ticks)\n",
      "\n",
      "        Nodes                                         Cuts/\n",
      "   Node  Left     Objective  IInf  Best Integer    Best Bound    ItCnt     Gap         Variable B NodeID Parent  Depth\n",
      "\n",
      "*     0+    0                            0.5958        0.5757             3.38%\n",
      "      0     0        0.5757     1        0.5958        0.5757        1    3.38%\n",
      "      0     0        0.5757     1        0.5958      Fract: 1        2    3.38%\n",
      "      0     0        0.5757     1        0.5958       Cuts: 3        4    3.38%\n",
      "      0     0        0.5757     2        0.5958    MIRcuts: 1        5    3.38%\n",
      "      0     2        0.5757     5        0.5958        0.5757        5    3.38%                        0             0\n",
      "Elapsed time = 0.14 sec. (2.89 ticks, tree = 0.01 MB, solutions = 1)\n",
      "   1952  1174        cutoff              0.5958        0.5757     9366    3.38%          rho_21 U   1952   1951     33\n",
      "   3030  1742        0.5913     0        0.5958        0.5757    16161    3.38%          rho_19 D   3030   3029     28\n",
      "   3903  2212        0.5870     7        0.5958        0.5757    21443    3.38%           rho_0 D   3903   3902     29\n",
      "   4711  2660        0.5948     4        0.5958        0.5757    25347    3.38%          rho_24 D   4711   4710     28\n",
      "   5450  3056        0.5809     9        0.5958        0.5757    29554    3.38%          rho_16 D   5450   5449     70\n",
      "   6207  3362        cutoff              0.5958        0.5757    33910    3.38%          rho_23 D   6207   6206     65\n",
      "   6924  3658        0.5908    10        0.5958        0.5757    38115    3.38%          rho_18 D   6924   6923     35\n",
      "   7600  3878        0.5899     7        0.5958        0.5757    42575    3.38%          rho_28 D   7600   7598     59\n",
      "   8280  4105        0.5862    12        0.5958        0.5757    46950    3.38%           rho_9 D   8280   8279     54\n",
      "  10803  5331        0.5886    11        0.5958        0.5757    64615    3.38%           rho_9 U  10803  10802     74\n",
      "Elapsed time = 4.17 sec. (3105.54 ticks, tree = 1.68 MB, solutions = 1)\n",
      "  13211  6646        0.5757     4        0.5958        0.5757    81206    3.38%           rho_0 D  13211  13209     44\n",
      "  15525  7630        cutoff              0.5958        0.5757    98898    3.38%           rho_0 U  15525  15524     79\n",
      "  17883  8485        0.5912    14        0.5958        0.5757   116323    3.38%          rho_24 D  17883  17882     61\n",
      "  20280  9476        0.5824    14        0.5958        0.5757   132918    3.38%          rho_10 D  20280  20279     17\n",
      "  22354 10399        0.5757     4        0.5958        0.5757   150537    3.38%          rho_17 U  22354  22344     46\n",
      "  24519 11343        cutoff              0.5958        0.5757   165859    3.38%           rho_0 U  24519  24518     13\n",
      "  26352 12120        0.5888    11        0.5958        0.5757   180533    3.38%           rho_9 U  26352  26351     26\n",
      "  28310 13186        0.5955     7        0.5958        0.5757   194663    3.38%          rho_16 U  28310  28308     44\n",
      "  30120 14022        0.5757     6        0.5958        0.5757   208873    3.38%           rho_0 D  30120  30118     61\n",
      "  31790 14761        0.5757    19        0.5958        0.5757   223522    3.38%          rho_17 D  31790  31789     25\n",
      "Elapsed time = 10.80 sec. (12645.02 ticks, tree = 4.70 MB, solutions = 1)\n",
      "  33274 15443        0.5757     6        0.5958        0.5757   239599    3.38%          rho_17 D  33274  33273     64\n",
      "  34777 16077        0.5771     9        0.5958        0.5757   254992    3.38%           rho_0 D  34777  34775     68\n",
      "  36244 16677        0.5854    16        0.5958        0.5757   270198    3.38%          rho_34 D  36244  36242     72\n",
      "  37925 17609        0.5797    13        0.5958        0.5757   283975    3.38%          rho_11 U  37925  37924     12\n",
      "  39497 18335        0.5757     1        0.5958        0.5757   297431    3.38%          rho_17 U  39497  39496     67\n",
      "  41055 18980        0.5757     5        0.5958        0.5757   310688    3.38%           rho_0 D  41055  41053     68\n",
      "  42531 19577        0.5939    11        0.5958        0.5757   324784    3.38%           rho_4 D  42531  42530     73\n",
      "  43980 20236        0.5757    10        0.5958        0.5757   338360    3.38%           rho_0 D  43980  43979     72\n",
      "  45423 20844        0.5952     8        0.5958        0.5757   351696    3.38%           rho_5 D  45423  45421     32\n",
      "  46908 21461        0.5776    14        0.5958        0.5757   363815    3.38%          rho_20 D  46908  46907     22\n",
      "Elapsed time = 16.20 sec. (22186.37 ticks, tree = 7.39 MB, solutions = 1)\n",
      "  48518 22156        0.5905    12        0.5958        0.5757   375858    3.38%          rho_28 D  48518  48517     63\n",
      "  49853 22745        0.5796     5        0.5958        0.5757   389423    3.38%          rho_17 U  49853  49851     52\n",
      "  51294 23480        0.5757     5        0.5958        0.5757   400660    3.38%          rho_17 U  51294  51292     52\n",
      "  52728 24186        0.5757     7        0.5958        0.5757   411457    3.38%           rho_0 D  52728  52726     23\n",
      "  54216 24687        0.5795     8        0.5958        0.5757   424667    3.38%          rho_17 D  54216  54079     62\n",
      "  55590 25226        0.5918    11        0.5958        0.5757   436644    3.38%          rho_23 D  55590  55589     81\n",
      "  56802 25724        0.5874     2        0.5958        0.5757   449569    3.38%           rho_0 U  56802  56801     14\n",
      "  58168 26539        0.5772    15        0.5958        0.5757   460779    3.38%          rho_17 D  58168  58167     55\n",
      "  59304 27054        0.5787    18        0.5958        0.5757   474129    3.38%          rho_21 U  59304  59303     95\n",
      "  60339 27550        0.5823    13        0.5958        0.5757   487175    3.38%          rho_18 D  60339  60338     46\n",
      "Elapsed time = 21.88 sec. (31730.13 ticks, tree = 9.29 MB, solutions = 1)\n",
      "  61382 28081        0.5955     4        0.5958        0.5757   499879    3.38%          rho_34 U  61382  61380     92\n",
      "  62529 28611        0.5757     6        0.5958        0.5757   511563    3.38%          rho_17 U  62529  62527     60\n",
      "  63687 29225        0.5757    10        0.5958        0.5757   523239    3.38%          rho_14 U  63687  63686     17\n",
      "  64963 30135        0.5757    15        0.5958        0.5757   531632    3.38%           rho_0 U  64963  64962     23\n",
      "  66216 30791        0.5757     1        0.5958        0.5757   541881    3.38%          rho_17 U  66216  66214     48\n",
      "  67489 31402        0.5958     5        0.5958        0.5757   551936    3.38%          rho_22 U  67489  67488     58\n",
      "  68841 31923        0.5796    10        0.5958        0.5757   560996    3.38%           rho_0 D  68841  68840     34\n",
      "  70450 32439        0.5935     9        0.5958        0.5757   571053    3.38%          rho_23 D  70450  70448     42\n",
      "  71961 33105        cutoff              0.5958        0.5757   581176    3.38%          rho_27 U  71961  71960     33\n",
      "  73315 33784        0.5894    16        0.5958        0.5757   592487    3.38%          rho_23 D  73315  73313     49\n",
      "Elapsed time = 28.14 sec. (41269.76 ticks, tree = 12.64 MB, solutions = 1)\n",
      "  74618 34358        0.5896    10        0.5958        0.5757   604043    3.38%           rho_5 D  74618  74617     55\n",
      "  75921 34918        0.5800    12        0.5958        0.5757   615454    3.38%           rho_5 D  75921  75920     54\n",
      "  77154 35504        0.5833    11        0.5958        0.5757   626742    3.38%          rho_17 D  77154  77153     31\n",
      "  78350 36075        0.5757     5        0.5958        0.5757   638645    3.38%          rho_17 U  78350  78349     54\n",
      "  79546 36641        0.5757    13        0.5958        0.5757   650007    3.38%           rho_8 U  79546  79450     14\n",
      "  80956 37310        0.5757     8        0.5958        0.5757   659273    3.38%          rho_17 D  80956  80955     24\n",
      "  82250 37787        0.5809     9        0.5958        0.5757   670189    3.38%          rho_21 U  82250  82249     35\n",
      "  83527 38144        0.5953     8        0.5958        0.5757   680219    3.38%           rho_3 U  83527  83526     60\n",
      "  84793 38575        cutoff              0.5958        0.5757   690645    3.38%          rho_23 U  84793  84792     75\n",
      "  86045 38974        cutoff              0.5958        0.5757   701353    3.38%           rho_9 U  86045  86043     91\n",
      "Elapsed time = 35.09 sec. (50811.18 ticks, tree = 14.29 MB, solutions = 1)\n",
      "  87293 39359        0.5777     8        0.5958        0.5757   711920    3.38%           rho_9 U  87293  81268     30\n",
      "  88550 39752        0.5777     7        0.5958        0.5757   722387    3.38%           rho_9 U  88550  84274     64\n",
      "  89840 40211        0.5812    13        0.5958        0.5757   732814    3.38%          rho_18 D  89840  89839     54\n",
      "  91088 40757        0.5757     5        0.5958        0.5757   743822    3.38%          rho_17 U  91088  91086     47\n",
      "  92316 41306        0.5757     9        0.5958        0.5757   754287    3.38%          rho_17 D  92316  92254     63\n",
      "  93550 41753        0.5777    14        0.5958        0.5757   764706    3.38%           rho_9 U  93550  93302     77\n",
      "  94720 42330        0.5865    14        0.5958        0.5757   776173    3.38%           rho_9 U  94720  94718     21\n",
      "  95891 42822        0.5901    10        0.5958        0.5757   786817    3.38%           rho_5 D  95891  95889     50\n",
      "  97057 43281        0.5957     3        0.5958        0.5757   797770    3.38%          rho_24 D  97057  97055     27\n",
      "  98158 43744        0.5928    11        0.5958        0.5757   808902    3.38%          rho_24 D  98158  98157     60\n",
      "Elapsed time = 41.94 sec. (60358.14 ticks, tree = 15.82 MB, solutions = 1)\n",
      "  99295 44201        cutoff              0.5958        0.5757   819664    3.38%           rho_9 U  99295  99293     43\n",
      " 100420 44643        0.5945    15        0.5958        0.5757   830932    3.38%           rho_5 D 100420 100419     65\n",
      " 101554 45066        cutoff              0.5958        0.5757   842263    3.38%           rho_9 D 101554 101552     64\n",
      " 102676 45486        cutoff              0.5958        0.5757   853388    3.38%           rho_9 U 102676 102675     72\n",
      " 103803 45899        0.5955     4        0.5958        0.5757   864476    3.38%           rho_2 D 103803 103802     74\n",
      "*104797 46220      integral     0        0.5957        0.5757   874410    3.36%           rho_3 D 104797 104796     41\n",
      " 105946 46795        0.5757     6        0.5957        0.5757   885792    3.36%           rho_0 D 105946 105944     58\n",
      " 107053 47331        0.5806    16        0.5957        0.5757   897422    3.36%          rho_17 D 107053 107052     29\n",
      " 107805 47634        0.5757     8        0.5957        0.5757   910501    3.36%          rho_17 U 107805 107803     67\n",
      " 108573 47935        0.5915    16        0.5957        0.5757   923075    3.36%          rho_20 D 108573 108572     57\n",
      "Elapsed time = 48.64 sec. (69802.46 ticks, tree = 17.19 MB, solutions = 2)\n",
      " 109440 48204        0.5916    11        0.5957        0.5757   934492    3.36%          rho_18 D 109440 109438     86\n",
      " 110411 48564        0.5803    15        0.5957        0.5757   945443    3.36%          rho_17 D 110411 110410     60\n",
      " 111347 49023        0.5761    14        0.5957        0.5757   956914    3.36%           rho_9 D 111347 111314     27\n",
      " 112396 49498        cutoff              0.5957        0.5757   967518    3.36%           rho_0 U 112396 112394     75\n",
      " 113469 49951        cutoff              0.5957        0.5757   978257    3.36%           rho_0 U 113469 113468     83\n",
      " 114422 50355        0.5757     8        0.5957        0.5757   990067    3.36%           rho_9 U 114422 114277     56\n",
      " 115633 50755        0.5757     7        0.5957        0.5757   999294    3.36%           rho_0 D 115633 115631     52\n",
      " 116790 51067        0.5757    13        0.5957        0.5757  1008514    3.36%           rho_8 D 116790 116789     43\n",
      " 117954 51452        cutoff              0.5957        0.5757  1017582    3.36%           rho_0 U 117954 117953     62\n",
      " 119040 51673        0.5921    14        0.5957        0.5757  1026905    3.36%           rho_6 U 119040 119039     25\n",
      "Elapsed time = 54.83 sec. (79345.87 ticks, tree = 18.42 MB, solutions = 2)\n",
      " 120192 52019        0.5951    12        0.5957        0.5757  1035973    3.36%          rho_23 D 120192 120190     82\n",
      " 121427 52445        0.5942    11        0.5957        0.5757  1045047    3.36%          rho_24 D 121427 121426     87\n",
      " 122693 52882        0.5757     8        0.5957        0.5757  1053861    3.36%           rho_9 U 122693  92507     62\n",
      " 123928 53342        cutoff              0.5957        0.5757  1062982    3.36%           rho_1 D 123928 123927     58\n",
      " 125190 53820        0.5757     8        0.5957        0.5757  1072060    3.36%           rho_0 D 125190 125188     40\n",
      " 126420 54287        0.5860    12        0.5957        0.5757  1081312    3.36%          rho_11 D 126420 126418     26\n",
      " 127600 54749        0.5757     8        0.5957        0.5757  1091475    3.36%           rho_0 D 127600 127598     55\n",
      " 128774 55223        0.5757     6        0.5957        0.5757  1101418    3.36%          rho_17 U 128774 128772     51\n",
      " 129963 55748        0.5757     7        0.5957        0.5757  1111608    3.36%           rho_0 D 129963 129961     61\n",
      " 134812 57501        0.5764    15        0.5957        0.5757  1146115    3.36%           rho_0 D 134812 134810     53\n",
      "Elapsed time = 62.19 sec. (91754.99 ticks, tree = 20.34 MB, solutions = 2)\n",
      " 139610 59137        0.5925    10        0.5957        0.5757  1179599    3.36%          rho_11 D 139610 139609     76\n",
      " 144278 60972        0.5757    12        0.5957        0.5757  1216795    3.36%          rho_17 D 144278 144277     52\n",
      " 148609 63024        0.5955     4        0.5957        0.5757  1258905    3.36%          rho_16 U 148609 148608     44\n",
      " 152676 65243        0.5787    14        0.5957        0.5757  1300837    3.36%          rho_12 U 152676 152674     96\n",
      " 156475 67261        cutoff              0.5957        0.5757  1337156    3.36%          rho_28 U 156475 156474     32\n",
      " 159934 68965        0.5948    11        0.5957        0.5757  1378214    3.36%           rho_2 D 159934 159932     36\n",
      " 163670 70704        0.5889    11        0.5957        0.5757  1425542    3.36%           rho_0 D 163670 163669     46\n",
      " 168018 72452        cutoff              0.5957        0.5757  1464486    3.36%           rho_0 U 168018 168017     25\n",
      " 172805 74005        0.5757     6        0.5957        0.5757  1497788    3.36%          rho_17 U 172805 172803     59\n",
      " 177220 75701        cutoff              0.5957        0.5757  1534764    3.36%          rho_24 D 177220 177218     31\n",
      "Elapsed time = 88.86 sec. (129907.47 ticks, tree = 29.18 MB, solutions = 2)\n",
      " 181208 77372        0.5772    19        0.5957        0.5757  1569844    3.36%          rho_31 D 181208 152613     66\n",
      " 185186 79406        0.5901    13        0.5957        0.5757  1609127    3.36%          rho_23 D 185186 185184     50\n",
      " 189730 81495        0.5757     9        0.5957        0.5757  1643535    3.36%          rho_17 D 189730 187204     23\n",
      " 193685 82623        0.5829    13        0.5957        0.5757  1677401    3.36%           rho_5 D 193685 193683     71\n",
      " 197621 83813        0.5957    10        0.5957        0.5757  1714187    3.36%           rho_2 D 197621 197619     58\n",
      " 201680 85055        0.5764    10        0.5957        0.5757  1748997    3.36%          rho_17 D 201680 201679     51\n",
      " 205552 86549        cutoff              0.5957        0.5757  1786064    3.36%           rho_0 U 205552 205551     28\n",
      " 209379 88105        0.5764    14        0.5957        0.5757  1823718    3.36%           rho_0 D 209379 209377     30\n",
      " 213164 89551        cutoff              0.5957        0.5757  1861694    3.36%           rho_5 U 213164 213163     27\n",
      " 216969 91142        0.5774    15        0.5957        0.5757  1898958    3.36%           rho_9 D 216969 216968     55\n",
      "Elapsed time = 118.84 sec. (168064.27 ticks, tree = 34.45 MB, solutions = 2)\n",
      " 219612 92632        0.5757     9        0.5957        0.5757  1948003    3.36%           rho_0 D 219612 219610     89\n",
      " 223550 94217        0.5860     8        0.5957        0.5757  1983335    3.36%          rho_18 D 223550 223549     44\n",
      " 227697 95734        0.5942    14        0.5957        0.5757  2015452    3.36%           rho_5 D 227697 227696     59\n",
      " 231635 96833        0.5907    17        0.5957        0.5757  2047491    3.36%           rho_5 D 231635 231634     89\n",
      " 234979 97763        0.5890    20        0.5957        0.5757  2086510    3.36%           rho_1 U 234979 234978     66\n",
      " 238383 98756        cutoff              0.5957        0.5757  2126057    3.36%           rho_1 U 238383 238382     91\n",
      " 241735 99732        cutoff              0.5957        0.5757  2164795    3.36%          rho_23 U 241735 241734     68\n",
      " 245112 100709        0.5890    20        0.5957        0.5757  2204450    3.36%           rho_1 U 245112 245111     72\n",
      " 248605 101778        0.5860    12        0.5957        0.5757  2242875    3.36%           rho_7 U 248605 248595     64\n",
      " 252170 102909        0.5890    19        0.5957        0.5757  2280178    3.36%           rho_1 U 252170 252169     79\n",
      "Elapsed time = 141.42 sec. (206225.77 ticks, tree = 38.51 MB, solutions = 2)\n",
      " 255640 103952        0.5797    16        0.5957        0.5757  2318551    3.36%           rho_9 U 255640 255638     61\n",
      " 259159 105005        0.5911    16        0.5957        0.5757  2356239    3.36%          rho_14 U 259159 259158     81\n",
      " 262720 106033        0.5918    15        0.5957        0.5757  2393372    3.36%           rho_6 D 262720 262718     58\n",
      " 266259 107060        0.5888    16        0.5957        0.5757  2430638    3.36%           rho_6 D 266259 266258     48\n",
      " 269860 108138        cutoff              0.5957        0.5757  2467812    3.36%          rho_24 U 269860 269859     70\n",
      " 273793 109487        0.5864    10        0.5957        0.5757  2502234    3.36%           rho_5 D 273793 273792     52\n",
      " 278157 111642        0.5851     9        0.5957        0.5757  2532600    3.36%           rho_6 U 278157 278155     61\n",
      " 282101 112885        0.5851     9        0.5957        0.5757  2563089    3.36%           rho_6 U 282101 282099     35\n",
      " 286089 114140        cutoff              0.5957        0.5757  2594724    3.36%          rho_11 U 286089 286086     45\n",
      " 289480 115407        0.5757     5        0.5957        0.5757  2635595    3.36%          rho_17 U 289480 289478     57\n",
      "Elapsed time = 170.05 sec. (244380.09 ticks, tree = 42.84 MB, solutions = 2)\n",
      " 292936 115885        0.5816     8        0.5957        0.5757  2673497    3.36%           rho_6 D 292936 188178     78\n",
      " 296217 116709        0.5849    10        0.5957        0.5757  2713325    3.36%           rho_5 D 296217 296215     40\n",
      " 300020 118448        cutoff              0.5957        0.5757  2751692    3.36%          rho_18 U 300020 300018     90\n",
      " 303400 119733        0.5757     8        0.5957        0.5757  2789542    3.36%          rho_17 U 303400 303398     54\n",
      " 306967 121142        0.5757     7        0.5957        0.5757  2825363    3.36%           rho_0 D 306967 306965     59\n",
      " 310300 122575        0.5888    12        0.5957        0.5757  2866680    3.36%          rho_34 D 310300 310299     30\n",
      " 313820 124043        0.5798    22        0.5957        0.5757  2900852    3.36%          rho_17 D 313820 313819     62\n",
      " 317404 125538        cutoff              0.5957        0.5757  2934991    3.36%          rho_14 U 317404 317402     56\n",
      "*320300+121712                            0.5949        0.5757             3.23%\n",
      " 320828 121971        0.5892    21        0.5949        0.5757  2969236    3.23%           rho_0 D 320828 320826     22\n",
      " 323933 123427        cutoff              0.5949        0.5757  3007055    3.23%          rho_30 U 323933 323932     43\n",
      "Elapsed time = 198.78 sec. (282547.62 ticks, tree = 45.69 MB, solutions = 3)\n",
      "\n",
      "Gomory fractional cuts applied:  1\n",
      "User cuts applied:  1031\n",
      "\n",
      "Root node processing (before b&c):\n",
      "  Real time             =    0.14 sec. (3.00 ticks)\n",
      "Sequential b&c:\n",
      "  Real time             =  199.88 sec. (283844.61 ticks)\n",
      "                          ------------\n",
      "Total (root+branch&cut) =  200.02 sec. (283847.61 ticks)\n",
      "+----------------------------------------------+------------------+-----------+\n",
      "| Pr(Y = +1) = 1.0/(1.0 + exp(-(-5 + score))   |                  |           |\n",
      "| ============================================ | ================ | ========= |\n",
      "| p_charges>=1                                 |         3 points |   + ..... |\n",
      "| age_at_current_charge<=52                    |         1 points |   + ..... |\n",
      "| p_arrest>=2                                  |         1 points |   + ..... |\n",
      "| p_arrest>=4                                  |         1 points |   + ..... |\n",
      "| ============================================ | ================ | ========= |\n",
      "| ADD POINTS FROM ROWS 1 to 4                  |            SCORE |   = ..... |\n",
      "+----------------------------------------------+------------------+-----------+\n",
      "model_id, score_thresholds 0 {'rank_abs': [2039]}\n",
      "get_disparity_predefined_group()\n"
     ]
    },
    {
     "name": "stderr",
     "output_type": "stream",
     "text": [
      "C:\\Users\\binha\\Documents\\Duke\\Cynthia Research\\psa-analysis - test2\\utils\\fairness_functions.py:82: RuntimeWarning:\n",
      "\n",
      "invalid value encountered in longlong_scalars\n",
      "\n",
      "C:\\Users\\binha\\Documents\\Duke\\Cynthia Research\\psa-analysis - test2\\utils\\fairness_functions.py:95: RuntimeWarning:\n",
      "\n",
      "divide by zero encountered in longlong_scalars\n",
      "\n"
     ]
    },
    {
     "name": "stdout",
     "output_type": "stream",
     "text": [
      "setting c0 = 0.0 to ensure that intercept is not penalized\n",
      "10/01/19 @ 01:51 PM | 1461 rows in lookup table\n",
      "10/01/19 @ 01:51 PM | ------------------------------------------------------------\n",
      "10/01/19 @ 01:51 PM | runnning initialization procedure\n",
      "10/01/19 @ 01:51 PM | ------------------------------------------------------------\n",
      "10/01/19 @ 01:51 PM | CPA produced 2 cuts\n",
      "10/01/19 @ 01:51 PM | running naive rounding on 57 solutions\n",
      "10/01/19 @ 01:51 PM | best objective value: 0.5849\n",
      "10/01/19 @ 01:51 PM | rounding produced 5 integer solutions\n",
      "10/01/19 @ 01:51 PM | best objective value is 0.6063\n",
      "10/01/19 @ 01:51 PM | running sequential rounding on 57 solutions\n",
      "10/01/19 @ 01:51 PM | best objective value: 0.5849\n",
      "10/01/19 @ 01:51 PM | sequential rounding produced 6 integer solutions\n",
      "10/01/19 @ 01:51 PM | best objective value: 0.5976\n",
      "10/01/19 @ 01:51 PM | polishing 11 solutions\n",
      "10/01/19 @ 01:51 PM | best objective value: 0.5976\n",
      "10/01/19 @ 01:51 PM | polishing produced 5 integer solutions\n",
      "10/01/19 @ 01:51 PM | initialization produced 13 feasible solutions\n",
      "10/01/19 @ 01:51 PM | best objective value: 0.5976\n",
      "10/01/19 @ 01:51 PM | ------------------------------------------------------------\n",
      "10/01/19 @ 01:51 PM | completed initialization procedure\n",
      "10/01/19 @ 01:51 PM | ------------------------------------------------------------\n",
      "10/01/19 @ 01:51 PM | 1461 rows in lookup table\n",
      "CPXPARAM_Read_DataCheck                          1\n",
      "CPXPARAM_Threads                                 1\n",
      "CPXPARAM_Parallel                                1\n",
      "CPXPARAM_RandomSeed                              0\n",
      "CPXPARAM_TimeLimit                               200\n",
      "CPXPARAM_MIP_Tolerances_LowerCutoff              0.57504734799566681\n",
      "CPXPARAM_MIP_Tolerances_UpperCutoff              0.59762202730873915\n"
     ]
    },
    {
     "name": "stderr",
     "output_type": "stream",
     "text": [
      "Warning: Control callbacks may disable some MIP features.\n"
     ]
    },
    {
     "name": "stdout",
     "output_type": "stream",
     "text": [
      "Lazy constraint(s) or lazy constraint callback is present.\n",
      "    Disabling dual reductions (CPX_PARAM_REDUCE) in presolve.\n",
      "    Disabling non-linear reductions (CPX_PARAM_PRELINEAR) in presolve.\n",
      "         Disabling repeat represolve because of lazy constraint/incumbent callback.\n",
      "10/01/19 @ 01:51 PM | adding 250 initial cuts\n",
      "1 of 1 MIP starts provided solutions.\n",
      "MIP start 'mip_start_0' defined initial solution with objective 0.5976.\n",
      "Tried aggregator 1 time.\n",
      "Reduced MIP has 36 rows, 72 columns, and 139 nonzeros.\n",
      "Reduced MIP has 34 binaries, 36 generals, 0 SOSs, and 0 indicators.\n",
      "Presolve time = 0.00 sec. (0.08 ticks)\n",
      "Probing time = 0.00 sec. (0.02 ticks)\n",
      "MIP emphasis: balance optimality and feasibility.\n",
      "MIP search method: traditional branch-and-cut.\n",
      "Parallel mode: none, using 1 thread.\n",
      "Root relaxation solution time = 0.00 sec. (0.05 ticks)\n",
      "\n",
      "        Nodes                                         Cuts/\n",
      "   Node  Left     Objective  IInf  Best Integer    Best Bound    ItCnt     Gap         Variable B NodeID Parent  Depth\n",
      "\n",
      "*     0+    0                            0.5976        0.5750             3.78%\n",
      "      0     0        0.5750     1        0.5976        0.5750        1    3.78%\n",
      "      0     0        0.5750     1        0.5976      Fract: 1        2    3.78%\n",
      "      0     0        0.5750     1        0.5976       Cuts: 3        4    3.78%\n",
      "      0     0        0.5750     2        0.5976    MIRcuts: 1        5    3.78%\n",
      "      0     2        0.5750     5        0.5976        0.5750        5    3.78%                        0             0\n",
      "Elapsed time = 0.14 sec. (2.89 ticks, tree = 0.01 MB, solutions = 1)\n",
      "   1990  1022        0.5965     7        0.5976        0.5750     8900    3.78%          rho_21 U   1990   1989     30\n",
      "   3170  1638        0.5970     0        0.5976        0.5750    15396    3.78%          rho_25 U   3170   3169     36\n",
      "   4025  2134        0.5911     8        0.5976        0.5750    20159    3.78%          rho_17 D   4025   4023     28\n",
      "   4743  2519        0.5750     1        0.5976        0.5750    24435    3.78%          rho_34 U   4743   4742     13\n",
      "   5400  2901        0.5944     9        0.5976        0.5750    27908    3.78%           rho_9 U   5400   5399     22\n",
      "   5955  3196        0.5750    17        0.5976        0.5750    32189    3.78%          rho_20 U   5955   5954     22\n",
      "   6506  3546        0.5950     4        0.5976        0.5750    35960    3.78%          rho_22 D   6506   6505     32\n",
      "   7154  3834        0.5750     3        0.5976        0.5750    39255    3.78%           rho_0 D   7154   7152     63\n",
      "   7810  4135        0.5750     3        0.5976        0.5750    42469    3.78%           rho_0 D   7810   7808     73\n",
      "  10320  5425        cutoff              0.5976        0.5750    55950    3.78%           rho_3 U  10320  10319     20\n",
      "Elapsed time = 4.20 sec. (3107.53 ticks, tree = 1.73 MB, solutions = 1)\n",
      "  12400  6612        0.5951     8        0.5976        0.5750    67621    3.78%          rho_30 U  12400  12399     34\n",
      "  14228  7502        0.5846    11        0.5976        0.5750    80020    3.78%          rho_34 D  14228  14226     60\n",
      "  15984  8417        0.5954    14        0.5976        0.5750    92678    3.78%          rho_21 D  15984  15983     31\n",
      "  17385  9110        cutoff              0.5976        0.5750   105314    3.78%          rho_10 U  17385    260     31\n",
      "  18831  9884        0.5921    13        0.5976        0.5750   115910    3.78%          rho_31 D  18831  18829    106\n",
      "  20382 10645        0.5750     5        0.5976        0.5750   129372    3.78%           rho_0 D  20382  20381     78\n",
      "  22202 11373        0.5750     6        0.5976        0.5750   144352    3.78%           rho_0 D  22202  22200     63\n",
      "  24065 12137        0.5976     9        0.5976        0.5750   159038    3.78%          rho_30 U  24065  24064     46\n",
      "  25977 12977        0.5969     6        0.5976        0.5750   174410    3.78%          rho_28 D  25977  25975     78\n",
      "  27796 13860        cutoff              0.5976        0.5750   188916    3.78%           rho_0 U  27796  27795     23\n",
      "Elapsed time = 12.03 sec. (12648.30 ticks, tree = 4.57 MB, solutions = 1)\n",
      "* 28521 13404      integral     0        0.5962        0.5750   192472    3.55%          rho_25 D  28521  28519     20\n",
      "  29961 14219        0.5750    14        0.5962        0.5750   202715    3.55%           rho_0 D  29961  29959     33\n",
      "* 30000+13212                            0.5951        0.5750             3.36%\n",
      "  31220 13671        0.5750     4        0.5951        0.5750   214953    3.36%           rho_0 D  31220  31218     36\n",
      "  32481 14101        0.5938    16        0.5951        0.5750   229435    3.36%          rho_23 D  32481  32479     68\n",
      "  33925 14646        0.5836    13        0.5951        0.5750   241555    3.36%           rho_0 D  33925  33923     60\n",
      "  35320 15133        0.5787    17        0.5951        0.5750   253670    3.36%          rho_11 D  35320  35319     54\n",
      "  36688 15643        cutoff              0.5951        0.5750   266613    3.36%          rho_28 D  36688  36687     75\n",
      "* 38000+16199                            0.5951        0.5750             3.36%\n",
      "  38085 16243        0.5750     6        0.5951        0.5750   279081    3.36%           rho_0 D  38085  38083     68\n",
      "  39481 16819        0.5834    14        0.5951        0.5750   292030    3.36%           rho_9 D  39481  39480     58\n",
      "  40876 17392        cutoff              0.5951        0.5750   304907    3.36%          rho_11 U  40876  40874     76\n",
      "Elapsed time = 18.66 sec. (21609.81 ticks, tree = 6.41 MB, solutions = 4)\n",
      "  42050 17859        0.5776    11        0.5951        0.5750   318196    3.36%          rho_17 D  42050  42049     47\n",
      "  43217 18351        cutoff              0.5951        0.5750   330415    3.36%           rho_0 U  43217  43216     26\n",
      "  44422 18947        0.5750    26        0.5951        0.5750   341629    3.36%           rho_0 D  44422  44420     50\n",
      "  45719 19505        cutoff              0.5951        0.5750   351621    3.36%           rho_3 U  45719  45718     31\n",
      "  47097 20287        0.5834    12        0.5951        0.5750   361697    3.36%          rho_21 U  47097  47096     32\n",
      "  48329 20827        0.5777    10        0.5951        0.5750   372425    3.36%           rho_9 U  48329  47966     51\n",
      "* 49000+21143                            0.5951        0.5750             3.36%\n",
      "  49510 21403        0.5853    12        0.5951        0.5750   383803    3.36%          rho_17 D  49510  49509     34\n",
      "  50740 22013        0.5751    11        0.5951        0.5750   394070    3.36%          rho_11 U  50740  50738     32\n",
      "* 51000+22127                            0.5951        0.5750             3.36%\n",
      "  51809 22461        cutoff              0.5951        0.5750   404998    3.36%          rho_28 U  51809  51808     48\n",
      "  52849 22888        0.5750     8        0.5951        0.5750   416476    3.36%          rho_10 D  52849  52848     47\n",
      "Elapsed time = 26.42 sec. (31157.60 ticks, tree = 8.17 MB, solutions = 6)\n",
      "  53834 23294        0.5750     6        0.5951        0.5750   427817    3.36%          rho_17 U  53834  53619     57\n",
      "  54955 23724        0.5750     6        0.5951        0.5750   438448    3.36%           rho_0 D  54955  54953     54\n",
      "  56009 24103        0.5750     4        0.5951        0.5750   449779    3.36%          rho_17 U  56009  56007     51\n",
      "  56987 24471        0.5750     4        0.5951        0.5750   461957    3.36%          rho_17 U  56987  56985     71\n",
      "  57970 24784        0.5832    14        0.5951        0.5750   473240    3.36%          rho_34 D  57970  57968     93\n",
      "  59054 25233        0.5832    13        0.5951        0.5750   483813    3.36%           rho_0 D  59054  59052     47\n",
      "  60160 25767        0.5765    10        0.5951        0.5750   495535    3.36%          rho_17 D  60160  60159     39\n",
      "  61182 26293        0.5765    10        0.5951        0.5750   507971    3.36%          rho_17 D  61182  61181     67\n",
      "  62178 26805        0.5935    12        0.5951        0.5750   520413    3.36%          rho_30 U  62178  62177     63\n",
      "  63235 27247        0.5897    17        0.5951        0.5750   531800    3.36%          rho_30 D  63235  63233     41\n",
      "Elapsed time = 34.11 sec. (40702.74 ticks, tree = 9.60 MB, solutions = 6)\n",
      "  64327 27713        0.5905    18        0.5951        0.5750   542427    3.36%          rho_15 U  64327  64326     97\n",
      "  65394 28206        0.5750     7        0.5951        0.5750   553177    3.36%           rho_0 D  65394  65392     65\n",
      "  66443 28814        0.5750    16        0.5951        0.5750   564441    3.36%           rho_0 D  66443  66441     60\n",
      "  67580 29306        0.5804    13        0.5951        0.5750   575092    3.36%          rho_17 D  67580  67579     66\n",
      "  68654 29767        0.5750     1        0.5951        0.5750   585760    3.36%          rho_17 U  68654  68652     78\n",
      "  69830 30308        0.5762    17        0.5951        0.5750   595140    3.36%           rho_8 U  69830  69829     22\n",
      "  70677 30739        cutoff              0.5951        0.5750   608844    3.36%          rho_17 U  70677  70676     57\n",
      "  71777 31207        cutoff              0.5951        0.5750   619242    3.36%           rho_9 D  71777  71775     67\n",
      "  72904 31608        0.5931     5        0.5951        0.5750   628240    3.36%          rho_21 U  72904  72903     69\n",
      "  74080 32131        cutoff              0.5951        0.5750   637854    3.36%          rho_22 U  74080  74079    100\n",
      "Elapsed time = 41.34 sec. (50248.73 ticks, tree = 11.20 MB, solutions = 6)\n",
      "  75249 32646        0.5934     6        0.5951        0.5750   647424    3.36%          rho_30 D  75249  75247     55\n",
      "  76362 33157        0.5800    16        0.5951        0.5750   656922    3.36%          rho_17 D  76362  76361     54\n",
      "  77434 33727        0.5840    19        0.5951        0.5750   666464    3.36%           rho_5 D  77434  77433     30\n",
      "  78436 34258        0.5760    14        0.5951        0.5750   676066    3.36%           rho_0 D  78436  78434     59\n",
      "  79542 34927        0.5764    11        0.5951        0.5750   684174    3.36%          rho_17 D  79542  79541     61\n",
      "  80590 35459        0.5933    10        0.5951        0.5750   692828    3.36%          rho_15 U  80590  80589     44\n",
      "  81601 35970        0.5787    14        0.5951        0.5750   701683    3.36%          rho_17 D  81601  81600     82\n",
      "* 82000+36164                            0.5951        0.5750             3.36%\n",
      "  82547 36403        0.5750     5        0.5951        0.5750   711326    3.36%          rho_17 U  82547  82545     54\n",
      "  83739 36948        0.5802    15        0.5951        0.5750   722090    3.36%           rho_0 D  83739  83737     76\n",
      "  85493 37120        0.5886     6        0.5951        0.5750   731849    3.36%           rho_6 U  85493  85490     30\n",
      "Elapsed time = 48.72 sec. (59790.76 ticks, tree = 14.25 MB, solutions = 7)\n",
      "  86556 37469        0.5934    13        0.5951        0.5750   741886    3.36%          rho_24 D  86556  86555     36\n",
      "  87717 37937        0.5750     5        0.5951        0.5750   752111    3.36%           rho_0 D  87717  87715     93\n",
      "  88832 38392        0.5750     8        0.5951        0.5750   762364    3.36%           rho_0 D  88832  88830     29\n",
      "  89680 38757        0.5895    17        0.5951        0.5750   773752    3.36%          rho_13 U  89680  89679     74\n",
      "  90371 39103        0.5885    18        0.5951        0.5750   787157    3.36%          rho_24 D  90371  90370     34\n",
      "  91064 39446        0.5750     3        0.5951        0.5750   800145    3.36%           rho_0 D  91064  91062     66\n",
      "  91730 39789        0.5750     2        0.5951        0.5750   813236    3.36%          rho_17 U  91730  91728     61\n",
      "  92821 40246        cutoff              0.5951        0.5750   822477    3.36%          rho_30 U  92821  92820     40\n",
      "  94249 40516        0.5750     7        0.5951        0.5750   830421    3.36%          rho_10 D  94249  94248     63\n",
      "  95497 40751        cutoff              0.5951        0.5750   837784    3.36%          rho_18 U  95497  95428     32\n",
      "Elapsed time = 55.38 sec. (69332.59 ticks, tree = 15.47 MB, solutions = 7)\n",
      "  96500 41094        0.5903    14        0.5951        0.5750   847384    3.36%          rho_30 D  96500  96498     60\n",
      "  97302 41510        0.5929     9        0.5951        0.5750   858980    3.36%          rho_15 U  97302  97301     72\n",
      "  98004 41914        0.5872     7        0.5951        0.5750   871679    3.36%           rho_0 U  98004  98003     77\n",
      "  98850 42299        0.5872     8        0.5951        0.5750   883046    3.36%           rho_0 U  98850  98849     81\n",
      "  99852 42649        0.5946     4        0.5951        0.5750   892721    3.36%          rho_32 D  99852  99851     98\n",
      " 100863 42978        0.5932    10        0.5951        0.5750   902075    3.36%          rho_12 D 100863 100862     32\n",
      " 101846 43458        0.5914    13        0.5951        0.5750   912413    3.36%          rho_23 D 101846 101844     55\n",
      " 102988 43862        0.5922    12        0.5951        0.5750   920364    3.36%          rho_28 D 102988 102986     60\n",
      " 104083 44258        0.5750     5        0.5951        0.5750   928708    3.36%           rho_0 D 104083 104081     60\n",
      " 105170 44649        cutoff              0.5951        0.5750   937351    3.36%           rho_0 U 105170 105169     68\n",
      "Elapsed time = 61.95 sec. (78875.95 ticks, tree = 16.79 MB, solutions = 7)\n",
      " 106219 45068        cutoff              0.5951        0.5750   947059    3.36%           rho_0 U 106219 106218     44\n",
      " 107038 45365        0.5815    14        0.5951        0.5750   958564    3.36%           rho_0 D 107038 107036     39\n",
      " 107845 45643        0.5750     4        0.5951        0.5750   969616    3.36%          rho_17 U 107845 107843     49\n",
      " 108667 45980        0.5823    15        0.5951        0.5750   981177    3.36%          rho_11 D 108667 108666     84\n",
      " 109487 46298        0.5766    18        0.5951        0.5750   992233    3.36%           rho_9 D 109487 109055     54\n",
      " 110312 46611        cutoff              0.5951        0.5750  1002863    3.36%          rho_18 U 110312 110310     61\n",
      " 111276 46994        cutoff              0.5951        0.5750  1012073    3.36%          rho_30 U 111276 111274     62\n",
      " 112221 47363        cutoff              0.5951        0.5750  1021965    3.36%           rho_0 U 112221 112220     13\n",
      " 113240 47926        0.5750     8        0.5951        0.5750  1031316    3.36%          rho_10 D 113240 113239     55\n",
      " 116796 49566        0.5771    19        0.5951        0.5750  1073482    3.36%          rho_17 D 116796 116795     53\n",
      "Elapsed time = 71.14 sec. (91283.09 ticks, tree = 18.46 MB, solutions = 7)\n",
      " 120081 50984        0.5750     6        0.5951        0.5750  1117676    3.36%           rho_0 D 120081 120079     66\n",
      " 124051 52917        0.5750     8        0.5951        0.5750  1155821    3.36%           rho_0 D 124051 124049     32\n",
      " 128114 54649        0.5750     7        0.5951        0.5750  1189846    3.36%           rho_0 D 128114 128112     76\n",
      " 132694 56130        0.5796    12        0.5951        0.5750  1216483    3.36%          rho_11 D 132694 132693     60\n",
      "*135000+56787                            0.5951        0.5750             3.36%\n",
      " 137237 57461        0.5818     7        0.5951        0.5750  1242506    3.36%          rho_18 D 137237 137235     87\n",
      " 141650 58578        cutoff              0.5951        0.5750  1268436    3.36%           rho_0 U 141650 141648     62\n",
      " 144946 60180        0.5770    17        0.5951        0.5750  1311786    3.36%          rho_17 D 144946 144945     65\n",
      " 148079 61629        0.5750    11        0.5951        0.5750  1354296    3.36%           rho_0 D 148079 148077     59\n",
      " 151514 62995        0.5773    18        0.5951        0.5750  1392219    3.36%           rho_9 D 151514 150523     36\n",
      " 155158 64563        0.5772    10        0.5951        0.5750  1431846    3.36%          rho_17 D 155158 155157     64\n",
      "Elapsed time = 108.25 sec. (129435.11 ticks, tree = 23.62 MB, solutions = 8)\n",
      " 158973 66068        cutoff              0.5951        0.5750  1467101    3.36%          rho_28 D 158973 158971     90\n",
      " 163273 68172        0.5750     9        0.5951        0.5750  1499956    3.36%          rho_10 D 163273 163272     50\n",
      " 166926 69774        0.5822    14        0.5951        0.5750  1537872    3.36%           rho_9 D 166926 166925     46\n",
      " 170338 70851        0.5768    16        0.5951        0.5750  1575144    3.36%           rho_9 U 170338 170327     50\n",
      " 174080 72613        0.5912    14        0.5951        0.5750  1611541    3.36%          rho_28 D 174080 174078     53\n",
      "*176220+71643                            0.5944        0.5750             3.25%\n",
      "*176287 66682      integral     0        0.5931        0.5750  1636661    3.04%           rho_4 D 176287 176285     28\n",
      " 179926 68331        0.5870    13        0.5931        0.5750  1671267    3.04%          rho_12 D 179926 179925     43\n",
      " 183703 70178        0.5790    14        0.5931        0.5750  1707298    3.04%          rho_17 D 183703 183702     63\n",
      " 187542 71848        0.5800    14        0.5931        0.5750  1742425    3.04%           rho_9 U 187542 178325     60\n",
      " 191463 72662        0.5760     2        0.5931        0.5750  1772361    3.04%          rho_17 U 191463 191461     96\n",
      "Elapsed time = 154.61 sec. (166395.11 ticks, tree = 29.39 MB, solutions = 10)\n",
      " 195400 73821        0.5757    10        0.5931        0.5750  1804335    3.04%           rho_9 U 195400 195398     35\n",
      " 200598 75144        cutoff              0.5931        0.5750  1823735    3.04%          rho_34 U 200598 200597     59\n",
      " 203627 76547        0.5750     7        0.5931        0.5750  1862408    3.04%           rho_0 D 203627 203625     69\n",
      " 207568 77465        cutoff              0.5931        0.5750  1896134    3.04%           rho_0 U 207568 207567     66\n",
      " 211098 77776        0.5776     9        0.5931        0.5750  1931227    3.04%           rho_0 D 211098 211096     44\n",
      " 214638 78494        0.5750     7        0.5931        0.5750  1967271    3.04%           rho_0 D 214638 214636     57\n",
      " 218023 79752        0.5930    15        0.5931        0.5750  2006485    3.04%          rho_23 D 218023 218022     42\n",
      " 221570 80802        cutoff              0.5931        0.5750  2038544    3.04%           rho_0 U 221570 221568     81\n",
      " 225378 81772        cutoff              0.5931        0.5750  2066937    3.04%           rho_0 U 225378 225377     59\n",
      " 229939 83154        cutoff              0.5931        0.5750  2090060    3.04%          rho_28 U 229939 229937     57\n",
      "Elapsed time = 188.59 sec. (204547.37 ticks, tree = 33.11 MB, solutions = 10)\n",
      " 233214 84073        0.5877    12        0.5931        0.5750  2123674    3.04%           rho_1 D 233214 233212     76\n",
      " 236349 84803        cutoff              0.5931        0.5750  2158743    3.04%          rho_24 D 236349 236348     53\n",
      " 239755 86064        cutoff              0.5931        0.5750  2194241    3.04%           rho_0 U 239755 239752     16\n",
      "\n",
      "Gomory fractional cuts applied:  1\n",
      "User cuts applied:  1052\n",
      "\n",
      "Root node processing (before b&c):\n",
      "  Real time             =    0.13 sec. (3.01 ticks)\n",
      "Sequential b&c:\n",
      "  Real time             =  199.89 sec. (217196.67 ticks)\n",
      "                          ------------\n",
      "Total (root+branch&cut) =  200.02 sec. (217199.68 ticks)\n",
      "+----------------------------------------------+------------------+-----------+\n",
      "| Pr(Y = +1) = 1.0/(1.0 + exp(-(-2 + score))   |                  |           |\n",
      "| ============================================ | ================ | ========= |\n",
      "| age_at_current_charge<=52                    |         1 points |   + ..... |\n",
      "| p_arrest>=2                                  |         1 points |   + ..... |\n",
      "| p_arrest>=4                                  |         1 points |   + ..... |\n",
      "| p_arrest>=7                                  |         1 points |   + ..... |\n",
      "| ============================================ | ================ | ========= |\n",
      "| ADD POINTS FROM ROWS 1 to 4                  |            SCORE |   = ..... |\n",
      "+----------------------------------------------+------------------+-----------+\n",
      "model_id, score_thresholds 0 {'rank_abs': [2115]}\n",
      "get_disparity_predefined_group()\n"
     ]
    },
    {
     "name": "stderr",
     "output_type": "stream",
     "text": [
      "C:\\Users\\binha\\Documents\\Duke\\Cynthia Research\\psa-analysis - test2\\utils\\fairness_functions.py:82: RuntimeWarning:\n",
      "\n",
      "invalid value encountered in longlong_scalars\n",
      "\n",
      "C:\\Users\\binha\\Documents\\Duke\\Cynthia Research\\psa-analysis - test2\\utils\\fairness_functions.py:95: RuntimeWarning:\n",
      "\n",
      "divide by zero encountered in longlong_scalars\n",
      "\n"
     ]
    },
    {
     "name": "stdout",
     "output_type": "stream",
     "text": [
      "setting c0 = 0.0 to ensure that intercept is not penalized\n",
      "10/01/19 @ 01:55 PM | 1461 rows in lookup table\n",
      "10/01/19 @ 01:55 PM | ------------------------------------------------------------\n",
      "10/01/19 @ 01:55 PM | runnning initialization procedure\n",
      "10/01/19 @ 01:55 PM | ------------------------------------------------------------\n",
      "10/01/19 @ 01:55 PM | CPA produced 2 cuts\n",
      "10/01/19 @ 01:55 PM | running naive rounding on 37 solutions\n",
      "10/01/19 @ 01:55 PM | best objective value: 0.5837\n",
      "10/01/19 @ 01:55 PM | rounding produced 5 integer solutions\n",
      "10/01/19 @ 01:55 PM | best objective value is 0.6046\n",
      "10/01/19 @ 01:55 PM | running sequential rounding on 37 solutions\n",
      "10/01/19 @ 01:55 PM | best objective value: 0.5837\n",
      "10/01/19 @ 01:55 PM | sequential rounding produced 6 integer solutions\n",
      "10/01/19 @ 01:55 PM | best objective value: 0.6046\n",
      "10/01/19 @ 01:55 PM | polishing 11 solutions\n",
      "10/01/19 @ 01:55 PM | best objective value: 0.6046\n",
      "10/01/19 @ 01:55 PM | polishing produced 5 integer solutions\n",
      "10/01/19 @ 01:55 PM | initialization produced 12 feasible solutions\n",
      "10/01/19 @ 01:55 PM | best objective value: 0.5954\n",
      "10/01/19 @ 01:55 PM | ------------------------------------------------------------\n",
      "10/01/19 @ 01:55 PM | completed initialization procedure\n",
      "10/01/19 @ 01:55 PM | ------------------------------------------------------------\n",
      "10/01/19 @ 01:55 PM | 1461 rows in lookup table\n",
      "CPXPARAM_Read_DataCheck                          1\n",
      "CPXPARAM_Threads                                 1\n",
      "CPXPARAM_Parallel                                1\n",
      "CPXPARAM_RandomSeed                              0\n",
      "CPXPARAM_TimeLimit                               200\n",
      "CPXPARAM_MIP_Tolerances_LowerCutoff              0.57548172261249864\n",
      "CPXPARAM_MIP_Tolerances_UpperCutoff              0.59535802716063457\n"
     ]
    },
    {
     "name": "stderr",
     "output_type": "stream",
     "text": [
      "Warning: Control callbacks may disable some MIP features.\n"
     ]
    },
    {
     "name": "stdout",
     "output_type": "stream",
     "text": [
      "Lazy constraint(s) or lazy constraint callback is present.\n",
      "    Disabling dual reductions (CPX_PARAM_REDUCE) in presolve.\n",
      "    Disabling non-linear reductions (CPX_PARAM_PRELINEAR) in presolve.\n",
      "         Disabling repeat represolve because of lazy constraint/incumbent callback.\n",
      "10/01/19 @ 01:55 PM | adding 249 initial cuts\n",
      "1 of 1 MIP starts provided solutions.\n",
      "MIP start 'mip_start_0' defined initial solution with objective 0.5954.\n",
      "Tried aggregator 1 time.\n",
      "Reduced MIP has 36 rows, 72 columns, and 139 nonzeros.\n",
      "Reduced MIP has 34 binaries, 36 generals, 0 SOSs, and 0 indicators.\n",
      "Presolve time = 0.00 sec. (0.08 ticks)\n",
      "Probing time = 0.00 sec. (0.02 ticks)\n",
      "MIP emphasis: balance optimality and feasibility.\n",
      "MIP search method: traditional branch-and-cut.\n",
      "Parallel mode: none, using 1 thread.\n",
      "Root relaxation solution time = 0.00 sec. (0.05 ticks)\n",
      "\n",
      "        Nodes                                         Cuts/\n",
      "   Node  Left     Objective  IInf  Best Integer    Best Bound    ItCnt     Gap         Variable B NodeID Parent  Depth\n",
      "\n",
      "*     0+    0                            0.5954        0.5755             3.34%\n",
      "      0     0        0.5755     1        0.5954        0.5755        1    3.34%\n",
      "      0     0        0.5755     1        0.5954      Fract: 1        2    3.34%\n",
      "      0     0        0.5755     1        0.5954       Cuts: 3        4    3.34%\n",
      "      0     0        0.5755     5        0.5954    MIRcuts: 1        5    3.34%\n",
      "      0     2        0.5755     4        0.5954        0.5755        5    3.34%                        0             0\n",
      "Elapsed time = 0.25 sec. (2.96 ticks, tree = 0.01 MB, solutions = 1)\n",
      "   2257  1232        0.5755     1        0.5954        0.5755     8962    3.34%           rho_0 D   2257   2255     68\n",
      "   3993  1890        0.5762    18        0.5954        0.5755    17172    3.34%           rho_0 U   3993   3992     10\n",
      "   5384  2683        0.5755     1        0.5954        0.5755    24332    3.34%          rho_17 U   5384   5382     90\n",
      "   6648  3158        cutoff              0.5954        0.5755    32088    3.34%           rho_8 U   6648   6647     95\n",
      "   7840  3577        cutoff              0.5954        0.5755    40075    3.34%          rho_30 U   7840   7839     77\n",
      "   9068  4006        0.5878    11        0.5954        0.5755    47730    3.34%          rho_28 U   9068   9067     81\n",
      "  10305  4442        0.5847    15        0.5954        0.5755    55337    3.34%           rho_7 D  10305  10304     97\n",
      "  11560  4937        0.5801    12        0.5954        0.5755    62916    3.34%          rho_11 D  11560  11559    109\n",
      "  12703  5374        0.5932    10        0.5954        0.5755    70361    3.34%           rho_5 D  12703  12701     61\n",
      "  17771  7211        cutoff              0.5954        0.5755   102209    3.34%           rho_0 U  17771  17770     83\n",
      "Elapsed time = 5.44 sec. (3103.68 ticks, tree = 2.07 MB, solutions = 1)\n",
      "  22055  7669        cutoff              0.5954        0.5755   128919    3.34%           rho_0 U  22055  21858     77\n",
      "  26110  9301        0.5755     4        0.5954        0.5755   153787    3.34%          rho_17 D  26110  10763     76\n",
      "  29591 10197        0.5929    16        0.5954        0.5755   178616    3.34%           rho_0 D  29591  29590     80\n",
      "  32950 11195        cutoff              0.5954        0.5755   205179    3.34%           rho_0 U  32950  32949     90\n",
      "  36421 12593        0.5755     6        0.5954        0.5755   230280    3.34%           rho_0 N  36421  36419     11\n",
      "  40040 13559        0.5782     7        0.5954        0.5755   252086    3.34%           rho_8 U  40040  40038     92\n",
      "  43452 14227        cutoff              0.5954        0.5755   274284    3.34%           rho_7 D  43452  43450     87\n",
      "  46829 15383        0.5755     4        0.5954        0.5755   299722    3.34%          rho_17 U  46829  46827     94\n",
      "  49948 16545        0.5832    10        0.5954        0.5755   327445    3.34%          rho_11 D  49948  49947     14\n",
      "  52758 17239        0.5823     7        0.5954        0.5755   354605    3.34%           rho_8 U  52758  52756     97\n",
      "Elapsed time = 17.22 sec. (12643.38 ticks, tree = 5.64 MB, solutions = 1)\n",
      "  55594 17952        cutoff              0.5954        0.5755   375674    3.34%           rho_0 U  55594  55593     68\n",
      "  58496 18694        0.5755     3        0.5954        0.5755   396053    3.34%          rho_11 D  58496  58495     18\n",
      "  61750 19953        0.5926    12        0.5954        0.5755   415121    3.34%          rho_21 D  61750  61749     79\n",
      "  64545 20967        cutoff              0.5954        0.5755   435149    3.34%           rho_7 U  64545  64544     78\n",
      "  67336 21985        cutoff              0.5954        0.5755   455197    3.34%           rho_0 D  67336  67334     95\n",
      "  70169 23047        0.5755     4        0.5954        0.5755   475212    3.34%           rho_9 D  70169  70021     83\n",
      "  72990 24110        0.5906    16        0.5954        0.5755   495242    3.34%          rho_21 D  72990  72989     68\n",
      "  75670 24994        0.5762     8        0.5954        0.5755   516188    3.34%           rho_9 U  75670  75668     68\n",
      "  78245 25679        0.5809    10        0.5954        0.5755   539272    3.34%          rho_15 N  78245  78244     61\n",
      "  80892 26447        0.5762     8        0.5954        0.5755   561656    3.34%           rho_9 U  80892  79484    102\n",
      "Elapsed time = 28.47 sec. (22183.85 ticks, tree = 8.09 MB, solutions = 1)\n",
      "  83477 27054        cutoff              0.5954        0.5755   579122    3.34%          rho_23 U  83477  83475     98\n",
      "  86094 27843        0.5841     4        0.5954        0.5755   599062    3.34%          rho_17 N  86094  86093     22\n",
      "  88791 28653        cutoff              0.5954        0.5755   619295    3.34%           rho_0 U  88791  88789     63\n",
      "  91930 29873        0.5928     7        0.5954        0.5755   635814    3.34%           rho_0 U  91930  91929     42\n",
      "  94684 30829        0.5755     6        0.5954        0.5755   656222    3.34%           rho_9 D  94684  93459     82\n",
      "  97130 31441        0.5775     8        0.5954        0.5755   676992    3.34%           rho_8 D  97130  97129     43\n",
      "  99706 32341        0.5762     8        0.5954        0.5755   696284    3.34%           rho_8 N  99706   2033     46\n",
      " 102120 33003        0.5755     5        0.5954        0.5755   714178    3.34%           rho_0 D 102120 102118     80\n",
      " 104396 33725        0.5860    15        0.5954        0.5755   732472    3.34%           rho_7 D 104396 104395     54\n",
      " 106440 33847        0.5787     8        0.5954        0.5755   749323    3.34%           rho_8 N 106440  93269     67\n",
      "Elapsed time = 40.06 sec. (31724.97 ticks, tree = 11.47 MB, solutions = 1)\n",
      " 108484 34122        0.5943     4        0.5954        0.5755   765824    3.34%           rho_3 N 108484 108483     75\n",
      " 110536 34974        0.5762    15        0.5954        0.5755   784483    3.34%           rho_8 D 110536 110535     61\n",
      " 112680 35620        0.5755     4        0.5954        0.5755   801432    3.34%          rho_17 U 112680 112678     72\n",
      " 114925 36347        0.5818     4        0.5954        0.5755   817046    3.34%          rho_25 D 114925 114924     27\n",
      " 117138 36934        0.5935    10        0.5954        0.5755   831751    3.34%          rho_21 D 117138 117137     57\n",
      " 119020 37355        0.5848    14        0.5954        0.5755   846829    3.34%           rho_8 D 119020 119019     83\n",
      " 120842 37704        0.5911    16        0.5954        0.5755   862665    3.34%           rho_7 D 120842 120840     74\n",
      " 122696 38019        0.5761    11        0.5954        0.5755   878267    3.34%           rho_8 U 122696  62221     97\n",
      " 124730 38614        0.5916     0        0.5954        0.5755   893688    3.34%          rho_16 D 124730 124729     24\n",
      " 126940 39724        0.5755     3        0.5954        0.5755   908321    3.34%           rho_0 D 126940 126939     54\n",
      "Elapsed time = 49.78 sec. (41265.89 ticks, tree = 13.13 MB, solutions = 1)\n",
      " 128937 40617        0.5813     9        0.5954        0.5755   922538    3.34%           rho_8 D 128937 128936     78\n",
      " 130780 41312        0.5907     8        0.5954        0.5755   937890    3.34%           rho_7 N 130780 130779     59\n",
      " 132643 42217        0.5917     7        0.5954        0.5755   954170    3.34%           rho_0 U 132643 132642     64\n",
      " 134393 42705        0.5792    12        0.5954        0.5755   968279    3.34%           rho_7 U 134393 133752     30\n",
      " 136429 42915        0.5912     6        0.5954        0.5755   980332    3.34%          rho_30 U 136429 136427     25\n",
      " 138136 43618        0.5755    12        0.5954        0.5755   994741    3.34%           rho_0 D 138136 138135     71\n",
      " 139979 44278        0.5912    14        0.5954        0.5755  1007021    3.34%          rho_15 D 139979 139978    111\n",
      " 141710 44772        0.5907    13        0.5954        0.5755  1019591    3.34%           rho_5 D 141710 141708     82\n",
      " 143402 45201        0.5862     9        0.5954        0.5755  1032449    3.34%           rho_5 D 143402 143401     84\n",
      " 145030 45582        0.5788    10        0.5954        0.5755  1045299    3.34%           rho_7 D 145030 144856     53\n",
      "Elapsed time = 60.41 sec. (50809.01 ticks, tree = 14.84 MB, solutions = 1)\n",
      " 146590 46013        cutoff              0.5954        0.5755  1059153    3.34%          rho_11 D 146590 146589     87\n",
      " 148267 46499        0.5926     3        0.5954        0.5755  1072313    3.34%           rho_5 U 148267 148265     24\n",
      " 150137 47140        cutoff              0.5954        0.5755  1083224    3.34%          rho_20 D 150137 150136     69\n",
      " 151693 47546        0.5755     4        0.5954        0.5755  1096443    3.34%          rho_17 U 151693 151691     66\n",
      " 153131 47767        cutoff              0.5954        0.5755  1109867    3.34%           rho_8 U 153131 153130    109\n",
      " 154296 48183        cutoff              0.5954        0.5755  1126795    3.34%           rho_0 U 154296 154295     89\n",
      " 155486 48527        0.5882    11        0.5954        0.5755  1142813    3.34%           rho_8 D 155486 155483     72\n",
      " 156973 48754        0.5792     8        0.5954        0.5755  1155855    3.34%           rho_8 U 156973  94696     85\n",
      " 158392 48943        0.5952     6        0.5954        0.5755  1169526    3.34%           rho_2 U 158392 158390     78\n",
      " 159914 49412        cutoff              0.5954        0.5755  1181656    3.34%          rho_23 U 159914 159912     65\n",
      "Elapsed time = 68.67 sec. (60348.88 ticks, tree = 16.01 MB, solutions = 1)\n",
      " 161563 50010        0.5755     3        0.5954        0.5755  1193427    3.34%          rho_17 U 161563 161561     41\n",
      " 163150 50873        0.5762    15        0.5954        0.5755  1206463    3.34%           rho_9 D 163150 163149     57\n",
      " 164378 51306        0.5768    16        0.5954        0.5755  1220585    3.34%          rho_17 D 164378 164377     47\n",
      " 165481 51259        cutoff              0.5954        0.5755  1234476    3.34%           rho_0 U 165481 165480     67\n",
      " 166794 51623        0.5897    10        0.5954        0.5755  1247566    3.34%          rho_18 D 166794 166792     85\n",
      " 168222 52155        0.5783    13        0.5954        0.5755  1259531    3.34%          rho_17 D 168222 161146     70\n",
      " 169605 52826        cutoff              0.5954        0.5755  1272655    3.34%           rho_0 U 169605 169604     72\n",
      " 171242 53483        cutoff              0.5954        0.5755  1283737    3.34%           rho_0 U 171242 171202     95\n",
      " 173009 54133        cutoff              0.5954        0.5755  1294318    3.34%           rho_0 U 173009 172979     92\n",
      " 174660 54740        cutoff              0.5954        0.5755  1305549    3.34%          rho_11 U 174660 174658     24\n",
      "Elapsed time = 77.84 sec. (69891.53 ticks, tree = 17.66 MB, solutions = 1)\n",
      " 175940 55075        0.5822    17        0.5954        0.5755  1319139    3.34%           rho_7 D 175940  72951     60\n",
      " 177205 55375        0.5755    15        0.5954        0.5755  1332834    3.34%           rho_0 D 177205 177203     67\n",
      " 178320 55767        0.5773    14        0.5954        0.5755  1346740    3.34%           rho_0 D 178320 178319     65\n",
      " 179782 56302        0.5922     9        0.5954        0.5755  1358824    3.34%          rho_21 U 179782 179781     65\n",
      " 181100 56713        cutoff              0.5954        0.5755  1371704    3.34%           rho_0 U 181100 181098     69\n",
      " 182370 56869        0.5786     8        0.5954        0.5755  1383870    3.34%           rho_7 U 182370 142987     51\n",
      " 183720 57122        0.5897    13        0.5954        0.5755  1395849    3.34%           rho_5 D 183720 183719     83\n",
      " 184989 57491        0.5787    16        0.5954        0.5755  1409371    3.34%           rho_8 D 184989  66435     97\n",
      " 186336 58131        0.5878    10        0.5954        0.5755  1421403    3.34%           rho_7 U 186336 186335     86\n",
      " 187745 58455        cutoff              0.5954        0.5755  1432989    3.34%          rho_23 U 187745 187743     79\n",
      "Elapsed time = 86.98 sec. (79435.85 ticks, tree = 18.82 MB, solutions = 1)\n",
      " 188998 58722        0.5797    11        0.5954        0.5755  1444826    3.34%           rho_7 U 188998 188997     50\n",
      " 190209 58945        0.5797    15        0.5954        0.5755  1457174    3.34%           rho_8 D 190209  11910     40\n",
      " 191440 59321        0.5755     7        0.5954        0.5755  1469768    3.34%          rho_17 D 191440 191226     56\n",
      " 192849 59885        cutoff              0.5954        0.5755  1481814    3.34%           rho_0 U 192849 192848     25\n",
      " 194400 60602        cutoff              0.5954        0.5755  1492768    3.34%          rho_27 U 194400 194399     43\n",
      " 195947 61250        0.5755     1        0.5954        0.5755  1503652    3.34%          rho_17 U 195947 195830     34\n",
      " 197548 61975        0.5833     6        0.5954        0.5755  1514585    3.34%          rho_17 D 197548 197547     47\n",
      " 199116 62567        0.5763    11        0.5954        0.5755  1524634    3.34%          rho_17 D 199116 199115     87\n",
      " 200440 62968        cutoff              0.5954        0.5755  1536577    3.34%           rho_0 U 200440 200439     50\n",
      " 205330 64452        0.5776    13        0.5954        0.5755  1581761    3.34%           rho_8 D 205330  25171     90\n",
      "Elapsed time = 97.86 sec. (91839.66 ticks, tree = 20.69 MB, solutions = 1)\n",
      " 210638 66467        0.5755     1        0.5954        0.5755  1622311    3.34%          rho_17 U 210638 210631     51\n",
      " 215379 67205        0.5929     8        0.5954        0.5755  1671359    3.34%           rho_0 D 215379 215377     85\n",
      " 220618 69196        0.5910    13        0.5954        0.5755  1714359    3.34%           rho_6 D 220618 220617     40\n",
      " 225665 70452        0.5878    13        0.5954        0.5755  1756945    3.34%           rho_0 D 225665 225663     70\n",
      " 231084 71673        0.5755     1        0.5954        0.5755  1795133    3.34%          rho_17 U 231084 193735     39\n",
      " 236332 73743        0.5816    13        0.5954        0.5755  1837325    3.34%          rho_17 D 236332 236331     40\n",
      " 241205 75526        cutoff              0.5954        0.5755  1879531    3.34%          rho_24 D 241205 241203     81\n",
      " 246434 77553        cutoff              0.5954        0.5755  1920353    3.34%           rho_0 U 246434 246433     60\n",
      " 251880 79807        0.5763    11        0.5954        0.5755  1961332    3.34%           rho_0 D 251880 251878     83\n",
      " 256760 81653        cutoff              0.5954        0.5755  2003738    3.34%           rho_5 U 256760 256759     48\n",
      "Elapsed time = 135.86 sec. (129989.93 ticks, tree = 28.98 MB, solutions = 1)\n",
      " 261883 84226        0.5875    13        0.5954        0.5755  2046156    3.34%           rho_4 D 261883 261882    105\n",
      " 266654 86800        0.5873    13        0.5954        0.5755  2085731    3.34%          rho_21 U 266654 266653     70\n",
      " 271316 88496        0.5755     4        0.5954        0.5755  2133108    3.34%          rho_17 U 271316 270503     42\n",
      " 276778 90468        0.5907    14        0.5954        0.5755  2175406    3.34%           rho_0 D 276778 276776    101\n",
      " 282004 92611        cutoff              0.5954        0.5755  2215983    3.34%           rho_0 D 282004 282003     84\n",
      " 286824 95030        0.5755     7        0.5954        0.5755  2258642    3.34%           rho_0 D 286824 286822     63\n",
      " 291132 96624        cutoff              0.5954        0.5755  2298932    3.34%           rho_0 U 291132 291131     68\n",
      " 295691 98552        cutoff              0.5954        0.5755  2340097    3.34%           rho_7 D 295691 295689     70\n",
      " 300156 100443        0.5755     8        0.5954        0.5755  2380645    3.34%          rho_17 D 300156 300155     58\n",
      " 304740 102380        0.5755     2        0.5954        0.5755  2421669    3.34%           rho_9 U 304740 303584     52\n",
      "Elapsed time = 176.73 sec. (168140.72 ticks, tree = 35.67 MB, solutions = 1)\n",
      " 309183 104170        cutoff              0.5954        0.5755  2461580    3.34%           rho_7 U 309183 309182     47\n",
      " 314070 106503        0.5933     8        0.5954        0.5755  2499749    3.34%          rho_28 U 314070 314069     56\n",
      " 318928 108690        0.5786    11        0.5954        0.5755  2536455    3.34%           rho_0 D 318928 318926     77\n",
      " 323586 110704        0.5761    12        0.5954        0.5755  2573575    3.34%           rho_8 D 323586 323585     85\n",
      " 328223 112856        0.5755     6        0.5954        0.5755  2612326    3.34%           rho_0 D 328223 328222     59\n",
      " 332820 115030        0.5755     8        0.5954        0.5755  2652393    3.34%           rho_0 D 332820 332818     62\n",
      "\n",
      "Mixed integer rounding cuts applied:  1\n",
      "Gomory fractional cuts applied:  1\n",
      "User cuts applied:  890\n",
      "\n",
      "Root node processing (before b&c):\n",
      "  Real time             =    0.25 sec. (3.05 ticks)\n",
      "Sequential b&c:\n",
      "  Real time             =  199.76 sec. (193685.12 ticks)\n",
      "                          ------------\n",
      "Total (root+branch&cut) =  200.01 sec. (193688.17 ticks)\n",
      "+-----------------------------------------------+-------------------+-----------+\n",
      "| Pr(Y = +1) = 1.0/(1.0 + exp(-(-41 + score))   |                   |           |\n",
      "| ============================================= | ================= | ========= |\n",
      "| p_arrest>=1                                   |         20 points |   + ..... |\n",
      "| p_charges>=1                                  |         20 points |   + ..... |\n",
      "| p_arrest>=2                                   |          1 points |   + ..... |\n",
      "| p_arrest>=4                                   |          1 points |   + ..... |\n",
      "| ============================================= | ================= | ========= |\n",
      "| ADD POINTS FROM ROWS 1 to 4                   |             SCORE |   = ..... |\n",
      "+-----------------------------------------------+-------------------+-----------+\n",
      "model_id, score_thresholds 0 {'rank_abs': [2082]}\n",
      "get_disparity_predefined_group()\n",
      "setting c0 = 0.0 to ensure that intercept is not penalized\n",
      "10/01/19 @ 01:58 PM | 1461 rows in lookup table\n",
      "10/01/19 @ 01:58 PM | ------------------------------------------------------------\n",
      "10/01/19 @ 01:58 PM | runnning initialization procedure\n",
      "10/01/19 @ 01:58 PM | ------------------------------------------------------------\n",
      "10/01/19 @ 01:58 PM | CPA produced 2 cuts\n",
      "10/01/19 @ 01:58 PM | running naive rounding on 38 solutions\n",
      "10/01/19 @ 01:58 PM | best objective value: 0.6037\n",
      "10/01/19 @ 01:58 PM | rounding produced 5 integer solutions\n",
      "10/01/19 @ 01:58 PM | best objective value is 0.6086\n",
      "10/01/19 @ 01:58 PM | running sequential rounding on 38 solutions\n",
      "10/01/19 @ 01:58 PM | best objective value: 0.6037\n",
      "10/01/19 @ 01:58 PM | sequential rounding produced 6 integer solutions\n",
      "10/01/19 @ 01:58 PM | best objective value: 0.6040\n",
      "10/01/19 @ 01:58 PM | polishing 11 solutions\n",
      "10/01/19 @ 01:58 PM | best objective value: 0.6040\n",
      "10/01/19 @ 01:58 PM | polishing produced 5 integer solutions\n",
      "10/01/19 @ 01:58 PM | initialization produced 11 feasible solutions\n",
      "10/01/19 @ 01:58 PM | best objective value: 0.6033\n",
      "10/01/19 @ 01:58 PM | ------------------------------------------------------------\n",
      "10/01/19 @ 01:58 PM | completed initialization procedure\n",
      "10/01/19 @ 01:58 PM | ------------------------------------------------------------\n",
      "10/01/19 @ 01:58 PM | 1461 rows in lookup table\n",
      "CPXPARAM_Read_DataCheck                          1\n",
      "CPXPARAM_Threads                                 1\n",
      "CPXPARAM_Parallel                                1\n",
      "CPXPARAM_RandomSeed                              0\n",
      "CPXPARAM_TimeLimit                               200\n",
      "CPXPARAM_MIP_Tolerances_LowerCutoff              0.5745600089469195\n",
      "CPXPARAM_MIP_Tolerances_UpperCutoff              0.60329921396994413\n"
     ]
    },
    {
     "name": "stderr",
     "output_type": "stream",
     "text": [
      "Warning: Control callbacks may disable some MIP features.\n"
     ]
    },
    {
     "name": "stdout",
     "output_type": "stream",
     "text": [
      "Lazy constraint(s) or lazy constraint callback is present.\n",
      "    Disabling dual reductions (CPX_PARAM_REDUCE) in presolve.\n",
      "    Disabling non-linear reductions (CPX_PARAM_PRELINEAR) in presolve.\n",
      "         Disabling repeat represolve because of lazy constraint/incumbent callback.\n",
      "10/01/19 @ 01:58 PM | adding 249 initial cuts\n",
      "1 of 1 MIP starts provided solutions.\n",
      "MIP start 'mip_start_0' defined initial solution with objective 0.6033.\n",
      "Tried aggregator 1 time.\n",
      "Reduced MIP has 36 rows, 72 columns, and 139 nonzeros.\n",
      "Reduced MIP has 34 binaries, 36 generals, 0 SOSs, and 0 indicators.\n",
      "Presolve time = 0.00 sec. (0.08 ticks)\n",
      "Probing time = 0.00 sec. (0.02 ticks)\n",
      "MIP emphasis: balance optimality and feasibility.\n",
      "MIP search method: traditional branch-and-cut.\n",
      "Parallel mode: none, using 1 thread.\n",
      "Root relaxation solution time = 0.00 sec. (0.05 ticks)\n",
      "\n",
      "        Nodes                                         Cuts/\n",
      "   Node  Left     Objective  IInf  Best Integer    Best Bound    ItCnt     Gap         Variable B NodeID Parent  Depth\n",
      "\n",
      "*     0+    0                            0.6033        0.5746             4.76%\n",
      "      0     0        0.5746     1        0.6033        0.5746        1    4.76%\n",
      "      0     0        0.5746     1        0.6033      Fract: 1        2    4.76%\n",
      "      0     0        0.5746     1        0.6033       Cuts: 3        4    4.76%\n",
      "      0     2        0.5746     6        0.6033        0.5746        4    4.76%                        0             0\n",
      "Elapsed time = 0.25 sec. (2.44 ticks, tree = 0.01 MB, solutions = 1)\n",
      "   1940  1147        0.6002     0        0.6033        0.5746     8624    4.76%           rho_9 U   1940   1939     29\n",
      "   3010  1733        0.5746     8        0.6033        0.5746    15008    4.76%          rho_13 U   3010   3008      7\n",
      "   3857  2223        cutoff              0.6033        0.5746    19210    4.76%           rho_1 U   3857    913     19\n",
      "   4566  2549        cutoff              0.6033        0.5746    23435    4.76%        alpha_22 U   4566   4564     32\n",
      "   5206  2917        0.5878     8        0.6033        0.5746    26599    4.76%          rho_12 U   5206   4985     35\n",
      "   5740  3243        0.5746     9        0.6033        0.5746    29882    4.76%          rho_20 D   5740   5738     20\n",
      "   6233  3568        cutoff              0.6033        0.5746    33052    4.76%          rho_28 U   6233   6232     39\n",
      "*  6680  3680      integral     0        0.6019        0.5746    35778    4.54%          rho_25 D   6680   6679     22\n",
      "*  6720+ 3655                            0.6014        0.5746             4.46%\n",
      "*  6726  3433      integral     0        0.5986        0.5746    36067    4.02%          rho_25 D   6726   6725     30\n",
      "*  6820+ 3391                            0.5977        0.5746             3.88%\n",
      "*  6884  3358      integral     0        0.5970        0.5746    37154    3.75%          rho_25 D   6884   6882     21\n",
      "Elapsed time = 4.50 sec. (2047.74 ticks, tree = 1.01 MB, solutions = 6)\n",
      "*  7100+ 3260                            0.5953        0.5746             3.48%\n",
      "*  7100+ 2982                            0.5931        0.5746             3.13%\n",
      "   8432  3631        cutoff              0.5931        0.5746    48375    3.13%          rho_14 U   8432   8431     33\n",
      "  10144  4445        0.5836    11        0.5931        0.5746    59773    3.13%           rho_5 U  10144  10129     29\n",
      "  11815  5276        0.5906     3        0.5931        0.5746    71075    3.13%          rho_24 D  11815  11813     28\n",
      "  13454  6104        0.5831    14        0.5931        0.5746    82856    3.13%          rho_20 U  13454  13360     23\n",
      "  14947  6782        0.5746     5        0.5931        0.5746    93826    3.13%          rho_17 U  14947   6751     25\n",
      "  16360  7428        0.5804     7        0.5931        0.5746   105019    3.13%          rho_15 D  16360  16359     25\n",
      "  17636  8009        0.5865    14        0.5931        0.5746   116177    3.13%          rho_17 D  17636  17635     30\n",
      "  19028  8643        0.5746     8        0.5931        0.5746   125446    3.13%           rho_9 U  19028  18840     20\n",
      "  20346  9249        0.5758    12        0.5931        0.5746   135534    3.13%          rho_10 D  20346  20344     27\n",
      "  21671  9904        cutoff              0.5931        0.5746   145439    3.13%          rho_15 U  21671  21670     40\n",
      "Elapsed time = 16.39 sec. (11588.05 ticks, tree = 3.53 MB, solutions = 8)\n",
      "  22893 10448        0.5773     8        0.5931        0.5746   155397    3.13%           rho_0 D  22893  22892     25\n",
      "  24082 11075        0.5746     9        0.5931        0.5746   164790    3.13%          rho_10 U  24082  16148     21\n",
      "  25278 11598        0.5746    10        0.5931        0.5746   174244    3.13%           rho_0 D  25278  25276     32\n",
      "  26601 12239        cutoff              0.5931        0.5746   182801    3.13%           rho_9 U  26601  26599     36\n",
      "  27792 12643        0.5746     6        0.5931        0.5746   191849    3.13%          rho_17 U  27792  27782     50\n",
      "  28991 13039        0.5894    10        0.5931        0.5746   200529    3.13%          rho_18 D  28991  28989     76\n",
      "  30115 13411        0.5754    11        0.5931        0.5746   209618    3.13%           rho_0 D  30115  30113     38\n",
      "  31274 13800        cutoff              0.5931        0.5746   218519    3.13%           rho_5 U  31274  31273     84\n",
      "  32518 14272        cutoff              0.5931        0.5746   227391    3.13%          rho_24 D  32518  32516     61\n",
      "  33652 14507        cutoff              0.5931        0.5746   235668    3.13%           rho_4 D  33652  33650     73\n",
      "Elapsed time = 25.78 sec. (21129.51 ticks, tree = 5.06 MB, solutions = 8)\n",
      "  34857 15138        0.5756    13        0.5931        0.5746   244413    3.13%           rho_0 D  34857  34855     97\n",
      "  36090 15544        cutoff              0.5931        0.5746   252876    3.13%          rho_11 U  36090  36075     33\n",
      "  37245 16064        0.5746    10        0.5931        0.5746   262136    3.13%          rho_17 D  37245  37244     42\n",
      "  38325 16453        cutoff              0.5931        0.5746   271537    3.13%          rho_34 U  38325  38324     60\n",
      "  39550 17080        0.5746     4        0.5931        0.5746   280587    3.13%           rho_5 D  39550  39549     14\n",
      "  40603 17790        0.5825    13        0.5931        0.5746   290902    3.13%           rho_0 D  40603  40601     51\n",
      "  41684 18356        0.5746    10        0.5931        0.5746   301100    3.13%          rho_10 D  41684  41683     27\n",
      "  42739 18909        0.5911    17        0.5931        0.5746   312021    3.13%          rho_16 D  42739  42738     46\n",
      "  43736 19462        0.5881    16        0.5931        0.5746   322752    3.13%          rho_18 D  43736  43735     65\n",
      "  44720 19976        0.5746     4        0.5931        0.5746   332221    3.13%          rho_17 U  44720  44718     64\n",
      "Elapsed time = 36.67 sec. (30675.45 ticks, tree = 7.54 MB, solutions = 8)\n",
      "  45695 20471        0.5753    16        0.5931        0.5746   341595    3.13%           rho_9 U  45695  43363     94\n",
      "  46670 21013        0.5746     7        0.5931        0.5746   351057    3.13%          rho_17 D  46670  46669     52\n",
      "  47630 21462        0.5753    17        0.5931        0.5746   360104    3.13%           rho_9 U  47630  46419     49\n",
      "  48610 21937        0.5923     9        0.5931        0.5746   368682    3.13%          rho_16 D  48610  48609     65\n",
      "  49635 22409        0.5809    12        0.5931        0.5746   377684    3.13%           rho_9 U  49635  49634     94\n",
      "  50884 22998        cutoff              0.5931        0.5746   388496    3.13%          rho_30 U  50884  50883     67\n",
      "  52031 23451        0.5900    10        0.5931        0.5746   398584    3.13%          rho_16 U  52031  52030     44\n",
      "  53112 23852        cutoff              0.5931        0.5746   408957    3.13%           rho_0 D  53112  53111     58\n",
      "* 54086 23777      integral     0        0.5926        0.5746   418880    3.04%          rho_16 U  54086  54085     25\n",
      "  55142 24316        0.5746    11        0.5926        0.5746   430536    3.04%          rho_17 U  55142  55140     35\n",
      "Elapsed time = 46.20 sec. (40123.12 ticks, tree = 9.00 MB, solutions = 9)\n",
      "  56120 24845        0.5746     9        0.5926        0.5746   441823    3.04%           rho_0 D  56120  56118     70\n",
      "  57088 25391        0.5830    12        0.5926        0.5746   451351    3.04%           rho_1 D  57088  57087     22\n",
      "  58064 25924        cutoff              0.5926        0.5746   459779    3.04%          rho_10 U  58064  58063     25\n",
      "  59139 26374        0.5859    12        0.5926        0.5746   467756    3.04%          rho_10 D  59139  59138     31\n",
      "  60270 26870        0.5861     8        0.5926        0.5746   477558    3.04%          rho_21 D  60270  60269     22\n",
      "  61286 27382        cutoff              0.5926        0.5746   487999    3.04%          rho_18 U  61286  61284     54\n",
      "  62291 27854        0.5746     4        0.5926        0.5746   498334    3.04%          rho_10 U  62291  62277     57\n",
      "  63293 28367        0.5861    14        0.5926        0.5746   508902    3.04%          rho_24 D  63293  63291     61\n",
      "  64267 28846        0.5803    15        0.5926        0.5746   519039    3.04%          rho_17 D  64267  64265     79\n",
      "  65200 29343        0.5865    13        0.5926        0.5746   529316    3.04%           rho_4 D  65200  65198     75\n",
      "Elapsed time = 55.59 sec. (49671.95 ticks, tree = 10.70 MB, solutions = 9)\n",
      "  66079 29830        0.5865    13        0.5926        0.5746   539001    3.04%           rho_4 D  66079  66078     66\n",
      "  67062 30236        0.5865    15        0.5926        0.5746   549016    3.04%          rho_18 D  67062  67061     77\n",
      "  68135 30820        0.5767    14        0.5926        0.5746   559333    3.04%          rho_17 D  68135  68134     84\n",
      "  69096 31326        cutoff              0.5926        0.5746   568678    3.04%           rho_0 U  69096  69095     58\n",
      "  70206 31725        0.5839    15        0.5926        0.5746   578042    3.04%           rho_0 D  70206  70205     34\n",
      "  71134 32087        0.5774    16        0.5926        0.5746   589136    3.04%           rho_5 D  71134  71132     61\n",
      "  72065 32446        0.5746     5        0.5926        0.5746   599909    3.04%          rho_10 U  72065  72063     50\n",
      "  72814 32893        0.5746     7        0.5926        0.5746   611903    3.04%          rho_17 U  72814  72812     61\n",
      "  73442 33354        0.5746     7        0.5926        0.5746   625107    3.04%           rho_0 D  73442  73440     42\n",
      "  74340 33765        0.5800    11        0.5926        0.5746   635282    3.04%          rho_24 D  74340  74339     20\n",
      "Elapsed time = 64.92 sec. (59214.51 ticks, tree = 13.57 MB, solutions = 9)\n",
      "  75489 34368        0.5829    21        0.5926        0.5746   644330    3.04%          rho_17 D  75489  75488     33\n",
      "  76316 34794        0.5746     6        0.5926        0.5746   654318    3.04%           rho_0 D  76316  76314     57\n",
      "  77542 35250        0.5746     9        0.5926        0.5746   662494    3.04%           rho_0 D  77542  77540     52\n",
      "  78780 35698        0.5774    13        0.5926        0.5746   670599    3.04%          rho_17 D  78780  78779     69\n",
      "  79983 36137        0.5878    13        0.5926        0.5746   678422    3.04%          rho_21 D  79983  79982     82\n",
      "  81193 36580        0.5894    12        0.5926        0.5746   686296    3.04%          rho_15 D  81193  81191     70\n",
      "  82400 37029        0.5887    16        0.5926        0.5746   694232    3.04%          rho_23 D  82400  82399     82\n",
      "  83556 37465        0.5746     4        0.5926        0.5746   702203    3.04%          rho_17 U  83556  83530     41\n",
      "  84639 37908        0.5771    14        0.5926        0.5746   710867    3.04%           rho_9 U  84639  84563     38\n",
      "  85465 38296        0.5746     5        0.5926        0.5746   722240    3.04%          rho_17 U  85465  85463     51\n",
      "Elapsed time = 75.53 sec. (68763.23 ticks, tree = 15.11 MB, solutions = 9)\n",
      "  86346 38686        cutoff              0.5926        0.5746   732928    3.04%           rho_0 U  86346  86345     41\n",
      "  87416 39093        0.5769    11        0.5926        0.5746   742365    3.04%           rho_6 D  87416  87415     25\n",
      "  88588 39499        0.5803    11        0.5926        0.5746   750172    3.04%           rho_5 D  88588  88586     50\n",
      "  89585 39867        0.5746     9        0.5926        0.5746   759106    3.04%           rho_0 D  89585  89583     35\n",
      "  90582 40300        0.5746     8        0.5926        0.5746   768014    3.04%           rho_0 D  90582  90580     48\n",
      "  91685 40800        0.5746     6        0.5926        0.5746   776040    3.04%          rho_17 U  91685  91683     51\n",
      "  92580 41393        0.5862    20        0.5926        0.5746   786863    3.04%          rho_18 D  92580  92579     32\n",
      "  93566 41895        0.5769    10        0.5926        0.5746   795832    3.04%           rho_9 U  93566  93564     82\n",
      "  94425 42219        0.5915    12        0.5926        0.5746   805317    3.04%          rho_21 N  94425  94424     99\n",
      "  95300 42496        0.5746    13        0.5926        0.5746   814123    3.04%          rho_13 D  95300  95299     38\n",
      "Elapsed time = 85.83 sec. (78306.02 ticks, tree = 16.52 MB, solutions = 9)\n",
      "  96240 42899        cutoff              0.5926        0.5746   823435    3.04%          rho_30 U  96240  96239     46\n",
      "  97224 43279        0.5908    11        0.5926        0.5746   832479    3.04%           rho_4 U  97224  97223     30\n",
      "  98310 43734        cutoff              0.5926        0.5746   840902    3.04%          rho_28 D  98310  98308     51\n",
      "  99439 44142        0.5848    13        0.5926        0.5746   848195    3.04%          rho_21 D  99439  99438     43\n",
      " 100570 44573        0.5746     4        0.5926        0.5746   855331    3.04%          rho_17 U 100570 100568     46\n",
      " 101700 44995        0.5859    14        0.5926        0.5746   862689    3.04%          rho_18 D 101700 101698     51\n",
      " 102819 45386        0.5853     7        0.5926        0.5746   869873    3.04%           rho_9 U 102819 102817     96\n",
      " 103906 45890        0.5845    12        0.5926        0.5746   876846    3.04%          rho_18 D 103906 103905     34\n",
      " 104917 46205        0.5888     8        0.5926        0.5746   885141    3.04%           rho_9 U 104917 104916     33\n",
      " 109196 48072        cutoff              0.5926        0.5746   917888    3.04%          rho_11 U 109196 109195     29\n",
      "Elapsed time = 97.75 sec. (90706.58 ticks, tree = 18.40 MB, solutions = 9)\n",
      " 113553 49464        0.5883     9        0.5926        0.5746   951011    3.04%          rho_12 U 113553 113552     39\n",
      " 117655 50926        0.5914    18        0.5926        0.5746   984765    3.04%          rho_24 D 117655 117654     59\n",
      " 121837 52290        cutoff              0.5926        0.5746  1018057    3.04%           rho_0 U 121837 121836     57\n",
      " 126013 53596        0.5865    13        0.5926        0.5746  1051347    3.04%          rho_16 D 126013 126011     34\n",
      " 130380 54547        0.5771    13        0.5926        0.5746  1075397    3.04%           rho_5 D 130380 130379     23\n",
      " 133966 55382        0.5856    13        0.5926        0.5746  1111715    3.04%           rho_9 D 133966 133965     57\n",
      " 137673 56495        0.5746    10        0.5926        0.5746  1147114    3.04%          rho_11 U 137673 137672     35\n",
      " 141445 57996        cutoff              0.5926        0.5746  1184318    3.04%          rho_11 U 141445 141444     57\n",
      " 145021 59307        cutoff              0.5926        0.5746  1220667    3.04%          rho_23 U 145021 145020     52\n",
      " 149432 61331        cutoff              0.5926        0.5746  1256195    3.04%           rho_3 U 149432 149431     98\n",
      "Elapsed time = 132.03 sec. (128857.15 ticks, tree = 22.83 MB, solutions = 9)\n",
      " 153579 62989        0.5746     6        0.5926        0.5746  1290514    3.04%           rho_0 D 153579 153577     50\n",
      " 156889 64420        0.5746    11        0.5926        0.5746  1332752    3.04%          rho_17 D 156889 156888     45\n",
      " 160473 65980        0.5746     5        0.5926        0.5746  1372101    3.04%           rho_0 D 160473 160471     66\n",
      " 165278 67478        0.5864    13        0.5926        0.5746  1402990    3.04%           rho_4 D 165278 165277     77\n",
      " 169554 69403        0.5746     1        0.5926        0.5746  1439148    3.04%          rho_10 U 169554 169552     71\n",
      " 172947 71111        cutoff              0.5926        0.5746  1482843    3.04%          rho_21 U 172947 172946     59\n",
      " 176599 72634        0.5746    10        0.5926        0.5746  1519934    3.04%          rho_17 D 176599 176598     73\n",
      " 180194 74170        0.5746    10        0.5926        0.5746  1557895    3.04%          rho_10 D 180194  84085     21\n",
      " 183831 75762        0.5912    14        0.5926        0.5746  1596254    3.04%          rho_24 D 183831 183830     28\n",
      " 188113 77454        0.5746     5        0.5926        0.5746  1626580    3.04%           rho_0 D 188113 188111     51\n",
      "Elapsed time = 170.30 sec. (167009.42 ticks, tree = 31.13 MB, solutions = 9)\n",
      " 192336 79163        cutoff              0.5926        0.5746  1659357    3.04%          rho_34 U 192336 192335     44\n",
      " 196603 80700        0.5746    14        0.5926        0.5746  1692602    3.04%          rho_17 D 196603 196602     40\n",
      " 200499 82529        0.5797    11        0.5926        0.5746  1730463    3.04%           rho_8 U 200499 200188     40\n",
      " 204265 83756        0.5910    12        0.5926        0.5746  1764605    3.04%           rho_4 U 204265 204263     52\n",
      " 208116 84820        0.5880    16        0.5926        0.5746  1798383    3.04%           rho_0 D 208116 208114     74\n",
      " 211300 86298        0.5880    20        0.5926        0.5746  1838481    3.04%           rho_4 D 211300 211299     53\n",
      " 214381 88071        0.5926    13        0.5926        0.5746  1880432    3.04%          rho_21 U 214381 214380     60\n",
      "*214923 88360      integral     0        0.5926        0.5746  1887623    3.04%          rho_16 U 214923 214922     62\n",
      "\n",
      "Gomory fractional cuts applied:  1\n",
      "User cuts applied:  1022\n",
      "\n",
      "Root node processing (before b&c):\n",
      "  Real time             =    0.23 sec. (2.56 ticks)\n",
      "Sequential b&c:\n",
      "  Real time             =  199.78 sec. (197739.88 ticks)\n",
      "                          ------------\n",
      "Total (root+branch&cut) =  200.02 sec. (197742.44 ticks)\n",
      "+-----------------------------------------------+-------------------+-----------+\n",
      "| Pr(Y = +1) = 1.0/(1.0 + exp(-(-22 + score))   |                   |           |\n",
      "| ============================================= | ================= | ========= |\n",
      "| p_arrest>=1                                   |         18 points |   + ..... |\n",
      "| p_charges>=1                                  |          2 points |   + ..... |\n",
      "| age_at_current_charge<=52                     |          1 points |   + ..... |\n",
      "| p_arrest>=2                                   |          1 points |   + ..... |\n",
      "| p_arrest>=4                                   |          1 points |   + ..... |\n",
      "| p_arrest>=7                                   |          1 points |   + ..... |\n",
      "| ============================================= | ================= | ========= |\n",
      "| ADD POINTS FROM ROWS 1 to 6                   |             SCORE |   = ..... |\n",
      "+-----------------------------------------------+-------------------+-----------+\n",
      "model_id, score_thresholds 0 {'rank_abs': [2010]}\n",
      "get_disparity_predefined_group()\n"
     ]
    },
    {
     "name": "stderr",
     "output_type": "stream",
     "text": [
      "C:\\Users\\binha\\Documents\\Duke\\Cynthia Research\\psa-analysis - test2\\utils\\fairness_functions.py:95: RuntimeWarning:\n",
      "\n",
      "divide by zero encountered in longlong_scalars\n",
      "\n"
     ]
    },
    {
     "name": "stdout",
     "output_type": "stream",
     "text": [
      "setting c0 = 0.0 to ensure that intercept is not penalized\n",
      "10/01/19 @ 02:02 PM | 1461 rows in lookup table\n",
      "10/01/19 @ 02:02 PM | ------------------------------------------------------------\n",
      "10/01/19 @ 02:02 PM | runnning initialization procedure\n",
      "10/01/19 @ 02:02 PM | ------------------------------------------------------------\n",
      "10/01/19 @ 02:02 PM | CPA produced 2 cuts\n",
      "10/01/19 @ 02:02 PM | running naive rounding on 39 solutions\n",
      "10/01/19 @ 02:02 PM | best objective value: 0.5925\n",
      "10/01/19 @ 02:02 PM | rounding produced 5 integer solutions\n",
      "10/01/19 @ 02:02 PM | best objective value is 0.6006\n",
      "10/01/19 @ 02:02 PM | running sequential rounding on 39 solutions\n",
      "10/01/19 @ 02:02 PM | best objective value: 0.5925\n",
      "10/01/19 @ 02:02 PM | sequential rounding produced 6 integer solutions\n",
      "10/01/19 @ 02:02 PM | best objective value: 0.5982\n",
      "10/01/19 @ 02:02 PM | polishing 11 solutions\n",
      "10/01/19 @ 02:02 PM | best objective value: 0.5982\n",
      "10/01/19 @ 02:02 PM | polishing produced 4 integer solutions\n",
      "10/01/19 @ 02:02 PM | initialization produced 12 feasible solutions\n",
      "10/01/19 @ 02:02 PM | best objective value: 0.5982\n",
      "10/01/19 @ 02:02 PM | ------------------------------------------------------------\n",
      "10/01/19 @ 02:02 PM | completed initialization procedure\n",
      "10/01/19 @ 02:02 PM | ------------------------------------------------------------\n",
      "10/01/19 @ 02:02 PM | 1461 rows in lookup table\n",
      "CPXPARAM_Read_DataCheck                          1\n",
      "CPXPARAM_Threads                                 1\n",
      "CPXPARAM_Parallel                                1\n",
      "CPXPARAM_RandomSeed                              0\n",
      "CPXPARAM_TimeLimit                               200\n",
      "CPXPARAM_MIP_Tolerances_LowerCutoff              0.57349575311553114\n",
      "CPXPARAM_MIP_Tolerances_UpperCutoff              0.59823163962796277\n"
     ]
    },
    {
     "name": "stderr",
     "output_type": "stream",
     "text": [
      "Warning: Control callbacks may disable some MIP features.\n"
     ]
    },
    {
     "name": "stdout",
     "output_type": "stream",
     "text": [
      "Lazy constraint(s) or lazy constraint callback is present.\n",
      "    Disabling dual reductions (CPX_PARAM_REDUCE) in presolve.\n",
      "    Disabling non-linear reductions (CPX_PARAM_PRELINEAR) in presolve.\n",
      "         Disabling repeat represolve because of lazy constraint/incumbent callback.\n",
      "10/01/19 @ 02:02 PM | adding 249 initial cuts\n",
      "1 of 1 MIP starts provided solutions.\n",
      "MIP start 'mip_start_0' defined initial solution with objective 0.5982.\n",
      "Tried aggregator 1 time.\n",
      "Reduced MIP has 36 rows, 72 columns, and 139 nonzeros.\n",
      "Reduced MIP has 34 binaries, 36 generals, 0 SOSs, and 0 indicators.\n",
      "Presolve time = 0.00 sec. (0.08 ticks)\n",
      "Probing time = 0.00 sec. (0.02 ticks)\n",
      "MIP emphasis: balance optimality and feasibility.\n",
      "MIP search method: traditional branch-and-cut.\n",
      "Parallel mode: none, using 1 thread.\n",
      "Root relaxation solution time = 0.00 sec. (0.05 ticks)\n",
      "\n",
      "        Nodes                                         Cuts/\n",
      "   Node  Left     Objective  IInf  Best Integer    Best Bound    ItCnt     Gap         Variable B NodeID Parent  Depth\n",
      "\n",
      "*     0+    0                            0.5982        0.5735             4.14%\n",
      "      0     0        0.5735     1        0.5982        0.5735        1    4.13%\n",
      "      0     0        0.5735     1        0.5982      Fract: 1        2    4.13%\n",
      "      0     0        0.5735     1        0.5982       Cuts: 3        4    4.13%\n",
      "      0     0        0.5735     2        0.5982    MIRcuts: 1        5    4.13%\n",
      "      0     2        0.5735     5        0.5982        0.5735        5    4.13%                        0             0\n",
      "Elapsed time = 0.34 sec. (2.87 ticks, tree = 0.01 MB, solutions = 1)\n",
      "   2400  1377        0.5735    12        0.5982        0.5735    10219    4.13%          rho_12 U   2400   2398     21\n",
      "   4134  2344        0.5750    14        0.5982        0.5735    17137    4.13%          rho_17 U   4134   4132     67\n",
      "   5313  3005        0.5735    14        0.5982        0.5735    22986    4.13%          rho_20 D   5313   5224     20\n",
      "   6267  3595        0.5961     1        0.5982        0.5735    29147    4.13%          rho_28 U   6267   6266     45\n",
      "   7087  3949        cutoff              0.5982        0.5735    36239    4.13%           rho_7 U   7087   7086     24\n",
      "   7940  4473        0.5923    15        0.5982        0.5735    40674    4.13%          rho_17 D   7940   7939     64\n",
      "   8810  4854        0.5824    13        0.5982        0.5735    44933    4.13%          rho_17 D   8810   8809     83\n",
      "   9579  5250        0.5735     5        0.5982        0.5735    49330    4.13%          rho_17 U   9579   9578     17\n",
      "  10378  5717        0.5971     6        0.5982        0.5735    52731    4.13%          rho_17 U  10378  10376     88\n",
      "  12942  7085        0.5874    14        0.5982        0.5735    68697    4.13%          rho_24 D  12942  12941     80\n",
      "Elapsed time = 8.41 sec. (3104.11 ticks, tree = 2.11 MB, solutions = 1)\n",
      "  15531  8371        0.5735     4        0.5982        0.5735    87011    4.13%          rho_10 U  15531  15529     60\n",
      "  18224  9936        0.5735     1        0.5982        0.5735    97600    4.13%           rho_0 D  18224  18222     83\n",
      "  21083 11114        0.5784     9        0.5982        0.5735   111920    4.13%           rho_9 D  21083  21082     75\n",
      "  23765 11744        cutoff              0.5982        0.5735   128176    4.13%           rho_1 U  23765  23764     52\n",
      "  26417 12757        0.5928    11        0.5982        0.5735   145009    4.13%           rho_4 U  26417  26416     41\n",
      "  28741 13964        0.5736    15        0.5982        0.5735   162696    4.13%          rho_17 D  28741  28740     60\n",
      "  31040 15355        0.5735     1        0.5982        0.5735   178899    4.13%          rho_17 U  31040  31039     44\n",
      "  32910 16084        0.5735    13        0.5982        0.5735   195913    4.13%           rho_0 D  32910  32908     48\n",
      "  34689 16720        0.5751    14        0.5982        0.5735   213581    4.13%           rho_9 D  34689  34688     32\n",
      "  36863 17907        0.5743     8        0.5982        0.5735   228103    4.13%           rho_9 U  36863  36592     51\n",
      "Elapsed time = 21.42 sec. (12645.06 ticks, tree = 6.14 MB, solutions = 1)\n",
      "* 38294 18419      integral     0        0.5974        0.5735   240354    4.00%         alpha_2 D  38294  38293    109\n",
      "  39842 19326        cutoff              0.5974        0.5735   251560    4.00%           rho_0 U  39842  39841     34\n",
      "  41430 20269        cutoff              0.5974        0.5735   262072    4.00%           rho_0 U  41430  41429     68\n",
      "  43003 21141        cutoff              0.5974        0.5735   273278    4.00%          rho_24 U  43003  43002     42\n",
      "  44502 21928        0.5735     4        0.5974        0.5735   283788    4.00%          rho_17 U  44502  44501     40\n",
      "  45820 22478        0.5890    12        0.5974        0.5735   296930    4.00%          rho_23 D  45820  45819     43\n",
      "  47239 23191        cutoff              0.5974        0.5735   307233    4.00%          rho_16 N  47239  47238     82\n",
      "  48523 23852        0.5891    19        0.5974        0.5735   318537    4.00%           rho_5 D  48523  48521     71\n",
      "  50020 24568        0.5735     6        0.5974        0.5735   332000    4.00%           rho_0 D  50020  50018     72\n",
      "  51234 25244        0.5935    13        0.5974        0.5735   344304    4.00%           rho_4 D  51234  51233     72\n",
      "Elapsed time = 33.61 sec. (21986.75 ticks, tree = 8.38 MB, solutions = 2)\n",
      "  52596 25980        0.5735    11        0.5974        0.5735   354324    4.00%           rho_0 D  52596  52594     32\n",
      "  54092 26589        0.5735    13        0.5974        0.5735   366686    4.00%          rho_17 D  54092  12108     31\n",
      "  55706 27247        cutoff              0.5974        0.5735   379524    4.00%          rho_31 U  55706  55705    112\n",
      "  57297 27991        0.5940    13        0.5974        0.5735   393418    4.00%           rho_2 U  57297  57296     70\n",
      "  58741 28732        0.5809    16        0.5974        0.5735   408590    4.00%           rho_1 D  58741  58740     23\n",
      "  60128 29475        0.5751    12        0.5974        0.5735   422589    4.00%          rho_17 D  60128  60127     77\n",
      "  61440 30195        0.5761    11        0.5974        0.5735   433075    4.00%           rho_9 D  61440  61439     58\n",
      "  62730 30853        0.5967    10        0.5974        0.5735   444289    4.00%          rho_21 D  62730  62729     45\n",
      "  64075 31388        0.5853    15        0.5974        0.5735   456954    4.00%           rho_1 U  64075  41719     31\n",
      "  65470 32321        0.5735    12        0.5974        0.5735   465289    4.00%          rho_10 D  65470  65469     22\n",
      "Elapsed time = 43.58 sec. (31533.24 ticks, tree = 10.62 MB, solutions = 2)\n",
      "  66707 32926        0.5794    15        0.5974        0.5735   475881    4.00%           rho_1 D  66707  39868     48\n",
      "  67836 33457        0.5744    16        0.5974        0.5735   487663    4.00%          rho_17 D  67836  67835     63\n",
      "  69012 34055        0.5821    13        0.5974        0.5735   499517    4.00%          rho_18 D  69012  69011     98\n",
      "  70220 34923        0.5735    10        0.5974        0.5735   510541    4.00%          rho_11 U  70220  70219     78\n",
      "* 71307 34644      integral     0        0.5966        0.5735   518440    3.88%          rho_16 U  71307  71306     24\n",
      "* 71625 34876      integral     0        0.5966        0.5735   521645    3.88%\n",
      "  72360 35385        0.5735     6        0.5966        0.5735   530105    3.88%           rho_0 D  72360  72355     43\n",
      "* 72590 35336      integral     0        0.5964        0.5735   533146    3.85%          rho_16 U  72590  72589     28\n",
      "  73550 36051        0.5953     6        0.5964        0.5735   546361    3.85%           rho_0 U  73550  73549     29\n",
      "  74520 36604        0.5794    15        0.5964        0.5735   558320    3.85%           rho_1 D  74520  74519     32\n",
      "  75530 37059        0.5761    14        0.5964        0.5735   569384    3.85%          rho_17 D  75530  75529     68\n",
      "Elapsed time = 52.97 sec. (40260.99 ticks, tree = 13.57 MB, solutions = 5)\n",
      "  76600 37536        0.5735     1        0.5964        0.5735   579956    3.85%          rho_17 U  76600  76598     62\n",
      "  77698 37998        0.5749    14        0.5964        0.5735   588984    3.85%          rho_17 D  77698  42799     54\n",
      "  78780 38586        0.5866     9        0.5964        0.5735   596915    3.85%           rho_7 D  78780  78778     23\n",
      "  79827 39132        cutoff              0.5964        0.5735   606142    3.85%           rho_0 U  79827  79825     84\n",
      "  80855 39699        0.5914    15        0.5964        0.5735   614987    3.85%           rho_4 D  80855  80854     50\n",
      "  81970 40156        0.5761    12        0.5964        0.5735   624230    3.85%           rho_9 D  81970  81969     47\n",
      "  83190 40723        cutoff              0.5964        0.5735   635073    3.85%           rho_0 U  83190  83188     56\n",
      "  84327 41127        0.5911    16        0.5964        0.5735   648237    3.85%          rho_24 D  84327  84326     77\n",
      "  85576 41585        0.5752    13        0.5964        0.5735   659068    3.85%           rho_9 U  85576  53977     49\n",
      "  86806 42241        cutoff              0.5964        0.5735   670177    3.85%           rho_0 U  86806  86805     30\n",
      "Elapsed time = 63.39 sec. (49806.38 ticks, tree = 15.30 MB, solutions = 5)\n",
      "  88018 42860        0.5926     7        0.5964        0.5735   681567    3.85%           rho_5 U  88018  88017     27\n",
      "  89232 43472        0.5841    11        0.5964        0.5735   691818    3.85%           rho_0 U  89232  89231     43\n",
      "* 89600+41160                            0.5951        0.5735             3.63%\n",
      "  90170 41452        0.5735     7        0.5951        0.5735   700915    3.63%          rho_17 U  90170  90168     48\n",
      "* 90914 41123      integral     0        0.5948        0.5735   706504    3.59%           rho_2 U  90914  90913     50\n",
      "* 90917 37213      integral     0        0.5934        0.5735   706509    3.36%           rho_4 D  90917  90916     52\n",
      "  91737 37720        0.5883    17        0.5934        0.5735   716345    3.36%          rho_23 D  91737  91736     51\n",
      "  92624 38198        0.5877    11        0.5934        0.5735   724231    3.36%           rho_0 D  92624   1454     36\n",
      "  93527 38608        cutoff              0.5934        0.5735   733176    3.36%          rho_20 U  93527  93525     28\n",
      "  94492 38986        0.5931    11        0.5934        0.5735   742333    3.36%           rho_9 D  94492  94491     43\n",
      "  95580 39424        0.5916    16        0.5934        0.5735   751762    3.36%          rho_23 D  95580  95578     49\n",
      "Elapsed time = 73.08 sec. (58092.18 ticks, tree = 14.58 MB, solutions = 8)\n",
      "  96473 39762        0.5735     8        0.5934        0.5735   762225    3.36%          rho_17 U  96473  96462     33\n",
      "  97501 40231        cutoff              0.5934        0.5735   771100    3.36%           rho_0 U  97501  97500     33\n",
      "  98458 40603        cutoff              0.5934        0.5735   780368    3.36%          rho_28 U  98458  98457     56\n",
      "  99399 41080        0.5756     9        0.5934        0.5735   790160    3.36%          rho_17 D  99399  99398     57\n",
      " 100286 41477        0.5735     7        0.5934        0.5735   800492    3.36%           rho_0 D 100286 100284     48\n",
      " 101110 41821        0.5735     6        0.5934        0.5735   811414    3.36%          rho_17 U 101110 100872     63\n",
      " 102029 42182        0.5855    13        0.5934        0.5735   820959    3.36%           rho_9 D 102029 102027     95\n",
      " 103052 42732        0.5735     1        0.5934        0.5735   830258    3.36%          rho_10 U 103052 103050     49\n",
      " 104194 43405        0.5815    18        0.5934        0.5735   838296    3.36%          rho_18 D 104194 104192     30\n",
      " 105335 43968        cutoff              0.5934        0.5735   847118    3.36%          rho_18 U 105335 105333     91\n",
      "Elapsed time = 84.02 sec. (67634.33 ticks, tree = 16.17 MB, solutions = 8)\n",
      " 106387 44455        0.5735     4        0.5934        0.5735   855909    3.36%          rho_17 U 106387 106385     55\n",
      " 107480 44976        0.5735     6        0.5934        0.5735   864478    3.36%           rho_0 D 107480 107478     28\n",
      " 108615 45473        0.5735     6        0.5934        0.5735   871325    3.36%           rho_0 D 108615 108613     50\n",
      " 109717 45917        0.5735     9        0.5934        0.5735   878512    3.36%           rho_0 D 109717 109715     50\n",
      " 110740 46289        0.5860    12        0.5934        0.5735   886911    3.36%           rho_1 U 110740 106350     38\n",
      " 111729 46638        cutoff              0.5934        0.5735   895483    3.36%           rho_5 D 111729 111727     93\n",
      " 112793 47111        0.5765    15        0.5934        0.5735   904152    3.36%           rho_1 D 112793 112792     68\n",
      " 113857 47634        0.5735     8        0.5934        0.5735   913347    3.36%           rho_0 D 113857 113855     69\n",
      " 114936 48117        0.5765    14        0.5934        0.5735   921721    3.36%           rho_9 D 114936 114935     67\n",
      " 115998 48536        0.5860    12        0.5934        0.5735   930125    3.36%           rho_1 U 115998 114440     48\n",
      "Elapsed time = 97.31 sec. (77178.43 ticks, tree = 17.77 MB, solutions = 8)\n",
      " 117093 49007        0.5735     4        0.5934        0.5735   938628    3.36%           rho_9 U 117093 117066     49\n",
      " 118157 49479        0.5765    15        0.5934        0.5735   947454    3.36%           rho_1 D 118157 118156     77\n",
      " 119180 49907        0.5839    17        0.5934        0.5735   956336    3.36%           rho_5 D 119180 119179     87\n",
      " 120227 50355        0.5835    17        0.5934        0.5735   965005    3.36%           rho_5 D 120227 120226     62\n",
      " 121304 50813        0.5897    12        0.5934        0.5735   973790    3.36%           rho_0 D 121304 121302     65\n",
      " 122395 51297        0.5860    12        0.5934        0.5735   982544    3.36%           rho_1 U 122395 122147     61\n",
      " 123464 51735        cutoff              0.5934        0.5735   991092    3.36%           rho_5 U 123464 123463     54\n",
      " 124469 52153        0.5815    18        0.5934        0.5735   999818    3.36%          rho_18 D 124469 124467     60\n",
      " 125510 52567        0.5907    12        0.5934        0.5735  1008286    3.36%           rho_0 D 125510 125509     57\n",
      " 129189 54451        0.5930    12        0.5934        0.5735  1044027    3.36%           rho_4 D 129189 129188     67\n",
      "Elapsed time = 110.89 sec. (89581.27 ticks, tree = 19.85 MB, solutions = 8)\n",
      " 132749 56158        0.5810    16        0.5934        0.5735  1079175    3.36%           rho_9 U 132749 132748     25\n",
      " 136080 57737        0.5735     6        0.5934        0.5735  1118158    3.36%           rho_0 D 136080 136078     66\n",
      " 139000 59522        0.5872     9        0.5934        0.5735  1159528    3.36%          rho_17 U 139000 138997     92\n",
      " 142207 61035        0.5736    15        0.5934        0.5735  1192806    3.36%          rho_17 D 142207 142206     64\n",
      " 145897 63125        0.5735     5        0.5934        0.5735  1223018    3.36%           rho_0 D 145897 145895     36\n",
      " 149686 64558        cutoff              0.5934        0.5735  1256401    3.36%          rho_34 U 149686 149685     57\n",
      " 153519 66023        0.5735     5        0.5934        0.5735  1288700    3.36%           rho_0 D 153519 153517     54\n",
      " 157210 67210        0.5869    10        0.5934        0.5735  1321168    3.36%          rho_21 D 157210 157209     38\n",
      " 160896 68680        0.5735    10        0.5934        0.5735  1354286    3.36%           rho_0 D 160896 160894     59\n",
      " 164437 70252        0.5924    19        0.5934        0.5735  1386501    3.36%          rho_23 D 164437 164435     62\n",
      "Elapsed time = 148.92 sec. (127734.91 ticks, tree = 28.34 MB, solutions = 8)\n",
      " 167683 71568        0.5770    14        0.5934        0.5735  1420298    3.36%           rho_5 D 167683 167682     27\n",
      " 171289 73354        cutoff              0.5934        0.5735  1459463    3.36%          rho_12 U 171289 171288     65\n",
      " 175034 74401        0.5808    13        0.5934        0.5735  1489268    3.36%          rho_21 D 175034 175032     62\n",
      " 178670 75820        0.5735     1        0.5934        0.5735  1521367    3.36%          rho_17 U 178670 178668     70\n",
      " 182278 77541        0.5737    12        0.5934        0.5735  1554103    3.36%           rho_9 U 182278 182272     39\n",
      " 185554 78834        cutoff              0.5934        0.5735  1587566    3.36%           rho_0 U 185554 185552     43\n",
      " 188909 80073        cutoff              0.5934        0.5735  1617836    3.36%          rho_24 U 188909 188907     30\n",
      " 192150 81454        0.5736    12        0.5934        0.5735  1648294    3.36%          rho_17 D 192150 192149     76\n",
      " 195360 82852        cutoff              0.5934        0.5735  1680923    3.36%          rho_24 D 195360 195358     64\n",
      " 198485 84063        0.5775    18        0.5934        0.5735  1712822    3.36%           rho_9 D 198485 198484     91\n",
      "Elapsed time = 191.25 sec. (165890.63 ticks, tree = 33.32 MB, solutions = 8)\n",
      " 201545 85230        0.5775    18        0.5934        0.5735  1745239    3.36%           rho_9 D 201545 201544     88\n",
      "\n",
      "Implied bound cuts applied:  2\n",
      "Gomory fractional cuts applied:  1\n",
      "User cuts applied:  1177\n",
      "\n",
      "Root node processing (before b&c):\n",
      "  Real time             =    0.34 sec. (3.00 ticks)\n",
      "Sequential b&c:\n",
      "  Real time             =  199.67 sec. (172952.08 ticks)\n",
      "                          ------------\n",
      "Total (root+branch&cut) =  200.02 sec. (172955.08 ticks)\n",
      "+-----------------------------------------------+-------------------+-----------+\n",
      "| Pr(Y = +1) = 1.0/(1.0 + exp(-(-13 + score))   |                   |           |\n",
      "| ============================================= | ================= | ========= |\n",
      "| p_arrest>=1                                   |         11 points |   + ..... |\n",
      "| p_arrest>=2                                   |          1 points |   + ..... |\n",
      "| p_arrest>=4                                   |          1 points |   + ..... |\n",
      "| p_arrest>=7                                   |          1 points |   + ..... |\n",
      "| p_charges>=1                                  |          1 points |   + ..... |\n",
      "| ============================================= | ================= | ========= |\n",
      "| ADD POINTS FROM ROWS 1 to 5                   |             SCORE |   = ..... |\n",
      "+-----------------------------------------------+-------------------+-----------+\n",
      "model_id, score_thresholds 0 {'rank_abs': [2151]}\n",
      "get_disparity_predefined_group()\n"
     ]
    },
    {
     "name": "stderr",
     "output_type": "stream",
     "text": [
      "C:\\Users\\binha\\Documents\\Duke\\Cynthia Research\\psa-analysis - test2\\utils\\fairness_functions.py:82: RuntimeWarning:\n",
      "\n",
      "invalid value encountered in longlong_scalars\n",
      "\n",
      "C:\\Users\\binha\\Documents\\Duke\\Cynthia Research\\psa-analysis - test2\\utils\\fairness_functions.py:95: RuntimeWarning:\n",
      "\n",
      "divide by zero encountered in longlong_scalars\n",
      "\n",
      "C:\\Users\\binha\\Documents\\Duke\\Cynthia Research\\psa-analysis - test2\\utils\\fairness_functions.py:86: RuntimeWarning:\n",
      "\n",
      "invalid value encountered in longlong_scalars\n",
      "\n",
      "C:\\Users\\binha\\Documents\\Duke\\Cynthia Research\\psa-analysis - test2\\utils\\fairness_functions.py:95: RuntimeWarning:\n",
      "\n",
      "invalid value encountered in longlong_scalars\n",
      "\n"
     ]
    }
   ],
   "source": [
    "riskslim_summary = slim.risk_cv(X=sub_X, \n",
    "                                Y=sub_Y, \n",
    "                                indicator = indicator,\n",
    "                                y_label='recid_general2', \n",
    "                                max_coef=20, \n",
    "                                max_coef_number=10, \n",
    "                                max_runtime=200, \n",
    "                                c=1e-7, \n",
    "                                seed=816)"
   ]
  },
  {
   "cell_type": "code",
   "execution_count": 20,
   "metadata": {},
   "outputs": [
    {
     "data": {
      "text/plain": [
       "(0.6737359472489658, 0.673888469464664)"
      ]
     },
     "execution_count": 20,
     "metadata": {},
     "output_type": "execute_result"
    }
   ],
   "source": [
    "np.mean(riskslim_summary['train_auc']), np.mean(riskslim_summary['test_auc'])"
   ]
  },
  {
   "cell_type": "markdown",
   "metadata": {},
   "source": [
    "### Arnold PSA"
   ]
  },
  {
   "cell_type": "code",
   "execution_count": 21,
   "metadata": {},
   "outputs": [],
   "source": [
    "### load data\n",
    "data = pd.read_csv(\"~/Documents/Duke/Cynthia Research/KY-analysis-mytrials/KY Recidivism/KY data/kentucky_data.csv\")\n",
    "X_arnold = data['nca_risk_score_raw'].values\n",
    "Y_arnold = data['recid_two_year'].values\n",
    "\n",
    "## set up cross validation\n",
    "cv = KFold(n_splits=5,shuffle=True,random_state=816)\n",
    "arnold_auc = []\n",
    "for train, test in cv.split(X_arnold, Y_arnold):\n",
    "    y_pred_arnold, y_test = X_arnold[test], Y_arnold[test]\n",
    "    arnold_auc.append(roc_auc_score(y_test, y_pred_arnold))"
   ]
  },
  {
   "cell_type": "markdown",
   "metadata": {},
   "source": [
    "### Corel"
   ]
  },
  {
   "cell_type": "code",
   "execution_count": 2,
   "metadata": {},
   "outputs": [],
   "source": [
    "## load stumps data\n",
    "data = pd.read_csv(\"~/Documents/Duke/Cynthia Research/KY-analysis-mytrials/KY Recidivism/KY data/kentucky_stumps.csv\")\n",
    "x, y = data.loc[:,:'current_violence>=1'], data['recid_two_year'].values\n",
    "y[y == -1] = 0"
   ]
  },
  {
   "cell_type": "code",
   "execution_count": 3,
   "metadata": {
    "scrolled": true
   },
   "outputs": [
    {
     "name": "stderr",
     "output_type": "stream",
     "text": [
      "C:\\Users\\binha\\Documents\\Duke\\Cynthia Research\\psa-analysis - test2\\utils\\fairness_functions.py:82: RuntimeWarning:\n",
      "\n",
      "invalid value encountered in longlong_scalars\n",
      "\n",
      "C:\\Users\\binha\\Documents\\Duke\\Cynthia Research\\psa-analysis - test2\\utils\\fairness_functions.py:95: RuntimeWarning:\n",
      "\n",
      "divide by zero encountered in longlong_scalars\n",
      "\n",
      "C:\\Users\\binha\\Documents\\Duke\\Cynthia Research\\psa-analysis - test2\\utils\\fairness_functions.py:95: RuntimeWarning:\n",
      "\n",
      "divide by zero encountered in longlong_scalars\n",
      "\n",
      "C:\\Users\\binha\\Documents\\Duke\\Cynthia Research\\psa-analysis - test2\\utils\\fairness_functions.py:95: RuntimeWarning:\n",
      "\n",
      "divide by zero encountered in longlong_scalars\n",
      "\n",
      "C:\\Users\\binha\\Documents\\Duke\\Cynthia Research\\psa-analysis - test2\\utils\\fairness_functions.py:82: RuntimeWarning:\n",
      "\n",
      "invalid value encountered in longlong_scalars\n",
      "\n",
      "C:\\Users\\binha\\Documents\\Duke\\Cynthia Research\\psa-analysis - test2\\utils\\fairness_functions.py:86: RuntimeWarning:\n",
      "\n",
      "invalid value encountered in longlong_scalars\n",
      "\n",
      "C:\\Users\\binha\\Documents\\Duke\\Cynthia Research\\psa-analysis - test2\\utils\\fairness_functions.py:95: RuntimeWarning:\n",
      "\n",
      "invalid value encountered in longlong_scalars\n",
      "\n"
     ]
    }
   ],
   "source": [
    "corel_summary = Corel.corel_cv(x, y, max_card=2, c=1e-4, seed=816)"
   ]
  },
  {
   "cell_type": "code",
   "execution_count": 4,
   "metadata": {},
   "outputs": [
    {
     "data": {
      "text/plain": [
       "(0.6237016396502403, 0.0029883424243018703)"
      ]
     },
     "execution_count": 4,
     "metadata": {},
     "output_type": "execute_result"
    }
   ],
   "source": [
    "np.mean(corel_summary['test_auc']), np.std(corel_summary['test_auc'])"
   ]
  },
  {
   "cell_type": "markdown",
   "metadata": {},
   "source": [
    "### Results"
   ]
  },
  {
   "cell_type": "code",
   "execution_count": 25,
   "metadata": {},
   "outputs": [
    {
     "name": "stdout",
     "output_type": "stream",
     "text": [
      "Stored 'summary_general2_KY_interpret' (dict)\n"
     ]
    }
   ],
   "source": [
    "#### save results\n",
    "summary_general2_KY_interpret = {\"CART\": cart_summary,\n",
    "                                 \"EBM\": ebm_summary, \n",
    "                                 'Lasso Stumps': stump_summary, \n",
    "                                 'RiskSLIM': riskslim_summary, \n",
    "                                 'Corel': corel_summary,\n",
    "                                 'Arnold PSA': arnold_auc}\n",
    "%store summary_general2_KY_interpret"
   ]
  },
  {
   "cell_type": "code",
   "execution_count": 26,
   "metadata": {},
   "outputs": [
    {
     "data": {
      "text/plain": [
       "[['CART', 0.7124557209857397, 0.010995292197268159],\n",
       " ['EBM', 0.7194362050665991, 0.004092846234606174],\n",
       " ['Lasso Stumps', 0.7119243315405125, 0.0002779238278749485],\n",
       " ['RiskSLIM', 0.673888469464664],\n",
       " ['Corel', 0.6237016396502403],\n",
       " ['Arnold PSA', 0.693]]"
      ]
     },
     "execution_count": 26,
     "metadata": {},
     "output_type": "execute_result"
    }
   ],
   "source": [
    "results = [[\"CART\", np.mean(cart_summary['holdout_test_auc']), np.mean(cart_summary['auc_diffs'])],\n",
    "           [\"EBM\", np.mean(ebm_summary['holdout_test_auc']), np.mean(ebm_summary['auc_diffs'])], \n",
    "           [\"Lasso Stumps\", np.mean(stump_summary['holdout_test_auc']), np.mean(stump_summary['auc_diffs'])],\n",
    "           ['RiskSLIM', np.mean(riskslim_summary['test_auc'])],\n",
    "           ['Corel', np.mean(corel_summary['test_auc'])],\n",
    "           ['Arnold PSA', round(np.mean(arnold_auc), 3)]]\n",
    "results"
   ]
  },
  {
   "cell_type": "code",
   "execution_count": 27,
   "metadata": {},
   "outputs": [],
   "source": [
    "auc = [np.mean(cart_summary['holdout_test_auc']), \n",
    "       np.mean(ebm_summary['holdout_test_auc']), \n",
    "       np.mean(stump_summary['holdout_test_auc']), \n",
    "       np.mean(riskslim_summary['test_auc']), \n",
    "       np.mean(corel_summary['test_auc'])]"
   ]
  },
  {
   "cell_type": "code",
   "execution_count": 30,
   "metadata": {},
   "outputs": [],
   "source": [
    "path = \"C:/Users/binha/Documents/Duke/Cynthia Research/KY-analysis-mytrials/KY Recidivism/KY Results/Models/Two Year/\"\n",
    "results = [[\"\", \"CART\", \"EBM\", \"Lasso Stumps\", \"RiskSLIM\", \"Corel\", \"Performance Range\", \"Arnold PSA\"],\n",
    "           [\"General\", np.str((round(np.mean(cart_summary['holdout_test_auc']), 3))) + \" (\" + np.str(round(np.std(cart_summary['holdout_test_auc']), 3)) + \")\", \n",
    "            np.str(round(np.mean(ebm_summary['holdout_test_auc']),3)) + \" (\" + np.str(round(np.std(ebm_summary['holdout_test_auc']), 3)) + \")\", \n",
    "            np.str(round(np.mean(stump_summary['holdout_test_auc']),3)) + \" (\" + np.str(round(np.std(stump_summary['holdout_test_auc']), 3)) + \")\",             \n",
    "            np.str(round(np.mean(riskslim_summary['test_auc']),3)) + \" (\" + np.str(round(np.std(riskslim_summary['test_auc']), 3)) + \")\", \n",
    "            np.str(round(np.mean(corel_summary['test_auc']),3)) + \" (\" + np.str(round(np.std(corel_summary['test_auc']), 3)) + \")\", \n",
    "            round(np.max(auc) - np.min(auc), 3),\n",
    "            np.str(round(np.mean(arnold_auc), 3)) + \" (\" + np.str(round(np.std(arnold_auc),3)) + \")\"]]\n",
    "with open(path + 'Interpretable Models Summary.csv', 'w') as writeFile:\n",
    "    writer = csv.writer(writeFile)\n",
    "    writer.writerows(results)"
   ]
  },
  {
   "cell_type": "code",
   "execution_count": 29,
   "metadata": {},
   "outputs": [],
   "source": [
    "cart_confusion = cart_summary['confusion_matrix_stats']\n",
    "ebm_confusion = ebm_summary['confusion_matrix_stats']\n",
    "riskslim_confusion = riskslim_summary['confusion_matrix_stats']\n",
    "stumps_confusion = stump_summary['confusion_matrix_stats']\n",
    "corel_confusion = corel_summary['confusion_matrix_stats']\n",
    "#arnold_confusion = cart_summary['confusion_matrix_stats']\n",
    "\n",
    "## save results\n",
    "cart_confusion.to_csv(r'C:/Users/binha/Documents/Duke/Cynthia Research/KY-analysis-mytrials/KY Recidivism/KY Fairness/Two Year/general/cart_confusion.csv', index=None,header=True)\n",
    "ebm_confusion.to_csv(r'C:/Users/binha/Documents/Duke/Cynthia Research/KY-analysis-mytrials/KY Recidivism/KY Fairness/Two Year/general/ebm_confusion.csv', index=None,header=True)\n",
    "riskslim_confusion.to_csv(r'C:/Users/binha/Documents/Duke/Cynthia Research/KY-analysis-mytrials/KY Recidivism/KY Fairness/Two Year/general/riskslim_confusion.csv', index=None,header=True)\n",
    "stumps_confusion.to_csv(r'C:/Users/binha/Documents/Duke/Cynthia Research/KY-analysis-mytrials/KY Recidivism/KY Fairness/Two Year/general/stumps_confusion.csv', index=None,header=True)\n",
    "corel_confusion.to_csv(r'C:/Users/binha/Documents/Duke/Cynthia Research/KY-analysis-mytrials/KY Recidivism/KY Fairness/Two Year/general/corel_confusion.csv', index=None,header=True)\n",
    "#arnold_confusion.to_csv(r'C:/Users/binha/Documents/Duke/Cynthia Research/KY-analysis-mytrials/broward/broward models/model fairness/Two Year/general/arnold_confusion.csv', index=None,header=True)"
   ]
  },
  {
   "cell_type": "code",
   "execution_count": 6,
   "metadata": {},
   "outputs": [],
   "source": [
    "corel_confusion = corel_summary['confusion_matrix_stats']\n",
    "corel_confusion.to_csv(r'C:/Users/binha/Documents/Duke/Cynthia Research/KY-analysis-mytrials/KY Recidivism/KY Fairness/Two Year/general/corel_confusion.csv', index=None,header=True)"
   ]
  }
 ],
 "metadata": {
  "kernelspec": {
   "display_name": "Python 3",
   "language": "python",
   "name": "python3"
  },
  "language_info": {
   "codemirror_mode": {
    "name": "ipython",
    "version": 3
   },
   "file_extension": ".py",
   "mimetype": "text/x-python",
   "name": "python",
   "nbconvert_exporter": "python",
   "pygments_lexer": "ipython3",
   "version": "3.7.4"
  }
 },
 "nbformat": 4,
 "nbformat_minor": 4
}
