{
 "cells": [
  {
   "cell_type": "code",
   "execution_count": 1,
   "metadata": {},
   "outputs": [
    {
     "name": "stdout",
     "output_type": "stream",
     "text": [
      "Current working directory is now:  C:\\Users\\binha\\Documents\\Duke\\Cynthia Research\\psa-analysis - test2\n"
     ]
    },
    {
     "name": "stderr",
     "output_type": "stream",
     "text": [
      "C:\\Users\\binha\\Anaconda3\\lib\\site-packages\\sklearn\\externals\\six.py:31: DeprecationWarning:\n",
      "\n",
      "The module is deprecated in version 0.21 and will be removed in version 0.23 since we've dropped support for Python 2.7. Please rely on the official version of six (https://pypi.org/project/six/).\n",
      "\n"
     ]
    }
   ],
   "source": [
    "import os \n",
    "os.chdir('../../../')\n",
    "print(\"Current working directory is now: \", os.getcwd())\n",
    "\n",
    "import pandas as pd \n",
    "import numpy as np\n",
    "import csv\n",
    "import utils.interpretable_functions as interpret\n",
    "import utils.RiskSLIM as slim\n",
    "import utils.stumps as stumps\n",
    "import utils.Corel as Corel\n",
    "\n",
    "from sklearn.linear_model import LogisticRegression\n",
    "from sklearn.model_selection import KFold, GridSearchCV\n",
    "from sklearn.metrics import roc_auc_score\n",
    "\n",
    "# restore saved variables\n",
    "%store -r summary_drug2_KY_interpret"
   ]
  },
  {
   "cell_type": "markdown",
   "metadata": {},
   "source": [
    "### CART & EBM"
   ]
  },
  {
   "cell_type": "code",
   "execution_count": 2,
   "metadata": {},
   "outputs": [],
   "source": [
    "### load data\n",
    "data = pd.read_csv(\"~/Documents/Duke/Cynthia Research/KY-analysis-mytrials/KY Recidivism/KY data/kentucky_data.csv\")\n",
    "data = data.drop(['fta_risk_score_raw','nca_risk_score_raw','pvf_risk_score_raw', \n",
    "                  'fta_calc', 'nca_calc', 'pvf_calc'], axis=1)\n",
    "x = data.loc[:,:'current_violence']\n",
    "y = data['recid_drug_two_year'].values"
   ]
  },
  {
   "cell_type": "code",
   "execution_count": 3,
   "metadata": {
    "scrolled": true
   },
   "outputs": [
    {
     "name": "stdout",
     "output_type": "stream",
     "text": [
      "model_id, score_thresholds 0 {'rank_abs': [28]}\n",
      "get_disparity_predefined_group()\n"
     ]
    },
    {
     "name": "stderr",
     "output_type": "stream",
     "text": [
      "C:\\Users\\binha\\Documents\\Duke\\Cynthia Research\\psa-analysis - test2\\utils\\fairness_functions.py:82: RuntimeWarning:\n",
      "\n",
      "invalid value encountered in longlong_scalars\n",
      "\n",
      "C:\\Users\\binha\\Documents\\Duke\\Cynthia Research\\psa-analysis - test2\\utils\\fairness_functions.py:95: RuntimeWarning:\n",
      "\n",
      "divide by zero encountered in longlong_scalars\n",
      "\n"
     ]
    },
    {
     "name": "stdout",
     "output_type": "stream",
     "text": [
      "model_id, score_thresholds 0 {'rank_abs': [27]}\n",
      "get_disparity_predefined_group()\n"
     ]
    },
    {
     "name": "stderr",
     "output_type": "stream",
     "text": [
      "C:\\Users\\binha\\Documents\\Duke\\Cynthia Research\\psa-analysis - test2\\utils\\fairness_functions.py:82: RuntimeWarning:\n",
      "\n",
      "invalid value encountered in longlong_scalars\n",
      "\n",
      "C:\\Users\\binha\\Documents\\Duke\\Cynthia Research\\psa-analysis - test2\\utils\\fairness_functions.py:95: RuntimeWarning:\n",
      "\n",
      "divide by zero encountered in longlong_scalars\n",
      "\n"
     ]
    },
    {
     "name": "stdout",
     "output_type": "stream",
     "text": [
      "model_id, score_thresholds 0 {'rank_abs': [22]}\n",
      "get_disparity_predefined_group()\n"
     ]
    },
    {
     "name": "stderr",
     "output_type": "stream",
     "text": [
      "C:\\Users\\binha\\Documents\\Duke\\Cynthia Research\\psa-analysis - test2\\utils\\fairness_functions.py:82: RuntimeWarning:\n",
      "\n",
      "invalid value encountered in longlong_scalars\n",
      "\n",
      "C:\\Users\\binha\\Documents\\Duke\\Cynthia Research\\psa-analysis - test2\\utils\\fairness_functions.py:95: RuntimeWarning:\n",
      "\n",
      "divide by zero encountered in longlong_scalars\n",
      "\n",
      "C:\\Users\\binha\\Documents\\Duke\\Cynthia Research\\psa-analysis - test2\\utils\\fairness_functions.py:86: RuntimeWarning:\n",
      "\n",
      "invalid value encountered in longlong_scalars\n",
      "\n",
      "C:\\Users\\binha\\Documents\\Duke\\Cynthia Research\\psa-analysis - test2\\utils\\fairness_functions.py:95: RuntimeWarning:\n",
      "\n",
      "invalid value encountered in longlong_scalars\n",
      "\n"
     ]
    },
    {
     "name": "stdout",
     "output_type": "stream",
     "text": [
      "model_id, score_thresholds 0 {'rank_abs': [36]}\n",
      "get_disparity_predefined_group()\n"
     ]
    },
    {
     "name": "stderr",
     "output_type": "stream",
     "text": [
      "C:\\Users\\binha\\Documents\\Duke\\Cynthia Research\\psa-analysis - test2\\utils\\fairness_functions.py:82: RuntimeWarning:\n",
      "\n",
      "invalid value encountered in longlong_scalars\n",
      "\n",
      "C:\\Users\\binha\\Documents\\Duke\\Cynthia Research\\psa-analysis - test2\\utils\\fairness_functions.py:86: RuntimeWarning:\n",
      "\n",
      "invalid value encountered in longlong_scalars\n",
      "\n",
      "C:\\Users\\binha\\Documents\\Duke\\Cynthia Research\\psa-analysis - test2\\utils\\fairness_functions.py:95: RuntimeWarning:\n",
      "\n",
      "invalid value encountered in longlong_scalars\n",
      "\n",
      "C:\\Users\\binha\\Documents\\Duke\\Cynthia Research\\psa-analysis - test2\\utils\\fairness_functions.py:95: RuntimeWarning:\n",
      "\n",
      "divide by zero encountered in longlong_scalars\n",
      "\n"
     ]
    },
    {
     "name": "stdout",
     "output_type": "stream",
     "text": [
      "model_id, score_thresholds 0 {'rank_abs': [29]}\n",
      "get_disparity_predefined_group()\n"
     ]
    },
    {
     "name": "stderr",
     "output_type": "stream",
     "text": [
      "C:\\Users\\binha\\Documents\\Duke\\Cynthia Research\\psa-analysis - test2\\utils\\fairness_functions.py:82: RuntimeWarning:\n",
      "\n",
      "invalid value encountered in longlong_scalars\n",
      "\n",
      "C:\\Users\\binha\\Documents\\Duke\\Cynthia Research\\psa-analysis - test2\\utils\\fairness_functions.py:95: RuntimeWarning:\n",
      "\n",
      "divide by zero encountered in longlong_scalars\n",
      "\n",
      "C:\\Users\\binha\\Documents\\Duke\\Cynthia Research\\psa-analysis - test2\\utils\\fairness_functions.py:86: RuntimeWarning:\n",
      "\n",
      "invalid value encountered in longlong_scalars\n",
      "\n",
      "C:\\Users\\binha\\Documents\\Duke\\Cynthia Research\\psa-analysis - test2\\utils\\fairness_functions.py:95: RuntimeWarning:\n",
      "\n",
      "invalid value encountered in longlong_scalars\n",
      "\n",
      "WARNING:interpret.utils.all:Passing a numpy array to schema autogen when it should be dataframe.\n",
      "WARNING:interpret.utils.all:Passing a numpy array to schema autogen when it should be dataframe.\n",
      "WARNING:interpret.utils.all:Passing a numpy array to schema autogen when it should be dataframe.\n",
      "WARNING:interpret.utils.all:Passing a numpy array to schema autogen when it should be dataframe.\n",
      "WARNING:interpret.utils.all:Passing a numpy array to schema autogen when it should be dataframe.\n",
      "WARNING:interpret.utils.all:Passing a numpy array to schema autogen when it should be dataframe.\n",
      "WARNING:interpret.utils.all:Passing a numpy array to schema autogen when it should be dataframe.\n",
      "WARNING:interpret.utils.all:Passing a numpy array to schema autogen when it should be dataframe.\n",
      "WARNING:interpret.utils.all:Passing a numpy array to schema autogen when it should be dataframe.\n",
      "WARNING:interpret.utils.all:Passing a numpy array to schema autogen when it should be dataframe.\n",
      "WARNING:interpret.utils.all:Passing a numpy array to schema autogen when it should be dataframe.\n",
      "WARNING:interpret.utils.all:Passing a numpy array to schema autogen when it should be dataframe.\n"
     ]
    },
    {
     "name": "stdout",
     "output_type": "stream",
     "text": [
      "model_id, score_thresholds 0 {'rank_abs': [11]}\n",
      "get_disparity_predefined_group()\n"
     ]
    },
    {
     "name": "stderr",
     "output_type": "stream",
     "text": [
      "C:\\Users\\binha\\Documents\\Duke\\Cynthia Research\\psa-analysis - test2\\utils\\fairness_functions.py:82: RuntimeWarning:\n",
      "\n",
      "invalid value encountered in longlong_scalars\n",
      "\n",
      "C:\\Users\\binha\\Documents\\Duke\\Cynthia Research\\psa-analysis - test2\\utils\\fairness_functions.py:95: RuntimeWarning:\n",
      "\n",
      "divide by zero encountered in longlong_scalars\n",
      "\n",
      "WARNING:interpret.utils.all:Passing a numpy array to schema autogen when it should be dataframe.\n",
      "WARNING:interpret.utils.all:Passing a numpy array to schema autogen when it should be dataframe.\n",
      "WARNING:interpret.utils.all:Passing a numpy array to schema autogen when it should be dataframe.\n",
      "WARNING:interpret.utils.all:Passing a numpy array to schema autogen when it should be dataframe.\n",
      "WARNING:interpret.utils.all:Passing a numpy array to schema autogen when it should be dataframe.\n",
      "WARNING:interpret.utils.all:Passing a numpy array to schema autogen when it should be dataframe.\n",
      "WARNING:interpret.utils.all:Passing a numpy array to schema autogen when it should be dataframe.\n",
      "WARNING:interpret.utils.all:Passing a numpy array to schema autogen when it should be dataframe.\n",
      "WARNING:interpret.utils.all:Passing a numpy array to schema autogen when it should be dataframe.\n",
      "WARNING:interpret.utils.all:Passing a numpy array to schema autogen when it should be dataframe.\n",
      "WARNING:interpret.utils.all:Passing a numpy array to schema autogen when it should be dataframe.\n",
      "WARNING:interpret.utils.all:Passing a numpy array to schema autogen when it should be dataframe.\n"
     ]
    },
    {
     "name": "stdout",
     "output_type": "stream",
     "text": [
      "model_id, score_thresholds 0 {'rank_abs': [13]}\n",
      "get_disparity_predefined_group()\n"
     ]
    },
    {
     "name": "stderr",
     "output_type": "stream",
     "text": [
      "C:\\Users\\binha\\Documents\\Duke\\Cynthia Research\\psa-analysis - test2\\utils\\fairness_functions.py:95: RuntimeWarning:\n",
      "\n",
      "divide by zero encountered in longlong_scalars\n",
      "\n",
      "C:\\Users\\binha\\Documents\\Duke\\Cynthia Research\\psa-analysis - test2\\utils\\fairness_functions.py:82: RuntimeWarning:\n",
      "\n",
      "invalid value encountered in longlong_scalars\n",
      "\n",
      "WARNING:interpret.utils.all:Passing a numpy array to schema autogen when it should be dataframe.\n",
      "WARNING:interpret.utils.all:Passing a numpy array to schema autogen when it should be dataframe.\n",
      "WARNING:interpret.utils.all:Passing a numpy array to schema autogen when it should be dataframe.\n",
      "WARNING:interpret.utils.all:Passing a numpy array to schema autogen when it should be dataframe.\n",
      "WARNING:interpret.utils.all:Passing a numpy array to schema autogen when it should be dataframe.\n",
      "WARNING:interpret.utils.all:Passing a numpy array to schema autogen when it should be dataframe.\n",
      "WARNING:interpret.utils.all:Passing a numpy array to schema autogen when it should be dataframe.\n",
      "WARNING:interpret.utils.all:Passing a numpy array to schema autogen when it should be dataframe.\n",
      "WARNING:interpret.utils.all:Passing a numpy array to schema autogen when it should be dataframe.\n",
      "WARNING:interpret.utils.all:Passing a numpy array to schema autogen when it should be dataframe.\n",
      "WARNING:interpret.utils.all:Passing a numpy array to schema autogen when it should be dataframe.\n",
      "WARNING:interpret.utils.all:Passing a numpy array to schema autogen when it should be dataframe.\n"
     ]
    },
    {
     "name": "stdout",
     "output_type": "stream",
     "text": [
      "model_id, score_thresholds 0 {'rank_abs': [11]}\n",
      "get_disparity_predefined_group()\n"
     ]
    },
    {
     "name": "stderr",
     "output_type": "stream",
     "text": [
      "C:\\Users\\binha\\Documents\\Duke\\Cynthia Research\\psa-analysis - test2\\utils\\fairness_functions.py:82: RuntimeWarning:\n",
      "\n",
      "invalid value encountered in longlong_scalars\n",
      "\n",
      "C:\\Users\\binha\\Documents\\Duke\\Cynthia Research\\psa-analysis - test2\\utils\\fairness_functions.py:95: RuntimeWarning:\n",
      "\n",
      "divide by zero encountered in longlong_scalars\n",
      "\n",
      "C:\\Users\\binha\\Documents\\Duke\\Cynthia Research\\psa-analysis - test2\\utils\\fairness_functions.py:86: RuntimeWarning:\n",
      "\n",
      "invalid value encountered in longlong_scalars\n",
      "\n",
      "C:\\Users\\binha\\Documents\\Duke\\Cynthia Research\\psa-analysis - test2\\utils\\fairness_functions.py:95: RuntimeWarning:\n",
      "\n",
      "invalid value encountered in longlong_scalars\n",
      "\n",
      "WARNING:interpret.utils.all:Passing a numpy array to schema autogen when it should be dataframe.\n",
      "WARNING:interpret.utils.all:Passing a numpy array to schema autogen when it should be dataframe.\n",
      "WARNING:interpret.utils.all:Passing a numpy array to schema autogen when it should be dataframe.\n",
      "WARNING:interpret.utils.all:Passing a numpy array to schema autogen when it should be dataframe.\n",
      "WARNING:interpret.utils.all:Passing a numpy array to schema autogen when it should be dataframe.\n",
      "WARNING:interpret.utils.all:Passing a numpy array to schema autogen when it should be dataframe.\n",
      "WARNING:interpret.utils.all:Passing a numpy array to schema autogen when it should be dataframe.\n",
      "WARNING:interpret.utils.all:Passing a numpy array to schema autogen when it should be dataframe.\n",
      "WARNING:interpret.utils.all:Passing a numpy array to schema autogen when it should be dataframe.\n",
      "WARNING:interpret.utils.all:Passing a numpy array to schema autogen when it should be dataframe.\n",
      "WARNING:interpret.utils.all:Passing a numpy array to schema autogen when it should be dataframe.\n",
      "WARNING:interpret.utils.all:Passing a numpy array to schema autogen when it should be dataframe.\n"
     ]
    },
    {
     "name": "stdout",
     "output_type": "stream",
     "text": [
      "model_id, score_thresholds 0 {'rank_abs': [11]}\n",
      "get_disparity_predefined_group()\n"
     ]
    },
    {
     "name": "stderr",
     "output_type": "stream",
     "text": [
      "C:\\Users\\binha\\Documents\\Duke\\Cynthia Research\\psa-analysis - test2\\utils\\fairness_functions.py:82: RuntimeWarning:\n",
      "\n",
      "invalid value encountered in longlong_scalars\n",
      "\n",
      "C:\\Users\\binha\\Documents\\Duke\\Cynthia Research\\psa-analysis - test2\\utils\\fairness_functions.py:86: RuntimeWarning:\n",
      "\n",
      "invalid value encountered in longlong_scalars\n",
      "\n",
      "C:\\Users\\binha\\Documents\\Duke\\Cynthia Research\\psa-analysis - test2\\utils\\fairness_functions.py:95: RuntimeWarning:\n",
      "\n",
      "invalid value encountered in longlong_scalars\n",
      "\n",
      "C:\\Users\\binha\\Documents\\Duke\\Cynthia Research\\psa-analysis - test2\\utils\\fairness_functions.py:95: RuntimeWarning:\n",
      "\n",
      "divide by zero encountered in longlong_scalars\n",
      "\n",
      "WARNING:interpret.utils.all:Passing a numpy array to schema autogen when it should be dataframe.\n",
      "WARNING:interpret.utils.all:Passing a numpy array to schema autogen when it should be dataframe.\n",
      "WARNING:interpret.utils.all:Passing a numpy array to schema autogen when it should be dataframe.\n",
      "WARNING:interpret.utils.all:Passing a numpy array to schema autogen when it should be dataframe.\n",
      "WARNING:interpret.utils.all:Passing a numpy array to schema autogen when it should be dataframe.\n",
      "WARNING:interpret.utils.all:Passing a numpy array to schema autogen when it should be dataframe.\n",
      "WARNING:interpret.utils.all:Passing a numpy array to schema autogen when it should be dataframe.\n",
      "WARNING:interpret.utils.all:Passing a numpy array to schema autogen when it should be dataframe.\n",
      "WARNING:interpret.utils.all:Passing a numpy array to schema autogen when it should be dataframe.\n",
      "WARNING:interpret.utils.all:Passing a numpy array to schema autogen when it should be dataframe.\n",
      "WARNING:interpret.utils.all:Passing a numpy array to schema autogen when it should be dataframe.\n",
      "WARNING:interpret.utils.all:Passing a numpy array to schema autogen when it should be dataframe.\n"
     ]
    },
    {
     "name": "stdout",
     "output_type": "stream",
     "text": [
      "model_id, score_thresholds 0 {'rank_abs': [16]}\n",
      "get_disparity_predefined_group()\n"
     ]
    },
    {
     "name": "stderr",
     "output_type": "stream",
     "text": [
      "C:\\Users\\binha\\Documents\\Duke\\Cynthia Research\\psa-analysis - test2\\utils\\fairness_functions.py:95: RuntimeWarning:\n",
      "\n",
      "divide by zero encountered in longlong_scalars\n",
      "\n",
      "C:\\Users\\binha\\Documents\\Duke\\Cynthia Research\\psa-analysis - test2\\utils\\fairness_functions.py:82: RuntimeWarning:\n",
      "\n",
      "invalid value encountered in longlong_scalars\n",
      "\n",
      "C:\\Users\\binha\\Documents\\Duke\\Cynthia Research\\psa-analysis - test2\\utils\\fairness_functions.py:86: RuntimeWarning:\n",
      "\n",
      "invalid value encountered in longlong_scalars\n",
      "\n",
      "C:\\Users\\binha\\Documents\\Duke\\Cynthia Research\\psa-analysis - test2\\utils\\fairness_functions.py:95: RuntimeWarning:\n",
      "\n",
      "invalid value encountered in longlong_scalars\n",
      "\n"
     ]
    }
   ],
   "source": [
    "#### CART\n",
    "depth = [7,8,9]\n",
    "cart_summary = interpret.CART(X=x,\n",
    "                         Y=y,\n",
    "                         depth=depth,\n",
    "                         seed=816)\n",
    "\n",
    "#### EBM\n",
    "estimators = [40]\n",
    "depth = [2]\n",
    "learning_rate = [0.5]\n",
    "ebm_summary = interpret.EBM(X=x,\n",
    "                       Y=y,\n",
    "                       learning_rate=learning_rate,\n",
    "                       depth=depth,\n",
    "                       estimators=estimators,\n",
    "                       seed =816)"
   ]
  },
  {
   "cell_type": "code",
   "execution_count": 6,
   "metadata": {},
   "outputs": [
    {
     "data": {
      "text/plain": [
       "(0.6744735025112601, 0.02335245894486131)"
      ]
     },
     "execution_count": 6,
     "metadata": {},
     "output_type": "execute_result"
    }
   ],
   "source": [
    "np.mean(cart_summary['holdout_test_auc']), np.mean(cart_summary['auc_diffs'])"
   ]
  },
  {
   "cell_type": "code",
   "execution_count": 7,
   "metadata": {},
   "outputs": [
    {
     "data": {
      "text/plain": [
       "(0.6846651351140988, 0.008607470048040588)"
      ]
     },
     "execution_count": 7,
     "metadata": {},
     "output_type": "execute_result"
    }
   ],
   "source": [
    "np.mean(ebm_summary['holdout_test_auc']), np.mean(ebm_summary['auc_diffs'])"
   ]
  },
  {
   "cell_type": "markdown",
   "metadata": {},
   "source": [
    "### Lasso Stumps"
   ]
  },
  {
   "cell_type": "code",
   "execution_count": 8,
   "metadata": {},
   "outputs": [],
   "source": [
    "## load whole data\n",
    "data = pd.read_csv(\"~/Documents/Duke/Cynthia Research/KY-analysis-mytrials/KY Recidivism/KY data/kentucky_stumps.csv\")\n",
    "X_stumps, Y_stumps = data.loc[:,:'current_violence>=1'], data['recid_drug_two_year'].values\n",
    "Y_stumps[Y_stumps == -1] = 0\n",
    "cols = X_stumps.columns[3:]\n",
    "\n",
    "## load train & test data\n",
    "train_stumps = pd.read_csv(\"~/Documents/Duke/Cynthia Research/KY-analysis-mytrials/KY Recidivism/KY data/kentucky_train_stumps.csv\")\n",
    "test_stumps = pd.read_csv(\"~/Documents/Duke/Cynthia Research/KY-analysis-mytrials/KY Recidivism/KY data/kentucky_test_stumps.csv\")\n",
    "X_train_stumps, Y_train_stumps = train_stumps.loc[:,:'current_violence>=1'], train_stumps['recid_drug_two_year'].values\n",
    "X_test_stumps, Y_test_stumps = test_stumps.loc[:,:'current_violence>=1'], test_stumps['recid_drug_two_year'].values\n",
    "Y_train_stumps[Y_train_stumps == -1] = 0\n",
    "Y_test_stumps[Y_test_stumps == -1] = 0"
   ]
  },
  {
   "cell_type": "code",
   "execution_count": 14,
   "metadata": {
    "scrolled": true
   },
   "outputs": [
    {
     "name": "stdout",
     "output_type": "stream",
     "text": [
      "model_id, score_thresholds 0 {'rank_abs': [10096]}\n",
      "get_disparity_predefined_group()\n"
     ]
    },
    {
     "name": "stderr",
     "output_type": "stream",
     "text": [
      "C:\\Users\\binha\\Documents\\Duke\\Cynthia Research\\psa-analysis - test2\\utils\\fairness_functions.py:86: RuntimeWarning:\n",
      "\n",
      "invalid value encountered in longlong_scalars\n",
      "\n"
     ]
    },
    {
     "name": "stdout",
     "output_type": "stream",
     "text": [
      "model_id, score_thresholds 0 {'rank_abs': [10257]}\n",
      "get_disparity_predefined_group()\n"
     ]
    },
    {
     "name": "stderr",
     "output_type": "stream",
     "text": [
      "C:\\Users\\binha\\Documents\\Duke\\Cynthia Research\\psa-analysis - test2\\utils\\fairness_functions.py:86: RuntimeWarning:\n",
      "\n",
      "invalid value encountered in longlong_scalars\n",
      "\n"
     ]
    },
    {
     "name": "stdout",
     "output_type": "stream",
     "text": [
      "model_id, score_thresholds 0 {'rank_abs': [10660]}\n",
      "get_disparity_predefined_group()\n",
      "model_id, score_thresholds 0 {'rank_abs': [10259]}\n",
      "get_disparity_predefined_group()\n",
      "model_id, score_thresholds 0 {'rank_abs': [10261]}\n",
      "get_disparity_predefined_group()\n"
     ]
    },
    {
     "name": "stderr",
     "output_type": "stream",
     "text": [
      "C:\\Users\\binha\\Documents\\Duke\\Cynthia Research\\psa-analysis - test2\\utils\\fairness_functions.py:86: RuntimeWarning:\n",
      "\n",
      "invalid value encountered in longlong_scalars\n",
      "\n"
     ]
    }
   ],
   "source": [
    "stump_summary = stumps.stump_cv(X = X_stumps, \n",
    "                                Y = Y_stumps, \n",
    "                                columns=cols, \n",
    "                                c_grid={'C': [0.001, 0.002, 0.003]}, \n",
    "                                seed = 816)"
   ]
  },
  {
   "cell_type": "code",
   "execution_count": 15,
   "metadata": {},
   "outputs": [
    {
     "data": {
      "text/plain": [
       "([{'C': 0.003}, {'C': 0.003}, {'C': 0.003}, {'C': 0.003}, {'C': 0.003}],\n",
       " 0.6773238025192108,\n",
       " 0.0008633544053707753)"
      ]
     },
     "execution_count": 15,
     "metadata": {},
     "output_type": "execute_result"
    }
   ],
   "source": [
    "stump_summary['best_params'], np.mean(stump_summary['holdout_test_auc']), np.mean(stump_summary['auc_diffs'])"
   ]
  },
  {
   "cell_type": "markdown",
   "metadata": {},
   "source": [
    "##### Best Stump Model"
   ]
  },
  {
   "cell_type": "code",
   "execution_count": 16,
   "metadata": {},
   "outputs": [
    {
     "data": {
      "text/plain": [
       "17"
      ]
     },
     "execution_count": 16,
     "metadata": {},
     "output_type": "execute_result"
    }
   ],
   "source": [
    "best_stump_model = stumps.stump_model(X_train_stumps, \n",
    "                                      Y_train_stumps, \n",
    "                                      X_test_stumps, \n",
    "                                      Y_test_stumps, \n",
    "                                      c=0.003, \n",
    "                                      columns=cols, \n",
    "                                      seed=816)\n",
    "len(best_stump_model['features'])"
   ]
  },
  {
   "cell_type": "markdown",
   "metadata": {},
   "source": [
    "##### Prediction Table"
   ]
  },
  {
   "cell_type": "code",
   "execution_count": 17,
   "metadata": {
    "scrolled": true
   },
   "outputs": [
    {
     "name": "stdout",
     "output_type": "stream",
     "text": [
      "\begin{tabular}{|l|r|r|} \\hline\n",
      "1. age_at_current_charge<=38 & 1.0 & +... \\ \\hline\n",
      "2. p_arrest>=1 & 28.5 & -... \\ \\hline\n",
      "3. p_arrest>=2 & 22.5 & +... \\ \\hline\n",
      "4. p_arrest>=3 & 19.4 & +... \\ \\hline\n",
      "5. p_arrest>=4 & 4.2 & +... \\ \\hline\n",
      "6. p_arrest>=5 & 1.5 & +... \\ \\hline\n",
      "7. p_charges>=1 & 25.6 & -... \\ \\hline\n",
      "8. p_misdemeanor>=1 & 7.3 & +... \\ \\hline\n",
      "9. p_drug>=1 & 69.2 & +... \\ \\hline\n",
      "10. p_drug>=2 & 1.3 & +... \\ \\hline\n",
      "11. p_stealing>=1 & 12.9 & -... \\ \\hline\n",
      "12. ADE>=1 & 15.1 & -... \\ \\hline\n",
      "13. p_prison>=1 & 10.3 & -... \\ \\hline\n",
      "14. p_jail30>=1 & 11.8 & +... \\ \\hline\n",
      "15. p_pending_charge>=1 & 55.4 & +... \\ \\hline\n",
      "16. p_probation>=1 & 14.1 & +... \\ \\hline\n",
      "17. one_year>=1 & 4.1 & +... \\ \\hline\n",
      "18. Intercept & -0.177 & +... \\ \\hline\n",
      "\textbf{ADD POINTS FROM ROWS 1 TO 18}  &  \textbf{SCORE} & = ..... \\ \\hline\n",
      "\\multicolumn{3}{l}{Pr(Y = 1) = exp(score/100) / (1 + exp(score/100))} \\ \\hline\n"
     ]
    }
   ],
   "source": [
    "stumps.latex_stump_table(best_stump_model['coefs'], \n",
    "                         best_stump_model['features'], \n",
    "                         best_stump_model['intercept'], \n",
    "                         best_stump_model['dictionary'])"
   ]
  },
  {
   "cell_type": "markdown",
   "metadata": {},
   "source": [
    "##### Stumps Visualizations"
   ]
  },
  {
   "cell_type": "code",
   "execution_count": 18,
   "metadata": {
    "scrolled": true
   },
   "outputs": [
    {
     "data": {
      "image/png": "[encoded data removed]",
      "text/plain": [
       "<Figure size 288x216 with 1 Axes>"
      ]
     },
     "metadata": {
      "needs_background": "light"
     },
     "output_type": "display_data"
    },
    {
     "data": {
      "image/png": "[encoded data removed]",
      "text/plain": [
       "<Figure size 288x216 with 1 Axes>"
      ]
     },
     "metadata": {
      "needs_background": "light"
     },
     "output_type": "display_data"
    },
    {
     "data": {
      "image/png": "[encoded data removed]",
      "text/plain": [
       "<Figure size 288x216 with 1 Axes>"
      ]
     },
     "metadata": {
      "needs_background": "light"
     },
     "output_type": "display_data"
    },
    {
     "data": {
      "image/png": "[encoded data removed]",
      "text/plain": [
       "<Figure size 288x216 with 1 Axes>"
      ]
     },
     "metadata": {
      "needs_background": "light"
     },
     "output_type": "display_data"
    },
    {
     "data": {
      "image/png": "[encoded data removed]",
      "text/plain": [
       "<Figure size 288x216 with 1 Axes>"
      ]
     },
     "metadata": {
      "needs_background": "light"
     },
     "output_type": "display_data"
    },
    {
     "data": {
      "image/png": "[encoded data removed]",
      "text/plain": [
       "<Figure size 288x216 with 1 Axes>"
      ]
     },
     "metadata": {
      "needs_background": "light"
     },
     "output_type": "display_data"
    },
    {
     "data": {
      "image/png": "[encoded data removed]",
      "text/plain": [
       "<Figure size 288x216 with 1 Axes>"
      ]
     },
     "metadata": {
      "needs_background": "light"
     },
     "output_type": "display_data"
    },
    {
     "data": {
      "image/png": "[encoded data removed]",
      "text/plain": [
       "<Figure size 288x216 with 1 Axes>"
      ]
     },
     "metadata": {
      "needs_background": "light"
     },
     "output_type": "display_data"
    },
    {
     "data": {
      "image/png": "[encoded data removed]",
      "text/plain": [
       "<Figure size 288x216 with 1 Axes>"
      ]
     },
     "metadata": {
      "needs_background": "light"
     },
     "output_type": "display_data"
    },
    {
     "data": {
      "image/png": "[encoded data removed]",
      "text/plain": [
       "<Figure size 288x216 with 1 Axes>"
      ]
     },
     "metadata": {
      "needs_background": "light"
     },
     "output_type": "display_data"
    },
    {
     "data": {
      "image/png": "[encoded data removed]",
      "text/plain": [
       "<Figure size 288x216 with 1 Axes>"
      ]
     },
     "metadata": {
      "needs_background": "light"
     },
     "output_type": "display_data"
    },
    {
     "data": {
      "image/png": "[encoded data removed]",
      "text/plain": [
       "<Figure size 288x216 with 1 Axes>"
      ]
     },
     "metadata": {
      "needs_background": "light"
     },
     "output_type": "display_data"
    }
   ],
   "source": [
    "stumps.stump_plots(best_stump_model['features'], best_stump_model['coefs'], indicator=\"KY\")"
   ]
  },
  {
   "cell_type": "markdown",
   "metadata": {},
   "source": [
    "## RiskSLIM"
   ]
  },
  {
   "cell_type": "code",
   "execution_count": 19,
   "metadata": {},
   "outputs": [],
   "source": [
    "## load stumps data\n",
    "data = pd.read_csv(\"~/Documents/Duke/Cynthia Research/KY-analysis-mytrials/KY Recidivism/KY data/kentucky_stumps.csv\")\n",
    "x, y = data.loc[:,:'current_violence>=1'], data['recid_drug_two_year'].values\n",
    "cols = x.columns[3:]"
   ]
  },
  {
   "cell_type": "code",
   "execution_count": 20,
   "metadata": {},
   "outputs": [
    {
     "data": {
      "text/plain": [
       "24"
      ]
     },
     "execution_count": 20,
     "metadata": {},
     "output_type": "execute_result"
    }
   ],
   "source": [
    "## train on best param chosen by Lasso Stumps from above\n",
    "x_train = x.copy().drop(['race', 'person_id', 'screening_date'], axis=1)\n",
    "lasso = LogisticRegression(class_weight='balanced', solver='liblinear', penalty='l1', C=0.005, random_state=816).fit(x_train,y)\n",
    "selected_features = cols[lasso.coef_[0] != 0].tolist()\n",
    "len(selected_features)"
   ]
  },
  {
   "cell_type": "code",
   "execution_count": 21,
   "metadata": {},
   "outputs": [],
   "source": [
    "### Subset features\n",
    "if 'sex>=1' in selected_features:\n",
    "    selected_features = ['recid_drug_two_year', 'person_id', 'screening_date', 'race'] + selected_features\n",
    "    indicator = 1\n",
    "else:\n",
    "    selected_features = ['recid_drug_two_year', 'person_id', 'screening_date', 'race', 'sex>=1'] + selected_features\n",
    "    indicator = 0\n",
    "\n",
    "sub_data = data[selected_features]\n",
    "sub_X, sub_Y = sub_data.iloc[:,1:], sub_data.iloc[:,0].values\n",
    "sub_X.insert(0, '(Intercept)', 1)"
   ]
  },
  {
   "cell_type": "code",
   "execution_count": 22,
   "metadata": {
    "scrolled": true
   },
   "outputs": [
    {
     "name": "stdout",
     "output_type": "stream",
     "text": [
      "setting c0 = 0.0 to ensure that intercept is not penalized\n",
      "10/01/19 @ 01:50 PM | 1061 rows in lookup table\n",
      "10/01/19 @ 01:50 PM | ------------------------------------------------------------\n",
      "10/01/19 @ 01:50 PM | runnning initialization procedure\n",
      "10/01/19 @ 01:50 PM | ------------------------------------------------------------\n",
      "10/01/19 @ 01:50 PM | CPA produced 2 cuts\n",
      "10/01/19 @ 01:50 PM | running naive rounding on 58 solutions\n",
      "10/01/19 @ 01:50 PM | best objective value: 0.3226\n",
      "10/01/19 @ 01:50 PM | rounding produced 4 integer solutions\n",
      "10/01/19 @ 01:50 PM | best objective value is 0.3269\n",
      "10/01/19 @ 01:50 PM | running sequential rounding on 58 solutions\n",
      "10/01/19 @ 01:50 PM | best objective value: 0.3226\n",
      "10/01/19 @ 01:51 PM | sequential rounding produced 2 integer solutions\n",
      "10/01/19 @ 01:51 PM | best objective value: 0.3269\n",
      "10/01/19 @ 01:51 PM | polishing 6 solutions\n",
      "10/01/19 @ 01:51 PM | best objective value: 0.3269\n",
      "10/01/19 @ 01:51 PM | polishing produced 4 integer solutions\n",
      "10/01/19 @ 01:51 PM | initialization produced 6 feasible solutions\n",
      "10/01/19 @ 01:51 PM | best objective value: 0.3269\n",
      "10/01/19 @ 01:51 PM | ------------------------------------------------------------\n",
      "10/01/19 @ 01:51 PM | completed initialization procedure\n",
      "10/01/19 @ 01:51 PM | ------------------------------------------------------------\n",
      "10/01/19 @ 01:51 PM | 1061 rows in lookup table\n",
      "CPXPARAM_Read_DataCheck                          1\n",
      "CPXPARAM_Threads                                 1\n",
      "CPXPARAM_Parallel                                1\n",
      "CPXPARAM_RandomSeed                              0\n",
      "CPXPARAM_TimeLimit                               200\n",
      "CPXPARAM_MIP_Tolerances_LowerCutoff              0.32118567903323803\n",
      "CPXPARAM_MIP_Tolerances_UpperCutoff              0.3268984423435225\n"
     ]
    },
    {
     "name": "stderr",
     "output_type": "stream",
     "text": [
      "Warning: Control callbacks may disable some MIP features.\n"
     ]
    },
    {
     "name": "stdout",
     "output_type": "stream",
     "text": [
      "Lazy constraint(s) or lazy constraint callback is present.\n",
      "    Disabling dual reductions (CPX_PARAM_REDUCE) in presolve.\n",
      "    Disabling non-linear reductions (CPX_PARAM_PRELINEAR) in presolve.\n",
      "         Disabling repeat represolve because of lazy constraint/incumbent callback.\n",
      "10/01/19 @ 01:51 PM | adding 201 initial cuts\n",
      "1 of 1 MIP starts provided solutions.\n",
      "MIP start 'mip_start_0' defined initial solution with objective 0.3269.\n",
      "Tried aggregator 1 time.\n",
      "Reduced MIP has 26 rows, 52 columns, and 99 nonzeros.\n",
      "Reduced MIP has 24 binaries, 26 generals, 0 SOSs, and 0 indicators.\n",
      "Presolve time = 0.00 sec. (0.05 ticks)\n",
      "Probing time = 0.00 sec. (0.01 ticks)\n",
      "MIP emphasis: balance optimality and feasibility.\n",
      "MIP search method: traditional branch-and-cut.\n",
      "Parallel mode: none, using 1 thread.\n",
      "Root relaxation solution time = 0.00 sec. (0.03 ticks)\n",
      "\n",
      "        Nodes                                         Cuts/\n",
      "   Node  Left     Objective  IInf  Best Integer    Best Bound    ItCnt     Gap         Variable B NodeID Parent  Depth\n",
      "\n",
      "*     0+    0                            0.3269        0.3212             1.75%\n",
      "      0     0        0.3212     1        0.3269        0.3212        1    1.75%\n",
      "      0     2        0.3212     2        0.3269        0.3212        1    1.75%                        0             0\n",
      "Elapsed time = 0.09 sec. (1.10 ticks, tree = 0.01 MB, solutions = 1)\n",
      "   2310   666        0.3216    10        0.3269        0.3212    10714    1.75%           rho_0 D   2310   2309     62\n",
      "   4110  1128        0.3267     8        0.3269        0.3212    19869    1.75%           rho_3 D   4110   4109     66\n",
      "   5891  1611        0.3217    11        0.3269        0.3212    29943    1.75%           rho_0 D   5891   5889     36\n",
      "   7442  1857        0.3212     2        0.3269        0.3212    40590    1.75%           rho_2 U   7442   7434     32\n",
      "   9330  2369        0.3237     2        0.3269        0.3212    49111    1.75%           rho_4 D   9330   9328     52\n",
      "  11210  2823        0.3265     7        0.3269        0.3212    57619    1.75%           rho_9 D  11210  11208     98\n",
      "  12808  3063        0.3260     6        0.3269        0.3212    67454    1.75%          rho_19 U  12808  12498     31\n",
      "  14280  3226        0.3212     5        0.3269        0.3212    76991    1.75%           rho_3 D  14280   4550     77\n",
      "  15630  3375        0.3212     8        0.3269        0.3212    86863    1.75%           rho_2 D  15630  15620     72\n",
      "* 17276  3613      integral     0        0.3269        0.3212    97359    1.75%\n",
      "  22227  5018        0.3212     8        0.3269        0.3212   122155    1.75%           rho_2 D  22227  22203     56\n",
      "Elapsed time = 5.14 sec. (3102.63 ticks, tree = 1.39 MB, solutions = 2)\n",
      "  28996  6955        0.3216     5        0.3269        0.3212   153006    1.75%          rho_15 D  28996  28995     28\n",
      "  36015  9148        0.3212    11        0.3269        0.3212   188648    1.75%           rho_6 U  36015    939      8\n",
      "  42360 10853        0.3251     7        0.3269        0.3212   223136    1.75%          rho_19 D  42360  42359     30\n",
      "  48325 12287        0.3254     9        0.3269        0.3212   257503    1.75%          rho_20 D  48325  48324     45\n",
      "  53869 13612        0.3267     4        0.3269        0.3212   294777    1.75%           rho_0 U  53869  53868     33\n",
      "  60514 14401        0.3268     7        0.3269        0.3212   326321    1.75%          rho_19 D  60514  60513     31\n",
      "  65627 15349        0.3214     7        0.3269        0.3212   363229    1.75%           rho_1 D  65627  62015     46\n",
      "  70655 15998        0.3251     5        0.3269        0.3212   396977    1.75%           rho_8 N  70655  70654     79\n",
      "  76341 17230        0.3212     7        0.3269        0.3212   429580    1.75%           rho_0 D  76341  76339     56\n",
      "  82892 19635        0.3212     6        0.3269        0.3212   463010    1.75%          rho_10 U  82892  82890     55\n",
      "Elapsed time = 14.89 sec. (12640.44 ticks, tree = 5.66 MB, solutions = 2)\n",
      "  88539 20701        cutoff              0.3269        0.3212   494390    1.75%           rho_0 U  88539  88538     46\n",
      "  94353 22690        0.3212     5        0.3269        0.3212   530963    1.75%           rho_2 N  94353  94352     47\n",
      "  99790 23957        0.3212     5        0.3269        0.3212   566503    1.75%           rho_0 D  99790  99788     65\n",
      " 105048 24981        0.3264     6        0.3269        0.3212   601310    1.75%          rho_19 D 105048 105047     37\n",
      " 110272 25676        0.3234    12        0.3269        0.3212   635308    1.75%           rho_3 N 110272 105705     32\n",
      " 115755 27124        0.3214    12        0.3269        0.3212   671912    1.75%           rho_1 U 115755 115754     40\n",
      " 121839 28064        cutoff              0.3269        0.3212   703598    1.75%          rho_19 D 121839 121838     49\n",
      " 127856 28767        cutoff              0.3269        0.3212   732766    1.75%           rho_0 U 127856 127855     66\n",
      " 132885 29439        0.3222    10        0.3269        0.3212   766666    1.75%          rho_19 D 132885 132884     56\n",
      " 137900 30005        0.3222    10        0.3269        0.3212   799889    1.75%          rho_19 D 137900 137899     62\n",
      "Elapsed time = 25.42 sec. (22178.50 ticks, tree = 7.95 MB, solutions = 2)\n",
      " 143086 30542        0.3249     1        0.3269        0.3212   832207    1.75%           rho_1 N 143086   1877     46\n",
      " 148763 32235        cutoff              0.3269        0.3212   864839    1.75%           rho_0 D 148763 148762     31\n",
      " 155172 33487        0.3212     5        0.3269        0.3212   892387    1.75%           rho_0 D 155172 155171     53\n",
      " 161950 35861        0.3212     6        0.3269        0.3212   924084    1.75%          rho_10 U 161950 161948     23\n",
      " 167334 36719        cutoff              0.3269        0.3212   953899    1.75%           rho_3 D 167334 167333     36\n",
      " 172945 38242        0.3214     9        0.3269        0.3212   984975    1.75%          rho_10 D 172945 172944     45\n",
      " 179459 40409        cutoff              0.3269        0.3212  1012725    1.75%           rho_3 U 179459 179458     49\n",
      " 185369 42141        cutoff              0.3269        0.3212  1040710    1.75%           rho_0 U 185369 185368     52\n",
      " 190418 43154        0.3269     4        0.3269        0.3212  1070858    1.75%          rho_19 N 190418 190406     52\n",
      " 196249 44679        0.3212     7        0.3269        0.3212  1100877    1.75%           rho_7 D 196249 196248     67\n",
      "Elapsed time = 34.59 sec. (31716.03 ticks, tree = 12.49 MB, solutions = 2)\n",
      " 202013 46464        0.3224     6        0.3269        0.3212  1127782    1.75%           rho_7 N 202013 194566     51\n",
      " 206910 47315        0.3225     4        0.3269        0.3212  1158976    1.75%           rho_2 D 206910 206909     40\n",
      " 213192 48736        0.3212     5        0.3269        0.3212  1189054    1.75%           rho_0 D 213192 213190     37\n",
      " 218800 50392        0.3229     7        0.3269        0.3212  1221798    1.75%           rho_0 D 218800 218798     86\n",
      " 224163 51889        0.3212    13        0.3269        0.3212  1256571    1.75%          rho_11 D 224163 217930     54\n",
      " 229525 53548        cutoff              0.3269        0.3212  1290842    1.75%           rho_0 U 229525 229523     82\n",
      " 234742 55030        0.3213     9        0.3269        0.3212  1321950    1.75%           rho_7 N 234742 234741     65\n",
      " 239729 56183        cutoff              0.3269        0.3212  1357278    1.75%          rho_11 U 239729 239728     75\n",
      " 244558 56170        cutoff              0.3269        0.3212  1393789    1.75%           rho_2 D 244558 244557     17\n",
      " 250892 57526        cutoff              0.3269        0.3212  1426537    1.75%           rho_0 U 250892 250891     40\n",
      "Elapsed time = 46.30 sec. (41254.51 ticks, tree = 15.24 MB, solutions = 2)\n",
      " 256538 59043        0.3265    10        0.3269        0.3212  1454393    1.75%           rho_0 D 256538 256537     26\n",
      " 262462 60423        0.3243     7        0.3269        0.3212  1486536    1.75%           rho_3 D 262462 262461     56\n",
      " 267135 61311        0.3248     7        0.3269        0.3212  1526442    1.75%           rho_1 N 267135 263024     58\n",
      " 272377 62400        0.3220    13        0.3269        0.3212  1558700    1.75%          rho_14 D 272377  36015      9\n",
      " 277626 63953        cutoff              0.3269        0.3212  1595813    1.75%           rho_3 U 277626 277307     86\n",
      " 282569 65861        0.3212     5        0.3269        0.3212  1634893    1.75%           rho_0 D 282569 282567     30\n",
      " 288366 68081        0.3257     6        0.3269        0.3212  1670750    1.75%          rho_22 D 288366 288365     90\n",
      " 292960 69305        0.3212     6        0.3269        0.3212  1707363    1.75%           rho_0 U 292960 292616     46\n",
      " 297428 69637        cutoff              0.3269        0.3212  1743817    1.75%           rho_2 U 297428 278879     46\n",
      " 301451 70074        0.3212     6        0.3269        0.3212  1783710    1.75%           rho_2 U 301451 301408     71\n",
      "Elapsed time = 56.80 sec. (50792.80 ticks, tree = 20.78 MB, solutions = 2)\n",
      " 306308 71160        cutoff              0.3269        0.3212  1817235    1.75%          rho_11 U 306308 306307     78\n",
      " 311032 71747        0.3216    16        0.3269        0.3212  1848207    1.75%           rho_3 D 311032 277916     73\n",
      " 315020 71752        cutoff              0.3269        0.3212  1882444    1.75%          rho_11 D 315020 315019     86\n",
      " 318662 72549        0.3258    12        0.3269        0.3212  1918352    1.75%           rho_0 D 318662 318661     48\n",
      " 323255 74024        0.3213    12        0.3269        0.3212  1949614    1.75%           rho_4 D 323255 323253     54\n",
      " 328420 75265        0.3212    12        0.3269        0.3212  1978441    1.75%           rho_0 D 328420 328410     65\n",
      " 333840 76972        0.3264    10        0.3269        0.3212  2011872    1.75%          rho_23 U 333840 333839     53\n",
      " 338547 78010        0.3232    11        0.3269        0.3212  2046727    1.75%           rho_6 D 338547 338546     36\n",
      " 344664 79646        0.3267     3        0.3269        0.3212  2072828    1.74%          rho_18 D 344664 344662     42\n",
      " 351564 82073        0.3246     9        0.3269        0.3212  2098441    1.74%          rho_11 D 351564 351562     79\n",
      "Elapsed time = 67.11 sec. (60330.72 ticks, tree = 23.37 MB, solutions = 2)\n",
      " 358711 84887        0.3215     8        0.3269        0.3213  2118754    1.72%           rho_3 D 358711 358710     64\n",
      " 364949 86031        0.3267     8        0.3269        0.3213  2144316    1.70%           rho_1 N 364949 364947     28\n",
      " 371961 88386        cutoff              0.3269        0.3214  2164894    1.69%           rho_7 U 371961 371960     65\n",
      " 377403 88581        cutoff              0.3269        0.3214  2191848    1.68%           rho_0 U 377403 377401     91\n",
      " 383398 89163        0.3247     9        0.3269        0.3215  2216753    1.66%          rho_22 D 383398 383397     53\n",
      " 389831 90662        cutoff              0.3269        0.3215  2240695    1.65%           rho_0 U 389831 389830     73\n",
      " 397175 92543        cutoff              0.3269        0.3216  2265202    1.64%           rho_0 U 397175 397174     52\n",
      " 403551 94071        0.3264     6        0.3269        0.3216  2289134    1.63%          rho_23 U 403551 403550     64\n",
      " 409807 95845        cutoff              0.3269        0.3216  2312800    1.61%           rho_0 U 409807 409805     50\n",
      " 415703 95941        0.3256    10        0.3269        0.3217  2337640    1.59%           rho_1 D 415703 415701     52\n",
      "Elapsed time = 76.36 sec. (69868.03 ticks, tree = 26.37 MB, solutions = 2)\n",
      " 421647 95583        cutoff              0.3269        0.3217  2360233    1.58%          rho_19 D 421647 421646     52\n",
      " 428139 97161        0.3218     8        0.3269        0.3218  2381643    1.57%          rho_10 U 428139 428137     74\n",
      " 434025 98169        cutoff              0.3269        0.3218  2406774    1.56%          rho_10 D 434025 434024     59\n",
      " 440615 99204        0.3222     6        0.3269        0.3218  2434177    1.55%          rho_23 D 440615 146959     25\n",
      " 447910 99800        0.3262     8        0.3269        0.3219  2458473    1.54%          rho_15 D 447910 447909     52\n",
      " 455114 100483        0.3253     7        0.3269        0.3219  2482422    1.53%           rho_8 D 455114 455113     76\n",
      " 461192 101998        cutoff              0.3269        0.3219  2505649    1.53%           rho_4 U 461192 461190     25\n",
      " 466184 101116        0.3244     5        0.3269        0.3219  2533658    1.52%           rho_7 N 466184 282087     35\n",
      " 472235 102882        0.3251     1        0.3269        0.3220  2556560    1.51%           rho_4 U 472235  33279     43\n",
      " 477657 103579        0.3220    13        0.3269        0.3220  2581508    1.51%           rho_0 D 477657 477655     45\n",
      "Elapsed time = 86.67 sec. (79405.67 ticks, tree = 28.02 MB, solutions = 2)\n",
      " 484670 105423        0.3260     7        0.3269        0.3220  2602501    1.50%           rho_3 D 484670 484669     54\n",
      " 490400 105770        0.3267     6        0.3269        0.3220  2625899    1.50%           rho_4 D 490400 490398     52\n",
      " 496326 106139        cutoff              0.3269        0.3220  2647634    1.49%           rho_0 U 496326 496325     56\n",
      " 501881 107640        0.3221     9        0.3269        0.3221  2673143    1.48%           rho_0 D 501881 501879     41\n",
      " 508398 108151        cutoff              0.3269        0.3221  2700403    1.47%          rho_20 D 508398 508396     95\n",
      " 515447 109598        0.3226     7        0.3269        0.3221  2723680    1.47%          rho_11 D 515447 515445     74\n",
      " 522504 111476        cutoff              0.3269        0.3221  2748997    1.47%          rho_12 U 522504 522502     25\n",
      " 529104 111996        0.3225    10        0.3269        0.3221  2770645    1.45%           rho_4 D 529104 529103     76\n",
      " 535286 111511        0.3256     5        0.3269        0.3222  2795585    1.44%          rho_23 D 535286 535285     74\n",
      " 562375 116071        0.3225     7        0.3269        0.3223  2891977    1.40%          rho_15 D 562375 562373     43\n",
      "Elapsed time = 99.63 sec. (91804.74 ticks, tree = 30.77 MB, solutions = 2)\n",
      " 585835 118453        0.3224     4        0.3269        0.3224  3001234    1.38%           rho_0 D 585835 585833     33\n",
      " 612714 121237        cutoff              0.3269        0.3225  3098476    1.34%           rho_0 D 612714 612713     39\n",
      " 637411 122323        0.3233     9        0.3269        0.3227  3206478    1.28%           rho_2 D 637411 611646     70\n",
      " 662393 122166        0.3263    14        0.3269        0.3228  3313213    1.26%           rho_3 N 662393 662392     68\n",
      " 686855 119392        0.3229     4        0.3269        0.3229  3412402    1.22%           rho_0 D 686855 686853     72\n",
      " 712207 122554        0.3232     7        0.3269        0.3230  3511634    1.20%           rho_2 D 712207 407274     38\n",
      " 740257 129039        0.3236    11        0.3269        0.3230  3600705    1.18%           rho_1 N 740257 699222     47\n",
      " 764288 132424        cutoff              0.3269        0.3232  3691061    1.13%          rho_19 U 764288 764287     33\n",
      " 788568 129934        cutoff              0.3269        0.3233  3785577    1.11%           rho_3 U 788568 788567     60\n",
      " 811488 130200        0.3261    13        0.3269        0.3233  3877923    1.09%           rho_3 D 811488 811486     40\n",
      "Elapsed time = 134.73 sec. (129952.66 ticks, tree = 36.79 MB, solutions = 2)\n",
      " 835693 130673        0.3254     8        0.3269        0.3235  3972058    1.05%          rho_15 N 835693 835692     53\n",
      " 860003 135488        cutoff              0.3269        0.3235  4057927    1.03%           rho_0 D 860003 860002     42\n",
      " 884984 136054        0.3236    10        0.3269        0.3236  4157384    1.00%          rho_10 U 884984 884982     25\n",
      " 911450 138637        0.3237    11        0.3269        0.3237  4242367    0.97%           rho_8 D 911450 155129     50\n",
      " 936842 139146        0.3255    13        0.3269        0.3238  4333459    0.94%          rho_11 D 936842 568802     77\n",
      " 961810 138083        0.3254     5        0.3269        0.3239  4415894    0.90%           rho_3 D 961810 961808     67\n",
      " 981193 136328        0.3259     9        0.3269        0.3240  4525200    0.88%          rho_15 U 981193 981191     50\n",
      " 1000215 137634        0.3265     7        0.3269        0.3241  4630808    0.86%          rho_19 U 1000215 712496     69\n",
      " 1022957 131994        0.3247     9        0.3269        0.3242  4726206    0.83%           rho_3 N 1022957 903431     26\n",
      " 1044446 128713        0.3268     3        0.3269        0.3243  4823171    0.81%           rho_4 U 1044446 1044445     63\n",
      "Elapsed time = 198.72 sec. (168101.10 ticks, tree = 36.55 MB, solutions = 2)\n",
      "\n",
      "User cuts applied:  194\n",
      "\n",
      "Root node processing (before b&c):\n",
      "  Real time             =    0.08 sec. (1.12 ticks)\n",
      "Sequential b&c:\n",
      "  Real time             =  199.94 sec. (169036.24 ticks)\n",
      "                          ------------\n",
      "Total (root+branch&cut) =  200.02 sec. (169037.36 ticks)\n",
      "+-----------------------------------------------+-------------------+-----------+\n",
      "| Pr(Y = +1) = 1.0/(1.0 + exp(-(-23 + score))   |                   |           |\n",
      "| ============================================= | ================= | ========= |\n",
      "| p_charges>=1                                  |         20 points |   + ..... |\n",
      "| p_drug>=1                                     |          1 points |   + ..... |\n",
      "| p_pending_charge>=1                           |          1 points |   + ..... |\n",
      "| ============================================= | ================= | ========= |\n",
      "| ADD POINTS FROM ROWS 1 to 3                   |             SCORE |   = ..... |\n",
      "+-----------------------------------------------+-------------------+-----------+\n",
      "model_id, score_thresholds 0 {'rank_abs': [0]}\n",
      "get_disparity_predefined_group()\n"
     ]
    },
    {
     "name": "stderr",
     "output_type": "stream",
     "text": [
      "C:\\Users\\binha\\Documents\\Duke\\Cynthia Research\\psa-analysis - test2\\utils\\fairness_functions.py:82: RuntimeWarning:\n",
      "\n",
      "invalid value encountered in longlong_scalars\n",
      "\n",
      "C:\\Users\\binha\\Documents\\Duke\\Cynthia Research\\psa-analysis - test2\\utils\\fairness_functions.py:95: RuntimeWarning:\n",
      "\n",
      "divide by zero encountered in longlong_scalars\n",
      "\n",
      "C:\\Users\\binha\\Documents\\Duke\\Cynthia Research\\psa-analysis - test2\\utils\\fairness_functions.py:86: RuntimeWarning:\n",
      "\n",
      "invalid value encountered in longlong_scalars\n",
      "\n",
      "C:\\Users\\binha\\Documents\\Duke\\Cynthia Research\\psa-analysis - test2\\utils\\fairness_functions.py:95: RuntimeWarning:\n",
      "\n",
      "invalid value encountered in longlong_scalars\n",
      "\n"
     ]
    },
    {
     "name": "stdout",
     "output_type": "stream",
     "text": [
      "setting c0 = 0.0 to ensure that intercept is not penalized\n",
      "10/01/19 @ 01:54 PM | 1061 rows in lookup table\n",
      "10/01/19 @ 01:54 PM | ------------------------------------------------------------\n",
      "10/01/19 @ 01:54 PM | runnning initialization procedure\n",
      "10/01/19 @ 01:54 PM | ------------------------------------------------------------\n",
      "10/01/19 @ 01:54 PM | CPA produced 2 cuts\n",
      "10/01/19 @ 01:54 PM | running naive rounding on 69 solutions\n",
      "10/01/19 @ 01:54 PM | best objective value: 0.3222\n",
      "10/01/19 @ 01:54 PM | rounding produced 4 integer solutions\n",
      "10/01/19 @ 01:54 PM | best objective value is 0.3271\n",
      "10/01/19 @ 01:54 PM | running sequential rounding on 69 solutions\n",
      "10/01/19 @ 01:54 PM | best objective value: 0.3222\n",
      "10/01/19 @ 01:54 PM | sequential rounding produced 3 integer solutions\n",
      "10/01/19 @ 01:54 PM | best objective value: 0.3270\n",
      "10/01/19 @ 01:54 PM | polishing 7 solutions\n",
      "10/01/19 @ 01:54 PM | best objective value: 0.3270\n",
      "10/01/19 @ 01:54 PM | polishing produced 4 integer solutions\n",
      "10/01/19 @ 01:54 PM | initialization produced 6 feasible solutions\n",
      "10/01/19 @ 01:54 PM | best objective value: 0.3270\n",
      "10/01/19 @ 01:54 PM | ------------------------------------------------------------\n",
      "10/01/19 @ 01:54 PM | completed initialization procedure\n",
      "10/01/19 @ 01:54 PM | ------------------------------------------------------------\n",
      "10/01/19 @ 01:54 PM | 1061 rows in lookup table\n",
      "CPXPARAM_Read_DataCheck                          1\n",
      "CPXPARAM_Threads                                 1\n",
      "CPXPARAM_Parallel                                1\n",
      "CPXPARAM_RandomSeed                              0\n",
      "CPXPARAM_TimeLimit                               200\n",
      "CPXPARAM_MIP_Tolerances_LowerCutoff              0.32128457841278457\n",
      "CPXPARAM_MIP_Tolerances_UpperCutoff              0.32695813861635464\n"
     ]
    },
    {
     "name": "stderr",
     "output_type": "stream",
     "text": [
      "Warning: Control callbacks may disable some MIP features.\n"
     ]
    },
    {
     "name": "stdout",
     "output_type": "stream",
     "text": [
      "Lazy constraint(s) or lazy constraint callback is present.\n",
      "    Disabling dual reductions (CPX_PARAM_REDUCE) in presolve.\n",
      "    Disabling non-linear reductions (CPX_PARAM_PRELINEAR) in presolve.\n",
      "         Disabling repeat represolve because of lazy constraint/incumbent callback.\n",
      "10/01/19 @ 01:54 PM | adding 206 initial cuts\n",
      "1 of 1 MIP starts provided solutions.\n",
      "MIP start 'mip_start_0' defined initial solution with objective 0.3270.\n",
      "Tried aggregator 1 time.\n",
      "Reduced MIP has 26 rows, 52 columns, and 99 nonzeros.\n",
      "Reduced MIP has 24 binaries, 26 generals, 0 SOSs, and 0 indicators.\n",
      "Presolve time = 0.02 sec. (0.05 ticks)\n",
      "Probing time = 0.00 sec. (0.01 ticks)\n",
      "MIP emphasis: balance optimality and feasibility.\n",
      "MIP search method: traditional branch-and-cut.\n",
      "Parallel mode: none, using 1 thread.\n",
      "Root relaxation solution time = 0.00 sec. (0.03 ticks)\n",
      "\n",
      "        Nodes                                         Cuts/\n",
      "   Node  Left     Objective  IInf  Best Integer    Best Bound    ItCnt     Gap         Variable B NodeID Parent  Depth\n",
      "\n",
      "*     0+    0                            0.3270        0.3213             1.74%\n",
      "      0     0        0.3213     1        0.3270        0.3213        1    1.74%\n",
      "      0     2        0.3213     2        0.3270        0.3213        1    1.74%                        0             0\n",
      "Elapsed time = 0.16 sec. (1.11 ticks, tree = 0.01 MB, solutions = 1)\n",
      "   2648   978        0.3213     1        0.3270        0.3213    10552    1.74%          rho_10 U   2648   2646     64\n",
      "   4875  1740        0.3213     1        0.3270        0.3213    19979    1.74%          rho_10 U   4875   4873     70\n",
      "   7028  2370        cutoff              0.3270        0.3213    29634    1.74%          rho_11 U   7028   7027     61\n",
      "   9330  3468        0.3245     6        0.3270        0.3213    38404    1.74%          rho_24 D   9330   9328     17\n",
      "  11417  4183        cutoff              0.3270        0.3213    47490    1.74%           rho_1 U  11417  11415     48\n",
      "  13253  4508        0.3213     7        0.3270        0.3213    54735    1.74%           rho_4 D  13253  10619     65\n",
      "  14922  4770        cutoff              0.3270        0.3213    60963    1.74%           rho_2 U  14922  14920     42\n",
      "  16844  5482        0.3246    10        0.3270        0.3213    68161    1.74%           rho_4 D  16844  16843     69\n",
      "* 18029  5747      integral     0        0.3270        0.3213    72796    1.73%\n",
      "  18998  6183        0.3227     4        0.3270        0.3213    76311    1.73%          rho_15 D  18998  18997     33\n",
      "  25665  8251        0.3213     1        0.3270        0.3213   115371    1.73%          rho_10 U  25665  25663     42\n",
      "Elapsed time = 6.66 sec. (3101.10 ticks, tree = 2.40 MB, solutions = 2)\n",
      "  32203  9107        0.3267     9        0.3270        0.3213   147392    1.73%           rho_3 D  32203  32201     74\n",
      "  38859  9993        cutoff              0.3270        0.3213   180961    1.73%           rho_4 D  38859  38858     27\n",
      "  44443 10237        0.3254     2        0.3270        0.3213   212961    1.73%           rho_3 N  44443  31243     57\n",
      "  51180 12173        0.3231    14        0.3270        0.3213   248327    1.73%          rho_10 D  51180  51179     28\n",
      "  57400 14268        0.3258     7        0.3270        0.3213   282120    1.73%          rho_15 D  57400  57399     22\n",
      "  63300 14615        0.3213     4        0.3270        0.3213   315484    1.73%           rho_0 D  63300  63299     71\n",
      "  70412 16706        0.3215     9        0.3270        0.3213   347662    1.73%           rho_4 D  70412  70411     66\n",
      "  77605 18634        0.3213     4        0.3270        0.3213   377861    1.73%          rho_10 U  77605  77603     32\n",
      "  84193 20735        0.3213     6        0.3270        0.3213   414549    1.73%           rho_0 D  84193  84182     55\n",
      "  90642 22714        0.3213     9        0.3270        0.3213   446303    1.73%           rho_3 D  90642  90641     31\n",
      "Elapsed time = 19.44 sec. (12639.36 ticks, tree = 6.23 MB, solutions = 2)\n",
      "  95600 24118        0.3213    10        0.3270        0.3213   483249    1.73%           rho_1 D  95600  95599     32\n",
      " 101027 26046        0.3244     6        0.3270        0.3213   518996    1.73%          rho_20 D 101027 101026     41\n",
      " 106980 28653        0.3235    12        0.3270        0.3213   554396    1.73%           rho_0 D 106980 106978     50\n",
      " 112285 30815        cutoff              0.3270        0.3213   592398    1.73%           rho_1 U 112285 112283     35\n",
      " 116497 32958        0.3249    15        0.3270        0.3213   635624    1.73%          rho_22 D 116497 116495     61\n",
      " 121104 34361        0.3218    11        0.3270        0.3213   674729    1.73%           rho_2 D 121104 121103     65\n",
      " 125830 35581        0.3266     7        0.3270        0.3213   712453    1.73%          rho_19 D 125830 125829     48\n",
      " 131020 36820        0.3213     4        0.3270        0.3213   748476    1.73%           rho_4 D 131020 131019     62\n",
      " 136000 38150        0.3252    13        0.3270        0.3213   785574    1.73%           rho_2 D 136000 135998     45\n",
      " 140860 39586        0.3243     7        0.3270        0.3213   821779    1.73%           rho_0 D 140860 140856     72\n",
      "Elapsed time = 32.42 sec. (22178.33 ticks, tree = 11.17 MB, solutions = 2)\n",
      " 145945 40837        0.3213    10        0.3270        0.3213   858256    1.73%          rho_10 D 145945 145944     30\n",
      " 151170 43288        0.3213     7        0.3270        0.3213   896849    1.73%           rho_0 D 151170 151168     65\n",
      " 156503 46099        cutoff              0.3270        0.3213   932063    1.73%          rho_10 D 156503 156502     61\n",
      " 161450 47443        0.3213    10        0.3270        0.3213   966301    1.73%           rho_0 D 161450 161448     37\n",
      " 165350 48712        0.3213    10        0.3270        0.3213  1007403    1.73%           rho_3 D 165350 165349     36\n",
      " 169908 50273        0.3266     7        0.3270        0.3213  1047344    1.73%           rho_8 D 169908 169906     58\n",
      " 175660 52161        0.3213     6        0.3270        0.3213  1079278    1.73%          rho_10 U 175660 175658     62\n",
      " 181165 54112        cutoff              0.3270        0.3213  1113452    1.73%           rho_0 U 181165 181164     64\n",
      " 186108 55514        0.3213     4        0.3270        0.3213  1148134    1.73%           rho_0 D 186108 186106     63\n",
      " 190674 56845        0.3213     6        0.3270        0.3213  1185825    1.73%           rho_0 D 190674 190672     60\n",
      "Elapsed time = 44.69 sec. (31716.94 ticks, tree = 14.87 MB, solutions = 2)\n",
      " 196111 58515        0.3241     9        0.3270        0.3213  1220879    1.73%          rho_11 D 196111 196085     57\n",
      " 200340 59580        0.3256     9        0.3270        0.3213  1259576    1.73%           rho_0 D 200340 200338     56\n",
      " 204689 60712        0.3213     7        0.3270        0.3213  1297971    1.73%           rho_4 N 204689  96711     36\n",
      " 209175 61720        0.3213     7        0.3270        0.3213  1335360    1.73%           rho_2 U 209175 209151     43\n",
      " 213960 63000        0.3232    11        0.3270        0.3213  1370005    1.73%           rho_0 D 213960 213952     51\n",
      " 218513 64376        0.3242    14        0.3270        0.3213  1404532    1.73%          rho_11 D 218513 218511     80\n",
      " 223530 66000        0.3266     3        0.3270        0.3213  1437421    1.73%          rho_24 D 223530 223529     64\n",
      " 227871 67342        0.3243     9        0.3270        0.3213  1474005    1.73%           rho_0 U 227871 227870     44\n",
      " 232383 68310        0.3254    15        0.3270        0.3213  1510134    1.73%           rho_0 D 232383 232381     76\n",
      " 236973 69758        0.3254    11        0.3270        0.3213  1545100    1.73%           rho_6 D 236973 236972     59\n",
      "Elapsed time = 57.97 sec. (41255.92 ticks, tree = 20.51 MB, solutions = 2)\n",
      " 241522 70852        0.3213     7        0.3270        0.3213  1580666    1.73%           rho_1 U 241522 128161     49\n",
      " 245949 71566        0.3213     9        0.3270        0.3213  1617624    1.73%           rho_1 D 245949  77301     47\n",
      " 250240 72564        0.3255     9        0.3270        0.3213  1655487    1.73%           rho_3 N 250240 123090     35\n",
      " 254358 73272        0.3234     7        0.3270        0.3213  1694042    1.73%          rho_22 D 254358 254356     65\n",
      " 258644 73781        0.3262     5        0.3270        0.3213  1731638    1.73%           rho_5 N 258644 258643     26\n",
      " 263340 74872        cutoff              0.3270        0.3213  1768185    1.73%          rho_15 U 263340 263339     59\n",
      " 267556 76163        cutoff              0.3270        0.3213  1807073    1.73%          rho_22 D 267556 267554     53\n",
      " 271962 77104        0.3269     7        0.3270        0.3213  1843377    1.73%           rho_0 U 271962 271961     85\n",
      " 276595 77623        0.3213     7        0.3270        0.3213  1878836    1.73%           rho_0 D 276595 276593     58\n",
      " 281484 78294        0.3261    10        0.3270        0.3213  1912393    1.73%           rho_0 D 281484 281482     64\n",
      "Elapsed time = 70.91 sec. (50793.26 ticks, tree = 22.39 MB, solutions = 2)\n",
      " 286664 79711        0.3260    12        0.3270        0.3213  1946606    1.73%          rho_19 D 286664 286663     61\n",
      " 291367 79952        0.3261    12        0.3270        0.3213  1978775    1.73%          rho_23 D 291367 291366     24\n",
      " 295888 80231        cutoff              0.3270        0.3213  2012269    1.73%           rho_0 U 295888 295887     73\n",
      " 300603 81438        cutoff              0.3270        0.3213  2047433    1.73%          rho_24 D 300603 300602     53\n",
      " 304912 82363        0.3266    12        0.3270        0.3213  2084115    1.73%           rho_0 D 304912 304911     45\n",
      " 309364 82726        0.3213     8        0.3270        0.3213  2119742    1.73%           rho_1 D 309364 108735     68\n",
      " 313479 83541        cutoff              0.3270        0.3213  2156808    1.73%          rho_15 U 313479 194920     58\n",
      " 318043 84562        cutoff              0.3270        0.3213  2193688    1.73%          rho_20 U 318043 318042     80\n",
      " 322400 85761        0.3238    11        0.3270        0.3213  2231759    1.73%          rho_11 D 322400 322399     51\n",
      " 327344 87291        0.3258    12        0.3270        0.3213  2262515    1.73%          rho_23 D 327344 327343     49\n",
      "Elapsed time = 84.33 sec. (60330.88 ticks, tree = 24.40 MB, solutions = 2)\n",
      " 331521 88104        0.3215    17        0.3270        0.3213  2297478    1.73%           rho_2 D 331521 331520     48\n",
      " 335932 88215        cutoff              0.3270        0.3213  2331377    1.73%          rho_15 U 335932  51515     27\n",
      " 340382 88905        0.3242    17        0.3270        0.3213  2364817    1.73%           rho_6 D 340382 340381     50\n",
      " 345136 90383        0.3261    10        0.3270        0.3213  2398673    1.73%          rho_15 D 345136 345134     30\n",
      " 349443 91045        0.3235    13        0.3270        0.3213  2432770    1.73%           rho_4 U 349443 123790     19\n",
      " 353554 91454        0.3213    11        0.3270        0.3213  2467923    1.73%           rho_0 D 353554 353552     76\n",
      " 358151 93326        0.3256     7        0.3270        0.3213  2501734    1.73%           rho_9 N 358151 358150     76\n",
      " 362546 94273        0.3231    12        0.3270        0.3213  2537016    1.73%           rho_1 D 362546 362545     35\n",
      " 367200 95666        0.3253    12        0.3270        0.3213  2572273    1.73%           rho_0 D 367200 367198     53\n",
      " 372006 96497        cutoff              0.3270        0.3213  2602576    1.73%           rho_4 U 372006 372004     90\n",
      "Elapsed time = 97.05 sec. (69869.58 ticks, tree = 26.44 MB, solutions = 2)\n",
      " 379076 98699        0.3214     6        0.3270        0.3214  2625836    1.70%          rho_10 U 379076 378990     45\n",
      " 385775 101334        cutoff              0.3270        0.3214  2650128    1.69%           rho_0 U 385775 385774     41\n",
      " 391944 102073        cutoff              0.3270        0.3214  2674446    1.69%           rho_3 U 391944 391943     38\n",
      " 397868 103305        0.3267     6        0.3270        0.3215  2699563    1.67%           rho_4 N 397868 397867     32\n",
      " 404082 103935        0.3215     8        0.3270        0.3215  2725085    1.66%           rho_0 U 404082 404081     39\n",
      " 410431 106038        0.3246    11        0.3270        0.3216  2749488    1.65%           rho_3 D 410431 410429     52\n",
      " 416544 107204        0.3216    12        0.3270        0.3216  2774175    1.63%           rho_0 D 416544 416542     70\n",
      " 423772 109462        cutoff              0.3270        0.3216  2797637    1.62%           rho_4 U 423772 423771     75\n",
      " 429835 108138        0.3251     4        0.3270        0.3217  2824206    1.60%           rho_4 U 429835  80210     76\n",
      " 434834 108081        cutoff              0.3270        0.3218  2848106    1.58%          rho_23 U 434834 126424     50\n",
      "Elapsed time = 110.45 sec. (79407.18 ticks, tree = 28.98 MB, solutions = 2)\n",
      " 440422 108827        cutoff              0.3270        0.3218  2875648    1.56%           rho_0 U 440422 440421     59\n",
      " 446460 110528        0.3234     8        0.3270        0.3219  2898244    1.56%          rho_11 D 446460 446458     65\n",
      " 452420 112175        0.3264     6        0.3270        0.3219  2926505    1.56%           rho_2 D 452420 452419     24\n",
      " 457181 112320        cutoff              0.3270        0.3220  2957898    1.53%          rho_13 U 457181 457179     45\n",
      " 462920 114286        0.3245    12        0.3270        0.3220  2984504    1.53%          rho_10 D 462920 462919     72\n",
      " 468518 115428        0.3269     2        0.3270        0.3220  3014344    1.52%          rho_20 D 468518 468516     54\n",
      " 474250 115836        cutoff              0.3270        0.3220  3040216    1.51%          rho_11 U 474250 200220     44\n",
      " 479682 115212        0.3258    10        0.3270        0.3221  3068609    1.50%           rho_1 D 479682 479681     56\n",
      " 485580 117305        0.3221    10        0.3270        0.3221  3091068    1.49%          rho_10 U 485580 485575     30\n",
      " 509820 118341        0.3222     7        0.3270        0.3222  3190961    1.44%           rho_4 D 509820 462757     48\n",
      "Elapsed time = 125.05 sec. (91807.02 ticks, tree = 31.29 MB, solutions = 2)\n",
      " 532713 122209        0.3255     7        0.3270        0.3223  3298457    1.42%          rho_20 D 532713 532711     29\n",
      " 556992 123938        cutoff              0.3270        0.3224  3399504    1.38%           rho_2 D 556992 556990     89\n",
      " 582208 125519        cutoff              0.3270        0.3225  3493237    1.35%           rho_0 U 582208 261154     49\n",
      " 603075 123211        0.3246    11        0.3270        0.3227  3613049    1.29%           rho_2 D 603075 603073     41\n",
      " 627448 125245        0.3243     6        0.3270        0.3229  3717804    1.25%           rho_0 D 627448 627446     84\n",
      " 652387 127594        0.3230    11        0.3270        0.3230  3810801    1.21%          rho_10 U 652387 652385     50\n",
      " 674674 126046        0.3231    16        0.3270        0.3231  3917681    1.17%           rho_4 D 674674 404514     51\n",
      " 697098 123602        cutoff              0.3270        0.3233  4013097    1.12%          rho_11 U 697098 697097     54\n",
      " 721911 121737        0.3252    10        0.3270        0.3234  4109393    1.08%          rho_10 D 721911 721910     36\n",
      " 747140 121475        0.3254     8        0.3270        0.3235  4202151    1.04%           rho_0 U 747140 747139     25\n",
      "Elapsed time = 171.80 sec. (129955.30 ticks, tree = 32.03 MB, solutions = 2)\n",
      " 770163 118755        0.3260     6        0.3270        0.3236  4304681    1.01%           rho_8 D 770163 770162     41\n",
      " 794123 117663        cutoff              0.3270        0.3238  4392883    0.96%          rho_19 U 794123 794122     43\n",
      " 818210 113509        0.3264     5        0.3270        0.3239  4493220    0.94%          rho_14 D 818210  22335     50\n",
      " 841330 111332        0.3240    15        0.3270        0.3240  4591789    0.90%           rho_6 D 841330 236129     91\n",
      "\n",
      "User cuts applied:  196\n",
      "\n",
      "Root node processing (before b&c):\n",
      "  Real time             =    0.16 sec. (1.13 ticks)\n",
      "Sequential b&c:\n",
      "  Real time             =  199.86 sec. (147910.97 ticks)\n",
      "                          ------------\n",
      "Total (root+branch&cut) =  200.01 sec. (147912.10 ticks)\n",
      "+----------------------------------------------+------------------+-----------+\n",
      "| Pr(Y = +1) = 1.0/(1.0 + exp(-(-4 + score))   |                  |           |\n",
      "| ============================================ | ================ | ========= |\n",
      "| p_charges>=1                                 |         1 points |   + ..... |\n",
      "| p_drug>=1                                    |         1 points |   + ..... |\n",
      "| p_pending_charge>=1                          |         1 points |   + ..... |\n",
      "| ============================================ | ================ | ========= |\n",
      "| ADD POINTS FROM ROWS 1 to 3                  |            SCORE |   = ..... |\n",
      "+----------------------------------------------+------------------+-----------+\n",
      "model_id, score_thresholds 0 {'rank_abs': [0]}\n",
      "get_disparity_predefined_group()\n"
     ]
    },
    {
     "name": "stderr",
     "output_type": "stream",
     "text": [
      "C:\\Users\\binha\\Documents\\Duke\\Cynthia Research\\psa-analysis - test2\\utils\\fairness_functions.py:82: RuntimeWarning:\n",
      "\n",
      "invalid value encountered in longlong_scalars\n",
      "\n",
      "C:\\Users\\binha\\Documents\\Duke\\Cynthia Research\\psa-analysis - test2\\utils\\fairness_functions.py:95: RuntimeWarning:\n",
      "\n",
      "divide by zero encountered in longlong_scalars\n",
      "\n",
      "C:\\Users\\binha\\Documents\\Duke\\Cynthia Research\\psa-analysis - test2\\utils\\fairness_functions.py:86: RuntimeWarning:\n",
      "\n",
      "invalid value encountered in longlong_scalars\n",
      "\n",
      "C:\\Users\\binha\\Documents\\Duke\\Cynthia Research\\psa-analysis - test2\\utils\\fairness_functions.py:95: RuntimeWarning:\n",
      "\n",
      "invalid value encountered in longlong_scalars\n",
      "\n"
     ]
    },
    {
     "name": "stdout",
     "output_type": "stream",
     "text": [
      "setting c0 = 0.0 to ensure that intercept is not penalized\n",
      "10/01/19 @ 01:57 PM | 1061 rows in lookup table\n",
      "10/01/19 @ 01:57 PM | ------------------------------------------------------------\n",
      "10/01/19 @ 01:57 PM | runnning initialization procedure\n",
      "10/01/19 @ 01:57 PM | ------------------------------------------------------------\n",
      "10/01/19 @ 01:58 PM | CPA produced 2 cuts\n",
      "10/01/19 @ 01:58 PM | running naive rounding on 66 solutions\n",
      "10/01/19 @ 01:58 PM | best objective value: 0.3226\n",
      "10/01/19 @ 01:58 PM | rounding produced 5 integer solutions\n",
      "10/01/19 @ 01:58 PM | best objective value is 0.3272\n",
      "10/01/19 @ 01:58 PM | running sequential rounding on 66 solutions\n",
      "10/01/19 @ 01:58 PM | best objective value: 0.3226\n",
      "10/01/19 @ 01:58 PM | sequential rounding produced 3 integer solutions\n",
      "10/01/19 @ 01:58 PM | best objective value: 0.3272\n",
      "10/01/19 @ 01:58 PM | polishing 8 solutions\n",
      "10/01/19 @ 01:58 PM | best objective value: 0.3272\n",
      "10/01/19 @ 01:58 PM | polishing produced 5 integer solutions\n",
      "10/01/19 @ 01:58 PM | initialization produced 6 feasible solutions\n",
      "10/01/19 @ 01:58 PM | best objective value: 0.3272\n",
      "10/01/19 @ 01:58 PM | ------------------------------------------------------------\n",
      "10/01/19 @ 01:58 PM | completed initialization procedure\n",
      "10/01/19 @ 01:58 PM | ------------------------------------------------------------\n",
      "10/01/19 @ 01:58 PM | 1061 rows in lookup table\n",
      "CPXPARAM_Read_DataCheck                          1\n",
      "CPXPARAM_Threads                                 1\n",
      "CPXPARAM_Parallel                                1\n",
      "CPXPARAM_RandomSeed                              0\n",
      "CPXPARAM_TimeLimit                               200\n",
      "CPXPARAM_MIP_Tolerances_LowerCutoff              0.32113258579771103\n",
      "CPXPARAM_MIP_Tolerances_UpperCutoff              0.32717251277260145\n"
     ]
    },
    {
     "name": "stderr",
     "output_type": "stream",
     "text": [
      "Warning: Control callbacks may disable some MIP features.\n"
     ]
    },
    {
     "name": "stdout",
     "output_type": "stream",
     "text": [
      "Lazy constraint(s) or lazy constraint callback is present.\n",
      "    Disabling dual reductions (CPX_PARAM_REDUCE) in presolve.\n",
      "    Disabling non-linear reductions (CPX_PARAM_PRELINEAR) in presolve.\n",
      "         Disabling repeat represolve because of lazy constraint/incumbent callback.\n",
      "10/01/19 @ 01:58 PM | adding 200 initial cuts\n",
      "1 of 1 MIP starts provided solutions.\n",
      "MIP start 'mip_start_0' defined initial solution with objective 0.3272.\n",
      "Tried aggregator 1 time.\n",
      "Reduced MIP has 26 rows, 52 columns, and 99 nonzeros.\n",
      "Reduced MIP has 24 binaries, 26 generals, 0 SOSs, and 0 indicators.\n",
      "Presolve time = 0.02 sec. (0.05 ticks)\n",
      "Probing time = 0.00 sec. (0.01 ticks)\n",
      "MIP emphasis: balance optimality and feasibility.\n",
      "MIP search method: traditional branch-and-cut.\n",
      "Parallel mode: none, using 1 thread.\n",
      "Root relaxation solution time = 0.00 sec. (0.03 ticks)\n",
      "\n",
      "        Nodes                                         Cuts/\n",
      "   Node  Left     Objective  IInf  Best Integer    Best Bound    ItCnt     Gap         Variable B NodeID Parent  Depth\n",
      "\n",
      "*     0+    0                            0.3272        0.3211             1.85%\n",
      "      0     0        0.3211     1        0.3272        0.3211        1    1.85%\n",
      "      0     0        0.3211     1        0.3272      Fract: 1        3    1.85%\n",
      "      0     2        0.3211     2        0.3272        0.3211        3    1.85%                        0             0\n",
      "Elapsed time = 0.13 sec. (1.70 ticks, tree = 0.01 MB, solutions = 1)\n",
      "   4109  1458        0.3260     6        0.3272        0.3211    13663    1.85%          rho_23 D   4109   4108     28\n",
      "   7270  2477        0.3211     5        0.3272        0.3211    26297    1.85%          rho_10 D   7270   7269     62\n",
      "  10621  3467        0.3260     8        0.3272        0.3211    37537    1.85%          rho_23 D  10621  10620     65\n",
      "  13237  4479        0.3211     4        0.3272        0.3211    46921    1.85%           rho_0 D  13237  13235     62\n",
      "  15697  5685        0.3246    10        0.3272        0.3211    54565    1.85%          rho_13 D  15697  15695     86\n",
      "  18411  6623        0.3211     2        0.3272        0.3211    63189    1.85%          rho_10 D  18411  18334     96\n",
      "  21049  7570        0.3211     2        0.3272        0.3211    71583    1.85%           rho_0 D  21049  21048     68\n",
      "  23570  8703        0.3257     7        0.3272        0.3211    80308    1.85%          rho_15 D  23570  23569     53\n",
      "  26203  9699        0.3236    10        0.3272        0.3211    88376    1.85%          rho_23 D  26203  25904     40\n",
      "  35035 12968        cutoff              0.3272        0.3211   131120    1.85%           rho_4 U  35035  35034     56\n",
      "Elapsed time = 5.25 sec. (3101.72 ticks, tree = 3.41 MB, solutions = 1)\n",
      "  42349 14779        0.3231     3        0.3272        0.3211   168709    1.85%           rho_1 D  42349  42348     43\n",
      "  50464 17289        cutoff              0.3272        0.3211   198956    1.85%           rho_3 D  50464  50463     64\n",
      "  57159 18959        0.3211     1        0.3272        0.3211   231503    1.85%          rho_10 U  57159  57157     41\n",
      "  64600 21663        0.3247     7        0.3272        0.3211   267148    1.85%           rho_4 D  64600  64599     65\n",
      "  72207 24210        0.3264     4        0.3272        0.3211   301125    1.85%          rho_18 D  72207  72206     97\n",
      "  79807 26221        0.3227     7        0.3272        0.3211   330023    1.85%           rho_0 D  79807  79806     95\n",
      "  86790 28672        0.3232     5        0.3272        0.3211   368153    1.85%           rho_2 D  86790  86789     68\n",
      "  93971 30847        0.3259     7        0.3272        0.3211   400869    1.85%           rho_0 D  93971  93969    100\n",
      " 101535 32607        0.3225     5        0.3272        0.3211   429716    1.85%           rho_4 D 101535 101534     74\n",
      " 109296 34397        0.3259     4        0.3272        0.3211   458888    1.85%           rho_7 D 109296 109295     33\n",
      "Elapsed time = 21.38 sec. (12639.61 ticks, tree = 10.21 MB, solutions = 1)\n",
      " 115689 36233        0.3259     9        0.3272        0.3211   494305    1.85%           rho_0 D 115689 115687     90\n",
      " 121770 38190        0.3266     6        0.3272        0.3211   530041    1.85%           rho_0 D 121770 121769     95\n",
      " 127776 40300        0.3235    13        0.3272        0.3211   568620    1.85%           rho_2 D 127776 127775     45\n",
      " 134421 42129        0.3250     8        0.3272        0.3211   600353    1.85%          rho_23 D 134421 134420     61\n",
      " 141335 43233        0.3251     7        0.3272        0.3211   628655    1.85%          rho_14 D 141335 141334     70\n",
      " 147586 44210        cutoff              0.3272        0.3211   658551    1.85%           rho_0 U 147586 147585     30\n",
      " 153439 45214        cutoff              0.3272        0.3211   688169    1.85%           rho_0 U 153439 153438     37\n",
      " 159543 45894        0.3211    11        0.3272        0.3211   718369    1.85%           rho_8 D 159543 159542     34\n",
      " 166087 47734        0.3225     9        0.3272        0.3211   756105    1.85%          rho_10 D 166087 166007     74\n",
      " 171865 49615        cutoff              0.3272        0.3211   791248    1.85%           rho_0 U 171865 171844     69\n",
      "Elapsed time = 34.47 sec. (22177.13 ticks, tree = 13.58 MB, solutions = 1)\n",
      " 176950 50671        0.3218    13        0.3272        0.3211   827257    1.85%          rho_21 U 176950 176949     71\n",
      " 181610 51878        0.3211     5        0.3272        0.3211   867071    1.85%           rho_0 D 181610 181609     57\n",
      " 187984 53621        0.3269     8        0.3272        0.3211   900252    1.85%           rho_0 U 187984 187983     95\n",
      " 193656 55574        0.3211     5        0.3272        0.3211   938273    1.85%          rho_10 D 193656 193655     61\n",
      " 199389 57643        0.3266     8        0.3272        0.3211   975832    1.85%          rho_22 D 199389 199388     97\n",
      " 205742 59255        0.3239     6        0.3272        0.3211  1008772    1.85%          rho_15 D 205742 205740     68\n",
      " 212100 61191        0.3212    12        0.3272        0.3211  1039706    1.85%           rho_0 D 212100 212098     74\n",
      " 217681 62638        0.3248     8        0.3272        0.3211  1073615    1.85%          rho_23 D 217681 217680     43\n",
      " 223558 64173        0.3211     6        0.3272        0.3211  1104303    1.85%          rho_10 U 223558 223556     40\n",
      " 229093 65022        0.3228     8        0.3272        0.3211  1136827    1.85%           rho_8 D 229093 229092     58\n",
      "Elapsed time = 46.33 sec. (31715.71 ticks, tree = 16.96 MB, solutions = 1)\n",
      " 235566 66600        0.3253     9        0.3272        0.3211  1169469    1.85%          rho_21 U 235566 235565     53\n",
      " 240973 67557        0.3271     8        0.3272        0.3211  1202414    1.85%          rho_13 D 240973 240972    100\n",
      " 246529 68686        0.3259     1        0.3272        0.3211  1235252    1.85%           rho_0 U 246529 246356     71\n",
      " 252178 70193        0.3211     6        0.3272        0.3211  1267995    1.85%          rho_10 U 252178 252176     59\n",
      " 258233 71352        cutoff              0.3272        0.3211  1299455    1.85%           rho_9 D 258233 258231     73\n",
      " 263806 72239        cutoff              0.3272        0.3211  1332116    1.85%          rho_23 U 263806 263805     57\n",
      " 269420 73553        0.3219    14        0.3272        0.3211  1365322    1.85%          rho_21 D 269420 269217     67\n",
      " 275919 75036        cutoff              0.3272        0.3211  1396846    1.85%          rho_13 U 275919 275916     87\n",
      " 282143 76529        0.3267     4        0.3272        0.3211  1428061    1.85%          rho_15 D 282143 282141     57\n",
      " 288500 77968        0.3231     4        0.3272        0.3211  1457904    1.85%          rho_11 D 288500 288499     55\n",
      "Elapsed time = 59.02 sec. (41254.46 ticks, tree = 22.59 MB, solutions = 1)\n",
      " 294934 79425        0.3216     7        0.3272        0.3211  1487440    1.85%           rho_1 U 294934 294932     45\n",
      " 301074 80984        0.3252     4        0.3272        0.3211  1520687    1.85%           rho_4 U 301074 301072     82\n",
      " 307304 82513        0.3211     6        0.3272        0.3211  1554218    1.85%           rho_0 D 307304 307302     38\n",
      " 314270 84089        0.3222     5        0.3272        0.3211  1581727    1.85%          rho_11 D 314270 313839     69\n",
      " 320580 85478        0.3211     7        0.3272        0.3211  1612361    1.85%           rho_1 D 320580 320431     41\n",
      " 325986 86813        0.3211     9        0.3272        0.3211  1646663    1.85%           rho_0 D 325986 325984     54\n",
      " 331043 87925        0.3214    11        0.3272        0.3211  1682430    1.85%          rho_10 D 331043 331042     81\n",
      " 336473 89203        0.3264    13        0.3272        0.3211  1719195    1.85%           rho_8 D 336473 336471     41\n",
      " 342360 90283        0.3237     7        0.3272        0.3211  1750893    1.85%           rho_7 D 342360 342358     39\n",
      " 349256 91599        cutoff              0.3272        0.3211  1776279    1.85%           rho_0 U 349256 349255     44\n",
      "Elapsed time = 73.20 sec. (50792.62 ticks, tree = 25.59 MB, solutions = 1)\n",
      " 355790 92775        0.3241     9        0.3272        0.3211  1802113    1.85%           rho_4 D 355790 355789     73\n",
      " 361713 93880        0.3261     9        0.3272        0.3211  1833693    1.85%           rho_4 D 361713 361711     83\n",
      " 367586 95347        0.3259     5        0.3272        0.3211  1869213    1.85%           rho_0 D 367586 367584     73\n",
      " 373049 95713        0.3260     8        0.3272        0.3211  1901168    1.85%           rho_0 N 373049 193190     52\n",
      " 377633 96561        0.3225     9        0.3272        0.3211  1939726    1.85%           rho_3 N 377633 187513     29\n",
      " 382839 98182        0.3211     7        0.3272        0.3211  1978279    1.85%           rho_0 D 382839 382837     72\n",
      " 387611 99636        0.3211     8        0.3272        0.3211  2020076    1.85%           rho_1 D 387611 387561     52\n",
      " 392214 100693        0.3241    11        0.3272        0.3211  2058377    1.85%           rho_1 N 392214 171390     45\n",
      " 396841 101682        0.3235     8        0.3272        0.3211  2096972    1.85%           rho_2 D 396841 396840     69\n",
      " 402128 102715        0.3211     5        0.3272        0.3211  2131310    1.85%           rho_3 U 402128 401971     47\n",
      "Elapsed time = 88.13 sec. (60332.00 ticks, tree = 28.09 MB, solutions = 1)\n",
      " 407400 103735        0.3235     8        0.3272        0.3211  2164841    1.85%           rho_1 D 407400 407399     33\n",
      " 412427 105312        cutoff              0.3272        0.3211  2199182    1.85%           rho_8 U 412427 412426     58\n",
      " 418242 106878        0.3252    15        0.3272        0.3211  2234947    1.85%           rho_0 D 418242 418240     84\n",
      " 423113 108105        0.3211     7        0.3272        0.3211  2270356    1.85%          rho_10 U 423113 423111     45\n",
      " 428210 109533        0.3211     6        0.3272        0.3211  2304529    1.85%          rho_10 U 428210 428209     65\n",
      " 432644 111069        0.3211     9        0.3272        0.3211  2344675    1.85%          rho_10 U 432644 432642     33\n",
      " 438005 112382        0.3240    10        0.3272        0.3211  2380481    1.85%          rho_23 D 438005 438003     79\n",
      " 443080 113527        0.3219    12        0.3272        0.3211  2415925    1.85%          rho_10 D 443080 443020     29\n",
      " 447917 114391        0.3211     9        0.3272        0.3211  2452586    1.85%          rho_10 D 447917 447916     80\n",
      " 452800 115326        0.3254    11        0.3272        0.3211  2487793    1.85%          rho_22 U 452800 452799     62\n",
      "Elapsed time = 101.77 sec. (69869.73 ticks, tree = 30.89 MB, solutions = 1)\n",
      " 458075 116811        0.3248    11        0.3272        0.3211  2523820    1.85%          rho_11 D 458075 458074     39\n",
      " 463155 118417        0.3211     5        0.3272        0.3211  2558775    1.85%          rho_10 U 463155 463136     26\n",
      " 468495 119772        0.3213     6        0.3272        0.3211  2590031    1.85%          rho_11 N 468495 468484     52\n",
      " 473333 120831        0.3260     7        0.3272        0.3211  2622873    1.85%          rho_22 D 473333 473331     57\n",
      " 478691 122205        cutoff              0.3272        0.3211  2655063    1.85%          rho_22 D 478691 478689     55\n",
      " 484168 123277        cutoff              0.3272        0.3211  2687711    1.85%           rho_0 D 484168 484167     51\n",
      " 489573 124577        0.3235     8        0.3272        0.3211  2718638    1.85%          rho_15 N 489573 489572     75\n",
      " 495248 125907        0.3211     4        0.3272        0.3211  2750172    1.85%           rho_0 D 495248 495246     37\n",
      " 501714 126946        cutoff              0.3272        0.3211  2779155    1.85%          rho_20 D 501714 501712     44\n",
      " 507837 127938        0.3211     1        0.3272        0.3211  2807706    1.85%          rho_10 U 507837 507835     39\n",
      "Elapsed time = 115.08 sec. (79407.43 ticks, tree = 33.64 MB, solutions = 1)\n",
      " 512802 129071        cutoff              0.3272        0.3211  2837284    1.85%           rho_0 U 512802 512800     57\n",
      " 517777 130713        0.3211     4        0.3272        0.3211  2870182    1.85%           rho_0 D 517777 517775     58\n",
      " 522790 132765        0.3230    13        0.3272        0.3211  2907162    1.85%           rho_8 D 522790 522789     41\n",
      " 528210 134509        0.3211     8        0.3272        0.3211  2939207    1.85%           rho_4 D 528210 528209     46\n",
      " 533453 135973        0.3260     5        0.3272        0.3211  2970454    1.85%          rho_22 D 533453 533452     36\n",
      " 538439 136738        cutoff              0.3272        0.3211  3001044    1.85%          rho_15 U 538439 538437     70\n",
      " 542831 137104        0.3232     7        0.3272        0.3211  3036194    1.85%           rho_2 N 542831 189251     79\n",
      " 547450 138070        0.3255     8        0.3272        0.3211  3073158    1.85%          rho_15 D 547450 547448     54\n",
      " 551820 138363        0.3232     5        0.3272        0.3211  3109996    1.85%           rho_0 D 551820 551818     51\n",
      " 573613 143218        0.3226    12        0.3272        0.3211  3234733    1.85%           rho_2 D 573613 573612     43\n",
      "Elapsed time = 135.39 sec. (91806.70 ticks, tree = 39.97 MB, solutions = 1)\n",
      " 592959 148276        cutoff              0.3272        0.3211  3383979    1.85%           rho_0 U 592959 592958     52\n",
      " 612750 152712        0.3211     8        0.3272        0.3211  3517458    1.85%           rho_0 D 612750 612748     20\n",
      " 633730 156237        0.3252     6        0.3272        0.3211  3637492    1.85%           rho_1 N 633730 411689     48\n",
      " 652382 160702        0.3226    13        0.3272        0.3211  3782213    1.85%           rho_4 U 652382 587964     75\n",
      " 672886 165399        0.3242    10        0.3272        0.3211  3919498    1.85%           rho_0 D 672886 672884     24\n",
      " 690648 168476        0.3223    12        0.3272        0.3211  4068392    1.85%           rho_2 D 690648 690646     70\n",
      " 711690 174637        0.3211     7        0.3272        0.3211  4202460    1.85%           rho_0 D 711690 711689     78\n",
      " 734619 181139        cutoff              0.3272        0.3211  4327949    1.85%          rho_22 D 734619 734617     46\n",
      " 756155 186233        0.3264     9        0.3272        0.3211  4446174    1.85%          rho_15 U 756155 756153     40\n",
      " 776894 190376        0.3247    13        0.3272        0.3211  4557840    1.85%           rho_2 D 776894 776891     87\n",
      "Elapsed time = 184.80 sec. (129954.95 ticks, tree = 54.01 MB, solutions = 1)\n",
      " 799147 195685        0.3219     9        0.3272        0.3211  4665422    1.84%           rho_0 U 799147 799146     37\n",
      " 824971 207693        0.3220    13        0.3272        0.3212  4746534    1.83%          rho_10 D 824971 824970     35\n",
      "\n",
      "Implied bound cuts applied:  1\n",
      "Gomory fractional cuts applied:  1\n",
      "User cuts applied:  194\n",
      "\n",
      "Root node processing (before b&c):\n",
      "  Real time             =    0.13 sec. (1.71 ticks)\n",
      "Sequential b&c:\n",
      "  Real time             =  199.89 sec. (139774.15 ticks)\n",
      "                          ------------\n",
      "Total (root+branch&cut) =  200.02 sec. (139775.87 ticks)\n",
      "+-----------------------------------------------+-------------------+-----------+\n",
      "| Pr(Y = +1) = 1.0/(1.0 + exp(-(-43 + score))   |                   |           |\n",
      "| ============================================= | ================= | ========= |\n",
      "| p_arrest>=1                                   |         20 points |   + ..... |\n",
      "| p_charges>=1                                  |         20 points |   + ..... |\n",
      "| p_drug>=1                                     |          1 points |   + ..... |\n",
      "| p_pending_charge>=1                           |          1 points |   + ..... |\n",
      "| ============================================= | ================= | ========= |\n",
      "| ADD POINTS FROM ROWS 1 to 4                   |             SCORE |   = ..... |\n",
      "+-----------------------------------------------+-------------------+-----------+\n",
      "model_id, score_thresholds 0 {'rank_abs': [0]}\n",
      "get_disparity_predefined_group()\n"
     ]
    },
    {
     "name": "stderr",
     "output_type": "stream",
     "text": [
      "C:\\Users\\binha\\Documents\\Duke\\Cynthia Research\\psa-analysis - test2\\utils\\fairness_functions.py:82: RuntimeWarning:\n",
      "\n",
      "invalid value encountered in longlong_scalars\n",
      "\n",
      "C:\\Users\\binha\\Documents\\Duke\\Cynthia Research\\psa-analysis - test2\\utils\\fairness_functions.py:95: RuntimeWarning:\n",
      "\n",
      "divide by zero encountered in longlong_scalars\n",
      "\n"
     ]
    },
    {
     "name": "stdout",
     "output_type": "stream",
     "text": [
      "setting c0 = 0.0 to ensure that intercept is not penalized\n",
      "10/01/19 @ 02:01 PM | 1061 rows in lookup table\n",
      "10/01/19 @ 02:01 PM | ------------------------------------------------------------\n",
      "10/01/19 @ 02:01 PM | runnning initialization procedure\n",
      "10/01/19 @ 02:01 PM | ------------------------------------------------------------\n",
      "10/01/19 @ 02:01 PM | CPA produced 2 cuts\n",
      "10/01/19 @ 02:01 PM | running naive rounding on 62 solutions\n",
      "10/01/19 @ 02:01 PM | best objective value: 0.3222\n",
      "10/01/19 @ 02:01 PM | rounding produced 5 integer solutions\n",
      "10/01/19 @ 02:01 PM | best objective value is 0.3263\n",
      "10/01/19 @ 02:01 PM | running sequential rounding on 62 solutions\n",
      "10/01/19 @ 02:01 PM | best objective value: 0.3222\n",
      "10/01/19 @ 02:01 PM | sequential rounding produced 3 integer solutions\n",
      "10/01/19 @ 02:01 PM | best objective value: 0.3263\n",
      "10/01/19 @ 02:01 PM | polishing 8 solutions\n",
      "10/01/19 @ 02:01 PM | best objective value: 0.3263\n",
      "10/01/19 @ 02:01 PM | polishing produced 4 integer solutions\n",
      "10/01/19 @ 02:01 PM | initialization produced 7 feasible solutions\n",
      "10/01/19 @ 02:01 PM | best objective value: 0.3263\n",
      "10/01/19 @ 02:01 PM | ------------------------------------------------------------\n",
      "10/01/19 @ 02:01 PM | completed initialization procedure\n",
      "10/01/19 @ 02:01 PM | ------------------------------------------------------------\n",
      "10/01/19 @ 02:01 PM | 1061 rows in lookup table\n",
      "CPXPARAM_Read_DataCheck                          1\n",
      "CPXPARAM_Threads                                 1\n",
      "CPXPARAM_Parallel                                1\n",
      "CPXPARAM_RandomSeed                              0\n",
      "CPXPARAM_TimeLimit                               200\n",
      "CPXPARAM_MIP_Tolerances_LowerCutoff              0.32063332287566759\n",
      "CPXPARAM_MIP_Tolerances_UpperCutoff              0.32627889139036159\n"
     ]
    },
    {
     "name": "stderr",
     "output_type": "stream",
     "text": [
      "Warning: Control callbacks may disable some MIP features.\n"
     ]
    },
    {
     "name": "stdout",
     "output_type": "stream",
     "text": [
      "Lazy constraint(s) or lazy constraint callback is present.\n",
      "    Disabling dual reductions (CPX_PARAM_REDUCE) in presolve.\n",
      "    Disabling non-linear reductions (CPX_PARAM_PRELINEAR) in presolve.\n",
      "         Disabling repeat represolve because of lazy constraint/incumbent callback.\n",
      "10/01/19 @ 02:01 PM | adding 196 initial cuts\n",
      "1 of 1 MIP starts provided solutions.\n",
      "MIP start 'mip_start_0' defined initial solution with objective 0.3263.\n",
      "Tried aggregator 1 time.\n",
      "Reduced MIP has 26 rows, 52 columns, and 99 nonzeros.\n",
      "Reduced MIP has 24 binaries, 26 generals, 0 SOSs, and 0 indicators.\n",
      "Presolve time = 0.00 sec. (0.05 ticks)\n",
      "Probing time = 0.00 sec. (0.01 ticks)\n",
      "MIP emphasis: balance optimality and feasibility.\n",
      "MIP search method: traditional branch-and-cut.\n",
      "Parallel mode: none, using 1 thread.\n",
      "Root relaxation solution time = 0.00 sec. (0.03 ticks)\n",
      "\n",
      "        Nodes                                         Cuts/\n",
      "   Node  Left     Objective  IInf  Best Integer    Best Bound    ItCnt     Gap         Variable B NodeID Parent  Depth\n",
      "\n",
      "*     0+    0                            0.3263        0.3206             1.73%\n",
      "      0     0        0.3206     1        0.3263        0.3206        1    1.73%\n",
      "      0     2        0.3206     2        0.3263        0.3206        1    1.73%                        0             0\n",
      "Elapsed time = 0.48 sec. (1.09 ticks, tree = 0.01 MB, solutions = 1)\n",
      "   3180  1415        0.3245     3        0.3263        0.3206    11645    1.73%          rho_24 U   3180   3179     38\n",
      "   5915  2441        cutoff              0.3263        0.3206    22342    1.73%           rho_0 U   5915   5914     58\n",
      "   8243  2936        0.3260     5        0.3263        0.3206    32691    1.73%           rho_0 D   8243   8241     52\n",
      "  10372  3796        0.3206     3        0.3263        0.3206    44331    1.73%          rho_10 U  10372  10370     72\n",
      "  12620  4440        0.3206     1        0.3263        0.3206    55095    1.73%          rho_10 U  12620  12618     76\n",
      "  14777  4835        0.3206     1        0.3263        0.3206    64051    1.73%          rho_10 U  14777  14775     38\n",
      "  17036  5345        0.3226    11        0.3263        0.3206    73389    1.73%           rho_0 D  17036  17034     68\n",
      "  19412  6237        0.3206     8        0.3263        0.3206    83346    1.73%           rho_6 N  19412  19411     27\n",
      "  21521  7291        0.3206     6        0.3263        0.3206    92766    1.73%          rho_10 D  21521  21520     60\n",
      "  30575  9585        0.3206     5        0.3263        0.3206   130229    1.73%          rho_10 D  30575  30574     43\n",
      "Elapsed time = 6.39 sec. (3101.23 ticks, tree = 2.59 MB, solutions = 1)\n",
      "  38499 11058        0.3219     5        0.3263        0.3206   164201    1.73%           rho_2 D  38499  38497     64\n",
      "  46122 12511        0.3206     4        0.3263        0.3206   198187    1.73%          rho_10 U  46122  46120     74\n",
      "  52567 14220        0.3224    14        0.3263        0.3206   237270    1.73%           rho_1 D  52567  52566     50\n",
      "  60157 16682        0.3206     6        0.3263        0.3206   276881    1.73%          rho_10 D  60157  60156     32\n",
      "  67539 18737        cutoff              0.3263        0.3206   313090    1.73%           rho_0 U  67539  67538     57\n",
      "  74663 21277        0.3240    10        0.3263        0.3206   348023    1.73%           rho_0 U  74663  74662     82\n",
      "  80251 22718        0.3222    12        0.3263        0.3206   385824    1.73%           rho_0 D  80251  80249     88\n",
      "  85930 24142        0.3206     3        0.3263        0.3206   423652    1.73%           rho_3 N  85930  72493     56\n",
      "  91534 25118        cutoff              0.3263        0.3206   459567    1.73%           rho_0 U  91534  91533     73\n",
      "  97180 26297        cutoff              0.3263        0.3206   497085    1.73%           rho_0 D  97180  97179     20\n",
      "Elapsed time = 18.44 sec. (12639.15 ticks, tree = 6.77 MB, solutions = 1)\n",
      " 104147 28110        0.3227    12        0.3263        0.3206   527062    1.73%          rho_10 N 104147 104146     35\n",
      " 111364 29925        0.3206     2        0.3263        0.3206   559667    1.73%           rho_0 D 111364 111363     56\n",
      " 118850 32302        0.3261     6        0.3263        0.3206   591370    1.73%           rho_6 N 118850 118848     55\n",
      " 125431 34236        0.3206     2        0.3263        0.3206   625355    1.73%           rho_0 D 125431 125430     49\n",
      " 130703 34768        0.3250     2        0.3263        0.3206   659391    1.73%          rho_11 N 130703 126216     65\n",
      " 137107 36642        0.3206     2        0.3263        0.3206   691910    1.73%           rho_0 D 137107 137106     31\n",
      " 142290 37845        0.3206     5        0.3263        0.3206   729770    1.73%           rho_0 D 142290 142289     34\n",
      " 148470 39587        0.3206     1        0.3263        0.3206   765213    1.73%           rho_0 D 148470 148469     66\n",
      " 153886 39970        0.3208     7        0.3263        0.3206   798328    1.73%           rho_2 D 153886  56623     50\n",
      " 159222 40372        cutoff              0.3263        0.3206   831520    1.73%          rho_22 U 159222 159220     47\n",
      "Elapsed time = 32.55 sec. (22177.19 ticks, tree = 11.21 MB, solutions = 1)\n",
      " 164460 41040        0.3206     9        0.3263        0.3206   865286    1.73%           rho_4 D 164460 164459     55\n",
      " 170178 42468        0.3206     1        0.3263        0.3206   894962    1.73%          rho_10 U 170178 170177     93\n",
      " 176502 44128        cutoff              0.3263        0.3206   925233    1.73%           rho_0 U 176502 176441     76\n",
      " 181600 45133        0.3240     5        0.3263        0.3206   959057    1.73%          rho_11 U 181600 181585     35\n",
      " 187792 46908        0.3226     7        0.3263        0.3206   990355    1.73%           rho_1 D 187792 184604     53\n",
      " 194178 47984        0.3216     4        0.3263        0.3206  1020417    1.73%           rho_2 D 194178 194177     68\n",
      " 199696 49621        0.3262    12        0.3263        0.3206  1054265    1.73%           rho_7 D 199696 199695     24\n",
      " 204940 51748        0.3246     7        0.3263        0.3206  1089394    1.73%          rho_15 D 204940 204939     96\n",
      " 210792 53595        0.3206     4        0.3263        0.3206  1121033    1.73%           rho_0 D 210792 210791     54\n",
      " 216931 55508        0.3228     5        0.3263        0.3206  1149720    1.73%           rho_3 D 216931 216930     63\n",
      "Elapsed time = 46.86 sec. (31715.09 ticks, tree = 14.45 MB, solutions = 1)\n",
      " 222420 57047        0.3256     9        0.3263        0.3206  1181332    1.73%           rho_0 N 222420 222418     83\n",
      " 227756 58454        0.3226     9        0.3263        0.3206  1213622    1.73%           rho_0 D 227756 227754     73\n",
      " 231777 58368        0.3256    11        0.3263        0.3206  1249276    1.73%           rho_2 N 231777 222191     72\n",
      " 236000 58729        0.3250    10        0.3263        0.3206  1284583    1.73%           rho_0 D 236000 235998     49\n",
      " 241532 60050        0.3260     6        0.3263        0.3206  1314101    1.73%          rho_11 N 241532 241531     81\n",
      " 247393 61239        0.3217     7        0.3263        0.3206  1344310    1.73%           rho_0 D 247393 247391     94\n",
      " 253505 61755        0.3206     7        0.3263        0.3206  1372327    1.73%          rho_10 D 253505 253503     45\n",
      " 259244 63434        cutoff              0.3263        0.3206  1403028    1.73%           rho_0 U 259244 259243     66\n",
      "*262203 64023      integral     0        0.3263        0.3206  1420223    1.73%          rho_24 D 262203 262202     22\n",
      " 267097 64341        0.3224    13        0.3263        0.3206  1454347    1.73%           rho_0 D 267097 267095     54\n",
      "Elapsed time = 61.53 sec. (40825.76 ticks, tree = 16.37 MB, solutions = 2)\n",
      " 271881 64838        0.3246     8        0.3263        0.3206  1487871    1.73%           rho_7 N 271881 271878     39\n",
      " 276524 65658        0.3206     6        0.3263        0.3206  1522242    1.73%           rho_3 N 276524 244133     61\n",
      " 281668 67106        cutoff              0.3263        0.3206  1557542    1.73%           rho_3 U 281668 281667     41\n",
      " 286354 67854        0.3250     8        0.3263        0.3206  1593603    1.73%           rho_0 U 286354 286353     43\n",
      " 291040 68687        0.3206     7        0.3263        0.3206  1628618    1.73%           rho_0 D 291040 291038     83\n",
      " 296372 69558        cutoff              0.3263        0.3206  1663104    1.73%          rho_22 U 296372 296371     58\n",
      " 301970 71356        0.3215    10        0.3263        0.3206  1701301    1.73%          rho_10 D 301970 301969     43\n",
      " 307248 72719        0.3206     9        0.3263        0.3206  1737776    1.73%          rho_10 D 307248 307247     66\n",
      " 313236 73729        0.3243     6        0.3263        0.3206  1766995    1.73%          rho_23 D 313236 313234     56\n",
      " 318691 74781        0.3206     9        0.3263        0.3206  1802062    1.73%          rho_10 U 318691 318690     37\n",
      "Elapsed time = 76.64 sec. (50363.89 ticks, tree = 21.48 MB, solutions = 2)\n",
      " 324233 75794        0.3244     4        0.3263        0.3206  1836027    1.73%          rho_11 U 324233 305235     61\n",
      " 329472 76437        0.3251     7        0.3263        0.3206  1872474    1.73%           rho_3 U 329472 329470     44\n",
      " 335884 77583        0.3220     6        0.3263        0.3206  1901205    1.73%           rho_2 N 335884 335883     56\n",
      " 341112 78633        cutoff              0.3263        0.3206  1933349    1.73%           rho_0 U 341112 341111     44\n",
      " 347125 80515        0.3210     8        0.3263        0.3206  1961367    1.73%           rho_1 D 347125 347124     52\n",
      " 353557 81605        0.3210     8        0.3263        0.3206  1987512    1.73%           rho_1 D 353557 346099     40\n",
      " 358607 82317        0.3258     6        0.3263        0.3206  2020945    1.73%           rho_7 D 358607 358605     43\n",
      " 363001 82596        0.3206     9        0.3263        0.3206  2056532    1.73%           rho_4 D 363001 363000     20\n",
      " 368318 84245        0.3261     9        0.3263        0.3206  2089958    1.73%          rho_12 D 368318 368317     43\n",
      " 373755 86371        0.3241     9        0.3263        0.3206  2125082    1.73%          rho_22 D 373755 373754     59\n",
      "Elapsed time = 91.38 sec. (59901.28 ticks, tree = 24.03 MB, solutions = 2)\n",
      " 378821 88019        0.3222    18        0.3263        0.3206  2158376    1.73%          rho_11 D 378821 378820     45\n",
      " 383954 89283        0.3213    15        0.3263        0.3206  2190228    1.73%           rho_8 D 383954 383952     34\n",
      " 389081 90705        0.3227     6        0.3263        0.3206  2222647    1.73%          rho_15 N 389081 389080     39\n",
      " 394281 92622        0.3232    11        0.3263        0.3206  2257220    1.73%           rho_1 D 394281 394280     75\n",
      " 399161 94253        0.3206     7        0.3263        0.3206  2293218    1.73%           rho_2 N 399161 399119     63\n",
      " 403870 95491        0.3206    13        0.3263        0.3206  2329168    1.73%           rho_3 D 403870 403869     57\n",
      " 408408 96543        0.3240     7        0.3263        0.3206  2364063    1.73%           rho_9 N 408408 408407     71\n",
      " 412746 97005        cutoff              0.3263        0.3206  2401043    1.73%           rho_0 U 412746 412745     51\n",
      " 416867 97316        0.3229    10        0.3263        0.3206  2439562    1.73%           rho_2 U 416867 414411     35\n",
      " 421015 97647        cutoff              0.3263        0.3206  2476832    1.73%           rho_0 U 421015 421014     45\n",
      "Elapsed time = 105.28 sec. (69439.44 ticks, tree = 26.44 MB, solutions = 2)\n",
      " 426350 99112        0.3212     9        0.3263        0.3206  2503656    1.73%          rho_15 N 426350 426349     75\n",
      " 431087 99625        0.3237    11        0.3263        0.3206  2534546    1.73%           rho_2 N 431087 381921     27\n",
      " 435900 100350        0.3230    17        0.3263        0.3206  2567403    1.73%           rho_2 D 435900 435898     77\n",
      " 440632 101687        cutoff              0.3263        0.3206  2603648    1.73%           rho_0 U 440632 440631     23\n",
      " 445703 102986        0.3254     5        0.3263        0.3206  2635461    1.73%          rho_19 D 445703 445702     66\n",
      " 450842 104514        0.3206     5        0.3263        0.3206  2668011    1.73%          rho_10 U 450842 450840     68\n",
      " 455613 106027        0.3218     8        0.3263        0.3206  2704365    1.73%           rho_1 N 455613 455605     72\n",
      "*460000+107004                            0.3263        0.3206             1.73%\n",
      " 460800 107135        0.3208    12        0.3263        0.3206  2736644    1.73%           rho_1 D 460800 459820     88\n",
      " 465930 108258        0.3211     7        0.3263        0.3206  2768957    1.73%           rho_0 U 465930 465929     63\n",
      " 471624 109933        0.3254     9        0.3263        0.3206  2800923    1.73%          rho_23 D 471624 471623     62\n",
      "Elapsed time = 119.69 sec. (78978.43 ticks, tree = 29.12 MB, solutions = 3)\n",
      " 477295 111335        0.3228    10        0.3263        0.3206  2829746    1.73%          rho_10 D 477295 477294     23\n",
      " 482233 112732        0.3222    10        0.3263        0.3206  2863809    1.73%          rho_10 D 482233 482232     79\n",
      " 487180 114646        0.3257     7        0.3263        0.3206  2896957    1.73%          rho_19 D 487180 487179     50\n",
      " 492405 116951        0.3234     5        0.3263        0.3206  2930446    1.73%           rho_1 D 492405 492404     57\n",
      " 497671 119564        0.3206     4        0.3263        0.3206  2964443    1.73%          rho_10 U 497671 497669     54\n",
      " 502953 121561        0.3206     4        0.3263        0.3206  2996028    1.73%           rho_3 N 502953 502233     40\n",
      " 508617 123800        0.3218     9        0.3263        0.3206  3030110    1.73%          rho_15 N 508617 508467     63\n",
      " 513720 125419        0.3206     8        0.3263        0.3206  3063412    1.73%           rho_3 D 513720 513719     62\n",
      " 518873 127084        0.3233     9        0.3263        0.3206  3098215    1.73%           rho_0 D 518873 518871     51\n",
      " 540300 133659        cutoff              0.3263        0.3206  3229370    1.73%          rho_11 D 540300 540297     53\n",
      "Elapsed time = 140.56 sec. (91377.69 ticks, tree = 37.25 MB, solutions = 3)\n",
      " 561700 138216        0.3234     9        0.3263        0.3206  3349929    1.73%          rho_15 N 561700 560967     45\n",
      " 581965 142897        0.3245    10        0.3263        0.3206  3485968    1.73%           rho_8 D 581965 581963     56\n",
      " 600871 146636        0.3222    12        0.3263        0.3206  3621395    1.73%           rho_9 D 600871 600870     79\n",
      " 620281 150670        0.3250    12        0.3263        0.3206  3765007    1.73%           rho_5 D 620281 620280     41\n",
      " 640119 153345        0.3230     8        0.3263        0.3206  3903570    1.73%           rho_1 U 640119 372720     56\n",
      " 658257 157162        0.3237    12        0.3263        0.3206  4060110    1.73%          rho_10 D 658257 658256     62\n",
      " 678630 163718        0.3253     7        0.3263        0.3206  4196798    1.73%          rho_23 D 678630 678629     54\n",
      " 696992 166546        0.3253    14        0.3263        0.3206  4339301    1.73%           rho_3 N 696992 696960     46\n",
      " 714745 171098        0.3206     5        0.3263        0.3206  4482396    1.73%          rho_10 U 714745 714743     75\n",
      " 733329 174506        0.3206    13        0.3263        0.3206  4620649    1.73%          rho_10 D 733329 733328     75\n",
      "Elapsed time = 198.28 sec. (129525.69 ticks, tree = 48.04 MB, solutions = 3)\n",
      "\n",
      "User cuts applied:  198\n",
      "\n",
      "Root node processing (before b&c):\n",
      "  Real time             =    0.48 sec. (1.11 ticks)\n",
      "Sequential b&c:\n",
      "  Real time             =  199.53 sec. (130583.02 ticks)\n",
      "                          ------------\n",
      "Total (root+branch&cut) =  200.01 sec. (130584.13 ticks)\n",
      "+----------------------------------------------+------------------+-----------+\n",
      "| Pr(Y = +1) = 1.0/(1.0 + exp(-(-3 + score))   |                  |           |\n",
      "| ============================================ | ================ | ========= |\n",
      "| p_arrest>=5                                  |         1 points |   + ..... |\n",
      "| p_drug>=1                                    |         1 points |   + ..... |\n",
      "| p_pending_charge>=1                          |         1 points |   + ..... |\n",
      "| ============================================ | ================ | ========= |\n",
      "| ADD POINTS FROM ROWS 1 to 3                  |            SCORE |   = ..... |\n",
      "+----------------------------------------------+------------------+-----------+\n",
      "model_id, score_thresholds 0 {'rank_abs': [0]}\n",
      "get_disparity_predefined_group()\n"
     ]
    },
    {
     "name": "stderr",
     "output_type": "stream",
     "text": [
      "C:\\Users\\binha\\Documents\\Duke\\Cynthia Research\\psa-analysis - test2\\utils\\fairness_functions.py:82: RuntimeWarning:\n",
      "\n",
      "invalid value encountered in longlong_scalars\n",
      "\n",
      "C:\\Users\\binha\\Documents\\Duke\\Cynthia Research\\psa-analysis - test2\\utils\\fairness_functions.py:95: RuntimeWarning:\n",
      "\n",
      "divide by zero encountered in longlong_scalars\n",
      "\n"
     ]
    },
    {
     "name": "stdout",
     "output_type": "stream",
     "text": [
      "setting c0 = 0.0 to ensure that intercept is not penalized\n",
      "10/01/19 @ 02:04 PM | 1061 rows in lookup table\n",
      "10/01/19 @ 02:04 PM | ------------------------------------------------------------\n",
      "10/01/19 @ 02:04 PM | runnning initialization procedure\n",
      "10/01/19 @ 02:04 PM | ------------------------------------------------------------\n",
      "10/01/19 @ 02:04 PM | CPA produced 2 cuts\n",
      "10/01/19 @ 02:04 PM | running naive rounding on 55 solutions\n",
      "10/01/19 @ 02:04 PM | best objective value: 0.3222\n",
      "10/01/19 @ 02:04 PM | rounding produced 5 integer solutions\n",
      "10/01/19 @ 02:04 PM | best objective value is 0.3263\n",
      "10/01/19 @ 02:04 PM | running sequential rounding on 55 solutions\n",
      "10/01/19 @ 02:04 PM | best objective value: 0.3222\n",
      "10/01/19 @ 02:05 PM | sequential rounding produced 3 integer solutions\n",
      "10/01/19 @ 02:05 PM | best objective value: 0.3263\n",
      "10/01/19 @ 02:05 PM | polishing 8 solutions\n",
      "10/01/19 @ 02:05 PM | best objective value: 0.3263\n",
      "10/01/19 @ 02:05 PM | polishing produced 4 integer solutions\n",
      "10/01/19 @ 02:05 PM | initialization produced 9 feasible solutions\n",
      "10/01/19 @ 02:05 PM | best objective value: 0.3263\n",
      "10/01/19 @ 02:05 PM | ------------------------------------------------------------\n",
      "10/01/19 @ 02:05 PM | completed initialization procedure\n",
      "10/01/19 @ 02:05 PM | ------------------------------------------------------------\n",
      "10/01/19 @ 02:05 PM | 1061 rows in lookup table\n",
      "CPXPARAM_Read_DataCheck                          1\n",
      "CPXPARAM_Threads                                 1\n",
      "CPXPARAM_Parallel                                1\n",
      "CPXPARAM_RandomSeed                              0\n",
      "CPXPARAM_TimeLimit                               200\n",
      "CPXPARAM_MIP_Tolerances_LowerCutoff              0.32064711423009645\n",
      "CPXPARAM_MIP_Tolerances_UpperCutoff              0.32629957987671498\n"
     ]
    },
    {
     "name": "stderr",
     "output_type": "stream",
     "text": [
      "Warning: Control callbacks may disable some MIP features.\n"
     ]
    },
    {
     "name": "stdout",
     "output_type": "stream",
     "text": [
      "Lazy constraint(s) or lazy constraint callback is present.\n",
      "    Disabling dual reductions (CPX_PARAM_REDUCE) in presolve.\n",
      "    Disabling non-linear reductions (CPX_PARAM_PRELINEAR) in presolve.\n",
      "         Disabling repeat represolve because of lazy constraint/incumbent callback.\n",
      "10/01/19 @ 02:05 PM | adding 195 initial cuts\n",
      "1 of 1 MIP starts provided solutions.\n",
      "MIP start 'mip_start_0' defined initial solution with objective 0.3263.\n",
      "Tried aggregator 1 time.\n",
      "Reduced MIP has 26 rows, 52 columns, and 99 nonzeros.\n",
      "Reduced MIP has 24 binaries, 26 generals, 0 SOSs, and 0 indicators.\n",
      "Presolve time = 0.02 sec. (0.05 ticks)\n",
      "Probing time = 0.00 sec. (0.01 ticks)\n",
      "MIP emphasis: balance optimality and feasibility.\n",
      "MIP search method: traditional branch-and-cut.\n",
      "Parallel mode: none, using 1 thread.\n",
      "Root relaxation solution time = 0.00 sec. (0.03 ticks)\n",
      "\n",
      "        Nodes                                         Cuts/\n",
      "   Node  Left     Objective  IInf  Best Integer    Best Bound    ItCnt     Gap         Variable B NodeID Parent  Depth\n",
      "\n",
      "*     0+    0                            0.3263        0.3206             1.74%\n",
      "      0     0        0.3206     1        0.3263        0.3206        1    1.73%\n",
      "      0     0        0.3206     1        0.3263      Fract: 2        3    1.73%\n",
      "      0     0        0.3206     2        0.3263    MIRcuts: 1        4    1.73%\n",
      "      0     2        0.3206     2        0.3263        0.3206        4    1.73%                        0             0\n",
      "Elapsed time = 0.27 sec. (1.71 ticks, tree = 0.01 MB, solutions = 1)\n",
      "   4010  1356        0.3246     6        0.3263        0.3206    15399    1.73%          rho_23 D   4010   4009     70\n",
      "   7672  2543        0.3235     5        0.3263        0.3206    28912    1.73%          rho_11 U   7672   7663     55\n",
      "  11146  3459        0.3235     5        0.3263        0.3206    42171    1.73%          rho_11 U  11146  11140     65\n",
      "  14609  4273        0.3248     8        0.3263        0.3206    54877    1.73%           rho_0 D  14609  14608     71\n",
      "  17377  4760        0.3241     2        0.3263        0.3206    65275    1.73%          rho_20 D  17377  17376     63\n",
      "  20398  5580        cutoff              0.3263        0.3206    76518    1.73%          rho_23 U  20398  20396     74\n",
      "  23325  6064        0.3254     5        0.3263        0.3206    89305    1.73%          rho_24 N  23325  23289     98\n",
      "  25856  6740        0.3211     4        0.3263        0.3206    99606    1.73%          rho_10 U  25856  25854     49\n",
      "  28340  7629        cutoff              0.3263        0.3206   108897    1.73%           rho_0 U  28340  28339     40\n",
      "  37460 10480        0.3206     5        0.3263        0.3206   151797    1.73%           rho_1 N  37460  37459     72\n",
      "Elapsed time = 8.16 sec. (3101.79 ticks, tree = 2.78 MB, solutions = 1)\n",
      "  46864 13692        0.3206     4        0.3263        0.3206   192124    1.73%          rho_10 N  46864  40968     37\n",
      "  55794 16381        0.3210    11        0.3263        0.3206   230644    1.73%          rho_22 U  55794  42674     42\n",
      "  63341 18240        0.3210     9        0.3263        0.3206   269758    1.73%           rho_0 N  63341  63339     52\n",
      "  71477 20908        0.3220     9        0.3263        0.3206   309687    1.73%          rho_15 D  71477  71475     39\n",
      "  80354 24098        0.3211    15        0.3263        0.3206   347077    1.73%          rho_11 D  80354  80353     46\n",
      "  87970 27152        0.3206     7        0.3263        0.3206   389844    1.73%           rho_0 D  87970  87968     49\n",
      "  95490 30376        0.3211    17        0.3263        0.3206   432641    1.73%           rho_2 D  95490  95488     39\n",
      "* 97580+31145                            0.3263        0.3206             1.73%\n",
      " 104050 34009        0.3215     9        0.3263        0.3206   466699    1.73%          rho_23 D 104050 104049     53\n",
      " 111840 36401        0.3222     8        0.3263        0.3206   499119    1.73%           rho_3 D 111840 111839     44\n",
      " 119090 38512        0.3248    11        0.3263        0.3206   536242    1.73%          rho_13 D 119090 119088     74\n",
      "Elapsed time = 25.11 sec. (12640.77 ticks, tree = 10.66 MB, solutions = 2)\n",
      " 125384 39866        0.3215     6        0.3263        0.3206   575074    1.73%          rho_11 N 125384 113653     38\n",
      " 131928 40170        cutoff              0.3263        0.3206   603420    1.73%          rho_15 D 131928 131927     64\n",
      " 138241 41481        0.3233    10        0.3263        0.3206   640856    1.73%           rho_3 U 138241 138230     62\n",
      " 143850 42512        0.3206    11        0.3263        0.3206   683138    1.73%           rho_1 N 143850  90593     67\n",
      " 150891 43999        0.3248     4        0.3263        0.3206   714842    1.73%           rho_4 D 150891 150890     70\n",
      " 157717 43986        0.3217     6        0.3263        0.3206   739526    1.73%          rho_10 D 157717 157716     44\n",
      " 165816 46116        0.3237     5        0.3263        0.3206   773472    1.73%           rho_7 D 165816 165815     69\n",
      " 173812 47793        0.3239     3        0.3263        0.3206   803866    1.73%           rho_4 U 173812 173801     50\n",
      " 180080 48587        0.3206     5        0.3263        0.3206   837489    1.73%           rho_1 D 180080  44333     83\n",
      " 185555 50043        0.3255     5        0.3263        0.3206   876618    1.73%           rho_0 N 185555 185554     38\n",
      "Elapsed time = 43.47 sec. (22178.56 ticks, tree = 13.15 MB, solutions = 2)\n",
      " 191550 51816        cutoff              0.3263        0.3206   914439    1.73%          rho_24 U 191550 191549     68\n",
      " 198388 53695        0.3230     4        0.3263        0.3206   946050    1.73%           rho_1 N 198388 198256     78\n",
      " 205112 55183        0.3219     7        0.3263        0.3206   975312    1.73%           rho_0 D 205112 205110     54\n",
      " 210799 56390        0.3246    13        0.3263        0.3206  1010114    1.73%          rho_15 U 210799  54189     58\n",
      " 216250 57386        0.3210    11        0.3263        0.3206  1046235    1.73%           rho_4 D 216250 216249     80\n",
      " 221904 58326        0.3231    14        0.3263        0.3206  1085464    1.73%          rho_10 D 221904 221903     24\n",
      " 228586 59311        0.3206     6        0.3263        0.3206  1119824    1.73%           rho_0 D 228586 228584     46\n",
      " 234565 61122        cutoff              0.3263        0.3206  1155399    1.73%           rho_3 U 234565 234564     86\n",
      " 239640 62032        0.3250    13        0.3263        0.3206  1192621    1.73%           rho_0 D 239640 239639     36\n",
      " 244126 61829        0.3213     8        0.3263        0.3206  1233010    1.73%           rho_2 U 244126  79985     44\n",
      "Elapsed time = 55.34 sec. (31716.78 ticks, tree = 15.73 MB, solutions = 2)\n",
      " 248934 61966        0.3206     9        0.3263        0.3206  1273656    1.73%          rho_22 D 248934  72248     75\n",
      " 254300 62542        0.3255     5        0.3263        0.3206  1312316    1.73%          rho_21 D 254300 254299     84\n",
      " 260586 63883        0.3254     5        0.3263        0.3206  1348140    1.73%          rho_19 D 260586 260584     89\n",
      " 266494 66597        cutoff              0.3263        0.3206  1387076    1.73%           rho_0 U 266494 266493     51\n",
      " 272072 68099        0.3252     6        0.3263        0.3206  1425526    1.73%           rho_0 D 272072 272069     67\n",
      " 277520 69187        0.3245    15        0.3263        0.3206  1465585    1.73%          rho_13 D 277520 277518     82\n",
      " 282747 70240        0.3250     8        0.3263        0.3206  1502087    1.73%           rho_6 N 282747 231003     50\n",
      " 287773 71145        0.3237    15        0.3263        0.3206  1538537    1.73%          rho_21 D 287773  48502     38\n",
      " 292883 72482        0.3206     7        0.3263        0.3206  1576723    1.73%           rho_0 D 292883 292843     29\n",
      " 298102 74292        0.3227    12        0.3263        0.3206  1616271    1.73%           rho_6 D 298102 298100     44\n",
      "Elapsed time = 64.97 sec. (41254.93 ticks, tree = 21.25 MB, solutions = 2)\n",
      " 302688 74956        cutoff              0.3263        0.3206  1658512    1.73%          rho_22 U 302688 302686     45\n",
      " 307209 76114        0.3259    11        0.3263        0.3206  1700873    1.73%          rho_22 D 307209 307208     56\n",
      " 311646 77533        0.3207     7        0.3263        0.3206  1738968    1.73%          rho_14 U 311646 294437     46\n",
      " 316800 79531        0.3206     9        0.3263        0.3206  1775860    1.73%          rho_14 N 316800 316556     44\n",
      " 322370 82244        0.3227    12        0.3263        0.3206  1815308    1.73%          rho_22 N 322370 318713     38\n",
      " 327281 84007        0.3238     8        0.3263        0.3206  1852856    1.73%          rho_14 N 327281 327280     20\n",
      " 332430 85855        cutoff              0.3263        0.3206  1888627    1.73%           rho_0 D 332430 332428     47\n",
      " 337690 87574        cutoff              0.3263        0.3206  1924455    1.73%          rho_14 D 337690 337688     80\n",
      " 342774 89261        0.3235    11        0.3263        0.3206  1959664    1.73%          rho_23 D 342774 342773     54\n",
      " 348299 91358        cutoff              0.3263        0.3206  1997474    1.73%          rho_14 U 348299 348298     23\n",
      "Elapsed time = 73.19 sec. (50793.15 ticks, tree = 24.86 MB, solutions = 2)\n",
      " 353386 92537        0.3250     8        0.3263        0.3206  2033429    1.73%           rho_6 U 353386 285401     34\n",
      " 358365 93421        0.3261    15        0.3263        0.3206  2069783    1.73%           rho_0 D 358365 358363     26\n",
      " 363206 94322        cutoff              0.3263        0.3206  2110817    1.73%          rho_19 U 363206 363205     43\n",
      " 368435 95513        0.3246     8        0.3263        0.3206  2149579    1.73%          rho_23 D 368435 368433     68\n",
      " 374032 96877        0.3206    11        0.3263        0.3206  2190244    1.73%           rho_6 D 374032 263413     80\n",
      " 379180 98122        0.3256    14        0.3263        0.3206  2230994    1.73%           rho_3 D 379180 379179     70\n",
      " 384262 99091        0.3252    10        0.3263        0.3206  2270373    1.73%          rho_22 U 384262 224590     54\n",
      " 390257 101039        cutoff              0.3263        0.3206  2305128    1.73%          rho_22 U 390257 390255     66\n",
      " 396580 103409        0.3206     7        0.3263        0.3206  2337344    1.73%           rho_0 D 396580 396578     42\n",
      " 401663 105430        0.3256    14        0.3263        0.3206  2378335    1.73%           rho_3 D 401663 401662     83\n",
      "Elapsed time = 80.31 sec. (60331.26 ticks, tree = 27.88 MB, solutions = 2)\n",
      " 406839 106573        0.3206    11        0.3263        0.3206  2414256    1.73%           rho_1 N 406839 406820     51\n",
      " 411033 108220        0.3225    15        0.3263        0.3206  2456368    1.73%          rho_15 D 411033 411032     90\n",
      " 415140 109111        cutoff              0.3263        0.3206  2497546    1.73%           rho_2 D 415140 415138     57\n",
      " 419569 110384        0.3207    17        0.3263        0.3206  2537131    1.73%           rho_1 D 419569 419568     57\n",
      " 424212 111993        0.3206     9        0.3263        0.3206  2577772    1.73%          rho_14 D 424212 317684     50\n",
      " 428850 112866        cutoff              0.3263        0.3206  2616637    1.73%          rho_19 U 428850 428849     91\n",
      " 433070 113214        0.3243    13        0.3263        0.3206  2658075    1.73%          rho_13 D 433070 433069     46\n",
      " 438251 115191        0.3237    12        0.3263        0.3206  2697226    1.73%          rho_19 D 438251 438250     75\n",
      " 442853 116034        cutoff              0.3263        0.3206  2735938    1.73%          rho_19 D 442853 442852     60\n",
      " 448427 117917        0.3206     8        0.3263        0.3206  2772722    1.73%          rho_10 U 448427 448416     49\n",
      "Elapsed time = 86.63 sec. (69869.55 ticks, tree = 30.57 MB, solutions = 2)\n",
      " 453760 119503        0.3252    12        0.3263        0.3206  2810136    1.73%          rho_14 U 453760 453759     51\n",
      " 458680 120427        0.3261     7        0.3263        0.3206  2848363    1.73%           rho_2 U 458680 436459     61\n",
      " 463436 121802        0.3253     7        0.3263        0.3206  2886376    1.73%          rho_10 D 463436 463435     58\n",
      " 469294 122643        0.3224    10        0.3263        0.3206  2918428    1.73%           rho_3 D 469294 469292     57\n",
      " 475208 123550        0.3216     9        0.3263        0.3206  2950775    1.73%          rho_19 D 475208 475207     52\n",
      " 480985 124965        cutoff              0.3263        0.3206  2984162    1.73%           rho_0 D 480985 480984     30\n",
      " 485763 126547        cutoff              0.3263        0.3206  3025720    1.73%           rho_0 U 485763 485762     81\n",
      " 491690 128691        0.3232     7        0.3263        0.3206  3064779    1.73%          rho_19 D 491690 491689     88\n",
      " 497378 130624        0.3235     9        0.3263        0.3206  3101929    1.73%           rho_0 N 497378 497377     57\n",
      " 502553 132151        0.3217    10        0.3263        0.3206  3139873    1.73%           rho_1 D 502553 502552     52\n",
      "Elapsed time = 93.34 sec. (79407.43 ticks, tree = 36.62 MB, solutions = 2)\n",
      " 507414 133054        cutoff              0.3263        0.3206  3179432    1.73%          rho_23 D 507414 507412     50\n",
      " 512526 133902        cutoff              0.3263        0.3206  3218213    1.73%          rho_22 D 512526 512525     61\n",
      " 517075 134451        cutoff              0.3263        0.3206  3258077    1.73%          rho_15 U 517075 517074     45\n",
      " 521720 135646        0.3256    11        0.3263        0.3206  3298084    1.73%          rho_15 U 521720 521719     41\n",
      " 526640 137469        0.3240     7        0.3263        0.3206  3339452    1.73%           rho_2 D 526640 526639     52\n",
      " 531182 138973        0.3253     9        0.3263        0.3206  3383634    1.73%           rho_6 U 531182 531181     70\n",
      " 536157 139615        0.3206     8        0.3263        0.3206  3423774    1.73%          rho_10 U 536157 536081     69\n",
      " 540120 140212        0.3247    12        0.3263        0.3206  3467425    1.73%          rho_19 D 540120 540119     28\n",
      " 544663 140494        0.3247    12        0.3263        0.3206  3506454    1.73%          rho_19 D 544663 544662     56\n",
      " 570458 147068        cutoff              0.3263        0.3209  3633781    1.66%           rho_0 U 570458 570456     57\n",
      "Elapsed time = 102.80 sec. (91806.32 ticks, tree = 39.89 MB, solutions = 2)\n",
      " 596907 151283        0.3263     1        0.3263        0.3210  3742921    1.62%          rho_22 U 596907 596906     60\n",
      " 621207 157268        0.3221    12        0.3263        0.3211  3859208    1.59%           rho_0 U 621207 621206     35\n",
      " 643981 160100        0.3221    10        0.3263        0.3213  3968037    1.54%           rho_3 D 643981 643980     30\n",
      " 668020 162312        0.3243    13        0.3263        0.3214  4069153    1.51%          rho_15 U 668020 410110     43\n",
      " 694880 171283        0.3223     8        0.3263        0.3214  4165860    1.49%          rho_10 D 694880 694879     37\n",
      " 718810 177622        0.3247    15        0.3263        0.3215  4282263    1.47%          rho_15 N 718810 718809     34\n",
      " 743985 180622        0.3225    15        0.3263        0.3217  4388466    1.42%          rho_10 D 743985 743984     50\n",
      " 769462 183612        cutoff              0.3263        0.3218  4484584    1.37%          rho_22 U 769462 769460     61\n",
      " 792526 181855        cutoff              0.3263        0.3219  4604179    1.34%          rho_14 D 792526 463176     44\n",
      " 816173 183195        0.3221     7        0.3263        0.3220  4715389    1.30%           rho_4 U 816173 654512     69\n",
      "Elapsed time = 133.72 sec. (129954.14 ticks, tree = 49.43 MB, solutions = 2)\n",
      " 839000 183727        0.3221    12        0.3263        0.3221  4820175    1.28%           rho_4 D 839000 780205     49\n",
      " 862573 183880        0.3246    15        0.3263        0.3222  4925730    1.26%           rho_1 D 862573 310773     33\n",
      " 884793 184093        cutoff              0.3263        0.3223  5042260    1.23%           rho_1 U 884793 596510     54\n",
      " 909837 184911        0.3232     5        0.3263        0.3224  5148151    1.18%           rho_2 D 909837 909836     46\n",
      " 934890 183223        cutoff              0.3263        0.3225  5261529    1.16%          rho_20 D 934890 934889     38\n",
      " 957949 183892        cutoff              0.3263        0.3227  5368682    1.11%          rho_12 U 957949 103710     37\n",
      " 983050 183938        0.3235     5        0.3263        0.3228  5467954    1.06%          rho_10 D 983050 983049     86\n",
      " 1006329 181227        cutoff              0.3263        0.3230  5570361    1.01%          rho_10 D 1006329 1006328     54\n",
      " 1031038 182597        cutoff              0.3263        0.3231  5664497    0.98%          rho_11 U 1031038 1031036     96\n",
      " 1055165 180265        0.3246     8        0.3263        0.3232  5763864    0.94%           rho_7 D 1055165 1055163     44\n",
      "Elapsed time = 171.33 sec. (168102.75 ticks, tree = 48.85 MB, solutions = 2)\n",
      " 1078810 182058        0.3233    17        0.3263        0.3233  5864229    0.91%          rho_10 U 1078810 1078808     43\n",
      " 1101875 179234        cutoff              0.3263        0.3234  5969883    0.88%           rho_4 U 1101875 1101873     57\n",
      " 1124750 177317        0.3253     8        0.3263        0.3235  6066188    0.86%           rho_3 U 1124750 1124749     43\n",
      " 1149229 175379        0.3255    17        0.3263        0.3236  6164205    0.83%          rho_19 D 1149229 1149228     39\n",
      " 1172697 169951        cutoff              0.3263        0.3237  6273164    0.81%           rho_7 U 1172697 1172696     69\n",
      " 1198519 162763        cutoff              0.3263        0.3238  6378626    0.77%           rho_4 U 1198519 1041061     51\n",
      " 1222928 156084        0.3258    11        0.3263        0.3239  6480872    0.74%          rho_22 D 1222928 1222927     67\n",
      " 1249700 145601        0.3244     9        0.3263        0.3241  6586313    0.69%           rho_8 D 1249700 1249698     40\n",
      "\n",
      "Gomory fractional cuts applied:  1\n",
      "User cuts applied:  181\n",
      "\n",
      "Root node processing (before b&c):\n",
      "  Real time             =    0.27 sec. (1.72 ticks)\n",
      "Sequential b&c:\n",
      "  Real time             =  199.75 sec. (200799.82 ticks)\n",
      "                          ------------\n",
      "Total (root+branch&cut) =  200.02 sec. (200801.54 ticks)\n",
      "+----------------------------------------------+------------------+-----------+\n",
      "| Pr(Y = +1) = 1.0/(1.0 + exp(-(-4 + score))   |                  |           |\n",
      "| ============================================ | ================ | ========= |\n",
      "| p_charges>=1                                 |         1 points |   + ..... |\n",
      "| p_drug>=1                                    |         1 points |   + ..... |\n",
      "| p_pending_charge>=1                          |         1 points |   + ..... |\n",
      "| ============================================ | ================ | ========= |\n",
      "| ADD POINTS FROM ROWS 1 to 3                  |            SCORE |   = ..... |\n",
      "+----------------------------------------------+------------------+-----------+\n",
      "model_id, score_thresholds 0 {'rank_abs': [0]}\n",
      "get_disparity_predefined_group()\n"
     ]
    },
    {
     "name": "stderr",
     "output_type": "stream",
     "text": [
      "C:\\Users\\binha\\Documents\\Duke\\Cynthia Research\\psa-analysis - test2\\utils\\fairness_functions.py:82: RuntimeWarning:\n",
      "\n",
      "invalid value encountered in longlong_scalars\n",
      "\n",
      "C:\\Users\\binha\\Documents\\Duke\\Cynthia Research\\psa-analysis - test2\\utils\\fairness_functions.py:95: RuntimeWarning:\n",
      "\n",
      "divide by zero encountered in longlong_scalars\n",
      "\n",
      "C:\\Users\\binha\\Documents\\Duke\\Cynthia Research\\psa-analysis - test2\\utils\\fairness_functions.py:86: RuntimeWarning:\n",
      "\n",
      "invalid value encountered in longlong_scalars\n",
      "\n",
      "C:\\Users\\binha\\Documents\\Duke\\Cynthia Research\\psa-analysis - test2\\utils\\fairness_functions.py:95: RuntimeWarning:\n",
      "\n",
      "invalid value encountered in longlong_scalars\n",
      "\n"
     ]
    }
   ],
   "source": [
    "riskslim_summary = slim.risk_cv(X=sub_X, \n",
    "                                Y=sub_Y, \n",
    "                                indicator = indicator,\n",
    "                                y_label='drug2', \n",
    "                                max_coef=20, \n",
    "                                max_coef_number=10, \n",
    "                                max_runtime=200, \n",
    "                                c=1e-6, \n",
    "                                seed=816)"
   ]
  },
  {
   "cell_type": "code",
   "execution_count": 23,
   "metadata": {},
   "outputs": [
    {
     "data": {
      "text/plain": [
       "(0.6456034731987188, 0.6451273311172165)"
      ]
     },
     "execution_count": 23,
     "metadata": {},
     "output_type": "execute_result"
    }
   ],
   "source": [
    "np.mean(riskslim_summary['train_auc']), np.mean(riskslim_summary['test_auc'])"
   ]
  },
  {
   "cell_type": "markdown",
   "metadata": {},
   "source": [
    "## Arnold PSA"
   ]
  },
  {
   "cell_type": "code",
   "execution_count": 24,
   "metadata": {},
   "outputs": [],
   "source": [
    "### load data\n",
    "data = pd.read_csv(\"~/Documents/Duke/Cynthia Research/KY-analysis-mytrials/KY Recidivism/KY data/kentucky_data.csv\")\n",
    "X_arnold = data['nca_risk_score_raw'].values\n",
    "Y_arnold = data['recid_drug_two_year'].values\n",
    "\n",
    "## set up cross validation\n",
    "cv = KFold(n_splits=5,shuffle=True,random_state=816)\n",
    "arnold_auc = []\n",
    "for train, test in cv.split(X_arnold, Y_arnold):\n",
    "    y_pred_arnold, y_test = X_arnold[test], Y_arnold[test]\n",
    "    arnold_auc.append(roc_auc_score(y_test, y_pred_arnold))"
   ]
  },
  {
   "cell_type": "markdown",
   "metadata": {},
   "source": [
    "### Corel"
   ]
  },
  {
   "cell_type": "code",
   "execution_count": 2,
   "metadata": {},
   "outputs": [],
   "source": [
    "## load stumps data\n",
    "data = pd.read_csv(\"~/Documents/Duke/Cynthia Research/KY-analysis-mytrials/KY Recidivism/KY data/kentucky_stumps.csv\")\n",
    "x, y = data.loc[:,:'current_violence>=1'], data['recid_drug_two_year'].values\n",
    "y[y == -1] = 0"
   ]
  },
  {
   "cell_type": "code",
   "execution_count": 3,
   "metadata": {
    "scrolled": true
   },
   "outputs": [
    {
     "name": "stderr",
     "output_type": "stream",
     "text": [
      "C:\\Users\\binha\\Documents\\Duke\\Cynthia Research\\psa-analysis - test2\\utils\\fairness_functions.py:82: RuntimeWarning:\n",
      "\n",
      "invalid value encountered in longlong_scalars\n",
      "\n",
      "C:\\Users\\binha\\Documents\\Duke\\Cynthia Research\\psa-analysis - test2\\utils\\fairness_functions.py:95: RuntimeWarning:\n",
      "\n",
      "divide by zero encountered in longlong_scalars\n",
      "\n",
      "C:\\Users\\binha\\Documents\\Duke\\Cynthia Research\\psa-analysis - test2\\utils\\fairness_functions.py:86: RuntimeWarning:\n",
      "\n",
      "invalid value encountered in longlong_scalars\n",
      "\n",
      "C:\\Users\\binha\\Documents\\Duke\\Cynthia Research\\psa-analysis - test2\\utils\\fairness_functions.py:95: RuntimeWarning:\n",
      "\n",
      "invalid value encountered in longlong_scalars\n",
      "\n",
      "C:\\Users\\binha\\Documents\\Duke\\Cynthia Research\\psa-analysis - test2\\utils\\fairness_functions.py:82: RuntimeWarning:\n",
      "\n",
      "invalid value encountered in longlong_scalars\n",
      "\n",
      "C:\\Users\\binha\\Documents\\Duke\\Cynthia Research\\psa-analysis - test2\\utils\\fairness_functions.py:95: RuntimeWarning:\n",
      "\n",
      "divide by zero encountered in longlong_scalars\n",
      "\n",
      "C:\\Users\\binha\\Documents\\Duke\\Cynthia Research\\psa-analysis - test2\\utils\\fairness_functions.py:86: RuntimeWarning:\n",
      "\n",
      "invalid value encountered in longlong_scalars\n",
      "\n",
      "C:\\Users\\binha\\Documents\\Duke\\Cynthia Research\\psa-analysis - test2\\utils\\fairness_functions.py:95: RuntimeWarning:\n",
      "\n",
      "invalid value encountered in longlong_scalars\n",
      "\n",
      "C:\\Users\\binha\\Documents\\Duke\\Cynthia Research\\psa-analysis - test2\\utils\\fairness_functions.py:82: RuntimeWarning:\n",
      "\n",
      "invalid value encountered in longlong_scalars\n",
      "\n",
      "C:\\Users\\binha\\Documents\\Duke\\Cynthia Research\\psa-analysis - test2\\utils\\fairness_functions.py:95: RuntimeWarning:\n",
      "\n",
      "divide by zero encountered in longlong_scalars\n",
      "\n",
      "C:\\Users\\binha\\Documents\\Duke\\Cynthia Research\\psa-analysis - test2\\utils\\fairness_functions.py:82: RuntimeWarning:\n",
      "\n",
      "invalid value encountered in longlong_scalars\n",
      "\n",
      "C:\\Users\\binha\\Documents\\Duke\\Cynthia Research\\psa-analysis - test2\\utils\\fairness_functions.py:95: RuntimeWarning:\n",
      "\n",
      "divide by zero encountered in longlong_scalars\n",
      "\n",
      "C:\\Users\\binha\\Documents\\Duke\\Cynthia Research\\psa-analysis - test2\\utils\\fairness_functions.py:82: RuntimeWarning:\n",
      "\n",
      "invalid value encountered in longlong_scalars\n",
      "\n",
      "C:\\Users\\binha\\Documents\\Duke\\Cynthia Research\\psa-analysis - test2\\utils\\fairness_functions.py:95: RuntimeWarning:\n",
      "\n",
      "divide by zero encountered in longlong_scalars\n",
      "\n",
      "C:\\Users\\binha\\Documents\\Duke\\Cynthia Research\\psa-analysis - test2\\utils\\fairness_functions.py:86: RuntimeWarning:\n",
      "\n",
      "invalid value encountered in longlong_scalars\n",
      "\n",
      "C:\\Users\\binha\\Documents\\Duke\\Cynthia Research\\psa-analysis - test2\\utils\\fairness_functions.py:95: RuntimeWarning:\n",
      "\n",
      "invalid value encountered in longlong_scalars\n",
      "\n"
     ]
    }
   ],
   "source": [
    "corel_summary = Corel.corel_cv(x, y, max_card=1, c=1e-4, seed=816)"
   ]
  },
  {
   "cell_type": "code",
   "execution_count": 4,
   "metadata": {},
   "outputs": [
    {
     "data": {
      "text/plain": [
       "(0.5, 0.0)"
      ]
     },
     "execution_count": 4,
     "metadata": {},
     "output_type": "execute_result"
    }
   ],
   "source": [
    "np.mean(corel_summary['test_auc']), np.std(corel_summary['test_auc'])"
   ]
  },
  {
   "cell_type": "markdown",
   "metadata": {},
   "source": [
    "### Results"
   ]
  },
  {
   "cell_type": "code",
   "execution_count": 28,
   "metadata": {},
   "outputs": [
    {
     "name": "stdout",
     "output_type": "stream",
     "text": [
      "Stored 'summary_drug2_KY_interpret' (dict)\n"
     ]
    }
   ],
   "source": [
    "#### save results\n",
    "summary_drug2_KY_interpret = {\"CART\": cart_summary,\n",
    "                              \"EBM\": ebm_summary, \n",
    "                              'Lasso Stumps': stump_summary, \n",
    "                              'RiskSLIM': riskslim_summary, \n",
    "                              'Corel': corel_summary,\n",
    "                              'Arnold PSA': arnold_auc}\n",
    "%store summary_drug2_KY_interpret"
   ]
  },
  {
   "cell_type": "code",
   "execution_count": 29,
   "metadata": {},
   "outputs": [
    {
     "data": {
      "text/plain": [
       "[['CART', 0.6744735025112601, 0.02335245894486131],\n",
       " ['EBM', 0.6846651351140988, 0.008607470048040588],\n",
       " ['Lasso Stumps', 0.6773238025192108, 0.0008633544053707753],\n",
       " ['RiskSLIM', 0.6451273311172165],\n",
       " ['Corel', 0.5],\n",
       " ['Arnold PSA', 0.642]]"
      ]
     },
     "execution_count": 29,
     "metadata": {},
     "output_type": "execute_result"
    }
   ],
   "source": [
    "results = [[\"CART\", np.mean(cart_summary['holdout_test_auc']), np.mean(cart_summary['auc_diffs'])],\n",
    "           [\"EBM\", np.mean(ebm_summary['holdout_test_auc']), np.mean(ebm_summary['auc_diffs'])], \n",
    "           [\"Lasso Stumps\", np.mean(stump_summary['holdout_test_auc']), np.mean(stump_summary['auc_diffs'])],\n",
    "           ['RiskSLIM', np.mean(riskslim_summary['test_auc'])],\n",
    "           ['Corel', np.mean(corel_summary['test_auc'])],\n",
    "           ['Arnold PSA', round(np.mean(arnold_auc), 3)]]\n",
    "results"
   ]
  },
  {
   "cell_type": "code",
   "execution_count": 30,
   "metadata": {},
   "outputs": [],
   "source": [
    "auc = [np.mean(cart_summary['holdout_test_auc']), \n",
    "       np.mean(ebm_summary['holdout_test_auc']), \n",
    "       np.mean(stump_summary['holdout_test_auc']), \n",
    "       np.mean(riskslim_summary['test_auc']), \n",
    "       np.mean(corel_summary['test_auc'])]"
   ]
  },
  {
   "cell_type": "code",
   "execution_count": 33,
   "metadata": {},
   "outputs": [],
   "source": [
    "path = \"C:/Users/binha/Documents/Duke/Cynthia Research/KY-analysis-mytrials/KY Recidivism/KY Results/Models/Two Year/\"\n",
    "results = [[\"Drug\", np.str((round(np.mean(cart_summary['holdout_test_auc']), 3))) + \" (\" + np.str(round(np.std(cart_summary['holdout_test_auc']), 3)) + \")\", \n",
    "            np.str(round(np.mean(ebm_summary['holdout_test_auc']),3)) + \" (\" + np.str(round(np.std(ebm_summary['holdout_test_auc']), 3)) + \")\", \n",
    "            np.str(round(np.mean(stump_summary['holdout_test_auc']),3)) + \" (\" + np.str(round(np.std(stump_summary['holdout_test_auc']), 3)) + \")\",             \n",
    "            np.str(round(np.mean(riskslim_summary['test_auc']),3)) + \" (\" + np.str(round(np.std(riskslim_summary['test_auc']), 3)) + \")\", \n",
    "            np.str(round(np.mean(corel_summary['test_auc']),3)) + \" (\" + np.str(round(np.std(corel_summary['test_auc']), 3)) + \")\", \n",
    "            round(np.max(auc) - np.min(auc), 3),\n",
    "            np.str(round(np.mean(arnold_auc), 3)) + \" (\" + np.str(round(np.std(arnold_auc),3)) + \")\"]]\n",
    "with open(path + 'Interpretable Models Summary.csv', 'a') as writeFile:\n",
    "    writer = csv.writer(writeFile)\n",
    "    writer.writerows(results)"
   ]
  },
  {
   "cell_type": "code",
   "execution_count": 32,
   "metadata": {},
   "outputs": [],
   "source": [
    "cart_confusion = cart_summary['confusion_matrix_stats']\n",
    "ebm_confusion = ebm_summary['confusion_matrix_stats']\n",
    "riskslim_confusion = riskslim_summary['confusion_matrix_stats']\n",
    "stumps_confusion = stump_summary['confusion_matrix_stats']\n",
    "corel_confusion = corel_summary['confusion_matrix_stats']\n",
    "#arnold_confusion = cart_summary['confusion_matrix_stats']\n",
    "\n",
    "## save results\n",
    "cart_confusion.to_csv(r'C:/Users/binha/Documents/Duke/Cynthia Research/KY-analysis-mytrials/KY Recidivism/KY Fairness/Two Year/drug/cart_confusion.csv', index=None,header=True)\n",
    "ebm_confusion.to_csv(r'C:/Users/binha/Documents/Duke/Cynthia Research/KY-analysis-mytrials/KY Recidivism/KY Fairness/Two Year/drug/ebm_confusion.csv', index=None,header=True)\n",
    "riskslim_confusion.to_csv(r'C:/Users/binha/Documents/Duke/Cynthia Research/KY-analysis-mytrials/KY Recidivism/KY Fairness/Two Year/drug/riskslim_confusion.csv', index=None,header=True)\n",
    "stumps_confusion.to_csv(r'C:/Users/binha/Documents/Duke/Cynthia Research/KY-analysis-mytrials/KY Recidivism/KY Fairness/Two Year/drug/stumps_confusion.csv', index=None,header=True)\n",
    "corel_confusion.to_csv(r'C:/Users/binha/Documents/Duke/Cynthia Research/KY-analysis-mytrials/KY Recidivism/KY Fairness/Two Year/drug/corel_confusion.csv', index=None,header=True)\n",
    "#arnold_confusion.to_csv(r'C:/Users/binha/Documents/Duke/Cynthia Research/KY-analysis-mytrials/broward/broward models/model fairness/Two Year/general/arnold_confusion.csv', index=None,header=True)"
   ]
  },
  {
   "cell_type": "code",
   "execution_count": 5,
   "metadata": {},
   "outputs": [],
   "source": [
    "corel_confusion = corel_summary['confusion_matrix_stats']\n",
    "corel_confusion.to_csv(r'C:/Users/binha/Documents/Duke/Cynthia Research/KY-analysis-mytrials/KY Recidivism/KY Fairness/Two Year/drug/corel_confusion.csv', index=None,header=True)"
   ]
  }
 ],
 "metadata": {
  "kernelspec": {
   "display_name": "Python 3",
   "language": "python",
   "name": "python3"
  },
  "language_info": {
   "codemirror_mode": {
    "name": "ipython",
    "version": 3
   },
   "file_extension": ".py",
   "mimetype": "text/x-python",
   "name": "python",
   "nbconvert_exporter": "python",
   "pygments_lexer": "ipython3",
   "version": "3.7.4"
  }
 },
 "nbformat": 4,
 "nbformat_minor": 4
}
