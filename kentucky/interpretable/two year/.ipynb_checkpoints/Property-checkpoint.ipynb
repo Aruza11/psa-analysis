{
 "cells": [
  {
   "cell_type": "code",
   "execution_count": 1,
   "metadata": {},
   "outputs": [
    {
     "name": "stdout",
     "output_type": "stream",
     "text": [
      "Current working directory is now:  C:\\Users\\binha\\Documents\\Duke\\Cynthia Research\\psa-analysis - test2\n"
     ]
    },
    {
     "name": "stderr",
     "output_type": "stream",
     "text": [
      "C:\\Users\\binha\\Anaconda3\\lib\\site-packages\\sklearn\\externals\\six.py:31: DeprecationWarning:\n",
      "\n",
      "The module is deprecated in version 0.21 and will be removed in version 0.23 since we've dropped support for Python 2.7. Please rely on the official version of six (https://pypi.org/project/six/).\n",
      "\n"
     ]
    }
   ],
   "source": [
    "import os \n",
    "os.chdir('../../../')\n",
    "print(\"Current working directory is now: \", os.getcwd())\n",
    "\n",
    "import pandas as pd \n",
    "import numpy as np\n",
    "import csv\n",
    "import utils.interpretable_functions as interpret\n",
    "import utils.RiskSLIM as slim\n",
    "import utils.stumps as stumps\n",
    "import utils.Corel as Corel\n",
    "\n",
    "from sklearn.linear_model import LogisticRegression\n",
    "from sklearn.model_selection import KFold, GridSearchCV\n",
    "from sklearn.metrics import roc_auc_score\n",
    "\n",
    "# restore saved variables\n",
    "%store -r summary_property2_KY_interpret"
   ]
  },
  {
   "cell_type": "markdown",
   "metadata": {},
   "source": [
    "### CART & EBM"
   ]
  },
  {
   "cell_type": "code",
   "execution_count": 2,
   "metadata": {},
   "outputs": [],
   "source": [
    "### load data\n",
    "data = pd.read_csv(\"~/Documents/Duke/Cynthia Research/KY-analysis-mytrials/KY Recidivism/KY data/kentucky_data.csv\")\n",
    "data = data.drop(['fta_risk_score_raw','nca_risk_score_raw','pvf_risk_score_raw', \n",
    "                  'fta_calc', 'nca_calc', 'pvf_calc'], axis=1)\n",
    "x = data.loc[:,:'current_violence']\n",
    "y = data['recid_property_two_year'].values"
   ]
  },
  {
   "cell_type": "code",
   "execution_count": 3,
   "metadata": {
    "scrolled": true
   },
   "outputs": [
    {
     "name": "stdout",
     "output_type": "stream",
     "text": [
      "model_id, score_thresholds 0 {'rank_abs': [11]}\n",
      "get_disparity_predefined_group()\n"
     ]
    },
    {
     "name": "stderr",
     "output_type": "stream",
     "text": [
      "C:\\Users\\binha\\Documents\\Duke\\Cynthia Research\\psa-analysis - test2\\utils\\fairness_functions.py:82: RuntimeWarning:\n",
      "\n",
      "invalid value encountered in longlong_scalars\n",
      "\n",
      "C:\\Users\\binha\\Documents\\Duke\\Cynthia Research\\psa-analysis - test2\\utils\\fairness_functions.py:86: RuntimeWarning:\n",
      "\n",
      "invalid value encountered in longlong_scalars\n",
      "\n",
      "C:\\Users\\binha\\Documents\\Duke\\Cynthia Research\\psa-analysis - test2\\utils\\fairness_functions.py:95: RuntimeWarning:\n",
      "\n",
      "invalid value encountered in longlong_scalars\n",
      "\n",
      "C:\\Users\\binha\\Documents\\Duke\\Cynthia Research\\psa-analysis - test2\\utils\\fairness_functions.py:95: RuntimeWarning:\n",
      "\n",
      "divide by zero encountered in longlong_scalars\n",
      "\n"
     ]
    },
    {
     "name": "stdout",
     "output_type": "stream",
     "text": [
      "model_id, score_thresholds 0 {'rank_abs': [8]}\n",
      "get_disparity_predefined_group()\n"
     ]
    },
    {
     "name": "stderr",
     "output_type": "stream",
     "text": [
      "C:\\Users\\binha\\Documents\\Duke\\Cynthia Research\\psa-analysis - test2\\utils\\fairness_functions.py:82: RuntimeWarning:\n",
      "\n",
      "invalid value encountered in longlong_scalars\n",
      "\n",
      "C:\\Users\\binha\\Documents\\Duke\\Cynthia Research\\psa-analysis - test2\\utils\\fairness_functions.py:95: RuntimeWarning:\n",
      "\n",
      "divide by zero encountered in longlong_scalars\n",
      "\n",
      "C:\\Users\\binha\\Documents\\Duke\\Cynthia Research\\psa-analysis - test2\\utils\\fairness_functions.py:86: RuntimeWarning:\n",
      "\n",
      "invalid value encountered in longlong_scalars\n",
      "\n",
      "C:\\Users\\binha\\Documents\\Duke\\Cynthia Research\\psa-analysis - test2\\utils\\fairness_functions.py:95: RuntimeWarning:\n",
      "\n",
      "invalid value encountered in longlong_scalars\n",
      "\n"
     ]
    },
    {
     "name": "stdout",
     "output_type": "stream",
     "text": [
      "model_id, score_thresholds 0 {'rank_abs': [11]}\n",
      "get_disparity_predefined_group()\n"
     ]
    },
    {
     "name": "stderr",
     "output_type": "stream",
     "text": [
      "C:\\Users\\binha\\Documents\\Duke\\Cynthia Research\\psa-analysis - test2\\utils\\fairness_functions.py:95: RuntimeWarning:\n",
      "\n",
      "divide by zero encountered in longlong_scalars\n",
      "\n",
      "C:\\Users\\binha\\Documents\\Duke\\Cynthia Research\\psa-analysis - test2\\utils\\fairness_functions.py:82: RuntimeWarning:\n",
      "\n",
      "invalid value encountered in longlong_scalars\n",
      "\n",
      "C:\\Users\\binha\\Documents\\Duke\\Cynthia Research\\psa-analysis - test2\\utils\\fairness_functions.py:86: RuntimeWarning:\n",
      "\n",
      "invalid value encountered in longlong_scalars\n",
      "\n",
      "C:\\Users\\binha\\Documents\\Duke\\Cynthia Research\\psa-analysis - test2\\utils\\fairness_functions.py:95: RuntimeWarning:\n",
      "\n",
      "invalid value encountered in longlong_scalars\n",
      "\n"
     ]
    },
    {
     "name": "stdout",
     "output_type": "stream",
     "text": [
      "model_id, score_thresholds 0 {'rank_abs': [13]}\n",
      "get_disparity_predefined_group()\n"
     ]
    },
    {
     "name": "stderr",
     "output_type": "stream",
     "text": [
      "C:\\Users\\binha\\Documents\\Duke\\Cynthia Research\\psa-analysis - test2\\utils\\fairness_functions.py:82: RuntimeWarning:\n",
      "\n",
      "invalid value encountered in longlong_scalars\n",
      "\n",
      "C:\\Users\\binha\\Documents\\Duke\\Cynthia Research\\psa-analysis - test2\\utils\\fairness_functions.py:86: RuntimeWarning:\n",
      "\n",
      "invalid value encountered in longlong_scalars\n",
      "\n",
      "C:\\Users\\binha\\Documents\\Duke\\Cynthia Research\\psa-analysis - test2\\utils\\fairness_functions.py:95: RuntimeWarning:\n",
      "\n",
      "invalid value encountered in longlong_scalars\n",
      "\n",
      "C:\\Users\\binha\\Documents\\Duke\\Cynthia Research\\psa-analysis - test2\\utils\\fairness_functions.py:95: RuntimeWarning:\n",
      "\n",
      "divide by zero encountered in longlong_scalars\n",
      "\n"
     ]
    },
    {
     "name": "stdout",
     "output_type": "stream",
     "text": [
      "model_id, score_thresholds 0 {'rank_abs': [14]}\n",
      "get_disparity_predefined_group()\n"
     ]
    },
    {
     "name": "stderr",
     "output_type": "stream",
     "text": [
      "C:\\Users\\binha\\Documents\\Duke\\Cynthia Research\\psa-analysis - test2\\utils\\fairness_functions.py:82: RuntimeWarning:\n",
      "\n",
      "invalid value encountered in longlong_scalars\n",
      "\n",
      "C:\\Users\\binha\\Documents\\Duke\\Cynthia Research\\psa-analysis - test2\\utils\\fairness_functions.py:95: RuntimeWarning:\n",
      "\n",
      "divide by zero encountered in longlong_scalars\n",
      "\n",
      "C:\\Users\\binha\\Documents\\Duke\\Cynthia Research\\psa-analysis - test2\\utils\\fairness_functions.py:86: RuntimeWarning:\n",
      "\n",
      "invalid value encountered in longlong_scalars\n",
      "\n",
      "C:\\Users\\binha\\Documents\\Duke\\Cynthia Research\\psa-analysis - test2\\utils\\fairness_functions.py:95: RuntimeWarning:\n",
      "\n",
      "invalid value encountered in longlong_scalars\n",
      "\n",
      "WARNING:interpret.utils.all:Passing a numpy array to schema autogen when it should be dataframe.\n",
      "WARNING:interpret.utils.all:Passing a numpy array to schema autogen when it should be dataframe.\n",
      "WARNING:interpret.utils.all:Passing a numpy array to schema autogen when it should be dataframe.\n",
      "WARNING:interpret.utils.all:Passing a numpy array to schema autogen when it should be dataframe.\n",
      "WARNING:interpret.utils.all:Passing a numpy array to schema autogen when it should be dataframe.\n",
      "WARNING:interpret.utils.all:Passing a numpy array to schema autogen when it should be dataframe.\n",
      "WARNING:interpret.utils.all:Passing a numpy array to schema autogen when it should be dataframe.\n",
      "WARNING:interpret.utils.all:Passing a numpy array to schema autogen when it should be dataframe.\n",
      "WARNING:interpret.utils.all:Passing a numpy array to schema autogen when it should be dataframe.\n",
      "WARNING:interpret.utils.all:Passing a numpy array to schema autogen when it should be dataframe.\n",
      "WARNING:interpret.utils.all:Passing a numpy array to schema autogen when it should be dataframe.\n",
      "WARNING:interpret.utils.all:Passing a numpy array to schema autogen when it should be dataframe.\n"
     ]
    },
    {
     "name": "stdout",
     "output_type": "stream",
     "text": [
      "model_id, score_thresholds 0 {'rank_abs': [5]}\n",
      "get_disparity_predefined_group()\n"
     ]
    },
    {
     "name": "stderr",
     "output_type": "stream",
     "text": [
      "C:\\Users\\binha\\Documents\\Duke\\Cynthia Research\\psa-analysis - test2\\utils\\fairness_functions.py:82: RuntimeWarning:\n",
      "\n",
      "invalid value encountered in longlong_scalars\n",
      "\n",
      "C:\\Users\\binha\\Documents\\Duke\\Cynthia Research\\psa-analysis - test2\\utils\\fairness_functions.py:95: RuntimeWarning:\n",
      "\n",
      "divide by zero encountered in longlong_scalars\n",
      "\n",
      "C:\\Users\\binha\\Documents\\Duke\\Cynthia Research\\psa-analysis - test2\\utils\\fairness_functions.py:86: RuntimeWarning:\n",
      "\n",
      "invalid value encountered in longlong_scalars\n",
      "\n",
      "C:\\Users\\binha\\Documents\\Duke\\Cynthia Research\\psa-analysis - test2\\utils\\fairness_functions.py:95: RuntimeWarning:\n",
      "\n",
      "invalid value encountered in longlong_scalars\n",
      "\n",
      "WARNING:interpret.utils.all:Passing a numpy array to schema autogen when it should be dataframe.\n",
      "WARNING:interpret.utils.all:Passing a numpy array to schema autogen when it should be dataframe.\n",
      "WARNING:interpret.utils.all:Passing a numpy array to schema autogen when it should be dataframe.\n",
      "WARNING:interpret.utils.all:Passing a numpy array to schema autogen when it should be dataframe.\n",
      "WARNING:interpret.utils.all:Passing a numpy array to schema autogen when it should be dataframe.\n",
      "WARNING:interpret.utils.all:Passing a numpy array to schema autogen when it should be dataframe.\n",
      "WARNING:interpret.utils.all:Passing a numpy array to schema autogen when it should be dataframe.\n",
      "WARNING:interpret.utils.all:Passing a numpy array to schema autogen when it should be dataframe.\n",
      "WARNING:interpret.utils.all:Passing a numpy array to schema autogen when it should be dataframe.\n",
      "WARNING:interpret.utils.all:Passing a numpy array to schema autogen when it should be dataframe.\n",
      "WARNING:interpret.utils.all:Passing a numpy array to schema autogen when it should be dataframe.\n",
      "WARNING:interpret.utils.all:Passing a numpy array to schema autogen when it should be dataframe.\n"
     ]
    },
    {
     "name": "stdout",
     "output_type": "stream",
     "text": [
      "model_id, score_thresholds 0 {'rank_abs': [1]}\n",
      "get_disparity_predefined_group()\n"
     ]
    },
    {
     "name": "stderr",
     "output_type": "stream",
     "text": [
      "C:\\Users\\binha\\Documents\\Duke\\Cynthia Research\\psa-analysis - test2\\utils\\fairness_functions.py:95: RuntimeWarning:\n",
      "\n",
      "divide by zero encountered in longlong_scalars\n",
      "\n",
      "C:\\Users\\binha\\Documents\\Duke\\Cynthia Research\\psa-analysis - test2\\utils\\fairness_functions.py:82: RuntimeWarning:\n",
      "\n",
      "invalid value encountered in longlong_scalars\n",
      "\n",
      "C:\\Users\\binha\\Documents\\Duke\\Cynthia Research\\psa-analysis - test2\\utils\\fairness_functions.py:86: RuntimeWarning:\n",
      "\n",
      "invalid value encountered in longlong_scalars\n",
      "\n",
      "C:\\Users\\binha\\Documents\\Duke\\Cynthia Research\\psa-analysis - test2\\utils\\fairness_functions.py:95: RuntimeWarning:\n",
      "\n",
      "invalid value encountered in longlong_scalars\n",
      "\n",
      "WARNING:interpret.utils.all:Passing a numpy array to schema autogen when it should be dataframe.\n",
      "WARNING:interpret.utils.all:Passing a numpy array to schema autogen when it should be dataframe.\n",
      "WARNING:interpret.utils.all:Passing a numpy array to schema autogen when it should be dataframe.\n",
      "WARNING:interpret.utils.all:Passing a numpy array to schema autogen when it should be dataframe.\n",
      "WARNING:interpret.utils.all:Passing a numpy array to schema autogen when it should be dataframe.\n",
      "WARNING:interpret.utils.all:Passing a numpy array to schema autogen when it should be dataframe.\n",
      "WARNING:interpret.utils.all:Passing a numpy array to schema autogen when it should be dataframe.\n",
      "WARNING:interpret.utils.all:Passing a numpy array to schema autogen when it should be dataframe.\n",
      "WARNING:interpret.utils.all:Passing a numpy array to schema autogen when it should be dataframe.\n",
      "WARNING:interpret.utils.all:Passing a numpy array to schema autogen when it should be dataframe.\n",
      "WARNING:interpret.utils.all:Passing a numpy array to schema autogen when it should be dataframe.\n",
      "WARNING:interpret.utils.all:Passing a numpy array to schema autogen when it should be dataframe.\n"
     ]
    },
    {
     "name": "stdout",
     "output_type": "stream",
     "text": [
      "model_id, score_thresholds 0 {'rank_abs': [3]}\n",
      "get_disparity_predefined_group()\n"
     ]
    },
    {
     "name": "stderr",
     "output_type": "stream",
     "text": [
      "C:\\Users\\binha\\Documents\\Duke\\Cynthia Research\\psa-analysis - test2\\utils\\fairness_functions.py:82: RuntimeWarning:\n",
      "\n",
      "invalid value encountered in longlong_scalars\n",
      "\n",
      "C:\\Users\\binha\\Documents\\Duke\\Cynthia Research\\psa-analysis - test2\\utils\\fairness_functions.py:95: RuntimeWarning:\n",
      "\n",
      "divide by zero encountered in longlong_scalars\n",
      "\n",
      "C:\\Users\\binha\\Documents\\Duke\\Cynthia Research\\psa-analysis - test2\\utils\\fairness_functions.py:86: RuntimeWarning:\n",
      "\n",
      "invalid value encountered in longlong_scalars\n",
      "\n",
      "C:\\Users\\binha\\Documents\\Duke\\Cynthia Research\\psa-analysis - test2\\utils\\fairness_functions.py:95: RuntimeWarning:\n",
      "\n",
      "invalid value encountered in longlong_scalars\n",
      "\n",
      "WARNING:interpret.utils.all:Passing a numpy array to schema autogen when it should be dataframe.\n",
      "WARNING:interpret.utils.all:Passing a numpy array to schema autogen when it should be dataframe.\n",
      "WARNING:interpret.utils.all:Passing a numpy array to schema autogen when it should be dataframe.\n",
      "WARNING:interpret.utils.all:Passing a numpy array to schema autogen when it should be dataframe.\n",
      "WARNING:interpret.utils.all:Passing a numpy array to schema autogen when it should be dataframe.\n",
      "WARNING:interpret.utils.all:Passing a numpy array to schema autogen when it should be dataframe.\n",
      "WARNING:interpret.utils.all:Passing a numpy array to schema autogen when it should be dataframe.\n",
      "WARNING:interpret.utils.all:Passing a numpy array to schema autogen when it should be dataframe.\n",
      "WARNING:interpret.utils.all:Passing a numpy array to schema autogen when it should be dataframe.\n",
      "WARNING:interpret.utils.all:Passing a numpy array to schema autogen when it should be dataframe.\n",
      "WARNING:interpret.utils.all:Passing a numpy array to schema autogen when it should be dataframe.\n",
      "WARNING:interpret.utils.all:Passing a numpy array to schema autogen when it should be dataframe.\n"
     ]
    },
    {
     "name": "stdout",
     "output_type": "stream",
     "text": [
      "model_id, score_thresholds 0 {'rank_abs': [3]}\n",
      "get_disparity_predefined_group()\n"
     ]
    },
    {
     "name": "stderr",
     "output_type": "stream",
     "text": [
      "C:\\Users\\binha\\Documents\\Duke\\Cynthia Research\\psa-analysis - test2\\utils\\fairness_functions.py:95: RuntimeWarning:\n",
      "\n",
      "divide by zero encountered in longlong_scalars\n",
      "\n",
      "C:\\Users\\binha\\Documents\\Duke\\Cynthia Research\\psa-analysis - test2\\utils\\fairness_functions.py:82: RuntimeWarning:\n",
      "\n",
      "invalid value encountered in longlong_scalars\n",
      "\n",
      "C:\\Users\\binha\\Documents\\Duke\\Cynthia Research\\psa-analysis - test2\\utils\\fairness_functions.py:86: RuntimeWarning:\n",
      "\n",
      "invalid value encountered in longlong_scalars\n",
      "\n",
      "C:\\Users\\binha\\Documents\\Duke\\Cynthia Research\\psa-analysis - test2\\utils\\fairness_functions.py:95: RuntimeWarning:\n",
      "\n",
      "invalid value encountered in longlong_scalars\n",
      "\n",
      "WARNING:interpret.utils.all:Passing a numpy array to schema autogen when it should be dataframe.\n",
      "WARNING:interpret.utils.all:Passing a numpy array to schema autogen when it should be dataframe.\n",
      "WARNING:interpret.utils.all:Passing a numpy array to schema autogen when it should be dataframe.\n",
      "WARNING:interpret.utils.all:Passing a numpy array to schema autogen when it should be dataframe.\n",
      "WARNING:interpret.utils.all:Passing a numpy array to schema autogen when it should be dataframe.\n",
      "WARNING:interpret.utils.all:Passing a numpy array to schema autogen when it should be dataframe.\n",
      "WARNING:interpret.utils.all:Passing a numpy array to schema autogen when it should be dataframe.\n",
      "WARNING:interpret.utils.all:Passing a numpy array to schema autogen when it should be dataframe.\n",
      "WARNING:interpret.utils.all:Passing a numpy array to schema autogen when it should be dataframe.\n",
      "WARNING:interpret.utils.all:Passing a numpy array to schema autogen when it should be dataframe.\n",
      "WARNING:interpret.utils.all:Passing a numpy array to schema autogen when it should be dataframe.\n",
      "WARNING:interpret.utils.all:Passing a numpy array to schema autogen when it should be dataframe.\n"
     ]
    },
    {
     "name": "stdout",
     "output_type": "stream",
     "text": [
      "model_id, score_thresholds 0 {'rank_abs': [8]}\n",
      "get_disparity_predefined_group()\n"
     ]
    },
    {
     "name": "stderr",
     "output_type": "stream",
     "text": [
      "C:\\Users\\binha\\Documents\\Duke\\Cynthia Research\\psa-analysis - test2\\utils\\fairness_functions.py:82: RuntimeWarning:\n",
      "\n",
      "invalid value encountered in longlong_scalars\n",
      "\n",
      "C:\\Users\\binha\\Documents\\Duke\\Cynthia Research\\psa-analysis - test2\\utils\\fairness_functions.py:95: RuntimeWarning:\n",
      "\n",
      "divide by zero encountered in longlong_scalars\n",
      "\n",
      "C:\\Users\\binha\\Documents\\Duke\\Cynthia Research\\psa-analysis - test2\\utils\\fairness_functions.py:86: RuntimeWarning:\n",
      "\n",
      "invalid value encountered in longlong_scalars\n",
      "\n",
      "C:\\Users\\binha\\Documents\\Duke\\Cynthia Research\\psa-analysis - test2\\utils\\fairness_functions.py:95: RuntimeWarning:\n",
      "\n",
      "invalid value encountered in longlong_scalars\n",
      "\n"
     ]
    }
   ],
   "source": [
    "#### CART\n",
    "depth = [6,7]\n",
    "cart_summary = interpret.CART(X=x,\n",
    "                         Y=y,\n",
    "                         depth=depth,\n",
    "                         seed=816)\n",
    "\n",
    "#### EBM\n",
    "estimators = [40]\n",
    "depth = [2]\n",
    "learning_rate = [0.5]\n",
    "ebm_summary = interpret.EBM(X=x,\n",
    "                       Y=y,\n",
    "                       learning_rate=learning_rate,\n",
    "                       depth=depth,\n",
    "                       estimators=estimators,\n",
    "                       seed =816)"
   ]
  },
  {
   "cell_type": "code",
   "execution_count": 4,
   "metadata": {},
   "outputs": [
    {
     "data": {
      "text/plain": [
       "(0.7504928433878241, 0.026873361142131725)"
      ]
     },
     "execution_count": 4,
     "metadata": {},
     "output_type": "execute_result"
    }
   ],
   "source": [
    "np.mean(cart_summary['holdout_test_auc']), np.mean(cart_summary['auc_diffs'])"
   ]
  },
  {
   "cell_type": "code",
   "execution_count": 5,
   "metadata": {},
   "outputs": [
    {
     "data": {
      "text/plain": [
       "(0.7700027888893424, 0.0137199763376056)"
      ]
     },
     "execution_count": 5,
     "metadata": {},
     "output_type": "execute_result"
    }
   ],
   "source": [
    "np.mean(ebm_summary['holdout_test_auc']), np.mean(ebm_summary['auc_diffs'])"
   ]
  },
  {
   "cell_type": "markdown",
   "metadata": {},
   "source": [
    "## Lasso Stumps"
   ]
  },
  {
   "cell_type": "code",
   "execution_count": 6,
   "metadata": {},
   "outputs": [],
   "source": [
    "## load whole data\n",
    "data = pd.read_csv(\"~/Documents/Duke/Cynthia Research/KY-analysis-mytrials/KY Recidivism/KY data/kentucky_stumps.csv\")\n",
    "X_stumps, Y_stumps = data.loc[:,:'current_violence>=1'], data['recid_property_two_year'].values\n",
    "Y_stumps[Y_stumps == -1] = 0\n",
    "cols = X_stumps.columns[3:]\n",
    "\n",
    "## load train & test data\n",
    "train_stumps = pd.read_csv(\"~/Documents/Duke/Cynthia Research/KY-analysis-mytrials/KY Recidivism/KY data/kentucky_train_stumps.csv\")\n",
    "test_stumps = pd.read_csv(\"~/Documents/Duke/Cynthia Research/KY-analysis-mytrials/KY Recidivism/KY data/kentucky_test_stumps.csv\")\n",
    "X_train_stumps, Y_train_stumps = train_stumps.loc[:,:'current_violence>=1'], train_stumps['recid_property_two_year'].values\n",
    "X_test_stumps, Y_test_stumps = test_stumps.loc[:,:'current_violence>=1'], test_stumps['recid_property_two_year'].values\n",
    "Y_train_stumps[Y_train_stumps == -1] = 0\n",
    "Y_test_stumps[Y_test_stumps == -1] = 0"
   ]
  },
  {
   "cell_type": "markdown",
   "metadata": {},
   "source": [
    "#### Nested Cross Validation"
   ]
  },
  {
   "cell_type": "code",
   "execution_count": 12,
   "metadata": {
    "scrolled": true
   },
   "outputs": [
    {
     "name": "stdout",
     "output_type": "stream",
     "text": [
      "model_id, score_thresholds 0 {'rank_abs': [9305]}\n",
      "get_disparity_predefined_group()\n"
     ]
    },
    {
     "name": "stderr",
     "output_type": "stream",
     "text": [
      "C:\\Users\\binha\\Documents\\Duke\\Cynthia Research\\psa-analysis - test2\\utils\\fairness_functions.py:86: RuntimeWarning:\n",
      "\n",
      "invalid value encountered in longlong_scalars\n",
      "\n"
     ]
    },
    {
     "name": "stdout",
     "output_type": "stream",
     "text": [
      "model_id, score_thresholds 0 {'rank_abs': [8221]}\n",
      "get_disparity_predefined_group()\n"
     ]
    },
    {
     "name": "stderr",
     "output_type": "stream",
     "text": [
      "C:\\Users\\binha\\Documents\\Duke\\Cynthia Research\\psa-analysis - test2\\utils\\fairness_functions.py:86: RuntimeWarning:\n",
      "\n",
      "invalid value encountered in longlong_scalars\n",
      "\n"
     ]
    },
    {
     "name": "stdout",
     "output_type": "stream",
     "text": [
      "model_id, score_thresholds 0 {'rank_abs': [8827]}\n",
      "get_disparity_predefined_group()\n"
     ]
    },
    {
     "name": "stderr",
     "output_type": "stream",
     "text": [
      "C:\\Users\\binha\\Documents\\Duke\\Cynthia Research\\psa-analysis - test2\\utils\\fairness_functions.py:86: RuntimeWarning:\n",
      "\n",
      "invalid value encountered in longlong_scalars\n",
      "\n"
     ]
    },
    {
     "name": "stdout",
     "output_type": "stream",
     "text": [
      "model_id, score_thresholds 0 {'rank_abs': [7825]}\n",
      "get_disparity_predefined_group()\n"
     ]
    },
    {
     "name": "stderr",
     "output_type": "stream",
     "text": [
      "C:\\Users\\binha\\Documents\\Duke\\Cynthia Research\\psa-analysis - test2\\utils\\fairness_functions.py:86: RuntimeWarning:\n",
      "\n",
      "invalid value encountered in longlong_scalars\n",
      "\n"
     ]
    },
    {
     "name": "stdout",
     "output_type": "stream",
     "text": [
      "model_id, score_thresholds 0 {'rank_abs': [9238]}\n",
      "get_disparity_predefined_group()\n"
     ]
    },
    {
     "name": "stderr",
     "output_type": "stream",
     "text": [
      "C:\\Users\\binha\\Documents\\Duke\\Cynthia Research\\psa-analysis - test2\\utils\\fairness_functions.py:86: RuntimeWarning:\n",
      "\n",
      "invalid value encountered in longlong_scalars\n",
      "\n"
     ]
    }
   ],
   "source": [
    "stump_summary = stumps.stump_cv(X = X_stumps, \n",
    "                                Y = Y_stumps, \n",
    "                                columns=cols, \n",
    "                                c_grid={'C': [0.001, 0.002, 0.003]}, \n",
    "                                seed = 816)"
   ]
  },
  {
   "cell_type": "code",
   "execution_count": 13,
   "metadata": {},
   "outputs": [
    {
     "data": {
      "text/plain": [
       "([{'C': 0.003}, {'C': 0.003}, {'C': 0.003}, {'C': 0.003}, {'C': 0.003}],\n",
       " 0.7716460665969407,\n",
       " 0.003555523582019249)"
      ]
     },
     "execution_count": 13,
     "metadata": {},
     "output_type": "execute_result"
    }
   ],
   "source": [
    "stump_summary['best_params'], np.mean(stump_summary['holdout_test_auc']), np.mean(stump_summary['auc_diffs'])"
   ]
  },
  {
   "cell_type": "markdown",
   "metadata": {},
   "source": [
    "##### Best Stump Model"
   ]
  },
  {
   "cell_type": "code",
   "execution_count": 14,
   "metadata": {},
   "outputs": [
    {
     "data": {
      "text/plain": [
       "22"
      ]
     },
     "execution_count": 14,
     "metadata": {},
     "output_type": "execute_result"
    }
   ],
   "source": [
    "best_stump_model = stumps.stump_model(X_train_stumps, \n",
    "                                      Y_train_stumps, \n",
    "                                      X_test_stumps, \n",
    "                                      Y_test_stumps, \n",
    "                                      c=0.003, \n",
    "                                      columns=cols, \n",
    "                                      seed=816)\n",
    "len(best_stump_model['features'])"
   ]
  },
  {
   "cell_type": "markdown",
   "metadata": {},
   "source": [
    "##### Prediction Table"
   ]
  },
  {
   "cell_type": "code",
   "execution_count": 15,
   "metadata": {
    "scrolled": true
   },
   "outputs": [
    {
     "name": "stdout",
     "output_type": "stream",
     "text": [
      "\begin{tabular}{|l|r|r|} \\hline\n",
      "1. sex>=1 & 28.2 & +... \\ \\hline\n",
      "2. age_at_current_charge<=24 & 5.4 & +... \\ \\hline\n",
      "3. age_at_current_charge<=30 & 12.1 & +... \\ \\hline\n",
      "4. age_at_current_charge<=38 & 34.7 & +... \\ \\hline\n",
      "5. age_at_current_charge<=43 & 6.0 & +... \\ \\hline\n",
      "6. age_at_current_charge<=47 & 6.3 & +... \\ \\hline\n",
      "7. p_arrest>=1 & 50.0 & -... \\ \\hline\n",
      "8. p_arrest>=2 & 45.2 & +... \\ \\hline\n",
      "9. p_arrest>=3 & 27.8 & +... \\ \\hline\n",
      "10. p_arrest>=4 & 9.7 & +... \\ \\hline\n",
      "11. p_arrest>=6 & 0.7 & +... \\ \\hline\n",
      "12. p_charges>=1 & 51.5 & -... \\ \\hline\n",
      "13. p_charges>=5 & 0.5 & +... \\ \\hline\n",
      "14. p_felony>=1 & 19.5 & +... \\ \\hline\n",
      "15. p_property>=1 & 155.7 & +... \\ \\hline\n",
      "16. p_drug>=1 & 29.8 & -... \\ \\hline\n",
      "17. ADE>=1 & 7.1 & -... \\ \\hline\n",
      "18. p_prison>=1 & 27.4 & -... \\ \\hline\n",
      "19. p_jail30>=1 & 3.8 & +... \\ \\hline\n",
      "20. p_pending_charge>=1 & 64.8 & +... \\ \\hline\n",
      "21. p_probation>=1 & 23.1 & +... \\ \\hline\n",
      "22. current_violence>=1 & 7.3 & -... \\ \\hline\n",
      "23. Intercept & -0.478 & -... \\ \\hline\n",
      "\textbf{ADD POINTS FROM ROWS 1 TO 23}  &  \textbf{SCORE} & = ..... \\ \\hline\n",
      "\\multicolumn{3}{l}{Pr(Y = 1) = exp(score/100) / (1 + exp(score/100))} \\ \\hline\n"
     ]
    }
   ],
   "source": [
    "stumps.latex_stump_table(best_stump_model['coefs'], \n",
    "                         best_stump_model['features'], \n",
    "                         best_stump_model['intercept'], \n",
    "                         best_stump_model['dictionary'])"
   ]
  },
  {
   "cell_type": "markdown",
   "metadata": {},
   "source": [
    "##### Stumps Visualizations"
   ]
  },
  {
   "cell_type": "code",
   "execution_count": 16,
   "metadata": {
    "scrolled": true
   },
   "outputs": [
    {
     "data": {
      "image/png": "[encoded data removed]",
      "text/plain": [
       "<Figure size 288x216 with 1 Axes>"
      ]
     },
     "metadata": {
      "needs_background": "light"
     },
     "output_type": "display_data"
    },
    {
     "data": {
      "image/png": "[encoded data removed]",
      "text/plain": [
       "<Figure size 288x216 with 1 Axes>"
      ]
     },
     "metadata": {
      "needs_background": "light"
     },
     "output_type": "display_data"
    },
    {
     "data": {
      "image/png": "[encoded data removed]",
      "text/plain": [
       "<Figure size 288x216 with 1 Axes>"
      ]
     },
     "metadata": {
      "needs_background": "light"
     },
     "output_type": "display_data"
    },
    {
     "data": {
      "image/png": "[encoded data removed]",
      "text/plain": [
       "<Figure size 288x216 with 1 Axes>"
      ]
     },
     "metadata": {
      "needs_background": "light"
     },
     "output_type": "display_data"
    },
    {
     "data": {
      "image/png": "[encoded data removed]",
      "text/plain": [
       "<Figure size 288x216 with 1 Axes>"
      ]
     },
     "metadata": {
      "needs_background": "light"
     },
     "output_type": "display_data"
    },
    {
     "data": {
      "image/png": "[encoded data removed]",
      "text/plain": [
       "<Figure size 288x216 with 1 Axes>"
      ]
     },
     "metadata": {
      "needs_background": "light"
     },
     "output_type": "display_data"
    },
    {
     "data": {
      "image/png": "[encoded data removed]",
      "text/plain": [
       "<Figure size 288x216 with 1 Axes>"
      ]
     },
     "metadata": {
      "needs_background": "light"
     },
     "output_type": "display_data"
    },
    {
     "data": {
      "image/png": "[encoded data removed]",
      "text/plain": [
       "<Figure size 288x216 with 1 Axes>"
      ]
     },
     "metadata": {
      "needs_background": "light"
     },
     "output_type": "display_data"
    },
    {
     "data": {
      "image/png": "[encoded data removed]",
      "text/plain": [
       "<Figure size 288x216 with 1 Axes>"
      ]
     },
     "metadata": {
      "needs_background": "light"
     },
     "output_type": "display_data"
    },
    {
     "data": {
      "image/png": "[encoded data removed]",
      "text/plain": [
       "<Figure size 288x216 with 1 Axes>"
      ]
     },
     "metadata": {
      "needs_background": "light"
     },
     "output_type": "display_data"
    },
    {
     "data": {
      "image/png": "[encoded data removed]",
      "text/plain": [
       "<Figure size 288x216 with 1 Axes>"
      ]
     },
     "metadata": {
      "needs_background": "light"
     },
     "output_type": "display_data"
    },
    {
     "data": {
      "image/png": "[encoded data removed]",
      "text/plain": [
       "<Figure size 288x216 with 1 Axes>"
      ]
     },
     "metadata": {
      "needs_background": "light"
     },
     "output_type": "display_data"
    },
    {
     "data": {
      "image/png": "[encoded data removed]",
      "text/plain": [
       "<Figure size 288x216 with 1 Axes>"
      ]
     },
     "metadata": {
      "needs_background": "light"
     },
     "output_type": "display_data"
    },
    {
     "data": {
      "image/png": "[encoded data removed]",
      "text/plain": [
       "<Figure size 288x216 with 1 Axes>"
      ]
     },
     "metadata": {
      "needs_background": "light"
     },
     "output_type": "display_data"
    }
   ],
   "source": [
    "stumps.stump_plots(best_stump_model['features'], best_stump_model['coefs'], indicator=\"KY\")"
   ]
  },
  {
   "cell_type": "markdown",
   "metadata": {},
   "source": [
    "## RiskSLIM"
   ]
  },
  {
   "cell_type": "code",
   "execution_count": 17,
   "metadata": {},
   "outputs": [],
   "source": [
    "## load stumps data\n",
    "data = pd.read_csv(\"~/Documents/Duke/Cynthia Research/KY-analysis-mytrials/KY Recidivism/KY data/kentucky_stumps.csv\")\n",
    "x, y = data.loc[:,:'current_violence>=1'], data['recid_property_two_year'].values\n",
    "cols = x.columns[3:]"
   ]
  },
  {
   "cell_type": "code",
   "execution_count": 18,
   "metadata": {},
   "outputs": [
    {
     "data": {
      "text/plain": [
       "26"
      ]
     },
     "execution_count": 18,
     "metadata": {},
     "output_type": "execute_result"
    }
   ],
   "source": [
    "## train on best param chosen by Lasso Stumps from above\n",
    "x_train = x.copy().drop(['race', 'person_id', 'screening_date'], axis=1)\n",
    "lasso = LogisticRegression(class_weight='balanced', solver='liblinear', penalty='l1', C=0.005, random_state=816).fit(x_train,y)\n",
    "selected_features = cols[lasso.coef_[0] != 0].tolist()\n",
    "len(selected_features)"
   ]
  },
  {
   "cell_type": "code",
   "execution_count": 20,
   "metadata": {},
   "outputs": [],
   "source": [
    "### Subset features\n",
    "if 'sex>=1' in selected_features:\n",
    "    selected_features = ['recid_property_two_year', 'person_id', 'screening_date', 'race'] + selected_features\n",
    "    indicator = 1\n",
    "else:\n",
    "    selected_features = ['recid_property_two_year', 'person_id', 'screening_date', 'race', 'sex>=1'] + selected_features\n",
    "    indicator = 0\n",
    "\n",
    "sub_data = data[selected_features]\n",
    "sub_X, sub_Y = sub_data.iloc[:,1:], sub_data.iloc[:,0].values\n",
    "sub_X.insert(0, '(Intercept)', 1)"
   ]
  },
  {
   "cell_type": "code",
   "execution_count": 21,
   "metadata": {
    "scrolled": true
   },
   "outputs": [
    {
     "name": "stdout",
     "output_type": "stream",
     "text": [
      "setting c0 = 0.0 to ensure that intercept is not penalized\n",
      "10/01/19 @ 02:16 PM | 1141 rows in lookup table\n",
      "10/01/19 @ 02:16 PM | ------------------------------------------------------------\n",
      "10/01/19 @ 02:16 PM | runnning initialization procedure\n",
      "10/01/19 @ 02:16 PM | ------------------------------------------------------------\n",
      "10/01/19 @ 02:16 PM | CPA produced 2 cuts\n",
      "10/01/19 @ 02:16 PM | running naive rounding on 80 solutions\n",
      "10/01/19 @ 02:16 PM | best objective value: 0.0993\n",
      "10/01/19 @ 02:16 PM | rounding produced 5 integer solutions\n",
      "10/01/19 @ 02:16 PM | best objective value is 0.1051\n",
      "10/01/19 @ 02:16 PM | running sequential rounding on 80 solutions\n",
      "10/01/19 @ 02:16 PM | best objective value: 0.0993\n",
      "10/01/19 @ 02:16 PM | sequential rounding produced 6 integer solutions\n",
      "10/01/19 @ 02:16 PM | best objective value: 0.1001\n",
      "10/01/19 @ 02:16 PM | polishing 11 solutions\n",
      "10/01/19 @ 02:16 PM | best objective value: 0.1001\n",
      "10/01/19 @ 02:16 PM | polishing produced 5 integer solutions\n",
      "10/01/19 @ 02:16 PM | initialization produced 11 feasible solutions\n",
      "10/01/19 @ 02:16 PM | best objective value: 0.1001\n",
      "10/01/19 @ 02:16 PM | ------------------------------------------------------------\n",
      "10/01/19 @ 02:16 PM | completed initialization procedure\n",
      "10/01/19 @ 02:16 PM | ------------------------------------------------------------\n",
      "10/01/19 @ 02:16 PM | 1141 rows in lookup table\n",
      "CPXPARAM_Read_DataCheck                          1\n",
      "CPXPARAM_Threads                                 1\n",
      "CPXPARAM_Parallel                                1\n",
      "CPXPARAM_RandomSeed                              0\n",
      "CPXPARAM_TimeLimit                               200\n",
      "CPXPARAM_MIP_Tolerances_LowerCutoff              0.097858297683305645\n",
      "CPXPARAM_MIP_Tolerances_UpperCutoff              0.10013963053854663\n"
     ]
    },
    {
     "name": "stderr",
     "output_type": "stream",
     "text": [
      "Warning: Control callbacks may disable some MIP features.\n"
     ]
    },
    {
     "name": "stdout",
     "output_type": "stream",
     "text": [
      "Lazy constraint(s) or lazy constraint callback is present.\n",
      "    Disabling dual reductions (CPX_PARAM_REDUCE) in presolve.\n",
      "    Disabling non-linear reductions (CPX_PARAM_PRELINEAR) in presolve.\n",
      "         Disabling repeat represolve because of lazy constraint/incumbent callback.\n",
      "10/01/19 @ 02:16 PM | adding 250 initial cuts\n",
      "1 of 1 MIP starts provided solutions.\n",
      "MIP start 'mip_start_0' defined initial solution with objective 0.1001.\n",
      "Tried aggregator 1 time.\n",
      "Reduced MIP has 28 rows, 56 columns, and 107 nonzeros.\n",
      "Reduced MIP has 26 binaries, 28 generals, 0 SOSs, and 0 indicators.\n",
      "Presolve time = 0.02 sec. (0.06 ticks)\n",
      "Probing time = 0.00 sec. (0.02 ticks)\n",
      "MIP emphasis: balance optimality and feasibility.\n",
      "MIP search method: traditional branch-and-cut.\n",
      "Parallel mode: none, using 1 thread.\n",
      "Root relaxation solution time = 0.00 sec. (0.04 ticks)\n",
      "\n",
      "        Nodes                                         Cuts/\n",
      "   Node  Left     Objective  IInf  Best Integer    Best Bound    ItCnt     Gap         Variable B NodeID Parent  Depth\n",
      "\n",
      "*     0+    0                            0.1001        0.0978             2.29%\n",
      "      0     0        0.0979     1        0.1001        0.0979        1    2.28%\n",
      "      0     2        0.0979     4        0.1001        0.0979        1    2.28%                        0             0\n",
      "Elapsed time = 0.09 sec. (1.66 ticks, tree = 0.01 MB, solutions = 1)\n",
      "*  1040+  457                            0.1000        0.0979             2.14%\n",
      "   2525  1148        0.0979     9        0.1000        0.0979     8057    2.14%          rho_10 D   2525   1573     21\n",
      "   3910  1698        cutoff              0.1000        0.0979    14153    2.14%           rho_8 D   3910   3908     21\n",
      "   5182  2243        0.0979    11        0.1000        0.0979    19928    2.14%           rho_8 D   5182   4444     73\n",
      "   6366  2628        0.0983     9        0.1000        0.0979    26237    2.14%           rho_8 D   6366   6365     67\n",
      "   7486  2953        0.0979     4        0.1000        0.0979    32751    2.14%           rho_0 D   7486   7484     37\n",
      "   8620  3247        0.0979    10        0.1000        0.0979    39485    2.14%           rho_8 D   8620   8504     61\n",
      "   9726  3526        0.0983     9        0.1000        0.0979    46059    2.14%           rho_8 D   9726   9725     59\n",
      "  10826  3820        0.0979     1        0.1000        0.0979    52483    2.14%          rho_14 U  10826  10824     88\n",
      "  11945  4106        0.0994     4        0.1000        0.0979    59041    2.14%           rho_0 D  11945  11944     25\n",
      "  16280  5826        cutoff              0.1000        0.0979    78406    2.14%           rho_7 U  16280  16279     27\n",
      "Elapsed time = 4.28 sec. (3102.50 ticks, tree = 1.64 MB, solutions = 2)\n",
      "  19740  8075        0.0980    12        0.1000        0.0979    99256    2.14%          rho_14 U  19740  19738     46\n",
      "  23666  9711        0.0979     6        0.1000        0.0979   117124    2.14%           rho_0 D  23666  23664     42\n",
      "  27449 11177        0.0979     4        0.1000        0.0979   136243    2.14%           rho_0 D  27449  27447     72\n",
      "  30833 12449        0.0979     2        0.1000        0.0979   157651    2.14%          rho_14 U  30833  30831     70\n",
      "  34129 13054        0.0979     4        0.1000        0.0979   175837    2.14%          rho_14 U  34129  34127     64\n",
      "  37240 13682        0.0983     9        0.1000        0.0979   193084    2.14%          rho_14 D  37240  37239     28\n",
      "  41055 15257        0.0997     8        0.1000        0.0979   211791    2.14%          rho_25 D  41055  41054     82\n",
      "  44393 16637        cutoff              0.1000        0.0979   231112    2.14%          rho_19 D  44393  44391    100\n",
      "* 44800 16745      integral     0        0.1000        0.0979   233320    2.13%\n",
      "  47469 17887        0.0989     7        0.1000        0.0979   248757    2.13%          rho_14 N  47469  47468     51\n",
      "  50275 19039        0.0996    10        0.1000        0.0979   265076    2.13%          rho_24 D  50275  50274     45\n",
      "Elapsed time = 15.41 sec. (12641.01 ticks, tree = 5.89 MB, solutions = 3)\n",
      "  52959 20168        0.0979     7        0.1000        0.0979   283328    2.13%          rho_14 D  52959  52958     34\n",
      "  55579 21294        cutoff              0.1000        0.0979   302587    2.13%           rho_3 U  55579  55578     64\n",
      "  58151 22338        0.0989    11        0.1000        0.0979   321500    2.13%          rho_13 U  58151  58150     84\n",
      "  60740 23397        0.0999     9        0.1000        0.0979   340511    2.13%           rho_3 D  60740  60739     36\n",
      "  63573 24650        0.0983    10        0.1000        0.0979   358924    2.13%           rho_4 D  63573  63572     74\n",
      "  66750 26016        0.0979     1        0.1000        0.0979   376211    2.13%           rho_9 U  66750  66642     30\n",
      "* 67000+26140                            0.1000        0.0979             2.13%\n",
      "  70014 27486        cutoff              0.1000        0.0979   390665    2.13%           rho_4 U  70014  70013     92\n",
      "  72845 28485        0.0984    11        0.1000        0.0979   406813    2.13%           rho_7 D  72845  72844     55\n",
      "  75836 29425        0.0985     8        0.1000        0.0979   424006    2.13%           rho_0 D  75836  75834     94\n",
      "  78980 30976        0.0979     8        0.1000        0.0979   439865    2.13%          rho_14 U  78980  78978     66\n",
      "Elapsed time = 26.02 sec. (22180.58 ticks, tree = 8.94 MB, solutions = 4)\n",
      "  81810 32174        0.0980     7        0.1000        0.0979   456142    2.13%           rho_7 U  81810  70600     69\n",
      "  84518 33152        0.0995    10        0.1000        0.0979   472672    2.13%           rho_8 D  84518  84516     54\n",
      "  87323 34152        cutoff              0.1000        0.0979   488814    2.13%           rho_5 U  87323  87322     81\n",
      "  90000 35111        0.0987     9        0.1000        0.0979   504964    2.13%           rho_6 D  90000  89999     34\n",
      "  92614 35922        0.0985     7        0.1000        0.0979   519883    2.13%          rho_16 D  92614  92613     83\n",
      "  95130 36670        0.0993    10        0.1000        0.0979   535768    2.13%           rho_4 D  95130  95128     42\n",
      "  98110 38263        0.0980    10        0.1000        0.0979   552442    2.13%          rho_10 U  98110  98109     58\n",
      " 101021 38779        0.0989     5        0.1000        0.0979   566587    2.13%          rho_23 D 101021 101019     69\n",
      " 103995 39357        cutoff              0.1000        0.0979   580881    2.13%           rho_5 U 103995 103994     74\n",
      " 106966 40018        0.0979    13        0.1000        0.0979   595309    2.13%           rho_8 D 106966 106965     63\n",
      "Elapsed time = 38.13 sec. (31720.47 ticks, tree = 12.64 MB, solutions = 4)\n",
      " 109550 41039        0.1000     5        0.1000        0.0979   612278    2.13%          rho_15 D 109550 109549     59\n",
      " 111742 42351        0.0979    16        0.1000        0.0979   632926    2.13%          rho_14 D 111742 111741     46\n",
      "*113000+43058                            0.1000        0.0979             2.13%\n",
      " 114030 43479        0.0981    11        0.1000        0.0979   652022    2.13%           rho_4 D 114030 114029     50\n",
      " 116724 44495        0.0979     8        0.1000        0.0979   669302    2.13%          rho_14 U 116724 116722     48\n",
      " 119550 45440        0.0980     8        0.1000        0.0979   684281    2.13%          rho_14 D 119550 119549     31\n",
      " 122550 46580        0.0998     5        0.1000        0.0979   698029    2.13%           rho_0 U 122550 122549     55\n",
      " 124945 48071        0.0993     5        0.1000        0.0979   718271    2.13%          rho_25 D 124945 124943     23\n",
      " 127332 49141        0.0979    12        0.1000        0.0979   737681    2.13%           rho_8 D 127332 126910     72\n",
      " 130023 50128        0.0979     1        0.1000        0.0979   751414    2.13%          rho_14 U 130023 130021     51\n",
      " 132585 51167        0.0987    12        0.1000        0.0979   767233    2.13%           rho_0 D 132585 132584     50\n",
      "Elapsed time = 49.98 sec. (41261.88 ticks, tree = 15.54 MB, solutions = 5)\n",
      " 135072 52288        0.0979    12        0.1000        0.0979   784664    2.13%           rho_8 D 135072 134383     34\n",
      " 137579 53444        0.0987     8        0.1000        0.0979   801418    2.13%           rho_8 U 137579 137577     44\n",
      " 140125 54623        0.0985    15        0.1000        0.0979   818374    2.13%           rho_8 D 140125 140124     63\n",
      " 142590 55751        0.0996    10        0.1000        0.0979   834921    2.13%          rho_25 D 142590 142589     51\n",
      " 145079 56913        0.0979     7        0.1000        0.0979   852219    2.13%           rho_8 D 145079 145009     50\n",
      " 147488 57976        0.0979     5        0.1000        0.0979   870591    2.13%          rho_14 U 147488 147486     54\n",
      " 149949 59103        0.0999     3        0.1000        0.0979   888922    2.13%           rho_4 U 149949 149948     60\n",
      " 152439 60275        0.0999     9        0.1000        0.0979   906913    2.13%          rho_23 D 152439 152438     58\n",
      " 155162 61352        0.0979     7        0.1000        0.0979   921827    2.13%           rho_0 D 155162 155160     52\n",
      " 158272 62384        cutoff              0.1000        0.0979   933752    2.13%           rho_0 U 158272 158271     57\n",
      "Elapsed time = 60.52 sec. (50801.03 ticks, tree = 18.49 MB, solutions = 5)\n",
      " 161383 63397        0.1000     3        0.1000        0.0979   945633    2.13%          rho_23 D 161383 161382     75\n",
      " 164449 64377        cutoff              0.1000        0.0979   957652    2.13%           rho_0 U 164449 164448     84\n",
      " 167494 65372        0.0994     3        0.1000        0.0979   969521    2.13%           rho_3 D 167494 167492    100\n",
      " 170605 66412        0.0988     5        0.1000        0.0979   981834    2.13%           rho_7 D 170605 170604     46\n",
      "*173000+67020                            0.1000        0.0979             2.13%\n",
      " 173516 67164        0.0993     7        0.1000        0.0979   992048    2.13%          rho_25 D 173516 173515     87\n",
      " 176420 67910        0.0995     5        0.1000        0.0979  1002109    2.13%          rho_12 U 176420 176419     41\n",
      " 179324 68591        cutoff              0.1000        0.0979  1012878    2.13%           rho_4 U 179324 179323     66\n",
      "*181000+69152                            0.1000        0.0979             2.13%\n",
      " 182247 69504        0.0995     5        0.1000        0.0979  1023995    2.13%          rho_12 U 182247 182246     85\n",
      " 185077 70105        0.0997     3        0.1000        0.0979  1034780    2.13%          rho_12 U 185077 185076     72\n",
      " 187739 70985        0.0979     9        0.1000        0.0979  1048816    2.13%           rho_0 D 187739 187737     46\n",
      "Elapsed time = 72.50 sec. (60340.90 ticks, tree = 23.61 MB, solutions = 7)\n",
      " 190364 72251        0.0996     5        0.1000        0.0979  1064183    2.13%           rho_3 D 190364 190363     27\n",
      " 193021 73589        0.0990    12        0.1000        0.0979  1080243    2.13%          rho_24 D 193021 193020     52\n",
      " 195470 74591        0.0987    11        0.1000        0.0979  1096694    2.13%          rho_14 D 195470 195469     50\n",
      " 198054 75699        0.0992     9        0.1000        0.0979  1112509    2.13%          rho_25 D 198054 198053     60\n",
      " 200601 76505        0.0998     5        0.1000        0.0979  1128337    2.13%           rho_2 D 200601 200599     85\n",
      " 203191 77341        0.0979     4        0.1000        0.0979  1143618    2.13%           rho_0 D 203191 203189     68\n",
      " 205714 78137        0.0980     9        0.1000        0.0979  1159412    2.13%           rho_0 D 205714 205712     47\n",
      " 208218 79017        0.0981    11        0.1000        0.0979  1175241    2.13%           rho_0 U 208218 208217     53\n",
      " 210767 80028        0.0991     9        0.1000        0.0979  1190704    2.13%          rho_10 D 210767 210765     28\n",
      " 213223 81111        cutoff              0.1000        0.0979  1208888    2.13%          rho_24 U 213223 213221    101\n",
      "Elapsed time = 84.64 sec. (69879.89 ticks, tree = 26.27 MB, solutions = 7)\n",
      " 215782 82195        0.1000     4        0.1000        0.0979  1225658    2.13%           rho_4 U 215782 215781     68\n",
      " 218340 83114        0.0994    10        0.1000        0.0979  1240164    2.13%           rho_0 D 218340 218339     69\n",
      "*220490+80818                            0.0998        0.0979             1.99%\n",
      " 220696 80883        0.0983    15        0.0998        0.0979  1255222    1.99%           rho_1 U 220696 220695     10\n",
      " 222860 81844        0.0982    12        0.0998        0.0979  1271627    1.99%          rho_24 D 222860 222859     42\n",
      " 225029 82837        0.0991    10        0.0998        0.0979  1289997    1.99%           rho_4 U 225029 148014     94\n",
      " 227187 83820        0.0979    11        0.0998        0.0979  1308355    1.99%          rho_14 D 227187 227186     64\n",
      " 229513 84720        0.0996    10        0.0998        0.0979  1324806    1.99%          rho_25 D 229513 229512     91\n",
      " 231807 85319        0.0992     8        0.0998        0.0979  1338411    1.99%          rho_24 D 231807 231806     70\n",
      " 234143 85801        0.0982     8        0.0998        0.0979  1351178    1.99%          rho_14 D 234143 234142     42\n",
      " 236539 86390        cutoff              0.0998        0.0979  1364333    1.99%           rho_7 U 236539 236537     42\n",
      "Elapsed time = 97.92 sec. (79420.80 ticks, tree = 27.74 MB, solutions = 8)\n",
      " 238850 87133        0.0993    11        0.0998        0.0979  1379583    1.99%           rho_2 D 238850 238849     35\n",
      " 241233 87910        0.0981    10        0.0998        0.0979  1393861    1.99%           rho_0 D 241233 241231     32\n",
      " 243315 88868        0.0979    17        0.0998        0.0979  1412953    1.99%          rho_24 D 243315 243314     54\n",
      " 245497 89828        0.0986     7        0.0998        0.0979  1431547    1.99%          rho_24 D 245497 245496     76\n",
      " 247703 90511        cutoff              0.0998        0.0979  1445485    1.99%           rho_0 U 247703 247701     56\n",
      " 250056 91559        0.0981    12        0.0998        0.0979  1460799    1.99%           rho_2 D 250056 250055     26\n",
      " 252461 93017        0.0979     9        0.0998        0.0979  1476965    1.99%          rho_14 U 252461 252459     78\n",
      " 254480 93956        0.0985     8        0.0998        0.0979  1494074    1.99%          rho_11 U 254480 254479     35\n",
      " 255916 94523        0.0997     9        0.0998        0.0979  1513498    1.99%          rho_24 D 255916 255915     60\n",
      " 263926 98291        0.0982    15        0.0998        0.0979  1582580    1.99%          rho_14 D 263926 263925     75\n",
      "Elapsed time = 112.98 sec. (91823.05 ticks, tree = 30.91 MB, solutions = 8)\n",
      "*268637 97530      integral     0        0.0997        0.0979  1615616    1.88%\n",
      " 272042 99164        0.0994     8        0.0997        0.0979  1644720    1.88%           rho_4 N 272042 271824     73\n",
      " 280207 101956        cutoff              0.0997        0.0979  1714664    1.88%          rho_25 U 280207 280205     68\n",
      " 289499 105993        0.0983    15        0.0997        0.0979  1777734    1.88%           rho_7 D 289499 289498     53\n",
      " 298062 110009        0.0979     7        0.0997        0.0979  1849918    1.88%           rho_0 D 298062 298060     42\n",
      " 306693 113974        0.0984     9        0.0997        0.0979  1917360    1.88%          rho_11 U 306693 306481     79\n",
      "*309000+115069                            0.0997        0.0979             1.88%\n",
      " 315560 117399        0.0979    12        0.0997        0.0979  1973070    1.88%          rho_11 D 315560 315559     28\n",
      " 325019 120871        0.0979     7        0.0997        0.0979  2029096    1.88%           rho_0 D 325019 325017     37\n",
      " 332273 124643        0.0979     9        0.0997        0.0979  2104814    1.88%           rho_0 D 332273 332271     30\n",
      " 340512 129002        cutoff              0.0997        0.0979  2157895    1.88%           rho_5 U 340512 340510     38\n",
      " 350548 132573        0.0979     8        0.0997        0.0979  2217237    1.88%          rho_14 U 350548 350546     64\n",
      "Elapsed time = 154.16 sec. (129972.96 ticks, tree = 43.20 MB, solutions = 10)\n",
      " 357665 136714        0.0979     8        0.0997        0.0979  2285459    1.88%          rho_14 U 357665 357651     23\n",
      " 367241 140321        0.0985    15        0.0997        0.0979  2348669    1.88%          rho_25 D 367241 367240     57\n",
      " 376171 143760        0.0980    12        0.0997        0.0979  2409470    1.88%           rho_8 D 376171 376170     62\n",
      " 384679 146952        0.0994    10        0.0997        0.0979  2473065    1.88%          rho_12 D 384679 384677     68\n",
      " 393230 150228        cutoff              0.0997        0.0979  2537576    1.88%          rho_12 U 393230 393229     53\n",
      " 401921 154067        0.0997     7        0.0997        0.0979  2599733    1.88%           rho_2 U 401921 401920     43\n",
      " 409404 158222        0.0996     1        0.0997        0.0979  2655911    1.88%           rho_0 N 409404 409403     29\n",
      " 416500 161683        0.0996    11        0.0997        0.0979  2714409    1.88%          rho_25 N 416500 416499     47\n",
      " 424393 165712        0.0986    14        0.0997        0.0979  2772919    1.88%           rho_7 N 424393 424392     65\n",
      " 432485 169697        cutoff              0.0997        0.0979  2833232    1.88%           rho_0 U 432485 432484     57\n",
      "Elapsed time = 198.05 sec. (168121.92 ticks, tree = 54.85 MB, solutions = 10)\n",
      "\n",
      "User cuts applied:  530\n",
      "\n",
      "Root node processing (before b&c):\n",
      "  Real time             =    0.09 sec. (1.71 ticks)\n",
      "Sequential b&c:\n",
      "  Real time             =  199.92 sec. (169994.94 ticks)\n",
      "                          ------------\n",
      "Total (root+branch&cut) =  200.02 sec. (169996.65 ticks)\n",
      "+----------------------------------------------+------------------+-----------+\n",
      "| Pr(Y = +1) = 1.0/(1.0 + exp(-(-9 + score))   |                  |           |\n",
      "| ============================================ | ================ | ========= |\n",
      "| p_charges>=1                                 |         2 points |   + ..... |\n",
      "| p_property>=1                                |         2 points |   + ..... |\n",
      "| age_at_current_charge<=18                    |         1 points |   + ..... |\n",
      "| age_at_current_charge<=47                    |         1 points |   + ..... |\n",
      "| p_arrest>=1                                  |         1 points |   + ..... |\n",
      "| p_arrest>=2                                  |         1 points |   + ..... |\n",
      "| p_pending_charge>=1                          |         1 points |   + ..... |\n",
      "| ============================================ | ================ | ========= |\n",
      "| ADD POINTS FROM ROWS 1 to 7                  |            SCORE |   = ..... |\n",
      "+----------------------------------------------+------------------+-----------+\n",
      "model_id, score_thresholds 0 {'rank_abs': [0]}\n",
      "get_disparity_predefined_group()\n"
     ]
    },
    {
     "name": "stderr",
     "output_type": "stream",
     "text": [
      "C:\\Users\\binha\\Documents\\Duke\\Cynthia Research\\psa-analysis - test2\\utils\\fairness_functions.py:82: RuntimeWarning:\n",
      "\n",
      "invalid value encountered in longlong_scalars\n",
      "\n",
      "C:\\Users\\binha\\Documents\\Duke\\Cynthia Research\\psa-analysis - test2\\utils\\fairness_functions.py:95: RuntimeWarning:\n",
      "\n",
      "divide by zero encountered in longlong_scalars\n",
      "\n",
      "C:\\Users\\binha\\Documents\\Duke\\Cynthia Research\\psa-analysis - test2\\utils\\fairness_functions.py:86: RuntimeWarning:\n",
      "\n",
      "invalid value encountered in longlong_scalars\n",
      "\n",
      "C:\\Users\\binha\\Documents\\Duke\\Cynthia Research\\psa-analysis - test2\\utils\\fairness_functions.py:95: RuntimeWarning:\n",
      "\n",
      "invalid value encountered in longlong_scalars\n",
      "\n"
     ]
    },
    {
     "name": "stdout",
     "output_type": "stream",
     "text": [
      "setting c0 = 0.0 to ensure that intercept is not penalized\n",
      "10/01/19 @ 02:20 PM | 1141 rows in lookup table\n",
      "10/01/19 @ 02:20 PM | ------------------------------------------------------------\n",
      "10/01/19 @ 02:20 PM | runnning initialization procedure\n",
      "10/01/19 @ 02:20 PM | ------------------------------------------------------------\n",
      "10/01/19 @ 02:20 PM | CPA produced 2 cuts\n",
      "10/01/19 @ 02:20 PM | running naive rounding on 81 solutions\n",
      "10/01/19 @ 02:20 PM | best objective value: 0.0984\n",
      "10/01/19 @ 02:20 PM | rounding produced 5 integer solutions\n",
      "10/01/19 @ 02:20 PM | best objective value is 0.1017\n",
      "10/01/19 @ 02:20 PM | running sequential rounding on 81 solutions\n",
      "10/01/19 @ 02:20 PM | best objective value: 0.0984\n",
      "10/01/19 @ 02:20 PM | sequential rounding produced 6 integer solutions\n",
      "10/01/19 @ 02:20 PM | best objective value: 0.0998\n",
      "10/01/19 @ 02:20 PM | polishing 11 solutions\n",
      "10/01/19 @ 02:20 PM | best objective value: 0.0998\n",
      "10/01/19 @ 02:20 PM | polishing produced 5 integer solutions\n",
      "10/01/19 @ 02:20 PM | initialization produced 12 feasible solutions\n",
      "10/01/19 @ 02:20 PM | best objective value: 0.0998\n",
      "10/01/19 @ 02:20 PM | ------------------------------------------------------------\n",
      "10/01/19 @ 02:20 PM | completed initialization procedure\n",
      "10/01/19 @ 02:20 PM | ------------------------------------------------------------\n",
      "10/01/19 @ 02:20 PM | 1141 rows in lookup table\n",
      "CPXPARAM_Read_DataCheck                          1\n",
      "CPXPARAM_Threads                                 1\n",
      "CPXPARAM_Parallel                                1\n",
      "CPXPARAM_RandomSeed                              0\n",
      "CPXPARAM_TimeLimit                               200\n",
      "CPXPARAM_MIP_Tolerances_LowerCutoff              0.097527369152704296\n",
      "CPXPARAM_MIP_Tolerances_UpperCutoff              0.099810870559477377\n"
     ]
    },
    {
     "name": "stderr",
     "output_type": "stream",
     "text": [
      "Warning: Control callbacks may disable some MIP features.\n"
     ]
    },
    {
     "name": "stdout",
     "output_type": "stream",
     "text": [
      "Lazy constraint(s) or lazy constraint callback is present.\n",
      "    Disabling dual reductions (CPX_PARAM_REDUCE) in presolve.\n",
      "    Disabling non-linear reductions (CPX_PARAM_PRELINEAR) in presolve.\n",
      "         Disabling repeat represolve because of lazy constraint/incumbent callback.\n",
      "10/01/19 @ 02:20 PM | adding 249 initial cuts\n",
      "1 of 1 MIP starts provided solutions.\n",
      "MIP start 'mip_start_0' defined initial solution with objective 0.0998.\n",
      "Tried aggregator 1 time.\n",
      "Reduced MIP has 28 rows, 56 columns, and 107 nonzeros.\n",
      "Reduced MIP has 26 binaries, 28 generals, 0 SOSs, and 0 indicators.\n",
      "Presolve time = 0.00 sec. (0.06 ticks)\n",
      "Probing time = 0.00 sec. (0.02 ticks)\n",
      "MIP emphasis: balance optimality and feasibility.\n",
      "MIP search method: traditional branch-and-cut.\n",
      "Parallel mode: none, using 1 thread.\n",
      "Root relaxation solution time = 0.00 sec. (0.04 ticks)\n",
      "\n",
      "        Nodes                                         Cuts/\n",
      "   Node  Left     Objective  IInf  Best Integer    Best Bound    ItCnt     Gap         Variable B NodeID Parent  Depth\n",
      "\n",
      "*     0+    0                            0.0998        0.0975             2.30%\n",
      "      0     0        0.0975     1        0.0998        0.0975        1    2.29%\n",
      "      0     2        0.0975     4        0.0998        0.0975        1    2.29%                        0             0\n",
      "Elapsed time = 0.14 sec. (1.66 ticks, tree = 0.01 MB, solutions = 1)\n",
      "   2631  1277        0.0986     3        0.0998        0.0975     8084    2.29%           rho_0 D   2631   2630     73\n",
      "   4165  1970        0.0998     5        0.0998        0.0975    15820    2.29%          rho_15 U   4165   4164     71\n",
      "   5640  2700        cutoff              0.0998        0.0975    24120    2.29%           rho_0 U   5640   5639     42\n",
      "   7119  3335        0.0980    12        0.0998        0.0975    29334    2.29%          rho_14 D   7119   6948     55\n",
      "   8464  3963        0.0975     1        0.0998        0.0975    35944    2.29%          rho_14 U   8464   8462     77\n",
      "   9780  4576        cutoff              0.0998        0.0975    42461    2.29%          rho_15 D   9780   9779     25\n",
      "  11130  5135        0.0984     5        0.0998        0.0975    47600    2.29%          rho_14 D  11130  11129     89\n",
      "  12694  5667        0.0975    10        0.0998        0.0975    52696    2.29%          rho_14 U  12694  12693     67\n",
      "  14197  6104        0.0995     1        0.0998        0.0975    57843    2.29%           rho_8 D  14197  14196     85\n",
      "  19388  8430        0.0987    13        0.0998        0.0975    81179    2.29%          rho_14 D  19388  19387     57\n",
      "Elapsed time = 4.67 sec. (3102.60 ticks, tree = 2.60 MB, solutions = 1)\n",
      "  24499 10782        0.0975     4        0.0998        0.0975   105353    2.29%          rho_14 U  24499  24497     56\n",
      "  29690 13033        0.0997     6        0.0998        0.0975   124009    2.29%          rho_19 D  29690  29689     53\n",
      "  33767 14932        0.0976    11        0.0998        0.0975   143972    2.29%           rho_0 D  33767  33765     65\n",
      "  37065 16448        0.0975     9        0.0998        0.0975   168467    2.29%           rho_7 U  37065  36909     34\n",
      "  40608 17930        0.0984     8        0.0998        0.0975   188832    2.29%          rho_14 D  40608  40607     66\n",
      "  44702 19876        0.0988     7        0.0998        0.0975   204731    2.29%          rho_25 D  44702  44701     82\n",
      "  48506 21481        0.0976     5        0.0998        0.0975   220713    2.29%          rho_14 D  48506  48505     57\n",
      "  51933 22929        0.0989     4        0.0998        0.0975   235191    2.29%           rho_7 U  51933  51931     66\n",
      "  55405 24634        0.0996     3        0.0998        0.0975   249279    2.29%          rho_17 U  55405  55404     50\n",
      "  58604 26332        0.0987    12        0.0998        0.0975   263554    2.29%          rho_14 D  58604  21159     70\n",
      "Elapsed time = 15.84 sec. (12641.14 ticks, tree = 7.69 MB, solutions = 1)\n",
      "  61640 27651        0.0987     9        0.0998        0.0975   282520    2.29%          rho_16 D  61640  61639     87\n",
      "  64720 28935        0.0978     9        0.0998        0.0975   298031    2.29%           rho_7 D  64720  64719     72\n",
      "  68056 30501        0.0975     1        0.0998        0.0975   312513    2.29%          rho_14 U  68056  68054     73\n",
      "  71241 31539        0.0978     7        0.0998        0.0975   327448    2.29%           rho_0 D  71241  71239     55\n",
      "  74114 32725        0.0977    12        0.0998        0.0975   344768    2.29%           rho_8 D  74114  74113     41\n",
      "  77168 34063        0.0992     8        0.0998        0.0975   359857    2.29%          rho_24 D  77168  77167     41\n",
      "  80046 35228        0.0981     1        0.0998        0.0975   374572    2.29%           rho_8 U  80046  32632     56\n",
      "  82696 36403        0.0981    11        0.0998        0.0975   393443    2.29%          rho_14 D  82696  82695     38\n",
      "  85402 37459        0.0976    10        0.0998        0.0975   410455    2.29%          rho_14 D  85402  85163     59\n",
      "  88337 38922        0.0991     7        0.0998        0.0975   424329    2.29%          rho_25 D  88337  88335     86\n",
      "Elapsed time = 25.99 sec. (22180.41 ticks, tree = 12.36 MB, solutions = 1)\n",
      "  91212 39958        0.0990     8        0.0998        0.0975   437841    2.29%           rho_8 U  91212  91211     54\n",
      "  94089 40768        cutoff              0.0998        0.0975   450571    2.29%           rho_2 D  94089  94088     87\n",
      "  96846 42171        0.0979     5        0.0998        0.0975   465313    2.29%           rho_7 D  96846  96844     44\n",
      "  99583 43720        cutoff              0.0998        0.0975   479643    2.29%          rho_15 U  99583  99582     65\n",
      " 102601 44985        cutoff              0.0998        0.0975   492224    2.29%           rho_8 U 102601 102600     83\n",
      " 105404 46140        0.0997     6        0.0998        0.0975   505758    2.29%           rho_2 D 105404 105403     36\n",
      " 108008 47195        0.0991    12        0.0998        0.0975   521457    2.29%          rho_25 D 108008 108007     54\n",
      " 110380 48353        0.0977    18        0.0998        0.0975   539857    2.29%          rho_14 D 110380 110274     59\n",
      " 112740 49406        cutoff              0.0998        0.0975   557919    2.29%           rho_0 U 112740 112738     32\n",
      " 115513 50774        0.0975     1        0.0998        0.0975   575008    2.29%           rho_9 U 115513 115511     71\n",
      "Elapsed time = 35.70 sec. (31722.11 ticks, tree = 15.50 MB, solutions = 1)\n",
      " 118065 52042        0.0980    10        0.0998        0.0975   594165    2.29%          rho_14 D 118065 118064     58\n",
      " 120746 53040        0.0989     6        0.0998        0.0975   608768    2.29%          rho_17 D 120746 120745     69\n",
      " 123542 54057        0.0980     6        0.0998        0.0975   621413    2.29%          rho_14 U 123542 123540     53\n",
      " 126148 55695        0.0975     7        0.0998        0.0975   638154    2.29%           rho_0 D 126148 126146     68\n",
      " 128499 56679        0.0992     5        0.0998        0.0975   651559    2.29%          rho_13 D 128499 128497     68\n",
      "*129488 55926      integral     0        0.0996        0.0975   657529    2.10%\n",
      " 131375 56897        0.0975     5        0.0996        0.0975   668232    2.10%          rho_14 U 131375 131285     78\n",
      "*134000+58216                            0.0996        0.0975             2.10%\n",
      " 134132 58284        cutoff              0.0996        0.0975   682559    2.10%           rho_0 U 134132 134131     43\n",
      " 136565 59455        0.0987    10        0.0996        0.0975   695439    2.10%           rho_4 U 136565 134814     67\n",
      " 139392 60244        0.0983     7        0.0996        0.0975   707748    2.10%           rho_7 D 139392 139391     37\n",
      " 141841 61097        0.0994     7        0.0996        0.0975   723531    2.10%           rho_5 D 141841 141839     58\n",
      "Elapsed time = 47.52 sec. (41260.85 ticks, tree = 18.27 MB, solutions = 3)\n",
      "*143752 58348      integral     0        0.0994        0.0975   738977    1.86%\n",
      " 144240 58696        0.0976    12        0.0994        0.0975   741506    1.86%           rho_0 D 144240 144238     60\n",
      " 146793 59847        0.0983    13        0.0994        0.0975   757680    1.86%          rho_13 D 146793 146792     57\n",
      " 149379 61079        cutoff              0.0994        0.0975   773734    1.86%           rho_0 U 149379 149378     41\n",
      " 151819 62192        0.0982    16        0.0994        0.0975   788552    1.86%           rho_7 D 151819 151818     82\n",
      " 154204 63253        0.0981    11        0.0994        0.0975   803229    1.86%           rho_2 D 154204 154203     65\n",
      " 156544 64257        0.0979    14        0.0994        0.0975   817977    1.86%          rho_25 D 156544 156543     63\n",
      " 158903 65267        cutoff              0.0994        0.0975   832602    1.86%           rho_0 U 158903 158901     90\n",
      " 161228 66266        0.0975     1        0.0994        0.0975   847646    1.86%          rho_14 U 161228 161226     41\n",
      " 163550 67574        0.0977    14        0.0994        0.0975   864974    1.86%          rho_17 D 163550 163549     65\n",
      " 165652 68702        0.0992     8        0.0994        0.0975   879756    1.86%           rho_2 U 165652 165650     95\n",
      "Elapsed time = 60.25 sec. (50800.30 ticks, tree = 23.21 MB, solutions = 4)\n",
      " 168299 69508        cutoff              0.0994        0.0975   894046    1.86%          rho_15 U 168299 168297     44\n",
      " 170850 70089        0.0991     5        0.0994        0.0975   906612    1.86%          rho_10 D 170850 170848     72\n",
      " 173284 70747        cutoff              0.0994        0.0975   919582    1.86%          rho_17 U 173284 173283     66\n",
      " 175837 71582        0.0975     7        0.0994        0.0975   932458    1.86%           rho_0 D 175837 175835     42\n",
      " 178390 72574        0.0988     5        0.0994        0.0975   946715    1.86%          rho_14 D 178390 178389     23\n",
      " 180943 73748        cutoff              0.0994        0.0975   961889    1.86%          rho_17 U 180943 180942     45\n",
      " 183519 74747        0.0978    10        0.0994        0.0975   977173    1.86%          rho_13 D 183519 183518     97\n",
      " 186185 75876        cutoff              0.0994        0.0975   992450    1.86%           rho_4 U 186185 186183     79\n",
      " 188877 77035        0.0981    10        0.0994        0.0975  1007972    1.86%           rho_4 D 188877 188876     67\n",
      " 191559 78160        0.0975     7        0.0994        0.0975  1023072    1.86%           rho_0 D 191559 191557     40\n",
      "Elapsed time = 71.75 sec. (60339.80 ticks, tree = 25.77 MB, solutions = 4)\n",
      " 194076 78912        0.0979     8        0.0994        0.0975  1035604    1.86%          rho_17 N 194076 194075     56\n",
      " 196403 79748        0.0975     7        0.0994        0.0975  1049614    1.86%           rho_8 U 196403  95238     74\n",
      " 198682 80743        0.0986    14        0.0994        0.0975  1064741    1.86%           rho_7 D 198682 198681     77\n",
      " 200960 81709        0.0986    11        0.0994        0.0975  1080089    1.86%           rho_0 D 200960 200959     52\n",
      " 203222 82670        0.0977    13        0.0994        0.0975  1095429    1.86%           rho_7 D 203222 203221     49\n",
      " 205472 83635        0.0991     5        0.0994        0.0975  1110735    1.86%          rho_10 D 205472 205470     28\n",
      " 208025 84679        0.0975     4        0.0994        0.0975  1124330    1.86%          rho_14 U 208025 208023     64\n",
      " 210503 85396        0.0978     7        0.0994        0.0975  1136277    1.86%           rho_8 U 210503 207415     41\n",
      " 212960 86081        0.0981     8        0.0994        0.0975  1148060    1.86%          rho_17 D 212960 212958     74\n",
      " 215435 86871        0.0987    11        0.0994        0.0975  1159902    1.86%          rho_25 D 215435 215434     37\n",
      "Elapsed time = 85.38 sec. (69881.09 ticks, tree = 28.10 MB, solutions = 4)\n",
      " 217820 87882        0.0986    11        0.0994        0.0975  1173562    1.86%           rho_0 D 217820 217819     30\n",
      " 220198 88899        cutoff              0.0994        0.0975  1189930    1.86%           rho_0 U 220198 220197     74\n",
      " 222489 90054        0.0978    11        0.0994        0.0975  1206565    1.86%           rho_7 U 222489 222344     37\n",
      " 224617 90924        cutoff              0.0994        0.0975  1222623    1.86%           rho_0 U 224617 224615     51\n",
      " 227109 92179        0.0987     4        0.0994        0.0975  1238359    1.86%           rho_0 U 227109 227108     52\n",
      " 229702 93157        cutoff              0.0994        0.0975  1253450    1.86%          rho_25 D 229702 229701     59\n",
      " 232265 94078        0.0984     7        0.0994        0.0975  1268406    1.86%          rho_15 D 232265 232264     60\n",
      " 234418 94674        0.0985     7        0.0994        0.0975  1282540    1.86%          rho_25 D 234418 234417     92\n",
      " 236585 95491        cutoff              0.0994        0.0975  1297551    1.86%           rho_4 U 236585 236584     45\n",
      " 238760 96241        0.0978     8        0.0994        0.0975  1313021    1.86%           rho_2 D 238760 238759     29\n",
      "Elapsed time = 97.20 sec. (79420.50 ticks, tree = 30.60 MB, solutions = 4)\n",
      " 241060 97523        0.0989     6        0.0994        0.0975  1327678    1.86%           rho_4 D 241060 241058     32\n",
      " 243339 98486        0.0975     5        0.0994        0.0975  1342809    1.86%           rho_8 U 243339 243291     34\n",
      " 245529 99217        cutoff              0.0994        0.0975  1357621    1.86%          rho_25 U 245529 245527     52\n",
      " 247715 99968        0.0980     9        0.0994        0.0975  1372713    1.86%           rho_8 D 247715 247714     70\n",
      " 249882 100690        0.0975     8        0.0994        0.0975  1387770    1.86%           rho_8 D 249882 249881     80\n",
      " 252044 101520        0.0975     7        0.0994        0.0975  1403161    1.86%          rho_14 D 252044 252043     81\n",
      " 254238 102365        0.0975     7        0.0994        0.0975  1418722    1.86%           rho_0 D 254238 254233     71\n",
      " 256418 103177        0.0975     5        0.0994        0.0975  1434135    1.86%           rho_8 U 256418 256404     40\n",
      " 258859 103984        cutoff              0.0994        0.0975  1446414    1.86%           rho_3 U 258859 258858     52\n",
      " 267192 107139        0.0988     9        0.0994        0.0975  1506624    1.86%          rho_25 U 267192 157087     65\n",
      "Elapsed time = 113.81 sec. (91820.59 ticks, tree = 33.54 MB, solutions = 4)\n",
      " 276010 109799        0.0978    12        0.0994        0.0975  1564046    1.86%           rho_7 U 276010 275765     57\n",
      " 285608 113342        0.0975    11        0.0994        0.0975  1619404    1.86%           rho_1 D 285608 285607     30\n",
      " 293236 116995        cutoff              0.0994        0.0975  1685235    1.86%          rho_25 U 293236 293234     60\n",
      " 301711 120828        cutoff              0.0994        0.0975  1744893    1.86%           rho_7 D 301711 301709     83\n",
      " 311179 124808        0.0975     5        0.0994        0.0975  1799634    1.86%          rho_14 U 311179 311177     73\n",
      " 320463 127932        0.0993     5        0.0994        0.0975  1852489    1.86%          rho_23 D 320463 320462     67\n",
      " 329471 130877        0.0977    10        0.0994        0.0975  1903469    1.86%           rho_0 D 329471 329469     46\n",
      " 338534 133940        0.0975     5        0.0994        0.0975  1959557    1.86%          rho_14 U 338534 338532     81\n",
      " 347861 138368        0.0984    10        0.0994        0.0975  2019646    1.86%           rho_4 D 347861 347859     79\n",
      " 357313 141934        cutoff              0.0994        0.0975  2072090    1.86%           rho_0 U 357313 357312     53\n",
      "Elapsed time = 155.69 sec. (129971.56 ticks, tree = 46.09 MB, solutions = 4)\n",
      "*363000+143324                            0.0994        0.0975             1.86%\n",
      " 366900 144597        0.0976    11        0.0994        0.0975  2123608    1.86%          rho_13 D 366900 366807     55\n",
      " 375794 148714        0.0984    11        0.0994        0.0975  2181981    1.86%           rho_7 D 375794 375792     55\n",
      " 384676 151998        0.0989    11        0.0994        0.0975  2234923    1.86%           rho_4 D 384676 384674     40\n",
      " 394545 155737        0.0992     4        0.0994        0.0975  2280336    1.86%          rho_15 D 394545 394543     56\n",
      " 404116 158362        cutoff              0.0994        0.0975  2322861    1.86%          rho_17 U 404116 404114     36\n",
      " 413071 161774        0.0992     9        0.0994        0.0975  2378269    1.86%           rho_3 D 413071 413069     53\n",
      " 422207 165447        cutoff              0.0994        0.0975  2429937    1.86%           rho_3 D 422207 422206     54\n",
      " 430844 168480        0.0989    12        0.0994        0.0975  2479810    1.86%           rho_7 U 430844 430843     32\n",
      " 438939 172236        0.0987     7        0.0994        0.0975  2537706    1.86%          rho_17 D 438939 438937     79\n",
      " 447600 176566        0.0981    11        0.0994        0.0975  2592017    1.86%           rho_7 U 447600 447344     66\n",
      "Elapsed time = 196.72 sec. (168122.72 ticks, tree = 57.25 MB, solutions = 5)\n",
      "\n",
      "User cuts applied:  565\n",
      "\n",
      "Root node processing (before b&c):\n",
      "  Real time             =    0.14 sec. (1.71 ticks)\n",
      "Sequential b&c:\n",
      "  Real time             =  199.88 sec. (171500.81 ticks)\n",
      "                          ------------\n",
      "Total (root+branch&cut) =  200.02 sec. (171502.52 ticks)\n",
      "+----------------------------------------------+------------------+-----------+\n",
      "| Pr(Y = +1) = 1.0/(1.0 + exp(-(-6 + score))   |                  |           |\n",
      "| ============================================ | ================ | ========= |\n",
      "| p_property>=1                                |         2 points |   + ..... |\n",
      "| age_at_current_charge<=18                    |         1 points |   + ..... |\n",
      "| age_at_current_charge<=47                    |         1 points |   + ..... |\n",
      "| p_arrest>=2                                  |         1 points |   + ..... |\n",
      "| p_pending_charge>=1                          |         1 points |   + ..... |\n",
      "| ============================================ | ================ | ========= |\n",
      "| ADD POINTS FROM ROWS 1 to 5                  |            SCORE |   = ..... |\n",
      "+----------------------------------------------+------------------+-----------+\n",
      "model_id, score_thresholds 0 {'rank_abs': [0]}\n",
      "get_disparity_predefined_group()\n"
     ]
    },
    {
     "name": "stderr",
     "output_type": "stream",
     "text": [
      "C:\\Users\\binha\\Documents\\Duke\\Cynthia Research\\psa-analysis - test2\\utils\\fairness_functions.py:82: RuntimeWarning:\n",
      "\n",
      "invalid value encountered in longlong_scalars\n",
      "\n",
      "C:\\Users\\binha\\Documents\\Duke\\Cynthia Research\\psa-analysis - test2\\utils\\fairness_functions.py:95: RuntimeWarning:\n",
      "\n",
      "divide by zero encountered in longlong_scalars\n",
      "\n",
      "C:\\Users\\binha\\Documents\\Duke\\Cynthia Research\\psa-analysis - test2\\utils\\fairness_functions.py:86: RuntimeWarning:\n",
      "\n",
      "invalid value encountered in longlong_scalars\n",
      "\n",
      "C:\\Users\\binha\\Documents\\Duke\\Cynthia Research\\psa-analysis - test2\\utils\\fairness_functions.py:95: RuntimeWarning:\n",
      "\n",
      "invalid value encountered in longlong_scalars\n",
      "\n"
     ]
    },
    {
     "name": "stdout",
     "output_type": "stream",
     "text": [
      "setting c0 = 0.0 to ensure that intercept is not penalized\n",
      "10/01/19 @ 02:23 PM | 1141 rows in lookup table\n",
      "10/01/19 @ 02:23 PM | ------------------------------------------------------------\n",
      "10/01/19 @ 02:23 PM | runnning initialization procedure\n",
      "10/01/19 @ 02:23 PM | ------------------------------------------------------------\n",
      "10/01/19 @ 02:23 PM | CPA produced 2 cuts\n",
      "10/01/19 @ 02:23 PM | running naive rounding on 76 solutions\n",
      "10/01/19 @ 02:23 PM | best objective value: 0.0990\n",
      "10/01/19 @ 02:23 PM | rounding produced 5 integer solutions\n",
      "10/01/19 @ 02:23 PM | best objective value is 0.1017\n",
      "10/01/19 @ 02:23 PM | running sequential rounding on 76 solutions\n",
      "10/01/19 @ 02:23 PM | best objective value: 0.0990\n",
      "10/01/19 @ 02:23 PM | sequential rounding produced 6 integer solutions\n",
      "10/01/19 @ 02:23 PM | best objective value: 0.1001\n",
      "10/01/19 @ 02:23 PM | polishing 11 solutions\n",
      "10/01/19 @ 02:23 PM | best objective value: 0.1001\n",
      "10/01/19 @ 02:23 PM | polishing produced 5 integer solutions\n",
      "10/01/19 @ 02:23 PM | initialization produced 11 feasible solutions\n",
      "10/01/19 @ 02:23 PM | best objective value: 0.1001\n",
      "10/01/19 @ 02:23 PM | ------------------------------------------------------------\n",
      "10/01/19 @ 02:23 PM | completed initialization procedure\n",
      "10/01/19 @ 02:23 PM | ------------------------------------------------------------\n",
      "10/01/19 @ 02:23 PM | 1141 rows in lookup table\n",
      "CPXPARAM_Read_DataCheck                          1\n",
      "CPXPARAM_Threads                                 1\n",
      "CPXPARAM_Parallel                                1\n",
      "CPXPARAM_RandomSeed                              0\n",
      "CPXPARAM_TimeLimit                               200\n",
      "CPXPARAM_MIP_Tolerances_LowerCutoff              0.097712309311143969\n",
      "CPXPARAM_MIP_Tolerances_UpperCutoff              0.10012100871250555\n"
     ]
    },
    {
     "name": "stderr",
     "output_type": "stream",
     "text": [
      "Warning: Control callbacks may disable some MIP features.\n"
     ]
    },
    {
     "name": "stdout",
     "output_type": "stream",
     "text": [
      "Lazy constraint(s) or lazy constraint callback is present.\n",
      "    Disabling dual reductions (CPX_PARAM_REDUCE) in presolve.\n",
      "    Disabling non-linear reductions (CPX_PARAM_PRELINEAR) in presolve.\n",
      "         Disabling repeat represolve because of lazy constraint/incumbent callback.\n",
      "10/01/19 @ 02:23 PM | adding 258 initial cuts\n",
      "1 of 1 MIP starts provided solutions.\n",
      "MIP start 'mip_start_0' defined initial solution with objective 0.1001.\n",
      "Tried aggregator 1 time.\n",
      "Reduced MIP has 28 rows, 56 columns, and 107 nonzeros.\n",
      "Reduced MIP has 26 binaries, 28 generals, 0 SOSs, and 0 indicators.\n",
      "Presolve time = 0.00 sec. (0.06 ticks)\n",
      "Probing time = 0.00 sec. (0.02 ticks)\n",
      "MIP emphasis: balance optimality and feasibility.\n",
      "MIP search method: traditional branch-and-cut.\n",
      "Parallel mode: none, using 1 thread.\n",
      "Root relaxation solution time = 0.00 sec. (0.04 ticks)\n",
      "\n",
      "        Nodes                                         Cuts/\n",
      "   Node  Left     Objective  IInf  Best Integer    Best Bound    ItCnt     Gap         Variable B NodeID Parent  Depth\n",
      "\n",
      "*     0+    0                            0.1001        0.0977             2.42%\n",
      "      0     0        0.0977     1        0.1001        0.0977        1    2.41%\n",
      "      0     2        0.0977     4        0.1001        0.0977        1    2.41%                        0             0\n",
      "Elapsed time = 0.13 sec. (1.68 ticks, tree = 0.01 MB, solutions = 1)\n",
      "   3029  1382        0.0992     4        0.1001        0.0977     9626    2.41%           rho_0 D   3029   3027     35\n",
      "*  4314  1999      integral     0        0.0999        0.0977    15223    2.21%\n",
      "   4540  2110        0.0986    10        0.0999        0.0977    16299    2.21%           rho_0 D   4540   1281     12\n",
      "*  4562  2120      integral     0        0.0999        0.0977    16400    2.21%\n",
      "*  4630+ 2155                            0.0999        0.0977             2.21%\n",
      "   5614  2524        0.0995     3        0.0999        0.0977    20591    2.21%          rho_17 D   5614   5613     35\n",
      "   6798  2831        0.0999     1        0.0999        0.0977    24499    2.21%          rho_21 U   6798   6797     62\n",
      "   8018  3084        0.0995     3        0.0999        0.0977    27897    2.21%          rho_17 D   8018   8016     67\n",
      "   9342  3354        0.0999     3        0.0999        0.0977    31616    2.21%          rho_20 D   9342   9341     83\n",
      "  10530  3603        0.0992     6        0.0999        0.0977    34936    2.21%           rho_2 D  10530  10529    100\n",
      "  11784  3874        0.0977     1        0.0999        0.0977    38930    2.21%          rho_14 U  11784  11723     37\n",
      "  13035  4191        cutoff              0.0999        0.0977    43792    2.21%          rho_23 U  13035  13034     60\n",
      "  18008  5617        0.0977     1        0.0999        0.0977    63017    2.21%          rho_14 U  18008  14304     49\n",
      "Elapsed time = 4.55 sec. (3102.93 ticks, tree = 1.57 MB, solutions = 4)\n",
      "* 21049  5668      integral     0        0.0996        0.0977    73759    1.86%\n",
      "  22910  6727        cutoff              0.0996        0.0977    83338    1.86%           rho_8 D  22910  22909     60\n",
      "  27169  8496        cutoff              0.0996        0.0977   101801    1.86%           rho_0 U  27169  27168     54\n",
      "  31391  9811        0.0977     4        0.0996        0.0977   119881    1.86%          rho_13 D  31391  31088     75\n",
      "  35372 10918        0.0977     5        0.0996        0.0977   137575    1.86%          rho_14 U  35372  35370     54\n",
      "  38670 12071        0.0995     5        0.0996        0.0977   156551    1.86%          rho_12 U  38670  38668     73\n",
      "  41966 13226        0.0977     4        0.0996        0.0977   175340    1.86%           rho_0 D  41966  41964     77\n",
      "  45028 14040        0.0977     6        0.0996        0.0977   191893    1.86%          rho_14 U  45028  45026     54\n",
      "  48299 14889        0.0977     6        0.0996        0.0977   209588    1.86%           rho_9 U  48299  48286     29\n",
      "  51510 16560        0.0977     1        0.0996        0.0977   228659    1.86%          rho_14 U  51510  51508     61\n",
      "  55281 17835        0.0982     1        0.0996        0.0977   243505    1.86%           rho_2 D  55281  55280     74\n",
      "Elapsed time = 17.27 sec. (12641.69 ticks, tree = 5.54 MB, solutions = 5)\n",
      "  58664 18519        0.0977     3        0.0996        0.0977   259426    1.86%          rho_14 U  58664  58662     52\n",
      "  61998 20536        0.0977     5        0.0996        0.0977   277309    1.86%           rho_0 D  61998  61996     61\n",
      "  65586 21898        0.0979    10        0.0996        0.0977   294549    1.86%          rho_13 D  65586  65585     32\n",
      "  69144 23294        0.0979     7        0.0996        0.0977   314865    1.86%          rho_14 D  69144  69143     76\n",
      "  72687 24363        0.0985     9        0.0996        0.0977   333435    1.86%           rho_2 D  72687  72686     46\n",
      "  76227 25094        0.0977     5        0.0996        0.0977   349357    1.86%           rho_0 D  76227  76225     44\n",
      "  79820 26156        0.0977     2        0.0996        0.0977   366089    1.86%           rho_0 D  79820  79818     28\n",
      "  83357 27786        cutoff              0.0996        0.0977   385515    1.86%          rho_24 U  83357  83355     42\n",
      "  86750 28925        0.0977     1        0.0996        0.0977   402821    1.86%          rho_14 U  86750  86748     86\n",
      "  90090 29900        0.0980     9        0.0996        0.0977   419780    1.86%          rho_24 D  90090  90089     50\n",
      "Elapsed time = 27.59 sec. (22180.07 ticks, tree = 8.56 MB, solutions = 5)\n",
      "  93473 30976        0.0977     6        0.0996        0.0977   436366    1.86%           rho_8 U  93473  93459     55\n",
      "  96885 32085        0.0992     5        0.0996        0.0977   452344    1.86%          rho_23 N  96885  96883     67\n",
      " 100319 33217        cutoff              0.0996        0.0977   468000    1.86%           rho_0 U 100319 100318     63\n",
      " 103686 34348        cutoff              0.0996        0.0977   483972    1.86%          rho_16 U 103686 103685     67\n",
      " 107080 35402        0.0989     8        0.0996        0.0977   499752    1.86%           rho_4 D 107080 107079     81\n",
      " 110398 36403        cutoff              0.0996        0.0977   515496    1.86%          rho_23 U 110398 110397     40\n",
      " 113773 37387        0.0977     5        0.0996        0.0977   528683    1.86%          rho_14 D 113773 113772     62\n",
      " 117062 38269        0.0983     7        0.0996        0.0977   541094    1.86%          rho_10 D 117062 117060     81\n",
      " 120348 39084        0.0988     8        0.0996        0.0977   553829    1.86%           rho_4 D 120348 120346     73\n",
      " 123692 40354        cutoff              0.0996        0.0977   573773    1.86%          rho_25 U 123692 123691     69\n",
      "Elapsed time = 37.33 sec. (31718.48 ticks, tree = 12.55 MB, solutions = 5)\n",
      " 126938 41374        cutoff              0.0996        0.0977   591442    1.86%           rho_0 U 126938 126937     33\n",
      " 130282 42585        0.0977     4        0.0996        0.0977   608345    1.86%          rho_14 U 130282 130280     87\n",
      " 133425 43807        0.0977     4        0.0996        0.0977   627068    1.86%           rho_0 D 133425 133423    100\n",
      " 136324 44912        cutoff              0.0996        0.0977   650061    1.86%          rho_23 U 136324 136323     73\n",
      " 139460 46017        0.0978     9        0.0996        0.0977   671103    1.86%           rho_2 U 139460 139459     29\n",
      " 142464 47062        0.0978     8        0.0996        0.0977   686292    1.86%           rho_8 N 142464 142463     60\n",
      " 145552 48282        0.0977     2        0.0996        0.0977   701914    1.86%          rho_14 U 145552 145550     39\n",
      " 148620 49486        0.0987     6        0.0996        0.0977   722222    1.86%           rho_2 D 148620 148619     75\n",
      " 151711 50323        0.0992     7        0.0996        0.0977   739844    1.86%          rho_13 N 151711 151710     35\n",
      " 154731 50804        0.0977     6        0.0996        0.0977   755564    1.86%           rho_7 U 154731  88500     76\n",
      "Elapsed time = 47.30 sec. (41257.11 ticks, tree = 15.17 MB, solutions = 5)\n",
      " 157618 51048        cutoff              0.0996        0.0977   771183    1.86%         alpha_2 D 157618 157616     18\n",
      " 160503 51910        0.0977     6        0.0996        0.0977   790162    1.86%           rho_7 U 160503  85051     52\n",
      " 163435 52725        0.0988    10        0.0996        0.0977   806174    1.86%          rho_14 D 163435 163434     37\n",
      " 166327 53861        0.0983     5        0.0996        0.0977   824429    1.86%           rho_0 D 166327 166325     32\n",
      " 169321 55032        0.0994     4        0.0996        0.0977   841151    1.86%           rho_5 N 169321 169320     54\n",
      " 172080 55624        0.0994     3        0.0996        0.0977   858341    1.86%          rho_13 D 172080 172079     41\n",
      " 174881 56236        0.0984    11        0.0996        0.0977   875152    1.86%          rho_11 D 174881 174880     39\n",
      " 177733 57173        0.0980     4        0.0996        0.0977   892944    1.86%           rho_8 U 177733  85849     77\n",
      " 180308 58510        0.0984    13        0.0996        0.0977   912802    1.86%           rho_4 D 180308 180307     82\n",
      " 183276 59710        0.0993     7        0.0996        0.0977   930252    1.86%          rho_17 D 183276 183275     82\n",
      "Elapsed time = 57.83 sec. (50795.43 ticks, tree = 17.47 MB, solutions = 5)\n",
      " 186256 60957        0.0996    10        0.0996        0.0977   948617    1.86%          rho_12 U 186256 186254     41\n",
      " 189070 62188        0.0977     4        0.0996        0.0977   968935    1.86%          rho_14 U 189070 189068     72\n",
      " 191953 63363        0.0987     6        0.0996        0.0977   988193    1.86%           rho_0 D 191953 191952     67\n",
      " 194687 64273        0.0978     7        0.0996        0.0977  1007425    1.86%           rho_8 D 194687 142288     93\n",
      " 197709 64966        cutoff              0.0996        0.0977  1022045    1.86%          rho_23 U 197709 197708     51\n",
      " 200571 66121        0.0977     1        0.0996        0.0977  1040062    1.86%          rho_14 U 200571 200569     48\n",
      " 203581 67099        0.0977     5        0.0996        0.0977  1053250    1.86%          rho_14 U 203581 203579     66\n",
      " 206790 68392        0.0993     9        0.0996        0.0977  1065485    1.86%          rho_16 D 206790 206789     70\n",
      " 209705 68892        0.0980     2        0.0996        0.0977  1080463    1.86%           rho_0 D 209705 209703     61\n",
      " 212562 69328        cutoff              0.0996        0.0977  1095218    1.86%           rho_0 U 212562 212560     57\n",
      "Elapsed time = 67.80 sec. (60334.31 ticks, tree = 22.81 MB, solutions = 5)\n",
      " 216058 70163        0.0977     5        0.0996        0.0977  1110272    1.86%          rho_14 U 216058 216056     65\n",
      " 218953 71075        0.0988     8        0.0996        0.0977  1126866    1.86%           rho_7 D 218953 218952     46\n",
      " 221752 71544        0.0993     6        0.0996        0.0977  1141715    1.86%           rho_2 U 221752 221751     77\n",
      " 224750 72370        0.0992     9        0.0996        0.0977  1157186    1.86%           rho_5 D 224750 224748     83\n",
      " 227860 73367        0.0988     4        0.0996        0.0977  1169506    1.86%          rho_25 D 227860 227858     67\n",
      " 230622 74344        0.0996     8        0.0996        0.0977  1184774    1.86%           rho_3 U 230622 230621     46\n",
      " 233290 75385        0.0983     9        0.0996        0.0977  1201189    1.86%           rho_7 U 233290 233289     80\n",
      " 235921 76416        0.0977    10        0.0996        0.0977  1218387    1.86%          rho_16 D 235921 235920     44\n",
      " 238561 77361        cutoff              0.0996        0.0977  1235241    1.86%           rho_0 D 238561 238560     52\n",
      " 241397 78220        0.0993     7        0.0996        0.0977  1250637    1.86%           rho_4 D 241397 241395     39\n",
      "Elapsed time = 77.23 sec. (69872.32 ticks, tree = 25.08 MB, solutions = 5)\n",
      " 244488 78848        0.0979     4        0.0996        0.0977  1262612    1.86%           rho_8 U 244488 244387     36\n",
      " 247610 79592        0.0987     7        0.0996        0.0977  1274370    1.86%          rho_10 D 247610 247608     72\n",
      " 250680 80292        0.0992     4        0.0996        0.0977  1286062    1.86%          rho_25 D 250680 250679     52\n",
      " 253768 80988        0.0991     7        0.0996        0.0977  1298313    1.86%           rho_4 D 253768 253766     49\n",
      " 256500 82035        0.0985     7        0.0996        0.0977  1315972    1.86%           rho_3 D 256500 256498     88\n",
      " 259221 82916        0.0991     8        0.0996        0.0977  1332218    1.86%           rho_5 D 259221 259219     51\n",
      " 261924 83774        0.0981     8        0.0996        0.0977  1348402    1.86%           rho_8 U 261924 261922     31\n",
      " 264574 84544        0.0990    13        0.0996        0.0977  1364178    1.86%          rho_24 D 264574 264573     82\n",
      " 267341 85364        0.0977     2        0.0996        0.0977  1380081    1.86%          rho_14 U 267341 267339     52\n",
      " 270556 86718        0.0977     5        0.0996        0.0977  1393971    1.86%          rho_14 U 270556 270554     55\n",
      "Elapsed time = 86.33 sec. (79412.25 ticks, tree = 27.24 MB, solutions = 5)\n",
      " 273437 88045        0.0983    14        0.0996        0.0977  1408963    1.86%           rho_8 D 273437 273436     43\n",
      " 276085 89039        0.0994     6        0.0996        0.0977  1423332    1.86%          rho_24 D 276085 276084     74\n",
      " 278653 89579        0.0983     6        0.0996        0.0977  1437348    1.86%           rho_0 D 278653 278651     50\n",
      " 281230 90460        0.0984    11        0.0996        0.0977  1454167    1.86%          rho_24 D 281230 281229     48\n",
      " 283686 91523        0.0991    12        0.0996        0.0977  1473393    1.86%           rho_0 D 283686 283685     84\n",
      " 285958 92229        cutoff              0.0996        0.0977  1491479    1.86%           rho_5 U 285958 285957     80\n",
      " 288232 92940        0.0994     6        0.0996        0.0977  1509337    1.86%          rho_13 D 288232 288231     55\n",
      " 290511 93699        0.0985    18        0.0996        0.0977  1527459    1.86%           rho_5 D 290511 290509     66\n",
      " 292801 94422        cutoff              0.0996        0.0977  1545397    1.86%          rho_23 U 292801 292799     68\n",
      " 302032 97482        cutoff              0.0996        0.0977  1617060    1.86%           rho_0 D 302032 302031     71\n",
      "Elapsed time = 98.00 sec. (91812.38 ticks, tree = 30.06 MB, solutions = 5)\n",
      " 312380 100433        0.0990     5        0.0996        0.0977  1676292    1.86%          rho_25 D 312380 312378     92\n",
      " 323040 104768        0.0994     3        0.0996        0.0977  1735255    1.86%          rho_17 D 323040 323039     88\n",
      " 332986 106488        cutoff              0.0996        0.0977  1794794    1.86%           rho_0 U 332986 332985     85\n",
      " 343017 109772        0.0984    10        0.0996        0.0977  1858816    1.86%           rho_7 D 343017 343016     62\n",
      " 352810 114924        0.0989    10        0.0996        0.0977  1928195    1.86%          rho_16 D 352810 352809     52\n",
      " 364082 118401        cutoff              0.0996        0.0977  1988449    1.86%           rho_4 D 364082 364080     74\n",
      " 373943 123039        0.0987     7        0.0996        0.0977  2057349    1.86%           rho_0 U 373943 373942     86\n",
      " 383761 127258        0.0977     8        0.0996        0.0977  2122812    1.86%           rho_8 D 383761 373776     88\n",
      " 393579 131108        0.0994     9        0.0996        0.0977  2186685    1.86%          rho_12 U 393579 393578     80\n",
      " 403197 134825        cutoff              0.0996        0.0977  2250966    1.86%          rho_25 U 403197 403195     68\n",
      "Elapsed time = 131.36 sec. (129961.54 ticks, tree = 42.90 MB, solutions = 5)\n",
      " 414170 139703        0.0977    11        0.0996        0.0977  2308877    1.86%           rho_8 D 414170 414169     38\n",
      " 424561 143701        cutoff              0.0996        0.0977  2368321    1.86%           rho_8 U 424561 178126     21\n",
      "*434000+146984                            0.0996        0.0977             1.86%\n",
      " 434249 147049        cutoff              0.0996        0.0977  2432809    1.86%           rho_0 U 434249 434247     66\n",
      " 444649 150700        0.0989    10        0.0996        0.0977  2492130    1.86%           rho_5 U 444649 444647     90\n",
      " 454213 153537        0.0977     8        0.0996        0.0977  2552900    1.86%           rho_2 D 454213 454212     29\n",
      " 463779 157223        0.0984     7        0.0996        0.0977  2616335    1.86%          rho_14 N 463779 463777     60\n",
      " 473348 161517        0.0986     6        0.0996        0.0977  2679515    1.86%           rho_0 U 473348 473347     25\n",
      " 482966 165706        0.0977     6        0.0996        0.0977  2744755    1.86%           rho_0 D 482966 482964     34\n",
      " 493672 170277        0.0978     6        0.0996        0.0977  2808803    1.86%           rho_2 D 493672 493671     70\n",
      " 503810 173732        0.0979     8        0.0996        0.0977  2865648    1.86%           rho_4 D 503810 503809     41\n",
      "Elapsed time = 166.03 sec. (168111.36 ticks, tree = 55.03 MB, solutions = 6)\n",
      " 513903 177690        0.0979     9        0.0996        0.0977  2927427    1.86%          rho_18 D 513903 513901     98\n",
      " 524380 181356        0.0986     9        0.0996        0.0977  2987254    1.86%          rho_24 D 524380 524379     65\n",
      " 534155 184813        0.0989    10        0.0996        0.0977  3050687    1.86%          rho_13 D 534155 534154     53\n",
      " 545120 187010        0.0990     3        0.0996        0.0977  3097560    1.86%           rho_2 D 545120 545119     74\n",
      " 554010 190693        cutoff              0.0996        0.0977  3162702    1.86%          rho_15 D 554010 554009     92\n",
      " 563500 194123        0.0991     8        0.0996        0.0977  3219490    1.86%          rho_16 D 563500 563499     46\n",
      " 572296 196997        0.0978    10        0.0996        0.0977  3279744    1.86%           rho_7 U 572296 572158     62\n",
      "*575400+197511                            0.0996        0.0977             1.86%\n",
      " 580554 199298        cutoff              0.0996        0.0977  3340605    1.86%           rho_4 U 580554 580553     54\n",
      " 589018 202016        0.0977    14        0.0996        0.0977  3404047    1.86%           rho_0 D 589018 589016     40\n",
      "\n",
      "User cuts applied:  503\n",
      "\n",
      "Root node processing (before b&c):\n",
      "  Real time             =    0.11 sec. (1.73 ticks)\n",
      "Sequential b&c:\n",
      "  Real time             =  199.91 sec. (205373.35 ticks)\n",
      "                          ------------\n",
      "Total (root+branch&cut) =  200.02 sec. (205375.08 ticks)\n",
      "+----------------------------------------------+------------------+-----------+\n",
      "| Pr(Y = +1) = 1.0/(1.0 + exp(-(-6 + score))   |                  |           |\n",
      "| ============================================ | ================ | ========= |\n",
      "| p_property>=1                                |         2 points |   + ..... |\n",
      "| age_at_current_charge<=18                    |         1 points |   + ..... |\n",
      "| age_at_current_charge<=47                    |         1 points |   + ..... |\n",
      "| p_arrest>=2                                  |         1 points |   + ..... |\n",
      "| p_pending_charge>=1                          |         1 points |   + ..... |\n",
      "| ============================================ | ================ | ========= |\n",
      "| ADD POINTS FROM ROWS 1 to 5                  |            SCORE |   = ..... |\n",
      "+----------------------------------------------+------------------+-----------+\n",
      "model_id, score_thresholds 0 {'rank_abs': [0]}\n",
      "get_disparity_predefined_group()\n"
     ]
    },
    {
     "name": "stderr",
     "output_type": "stream",
     "text": [
      "C:\\Users\\binha\\Documents\\Duke\\Cynthia Research\\psa-analysis - test2\\utils\\fairness_functions.py:82: RuntimeWarning:\n",
      "\n",
      "invalid value encountered in longlong_scalars\n",
      "\n",
      "C:\\Users\\binha\\Documents\\Duke\\Cynthia Research\\psa-analysis - test2\\utils\\fairness_functions.py:95: RuntimeWarning:\n",
      "\n",
      "divide by zero encountered in longlong_scalars\n",
      "\n",
      "C:\\Users\\binha\\Documents\\Duke\\Cynthia Research\\psa-analysis - test2\\utils\\fairness_functions.py:86: RuntimeWarning:\n",
      "\n",
      "invalid value encountered in longlong_scalars\n",
      "\n",
      "C:\\Users\\binha\\Documents\\Duke\\Cynthia Research\\psa-analysis - test2\\utils\\fairness_functions.py:95: RuntimeWarning:\n",
      "\n",
      "invalid value encountered in longlong_scalars\n",
      "\n"
     ]
    },
    {
     "name": "stdout",
     "output_type": "stream",
     "text": [
      "setting c0 = 0.0 to ensure that intercept is not penalized\n",
      "10/01/19 @ 02:27 PM | 1141 rows in lookup table\n",
      "10/01/19 @ 02:27 PM | ------------------------------------------------------------\n",
      "10/01/19 @ 02:27 PM | runnning initialization procedure\n",
      "10/01/19 @ 02:27 PM | ------------------------------------------------------------\n",
      "10/01/19 @ 02:27 PM | CPA produced 2 cuts\n",
      "10/01/19 @ 02:27 PM | running naive rounding on 77 solutions\n",
      "10/01/19 @ 02:27 PM | best objective value: 0.0990\n",
      "10/01/19 @ 02:27 PM | rounding produced 5 integer solutions\n",
      "10/01/19 @ 02:27 PM | best objective value is 0.0999\n",
      "10/01/19 @ 02:27 PM | running sequential rounding on 77 solutions\n",
      "10/01/19 @ 02:27 PM | best objective value: 0.0990\n",
      "10/01/19 @ 02:27 PM | sequential rounding produced 6 integer solutions\n",
      "10/01/19 @ 02:27 PM | best objective value: 0.0999\n",
      "10/01/19 @ 02:27 PM | polishing 11 solutions\n",
      "10/01/19 @ 02:27 PM | best objective value: 0.0999\n",
      "10/01/19 @ 02:27 PM | polishing produced 5 integer solutions\n",
      "10/01/19 @ 02:27 PM | initialization produced 7 feasible solutions\n",
      "10/01/19 @ 02:27 PM | best objective value: 0.0999\n",
      "10/01/19 @ 02:27 PM | ------------------------------------------------------------\n",
      "10/01/19 @ 02:27 PM | completed initialization procedure\n",
      "10/01/19 @ 02:27 PM | ------------------------------------------------------------\n",
      "10/01/19 @ 02:27 PM | 1141 rows in lookup table\n",
      "CPXPARAM_Read_DataCheck                          1\n",
      "CPXPARAM_Threads                                 1\n",
      "CPXPARAM_Parallel                                1\n",
      "CPXPARAM_RandomSeed                              0\n",
      "CPXPARAM_TimeLimit                               200\n",
      "CPXPARAM_MIP_Tolerances_LowerCutoff              0.097587241211583242\n",
      "CPXPARAM_MIP_Tolerances_UpperCutoff              0.099877900091841734\n"
     ]
    },
    {
     "name": "stderr",
     "output_type": "stream",
     "text": [
      "Warning: Control callbacks may disable some MIP features.\n"
     ]
    },
    {
     "name": "stdout",
     "output_type": "stream",
     "text": [
      "Lazy constraint(s) or lazy constraint callback is present.\n",
      "    Disabling dual reductions (CPX_PARAM_REDUCE) in presolve.\n",
      "    Disabling non-linear reductions (CPX_PARAM_PRELINEAR) in presolve.\n",
      "         Disabling repeat represolve because of lazy constraint/incumbent callback.\n",
      "10/01/19 @ 02:27 PM | adding 249 initial cuts\n",
      "1 of 1 MIP starts provided solutions.\n",
      "MIP start 'mip_start_0' defined initial solution with objective 0.0999.\n",
      "Tried aggregator 1 time.\n",
      "Reduced MIP has 28 rows, 56 columns, and 107 nonzeros.\n",
      "Reduced MIP has 26 binaries, 28 generals, 0 SOSs, and 0 indicators.\n",
      "Presolve time = 0.00 sec. (0.06 ticks)\n",
      "Probing time = 0.00 sec. (0.02 ticks)\n",
      "MIP emphasis: balance optimality and feasibility.\n",
      "MIP search method: traditional branch-and-cut.\n",
      "Parallel mode: none, using 1 thread.\n",
      "Root relaxation solution time = 0.00 sec. (0.04 ticks)\n",
      "\n",
      "        Nodes                                         Cuts/\n",
      "   Node  Left     Objective  IInf  Best Integer    Best Bound    ItCnt     Gap         Variable B NodeID Parent  Depth\n",
      "\n",
      "*     0+    0                            0.0999        0.0976             2.30%\n",
      "      0     0        0.0976     1        0.0999        0.0976        1    2.29%\n",
      "      0     2        0.0976     4        0.0999        0.0976        1    2.29%                        0             0\n",
      "Elapsed time = 0.17 sec. (1.66 ticks, tree = 0.01 MB, solutions = 1)\n",
      "   2071   890        cutoff              0.0999        0.0976     8024    2.29%          rho_17 D   2071   2070     18\n",
      "   3467  1421        0.0976     3        0.0999        0.0976    13278    2.29%           rho_0 D   3467   3466     42\n",
      "   4972  1795        cutoff              0.0999        0.0976    17683    2.29%           rho_6 U   4972   4970     53\n",
      "   6463  2094        0.0976     5        0.0999        0.0976    21919    2.29%           rho_9 D   6463   4747     48\n",
      "   7552  2452        0.0976     6        0.0999        0.0976    27221    2.29%           rho_6 U   7552    816     18\n",
      "   8583  2744        0.0986     7        0.0999        0.0976    31495    2.29%          rho_23 D   8583   8581     84\n",
      "   9570  2995        0.0981    11        0.0999        0.0976    36137    2.29%          rho_14 U   9570   9569     25\n",
      "  10587  3279        0.0996     5        0.0999        0.0976    40434    2.29%          rho_17 D  10587  10585     60\n",
      "* 11297  3330      integral     0        0.0997        0.0976    44159    2.11%\n",
      "* 11430  3369      integral     0        0.0997        0.0976    44977    2.10%\n",
      "  11531  3394        cutoff              0.0997        0.0976    45523    2.10%          rho_14 U  11531  11530     35\n",
      "  15724  4943        0.0977     5        0.0997        0.0976    61790    2.10%           rho_8 D  15724  15723     74\n",
      "Elapsed time = 4.53 sec. (3102.63 ticks, tree = 1.49 MB, solutions = 3)\n",
      "  19627  6481        0.0976     7        0.0997        0.0976    78987    2.10%           rho_0 D  19627  19607     11\n",
      "  23345  7882        0.0978    11        0.0997        0.0976    96850    2.10%           rho_2 D  23345  23344     45\n",
      "  26748  9220        0.0976     4        0.0997        0.0976   115205    2.10%          rho_14 U  26748  26746     50\n",
      "  29914 10351        0.0993     8        0.0997        0.0976   131966    2.10%           rho_2 D  29914  29912     38\n",
      "  33711 11920        0.0994     7        0.0997        0.0976   148833    2.10%           rho_4 D  33711  33709     44\n",
      "  36963 12631        cutoff              0.0997        0.0976   163228    2.10%           rho_0 U  36963  36962     67\n",
      "  40630 13858        0.0990     6        0.0997        0.0976   176877    2.10%           rho_2 U  40630  40629    100\n",
      "  43790 14710        0.0983     6        0.0997        0.0976   190511    2.10%          rho_16 D  43790  43789     62\n",
      "  47231 15599        0.0996     6        0.0997        0.0976   204363    2.10%          rho_17 N  47231  47229     76\n",
      "  50549 16559        0.0976     5        0.0997        0.0976   219661    2.10%           rho_0 D  50549  50547     83\n",
      "Elapsed time = 14.13 sec. (12640.70 ticks, tree = 5.47 MB, solutions = 3)\n",
      "  53508 17292        0.0984     7        0.0997        0.0976   234987    2.10%           rho_2 D  53508  53507     70\n",
      "  56408 17972        0.0997     9        0.0997        0.0976   251631    2.10%          rho_10 N  56408  56406     22\n",
      "  58783 18801        0.0995     3        0.0997        0.0976   269589    2.10%          rho_12 D  58783  58782     31\n",
      "  61526 19901        0.0986     1        0.0997        0.0976   284466    2.10%           rho_2 D  61526  61525     36\n",
      "  64207 20933        0.0978    13        0.0997        0.0976   299851    2.10%           rho_8 U  64207  20648     21\n",
      "  66770 22059        0.0976    12        0.0997        0.0976   317438    2.10%          rho_14 D  66770  66769     32\n",
      "  69414 23146        0.0980    13        0.0997        0.0976   334446    2.10%          rho_24 U  69414  69413     41\n",
      "  72105 24221        cutoff              0.0997        0.0976   350504    2.10%          rho_25 U  72105  72103     52\n",
      "  74851 25365        0.0989     9        0.0997        0.0976   366715    2.10%          rho_24 D  74851  74849     32\n",
      "  77457 26353        cutoff              0.0997        0.0976   383526    2.10%          rho_24 U  77457  77456     55\n",
      "Elapsed time = 23.45 sec. (22181.81 ticks, tree = 8.03 MB, solutions = 3)\n",
      "  79924 27223        cutoff              0.0997        0.0976   400923    2.10%          rho_15 D  79924  79923     56\n",
      "  82454 28143        0.0996     8        0.0997        0.0976   418506    2.10%          rho_24 D  82454  82452     59\n",
      "  84914 29000        0.0980    13        0.0997        0.0976   436263    2.10%          rho_24 U  84914  84913     61\n",
      "  87424 29897        0.0990     9        0.0997        0.0976   453886    2.10%          rho_24 N  87424  87423     44\n",
      "  89809 30837        0.0992    13        0.0997        0.0976   472020    2.10%          rho_18 D  89809  89808     76\n",
      "  92209 31801        0.0978     8        0.0997        0.0976   490175    2.10%           rho_2 D  92209  92208     48\n",
      "  94572 32819        cutoff              0.0997        0.0976   507960    2.10%           rho_0 U  94572  94571     42\n",
      "  97033 33970        0.0976     7        0.0997        0.0976   523544    2.10%          rho_14 U  97033  97031     23\n",
      "  99410 35059        0.0976     7        0.0997        0.0976   539907    2.10%           rho_0 D  99410  99409     71\n",
      " 101682 35967        0.0983    12        0.0997        0.0976   555706    2.10%           rho_6 D 101682 101681     74\n",
      "Elapsed time = 32.61 sec. (31720.25 ticks, tree = 11.93 MB, solutions = 3)\n",
      " 103861 36799        0.0976    14        0.0997        0.0976   572095    2.10%          rho_25 D 103861 103860     52\n",
      " 106118 37662        cutoff              0.0997        0.0976   587908    2.10%           rho_6 U 106118 106117     77\n",
      " 108369 38553        0.0995     6        0.0997        0.0976   603841    2.10%          rho_17 D 108369 108367     64\n",
      " 110629 39420        0.0994     3        0.0997        0.0976   619881    2.10%          rho_25 D 110629 110628     47\n",
      " 112902 40313        0.0989    14        0.0997        0.0976   636003    2.10%           rho_4 D 112902 112900     91\n",
      " 115134 41143        0.0997     8        0.0997        0.0976   652268    2.10%           rho_5 D 115134 115133     57\n",
      " 117490 42121        0.0991     5        0.0997        0.0976   668463    2.10%          rho_12 D 117490 117488     68\n",
      " 119740 43017        0.0977    11        0.0997        0.0976   685093    2.10%           rho_7 D 119740 119739     63\n",
      " 122017 43909        0.0989    12        0.0997        0.0976   701012    2.10%           rho_4 D 122017 122015     73\n",
      " 124570 45002        0.0990     6        0.0997        0.0976   714014    2.10%          rho_12 D 124570 124569     29\n",
      "Elapsed time = 41.72 sec. (41261.04 ticks, tree = 14.33 MB, solutions = 3)\n",
      " 126920 45909        0.0983    10        0.0997        0.0976   729386    2.10%          rho_25 U 126920 126852     52\n",
      " 129220 46790        0.0990     9        0.0997        0.0976   743890    2.10%           rho_0 D 129220 129219     18\n",
      " 131448 47663        0.0976     5        0.0997        0.0976   759012    2.10%          rho_14 U 131448 131446     29\n",
      " 133742 48469        0.0993    11        0.0997        0.0976   773307    2.10%          rho_24 D 133742 133741     41\n",
      " 136062 49320        0.0984     8        0.0997        0.0976   787126    2.10%          rho_13 D 136062 136060     29\n",
      " 138360 50299        0.0976    11        0.0997        0.0976   802103    2.10%          rho_14 D 138360 138359     68\n",
      " 140540 51261        0.0976     5        0.0997        0.0976   817940    2.10%          rho_14 U 140540 140538     67\n",
      " 142674 52093        cutoff              0.0997        0.0976   832577    2.10%           rho_6 U 142674   2407     18\n",
      " 144672 52689        cutoff              0.0997        0.0976   845543    2.10%           rho_0 U 144672 144671     41\n",
      " 146690 53153        0.0990    10        0.0997        0.0976   857873    2.10%           rho_0 D 146690 146688     69\n",
      "Elapsed time = 51.16 sec. (50802.09 ticks, tree = 16.51 MB, solutions = 3)\n",
      " 148741 53618        0.0990    11        0.0997        0.0976   870113    2.10%           rho_0 D 148741 148739     43\n",
      " 150913 54388        0.0976    10        0.0997        0.0976   882730    2.10%          rho_16 D 150913 137027     58\n",
      " 152972 55064        0.0976     9        0.0997        0.0976   896147    2.10%          rho_14 U 152972 152970     52\n",
      " 154972 55876        0.0989    11        0.0997        0.0976   910741    2.10%          rho_17 D 154972 154971     46\n",
      " 156927 56709        cutoff              0.0997        0.0976   927041    2.10%           rho_0 U 156927 156926     46\n",
      " 159000 57626        0.0976     8        0.0997        0.0976   943016    2.10%           rho_0 D 159000 158999     51\n",
      " 161017 58485        0.0977     9        0.0997        0.0976   958684    2.10%          rho_14 D 161017 161016     49\n",
      " 162982 59267        0.0990     9        0.0997        0.0976   973774    2.10%          rho_16 N 162982 162903     34\n",
      " 164967 60108        0.0978    14        0.0997        0.0976   987695    2.10%          rho_24 N 164967 125541     31\n",
      " 166763 60943        0.0979    15        0.0997        0.0976  1002464    2.10%           rho_2 D 166763 166762     68\n",
      "Elapsed time = 60.58 sec. (60342.36 ticks, tree = 18.67 MB, solutions = 3)\n",
      " 168623 61736        0.0978    15        0.0997        0.0976  1016976    2.10%           rho_6 D 168623 168622     38\n",
      " 170565 62805        0.0977    17        0.0997        0.0976  1032476    2.10%          rho_16 D 170565 170564     54\n",
      " 172336 63871        0.0978    16        0.0997        0.0976  1047320    2.10%           rho_6 D 172336 172335     90\n",
      " 173980 64928        0.0995     8        0.0997        0.0976  1061363    2.10%          rho_18 D 173980 173979     52\n",
      " 175812 65769        cutoff              0.0997        0.0976  1074740    2.10%          rho_12 U 175812 175810     36\n",
      " 177660 66569        cutoff              0.0997        0.0976  1089131    2.10%           rho_4 U 177660 177659     93\n",
      " 180047 67544        cutoff              0.0997        0.0976  1105295    2.10%          rho_25 D 180047 180045     53\n",
      " 182501 68524        0.0993     4        0.0997        0.0976  1119807    2.10%          rho_12 D 182501 182500     71\n",
      " 184855 69455        0.0979    13        0.0997        0.0976  1134064    2.10%           rho_1 N 184855 184854     96\n",
      " 186995 70263        0.0976    12        0.0997        0.0976  1148243    2.10%          rho_24 U 186995 186994     66\n",
      "Elapsed time = 69.50 sec. (69883.15 ticks, tree = 24.04 MB, solutions = 3)\n",
      " 189110 71125        0.0976    11        0.0997        0.0976  1163690    2.10%           rho_0 D 189110 189109     24\n",
      "*189146 69097      integral     0        0.0995        0.0976  1163947    1.94%\n",
      " 191087 69833        0.0991     6        0.0995        0.0976  1177684    1.94%           rho_4 D 191087 191085     38\n",
      " 192914 70517        0.0993     9        0.0995        0.0976  1192246    1.94%          rho_24 D 192914 192912     47\n",
      " 194645 71185        0.0984    14        0.0995        0.0976  1207463    1.94%           rho_4 D 194645 194644     60\n",
      " 196350 71769        0.0976     7        0.0995        0.0976  1223249    1.94%          rho_14 U 196350 196342     89\n",
      " 198190 72482        0.0984    13        0.0995        0.0976  1238366    1.94%           rho_4 D 198190 198189     64\n",
      " 200148 73258        0.0976     8        0.0995        0.0976  1252583    1.94%           rho_9 D 200148 200146     49\n",
      " 202063 73989        0.0994    11        0.0995        0.0976  1266733    1.94%          rho_13 U 202063 202062     83\n",
      " 203955 74785        0.0989     8        0.0995        0.0976  1280953    1.94%           rho_3 D 203955 203953     69\n",
      " 205839 75609        0.0976    10        0.0995        0.0976  1295761    1.94%           rho_0 D 205839 205837     45\n",
      "Elapsed time = 78.75 sec. (79424.05 ticks, tree = 25.55 MB, solutions = 4)\n",
      " 207751 76322        0.0991     3        0.0995        0.0976  1309692    1.94%           rho_5 D 207751 207749     38\n",
      " 209535 77005        cutoff              0.0995        0.0976  1324169    1.94%          rho_15 U 209535 209534     41\n",
      " 211415 77974        0.0987    16        0.0995        0.0976  1338666    1.94%          rho_16 U 211415 162041     56\n",
      " 213476 78779        0.0976     9        0.0995        0.0976  1351435    1.94%           rho_0 D 213476 213474     72\n",
      " 215426 79448        0.0993    10        0.0995        0.0976  1364440    1.94%           rho_3 U 215426 215425     27\n",
      " 217426 79991        0.0991     7        0.0995        0.0976  1376389    1.94%           rho_6 U 217426 217425     57\n",
      " 219419 80373        cutoff              0.0995        0.0976  1387744    1.94%          rho_17 U 219419 219417     84\n",
      " 221378 80681        0.0993     8        0.0995        0.0976  1399283    1.94%           rho_3 N 221378 221377     56\n",
      " 223411 81200        0.0988     9        0.0995        0.0976  1410834    1.94%           rho_7 D 223411 223410     67\n",
      " 230831 83996        0.0982    13        0.0995        0.0976  1466753    1.94%          rho_25 N 230831 131010     31\n",
      "Elapsed time = 89.67 sec. (91824.16 ticks, tree = 27.93 MB, solutions = 4)\n",
      " 239088 87608        0.0981     8        0.0995        0.0976  1519372    1.94%           rho_2 D 239088 239087     19\n",
      " 246466 90874        0.0976     8        0.0995        0.0976  1575241    1.94%          rho_14 U 246466 246464     39\n",
      " 253286 94903        0.0981    14        0.0995        0.0976  1634762    1.94%           rho_0 D 253286 253275     79\n",
      " 261262 98370        0.0984    12        0.0995        0.0976  1692821    1.94%           rho_6 D 261262 261261     69\n",
      " 269275 101644        0.0995    13        0.0995        0.0976  1747341    1.94%           rho_5 D 269275 269274     92\n",
      "*276000+104460                            0.0995        0.0976             1.94%\n",
      " 277299 104972        cutoff              0.0995        0.0976  1801566    1.94%          rho_15 U 277299 277298     31\n",
      " 284610 107774        0.0992    12        0.0995        0.0976  1859347    1.94%           rho_7 U 284610 284607     69\n",
      " 291621 110216        0.0985    13        0.0995        0.0976  1917875    1.94%          rho_25 D 291621 291620    100\n",
      " 299422 112450        0.0982    20        0.0995        0.0976  1969319    1.94%           rho_3 D 299422 299421     70\n",
      " 307422 114941        0.0989     9        0.0995        0.0976  2019907    1.94%           rho_6 D 307422 307420     36\n",
      "Elapsed time = 134.02 sec. (129975.57 ticks, tree = 36.60 MB, solutions = 5)\n",
      " 314766 117415        cutoff              0.0995        0.0976  2075329    1.94%           rho_0 U 314766 314765     69\n",
      " 322382 119719        0.0976    13        0.0995        0.0976  2125839    1.94%          rho_14 D 322382 322381     44\n",
      " 329892 121762        0.0986     7        0.0995        0.0976  2179750    1.94%          rho_24 U 329892 329891     57\n",
      " 338090 124644        0.0976     8        0.0995        0.0976  2230456    1.94%          rho_14 U 338090 337935     43\n",
      " 346050 128217        0.0976    13        0.0995        0.0976  2281122    1.94%           rho_7 D 346050 345904     63\n",
      " 353499 131196        0.0983    12        0.0995        0.0976  2332033    1.94%          rho_16 D 353499 353498     50\n",
      " 360562 134583        0.0976     9        0.0995        0.0976  2390478    1.94%           rho_0 U 360562 360561     59\n",
      " 367719 137589        0.0976    11        0.0995        0.0976  2446647    1.94%          rho_14 D 367719 367718     65\n",
      " 375378 141181        cutoff              0.0995        0.0976  2503785    1.94%           rho_4 D 375378 375377     42\n",
      " 382847 144645        0.0976    18        0.0995        0.0976  2560564    1.94%           rho_0 D 382847 382841     58\n",
      "Elapsed time = 177.55 sec. (168125.45 ticks, tree = 47.94 MB, solutions = 5)\n",
      " 390100 147958        0.0976    12        0.0995        0.0976  2620212    1.94%           rho_2 D 390100 390099     39\n",
      " 397379 150509        0.0988     5        0.0995        0.0976  2671033    1.94%          rho_25 D 397379 397378     64\n",
      " 404800 152879        0.0986    15        0.0995        0.0976  2718864    1.94%          rho_17 D 404800 404799     45\n",
      " 411902 155942        0.0981     9        0.0995        0.0976  2770170    1.94%           rho_0 U 411902 411901     65\n",
      " 419196 159420        0.0990    11        0.0995        0.0976  2823200    1.94%           rho_4 D 419196 419194     29\n",
      " 427188 161958        cutoff              0.0995        0.0976  2865241    1.94%           rho_4 U 427188 427187     65\n",
      "\n",
      "User cuts applied:  619\n",
      "\n",
      "Root node processing (before b&c):\n",
      "  Real time             =    0.16 sec. (1.71 ticks)\n",
      "Sequential b&c:\n",
      "  Real time             =  199.86 sec. (192619.89 ticks)\n",
      "                          ------------\n",
      "Total (root+branch&cut) =  200.02 sec. (192621.60 ticks)\n",
      "+----------------------------------------------+------------------+-----------+\n",
      "| Pr(Y = +1) = 1.0/(1.0 + exp(-(-9 + score))   |                  |           |\n",
      "| ============================================ | ================ | ========= |\n",
      "| p_charges>=1                                 |         3 points |   + ..... |\n",
      "| p_property>=1                                |         2 points |   + ..... |\n",
      "| age_at_current_charge<=18                    |         1 points |   + ..... |\n",
      "| age_at_current_charge<=47                    |         1 points |   + ..... |\n",
      "| p_arrest>=2                                  |         1 points |   + ..... |\n",
      "| p_pending_charge>=1                          |         1 points |   + ..... |\n",
      "| ============================================ | ================ | ========= |\n",
      "| ADD POINTS FROM ROWS 1 to 6                  |            SCORE |   = ..... |\n",
      "+----------------------------------------------+------------------+-----------+\n",
      "model_id, score_thresholds 0 {'rank_abs': [0]}\n",
      "get_disparity_predefined_group()\n"
     ]
    },
    {
     "name": "stderr",
     "output_type": "stream",
     "text": [
      "C:\\Users\\binha\\Documents\\Duke\\Cynthia Research\\psa-analysis - test2\\utils\\fairness_functions.py:82: RuntimeWarning:\n",
      "\n",
      "invalid value encountered in longlong_scalars\n",
      "\n",
      "C:\\Users\\binha\\Documents\\Duke\\Cynthia Research\\psa-analysis - test2\\utils\\fairness_functions.py:95: RuntimeWarning:\n",
      "\n",
      "divide by zero encountered in longlong_scalars\n",
      "\n",
      "C:\\Users\\binha\\Documents\\Duke\\Cynthia Research\\psa-analysis - test2\\utils\\fairness_functions.py:86: RuntimeWarning:\n",
      "\n",
      "invalid value encountered in longlong_scalars\n",
      "\n",
      "C:\\Users\\binha\\Documents\\Duke\\Cynthia Research\\psa-analysis - test2\\utils\\fairness_functions.py:95: RuntimeWarning:\n",
      "\n",
      "invalid value encountered in longlong_scalars\n",
      "\n"
     ]
    },
    {
     "name": "stdout",
     "output_type": "stream",
     "text": [
      "setting c0 = 0.0 to ensure that intercept is not penalized\n",
      "10/01/19 @ 02:30 PM | 1141 rows in lookup table\n",
      "10/01/19 @ 02:30 PM | ------------------------------------------------------------\n",
      "10/01/19 @ 02:30 PM | runnning initialization procedure\n",
      "10/01/19 @ 02:30 PM | ------------------------------------------------------------\n",
      "10/01/19 @ 02:30 PM | CPA produced 2 cuts\n",
      "10/01/19 @ 02:30 PM | running naive rounding on 79 solutions\n",
      "10/01/19 @ 02:30 PM | best objective value: 0.0968\n",
      "10/01/19 @ 02:30 PM | rounding produced 5 integer solutions\n",
      "10/01/19 @ 02:30 PM | best objective value is 0.0979\n",
      "10/01/19 @ 02:30 PM | running sequential rounding on 79 solutions\n",
      "10/01/19 @ 02:30 PM | best objective value: 0.0968\n",
      "10/01/19 @ 02:30 PM | sequential rounding produced 6 integer solutions\n",
      "10/01/19 @ 02:30 PM | best objective value: 0.0978\n",
      "10/01/19 @ 02:30 PM | polishing 11 solutions\n",
      "10/01/19 @ 02:30 PM | best objective value: 0.0978\n",
      "10/01/19 @ 02:30 PM | polishing produced 5 integer solutions\n",
      "10/01/19 @ 02:30 PM | initialization produced 10 feasible solutions\n",
      "10/01/19 @ 02:30 PM | best objective value: 0.0978\n",
      "10/01/19 @ 02:30 PM | ------------------------------------------------------------\n",
      "10/01/19 @ 02:30 PM | completed initialization procedure\n",
      "10/01/19 @ 02:30 PM | ------------------------------------------------------------\n",
      "10/01/19 @ 02:30 PM | 1141 rows in lookup table\n",
      "CPXPARAM_Read_DataCheck                          1\n",
      "CPXPARAM_Threads                                 1\n",
      "CPXPARAM_Parallel                                1\n",
      "CPXPARAM_RandomSeed                              0\n",
      "CPXPARAM_TimeLimit                               200\n",
      "CPXPARAM_MIP_Tolerances_LowerCutoff              0.095955527360537043\n",
      "CPXPARAM_MIP_Tolerances_UpperCutoff              0.097761323450184859\n"
     ]
    },
    {
     "name": "stderr",
     "output_type": "stream",
     "text": [
      "Warning: Control callbacks may disable some MIP features.\n"
     ]
    },
    {
     "name": "stdout",
     "output_type": "stream",
     "text": [
      "Lazy constraint(s) or lazy constraint callback is present.\n",
      "    Disabling dual reductions (CPX_PARAM_REDUCE) in presolve.\n",
      "    Disabling non-linear reductions (CPX_PARAM_PRELINEAR) in presolve.\n",
      "         Disabling repeat represolve because of lazy constraint/incumbent callback.\n",
      "10/01/19 @ 02:30 PM | adding 249 initial cuts\n",
      "1 of 1 MIP starts provided solutions.\n",
      "MIP start 'mip_start_0' defined initial solution with objective 0.0978.\n",
      "Tried aggregator 1 time.\n",
      "Reduced MIP has 28 rows, 56 columns, and 107 nonzeros.\n",
      "Reduced MIP has 26 binaries, 28 generals, 0 SOSs, and 0 indicators.\n",
      "Presolve time = 0.02 sec. (0.06 ticks)\n",
      "Probing time = 0.00 sec. (0.02 ticks)\n",
      "MIP emphasis: balance optimality and feasibility.\n",
      "MIP search method: traditional branch-and-cut.\n",
      "Parallel mode: none, using 1 thread.\n",
      "Root relaxation solution time = 0.00 sec. (0.04 ticks)\n",
      "\n",
      "        Nodes                                         Cuts/\n",
      "   Node  Left     Objective  IInf  Best Integer    Best Bound    ItCnt     Gap         Variable B NodeID Parent  Depth\n",
      "\n",
      "*     0+    0                            0.0978        0.0959             1.86%\n",
      "      0     0        0.0960     1        0.0978        0.0960        1    1.85%\n",
      "      0     2        0.0960     4        0.0978        0.0960        1    1.85%                        0             0\n",
      "Elapsed time = 0.19 sec. (1.55 ticks, tree = 0.01 MB, solutions = 1)\n",
      "   3430  1175        0.0960     1        0.0978        0.0960     8621    1.85%          rho_14 U   3430   3428     56\n",
      "   6330  2007        0.0960     4        0.0978        0.0960    16341    1.85%           rho_0 D   6330   6329     72\n",
      "   9009  3152        0.0962     3        0.0978        0.0960    23096    1.85%           rho_8 D   9009   9008     65\n",
      "  11670  4318        0.0967     0        0.0978        0.0960    30137    1.85%           rho_5 D  11670  11668     31\n",
      "  13513  5092        0.0969     9        0.0978        0.0960    38188    1.85%          rho_25 D  13513  13511     74\n",
      "  15220  5737        0.0960     2        0.0978        0.0960    45817    1.85%           rho_0 D  15220  15218     44\n",
      "  16955  6149        0.0977     2        0.0978        0.0960    52379    1.85%          rho_19 N  16955  16953     83\n",
      "  18600  6499        0.0972     8        0.0978        0.0960    58720    1.85%          rho_14 D  18600  18599     49\n",
      "  20235  6961        0.0975     9        0.0978        0.0960    65809    1.85%           rho_2 N  20235  20234     47\n",
      "  27454  7361        0.0960     4        0.0978        0.0960    90594    1.85%          rho_14 U  27454  27430     93\n",
      "Elapsed time = 4.70 sec. (3102.28 ticks, tree = 1.97 MB, solutions = 1)\n",
      "  33865  9852        0.0960     1        0.0978        0.0960   115943    1.85%          rho_14 U  33865  33863     55\n",
      "  39341 11305        0.0969     1        0.0978        0.0960   135416    1.85%           rho_0 N  39341  39340     79\n",
      "  44312 12810        cutoff              0.0978        0.0960   158220    1.85%          rho_15 U  44312  44311     71\n",
      "  49110 13770        0.0975     3        0.0978        0.0960   176666    1.85%          rho_26 D  49110  49109     91\n",
      "  53786 15802        0.0960     2        0.0978        0.0960   197415    1.85%           rho_0 D  53786  49957     34\n",
      "  58367 17131        0.0960     2        0.0978        0.0960   217044    1.85%           rho_0 D  58367  58365     29\n",
      "  62767 18895        0.0961     8        0.0978        0.0960   240002    1.85%           rho_0 D  62767  62765     52\n",
      "  66732 20094        cutoff              0.0978        0.0960   261165    1.85%           rho_0 U  66732  66731     68\n",
      "  70951 21588        0.0960     3        0.0978        0.0960   281690    1.85%           rho_0 D  70951  70950     78\n",
      "  75069 22995        0.0973     9        0.0978        0.0960   303412    1.85%           rho_7 D  75069  75067     87\n",
      "Elapsed time = 15.42 sec. (12640.19 ticks, tree = 6.74 MB, solutions = 1)\n",
      "  79038 24583        0.0960     5        0.0978        0.0960   326222    1.85%          rho_14 U  79038  79036     53\n",
      "  83040 26402        0.0970    13        0.0978        0.0960   347276    1.85%          rho_12 D  83040  83038     59\n",
      "  86825 28044        0.0961    12        0.0978        0.0960   370135    1.85%           rho_0 D  86825  86823     81\n",
      "  90385 29551        0.0969     9        0.0978        0.0960   395099    1.85%           rho_2 N  90385  90383     36\n",
      "  93731 30979        0.0960     6        0.0978        0.0960   419335    1.85%           rho_0 D  93731  93729     76\n",
      "  97127 32414        0.0961    15        0.0978        0.0960   442110    1.85%           rho_0 D  97127  97125     50\n",
      " 100804 34007        0.0964     9        0.0978        0.0960   464055    1.85%           rho_8 U 100804 100802     40\n",
      " 104523 35552        0.0964     6        0.0978        0.0960   484525    1.85%           rho_0 D 104523 104521     70\n",
      " 108234 37257        0.0960     4        0.0978        0.0960   506324    1.85%          rho_14 U 108234 108141     61\n",
      " 112032 38671        cutoff              0.0978        0.0960   525427    1.85%           rho_0 U 112032  14441     39\n",
      "Elapsed time = 25.26 sec. (22179.65 ticks, tree = 12.00 MB, solutions = 1)\n",
      " 115638 39946        0.0964    11        0.0978        0.0960   544700    1.85%           rho_9 D 115638 115637     25\n",
      " 118928 41439        0.0969     5        0.0978        0.0960   566169    1.85%           rho_2 N 118928 118927     63\n",
      " 122288 42870        0.0960     6        0.0978        0.0960   588131    1.85%           rho_0 D 122288 122286     72\n",
      " 125760 44165        0.0971     8        0.0978        0.0960   608670    1.85%          rho_11 D 125760 125758     85\n",
      " 129865 45407        cutoff              0.0978        0.0960   625224    1.85%           rho_0 U 129865 129864     55\n",
      " 133184 46504        0.0960    11        0.0978        0.0960   648083    1.85%           rho_0 U 133184 133183     20\n",
      " 136548 48218        0.0967     9        0.0978        0.0960   667481    1.85%           rho_8 D 136548 136547     36\n",
      " 139791 49492        0.0973     9        0.0978        0.0960   687810    1.85%           rho_4 D 139791 139790     69\n",
      " 142925 50802        0.0960    10        0.0978        0.0960   707092    1.85%           rho_8 U 142925  93334     82\n",
      " 145818 51952        0.0960     2        0.0978        0.0960   727620    1.85%           rho_0 D 145818 145816     40\n",
      "Elapsed time = 35.03 sec. (31717.35 ticks, tree = 15.32 MB, solutions = 1)\n",
      " 149306 53214        0.0960     6        0.0978        0.0960   745987    1.85%           rho_7 D 149306 147864     66\n",
      " 152773 54127        0.0962     5        0.0978        0.0960   759930    1.85%           rho_7 N 152773 145148     30\n",
      " 156147 55076        0.0964     8        0.0978        0.0960   776762    1.85%          rho_13 U 156147 156146     42\n",
      " 159476 56578        0.0976     4        0.0978        0.0960   795432    1.85%           rho_5 D 159476 159475     96\n",
      " 162860 58041        0.0960     3        0.0978        0.0960   813036    1.85%           rho_0 D 162860 162858     65\n",
      " 166012 59461        0.0967     4        0.0978        0.0960   832670    1.85%          rho_19 U 166012 166011     90\n",
      " 169310 61015        0.0960     3        0.0978        0.0960   852448    1.85%          rho_14 U 169310 169308     76\n",
      " 172223 62343        0.0960     6        0.0978        0.0960   873072    1.85%          rho_14 U 172223 172221     65\n",
      " 175051 63429        0.0960    10        0.0978        0.0960   893085    1.85%           rho_0 D 175051 175049     43\n",
      " 178218 64924        0.0975     5        0.0978        0.0960   914933    1.85%          rho_10 D 178218 178217     45\n",
      "Elapsed time = 45.50 sec. (41255.96 ticks, tree = 18.64 MB, solutions = 1)\n",
      " 181355 66453        0.0960     5        0.0978        0.0960   934995    1.85%          rho_14 U 181355 181353     59\n",
      " 184590 67866        0.0973     6        0.0978        0.0960   955027    1.85%           rho_8 U 184590 184589     81\n",
      " 188043 69178        0.0962     5        0.0978        0.0960   971865    1.85%          rho_14 D 188043 188042     61\n",
      " 191800 70678        0.0960     7        0.0978        0.0960   988465    1.85%          rho_14 D 191800 191799     52\n",
      " 195723 72099        cutoff              0.0978        0.0960  1003323    1.85%           rho_0 U 195723 190815     47\n",
      " 199013 73374        0.0974     5        0.0978        0.0960  1019528    1.85%          rho_13 N 199013  32374     72\n",
      " 202206 74874        0.0973    11        0.0978        0.0960  1036681    1.85%           rho_7 D 202206 202205     71\n",
      " 205049 76051        0.0972    11        0.0978        0.0960  1058157    1.85%           rho_8 D 205049 205048     88\n",
      " 208053 77288        0.0965     8        0.0978        0.0960  1077559    1.85%           rho_0 D 208053 208051     42\n",
      " 211338 78457        0.0965     8        0.0978        0.0960  1094229    1.85%           rho_8 U 211338 192140     61\n",
      "Elapsed time = 58.09 sec. (50795.22 ticks, tree = 24.91 MB, solutions = 1)\n",
      " 214851 79704        0.0971     7        0.0978        0.0960  1109531    1.85%           rho_2 D 214851 214850     65\n",
      " 218194 80940        cutoff              0.0978        0.0960  1126868    1.85%          rho_12 U 218194 218193     62\n",
      " 221469 82330        cutoff              0.0978        0.0960  1144277    1.85%          rho_13 U 221469 221468     40\n",
      " 224750 83604        0.0972     6        0.0978        0.0960  1159936    1.85%           rho_4 D 224750 224749     97\n",
      " 228004 84921        0.0960     7        0.0978        0.0960  1176022    1.85%          rho_14 D 228004 228003     48\n",
      " 231287 86158        0.0962     7        0.0978        0.0960  1190324    1.85%           rho_7 N 231287 230974     84\n",
      " 234561 87387        0.0973     5        0.0978        0.0960  1203972    1.85%           rho_4 N 234561 234559     51\n",
      " 237820 88610        0.0970     6        0.0978        0.0960  1218309    1.85%          rho_19 D 237820 237819     39\n",
      " 241049 89733        0.0975     5        0.0978        0.0960  1234637    1.85%           rho_7 D 241049 241048     61\n",
      " 244608 91202        0.0960     4        0.0978        0.0960  1249596    1.85%          rho_13 U 244608 244607     39\n",
      "Elapsed time = 72.73 sec. (60333.87 ticks, tree = 28.18 MB, solutions = 1)\n",
      " 247735 92677        0.0960     9        0.0978        0.0960  1269653    1.85%          rho_14 D 247735 247734     49\n",
      " 250689 94173        0.0963    11        0.0978        0.0960  1288919    1.85%           rho_8 D 250689 250688     47\n",
      " 253575 95317        0.0960     6        0.0978        0.0960  1306809    1.85%           rho_8 D 253575 252468     61\n",
      " 256500 96093        0.0969     6        0.0978        0.0960  1322626    1.85%           rho_7 N 256500 256499     74\n",
      " 259460 96809        0.0963    12        0.0978        0.0960  1338007    1.85%          rho_13 D 259460 259459     48\n",
      " 262526 97767        0.0966     7        0.0978        0.0960  1352843    1.85%           rho_5 D 262526 262525     47\n",
      " 265804 99053        0.0964     7        0.0978        0.0960  1368942    1.85%          rho_19 D 265804 265802     60\n",
      " 269032 100272        0.0960     6        0.0978        0.0960  1387611    1.85%           rho_0 D 269032 269030     74\n",
      " 272100 101654        0.0963    11        0.0978        0.0960  1407211    1.85%           rho_2 D 272100 272099     55\n",
      " 275200 103191        0.0960     7        0.0978        0.0960  1428028    1.85%           rho_0 D 275200 275198     36\n",
      "Elapsed time = 83.61 sec. (69875.48 ticks, tree = 31.22 MB, solutions = 1)\n",
      " 278471 104504        0.0960     4        0.0978        0.0960  1446927    1.85%          rho_14 U 278471 278469     89\n",
      " 281509 105787        0.0960     5        0.0978        0.0960  1466257    1.85%          rho_14 U 281509 281507     63\n",
      " 284449 107018        0.0960     7        0.0978        0.0960  1484721    1.85%          rho_14 U 284449 284332     24\n",
      " 287595 108438        0.0971     8        0.0978        0.0960  1502763    1.85%           rho_8 U 287595 287593     71\n",
      " 290830 109629        0.0971     4        0.0978        0.0960  1518780    1.85%           rho_8 U 290830 290828     82\n",
      " 294458 111394        0.0963    13        0.0978        0.0960  1535369    1.85%          rho_17 D 294458 294457     54\n",
      " 297769 112493        0.0960     4        0.0978        0.0960  1551090    1.85%          rho_14 U 297769 297767     53\n",
      " 301206 113326        0.0969     5        0.0978        0.0960  1564530    1.85%          rho_17 D 301206 301204     68\n",
      " 304689 114224        cutoff              0.0978        0.0960  1578212    1.85%           rho_0 U 304689 304688     73\n",
      " 308058 115041        cutoff              0.0978        0.0960  1591520    1.85%           rho_4 U 308058 308057     63\n",
      "Elapsed time = 94.08 sec. (79413.73 ticks, tree = 34.24 MB, solutions = 1)\n",
      " 311576 116095        0.0977     5        0.0978        0.0960  1604441    1.85%          rho_23 D 311576 311574     45\n",
      " 315244 117317        cutoff              0.0978        0.0960  1616688    1.85%           rho_0 U 315244 315242     29\n",
      " 318331 118654        cutoff              0.0978        0.0960  1631132    1.85%           rho_7 U 318331 318328     66\n",
      " 321626 119925        0.0963     5        0.0978        0.0960  1643004    1.85%           rho_4 D 321626 321625     44\n",
      " 325127 120943        0.0966     5        0.0978        0.0960  1656889    1.85%           rho_0 D 325127 325125     97\n",
      " 328430 121755        0.0960     6        0.0978        0.0960  1668689    1.85%          rho_14 U 328430 328428     64\n",
      " 331470 122854        0.0971     7        0.0978        0.0960  1686329    1.85%           rho_7 U 331470 331468     47\n",
      " 334302 123770        cutoff              0.0978        0.0960  1704512    1.85%           rho_0 U 334302 334301     54\n",
      " 337129 124667        0.0962    12        0.0978        0.0960  1723187    1.85%          rho_14 D 337129 337128     62\n",
      " 350008 129203        0.0971    10        0.0978        0.0960  1786293    1.85%          rho_14 D 350008 350007     85\n",
      "Elapsed time = 112.06 sec. (91813.05 ticks, tree = 37.88 MB, solutions = 1)\n",
      " 362162 133730        0.0971    11        0.0978        0.0960  1852563    1.85%           rho_0 U 362162 362161     41\n",
      " 374165 138824        0.0960     6        0.0978        0.0960  1922505    1.85%          rho_14 U 374165 374163     77\n",
      " 386598 143885        0.0972     8        0.0978        0.0960  1987820    1.85%           rho_8 U 386598 386597     67\n",
      " 399101 147919        0.0968     5        0.0978        0.0960  2045883    1.85%           rho_7 N 399101 225481     60\n",
      " 410326 151166        cutoff              0.0978        0.0960  2114475    1.85%           rho_4 U 410326 410324     84\n",
      " 421635 155887        0.0964     7        0.0978        0.0960  2187423    1.85%           rho_0 U 421635 421573     43\n",
      " 433476 161721        cutoff              0.0978        0.0960  2257384    1.85%           rho_5 U 433476 433475     57\n",
      " 445600 167132        0.0974     3        0.0978        0.0960  2328682    1.85%          rho_17 D 445600 445598     48\n",
      " 457130 172203        0.0968     7        0.0978        0.0960  2401632    1.85%           rho_0 U 457130 457129     90\n",
      " 469491 177561        cutoff              0.0978        0.0960  2473036    1.85%           rho_0 U 469491 469489     67\n",
      "Elapsed time = 151.53 sec. (129963.01 ticks, tree = 54.74 MB, solutions = 1)\n",
      " 482647 183704        0.0964    10        0.0978        0.0960  2532548    1.85%           rho_2 U 482647 478867     38\n",
      " 494972 188683        0.0960     9        0.0978        0.0960  2594021    1.85%          rho_14 D 494972 494971     70\n",
      " 506503 193795        0.0971     9        0.0978        0.0960  2665123    1.85%           rho_4 D 506503 506501     77\n",
      " 518260 199037        0.0965     7        0.0978        0.0960  2734069    1.85%           rho_0 N 518260 518259     81\n",
      " 530180 203926        0.0973     9        0.0978        0.0960  2802940    1.85%          rho_24 U 530180 530169     87\n",
      " 541568 207753        0.0965    13        0.0978        0.0960  2873716    1.85%           rho_7 D 541568 541567     73\n",
      " 552726 211565        0.0962     6        0.0978        0.0960  2942796    1.85%          rho_13 D 552726 552725     46\n",
      " 564047 215688        0.0977     4        0.0978        0.0960  3010597    1.85%           rho_4 D 564047 564046     68\n",
      " 576006 219655        0.0960     9        0.0978        0.0960  3067329    1.85%           rho_7 D 576006 575999     37\n",
      " 587429 223525        0.0972     8        0.0978        0.0960  3126803    1.85%           rho_8 U 587429 587426     59\n",
      "Elapsed time = 187.72 sec. (168113.64 ticks, tree = 68.55 MB, solutions = 1)\n",
      " 599833 227148        0.0973     7        0.0978        0.0960  3183653    1.85%           rho_0 U 599833 599832     62\n",
      " 611120 231759        0.0974     7        0.0978        0.0960  3256343    1.85%           rho_7 U 611120 611117     62\n",
      " 622054 235701        0.0960     9        0.0978        0.0960  3328934    1.85%           rho_0 D 622054 622052     40\n",
      "\n",
      "User cuts applied:  425\n",
      "\n",
      "Root node processing (before b&c):\n",
      "  Real time             =    0.19 sec. (1.59 ticks)\n",
      "Sequential b&c:\n",
      "  Real time             =  199.83 sec. (183123.02 ticks)\n",
      "                          ------------\n",
      "Total (root+branch&cut) =  200.01 sec. (183124.61 ticks)\n",
      "+-----------------------------------------------+-------------------+-----------+\n",
      "| Pr(Y = +1) = 1.0/(1.0 + exp(-(-46 + score))   |                   |           |\n",
      "| ============================================= | ================= | ========= |\n",
      "| p_arrest>=1                                   |         20 points |   + ..... |\n",
      "| p_charges>=1                                  |         20 points |   + ..... |\n",
      "| p_property>=1                                 |          2 points |   + ..... |\n",
      "| age_at_current_charge<=18                     |          1 points |   + ..... |\n",
      "| age_at_current_charge<=47                     |          1 points |   + ..... |\n",
      "| p_arrest>=2                                   |          1 points |   + ..... |\n",
      "| p_pending_charge>=1                           |          1 points |   + ..... |\n",
      "| ============================================= | ================= | ========= |\n",
      "| ADD POINTS FROM ROWS 1 to 7                   |             SCORE |   = ..... |\n",
      "+-----------------------------------------------+-------------------+-----------+\n",
      "model_id, score_thresholds 0 {'rank_abs': [0]}\n",
      "get_disparity_predefined_group()\n"
     ]
    },
    {
     "name": "stderr",
     "output_type": "stream",
     "text": [
      "C:\\Users\\binha\\Documents\\Duke\\Cynthia Research\\psa-analysis - test2\\utils\\fairness_functions.py:82: RuntimeWarning:\n",
      "\n",
      "invalid value encountered in longlong_scalars\n",
      "\n",
      "C:\\Users\\binha\\Documents\\Duke\\Cynthia Research\\psa-analysis - test2\\utils\\fairness_functions.py:95: RuntimeWarning:\n",
      "\n",
      "divide by zero encountered in longlong_scalars\n",
      "\n",
      "C:\\Users\\binha\\Documents\\Duke\\Cynthia Research\\psa-analysis - test2\\utils\\fairness_functions.py:86: RuntimeWarning:\n",
      "\n",
      "invalid value encountered in longlong_scalars\n",
      "\n",
      "C:\\Users\\binha\\Documents\\Duke\\Cynthia Research\\psa-analysis - test2\\utils\\fairness_functions.py:95: RuntimeWarning:\n",
      "\n",
      "invalid value encountered in longlong_scalars\n",
      "\n"
     ]
    }
   ],
   "source": [
    "riskslim_summary = slim.risk_cv(X=sub_X, \n",
    "                                Y=sub_Y, \n",
    "                                indicator = indicator,\n",
    "                                y_label='recid_general2', \n",
    "                                max_coef=20, \n",
    "                                max_coef_number=10, \n",
    "                                max_runtime=200, \n",
    "                                c=1e-6, \n",
    "                                seed=816)"
   ]
  },
  {
   "cell_type": "code",
   "execution_count": 22,
   "metadata": {},
   "outputs": [
    {
     "data": {
      "text/plain": [
       "(0.7461978077343787, 0.7462789209938625)"
      ]
     },
     "execution_count": 22,
     "metadata": {},
     "output_type": "execute_result"
    }
   ],
   "source": [
    "np.mean(riskslim_summary['train_auc']), np.mean(riskslim_summary['test_auc'])"
   ]
  },
  {
   "cell_type": "markdown",
   "metadata": {},
   "source": [
    "### Arnold PSA"
   ]
  },
  {
   "cell_type": "code",
   "execution_count": 23,
   "metadata": {},
   "outputs": [],
   "source": [
    "### load data\n",
    "data = pd.read_csv(\"~/Documents/Duke/Cynthia Research/KY-analysis-mytrials/KY Recidivism/KY data/kentucky_data.csv\")\n",
    "X_arnold = data['nca_risk_score_raw'].values\n",
    "Y_arnold = data['recid_property_two_year'].values\n",
    "\n",
    "## set up cross validation\n",
    "cv = KFold(n_splits=5,shuffle=True,random_state=816)\n",
    "arnold_auc = []\n",
    "for train, test in cv.split(X_arnold, Y_arnold):\n",
    "    y_pred_arnold, y_test = X_arnold[test], Y_arnold[test]\n",
    "    arnold_auc.append(roc_auc_score(y_test, y_pred_arnold))"
   ]
  },
  {
   "cell_type": "markdown",
   "metadata": {},
   "source": [
    "### Corel"
   ]
  },
  {
   "cell_type": "code",
   "execution_count": 2,
   "metadata": {},
   "outputs": [],
   "source": [
    "## load stumps data\n",
    "data = pd.read_csv(\"~/Documents/Duke/Cynthia Research/KY-analysis-mytrials/KY Recidivism/KY data/kentucky_stumps.csv\")\n",
    "x, y = data.loc[:,:'current_violence>=1'], data['recid_property_two_year'].values\n",
    "y[y == -1] = 0"
   ]
  },
  {
   "cell_type": "code",
   "execution_count": 3,
   "metadata": {
    "scrolled": true
   },
   "outputs": [
    {
     "name": "stderr",
     "output_type": "stream",
     "text": [
      "C:\\Users\\binha\\Documents\\Duke\\Cynthia Research\\psa-analysis - test2\\utils\\fairness_functions.py:82: RuntimeWarning:\n",
      "\n",
      "invalid value encountered in longlong_scalars\n",
      "\n",
      "C:\\Users\\binha\\Documents\\Duke\\Cynthia Research\\psa-analysis - test2\\utils\\fairness_functions.py:95: RuntimeWarning:\n",
      "\n",
      "divide by zero encountered in longlong_scalars\n",
      "\n",
      "C:\\Users\\binha\\Documents\\Duke\\Cynthia Research\\psa-analysis - test2\\utils\\fairness_functions.py:86: RuntimeWarning:\n",
      "\n",
      "invalid value encountered in longlong_scalars\n",
      "\n",
      "C:\\Users\\binha\\Documents\\Duke\\Cynthia Research\\psa-analysis - test2\\utils\\fairness_functions.py:95: RuntimeWarning:\n",
      "\n",
      "invalid value encountered in longlong_scalars\n",
      "\n",
      "C:\\Users\\binha\\Documents\\Duke\\Cynthia Research\\psa-analysis - test2\\utils\\fairness_functions.py:82: RuntimeWarning:\n",
      "\n",
      "invalid value encountered in longlong_scalars\n",
      "\n",
      "C:\\Users\\binha\\Documents\\Duke\\Cynthia Research\\psa-analysis - test2\\utils\\fairness_functions.py:95: RuntimeWarning:\n",
      "\n",
      "divide by zero encountered in longlong_scalars\n",
      "\n",
      "C:\\Users\\binha\\Documents\\Duke\\Cynthia Research\\psa-analysis - test2\\utils\\fairness_functions.py:86: RuntimeWarning:\n",
      "\n",
      "invalid value encountered in longlong_scalars\n",
      "\n",
      "C:\\Users\\binha\\Documents\\Duke\\Cynthia Research\\psa-analysis - test2\\utils\\fairness_functions.py:95: RuntimeWarning:\n",
      "\n",
      "invalid value encountered in longlong_scalars\n",
      "\n",
      "C:\\Users\\binha\\Documents\\Duke\\Cynthia Research\\psa-analysis - test2\\utils\\fairness_functions.py:82: RuntimeWarning:\n",
      "\n",
      "invalid value encountered in longlong_scalars\n",
      "\n",
      "C:\\Users\\binha\\Documents\\Duke\\Cynthia Research\\psa-analysis - test2\\utils\\fairness_functions.py:95: RuntimeWarning:\n",
      "\n",
      "divide by zero encountered in longlong_scalars\n",
      "\n",
      "C:\\Users\\binha\\Documents\\Duke\\Cynthia Research\\psa-analysis - test2\\utils\\fairness_functions.py:86: RuntimeWarning:\n",
      "\n",
      "invalid value encountered in longlong_scalars\n",
      "\n",
      "C:\\Users\\binha\\Documents\\Duke\\Cynthia Research\\psa-analysis - test2\\utils\\fairness_functions.py:95: RuntimeWarning:\n",
      "\n",
      "invalid value encountered in longlong_scalars\n",
      "\n",
      "C:\\Users\\binha\\Documents\\Duke\\Cynthia Research\\psa-analysis - test2\\utils\\fairness_functions.py:82: RuntimeWarning:\n",
      "\n",
      "invalid value encountered in longlong_scalars\n",
      "\n",
      "C:\\Users\\binha\\Documents\\Duke\\Cynthia Research\\psa-analysis - test2\\utils\\fairness_functions.py:95: RuntimeWarning:\n",
      "\n",
      "divide by zero encountered in longlong_scalars\n",
      "\n",
      "C:\\Users\\binha\\Documents\\Duke\\Cynthia Research\\psa-analysis - test2\\utils\\fairness_functions.py:86: RuntimeWarning:\n",
      "\n",
      "invalid value encountered in longlong_scalars\n",
      "\n",
      "C:\\Users\\binha\\Documents\\Duke\\Cynthia Research\\psa-analysis - test2\\utils\\fairness_functions.py:95: RuntimeWarning:\n",
      "\n",
      "invalid value encountered in longlong_scalars\n",
      "\n",
      "C:\\Users\\binha\\Documents\\Duke\\Cynthia Research\\psa-analysis - test2\\utils\\fairness_functions.py:82: RuntimeWarning:\n",
      "\n",
      "invalid value encountered in longlong_scalars\n",
      "\n",
      "C:\\Users\\binha\\Documents\\Duke\\Cynthia Research\\psa-analysis - test2\\utils\\fairness_functions.py:95: RuntimeWarning:\n",
      "\n",
      "divide by zero encountered in longlong_scalars\n",
      "\n",
      "C:\\Users\\binha\\Documents\\Duke\\Cynthia Research\\psa-analysis - test2\\utils\\fairness_functions.py:86: RuntimeWarning:\n",
      "\n",
      "invalid value encountered in longlong_scalars\n",
      "\n",
      "C:\\Users\\binha\\Documents\\Duke\\Cynthia Research\\psa-analysis - test2\\utils\\fairness_functions.py:95: RuntimeWarning:\n",
      "\n",
      "invalid value encountered in longlong_scalars\n",
      "\n"
     ]
    }
   ],
   "source": [
    "corel_summary = Corel.corel_cv(x, y, max_card=2, c=1e-4, seed=816)"
   ]
  },
  {
   "cell_type": "code",
   "execution_count": 4,
   "metadata": {},
   "outputs": [
    {
     "data": {
      "text/plain": [
       "(0.5, 0.0)"
      ]
     },
     "execution_count": 4,
     "metadata": {},
     "output_type": "execute_result"
    }
   ],
   "source": [
    "np.mean(corel_summary['test_auc']), np.std(corel_summary['test_auc'])"
   ]
  },
  {
   "cell_type": "markdown",
   "metadata": {},
   "source": [
    "### Results"
   ]
  },
  {
   "cell_type": "code",
   "execution_count": 28,
   "metadata": {},
   "outputs": [
    {
     "name": "stdout",
     "output_type": "stream",
     "text": [
      "Stored 'summary_property2_KY_interpret' (dict)\n"
     ]
    }
   ],
   "source": [
    "#### save results\n",
    "summary_property2_KY_interpret = {\"CART\": cart_summary,\n",
    "                                 \"EBM\": ebm_summary, \n",
    "                                 'Lasso Stumps': stump_summary, \n",
    "                                 'RiskSLIM': riskslim_summary, \n",
    "                                 'Corel': corel_summary,\n",
    "                                 'Arnold PSA': arnold_auc}\n",
    "%store summary_property2_KY_interpret"
   ]
  },
  {
   "cell_type": "code",
   "execution_count": 29,
   "metadata": {},
   "outputs": [
    {
     "data": {
      "text/plain": [
       "[['CART', 0.7504928433878241, 0.026873361142131725],\n",
       " ['EBM', 0.7700027888893424, 0.0137199763376056],\n",
       " ['Lasso Stumps', 0.7716460665969407, 0.003555523582019249],\n",
       " ['RiskSLIM', 0.7462789209938625],\n",
       " ['Corel', 0.5],\n",
       " ['Arnold PSA', 0.71]]"
      ]
     },
     "execution_count": 29,
     "metadata": {},
     "output_type": "execute_result"
    }
   ],
   "source": [
    "results = [[\"CART\", np.mean(cart_summary['holdout_test_auc']), np.mean(cart_summary['auc_diffs'])],\n",
    "           [\"EBM\", np.mean(ebm_summary['holdout_test_auc']), np.mean(ebm_summary['auc_diffs'])], \n",
    "           [\"Lasso Stumps\", np.mean(stump_summary['holdout_test_auc']), np.mean(stump_summary['auc_diffs'])],\n",
    "           ['RiskSLIM', np.mean(riskslim_summary['test_auc'])],\n",
    "           ['Corel', np.mean(corel_summary['test_auc'])],\n",
    "           ['Arnold PSA', round(np.mean(arnold_auc), 3)]]\n",
    "results"
   ]
  },
  {
   "cell_type": "code",
   "execution_count": 30,
   "metadata": {},
   "outputs": [],
   "source": [
    "auc = [np.mean(cart_summary['holdout_test_auc']), \n",
    "       np.mean(ebm_summary['holdout_test_auc']), \n",
    "       np.mean(stump_summary['holdout_test_auc']), \n",
    "       np.mean(riskslim_summary['test_auc']), \n",
    "       np.mean(corel_summary['test_auc'])]"
   ]
  },
  {
   "cell_type": "code",
   "execution_count": 31,
   "metadata": {},
   "outputs": [],
   "source": [
    "path = \"C:/Users/binha/Documents/Duke/Cynthia Research/KY-analysis-mytrials/KY Recidivism/KY Results/Models/Two Year/\"\n",
    "results = [[\"Property\", np.str((round(np.mean(cart_summary['holdout_test_auc']), 3))) + \" (\" + np.str(round(np.std(cart_summary['holdout_test_auc']), 3)) + \")\", \n",
    "            np.str(round(np.mean(ebm_summary['holdout_test_auc']),3)) + \" (\" + np.str(round(np.std(ebm_summary['holdout_test_auc']), 3)) + \")\", \n",
    "            np.str(round(np.mean(stump_summary['holdout_test_auc']),3)) + \" (\" + np.str(round(np.std(stump_summary['holdout_test_auc']), 3)) + \")\",             \n",
    "            np.str(round(np.mean(riskslim_summary['test_auc']),3)) + \" (\" + np.str(round(np.std(riskslim_summary['test_auc']), 3)) + \")\", \n",
    "            np.str(round(np.mean(corel_summary['test_auc']),3)) + \" (\" + np.str(round(np.std(corel_summary['test_auc']), 3)) + \")\", \n",
    "            round(np.max(auc) - np.min(auc), 3),\n",
    "            np.str(round(np.mean(arnold_auc), 3)) + \" (\" + np.str(round(np.std(arnold_auc),3)) + \")\"]]\n",
    "with open(path + 'Interpretable Models Summary.csv', 'a') as writeFile:\n",
    "    writer = csv.writer(writeFile)\n",
    "    writer.writerows(results)"
   ]
  },
  {
   "cell_type": "code",
   "execution_count": 32,
   "metadata": {},
   "outputs": [],
   "source": [
    "cart_confusion = cart_summary['confusion_matrix_stats']\n",
    "ebm_confusion = ebm_summary['confusion_matrix_stats']\n",
    "riskslim_confusion = riskslim_summary['confusion_matrix_stats']\n",
    "stumps_confusion = stump_summary['confusion_matrix_stats']\n",
    "corel_confusion = corel_summary['confusion_matrix_stats']\n",
    "#arnold_confusion = cart_summary['confusion_matrix_stats']\n",
    "\n",
    "## save results\n",
    "cart_confusion.to_csv(r'C:/Users/binha/Documents/Duke/Cynthia Research/KY-analysis-mytrials/KY Recidivism/KY Fairness/Two Year/property/cart_confusion.csv', index=None,header=True)\n",
    "ebm_confusion.to_csv(r'C:/Users/binha/Documents/Duke/Cynthia Research/KY-analysis-mytrials/KY Recidivism/KY Fairness/Two Year/property/ebm_confusion.csv', index=None,header=True)\n",
    "riskslim_confusion.to_csv(r'C:/Users/binha/Documents/Duke/Cynthia Research/KY-analysis-mytrials/KY Recidivism/KY Fairness/Two Year/property/riskslim_confusion.csv', index=None,header=True)\n",
    "stumps_confusion.to_csv(r'C:/Users/binha/Documents/Duke/Cynthia Research/KY-analysis-mytrials/KY Recidivism/KY Fairness/Two Year/property/stumps_confusion.csv', index=None,header=True)\n",
    "corel_confusion.to_csv(r'C:/Users/binha/Documents/Duke/Cynthia Research/KY-analysis-mytrials/KY Recidivism/KY Fairness/Two Year/property/corel_confusion.csv', index=None,header=True)\n",
    "#arnold_confusion.to_csv(r'C:/Users/binha/Documents/Duke/Cynthia Research/KY-analysis-mytrials/broward/broward models/model fairness/Two Year/general/arnold_confusion.csv', index=None,header=True)"
   ]
  },
  {
   "cell_type": "code",
   "execution_count": 6,
   "metadata": {},
   "outputs": [],
   "source": [
    "corel_confusion = corel_summary['confusion_matrix_stats']\n",
    "corel_confusion.to_csv(r'C:/Users/binha/Documents/Duke/Cynthia Research/KY-analysis-mytrials/KY Recidivism/KY Fairness/Two Year/property/corel_confusion.csv', index=None,header=True)"
   ]
  }
 ],
 "metadata": {
  "kernelspec": {
   "display_name": "Python 3",
   "language": "python",
   "name": "python3"
  },
  "language_info": {
   "codemirror_mode": {
    "name": "ipython",
    "version": 3
   },
   "file_extension": ".py",
   "mimetype": "text/x-python",
   "name": "python",
   "nbconvert_exporter": "python",
   "pygments_lexer": "ipython3",
   "version": "3.7.4"
  }
 },
 "nbformat": 4,
 "nbformat_minor": 4
}
