{
 "cells": [
  {
   "cell_type": "code",
   "execution_count": 6,
   "metadata": {
    "hideCode": false,
    "hidePrompt": false
   },
   "outputs": [],
   "source": [
    "import pytablewriter\n",
    "import pandas as pd\n",
    "import numpy as np"
   ]
  },
  {
   "cell_type": "code",
   "execution_count": 7,
   "metadata": {
    "hideCode": false,
    "hidePrompt": false
   },
   "outputs": [],
   "source": [
    "result = pd.read_csv(\"C:\\\\Users\\\\binha\\\\Documents\\\\Duke\\\\Cynthia Research\\\\KY-analysis-mytrials\\\\KY Recidivism\\\\KY Results\\\\Models\\\\Two Year\\\\Interpretable Models Summary.csv\")"
   ]
  },
  {
   "cell_type": "code",
   "execution_count": 8,
   "metadata": {
    "hideCode": false,
    "hidePrompt": false
   },
   "outputs": [
    {
     "data": {
      "text/html": [
       "<div>\n",
       "<style scoped>\n",
       "    .dataframe tbody tr th:only-of-type {\n",
       "        vertical-align: middle;\n",
       "    }\n",
       "\n",
       "    .dataframe tbody tr th {\n",
       "        vertical-align: top;\n",
       "    }\n",
       "\n",
       "    .dataframe thead th {\n",
       "        text-align: right;\n",
       "    }\n",
       "</style>\n",
       "<table border=\"1\" class=\"dataframe\">\n",
       "  <thead>\n",
       "    <tr style=\"text-align: right;\">\n",
       "      <th></th>\n",
       "      <th>Unnamed: 0</th>\n",
       "      <th>CART</th>\n",
       "      <th>EBM</th>\n",
       "      <th>Lasso Stumps</th>\n",
       "      <th>RiskSLIM</th>\n",
       "      <th>Corel</th>\n",
       "      <th>Performance Range</th>\n",
       "      <th>Arnold PSA</th>\n",
       "    </tr>\n",
       "  </thead>\n",
       "  <tbody>\n",
       "    <tr>\n",
       "      <th>0</th>\n",
       "      <td>General</td>\n",
       "      <td>0.712 (0.001)</td>\n",
       "      <td>0.719 (0.002)</td>\n",
       "      <td>0.712 (0.004)</td>\n",
       "      <td>0.674 (0.005)</td>\n",
       "      <td>0.624 (0.003)</td>\n",
       "      <td>0.096</td>\n",
       "      <td>0.693 (0.001)</td>\n",
       "    </tr>\n",
       "    <tr>\n",
       "      <th>1</th>\n",
       "      <td>Violent</td>\n",
       "      <td>0.799 (0.008)</td>\n",
       "      <td>0.811 (0.008)</td>\n",
       "      <td>0.804 (0.004)</td>\n",
       "      <td>0.783 (0.005)</td>\n",
       "      <td>0.601 (0.004)</td>\n",
       "      <td>0.209</td>\n",
       "      <td>0.793 (0.01)</td>\n",
       "    </tr>\n",
       "    <tr>\n",
       "      <th>2</th>\n",
       "      <td>Drug</td>\n",
       "      <td>0.674 (0.004)</td>\n",
       "      <td>0.685 (0.004)</td>\n",
       "      <td>0.677 (0.007)</td>\n",
       "      <td>0.645 (0.005)</td>\n",
       "      <td>0.5 (0.0)</td>\n",
       "      <td>0.185</td>\n",
       "      <td>0.642 (0.009)</td>\n",
       "    </tr>\n",
       "    <tr>\n",
       "      <th>3</th>\n",
       "      <td>Property</td>\n",
       "      <td>0.75 (0.008)</td>\n",
       "      <td>0.77 (0.006)</td>\n",
       "      <td>0.772 (0.015)</td>\n",
       "      <td>0.746 (0.012)</td>\n",
       "      <td>0.5 (0.0)</td>\n",
       "      <td>0.272</td>\n",
       "      <td>0.71 (0.006)</td>\n",
       "    </tr>\n",
       "    <tr>\n",
       "      <th>4</th>\n",
       "      <td>Felony</td>\n",
       "      <td>0.714 (0.003)</td>\n",
       "      <td>0.724 (0.002)</td>\n",
       "      <td>0.718 (0.003)</td>\n",
       "      <td>0.694 (0.003)</td>\n",
       "      <td>0.531 (0.001)</td>\n",
       "      <td>0.193</td>\n",
       "      <td>0.695 (0.002)</td>\n",
       "    </tr>\n",
       "    <tr>\n",
       "      <th>5</th>\n",
       "      <td>Misdemeanor</td>\n",
       "      <td>0.683 (0.006)</td>\n",
       "      <td>0.694 (0.005)</td>\n",
       "      <td>0.683 (0.007)</td>\n",
       "      <td>0.651 (0.009)</td>\n",
       "      <td>0.545 (0.002)</td>\n",
       "      <td>0.149</td>\n",
       "      <td>0.683 (0.003)</td>\n",
       "    </tr>\n",
       "  </tbody>\n",
       "</table>\n",
       "</div>"
      ],
      "text/plain": [
       "    Unnamed: 0           CART            EBM   Lasso Stumps       RiskSLIM  \\\n",
       "0      General  0.712 (0.001)  0.719 (0.002)  0.712 (0.004)  0.674 (0.005)   \n",
       "1      Violent  0.799 (0.008)  0.811 (0.008)  0.804 (0.004)  0.783 (0.005)   \n",
       "2         Drug  0.674 (0.004)  0.685 (0.004)  0.677 (0.007)  0.645 (0.005)   \n",
       "3     Property   0.75 (0.008)   0.77 (0.006)  0.772 (0.015)  0.746 (0.012)   \n",
       "4       Felony  0.714 (0.003)  0.724 (0.002)  0.718 (0.003)  0.694 (0.003)   \n",
       "5  Misdemeanor  0.683 (0.006)  0.694 (0.005)  0.683 (0.007)  0.651 (0.009)   \n",
       "\n",
       "           Corel  Performance Range     Arnold PSA  \n",
       "0  0.624 (0.003)              0.096  0.693 (0.001)  \n",
       "1  0.601 (0.004)              0.209   0.793 (0.01)  \n",
       "2      0.5 (0.0)              0.185  0.642 (0.009)  \n",
       "3      0.5 (0.0)              0.272   0.71 (0.006)  \n",
       "4  0.531 (0.001)              0.193  0.695 (0.002)  \n",
       "5  0.545 (0.002)              0.149  0.683 (0.003)  "
      ]
     },
     "execution_count": 8,
     "metadata": {},
     "output_type": "execute_result"
    }
   ],
   "source": [
    "result"
   ]
  },
  {
   "cell_type": "code",
   "execution_count": 4,
   "metadata": {
    "hideCode": false,
    "hidePrompt": false
   },
   "outputs": [],
   "source": [
    "cols = result.columns.to_list()\n",
    "values = result.values.tolist()"
   ]
  },
  {
   "cell_type": "code",
   "execution_count": 5,
   "metadata": {
    "hideCode": false,
    "hideOutput": true,
    "hidePrompt": false
   },
   "outputs": [
    {
     "name": "stdout",
     "output_type": "stream",
     "text": [
      "\\begin{array}{l | l | l | l | l | l | r | l} \\hline\n",
      "    General     & \\verb|0.712 (0.001)| & \\verb|0.719 (0.002)| & \\verb|0.712 (0.004)| & \\verb|0.674 (0.005)| & \\verb|0.624 (0.003)| & 0.096 & \\verb|0.693 (0.001)| \\\\ \\hline\n",
      "    Violent     & \\verb|0.799 (0.008)| & \\verb|0.811 (0.008)| & \\verb|0.804 (0.004)| & \\verb|0.783 (0.005)| & \\verb|0.601 (0.004)| & 0.209 & \\verb|0.793 (0.01) | \\\\ \\hline\n",
      "    Drug        & \\verb|0.674 (0.004)| & \\verb|0.685 (0.004)| & \\verb|0.677 (0.007)| & \\verb|0.645 (0.005)| & \\verb|0.5 (0.0)    | & 0.185 & \\verb|0.642 (0.009)| \\\\ \\hline\n",
      "    Property    & \\verb|0.75 (0.008) | & \\verb|0.77 (0.006) | & \\verb|0.772 (0.015)| & \\verb|0.746 (0.012)| & \\verb|0.5 (0.0)    | & 0.272 & \\verb|0.71 (0.006) | \\\\ \\hline\n",
      "    Felony      & \\verb|0.714 (0.003)| & \\verb|0.724 (0.002)| & \\verb|0.718 (0.003)| & \\verb|0.694 (0.003)| & \\verb|0.531 (0.001)| & 0.193 & \\verb|0.695 (0.002)| \\\\ \\hline\n",
      "    Misdemeanor & \\verb|0.683 (0.006)| & \\verb|0.694 (0.005)| & \\verb|0.683 (0.007)| & \\verb|0.651 (0.009)| & \\verb|0.545 (0.002)| & 0.149 & \\verb|0.683 (0.003)| \\\\ \\hline\n",
      "\\end{array}\n"
     ]
    }
   ],
   "source": [
    "writer = pytablewriter.LatexTableWriter()\n",
    "writer.value_matrix = values\n",
    "writer.write_table()"
   ]
  }
 ],
 "metadata": {
  "hide_code_all_hidden": false,
  "kernelspec": {
   "display_name": "Python 3",
   "language": "python",
   "name": "python3"
  },
  "language_info": {
   "codemirror_mode": {
    "name": "ipython",
    "version": 3
   },
   "file_extension": ".py",
   "mimetype": "text/x-python",
   "name": "python",
   "nbconvert_exporter": "python",
   "pygments_lexer": "ipython3",
   "version": "3.7.4"
  }
 },
 "nbformat": 4,
 "nbformat_minor": 4
}
