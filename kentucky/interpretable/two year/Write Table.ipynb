{
 "cells": [
  {
   "cell_type": "code",
   "execution_count": 1,
   "metadata": {
    "hideCode": false,
    "hidePrompt": false
   },
   "outputs": [],
   "source": [
    "import pytablewriter\n",
    "import pandas as pd\n",
    "import numpy as np"
   ]
  },
  {
   "cell_type": "code",
   "execution_count": 2,
   "metadata": {
    "hideCode": false,
    "hidePrompt": false
   },
   "outputs": [],
   "source": [
    "result = pd.read_csv(\"C:\\\\Users\\\\binha\\\\Documents\\\\Duke\\\\Cynthia Research\\\\KY-analysis-mytrials\\\\KY Recidivism\\\\KY Results\\\\Models\\\\Two Year\\\\Interpretable Models Summary.csv\")"
   ]
  },
  {
   "cell_type": "code",
   "execution_count": 3,
   "metadata": {
    "hideCode": false,
    "hidePrompt": false
   },
   "outputs": [
    {
     "data": {
      "text/html": [
       "<div>\n",
       "<style scoped>\n",
       "    .dataframe tbody tr th:only-of-type {\n",
       "        vertical-align: middle;\n",
       "    }\n",
       "\n",
       "    .dataframe tbody tr th {\n",
       "        vertical-align: top;\n",
       "    }\n",
       "\n",
       "    .dataframe thead th {\n",
       "        text-align: right;\n",
       "    }\n",
       "</style>\n",
       "<table border=\"1\" class=\"dataframe\">\n",
       "  <thead>\n",
       "    <tr style=\"text-align: right;\">\n",
       "      <th></th>\n",
       "      <th>Unnamed: 0</th>\n",
       "      <th>CART</th>\n",
       "      <th>EBM</th>\n",
       "      <th>Lasso Stumps</th>\n",
       "      <th>RiskSLIM</th>\n",
       "      <th>Performance Range</th>\n",
       "      <th>Arnold PSA</th>\n",
       "    </tr>\n",
       "  </thead>\n",
       "  <tbody>\n",
       "    <tr>\n",
       "      <th>0</th>\n",
       "      <td>General</td>\n",
       "      <td>0.736 (0.003)</td>\n",
       "      <td>0.742 (0.003)</td>\n",
       "      <td>0.74 (0.003)</td>\n",
       "      <td>0.708 (0.002)</td>\n",
       "      <td>0.034</td>\n",
       "      <td>0.686 (0.002)</td>\n",
       "    </tr>\n",
       "    <tr>\n",
       "      <th>1</th>\n",
       "      <td>Violent</td>\n",
       "      <td>0.813 (0.002)</td>\n",
       "      <td>0.817 (0.001)</td>\n",
       "      <td>0.816 (0.001)</td>\n",
       "      <td>0.792 (0.003)</td>\n",
       "      <td>0.025</td>\n",
       "      <td>0.79 (0.003)</td>\n",
       "    </tr>\n",
       "    <tr>\n",
       "      <th>2</th>\n",
       "      <td>Drug</td>\n",
       "      <td>0.694 (0.005)</td>\n",
       "      <td>0.694 (0.013)</td>\n",
       "      <td>0.698 (0.007)</td>\n",
       "      <td>0.654 (0.006)</td>\n",
       "      <td>0.044</td>\n",
       "      <td>0.644 (0.004)</td>\n",
       "    </tr>\n",
       "    <tr>\n",
       "      <th>3</th>\n",
       "      <td>Property</td>\n",
       "      <td>0.784 (0.007)</td>\n",
       "      <td>0.8 (0.008)</td>\n",
       "      <td>0.801 (0.007)</td>\n",
       "      <td>0.774 (0.009)</td>\n",
       "      <td>0.028</td>\n",
       "      <td>0.718 (0.005)</td>\n",
       "    </tr>\n",
       "    <tr>\n",
       "      <th>4</th>\n",
       "      <td>Felony</td>\n",
       "      <td>0.755 (0.003)</td>\n",
       "      <td>0.764 (0.004)</td>\n",
       "      <td>0.76 (0.003)</td>\n",
       "      <td>0.722 (0.003)</td>\n",
       "      <td>0.041</td>\n",
       "      <td>0.704 (0.004)</td>\n",
       "    </tr>\n",
       "    <tr>\n",
       "      <th>5</th>\n",
       "      <td>Misdemeanor</td>\n",
       "      <td>0.71 (0.004)</td>\n",
       "      <td>0.718 (0.004)</td>\n",
       "      <td>0.713 (0.004)</td>\n",
       "      <td>0.671 (0.003)</td>\n",
       "      <td>0.047</td>\n",
       "      <td>0.678 (0.003)</td>\n",
       "    </tr>\n",
       "  </tbody>\n",
       "</table>\n",
       "</div>"
      ],
      "text/plain": [
       "    Unnamed: 0           CART            EBM   Lasso Stumps       RiskSLIM  \\\n",
       "0      General  0.736 (0.003)  0.742 (0.003)   0.74 (0.003)  0.708 (0.002)   \n",
       "1      Violent  0.813 (0.002)  0.817 (0.001)  0.816 (0.001)  0.792 (0.003)   \n",
       "2         Drug  0.694 (0.005)  0.694 (0.013)  0.698 (0.007)  0.654 (0.006)   \n",
       "3     Property  0.784 (0.007)    0.8 (0.008)  0.801 (0.007)  0.774 (0.009)   \n",
       "4       Felony  0.755 (0.003)  0.764 (0.004)   0.76 (0.003)  0.722 (0.003)   \n",
       "5  Misdemeanor   0.71 (0.004)  0.718 (0.004)  0.713 (0.004)  0.671 (0.003)   \n",
       "\n",
       "   Performance Range     Arnold PSA  \n",
       "0              0.034  0.686 (0.002)  \n",
       "1              0.025   0.79 (0.003)  \n",
       "2              0.044  0.644 (0.004)  \n",
       "3              0.028  0.718 (0.005)  \n",
       "4              0.041  0.704 (0.004)  \n",
       "5              0.047  0.678 (0.003)  "
      ]
     },
     "execution_count": 3,
     "metadata": {},
     "output_type": "execute_result"
    }
   ],
   "source": [
    "result"
   ]
  },
  {
   "cell_type": "code",
   "execution_count": 4,
   "metadata": {
    "hideCode": false,
    "hidePrompt": false
   },
   "outputs": [],
   "source": [
    "cols = result.columns.to_list()\n",
    "values = result.values.tolist()"
   ]
  },
  {
   "cell_type": "code",
   "execution_count": 6,
   "metadata": {
    "hideCode": false,
    "hideOutput": true,
    "hidePrompt": false
   },
   "outputs": [
    {
     "name": "stdout",
     "output_type": "stream",
     "text": [
      "\\begin{array}{l | l | l | l | l | r | l} \\hline\n",
      "    General     & \\verb|0.736 (0.003)| & \\verb|0.742 (0.003)| & \\verb|0.74 (0.003) | & \\verb|0.708 (0.002)| & 0.03400 & \\verb|0.686 (0.002)| \\\\ \\hline\n",
      "    Violent     & \\verb|0.813 (0.002)| & \\verb|0.817 (0.001)| & \\verb|0.816 (0.001)| & \\verb|0.792 (0.003)| & 0.02500 & \\verb|0.79 (0.003) | \\\\ \\hline\n",
      "    Drug        & \\verb|0.694 (0.005)| & \\verb|0.694 (0.013)| & \\verb|0.698 (0.007)| & \\verb|0.654 (0.006)| & 0.04400 & \\verb|0.644 (0.004)| \\\\ \\hline\n",
      "    Property    & \\verb|0.784 (0.007)| & \\verb|0.8 (0.008)  | & \\verb|0.801 (0.007)| & \\verb|0.774 (0.009)| & 0.02800 & \\verb|0.718 (0.005)| \\\\ \\hline\n",
      "    Felony      & \\verb|0.755 (0.003)| & \\verb|0.764 (0.004)| & \\verb|0.76 (0.003) | & \\verb|0.722 (0.003)| & 0.04100 & \\verb|0.704 (0.004)| \\\\ \\hline\n",
      "    Misdemeanor & \\verb|0.71 (0.004) | & \\verb|0.718 (0.004)| & \\verb|0.713 (0.004)| & \\verb|0.671 (0.003)| & 0.04700 & \\verb|0.678 (0.003)| \\\\ \\hline\n",
      "\\end{array}\n"
     ]
    }
   ],
   "source": [
    "writer = pytablewriter.LatexTableWriter()\n",
    "writer.value_matrix = values\n",
    "writer.write_table()"
   ]
  }
 ],
 "metadata": {
  "hide_code_all_hidden": false,
  "kernelspec": {
   "display_name": "Python 3",
   "language": "python",
   "name": "python3"
  },
  "language_info": {
   "codemirror_mode": {
    "name": "ipython",
    "version": 3
   },
   "file_extension": ".py",
   "mimetype": "text/x-python",
   "name": "python",
   "nbconvert_exporter": "python",
   "pygments_lexer": "ipython3",
   "version": "3.7.4"
  }
 },
 "nbformat": 4,
 "nbformat_minor": 4
}
