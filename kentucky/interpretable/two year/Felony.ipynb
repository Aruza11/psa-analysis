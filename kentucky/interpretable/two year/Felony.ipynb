{
 "cells": [
  {
   "cell_type": "code",
   "execution_count": 1,
   "metadata": {},
   "outputs": [
    {
     "name": "stdout",
     "output_type": "stream",
     "text": [
      "Current working directory is now:  C:\\Users\\binha\\Documents\\Duke\\Cynthia Research\\psa-analysis - test2\n"
     ]
    },
    {
     "name": "stderr",
     "output_type": "stream",
     "text": [
      "C:\\Users\\binha\\Anaconda3\\lib\\site-packages\\sklearn\\externals\\six.py:31: DeprecationWarning:\n",
      "\n",
      "The module is deprecated in version 0.21 and will be removed in version 0.23 since we've dropped support for Python 2.7. Please rely on the official version of six (https://pypi.org/project/six/).\n",
      "\n"
     ]
    }
   ],
   "source": [
    "import os \n",
    "os.chdir('../../../')\n",
    "print(\"Current working directory is now: \", os.getcwd())\n",
    "\n",
    "import pandas as pd \n",
    "import numpy as np\n",
    "import csv\n",
    "import utils.interpretable_functions as interpret\n",
    "import utils.RiskSLIM as slim\n",
    "import utils.stumps as stumps\n",
    "import utils.Corel as Corel\n",
    "\n",
    "from sklearn.linear_model import LogisticRegression\n",
    "from sklearn.model_selection import KFold, GridSearchCV\n",
    "from sklearn.metrics import roc_auc_score\n",
    "\n",
    "# restore saved variables\n",
    "%store -r summary_F2_KY_interpret"
   ]
  },
  {
   "cell_type": "markdown",
   "metadata": {},
   "source": [
    "### CART & EBM"
   ]
  },
  {
   "cell_type": "code",
   "execution_count": 2,
   "metadata": {},
   "outputs": [],
   "source": [
    "### load data\n",
    "data = pd.read_csv(\"~/Documents/Duke/Cynthia Research/KY-analysis-mytrials/KY Recidivism/KY data/kentucky_data.csv\")\n",
    "data = data.drop(['fta_risk_score_raw','nca_risk_score_raw','pvf_risk_score_raw', \n",
    "                  'fta_calc', 'nca_calc', 'pvf_calc'], axis=1)\n",
    "x = data.loc[:,:'current_violence']\n",
    "y = data['recid_F_two_year'].values"
   ]
  },
  {
   "cell_type": "code",
   "execution_count": 3,
   "metadata": {
    "scrolled": true
   },
   "outputs": [
    {
     "name": "stdout",
     "output_type": "stream",
     "text": [
      "model_id, score_thresholds 0 {'rank_abs': [663]}\n",
      "get_disparity_predefined_group()\n"
     ]
    },
    {
     "name": "stderr",
     "output_type": "stream",
     "text": [
      "C:\\Users\\binha\\Documents\\Duke\\Cynthia Research\\psa-analysis - test2\\utils\\fairness_functions.py:82: RuntimeWarning:\n",
      "\n",
      "invalid value encountered in longlong_scalars\n",
      "\n",
      "C:\\Users\\binha\\Documents\\Duke\\Cynthia Research\\psa-analysis - test2\\utils\\fairness_functions.py:95: RuntimeWarning:\n",
      "\n",
      "divide by zero encountered in longlong_scalars\n",
      "\n"
     ]
    },
    {
     "name": "stdout",
     "output_type": "stream",
     "text": [
      "model_id, score_thresholds 0 {'rank_abs': [760]}\n",
      "get_disparity_predefined_group()\n"
     ]
    },
    {
     "name": "stderr",
     "output_type": "stream",
     "text": [
      "C:\\Users\\binha\\Documents\\Duke\\Cynthia Research\\psa-analysis - test2\\utils\\fairness_functions.py:95: RuntimeWarning:\n",
      "\n",
      "divide by zero encountered in longlong_scalars\n",
      "\n",
      "C:\\Users\\binha\\Documents\\Duke\\Cynthia Research\\psa-analysis - test2\\utils\\fairness_functions.py:82: RuntimeWarning:\n",
      "\n",
      "invalid value encountered in longlong_scalars\n",
      "\n"
     ]
    },
    {
     "name": "stdout",
     "output_type": "stream",
     "text": [
      "model_id, score_thresholds 0 {'rank_abs': [844]}\n",
      "get_disparity_predefined_group()\n"
     ]
    },
    {
     "name": "stderr",
     "output_type": "stream",
     "text": [
      "C:\\Users\\binha\\Documents\\Duke\\Cynthia Research\\psa-analysis - test2\\utils\\fairness_functions.py:95: RuntimeWarning:\n",
      "\n",
      "divide by zero encountered in longlong_scalars\n",
      "\n",
      "C:\\Users\\binha\\Documents\\Duke\\Cynthia Research\\psa-analysis - test2\\utils\\fairness_functions.py:82: RuntimeWarning:\n",
      "\n",
      "invalid value encountered in longlong_scalars\n",
      "\n"
     ]
    },
    {
     "name": "stdout",
     "output_type": "stream",
     "text": [
      "model_id, score_thresholds 0 {'rank_abs': [915]}\n",
      "get_disparity_predefined_group()\n"
     ]
    },
    {
     "name": "stderr",
     "output_type": "stream",
     "text": [
      "C:\\Users\\binha\\Documents\\Duke\\Cynthia Research\\psa-analysis - test2\\utils\\fairness_functions.py:82: RuntimeWarning:\n",
      "\n",
      "invalid value encountered in longlong_scalars\n",
      "\n",
      "C:\\Users\\binha\\Documents\\Duke\\Cynthia Research\\psa-analysis - test2\\utils\\fairness_functions.py:95: RuntimeWarning:\n",
      "\n",
      "divide by zero encountered in longlong_scalars\n",
      "\n"
     ]
    },
    {
     "name": "stdout",
     "output_type": "stream",
     "text": [
      "model_id, score_thresholds 0 {'rank_abs': [968]}\n",
      "get_disparity_predefined_group()\n"
     ]
    },
    {
     "name": "stderr",
     "output_type": "stream",
     "text": [
      "C:\\Users\\binha\\Documents\\Duke\\Cynthia Research\\psa-analysis - test2\\utils\\fairness_functions.py:95: RuntimeWarning:\n",
      "\n",
      "divide by zero encountered in longlong_scalars\n",
      "\n",
      "C:\\Users\\binha\\Documents\\Duke\\Cynthia Research\\psa-analysis - test2\\utils\\fairness_functions.py:82: RuntimeWarning:\n",
      "\n",
      "invalid value encountered in longlong_scalars\n",
      "\n",
      "C:\\Users\\binha\\Documents\\Duke\\Cynthia Research\\psa-analysis - test2\\utils\\fairness_functions.py:86: RuntimeWarning:\n",
      "\n",
      "invalid value encountered in longlong_scalars\n",
      "\n",
      "C:\\Users\\binha\\Documents\\Duke\\Cynthia Research\\psa-analysis - test2\\utils\\fairness_functions.py:95: RuntimeWarning:\n",
      "\n",
      "invalid value encountered in longlong_scalars\n",
      "\n",
      "WARNING:interpret.utils.all:Passing a numpy array to schema autogen when it should be dataframe.\n",
      "WARNING:interpret.utils.all:Passing a numpy array to schema autogen when it should be dataframe.\n",
      "WARNING:interpret.utils.all:Passing a numpy array to schema autogen when it should be dataframe.\n",
      "WARNING:interpret.utils.all:Passing a numpy array to schema autogen when it should be dataframe.\n",
      "WARNING:interpret.utils.all:Passing a numpy array to schema autogen when it should be dataframe.\n",
      "WARNING:interpret.utils.all:Passing a numpy array to schema autogen when it should be dataframe.\n",
      "WARNING:interpret.utils.all:Passing a numpy array to schema autogen when it should be dataframe.\n",
      "WARNING:interpret.utils.all:Passing a numpy array to schema autogen when it should be dataframe.\n",
      "WARNING:interpret.utils.all:Passing a numpy array to schema autogen when it should be dataframe.\n",
      "WARNING:interpret.utils.all:Passing a numpy array to schema autogen when it should be dataframe.\n",
      "WARNING:interpret.utils.all:Passing a numpy array to schema autogen when it should be dataframe.\n",
      "WARNING:interpret.utils.all:Passing a numpy array to schema autogen when it should be dataframe.\n"
     ]
    },
    {
     "name": "stdout",
     "output_type": "stream",
     "text": [
      "model_id, score_thresholds 0 {'rank_abs': [678]}\n",
      "get_disparity_predefined_group()\n"
     ]
    },
    {
     "name": "stderr",
     "output_type": "stream",
     "text": [
      "C:\\Users\\binha\\Documents\\Duke\\Cynthia Research\\psa-analysis - test2\\utils\\fairness_functions.py:82: RuntimeWarning:\n",
      "\n",
      "invalid value encountered in longlong_scalars\n",
      "\n",
      "C:\\Users\\binha\\Documents\\Duke\\Cynthia Research\\psa-analysis - test2\\utils\\fairness_functions.py:95: RuntimeWarning:\n",
      "\n",
      "divide by zero encountered in longlong_scalars\n",
      "\n",
      "WARNING:interpret.utils.all:Passing a numpy array to schema autogen when it should be dataframe.\n",
      "WARNING:interpret.utils.all:Passing a numpy array to schema autogen when it should be dataframe.\n",
      "WARNING:interpret.utils.all:Passing a numpy array to schema autogen when it should be dataframe.\n",
      "WARNING:interpret.utils.all:Passing a numpy array to schema autogen when it should be dataframe.\n",
      "WARNING:interpret.utils.all:Passing a numpy array to schema autogen when it should be dataframe.\n",
      "WARNING:interpret.utils.all:Passing a numpy array to schema autogen when it should be dataframe.\n",
      "WARNING:interpret.utils.all:Passing a numpy array to schema autogen when it should be dataframe.\n",
      "WARNING:interpret.utils.all:Passing a numpy array to schema autogen when it should be dataframe.\n",
      "WARNING:interpret.utils.all:Passing a numpy array to schema autogen when it should be dataframe.\n",
      "WARNING:interpret.utils.all:Passing a numpy array to schema autogen when it should be dataframe.\n",
      "WARNING:interpret.utils.all:Passing a numpy array to schema autogen when it should be dataframe.\n",
      "WARNING:interpret.utils.all:Passing a numpy array to schema autogen when it should be dataframe.\n"
     ]
    },
    {
     "name": "stdout",
     "output_type": "stream",
     "text": [
      "model_id, score_thresholds 0 {'rank_abs': [700]}\n",
      "get_disparity_predefined_group()\n"
     ]
    },
    {
     "name": "stderr",
     "output_type": "stream",
     "text": [
      "C:\\Users\\binha\\Documents\\Duke\\Cynthia Research\\psa-analysis - test2\\utils\\fairness_functions.py:95: RuntimeWarning:\n",
      "\n",
      "divide by zero encountered in longlong_scalars\n",
      "\n",
      "C:\\Users\\binha\\Documents\\Duke\\Cynthia Research\\psa-analysis - test2\\utils\\fairness_functions.py:82: RuntimeWarning:\n",
      "\n",
      "invalid value encountered in longlong_scalars\n",
      "\n",
      "WARNING:interpret.utils.all:Passing a numpy array to schema autogen when it should be dataframe.\n",
      "WARNING:interpret.utils.all:Passing a numpy array to schema autogen when it should be dataframe.\n",
      "WARNING:interpret.utils.all:Passing a numpy array to schema autogen when it should be dataframe.\n",
      "WARNING:interpret.utils.all:Passing a numpy array to schema autogen when it should be dataframe.\n",
      "WARNING:interpret.utils.all:Passing a numpy array to schema autogen when it should be dataframe.\n",
      "WARNING:interpret.utils.all:Passing a numpy array to schema autogen when it should be dataframe.\n",
      "WARNING:interpret.utils.all:Passing a numpy array to schema autogen when it should be dataframe.\n",
      "WARNING:interpret.utils.all:Passing a numpy array to schema autogen when it should be dataframe.\n",
      "WARNING:interpret.utils.all:Passing a numpy array to schema autogen when it should be dataframe.\n",
      "WARNING:interpret.utils.all:Passing a numpy array to schema autogen when it should be dataframe.\n",
      "WARNING:interpret.utils.all:Passing a numpy array to schema autogen when it should be dataframe.\n",
      "WARNING:interpret.utils.all:Passing a numpy array to schema autogen when it should be dataframe.\n"
     ]
    },
    {
     "name": "stdout",
     "output_type": "stream",
     "text": [
      "model_id, score_thresholds 0 {'rank_abs': [746]}\n",
      "get_disparity_predefined_group()\n"
     ]
    },
    {
     "name": "stderr",
     "output_type": "stream",
     "text": [
      "C:\\Users\\binha\\Documents\\Duke\\Cynthia Research\\psa-analysis - test2\\utils\\fairness_functions.py:95: RuntimeWarning:\n",
      "\n",
      "divide by zero encountered in longlong_scalars\n",
      "\n",
      "C:\\Users\\binha\\Documents\\Duke\\Cynthia Research\\psa-analysis - test2\\utils\\fairness_functions.py:82: RuntimeWarning:\n",
      "\n",
      "invalid value encountered in longlong_scalars\n",
      "\n",
      "WARNING:interpret.utils.all:Passing a numpy array to schema autogen when it should be dataframe.\n",
      "WARNING:interpret.utils.all:Passing a numpy array to schema autogen when it should be dataframe.\n",
      "WARNING:interpret.utils.all:Passing a numpy array to schema autogen when it should be dataframe.\n",
      "WARNING:interpret.utils.all:Passing a numpy array to schema autogen when it should be dataframe.\n",
      "WARNING:interpret.utils.all:Passing a numpy array to schema autogen when it should be dataframe.\n",
      "WARNING:interpret.utils.all:Passing a numpy array to schema autogen when it should be dataframe.\n",
      "WARNING:interpret.utils.all:Passing a numpy array to schema autogen when it should be dataframe.\n",
      "WARNING:interpret.utils.all:Passing a numpy array to schema autogen when it should be dataframe.\n",
      "WARNING:interpret.utils.all:Passing a numpy array to schema autogen when it should be dataframe.\n",
      "WARNING:interpret.utils.all:Passing a numpy array to schema autogen when it should be dataframe.\n",
      "WARNING:interpret.utils.all:Passing a numpy array to schema autogen when it should be dataframe.\n",
      "WARNING:interpret.utils.all:Passing a numpy array to schema autogen when it should be dataframe.\n"
     ]
    },
    {
     "name": "stdout",
     "output_type": "stream",
     "text": [
      "model_id, score_thresholds 0 {'rank_abs': [754]}\n",
      "get_disparity_predefined_group()\n"
     ]
    },
    {
     "name": "stderr",
     "output_type": "stream",
     "text": [
      "C:\\Users\\binha\\Documents\\Duke\\Cynthia Research\\psa-analysis - test2\\utils\\fairness_functions.py:82: RuntimeWarning:\n",
      "\n",
      "invalid value encountered in longlong_scalars\n",
      "\n",
      "C:\\Users\\binha\\Documents\\Duke\\Cynthia Research\\psa-analysis - test2\\utils\\fairness_functions.py:95: RuntimeWarning:\n",
      "\n",
      "divide by zero encountered in longlong_scalars\n",
      "\n",
      "WARNING:interpret.utils.all:Passing a numpy array to schema autogen when it should be dataframe.\n",
      "WARNING:interpret.utils.all:Passing a numpy array to schema autogen when it should be dataframe.\n",
      "WARNING:interpret.utils.all:Passing a numpy array to schema autogen when it should be dataframe.\n",
      "WARNING:interpret.utils.all:Passing a numpy array to schema autogen when it should be dataframe.\n",
      "WARNING:interpret.utils.all:Passing a numpy array to schema autogen when it should be dataframe.\n",
      "WARNING:interpret.utils.all:Passing a numpy array to schema autogen when it should be dataframe.\n",
      "WARNING:interpret.utils.all:Passing a numpy array to schema autogen when it should be dataframe.\n",
      "WARNING:interpret.utils.all:Passing a numpy array to schema autogen when it should be dataframe.\n",
      "WARNING:interpret.utils.all:Passing a numpy array to schema autogen when it should be dataframe.\n",
      "WARNING:interpret.utils.all:Passing a numpy array to schema autogen when it should be dataframe.\n",
      "WARNING:interpret.utils.all:Passing a numpy array to schema autogen when it should be dataframe.\n",
      "WARNING:interpret.utils.all:Passing a numpy array to schema autogen when it should be dataframe.\n"
     ]
    },
    {
     "name": "stdout",
     "output_type": "stream",
     "text": [
      "model_id, score_thresholds 0 {'rank_abs': [746]}\n",
      "get_disparity_predefined_group()\n"
     ]
    },
    {
     "name": "stderr",
     "output_type": "stream",
     "text": [
      "C:\\Users\\binha\\Documents\\Duke\\Cynthia Research\\psa-analysis - test2\\utils\\fairness_functions.py:82: RuntimeWarning:\n",
      "\n",
      "invalid value encountered in longlong_scalars\n",
      "\n",
      "C:\\Users\\binha\\Documents\\Duke\\Cynthia Research\\psa-analysis - test2\\utils\\fairness_functions.py:95: RuntimeWarning:\n",
      "\n",
      "divide by zero encountered in longlong_scalars\n",
      "\n",
      "C:\\Users\\binha\\Documents\\Duke\\Cynthia Research\\psa-analysis - test2\\utils\\fairness_functions.py:86: RuntimeWarning:\n",
      "\n",
      "invalid value encountered in longlong_scalars\n",
      "\n",
      "C:\\Users\\binha\\Documents\\Duke\\Cynthia Research\\psa-analysis - test2\\utils\\fairness_functions.py:95: RuntimeWarning:\n",
      "\n",
      "invalid value encountered in longlong_scalars\n",
      "\n"
     ]
    }
   ],
   "source": [
    "#### CART\n",
    "depth = [7,8,9]\n",
    "cart_summary = interpret.CART(X=x,\n",
    "                         Y=y,\n",
    "                         depth=depth,\n",
    "                         seed=816)\n",
    "\n",
    "#### EBM\n",
    "estimators = [40]\n",
    "depth = [2]\n",
    "learning_rate = [0.5]\n",
    "ebm_summary = interpret.EBM(X=x,\n",
    "                       Y=y,\n",
    "                       learning_rate=learning_rate,\n",
    "                       depth=depth,\n",
    "                       estimators=estimators,\n",
    "                       seed =816)"
   ]
  },
  {
   "cell_type": "code",
   "execution_count": 4,
   "metadata": {},
   "outputs": [
    {
     "data": {
      "text/plain": [
       "(0.7144786650010507, 0.01573040895327644)"
      ]
     },
     "execution_count": 4,
     "metadata": {},
     "output_type": "execute_result"
    }
   ],
   "source": [
    "np.mean(cart_summary['holdout_test_auc']), np.mean(cart_summary['auc_diffs'])"
   ]
  },
  {
   "cell_type": "code",
   "execution_count": 5,
   "metadata": {},
   "outputs": [
    {
     "data": {
      "text/plain": [
       "(0.7242385095169807, 0.00470822436876317)"
      ]
     },
     "execution_count": 5,
     "metadata": {},
     "output_type": "execute_result"
    }
   ],
   "source": [
    "np.mean(ebm_summary['holdout_test_auc']), np.mean(ebm_summary['auc_diffs'])"
   ]
  },
  {
   "cell_type": "markdown",
   "metadata": {},
   "source": [
    "## Lasso Stumps"
   ]
  },
  {
   "cell_type": "code",
   "execution_count": 6,
   "metadata": {},
   "outputs": [],
   "source": [
    "## load whole data\n",
    "data = pd.read_csv(\"~/Documents/Duke/Cynthia Research/KY-analysis-mytrials/KY Recidivism/KY data/kentucky_stumps.csv\")\n",
    "X_stumps, Y_stumps = data.loc[:,:'current_violence>=1'], data['recid_F_two_year'].values\n",
    "Y_stumps[Y_stumps == -1] = 0\n",
    "cols = X_stumps.columns[3:]\n",
    "\n",
    "## load train & test data\n",
    "train_stumps = pd.read_csv(\"~/Documents/Duke/Cynthia Research/KY-analysis-mytrials/KY Recidivism/KY data/kentucky_train_stumps.csv\")\n",
    "test_stumps = pd.read_csv(\"~/Documents/Duke/Cynthia Research/KY-analysis-mytrials/KY Recidivism/KY data/kentucky_test_stumps.csv\")\n",
    "X_train_stumps, Y_train_stumps = train_stumps.loc[:,:'current_violence>=1'], train_stumps['recid_F_two_year'].values\n",
    "X_test_stumps, Y_test_stumps = test_stumps.loc[:,:'current_violence>=1'], test_stumps['recid_F_two_year'].values\n",
    "Y_train_stumps[Y_train_stumps == -1] = 0\n",
    "Y_test_stumps[Y_test_stumps == -1] = 0"
   ]
  },
  {
   "cell_type": "markdown",
   "metadata": {},
   "source": [
    "#### Nested Cross Validation"
   ]
  },
  {
   "cell_type": "code",
   "execution_count": 12,
   "metadata": {
    "scrolled": true
   },
   "outputs": [
    {
     "name": "stdout",
     "output_type": "stream",
     "text": [
      "model_id, score_thresholds 0 {'rank_abs': [11013]}\n",
      "get_disparity_predefined_group()\n"
     ]
    },
    {
     "name": "stderr",
     "output_type": "stream",
     "text": [
      "C:\\Users\\binha\\Documents\\Duke\\Cynthia Research\\psa-analysis - test2\\utils\\fairness_functions.py:86: RuntimeWarning:\n",
      "\n",
      "invalid value encountered in longlong_scalars\n",
      "\n"
     ]
    },
    {
     "name": "stdout",
     "output_type": "stream",
     "text": [
      "model_id, score_thresholds 0 {'rank_abs': [11472]}\n",
      "get_disparity_predefined_group()\n",
      "model_id, score_thresholds 0 {'rank_abs': [10624]}\n",
      "get_disparity_predefined_group()\n",
      "model_id, score_thresholds 0 {'rank_abs': [10703]}\n",
      "get_disparity_predefined_group()\n",
      "model_id, score_thresholds 0 {'rank_abs': [10824]}\n",
      "get_disparity_predefined_group()\n"
     ]
    },
    {
     "name": "stderr",
     "output_type": "stream",
     "text": [
      "C:\\Users\\binha\\Documents\\Duke\\Cynthia Research\\psa-analysis - test2\\utils\\fairness_functions.py:86: RuntimeWarning:\n",
      "\n",
      "invalid value encountered in longlong_scalars\n",
      "\n"
     ]
    }
   ],
   "source": [
    "stump_summary = stumps.stump_cv(X = X_stumps, \n",
    "                                Y = Y_stumps, \n",
    "                                columns=cols, \n",
    "                                c_grid={'C': [0.001, 0.002, 0.003]}, \n",
    "                                seed = 816)"
   ]
  },
  {
   "cell_type": "code",
   "execution_count": 13,
   "metadata": {},
   "outputs": [
    {
     "data": {
      "text/plain": [
       "([{'C': 0.003}, {'C': 0.003}, {'C': 0.003}, {'C': 0.003}, {'C': 0.003}],\n",
       " 0.717774385762597,\n",
       " 0.0004684788686560415)"
      ]
     },
     "execution_count": 13,
     "metadata": {},
     "output_type": "execute_result"
    }
   ],
   "source": [
    "stump_summary['best_params'], np.mean(stump_summary['holdout_test_auc']), np.mean(stump_summary['auc_diffs'])"
   ]
  },
  {
   "cell_type": "markdown",
   "metadata": {},
   "source": [
    "##### Best Stump Model"
   ]
  },
  {
   "cell_type": "code",
   "execution_count": 14,
   "metadata": {},
   "outputs": [
    {
     "data": {
      "text/plain": [
       "19"
      ]
     },
     "execution_count": 14,
     "metadata": {},
     "output_type": "execute_result"
    }
   ],
   "source": [
    "best_stump_model = stumps.stump_model(X_train_stumps, \n",
    "                                      Y_train_stumps, \n",
    "                                      X_test_stumps, \n",
    "                                      Y_test_stumps, \n",
    "                                      c=0.003, \n",
    "                                      columns=cols, \n",
    "                                      seed=816)\n",
    "len(best_stump_model['features'])"
   ]
  },
  {
   "cell_type": "markdown",
   "metadata": {},
   "source": [
    "##### Prediction Table"
   ]
  },
  {
   "cell_type": "code",
   "execution_count": 15,
   "metadata": {
    "scrolled": true
   },
   "outputs": [
    {
     "name": "stdout",
     "output_type": "stream",
     "text": [
      "\begin{tabular}{|l|r|r|} \\hline\n",
      "1. sex>=1 & 8.7 & +... \\ \\hline\n",
      "2. age_at_current_charge<=30 & 0.4 & +... \\ \\hline\n",
      "3. age_at_current_charge<=38 & 19.1 & +... \\ \\hline\n",
      "4. age_at_current_charge<=43 & 2.0 & +... \\ \\hline\n",
      "5. p_arrest>=1 & 29.8 & -... \\ \\hline\n",
      "6. p_arrest>=2 & 46.0 & +... \\ \\hline\n",
      "7. p_arrest>=3 & 25.2 & +... \\ \\hline\n",
      "8. p_arrest>=4 & 16.3 & +... \\ \\hline\n",
      "9. p_arrest>=5 & 6.0 & +... \\ \\hline\n",
      "10. p_charges>=1 & 27.2 & -... \\ \\hline\n",
      "11. p_charges>=2 & 0.8 & +... \\ \\hline\n",
      "12. p_violence>=1 & 16.9 & +... \\ \\hline\n",
      "13. p_felony>=1 & 50.1 & +... \\ \\hline\n",
      "14. p_felony>=2 & 15.6 & +... \\ \\hline\n",
      "15. ADE>=1 & 13.4 & -... \\ \\hline\n",
      "16. p_prison>=1 & 25.6 & -... \\ \\hline\n",
      "17. p_jail30>=1 & 8.6 & +... \\ \\hline\n",
      "18. p_pending_charge>=1 & 53.8 & +... \\ \\hline\n",
      "19. p_probation>=1 & 19.0 & +... \\ \\hline\n",
      "20. Intercept & -0.517 & +... \\ \\hline\n",
      "\textbf{ADD POINTS FROM ROWS 1 TO 20}  &  \textbf{SCORE} & = ..... \\ \\hline\n",
      "\\multicolumn{3}{l}{Pr(Y = 1) = exp(score/100) / (1 + exp(score/100))} \\ \\hline\n"
     ]
    }
   ],
   "source": [
    "stumps.latex_stump_table(best_stump_model['coefs'], \n",
    "                         best_stump_model['features'], \n",
    "                         best_stump_model['intercept'], \n",
    "                         best_stump_model['dictionary'])"
   ]
  },
  {
   "cell_type": "markdown",
   "metadata": {},
   "source": [
    "##### Stumps Visualizations"
   ]
  },
  {
   "cell_type": "code",
   "execution_count": 16,
   "metadata": {
    "scrolled": true
   },
   "outputs": [
    {
     "data": {
      "image/png": "[encoded data removed]",
      "text/plain": [
       "<Figure size 288x216 with 1 Axes>"
      ]
     },
     "metadata": {
      "needs_background": "light"
     },
     "output_type": "display_data"
    },
    {
     "data": {
      "image/png": "[encoded data removed]",
      "text/plain": [
       "<Figure size 288x216 with 1 Axes>"
      ]
     },
     "metadata": {
      "needs_background": "light"
     },
     "output_type": "display_data"
    },
    {
     "data": {
      "image/png": "[encoded data removed]",
      "text/plain": [
       "<Figure size 288x216 with 1 Axes>"
      ]
     },
     "metadata": {
      "needs_background": "light"
     },
     "output_type": "display_data"
    },
    {
     "data": {
      "image/png": "[encoded data removed]",
      "text/plain": [
       "<Figure size 288x216 with 1 Axes>"
      ]
     },
     "metadata": {
      "needs_background": "light"
     },
     "output_type": "display_data"
    },
    {
     "data": {
      "image/png": "[encoded data removed]",
      "text/plain": [
       "<Figure size 288x216 with 1 Axes>"
      ]
     },
     "metadata": {
      "needs_background": "light"
     },
     "output_type": "display_data"
    },
    {
     "data": {
      "image/png": "[encoded data removed]",
      "text/plain": [
       "<Figure size 288x216 with 1 Axes>"
      ]
     },
     "metadata": {
      "needs_background": "light"
     },
     "output_type": "display_data"
    },
    {
     "data": {
      "image/png": "[encoded data removed]",
      "text/plain": [
       "<Figure size 288x216 with 1 Axes>"
      ]
     },
     "metadata": {
      "needs_background": "light"
     },
     "output_type": "display_data"
    },
    {
     "data": {
      "image/png": "[encoded data removed]",
      "text/plain": [
       "<Figure size 288x216 with 1 Axes>"
      ]
     },
     "metadata": {
      "needs_background": "light"
     },
     "output_type": "display_data"
    },
    {
     "data": {
      "image/png": "[encoded data removed]",
      "text/plain": [
       "<Figure size 288x216 with 1 Axes>"
      ]
     },
     "metadata": {
      "needs_background": "light"
     },
     "output_type": "display_data"
    },
    {
     "data": {
      "image/png": "[encoded data removed]",
      "text/plain": [
       "<Figure size 288x216 with 1 Axes>"
      ]
     },
     "metadata": {
      "needs_background": "light"
     },
     "output_type": "display_data"
    },
    {
     "data": {
      "image/png": "[encoded data removed]",
      "text/plain": [
       "<Figure size 288x216 with 1 Axes>"
      ]
     },
     "metadata": {
      "needs_background": "light"
     },
     "output_type": "display_data"
    }
   ],
   "source": [
    "stumps.stump_plots(best_stump_model['features'], best_stump_model['coefs'], indicator='KY')"
   ]
  },
  {
   "cell_type": "markdown",
   "metadata": {},
   "source": [
    "## RiskSLIM"
   ]
  },
  {
   "cell_type": "code",
   "execution_count": 17,
   "metadata": {},
   "outputs": [],
   "source": [
    "## load stumps data\n",
    "data = pd.read_csv(\"~/Documents/Duke/Cynthia Research/KY-analysis-mytrials/KY Recidivism/KY data/kentucky_stumps.csv\")\n",
    "x, y = data.loc[:,:'current_violence>=1'], data['recid_F_two_year'].values\n",
    "cols = x.columns[3:]"
   ]
  },
  {
   "cell_type": "code",
   "execution_count": 18,
   "metadata": {},
   "outputs": [
    {
     "data": {
      "text/plain": [
       "28"
      ]
     },
     "execution_count": 18,
     "metadata": {},
     "output_type": "execute_result"
    }
   ],
   "source": [
    "## train on best param chosen by Lasso Stumps from above\n",
    "x_train = x.copy().drop(['race', 'person_id', 'screening_date'], axis=1)\n",
    "lasso = LogisticRegression(class_weight='balanced', solver='liblinear', penalty='l1', C=0.005, random_state=816).fit(x_train,y)\n",
    "selected_features = cols[lasso.coef_[0] != 0].tolist()\n",
    "len(selected_features)"
   ]
  },
  {
   "cell_type": "code",
   "execution_count": 19,
   "metadata": {},
   "outputs": [],
   "source": [
    "### Subset features\n",
    "if 'sex>=1' in selected_features:\n",
    "    selected_features = ['recid_F_two_year', 'person_id', 'screening_date', 'race'] + selected_features\n",
    "    indicator = 1\n",
    "else:\n",
    "    selected_features = ['recid_F_two_year', 'person_id', 'screening_date', 'race', 'sex>=1'] + selected_features\n",
    "    indicator = 0\n",
    "\n",
    "sub_data = data[selected_features]\n",
    "sub_X, sub_Y = sub_data.iloc[:,1:], sub_data.iloc[:,0].values\n",
    "sub_X.insert(0, '(Intercept)', 1)"
   ]
  },
  {
   "cell_type": "code",
   "execution_count": 20,
   "metadata": {
    "scrolled": true
   },
   "outputs": [
    {
     "name": "stdout",
     "output_type": "stream",
     "text": [
      "setting c0 = 0.0 to ensure that intercept is not penalized\n",
      "10/01/19 @ 02:16 PM | 1221 rows in lookup table\n",
      "10/01/19 @ 02:16 PM | ------------------------------------------------------------\n",
      "10/01/19 @ 02:16 PM | runnning initialization procedure\n",
      "10/01/19 @ 02:16 PM | ------------------------------------------------------------\n",
      "10/01/19 @ 02:16 PM | CPA produced 2 cuts\n",
      "10/01/19 @ 02:16 PM | running naive rounding on 42 solutions\n",
      "10/01/19 @ 02:16 PM | best objective value: 0.4439\n",
      "10/01/19 @ 02:16 PM | rounding produced 5 integer solutions\n",
      "10/01/19 @ 02:16 PM | best objective value is 0.4498\n",
      "10/01/19 @ 02:16 PM | running sequential rounding on 42 solutions\n",
      "10/01/19 @ 02:16 PM | best objective value: 0.4439\n",
      "10/01/19 @ 02:16 PM | sequential rounding produced 6 integer solutions\n",
      "10/01/19 @ 02:16 PM | best objective value: 0.4498\n",
      "10/01/19 @ 02:16 PM | polishing 11 solutions\n",
      "10/01/19 @ 02:16 PM | best objective value: 0.4498\n",
      "10/01/19 @ 02:16 PM | polishing produced 4 integer solutions\n",
      "10/01/19 @ 02:16 PM | initialization produced 10 feasible solutions\n",
      "10/01/19 @ 02:16 PM | best objective value: 0.4488\n",
      "10/01/19 @ 02:16 PM | ------------------------------------------------------------\n",
      "10/01/19 @ 02:16 PM | completed initialization procedure\n",
      "10/01/19 @ 02:16 PM | ------------------------------------------------------------\n",
      "10/01/19 @ 02:16 PM | 1221 rows in lookup table\n",
      "CPXPARAM_Read_DataCheck                          1\n",
      "CPXPARAM_Threads                                 1\n",
      "CPXPARAM_Parallel                                1\n",
      "CPXPARAM_RandomSeed                              0\n",
      "CPXPARAM_TimeLimit                               200\n",
      "CPXPARAM_MIP_Tolerances_LowerCutoff              0.43488261715607229\n",
      "CPXPARAM_MIP_Tolerances_UpperCutoff              0.44876098751543647\n"
     ]
    },
    {
     "name": "stderr",
     "output_type": "stream",
     "text": [
      "Warning: Control callbacks may disable some MIP features.\n"
     ]
    },
    {
     "name": "stdout",
     "output_type": "stream",
     "text": [
      "Lazy constraint(s) or lazy constraint callback is present.\n",
      "    Disabling dual reductions (CPX_PARAM_REDUCE) in presolve.\n",
      "    Disabling non-linear reductions (CPX_PARAM_PRELINEAR) in presolve.\n",
      "         Disabling repeat represolve because of lazy constraint/incumbent callback.\n",
      "10/01/19 @ 02:16 PM | adding 249 initial cuts\n",
      "1 of 1 MIP starts provided solutions.\n",
      "MIP start 'mip_start_0' defined initial solution with objective 0.4488.\n",
      "Tried aggregator 1 time.\n",
      "Reduced MIP has 30 rows, 60 columns, and 115 nonzeros.\n",
      "Reduced MIP has 28 binaries, 30 generals, 0 SOSs, and 0 indicators.\n",
      "Presolve time = 0.01 sec. (0.06 ticks)\n",
      "Probing time = 0.00 sec. (0.02 ticks)\n",
      "MIP emphasis: balance optimality and feasibility.\n",
      "MIP search method: traditional branch-and-cut.\n",
      "Parallel mode: none, using 1 thread.\n",
      "Root relaxation solution time = 0.00 sec. (0.04 ticks)\n",
      "\n",
      "        Nodes                                         Cuts/\n",
      "   Node  Left     Objective  IInf  Best Integer    Best Bound    ItCnt     Gap         Variable B NodeID Parent  Depth\n",
      "\n",
      "*     0+    0                            0.4488        0.4349             3.09%\n",
      "      0     0        0.4349     1        0.4488        0.4349        1    3.09%\n",
      "      0     0        0.4349     1        0.4488       Cuts: 3        3    3.09%\n",
      "      0     2        0.4349     6        0.4488        0.4349        3    3.09%                        0             0\n",
      "Elapsed time = 0.25 sec. (2.46 ticks, tree = 0.01 MB, solutions = 1)\n",
      "   2774  1512        0.4349     4        0.4488        0.4349    11328    3.09%           rho_6 U   2774   2773     23\n",
      "   4636  2468        0.4371    13        0.4488        0.4349    19338    3.09%           rho_3 D   4636   4635     65\n",
      "   6190  3007        0.4349     4        0.4488        0.4349    27872    3.09%           rho_0 D   6190   6189     53\n",
      "   7670  3935        0.4349     2        0.4488        0.4349    34956    3.09%           rho_6 U   7670   7669     24\n",
      "   9064  4626        0.4349     4        0.4488        0.4349    41064    3.09%           rho_0 D   9064   9063     69\n",
      "  10446  5178        0.4371     3        0.4488        0.4349    47763    3.09%           rho_5 U  10446  10099     43\n",
      "  11760  5633        0.4349     5        0.4488        0.4349    53612    3.09%          rho_12 D  11760  11480     48\n",
      "  13105  6212        0.4459    11        0.4488        0.4349    60162    3.09%          rho_12 D  13105  13104     48\n",
      "  14278  6703        cutoff              0.4488        0.4349    68475    3.09%           rho_0 U  14278  14277     61\n",
      "  18709  8212        0.4456    15        0.4488        0.4349    99039    3.09%          rho_12 D  18709  18708     83\n",
      "Elapsed time = 4.67 sec. (3103.04 ticks, tree = 2.52 MB, solutions = 1)\n",
      "  23824  9847        cutoff              0.4488        0.4349   126597    3.09%          rho_20 U  23824  23822     73\n",
      "  28869 10977        0.4349     6        0.4488        0.4349   153403    3.09%          rho_10 N  28869   5515     69\n",
      "  33626 12621        cutoff              0.4488        0.4349   179609    3.09%          rho_12 U  33626  33625     28\n",
      "  37927 14343        0.4349    12        0.4488        0.4349   203712    3.09%           rho_0 D  37927  37925     52\n",
      "  41919 15805        0.4361     9        0.4488        0.4349   226170    3.09%          rho_14 N  41919  41918     63\n",
      "  45410 17091        0.4463     5        0.4488        0.4349   251138    3.09%          rho_25 D  45410  45409     22\n",
      "  48920 18437        0.4355    11        0.4488        0.4349   274997    3.09%           rho_5 D  48920  48919     75\n",
      "  52479 19771        0.4362     8        0.4488        0.4349   297197    3.09%          rho_12 D  52479  52478     35\n",
      "  55714 20964        0.4474    11        0.4488        0.4349   319487    3.09%           rho_0 U  55714  55713     77\n",
      "  58563 21898        0.4384     4        0.4488        0.4349   339785    3.09%           rho_5 U  58563  58561     83\n",
      "Elapsed time = 12.19 sec. (12642.11 ticks, tree = 6.50 MB, solutions = 1)\n",
      "  61589 23196        0.4396    10        0.4488        0.4349   360249    3.09%           rho_5 D  61589  60959     40\n",
      "  64186 24017        cutoff              0.4488        0.4349   381817    3.09%           rho_0 U  64186  64185     95\n",
      "  67044 25022        cutoff              0.4488        0.4349   401711    3.09%           rho_0 U  67044  67043     81\n",
      "  70024 26364        0.4396    14        0.4488        0.4349   418114    3.09%          rho_13 D  70024  70023     71\n",
      "  72684 27440        0.4349     5        0.4488        0.4349   435504    3.09%           rho_0 D  72684  72682     58\n",
      "  75293 28522        0.4401    14        0.4488        0.4349   452703    3.09%          rho_16 D  75293  75291     55\n",
      "  77810 29222        0.4368    11        0.4488        0.4349   470695    3.09%          rho_12 D  77810  77584     50\n",
      "  79981 30143        cutoff              0.4488        0.4349   492111    3.09%           rho_0 U  79981  79980     46\n",
      "  82517 31081        0.4463    12        0.4488        0.4349   508001    3.09%           rho_6 U  82517  82515     61\n",
      "  84838 31468        0.4355    10        0.4488        0.4349   523464    3.09%           rho_5 D  84838  49762     90\n",
      "Elapsed time = 19.75 sec. (22180.95 ticks, tree = 9.00 MB, solutions = 1)\n",
      "  87140 31708        cutoff              0.4488        0.4349   537960    3.09%          rho_16 U  87140  87139     39\n",
      "  89336 31957        0.4453     8        0.4488        0.4349   552827    3.09%           rho_3 D  89336  89334     42\n",
      "  92218 32943        0.4413     9        0.4488        0.4349   567995    3.09%          rho_24 D  92218  92216     38\n",
      "  94832 33623        0.4349     4        0.4488        0.4349   583701    3.09%           rho_0 D  94832  94830     49\n",
      "  97646 34582        0.4362    13        0.4488        0.4349   600023    3.09%          rho_10 U  97646  97645     48\n",
      " 100156 35447        cutoff              0.4488        0.4349   615745    3.09%          rho_20 U 100156 100154     46\n",
      " 102611 36349        0.4349     9        0.4488        0.4349   633513    3.09%          rho_12 U 102611 102609     29\n",
      " 104804 37013        0.4440     9        0.4488        0.4349   651078    3.09%           rho_2 D 104804 104802     61\n",
      " 107046 37496        0.4386    11        0.4488        0.4349   664108    3.09%          rho_24 D 107046 107045     52\n",
      " 109488 38446        cutoff              0.4488        0.4349   679951    3.09%          rho_20 U 109488 109486     69\n",
      "Elapsed time = 28.06 sec. (31719.96 ticks, tree = 12.25 MB, solutions = 1)\n",
      " 112150 39560        0.4410    12        0.4488        0.4349   694293    3.09%           rho_2 D 112150 112149     69\n",
      " 114203 40114        0.4436    11        0.4488        0.4349   709749    3.09%           rho_2 U 114203 109193     22\n",
      " 116379 40894        cutoff              0.4488        0.4349   724345    3.09%          rho_15 U 116379 116377     98\n",
      " 118695 41643        0.4458     7        0.4488        0.4349   739132    3.09%          rho_11 D 118695 118693     61\n",
      " 121321 42119        0.4458     4        0.4488        0.4349   750669    3.09%          rho_28 D 121321 121319     64\n",
      " 123958 42690        0.4395    12        0.4488        0.4349   762433    3.09%          rho_15 D 123958 123956     74\n",
      " 126578 43272        0.4484     5        0.4488        0.4349   774314    3.09%          rho_24 D 126578 126577     35\n",
      " 129150 43934        0.4478     1        0.4488        0.4349   786661    3.09%          rho_17 D 129150 129149     31\n",
      " 131016 44739        0.4349     7        0.4488        0.4349   804737    3.09%          rho_12 U 131016 131015     51\n",
      " 132847 45555        0.4466    11        0.4488        0.4349   823171    3.09%          rho_28 D 132847 132845     86\n",
      "Elapsed time = 34.44 sec. (41258.73 ticks, tree = 14.18 MB, solutions = 1)\n",
      " 134851 46420        0.4479    10        0.4488        0.4349   839226    3.09%          rho_20 D 134851 134850     48\n",
      " 136953 47498        0.4479     8        0.4488        0.4349   856232    3.09%          rho_17 N 136953 136952     85\n",
      " 138912 48452        0.4483     7        0.4488        0.4349   873255    3.09%           rho_4 D 138912 138911     55\n",
      " 140584 49038        0.4419    19        0.4488        0.4349   889811    3.09%           rho_5 D 140584 140583     56\n",
      " 142199 49548        0.4371    13        0.4488        0.4349   906391    3.09%           rho_7 D 142199 142198     53\n",
      " 143875 50192        0.4430     9        0.4488        0.4349   923085    3.09%           rho_4 N 143875 143874     35\n",
      " 145677 51042        0.4443    15        0.4488        0.4349   939722    3.09%          rho_28 D 145677 145675     46\n",
      " 147680 51948        cutoff              0.4488        0.4349   956333    3.09%          rho_28 U 147680 147679     52\n",
      " 149526 52586        cutoff              0.4488        0.4349   973176    3.09%           rho_0 D 149526 149525     80\n",
      " 151375 53226        cutoff              0.4488        0.4349   987635    3.09%           rho_2 U 151375 151373     35\n",
      "Elapsed time = 42.80 sec. (50797.20 ticks, tree = 16.22 MB, solutions = 1)\n",
      " 153211 53844        0.4403    14        0.4488        0.4349  1001880    3.09%           rho_0 D 153211 153209     61\n",
      " 154914 54480        0.4366    15        0.4488        0.4349  1018444    3.09%          rho_12 D 154914 154912     56\n",
      " 156632 55241        0.4458     6        0.4488        0.4349  1035239    3.09%           rho_9 N 156632 156630     45\n",
      " 158581 56071        0.4349     7        0.4488        0.4349  1051068    3.09%           rho_0 D 158581 158579     48\n",
      " 160517 56848        0.4423    16        0.4488        0.4349  1066889    3.09%          rho_28 D 160517 160515     31\n",
      " 162400 57398        0.4349    13        0.4488        0.4349  1080620    3.09%          rho_12 D 162400 162399     91\n",
      " 164345 58185        cutoff              0.4488        0.4349  1095698    3.09%          rho_12 U 164345 164344     94\n",
      " 166445 59175        0.4356     7        0.4488        0.4349  1105661    3.09%           rho_0 U 166445 166444     77\n",
      " 168259 59848        0.4349    11        0.4488        0.4349  1120179    3.09%           rho_0 D 168259 168258     83\n",
      " 170164 60719        0.4352    18        0.4488        0.4349  1133897    3.09%           rho_7 N 170164 170163     65\n",
      "Elapsed time = 52.48 sec. (60339.61 ticks, tree = 18.30 MB, solutions = 1)\n",
      " 172087 61801        0.4477    10        0.4488        0.4349  1147749    3.09%          rho_11 U 172087 172086     76\n",
      " 173938 62687        0.4468    12        0.4488        0.4349  1161752    3.09%          rho_15 D 173938 173937     73\n",
      " 175767 63296        0.4357    19        0.4488        0.4349  1175308    3.09%          rho_27 D 175767 175766     30\n",
      " 177780 64098        0.4349     2        0.4488        0.4349  1188533    3.09%          rho_12 U 177780 177779     27\n",
      " 179709 64949        0.4455    17        0.4488        0.4349  1202816    3.09%           rho_9 D 179709 179707     81\n",
      " 181713 65818        0.4349    10        0.4488        0.4349  1216254    3.09%           rho_2 D 181713 181712     26\n",
      " 183645 66657        0.4360    13        0.4488        0.4349  1228406    3.09%          rho_12 D 183645 132434     53\n",
      " 185689 67334        cutoff              0.4488        0.4349  1239610    3.09%           rho_0 U 185689 185687     52\n",
      " 187640 68048        cutoff              0.4488        0.4349  1252307    3.09%           rho_0 U 187640 187639     69\n",
      " 189561 68663        cutoff              0.4488        0.4349  1264883    3.09%          rho_20 U 189561 189560     46\n",
      "Elapsed time = 63.13 sec. (69878.24 ticks, tree = 23.30 MB, solutions = 1)\n",
      " 191090 68892        0.4349     7        0.4488        0.4349  1280786    3.09%          rho_16 D 191090  54959     47\n",
      " 192839 69355        0.4440    10        0.4488        0.4349  1295097    3.09%           rho_4 D 192839 192838     21\n",
      " 194520 69591        cutoff              0.4488        0.4349  1307251    3.09%           rho_2 D 194520 194518     99\n",
      " 196095 69947        0.4477    13        0.4488        0.4349  1321232    3.09%          rho_20 D 196095 196093     22\n",
      " 197727 70590        cutoff              0.4488        0.4349  1336596    3.09%          rho_28 U 197727 197726     73\n",
      " 199172 71111        0.4430    14        0.4488        0.4349  1352529    3.09%          rho_16 N 199172 199171     34\n",
      " 200617 71631        0.4360    18        0.4488        0.4349  1368515    3.09%           rho_2 D 200617 200616     71\n",
      " 202008 72139        0.4349     6        0.4488        0.4349  1384585    3.09%           rho_0 D 202008 202006     37\n",
      " 203511 72911        0.4349     6        0.4488        0.4349  1401116    3.09%           rho_0 D 203511 203509     54\n",
      " 205145 73677        cutoff              0.4488        0.4349  1416680    3.09%           rho_0 U 205145 205144     38\n",
      "Elapsed time = 73.80 sec. (79419.40 ticks, tree = 24.74 MB, solutions = 1)\n",
      " 206770 74350        0.4483    11        0.4488        0.4349  1431892    3.09%          rho_20 D 206770 206769     45\n",
      " 208374 74911        cutoff              0.4488        0.4349  1447507    3.09%          rho_20 D 208374 208372     71\n",
      " 210092 75694        cutoff              0.4488        0.4349  1462179    3.09%          rho_25 D 210092 210091     60\n",
      " 211721 76231        0.4458     8        0.4488        0.4349  1476354    3.09%          rho_15 D 211721 211720     49\n",
      " 213611 76897        0.4444     9        0.4488        0.4349  1490172    3.09%          rho_25 D 213611 213610     53\n",
      " 215311 77594        0.4371     9        0.4488        0.4349  1504509    3.09%           rho_0 U 215311 215310     87\n",
      " 217210 78455        0.4441     7        0.4488        0.4349  1517395    3.09%          rho_10 U 217210 217209     56\n",
      " 219048 79371        cutoff              0.4488        0.4349  1531068    3.09%           rho_0 U 219048 219047     74\n",
      " 220877 80153        cutoff              0.4488        0.4349  1544904    3.09%           rho_5 U 220877 220875     71\n",
      " 229124 83138        cutoff              0.4488        0.4349  1594661    3.09%          rho_13 U 229124 229123     88\n",
      "Elapsed time = 89.45 sec. (91820.52 ticks, tree = 27.42 MB, solutions = 1)\n",
      " 236150 85564        0.4383     7        0.4488        0.4349  1647214    3.09%           rho_5 U 236150  41555     65\n",
      " 242864 87796        0.4464     6        0.4488        0.4349  1697986    3.09%           rho_2 N 242864 159714     44\n",
      " 249023 89086        0.4376    12        0.4488        0.4349  1752413    3.09%           rho_6 U 249023 249021     46\n",
      " 255604 91620        0.4476    13        0.4488        0.4349  1802226    3.09%           rho_2 U 255604 255601     64\n",
      " 261954 94424        cutoff              0.4488        0.4349  1860915    3.09%           rho_7 U 261954 261952     66\n",
      " 268499 97597        0.4453     7        0.4488        0.4349  1918481    3.09%           rho_0 U 268499 268498     80\n",
      " 274691 100007        cutoff              0.4488        0.4349  1975438    3.09%           rho_2 U 274691 274689     60\n",
      " 281107 101773        0.4463     8        0.4488        0.4349  2026713    3.09%          rho_12 D 281107 281105     39\n",
      " 286507 103097        0.4353    17        0.4488        0.4349  2085575    3.09%           rho_5 U 286507 196891     31\n",
      " 292561 104869        0.4444    12        0.4488        0.4349  2137858    3.09%          rho_28 D 292561 292560     70\n",
      "Elapsed time = 136.00 sec. (129971.73 ticks, tree = 33.68 MB, solutions = 1)\n",
      " 298574 106628        cutoff              0.4488        0.4349  2191061    3.09%           rho_9 U 298574 298573     63\n",
      " 305524 108735        0.4460     8        0.4488        0.4349  2237798    3.09%          rho_20 D 305524 305522     56\n",
      " 311933 110545        0.4349    11        0.4488        0.4349  2287777    3.09%           rho_5 U 311933 295538     53\n",
      " 318490 113292        0.4378    15        0.4488        0.4349  2336675    3.09%          rho_24 D 318490 318489     63\n",
      " 324642 115826        cutoff              0.4488        0.4349  2391444    3.09%          rho_19 U 324642 324640     55\n",
      " 331538 118997        0.4421    10        0.4488        0.4349  2440245    3.09%           rho_2 D 331538 331537     69\n",
      " 337883 121541        0.4414    15        0.4488        0.4349  2487859    3.09%          rho_28 D 337883 337881     65\n",
      " 343847 124341        0.4443    13        0.4488        0.4349  2541796    3.09%           rho_9 U 343847 343846     61\n",
      " 350292 126586        cutoff              0.4488        0.4349  2589589    3.09%          rho_28 U 350292 350291     69\n",
      " 356304 130188        cutoff              0.4488        0.4349  2637785    3.09%          rho_20 U 356304 356302     93\n",
      "Elapsed time = 180.92 sec. (168120.93 ticks, tree = 41.02 MB, solutions = 1)\n",
      " 362040 132423        0.4485    14        0.4488        0.4349  2684705    3.09%           rho_9 D 362040 362038     56\n",
      " 368370 134503        0.4349     8        0.4488        0.4349  2732159    3.09%          rho_12 U 368370 368368     81\n",
      " 374194 136820        0.4349     7        0.4488        0.4349  2779680    3.09%          rho_12 U 374194 374192     63\n",
      " 379880 139087        0.4478     8        0.4488        0.4349  2828517    3.09%           rho_8 D 379880 379878     49\n",
      "\n",
      "Gomory fractional cuts applied:  2\n",
      "User cuts applied:  718\n",
      "\n",
      "Root node processing (before b&c):\n",
      "  Real time             =    0.23 sec. (2.52 ticks)\n",
      "Sequential b&c:\n",
      "  Real time             =  199.78 sec. (186358.62 ticks)\n",
      "                          ------------\n",
      "Total (root+branch&cut) =  200.02 sec. (186361.14 ticks)\n",
      "+-----------------------------------------------+-------------------+-----------+\n",
      "| Pr(Y = +1) = 1.0/(1.0 + exp(-(-43 + score))   |                   |           |\n",
      "| ============================================= | ================= | ========= |\n",
      "| p_arrest>=1                                   |         20 points |   + ..... |\n",
      "| p_charges>=1                                  |         20 points |   + ..... |\n",
      "| p_arrest>=2                                   |          1 points |   + ..... |\n",
      "| p_felony>=1                                   |          1 points |   + ..... |\n",
      "| p_pending_charge>=1                           |          1 points |   + ..... |\n",
      "| ============================================= | ================= | ========= |\n",
      "| ADD POINTS FROM ROWS 1 to 5                   |             SCORE |   = ..... |\n",
      "+-----------------------------------------------+-------------------+-----------+\n",
      "model_id, score_thresholds 0 {'rank_abs': [0]}\n",
      "get_disparity_predefined_group()\n"
     ]
    },
    {
     "name": "stderr",
     "output_type": "stream",
     "text": [
      "C:\\Users\\binha\\Documents\\Duke\\Cynthia Research\\psa-analysis - test2\\utils\\fairness_functions.py:82: RuntimeWarning:\n",
      "\n",
      "invalid value encountered in longlong_scalars\n",
      "\n",
      "C:\\Users\\binha\\Documents\\Duke\\Cynthia Research\\psa-analysis - test2\\utils\\fairness_functions.py:95: RuntimeWarning:\n",
      "\n",
      "divide by zero encountered in longlong_scalars\n",
      "\n",
      "C:\\Users\\binha\\Documents\\Duke\\Cynthia Research\\psa-analysis - test2\\utils\\fairness_functions.py:86: RuntimeWarning:\n",
      "\n",
      "invalid value encountered in longlong_scalars\n",
      "\n",
      "C:\\Users\\binha\\Documents\\Duke\\Cynthia Research\\psa-analysis - test2\\utils\\fairness_functions.py:95: RuntimeWarning:\n",
      "\n",
      "invalid value encountered in longlong_scalars\n",
      "\n"
     ]
    },
    {
     "name": "stdout",
     "output_type": "stream",
     "text": [
      "setting c0 = 0.0 to ensure that intercept is not penalized\n",
      "10/01/19 @ 02:19 PM | 1221 rows in lookup table\n",
      "10/01/19 @ 02:19 PM | ------------------------------------------------------------\n",
      "10/01/19 @ 02:19 PM | runnning initialization procedure\n",
      "10/01/19 @ 02:19 PM | ------------------------------------------------------------\n",
      "10/01/19 @ 02:19 PM | CPA produced 2 cuts\n",
      "10/01/19 @ 02:19 PM | running naive rounding on 42 solutions\n",
      "10/01/19 @ 02:19 PM | best objective value: 0.4424\n",
      "10/01/19 @ 02:19 PM | rounding produced 5 integer solutions\n",
      "10/01/19 @ 02:19 PM | best objective value is 0.4541\n",
      "10/01/19 @ 02:19 PM | running sequential rounding on 42 solutions\n",
      "10/01/19 @ 02:19 PM | best objective value: 0.4424\n",
      "10/01/19 @ 02:19 PM | sequential rounding produced 6 integer solutions\n",
      "10/01/19 @ 02:19 PM | best objective value: 0.4496\n",
      "10/01/19 @ 02:19 PM | polishing 11 solutions\n",
      "10/01/19 @ 02:19 PM | best objective value: 0.4496\n",
      "10/01/19 @ 02:19 PM | polishing produced 5 integer solutions\n",
      "10/01/19 @ 02:19 PM | initialization produced 11 feasible solutions\n",
      "10/01/19 @ 02:19 PM | best objective value: 0.4496\n",
      "10/01/19 @ 02:19 PM | ------------------------------------------------------------\n",
      "10/01/19 @ 02:19 PM | completed initialization procedure\n",
      "10/01/19 @ 02:19 PM | ------------------------------------------------------------\n",
      "10/01/19 @ 02:19 PM | 1221 rows in lookup table\n",
      "CPXPARAM_Read_DataCheck                          1\n",
      "CPXPARAM_Threads                                 1\n",
      "CPXPARAM_Parallel                                1\n",
      "CPXPARAM_RandomSeed                              0\n",
      "CPXPARAM_TimeLimit                               200\n",
      "CPXPARAM_MIP_Tolerances_LowerCutoff              0.43554504806572381\n",
      "CPXPARAM_MIP_Tolerances_UpperCutoff              0.4496151708664976\n"
     ]
    },
    {
     "name": "stderr",
     "output_type": "stream",
     "text": [
      "Warning: Control callbacks may disable some MIP features.\n"
     ]
    },
    {
     "name": "stdout",
     "output_type": "stream",
     "text": [
      "Lazy constraint(s) or lazy constraint callback is present.\n",
      "    Disabling dual reductions (CPX_PARAM_REDUCE) in presolve.\n",
      "    Disabling non-linear reductions (CPX_PARAM_PRELINEAR) in presolve.\n",
      "         Disabling repeat represolve because of lazy constraint/incumbent callback.\n",
      "10/01/19 @ 02:19 PM | adding 249 initial cuts\n",
      "1 of 1 MIP starts provided solutions.\n",
      "MIP start 'mip_start_0' defined initial solution with objective 0.4496.\n",
      "Tried aggregator 1 time.\n",
      "Reduced MIP has 30 rows, 60 columns, and 115 nonzeros.\n",
      "Reduced MIP has 28 binaries, 30 generals, 0 SOSs, and 0 indicators.\n",
      "Presolve time = 0.00 sec. (0.06 ticks)\n",
      "Probing time = 0.00 sec. (0.02 ticks)\n",
      "MIP emphasis: balance optimality and feasibility.\n",
      "MIP search method: traditional branch-and-cut.\n",
      "Parallel mode: none, using 1 thread.\n",
      "Root relaxation solution time = 0.00 sec. (0.04 ticks)\n",
      "\n",
      "        Nodes                                         Cuts/\n",
      "   Node  Left     Objective  IInf  Best Integer    Best Bound    ItCnt     Gap         Variable B NodeID Parent  Depth\n",
      "\n",
      "*     0+    0                            0.4496        0.4355             3.13%\n",
      "      0     0        0.4355     1        0.4496        0.4355        1    3.13%\n",
      "      0     0        0.4355     1        0.4496       Cuts: 3        3    3.13%\n",
      "      0     2        0.4355     3        0.4496        0.4355        3    3.13%                        0             0\n",
      "Elapsed time = 0.19 sec. (2.63 ticks, tree = 0.01 MB, solutions = 1)\n",
      "   2388  1163        0.4382    13        0.4496        0.4355    10287    3.13%          rho_12 D   2388   1736     47\n",
      "   3910  1929        0.4454     8        0.4496        0.4355    20731    3.13%          rho_20 D   3910   3909     63\n",
      "   5438  2694        0.4491     6        0.4496        0.4355    27694    3.13%          rho_12 U   5438   5437     24\n",
      "   6587  3304        0.4369    12        0.4496        0.4355    34318    3.13%          rho_12 D   6587   6586     65\n",
      "   7650  3908        0.4383    10        0.4496        0.4355    40669    3.13%           rho_9 U   7650   7649     36\n",
      "   8730  4496        0.4355     6        0.4496        0.4355    46206    3.13%           rho_1 D   8730   8729     12\n",
      "   9790  5109        0.4485     7        0.4496        0.4355    51195    3.13%          rho_25 U   9790   9789     77\n",
      "  10867  5665        0.4355     8        0.4496        0.4355    56155    3.13%           rho_7 D  10867  10548     14\n",
      "  11955  6177        0.4390    11        0.4496        0.4355    61348    3.13%          rho_12 D  11955  11893     81\n",
      "  16224  8078        0.4459    12        0.4496        0.4355    85234    3.13%           rho_5 U  16224  16222     60\n",
      "Elapsed time = 5.56 sec. (3103.48 ticks, tree = 2.21 MB, solutions = 1)\n",
      "  19724  9825        0.4355     4        0.4496        0.4355   112160    3.13%          rho_12 U  19724  19722     48\n",
      "  22793 11367        cutoff              0.4496        0.4355   128186    3.13%          rho_25 U  22793  22792     36\n",
      "  26395 12845        0.4491     5        0.4496        0.4355   147486    3.13%           rho_0 U  26395  26394     67\n",
      "  30044 14242        0.4472     9        0.4496        0.4355   165941    3.13%          rho_20 D  30044  30043     34\n",
      "  33513 15705        0.4406     8        0.4496        0.4355   183321    3.13%           rho_7 D  33513  33511     46\n",
      "  36373 16833        0.4411    11        0.4496        0.4355   203014    3.13%          rho_15 D  36373  36372     49\n",
      "  38924 17940        cutoff              0.4496        0.4355   225308    3.13%           rho_0 U  38924  38888     52\n",
      "  41470 19029        0.4355     8        0.4496        0.4355   247472    3.13%           rho_8 D  41470  41334     11\n",
      "  43980 20247        0.4355    13        0.4496        0.4355   267447    3.13%           rho_6 U  43980  43979     40\n",
      "  46409 21725        0.4389    21        0.4496        0.4355   283671    3.13%          rho_28 D  46409  46406     47\n",
      "Elapsed time = 19.69 sec. (12642.21 ticks, tree = 6.63 MB, solutions = 1)\n",
      "  48308 22607        cutoff              0.4496        0.4355   302870    3.13%          rho_19 D  48308  48307     66\n",
      "  50146 23466        cutoff              0.4496        0.4355   325761    3.13%        alpha_18 U  50146  50145     26\n",
      "  52629 24470        0.4453    13        0.4496        0.4355   342941    3.13%          rho_24 D  52629  52628     90\n",
      "  55110 25531        0.4458     6        0.4496        0.4355   359284    3.13%           rho_0 D  55110  55108     48\n",
      "  57225 26327        0.4460    11        0.4496        0.4355   375531    3.13%           rho_7 D  57225  57224     41\n",
      "  59427 27127        0.4355     8        0.4496        0.4355   389933    3.13%          rho_12 U  59427  59426     23\n",
      "  61155 27875        cutoff              0.4496        0.4355   408282    3.13%           rho_0 U  61155  61154     66\n",
      "  63277 28814        0.4355     5        0.4496        0.4355   423324    3.13%           rho_0 D  63277  63275     51\n",
      "  65639 29594        0.4429    12        0.4496        0.4355   435195    3.13%           rho_0 D  65639  65638     38\n",
      "  67875 30411        0.4445    14        0.4496        0.4355   448075    3.13%           rho_0 D  67875  67873     42\n",
      "Elapsed time = 32.44 sec. (22180.73 ticks, tree = 8.96 MB, solutions = 1)\n",
      "  69790 31194        0.4355     4        0.4496        0.4355   463321    3.13%           rho_6 U  69790  69775     40\n",
      "  71760 31907        0.4414    17        0.4496        0.4355   478699    3.13%          rho_27 D  71760  71759     74\n",
      "  73750 32633        0.4381    18        0.4496        0.4355   494213    3.13%          rho_13 D  73750  73749     30\n",
      "  75664 33555        cutoff              0.4496        0.4355   508432    3.13%          rho_27 U  75664  75662     26\n",
      "  77228 34130        0.4391    11        0.4496        0.4355   525906    3.13%          rho_12 D  77228  77227     47\n",
      "  78790 34699        0.4391    12        0.4496        0.4355   543677    3.13%          rho_12 D  78790  78029     79\n",
      "  80575 35602        0.4355     9        0.4496        0.4355   558484    3.13%           rho_0 D  80575  80573     50\n",
      "  82312 36393        0.4362    19        0.4496        0.4355   573914    3.13%          rho_12 D  82312  82267     42\n",
      "  83848 37033        0.4355     4        0.4496        0.4355   590836    3.13%           rho_0 D  83848  83846     66\n",
      "  85408 37682        0.4362    21        0.4496        0.4355   607321    3.13%          rho_12 D  85408  85407     59\n",
      "Elapsed time = 43.05 sec. (31721.08 ticks, tree = 12.37 MB, solutions = 1)\n",
      "  87137 38405        cutoff              0.4496        0.4355   622857    3.13%          rho_25 U  87137  87135     79\n",
      "  89019 39184        0.4355     4        0.4496        0.4355   636878    3.13%          rho_12 U  89019  88700     54\n",
      "  90753 39976        cutoff              0.4496        0.4355   653021    3.13%          rho_28 U  90753  90752     54\n",
      "  92358 40655        0.4355     2        0.4496        0.4355   669716    3.13%           rho_0 D  92358  92357     57\n",
      "  94194 41747        0.4370    14        0.4496        0.4355   684148    3.13%          rho_12 D  94194  94193     36\n",
      "  95739 42376        cutoff              0.4496        0.4355   700790    3.13%          rho_13 U  95739  95738     66\n",
      "  97520 43281        0.4443    11        0.4496        0.4355   716241    3.13%          rho_27 D  97520  97519     44\n",
      "  99191 44158        cutoff              0.4496        0.4355   730894    3.13%          rho_13 U  99191  99190     25\n",
      " 100933 44844        cutoff              0.4496        0.4355   743519    3.13%          rho_13 U 100933 100932     57\n",
      " 102666 45548        cutoff              0.4496        0.4355   756077    3.13%           rho_0 U 102666 102622     64\n",
      "Elapsed time = 53.30 sec. (41261.02 ticks, tree = 14.53 MB, solutions = 1)\n",
      " 104351 46167        0.4487    13        0.4496        0.4355   768495    3.13%          rho_10 D 104351 104350     95\n",
      " 106024 46777        0.4491    10        0.4496        0.4355   781035    3.13%          rho_24 U 106024 106022     81\n",
      " 107700 47367        0.4465    13        0.4496        0.4355   793432    3.13%          rho_28 D 107700 107698     63\n",
      " 109411 47996        0.4355     8        0.4496        0.4355   806160    3.13%          rho_12 D 109411 109356     69\n",
      " 111094 48629        0.4484    15        0.4496        0.4355   818825    3.13%          rho_16 D 111094 111092     29\n",
      " 112770 49351        0.4357    15        0.4496        0.4355   833349    3.13%          rho_27 D 112770 112769     45\n",
      " 114514 50173        0.4355     6        0.4496        0.4355   846278    3.13%          rho_12 U 114514 114512     30\n",
      " 116098 50994        0.4401    20        0.4496        0.4355   860452    3.13%          rho_27 D 116098 116097     84\n",
      " 117824 51744        0.4480     6        0.4496        0.4355   873491    3.13%          rho_18 D 117824 117822     90\n",
      " 119493 52606        0.4380    15        0.4496        0.4355   887555    3.13%           rho_0 D 119493 119491     94\n",
      "Elapsed time = 63.22 sec. (50801.71 ticks, tree = 16.51 MB, solutions = 1)\n",
      " 121063 53175        0.4369    19        0.4496        0.4355   901417    3.13%          rho_13 D 121063 121062     53\n",
      " 122500 54022        0.4469     6        0.4496        0.4355   918254    3.13%           rho_0 U 122500 122362     87\n",
      " 123775 54673        0.4355    10        0.4496        0.4355   934603    3.13%           rho_0 D 123775 123774     48\n",
      " 125195 55392        0.4355    13        0.4496        0.4355   949125    3.13%          rho_12 U 125195 125193     39\n",
      " 126701 56096        0.4355    10        0.4496        0.4355   964627    3.13%           rho_0 D 126701 126699     53\n",
      " 128434 57061        0.4437    13        0.4496        0.4355   977657    3.13%          rho_27 N 128434 128432     53\n",
      " 129891 57613        0.4400    13        0.4496        0.4355   992120    3.13%          rho_12 D 129891 129890     35\n",
      " 131471 58260        0.4404    17        0.4496        0.4355  1005826    3.13%          rho_12 D 131471 131470     33\n",
      " 132794 58677        0.4404    17        0.4496        0.4355  1019538    3.13%           rho_6 D 132794 132793     59\n",
      " 134094 59128        0.4489    11        0.4496        0.4355  1033511    3.13%          rho_24 U 134094 134091     68\n",
      "Elapsed time = 73.22 sec. (60344.33 ticks, tree = 18.37 MB, solutions = 1)\n",
      " 135538 59596        0.4446    13        0.4496        0.4355  1045965    3.13%          rho_24 D 135538 135536     39\n",
      " 136995 60054        0.4485    15        0.4496        0.4355  1058202    3.13%           rho_1 U 136995 136994     84\n",
      " 138556 60839        0.4483     7        0.4496        0.4355  1069708    3.13%          rho_10 N 138556 138555     26\n",
      " 140035 61412        0.4450    13        0.4496        0.4355  1082646    3.13%           rho_4 D 140035 140033     58\n",
      " 141439 62042        0.4355     3        0.4496        0.4355  1096611    3.13%          rho_12 U 141439 141438     69\n",
      " 142870 62533        0.4491     5        0.4496        0.4355  1109881    3.13%          rho_17 N 142870 142869     58\n",
      " 144258 62932        0.4376    18        0.4496        0.4355  1122853    3.13%          rho_15 D 144258 144257     75\n",
      " 145651 63380        0.4489     3        0.4496        0.4355  1135915    3.13%           rho_0 U 145651 145649     48\n",
      " 147057 63831        0.4411    20        0.4496        0.4355  1149208    3.13%           rho_3 U 147057 146250     74\n",
      " 148496 64327        cutoff              0.4496        0.4355  1162540    3.13%          rho_25 D 148496 148495     70\n",
      "Elapsed time = 83.05 sec. (69885.64 ticks, tree = 19.89 MB, solutions = 1)\n",
      " 149854 64721        0.4489     3        0.4496        0.4355  1175549    3.13%           rho_0 U 149854 149853     46\n",
      " 151270 65166        0.4439    15        0.4496        0.4355  1188660    3.13%          rho_24 D 151270 151269     57\n",
      " 152802 65691        0.4475     7        0.4496        0.4355  1201923    3.13%           rho_0 U 152802 152801     99\n",
      " 154328 66222        0.4494     3        0.4496        0.4355  1215093    3.13%          rho_25 U 154328 154326     40\n",
      " 155986 66918        0.4494     7        0.4496        0.4355  1228774    3.13%          rho_19 U 155986 155985     66\n",
      " 157435 67530        0.4401    20        0.4496        0.4355  1243230    3.13%          rho_13 D 157435 157434     36\n",
      " 159027 68185        0.4409    12        0.4496        0.4355  1255959    3.13%           rho_9 U 159027 159026     57\n",
      " 160611 68793        0.4355    13        0.4496        0.4355  1268427    3.13%          rho_12 D 160611  56067     41\n",
      " 162090 69542        0.4355    13        0.4496        0.4355  1282510    3.13%           rho_0 D 162090 162088     71\n",
      " 163592 70122        cutoff              0.4496        0.4355  1295553    3.13%          rho_10 U 163592 163591     18\n",
      "Elapsed time = 93.66 sec. (79427.36 ticks, tree = 24.40 MB, solutions = 1)\n",
      " 165134 70605        0.4406    10        0.4496        0.4355  1306899    3.13%           rho_7 D 165134 165132     62\n",
      " 166749 71138        0.4366    14        0.4496        0.4355  1318389    3.13%          rho_15 D 166749 166748     23\n",
      " 168395 71811        0.4363    14        0.4496        0.4355  1331743    3.13%          rho_13 D 168395 168394     33\n",
      " 169832 72267        cutoff              0.4496        0.4355  1343635    3.13%           rho_1 U 169832 169831     19\n",
      " 171483 72785        0.4355    11        0.4496        0.4355  1354474    3.13%           rho_0 D 171483 171481     22\n",
      " 173088 73258        0.4454    11        0.4496        0.4355  1365899    3.13%          rho_24 D 173088 173087     60\n",
      " 174631 73624        0.4440    11        0.4496        0.4355  1377265    3.13%          rho_27 N 174631 167153     22\n",
      " 176039 74059        0.4368    17        0.4496        0.4355  1390182    3.13%          rho_27 D 176039 111705     80\n",
      " 177299 74513        0.4451    18        0.4496        0.4355  1405430    3.13%          rho_15 D 177299 177298     61\n",
      " 182389 76757        0.4355     8        0.4496        0.4355  1467448    3.13%          rho_12 U 182389 182387     82\n",
      "Elapsed time = 110.25 sec. (91828.82 ticks, tree = 26.33 MB, solutions = 1)\n",
      " 188434 78971        0.4439    15        0.4496        0.4355  1517612    3.13%          rho_24 D 188434 188433     65\n",
      " 194393 81204        0.4382    16        0.4496        0.4355  1569602    3.13%          rho_15 D 194393 194392     65\n",
      " 199953 83526        0.4402    19        0.4496        0.4355  1623335    3.13%          rho_12 D 199953 199952     71\n",
      " 205278 85828        0.4355    11        0.4496        0.4355  1678620    3.13%          rho_12 U 205278 205276     78\n",
      " 209786 87571        0.4355    10        0.4496        0.4355  1739440    3.13%           rho_0 D 209786 209784     34\n",
      " 215113 90063        0.4355    11        0.4496        0.4355  1795889    3.13%          rho_12 U 215113 215111     55\n",
      " 220208 91953        cutoff              0.4496        0.4355  1849895    3.13%          rho_25 D 220208 220207     45\n",
      " 225225 94393        0.4396    15        0.4496        0.4355  1904714    3.13%          rho_15 D 225225 225224     67\n",
      " 230102 96619        0.4384    12        0.4496        0.4355  1962901    3.13%          rho_28 D 230102 230100     92\n",
      " 235776 99098        0.4355    12        0.4496        0.4355  2014167    3.13%          rho_12 U 235776 235748     56\n",
      "Elapsed time = 162.34 sec. (129979.38 ticks, tree = 32.88 MB, solutions = 1)\n",
      " 240997 101175        0.4408    14        0.4496        0.4355  2065431    3.13%          rho_13 D 240997 240996     60\n",
      " 246316 103477        cutoff              0.4496        0.4355  2120424    3.13%           rho_0 U 246316 246315     38\n",
      " 251319 105337        0.4355    11        0.4496        0.4355  2174860    3.13%          rho_12 U 251319 251317     48\n",
      " 256159 107420        0.4458    16        0.4496        0.4355  2229253    3.13%          rho_27 U 256159 252320     37\n",
      " 260776 109326        0.4448    18        0.4496        0.4355  2280585    3.13%           rho_0 U 260776 260775     27\n",
      " 265598 111199        0.4460    17        0.4496        0.4355  2331470    3.13%          rho_27 D 265598 265597     60\n",
      " 270346 113077        0.4496     3        0.4496        0.4355  2384084    3.13%           rho_0 U 270346 270176     41\n",
      " 275749 114902        cutoff              0.4496        0.4355  2429239    3.13%           rho_3 U 275749 275747     41\n",
      "\n",
      "Gomory fractional cuts applied:  2\n",
      "User cuts applied:  755\n",
      "\n",
      "Root node processing (before b&c):\n",
      "  Real time             =    0.17 sec. (2.70 ticks)\n",
      "Sequential b&c:\n",
      "  Real time             =  199.84 sec. (162523.32 ticks)\n",
      "                          ------------\n",
      "Total (root+branch&cut) =  200.01 sec. (162526.02 ticks)\n",
      "+-----------------------------------------------+-------------------+-----------+\n",
      "| Pr(Y = +1) = 1.0/(1.0 + exp(-(-43 + score))   |                   |           |\n",
      "| ============================================= | ================= | ========= |\n",
      "| p_arrest>=1                                   |         20 points |   + ..... |\n",
      "| p_charges>=1                                  |         20 points |   + ..... |\n",
      "| p_arrest>=2                                   |          1 points |   + ..... |\n",
      "| p_felony>=1                                   |          1 points |   + ..... |\n",
      "| p_pending_charge>=1                           |          1 points |   + ..... |\n",
      "| ============================================= | ================= | ========= |\n",
      "| ADD POINTS FROM ROWS 1 to 5                   |             SCORE |   = ..... |\n",
      "+-----------------------------------------------+-------------------+-----------+\n",
      "model_id, score_thresholds 0 {'rank_abs': [0]}\n",
      "get_disparity_predefined_group()\n"
     ]
    },
    {
     "name": "stderr",
     "output_type": "stream",
     "text": [
      "C:\\Users\\binha\\Documents\\Duke\\Cynthia Research\\psa-analysis - test2\\utils\\fairness_functions.py:82: RuntimeWarning:\n",
      "\n",
      "invalid value encountered in longlong_scalars\n",
      "\n",
      "C:\\Users\\binha\\Documents\\Duke\\Cynthia Research\\psa-analysis - test2\\utils\\fairness_functions.py:95: RuntimeWarning:\n",
      "\n",
      "divide by zero encountered in longlong_scalars\n",
      "\n"
     ]
    },
    {
     "name": "stdout",
     "output_type": "stream",
     "text": [
      "setting c0 = 0.0 to ensure that intercept is not penalized\n",
      "10/01/19 @ 02:23 PM | 1221 rows in lookup table\n",
      "10/01/19 @ 02:23 PM | ------------------------------------------------------------\n",
      "10/01/19 @ 02:23 PM | runnning initialization procedure\n",
      "10/01/19 @ 02:23 PM | ------------------------------------------------------------\n",
      "10/01/19 @ 02:23 PM | CPA produced 2 cuts\n",
      "10/01/19 @ 02:23 PM | running naive rounding on 41 solutions\n",
      "10/01/19 @ 02:23 PM | best objective value: 0.4455\n",
      "10/01/19 @ 02:23 PM | rounding produced 5 integer solutions\n",
      "10/01/19 @ 02:23 PM | best objective value is 0.4686\n",
      "10/01/19 @ 02:23 PM | running sequential rounding on 41 solutions\n",
      "10/01/19 @ 02:23 PM | best objective value: 0.4455\n",
      "10/01/19 @ 02:23 PM | sequential rounding produced 6 integer solutions\n",
      "10/01/19 @ 02:23 PM | best objective value: 0.4536\n",
      "10/01/19 @ 02:23 PM | polishing 11 solutions\n",
      "10/01/19 @ 02:23 PM | best objective value: 0.4536\n",
      "10/01/19 @ 02:23 PM | polishing produced 5 integer solutions\n",
      "10/01/19 @ 02:23 PM | initialization produced 13 feasible solutions\n",
      "10/01/19 @ 02:23 PM | best objective value: 0.4536\n",
      "10/01/19 @ 02:23 PM | ------------------------------------------------------------\n",
      "10/01/19 @ 02:23 PM | completed initialization procedure\n",
      "10/01/19 @ 02:23 PM | ------------------------------------------------------------\n",
      "10/01/19 @ 02:23 PM | 1221 rows in lookup table\n",
      "CPXPARAM_Read_DataCheck                          1\n",
      "CPXPARAM_Threads                                 1\n",
      "CPXPARAM_Parallel                                1\n",
      "CPXPARAM_RandomSeed                              0\n",
      "CPXPARAM_TimeLimit                               200\n",
      "CPXPARAM_MIP_Tolerances_LowerCutoff              0.43454418391358562\n",
      "CPXPARAM_MIP_Tolerances_UpperCutoff              0.45363564916451837\n"
     ]
    },
    {
     "name": "stderr",
     "output_type": "stream",
     "text": [
      "Warning: Control callbacks may disable some MIP features.\n"
     ]
    },
    {
     "name": "stdout",
     "output_type": "stream",
     "text": [
      "Lazy constraint(s) or lazy constraint callback is present.\n",
      "    Disabling dual reductions (CPX_PARAM_REDUCE) in presolve.\n",
      "    Disabling non-linear reductions (CPX_PARAM_PRELINEAR) in presolve.\n",
      "         Disabling repeat represolve because of lazy constraint/incumbent callback.\n",
      "10/01/19 @ 02:23 PM | adding 249 initial cuts\n",
      "1 of 1 MIP starts provided solutions.\n",
      "MIP start 'mip_start_0' defined initial solution with objective 0.4536.\n",
      "Tried aggregator 1 time.\n",
      "Reduced MIP has 30 rows, 60 columns, and 115 nonzeros.\n",
      "Reduced MIP has 28 binaries, 30 generals, 0 SOSs, and 0 indicators.\n",
      "Presolve time = 0.02 sec. (0.06 ticks)\n",
      "Probing time = 0.00 sec. (0.02 ticks)\n",
      "MIP emphasis: balance optimality and feasibility.\n",
      "MIP search method: traditional branch-and-cut.\n",
      "Parallel mode: none, using 1 thread.\n",
      "Root relaxation solution time = 0.00 sec. (0.04 ticks)\n",
      "\n",
      "        Nodes                                         Cuts/\n",
      "   Node  Left     Objective  IInf  Best Integer    Best Bound    ItCnt     Gap         Variable B NodeID Parent  Depth\n",
      "\n",
      "*     0+    0                            0.4536        0.4345             4.21%\n",
      "      0     0        0.4345     1        0.4536        0.4345        1    4.21%\n",
      "      0     0        0.4345     1        0.4536      Fract: 2        3    4.21%\n",
      "      0     2        0.4345     8        0.4536        0.4345        3    4.21%                        0             0\n",
      "Elapsed time = 0.63 sec. (2.83 ticks, tree = 0.01 MB, solutions = 1)\n",
      "   2000   989        0.4345     9        0.4536        0.4345     8380    4.21%           rho_0 D   2000   1999     26\n",
      "*  2680+ 1155                            0.4505        0.4345             3.54%\n",
      "   3089  1360        0.4462     8        0.4505        0.4345    14202    3.54%          rho_27 U   3089   3088     36\n",
      "*  3530+ 1446                            0.4491        0.4345             3.24%\n",
      "   3942  1670        0.4345     9        0.4491        0.4345    18859    3.24%         alpha_4 D   3942   3889     19\n",
      "   4794  2042        0.4444    13        0.4491        0.4345    23802    3.24%           rho_3 D   4794   4792     28\n",
      "*  5340+ 2224                            0.4491        0.4345             3.24%\n",
      "   5510  2294        0.4460    14        0.4491        0.4345    28880    3.24%           rho_4 U   5510   5509     20\n",
      "   6200  2589        0.4478     6        0.4491        0.4345    33293    3.24%          rho_12 D   6200   6199     33\n",
      "   6885  2849        cutoff              0.4491        0.4345    38114    3.24%          rho_12 U   6885   6859     38\n",
      "   7601  3114        0.4345     4        0.4491        0.4345    42532    3.24%          rho_12 U   7601   7599     56\n",
      "   8278  3370        0.4467    12        0.4491        0.4345    47610    3.24%          rho_25 D   8278   8276     46\n",
      "  10961  4471        cutoff              0.4491        0.4345    65870    3.24%           rho_0 D  10961  10960     36\n",
      "Elapsed time = 6.44 sec. (3107.86 ticks, tree = 1.40 MB, solutions = 4)\n",
      "  13542  5362        0.4348     9        0.4491        0.4345    85856    3.24%           rho_1 U  13542  13541     23\n",
      "  15973  6507        0.4345    10        0.4491        0.4345   103596    3.24%          rho_12 D  15973  15972     56\n",
      "  18313  7630        0.4453    10        0.4491        0.4345   122464    3.24%          rho_18 D  18313  18312     62\n",
      "  20576  8390        cutoff              0.4491        0.4345   140358    3.24%          rho_17 U  20576  20575     36\n",
      "  23056  9386        0.4378    10        0.4491        0.4345   155477    3.24%           rho_4 D  23056  23054     22\n",
      "  25437 10514        cutoff              0.4491        0.4345   171930    3.24%           rho_0 D  25437  25436     79\n",
      "  27523 10968        0.4363    10        0.4491        0.4345   187212    3.24%           rho_5 U  27523  25960     49\n",
      "  29397 11093        0.4467     8        0.4491        0.4345   201730    3.24%           rho_2 D  29397  29396     75\n",
      "  31291 11221        0.4427    14        0.4491        0.4345   216416    3.24%           rho_7 D  31291  31289     39\n",
      "  33178 11320        0.4462    11        0.4491        0.4345   230841    3.24%          rho_13 D  33178  33176     32\n",
      "Elapsed time = 18.80 sec. (12647.06 ticks, tree = 3.54 MB, solutions = 4)\n",
      "  35134 11805        0.4476    12        0.4491        0.4345   246738    3.24%           rho_2 U  35134  35133     80\n",
      "  37067 12398        0.4345     4        0.4491        0.4345   263073    3.24%          rho_12 U  37067  37066     16\n",
      "  39358 13575        0.4409    13        0.4491        0.4345   279325    3.24%          rho_13 D  39358  39357     45\n",
      "  41521 14541        0.4364    15        0.4491        0.4345   294373    3.24%          rho_12 D  41521  41519     41\n",
      "  43599 15416        0.4345    11        0.4491        0.4345   309309    3.24%          rho_12 D  43599  43597     25\n",
      "  45729 16451        0.4345     4        0.4491        0.4345   324968    3.24%          rho_12 U  45729  45727     64\n",
      "  47757 17427        cutoff              0.4491        0.4345   340508    3.24%          rho_24 U  47757  47755     29\n",
      "  49860 18220        cutoff              0.4491        0.4345   355518    3.24%           rho_2 U  49860  49859     39\n",
      "  52057 19015        0.4345    18        0.4491        0.4345   369048    3.24%          rho_12 D  52057  52056     28\n",
      "  53996 19714        0.4345     9        0.4491        0.4345   384214    3.24%          rho_28 D  53996  53995     41\n",
      "Elapsed time = 29.81 sec. (22185.65 ticks, tree = 6.47 MB, solutions = 4)\n",
      "  55985 20776        0.4359    13        0.4491        0.4345   399160    3.24%          rho_24 U  55985  55984     43\n",
      "  57905 21466        0.4481     9        0.4491        0.4345   413030    3.24%           rho_2 U  57905  57904     71\n",
      "  59790 22238        0.4377    14        0.4491        0.4345   427517    3.24%           rho_4 D  59790  59789     51\n",
      "  61857 23103        0.4423    11        0.4491        0.4345   442001    3.24%          rho_27 D  61857  61856     61\n",
      "  63748 23500        0.4457    12        0.4491        0.4345   456088    3.24%           rho_2 D  63748  63746     61\n",
      "  65542 23790        0.4457    12        0.4491        0.4345   469437    3.24%           rho_2 D  65542  65540     43\n",
      "  67334 24257        0.4433    12        0.4491        0.4345   482852    3.24%          rho_16 D  67334  67333     65\n",
      "  69203 25117        0.4356    17        0.4491        0.4345   497444    3.24%           rho_0 D  69203  69201     57\n",
      "  71063 25726        0.4445    12        0.4491        0.4345   510533    3.24%           rho_2 D  71063  71061     54\n",
      "  72959 26410        0.4474    19        0.4491        0.4345   524021    3.24%           rho_0 D  72959  72958     67\n",
      "Elapsed time = 40.36 sec. (31726.19 ticks, tree = 8.33 MB, solutions = 4)\n",
      "  74696 27150        0.4345     7        0.4491        0.4345   539582    3.24%           rho_0 D  74696  74694     74\n",
      "  76570 27784        0.4483    12        0.4491        0.4345   553009    3.24%          rho_20 D  76570  76568     66\n",
      "  78485 28396        0.4397    15        0.4491        0.4345   566381    3.24%           rho_2 D  78485  78483     42\n",
      "  80358 29071        0.4355    10        0.4491        0.4345   579902    3.24%           rho_5 D  80358  80243     36\n",
      "  82191 29998        cutoff              0.4491        0.4345   594328    3.24%           rho_2 D  82191  82190     40\n",
      "  83980 30801        0.4352    13        0.4491        0.4345   609478    3.24%          rho_12 D  83980  83979     40\n",
      "  85705 31639        0.4345    13        0.4491        0.4345   625290    3.24%          rho_12 U  85705  85703     57\n",
      "  87556 32461        0.4431    11        0.4491        0.4345   639158    3.24%          rho_18 D  87556  87555     35\n",
      "  89323 33230        cutoff              0.4491        0.4345   653145    3.24%          rho_27 D  89323  89322     39\n",
      "  91094 34054        0.4345     5        0.4491        0.4345   666583    3.24%           rho_0 D  91094  91092     33\n",
      "Elapsed time = 50.55 sec. (41268.05 ticks, tree = 11.85 MB, solutions = 4)\n",
      "  92756 34763        cutoff              0.4491        0.4345   680458    3.24%          rho_13 U  92756  92755     46\n",
      "  94654 35747        0.4345     1        0.4491        0.4345   695346    3.24%          rho_12 U  94654  94652     86\n",
      "  96375 36257        0.4451    12        0.4491        0.4345   708280    3.24%          rho_18 D  96375  96373     86\n",
      "  97923 36579        cutoff              0.4491        0.4345   720936    3.24%          rho_25 U  97923  97921     82\n",
      "  99600 37011        0.4467     8        0.4491        0.4345   733333    3.24%           rho_2 D  99600  99599     57\n",
      " 101285 37538        cutoff              0.4491        0.4345   746647    3.24%           rho_0 U 101285 101283     35\n",
      " 102983 38061        0.4358    13        0.4491        0.4345   758945    3.24%           rho_4 D 102983 102982     25\n",
      " 104914 38865        0.4477     7        0.4491        0.4345   771245    3.24%          rho_25 D 104914 104913     46\n",
      " 106740 39476        0.4400    11        0.4491        0.4345   783007    3.24%           rho_6 D 106740 106738     50\n",
      " 108435 40127        0.4440    12        0.4491        0.4345   794465    3.24%          rho_18 D 108435 108433     59\n",
      "Elapsed time = 61.14 sec. (50808.41 ticks, tree = 13.61 MB, solutions = 4)\n",
      " 110090 40497        0.4423    11        0.4491        0.4345   805466    3.24%           rho_4 N 110090 105645     63\n",
      " 111634 41033        0.4386    16        0.4491        0.4345   818179    3.24%           rho_2 U 111634 111633     33\n",
      " 113231 41690        cutoff              0.4491        0.4345   831367    3.24%           rho_5 U 113231 113230     47\n",
      " 114614 42196        0.4356    12        0.4491        0.4345   845978    3.24%           rho_6 U 114614 114613     35\n",
      " 116235 43058        0.4345     7        0.4491        0.4345   859063    3.24%           rho_0 D 116235 116233     44\n",
      " 118016 43851        0.4471    11        0.4491        0.4345   870895    3.24%          rho_13 D 118016 118015     64\n",
      " 119868 44476        0.4345     7        0.4491        0.4345   881577    3.24%          rho_12 U 119868 119866     65\n",
      " 121782 44981        0.4353    13        0.4491        0.4345   892110    3.24%          rho_12 D 121782 115995     29\n",
      " 123672 45529        0.4345     6        0.4491        0.4345   902835    3.24%           rho_0 D 123672 123671     29\n",
      " 125371 46090        0.4351    12        0.4491        0.4345   915086    3.24%           rho_0 D 125371 125253     31\n",
      "Elapsed time = 70.97 sec. (60349.96 ticks, tree = 15.32 MB, solutions = 4)\n",
      " 126993 46618        cutoff              0.4491        0.4345   926845    3.24%           rho_0 U 126993 126990     68\n",
      " 128485 47040        0.4366    11        0.4491        0.4345   939953    3.24%           rho_5 U 128485 128366     55\n",
      " 129880 47415        0.4440    15        0.4491        0.4345   953961    3.24%          rho_27 D 129880 129879     34\n",
      " 131364 47856        0.4345    12        0.4491        0.4345   967245    3.24%           rho_5 D 131364  90149     72\n",
      " 132616 48055        0.4360    12        0.4491        0.4345   981936    3.24%           rho_5 U 132616  89738     52\n",
      " 133879 48258        0.4388    15        0.4491        0.4345   996779    3.24%           rho_2 D 133879 133877     54\n",
      " 135472 48890        0.4348    15        0.4491        0.4345  1008925    3.24%           rho_0 D 135472 135470     44\n",
      " 137324 49540        0.4484     6        0.4491        0.4345  1020257    3.24%          rho_20 D 137324 137323     61\n",
      " 138911 50033        0.4345     9        0.4491        0.4345  1033076    3.24%          rho_15 U 138911  20057     52\n",
      " 140519 50673        0.4345    13        0.4491        0.4345  1046025    3.24%           rho_6 D 140519 140516     61\n",
      "Elapsed time = 79.97 sec. (69891.33 ticks, tree = 16.65 MB, solutions = 4)\n",
      " 142153 51389        0.4453    10        0.4491        0.4345  1059103    3.24%           rho_2 D 142153 142152     35\n",
      " 143650 52041        0.4345     7        0.4491        0.4345  1072194    3.24%          rho_12 D 143650 143649     61\n",
      " 145113 52430        0.4467     9        0.4491        0.4345  1083817    3.24%          rho_27 D 145113 145112     62\n",
      " 146581 52780        0.4361    12        0.4491        0.4345  1095318    3.24%           rho_5 U 146581 146574     53\n",
      " 148132 53186        0.4390     9        0.4491        0.4345  1106368    3.24%          rho_27 D 148132 148131     40\n",
      " 149922 53751        cutoff              0.4491        0.4345  1115884    3.24%          rho_25 U 149922 149920     62\n",
      " 151809 54445        cutoff              0.4491        0.4345  1127670    3.24%          rho_27 U 151809 151807     38\n",
      " 153587 55290        0.4381    12        0.4491        0.4345  1140333    3.24%          rho_28 D 153587 153585     47\n",
      " 155452 55959        0.4395    18        0.4491        0.4345  1152422    3.24%           rho_5 D 155452 155451     35\n",
      " 157067 56542        cutoff              0.4491        0.4345  1165423    3.24%          rho_16 U 157067 157066     53\n",
      "Elapsed time = 88.52 sec. (79430.45 ticks, tree = 18.35 MB, solutions = 4)\n",
      " 158711 57132        0.4345    14        0.4491        0.4345  1178254    3.24%           rho_5 D 158711 158710     54\n",
      " 160228 57659        0.4430    10        0.4491        0.4345  1191598    3.24%           rho_2 U 160228 160227     60\n",
      " 161634 58224        0.4384    12        0.4491        0.4345  1205669    3.24%          rho_28 D 161634 161633     42\n",
      " 163110 58791        0.4444    19        0.4491        0.4345  1219227    3.24%          rho_13 D 163110 163109     37\n",
      " 164582 59343        cutoff              0.4491        0.4345  1232585    3.24%           rho_2 U 164582 164581     57\n",
      " 166100 59963        0.4345    16        0.4491        0.4345  1246037    3.24%          rho_12 D 166100 166099     41\n",
      " 167412 60499        0.4345     8        0.4491        0.4345  1262552    3.24%          rho_12 U 167412 167410     72\n",
      " 168717 61035        0.4345    11        0.4491        0.4345  1278171    3.24%          rho_12 U 168717 168715     47\n",
      " 170140 61602        0.4355    17        0.4491        0.4345  1293609    3.24%          rho_12 D 170140 170139     63\n",
      " 176185 63985        0.4484    13        0.4491        0.4345  1346921    3.24%          rho_27 U 176185 176183     31\n",
      "Elapsed time = 101.33 sec. (91833.51 ticks, tree = 20.52 MB, solutions = 4)\n",
      " 182410 66009        cutoff              0.4491        0.4345  1395270    3.24%           rho_2 U 182410 182409     47\n",
      " 188247 67993        0.4470    10        0.4491        0.4345  1446176    3.24%          rho_18 D 188247 188246     43\n",
      "*191246 69083      integral     0        0.4491        0.4345  1468921    3.24%\n",
      "*191250+69082                            0.4491        0.4345             3.24%\n",
      " 193829 70155        0.4462    11        0.4491        0.4345  1495130    3.24%           rho_1 U 193829 193828     19\n",
      " 199752 72738        cutoff              0.4491        0.4345  1546320    3.24%          rho_28 U 199752 199751     53\n",
      " 206093 74697        0.4345     6        0.4491        0.4345  1593536    3.24%           rho_0 D 206093 206091     47\n",
      " 211307 76598        0.4476    18        0.4491        0.4345  1647111    3.24%           rho_6 D 211307 211306     60\n",
      " 217394 78733        0.4449    16        0.4491        0.4345  1694625    3.24%           rho_2 D 217394 217391     28\n",
      " 223354 80866        0.4480     6        0.4491        0.4345  1740792    3.24%           rho_4 D 223354 223353     43\n",
      " 229086 82665        0.4447    12        0.4491        0.4345  1789298    3.24%           rho_2 U 229086 229085     61\n",
      " 235130 84869        cutoff              0.4491        0.4345  1837782    3.24%           rho_0 U 235130 235129     45\n",
      "Elapsed time = 137.20 sec. (129983.20 ticks, tree = 29.52 MB, solutions = 6)\n",
      " 241058 87378        0.4345     2        0.4491        0.4345  1890021    3.24%          rho_12 U 241058 236975     23\n",
      " 246511 89327        0.4407    10        0.4491        0.4345  1943481    3.24%           rho_2 D 246511 246510     76\n",
      " 251636 90813        0.4385    15        0.4491        0.4345  1994760    3.24%          rho_13 D 251636 251635     57\n",
      " 257245 92587        cutoff              0.4491        0.4345  2043389    3.24%          rho_16 U 257245 257244     68\n",
      " 262081 93986        cutoff              0.4491        0.4345  2097111    3.24%          rho_13 U 262081 262080     62\n",
      " 267688 95982        cutoff              0.4491        0.4345  2143663    3.24%           rho_1 D 267688 267686     29\n",
      " 272876 98168        0.4355    12        0.4491        0.4345  2195006    3.24%           rho_5 U 272876 272875     17\n",
      " 278223 100018        0.4345    14        0.4491        0.4345  2245691    3.24%          rho_12 D 278223 278222     24\n",
      " 283122 101223        0.4466    13        0.4491        0.4345  2293626    3.24%           rho_2 U 283122 283121     42\n",
      " 288257 102549        0.4488     8        0.4491        0.4345  2336723    3.24%           rho_0 U 288257 288256     51\n",
      "Elapsed time = 169.75 sec. (168134.30 ticks, tree = 34.77 MB, solutions = 6)\n",
      " 293379 104522        0.4461     9        0.4491        0.4345  2385989    3.24%          rho_20 D 293379 293378     54\n",
      " 298687 106275        0.4346    17        0.4491        0.4345  2435800    3.24%           rho_4 D 298687 298686     55\n",
      " 304500 108479        0.4345     6        0.4491        0.4345  2481860    3.24%          rho_12 U 304500 304493     41\n",
      " 309609 110413        cutoff              0.4491        0.4345  2529305    3.24%          rho_16 U 309609 309608     68\n",
      " 313882 112018        0.4423    10        0.4491        0.4345  2582550    3.24%           rho_2 U 313882 313881     52\n",
      " 319088 113761        0.4488     7        0.4491        0.4345  2629585    3.24%          rho_10 D 319088 319086     74\n",
      " 324561 115866        0.4433    13        0.4491        0.4345  2674762    3.24%           rho_2 U 324561 324560     35\n",
      " 330349 117892        0.4351    15        0.4491        0.4345  2712008    3.24%          rho_12 U 330349 330347     32\n",
      " 334900 120140        0.4345     6        0.4491        0.4345  2761114    3.24%          rho_12 U 334900 333543     32\n",
      "\n",
      "Gomory fractional cuts applied:  2\n",
      "User cuts applied:  810\n",
      "\n",
      "Root node processing (before b&c):\n",
      "  Real time             =    0.63 sec. (2.91 ticks)\n",
      "Sequential b&c:\n",
      "  Real time             =  199.39 sec. (202996.30 ticks)\n",
      "                          ------------\n",
      "Total (root+branch&cut) =  200.02 sec. (202999.20 ticks)\n",
      "+----------------------------------------------+------------------+-----------+\n",
      "| Pr(Y = +1) = 1.0/(1.0 + exp(-(-3 + score))   |                  |           |\n",
      "| ============================================ | ================ | ========= |\n",
      "| p_arrest>=2                                  |         1 points |   + ..... |\n",
      "| p_felony>=1                                  |         1 points |   + ..... |\n",
      "| p_pending_charge>=1                          |         1 points |   + ..... |\n",
      "| ============================================ | ================ | ========= |\n",
      "| ADD POINTS FROM ROWS 1 to 3                  |            SCORE |   = ..... |\n",
      "+----------------------------------------------+------------------+-----------+\n",
      "model_id, score_thresholds 0 {'rank_abs': [0]}\n",
      "get_disparity_predefined_group()\n"
     ]
    },
    {
     "name": "stderr",
     "output_type": "stream",
     "text": [
      "C:\\Users\\binha\\Documents\\Duke\\Cynthia Research\\psa-analysis - test2\\utils\\fairness_functions.py:82: RuntimeWarning:\n",
      "\n",
      "invalid value encountered in longlong_scalars\n",
      "\n",
      "C:\\Users\\binha\\Documents\\Duke\\Cynthia Research\\psa-analysis - test2\\utils\\fairness_functions.py:95: RuntimeWarning:\n",
      "\n",
      "divide by zero encountered in longlong_scalars\n",
      "\n"
     ]
    },
    {
     "name": "stdout",
     "output_type": "stream",
     "text": [
      "setting c0 = 0.0 to ensure that intercept is not penalized\n",
      "10/01/19 @ 02:26 PM | 1221 rows in lookup table\n",
      "10/01/19 @ 02:26 PM | ------------------------------------------------------------\n",
      "10/01/19 @ 02:26 PM | runnning initialization procedure\n",
      "10/01/19 @ 02:26 PM | ------------------------------------------------------------\n",
      "10/01/19 @ 02:26 PM | CPA produced 2 cuts\n",
      "10/01/19 @ 02:26 PM | running naive rounding on 41 solutions\n",
      "10/01/19 @ 02:26 PM | best objective value: 0.4434\n",
      "10/01/19 @ 02:26 PM | rounding produced 5 integer solutions\n",
      "10/01/19 @ 02:26 PM | best objective value is 0.4559\n",
      "10/01/19 @ 02:26 PM | running sequential rounding on 41 solutions\n",
      "10/01/19 @ 02:26 PM | best objective value: 0.4434\n",
      "10/01/19 @ 02:26 PM | sequential rounding produced 5 integer solutions\n",
      "10/01/19 @ 02:26 PM | best objective value: 0.4559\n",
      "10/01/19 @ 02:26 PM | polishing 10 solutions\n",
      "10/01/19 @ 02:26 PM | best objective value: 0.4559\n",
      "10/01/19 @ 02:26 PM | polishing produced 5 integer solutions\n",
      "10/01/19 @ 02:26 PM | initialization produced 9 feasible solutions\n",
      "10/01/19 @ 02:26 PM | best objective value: 0.4559\n",
      "10/01/19 @ 02:26 PM | ------------------------------------------------------------\n",
      "10/01/19 @ 02:26 PM | completed initialization procedure\n",
      "10/01/19 @ 02:26 PM | ------------------------------------------------------------\n",
      "10/01/19 @ 02:26 PM | 1221 rows in lookup table\n",
      "CPXPARAM_Read_DataCheck                          1\n",
      "CPXPARAM_Threads                                 1\n",
      "CPXPARAM_Parallel                                1\n",
      "CPXPARAM_RandomSeed                              0\n",
      "CPXPARAM_TimeLimit                               200\n",
      "CPXPARAM_MIP_Tolerances_LowerCutoff              0.43557039125165098\n",
      "CPXPARAM_MIP_Tolerances_UpperCutoff              0.45589796770847046\n"
     ]
    },
    {
     "name": "stderr",
     "output_type": "stream",
     "text": [
      "Warning: Control callbacks may disable some MIP features.\n"
     ]
    },
    {
     "name": "stdout",
     "output_type": "stream",
     "text": [
      "Lazy constraint(s) or lazy constraint callback is present.\n",
      "    Disabling dual reductions (CPX_PARAM_REDUCE) in presolve.\n",
      "    Disabling non-linear reductions (CPX_PARAM_PRELINEAR) in presolve.\n",
      "         Disabling repeat represolve because of lazy constraint/incumbent callback.\n",
      "10/01/19 @ 02:26 PM | adding 249 initial cuts\n",
      "1 of 1 MIP starts provided solutions.\n",
      "MIP start 'mip_start_0' defined initial solution with objective 0.4559.\n",
      "Tried aggregator 1 time.\n",
      "Reduced MIP has 30 rows, 60 columns, and 115 nonzeros.\n",
      "Reduced MIP has 28 binaries, 30 generals, 0 SOSs, and 0 indicators.\n",
      "Presolve time = 0.00 sec. (0.06 ticks)\n",
      "Probing time = 0.00 sec. (0.02 ticks)\n",
      "MIP emphasis: balance optimality and feasibility.\n",
      "MIP search method: traditional branch-and-cut.\n",
      "Parallel mode: none, using 1 thread.\n",
      "Root relaxation solution time = 0.00 sec. (0.04 ticks)\n",
      "\n",
      "        Nodes                                         Cuts/\n",
      "   Node  Left     Objective  IInf  Best Integer    Best Bound    ItCnt     Gap         Variable B NodeID Parent  Depth\n",
      "\n",
      "*     0+    0                            0.4559        0.4356             4.46%\n",
      "      0     0        0.4356     1        0.4559        0.4356        1    4.46%\n",
      "      0     0        0.4356     1        0.4559      Fract: 2        3    4.46%\n",
      "*     0+    0                            0.4536        0.4356             3.98%\n",
      "      0     2        0.4356     6        0.4536        0.4356        3    3.98%                        0             0\n",
      "Elapsed time = 0.16 sec. (2.54 ticks, tree = 0.01 MB, solutions = 2)\n",
      "*  1170+  563                            0.4514        0.4356             3.52%\n",
      "   1908   858        0.4433    13        0.4514        0.4356     8976    3.52%           rho_0 D   1908   1907     30\n",
      "   3106  1535        0.4356     6        0.4514        0.4356    15900    3.52%           rho_0 D   3106   3104     59\n",
      "*  4000+ 2058                            0.4514        0.4356             3.51%\n",
      "   4293  2200        0.4356     5        0.4514        0.4356    22808    3.51%           rho_0 D   4293   4291     35\n",
      "   5314  2693        0.4370    11        0.4514        0.4356    29457    3.51%           rho_0 U   5314   5313     43\n",
      "   6234  3270        0.4370    13        0.4514        0.4356    35847    3.51%           rho_0 U   6234   6233     57\n",
      "   7120  3730        0.4428    15        0.4514        0.4356    41138    3.51%           rho_0 D   7120   7118     77\n",
      "   8018  4280        0.4356     8        0.4514        0.4356    45503    3.51%          rho_12 U   8018   8016     74\n",
      "   8813  4783        0.4356    10        0.4514        0.4356    50560    3.51%           rho_0 D   8813   8811     51\n",
      "   9545  5195        0.4401    18        0.4514        0.4356    56605    3.51%           rho_2 D   9545   9544     97\n",
      "* 10030+ 5132                            0.4494        0.4356             3.08%\n",
      "  12492  6275        0.4356     4        0.4494        0.4356    75861    3.08%           rho_6 U  12492  12490     22\n",
      "Elapsed time = 4.84 sec. (3103.38 ticks, tree = 1.80 MB, solutions = 5)\n",
      "  15272  7432        cutoff              0.4494        0.4356    92896    3.08%           rho_0 U  15272  15271     45\n",
      "  17997  8182        cutoff              0.4494        0.4356   108873    3.08%           rho_0 U  17997  17996     71\n",
      "  20786  9147        cutoff              0.4494        0.4356   124736    3.08%          rho_27 D  20786  20784     32\n",
      "* 21000+ 9224                            0.4494        0.4356             3.08%\n",
      "* 22000+ 9609                            0.4494        0.4356             3.08%\n",
      "  23356 10311        cutoff              0.4494        0.4356   142146    3.08%           rho_0 U  23356  23355     37\n",
      "  25887 11645        cutoff              0.4494        0.4356   160142    3.08%          rho_28 U  25887  25886     42\n",
      "  28326 12476        0.4358    15        0.4494        0.4356   175373    3.08%          rho_12 D  28326  28325     25\n",
      "  30589 13383        0.4491     3        0.4494        0.4356   191368    3.08%          rho_18 D  30589  30588     55\n",
      "  32800 14309        0.4464    13        0.4494        0.4356   206761    3.08%           rho_5 D  32800  32799     47\n",
      "  34970 15216        0.4356    13        0.4494        0.4356   221649    3.08%           rho_5 D  34970  25027     69\n",
      "  37055 15934        0.4485    12        0.4494        0.4356   236435    3.08%          rho_10 D  37055  37054     61\n",
      "Elapsed time = 14.81 sec. (12642.14 ticks, tree = 4.69 MB, solutions = 7)\n",
      "  39075 16628        cutoff              0.4494        0.4356   250598    3.08%          rho_24 D  39075  39074     32\n",
      "  41052 17293        0.4445    13        0.4494        0.4356   265045    3.08%          rho_17 D  41052  41051     61\n",
      "  43047 17950        cutoff              0.4494        0.4356   279922    3.08%          rho_16 U  43047  43046     49\n",
      "  44982 18521        cutoff              0.4494        0.4356   296587    3.08%           rho_0 D  44982  44981     78\n",
      "  46960 19166        cutoff              0.4494        0.4356   311660    3.08%           rho_5 U  46960  46959     17\n",
      "  48830 19854        0.4356     3        0.4494        0.4356   328796    3.08%          rho_12 U  48830  48828     52\n",
      "  50858 20427        0.4392     8        0.4494        0.4356   344631    3.08%           rho_5 U  50858  50797     67\n",
      "  52919 21148        0.4394    21        0.4494        0.4356   359679    3.08%          rho_26 D  52919  52918     34\n",
      "  54862 22174        0.4470     6        0.4494        0.4356   376311    3.08%          rho_20 D  54862  54861     70\n",
      "  56836 23146        0.4432    13        0.4494        0.4356   393496    3.08%           rho_8 D  56836  56835     67\n",
      "Elapsed time = 24.56 sec. (22180.82 ticks, tree = 7.34 MB, solutions = 7)\n",
      "  58827 24138        0.4356    10        0.4494        0.4356   410173    3.08%          rho_13 D  58827  58826     21\n",
      "  60717 25212        0.4464    15        0.4494        0.4356   426858    3.08%          rho_25 D  60717  60716     69\n",
      "  62310 26032        0.4464    15        0.4494        0.4356   442317    3.08%          rho_25 D  62310  62309     41\n",
      "  63817 26813        cutoff              0.4494        0.4356   457208    3.08%          rho_20 U  63817  63815     57\n",
      "  65370 27627        0.4356     5        0.4494        0.4356   471662    3.08%           rho_0 D  65370  65368     57\n",
      "  66867 28393        0.4356     8        0.4494        0.4356   486559    3.08%          rho_13 D  66867  53574     34\n",
      "  68490 29132        0.4372    19        0.4494        0.4356   504295    3.08%          rho_13 D  68490  68489     58\n",
      "  70312 30036        0.4356    18        0.4494        0.4356   524122    3.08%           rho_7 D  70312  70311     52\n",
      "  71860 30863        0.4384    19        0.4494        0.4356   541177    3.08%          rho_15 D  71860  71859     84\n",
      "  73926 31777        0.4457    14        0.4494        0.4356   556465    3.08%          rho_15 N  73926  73925     71\n",
      "Elapsed time = 33.80 sec. (31724.44 ticks, tree = 9.60 MB, solutions = 7)\n",
      "  75965 32595        cutoff              0.4494        0.4356   571089    3.08%           rho_8 U  75965  75964     44\n",
      "  77871 33457        0.4356    11        0.4494        0.4356   586841    3.08%           rho_7 D  77871  77870     51\n",
      "  79833 34399        0.4419     9        0.4494        0.4356   601888    3.08%          rho_16 D  79833  79831     89\n",
      "  81648 35254        0.4356    11        0.4494        0.4356   616311    3.08%           rho_7 D  81648  81647     48\n",
      "  83313 35970        0.4409    18        0.4494        0.4356   631400    3.08%           rho_2 D  83313  83312     39\n",
      "  84879 36713        0.4356    13        0.4494        0.4356   646821    3.08%           rho_2 D  84879  84878     39\n",
      "  86434 37507        0.4455     8        0.4494        0.4356   662167    3.08%          rho_16 U  86434  86433     25\n",
      "  88166 38320        0.4357    20        0.4494        0.4356   677027    3.08%           rho_4 D  88166  88165     52\n",
      "  89935 39143        0.4456     9        0.4494        0.4356   691770    3.08%           rho_7 D  89935  89934     34\n",
      "  91780 40025        0.4356     6        0.4494        0.4356   705811    3.08%          rho_12 U  91780  91778     57\n",
      "Elapsed time = 42.70 sec. (41264.00 ticks, tree = 13.16 MB, solutions = 7)\n",
      "  93402 40739        0.4408    14        0.4494        0.4356   720314    3.08%           rho_2 N  93402  91803     70\n",
      "  95046 41298        0.4426    12        0.4494        0.4356   733614    3.08%          rho_27 D  95046  95045     61\n",
      "  96651 41815        0.4462     9        0.4494        0.4356   746724    3.08%          rho_10 D  96651  96649     44\n",
      "  98150 42273        0.4363    17        0.4494        0.4356   760089    3.08%           rho_2 D  98150  89593     20\n",
      "  99918 42949        0.4479    11        0.4494        0.4356   773591    3.08%           rho_9 D  99918  99916     30\n",
      " 101640 43527        0.4423    14        0.4494        0.4356   786818    3.08%          rho_15 D 101640 101639     50\n",
      "*102000+43680                            0.4494        0.4356             3.08%\n",
      " 103404 44133        0.4423    17        0.4494        0.4356   799962    3.08%          rho_28 D 103404 103402     59\n",
      " 105054 44522        0.4402    20        0.4494        0.4356   812579    3.08%           rho_0 D 105054 105052     59\n",
      " 106674 44939        0.4402    20        0.4494        0.4356   825846    3.08%           rho_0 D 106674 106672     41\n",
      " 108277 45351        0.4444    13        0.4494        0.4356   839396    3.08%          rho_27 D 108277 108276     43\n",
      "Elapsed time = 52.19 sec. (50805.01 ticks, tree = 14.63 MB, solutions = 8)\n",
      " 109865 46126        0.4375    17        0.4494        0.4356   855039    3.08%           rho_2 N 109865 109864     71\n",
      " 111665 46971        0.4486     7        0.4494        0.4356   868858    3.08%          rho_28 U 111665 111664     62\n",
      " 113177 47651        0.4465    16        0.4494        0.4356   884419    3.08%          rho_24 D 113177 113176     31\n",
      " 114715 48033        0.4420    17        0.4494        0.4356   898042    3.08%           rho_8 D 114715 114713     52\n",
      " 116458 48757        0.4475     8        0.4494        0.4356   912049    3.08%          rho_11 D 116458 116457     48\n",
      " 118406 49672        0.4387    12        0.4494        0.4356   925484    3.08%           rho_2 D 118406 118405     26\n",
      " 120227 50407        0.4456     9        0.4494        0.4356   938917    3.08%          rho_15 D 120227 120225     16\n",
      " 121968 51082        0.4456     9        0.4494        0.4356   952358    3.08%           rho_0 U 121968 121967     25\n",
      " 123803 51987        0.4383    12        0.4494        0.4356   965338    3.08%           rho_2 D 123803 123802     62\n",
      " 125664 52834        cutoff              0.4494        0.4356   978452    3.08%          rho_28 U 125664 125663     61\n",
      "Elapsed time = 61.17 sec. (60345.08 ticks, tree = 16.70 MB, solutions = 8)\n",
      " 127550 53564        0.4433     6        0.4494        0.4356   990962    3.08%          rho_24 D 127550 127549     36\n",
      " 129322 54089        0.4426     9        0.4494        0.4356  1003094    3.08%          rho_15 D 129322 129320     47\n",
      " 131070 54584        0.4424    14        0.4494        0.4356  1015368    3.08%          rho_13 D 131070 131069     77\n",
      " 132764 54994        cutoff              0.4494        0.4356  1027263    3.08%          rho_28 U 132764 132763     67\n",
      " 134517 55470        cutoff              0.4494        0.4356  1039070    3.08%           rho_2 U 134517 134516     36\n",
      " 136206 55905        0.4451     9        0.4494        0.4356  1050927    3.08%          rho_20 D 136206 136204     58\n",
      " 137989 56415        0.4378    14        0.4494        0.4356  1063259    3.08%           rho_5 U 137989 137986     57\n",
      " 139664 56820        0.4414    18        0.4494        0.4356  1075553    3.08%          rho_15 D 139664 139662     60\n",
      " 141340 57214        0.4424    14        0.4494        0.4356  1087858    3.08%          rho_13 D 141340 141338     67\n",
      " 143063 57602        cutoff              0.4494        0.4356  1100189    3.08%          rho_28 U 143063 143062     38\n",
      "Elapsed time = 69.88 sec. (69889.61 ticks, tree = 18.04 MB, solutions = 8)\n",
      " 144793 58058        0.4447    13        0.4494        0.4356  1112750    3.08%          rho_13 N 144793  62765     67\n",
      " 146469 58559        0.4482     7        0.4494        0.4356  1125635    3.08%           rho_8 D 146469 146468     29\n",
      " 148110 59081        0.4402    17        0.4494        0.4356  1138963    3.08%           rho_5 D 148110 148109     68\n",
      " 149844 59587        0.4468     9        0.4494        0.4356  1151681    3.08%           rho_9 D 149844 149842     44\n",
      " 151590 60135        0.4356    14        0.4494        0.4356  1164323    3.08%          rho_12 D 151590 151589     54\n",
      " 153287 60680        0.4476     6        0.4494        0.4356  1177024    3.08%          rho_11 D 153287 153284     70\n",
      " 154992 61221        cutoff              0.4494        0.4356  1189405    3.08%           rho_9 U 154992 154991     78\n",
      " 156693 61772        0.4356     6        0.4494        0.4356  1201946    3.08%          rho_12 U 156693 156680     80\n",
      " 158384 62321        cutoff              0.4494        0.4356  1214401    3.08%          rho_24 U 158384 158382     50\n",
      " 160080 62867        0.4452    11        0.4494        0.4356  1226851    3.08%           rho_2 D 160080 160078     64\n",
      "Elapsed time = 78.53 sec. (79432.22 ticks, tree = 19.55 MB, solutions = 8)\n",
      " 161705 63325        cutoff              0.4494        0.4356  1239393    3.08%          rho_10 D 161705 161704     52\n",
      " 163300 63767        0.4372    19        0.4494        0.4356  1252146    3.08%          rho_13 D 163300 163299     54\n",
      " 164844 64227        0.4395     9        0.4494        0.4356  1266149    3.08%           rho_7 U 164844  59517     33\n",
      " 166491 64887        0.4474    17        0.4494        0.4356  1280042    3.08%          rho_10 D 166491 166490     77\n",
      " 168162 65450        0.4417    11        0.4494        0.4356  1292950    3.08%           rho_2 D 168162 168161     40\n",
      " 169626 65652        0.4389    16        0.4494        0.4356  1306635    3.08%          rho_12 D 169626  25431     44\n",
      " 171140 66222        0.4356     7        0.4494        0.4356  1321521    3.08%          rho_12 D 171140 171139     29\n",
      " 172460 66696        0.4356     6        0.4494        0.4356  1338156    3.08%          rho_12 U 172460 172458     64\n",
      " 174013 67421        0.4396    14        0.4494        0.4356  1351391    3.08%           rho_2 D 174013 174012     80\n",
      " 179887 69279        0.4490     9        0.4494        0.4356  1400595    3.08%          rho_11 N 179887 179886     92\n",
      "Elapsed time = 90.27 sec. (91833.99 ticks, tree = 24.21 MB, solutions = 8)\n",
      " 185734 71203        0.4451    20        0.4494        0.4356  1449531    3.08%          rho_13 D 185734 185733     47\n",
      " 191755 72956        0.4399     7        0.4494        0.4356  1502268    3.08%           rho_5 U 191755   3833     23\n",
      " 197454 75163        0.4356    13        0.4494        0.4356  1556568    3.08%          rho_12 D 197454 197453     32\n",
      " 203490 77088        0.4357     9        0.4494        0.4356  1606578    3.08%           rho_4 D 203490 203489     72\n",
      " 209747 79514        0.4376    16        0.4494        0.4356  1657601    3.08%          rho_15 D 209747 209745     28\n",
      " 216076 82336        0.4490     5        0.4494        0.4356  1710267    3.08%          rho_11 D 216076 216074     68\n",
      " 222270 85087        0.4406    16        0.4494        0.4356  1764847    3.08%          rho_26 D 222270 222269     39\n",
      " 228382 87523        0.4480    11        0.4494        0.4356  1817152    3.08%           rho_2 U 228382 228322     65\n",
      " 234290 89476        0.4482     9        0.4494        0.4356  1868016    3.08%          rho_27 D 234290 234288     42\n",
      " 240428 91701        0.4356     9        0.4494        0.4356  1919115    3.08%           rho_3 D 240428 240427     28\n",
      "Elapsed time = 126.80 sec. (129986.26 ticks, tree = 30.74 MB, solutions = 8)\n",
      " 246371 93825        0.4412    10        0.4494        0.4356  1970644    3.08%          rho_15 D 246371 246369     31\n",
      " 252103 95704        0.4356    12        0.4494        0.4356  2019415    3.08%           rho_0 D 252103 252101     38\n",
      " 258018 97884        0.4392    12        0.4494        0.4356  2068116    3.08%          rho_24 D 258018 258017     84\n",
      " 264007 99989        0.4356     7        0.4494        0.4356  2116794    3.08%           rho_0 D 264007 264005     18\n",
      " 269677 102011        0.4462     7        0.4494        0.4356  2167492    3.08%          rho_25 D 269677 269676     67\n",
      " 275415 103848        0.4366    14        0.4494        0.4356  2217411    3.08%          rho_15 N 275415 275414     58\n",
      " 281362 105873        0.4396    17        0.4494        0.4356  2266943    3.08%           rho_0 D 281362 281360     75\n",
      " 286994 107688        0.4436    11        0.4494        0.4356  2317774    3.08%          rho_15 D 286994 286948     71\n",
      " 292670 109652        0.4367     8        0.4494        0.4356  2369163    3.08%           rho_0 U 292670 292669     57\n",
      " 298311 111492        0.4434    11        0.4494        0.4356  2419382    3.08%           rho_0 D 298311 298309     28\n",
      "Elapsed time = 167.84 sec. (168137.59 ticks, tree = 36.62 MB, solutions = 8)\n",
      " 303877 113233        0.4482     9        0.4494        0.4356  2470116    3.08%           rho_2 U 303877 303869     71\n",
      " 309328 115075        0.4365    20        0.4494        0.4356  2520919    3.08%           rho_2 D 309328 309327     55\n",
      " 314720 116786        0.4356    13        0.4494        0.4356  2571063    3.08%           rho_1 D 314720 208382     35\n",
      " 320311 118552        0.4387    16        0.4494        0.4356  2619535    3.08%           rho_7 D 320311 320310     57\n",
      " 326022 120426        cutoff              0.4494        0.4356  2667234    3.08%          rho_10 U 326022 326021     74\n",
      " 331570 122428        0.4421    11        0.4494        0.4356  2716517    3.08%          rho_24 D 331570 331568     51\n",
      "\n",
      "Gomory fractional cuts applied:  2\n",
      "User cuts applied:  736\n",
      "\n",
      "Root node processing (before b&c):\n",
      "  Real time             =    0.19 sec. (2.60 ticks)\n",
      "Sequential b&c:\n",
      "  Real time             =  199.86 sec. (193217.35 ticks)\n",
      "                          ------------\n",
      "Total (root+branch&cut) =  200.05 sec. (193219.96 ticks)\n",
      "+----------------------------------------------+------------------+-----------+\n",
      "| Pr(Y = +1) = 1.0/(1.0 + exp(-(-3 + score))   |                  |           |\n",
      "| ============================================ | ================ | ========= |\n",
      "| p_arrest>=2                                  |         1 points |   + ..... |\n",
      "| p_felony>=1                                  |         1 points |   + ..... |\n",
      "| p_pending_charge>=1                          |         1 points |   + ..... |\n",
      "| ============================================ | ================ | ========= |\n",
      "| ADD POINTS FROM ROWS 1 to 3                  |            SCORE |   = ..... |\n",
      "+----------------------------------------------+------------------+-----------+\n",
      "model_id, score_thresholds 0 {'rank_abs': [0]}\n",
      "get_disparity_predefined_group()\n"
     ]
    },
    {
     "name": "stderr",
     "output_type": "stream",
     "text": [
      "C:\\Users\\binha\\Documents\\Duke\\Cynthia Research\\psa-analysis - test2\\utils\\fairness_functions.py:82: RuntimeWarning:\n",
      "\n",
      "invalid value encountered in longlong_scalars\n",
      "\n",
      "C:\\Users\\binha\\Documents\\Duke\\Cynthia Research\\psa-analysis - test2\\utils\\fairness_functions.py:95: RuntimeWarning:\n",
      "\n",
      "divide by zero encountered in longlong_scalars\n",
      "\n"
     ]
    },
    {
     "name": "stdout",
     "output_type": "stream",
     "text": [
      "setting c0 = 0.0 to ensure that intercept is not penalized\n",
      "10/01/19 @ 02:30 PM | 1221 rows in lookup table\n",
      "10/01/19 @ 02:30 PM | ------------------------------------------------------------\n",
      "10/01/19 @ 02:30 PM | runnning initialization procedure\n",
      "10/01/19 @ 02:30 PM | ------------------------------------------------------------\n",
      "10/01/19 @ 02:30 PM | CPA produced 2 cuts\n",
      "10/01/19 @ 02:30 PM | running naive rounding on 46 solutions\n",
      "10/01/19 @ 02:30 PM | best objective value: 0.4444\n",
      "10/01/19 @ 02:30 PM | rounding produced 5 integer solutions\n",
      "10/01/19 @ 02:30 PM | best objective value is 0.4522\n",
      "10/01/19 @ 02:30 PM | running sequential rounding on 46 solutions\n",
      "10/01/19 @ 02:30 PM | best objective value: 0.4444\n",
      "10/01/19 @ 02:30 PM | sequential rounding produced 6 integer solutions\n",
      "10/01/19 @ 02:30 PM | best objective value: 0.4476\n",
      "10/01/19 @ 02:30 PM | polishing 11 solutions\n",
      "10/01/19 @ 02:30 PM | best objective value: 0.4476\n",
      "10/01/19 @ 02:30 PM | polishing produced 4 integer solutions\n",
      "10/01/19 @ 02:30 PM | initialization produced 11 feasible solutions\n",
      "10/01/19 @ 02:30 PM | best objective value: 0.4476\n",
      "10/01/19 @ 02:30 PM | ------------------------------------------------------------\n",
      "10/01/19 @ 02:30 PM | completed initialization procedure\n",
      "10/01/19 @ 02:30 PM | ------------------------------------------------------------\n",
      "10/01/19 @ 02:30 PM | 1221 rows in lookup table\n",
      "CPXPARAM_Read_DataCheck                          1\n",
      "CPXPARAM_Threads                                 1\n",
      "CPXPARAM_Parallel                                1\n",
      "CPXPARAM_RandomSeed                              0\n",
      "CPXPARAM_TimeLimit                               200\n",
      "CPXPARAM_MIP_Tolerances_LowerCutoff              0.43375297305972821\n",
      "CPXPARAM_MIP_Tolerances_UpperCutoff              0.44755154610709369\n"
     ]
    },
    {
     "name": "stderr",
     "output_type": "stream",
     "text": [
      "Warning: Control callbacks may disable some MIP features.\n"
     ]
    },
    {
     "name": "stdout",
     "output_type": "stream",
     "text": [
      "Lazy constraint(s) or lazy constraint callback is present.\n",
      "    Disabling dual reductions (CPX_PARAM_REDUCE) in presolve.\n",
      "    Disabling non-linear reductions (CPX_PARAM_PRELINEAR) in presolve.\n",
      "         Disabling repeat represolve because of lazy constraint/incumbent callback.\n",
      "10/01/19 @ 02:30 PM | adding 249 initial cuts\n",
      "1 of 1 MIP starts provided solutions.\n",
      "MIP start 'mip_start_0' defined initial solution with objective 0.4476.\n",
      "Tried aggregator 1 time.\n",
      "Reduced MIP has 30 rows, 60 columns, and 115 nonzeros.\n",
      "Reduced MIP has 28 binaries, 30 generals, 0 SOSs, and 0 indicators.\n",
      "Presolve time = 0.00 sec. (0.06 ticks)\n",
      "Probing time = 0.00 sec. (0.02 ticks)\n",
      "MIP emphasis: balance optimality and feasibility.\n",
      "MIP search method: traditional branch-and-cut.\n",
      "Parallel mode: none, using 1 thread.\n",
      "Root relaxation solution time = 0.00 sec. (0.04 ticks)\n",
      "\n",
      "        Nodes                                         Cuts/\n",
      "   Node  Left     Objective  IInf  Best Integer    Best Bound    ItCnt     Gap         Variable B NodeID Parent  Depth\n",
      "\n",
      "*     0+    0                            0.4476        0.4337             3.09%\n",
      "      0     0        0.4338     1        0.4476        0.4338        1    3.08%\n",
      "      0     0        0.4338     1        0.4476       Cuts: 3        3    3.08%\n",
      "      0     2        0.4338     3        0.4476        0.4338        3    3.08%                        0             0\n",
      "Elapsed time = 0.13 sec. (2.64 ticks, tree = 0.01 MB, solutions = 1)\n",
      "   2685  1363        0.4425     8        0.4476        0.4338     7325    3.08%           rho_3 D   2685   2683     27\n",
      "   4078  2118        0.4338     8        0.4476        0.4338    12678    3.08%          rho_26 D   4078    768     13\n",
      "   5178  2648        0.4361    10        0.4476        0.4338    16904    3.08%           rho_0 D   5178   5176     72\n",
      "   6175  3221        0.4352    12        0.4476        0.4338    20883    3.08%           rho_6 U   6175   6174     35\n",
      "   7127  3686        0.4338     4        0.4476        0.4338    25039    3.08%          rho_12 U   7127   7125     78\n",
      "   8054  4093        0.4338     4        0.4476        0.4338    29097    3.08%          rho_14 U   8054   7656     18\n",
      "   8930  4563        0.4404     8        0.4476        0.4338    32597    3.08%          rho_28 D   8930   8928     39\n",
      "   9758  4895        0.4363     8        0.4476        0.4338    37024    3.08%          rho_12 D   9758   9404     54\n",
      "  10641  5181        0.4338     1        0.4476        0.4338    42169    3.08%          rho_12 U  10641  10639     90\n",
      "  14321  6589        0.4434     9        0.4476        0.4338    61279    3.08%          rho_25 D  14321  14319     60\n",
      "Elapsed time = 4.52 sec. (3103.17 ticks, tree = 1.85 MB, solutions = 1)\n",
      "  17776  7953        cutoff              0.4476        0.4338    79983    3.08%          rho_16 U  17776  17775     69\n",
      "  21127  9239        0.4437     8        0.4476        0.4338    97975    3.08%           rho_0 D  21127  21125     59\n",
      "  24473 10442        cutoff              0.4476        0.4338   113167    3.08%           rho_8 U  24473  24472     45\n",
      "  27460 11166        0.4463     5        0.4476        0.4338   126731    3.08%          rho_28 D  27460  27459     51\n",
      "  30197 12068        0.4349     9        0.4476        0.4338   141959    3.08%          rho_12 D  30197  30196     50\n",
      "  32661 12986        0.4429    15        0.4476        0.4338   160432    3.08%          rho_28 D  32661  32659     61\n",
      "  35327 14030        0.4416     6        0.4476        0.4338   176759    3.08%          rho_13 D  35327  35325     17\n",
      "  38001 15111        0.4442    13        0.4476        0.4338   190719    3.08%          rho_20 D  38001  38000     79\n",
      "  40525 15965        0.4475     7        0.4476        0.4338   206388    3.08%          rho_17 U  40525  40524     49\n",
      "  43084 16949        cutoff              0.4476        0.4338   221327    3.08%           rho_0 U  43084  43083     24\n",
      "Elapsed time = 15.81 sec. (12642.52 ticks, tree = 5.47 MB, solutions = 1)\n",
      "  45759 18089        0.4363    13        0.4476        0.4338   234671    3.08%           rho_6 D  45759  45758     21\n",
      "  48150 19301        0.4367    13        0.4476        0.4338   249473    3.08%           rho_0 D  48150  48148     86\n",
      "  50400 20305        0.4338     2        0.4476        0.4338   264158    3.08%           rho_6 U  50400  50398     62\n",
      "  52642 21319        0.4451    11        0.4476        0.4338   277435    3.08%          rho_11 U  52642  52641     36\n",
      "  54819 22258        0.4338     4        0.4476        0.4338   290983    3.08%           rho_0 D  54819  54817     91\n",
      "  56914 23007        0.4353    15        0.4476        0.4338   304925    3.08%          rho_27 D  56914  37226     93\n",
      "  59081 23900        0.4389    17        0.4476        0.4338   319182    3.08%           rho_3 D  59081  59080     46\n",
      "  61273 24933        cutoff              0.4476        0.4338   332225    3.08%          rho_25 U  61273  61272    112\n",
      "  63400 25465        0.4440    12        0.4476        0.4338   344023    3.08%          rho_11 D  63400  63398     76\n",
      "  65598 26287        0.4462    12        0.4476        0.4338   356495    3.08%          rho_20 D  65598  65597     64\n",
      "Elapsed time = 25.53 sec. (22183.57 ticks, tree = 7.99 MB, solutions = 1)\n",
      "  67681 27206        0.4383    14        0.4476        0.4338   370029    3.08%          rho_12 U  67681  67679     59\n",
      "  69448 28100        0.4378    17        0.4476        0.4338   385765    3.08%          rho_12 D  69448  69447     63\n",
      "  71236 28789        0.4338     9        0.4476        0.4338   400978    3.08%           rho_0 D  71236  71235     80\n",
      "  73342 29573        0.4338    11        0.4476        0.4338   413818    3.08%           rho_0 D  73342  73341     56\n",
      "  75089 30369        0.4464     5        0.4476        0.4338   429088    3.08%          rho_13 D  75089  75088     57\n",
      "  76700 30997        cutoff              0.4476        0.4338   444696    3.08%           rho_0 U  76700  76699     60\n",
      "  78650 31787        cutoff              0.4476        0.4338   457880    3.08%           rho_0 U  78650  78648     78\n",
      "  80760 32675        0.4338     6        0.4476        0.4338   471003    3.08%           rho_0 D  80760  80759     55\n",
      "  83002 33396        cutoff              0.4476        0.4338   482970    3.08%          rho_19 U  83002  83001     65\n",
      "  85117 34209        0.4416    15        0.4476        0.4338   495436    3.08%          rho_28 D  85117  85114     70\n",
      "Elapsed time = 34.47 sec. (31722.73 ticks, tree = 11.55 MB, solutions = 1)\n",
      "  87188 35028        0.4387    13        0.4476        0.4338   508234    3.08%          rho_27 D  87188  87187     65\n",
      "  89147 35983        0.4411     4        0.4476        0.4338   521855    3.08%          rho_12 U  89147  89146     13\n",
      "  91278 36900        0.4472     6        0.4476        0.4338   534974    3.08%           rho_7 U  91278  91277     28\n",
      "  93240 37688        cutoff              0.4476        0.4338   548718    3.08%           rho_0 U  93240  93239     49\n",
      "  95284 38573        cutoff              0.4476        0.4338   561824    3.08%           rho_0 U  95284  95282     68\n",
      "  97649 39556        0.4387    11        0.4476        0.4338   574000    3.08%          rho_28 D  97649  97646     76\n",
      "  99790 40585        0.4397     9        0.4476        0.4338   586827    3.08%          rho_27 D  99790  99789     62\n",
      " 101699 41388        0.4394     7        0.4476        0.4338   600521    3.08%          rho_16 D 101699 101698     45\n",
      " 103636 42079        0.4418    13        0.4476        0.4338   613617    3.08%          rho_12 D 103636 103635     60\n",
      " 105588 42895        0.4338     6        0.4476        0.4338   625865    3.08%           rho_0 D 105588 105586     61\n",
      "Elapsed time = 43.67 sec. (41261.37 ticks, tree = 14.00 MB, solutions = 1)\n",
      " 107391 43616        0.4338     6        0.4476        0.4338   639691    3.08%          rho_12 U 107391 107389     93\n",
      " 109220 44200        0.4409    11        0.4476        0.4338   651658    3.08%          rho_16 D 109220 109218     52\n",
      " 111130 44943        0.4425     9        0.4476        0.4338   665096    3.08%          rho_13 U 111130 111128     88\n",
      " 112993 45714        0.4338     6        0.4476        0.4338   680063    3.08%           rho_0 D 112993 112991     46\n",
      " 114881 46331        0.4338     6        0.4476        0.4338   693263    3.08%           rho_0 D 114881 114868     29\n",
      " 116842 47054        0.4442    11        0.4476        0.4338   705885    3.08%          rho_20 D 116842 116841     72\n",
      " 118792 47748        0.4379     9        0.4476        0.4338   718503    3.08%           rho_0 U 118792 118791     33\n",
      " 120475 48615        0.4448     7        0.4476        0.4338   734030    3.08%          rho_27 D 120475 120474     66\n",
      " 122304 49476        0.4338     9        0.4476        0.4338   746521    3.08%           rho_4 U 122304  22051      8\n",
      " 123906 50472        0.4338    13        0.4476        0.4338   762448    3.08%           rho_0 D 123906 123905     37\n",
      "Elapsed time = 52.59 sec. (50800.87 ticks, tree = 16.08 MB, solutions = 1)\n",
      " 125794 51239        cutoff              0.4476        0.4338   774853    3.08%          rho_11 U 125794 125793     35\n",
      " 127851 51852        cutoff              0.4476        0.4338   786460    3.08%           rho_0 U 127851 127850     82\n",
      " 129890 52468        cutoff              0.4476        0.4338   797900    3.08%          rho_16 U 129890 129889     46\n",
      " 131890 53356        0.4464     6        0.4476        0.4338   809920    3.08%          rho_24 D 131890 131889     46\n",
      " 133890 54366        0.4338     6        0.4476        0.4338   822131    3.08%           rho_0 D 133890 133888     24\n",
      " 135663 55216        0.4436    11        0.4476        0.4338   836084    3.08%           rho_8 D 135663 135661     72\n",
      " 137399 55884        0.4406    17        0.4476        0.4338   849750    3.08%          rho_15 D 137399 137398     51\n",
      " 139150 56527        0.4338     9        0.4476        0.4338   863194    3.08%          rho_12 D 139150 139149     22\n",
      " 141461 57511        0.4404    13        0.4476        0.4338   874288    3.08%          rho_15 D 141461 141460     44\n",
      " 143785 58581        0.4467     7        0.4476        0.4338   885675    3.08%          rho_11 N 143785 143784     93\n",
      "Elapsed time = 61.06 sec. (60341.27 ticks, tree = 18.38 MB, solutions = 1)\n",
      " 145981 59362        0.4396    10        0.4476        0.4338   896195    3.08%          rho_13 D 145981 145979     45\n",
      " 147936 59871        0.4363    13        0.4476        0.4338   907016    3.08%          rho_27 D 147936 147935     73\n",
      " 149604 60147        0.4357    13        0.4476        0.4338   918957    3.08%           rho_4 D 149604 141918     52\n",
      " 151349 60540        0.4357    13        0.4476        0.4338   930649    3.08%           rho_4 D 151349 139932     48\n",
      " 153329 61237        0.4408    13        0.4476        0.4338   942343    3.08%          rho_16 D 153329 153327     50\n",
      " 155514 62000        0.4458     8        0.4476        0.4338   953564    3.08%          rho_18 D 155514 155513     58\n",
      " 157460 62613        0.4338     9        0.4476        0.4338   965167    3.08%          rho_12 D 157460 157459     52\n",
      " 159500 63209        0.4338     8        0.4476        0.4338   976710    3.08%           rho_0 D 159500 159499     51\n",
      " 161466 63854        0.4338     1        0.4476        0.4338   988995    3.08%          rho_12 U 161466 161464     66\n",
      " 163320 64594        0.4338     8        0.4476        0.4338  1001978    3.08%           rho_0 D 163320 163318     56\n",
      "Elapsed time = 69.38 sec. (69884.68 ticks, tree = 20.11 MB, solutions = 1)\n",
      " 165177 65447        0.4350    18        0.4476        0.4338  1015956    3.08%          rho_16 D 165177 165176     58\n",
      " 167081 66230        0.4450    11        0.4476        0.4338  1027546    3.08%           rho_0 U 167081 167080     41\n",
      " 168844 67063        0.4338     9        0.4476        0.4338  1040989    3.08%          rho_12 D 168844 168843     43\n",
      " 170589 67753        0.4384     9        0.4476        0.4338  1054458    3.08%           rho_0 U 170589 170492     55\n",
      " 172373 68518        0.4338    10        0.4476        0.4338  1067314    3.08%          rho_15 N 172373 172372     58\n",
      " 174080 69149        0.4448    10        0.4476        0.4338  1079460    3.08%          rho_16 D 174080 174078     65\n",
      " 175860 69732        0.4464     7        0.4476        0.4338  1089910    3.08%          rho_17 N 175860 175859     82\n",
      " 177626 70182        0.4375    11        0.4476        0.4338  1099582    3.08%           rho_1 D 177626  81156     65\n",
      " 179381 70711        0.4377    13        0.4476        0.4338  1111568    3.08%          rho_12 U 179381 179379     50\n",
      " 181209 71150        cutoff              0.4476        0.4338  1122446    3.08%           rho_7 U 181209 181208     86\n",
      "Elapsed time = 77.95 sec. (79424.78 ticks, tree = 24.82 MB, solutions = 1)\n",
      " 182919 71441        cutoff              0.4476        0.4338  1133812    3.08%           rho_0 U 182919 182918     62\n",
      " 184640 71686        0.4395     8        0.4476        0.4338  1145219    3.08%           rho_1 U 184640 140634     55\n",
      " 186425 72059        0.4338     9        0.4476        0.4338  1156238    3.08%           rho_0 D 186425 186423     64\n",
      " 188260 72591        0.4385    15        0.4476        0.4338  1167514    3.08%          rho_16 D 188260 188258     61\n",
      " 190073 73341        0.4397    17        0.4476        0.4338  1180219    3.08%           rho_1 D 190073 190072     62\n",
      " 191793 74168        cutoff              0.4476        0.4338  1195295    3.08%           rho_0 U 191793 191792     73\n",
      " 193660 75035        0.4410    13        0.4476        0.4338  1208750    3.08%          rho_16 D 193660 193659     84\n",
      " 195376 75805        cutoff              0.4476        0.4338  1222869    3.08%          rho_18 U 195376 195374     68\n",
      " 197248 76606        0.4427     9        0.4476        0.4338  1236242    3.08%           rho_8 D 197248 197246     45\n",
      " 204925 79107        cutoff              0.4476        0.4338  1278935    3.08%           rho_0 U 204925 204870     67\n",
      "Elapsed time = 89.20 sec. (91827.84 ticks, tree = 27.08 MB, solutions = 1)\n",
      " 211974 81600        0.4338     4        0.4476        0.4338  1329357    3.08%          rho_12 U 211974 211972     50\n",
      " 219392 83503        0.4338     7        0.4476        0.4338  1370965    3.08%           rho_5 D 219392 218904     37\n",
      " 226176 85879        0.4338    16        0.4476        0.4338  1418533    3.08%          rho_12 D 226176 226175     25\n",
      " 233307 88541        0.4430    11        0.4476        0.4338  1462693    3.08%          rho_16 N 233307 233306     75\n",
      " 240187 91298        0.4442     6        0.4476        0.4338  1511221    3.08%          rho_16 D 240187 240185     49\n",
      " 247896 93612        0.4472     6        0.4476        0.4338  1552854    3.08%          rho_28 D 247896 247895     62\n",
      " 255080 96020        0.4462     9        0.4476        0.4338  1597404    3.08%          rho_26 D 255080 255079     35\n",
      " 261902 97054        0.4379    11        0.4476        0.4338  1642796    3.08%           rho_3 U 261902 134513     49\n",
      " 268234 98507        0.4416    15        0.4476        0.4338  1692091    3.08%           rho_4 D 268234 268233     23\n",
      " 274435 100560        0.4400    13        0.4476        0.4338  1744642    3.08%          rho_15 D 274435 274433     70\n",
      "Elapsed time = 132.77 sec. (129978.49 ticks, tree = 33.30 MB, solutions = 1)\n",
      " 281077 102530        cutoff              0.4476        0.4338  1789965    3.08%          rho_15 U 281077 281076     96\n",
      " 287618 104839        0.4455    13        0.4476        0.4338  1839624    3.08%          rho_16 N 287618 287617     59\n",
      " 294158 107255        0.4469     6        0.4476        0.4338  1888736    3.08%          rho_17 D 294158 294156     69\n",
      " 300940 109410        0.4442     6        0.4476        0.4338  1936882    3.08%          rho_16 D 300940 300938     54\n",
      " 307634 111709        0.4339    11        0.4476        0.4338  1984398    3.08%          rho_10 N 307634 307359     71\n",
      " 313838 114835        cutoff              0.4476        0.4338  2040096    3.08%          rho_13 U 313838 313837     44\n",
      " 320632 116398        0.4410    11        0.4476        0.4338  2086365    3.08%          rho_28 D 320632 320630     85\n",
      " 327513 118789        0.4382    13        0.4476        0.4338  2135452    3.08%           rho_8 D 327513 327511     94\n",
      " 334435 121492        0.4338     6        0.4476        0.4338  2182788    3.08%          rho_12 U 334435 334433     45\n",
      " 341205 124311        0.4403    11        0.4476        0.4338  2234935    3.08%          rho_27 U 341205 340874     65\n",
      "Elapsed time = 174.83 sec. (168129.06 ticks, tree = 40.10 MB, solutions = 1)\n",
      " 347925 126882        0.4452    13        0.4476        0.4338  2283316    3.08%          rho_16 D 347925 347923     40\n",
      " 354492 129482        0.4338    13        0.4476        0.4338  2330342    3.08%          rho_12 D 354492 354491     79\n",
      " 361080 132133        0.4338    13        0.4476        0.4338  2376243    3.08%           rho_6 D 361080 361079     18\n",
      " 367655 134733        cutoff              0.4476        0.4338  2420303    3.08%          rho_28 U 367655 367654     61\n",
      " 374220 136705        0.4359    15        0.4476        0.4338  2461587    3.08%          rho_15 D 374220 374219     81\n",
      " 380630 139160        0.4463     7        0.4476        0.4338  2507938    3.08%          rho_20 D 380630 380629     48\n",
      "\n",
      "Gomory fractional cuts applied:  2\n",
      "User cuts applied:  702\n",
      "\n",
      "Root node processing (before b&c):\n",
      "  Real time             =    0.13 sec. (2.70 ticks)\n",
      "Sequential b&c:\n",
      "  Real time             =  199.89 sec. (194587.94 ticks)\n",
      "                          ------------\n",
      "Total (root+branch&cut) =  200.02 sec. (194590.64 ticks)\n",
      "+-----------------------------------------------+-------------------+-----------+\n",
      "| Pr(Y = +1) = 1.0/(1.0 + exp(-(-43 + score))   |                   |           |\n",
      "| ============================================= | ================= | ========= |\n",
      "| p_arrest>=1                                   |         20 points |   + ..... |\n",
      "| p_charges>=1                                  |         20 points |   + ..... |\n",
      "| p_arrest>=2                                   |          1 points |   + ..... |\n",
      "| p_felony>=1                                   |          1 points |   + ..... |\n",
      "| p_pending_charge>=1                           |          1 points |   + ..... |\n",
      "| ============================================= | ================= | ========= |\n",
      "| ADD POINTS FROM ROWS 1 to 5                   |             SCORE |   = ..... |\n",
      "+-----------------------------------------------+-------------------+-----------+\n",
      "model_id, score_thresholds 0 {'rank_abs': [0]}\n",
      "get_disparity_predefined_group()\n"
     ]
    },
    {
     "name": "stderr",
     "output_type": "stream",
     "text": [
      "C:\\Users\\binha\\Documents\\Duke\\Cynthia Research\\psa-analysis - test2\\utils\\fairness_functions.py:82: RuntimeWarning:\n",
      "\n",
      "invalid value encountered in longlong_scalars\n",
      "\n",
      "C:\\Users\\binha\\Documents\\Duke\\Cynthia Research\\psa-analysis - test2\\utils\\fairness_functions.py:95: RuntimeWarning:\n",
      "\n",
      "divide by zero encountered in longlong_scalars\n",
      "\n",
      "C:\\Users\\binha\\Documents\\Duke\\Cynthia Research\\psa-analysis - test2\\utils\\fairness_functions.py:86: RuntimeWarning:\n",
      "\n",
      "invalid value encountered in longlong_scalars\n",
      "\n",
      "C:\\Users\\binha\\Documents\\Duke\\Cynthia Research\\psa-analysis - test2\\utils\\fairness_functions.py:95: RuntimeWarning:\n",
      "\n",
      "invalid value encountered in longlong_scalars\n",
      "\n"
     ]
    }
   ],
   "source": [
    "riskslim_summary = slim.risk_cv(X=sub_X, \n",
    "                                Y=sub_Y, \n",
    "                                indicator = indicator,\n",
    "                                y_label='recid_general2', \n",
    "                                max_coef=20, \n",
    "                                max_coef_number=10, \n",
    "                                max_runtime=200, \n",
    "                                c=1e-6, \n",
    "                                seed=816)"
   ]
  },
  {
   "cell_type": "code",
   "execution_count": 21,
   "metadata": {},
   "outputs": [
    {
     "data": {
      "text/plain": [
       "(0.6936290878683427, 0.6936213621447392)"
      ]
     },
     "execution_count": 21,
     "metadata": {},
     "output_type": "execute_result"
    }
   ],
   "source": [
    "np.mean(riskslim_summary['train_auc']), np.mean(riskslim_summary['test_auc'])"
   ]
  },
  {
   "cell_type": "markdown",
   "metadata": {},
   "source": [
    "### Arnold PSA"
   ]
  },
  {
   "cell_type": "code",
   "execution_count": 22,
   "metadata": {},
   "outputs": [],
   "source": [
    "### load data\n",
    "data = pd.read_csv(\"~/Documents/Duke/Cynthia Research/KY-analysis-mytrials/KY Recidivism/KY data/kentucky_data.csv\")\n",
    "X_arnold = data['nca_risk_score_raw'].values\n",
    "Y_arnold = data['recid_F_two_year'].values\n",
    "\n",
    "## set up cross validation\n",
    "cv = KFold(n_splits=5,shuffle=True,random_state=816)\n",
    "arnold_auc = []\n",
    "for train, test in cv.split(X_arnold, Y_arnold):\n",
    "    y_pred_arnold, y_test = X_arnold[test], Y_arnold[test]\n",
    "    arnold_auc.append(roc_auc_score(y_test, y_pred_arnold))"
   ]
  },
  {
   "cell_type": "markdown",
   "metadata": {},
   "source": [
    "### Corel"
   ]
  },
  {
   "cell_type": "code",
   "execution_count": 2,
   "metadata": {},
   "outputs": [],
   "source": [
    "## load stumps data\n",
    "data = pd.read_csv(\"~/Documents/Duke/Cynthia Research/KY-analysis-mytrials/KY Recidivism/KY data/kentucky_stumps.csv\")\n",
    "x, y = data.loc[:,:'current_violence>=1'], data['recid_F_two_year'].values\n",
    "y[y == -1] = 0"
   ]
  },
  {
   "cell_type": "code",
   "execution_count": 3,
   "metadata": {
    "scrolled": true
   },
   "outputs": [
    {
     "name": "stderr",
     "output_type": "stream",
     "text": [
      "C:\\Users\\binha\\Documents\\Duke\\Cynthia Research\\psa-analysis - test2\\utils\\fairness_functions.py:82: RuntimeWarning:\n",
      "\n",
      "invalid value encountered in longlong_scalars\n",
      "\n",
      "C:\\Users\\binha\\Documents\\Duke\\Cynthia Research\\psa-analysis - test2\\utils\\fairness_functions.py:95: RuntimeWarning:\n",
      "\n",
      "divide by zero encountered in longlong_scalars\n",
      "\n",
      "C:\\Users\\binha\\Documents\\Duke\\Cynthia Research\\psa-analysis - test2\\utils\\fairness_functions.py:86: RuntimeWarning:\n",
      "\n",
      "invalid value encountered in longlong_scalars\n",
      "\n",
      "C:\\Users\\binha\\Documents\\Duke\\Cynthia Research\\psa-analysis - test2\\utils\\fairness_functions.py:95: RuntimeWarning:\n",
      "\n",
      "invalid value encountered in longlong_scalars\n",
      "\n",
      "C:\\Users\\binha\\Documents\\Duke\\Cynthia Research\\psa-analysis - test2\\utils\\fairness_functions.py:82: RuntimeWarning:\n",
      "\n",
      "invalid value encountered in longlong_scalars\n",
      "\n",
      "C:\\Users\\binha\\Documents\\Duke\\Cynthia Research\\psa-analysis - test2\\utils\\fairness_functions.py:95: RuntimeWarning:\n",
      "\n",
      "divide by zero encountered in longlong_scalars\n",
      "\n",
      "C:\\Users\\binha\\Documents\\Duke\\Cynthia Research\\psa-analysis - test2\\utils\\fairness_functions.py:82: RuntimeWarning:\n",
      "\n",
      "invalid value encountered in longlong_scalars\n",
      "\n",
      "C:\\Users\\binha\\Documents\\Duke\\Cynthia Research\\psa-analysis - test2\\utils\\fairness_functions.py:95: RuntimeWarning:\n",
      "\n",
      "divide by zero encountered in longlong_scalars\n",
      "\n",
      "C:\\Users\\binha\\Documents\\Duke\\Cynthia Research\\psa-analysis - test2\\utils\\fairness_functions.py:82: RuntimeWarning:\n",
      "\n",
      "invalid value encountered in longlong_scalars\n",
      "\n",
      "C:\\Users\\binha\\Documents\\Duke\\Cynthia Research\\psa-analysis - test2\\utils\\fairness_functions.py:95: RuntimeWarning:\n",
      "\n",
      "divide by zero encountered in longlong_scalars\n",
      "\n",
      "C:\\Users\\binha\\Documents\\Duke\\Cynthia Research\\psa-analysis - test2\\utils\\fairness_functions.py:82: RuntimeWarning:\n",
      "\n",
      "invalid value encountered in longlong_scalars\n",
      "\n",
      "C:\\Users\\binha\\Documents\\Duke\\Cynthia Research\\psa-analysis - test2\\utils\\fairness_functions.py:95: RuntimeWarning:\n",
      "\n",
      "divide by zero encountered in longlong_scalars\n",
      "\n",
      "C:\\Users\\binha\\Documents\\Duke\\Cynthia Research\\psa-analysis - test2\\utils\\fairness_functions.py:86: RuntimeWarning:\n",
      "\n",
      "invalid value encountered in longlong_scalars\n",
      "\n",
      "C:\\Users\\binha\\Documents\\Duke\\Cynthia Research\\psa-analysis - test2\\utils\\fairness_functions.py:95: RuntimeWarning:\n",
      "\n",
      "invalid value encountered in longlong_scalars\n",
      "\n"
     ]
    }
   ],
   "source": [
    "corel_summary = Corel.corel_cv(x, y, max_card=2, c=1e-4, seed=816)"
   ]
  },
  {
   "cell_type": "code",
   "execution_count": 4,
   "metadata": {},
   "outputs": [
    {
     "data": {
      "text/plain": [
       "(0.5309513243937942, 0.0014516682648055745)"
      ]
     },
     "execution_count": 4,
     "metadata": {},
     "output_type": "execute_result"
    }
   ],
   "source": [
    "np.mean(corel_summary['test_auc']), np.std(corel_summary['test_auc'])"
   ]
  },
  {
   "cell_type": "markdown",
   "metadata": {},
   "source": [
    "### Results"
   ]
  },
  {
   "cell_type": "code",
   "execution_count": 26,
   "metadata": {},
   "outputs": [
    {
     "name": "stdout",
     "output_type": "stream",
     "text": [
      "Stored 'summary_F2_KY_interpret' (dict)\n"
     ]
    }
   ],
   "source": [
    "#### save results\n",
    "summary_F2_KY_interpret = {\"CART\": cart_summary,\n",
    "                           \"EBM\": ebm_summary, \n",
    "                           'Lasso Stumps': stump_summary, \n",
    "                           'RiskSLIM': riskslim_summary, \n",
    "                           'Corel': corel_summary,\n",
    "                           'Arnold PSA': arnold_auc}\n",
    "%store summary_F2_KY_interpret"
   ]
  },
  {
   "cell_type": "code",
   "execution_count": 27,
   "metadata": {},
   "outputs": [
    {
     "data": {
      "text/plain": [
       "[['CART', 0.7144786650010507, 0.01573040895327644],\n",
       " ['EBM', 0.7242385095169807, 0.00470822436876317],\n",
       " ['Lasso Stumps', 0.717774385762597, 0.0004684788686560415],\n",
       " ['RiskSLIM', 0.6936213621447392],\n",
       " ['Corel', 0.5309513243937942],\n",
       " ['Arnold PSA', 0.695]]"
      ]
     },
     "execution_count": 27,
     "metadata": {},
     "output_type": "execute_result"
    }
   ],
   "source": [
    "results = [[\"CART\", np.mean(cart_summary['holdout_test_auc']), np.mean(cart_summary['auc_diffs'])],\n",
    "           [\"EBM\", np.mean(ebm_summary['holdout_test_auc']), np.mean(ebm_summary['auc_diffs'])], \n",
    "           [\"Lasso Stumps\", np.mean(stump_summary['holdout_test_auc']), np.mean(stump_summary['auc_diffs'])],\n",
    "           ['RiskSLIM', np.mean(riskslim_summary['test_auc'])],\n",
    "           ['Corel', np.mean(corel_summary['test_auc'])],\n",
    "           ['Arnold PSA', round(np.mean(arnold_auc), 3)]]\n",
    "results"
   ]
  },
  {
   "cell_type": "code",
   "execution_count": 28,
   "metadata": {},
   "outputs": [],
   "source": [
    "auc = [np.mean(cart_summary['holdout_test_auc']), \n",
    "       np.mean(ebm_summary['holdout_test_auc']), \n",
    "       np.mean(stump_summary['holdout_test_auc']), \n",
    "       np.mean(riskslim_summary['test_auc']), \n",
    "       np.mean(corel_summary['test_auc'])]"
   ]
  },
  {
   "cell_type": "code",
   "execution_count": 30,
   "metadata": {},
   "outputs": [],
   "source": [
    "path = \"C:/Users/binha/Documents/Duke/Cynthia Research/KY-analysis-mytrials/KY Recidivism/KY Results/Models/Two Year/\"\n",
    "results = [[\"Felony\", np.str((round(np.mean(cart_summary['holdout_test_auc']), 3))) + \" (\" + np.str(round(np.std(cart_summary['holdout_test_auc']), 3)) + \")\", \n",
    "            np.str(round(np.mean(ebm_summary['holdout_test_auc']),3)) + \" (\" + np.str(round(np.std(ebm_summary['holdout_test_auc']), 3)) + \")\", \n",
    "            np.str(round(np.mean(stump_summary['holdout_test_auc']),3)) + \" (\" + np.str(round(np.std(stump_summary['holdout_test_auc']), 3)) + \")\",             \n",
    "            np.str(round(np.mean(riskslim_summary['test_auc']),3)) + \" (\" + np.str(round(np.std(riskslim_summary['test_auc']), 3)) + \")\", \n",
    "            np.str(round(np.mean(corel_summary['test_auc']),3)) + \" (\" + np.str(round(np.std(corel_summary['test_auc']), 3)) + \")\", \n",
    "            round(np.max(auc) - np.min(auc), 3),\n",
    "            np.str(round(np.mean(arnold_auc), 3)) + \" (\" + np.str(round(np.std(arnold_auc),3)) + \")\"]]\n",
    "with open(path + 'Interpretable Models Summary.csv', 'a') as writeFile:\n",
    "    writer = csv.writer(writeFile)\n",
    "    writer.writerows(results)"
   ]
  },
  {
   "cell_type": "code",
   "execution_count": 31,
   "metadata": {},
   "outputs": [],
   "source": [
    "cart_confusion = cart_summary['confusion_matrix_stats']\n",
    "ebm_confusion = ebm_summary['confusion_matrix_stats']\n",
    "riskslim_confusion = riskslim_summary['confusion_matrix_stats']\n",
    "stumps_confusion = stump_summary['confusion_matrix_stats']\n",
    "corel_confusion = corel_summary['confusion_matrix_stats']\n",
    "#arnold_confusion = cart_summary['confusion_matrix_stats']\n",
    "\n",
    "## save results\n",
    "cart_confusion.to_csv(r'C:/Users/binha/Documents/Duke/Cynthia Research/KY-analysis-mytrials/KY Recidivism/KY Fairness/Two Year/felony/cart_confusion.csv', index=None,header=True)\n",
    "ebm_confusion.to_csv(r'C:/Users/binha/Documents/Duke/Cynthia Research/KY-analysis-mytrials/KY Recidivism/KY Fairness/Two Year/felony/ebm_confusion.csv', index=None,header=True)\n",
    "riskslim_confusion.to_csv(r'C:/Users/binha/Documents/Duke/Cynthia Research/KY-analysis-mytrials/KY Recidivism/KY Fairness/Two Year/felony/riskslim_confusion.csv', index=None,header=True)\n",
    "stumps_confusion.to_csv(r'C:/Users/binha/Documents/Duke/Cynthia Research/KY-analysis-mytrials/KY Recidivism/KY Fairness/Two Year/felony/stumps_confusion.csv', index=None,header=True)\n",
    "corel_confusion.to_csv(r'C:/Users/binha/Documents/Duke/Cynthia Research/KY-analysis-mytrials/KY Recidivism/KY Fairness/Two Year/felony/corel_confusion.csv', index=None,header=True)\n",
    "#arnold_confusion.to_csv(r'C:/Users/binha/Documents/Duke/Cynthia Research/KY-analysis-mytrials/broward/broward models/model fairness/Two Year/general/arnold_confusion.csv', index=None,header=True)"
   ]
  },
  {
   "cell_type": "code",
   "execution_count": 6,
   "metadata": {},
   "outputs": [],
   "source": [
    "corel_confusion = corel_summary['confusion_matrix_stats']\n",
    "corel_confusion.to_csv(r'C:/Users/binha/Documents/Duke/Cynthia Research/KY-analysis-mytrials/KY Recidivism/KY Fairness/Two Year/felony/corel_confusion.csv', index=None,header=True)"
   ]
  }
 ],
 "metadata": {
  "kernelspec": {
   "display_name": "Python 3",
   "language": "python",
   "name": "python3"
  },
  "language_info": {
   "codemirror_mode": {
    "name": "ipython",
    "version": 3
   },
   "file_extension": ".py",
   "mimetype": "text/x-python",
   "name": "python",
   "nbconvert_exporter": "python",
   "pygments_lexer": "ipython3",
   "version": "3.7.4"
  }
 },
 "nbformat": 4,
 "nbformat_minor": 4
}
