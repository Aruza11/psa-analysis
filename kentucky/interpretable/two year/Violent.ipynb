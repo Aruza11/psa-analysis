{
 "cells": [
  {
   "cell_type": "code",
   "execution_count": 1,
   "metadata": {},
   "outputs": [
    {
     "name": "stdout",
     "output_type": "stream",
     "text": [
      "Current working directory is now:  C:\\Users\\binha\\Documents\\Duke\\Cynthia Research\\psa-analysis - test2\n"
     ]
    },
    {
     "name": "stderr",
     "output_type": "stream",
     "text": [
      "C:\\Users\\binha\\Anaconda3\\lib\\site-packages\\sklearn\\externals\\six.py:31: DeprecationWarning:\n",
      "\n",
      "The module is deprecated in version 0.21 and will be removed in version 0.23 since we've dropped support for Python 2.7. Please rely on the official version of six (https://pypi.org/project/six/).\n",
      "\n"
     ]
    }
   ],
   "source": [
    "import os \n",
    "os.chdir('../../../')\n",
    "print(\"Current working directory is now: \", os.getcwd())\n",
    "\n",
    "import pandas as pd \n",
    "import numpy as np\n",
    "import csv\n",
    "import utils.interpretable_functions as interpret\n",
    "import utils.RiskSLIM as slim\n",
    "import utils.stumps as stumps\n",
    "import utils.Corel as Corel\n",
    "\n",
    "from sklearn.linear_model import LogisticRegression\n",
    "from sklearn.model_selection import KFold, GridSearchCV\n",
    "from sklearn.metrics import roc_auc_score\n",
    "\n",
    "# restore saved variables\n",
    "%store -r summary_violent2_KY_interpret"
   ]
  },
  {
   "cell_type": "markdown",
   "metadata": {},
   "source": [
    "### CART & EBM"
   ]
  },
  {
   "cell_type": "code",
   "execution_count": 2,
   "metadata": {},
   "outputs": [],
   "source": [
    "### load data\n",
    "data = pd.read_csv(\"~/Documents/Duke/Cynthia Research/KY-analysis-mytrials/KY Recidivism/KY data/kentucky_data.csv\")\n",
    "data = data.drop(['fta_risk_score_raw','nca_risk_score_raw','pvf_risk_score_raw', \n",
    "                  'fta_calc', 'nca_calc', 'pvf_calc'], axis=1)\n",
    "x = data.loc[:,:'current_violence']\n",
    "y = data['recid_violence_two_year'].values"
   ]
  },
  {
   "cell_type": "code",
   "execution_count": 3,
   "metadata": {
    "scrolled": true
   },
   "outputs": [
    {
     "name": "stdout",
     "output_type": "stream",
     "text": [
      "model_id, score_thresholds 0 {'rank_abs': [563]}\n",
      "get_disparity_predefined_group()\n"
     ]
    },
    {
     "name": "stderr",
     "output_type": "stream",
     "text": [
      "C:\\Users\\binha\\Documents\\Duke\\Cynthia Research\\psa-analysis - test2\\utils\\fairness_functions.py:95: RuntimeWarning:\n",
      "\n",
      "divide by zero encountered in longlong_scalars\n",
      "\n",
      "C:\\Users\\binha\\Documents\\Duke\\Cynthia Research\\psa-analysis - test2\\utils\\fairness_functions.py:82: RuntimeWarning:\n",
      "\n",
      "invalid value encountered in longlong_scalars\n",
      "\n",
      "C:\\Users\\binha\\Documents\\Duke\\Cynthia Research\\psa-analysis - test2\\utils\\fairness_functions.py:86: RuntimeWarning:\n",
      "\n",
      "invalid value encountered in longlong_scalars\n",
      "\n",
      "C:\\Users\\binha\\Documents\\Duke\\Cynthia Research\\psa-analysis - test2\\utils\\fairness_functions.py:95: RuntimeWarning:\n",
      "\n",
      "invalid value encountered in longlong_scalars\n",
      "\n"
     ]
    },
    {
     "name": "stdout",
     "output_type": "stream",
     "text": [
      "model_id, score_thresholds 0 {'rank_abs': [722]}\n",
      "get_disparity_predefined_group()\n"
     ]
    },
    {
     "name": "stderr",
     "output_type": "stream",
     "text": [
      "C:\\Users\\binha\\Documents\\Duke\\Cynthia Research\\psa-analysis - test2\\utils\\fairness_functions.py:82: RuntimeWarning:\n",
      "\n",
      "invalid value encountered in longlong_scalars\n",
      "\n",
      "C:\\Users\\binha\\Documents\\Duke\\Cynthia Research\\psa-analysis - test2\\utils\\fairness_functions.py:86: RuntimeWarning:\n",
      "\n",
      "invalid value encountered in longlong_scalars\n",
      "\n",
      "C:\\Users\\binha\\Documents\\Duke\\Cynthia Research\\psa-analysis - test2\\utils\\fairness_functions.py:95: RuntimeWarning:\n",
      "\n",
      "invalid value encountered in longlong_scalars\n",
      "\n"
     ]
    },
    {
     "name": "stdout",
     "output_type": "stream",
     "text": [
      "model_id, score_thresholds 0 {'rank_abs': [669]}\n",
      "get_disparity_predefined_group()\n"
     ]
    },
    {
     "name": "stderr",
     "output_type": "stream",
     "text": [
      "C:\\Users\\binha\\Documents\\Duke\\Cynthia Research\\psa-analysis - test2\\utils\\fairness_functions.py:95: RuntimeWarning:\n",
      "\n",
      "divide by zero encountered in longlong_scalars\n",
      "\n",
      "C:\\Users\\binha\\Documents\\Duke\\Cynthia Research\\psa-analysis - test2\\utils\\fairness_functions.py:82: RuntimeWarning:\n",
      "\n",
      "invalid value encountered in longlong_scalars\n",
      "\n"
     ]
    },
    {
     "name": "stdout",
     "output_type": "stream",
     "text": [
      "model_id, score_thresholds 0 {'rank_abs': [508]}\n",
      "get_disparity_predefined_group()\n"
     ]
    },
    {
     "name": "stderr",
     "output_type": "stream",
     "text": [
      "C:\\Users\\binha\\Documents\\Duke\\Cynthia Research\\psa-analysis - test2\\utils\\fairness_functions.py:82: RuntimeWarning:\n",
      "\n",
      "invalid value encountered in longlong_scalars\n",
      "\n",
      "C:\\Users\\binha\\Documents\\Duke\\Cynthia Research\\psa-analysis - test2\\utils\\fairness_functions.py:95: RuntimeWarning:\n",
      "\n",
      "divide by zero encountered in longlong_scalars\n",
      "\n"
     ]
    },
    {
     "name": "stdout",
     "output_type": "stream",
     "text": [
      "model_id, score_thresholds 0 {'rank_abs': [514]}\n",
      "get_disparity_predefined_group()\n"
     ]
    },
    {
     "name": "stderr",
     "output_type": "stream",
     "text": [
      "C:\\Users\\binha\\Documents\\Duke\\Cynthia Research\\psa-analysis - test2\\utils\\fairness_functions.py:86: RuntimeWarning:\n",
      "\n",
      "invalid value encountered in longlong_scalars\n",
      "\n",
      "C:\\Users\\binha\\Documents\\Duke\\Cynthia Research\\psa-analysis - test2\\utils\\fairness_functions.py:82: RuntimeWarning:\n",
      "\n",
      "invalid value encountered in longlong_scalars\n",
      "\n",
      "C:\\Users\\binha\\Documents\\Duke\\Cynthia Research\\psa-analysis - test2\\utils\\fairness_functions.py:95: RuntimeWarning:\n",
      "\n",
      "invalid value encountered in longlong_scalars\n",
      "\n",
      "WARNING:interpret.utils.all:Passing a numpy array to schema autogen when it should be dataframe.\n",
      "WARNING:interpret.utils.all:Passing a numpy array to schema autogen when it should be dataframe.\n",
      "WARNING:interpret.utils.all:Passing a numpy array to schema autogen when it should be dataframe.\n",
      "WARNING:interpret.utils.all:Passing a numpy array to schema autogen when it should be dataframe.\n",
      "WARNING:interpret.utils.all:Passing a numpy array to schema autogen when it should be dataframe.\n",
      "WARNING:interpret.utils.all:Passing a numpy array to schema autogen when it should be dataframe.\n",
      "WARNING:interpret.utils.all:Passing a numpy array to schema autogen when it should be dataframe.\n",
      "WARNING:interpret.utils.all:Passing a numpy array to schema autogen when it should be dataframe.\n",
      "WARNING:interpret.utils.all:Passing a numpy array to schema autogen when it should be dataframe.\n",
      "WARNING:interpret.utils.all:Passing a numpy array to schema autogen when it should be dataframe.\n",
      "WARNING:interpret.utils.all:Passing a numpy array to schema autogen when it should be dataframe.\n",
      "WARNING:interpret.utils.all:Passing a numpy array to schema autogen when it should be dataframe.\n"
     ]
    },
    {
     "name": "stdout",
     "output_type": "stream",
     "text": [
      "model_id, score_thresholds 0 {'rank_abs': [512]}\n",
      "get_disparity_predefined_group()\n"
     ]
    },
    {
     "name": "stderr",
     "output_type": "stream",
     "text": [
      "C:\\Users\\binha\\Documents\\Duke\\Cynthia Research\\psa-analysis - test2\\utils\\fairness_functions.py:82: RuntimeWarning:\n",
      "\n",
      "invalid value encountered in longlong_scalars\n",
      "\n",
      "C:\\Users\\binha\\Documents\\Duke\\Cynthia Research\\psa-analysis - test2\\utils\\fairness_functions.py:95: RuntimeWarning:\n",
      "\n",
      "divide by zero encountered in longlong_scalars\n",
      "\n",
      "C:\\Users\\binha\\Documents\\Duke\\Cynthia Research\\psa-analysis - test2\\utils\\fairness_functions.py:86: RuntimeWarning:\n",
      "\n",
      "invalid value encountered in longlong_scalars\n",
      "\n",
      "C:\\Users\\binha\\Documents\\Duke\\Cynthia Research\\psa-analysis - test2\\utils\\fairness_functions.py:95: RuntimeWarning:\n",
      "\n",
      "invalid value encountered in longlong_scalars\n",
      "\n",
      "WARNING:interpret.utils.all:Passing a numpy array to schema autogen when it should be dataframe.\n",
      "WARNING:interpret.utils.all:Passing a numpy array to schema autogen when it should be dataframe.\n",
      "WARNING:interpret.utils.all:Passing a numpy array to schema autogen when it should be dataframe.\n",
      "WARNING:interpret.utils.all:Passing a numpy array to schema autogen when it should be dataframe.\n",
      "WARNING:interpret.utils.all:Passing a numpy array to schema autogen when it should be dataframe.\n",
      "WARNING:interpret.utils.all:Passing a numpy array to schema autogen when it should be dataframe.\n",
      "WARNING:interpret.utils.all:Passing a numpy array to schema autogen when it should be dataframe.\n",
      "WARNING:interpret.utils.all:Passing a numpy array to schema autogen when it should be dataframe.\n",
      "WARNING:interpret.utils.all:Passing a numpy array to schema autogen when it should be dataframe.\n",
      "WARNING:interpret.utils.all:Passing a numpy array to schema autogen when it should be dataframe.\n",
      "WARNING:interpret.utils.all:Passing a numpy array to schema autogen when it should be dataframe.\n",
      "WARNING:interpret.utils.all:Passing a numpy array to schema autogen when it should be dataframe.\n"
     ]
    },
    {
     "name": "stdout",
     "output_type": "stream",
     "text": [
      "model_id, score_thresholds 0 {'rank_abs': [471]}\n",
      "get_disparity_predefined_group()\n"
     ]
    },
    {
     "name": "stderr",
     "output_type": "stream",
     "text": [
      "C:\\Users\\binha\\Documents\\Duke\\Cynthia Research\\psa-analysis - test2\\utils\\fairness_functions.py:82: RuntimeWarning:\n",
      "\n",
      "invalid value encountered in longlong_scalars\n",
      "\n",
      "C:\\Users\\binha\\Documents\\Duke\\Cynthia Research\\psa-analysis - test2\\utils\\fairness_functions.py:86: RuntimeWarning:\n",
      "\n",
      "invalid value encountered in longlong_scalars\n",
      "\n",
      "C:\\Users\\binha\\Documents\\Duke\\Cynthia Research\\psa-analysis - test2\\utils\\fairness_functions.py:95: RuntimeWarning:\n",
      "\n",
      "invalid value encountered in longlong_scalars\n",
      "\n",
      "C:\\Users\\binha\\Documents\\Duke\\Cynthia Research\\psa-analysis - test2\\utils\\fairness_functions.py:95: RuntimeWarning:\n",
      "\n",
      "divide by zero encountered in longlong_scalars\n",
      "\n",
      "WARNING:interpret.utils.all:Passing a numpy array to schema autogen when it should be dataframe.\n",
      "WARNING:interpret.utils.all:Passing a numpy array to schema autogen when it should be dataframe.\n",
      "WARNING:interpret.utils.all:Passing a numpy array to schema autogen when it should be dataframe.\n",
      "WARNING:interpret.utils.all:Passing a numpy array to schema autogen when it should be dataframe.\n",
      "WARNING:interpret.utils.all:Passing a numpy array to schema autogen when it should be dataframe.\n",
      "WARNING:interpret.utils.all:Passing a numpy array to schema autogen when it should be dataframe.\n",
      "WARNING:interpret.utils.all:Passing a numpy array to schema autogen when it should be dataframe.\n",
      "WARNING:interpret.utils.all:Passing a numpy array to schema autogen when it should be dataframe.\n",
      "WARNING:interpret.utils.all:Passing a numpy array to schema autogen when it should be dataframe.\n",
      "WARNING:interpret.utils.all:Passing a numpy array to schema autogen when it should be dataframe.\n",
      "WARNING:interpret.utils.all:Passing a numpy array to schema autogen when it should be dataframe.\n",
      "WARNING:interpret.utils.all:Passing a numpy array to schema autogen when it should be dataframe.\n"
     ]
    },
    {
     "name": "stdout",
     "output_type": "stream",
     "text": [
      "model_id, score_thresholds 0 {'rank_abs': [549]}\n",
      "get_disparity_predefined_group()\n"
     ]
    },
    {
     "name": "stderr",
     "output_type": "stream",
     "text": [
      "C:\\Users\\binha\\Documents\\Duke\\Cynthia Research\\psa-analysis - test2\\utils\\fairness_functions.py:95: RuntimeWarning:\n",
      "\n",
      "divide by zero encountered in longlong_scalars\n",
      "\n",
      "C:\\Users\\binha\\Documents\\Duke\\Cynthia Research\\psa-analysis - test2\\utils\\fairness_functions.py:82: RuntimeWarning:\n",
      "\n",
      "invalid value encountered in longlong_scalars\n",
      "\n",
      "WARNING:interpret.utils.all:Passing a numpy array to schema autogen when it should be dataframe.\n",
      "WARNING:interpret.utils.all:Passing a numpy array to schema autogen when it should be dataframe.\n",
      "WARNING:interpret.utils.all:Passing a numpy array to schema autogen when it should be dataframe.\n",
      "WARNING:interpret.utils.all:Passing a numpy array to schema autogen when it should be dataframe.\n",
      "WARNING:interpret.utils.all:Passing a numpy array to schema autogen when it should be dataframe.\n",
      "WARNING:interpret.utils.all:Passing a numpy array to schema autogen when it should be dataframe.\n",
      "WARNING:interpret.utils.all:Passing a numpy array to schema autogen when it should be dataframe.\n",
      "WARNING:interpret.utils.all:Passing a numpy array to schema autogen when it should be dataframe.\n",
      "WARNING:interpret.utils.all:Passing a numpy array to schema autogen when it should be dataframe.\n",
      "WARNING:interpret.utils.all:Passing a numpy array to schema autogen when it should be dataframe.\n",
      "WARNING:interpret.utils.all:Passing a numpy array to schema autogen when it should be dataframe.\n",
      "WARNING:interpret.utils.all:Passing a numpy array to schema autogen when it should be dataframe.\n"
     ]
    },
    {
     "name": "stdout",
     "output_type": "stream",
     "text": [
      "model_id, score_thresholds 0 {'rank_abs': [482]}\n",
      "get_disparity_predefined_group()\n"
     ]
    },
    {
     "name": "stderr",
     "output_type": "stream",
     "text": [
      "C:\\Users\\binha\\Documents\\Duke\\Cynthia Research\\psa-analysis - test2\\utils\\fairness_functions.py:82: RuntimeWarning:\n",
      "\n",
      "invalid value encountered in longlong_scalars\n",
      "\n",
      "C:\\Users\\binha\\Documents\\Duke\\Cynthia Research\\psa-analysis - test2\\utils\\fairness_functions.py:95: RuntimeWarning:\n",
      "\n",
      "divide by zero encountered in longlong_scalars\n",
      "\n",
      "WARNING:interpret.utils.all:Passing a numpy array to schema autogen when it should be dataframe.\n",
      "WARNING:interpret.utils.all:Passing a numpy array to schema autogen when it should be dataframe.\n",
      "WARNING:interpret.utils.all:Passing a numpy array to schema autogen when it should be dataframe.\n",
      "WARNING:interpret.utils.all:Passing a numpy array to schema autogen when it should be dataframe.\n",
      "WARNING:interpret.utils.all:Passing a numpy array to schema autogen when it should be dataframe.\n",
      "WARNING:interpret.utils.all:Passing a numpy array to schema autogen when it should be dataframe.\n",
      "WARNING:interpret.utils.all:Passing a numpy array to schema autogen when it should be dataframe.\n",
      "WARNING:interpret.utils.all:Passing a numpy array to schema autogen when it should be dataframe.\n",
      "WARNING:interpret.utils.all:Passing a numpy array to schema autogen when it should be dataframe.\n",
      "WARNING:interpret.utils.all:Passing a numpy array to schema autogen when it should be dataframe.\n",
      "WARNING:interpret.utils.all:Passing a numpy array to schema autogen when it should be dataframe.\n",
      "WARNING:interpret.utils.all:Passing a numpy array to schema autogen when it should be dataframe.\n"
     ]
    },
    {
     "name": "stdout",
     "output_type": "stream",
     "text": [
      "model_id, score_thresholds 0 {'rank_abs': [475]}\n",
      "get_disparity_predefined_group()\n"
     ]
    },
    {
     "name": "stderr",
     "output_type": "stream",
     "text": [
      "C:\\Users\\binha\\Documents\\Duke\\Cynthia Research\\psa-analysis - test2\\utils\\fairness_functions.py:86: RuntimeWarning:\n",
      "\n",
      "invalid value encountered in longlong_scalars\n",
      "\n",
      "C:\\Users\\binha\\Documents\\Duke\\Cynthia Research\\psa-analysis - test2\\utils\\fairness_functions.py:82: RuntimeWarning:\n",
      "\n",
      "invalid value encountered in longlong_scalars\n",
      "\n",
      "C:\\Users\\binha\\Documents\\Duke\\Cynthia Research\\psa-analysis - test2\\utils\\fairness_functions.py:95: RuntimeWarning:\n",
      "\n",
      "divide by zero encountered in longlong_scalars\n",
      "\n",
      "C:\\Users\\binha\\Documents\\Duke\\Cynthia Research\\psa-analysis - test2\\utils\\fairness_functions.py:95: RuntimeWarning:\n",
      "\n",
      "invalid value encountered in longlong_scalars\n",
      "\n"
     ]
    }
   ],
   "source": [
    "#### CART\n",
    "depth = [8,9,10]\n",
    "cart_summary = interpret.CART(X=x,\n",
    "                         Y=y,\n",
    "                         depth=depth,\n",
    "                         seed=816)\n",
    "\n",
    "#### EBM\n",
    "estimators = [40]\n",
    "depth = [2]\n",
    "learning_rate = [0.5]\n",
    "ebm_summary = interpret.EBM(X=x,\n",
    "                       Y=y,\n",
    "                       learning_rate=learning_rate,\n",
    "                       depth=depth,\n",
    "                       estimators=estimators,\n",
    "                       seed =816)"
   ]
  },
  {
   "cell_type": "code",
   "execution_count": 6,
   "metadata": {},
   "outputs": [
    {
     "data": {
      "text/plain": [
       "(0.7994802152706869, 0.027279359104736778)"
      ]
     },
     "execution_count": 6,
     "metadata": {},
     "output_type": "execute_result"
    }
   ],
   "source": [
    "np.mean(cart_summary['holdout_test_auc']), np.mean(cart_summary['auc_diffs'])"
   ]
  },
  {
   "cell_type": "code",
   "execution_count": 7,
   "metadata": {},
   "outputs": [
    {
     "data": {
      "text/plain": [
       "(0.8107425002482795, 0.005074208599027274)"
      ]
     },
     "execution_count": 7,
     "metadata": {},
     "output_type": "execute_result"
    }
   ],
   "source": [
    "np.mean(ebm_summary['holdout_test_auc']), np.mean(ebm_summary['auc_diffs'])"
   ]
  },
  {
   "cell_type": "markdown",
   "metadata": {},
   "source": [
    "## Lasso Stumps"
   ]
  },
  {
   "cell_type": "code",
   "execution_count": 8,
   "metadata": {},
   "outputs": [],
   "source": [
    "## load whole data\n",
    "data = pd.read_csv(\"~/Documents/Duke/Cynthia Research/KY-analysis-mytrials/KY Recidivism/KY data/kentucky_stumps.csv\")\n",
    "X_stumps, Y_stumps = data.loc[:,:'current_violence>=1'], data['recid_violence_two_year'].values\n",
    "Y_stumps[Y_stumps == -1] = 0\n",
    "cols = X_stumps.columns[3:]\n",
    "\n",
    "## load train & test data\n",
    "train_stumps = pd.read_csv(\"~/Documents/Duke/Cynthia Research/KY-analysis-mytrials/KY Recidivism/KY data/kentucky_train_stumps.csv\")\n",
    "test_stumps = pd.read_csv(\"~/Documents/Duke/Cynthia Research/KY-analysis-mytrials/KY Recidivism/KY data/kentucky_test_stumps.csv\")\n",
    "X_train_stumps, Y_train_stumps = train_stumps.loc[:,:'current_violence>=1'], train_stumps['recid_violence_two_year'].values\n",
    "X_test_stumps, Y_test_stumps = test_stumps.loc[:,:'current_violence>=1'], test_stumps['recid_violence_two_year'].values\n",
    "Y_train_stumps[Y_train_stumps == -1] = 0\n",
    "Y_test_stumps[Y_test_stumps == -1] = 0"
   ]
  },
  {
   "cell_type": "markdown",
   "metadata": {},
   "source": [
    "#### Nested Cross Validation"
   ]
  },
  {
   "cell_type": "code",
   "execution_count": 9,
   "metadata": {
    "scrolled": true
   },
   "outputs": [
    {
     "name": "stdout",
     "output_type": "stream",
     "text": [
      "model_id, score_thresholds 0 {'rank_abs': [6313]}\n",
      "get_disparity_predefined_group()\n",
      "model_id, score_thresholds 0 {'rank_abs': [7361]}\n",
      "get_disparity_predefined_group()\n",
      "model_id, score_thresholds 0 {'rank_abs': [7026]}\n",
      "get_disparity_predefined_group()\n"
     ]
    },
    {
     "name": "stderr",
     "output_type": "stream",
     "text": [
      "C:\\Users\\binha\\Documents\\Duke\\Cynthia Research\\psa-analysis - test2\\utils\\fairness_functions.py:86: RuntimeWarning:\n",
      "\n",
      "invalid value encountered in longlong_scalars\n",
      "\n"
     ]
    },
    {
     "name": "stdout",
     "output_type": "stream",
     "text": [
      "model_id, score_thresholds 0 {'rank_abs': [7134]}\n",
      "get_disparity_predefined_group()\n",
      "model_id, score_thresholds 0 {'rank_abs': [5890]}\n",
      "get_disparity_predefined_group()\n"
     ]
    },
    {
     "name": "stderr",
     "output_type": "stream",
     "text": [
      "C:\\Users\\binha\\Documents\\Duke\\Cynthia Research\\psa-analysis - test2\\utils\\fairness_functions.py:82: RuntimeWarning:\n",
      "\n",
      "invalid value encountered in longlong_scalars\n",
      "\n",
      "C:\\Users\\binha\\Documents\\Duke\\Cynthia Research\\psa-analysis - test2\\utils\\fairness_functions.py:86: RuntimeWarning:\n",
      "\n",
      "invalid value encountered in longlong_scalars\n",
      "\n",
      "C:\\Users\\binha\\Documents\\Duke\\Cynthia Research\\psa-analysis - test2\\utils\\fairness_functions.py:95: RuntimeWarning:\n",
      "\n",
      "invalid value encountered in longlong_scalars\n",
      "\n"
     ]
    }
   ],
   "source": [
    "stump_summary = stumps.stump_cv(X = X_stumps, \n",
    "                                Y = Y_stumps, \n",
    "                                columns=cols, \n",
    "                                c_grid={'C': [0.001, 0.002, 0.003]}, \n",
    "                                seed = 816)"
   ]
  },
  {
   "cell_type": "code",
   "execution_count": 10,
   "metadata": {},
   "outputs": [
    {
     "data": {
      "text/plain": [
       "([{'C': 0.003}, {'C': 0.003}, {'C': 0.003}, {'C': 0.003}, {'C': 0.003}],\n",
       " 0.8038160125077441,\n",
       " 0.0010226178716950195)"
      ]
     },
     "execution_count": 10,
     "metadata": {},
     "output_type": "execute_result"
    }
   ],
   "source": [
    "stump_summary['best_params'], np.mean(stump_summary['holdout_test_auc']), np.mean(stump_summary['auc_diffs'])"
   ]
  },
  {
   "cell_type": "markdown",
   "metadata": {},
   "source": [
    "##### Best Stump Model"
   ]
  },
  {
   "cell_type": "code",
   "execution_count": 11,
   "metadata": {},
   "outputs": [
    {
     "data": {
      "text/plain": [
       "16"
      ]
     },
     "execution_count": 11,
     "metadata": {},
     "output_type": "execute_result"
    }
   ],
   "source": [
    "best_stump_model = stumps.stump_model(X_train_stumps, \n",
    "                                      Y_train_stumps, \n",
    "                                      X_test_stumps, \n",
    "                                      Y_test_stumps, \n",
    "                                      c=0.003, \n",
    "                                      columns=cols, \n",
    "                                      seed=816)\n",
    "len(best_stump_model['features'])"
   ]
  },
  {
   "cell_type": "markdown",
   "metadata": {},
   "source": [
    "##### Prediction Table"
   ]
  },
  {
   "cell_type": "code",
   "execution_count": 12,
   "metadata": {
    "scrolled": true
   },
   "outputs": [
    {
     "name": "stdout",
     "output_type": "stream",
     "text": [
      "\begin{tabular}{|l|r|r|} \\hline\n",
      "1. sex>=1 & 40.9 & +... \\ \\hline\n",
      "2. age_at_current_charge<=24 & 9.6 & +... \\ \\hline\n",
      "3. age_at_current_charge<=30 & 9.9 & +... \\ \\hline\n",
      "4. age_at_current_charge<=38 & 5.4 & +... \\ \\hline\n",
      "5. p_arrest>=1 & 45.7 & -... \\ \\hline\n",
      "6. p_arrest>=2 & 24.9 & +... \\ \\hline\n",
      "7. p_arrest>=3 & 25.2 & +... \\ \\hline\n",
      "8. p_charges>=1 & 44.7 & -... \\ \\hline\n",
      "9. p_violence>=1 & 207.9 & +... \\ \\hline\n",
      "10. p_misdemeanor>=3 & 2.9 & +... \\ \\hline\n",
      "11. p_drug>=1 & 2.2 & -... \\ \\hline\n",
      "12. p_prison>=1 & 10.4 & -... \\ \\hline\n",
      "13. p_jail30>=1 & 21.7 & +... \\ \\hline\n",
      "14. p_pending_charge>=1 & 26.1 & +... \\ \\hline\n",
      "15. p_probation>=1 & 3.9 & +... \\ \\hline\n",
      "16. one_year>=1 & 7.5 & +... \\ \\hline\n",
      "17. Intercept & -0.587 & +... \\ \\hline\n",
      "\textbf{ADD POINTS FROM ROWS 1 TO 17}  &  \textbf{SCORE} & = ..... \\ \\hline\n",
      "\\multicolumn{3}{l}{Pr(Y = 1) = exp(score/100) / (1 + exp(score/100))} \\ \\hline\n"
     ]
    }
   ],
   "source": [
    "stumps.latex_stump_table(best_stump_model['coefs'], \n",
    "                         best_stump_model['features'], \n",
    "                         best_stump_model['intercept'], \n",
    "                         best_stump_model['dictionary'])"
   ]
  },
  {
   "cell_type": "markdown",
   "metadata": {},
   "source": [
    "##### Stumps Visualizations"
   ]
  },
  {
   "cell_type": "code",
   "execution_count": 13,
   "metadata": {
    "scrolled": true
   },
   "outputs": [
    {
     "data": {
      "image/png": "[encoded data removed]",
      "text/plain": [
       "<Figure size 288x216 with 1 Axes>"
      ]
     },
     "metadata": {
      "needs_background": "light"
     },
     "output_type": "display_data"
    },
    {
     "data": {
      "image/png": "[encoded data removed]",
      "text/plain": [
       "<Figure size 288x216 with 1 Axes>"
      ]
     },
     "metadata": {
      "needs_background": "light"
     },
     "output_type": "display_data"
    },
    {
     "data": {
      "image/png": "[encoded data removed]",
      "text/plain": [
       "<Figure size 288x216 with 1 Axes>"
      ]
     },
     "metadata": {
      "needs_background": "light"
     },
     "output_type": "display_data"
    },
    {
     "data": {
      "image/png": "[encoded data removed]",
      "text/plain": [
       "<Figure size 288x216 with 1 Axes>"
      ]
     },
     "metadata": {
      "needs_background": "light"
     },
     "output_type": "display_data"
    },
    {
     "data": {
      "image/png": "[encoded data removed]",
      "text/plain": [
       "<Figure size 288x216 with 1 Axes>"
      ]
     },
     "metadata": {
      "needs_background": "light"
     },
     "output_type": "display_data"
    },
    {
     "data": {
      "image/png": "[encoded data removed]",
      "text/plain": [
       "<Figure size 288x216 with 1 Axes>"
      ]
     },
     "metadata": {
      "needs_background": "light"
     },
     "output_type": "display_data"
    },
    {
     "data": {
      "image/png": "[encoded data removed]",
      "text/plain": [
       "<Figure size 288x216 with 1 Axes>"
      ]
     },
     "metadata": {
      "needs_background": "light"
     },
     "output_type": "display_data"
    },
    {
     "data": {
      "image/png": "[encoded data removed]",
      "text/plain": [
       "<Figure size 288x216 with 1 Axes>"
      ]
     },
     "metadata": {
      "needs_background": "light"
     },
     "output_type": "display_data"
    },
    {
     "data": {
      "image/png": "[encoded data removed]",
      "text/plain": [
       "<Figure size 288x216 with 1 Axes>"
      ]
     },
     "metadata": {
      "needs_background": "light"
     },
     "output_type": "display_data"
    },
    {
     "data": {
      "image/png": "[encoded data removed]",
      "text/plain": [
       "<Figure size 288x216 with 1 Axes>"
      ]
     },
     "metadata": {
      "needs_background": "light"
     },
     "output_type": "display_data"
    },
    {
     "data": {
      "image/png": "[encoded data removed]",
      "text/plain": [
       "<Figure size 288x216 with 1 Axes>"
      ]
     },
     "metadata": {
      "needs_background": "light"
     },
     "output_type": "display_data"
    },
    {
     "data": {
      "image/png": "[encoded data removed]",
      "text/plain": [
       "<Figure size 288x216 with 1 Axes>"
      ]
     },
     "metadata": {
      "needs_background": "light"
     },
     "output_type": "display_data"
    }
   ],
   "source": [
    "stumps.stump_plots(best_stump_model['features'], best_stump_model['coefs'], indicator=\"KY\")"
   ]
  },
  {
   "cell_type": "markdown",
   "metadata": {},
   "source": [
    "## RiskSLIM"
   ]
  },
  {
   "cell_type": "code",
   "execution_count": 14,
   "metadata": {},
   "outputs": [],
   "source": [
    "## load stumps data\n",
    "data = pd.read_csv(\"~/Documents/Duke/Cynthia Research/KY-analysis-mytrials/KY Recidivism/KY data/kentucky_stumps.csv\")\n",
    "x, y = data.loc[:,:'current_violence>=1'], data['recid_violence_two_year'].values\n",
    "cols = x.columns[3:]"
   ]
  },
  {
   "cell_type": "code",
   "execution_count": 15,
   "metadata": {},
   "outputs": [
    {
     "data": {
      "text/plain": [
       "21"
      ]
     },
     "execution_count": 15,
     "metadata": {},
     "output_type": "execute_result"
    }
   ],
   "source": [
    "## train on best param chosen by Lasso Stumps from above\n",
    "x_train = x.copy().drop(['race', 'person_id', 'screening_date'], axis=1)\n",
    "lasso = LogisticRegression(class_weight='balanced', solver='liblinear', penalty='l1', C=0.003, random_state=816).fit(x_train,y)\n",
    "selected_features = cols[lasso.coef_[0] != 0].tolist()\n",
    "len(selected_features)"
   ]
  },
  {
   "cell_type": "code",
   "execution_count": 16,
   "metadata": {},
   "outputs": [],
   "source": [
    "### Subset features\n",
    "if 'sex>=1' in selected_features:\n",
    "    selected_features = ['recid_violence_two_year', 'person_id', 'screening_date', 'race'] + selected_features\n",
    "    indicator = 1\n",
    "else:\n",
    "    selected_features = ['recid_violence_two_year', 'person_id', 'screening_date', 'race', 'sex>=1'] + selected_features\n",
    "    indicator = 0\n",
    "\n",
    "sub_data = data[selected_features]\n",
    "sub_X, sub_Y = sub_data.iloc[:,1:], sub_data.iloc[:,0].values\n",
    "sub_X.insert(0, '(Intercept)', 1)"
   ]
  },
  {
   "cell_type": "code",
   "execution_count": 17,
   "metadata": {
    "scrolled": true
   },
   "outputs": [
    {
     "name": "stdout",
     "output_type": "stream",
     "text": [
      "setting c0 = 0.0 to ensure that intercept is not penalized\n",
      "10/01/19 @ 01:48 PM | 941 rows in lookup table\n",
      "10/01/19 @ 01:48 PM | ------------------------------------------------------------\n",
      "10/01/19 @ 01:48 PM | runnning initialization procedure\n",
      "10/01/19 @ 01:48 PM | ------------------------------------------------------------\n",
      "10/01/19 @ 01:48 PM | CPA produced 2 cuts\n",
      "10/01/19 @ 01:48 PM | running naive rounding on 61 solutions\n",
      "10/01/19 @ 01:48 PM | best objective value: 0.2366\n",
      "10/01/19 @ 01:48 PM | rounding produced 5 integer solutions\n",
      "10/01/19 @ 01:48 PM | best objective value is 0.2409\n",
      "10/01/19 @ 01:48 PM | running sequential rounding on 61 solutions\n",
      "10/01/19 @ 01:48 PM | best objective value: 0.2366\n",
      "10/01/19 @ 01:48 PM | sequential rounding produced 6 integer solutions\n",
      "10/01/19 @ 01:48 PM | best objective value: 0.2409\n",
      "10/01/19 @ 01:48 PM | polishing 11 solutions\n",
      "10/01/19 @ 01:48 PM | best objective value: 0.2409\n",
      "10/01/19 @ 01:48 PM | polishing produced 5 integer solutions\n",
      "10/01/19 @ 01:48 PM | initialization produced 9 feasible solutions\n",
      "10/01/19 @ 01:48 PM | best objective value: 0.2409\n",
      "10/01/19 @ 01:48 PM | ------------------------------------------------------------\n",
      "10/01/19 @ 01:48 PM | completed initialization procedure\n",
      "10/01/19 @ 01:48 PM | ------------------------------------------------------------\n",
      "10/01/19 @ 01:48 PM | 941 rows in lookup table\n",
      "CPXPARAM_Read_DataCheck                          1\n",
      "CPXPARAM_Threads                                 1\n",
      "CPXPARAM_Parallel                                1\n",
      "CPXPARAM_RandomSeed                              0\n",
      "CPXPARAM_TimeLimit                               200\n",
      "CPXPARAM_MIP_Tolerances_LowerCutoff              0.23492571984098942\n",
      "CPXPARAM_MIP_Tolerances_UpperCutoff              0.24086693972913101\n"
     ]
    },
    {
     "name": "stderr",
     "output_type": "stream",
     "text": [
      "Warning: Control callbacks may disable some MIP features.\n"
     ]
    },
    {
     "name": "stdout",
     "output_type": "stream",
     "text": [
      "Lazy constraint(s) or lazy constraint callback is present.\n",
      "    Disabling dual reductions (CPX_PARAM_REDUCE) in presolve.\n",
      "    Disabling non-linear reductions (CPX_PARAM_PRELINEAR) in presolve.\n",
      "         Disabling repeat represolve because of lazy constraint/incumbent callback.\n",
      "10/01/19 @ 01:48 PM | adding 249 initial cuts\n",
      "1 of 1 MIP starts provided solutions.\n",
      "MIP start 'mip_start_0' defined initial solution with objective 0.2409.\n",
      "Tried aggregator 1 time.\n",
      "Reduced MIP has 23 rows, 46 columns, and 87 nonzeros.\n",
      "Reduced MIP has 21 binaries, 23 generals, 0 SOSs, and 0 indicators.\n",
      "Presolve time = 0.02 sec. (0.05 ticks)\n",
      "Probing time = 0.00 sec. (0.01 ticks)\n",
      "MIP emphasis: balance optimality and feasibility.\n",
      "MIP search method: traditional branch-and-cut.\n",
      "Parallel mode: none, using 1 thread.\n",
      "Root relaxation solution time = 0.00 sec. (0.03 ticks)\n",
      "\n",
      "        Nodes                                         Cuts/\n",
      "   Node  Left     Objective  IInf  Best Integer    Best Bound    ItCnt     Gap         Variable B NodeID Parent  Depth\n",
      "\n",
      "*     0+    0                            0.2409        0.2349             2.47%\n",
      "      0     0        0.2349     1        0.2409        0.2349        1    2.47%\n",
      "      0     0        0.2349     2        0.2409       Cuts: 2        2    2.47%\n",
      "      0     0        0.2349     2        0.2409    MIRcuts: 1        3    2.47%\n",
      "      0     2        0.2349     5        0.2409        0.2349        3    2.47%                        0             0\n",
      "Elapsed time = 0.19 sec. (1.56 ticks, tree = 0.01 MB, solutions = 1)\n",
      "   3160  1699        0.2405     5        0.2409        0.2349    11921    2.47%          rho_18 D   3160   3159     39\n",
      "   5340  2610        0.2372     7        0.2409        0.2349    22570    2.47%          rho_17 D   5340   5339     25\n",
      "   7057  3191        0.2399     5        0.2409        0.2349    30549    2.47%           rho_7 D   7057   7056     35\n",
      "   8595  3864        0.2392     5        0.2409        0.2349    38738    2.47%          rho_10 U   8595   8594     35\n",
      "   9936  4595        0.2395     5        0.2409        0.2349    46611    2.47%          rho_19 D   9936   9935     41\n",
      "  11420  5131        0.2383     5        0.2409        0.2349    53788    2.47%           rho_8 U  11420  11419     63\n",
      "  12690  5622        0.2365     7        0.2409        0.2349    60086    2.47%           rho_6 D  12690  12689     85\n",
      "  13883  6049        0.2386     4        0.2409        0.2349    66404    2.47%           rho_7 D  13883  13882     59\n",
      "  15203  6521        0.2351     8        0.2409        0.2349    73838    2.47%           rho_8 N  15203  15192     64\n",
      "  19651  7963        cutoff              0.2409        0.2349   100053    2.47%           rho_4 D  19651  19649     32\n",
      "Elapsed time = 4.38 sec. (3102.10 ticks, tree = 2.04 MB, solutions = 1)\n",
      "  23620  9172        0.2380     8        0.2409        0.2349   124125    2.47%           rho_7 D  23620  23619     51\n",
      "  27616 10434        0.2349     6        0.2409        0.2349   147090    2.47%           rho_0 D  27616  27614     40\n",
      "  31323 11803        0.2349     6        0.2409        0.2349   172184    2.47%          rho_11 U  31323  31311     44\n",
      "  34851 13351        0.2349     7        0.2409        0.2349   197577    2.47%           rho_9 U  34851  34849     72\n",
      "  38589 14917        0.2349     5        0.2409        0.2349   224131    2.47%          rho_11 U  38589  38587     62\n",
      "  42542 16647        0.2355    14        0.2409        0.2349   247853    2.47%           rho_0 D  42542  42541     27\n",
      "  46244 18019        0.2405     8        0.2409        0.2349   271327    2.47%          rho_14 D  46244  46243     34\n",
      "  50056 19791        0.2371    11        0.2409        0.2349   295008    2.47%          rho_11 U  50056  50055     27\n",
      "  53860 21082        0.2362     9        0.2409        0.2349   319419    2.47%           rho_5 N  53860  53859     59\n",
      "  57491 22457        0.2358    12        0.2409        0.2349   342606    2.47%           rho_9 D  57491  57489     56\n",
      "Elapsed time = 12.80 sec. (12640.26 ticks, tree = 6.40 MB, solutions = 1)\n",
      "  60867 24146        0.2362    10        0.2409        0.2349   366249    2.47%           rho_5 N  60867  60866     21\n",
      "  64454 25521        0.2349     6        0.2409        0.2349   388299    2.47%          rho_11 U  64454  30944     74\n",
      "  68048 26948        0.2349    11        0.2409        0.2349   410354    2.47%          rho_20 D  68048  68047     49\n",
      "  71449 28149        0.2349    16        0.2409        0.2349   432957    2.47%          rho_12 U  71449  71104     20\n",
      "  74746 29440        0.2349     8        0.2409        0.2349   456093    2.47%          rho_11 D  74746  74745     48\n",
      "  78457 31262        0.2354    11        0.2409        0.2349   478504    2.47%          rho_11 N  78457  78428     24\n",
      "  81964 32688        0.2362     6        0.2409        0.2349   500229    2.47%           rho_7 U  81964  81943     25\n",
      "  85680 34236        0.2349     1        0.2409        0.2349   521024    2.47%           rho_0 D  85680  85678     53\n",
      "  89041 35610        0.2401    13        0.2409        0.2349   543413    2.47%           rho_5 D  89041  89039     86\n",
      "  92260 37071        0.2392    13        0.2409        0.2349   566404    2.47%           rho_6 D  92260  92259     59\n",
      "Elapsed time = 20.81 sec. (22179.74 ticks, tree = 11.19 MB, solutions = 1)\n",
      "  95687 38327        0.2349    11        0.2409        0.2349   588072    2.47%          rho_17 D  95687  95686     32\n",
      "  99060 39769        0.2406     6        0.2409        0.2349   610536    2.47%          rho_20 D  99060  99058     32\n",
      " 102253 41178        0.2349     6        0.2409        0.2349   632920    2.47%           rho_0 D 102253 102251     44\n",
      " 105788 42417        0.2388     8        0.2409        0.2349   654845    2.47%          rho_20 D 105788 105787     27\n",
      " 109122 43863        0.2377     5        0.2409        0.2349   677430    2.47%          rho_10 U 109122 109121     19\n",
      " 112615 45010        0.2406     4        0.2409        0.2349   699521    2.47%           rho_3 D 112615 112614     69\n",
      " 116164 46207        0.2349    10        0.2409        0.2349   721992    2.47%          rho_10 D 116164 116059     40\n",
      " 119555 47122        0.2399     7        0.2409        0.2349   743702    2.47%           rho_8 U 119555 119554     14\n",
      " 122784 48136        0.2349     7        0.2409        0.2349   764834    2.47%           rho_9 D 122784  62475     45\n",
      " 126364 49620        0.2397     8        0.2409        0.2349   786369    2.47%          rho_10 U 126364 125446     59\n",
      "Elapsed time = 28.00 sec. (31718.31 ticks, tree = 14.19 MB, solutions = 1)\n",
      " 129699 50858        0.2349     8        0.2409        0.2349   808675    2.47%          rho_11 D 129699 129698     42\n",
      " 132606 51904        0.2358    13        0.2409        0.2349   831500    2.47%          rho_20 N 132606 132605     44\n",
      " 135574 52919        0.2404    11        0.2409        0.2349   854430    2.47%           rho_6 D 135574 135572     44\n",
      " 138750 54142        0.2350    12        0.2409        0.2349   875641    2.47%           rho_7 N 138750 138749     56\n",
      " 141994 55325        0.2378    13        0.2409        0.2349   895684    2.47%          rho_19 D 141994 141992     32\n",
      " 145250 56491        0.2407    10        0.2409        0.2349   917897    2.47%          rho_20 D 145250 145249     67\n",
      " 148405 57564        0.2373     9        0.2409        0.2349   938883    2.47%           rho_7 U 148405 112997     50\n",
      " 151760 58524        0.2391     6        0.2409        0.2349   957096    2.47%           rho_7 D 151760 151759     55\n",
      " 155049 59638        0.2392     3        0.2409        0.2349   977995    2.47%           rho_7 D 155049 155047     42\n",
      " 158205 60505        cutoff              0.2409        0.2349   998722    2.47%           rho_9 U 158205 158204     21\n",
      "Elapsed time = 34.52 sec. (41257.45 ticks, tree = 16.79 MB, solutions = 1)\n",
      " 161261 60961        0.2402     5        0.2409        0.2349  1019144    2.47%           rho_3 N 161261 161260     71\n",
      " 164436 61816        0.2406     6        0.2409        0.2349  1040449    2.47%          rho_21 U 164436 164434     62\n",
      " 167613 63447        cutoff              0.2409        0.2349  1062974    2.47%          rho_19 U 167613 167611     71\n",
      " 170796 65089        0.2349     9        0.2409        0.2349  1086196    2.47%          rho_11 U 170796 170794     36\n",
      " 174000 66436        0.2386     2        0.2409        0.2349  1106098    2.47%           rho_0 U 174000 173999     62\n",
      " 176923 67596        0.2349     5        0.2409        0.2349  1128763    2.47%          rho_11 U 176923 176921     59\n",
      " 179985 68515        cutoff              0.2409        0.2349  1150481    2.47%          rho_19 U 179985 179984     68\n",
      " 183340 69865        0.2349    10        0.2409        0.2349  1172421    2.47%           rho_1 D 183340 183339     34\n",
      " 186080 71462        0.2385     6        0.2409        0.2349  1197133    2.47%          rho_17 N 186080 175087     26\n",
      " 189643 72932        cutoff              0.2409        0.2349  1216616    2.47%          rho_20 U 189643 189641     31\n",
      "Elapsed time = 41.30 sec. (50798.03 ticks, tree = 22.58 MB, solutions = 1)\n",
      " 192437 74396        0.2390     6        0.2409        0.2349  1240669    2.47%          rho_20 N 192437 192436     20\n",
      " 195171 75940        0.2349     6        0.2409        0.2349  1262286    2.47%          rho_11 U 195171 195169     33\n",
      " 197880 77217        cutoff              0.2409        0.2349  1284508    2.47%          rho_17 U 197880 197879     21\n",
      " 201323 78618        0.2359    10        0.2409        0.2349  1309141    2.47%           rho_7 D 201323 201322     64\n",
      " 204686 79405        0.2386     9        0.2409        0.2349  1329268    2.47%           rho_5 D 204686 204684     55\n",
      " 207733 80073        0.2409     9        0.2409        0.2349  1350768    2.47%          rho_13 D 207733 207732     29\n",
      " 210747 81676        0.2354    12        0.2409        0.2349  1374859    2.47%           rho_5 D 210747 210746     58\n",
      " 214007 82994        0.2396     4        0.2409        0.2349  1395715    2.47%           rho_4 U 214007 214006     65\n",
      " 217137 83920        0.2407     5        0.2409        0.2349  1416077    2.47%           rho_0 U 217137 217136     28\n",
      " 220230 84674        0.2401     4        0.2409        0.2349  1435918    2.47%           rho_2 D 220230 220229     60\n",
      "Elapsed time = 50.09 sec. (60335.98 ticks, tree = 25.40 MB, solutions = 1)\n",
      " 223180 85607        0.2349     6        0.2409        0.2349  1458009    2.47%           rho_8 D 223180 223077     48\n",
      " 225930 86437        0.2360    10        0.2409        0.2349  1480028    2.47%          rho_10 U 225930 225929     31\n",
      " 229008 87421        cutoff              0.2409        0.2349  1501467    2.47%          rho_15 U 229008 229007     36\n",
      " 231936 88244        0.2351    10        0.2409        0.2349  1522889    2.47%           rho_7 N 231936 231935     20\n",
      " 234920 89072        cutoff              0.2409        0.2349  1546719    2.47%          rho_20 U 234920 234919     42\n",
      " 237869 90014        0.2349    11        0.2409        0.2349  1570549    2.47%          rho_11 D 237869 237781     43\n",
      " 240768 91022        cutoff              0.2409        0.2349  1592572    2.47%           rho_6 U 240768 240766     57\n",
      " 243737 92019        0.2405    11        0.2409        0.2349  1613620    2.47%           rho_6 D 243737 243734     63\n",
      " 246873 93105        0.2384     9        0.2409        0.2349  1633750    2.47%           rho_5 D 246873 246872     45\n",
      " 249890 94292        0.2378    15        0.2409        0.2349  1654102    2.47%           rho_5 D 249890 249889     61\n",
      "Elapsed time = 57.91 sec. (69875.31 ticks, tree = 27.67 MB, solutions = 1)\n",
      " 253072 95285        cutoff              0.2409        0.2349  1673013    2.47%          rho_20 U 253072 253071     57\n",
      " 256361 96100        0.2396     7        0.2409        0.2349  1690980    2.47%          rho_13 D 256361 256359     34\n",
      " 259450 97196        0.2349    10        0.2409        0.2349  1711754    2.47%          rho_11 D 259450 259449     16\n",
      " 262379 98504        cutoff              0.2409        0.2349  1735849    2.47%           rho_0 U 262379 262303     64\n",
      " 265280 99516        0.2369    10        0.2409        0.2349  1757913    2.47%           rho_1 N 265280 265256     35\n",
      " 268216 100547        0.2349     8        0.2409        0.2349  1778819    2.47%          rho_20 D 268216 267919     65\n",
      " 271240 101623        0.2355    11        0.2409        0.2349  1799482    2.47%           rho_5 N 271240 271239     45\n",
      " 274116 102527        0.2407     5        0.2409        0.2349  1821683    2.47%           rho_5 N 274116 274114     58\n",
      " 277096 103352        0.2349     8        0.2409        0.2349  1843445    2.47%           rho_0 D 277096 277095     42\n",
      " 280194 104031        0.2355     9        0.2409        0.2349  1862469    2.47%           rho_5 N 280194 280193     66\n",
      "Elapsed time = 66.67 sec. (79416.00 ticks, tree = 29.98 MB, solutions = 1)\n",
      " 283132 104950        cutoff              0.2409        0.2349  1883729    2.47%           rho_6 U 283132 283131     64\n",
      " 286000 105940        0.2406     3        0.2409        0.2349  1904651    2.47%          rho_10 D 286000 285998     52\n",
      " 288975 106761        0.2385    11        0.2409        0.2349  1926377    2.47%           rho_7 D 288975 288974     40\n",
      " 291985 107687        0.2375    13        0.2409        0.2349  1946971    2.47%          rho_20 D 291985 291984     58\n",
      " 295068 108623        0.2349     8        0.2409        0.2349  1967441    2.47%          rho_11 U 295068 295066     53\n",
      " 298249 109722        0.2349     4        0.2409        0.2349  1988810    2.47%           rho_0 D 298249 298247     53\n",
      " 301258 110381        0.2381     7        0.2409        0.2349  2009730    2.47%           rho_6 N 301258 301219     44\n",
      " 304057 110513        0.2356     9        0.2409        0.2349  2028641    2.47%           rho_5 N 304057 304056     47\n",
      " 307134 111532        0.2391     7        0.2409        0.2349  2048936    2.47%           rho_0 D 307134 307132     56\n",
      " 319562 115678        0.2349     6        0.2409        0.2349  2133176    2.47%          rho_11 U 319562 319560     47\n",
      "Elapsed time = 78.81 sec. (91816.59 ticks, tree = 32.80 MB, solutions = 1)\n",
      " 331930 119037        0.2349     7        0.2409        0.2349  2214512    2.47%          rho_11 U 331930 331928     40\n",
      "*343567 122587      integral     0        0.2409        0.2349  2283835    2.47%\n",
      " 344586 122957        0.2389    11        0.2409        0.2349  2289777    2.47%           rho_5 D 344586 344585     54\n",
      " 357050 127151        0.2399     4        0.2409        0.2349  2369195    2.47%           rho_6 D 357050 357049     49\n",
      " 369050 130980        0.2378     9        0.2409        0.2349  2448994    2.47%           rho_0 U 369050 369049     52\n",
      " 380873 134406        0.2394    16        0.2409        0.2349  2529581    2.47%           rho_5 D 380873 380871     39\n",
      " 392400 139280        0.2389     8        0.2409        0.2349  2619487    2.47%          rho_20 D 392400 392399     60\n",
      " 404103 143834        0.2349     8        0.2409        0.2349  2701015    2.47%          rho_11 U 404103 403952     30\n",
      " 416090 147177        0.2400     5        0.2409        0.2349  2779759    2.47%           rho_4 D 416090 416089     45\n",
      " 428256 150918        cutoff              0.2409        0.2349  2861577    2.47%           rho_0 U 428256 428255     62\n",
      " 439747 154981        0.2377     7        0.2409        0.2349  2942822    2.47%          rho_17 U 439747 439745     61\n",
      "Elapsed time = 106.83 sec. (129966.80 ticks, tree = 45.39 MB, solutions = 2)\n",
      " 451770 157825        0.2375    10        0.2409        0.2349  3020379    2.47%          rho_11 D 451770 451768     28\n",
      " 463255 163088        cutoff              0.2409        0.2349  3105365    2.47%          rho_14 U 463255 463253     40\n",
      " 475343 168357        0.2393     7        0.2409        0.2349  3191110    2.47%           rho_7 D 475343 475342     53\n",
      " 487990 171763        0.2349     8        0.2409        0.2349  3267119    2.47%           rho_0 D 487990 487983     73\n",
      " 499529 174889        0.2357    12        0.2409        0.2349  3349489    2.47%          rho_19 D 499529  30123     55\n",
      " 511306 178634        cutoff              0.2409        0.2349  3434395    2.47%           rho_3 U 511306 511305     62\n",
      " 522464 181759        0.2388    12        0.2409        0.2349  3518640    2.47%          rho_20 D 522464 522463     39\n",
      " 533423 185195        0.2407     8        0.2409        0.2349  3604200    2.47%          rho_20 U 533423 533422     57\n",
      " 544967 188953        0.2405     3        0.2409        0.2349  3682186    2.47%           rho_2 D 544967 544965     58\n",
      " 556280 191571        0.2404     3        0.2409        0.2349  3763932    2.47%          rho_14 D 556280 556278     70\n",
      "Elapsed time = 137.95 sec. (168115.09 ticks, tree = 57.98 MB, solutions = 2)\n",
      " 568280 194702        0.2372    18        0.2409        0.2349  3842222    2.47%           rho_8 N 568280 568278     40\n",
      " 579749 198212        0.2368    10        0.2409        0.2349  3924165    2.47%           rho_8 U 579749 579748     45\n",
      " 591150 201672        0.2349     9        0.2409        0.2349  4005524    2.47%          rho_10 U 591150 391589     42\n",
      " 602258 203961        0.2367    11        0.2409        0.2349  4089365    2.47%          rho_20 N 602258 285917     53\n",
      " 613317 206462        0.2391     8        0.2409        0.2349  4174219    2.47%           rho_0 U 613317 613316     38\n",
      " 624742 210512        0.2379    10        0.2409        0.2349  4257267    2.47%          rho_11 N 624742 624741     61\n",
      " 636763 213380        0.2403     7        0.2409        0.2349  4333285    2.47%           rho_4 D 636763 636761     82\n",
      " 649078 217008        cutoff              0.2409        0.2349  4403470    2.47%          rho_21 U 649078 649077     44\n",
      " 660115 219849        0.2407     9        0.2409        0.2349  4487812    2.47%          rho_19 N 660115 126163     53\n",
      " 671526 222984        0.2386     5        0.2409        0.2349  4569818    2.47%          rho_20 U 671526 242758     24\n",
      "Elapsed time = 171.36 sec. (206265.94 ticks, tree = 65.78 MB, solutions = 2)\n",
      " 683994 226533        0.2349    12        0.2409        0.2349  4644200    2.47%          rho_11 D 683994 683993     63\n",
      " 695397 229326        0.2408     7        0.2409        0.2349  4729137    2.47%          rho_13 D 695397 695396     31\n",
      " 706610 232010        0.2349     7        0.2409        0.2349  4811789    2.47%           rho_0 D 706610 706608     52\n",
      " 717790 234983        cutoff              0.2409        0.2349  4885679    2.47%          rho_15 U 717790 717789     53\n",
      " 729233 237483        0.2400     5        0.2409        0.2349  4955583    2.47%          rho_20 U 729233 729232     61\n",
      " 739800 240404        0.2351     9        0.2409        0.2349  5033110    2.47%           rho_0 U 739800 739799     72\n",
      " 750258 244726        0.2359    15        0.2409        0.2349  5111184    2.47%          rho_11 N 750258 750257     47\n",
      " 761296 248709        0.2349    11        0.2409        0.2349  5183372    2.47%          rho_11 U 761296 761151     48\n",
      "\n",
      "User cuts applied:  400\n",
      "\n",
      "Root node processing (before b&c):\n",
      "  Real time             =    0.19 sec. (1.59 ticks)\n",
      "Sequential b&c:\n",
      "  Real time             =  199.83 sec. (239061.53 ticks)\n",
      "                          ------------\n",
      "Total (root+branch&cut) =  200.02 sec. (239063.12 ticks)\n",
      "+-----------------------------------------------+-------------------+-----------+\n",
      "| Pr(Y = +1) = 1.0/(1.0 + exp(-(-21 + score))   |                   |           |\n",
      "| ============================================= | ================= | ========= |\n",
      "| p_charges>=1                                  |         17 points |   + ..... |\n",
      "| p_violence>=1                                 |          2 points |   + ..... |\n",
      "| sex>=1                                        |          1 points |   + ..... |\n",
      "| p_arrest>=3                                   |          1 points |   + ..... |\n",
      "| ============================================= | ================= | ========= |\n",
      "| ADD POINTS FROM ROWS 1 to 4                   |             SCORE |   = ..... |\n",
      "+-----------------------------------------------+-------------------+-----------+\n",
      "model_id, score_thresholds 0 {'rank_abs': [0]}\n",
      "get_disparity_predefined_group()\n"
     ]
    },
    {
     "name": "stderr",
     "output_type": "stream",
     "text": [
      "C:\\Users\\binha\\Documents\\Duke\\Cynthia Research\\psa-analysis - test2\\utils\\fairness_functions.py:82: RuntimeWarning:\n",
      "\n",
      "invalid value encountered in longlong_scalars\n",
      "\n",
      "C:\\Users\\binha\\Documents\\Duke\\Cynthia Research\\psa-analysis - test2\\utils\\fairness_functions.py:95: RuntimeWarning:\n",
      "\n",
      "divide by zero encountered in longlong_scalars\n",
      "\n"
     ]
    },
    {
     "name": "stdout",
     "output_type": "stream",
     "text": [
      "setting c0 = 0.0 to ensure that intercept is not penalized\n",
      "10/01/19 @ 01:52 PM | 941 rows in lookup table\n",
      "10/01/19 @ 01:52 PM | ------------------------------------------------------------\n",
      "10/01/19 @ 01:52 PM | runnning initialization procedure\n",
      "10/01/19 @ 01:52 PM | ------------------------------------------------------------\n",
      "10/01/19 @ 01:52 PM | CPA produced 2 cuts\n",
      "10/01/19 @ 01:52 PM | running naive rounding on 64 solutions\n",
      "10/01/19 @ 01:52 PM | best objective value: 0.2381\n",
      "10/01/19 @ 01:52 PM | rounding produced 5 integer solutions\n",
      "10/01/19 @ 01:52 PM | best objective value is 0.2424\n",
      "10/01/19 @ 01:52 PM | running sequential rounding on 64 solutions\n",
      "10/01/19 @ 01:52 PM | best objective value: 0.2381\n",
      "10/01/19 @ 01:52 PM | sequential rounding produced 5 integer solutions\n",
      "10/01/19 @ 01:52 PM | best objective value: 0.2422\n",
      "10/01/19 @ 01:52 PM | polishing 10 solutions\n",
      "10/01/19 @ 01:52 PM | best objective value: 0.2422\n",
      "10/01/19 @ 01:52 PM | polishing produced 3 integer solutions\n",
      "10/01/19 @ 01:52 PM | initialization produced 9 feasible solutions\n",
      "10/01/19 @ 01:52 PM | best objective value: 0.2422\n",
      "10/01/19 @ 01:52 PM | ------------------------------------------------------------\n",
      "10/01/19 @ 01:52 PM | completed initialization procedure\n",
      "10/01/19 @ 01:52 PM | ------------------------------------------------------------\n",
      "10/01/19 @ 01:52 PM | 941 rows in lookup table\n",
      "CPXPARAM_Read_DataCheck                          1\n",
      "CPXPARAM_Threads                                 1\n",
      "CPXPARAM_Parallel                                1\n",
      "CPXPARAM_RandomSeed                              0\n",
      "CPXPARAM_TimeLimit                               200\n",
      "CPXPARAM_MIP_Tolerances_LowerCutoff              0.23636703445223514\n",
      "CPXPARAM_MIP_Tolerances_UpperCutoff              0.2421559144275825\n"
     ]
    },
    {
     "name": "stderr",
     "output_type": "stream",
     "text": [
      "Warning: Control callbacks may disable some MIP features.\n"
     ]
    },
    {
     "name": "stdout",
     "output_type": "stream",
     "text": [
      "Lazy constraint(s) or lazy constraint callback is present.\n",
      "    Disabling dual reductions (CPX_PARAM_REDUCE) in presolve.\n",
      "    Disabling non-linear reductions (CPX_PARAM_PRELINEAR) in presolve.\n",
      "         Disabling repeat represolve because of lazy constraint/incumbent callback.\n",
      "10/01/19 @ 01:52 PM | adding 249 initial cuts\n",
      "1 of 1 MIP starts provided solutions.\n",
      "MIP start 'mip_start_0' defined initial solution with objective 0.2422.\n",
      "Tried aggregator 1 time.\n",
      "Reduced MIP has 23 rows, 46 columns, and 87 nonzeros.\n",
      "Reduced MIP has 21 binaries, 23 generals, 0 SOSs, and 0 indicators.\n",
      "Presolve time = 0.00 sec. (0.05 ticks)\n",
      "Probing time = 0.00 sec. (0.01 ticks)\n",
      "MIP emphasis: balance optimality and feasibility.\n",
      "MIP search method: traditional branch-and-cut.\n",
      "Parallel mode: none, using 1 thread.\n",
      "Root relaxation solution time = 0.00 sec. (0.03 ticks)\n",
      "\n",
      "        Nodes                                         Cuts/\n",
      "   Node  Left     Objective  IInf  Best Integer    Best Bound    ItCnt     Gap         Variable B NodeID Parent  Depth\n",
      "\n",
      "*     0+    0                            0.2422        0.2364             2.39%\n",
      "      0     0        0.2364     1        0.2422        0.2364        1    2.39%\n",
      "      0     0        0.2364     2        0.2422       Cuts: 2        2    2.39%\n",
      "      0     0        0.2364     2        0.2422    MIRcuts: 1        3    2.39%\n",
      "      0     2        0.2364     5        0.2422        0.2364        3    2.39%                        0             0\n",
      "Elapsed time = 0.11 sec. (1.56 ticks, tree = 0.01 MB, solutions = 1)\n",
      "   2804  1359        0.2369     8        0.2422        0.2364    10954    2.39%           rho_9 U   2804   2803     26\n",
      "   4473  2009        0.2419     7        0.2422        0.2364    20268    2.39%          rho_20 D   4473   4471     30\n",
      "   5984  2572        0.2397     4        0.2422        0.2364    27901    2.39%           rho_0 U   5984   5983     61\n",
      "   7367  3155        0.2421     9        0.2422        0.2364    35806    2.39%           rho_8 U   7367   7366     34\n",
      "   8747  3826        0.2419    11        0.2422        0.2364    44291    2.39%          rho_11 U   8747   8745     39\n",
      "  10263  4483        0.2405     5        0.2422        0.2364    50380    2.39%           rho_0 U  10263  10261     23\n",
      "  11503  4974        0.2413     1        0.2422        0.2364    57169    2.39%           rho_0 U  11503  11502     32\n",
      "  12664  5471        0.2364     9        0.2422        0.2364    64557    2.39%           rho_8 U  12664  12662     40\n",
      "  13981  5978        0.2401     7        0.2422        0.2364    71410    2.39%          rho_11 U  13981  13979     45\n",
      "  18769  7964        0.2391     9        0.2422        0.2364    99733    2.39%          rho_11 D  18769  18767     90\n",
      "Elapsed time = 4.02 sec. (3101.98 ticks, tree = 2.06 MB, solutions = 1)\n",
      "* 19227  8163      integral     0        0.2422        0.2364   102016    2.39%\n",
      "  23328  9829        cutoff              0.2422        0.2364   123164    2.39%           rho_0 U  23328  23327     19\n",
      "  27438 11531        0.2420     3        0.2422        0.2364   149643    2.39%          rho_16 D  27438  27436     76\n",
      "  31965 13095        0.2364     6        0.2422        0.2364   172719    2.39%           rho_0 D  31965  31964     30\n",
      "  35910 14672        0.2410     6        0.2422        0.2364   197422    2.39%           rho_2 D  35910  35909     50\n",
      "  39984 16272        cutoff              0.2422        0.2364   221703    2.39%           rho_7 U  39984  39983     93\n",
      "  43873 17614        0.2364     3        0.2422        0.2364   245658    2.39%          rho_11 U  43873  43871     24\n",
      "  48013 19025        0.2370    11        0.2422        0.2364   266479    2.39%           rho_5 D  48013  48012     73\n",
      "  52190 20976        0.2364     8        0.2422        0.2364   287439    2.39%           rho_0 D  52190  52189     13\n",
      "  56059 22422        cutoff              0.2422        0.2364   310223    2.39%          rho_15 U  56059  56058     31\n",
      "  59582 24122        0.2364     7        0.2422        0.2364   335318    2.39%          rho_11 U  59582  59563     42\n",
      "Elapsed time = 13.38 sec. (12640.70 ticks, tree = 6.78 MB, solutions = 2)\n",
      "  63231 25545        0.2393     9        0.2422        0.2364   359097    2.39%          rho_17 U  63231  24673     52\n",
      "  66925 26469        0.2398     5        0.2422        0.2364   382348    2.39%          rho_11 U  66925  66922     46\n",
      "  70706 27907        0.2409     4        0.2422        0.2364   404246    2.39%          rho_20 D  70706  70705     48\n",
      "  74471 29259        0.2404     7        0.2422        0.2364   426952    2.39%           rho_5 U  74471  74470     56\n",
      "  77957 30364        0.2364    12        0.2422        0.2364   449988    2.39%          rho_11 D  77957  77955     41\n",
      "  81532 31308        0.2404     5        0.2422        0.2364   470721    2.39%           rho_0 U  81532  81530     26\n",
      "  85172 31574        0.2414     6        0.2422        0.2364   486422    2.39%          rho_17 N  85172  85171     56\n",
      "  88675 32190        0.2364     9        0.2422        0.2364   505789    2.39%           rho_9 D  88675   2939     48\n",
      "  91795 33250        0.2414     7        0.2422        0.2364   530536    2.39%          rho_20 U  91795  91794     48\n",
      "  95133 34315        0.2403     8        0.2422        0.2364   554110    2.39%          rho_13 N  95133  43352     88\n",
      "Elapsed time = 22.38 sec. (22178.75 ticks, tree = 10.56 MB, solutions = 2)\n",
      "  98090 35624        0.2364    10        0.2422        0.2364   580465    2.39%          rho_11 D  98090  98089     72\n",
      " 101329 36490        0.2375     8        0.2422        0.2364   602345    2.39%           rho_1 D 101329 101328     50\n",
      " 104508 37464        0.2402     9        0.2422        0.2364   624334    2.39%           rho_5 D 104508 104506     41\n",
      " 107731 38835        0.2387     9        0.2422        0.2364   649428    2.39%          rho_20 N 107731 107730     28\n",
      " 111053 40056        0.2394     3        0.2422        0.2364   672576    2.39%           rho_0 U 111053 111052     35\n",
      " 114461 40688        0.2414     6        0.2422        0.2364   692197    2.39%          rho_17 N 114461 114460     95\n",
      " 117505 41309        0.2390    15        0.2422        0.2364   713790    2.39%          rho_20 D 117505 111535     43\n",
      " 121421 42012        0.2400     9        0.2422        0.2364   730959    2.39%           rho_6 D 121421 121419     57\n",
      " 124992 42852        0.2413    13        0.2422        0.2364   750858    2.39%           rho_8 N 124992 124990     44\n",
      " 128463 43534        0.2380     8        0.2422        0.2364   771687    2.39%          rho_17 N 128463  83304     54\n",
      "Elapsed time = 30.63 sec. (31716.72 ticks, tree = 12.74 MB, solutions = 2)\n",
      " 132100 44403        0.2404     7        0.2422        0.2364   791716    2.39%           rho_5 N 132100 132099     89\n",
      " 135421 45415        0.2364     6        0.2422        0.2364   812750    2.39%           rho_8 D 135421 135419     45\n",
      " 138752 46041        cutoff              0.2422        0.2364   833698    2.39%          rho_17 U 138752 138751     75\n",
      " 142229 46839        0.2393    11        0.2422        0.2364   853935    2.39%          rho_17 N 142229 142227     40\n",
      " 145501 47767        0.2405     5        0.2422        0.2364   875143    2.39%           rho_3 N 145501 145499     53\n",
      " 148865 48758        cutoff              0.2422        0.2364   895458    2.39%           rho_7 U 148865 148864     41\n",
      " 151701 49598        0.2411    10        0.2422        0.2364   921047    2.39%           rho_8 N 151701 151700     51\n",
      " 154800 50711        0.2364    12        0.2422        0.2364   944634    2.39%           rho_7 D 154800 154799     46\n",
      " 157630 51903        0.2417     3        0.2422        0.2364   970046    2.39%          rho_13 D 157630 157628     97\n",
      " 160298 53338        0.2378    11        0.2422        0.2364   996009    2.39%          rho_18 N 160298 160297     45\n",
      "Elapsed time = 38.44 sec. (41257.76 ticks, tree = 15.05 MB, solutions = 2)\n",
      " 163782 54406        0.2375    14        0.2422        0.2364  1016092    2.39%          rho_20 N 163782 163781     53\n",
      " 166874 55312        0.2364    10        0.2422        0.2364  1037429    2.39%           rho_0 D 166874 126946     18\n",
      " 170311 56342        0.2364     6        0.2422        0.2364  1058912    2.39%           rho_0 D 170311 170301     59\n",
      " 173696 57252        cutoff              0.2422        0.2364  1079958    2.39%           rho_0 U 173696 173695     62\n",
      " 177552 58182        0.2414    14        0.2422        0.2364  1098774    2.39%           rho_6 D 177552 177551     57\n",
      " 181016 58966        0.2413    13        0.2422        0.2364  1119533    2.39%           rho_0 D 181016 181014     41\n",
      " 184193 59765        0.2398    15        0.2422        0.2364  1141494    2.39%          rho_17 D 184193 184192     46\n",
      " 187037 60622        0.2364     8        0.2422        0.2364  1164673    2.39%           rho_0 D 187037 187035     46\n",
      " 190419 61471        0.2364     8        0.2422        0.2364  1184198    2.39%           rho_0 D 190419 190417     34\n",
      " 193370 63109        0.2366    14        0.2422        0.2364  1209380    2.39%          rho_11 N 193370 193369     54\n",
      "Elapsed time = 46.34 sec. (50795.99 ticks, tree = 17.43 MB, solutions = 2)\n",
      " 196131 64313        0.2383    13        0.2422        0.2364  1233926    2.39%          rho_21 D 196131 196130     61\n",
      " 199231 65728        cutoff              0.2422        0.2364  1257767    2.39%           rho_7 U 199231 199229     46\n",
      " 202320 66728        0.2375    12        0.2422        0.2364  1280750    2.39%          rho_17 N 202320 202319     48\n",
      " 205442 67747        0.2364     8        0.2422        0.2364  1303242    2.39%           rho_0 D 205442 205440     51\n",
      " 208360 68304        0.2384    12        0.2422        0.2364  1325332    2.39%           rho_0 U 208360 208359     79\n",
      " 211350 69169        0.2420     4        0.2422        0.2364  1347959    2.39%           rho_3 D 211350 211348     58\n",
      " 214366 69792        0.2418     9        0.2422        0.2364  1368643    2.39%          rho_20 D 214366 214365     55\n",
      " 217090 70533        0.2364     9        0.2422        0.2364  1391433    2.39%          rho_13 D 217090 157597     81\n",
      " 219834 71337        0.2409     8        0.2422        0.2364  1413613    2.39%          rho_10 U 219834  14982     47\n",
      " 222995 72078        0.2397     6        0.2422        0.2364  1434426    2.39%          rho_13 N 222995 135257     28\n",
      "Elapsed time = 54.13 sec. (60334.96 ticks, tree = 22.44 MB, solutions = 2)\n",
      " 226360 72705        0.2364    10        0.2422        0.2364  1455472    2.39%          rho_11 U 226360 226359     47\n",
      " 229894 73254        0.2364     8        0.2422        0.2364  1472341    2.39%          rho_11 U 229894 229892     79\n",
      " 233154 73835        0.2414     6        0.2422        0.2364  1490307    2.39%          rho_20 N 233154 233153     49\n",
      " 236062 74452        0.2403    11        0.2422        0.2364  1512404    2.39%          rho_17 N 236062  98890     58\n",
      " 239035 75251        cutoff              0.2422        0.2364  1533730    2.39%           rho_5 D 239035 239033     92\n",
      " 241857 75955        0.2409    11        0.2422        0.2364  1558505    2.39%           rho_6 D 241857 241856     56\n",
      " 244837 76724        0.2415    11        0.2422        0.2364  1580430    2.39%           rho_1 D 244837 244836     60\n",
      " 248564 77360        0.2406     6        0.2422        0.2364  1599950    2.39%          rho_18 D 248564 248562     70\n",
      " 252018 78044        0.2409     7        0.2422        0.2364  1620785    2.39%          rho_20 D 252018 252016     91\n",
      " 254880 79041        0.2384    10        0.2422        0.2364  1643737    2.39%          rho_20 N 254880 254879     68\n",
      "Elapsed time = 64.45 sec. (69874.44 ticks, tree = 24.13 MB, solutions = 2)\n",
      " 257645 80055        0.2403     9        0.2422        0.2364  1666236    2.39%          rho_20 N 257645 257644     47\n",
      " 260145 81550        cutoff              0.2422        0.2364  1691973    2.39%           rho_0 U 260145 260144     69\n",
      " 263210 82524        0.2364     9        0.2422        0.2364  1714059    2.39%          rho_11 N 263210 263100     13\n",
      " 266150 84453        0.2365    13        0.2422        0.2364  1735405    2.39%          rho_11 N 266150 266149     23\n",
      " 269377 85022        0.2374    10        0.2422        0.2364  1755711    2.39%          rho_20 N 269377 269376     48\n",
      " 272735 85974        0.2409     7        0.2422        0.2364  1775695    2.39%           rho_5 D 272735 272733     61\n",
      " 275864 87066        0.2387    14        0.2422        0.2364  1796011    2.39%          rho_20 D 275864 275863     73\n",
      " 279528 87956        0.2411     5        0.2422        0.2364  1813708    2.39%           rho_3 D 279528 279526     54\n",
      " 282550 88716        0.2364    11        0.2422        0.2364  1836205    2.39%          rho_11 D 282550 282549     38\n",
      " 285414 89556        cutoff              0.2422        0.2364  1858204    2.39%          rho_18 U 285414 285413     50\n",
      "Elapsed time = 80.30 sec. (79413.33 ticks, tree = 26.64 MB, solutions = 2)\n",
      " 288729 90521        0.2404     9        0.2422        0.2364  1878881    2.39%          rho_20 N 288729 288727     39\n",
      " 291557 90820        0.2377    12        0.2422        0.2364  1899830    2.39%          rho_10 D 291557 291531     48\n",
      " 294837 91534        0.2412     9        0.2422        0.2364  1919839    2.39%           rho_6 D 294837 294835     52\n",
      " 297928 92608        0.2389     7        0.2422        0.2364  1941198    2.39%           rho_1 D 297928 297927     55\n",
      " 300991 93685        0.2364    12        0.2422        0.2364  1961570    2.39%           rho_0 N 300991 300983     53\n",
      " 303594 94328        cutoff              0.2422        0.2364  1985081    2.39%           rho_0 D 303594 303592     65\n",
      " 306167 95356        0.2374    12        0.2422        0.2364  2008809    2.39%          rho_10 N 306167 306027     48\n",
      " 308760 96424        0.2386    11        0.2422        0.2364  2032634    2.39%          rho_10 D 308760 308759     29\n",
      " 311661 97326        0.2411    11        0.2422        0.2364  2053138    2.39%           rho_7 D 311661 311660     39\n",
      " 323431 101225        cutoff              0.2422        0.2364  2136010    2.39%           rho_8 U 323431 323430     28\n",
      "Elapsed time = 101.53 sec. (91812.90 ticks, tree = 29.47 MB, solutions = 2)\n",
      " 334400 104649        0.2393     7        0.2422        0.2364  2225445    2.39%          rho_13 D 334400 334398     42\n",
      " 345878 108319        0.2364    10        0.2422        0.2364  2311120    2.39%          rho_11 U 345878 345876     63\n",
      " 356885 112276        cutoff              0.2422        0.2364  2396916    2.39%          rho_17 U 356885 356883     55\n",
      " 368707 116027        0.2411     6        0.2422        0.2364  2478857    2.39%           rho_0 U 368707 368695     48\n",
      " 380468 119901        0.2393     7        0.2422        0.2364  2559154    2.39%           rho_5 N 380468 380466     34\n",
      " 391975 124192        0.2364    13        0.2422        0.2364  2646481    2.39%          rho_11 D 391975 391974     22\n",
      " 402531 127726        cutoff              0.2422        0.2364  2733318    2.39%          rho_10 U 402531 402530     50\n",
      " 411682 131527        0.2385    15        0.2422        0.2364  2830677    2.39%          rho_13 N 411682 381023     73\n",
      " 422504 134889        cutoff              0.2422        0.2364  2917967    2.39%           rho_6 U 422504 422502     65\n",
      " 434884 138535        0.2411     5        0.2422        0.2364  3002721    2.39%           rho_2 U 434884 434883     57\n",
      "Elapsed time = 149.81 sec. (129962.52 ticks, tree = 41.36 MB, solutions = 2)\n",
      " 448736 142350        0.2412     7        0.2422        0.2364  3083656    2.39%           rho_0 U 448736 448735     63\n",
      " 460862 145887        0.2364     9        0.2422        0.2364  3168838    2.39%          rho_11 D 460862 460861     43\n",
      " 472930 149227        0.2364     9        0.2422        0.2364  3252762    2.39%          rho_11 U 472930 472923     34\n",
      " 484066 152928        0.2374    11        0.2422        0.2364  3340288    2.39%          rho_13 N 484066 484065     60\n",
      " 495210 156362        0.2375    16        0.2422        0.2364  3424195    2.39%          rho_18 D 495210 495209     27\n",
      " 505650 159767        0.2407    12        0.2422        0.2364  3511255    2.39%          rho_17 D 505650 505649     30\n",
      " 517029 162969        cutoff              0.2422        0.2364  3593266    2.39%          rho_17 U 517029 517028     35\n",
      " 529523 166553        0.2418     3        0.2422        0.2364  3671360    2.39%           rho_7 D 529523 529522     53\n",
      " 541489 169472        0.2404     7        0.2422        0.2364  3750819    2.39%          rho_20 N 541489 539499     47\n",
      " 552693 172439        0.2364    10        0.2422        0.2364  3833139    2.39%           rho_8 D 552693 552583     46\n",
      "Elapsed time = 191.13 sec. (168111.32 ticks, tree = 50.94 MB, solutions = 2)\n",
      " 563227 175714        0.2369    14        0.2422        0.2364  3915168    2.39%           rho_8 U 563227 563226     23\n",
      " 573790 179813        cutoff              0.2422        0.2364  3997379    2.39%           rho_7 U 573790 573788     22\n",
      "\n",
      "Implied bound cuts applied:  1\n",
      "User cuts applied:  383\n",
      "\n",
      "Root node processing (before b&c):\n",
      "  Real time             =    0.11 sec. (1.59 ticks)\n",
      "Sequential b&c:\n",
      "  Real time             =  199.91 sec. (176484.46 ticks)\n",
      "                          ------------\n",
      "Total (root+branch&cut) =  200.02 sec. (176486.05 ticks)\n",
      "+-----------------------------------------------+-------------------+-----------+\n",
      "| Pr(Y = +1) = 1.0/(1.0 + exp(-(-19 + score))   |                   |           |\n",
      "| ============================================= | ================= | ========= |\n",
      "| p_arrest>=1                                   |         15 points |   + ..... |\n",
      "| p_violence>=1                                 |          2 points |   + ..... |\n",
      "| sex>=1                                        |          1 points |   + ..... |\n",
      "| p_arrest>=3                                   |          1 points |   + ..... |\n",
      "| ============================================= | ================= | ========= |\n",
      "| ADD POINTS FROM ROWS 1 to 4                   |             SCORE |   = ..... |\n",
      "+-----------------------------------------------+-------------------+-----------+\n",
      "model_id, score_thresholds 0 {'rank_abs': [0]}\n",
      "get_disparity_predefined_group()\n"
     ]
    },
    {
     "name": "stderr",
     "output_type": "stream",
     "text": [
      "C:\\Users\\binha\\Documents\\Duke\\Cynthia Research\\psa-analysis - test2\\utils\\fairness_functions.py:82: RuntimeWarning:\n",
      "\n",
      "invalid value encountered in longlong_scalars\n",
      "\n",
      "C:\\Users\\binha\\Documents\\Duke\\Cynthia Research\\psa-analysis - test2\\utils\\fairness_functions.py:95: RuntimeWarning:\n",
      "\n",
      "divide by zero encountered in longlong_scalars\n",
      "\n"
     ]
    },
    {
     "name": "stdout",
     "output_type": "stream",
     "text": [
      "setting c0 = 0.0 to ensure that intercept is not penalized\n",
      "10/01/19 @ 01:55 PM | 941 rows in lookup table\n",
      "10/01/19 @ 01:55 PM | ------------------------------------------------------------\n",
      "10/01/19 @ 01:55 PM | runnning initialization procedure\n",
      "10/01/19 @ 01:55 PM | ------------------------------------------------------------\n",
      "10/01/19 @ 01:55 PM | CPA produced 2 cuts\n",
      "10/01/19 @ 01:55 PM | running naive rounding on 55 solutions\n",
      "10/01/19 @ 01:55 PM | best objective value: 0.2395\n",
      "10/01/19 @ 01:55 PM | rounding produced 5 integer solutions\n",
      "10/01/19 @ 01:55 PM | best objective value is 0.2495\n",
      "10/01/19 @ 01:55 PM | running sequential rounding on 55 solutions\n",
      "10/01/19 @ 01:55 PM | best objective value: 0.2395\n",
      "10/01/19 @ 01:55 PM | sequential rounding produced 5 integer solutions\n",
      "10/01/19 @ 01:55 PM | best objective value: 0.2435\n",
      "10/01/19 @ 01:55 PM | polishing 10 solutions\n",
      "10/01/19 @ 01:55 PM | best objective value: 0.2435\n",
      "10/01/19 @ 01:55 PM | polishing produced 4 integer solutions\n",
      "10/01/19 @ 01:55 PM | initialization produced 11 feasible solutions\n",
      "10/01/19 @ 01:55 PM | best objective value: 0.2435\n",
      "10/01/19 @ 01:55 PM | ------------------------------------------------------------\n",
      "10/01/19 @ 01:55 PM | completed initialization procedure\n",
      "10/01/19 @ 01:55 PM | ------------------------------------------------------------\n",
      "10/01/19 @ 01:55 PM | 941 rows in lookup table\n",
      "CPXPARAM_Read_DataCheck                          1\n",
      "CPXPARAM_Threads                                 1\n",
      "CPXPARAM_Parallel                                1\n",
      "CPXPARAM_RandomSeed                              0\n",
      "CPXPARAM_TimeLimit                               200\n",
      "CPXPARAM_MIP_Tolerances_LowerCutoff              0.23606684652582013\n",
      "CPXPARAM_MIP_Tolerances_UpperCutoff              0.24354359116641802\n"
     ]
    },
    {
     "name": "stderr",
     "output_type": "stream",
     "text": [
      "Warning: Control callbacks may disable some MIP features.\n"
     ]
    },
    {
     "name": "stdout",
     "output_type": "stream",
     "text": [
      "Lazy constraint(s) or lazy constraint callback is present.\n",
      "    Disabling dual reductions (CPX_PARAM_REDUCE) in presolve.\n",
      "    Disabling non-linear reductions (CPX_PARAM_PRELINEAR) in presolve.\n",
      "         Disabling repeat represolve because of lazy constraint/incumbent callback.\n",
      "10/01/19 @ 01:55 PM | adding 249 initial cuts\n",
      "1 of 1 MIP starts provided solutions.\n",
      "MIP start 'mip_start_0' defined initial solution with objective 0.2435.\n",
      "Tried aggregator 1 time.\n",
      "Reduced MIP has 23 rows, 46 columns, and 87 nonzeros.\n",
      "Reduced MIP has 21 binaries, 23 generals, 0 SOSs, and 0 indicators.\n",
      "Presolve time = 0.00 sec. (0.05 ticks)\n",
      "Probing time = 0.00 sec. (0.01 ticks)\n",
      "MIP emphasis: balance optimality and feasibility.\n",
      "MIP search method: traditional branch-and-cut.\n",
      "Parallel mode: none, using 1 thread.\n",
      "Root relaxation solution time = 0.00 sec. (0.03 ticks)\n",
      "\n",
      "        Nodes                                         Cuts/\n",
      "   Node  Left     Objective  IInf  Best Integer    Best Bound    ItCnt     Gap         Variable B NodeID Parent  Depth\n",
      "\n",
      "*     0+    0                            0.2435        0.2361             3.07%\n",
      "      0     0        0.2361     1        0.2435        0.2361        1    3.07%\n",
      "      0     0        0.2361     2        0.2435       Cuts: 2        2    3.07%\n",
      "      0     0        0.2361     2        0.2435    MIRcuts: 1        3    3.07%\n",
      "      0     2        0.2361     5        0.2435        0.2361        3    3.07%                        0             0\n",
      "Elapsed time = 0.20 sec. (1.56 ticks, tree = 0.01 MB, solutions = 1)\n",
      "*  2740+ 1121                            0.2420        0.2361             2.44%\n",
      "   2990  1242        0.2394     4        0.2420        0.2361     9950    2.44%           rho_7 D   2990   2989     37\n",
      "*  3493  1389      integral     0        0.2420        0.2361    11774    2.43%\n",
      "   4570  1896        0.2412     9        0.2420        0.2361    17007    2.43%          rho_17 D   4570   4569     25\n",
      "   5930  2448        0.2396     4        0.2420        0.2361    22622    2.43%          rho_11 D   5930   5929     41\n",
      "   7214  2968        0.2403    10        0.2420        0.2361    28103    2.43%          rho_11 U   7214   7213     48\n",
      "   8387  3531        0.2372     9        0.2420        0.2361    32854    2.43%           rho_8 U   8387   8384     40\n",
      "   9405  3918        cutoff              0.2420        0.2361    38138    2.43%           rho_4 U   9405    805     34\n",
      "  10450  4297        cutoff              0.2420        0.2361    42781    2.43%           rho_0 U  10450  10448     33\n",
      "  11703  4681        0.2378     5        0.2420        0.2361    47332    2.43%           rho_7 U  11703  11642     54\n",
      "  12800  4890        0.2361     3        0.2420        0.2361    52919    2.43%           rho_8 U  12800  12797     34\n",
      "  16797  6315        cutoff              0.2420        0.2361    76113    2.43%           rho_0 U  16797  16795     43\n",
      "Elapsed time = 5.53 sec. (3103.29 ticks, tree = 1.69 MB, solutions = 3)\n",
      "  20068  7906        0.2412     7        0.2420        0.2361    99282    2.43%           rho_2 U  20068  20067     52\n",
      "  23719  9174        0.2361    12        0.2420        0.2361   120216    2.43%          rho_17 D  23719  19396     41\n",
      "  27212 10728        cutoff              0.2420        0.2361   142142    2.43%           rho_1 D  27212  27211     49\n",
      "  30350 11834        0.2361     9        0.2420        0.2361   164466    2.43%          rho_11 D  30350  30349     35\n",
      "  33885 13671        0.2361     5        0.2420        0.2361   188607    2.43%          rho_11 U  33885  33883     74\n",
      "  37688 15337        0.2376    11        0.2420        0.2361   212025    2.43%           rho_6 D  37688  37687     51\n",
      "  40668 16912        0.2361    12        0.2420        0.2361   234381    2.43%           rho_7 D  40668  40667     43\n",
      "  44172 18168        0.2406     5        0.2420        0.2361   254844    2.43%          rho_15 D  44172  44171     85\n",
      "  47812 19380        cutoff              0.2420        0.2361   274013    2.43%          rho_20 U  47812  47801     36\n",
      "  51182 20114        0.2373     8        0.2420        0.2361   292768    2.43%           rho_6 D  51182  51181     65\n",
      "Elapsed time = 16.58 sec. (12642.97 ticks, tree = 5.94 MB, solutions = 3)\n",
      "  54331 20351        cutoff              0.2420        0.2361   310653    2.43%           rho_6 D  54331  54329     69\n",
      "  57720 21938        0.2361     9        0.2420        0.2361   331718    2.43%           rho_7 D  57720  57719     71\n",
      "  61124 23790        0.2414     5        0.2420        0.2361   353844    2.43%          rho_15 U  61124  61123     57\n",
      "  64335 24188        cutoff              0.2420        0.2361   372256    2.43%           rho_5 U  64335  64334     42\n",
      "  67410 24991        0.2406    13        0.2420        0.2361   392278    2.43%           rho_7 U  67410  25097     29\n",
      "  70560 25710        0.2386     7        0.2420        0.2361   412511    2.43%           rho_0 D  70560  70558     33\n",
      "  73339 27123        0.2388     7        0.2420        0.2361   435842    2.43%           rho_1 D  73339  73338     64\n",
      "  76353 28430        0.2361     9        0.2420        0.2361   457502    2.43%           rho_0 D  76353  76351     51\n",
      "  79421 29922        0.2398     5        0.2420        0.2361   477584    2.43%           rho_6 D  79421  79420     42\n",
      "  82141 30929        0.2361     8        0.2420        0.2361   499175    2.43%           rho_8 D  82141  82139     44\n",
      "Elapsed time = 27.59 sec. (22181.52 ticks, tree = 8.49 MB, solutions = 3)\n",
      "  84813 31873        0.2361    15        0.2420        0.2361   522154    2.43%          rho_11 D  84813  84812     61\n",
      "  87365 32879        cutoff              0.2420        0.2361   545770    2.43%           rho_1 U  87365  87363     66\n",
      "  90070 33600        0.2366    12        0.2420        0.2361   566982    2.43%          rho_11 D  90070  90069     43\n",
      "  92863 34649        0.2361     5        0.2420        0.2361   588544    2.43%          rho_11 U  92863  92861     46\n",
      "  96087 35690        0.2384     7        0.2420        0.2361   607915    2.43%          rho_10 U  96087  95949     50\n",
      "  99014 37049        0.2361     8        0.2420        0.2361   629195    2.43%           rho_0 D  99014  99012     64\n",
      " 102281 38331        0.2361     8        0.2420        0.2361   648579    2.43%           rho_0 D 102281 102279     55\n",
      " 105238 38995        0.2417     6        0.2420        0.2361   668253    2.43%           rho_0 U 105238 105237     58\n",
      " 108325 39696        0.2389    11        0.2420        0.2361   687159    2.43%          rho_13 D 108325 108324     54\n",
      " 111380 41107        0.2418    10        0.2420        0.2361   707542    2.43%           rho_0 D 111380 111378     57\n",
      "Elapsed time = 38.38 sec. (31720.58 ticks, tree = 12.34 MB, solutions = 3)\n",
      " 114242 42755        0.2361     7        0.2420        0.2361   728842    2.43%          rho_11 U 114242 114240     38\n",
      " 116640 44183        0.2361     9        0.2420        0.2361   752970    2.43%           rho_0 D 116640 116638     42\n",
      " 119441 45027        0.2362    11        0.2420        0.2361   775204    2.43%          rho_10 N 119441 119440     20\n",
      " 122635 46107        0.2361     3        0.2420        0.2361   794554    2.43%          rho_11 U 122635 122633     66\n",
      " 125554 46996        0.2361     9        0.2420        0.2361   815630    2.43%          rho_11 U 125554 125552     49\n",
      " 128297 48448        0.2361    10        0.2420        0.2361   838749    2.43%          rho_11 D 128297 128296     45\n",
      " 131130 48910        0.2409    14        0.2420        0.2361   857892    2.43%           rho_0 D 131130 131128     27\n",
      " 134017 49145        cutoff              0.2420        0.2361   876100    2.43%           rho_0 U 134017 134016     67\n",
      " 136925 49989        cutoff              0.2420        0.2361   895700    2.43%          rho_20 U 136925  96632     78\n",
      " 140611 51453        cutoff              0.2420        0.2361   914829    2.43%          rho_19 U 140611 138756     37\n",
      "Elapsed time = 47.56 sec. (41260.91 ticks, tree = 14.82 MB, solutions = 3)\n",
      " 143477 51785        0.2414     7        0.2420        0.2361   934980    2.43%          rho_15 D 143477 143476     62\n",
      " 146314 52037        0.2381     9        0.2420        0.2361   953945    2.43%           rho_7 N 146314 146188     56\n",
      " 149272 52579        cutoff              0.2420        0.2361   972592    2.43%           rho_0 U 149272 149271     81\n",
      " 151920 53767        0.2361     9        0.2420        0.2361   993441    2.43%          rho_11 D 151920 151919     59\n",
      " 155197 55251        0.2411     7        0.2420        0.2361  1011284    2.43%          rho_15 D 155197 155195     70\n",
      " 158057 56308        0.2377    15        0.2420        0.2361  1030610    2.43%           rho_1 U 158057 157861     59\n",
      " 160641 57525        0.2361     8        0.2420        0.2361  1050927    2.43%           rho_0 D 160641 160631     41\n",
      " 163465 58442        0.2379     8        0.2420        0.2361  1070234    2.43%           rho_7 U 163465  89172     25\n",
      " 166623 59642        0.2409     5        0.2420        0.2361  1089423    2.43%           rho_3 U 166623 166622     45\n",
      " 169709 60353        0.2392    13        0.2420        0.2361  1109269    2.43%           rho_0 D 169709 169707     43\n",
      "Elapsed time = 58.11 sec. (50800.04 ticks, tree = 16.94 MB, solutions = 3)\n",
      " 172709 60921        0.2405     7        0.2420        0.2361  1127451    2.43%           rho_3 D 172709 172707     50\n",
      " 175584 61796        cutoff              0.2420        0.2361  1146858    2.43%           rho_0 D 175584 175583     54\n",
      " 178063 62553        0.2379    14        0.2420        0.2361  1166960    2.43%          rho_11 D 178063 160601     50\n",
      " 180683 63539        0.2415     8        0.2420        0.2361  1186370    2.43%          rho_20 D 180683 180682     61\n",
      " 183336 64405        0.2371    15        0.2420        0.2361  1205859    2.43%           rho_1 U 183336 179058     24\n",
      " 185840 65211        0.2361    10        0.2420        0.2361  1226688    2.43%          rho_11 D 185840 185839     50\n",
      " 188931 66586        0.2389     7        0.2420        0.2361  1246453    2.43%           rho_7 D 188931 188930     62\n",
      " 191943 67832        cutoff              0.2420        0.2361  1266928    2.43%           rho_0 U 191943 191942     60\n",
      " 194556 68617        0.2364    14        0.2420        0.2361  1287903    2.43%          rho_19 N 194556 194555     51\n",
      " 197386 69582        0.2407    12        0.2420        0.2361  1307140    2.43%          rho_17 D 197386 197385     45\n",
      "Elapsed time = 67.39 sec. (60340.10 ticks, tree = 21.98 MB, solutions = 3)\n",
      " 200348 70472        0.2417     6        0.2420        0.2361  1325588    2.43%           rho_2 D 200348 200347     69\n",
      " 202885 71200        0.2394     9        0.2420        0.2361  1345994    2.43%          rho_20 U 202885 202884     47\n",
      " 205168 71983        0.2385     8        0.2420        0.2361  1365967    2.43%           rho_0 U 205168 205167     75\n",
      " 207896 73165        0.2415     5        0.2420        0.2361  1386706    2.43%           rho_3 N 207896 207895     29\n",
      " 210922 74285        0.2373     9        0.2420        0.2361  1405963    2.43%          rho_19 D 210922 210921     52\n",
      " 213859 75297        0.2419     5        0.2420        0.2361  1425271    2.43%           rho_2 D 213859 213858     66\n",
      " 216515 76096        0.2381     6        0.2420        0.2361  1445349    2.43%           rho_7 N 216515 100841     31\n",
      " 218875 76928        0.2361    12        0.2420        0.2361  1467424    2.43%           rho_1 D 218875 218745     47\n",
      " 221416 77883        0.2404    10        0.2420        0.2361  1489480    2.43%          rho_13 D 221416 221415     33\n",
      " 224198 78960        0.2404    11        0.2420        0.2361  1511540    2.43%          rho_13 D 224198 224197     77\n",
      "Elapsed time = 76.69 sec. (69878.63 ticks, tree = 24.29 MB, solutions = 3)\n",
      " 226999 80042        0.2419     3        0.2420        0.2361  1533391    2.43%          rho_20 D 226999 226998     35\n",
      " 229698 81040        cutoff              0.2420        0.2361  1554398    2.43%           rho_4 D 229698 229696     34\n",
      " 232466 82004        0.2398    13        0.2420        0.2361  1575570    2.43%          rho_20 D 232466 232465     58\n",
      " 234939 82827        0.2381    12        0.2420        0.2361  1597052    2.43%           rho_7 N 234939 234601     42\n",
      " 237281 83620        0.2367    13        0.2420        0.2361  1618329    2.43%           rho_1 N 237281 237280     63\n",
      " 239977 84763        cutoff              0.2420        0.2361  1638953    2.43%           rho_1 D 239977 239976     49\n",
      " 243070 85763        0.2404     9        0.2420        0.2361  1659226    2.43%          rho_13 D 243070 243069     63\n",
      " 245857 86655        0.2361     7        0.2420        0.2361  1680270    2.43%          rho_11 U 245857 245802     36\n",
      " 248463 87811        0.2361     8        0.2420        0.2361  1702374    2.43%          rho_11 U 248463 248461     29\n",
      " 251045 89299        cutoff              0.2420        0.2361  1725601    2.43%           rho_0 U 251045 251044     42\n",
      "Elapsed time = 86.84 sec. (79417.66 ticks, tree = 26.78 MB, solutions = 3)\n",
      " 254296 90730        0.2400     9        0.2420        0.2361  1745303    2.43%           rho_1 D 254296 254295     56\n",
      " 257518 92136        0.2394    13        0.2420        0.2361  1764701    2.43%          rho_19 N 257518 257390     72\n",
      " 260729 93531        0.2384     9        0.2420        0.2361  1783922    2.43%           rho_6 D 260729 260728     56\n",
      " 263955 94943        0.2414     3        0.2420        0.2361  1803232    2.43%          rho_14 D 263955 263954     56\n",
      " 266720 95994        0.2412     3        0.2420        0.2361  1821761    2.43%          rho_21 N 266720 266719     54\n",
      " 269379 97064        0.2361     8        0.2420        0.2361  1839967    2.43%          rho_11 U 269379 269368     39\n",
      " 271968 98002        0.2397    12        0.2420        0.2361  1860058    2.43%           rho_8 N 271968 271966     24\n",
      " 274141 99072        0.2376    10        0.2420        0.2361  1883993    2.43%           rho_8 N 274141 274140     37\n",
      " 276443 100050        0.2404     9        0.2420        0.2361  1905556    2.43%          rho_17 D 276443 276442     62\n",
      " 287916 103604        0.2397     7        0.2420        0.2361  1980343    2.43%          rho_10 N 287916 287915     41\n",
      "Elapsed time = 102.47 sec. (91818.14 ticks, tree = 30.27 MB, solutions = 3)\n",
      " 298625 106485        0.2411     5        0.2420        0.2361  2055693    2.43%          rho_13 D 298625 298624     45\n",
      " 309297 109462        0.2365    14        0.2420        0.2361  2135857    2.43%          rho_19 D 309297 309296     58\n",
      " 320431 114023        0.2386    12        0.2420        0.2361  2214089    2.43%          rho_10 D 320431 320430     53\n",
      " 331404 119071        0.2361    10        0.2420        0.2361  2291739    2.43%           rho_0 D 331404 331402     45\n",
      " 341515 122308        0.2361    12        0.2420        0.2361  2372334    2.43%          rho_17 N 341515  30024     52\n",
      " 351162 125641        0.2414    13        0.2420        0.2361  2452705    2.43%          rho_17 D 351162 351160     44\n",
      " 361522 129086        0.2386    13        0.2420        0.2361  2532487    2.43%          rho_20 D 361522 361521     54\n",
      " 371509 133187        0.2361    12        0.2420        0.2361  2615756    2.43%          rho_11 D 371509 371508     35\n",
      " 381544 137482        0.2405     9        0.2420        0.2361  2696802    2.43%           rho_0 U 381544 381543     42\n",
      " 391199 141036        0.2361    13        0.2420        0.2361  2777482    2.43%          rho_11 D 391199 391198     53\n",
      "Elapsed time = 149.69 sec. (129965.88 ticks, tree = 42.24 MB, solutions = 3)\n",
      " 400875 144857        0.2412     7        0.2420        0.2361  2860001    2.43%           rho_0 N 400875 400873     70\n",
      " 411361 147948        0.2376    12        0.2420        0.2361  2935611    2.43%           rho_1 U 411361 243937     60\n",
      " 422161 150597        0.2406     8        0.2420        0.2361  3006924    2.43%           rho_3 N 422161 422160     55\n",
      " 432888 154277        0.2361    11        0.2420        0.2361  3082001    2.43%           rho_0 D 432888 432886     28\n",
      " 442060 158003        0.2361     8        0.2420        0.2361  3163928    2.43%           rho_8 U 442060 442050     28\n",
      " 451508 160658        cutoff              0.2420        0.2361  3244366    2.43%           rho_8 U 451508 451507     46\n",
      " 462012 164903        0.2361    14        0.2420        0.2361  3322054    2.43%           rho_8 D 462012 462010     58\n",
      " 471900 167463        0.2385    11        0.2420        0.2361  3397673    2.43%           rho_9 D 471900 471898     48\n",
      " 480774 171202        cutoff              0.2420        0.2361  3480884    2.43%          rho_19 U 480774 480773     46\n",
      " 490574 175207        0.2374    13        0.2420        0.2361  3559295    2.43%          rho_10 U 490574 490573     47\n",
      "Elapsed time = 190.95 sec. (168116.69 ticks, tree = 52.23 MB, solutions = 3)\n",
      " 500281 178573        0.2391    11        0.2420        0.2361  3635909    2.43%          rho_19 N 500281 500280     20\n",
      "\n",
      "Implied bound cuts applied:  2\n",
      "User cuts applied:  426\n",
      "\n",
      "Root node processing (before b&c):\n",
      "  Real time             =    0.20 sec. (1.59 ticks)\n",
      "Sequential b&c:\n",
      "  Real time             =  199.81 sec. (175682.47 ticks)\n",
      "                          ------------\n",
      "Total (root+branch&cut) =  200.02 sec. (175684.06 ticks)\n",
      "+----------------------------------------------+------------------+-----------+\n",
      "| Pr(Y = +1) = 1.0/(1.0 + exp(-(-4 + score))   |                  |           |\n",
      "| ============================================ | ================ | ========= |\n",
      "| p_violence>=1                                |         2 points |   + ..... |\n",
      "| sex>=1                                       |         1 points |   + ..... |\n",
      "| p_arrest>=3                                  |         1 points |   + ..... |\n",
      "| ============================================ | ================ | ========= |\n",
      "| ADD POINTS FROM ROWS 1 to 3                  |            SCORE |   = ..... |\n",
      "+----------------------------------------------+------------------+-----------+\n",
      "model_id, score_thresholds 0 {'rank_abs': [0]}\n",
      "get_disparity_predefined_group()\n"
     ]
    },
    {
     "name": "stderr",
     "output_type": "stream",
     "text": [
      "C:\\Users\\binha\\Documents\\Duke\\Cynthia Research\\psa-analysis - test2\\utils\\fairness_functions.py:82: RuntimeWarning:\n",
      "\n",
      "invalid value encountered in longlong_scalars\n",
      "\n",
      "C:\\Users\\binha\\Documents\\Duke\\Cynthia Research\\psa-analysis - test2\\utils\\fairness_functions.py:95: RuntimeWarning:\n",
      "\n",
      "divide by zero encountered in longlong_scalars\n",
      "\n",
      "C:\\Users\\binha\\Documents\\Duke\\Cynthia Research\\psa-analysis - test2\\utils\\fairness_functions.py:86: RuntimeWarning:\n",
      "\n",
      "invalid value encountered in longlong_scalars\n",
      "\n",
      "C:\\Users\\binha\\Documents\\Duke\\Cynthia Research\\psa-analysis - test2\\utils\\fairness_functions.py:95: RuntimeWarning:\n",
      "\n",
      "invalid value encountered in longlong_scalars\n",
      "\n"
     ]
    },
    {
     "name": "stdout",
     "output_type": "stream",
     "text": [
      "setting c0 = 0.0 to ensure that intercept is not penalized\n",
      "10/01/19 @ 01:59 PM | 941 rows in lookup table\n",
      "10/01/19 @ 01:59 PM | ------------------------------------------------------------\n",
      "10/01/19 @ 01:59 PM | runnning initialization procedure\n",
      "10/01/19 @ 01:59 PM | ------------------------------------------------------------\n",
      "10/01/19 @ 01:59 PM | CPA produced 2 cuts\n",
      "10/01/19 @ 01:59 PM | running naive rounding on 67 solutions\n",
      "10/01/19 @ 01:59 PM | best objective value: 0.2377\n",
      "10/01/19 @ 01:59 PM | rounding produced 5 integer solutions\n",
      "10/01/19 @ 01:59 PM | best objective value is 0.2446\n",
      "10/01/19 @ 01:59 PM | running sequential rounding on 67 solutions\n",
      "10/01/19 @ 01:59 PM | best objective value: 0.2377\n",
      "10/01/19 @ 01:59 PM | sequential rounding produced 6 integer solutions\n",
      "10/01/19 @ 01:59 PM | best objective value: 0.2413\n",
      "10/01/19 @ 01:59 PM | polishing 11 solutions\n",
      "10/01/19 @ 01:59 PM | best objective value: 0.2413\n",
      "10/01/19 @ 01:59 PM | polishing produced 4 integer solutions\n",
      "10/01/19 @ 01:59 PM | initialization produced 9 feasible solutions\n",
      "10/01/19 @ 01:59 PM | best objective value: 0.2413\n",
      "10/01/19 @ 01:59 PM | ------------------------------------------------------------\n",
      "10/01/19 @ 01:59 PM | completed initialization procedure\n",
      "10/01/19 @ 01:59 PM | ------------------------------------------------------------\n",
      "10/01/19 @ 01:59 PM | 941 rows in lookup table\n",
      "CPXPARAM_Read_DataCheck                          1\n",
      "CPXPARAM_Threads                                 1\n",
      "CPXPARAM_Parallel                                1\n",
      "CPXPARAM_RandomSeed                              0\n",
      "CPXPARAM_TimeLimit                               200\n",
      "CPXPARAM_MIP_Tolerances_LowerCutoff              0.23539829170667065\n",
      "CPXPARAM_MIP_Tolerances_UpperCutoff              0.24129723588848201\n"
     ]
    },
    {
     "name": "stderr",
     "output_type": "stream",
     "text": [
      "Warning: Control callbacks may disable some MIP features.\n"
     ]
    },
    {
     "name": "stdout",
     "output_type": "stream",
     "text": [
      "Lazy constraint(s) or lazy constraint callback is present.\n",
      "    Disabling dual reductions (CPX_PARAM_REDUCE) in presolve.\n",
      "    Disabling non-linear reductions (CPX_PARAM_PRELINEAR) in presolve.\n",
      "         Disabling repeat represolve because of lazy constraint/incumbent callback.\n",
      "10/01/19 @ 01:59 PM | adding 249 initial cuts\n",
      "1 of 1 MIP starts provided solutions.\n",
      "MIP start 'mip_start_0' defined initial solution with objective 0.2413.\n",
      "Tried aggregator 1 time.\n",
      "Reduced MIP has 23 rows, 46 columns, and 87 nonzeros.\n",
      "Reduced MIP has 21 binaries, 23 generals, 0 SOSs, and 0 indicators.\n",
      "Presolve time = 0.00 sec. (0.05 ticks)\n",
      "Probing time = 0.00 sec. (0.01 ticks)\n",
      "MIP emphasis: balance optimality and feasibility.\n",
      "MIP search method: traditional branch-and-cut.\n",
      "Parallel mode: none, using 1 thread.\n",
      "Root relaxation solution time = 0.00 sec. (0.03 ticks)\n",
      "\n",
      "        Nodes                                         Cuts/\n",
      "   Node  Left     Objective  IInf  Best Integer    Best Bound    ItCnt     Gap         Variable B NodeID Parent  Depth\n",
      "\n",
      "*     0+    0                            0.2413        0.2354             2.45%\n",
      "      0     0        0.2354     1        0.2413        0.2354        1    2.44%\n",
      "      0     0        0.2354     2        0.2413       Cuts: 2        2    2.44%\n",
      "      0     0        0.2354     2        0.2413    MIRcuts: 1        3    2.44%\n",
      "      0     2        0.2354     5        0.2413        0.2354        3    2.44%                        0             0\n",
      "Elapsed time = 0.14 sec. (1.56 ticks, tree = 0.01 MB, solutions = 1)\n",
      "   2930  1039        0.2354     1        0.2413        0.2354    10578    2.44%          rho_11 U   2930   2928     55\n",
      "   4652  1710        0.2354     4        0.2413        0.2354    20145    2.44%           rho_0 D   4652   4650     59\n",
      "   6490  2448        0.2354     1        0.2413        0.2354    29009    2.44%           rho_0 D   6490   6488     72\n",
      "   8220  3068        0.2354     7        0.2413        0.2354    37411    2.44%           rho_9 D   8220   8219      5\n",
      "   9674  3652        0.2354     3        0.2413        0.2354    44532    2.44%           rho_6 D   9674   9673     21\n",
      "  10980  4211        0.2408     5        0.2413        0.2354    50529    2.44%           rho_8 U  10980  10979     17\n",
      "  12060  4755        0.2354     7        0.2413        0.2354    56754    2.44%           rho_7 D  12060   8939     66\n",
      "  13177  5042        cutoff              0.2413        0.2354    62784    2.44%          rho_14 U  13177  13175     69\n",
      "  14406  5200        cutoff              0.2413        0.2354    69681    2.44%          rho_20 U  14406  14405     50\n",
      "  19200  7000        0.2380     4        0.2413        0.2354    98629    2.44%          rho_17 U  19200  11828     39\n",
      "Elapsed time = 5.70 sec. (3104.12 ticks, tree = 1.81 MB, solutions = 1)\n",
      "  23709  8823        0.2354     7        0.2413        0.2354   125542    2.44%           rho_7 D  23709  23708     45\n",
      "  27720 10342        0.2412     6        0.2413        0.2354   151517    2.44%           rho_7 U  27720  19604     46\n",
      "  31415 12060        0.2372    15        0.2413        0.2354   178563    2.44%          rho_18 U  31415  31414     79\n",
      "  34494 12909        0.2363    13        0.2413        0.2354   203884    2.44%          rho_11 D  34494  34493     53\n",
      "  37747 13626        0.2386    13        0.2413        0.2354   228226    2.44%           rho_1 D  37747  37746     24\n",
      "  41230 15363        0.2411     9        0.2413        0.2354   253256    2.44%           rho_0 D  41230  41229     61\n",
      "  44818 16658        cutoff              0.2413        0.2354   276431    2.44%           rho_0 U  44818  44796     98\n",
      "  48396 18147        0.2358     9        0.2413        0.2354   297688    2.44%          rho_11 N  48396  48333     42\n",
      "  51362 19669        0.2354     6        0.2413        0.2354   323351    2.44%           rho_0 D  51362  51360     74\n",
      "  54910 21207        0.2383     6        0.2413        0.2354   344641    2.44%           rho_7 N  54910  54909     54\n",
      "Elapsed time = 19.53 sec. (12642.80 ticks, tree = 6.08 MB, solutions = 1)\n",
      "  58621 22341        cutoff              0.2413        0.2354   366977    2.44%           rho_5 U  58621  58620     43\n",
      "  62132 23939        0.2354    10        0.2413        0.2354   388433    2.44%          rho_17 D  62132  61798     45\n",
      "  65594 25471        0.2360    13        0.2413        0.2354   410130    2.44%           rho_9 D  65594  65593     25\n",
      "  69196 27171        cutoff              0.2413        0.2354   432209    2.44%           rho_7 U  69196  69194     56\n",
      "  72552 28633        0.2392     7        0.2413        0.2354   455143    2.44%           rho_7 D  72552  72551     36\n",
      "  76390 30153        0.2391     3        0.2413        0.2354   475865    2.44%           rho_8 N  76390  76389     55\n",
      "  79713 31361        cutoff              0.2413        0.2354   497566    2.44%           rho_7 U  79713  79710     38\n",
      "  83160 32659        0.2364    11        0.2413        0.2354   518402    2.44%          rho_13 D  83160  83159     46\n",
      "  86688 33709        0.2363     9        0.2413        0.2354   537997    2.44%          rho_11 D  86688  86687     27\n",
      "  89847 34968        0.2354    12        0.2413        0.2354   562930    2.44%          rho_11 D  89847  89599     86\n",
      "Elapsed time = 30.97 sec. (22181.07 ticks, tree = 10.66 MB, solutions = 1)\n",
      "  93070 36200        0.2359    10        0.2413        0.2354   586538    2.44%          rho_19 N  93070  93069     80\n",
      "  96410 37566        0.2354    11        0.2413        0.2354   606525    2.44%          rho_19 N  96410  96409     40\n",
      "  99614 38770        0.2354     6        0.2413        0.2354   626643    2.44%           rho_0 D  99614  99611     65\n",
      " 102982 39793        cutoff              0.2413        0.2354   646036    2.44%           rho_5 U 102982 102981     67\n",
      " 106234 40930        0.2365    10        0.2413        0.2354   665579    2.44%           rho_0 D 106234 106233     43\n",
      " 109834 42503        0.2360     9        0.2413        0.2354   685923    2.44%          rho_19 N 109834 109832     53\n",
      " 112990 43624        0.2372    10        0.2413        0.2354   707115    2.44%          rho_12 D 112990 112988     44\n",
      " 115963 45147        0.2362    11        0.2413        0.2354   729858    2.44%          rho_17 D 115963 115962     61\n",
      " 118705 46799        0.2360    14        0.2413        0.2354   752305    2.44%          rho_19 N 118705 118704     31\n",
      " 121750 48404        0.2398     7        0.2413        0.2354   771969    2.44%           rho_4 D 121750 121748     35\n",
      "Elapsed time = 42.25 sec. (31722.18 ticks, tree = 13.84 MB, solutions = 1)\n",
      " 124706 49784        0.2384    14        0.2413        0.2354   789570    2.44%          rho_20 D 124706 124705     46\n",
      " 128213 51287        0.2408    18        0.2413        0.2354   812030    2.44%          rho_11 D 128213 128212     39\n",
      " 131443 52613        0.2354    12        0.2413        0.2354   832970    2.44%          rho_11 D 131443 131442     36\n",
      " 134948 54479        0.2354     8        0.2413        0.2354   854093    2.44%          rho_11 U 134948 134945     29\n",
      " 138016 55886        cutoff              0.2413        0.2354   875257    2.44%           rho_6 U 138016 138015     38\n",
      " 141197 56943        0.2399     9        0.2413        0.2354   894561    2.44%          rho_19 D 141197 141195     38\n",
      " 144321 57863        0.2372    15        0.2413        0.2354   914163    2.44%          rho_19 D 144321 144320     59\n",
      " 147235 58580        0.2407     1        0.2413        0.2354   933912    2.44%           rho_8 N 147235 147234     37\n",
      " 150381 59614        0.2371     5        0.2413        0.2354   954241    2.44%           rho_1 D 150381 150376     63\n",
      " 153440 60247        0.2372    12        0.2413        0.2354   971623    2.44%           rho_6 D 153440 153439     54\n",
      "Elapsed time = 55.50 sec. (41260.37 ticks, tree = 16.62 MB, solutions = 1)\n",
      " 156395 61592        0.2365    12        0.2413        0.2354   992252    2.44%           rho_0 U 156395 156394     39\n",
      " 159434 62530        0.2399     9        0.2413        0.2354  1011059    2.44%           rho_6 D 159434 159432     38\n",
      " 162412 63329        0.2402    13        0.2413        0.2354  1028880    2.44%           rho_6 D 162412 162410     37\n",
      " 165470 63800        0.2395    10        0.2413        0.2354  1046243    2.44%          rho_19 N 165470 165449     61\n",
      " 168168 64900        0.2388    13        0.2413        0.2354  1066504    2.44%          rho_19 D 168168 168167     50\n",
      " 170987 65961        0.2359    12        0.2413        0.2354  1086882    2.44%          rho_11 N 170987 170986     60\n",
      " 174140 66963        0.2354    10        0.2413        0.2354  1105692    2.44%           rho_7 D 174140 121615     55\n",
      " 177191 67810        cutoff              0.2413        0.2354  1123918    2.44%           rho_6 U 177191 177188     65\n",
      " 179781 68874        0.2399     8        0.2413        0.2354  1146337    2.44%          rho_17 U 179781 115314     63\n",
      " 182676 69639        0.2405     7        0.2413        0.2354  1165419    2.44%          rho_15 U 182676 182675     35\n",
      "Elapsed time = 66.34 sec. (50799.29 ticks, tree = 21.71 MB, solutions = 1)\n",
      "*185237 70341      integral     0        0.2413        0.2354  1179132    2.44%\n",
      " 185814 70523        0.2412     9        0.2413        0.2354  1183099    2.44%           rho_8 N 185814 112854     34\n",
      " 188476 71066        cutoff              0.2413        0.2354  1201960    2.44%          rho_15 U 188476 188475     59\n",
      " 191550 72197        0.2393     7        0.2413        0.2354  1222305    2.44%          rho_13 D 191550 191549     53\n",
      " 194580 73406        0.2358    14        0.2413        0.2354  1242787    2.44%          rho_17 N 194580 194579     31\n",
      " 197331 74640        0.2354     9        0.2413        0.2354  1264997    2.44%          rho_11 U 197331 197232     30\n",
      " 200347 75790        0.2354     9        0.2413        0.2354  1285200    2.44%          rho_19 D 200347 200346     45\n",
      " 203661 76944        cutoff              0.2413        0.2354  1305356    2.44%          rho_10 U 203661 203659     58\n",
      " 206394 78107        0.2354     7        0.2413        0.2354  1325451    2.44%          rho_11 U 206394 206392     22\n",
      " 209199 79592        0.2397     9        0.2413        0.2354  1345415    2.44%           rho_5 D 209199 209196     65\n",
      " 211821 80660        0.2360     8        0.2413        0.2354  1366905    2.44%          rho_10 D 211821 183893     41\n",
      "Elapsed time = 76.80 sec. (60339.18 ticks, tree = 24.36 MB, solutions = 2)\n",
      " 214947 82093        cutoff              0.2413        0.2354  1385459    2.44%           rho_0 U 214947 214946     53\n",
      " 218162 83480        0.2410     7        0.2413        0.2354  1402998    2.44%          rho_13 U 218162 218161     60\n",
      " 221281 84282        0.2382     9        0.2413        0.2354  1420509    2.44%           rho_6 D 221281 221279     45\n",
      "*222425 84678      integral     0        0.2413        0.2354  1427802    2.44%\n",
      " 224100 85319        0.2397    13        0.2413        0.2354  1440686    2.44%          rho_10 D 224100 224098     60\n",
      " 227035 86453        cutoff              0.2413        0.2354  1461858    2.44%           rho_5 U 227035 227034     48\n",
      " 229891 87565        0.2354     7        0.2413        0.2354  1482301    2.44%           rho_8 D 229891 229889     46\n",
      " 232770 88513        0.2380     9        0.2413        0.2354  1501489    2.44%           rho_5 D 232770 232768     40\n",
      " 235641 89129        0.2391    11        0.2413        0.2354  1520669    2.44%          rho_19 N 235641 235639     35\n",
      " 238708 90066        0.2393    11        0.2413        0.2354  1538549    2.44%           rho_6 D 238708 238706     54\n",
      " 241730 90718        0.2401    10        0.2413        0.2354  1557319    2.44%           rho_6 D 241730 241729     57\n",
      "Elapsed time = 86.48 sec. (69878.79 ticks, tree = 26.77 MB, solutions = 3)\n",
      " 244606 91494        0.2372    15        0.2413        0.2354  1576459    2.44%          rho_19 D 244606 244605     36\n",
      " 247390 92270        0.2381    11        0.2413        0.2354  1597231    2.44%          rho_12 U 247390 247389     50\n",
      " 250513 92968        0.2354    10        0.2413        0.2354  1616782    2.44%           rho_7 D 250513 146320     57\n",
      " 253148 93747        0.2407     9        0.2413        0.2354  1636494    2.44%          rho_20 D 253148 253147     43\n",
      " 255875 95030        0.2354     8        0.2413        0.2354  1656874    2.44%           rho_8 D 255875 255873     41\n",
      " 258634 95947        0.2382     8        0.2413        0.2354  1677120    2.44%           rho_7 N 258634  66774     82\n",
      " 261295 96636        0.2382     9        0.2413        0.2354  1697495    2.44%           rho_6 D 261295 261293     68\n",
      " 263800 97189        0.2376    13        0.2413        0.2354  1717368    2.44%          rho_19 D 263800 263799     27\n",
      " 266555 97897        0.2355    15        0.2413        0.2354  1738447    2.44%          rho_11 N 266555 266554     28\n",
      " 269270 98866        0.2392     7        0.2413        0.2354  1759346    2.44%           rho_7 D 269270 269269     34\n",
      "Elapsed time = 96.19 sec. (79420.06 ticks, tree = 28.76 MB, solutions = 3)\n",
      " 271930 99701        0.2354    10        0.2413        0.2354  1779783    2.44%           rho_7 D 271930 271929     63\n",
      " 274597 100708        0.2394     7        0.2413        0.2354  1801863    2.44%           rho_8 U 274597 274596     56\n",
      " 277295 101326        0.2407     9        0.2413        0.2354  1822813    2.44%           rho_1 D 277295 277294     29\n",
      " 279829 101921        0.2354    12        0.2413        0.2354  1844216    2.44%          rho_11 D 279829 279828     32\n",
      " 282285 102991        0.2354    10        0.2413        0.2354  1867928    2.44%          rho_11 U 282285 282283     29\n",
      " 285017 103985        0.2384     2        0.2413        0.2354  1889157    2.44%           rho_0 U 285017 285016     43\n",
      " 287624 105067        0.2410     6        0.2413        0.2354  1910243    2.44%          rho_17 U 287624 287621     33\n",
      " 290482 105958        0.2408     5        0.2413        0.2354  1929667    2.44%           rho_8 U 290482 290481     49\n",
      " 293346 106921        0.2365    12        0.2413        0.2354  1950508    2.44%          rho_20 D 293346 293345     37\n",
      " 304719 110391        0.2408    10        0.2413        0.2354  2028762    2.44%          rho_19 D 304719 304718     56\n",
      "Elapsed time = 108.91 sec. (91821.12 ticks, tree = 31.55 MB, solutions = 3)\n",
      " 315802 114064        0.2354     9        0.2413        0.2354  2105054    2.44%          rho_11 D 315802 315801     54\n",
      " 326853 117575        0.2354    12        0.2413        0.2354  2183773    2.44%           rho_7 D 326853 326852     56\n",
      " 337604 121582        0.2392    15        0.2413        0.2354  2268808    2.44%          rho_17 D 337604 337603     71\n",
      " 349091 125691        0.2388    11        0.2413        0.2354  2350704    2.44%           rho_6 D 349091 349090     72\n",
      " 359622 130164        0.2380    12        0.2413        0.2354  2433049    2.44%           rho_1 D 359622 356110     83\n",
      " 371508 134457        0.2354    10        0.2413        0.2354  2506995    2.44%          rho_11 U 371508 371506     59\n",
      " 382655 137407        cutoff              0.2413        0.2354  2585144    2.44%           rho_6 D 382655 382654     50\n",
      " 393400 140573        0.2400     5        0.2413        0.2354  2664563    2.44%          rho_10 D 393400 393399     51\n",
      " 404143 143731        0.2363    12        0.2413        0.2354  2745740    2.44%          rho_18 D 404143 404142     36\n",
      " 415012 146502        0.2354    13        0.2413        0.2354  2824215    2.44%           rho_7 D 415012 127371     54\n",
      "Elapsed time = 152.23 sec. (129970.46 ticks, tree = 43.36 MB, solutions = 3)\n",
      " 425795 150453        0.2382     9        0.2413        0.2354  2902637    2.44%          rho_19 D 425795 425794     34\n",
      " 436931 152926        0.2373     9        0.2413        0.2354  2977471    2.44%           rho_7 D 436931 436930     46\n",
      " 447299 155127        0.2362    16        0.2413        0.2354  3052294    2.44%          rho_11 N 447299 447298     43\n",
      " 458241 158538        cutoff              0.2413        0.2354  3131025    2.44%          rho_20 D 458241 458240     59\n",
      " 469188 161821        0.2354    11        0.2413        0.2354  3209404    2.44%           rho_0 D 469188 469187     31\n",
      " 479802 165068        0.2385    13        0.2413        0.2354  3291205    2.44%          rho_20 D 479802 479801     50\n",
      " 489699 168924        0.2360    15        0.2413        0.2354  3374453    2.44%          rho_18 D 489699 161593     36\n",
      " 500079 172442        0.2406    17        0.2413        0.2354  3451388    2.44%          rho_11 D 500079 500011     38\n",
      " 510370 175237        0.2400    11        0.2413        0.2354  3527322    2.44%           rho_6 D 510370 510369     54\n",
      " 521228 178544        0.2363    12        0.2413        0.2354  3599544    2.44%           rho_7 N 521228 352497     66\n",
      "Elapsed time = 197.98 sec. (168120.22 ticks, tree = 52.89 MB, solutions = 3)\n",
      "\n",
      "User cuts applied:  415\n",
      "\n",
      "Root node processing (before b&c):\n",
      "  Real time             =    0.14 sec. (1.59 ticks)\n",
      "Sequential b&c:\n",
      "  Real time             =  199.88 sec. (169633.27 ticks)\n",
      "                          ------------\n",
      "Total (root+branch&cut) =  200.02 sec. (169634.86 ticks)\n",
      "+----------------------------------------------+------------------+-----------+\n",
      "| Pr(Y = +1) = 1.0/(1.0 + exp(-(-4 + score))   |                  |           |\n",
      "| ============================================ | ================ | ========= |\n",
      "| p_violence>=1                                |         2 points |   + ..... |\n",
      "| sex>=1                                       |         1 points |   + ..... |\n",
      "| p_arrest>=3                                  |         1 points |   + ..... |\n",
      "| ============================================ | ================ | ========= |\n",
      "| ADD POINTS FROM ROWS 1 to 3                  |            SCORE |   = ..... |\n",
      "+----------------------------------------------+------------------+-----------+\n",
      "model_id, score_thresholds 0 {'rank_abs': [0]}\n",
      "get_disparity_predefined_group()\n"
     ]
    },
    {
     "name": "stderr",
     "output_type": "stream",
     "text": [
      "C:\\Users\\binha\\Documents\\Duke\\Cynthia Research\\psa-analysis - test2\\utils\\fairness_functions.py:82: RuntimeWarning:\n",
      "\n",
      "invalid value encountered in longlong_scalars\n",
      "\n",
      "C:\\Users\\binha\\Documents\\Duke\\Cynthia Research\\psa-analysis - test2\\utils\\fairness_functions.py:95: RuntimeWarning:\n",
      "\n",
      "divide by zero encountered in longlong_scalars\n",
      "\n"
     ]
    },
    {
     "name": "stdout",
     "output_type": "stream",
     "text": [
      "setting c0 = 0.0 to ensure that intercept is not penalized\n",
      "10/01/19 @ 02:02 PM | 941 rows in lookup table\n",
      "10/01/19 @ 02:02 PM | ------------------------------------------------------------\n",
      "10/01/19 @ 02:02 PM | runnning initialization procedure\n",
      "10/01/19 @ 02:02 PM | ------------------------------------------------------------\n",
      "10/01/19 @ 02:02 PM | CPA produced 2 cuts\n",
      "10/01/19 @ 02:02 PM | running naive rounding on 57 solutions\n",
      "10/01/19 @ 02:02 PM | best objective value: 0.2397\n",
      "10/01/19 @ 02:02 PM | rounding produced 5 integer solutions\n",
      "10/01/19 @ 02:02 PM | best objective value is 0.2529\n",
      "10/01/19 @ 02:02 PM | running sequential rounding on 57 solutions\n",
      "10/01/19 @ 02:02 PM | best objective value: 0.2397\n",
      "10/01/19 @ 02:02 PM | sequential rounding produced 6 integer solutions\n",
      "10/01/19 @ 02:02 PM | best objective value: 0.2432\n",
      "10/01/19 @ 02:02 PM | polishing 11 solutions\n",
      "10/01/19 @ 02:02 PM | best objective value: 0.2432\n",
      "10/01/19 @ 02:02 PM | polishing produced 5 integer solutions\n",
      "10/01/19 @ 02:02 PM | initialization produced 13 feasible solutions\n",
      "10/01/19 @ 02:02 PM | best objective value: 0.2429\n",
      "10/01/19 @ 02:02 PM | ------------------------------------------------------------\n",
      "10/01/19 @ 02:02 PM | completed initialization procedure\n",
      "10/01/19 @ 02:02 PM | ------------------------------------------------------------\n",
      "10/01/19 @ 02:02 PM | 941 rows in lookup table\n",
      "CPXPARAM_Read_DataCheck                          1\n",
      "CPXPARAM_Threads                                 1\n",
      "CPXPARAM_Parallel                                1\n",
      "CPXPARAM_RandomSeed                              0\n",
      "CPXPARAM_TimeLimit                               200\n",
      "CPXPARAM_MIP_Tolerances_LowerCutoff              0.23712102867831461\n",
      "CPXPARAM_MIP_Tolerances_UpperCutoff              0.24290789996134321\n"
     ]
    },
    {
     "name": "stderr",
     "output_type": "stream",
     "text": [
      "Warning: Control callbacks may disable some MIP features.\n"
     ]
    },
    {
     "name": "stdout",
     "output_type": "stream",
     "text": [
      "Lazy constraint(s) or lazy constraint callback is present.\n",
      "    Disabling dual reductions (CPX_PARAM_REDUCE) in presolve.\n",
      "    Disabling non-linear reductions (CPX_PARAM_PRELINEAR) in presolve.\n",
      "         Disabling repeat represolve because of lazy constraint/incumbent callback.\n",
      "10/01/19 @ 02:02 PM | adding 249 initial cuts\n",
      "1 of 1 MIP starts provided solutions.\n",
      "MIP start 'mip_start_0' defined initial solution with objective 0.2429.\n",
      "Tried aggregator 1 time.\n",
      "Reduced MIP has 23 rows, 46 columns, and 87 nonzeros.\n",
      "Reduced MIP has 21 binaries, 23 generals, 0 SOSs, and 0 indicators.\n",
      "Presolve time = 0.00 sec. (0.05 ticks)\n",
      "Probing time = 0.00 sec. (0.01 ticks)\n",
      "MIP emphasis: balance optimality and feasibility.\n",
      "MIP search method: traditional branch-and-cut.\n",
      "Parallel mode: none, using 1 thread.\n",
      "Root relaxation solution time = 0.00 sec. (0.03 ticks)\n",
      "\n",
      "        Nodes                                         Cuts/\n",
      "   Node  Left     Objective  IInf  Best Integer    Best Bound    ItCnt     Gap         Variable B NodeID Parent  Depth\n",
      "\n",
      "*     0+    0                            0.2429        0.2371             2.39%\n",
      "      0     0        0.2371     1        0.2429        0.2371        1    2.38%\n",
      "      0     0        0.2371     2        0.2429       Cuts: 2        2    2.38%\n",
      "      0     0        0.2371     2        0.2429    MIRcuts: 1        3    2.38%\n",
      "      0     2        0.2371     5        0.2429        0.2371        3    2.38%                        0             0\n",
      "Elapsed time = 0.16 sec. (1.60 ticks, tree = 0.01 MB, solutions = 1)\n",
      "   2326   863        0.2371     7        0.2429        0.2371     9719    2.38%          rho_13 U   2326   2325     12\n",
      "   3700  1319        0.2427     6        0.2429        0.2371    16893    2.38%           rho_8 U   3700   3699     28\n",
      "   4780  1818        0.2371     6        0.2429        0.2371    23263    2.38%          rho_11 U   4780   4758     21\n",
      "   5849  2410        0.2420     6        0.2429        0.2371    29008    2.38%           rho_0 U   5849   5848     24\n",
      "   6985  2922        0.2424     6        0.2429        0.2371    34367    2.38%          rho_13 U   6985   4933     30\n",
      "   8080  3276        0.2380    10        0.2429        0.2371    39564    2.38%           rho_7 D   8080   8079     79\n",
      "   9101  3579        0.2380    10        0.2429        0.2371    45564    2.38%           rho_7 D   9101   8355     55\n",
      "  10158  3929        cutoff              0.2429        0.2371    51594    2.38%           rho_0 U  10158  10157     86\n",
      "  11239  4248        0.2371     4        0.2429        0.2371    57769    2.38%           rho_0 D  11239  11237     89\n",
      "  15537  6013        0.2382     9        0.2429        0.2371    81920    2.38%           rho_7 U  15537  15534     91\n",
      "Elapsed time = 6.67 sec. (3103.22 ticks, tree = 1.67 MB, solutions = 1)\n",
      "  19523  7410        0.2419     8        0.2429        0.2371   106792    2.38%          rho_17 D  19523  19522     64\n",
      "  23458  9279        cutoff              0.2429        0.2371   132398    2.38%           rho_2 U  23458  23457     46\n",
      "* 25039  9811      integral     0        0.2429        0.2371   144432    2.38%\n",
      "* 26762 10395      integral     0        0.2429        0.2371   154485    2.38%\n",
      "  27181 10614        0.2378    12        0.2429        0.2371   157226    2.38%           rho_0 D  27181  27179     71\n",
      "  31020 11693        0.2416     9        0.2429        0.2371   178706    2.38%          rho_17 D  31020  31019     77\n",
      "  34604 12701        0.2405     9        0.2429        0.2371   201836    2.38%           rho_4 D  34604  34602     93\n",
      "  38060 13867        0.2380    11        0.2429        0.2371   225542    2.38%          rho_17 D  38060  38059     44\n",
      "  41451 14795        0.2373     9        0.2429        0.2371   249561    2.38%           rho_7 N  41451  41393     39\n",
      "  44915 15629        0.2380    11        0.2429        0.2371   272552    2.38%           rho_6 D  44915  44914     71\n",
      "  48260 16460        0.2419    13        0.2429        0.2371   295175    2.38%           rho_6 D  48260  48258     53\n",
      "  51694 17793        0.2422     8        0.2429        0.2371   317677    2.38%           rho_7 D  51694  51692     58\n",
      "Elapsed time = 18.17 sec. (12641.22 ticks, tree = 5.42 MB, solutions = 3)\n",
      "  55096 18754        0.2394     9        0.2429        0.2371   340308    2.38%          rho_13 D  55096  55095     31\n",
      "  58140 19812        0.2371    14        0.2429        0.2371   366508    2.38%           rho_8 N  58140  58138     54\n",
      "  61426 20811        0.2371    10        0.2429        0.2371   389686    2.38%          rho_18 D  61426  61339     51\n",
      "  64753 22118        cutoff              0.2429        0.2371   411289    2.38%           rho_7 U  64753  64751     52\n",
      "  68540 23394        0.2393    11        0.2429        0.2371   429981    2.38%          rho_18 D  68540  68538     39\n",
      "  71899 24271        0.2423     5        0.2429        0.2371   449692    2.38%           rho_5 D  71899  71897     66\n",
      "  75344 25638        0.2371    11        0.2429        0.2371   470141    2.38%          rho_11 D  75344  75343     50\n",
      "  78846 26972        cutoff              0.2429        0.2371   490016    2.38%           rho_0 D  78846  78844     34\n",
      "  82455 28009        cutoff              0.2429        0.2371   509424    2.38%           rho_0 D  82455  82454     45\n",
      "  85747 29067        0.2371     7        0.2429        0.2371   531001    2.38%           rho_0 D  85747  85745     23\n",
      "Elapsed time = 29.95 sec. (22179.46 ticks, tree = 8.05 MB, solutions = 3)\n",
      "  89072 30572        0.2389     7        0.2429        0.2371   553255    2.38%           rho_7 D  89072  89071     49\n",
      "  92554 31824        0.2402     7        0.2429        0.2371   573722    2.38%          rho_17 N  92554  92541     39\n",
      "  95924 32950        0.2402     8        0.2429        0.2371   593770    2.38%           rho_7 N  95924  95922     26\n",
      "  99166 33943        0.2406     7        0.2429        0.2371   615436    2.38%          rho_15 D  99166  99165     39\n",
      " 102653 35303        0.2371     9        0.2429        0.2371   635640    2.38%           rho_0 D 102653 102588     53\n",
      " 106286 36920        0.2381    11        0.2429        0.2371   655899    2.38%           rho_0 U 106286  21997     81\n",
      " 109835 38358        cutoff              0.2429        0.2371   676972    2.38%           rho_0 U 109835 109834     52\n",
      " 113488 39792        0.2378    10        0.2429        0.2371   697166    2.38%          rho_19 N 113488 113487     44\n",
      " 116999 40675        cutoff              0.2429        0.2371   714697    2.38%          rho_21 D 116999 116998     62\n",
      " 119997 42237        0.2404    13        0.2429        0.2371   739933    2.38%           rho_6 D 119997 119996     46\n",
      "Elapsed time = 41.78 sec. (31717.71 ticks, tree = 12.48 MB, solutions = 3)\n",
      " 123031 43739        0.2371     9        0.2429        0.2371   764884    2.38%          rho_11 U 123031 123029     12\n",
      " 126216 44995        0.2396    10        0.2429        0.2371   787247    2.38%          rho_19 D 126216 126214     17\n",
      " 129595 46284        cutoff              0.2429        0.2371   808127    2.38%          rho_13 D 129595 129594     57\n",
      " 132903 47666        0.2371    11        0.2429        0.2371   829820    2.38%          rho_11 D 132903 132902     40\n",
      " 136144 49070        0.2423     8        0.2429        0.2371   851138    2.38%           rho_3 D 136144 136142     41\n",
      " 139407 50279        0.2393    11        0.2429        0.2371   871716    2.38%          rho_19 D 139407 139406     42\n",
      " 142630 51378        0.2409    11        0.2429        0.2371   891797    2.38%           rho_6 D 142630 142628     56\n",
      " 145924 52231        0.2371    12        0.2429        0.2371   911586    2.38%           rho_1 D 145924 145923     57\n",
      " 149507 53340        0.2406     7        0.2429        0.2371   930383    2.38%          rho_20 N 149507 149505     57\n",
      " 152963 54342        0.2408    12        0.2429        0.2371   950707    2.38%           rho_1 D 152963 152962     49\n",
      "Elapsed time = 53.78 sec. (41256.27 ticks, tree = 15.32 MB, solutions = 3)\n",
      " 156175 55360        0.2405     9        0.2429        0.2371   971679    2.38%          rho_20 D 156175 156174     44\n",
      " 159420 56521        0.2418     4        0.2429        0.2371   992943    2.38%           rho_0 U 159420 159418     41\n",
      " 162748 57961        cutoff              0.2429        0.2371  1015461    2.38%          rho_20 U 162748 162747     40\n",
      " 165992 58856        0.2371     5        0.2429        0.2371  1036065    2.38%          rho_11 U 165992 165990     52\n",
      " 168931 59748        0.2371     8        0.2429        0.2371  1058987    2.38%           rho_0 D 168931 168929     68\n",
      " 172230 60849        0.2419    13        0.2429        0.2371  1079747    2.38%           rho_6 D 172230 172228     34\n",
      " 175652 61987        0.2407     5        0.2429        0.2371  1099794    2.38%           rho_2 D 175652 175650     57\n",
      " 179053 63004        0.2394     7        0.2429        0.2371  1119196    2.38%          rho_13 D 179053 179051     61\n",
      " 182481 64072        0.2411     5        0.2429        0.2371  1139562    2.38%          rho_13 D 182481 182479     52\n",
      " 185673 65294        0.2371     8        0.2429        0.2371  1160700    2.38%          rho_11 D 185673 185672     29\n",
      "Elapsed time = 68.30 sec. (50794.08 ticks, tree = 17.87 MB, solutions = 3)\n",
      " 188608 66681        0.2379    15        0.2429        0.2371  1182151    2.38%           rho_9 D 188608 188606     60\n",
      " 191476 68029        0.2382    11        0.2429        0.2371  1203255    2.38%          rho_17 D 191476 191475     27\n",
      " 194283 69458        0.2377    15        0.2429        0.2371  1225022    2.38%          rho_17 N 194283 194282     20\n",
      " 197503 70365        0.2371    11        0.2429        0.2371  1245211    2.38%          rho_19 D 197503  84662     34\n",
      " 200779 71346        0.2424     5        0.2429        0.2371  1265578    2.38%           rho_2 D 200779 200778     33\n",
      " 203780 72103        0.2417    11        0.2429        0.2371  1286795    2.38%          rho_19 D 203780 203779     14\n",
      " 206943 73241        cutoff              0.2429        0.2371  1307114    2.38%           rho_5 U 206943 206942     56\n",
      " 210099 74458        0.2376    10        0.2429        0.2371  1328132    2.38%          rho_17 N 210099 210079     60\n",
      " 213118 75398        0.2408     5        0.2429        0.2371  1349751    2.38%           rho_7 N 213118 213117     68\n",
      " 216182 76472        0.2404     8        0.2429        0.2371  1371232    2.38%          rho_17 U 216182   1865     21\n",
      "Elapsed time = 83.47 sec. (60333.08 ticks, tree = 23.38 MB, solutions = 3)\n",
      " 219294 77282        0.2411     5        0.2429        0.2371  1392160    2.38%          rho_19 D 219294 219292     31\n",
      " 222570 78242        0.2417     6        0.2429        0.2371  1412671    2.38%           rho_7 U 222570 222568     39\n",
      " 225731 79435        0.2407    12        0.2429        0.2371  1434234    2.38%          rho_19 N 225731 225627     16\n",
      " 228844 80458        cutoff              0.2429        0.2371  1456380    2.38%          rho_11 U 228844 228843     18\n",
      " 231814 81462        0.2396    11        0.2429        0.2371  1477367    2.38%           rho_7 D 231814 231813     19\n",
      " 234881 82620        0.2371    10        0.2429        0.2371  1499211    2.38%           rho_0 D 234881 234849     42\n",
      " 238090 83701        0.2427     7        0.2429        0.2371  1520569    2.38%           rho_0 D 238090 238089     38\n",
      " 241231 84565        cutoff              0.2429        0.2371  1543759    2.38%          rho_19 D 241231 241230     61\n",
      " 244533 85623        cutoff              0.2429        0.2371  1564644    2.38%          rho_17 D 244533 244532     21\n",
      " 247579 86868        0.2383    13        0.2429        0.2371  1586486    2.38%          rho_19 U 247579  51030     42\n",
      "Elapsed time = 93.69 sec. (69871.13 ticks, tree = 25.87 MB, solutions = 3)\n",
      " 250358 88065        cutoff              0.2429        0.2371  1609133    2.38%          rho_15 U 250358 250357     49\n",
      " 253055 89127        0.2371    12        0.2429        0.2371  1634134    2.38%          rho_11 U 253055 252966     41\n",
      " 255688 90092        0.2423    10        0.2429        0.2371  1658686    2.38%           rho_6 D 255688 255687     56\n",
      " 259075 91073        0.2426     6        0.2429        0.2371  1677901    2.38%           rho_5 D 259075 259073     56\n",
      " 262328 92018        cutoff              0.2429        0.2371  1698409    2.38%          rho_13 U 262328 262326     50\n",
      " 265500 92955        0.2377    15        0.2429        0.2371  1717461    2.38%           rho_1 D 265500 265499     43\n",
      " 268611 94219        0.2415     5        0.2429        0.2371  1739433    2.38%           rho_6 D 268611 268609     42\n",
      " 271940 95544        0.2388    11        0.2429        0.2371  1759495    2.38%          rho_17 N 271940 271905     30\n",
      " 275180 96570        0.2392     6        0.2429        0.2371  1779294    2.38%           rho_7 N 275180 275179     20\n",
      " 278490 97819        0.2417     8        0.2429        0.2371  1799231    2.38%           rho_7 N 278490 278489     20\n",
      "Elapsed time = 104.22 sec. (79409.80 ticks, tree = 28.50 MB, solutions = 3)\n",
      " 281512 98880        0.2371    13        0.2429        0.2371  1820044    2.38%          rho_17 D 281512 281511     48\n",
      " 284509 100069        cutoff              0.2429        0.2371  1842838    2.38%           rho_0 U 284509 284508     35\n",
      " 287557 101358        cutoff              0.2429        0.2371  1865874    2.38%          rho_19 U 287557 287556     23\n",
      " 290830 102405        0.2421    10        0.2429        0.2371  1886222    2.38%          rho_17 D 290830 290829     25\n",
      " 293971 103189        0.2389    11        0.2429        0.2371  1904177    2.38%          rho_10 N 293971 142672     55\n",
      " 296885 104177        0.2371     6        0.2429        0.2371  1925710    2.38%           rho_0 U 296885 296884     27\n",
      " 299930 105386        0.2396    10        0.2429        0.2371  1948545    2.38%          rho_20 D 299930 299929     46\n",
      " 303110 106371        0.2402     9        0.2429        0.2371  1967791    2.38%           rho_1 D 303110 303109     28\n",
      " 306192 107440        cutoff              0.2429        0.2371  1987936    2.38%           rho_9 U 306192 306191     52\n",
      " 318432 111163        0.2409    10        0.2429        0.2371  2072714    2.38%          rho_19 N 318432 318372     33\n",
      "Elapsed time = 118.92 sec. (91809.50 ticks, tree = 31.67 MB, solutions = 3)\n",
      " 330472 115429        0.2388    14        0.2429        0.2371  2160699    2.38%          rho_19 N 330472 330408     46\n",
      " 342850 119907        cutoff              0.2429        0.2371  2244046    2.38%           rho_7 U 342850 342849     35\n",
      " 354838 124634        cutoff              0.2429        0.2371  2331456    2.38%           rho_7 D 354838 354837     39\n",
      " 367134 129683        0.2404    15        0.2429        0.2371  2418395    2.38%           rho_7 D 367134 367133     39\n",
      " 379495 134255        0.2402    14        0.2429        0.2371  2502951    2.38%          rho_17 D 379495 379494     58\n",
      " 392254 138664        cutoff              0.2429        0.2371  2584182    2.38%           rho_4 D 392254 392253     59\n",
      " 404762 142905        0.2407     7        0.2429        0.2371  2665483    2.38%          rho_17 N 404762 395082     63\n",
      " 417694 146880        0.2422     9        0.2429        0.2371  2746595    2.38%          rho_13 D 417694 417692     62\n",
      " 431113 152388        0.2416     6        0.2429        0.2371  2833638    2.38%           rho_0 U 431113 431112     59\n",
      " 444300 156803        0.2371    13        0.2429        0.2371  2910623    2.38%           rho_8 D 444300 444281     51\n",
      "Elapsed time = 167.53 sec. (129959.21 ticks, tree = 45.53 MB, solutions = 3)\n",
      " 455823 161167        cutoff              0.2429        0.2371  3001303    2.38%           rho_8 U 455823 455822     35\n",
      " 467156 165766        0.2377    17        0.2429        0.2371  3091510    2.38%          rho_17 N 467156 467155     37\n",
      " 479564 170556        0.2375    15        0.2429        0.2371  3174708    2.38%          rho_18 N 479564 475903     59\n",
      " 490921 175031        cutoff              0.2429        0.2371  3256258    2.38%           rho_5 D 490921 490919     27\n",
      " 502149 179461        cutoff              0.2429        0.2371  3338808    2.38%           rho_6 U 502149 502148     42\n",
      " 513888 183465        0.2371    10        0.2429        0.2371  3420519    2.38%           rho_8 D 513888 513886     44\n",
      " 525299 186282        0.2393     9        0.2429        0.2371  3496337    2.38%          rho_18 N 525299 142988     57\n",
      " 537836 190336        0.2422    11        0.2429        0.2371  3569026    2.38%          rho_20 D 537836 537835     58\n",
      "\n",
      "Implied bound cuts applied:  2\n",
      "User cuts applied:  372\n",
      "\n",
      "Root node processing (before b&c):\n",
      "  Real time             =    0.16 sec. (1.63 ticks)\n",
      "Sequential b&c:\n",
      "  Real time             =  199.86 sec. (163491.06 ticks)\n",
      "                          ------------\n",
      "Total (root+branch&cut) =  200.02 sec. (163492.70 ticks)\n",
      "+----------------------------------------------+------------------+-----------+\n",
      "| Pr(Y = +1) = 1.0/(1.0 + exp(-(-4 + score))   |                  |           |\n",
      "| ============================================ | ================ | ========= |\n",
      "| p_violence>=1                                |         2 points |   + ..... |\n",
      "| sex>=1                                       |         1 points |   + ..... |\n",
      "| p_arrest>=3                                  |         1 points |   + ..... |\n",
      "| ============================================ | ================ | ========= |\n",
      "| ADD POINTS FROM ROWS 1 to 3                  |            SCORE |   = ..... |\n",
      "+----------------------------------------------+------------------+-----------+\n",
      "model_id, score_thresholds 0 {'rank_abs': [0]}\n",
      "get_disparity_predefined_group()\n"
     ]
    },
    {
     "name": "stderr",
     "output_type": "stream",
     "text": [
      "C:\\Users\\binha\\Documents\\Duke\\Cynthia Research\\psa-analysis - test2\\utils\\fairness_functions.py:82: RuntimeWarning:\n",
      "\n",
      "invalid value encountered in longlong_scalars\n",
      "\n",
      "C:\\Users\\binha\\Documents\\Duke\\Cynthia Research\\psa-analysis - test2\\utils\\fairness_functions.py:95: RuntimeWarning:\n",
      "\n",
      "divide by zero encountered in longlong_scalars\n",
      "\n",
      "C:\\Users\\binha\\Documents\\Duke\\Cynthia Research\\psa-analysis - test2\\utils\\fairness_functions.py:86: RuntimeWarning:\n",
      "\n",
      "invalid value encountered in longlong_scalars\n",
      "\n",
      "C:\\Users\\binha\\Documents\\Duke\\Cynthia Research\\psa-analysis - test2\\utils\\fairness_functions.py:95: RuntimeWarning:\n",
      "\n",
      "invalid value encountered in longlong_scalars\n",
      "\n"
     ]
    }
   ],
   "source": [
    "riskslim_summary = slim.risk_cv(X=sub_X, \n",
    "                                Y=sub_Y, \n",
    "                                indicator = indicator,\n",
    "                                y_label='recid_violent2', \n",
    "                                max_coef=20, \n",
    "                                max_coef_number=10, \n",
    "                                max_runtime=200, \n",
    "                                c=1e-6, \n",
    "                                seed=816)"
   ]
  },
  {
   "cell_type": "code",
   "execution_count": 18,
   "metadata": {},
   "outputs": [
    {
     "data": {
      "text/plain": [
       "(0.7834063895447976, 0.7833236414161023)"
      ]
     },
     "execution_count": 18,
     "metadata": {},
     "output_type": "execute_result"
    }
   ],
   "source": [
    "np.mean(riskslim_summary['train_auc']), np.mean(riskslim_summary['test_auc'])"
   ]
  },
  {
   "cell_type": "markdown",
   "metadata": {},
   "source": [
    "### Arnold PSA"
   ]
  },
  {
   "cell_type": "code",
   "execution_count": 19,
   "metadata": {},
   "outputs": [],
   "source": [
    "### load data\n",
    "data = pd.read_csv(\"~/Documents/Duke/Cynthia Research/KY-analysis-mytrials/KY Recidivism/KY data/kentucky_data.csv\")\n",
    "X_arnold = data['pvf_risk_score_raw'].values\n",
    "Y_arnold = data['recid_violence_two_year'].values\n",
    "\n",
    "## set up cross validation\n",
    "cv = KFold(n_splits=5,shuffle=True,random_state=816)\n",
    "arnold_auc = []\n",
    "for train, test in cv.split(X_arnold, Y_arnold):\n",
    "    y_pred_arnold, y_test = X_arnold[test], Y_arnold[test]\n",
    "    arnold_auc.append(roc_auc_score(y_test, y_pred_arnold))"
   ]
  },
  {
   "cell_type": "markdown",
   "metadata": {},
   "source": [
    "### Corel"
   ]
  },
  {
   "cell_type": "code",
   "execution_count": 2,
   "metadata": {},
   "outputs": [],
   "source": [
    "## load stumps data\n",
    "data = pd.read_csv(\"~/Documents/Duke/Cynthia Research/KY-analysis-mytrials/KY Recidivism/KY data/kentucky_stumps.csv\")\n",
    "x, y = data.loc[:,:'current_violence>=1'], data['recid_violence_two_year'].values\n",
    "y[y == -1] = 0"
   ]
  },
  {
   "cell_type": "code",
   "execution_count": 3,
   "metadata": {
    "scrolled": true
   },
   "outputs": [
    {
     "name": "stderr",
     "output_type": "stream",
     "text": [
      "C:\\Users\\binha\\Documents\\Duke\\Cynthia Research\\psa-analysis - test2\\utils\\fairness_functions.py:82: RuntimeWarning:\n",
      "\n",
      "invalid value encountered in longlong_scalars\n",
      "\n",
      "C:\\Users\\binha\\Documents\\Duke\\Cynthia Research\\psa-analysis - test2\\utils\\fairness_functions.py:95: RuntimeWarning:\n",
      "\n",
      "divide by zero encountered in longlong_scalars\n",
      "\n",
      "C:\\Users\\binha\\Documents\\Duke\\Cynthia Research\\psa-analysis - test2\\utils\\fairness_functions.py:82: RuntimeWarning:\n",
      "\n",
      "invalid value encountered in longlong_scalars\n",
      "\n",
      "C:\\Users\\binha\\Documents\\Duke\\Cynthia Research\\psa-analysis - test2\\utils\\fairness_functions.py:95: RuntimeWarning:\n",
      "\n",
      "divide by zero encountered in longlong_scalars\n",
      "\n",
      "C:\\Users\\binha\\Documents\\Duke\\Cynthia Research\\psa-analysis - test2\\utils\\fairness_functions.py:82: RuntimeWarning:\n",
      "\n",
      "invalid value encountered in longlong_scalars\n",
      "\n",
      "C:\\Users\\binha\\Documents\\Duke\\Cynthia Research\\psa-analysis - test2\\utils\\fairness_functions.py:86: RuntimeWarning:\n",
      "\n",
      "invalid value encountered in longlong_scalars\n",
      "\n",
      "C:\\Users\\binha\\Documents\\Duke\\Cynthia Research\\psa-analysis - test2\\utils\\fairness_functions.py:95: RuntimeWarning:\n",
      "\n",
      "invalid value encountered in longlong_scalars\n",
      "\n",
      "C:\\Users\\binha\\Documents\\Duke\\Cynthia Research\\psa-analysis - test2\\utils\\fairness_functions.py:95: RuntimeWarning:\n",
      "\n",
      "divide by zero encountered in longlong_scalars\n",
      "\n",
      "C:\\Users\\binha\\Documents\\Duke\\Cynthia Research\\psa-analysis - test2\\utils\\fairness_functions.py:82: RuntimeWarning:\n",
      "\n",
      "invalid value encountered in longlong_scalars\n",
      "\n",
      "C:\\Users\\binha\\Documents\\Duke\\Cynthia Research\\psa-analysis - test2\\utils\\fairness_functions.py:82: RuntimeWarning:\n",
      "\n",
      "invalid value encountered in longlong_scalars\n",
      "\n",
      "C:\\Users\\binha\\Documents\\Duke\\Cynthia Research\\psa-analysis - test2\\utils\\fairness_functions.py:95: RuntimeWarning:\n",
      "\n",
      "divide by zero encountered in longlong_scalars\n",
      "\n",
      "C:\\Users\\binha\\Documents\\Duke\\Cynthia Research\\psa-analysis - test2\\utils\\fairness_functions.py:86: RuntimeWarning:\n",
      "\n",
      "invalid value encountered in longlong_scalars\n",
      "\n",
      "C:\\Users\\binha\\Documents\\Duke\\Cynthia Research\\psa-analysis - test2\\utils\\fairness_functions.py:95: RuntimeWarning:\n",
      "\n",
      "invalid value encountered in longlong_scalars\n",
      "\n"
     ]
    }
   ],
   "source": [
    "corel_summary = Corel.corel_cv(x, y, max_card=2, c=1e-4, seed=816)"
   ]
  },
  {
   "cell_type": "code",
   "execution_count": 4,
   "metadata": {},
   "outputs": [
    {
     "data": {
      "text/plain": [
       "(0.601437015419517, 0.004028939243752804)"
      ]
     },
     "execution_count": 4,
     "metadata": {},
     "output_type": "execute_result"
    }
   ],
   "source": [
    "np.mean(corel_summary['test_auc']), np.std(corel_summary['test_auc'])"
   ]
  },
  {
   "cell_type": "markdown",
   "metadata": {},
   "source": [
    "### Results"
   ]
  },
  {
   "cell_type": "code",
   "execution_count": 23,
   "metadata": {},
   "outputs": [
    {
     "name": "stdout",
     "output_type": "stream",
     "text": [
      "Stored 'summary_violent2_KY_interpret' (dict)\n"
     ]
    }
   ],
   "source": [
    "#### save results\n",
    "summary_violent2_KY_interpret = {\"CART\": cart_summary,\n",
    "                                 \"EBM\": ebm_summary, \n",
    "                                 'Lasso Stumps': stump_summary, \n",
    "                                 'RiskSLIM': riskslim_summary,  \n",
    "                                 'Corel': corel_summary,\n",
    "                                 'Arnold PSA': arnold_auc}\n",
    "%store summary_violent2_KY_interpret"
   ]
  },
  {
   "cell_type": "code",
   "execution_count": 24,
   "metadata": {},
   "outputs": [
    {
     "data": {
      "text/plain": [
       "[['CART', 0.7994802152706869, 0.027279359104736778],\n",
       " ['EBM', 0.8107425002482795, 0.005074208599027274],\n",
       " ['Lasso Stumps', 0.8038160125077441, 0.0010226178716950195],\n",
       " ['RiskSLIM', 0.7833236414161023],\n",
       " ['Corel', 0.601437015419517],\n",
       " ['Arnold PSA', 0.793]]"
      ]
     },
     "execution_count": 24,
     "metadata": {},
     "output_type": "execute_result"
    }
   ],
   "source": [
    "results = [[\"CART\", np.mean(cart_summary['holdout_test_auc']), np.mean(cart_summary['auc_diffs'])],\n",
    "           [\"EBM\", np.mean(ebm_summary['holdout_test_auc']), np.mean(ebm_summary['auc_diffs'])], \n",
    "           [\"Lasso Stumps\", np.mean(stump_summary['holdout_test_auc']), np.mean(stump_summary['auc_diffs'])],\n",
    "           ['RiskSLIM', np.mean(riskslim_summary['test_auc'])],\n",
    "           ['Corel', np.mean(corel_summary['test_auc'])],\n",
    "           ['Arnold PSA', round(np.mean(arnold_auc), 3)]]\n",
    "results"
   ]
  },
  {
   "cell_type": "code",
   "execution_count": 25,
   "metadata": {},
   "outputs": [],
   "source": [
    "auc = [np.mean(cart_summary['holdout_test_auc']), \n",
    "       np.mean(ebm_summary['holdout_test_auc']), \n",
    "       np.mean(stump_summary['holdout_test_auc']), \n",
    "       np.mean(riskslim_summary['test_auc']), \n",
    "       np.mean(corel_summary['test_auc'])]"
   ]
  },
  {
   "cell_type": "code",
   "execution_count": 29,
   "metadata": {},
   "outputs": [],
   "source": [
    "path = \"C:/Users/binha/Documents/Duke/Cynthia Research/KY-analysis-mytrials/KY Recidivism/KY Results/Models/Two Year/\"\n",
    "results = [[\"Violent\", np.str((round(np.mean(cart_summary['holdout_test_auc']), 3))) + \" (\" + np.str(round(np.std(cart_summary['holdout_test_auc']), 3)) + \")\", \n",
    "            np.str(round(np.mean(ebm_summary['holdout_test_auc']),3)) + \" (\" + np.str(round(np.std(ebm_summary['holdout_test_auc']), 3)) + \")\", \n",
    "            np.str(round(np.mean(stump_summary['holdout_test_auc']),3)) + \" (\" + np.str(round(np.std(stump_summary['holdout_test_auc']), 3)) + \")\",             \n",
    "            np.str(round(np.mean(riskslim_summary['test_auc']),3)) + \" (\" + np.str(round(np.std(riskslim_summary['test_auc']), 3)) + \")\", \n",
    "            np.str(round(np.mean(corel_summary['test_auc']),3)) + \" (\" + np.str(round(np.std(corel_summary['test_auc']), 3)) + \")\", \n",
    "            round(np.max(auc) - np.min(auc), 3),\n",
    "            np.str(round(np.mean(arnold_auc), 3)) + \" (\" + np.str(round(np.std(arnold_auc),3)) + \")\"]]\n",
    "with open(path + 'Interpretable Models Summary.csv', 'a') as writeFile:\n",
    "    writer = csv.writer(writeFile)\n",
    "    writer.writerows(results)"
   ]
  },
  {
   "cell_type": "code",
   "execution_count": 28,
   "metadata": {},
   "outputs": [],
   "source": [
    "cart_confusion = cart_summary['confusion_matrix_stats']\n",
    "ebm_confusion = ebm_summary['confusion_matrix_stats']\n",
    "riskslim_confusion = riskslim_summary['confusion_matrix_stats']\n",
    "stumps_confusion = stump_summary['confusion_matrix_stats']\n",
    "corel_confusion = corel_summary['confusion_matrix_stats']\n",
    "#arnold_confusion = cart_summary['confusion_matrix_stats']\n",
    "\n",
    "## save results\n",
    "cart_confusion.to_csv(r'C:/Users/binha/Documents/Duke/Cynthia Research/KY-analysis-mytrials/KY Recidivism/KY Fairness/Two Year/violent/cart_confusion.csv', index=None,header=True)\n",
    "ebm_confusion.to_csv(r'C:/Users/binha/Documents/Duke/Cynthia Research/KY-analysis-mytrials/KY Recidivism/KY Fairness/Two Year/violent/ebm_confusion.csv', index=None,header=True)\n",
    "riskslim_confusion.to_csv(r'C:/Users/binha/Documents/Duke/Cynthia Research/KY-analysis-mytrials/KY Recidivism/KY Fairness/Two Year/violent/riskslim_confusion.csv', index=None,header=True)\n",
    "stumps_confusion.to_csv(r'C:/Users/binha/Documents/Duke/Cynthia Research/KY-analysis-mytrials/KY Recidivism/KY Fairness/Two Year/violent/stumps_confusion.csv', index=None,header=True)\n",
    "corel_confusion.to_csv(r'C:/Users/binha/Documents/Duke/Cynthia Research/KY-analysis-mytrials/KY Recidivism/KY Fairness/Two Year/violent/corel_confusion.csv', index=None,header=True)\n",
    "#arnold_confusion.to_csv(r'C:/Users/binha/Documents/Duke/Cynthia Research/KY-analysis-mytrials/broward/broward models/model fairness/Two Year/general/arnold_confusion.csv', index=None,header=True)"
   ]
  },
  {
   "cell_type": "code",
   "execution_count": 5,
   "metadata": {},
   "outputs": [],
   "source": [
    "corel_confusion = corel_summary['confusion_matrix_stats']\n",
    "corel_confusion.to_csv(r'C:/Users/binha/Documents/Duke/Cynthia Research/KY-analysis-mytrials/KY Recidivism/KY Fairness/Two Year/violent/corel_confusion.csv', index=None,header=True)"
   ]
  }
 ],
 "metadata": {
  "kernelspec": {
   "display_name": "Python 3",
   "language": "python",
   "name": "python3"
  },
  "language_info": {
   "codemirror_mode": {
    "name": "ipython",
    "version": 3
   },
   "file_extension": ".py",
   "mimetype": "text/x-python",
   "name": "python",
   "nbconvert_exporter": "python",
   "pygments_lexer": "ipython3",
   "version": "3.7.4"
  }
 },
 "nbformat": 4,
 "nbformat_minor": 4
}
