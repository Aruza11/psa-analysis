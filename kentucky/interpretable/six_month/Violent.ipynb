{
 "cells": [
  {
   "cell_type": "code",
   "execution_count": 1,
   "metadata": {},
   "outputs": [
    {
     "name": "stdout",
     "output_type": "stream",
     "text": [
      "Current working directory is now:  C:\\Users\\binha\\Documents\\Duke\\Cynthia Research\\psa-analysis - test2\n"
     ]
    },
    {
     "name": "stderr",
     "output_type": "stream",
     "text": [
      "C:\\Users\\binha\\Anaconda3\\lib\\site-packages\\sklearn\\externals\\six.py:31: DeprecationWarning:\n",
      "\n",
      "The module is deprecated in version 0.21 and will be removed in version 0.23 since we've dropped support for Python 2.7. Please rely on the official version of six (https://pypi.org/project/six/).\n",
      "\n"
     ]
    }
   ],
   "source": [
    "import os \n",
    "os.chdir('../../../')\n",
    "print(\"Current working directory is now: \", os.getcwd())\n",
    "\n",
    "import pandas as pd \n",
    "import numpy as np\n",
    "import csv\n",
    "import utils.interpretable_functions as interpret\n",
    "import utils.RiskSLIM as slim\n",
    "import utils.stumps as stumps\n",
    "import utils.Corel as Corel\n",
    "\n",
    "from sklearn.linear_model import LogisticRegression\n",
    "from sklearn.model_selection import KFold, GridSearchCV\n",
    "from sklearn.metrics import roc_auc_score\n",
    "\n",
    "# restore saved variables\n",
    "%store -r summary_violent2_KY_interpret"
   ]
  },
  {
   "cell_type": "markdown",
   "metadata": {},
   "source": [
    "### CART & EBM"
   ]
  },
  {
   "cell_type": "code",
   "execution_count": 2,
   "metadata": {},
   "outputs": [],
   "source": [
    "### load data\n",
    "data = pd.read_csv(\"~/Documents/Duke/Cynthia Research/KY-analysis-mytrials/KY Recidivism/KY data/kentucky_data.csv\")\n",
    "data = data.drop(['fta_risk_score_raw','nca_risk_score_raw','pvf_risk_score_raw', \n",
    "                  'fta_calc', 'nca_calc', 'pvf_calc'], axis=1)\n",
    "x = data.loc[:,:'current_violence']\n",
    "y = data['recid_violence_six_month'].values"
   ]
  },
  {
   "cell_type": "code",
   "execution_count": 4,
   "metadata": {
    "scrolled": true
   },
   "outputs": [
    {
     "name": "stdout",
     "output_type": "stream",
     "text": [
      "model_id, score_thresholds 0 {'rank_abs': [12]}\n",
      "get_disparity_predefined_group()\n"
     ]
    },
    {
     "name": "stderr",
     "output_type": "stream",
     "text": [
      "C:\\Users\\binha\\Documents\\Duke\\Cynthia Research\\psa-analysis - test2\\utils\\fairness_functions.py:82: RuntimeWarning:\n",
      "\n",
      "invalid value encountered in longlong_scalars\n",
      "\n",
      "C:\\Users\\binha\\Documents\\Duke\\Cynthia Research\\psa-analysis - test2\\utils\\fairness_functions.py:95: RuntimeWarning:\n",
      "\n",
      "divide by zero encountered in longlong_scalars\n",
      "\n",
      "C:\\Users\\binha\\Documents\\Duke\\Cynthia Research\\psa-analysis - test2\\utils\\fairness_functions.py:86: RuntimeWarning:\n",
      "\n",
      "invalid value encountered in longlong_scalars\n",
      "\n",
      "C:\\Users\\binha\\Documents\\Duke\\Cynthia Research\\psa-analysis - test2\\utils\\fairness_functions.py:95: RuntimeWarning:\n",
      "\n",
      "invalid value encountered in longlong_scalars\n",
      "\n"
     ]
    },
    {
     "name": "stdout",
     "output_type": "stream",
     "text": [
      "model_id, score_thresholds 0 {'rank_abs': [8]}\n",
      "get_disparity_predefined_group()\n"
     ]
    },
    {
     "name": "stderr",
     "output_type": "stream",
     "text": [
      "C:\\Users\\binha\\Documents\\Duke\\Cynthia Research\\psa-analysis - test2\\utils\\fairness_functions.py:82: RuntimeWarning:\n",
      "\n",
      "invalid value encountered in longlong_scalars\n",
      "\n",
      "C:\\Users\\binha\\Documents\\Duke\\Cynthia Research\\psa-analysis - test2\\utils\\fairness_functions.py:95: RuntimeWarning:\n",
      "\n",
      "divide by zero encountered in longlong_scalars\n",
      "\n",
      "C:\\Users\\binha\\Documents\\Duke\\Cynthia Research\\psa-analysis - test2\\utils\\fairness_functions.py:86: RuntimeWarning:\n",
      "\n",
      "invalid value encountered in longlong_scalars\n",
      "\n",
      "C:\\Users\\binha\\Documents\\Duke\\Cynthia Research\\psa-analysis - test2\\utils\\fairness_functions.py:95: RuntimeWarning:\n",
      "\n",
      "invalid value encountered in longlong_scalars\n",
      "\n"
     ]
    },
    {
     "name": "stdout",
     "output_type": "stream",
     "text": [
      "model_id, score_thresholds 0 {'rank_abs': [42]}\n",
      "get_disparity_predefined_group()\n"
     ]
    },
    {
     "name": "stderr",
     "output_type": "stream",
     "text": [
      "C:\\Users\\binha\\Documents\\Duke\\Cynthia Research\\psa-analysis - test2\\utils\\fairness_functions.py:82: RuntimeWarning:\n",
      "\n",
      "invalid value encountered in longlong_scalars\n",
      "\n",
      "C:\\Users\\binha\\Documents\\Duke\\Cynthia Research\\psa-analysis - test2\\utils\\fairness_functions.py:86: RuntimeWarning:\n",
      "\n",
      "invalid value encountered in longlong_scalars\n",
      "\n",
      "C:\\Users\\binha\\Documents\\Duke\\Cynthia Research\\psa-analysis - test2\\utils\\fairness_functions.py:95: RuntimeWarning:\n",
      "\n",
      "invalid value encountered in longlong_scalars\n",
      "\n",
      "C:\\Users\\binha\\Documents\\Duke\\Cynthia Research\\psa-analysis - test2\\utils\\fairness_functions.py:95: RuntimeWarning:\n",
      "\n",
      "divide by zero encountered in longlong_scalars\n",
      "\n"
     ]
    },
    {
     "name": "stdout",
     "output_type": "stream",
     "text": [
      "model_id, score_thresholds 0 {'rank_abs': [65]}\n",
      "get_disparity_predefined_group()\n"
     ]
    },
    {
     "name": "stderr",
     "output_type": "stream",
     "text": [
      "C:\\Users\\binha\\Documents\\Duke\\Cynthia Research\\psa-analysis - test2\\utils\\fairness_functions.py:82: RuntimeWarning:\n",
      "\n",
      "invalid value encountered in longlong_scalars\n",
      "\n",
      "C:\\Users\\binha\\Documents\\Duke\\Cynthia Research\\psa-analysis - test2\\utils\\fairness_functions.py:86: RuntimeWarning:\n",
      "\n",
      "invalid value encountered in longlong_scalars\n",
      "\n",
      "C:\\Users\\binha\\Documents\\Duke\\Cynthia Research\\psa-analysis - test2\\utils\\fairness_functions.py:95: RuntimeWarning:\n",
      "\n",
      "invalid value encountered in longlong_scalars\n",
      "\n",
      "C:\\Users\\binha\\Documents\\Duke\\Cynthia Research\\psa-analysis - test2\\utils\\fairness_functions.py:95: RuntimeWarning:\n",
      "\n",
      "divide by zero encountered in longlong_scalars\n",
      "\n"
     ]
    },
    {
     "name": "stdout",
     "output_type": "stream",
     "text": [
      "model_id, score_thresholds 0 {'rank_abs': [10]}\n",
      "get_disparity_predefined_group()\n"
     ]
    },
    {
     "name": "stderr",
     "output_type": "stream",
     "text": [
      "C:\\Users\\binha\\Documents\\Duke\\Cynthia Research\\psa-analysis - test2\\utils\\fairness_functions.py:95: RuntimeWarning:\n",
      "\n",
      "divide by zero encountered in longlong_scalars\n",
      "\n",
      "C:\\Users\\binha\\Documents\\Duke\\Cynthia Research\\psa-analysis - test2\\utils\\fairness_functions.py:82: RuntimeWarning:\n",
      "\n",
      "invalid value encountered in longlong_scalars\n",
      "\n",
      "C:\\Users\\binha\\Documents\\Duke\\Cynthia Research\\psa-analysis - test2\\utils\\fairness_functions.py:86: RuntimeWarning:\n",
      "\n",
      "invalid value encountered in longlong_scalars\n",
      "\n",
      "C:\\Users\\binha\\Documents\\Duke\\Cynthia Research\\psa-analysis - test2\\utils\\fairness_functions.py:95: RuntimeWarning:\n",
      "\n",
      "invalid value encountered in longlong_scalars\n",
      "\n",
      "WARNING:interpret.utils.all:Passing a numpy array to schema autogen when it should be dataframe.\n",
      "WARNING:interpret.utils.all:Passing a numpy array to schema autogen when it should be dataframe.\n",
      "WARNING:interpret.utils.all:Passing a numpy array to schema autogen when it should be dataframe.\n",
      "WARNING:interpret.utils.all:Passing a numpy array to schema autogen when it should be dataframe.\n",
      "WARNING:interpret.utils.all:Passing a numpy array to schema autogen when it should be dataframe.\n",
      "WARNING:interpret.utils.all:Passing a numpy array to schema autogen when it should be dataframe.\n",
      "WARNING:interpret.utils.all:Passing a numpy array to schema autogen when it should be dataframe.\n",
      "WARNING:interpret.utils.all:Passing a numpy array to schema autogen when it should be dataframe.\n",
      "WARNING:interpret.utils.all:Passing a numpy array to schema autogen when it should be dataframe.\n",
      "WARNING:interpret.utils.all:Passing a numpy array to schema autogen when it should be dataframe.\n",
      "WARNING:interpret.utils.all:Passing a numpy array to schema autogen when it should be dataframe.\n",
      "WARNING:interpret.utils.all:Passing a numpy array to schema autogen when it should be dataframe.\n"
     ]
    },
    {
     "name": "stdout",
     "output_type": "stream",
     "text": [
      "model_id, score_thresholds 0 {'rank_abs': [17]}\n",
      "get_disparity_predefined_group()\n"
     ]
    },
    {
     "name": "stderr",
     "output_type": "stream",
     "text": [
      "C:\\Users\\binha\\Documents\\Duke\\Cynthia Research\\psa-analysis - test2\\utils\\fairness_functions.py:82: RuntimeWarning:\n",
      "\n",
      "invalid value encountered in longlong_scalars\n",
      "\n",
      "C:\\Users\\binha\\Documents\\Duke\\Cynthia Research\\psa-analysis - test2\\utils\\fairness_functions.py:95: RuntimeWarning:\n",
      "\n",
      "divide by zero encountered in longlong_scalars\n",
      "\n",
      "C:\\Users\\binha\\Documents\\Duke\\Cynthia Research\\psa-analysis - test2\\utils\\fairness_functions.py:86: RuntimeWarning:\n",
      "\n",
      "invalid value encountered in longlong_scalars\n",
      "\n",
      "C:\\Users\\binha\\Documents\\Duke\\Cynthia Research\\psa-analysis - test2\\utils\\fairness_functions.py:95: RuntimeWarning:\n",
      "\n",
      "invalid value encountered in longlong_scalars\n",
      "\n",
      "WARNING:interpret.utils.all:Passing a numpy array to schema autogen when it should be dataframe.\n",
      "WARNING:interpret.utils.all:Passing a numpy array to schema autogen when it should be dataframe.\n",
      "WARNING:interpret.utils.all:Passing a numpy array to schema autogen when it should be dataframe.\n",
      "WARNING:interpret.utils.all:Passing a numpy array to schema autogen when it should be dataframe.\n",
      "WARNING:interpret.utils.all:Passing a numpy array to schema autogen when it should be dataframe.\n",
      "WARNING:interpret.utils.all:Passing a numpy array to schema autogen when it should be dataframe.\n",
      "WARNING:interpret.utils.all:Passing a numpy array to schema autogen when it should be dataframe.\n",
      "WARNING:interpret.utils.all:Passing a numpy array to schema autogen when it should be dataframe.\n",
      "WARNING:interpret.utils.all:Passing a numpy array to schema autogen when it should be dataframe.\n",
      "WARNING:interpret.utils.all:Passing a numpy array to schema autogen when it should be dataframe.\n",
      "WARNING:interpret.utils.all:Passing a numpy array to schema autogen when it should be dataframe.\n",
      "WARNING:interpret.utils.all:Passing a numpy array to schema autogen when it should be dataframe.\n"
     ]
    },
    {
     "name": "stdout",
     "output_type": "stream",
     "text": [
      "model_id, score_thresholds 0 {'rank_abs': [17]}\n",
      "get_disparity_predefined_group()\n"
     ]
    },
    {
     "name": "stderr",
     "output_type": "stream",
     "text": [
      "C:\\Users\\binha\\Documents\\Duke\\Cynthia Research\\psa-analysis - test2\\utils\\fairness_functions.py:95: RuntimeWarning:\n",
      "\n",
      "divide by zero encountered in longlong_scalars\n",
      "\n",
      "C:\\Users\\binha\\Documents\\Duke\\Cynthia Research\\psa-analysis - test2\\utils\\fairness_functions.py:82: RuntimeWarning:\n",
      "\n",
      "invalid value encountered in longlong_scalars\n",
      "\n",
      "C:\\Users\\binha\\Documents\\Duke\\Cynthia Research\\psa-analysis - test2\\utils\\fairness_functions.py:86: RuntimeWarning:\n",
      "\n",
      "invalid value encountered in longlong_scalars\n",
      "\n",
      "C:\\Users\\binha\\Documents\\Duke\\Cynthia Research\\psa-analysis - test2\\utils\\fairness_functions.py:95: RuntimeWarning:\n",
      "\n",
      "invalid value encountered in longlong_scalars\n",
      "\n",
      "WARNING:interpret.utils.all:Passing a numpy array to schema autogen when it should be dataframe.\n",
      "WARNING:interpret.utils.all:Passing a numpy array to schema autogen when it should be dataframe.\n",
      "WARNING:interpret.utils.all:Passing a numpy array to schema autogen when it should be dataframe.\n",
      "WARNING:interpret.utils.all:Passing a numpy array to schema autogen when it should be dataframe.\n",
      "WARNING:interpret.utils.all:Passing a numpy array to schema autogen when it should be dataframe.\n",
      "WARNING:interpret.utils.all:Passing a numpy array to schema autogen when it should be dataframe.\n",
      "WARNING:interpret.utils.all:Passing a numpy array to schema autogen when it should be dataframe.\n",
      "WARNING:interpret.utils.all:Passing a numpy array to schema autogen when it should be dataframe.\n",
      "WARNING:interpret.utils.all:Passing a numpy array to schema autogen when it should be dataframe.\n",
      "WARNING:interpret.utils.all:Passing a numpy array to schema autogen when it should be dataframe.\n",
      "WARNING:interpret.utils.all:Passing a numpy array to schema autogen when it should be dataframe.\n",
      "WARNING:interpret.utils.all:Passing a numpy array to schema autogen when it should be dataframe.\n"
     ]
    },
    {
     "name": "stdout",
     "output_type": "stream",
     "text": [
      "model_id, score_thresholds 0 {'rank_abs': [30]}\n",
      "get_disparity_predefined_group()\n"
     ]
    },
    {
     "name": "stderr",
     "output_type": "stream",
     "text": [
      "C:\\Users\\binha\\Documents\\Duke\\Cynthia Research\\psa-analysis - test2\\utils\\fairness_functions.py:82: RuntimeWarning:\n",
      "\n",
      "invalid value encountered in longlong_scalars\n",
      "\n",
      "C:\\Users\\binha\\Documents\\Duke\\Cynthia Research\\psa-analysis - test2\\utils\\fairness_functions.py:86: RuntimeWarning:\n",
      "\n",
      "invalid value encountered in longlong_scalars\n",
      "\n",
      "C:\\Users\\binha\\Documents\\Duke\\Cynthia Research\\psa-analysis - test2\\utils\\fairness_functions.py:95: RuntimeWarning:\n",
      "\n",
      "invalid value encountered in longlong_scalars\n",
      "\n",
      "C:\\Users\\binha\\Documents\\Duke\\Cynthia Research\\psa-analysis - test2\\utils\\fairness_functions.py:95: RuntimeWarning:\n",
      "\n",
      "divide by zero encountered in longlong_scalars\n",
      "\n",
      "WARNING:interpret.utils.all:Passing a numpy array to schema autogen when it should be dataframe.\n",
      "WARNING:interpret.utils.all:Passing a numpy array to schema autogen when it should be dataframe.\n",
      "WARNING:interpret.utils.all:Passing a numpy array to schema autogen when it should be dataframe.\n",
      "C:\\Users\\binha\\Anaconda3\\lib\\site-packages\\numpy\\core\\_methods.py:121: RuntimeWarning:\n",
      "\n",
      "overflow encountered in multiply\n",
      "\n",
      "WARNING:interpret.utils.all:Passing a numpy array to schema autogen when it should be dataframe.\n",
      "WARNING:interpret.utils.all:Passing a numpy array to schema autogen when it should be dataframe.\n",
      "WARNING:interpret.utils.all:Passing a numpy array to schema autogen when it should be dataframe.\n",
      "WARNING:interpret.utils.all:Passing a numpy array to schema autogen when it should be dataframe.\n",
      "WARNING:interpret.utils.all:Passing a numpy array to schema autogen when it should be dataframe.\n",
      "WARNING:interpret.utils.all:Passing a numpy array to schema autogen when it should be dataframe.\n",
      "C:\\Users\\binha\\Anaconda3\\lib\\site-packages\\numpy\\core\\_methods.py:121: RuntimeWarning:\n",
      "\n",
      "overflow encountered in multiply\n",
      "\n",
      "WARNING:interpret.utils.all:Passing a numpy array to schema autogen when it should be dataframe.\n",
      "WARNING:interpret.utils.all:Passing a numpy array to schema autogen when it should be dataframe.\n",
      "WARNING:interpret.utils.all:Passing a numpy array to schema autogen when it should be dataframe.\n"
     ]
    },
    {
     "name": "stdout",
     "output_type": "stream",
     "text": [
      "model_id, score_thresholds 0 {'rank_abs': [24]}\n",
      "get_disparity_predefined_group()\n"
     ]
    },
    {
     "name": "stderr",
     "output_type": "stream",
     "text": [
      "C:\\Users\\binha\\Documents\\Duke\\Cynthia Research\\psa-analysis - test2\\utils\\fairness_functions.py:82: RuntimeWarning:\n",
      "\n",
      "invalid value encountered in longlong_scalars\n",
      "\n",
      "C:\\Users\\binha\\Documents\\Duke\\Cynthia Research\\psa-analysis - test2\\utils\\fairness_functions.py:86: RuntimeWarning:\n",
      "\n",
      "invalid value encountered in longlong_scalars\n",
      "\n",
      "C:\\Users\\binha\\Documents\\Duke\\Cynthia Research\\psa-analysis - test2\\utils\\fairness_functions.py:95: RuntimeWarning:\n",
      "\n",
      "invalid value encountered in longlong_scalars\n",
      "\n",
      "C:\\Users\\binha\\Documents\\Duke\\Cynthia Research\\psa-analysis - test2\\utils\\fairness_functions.py:95: RuntimeWarning:\n",
      "\n",
      "divide by zero encountered in longlong_scalars\n",
      "\n",
      "WARNING:interpret.utils.all:Passing a numpy array to schema autogen when it should be dataframe.\n",
      "WARNING:interpret.utils.all:Passing a numpy array to schema autogen when it should be dataframe.\n",
      "WARNING:interpret.utils.all:Passing a numpy array to schema autogen when it should be dataframe.\n",
      "WARNING:interpret.utils.all:Passing a numpy array to schema autogen when it should be dataframe.\n",
      "WARNING:interpret.utils.all:Passing a numpy array to schema autogen when it should be dataframe.\n",
      "WARNING:interpret.utils.all:Passing a numpy array to schema autogen when it should be dataframe.\n",
      "WARNING:interpret.utils.all:Passing a numpy array to schema autogen when it should be dataframe.\n",
      "WARNING:interpret.utils.all:Passing a numpy array to schema autogen when it should be dataframe.\n",
      "WARNING:interpret.utils.all:Passing a numpy array to schema autogen when it should be dataframe.\n",
      "WARNING:interpret.utils.all:Passing a numpy array to schema autogen when it should be dataframe.\n",
      "WARNING:interpret.utils.all:Passing a numpy array to schema autogen when it should be dataframe.\n",
      "WARNING:interpret.utils.all:Passing a numpy array to schema autogen when it should be dataframe.\n"
     ]
    },
    {
     "name": "stdout",
     "output_type": "stream",
     "text": [
      "model_id, score_thresholds 0 {'rank_abs': [21]}\n",
      "get_disparity_predefined_group()\n"
     ]
    },
    {
     "name": "stderr",
     "output_type": "stream",
     "text": [
      "C:\\Users\\binha\\Documents\\Duke\\Cynthia Research\\psa-analysis - test2\\utils\\fairness_functions.py:82: RuntimeWarning:\n",
      "\n",
      "invalid value encountered in longlong_scalars\n",
      "\n",
      "C:\\Users\\binha\\Documents\\Duke\\Cynthia Research\\psa-analysis - test2\\utils\\fairness_functions.py:86: RuntimeWarning:\n",
      "\n",
      "invalid value encountered in longlong_scalars\n",
      "\n",
      "C:\\Users\\binha\\Documents\\Duke\\Cynthia Research\\psa-analysis - test2\\utils\\fairness_functions.py:95: RuntimeWarning:\n",
      "\n",
      "invalid value encountered in longlong_scalars\n",
      "\n",
      "C:\\Users\\binha\\Documents\\Duke\\Cynthia Research\\psa-analysis - test2\\utils\\fairness_functions.py:95: RuntimeWarning:\n",
      "\n",
      "divide by zero encountered in longlong_scalars\n",
      "\n"
     ]
    }
   ],
   "source": [
    "#### CART\n",
    "depth = [6,7]\n",
    "cart_summary = interpret.CART(X=x,\n",
    "                         Y=y,\n",
    "                         depth=depth,\n",
    "                         seed=816)\n",
    "\n",
    "#### EBM\n",
    "estimators = [40]\n",
    "depth = [2]\n",
    "learning_rate = [0.5]\n",
    "ebm_summary = interpret.EBM(X=x,\n",
    "                       Y=y,\n",
    "                       learning_rate=learning_rate,\n",
    "                       depth=depth,\n",
    "                       estimators=estimators,\n",
    "                       seed =816)"
   ]
  },
  {
   "cell_type": "code",
   "execution_count": 5,
   "metadata": {},
   "outputs": [
    {
     "data": {
      "text/plain": [
       "(0.8607109129756912, 0.016213170695480783)"
      ]
     },
     "execution_count": 5,
     "metadata": {},
     "output_type": "execute_result"
    }
   ],
   "source": [
    "np.mean(cart_summary['holdout_test_auc']), np.mean(cart_summary['auc_diffs'])"
   ]
  },
  {
   "cell_type": "code",
   "execution_count": 6,
   "metadata": {},
   "outputs": [
    {
     "data": {
      "text/plain": [
       "(0.8693451768210119, 0.00892092467540695)"
      ]
     },
     "execution_count": 6,
     "metadata": {},
     "output_type": "execute_result"
    }
   ],
   "source": [
    "np.mean(ebm_summary['holdout_test_auc']), np.mean(ebm_summary['auc_diffs'])"
   ]
  },
  {
   "cell_type": "markdown",
   "metadata": {},
   "source": [
    "## Lasso Stumps"
   ]
  },
  {
   "cell_type": "code",
   "execution_count": 7,
   "metadata": {},
   "outputs": [],
   "source": [
    "## load whole data\n",
    "data = pd.read_csv(\"~/Documents/Duke/Cynthia Research/KY-analysis-mytrials/KY Recidivism/KY data/kentucky_stumps.csv\")\n",
    "X_stumps, Y_stumps = data.loc[:,:'current_violence>=1'], data['recid_violence_six_month'].values\n",
    "Y_stumps[Y_stumps == -1] = 0\n",
    "cols = X_stumps.columns[3:]\n",
    "\n",
    "## load train & test data\n",
    "train_stumps = pd.read_csv(\"~/Documents/Duke/Cynthia Research/KY-analysis-mytrials/KY Recidivism/KY data/kentucky_train_stumps.csv\")\n",
    "test_stumps = pd.read_csv(\"~/Documents/Duke/Cynthia Research/KY-analysis-mytrials/KY Recidivism/KY data/kentucky_test_stumps.csv\")\n",
    "X_train_stumps, Y_train_stumps = train_stumps.loc[:,:'current_violence>=1'], train_stumps['recid_violence_six_month'].values\n",
    "X_test_stumps, Y_test_stumps = test_stumps.loc[:,:'current_violence>=1'], test_stumps['recid_violence_six_month'].values\n",
    "Y_train_stumps[Y_train_stumps == -1] = 0\n",
    "Y_test_stumps[Y_test_stumps == -1] = 0"
   ]
  },
  {
   "cell_type": "markdown",
   "metadata": {},
   "source": [
    "#### Nested Cross Validation"
   ]
  },
  {
   "cell_type": "code",
   "execution_count": 8,
   "metadata": {
    "scrolled": true
   },
   "outputs": [
    {
     "name": "stdout",
     "output_type": "stream",
     "text": [
      "model_id, score_thresholds 0 {'rank_abs': [5897]}\n",
      "get_disparity_predefined_group()\n"
     ]
    },
    {
     "name": "stderr",
     "output_type": "stream",
     "text": [
      "C:\\Users\\binha\\Documents\\Duke\\Cynthia Research\\psa-analysis - test2\\utils\\fairness_functions.py:86: RuntimeWarning:\n",
      "\n",
      "invalid value encountered in longlong_scalars\n",
      "\n"
     ]
    },
    {
     "name": "stdout",
     "output_type": "stream",
     "text": [
      "model_id, score_thresholds 0 {'rank_abs': [5899]}\n",
      "get_disparity_predefined_group()\n"
     ]
    },
    {
     "name": "stderr",
     "output_type": "stream",
     "text": [
      "C:\\Users\\binha\\Documents\\Duke\\Cynthia Research\\psa-analysis - test2\\utils\\fairness_functions.py:86: RuntimeWarning:\n",
      "\n",
      "invalid value encountered in longlong_scalars\n",
      "\n"
     ]
    },
    {
     "name": "stdout",
     "output_type": "stream",
     "text": [
      "model_id, score_thresholds 0 {'rank_abs': [5729]}\n",
      "get_disparity_predefined_group()\n"
     ]
    },
    {
     "name": "stderr",
     "output_type": "stream",
     "text": [
      "C:\\Users\\binha\\Documents\\Duke\\Cynthia Research\\psa-analysis - test2\\utils\\fairness_functions.py:86: RuntimeWarning:\n",
      "\n",
      "invalid value encountered in longlong_scalars\n",
      "\n"
     ]
    },
    {
     "name": "stdout",
     "output_type": "stream",
     "text": [
      "model_id, score_thresholds 0 {'rank_abs': [5309]}\n",
      "get_disparity_predefined_group()\n"
     ]
    },
    {
     "name": "stderr",
     "output_type": "stream",
     "text": [
      "C:\\Users\\binha\\Documents\\Duke\\Cynthia Research\\psa-analysis - test2\\utils\\fairness_functions.py:86: RuntimeWarning:\n",
      "\n",
      "invalid value encountered in longlong_scalars\n",
      "\n"
     ]
    },
    {
     "name": "stdout",
     "output_type": "stream",
     "text": [
      "model_id, score_thresholds 0 {'rank_abs': [6026]}\n",
      "get_disparity_predefined_group()\n"
     ]
    },
    {
     "name": "stderr",
     "output_type": "stream",
     "text": [
      "C:\\Users\\binha\\Documents\\Duke\\Cynthia Research\\psa-analysis - test2\\utils\\fairness_functions.py:82: RuntimeWarning:\n",
      "\n",
      "invalid value encountered in longlong_scalars\n",
      "\n",
      "C:\\Users\\binha\\Documents\\Duke\\Cynthia Research\\psa-analysis - test2\\utils\\fairness_functions.py:86: RuntimeWarning:\n",
      "\n",
      "invalid value encountered in longlong_scalars\n",
      "\n",
      "C:\\Users\\binha\\Documents\\Duke\\Cynthia Research\\psa-analysis - test2\\utils\\fairness_functions.py:95: RuntimeWarning:\n",
      "\n",
      "invalid value encountered in longlong_scalars\n",
      "\n"
     ]
    }
   ],
   "source": [
    "stump_summary = stumps.stump_cv(X = X_stumps, \n",
    "                                Y = Y_stumps, \n",
    "                                columns=cols, \n",
    "                                c_grid={'C': [0.001,0.003, 0.005]}, \n",
    "                                seed = 816)"
   ]
  },
  {
   "cell_type": "code",
   "execution_count": 9,
   "metadata": {},
   "outputs": [
    {
     "data": {
      "text/plain": [
       "([{'C': 0.005}, {'C': 0.005}, {'C': 0.005}, {'C': 0.005}, {'C': 0.005}],\n",
       " 0.8710784287360867,\n",
       " 0.0022119261504668364)"
      ]
     },
     "execution_count": 9,
     "metadata": {},
     "output_type": "execute_result"
    }
   ],
   "source": [
    "stump_summary['best_params'], np.mean(stump_summary['holdout_test_auc']), np.mean(stump_summary['auc_diffs'])"
   ]
  },
  {
   "cell_type": "markdown",
   "metadata": {},
   "source": [
    "##### Best Stump Model"
   ]
  },
  {
   "cell_type": "code",
   "execution_count": 10,
   "metadata": {},
   "outputs": [
    {
     "data": {
      "text/plain": [
       "22"
      ]
     },
     "execution_count": 10,
     "metadata": {},
     "output_type": "execute_result"
    }
   ],
   "source": [
    "best_stump_model = stumps.stump_model(X_train_stumps, \n",
    "                                      Y_train_stumps, \n",
    "                                      X_test_stumps, \n",
    "                                      Y_test_stumps, \n",
    "                                      c=0.005, \n",
    "                                      columns=cols, \n",
    "                                      seed=816)\n",
    "len(best_stump_model['features'])"
   ]
  },
  {
   "cell_type": "markdown",
   "metadata": {},
   "source": [
    "##### Prediction Table"
   ]
  },
  {
   "cell_type": "code",
   "execution_count": 11,
   "metadata": {
    "scrolled": true
   },
   "outputs": [
    {
     "name": "stdout",
     "output_type": "stream",
     "text": [
      "\begin{tabular}{|l|r|r|} \\hline\n",
      "1. sex>=1 & 27.3 & +... \\ \\hline\n",
      "2. age_at_current_charge<=19 & 26.8 & +... \\ \\hline\n",
      "3. age_at_current_charge<=20 & 3.2 & +... \\ \\hline\n",
      "4. age_at_current_charge<=30 & 4.4 & +... \\ \\hline\n",
      "5. p_arrest>=1 & 84.7 & -... \\ \\hline\n",
      "6. p_arrest>=2 & 29.3 & +... \\ \\hline\n",
      "7. p_arrest>=3 & 38.1 & +... \\ \\hline\n",
      "8. p_charges>=1 & 63.6 & -... \\ \\hline\n",
      "9. p_charges>=2 & 11.6 & +... \\ \\hline\n",
      "10. p_charges>=4 & 3.9 & +... \\ \\hline\n",
      "11. p_violence>=1 & 258.7 & +... \\ \\hline\n",
      "12. p_felony>=1 & 19.2 & +... \\ \\hline\n",
      "13. p_misdemeanor>=3 & 23.0 & +... \\ \\hline\n",
      "14. p_weapon>=1 & 15.4 & +... \\ \\hline\n",
      "15. p_felassult>=1 & 9.7 & +... \\ \\hline\n",
      "16. p_misdeassult>=1 & 19.7 & -... \\ \\hline\n",
      "17. p_prison>=1 & 8.2 & -... \\ \\hline\n",
      "18. p_jail30>=1 & 17.0 & +... \\ \\hline\n",
      "19. p_fta_two_year>=1 & 3.2 & -... \\ \\hline\n",
      "20. p_pending_charge>=1 & 33.9 & +... \\ \\hline\n",
      "21. p_probation>=1 & 11.2 & +... \\ \\hline\n",
      "22. current_violence>=1 & 17.1 & +... \\ \\hline\n",
      "23. Intercept & -0.74 & +... \\ \\hline\n",
      "\textbf{ADD POINTS FROM ROWS 1 TO 23}  &  \textbf{SCORE} & = ..... \\ \\hline\n",
      "\\multicolumn{3}{l}{Pr(Y = 1) = exp(score/100) / (1 + exp(score/100))} \\ \\hline\n"
     ]
    }
   ],
   "source": [
    "stumps.latex_stump_table(best_stump_model['coefs'], \n",
    "                   best_stump_model['features'], \n",
    "                   best_stump_model['intercept'], \n",
    "                   best_stump_model['dictionary'])"
   ]
  },
  {
   "cell_type": "markdown",
   "metadata": {},
   "source": [
    "##### Stumps Visualizations"
   ]
  },
  {
   "cell_type": "code",
   "execution_count": 12,
   "metadata": {
    "scrolled": true
   },
   "outputs": [
    {
     "data": {
      "image/png": "[encoded data removed]",
      "text/plain": [
       "<Figure size 288x216 with 1 Axes>"
      ]
     },
     "metadata": {
      "needs_background": "light"
     },
     "output_type": "display_data"
    },
    {
     "data": {
      "image/png": "[encoded data removed]",
      "text/plain": [
       "<Figure size 288x216 with 1 Axes>"
      ]
     },
     "metadata": {
      "needs_background": "light"
     },
     "output_type": "display_data"
    },
    {
     "data": {
      "image/png": "[encoded data removed]",
      "text/plain": [
       "<Figure size 288x216 with 1 Axes>"
      ]
     },
     "metadata": {
      "needs_background": "light"
     },
     "output_type": "display_data"
    },
    {
     "data": {
      "image/png": "[encoded data removed]",
      "text/plain": [
       "<Figure size 288x216 with 1 Axes>"
      ]
     },
     "metadata": {
      "needs_background": "light"
     },
     "output_type": "display_data"
    },
    {
     "data": {
      "image/png": "[encoded data removed]",
      "text/plain": [
       "<Figure size 288x216 with 1 Axes>"
      ]
     },
     "metadata": {
      "needs_background": "light"
     },
     "output_type": "display_data"
    },
    {
     "data": {
      "image/png": "[encoded data removed]",
      "text/plain": [
       "<Figure size 288x216 with 1 Axes>"
      ]
     },
     "metadata": {
      "needs_background": "light"
     },
     "output_type": "display_data"
    },
    {
     "data": {
      "image/png": "[encoded data removed]",
      "text/plain": [
       "<Figure size 288x216 with 1 Axes>"
      ]
     },
     "metadata": {
      "needs_background": "light"
     },
     "output_type": "display_data"
    },
    {
     "data": {
      "image/png": "[encoded data removed]",
      "text/plain": [
       "<Figure size 288x216 with 1 Axes>"
      ]
     },
     "metadata": {
      "needs_background": "light"
     },
     "output_type": "display_data"
    },
    {
     "data": {
      "image/png": "[encoded data removed]",
      "text/plain": [
       "<Figure size 288x216 with 1 Axes>"
      ]
     },
     "metadata": {
      "needs_background": "light"
     },
     "output_type": "display_data"
    },
    {
     "data": {
      "image/png": "[encoded data removed]",
      "text/plain": [
       "<Figure size 288x216 with 1 Axes>"
      ]
     },
     "metadata": {
      "needs_background": "light"
     },
     "output_type": "display_data"
    },
    {
     "data": {
      "image/png": "[encoded data removed]",
      "text/plain": [
       "<Figure size 288x216 with 1 Axes>"
      ]
     },
     "metadata": {
      "needs_background": "light"
     },
     "output_type": "display_data"
    },
    {
     "data": {
      "image/png": "[encoded data removed]",
      "text/plain": [
       "<Figure size 288x216 with 1 Axes>"
      ]
     },
     "metadata": {
      "needs_background": "light"
     },
     "output_type": "display_data"
    },
    {
     "data": {
      "image/png": "[encoded data removed]",
      "text/plain": [
       "<Figure size 288x216 with 1 Axes>"
      ]
     },
     "metadata": {
      "needs_background": "light"
     },
     "output_type": "display_data"
    },
    {
     "data": {
      "image/png": "[encoded data removed]",
      "text/plain": [
       "<Figure size 288x216 with 1 Axes>"
      ]
     },
     "metadata": {
      "needs_background": "light"
     },
     "output_type": "display_data"
    },
    {
     "data": {
      "image/png": "[encoded data removed]",
      "text/plain": [
       "<Figure size 288x216 with 1 Axes>"
      ]
     },
     "metadata": {
      "needs_background": "light"
     },
     "output_type": "display_data"
    }
   ],
   "source": [
    "stumps.stump_plots(best_stump_model['features'], best_stump_model['coefs'], indicator='KY')"
   ]
  },
  {
   "cell_type": "markdown",
   "metadata": {},
   "source": [
    "## RiskSLIM"
   ]
  },
  {
   "cell_type": "code",
   "execution_count": 13,
   "metadata": {},
   "outputs": [],
   "source": [
    "## load stumps data\n",
    "data = pd.read_csv(\"~/Documents/Duke/Cynthia Research/KY-analysis-mytrials/KY Recidivism/KY data/kentucky_stumps.csv\")\n",
    "x, y = data.loc[:,:'current_violence>=1'], data['recid_violence_six_month'].values\n",
    "cols = x.columns[3:]"
   ]
  },
  {
   "cell_type": "code",
   "execution_count": 14,
   "metadata": {},
   "outputs": [
    {
     "data": {
      "text/plain": [
       "24"
      ]
     },
     "execution_count": 14,
     "metadata": {},
     "output_type": "execute_result"
    }
   ],
   "source": [
    "## train on best param chosen by Lasso Stumps from above\n",
    "x_train = x.copy().drop(['race', 'person_id', 'screening_date'], axis=1)\n",
    "lasso = LogisticRegression(class_weight='balanced', solver='liblinear', penalty='l1', C=0.005, random_state=816).fit(x_train,y)\n",
    "selected_features = cols[lasso.coef_[0] != 0].tolist()\n",
    "len(selected_features)"
   ]
  },
  {
   "cell_type": "code",
   "execution_count": 15,
   "metadata": {},
   "outputs": [],
   "source": [
    "### Subset features\n",
    "if 'sex>=1' in selected_features:\n",
    "    selected_features = ['recid_violence_six_month', 'person_id', 'screening_date', 'race'] + selected_features\n",
    "    indicator = 1\n",
    "else:\n",
    "    selected_features = ['recid_violence_six_month', 'person_id', 'screening_date', 'race', 'sex>=1'] + selected_features\n",
    "    indicator = 0\n",
    "\n",
    "sub_data = data[selected_features]\n",
    "sub_X, sub_Y = sub_data.iloc[:,1:], sub_data.iloc[:,0].values\n",
    "sub_X.insert(0, '(Intercept)', 1)"
   ]
  },
  {
   "cell_type": "code",
   "execution_count": 16,
   "metadata": {
    "scrolled": true
   },
   "outputs": [
    {
     "name": "stdout",
     "output_type": "stream",
     "text": [
      "setting c0 = 0.0 to ensure that intercept is not penalized\n",
      "10/01/19 @ 04:55 PM | 1061 rows in lookup table\n",
      "10/01/19 @ 04:55 PM | ------------------------------------------------------------\n",
      "10/01/19 @ 04:55 PM | runnning initialization procedure\n",
      "10/01/19 @ 04:55 PM | ------------------------------------------------------------\n",
      "10/01/19 @ 04:55 PM | CPA produced 2 cuts\n",
      "10/01/19 @ 04:55 PM | running naive rounding on 77 solutions\n",
      "10/01/19 @ 04:55 PM | best objective value: 0.0890\n",
      "10/01/19 @ 04:55 PM | rounding produced 5 integer solutions\n",
      "10/01/19 @ 04:55 PM | best objective value is 0.0891\n",
      "10/01/19 @ 04:55 PM | running sequential rounding on 77 solutions\n",
      "10/01/19 @ 04:55 PM | best objective value: 0.0890\n",
      "10/01/19 @ 04:55 PM | sequential rounding produced 6 integer solutions\n",
      "10/01/19 @ 04:55 PM | best objective value: 0.0891\n",
      "10/01/19 @ 04:55 PM | polishing 11 solutions\n",
      "10/01/19 @ 04:55 PM | best objective value: 0.0891\n",
      "10/01/19 @ 04:55 PM | polishing produced 5 integer solutions\n",
      "10/01/19 @ 04:55 PM | initialization produced 12 feasible solutions\n",
      "10/01/19 @ 04:55 PM | best objective value: 0.0891\n",
      "10/01/19 @ 04:55 PM | ------------------------------------------------------------\n",
      "10/01/19 @ 04:55 PM | completed initialization procedure\n",
      "10/01/19 @ 04:55 PM | ------------------------------------------------------------\n",
      "10/01/19 @ 04:55 PM | 1061 rows in lookup table\n",
      "CPXPARAM_Read_DataCheck                          1\n",
      "CPXPARAM_Threads                                 1\n",
      "CPXPARAM_Parallel                                1\n",
      "CPXPARAM_RandomSeed                              0\n",
      "CPXPARAM_TimeLimit                               200\n",
      "CPXPARAM_MIP_Tolerances_LowerCutoff              0.087061384406506778\n",
      "CPXPARAM_MIP_Tolerances_UpperCutoff              0.08907951757972106\n"
     ]
    },
    {
     "name": "stderr",
     "output_type": "stream",
     "text": [
      "Warning: Control callbacks may disable some MIP features.\n"
     ]
    },
    {
     "name": "stdout",
     "output_type": "stream",
     "text": [
      "Lazy constraint(s) or lazy constraint callback is present.\n",
      "    Disabling dual reductions (CPX_PARAM_REDUCE) in presolve.\n",
      "    Disabling non-linear reductions (CPX_PARAM_PRELINEAR) in presolve.\n",
      "         Disabling repeat represolve because of lazy constraint/incumbent callback.\n",
      "10/01/19 @ 04:55 PM | adding 254 initial cuts\n",
      "1 of 1 MIP starts provided solutions.\n",
      "MIP start 'mip_start_0' defined initial solution with objective 0.0891.\n",
      "Tried aggregator 1 time.\n",
      "Reduced MIP has 26 rows, 52 columns, and 99 nonzeros.\n",
      "Reduced MIP has 24 binaries, 26 generals, 0 SOSs, and 0 indicators.\n",
      "Presolve time = 0.02 sec. (0.05 ticks)\n",
      "Probing time = 0.00 sec. (0.01 ticks)\n",
      "MIP emphasis: balance optimality and feasibility.\n",
      "MIP search method: traditional branch-and-cut.\n",
      "Parallel mode: none, using 1 thread.\n",
      "Root relaxation solution time = 0.00 sec. (0.03 ticks)\n",
      "\n",
      "        Nodes                                         Cuts/\n",
      "   Node  Left     Objective  IInf  Best Integer    Best Bound    ItCnt     Gap         Variable B NodeID Parent  Depth\n",
      "\n",
      "*     0+    0                            0.0891        0.0871             2.28%\n",
      "      0     0        0.0871     1        0.0891        0.0871        1    2.27%\n",
      "      0     2        0.0871     1        0.0891        0.0871        1    2.27%                        0             0\n",
      "Elapsed time = 0.09 sec. (1.16 ticks, tree = 0.01 MB, solutions = 1)\n",
      "   2370  1158        0.0871    10        0.0891        0.0871     9470    2.27%          rho_13 D   2370   2369     17\n",
      "   3650  1670        0.0888     3        0.0891        0.0871    16402    2.27%          rho_23 U   3650   3649     14\n",
      "   4959  2190        cutoff              0.0891        0.0871    20622    2.27%           rho_9 U   4959   4958     30\n",
      "   6035  2612        cutoff              0.0891        0.0871    24555    2.27%           rho_3 U   6035   6033     19\n",
      "   7084  2879        cutoff              0.0891        0.0871    28307    2.27%          rho_11 D   7084   7083     61\n",
      "   8178  3098        0.0883     8        0.0891        0.0871    32211    2.27%          rho_10 D   8178   8176     77\n",
      "   9270  3354        0.0887     7        0.0891        0.0871    36071    2.27%           rho_4 D   9270   9269     38\n",
      "  10164  3685        0.0883    11        0.0891        0.0871    40239    2.27%           rho_7 U  10164   3697     13\n",
      "  11112  3908        cutoff              0.0891        0.0871    44563    2.27%          rho_21 U  11112   2257     41\n",
      "  14737  5358        0.0876    12        0.0891        0.0871    59088    2.27%           rho_3 U  14737   6134     23\n",
      "Elapsed time = 4.95 sec. (3103.01 ticks, tree = 1.55 MB, solutions = 1)\n",
      "  17600  6845        0.0871     5        0.0891        0.0871    75788    2.27%           rho_9 U  17600  17598     66\n",
      "  20690  8265        0.0871     7        0.0891        0.0871    88858    2.27%           rho_0 D  20690  20688     80\n",
      "  23524  9478        0.0871    10        0.0891        0.0871   101397    2.27%           rho_0 D  23524  23522     47\n",
      "  26125 10784        cutoff              0.0891        0.0871   114289    2.27%          rho_21 U  26125  26124     76\n",
      "  28658 11698        0.0878     5        0.0891        0.0871   128746    2.27%           rho_9 D  28658  28657     44\n",
      "  31333 12544        0.0886    19        0.0891        0.0871   141257    2.27%           rho_9 D  31333  31332     40\n",
      "  33704 13760        0.0871     2        0.0891        0.0871   156858    2.27%           rho_9 U  33704  33703     91\n",
      "  36376 14743        0.0871     1        0.0891        0.0871   170628    2.27%           rho_9 U  36376  36374     78\n",
      "  39295 15691        0.0871     4        0.0891        0.0871   184651    2.27%           rho_0 D  39295  39293     67\n",
      "  41845 16740        0.0871     1        0.0891        0.0871   196848    2.27%           rho_5 U  41845  41834     34\n",
      "Elapsed time = 13.28 sec. (12646.23 ticks, tree = 5.57 MB, solutions = 1)\n",
      "  43678 17676        0.0871     7        0.0891        0.0871   210596    2.27%           rho_9 D  43678  43676     66\n",
      "  45415 18522        0.0871     7        0.0891        0.0871   225082    2.27%           rho_0 D  45415  45413     80\n",
      "  47761 19864        0.0882     5        0.0891        0.0871   237116    2.27%          rho_11 D  47761  47760     51\n",
      "  50274 20910        0.0889     7        0.0891        0.0871   247573    2.27%          rho_20 D  50274  50273    111\n",
      "  52678 21950        0.0876    10        0.0891        0.0871   258281    2.27%           rho_0 D  52678  52676     65\n",
      "  55201 23050        0.0891     3        0.0891        0.0871   271447    2.27%          rho_21 D  55201  55200     78\n",
      "  57880 23804        0.0879     5        0.0891        0.0871   284062    2.27%           rho_9 D  57880  57879     87\n",
      "  60358 24849        0.0880     7        0.0891        0.0871   295026    2.27%           rho_1 D  60358  60357     64\n",
      "  62620 25959        0.0872    12        0.0891        0.0871   308026    2.27%           rho_9 D  62620  62619     48\n",
      "  64965 27232        0.0877     5        0.0891        0.0871   318920    2.27%           rho_0 D  64965  64963     37\n",
      "Elapsed time = 20.39 sec. (22186.20 ticks, tree = 8.44 MB, solutions = 1)\n",
      "  67176 28158        0.0871     4        0.0891        0.0871   330117    2.27%           rho_9 U  67176  67175     93\n",
      "  69030 29015        0.0877     7        0.0891        0.0871   343060    2.27%           rho_9 D  69030  69029     45\n",
      "  71049 30003        0.0871    11        0.0891        0.0871   355972    2.27%           rho_5 U  71049  71047     49\n",
      "  73339 31106        0.0879    11        0.0891        0.0871   365777    2.27%           rho_9 D  73339  16124     59\n",
      "  75054 32218        cutoff              0.0891        0.0871   376603    2.27%           rho_0 U  75054  75052     48\n",
      "  76846 33084        0.0872     8        0.0891        0.0871   386473    2.27%           rho_9 D  76846  76845     75\n",
      "  78716 34005        0.0890     4        0.0891        0.0871   395993    2.27%           rho_9 U  78716  78715    104\n",
      "  81023 34980        0.0874    14        0.0891        0.0871   408949    2.27%           rho_0 N  81023  81022    100\n",
      "  83206 35962        0.0871     8        0.0891        0.0871   420902    2.27%           rho_0 D  83206  83204     73\n",
      "  85269 36956        0.0871    12        0.0891        0.0871   432052    2.27%           rho_5 U  85269  85267     30\n",
      "Elapsed time = 27.13 sec. (31725.18 ticks, tree = 12.51 MB, solutions = 1)\n",
      "  87318 37965        0.0885    10        0.0891        0.0871   442704    2.27%           rho_0 D  87318  87316     45\n",
      "  89147 39027        0.0881     7        0.0891        0.0871   449895    2.27%           rho_0 U  89147  89146     74\n",
      "  91006 39762        0.0871     5        0.0891        0.0871   461954    2.27%           rho_9 U  91006  91004     66\n",
      "  92990 40637        0.0871     7        0.0891        0.0871   473795    2.27%           rho_0 D  92990  92988     38\n",
      "  95065 41701        0.0871     8        0.0891        0.0871   483491    2.27%           rho_0 D  95065  95063     95\n",
      "  96780 42569        0.0887    11        0.0891        0.0871   496299    2.27%          rho_14 D  96780  96779     97\n",
      "  98723 43502        0.0871     1        0.0891        0.0871   505659    2.27%           rho_5 U  98723  98721     47\n",
      " 100834 44589        0.0871    13        0.0891        0.0871   517462    2.27%           rho_0 D 100834 100832     41\n",
      " 102781 45404        cutoff              0.0891        0.0871   526743    2.27%           rho_0 U 102781 102780     59\n",
      " 104972 46376        0.0871    13        0.0891        0.0871   536541    2.27%           rho_0 D 104972 104970     49\n",
      "Elapsed time = 34.06 sec. (41264.82 ticks, tree = 15.18 MB, solutions = 1)\n",
      " 107010 47096        0.0871    13        0.0891        0.0871   546986    2.27%           rho_0 D 107010 107009     43\n",
      " 108750 47931        0.0871     6        0.0891        0.0871   558009    2.27%           rho_0 D 108750 108748    100\n",
      " 110597 48886        0.0871    11        0.0891        0.0871   568047    2.27%          rho_22 U 110597 110510     23\n",
      " 112431 49893        0.0874     7        0.0891        0.0871   578252    2.27%          rho_14 D 112431 112429     40\n",
      " 114429 50684        0.0871     7        0.0891        0.0871   588898    2.27%           rho_0 D 114429 114427     75\n",
      " 116278 51413        0.0872     7        0.0891        0.0871   599390    2.27%           rho_9 D 116278 116277     53\n",
      " 118101 52046        0.0877     8        0.0891        0.0871   609170    2.27%           rho_9 D 118101 118100     38\n",
      " 120052 53254        0.0871     9        0.0891        0.0871   617421    2.27%          rho_13 D 120052  92707     26\n",
      " 121380 54125        0.0871     9        0.0891        0.0871   628704    2.27%           rho_0 D 121380 121378     74\n",
      " 122774 54884        0.0885     9        0.0891        0.0871   638485    2.27%          rho_11 D 122774 122772     49\n",
      "Elapsed time = 40.16 sec. (50811.24 ticks, tree = 17.61 MB, solutions = 1)\n",
      " 124419 55750        0.0871     1        0.0891        0.0871   648886    2.27%           rho_9 U 124419 124417     82\n",
      " 126047 56635        cutoff              0.0891        0.0871   658748    2.27%           rho_0 U 126047 126025     68\n",
      " 127789 57282        cutoff              0.0891        0.0871   670623    2.27%          rho_13 U 127789 127787     81\n",
      " 129835 58247        0.0871    12        0.0891        0.0871   683541    2.27%           rho_0 D 129835 129833     69\n",
      " 131604 58827        0.0878     9        0.0891        0.0871   697109    2.27%          rho_13 D 131604 131603     79\n",
      " 133234 59364        0.0875     7        0.0891        0.0871   709380    2.27%           rho_0 D 133234 133232     30\n",
      " 135029 60597        0.0888    11        0.0891        0.0871   720972    2.27%           rho_0 U 135029 135028     72\n",
      " 137049 61410        cutoff              0.0891        0.0871   730375    2.27%           rho_0 U 137049 137048     84\n",
      " 139088 62270        0.0872    12        0.0891        0.0871   740080    2.27%           rho_9 D 139088 139087     79\n",
      " 140998 63424        0.0875     9        0.0891        0.0871   749416    2.27%           rho_9 U 140998 140996     94\n",
      "Elapsed time = 47.73 sec. (60350.00 ticks, tree = 20.07 MB, solutions = 1)\n",
      " 142558 64186        0.0871     9        0.0891        0.0871   758160    2.27%           rho_0 D 142558 142556     62\n",
      " 144442 64898        0.0871     6        0.0891        0.0871   771385    2.27%           rho_9 U 144442 144440     80\n",
      " 146529 65587        0.0871     6        0.0891        0.0871   781985    2.27%           rho_9 U 146529 146527     66\n",
      " 148335 66407        0.0873     8        0.0891        0.0871   792478    2.27%           rho_9 D 148335 148334     64\n",
      " 150215 67350        0.0887    16        0.0891        0.0871   802817    2.27%           rho_9 D 150215 150214     51\n",
      " 152087 68356        0.0871     1        0.0891        0.0871   812089    2.27%           rho_9 U 152087 152086     75\n",
      " 154630 69423        0.0871     7        0.0891        0.0871   822172    2.27%           rho_0 U 154630 154629     55\n",
      " 156218 70444        cutoff              0.0891        0.0871   832885    2.27%          rho_14 U 156218 156217    112\n",
      " 157824 71367        0.0871     7        0.0891        0.0871   840376    2.27%           rho_0 U 157824 157822     91\n",
      " 159448 72086        0.0871    11        0.0891        0.0871   850929    2.27%           rho_0 D 159448 159446     50\n",
      "Elapsed time = 54.63 sec. (69891.22 ticks, tree = 25.40 MB, solutions = 1)\n",
      " 161137 72744        cutoff              0.0891        0.0871   860453    2.27%          rho_23 U 161137 161135     63\n",
      " 162916 73671        0.0885     6        0.0891        0.0871   872828    2.27%           rho_4 D 162916 162915     27\n",
      " 164592 74572        0.0876    13        0.0891        0.0871   881811    2.27%           rho_5 U 164592 164590     23\n",
      " 166000 75372        0.0874     8        0.0891        0.0871   890821    2.27%          rho_11 D 166000 165999     59\n",
      " 167370 76080        0.0871     1        0.0891        0.0871   901060    2.27%           rho_9 U 167370 167358     84\n",
      " 168772 76769        0.0872    12        0.0891        0.0871   911777    2.27%          rho_11 D 168772 168771     67\n",
      " 170310 77568        0.0881     7        0.0891        0.0871   921572    2.27%           rho_4 D 170310 170309     81\n",
      " 172168 78334        0.0871     4        0.0891        0.0871   932500    2.27%           rho_9 U 172168 172166     72\n",
      " 173910 79283        0.0878    10        0.0891        0.0871   945009    2.27%           rho_5 D 173910 173909     34\n",
      " 175259 80257        0.0871    11        0.0891        0.0871   955361    2.27%           rho_0 D 175259 175257     34\n",
      "Elapsed time = 61.25 sec. (79441.16 ticks, tree = 27.79 MB, solutions = 1)\n",
      " 176782 81375        0.0871     9        0.0891        0.0871   964412    2.27%           rho_0 D 176782 176780     98\n",
      " 178328 82269        0.0887     4        0.0891        0.0871   973235    2.27%           rho_0 U 178328 178327     84\n",
      " 179890 83147        0.0871    11        0.0891        0.0871   982236    2.27%           rho_0 D 179890 179888     84\n",
      " 181279 83975        0.0871    11        0.0891        0.0871   992715    2.27%           rho_0 D 181279 181277     38\n",
      " 182468 84803        0.0888     3        0.0891        0.0871  1004404    2.27%          rho_23 D 182468 182467    108\n",
      " 183315 85408        0.0871    11        0.0891        0.0871  1018352    2.27%           rho_0 D 183315 183313     67\n",
      " 184779 85995        0.0871    12        0.0891        0.0871  1028268    2.27%           rho_0 D 184779 184778     78\n",
      " 186160 86647        0.0888     7        0.0891        0.0871  1038975    2.27%           rho_0 D 186160 186159     31\n",
      " 187700 87587        cutoff              0.0891        0.0871  1046114    2.27%           rho_9 D 187700 187699     55\n",
      " 192980 90767        0.0871    14        0.0891        0.0871  1087139    2.27%           rho_9 D 192980 192979     71\n",
      "Elapsed time = 67.50 sec. (91846.47 ticks, tree = 30.92 MB, solutions = 1)\n",
      " 198430 94319        0.0871     1        0.0891        0.0871  1122886    2.27%           rho_9 U 198430 198428     70\n",
      " 204107 97873        0.0880    16        0.0891        0.0871  1158215    2.27%           rho_5 U 204107 204105     47\n",
      " 210140 101188        0.0871     5        0.0891        0.0871  1192915    2.27%           rho_0 D 210140 210139     52\n",
      " 218069 104156        cutoff              0.0891        0.0871  1232951    2.27%           rho_0 U 218069 217158     96\n",
      " 223865 107438        cutoff              0.0891        0.0871  1273359    2.27%           rho_0 U 223865 223864     98\n",
      " 229519 110719        0.0891     5        0.0891        0.0871  1305288    2.27%          rho_20 D 229519 229518     45\n",
      " 235110 113517        cutoff              0.0891        0.0871  1339857    2.27%           rho_0 U 235110 235109     68\n",
      " 240417 116642        cutoff              0.0891        0.0871  1382091    2.27%          rho_11 U 240417 240416     95\n",
      " 245801 118949        cutoff              0.0891        0.0871  1429273    2.27%           rho_4 U 245801 245799     36\n",
      " 253186 122348        0.0871     1        0.0891        0.0871  1471848    2.27%           rho_5 U 253186 253045     52\n",
      "Elapsed time = 87.81 sec. (129998.96 ticks, tree = 40.32 MB, solutions = 1)\n",
      " 258420 125211        cutoff              0.0891        0.0871  1514067    2.27%          rho_20 U 258420 258418     33\n",
      " 263105 128045        0.0888     5        0.0891        0.0871  1554678    2.27%           rho_0 U 263105 263103     85\n",
      " 268892 130987        0.0871    11        0.0891        0.0871  1584456    2.27%           rho_0 D 268892 268756     76\n",
      "*271843 132307      integral     0        0.0891        0.0871  1604412    2.26%\n",
      " 274840 134041        0.0879     6        0.0891        0.0871  1628563    2.26%           rho_9 D 274840 274839     38\n",
      " 279694 136547        0.0871     9        0.0891        0.0871  1669975    2.26%           rho_0 D 279694 279693     89\n",
      " 284736 139128        0.0871    11        0.0891        0.0871  1710196    2.26%           rho_0 D 284736 284734     72\n",
      " 290531 141736        0.0871    13        0.0891        0.0871  1760071    2.26%           rho_9 U 290531 290529     33\n",
      " 296538 144763        0.0878    13        0.0891        0.0871  1808118    2.26%           rho_9 U 296538 296536     62\n",
      " 301468 147601        0.0871    11        0.0891        0.0871  1846849    2.26%           rho_0 D 301468 301466     73\n",
      " 306695 150137        0.0872    13        0.0891        0.0871  1887172    2.26%          rho_13 D 306695 306694     78\n",
      "Elapsed time = 114.06 sec. (168149.46 ticks, tree = 51.76 MB, solutions = 2)\n",
      " 314052 152203        0.0871    14        0.0891        0.0871  1933022    2.26%           rho_9 D 314052 314051     55\n",
      " 320254 154654        0.0874    13        0.0891        0.0871  1986881    2.26%          rho_16 U 320254 320253     65\n",
      " 326364 157418        0.0871    10        0.0891        0.0871  2035726    2.26%           rho_9 U 326364 326362     97\n",
      " 331317 160093        0.0871    12        0.0891        0.0871  2081195    2.26%           rho_0 D 331317 331315     47\n",
      " 336404 162993        0.0871     9        0.0891        0.0871  2117111    2.26%           rho_0 D 336404 336402     76\n",
      " 341313 165942        0.0871    15        0.0891        0.0871  2155794    2.26%           rho_9 D 341313 341312     36\n",
      " 345204 168735        0.0882    10        0.0891        0.0871  2205569    2.26%           rho_0 U 345204 345203     93\n",
      " 350442 171396        0.0871    10        0.0891        0.0871  2243924    2.26%           rho_0 D 350442 350440     60\n",
      " 355548 173896        0.0871     6        0.0891        0.0871  2283056    2.26%           rho_9 U 355548 355546     69\n",
      " 360701 176805        0.0871    11        0.0891        0.0871  2321767    2.26%           rho_0 D 360701 360699     54\n",
      "Elapsed time = 134.00 sec. (206304.32 ticks, tree = 61.55 MB, solutions = 2)\n",
      " 365108 179651        0.0871    12        0.0891        0.0871  2361785    2.26%           rho_0 D 365108 365106     51\n",
      " 369740 182441        0.0877    13        0.0891        0.0871  2403118    2.26%           rho_0 U 369740 369739     19\n",
      " 374533 184941        0.0889     7        0.0891        0.0871  2441834    2.26%          rho_13 U 374533 374531     41\n",
      " 378775 187486        0.0884    15        0.0891        0.0871  2491337    2.26%          rho_23 D 378775 378774     54\n",
      " 383450 189790        0.0871    14        0.0891        0.0871  2529242    2.26%           rho_9 D 383450 383449     75\n",
      " 389578 192465        cutoff              0.0891        0.0871  2572528    2.26%           rho_9 U 389578 389577     63\n",
      " 394275 195532        0.0871    14        0.0891        0.0871  2611005    2.26%           rho_0 D 394275 394273     32\n",
      " 398781 197994        0.0882    11        0.0891        0.0871  2651258    2.26%          rho_16 U 398781 398780     43\n",
      " 403320 200358        0.0871     8        0.0891        0.0871  2688415    2.26%           rho_9 U 403320 401391     55\n",
      " 409494 202874        0.0881     7        0.0891        0.0871  2730185    2.26%           rho_0 U 409494 409493     54\n",
      "Elapsed time = 153.72 sec. (244457.02 ticks, tree = 71.58 MB, solutions = 2)\n",
      " 416093 205628        0.0871    12        0.0891        0.0871  2772382    2.26%           rho_9 U 416093 416011     62\n",
      " 423336 208306        0.0871    11        0.0891        0.0871  2812276    2.26%           rho_0 D 423336 423334     56\n",
      " 428966 211273        0.0886     5        0.0891        0.0871  2860840    2.26%          rho_20 D 428966 428965     57\n",
      " 434907 213784        0.0877    14        0.0891        0.0871  2905252    2.26%           rho_9 D 434907 434906     79\n",
      " 440710 216311        0.0883     9        0.0891        0.0871  2945990    2.26%          rho_23 D 440710 440709     28\n",
      " 446601 217894        cutoff              0.0891        0.0871  2981743    2.26%          rho_13 U 446601 446599     79\n",
      " 452320 220107        0.0881    13        0.0891        0.0871  3023366    2.26%          rho_10 D 452320 452319     67\n",
      " 457751 222042        0.0871     6        0.0891        0.0871  3067807    2.26%           rho_5 U 457751 457741     43\n",
      " 462870 224034        0.0871    11        0.0891        0.0871  3115453    2.26%          rho_10 D 462870 462811     82\n",
      " 467937 226980        0.0871     9        0.0891        0.0871  3162370    2.26%           rho_9 U 467937 467935     41\n",
      "Elapsed time = 174.22 sec. (282609.86 ticks, tree = 81.40 MB, solutions = 2)\n",
      " 472610 229825        0.0877     9        0.0891        0.0871  3196891    2.26%          rho_22 D 472610 472609     24\n",
      " 478241 232194        0.0871     1        0.0891        0.0871  3232451    2.26%           rho_9 U 478241 478229     79\n",
      " 483903 234783        0.0887     7        0.0891        0.0871  3274672    2.26%          rho_10 U 483903 483901     55\n",
      " 488152 237189        0.0878    13        0.0891        0.0871  3314937    2.26%          rho_13 D 488152 488151     73\n",
      " 493757 239748        0.0871    12        0.0891        0.0871  3353660    2.26%           rho_0 D 493757 493755     87\n",
      " 498977 242363        0.0871    13        0.0891        0.0871  3396733    2.26%           rho_0 D 498977 498974     56\n",
      " 503181 244662        0.0887    11        0.0891        0.0871  3435269    2.26%           rho_9 D 503181 503179     23\n",
      " 506713 246881        0.0871    13        0.0891        0.0871  3481347    2.26%           rho_0 D 506713 506711     66\n",
      " 511642 249184        0.0871     4        0.0891        0.0871  3515366    2.26%           rho_9 U 511642 511640     57\n",
      " 516703 251452        cutoff              0.0891        0.0871  3556215    2.26%          rho_23 U 516703 516701     35\n",
      "Elapsed time = 194.09 sec. (320762.11 ticks, tree = 88.97 MB, solutions = 2)\n",
      " 521638 253748        0.0876     8        0.0891        0.0871  3602278    2.26%           rho_0 U 521638 521637     47\n",
      " 526220 256649        0.0879     9        0.0891        0.0871  3635963    2.26%          rho_10 D 526220 526219     68\n",
      " 530348 259133        0.0871    12        0.0891        0.0871  3670440    2.26%           rho_9 N 530348 530347     75\n",
      "\n",
      "User cuts applied:  920\n",
      "\n",
      "Root node processing (before b&c):\n",
      "  Real time             =    0.08 sec. (1.23 ticks)\n",
      "Sequential b&c:\n",
      "  Real time             =  199.94 sec. (332589.82 ticks)\n",
      "                          ------------\n",
      "Total (root+branch&cut) =  200.02 sec. (332591.05 ticks)\n",
      "+-----------------------------------------------+------------------+-----------+\n",
      "| Pr(Y = +1) = 1.0/(1.0 + exp(-(-10 + score))   |                  |           |\n",
      "| ============================================= | ================ | ========= |\n",
      "| p_arrest>=1                                   |         4 points |   + ..... |\n",
      "| p_violence>=1                                 |         3 points |   + ..... |\n",
      "| p_arrest>=3                                   |         1 points |   + ..... |\n",
      "| p_felony>=1                                   |         1 points |   + ..... |\n",
      "| ============================================= | ================ | ========= |\n",
      "| ADD POINTS FROM ROWS 1 to 4                   |            SCORE |   = ..... |\n",
      "+-----------------------------------------------+------------------+-----------+\n",
      "model_id, score_thresholds 0 {'rank_abs': [0]}\n",
      "get_disparity_predefined_group()\n"
     ]
    },
    {
     "name": "stderr",
     "output_type": "stream",
     "text": [
      "C:\\Users\\binha\\Documents\\Duke\\Cynthia Research\\psa-analysis - test2\\utils\\fairness_functions.py:82: RuntimeWarning:\n",
      "\n",
      "invalid value encountered in longlong_scalars\n",
      "\n",
      "C:\\Users\\binha\\Documents\\Duke\\Cynthia Research\\psa-analysis - test2\\utils\\fairness_functions.py:95: RuntimeWarning:\n",
      "\n",
      "divide by zero encountered in longlong_scalars\n",
      "\n",
      "C:\\Users\\binha\\Documents\\Duke\\Cynthia Research\\psa-analysis - test2\\utils\\fairness_functions.py:86: RuntimeWarning:\n",
      "\n",
      "invalid value encountered in longlong_scalars\n",
      "\n",
      "C:\\Users\\binha\\Documents\\Duke\\Cynthia Research\\psa-analysis - test2\\utils\\fairness_functions.py:95: RuntimeWarning:\n",
      "\n",
      "invalid value encountered in longlong_scalars\n",
      "\n"
     ]
    },
    {
     "name": "stdout",
     "output_type": "stream",
     "text": [
      "setting c0 = 0.0 to ensure that intercept is not penalized\n",
      "10/01/19 @ 04:59 PM | 1061 rows in lookup table\n",
      "10/01/19 @ 04:59 PM | ------------------------------------------------------------\n",
      "10/01/19 @ 04:59 PM | runnning initialization procedure\n",
      "10/01/19 @ 04:59 PM | ------------------------------------------------------------\n",
      "10/01/19 @ 04:59 PM | CPA produced 2 cuts\n",
      "10/01/19 @ 04:59 PM | running naive rounding on 68 solutions\n",
      "10/01/19 @ 04:59 PM | best objective value: 0.0913\n",
      "10/01/19 @ 04:59 PM | rounding produced 5 integer solutions\n",
      "10/01/19 @ 04:59 PM | best objective value is 0.0935\n",
      "10/01/19 @ 04:59 PM | running sequential rounding on 68 solutions\n",
      "10/01/19 @ 04:59 PM | best objective value: 0.0913\n",
      "10/01/19 @ 04:59 PM | sequential rounding produced 6 integer solutions\n",
      "10/01/19 @ 04:59 PM | best objective value: 0.0919\n",
      "10/01/19 @ 04:59 PM | polishing 11 solutions\n",
      "10/01/19 @ 04:59 PM | best objective value: 0.0919\n",
      "10/01/19 @ 04:59 PM | polishing produced 5 integer solutions\n",
      "10/01/19 @ 04:59 PM | initialization produced 13 feasible solutions\n",
      "10/01/19 @ 04:59 PM | best objective value: 0.0919\n",
      "10/01/19 @ 04:59 PM | ------------------------------------------------------------\n",
      "10/01/19 @ 04:59 PM | completed initialization procedure\n",
      "10/01/19 @ 04:59 PM | ------------------------------------------------------------\n",
      "10/01/19 @ 04:59 PM | 1061 rows in lookup table\n",
      "CPXPARAM_Read_DataCheck                          1\n",
      "CPXPARAM_Threads                                 1\n",
      "CPXPARAM_Parallel                                1\n",
      "CPXPARAM_RandomSeed                              0\n",
      "CPXPARAM_TimeLimit                               200\n",
      "CPXPARAM_MIP_Tolerances_LowerCutoff              0.088259124256019006\n",
      "CPXPARAM_MIP_Tolerances_UpperCutoff              0.09191708327811067\n"
     ]
    },
    {
     "name": "stderr",
     "output_type": "stream",
     "text": [
      "Warning: Control callbacks may disable some MIP features.\n"
     ]
    },
    {
     "name": "stdout",
     "output_type": "stream",
     "text": [
      "Lazy constraint(s) or lazy constraint callback is present.\n",
      "    Disabling dual reductions (CPX_PARAM_REDUCE) in presolve.\n",
      "    Disabling non-linear reductions (CPX_PARAM_PRELINEAR) in presolve.\n",
      "         Disabling repeat represolve because of lazy constraint/incumbent callback.\n",
      "10/01/19 @ 04:59 PM | adding 254 initial cuts\n",
      "1 of 1 MIP starts provided solutions.\n",
      "MIP start 'mip_start_0' defined initial solution with objective 0.0919.\n",
      "Tried aggregator 1 time.\n",
      "Reduced MIP has 26 rows, 52 columns, and 99 nonzeros.\n",
      "Reduced MIP has 24 binaries, 26 generals, 0 SOSs, and 0 indicators.\n",
      "Presolve time = 0.00 sec. (0.05 ticks)\n",
      "Probing time = 0.00 sec. (0.01 ticks)\n",
      "MIP emphasis: balance optimality and feasibility.\n",
      "MIP search method: traditional branch-and-cut.\n",
      "Parallel mode: none, using 1 thread.\n",
      "Root relaxation solution time = 0.00 sec. (0.03 ticks)\n",
      "\n",
      "        Nodes                                         Cuts/\n",
      "   Node  Left     Objective  IInf  Best Integer    Best Bound    ItCnt     Gap         Variable B NodeID Parent  Depth\n",
      "\n",
      "*     0+    0                            0.0919        0.0882             3.99%\n",
      "      0     0        0.0883     1        0.0919        0.0883        1    3.98%\n",
      "      0     2        0.0883     1        0.0919        0.0883        1    3.98%                        0             0\n",
      "Elapsed time = 0.09 sec. (1.16 ticks, tree = 0.01 MB, solutions = 1)\n",
      "*   860+  489                            0.0918        0.0883             3.85%\n",
      "*  1170+  593                            0.0915        0.0883             3.54%\n",
      "*  1579   802      integral     0        0.0915        0.0883     6828    3.54%\n",
      "   1963   886        0.0883    10        0.0915        0.0883     8272    3.54%          rho_17 D   1963    813     17\n",
      "   3168  1479        cutoff              0.0915        0.0883    13697    3.54%         alpha_2 D   3168   3167     22\n",
      "   4117  1935        0.0883     7        0.0915        0.0883    17819    3.54%          rho_13 D   4117   4116     15\n",
      "*  4580+ 2047                            0.0911        0.0883             3.11%\n",
      "*  4700+ 1855                            0.0906        0.0883             2.58%\n",
      "   4817  1911        0.0895     4        0.0906        0.0883    21403    2.58%           rho_9 U   4817   4815     62\n",
      "   5579  2242        0.0900     3        0.0906        0.0883    23728    2.58%          rho_21 D   5579   5578     35\n",
      "   6275  2583        0.0885     9        0.0906        0.0883    26566    2.58%           rho_7 U   6275   6274     16\n",
      "   6930  2860        0.0896    11        0.0906        0.0883    29793    2.58%           rho_0 D   6930   6928     38\n",
      "   7555  3120        0.0902    13        0.0906        0.0883    32916    2.58%          rho_16 U   7555   7553     17\n",
      "   8142  3390        0.0896     8        0.0906        0.0883    36060    2.58%           rho_0 D   8142   8140     31\n",
      "  10894  4722        0.0883     4        0.0906        0.0883    47546    2.58%           rho_0 D  10894  10893     67\n",
      "Elapsed time = 4.02 sec. (3103.04 ticks, tree = 1.45 MB, solutions = 6)\n",
      "  13647  5888        0.0894     4        0.0906        0.0883    59516    2.58%           rho_4 D  13647  13646     27\n",
      "  15862  6858        0.0883     1        0.0906        0.0883    72170    2.58%           rho_9 U  15862  15860     48\n",
      "  18087  7896        cutoff              0.0906        0.0883    83617    2.58%           rho_9 D  18087  18086     60\n",
      "  20197  8861        0.0883    11        0.0906        0.0883    95179    2.58%           rho_9 U  20197  20195     59\n",
      "  22291  9893        0.0883     4        0.0906        0.0883   107328    2.58%          rho_22 D  22291  22290     85\n",
      "* 23216 10146      integral     0        0.0905        0.0883   112458    2.45%\n",
      "  24254 10616        0.0887     7        0.0905        0.0883   118502    2.45%           rho_9 D  24254  24253     30\n",
      "* 26000+10805                            0.0902        0.0883             2.18%\n",
      "  26277 10932        0.0898     5        0.0902        0.0883   129878    2.18%          rho_16 D  26277  26275     44\n",
      "  28146 11648        0.0883     1        0.0902        0.0883   140417    2.18%           rho_9 U  28146  28053     68\n",
      "  30052 12601        0.0884    15        0.0902        0.0883   151250    2.18%           rho_0 D  30052  30050     18\n",
      "  31900 13732        0.0900     4        0.0902        0.0883   160668    2.18%          rho_20 D  31900  31899     33\n",
      "Elapsed time = 10.97 sec. (12642.50 ticks, tree = 4.34 MB, solutions = 8)\n",
      "  33347 14523        0.0883    15        0.0902        0.0883   170574    2.18%           rho_0 N  33347  33346     47\n",
      "  34720 15336        0.0889     7        0.0902        0.0883   181211    2.18%           rho_2 D  34720  34719     97\n",
      "  36090 16081        0.0883     9        0.0902        0.0883   192507    2.18%           rho_0 D  36090  36088     57\n",
      "  37598 16739        0.0895     7        0.0902        0.0883   201646    2.18%           rho_2 U  37598  37597     34\n",
      "  39826 17598        0.0883     6        0.0902        0.0883   211376    2.18%           rho_9 U  39826  39824     96\n",
      "  41879 18403        0.0896     8        0.0902        0.0883   221607    2.18%           rho_0 U  41879  41878     41\n",
      "  43847 19133        0.0887    13        0.0902        0.0883   232093    2.18%          rho_10 D  43847  43846     24\n",
      "  45867 19443        0.0883     4        0.0902        0.0883   239730    2.18%           rho_9 U  45867  45800     90\n",
      "  47870 19796        0.0883    11        0.0902        0.0883   247618    2.18%          rho_17 U  47870  47869      9\n",
      "  49717 20544        0.0901     9        0.0902        0.0883   258466    2.18%           rho_0 D  49717  49715     24\n",
      "Elapsed time = 16.97 sec. (22183.82 ticks, tree = 7.00 MB, solutions = 8)\n",
      "  51536 21693        0.0890     9        0.0902        0.0883   268546    2.18%           rho_9 U  51536  51534     57\n",
      "  53722 22271        0.0897     7        0.0902        0.0883   278868    2.18%          rho_11 D  53722  53721     76\n",
      "  55425 22821        0.0883     8        0.0902        0.0883   290482    2.18%           rho_0 D  55425  55423     42\n",
      "  56875 23488        0.0883     8        0.0902        0.0883   302843    2.18%           rho_0 D  56875  56873     68\n",
      "  58533 24142        0.0896     5        0.0902        0.0883   312972    2.18%          rho_20 D  58533  58532     97\n",
      "  60328 24514        0.0883     4        0.0902        0.0883   322344    2.18%           rho_9 U  60328  60222     60\n",
      "  62137 24505        cutoff              0.0902        0.0883   330909    2.18%           rho_5 U  62137  62136     34\n",
      "  64085 25377        0.0883     9        0.0902        0.0883   341801    2.18%          rho_14 D  64085  64084     55\n",
      "  66207 25781        0.0886     8        0.0902        0.0883   350894    2.18%           rho_9 D  66207  66206     70\n",
      "  68110 26429        0.0884     5        0.0902        0.0883   359462    2.18%           rho_9 D  68110  68109     53\n",
      "Elapsed time = 22.34 sec. (31724.88 ticks, tree = 8.74 MB, solutions = 8)\n",
      "  70004 27115        cutoff              0.0902        0.0883   367621    2.18%           rho_0 U  70004  70003     67\n",
      "  71885 27964        cutoff              0.0902        0.0883   376355    2.18%          rho_11 U  71885  71884     57\n",
      "  73701 28705        cutoff              0.0902        0.0883   385105    2.18%          rho_11 D  73701  73700     67\n",
      "  75364 29148        0.0883     6        0.0902        0.0883   395137    2.18%           rho_9 U  75364  75309     64\n",
      "  77028 29555        cutoff              0.0902        0.0883   406523    2.18%           rho_0 U  77028  77027     81\n",
      "  78730 30009        cutoff              0.0902        0.0883   415713    2.18%          rho_11 U  78730  78729     61\n",
      "  80379 30483        cutoff              0.0902        0.0883   424014    2.18%          rho_11 U  80379  80378     91\n",
      "  82000 31248        0.0884    17        0.0902        0.0883   433046    2.18%           rho_5 D  82000  81999     33\n",
      "  83570 32048        0.0883     8        0.0902        0.0883   441949    2.18%           rho_2 D  83570  83569     18\n",
      "  85277 33258        0.0883     5        0.0902        0.0883   451353    2.18%           rho_9 U  85277  85275     69\n",
      "Elapsed time = 27.86 sec. (41267.25 ticks, tree = 12.14 MB, solutions = 8)\n",
      "  86764 34254        0.0883     9        0.0902        0.0883   459240    2.18%           rho_0 D  86764  86762     36\n",
      "* 87000+34319                            0.0902        0.0883             2.18%\n",
      "  88320 34848        0.0883     8        0.0902        0.0883   466623    2.18%           rho_0 D  88320  88318     68\n",
      "  90231 35647        0.0883     7        0.0902        0.0883   476623    2.18%          rho_16 U  90231  90113     21\n",
      "  91960 36634        0.0898     8        0.0902        0.0883   485775    2.18%           rho_0 U  91960  91959     83\n",
      "  93872 37161        cutoff              0.0902        0.0883   493998    2.18%           rho_0 U  93872  93871     82\n",
      "  95736 37599        0.0884     9        0.0902        0.0883   502815    2.18%           rho_9 D  95736  95735     69\n",
      "  97359 37870        cutoff              0.0902        0.0883   511568    2.18%          rho_20 U  97359  97357     93\n",
      "  99045 38545        0.0885    12        0.0902        0.0883   520206    2.18%           rho_9 U  99045  99043     48\n",
      " 100631 39258        0.0897     6        0.0902        0.0883   529040    2.18%           rho_9 U 100631 100629     34\n",
      " 102090 40036        0.0886    13        0.0902        0.0883   538744    2.18%           rho_5 D 102090 102089     24\n",
      "Elapsed time = 33.63 sec. (50811.14 ticks, tree = 14.17 MB, solutions = 9)\n",
      " 103713 40764        0.0883     8        0.0902        0.0883   547163    2.18%           rho_0 D 103713 103711     40\n",
      " 105464 40961        cutoff              0.0902        0.0883   557219    2.18%          rho_20 U 105464 105462     87\n",
      " 107095 41114        0.0883     9        0.0902        0.0883   567951    2.18%           rho_9 D 107095 107094     69\n",
      " 108526 41632        0.0883     9        0.0902        0.0883   579148    2.18%           rho_9 D 108526 108525     51\n",
      " 110043 42077        cutoff              0.0902        0.0883   589895    2.18%          rho_20 U 110043 110041     53\n",
      " 111709 42263        0.0883     8        0.0902        0.0883   597739    2.18%           rho_0 D 111709 111707     85\n",
      " 113339 42792        cutoff              0.0902        0.0883   606092    2.18%           rho_0 U 113339 113338     44\n",
      " 114998 43448        0.0893     5        0.0902        0.0883   614155    2.18%           rho_0 D 114998 114996     33\n",
      " 116609 44160        0.0885     8        0.0902        0.0883   622122    2.18%           rho_9 U 116609 116607     51\n",
      " 118023 45024        0.0883     9        0.0902        0.0883   632194    2.18%           rho_0 D 118023 118021     60\n",
      "Elapsed time = 39.05 sec. (60351.00 ticks, tree = 15.69 MB, solutions = 9)\n",
      " 119323 45813        0.0883    14        0.0902        0.0883   643055    2.18%           rho_0 D 119323 119321     60\n",
      " 120823 46518        0.0883     5        0.0902        0.0883   653116    2.18%           rho_0 D 120823 120821     52\n",
      " 122341 47256        0.0883     9        0.0902        0.0883   662616    2.18%           rho_9 U 122341 122339     31\n",
      " 123905 47913        0.0883     7        0.0902        0.0883   670856    2.18%           rho_9 U 123905 123903     57\n",
      " 125387 48337        0.0889     8        0.0902        0.0883   680449    2.18%           rho_1 D 125387 125386     22\n",
      " 126870 49077        0.0883    10        0.0902        0.0883   689237    2.18%           rho_9 U 126870 126868     46\n",
      " 128432 49760        0.0883    10        0.0902        0.0883   698102    2.18%           rho_9 U 128432 128430     96\n",
      " 129916 50461        0.0895     9        0.0902        0.0883   707523    2.18%          rho_11 D 129916 129914     54\n",
      " 131371 50955        0.0884     7        0.0902        0.0883   718134    2.18%           rho_9 D 131371 131370     76\n",
      " 132886 51491        0.0893    11        0.0902        0.0883   727712    2.18%           rho_0 U 132886 132885     38\n",
      "Elapsed time = 45.61 sec. (69894.02 ticks, tree = 17.68 MB, solutions = 9)\n",
      " 134036 52288        cutoff              0.0902        0.0883   738879    2.18%           rho_9 U 134036  57226     77\n",
      " 135490 53160        0.0883     4        0.0902        0.0883   746295    2.18%           rho_9 U 135490 135488     68\n",
      " 136939 53860        0.0887    10        0.0902        0.0883   754423    2.18%           rho_9 U 136939  29298     29\n",
      " 138338 54596        0.0885    12        0.0902        0.0883   761460    2.18%           rho_9 D 138338 138336     22\n",
      " 139550 55269        0.0884     9        0.0902        0.0883   770110    2.18%           rho_9 D 139550 139549     55\n",
      " 140704 55940        0.0901     3        0.0902        0.0883   780193    2.18%          rho_15 D 140704 140703     66\n",
      " 142043 56604        0.0897     7        0.0902        0.0883   788026    2.18%          rho_11 D 142043 142042     27\n",
      " 143350 57217        0.0883     9        0.0902        0.0883   796224    2.18%           rho_9 U 143350 143348     81\n",
      " 144806 57971        0.0886    16        0.0902        0.0883   805737    2.18%           rho_9 U 144806 144804     63\n",
      " 146040 58589        cutoff              0.0902        0.0883   815057    2.18%           rho_0 U 146040 146039     58\n",
      "Elapsed time = 51.52 sec. (79436.33 ticks, tree = 19.85 MB, solutions = 9)\n",
      " 147813 59338        0.0883    10        0.0902        0.0883   825474    2.18%           rho_0 D 147813 147811     42\n",
      " 149539 60200        0.0883     1        0.0902        0.0883   836195    2.18%           rho_5 U 149539 149533     33\n",
      " 151541 61162        0.0889    10        0.0902        0.0883   846862    2.18%          rho_14 U 151541 151539     60\n",
      " 152833 62055        0.0896     7        0.0902        0.0883   856183    2.18%          rho_23 D 152833 152832     24\n",
      " 154028 62767        0.0892    15        0.0902        0.0883   863355    2.18%           rho_9 U 154028 154026     26\n",
      " 155276 63418        0.0883     8        0.0902        0.0883   871885    2.18%           rho_9 D 155276 155275     53\n",
      " 156552 64061        0.0883     9        0.0902        0.0883   881705    2.18%           rho_0 D 156552 156550     74\n",
      " 157797 64647        0.0894     6        0.0902        0.0883   891204    2.18%           rho_4 D 157797 157796    103\n",
      " 158703 65204        0.0883    10        0.0902        0.0883   902605    2.18%           rho_0 D 158703 158701     61\n",
      " 163705 68149        cutoff              0.0902        0.0883   939105    2.18%           rho_0 U 163705 163704     67\n",
      "Elapsed time = 59.78 sec. (91837.76 ticks, tree = 25.63 MB, solutions = 9)\n",
      " 168332 70980        cutoff              0.0902        0.0883   979186    2.18%           rho_9 U 168332 168331     55\n",
      " 173460 73155        0.0883     9        0.0902        0.0883  1016232    2.18%           rho_9 U 173460 173449     33\n",
      " 180311 76371        0.0883    13        0.0902        0.0883  1056229    2.18%           rho_9 D 180311 180310     20\n",
      " 185399 79240        0.0883    13        0.0902        0.0883  1092398    2.18%           rho_0 D 185399 185397     44\n",
      " 189891 82067        0.0883     9        0.0902        0.0883  1125905    2.18%           rho_9 U 189891 189889     64\n",
      " 195128 84645        0.0883     9        0.0902        0.0883  1156741    2.18%           rho_9 U 195128 195126     52\n",
      " 200434 87365        cutoff              0.0902        0.0883  1189582    2.18%           rho_4 U 200434 200432     80\n",
      " 206346 89360        cutoff              0.0902        0.0883  1220579    2.18%           rho_0 U 206346 206345     92\n",
      " 213196 91661        0.0902     5        0.0902        0.0883  1259523    2.18%          rho_11 D 213196 213194     80\n",
      " 220268 94724        0.0887    10        0.0902        0.0883  1298842    2.18%           rho_1 U 220268 219996     24\n",
      "Elapsed time = 79.59 sec. (129990.49 ticks, tree = 33.85 MB, solutions = 9)\n",
      " 225040 97811        0.0883    12        0.0902        0.0883  1334483    2.18%           rho_9 U 225040 225039     26\n",
      " 230599 99879        0.0883     7        0.0902        0.0883  1372939    2.18%           rho_9 U 230599 230597     50\n",
      " 235713 102499        cutoff              0.0902        0.0883  1414707    2.18%           rho_9 U 235713 235712     21\n",
      " 240134 105180        0.0883     3        0.0902        0.0883  1450990    2.18%           rho_9 U 240134 240132     70\n",
      " 245367 107720        0.0893     7        0.0902        0.0883  1487920    2.18%           rho_0 D 245367 245365     41\n",
      " 251919 110990        cutoff              0.0902        0.0883  1521953    2.18%          rho_10 U 251919 251918     70\n",
      " 256405 113806        0.0883     7        0.0902        0.0883  1559014    2.18%           rho_9 U 256405 256403     58\n",
      " 262604 116374        0.0890     8        0.0902        0.0883  1591373    2.18%          rho_20 D 262604 262603     68\n",
      " 268740 117929        0.0898     8        0.0902        0.0883  1633342    2.18%          rho_10 U 268740 264524     34\n",
      " 274318 120411        0.0883    10        0.0902        0.0883  1673325    2.18%           rho_9 D 274318 274317     85\n",
      "Elapsed time = 99.23 sec. (168142.67 ticks, tree = 41.81 MB, solutions = 9)\n",
      " 279276 123556        0.0889     8        0.0902        0.0883  1709374    2.18%           rho_0 U 279276 279275     19\n",
      " 283389 126076        0.0885    12        0.0902        0.0883  1746118    2.18%           rho_9 D 283389 283388     63\n",
      " 287813 128287        cutoff              0.0902        0.0883  1782278    2.18%           rho_0 U 287813 287812     53\n",
      " 293153 130785        0.0887    11        0.0902        0.0883  1820301    2.18%           rho_1 D 293153 293152     75\n",
      " 297904 133550        0.0894     7        0.0902        0.0883  1860400    2.18%           rho_2 D 297904 297903     82\n",
      " 304034 135859        0.0884    11        0.0902        0.0883  1902820    2.18%          rho_10 D 304034 304033     50\n",
      " 309280 138542        0.0883     7        0.0902        0.0883  1946524    2.18%           rho_9 U 309280 309278     50\n",
      " 314899 140897        0.0888     8        0.0902        0.0883  1984417    2.18%          rho_11 D 314899 314898     62\n",
      " 320120 143527        0.0887    15        0.0902        0.0883  2024689    2.18%          rho_14 D 320120 320119     25\n",
      " 324954 146014        0.0884    10        0.0902        0.0883  2058656    2.18%          rho_10 D 324954 324953     47\n",
      "Elapsed time = 118.64 sec. (206293.69 ticks, tree = 52.73 MB, solutions = 9)\n",
      " 330887 148663        0.0883    17        0.0902        0.0883  2101712    2.18%           rho_1 D 330887 330886     19\n",
      " 334702 151463        cutoff              0.0902        0.0883  2142881    2.18%          rho_23 U 334702 334700     94\n",
      " 338960 154064        0.0883    13        0.0902        0.0883  2182310    2.18%           rho_9 U 338960 338959     45\n",
      " 343835 156133        0.0883    10        0.0902        0.0883  2217481    2.18%           rho_9 U 343835 343833     49\n",
      " 350036 158700        cutoff              0.0902        0.0883  2258310    2.18%           rho_0 U 350036 350035     63\n",
      " 355220 161423        0.0897     6        0.0902        0.0883  2295979    2.18%           rho_0 U 355220 355219     65\n",
      " 361100 163811        0.0883    11        0.0902        0.0883  2331501    2.18%           rho_9 U 361100 361093     80\n",
      " 366690 166248        0.0891    11        0.0902        0.0883  2374098    2.18%          rho_16 U 366690 366689     63\n",
      " 372110 167754        cutoff              0.0902        0.0883  2412198    2.18%           rho_0 U 372110 372109     98\n",
      " 377735 169848        0.0883     7        0.0902        0.0883  2454589    2.18%           rho_9 U 377735 377640     70\n",
      "Elapsed time = 137.78 sec. (244448.69 ticks, tree = 61.85 MB, solutions = 9)\n",
      " 383699 170935        0.0883    11        0.0902        0.0883  2496839    2.18%           rho_0 D 383699 383697     56\n",
      " 389144 173223        0.0898     9        0.0902        0.0883  2534014    2.18%          rho_11 D 389144 389142     45\n",
      " 395556 176284        0.0883    12        0.0902        0.0883  2568461    2.18%           rho_9 U 395556 395516     83\n",
      " 400921 179113        0.0901     9        0.0902        0.0883  2604094    2.18%          rho_20 D 400921 400919     74\n",
      " 405937 180805        0.0902     3        0.0902        0.0883  2645370    2.18%          rho_23 U 405937 405935     76\n",
      " 410626 183547        0.0893    13        0.0902        0.0883  2687448    2.18%          rho_22 U 410626 410624     88\n",
      " 414750 186489        0.0883    10        0.0902        0.0883  2728846    2.18%           rho_0 D 414750 414748     77\n",
      " 419792 188865        0.0883    11        0.0902        0.0883  2760441    2.18%           rho_9 N 419792 419791     67\n",
      " 425667 190854        0.0883     9        0.0902        0.0883  2797786    2.18%           rho_9 U 425667 425665     39\n",
      " 430620 194176        0.0893     7        0.0902        0.0883  2832907    2.18%           rho_0 U 430620 430619     60\n",
      "Elapsed time = 156.83 sec. (282600.72 ticks, tree = 71.52 MB, solutions = 9)\n",
      " 436277 195895        0.0893    11        0.0902        0.0883  2867749    2.18%           rho_0 D 436277 436275     49\n",
      " 440910 198775        0.0885    12        0.0902        0.0883  2912930    2.18%           rho_9 D 440910 440909     58\n",
      " 446713 201208        0.0890     8        0.0902        0.0883  2952657    2.18%           rho_0 U 446713 446712     78\n",
      " 452913 203914        0.0883    10        0.0902        0.0883  2991395    2.18%           rho_0 D 452913 452911     66\n",
      " 457486 206818        0.0883     9        0.0902        0.0883  3024987    2.18%           rho_9 U 457486 457484     47\n",
      " 461597 209053        0.0883    13        0.0902        0.0883  3064219    2.18%           rho_9 D 461597 461596     64\n",
      " 465990 211500        0.0883    13        0.0902        0.0883  3100323    2.18%           rho_0 D 465990 465988     76\n",
      " 470446 213986        0.0883    12        0.0902        0.0883  3137348    2.18%           rho_0 D 470446 470444     69\n",
      " 474850 216569        0.0883    12        0.0902        0.0883  3173446    2.18%           rho_9 D 474850 474849     75\n",
      " 479151 219506        cutoff              0.0902        0.0883  3210482    2.18%          rho_20 U 479151 479150     49\n",
      "Elapsed time = 175.77 sec. (320754.39 ticks, tree = 79.52 MB, solutions = 9)\n",
      " 483927 221842        0.0883    12        0.0902        0.0883  3241323    2.18%           rho_9 U 483927 483925     59\n",
      " 488780 224001        0.0883    11        0.0902        0.0883  3285764    2.18%           rho_9 U 488780 488778     74\n",
      " 494025 226337        0.0886    13        0.0902        0.0883  3324373    2.18%          rho_22 N 494025 494024     95\n",
      " 499177 228288        0.0896     7        0.0902        0.0883  3360881    2.18%          rho_22 N 499177 499169     48\n",
      " 504280 230384        0.0887    12        0.0902        0.0883  3396133    2.18%          rho_14 D 504280 504279     54\n",
      " 508442 233064        0.0887     8        0.0902        0.0883  3436039    2.18%           rho_9 U 508442 508440     37\n",
      " 513503 235103        0.0883    11        0.0902        0.0883  3475077    2.18%           rho_0 D 513503 513501     43\n",
      " 517520 237643        0.0883    11        0.0902        0.0883  3511339    2.18%           rho_0 D 517520 517518     62\n",
      " 523061 239668        0.0883    12        0.0902        0.0883  3551043    2.18%           rho_0 D 523061 523059     40\n",
      " 528442 241874        0.0883    12        0.0902        0.0883  3587786    2.18%           rho_0 D 528442 528376     66\n",
      "Elapsed time = 195.34 sec. (358909.73 ticks, tree = 89.04 MB, solutions = 9)\n",
      " 533404 244194        cutoff              0.0902        0.0883  3627517    2.18%           rho_4 D 533404 533403     76\n",
      " 538013 246710        cutoff              0.0902        0.0883  3669128    2.18%          rho_20 U 538013 538011     29\n",
      "\n",
      "User cuts applied:  970\n",
      "\n",
      "Root node processing (before b&c):\n",
      "  Real time             =    0.08 sec. (1.24 ticks)\n",
      "Sequential b&c:\n",
      "  Real time             =  199.94 sec. (368066.86 ticks)\n",
      "                          ------------\n",
      "Total (root+branch&cut) =  200.02 sec. (368068.10 ticks)\n",
      "+----------------------------------------------+------------------+-----------+\n",
      "| Pr(Y = +1) = 1.0/(1.0 + exp(-(-6 + score))   |                  |           |\n",
      "| ============================================ | ================ | ========= |\n",
      "| p_violence>=1                                |         3 points |   + ..... |\n",
      "| p_arrest>=3                                  |         1 points |   + ..... |\n",
      "| p_felony>=1                                  |         1 points |   + ..... |\n",
      "| ============================================ | ================ | ========= |\n",
      "| ADD POINTS FROM ROWS 1 to 3                  |            SCORE |   = ..... |\n",
      "+----------------------------------------------+------------------+-----------+\n",
      "model_id, score_thresholds 0 {'rank_abs': [0]}\n",
      "get_disparity_predefined_group()\n"
     ]
    },
    {
     "name": "stderr",
     "output_type": "stream",
     "text": [
      "C:\\Users\\binha\\Documents\\Duke\\Cynthia Research\\psa-analysis - test2\\utils\\fairness_functions.py:82: RuntimeWarning:\n",
      "\n",
      "invalid value encountered in longlong_scalars\n",
      "\n",
      "C:\\Users\\binha\\Documents\\Duke\\Cynthia Research\\psa-analysis - test2\\utils\\fairness_functions.py:95: RuntimeWarning:\n",
      "\n",
      "divide by zero encountered in longlong_scalars\n",
      "\n",
      "C:\\Users\\binha\\Documents\\Duke\\Cynthia Research\\psa-analysis - test2\\utils\\fairness_functions.py:86: RuntimeWarning:\n",
      "\n",
      "invalid value encountered in longlong_scalars\n",
      "\n",
      "C:\\Users\\binha\\Documents\\Duke\\Cynthia Research\\psa-analysis - test2\\utils\\fairness_functions.py:95: RuntimeWarning:\n",
      "\n",
      "invalid value encountered in longlong_scalars\n",
      "\n"
     ]
    },
    {
     "name": "stdout",
     "output_type": "stream",
     "text": [
      "setting c0 = 0.0 to ensure that intercept is not penalized\n",
      "10/01/19 @ 05:02 PM | 1061 rows in lookup table\n",
      "10/01/19 @ 05:02 PM | ------------------------------------------------------------\n",
      "10/01/19 @ 05:02 PM | runnning initialization procedure\n",
      "10/01/19 @ 05:02 PM | ------------------------------------------------------------\n",
      "10/01/19 @ 05:02 PM | CPA produced 2 cuts\n",
      "10/01/19 @ 05:02 PM | running naive rounding on 79 solutions\n",
      "10/01/19 @ 05:02 PM | best objective value: 0.0915\n",
      "10/01/19 @ 05:02 PM | rounding produced 5 integer solutions\n",
      "10/01/19 @ 05:02 PM | best objective value is 0.0930\n",
      "10/01/19 @ 05:02 PM | running sequential rounding on 79 solutions\n",
      "10/01/19 @ 05:02 PM | best objective value: 0.0915\n",
      "10/01/19 @ 05:02 PM | sequential rounding produced 6 integer solutions\n",
      "10/01/19 @ 05:02 PM | best objective value: 0.0914\n",
      "10/01/19 @ 05:02 PM | polishing 11 solutions\n",
      "10/01/19 @ 05:02 PM | best objective value: 0.0914\n",
      "10/01/19 @ 05:02 PM | polishing produced 5 integer solutions\n",
      "10/01/19 @ 05:02 PM | initialization produced 11 feasible solutions\n",
      "10/01/19 @ 05:02 PM | best objective value: 0.0914\n",
      "10/01/19 @ 05:02 PM | ------------------------------------------------------------\n",
      "10/01/19 @ 05:02 PM | completed initialization procedure\n",
      "10/01/19 @ 05:02 PM | ------------------------------------------------------------\n",
      "10/01/19 @ 05:02 PM | 1061 rows in lookup table\n",
      "CPXPARAM_Read_DataCheck                          1\n",
      "CPXPARAM_Threads                                 1\n",
      "CPXPARAM_Parallel                                1\n",
      "CPXPARAM_RandomSeed                              0\n",
      "CPXPARAM_TimeLimit                               200\n",
      "CPXPARAM_MIP_Tolerances_LowerCutoff              0.088856507138114618\n",
      "CPXPARAM_MIP_Tolerances_UpperCutoff              0.091437939711166122\n"
     ]
    },
    {
     "name": "stderr",
     "output_type": "stream",
     "text": [
      "Warning: Control callbacks may disable some MIP features.\n"
     ]
    },
    {
     "name": "stdout",
     "output_type": "stream",
     "text": [
      "Lazy constraint(s) or lazy constraint callback is present.\n",
      "    Disabling dual reductions (CPX_PARAM_REDUCE) in presolve.\n",
      "    Disabling non-linear reductions (CPX_PARAM_PRELINEAR) in presolve.\n",
      "         Disabling repeat represolve because of lazy constraint/incumbent callback.\n",
      "10/01/19 @ 05:02 PM | adding 269 initial cuts\n",
      "1 of 1 MIP starts provided solutions.\n",
      "MIP start 'mip_start_0' defined initial solution with objective 0.0914.\n",
      "Tried aggregator 1 time.\n",
      "Reduced MIP has 26 rows, 52 columns, and 99 nonzeros.\n",
      "Reduced MIP has 24 binaries, 26 generals, 0 SOSs, and 0 indicators.\n",
      "Presolve time = 0.00 sec. (0.05 ticks)\n",
      "Probing time = 0.00 sec. (0.01 ticks)\n",
      "MIP emphasis: balance optimality and feasibility.\n",
      "MIP search method: traditional branch-and-cut.\n",
      "Parallel mode: none, using 1 thread.\n",
      "Root relaxation solution time = 0.02 sec. (0.03 ticks)\n",
      "\n",
      "        Nodes                                         Cuts/\n",
      "   Node  Left     Objective  IInf  Best Integer    Best Bound    ItCnt     Gap         Variable B NodeID Parent  Depth\n",
      "\n",
      "*     0+    0                            0.0914        0.0888             2.83%\n",
      "      0     0        0.0889     1        0.0914        0.0889        1    2.82%\n",
      "      0     2        0.0889     2        0.0914        0.0889        1    2.82%                        0             0\n",
      "Elapsed time = 0.11 sec. (1.30 ticks, tree = 0.01 MB, solutions = 1)\n",
      "*   120+   63                            0.0908        0.0889             2.17%\n",
      "   2459  1267        cutoff              0.0908        0.0889     8708    2.17%           rho_0 U   2459   2458     95\n",
      "   3925  1850        0.0892     9        0.0908        0.0889    15430    2.17%           rho_8 D   3925   3924     23\n",
      "   5168  2531        0.0895    10        0.0908        0.0889    23558    2.17%          rho_15 D   5168   5167     52\n",
      "   6366  3136        0.0889    14        0.0908        0.0889    31792    2.17%           rho_9 D   6366   5062     61\n",
      "   7539  3708        cutoff              0.0908        0.0889    39411    2.17%          rho_15 U   7539   7538     30\n",
      "   8648  4221        0.0895     7        0.0908        0.0889    45402    2.17%           rho_6 D   8648   8647     56\n",
      "   9790  4771        0.0892     8        0.0908        0.0889    50931    2.17%           rho_9 D   9790   9789     61\n",
      "  10940  5341        0.0889    13        0.0908        0.0889    55881    2.17%          rho_15 U  10940  10939     22\n",
      "  12054  5992        0.0889    13        0.0908        0.0889    62316    2.17%           rho_9 D  12054  12053     91\n",
      "  15810  7842        0.0889     1        0.0908        0.0889    89285    2.17%           rho_9 U  15810  15808     70\n",
      "Elapsed time = 3.73 sec. (3102.72 ticks, tree = 2.09 MB, solutions = 2)\n",
      "  19110  9612        0.0890    12        0.0908        0.0889   109583    2.17%           rho_9 D  19110  19109     61\n",
      "  22118 10870        cutoff              0.0908        0.0889   135677    2.17%          rho_21 U  22118  22117     32\n",
      "* 24254 12001      integral     0        0.0908        0.0889   148317    2.17%\n",
      "  25500 12670        0.0904    15        0.0908        0.0889   155253    2.17%           rho_0 D  25500  25499     58\n",
      "* 27000+13496                            0.0908        0.0889             2.17%\n",
      "  28082 14023        0.0889     4        0.0908        0.0889   175271    2.17%           rho_0 D  28082  28080     68\n",
      "  30550 15574        0.0905    10        0.0908        0.0889   192238    2.17%           rho_0 U  30550  30549     66\n",
      "  33001 16744        0.0889     6        0.0908        0.0889   209964    2.17%           rho_0 D  33001  32999     52\n",
      "  35303 18010        0.0889     4        0.0908        0.0889   229500    2.17%           rho_0 D  35303  35301     56\n",
      "  37705 19159        0.0897    16        0.0908        0.0889   247527    2.17%           rho_0 D  37705  37703     95\n",
      "  39930 20479        0.0894    12        0.0908        0.0889   262096    2.17%           rho_9 U  39930  39928     61\n",
      "  41910 21387        0.0890    16        0.0908        0.0889   280326    2.17%           rho_9 D  41910  41909     66\n",
      "Elapsed time = 11.02 sec. (12644.37 ticks, tree = 6.51 MB, solutions = 4)\n",
      "  44293 22497        0.0893     9        0.0908        0.0889   301538    2.17%          rho_14 D  44293  44292     75\n",
      "* 45000+22874                            0.0908        0.0889             2.16%\n",
      "  46623 23746        0.0889    10        0.0908        0.0889   319552    2.16%           rho_9 D  46623  46622     26\n",
      "  48687 24897        0.0901     8        0.0908        0.0889   336201    2.16%           rho_4 D  48687  48685     52\n",
      "  50462 25712        0.0889     5        0.0908        0.0889   354088    2.16%           rho_9 U  50462  50460     82\n",
      "  52420 26749        0.0905     1        0.0908        0.0889   368796    2.16%          rho_15 D  52420  52419     27\n",
      "  55242 27701        0.0893    12        0.0908        0.0889   383922    2.16%          rho_10 D  55242  55241     60\n",
      "  58230 28645        cutoff              0.0908        0.0889   398587    2.16%          rho_20 U  58230  58229     60\n",
      "  61146 29540        0.0892     6        0.0908        0.0889   413156    2.16%          rho_10 U  61146  61144     75\n",
      "  64072 30464        0.0905     7        0.0908        0.0889   427825    2.16%          rho_14 D  64072  64070     70\n",
      "  66737 31376        0.0891    11        0.0908        0.0889   441777    2.16%          rho_10 D  66737  66736     54\n",
      "Elapsed time = 17.00 sec. (22182.87 ticks, tree = 9.12 MB, solutions = 5)\n",
      "  69385 32297        0.0891    11        0.0908        0.0889   456009    2.16%          rho_10 D  69385  69384     32\n",
      "  72109 33042        cutoff              0.0908        0.0889   471121    2.16%           rho_0 U  72109  72108     47\n",
      "  74606 34155        0.0903    15        0.0908        0.0889   487046    2.16%           rho_9 U  74606  23473     58\n",
      "  77016 35404        0.0889    11        0.0908        0.0889   501883    2.16%           rho_0 U  77016  77015     44\n",
      "  79401 36598        0.0889     6        0.0908        0.0889   516987    2.16%           rho_9 U  79401  79399     71\n",
      "  81844 37788        0.0906     5        0.0908        0.0889   531085    2.16%          rho_16 U  81844  81843     25\n",
      "  83967 39053        0.0893    15        0.0908        0.0889   546303    2.16%          rho_23 D  83967  83966     54\n",
      "  85670 40388        0.0889     7        0.0908        0.0889   562715    2.16%           rho_0 D  85670  85668     45\n",
      "  87620 41540        0.0894     7        0.0908        0.0889   576295    2.16%          rho_16 D  87620  87619     91\n",
      "  89660 42412        0.0893     9        0.0908        0.0889   589182    2.16%          rho_15 U  89660  89659     68\n",
      "Elapsed time = 24.34 sec. (31722.19 ticks, tree = 13.44 MB, solutions = 5)\n",
      "  91906 43248        0.0907     7        0.0908        0.0889   604297    2.16%           rho_3 U  91906  91905     52\n",
      "  94291 44390        0.0889     7        0.0908        0.0889   621110    2.16%           rho_9 U  94291  94289     50\n",
      "  96068 45580        0.0894    18        0.0908        0.0889   638500    2.16%           rho_9 D  96068  96067     70\n",
      "  97750 46720        0.0904     8        0.0908        0.0889   653720    2.16%          rho_11 D  97750  97749     51\n",
      "* 99000+47146                            0.0908        0.0889             2.16%\n",
      "  99868 47393        0.0902     9        0.0908        0.0889   665142    2.16%          rho_10 D  99868  99867     73\n",
      " 102563 48173        0.0889     7        0.0908        0.0889   680602    2.16%          rho_15 D 102563  73044     57\n",
      " 105077 48857        0.0889     7        0.0908        0.0889   694602    2.16%           rho_0 D 105077 105075     45\n",
      " 107536 49541        0.0891    11        0.0908        0.0889   708526    2.16%          rho_12 D 107536 107535     84\n",
      " 110060 50234        0.0889     5        0.0908        0.0889   722972    2.16%           rho_5 U 110060 110058     48\n",
      " 112200 51669        0.0889     5        0.0908        0.0889   740916    2.16%           rho_9 U 112200 112198     51\n",
      "Elapsed time = 30.92 sec. (41264.43 ticks, tree = 15.93 MB, solutions = 6)\n",
      " 114373 52687        cutoff              0.0908        0.0889   757092    2.16%           rho_0 U 114373 114372     50\n",
      " 116829 53418        0.0889     4        0.0908        0.0889   770976    2.16%          rho_15 U 116829  72099     43\n",
      " 119158 54236        0.0894     6        0.0908        0.0889   785553    2.16%          rho_12 U 119158 119138     85\n",
      " 121553 55065        0.0894     6        0.0908        0.0889   799977    2.16%          rho_12 U 121553 121534     72\n",
      " 123945 56004        0.0902     9        0.0908        0.0889   814189    2.16%          rho_14 D 123945 123943     82\n",
      " 126130 57238        0.0891    11        0.0908        0.0889   828140    2.16%           rho_9 D 126130 126129     88\n",
      " 128120 58153        0.0890    16        0.0908        0.0889   841760    2.16%           rho_0 D 128120 128118     24\n",
      " 130375 59300        0.0898    10        0.0908        0.0889   855410    2.16%          rho_23 D 130375 130374     42\n",
      " 132782 60678        0.0895     9        0.0908        0.0889   868725    2.16%          rho_14 D 132782 132781     84\n",
      " 134992 62004        0.0889     2        0.0908        0.0889   881296    2.16%           rho_0 D 134992 134990     65\n",
      "Elapsed time = 37.63 sec. (50804.76 ticks, tree = 18.73 MB, solutions = 6)\n",
      " 137033 63149        0.0891    12        0.0908        0.0889   894771    2.16%          rho_15 D 137033 137032     32\n",
      " 138915 64000        0.0903     6        0.0908        0.0889   907168    2.16%          rho_14 D 138915 138912     88\n",
      " 140930 64997        0.0889     7        0.0908        0.0889   919120    2.16%           rho_9 D 140930 140929     86\n",
      " 142826 66023        0.0889     7        0.0908        0.0889   931636    2.16%           rho_9 D 142826 142825     44\n",
      " 144680 66982        0.0898    15        0.0908        0.0889   944049    2.16%           rho_6 D 144680 144679     54\n",
      " 146793 67928        0.0902     7        0.0908        0.0889   957230    2.16%          rho_20 D 146793 146792     72\n",
      " 149279 68988        0.0897     7        0.0908        0.0889   971958    2.16%           rho_6 D 149279 149278     58\n",
      " 151772 70059        0.0898     7        0.0908        0.0889   987157    2.16%           rho_6 D 151772 151771     61\n",
      " 154161 71115        0.0891    13        0.0908        0.0889  1003960    2.16%           rho_6 D 154161 154160     84\n",
      " 156410 72209        0.0892     9        0.0908        0.0889  1020464    2.16%          rho_15 D 156410 156409     55\n",
      "Elapsed time = 42.98 sec. (60345.84 ticks, tree = 24.28 MB, solutions = 6)\n",
      " 158177 73269        cutoff              0.0908        0.0889  1034425    2.16%           rho_0 U 158177 158176     55\n",
      " 159864 74264        0.0891    10        0.0908        0.0889  1047276    2.16%           rho_8 U 159864 111735     45\n",
      " 161474 75229        0.0894    14        0.0908        0.0889  1060652    2.16%           rho_9 D 161474 161473     78\n",
      " 163114 76311        0.0889     7        0.0908        0.0889  1073417    2.16%           rho_9 U 163114 163112     76\n",
      " 164669 77186        0.0889     8        0.0908        0.0889  1087915    2.16%           rho_6 D 164669 164655     17\n",
      " 166460 78157        0.0907     7        0.0908        0.0889  1100693    2.16%          rho_11 D 166460 166459     51\n",
      " 168293 78909        0.0902     8        0.0908        0.0889  1111637    2.16%           rho_6 D 168293 168291     17\n",
      " 170055 79815        0.0908     5        0.0908        0.0889  1125061    2.16%          rho_11 D 170055 170053     43\n",
      " 171690 80694        0.0893    12        0.0908        0.0889  1139369    2.16%           rho_2 U 171690 171689     93\n",
      " 173577 81726        0.0889     7        0.0908        0.0889  1151025    2.16%           rho_0 D 173577 173575     76\n",
      "Elapsed time = 49.28 sec. (69887.70 ticks, tree = 26.86 MB, solutions = 6)\n",
      " 175165 82919        0.0889    15        0.0908        0.0889  1164689    2.16%           rho_9 D 175165 175164     56\n",
      " 176736 83901        0.0889     7        0.0908        0.0889  1178871    2.16%           rho_9 U 176736 176734     48\n",
      " 178215 85023        0.0889     3        0.0908        0.0889  1193915    2.16%           rho_9 U 178215 178213     45\n",
      " 179822 85653        cutoff              0.0908        0.0889  1208560    2.16%           rho_0 U 179822 179821     70\n",
      " 181412 86619        0.0893    15        0.0908        0.0889  1223139    2.16%          rho_10 U 181412 181215     16\n",
      " 183001 87355        cutoff              0.0908        0.0889  1236107    2.16%           rho_0 U 183001 183000     50\n",
      " 184601 88102        0.0889    15        0.0908        0.0889  1248534    2.16%          rho_17 D 184601 184600     24\n",
      " 186278 88974        0.0897     5        0.0908        0.0889  1260327    2.16%          rho_23 D 186278 186277     97\n",
      " 188662 89821        0.0896     7        0.0908        0.0889  1273247    2.16%           rho_6 U 188662 188661     60\n",
      " 191182 90714        0.0891    13        0.0908        0.0889  1287071    2.16%           rho_2 D 191182 191181     67\n",
      "Elapsed time = 54.84 sec. (79428.85 ticks, tree = 29.33 MB, solutions = 6)\n",
      " 193695 91615        0.0905     7        0.0908        0.0889  1300846    2.16%           rho_3 D 193695 193694     70\n",
      " 196146 92587        0.0890    16        0.0908        0.0889  1314650    2.16%           rho_9 U 196146 196144     66\n",
      " 198357 93696        0.0892    21        0.0908        0.0889  1329120    2.16%           rho_6 D 198357  81203     56\n",
      " 200445 94851        0.0889     7        0.0908        0.0889  1343896    2.16%           rho_9 U 200445 200443     73\n",
      " 202077 95878        0.0892    20        0.0908        0.0889  1360915    2.16%           rho_6 D 202077  77877     91\n",
      " 204199 96591        0.0907     5        0.0908        0.0889  1372060    2.16%          rho_14 D 204199 204197     51\n",
      " 206616 97455        0.0895    12        0.0908        0.0889  1385166    2.16%           rho_6 D 206616 206615     54\n",
      " 208541 98519        0.0904    12        0.0908        0.0889  1400225    2.16%           rho_0 D 208541 208539    101\n",
      " 210312 99220        0.0889    10        0.0908        0.0889  1414917    2.16%           rho_7 D 210312 210310     67\n",
      " 217446 103309        0.0893     7        0.0908        0.0889  1460641    2.16%           rho_0 U 217446 217445     92\n",
      "Elapsed time = 62.16 sec. (91831.00 ticks, tree = 32.82 MB, solutions = 6)\n",
      " 226375 107292        cutoff              0.0908        0.0889  1509371    2.16%           rho_0 D 226375 226373     90\n",
      " 233189 111255        0.0905     6        0.0908        0.0889  1557895    2.16%           rho_5 U 233189 233187     63\n",
      " 239711 114445        0.0889    10        0.0908        0.0889  1611042    2.16%           rho_9 D 239711 239710     50\n",
      " 246970 117264        0.0889    15        0.0908        0.0889  1660855    2.16%           rho_3 D 246970 231430     68\n",
      " 256119 121240        0.0904     6        0.0908        0.0889  1709371    2.16%          rho_11 D 256119 256117     81\n",
      " 263283 125699        cutoff              0.0908        0.0889  1756657    2.16%           rho_0 U 263283 263282     67\n",
      " 268980 129115        0.0906    15        0.0908        0.0889  1811107    2.16%          rho_17 D 268980 268979     48\n",
      " 274479 132337        0.0895     9        0.0908        0.0889  1865405    2.16%           rho_0 U 274479 274478     68\n",
      " 280216 135357        cutoff              0.0908        0.0889  1915924    2.16%           rho_4 U 280216 280215     33\n",
      " 286936 138547        0.0890    16        0.0908        0.0889  1971159    2.16%           rho_9 U 286936 286934     83\n",
      "Elapsed time = 83.22 sec. (129980.41 ticks, tree = 45.63 MB, solutions = 6)\n",
      " 296129 141578        0.0902    10        0.0908        0.0889  2023275    2.16%           rho_0 D 296129 296128     98\n",
      " 303227 144739        cutoff              0.0908        0.0889  2077445    2.16%          rho_14 U 303227 303225     76\n",
      " 310387 148200        0.0898    13        0.0908        0.0889  2131264    2.16%          rho_23 D 310387 310386     54\n",
      " 317151 151301        0.0889     7        0.0908        0.0889  2184836    2.16%           rho_0 D 317151 317149     56\n",
      " 323637 154902        0.0889     6        0.0908        0.0889  2238739    2.16%           rho_9 U 323637 323635     84\n",
      " 329437 158208        0.0895     8        0.0908        0.0889  2287845    2.16%          rho_22 D 329437 329436     41\n",
      " 334718 161834        0.0889     7        0.0908        0.0889  2339545    2.16%           rho_9 U 334718 334716     36\n",
      " 340270 165191        0.0889     9        0.0908        0.0889  2388441    2.16%           rho_0 D 340270 340268     76\n",
      " 346160 168362        0.0889     7        0.0908        0.0889  2430971    2.16%           rho_9 U 346160 346158     59\n",
      " 353993 170765        0.0897    16        0.0908        0.0889  2485238    2.16%          rho_12 U 353993 239480     22\n",
      "Elapsed time = 103.63 sec. (168132.26 ticks, tree = 56.51 MB, solutions = 6)\n",
      " 361229 174588        0.0892    15        0.0908        0.0889  2544153    2.16%          rho_10 D 361229 208372     90\n",
      " 368598 178048        0.0899     8        0.0908        0.0889  2589722    2.16%           rho_0 U 368598 368597     52\n",
      " 375505 181337        cutoff              0.0908        0.0889  2643857    2.16%          rho_22 U 375505 375503     66\n",
      " 382612 184638        cutoff              0.0908        0.0889  2697964    2.16%           rho_2 U 382612 382611     62\n",
      " 388730 187938        0.0899    12        0.0908        0.0889  2749822    2.16%          rho_20 D 388730 388729     69\n",
      " 393711 190676        cutoff              0.0908        0.0889  2796546    2.16%          rho_22 U 393711 393710     32\n",
      " 399574 193562        0.0907     7        0.0908        0.0889  2843452    2.16%          rho_20 U 399574 399573     73\n",
      " 405720 196748        0.0903    12        0.0908        0.0889  2887184    2.16%          rho_20 D 405720 405719     74\n",
      " 412151 199930        0.0905     7        0.0908        0.0889  2933674    2.16%          rho_11 D 412151 412149     48\n",
      " 417925 203641        0.0889    12        0.0908        0.0889  2976593    2.16%           rho_9 D 417925 417924     45\n",
      "Elapsed time = 124.14 sec. (206283.54 ticks, tree = 68.04 MB, solutions = 6)\n",
      " 423639 206476        0.0889     9        0.0908        0.0889  3018709    2.16%           rho_9 U 423639 423637     32\n",
      " 430382 209641        0.0889     8        0.0908        0.0889  3072668    2.16%          rho_17 D 430382 276776     62\n",
      " 437949 212928        0.0901    11        0.0908        0.0889  3122479    2.16%          rho_23 D 437949 437948     66\n",
      " 444360 216329        0.0889     9        0.0908        0.0889  3168522    2.16%           rho_9 U 444360 444345     62\n",
      " 450793 219215        0.0893    16        0.0908        0.0889  3215992    2.16%          rho_23 D 450793 232927     40\n",
      " 456738 221061        0.0894    15        0.0908        0.0889  3265440    2.16%           rho_2 D 456738 456737     65\n",
      " 462070 224892        0.0902    11        0.0908        0.0889  3316204    2.16%           rho_0 U 462070 462069     89\n",
      " 467460 228077        0.0906     4        0.0908        0.0889  3361179    2.16%          rho_15 D 467460 467459     67\n",
      " 473646 231321        0.0889    11        0.0908        0.0889  3398733    2.16%           rho_0 D 473646 473644     41\n",
      " 479480 234428        0.0907    13        0.0908        0.0889  3443294    2.16%          rho_22 D 479480 479479     33\n",
      "Elapsed time = 144.02 sec. (244436.89 ticks, tree = 79.38 MB, solutions = 6)\n",
      " 485729 237127        0.0904     5        0.0908        0.0889  3491974    2.16%           rho_0 U 485729 485728     52\n",
      " 491559 240255        cutoff              0.0908        0.0889  3545868    2.16%          rho_11 U 491559 491558     95\n",
      " 498283 243124        cutoff              0.0908        0.0889  3593794    2.16%          rho_11 D 498283 498281     64\n",
      " 504084 246222        cutoff              0.0908        0.0889  3644054    2.16%          rho_17 U 504084 504083     58\n",
      " 510310 249193        0.0900     9        0.0908        0.0889  3691807    2.16%          rho_20 D 510310 510309     59\n",
      " 516774 251900        cutoff              0.0908        0.0889  3737170    2.16%          rho_14 D 516774 516773     67\n",
      " 522293 255490        0.0902    12        0.0908        0.0889  3787056    2.16%          rho_20 D 522293 522292     46\n",
      " 528461 258141        cutoff              0.0908        0.0889  3834309    2.16%           rho_4 U 528461 528460     61\n",
      " 534858 260795        cutoff              0.0908        0.0889  3885251    2.16%           rho_0 U 534858 534857     39\n",
      " 541522 263048        0.0894    11        0.0908        0.0889  3925056    2.16%           rho_4 D 541522 541521     70\n",
      "Elapsed time = 163.61 sec. (282585.93 ticks, tree = 87.85 MB, solutions = 6)\n",
      " 547947 265602        0.0906     8        0.0908        0.0889  3965076    2.16%           rho_0 U 547947 547946     32\n",
      " 553885 267495        0.0901    16        0.0908        0.0889  4009345    2.16%           rho_0 D 553885 553883     80\n",
      " 560033 270601        0.0889    11        0.0908        0.0889  4059199    2.16%           rho_0 D 560033 560031     48\n",
      " 565590 274114        0.0889    16        0.0908        0.0889  4101215    2.16%          rho_17 D 565590 237572     61\n",
      " 570760 277531        0.0892    16        0.0908        0.0889  4146440    2.16%          rho_15 U 570760 570759     35\n",
      " 575830 280131        0.0893     9        0.0908        0.0889  4189932    2.16%          rho_17 U 575830 457073     35\n",
      " 581886 282523        0.0896    10        0.0908        0.0889  4242843    2.16%          rho_15 D 581886 581885     53\n",
      " 588121 284765        0.0902     7        0.0908        0.0889  4287720    2.16%          rho_14 D 588121 588120     76\n",
      " 594060 287245        0.0895    15        0.0908        0.0889  4332902    2.16%          rho_23 D 594060 594059     61\n",
      " 599960 290063        0.0893    11        0.0908        0.0889  4377831    2.16%           rho_9 U 599960 599958     64\n",
      "Elapsed time = 186.33 sec. (320739.21 ticks, tree = 98.77 MB, solutions = 6)\n",
      " 605830 293098        0.0889    11        0.0908        0.0889  4423631    2.16%           rho_0 D 605830 605814     22\n",
      " 611595 295625        0.0891    18        0.0908        0.0889  4470213    2.16%           rho_9 D 611595 611594     76\n",
      " 617682 298233        0.0905     7        0.0908        0.0889  4513806    2.16%           rho_2 D 617682 617681     73\n",
      " 624123 300844        0.0889    17        0.0908        0.0889  4552683    2.16%          rho_17 U 624123 227626     25\n",
      " 629978 303482        0.0904     8        0.0908        0.0889  4600285    2.16%           rho_3 D 629978 629976     70\n",
      " 635280 306145        0.0889    14        0.0908        0.0889  4647603    2.16%           rho_0 U 635280 635279     81\n",
      "\n",
      "User cuts applied:  807\n",
      "\n",
      "Root node processing (before b&c):\n",
      "  Real time             =    0.11 sec. (1.36 ticks)\n",
      "Sequential b&c:\n",
      "  Real time             =  199.91 sec. (346860.34 ticks)\n",
      "                          ------------\n",
      "Total (root+branch&cut) =  200.02 sec. (346861.70 ticks)\n",
      "+----------------------------------------------+------------------+-----------+\n",
      "| Pr(Y = +1) = 1.0/(1.0 + exp(-(-6 + score))   |                  |           |\n",
      "| ============================================ | ================ | ========= |\n",
      "| p_violence>=1                                |         3 points |   + ..... |\n",
      "| p_arrest>=3                                  |         1 points |   + ..... |\n",
      "| p_felony>=1                                  |         1 points |   + ..... |\n",
      "| ============================================ | ================ | ========= |\n",
      "| ADD POINTS FROM ROWS 1 to 3                  |            SCORE |   = ..... |\n",
      "+----------------------------------------------+------------------+-----------+\n",
      "model_id, score_thresholds 0 {'rank_abs': [0]}\n",
      "get_disparity_predefined_group()\n"
     ]
    },
    {
     "name": "stderr",
     "output_type": "stream",
     "text": [
      "C:\\Users\\binha\\Documents\\Duke\\Cynthia Research\\psa-analysis - test2\\utils\\fairness_functions.py:82: RuntimeWarning:\n",
      "\n",
      "invalid value encountered in longlong_scalars\n",
      "\n",
      "C:\\Users\\binha\\Documents\\Duke\\Cynthia Research\\psa-analysis - test2\\utils\\fairness_functions.py:95: RuntimeWarning:\n",
      "\n",
      "divide by zero encountered in longlong_scalars\n",
      "\n",
      "C:\\Users\\binha\\Documents\\Duke\\Cynthia Research\\psa-analysis - test2\\utils\\fairness_functions.py:86: RuntimeWarning:\n",
      "\n",
      "invalid value encountered in longlong_scalars\n",
      "\n",
      "C:\\Users\\binha\\Documents\\Duke\\Cynthia Research\\psa-analysis - test2\\utils\\fairness_functions.py:95: RuntimeWarning:\n",
      "\n",
      "invalid value encountered in longlong_scalars\n",
      "\n"
     ]
    },
    {
     "name": "stdout",
     "output_type": "stream",
     "text": [
      "setting c0 = 0.0 to ensure that intercept is not penalized\n",
      "10/01/19 @ 05:06 PM | 1061 rows in lookup table\n",
      "10/01/19 @ 05:06 PM | ------------------------------------------------------------\n",
      "10/01/19 @ 05:06 PM | runnning initialization procedure\n",
      "10/01/19 @ 05:06 PM | ------------------------------------------------------------\n",
      "10/01/19 @ 05:06 PM | CPA produced 2 cuts\n",
      "10/01/19 @ 05:06 PM | running naive rounding on 72 solutions\n",
      "10/01/19 @ 05:06 PM | best objective value: 0.0891\n",
      "10/01/19 @ 05:06 PM | rounding produced 5 integer solutions\n",
      "10/01/19 @ 05:06 PM | best objective value is 0.0926\n",
      "10/01/19 @ 05:06 PM | running sequential rounding on 72 solutions\n",
      "10/01/19 @ 05:06 PM | best objective value: 0.0891\n",
      "10/01/19 @ 05:06 PM | sequential rounding produced 6 integer solutions\n",
      "10/01/19 @ 05:06 PM | best objective value: 0.0907\n",
      "10/01/19 @ 05:06 PM | polishing 11 solutions\n",
      "10/01/19 @ 05:06 PM | best objective value: 0.0907\n",
      "10/01/19 @ 05:06 PM | polishing produced 5 integer solutions\n",
      "10/01/19 @ 05:06 PM | initialization produced 12 feasible solutions\n",
      "10/01/19 @ 05:06 PM | best objective value: 0.0907\n",
      "10/01/19 @ 05:06 PM | ------------------------------------------------------------\n",
      "10/01/19 @ 05:06 PM | completed initialization procedure\n",
      "10/01/19 @ 05:06 PM | ------------------------------------------------------------\n",
      "10/01/19 @ 05:06 PM | 1061 rows in lookup table\n",
      "CPXPARAM_Read_DataCheck                          1\n",
      "CPXPARAM_Threads                                 1\n",
      "CPXPARAM_Parallel                                1\n",
      "CPXPARAM_RandomSeed                              0\n",
      "CPXPARAM_TimeLimit                               200\n",
      "CPXPARAM_MIP_Tolerances_LowerCutoff              0.087648111571617851\n",
      "CPXPARAM_MIP_Tolerances_UpperCutoff              0.090652422062345694\n"
     ]
    },
    {
     "name": "stderr",
     "output_type": "stream",
     "text": [
      "Warning: Control callbacks may disable some MIP features.\n"
     ]
    },
    {
     "name": "stdout",
     "output_type": "stream",
     "text": [
      "Lazy constraint(s) or lazy constraint callback is present.\n",
      "    Disabling dual reductions (CPX_PARAM_REDUCE) in presolve.\n",
      "    Disabling non-linear reductions (CPX_PARAM_PRELINEAR) in presolve.\n",
      "         Disabling repeat represolve because of lazy constraint/incumbent callback.\n",
      "10/01/19 @ 05:06 PM | adding 249 initial cuts\n",
      "1 of 1 MIP starts provided solutions.\n",
      "MIP start 'mip_start_0' defined initial solution with objective 0.0907.\n",
      "Tried aggregator 1 time.\n",
      "Reduced MIP has 26 rows, 52 columns, and 99 nonzeros.\n",
      "Reduced MIP has 24 binaries, 26 generals, 0 SOSs, and 0 indicators.\n",
      "Presolve time = 0.00 sec. (0.05 ticks)\n",
      "Probing time = 0.00 sec. (0.01 ticks)\n",
      "MIP emphasis: balance optimality and feasibility.\n",
      "MIP search method: traditional branch-and-cut.\n",
      "Parallel mode: none, using 1 thread.\n",
      "Root relaxation solution time = 0.00 sec. (0.03 ticks)\n",
      "\n",
      "        Nodes                                         Cuts/\n",
      "   Node  Left     Objective  IInf  Best Integer    Best Bound    ItCnt     Gap         Variable B NodeID Parent  Depth\n",
      "\n",
      "*     0+    0                            0.0907        0.0876             3.33%\n",
      "      0     0        0.0876     1        0.0907        0.0876        1    3.31%\n",
      "      0     2        0.0876     2        0.0907        0.0876        1    3.31%                        0             0\n",
      "Elapsed time = 0.08 sec. (1.29 ticks, tree = 0.01 MB, solutions = 1)\n",
      "*  1410+  507                            0.0896        0.0876             2.17%\n",
      "   2082   751        0.0882     9        0.0896        0.0876     8039    2.17%           rho_0 U   2082   2081     25\n",
      "   3170  1192        0.0895     7        0.0896        0.0876    13629    2.17%          rho_23 U   3170   3168     23\n",
      "   4310  1751        0.0884     7        0.0896        0.0876    18405    2.17%          rho_14 D   4310   4308    101\n",
      "   5384  2295        cutoff              0.0896        0.0876    23281    2.17%          rho_11 U   5384   5382     64\n",
      "   6514  2947        0.0896    11        0.0896        0.0876    28025    2.17%           rho_2 U   6514   6512     71\n",
      "   7520  3405        0.0876     6        0.0896        0.0876    33276    2.17%           rho_1 U   7520   5981     55\n",
      "   8519  3875        0.0876     6        0.0896        0.0876    38413    2.17%           rho_1 U   8519   8077     55\n",
      "   9542  4470        0.0880     9        0.0896        0.0876    43056    2.17%           rho_0 D   9542   9540     66\n",
      "  10692  5047        0.0895     3        0.0896        0.0876    48988    2.17%          rho_16 D  10692  10691     76\n",
      "  15390  7185        0.0884    11        0.0896        0.0876    72631    2.17%          rho_23 D  15390  15389     60\n",
      "Elapsed time = 3.23 sec. (3104.88 ticks, tree = 1.93 MB, solutions = 2)\n",
      "  19070  8239        0.0876     1        0.0896        0.0876    98362    2.17%           rho_0 D  19070  19068     61\n",
      "  22929 10025        0.0883     9        0.0896        0.0876   122543    2.17%          rho_14 D  22929  22927     97\n",
      "  26100 11490        0.0882    13        0.0896        0.0876   142367    2.17%           rho_0 D  26100  26098     48\n",
      "  29075 13257        0.0876    10        0.0896        0.0876   157332    2.17%           rho_5 U  29075  29073     49\n",
      "  31350 14569        0.0876     4        0.0896        0.0876   172319    2.17%           rho_0 D  31350  31292     59\n",
      "  33561 15727        cutoff              0.0896        0.0876   187506    2.17%          rho_10 U  33561  33559     96\n",
      "  35953 16842        0.0881     6        0.0896        0.0876   202316    2.17%          rho_12 N  35953  35952     75\n",
      "  38040 17925        0.0887    15        0.0896        0.0876   216065    2.17%           rho_6 D  38040  38039     62\n",
      "  40235 18789        0.0886     9        0.0896        0.0876   231584    2.17%           rho_0 N  40235  40233     40\n",
      "  43041 20051        0.0876     1        0.0896        0.0876   248784    2.17%           rho_0 D  43041  43039     58\n",
      "Elapsed time = 10.31 sec. (12644.17 ticks, tree = 6.06 MB, solutions = 2)\n",
      "  45289 21598        cutoff              0.0896        0.0876   266327    2.17%           rho_0 U  45289  45288     41\n",
      "  47815 22610        0.0880    16        0.0896        0.0876   282483    2.17%           rho_0 D  47815  47813     48\n",
      "  50300 23775        0.0877    14        0.0896        0.0876   299851    2.17%          rho_12 U  50300  50299     79\n",
      "  52737 24752        0.0879    13        0.0896        0.0876   315012    2.17%          rho_12 N  52737  52736     51\n",
      "  55110 25776        0.0876    16        0.0896        0.0876   330388    2.17%           rho_9 D  55110  55109     36\n",
      "  57347 26981        0.0876     8        0.0896        0.0876   346436    2.17%           rho_9 D  57347  57346     64\n",
      "  59191 28271        0.0877    14        0.0896        0.0876   360120    2.17%          rho_22 D  59191  59190     37\n",
      "  61107 29133        0.0885     7        0.0896        0.0876   372627    2.17%          rho_14 D  61107  61106     23\n",
      "  63081 30061        0.0895     9        0.0896        0.0876   383547    2.17%           rho_2 U  63081  63079     70\n",
      "  65493 30971        0.0890    11        0.0896        0.0876   397392    2.17%          rho_22 D  65493  65491     18\n",
      "Elapsed time = 17.61 sec. (22185.22 ticks, tree = 8.87 MB, solutions = 2)\n",
      "  67808 31984        0.0893     6        0.0896        0.0876   411049    2.17%          rho_20 D  67808  67807     82\n",
      "  70194 32862        0.0894     9        0.0896        0.0876   423677    2.17%          rho_23 U  70194  70171     38\n",
      "  72696 33822        cutoff              0.0896        0.0876   436679    2.17%           rho_2 D  72696  72693     83\n",
      "  75158 34821        0.0894     5        0.0896        0.0876   449433    2.17%           rho_2 D  75158  75157     69\n",
      "  77295 35964        0.0881     9        0.0896        0.0876   463294    2.17%          rho_23 D  77295  77294     32\n",
      "  79204 36939        0.0888    11        0.0896        0.0876   477658    2.17%           rho_7 D  79204  79203     50\n",
      "  81285 37756        cutoff              0.0896        0.0876   491559    2.17%          rho_11 D  81285  81284     37\n",
      "  83393 38667        0.0876    11        0.0896        0.0876   504931    2.17%           rho_0 D  83393  83391     52\n",
      "  85592 39742        0.0877     9        0.0896        0.0876   517600    2.17%           rho_0 U  85592  85591     58\n",
      "  87761 40519        0.0884    10        0.0896        0.0876   529636    2.17%          rho_23 D  87761  87760     46\n",
      "Elapsed time = 24.09 sec. (31723.44 ticks, tree = 12.82 MB, solutions = 2)\n",
      "  89892 41331        0.0877     9        0.0896        0.0876   541986    2.17%           rho_0 U  89892  89891     76\n",
      "  92025 42215        0.0886     9        0.0896        0.0876   553993    2.17%           rho_9 D  92025  92023     81\n",
      "  94132 43165        0.0885     9        0.0896        0.0876   566422    2.17%          rho_14 D  94132  94130     41\n",
      "  96290 44011        0.0885     8        0.0896        0.0876   578483    2.17%          rho_21 D  96290  96289     68\n",
      "  98392 44760        0.0894     7        0.0896        0.0876   589952    2.17%          rho_17 D  98392  98390     69\n",
      "* 99460+45279                            0.0896        0.0876             2.17%\n",
      " 100274 45950        0.0876     9        0.0896        0.0876   603138    2.17%           rho_9 D 100274 100273     84\n",
      " 101950 47275        0.0890    12        0.0896        0.0876   616106    2.17%           rho_2 D 101950 101949     25\n",
      " 103710 48079        0.0876     8        0.0896        0.0876   627474    2.17%           rho_0 D 103710 103708     39\n",
      " 105478 48985        0.0877     8        0.0896        0.0876   638282    2.17%           rho_0 U 105478 105477     60\n",
      " 107122 50062        0.0876     8        0.0896        0.0876   650079    2.17%           rho_0 D 107122 107120     58\n",
      "Elapsed time = 29.97 sec. (41265.25 ticks, tree = 15.40 MB, solutions = 3)\n",
      " 108763 51095        0.0881    16        0.0896        0.0876   661604    2.17%          rho_23 D 108763 108762     29\n",
      " 110273 52108        0.0879     9        0.0896        0.0876   673577    2.17%           rho_0 U 110273 110272     92\n",
      " 112242 53219        cutoff              0.0896        0.0876   684484    2.17%          rho_15 D 112242 112241     63\n",
      " 113984 54137        0.0876     5        0.0896        0.0876   695610    2.17%           rho_9 U 113984 113982     22\n",
      " 115666 54948        0.0881    18        0.0896        0.0876   706479    2.17%           rho_5 U 115666 115664     21\n",
      " 117412 55878        0.0892     7        0.0896        0.0876   717292    2.17%          rho_20 U 117412 117411     41\n",
      " 119103 56850        0.0893     5        0.0896        0.0876   729179    2.17%           rho_4 U 119103 119102    101\n",
      " 120797 57831        cutoff              0.0896        0.0876   740826    2.17%           rho_4 U 120797 120795     72\n",
      " 122470 58802        0.0879    10        0.0896        0.0876   752270    2.17%          rho_17 D 122470 122324     81\n",
      " 124153 59771        cutoff              0.0896        0.0876   763446    2.17%           rho_4 U 124153 124151     64\n",
      "Elapsed time = 35.73 sec. (50805.44 ticks, tree = 18.05 MB, solutions = 3)\n",
      " 125839 60623        cutoff              0.0896        0.0876   775047    2.17%           rho_0 U 125839 125838     30\n",
      " 127507 61406        0.0876    14        0.0896        0.0876   784744    2.17%           rho_9 D 127507 127506     18\n",
      " 129389 62123        cutoff              0.0896        0.0876   794067    2.17%          rho_10 U 129389 129388     52\n",
      " 131688 62854        0.0876     9        0.0896        0.0876   804146    2.17%           rho_0 D 131688 131619     83\n",
      " 133930 63654        0.0876     5        0.0896        0.0876   815535    2.17%           rho_9 U 133930 133794     32\n",
      " 135689 64407        0.0876     7        0.0896        0.0876   832422    2.17%           rho_9 U 135689 135687     76\n",
      " 137722 65291        cutoff              0.0896        0.0876   846711    2.17%          rho_23 D 137722 137720     57\n",
      " 139804 66286        cutoff              0.0896        0.0876   860389    2.17%           rho_0 D 139804 139802     67\n",
      " 141814 67182        0.0885    13        0.0896        0.0876   873558    2.17%          rho_23 U 141814  57942     73\n",
      " 143807 68155        0.0884     7        0.0896        0.0876   887242    2.17%          rho_21 D 143807 143806     45\n",
      "Elapsed time = 41.50 sec. (60347.29 ticks, tree = 23.19 MB, solutions = 3)\n",
      " 145763 69191        cutoff              0.0896        0.0876   900431    2.17%           rho_3 U 145763 145762     54\n",
      " 147570 70116        0.0876    12        0.0896        0.0876   913007    2.17%          rho_17 D 147570 107482     54\n",
      " 149189 70993        cutoff              0.0896        0.0876   924017    2.17%          rho_21 U 149189 149188     64\n",
      " 150659 71872        0.0878    11        0.0896        0.0876   935089    2.17%          rho_14 D 150659 150658     66\n",
      " 152171 72644        0.0879    13        0.0896        0.0876   945514    2.17%          rho_17 U 152171 105952     70\n",
      " 153653 73438        0.0895     5        0.0896        0.0876   955440    2.17%          rho_21 D 153653 153651     30\n",
      " 155298 74342        0.0877    12        0.0896        0.0876   965621    2.17%           rho_9 D 155298 155297     48\n",
      " 157040 75099        cutoff              0.0896        0.0876   975395    2.17%          rho_11 U 157040 157039     42\n",
      " 159044 75857        0.0889     9        0.0896        0.0876   987981    2.17%          rho_14 D 159044 159042     22\n",
      " 161035 76907        0.0882    16        0.0896        0.0876  1002362    2.17%          rho_10 D 161035 161034     82\n",
      "Elapsed time = 47.13 sec. (69886.38 ticks, tree = 25.65 MB, solutions = 3)\n",
      " 162889 77827        cutoff              0.0896        0.0876  1016473    2.17%          rho_11 U 162889 162888     63\n",
      " 164695 78707        0.0893     9        0.0896        0.0876  1029932    2.17%           rho_2 D 164695 164694     69\n",
      " 166445 79635        0.0876    11        0.0896        0.0876  1042149    2.17%          rho_10 D 166445 166444     66\n",
      " 168284 80491        0.0876     7        0.0896        0.0876  1055366    2.17%           rho_9 U 168284 168282     90\n",
      " 170153 81393        0.0879    12        0.0896        0.0876  1066949    2.17%           rho_5 D 170153 170152     18\n",
      " 171837 82264        0.0876     5        0.0896        0.0876  1078240    2.17%           rho_9 U 171837 171835     49\n",
      " 173614 82902        0.0887    10        0.0896        0.0876  1090336    2.17%           rho_3 D 173614 173613     50\n",
      " 175457 83563        0.0884    12        0.0896        0.0876  1102377    2.17%          rho_17 U 175457  41932     58\n",
      " 177192 84353        0.0879    10        0.0896        0.0876  1114959    2.17%          rho_17 U 177192  82320     26\n",
      " 179265 85361        0.0878    13        0.0896        0.0876  1127234    2.17%           rho_8 U 179265  21293     58\n",
      "Elapsed time = 53.27 sec. (79427.40 ticks, tree = 28.05 MB, solutions = 3)\n",
      " 181202 86184        cutoff              0.0896        0.0876  1139887    2.17%           rho_0 U 181202 181201     57\n",
      " 182960 86770        0.0876     8        0.0896        0.0876  1152112    2.17%           rho_0 D 182960 182958     60\n",
      " 184730 87364        0.0876     8        0.0896        0.0876  1164313    2.17%           rho_0 D 184730 184728     60\n",
      " 186512 87964        cutoff              0.0896        0.0876  1176476    2.17%           rho_0 U 186512 186511     75\n",
      " 188252 88696        0.0890     6        0.0896        0.0876  1188850    2.17%          rho_14 D 188252 188250     57\n",
      " 190094 89554        cutoff              0.0896        0.0876  1201797    2.17%          rho_23 U 190094 190092     34\n",
      " 192056 90410        0.0888     8        0.0896        0.0876  1214452    2.17%          rho_17 U 192056 192053     46\n",
      " 193986 91161        cutoff              0.0896        0.0876  1226384    2.17%          rho_14 U 193986 193984     59\n",
      " 195788 92152        0.0886     9        0.0896        0.0876  1240143    2.17%           rho_3 D 195788 195787     86\n",
      " 204695 96557        0.0884    11        0.0896        0.0876  1286978    2.17%          rho_23 D 204695 204693     58\n",
      "Elapsed time = 59.88 sec. (91828.06 ticks, tree = 31.25 MB, solutions = 3)\n",
      " 212079 99861        cutoff              0.0896        0.0876  1333861    2.17%           rho_6 U 212079 212078     73\n",
      " 219419 103132        0.0890     7        0.0896        0.0876  1382348    2.17%           rho_3 U 219419 219418     52\n",
      " 227582 106079        0.0895     7        0.0896        0.0876  1430075    2.17%          rho_21 U 227582 227581     70\n",
      " 235032 108432        0.0895     5        0.0896        0.0876  1474948    2.17%          rho_15 N 235032 235031     62\n",
      " 242540 111447        0.0876     6        0.0896        0.0876  1518261    2.17%           rho_9 U 242540 242532     61\n",
      " 248962 114998        0.0884    17        0.0896        0.0876  1564179    2.17%          rho_22 D 248962 248961     33\n",
      " 255362 117599        0.0890    13        0.0896        0.0876  1611785    2.17%           rho_1 U 255362 249633     79\n",
      " 261760 119712        0.0893     7        0.0896        0.0876  1662608    2.17%          rho_22 D 261760 261759     23\n",
      " 268153 122933        0.0876     9        0.0896        0.0876  1713110    2.17%           rho_0 D 268153 268151     68\n",
      " 274096 125288        0.0888     6        0.0896        0.0876  1762047    2.17%          rho_23 U 274096  13552     51\n",
      "Elapsed time = 80.58 sec. (129978.24 ticks, tree = 39.53 MB, solutions = 3)\n",
      " 280859 128177        cutoff              0.0896        0.0876  1804763    2.17%           rho_6 U 280859 280858     56\n",
      " 287514 131384        0.0877    15        0.0896        0.0876  1851850    2.17%           rho_1 D 287514 287513     30\n",
      " 293131 134399        0.0879    13        0.0896        0.0876  1895482    2.17%          rho_22 N 293131 292895     39\n",
      " 299814 137246        0.0880    19        0.0896        0.0876  1943595    2.17%          rho_22 U 299814 197447     44\n",
      " 306908 139909        cutoff              0.0896        0.0876  1990183    2.17%           rho_7 U 306908 306907     43\n",
      " 313670 143780        0.0891    17        0.0896        0.0876  2035001    2.17%           rho_9 D 313670 313669     76\n",
      " 319698 146865        cutoff              0.0896        0.0876  2074854    2.17%          rho_24 U 319698 317990     59\n",
      " 325769 149786        cutoff              0.0896        0.0876  2117810    2.17%           rho_4 U 325769 325767     40\n",
      " 333307 152648        cutoff              0.0896        0.0876  2166354    2.17%          rho_14 U 333307 333306     52\n",
      " 340260 155935        0.0876    11        0.0896        0.0876  2217206    2.17%          rho_22 D 340260 340063     59\n",
      "Elapsed time = 102.41 sec. (168131.60 ticks, tree = 51.29 MB, solutions = 3)\n",
      " 346390 159110        0.0884    10        0.0896        0.0876  2262346    2.17%          rho_10 D 346390 346387     46\n",
      " 352349 162108        0.0882     9        0.0896        0.0876  2305328    2.17%           rho_4 D 352349 352348     64\n",
      " 358858 165362        0.0891     9        0.0896        0.0876  2346649    2.17%          rho_20 D 358858 358857     51\n",
      " 366236 168878        0.0879    10        0.0896        0.0876  2395969    2.17%          rho_22 N 366236 292980     35\n",
      " 372620 171717        0.0896     3        0.0896        0.0876  2444112    2.17%          rho_21 D 372620 372619     59\n",
      " 378956 174684        0.0877    17        0.0896        0.0876  2491064    2.17%           rho_2 N 378956 378955     24\n",
      "*380000+175092                            0.0896        0.0876             2.16%\n",
      " 385810 176866        0.0885    14        0.0896        0.0876  2533390    2.16%          rho_17 U 385810 167287     98\n",
      " 391930 179402        cutoff              0.0896        0.0876  2582970    2.16%          rho_13 U 391930 391927     84\n",
      " 398335 182165        0.0893     9        0.0896        0.0876  2629704    2.16%           rho_0 U 398335 398334     30\n",
      " 403723 184035        0.0881    11        0.0896        0.0876  2677576    2.16%           rho_0 N 403723 403722     44\n",
      "Elapsed time = 122.38 sec. (206283.48 ticks, tree = 61.28 MB, solutions = 4)\n",
      " 409942 186446        cutoff              0.0896        0.0876  2722666    2.16%          rho_23 D 409942 409941     77\n",
      " 416343 189295        0.0890     9        0.0896        0.0876  2766023    2.16%          rho_21 U 416343 416342     39\n",
      " 422367 192111        cutoff              0.0896        0.0876  2809812    2.16%          rho_14 D 422367 422366     82\n",
      " 428634 194058        0.0880    12        0.0896        0.0876  2853663    2.16%          rho_23 D 428634 428633     76\n",
      " 435520 197749        0.0889     8        0.0896        0.0876  2896190    2.16%          rho_21 U 435520 435519     62\n",
      " 441552 199272        0.0878    23        0.0896        0.0876  2939784    2.16%           rho_9 N 441552 441551     17\n",
      " 447180 201630        0.0882     9        0.0896        0.0876  2984998    2.16%          rho_17 D 447180 447179     42\n",
      " 453643 204751        cutoff              0.0896        0.0876  3031109    2.16%          rho_23 D 453643 453642     84\n",
      " 459340 206096        0.0888    11        0.0896        0.0876  3077511    2.16%          rho_10 D 459340 459339     70\n",
      " 465155 207707        cutoff              0.0896        0.0876  3120903    2.16%          rho_11 U 465155 465154     34\n",
      "Elapsed time = 148.30 sec. (244433.53 ticks, tree = 70.23 MB, solutions = 4)\n",
      " 471418 210654        0.0892     7        0.0896        0.0876  3168247    2.16%          rho_23 D 471418 471417     54\n",
      " 477073 213121        0.0876    10        0.0896        0.0876  3216422    2.16%           rho_0 D 477073 477071     30\n",
      " 482739 216248        0.0892     9        0.0896        0.0876  3263408    2.16%           rho_3 U 482739 482738     26\n",
      " 487474 219166        0.0881    13        0.0896        0.0876  3306282    2.16%           rho_2 D 487474 487472     21\n",
      " 492848 221792        0.0885    13        0.0896        0.0876  3350353    2.16%          rho_22 D 492848 492847     34\n",
      " 498161 224722        0.0895     3        0.0896        0.0876  3400319    2.16%          rho_16 U 498161 498160     36\n",
      " 503479 227214        0.0889    10        0.0896        0.0876  3441081    2.16%          rho_20 D 503479 503478     48\n",
      " 510729 230230        0.0877     9        0.0896        0.0876  3486155    2.16%           rho_0 N 510729 510728     44\n",
      " 517490 233199        0.0886    12        0.0896        0.0876  3527206    2.16%           rho_6 D 517490 517488     72\n",
      " 523849 235932        0.0884    15        0.0896        0.0876  3570155    2.16%           rho_1 D 523849 523848     53\n",
      "Elapsed time = 176.23 sec. (282584.61 ticks, tree = 80.84 MB, solutions = 4)\n",
      " 529959 237753        0.0884     9        0.0896        0.0876  3617621    2.16%           rho_0 U 529959 529958     70\n",
      " 535929 239279        0.0890     8        0.0896        0.0876  3666043    2.16%          rho_22 D 535929 535928     49\n",
      " 542043 241756        0.0882    13        0.0896        0.0876  3706432    2.16%          rho_10 D 542043 542041     68\n",
      " 547626 244787        0.0896     7        0.0896        0.0876  3750317    2.16%          rho_20 D 547626 547624     50\n",
      " 552598 247683        0.0876    10        0.0896        0.0876  3791415    2.16%           rho_0 D 552598 552596     82\n",
      " 557736 250709        0.0887     9        0.0896        0.0876  3833550    2.16%           rho_4 U 557736 351543     52\n",
      " 564681 253080        cutoff              0.0896        0.0876  3875156    2.16%          rho_16 U 564681 564680     71\n",
      " 571282 255205        0.0892    10        0.0896        0.0876  3913762    2.16%          rho_14 D 571282 571281     71\n",
      " 577495 257589        0.0890     9        0.0896        0.0876  3956470    2.16%          rho_14 D 577495 577493     82\n",
      " 583163 259963        0.0878    12        0.0896        0.0876  4003879    2.16%           rho_1 U 583163 321706     41\n",
      "Elapsed time = 196.53 sec. (320735.29 ticks, tree = 87.86 MB, solutions = 4)\n",
      " 588453 261742        0.0887    14        0.0896        0.0876  4048421    2.16%           rho_0 U 588453 588452     79\n",
      "\n",
      "User cuts applied:  806\n",
      "\n",
      "Root node processing (before b&c):\n",
      "  Real time             =    0.08 sec. (1.36 ticks)\n",
      "Sequential b&c:\n",
      "  Real time             =  199.94 sec. (327377.94 ticks)\n",
      "                          ------------\n",
      "Total (root+branch&cut) =  200.02 sec. (327379.30 ticks)\n",
      "+-----------------------------------------------+------------------+-----------+\n",
      "| Pr(Y = +1) = 1.0/(1.0 + exp(-(-12 + score))   |                  |           |\n",
      "| ============================================= | ================ | ========= |\n",
      "| p_arrest>=1                                   |         4 points |   + ..... |\n",
      "| p_violence>=1                                 |         3 points |   + ..... |\n",
      "| p_charges>=1                                  |         2 points |   + ..... |\n",
      "| p_arrest>=3                                   |         1 points |   + ..... |\n",
      "| p_felony>=1                                   |         1 points |   + ..... |\n",
      "| ============================================= | ================ | ========= |\n",
      "| ADD POINTS FROM ROWS 1 to 5                   |            SCORE |   = ..... |\n",
      "+-----------------------------------------------+------------------+-----------+\n",
      "model_id, score_thresholds 0 {'rank_abs': [0]}\n",
      "get_disparity_predefined_group()\n"
     ]
    },
    {
     "name": "stderr",
     "output_type": "stream",
     "text": [
      "C:\\Users\\binha\\Documents\\Duke\\Cynthia Research\\psa-analysis - test2\\utils\\fairness_functions.py:82: RuntimeWarning:\n",
      "\n",
      "invalid value encountered in longlong_scalars\n",
      "\n",
      "C:\\Users\\binha\\Documents\\Duke\\Cynthia Research\\psa-analysis - test2\\utils\\fairness_functions.py:95: RuntimeWarning:\n",
      "\n",
      "divide by zero encountered in longlong_scalars\n",
      "\n",
      "C:\\Users\\binha\\Documents\\Duke\\Cynthia Research\\psa-analysis - test2\\utils\\fairness_functions.py:86: RuntimeWarning:\n",
      "\n",
      "invalid value encountered in longlong_scalars\n",
      "\n",
      "C:\\Users\\binha\\Documents\\Duke\\Cynthia Research\\psa-analysis - test2\\utils\\fairness_functions.py:95: RuntimeWarning:\n",
      "\n",
      "invalid value encountered in longlong_scalars\n",
      "\n"
     ]
    },
    {
     "name": "stdout",
     "output_type": "stream",
     "text": [
      "setting c0 = 0.0 to ensure that intercept is not penalized\n",
      "10/01/19 @ 05:09 PM | 1061 rows in lookup table\n",
      "10/01/19 @ 05:09 PM | ------------------------------------------------------------\n",
      "10/01/19 @ 05:09 PM | runnning initialization procedure\n",
      "10/01/19 @ 05:09 PM | ------------------------------------------------------------\n",
      "10/01/19 @ 05:09 PM | CPA produced 2 cuts\n",
      "10/01/19 @ 05:09 PM | running naive rounding on 70 solutions\n",
      "10/01/19 @ 05:09 PM | best objective value: 0.0901\n",
      "10/01/19 @ 05:09 PM | rounding produced 5 integer solutions\n",
      "10/01/19 @ 05:09 PM | best objective value is 0.0914\n",
      "10/01/19 @ 05:09 PM | running sequential rounding on 70 solutions\n",
      "10/01/19 @ 05:09 PM | best objective value: 0.0901\n",
      "10/01/19 @ 05:09 PM | sequential rounding produced 6 integer solutions\n",
      "10/01/19 @ 05:09 PM | best objective value: 0.0911\n",
      "10/01/19 @ 05:09 PM | polishing 11 solutions\n",
      "10/01/19 @ 05:09 PM | best objective value: 0.0911\n",
      "10/01/19 @ 05:09 PM | polishing produced 4 integer solutions\n",
      "10/01/19 @ 05:09 PM | initialization produced 12 feasible solutions\n",
      "10/01/19 @ 05:09 PM | best objective value: 0.0906\n",
      "10/01/19 @ 05:09 PM | ------------------------------------------------------------\n",
      "10/01/19 @ 05:09 PM | completed initialization procedure\n",
      "10/01/19 @ 05:09 PM | ------------------------------------------------------------\n",
      "10/01/19 @ 05:09 PM | 1061 rows in lookup table\n",
      "CPXPARAM_Read_DataCheck                          1\n",
      "CPXPARAM_Threads                                 1\n",
      "CPXPARAM_Parallel                                1\n",
      "CPXPARAM_RandomSeed                              0\n",
      "CPXPARAM_TimeLimit                               200\n",
      "CPXPARAM_MIP_Tolerances_LowerCutoff              0.087350153096655184\n",
      "CPXPARAM_MIP_Tolerances_UpperCutoff              0.090623139402574729\n"
     ]
    },
    {
     "name": "stderr",
     "output_type": "stream",
     "text": [
      "Warning: Control callbacks may disable some MIP features.\n"
     ]
    },
    {
     "name": "stdout",
     "output_type": "stream",
     "text": [
      "Lazy constraint(s) or lazy constraint callback is present.\n",
      "    Disabling dual reductions (CPX_PARAM_REDUCE) in presolve.\n",
      "    Disabling non-linear reductions (CPX_PARAM_PRELINEAR) in presolve.\n",
      "         Disabling repeat represolve because of lazy constraint/incumbent callback.\n",
      "10/01/19 @ 05:09 PM | adding 249 initial cuts\n",
      "1 of 1 MIP starts provided solutions.\n",
      "MIP start 'mip_start_0' defined initial solution with objective 0.0906.\n",
      "Tried aggregator 1 time.\n",
      "Reduced MIP has 26 rows, 52 columns, and 99 nonzeros.\n",
      "Reduced MIP has 24 binaries, 26 generals, 0 SOSs, and 0 indicators.\n",
      "Presolve time = 0.00 sec. (0.05 ticks)\n",
      "Probing time = 0.00 sec. (0.01 ticks)\n",
      "MIP emphasis: balance optimality and feasibility.\n",
      "MIP search method: traditional branch-and-cut.\n",
      "Parallel mode: none, using 1 thread.\n",
      "Root relaxation solution time = 0.00 sec. (0.03 ticks)\n",
      "\n",
      "        Nodes                                         Cuts/\n",
      "   Node  Left     Objective  IInf  Best Integer    Best Bound    ItCnt     Gap         Variable B NodeID Parent  Depth\n",
      "\n",
      "*     0+    0                            0.0906        0.0873             3.62%\n",
      "      0     0        0.0874     1        0.0906        0.0874        1    3.61%\n",
      "      0     2        0.0874     2        0.0906        0.0874        1    3.61%                        0             0\n",
      "Elapsed time = 0.09 sec. (1.30 ticks, tree = 0.01 MB, solutions = 1)\n",
      "*  1150+  583                            0.0898        0.0874             2.77%\n",
      "*  1720+  869                            0.0898        0.0874             2.68%\n",
      "   1730   876        0.0897     0        0.0898        0.0874     6698    2.68%          rho_19 D   1730   1728     32\n",
      "*  2500+ 1115                            0.0893        0.0874             2.16%\n",
      "   2626  1182        0.0887     6        0.0893        0.0874    12096    2.16%           rho_9 D   2626   2625     47\n",
      "   3567  1556        0.0891     2        0.0893        0.0874    16489    2.16%           rho_3 D   3567   3566     25\n",
      "*  3835  1691      integral     0        0.0893        0.0874    18039    2.16%\n",
      "   4320  1910        0.0874    15        0.0893        0.0874    20966    2.16%           rho_4 U   4320   2501      8\n",
      "   5106  2203        0.0874    12        0.0893        0.0874    25310    2.16%           rho_8 U   5106   1620     17\n",
      "   5830  2507        0.0875    15        0.0893        0.0874    29308    2.16%          rho_15 U   5830   5829     19\n",
      "   6632  2850        0.0876    14        0.0893        0.0874    33023    2.16%           rho_9 D   6632   6631     75\n",
      "   7360  3216        0.0874     1        0.0893        0.0874    37367    2.16%           rho_9 U   7360   7358     85\n",
      "   8093  3592        0.0879    15        0.0893        0.0874    41802    2.16%          rho_17 D   8093   8092     70\n",
      "  11238  5102        cutoff              0.0893        0.0874    59148    2.16%          rho_21 U  11238  11237     26\n",
      "Elapsed time = 3.55 sec. (3105.87 ticks, tree = 1.54 MB, solutions = 5)\n",
      "  13746  6258        0.0877    15        0.0893        0.0874    79584    2.16%           rho_9 D  13746  13745     33\n",
      "  16150  7322        0.0874     1        0.0893        0.0874   103246    2.16%           rho_9 U  16150  16148     74\n",
      "  18370  8244        0.0874     7        0.0893        0.0874   122885    2.16%           rho_9 U  18370  18368     60\n",
      "  20586  9280        0.0888     3        0.0893        0.0874   143521    2.16%           rho_3 N  20586  20585     61\n",
      "  23160 10399        0.0874    14        0.0893        0.0874   159502    2.16%           rho_9 D  23160  23159     56\n",
      "  25163 11651        0.0881    10        0.0893        0.0874   178333    2.16%          rho_17 D  25163  25162     16\n",
      "  27103 12614        0.0874     6        0.0893        0.0874   194886    2.16%           rho_9 U  27103  27101     51\n",
      "  29028 13636        0.0874     6        0.0893        0.0874   212593    2.16%           rho_9 U  29028  29004     35\n",
      "  31010 14599        0.0892     5        0.0893        0.0874   227015    2.16%           rho_2 D  31010  31008     42\n",
      "  33150 15649        0.0874     1        0.0893        0.0874   242415    2.16%           rho_5 U  33150  33148     46\n",
      "Elapsed time = 10.53 sec. (12647.05 ticks, tree = 4.60 MB, solutions = 5)\n",
      "  35200 16697        0.0880    12        0.0893        0.0874   255601    2.16%           rho_9 D  35200  35199     30\n",
      "  37187 17560        0.0874     6        0.0893        0.0874   276087    2.16%           rho_0 D  37187  37185     91\n",
      "  39527 18647        0.0884     9        0.0893        0.0874   292873    2.16%          rho_23 U  39527  25767     40\n",
      "  41618 19907        cutoff              0.0893        0.0874   307655    2.16%           rho_0 U  41618  41617     30\n",
      "  43270 20919        0.0883    13        0.0893        0.0874   322508    2.16%           rho_9 D  43270  43269     68\n",
      "  44977 21713        0.0874     8        0.0893        0.0874   335880    2.16%           rho_0 D  44977  44975     20\n",
      "  46735 22592        0.0878     9        0.0893        0.0874   346775    2.16%           rho_0 U  46735  46734     31\n",
      "  48782 23430        cutoff              0.0893        0.0874   361119    2.16%          rho_20 U  48782  48780     86\n",
      "  50786 24300        0.0874     7        0.0893        0.0874   375989    2.16%           rho_0 D  50786  50784     34\n",
      "* 52000+24821                            0.0893        0.0874             2.16%\n",
      "  52590 25077        0.0874    12        0.0893        0.0874   391162    2.16%           rho_2 D  52590  52589     60\n",
      "Elapsed time = 17.06 sec. (22189.74 ticks, tree = 7.81 MB, solutions = 6)\n",
      "  54712 26083        0.0888     5        0.0893        0.0874   404324    2.16%          rho_19 D  54712  54710     46\n",
      "  56943 27427        0.0874    11        0.0893        0.0874   416133    2.16%           rho_2 D  56943  56942     55\n",
      "  58915 28619        0.0882    11        0.0893        0.0874   426464    2.16%          rho_15 N  58915  58913     69\n",
      "  60833 29767        cutoff              0.0893        0.0874   436663    2.16%          rho_15 U  60833  60832     64\n",
      "  62769 30923        0.0874     6        0.0893        0.0874   446886    2.16%           rho_9 U  62769  62672     58\n",
      "  64697 32075        0.0883     8        0.0893        0.0874   456982    2.16%           rho_6 D  64697  64696     48\n",
      "  66454 32933        0.0878    11        0.0893        0.0874   467569    2.16%          rho_15 D  66454  66453     48\n",
      "  68156 33689        0.0887     7        0.0893        0.0874   478618    2.16%          rho_15 D  68156  68155     73\n",
      "  69718 34460        0.0874     6        0.0893        0.0874   492025    2.16%           rho_0 D  69718  69716     49\n",
      "  71351 35317        0.0878    12        0.0893        0.0874   505906    2.16%          rho_16 U  71351  71350     59\n",
      "Elapsed time = 22.36 sec. (31728.36 ticks, tree = 11.99 MB, solutions = 6)\n",
      "  73020 36113        0.0890    15        0.0893        0.0874   518950    2.16%          rho_24 U  73020  73018     16\n",
      "  75148 37121        cutoff              0.0893        0.0874   534028    2.16%          rho_24 U  75148  74904     38\n",
      "  77238 38131        cutoff              0.0893        0.0874   549276    2.16%           rho_0 U  77238  77237     56\n",
      "  79226 39020        0.0884    17        0.0893        0.0874   565125    2.16%           rho_9 U  79226  79224     54\n",
      "  80830 40224        0.0874     7        0.0893        0.0874   579644    2.16%           rho_0 D  80830  80828     69\n",
      "  82403 41338        0.0874     8        0.0893        0.0874   592429    2.16%          rho_16 U  82403  82402     45\n",
      "  84073 42152        0.0879    18        0.0893        0.0874   603774    2.16%          rho_23 D  84073  83526     25\n",
      "  85664 43136        0.0879    16        0.0893        0.0874   615125    2.16%           rho_0 D  85664  85662     52\n",
      "  87470 44046        0.0874    16        0.0893        0.0874   625725    2.16%          rho_17 D  87470  87469     66\n",
      "  89301 44902        0.0876    11        0.0893        0.0874   635716    2.16%          rho_23 D  89301  89300     49\n",
      "Elapsed time = 28.39 sec. (41270.94 ticks, tree = 14.63 MB, solutions = 6)\n",
      "  91022 45772        0.0874     6        0.0893        0.0874   646560    2.16%           rho_9 U  91022  91020     82\n",
      "  92782 46625        0.0891     7        0.0893        0.0874   657688    2.16%           rho_8 D  92782  92781     69\n",
      "  94529 47485        cutoff              0.0893        0.0874   670381    2.16%           rho_0 U  94529  94528     47\n",
      "  96000 48254        0.0874     8        0.0893        0.0874   683371    2.16%           rho_9 U  96000  95998     52\n",
      "  97570 49009        0.0880    11        0.0893        0.0874   696993    2.16%           rho_9 D  97570  97569     35\n",
      "  99320 49899        0.0882    12        0.0893        0.0874   710036    2.16%          rho_21 D  99320  99319     39\n",
      " 100957 50777        0.0874     8        0.0893        0.0874   721903    2.16%           rho_0 D 100957 100955     69\n",
      " 102732 51640        0.0874    11        0.0893        0.0874   733202    2.16%          rho_15 D 102732 102731     63\n",
      " 104800 52594        0.0874    10        0.0893        0.0874   746728    2.16%          rho_17 D 104800  73626     67\n",
      " 106738 53688        0.0874     6        0.0893        0.0874   758804    2.16%           rho_9 U 106738 106736     51\n",
      "Elapsed time = 33.91 sec. (50814.20 ticks, tree = 17.07 MB, solutions = 6)\n",
      " 108522 54734        0.0890     7        0.0893        0.0874   769687    2.16%          rho_20 D 108522 108521     59\n",
      " 110222 55537        0.0882    10        0.0893        0.0874   781212    2.16%           rho_4 D 110222 110221     52\n",
      " 111903 56404        0.0887     7        0.0893        0.0874   793011    2.16%           rho_2 U 111903 111900     46\n",
      " 113907 57200        0.0884     8        0.0893        0.0874   803795    2.16%          rho_12 U 113907 113905     62\n",
      " 116136 58085        0.0877    15        0.0893        0.0874   815332    2.16%           rho_2 U 116136 116134     13\n",
      " 118027 58788        0.0886    13        0.0893        0.0874   828731    2.16%          rho_10 D 118027 118026     30\n",
      " 119829 59384        0.0874    13        0.0893        0.0874   841319    2.16%           rho_0 D 119829 119827     11\n",
      " 121754 60179        cutoff              0.0893        0.0874   854005    2.16%           rho_0 U 121754 121753     43\n",
      " 123455 60909        0.0874    10        0.0893        0.0874   869154    2.16%           rho_9 U 123455 123453     68\n",
      " 125002 61658        0.0874    11        0.0893        0.0874   887288    2.16%           rho_9 D 125002 125001     75\n",
      "Elapsed time = 39.69 sec. (60353.16 ticks, tree = 19.30 MB, solutions = 6)\n",
      " 126713 62672        0.0874    10        0.0893        0.0874   903906    2.16%           rho_0 D 126713 126711     44\n",
      " 128162 63639        0.0874    10        0.0893        0.0874   916327    2.16%           rho_9 U 128162 128160     55\n",
      " 129664 64475        0.0877     8        0.0893        0.0874   926886    2.16%          rho_21 D 129664 129663     98\n",
      " 131300 65192        0.0878     9        0.0893        0.0874   935222    2.16%           rho_6 D 131300 131299     75\n",
      " 133222 66078        0.0877     8        0.0893        0.0874   944546    2.16%          rho_21 D 133222 133221     64\n",
      " 135324 67030        0.0891     9        0.0893        0.0874   955684    2.16%          rho_23 U 135324 105557     52\n",
      " 137365 67990        0.0874     9        0.0893        0.0874   967670    2.16%           rho_0 D 137365 137363     30\n",
      " 139070 68956        0.0874     9        0.0893        0.0874   981646    2.16%           rho_0 D 139070 139068     56\n",
      " 140545 69768        0.0892     7        0.0893        0.0874   992446    2.16%          rho_16 U 140545 140544     52\n",
      " 142111 70490        0.0874     7        0.0893        0.0874  1003997    2.16%           rho_9 U 142111 142109     49\n",
      "Elapsed time = 44.88 sec. (69893.01 ticks, tree = 24.63 MB, solutions = 6)\n",
      " 143910 71450        0.0882     7        0.0893        0.0874  1017794    2.16%          rho_15 U 143910 143909     37\n",
      " 145404 72295        0.0882     7        0.0893        0.0874  1028389    2.16%          rho_15 U 145404 145403     63\n",
      " 146969 73126        0.0883     6        0.0893        0.0874  1038829    2.16%           rho_2 U 146969 146968     89\n",
      " 148522 73942        cutoff              0.0893        0.0874  1049190    2.16%          rho_16 U 148522 148520     87\n",
      " 150070 74770        0.0889     7        0.0893        0.0874  1059604    2.16%           rho_2 D 150070 150069     72\n",
      " 151601 75596        0.0892    13        0.0893        0.0874  1069964    2.16%          rho_13 U 151601 151599     54\n",
      " 153071 76412        0.0880     9        0.0893        0.0874  1079820    2.16%          rho_17 D 153071 153070     30\n",
      " 154550 77299        0.0874     9        0.0893        0.0874  1091454    2.16%           rho_7 D 154550 154549     32\n",
      " 156223 78378        cutoff              0.0893        0.0874  1102870    2.16%          rho_11 U 156223 156222    102\n",
      " 157826 79010        cutoff              0.0893        0.0874  1111478    2.16%          rho_16 U 157826 157825     60\n",
      "Elapsed time = 49.91 sec. (79432.77 ticks, tree = 27.04 MB, solutions = 6)\n",
      " 159670 79720        0.0887     6        0.0893        0.0874  1121299    2.16%           rho_7 U 159670 154948     66\n",
      " 161669 80491        0.0880    11        0.0893        0.0874  1131940    2.16%          rho_17 U 161669 161668     49\n",
      " 163664 81254        0.0880     7        0.0893        0.0874  1142859    2.16%          rho_10 D 163664 163662     96\n",
      " 165399 81956        0.0886    11        0.0893        0.0874  1158499    2.16%          rho_12 U 165399 165397     87\n",
      " 167228 82780        cutoff              0.0893        0.0874  1172533    2.16%          rho_11 D 167228 167227     27\n",
      " 168884 83562        cutoff              0.0893        0.0874  1185655    2.16%           rho_0 U 168884 168883     92\n",
      " 170597 84416        0.0889    10        0.0893        0.0874  1198743    2.16%           rho_0 U 170597 170596     19\n",
      " 172309 85319        0.0874    12        0.0893        0.0874  1211036    2.16%           rho_9 D 172309 172308     52\n",
      " 173940 86174        0.0884     7        0.0893        0.0874  1224872    2.16%          rho_14 D 173940 173938     84\n",
      " 180276 89182        cutoff              0.0893        0.0874  1277175    2.16%          rho_10 U 180276 180275     48\n",
      "Elapsed time = 56.78 sec. (91834.63 ticks, tree = 29.98 MB, solutions = 6)\n",
      "*180741 89397      integral     0        0.0893        0.0874  1280386    2.16%\n",
      " 185951 92524        0.0889    13        0.0893        0.0874  1324913    2.16%          rho_24 D 185951 185949     57\n",
      " 191798 95588        0.0878    14        0.0893        0.0874  1368277    2.16%          rho_21 D 191798 191797     30\n",
      " 198820 98753        0.0883     7        0.0893        0.0874  1407126    2.16%          rho_10 D 198820 198818     56\n",
      " 206442 102053        0.0876    12        0.0893        0.0874  1455665    2.16%           rho_0 U 206442 206441     57\n",
      " 213398 105132        0.0887     9        0.0893        0.0874  1500675    2.16%          rho_14 D 213398 213397     90\n",
      " 220388 108477        cutoff              0.0893        0.0874  1546449    2.16%           rho_4 U 220388 220386     67\n",
      " 226313 111702        0.0883    14        0.0893        0.0874  1588327    2.16%          rho_15 U 226313 226312     67\n",
      " 232090 115006        0.0887    11        0.0893        0.0874  1636614    2.16%           rho_0 U 232090 232089     32\n",
      " 237814 118038        cutoff              0.0893        0.0874  1677716    2.16%          rho_14 U 237814 237813     52\n",
      " 243599 120843        0.0874    15        0.0893        0.0874  1722660    2.16%          rho_15 D 243599 102032     41\n",
      "Elapsed time = 76.53 sec. (129984.77 ticks, tree = 39.19 MB, solutions = 7)\n",
      " 250396 123950        0.0874    18        0.0893        0.0874  1776246    2.16%           rho_9 D 250396 250395     31\n",
      " 256986 126496        0.0876    16        0.0893        0.0874  1822248    2.16%           rho_0 U 256986 256985     24\n",
      " 262600 129953        0.0881     8        0.0893        0.0874  1869779    2.16%          rho_10 D 262600 262599     56\n",
      " 267912 133213        cutoff              0.0893        0.0874  1913012    2.16%          rho_21 U 267912 267911     69\n",
      " 275187 136463        cutoff              0.0893        0.0874  1950814    2.16%          rho_10 U 275187 155424     51\n",
      " 281492 139601        0.0881    17        0.0893        0.0874  2002088    2.16%          rho_15 U 281492 281491     36\n",
      " 287980 142563        0.0877    18        0.0893        0.0874  2048292    2.16%           rho_9 D 287980 287979     51\n",
      " 293670 145529        0.0893     8        0.0893        0.0874  2093750    2.16%           rho_6 U 293670 293668     55\n",
      " 299943 148273        0.0874    11        0.0893        0.0874  2139515    2.16%           rho_9 U 299943 299941     52\n",
      " 306848 151333        cutoff              0.0893        0.0874  2182008    2.16%           rho_0 U 306848 306847     71\n",
      "Elapsed time = 94.73 sec. (168140.54 ticks, tree = 51.04 MB, solutions = 7)\n",
      " 312656 154228        cutoff              0.0893        0.0874  2228396    2.16%          rho_20 U 312656 312655     29\n",
      " 319382 156822        0.0874    10        0.0893        0.0874  2270110    2.16%           rho_9 U 319382 319380     70\n",
      " 325700 159609        0.0890     7        0.0893        0.0874  2316015    2.16%          rho_21 U 325700 325699     89\n",
      " 332128 162913        0.0877    15        0.0893        0.0874  2360625    2.16%          rho_12 D 332128 332127     70\n",
      " 338336 165415        0.0875    17        0.0893        0.0874  2406083    2.16%           rho_0 U 338336 338335     15\n",
      " 343628 168857        0.0889    17        0.0893        0.0874  2454988    2.16%           rho_9 D 343628 343627     32\n",
      " 350306 171852        0.0882     6        0.0893        0.0874  2495244    2.16%          rho_15 D 350306 350304     95\n",
      " 355290 174579        0.0878    12        0.0893        0.0874  2545212    2.16%          rho_15 U 355290 355287     34\n",
      " 360420 177950        0.0881    10        0.0893        0.0874  2587572    2.16%          rho_13 D 360420 360419     62\n",
      " 365377 180419        0.0879     7        0.0893        0.0874  2634049    2.16%           rho_4 D 365377 365376     46\n",
      "Elapsed time = 112.17 sec. (206290.64 ticks, tree = 61.32 MB, solutions = 7)\n",
      " 372177 183784        0.0874    11        0.0893        0.0874  2677915    2.16%           rho_0 D 372177 372175     45\n",
      " 377835 186511        0.0891     5        0.0893        0.0874  2720403    2.16%           rho_4 D 377835 377834     59\n",
      " 385213 189352        0.0890     3        0.0893        0.0874  2768087    2.16%          rho_16 D 385213 385211     76\n",
      " 391936 191432        0.0875    11        0.0893        0.0874  2809162    2.16%          rho_21 D 391936 391935     60\n",
      " 397939 194109        0.0874    12        0.0893        0.0874  2857327    2.16%           rho_0 D 397939 397937     90\n",
      " 404513 197292        0.0889    10        0.0893        0.0874  2901236    2.16%           rho_4 D 404513 404511     61\n",
      " 409957 199963        0.0893     7        0.0893        0.0874  2951162    2.16%          rho_11 D 409957 409955     49\n",
      " 415062 202823        0.0880    10        0.0893        0.0874  2999346    2.16%          rho_17 U 415062 414967     86\n",
      " 420334 205415        0.0874     9        0.0893        0.0874  3039200    2.16%           rho_9 U 420334 420332     42\n",
      " 426156 208286        0.0893     8        0.0893        0.0874  3094841    2.16%          rho_14 D 426156 426155     83\n",
      "Elapsed time = 128.77 sec. (244440.91 ticks, tree = 71.56 MB, solutions = 7)\n",
      " 431318 211479        0.0874    13        0.0893        0.0874  3145836    2.16%           rho_0 D 431318 431316     72\n",
      " 437079 214067        cutoff              0.0893        0.0874  3188176    2.16%          rho_10 U 437079 437078     74\n",
      " 442605 217270        0.0875    13        0.0893        0.0874  3232033    2.16%          rho_17 U 442605 181783     72\n",
      " 448020 220087        0.0877    12        0.0893        0.0874  3276353    2.16%           rho_9 D 448020 448019     68\n",
      " 453225 223179        0.0874    12        0.0893        0.0874  3314587    2.16%           rho_9 U 453225 453223     27\n",
      " 458649 225940        0.0874    12        0.0893        0.0874  3351541    2.16%           rho_9 U 458649 458642     68\n",
      " 465462 229195        0.0883    17        0.0893        0.0874  3398983    2.16%           rho_0 U 465462 465461     71\n",
      " 470716 231857        cutoff              0.0893        0.0874  3443357    2.16%           rho_4 U 470716 470714     60\n",
      " 475455 234729        0.0874    14        0.0893        0.0874  3494014    2.16%          rho_15 U 475455 475454     53\n",
      " 481232 237438        0.0890    10        0.0893        0.0874  3537873    2.16%          rho_10 U 481232 481230     91\n",
      "Elapsed time = 144.61 sec. (282592.94 ticks, tree = 82.57 MB, solutions = 7)\n",
      " 485984 240493        0.0876    14        0.0893        0.0874  3583506    2.16%           rho_9 D 485984 485983     69\n",
      " 491060 243426        0.0874    16        0.0893        0.0874  3624916    2.16%          rho_15 U 491060 491059     32\n",
      " 495889 246142        cutoff              0.0893        0.0874  3670342    2.16%          rho_11 D 495889 495888     65\n",
      " 502365 248512        0.0874    11        0.0893        0.0874  3712845    2.16%          rho_17 D 502365 494217     59\n",
      " 509413 252270        0.0876    17        0.0893        0.0874  3757482    2.16%          rho_24 D 509413 509412     75\n",
      " 515182 255182        0.0880    10        0.0893        0.0874  3790843    2.16%          rho_17 U 515182 414585     43\n",
      " 522278 258291        0.0876    14        0.0893        0.0874  3832615    2.16%           rho_8 U 522278 133862     70\n",
      " 527782 261016        0.0880    15        0.0893        0.0874  3889274    2.16%          rho_21 D 527782 527781     29\n",
      " 533135 263863        0.0874    17        0.0893        0.0874  3936216    2.16%           rho_9 D 533135 533134     55\n",
      " 538890 266556        0.0878    13        0.0893        0.0874  3979452    2.16%          rho_10 U 538890 527241     22\n",
      "Elapsed time = 160.38 sec. (320746.22 ticks, tree = 91.12 MB, solutions = 7)\n",
      " 546620 270447        0.0874    16        0.0893        0.0874  4021296    2.16%           rho_2 U 546620 490973     34\n",
      " 552386 273353        0.0876    19        0.0893        0.0874  4062178    2.16%          rho_21 U 552386 475467     55\n",
      " 557749 276663        0.0882    17        0.0893        0.0874  4105926    2.16%           rho_2 D 557749 557748     61\n",
      " 562582 279275        0.0874     9        0.0893        0.0874  4146948    2.16%           rho_0 D 562582 562580     48\n",
      " 567030 282437        0.0874    12        0.0893        0.0874  4195783    2.16%           rho_9 U 567030 567028     76\n",
      " 572099 285466        0.0886    12        0.0893        0.0874  4233518    2.16%          rho_23 D 572099 572098     78\n",
      " 577569 288308        0.0877    15        0.0893        0.0874  4267769    2.16%          rho_10 D 577569 577568     44\n",
      " 582853 291228        0.0888     8        0.0893        0.0874  4306113    2.16%           rho_0 U 582853 582852     77\n",
      " 588200 294067        0.0875    14        0.0893        0.0874  4344672    2.16%          rho_15 D 588200 588199     49\n",
      " 592768 296712        0.0887    11        0.0893        0.0874  4390145    2.16%          rho_11 D 592768 592766     31\n",
      "Elapsed time = 176.16 sec. (358898.38 ticks, tree = 103.04 MB, solutions = 7)\n",
      " 598039 299303        0.0874    14        0.0893        0.0874  4429009    2.16%           rho_0 D 598039 598037     43\n",
      " 603100 301945        0.0874    19        0.0893        0.0874  4469894    2.16%           rho_9 D 603100 603099     47\n",
      " 608542 304942        0.0874    14        0.0893        0.0874  4515816    2.16%           rho_0 D 608542 608540     86\n",
      " 614032 306994        0.0890     3        0.0893        0.0874  4554226    2.16%          rho_16 U 614032 614030     25\n",
      " 620324 310227        0.0874    16        0.0893        0.0874  4598284    2.16%           rho_9 D 620324 620323     84\n",
      " 624890 313078        0.0892    10        0.0893        0.0874  4638109    2.16%          rho_21 D 624890 624889    102\n",
      " 630052 315412        0.0888    11        0.0893        0.0874  4675928    2.16%           rho_4 D 630052 630051     64\n",
      " 635931 317944        0.0881    11        0.0893        0.0874  4726174    2.16%           rho_2 D 635931 635930     30\n",
      " 641677 320654        0.0884    13        0.0893        0.0874  4772149    2.16%          rho_15 D 641677 641676     38\n",
      " 647620 323729        0.0876    14        0.0893        0.0874  4816233    2.16%           rho_9 D 647620 647619     30\n",
      "Elapsed time = 192.38 sec. (397052.61 ticks, tree = 111.05 MB, solutions = 7)\n",
      " 653370 326455        0.0874    13        0.0893        0.0874  4860591    2.16%           rho_5 U 653370 653342     30\n",
      " 658325 329085        0.0875    13        0.0893        0.0874  4900015    2.16%          rho_21 D 658325 658324     62\n",
      " 663168 331675        0.0886    13        0.0893        0.0874  4939106    2.16%          rho_23 U 663168 663166     82\n",
      " 669172 334054        0.0892    13        0.0893        0.0874  4985740    2.16%          rho_21 D 669172 669171     56\n",
      "\n",
      "User cuts applied:  854\n",
      "\n",
      "Root node processing (before b&c):\n",
      "  Real time             =    0.09 sec. (1.37 ticks)\n",
      "Sequential b&c:\n",
      "  Real time             =  199.92 sec. (414963.13 ticks)\n",
      "                          ------------\n",
      "Total (root+branch&cut) =  200.02 sec. (414964.50 ticks)\n",
      "+-----------------------------------------------+------------------+-----------+\n",
      "| Pr(Y = +1) = 1.0/(1.0 + exp(-(-10 + score))   |                  |           |\n",
      "| ============================================= | ================ | ========= |\n",
      "| p_arrest>=1                                   |         4 points |   + ..... |\n",
      "| p_violence>=1                                 |         3 points |   + ..... |\n",
      "| p_arrest>=3                                   |         1 points |   + ..... |\n",
      "| p_felony>=1                                   |         1 points |   + ..... |\n",
      "| ============================================= | ================ | ========= |\n",
      "| ADD POINTS FROM ROWS 1 to 4                   |            SCORE |   = ..... |\n",
      "+-----------------------------------------------+------------------+-----------+\n",
      "model_id, score_thresholds 0 {'rank_abs': [0]}\n",
      "get_disparity_predefined_group()\n"
     ]
    },
    {
     "name": "stderr",
     "output_type": "stream",
     "text": [
      "C:\\Users\\binha\\Documents\\Duke\\Cynthia Research\\psa-analysis - test2\\utils\\fairness_functions.py:82: RuntimeWarning:\n",
      "\n",
      "invalid value encountered in longlong_scalars\n",
      "\n",
      "C:\\Users\\binha\\Documents\\Duke\\Cynthia Research\\psa-analysis - test2\\utils\\fairness_functions.py:95: RuntimeWarning:\n",
      "\n",
      "divide by zero encountered in longlong_scalars\n",
      "\n",
      "C:\\Users\\binha\\Documents\\Duke\\Cynthia Research\\psa-analysis - test2\\utils\\fairness_functions.py:86: RuntimeWarning:\n",
      "\n",
      "invalid value encountered in longlong_scalars\n",
      "\n",
      "C:\\Users\\binha\\Documents\\Duke\\Cynthia Research\\psa-analysis - test2\\utils\\fairness_functions.py:95: RuntimeWarning:\n",
      "\n",
      "invalid value encountered in longlong_scalars\n",
      "\n"
     ]
    }
   ],
   "source": [
    "riskslim_summary = slim.risk_cv(X=sub_X, \n",
    "                                Y=sub_Y, \n",
    "                                indicator = indicator,\n",
    "                                y_label='recid_violent6', \n",
    "                                max_coef=20, \n",
    "                                max_coef_number=10, \n",
    "                                max_runtime=200, \n",
    "                                c=1e-6, \n",
    "                                seed=816)"
   ]
  },
  {
   "cell_type": "code",
   "execution_count": 17,
   "metadata": {},
   "outputs": [
    {
     "data": {
      "text/plain": [
       "(0.8522877246569586, 0.8522884078996651)"
      ]
     },
     "execution_count": 17,
     "metadata": {},
     "output_type": "execute_result"
    }
   ],
   "source": [
    "np.mean(riskslim_summary['train_auc']), np.mean(riskslim_summary['test_auc'])"
   ]
  },
  {
   "cell_type": "markdown",
   "metadata": {},
   "source": [
    "### Arnold PSA"
   ]
  },
  {
   "cell_type": "code",
   "execution_count": 23,
   "metadata": {},
   "outputs": [],
   "source": [
    "### load data\n",
    "data = pd.read_csv(\"~/Documents/Duke/Cynthia Research/KY-analysis-mytrials/KY Recidivism/KY data/kentucky_data.csv\")\n",
    "X_arnold = data['pvf_risk_score_raw'].values\n",
    "Y_arnold = data['recid_violence_six_month'].values\n",
    "\n",
    "## set up cross validation\n",
    "cv = KFold(n_splits=5,shuffle=True,random_state=816)\n",
    "arnold_auc = []\n",
    "for train, test in cv.split(X_arnold, Y_arnold):\n",
    "    y_pred_arnold, y_test = X_arnold[test], Y_arnold[test]\n",
    "    arnold_auc.append(roc_auc_score(y_test, y_pred_arnold))"
   ]
  },
  {
   "cell_type": "markdown",
   "metadata": {},
   "source": [
    "### Corel"
   ]
  },
  {
   "cell_type": "code",
   "execution_count": 2,
   "metadata": {},
   "outputs": [],
   "source": [
    "## load stumps data\n",
    "data = pd.read_csv(\"~/Documents/Duke/Cynthia Research/KY-analysis-mytrials/KY Recidivism/KY data/kentucky_stumps.csv\")\n",
    "x, y = data.loc[:,:'current_violence>=1'], data['recid_violence_six_month'].values\n",
    "y[y == -1] = 0"
   ]
  },
  {
   "cell_type": "code",
   "execution_count": 3,
   "metadata": {
    "scrolled": true
   },
   "outputs": [
    {
     "name": "stderr",
     "output_type": "stream",
     "text": [
      "C:\\Users\\binha\\Documents\\Duke\\Cynthia Research\\psa-analysis - test2\\utils\\fairness_functions.py:82: RuntimeWarning:\n",
      "\n",
      "invalid value encountered in longlong_scalars\n",
      "\n",
      "C:\\Users\\binha\\Documents\\Duke\\Cynthia Research\\psa-analysis - test2\\utils\\fairness_functions.py:95: RuntimeWarning:\n",
      "\n",
      "divide by zero encountered in longlong_scalars\n",
      "\n",
      "C:\\Users\\binha\\Documents\\Duke\\Cynthia Research\\psa-analysis - test2\\utils\\fairness_functions.py:86: RuntimeWarning:\n",
      "\n",
      "invalid value encountered in longlong_scalars\n",
      "\n",
      "C:\\Users\\binha\\Documents\\Duke\\Cynthia Research\\psa-analysis - test2\\utils\\fairness_functions.py:95: RuntimeWarning:\n",
      "\n",
      "invalid value encountered in longlong_scalars\n",
      "\n",
      "C:\\Users\\binha\\Documents\\Duke\\Cynthia Research\\psa-analysis - test2\\utils\\fairness_functions.py:82: RuntimeWarning:\n",
      "\n",
      "invalid value encountered in longlong_scalars\n",
      "\n",
      "C:\\Users\\binha\\Documents\\Duke\\Cynthia Research\\psa-analysis - test2\\utils\\fairness_functions.py:95: RuntimeWarning:\n",
      "\n",
      "divide by zero encountered in longlong_scalars\n",
      "\n",
      "C:\\Users\\binha\\Documents\\Duke\\Cynthia Research\\psa-analysis - test2\\utils\\fairness_functions.py:86: RuntimeWarning:\n",
      "\n",
      "invalid value encountered in longlong_scalars\n",
      "\n",
      "C:\\Users\\binha\\Documents\\Duke\\Cynthia Research\\psa-analysis - test2\\utils\\fairness_functions.py:95: RuntimeWarning:\n",
      "\n",
      "invalid value encountered in longlong_scalars\n",
      "\n",
      "C:\\Users\\binha\\Documents\\Duke\\Cynthia Research\\psa-analysis - test2\\utils\\fairness_functions.py:82: RuntimeWarning:\n",
      "\n",
      "invalid value encountered in longlong_scalars\n",
      "\n",
      "C:\\Users\\binha\\Documents\\Duke\\Cynthia Research\\psa-analysis - test2\\utils\\fairness_functions.py:95: RuntimeWarning:\n",
      "\n",
      "divide by zero encountered in longlong_scalars\n",
      "\n",
      "C:\\Users\\binha\\Documents\\Duke\\Cynthia Research\\psa-analysis - test2\\utils\\fairness_functions.py:86: RuntimeWarning:\n",
      "\n",
      "invalid value encountered in longlong_scalars\n",
      "\n",
      "C:\\Users\\binha\\Documents\\Duke\\Cynthia Research\\psa-analysis - test2\\utils\\fairness_functions.py:95: RuntimeWarning:\n",
      "\n",
      "invalid value encountered in longlong_scalars\n",
      "\n",
      "C:\\Users\\binha\\Documents\\Duke\\Cynthia Research\\psa-analysis - test2\\utils\\fairness_functions.py:82: RuntimeWarning:\n",
      "\n",
      "invalid value encountered in longlong_scalars\n",
      "\n",
      "C:\\Users\\binha\\Documents\\Duke\\Cynthia Research\\psa-analysis - test2\\utils\\fairness_functions.py:95: RuntimeWarning:\n",
      "\n",
      "divide by zero encountered in longlong_scalars\n",
      "\n",
      "C:\\Users\\binha\\Documents\\Duke\\Cynthia Research\\psa-analysis - test2\\utils\\fairness_functions.py:86: RuntimeWarning:\n",
      "\n",
      "invalid value encountered in longlong_scalars\n",
      "\n",
      "C:\\Users\\binha\\Documents\\Duke\\Cynthia Research\\psa-analysis - test2\\utils\\fairness_functions.py:95: RuntimeWarning:\n",
      "\n",
      "invalid value encountered in longlong_scalars\n",
      "\n",
      "C:\\Users\\binha\\Documents\\Duke\\Cynthia Research\\psa-analysis - test2\\utils\\fairness_functions.py:82: RuntimeWarning:\n",
      "\n",
      "invalid value encountered in longlong_scalars\n",
      "\n",
      "C:\\Users\\binha\\Documents\\Duke\\Cynthia Research\\psa-analysis - test2\\utils\\fairness_functions.py:95: RuntimeWarning:\n",
      "\n",
      "divide by zero encountered in longlong_scalars\n",
      "\n",
      "C:\\Users\\binha\\Documents\\Duke\\Cynthia Research\\psa-analysis - test2\\utils\\fairness_functions.py:86: RuntimeWarning:\n",
      "\n",
      "invalid value encountered in longlong_scalars\n",
      "\n",
      "C:\\Users\\binha\\Documents\\Duke\\Cynthia Research\\psa-analysis - test2\\utils\\fairness_functions.py:95: RuntimeWarning:\n",
      "\n",
      "invalid value encountered in longlong_scalars\n",
      "\n"
     ]
    }
   ],
   "source": [
    "corel_summary = Corel.corel_cv(x, y, max_card=2, c=1e-4, seed=816)"
   ]
  },
  {
   "cell_type": "code",
   "execution_count": 4,
   "metadata": {},
   "outputs": [
    {
     "data": {
      "text/plain": [
       "(0.5, 0.0)"
      ]
     },
     "execution_count": 4,
     "metadata": {},
     "output_type": "execute_result"
    }
   ],
   "source": [
    "np.mean(corel_summary['test_auc']), np.std(corel_summary['test_auc'])"
   ]
  },
  {
   "cell_type": "markdown",
   "metadata": {},
   "source": [
    "### Results"
   ]
  },
  {
   "cell_type": "code",
   "execution_count": 25,
   "metadata": {},
   "outputs": [
    {
     "name": "stdout",
     "output_type": "stream",
     "text": [
      "Stored 'summary_violent6_KY_interpret' (dict)\n"
     ]
    }
   ],
   "source": [
    "#### save results\n",
    "summary_violent6_KY_interpret = {\"CART\": cart_summary,\n",
    "                                 \"EBM\": ebm_summary, \n",
    "                                 'Lasso Stumps': stump_summary, \n",
    "                                 'RiskSLIM': riskslim_summary,  \n",
    "                                 'Corel': corel_summary,\n",
    "                                 'Arnold PSA': arnold_auc}\n",
    "%store summary_violent6_KY_interpret"
   ]
  },
  {
   "cell_type": "code",
   "execution_count": 26,
   "metadata": {},
   "outputs": [
    {
     "data": {
      "text/plain": [
       "[['CART', 0.8607109129756912, 0.016213170695480783],\n",
       " ['EBM', 0.8693451768210119, 0.00892092467540695],\n",
       " ['Lasso Stumps', 0.8710784287360867, 0.0022119261504668364],\n",
       " ['RiskSLIM', 0.8522884078996651],\n",
       " ['Corel', 0.5],\n",
       " ['Arnold PSA', 0.85]]"
      ]
     },
     "execution_count": 26,
     "metadata": {},
     "output_type": "execute_result"
    }
   ],
   "source": [
    "results = [[\"CART\", np.mean(cart_summary['holdout_test_auc']), np.mean(cart_summary['auc_diffs'])],\n",
    "           [\"EBM\", np.mean(ebm_summary['holdout_test_auc']), np.mean(ebm_summary['auc_diffs'])], \n",
    "           [\"Lasso Stumps\", np.mean(stump_summary['holdout_test_auc']), np.mean(stump_summary['auc_diffs'])],\n",
    "           ['RiskSLIM', np.mean(riskslim_summary['test_auc'])],\n",
    "           ['Corel', np.mean(corel_summary['test_auc'])],\n",
    "           ['Arnold PSA', round(np.mean(arnold_auc), 3)]]\n",
    "results"
   ]
  },
  {
   "cell_type": "code",
   "execution_count": 27,
   "metadata": {},
   "outputs": [],
   "source": [
    "auc = [np.mean(cart_summary['holdout_test_auc']), \n",
    "       np.mean(ebm_summary['holdout_test_auc']), \n",
    "       np.mean(stump_summary['holdout_test_auc']), \n",
    "       np.mean(riskslim_summary['test_auc']), \n",
    "       np.mean(corel_summary['test_auc'])]"
   ]
  },
  {
   "cell_type": "code",
   "execution_count": 28,
   "metadata": {},
   "outputs": [],
   "source": [
    "path = \"C:/Users/binha/Documents/Duke/Cynthia Research/KY-analysis-mytrials/KY Recidivism/KY Results/Models/Six Month/\"\n",
    "results = [[\"Violent\", np.str((round(np.mean(cart_summary['holdout_test_auc']), 3))) + \" (\" + np.str(round(np.std(cart_summary['holdout_test_auc']), 3)) + \")\", \n",
    "            np.str(round(np.mean(ebm_summary['holdout_test_auc']),3)) + \" (\" + np.str(round(np.std(ebm_summary['holdout_test_auc']), 3)) + \")\", \n",
    "            np.str(round(np.mean(stump_summary['holdout_test_auc']),3)) + \" (\" + np.str(round(np.std(stump_summary['holdout_test_auc']), 3)) + \")\",             \n",
    "            np.str(round(np.mean(riskslim_summary['test_auc']),3)) + \" (\" + np.str(round(np.std(riskslim_summary['test_auc']), 3)) + \")\", \n",
    "            np.str(round(np.mean(corel_summary['test_auc']),3)) + \" (\" + np.str(round(np.std(corel_summary['test_auc']), 3)) + \")\", \n",
    "            round(np.max(auc) - np.min(auc), 3),\n",
    "            np.str(round(np.mean(arnold_auc), 3)) + \" (\" + np.str(round(np.std(arnold_auc),3)) + \")\"]]\n",
    "with open(path + 'Interpretable Models Summary.csv', 'a') as writeFile:\n",
    "    writer = csv.writer(writeFile)\n",
    "    writer.writerows(results)"
   ]
  },
  {
   "cell_type": "code",
   "execution_count": 29,
   "metadata": {},
   "outputs": [],
   "source": [
    "cart_confusion = cart_summary['confusion_matrix_stats']\n",
    "ebm_confusion = ebm_summary['confusion_matrix_stats']\n",
    "riskslim_confusion = riskslim_summary['confusion_matrix_stats']\n",
    "stumps_confusion = stump_summary['confusion_matrix_stats']\n",
    "corel_confusion = corel_summary['confusion_matrix_stats']\n",
    "#arnold_confusion = cart_summary['confusion_matrix_stats']\n",
    "\n",
    "## save results\n",
    "cart_confusion.to_csv(r'C:/Users/binha/Documents/Duke/Cynthia Research/KY-analysis-mytrials/KY Recidivism/KY Fairness/Six Month/violent/cart_confusion.csv', index=None,header=True)\n",
    "ebm_confusion.to_csv(r'C:/Users/binha/Documents/Duke/Cynthia Research/KY-analysis-mytrials/KY Recidivism/KY Fairness/Six Month/violent/ebm_confusion.csv', index=None,header=True)\n",
    "riskslim_confusion.to_csv(r'C:/Users/binha/Documents/Duke/Cynthia Research/KY-analysis-mytrials/KY Recidivism/KY Fairness/Six Month/violent/riskslim_confusion.csv', index=None,header=True)\n",
    "stumps_confusion.to_csv(r'C:/Users/binha/Documents/Duke/Cynthia Research/KY-analysis-mytrials/KY Recidivism/KY Fairness/Six Month/violent/stumps_confusion.csv', index=None,header=True)\n",
    "corel_confusion.to_csv(r'C:/Users/binha/Documents/Duke/Cynthia Research/KY-analysis-mytrials/KY Recidivism/KY Fairness/Six Month/violent/corel_confusion.csv', index=None,header=True)\n",
    "#arnold_confusion.to_csv(r'C:/Users/binha/Documents/Duke/Cynthia Research/KY-analysis-mytrials/broward/broward models/model fairness/Two Year/general/arnold_confusion.csv', index=None,header=True)"
   ]
  },
  {
   "cell_type": "code",
   "execution_count": 5,
   "metadata": {},
   "outputs": [],
   "source": [
    "corel_confusion = corel_summary['confusion_matrix_stats']\n",
    "corel_confusion.to_csv(r'C:/Users/binha/Documents/Duke/Cynthia Research/KY-analysis-mytrials/KY Recidivism/KY Fairness/Six Month/violent/corel_confusion.csv', index=None,header=True)"
   ]
  }
 ],
 "metadata": {
  "kernelspec": {
   "display_name": "Python 3",
   "language": "python",
   "name": "python3"
  },
  "language_info": {
   "codemirror_mode": {
    "name": "ipython",
    "version": 3
   },
   "file_extension": ".py",
   "mimetype": "text/x-python",
   "name": "python",
   "nbconvert_exporter": "python",
   "pygments_lexer": "ipython3",
   "version": "3.7.4"
  }
 },
 "nbformat": 4,
 "nbformat_minor": 4
}
