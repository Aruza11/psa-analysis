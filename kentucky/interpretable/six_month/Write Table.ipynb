{
 "cells": [
  {
   "cell_type": "code",
   "execution_count": 4,
   "metadata": {
    "hideCode": false,
    "hidePrompt": false
   },
   "outputs": [],
   "source": [
    "import pytablewriter\n",
    "import pandas as pd\n",
    "import numpy as np"
   ]
  },
  {
   "cell_type": "code",
   "execution_count": 7,
   "metadata": {
    "hideCode": false,
    "hidePrompt": false
   },
   "outputs": [],
   "source": [
    "result = pd.read_csv(\"C:\\\\Users\\\\binha\\\\Documents\\\\Duke\\\\Cynthia Research\\\\KY-analysis-mytrials\\\\KY Recidivism\\\\KY Results\\\\Models\\\\Six Month\\\\Interpretable Models Summary.csv\")"
   ]
  },
  {
   "cell_type": "code",
   "execution_count": 8,
   "metadata": {
    "hideCode": false,
    "hidePrompt": false
   },
   "outputs": [
    {
     "data": {
      "text/html": [
       "<div>\n",
       "<style scoped>\n",
       "    .dataframe tbody tr th:only-of-type {\n",
       "        vertical-align: middle;\n",
       "    }\n",
       "\n",
       "    .dataframe tbody tr th {\n",
       "        vertical-align: top;\n",
       "    }\n",
       "\n",
       "    .dataframe thead th {\n",
       "        text-align: right;\n",
       "    }\n",
       "</style>\n",
       "<table border=\"1\" class=\"dataframe\">\n",
       "  <thead>\n",
       "    <tr style=\"text-align: right;\">\n",
       "      <th></th>\n",
       "      <th>Unnamed: 0</th>\n",
       "      <th>CART</th>\n",
       "      <th>EBM</th>\n",
       "      <th>Lasso Stumps</th>\n",
       "      <th>RiskSLIM</th>\n",
       "      <th>Performance Range</th>\n",
       "      <th>Arnold PSA</th>\n",
       "    </tr>\n",
       "  </thead>\n",
       "  <tbody>\n",
       "    <tr>\n",
       "      <th>0</th>\n",
       "      <td>General</td>\n",
       "      <td>0.772 (0.001)</td>\n",
       "      <td>0.779 (0.001)</td>\n",
       "      <td>0.774 (0.001)</td>\n",
       "      <td>0.744 (0.001)</td>\n",
       "      <td>0.035</td>\n",
       "      <td>0.691 (0.003)</td>\n",
       "    </tr>\n",
       "    <tr>\n",
       "      <th>1</th>\n",
       "      <td>Violent</td>\n",
       "      <td>0.868 (0.005)</td>\n",
       "      <td>0.877 (0.004)</td>\n",
       "      <td>0.876 (0.003)</td>\n",
       "      <td>0.86 (0.003)</td>\n",
       "      <td>0.018</td>\n",
       "      <td>0.843 (0.003)</td>\n",
       "    </tr>\n",
       "    <tr>\n",
       "      <th>2</th>\n",
       "      <td>Drug</td>\n",
       "      <td>0.751 (0.005)</td>\n",
       "      <td>0.758 (0.004)</td>\n",
       "      <td>0.759 (0.005)</td>\n",
       "      <td>0.724 (0.004)</td>\n",
       "      <td>0.036</td>\n",
       "      <td>0.663 (0.008)</td>\n",
       "    </tr>\n",
       "    <tr>\n",
       "      <th>3</th>\n",
       "      <td>Property</td>\n",
       "      <td>0.832 (0.021)</td>\n",
       "      <td>0.852 (0.008)</td>\n",
       "      <td>0.86 (0.011)</td>\n",
       "      <td>0.835 (0.012)</td>\n",
       "      <td>0.028</td>\n",
       "      <td>0.733 (0.011)</td>\n",
       "    </tr>\n",
       "    <tr>\n",
       "      <th>4</th>\n",
       "      <td>Felony</td>\n",
       "      <td>0.798 (0.003)</td>\n",
       "      <td>0.81 (0.002)</td>\n",
       "      <td>0.807 (0.002)</td>\n",
       "      <td>0.781 (0.003)</td>\n",
       "      <td>0.030</td>\n",
       "      <td>0.711 (0.008)</td>\n",
       "    </tr>\n",
       "    <tr>\n",
       "      <th>5</th>\n",
       "      <td>Misdemeanor</td>\n",
       "      <td>0.746 (0.003)</td>\n",
       "      <td>0.755 (0.002)</td>\n",
       "      <td>0.75 (0.003)</td>\n",
       "      <td>0.7 (0.002)</td>\n",
       "      <td>0.055</td>\n",
       "      <td>0.69 (0.005)</td>\n",
       "    </tr>\n",
       "  </tbody>\n",
       "</table>\n",
       "</div>"
      ],
      "text/plain": [
       "    Unnamed: 0           CART            EBM   Lasso Stumps       RiskSLIM  \\\n",
       "0      General  0.772 (0.001)  0.779 (0.001)  0.774 (0.001)  0.744 (0.001)   \n",
       "1      Violent  0.868 (0.005)  0.877 (0.004)  0.876 (0.003)   0.86 (0.003)   \n",
       "2         Drug  0.751 (0.005)  0.758 (0.004)  0.759 (0.005)  0.724 (0.004)   \n",
       "3     Property  0.832 (0.021)  0.852 (0.008)   0.86 (0.011)  0.835 (0.012)   \n",
       "4       Felony  0.798 (0.003)   0.81 (0.002)  0.807 (0.002)  0.781 (0.003)   \n",
       "5  Misdemeanor  0.746 (0.003)  0.755 (0.002)   0.75 (0.003)    0.7 (0.002)   \n",
       "\n",
       "   Performance Range     Arnold PSA  \n",
       "0              0.035  0.691 (0.003)  \n",
       "1              0.018  0.843 (0.003)  \n",
       "2              0.036  0.663 (0.008)  \n",
       "3              0.028  0.733 (0.011)  \n",
       "4              0.030  0.711 (0.008)  \n",
       "5              0.055   0.69 (0.005)  "
      ]
     },
     "execution_count": 8,
     "metadata": {},
     "output_type": "execute_result"
    }
   ],
   "source": [
    "result"
   ]
  },
  {
   "cell_type": "code",
   "execution_count": 4,
   "metadata": {
    "hideCode": false,
    "hidePrompt": false
   },
   "outputs": [],
   "source": [
    "cols = result.columns.to_list()\n",
    "values = result.values.tolist()"
   ]
  },
  {
   "cell_type": "code",
   "execution_count": 5,
   "metadata": {
    "hideCode": false,
    "hideOutput": true,
    "hidePrompt": false
   },
   "outputs": [
    {
     "name": "stdout",
     "output_type": "stream",
     "text": [
      "\\begin{array}{l | l | l | l | l | r | l} \\hline\n",
      "    General     & \\verb|0.772 (0.001)| & \\verb|0.779 (0.001)| & \\verb|0.774 (0.003)| & \\verb|0.744 (0.002)| & 0.03500 & \\verb|0.696 (0.003)| \\\\ \\hline\n",
      "    Violent     & \\verb|0.871 (0.004)| & \\verb|0.877 (0.004)| & \\verb|0.876 (0.007)| & \\verb|0.859 (0.006)| & 0.01800 & \\verb|0.843 (0.003)| \\\\ \\hline\n",
      "    Property    & \\verb|0.837 (0.018)| & \\verb|0.852 (0.008)| & \\verb|0.862 (0.007)| & \\verb|0.843 (0.008)| & 0.02500 & \\verb|0.741 (0.01) | \\\\ \\hline\n",
      "    Felony      & \\verb|0.798 (0.003)| & \\verb|0.81 (0.002) | & \\verb|0.809 (0.002)| & \\verb|0.782 (0.002)| & 0.02900 & \\verb|0.718 (0.009)| \\\\ \\hline\n",
      "    Misdemeanor & \\verb|0.746 (0.003)| & \\verb|0.755 (0.002)| & \\verb|0.75 (0.006) | & \\verb|0.713 (0.009)| & 0.04200 & \\verb|0.695 (0.004)| \\\\ \\hline\n",
      "    Drug        & \\verb|0.751 (0.005)| & \\verb|0.758 (0.004)| & \\verb|0.759 (0.005)| & \\verb|0.723 (0.005)| & 0.03700 & \\verb|0.667 (0.009)| \\\\ \\hline\n",
      "\\end{array}\n"
     ]
    }
   ],
   "source": [
    "writer = pytablewriter.LatexTableWriter()\n",
    "writer.value_matrix = values\n",
    "writer.write_table()"
   ]
  }
 ],
 "metadata": {
  "hide_code_all_hidden": false,
  "kernelspec": {
   "display_name": "Python 3",
   "language": "python",
   "name": "python3"
  },
  "language_info": {
   "codemirror_mode": {
    "name": "ipython",
    "version": 3
   },
   "file_extension": ".py",
   "mimetype": "text/x-python",
   "name": "python",
   "nbconvert_exporter": "python",
   "pygments_lexer": "ipython3",
   "version": "3.7.4"
  }
 },
 "nbformat": 4,
 "nbformat_minor": 4
}
