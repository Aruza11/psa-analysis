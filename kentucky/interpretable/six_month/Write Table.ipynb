{
 "cells": [
  {
   "cell_type": "code",
   "execution_count": 9,
   "metadata": {
    "hideCode": false,
    "hidePrompt": false
   },
   "outputs": [],
   "source": [
    "import pytablewriter\n",
    "import pandas as pd\n",
    "import numpy as np"
   ]
  },
  {
   "cell_type": "code",
   "execution_count": 10,
   "metadata": {
    "hideCode": false,
    "hidePrompt": false
   },
   "outputs": [],
   "source": [
    "result = pd.read_csv(\"C:\\\\Users\\\\binha\\\\Documents\\\\Duke\\\\Cynthia Research\\\\KY-analysis-mytrials\\\\KY Recidivism\\\\KY Results\\\\Models\\\\Six Month\\\\Interpretable Models Summary.csv\")"
   ]
  },
  {
   "cell_type": "code",
   "execution_count": 11,
   "metadata": {
    "hideCode": false,
    "hidePrompt": false
   },
   "outputs": [
    {
     "data": {
      "text/html": [
       "<div>\n",
       "<style scoped>\n",
       "    .dataframe tbody tr th:only-of-type {\n",
       "        vertical-align: middle;\n",
       "    }\n",
       "\n",
       "    .dataframe tbody tr th {\n",
       "        vertical-align: top;\n",
       "    }\n",
       "\n",
       "    .dataframe thead th {\n",
       "        text-align: right;\n",
       "    }\n",
       "</style>\n",
       "<table border=\"1\" class=\"dataframe\">\n",
       "  <thead>\n",
       "    <tr style=\"text-align: right;\">\n",
       "      <th></th>\n",
       "      <th>Unnamed: 0</th>\n",
       "      <th>CART</th>\n",
       "      <th>EBM</th>\n",
       "      <th>Lasso Stumps</th>\n",
       "      <th>RiskSLIM</th>\n",
       "      <th>Corel</th>\n",
       "      <th>Performance Range</th>\n",
       "      <th>Arnold PSA</th>\n",
       "    </tr>\n",
       "  </thead>\n",
       "  <tbody>\n",
       "    <tr>\n",
       "      <th>0</th>\n",
       "      <td>General</td>\n",
       "      <td>0.736 (0.005)</td>\n",
       "      <td>0.742 (0.005)</td>\n",
       "      <td>0.737 (0.006)</td>\n",
       "      <td>0.702 (0.007)</td>\n",
       "      <td>0.517 (0.01)</td>\n",
       "      <td>0.225</td>\n",
       "      <td>0.691 (0.005)</td>\n",
       "    </tr>\n",
       "    <tr>\n",
       "      <th>1</th>\n",
       "      <td>Violent</td>\n",
       "      <td>0.861 (0.01)</td>\n",
       "      <td>0.869 (0.011)</td>\n",
       "      <td>0.871 (0.011)</td>\n",
       "      <td>0.852 (0.012)</td>\n",
       "      <td>0.5 (0.0)</td>\n",
       "      <td>0.371</td>\n",
       "      <td>0.85 (0.011)</td>\n",
       "    </tr>\n",
       "    <tr>\n",
       "      <th>2</th>\n",
       "      <td>Drug</td>\n",
       "      <td>0.75 (0.006)</td>\n",
       "      <td>0.757 (0.01)</td>\n",
       "      <td>0.761 (0.011)</td>\n",
       "      <td>0.729 (0.008)</td>\n",
       "      <td>0.5 (0.0)</td>\n",
       "      <td>0.261</td>\n",
       "      <td>0.652 (0.016)</td>\n",
       "    </tr>\n",
       "    <tr>\n",
       "      <th>3</th>\n",
       "      <td>Felony</td>\n",
       "      <td>0.767 (0.006)</td>\n",
       "      <td>0.774 (0.006)</td>\n",
       "      <td>0.769 (0.009)</td>\n",
       "      <td>0.733 (0.011)</td>\n",
       "      <td>0.5 (0.0)</td>\n",
       "      <td>0.274</td>\n",
       "      <td>0.7 (0.005)</td>\n",
       "    </tr>\n",
       "    <tr>\n",
       "      <th>4</th>\n",
       "      <td>Misdemeanor</td>\n",
       "      <td>0.722 (0.005)</td>\n",
       "      <td>0.73 (0.01)</td>\n",
       "      <td>0.725 (0.005)</td>\n",
       "      <td>0.673 (0.007)</td>\n",
       "      <td>0.5 (0.0)</td>\n",
       "      <td>0.230</td>\n",
       "      <td>0.692 (0.01)</td>\n",
       "    </tr>\n",
       "    <tr>\n",
       "      <th>5</th>\n",
       "      <td>Property</td>\n",
       "      <td>0.818 (0.014)</td>\n",
       "      <td>0.817 (0.046)</td>\n",
       "      <td>0.851 (0.014)</td>\n",
       "      <td>0.832 (0.015)</td>\n",
       "      <td>0.5 (0.0)</td>\n",
       "      <td>0.351</td>\n",
       "      <td>0.73 (0.025)</td>\n",
       "    </tr>\n",
       "  </tbody>\n",
       "</table>\n",
       "</div>"
      ],
      "text/plain": [
       "    Unnamed: 0           CART            EBM   Lasso Stumps       RiskSLIM  \\\n",
       "0      General  0.736 (0.005)  0.742 (0.005)  0.737 (0.006)  0.702 (0.007)   \n",
       "1      Violent   0.861 (0.01)  0.869 (0.011)  0.871 (0.011)  0.852 (0.012)   \n",
       "2         Drug   0.75 (0.006)   0.757 (0.01)  0.761 (0.011)  0.729 (0.008)   \n",
       "3       Felony  0.767 (0.006)  0.774 (0.006)  0.769 (0.009)  0.733 (0.011)   \n",
       "4  Misdemeanor  0.722 (0.005)    0.73 (0.01)  0.725 (0.005)  0.673 (0.007)   \n",
       "5     Property  0.818 (0.014)  0.817 (0.046)  0.851 (0.014)  0.832 (0.015)   \n",
       "\n",
       "          Corel  Performance Range     Arnold PSA  \n",
       "0  0.517 (0.01)              0.225  0.691 (0.005)  \n",
       "1     0.5 (0.0)              0.371   0.85 (0.011)  \n",
       "2     0.5 (0.0)              0.261  0.652 (0.016)  \n",
       "3     0.5 (0.0)              0.274    0.7 (0.005)  \n",
       "4     0.5 (0.0)              0.230   0.692 (0.01)  \n",
       "5     0.5 (0.0)              0.351   0.73 (0.025)  "
      ]
     },
     "execution_count": 11,
     "metadata": {},
     "output_type": "execute_result"
    }
   ],
   "source": [
    "result"
   ]
  },
  {
   "cell_type": "code",
   "execution_count": 7,
   "metadata": {
    "hideCode": false,
    "hidePrompt": false
   },
   "outputs": [],
   "source": [
    "cols = result.columns.to_list()\n",
    "values = result.values.tolist()"
   ]
  },
  {
   "cell_type": "code",
   "execution_count": 8,
   "metadata": {
    "hideCode": false,
    "hideOutput": true,
    "hidePrompt": false
   },
   "outputs": [
    {
     "name": "stdout",
     "output_type": "stream",
     "text": [
      "\\begin{array}{l | l | l | l | l | l | r | l} \\hline\n",
      "    General     & \\verb|0.736 (0.005)| & \\verb|0.742 (0.005)| & \\verb|0.737 (0.006)| & \\verb|0.702 (0.007)| & \\verb|0.517 (0.01)| & 0.2250 & \\verb|0.691 (0.005)| \\\\ \\hline\n",
      "    Violent     & \\verb|0.861 (0.01) | & \\verb|0.869 (0.011)| & \\verb|0.871 (0.011)| & \\verb|0.852 (0.012)| & \\verb|0.5 (0.0)   | & 0.3710 & \\verb|0.85 (0.011) | \\\\ \\hline\n",
      "    Drug        & \\verb|0.75 (0.006) | & \\verb|0.757 (0.01) | & \\verb|0.761 (0.011)| & \\verb|0.729 (0.008)| & \\verb|0.5 (0.0)   | & 0.2610 & \\verb|0.652 (0.016)| \\\\ \\hline\n",
      "    Felony      & \\verb|0.767 (0.006)| & \\verb|0.774 (0.006)| & \\verb|0.769 (0.009)| & \\verb|0.733 (0.011)| & \\verb|0.5 (0.0)   | & 0.2740 & \\verb|0.7 (0.005)  | \\\\ \\hline\n",
      "    Misdemeanor & \\verb|0.722 (0.005)| & \\verb|0.73 (0.01)  | & \\verb|0.725 (0.005)| & \\verb|0.673 (0.007)| & \\verb|0.5 (0.0)   | & 0.2300 & \\verb|0.692 (0.01) | \\\\ \\hline\n",
      "    Property    & \\verb|0.818 (0.014)| & \\verb|0.817 (0.046)| & \\verb|0.851 (0.014)| & \\verb|0.832 (0.015)| & \\verb|0.5 (0.0)   | & 0.3510 & \\verb|0.73 (0.025) | \\\\ \\hline\n",
      "\\end{array}\n"
     ]
    }
   ],
   "source": [
    "writer = pytablewriter.LatexTableWriter()\n",
    "writer.value_matrix = values\n",
    "writer.write_table()"
   ]
  }
 ],
 "metadata": {
  "hide_code_all_hidden": false,
  "kernelspec": {
   "display_name": "Python 3",
   "language": "python",
   "name": "python3"
  },
  "language_info": {
   "codemirror_mode": {
    "name": "ipython",
    "version": 3
   },
   "file_extension": ".py",
   "mimetype": "text/x-python",
   "name": "python",
   "nbconvert_exporter": "python",
   "pygments_lexer": "ipython3",
   "version": "3.7.4"
  }
 },
 "nbformat": 4,
 "nbformat_minor": 4
}
