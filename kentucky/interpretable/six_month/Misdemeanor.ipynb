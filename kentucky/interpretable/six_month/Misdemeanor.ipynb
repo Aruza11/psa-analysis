{
 "cells": [
  {
   "cell_type": "code",
   "execution_count": 1,
   "metadata": {},
   "outputs": [
    {
     "name": "stdout",
     "output_type": "stream",
     "text": [
      "Current working directory is now:  C:\\Users\\binha\\Documents\\Duke\\Cynthia Research\\psa-analysis - test2\n"
     ]
    },
    {
     "name": "stderr",
     "output_type": "stream",
     "text": [
      "C:\\Users\\binha\\Anaconda3\\lib\\site-packages\\sklearn\\externals\\six.py:31: DeprecationWarning:\n",
      "\n",
      "The module is deprecated in version 0.21 and will be removed in version 0.23 since we've dropped support for Python 2.7. Please rely on the official version of six (https://pypi.org/project/six/).\n",
      "\n"
     ]
    }
   ],
   "source": [
    "import os \n",
    "os.chdir('../../../')\n",
    "print(\"Current working directory is now: \", os.getcwd())\n",
    "\n",
    "import pandas as pd \n",
    "import numpy as np\n",
    "import csv\n",
    "import utils.interpretable_functions as interpret\n",
    "import utils.RiskSLIM as slim\n",
    "import utils.stumps as stumps\n",
    "import utils.Corel as Corel\n",
    "\n",
    "from sklearn.linear_model import LogisticRegression\n",
    "from sklearn.model_selection import KFold, GridSearchCV\n",
    "from sklearn.metrics import roc_auc_score\n",
    "\n",
    "# restore saved variables\n",
    "%store -r summary_M6_KY_interpret"
   ]
  },
  {
   "cell_type": "markdown",
   "metadata": {},
   "source": [
    "### CART & EBM"
   ]
  },
  {
   "cell_type": "code",
   "execution_count": 20,
   "metadata": {},
   "outputs": [],
   "source": [
    "### load data\n",
    "data = pd.read_csv(\"~/Documents/Duke/Cynthia Research/KY-analysis-mytrials/KY Recidivism/KY data/kentucky_data.csv\")\n",
    "data = data.drop(['fta_risk_score_raw','nca_risk_score_raw','pvf_risk_score_raw', \n",
    "                  'fta_calc', 'nca_calc', 'pvf_calc'], axis=1)\n",
    "x = data.loc[:,:'current_violence']\n",
    "y = data['recid_M_six_month'].values"
   ]
  },
  {
   "cell_type": "code",
   "execution_count": 21,
   "metadata": {
    "scrolled": true
   },
   "outputs": [
    {
     "name": "stdout",
     "output_type": "stream",
     "text": [
      "model_id, score_thresholds 0 {'rank_abs': [19]}\n",
      "get_disparity_predefined_group()\n"
     ]
    },
    {
     "name": "stderr",
     "output_type": "stream",
     "text": [
      "C:\\Users\\binha\\Documents\\Duke\\Cynthia Research\\psa-analysis - test2\\utils\\fairness_functions.py:82: RuntimeWarning:\n",
      "\n",
      "invalid value encountered in longlong_scalars\n",
      "\n",
      "C:\\Users\\binha\\Documents\\Duke\\Cynthia Research\\psa-analysis - test2\\utils\\fairness_functions.py:95: RuntimeWarning:\n",
      "\n",
      "divide by zero encountered in longlong_scalars\n",
      "\n",
      "C:\\Users\\binha\\Documents\\Duke\\Cynthia Research\\psa-analysis - test2\\utils\\fairness_functions.py:86: RuntimeWarning:\n",
      "\n",
      "invalid value encountered in longlong_scalars\n",
      "\n",
      "C:\\Users\\binha\\Documents\\Duke\\Cynthia Research\\psa-analysis - test2\\utils\\fairness_functions.py:95: RuntimeWarning:\n",
      "\n",
      "invalid value encountered in longlong_scalars\n",
      "\n"
     ]
    },
    {
     "name": "stdout",
     "output_type": "stream",
     "text": [
      "model_id, score_thresholds 0 {'rank_abs': [27]}\n",
      "get_disparity_predefined_group()\n"
     ]
    },
    {
     "name": "stderr",
     "output_type": "stream",
     "text": [
      "C:\\Users\\binha\\Documents\\Duke\\Cynthia Research\\psa-analysis - test2\\utils\\fairness_functions.py:82: RuntimeWarning:\n",
      "\n",
      "invalid value encountered in longlong_scalars\n",
      "\n",
      "C:\\Users\\binha\\Documents\\Duke\\Cynthia Research\\psa-analysis - test2\\utils\\fairness_functions.py:95: RuntimeWarning:\n",
      "\n",
      "divide by zero encountered in longlong_scalars\n",
      "\n"
     ]
    },
    {
     "name": "stdout",
     "output_type": "stream",
     "text": [
      "model_id, score_thresholds 0 {'rank_abs': [70]}\n",
      "get_disparity_predefined_group()\n"
     ]
    },
    {
     "name": "stderr",
     "output_type": "stream",
     "text": [
      "C:\\Users\\binha\\Documents\\Duke\\Cynthia Research\\psa-analysis - test2\\utils\\fairness_functions.py:82: RuntimeWarning:\n",
      "\n",
      "invalid value encountered in longlong_scalars\n",
      "\n",
      "C:\\Users\\binha\\Documents\\Duke\\Cynthia Research\\psa-analysis - test2\\utils\\fairness_functions.py:95: RuntimeWarning:\n",
      "\n",
      "divide by zero encountered in longlong_scalars\n",
      "\n"
     ]
    },
    {
     "name": "stdout",
     "output_type": "stream",
     "text": [
      "model_id, score_thresholds 0 {'rank_abs': [49]}\n",
      "get_disparity_predefined_group()\n"
     ]
    },
    {
     "name": "stderr",
     "output_type": "stream",
     "text": [
      "C:\\Users\\binha\\Documents\\Duke\\Cynthia Research\\psa-analysis - test2\\utils\\fairness_functions.py:82: RuntimeWarning:\n",
      "\n",
      "invalid value encountered in longlong_scalars\n",
      "\n",
      "C:\\Users\\binha\\Documents\\Duke\\Cynthia Research\\psa-analysis - test2\\utils\\fairness_functions.py:86: RuntimeWarning:\n",
      "\n",
      "invalid value encountered in longlong_scalars\n",
      "\n",
      "C:\\Users\\binha\\Documents\\Duke\\Cynthia Research\\psa-analysis - test2\\utils\\fairness_functions.py:95: RuntimeWarning:\n",
      "\n",
      "invalid value encountered in longlong_scalars\n",
      "\n",
      "C:\\Users\\binha\\Documents\\Duke\\Cynthia Research\\psa-analysis - test2\\utils\\fairness_functions.py:95: RuntimeWarning:\n",
      "\n",
      "divide by zero encountered in longlong_scalars\n",
      "\n"
     ]
    },
    {
     "name": "stdout",
     "output_type": "stream",
     "text": [
      "model_id, score_thresholds 0 {'rank_abs': [30]}\n",
      "get_disparity_predefined_group()\n"
     ]
    },
    {
     "name": "stderr",
     "output_type": "stream",
     "text": [
      "C:\\Users\\binha\\Documents\\Duke\\Cynthia Research\\psa-analysis - test2\\utils\\fairness_functions.py:82: RuntimeWarning:\n",
      "\n",
      "invalid value encountered in longlong_scalars\n",
      "\n",
      "C:\\Users\\binha\\Documents\\Duke\\Cynthia Research\\psa-analysis - test2\\utils\\fairness_functions.py:95: RuntimeWarning:\n",
      "\n",
      "divide by zero encountered in longlong_scalars\n",
      "\n",
      "C:\\Users\\binha\\Documents\\Duke\\Cynthia Research\\psa-analysis - test2\\utils\\fairness_functions.py:86: RuntimeWarning:\n",
      "\n",
      "invalid value encountered in longlong_scalars\n",
      "\n",
      "C:\\Users\\binha\\Documents\\Duke\\Cynthia Research\\psa-analysis - test2\\utils\\fairness_functions.py:95: RuntimeWarning:\n",
      "\n",
      "invalid value encountered in longlong_scalars\n",
      "\n",
      "WARNING:interpret.utils.all:Passing a numpy array to schema autogen when it should be dataframe.\n",
      "WARNING:interpret.utils.all:Passing a numpy array to schema autogen when it should be dataframe.\n",
      "WARNING:interpret.utils.all:Passing a numpy array to schema autogen when it should be dataframe.\n",
      "WARNING:interpret.utils.all:Passing a numpy array to schema autogen when it should be dataframe.\n",
      "WARNING:interpret.utils.all:Passing a numpy array to schema autogen when it should be dataframe.\n",
      "WARNING:interpret.utils.all:Passing a numpy array to schema autogen when it should be dataframe.\n",
      "WARNING:interpret.utils.all:Passing a numpy array to schema autogen when it should be dataframe.\n",
      "WARNING:interpret.utils.all:Passing a numpy array to schema autogen when it should be dataframe.\n",
      "WARNING:interpret.utils.all:Passing a numpy array to schema autogen when it should be dataframe.\n",
      "WARNING:interpret.utils.all:Passing a numpy array to schema autogen when it should be dataframe.\n",
      "WARNING:interpret.utils.all:Passing a numpy array to schema autogen when it should be dataframe.\n",
      "WARNING:interpret.utils.all:Passing a numpy array to schema autogen when it should be dataframe.\n"
     ]
    },
    {
     "name": "stdout",
     "output_type": "stream",
     "text": [
      "model_id, score_thresholds 0 {'rank_abs': [30]}\n",
      "get_disparity_predefined_group()\n"
     ]
    },
    {
     "name": "stderr",
     "output_type": "stream",
     "text": [
      "C:\\Users\\binha\\Documents\\Duke\\Cynthia Research\\psa-analysis - test2\\utils\\fairness_functions.py:82: RuntimeWarning:\n",
      "\n",
      "invalid value encountered in longlong_scalars\n",
      "\n",
      "C:\\Users\\binha\\Documents\\Duke\\Cynthia Research\\psa-analysis - test2\\utils\\fairness_functions.py:95: RuntimeWarning:\n",
      "\n",
      "divide by zero encountered in longlong_scalars\n",
      "\n",
      "C:\\Users\\binha\\Documents\\Duke\\Cynthia Research\\psa-analysis - test2\\utils\\fairness_functions.py:86: RuntimeWarning:\n",
      "\n",
      "invalid value encountered in longlong_scalars\n",
      "\n",
      "C:\\Users\\binha\\Documents\\Duke\\Cynthia Research\\psa-analysis - test2\\utils\\fairness_functions.py:95: RuntimeWarning:\n",
      "\n",
      "invalid value encountered in longlong_scalars\n",
      "\n",
      "WARNING:interpret.utils.all:Passing a numpy array to schema autogen when it should be dataframe.\n",
      "WARNING:interpret.utils.all:Passing a numpy array to schema autogen when it should be dataframe.\n",
      "WARNING:interpret.utils.all:Passing a numpy array to schema autogen when it should be dataframe.\n",
      "WARNING:interpret.utils.all:Passing a numpy array to schema autogen when it should be dataframe.\n",
      "WARNING:interpret.utils.all:Passing a numpy array to schema autogen when it should be dataframe.\n",
      "WARNING:interpret.utils.all:Passing a numpy array to schema autogen when it should be dataframe.\n",
      "WARNING:interpret.utils.all:Passing a numpy array to schema autogen when it should be dataframe.\n",
      "WARNING:interpret.utils.all:Passing a numpy array to schema autogen when it should be dataframe.\n",
      "WARNING:interpret.utils.all:Passing a numpy array to schema autogen when it should be dataframe.\n",
      "WARNING:interpret.utils.all:Passing a numpy array to schema autogen when it should be dataframe.\n",
      "WARNING:interpret.utils.all:Passing a numpy array to schema autogen when it should be dataframe.\n",
      "WARNING:interpret.utils.all:Passing a numpy array to schema autogen when it should be dataframe.\n"
     ]
    },
    {
     "name": "stdout",
     "output_type": "stream",
     "text": [
      "model_id, score_thresholds 0 {'rank_abs': [30]}\n",
      "get_disparity_predefined_group()\n"
     ]
    },
    {
     "name": "stderr",
     "output_type": "stream",
     "text": [
      "C:\\Users\\binha\\Documents\\Duke\\Cynthia Research\\psa-analysis - test2\\utils\\fairness_functions.py:82: RuntimeWarning:\n",
      "\n",
      "invalid value encountered in longlong_scalars\n",
      "\n",
      "C:\\Users\\binha\\Documents\\Duke\\Cynthia Research\\psa-analysis - test2\\utils\\fairness_functions.py:95: RuntimeWarning:\n",
      "\n",
      "divide by zero encountered in longlong_scalars\n",
      "\n",
      "WARNING:interpret.utils.all:Passing a numpy array to schema autogen when it should be dataframe.\n",
      "WARNING:interpret.utils.all:Passing a numpy array to schema autogen when it should be dataframe.\n",
      "WARNING:interpret.utils.all:Passing a numpy array to schema autogen when it should be dataframe.\n",
      "WARNING:interpret.utils.all:Passing a numpy array to schema autogen when it should be dataframe.\n",
      "WARNING:interpret.utils.all:Passing a numpy array to schema autogen when it should be dataframe.\n",
      "WARNING:interpret.utils.all:Passing a numpy array to schema autogen when it should be dataframe.\n",
      "WARNING:interpret.utils.all:Passing a numpy array to schema autogen when it should be dataframe.\n",
      "WARNING:interpret.utils.all:Passing a numpy array to schema autogen when it should be dataframe.\n",
      "WARNING:interpret.utils.all:Passing a numpy array to schema autogen when it should be dataframe.\n",
      "WARNING:interpret.utils.all:Passing a numpy array to schema autogen when it should be dataframe.\n",
      "WARNING:interpret.utils.all:Passing a numpy array to schema autogen when it should be dataframe.\n",
      "WARNING:interpret.utils.all:Passing a numpy array to schema autogen when it should be dataframe.\n"
     ]
    },
    {
     "name": "stdout",
     "output_type": "stream",
     "text": [
      "model_id, score_thresholds 0 {'rank_abs': [28]}\n",
      "get_disparity_predefined_group()\n"
     ]
    },
    {
     "name": "stderr",
     "output_type": "stream",
     "text": [
      "C:\\Users\\binha\\Documents\\Duke\\Cynthia Research\\psa-analysis - test2\\utils\\fairness_functions.py:82: RuntimeWarning:\n",
      "\n",
      "invalid value encountered in longlong_scalars\n",
      "\n",
      "C:\\Users\\binha\\Documents\\Duke\\Cynthia Research\\psa-analysis - test2\\utils\\fairness_functions.py:95: RuntimeWarning:\n",
      "\n",
      "divide by zero encountered in longlong_scalars\n",
      "\n",
      "WARNING:interpret.utils.all:Passing a numpy array to schema autogen when it should be dataframe.\n",
      "WARNING:interpret.utils.all:Passing a numpy array to schema autogen when it should be dataframe.\n",
      "WARNING:interpret.utils.all:Passing a numpy array to schema autogen when it should be dataframe.\n",
      "WARNING:interpret.utils.all:Passing a numpy array to schema autogen when it should be dataframe.\n",
      "WARNING:interpret.utils.all:Passing a numpy array to schema autogen when it should be dataframe.\n",
      "WARNING:interpret.utils.all:Passing a numpy array to schema autogen when it should be dataframe.\n",
      "WARNING:interpret.utils.all:Passing a numpy array to schema autogen when it should be dataframe.\n",
      "WARNING:interpret.utils.all:Passing a numpy array to schema autogen when it should be dataframe.\n",
      "WARNING:interpret.utils.all:Passing a numpy array to schema autogen when it should be dataframe.\n",
      "WARNING:interpret.utils.all:Passing a numpy array to schema autogen when it should be dataframe.\n",
      "WARNING:interpret.utils.all:Passing a numpy array to schema autogen when it should be dataframe.\n",
      "WARNING:interpret.utils.all:Passing a numpy array to schema autogen when it should be dataframe.\n"
     ]
    },
    {
     "name": "stdout",
     "output_type": "stream",
     "text": [
      "model_id, score_thresholds 0 {'rank_abs': [26]}\n",
      "get_disparity_predefined_group()\n"
     ]
    },
    {
     "name": "stderr",
     "output_type": "stream",
     "text": [
      "C:\\Users\\binha\\Documents\\Duke\\Cynthia Research\\psa-analysis - test2\\utils\\fairness_functions.py:82: RuntimeWarning:\n",
      "\n",
      "invalid value encountered in longlong_scalars\n",
      "\n",
      "C:\\Users\\binha\\Documents\\Duke\\Cynthia Research\\psa-analysis - test2\\utils\\fairness_functions.py:86: RuntimeWarning:\n",
      "\n",
      "invalid value encountered in longlong_scalars\n",
      "\n",
      "C:\\Users\\binha\\Documents\\Duke\\Cynthia Research\\psa-analysis - test2\\utils\\fairness_functions.py:95: RuntimeWarning:\n",
      "\n",
      "invalid value encountered in longlong_scalars\n",
      "\n",
      "C:\\Users\\binha\\Documents\\Duke\\Cynthia Research\\psa-analysis - test2\\utils\\fairness_functions.py:95: RuntimeWarning:\n",
      "\n",
      "divide by zero encountered in longlong_scalars\n",
      "\n",
      "WARNING:interpret.utils.all:Passing a numpy array to schema autogen when it should be dataframe.\n",
      "WARNING:interpret.utils.all:Passing a numpy array to schema autogen when it should be dataframe.\n",
      "WARNING:interpret.utils.all:Passing a numpy array to schema autogen when it should be dataframe.\n",
      "WARNING:interpret.utils.all:Passing a numpy array to schema autogen when it should be dataframe.\n",
      "WARNING:interpret.utils.all:Passing a numpy array to schema autogen when it should be dataframe.\n",
      "WARNING:interpret.utils.all:Passing a numpy array to schema autogen when it should be dataframe.\n",
      "WARNING:interpret.utils.all:Passing a numpy array to schema autogen when it should be dataframe.\n",
      "WARNING:interpret.utils.all:Passing a numpy array to schema autogen when it should be dataframe.\n",
      "WARNING:interpret.utils.all:Passing a numpy array to schema autogen when it should be dataframe.\n",
      "WARNING:interpret.utils.all:Passing a numpy array to schema autogen when it should be dataframe.\n",
      "WARNING:interpret.utils.all:Passing a numpy array to schema autogen when it should be dataframe.\n",
      "WARNING:interpret.utils.all:Passing a numpy array to schema autogen when it should be dataframe.\n"
     ]
    },
    {
     "name": "stdout",
     "output_type": "stream",
     "text": [
      "model_id, score_thresholds 0 {'rank_abs': [18]}\n",
      "get_disparity_predefined_group()\n"
     ]
    },
    {
     "name": "stderr",
     "output_type": "stream",
     "text": [
      "C:\\Users\\binha\\Documents\\Duke\\Cynthia Research\\psa-analysis - test2\\utils\\fairness_functions.py:95: RuntimeWarning:\n",
      "\n",
      "divide by zero encountered in longlong_scalars\n",
      "\n",
      "C:\\Users\\binha\\Documents\\Duke\\Cynthia Research\\psa-analysis - test2\\utils\\fairness_functions.py:82: RuntimeWarning:\n",
      "\n",
      "invalid value encountered in longlong_scalars\n",
      "\n",
      "C:\\Users\\binha\\Documents\\Duke\\Cynthia Research\\psa-analysis - test2\\utils\\fairness_functions.py:86: RuntimeWarning:\n",
      "\n",
      "invalid value encountered in longlong_scalars\n",
      "\n",
      "C:\\Users\\binha\\Documents\\Duke\\Cynthia Research\\psa-analysis - test2\\utils\\fairness_functions.py:95: RuntimeWarning:\n",
      "\n",
      "invalid value encountered in longlong_scalars\n",
      "\n"
     ]
    }
   ],
   "source": [
    "#### CART\n",
    "depth = [7,8,9]\n",
    "cart_summary = interpret.CART(X=x,\n",
    "                         Y=y,\n",
    "                         depth=depth,\n",
    "                         seed=816)\n",
    "\n",
    "#### EBM\n",
    "estimators = [40]\n",
    "depth = [2]\n",
    "learning_rate = [0.5]\n",
    "ebm_summary = interpret.EBM(X=x,\n",
    "                       Y=y,\n",
    "                       learning_rate=learning_rate,\n",
    "                       depth=depth,\n",
    "                       estimators=estimators,\n",
    "                       seed =816)"
   ]
  },
  {
   "cell_type": "code",
   "execution_count": 24,
   "metadata": {},
   "outputs": [
    {
     "data": {
      "text/plain": [
       "(0.7224423758113522, 0.023048816137339355)"
      ]
     },
     "execution_count": 24,
     "metadata": {},
     "output_type": "execute_result"
    }
   ],
   "source": [
    "np.mean(cart_summary['holdout_test_auc']), np.mean(cart_summary['auc_diffs'])"
   ]
  },
  {
   "cell_type": "code",
   "execution_count": 25,
   "metadata": {},
   "outputs": [
    {
     "data": {
      "text/plain": [
       "(0.7300833843778808, 0.010547128365449864)"
      ]
     },
     "execution_count": 25,
     "metadata": {},
     "output_type": "execute_result"
    }
   ],
   "source": [
    "np.mean(ebm_summary['holdout_test_auc']), np.mean(ebm_summary['auc_diffs'])"
   ]
  },
  {
   "cell_type": "markdown",
   "metadata": {},
   "source": [
    "## Lasso Stumps"
   ]
  },
  {
   "cell_type": "code",
   "execution_count": 26,
   "metadata": {},
   "outputs": [],
   "source": [
    "## load whole data\n",
    "data = pd.read_csv(\"~/Documents/Duke/Cynthia Research/KY-analysis-mytrials/KY Recidivism/KY data/kentucky_stumps.csv\")\n",
    "X_stumps, Y_stumps = data.loc[:,:'current_violence>=1'], data['recid_M_six_month'].values\n",
    "Y_stumps[Y_stumps == -1] = 0\n",
    "cols = X_stumps.columns[3:]\n",
    "\n",
    "## load train & test data\n",
    "train_stumps = pd.read_csv(\"~/Documents/Duke/Cynthia Research/KY-analysis-mytrials/KY Recidivism/KY data/kentucky_train_stumps.csv\")\n",
    "test_stumps = pd.read_csv(\"~/Documents/Duke/Cynthia Research/KY-analysis-mytrials/KY Recidivism/KY data/kentucky_test_stumps.csv\")\n",
    "X_train_stumps, Y_train_stumps = train_stumps.loc[:,:'current_violence>=1'], train_stumps['recid_M_six_month'].values\n",
    "X_test_stumps, Y_test_stumps = test_stumps.loc[:,:'current_violence>=1'], test_stumps['recid_M_six_month'].values\n",
    "Y_train_stumps[Y_train_stumps == -1] = 0\n",
    "Y_test_stumps[Y_test_stumps == -1] = 0"
   ]
  },
  {
   "cell_type": "markdown",
   "metadata": {},
   "source": [
    "#### Nested Cross Validation"
   ]
  },
  {
   "cell_type": "code",
   "execution_count": 27,
   "metadata": {
    "scrolled": true
   },
   "outputs": [
    {
     "name": "stdout",
     "output_type": "stream",
     "text": [
      "model_id, score_thresholds 0 {'rank_abs': [9110]}\n",
      "get_disparity_predefined_group()\n"
     ]
    },
    {
     "name": "stderr",
     "output_type": "stream",
     "text": [
      "C:\\Users\\binha\\Documents\\Duke\\Cynthia Research\\psa-analysis - test2\\utils\\fairness_functions.py:86: RuntimeWarning:\n",
      "\n",
      "invalid value encountered in longlong_scalars\n",
      "\n"
     ]
    },
    {
     "name": "stdout",
     "output_type": "stream",
     "text": [
      "model_id, score_thresholds 0 {'rank_abs': [9076]}\n",
      "get_disparity_predefined_group()\n"
     ]
    },
    {
     "name": "stderr",
     "output_type": "stream",
     "text": [
      "C:\\Users\\binha\\Documents\\Duke\\Cynthia Research\\psa-analysis - test2\\utils\\fairness_functions.py:86: RuntimeWarning:\n",
      "\n",
      "invalid value encountered in longlong_scalars\n",
      "\n"
     ]
    },
    {
     "name": "stdout",
     "output_type": "stream",
     "text": [
      "model_id, score_thresholds 0 {'rank_abs': [9449]}\n",
      "get_disparity_predefined_group()\n",
      "model_id, score_thresholds 0 {'rank_abs': [8849]}\n",
      "get_disparity_predefined_group()\n",
      "model_id, score_thresholds 0 {'rank_abs': [9043]}\n",
      "get_disparity_predefined_group()\n"
     ]
    },
    {
     "name": "stderr",
     "output_type": "stream",
     "text": [
      "C:\\Users\\binha\\Documents\\Duke\\Cynthia Research\\psa-analysis - test2\\utils\\fairness_functions.py:86: RuntimeWarning:\n",
      "\n",
      "invalid value encountered in longlong_scalars\n",
      "\n"
     ]
    }
   ],
   "source": [
    "stump_summary = stumps.stump_cv(X = X_stumps, \n",
    "                                Y = Y_stumps, \n",
    "                                columns=cols, \n",
    "                                c_grid={'C': [0.001, 0.002, 0.003]}, \n",
    "                                seed = 816)"
   ]
  },
  {
   "cell_type": "code",
   "execution_count": 28,
   "metadata": {},
   "outputs": [
    {
     "data": {
      "text/plain": [
       "([{'C': 0.003}, {'C': 0.003}, {'C': 0.003}, {'C': 0.003}, {'C': 0.003}],\n",
       " 0.7248726933415008,\n",
       " 0.0017502915220464655)"
      ]
     },
     "execution_count": 28,
     "metadata": {},
     "output_type": "execute_result"
    }
   ],
   "source": [
    "stump_summary['best_params'], np.mean(stump_summary['holdout_test_auc']), np.mean(stump_summary['auc_diffs'])"
   ]
  },
  {
   "cell_type": "markdown",
   "metadata": {},
   "source": [
    "##### Best Stump Model"
   ]
  },
  {
   "cell_type": "code",
   "execution_count": 29,
   "metadata": {},
   "outputs": [
    {
     "data": {
      "text/plain": [
       "20"
      ]
     },
     "execution_count": 29,
     "metadata": {},
     "output_type": "execute_result"
    }
   ],
   "source": [
    "best_stump_model = stumps.stump_model(X_train_stumps, \n",
    "                                      Y_train_stumps, \n",
    "                                      X_test_stumps, \n",
    "                                      Y_test_stumps, \n",
    "                                      c=0.003, \n",
    "                                      columns=cols, \n",
    "                                      seed=816)\n",
    "len(best_stump_model['features'])"
   ]
  },
  {
   "cell_type": "markdown",
   "metadata": {},
   "source": [
    "##### Prediction Table"
   ]
  },
  {
   "cell_type": "code",
   "execution_count": 30,
   "metadata": {
    "scrolled": true
   },
   "outputs": [
    {
     "name": "stdout",
     "output_type": "stream",
     "text": [
      "\begin{tabular}{|l|r|r|} \\hline\n",
      "1. p_arrest>=1 & 33.3 & -... \\ \\hline\n",
      "2. p_arrest>=2 & 40.9 & +... \\ \\hline\n",
      "3. p_arrest>=3 & 29.2 & +... \\ \\hline\n",
      "4. p_arrest>=4 & 9.2 & +... \\ \\hline\n",
      "5. p_arrest>=5 & 21.4 & +... \\ \\hline\n",
      "6. p_arrest>=6 & 7.7 & +... \\ \\hline\n",
      "7. p_charges>=1 & 38.4 & -... \\ \\hline\n",
      "8. p_charges>=2 & 0.7 & +... \\ \\hline\n",
      "9. p_charges>=3 & 0.8 & +... \\ \\hline\n",
      "10. p_violence>=1 & 20.8 & +... \\ \\hline\n",
      "11. p_felony>=1 & 29.2 & +... \\ \\hline\n",
      "12. p_misdemeanor>=1 & 27.9 & +... \\ \\hline\n",
      "13. p_misdemeanor>=2 & 19.0 & +... \\ \\hline\n",
      "14. p_misdemeanor>=3 & 13.8 & +... \\ \\hline\n",
      "15. p_drug>=1 & 13.7 & +... \\ \\hline\n",
      "16. p_stealing>=1 & 7.6 & -... \\ \\hline\n",
      "17. ADE>=1 & 22.1 & -... \\ \\hline\n",
      "18. p_prison>=1 & 42.0 & -... \\ \\hline\n",
      "19. p_pending_charge>=1 & 57.6 & +... \\ \\hline\n",
      "20. p_probation>=1 & 8.0 & +... \\ \\hline\n",
      "21. Intercept & -0.353 & +... \\ \\hline\n",
      "\textbf{ADD POINTS FROM ROWS 1 TO 21}  &  \textbf{SCORE} & = ..... \\ \\hline\n",
      "\\multicolumn{3}{l}{Pr(Y = 1) = exp(score/100) / (1 + exp(score/100))} \\ \\hline\n"
     ]
    }
   ],
   "source": [
    "stumps.latex_stump_table(best_stump_model['coefs'], \n",
    "                   best_stump_model['features'], \n",
    "                   best_stump_model['intercept'], \n",
    "                   best_stump_model['dictionary'])"
   ]
  },
  {
   "cell_type": "markdown",
   "metadata": {},
   "source": [
    "##### Stumps Visualizations"
   ]
  },
  {
   "cell_type": "code",
   "execution_count": 31,
   "metadata": {
    "scrolled": true
   },
   "outputs": [
    {
     "data": {
      "image/png": "[encoded data removed]",
      "text/plain": [
       "<Figure size 288x216 with 1 Axes>"
      ]
     },
     "metadata": {
      "needs_background": "light"
     },
     "output_type": "display_data"
    },
    {
     "data": {
      "image/png": "[encoded data removed]",
      "text/plain": [
       "<Figure size 288x216 with 1 Axes>"
      ]
     },
     "metadata": {
      "needs_background": "light"
     },
     "output_type": "display_data"
    },
    {
     "data": {
      "image/png": "[encoded data removed]",
      "text/plain": [
       "<Figure size 288x216 with 1 Axes>"
      ]
     },
     "metadata": {
      "needs_background": "light"
     },
     "output_type": "display_data"
    },
    {
     "data": {
      "image/png": "[encoded data removed]",
      "text/plain": [
       "<Figure size 288x216 with 1 Axes>"
      ]
     },
     "metadata": {
      "needs_background": "light"
     },
     "output_type": "display_data"
    },
    {
     "data": {
      "image/png": "[encoded data removed]",
      "text/plain": [
       "<Figure size 288x216 with 1 Axes>"
      ]
     },
     "metadata": {
      "needs_background": "light"
     },
     "output_type": "display_data"
    },
    {
     "data": {
      "image/png": "[encoded data removed]",
      "text/plain": [
       "<Figure size 288x216 with 1 Axes>"
      ]
     },
     "metadata": {
      "needs_background": "light"
     },
     "output_type": "display_data"
    },
    {
     "data": {
      "image/png": "[encoded data removed]",
      "text/plain": [
       "<Figure size 288x216 with 1 Axes>"
      ]
     },
     "metadata": {
      "needs_background": "light"
     },
     "output_type": "display_data"
    },
    {
     "data": {
      "image/png": "[encoded data removed]",
      "text/plain": [
       "<Figure size 288x216 with 1 Axes>"
      ]
     },
     "metadata": {
      "needs_background": "light"
     },
     "output_type": "display_data"
    },
    {
     "data": {
      "image/png": "[encoded data removed]",
      "text/plain": [
       "<Figure size 288x216 with 1 Axes>"
      ]
     },
     "metadata": {
      "needs_background": "light"
     },
     "output_type": "display_data"
    },
    {
     "data": {
      "image/png": "[encoded data removed]",
      "text/plain": [
       "<Figure size 288x216 with 1 Axes>"
      ]
     },
     "metadata": {
      "needs_background": "light"
     },
     "output_type": "display_data"
    },
    {
     "data": {
      "image/png": "[encoded data removed]",
      "text/plain": [
       "<Figure size 288x216 with 1 Axes>"
      ]
     },
     "metadata": {
      "needs_background": "light"
     },
     "output_type": "display_data"
    }
   ],
   "source": [
    "stumps.stump_plots(best_stump_model['features'], best_stump_model['coefs'], indicator='KY')"
   ]
  },
  {
   "cell_type": "markdown",
   "metadata": {},
   "source": [
    "## RiskSLIM"
   ]
  },
  {
   "cell_type": "code",
   "execution_count": 32,
   "metadata": {},
   "outputs": [],
   "source": [
    "## load stumps data\n",
    "data = pd.read_csv(\"~/Documents/Duke/Cynthia Research/KY-analysis-mytrials/KY Recidivism/KY data/kentucky_stumps.csv\")\n",
    "x, y = data.loc[:,:'current_violence>=1'], data['recid_M_six_month'].values\n",
    "cols = x.columns[3:]"
   ]
  },
  {
   "cell_type": "code",
   "execution_count": 33,
   "metadata": {},
   "outputs": [
    {
     "data": {
      "text/plain": [
       "20"
      ]
     },
     "execution_count": 33,
     "metadata": {},
     "output_type": "execute_result"
    }
   ],
   "source": [
    "## train on best param chosen by Lasso Stumps from above\n",
    "x_train = x.copy().drop(['race', 'person_id', 'screening_date'], axis=1)\n",
    "lasso = LogisticRegression(class_weight='balanced', solver='liblinear', penalty='l1', C=0.003, random_state=816).fit(x_train,y)\n",
    "selected_features = cols[lasso.coef_[0] != 0].tolist()\n",
    "len(selected_features)"
   ]
  },
  {
   "cell_type": "code",
   "execution_count": 34,
   "metadata": {},
   "outputs": [],
   "source": [
    "### Subset features\n",
    "if 'sex>=1' in selected_features:\n",
    "    selected_features = ['recid_M_six_month', 'person_id', 'screening_date', 'race'] + selected_features\n",
    "    indicator = 1\n",
    "else:\n",
    "    selected_features = ['recid_M_six_month', 'person_id', 'screening_date', 'race', 'sex>=1'] + selected_features\n",
    "    indicator = 0\n",
    "\n",
    "sub_data = data[selected_features]\n",
    "sub_X, sub_Y = sub_data.iloc[:,1:], sub_data.iloc[:,0].values\n",
    "sub_X.insert(0, '(Intercept)', 1)"
   ]
  },
  {
   "cell_type": "code",
   "execution_count": 35,
   "metadata": {
    "scrolled": true
   },
   "outputs": [
    {
     "name": "stdout",
     "output_type": "stream",
     "text": [
      "setting c0 = 0.0 to ensure that intercept is not penalized\n",
      "10/01/19 @ 03:13 PM | 901 rows in lookup table\n",
      "10/01/19 @ 03:13 PM | ------------------------------------------------------------\n",
      "10/01/19 @ 03:13 PM | runnning initialization procedure\n",
      "10/01/19 @ 03:13 PM | ------------------------------------------------------------\n",
      "10/01/19 @ 03:13 PM | CPA produced 2 cuts\n",
      "10/01/19 @ 03:13 PM | running naive rounding on 62 solutions\n",
      "10/01/19 @ 03:13 PM | best objective value: 0.2286\n",
      "10/01/19 @ 03:13 PM | rounding produced 5 integer solutions\n",
      "10/01/19 @ 03:13 PM | best objective value is 0.2339\n",
      "10/01/19 @ 03:13 PM | running sequential rounding on 62 solutions\n",
      "10/01/19 @ 03:13 PM | best objective value: 0.2286\n",
      "10/01/19 @ 03:13 PM | sequential rounding produced 6 integer solutions\n",
      "10/01/19 @ 03:13 PM | best objective value: 0.2339\n",
      "10/01/19 @ 03:13 PM | polishing 11 solutions\n",
      "10/01/19 @ 03:13 PM | best objective value: 0.2339\n",
      "10/01/19 @ 03:13 PM | polishing produced 5 integer solutions\n",
      "10/01/19 @ 03:13 PM | initialization produced 10 feasible solutions\n",
      "10/01/19 @ 03:13 PM | best objective value: 0.2339\n",
      "10/01/19 @ 03:13 PM | ------------------------------------------------------------\n",
      "10/01/19 @ 03:13 PM | completed initialization procedure\n",
      "10/01/19 @ 03:13 PM | ------------------------------------------------------------\n",
      "10/01/19 @ 03:13 PM | 901 rows in lookup table\n",
      "CPXPARAM_Read_DataCheck                          1\n",
      "CPXPARAM_Threads                                 1\n",
      "CPXPARAM_Parallel                                1\n",
      "CPXPARAM_RandomSeed                              0\n",
      "CPXPARAM_TimeLimit                               200\n",
      "CPXPARAM_MIP_Tolerances_LowerCutoff              0.22768775131626573\n",
      "CPXPARAM_MIP_Tolerances_UpperCutoff              0.23390899121898465\n"
     ]
    },
    {
     "name": "stderr",
     "output_type": "stream",
     "text": [
      "Warning: Control callbacks may disable some MIP features.\n"
     ]
    },
    {
     "name": "stdout",
     "output_type": "stream",
     "text": [
      "Lazy constraint(s) or lazy constraint callback is present.\n",
      "    Disabling dual reductions (CPX_PARAM_REDUCE) in presolve.\n",
      "    Disabling non-linear reductions (CPX_PARAM_PRELINEAR) in presolve.\n",
      "         Disabling repeat represolve because of lazy constraint/incumbent callback.\n",
      "10/01/19 @ 03:13 PM | adding 238 initial cuts\n",
      "1 of 1 MIP starts provided solutions.\n",
      "MIP start 'mip_start_0' defined initial solution with objective 0.2339.\n",
      "Tried aggregator 1 time.\n",
      "Reduced MIP has 22 rows, 44 columns, and 83 nonzeros.\n",
      "Reduced MIP has 20 binaries, 22 generals, 0 SOSs, and 0 indicators.\n",
      "Presolve time = 0.00 sec. (0.04 ticks)\n",
      "Probing time = 0.00 sec. (0.01 ticks)\n",
      "MIP emphasis: balance optimality and feasibility.\n",
      "MIP search method: traditional branch-and-cut.\n",
      "Parallel mode: none, using 1 thread.\n",
      "Root relaxation solution time = 0.00 sec. (0.03 ticks)\n",
      "\n",
      "        Nodes                                         Cuts/\n",
      "   Node  Left     Objective  IInf  Best Integer    Best Bound    ItCnt     Gap         Variable B NodeID Parent  Depth\n",
      "\n",
      "*     0+    0                            0.2339        0.2277             2.66%\n",
      "      0     0        0.2277     1        0.2339        0.2277        1    2.66%\n",
      "      0     0        0.2277     1        0.2339      Fract: 2        2    2.66%\n",
      "      0     0        0.2277     2        0.2339    MIRcuts: 1        3    2.66%\n",
      "      0     2        0.2277     2        0.2339        0.2277        3    2.66%                        0             0\n",
      "Elapsed time = 0.14 sec. (1.27 ticks, tree = 0.01 MB, solutions = 1)\n",
      "   2119   787        0.2277     8        0.2339        0.2277     8533    2.66%           rho_7 D   2119   2118     15\n",
      "   3527  1249        cutoff              0.2339        0.2277    15113    2.66%          rho_14 U   3527   3525     22\n",
      "*  4178  1427      integral     0        0.2339        0.2277    18185    2.66%\n",
      "   4722  1591        0.2337     3        0.2339        0.2277    21230    2.66%           rho_6 U   4722   4721     30\n",
      "   5855  1995        0.2305     6        0.2339        0.2277    27430    2.66%           rho_6 D   5855   5854     21\n",
      "   6960  2412        0.2280    10        0.2339        0.2277    32960    2.66%           rho_9 U   6960   6959     20\n",
      "   7944  2883        0.2334     7        0.2339        0.2277    39412    2.66%           rho_4 D   7944   7942     46\n",
      "   8935  3352        0.2277     6        0.2339        0.2277    45590    2.66%           rho_7 U   8935   7377     18\n",
      "   9822  3980        0.2307     7        0.2339        0.2277    52360    2.66%           rho_0 U   9822   9821     23\n",
      "  10937  4516        cutoff              0.2339        0.2277    58215    2.66%          rho_20 U  10937  10936     55\n",
      "  15833  6694        0.2289     8        0.2339        0.2277    83338    2.66%           rho_8 D  15833  15832     37\n",
      "Elapsed time = 5.08 sec. (3102.51 ticks, tree = 1.79 MB, solutions = 2)\n",
      "  20647  7683        0.2287     9        0.2339        0.2277   100971    2.66%          rho_11 D  20647  20527     32\n",
      "  25486  9590        0.2279     8        0.2339        0.2277   121666    2.66%          rho_11 D  25486   4739     28\n",
      "  29803 10994        0.2323     7        0.2339        0.2277   143256    2.66%          rho_13 D  29803  29802     29\n",
      "  34145 12464        cutoff              0.2339        0.2277   164291    2.66%           rho_6 U  34145  34144     37\n",
      "  38438 13650        0.2294    11        0.2339        0.2277   184560    2.66%           rho_9 D  38438  38437     20\n",
      "  42624 14970        0.2277     1        0.2339        0.2277   205630    2.66%          rho_10 N  42624  42610     35\n",
      "  46660 16268        0.2277     9        0.2339        0.2277   227154    2.66%           rho_0 U  46660  46618     24\n",
      "  50678 17502        0.2307     4        0.2339        0.2277   248524    2.66%          rho_14 D  50678  50677     20\n",
      "  55092 18967        0.2277     7        0.2339        0.2277   267760    2.66%           rho_6 N  55092  52274     18\n",
      "  58921 20360        0.2277    11        0.2339        0.2277   290669    2.66%          rho_11 U  58921  58919     64\n",
      "Elapsed time = 16.06 sec. (12641.04 ticks, tree = 5.92 MB, solutions = 2)\n",
      "  62975 21490        0.2296     6        0.2339        0.2277   310821    2.66%           rho_2 N  62975  62864     74\n",
      "  66865 22460        0.2339     3        0.2339        0.2277   330950    2.66%          rho_16 N  66865  66864     49\n",
      "  70837 23506        0.2319     6        0.2339        0.2277   350617    2.66%           rho_2 D  70837  70835     37\n",
      "  74881 24114        0.2333     3        0.2339        0.2277   369649    2.66%          rho_14 D  74881  74880     32\n",
      "  79500 25974        0.2325     1        0.2339        0.2277   388954    2.66%          rho_12 N  79500  79499     34\n",
      "  84051 27781        0.2308     7        0.2339        0.2277   408173    2.66%           rho_3 D  84051  84049     47\n",
      "  88065 28949        0.2277     8        0.2339        0.2277   428731    2.66%          rho_11 D  88065   7348     12\n",
      "  92041 30140        0.2277     6        0.2339        0.2277   449662    2.66%           rho_7 U  92041  92039     20\n",
      "* 93000+30573                            0.2339        0.2277             2.66%\n",
      "  95933 31572        0.2277    11        0.2339        0.2277   470707    2.66%          rho_10 D  95933  95932     57\n",
      "  99732 32983        0.2315     4        0.2339        0.2277   493301    2.66%           rho_6 N  99732  99731     51\n",
      "Elapsed time = 27.17 sec. (22179.28 ticks, tree = 10.19 MB, solutions = 3)\n",
      " 103815 34298        0.2283     9        0.2339        0.2277   514434    2.66%           rho_6 N 103815 103746     19\n",
      " 108011 35907        0.2301     2        0.2339        0.2277   533452    2.66%           rho_3 D 108011 108010     25\n",
      " 112175 37687        0.2283     7        0.2339        0.2277   553004    2.66%          rho_10 D 112175 112174     45\n",
      " 116210 38918        0.2289     7        0.2339        0.2277   573358    2.66%           rho_2 D 116210 116209     61\n",
      " 119984 39764        0.2311    11        0.2339        0.2277   592571    2.66%           rho_2 N 119984 119983     73\n",
      " 123756 41314        0.2308     5        0.2339        0.2277   614840    2.66%           rho_5 U 123756 123755     32\n",
      " 127329 42630        0.2285    10        0.2339        0.2277   637015    2.66%           rho_8 N 127329 127328     53\n",
      " 131008 43877        cutoff              0.2339        0.2277   658006    2.66%          rho_20 U 131008 131007     78\n",
      " 134932 45173        0.2307     9        0.2339        0.2277   678112    2.66%           rho_2 D 134932 134931     44\n",
      " 138816 45799        0.2328     8        0.2339        0.2277   696992    2.66%          rho_14 D 138816 138815     63\n",
      "Elapsed time = 38.19 sec. (31718.51 ticks, tree = 13.19 MB, solutions = 3)\n",
      " 142693 47104        0.2280     7        0.2339        0.2277   717679    2.66%          rho_11 N 142693  33871     26\n",
      " 146611 48544        0.2291     8        0.2339        0.2277   737779    2.66%          rho_10 D 146611 146610     61\n",
      " 150684 50191        cutoff              0.2339        0.2277   757972    2.66%          rho_20 U 150684 150683     50\n",
      " 154920 51588        0.2277     8        0.2339        0.2277   775317    2.66%          rho_10 N 154920 154909     27\n",
      " 158643 52186        0.2333     1        0.2339        0.2277   794228    2.66%           rho_8 N 158643 158642     30\n",
      " 162617 53490        cutoff              0.2339        0.2277   813912    2.66%          rho_19 D 162617 162616     35\n",
      " 166427 54557        0.2288    11        0.2339        0.2277   833894    2.66%           rho_8 N 166427 166426     26\n",
      " 170014 55870        cutoff              0.2339        0.2277   856781    2.66%           rho_8 U 170014 170012     28\n",
      " 173826 57311        0.2277     8        0.2339        0.2277   878060    2.66%           rho_0 D 173826 173824     45\n",
      " 177690 58725        0.2277     6        0.2339        0.2277   899012    2.66%           rho_0 D 177690 177688     27\n",
      "Elapsed time = 48.77 sec. (41258.02 ticks, tree = 16.20 MB, solutions = 3)\n",
      " 181280 60096        0.2284     8        0.2339        0.2277   922326    2.66%           rho_0 D 181280 181278     26\n",
      " 184681 60994        cutoff              0.2339        0.2277   944924    2.66%           rho_1 U 184681 184680     50\n",
      " 188585 62428        cutoff              0.2339        0.2277   964973    2.66%          rho_19 U 188585 188583     84\n",
      " 192497 63595        0.2335     4        0.2339        0.2277   984449    2.66%          rho_13 D 192497 192495     68\n",
      " 196036 64991        cutoff              0.2339        0.2277  1005814    2.66%          rho_20 U 196036 196035     33\n",
      " 199840 66151        0.2337     3        0.2339        0.2277  1025562    2.66%          rho_19 D 199840 199839     38\n",
      " 203648 67618        0.2289     7        0.2339        0.2277  1046179    2.66%           rho_5 N 203648 203646     53\n",
      " 207269 68941        cutoff              0.2339        0.2277  1067132    2.66%           rho_1 U 207269 207268     49\n",
      " 211064 70094        0.2329     9        0.2339        0.2277  1084438    2.66%          rho_13 N 211064 211063     43\n",
      " 214562 71155        0.2311    11        0.2339        0.2277  1105207    2.66%           rho_5 U 214562 214561     45\n",
      "Elapsed time = 60.23 sec. (50796.25 ticks, tree = 21.95 MB, solutions = 3)\n",
      " 218107 72072        cutoff              0.2339        0.2277  1126662    2.66%           rho_4 U 218107 218106     40\n",
      " 221630 73183        0.2277     6        0.2339        0.2277  1148551    2.66%           rho_7 U 221630 221628     18\n",
      " 225148 74404        0.2290     9        0.2339        0.2277  1169411    2.66%           rho_2 N 225148  14088     32\n",
      " 228591 75886        0.2294     8        0.2339        0.2277  1191783    2.66%          rho_12 D 228591 228589     46\n",
      " 232410 76818        0.2277     7        0.2339        0.2277  1211379    2.66%           rho_7 U 232410 232399     52\n",
      " 236178 77914        0.2319     6        0.2339        0.2277  1229972    2.66%          rho_20 D 236178 236176     56\n",
      " 239944 79025        cutoff              0.2339        0.2277  1248520    2.66%           rho_3 U 239944 239943     43\n",
      " 243421 80032        0.2284     8        0.2339        0.2277  1269156    2.66%           rho_6 N 243421  44319     38\n",
      " 246928 81278        0.2291    10        0.2339        0.2277  1290598    2.66%          rho_11 U 246928 156496     14\n",
      " 250610 82349        0.2306     4        0.2339        0.2277  1309956    2.66%           rho_3 D 250610 250608     53\n",
      "Elapsed time = 70.63 sec. (60334.65 ticks, tree = 24.55 MB, solutions = 3)\n",
      " 253928 83736        0.2307     9        0.2339        0.2277  1331941    2.66%           rho_5 D 253928 253927     18\n",
      " 257355 84980        0.2282    17        0.2339        0.2277  1352728    2.66%           rho_1 N 257355 257354     13\n",
      " 260250 87004        0.2278    14        0.2339        0.2277  1377760    2.66%           rho_7 D 260250 260249     38\n",
      " 262975 88534        0.2322     8        0.2339        0.2277  1400089    2.66%           rho_6 D 262975 262973     78\n",
      " 266540 89633        0.2298     5        0.2339        0.2277  1421845    2.66%          rho_14 D 266540 266539     45\n",
      " 270303 90936        0.2325     6        0.2339        0.2277  1441423    2.66%          rho_14 D 270303 270302     25\n",
      " 273703 92160        0.2277    10        0.2339        0.2277  1463038    2.66%          rho_11 N 273703 273691     41\n",
      " 277150 93366        0.2290    15        0.2339        0.2277  1483241    2.66%           rho_5 U 277150 277149     61\n",
      " 280531 94660        0.2282    12        0.2339        0.2277  1504767    2.66%           rho_0 D 280531 280517     42\n",
      " 283915 95907        0.2324     6        0.2339        0.2277  1525294    2.66%          rho_20 D 283915 283913     46\n",
      "Elapsed time = 81.33 sec. (69872.83 ticks, tree = 27.68 MB, solutions = 3)\n",
      " 287310 97225        0.2282    12        0.2339        0.2277  1546336    2.66%           rho_0 D 287310 287296     58\n",
      " 290647 98622        0.2285    17        0.2339        0.2277  1567470    2.66%          rho_10 D 290647 290646     46\n",
      " 293590 100106        0.2311     9        0.2339        0.2277  1592031    2.66%           rho_2 D 293590 293589     38\n",
      " 296956 101357        0.2292    11        0.2339        0.2277  1612339    2.66%          rho_11 D 296956 296955     48\n",
      " 300487 102589        0.2337     5        0.2339        0.2277  1631895    2.66%           rho_5 N 300487 300485     50\n",
      " 303800 103686        0.2319    11        0.2339        0.2277  1651412    2.66%          rho_14 D 303800 303799     27\n",
      " 307322 104812        0.2324     5        0.2339        0.2277  1670655    2.66%           rho_3 N 307322 307321     74\n",
      " 310817 105849        0.2278    13        0.2339        0.2277  1690425    2.66%          rho_10 N 310817 292536     24\n",
      " 314106 106905        0.2277    12        0.2339        0.2277  1711438    2.66%           rho_6 D 314106 245915     41\n",
      " 317470 108052        0.2293    16        0.2339        0.2277  1732729    2.66%           rho_7 D 317470 317469     36\n",
      "Elapsed time = 91.63 sec. (79414.07 ticks, tree = 30.51 MB, solutions = 3)\n",
      " 321201 109218        0.2309    11        0.2339        0.2277  1751464    2.66%          rho_10 N 321201 321194     27\n",
      " 325343 110832        cutoff              0.2339        0.2277  1768659    2.66%          rho_14 U 325343 325342     63\n",
      " 328841 111996        0.2277    10        0.2339        0.2277  1788461    2.66%           rho_1 D 328841 328799     34\n",
      " 331885 112779        0.2288     8        0.2339        0.2277  1810457    2.66%           rho_5 N 331885 331884     50\n",
      " 335200 113860        0.2296    12        0.2339        0.2277  1830111    2.66%          rho_10 N 335200 195731     27\n",
      " 338960 115263        0.2319     4        0.2339        0.2277  1847575    2.66%           rho_3 N 338960 338959     35\n",
      " 342282 116335        0.2307     9        0.2339        0.2277  1867401    2.66%           rho_0 U 342282 342281     28\n",
      " 346464 117834        cutoff              0.2339        0.2278  1882792    2.61%          rho_13 U 346464 346462     35\n",
      " 350904 119810        0.2315     9        0.2339        0.2278  1897705    2.61%          rho_14 N 350904 350902     30\n",
      " 366708 124080        0.2290    15        0.2339        0.2280  1960499    2.55%           rho_5 N 366708 281699     48\n",
      "Elapsed time = 104.84 sec. (91814.62 ticks, tree = 34.24 MB, solutions = 3)\n",
      " 382614 127764        cutoff              0.2339        0.2280  2028949    2.51%           rho_2 U 382614 382613     35\n",
      " 399526 132186        cutoff              0.2339        0.2281  2091864    2.47%          rho_19 U 399526 399524     87\n",
      " 415675 137989        0.2332     3        0.2339        0.2282  2157888    2.44%          rho_14 D 415675 415673     54\n",
      " 430984 140573        cutoff              0.2339        0.2283  2221400    2.41%           rho_3 U 430984 430983     33\n",
      " 447592 143723        cutoff              0.2339        0.2284  2281995    2.36%          rho_19 U 447592 447591     72\n",
      " 462895 144919        0.2324     4        0.2339        0.2285  2341796    2.32%          rho_14 D 462895 462893     27\n",
      " 478522 146507        0.2291     5        0.2339        0.2286  2400763    2.27%           rho_8 U 478522  49736     54\n",
      " 496026 150906        0.2328     8        0.2339        0.2287  2467269    2.22%          rho_14 D 496026 496025     64\n",
      " 511552 154216        0.2298     8        0.2339        0.2288  2533376    2.20%           rho_2 D 511552 511551     45\n",
      " 528319 156962        0.2288    14        0.2339        0.2288  2596772    2.17%           rho_7 U 528319 528314     32\n",
      "Elapsed time = 144.80 sec. (129962.34 ticks, tree = 45.11 MB, solutions = 3)\n",
      " 544270 159636        0.2289    11        0.2339        0.2289  2659986    2.13%          rho_12 D 544270 256807     40\n",
      " 560053 161020        0.2294    11        0.2339        0.2290  2722168    2.10%           rho_2 D 560053 235771     42\n",
      " 576652 162714        cutoff              0.2339        0.2291  2779993    2.06%          rho_13 U 576652 576651     25\n",
      " 592893 164068        0.2292    13        0.2339        0.2292  2842271    2.03%           rho_5 D 592893 263041     70\n",
      " 610145 167170        0.2319     6        0.2339        0.2292  2906646    2.00%          rho_14 U 610145 220520     53\n",
      " 626347 169460        cutoff              0.2339        0.2293  2976898    1.98%           rho_8 U 626347 389462     59\n",
      " 643810 171933        0.2322     2        0.2339        0.2293  3032900    1.96%           rho_4 D 643810 643808     28\n",
      " 659669 172280        0.2328     7        0.2339        0.2294  3096250    1.94%          rho_20 N 659669 659668     47\n",
      " 674779 175448        0.2328     3        0.2339        0.2294  3158333    1.91%           rho_4 N 674779 674778     71\n",
      " 689104 176222        0.2325     5        0.2339        0.2295  3221070    1.89%          rho_13 D 689104 689103     34\n",
      "Elapsed time = 183.06 sec. (168110.88 ticks, tree = 51.52 MB, solutions = 3)\n",
      " 704618 175589        0.2327     1        0.2339        0.2296  3282480    1.83%           rho_4 U 704618 704617     32\n",
      " 720586 175674        0.2319     7        0.2339        0.2297  3336836    1.80%          rho_14 D 720586 720585     64\n",
      " 737140 176234        0.2334     5        0.2339        0.2298  3396839    1.77%           rho_4 D 737140 737139     44\n",
      " 752310 177457        0.2320     5        0.2339        0.2298  3460583    1.75%           rho_2 D 752310 752309     18\n",
      " 767741 178812        0.2304    13        0.2339        0.2299  3517331    1.72%           rho_8 D 767741 767739     45\n",
      "\n",
      "Gomory fractional cuts applied:  1\n",
      "User cuts applied:  365\n",
      "\n",
      "Root node processing (before b&c):\n",
      "  Real time             =    0.14 sec. (1.29 ticks)\n",
      "Sequential b&c:\n",
      "  Real time             =  199.88 sec. (189704.24 ticks)\n",
      "                          ------------\n",
      "Total (root+branch&cut) =  200.02 sec. (189705.54 ticks)\n",
      "+----------------------------------------------+------------------+-----------+\n",
      "| Pr(Y = +1) = 1.0/(1.0 + exp(-(-4 + score))   |                  |           |\n",
      "| ============================================ | ================ | ========= |\n",
      "| p_arrest>=4                                  |         1 points |   + ..... |\n",
      "| p_misdemeanor>=1                             |         1 points |   + ..... |\n",
      "| p_pending_charge>=1                          |         1 points |   + ..... |\n",
      "| ============================================ | ================ | ========= |\n",
      "| ADD POINTS FROM ROWS 1 to 3                  |            SCORE |   = ..... |\n",
      "+----------------------------------------------+------------------+-----------+\n",
      "model_id, score_thresholds 0 {'rank_abs': [0]}\n",
      "get_disparity_predefined_group()\n"
     ]
    },
    {
     "name": "stderr",
     "output_type": "stream",
     "text": [
      "C:\\Users\\binha\\Documents\\Duke\\Cynthia Research\\psa-analysis - test2\\utils\\fairness_functions.py:82: RuntimeWarning:\n",
      "\n",
      "invalid value encountered in longlong_scalars\n",
      "\n",
      "C:\\Users\\binha\\Documents\\Duke\\Cynthia Research\\psa-analysis - test2\\utils\\fairness_functions.py:95: RuntimeWarning:\n",
      "\n",
      "divide by zero encountered in longlong_scalars\n",
      "\n",
      "C:\\Users\\binha\\Documents\\Duke\\Cynthia Research\\psa-analysis - test2\\utils\\fairness_functions.py:86: RuntimeWarning:\n",
      "\n",
      "invalid value encountered in longlong_scalars\n",
      "\n",
      "C:\\Users\\binha\\Documents\\Duke\\Cynthia Research\\psa-analysis - test2\\utils\\fairness_functions.py:95: RuntimeWarning:\n",
      "\n",
      "invalid value encountered in longlong_scalars\n",
      "\n"
     ]
    },
    {
     "name": "stdout",
     "output_type": "stream",
     "text": [
      "setting c0 = 0.0 to ensure that intercept is not penalized\n",
      "10/01/19 @ 03:16 PM | 901 rows in lookup table\n",
      "10/01/19 @ 03:16 PM | ------------------------------------------------------------\n",
      "10/01/19 @ 03:16 PM | runnning initialization procedure\n",
      "10/01/19 @ 03:16 PM | ------------------------------------------------------------\n",
      "10/01/19 @ 03:16 PM | CPA produced 2 cuts\n",
      "10/01/19 @ 03:16 PM | running naive rounding on 55 solutions\n",
      "10/01/19 @ 03:16 PM | best objective value: 0.2293\n",
      "10/01/19 @ 03:16 PM | rounding produced 5 integer solutions\n",
      "10/01/19 @ 03:16 PM | best objective value is 0.2378\n",
      "10/01/19 @ 03:16 PM | running sequential rounding on 55 solutions\n",
      "10/01/19 @ 03:16 PM | best objective value: 0.2293\n",
      "10/01/19 @ 03:16 PM | sequential rounding produced 5 integer solutions\n",
      "10/01/19 @ 03:16 PM | best objective value: 0.2371\n",
      "10/01/19 @ 03:16 PM | polishing 10 solutions\n",
      "10/01/19 @ 03:16 PM | best objective value: 0.2371\n",
      "10/01/19 @ 03:16 PM | polishing produced 5 integer solutions\n",
      "10/01/19 @ 03:16 PM | initialization produced 9 feasible solutions\n",
      "10/01/19 @ 03:16 PM | best objective value: 0.2371\n",
      "10/01/19 @ 03:16 PM | ------------------------------------------------------------\n",
      "10/01/19 @ 03:16 PM | completed initialization procedure\n",
      "10/01/19 @ 03:16 PM | ------------------------------------------------------------\n",
      "10/01/19 @ 03:16 PM | 901 rows in lookup table\n",
      "CPXPARAM_Read_DataCheck                          1\n",
      "CPXPARAM_Threads                                 1\n",
      "CPXPARAM_Parallel                                1\n",
      "CPXPARAM_RandomSeed                              0\n",
      "CPXPARAM_TimeLimit                               200\n",
      "CPXPARAM_MIP_Tolerances_LowerCutoff              0.22843359645286368\n",
      "CPXPARAM_MIP_Tolerances_UpperCutoff              0.23713100693222966\n"
     ]
    },
    {
     "name": "stderr",
     "output_type": "stream",
     "text": [
      "Warning: Control callbacks may disable some MIP features.\n"
     ]
    },
    {
     "name": "stdout",
     "output_type": "stream",
     "text": [
      "Lazy constraint(s) or lazy constraint callback is present.\n",
      "    Disabling dual reductions (CPX_PARAM_REDUCE) in presolve.\n",
      "    Disabling non-linear reductions (CPX_PARAM_PRELINEAR) in presolve.\n",
      "         Disabling repeat represolve because of lazy constraint/incumbent callback.\n",
      "10/01/19 @ 03:16 PM | adding 186 initial cuts\n",
      "1 of 1 MIP starts provided solutions.\n",
      "MIP start 'mip_start_0' defined initial solution with objective 0.2371.\n",
      "Tried aggregator 1 time.\n",
      "Reduced MIP has 22 rows, 44 columns, and 83 nonzeros.\n",
      "Reduced MIP has 20 binaries, 22 generals, 0 SOSs, and 0 indicators.\n",
      "Presolve time = 0.00 sec. (0.04 ticks)\n",
      "Probing time = 0.00 sec. (0.01 ticks)\n",
      "MIP emphasis: balance optimality and feasibility.\n",
      "MIP search method: traditional branch-and-cut.\n",
      "Parallel mode: none, using 1 thread.\n",
      "Root relaxation solution time = 0.00 sec. (0.03 ticks)\n",
      "\n",
      "        Nodes                                         Cuts/\n",
      "   Node  Left     Objective  IInf  Best Integer    Best Bound    ItCnt     Gap         Variable B NodeID Parent  Depth\n",
      "\n",
      "*     0+    0                            0.2371        0.2284             3.67%\n",
      "      0     0        0.2284     1        0.2371        0.2284        1    3.67%\n",
      "      0     0        0.2284     1        0.2371      Fract: 2        2    3.67%\n",
      "      0     0        0.2284     2        0.2371    MIRcuts: 1        3    3.67%\n",
      "      0     2        0.2284     6        0.2371        0.2284        3    3.67%                        0             0\n",
      "Elapsed time = 0.11 sec. (1.52 ticks, tree = 0.01 MB, solutions = 1)\n",
      "*   230+   70                            0.2363        0.2284             3.32%\n",
      "*   340+  103                            0.2349        0.2284             2.76%\n",
      "   3364   782        cutoff              0.2349        0.2284     9887    2.76%          rho_11 U   3364   3363     64\n",
      "   6286  1530        0.2310     8        0.2349        0.2284    19659    2.76%           rho_0 U   6286   6285     46\n",
      "*  6613  1703      integral     0        0.2349        0.2284    21473    2.76%\n",
      "   8290  2695        0.2344     0        0.2349        0.2284    32798    2.76%           rho_6 D   8290   8289     18\n",
      "  10259  3554        0.2284     4        0.2349        0.2284    41828    2.76%           rho_7 U  10259  10257     76\n",
      "* 12084  4315      integral     0        0.2349        0.2284    51273    2.75%\n",
      "  12088  4317        cutoff              0.2349        0.2284    51311    2.75%           rho_3 U  12088  12087     25\n",
      "  13860  4918        0.2315     8        0.2349        0.2284    60930    2.75%           rho_2 D  13860  13858     31\n",
      "  15396  5518        0.2284     7        0.2349        0.2284    70423    2.75%           rho_7 D  15396  15395     57\n",
      "* 16291  5975      integral     0        0.2347        0.2284    75650    2.69%\n",
      "* 16690  6150      integral     0        0.2346        0.2284    78244    2.61%\n",
      "  16895  6234        cutoff              0.2346        0.2284    79376    2.61%          rho_11 U  16895  16880     86\n",
      "  18455  6875        0.2284     7        0.2346        0.2284    88168    2.61%          rho_11 D  18455  18454     57\n",
      "  24227  9059        cutoff              0.2346        0.2284   121033    2.61%          rho_19 U  24227  24225     65\n",
      "Elapsed time = 4.50 sec. (3101.59 ticks, tree = 2.48 MB, solutions = 7)\n",
      "  29024 10875        0.2286     8        0.2346        0.2284   149536    2.61%          rho_20 D  29024  29023     67\n",
      "  34196 12569        0.2305     7        0.2346        0.2284   176347    2.61%           rho_2 D  34196  34194     37\n",
      "* 38000+13805                            0.2345        0.2284             2.61%\n",
      "  39337 14324        0.2289     4        0.2345        0.2284   201913    2.61%           rho_6 N  39337   9533     76\n",
      "  44348 16166        0.2328     5        0.2345        0.2284   228775    2.61%          rho_20 D  44348  44346     71\n",
      "  49088 19045        0.2284     6        0.2345        0.2284   253757    2.61%           rho_7 U  49088  49086     47\n",
      "  53407 21152        cutoff              0.2345        0.2284   279259    2.61%           rho_0 U  53407  53406     61\n",
      "  58253 22947        0.2318     6        0.2345        0.2284   304286    2.61%          rho_19 D  58253  58252     62\n",
      "  62680 25028        0.2310     8        0.2345        0.2284   333553    2.61%           rho_0 U  62680  62679     78\n",
      "  66948 27266        0.2322     4        0.2345        0.2284   362908    2.61%          rho_20 D  66948  66946     44\n",
      "  71426 29137        0.2325     5        0.2345        0.2284   388814    2.61%          rho_20 N  71426  71425     58\n",
      "Elapsed time = 14.78 sec. (12639.76 ticks, tree = 7.62 MB, solutions = 8)\n",
      "  75602 30860        0.2301    10        0.2345        0.2284   413970    2.61%          rho_11 D  75602  75601     52\n",
      "  79661 32568        0.2313     9        0.2345        0.2284   438105    2.61%           rho_8 D  79661  79659     19\n",
      "* 83097 33859      integral     0        0.2345        0.2284   457455    2.61%\n",
      "  83770 34055        0.2293     9        0.2345        0.2284   460632    2.61%           rho_8 N  83770  19200     89\n",
      "  88030 35535        0.2309    10        0.2345        0.2284   482518    2.61%           rho_6 D  88030  88028     36\n",
      "  92190 37125        0.2331     5        0.2345        0.2284   505471    2.61%           rho_8 D  92190  92189     66\n",
      "  96134 38611        0.2295     9        0.2345        0.2284   529551    2.61%           rho_6 D  96134  96133     56\n",
      " 100259 40142        0.2284     7        0.2345        0.2284   551729    2.61%           rho_0 D 100259 100244     59\n",
      " 104274 41703        0.2316     8        0.2345        0.2284   574020    2.61%           rho_6 D 104274 104272     88\n",
      "*107000+42670                            0.2345        0.2284             2.61%\n",
      " 108276 43169        0.2284    12        0.2345        0.2284   596741    2.61%           rho_7 D 108276 108275     73\n",
      " 112306 44579        0.2306     4        0.2345        0.2284   619050    2.61%           rho_2 D 112306 112304     32\n",
      "Elapsed time = 24.92 sec. (22177.98 ticks, tree = 12.59 MB, solutions = 10)\n",
      " 116159 46515        0.2310     8        0.2345        0.2284   644149    2.61%           rho_0 U 116159 116158     68\n",
      " 120062 48210        0.2284     7        0.2345        0.2284   668592    2.61%           rho_7 U 120062 120060     62\n",
      " 123946 49741        0.2339     5        0.2345        0.2284   691645    2.61%          rho_14 N 123946 123945     34\n",
      " 127657 51811        0.2284     8        0.2345        0.2284   714661    2.61%           rho_7 U 127657 127655     86\n",
      " 131487 53332        0.2304     8        0.2345        0.2284   736435    2.61%           rho_6 D 131487 131486     55\n",
      " 135570 54815        0.2309     7        0.2345        0.2284   757446    2.61%          rho_12 D 135570 135568     48\n",
      " 139562 56234        0.2298    14        0.2345        0.2284   778755    2.61%          rho_18 D 139562 139561     14\n",
      " 143515 57903        0.2284     7        0.2345        0.2284   800806    2.61%           rho_7 U 143515 143513     38\n",
      " 147501 59741        0.2336     5        0.2345        0.2284   823232    2.61%          rho_19 D 147501 147500     96\n",
      " 151334 61272        0.2284     9        0.2345        0.2284   845044    2.61%          rho_10 D 151334 151333     43\n",
      "Elapsed time = 34.25 sec. (31718.00 ticks, tree = 16.37 MB, solutions = 10)\n",
      " 155148 62697        cutoff              0.2345        0.2284   867127    2.61%          rho_14 D 155148 155147     65\n",
      " 159020 64647        0.2303     9        0.2345        0.2284   889518    2.61%           rho_7 D 159020 159019     43\n",
      " 162809 66056        0.2311     3        0.2345        0.2284   911493    2.61%          rho_11 N 162809 158945     50\n",
      " 166720 67364        0.2298     8        0.2345        0.2284   934551    2.61%           rho_3 D 166720 166719     31\n",
      " 170591 68941        0.2309     5        0.2345        0.2284   956509    2.61%           rho_3 D 170591 170590     50\n",
      " 174377 70322        0.2305    10        0.2345        0.2284   979134    2.61%           rho_0 U 174377 174376     69\n",
      " 177980 71693        0.2307    11        0.2345        0.2284  1003785    2.61%           rho_2 D 177980 177979     49\n",
      " 181780 73137        0.2297     8        0.2345        0.2284  1026230    2.61%           rho_6 D 181780 181779     53\n",
      " 185465 74587        0.2328     7        0.2345        0.2284  1048741    2.61%           rho_3 N 185465 185464     82\n",
      " 189007 76129        0.2301     7        0.2345        0.2284  1072076    2.61%           rho_3 D 189007 189005     43\n",
      "Elapsed time = 43.09 sec. (41257.37 ticks, tree = 22.70 MB, solutions = 10)\n",
      " 192512 77717        0.2284     9        0.2345        0.2284  1095343    2.61%           rho_7 U 192512 192510     51\n",
      " 195875 79354        cutoff              0.2345        0.2284  1119483    2.61%           rho_8 U 195875 195874     23\n",
      " 199519 80703        0.2284     8        0.2345        0.2284  1140984    2.61%           rho_6 N 199519 178805     43\n",
      " 203099 82032        0.2343     4        0.2345        0.2284  1162797    2.61%           rho_3 N 203099 203098     83\n",
      " 206628 83313        0.2284     9        0.2345        0.2284  1184872    2.61%          rho_10 D 206628 206627     60\n",
      " 210350 84574        0.2284    11        0.2345        0.2284  1205854    2.61%           rho_6 D 210350 210349     52\n",
      " 214204 85814        0.2305    14        0.2345        0.2284  1226516    2.61%          rho_10 N 214204  65179     47\n",
      " 217886 87151        0.2318    11        0.2345        0.2284  1247829    2.61%          rho_10 N 217886 217884     34\n",
      " 221700 89350        0.2284    10        0.2345        0.2284  1269679    2.61%           rho_7 D 221700 221699     54\n",
      " 225097 91054        0.2311     3        0.2345        0.2284  1291029    2.61%          rho_11 N 225097 225002     70\n",
      "Elapsed time = 51.47 sec. (50796.50 ticks, tree = 26.16 MB, solutions = 10)\n",
      " 228855 92495        0.2311     9        0.2345        0.2284  1313425    2.61%          rho_19 N 228855 228848     42\n",
      " 232010 94614        0.2313     5        0.2345        0.2284  1336198    2.61%           rho_0 U 232010 232009     32\n",
      " 235604 96050        0.2321     6        0.2345        0.2284  1356148    2.61%          rho_20 D 235604 235602     52\n",
      " 239517 97593        0.2287     7        0.2345        0.2284  1377876    2.61%          rho_11 U 239517 239505     86\n",
      " 243302 99165        0.2337     6        0.2345        0.2284  1399867    2.61%          rho_12 U 243302 243301     23\n",
      " 246799 100738        0.2284     7        0.2345        0.2284  1422854    2.61%           rho_9 U 246799 246678     25\n",
      " 250532 102082        0.2284    11        0.2345        0.2284  1443419    2.61%          rho_19 D 250532 250531     51\n",
      " 254222 103338        0.2307     4        0.2345        0.2284  1463746    2.61%           rho_3 D 254222 254220     80\n",
      " 257901 104661        0.2297     8        0.2345        0.2284  1483892    2.61%           rho_0 U 257901 257900     21\n",
      " 261410 106423        cutoff              0.2345        0.2284  1506674    2.61%           rho_8 U 261410 261409     51\n",
      "Elapsed time = 60.30 sec. (60335.64 ticks, tree = 29.74 MB, solutions = 10)\n",
      " 265253 107786        0.2329    11        0.2345        0.2284  1525357    2.61%           rho_8 D 265253 265251     88\n",
      " 268949 109307        0.2284     7        0.2345        0.2284  1545588    2.61%           rho_6 N 268949 268782     27\n",
      " 273100 110864        0.2319     6        0.2345        0.2284  1563273    2.61%           rho_3 D 273100 273099     27\n",
      " 276859 112213        0.2284     8        0.2345        0.2284  1583369    2.61%           rho_6 U 276859 205150     61\n",
      " 280603 113500        cutoff              0.2345        0.2284  1603972    2.61%          rho_19 U 280603 280602     90\n",
      " 284210 114922        0.2303     9        0.2345        0.2284  1624171    2.61%           rho_0 U 284210 284209     23\n",
      " 287713 116612        0.2310     9        0.2345        0.2284  1645792    2.61%          rho_19 N 287713 287711     74\n",
      " 291038 118159        0.2293    13        0.2345        0.2284  1667816    2.61%          rho_12 U 291038 291014     51\n",
      " 294545 119580        0.2304     6        0.2345        0.2284  1688728    2.61%          rho_19 D 294545 294544     45\n",
      " 297997 120924        0.2290    11        0.2345        0.2284  1709683    2.61%          rho_11 D 297997 297996     70\n",
      "Elapsed time = 68.56 sec. (69874.09 ticks, tree = 33.12 MB, solutions = 10)\n",
      " 301703 122270        0.2284     8        0.2345        0.2284  1729812    2.61%          rho_19 D 301703 301702     42\n",
      " 304809 123948        0.2284    13        0.2345        0.2284  1754862    2.61%           rho_7 D 304809 304808     44\n",
      " 307549 125926        0.2284    10        0.2345        0.2284  1779095    2.61%           rho_0 D 307549 307547     75\n",
      " 310745 127458        0.2313     9        0.2345        0.2284  1798644    2.61%           rho_8 D 310745 310744     59\n",
      " 314016 128916        0.2298     9        0.2345        0.2284  1818952    2.61%           rho_3 D 314016 314015     70\n",
      " 317479 130688        cutoff              0.2345        0.2284  1843376    2.61%          rho_14 U 317479 317478     90\n",
      " 321180 132085        0.2316     5        0.2345        0.2284  1864746    2.61%          rho_14 D 321180 321179     55\n",
      " 324515 133601        0.2324     4        0.2345        0.2284  1889650    2.61%           rho_2 U 324515 324514     64\n",
      " 327888 134866        0.2299    10        0.2345        0.2284  1913258    2.61%          rho_11 U 327888 150163     21\n",
      " 331587 136048        0.2316     6        0.2345        0.2284  1933356    2.61%           rho_2 D 331587 331585     35\n",
      "Elapsed time = 76.59 sec. (79412.06 ticks, tree = 39.61 MB, solutions = 10)\n",
      " 335177 137240        0.2320    10        0.2345        0.2284  1952028    2.61%          rho_14 D 335177 335175     68\n",
      " 338830 138566        0.2328     7        0.2345        0.2284  1970902    2.61%           rho_3 N 338830 338829     55\n",
      " 342370 139894        0.2335     5        0.2345        0.2284  1991252    2.61%          rho_14 D 342370 342369     68\n",
      " 345910 141127        0.2310     8        0.2345        0.2284  2011594    2.61%           rho_3 D 345910 345909     50\n",
      " 349535 142306        0.2295     7        0.2345        0.2284  2031545    2.61%          rho_19 D 349535 349534     38\n",
      " 353190 143604        0.2339     6        0.2345        0.2284  2051216    2.61%          rho_12 N 353190 353189     71\n",
      " 356802 144849        cutoff              0.2345        0.2284  2070376    2.61%           rho_3 U 356802 356800     76\n",
      " 360245 146238        cutoff              0.2345        0.2284  2090442    2.61%           rho_3 U 360245 360243     76\n",
      " 364020 147659        0.2296    10        0.2345        0.2284  2109479    2.61%           rho_3 D 364020 364019     53\n",
      " 378474 152884        cutoff              0.2345        0.2284  2188309    2.61%          rho_20 U 378474 378473     69\n",
      "Elapsed time = 86.72 sec. (91812.38 ticks, tree = 43.59 MB, solutions = 10)\n",
      " 392484 158123        0.2284    10        0.2345        0.2284  2271753    2.61%          rho_11 U 392484 392473     68\n",
      " 405824 164223        0.2314     6        0.2345        0.2284  2359024    2.61%          rho_12 D 405824 405822     47\n",
      " 419527 170189        0.2317     5        0.2345        0.2284  2441567    2.61%          rho_19 D 419527 419526     44\n",
      " 433044 175936        0.2285    17        0.2345        0.2284  2527473    2.61%           rho_7 D 433044 433043     44\n",
      " 445229 181573        0.2289    14        0.2345        0.2284  2621367    2.61%           rho_7 D 445229 445228     25\n",
      " 457800 187773        0.2302    11        0.2345        0.2284  2709835    2.61%          rho_19 D 457800 457799     82\n",
      " 470908 193793        0.2321     6        0.2345        0.2284  2798423    2.61%          rho_14 D 470908 470906     32\n",
      " 484167 200077        0.2313    13        0.2345        0.2285  2879400    2.56%          rho_10 U 484167 484166     43\n",
      " 500103 207353        0.2335     9        0.2345        0.2286  2946274    2.54%          rho_12 N 500103 500102     55\n",
      " 516800 213264        0.2323     9        0.2345        0.2287  3018539    2.51%          rho_19 D 516800 516799     53\n",
      "Elapsed time = 117.47 sec. (129961.94 ticks, tree = 61.40 MB, solutions = 10)\n",
      " 532725 217578        cutoff              0.2345        0.2287  3087372    2.48%          rho_20 U 532725 532724     90\n",
      " 549839 223524        0.2318     9        0.2345        0.2289  3148143    2.42%           rho_2 D 549839 549838     63\n",
      " 568062 226206        cutoff              0.2345        0.2289  3208936    2.40%          rho_14 U 568062 568061     77\n",
      " 584641 230699        0.2322     8        0.2345        0.2289  3266940    2.39%          rho_12 D 584641 584639     67\n",
      " 600960 235209        0.2306    12        0.2345        0.2290  3325284    2.37%           rho_9 U 600960 444801     44\n",
      " 617136 240797        0.2328     6        0.2345        0.2290  3389651    2.35%          rho_10 D 617136 617134     32\n",
      " 634400 245586        0.2345     3        0.2345        0.2291  3447578    2.34%          rho_13 D 634400 634399     58\n",
      " 650696 251516        0.2303    11        0.2345        0.2291  3509262    2.33%           rho_6 U 650696 475142     59\n",
      " 665766 255147        0.2316     7        0.2345        0.2291  3574807    2.31%           rho_2 D 665766 665765     71\n",
      " 681812 260561        0.2336     7        0.2345        0.2292  3635254    2.27%           rho_2 D 681812 681811     26\n",
      "Elapsed time = 147.80 sec. (168111.35 ticks, tree = 75.02 MB, solutions = 10)\n",
      " 697272 263088        0.2338     4        0.2345        0.2293  3700157    2.25%          rho_10 U 697272 269708     55\n",
      " 714228 268001        0.2308     4        0.2345        0.2293  3761455    2.22%           rho_3 N 714228 496399     67\n",
      " 730887 270834        0.2315     6        0.2345        0.2294  3815914    2.19%           rho_8 D 730887 730885     34\n",
      " 747070 274572        0.2334     8        0.2345        0.2295  3873974    2.15%           rho_2 D 747070 747069     56\n",
      " 763492 276674        0.2305     6        0.2345        0.2295  3936218    2.13%           rho_3 U 763492 472969     69\n",
      " 779383 278670        cutoff              0.2345        0.2296  3997622    2.12%          rho_14 D 779383 779382     89\n",
      " 794160 280109        0.2343    11        0.2345        0.2296  4059228    2.10%           rho_3 U 794160 794158     90\n",
      " 810733 284277        cutoff              0.2345        0.2296  4116457    2.09%           rho_8 U 810733 810732     54\n",
      " 827188 287481        0.2300    12        0.2345        0.2297  4176425    2.06%           rho_6 D 827188 397515     47\n",
      " 843782 291426        cutoff              0.2345        0.2297  4236368    2.05%          rho_14 U 843782 843781     31\n",
      "Elapsed time = 180.34 sec. (206259.95 ticks, tree = 85.32 MB, solutions = 10)\n",
      " 859844 295017        0.2320     6        0.2345        0.2298  4293291    2.04%          rho_12 U 859844 859843     44\n",
      " 876012 299536        0.2298     8        0.2345        0.2298  4353421    2.01%           rho_7 U 876012 876010     78\n",
      " 890396 300850        0.2319     7        0.2345        0.2299  4416914    1.99%          rho_14 D 890396 890395     60\n",
      " 905567 303357        0.2301     7        0.2345        0.2299  4471971    1.98%          rho_10 D 905567 905565     25\n",
      " 921800 303888        0.2319     9        0.2345        0.2299  4528058    1.97%          rho_11 N 921800 921799     63\n",
      "\n",
      "Gomory fractional cuts applied:  1\n",
      "User cuts applied:  361\n",
      "\n",
      "Root node processing (before b&c):\n",
      "  Real time             =    0.11 sec. (1.55 ticks)\n",
      "Sequential b&c:\n",
      "  Real time             =  199.91 sec. (228727.39 ticks)\n",
      "                          ------------\n",
      "Total (root+branch&cut) =  200.01 sec. (228728.94 ticks)\n",
      "+----------------------------------------------+------------------+-----------+\n",
      "| Pr(Y = +1) = 1.0/(1.0 + exp(-(-5 + score))   |                  |           |\n",
      "| ============================================ | ================ | ========= |\n",
      "| p_arrest>=1                                  |         1 points |   + ..... |\n",
      "| p_arrest>=2                                  |         1 points |   + ..... |\n",
      "| p_arrest>=5                                  |         1 points |   + ..... |\n",
      "| p_misdemeanor>=1                             |         1 points |   + ..... |\n",
      "| ============================================ | ================ | ========= |\n",
      "| ADD POINTS FROM ROWS 1 to 4                  |            SCORE |   = ..... |\n",
      "+----------------------------------------------+------------------+-----------+\n",
      "model_id, score_thresholds 0 {'rank_abs': [0]}\n",
      "get_disparity_predefined_group()\n"
     ]
    },
    {
     "name": "stderr",
     "output_type": "stream",
     "text": [
      "C:\\Users\\binha\\Documents\\Duke\\Cynthia Research\\psa-analysis - test2\\utils\\fairness_functions.py:82: RuntimeWarning:\n",
      "\n",
      "invalid value encountered in longlong_scalars\n",
      "\n",
      "C:\\Users\\binha\\Documents\\Duke\\Cynthia Research\\psa-analysis - test2\\utils\\fairness_functions.py:95: RuntimeWarning:\n",
      "\n",
      "divide by zero encountered in longlong_scalars\n",
      "\n",
      "C:\\Users\\binha\\Documents\\Duke\\Cynthia Research\\psa-analysis - test2\\utils\\fairness_functions.py:86: RuntimeWarning:\n",
      "\n",
      "invalid value encountered in longlong_scalars\n",
      "\n",
      "C:\\Users\\binha\\Documents\\Duke\\Cynthia Research\\psa-analysis - test2\\utils\\fairness_functions.py:95: RuntimeWarning:\n",
      "\n",
      "invalid value encountered in longlong_scalars\n",
      "\n"
     ]
    },
    {
     "name": "stdout",
     "output_type": "stream",
     "text": [
      "setting c0 = 0.0 to ensure that intercept is not penalized\n",
      "10/01/19 @ 03:20 PM | 901 rows in lookup table\n",
      "10/01/19 @ 03:20 PM | ------------------------------------------------------------\n",
      "10/01/19 @ 03:20 PM | runnning initialization procedure\n",
      "10/01/19 @ 03:20 PM | ------------------------------------------------------------\n",
      "10/01/19 @ 03:20 PM | CPA produced 2 cuts\n",
      "10/01/19 @ 03:20 PM | running naive rounding on 53 solutions\n",
      "10/01/19 @ 03:20 PM | best objective value: 0.2290\n",
      "10/01/19 @ 03:20 PM | rounding produced 5 integer solutions\n",
      "10/01/19 @ 03:20 PM | best objective value is 0.2336\n",
      "10/01/19 @ 03:20 PM | running sequential rounding on 53 solutions\n",
      "10/01/19 @ 03:20 PM | best objective value: 0.2290\n",
      "10/01/19 @ 03:20 PM | sequential rounding produced 6 integer solutions\n",
      "10/01/19 @ 03:20 PM | best objective value: 0.2336\n",
      "10/01/19 @ 03:20 PM | polishing 11 solutions\n",
      "10/01/19 @ 03:20 PM | best objective value: 0.2336\n",
      "10/01/19 @ 03:20 PM | polishing produced 5 integer solutions\n",
      "10/01/19 @ 03:20 PM | initialization produced 8 feasible solutions\n",
      "10/01/19 @ 03:20 PM | best objective value: 0.2336\n",
      "10/01/19 @ 03:20 PM | ------------------------------------------------------------\n",
      "10/01/19 @ 03:20 PM | completed initialization procedure\n",
      "10/01/19 @ 03:20 PM | ------------------------------------------------------------\n",
      "10/01/19 @ 03:20 PM | 901 rows in lookup table\n",
      "CPXPARAM_Read_DataCheck                          1\n",
      "CPXPARAM_Threads                                 1\n",
      "CPXPARAM_Parallel                                1\n",
      "CPXPARAM_RandomSeed                              0\n",
      "CPXPARAM_TimeLimit                               200\n",
      "CPXPARAM_MIP_Tolerances_LowerCutoff              0.22751129204300005\n",
      "CPXPARAM_MIP_Tolerances_UpperCutoff              0.23359262459342553\n"
     ]
    },
    {
     "name": "stderr",
     "output_type": "stream",
     "text": [
      "Warning: Control callbacks may disable some MIP features.\n"
     ]
    },
    {
     "name": "stdout",
     "output_type": "stream",
     "text": [
      "Lazy constraint(s) or lazy constraint callback is present.\n",
      "    Disabling dual reductions (CPX_PARAM_REDUCE) in presolve.\n",
      "    Disabling non-linear reductions (CPX_PARAM_PRELINEAR) in presolve.\n",
      "         Disabling repeat represolve because of lazy constraint/incumbent callback.\n",
      "10/01/19 @ 03:20 PM | adding 216 initial cuts\n",
      "1 of 1 MIP starts provided solutions.\n",
      "MIP start 'mip_start_0' defined initial solution with objective 0.2336.\n",
      "Tried aggregator 1 time.\n",
      "Reduced MIP has 22 rows, 44 columns, and 83 nonzeros.\n",
      "Reduced MIP has 20 binaries, 22 generals, 0 SOSs, and 0 indicators.\n",
      "Presolve time = 0.00 sec. (0.04 ticks)\n",
      "Probing time = 0.00 sec. (0.01 ticks)\n",
      "MIP emphasis: balance optimality and feasibility.\n",
      "MIP search method: traditional branch-and-cut.\n",
      "Parallel mode: none, using 1 thread.\n",
      "Root relaxation solution time = 0.00 sec. (0.03 ticks)\n",
      "\n",
      "        Nodes                                         Cuts/\n",
      "   Node  Left     Objective  IInf  Best Integer    Best Bound    ItCnt     Gap         Variable B NodeID Parent  Depth\n",
      "\n",
      "*     0+    0                            0.2336        0.2275             2.61%\n",
      "      0     0        0.2275     1        0.2336        0.2275        1    2.60%\n",
      "      0     0        0.2275     1        0.2336      Fract: 2        2    2.60%\n",
      "      0     0        0.2275     1        0.2336       Cuts: 3        6    2.60%\n",
      "      0     2        0.2275     2        0.2336        0.2275        6    2.60%                        0             0\n",
      "Elapsed time = 0.09 sec. (1.39 ticks, tree = 0.01 MB, solutions = 1)\n",
      "*   490+  194                            0.2336        0.2275             2.60%\n",
      "*  1490+  547                            0.2336        0.2275             2.60%\n",
      "   3290  1406        0.2279     9        0.2336        0.2275    12405    2.60%           rho_7 D   3290   3289     29\n",
      "   5120  2366        0.2294     8        0.2336        0.2275    23943    2.60%           rho_0 U   5120   5119     39\n",
      "   6640  3130        0.2309     0        0.2336        0.2275    34128    2.60%          rho_19 D   6640   6639     20\n",
      "   7970  3898        0.2275     5        0.2336        0.2275    43448    2.60%           rho_7 U   7970   7968     66\n",
      "   9204  4721        0.2275     6        0.2336        0.2275    53039    2.60%          rho_12 D   9204   4790     13\n",
      "  10388  5146        0.2286    11        0.2336        0.2275    60503    2.60%           rho_7 D  10388   9295     35\n",
      "  11438  5715        0.2276    13        0.2336        0.2275    68971    2.60%           rho_6 D  11438  11437     42\n",
      "  12512  6272        0.2291     9        0.2336        0.2275    76725    2.60%          rho_14 D  12512  12511     56\n",
      "  13603  6821        cutoff              0.2336        0.2275    85020    2.60%          rho_10 U  13603  13601     19\n",
      "  18139  8951        cutoff              0.2336        0.2275   117302    2.60%           rho_0 D  18139  18138     61\n",
      "Elapsed time = 4.19 sec. (3102.01 ticks, tree = 2.49 MB, solutions = 3)\n",
      "  22300 10575        0.2335     3        0.2336        0.2275   145368    2.60%           rho_3 N  22300  22299     26\n",
      "  26665 12288        0.2275     7        0.2336        0.2275   173569    2.60%           rho_7 U  26665  26656     28\n",
      "  30520 14379        0.2275     6        0.2336        0.2275   204122    2.60%           rho_0 D  30520  30518     52\n",
      "  33940 16201        0.2291     6        0.2336        0.2275   228206    2.60%           rho_0 U  33940  33939     61\n",
      "  37286 17873        0.2327     6        0.2336        0.2275   253657    2.60%          rho_14 D  37286  37285     45\n",
      "  41474 19456        0.2275     8        0.2336        0.2275   280611    2.60%           rho_0 D  41474  41461     83\n",
      "  45649 21122        0.2275     7        0.2336        0.2275   306052    2.60%           rho_9 N  45649   7638     53\n",
      "  49463 23308        0.2315     7        0.2336        0.2275   333227    2.60%           rho_8 D  49463  49462     28\n",
      "  53033 25019        0.2306     5        0.2336        0.2275   356790    2.60%           rho_8 D  53033  53031     70\n",
      "  57068 26614        0.2298     7        0.2336        0.2275   381290    2.60%           rho_6 U  57068  57067     67\n",
      "Elapsed time = 14.77 sec. (12640.26 ticks, tree = 7.09 MB, solutions = 3)\n",
      "  61118 28140        0.2331     3        0.2336        0.2275   404924    2.60%          rho_14 N  61118  61116     33\n",
      "  65237 29575        cutoff              0.2336        0.2275   428235    2.60%          rho_20 D  65237  65235     81\n",
      "  69050 31288        0.2282     7        0.2336        0.2275   453145    2.60%           rho_6 D  69050  69049     58\n",
      "  73025 32714        0.2319     7        0.2336        0.2275   476335    2.60%          rho_12 N  73025  73024     60\n",
      "  76910 34164        0.2295     7        0.2336        0.2275   499375    2.60%           rho_6 D  76910  76909     64\n",
      "  80670 35575        0.2275    11        0.2336        0.2275   523013    2.60%           rho_0 D  80670  80634     53\n",
      "  84534 36966        0.2318     8        0.2336        0.2275   546367    2.60%           rho_6 U  84534  34827     47\n",
      "  88428 38329        0.2328     1        0.2336        0.2275   569698    2.60%           rho_3 U  88428  88427     37\n",
      "  92350 39726        0.2306     7        0.2336        0.2275   593032    2.60%           rho_6 D  92350  92349     58\n",
      "  96207 40838        cutoff              0.2336        0.2275   614867    2.60%          rho_10 U  96207  96206     28\n",
      "Elapsed time = 23.45 sec. (22180.19 ticks, tree = 11.69 MB, solutions = 3)\n",
      "  99798 42277        0.2276    12        0.2336        0.2275   638216    2.60%           rho_6 D  99798  99797     60\n",
      " 103484 43607        0.2282    13        0.2336        0.2275   661175    2.60%           rho_7 D 103484 103483     73\n",
      " 107238 45041        cutoff              0.2336        0.2275   684286    2.60%          rho_19 U 107238 107237     71\n",
      " 110993 46471        0.2306     7        0.2336        0.2275   707135    2.60%           rho_3 N 110993 110992     57\n",
      " 114911 47636        0.2275     7        0.2336        0.2275   727931    2.60%           rho_6 N 114911  69169     84\n",
      " 118735 48776        0.2325    10        0.2336        0.2275   748628    2.60%           rho_0 D 118735 118733     49\n",
      " 122451 50174        0.2329     5        0.2336        0.2275   771164    2.60%          rho_20 D 122451 122449     22\n",
      " 126103 51973        0.2297     9        0.2336        0.2275   795204    2.60%           rho_3 U 126103 126102     85\n",
      " 129926 53482        0.2334     5        0.2336        0.2275   818043    2.60%           rho_3 N 129926 129925     75\n",
      " 133788 54728        0.2333     3        0.2336        0.2275   839535    2.60%           rho_6 D 133788 133787     74\n",
      "Elapsed time = 32.09 sec. (31718.25 ticks, tree = 14.91 MB, solutions = 3)\n",
      " 137276 56546        0.2278    11        0.2336        0.2275   865130    2.60%          rho_12 D 137276 137130     89\n",
      " 140938 58261        0.2275     8        0.2336        0.2275   889191    2.60%           rho_0 D 140938 140932     84\n",
      " 144548 59788        0.2313     6        0.2336        0.2275   912676    2.60%           rho_8 D 144548 144546     51\n",
      " 148626 61312        0.2329     5        0.2336        0.2275   933318    2.60%          rho_20 D 148626 148624     58\n",
      " 152410 62783        0.2281     9        0.2336        0.2276   955866    2.58%           rho_0 D 152410 152408     36\n",
      " 156388 63876        cutoff              0.2336        0.2277   975890    2.51%          rho_10 D 156388 156387     41\n",
      " 160045 65045        0.2335     6        0.2336        0.2278   995279    2.46%          rho_14 N 160045 160043     57\n",
      " 164110 66287        0.2297     9        0.2336        0.2279  1015283    2.46%          rho_10 D 164110 164109     47\n",
      " 168690 68118        0.2288    11        0.2336        0.2279  1033852    2.46%           rho_7 D 168690 168689     61\n",
      " 172400 69015        0.2336     8        0.2336        0.2279  1052143    2.45%          rho_10 N 172400 172399     75\n",
      "Elapsed time = 40.39 sec. (41256.94 ticks, tree = 21.03 MB, solutions = 3)\n",
      " 176728 70460        0.2331     8        0.2336        0.2280  1068220    2.41%          rho_20 N 176728 176727     47\n",
      " 181152 72021        0.2280     9        0.2336        0.2280  1083909    2.39%           rho_7 U 181152 181150     54\n",
      " 184873 72957        0.2326    15        0.2336        0.2280  1102647    2.38%           rho_0 D 184873 184872     31\n",
      " 188950 74260        0.2322     6        0.2336        0.2280  1119632    2.37%          rho_20 D 188950 188948     88\n",
      " 193486 75664        0.2285     3        0.2336        0.2281  1136246    2.35%           rho_6 U 193486  77328     63\n",
      " 197246 75882        0.2293    10        0.2336        0.2281  1153763    2.35%           rho_3 D 197246 197245     46\n",
      " 201324 77207        0.2281    11        0.2336        0.2281  1173945    2.33%           rho_0 D 201324 201322     60\n",
      " 205785 78754        cutoff              0.2336        0.2282  1189737    2.31%           rho_0 U 205785 205784     74\n",
      " 210642 80482        0.2297     4        0.2336        0.2282  1204266    2.31%           rho_3 D 210642 210640     73\n",
      " 215449 82622        0.2283    10        0.2336        0.2283  1217570    2.28%           rho_6 D 215449 103376     82\n",
      "Elapsed time = 48.25 sec. (50794.84 ticks, tree = 24.17 MB, solutions = 3)\n",
      " 219839 83945        cutoff              0.2336        0.2283  1235597    2.27%          rho_14 U 219839 118931     78\n",
      " 223907 84507        cutoff              0.2336        0.2283  1251639    2.25%          rho_13 U 223907 223905     46\n",
      " 228380 85741        0.2320     4        0.2336        0.2284  1267567    2.24%          rho_14 D 228380 228379     89\n",
      " 232873 86065        0.2284     8        0.2336        0.2284  1282604    2.23%          rho_11 D 232873 200125     50\n",
      " 236965 86745        0.2311     7        0.2336        0.2284  1301281    2.21%          rho_12 D 236965 236962     87\n",
      " 241556 87499        0.2335     4        0.2336        0.2285  1318094    2.20%          rho_14 D 241556 241554     60\n",
      " 246436 88616        0.2286     6        0.2336        0.2285  1334310    2.19%           rho_6 N 246436 232751     63\n",
      " 250703 88803        0.2293     5        0.2336        0.2285  1351922    2.18%           rho_3 N 250703 238650     28\n",
      " 254381 89242        0.2311     2        0.2336        0.2285  1368746    2.16%           rho_8 U 254381  28310     37\n",
      " 258606 90082        0.2335     5        0.2336        0.2285  1383978    2.16%           rho_2 D 258606 258604     76\n",
      "Elapsed time = 56.00 sec. (60332.92 ticks, tree = 25.90 MB, solutions = 3)\n",
      " 263370 91332        0.2311    11        0.2336        0.2286  1399419    2.15%           rho_6 N 263370 263369     31\n",
      " 267365 91811        cutoff              0.2336        0.2286  1417957    2.14%           rho_0 D 267365 267364     61\n",
      " 271640 91960        cutoff              0.2336        0.2286  1434957    2.12%           rho_8 U 271640 271638     71\n",
      " 276127 92820        0.2289     7        0.2336        0.2287  1450197    2.10%           rho_3 D 276127 276126     67\n",
      " 280367 93067        cutoff              0.2336        0.2287  1467386    2.07%           rho_5 D 280367 280366     75\n",
      " 285401 94827        0.2288     6        0.2336        0.2288  1483701    2.07%           rho_7 U 285401 285399     54\n",
      " 289761 95814        0.2295    10        0.2336        0.2288  1499739    2.06%           rho_6 N 289761 104456     50\n",
      " 294062 96615        cutoff              0.2336        0.2288  1517122    2.03%           rho_8 U 294062 294060     83\n",
      " 298504 97170        cutoff              0.2336        0.2288  1532770    2.03%          rho_19 D 298504 298502     67\n",
      " 302536 98317        cutoff              0.2336        0.2289  1551286    2.02%          rho_10 U 302536 127695     44\n",
      "Elapsed time = 65.61 sec. (69871.63 ticks, tree = 27.81 MB, solutions = 3)\n",
      " 306622 99060        0.2301     1        0.2336        0.2289  1568406    1.99%           rho_2 N 306622 155290     56\n",
      " 310743 100223        0.2292    11        0.2336        0.2290  1584036    1.98%           rho_6 N 310743  81284     32\n",
      " 314495 100125        0.2332     8        0.2336        0.2290  1599635    1.98%          rho_14 D 314495 314494     35\n",
      " 318192 100067        0.2290    12        0.2336        0.2290  1618067    1.97%           rho_0 U 318192 318161     51\n",
      " 322433 100736        cutoff              0.2336        0.2290  1634696    1.96%          rho_14 D 322433 322432     42\n",
      " 326404 101826        0.2330     9        0.2336        0.2290  1651738    1.96%           rho_2 D 326404 326402     63\n",
      " 330446 102302        0.2307     8        0.2336        0.2291  1669277    1.93%          rho_14 U 330446 330445     72\n",
      " 334917 103182        0.2291    11        0.2336        0.2291  1685185    1.91%          rho_11 U 334917 263043     62\n",
      " 338894 103393        0.2308    11        0.2336        0.2292  1701769    1.87%           rho_6 D 338894 338893     60\n",
      " 343093 103979        0.2321     7        0.2336        0.2292  1718184    1.87%          rho_14 D 343093 343092     80\n",
      "Elapsed time = 75.63 sec. (79409.50 ticks, tree = 29.11 MB, solutions = 3)\n",
      " 347640 104727        0.2316    10        0.2336        0.2292  1735144    1.86%          rho_10 N 347640 347638     54\n",
      " 352230 106090        0.2319     5        0.2336        0.2292  1753567    1.86%           rho_3 D 352230 352228     62\n",
      " 356546 107280        0.2317     6        0.2336        0.2293  1771331    1.86%          rho_14 D 356546 356545     57\n",
      " 361239 107239        0.2306     5        0.2336        0.2293  1786069    1.85%           rho_2 D 361239 361238     77\n",
      " 365603 107634        0.2315     7        0.2336        0.2293  1801747    1.84%          rho_14 D 365603 365601     63\n",
      " 369491 107983        cutoff              0.2336        0.2294  1820284    1.81%           rho_8 U 369491 358784     55\n",
      " 373743 108226        0.2296     5        0.2336        0.2294  1837477    1.79%          rho_12 D 373743 373741     25\n",
      " 378264 107809        0.2327     2        0.2336        0.2294  1853084    1.78%           rho_6 U 378264 136359     40\n",
      " 382373 107603        0.2297    11        0.2336        0.2295  1869985    1.77%           rho_6 D 382373 119653     53\n",
      " 400085 111597        cutoff              0.2336        0.2295  1932461    1.74%          rho_15 D 400085 400084     44\n",
      "Elapsed time = 85.28 sec. (91808.81 ticks, tree = 30.89 MB, solutions = 3)\n",
      " 418478 112992        cutoff              0.2336        0.2297  1996072    1.68%           rho_2 D 418478 418477     80\n",
      " 435996 114447        0.2327     7        0.2336        0.2297  2056572    1.65%          rho_12 N 435996 335658     51\n",
      " 453977 116292        0.2305     5        0.2336        0.2298  2117834    1.61%           rho_8 N 453977 428937     19\n",
      " 472346 119092        0.2299     9        0.2336        0.2299  2177919    1.58%          rho_12 D 472346 209080     40\n",
      " 489756 120862        cutoff              0.2336        0.2300  2243605    1.53%          rho_11 D 489756 489754     16\n",
      " 506151 120337        0.2324     6        0.2336        0.2301  2314579    1.48%          rho_14 U 506151 302773     66\n",
      " 523105 118470        0.2321     5        0.2336        0.2302  2377709    1.45%           rho_2 U 523105 257819     87\n",
      " 540745 116689        cutoff              0.2336        0.2303  2438565    1.42%          rho_19 D 540745 540744     94\n",
      " 557959 117975        0.2327     5        0.2336        0.2303  2510910    1.39%          rho_14 U 557959 319506     63\n",
      " 575479 116114        cutoff              0.2336        0.2304  2571826    1.36%          rho_13 U 575479 575478     48\n",
      "Elapsed time = 116.50 sec. (129957.31 ticks, tree = 31.99 MB, solutions = 3)\n",
      " 593586 114026        0.2324     7        0.2336        0.2305  2633601    1.31%          rho_20 D 593586 593585     71\n",
      " 609866 111669        0.2310    13        0.2336        0.2307  2695916    1.26%          rho_12 D 609866 113528     30\n",
      " 627440 110643        0.2308     8        0.2336        0.2308  2754308    1.20%          rho_20 D 627440 275463     74\n",
      " 643623 109385        0.2322     6        0.2336        0.2309  2807131    1.16%          rho_14 N 643623 216387     56\n",
      " 658893 109337        0.2332     4        0.2336        0.2310  2874473    1.12%           rho_0 U 658893 658892     35\n",
      " 675671 107432        0.2312     4        0.2336        0.2311  2938516    1.09%           rho_6 N 675671  18087     63\n",
      " 693433 102807        cutoff              0.2336        0.2312  3005680    1.04%           rho_2 U 693433 204241     82\n",
      " 709905 100610        0.2321    11        0.2336        0.2313  3069410    0.98%          rho_11 D 709905 152464     65\n",
      " 727533 95076        cutoff              0.2336        0.2314  3132404    0.94%           rho_3 U 727533 727532     63\n",
      " 745363 90700        0.2335     9        0.2336        0.2316  3201488    0.87%           rho_2 U 745363 745362     64\n",
      "Elapsed time = 145.33 sec. (168105.17 ticks, tree = 26.23 MB, solutions = 3)\n",
      " 762727 84242        0.2327    13        0.2336        0.2317  3273474    0.80%           rho_0 D 762727 194594     63\n",
      " 779852 77130        cutoff              0.2336        0.2319  3339250    0.73%           rho_2 U 779852  54607     53\n",
      " 797286 68844        0.2321     9        0.2336        0.2320  3403478    0.67%           rho_6 D 797286 185916     52\n",
      " 814715 60992        cutoff              0.2336        0.2322  3462725    0.61%           rho_0 U 814715 814713     56\n",
      " 831436 56240        0.2328     4        0.2336        0.2323  3523316    0.53%          rho_14 U 831436 756080     58\n",
      " 848979 46709        cutoff              0.2336        0.2326  3583060    0.42%          rho_11 D 848979 848977     76\n",
      " 865210 37049        cutoff              0.2336        0.2328  3643866    0.36%          rho_13 U 865210 722748     72\n",
      " 881337 24636        cutoff              0.2336        0.2330  3698349    0.25%          rho_14 U 881337 461119     61\n",
      " 898484 11445        cutoff              0.2336        0.2333  3745385    0.11%          rho_11 D 898484 622282     68\n",
      "\n",
      "Gomory fractional cuts applied:  2\n",
      "User cuts applied:  343\n",
      "\n",
      "Root node processing (before b&c):\n",
      "  Real time             =    0.09 sec. (1.41 ticks)\n",
      "Sequential b&c:\n",
      "  Real time             =  172.30 sec. (205039.96 ticks)\n",
      "                          ------------\n",
      "Total (root+branch&cut) =  172.39 sec. (205041.37 ticks)\n",
      "+----------------------------------------------+------------------+-----------+\n",
      "| Pr(Y = +1) = 1.0/(1.0 + exp(-(-4 + score))   |                  |           |\n",
      "| ============================================ | ================ | ========= |\n",
      "| p_arrest>=4                                  |         1 points |   + ..... |\n",
      "| p_misdemeanor>=1                             |         1 points |   + ..... |\n",
      "| p_pending_charge>=1                          |         1 points |   + ..... |\n",
      "| ============================================ | ================ | ========= |\n",
      "| ADD POINTS FROM ROWS 1 to 3                  |            SCORE |   = ..... |\n",
      "+----------------------------------------------+------------------+-----------+\n",
      "model_id, score_thresholds 0 {'rank_abs': [0]}\n",
      "get_disparity_predefined_group()\n"
     ]
    },
    {
     "name": "stderr",
     "output_type": "stream",
     "text": [
      "C:\\Users\\binha\\Documents\\Duke\\Cynthia Research\\psa-analysis - test2\\utils\\fairness_functions.py:82: RuntimeWarning:\n",
      "\n",
      "invalid value encountered in longlong_scalars\n",
      "\n",
      "C:\\Users\\binha\\Documents\\Duke\\Cynthia Research\\psa-analysis - test2\\utils\\fairness_functions.py:95: RuntimeWarning:\n",
      "\n",
      "divide by zero encountered in longlong_scalars\n",
      "\n"
     ]
    },
    {
     "name": "stdout",
     "output_type": "stream",
     "text": [
      "setting c0 = 0.0 to ensure that intercept is not penalized\n",
      "10/01/19 @ 03:23 PM | 901 rows in lookup table\n",
      "10/01/19 @ 03:23 PM | ------------------------------------------------------------\n",
      "10/01/19 @ 03:23 PM | runnning initialization procedure\n",
      "10/01/19 @ 03:23 PM | ------------------------------------------------------------\n",
      "10/01/19 @ 03:23 PM | CPA produced 2 cuts\n",
      "10/01/19 @ 03:23 PM | running naive rounding on 58 solutions\n",
      "10/01/19 @ 03:23 PM | best objective value: 0.2284\n",
      "10/01/19 @ 03:23 PM | rounding produced 5 integer solutions\n",
      "10/01/19 @ 03:23 PM | best objective value is 0.2364\n",
      "10/01/19 @ 03:23 PM | running sequential rounding on 58 solutions\n",
      "10/01/19 @ 03:23 PM | best objective value: 0.2284\n",
      "10/01/19 @ 03:23 PM | sequential rounding produced 5 integer solutions\n",
      "10/01/19 @ 03:23 PM | best objective value: 0.2324\n",
      "10/01/19 @ 03:23 PM | polishing 10 solutions\n",
      "10/01/19 @ 03:23 PM | best objective value: 0.2324\n",
      "10/01/19 @ 03:23 PM | polishing produced 5 integer solutions\n",
      "10/01/19 @ 03:23 PM | initialization produced 11 feasible solutions\n",
      "10/01/19 @ 03:23 PM | best objective value: 0.2324\n",
      "10/01/19 @ 03:23 PM | ------------------------------------------------------------\n",
      "10/01/19 @ 03:23 PM | completed initialization procedure\n",
      "10/01/19 @ 03:23 PM | ------------------------------------------------------------\n",
      "10/01/19 @ 03:23 PM | 901 rows in lookup table\n",
      "CPXPARAM_Read_DataCheck                          1\n",
      "CPXPARAM_Threads                                 1\n",
      "CPXPARAM_Parallel                                1\n",
      "CPXPARAM_RandomSeed                              0\n",
      "CPXPARAM_TimeLimit                               200\n",
      "CPXPARAM_MIP_Tolerances_LowerCutoff              0.22606575711005086\n",
      "CPXPARAM_MIP_Tolerances_UpperCutoff              0.23242984307529233\n"
     ]
    },
    {
     "name": "stderr",
     "output_type": "stream",
     "text": [
      "Warning: Control callbacks may disable some MIP features.\n"
     ]
    },
    {
     "name": "stdout",
     "output_type": "stream",
     "text": [
      "Lazy constraint(s) or lazy constraint callback is present.\n",
      "    Disabling dual reductions (CPX_PARAM_REDUCE) in presolve.\n",
      "    Disabling non-linear reductions (CPX_PARAM_PRELINEAR) in presolve.\n",
      "         Disabling repeat represolve because of lazy constraint/incumbent callback.\n",
      "10/01/19 @ 03:23 PM | adding 217 initial cuts\n",
      "1 of 1 MIP starts provided solutions.\n",
      "MIP start 'mip_start_0' defined initial solution with objective 0.2324.\n",
      "Tried aggregator 1 time.\n",
      "Reduced MIP has 22 rows, 44 columns, and 83 nonzeros.\n",
      "Reduced MIP has 20 binaries, 22 generals, 0 SOSs, and 0 indicators.\n",
      "Presolve time = 0.02 sec. (0.04 ticks)\n",
      "Probing time = 0.00 sec. (0.01 ticks)\n",
      "MIP emphasis: balance optimality and feasibility.\n",
      "MIP search method: traditional branch-and-cut.\n",
      "Parallel mode: none, using 1 thread.\n",
      "Root relaxation solution time = 0.00 sec. (0.03 ticks)\n",
      "\n",
      "        Nodes                                         Cuts/\n",
      "   Node  Left     Objective  IInf  Best Integer    Best Bound    ItCnt     Gap         Variable B NodeID Parent  Depth\n",
      "\n",
      "*     0+    0                            0.2324        0.2261             2.74%\n",
      "      0     0        0.2261     1        0.2324        0.2261        1    2.74%\n",
      "      0     0        0.2261     1        0.2324      Fract: 2        2    2.74%\n",
      "      0     0        0.2261     2        0.2324    MIRcuts: 1        3    2.74%\n",
      "      0     2        0.2261     6        0.2324        0.2261        3    2.74%                        0             0\n",
      "Elapsed time = 0.09 sec. (1.58 ticks, tree = 0.01 MB, solutions = 1)\n",
      "   4468  1420        0.2321     6        0.2324        0.2261    18393    2.74%          rho_10 D   4468   4467     83\n",
      "*  4660+ 1436                            0.2324        0.2261             2.72%\n",
      "*  5330+ 1723                            0.2320        0.2261             2.54%\n",
      "   7374  2539        0.2261     4        0.2320        0.2261    31520    2.54%           rho_7 U   7374   7372     96\n",
      "   9492  2203        0.2292     4        0.2320        0.2261    41067    2.54%          rho_10 U   9492   2085     96\n",
      "  11914  3189        0.2261     1        0.2320        0.2261    50932    2.54%           rho_7 U  11914  11912     40\n",
      "  14526  4032        0.2292     3        0.2320        0.2261    58144    2.54%          rho_10 N  14526   3268     29\n",
      "  16590  4657        0.2264     5        0.2320        0.2261    65222    2.54%           rho_7 D  16590  16589     70\n",
      "  18349  5219        cutoff              0.2320        0.2261    71867    2.54%           rho_0 U  18349  18348     90\n",
      "  20060  6006        0.2261     6        0.2320        0.2261    79571    2.54%           rho_0 D  20060  20059     90\n",
      "* 21223  6487      integral     0        0.2319        0.2261    85003    2.54%\n",
      "  21564  6600        0.2261     4        0.2319        0.2261    86639    2.54%           rho_7 U  21564  21562     33\n",
      "  27347  9157        cutoff              0.2319        0.2261   115127    2.54%           rho_8 U  27347  27346     32\n",
      "Elapsed time = 4.67 sec. (3101.61 ticks, tree = 2.64 MB, solutions = 4)\n",
      "  32498 11460        0.2261     5        0.2319        0.2261   142447    2.54%           rho_0 D  32498  32496     39\n",
      "  37506 12992        0.2261     6        0.2319        0.2261   166531    2.54%           rho_0 D  37506  37504     57\n",
      "  42244 14777        0.2289     7        0.2319        0.2261   193337    2.54%           rho_0 U  42244  42243     90\n",
      "  47055 16093        0.2291     6        0.2319        0.2261   216951    2.54%           rho_6 N  47055  47054     43\n",
      "  51665 17192        0.2261     6        0.2319        0.2261   238839    2.54%           rho_0 D  51665  51663     53\n",
      "  55636 18107        0.2318     5        0.2319        0.2261   262640    2.54%          rho_20 D  55636  55635     79\n",
      "  59336 19703        0.2261     6        0.2319        0.2261   293459    2.54%           rho_0 D  59336  59334     60\n",
      "  63795 21731        cutoff              0.2319        0.2261   322092    2.54%           rho_0 U  63795  63794     64\n",
      "  67864 23993        0.2315     2        0.2319        0.2261   346961    2.54%          rho_20 D  67864  67863     43\n",
      "  72000 25051        0.2310     7        0.2319        0.2261   372796    2.54%          rho_14 D  72000  71999     36\n",
      "Elapsed time = 15.16 sec. (12640.64 ticks, tree = 6.95 MB, solutions = 4)\n",
      "  76238 25741        0.2316     1        0.2319        0.2261   394465    2.54%          rho_20 D  76238  76237     65\n",
      "  80673 26784        0.2293     1        0.2319        0.2261   415357    2.54%          rho_14 D  80673  80670     64\n",
      "  83794 28657        0.2283     7        0.2319        0.2261   445176    2.54%           rho_0 U  83794  83793     37\n",
      "  86730 30535        0.2303     8        0.2319        0.2261   475412    2.54%          rho_13 D  86730  86729     51\n",
      "* 87590 31009      integral     0        0.2319        0.2261   484613    2.54%\n",
      "  89800 32164        0.2318     3        0.2319        0.2261   503079    2.54%           rho_0 U  89800  89799     22\n",
      "  94326 33607        0.2305     2        0.2319        0.2261   524943    2.54%          rho_13 D  94326  94324     55\n",
      "  99000 35377        0.2313     8        0.2319        0.2261   548571    2.54%          rho_10 N  99000  98234     59\n",
      " 103837 36858        0.2271     8        0.2319        0.2261   567773    2.54%          rho_13 D 103837 103836     40\n",
      " 108004 39005        0.2300     9        0.2319        0.2261   591772    2.54%          rho_13 D 108004 108003     67\n",
      " 111737 40433        0.2261     6        0.2319        0.2261   616513    2.54%           rho_0 D 111737 111735     34\n",
      "Elapsed time = 24.25 sec. (22178.97 ticks, tree = 11.89 MB, solutions = 5)\n",
      " 115569 41364        0.2299    10        0.2319        0.2261   639386    2.54%           rho_0 D 115569 115567     36\n",
      " 119298 42459        cutoff              0.2319        0.2261   663729    2.54%           rho_0 U 119298 119297     36\n",
      " 123653 43769        0.2261     3        0.2319        0.2261   684278    2.54%           rho_7 U 123653 123651     44\n",
      " 127523 44995        cutoff              0.2319        0.2261   707483    2.54%          rho_10 U 127523 127512     64\n",
      " 131124 46873        0.2261     9        0.2319        0.2261   738038    2.54%           rho_7 D 131124 131123     33\n",
      " 135572 48630        0.2261     6        0.2319        0.2261   760116    2.54%           rho_0 D 135572 135570     30\n",
      " 139596 50987        0.2261     6        0.2319        0.2261   786045    2.54%           rho_7 U 139596 139480     50\n",
      " 143627 52012        0.2261     7        0.2319        0.2261   809394    2.54%           rho_6 N 143627 143536     62\n",
      " 147780 53686        0.2273     4        0.2319        0.2261   832350    2.54%           rho_7 D 147780 147779     66\n",
      " 151820 55800        0.2261     7        0.2319        0.2261   857235    2.54%           rho_0 D 151820 151818     39\n",
      "Elapsed time = 34.17 sec. (31718.10 ticks, tree = 15.50 MB, solutions = 5)\n",
      " 156122 57434        0.2264     7        0.2319        0.2261   879701    2.54%           rho_7 D 156122 156121     38\n",
      " 160258 58702        0.2296     5        0.2319        0.2261   900905    2.54%           rho_8 D 160258 160257     93\n",
      " 163440 60387        0.2287     9        0.2319        0.2261   929817    2.54%          rho_10 D 163440 163438     57\n",
      " 167273 61787        0.2272     6        0.2319        0.2261   951943    2.54%           rho_6 U 167273 167272     53\n",
      " 170140 62690        0.2261     8        0.2319        0.2261   983597    2.54%           rho_7 U 170140 170124     45\n",
      " 173870 64270        0.2261     8        0.2319        0.2261  1007165    2.54%           rho_0 D 173870 173848     30\n",
      " 177504 65358        0.2275     5        0.2319        0.2261  1032103    2.54%          rho_10 D 177504 177503     46\n",
      " 181315 66769        0.2265    14        0.2319        0.2261  1055456    2.54%           rho_7 D 181315 181314     69\n",
      " 185306 68084        0.2297     5        0.2319        0.2261  1076920    2.54%           rho_8 D 185306 185304     34\n",
      " 188811 69394        cutoff              0.2319        0.2261  1101205    2.54%          rho_13 D 188811 188810     65\n",
      "Elapsed time = 43.34 sec. (41256.52 ticks, tree = 21.48 MB, solutions = 5)\n",
      " 191311 70935        cutoff              0.2319        0.2261  1133822    2.54%          rho_12 U 191311 191310     74\n",
      " 194418 72300        0.2276    11        0.2319        0.2261  1161545    2.54%           rho_9 U 194418 194416     44\n",
      " 197515 73385        0.2310     4        0.2319        0.2261  1190232    2.54%          rho_10 N 197515 197514     68\n",
      " 201240 74459        0.2293     7        0.2319        0.2261  1211914    2.54%          rho_12 D 201240 201239     47\n",
      " 205363 75500        0.2269     3        0.2319        0.2261  1232741    2.54%          rho_10 D 205363 205362     47\n",
      " 209506 76593        0.2271     7        0.2319        0.2261  1253639    2.54%          rho_10 N 209506 209504     69\n",
      " 213446 77918        cutoff              0.2319        0.2261  1276215    2.54%          rho_12 U 213446 213445     39\n",
      " 218121 79174        0.2299     7        0.2319        0.2261  1295081    2.54%          rho_13 D 218121 218120     35\n",
      " 222400 80438        0.2264    11        0.2319        0.2261  1314868    2.54%          rho_14 D 222400 222399     72\n",
      " 226620 81648        0.2273     7        0.2319        0.2261  1335341    2.54%           rho_2 N 226620 226618     86\n",
      "Elapsed time = 52.27 sec. (50796.37 ticks, tree = 24.28 MB, solutions = 5)\n",
      " 230762 82876        0.2283     7        0.2319        0.2261  1355194    2.54%           rho_3 D 230762 230760     71\n",
      " 234685 84201        0.2261     6        0.2319        0.2261  1377851    2.54%           rho_0 D 234685 234683     69\n",
      " 237808 86103        0.2304     5        0.2319        0.2261  1406094    2.54%          rho_20 D 237808 237806     88\n",
      " 241165 87169        0.2278    11        0.2319        0.2261  1431147    2.54%           rho_7 D 241165 241164     32\n",
      " 244705 88733        0.2278    11        0.2319        0.2261  1455387    2.54%           rho_7 D 244705 244704     40\n",
      " 248191 90484        0.2299     9        0.2319        0.2261  1482623    2.54%           rho_8 D 248191 248190     55\n",
      " 251613 92061        0.2290     9        0.2319        0.2261  1509085    2.54%           rho_7 D 251613 251612     45\n",
      " 254966 93808        0.2298     7        0.2319        0.2261  1534405    2.54%           rho_2 N 254966 119902     53\n",
      " 259090 94921        0.2261    11        0.2319        0.2261  1553621    2.54%           rho_7 D 259090 259089     52\n",
      " 263409 96374        0.2277     3        0.2319        0.2261  1573094    2.54%          rho_10 N 263409 263408     49\n",
      "Elapsed time = 61.14 sec. (60335.11 ticks, tree = 27.66 MB, solutions = 5)\n",
      " 267200 98714        0.2261    11        0.2319        0.2261  1596065    2.54%           rho_7 U 267200 267198     35\n",
      " 270670 100079        0.2302     5        0.2319        0.2261  1620892    2.54%          rho_20 D 270670 270668     35\n",
      " 274950 101966        0.2304     7        0.2319        0.2261  1641341    2.54%          rho_20 D 274950 274948     59\n",
      " 279256 103993        0.2297     5        0.2319        0.2261  1661645    2.54%          rho_14 D 279256 279255     63\n",
      " 282832 105908        0.2318     6        0.2319        0.2261  1685569    2.54%          rho_12 D 282832 282831     85\n",
      " 286550 107583        0.2307     4        0.2319        0.2261  1710231    2.54%           rho_2 N 286550 286548     36\n",
      " 289214 109245        0.2265    17        0.2319        0.2261  1740014    2.54%           rho_7 D 289214 289213     57\n",
      " 292538 110754        0.2286    11        0.2319        0.2261  1763133    2.54%          rho_12 N 292538 292537     35\n",
      " 295886 112277        0.2287    15        0.2319        0.2261  1791522    2.54%           rho_9 D 295886 295885     15\n",
      " 298408 113890        cutoff              0.2319        0.2261  1820171    2.54%          rho_12 U 298408 298407     43\n",
      "Elapsed time = 69.72 sec. (69875.18 ticks, tree = 31.68 MB, solutions = 5)\n",
      " 302907 115504        0.2283     4        0.2319        0.2261  1838342    2.53%           rho_2 U 302907 302906     29\n",
      " 307692 117443        0.2281    10        0.2319        0.2261  1857340    2.52%           rho_8 N 307692 307691     69\n",
      " 312370 119456        0.2261    12        0.2319        0.2261  1878400    2.52%           rho_0 D 312370 312368     85\n",
      " 316807 121688        0.2261    10        0.2319        0.2261  1897289    2.51%           rho_0 D 316807 316805     43\n",
      " 320464 124271        0.2261    11        0.2319        0.2261  1912950    2.51%           rho_0 D 320464 320462     78\n",
      " 324310 126422        0.2290     3        0.2319        0.2262  1927784    2.50%           rho_2 U 324310 324309     41\n",
      " 329557 128263        0.2278     5        0.2319        0.2262  1946016    2.49%          rho_20 D 329557 329555     52\n",
      " 334795 129555        cutoff              0.2319        0.2262  1964749    2.46%           rho_9 U 334795 334794     53\n",
      " 338595 129686        cutoff              0.2319        0.2263  1983083    2.45%           rho_0 U 338595 338594     68\n",
      " 343344 131084        cutoff              0.2319        0.2263  1998581    2.45%           rho_0 U 343344 343343     69\n",
      "Elapsed time = 78.22 sec. (79413.78 ticks, tree = 38.71 MB, solutions = 5)\n",
      " 348229 133031        0.2316     6        0.2319        0.2263  2017336    2.44%           rho_0 U 348229 348228     28\n",
      " 352433 133916        0.2314     4        0.2319        0.2263  2037826    2.43%           rho_4 D 352433 352432     48\n",
      " 356868 134748        0.2287     9        0.2319        0.2263  2055181    2.42%          rho_12 D 356868 356866     66\n",
      " 360885 134818        0.2281    12        0.2319        0.2264  2072969    2.41%           rho_9 D 360885 360884     57\n",
      " 365510 135474        0.2268     3        0.2319        0.2264  2090591    2.39%           rho_6 N 365510 365509     74\n",
      " 370474 137162        0.2264     6        0.2319        0.2264  2105362    2.38%           rho_7 U 370474 370472     65\n",
      " 375110 139472        0.2277     7        0.2319        0.2264  2122815    2.38%           rho_8 D 375110 375109     54\n",
      " 379046 140695        0.2265    16        0.2319        0.2264  2141807    2.38%          rho_11 D 379046 296608     56\n",
      " 382904 141144        0.2319     5        0.2319        0.2264  2160592    2.37%          rho_11 U 382904 324169     36\n",
      " 398804 143836        cutoff              0.2319        0.2265  2229564    2.34%          rho_13 U 398804 398802     49\n",
      "Elapsed time = 89.22 sec. (91812.96 ticks, tree = 41.68 MB, solutions = 5)\n",
      " 416674 149574        0.2266    11        0.2319        0.2266  2294699    2.30%           rho_7 U 416674 416672     74\n",
      " 435051 155918        0.2266     7        0.2319        0.2266  2360957    2.28%           rho_7 U 435051 435049     50\n",
      " 452639 161803        cutoff              0.2319        0.2267  2426777    2.27%          rho_20 U 452639 452638     29\n",
      " 469737 167299        0.2313     5        0.2319        0.2268  2502520    2.24%          rho_20 D 469737 469735     91\n",
      " 488853 172505        0.2311     3        0.2319        0.2269  2568277    2.19%           rho_8 D 488853 488852     35\n",
      " 508561 177283        0.2284     5        0.2319        0.2269  2632599    2.17%          rho_20 N 508561 508560     77\n",
      " 526570 182685        0.2318     5        0.2319        0.2270  2695974    2.15%           rho_4 D 526570 526568     32\n",
      " 544130 186399        0.2304     7        0.2319        0.2270  2760784    2.13%          rho_14 D 544130 544129     35\n",
      " 561989 190729        cutoff              0.2319        0.2271  2832220    2.11%           rho_8 U 561989 561988     30\n",
      " 579452 195096        0.2279     7        0.2319        0.2271  2895043    2.10%          rho_10 D 579452  31268     67\n",
      "Elapsed time = 124.88 sec. (129961.47 ticks, tree = 57.45 MB, solutions = 5)\n",
      " 597631 198744        0.2286     6        0.2319        0.2271  2969744    2.08%          rho_20 D 597631 597629     45\n",
      " 616586 204534        0.2308     5        0.2319        0.2272  3037611    2.06%          rho_10 U 616586 616585     45\n",
      " 635452 209978        0.2277     7        0.2319        0.2272  3098806    2.03%          rho_12 D 635452 352793     79\n",
      " 653870 213163        0.2286     6        0.2319        0.2273  3159374    2.01%           rho_6 D 653870 653869     68\n",
      " 672357 218297        cutoff              0.2319        0.2273  3219004    1.99%          rho_20 U 672357 672356     75\n",
      " 691880 222631        0.2281    12        0.2319        0.2274  3278225    1.98%           rho_7 D 691880 691879     58\n",
      " 709595 225796        cutoff              0.2319        0.2274  3346649    1.96%           rho_9 U 709595 709594     54\n",
      " 726718 225906        0.2289     4        0.2319        0.2274  3418124    1.94%           rho_8 U 726718 613440     47\n",
      " 744650 226441        0.2299     3        0.2319        0.2275  3483480    1.93%           rho_8 U 744650 744649     71\n",
      " 763504 231195        0.2275     5        0.2319        0.2275  3555415    1.91%          rho_10 D 763504  18416     62\n",
      "Elapsed time = 156.94 sec. (168110.25 ticks, tree = 68.39 MB, solutions = 5)\n",
      " 781184 233223        0.2314     3        0.2319        0.2276  3623658    1.90%          rho_19 D 781184 781182     65\n",
      " 800079 235415        cutoff              0.2319        0.2276  3681143    1.87%           rho_8 U 800079 800077     56\n",
      " 817063 237790        0.2282     5        0.2319        0.2277  3739997    1.85%          rho_12 U 817063 125014     45\n",
      " 833583 239762        0.2300     6        0.2319        0.2277  3812164    1.83%           rho_2 D 833583 833581     40\n",
      " 850715 242023        0.2293    12        0.2319        0.2278  3875850    1.81%           rho_7 D 850715 850714     44\n",
      " 868295 245513        0.2317     5        0.2319        0.2278  3937333    1.78%           rho_4 D 868295 868293     55\n",
      " 885682 247032        cutoff              0.2319        0.2279  3998826    1.76%           rho_2 U 885682  62328     23\n",
      " 902321 248941        cutoff              0.2319        0.2279  4063750    1.74%           rho_9 U 902321 902320     85\n",
      " 918800 251837        0.2296     4        0.2319        0.2279  4121576    1.73%           rho_3 U 918800 918799     62\n",
      " 934894 249652        cutoff              0.2319        0.2280  4184089    1.70%           rho_2 U 934894 934892     49\n",
      "Elapsed time = 187.91 sec. (206260.56 ticks, tree = 72.86 MB, solutions = 5)\n",
      " 950208 248632        0.2298     7        0.2319        0.2281  4243033    1.67%           rho_7 D 950208 898748     52\n",
      " 966707 249483        cutoff              0.2319        0.2281  4302010    1.65%           rho_9 U 966707 787685     46\n",
      " 983510 250813        0.2305     6        0.2319        0.2282  4359815    1.62%          rho_18 D 983510 983509     46\n",
      "\n",
      "Implied bound cuts applied:  1\n",
      "Gomory fractional cuts applied:  1\n",
      "User cuts applied:  333\n",
      "\n",
      "Root node processing (before b&c):\n",
      "  Real time             =    0.09 sec. (1.60 ticks)\n",
      "Sequential b&c:\n",
      "  Real time             =  199.92 sec. (219782.14 ticks)\n",
      "                          ------------\n",
      "Total (root+branch&cut) =  200.02 sec. (219783.74 ticks)\n",
      "+----------------------------------------------+------------------+-----------+\n",
      "| Pr(Y = +1) = 1.0/(1.0 + exp(-(-5 + score))   |                  |           |\n",
      "| ============================================ | ================ | ========= |\n",
      "| p_arrest>=4                                  |         1 points |   + ..... |\n",
      "| p_charges>=1                                 |         1 points |   + ..... |\n",
      "| p_misdemeanor>=1                             |         1 points |   + ..... |\n",
      "| p_pending_charge>=1                          |         1 points |   + ..... |\n",
      "| ============================================ | ================ | ========= |\n",
      "| ADD POINTS FROM ROWS 1 to 4                  |            SCORE |   = ..... |\n",
      "+----------------------------------------------+------------------+-----------+\n",
      "model_id, score_thresholds 0 {'rank_abs': [0]}\n",
      "get_disparity_predefined_group()\n"
     ]
    },
    {
     "name": "stderr",
     "output_type": "stream",
     "text": [
      "C:\\Users\\binha\\Documents\\Duke\\Cynthia Research\\psa-analysis - test2\\utils\\fairness_functions.py:82: RuntimeWarning:\n",
      "\n",
      "invalid value encountered in longlong_scalars\n",
      "\n",
      "C:\\Users\\binha\\Documents\\Duke\\Cynthia Research\\psa-analysis - test2\\utils\\fairness_functions.py:95: RuntimeWarning:\n",
      "\n",
      "divide by zero encountered in longlong_scalars\n",
      "\n"
     ]
    },
    {
     "name": "stdout",
     "output_type": "stream",
     "text": [
      "setting c0 = 0.0 to ensure that intercept is not penalized\n",
      "10/01/19 @ 03:26 PM | 901 rows in lookup table\n",
      "10/01/19 @ 03:26 PM | ------------------------------------------------------------\n",
      "10/01/19 @ 03:26 PM | runnning initialization procedure\n",
      "10/01/19 @ 03:26 PM | ------------------------------------------------------------\n",
      "10/01/19 @ 03:26 PM | CPA produced 2 cuts\n",
      "10/01/19 @ 03:26 PM | running naive rounding on 56 solutions\n",
      "10/01/19 @ 03:26 PM | best objective value: 0.2297\n",
      "10/01/19 @ 03:26 PM | rounding produced 5 integer solutions\n",
      "10/01/19 @ 03:26 PM | best objective value is 0.2407\n",
      "10/01/19 @ 03:26 PM | running sequential rounding on 56 solutions\n",
      "10/01/19 @ 03:26 PM | best objective value: 0.2297\n",
      "10/01/19 @ 03:26 PM | sequential rounding produced 6 integer solutions\n",
      "10/01/19 @ 03:26 PM | best objective value: 0.2343\n",
      "10/01/19 @ 03:26 PM | polishing 11 solutions\n",
      "10/01/19 @ 03:26 PM | best objective value: 0.2343\n",
      "10/01/19 @ 03:26 PM | polishing produced 5 integer solutions\n",
      "10/01/19 @ 03:26 PM | initialization produced 11 feasible solutions\n",
      "10/01/19 @ 03:26 PM | best objective value: 0.2343\n",
      "10/01/19 @ 03:26 PM | ------------------------------------------------------------\n",
      "10/01/19 @ 03:26 PM | completed initialization procedure\n",
      "10/01/19 @ 03:26 PM | ------------------------------------------------------------\n",
      "10/01/19 @ 03:26 PM | 901 rows in lookup table\n",
      "CPXPARAM_Read_DataCheck                          1\n",
      "CPXPARAM_Threads                                 1\n",
      "CPXPARAM_Parallel                                1\n",
      "CPXPARAM_RandomSeed                              0\n",
      "CPXPARAM_TimeLimit                               200\n",
      "CPXPARAM_MIP_Tolerances_LowerCutoff              0.22832916815817\n",
      "CPXPARAM_MIP_Tolerances_UpperCutoff              0.23434387681485916\n"
     ]
    },
    {
     "name": "stderr",
     "output_type": "stream",
     "text": [
      "Warning: Control callbacks may disable some MIP features.\n"
     ]
    },
    {
     "name": "stdout",
     "output_type": "stream",
     "text": [
      "Lazy constraint(s) or lazy constraint callback is present.\n",
      "    Disabling dual reductions (CPX_PARAM_REDUCE) in presolve.\n",
      "    Disabling non-linear reductions (CPX_PARAM_PRELINEAR) in presolve.\n",
      "         Disabling repeat represolve because of lazy constraint/incumbent callback.\n",
      "10/01/19 @ 03:26 PM | adding 215 initial cuts\n",
      "1 of 1 MIP starts provided solutions.\n",
      "MIP start 'mip_start_0' defined initial solution with objective 0.2343.\n",
      "Tried aggregator 1 time.\n",
      "Reduced MIP has 22 rows, 44 columns, and 83 nonzeros.\n",
      "Reduced MIP has 20 binaries, 22 generals, 0 SOSs, and 0 indicators.\n",
      "Presolve time = 0.00 sec. (0.04 ticks)\n",
      "Probing time = 0.00 sec. (0.01 ticks)\n",
      "MIP emphasis: balance optimality and feasibility.\n",
      "MIP search method: traditional branch-and-cut.\n",
      "Parallel mode: none, using 1 thread.\n",
      "Root relaxation solution time = 0.00 sec. (0.03 ticks)\n",
      "\n",
      "        Nodes                                         Cuts/\n",
      "   Node  Left     Objective  IInf  Best Integer    Best Bound    ItCnt     Gap         Variable B NodeID Parent  Depth\n",
      "\n",
      "*     0+    0                            0.2343        0.2283             2.57%\n",
      "      0     0        0.2283     1        0.2343        0.2283        1    2.57%\n",
      "      0     0        0.2283     1        0.2343      Fract: 2        2    2.57%\n",
      "      0     2        0.2283     2        0.2343        0.2283        2    2.57%                        0             0\n",
      "Elapsed time = 0.08 sec. (1.14 ticks, tree = 0.01 MB, solutions = 1)\n",
      "   2250   807        0.2326     9        0.2343        0.2283     9313    2.57%           rho_7 D   2250   1659     21\n",
      "   3657  1332        0.2283     5        0.2343        0.2283    16870    2.57%           rho_2 D   3657   3655     15\n",
      "*  4190+ 1653                            0.2343        0.2283             2.57%\n",
      "   4860  2076        0.2283     6        0.2343        0.2283    23460    2.57%           rho_0 D   4860   4858     39\n",
      "   5997  2543        0.2283     3        0.2343        0.2283    30036    2.57%           rho_7 U   5997   4794     26\n",
      "   7140  2996        0.2283     8        0.2343        0.2283    36493    2.57%           rho_7 U   7140   7001     24\n",
      "   8356  3362        cutoff              0.2343        0.2283    42988    2.57%           rho_0 U   8356   8355     76\n",
      "   9555  3601        cutoff              0.2343        0.2283    48844    2.57%          rho_19 D   9555   9554     74\n",
      "  10747  3884        0.2306     7        0.2343        0.2283    54928    2.57%           rho_1 U  10747  10746     19\n",
      "  11871  4273        0.2283     8        0.2343        0.2283    61053    2.57%           rho_5 D  11871  11847     36\n",
      "  16770  5726        0.2283     9        0.2343        0.2283    86888    2.57%           rho_2 D  16770  16768     73\n",
      "Elapsed time = 3.94 sec. (3103.13 ticks, tree = 1.52 MB, solutions = 2)\n",
      "  21181  7492        0.2283    10        0.2343        0.2283   114000    2.57%          rho_10 D  21181  21180     52\n",
      "  25902  9113        0.2340     5        0.2343        0.2283   137902    2.57%          rho_12 N  25902  25901     24\n",
      "  31391 10254        0.2320     4        0.2343        0.2283   160100    2.57%           rho_4 U  31391  31390     56\n",
      "  36640 11498        0.2283     4        0.2343        0.2283   182054    2.57%           rho_7 U  36640  36638     21\n",
      "  41449 13445        0.2328     3        0.2343        0.2283   206706    2.57%          rho_20 N  41449  41448     73\n",
      "  46089 14923        0.2296    15        0.2343        0.2283   230891    2.57%           rho_0 U  46089  46088     25\n",
      "  50633 16313        0.2335     7        0.2343        0.2283   254873    2.57%          rho_12 N  50633  50632     63\n",
      "  55190 18003        0.2283     6        0.2343        0.2283   280105    2.57%           rho_5 D  55190  55189     31\n",
      "  59729 19533        0.2325     2        0.2343        0.2283   304270    2.57%           rho_3 D  59729  59727     46\n",
      "  64451 20967        0.2283     5        0.2343        0.2283   326414    2.57%          rho_12 D  64451  64448     27\n",
      "Elapsed time = 13.17 sec. (12640.89 ticks, tree = 5.87 MB, solutions = 2)\n",
      "  69436 22306        0.2306     6        0.2343        0.2283   347408    2.57%          rho_11 U  69436  69420     52\n",
      "  74083 23487        0.2337     6        0.2343        0.2283   369084    2.57%          rho_10 D  74083  74082     51\n",
      "  79039 24878        0.2315     6        0.2343        0.2283   388193    2.57%          rho_20 D  79039  79038     43\n",
      "  83829 26262        0.2335     4        0.2343        0.2283   407069    2.57%           rho_9 D  83829  83827     45\n",
      "  88430 27703        0.2307     7        0.2343        0.2283   428200    2.57%          rho_13 D  88430  88429     33\n",
      "  92804 28769        0.2283    10        0.2343        0.2283   450252    2.57%           rho_1 D  92804  86451     50\n",
      "  97193 29855        0.2337     4        0.2343        0.2283   472034    2.57%          rho_14 D  97193  97192     21\n",
      " 101488 31269        0.2332    10        0.2343        0.2283   493499    2.57%           rho_0 U 101488 101487     28\n",
      " 105837 32907        0.2305     4        0.2343        0.2283   517193    2.57%           rho_8 U 105837  50931     71\n",
      " 110010 33788        0.2300     5        0.2343        0.2283   538750    2.57%          rho_14 D 110010 110009     65\n",
      "Elapsed time = 22.06 sec. (22179.85 ticks, tree = 10.13 MB, solutions = 2)\n",
      " 114486 35138        0.2289     7        0.2343        0.2283   560184    2.57%           rho_3 N 114486  96719     42\n",
      " 118917 36419        0.2317     9        0.2343        0.2283   580484    2.57%          rho_12 D 118917 118916     54\n",
      " 123178 37585        0.2284     9        0.2343        0.2283   602090    2.57%           rho_8 N 123178 123177     55\n",
      " 127670 38990        0.2284     8        0.2343        0.2283   623550    2.57%          rho_12 D 127670 127669     55\n",
      " 131929 40251        0.2298    11        0.2343        0.2283   645101    2.57%           rho_1 U 131929 131928     52\n",
      " 136302 41583        0.2299    10        0.2343        0.2283   665817    2.57%          rho_10 N 136302  99651     17\n",
      " 140570 43327        0.2283     9        0.2343        0.2283   689454    2.57%           rho_7 D 140570 140569     48\n",
      " 144850 44366        0.2293    12        0.2343        0.2283   710448    2.57%          rho_10 N 144850 144818     74\n",
      " 149061 45398        cutoff              0.2343        0.2283   731386    2.57%          rho_12 U 149061 149059     66\n",
      " 153331 46435        0.2283     8        0.2343        0.2283   752329    2.57%           rho_2 D 153331 153235     58\n",
      "Elapsed time = 31.58 sec. (31719.14 ticks, tree = 12.98 MB, solutions = 2)\n",
      " 157577 47498        cutoff              0.2343        0.2283   773569    2.57%           rho_0 U 157577 157576     20\n",
      " 161881 48738        0.2319     6        0.2343        0.2283   794481    2.57%           rho_2 D 161881 161880     65\n",
      " 166236 49860        0.2332     8        0.2343        0.2283   814408    2.57%           rho_2 N 166236 166235     55\n",
      " 170588 50859        0.2283     8        0.2343        0.2283   834228    2.57%           rho_3 N 170588 170576     29\n",
      " 174942 51813        0.2327     6        0.2343        0.2283   853376    2.57%           rho_6 D 174942 174941     47\n",
      " 179222 52837        cutoff              0.2343        0.2283   873264    2.57%          rho_19 D 179222 179221     76\n",
      " 183540 53956        0.2312     4        0.2343        0.2283   894197    2.57%           rho_9 D 183540 183538     53\n",
      " 187798 55081        0.2283     7        0.2343        0.2283   915272    2.57%           rho_3 D 187798 187797     34\n",
      " 192060 56192        0.2307     6        0.2343        0.2283   936294    2.57%           rho_2 D 192060 192058     49\n",
      " 196219 57302        0.2324     5        0.2343        0.2283   957045    2.57%           rho_4 D 196219 196217     44\n",
      "Elapsed time = 41.66 sec. (41257.18 ticks, tree = 15.41 MB, solutions = 2)\n",
      " 200360 58391        0.2302     8        0.2343        0.2283   977373    2.57%          rho_11 D 200360 200359     55\n",
      " 204604 59634        0.2296     9        0.2343        0.2283   998296    2.57%          rho_12 N 204604 204590     41\n",
      " 208731 61026        0.2316     5        0.2343        0.2283  1018688    2.57%          rho_14 D 208731 208730     52\n",
      " 212696 62824        0.2338     1        0.2343        0.2283  1041938    2.57%          rho_13 N 212696 212694     69\n",
      " 216575 64550        0.2283    12        0.2343        0.2283  1065649    2.57%           rho_6 N 216575 216063     40\n",
      " 220502 66014        cutoff              0.2343        0.2283  1088208    2.57%          rho_19 D 220502 220500     45\n",
      " 224575 67070        0.2332     5        0.2343        0.2283  1109189    2.57%           rho_1 D 224575 224573     27\n",
      " 228661 68168        0.2320     6        0.2343        0.2283  1130619    2.57%           rho_6 D 228661 228660     13\n",
      " 232662 69405        0.2283    12        0.2343        0.2283  1153060    2.57%           rho_2 D 232662 138753     30\n",
      " 236550 70305        0.2338     5        0.2343        0.2283  1173512    2.57%           rho_4 D 236550 236548     28\n",
      "Elapsed time = 50.64 sec. (50795.78 ticks, tree = 21.19 MB, solutions = 2)\n",
      " 240459 71527        0.2339     3        0.2343        0.2283  1195847    2.57%          rho_19 N 240459 240458     41\n",
      " 244351 72958        0.2288    10        0.2343        0.2283  1219799    2.57%           rho_0 D 244351 244349     34\n",
      " 248170 74333        0.2307     5        0.2343        0.2283  1242735    2.57%           rho_2 N 248170 248169     41\n",
      " 251830 75708        0.2283     9        0.2343        0.2283  1265681    2.57%           rho_6 U 251830 251136     47\n",
      " 255868 76900        0.2325     8        0.2343        0.2283  1287784    2.57%           rho_2 U 255868 255783     30\n",
      " 260011 78226        0.2283     7        0.2343        0.2283  1309670    2.57%           rho_8 N 260011 259949     39\n",
      " 264162 79410        0.2283    10        0.2343        0.2283  1331393    2.57%           rho_0 D 264162 264155     47\n",
      " 268213 80596        0.2283    10        0.2343        0.2283  1353182    2.57%           rho_2 D 268213 268147     75\n",
      " 272308 81806        0.2297    10        0.2343        0.2283  1374696    2.57%           rho_9 N 272308 272307     62\n",
      " 276102 83510        0.2321     4        0.2343        0.2283  1399377    2.57%           rho_5 D 276102 276100     20\n",
      "Elapsed time = 59.11 sec. (60334.56 ticks, tree = 24.14 MB, solutions = 2)\n",
      " 280092 84930        0.2283     9        0.2343        0.2283  1421440    2.57%           rho_6 D 280092 111300     31\n",
      " 283745 86925        0.2326     6        0.2343        0.2283  1448051    2.57%           rho_9 D 283745 283743     67\n",
      " 287320 88813        cutoff              0.2343        0.2283  1472422    2.57%          rho_14 D 287320 287319     53\n",
      " 291447 90412        0.2283     9        0.2343        0.2283  1495907    2.57%           rho_6 N 291447 281678     19\n",
      " 295570 91508        0.2343     5        0.2343        0.2283  1517585    2.57%           rho_9 D 295570 295568     72\n",
      " 299461 92733        0.2328     6        0.2343        0.2283  1540804    2.57%           rho_9 D 299461 299459     51\n",
      " 303590 94285        0.2283    10        0.2343        0.2283  1562670    2.57%           rho_0 D 303590 303535     42\n",
      " 307597 95628        0.2283     9        0.2343        0.2283  1584195    2.57%          rho_10 U 307597 302231     45\n",
      " 311650 97037        0.2327     4        0.2343        0.2283  1605573    2.57%           rho_1 U 311650 311649     36\n",
      " 315650 98300        0.2320     5        0.2343        0.2283  1626750    2.57%           rho_3 D 315650 315648     55\n",
      "Elapsed time = 67.95 sec. (69873.28 ticks, tree = 27.42 MB, solutions = 2)\n",
      " 319170 99963        0.2322     3        0.2343        0.2283  1652746    2.57%          rho_13 D 319170 319168     52\n",
      " 323008 101426        0.2313     7        0.2343        0.2283  1675609    2.57%          rho_12 N 323008 323007     70\n",
      " 326829 102857        0.2331     1        0.2343        0.2283  1699150    2.57%           rho_8 D 326829 326827     75\n",
      " 330636 104302        0.2288    12        0.2343        0.2283  1723035    2.57%           rho_0 D 330636 330634     47\n",
      " 334423 105861        0.2283     9        0.2343        0.2283  1747260    2.57%           rho_7 U 334423 334421     55\n",
      " 338331 106995        0.2294     8        0.2343        0.2283  1769315    2.57%          rho_10 U 338331 222459     59\n",
      " 342105 108643        0.2283    11        0.2343        0.2283  1793873    2.57%          rho_11 U 342105 341125     48\n",
      " 345758 110015        0.2283    10        0.2343        0.2283  1818537    2.57%          rho_11 N 345758 338918     18\n",
      " 349358 111430        0.2297    11        0.2343        0.2283  1842819    2.57%           rho_8 D 349358 349357     60\n",
      " 353220 112420        0.2329     5        0.2343        0.2283  1864383    2.57%          rho_14 D 353220 353218     51\n",
      "Elapsed time = 76.41 sec. (79412.25 ticks, tree = 30.56 MB, solutions = 2)\n",
      " 357293 113845        0.2336     4        0.2343        0.2283  1886061    2.57%          rho_13 D 357293 357291     58\n",
      " 361003 115263        0.2284    13        0.2343        0.2283  1909136    2.57%          rho_10 N 361003 361001     37\n",
      " 364634 116881        0.2327     1        0.2343        0.2283  1933779    2.57%          rho_13 D 364634 364632     45\n",
      " 368302 118272        0.2318    10        0.2343        0.2283  1957653    2.57%           rho_9 N 368302 368301     57\n",
      " 371990 119673        0.2283    10        0.2343        0.2283  1981075    2.57%           rho_5 D 371990 371989     66\n",
      " 375742 120966        cutoff              0.2343        0.2283  2003908    2.57%          rho_14 D 375742 375741     39\n",
      " 379420 122527        0.2283    12        0.2343        0.2283  2027957    2.57%          rho_10 D 379420 379419     23\n",
      " 383342 123949        0.2340     3        0.2343        0.2283  2050735    2.57%          rho_10 U 383342 383341     25\n",
      " 387343 125353        cutoff              0.2343        0.2283  2071890    2.57%          rho_12 U 387343 387342     32\n",
      " 402590 130154        0.2298    10        0.2343        0.2283  2161455    2.57%           rho_0 D 402590 298713     61\n",
      "Elapsed time = 86.91 sec. (91811.40 ticks, tree = 34.63 MB, solutions = 2)\n",
      " 417888 135551        0.2319     5        0.2343        0.2283  2251002    2.57%           rho_2 N 417888 417886     38\n",
      " 432796 140423        cutoff              0.2343        0.2283  2340787    2.57%           rho_9 U 432796 432795     57\n",
      " 447364 145754        0.2283    11        0.2343        0.2283  2433501    2.57%           rho_6 U 447364 447363     43\n",
      " 461514 150765        0.2334     7        0.2343        0.2283  2523663    2.57%           rho_2 D 461514 461512     40\n",
      " 476626 155332        0.2325     6        0.2343        0.2283  2612214    2.57%           rho_9 D 476626 476624     38\n",
      " 491643 160289        0.2326     9        0.2343        0.2283  2699266    2.57%          rho_12 N 491643 491642     40\n",
      " 506285 165113        0.2295    12        0.2343        0.2283  2788347    2.57%           rho_6 U 506285 420534     24\n",
      " 520872 169802        0.2338     1        0.2343        0.2283  2878666    2.57%          rho_13 N 520872 520870     77\n",
      " 535652 174781        0.2306    11        0.2343        0.2283  2969079    2.57%          rho_11 U 535652 398621     73\n",
      " 550393 179526        cutoff              0.2343        0.2283  3056809    2.57%           rho_8 D 550393 550392     45\n",
      "Elapsed time = 119.67 sec. (129960.28 ticks, tree = 50.74 MB, solutions = 2)\n",
      " 566180 184204        0.2331     5        0.2343        0.2285  3135673    2.50%          rho_12 N 566180 566179     25\n",
      " 583576 187179        cutoff              0.2343        0.2286  3201680    2.46%           rho_8 U 583576 583575     40\n",
      " 600746 189236        0.2320     5        0.2343        0.2287  3264125    2.43%           rho_3 D 600746 600744     49\n",
      " 617868 191357        0.2320     5        0.2343        0.2288  3330741    2.38%           rho_0 U 617868  42072     22\n",
      " 635126 193911        cutoff              0.2343        0.2289  3401880    2.33%          rho_13 D 635126 635125     76\n",
      " 653492 197481        0.2324     4        0.2343        0.2289  3465731    2.31%          rho_20 D 653492 653491     33\n",
      " 670560 200256        0.2290    11        0.2343        0.2290  3530604    2.28%           rho_6 D 670560 656527     43\n",
      " 687195 203579        0.2332     4        0.2343        0.2290  3594225    2.26%           rho_9 D 687195 687193     40\n",
      " 703939 207089        cutoff              0.2343        0.2291  3661293    2.24%          rho_19 U 703939 703938     55\n",
      " 721324 208364        0.2300     6        0.2343        0.2292  3731267    2.21%           rho_3 D 721324 721323     67\n",
      "Elapsed time = 150.17 sec. (168109.33 ticks, tree = 59.48 MB, solutions = 2)\n",
      " 738555 211071        0.2325     3        0.2343        0.2292  3798116    2.18%          rho_14 N 738555 598844     49\n",
      " 755879 213207        0.2305     7        0.2343        0.2293  3864331    2.15%          rho_12 D 755879 755877     64\n",
      " 773833 216927        0.2317     2        0.2343        0.2294  3929293    2.11%          rho_20 D 773833 773831     84\n",
      " 791182 217469        0.2299     7        0.2343        0.2295  3993665    2.08%          rho_12 N 791182  54037     43\n",
      " 809502 218799        0.2312     3        0.2343        0.2295  4055040    2.06%          rho_13 D 809502 809501     57\n",
      " 825680 221377        0.2313     8        0.2343        0.2296  4124563    2.02%           rho_3 D 825680 825679     52\n",
      " 843905 223186        0.2297     7        0.2343        0.2297  4185201    2.00%           rho_4 D 843905 110589     39\n",
      " 860587 224208        0.2331     5        0.2343        0.2297  4249453    1.98%          rho_12 N 860587 860586     37\n",
      " 878229 226123        0.2298    10        0.2343        0.2298  4315197    1.96%           rho_6 D 878229 417030     34\n",
      " 894590 229035        0.2322     4        0.2343        0.2298  4379817    1.94%           rho_3 D 894590 894589     58\n",
      "Elapsed time = 182.56 sec. (206258.36 ticks, tree = 66.75 MB, solutions = 2)\n",
      " 911400 230894        0.2305     9        0.2343        0.2298  4444729    1.92%           rho_9 D 911400 370211     45\n",
      " 928265 232097        0.2343     4        0.2343        0.2299  4503731    1.90%           rho_3 N 928265 928264     26\n",
      " 945068 233641        0.2331     6        0.2343        0.2300  4565445    1.86%          rho_13 D 945068 945066     56\n",
      " 961856 234962        0.2334     4        0.2343        0.2300  4624253    1.84%          rho_20 D 961856 961855     29\n",
      " 978460 233887        0.2334    11        0.2343        0.2301  4682650    1.82%           rho_9 D 978460 978458     59\n",
      "\n",
      "Implied bound cuts applied:  1\n",
      "Gomory fractional cuts applied:  1\n",
      "User cuts applied:  336\n",
      "\n",
      "Root node processing (before b&c):\n",
      "  Real time             =    0.06 sec. (1.16 ticks)\n",
      "Sequential b&c:\n",
      "  Real time             =  199.95 sec. (226749.65 ticks)\n",
      "                          ------------\n",
      "Total (root+branch&cut) =  200.02 sec. (226750.81 ticks)\n",
      "+-----------------------------------------------+-------------------+-----------+\n",
      "| Pr(Y = +1) = 1.0/(1.0 + exp(-(-17 + score))   |                   |           |\n",
      "| ============================================= | ================= | ========= |\n",
      "| p_arrest>=1                                   |         13 points |   + ..... |\n",
      "| p_arrest>=4                                   |          1 points |   + ..... |\n",
      "| p_misdemeanor>=1                              |          1 points |   + ..... |\n",
      "| p_pending_charge>=1                           |          1 points |   + ..... |\n",
      "| ============================================= | ================= | ========= |\n",
      "| ADD POINTS FROM ROWS 1 to 4                   |             SCORE |   = ..... |\n",
      "+-----------------------------------------------+-------------------+-----------+\n",
      "model_id, score_thresholds 0 {'rank_abs': [0]}\n",
      "get_disparity_predefined_group()\n"
     ]
    },
    {
     "name": "stderr",
     "output_type": "stream",
     "text": [
      "C:\\Users\\binha\\Documents\\Duke\\Cynthia Research\\psa-analysis - test2\\utils\\fairness_functions.py:82: RuntimeWarning:\n",
      "\n",
      "invalid value encountered in longlong_scalars\n",
      "\n",
      "C:\\Users\\binha\\Documents\\Duke\\Cynthia Research\\psa-analysis - test2\\utils\\fairness_functions.py:95: RuntimeWarning:\n",
      "\n",
      "divide by zero encountered in longlong_scalars\n",
      "\n",
      "C:\\Users\\binha\\Documents\\Duke\\Cynthia Research\\psa-analysis - test2\\utils\\fairness_functions.py:86: RuntimeWarning:\n",
      "\n",
      "invalid value encountered in longlong_scalars\n",
      "\n",
      "C:\\Users\\binha\\Documents\\Duke\\Cynthia Research\\psa-analysis - test2\\utils\\fairness_functions.py:95: RuntimeWarning:\n",
      "\n",
      "invalid value encountered in longlong_scalars\n",
      "\n"
     ]
    }
   ],
   "source": [
    "riskslim_summary = slim.risk_cv(X=sub_X, \n",
    "                                Y=sub_Y, \n",
    "                                indicator = indicator,\n",
    "                                y_label='recid_M6', \n",
    "                                max_coef=20, \n",
    "                                max_coef_number=10, \n",
    "                                max_runtime=200, \n",
    "                                c=1e-6, \n",
    "                                seed=816)"
   ]
  },
  {
   "cell_type": "code",
   "execution_count": 36,
   "metadata": {},
   "outputs": [
    {
     "data": {
      "text/plain": [
       "(0.6755383539700321, 0.6728946875376777)"
      ]
     },
     "execution_count": 36,
     "metadata": {},
     "output_type": "execute_result"
    }
   ],
   "source": [
    "np.mean(riskslim_summary['train_auc']), np.mean(riskslim_summary['test_auc'])"
   ]
  },
  {
   "cell_type": "markdown",
   "metadata": {},
   "source": [
    "### Arnold PSA"
   ]
  },
  {
   "cell_type": "code",
   "execution_count": 37,
   "metadata": {},
   "outputs": [],
   "source": [
    "### load data\n",
    "data = pd.read_csv(\"~/Documents/Duke/Cynthia Research/KY-analysis-mytrials/KY Recidivism/KY data/kentucky_data.csv\")\n",
    "X_arnold = data['nca_risk_score_raw'].values\n",
    "Y_arnold = data['recid_M_six_month'].values\n",
    "\n",
    "## set up cross validation\n",
    "cv = KFold(n_splits=5,shuffle=True,random_state=816)\n",
    "arnold_auc = []\n",
    "for train, test in cv.split(X_arnold, Y_arnold):\n",
    "    y_pred_arnold, y_test = X_arnold[test], Y_arnold[test]\n",
    "    arnold_auc.append(roc_auc_score(y_test, y_pred_arnold))"
   ]
  },
  {
   "cell_type": "markdown",
   "metadata": {},
   "source": [
    "### Corel"
   ]
  },
  {
   "cell_type": "code",
   "execution_count": 2,
   "metadata": {},
   "outputs": [],
   "source": [
    "## load stumps data\n",
    "data = pd.read_csv(\"~/Documents/Duke/Cynthia Research/KY-analysis-mytrials/KY Recidivism/KY data/kentucky_stumps.csv\")\n",
    "x, y = data.loc[:,:'current_violence>=1'], data['recid_M_six_month'].values\n",
    "y[y == -1] = 0"
   ]
  },
  {
   "cell_type": "code",
   "execution_count": 3,
   "metadata": {
    "scrolled": true
   },
   "outputs": [
    {
     "name": "stderr",
     "output_type": "stream",
     "text": [
      "C:\\Users\\binha\\Documents\\Duke\\Cynthia Research\\psa-analysis - test2\\utils\\fairness_functions.py:82: RuntimeWarning:\n",
      "\n",
      "invalid value encountered in longlong_scalars\n",
      "\n",
      "C:\\Users\\binha\\Documents\\Duke\\Cynthia Research\\psa-analysis - test2\\utils\\fairness_functions.py:95: RuntimeWarning:\n",
      "\n",
      "divide by zero encountered in longlong_scalars\n",
      "\n",
      "C:\\Users\\binha\\Documents\\Duke\\Cynthia Research\\psa-analysis - test2\\utils\\fairness_functions.py:86: RuntimeWarning:\n",
      "\n",
      "invalid value encountered in longlong_scalars\n",
      "\n",
      "C:\\Users\\binha\\Documents\\Duke\\Cynthia Research\\psa-analysis - test2\\utils\\fairness_functions.py:95: RuntimeWarning:\n",
      "\n",
      "invalid value encountered in longlong_scalars\n",
      "\n",
      "C:\\Users\\binha\\Documents\\Duke\\Cynthia Research\\psa-analysis - test2\\utils\\fairness_functions.py:82: RuntimeWarning:\n",
      "\n",
      "invalid value encountered in longlong_scalars\n",
      "\n",
      "C:\\Users\\binha\\Documents\\Duke\\Cynthia Research\\psa-analysis - test2\\utils\\fairness_functions.py:95: RuntimeWarning:\n",
      "\n",
      "divide by zero encountered in longlong_scalars\n",
      "\n",
      "C:\\Users\\binha\\Documents\\Duke\\Cynthia Research\\psa-analysis - test2\\utils\\fairness_functions.py:86: RuntimeWarning:\n",
      "\n",
      "invalid value encountered in longlong_scalars\n",
      "\n",
      "C:\\Users\\binha\\Documents\\Duke\\Cynthia Research\\psa-analysis - test2\\utils\\fairness_functions.py:95: RuntimeWarning:\n",
      "\n",
      "invalid value encountered in longlong_scalars\n",
      "\n",
      "C:\\Users\\binha\\Documents\\Duke\\Cynthia Research\\psa-analysis - test2\\utils\\fairness_functions.py:82: RuntimeWarning:\n",
      "\n",
      "invalid value encountered in longlong_scalars\n",
      "\n",
      "C:\\Users\\binha\\Documents\\Duke\\Cynthia Research\\psa-analysis - test2\\utils\\fairness_functions.py:95: RuntimeWarning:\n",
      "\n",
      "divide by zero encountered in longlong_scalars\n",
      "\n",
      "C:\\Users\\binha\\Documents\\Duke\\Cynthia Research\\psa-analysis - test2\\utils\\fairness_functions.py:82: RuntimeWarning:\n",
      "\n",
      "invalid value encountered in longlong_scalars\n",
      "\n",
      "C:\\Users\\binha\\Documents\\Duke\\Cynthia Research\\psa-analysis - test2\\utils\\fairness_functions.py:95: RuntimeWarning:\n",
      "\n",
      "divide by zero encountered in longlong_scalars\n",
      "\n",
      "C:\\Users\\binha\\Documents\\Duke\\Cynthia Research\\psa-analysis - test2\\utils\\fairness_functions.py:82: RuntimeWarning:\n",
      "\n",
      "invalid value encountered in longlong_scalars\n",
      "\n",
      "C:\\Users\\binha\\Documents\\Duke\\Cynthia Research\\psa-analysis - test2\\utils\\fairness_functions.py:95: RuntimeWarning:\n",
      "\n",
      "divide by zero encountered in longlong_scalars\n",
      "\n",
      "C:\\Users\\binha\\Documents\\Duke\\Cynthia Research\\psa-analysis - test2\\utils\\fairness_functions.py:86: RuntimeWarning:\n",
      "\n",
      "invalid value encountered in longlong_scalars\n",
      "\n",
      "C:\\Users\\binha\\Documents\\Duke\\Cynthia Research\\psa-analysis - test2\\utils\\fairness_functions.py:95: RuntimeWarning:\n",
      "\n",
      "invalid value encountered in longlong_scalars\n",
      "\n"
     ]
    }
   ],
   "source": [
    "corel_summary = Corel.corel_cv(x, y, max_card=2, c=1e-4, seed=816)"
   ]
  },
  {
   "cell_type": "code",
   "execution_count": 4,
   "metadata": {},
   "outputs": [
    {
     "data": {
      "text/plain": [
       "(0.5, 0.0)"
      ]
     },
     "execution_count": 4,
     "metadata": {},
     "output_type": "execute_result"
    }
   ],
   "source": [
    "np.mean(corel_summary['test_auc']), np.std(corel_summary['test_auc'])"
   ]
  },
  {
   "cell_type": "markdown",
   "metadata": {},
   "source": [
    "### Results"
   ]
  },
  {
   "cell_type": "code",
   "execution_count": 41,
   "metadata": {},
   "outputs": [
    {
     "name": "stdout",
     "output_type": "stream",
     "text": [
      "Stored 'summary_M6_KY_interpret' (dict)\n"
     ]
    }
   ],
   "source": [
    "#### save results\n",
    "summary_M6_KY_interpret = {\"CART\": cart_summary,\n",
    "                           \"EBM\": ebm_summary, \n",
    "                           'Lasso Stumps': stump_summary, \n",
    "                           'RiskSLIM': riskslim_summary,  \n",
    "                           'Corel': corel_summary,\n",
    "                           'Arnold PSA': arnold_auc}\n",
    "%store summary_M6_KY_interpret"
   ]
  },
  {
   "cell_type": "code",
   "execution_count": 42,
   "metadata": {},
   "outputs": [
    {
     "data": {
      "text/plain": [
       "[['CART', 0.7224423758113522, 0.023048816137339355],\n",
       " ['EBM', 0.7300833843778808, 0.010547128365449864],\n",
       " ['Lasso Stumps', 0.7248726933415008, 0.0017502915220464655],\n",
       " ['RiskSLIM', 0.6728946875376777],\n",
       " ['Corel', 0.5],\n",
       " ['Arnold PSA', 0.692]]"
      ]
     },
     "execution_count": 42,
     "metadata": {},
     "output_type": "execute_result"
    }
   ],
   "source": [
    "results = [[\"CART\", np.mean(cart_summary['holdout_test_auc']), np.mean(cart_summary['auc_diffs'])],\n",
    "           [\"EBM\", np.mean(ebm_summary['holdout_test_auc']), np.mean(ebm_summary['auc_diffs'])], \n",
    "           [\"Lasso Stumps\", np.mean(stump_summary['holdout_test_auc']), np.mean(stump_summary['auc_diffs'])],\n",
    "           ['RiskSLIM', np.mean(riskslim_summary['test_auc'])],\n",
    "           ['Corel', np.mean(corel_summary['test_auc'])],\n",
    "           ['Arnold PSA', round(np.mean(arnold_auc), 3)]]\n",
    "results"
   ]
  },
  {
   "cell_type": "code",
   "execution_count": 43,
   "metadata": {},
   "outputs": [],
   "source": [
    "auc = [np.mean(cart_summary['holdout_test_auc']), \n",
    "       np.mean(ebm_summary['holdout_test_auc']), \n",
    "       np.mean(stump_summary['holdout_test_auc']), \n",
    "       np.mean(riskslim_summary['test_auc']), \n",
    "       np.mean(corel_summary['test_auc'])]"
   ]
  },
  {
   "cell_type": "code",
   "execution_count": 44,
   "metadata": {},
   "outputs": [],
   "source": [
    "path = \"C:/Users/binha/Documents/Duke/Cynthia Research/KY-analysis-mytrials/KY Recidivism/KY Results/Models/Six Month/\"\n",
    "results = [[\"Misdemeanor\", np.str((round(np.mean(cart_summary['holdout_test_auc']), 3))) + \" (\" + np.str(round(np.std(cart_summary['holdout_test_auc']), 3)) + \")\", \n",
    "            np.str(round(np.mean(ebm_summary['holdout_test_auc']),3)) + \" (\" + np.str(round(np.std(ebm_summary['holdout_test_auc']), 3)) + \")\", \n",
    "            np.str(round(np.mean(stump_summary['holdout_test_auc']),3)) + \" (\" + np.str(round(np.std(stump_summary['holdout_test_auc']), 3)) + \")\",             \n",
    "            np.str(round(np.mean(riskslim_summary['test_auc']),3)) + \" (\" + np.str(round(np.std(riskslim_summary['test_auc']), 3)) + \")\", \n",
    "            np.str(round(np.mean(corel_summary['test_auc']),3)) + \" (\" + np.str(round(np.std(corel_summary['test_auc']), 3)) + \")\", \n",
    "            round(np.max(auc) - np.min(auc), 3),\n",
    "            np.str(round(np.mean(arnold_auc), 3)) + \" (\" + np.str(round(np.std(arnold_auc),3)) + \")\"]]\n",
    "with open(path + 'Interpretable Models Summary.csv', 'a') as writeFile:\n",
    "    writer = csv.writer(writeFile)\n",
    "    writer.writerows(results)"
   ]
  },
  {
   "cell_type": "code",
   "execution_count": 46,
   "metadata": {},
   "outputs": [],
   "source": [
    "cart_confusion = cart_summary['confusion_matrix_stats']\n",
    "ebm_confusion = ebm_summary['confusion_matrix_stats']\n",
    "riskslim_confusion = riskslim_summary['confusion_matrix_stats']\n",
    "stumps_confusion = stump_summary['confusion_matrix_stats']\n",
    "corel_confusion = corel_summary['confusion_matrix_stats']\n",
    "#arnold_confusion = cart_summary['confusion_matrix_stats']\n",
    "\n",
    "## save results\n",
    "cart_confusion.to_csv(r'C:/Users/binha/Documents/Duke/Cynthia Research/KY-analysis-mytrials/KY Recidivism/KY Fairness/Six Month/misdemeanor/cart_confusion.csv', index=None,header=True)\n",
    "ebm_confusion.to_csv(r'C:/Users/binha/Documents/Duke/Cynthia Research/KY-analysis-mytrials/KY Recidivism/KY Fairness/Six Month/misdemeanor/ebm_confusion.csv', index=None,header=True)\n",
    "riskslim_confusion.to_csv(r'C:/Users/binha/Documents/Duke/Cynthia Research/KY-analysis-mytrials/KY Recidivism/KY Fairness/Six Month/misdemeanor/riskslim_confusion.csv', index=None,header=True)\n",
    "stumps_confusion.to_csv(r'C:/Users/binha/Documents/Duke/Cynthia Research/KY-analysis-mytrials/KY Recidivism/KY Fairness/Six Month/misdemeanor/stumps_confusion.csv', index=None,header=True)\n",
    "corel_confusion.to_csv(r'C:/Users/binha/Documents/Duke/Cynthia Research/KY-analysis-mytrials/KY Recidivism/KY Fairness/Six Month/misdemeanor/corel_confusion.csv', index=None,header=True)\n",
    "#arnold_confusion.to_csv(r'C:/Users/binha/Documents/Duke/Cynthia Research/KY-analysis-mytrials/broward/broward models/model fairness/Two Year/general/arnold_confusion.csv', index=None,header=True)"
   ]
  },
  {
   "cell_type": "code",
   "execution_count": 5,
   "metadata": {},
   "outputs": [],
   "source": [
    "corel_confusion = corel_summary['confusion_matrix_stats']\n",
    "corel_confusion.to_csv(r'C:/Users/binha/Documents/Duke/Cynthia Research/KY-analysis-mytrials/KY Recidivism/KY Fairness/Six Month/misdemeanor/corel_confusion.csv', index=None,header=True)"
   ]
  }
 ],
 "metadata": {
  "kernelspec": {
   "display_name": "Python 3",
   "language": "python",
   "name": "python3"
  },
  "language_info": {
   "codemirror_mode": {
    "name": "ipython",
    "version": 3
   },
   "file_extension": ".py",
   "mimetype": "text/x-python",
   "name": "python",
   "nbconvert_exporter": "python",
   "pygments_lexer": "ipython3",
   "version": "3.7.4"
  }
 },
 "nbformat": 4,
 "nbformat_minor": 4
}
