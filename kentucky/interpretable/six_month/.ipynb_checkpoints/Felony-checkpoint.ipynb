{
 "cells": [
  {
   "cell_type": "code",
   "execution_count": 1,
   "metadata": {},
   "outputs": [
    {
     "name": "stdout",
     "output_type": "stream",
     "text": [
      "Current working directory is now:  C:\\Users\\binha\\Documents\\Duke\\Cynthia Research\\psa-analysis - test2\n"
     ]
    },
    {
     "name": "stderr",
     "output_type": "stream",
     "text": [
      "C:\\Users\\binha\\Anaconda3\\lib\\site-packages\\sklearn\\externals\\six.py:31: DeprecationWarning:\n",
      "\n",
      "The module is deprecated in version 0.21 and will be removed in version 0.23 since we've dropped support for Python 2.7. Please rely on the official version of six (https://pypi.org/project/six/).\n",
      "\n"
     ]
    }
   ],
   "source": [
    "import os \n",
    "os.chdir('../../../')\n",
    "print(\"Current working directory is now: \", os.getcwd())\n",
    "\n",
    "import pandas as pd \n",
    "import numpy as np\n",
    "import csv\n",
    "import utils.interpretable_functions as interpret\n",
    "import utils.RiskSLIM as slim\n",
    "import utils.stumps as stumps\n",
    "import utils.Corel as Corel\n",
    "\n",
    "from sklearn.linear_model import LogisticRegression\n",
    "from sklearn.model_selection import KFold, GridSearchCV\n",
    "from sklearn.metrics import roc_auc_score\n",
    "\n",
    "# restore saved variables\n",
    "%store -r summary_F6_KY_interpret"
   ]
  },
  {
   "cell_type": "markdown",
   "metadata": {},
   "source": [
    "### CART & EBM"
   ]
  },
  {
   "cell_type": "code",
   "execution_count": 19,
   "metadata": {},
   "outputs": [],
   "source": [
    "### load data\n",
    "data = pd.read_csv(\"~/Documents/Duke/Cynthia Research/KY-analysis-mytrials/KY Recidivism/KY data/kentucky_data.csv\")\n",
    "data = data.drop(['fta_risk_score_raw','nca_risk_score_raw','pvf_risk_score_raw', \n",
    "                  'fta_calc', 'nca_calc', 'pvf_calc'], axis=1)\n",
    "x = data.loc[:,:'current_violence']\n",
    "y = data['recid_F_six_month'].values"
   ]
  },
  {
   "cell_type": "code",
   "execution_count": 20,
   "metadata": {
    "scrolled": true
   },
   "outputs": [
    {
     "name": "stdout",
     "output_type": "stream",
     "text": [
      "model_id, score_thresholds 0 {'rank_abs': [40]}\n",
      "get_disparity_predefined_group()\n"
     ]
    },
    {
     "name": "stderr",
     "output_type": "stream",
     "text": [
      "C:\\Users\\binha\\Documents\\Duke\\Cynthia Research\\psa-analysis - test2\\utils\\fairness_functions.py:82: RuntimeWarning:\n",
      "\n",
      "invalid value encountered in longlong_scalars\n",
      "\n",
      "C:\\Users\\binha\\Documents\\Duke\\Cynthia Research\\psa-analysis - test2\\utils\\fairness_functions.py:95: RuntimeWarning:\n",
      "\n",
      "divide by zero encountered in longlong_scalars\n",
      "\n",
      "C:\\Users\\binha\\Documents\\Duke\\Cynthia Research\\psa-analysis - test2\\utils\\fairness_functions.py:86: RuntimeWarning:\n",
      "\n",
      "invalid value encountered in longlong_scalars\n",
      "\n",
      "C:\\Users\\binha\\Documents\\Duke\\Cynthia Research\\psa-analysis - test2\\utils\\fairness_functions.py:95: RuntimeWarning:\n",
      "\n",
      "invalid value encountered in longlong_scalars\n",
      "\n"
     ]
    },
    {
     "name": "stdout",
     "output_type": "stream",
     "text": [
      "model_id, score_thresholds 0 {'rank_abs': [18]}\n",
      "get_disparity_predefined_group()\n"
     ]
    },
    {
     "name": "stderr",
     "output_type": "stream",
     "text": [
      "C:\\Users\\binha\\Documents\\Duke\\Cynthia Research\\psa-analysis - test2\\utils\\fairness_functions.py:82: RuntimeWarning:\n",
      "\n",
      "invalid value encountered in longlong_scalars\n",
      "\n",
      "C:\\Users\\binha\\Documents\\Duke\\Cynthia Research\\psa-analysis - test2\\utils\\fairness_functions.py:95: RuntimeWarning:\n",
      "\n",
      "divide by zero encountered in longlong_scalars\n",
      "\n"
     ]
    },
    {
     "name": "stdout",
     "output_type": "stream",
     "text": [
      "model_id, score_thresholds 0 {'rank_abs': [22]}\n",
      "get_disparity_predefined_group()\n"
     ]
    },
    {
     "name": "stderr",
     "output_type": "stream",
     "text": [
      "C:\\Users\\binha\\Documents\\Duke\\Cynthia Research\\psa-analysis - test2\\utils\\fairness_functions.py:82: RuntimeWarning:\n",
      "\n",
      "invalid value encountered in longlong_scalars\n",
      "\n",
      "C:\\Users\\binha\\Documents\\Duke\\Cynthia Research\\psa-analysis - test2\\utils\\fairness_functions.py:95: RuntimeWarning:\n",
      "\n",
      "divide by zero encountered in longlong_scalars\n",
      "\n",
      "C:\\Users\\binha\\Documents\\Duke\\Cynthia Research\\psa-analysis - test2\\utils\\fairness_functions.py:86: RuntimeWarning:\n",
      "\n",
      "invalid value encountered in longlong_scalars\n",
      "\n",
      "C:\\Users\\binha\\Documents\\Duke\\Cynthia Research\\psa-analysis - test2\\utils\\fairness_functions.py:95: RuntimeWarning:\n",
      "\n",
      "invalid value encountered in longlong_scalars\n",
      "\n"
     ]
    },
    {
     "name": "stdout",
     "output_type": "stream",
     "text": [
      "model_id, score_thresholds 0 {'rank_abs': [35]}\n",
      "get_disparity_predefined_group()\n"
     ]
    },
    {
     "name": "stderr",
     "output_type": "stream",
     "text": [
      "C:\\Users\\binha\\Documents\\Duke\\Cynthia Research\\psa-analysis - test2\\utils\\fairness_functions.py:82: RuntimeWarning:\n",
      "\n",
      "invalid value encountered in longlong_scalars\n",
      "\n",
      "C:\\Users\\binha\\Documents\\Duke\\Cynthia Research\\psa-analysis - test2\\utils\\fairness_functions.py:86: RuntimeWarning:\n",
      "\n",
      "invalid value encountered in longlong_scalars\n",
      "\n",
      "C:\\Users\\binha\\Documents\\Duke\\Cynthia Research\\psa-analysis - test2\\utils\\fairness_functions.py:95: RuntimeWarning:\n",
      "\n",
      "invalid value encountered in longlong_scalars\n",
      "\n",
      "C:\\Users\\binha\\Documents\\Duke\\Cynthia Research\\psa-analysis - test2\\utils\\fairness_functions.py:95: RuntimeWarning:\n",
      "\n",
      "divide by zero encountered in longlong_scalars\n",
      "\n"
     ]
    },
    {
     "name": "stdout",
     "output_type": "stream",
     "text": [
      "model_id, score_thresholds 0 {'rank_abs': [21]}\n",
      "get_disparity_predefined_group()\n"
     ]
    },
    {
     "name": "stderr",
     "output_type": "stream",
     "text": [
      "C:\\Users\\binha\\Documents\\Duke\\Cynthia Research\\psa-analysis - test2\\utils\\fairness_functions.py:82: RuntimeWarning:\n",
      "\n",
      "invalid value encountered in longlong_scalars\n",
      "\n",
      "C:\\Users\\binha\\Documents\\Duke\\Cynthia Research\\psa-analysis - test2\\utils\\fairness_functions.py:95: RuntimeWarning:\n",
      "\n",
      "divide by zero encountered in longlong_scalars\n",
      "\n",
      "C:\\Users\\binha\\Documents\\Duke\\Cynthia Research\\psa-analysis - test2\\utils\\fairness_functions.py:86: RuntimeWarning:\n",
      "\n",
      "invalid value encountered in longlong_scalars\n",
      "\n",
      "C:\\Users\\binha\\Documents\\Duke\\Cynthia Research\\psa-analysis - test2\\utils\\fairness_functions.py:95: RuntimeWarning:\n",
      "\n",
      "invalid value encountered in longlong_scalars\n",
      "\n",
      "WARNING:interpret.utils.all:Passing a numpy array to schema autogen when it should be dataframe.\n",
      "WARNING:interpret.utils.all:Passing a numpy array to schema autogen when it should be dataframe.\n",
      "WARNING:interpret.utils.all:Passing a numpy array to schema autogen when it should be dataframe.\n",
      "WARNING:interpret.utils.all:Passing a numpy array to schema autogen when it should be dataframe.\n",
      "WARNING:interpret.utils.all:Passing a numpy array to schema autogen when it should be dataframe.\n",
      "WARNING:interpret.utils.all:Passing a numpy array to schema autogen when it should be dataframe.\n",
      "WARNING:interpret.utils.all:Passing a numpy array to schema autogen when it should be dataframe.\n",
      "WARNING:interpret.utils.all:Passing a numpy array to schema autogen when it should be dataframe.\n",
      "WARNING:interpret.utils.all:Passing a numpy array to schema autogen when it should be dataframe.\n",
      "WARNING:interpret.utils.all:Passing a numpy array to schema autogen when it should be dataframe.\n",
      "WARNING:interpret.utils.all:Passing a numpy array to schema autogen when it should be dataframe.\n",
      "WARNING:interpret.utils.all:Passing a numpy array to schema autogen when it should be dataframe.\n"
     ]
    },
    {
     "name": "stdout",
     "output_type": "stream",
     "text": [
      "model_id, score_thresholds 0 {'rank_abs': [16]}\n",
      "get_disparity_predefined_group()\n"
     ]
    },
    {
     "name": "stderr",
     "output_type": "stream",
     "text": [
      "C:\\Users\\binha\\Documents\\Duke\\Cynthia Research\\psa-analysis - test2\\utils\\fairness_functions.py:95: RuntimeWarning:\n",
      "\n",
      "divide by zero encountered in longlong_scalars\n",
      "\n",
      "C:\\Users\\binha\\Documents\\Duke\\Cynthia Research\\psa-analysis - test2\\utils\\fairness_functions.py:82: RuntimeWarning:\n",
      "\n",
      "invalid value encountered in longlong_scalars\n",
      "\n",
      "C:\\Users\\binha\\Documents\\Duke\\Cynthia Research\\psa-analysis - test2\\utils\\fairness_functions.py:86: RuntimeWarning:\n",
      "\n",
      "invalid value encountered in longlong_scalars\n",
      "\n",
      "C:\\Users\\binha\\Documents\\Duke\\Cynthia Research\\psa-analysis - test2\\utils\\fairness_functions.py:95: RuntimeWarning:\n",
      "\n",
      "invalid value encountered in longlong_scalars\n",
      "\n",
      "WARNING:interpret.utils.all:Passing a numpy array to schema autogen when it should be dataframe.\n",
      "WARNING:interpret.utils.all:Passing a numpy array to schema autogen when it should be dataframe.\n",
      "WARNING:interpret.utils.all:Passing a numpy array to schema autogen when it should be dataframe.\n",
      "WARNING:interpret.utils.all:Passing a numpy array to schema autogen when it should be dataframe.\n",
      "WARNING:interpret.utils.all:Passing a numpy array to schema autogen when it should be dataframe.\n",
      "WARNING:interpret.utils.all:Passing a numpy array to schema autogen when it should be dataframe.\n",
      "WARNING:interpret.utils.all:Passing a numpy array to schema autogen when it should be dataframe.\n",
      "WARNING:interpret.utils.all:Passing a numpy array to schema autogen when it should be dataframe.\n",
      "WARNING:interpret.utils.all:Passing a numpy array to schema autogen when it should be dataframe.\n",
      "WARNING:interpret.utils.all:Passing a numpy array to schema autogen when it should be dataframe.\n",
      "WARNING:interpret.utils.all:Passing a numpy array to schema autogen when it should be dataframe.\n",
      "WARNING:interpret.utils.all:Passing a numpy array to schema autogen when it should be dataframe.\n"
     ]
    },
    {
     "name": "stdout",
     "output_type": "stream",
     "text": [
      "model_id, score_thresholds 0 {'rank_abs': [15]}\n",
      "get_disparity_predefined_group()\n"
     ]
    },
    {
     "name": "stderr",
     "output_type": "stream",
     "text": [
      "C:\\Users\\binha\\Documents\\Duke\\Cynthia Research\\psa-analysis - test2\\utils\\fairness_functions.py:82: RuntimeWarning:\n",
      "\n",
      "invalid value encountered in longlong_scalars\n",
      "\n",
      "C:\\Users\\binha\\Documents\\Duke\\Cynthia Research\\psa-analysis - test2\\utils\\fairness_functions.py:95: RuntimeWarning:\n",
      "\n",
      "divide by zero encountered in longlong_scalars\n",
      "\n",
      "WARNING:interpret.utils.all:Passing a numpy array to schema autogen when it should be dataframe.\n",
      "WARNING:interpret.utils.all:Passing a numpy array to schema autogen when it should be dataframe.\n",
      "WARNING:interpret.utils.all:Passing a numpy array to schema autogen when it should be dataframe.\n",
      "WARNING:interpret.utils.all:Passing a numpy array to schema autogen when it should be dataframe.\n",
      "WARNING:interpret.utils.all:Passing a numpy array to schema autogen when it should be dataframe.\n",
      "WARNING:interpret.utils.all:Passing a numpy array to schema autogen when it should be dataframe.\n",
      "WARNING:interpret.utils.all:Passing a numpy array to schema autogen when it should be dataframe.\n",
      "WARNING:interpret.utils.all:Passing a numpy array to schema autogen when it should be dataframe.\n",
      "WARNING:interpret.utils.all:Passing a numpy array to schema autogen when it should be dataframe.\n",
      "WARNING:interpret.utils.all:Passing a numpy array to schema autogen when it should be dataframe.\n",
      "WARNING:interpret.utils.all:Passing a numpy array to schema autogen when it should be dataframe.\n",
      "WARNING:interpret.utils.all:Passing a numpy array to schema autogen when it should be dataframe.\n"
     ]
    },
    {
     "name": "stdout",
     "output_type": "stream",
     "text": [
      "model_id, score_thresholds 0 {'rank_abs': [15]}\n",
      "get_disparity_predefined_group()\n"
     ]
    },
    {
     "name": "stderr",
     "output_type": "stream",
     "text": [
      "C:\\Users\\binha\\Documents\\Duke\\Cynthia Research\\psa-analysis - test2\\utils\\fairness_functions.py:82: RuntimeWarning:\n",
      "\n",
      "invalid value encountered in longlong_scalars\n",
      "\n",
      "C:\\Users\\binha\\Documents\\Duke\\Cynthia Research\\psa-analysis - test2\\utils\\fairness_functions.py:95: RuntimeWarning:\n",
      "\n",
      "divide by zero encountered in longlong_scalars\n",
      "\n",
      "C:\\Users\\binha\\Documents\\Duke\\Cynthia Research\\psa-analysis - test2\\utils\\fairness_functions.py:86: RuntimeWarning:\n",
      "\n",
      "invalid value encountered in longlong_scalars\n",
      "\n",
      "C:\\Users\\binha\\Documents\\Duke\\Cynthia Research\\psa-analysis - test2\\utils\\fairness_functions.py:95: RuntimeWarning:\n",
      "\n",
      "invalid value encountered in longlong_scalars\n",
      "\n",
      "WARNING:interpret.utils.all:Passing a numpy array to schema autogen when it should be dataframe.\n",
      "WARNING:interpret.utils.all:Passing a numpy array to schema autogen when it should be dataframe.\n",
      "WARNING:interpret.utils.all:Passing a numpy array to schema autogen when it should be dataframe.\n",
      "WARNING:interpret.utils.all:Passing a numpy array to schema autogen when it should be dataframe.\n",
      "WARNING:interpret.utils.all:Passing a numpy array to schema autogen when it should be dataframe.\n",
      "WARNING:interpret.utils.all:Passing a numpy array to schema autogen when it should be dataframe.\n",
      "WARNING:interpret.utils.all:Passing a numpy array to schema autogen when it should be dataframe.\n",
      "WARNING:interpret.utils.all:Passing a numpy array to schema autogen when it should be dataframe.\n",
      "WARNING:interpret.utils.all:Passing a numpy array to schema autogen when it should be dataframe.\n",
      "WARNING:interpret.utils.all:Passing a numpy array to schema autogen when it should be dataframe.\n",
      "WARNING:interpret.utils.all:Passing a numpy array to schema autogen when it should be dataframe.\n",
      "WARNING:interpret.utils.all:Passing a numpy array to schema autogen when it should be dataframe.\n"
     ]
    },
    {
     "name": "stdout",
     "output_type": "stream",
     "text": [
      "model_id, score_thresholds 0 {'rank_abs': [15]}\n",
      "get_disparity_predefined_group()\n"
     ]
    },
    {
     "name": "stderr",
     "output_type": "stream",
     "text": [
      "C:\\Users\\binha\\Documents\\Duke\\Cynthia Research\\psa-analysis - test2\\utils\\fairness_functions.py:82: RuntimeWarning:\n",
      "\n",
      "invalid value encountered in longlong_scalars\n",
      "\n",
      "C:\\Users\\binha\\Documents\\Duke\\Cynthia Research\\psa-analysis - test2\\utils\\fairness_functions.py:86: RuntimeWarning:\n",
      "\n",
      "invalid value encountered in longlong_scalars\n",
      "\n",
      "C:\\Users\\binha\\Documents\\Duke\\Cynthia Research\\psa-analysis - test2\\utils\\fairness_functions.py:95: RuntimeWarning:\n",
      "\n",
      "invalid value encountered in longlong_scalars\n",
      "\n",
      "C:\\Users\\binha\\Documents\\Duke\\Cynthia Research\\psa-analysis - test2\\utils\\fairness_functions.py:95: RuntimeWarning:\n",
      "\n",
      "divide by zero encountered in longlong_scalars\n",
      "\n",
      "WARNING:interpret.utils.all:Passing a numpy array to schema autogen when it should be dataframe.\n",
      "WARNING:interpret.utils.all:Passing a numpy array to schema autogen when it should be dataframe.\n",
      "WARNING:interpret.utils.all:Passing a numpy array to schema autogen when it should be dataframe.\n",
      "WARNING:interpret.utils.all:Passing a numpy array to schema autogen when it should be dataframe.\n",
      "WARNING:interpret.utils.all:Passing a numpy array to schema autogen when it should be dataframe.\n",
      "WARNING:interpret.utils.all:Passing a numpy array to schema autogen when it should be dataframe.\n",
      "WARNING:interpret.utils.all:Passing a numpy array to schema autogen when it should be dataframe.\n",
      "WARNING:interpret.utils.all:Passing a numpy array to schema autogen when it should be dataframe.\n",
      "WARNING:interpret.utils.all:Passing a numpy array to schema autogen when it should be dataframe.\n",
      "WARNING:interpret.utils.all:Passing a numpy array to schema autogen when it should be dataframe.\n",
      "WARNING:interpret.utils.all:Passing a numpy array to schema autogen when it should be dataframe.\n",
      "WARNING:interpret.utils.all:Passing a numpy array to schema autogen when it should be dataframe.\n"
     ]
    },
    {
     "name": "stdout",
     "output_type": "stream",
     "text": [
      "model_id, score_thresholds 0 {'rank_abs': [16]}\n",
      "get_disparity_predefined_group()\n"
     ]
    },
    {
     "name": "stderr",
     "output_type": "stream",
     "text": [
      "C:\\Users\\binha\\Documents\\Duke\\Cynthia Research\\psa-analysis - test2\\utils\\fairness_functions.py:82: RuntimeWarning:\n",
      "\n",
      "invalid value encountered in longlong_scalars\n",
      "\n",
      "C:\\Users\\binha\\Documents\\Duke\\Cynthia Research\\psa-analysis - test2\\utils\\fairness_functions.py:95: RuntimeWarning:\n",
      "\n",
      "divide by zero encountered in longlong_scalars\n",
      "\n",
      "C:\\Users\\binha\\Documents\\Duke\\Cynthia Research\\psa-analysis - test2\\utils\\fairness_functions.py:86: RuntimeWarning:\n",
      "\n",
      "invalid value encountered in longlong_scalars\n",
      "\n",
      "C:\\Users\\binha\\Documents\\Duke\\Cynthia Research\\psa-analysis - test2\\utils\\fairness_functions.py:95: RuntimeWarning:\n",
      "\n",
      "invalid value encountered in longlong_scalars\n",
      "\n"
     ]
    }
   ],
   "source": [
    "#### CART\n",
    "depth = [7,8,9]\n",
    "cart_summary = interpret.CART(X=x,\n",
    "                         Y=y,\n",
    "                         depth=depth,\n",
    "                         seed=816)\n",
    "\n",
    "#### EBM\n",
    "estimators = [60]\n",
    "depth = [2]\n",
    "learning_rate = [0.5]\n",
    "ebm_summary = interpret.EBM(X=x,\n",
    "                       Y=y,\n",
    "                       learning_rate=learning_rate,\n",
    "                       depth=depth,\n",
    "                       estimators=estimators,\n",
    "                       seed =816)"
   ]
  },
  {
   "cell_type": "code",
   "execution_count": 23,
   "metadata": {},
   "outputs": [
    {
     "data": {
      "text/plain": [
       "(0.7666389244198111, 0.02085633748154587)"
      ]
     },
     "execution_count": 23,
     "metadata": {},
     "output_type": "execute_result"
    }
   ],
   "source": [
    "np.mean(cart_summary['holdout_test_auc']), np.mean(cart_summary['auc_diffs'])"
   ]
  },
  {
   "cell_type": "code",
   "execution_count": 24,
   "metadata": {},
   "outputs": [
    {
     "data": {
      "text/plain": [
       "(0.7739769169172932, 0.009525432063513795)"
      ]
     },
     "execution_count": 24,
     "metadata": {},
     "output_type": "execute_result"
    }
   ],
   "source": [
    "np.mean(ebm_summary['holdout_test_auc']), np.mean(ebm_summary['auc_diffs'])"
   ]
  },
  {
   "cell_type": "markdown",
   "metadata": {},
   "source": [
    "## Lasso Stumps"
   ]
  },
  {
   "cell_type": "code",
   "execution_count": 25,
   "metadata": {},
   "outputs": [],
   "source": [
    "## load whole data\n",
    "data = pd.read_csv(\"~/Documents/Duke/Cynthia Research/KY-analysis-mytrials/KY Recidivism/KY data/kentucky_stumps.csv\")\n",
    "X_stumps, Y_stumps = data.loc[:,:'current_violence>=1'], data['recid_F_six_month'].values\n",
    "Y_stumps[Y_stumps == -1] = 0\n",
    "cols = X_stumps.columns[3:]\n",
    "\n",
    "## load train & test data\n",
    "train_stumps = pd.read_csv(\"~/Documents/Duke/Cynthia Research/KY-analysis-mytrials/KY Recidivism/KY data/kentucky_train_stumps.csv\")\n",
    "test_stumps = pd.read_csv(\"~/Documents/Duke/Cynthia Research/KY-analysis-mytrials/KY Recidivism/KY data/kentucky_test_stumps.csv\")\n",
    "X_train_stumps, Y_train_stumps = train_stumps.loc[:,:'current_violence>=1'], train_stumps['recid_F_six_month'].values\n",
    "X_test_stumps, Y_test_stumps = test_stumps.loc[:,:'current_violence>=1'], test_stumps['recid_F_six_month'].values\n",
    "Y_train_stumps[Y_train_stumps == -1] = 0\n",
    "Y_test_stumps[Y_test_stumps == -1] = 0"
   ]
  },
  {
   "cell_type": "markdown",
   "metadata": {},
   "source": [
    "#### Nested Cross Validation"
   ]
  },
  {
   "cell_type": "code",
   "execution_count": 26,
   "metadata": {
    "scrolled": true
   },
   "outputs": [
    {
     "name": "stdout",
     "output_type": "stream",
     "text": [
      "model_id, score_thresholds 0 {'rank_abs': [9863]}\n",
      "get_disparity_predefined_group()\n"
     ]
    },
    {
     "name": "stderr",
     "output_type": "stream",
     "text": [
      "C:\\Users\\binha\\Documents\\Duke\\Cynthia Research\\psa-analysis - test2\\utils\\fairness_functions.py:86: RuntimeWarning:\n",
      "\n",
      "invalid value encountered in longlong_scalars\n",
      "\n"
     ]
    },
    {
     "name": "stdout",
     "output_type": "stream",
     "text": [
      "model_id, score_thresholds 0 {'rank_abs': [10256]}\n",
      "get_disparity_predefined_group()\n"
     ]
    },
    {
     "name": "stderr",
     "output_type": "stream",
     "text": [
      "C:\\Users\\binha\\Documents\\Duke\\Cynthia Research\\psa-analysis - test2\\utils\\fairness_functions.py:86: RuntimeWarning:\n",
      "\n",
      "invalid value encountered in longlong_scalars\n",
      "\n"
     ]
    },
    {
     "name": "stdout",
     "output_type": "stream",
     "text": [
      "model_id, score_thresholds 0 {'rank_abs': [10168]}\n",
      "get_disparity_predefined_group()\n",
      "model_id, score_thresholds 0 {'rank_abs': [9727]}\n",
      "get_disparity_predefined_group()\n"
     ]
    },
    {
     "name": "stderr",
     "output_type": "stream",
     "text": [
      "C:\\Users\\binha\\Documents\\Duke\\Cynthia Research\\psa-analysis - test2\\utils\\fairness_functions.py:86: RuntimeWarning:\n",
      "\n",
      "invalid value encountered in longlong_scalars\n",
      "\n"
     ]
    },
    {
     "name": "stdout",
     "output_type": "stream",
     "text": [
      "model_id, score_thresholds 0 {'rank_abs': [10515]}\n",
      "get_disparity_predefined_group()\n"
     ]
    },
    {
     "name": "stderr",
     "output_type": "stream",
     "text": [
      "C:\\Users\\binha\\Documents\\Duke\\Cynthia Research\\psa-analysis - test2\\utils\\fairness_functions.py:86: RuntimeWarning:\n",
      "\n",
      "invalid value encountered in longlong_scalars\n",
      "\n"
     ]
    }
   ],
   "source": [
    "stump_summary = stumps.stump_cv(X = X_stumps, \n",
    "                                Y = Y_stumps, \n",
    "                                columns=cols, \n",
    "                                c_grid={'C': [0.001, 0.002, 0.003]}, \n",
    "                                seed = 816)"
   ]
  },
  {
   "cell_type": "code",
   "execution_count": 27,
   "metadata": {},
   "outputs": [
    {
     "data": {
      "text/plain": [
       "([{'C': 0.003}, {'C': 0.003}, {'C': 0.003}, {'C': 0.003}, {'C': 0.003}],\n",
       " 0.7693918538637938,\n",
       " 0.0012300576912694038)"
      ]
     },
     "execution_count": 27,
     "metadata": {},
     "output_type": "execute_result"
    }
   ],
   "source": [
    "stump_summary['best_params'], np.mean(stump_summary['holdout_test_auc']), np.mean(stump_summary['auc_diffs'])"
   ]
  },
  {
   "cell_type": "markdown",
   "metadata": {},
   "source": [
    "##### Best Stump Model"
   ]
  },
  {
   "cell_type": "code",
   "execution_count": 28,
   "metadata": {},
   "outputs": [
    {
     "data": {
      "text/plain": [
       "22"
      ]
     },
     "execution_count": 28,
     "metadata": {},
     "output_type": "execute_result"
    }
   ],
   "source": [
    "best_stump_model = stumps.stump_model(X_train_stumps, \n",
    "                                      Y_train_stumps, \n",
    "                                      X_test_stumps, \n",
    "                                      Y_test_stumps, \n",
    "                                      c=0.003, \n",
    "                                      columns=cols, \n",
    "                                      seed=816)\n",
    "len(best_stump_model['features'])"
   ]
  },
  {
   "cell_type": "markdown",
   "metadata": {},
   "source": [
    "##### Prediction Table"
   ]
  },
  {
   "cell_type": "code",
   "execution_count": 29,
   "metadata": {
    "scrolled": true
   },
   "outputs": [
    {
     "name": "stdout",
     "output_type": "stream",
     "text": [
      "\begin{tabular}{|l|r|r|} \\hline\n",
      "1. age_at_current_charge<=38 & 9.6 & +... \\ \\hline\n",
      "2. p_arrest>=1 & 54.6 & -... \\ \\hline\n",
      "3. p_arrest>=2 & 36.8 & +... \\ \\hline\n",
      "4. p_arrest>=3 & 25.8 & +... \\ \\hline\n",
      "5. p_arrest>=4 & 17.2 & +... \\ \\hline\n",
      "6. p_arrest>=5 & 7.6 & +... \\ \\hline\n",
      "7. p_charges>=1 & 39.5 & -... \\ \\hline\n",
      "8. p_charges>=2 & 9.9 & +... \\ \\hline\n",
      "9. p_charges>=3 & 4.4 & +... \\ \\hline\n",
      "10. p_charges>=5 & 4.0 & +... \\ \\hline\n",
      "11. p_violence>=1 & 17.1 & +... \\ \\hline\n",
      "12. p_felony>=1 & 106.0 & +... \\ \\hline\n",
      "13. p_felony>=2 & 31.3 & +... \\ \\hline\n",
      "14. p_misdemeanor>=2 & 9.8 & +... \\ \\hline\n",
      "15. p_misdemeanor>=3 & 3.7 & +... \\ \\hline\n",
      "16. p_property>=1 & 1.1 & +... \\ \\hline\n",
      "17. p_drug>=1 & 7.9 & +... \\ \\hline\n",
      "18. ADE>=1 & 20.2 & -... \\ \\hline\n",
      "19. p_prison>=1 & 55.1 & -... \\ \\hline\n",
      "20. p_pending_charge>=1 & 64.7 & +... \\ \\hline\n",
      "21. p_probation>=1 & 11.6 & +... \\ \\hline\n",
      "22. five_year>=1 & 12.1 & -... \\ \\hline\n",
      "23. Intercept & -0.547 & -... \\ \\hline\n",
      "\textbf{ADD POINTS FROM ROWS 1 TO 23}  &  \textbf{SCORE} & = ..... \\ \\hline\n",
      "\\multicolumn{3}{l}{Pr(Y = 1) = exp(score/100) / (1 + exp(score/100))} \\ \\hline\n"
     ]
    }
   ],
   "source": [
    "stumps.latex_stump_table(best_stump_model['coefs'], \n",
    "                   best_stump_model['features'], \n",
    "                   best_stump_model['intercept'], \n",
    "                   best_stump_model['dictionary'])"
   ]
  },
  {
   "cell_type": "markdown",
   "metadata": {},
   "source": [
    "##### Stumps Visualizations"
   ]
  },
  {
   "cell_type": "code",
   "execution_count": 30,
   "metadata": {
    "scrolled": true
   },
   "outputs": [
    {
     "data": {
      "image/png": "[encoded data removed]",
      "text/plain": [
       "<Figure size 288x216 with 1 Axes>"
      ]
     },
     "metadata": {
      "needs_background": "light"
     },
     "output_type": "display_data"
    },
    {
     "data": {
      "image/png": "[encoded data removed]",
      "text/plain": [
       "<Figure size 288x216 with 1 Axes>"
      ]
     },
     "metadata": {
      "needs_background": "light"
     },
     "output_type": "display_data"
    },
    {
     "data": {
      "image/png": "[encoded data removed]",
      "text/plain": [
       "<Figure size 288x216 with 1 Axes>"
      ]
     },
     "metadata": {
      "needs_background": "light"
     },
     "output_type": "display_data"
    },
    {
     "data": {
      "image/png": "[encoded data removed]",
      "text/plain": [
       "<Figure size 288x216 with 1 Axes>"
      ]
     },
     "metadata": {
      "needs_background": "light"
     },
     "output_type": "display_data"
    },
    {
     "data": {
      "image/png": "[encoded data removed]",
      "text/plain": [
       "<Figure size 288x216 with 1 Axes>"
      ]
     },
     "metadata": {
      "needs_background": "light"
     },
     "output_type": "display_data"
    },
    {
     "data": {
      "image/png": "[encoded data removed]",
      "text/plain": [
       "<Figure size 288x216 with 1 Axes>"
      ]
     },
     "metadata": {
      "needs_background": "light"
     },
     "output_type": "display_data"
    },
    {
     "data": {
      "image/png": "[encoded data removed]",
      "text/plain": [
       "<Figure size 288x216 with 1 Axes>"
      ]
     },
     "metadata": {
      "needs_background": "light"
     },
     "output_type": "display_data"
    },
    {
     "data": {
      "image/png": "[encoded data removed]",
      "text/plain": [
       "<Figure size 288x216 with 1 Axes>"
      ]
     },
     "metadata": {
      "needs_background": "light"
     },
     "output_type": "display_data"
    },
    {
     "data": {
      "image/png": "[encoded data removed]",
      "text/plain": [
       "<Figure size 288x216 with 1 Axes>"
      ]
     },
     "metadata": {
      "needs_background": "light"
     },
     "output_type": "display_data"
    },
    {
     "data": {
      "image/png": "[encoded data removed]",
      "text/plain": [
       "<Figure size 288x216 with 1 Axes>"
      ]
     },
     "metadata": {
      "needs_background": "light"
     },
     "output_type": "display_data"
    },
    {
     "data": {
      "image/png": "[encoded data removed]",
      "text/plain": [
       "<Figure size 288x216 with 1 Axes>"
      ]
     },
     "metadata": {
      "needs_background": "light"
     },
     "output_type": "display_data"
    },
    {
     "data": {
      "image/png": "[encoded data removed]",
      "text/plain": [
       "<Figure size 288x216 with 1 Axes>"
      ]
     },
     "metadata": {
      "needs_background": "light"
     },
     "output_type": "display_data"
    },
    {
     "data": {
      "image/png": "[encoded data removed]",
      "text/plain": [
       "<Figure size 288x216 with 1 Axes>"
      ]
     },
     "metadata": {
      "needs_background": "light"
     },
     "output_type": "display_data"
    }
   ],
   "source": [
    "stumps.stump_plots(best_stump_model['features'], best_stump_model['coefs'], indicator='KY')"
   ]
  },
  {
   "cell_type": "markdown",
   "metadata": {},
   "source": [
    "## RiskSLIM"
   ]
  },
  {
   "cell_type": "code",
   "execution_count": 31,
   "metadata": {},
   "outputs": [],
   "source": [
    "## load stumps data\n",
    "data = pd.read_csv(\"~/Documents/Duke/Cynthia Research/KY-analysis-mytrials/KY Recidivism/KY data/kentucky_stumps.csv\")\n",
    "x, y = data.loc[:,:'current_violence>=1'], data['recid_F_six_month'].values\n",
    "cols = x.columns[3:]"
   ]
  },
  {
   "cell_type": "code",
   "execution_count": 32,
   "metadata": {},
   "outputs": [
    {
     "data": {
      "text/plain": [
       "19"
      ]
     },
     "execution_count": 32,
     "metadata": {},
     "output_type": "execute_result"
    }
   ],
   "source": [
    "## train on best param chosen by Lasso Stumps from above\n",
    "x_train = x.copy().drop(['race', 'person_id', 'screening_date'], axis=1)\n",
    "lasso = LogisticRegression(class_weight='balanced', solver='liblinear', penalty='l1', C=0.002, random_state=816).fit(x_train,y)\n",
    "selected_features = cols[lasso.coef_[0] != 0].tolist()\n",
    "len(selected_features)"
   ]
  },
  {
   "cell_type": "code",
   "execution_count": 33,
   "metadata": {},
   "outputs": [],
   "source": [
    "### Subset features\n",
    "if 'sex>=1' in selected_features:\n",
    "    selected_features = ['recid_F_six_month', 'person_id', 'screening_date', 'race'] + selected_features\n",
    "    indicator = 1\n",
    "else:\n",
    "    selected_features = ['recid_F_six_month', 'person_id', 'screening_date', 'race', 'sex>=1'] + selected_features\n",
    "    indicator = 0\n",
    "\n",
    "sub_data = data[selected_features]\n",
    "sub_X, sub_Y = sub_data.iloc[:,1:], sub_data.iloc[:,0].values\n",
    "sub_X.insert(0, '(Intercept)', 1)"
   ]
  },
  {
   "cell_type": "code",
   "execution_count": 34,
   "metadata": {
    "scrolled": true
   },
   "outputs": [
    {
     "name": "stdout",
     "output_type": "stream",
     "text": [
      "setting c0 = 0.0 to ensure that intercept is not penalized\n",
      "10/01/19 @ 03:13 PM | 861 rows in lookup table\n",
      "10/01/19 @ 03:13 PM | ------------------------------------------------------------\n",
      "10/01/19 @ 03:13 PM | runnning initialization procedure\n",
      "10/01/19 @ 03:13 PM | ------------------------------------------------------------\n",
      "10/01/19 @ 03:13 PM | CPA produced 2 cuts\n",
      "10/01/19 @ 03:13 PM | running naive rounding on 64 solutions\n",
      "10/01/19 @ 03:13 PM | best objective value: 0.1884\n",
      "10/01/19 @ 03:13 PM | rounding produced 5 integer solutions\n",
      "10/01/19 @ 03:13 PM | best objective value is 0.1937\n",
      "10/01/19 @ 03:13 PM | running sequential rounding on 64 solutions\n",
      "10/01/19 @ 03:13 PM | best objective value: 0.1884\n",
      "10/01/19 @ 03:13 PM | sequential rounding produced 6 integer solutions\n",
      "10/01/19 @ 03:13 PM | best objective value: 0.1918\n",
      "10/01/19 @ 03:13 PM | polishing 11 solutions\n",
      "10/01/19 @ 03:13 PM | best objective value: 0.1918\n",
      "10/01/19 @ 03:13 PM | polishing produced 5 integer solutions\n",
      "10/01/19 @ 03:13 PM | initialization produced 10 feasible solutions\n",
      "10/01/19 @ 03:13 PM | best objective value: 0.1918\n",
      "10/01/19 @ 03:13 PM | ------------------------------------------------------------\n",
      "10/01/19 @ 03:13 PM | completed initialization procedure\n",
      "10/01/19 @ 03:13 PM | ------------------------------------------------------------\n",
      "10/01/19 @ 03:13 PM | 861 rows in lookup table\n",
      "CPXPARAM_Read_DataCheck                          1\n",
      "CPXPARAM_Threads                                 1\n",
      "CPXPARAM_Parallel                                1\n",
      "CPXPARAM_RandomSeed                              0\n",
      "CPXPARAM_TimeLimit                               200\n",
      "CPXPARAM_MIP_Tolerances_LowerCutoff              0.18716165333559326\n",
      "CPXPARAM_MIP_Tolerances_UpperCutoff              0.19178404791766313\n"
     ]
    },
    {
     "name": "stderr",
     "output_type": "stream",
     "text": [
      "Warning: Control callbacks may disable some MIP features.\n"
     ]
    },
    {
     "name": "stdout",
     "output_type": "stream",
     "text": [
      "Lazy constraint(s) or lazy constraint callback is present.\n",
      "    Disabling dual reductions (CPX_PARAM_REDUCE) in presolve.\n",
      "    Disabling non-linear reductions (CPX_PARAM_PRELINEAR) in presolve.\n",
      "         Disabling repeat represolve because of lazy constraint/incumbent callback.\n",
      "10/01/19 @ 03:13 PM | adding 233 initial cuts\n",
      "1 of 1 MIP starts provided solutions.\n",
      "MIP start 'mip_start_0' defined initial solution with objective 0.1918.\n",
      "Tried aggregator 1 time.\n",
      "Reduced MIP has 21 rows, 42 columns, and 79 nonzeros.\n",
      "Reduced MIP has 19 binaries, 21 generals, 0 SOSs, and 0 indicators.\n",
      "Presolve time = 0.00 sec. (0.04 ticks)\n",
      "Probing time = 0.00 sec. (0.01 ticks)\n",
      "MIP emphasis: balance optimality and feasibility.\n",
      "MIP search method: traditional branch-and-cut.\n",
      "Parallel mode: none, using 1 thread.\n",
      "Root relaxation solution time = 0.00 sec. (0.03 ticks)\n",
      "\n",
      "        Nodes                                         Cuts/\n",
      "   Node  Left     Objective  IInf  Best Integer    Best Bound    ItCnt     Gap         Variable B NodeID Parent  Depth\n",
      "\n",
      "*     0+    0                            0.1918        0.1872             2.42%\n",
      "      0     0        0.1872     1        0.1918        0.1872        1    2.41%\n",
      "      0     0        0.1872     3        0.1918    MIRcuts: 1        5    2.41%\n",
      "      0     2        0.1872     2        0.1918        0.1872        5    2.41%                        0             0\n",
      "Elapsed time = 0.09 sec. (1.24 ticks, tree = 0.01 MB, solutions = 1)\n",
      "   3773  1463        0.1872     2        0.1918        0.1872     9829    2.41%           rho_0 D   3773   3772     34\n",
      "   6360  2329        0.1892     1        0.1918        0.1872    19578    2.41%           rho_1 U   6360   4253     56\n",
      "   8429  2760        0.1872     2        0.1918        0.1872    28072    2.41%           rho_0 D   8429   8428     91\n",
      "  10149  3307        0.1872     4        0.1918        0.1872    35455    2.41%           rho_6 U  10149  10148     43\n",
      "  11750  3455        0.1888     9        0.1918        0.1872    42821    2.41%           rho_0 U  11750  11749     13\n",
      "  13240  3950        0.1872     5        0.1918        0.1872    49969    2.41%           rho_6 U  13240  13239     37\n",
      "  15090  4578        0.1874     5        0.1918        0.1872    55061    2.41%           rho_2 U  15090  15089     62\n",
      "  16926  5302        0.1872     1        0.1918        0.1872    62362    2.41%           rho_6 U  16926  16796     32\n",
      "  18690  6181        0.1888     6        0.1918        0.1872    70066    2.41%           rho_3 D  18690  18689     63\n",
      "  25700  8627        0.1872     1        0.1918        0.1872    95344    2.41%           rho_2 U  25700  25698     56\n",
      "Elapsed time = 4.66 sec. (3102.63 ticks, tree = 2.44 MB, solutions = 1)\n",
      "  32415 10929        0.1906     3        0.1918        0.1872   117261    2.41%           rho_6 D  32415  32414     37\n",
      "  38471 11994        0.1892     2        0.1918        0.1872   142360    2.41%           rho_3 D  38471  38470     49\n",
      "  44541 12912        0.1872     1        0.1918        0.1872   164096    2.41%           rho_6 U  44541  44539     54\n",
      "  50400 14688        0.1904     3        0.1918        0.1872   190562    2.41%           rho_5 U  50400  50399     21\n",
      "* 53643 12829      integral     0        0.1910        0.1872   204520    2.00%\n",
      "  56008 13105        0.1872     5        0.1910        0.1872   214052    2.00%           rho_6 U  56008  55994     51\n",
      "  61907 14055        0.1872     1        0.1910        0.1872   236723    2.00%           rho_6 U  61907  61905     48\n",
      "  67450 15533        0.1906     4        0.1910        0.1872   260915    2.00%           rho_3 U  67450  67449     56\n",
      "  73202 17536        0.1908     5        0.1910        0.1872   286344    2.00%          rho_17 D  73202  73201     26\n",
      "  78518 19795        0.1872    10        0.1910        0.1872   310481    2.00%          rho_17 D  78518  78517     18\n",
      "  82965 22012        0.1872     7        0.1910        0.1872   338268    2.00%           rho_0 D  82965  82964     77\n",
      "Elapsed time = 16.13 sec. (12640.06 ticks, tree = 6.08 MB, solutions = 2)\n",
      "  87851 23237        0.1897     6        0.1910        0.1872   362089    2.00%           rho_6 U  87851  86045     53\n",
      "  92329 24641        0.1872     6        0.1910        0.1872   385809    2.00%           rho_6 U  92329  92327     66\n",
      "  96203 26661        0.1909     6        0.1910        0.1872   413389    2.00%           rho_9 N  96203  96201     18\n",
      " 100105 28753        0.1893     2        0.1910        0.1872   442041    2.00%          rho_10 N 100105 100103     75\n",
      " 103457 30669        0.1872     8        0.1910        0.1872   468004    2.00%           rho_0 D 103457 103455     81\n",
      " 107831 32451        cutoff              0.1910        0.1872   494982    2.00%           rho_3 U 107831 107230     46\n",
      " 111528 34027        0.1886     7        0.1910        0.1872   524098    2.00%           rho_9 N 111528 111526     63\n",
      " 115235 35681        0.1872     8        0.1910        0.1872   550603    2.00%           rho_2 D 115235 114917     54\n",
      " 118648 37563        0.1875    11        0.1910        0.1872   578330    2.00%           rho_6 D 118648 118647     46\n",
      " 122886 39236        0.1903     7        0.1910        0.1872   605356    2.00%          rho_19 D 122886 122885     49\n",
      "Elapsed time = 27.67 sec. (22180.19 ticks, tree = 11.28 MB, solutions = 2)\n",
      " 126462 39985        0.1896     9        0.1910        0.1872   630545    2.00%           rho_4 D 126462 126461     81\n",
      " 130454 42152        0.1890     4        0.1910        0.1872   657075    2.00%           rho_0 U 130454 130453     30\n",
      " 134729 43699        0.1893     6        0.1910        0.1872   681489    2.00%          rho_10 D 134729 134727     32\n",
      " 137810 46005        0.1876    11        0.1910        0.1872   708810    2.00%           rho_6 D 137810 137809     59\n",
      " 141238 47458        0.1891    11        0.1910        0.1872   732840    2.00%           rho_3 D 141238 141237     49\n",
      " 145366 48984        0.1883     8        0.1910        0.1872   760351    2.00%           rho_4 D 145366 145365     50\n",
      " 150025 50393        0.1902     6        0.1910        0.1872   785023    2.00%           rho_8 D 150025 150023     77\n",
      " 154187 51470        0.1890    10        0.1910        0.1872   808544    2.00%           rho_7 D 154187 154186     36\n",
      " 157922 52773        0.1875    11        0.1910        0.1872   834196    2.00%           rho_3 D 157922 157921     78\n",
      " 161493 53943        0.1886     7        0.1910        0.1872   859986    2.00%          rho_18 U 161493 161492     64\n",
      "Elapsed time = 38.94 sec. (31718.35 ticks, tree = 14.57 MB, solutions = 2)\n",
      " 165310 55492        0.1907     6        0.1910        0.1872   886079    2.00%           rho_8 N 165310 165309     66\n",
      " 169796 57051        0.1897    10        0.1910        0.1872   910177    1.99%           rho_4 D 169796 169795     51\n",
      " 174800 58271        0.1900    10        0.1910        0.1872   930173    1.99%           rho_7 D 174800 174799     60\n",
      " 179985 60185        0.1904     3        0.1910        0.1872   951171    1.98%          rho_13 D 179985 179983     31\n",
      " 184723 62930        0.1872    10        0.1910        0.1872   969902    1.98%           rho_0 D 184723 184721     58\n",
      " 189931 64817        0.1872     6        0.1910        0.1872   984252    1.96%           rho_0 D 189931 189929     77\n",
      " 194531 66558        cutoff              0.1910        0.1872   999486    1.95%          rho_17 U 194531  60346     73\n",
      " 199060 69698        0.1877     7        0.1910        0.1873  1014150    1.93%           rho_6 D 199060  31766     74\n",
      " 203041 71795        0.1878     7        0.1910        0.1873  1031464    1.91%           rho_8 D 203041 203040     55\n",
      " 208328 73235        0.1873    10        0.1910        0.1873  1047205    1.91%           rho_0 D 208328 208326     58\n",
      "Elapsed time = 50.50 sec. (41257.54 ticks, tree = 21.73 MB, solutions = 2)\n",
      " 214103 75305        0.1889     8        0.1910        0.1874  1061301    1.89%           rho_8 D 214103 214101     36\n",
      " 219544 76811        0.1886    10        0.1910        0.1874  1079541    1.89%           rho_6 D 219544 219543     27\n",
      " 224535 78551        0.1887     8        0.1910        0.1874  1098262    1.88%           rho_4 D 224535 224534     46\n",
      " 229073 80902        0.1874     7        0.1910        0.1874  1117951    1.88%           rho_0 D 229073 229071     60\n",
      " 233284 83089        cutoff              0.1910        0.1874  1136082    1.86%           rho_1 U 233284 221565     58\n",
      " 237678 82411        cutoff              0.1910        0.1874  1161459    1.85%           rho_1 U 237678 232108     52\n",
      " 242201 82019        0.1900    10        0.1910        0.1875  1179578    1.85%           rho_7 D 242201 242200     65\n",
      " 247436 84617        0.1875     8        0.1910        0.1875  1194835    1.84%           rho_0 D 247436 247429     57\n",
      " 252301 86370        0.1875    13        0.1910        0.1875  1213122    1.83%           rho_0 D 252301 252299     66\n",
      " 257017 88688        0.1875     7        0.1910        0.1875  1231166    1.83%           rho_0 D 257017 257015     57\n",
      "Elapsed time = 61.55 sec. (50795.13 ticks, tree = 25.21 MB, solutions = 2)\n",
      " 262068 90427        cutoff              0.1910        0.1875  1245362    1.82%           rho_1 U 262068 262067     77\n",
      " 267058 91965        0.1892     4        0.1910        0.1875  1259153    1.82%           rho_8 N 267058 267057     52\n",
      " 271760 93380        0.1877     9        0.1910        0.1875  1276323    1.81%           rho_3 N 271760 103846     62\n",
      " 276583 94196        0.1902     4        0.1910        0.1875  1295181    1.80%          rho_10 U 276583 276582     46\n",
      " 281993 94561        0.1893     4        0.1910        0.1875  1312420    1.80%           rho_3 D 281993 281992     59\n",
      " 286598 95255        0.1900     5        0.1910        0.1875  1330255    1.80%          rho_13 D 286598 286596     42\n",
      " 291359 95480        cutoff              0.1910        0.1876  1347644    1.79%          rho_19 D 291359 291357     46\n",
      " 295790 96053        0.1897     4        0.1910        0.1876  1367236    1.78%           rho_7 D 295790 295788     35\n",
      "*296000+96060                            0.1910        0.1876             1.78%\n",
      " 300738 98992        0.1876    10        0.1910        0.1876  1382082    1.78%           rho_0 D 300738 300736     57\n",
      " 305977 100202        cutoff              0.1910        0.1876  1397131    1.77%           rho_5 U 305977 305975     82\n",
      "Elapsed time = 72.30 sec. (60332.90 ticks, tree = 27.82 MB, solutions = 3)\n",
      " 311751 100568        0.1893     2        0.1910        0.1876  1409798    1.77%          rho_10 D 311751 311749     43\n",
      " 315832 100735        0.1904    11        0.1910        0.1876  1429134    1.77%           rho_1 D 315832 315831     85\n",
      " 320565 102108        0.1909     7        0.1910        0.1876  1446954    1.76%          rho_18 U 320565 320563     55\n",
      " 325630 105481        0.1888     8        0.1910        0.1876  1460850    1.76%           rho_0 D 325630 325628     85\n",
      " 331162 106192        0.1906     6        0.1910        0.1876  1477153    1.75%          rho_12 D 331162 331161     79\n",
      " 335909 107419        0.1882    16        0.1910        0.1876  1495990    1.75%           rho_2 D 335909 335908     53\n",
      " 340692 108133        0.1885     6        0.1910        0.1876  1514931    1.75%          rho_12 D 340692 340690     53\n",
      "*342000+107821                            0.1910        0.1877             1.73%\n",
      " 345606 109164        0.1895     9        0.1910        0.1877  1530784    1.72%           rho_4 D 345606 345605     62\n",
      " 350315 111734        0.1886     7        0.1910        0.1877  1548596    1.71%           rho_9 N 350315 106177     49\n",
      " 354400 112314        0.1904     9        0.1910        0.1877  1568614    1.71%           rho_7 U 354400 118962     45\n",
      "Elapsed time = 83.02 sec. (69872.25 ticks, tree = 30.55 MB, solutions = 4)\n",
      " 358833 114776        0.1881    15        0.1910        0.1877  1586959    1.71%           rho_6 D 358833 358832     51\n",
      " 363170 117441        0.1893     7        0.1910        0.1877  1605019    1.70%           rho_3 D 363170 363168     41\n",
      " 368063 119715        0.1908     3        0.1910        0.1877  1620001    1.70%          rho_19 N 368063 368061     34\n",
      " 373499 121205        0.1890     9        0.1910        0.1877  1631837    1.69%           rho_4 D 373499 373497     36\n",
      " 377872 122175        0.1899     7        0.1910        0.1878  1651114    1.69%           rho_0 U 377872 377871     79\n",
      " 382468 123063        0.1883    14        0.1910        0.1878  1670040    1.68%           rho_6 D 382468 382467     64\n",
      " 387415 125595        0.1902     4        0.1910        0.1878  1686852    1.67%          rho_13 U 387415 387414     61\n",
      " 392940 126760        0.1892     4        0.1910        0.1878  1703392    1.67%          rho_13 N 392940 392939     58\n",
      " 397980 129431        0.1888     6        0.1910        0.1878  1718753    1.67%           rho_1 N 397980 397978     33\n",
      " 402964 130218        cutoff              0.1910        0.1878  1734404    1.66%           rho_0 U 402964 402962     64\n",
      "Elapsed time = 93.80 sec. (79410.16 ticks, tree = 34.57 MB, solutions = 4)\n",
      " 407370 129956        0.1895     1        0.1910        0.1878  1755002    1.66%          rho_19 N 407370 407369     60\n",
      " 412342 130403        0.1909     5        0.1910        0.1878  1771563    1.65%           rho_8 D 412342 412341     39\n",
      " 417073 130758        0.1880     8        0.1910        0.1878  1786719    1.65%           rho_1 D 417073 135281     73\n",
      " 421819 131649        cutoff              0.1910        0.1878  1803979    1.65%          rho_14 D 421819 421818     66\n",
      " 426882 132088        cutoff              0.1910        0.1878  1821317    1.64%           rho_8 U 426882 426881     63\n",
      " 431965 134512        0.1900     4        0.1910        0.1878  1836613    1.64%          rho_13 D 431965 431964     34\n",
      " 437470 135622        0.1884     6        0.1910        0.1878  1851846    1.64%           rho_1 N 437470  94937     46\n",
      " 442400 135714        0.1885     6        0.1910        0.1879  1865513    1.63%          rho_12 D 442400 442398     18\n",
      " 447554 138720        0.1879     5        0.1910        0.1879  1882621    1.62%           rho_0 D 447554 447552     39\n",
      " 466622 144045        0.1879    10        0.1910        0.1879  1949790    1.60%           rho_6 U 466622 466620     60\n",
      "Elapsed time = 107.24 sec. (91809.62 ticks, tree = 40.68 MB, solutions = 4)\n",
      "*471000+146670                            0.1910        0.1879             1.59%\n",
      " 486259 150952        0.1882     7        0.1910        0.1880  2017602    1.57%           rho_0 U 486259 486258     42\n",
      " 506093 153876        0.1880    10        0.1910        0.1880  2087979    1.55%           rho_0 D 506093 506078     47\n",
      " 525992 157920        cutoff              0.1910        0.1881  2150872    1.53%           rho_1 U 525992 191911     82\n",
      " 544840 160028        0.1902     8        0.1910        0.1881  2221879    1.52%           rho_0 D 544840 544838     30\n",
      " 564105 163832        cutoff              0.1910        0.1881  2287519    1.51%           rho_1 U 564105 564103     26\n",
      " 584111 167480        0.1882     6        0.1910        0.1881  2353726    1.48%           rho_4 D 584111 252976     43\n",
      " 602906 171723        0.1888     5        0.1910        0.1882  2422659    1.47%          rho_17 D 602906 551919     62\n",
      " 623104 174185        0.1898     5        0.1910        0.1882  2486118    1.46%           rho_1 D 623104 623103     37\n",
      " 640214 174473        0.1893    12        0.1910        0.1882  2560214    1.44%           rho_9 D 640214 227744     48\n",
      " 657740 173335        cutoff              0.1910        0.1882  2636323    1.43%           rho_6 U 657740 657738     46\n",
      "Elapsed time = 148.69 sec. (129957.67 ticks, tree = 48.99 MB, solutions = 5)\n",
      " 677914 178163        0.1903     5        0.1910        0.1883  2699215    1.41%          rho_19 N 677914  68353     25\n",
      " 695852 178563        0.1884     6        0.1910        0.1883  2770465    1.38%           rho_6 U 695852 695851     43\n",
      " 715601 182083        0.1887     8        0.1910        0.1884  2838699    1.35%          rho_18 D 715601 566579     57\n",
      " 736341 185899        cutoff              0.1910        0.1884  2899127    1.34%          rho_19 U 736341 736339     49\n",
      " 755676 185265        0.1903     5        0.1910        0.1884  2965665    1.33%           rho_1 N 755676 755675     19\n",
      " 775734 186332        0.1902     1        0.1910        0.1885  3037715    1.31%           rho_7 U 775734  77283     69\n",
      " 795251 183611        cutoff              0.1910        0.1885  3096337    1.29%           rho_7 D 795251 795249     32\n",
      " 814451 185915        cutoff              0.1910        0.1885  3161722    1.28%          rho_19 D 814451 814450     78\n",
      " 832385 187051        0.1886    11        0.1910        0.1886  3224308    1.25%           rho_6 N 832385 832384     36\n",
      " 852504 190995        cutoff              0.1910        0.1886  3285875    1.24%          rho_18 U 852504 579873     48\n",
      "Elapsed time = 186.36 sec. (168105.66 ticks, tree = 55.03 MB, solutions = 5)\n",
      " 870186 189901        0.1888     6        0.1910        0.1887  3352739    1.21%           rho_0 U 870186 870185     32\n",
      " 887202 188016        0.1900     4        0.1910        0.1887  3417575    1.18%          rho_12 D 887202 887200     55\n",
      " 905525 189857        0.1892     8        0.1910        0.1888  3479363    1.16%          rho_18 D 905525 335382     45\n",
      " 924515 189213        0.1888     8        0.1910        0.1888  3537128    1.15%           rho_0 D 924515 924513     39\n",
      "\n",
      "User cuts applied:  302\n",
      "\n",
      "Root node processing (before b&c):\n",
      "  Real time             =    0.09 sec. (1.26 ticks)\n",
      "Sequential b&c:\n",
      "  Real time             =  199.92 sec. (184514.90 ticks)\n",
      "                          ------------\n",
      "Total (root+branch&cut) =  200.02 sec. (184516.16 ticks)\n",
      "+----------------------------------------------+------------------+-----------+\n",
      "| Pr(Y = +1) = 1.0/(1.0 + exp(-(-5 + score))   |                  |           |\n",
      "| ============================================ | ================ | ========= |\n",
      "| p_arrest>=4                                  |         1 points |   + ..... |\n",
      "| p_charges>=1                                 |         1 points |   + ..... |\n",
      "| p_felony>=1                                  |         1 points |   + ..... |\n",
      "| p_pending_charge>=1                          |         1 points |   + ..... |\n",
      "| ============================================ | ================ | ========= |\n",
      "| ADD POINTS FROM ROWS 1 to 4                  |            SCORE |   = ..... |\n",
      "+----------------------------------------------+------------------+-----------+\n",
      "model_id, score_thresholds 0 {'rank_abs': [0]}\n",
      "get_disparity_predefined_group()\n"
     ]
    },
    {
     "name": "stderr",
     "output_type": "stream",
     "text": [
      "C:\\Users\\binha\\Documents\\Duke\\Cynthia Research\\psa-analysis - test2\\utils\\fairness_functions.py:82: RuntimeWarning:\n",
      "\n",
      "invalid value encountered in longlong_scalars\n",
      "\n",
      "C:\\Users\\binha\\Documents\\Duke\\Cynthia Research\\psa-analysis - test2\\utils\\fairness_functions.py:95: RuntimeWarning:\n",
      "\n",
      "divide by zero encountered in longlong_scalars\n",
      "\n",
      "C:\\Users\\binha\\Documents\\Duke\\Cynthia Research\\psa-analysis - test2\\utils\\fairness_functions.py:86: RuntimeWarning:\n",
      "\n",
      "invalid value encountered in longlong_scalars\n",
      "\n",
      "C:\\Users\\binha\\Documents\\Duke\\Cynthia Research\\psa-analysis - test2\\utils\\fairness_functions.py:95: RuntimeWarning:\n",
      "\n",
      "invalid value encountered in longlong_scalars\n",
      "\n"
     ]
    },
    {
     "name": "stdout",
     "output_type": "stream",
     "text": [
      "setting c0 = 0.0 to ensure that intercept is not penalized\n",
      "10/01/19 @ 03:16 PM | 861 rows in lookup table\n",
      "10/01/19 @ 03:16 PM | ------------------------------------------------------------\n",
      "10/01/19 @ 03:16 PM | runnning initialization procedure\n",
      "10/01/19 @ 03:16 PM | ------------------------------------------------------------\n",
      "10/01/19 @ 03:16 PM | CPA produced 2 cuts\n",
      "10/01/19 @ 03:16 PM | running naive rounding on 68 solutions\n",
      "10/01/19 @ 03:16 PM | best objective value: 0.1910\n",
      "10/01/19 @ 03:16 PM | rounding produced 5 integer solutions\n",
      "10/01/19 @ 03:16 PM | best objective value is 0.1959\n",
      "10/01/19 @ 03:16 PM | running sequential rounding on 68 solutions\n",
      "10/01/19 @ 03:16 PM | best objective value: 0.1910\n",
      "10/01/19 @ 03:16 PM | sequential rounding produced 5 integer solutions\n",
      "10/01/19 @ 03:16 PM | best objective value: 0.1934\n",
      "10/01/19 @ 03:16 PM | polishing 10 solutions\n",
      "10/01/19 @ 03:16 PM | best objective value: 0.1934\n",
      "10/01/19 @ 03:16 PM | polishing produced 5 integer solutions\n",
      "10/01/19 @ 03:16 PM | initialization produced 7 feasible solutions\n",
      "10/01/19 @ 03:16 PM | best objective value: 0.1934\n",
      "10/01/19 @ 03:16 PM | ------------------------------------------------------------\n",
      "10/01/19 @ 03:16 PM | completed initialization procedure\n",
      "10/01/19 @ 03:16 PM | ------------------------------------------------------------\n",
      "10/01/19 @ 03:16 PM | 861 rows in lookup table\n",
      "CPXPARAM_Read_DataCheck                          1\n",
      "CPXPARAM_Threads                                 1\n",
      "CPXPARAM_Parallel                                1\n",
      "CPXPARAM_RandomSeed                              0\n",
      "CPXPARAM_TimeLimit                               200\n",
      "CPXPARAM_MIP_Tolerances_LowerCutoff              0.18937200845453098\n",
      "CPXPARAM_MIP_Tolerances_UpperCutoff              0.19336981037008283\n"
     ]
    },
    {
     "name": "stderr",
     "output_type": "stream",
     "text": [
      "Warning: Control callbacks may disable some MIP features.\n"
     ]
    },
    {
     "name": "stdout",
     "output_type": "stream",
     "text": [
      "Lazy constraint(s) or lazy constraint callback is present.\n",
      "    Disabling dual reductions (CPX_PARAM_REDUCE) in presolve.\n",
      "    Disabling non-linear reductions (CPX_PARAM_PRELINEAR) in presolve.\n",
      "         Disabling repeat represolve because of lazy constraint/incumbent callback.\n",
      "10/01/19 @ 03:16 PM | adding 229 initial cuts\n",
      "1 of 1 MIP starts provided solutions.\n",
      "MIP start 'mip_start_0' defined initial solution with objective 0.1934.\n",
      "Tried aggregator 1 time.\n",
      "Reduced MIP has 21 rows, 42 columns, and 79 nonzeros.\n",
      "Reduced MIP has 19 binaries, 21 generals, 0 SOSs, and 0 indicators.\n",
      "Presolve time = 0.00 sec. (0.04 ticks)\n",
      "Probing time = 0.00 sec. (0.01 ticks)\n",
      "MIP emphasis: balance optimality and feasibility.\n",
      "MIP search method: traditional branch-and-cut.\n",
      "Parallel mode: none, using 1 thread.\n",
      "Root relaxation solution time = 0.00 sec. (0.03 ticks)\n",
      "\n",
      "        Nodes                                         Cuts/\n",
      "   Node  Left     Objective  IInf  Best Integer    Best Bound    ItCnt     Gap         Variable B NodeID Parent  Depth\n",
      "\n",
      "*     0+    0                            0.1934        0.1894             2.07%\n",
      "      0     0        0.1894     1        0.1934        0.1894        1    2.07%\n",
      "      0     0        0.1894     3        0.1934       Cuts: 2        5    2.07%\n",
      "      0     2        0.1894     1        0.1934        0.1894        5    2.07%                        0             0\n",
      "Elapsed time = 0.08 sec. (1.18 ticks, tree = 0.01 MB, solutions = 1)\n",
      "   4199   737        0.1904     8        0.1934        0.1894    10758    2.07%          rho_19 U   4199   1028     13\n",
      "   7073  1130        0.1933     9        0.1934        0.1894    19062    2.07%           rho_0 D   7073   7072     17\n",
      "   9620  1631        0.1894     1        0.1934        0.1894    26043    2.07%           rho_6 U   9620   9618     77\n",
      "  11761  1946        0.1916     1        0.1934        0.1894    31969    2.07%           rho_0 D  11761  11759     66\n",
      "  13699  2170        0.1894     1        0.1934        0.1894    37885    2.07%           rho_6 U  13699  13691     36\n",
      "  15445  2641        0.1894     5        0.1934        0.1894    43707    2.07%           rho_0 D  15445  15443     72\n",
      "  17467  3053        0.1894     8        0.1934        0.1894    49889    2.07%          rho_17 D  17467  17466      9\n",
      "  19446  3577        0.1911     5        0.1934        0.1894    56655    2.07%           rho_6 D  19446  19355     81\n",
      "  21322  4002        0.1920     2        0.1934        0.1894    63898    2.07%           rho_6 U  21322  21320     56\n",
      "  28720  6575        0.1933     3        0.1934        0.1894    91076    2.07%           rho_0 D  28720  28719     52\n",
      "Elapsed time = 4.17 sec. (3101.83 ticks, tree = 1.72 MB, solutions = 1)\n",
      "* 30480  6962      integral     0        0.1934        0.1894    96192    2.07%\n",
      "  35228  8974        0.1903    11        0.1934        0.1894   119928    2.07%           rho_7 D  35228  35226     36\n",
      "  41216 11767        0.1928     5        0.1934        0.1894   150175    2.07%          rho_19 N  41216  41215     20\n",
      "  46749 14327        0.1894     7        0.1934        0.1894   179976    2.07%           rho_6 U  46749  46747     55\n",
      "  52097 16761        0.1917     5        0.1934        0.1894   209684    2.07%           rho_8 D  52097  52095     53\n",
      "  57051 19223        0.1913     4        0.1934        0.1894   235323    2.07%           rho_7 U  57051  40054     51\n",
      "  62765 20923        0.1894     8        0.1934        0.1894   262594    2.07%           rho_6 U  62765  62763     36\n",
      "  67617 23310        0.1920     3        0.1934        0.1894   290514    2.07%          rho_12 D  67617  67615     59\n",
      "  71520 25785        0.1899    12        0.1934        0.1894   317822    2.07%           rho_6 D  71520  71519     47\n",
      "  76521 28198        0.1920     7        0.1934        0.1894   344332    2.07%           rho_0 U  76521  76520     70\n",
      "  81439 30179        0.1898     9        0.1934        0.1894   368626    2.07%           rho_0 U  81439  81438     46\n",
      "Elapsed time = 14.69 sec. (12641.00 ticks, tree = 7.91 MB, solutions = 2)\n",
      "  87337 32142        0.1906     7        0.1934        0.1894   393683    2.07%           rho_8 D  87337  87335     60\n",
      "  92071 34530        0.1894    11        0.1934        0.1894   424760    2.07%           rho_6 U  92071  92069     87\n",
      "  96075 37216        0.1926     7        0.1934        0.1894   453160    2.07%           rho_5 D  96075  96073     73\n",
      "  99820 39627        0.1913    10        0.1934        0.1894   481968    2.07%           rho_0 U  99820  99819     54\n",
      " 104240 41877        0.1903     6        0.1934        0.1894   508284    2.07%           rho_6 D 104240 104239     23\n",
      " 109038 44264        0.1903     6        0.1934        0.1894   532624    2.07%           rho_6 D 109038 109037     71\n",
      " 114795 46162        0.1894    10        0.1934        0.1894   561485    2.07%           rho_6 U 114795 114709     49\n",
      " 119138 48886        0.1908     9        0.1934        0.1894   593750    2.07%          rho_19 D 119138 119136     66\n",
      " 124757 50706        0.1929     3        0.1934        0.1894   620971    2.07%          rho_12 N 124757 124755     64\n",
      " 129537 52914        0.1894    12        0.1934        0.1894   652179    2.07%           rho_0 D 129537 129535     37\n",
      "Elapsed time = 24.92 sec. (22179.11 ticks, tree = 14.26 MB, solutions = 2)\n",
      " 134268 55086        0.1930     9        0.1934        0.1894   682108    2.07%          rho_18 U 134268 134267     63\n",
      " 139565 57106        0.1895     9        0.1934        0.1894   709457    2.07%           rho_7 D 139565 139564     47\n",
      " 145494 59380        0.1930     2        0.1934        0.1894   734454    2.06%          rho_17 D 145494 145493     82\n",
      " 152526 62189        0.1898     7        0.1934        0.1894   751388    2.05%           rho_6 U 152526  53680     18\n",
      " 157994 64996        0.1907     9        0.1934        0.1894   770473    2.04%          rho_19 D 157994 157991     21\n",
      " 163395 67202        cutoff              0.1934        0.1894   786640    2.04%           rho_0 D 163395 163394     61\n",
      " 169784 69832        0.1915     4        0.1934        0.1894   805301    2.03%           rho_0 U 169784 169783     71\n",
      " 175354 71539        0.1932     5        0.1934        0.1895   826475    2.02%           rho_5 N 175354 175353     71\n",
      " 181392 73159        0.1903     6        0.1934        0.1895   844543    2.01%           rho_5 D 181392 181390     37\n",
      " 187190 76009        cutoff              0.1934        0.1895   860679    2.00%           rho_7 U 187190 187189     83\n",
      "Elapsed time = 34.23 sec. (31716.60 ticks, tree = 22.17 MB, solutions = 2)\n",
      " 192842 76910        0.1916     7        0.1934        0.1895   879957    2.00%          rho_17 D 192842 192840     35\n",
      " 198182 79396        0.1924     8        0.1934        0.1895   901521    2.00%          rho_13 N 198182 186238     72\n",
      " 203681 81470        0.1895     9        0.1934        0.1895   919926    1.99%           rho_6 U 203681 203679     46\n",
      " 208842 84186        0.1895    10        0.1934        0.1895   936857    1.98%           rho_0 D 208842 208840     46\n",
      " 215013 85920        0.1896    12        0.1934        0.1896   956162    1.97%           rho_6 U 215013 215011     33\n",
      " 220558 87459        0.1922    10        0.1934        0.1896   974864    1.97%           rho_1 N 220558 220556     51\n",
      " 225985 87928        0.1898     8        0.1934        0.1896   989956    1.96%          rho_11 D 225985 225983     48\n",
      " 231917 89510        0.1912     2        0.1934        0.1896  1004543    1.95%           rho_7 D 231917 231916     67\n",
      " 237280 91056        0.1927     3        0.1934        0.1896  1021921    1.95%          rho_19 D 237280 237279     20\n",
      " 243303 92589        0.1911     6        0.1934        0.1896  1039166    1.94%           rho_0 U 243303 243302     43\n",
      "Elapsed time = 43.30 sec. (41253.90 ticks, tree = 25.87 MB, solutions = 2)\n",
      " 249067 94395        cutoff              0.1934        0.1896  1060430    1.93%           rho_5 D 249067 249066     20\n",
      " 253902 97632        0.1897    10        0.1934        0.1897  1082211    1.92%           rho_0 D 253902 253900     35\n",
      " 259412 99884        0.1897    10        0.1934        0.1897  1096191    1.91%           rho_0 D 259412 259349     59\n",
      " 265776 102632        0.1921     3        0.1934        0.1897  1113531    1.91%          rho_12 D 265776 265774     93\n",
      " 271839 104103        0.1911     5        0.1934        0.1897  1128704    1.90%           rho_1 D 271839 271837     48\n",
      " 277664 105350        0.1901     8        0.1934        0.1897  1146097    1.90%           rho_9 N 277664  93787     71\n",
      " 283090 106631        0.1931     5        0.1934        0.1897  1162927    1.89%           rho_8 N 283090 283088     97\n",
      " 287952 107032        cutoff              0.1934        0.1897  1183032    1.89%           rho_7 U 287952 110076     55\n",
      " 293150 107651        0.1929     4        0.1934        0.1897  1201676    1.88%           rho_7 N 293150 293149     41\n",
      " 299211 109071        0.1897     4        0.1934        0.1897  1219045    1.88%           rho_6 U 299211 299209     38\n",
      "Elapsed time = 52.48 sec. (50791.92 ticks, tree = 29.59 MB, solutions = 2)\n",
      " 304935 111297        0.1907    10        0.1934        0.1897  1238434    1.87%           rho_6 D 304935 304934     33\n",
      " 310347 113088        0.1913     6        0.1934        0.1897  1258631    1.87%           rho_8 N 310347 310346     71\n",
      " 316013 115649        0.1899     7        0.1934        0.1897  1275925    1.87%           rho_6 D 316013 316012     38\n",
      " 321649 117843        0.1913     8        0.1934        0.1898  1293043    1.86%           rho_0 U 321649 321648     72\n",
      " 327033 119216        0.1928     5        0.1934        0.1898  1310885    1.85%          rho_19 D 327033 327032     29\n",
      " 332506 121032        0.1916     5        0.1934        0.1898  1331337    1.85%          rho_13 N 332506 332504     20\n",
      " 338358 121714        0.1914     8        0.1934        0.1898  1348725    1.85%           rho_5 D 338358 338356     84\n",
      " 344200 122595        0.1907     8        0.1934        0.1898  1364999    1.85%          rho_18 D 344200 344198     66\n",
      " 349945 124219        0.1898     7        0.1934        0.1898  1381095    1.85%           rho_7 D 349945  80097     75\n",
      " 355510 124568        0.1901    10        0.1934        0.1898  1397780    1.84%           rho_7 N 355510 152208     77\n",
      "Elapsed time = 61.00 sec. (60330.08 ticks, tree = 33.06 MB, solutions = 2)\n",
      " 361350 126056        0.1916     3        0.1934        0.1898  1416134    1.84%          rho_13 D 361350 361349     58\n",
      " 366982 127448        0.1898     4        0.1934        0.1898  1433139    1.83%           rho_0 D 366982 366980     74\n",
      " 372680 127840        0.1933     3        0.1934        0.1898  1451713    1.83%          rho_19 D 372680 372679     70\n",
      " 378237 128310        0.1929     5        0.1934        0.1898  1471425    1.82%          rho_19 D 378237 378236     80\n",
      " 383757 128371        0.1929     5        0.1934        0.1899  1489066    1.82%          rho_19 D 383757 383756     45\n",
      " 389270 129504        0.1899     6        0.1934        0.1899  1504974    1.81%           rho_6 U 389270 389268     30\n",
      " 395058 130766        0.1899     4        0.1934        0.1899  1521098    1.80%           rho_0 D 395058 395056     72\n",
      " 400703 132985        0.1899     4        0.1934        0.1899  1539296    1.80%           rho_0 D 400703 400701     44\n",
      " 406162 133720        0.1904    10        0.1934        0.1899  1557694    1.78%           rho_7 D 406162 118857     63\n",
      " 411271 136047        0.1922     7        0.1934        0.1899  1579158    1.77%           rho_0 U 411271 411270     49\n",
      "Elapsed time = 69.13 sec. (69867.96 ticks, tree = 38.65 MB, solutions = 2)\n",
      " 417274 137042        0.1914     7        0.1934        0.1899  1596413    1.77%          rho_19 D 417274 417272     63\n",
      " 423240 137956        0.1907     5        0.1934        0.1900  1614104    1.77%           rho_6 D 423240 423239     73\n",
      " 429344 140810        cutoff              0.1934        0.1900  1633180    1.76%          rho_13 U 429344 429343     55\n",
      " 435268 142901        0.1912     9        0.1934        0.1900  1650476    1.76%           rho_6 D 435268 435267     82\n",
      " 441306 143700        0.1900     9        0.1934        0.1900  1668200    1.75%           rho_0 D 441306 441205     48\n",
      " 446811 145234        0.1904     8        0.1934        0.1900  1687429    1.75%           rho_3 D 446811  44033     60\n",
      " 452570 145973        0.1916     5        0.1934        0.1900  1706524    1.75%          rho_19 D 452570 452569     86\n",
      " 458089 145598        0.1922     5        0.1934        0.1900  1727816    1.75%          rho_13 D 458089 458087     51\n",
      " 463079 146598        0.1900    14        0.1934        0.1900  1747455    1.75%           rho_0 D 463079 132764     37\n",
      " 468250 148578        0.1900    13        0.1934        0.1900  1768359    1.74%           rho_0 D 468250 468232     71\n",
      "Elapsed time = 77.42 sec. (79406.72 ticks, tree = 41.47 MB, solutions = 2)\n",
      " 473552 149977        0.1920     6        0.1934        0.1900  1790233    1.74%           rho_5 N 473552 473550     75\n",
      " 479059 150675        0.1914     4        0.1934        0.1900  1809262    1.74%           rho_7 D 479059 479057     67\n",
      " 484875 152902        0.1908     5        0.1934        0.1900  1826782    1.73%          rho_12 D 484875 484873     60\n",
      " 491088 153684        0.1915    11        0.1934        0.1900  1840147    1.73%           rho_0 U 491088 491087     80\n",
      " 496050 153299        0.1915     8        0.1934        0.1900  1858020    1.73%           rho_5 D 496050 496049     68\n",
      " 501720 154020        0.1932     5        0.1934        0.1900  1876635    1.73%           rho_8 D 501720 501718     89\n",
      " 507391 154647        0.1927     5        0.1934        0.1900  1895085    1.72%          rho_11 D 507391 507390     51\n",
      " 513941 155928        0.1928     4        0.1934        0.1900  1909439    1.72%          rho_19 D 513941 513939     58\n",
      " 519625 158725        0.1901    11        0.1934        0.1901  1927449    1.71%           rho_6 U 519625 519623     79\n",
      " 540762 164173        cutoff              0.1934        0.1901  2010225    1.69%          rho_17 U 540762 199269     70\n",
      "Elapsed time = 87.73 sec. (91805.71 ticks, tree = 46.70 MB, solutions = 2)\n",
      " 563099 168611        0.1917     3        0.1934        0.1901  2076548    1.67%          rho_12 D 563099 563097     63\n",
      " 583491 175335        0.1902     8        0.1934        0.1902  2156406    1.64%           rho_0 D 583491 583489     60\n",
      " 604990 179455        0.1904     9        0.1934        0.1902  2234449    1.62%          rho_13 D 604990 520540     66\n",
      " 627709 184141        0.1930     3        0.1934        0.1903  2304555    1.60%           rho_8 D 627709 627707     77\n",
      " 649481 188957        0.1922     6        0.1934        0.1903  2372382    1.58%           rho_6 D 649481 649480     66\n",
      " 672620 194739        0.1923     5        0.1934        0.1903  2436429    1.57%           rho_0 U 672620 672619     72\n",
      " 693870 202344        0.1914     4        0.1934        0.1904  2515694    1.55%          rho_19 D 693870 693868     49\n",
      " 715877 206235        cutoff              0.1934        0.1904  2587705    1.54%          rho_14 D 715877 715875     46\n",
      " 736148 207622        0.1912     6        0.1934        0.1904  2657182    1.52%           rho_7 D 736148 547776     46\n",
      " 757878 210249        0.1928     6        0.1934        0.1905  2726584    1.49%          rho_13 N 757878 757877     33\n",
      "Elapsed time = 119.95 sec. (129953.64 ticks, tree = 59.16 MB, solutions = 2)\n",
      " 780182 213112        0.1905    10        0.1934        0.1905  2794974    1.48%           rho_0 D 780182 780180     52\n",
      " 803019 215560        0.1917     9        0.1934        0.1905  2865134    1.46%           rho_7 D 803019 142215     23\n",
      " 825328 218975        0.1914    12        0.1934        0.1906  2934572    1.44%           rho_9 D 825328 409038     44\n",
      " 846559 223744        0.1922     1        0.1934        0.1906  3008041    1.43%          rho_12 U 846559  87088     37\n",
      " 867700 222118        0.1907     4        0.1934        0.1907  3085109    1.40%           rho_0 D 867700 867699     62\n",
      " 889349 223652        0.1909     8        0.1934        0.1907  3161535    1.38%           rho_7 D 889349 842619     21\n",
      " 911040 225483        0.1912     8        0.1934        0.1907  3230551    1.37%           rho_5 D 911040 911039     26\n",
      " 932212 232082        0.1929     5        0.1934        0.1907  3307044    1.36%          rho_19 U 932212 932211     72\n",
      " 953655 234352        0.1927     6        0.1934        0.1908  3384819    1.34%           rho_1 N 953655 582590     50\n",
      " 975823 239321        0.1914     6        0.1934        0.1908  3455189    1.32%           rho_2 U 975823 975821     44\n",
      "Elapsed time = 151.73 sec. (168101.88 ticks, tree = 68.18 MB, solutions = 2)\n",
      " 997584 241735        0.1932     8        0.1934        0.1908  3528500    1.31%          rho_11 U 997584 997582     77\n",
      " 1021231 242780        0.1911     2        0.1934        0.1909  3594415    1.29%          rho_12 D 1021231 1021229     59\n",
      " 1043096 247152        cutoff              0.1934        0.1909  3664656    1.28%           rho_1 U 1043096 944599     82\n",
      " 1065673 250767        cutoff              0.1934        0.1909  3726257    1.27%           rho_9 U 1065673 726165     56\n",
      " 1085903 249742        0.1910     8        0.1934        0.1909  3798366    1.25%          rho_11 D 1085903 151040     62\n",
      " 1107920 254002        0.1922     8        0.1934        0.1910  3866014    1.23%           rho_1 U 1107920 221006     79\n",
      " 1130870 254311        0.1927     6        0.1934        0.1910  3939512    1.22%           rho_5 D 1130870 303216     75\n",
      " 1153338 255146        0.1931     5        0.1934        0.1910  4010392    1.21%           rho_3 N 1153338 263333     49\n",
      " 1174547 252845        0.1924     6        0.1934        0.1911  4077868    1.19%          rho_13 D 1174547 1174545     50\n",
      " 1194080 255599        0.1926     7        0.1934        0.1911  4151211    1.18%          rho_11 D 1194080 1194079     56\n",
      "Elapsed time = 187.67 sec. (206250.91 ticks, tree = 71.91 MB, solutions = 2)\n",
      " 1215106 257830        0.1929     8        0.1934        0.1911  4223859    1.17%           rho_1 D 1215106 523288     57\n",
      " 1236344 257220        cutoff              0.1934        0.1911  4294788    1.15%           rho_5 U 1236344 366032     59\n",
      " 1256680 256380        0.1912     8        0.1934        0.1912  4362566    1.15%           rho_6 U 1256680 1256678     53\n",
      "\n",
      "User cuts applied:  277\n",
      "\n",
      "Root node processing (before b&c):\n",
      "  Real time             =    0.08 sec. (1.20 ticks)\n",
      "Sequential b&c:\n",
      "  Real time             =  199.94 sec. (220256.63 ticks)\n",
      "                          ------------\n",
      "Total (root+branch&cut) =  200.02 sec. (220257.83 ticks)\n",
      "+----------------------------------------------+------------------+-----------+\n",
      "| Pr(Y = +1) = 1.0/(1.0 + exp(-(-4 + score))   |                  |           |\n",
      "| ============================================ | ================ | ========= |\n",
      "| p_arrest>=4                                  |         1 points |   + ..... |\n",
      "| p_felony>=1                                  |         1 points |   + ..... |\n",
      "| p_pending_charge>=1                          |         1 points |   + ..... |\n",
      "| ============================================ | ================ | ========= |\n",
      "| ADD POINTS FROM ROWS 1 to 3                  |            SCORE |   = ..... |\n",
      "+----------------------------------------------+------------------+-----------+\n",
      "model_id, score_thresholds 0 {'rank_abs': [0]}\n",
      "get_disparity_predefined_group()\n"
     ]
    },
    {
     "name": "stderr",
     "output_type": "stream",
     "text": [
      "C:\\Users\\binha\\Documents\\Duke\\Cynthia Research\\psa-analysis - test2\\utils\\fairness_functions.py:82: RuntimeWarning:\n",
      "\n",
      "invalid value encountered in longlong_scalars\n",
      "\n",
      "C:\\Users\\binha\\Documents\\Duke\\Cynthia Research\\psa-analysis - test2\\utils\\fairness_functions.py:95: RuntimeWarning:\n",
      "\n",
      "divide by zero encountered in longlong_scalars\n",
      "\n",
      "C:\\Users\\binha\\Documents\\Duke\\Cynthia Research\\psa-analysis - test2\\utils\\fairness_functions.py:86: RuntimeWarning:\n",
      "\n",
      "invalid value encountered in longlong_scalars\n",
      "\n",
      "C:\\Users\\binha\\Documents\\Duke\\Cynthia Research\\psa-analysis - test2\\utils\\fairness_functions.py:95: RuntimeWarning:\n",
      "\n",
      "invalid value encountered in longlong_scalars\n",
      "\n"
     ]
    },
    {
     "name": "stdout",
     "output_type": "stream",
     "text": [
      "setting c0 = 0.0 to ensure that intercept is not penalized\n",
      "10/01/19 @ 03:20 PM | 861 rows in lookup table\n",
      "10/01/19 @ 03:20 PM | ------------------------------------------------------------\n",
      "10/01/19 @ 03:20 PM | runnning initialization procedure\n",
      "10/01/19 @ 03:20 PM | ------------------------------------------------------------\n",
      "10/01/19 @ 03:20 PM | CPA produced 2 cuts\n",
      "10/01/19 @ 03:20 PM | running naive rounding on 64 solutions\n",
      "10/01/19 @ 03:20 PM | best objective value: 0.1902\n",
      "10/01/19 @ 03:20 PM | rounding produced 5 integer solutions\n",
      "10/01/19 @ 03:20 PM | best objective value is 0.1982\n",
      "10/01/19 @ 03:20 PM | running sequential rounding on 64 solutions\n",
      "10/01/19 @ 03:20 PM | best objective value: 0.1902\n",
      "10/01/19 @ 03:20 PM | sequential rounding produced 5 integer solutions\n",
      "10/01/19 @ 03:20 PM | best objective value: 0.1922\n",
      "10/01/19 @ 03:20 PM | polishing 10 solutions\n",
      "10/01/19 @ 03:20 PM | best objective value: 0.1922\n",
      "10/01/19 @ 03:20 PM | polishing produced 5 integer solutions\n",
      "10/01/19 @ 03:20 PM | initialization produced 11 feasible solutions\n",
      "10/01/19 @ 03:20 PM | best objective value: 0.1922\n",
      "10/01/19 @ 03:20 PM | ------------------------------------------------------------\n",
      "10/01/19 @ 03:20 PM | completed initialization procedure\n",
      "10/01/19 @ 03:20 PM | ------------------------------------------------------------\n",
      "10/01/19 @ 03:20 PM | 861 rows in lookup table\n",
      "CPXPARAM_Read_DataCheck                          1\n",
      "CPXPARAM_Threads                                 1\n",
      "CPXPARAM_Parallel                                1\n",
      "CPXPARAM_RandomSeed                              0\n",
      "CPXPARAM_TimeLimit                               200\n",
      "CPXPARAM_MIP_Tolerances_LowerCutoff              0.18825048489355536\n",
      "CPXPARAM_MIP_Tolerances_UpperCutoff              0.19219139218870265\n"
     ]
    },
    {
     "name": "stderr",
     "output_type": "stream",
     "text": [
      "Warning: Control callbacks may disable some MIP features.\n"
     ]
    },
    {
     "name": "stdout",
     "output_type": "stream",
     "text": [
      "Lazy constraint(s) or lazy constraint callback is present.\n",
      "    Disabling dual reductions (CPX_PARAM_REDUCE) in presolve.\n",
      "    Disabling non-linear reductions (CPX_PARAM_PRELINEAR) in presolve.\n",
      "         Disabling repeat represolve because of lazy constraint/incumbent callback.\n",
      "10/01/19 @ 03:20 PM | adding 235 initial cuts\n",
      "1 of 1 MIP starts provided solutions.\n",
      "MIP start 'mip_start_0' defined initial solution with objective 0.1922.\n",
      "Tried aggregator 1 time.\n",
      "Reduced MIP has 21 rows, 42 columns, and 79 nonzeros.\n",
      "Reduced MIP has 19 binaries, 21 generals, 0 SOSs, and 0 indicators.\n",
      "Presolve time = 0.00 sec. (0.04 ticks)\n",
      "Probing time = 0.00 sec. (0.01 ticks)\n",
      "MIP emphasis: balance optimality and feasibility.\n",
      "MIP search method: traditional branch-and-cut.\n",
      "Parallel mode: none, using 1 thread.\n",
      "Root relaxation solution time = 0.00 sec. (0.03 ticks)\n",
      "\n",
      "        Nodes                                         Cuts/\n",
      "   Node  Left     Objective  IInf  Best Integer    Best Bound    ItCnt     Gap         Variable B NodeID Parent  Depth\n",
      "\n",
      "*     0+    0                            0.1922        0.1882             2.06%\n",
      "      0     0        0.1883     1        0.1922        0.1883        1    2.05%\n",
      "      0     0        0.1883     3        0.1922    MIRcuts: 1        4    2.05%\n",
      "      0     2        0.1883     2        0.1922        0.1883        5    2.05%                        0             0\n",
      "Elapsed time = 0.09 sec. (1.30 ticks, tree = 0.01 MB, solutions = 1)\n",
      "   4806   718        0.1883     1        0.1922        0.1883    10840    2.05%           rho_6 U   4806   4804     76\n",
      "   7800   873        0.1883     1        0.1922        0.1883    19820    2.05%           rho_6 U   7800   7798     86\n",
      "  10420  1305        0.1883     1        0.1922        0.1883    27294    2.05%           rho_6 U  10420  10419     82\n",
      "  12943  2102        0.1883     1        0.1922        0.1883    35442    2.05%           rho_6 U  12943  12941     67\n",
      "  14836  2821        0.1917     5        0.1922        0.1883    46042    2.05%           rho_0 U  14836  14835      9\n",
      "  16688  3345        0.1883     3        0.1922        0.1883    52456    2.05%           rho_6 U  16688  16686     42\n",
      "  18633  3715        0.1902     7        0.1922        0.1883    60552    2.05%           rho_0 U  18633  18632     31\n",
      "  20296  4359        0.1918     6        0.1922        0.1883    67399    2.05%           rho_2 N  20296  20295     15\n",
      "  21883  4978        0.1887    11        0.1922        0.1883    73755    2.05%           rho_0 U  21883  21882     66\n",
      "  27958  7239        cutoff              0.1922        0.1883   101615    2.05%           rho_0 U  27958  27957     30\n",
      "Elapsed time = 4.31 sec. (3101.43 ticks, tree = 1.83 MB, solutions = 1)\n",
      "  33696  9151        0.1883     1        0.1922        0.1883   135217    2.05%           rho_6 U  33696  33694     48\n",
      "  39670 11071        0.1887     7        0.1922        0.1883   164700    2.05%           rho_6 D  39670  39669     44\n",
      "  45388 13282        0.1916     3        0.1922        0.1883   193138    2.05%          rho_14 D  45388  45387     36\n",
      "  50856 15326        0.1918     3        0.1922        0.1883   222359    2.05%          rho_14 D  50856  50855     94\n",
      "  55929 16499        0.1916     9        0.1922        0.1883   247085    2.05%           rho_0 D  55929  55927     30\n",
      "  61088 17715        0.1883    10        0.1922        0.1883   274290    2.05%           rho_0 D  61088  61086     52\n",
      "  65900 20280        0.1888     9        0.1922        0.1883   303823    2.05%           rho_6 D  65900  65899     77\n",
      "  71570 22105        0.1896     7        0.1922        0.1883   331355    2.05%           rho_0 U  71570  71569     26\n",
      "  77484 23886        0.1896     5        0.1922        0.1883   356876    2.05%           rho_0 U  77484  77483     33\n",
      "  82875 26043        0.1912     3        0.1922        0.1883   382898    2.05%           rho_7 D  82875  82873     38\n",
      "Elapsed time = 14.58 sec. (12639.30 ticks, tree = 7.06 MB, solutions = 1)\n",
      "  88354 27722        cutoff              0.1922        0.1883   407323    2.05%           rho_7 U  88354  88352     39\n",
      "  93575 29590        0.1883    11        0.1922        0.1883   430627    2.05%           rho_6 U  93575  93555     42\n",
      "  98457 31948        0.1899    10        0.1922        0.1883   459226    2.05%           rho_6 N  98457  98327     51\n",
      " 102569 33023        cutoff              0.1922        0.1883   489351    2.05%          rho_19 U 102569 102567     85\n",
      " 107203 35347        0.1883    12        0.1922        0.1883   519674    2.05%           rho_6 U 107203 107202     65\n",
      " 111839 36335        0.1883    10        0.1922        0.1883   547988    2.05%           rho_0 D 111839 111837     52\n",
      " 116846 37470        0.1895    11        0.1922        0.1883   572684    2.02%           rho_3 D 116846 116844     33\n",
      " 122980 39431        0.1883    12        0.1922        0.1883   589586    2.00%           rho_2 U 122980 122964     18\n",
      " 128377 41524        0.1918     3        0.1922        0.1884   607839    1.99%          rho_19 N 128377 128376     88\n",
      " 134472 43951        0.1919     7        0.1922        0.1884   625772    1.97%           rho_1 N 134472 134470     41\n",
      "Elapsed time = 23.86 sec. (22177.76 ticks, tree = 12.43 MB, solutions = 1)\n",
      " 140587 46107        0.1909     6        0.1922        0.1884   645912    1.97%           rho_1 D 140587 140586     59\n",
      " 146744 47606        0.1904     7        0.1922        0.1884   664170    1.96%           rho_0 D 146744 146742     50\n",
      " 152822 49409        cutoff              0.1922        0.1884   680987    1.95%           rho_0 D 152822 152820     47\n",
      " 158665 52337        0.1884     3        0.1922        0.1884   701979    1.95%           rho_6 U 158665 158595     61\n",
      " 164629 54883        0.1885    13        0.1922        0.1885   719945    1.94%           rho_0 D 164629 164627     23\n",
      " 170029 57404        0.1921     4        0.1922        0.1885   740703    1.93%           rho_0 U 170029 170028     45\n",
      " 175469 58087        cutoff              0.1922        0.1885   758397    1.92%           rho_0 U 175469 175468     46\n",
      " 181277 60249        0.1913     4        0.1922        0.1885   778102    1.92%          rho_19 D 181277 181275     53\n",
      " 186571 63115        cutoff              0.1922        0.1885   799243    1.91%          rho_17 D 186571 186570     98\n",
      " 192419 64615        0.1892     8        0.1922        0.1885   817541    1.90%          rho_18 D 192419 192418     43\n",
      "Elapsed time = 32.89 sec. (31715.07 ticks, tree = 17.01 MB, solutions = 1)\n",
      " 198223 65700        cutoff              0.1922        0.1885   836358    1.90%          rho_13 U 198223 198221     80\n",
      " 203789 66892        0.1886     9        0.1922        0.1886   854202    1.88%           rho_1 D 203789  95950     53\n",
      " 209063 67787        0.1899     8        0.1922        0.1886   874151    1.86%          rho_10 D 209063 209062     39\n",
      " 214609 68749        cutoff              0.1922        0.1886   893314    1.86%           rho_1 U 214609  96088     63\n",
      " 220461 70006        cutoff              0.1922        0.1886   910432    1.85%           rho_0 U 220461 220460     55\n",
      " 225910 71831        0.1907    10        0.1922        0.1886   931423    1.84%           rho_7 D 225910 225908     37\n",
      " 231903 73670        0.1904     6        0.1922        0.1887   949959    1.83%           rho_6 N 231903 231902     44\n",
      " 237910 74462        0.1887     8        0.1922        0.1887   969628    1.82%           rho_8 D 237910  63333     32\n",
      " 244347 76024        0.1887     1        0.1922        0.1887   987376    1.81%           rho_0 D 244347 244345     67\n",
      " 251322 76890        0.1897     4        0.1922        0.1887  1004965    1.80%          rho_17 D 251322 251321     61\n",
      "Elapsed time = 41.38 sec. (41253.06 ticks, tree = 22.58 MB, solutions = 1)\n",
      " 256824 77082        0.1916     6        0.1922        0.1887  1023286    1.79%           rho_0 U 256824 256822     55\n",
      " 262267 78845        cutoff              0.1922        0.1888  1042434    1.79%          rho_17 U 262267 262265     41\n",
      " 267876 78615        cutoff              0.1922        0.1888  1062104    1.77%           rho_6 U 267876 134447     40\n",
      " 273688 79743        0.1894     6        0.1922        0.1888  1081667    1.76%           rho_0 U 273688 259758     56\n",
      " 279314 82130        0.1904     7        0.1922        0.1888  1100651    1.75%           rho_6 D 279314 279312     20\n",
      " 285034 84250        0.1888     7        0.1922        0.1888  1117522    1.75%           rho_7 D 285034  35179     49\n",
      " 291113 86806        0.1888     7        0.1922        0.1888  1134464    1.74%           rho_0 D 291113 291111     34\n",
      " 296995 88056        0.1900     1        0.1922        0.1889  1153727    1.73%           rho_7 D 296995 296994     70\n",
      " 303014 90263        0.1902     5        0.1922        0.1889  1171058    1.71%          rho_12 D 303014 303012     50\n",
      " 309070 91441        0.1889     9        0.1922        0.1889  1186947    1.70%           rho_6 U 309070 309068     84\n",
      "Elapsed time = 49.75 sec. (50790.79 ticks, tree = 25.83 MB, solutions = 1)\n",
      " 314863 92237        0.1899    10        0.1922        0.1890  1204638    1.68%           rho_6 U 314863 314861     53\n",
      " 320292 93636        0.1890     6        0.1922        0.1890  1222895    1.67%           rho_9 D 320292 170430     60\n",
      " 325035 93873        0.1890    11        0.1922        0.1890  1243215    1.67%           rho_6 U 325035 325033     86\n",
      " 330829 96426        0.1891    12        0.1922        0.1890  1261677    1.67%           rho_6 D 330829 330828     53\n",
      " 336833 97067        cutoff              0.1922        0.1890  1279562    1.66%          rho_13 U 336833 336832     51\n",
      " 343238 99915        0.1890    10        0.1922        0.1890  1294981    1.66%           rho_0 D 343238 343236     50\n",
      " 348363 103051        0.1902    11        0.1922        0.1890  1308774    1.65%           rho_6 D 348363 136257     59\n",
      " 353517 103955        cutoff              0.1922        0.1890  1334767    1.64%           rho_6 D 353517 353516     57\n",
      " 359844 107199        0.1921     5        0.1922        0.1890  1352065    1.64%          rho_14 D 359844 359842     72\n",
      " 364925 108515        0.1897     8        0.1922        0.1891  1373162    1.63%           rho_7 D 364925 364923     64\n",
      "Elapsed time = 59.78 sec. (60328.40 ticks, tree = 29.68 MB, solutions = 1)\n",
      " 370666 110182        cutoff              0.1922        0.1891  1390324    1.63%          rho_13 U 370666 370665     43\n",
      " 377316 111565        0.1895    11        0.1922        0.1891  1406363    1.63%           rho_6 D 377316 336631     29\n",
      " 382707 112157        cutoff              0.1922        0.1891  1423709    1.62%           rho_0 U 382707 382706     32\n",
      " 388421 112429        0.1914     2        0.1922        0.1891  1441016    1.62%           rho_7 N 388421  26319     59\n",
      " 393798 113650        0.1891    10        0.1922        0.1891  1460837    1.61%           rho_6 U 393798  96792     28\n",
      " 399697 115041        0.1891     6        0.1922        0.1891  1478486    1.60%           rho_0 D 399697 399695     60\n",
      " 405714 116321        0.1896    10        0.1922        0.1891  1496896    1.60%          rho_13 D 405714 405712     38\n",
      " 411746 117668        0.1891     4        0.1922        0.1891  1513422    1.58%           rho_0 D 411746 411745     63\n",
      " 416616 118288        0.1892     5        0.1922        0.1892  1533234    1.58%           rho_6 D 416616 412587     37\n",
      " 422280 120122        0.1913     8        0.1922        0.1892  1550875    1.57%           rho_3 D 422280 422279     66\n",
      "Elapsed time = 70.44 sec. (69865.73 ticks, tree = 32.24 MB, solutions = 1)\n",
      " 428525 123216        0.1908     8        0.1922        0.1892  1566623    1.57%           rho_6 D 428525 428524     84\n",
      " 434480 123903        0.1900     7        0.1922        0.1892  1586285    1.57%           rho_1 N 434480 302502     62\n",
      " 440805 123969        0.1902     1        0.1922        0.1892  1605253    1.56%           rho_3 D 440805 440803     47\n",
      " 446233 125810        0.1895    12        0.1922        0.1892  1624431    1.55%           rho_3 D 446233 446231     45\n",
      " 452077 126737        0.1892     5        0.1922        0.1892  1641128    1.55%           rho_6 U 452077 452073     41\n",
      " 457363 126563        0.1909     9        0.1922        0.1892  1660881    1.54%          rho_19 D 457363 457362     40\n",
      " 462988 127800        0.1913     9        0.1922        0.1892  1679904    1.54%          rho_10 U 462988 462986     60\n",
      " 468392 128079        0.1918     4        0.1922        0.1892  1701666    1.54%           rho_0 U 468392 468390     44\n",
      " 473513 128099        0.1921     4        0.1922        0.1893  1720578    1.53%          rho_14 D 473513 473512     61\n",
      " 478942 128099        0.1893     9        0.1922        0.1893  1740735    1.51%           rho_0 D 478942 478940     58\n",
      "Elapsed time = 78.89 sec. (79403.64 ticks, tree = 34.01 MB, solutions = 1)\n",
      " 485024 130086        cutoff              0.1922        0.1893  1759119    1.51%          rho_12 U 485024 485023     48\n",
      " 490644 130126        cutoff              0.1922        0.1893  1777684    1.50%           rho_6 U 490644 236535     31\n",
      " 497049 132329        0.1894     7        0.1922        0.1893  1793342    1.49%          rho_13 D 497049 497047     59\n",
      " 502357 132394        0.1907     6        0.1922        0.1893  1812670    1.48%           rho_1 U 502357 455295     60\n",
      " 507422 132401        0.1916     5        0.1922        0.1894  1832851    1.47%           rho_7 N 507422 507421     45\n",
      " 513486 134736        0.1914     7        0.1922        0.1894  1851270    1.47%          rho_19 D 513486 513485     65\n",
      " 519308 135129        0.1905     9        0.1922        0.1894  1867487    1.47%           rho_1 D 519308 367915     76\n",
      " 525673 136882        cutoff              0.1922        0.1894  1887520    1.46%          rho_13 U 525673 525672     81\n",
      " 531115 136993        cutoff              0.1922        0.1894  1904341    1.45%          rho_19 U 531115 531114     65\n",
      " 554107 140250        0.1915     4        0.1922        0.1895  1975495    1.43%          rho_14 N 554107 554106     43\n",
      "Elapsed time = 89.72 sec. (91802.22 ticks, tree = 39.66 MB, solutions = 1)\n",
      " 577900 144278        0.1915     6        0.1922        0.1895  2040958    1.40%          rho_19 N 577900 470751     52\n",
      " 599418 144592        0.1913     9        0.1922        0.1896  2116822    1.37%          rho_10 U 599418 362460     46\n",
      " 621504 147277        0.1897    11        0.1922        0.1896  2194922    1.35%           rho_1 D 621504 621502     39\n",
      " 641198 148219        cutoff              0.1922        0.1896  2277600    1.34%          rho_13 U 641198 641197     60\n",
      " 663898 152219        0.1921     5        0.1922        0.1896  2347034    1.32%           rho_1 D 663898 663896     58\n",
      " 686043 154881        0.1897     6        0.1922        0.1897  2413644    1.30%          rho_12 D 686043 304481     33\n",
      " 707179 157057        0.1916     3        0.1922        0.1897  2484560    1.29%           rho_7 D 707179 707177     62\n",
      " 730126 161657        cutoff              0.1922        0.1898  2554244    1.26%           rho_7 U 730126 730125     60\n",
      " 751140 160648        0.1914     7        0.1922        0.1898  2623773    1.24%          rho_19 U 751140 574887     81\n",
      " 773172 161861        0.1910     9        0.1922        0.1899  2689424    1.22%           rho_0 D 773172 773171     80\n",
      "Elapsed time = 121.67 sec. (129950.91 ticks, tree = 46.13 MB, solutions = 1)\n",
      " 796740 166718        0.1913     8        0.1922        0.1899  2757296    1.20%           rho_3 D 796740 796738     49\n",
      " 820468 169213        0.1899     9        0.1922        0.1899  2823892    1.18%           rho_6 U 820468 820466     41\n",
      " 842943 170993        0.1920     5        0.1922        0.1900  2897796    1.16%          rho_13 D 842943 842942     85\n",
      " 865853 171372        0.1900    10        0.1922        0.1900  2973327    1.14%           rho_6 U 865853 865851     48\n",
      " 887975 172319        0.1913    10        0.1922        0.1901  3050748    1.11%           rho_4 D 887975 887973     44\n",
      " 909897 171382        0.1919     5        0.1922        0.1901  3123204    1.09%           rho_0 U 909897 830283     49\n",
      " 932831 176301        0.1902     5        0.1922        0.1901  3195495    1.07%           rho_7 D 932831 932829     73\n",
      " 956733 175563        0.1902     5        0.1922        0.1902  3269446    1.05%           rho_0 U 956733 782302     64\n",
      " 979326 175624        0.1911     9        0.1922        0.1902  3346273    1.02%          rho_18 D 979326 979323     60\n",
      " 1002033 177421        0.1903    11        0.1922        0.1902  3422412    1.01%           rho_3 D 1002033 634957     72\n",
      "Elapsed time = 154.08 sec. (168098.63 ticks, tree = 49.69 MB, solutions = 1)\n",
      " 1025526 175591        cutoff              0.1922        0.1903  3494409    0.98%          rho_13 U 1025526 1025525     88\n",
      " 1047457 175170        0.1915     6        0.1922        0.1903  3566113    0.96%          rho_19 D 1047457 1047456     55\n",
      " 1068893 173237        0.1917     5        0.1922        0.1904  3642731    0.94%           rho_8 D 1068893 1068892     52\n",
      " 1089412 171505        0.1918     7        0.1922        0.1904  3715860    0.92%           rho_3 D 1089412 1089410     54\n",
      " 1112701 171306        0.1904    10        0.1922        0.1904  3789516    0.91%           rho_0 D 1112701 1112699     44\n",
      " 1134796 169283        0.1921     8        0.1922        0.1905  3857467    0.88%           rho_0 U 1134796 1134794     43\n",
      " 1156657 167418        0.1905     9        0.1922        0.1905  3932573    0.86%           rho_6 U 1156657 1156655     72\n",
      " 1178826 160727        0.1922     3        0.1922        0.1906  4007047    0.83%          rho_13 D 1178826 1178824     42\n",
      " 1199400 158468        0.1908     1        0.1922        0.1906  4079518    0.82%           rho_7 N 1199400 1199399     74\n",
      " 1223170 153500        0.1907     6        0.1922        0.1907  4150184    0.77%           rho_6 U 1223170 1223168     48\n",
      "Elapsed time = 189.80 sec. (206247.16 ticks, tree = 44.48 MB, solutions = 1)\n",
      " 1245034 149813        cutoff              0.1922        0.1908  4208920    0.74%          rho_18 U 1245034 827331     40\n",
      " 1266689 145378        0.1913     8        0.1922        0.1908  4275642    0.71%          rho_10 U 1266689 1266688     67\n",
      " 1288714 140779        0.1914    10        0.1922        0.1909  4352552    0.69%           rho_3 U 1288714 154109     29\n",
      "\n",
      "User cuts applied:  269\n",
      "\n",
      "Root node processing (before b&c):\n",
      "  Real time             =    0.09 sec. (1.31 ticks)\n",
      "Sequential b&c:\n",
      "  Real time             =  199.92 sec. (218456.18 ticks)\n",
      "                          ------------\n",
      "Total (root+branch&cut) =  200.02 sec. (218457.49 ticks)\n",
      "+-----------------------------------------------+-------------------+-----------+\n",
      "| Pr(Y = +1) = 1.0/(1.0 + exp(-(-44 + score))   |                   |           |\n",
      "| ============================================= | ================= | ========= |\n",
      "| p_arrest>=1                                   |         20 points |   + ..... |\n",
      "| p_charges>=1                                  |         20 points |   + ..... |\n",
      "| p_arrest>=4                                   |          1 points |   + ..... |\n",
      "| p_felony>=1                                   |          1 points |   + ..... |\n",
      "| p_pending_charge>=1                           |          1 points |   + ..... |\n",
      "| ============================================= | ================= | ========= |\n",
      "| ADD POINTS FROM ROWS 1 to 5                   |             SCORE |   = ..... |\n",
      "+-----------------------------------------------+-------------------+-----------+\n",
      "model_id, score_thresholds 0 {'rank_abs': [0]}\n",
      "get_disparity_predefined_group()\n"
     ]
    },
    {
     "name": "stderr",
     "output_type": "stream",
     "text": [
      "C:\\Users\\binha\\Documents\\Duke\\Cynthia Research\\psa-analysis - test2\\utils\\fairness_functions.py:82: RuntimeWarning:\n",
      "\n",
      "invalid value encountered in longlong_scalars\n",
      "\n",
      "C:\\Users\\binha\\Documents\\Duke\\Cynthia Research\\psa-analysis - test2\\utils\\fairness_functions.py:95: RuntimeWarning:\n",
      "\n",
      "divide by zero encountered in longlong_scalars\n",
      "\n"
     ]
    },
    {
     "name": "stdout",
     "output_type": "stream",
     "text": [
      "setting c0 = 0.0 to ensure that intercept is not penalized\n",
      "10/01/19 @ 03:23 PM | 861 rows in lookup table\n",
      "10/01/19 @ 03:23 PM | ------------------------------------------------------------\n",
      "10/01/19 @ 03:23 PM | runnning initialization procedure\n",
      "10/01/19 @ 03:23 PM | ------------------------------------------------------------\n",
      "10/01/19 @ 03:23 PM | CPA produced 2 cuts\n",
      "10/01/19 @ 03:23 PM | running naive rounding on 63 solutions\n",
      "10/01/19 @ 03:23 PM | best objective value: 0.1912\n",
      "10/01/19 @ 03:23 PM | rounding produced 5 integer solutions\n",
      "10/01/19 @ 03:23 PM | best objective value is 0.1971\n",
      "10/01/19 @ 03:23 PM | running sequential rounding on 63 solutions\n",
      "10/01/19 @ 03:23 PM | best objective value: 0.1912\n",
      "10/01/19 @ 03:23 PM | sequential rounding produced 6 integer solutions\n",
      "10/01/19 @ 03:23 PM | best objective value: 0.1938\n",
      "10/01/19 @ 03:23 PM | polishing 11 solutions\n",
      "10/01/19 @ 03:23 PM | best objective value: 0.1938\n",
      "10/01/19 @ 03:23 PM | polishing produced 5 integer solutions\n",
      "10/01/19 @ 03:23 PM | initialization produced 11 feasible solutions\n",
      "10/01/19 @ 03:23 PM | best objective value: 0.1938\n",
      "10/01/19 @ 03:23 PM | ------------------------------------------------------------\n",
      "10/01/19 @ 03:23 PM | completed initialization procedure\n",
      "10/01/19 @ 03:23 PM | ------------------------------------------------------------\n",
      "10/01/19 @ 03:23 PM | 861 rows in lookup table\n",
      "CPXPARAM_Read_DataCheck                          1\n",
      "CPXPARAM_Threads                                 1\n",
      "CPXPARAM_Parallel                                1\n",
      "CPXPARAM_RandomSeed                              0\n",
      "CPXPARAM_TimeLimit                               200\n",
      "CPXPARAM_MIP_Tolerances_LowerCutoff              0.18967660882302495\n",
      "CPXPARAM_MIP_Tolerances_UpperCutoff              0.19378115883166111\n"
     ]
    },
    {
     "name": "stderr",
     "output_type": "stream",
     "text": [
      "Warning: Control callbacks may disable some MIP features.\n"
     ]
    },
    {
     "name": "stdout",
     "output_type": "stream",
     "text": [
      "Lazy constraint(s) or lazy constraint callback is present.\n",
      "    Disabling dual reductions (CPX_PARAM_REDUCE) in presolve.\n",
      "    Disabling non-linear reductions (CPX_PARAM_PRELINEAR) in presolve.\n",
      "         Disabling repeat represolve because of lazy constraint/incumbent callback.\n",
      "10/01/19 @ 03:23 PM | adding 242 initial cuts\n",
      "1 of 1 MIP starts provided solutions.\n",
      "MIP start 'mip_start_0' defined initial solution with objective 0.1938.\n",
      "Tried aggregator 1 time.\n",
      "Reduced MIP has 21 rows, 42 columns, and 79 nonzeros.\n",
      "Reduced MIP has 19 binaries, 21 generals, 0 SOSs, and 0 indicators.\n",
      "Presolve time = 0.02 sec. (0.04 ticks)\n",
      "Probing time = 0.00 sec. (0.01 ticks)\n",
      "MIP emphasis: balance optimality and feasibility.\n",
      "MIP search method: traditional branch-and-cut.\n",
      "Parallel mode: none, using 1 thread.\n",
      "Root relaxation solution time = 0.00 sec. (0.03 ticks)\n",
      "\n",
      "        Nodes                                         Cuts/\n",
      "   Node  Left     Objective  IInf  Best Integer    Best Bound    ItCnt     Gap         Variable B NodeID Parent  Depth\n",
      "\n",
      "*     0+    0                            0.1938        0.1897             2.12%\n",
      "      0     0        0.1897     1        0.1938        0.1897        1    2.12%\n",
      "      0     0        0.1897     2        0.1938       Cuts: 2        3    2.12%\n",
      "      0     2        0.1897     5        0.1938        0.1897        3    2.12%                        0             0\n",
      "Elapsed time = 0.11 sec. (1.52 ticks, tree = 0.01 MB, solutions = 1)\n",
      "   3450  1006        0.1902     5        0.1938        0.1897     9386    2.12%           rho_2 D   3450   3449     21\n",
      "   5758  1393        cutoff              0.1938        0.1897    17133    2.12%          rho_14 D   5758   5756     23\n",
      "   7713  1983        0.1897     2        0.1938        0.1897    23747    2.12%           rho_6 U   7713   7711     26\n",
      "   9398  2600        0.1897     5        0.1938        0.1897    28902    2.12%           rho_2 U   9398   9396     34\n",
      "*  9520+ 2652                            0.1938        0.1897             2.12%\n",
      "  10846  3170        0.1897     6        0.1938        0.1897    34583    2.12%           rho_0 D  10846  10845     53\n",
      "  12260  3802        0.1937     1        0.1938        0.1897    39335    2.12%           rho_8 D  12260  12258     60\n",
      "  13776  4433        cutoff              0.1938        0.1897    45793    2.12%           rho_0 U  13776  13775     30\n",
      "  15288  5058        0.1907     2        0.1938        0.1897    51290    2.12%           rho_0 D  15288  15286     89\n",
      "  16856  5504        0.1906     4        0.1938        0.1897    57664    2.12%           rho_0 D  16856  16854     38\n",
      "  22314  7838        0.1897     1        0.1938        0.1897    79379    2.12%           rho_6 U  22314  22312     74\n",
      "Elapsed time = 4.22 sec. (3102.22 ticks, tree = 2.05 MB, solutions = 2)\n",
      "  27840 10555        cutoff              0.1938        0.1897   106592    2.12%          rho_12 U  27840  27839     60\n",
      "  33477 12802        0.1897     1        0.1938        0.1897   131658    2.12%           rho_6 U  33477  33475     79\n",
      "  38251 15372        cutoff              0.1938        0.1897   155958    2.12%          rho_14 D  38251  38250     92\n",
      "  43685 17380        0.1897     1        0.1938        0.1897   180619    2.12%           rho_6 U  43685  43608     45\n",
      "  48876 19894        0.1897     1        0.1938        0.1897   206024    2.12%           rho_6 U  48876  48874     69\n",
      "  53756 22389        0.1923     3        0.1938        0.1897   230530    2.12%           rho_0 U  53756  53755     40\n",
      "  57809 24569        cutoff              0.1938        0.1897   253257    2.12%           rho_0 U  57809  57808     48\n",
      "  62606 26577        cutoff              0.1938        0.1897   280704    2.12%           rho_0 U  62606  62605     84\n",
      "  67470 29070        0.1897     9        0.1938        0.1897   300998    2.12%           rho_6 U  67470  67468     52\n",
      "  71000 31412        0.1910     9        0.1938        0.1897   327195    2.12%           rho_7 D  71000  70999     20\n",
      "Elapsed time = 13.53 sec. (12640.42 ticks, tree = 8.41 MB, solutions = 2)\n",
      "  74706 33804        0.1919     6        0.1938        0.1897   351178    2.12%          rho_13 D  74706  74705     19\n",
      "  78080 35809        0.1922     9        0.1938        0.1897   379259    2.12%           rho_6 D  78080  78079     58\n",
      "  82624 37850        cutoff              0.1938        0.1897   403637    2.12%          rho_12 U  82624  82622     44\n",
      "  87415 40164        0.1897     9        0.1938        0.1897   428469    2.12%           rho_0 D  87415  87401     57\n",
      "  91140 42389        0.1911     5        0.1938        0.1897   452769    2.12%          rho_13 D  91140  91138     63\n",
      "  95495 44299        0.1900     9        0.1938        0.1897   479842    2.12%           rho_0 U  95495  95494     54\n",
      "  98939 46837        0.1901    12        0.1938        0.1897   505708    2.12%           rho_6 D  98939  98938     42\n",
      " 102293 49340        0.1897     6        0.1938        0.1897   533047    2.12%           rho_6 U 102293 102291     54\n",
      " 105860 52048        0.1899     7        0.1938        0.1897   557744    2.12%           rho_0 U 105860 105859     39\n",
      " 109645 53915        0.1912     4        0.1938        0.1897   581602    2.12%           rho_7 D 109645 109644     38\n",
      "Elapsed time = 22.55 sec. (22178.64 ticks, tree = 14.86 MB, solutions = 2)\n",
      " 113570 56019        0.1932     9        0.1938        0.1897   603894    2.12%           rho_8 D 113570 113568     44\n",
      " 117816 57986        cutoff              0.1938        0.1897   630436    2.12%           rho_3 U 117816 117814     37\n",
      " 121382 60034        0.1912    12        0.1938        0.1897   652230    2.12%           rho_7 D 121382 121380     91\n",
      " 125070 61702        0.1909    12        0.1938        0.1897   674243    2.12%           rho_0 U 125070 125069     56\n",
      " 129628 63824        0.1931     7        0.1938        0.1897   699774    2.12%           rho_7 N 129628 129627     67\n",
      " 133783 65982        0.1897    12        0.1938        0.1897   719303    2.12%           rho_0 D 133783 133772     70\n",
      " 139737 67941        cutoff              0.1938        0.1897   740665    2.11%           rho_7 U 139737 139736     84\n",
      " 144868 71379        cutoff              0.1938        0.1897   756878    2.10%          rho_19 D 144868 144866     42\n",
      " 149622 73017        0.1897     1        0.1938        0.1897   776715    2.09%           rho_6 U 149622 149620     79\n",
      " 154854 76003        0.1898     4        0.1938        0.1898   792249    2.07%           rho_0 D 154854 154852     52\n",
      "Elapsed time = 31.58 sec. (31716.88 ticks, tree = 22.73 MB, solutions = 2)\n",
      " 160216 77387        0.1907     7        0.1938        0.1898   810626    2.07%           rho_6 D 160216 160215     44\n",
      " 165992 78721        cutoff              0.1938        0.1898   829095    2.07%           rho_3 U 165992 165991     48\n",
      " 171761 80458        0.1898     2        0.1938        0.1898   846576    2.07%           rho_0 D 171761 171759     77\n",
      " 176875 81471        0.1935     5        0.1938        0.1898   866228    2.07%          rho_19 D 176875 176874     47\n",
      " 182344 83128        0.1898     6        0.1938        0.1898   885403    2.07%           rho_6 U 182344 182241     50\n",
      " 186980 83937        0.1898    11        0.1938        0.1898   905287    2.06%           rho_6 U 186980 186978     38\n",
      " 191954 85512        cutoff              0.1938        0.1898   925558    2.05%           rho_8 U 191954  61855     51\n",
      " 197056 87400        0.1898    10        0.1938        0.1898   942420    2.04%           rho_0 D 197056 197054     60\n",
      " 202168 88548        cutoff              0.1938        0.1898   961813    2.03%           rho_3 U 202168 202167     81\n",
      " 207158 90919        0.1918    11        0.1938        0.1898   980449    2.03%           rho_6 D 207158 207157     74\n",
      "Elapsed time = 39.64 sec. (41254.48 ticks, tree = 26.20 MB, solutions = 2)\n",
      " 211952 93471        0.1899     2        0.1938        0.1899   995471    2.01%           rho_0 D 211952 211950     82\n",
      " 218100 95421        0.1925     3        0.1938        0.1899  1013238    2.00%          rho_18 D 218100 218099    102\n",
      " 224156 96580        0.1937     8        0.1938        0.1899  1029738    1.99%           rho_6 N 224156 224155     54\n",
      " 229679 97882        0.1919     3        0.1938        0.1899  1048677    1.98%          rho_19 U 229679  76159     79\n",
      " 235113 97939        0.1930     5        0.1938        0.1899  1065030    1.98%           rho_7 D 235113 235111     82\n",
      " 240736 99283        0.1933     4        0.1938        0.1900  1081320    1.97%          rho_17 D 240736 240735     51\n",
      " 246887 101330        cutoff              0.1938        0.1900  1096977    1.97%          rho_19 D 246887 246886     68\n",
      " 252724 103306        0.1905    10        0.1938        0.1900  1114783    1.97%          rho_18 D 252724 252722     50\n",
      " 258385 105257        0.1905    12        0.1938        0.1900  1135078    1.97%           rho_7 D 258385 258384     90\n",
      " 264256 107291        0.1923     5        0.1938        0.1900  1151174    1.96%           rho_5 N 264256 264255     47\n",
      "Elapsed time = 47.83 sec. (50792.26 ticks, tree = 30.01 MB, solutions = 2)\n",
      " 269331 108990        cutoff              0.1938        0.1900  1167747    1.95%           rho_0 U 269331 269330     27\n",
      " 274844 111540        0.1900     7        0.1938        0.1900  1184073    1.95%           rho_6 U 274844 274842     72\n",
      " 279555 112800        cutoff              0.1938        0.1900  1204498    1.94%           rho_1 U 279555 279552     36\n",
      " 284634 115431        0.1907     3        0.1938        0.1900  1220671    1.93%           rho_8 N 284634 190196     56\n",
      " 289424 116929        cutoff              0.1938        0.1900  1237709    1.93%           rho_6 U 289424 289423     40\n",
      " 294550 118284        0.1929     9        0.1938        0.1900  1257075    1.93%          rho_10 U 294550 294548     45\n",
      " 299476 120270        0.1900    13        0.1938        0.1900  1275184    1.93%           rho_0 D 299476 299440     46\n",
      " 304134 121185        cutoff              0.1938        0.1901  1295696    1.92%           rho_1 D 304134 304132     37\n",
      " 309410 122973        0.1904     6        0.1938        0.1901  1313380    1.92%          rho_19 D 309410  73959     80\n",
      " 314704 124040        0.1918     5        0.1938        0.1901  1327149    1.92%          rho_19 N 314704 142529     87\n",
      "Elapsed time = 56.11 sec. (60330.76 ticks, tree = 33.85 MB, solutions = 2)\n",
      " 319463 126249        0.1901     9        0.1938        0.1901  1342627    1.92%           rho_6 U 319463 319461     66\n",
      " 323708 128577        0.1907     9        0.1938        0.1901  1359038    1.92%           rho_7 N 323708 258290     64\n",
      " 329331 128957        cutoff              0.1938        0.1901  1375493    1.91%           rho_1 U 329331 329330     83\n",
      " 334696 130411        cutoff              0.1938        0.1901  1391763    1.91%           rho_0 U 334696 334695     81\n",
      " 339568 132040        cutoff              0.1938        0.1901  1406442    1.91%           rho_0 U 339568 339567     29\n",
      " 343701 132200        0.1937     5        0.1938        0.1901  1427282    1.90%           rho_5 D 343701 343699     64\n",
      " 348330 132492        0.1906     9        0.1938        0.1901  1446265    1.89%           rho_0 D 348330 348328     55\n",
      " 352800 134234        0.1916     7        0.1938        0.1901  1464993    1.89%          rho_19 D 352800 352798     58\n",
      " 357761 137161        0.1917    13        0.1938        0.1901  1480417    1.89%           rho_6 D 357761 357760     48\n",
      " 361921 138941        cutoff              0.1938        0.1901  1496069    1.88%           rho_0 D 361921 361920     54\n",
      "Elapsed time = 64.91 sec. (69868.80 ticks, tree = 40.23 MB, solutions = 2)\n",
      " 367035 140666        0.1918     9        0.1938        0.1901  1513417    1.88%           rho_8 D 367035 367034     71\n",
      " 372653 142773        0.1919     7        0.1938        0.1901  1526765    1.88%           rho_1 D 372653 372652     39\n",
      " 377806 144019        0.1926     5        0.1938        0.1901  1541197    1.87%          rho_19 D 377806 377805     55\n",
      " 383238 145916        0.1902     9        0.1938        0.1902  1557126    1.87%           rho_6 D 383238 383237     74\n",
      " 387554 145604        0.1902     5        0.1938        0.1902  1578947    1.87%           rho_0 D 387554 387552     35\n",
      " 392512 147771        0.1902     8        0.1938        0.1902  1595935    1.87%           rho_3 D 392512 355070     74\n",
      " 397302 149045        0.1922     3        0.1938        0.1902  1614948    1.86%          rho_12 D 397302 397300     98\n",
      " 401720 149642        0.1903     7        0.1938        0.1902  1638218    1.86%           rho_0 U 401720 401719     74\n",
      " 406818 150967        cutoff              0.1938        0.1902  1656193    1.86%           rho_6 D 406818 406817     32\n",
      " 412520 151928        0.1932     6        0.1938        0.1902  1669730    1.86%          rho_17 D 412520 412519     45\n",
      "Elapsed time = 76.23 sec. (79406.55 ticks, tree = 43.27 MB, solutions = 2)\n",
      " 417952 154100        cutoff              0.1938        0.1902  1684474    1.86%           rho_1 U 417952  86608     91\n",
      " 422720 156174        0.1920     5        0.1938        0.1902  1703717    1.86%           rho_0 U 422720 422719     47\n",
      " 427455 158010        0.1902     8        0.1938        0.1902  1721165    1.85%           rho_0 D 427455 427453     55\n",
      " 432141 158469        0.1932    12        0.1938        0.1902  1737787    1.85%           rho_6 D 432141 432140     45\n",
      " 436787 159797        0.1936     6        0.1938        0.1902  1753744    1.85%           rho_1 N 436787 436785     92\n",
      " 441143 159518        cutoff              0.1938        0.1902  1768673    1.85%           rho_0 U 441143 441141     40\n",
      " 445580 160346        0.1902    15        0.1938        0.1902  1783340    1.85%           rho_0 D 445580 445578     74\n",
      " 451159 161781        0.1902     4        0.1938        0.1902  1796785    1.84%           rho_6 U 451159 451157     39\n",
      " 456514 163068        0.1902     8        0.1938        0.1902  1809777    1.84%           rho_8 D 456514 157553     60\n",
      " 475772 165712        cutoff              0.1938        0.1902  1879612    1.82%           rho_5 U 475772 475771     68\n",
      "Elapsed time = 86.76 sec. (91805.44 ticks, tree = 48.19 MB, solutions = 2)\n",
      " 496614 171146        0.1903     8        0.1938        0.1903  1939688    1.81%          rho_17 D 496614 496613     78\n",
      " 517195 178169        cutoff              0.1938        0.1903  2006122    1.80%           rho_0 U 517195 517194     50\n",
      " 537120 183269        0.1921     9        0.1938        0.1903  2069321    1.79%           rho_1 D 537120 537119     23\n",
      " 557280 190216        0.1903     7        0.1938        0.1903  2132743    1.78%          rho_10 D 557280 373417     37\n",
      " 575961 193239        0.1919     6        0.1938        0.1904  2199641    1.75%           rho_1 D 575961 575960     81\n",
      " 596140 197058        cutoff              0.1938        0.1904  2261074    1.74%          rho_14 D 596140 596139     52\n",
      " 614090 200117        0.1928     8        0.1938        0.1904  2328369    1.73%           rho_8 D 614090 614088     42\n",
      " 632210 204363        cutoff              0.1938        0.1905  2403425    1.72%           rho_0 D 632210 632209     43\n",
      " 650301 203365        0.1905     9        0.1938        0.1905  2473903    1.69%           rho_6 U 650301 650299     54\n",
      " 668506 208531        0.1912     7        0.1938        0.1905  2542285    1.68%          rho_19 D 668506 668504     48\n",
      "Elapsed time = 117.84 sec. (129953.53 ticks, tree = 60.10 MB, solutions = 2)\n",
      " 688580 213514        0.1921     5        0.1938        0.1905  2599846    1.67%           rho_1 D 688580 688579     52\n",
      " 707731 216374        0.1906    12        0.1938        0.1906  2663308    1.65%           rho_6 D 707731 692969     21\n",
      " 726485 219976        0.1934     5        0.1938        0.1906  2729065    1.65%          rho_19 U 726485 614484     38\n",
      " 746520 223611        0.1923    10        0.1938        0.1906  2786994    1.63%          rho_19 D 746520 746519     22\n",
      " 766358 227828        0.1917    10        0.1938        0.1906  2847758    1.62%           rho_1 N 766358 766357     44\n",
      " 785493 231856        0.1922     1        0.1938        0.1907  2912693    1.60%           rho_0 N 785493 785492     50\n",
      " 804124 234699        0.1931     6        0.1938        0.1907  2983302    1.59%          rho_18 D 804124 804123     25\n",
      " 823683 236931        0.1923     5        0.1938        0.1907  3050404    1.58%           rho_3 D 823683 823681     47\n",
      " 842774 239771        0.1911     6        0.1938        0.1907  3113205    1.56%           rho_7 U 842774  60108     56\n",
      " 862340 241899        0.1908    10        0.1938        0.1908  3182179    1.55%           rho_6 U 862340 862338     29\n",
      "Elapsed time = 147.91 sec. (168102.33 ticks, tree = 70.24 MB, solutions = 2)\n",
      " 882286 249831        0.1929     5        0.1938        0.1908  3246873    1.54%           rho_2 N 882286 882285     58\n",
      " 901493 258323        0.1926     8        0.1938        0.1908  3316547    1.53%           rho_6 D 901493 901492     44\n",
      " 920621 260620        cutoff              0.1938        0.1908  3384507    1.51%           rho_1 U 920621 920620     58\n",
      " 939798 263113        0.1919     8        0.1938        0.1909  3450814    1.50%           rho_1 D 939798 939797     42\n",
      " 960366 264020        cutoff              0.1938        0.1909  3519629    1.49%          rho_14 U 960366 960364     41\n",
      " 979248 269595        0.1913    10        0.1938        0.1909  3583354    1.47%          rho_18 N 979248 445695     53\n",
      " 999237 272398        0.1912    14        0.1938        0.1910  3645483    1.46%           rho_6 D 999237 999236     33\n",
      " 1017639 276717        cutoff              0.1938        0.1910  3713683    1.44%           rho_0 U 1017639 1017638     71\n",
      " 1036992 280960        0.1910    10        0.1938        0.1910  3777501    1.43%           rho_6 U 1036992 1036990     43\n",
      " 1057464 284577        0.1919    13        0.1938        0.1910  3837523    1.42%           rho_6 D 1057464 547124     26\n",
      "Elapsed time = 182.48 sec. (206249.88 ticks, tree = 83.10 MB, solutions = 2)\n",
      " 1077125 288885        0.1930     7        0.1938        0.1911  3892949    1.41%           rho_1 N 1077125 1077123     35\n",
      " 1095191 288200        0.1923     3        0.1938        0.1911  3951143    1.40%           rho_0 D 1095191 1095189     46\n",
      " 1112089 287695        cutoff              0.1938        0.1911  4024838    1.39%          rho_19 U 1112089 666919     69\n",
      " 1129370 289767        0.1911     5        0.1938        0.1911  4085183    1.38%           rho_0 D 1129370 1129368     56\n",
      " 1147333 292030        0.1929     3        0.1938        0.1911  4142692    1.37%          rho_13 D 1147333 1147332     79\n",
      "\n",
      "User cuts applied:  314\n",
      "\n",
      "Root node processing (before b&c):\n",
      "  Real time             =    0.09 sec. (1.54 ticks)\n",
      "Sequential b&c:\n",
      "  Real time             =  199.92 sec. (226672.60 ticks)\n",
      "                          ------------\n",
      "Total (root+branch&cut) =  200.01 sec. (226674.14 ticks)\n",
      "+----------------------------------------------+------------------+-----------+\n",
      "| Pr(Y = +1) = 1.0/(1.0 + exp(-(-5 + score))   |                  |           |\n",
      "| ============================================ | ================ | ========= |\n",
      "| p_arrest>=1                                  |         1 points |   + ..... |\n",
      "| p_arrest>=4                                  |         1 points |   + ..... |\n",
      "| p_felony>=1                                  |         1 points |   + ..... |\n",
      "| p_pending_charge>=1                          |         1 points |   + ..... |\n",
      "| ============================================ | ================ | ========= |\n",
      "| ADD POINTS FROM ROWS 1 to 4                  |            SCORE |   = ..... |\n",
      "+----------------------------------------------+------------------+-----------+\n",
      "model_id, score_thresholds 0 {'rank_abs': [0]}\n",
      "get_disparity_predefined_group()\n"
     ]
    },
    {
     "name": "stderr",
     "output_type": "stream",
     "text": [
      "C:\\Users\\binha\\Documents\\Duke\\Cynthia Research\\psa-analysis - test2\\utils\\fairness_functions.py:82: RuntimeWarning:\n",
      "\n",
      "invalid value encountered in longlong_scalars\n",
      "\n",
      "C:\\Users\\binha\\Documents\\Duke\\Cynthia Research\\psa-analysis - test2\\utils\\fairness_functions.py:95: RuntimeWarning:\n",
      "\n",
      "divide by zero encountered in longlong_scalars\n",
      "\n",
      "C:\\Users\\binha\\Documents\\Duke\\Cynthia Research\\psa-analysis - test2\\utils\\fairness_functions.py:86: RuntimeWarning:\n",
      "\n",
      "invalid value encountered in longlong_scalars\n",
      "\n",
      "C:\\Users\\binha\\Documents\\Duke\\Cynthia Research\\psa-analysis - test2\\utils\\fairness_functions.py:95: RuntimeWarning:\n",
      "\n",
      "invalid value encountered in longlong_scalars\n",
      "\n"
     ]
    },
    {
     "name": "stdout",
     "output_type": "stream",
     "text": [
      "setting c0 = 0.0 to ensure that intercept is not penalized\n",
      "10/01/19 @ 03:27 PM | 861 rows in lookup table\n",
      "10/01/19 @ 03:27 PM | ------------------------------------------------------------\n",
      "10/01/19 @ 03:27 PM | runnning initialization procedure\n",
      "10/01/19 @ 03:27 PM | ------------------------------------------------------------\n",
      "10/01/19 @ 03:27 PM | CPA produced 2 cuts\n",
      "10/01/19 @ 03:27 PM | running naive rounding on 65 solutions\n",
      "10/01/19 @ 03:27 PM | best objective value: 0.1910\n",
      "10/01/19 @ 03:27 PM | rounding produced 5 integer solutions\n",
      "10/01/19 @ 03:27 PM | best objective value is 0.1948\n",
      "10/01/19 @ 03:27 PM | running sequential rounding on 65 solutions\n",
      "10/01/19 @ 03:27 PM | best objective value: 0.1910\n",
      "10/01/19 @ 03:27 PM | sequential rounding produced 5 integer solutions\n",
      "10/01/19 @ 03:27 PM | best objective value: 0.1929\n",
      "10/01/19 @ 03:27 PM | polishing 10 solutions\n",
      "10/01/19 @ 03:27 PM | best objective value: 0.1929\n",
      "10/01/19 @ 03:27 PM | polishing produced 5 integer solutions\n",
      "10/01/19 @ 03:27 PM | initialization produced 9 feasible solutions\n",
      "10/01/19 @ 03:27 PM | best objective value: 0.1929\n",
      "10/01/19 @ 03:27 PM | ------------------------------------------------------------\n",
      "10/01/19 @ 03:27 PM | completed initialization procedure\n",
      "10/01/19 @ 03:27 PM | ------------------------------------------------------------\n",
      "10/01/19 @ 03:27 PM | 861 rows in lookup table\n",
      "CPXPARAM_Read_DataCheck                          1\n",
      "CPXPARAM_Threads                                 1\n",
      "CPXPARAM_Parallel                                1\n",
      "CPXPARAM_RandomSeed                              0\n",
      "CPXPARAM_TimeLimit                               200\n",
      "CPXPARAM_MIP_Tolerances_LowerCutoff              0.18901653574107394\n",
      "CPXPARAM_MIP_Tolerances_UpperCutoff              0.19287386088826394\n"
     ]
    },
    {
     "name": "stderr",
     "output_type": "stream",
     "text": [
      "Warning: Control callbacks may disable some MIP features.\n"
     ]
    },
    {
     "name": "stdout",
     "output_type": "stream",
     "text": [
      "Lazy constraint(s) or lazy constraint callback is present.\n",
      "    Disabling dual reductions (CPX_PARAM_REDUCE) in presolve.\n",
      "    Disabling non-linear reductions (CPX_PARAM_PRELINEAR) in presolve.\n",
      "         Disabling repeat represolve because of lazy constraint/incumbent callback.\n",
      "10/01/19 @ 03:27 PM | adding 222 initial cuts\n",
      "1 of 1 MIP starts provided solutions.\n",
      "MIP start 'mip_start_0' defined initial solution with objective 0.1929.\n",
      "Tried aggregator 1 time.\n",
      "Reduced MIP has 21 rows, 42 columns, and 79 nonzeros.\n",
      "Reduced MIP has 19 binaries, 21 generals, 0 SOSs, and 0 indicators.\n",
      "Presolve time = 0.00 sec. (0.04 ticks)\n",
      "Probing time = 0.00 sec. (0.01 ticks)\n",
      "MIP emphasis: balance optimality and feasibility.\n",
      "MIP search method: traditional branch-and-cut.\n",
      "Parallel mode: none, using 1 thread.\n",
      "Root relaxation solution time = 0.00 sec. (0.03 ticks)\n",
      "\n",
      "        Nodes                                         Cuts/\n",
      "   Node  Left     Objective  IInf  Best Integer    Best Bound    ItCnt     Gap         Variable B NodeID Parent  Depth\n",
      "\n",
      "*     0+    0                            0.1929        0.1890             2.01%\n",
      "      0     0        0.1890     1        0.1929        0.1890        1    2.00%\n",
      "      0     0        0.1890     3        0.1929       Cuts: 2        5    2.00%\n",
      "      0     2        0.1890     1        0.1929        0.1890        5    2.00%                        0             0\n",
      "Elapsed time = 0.19 sec. (1.17 ticks, tree = 0.01 MB, solutions = 1)\n",
      "   3640  1160        0.1892     3        0.1929        0.1890     9714    2.00%           rho_6 D   3640   3639     60\n",
      "   6230  1850        0.1890     1        0.1929        0.1890    18799    2.00%           rho_6 U   6230   6228     61\n",
      "   8829  2139        0.1900     9        0.1929        0.1890    26469    2.00%           rho_2 D   8829   8828     21\n",
      "  10959  2622        0.1890     4        0.1929        0.1890    32846    2.00%           rho_6 U  10959  10957     62\n",
      "  12994  3250        0.1890     1        0.1929        0.1890    39848    2.00%           rho_6 U  12994  12990     47\n",
      "  15097  3552        0.1890     6        0.1929        0.1890    47021    2.00%           rho_7 N  15097  15095     12\n",
      "  17295  4019        0.1913     4        0.1929        0.1890    54410    2.00%          rho_11 D  17295  17294     92\n",
      "  19072  4500        0.1904     1        0.1929        0.1890    59951    2.00%           rho_0 D  19072  19070     78\n",
      "  20620  5094        0.1908     6        0.1929        0.1890    66061    2.00%           rho_6 D  20620  20619     36\n",
      "* 22770+ 5829                            0.1929        0.1890             2.00%\n",
      "  26964  7535        0.1890     7        0.1929        0.1890    93911    2.00%           rho_0 D  26964  26962     81\n",
      "Elapsed time = 5.44 sec. (3101.56 ticks, tree = 1.91 MB, solutions = 2)\n",
      "  32828 10082        0.1890     4        0.1929        0.1890   121004    2.00%           rho_6 U  32828  32826     82\n",
      "  38237 11714        0.1890     8        0.1929        0.1890   148157    2.00%           rho_6 U  38237  38235     44\n",
      "  43250 13632        0.1897     8        0.1929        0.1890   176925    2.00%           rho_6 D  43250  43249     19\n",
      "  48291 16150        0.1890     8        0.1929        0.1890   205447    2.00%           rho_0 D  48291  48289     80\n",
      "  53409 18005        0.1891     9        0.1929        0.1890   235710    2.00%           rho_0 N  53409  53408     56\n",
      "* 55000+18763                            0.1929        0.1890             2.00%\n",
      "  58648 20505        0.1894    10        0.1929        0.1890   264696    2.00%           rho_0 U  58648  58646     51\n",
      "  63864 22674        0.1890     8        0.1929        0.1890   294374    2.00%           rho_6 U  63864  63862     80\n",
      "  68916 24818        0.1890    10        0.1929        0.1890   320917    2.00%           rho_6 N  68916  68915     58\n",
      "  73307 27192        0.1912     3        0.1929        0.1890   348595    2.00%           rho_0 U  73307  73306     15\n",
      "  76990 29815        0.1902     4        0.1929        0.1890   376467    2.00%           rho_0 U  76990  76989     52\n",
      "Elapsed time = 15.14 sec. (12639.48 ticks, tree = 7.92 MB, solutions = 3)\n",
      "  80770 31584        0.1890     9        0.1929        0.1890   403865    2.00%           rho_0 D  80770  80768     59\n",
      "  84400 33768        0.1896     9        0.1929        0.1890   431649    2.00%           rho_7 D  84400  84398     47\n",
      "  88071 35837        0.1890    10        0.1929        0.1890   457796    2.00%           rho_6 U  88071  67830     35\n",
      "  91870 38017        0.1909     5        0.1929        0.1890   482383    2.00%           rho_3 D  91870  91869     24\n",
      "  95866 40087        0.1902     5        0.1929        0.1890   505748    2.00%           rho_0 U  95866  95865     79\n",
      " 100600 41167        0.1890     9        0.1929        0.1890   534932    2.00%           rho_0 D 100600 100598     15\n",
      " 105348 43193        0.1917     7        0.1929        0.1890   567686    2.00%          rho_18 N 105348 105347     34\n",
      " 109777 45317        0.1890    11        0.1929        0.1890   601563    2.00%           rho_0 D 109777 109775     56\n",
      " 115327 46985        0.1890    11        0.1929        0.1890   628103    2.00%           rho_0 D 115327 115132     95\n",
      " 120132 48934        0.1901     5        0.1929        0.1890   657959    2.00%           rho_3 U 120132 119769     86\n",
      "Elapsed time = 24.19 sec. (22178.43 ticks, tree = 13.56 MB, solutions = 3)\n",
      " 125079 50043        0.1890     8        0.1929        0.1890   685961    2.00%           rho_6 U 125079 125072     43\n",
      " 130361 51658        0.1897    11        0.1929        0.1890   712176    2.00%           rho_1 D 130361 130360     45\n",
      " 134640 54313        0.1894    11        0.1929        0.1890   741837    2.00%           rho_6 D 134640 134639     54\n",
      " 138470 56242        0.1890    11        0.1929        0.1890   769512    2.00%           rho_6 U 138470 138468     43\n",
      " 142503 58275        0.1890    10        0.1929        0.1890   796864    2.00%           rho_0 D 142503 142494     56\n",
      " 146719 59647        0.1891    11        0.1929        0.1890   824864    2.00%           rho_6 D 146719 146718     50\n",
      " 150776 61281        0.1890     6        0.1929        0.1890   855725    2.00%           rho_0 D 150776 150772     66\n",
      " 155025 62367        0.1890    10        0.1929        0.1890   885075    2.00%           rho_6 U 155025 155015     46\n",
      " 159327 64794        0.1916     7        0.1929        0.1890   914535    2.00%           rho_6 D 159327 159325     25\n",
      " 162500 67204        0.1890    15        0.1929        0.1890   939195    2.00%           rho_0 D 162500 162498     66\n",
      "Elapsed time = 33.20 sec. (31717.79 ticks, tree = 20.44 MB, solutions = 3)\n",
      " 165680 69510        0.1890    15        0.1929        0.1890   965338    2.00%           rho_0 D 165680 165678     35\n",
      " 168800 71786        0.1895    14        0.1929        0.1890   990639    2.00%           rho_0 U 168800 168799     59\n",
      " 173430 74607        0.1891     9        0.1929        0.1890  1005677    1.99%           rho_0 U 173430 173429     50\n",
      " 177939 76792        0.1923     6        0.1929        0.1890  1024164    1.99%           rho_8 D 177939 177937     63\n",
      " 183458 78795        0.1890     4        0.1929        0.1890  1044596    1.99%           rho_6 U 183458 183456     76\n",
      " 188630 82047        0.1891    10        0.1929        0.1891  1066328    1.98%           rho_6 U 188630 188628     58\n",
      " 192863 84765        0.1923     3        0.1929        0.1891  1086424    1.98%          rho_19 D 192863 192862     54\n",
      " 198065 86752        0.1891    14        0.1929        0.1891  1106918    1.98%           rho_0 D 198065 198053     77\n",
      " 203758 89767        0.1891     9        0.1929        0.1891  1125216    1.97%           rho_6 U 203758 203756     48\n",
      " 209185 91714        0.1915     6        0.1929        0.1891  1140512    1.97%           rho_3 N 209185 209184     71\n",
      "Elapsed time = 41.73 sec. (41256.52 ticks, tree = 25.90 MB, solutions = 3)\n",
      " 215279 93503        0.1891    14        0.1929        0.1891  1159216    1.95%           rho_0 D 215279 215277     32\n",
      " 220670 96787        0.1892    10        0.1929        0.1891  1177216    1.95%           rho_0 U 220670 220669     68\n",
      " 225353 99179        0.1919     3        0.1929        0.1891  1191757    1.95%           rho_6 D 225353 225352     50\n",
      " 230942 102364        0.1921     9        0.1929        0.1891  1206472    1.94%          rho_10 U 230942 230940     65\n",
      " 236308 103888        0.1902     9        0.1929        0.1891  1231054    1.94%           rho_1 N 236308 203150     60\n",
      " 242800 105270        0.1926     1        0.1929        0.1892  1248977    1.93%           rho_5 D 242800 242799     46\n",
      " 249074 107551        0.1919     4        0.1929        0.1892  1265267    1.92%          rho_12 D 249074 249072     48\n",
      " 254814 109910        0.1892    13        0.1929        0.1892  1282834    1.91%           rho_0 D 254814 254812     29\n",
      " 259406 112729        0.1892     9        0.1929        0.1892  1299621    1.90%           rho_7 D 259406  93425     45\n",
      " 265148 114802        cutoff              0.1929        0.1892  1320931    1.90%           rho_3 U 265148 265147     49\n",
      "Elapsed time = 50.45 sec. (50794.95 ticks, tree = 31.10 MB, solutions = 3)\n",
      " 270187 116171        0.1923     8        0.1929        0.1892  1343126    1.90%           rho_3 D 270187 270186     46\n",
      " 275195 117204        0.1915     5        0.1929        0.1892  1365887    1.88%          rho_11 U 275195 275193     63\n",
      " 280149 118672        0.1892     4        0.1929        0.1892  1387342    1.88%           rho_6 U 280149 280147     64\n",
      " 285131 120479        0.1921     4        0.1929        0.1892  1411222    1.88%          rho_17 N 285131 285130     47\n",
      " 291200 121304        0.1896     6        0.1929        0.1893  1430042    1.87%          rho_14 D 291200 291199     34\n",
      " 297156 123567        0.1893    14        0.1929        0.1893  1448354    1.87%           rho_6 U 297156 297122     52\n",
      " 302348 124832        0.1915     5        0.1929        0.1893  1469672    1.87%          rho_13 D 302348 302346     55\n",
      " 308440 125812        0.1900    10        0.1929        0.1893  1488061    1.86%          rho_18 N 308440 308439     57\n",
      " 314581 127378        0.1927     8        0.1929        0.1893  1506252    1.86%          rho_14 D 314581 314580     55\n",
      " 320510 127937        0.1922     6        0.1929        0.1893  1524209    1.86%          rho_14 D 320510 320509     56\n",
      "Elapsed time = 58.72 sec. (60332.70 ticks, tree = 34.08 MB, solutions = 3)\n",
      " 326190 130433        0.1914     5        0.1929        0.1893  1541703    1.85%          rho_14 D 326190 326189     92\n",
      " 331994 131764        0.1909     5        0.1929        0.1893  1560826    1.85%           rho_0 U 331994 331993     48\n",
      " 337868 134311        cutoff              0.1929        0.1893  1582881    1.84%           rho_0 U 337868 337867     72\n",
      " 343299 136647        0.1909     5        0.1929        0.1893  1602788    1.84%           rho_0 U 343299 343298     52\n",
      " 348118 138482        0.1925     7        0.1929        0.1894  1625044    1.82%           rho_8 N 348118 348117     65\n",
      " 353821 139918        0.1894    10        0.1929        0.1894  1646409    1.81%           rho_0 D 353821 353726     51\n",
      " 359432 142862        0.1894     9        0.1929        0.1894  1663090    1.80%          rho_18 D 359432  71873     82\n",
      " 364406 143181        0.1914    10        0.1929        0.1894  1682640    1.79%           rho_6 D 364406  44276     29\n",
      " 370067 144434        cutoff              0.1929        0.1894  1697322    1.78%           rho_8 U 370067 370066     91\n",
      " 375030 146760        0.1904    11        0.1929        0.1895  1718678    1.77%           rho_7 D 375030 375029     78\n",
      "Elapsed time = 67.50 sec. (69870.32 ticks, tree = 41.32 MB, solutions = 3)\n",
      " 379838 148769        0.1909    10        0.1929        0.1895  1739596    1.77%           rho_0 D 379838 379836     71\n",
      " 384894 149419        0.1906     9        0.1929        0.1895  1758329    1.77%           rho_7 D 384894 384892     41\n",
      " 390156 151113        cutoff              0.1929        0.1895  1774476    1.76%          rho_12 U 390156 390154     51\n",
      " 395310 151458        0.1909     6        0.1929        0.1895  1791838    1.75%          rho_14 D 395310 395308     18\n",
      " 400217 151994        0.1924     9        0.1929        0.1895  1811559    1.75%           rho_3 D 400217 400215     65\n",
      " 405830 152681        0.1922    11        0.1929        0.1895  1830183    1.74%          rho_14 D 405830 405829     29\n",
      " 411044 153340        0.1895    14        0.1929        0.1895  1847158    1.73%           rho_6 U 411044 411037     48\n",
      " 415402 153061        0.1910    10        0.1929        0.1895  1871490    1.73%           rho_1 U 415402 386271     63\n",
      " 420921 154201        0.1903     7        0.1929        0.1895  1888905    1.72%           rho_9 N 420921 133155     44\n",
      " 426177 154933        cutoff              0.1929        0.1896  1906996    1.72%           rho_7 D 426177 426176     78\n",
      "Elapsed time = 75.61 sec. (79408.26 ticks, tree = 43.20 MB, solutions = 3)\n",
      " 431900 157471        0.1896     9        0.1929        0.1896  1924810    1.71%           rho_0 U 431900 431899     52\n",
      " 436897 160370        0.1896     4        0.1929        0.1896  1940237    1.71%           rho_6 U 436897 436895     71\n",
      " 442700 160823        0.1899     8        0.1929        0.1896  1957436    1.71%           rho_8 D 442700 442698     38\n",
      " 447917 162765        cutoff              0.1929        0.1896  1976489    1.71%          rho_13 U 447917 447915     51\n",
      " 453357 163127        0.1914     8        0.1929        0.1896  1995864    1.70%           rho_1 U 453357 262531     59\n",
      " 458632 164121        0.1906     9        0.1929        0.1896  2015655    1.70%          rho_14 D 458632 458631     84\n",
      " 463933 165961        0.1896     8        0.1929        0.1896  2035220    1.69%           rho_6 U 463933 463931     94\n",
      " 470183 167556        0.1907     6        0.1929        0.1896  2052269    1.68%           rho_8 U 470183 470181     55\n",
      " 475380 169231        0.1908     9        0.1929        0.1896  2071470    1.68%           rho_6 D 475380 475379     86\n",
      " 498390 175375        0.1898    14        0.1929        0.1897  2149083    1.66%           rho_7 D 498390 498389     63\n",
      "Elapsed time = 86.55 sec. (91807.84 ticks, tree = 49.53 MB, solutions = 3)\n",
      " 519310 180162        0.1897     4        0.1929        0.1897  2234626    1.65%           rho_6 D 519310 519308     79\n",
      " 539460 181853        0.1897     9        0.1929        0.1897  2312678    1.63%           rho_0 D 539460 539458     93\n",
      " 562407 189856        0.1898     6        0.1929        0.1898  2380742    1.61%           rho_6 U 562407 562405     58\n",
      " 582446 195697        0.1911    11        0.1929        0.1898  2451393    1.60%           rho_3 N 582446 582444     68\n",
      " 604217 203732        0.1924     5        0.1929        0.1898  2519145    1.58%           rho_1 N 604217 220058     37\n",
      " 627040 205917        0.1899     7        0.1929        0.1899  2590586    1.57%           rho_0 D 627040 627036     69\n",
      " 647465 211297        cutoff              0.1929        0.1899  2657709    1.54%           rho_3 U 647465 647464     45\n",
      " 667354 215990        cutoff              0.1929        0.1899  2736944    1.53%          rho_17 U 667354  86490     60\n",
      " 688618 220960        0.1912     5        0.1929        0.1899  2802634    1.52%          rho_17 D 688618 688617     67\n",
      " 708674 223477        0.1908     6        0.1929        0.1900  2876638    1.50%           rho_1 D 708674 708673     57\n",
      "Elapsed time = 119.47 sec. (129956.28 ticks, tree = 62.52 MB, solutions = 3)\n",
      " 729946 227040        0.1900     8        0.1929        0.1900  2949943    1.49%           rho_0 D 729946 729944     22\n",
      " 751351 230411        0.1926     9        0.1929        0.1900  3013836    1.47%           rho_1 D 751351 353836     39\n",
      " 773276 234540        0.1917     5        0.1929        0.1901  3088635    1.46%           rho_0 U 773276 773275     43\n",
      " 795402 237729        0.1901     9        0.1929        0.1901  3159870    1.44%           rho_6 U 795402 795400     56\n",
      " 817830 239002        0.1923     5        0.1929        0.1901  3224080    1.43%           rho_7 D 817830 817829     30\n",
      " 837530 238558        0.1909     6        0.1929        0.1902  3296564    1.40%           rho_1 D 837530 837529     52\n",
      " 858202 240811        cutoff              0.1929        0.1902  3371184    1.38%           rho_0 U 858202 858201     34\n",
      " 878939 245899        0.1917     6        0.1929        0.1902  3445794    1.37%           rho_8 N 878939 878938     47\n",
      " 901261 251020        0.1925     8        0.1929        0.1903  3510052    1.35%          rho_11 N 901261 901259     37\n",
      " 920347 254270        0.1922     5        0.1929        0.1903  3581607    1.33%           rho_1 N 920347 711079     57\n",
      "Elapsed time = 153.19 sec. (168105.28 ticks, tree = 72.00 MB, solutions = 3)\n",
      " 939214 256225        0.1917     8        0.1929        0.1903  3653903    1.32%           rho_1 D 939214 598650     55\n",
      " 959148 254816        0.1921     5        0.1929        0.1904  3733228    1.31%           rho_1 N 959148 633732     63\n",
      " 979917 256415        0.1925     5        0.1929        0.1904  3803382    1.30%          rho_14 D 979917 979916     35\n",
      " 1000842 254837        cutoff              0.1929        0.1904  3875738    1.28%          rho_14 U 1000842 1000840     59\n",
      " 1021110 256678        cutoff              0.1929        0.1904  3952518    1.26%          rho_10 D 1021110 1021109     70\n",
      " 1042467 256900        0.1907     5        0.1929        0.1905  4013127    1.25%          rho_13 D 1042467  70214     62\n",
      " 1063070 260422        cutoff              0.1929        0.1905  4081050    1.24%          rho_14 D 1063070 1063068     59\n",
      " 1086560 263744        0.1914     7        0.1929        0.1905  4150440    1.22%          rho_14 D 1086560 1086559     55\n",
      " 1107128 264885        0.1905     8        0.1929        0.1905  4218635    1.21%           rho_6 U 1107128 1107126     61\n",
      " 1127498 263646        0.1921     5        0.1929        0.1906  4287343    1.20%          rho_19 D 1127498 1127497     41\n",
      "Elapsed time = 185.63 sec. (206253.22 ticks, tree = 74.10 MB, solutions = 3)\n",
      " 1147151 263970        cutoff              0.1929        0.1906  4363064    1.19%           rho_7 U 1147151 1147149     40\n",
      " 1166678 266464        0.1918     6        0.1929        0.1906  4437120    1.18%          rho_14 D 1166678 1166677     40\n",
      " 1186317 266426        0.1923    10        0.1929        0.1906  4512489    1.17%           rho_1 D 1186317 657823     68\n",
      " 1206016 265433        0.1913     7        0.1929        0.1906  4574552    1.16%           rho_0 U 1206016 1206015     88\n",
      " 1225448 265120        0.1923     6        0.1929        0.1907  4649026    1.14%           rho_3 N 1225448 1225447     43\n",
      "\n",
      "User cuts applied:  285\n",
      "\n",
      "Root node processing (before b&c):\n",
      "  Real time             =    0.17 sec. (1.19 ticks)\n",
      "Sequential b&c:\n",
      "  Real time             =  199.84 sec. (225953.92 ticks)\n",
      "                          ------------\n",
      "Total (root+branch&cut) =  200.02 sec. (225955.11 ticks)\n",
      "+----------------------------------------------+------------------+-----------+\n",
      "| Pr(Y = +1) = 1.0/(1.0 + exp(-(-4 + score))   |                  |           |\n",
      "| ============================================ | ================ | ========= |\n",
      "| p_arrest>=4                                  |         1 points |   + ..... |\n",
      "| p_felony>=1                                  |         1 points |   + ..... |\n",
      "| p_pending_charge>=1                          |         1 points |   + ..... |\n",
      "| ============================================ | ================ | ========= |\n",
      "| ADD POINTS FROM ROWS 1 to 3                  |            SCORE |   = ..... |\n",
      "+----------------------------------------------+------------------+-----------+\n",
      "model_id, score_thresholds 0 {'rank_abs': [0]}\n",
      "get_disparity_predefined_group()\n"
     ]
    },
    {
     "name": "stderr",
     "output_type": "stream",
     "text": [
      "C:\\Users\\binha\\Documents\\Duke\\Cynthia Research\\psa-analysis - test2\\utils\\fairness_functions.py:82: RuntimeWarning:\n",
      "\n",
      "invalid value encountered in longlong_scalars\n",
      "\n",
      "C:\\Users\\binha\\Documents\\Duke\\Cynthia Research\\psa-analysis - test2\\utils\\fairness_functions.py:95: RuntimeWarning:\n",
      "\n",
      "divide by zero encountered in longlong_scalars\n",
      "\n",
      "C:\\Users\\binha\\Documents\\Duke\\Cynthia Research\\psa-analysis - test2\\utils\\fairness_functions.py:86: RuntimeWarning:\n",
      "\n",
      "invalid value encountered in longlong_scalars\n",
      "\n",
      "C:\\Users\\binha\\Documents\\Duke\\Cynthia Research\\psa-analysis - test2\\utils\\fairness_functions.py:95: RuntimeWarning:\n",
      "\n",
      "invalid value encountered in longlong_scalars\n",
      "\n"
     ]
    }
   ],
   "source": [
    "riskslim_summary = slim.risk_cv(X=sub_X, \n",
    "                                Y=sub_Y, \n",
    "                                indicator = indicator,\n",
    "                                y_label='recid_F6', \n",
    "                                max_coef=20, \n",
    "                                max_coef_number=10, \n",
    "                                max_runtime=200, \n",
    "                                c=1e-6, \n",
    "                                seed=816)"
   ]
  },
  {
   "cell_type": "code",
   "execution_count": 35,
   "metadata": {},
   "outputs": [
    {
     "data": {
      "text/plain": [
       "(0.7328274202289478, 0.7329131439151289)"
      ]
     },
     "execution_count": 35,
     "metadata": {},
     "output_type": "execute_result"
    }
   ],
   "source": [
    "np.mean(riskslim_summary['train_auc']), np.mean(riskslim_summary['test_auc'])"
   ]
  },
  {
   "cell_type": "markdown",
   "metadata": {},
   "source": [
    "### Arnold PSA"
   ]
  },
  {
   "cell_type": "code",
   "execution_count": 36,
   "metadata": {},
   "outputs": [],
   "source": [
    "### load data\n",
    "data = pd.read_csv(\"~/Documents/Duke/Cynthia Research/KY-analysis-mytrials/KY Recidivism/KY data/kentucky_data.csv\")\n",
    "X_arnold = data['nca_risk_score_raw'].values\n",
    "Y_arnold = data['recid_F_six_month'].values\n",
    "\n",
    "## set up cross validation\n",
    "cv = KFold(n_splits=5,shuffle=True,random_state=816)\n",
    "arnold_auc = []\n",
    "for train, test in cv.split(X_arnold, Y_arnold):\n",
    "    y_pred_arnold, y_test = X_arnold[test], Y_arnold[test]\n",
    "    arnold_auc.append(roc_auc_score(y_test, y_pred_arnold))"
   ]
  },
  {
   "cell_type": "markdown",
   "metadata": {},
   "source": [
    "### Corel"
   ]
  },
  {
   "cell_type": "code",
   "execution_count": 2,
   "metadata": {},
   "outputs": [],
   "source": [
    "## load stumps data\n",
    "data = pd.read_csv(\"~/Documents/Duke/Cynthia Research/KY-analysis-mytrials/KY Recidivism/KY data/kentucky_stumps.csv\")\n",
    "x, y = data.loc[:,:'current_violence>=1'], data['recid_F_six_month'].values\n",
    "y[y == -1] = 0"
   ]
  },
  {
   "cell_type": "code",
   "execution_count": 3,
   "metadata": {
    "scrolled": true
   },
   "outputs": [
    {
     "name": "stderr",
     "output_type": "stream",
     "text": [
      "C:\\Users\\binha\\Documents\\Duke\\Cynthia Research\\psa-analysis - test2\\utils\\fairness_functions.py:82: RuntimeWarning:\n",
      "\n",
      "invalid value encountered in longlong_scalars\n",
      "\n",
      "C:\\Users\\binha\\Documents\\Duke\\Cynthia Research\\psa-analysis - test2\\utils\\fairness_functions.py:95: RuntimeWarning:\n",
      "\n",
      "divide by zero encountered in longlong_scalars\n",
      "\n",
      "C:\\Users\\binha\\Documents\\Duke\\Cynthia Research\\psa-analysis - test2\\utils\\fairness_functions.py:86: RuntimeWarning:\n",
      "\n",
      "invalid value encountered in longlong_scalars\n",
      "\n",
      "C:\\Users\\binha\\Documents\\Duke\\Cynthia Research\\psa-analysis - test2\\utils\\fairness_functions.py:95: RuntimeWarning:\n",
      "\n",
      "invalid value encountered in longlong_scalars\n",
      "\n",
      "C:\\Users\\binha\\Documents\\Duke\\Cynthia Research\\psa-analysis - test2\\utils\\fairness_functions.py:82: RuntimeWarning:\n",
      "\n",
      "invalid value encountered in longlong_scalars\n",
      "\n",
      "C:\\Users\\binha\\Documents\\Duke\\Cynthia Research\\psa-analysis - test2\\utils\\fairness_functions.py:95: RuntimeWarning:\n",
      "\n",
      "divide by zero encountered in longlong_scalars\n",
      "\n",
      "C:\\Users\\binha\\Documents\\Duke\\Cynthia Research\\psa-analysis - test2\\utils\\fairness_functions.py:86: RuntimeWarning:\n",
      "\n",
      "invalid value encountered in longlong_scalars\n",
      "\n",
      "C:\\Users\\binha\\Documents\\Duke\\Cynthia Research\\psa-analysis - test2\\utils\\fairness_functions.py:95: RuntimeWarning:\n",
      "\n",
      "invalid value encountered in longlong_scalars\n",
      "\n",
      "C:\\Users\\binha\\Documents\\Duke\\Cynthia Research\\psa-analysis - test2\\utils\\fairness_functions.py:82: RuntimeWarning:\n",
      "\n",
      "invalid value encountered in longlong_scalars\n",
      "\n",
      "C:\\Users\\binha\\Documents\\Duke\\Cynthia Research\\psa-analysis - test2\\utils\\fairness_functions.py:95: RuntimeWarning:\n",
      "\n",
      "divide by zero encountered in longlong_scalars\n",
      "\n",
      "C:\\Users\\binha\\Documents\\Duke\\Cynthia Research\\psa-analysis - test2\\utils\\fairness_functions.py:82: RuntimeWarning:\n",
      "\n",
      "invalid value encountered in longlong_scalars\n",
      "\n",
      "C:\\Users\\binha\\Documents\\Duke\\Cynthia Research\\psa-analysis - test2\\utils\\fairness_functions.py:95: RuntimeWarning:\n",
      "\n",
      "divide by zero encountered in longlong_scalars\n",
      "\n",
      "C:\\Users\\binha\\Documents\\Duke\\Cynthia Research\\psa-analysis - test2\\utils\\fairness_functions.py:86: RuntimeWarning:\n",
      "\n",
      "invalid value encountered in longlong_scalars\n",
      "\n",
      "C:\\Users\\binha\\Documents\\Duke\\Cynthia Research\\psa-analysis - test2\\utils\\fairness_functions.py:95: RuntimeWarning:\n",
      "\n",
      "invalid value encountered in longlong_scalars\n",
      "\n",
      "C:\\Users\\binha\\Documents\\Duke\\Cynthia Research\\psa-analysis - test2\\utils\\fairness_functions.py:82: RuntimeWarning:\n",
      "\n",
      "invalid value encountered in longlong_scalars\n",
      "\n",
      "C:\\Users\\binha\\Documents\\Duke\\Cynthia Research\\psa-analysis - test2\\utils\\fairness_functions.py:95: RuntimeWarning:\n",
      "\n",
      "divide by zero encountered in longlong_scalars\n",
      "\n",
      "C:\\Users\\binha\\Documents\\Duke\\Cynthia Research\\psa-analysis - test2\\utils\\fairness_functions.py:86: RuntimeWarning:\n",
      "\n",
      "invalid value encountered in longlong_scalars\n",
      "\n",
      "C:\\Users\\binha\\Documents\\Duke\\Cynthia Research\\psa-analysis - test2\\utils\\fairness_functions.py:95: RuntimeWarning:\n",
      "\n",
      "invalid value encountered in longlong_scalars\n",
      "\n"
     ]
    }
   ],
   "source": [
    "corel_summary = Corel.corel_cv(x, y, max_card=2, c=1e-4, seed=816)"
   ]
  },
  {
   "cell_type": "code",
   "execution_count": 4,
   "metadata": {},
   "outputs": [
    {
     "data": {
      "text/plain": [
       "(0.5, 0.0)"
      ]
     },
     "execution_count": 4,
     "metadata": {},
     "output_type": "execute_result"
    }
   ],
   "source": [
    "np.mean(corel_summary['test_auc']), np.std(corel_summary['test_auc'])"
   ]
  },
  {
   "cell_type": "markdown",
   "metadata": {},
   "source": [
    "### Results"
   ]
  },
  {
   "cell_type": "code",
   "execution_count": 40,
   "metadata": {},
   "outputs": [
    {
     "name": "stdout",
     "output_type": "stream",
     "text": [
      "Stored 'summary_F6_KY_interpret' (dict)\n"
     ]
    }
   ],
   "source": [
    "#### save results\n",
    "summary_F6_KY_interpret = {\"CART\": cart_summary,\n",
    "                           \"EBM\": ebm_summary, \n",
    "                           'Lasso Stumps': stump_summary, \n",
    "                           'RiskSLIM': riskslim_summary,  \n",
    "                           'Corel': corel_summary,\n",
    "                           'Arnold PSA': arnold_auc}\n",
    "%store summary_F6_KY_interpret"
   ]
  },
  {
   "cell_type": "code",
   "execution_count": 41,
   "metadata": {},
   "outputs": [
    {
     "data": {
      "text/plain": [
       "[['CART', 0.7666389244198111, 0.02085633748154587],\n",
       " ['EBM', 0.7739769169172932, 0.009525432063513795],\n",
       " ['Lasso Stumps', 0.7693918538637938, 0.0012300576912694038],\n",
       " ['RiskSLIM', 0.7329131439151289],\n",
       " ['Corel', 0.5],\n",
       " ['Arnold PSA', 0.7]]"
      ]
     },
     "execution_count": 41,
     "metadata": {},
     "output_type": "execute_result"
    }
   ],
   "source": [
    "results = [[\"CART\", np.mean(cart_summary['holdout_test_auc']), np.mean(cart_summary['auc_diffs'])],\n",
    "           [\"EBM\", np.mean(ebm_summary['holdout_test_auc']), np.mean(ebm_summary['auc_diffs'])], \n",
    "           [\"Lasso Stumps\", np.mean(stump_summary['holdout_test_auc']), np.mean(stump_summary['auc_diffs'])],\n",
    "           ['RiskSLIM', np.mean(riskslim_summary['test_auc'])],\n",
    "           ['Corel', np.mean(corel_summary['test_auc'])],\n",
    "           ['Arnold PSA', round(np.mean(arnold_auc), 3)]]\n",
    "results"
   ]
  },
  {
   "cell_type": "code",
   "execution_count": 42,
   "metadata": {},
   "outputs": [],
   "source": [
    "auc = [np.mean(cart_summary['holdout_test_auc']), \n",
    "       np.mean(ebm_summary['holdout_test_auc']), \n",
    "       np.mean(stump_summary['holdout_test_auc']), \n",
    "       np.mean(riskslim_summary['test_auc']), \n",
    "       np.mean(corel_summary['test_auc'])]"
   ]
  },
  {
   "cell_type": "code",
   "execution_count": 44,
   "metadata": {},
   "outputs": [],
   "source": [
    "path = \"C:/Users/binha/Documents/Duke/Cynthia Research/KY-analysis-mytrials/KY Recidivism/KY Results/Models/Six Month/\"\n",
    "results = [[\"Felony\", np.str((round(np.mean(cart_summary['holdout_test_auc']), 3))) + \" (\" + np.str(round(np.std(cart_summary['holdout_test_auc']), 3)) + \")\", \n",
    "            np.str(round(np.mean(ebm_summary['holdout_test_auc']),3)) + \" (\" + np.str(round(np.std(ebm_summary['holdout_test_auc']), 3)) + \")\", \n",
    "            np.str(round(np.mean(stump_summary['holdout_test_auc']),3)) + \" (\" + np.str(round(np.std(stump_summary['holdout_test_auc']), 3)) + \")\",             \n",
    "            np.str(round(np.mean(riskslim_summary['test_auc']),3)) + \" (\" + np.str(round(np.std(riskslim_summary['test_auc']), 3)) + \")\", \n",
    "            np.str(round(np.mean(corel_summary['test_auc']),3)) + \" (\" + np.str(round(np.std(corel_summary['test_auc']), 3)) + \")\", \n",
    "            round(np.max(auc) - np.min(auc), 3),\n",
    "            np.str(round(np.mean(arnold_auc), 3)) + \" (\" + np.str(round(np.std(arnold_auc),3)) + \")\"]]\n",
    "with open(path + 'Interpretable Models Summary.csv', 'a') as writeFile:\n",
    "    writer = csv.writer(writeFile)\n",
    "    writer.writerows(results)"
   ]
  },
  {
   "cell_type": "code",
   "execution_count": 45,
   "metadata": {},
   "outputs": [],
   "source": [
    "cart_confusion = cart_summary['confusion_matrix_stats']\n",
    "ebm_confusion = ebm_summary['confusion_matrix_stats']\n",
    "riskslim_confusion = riskslim_summary['confusion_matrix_stats']\n",
    "stumps_confusion = stump_summary['confusion_matrix_stats']\n",
    "corel_confusion = corel_summary['confusion_matrix_stats']\n",
    "#arnold_confusion = cart_summary['confusion_matrix_stats']\n",
    "\n",
    "## save results\n",
    "cart_confusion.to_csv(r'C:/Users/binha/Documents/Duke/Cynthia Research/KY-analysis-mytrials/KY Recidivism/KY Fairness/Six Month/felony/cart_confusion.csv', index=None,header=True)\n",
    "ebm_confusion.to_csv(r'C:/Users/binha/Documents/Duke/Cynthia Research/KY-analysis-mytrials/KY Recidivism/KY Fairness/Six Month/felony/ebm_confusion.csv', index=None,header=True)\n",
    "riskslim_confusion.to_csv(r'C:/Users/binha/Documents/Duke/Cynthia Research/KY-analysis-mytrials/KY Recidivism/KY Fairness/Six Month/felony/riskslim_confusion.csv', index=None,header=True)\n",
    "stumps_confusion.to_csv(r'C:/Users/binha/Documents/Duke/Cynthia Research/KY-analysis-mytrials/KY Recidivism/KY Fairness/Six Month/felony/stumps_confusion.csv', index=None,header=True)\n",
    "corel_confusion.to_csv(r'C:/Users/binha/Documents/Duke/Cynthia Research/KY-analysis-mytrials/KY Recidivism/KY Fairness/Six Month/felony/corel_confusion.csv', index=None,header=True)\n",
    "#arnold_confusion.to_csv(r'C:/Users/binha/Documents/Duke/Cynthia Research/KY-analysis-mytrials/broward/broward models/model fairness/Two Year/general/arnold_confusion.csv', index=None,header=True)"
   ]
  },
  {
   "cell_type": "code",
   "execution_count": 5,
   "metadata": {},
   "outputs": [],
   "source": [
    "corel_confusion = corel_summary['confusion_matrix_stats']\n",
    "corel_confusion.to_csv(r'C:/Users/binha/Documents/Duke/Cynthia Research/KY-analysis-mytrials/KY Recidivism/KY Fairness/Six Month/felony/corel_confusion.csv', index=None,header=True)"
   ]
  }
 ],
 "metadata": {
  "kernelspec": {
   "display_name": "Python 3",
   "language": "python",
   "name": "python3"
  },
  "language_info": {
   "codemirror_mode": {
    "name": "ipython",
    "version": 3
   },
   "file_extension": ".py",
   "mimetype": "text/x-python",
   "name": "python",
   "nbconvert_exporter": "python",
   "pygments_lexer": "ipython3",
   "version": "3.7.4"
  }
 },
 "nbformat": 4,
 "nbformat_minor": 4
}
