{
 "cells": [
  {
   "cell_type": "code",
   "execution_count": 1,
   "metadata": {},
   "outputs": [
    {
     "name": "stdout",
     "output_type": "stream",
     "text": [
      "Current working directory is now:  C:\\Users\\binha\\Documents\\Duke\\Cynthia Research\\psa-analysis - test2\n"
     ]
    },
    {
     "name": "stderr",
     "output_type": "stream",
     "text": [
      "C:\\Users\\binha\\Anaconda3\\lib\\site-packages\\sklearn\\externals\\six.py:31: DeprecationWarning:\n",
      "\n",
      "The module is deprecated in version 0.21 and will be removed in version 0.23 since we've dropped support for Python 2.7. Please rely on the official version of six (https://pypi.org/project/six/).\n",
      "\n"
     ]
    }
   ],
   "source": [
    "import os \n",
    "os.chdir('../../../')\n",
    "print(\"Current working directory is now: \", os.getcwd())\n",
    "\n",
    "import pandas as pd \n",
    "import numpy as np\n",
    "import csv\n",
    "import utils.interpretable_functions as interpret\n",
    "import utils.RiskSLIM as slim\n",
    "import utils.stumps as stumps\n",
    "import utils.Corel as Corel\n",
    "\n",
    "from sklearn.linear_model import LogisticRegression\n",
    "from sklearn.model_selection import KFold, GridSearchCV\n",
    "from sklearn.metrics import roc_auc_score\n",
    "\n",
    "# restore saved variables\n",
    "%store -r summary_drug2_KY_interpret"
   ]
  },
  {
   "cell_type": "markdown",
   "metadata": {},
   "source": [
    "### CART & EBM"
   ]
  },
  {
   "cell_type": "code",
   "execution_count": 2,
   "metadata": {},
   "outputs": [],
   "source": [
    "### load data\n",
    "data = pd.read_csv(\"~/Documents/Duke/Cynthia Research/KY-analysis-mytrials/KY Recidivism/KY data/kentucky_data.csv\")\n",
    "data = data.drop(['fta_risk_score_raw','nca_risk_score_raw','pvf_risk_score_raw', \n",
    "                  'fta_calc', 'nca_calc', 'pvf_calc'], axis=1)\n",
    "x = data.loc[:,:'current_violence']\n",
    "y = data['recid_drug_six_month'].values"
   ]
  },
  {
   "cell_type": "code",
   "execution_count": 4,
   "metadata": {
    "scrolled": true
   },
   "outputs": [
    {
     "name": "stdout",
     "output_type": "stream",
     "text": [
      "model_id, score_thresholds 0 {'rank_abs': [2]}\n",
      "get_disparity_predefined_group()\n"
     ]
    },
    {
     "name": "stderr",
     "output_type": "stream",
     "text": [
      "C:\\Users\\binha\\Documents\\Duke\\Cynthia Research\\psa-analysis - test2\\utils\\fairness_functions.py:82: RuntimeWarning:\n",
      "\n",
      "invalid value encountered in longlong_scalars\n",
      "\n",
      "C:\\Users\\binha\\Documents\\Duke\\Cynthia Research\\psa-analysis - test2\\utils\\fairness_functions.py:95: RuntimeWarning:\n",
      "\n",
      "divide by zero encountered in longlong_scalars\n",
      "\n",
      "C:\\Users\\binha\\Documents\\Duke\\Cynthia Research\\psa-analysis - test2\\utils\\fairness_functions.py:86: RuntimeWarning:\n",
      "\n",
      "invalid value encountered in longlong_scalars\n",
      "\n",
      "C:\\Users\\binha\\Documents\\Duke\\Cynthia Research\\psa-analysis - test2\\utils\\fairness_functions.py:95: RuntimeWarning:\n",
      "\n",
      "invalid value encountered in longlong_scalars\n",
      "\n"
     ]
    },
    {
     "name": "stdout",
     "output_type": "stream",
     "text": [
      "model_id, score_thresholds 0 {'rank_abs': [7]}\n",
      "get_disparity_predefined_group()\n"
     ]
    },
    {
     "name": "stderr",
     "output_type": "stream",
     "text": [
      "C:\\Users\\binha\\Documents\\Duke\\Cynthia Research\\psa-analysis - test2\\utils\\fairness_functions.py:82: RuntimeWarning:\n",
      "\n",
      "invalid value encountered in longlong_scalars\n",
      "\n",
      "C:\\Users\\binha\\Documents\\Duke\\Cynthia Research\\psa-analysis - test2\\utils\\fairness_functions.py:95: RuntimeWarning:\n",
      "\n",
      "divide by zero encountered in longlong_scalars\n",
      "\n",
      "C:\\Users\\binha\\Documents\\Duke\\Cynthia Research\\psa-analysis - test2\\utils\\fairness_functions.py:86: RuntimeWarning:\n",
      "\n",
      "invalid value encountered in longlong_scalars\n",
      "\n",
      "C:\\Users\\binha\\Documents\\Duke\\Cynthia Research\\psa-analysis - test2\\utils\\fairness_functions.py:95: RuntimeWarning:\n",
      "\n",
      "invalid value encountered in longlong_scalars\n",
      "\n"
     ]
    },
    {
     "name": "stdout",
     "output_type": "stream",
     "text": [
      "model_id, score_thresholds 0 {'rank_abs': [10]}\n",
      "get_disparity_predefined_group()\n"
     ]
    },
    {
     "name": "stderr",
     "output_type": "stream",
     "text": [
      "C:\\Users\\binha\\Documents\\Duke\\Cynthia Research\\psa-analysis - test2\\utils\\fairness_functions.py:82: RuntimeWarning:\n",
      "\n",
      "invalid value encountered in longlong_scalars\n",
      "\n",
      "C:\\Users\\binha\\Documents\\Duke\\Cynthia Research\\psa-analysis - test2\\utils\\fairness_functions.py:95: RuntimeWarning:\n",
      "\n",
      "divide by zero encountered in longlong_scalars\n",
      "\n",
      "C:\\Users\\binha\\Documents\\Duke\\Cynthia Research\\psa-analysis - test2\\utils\\fairness_functions.py:86: RuntimeWarning:\n",
      "\n",
      "invalid value encountered in longlong_scalars\n",
      "\n",
      "C:\\Users\\binha\\Documents\\Duke\\Cynthia Research\\psa-analysis - test2\\utils\\fairness_functions.py:95: RuntimeWarning:\n",
      "\n",
      "invalid value encountered in longlong_scalars\n",
      "\n"
     ]
    },
    {
     "name": "stdout",
     "output_type": "stream",
     "text": [
      "model_id, score_thresholds 0 {'rank_abs': [7]}\n",
      "get_disparity_predefined_group()\n"
     ]
    },
    {
     "name": "stderr",
     "output_type": "stream",
     "text": [
      "C:\\Users\\binha\\Documents\\Duke\\Cynthia Research\\psa-analysis - test2\\utils\\fairness_functions.py:82: RuntimeWarning:\n",
      "\n",
      "invalid value encountered in longlong_scalars\n",
      "\n",
      "C:\\Users\\binha\\Documents\\Duke\\Cynthia Research\\psa-analysis - test2\\utils\\fairness_functions.py:95: RuntimeWarning:\n",
      "\n",
      "divide by zero encountered in longlong_scalars\n",
      "\n",
      "C:\\Users\\binha\\Documents\\Duke\\Cynthia Research\\psa-analysis - test2\\utils\\fairness_functions.py:86: RuntimeWarning:\n",
      "\n",
      "invalid value encountered in longlong_scalars\n",
      "\n",
      "C:\\Users\\binha\\Documents\\Duke\\Cynthia Research\\psa-analysis - test2\\utils\\fairness_functions.py:95: RuntimeWarning:\n",
      "\n",
      "invalid value encountered in longlong_scalars\n",
      "\n"
     ]
    },
    {
     "name": "stdout",
     "output_type": "stream",
     "text": [
      "model_id, score_thresholds 0 {'rank_abs': [2]}\n",
      "get_disparity_predefined_group()\n"
     ]
    },
    {
     "name": "stderr",
     "output_type": "stream",
     "text": [
      "C:\\Users\\binha\\Documents\\Duke\\Cynthia Research\\psa-analysis - test2\\utils\\fairness_functions.py:82: RuntimeWarning:\n",
      "\n",
      "invalid value encountered in longlong_scalars\n",
      "\n",
      "C:\\Users\\binha\\Documents\\Duke\\Cynthia Research\\psa-analysis - test2\\utils\\fairness_functions.py:95: RuntimeWarning:\n",
      "\n",
      "divide by zero encountered in longlong_scalars\n",
      "\n",
      "C:\\Users\\binha\\Documents\\Duke\\Cynthia Research\\psa-analysis - test2\\utils\\fairness_functions.py:86: RuntimeWarning:\n",
      "\n",
      "invalid value encountered in longlong_scalars\n",
      "\n",
      "C:\\Users\\binha\\Documents\\Duke\\Cynthia Research\\psa-analysis - test2\\utils\\fairness_functions.py:95: RuntimeWarning:\n",
      "\n",
      "invalid value encountered in longlong_scalars\n",
      "\n",
      "WARNING:interpret.utils.all:Passing a numpy array to schema autogen when it should be dataframe.\n",
      "WARNING:interpret.utils.all:Passing a numpy array to schema autogen when it should be dataframe.\n",
      "WARNING:interpret.utils.all:Passing a numpy array to schema autogen when it should be dataframe.\n",
      "WARNING:interpret.utils.all:Passing a numpy array to schema autogen when it should be dataframe.\n",
      "WARNING:interpret.utils.all:Passing a numpy array to schema autogen when it should be dataframe.\n",
      "WARNING:interpret.utils.all:Passing a numpy array to schema autogen when it should be dataframe.\n",
      "WARNING:interpret.utils.all:Passing a numpy array to schema autogen when it should be dataframe.\n",
      "WARNING:interpret.utils.all:Passing a numpy array to schema autogen when it should be dataframe.\n",
      "WARNING:interpret.utils.all:Passing a numpy array to schema autogen when it should be dataframe.\n",
      "WARNING:interpret.utils.all:Passing a numpy array to schema autogen when it should be dataframe.\n",
      "WARNING:interpret.utils.all:Passing a numpy array to schema autogen when it should be dataframe.\n",
      "WARNING:interpret.utils.all:Passing a numpy array to schema autogen when it should be dataframe.\n"
     ]
    },
    {
     "name": "stdout",
     "output_type": "stream",
     "text": [
      "model_id, score_thresholds 0 {'rank_abs': [1]}\n",
      "get_disparity_predefined_group()\n"
     ]
    },
    {
     "name": "stderr",
     "output_type": "stream",
     "text": [
      "C:\\Users\\binha\\Documents\\Duke\\Cynthia Research\\psa-analysis - test2\\utils\\fairness_functions.py:82: RuntimeWarning:\n",
      "\n",
      "invalid value encountered in longlong_scalars\n",
      "\n",
      "C:\\Users\\binha\\Documents\\Duke\\Cynthia Research\\psa-analysis - test2\\utils\\fairness_functions.py:95: RuntimeWarning:\n",
      "\n",
      "divide by zero encountered in longlong_scalars\n",
      "\n",
      "C:\\Users\\binha\\Documents\\Duke\\Cynthia Research\\psa-analysis - test2\\utils\\fairness_functions.py:86: RuntimeWarning:\n",
      "\n",
      "invalid value encountered in longlong_scalars\n",
      "\n",
      "C:\\Users\\binha\\Documents\\Duke\\Cynthia Research\\psa-analysis - test2\\utils\\fairness_functions.py:95: RuntimeWarning:\n",
      "\n",
      "invalid value encountered in longlong_scalars\n",
      "\n",
      "WARNING:interpret.utils.all:Passing a numpy array to schema autogen when it should be dataframe.\n",
      "WARNING:interpret.utils.all:Passing a numpy array to schema autogen when it should be dataframe.\n",
      "WARNING:interpret.utils.all:Passing a numpy array to schema autogen when it should be dataframe.\n",
      "WARNING:interpret.utils.all:Passing a numpy array to schema autogen when it should be dataframe.\n",
      "WARNING:interpret.utils.all:Passing a numpy array to schema autogen when it should be dataframe.\n",
      "WARNING:interpret.utils.all:Passing a numpy array to schema autogen when it should be dataframe.\n",
      "WARNING:interpret.utils.all:Passing a numpy array to schema autogen when it should be dataframe.\n",
      "WARNING:interpret.utils.all:Passing a numpy array to schema autogen when it should be dataframe.\n",
      "WARNING:interpret.utils.all:Passing a numpy array to schema autogen when it should be dataframe.\n",
      "WARNING:interpret.utils.all:Passing a numpy array to schema autogen when it should be dataframe.\n",
      "WARNING:interpret.utils.all:Passing a numpy array to schema autogen when it should be dataframe.\n",
      "WARNING:interpret.utils.all:Passing a numpy array to schema autogen when it should be dataframe.\n"
     ]
    },
    {
     "name": "stdout",
     "output_type": "stream",
     "text": [
      "model_id, score_thresholds 0 {'rank_abs': [2]}\n",
      "get_disparity_predefined_group()\n"
     ]
    },
    {
     "name": "stderr",
     "output_type": "stream",
     "text": [
      "C:\\Users\\binha\\Documents\\Duke\\Cynthia Research\\psa-analysis - test2\\utils\\fairness_functions.py:95: RuntimeWarning:\n",
      "\n",
      "divide by zero encountered in longlong_scalars\n",
      "\n",
      "C:\\Users\\binha\\Documents\\Duke\\Cynthia Research\\psa-analysis - test2\\utils\\fairness_functions.py:82: RuntimeWarning:\n",
      "\n",
      "invalid value encountered in longlong_scalars\n",
      "\n",
      "C:\\Users\\binha\\Documents\\Duke\\Cynthia Research\\psa-analysis - test2\\utils\\fairness_functions.py:86: RuntimeWarning:\n",
      "\n",
      "invalid value encountered in longlong_scalars\n",
      "\n",
      "C:\\Users\\binha\\Documents\\Duke\\Cynthia Research\\psa-analysis - test2\\utils\\fairness_functions.py:95: RuntimeWarning:\n",
      "\n",
      "invalid value encountered in longlong_scalars\n",
      "\n",
      "WARNING:interpret.utils.all:Passing a numpy array to schema autogen when it should be dataframe.\n",
      "WARNING:interpret.utils.all:Passing a numpy array to schema autogen when it should be dataframe.\n",
      "WARNING:interpret.utils.all:Passing a numpy array to schema autogen when it should be dataframe.\n",
      "WARNING:interpret.utils.all:Passing a numpy array to schema autogen when it should be dataframe.\n",
      "WARNING:interpret.utils.all:Passing a numpy array to schema autogen when it should be dataframe.\n",
      "WARNING:interpret.utils.all:Passing a numpy array to schema autogen when it should be dataframe.\n",
      "WARNING:interpret.utils.all:Passing a numpy array to schema autogen when it should be dataframe.\n",
      "WARNING:interpret.utils.all:Passing a numpy array to schema autogen when it should be dataframe.\n",
      "WARNING:interpret.utils.all:Passing a numpy array to schema autogen when it should be dataframe.\n",
      "WARNING:interpret.utils.all:Passing a numpy array to schema autogen when it should be dataframe.\n",
      "WARNING:interpret.utils.all:Passing a numpy array to schema autogen when it should be dataframe.\n",
      "WARNING:interpret.utils.all:Passing a numpy array to schema autogen when it should be dataframe.\n"
     ]
    },
    {
     "name": "stdout",
     "output_type": "stream",
     "text": [
      "model_id, score_thresholds 0 {'rank_abs': [0]}\n",
      "get_disparity_predefined_group()\n"
     ]
    },
    {
     "name": "stderr",
     "output_type": "stream",
     "text": [
      "C:\\Users\\binha\\Documents\\Duke\\Cynthia Research\\psa-analysis - test2\\utils\\fairness_functions.py:82: RuntimeWarning:\n",
      "\n",
      "invalid value encountered in longlong_scalars\n",
      "\n",
      "C:\\Users\\binha\\Documents\\Duke\\Cynthia Research\\psa-analysis - test2\\utils\\fairness_functions.py:95: RuntimeWarning:\n",
      "\n",
      "divide by zero encountered in longlong_scalars\n",
      "\n",
      "C:\\Users\\binha\\Documents\\Duke\\Cynthia Research\\psa-analysis - test2\\utils\\fairness_functions.py:86: RuntimeWarning:\n",
      "\n",
      "invalid value encountered in longlong_scalars\n",
      "\n",
      "C:\\Users\\binha\\Documents\\Duke\\Cynthia Research\\psa-analysis - test2\\utils\\fairness_functions.py:95: RuntimeWarning:\n",
      "\n",
      "invalid value encountered in longlong_scalars\n",
      "\n",
      "WARNING:interpret.utils.all:Passing a numpy array to schema autogen when it should be dataframe.\n",
      "WARNING:interpret.utils.all:Passing a numpy array to schema autogen when it should be dataframe.\n",
      "WARNING:interpret.utils.all:Passing a numpy array to schema autogen when it should be dataframe.\n",
      "WARNING:interpret.utils.all:Passing a numpy array to schema autogen when it should be dataframe.\n",
      "WARNING:interpret.utils.all:Passing a numpy array to schema autogen when it should be dataframe.\n",
      "WARNING:interpret.utils.all:Passing a numpy array to schema autogen when it should be dataframe.\n",
      "WARNING:interpret.utils.all:Passing a numpy array to schema autogen when it should be dataframe.\n",
      "WARNING:interpret.utils.all:Passing a numpy array to schema autogen when it should be dataframe.\n",
      "WARNING:interpret.utils.all:Passing a numpy array to schema autogen when it should be dataframe.\n",
      "WARNING:interpret.utils.all:Passing a numpy array to schema autogen when it should be dataframe.\n",
      "WARNING:interpret.utils.all:Passing a numpy array to schema autogen when it should be dataframe.\n",
      "WARNING:interpret.utils.all:Passing a numpy array to schema autogen when it should be dataframe.\n"
     ]
    },
    {
     "name": "stdout",
     "output_type": "stream",
     "text": [
      "model_id, score_thresholds 0 {'rank_abs': [1]}\n",
      "get_disparity_predefined_group()\n"
     ]
    },
    {
     "name": "stderr",
     "output_type": "stream",
     "text": [
      "C:\\Users\\binha\\Documents\\Duke\\Cynthia Research\\psa-analysis - test2\\utils\\fairness_functions.py:82: RuntimeWarning:\n",
      "\n",
      "invalid value encountered in longlong_scalars\n",
      "\n",
      "C:\\Users\\binha\\Documents\\Duke\\Cynthia Research\\psa-analysis - test2\\utils\\fairness_functions.py:95: RuntimeWarning:\n",
      "\n",
      "divide by zero encountered in longlong_scalars\n",
      "\n",
      "C:\\Users\\binha\\Documents\\Duke\\Cynthia Research\\psa-analysis - test2\\utils\\fairness_functions.py:86: RuntimeWarning:\n",
      "\n",
      "invalid value encountered in longlong_scalars\n",
      "\n",
      "C:\\Users\\binha\\Documents\\Duke\\Cynthia Research\\psa-analysis - test2\\utils\\fairness_functions.py:95: RuntimeWarning:\n",
      "\n",
      "invalid value encountered in longlong_scalars\n",
      "\n",
      "WARNING:interpret.utils.all:Passing a numpy array to schema autogen when it should be dataframe.\n",
      "WARNING:interpret.utils.all:Passing a numpy array to schema autogen when it should be dataframe.\n",
      "WARNING:interpret.utils.all:Passing a numpy array to schema autogen when it should be dataframe.\n",
      "WARNING:interpret.utils.all:Passing a numpy array to schema autogen when it should be dataframe.\n",
      "WARNING:interpret.utils.all:Passing a numpy array to schema autogen when it should be dataframe.\n",
      "WARNING:interpret.utils.all:Passing a numpy array to schema autogen when it should be dataframe.\n",
      "WARNING:interpret.utils.all:Passing a numpy array to schema autogen when it should be dataframe.\n",
      "WARNING:interpret.utils.all:Passing a numpy array to schema autogen when it should be dataframe.\n",
      "WARNING:interpret.utils.all:Passing a numpy array to schema autogen when it should be dataframe.\n",
      "WARNING:interpret.utils.all:Passing a numpy array to schema autogen when it should be dataframe.\n",
      "WARNING:interpret.utils.all:Passing a numpy array to schema autogen when it should be dataframe.\n",
      "WARNING:interpret.utils.all:Passing a numpy array to schema autogen when it should be dataframe.\n"
     ]
    },
    {
     "name": "stdout",
     "output_type": "stream",
     "text": [
      "model_id, score_thresholds 0 {'rank_abs': [1]}\n",
      "get_disparity_predefined_group()\n"
     ]
    },
    {
     "name": "stderr",
     "output_type": "stream",
     "text": [
      "C:\\Users\\binha\\Documents\\Duke\\Cynthia Research\\psa-analysis - test2\\utils\\fairness_functions.py:82: RuntimeWarning:\n",
      "\n",
      "invalid value encountered in longlong_scalars\n",
      "\n",
      "C:\\Users\\binha\\Documents\\Duke\\Cynthia Research\\psa-analysis - test2\\utils\\fairness_functions.py:95: RuntimeWarning:\n",
      "\n",
      "divide by zero encountered in longlong_scalars\n",
      "\n",
      "C:\\Users\\binha\\Documents\\Duke\\Cynthia Research\\psa-analysis - test2\\utils\\fairness_functions.py:86: RuntimeWarning:\n",
      "\n",
      "invalid value encountered in longlong_scalars\n",
      "\n",
      "C:\\Users\\binha\\Documents\\Duke\\Cynthia Research\\psa-analysis - test2\\utils\\fairness_functions.py:95: RuntimeWarning:\n",
      "\n",
      "invalid value encountered in longlong_scalars\n",
      "\n"
     ]
    }
   ],
   "source": [
    "#### CART\n",
    "depth = [6,7,8]\n",
    "cart_summary = interpret.CART(X=x,\n",
    "                         Y=y,\n",
    "                         depth=depth,\n",
    "                         seed=816)\n",
    "\n",
    "#### EBM\n",
    "estimators = [40]\n",
    "depth = [2]\n",
    "learning_rate = [0.5]\n",
    "ebm_summary = interpret.EBM(X=x,\n",
    "                       Y=y,\n",
    "                       learning_rate=learning_rate,\n",
    "                       depth=depth,\n",
    "                       estimators=estimators,\n",
    "                       seed =816)"
   ]
  },
  {
   "cell_type": "code",
   "execution_count": 5,
   "metadata": {},
   "outputs": [
    {
     "data": {
      "text/plain": [
       "(0.7500327841598888, 0.023742202616642748)"
      ]
     },
     "execution_count": 5,
     "metadata": {},
     "output_type": "execute_result"
    }
   ],
   "source": [
    "np.mean(cart_summary['holdout_test_auc']), np.mean(cart_summary['auc_diffs'])"
   ]
  },
  {
   "cell_type": "code",
   "execution_count": 6,
   "metadata": {},
   "outputs": [
    {
     "data": {
      "text/plain": [
       "(0.7568860305620548, 0.016508482212823306)"
      ]
     },
     "execution_count": 6,
     "metadata": {},
     "output_type": "execute_result"
    }
   ],
   "source": [
    "np.mean(ebm_summary['holdout_test_auc']), np.mean(ebm_summary['auc_diffs'])"
   ]
  },
  {
   "cell_type": "markdown",
   "metadata": {},
   "source": [
    "## Lasso Stumps"
   ]
  },
  {
   "cell_type": "code",
   "execution_count": 7,
   "metadata": {},
   "outputs": [],
   "source": [
    "## load whole data\n",
    "data = pd.read_csv(\"~/Documents/Duke/Cynthia Research/KY-analysis-mytrials/KY Recidivism/KY data/kentucky_stumps.csv\")\n",
    "X_stumps, Y_stumps = data.loc[:,:'current_violence>=1'], data['recid_drug_six_month'].values\n",
    "Y_stumps[Y_stumps == -1] = 0\n",
    "cols = X_stumps.columns[3:]\n",
    "\n",
    "## load train & test data\n",
    "train_stumps = pd.read_csv(\"~/Documents/Duke/Cynthia Research/KY-analysis-mytrials/KY Recidivism/KY data/kentucky_train_stumps.csv\")\n",
    "test_stumps = pd.read_csv(\"~/Documents/Duke/Cynthia Research/KY-analysis-mytrials/KY Recidivism/KY data/kentucky_test_stumps.csv\")\n",
    "X_train_stumps, Y_train_stumps = train_stumps.loc[:,:'current_violence>=1'], train_stumps['recid_drug_six_month'].values\n",
    "X_test_stumps, Y_test_stumps = test_stumps.loc[:,:'current_violence>=1'], test_stumps['recid_drug_six_month'].values\n",
    "Y_train_stumps[Y_train_stumps == -1] = 0\n",
    "Y_test_stumps[Y_test_stumps == -1] = 0"
   ]
  },
  {
   "cell_type": "markdown",
   "metadata": {},
   "source": [
    "#### Nested Cross Validation"
   ]
  },
  {
   "cell_type": "code",
   "execution_count": 8,
   "metadata": {
    "scrolled": true
   },
   "outputs": [
    {
     "name": "stdout",
     "output_type": "stream",
     "text": [
      "model_id, score_thresholds 0 {'rank_abs': [7770]}\n",
      "get_disparity_predefined_group()\n"
     ]
    },
    {
     "name": "stderr",
     "output_type": "stream",
     "text": [
      "C:\\Users\\binha\\Documents\\Duke\\Cynthia Research\\psa-analysis - test2\\utils\\fairness_functions.py:86: RuntimeWarning:\n",
      "\n",
      "invalid value encountered in longlong_scalars\n",
      "\n"
     ]
    },
    {
     "name": "stdout",
     "output_type": "stream",
     "text": [
      "model_id, score_thresholds 0 {'rank_abs': [7698]}\n",
      "get_disparity_predefined_group()\n"
     ]
    },
    {
     "name": "stderr",
     "output_type": "stream",
     "text": [
      "C:\\Users\\binha\\Documents\\Duke\\Cynthia Research\\psa-analysis - test2\\utils\\fairness_functions.py:86: RuntimeWarning:\n",
      "\n",
      "invalid value encountered in longlong_scalars\n",
      "\n"
     ]
    },
    {
     "name": "stdout",
     "output_type": "stream",
     "text": [
      "model_id, score_thresholds 0 {'rank_abs': [8294]}\n",
      "get_disparity_predefined_group()\n"
     ]
    },
    {
     "name": "stderr",
     "output_type": "stream",
     "text": [
      "C:\\Users\\binha\\Documents\\Duke\\Cynthia Research\\psa-analysis - test2\\utils\\fairness_functions.py:86: RuntimeWarning:\n",
      "\n",
      "invalid value encountered in longlong_scalars\n",
      "\n"
     ]
    },
    {
     "name": "stdout",
     "output_type": "stream",
     "text": [
      "model_id, score_thresholds 0 {'rank_abs': [7844]}\n",
      "get_disparity_predefined_group()\n"
     ]
    },
    {
     "name": "stderr",
     "output_type": "stream",
     "text": [
      "C:\\Users\\binha\\Documents\\Duke\\Cynthia Research\\psa-analysis - test2\\utils\\fairness_functions.py:86: RuntimeWarning:\n",
      "\n",
      "invalid value encountered in longlong_scalars\n",
      "\n"
     ]
    },
    {
     "name": "stdout",
     "output_type": "stream",
     "text": [
      "model_id, score_thresholds 0 {'rank_abs': [8535]}\n",
      "get_disparity_predefined_group()\n"
     ]
    },
    {
     "name": "stderr",
     "output_type": "stream",
     "text": [
      "C:\\Users\\binha\\Documents\\Duke\\Cynthia Research\\psa-analysis - test2\\utils\\fairness_functions.py:86: RuntimeWarning:\n",
      "\n",
      "invalid value encountered in longlong_scalars\n",
      "\n"
     ]
    }
   ],
   "source": [
    "stump_summary = stumps.stump_cv(X = X_stumps, \n",
    "                                Y = Y_stumps, \n",
    "                                columns=cols, \n",
    "                                c_grid={'C': [0.001, 0.003, 0.005]}, \n",
    "                                seed = 816)"
   ]
  },
  {
   "cell_type": "code",
   "execution_count": 9,
   "metadata": {},
   "outputs": [
    {
     "data": {
      "text/plain": [
       "([{'C': 0.005}, {'C': 0.005}, {'C': 0.005}, {'C': 0.005}, {'C': 0.005}],\n",
       " 0.7610841238235442,\n",
       " 0.003638177215731364)"
      ]
     },
     "execution_count": 9,
     "metadata": {},
     "output_type": "execute_result"
    }
   ],
   "source": [
    "stump_summary['best_params'], np.mean(stump_summary['holdout_test_auc']), np.mean(stump_summary['auc_diffs'])"
   ]
  },
  {
   "cell_type": "markdown",
   "metadata": {},
   "source": [
    "##### Best Stump Model"
   ]
  },
  {
   "cell_type": "code",
   "execution_count": 10,
   "metadata": {},
   "outputs": [
    {
     "data": {
      "text/plain": [
       "25"
      ]
     },
     "execution_count": 10,
     "metadata": {},
     "output_type": "execute_result"
    }
   ],
   "source": [
    "best_stump_model = stumps.stump_model(X_train_stumps, \n",
    "                                      Y_train_stumps, \n",
    "                                      X_test_stumps, \n",
    "                                      Y_test_stumps, \n",
    "                                      c=0.005, \n",
    "                                      columns=cols, \n",
    "                                      seed=816)\n",
    "len(best_stump_model['features'])"
   ]
  },
  {
   "cell_type": "markdown",
   "metadata": {},
   "source": [
    "##### Prediction Table"
   ]
  },
  {
   "cell_type": "code",
   "execution_count": 11,
   "metadata": {
    "scrolled": true
   },
   "outputs": [
    {
     "name": "stdout",
     "output_type": "stream",
     "text": [
      "\begin{tabular}{|l|r|r|} \\hline\n",
      "1. age_at_current_charge<=24 & 1.2 & -... \\ \\hline\n",
      "2. age_at_current_charge<=29 & 6.2 & -... \\ \\hline\n",
      "3. age_at_current_charge<=38 & 1.0 & +... \\ \\hline\n",
      "4. p_arrest>=1 & 39.8 & -... \\ \\hline\n",
      "5. p_arrest>=2 & 30.4 & +... \\ \\hline\n",
      "6. p_arrest>=3 & 16.8 & +... \\ \\hline\n",
      "7. p_arrest>=4 & 9.8 & +... \\ \\hline\n",
      "8. p_arrest>=5 & 9.0 & +... \\ \\hline\n",
      "9. p_arrest>=6 & 7.0 & +... \\ \\hline\n",
      "10. p_charges>=1 & 48.7 & -... \\ \\hline\n",
      "11. p_charges>=2 & 3.9 & +... \\ \\hline\n",
      "12. p_charges>=3 & 1.4 & +... \\ \\hline\n",
      "13. p_felony>=1 & 23.0 & +... \\ \\hline\n",
      "14. p_felony>=2 & 14.0 & +... \\ \\hline\n",
      "15. p_misdemeanor>=1 & 17.9 & +... \\ \\hline\n",
      "16. p_misdemeanor>=2 & 11.4 & +... \\ \\hline\n",
      "17. p_drug>=1 & 133.9 & +... \\ \\hline\n",
      "18. p_drug>=2 & 3.8 & +... \\ \\hline\n",
      "19. p_stealing>=1 & 29.0 & -... \\ \\hline\n",
      "20. ADE>=1 & 86.2 & -... \\ \\hline\n",
      "21. p_prison>=1 & 51.9 & -... \\ \\hline\n",
      "22. p_jail30>=1 & 0.5 & +... \\ \\hline\n",
      "23. p_pending_charge>=1 & 75.3 & +... \\ \\hline\n",
      "24. p_probation>=1 & 13.3 & +... \\ \\hline\n",
      "25. five_year>=1 & 7.4 & -... \\ \\hline\n",
      "26. Intercept & -0.444 & -... \\ \\hline\n",
      "\textbf{ADD POINTS FROM ROWS 1 TO 26}  &  \textbf{SCORE} & = ..... \\ \\hline\n",
      "\\multicolumn{3}{l}{Pr(Y = 1) = exp(score/100) / (1 + exp(score/100))} \\ \\hline\n"
     ]
    }
   ],
   "source": [
    "stumps.latex_stump_table(best_stump_model['coefs'], \n",
    "                   best_stump_model['features'], \n",
    "                   best_stump_model['intercept'], \n",
    "                   best_stump_model['dictionary'])"
   ]
  },
  {
   "cell_type": "markdown",
   "metadata": {},
   "source": [
    "##### Stumps Visualizations"
   ]
  },
  {
   "cell_type": "code",
   "execution_count": 12,
   "metadata": {
    "scrolled": true
   },
   "outputs": [
    {
     "data": {
      "image/png": "[encoded data removed]",
      "text/plain": [
       "<Figure size 288x216 with 1 Axes>"
      ]
     },
     "metadata": {
      "needs_background": "light"
     },
     "output_type": "display_data"
    },
    {
     "data": {
      "image/png": "[encoded data removed]",
      "text/plain": [
       "<Figure size 288x216 with 1 Axes>"
      ]
     },
     "metadata": {
      "needs_background": "light"
     },
     "output_type": "display_data"
    },
    {
     "data": {
      "image/png": "[encoded data removed]",
      "text/plain": [
       "<Figure size 288x216 with 1 Axes>"
      ]
     },
     "metadata": {
      "needs_background": "light"
     },
     "output_type": "display_data"
    },
    {
     "data": {
      "image/png": "[encoded data removed]",
      "text/plain": [
       "<Figure size 288x216 with 1 Axes>"
      ]
     },
     "metadata": {
      "needs_background": "light"
     },
     "output_type": "display_data"
    },
    {
     "data": {
      "image/png": "[encoded data removed]",
      "text/plain": [
       "<Figure size 288x216 with 1 Axes>"
      ]
     },
     "metadata": {
      "needs_background": "light"
     },
     "output_type": "display_data"
    },
    {
     "data": {
      "image/png": "[encoded data removed]",
      "text/plain": [
       "<Figure size 288x216 with 1 Axes>"
      ]
     },
     "metadata": {
      "needs_background": "light"
     },
     "output_type": "display_data"
    },
    {
     "data": {
      "image/png": "[encoded data removed]",
      "text/plain": [
       "<Figure size 288x216 with 1 Axes>"
      ]
     },
     "metadata": {
      "needs_background": "light"
     },
     "output_type": "display_data"
    },
    {
     "data": {
      "image/png": "[encoded data removed]",
      "text/plain": [
       "<Figure size 288x216 with 1 Axes>"
      ]
     },
     "metadata": {
      "needs_background": "light"
     },
     "output_type": "display_data"
    },
    {
     "data": {
      "image/png": "[encoded data removed]",
      "text/plain": [
       "<Figure size 288x216 with 1 Axes>"
      ]
     },
     "metadata": {
      "needs_background": "light"
     },
     "output_type": "display_data"
    },
    {
     "data": {
      "image/png": "[encoded data removed]",
      "text/plain": [
       "<Figure size 288x216 with 1 Axes>"
      ]
     },
     "metadata": {
      "needs_background": "light"
     },
     "output_type": "display_data"
    },
    {
     "data": {
      "image/png": "[encoded data removed]",
      "text/plain": [
       "<Figure size 288x216 with 1 Axes>"
      ]
     },
     "metadata": {
      "needs_background": "light"
     },
     "output_type": "display_data"
    },
    {
     "data": {
      "image/png": "[encoded data removed]",
      "text/plain": [
       "<Figure size 288x216 with 1 Axes>"
      ]
     },
     "metadata": {
      "needs_background": "light"
     },
     "output_type": "display_data"
    },
    {
     "data": {
      "image/png": "[encoded data removed]",
      "text/plain": [
       "<Figure size 288x216 with 1 Axes>"
      ]
     },
     "metadata": {
      "needs_background": "light"
     },
     "output_type": "display_data"
    }
   ],
   "source": [
    "stumps.stump_plots(best_stump_model['features'], best_stump_model['coefs'], indicator='KY')"
   ]
  },
  {
   "cell_type": "markdown",
   "metadata": {},
   "source": [
    "## RiskSLIM"
   ]
  },
  {
   "cell_type": "code",
   "execution_count": 13,
   "metadata": {},
   "outputs": [],
   "source": [
    "## load stumps data\n",
    "data = pd.read_csv(\"~/Documents/Duke/Cynthia Research/KY-analysis-mytrials/KY Recidivism/KY data/kentucky_stumps.csv\")\n",
    "x, y = data.loc[:,:'current_violence>=1'], data['recid_drug_six_month'].values\n",
    "cols = x.columns[3:]"
   ]
  },
  {
   "cell_type": "code",
   "execution_count": 14,
   "metadata": {},
   "outputs": [
    {
     "data": {
      "text/plain": [
       "26"
      ]
     },
     "execution_count": 14,
     "metadata": {},
     "output_type": "execute_result"
    }
   ],
   "source": [
    "## train on best param chosen by Lasso Stumps from above\n",
    "x_train = x.copy().drop(['race', 'person_id', 'screening_date'], axis=1)\n",
    "lasso = LogisticRegression(class_weight='balanced', solver='liblinear', penalty='l1', C=0.005, random_state=816).fit(x_train,y)\n",
    "selected_features = cols[lasso.coef_[0] != 0].tolist()\n",
    "len(selected_features)"
   ]
  },
  {
   "cell_type": "code",
   "execution_count": 15,
   "metadata": {},
   "outputs": [],
   "source": [
    "### Subset features\n",
    "if 'sex>=1' in selected_features:\n",
    "    selected_features = ['recid_drug_six_month', 'person_id', 'screening_date', 'race'] + selected_features\n",
    "    indicator = 1\n",
    "else:\n",
    "    selected_features = ['recid_drug_six_month', 'person_id', 'screening_date', 'race', 'sex>=1'] + selected_features\n",
    "    indicator = 0\n",
    "\n",
    "sub_data = data[selected_features]\n",
    "sub_X, sub_Y = sub_data.iloc[:,1:], sub_data.iloc[:,0].values\n",
    "sub_X.insert(0, '(Intercept)', 1)"
   ]
  },
  {
   "cell_type": "code",
   "execution_count": 16,
   "metadata": {
    "scrolled": true
   },
   "outputs": [
    {
     "name": "stdout",
     "output_type": "stream",
     "text": [
      "setting c0 = 0.0 to ensure that intercept is not penalized\n",
      "10/01/19 @ 04:57 PM | 1141 rows in lookup table\n",
      "10/01/19 @ 04:57 PM | ------------------------------------------------------------\n",
      "10/01/19 @ 04:57 PM | runnning initialization procedure\n",
      "10/01/19 @ 04:57 PM | ------------------------------------------------------------\n",
      "10/01/19 @ 04:57 PM | CPA produced 2 cuts\n",
      "10/01/19 @ 04:57 PM | running naive rounding on 86 solutions\n",
      "10/01/19 @ 04:57 PM | best objective value: 0.1138\n",
      "10/01/19 @ 04:57 PM | rounding produced 5 integer solutions\n",
      "10/01/19 @ 04:57 PM | best objective value is 0.1146\n",
      "10/01/19 @ 04:57 PM | running sequential rounding on 86 solutions\n",
      "10/01/19 @ 04:57 PM | best objective value: 0.1138\n",
      "10/01/19 @ 04:57 PM | sequential rounding produced 4 integer solutions\n",
      "10/01/19 @ 04:57 PM | best objective value: 0.1146\n",
      "10/01/19 @ 04:57 PM | polishing 9 solutions\n",
      "10/01/19 @ 04:57 PM | best objective value: 0.1146\n",
      "10/01/19 @ 04:57 PM | polishing produced 4 integer solutions\n",
      "10/01/19 @ 04:57 PM | initialization produced 8 feasible solutions\n",
      "10/01/19 @ 04:57 PM | best objective value: 0.1146\n",
      "10/01/19 @ 04:57 PM | ------------------------------------------------------------\n",
      "10/01/19 @ 04:57 PM | completed initialization procedure\n",
      "10/01/19 @ 04:57 PM | ------------------------------------------------------------\n",
      "10/01/19 @ 04:57 PM | 1141 rows in lookup table\n",
      "CPXPARAM_Read_DataCheck                          1\n",
      "CPXPARAM_Threads                                 1\n",
      "CPXPARAM_Parallel                                1\n",
      "CPXPARAM_RandomSeed                              0\n",
      "CPXPARAM_TimeLimit                               200\n",
      "CPXPARAM_MIP_Tolerances_LowerCutoff              0.11329655961105448\n",
      "CPXPARAM_MIP_Tolerances_UpperCutoff              0.11456300298621533\n"
     ]
    },
    {
     "name": "stderr",
     "output_type": "stream",
     "text": [
      "Warning: Control callbacks may disable some MIP features.\n"
     ]
    },
    {
     "name": "stdout",
     "output_type": "stream",
     "text": [
      "Lazy constraint(s) or lazy constraint callback is present.\n",
      "    Disabling dual reductions (CPX_PARAM_REDUCE) in presolve.\n",
      "    Disabling non-linear reductions (CPX_PARAM_PRELINEAR) in presolve.\n",
      "         Disabling repeat represolve because of lazy constraint/incumbent callback.\n",
      "10/01/19 @ 04:57 PM | adding 249 initial cuts\n",
      "1 of 1 MIP starts provided solutions.\n",
      "MIP start 'mip_start_0' defined initial solution with objective 0.1146.\n",
      "Tried aggregator 1 time.\n",
      "Reduced MIP has 28 rows, 56 columns, and 107 nonzeros.\n",
      "Reduced MIP has 26 binaries, 28 generals, 0 SOSs, and 0 indicators.\n",
      "Presolve time = 0.00 sec. (0.06 ticks)\n",
      "Probing time = 0.00 sec. (0.02 ticks)\n",
      "MIP emphasis: balance optimality and feasibility.\n",
      "MIP search method: traditional branch-and-cut.\n",
      "Parallel mode: none, using 1 thread.\n",
      "Root relaxation solution time = 0.00 sec. (0.04 ticks)\n",
      "\n",
      "        Nodes                                         Cuts/\n",
      "   Node  Left     Objective  IInf  Best Integer    Best Bound    ItCnt     Gap         Variable B NodeID Parent  Depth\n",
      "\n",
      "*     0+    0                            0.1146        0.1133             1.11%\n",
      "      0     0        0.1133     1        0.1146        0.1133        1    1.11%\n",
      "      0     2        0.1133     1        0.1146        0.1133        1    1.11%                        0             0\n",
      "Elapsed time = 0.11 sec. (1.19 ticks, tree = 0.01 MB, solutions = 1)\n",
      "   4112  2090        0.1138     4        0.1146        0.1133    14243    1.11%           rho_0 U   4112   2461     62\n",
      "   7432  3104        cutoff              0.1146        0.1133    30689    1.11%           rho_3 D   7432   7431     83\n",
      "  10820  4281        0.1133     2        0.1146        0.1133    45151    1.11%          rho_15 U  10820  10811     46\n",
      "  13543  5264        0.1143     4        0.1146        0.1133    60123    1.11%          rho_10 U  13543  13542     95\n",
      "  16307  6323        0.1133     2        0.1146        0.1133    71903    1.11%          rho_11 U  16307  16305     51\n",
      "  19046  7424        cutoff              0.1146        0.1133    82906    1.11%           rho_7 U  19046  19045     61\n",
      "  21924  8275        0.1138     7        0.1146        0.1133    95292    1.11%          rho_16 D  21924  21922     52\n",
      "* 22910+ 8484                            0.1146        0.1133             1.10%\n",
      "  24374  8758        0.1137     5        0.1146        0.1133   106612    1.10%          rho_24 N  24374  24373     48\n",
      "  26689  9191        0.1140     7        0.1146        0.1133   117645    1.10%           rho_0 D  26689  26687     41\n",
      "  37011 12787        0.1136     8        0.1146        0.1133   162062    1.10%          rho_16 D  37011  37010     69\n",
      "Elapsed time = 5.56 sec. (3101.07 ticks, tree = 3.22 MB, solutions = 2)\n",
      "  48221 17308        cutoff              0.1146        0.1133   206459    1.10%           rho_9 U  48221  48220     67\n",
      "  57764 20494        0.1141     6        0.1146        0.1133   248910    1.10%          rho_15 N  57764  57763     63\n",
      "  66990 23279        0.1133     4        0.1146        0.1133   290190    1.10%          rho_13 U  66990  43944     69\n",
      "  75920 25664        0.1133     7        0.1146        0.1133   329409    1.10%          rho_11 D  75920  75919     49\n",
      "  84166 27935        0.1138     7        0.1146        0.1133   367707    1.10%          rho_18 D  84166  84165     73\n",
      "  92018 30047        0.1144     7        0.1146        0.1133   407487    1.10%           rho_0 N  92018  92016     71\n",
      " 100292 32365        0.1142     4        0.1146        0.1133   446737    1.10%          rho_24 D 100292 100291     47\n",
      " 108329 34452        0.1143     5        0.1146        0.1133   484630    1.10%          rho_15 U 108329 106021     45\n",
      " 116112 36326        0.1144     5        0.1146        0.1133   520227    1.10%          rho_12 N 116112 116110     32\n",
      " 122883 37325        0.1134     8        0.1146        0.1133   558156    1.10%          rho_24 D 122883  19186     65\n",
      "Elapsed time = 16.26 sec. (12638.86 ticks, tree = 10.41 MB, solutions = 2)\n",
      " 129591 38024        0.1140     6        0.1146        0.1133   596472    1.10%           rho_8 D 129591 129589     70\n",
      " 136560 39051        0.1135     7        0.1146        0.1133   634213    1.10%           rho_4 D 136560 136559     62\n",
      " 144661 41546        0.1133     9        0.1146        0.1133   670658    1.10%           rho_0 D 144661  36564     71\n",
      " 151790 42874        0.1135     9        0.1146        0.1133   710330    1.10%           rho_7 D 151790 151788     57\n",
      " 158826 44871        0.1133    10        0.1146        0.1133   750120    1.10%           rho_1 D 158826 158825     32\n",
      " 166068 46523        0.1143     6        0.1146        0.1133   788134    1.10%          rho_10 U 166068 166067     78\n",
      " 173473 48532        0.1137     5        0.1146        0.1133   825802    1.10%          rho_23 D 173473 173471     46\n",
      " 180718 50289        cutoff              0.1146        0.1133   863190    1.10%           rho_0 U 180718 180717     52\n",
      " 187813 51801        0.1142    12        0.1146        0.1133   901445    1.10%          rho_16 D 187813 187812     52\n",
      " 195089 53237        0.1133    11        0.1146        0.1133   939695    1.10%          rho_11 U 195089 195087     49\n",
      "Elapsed time = 23.94 sec. (22176.61 ticks, tree = 13.96 MB, solutions = 2)\n",
      " 202583 54980        0.1135    12        0.1146        0.1133   976985    1.10%           rho_4 D 202583  72018     57\n",
      " 210112 56284        cutoff              0.1146        0.1133  1013319    1.10%          rho_14 U 210112 210111     89\n",
      " 217486 57138        cutoff              0.1146        0.1133  1048319    1.10%           rho_8 U 217486 217485     67\n",
      " 224402 57561        0.1136     8        0.1146        0.1133  1084359    1.10%           rho_1 U 224402 169480     76\n",
      " 230893 58433        0.1143     5        0.1146        0.1133  1124145    1.10%          rho_12 U 230893 230892     82\n",
      " 238170 60776        0.1145     6        0.1146        0.1133  1160661    1.10%          rho_12 D 238170 238169     66\n",
      " 245704 63038        0.1136     7        0.1146        0.1133  1198148    1.10%           rho_4 N 245704 243021     70\n",
      " 252181 64261        cutoff              0.1146        0.1133  1237619    1.10%           rho_0 D 252181 252179     74\n",
      " 258427 65443        0.1140     6        0.1146        0.1133  1277573    1.10%           rho_0 D 258427 258425     29\n",
      " 264343 65896        cutoff              0.1146        0.1133  1319740    1.10%          rho_25 U 264343 264341     94\n",
      "Elapsed time = 31.45 sec. (31714.31 ticks, tree = 19.61 MB, solutions = 2)\n",
      " 270306 66724        0.1136     9        0.1146        0.1133  1361827    1.10%           rho_4 D 270306 270305     24\n",
      " 276380 67808        0.1143     9        0.1146        0.1133  1404038    1.10%           rho_4 D 276380 276379     68\n",
      " 282590 68896        0.1137    11        0.1146        0.1133  1445703    1.10%          rho_11 D 282590 282588     41\n",
      " 288654 69939        0.1143     6        0.1146        0.1133  1486926    1.10%           rho_1 U 288654  54041     28\n",
      " 295226 71407        cutoff              0.1146        0.1133  1529437    1.10%          rho_15 U 295226 295225     47\n",
      " 301120 73092        0.1133     6        0.1146        0.1133  1575296    1.10%           rho_0 D 301120 301118     36\n",
      " 307672 74720        cutoff              0.1146        0.1133  1616244    1.10%           rho_3 U 307672 307671     58\n",
      " 314206 75433        cutoff              0.1146        0.1133  1653303    1.10%          rho_25 U 314206 314203     36\n",
      " 321000 75643        0.1144    13        0.1146        0.1133  1687603    1.10%          rho_18 D 321000 320999     61\n",
      " 327401 76171        0.1139     5        0.1146        0.1133  1725479    1.10%          rho_14 N 327401  67330     66\n",
      "Elapsed time = 38.75 sec. (41252.44 ticks, tree = 21.98 MB, solutions = 2)\n",
      " 333791 77569        0.1142     3        0.1146        0.1133  1765051    1.10%          rho_25 U 333791 147860     34\n",
      " 339969 79330        0.1136    16        0.1146        0.1133  1806034    1.10%           rho_4 N 339969 338271     53\n",
      " 345863 80951        0.1136    14        0.1146        0.1133  1848055    1.10%           rho_4 N 345863 331847     75\n",
      " 351940 82096        0.1140     7        0.1146        0.1133  1888639    1.10%           rho_0 D 351940 351938     61\n",
      " 357609 83407        0.1145     5        0.1146        0.1133  1934017    1.10%          rho_18 D 357609 357608     47\n",
      " 363384 85321        cutoff              0.1146        0.1133  1978238    1.10%          rho_18 U 363384 363382     24\n",
      " 369186 86850        0.1145     9        0.1146        0.1133  2019816    1.10%           rho_4 U 369186 109553     61\n",
      " 374825 88071        cutoff              0.1146        0.1133  2062543    1.10%           rho_0 D 374825 374823     48\n",
      " 380146 87645        cutoff              0.1146        0.1133  2103715    1.10%           rho_0 D 380146  93326     47\n",
      " 386370 88403        0.1133     8        0.1146        0.1133  2141675    1.10%           rho_8 D 386370 162796     68\n",
      "Elapsed time = 46.41 sec. (50790.49 ticks, tree = 24.72 MB, solutions = 2)\n",
      " 392046 89890        0.1134    11        0.1146        0.1133  2184160    1.10%          rho_11 D 392046 392044     42\n",
      " 398178 91356        0.1140     8        0.1146        0.1133  2222076    1.10%          rho_25 D 398178 398177     75\n",
      " 403706 92518        0.1145     5        0.1146        0.1133  2262969    1.10%           rho_6 D 403706 403705     59\n",
      " 409538 93684        0.1145     8        0.1146        0.1133  2303110    1.10%          rho_25 D 409538 409536     42\n",
      " 415692 94967        0.1133     8        0.1146        0.1133  2343901    1.10%           rho_0 D 415692 415690     16\n",
      " 420940 97088        0.1136    10        0.1146        0.1133  2385063    1.10%           rho_6 N 420940 420939     52\n",
      " 426637 97367        0.1133    13        0.1146        0.1133  2419788    1.10%           rho_4 U 426637 426636     50\n",
      " 432023 97596        0.1139     9        0.1146        0.1133  2456608    1.10%           rho_1 N 432023  18031     64\n",
      " 437220 98690        0.1141     5        0.1146        0.1133  2496561    1.10%           rho_0 U 437220 437219     78\n",
      " 442668 99752        0.1133     9        0.1146        0.1133  2534355    1.10%          rho_11 D 442668 414396     48\n",
      "Elapsed time = 53.58 sec. (60328.25 ticks, tree = 27.29 MB, solutions = 2)\n",
      " 448159 101264        cutoff              0.1146        0.1133  2573120    1.10%           rho_0 D 448159 166444     57\n",
      " 453412 101887        0.1140     8        0.1146        0.1133  2614719    1.10%           rho_8 D 453412 453410     48\n",
      " 458881 102868        0.1134    15        0.1146        0.1133  2652837    1.10%          rho_14 U 458881 322579     68\n",
      " 464349 103326        cutoff              0.1146        0.1133  2693631    1.10%          rho_18 U 464349 464348     70\n",
      " 469726 103626        0.1142     4        0.1146        0.1133  2732593    1.10%           rho_8 D 469726 469724     51\n",
      " 475644 104409        0.1142    10        0.1146        0.1133  2770858    1.10%          rho_25 D 475644 475642     38\n",
      " 480692 104729        cutoff              0.1146        0.1133  2810142    1.10%          rho_12 D 480692 480691     43\n",
      " 486312 105693        0.1142     7        0.1146        0.1133  2851171    1.10%          rho_14 U 486312 157502     54\n",
      " 492366 106440        0.1144    17        0.1146        0.1133  2888634    1.10%           rho_3 D 492366 492365     59\n",
      " 498326 106650        0.1143     5        0.1146        0.1133  2927008    1.10%           rho_9 D 498326 498325     67\n",
      "Elapsed time = 60.69 sec. (69865.62 ticks, tree = 28.97 MB, solutions = 2)\n",
      " 503632 108087        0.1144     7        0.1146        0.1133  2969888    1.10%          rho_18 U 503632 484176     82\n",
      " 508477 108325        0.1146     5        0.1146        0.1133  3016542    1.10%          rho_25 U 508477 508476     79\n",
      " 514140 109069        0.1137     8        0.1146        0.1133  3056003    1.10%           rho_0 U 514140 514139     49\n",
      " 520052 111116        0.1137     6        0.1146        0.1133  3095649    1.10%          rho_18 D 520052 520051     44\n",
      " 525963 112983        0.1136    13        0.1146        0.1133  3134802    1.10%           rho_0 U 525963 525962     66\n",
      " 531888 114588        0.1138     8        0.1146        0.1133  3173230    1.10%           rho_8 D 531888 531886     37\n",
      " 537216 115344        0.1144     6        0.1146        0.1133  3214320    1.10%          rho_10 D 537216 537214     93\n",
      " 542207 116113        0.1139    12        0.1146        0.1133  3257392    1.10%           rho_0 D 542207 542205     47\n",
      " 547430 116909        0.1133    11        0.1146        0.1133  3300436    1.10%          rho_11 D 547430 547429     48\n",
      " 552770 117226        0.1144     7        0.1146        0.1133  3340523    1.10%          rho_18 U 552770 552767     86\n",
      "Elapsed time = 67.84 sec. (79404.14 ticks, tree = 31.43 MB, solutions = 2)\n",
      " 558180 118272        0.1135    12        0.1146        0.1133  3380664    1.10%           rho_0 U 558180 558179     41\n",
      " 563644 120438        0.1135    12        0.1146        0.1133  3422637    1.10%          rho_15 U 563644 563643     75\n",
      " 568839 121607        0.1133    13        0.1146        0.1133  3462261    1.10%          rho_11 U 568839 568837     24\n",
      " 574055 122853        0.1139     8        0.1146        0.1133  3502125    1.10%          rho_25 U 574055 362079     43\n",
      " 579040 123365        0.1143     5        0.1146        0.1133  3540731    1.10%           rho_0 N 579040 579039     50\n",
      " 584463 124526        0.1140    14        0.1146        0.1133  3577752    1.10%          rho_25 D 584463 584461     48\n",
      " 590060 125699        0.1137    12        0.1146        0.1133  3615633    1.10%           rho_1 D 590060 590059     25\n",
      " 595138 126713        0.1135    13        0.1146        0.1133  3653991    1.10%          rho_15 D 595138 595136     53\n",
      " 599836 128754        0.1133    16        0.1146        0.1133  3694864    1.10%          rho_11 D 599836 599835     56\n",
      " 618010 138496        0.1133    14        0.1146        0.1133  3858195    1.10%           rho_0 U 618010 618009     50\n",
      "Elapsed time = 77.94 sec. (91803.34 ticks, tree = 39.20 MB, solutions = 2)\n",
      " 645770 146631        0.1144    12        0.1146        0.1134  3981071    1.05%          rho_15 U 645770 598524     39\n",
      " 674150 157077        0.1143    10        0.1146        0.1134  4096085    1.00%           rho_0 U 674150 674149     27\n",
      " 698340 158842        0.1139     5        0.1146        0.1135  4220500    0.97%          rho_10 D 698340 698338     84\n",
      " 724540 165126        0.1139     8        0.1146        0.1135  4346167    0.94%           rho_1 D 724540 724537     66\n",
      " 751160 166344        cutoff              0.1146        0.1135  4465495    0.90%          rho_18 U 751160 751159     51\n",
      " 776675 166907        0.1138     7        0.1146        0.1136  4583750    0.88%           rho_4 N 776675 124401     75\n",
      " 802255 165604        0.1141    15        0.1146        0.1136  4712119    0.85%          rho_14 D 802255 802254     52\n",
      " 827446 165703        0.1145    14        0.1146        0.1136  4833381    0.83%          rho_18 D 827446 827445     65\n",
      " 852603 160701        0.1144    13        0.1146        0.1137  4968165    0.78%           rho_4 D 852603 607738     41\n",
      " 876791 156110        cutoff              0.1146        0.1137  5106632    0.74%           rho_1 U 876791 876790     18\n",
      "Elapsed time = 105.31 sec. (129951.83 ticks, tree = 44.97 MB, solutions = 2)\n",
      " 900827 157198        0.1145     8        0.1146        0.1138  5223226    0.70%          rho_18 U 900827 459212     71\n",
      " 926430 152955        0.1141     8        0.1146        0.1138  5355175    0.66%           rho_0 N 926430 340919     72\n",
      " 952496 143188        0.1142     8        0.1146        0.1139  5495147    0.61%          rho_25 D 952496 952494     45\n",
      " 980201 135117        cutoff              0.1146        0.1139  5631129    0.58%           rho_1 D 980201 980200     32\n",
      " 1007330 126840        cutoff              0.1146        0.1140  5762546    0.53%          rho_16 U 1007330 649886     45\n",
      " 1033614 115189        0.1140    14        0.1146        0.1140  5891712    0.49%           rho_0 D 1033614 1033612     75\n",
      " 1061149 103585        cutoff              0.1146        0.1141  6031285    0.43%           rho_4 U 1061149 917258     57\n",
      " 1087950 89196        cutoff              0.1146        0.1141  6148907    0.39%          rho_14 U 1087950 639980     27\n",
      " 1116894 79479        cutoff              0.1146        0.1142  6270485    0.35%          rho_24 U 1116894 1116892     41\n",
      " 1144274 64072        0.1144     5        0.1146        0.1142  6387905    0.28%           rho_0 D 1144274 419744     41\n",
      "Elapsed time = 138.88 sec. (168099.74 ticks, tree = 24.48 MB, solutions = 2)\n",
      " 1173291 47490        cutoff              0.1146        0.1143  6496054    0.21%          rho_24 D 1173291   2689     55\n",
      " 1200002 25701        cutoff              0.1146        0.1144  6594181    0.13%          rho_14 D 1200002 301308     56\n",
      " 1228644  5991        cutoff              0.1146        0.1145  6682447    0.02%          rho_14 U 1228644 493233     40\n",
      "\n",
      "Implied bound cuts applied:  1\n",
      "User cuts applied:  164\n",
      "\n",
      "Root node processing (before b&c):\n",
      "  Real time             =    0.12 sec. (1.21 ticks)\n",
      "Sequential b&c:\n",
      "  Real time             =  147.81 sec. (180255.83 ticks)\n",
      "                          ------------\n",
      "Total (root+branch&cut) =  147.94 sec. (180257.04 ticks)\n",
      "+----------------------------------------------+------------------+-----------+\n",
      "| Pr(Y = +1) = 1.0/(1.0 + exp(-(-8 + score))   |                  |           |\n",
      "| ============================================ | ================ | ========= |\n",
      "| p_arrest>=1                                  |         2 points |   + ..... |\n",
      "| p_felony>=1                                  |         1 points |   + ..... |\n",
      "| p_misdemeanor>=1                             |         1 points |   + ..... |\n",
      "| p_drug>=1                                    |         1 points |   + ..... |\n",
      "| p_pending_charge>=1                          |         1 points |   + ..... |\n",
      "| ============================================ | ================ | ========= |\n",
      "| ADD POINTS FROM ROWS 1 to 5                  |            SCORE |   = ..... |\n",
      "+----------------------------------------------+------------------+-----------+\n",
      "model_id, score_thresholds 0 {'rank_abs': [0]}\n",
      "get_disparity_predefined_group()\n"
     ]
    },
    {
     "name": "stderr",
     "output_type": "stream",
     "text": [
      "C:\\Users\\binha\\Documents\\Duke\\Cynthia Research\\psa-analysis - test2\\utils\\fairness_functions.py:82: RuntimeWarning:\n",
      "\n",
      "invalid value encountered in longlong_scalars\n",
      "\n",
      "C:\\Users\\binha\\Documents\\Duke\\Cynthia Research\\psa-analysis - test2\\utils\\fairness_functions.py:95: RuntimeWarning:\n",
      "\n",
      "divide by zero encountered in longlong_scalars\n",
      "\n",
      "C:\\Users\\binha\\Documents\\Duke\\Cynthia Research\\psa-analysis - test2\\utils\\fairness_functions.py:86: RuntimeWarning:\n",
      "\n",
      "invalid value encountered in longlong_scalars\n",
      "\n",
      "C:\\Users\\binha\\Documents\\Duke\\Cynthia Research\\psa-analysis - test2\\utils\\fairness_functions.py:95: RuntimeWarning:\n",
      "\n",
      "invalid value encountered in longlong_scalars\n",
      "\n"
     ]
    },
    {
     "name": "stdout",
     "output_type": "stream",
     "text": [
      "setting c0 = 0.0 to ensure that intercept is not penalized\n",
      "10/01/19 @ 04:59 PM | 1141 rows in lookup table\n",
      "10/01/19 @ 04:59 PM | ------------------------------------------------------------\n",
      "10/01/19 @ 04:59 PM | runnning initialization procedure\n",
      "10/01/19 @ 04:59 PM | ------------------------------------------------------------\n",
      "10/01/19 @ 05:00 PM | CPA produced 2 cuts\n",
      "10/01/19 @ 05:00 PM | running naive rounding on 96 solutions\n",
      "10/01/19 @ 05:00 PM | best objective value: 0.1136\n",
      "10/01/19 @ 05:00 PM | rounding produced 5 integer solutions\n",
      "10/01/19 @ 05:00 PM | best objective value is 0.1163\n",
      "10/01/19 @ 05:00 PM | running sequential rounding on 96 solutions\n",
      "10/01/19 @ 05:00 PM | best objective value: 0.1136\n",
      "10/01/19 @ 05:00 PM | sequential rounding produced 4 integer solutions\n",
      "10/01/19 @ 05:00 PM | best objective value: 0.1148\n",
      "10/01/19 @ 05:00 PM | polishing 9 solutions\n",
      "10/01/19 @ 05:00 PM | best objective value: 0.1148\n",
      "10/01/19 @ 05:00 PM | polishing produced 5 integer solutions\n",
      "10/01/19 @ 05:00 PM | initialization produced 9 feasible solutions\n",
      "10/01/19 @ 05:00 PM | best objective value: 0.1148\n",
      "10/01/19 @ 05:00 PM | ------------------------------------------------------------\n",
      "10/01/19 @ 05:00 PM | completed initialization procedure\n",
      "10/01/19 @ 05:00 PM | ------------------------------------------------------------\n",
      "10/01/19 @ 05:00 PM | 1141 rows in lookup table\n",
      "CPXPARAM_Read_DataCheck                          1\n",
      "CPXPARAM_Threads                                 1\n",
      "CPXPARAM_Parallel                                1\n",
      "CPXPARAM_RandomSeed                              0\n",
      "CPXPARAM_TimeLimit                               200\n",
      "CPXPARAM_MIP_Tolerances_LowerCutoff              0.11344093563422618\n",
      "CPXPARAM_MIP_Tolerances_UpperCutoff              0.11479655845112624\n"
     ]
    },
    {
     "name": "stderr",
     "output_type": "stream",
     "text": [
      "Warning: Control callbacks may disable some MIP features.\n"
     ]
    },
    {
     "name": "stdout",
     "output_type": "stream",
     "text": [
      "Lazy constraint(s) or lazy constraint callback is present.\n",
      "    Disabling dual reductions (CPX_PARAM_REDUCE) in presolve.\n",
      "    Disabling non-linear reductions (CPX_PARAM_PRELINEAR) in presolve.\n",
      "         Disabling repeat represolve because of lazy constraint/incumbent callback.\n",
      "10/01/19 @ 05:00 PM | adding 249 initial cuts\n",
      "1 of 1 MIP starts provided solutions.\n",
      "MIP start 'mip_start_0' defined initial solution with objective 0.1148.\n",
      "Tried aggregator 1 time.\n",
      "Reduced MIP has 28 rows, 56 columns, and 107 nonzeros.\n",
      "Reduced MIP has 26 binaries, 28 generals, 0 SOSs, and 0 indicators.\n",
      "Presolve time = 0.00 sec. (0.06 ticks)\n",
      "Probing time = 0.00 sec. (0.02 ticks)\n",
      "MIP emphasis: balance optimality and feasibility.\n",
      "MIP search method: traditional branch-and-cut.\n",
      "Parallel mode: none, using 1 thread.\n",
      "Root relaxation solution time = 0.00 sec. (0.04 ticks)\n",
      "\n",
      "        Nodes                                         Cuts/\n",
      "   Node  Left     Objective  IInf  Best Integer    Best Bound    ItCnt     Gap         Variable B NodeID Parent  Depth\n",
      "\n",
      "*     0+    0                            0.1148        0.1134             1.19%\n",
      "      0     0        0.1134     1        0.1148        0.1134        1    1.18%\n",
      "      0     2        0.1134     1        0.1148        0.1134        1    1.18%                        0             0\n",
      "Elapsed time = 0.08 sec. (1.19 ticks, tree = 0.01 MB, solutions = 1)\n",
      "   4251  1705        cutoff              0.1148        0.1134    15893    1.18%           rho_0 U   4251   4135     90\n",
      "   7499  3000        cutoff              0.1148        0.1134    30382    1.18%           rho_8 U   7499   6562     31\n",
      "  10369  4647        0.1134     1        0.1148        0.1134    43219    1.18%          rho_11 D  10369  10368     20\n",
      "  12970  6046        0.1134     4        0.1148        0.1134    56031    1.18%          rho_15 U  12970  12479     44\n",
      "  15521  7344        0.1134     4        0.1148        0.1134    68407    1.18%          rho_15 U  15521  15089     49\n",
      "  18108  8651        0.1143     8        0.1148        0.1134    80973    1.18%          rho_25 D  18108  18106     84\n",
      "  20713  9855        cutoff              0.1148        0.1134    93386    1.18%          rho_16 U  20713  20712     65\n",
      "  23179 10597        cutoff              0.1148        0.1134   105901    1.18%           rho_0 U  23179  23178     49\n",
      "* 25253 11119      integral     0        0.1148        0.1134   115566    1.18%\n",
      "  25518 11193        0.1134     6        0.1148        0.1134   116912    1.18%           rho_0 D  25518  25516     50\n",
      "  34268 13984        0.1138     2        0.1148        0.1134   164389    1.18%           rho_0 N  34268  34267     20\n",
      "Elapsed time = 4.02 sec. (3100.99 ticks, tree = 3.45 MB, solutions = 2)\n",
      "  44354 17360        0.1134     4        0.1148        0.1134   211647    1.18%           rho_1 D  44354  44353     38\n",
      "  53962 21551        0.1142     7        0.1148        0.1134   255592    1.18%          rho_15 D  53962  53960     17\n",
      "  62149 24007        0.1134     4        0.1148        0.1134   295585    1.18%           rho_1 D  62149  23986     42\n",
      "  70977 26951        0.1134     1        0.1148        0.1134   334206    1.18%           rho_0 D  70977  70975     68\n",
      "  79343 29111        0.1134     4        0.1148        0.1134   371785    1.18%           rho_0 D  79343  79339     47\n",
      "  87000 30957        0.1143     4        0.1148        0.1134   412022    1.18%           rho_1 N  87000  46312     70\n",
      "  94799 32367        0.1139     6        0.1148        0.1134   448131    1.18%           rho_1 N  94799  94432     65\n",
      " 102750 34448        0.1134     6        0.1148        0.1134   481274    1.18%           rho_0 D 102750 102748     16\n",
      " 109605 35968        0.1134     6        0.1148        0.1134   519488    1.18%           rho_9 D 109605 109604     54\n",
      " 116360 37622        0.1144     7        0.1148        0.1134   559034    1.18%          rho_14 D 116360 116359     76\n",
      "Elapsed time = 13.11 sec. (12639.14 ticks, tree = 10.59 MB, solutions = 2)\n",
      " 123641 38994        cutoff              0.1148        0.1134   594117    1.18%           rho_6 U 123641  60264     55\n",
      " 130970 40528        0.1144     7        0.1148        0.1134   632494    1.18%           rho_0 U 130970 130969     27\n",
      " 138103 42829        0.1134     5        0.1148        0.1134   672963    1.18%          rho_15 D 138103 138102     59\n",
      " 145614 45103        cutoff              0.1148        0.1134   710690    1.18%           rho_0 U 145614 145612     31\n",
      " 150638 46474        0.1136     7        0.1148        0.1134   755729    1.18%          rho_15 U 150638   7072     76\n",
      " 157145 48397        0.1135    13        0.1148        0.1134   795319    1.18%           rho_6 D 157145 157144     45\n",
      " 163875 50266        0.1137    12        0.1148        0.1134   834453    1.18%           rho_3 N 163875  20085     43\n",
      " 171717 54064        0.1145     7        0.1148        0.1134   869978    1.18%          rho_25 D 171717 171715     79\n",
      " 179328 56339        0.1138    12        0.1148        0.1134   904352    1.18%           rho_0 D 179328 179326     21\n",
      " 185681 58977        0.1143    11        0.1148        0.1134   940433    1.18%          rho_11 D 185681 185680     81\n",
      "Elapsed time = 22.02 sec. (22176.91 ticks, tree = 15.23 MB, solutions = 2)\n",
      " 192361 60940        0.1134     5        0.1148        0.1134   976491    1.18%           rho_5 D 192361 192341     35\n",
      " 199000 62479        0.1142    10        0.1148        0.1134  1017634    1.18%           rho_1 D 199000 198999     50\n",
      " 205402 64026        0.1138     6        0.1148        0.1134  1058589    1.18%          rho_16 N 205402   5440     46\n",
      " 211716 64977        0.1134     4        0.1148        0.1134  1096037    1.18%           rho_4 D 211716 205251     76\n",
      " 217696 65868        0.1141    11        0.1148        0.1134  1135991    1.18%           rho_3 U 217696   8991     60\n",
      " 224144 67787        0.1134     9        0.1148        0.1134  1174609    1.18%          rho_25 D 224144 224141     63\n",
      " 230582 69699        0.1141     8        0.1148        0.1134  1212858    1.18%          rho_14 D 230582 230581     54\n",
      " 237178 70764        0.1142    11        0.1148        0.1134  1248352    1.18%           rho_9 D 237178 237176     33\n",
      " 243627 72090        0.1142    11        0.1148        0.1134  1284933    1.18%          rho_18 D 243627 243626     38\n",
      " 250644 74407        0.1140     5        0.1148        0.1134  1319731    1.18%           rho_6 U 250644 250643     40\n",
      "Elapsed time = 29.84 sec. (31715.11 ticks, tree = 21.47 MB, solutions = 2)\n",
      " 257270 75461        0.1139    11        0.1148        0.1134  1356328    1.18%          rho_14 D 257270 257269     24\n",
      " 263556 76719        0.1148    10        0.1148        0.1134  1394492    1.18%           rho_0 N 263556 263555     67\n",
      " 269998 77608        0.1138     6        0.1148        0.1134  1432947    1.18%           rho_7 N 269998 269997     25\n",
      " 276455 78511        0.1145     9        0.1148        0.1134  1470805    1.18%          rho_25 D 276455 276453     33\n",
      " 282853 79655        0.1144     5        0.1148        0.1134  1508685    1.18%          rho_25 D 282853 282851     68\n",
      " 289000 80793        0.1134     9        0.1148        0.1134  1542901    1.18%           rho_4 D 289000 249140     80\n",
      " 295319 81940        0.1144     4        0.1148        0.1134  1577256    1.18%          rho_10 U 295319 295318     40\n",
      " 301690 82735        0.1142     5        0.1148        0.1134  1613019    1.18%           rho_0 U 301690 301689     88\n",
      " 307991 83690        0.1134     7        0.1148        0.1134  1650504    1.18%           rho_4 D 307991 307990     59\n",
      " 313594 86008        0.1134     7        0.1148        0.1134  1694960    1.18%           rho_1 D 313594 313424     73\n",
      "Elapsed time = 37.00 sec. (41253.04 ticks, tree = 24.08 MB, solutions = 2)\n",
      " 319110 88143        cutoff              0.1148        0.1134  1738767    1.18%          rho_16 U 319110 319109     55\n",
      " 325374 89264        cutoff              0.1148        0.1134  1775602    1.18%          rho_16 U 325374 325362     70\n",
      " 331352 89374        0.1145     7        0.1148        0.1134  1810805    1.18%          rho_10 D 331352 331350     35\n",
      " 337470 90160        0.1146     6        0.1148        0.1134  1846458    1.18%           rho_4 U 337470 337468     40\n",
      " 343661 91886        0.1134     6        0.1148        0.1134  1883487    1.18%           rho_9 D 343661 343659     53\n",
      " 349791 93474        0.1144     3        0.1148        0.1134  1919929    1.18%          rho_23 D 349791 349790     53\n",
      " 356418 95663        0.1141     9        0.1148        0.1134  1954716    1.18%          rho_14 D 356418 356417     71\n",
      " 363039 97407        0.1136     5        0.1148        0.1134  1989738    1.18%          rho_14 U 363039 363037     57\n",
      " 369381 98551        0.1139    13        0.1148        0.1134  2026072    1.18%           rho_3 D 369381 369380     59\n",
      " 375540 99483        0.1139    10        0.1148        0.1134  2061986    1.18%           rho_1 N 375540 347768     63\n",
      "Elapsed time = 44.31 sec. (50791.29 ticks, tree = 27.19 MB, solutions = 2)\n",
      " 381500 100136        cutoff              0.1148        0.1134  2099095    1.18%          rho_10 U 381500 381499     49\n",
      " 387574 101818        0.1143     9        0.1148        0.1134  2136809    1.18%           rho_9 D 387574 387572     52\n",
      " 393550 102984        0.1146     8        0.1148        0.1134  2173301    1.18%          rho_10 U 393550 393548     60\n",
      " 400165 104551        cutoff              0.1148        0.1134  2210291    1.18%           rho_6 U 400165  49562     51\n",
      " 407082 105751        0.1144     9        0.1148        0.1134  2244102    1.18%          rho_16 D 407082 407079     77\n",
      " 412930 106869        0.1134     7        0.1148        0.1134  2282063    1.18%          rho_11 U 412930 412928     44\n",
      " 419365 108108        0.1144     3        0.1148        0.1134  2318799    1.18%          rho_18 N 419365 419364     42\n",
      " 425540 109627        0.1142    10        0.1148        0.1134  2357295    1.18%          rho_18 D 425540 425539     77\n",
      " 431747 110985        cutoff              0.1148        0.1134  2394025    1.18%          rho_13 U 431747 431746     44\n",
      " 437600 111708        0.1134     6        0.1148        0.1134  2431361    1.18%           rho_9 N 437600 437599     44\n",
      "Elapsed time = 51.58 sec. (60328.98 ticks, tree = 30.06 MB, solutions = 2)\n",
      " 443500 112514        0.1137    10        0.1148        0.1134  2467959    1.18%           rho_6 D 443500 443499     37\n",
      " 449784 114386        0.1137    11        0.1148        0.1134  2504446    1.18%           rho_0 N 449784 449782     53\n",
      " 455579 115244        cutoff              0.1148        0.1134  2541463    1.18%          rho_14 D 455579 455578     57\n",
      " 461138 115907        0.1142     9        0.1148        0.1134  2580216    1.18%          rho_14 D 461138 461137     65\n",
      " 467079 117209        0.1137     6        0.1148        0.1134  2614936    1.18%          rho_14 D 467079 467077     47\n",
      " 472200 117765        0.1141    12        0.1148        0.1134  2652804    1.18%           rho_1 N 472200 472103     33\n",
      " 477792 118961        0.1138    13        0.1148        0.1134  2692287    1.18%          rho_16 D 477792 477791     51\n",
      " 483483 120443        0.1141     9        0.1148        0.1134  2733226    1.18%           rho_6 D 483483 483482     63\n",
      " 489161 121038        0.1142     7        0.1148        0.1134  2771509    1.18%          rho_25 D 489161 489159     64\n",
      " 495160 121651        0.1146     6        0.1148        0.1134  2808395    1.18%          rho_10 D 495160 495159     90\n",
      "Elapsed time = 58.75 sec. (69867.19 ticks, tree = 32.43 MB, solutions = 2)\n",
      " 501839 123126        0.1144     5        0.1148        0.1134  2847591    1.18%          rho_18 U 501839 501816     27\n",
      " 507881 123968        0.1143     5        0.1148        0.1134  2880496    1.18%           rho_2 D 507881 507879     40\n",
      " 514703 125124        0.1134     9        0.1148        0.1134  2911916    1.18%          rho_11 D 514703 514702     37\n",
      " 521195 125667        cutoff              0.1148        0.1134  2944467    1.18%           rho_6 U 521195 521193     54\n",
      " 527261 126480        0.1145     7        0.1148        0.1134  2980836    1.18%          rho_16 U 527261 331868     78\n",
      " 533116 127935        0.1144     9        0.1148        0.1134  3020313    1.18%          rho_16 D 533116 533114     70\n",
      " 538949 129347        cutoff              0.1148        0.1134  3060002    1.18%           rho_3 U 538949 484037     54\n",
      " 544386 130971        0.1145     7        0.1148        0.1134  3100692    1.18%           rho_0 N 544386 544385     45\n",
      " 549962 132685        cutoff              0.1148        0.1134  3138971    1.18%           rho_4 U 549962 549960     67\n",
      " 554728 133038        0.1147     7        0.1148        0.1134  3179835    1.18%          rho_12 U 554728 554727     64\n",
      "Elapsed time = 65.86 sec. (79405.45 ticks, tree = 38.02 MB, solutions = 2)\n",
      " 559494 133173        cutoff              0.1148        0.1134  3217898    1.18%           rho_0 D 559494 559493     76\n",
      " 565178 134181        0.1146     8        0.1148        0.1134  3254059    1.18%           rho_8 D 565178 565177     53\n",
      " 570672 134177        0.1147     8        0.1148        0.1134  3294392    1.18%           rho_0 U 570672 570671     22\n",
      " 577196 135549        0.1143    12        0.1148        0.1134  3329277    1.18%          rho_16 D 577196 577195     87\n",
      " 582535 136369        0.1139    16        0.1148        0.1134  3367333    1.18%           rho_1 D 582535 582534     48\n",
      " 587889 136595        0.1145    12        0.1148        0.1134  3404409    1.18%          rho_14 D 587889 587888     73\n",
      " 593370 137415        0.1134     9        0.1148        0.1134  3440089    1.18%           rho_0 D 593370 240218     71\n",
      " 598140 138108        0.1145     9        0.1148        0.1134  3481784    1.18%          rho_14 D 598140 598139     37\n",
      " 604177 138977        0.1136    11        0.1148        0.1134  3516843    1.18%           rho_1 D 604177 438847     61\n",
      " 626511 141568        cutoff              0.1148        0.1134  3655524    1.18%           rho_0 U 626511 626510     32\n",
      "Elapsed time = 74.73 sec. (91804.45 ticks, tree = 40.17 MB, solutions = 2)\n",
      " 647826 146504        0.1145    10        0.1148        0.1134  3812713    1.18%           rho_1 D 647826 647825     81\n",
      " 669580 153511        0.1138     6        0.1148        0.1134  3962624    1.18%           rho_0 U 669580 669579     71\n",
      " 691335 158088        0.1136    11        0.1148        0.1134  4106491    1.18%          rho_15 D 691335 691333     34\n",
      " 711781 163401        0.1146     5        0.1148        0.1134  4262320    1.18%          rho_14 N 711781 711780     50\n",
      " 733650 168312        0.1136    16        0.1148        0.1134  4403758    1.18%           rho_5 D 733650 217267     39\n",
      " 755130 174443        0.1135    10        0.1148        0.1135  4548305    1.15%          rho_11 D 755130 755129     59\n",
      " 784598 181303        cutoff              0.1148        0.1135  4660680    1.11%           rho_4 U 784598 784596     57\n",
      " 813001 188347        cutoff              0.1148        0.1136  4770585    1.07%           rho_1 U 813001 813000     43\n",
      " 840742 191295        0.1144    10        0.1148        0.1136  4891097    1.04%          rho_14 D 840742 840741     76\n",
      " 866973 193462        0.1140    10        0.1148        0.1136  5013425    1.01%          rho_11 D 866973 866972     69\n",
      "Elapsed time = 101.84 sec. (129952.16 ticks, tree = 55.78 MB, solutions = 2)\n",
      " 894568 196090        cutoff              0.1148        0.1137  5136523    0.98%          rho_18 U 894568  92893     70\n",
      " 920297 196336        0.1142     5        0.1148        0.1137  5254153    0.96%           rho_1 U 920297 686230     59\n",
      " 945156 197022        0.1137     5        0.1148        0.1137  5379893    0.93%          rho_10 U 945156 281923     58\n",
      " 972575 199585        0.1143    10        0.1148        0.1138  5501098    0.91%           rho_3 D 972575 972574     75\n",
      " 999277 198450        0.1145    11        0.1148        0.1138  5609470    0.88%           rho_8 D 999277 999275     75\n",
      " 1024583 197200        0.1142     6        0.1148        0.1138  5729067    0.86%          rho_18 D 1024583 1024582     41\n",
      " 1049430 195936        0.1140    12        0.1148        0.1138  5843848    0.83%          rho_10 N 1049430 652109     29\n",
      " 1074031 196264        0.1146     9        0.1148        0.1139  5957342    0.80%          rho_14 N 1074031 477581     78\n",
      " 1099081 195910        0.1145     8        0.1148        0.1139  6069506    0.78%          rho_12 U 1099081 1099080     50\n",
      " 1124758 194654        cutoff              0.1148        0.1139  6175315    0.76%          rho_14 U 1124758 464650     60\n",
      "Elapsed time = 127.23 sec. (168100.03 ticks, tree = 56.12 MB, solutions = 2)\n",
      " 1149840 191750        cutoff              0.1148        0.1140  6282506    0.73%           rho_1 D 1149840 639287     56\n",
      " 1176955 189720        0.1143    16        0.1148        0.1140  6389906    0.71%          rho_11 D 1176955 1176954     28\n",
      " 1201066 184945        cutoff              0.1148        0.1140  6519924    0.69%           rho_6 D 1201066 1201065     75\n",
      " 1227589 182854        0.1140    11        0.1148        0.1140  6630157    0.65%           rho_0 D 1227589 1227587     55\n",
      " 1253250 179714        0.1144    11        0.1148        0.1141  6736630    0.63%           rho_1 D 1253250 1253249     54\n",
      " 1280696 176217        0.1148    12        0.1148        0.1141  6842566    0.60%           rho_0 D 1280696 263844     42\n",
      " 1307848 169354        cutoff              0.1148        0.1141  6955713    0.57%           rho_9 D 1307848 634977     29\n",
      " 1333823 163274        0.1142     7        0.1148        0.1142  7065879    0.54%           rho_0 D 1333823 1333821     54\n",
      " 1360889 157982        0.1146    11        0.1148        0.1142  7167127    0.51%          rho_11 D 1360889 1360888     69\n",
      " 1389387 148292        cutoff              0.1148        0.1143  7284175    0.46%          rho_13 D 1389387 1064479     74\n",
      "Elapsed time = 151.86 sec. (206248.28 ticks, tree = 45.74 MB, solutions = 2)\n",
      " 1416597 139020        0.1144     7        0.1148        0.1143  7395857    0.44%           rho_4 D 1416597 1416596     46\n",
      " 1443874 125626        cutoff              0.1148        0.1143  7512846    0.40%          rho_16 U 1443874 1140632     54\n",
      " 1472495 113380        cutoff              0.1148        0.1144  7624925    0.36%           rho_4 U 1472495 1472494     71\n",
      " 1500386 100516        cutoff              0.1148        0.1144  7726545    0.33%           rho_3 U 1500386 1036203     61\n",
      " 1530268 89510        0.1148     8        0.1148        0.1145  7827872    0.29%          rho_25 D 1530268 1530266     75\n",
      " 1558274 74587        cutoff              0.1148        0.1145  7939394    0.25%          rho_16 U 1558274 1043157     55\n",
      " 1587205 57039        cutoff              0.1148        0.1146  8027682    0.18%           rho_2 U 1587205  41127     72\n",
      " 1613732 33505        0.1146    11        0.1148        0.1146  8121798    0.13%          rho_11 U 1613732 1613730     34\n",
      " 1641843 11157        cutoff              0.1148        0.1148  8202810    0.04%          rho_14 U 1641843 852602     83\n",
      "\n",
      "User cuts applied:  172\n",
      "\n",
      "Root node processing (before b&c):\n",
      "  Real time             =    0.08 sec. (1.21 ticks)\n",
      "Sequential b&c:\n",
      "  Real time             =  178.70 sec. (242043.60 ticks)\n",
      "                          ------------\n",
      "Total (root+branch&cut) =  178.78 sec. (242044.81 ticks)\n",
      "+-----------------------------------------------+-------------------+-----------+\n",
      "| Pr(Y = +1) = 1.0/(1.0 + exp(-(-26 + score))   |                   |           |\n",
      "| ============================================= | ================= | ========= |\n",
      "| p_arrest>=1                                   |         20 points |   + ..... |\n",
      "| p_felony>=1                                   |          1 points |   + ..... |\n",
      "| p_misdemeanor>=1                              |          1 points |   + ..... |\n",
      "| p_drug>=1                                     |          1 points |   + ..... |\n",
      "| p_pending_charge>=1                           |          1 points |   + ..... |\n",
      "| ============================================= | ================= | ========= |\n",
      "| ADD POINTS FROM ROWS 1 to 5                   |             SCORE |   = ..... |\n",
      "+-----------------------------------------------+-------------------+-----------+\n",
      "model_id, score_thresholds 0 {'rank_abs': [0]}\n",
      "get_disparity_predefined_group()\n"
     ]
    },
    {
     "name": "stderr",
     "output_type": "stream",
     "text": [
      "C:\\Users\\binha\\Documents\\Duke\\Cynthia Research\\psa-analysis - test2\\utils\\fairness_functions.py:82: RuntimeWarning:\n",
      "\n",
      "invalid value encountered in longlong_scalars\n",
      "\n",
      "C:\\Users\\binha\\Documents\\Duke\\Cynthia Research\\psa-analysis - test2\\utils\\fairness_functions.py:95: RuntimeWarning:\n",
      "\n",
      "divide by zero encountered in longlong_scalars\n",
      "\n",
      "C:\\Users\\binha\\Documents\\Duke\\Cynthia Research\\psa-analysis - test2\\utils\\fairness_functions.py:86: RuntimeWarning:\n",
      "\n",
      "invalid value encountered in longlong_scalars\n",
      "\n",
      "C:\\Users\\binha\\Documents\\Duke\\Cynthia Research\\psa-analysis - test2\\utils\\fairness_functions.py:95: RuntimeWarning:\n",
      "\n",
      "invalid value encountered in longlong_scalars\n",
      "\n"
     ]
    },
    {
     "name": "stdout",
     "output_type": "stream",
     "text": [
      "setting c0 = 0.0 to ensure that intercept is not penalized\n",
      "10/01/19 @ 05:03 PM | 1141 rows in lookup table\n",
      "10/01/19 @ 05:03 PM | ------------------------------------------------------------\n",
      "10/01/19 @ 05:03 PM | runnning initialization procedure\n",
      "10/01/19 @ 05:03 PM | ------------------------------------------------------------\n",
      "10/01/19 @ 05:03 PM | CPA produced 2 cuts\n",
      "10/01/19 @ 05:03 PM | running naive rounding on 90 solutions\n",
      "10/01/19 @ 05:03 PM | best objective value: 0.1134\n",
      "10/01/19 @ 05:03 PM | rounding produced 4 integer solutions\n",
      "10/01/19 @ 05:03 PM | best objective value is 0.1142\n",
      "10/01/19 @ 05:03 PM | running sequential rounding on 90 solutions\n",
      "10/01/19 @ 05:03 PM | best objective value: 0.1134\n",
      "10/01/19 @ 05:03 PM | sequential rounding produced 4 integer solutions\n",
      "10/01/19 @ 05:03 PM | best objective value: 0.1142\n",
      "10/01/19 @ 05:03 PM | polishing 8 solutions\n",
      "10/01/19 @ 05:03 PM | best objective value: 0.1142\n",
      "10/01/19 @ 05:03 PM | polishing produced 5 integer solutions\n",
      "10/01/19 @ 05:03 PM | initialization produced 6 feasible solutions\n",
      "10/01/19 @ 05:03 PM | best objective value: 0.1142\n",
      "10/01/19 @ 05:03 PM | ------------------------------------------------------------\n",
      "10/01/19 @ 05:03 PM | completed initialization procedure\n",
      "10/01/19 @ 05:03 PM | ------------------------------------------------------------\n",
      "10/01/19 @ 05:03 PM | 1141 rows in lookup table\n",
      "CPXPARAM_Read_DataCheck                          1\n",
      "CPXPARAM_Threads                                 1\n",
      "CPXPARAM_Parallel                                1\n",
      "CPXPARAM_RandomSeed                              0\n",
      "CPXPARAM_TimeLimit                               200\n",
      "CPXPARAM_MIP_Tolerances_LowerCutoff              0.11295196586458672\n",
      "CPXPARAM_MIP_Tolerances_UpperCutoff              0.11419923000042558\n"
     ]
    },
    {
     "name": "stderr",
     "output_type": "stream",
     "text": [
      "Warning: Control callbacks may disable some MIP features.\n"
     ]
    },
    {
     "name": "stdout",
     "output_type": "stream",
     "text": [
      "Lazy constraint(s) or lazy constraint callback is present.\n",
      "    Disabling dual reductions (CPX_PARAM_REDUCE) in presolve.\n",
      "    Disabling non-linear reductions (CPX_PARAM_PRELINEAR) in presolve.\n",
      "         Disabling repeat represolve because of lazy constraint/incumbent callback.\n",
      "10/01/19 @ 05:03 PM | adding 249 initial cuts\n",
      "1 of 1 MIP starts provided solutions.\n",
      "MIP start 'mip_start_0' defined initial solution with objective 0.1142.\n",
      "Tried aggregator 1 time.\n",
      "Reduced MIP has 28 rows, 56 columns, and 107 nonzeros.\n",
      "Reduced MIP has 26 binaries, 28 generals, 0 SOSs, and 0 indicators.\n",
      "Presolve time = 0.00 sec. (0.06 ticks)\n",
      "Probing time = 0.00 sec. (0.02 ticks)\n",
      "MIP emphasis: balance optimality and feasibility.\n",
      "MIP search method: traditional branch-and-cut.\n",
      "Parallel mode: none, using 1 thread.\n",
      "Root relaxation solution time = 0.00 sec. (0.04 ticks)\n",
      "\n",
      "        Nodes                                         Cuts/\n",
      "   Node  Left     Objective  IInf  Best Integer    Best Bound    ItCnt     Gap         Variable B NodeID Parent  Depth\n",
      "\n",
      "*     0+    0                            0.1142        0.1129             1.10%\n",
      "      0     0        0.1130     1        0.1142        0.1130        1    1.09%\n",
      "      0     2        0.1130     1        0.1142        0.1130        1    1.09%                        0             0\n",
      "Elapsed time = 0.08 sec. (1.19 ticks, tree = 0.01 MB, solutions = 1)\n",
      "   3899  1465        0.1130     7        0.1142        0.1130    12751    1.09%           rho_3 D   3899   3898     58\n",
      "   7741  2685        0.1142     5        0.1142        0.1130    24961    1.09%           rho_6 D   7741   7740     63\n",
      "  10690  3650        0.1130     5        0.1142        0.1130    36131    1.09%          rho_11 U  10690  10688     59\n",
      "  13490  4316        cutoff              0.1142        0.1130    48135    1.09%          rho_10 U  13490  13489     48\n",
      "  16172  5352        cutoff              0.1142        0.1130    59004    1.09%           rho_0 U  16172  16170     82\n",
      "  19310  6451        0.1130     4        0.1142        0.1130    70240    1.09%           rho_0 D  19310  19309     38\n",
      "  22458  7596        0.1130     5        0.1142        0.1130    82275    1.09%           rho_1 D  22458  22457     85\n",
      "  25510  8706        0.1132     4        0.1142        0.1130    94972    1.09%          rho_15 D  25510  25508     90\n",
      "  28084  9575        0.1130     5        0.1142        0.1130   108216    1.09%           rho_0 D  28084  28082     63\n",
      "  38304 10506        0.1130     4        0.1142        0.1130   157319    1.09%           rho_4 U  38304  38302     77\n",
      "Elapsed time = 4.02 sec. (3101.25 ticks, tree = 2.85 MB, solutions = 1)\n",
      "  47895 12734        0.1141     7        0.1142        0.1130   201983    1.09%           rho_4 D  47895  47894     45\n",
      "  55983 14019        0.1136     8        0.1142        0.1130   247041    1.09%           rho_1 N  55983  55661     41\n",
      "  66058 17545        0.1130     6        0.1142        0.1130   291846    1.09%           rho_0 D  66058  66055     93\n",
      "* 68660 17498      integral     0        0.1142        0.1130   305639    1.09%\n",
      "* 72000+17492                            0.1142        0.1130             1.09%\n",
      "  74050 17682        cutoff              0.1142        0.1130   331863    1.09%          rho_26 U  74050  74049     93\n",
      "  82080 18674        0.1137     5        0.1142        0.1130   371956    1.09%           rho_4 D  82080  82078     67\n",
      "  90591 19496        cutoff              0.1142        0.1130   416510    1.09%           rho_0 U  90591  90590     89\n",
      "  99703 20725        cutoff              0.1142        0.1130   453943    1.09%           rho_6 D  99703  99701     98\n",
      " 108906 23816        0.1130     5        0.1142        0.1130   494480    1.09%           rho_4 D 108906 108905     39\n",
      " 118998 26636        0.1136     6        0.1142        0.1130   529402    1.09%          rho_14 D 118998 118996     64\n",
      " 126721 27202        cutoff              0.1142        0.1130   567884    1.09%          rho_10 U 126721 126720     62\n",
      "Elapsed time = 14.50 sec. (12638.69 ticks, tree = 7.11 MB, solutions = 3)\n",
      " 134028 27189        cutoff              0.1142        0.1130   605620    1.09%           rho_0 U 134028 134026     60\n",
      " 141668 27558        cutoff              0.1142        0.1130   646530    1.09%          rho_14 U 141668 141667     61\n",
      " 149290 29503        0.1130     2        0.1142        0.1130   688393    1.09%           rho_0 D 149290 149288     40\n",
      " 156663 30365        0.1131     1        0.1142        0.1130   726544    1.09%           rho_4 U 156663 156633     61\n",
      " 163719 32041        0.1137     6        0.1142        0.1130   768184    1.09%          rho_10 D 163719 163717     75\n",
      " 171516 33026        0.1130    14        0.1142        0.1130   805504    1.09%           rho_1 U 171516 171221     45\n",
      " 178766 33792        cutoff              0.1142        0.1130   843703    1.09%           rho_0 U 178766 178765     59\n",
      " 186147 34482        0.1131     3        0.1142        0.1130   880273    1.09%           rho_4 U 186147 186049     42\n",
      " 192820 34889        0.1136    11        0.1142        0.1130   919221    1.09%          rho_15 D 192820 192819     72\n",
      " 199219 37205        cutoff              0.1142        0.1130   958873    1.09%          rho_25 D 199219 199217     56\n",
      "Elapsed time = 22.88 sec. (22177.04 ticks, tree = 10.76 MB, solutions = 3)\n",
      " 206084 37272        0.1142     7        0.1142        0.1130   992134    1.09%          rho_23 D 206084 206082     46\n",
      " 213061 37676        0.1130     7        0.1142        0.1130  1033836    1.09%           rho_9 N 213061 213060     60\n",
      " 219993 38211        0.1134    13        0.1142        0.1130  1067940    1.09%           rho_0 D 219993 219991     53\n",
      " 226660 40134        0.1132     8        0.1142        0.1130  1108643    1.09%          rho_11 D 226660 226659     72\n",
      " 233137 41235        cutoff              0.1142        0.1130  1149602    1.09%           rho_1 U 233137 207958     61\n",
      " 239806 42984        cutoff              0.1142        0.1130  1192011    1.09%           rho_6 U 239806 239805     34\n",
      " 246823 44618        0.1130     8        0.1142        0.1130  1229036    1.09%          rho_15 D 246823 246822     38\n",
      " 253870 46185        0.1136     8        0.1142        0.1130  1264804    1.09%          rho_11 D 253870 253869     58\n",
      " 260276 46669        0.1130    11        0.1142        0.1130  1302805    1.09%           rho_1 D 260276 260275     88\n",
      " 266393 47577        0.1137     7        0.1142        0.1130  1340505    1.09%          rho_16 N 266393 266392     73\n",
      "Elapsed time = 31.16 sec. (31714.62 ticks, tree = 13.10 MB, solutions = 3)\n",
      " 273085 48743        0.1130     7        0.1142        0.1130  1374930    1.09%          rho_11 U 273085 273083     74\n",
      " 278990 50315        0.1130    13        0.1142        0.1130  1419506    1.09%           rho_4 D 278990 278989     42\n",
      " 284842 52021        0.1133    14        0.1142        0.1130  1461129    1.09%           rho_4 D 284842 284841     59\n",
      " 291145 53859        0.1130    12        0.1142        0.1130  1499563    1.09%           rho_9 D 291145 291144     54\n",
      " 297134 55217        cutoff              0.1142        0.1130  1538256    1.09%           rho_0 D 297134 297132     90\n",
      " 303062 56361        0.1140     5        0.1142        0.1130  1578256    1.09%           rho_6 U 303062 303061     59\n",
      " 308863 57256        0.1134    11        0.1142        0.1130  1623511    1.09%           rho_4 D 308863 308862     63\n",
      " 315707 58863        0.1132     8        0.1142        0.1130  1663070    1.09%           rho_8 D 315707 315705     51\n",
      " 321954 60306        0.1130    11        0.1142        0.1130  1703402    1.09%          rho_15 D 321954 321953     53\n",
      " 328033 61903        0.1130    10        0.1142        0.1130  1743847    1.09%           rho_1 D 328033 327785     67\n",
      "Elapsed time = 39.28 sec. (41252.17 ticks, tree = 16.30 MB, solutions = 3)\n",
      " 333900 63925        0.1140    10        0.1142        0.1130  1786073    1.09%           rho_8 D 333900 333899     44\n",
      " 339925 64797        0.1138     9        0.1142        0.1130  1822255    1.09%          rho_15 U 339925 275076     34\n",
      " 345955 66117        0.1137    10        0.1142        0.1130  1860736    1.09%           rho_0 U 345955 345954     91\n",
      " 352514 67579        0.1130     2        0.1142        0.1130  1899698    1.09%           rho_0 D 352514 352512     52\n",
      " 358711 67787        0.1130     8        0.1142        0.1130  1938760    1.09%          rho_25 D 358711 356746     53\n",
      " 365076 69024        cutoff              0.1142        0.1130  1975116    1.09%           rho_0 U 365076 365075     55\n",
      " 370607 69802        cutoff              0.1142        0.1130  2015153    1.09%           rho_1 D 370607 370606     67\n",
      " 376140 70670        0.1131     9        0.1142        0.1130  2055449    1.09%           rho_1 D 376140 376139     41\n",
      " 381334 72095        0.1133    13        0.1142        0.1130  2098674    1.09%          rho_11 D 381334 381333     33\n",
      " 386660 73062        0.1130    10        0.1142        0.1130  2140881    1.09%           rho_4 U 386660 372147     71\n",
      "Elapsed time = 46.97 sec. (50790.82 ticks, tree = 21.74 MB, solutions = 3)\n",
      " 391900 74516        0.1130    10        0.1142        0.1130  2185389    1.09%          rho_11 U 391900 391898     33\n",
      " 397598 76106        0.1130     7        0.1142        0.1130  2227858    1.09%          rho_11 U 397598 397591     40\n",
      " 403392 77211        0.1139     6        0.1142        0.1130  2267347    1.09%           rho_1 U 403392 311744     48\n",
      " 409699 78060        0.1140     6        0.1142        0.1130  2302052    1.09%           rho_0 D 409699 409697     58\n",
      " 415990 79489        0.1138    12        0.1142        0.1130  2341239    1.09%          rho_15 D 415990 415989     85\n",
      " 421680 81253        0.1130     9        0.1142        0.1130  2382842    1.09%           rho_4 N 421680 421669     48\n",
      " 427134 83321        0.1130     9        0.1142        0.1130  2424950    1.09%          rho_11 U 427134 427132     69\n",
      " 432715 84733        cutoff              0.1142        0.1130  2465443    1.09%          rho_15 U 432715 432714     58\n",
      " 438849 85257        0.1137     9        0.1142        0.1130  2501960    1.09%          rho_25 D 438849 438649     47\n",
      " 444793 86677        0.1136    15        0.1142        0.1130  2540777    1.09%          rho_11 D 444793 444792     69\n",
      "Elapsed time = 54.34 sec. (60328.98 ticks, tree = 24.84 MB, solutions = 3)\n",
      " 450905 87961        0.1139    13        0.1142        0.1130  2577476    1.09%          rho_11 D 450905 450904     70\n",
      " 457370 88681        0.1139    13        0.1142        0.1130  2612780    1.09%           rho_5 D 457370 457369     36\n",
      " 463307 90409        0.1139    10        0.1142        0.1130  2656096    1.09%           rho_6 D 463307 463305     51\n",
      " 469303 92217        0.1130     7        0.1142        0.1130  2699032    1.09%          rho_11 U 469303 469301     56\n",
      " 475211 93741        0.1137     6        0.1142        0.1130  2742507    1.09%          rho_25 D 475211 475210     59\n",
      " 480703 94095        0.1136     4        0.1142        0.1130  2778638    1.09%          rho_23 D 480703 480702     44\n",
      " 486050 94758        cutoff              0.1142        0.1130  2815626    1.09%           rho_0 D 486050 486048     70\n",
      " 492091 96198        0.1130     9        0.1142        0.1130  2855887    1.09%           rho_4 N 492091 491534     44\n",
      " 497268 97531        0.1139    11        0.1142        0.1130  2900532    1.09%           rho_6 U 497268 497267     67\n",
      " 502870 98449        0.1140     5        0.1142        0.1130  2940191    1.09%           rho_7 D 502870 502869     71\n",
      "Elapsed time = 62.14 sec. (69867.10 ticks, tree = 27.44 MB, solutions = 3)\n",
      " 509027 99338        cutoff              0.1142        0.1130  2973465    1.09%          rho_16 U 509027 509026     26\n",
      " 514526 100674        0.1130    14        0.1142        0.1130  3013217    1.09%          rho_11 D 514526 514525     71\n",
      " 520835 102547        0.1130     4        0.1142        0.1130  3049770    1.09%          rho_11 U 520835 520833     65\n",
      " 527213 104807        cutoff              0.1142        0.1130  3087503    1.09%           rho_0 U 527213 527212     75\n",
      " 533200 106552        0.1140     9        0.1142        0.1130  3125822    1.09%           rho_6 D 533200 533198     27\n",
      " 539355 108263        0.1130    13        0.1142        0.1130  3166264    1.09%           rho_1 U 539355 538829     39\n",
      " 546707 110009        0.1131     4        0.1142        0.1130  3198345    1.08%           rho_4 D 546707 187275     95\n",
      " 554880 113985        0.1136     9        0.1142        0.1130  3226044    1.06%           rho_6 D 554880 554879     28\n",
      " 562456 115557        cutoff              0.1142        0.1130  3253392    1.05%          rho_14 D 562456 562455     44\n",
      " 570833 117062        0.1135    12        0.1142        0.1130  3283588    1.03%           rho_4 N 570833 556569     56\n",
      "Elapsed time = 69.00 sec. (79404.97 ticks, tree = 31.52 MB, solutions = 3)\n",
      " 577400 116694        0.1141     5        0.1142        0.1130  3312987    1.02%          rho_25 D 577400 577399     83\n",
      " 584747 118441        0.1131    11        0.1142        0.1131  3340704    1.00%           rho_0 D 584747 584745     38\n",
      " 592486 120892        cutoff              0.1142        0.1131  3364881    0.99%           rho_4 U 592486 592485     94\n",
      " 600640 122248        0.1131     6        0.1142        0.1131  3394944    0.98%          rho_11 U 600640 600638     90\n",
      " 607773 123197        0.1140     9        0.1142        0.1131  3427059    0.98%          rho_16 U 607773 394013     43\n",
      " 615323 124746        0.1138    14        0.1142        0.1131  3454183    0.97%          rho_11 D 615323 615322     81\n",
      " 622808 125602        cutoff              0.1142        0.1131  3481385    0.96%          rho_25 D 622808 622807     46\n",
      " 630350 126641        cutoff              0.1142        0.1131  3506981    0.96%           rho_9 U 630350 630349     47\n",
      " 638279 127853        0.1135     9        0.1142        0.1131  3533566    0.95%           rho_6 D 638279 638277     51\n",
      " 667461 136042        0.1131     9        0.1142        0.1131  3646113    0.92%           rho_1 D 667461 631029     89\n",
      "Elapsed time = 78.39 sec. (91803.45 ticks, tree = 38.69 MB, solutions = 3)\n",
      " 693827 135417        0.1140    11        0.1142        0.1132  3765961    0.87%          rho_15 D 693827 693826     71\n",
      " 720970 131180        0.1142     7        0.1142        0.1132  3887797    0.84%           rho_6 D 720970 720969     72\n",
      " 749552 132263        cutoff              0.1142        0.1133  3992864    0.81%          rho_16 U 749552 749551     57\n",
      " 779642 132758        0.1137     5        0.1142        0.1133  4098012    0.78%          rho_11 D 779642 779640     51\n",
      " 807055 131253        cutoff              0.1142        0.1133  4208909    0.76%          rho_23 U 807055 459667     82\n",
      " 833540 131508        0.1134    16        0.1142        0.1134  4314675    0.73%           rho_0 D 833540 833504     44\n",
      " 862625 130213        cutoff              0.1142        0.1134  4418083    0.70%           rho_0 U 862625 862624     80\n",
      " 890830 132263        0.1134     9        0.1142        0.1134  4521820    0.67%           rho_4 D 890830 826857     64\n",
      " 920232 126668        0.1138    10        0.1142        0.1135  4639416    0.64%           rho_1 U 920232 920231     76\n",
      " 948327 127603        0.1135     9        0.1142        0.1135  4737128    0.62%           rho_0 D 948327 947524     25\n",
      "Elapsed time = 105.73 sec. (129951.21 ticks, tree = 36.82 MB, solutions = 3)\n",
      " 977862 133279        cutoff              0.1142        0.1135  4828536    0.59%          rho_25 U 977862 977861     60\n",
      " 1003906 129217        0.1139     8        0.1142        0.1136  4949685    0.55%           rho_4 D 1003906 977029     57\n",
      " 1033000 126171        0.1136     6        0.1142        0.1136  5057648    0.52%          rho_11 D 1033000 1032998     37\n",
      " 1062290 123529        0.1141    13        0.1142        0.1137  5166859    0.48%           rho_6 D 1062290 1062288     81\n",
      " 1091389 120102        cutoff              0.1142        0.1137  5263708    0.45%           rho_6 U 1091389 345364     50\n",
      " 1123035 113879        cutoff              0.1142        0.1137  5372047    0.42%           rho_7 U 1123035 436920     80\n",
      " 1151944 107312        0.1139     8        0.1142        0.1138  5483283    0.39%           rho_4 U 1151944 1009481     35\n",
      " 1181023 98284        0.1139     8        0.1142        0.1138  5588731    0.36%          rho_14 D 1181023 1181021     41\n",
      " 1212403 85371        0.1138     6        0.1142        0.1138  5692827    0.32%           rho_1 D 1212403 1007360     62\n",
      " 1242739 71313        cutoff              0.1142        0.1139  5800060    0.26%          rho_15 U 1242739 1242737     67\n",
      "Elapsed time = 130.88 sec. (168098.90 ticks, tree = 24.34 MB, solutions = 3)\n",
      " 1275749 58119        cutoff              0.1142        0.1140  5904754    0.22%           rho_0 U 1275749 160172     59\n",
      " 1306524 40997        cutoff              0.1142        0.1140  6000970    0.16%           rho_4 U 1306524 389190     76\n",
      " 1334732 20008        cutoff              0.1142        0.1141  6089442    0.09%           rho_8 D 1334732 1171968     59\n",
      "\n",
      "User cuts applied:  161\n",
      "\n",
      "Root node processing (before b&c):\n",
      "  Real time             =    0.08 sec. (1.21 ticks)\n",
      "Sequential b&c:\n",
      "  Real time             =  139.55 sec. (182665.67 ticks)\n",
      "                          ------------\n",
      "Total (root+branch&cut) =  139.63 sec. (182666.88 ticks)\n",
      "+----------------------------------------------+------------------+-----------+\n",
      "| Pr(Y = +1) = 1.0/(1.0 + exp(-(-6 + score))   |                  |           |\n",
      "| ============================================ | ================ | ========= |\n",
      "| p_felony>=1                                  |         1 points |   + ..... |\n",
      "| p_misdemeanor>=1                             |         1 points |   + ..... |\n",
      "| p_drug>=1                                    |         1 points |   + ..... |\n",
      "| p_pending_charge>=1                          |         1 points |   + ..... |\n",
      "| ============================================ | ================ | ========= |\n",
      "| ADD POINTS FROM ROWS 1 to 4                  |            SCORE |   = ..... |\n",
      "+----------------------------------------------+------------------+-----------+\n",
      "model_id, score_thresholds 0 {'rank_abs': [0]}\n",
      "get_disparity_predefined_group()\n"
     ]
    },
    {
     "name": "stderr",
     "output_type": "stream",
     "text": [
      "C:\\Users\\binha\\Documents\\Duke\\Cynthia Research\\psa-analysis - test2\\utils\\fairness_functions.py:82: RuntimeWarning:\n",
      "\n",
      "invalid value encountered in longlong_scalars\n",
      "\n",
      "C:\\Users\\binha\\Documents\\Duke\\Cynthia Research\\psa-analysis - test2\\utils\\fairness_functions.py:95: RuntimeWarning:\n",
      "\n",
      "divide by zero encountered in longlong_scalars\n",
      "\n",
      "C:\\Users\\binha\\Documents\\Duke\\Cynthia Research\\psa-analysis - test2\\utils\\fairness_functions.py:86: RuntimeWarning:\n",
      "\n",
      "invalid value encountered in longlong_scalars\n",
      "\n",
      "C:\\Users\\binha\\Documents\\Duke\\Cynthia Research\\psa-analysis - test2\\utils\\fairness_functions.py:95: RuntimeWarning:\n",
      "\n",
      "invalid value encountered in longlong_scalars\n",
      "\n"
     ]
    },
    {
     "name": "stdout",
     "output_type": "stream",
     "text": [
      "setting c0 = 0.0 to ensure that intercept is not penalized\n",
      "10/01/19 @ 05:05 PM | 1141 rows in lookup table\n",
      "10/01/19 @ 05:05 PM | ------------------------------------------------------------\n",
      "10/01/19 @ 05:05 PM | runnning initialization procedure\n",
      "10/01/19 @ 05:05 PM | ------------------------------------------------------------\n",
      "10/01/19 @ 05:05 PM | CPA produced 2 cuts\n",
      "10/01/19 @ 05:05 PM | running naive rounding on 90 solutions\n",
      "10/01/19 @ 05:05 PM | best objective value: 0.1124\n",
      "10/01/19 @ 05:05 PM | rounding produced 4 integer solutions\n",
      "10/01/19 @ 05:05 PM | best objective value is 0.1135\n",
      "10/01/19 @ 05:05 PM | running sequential rounding on 90 solutions\n",
      "10/01/19 @ 05:05 PM | best objective value: 0.1124\n",
      "10/01/19 @ 05:05 PM | sequential rounding produced 4 integer solutions\n",
      "10/01/19 @ 05:05 PM | best objective value: 0.1135\n",
      "10/01/19 @ 05:05 PM | polishing 8 solutions\n",
      "10/01/19 @ 05:05 PM | best objective value: 0.1135\n",
      "10/01/19 @ 05:05 PM | polishing produced 5 integer solutions\n",
      "10/01/19 @ 05:05 PM | initialization produced 7 feasible solutions\n",
      "10/01/19 @ 05:05 PM | best objective value: 0.1135\n",
      "10/01/19 @ 05:05 PM | ------------------------------------------------------------\n",
      "10/01/19 @ 05:05 PM | completed initialization procedure\n",
      "10/01/19 @ 05:05 PM | ------------------------------------------------------------\n",
      "10/01/19 @ 05:05 PM | 1141 rows in lookup table\n",
      "CPXPARAM_Read_DataCheck                          1\n",
      "CPXPARAM_Threads                                 1\n",
      "CPXPARAM_Parallel                                1\n",
      "CPXPARAM_RandomSeed                              0\n",
      "CPXPARAM_TimeLimit                               200\n",
      "CPXPARAM_MIP_Tolerances_LowerCutoff              0.112206489918332\n",
      "CPXPARAM_MIP_Tolerances_UpperCutoff              0.11346102949900772\n"
     ]
    },
    {
     "name": "stderr",
     "output_type": "stream",
     "text": [
      "Warning: Control callbacks may disable some MIP features.\n"
     ]
    },
    {
     "name": "stdout",
     "output_type": "stream",
     "text": [
      "Lazy constraint(s) or lazy constraint callback is present.\n",
      "    Disabling dual reductions (CPX_PARAM_REDUCE) in presolve.\n",
      "    Disabling non-linear reductions (CPX_PARAM_PRELINEAR) in presolve.\n",
      "         Disabling repeat represolve because of lazy constraint/incumbent callback.\n",
      "10/01/19 @ 05:05 PM | adding 242 initial cuts\n",
      "1 of 1 MIP starts provided solutions.\n",
      "MIP start 'mip_start_0' defined initial solution with objective 0.1135.\n",
      "Tried aggregator 1 time.\n",
      "Reduced MIP has 28 rows, 56 columns, and 107 nonzeros.\n",
      "Reduced MIP has 26 binaries, 28 generals, 0 SOSs, and 0 indicators.\n",
      "Presolve time = 0.00 sec. (0.06 ticks)\n",
      "Probing time = 0.00 sec. (0.02 ticks)\n",
      "MIP emphasis: balance optimality and feasibility.\n",
      "MIP search method: traditional branch-and-cut.\n",
      "Parallel mode: none, using 1 thread.\n",
      "Root relaxation solution time = 0.00 sec. (0.04 ticks)\n",
      "\n",
      "        Nodes                                         Cuts/\n",
      "   Node  Left     Objective  IInf  Best Integer    Best Bound    ItCnt     Gap         Variable B NodeID Parent  Depth\n",
      "\n",
      "*     0+    0                            0.1135        0.1122             1.11%\n",
      "      0     0        0.1122     1        0.1135        0.1122        1    1.11%\n",
      "      0     2        0.1122     1        0.1135        0.1122        1    1.11%                        0             0\n",
      "Elapsed time = 0.06 sec. (1.18 ticks, tree = 0.01 MB, solutions = 1)\n",
      "   3800  1554        0.1122     5        0.1135        0.1122    12438    1.11%          rho_11 D   3800   3798     19\n",
      "   6630  2759        0.1129     7        0.1135        0.1122    25231    1.11%          rho_10 D   6630   6629     78\n",
      "   9049  3894        0.1128    11        0.1135        0.1122    35541    1.11%           rho_8 D   9049   9048     63\n",
      "  11407  5029        0.1130    11        0.1135        0.1122    45926    1.11%           rho_9 U  11407  11406     40\n",
      "  13761  6195        0.1122     1        0.1135        0.1122    56539    1.11%          rho_15 U  13761  10185     57\n",
      "  16227  7451        0.1122     6        0.1135        0.1122    67771    1.11%          rho_11 D  16227  16226     21\n",
      "  19007  8741        0.1122     7        0.1135        0.1122    79237    1.11%           rho_3 D  19007  19006     82\n",
      "  21724 10079        0.1122     6        0.1135        0.1122    91227    1.11%           rho_8 D  21724  21722     73\n",
      "  24445 11348        0.1122     1        0.1135        0.1122   102893    1.11%          rho_11 U  24445  24443     56\n",
      "  33578 14182        0.1122    11        0.1135        0.1122   150996    1.11%           rho_0 D  33578  33576     71\n",
      "Elapsed time = 3.69 sec. (3101.18 ticks, tree = 3.63 MB, solutions = 1)\n",
      "  42186 16731        cutoff              0.1135        0.1122   197447    1.11%           rho_3 D  42186  42185     29\n",
      "* 50856 18635      integral     0        0.1135        0.1122   239363    1.10%\n",
      "  50860 18639        0.1122     8        0.1135        0.1122   239386    1.10%           rho_8 D  50860  50859     40\n",
      "  58484 19972        cutoff              0.1135        0.1122   283802    1.10%           rho_3 U  58484  58377     25\n",
      "  67114 22630        cutoff              0.1135        0.1122   326407    1.10%          rho_26 U  67114  66916     34\n",
      "  75031 25032        0.1129     7        0.1135        0.1122   369608    1.10%          rho_18 D  75031  75029     88\n",
      "  82068 26554        0.1133     7        0.1135        0.1122   412066    1.10%           rho_4 D  82068  82067     58\n",
      "  89415 29066        0.1128     7        0.1135        0.1122   453610    1.10%          rho_18 D  89415  89414     83\n",
      "  96439 31333        0.1122     5        0.1135        0.1122   498752    1.10%           rho_0 D  96439  96437     36\n",
      " 103395 33553        0.1122     7        0.1135        0.1122   541020    1.10%           rho_9 D 103395 103393     95\n",
      " 110683 35184        0.1132     7        0.1135        0.1122   582139    1.10%          rho_24 D 110683 110682     59\n",
      "Elapsed time = 12.17 sec. (12638.43 ticks, tree = 10.32 MB, solutions = 2)\n",
      " 118112 37406        0.1127     5        0.1135        0.1122   624695    1.10%           rho_2 D 118112 118111     60\n",
      " 124504 39631        0.1122     8        0.1135        0.1122   671674    1.10%          rho_15 D 124504 118603     45\n",
      " 131364 41274        0.1135     6        0.1135        0.1122   712887    1.10%          rho_16 N 131364 131362     57\n",
      " 138630 42857        0.1122     5        0.1135        0.1122   750820    1.10%           rho_0 D 138630 138628     46\n",
      " 145864 44280        0.1133     5        0.1135        0.1122   788390    1.10%           rho_1 N 145864 145825     75\n",
      " 153057 45998        0.1132     8        0.1135        0.1122   826255    1.10%          rho_25 N 153057 153033     47\n",
      " 160014 47051        0.1131     8        0.1135        0.1122   865806    1.10%           rho_0 D 160014 160012     63\n",
      " 167104 48205        0.1122     6        0.1135        0.1122   906358    1.10%           rho_5 U 167104 167086     18\n",
      " 173742 48799        0.1122     5        0.1135        0.1122   948519    1.10%          rho_11 U 173742 173740     47\n",
      " 180309 49691        cutoff              0.1135        0.1122   989682    1.10%           rho_8 U 180309 180308     60\n",
      "Elapsed time = 19.56 sec. (22175.92 ticks, tree = 13.51 MB, solutions = 2)\n",
      " 187147 50702        0.1124    10        0.1135        0.1122  1028785    1.10%           rho_4 D 187147 187146     45\n",
      " 193472 52536        0.1122     6        0.1135        0.1122  1073649    1.10%          rho_11 U 193472 193470     59\n",
      " 200030 54704        0.1134     5        0.1135        0.1122  1117431    1.10%           rho_3 N 200030 200029     33\n",
      " 206660 55641        0.1133     2        0.1135        0.1122  1155652    1.10%          rho_26 D 206660 206659     66\n",
      " 213611 57993        0.1133     6        0.1135        0.1122  1192923    1.10%           rho_1 N 213611 213610     84\n",
      " 220218 59205        0.1122     6        0.1135        0.1122  1228757    1.10%          rho_25 D 220218 220217     90\n",
      " 226933 60390        0.1122     6        0.1135        0.1122  1265398    1.10%           rho_8 D 226933 226931     53\n",
      " 233599 61568        0.1126     9        0.1135        0.1122  1301953    1.10%           rho_6 D 233599 233597     77\n",
      " 240271 62803        cutoff              0.1135        0.1122  1337581    1.10%           rho_0 D 240271 240269     74\n",
      " 247133 64059        0.1133    11        0.1135        0.1122  1373207    1.10%          rho_11 U 247133 247131     23\n",
      "Elapsed time = 26.84 sec. (31713.52 ticks, tree = 16.65 MB, solutions = 2)\n",
      " 253845 65312        0.1132     8        0.1135        0.1122  1408416    1.10%           rho_0 D 253845 253843     39\n",
      " 260201 65822        0.1131    10        0.1135        0.1122  1443854    1.10%          rho_12 D 260201 260200     48\n",
      " 266756 67163        0.1131     8        0.1135        0.1122  1480015    1.10%           rho_0 D 266756 266754     72\n",
      " 273347 67783        cutoff              0.1135        0.1122  1517324    1.10%           rho_3 U 273347 273324     82\n",
      " 280034 68447        cutoff              0.1135        0.1122  1554208    1.10%           rho_0 D 280034 280032     82\n",
      " 286819 69560        0.1122     6        0.1135        0.1122  1592742    1.10%           rho_8 D 286819 286817     43\n",
      " 293082 70714        cutoff              0.1135        0.1122  1632202    1.10%          rho_16 U 293082 293066     47\n",
      " 299370 71508        cutoff              0.1135        0.1122  1670831    1.10%           rho_0 U 299370 299369     32\n",
      " 305954 72165        0.1134     3        0.1135        0.1122  1709758    1.10%           rho_7 D 305954 305953     67\n",
      " 312570 72739        0.1134     6        0.1135        0.1122  1748657    1.10%          rho_13 U 312570 312568     58\n",
      "Elapsed time = 34.33 sec. (41251.53 ticks, tree = 21.44 MB, solutions = 2)\n",
      " 319133 73082        cutoff              0.1135        0.1122  1787585    1.10%           rho_9 U 319133 319132     72\n",
      " 325740 73718        0.1134     5        0.1135        0.1122  1826663    1.10%          rho_12 D 325740 325739     52\n",
      " 333020 75880        0.1128     9        0.1135        0.1122  1863604    1.10%           rho_1 U 333020 333005     63\n",
      " 340296 78273        cutoff              0.1135        0.1122  1898767    1.10%           rho_0 U 340296 340295     54\n",
      " 347233 80061        cutoff              0.1135        0.1122  1932927    1.10%          rho_16 D 347233 347231     36\n",
      " 352999 80619        0.1125    12        0.1135        0.1122  1972710    1.10%           rho_4 U 352999 352990     76\n",
      " 359240 81467        0.1131     7        0.1135        0.1122  2011297    1.10%           rho_0 D 359240 359238     38\n",
      " 365035 82885        0.1130     5        0.1135        0.1122  2051449    1.10%           rho_1 U 365035  76665     33\n",
      " 370896 83581        cutoff              0.1135        0.1122  2092018    1.10%          rho_23 U 370896 370782     45\n",
      " 376967 84216        cutoff              0.1135        0.1122  2132660    1.10%           rho_1 U 376967 376962     61\n",
      "Elapsed time = 43.81 sec. (50790.39 ticks, tree = 24.15 MB, solutions = 2)\n",
      " 382868 85483        cutoff              0.1135        0.1122  2172033    1.10%           rho_4 U 382868 134388     36\n",
      " 389130 86658        cutoff              0.1135        0.1122  2208945    1.10%          rho_23 U 389130 389123     62\n",
      " 395229 88146        cutoff              0.1135        0.1122  2247711    1.10%          rho_25 U 395229 395228     40\n",
      " 401318 90141        cutoff              0.1135        0.1122  2287177    1.10%          rho_25 U 401318 401317     45\n",
      " 407200 91833        0.1129     8        0.1135        0.1122  2327664    1.10%          rho_14 D 407200 407180     51\n",
      " 413224 92859        0.1133    10        0.1135        0.1122  2366689    1.10%           rho_7 D 413224 413223     30\n",
      " 419032 93230        0.1122     8        0.1135        0.1122  2407552    1.10%           rho_4 D 419032 419031     88\n",
      " 424810 93417        0.1130     7        0.1135        0.1122  2447861    1.10%           rho_2 D 424810 424808     65\n",
      " 431280 94713        0.1122    15        0.1135        0.1122  2484320    1.10%           rho_7 D 431280 431279     37\n",
      " 436862 95053        0.1133     8        0.1135        0.1122  2523541    1.10%          rho_15 U 436862 436854     63\n",
      "Elapsed time = 52.27 sec. (60329.29 ticks, tree = 26.68 MB, solutions = 2)\n",
      " 442042 95709        0.1123     9        0.1135        0.1122  2563244    1.10%           rho_4 D 442042 442041     42\n",
      " 447460 96941        0.1130    10        0.1135        0.1122  2601741    1.10%           rho_8 D 447460 447459     49\n",
      " 453263 98350        0.1127    11        0.1135        0.1122  2640400    1.10%           rho_0 D 453263 453261     49\n",
      " 459299 99970        0.1122     9        0.1135        0.1122  2678174    1.10%           rho_4 D 459299 459281     60\n",
      " 465279 101529        0.1128     9        0.1135        0.1122  2717151    1.10%           rho_9 D 465279 465278     54\n",
      " 471159 102476        0.1123    12        0.1135        0.1122  2755998    1.10%           rho_7 D 471159 471158     65\n",
      " 476635 103511        0.1133     9        0.1135        0.1122  2796297    1.10%           rho_0 U 476635 476634     51\n",
      " 482382 104572        0.1123    14        0.1135        0.1122  2834848    1.10%           rho_7 D 482382 482381     43\n",
      " 488477 106492        0.1124    15        0.1135        0.1122  2871150    1.10%          rho_14 D 488477 488476     43\n",
      " 494533 108220        cutoff              0.1135        0.1122  2910543    1.10%          rho_13 U 494533 494526     77\n",
      "Elapsed time = 60.81 sec. (69866.98 ticks, tree = 29.72 MB, solutions = 2)\n",
      " 500654 110008        0.1132     8        0.1135        0.1122  2950279    1.10%           rho_4 U 500654 500628     52\n",
      " 506304 110952        cutoff              0.1135        0.1122  2987639    1.10%          rho_14 U 506304 176538     58\n",
      " 511903 112337        cutoff              0.1135        0.1122  3024917    1.10%           rho_0 U 511903 511902     29\n",
      " 517996 114487        0.1124    10        0.1135        0.1122  3060662    1.10%          rho_13 U 517996 517994     62\n",
      " 523905 116341        0.1122     7        0.1135        0.1122  3096498    1.10%           rho_8 D 523905 523883     74\n",
      " 529530 117541        0.1126    10        0.1135        0.1122  3133553    1.10%          rho_15 D 529530 529529     35\n",
      " 535190 118717        0.1129     9        0.1135        0.1122  3170376    1.10%          rho_16 D 535190 535189     45\n",
      " 540743 119308        cutoff              0.1135        0.1122  3207902    1.10%          rho_13 U 540743  46387     64\n",
      " 546554 120667        0.1130    13        0.1135        0.1122  3244415    1.10%           rho_7 D 546554 546553     65\n",
      " 552289 122090        0.1132     6        0.1135        0.1122  3281176    1.10%          rho_16 D 552289 552288     55\n",
      "Elapsed time = 69.00 sec. (79404.42 ticks, tree = 32.86 MB, solutions = 2)\n",
      " 558292 123574        0.1131    10        0.1135        0.1122  3316500    1.10%           rho_1 N 558292 558291     65\n",
      " 563933 125404        0.1127     7        0.1135        0.1122  3354172    1.10%           rho_7 U 563933 563932     61\n",
      " 569488 126852        cutoff              0.1135        0.1122  3390660    1.10%          rho_16 D 569488 569487     40\n",
      " 574907 128102        cutoff              0.1135        0.1122  3427950    1.10%           rho_1 U 574907 574906     56\n",
      " 580315 129612        0.1128    12        0.1135        0.1122  3463703    1.10%          rho_14 N 580315 519520     43\n",
      " 585524 131111        0.1126    14        0.1135        0.1122  3501133    1.10%          rho_15 D 585524 585523     24\n",
      " 591060 132409        0.1122    10        0.1135        0.1122  3537514    1.10%           rho_9 U 591060 544773     80\n",
      " 596516 133817        0.1134     6        0.1135        0.1122  3573598    1.10%           rho_7 U 596516 596513     53\n",
      " 602020 135343        0.1133     6        0.1135        0.1122  3608308    1.10%           rho_7 U 602020 602018     73\n",
      " 627591 140205        0.1132     6        0.1135        0.1123  3722689    1.06%           rho_4 D 627591 627589     77\n",
      "Elapsed time = 79.48 sec. (91803.19 ticks, tree = 40.00 MB, solutions = 2)\n",
      " 654335 144578        0.1132    10        0.1135        0.1123  3828319    1.01%           rho_8 D 654335 654333     71\n",
      " 681289 150920        0.1130    11        0.1135        0.1123  3928664    0.99%          rho_16 D 681289 681288     82\n",
      " 707250 153765        cutoff              0.1135        0.1124  4039939    0.97%           rho_1 U 707250  33826     75\n",
      " 731877 155971        cutoff              0.1135        0.1124  4158637    0.94%          rho_23 D 731877 731875     66\n",
      " 757707 157743        0.1134    13        0.1135        0.1124  4282349    0.91%           rho_1 D 757707 757706     49\n",
      " 784300 159798        0.1129     9        0.1135        0.1125  4403169    0.89%           rho_1 D 784300 784299     34\n",
      " 809024 162841        0.1129    16        0.1135        0.1125  4526766    0.87%          rho_13 U 809024 794925     48\n",
      " 833318 164174        0.1128     8        0.1135        0.1125  4636531    0.84%           rho_0 D 833318 504385     44\n",
      " 858830 163609        cutoff              0.1135        0.1125  4752870    0.82%          rho_13 U 858830 516597     63\n",
      " 884873 165190        cutoff              0.1135        0.1126  4875857    0.79%           rho_4 U 884873 242151     43\n",
      "Elapsed time = 108.34 sec. (129950.91 ticks, tree = 47.42 MB, solutions = 2)\n",
      " 910044 166233        0.1128     8        0.1135        0.1126  4992378    0.78%          rho_25 D 910044 910042     86\n",
      " 935391 163625        0.1131    14        0.1135        0.1126  5113157    0.74%          rho_15 D 935391 915630     52\n",
      " 961618 162708        cutoff              0.1135        0.1126  5234882    0.72%           rho_1 U 961618  90547     41\n",
      " 989333 155409        0.1133     4        0.1135        0.1127  5369020    0.68%           rho_9 U 989333 989332     62\n",
      " 1014600 152494        cutoff              0.1135        0.1127  5485928    0.66%          rho_13 U 1014600 1014599     79\n",
      " 1039685 149436        0.1133     5        0.1135        0.1127  5587944    0.64%           rho_2 D 1039685 1039684     54\n",
      " 1064451 144706        cutoff              0.1135        0.1128  5690660    0.62%           rho_7 D 1064451 1064450     52\n",
      " 1090426 140211        cutoff              0.1135        0.1128  5802602    0.58%           rho_2 U 1090426 1090424     59\n",
      " 1114003 134190        0.1132     8        0.1135        0.1128  5907249    0.56%          rho_14 D 1114003 1114002     52\n",
      " 1141005 128863        0.1132     8        0.1135        0.1129  6014928    0.52%           rho_7 N 1141005 504845     52\n",
      "Elapsed time = 136.67 sec. (168098.65 ticks, tree = 39.27 MB, solutions = 2)\n",
      " 1167004 120548        0.1129     8        0.1135        0.1129  6120579    0.48%           rho_0 D 1167004 1167002     62\n",
      " 1193679 117493        0.1131     5        0.1135        0.1129  6214293    0.45%          rho_25 N 1193679 1193677     71\n",
      " 1220407 111786        cutoff              0.1135        0.1130  6323984    0.42%           rho_0 D 1220407 1091390     71\n",
      " 1249019 100826        0.1130    10        0.1135        0.1130  6432196    0.38%           rho_4 D 1249019 1172550     74\n",
      " 1277929 90491        cutoff              0.1135        0.1131  6542746    0.34%          rho_16 U 1277929 1277928     46\n",
      " 1305548 82253        0.1132    10        0.1135        0.1131  6654864    0.31%           rho_4 D 1305548 1305547     50\n",
      " 1333623 69982        cutoff              0.1135        0.1132  6772264    0.26%          rho_18 U 1333623 731481     36\n",
      " 1361089 54945        cutoff              0.1135        0.1132  6871898    0.22%          rho_13 U 1361089 1068201     65\n",
      " 1389559 37628        cutoff              0.1135        0.1133  6966404    0.16%          rho_12 U 1389559 280642     43\n",
      " 1417851 22365        cutoff              0.1135        0.1134  7054145    0.09%           rho_3 U 1417851 122124     82\n",
      "Elapsed time = 161.11 sec. (206246.61 ticks, tree = 15.29 MB, solutions = 2)\n",
      "\n",
      "User cuts applied:  172\n",
      "\n",
      "Root node processing (before b&c):\n",
      "  Real time             =    0.06 sec. (1.19 ticks)\n",
      "Sequential b&c:\n",
      "  Real time             =  162.86 sec. (209637.33 ticks)\n",
      "                          ------------\n",
      "Total (root+branch&cut) =  162.92 sec. (209638.52 ticks)\n",
      "+-----------------------------------------------+-------------------+-----------+\n",
      "| Pr(Y = +1) = 1.0/(1.0 + exp(-(-17 + score))   |                   |           |\n",
      "| ============================================= | ================= | ========= |\n",
      "| p_arrest>=1                                   |         11 points |   + ..... |\n",
      "| p_felony>=1                                   |          1 points |   + ..... |\n",
      "| p_misdemeanor>=1                              |          1 points |   + ..... |\n",
      "| p_drug>=1                                     |          1 points |   + ..... |\n",
      "| p_pending_charge>=1                           |          1 points |   + ..... |\n",
      "| ============================================= | ================= | ========= |\n",
      "| ADD POINTS FROM ROWS 1 to 5                   |             SCORE |   = ..... |\n",
      "+-----------------------------------------------+-------------------+-----------+\n",
      "model_id, score_thresholds 0 {'rank_abs': [0]}\n",
      "get_disparity_predefined_group()\n"
     ]
    },
    {
     "name": "stderr",
     "output_type": "stream",
     "text": [
      "C:\\Users\\binha\\Documents\\Duke\\Cynthia Research\\psa-analysis - test2\\utils\\fairness_functions.py:82: RuntimeWarning:\n",
      "\n",
      "invalid value encountered in longlong_scalars\n",
      "\n",
      "C:\\Users\\binha\\Documents\\Duke\\Cynthia Research\\psa-analysis - test2\\utils\\fairness_functions.py:95: RuntimeWarning:\n",
      "\n",
      "divide by zero encountered in longlong_scalars\n",
      "\n",
      "C:\\Users\\binha\\Documents\\Duke\\Cynthia Research\\psa-analysis - test2\\utils\\fairness_functions.py:86: RuntimeWarning:\n",
      "\n",
      "invalid value encountered in longlong_scalars\n",
      "\n",
      "C:\\Users\\binha\\Documents\\Duke\\Cynthia Research\\psa-analysis - test2\\utils\\fairness_functions.py:95: RuntimeWarning:\n",
      "\n",
      "invalid value encountered in longlong_scalars\n",
      "\n"
     ]
    },
    {
     "name": "stdout",
     "output_type": "stream",
     "text": [
      "setting c0 = 0.0 to ensure that intercept is not penalized\n",
      "10/01/19 @ 05:08 PM | 1141 rows in lookup table\n",
      "10/01/19 @ 05:08 PM | ------------------------------------------------------------\n",
      "10/01/19 @ 05:08 PM | runnning initialization procedure\n",
      "10/01/19 @ 05:08 PM | ------------------------------------------------------------\n",
      "10/01/19 @ 05:08 PM | CPA produced 2 cuts\n",
      "10/01/19 @ 05:08 PM | running naive rounding on 88 solutions\n",
      "10/01/19 @ 05:08 PM | best objective value: 0.1138\n",
      "10/01/19 @ 05:08 PM | rounding produced 3 integer solutions\n",
      "10/01/19 @ 05:08 PM | best objective value is 0.1149\n",
      "10/01/19 @ 05:08 PM | running sequential rounding on 88 solutions\n",
      "10/01/19 @ 05:08 PM | best objective value: 0.1138\n",
      "10/01/19 @ 05:08 PM | sequential rounding produced 4 integer solutions\n",
      "10/01/19 @ 05:08 PM | best objective value: 0.1149\n",
      "10/01/19 @ 05:08 PM | polishing 7 solutions\n",
      "10/01/19 @ 05:08 PM | best objective value: 0.1149\n",
      "10/01/19 @ 05:08 PM | polishing produced 5 integer solutions\n",
      "10/01/19 @ 05:08 PM | initialization produced 7 feasible solutions\n",
      "10/01/19 @ 05:08 PM | best objective value: 0.1149\n",
      "10/01/19 @ 05:08 PM | ------------------------------------------------------------\n",
      "10/01/19 @ 05:08 PM | completed initialization procedure\n",
      "10/01/19 @ 05:08 PM | ------------------------------------------------------------\n",
      "10/01/19 @ 05:08 PM | 1141 rows in lookup table\n",
      "CPXPARAM_Read_DataCheck                          1\n",
      "CPXPARAM_Threads                                 1\n",
      "CPXPARAM_Parallel                                1\n",
      "CPXPARAM_RandomSeed                              0\n",
      "CPXPARAM_TimeLimit                               200\n",
      "CPXPARAM_MIP_Tolerances_LowerCutoff              0.11356679796917001\n",
      "CPXPARAM_MIP_Tolerances_UpperCutoff              0.11487185562649088\n"
     ]
    },
    {
     "name": "stderr",
     "output_type": "stream",
     "text": [
      "Warning: Control callbacks may disable some MIP features.\n"
     ]
    },
    {
     "name": "stdout",
     "output_type": "stream",
     "text": [
      "Lazy constraint(s) or lazy constraint callback is present.\n",
      "    Disabling dual reductions (CPX_PARAM_REDUCE) in presolve.\n",
      "    Disabling non-linear reductions (CPX_PARAM_PRELINEAR) in presolve.\n",
      "         Disabling repeat represolve because of lazy constraint/incumbent callback.\n",
      "10/01/19 @ 05:08 PM | adding 249 initial cuts\n",
      "1 of 1 MIP starts provided solutions.\n",
      "MIP start 'mip_start_0' defined initial solution with objective 0.1149.\n",
      "Tried aggregator 1 time.\n",
      "Reduced MIP has 28 rows, 56 columns, and 107 nonzeros.\n",
      "Reduced MIP has 26 binaries, 28 generals, 0 SOSs, and 0 indicators.\n",
      "Presolve time = 0.02 sec. (0.06 ticks)\n",
      "Probing time = 0.00 sec. (0.02 ticks)\n",
      "MIP emphasis: balance optimality and feasibility.\n",
      "MIP search method: traditional branch-and-cut.\n",
      "Parallel mode: none, using 1 thread.\n",
      "Root relaxation solution time = 0.00 sec. (0.04 ticks)\n",
      "\n",
      "        Nodes                                         Cuts/\n",
      "   Node  Left     Objective  IInf  Best Integer    Best Bound    ItCnt     Gap         Variable B NodeID Parent  Depth\n",
      "\n",
      "*     0+    0                            0.1149        0.1136             1.14%\n",
      "      0     0        0.1136     1        0.1149        0.1136        1    1.14%\n",
      "      0     2        0.1136     1        0.1149        0.1136        1    1.14%                        0             0\n",
      "Elapsed time = 0.06 sec. (1.19 ticks, tree = 0.01 MB, solutions = 1)\n",
      "   3714  2156        0.1137    12        0.1149        0.1136    12662    1.14%          rho_10 D   3714   3713     47\n",
      "*  3810+ 2201                            0.1149        0.1136             1.14%\n",
      "   6351  3203        0.1136     4        0.1149        0.1136    23366    1.14%          rho_15 D   6351   6282     17\n",
      "   8670  4251        cutoff              0.1149        0.1136    35102    1.14%          rho_19 U   8670   8668     47\n",
      "  11024  5113        0.1136     1        0.1149        0.1136    45787    1.14%          rho_11 U  11024  11022     47\n",
      "  13406  5992        0.1144    13        0.1149        0.1136    56791    1.14%          rho_25 D  13406  13405     42\n",
      "* 13770+ 6122                            0.1149        0.1136             1.13%\n",
      "  15427  6881        0.1140    11        0.1149        0.1136    66161    1.13%           rho_7 D  15427  15426     36\n",
      "  18018  8003        0.1140    10        0.1149        0.1136    74792    1.13%          rho_14 D  18018  18016     71\n",
      "  20607  8751        0.1140     7        0.1149        0.1136    83778    1.13%          rho_23 D  20607  20605     83\n",
      "  23166  9464        cutoff              0.1149        0.1136    92412    1.13%           rho_6 U  23166  23165     64\n",
      "  33276 12256        cutoff              0.1149        0.1136   127314    1.13%           rho_0 D  33276  33275     51\n",
      "Elapsed time = 3.44 sec. (3100.99 ticks, tree = 3.16 MB, solutions = 3)\n",
      "  43100 14821        0.1137     7        0.1149        0.1136   162836    1.13%          rho_14 D  43100  43099     96\n",
      "  52129 16043        0.1136     2        0.1149        0.1136   199664    1.13%           rho_4 N  52129  25696     62\n",
      "  61335 17643        cutoff              0.1149        0.1136   237996    1.13%           rho_0 U  61335  61334     55\n",
      "  70375 20056        0.1146     9        0.1149        0.1136   278212    1.13%          rho_13 D  70375  70373     50\n",
      "  78143 20819        0.1136     7        0.1149        0.1136   318108    1.13%           rho_7 D  78143  78142     56\n",
      "  86458 23099        0.1136     6        0.1149        0.1136   361363    1.13%           rho_5 D  86458  86457     59\n",
      "  94909 25294        0.1144     5        0.1149        0.1136   403563    1.13%          rho_25 U  94909  24010     51\n",
      " 102580 27140        0.1136     6        0.1149        0.1136   444063    1.13%          rho_25 D 102580 102578     23\n",
      " 109630 28761        0.1146    10        0.1149        0.1136   485544    1.13%          rho_14 D 109630 109629     45\n",
      " 116050 30132        cutoff              0.1149        0.1136   526682    1.13%          rho_24 U 116050 116048     75\n",
      "Elapsed time = 14.30 sec. (12638.91 ticks, tree = 7.66 MB, solutions = 3)\n",
      " 122557 31370        0.1136    12        0.1149        0.1136   567487    1.13%           rho_4 U 122557 122556     43\n",
      " 129214 32104        0.1145     3        0.1149        0.1136   610196    1.13%          rho_23 D 129214 129212     59\n",
      " 136060 32650        0.1136     7        0.1149        0.1136   653888    1.13%           rho_1 D 136060 135802     26\n",
      " 142680 33916        0.1136     5        0.1149        0.1136   698141    1.13%           rho_4 U 142680 142646     41\n",
      " 149918 35045        0.1137     7        0.1149        0.1136   738643    1.13%          rho_25 U 149918 146672     27\n",
      " 156900 36226        0.1149     9        0.1149        0.1136   779260    1.13%           rho_9 U 156900 156899     34\n",
      " 163891 39917        0.1144     9        0.1149        0.1136   823596    1.13%           rho_0 D 163891 163889     67\n",
      " 170680 41318        0.1141     9        0.1149        0.1136   866181    1.13%          rho_18 D 170680 170679     82\n",
      " 177335 43328        0.1144     5        0.1149        0.1136   908973    1.13%          rho_23 D 177335 177334     37\n",
      " 184383 45743        0.1140     7        0.1149        0.1136   948292    1.13%          rho_16 D 184383 184382     39\n",
      "Elapsed time = 24.72 sec. (22176.70 ticks, tree = 12.45 MB, solutions = 3)\n",
      " 190860 46150        0.1145     7        0.1149        0.1136   985457    1.13%           rho_4 N 190860 190859     81\n",
      " 197235 47474        0.1136     5        0.1149        0.1136  1023716    1.13%           rho_4 D 197235 136725     54\n",
      " 203686 49538        0.1138    10        0.1149        0.1136  1063694    1.13%          rho_11 D 203686 203685     27\n",
      " 209678 51502        0.1145     5        0.1149        0.1136  1104057    1.13%           rho_6 U 209678 209677     55\n",
      " 215135 53355        0.1145     7        0.1149        0.1136  1146246    1.13%           rho_0 U 215135 215134     67\n",
      " 221654 55267        0.1139    11        0.1149        0.1136  1186165    1.13%           rho_4 D 221654 221653     30\n",
      " 228562 56513        0.1140     9        0.1149        0.1136  1220887    1.13%           rho_0 D 228562 228560     65\n",
      " 234606 57161        0.1143     5        0.1149        0.1136  1259173    1.13%          rho_14 D 234606 234605     27\n",
      " 240994 58810        0.1136     6        0.1149        0.1136  1297654    1.13%           rho_9 U 240994 124076     39\n",
      " 247591 60872        0.1141     9        0.1149        0.1136  1327363    1.13%           rho_8 D 247591 247590     61\n",
      "Elapsed time = 35.39 sec. (31714.19 ticks, tree = 15.88 MB, solutions = 3)\n",
      " 254079 62442        0.1138     9        0.1149        0.1136  1360649    1.13%          rho_14 D 254079 254077     40\n",
      " 260162 64015        0.1140     9        0.1149        0.1136  1394497    1.13%           rho_9 D 260162 260161     63\n",
      " 266624 64993        0.1144     7        0.1149        0.1136  1429792    1.13%           rho_3 D 266624 266622     58\n",
      " 273906 66525        0.1138    13        0.1149        0.1136  1464175    1.13%           rho_0 U 273906 273905     29\n",
      " 280215 67915        0.1142    11        0.1149        0.1136  1500098    1.13%           rho_7 D 280215 280213     36\n",
      " 286360 69495        0.1136     4        0.1149        0.1136  1536036    1.13%           rho_5 U 286360 286358     27\n",
      " 291953 71273        0.1146     4        0.1149        0.1136  1579049    1.13%          rho_10 U 291953 291952     95\n",
      " 296523 72218        0.1137    12        0.1149        0.1136  1622585    1.13%           rho_1 D 296523 237350     70\n",
      " 302177 73041        0.1147     5        0.1149        0.1136  1660661    1.13%          rho_18 D 302177 302176     84\n",
      " 307552 72787        0.1148    11        0.1149        0.1136  1699002    1.13%          rho_25 N 307552 207597     55\n",
      "Elapsed time = 44.73 sec. (41251.73 ticks, tree = 21.48 MB, solutions = 3)\n",
      " 313224 72731        cutoff              0.1149        0.1136  1735767    1.13%          rho_16 U 313224 183047     70\n",
      " 319331 73902        0.1137    10        0.1149        0.1136  1770454    1.13%          rho_15 U 319331 163271     57\n",
      " 325240 74909        0.1138     8        0.1149        0.1136  1806375    1.13%           rho_4 U 325240 314512     60\n",
      " 330781 76453        0.1136     8        0.1149        0.1136  1847274    1.13%          rho_11 U 330781 330779     85\n",
      " 336401 77765        0.1143    12        0.1149        0.1136  1887703    1.13%          rho_25 D 336401 336400     54\n",
      " 342514 79282        0.1144    13        0.1149        0.1136  1922879    1.13%           rho_8 D 342514 342513     61\n",
      " 348619 80036        0.1148     8        0.1149        0.1136  1958473    1.13%          rho_10 D 348619 348617     92\n",
      " 354419 81005        0.1145     8        0.1149        0.1136  1997365    1.13%           rho_0 U 354419 354418     76\n",
      " 359834 81322        0.1138    10        0.1149        0.1136  2037322    1.13%           rho_4 U 359834 359828     46\n",
      " 365478 81764        0.1142     5        0.1149        0.1136  2076773    1.13%           rho_3 D 365478 365477     63\n",
      "Elapsed time = 51.67 sec. (50790.04 ticks, tree = 23.60 MB, solutions = 3)\n",
      " 372146 83653        cutoff              0.1149        0.1136  2111534    1.13%          rho_10 U 372146 372137     41\n",
      " 378448 84952        0.1147     9        0.1149        0.1136  2146563    1.13%           rho_0 D 378448 378446     83\n",
      " 384598 86343        0.1141     6        0.1149        0.1136  2183759    1.13%           rho_1 U 384598 327820     57\n",
      " 390683 87253        0.1142    10        0.1149        0.1136  2222055    1.13%           rho_1 U 390683 307534     43\n",
      " 396645 87957        0.1145     8        0.1149        0.1136  2262945    1.13%          rho_26 D 396645 396643     39\n",
      " 402289 88067        cutoff              0.1149        0.1136  2301873    1.13%          rho_16 U 402289  41561     64\n",
      " 407271 88695        0.1136     9        0.1149        0.1136  2343679    1.13%          rho_11 U 407271 407269     75\n",
      " 411812 89159        0.1140    12        0.1149        0.1136  2386525    1.13%           rho_0 D 411812 411811     86\n",
      " 416385 91052        cutoff              0.1149        0.1136  2427863    1.13%           rho_9 U 416385 416384     50\n",
      " 421540 92126        0.1138     8        0.1149        0.1136  2468181    1.13%           rho_1 D 421540 421539     43\n",
      "Elapsed time = 58.83 sec. (60328.21 ticks, tree = 26.00 MB, solutions = 3)\n",
      " 426654 92747        0.1137    12        0.1149        0.1136  2509335    1.13%           rho_1 D 426654 426653     40\n",
      " 431584 92880        cutoff              0.1149        0.1136  2550111    1.13%          rho_10 D 431584 431583     52\n",
      " 437359 95186        0.1145     6        0.1149        0.1136  2588175    1.13%           rho_9 D 437359 437358     69\n",
      " 442880 96832        0.1136    11        0.1149        0.1136  2624938    1.13%           rho_0 D 442880 442799     50\n",
      " 447988 98318        0.1143    15        0.1149        0.1136  2663180    1.13%           rho_0 D 447988 447986     43\n",
      " 452669 99342        0.1139    11        0.1149        0.1136  2702944    1.13%          rho_12 D 452669 452667     23\n",
      " 457623 99727        0.1143    11        0.1149        0.1136  2742940    1.13%          rho_25 D 457623 457622     37\n",
      " 463283 101324        cutoff              0.1149        0.1136  2782231    1.13%           rho_3 D 463283 463282     69\n",
      " 468559 102683        0.1136    10        0.1149        0.1136  2822008    1.13%           rho_0 D 468559 468557     79\n",
      " 474126 105653        0.1143     9        0.1149        0.1136  2858602    1.13%           rho_1 D 474126 433607     54\n",
      "Elapsed time = 65.61 sec. (69866.35 ticks, tree = 29.16 MB, solutions = 3)\n",
      " 479460 106412        0.1139    11        0.1149        0.1136  2892855    1.13%          rho_12 D 479460 479458     87\n",
      " 485738 108307        0.1147     9        0.1149        0.1136  2930643    1.13%           rho_1 D 485738 485736     65\n",
      " 492570 111019        0.1145     6        0.1149        0.1136  2966784    1.13%          rho_18 D 492570 492569     77\n",
      " 497153 110438        0.1143     6        0.1149        0.1136  3007070    1.13%           rho_9 D 497153 497151     50\n",
      " 502777 112102        cutoff              0.1149        0.1136  3042338    1.13%           rho_9 U 502777 502776     58\n",
      " 507492 112301        0.1148     8        0.1149        0.1136  3080907    1.13%          rho_25 U 507492 507491     63\n",
      " 511230 113889        0.1143     7        0.1149        0.1136  3125430    1.13%          rho_11 D 511230 511229     53\n",
      " 517618 116031        cutoff              0.1149        0.1136  3155746    1.11%           rho_0 U 517618 517616     65\n",
      " 525009 117040        0.1142    10        0.1149        0.1136  3183461    1.10%           rho_7 D 525009 525007     64\n",
      " 531972 119084        0.1136    14        0.1149        0.1136  3214299    1.10%           rho_0 D 531972 531896     63\n",
      "Elapsed time = 73.69 sec. (79404.19 ticks, tree = 32.24 MB, solutions = 3)\n",
      " 538980 121541        0.1146     8        0.1149        0.1136  3242175    1.09%          rho_15 U 538980  71036     50\n",
      " 545698 123211        0.1145     8        0.1149        0.1136  3265558    1.08%           rho_4 U 545698 463920     30\n",
      " 551955 122720        0.1144     9        0.1149        0.1136  3288039    1.07%          rho_16 D 551955 551954     49\n",
      " 558546 124456        0.1141     9        0.1149        0.1137  3317619    1.05%          rho_16 D 558546 558544     48\n",
      " 564602 125053        0.1143    11        0.1149        0.1137  3349765    1.04%           rho_7 D 564602 564601     69\n",
      " 571673 128398        0.1145    11        0.1149        0.1137  3376642    1.03%           rho_4 D 571673 571672     37\n",
      " 578210 132448        0.1137    10        0.1149        0.1137  3396430    1.02%          rho_10 U 578210  23048     79\n",
      " 585832 133997        cutoff              0.1149        0.1137  3424697    1.02%          rho_14 U 585832 585831     66\n",
      " 593441 136006        0.1137    13        0.1149        0.1137  3454066    1.00%           rho_0 D 593441 216106     56\n",
      " 619571 142857        0.1147    11        0.1149        0.1138  3571079    0.97%          rho_10 D 619571 619569     24\n",
      "Elapsed time = 85.25 sec. (91803.00 ticks, tree = 40.66 MB, solutions = 3)\n",
      " 644995 144019        0.1146     9        0.1149        0.1138  3684472    0.92%          rho_25 U 644995 199960     22\n",
      " 671467 144703        cutoff              0.1149        0.1138  3790404    0.89%          rho_16 U 671467 671466     64\n",
      " 698267 148913        0.1140     9        0.1149        0.1139  3910898    0.88%           rho_1 N 698267 698265     48\n",
      " 725794 155779        0.1141    13        0.1149        0.1139  4019435    0.86%          rho_16 D 725794 725793     44\n",
      " 751687 156828        0.1147    12        0.1149        0.1139  4133380    0.83%          rho_16 D 751687 155272     65\n",
      " 776980 154028        0.1144     8        0.1149        0.1140  4248625    0.79%           rho_7 D 776980 776978     56\n",
      " 801191 157580        0.1140    22        0.1149        0.1140  4349443    0.76%           rho_0 D 801191 801189     59\n",
      " 828321 158606        0.1145    13        0.1149        0.1140  4456958    0.74%          rho_15 U 828321 451838     52\n",
      " 853390 158825        0.1147     9        0.1149        0.1141  4568572    0.71%          rho_25 N 853390 168258     57\n",
      " 877207 157149        cutoff              0.1149        0.1141  4682706    0.68%           rho_4 U 877207 877205     38\n",
      "Elapsed time = 115.77 sec. (129951.27 ticks, tree = 45.58 MB, solutions = 3)\n",
      " 901360 155538        cutoff              0.1149        0.1141  4795238    0.66%          rho_25 U 901360 622842     72\n",
      " 927147 148040        0.1146     8        0.1149        0.1141  4917362    0.63%           rho_4 U 927147 689729     23\n",
      " 952629 143269        cutoff              0.1149        0.1142  5036813    0.61%           rho_0 U 952629 952628     58\n",
      " 977739 139148        0.1144     9        0.1149        0.1142  5138873    0.58%          rho_15 N 977739 977738     50\n",
      " 1003811 130297        cutoff              0.1149        0.1143  5260740    0.54%           rho_4 U 1003811 1003809     70\n",
      " 1031277 119948        0.1145     4        0.1149        0.1143  5381187    0.50%          rho_10 N 1031277 230974     22\n",
      " 1055313 115518        0.1144     9        0.1149        0.1143  5500141    0.47%           rho_8 U 1055313 235075     45\n",
      " 1080627 116008        0.1148     1        0.1149        0.1143  5594623    0.45%          rho_19 U 1080627 1080626     82\n",
      " 1107465 109704        cutoff              0.1149        0.1144  5692707    0.42%           rho_4 U 1107465 1107463     50\n",
      " 1131600 107200        0.1147    16        0.1149        0.1144  5790491    0.39%           rho_6 D 1131600 1131599     70\n",
      "Elapsed time = 142.34 sec. (168098.94 ticks, tree = 34.38 MB, solutions = 3)\n",
      " 1158931 96056        cutoff              0.1149        0.1145  5892774    0.35%           rho_1 U 1158931 893620     46\n",
      " 1184473 80416        0.1145     9        0.1149        0.1145  6000855    0.31%          rho_10 D 1184473 805992     71\n",
      " 1211915 66722        0.1147     9        0.1149        0.1146  6104876    0.27%          rho_10 D 1211915 289739     77\n",
      " 1238456 54787        0.1147    13        0.1149        0.1146  6212865    0.22%           rho_4 N 1238456 1238455     77\n",
      " 1266238 36382        cutoff              0.1149        0.1147  6310376    0.15%          rho_16 U 1266238 1260790     53\n",
      " 1293489 17051        cutoff              0.1149        0.1148  6393388    0.08%          rho_10 D 1293489 527446     71\n",
      "\n",
      "User cuts applied:  172\n",
      "\n",
      "Root node processing (before b&c):\n",
      "  Real time             =    0.08 sec. (1.21 ticks)\n",
      "Sequential b&c:\n",
      "  Real time             =  157.92 sec. (193777.60 ticks)\n",
      "                          ------------\n",
      "Total (root+branch&cut) =  158.00 sec. (193778.81 ticks)\n",
      "+----------------------------------------------+------------------+-----------+\n",
      "| Pr(Y = +1) = 1.0/(1.0 + exp(-(-6 + score))   |                  |           |\n",
      "| ============================================ | ================ | ========= |\n",
      "| p_felony>=1                                  |         1 points |   + ..... |\n",
      "| p_misdemeanor>=1                             |         1 points |   + ..... |\n",
      "| p_drug>=1                                    |         1 points |   + ..... |\n",
      "| p_pending_charge>=1                          |         1 points |   + ..... |\n",
      "| ============================================ | ================ | ========= |\n",
      "| ADD POINTS FROM ROWS 1 to 4                  |            SCORE |   = ..... |\n",
      "+----------------------------------------------+------------------+-----------+\n",
      "model_id, score_thresholds 0 {'rank_abs': [0]}\n",
      "get_disparity_predefined_group()\n"
     ]
    },
    {
     "name": "stderr",
     "output_type": "stream",
     "text": [
      "C:\\Users\\binha\\Documents\\Duke\\Cynthia Research\\psa-analysis - test2\\utils\\fairness_functions.py:82: RuntimeWarning:\n",
      "\n",
      "invalid value encountered in longlong_scalars\n",
      "\n",
      "C:\\Users\\binha\\Documents\\Duke\\Cynthia Research\\psa-analysis - test2\\utils\\fairness_functions.py:95: RuntimeWarning:\n",
      "\n",
      "divide by zero encountered in longlong_scalars\n",
      "\n",
      "C:\\Users\\binha\\Documents\\Duke\\Cynthia Research\\psa-analysis - test2\\utils\\fairness_functions.py:86: RuntimeWarning:\n",
      "\n",
      "invalid value encountered in longlong_scalars\n",
      "\n",
      "C:\\Users\\binha\\Documents\\Duke\\Cynthia Research\\psa-analysis - test2\\utils\\fairness_functions.py:95: RuntimeWarning:\n",
      "\n",
      "invalid value encountered in longlong_scalars\n",
      "\n"
     ]
    }
   ],
   "source": [
    "riskslim_summary = slim.risk_cv(X=sub_X, \n",
    "                                Y=sub_Y, \n",
    "                                indicator = indicator,\n",
    "                                y_label='recid_drug6', \n",
    "                                max_coef=20, \n",
    "                                max_coef_number=10, \n",
    "                                max_runtime=200, \n",
    "                                c=1e-6, \n",
    "                                seed=816)"
   ]
  },
  {
   "cell_type": "code",
   "execution_count": 17,
   "metadata": {},
   "outputs": [
    {
     "data": {
      "text/plain": [
       "(0.7286364971390991, 0.7286166294953176)"
      ]
     },
     "execution_count": 17,
     "metadata": {},
     "output_type": "execute_result"
    }
   ],
   "source": [
    "np.mean(riskslim_summary['train_auc']), np.mean(riskslim_summary['test_auc'])"
   ]
  },
  {
   "cell_type": "markdown",
   "metadata": {},
   "source": [
    "### Arnold PSA"
   ]
  },
  {
   "cell_type": "code",
   "execution_count": 18,
   "metadata": {},
   "outputs": [],
   "source": [
    "### load data\n",
    "data = pd.read_csv(\"~/Documents/Duke/Cynthia Research/KY-analysis-mytrials/KY Recidivism/KY data/kentucky_data.csv\")\n",
    "X_arnold = data['nca_risk_score_raw'].values\n",
    "Y_arnold = data['recid_drug_six_month'].values\n",
    "\n",
    "## set up cross validation\n",
    "cv = KFold(n_splits=5,shuffle=True,random_state=816)\n",
    "arnold_auc = []\n",
    "for train, test in cv.split(X_arnold, Y_arnold):\n",
    "    y_pred_arnold, y_test = X_arnold[test], Y_arnold[test]\n",
    "    arnold_auc.append(roc_auc_score(y_test, y_pred_arnold))"
   ]
  },
  {
   "cell_type": "markdown",
   "metadata": {},
   "source": [
    "### Corel"
   ]
  },
  {
   "cell_type": "code",
   "execution_count": 2,
   "metadata": {},
   "outputs": [],
   "source": [
    "## load stumps data\n",
    "data = pd.read_csv(\"~/Documents/Duke/Cynthia Research/KY-analysis-mytrials/KY Recidivism/KY data/kentucky_stumps.csv\")\n",
    "x, y = data.loc[:,:'current_violence>=1'], data['recid_drug_six_month'].values\n",
    "y[y == -1] = 0"
   ]
  },
  {
   "cell_type": "code",
   "execution_count": 3,
   "metadata": {
    "scrolled": true
   },
   "outputs": [
    {
     "name": "stderr",
     "output_type": "stream",
     "text": [
      "C:\\Users\\binha\\Documents\\Duke\\Cynthia Research\\psa-analysis - test2\\utils\\fairness_functions.py:82: RuntimeWarning:\n",
      "\n",
      "invalid value encountered in longlong_scalars\n",
      "\n",
      "C:\\Users\\binha\\Documents\\Duke\\Cynthia Research\\psa-analysis - test2\\utils\\fairness_functions.py:95: RuntimeWarning:\n",
      "\n",
      "divide by zero encountered in longlong_scalars\n",
      "\n",
      "C:\\Users\\binha\\Documents\\Duke\\Cynthia Research\\psa-analysis - test2\\utils\\fairness_functions.py:86: RuntimeWarning:\n",
      "\n",
      "invalid value encountered in longlong_scalars\n",
      "\n",
      "C:\\Users\\binha\\Documents\\Duke\\Cynthia Research\\psa-analysis - test2\\utils\\fairness_functions.py:95: RuntimeWarning:\n",
      "\n",
      "invalid value encountered in longlong_scalars\n",
      "\n",
      "C:\\Users\\binha\\Documents\\Duke\\Cynthia Research\\psa-analysis - test2\\utils\\fairness_functions.py:82: RuntimeWarning:\n",
      "\n",
      "invalid value encountered in longlong_scalars\n",
      "\n",
      "C:\\Users\\binha\\Documents\\Duke\\Cynthia Research\\psa-analysis - test2\\utils\\fairness_functions.py:95: RuntimeWarning:\n",
      "\n",
      "divide by zero encountered in longlong_scalars\n",
      "\n",
      "C:\\Users\\binha\\Documents\\Duke\\Cynthia Research\\psa-analysis - test2\\utils\\fairness_functions.py:86: RuntimeWarning:\n",
      "\n",
      "invalid value encountered in longlong_scalars\n",
      "\n",
      "C:\\Users\\binha\\Documents\\Duke\\Cynthia Research\\psa-analysis - test2\\utils\\fairness_functions.py:95: RuntimeWarning:\n",
      "\n",
      "invalid value encountered in longlong_scalars\n",
      "\n",
      "C:\\Users\\binha\\Documents\\Duke\\Cynthia Research\\psa-analysis - test2\\utils\\fairness_functions.py:82: RuntimeWarning:\n",
      "\n",
      "invalid value encountered in longlong_scalars\n",
      "\n",
      "C:\\Users\\binha\\Documents\\Duke\\Cynthia Research\\psa-analysis - test2\\utils\\fairness_functions.py:95: RuntimeWarning:\n",
      "\n",
      "divide by zero encountered in longlong_scalars\n",
      "\n",
      "C:\\Users\\binha\\Documents\\Duke\\Cynthia Research\\psa-analysis - test2\\utils\\fairness_functions.py:86: RuntimeWarning:\n",
      "\n",
      "invalid value encountered in longlong_scalars\n",
      "\n",
      "C:\\Users\\binha\\Documents\\Duke\\Cynthia Research\\psa-analysis - test2\\utils\\fairness_functions.py:95: RuntimeWarning:\n",
      "\n",
      "invalid value encountered in longlong_scalars\n",
      "\n",
      "C:\\Users\\binha\\Documents\\Duke\\Cynthia Research\\psa-analysis - test2\\utils\\fairness_functions.py:82: RuntimeWarning:\n",
      "\n",
      "invalid value encountered in longlong_scalars\n",
      "\n",
      "C:\\Users\\binha\\Documents\\Duke\\Cynthia Research\\psa-analysis - test2\\utils\\fairness_functions.py:95: RuntimeWarning:\n",
      "\n",
      "divide by zero encountered in longlong_scalars\n",
      "\n",
      "C:\\Users\\binha\\Documents\\Duke\\Cynthia Research\\psa-analysis - test2\\utils\\fairness_functions.py:86: RuntimeWarning:\n",
      "\n",
      "invalid value encountered in longlong_scalars\n",
      "\n",
      "C:\\Users\\binha\\Documents\\Duke\\Cynthia Research\\psa-analysis - test2\\utils\\fairness_functions.py:95: RuntimeWarning:\n",
      "\n",
      "invalid value encountered in longlong_scalars\n",
      "\n",
      "C:\\Users\\binha\\Documents\\Duke\\Cynthia Research\\psa-analysis - test2\\utils\\fairness_functions.py:82: RuntimeWarning:\n",
      "\n",
      "invalid value encountered in longlong_scalars\n",
      "\n",
      "C:\\Users\\binha\\Documents\\Duke\\Cynthia Research\\psa-analysis - test2\\utils\\fairness_functions.py:95: RuntimeWarning:\n",
      "\n",
      "divide by zero encountered in longlong_scalars\n",
      "\n",
      "C:\\Users\\binha\\Documents\\Duke\\Cynthia Research\\psa-analysis - test2\\utils\\fairness_functions.py:86: RuntimeWarning:\n",
      "\n",
      "invalid value encountered in longlong_scalars\n",
      "\n",
      "C:\\Users\\binha\\Documents\\Duke\\Cynthia Research\\psa-analysis - test2\\utils\\fairness_functions.py:95: RuntimeWarning:\n",
      "\n",
      "invalid value encountered in longlong_scalars\n",
      "\n"
     ]
    }
   ],
   "source": [
    "corel_summary = Corel.corel_cv(x, y, max_card=2, c=1e-4, seed=816)"
   ]
  },
  {
   "cell_type": "code",
   "execution_count": 4,
   "metadata": {},
   "outputs": [
    {
     "data": {
      "text/plain": [
       "(0.5, 0.0)"
      ]
     },
     "execution_count": 4,
     "metadata": {},
     "output_type": "execute_result"
    }
   ],
   "source": [
    "np.mean(corel_summary['test_auc']), np.std(corel_summary['test_auc'])"
   ]
  },
  {
   "cell_type": "markdown",
   "metadata": {},
   "source": [
    "### Results"
   ]
  },
  {
   "cell_type": "code",
   "execution_count": 22,
   "metadata": {},
   "outputs": [
    {
     "name": "stdout",
     "output_type": "stream",
     "text": [
      "Stored 'summary_drug6_KY_interpret' (dict)\n"
     ]
    }
   ],
   "source": [
    "#### save results\n",
    "summary_drug6_KY_interpret = {\"CART\": cart_summary,\n",
    "                              \"EBM\": ebm_summary, \n",
    "                              'Lasso Stumps': stump_summary, \n",
    "                              'RiskSLIM': riskslim_summary,  \n",
    "                              'Corel': corel_summary,\n",
    "                              'Arnold PSA': arnold_auc}\n",
    "%store summary_drug6_KY_interpret"
   ]
  },
  {
   "cell_type": "code",
   "execution_count": 23,
   "metadata": {},
   "outputs": [
    {
     "data": {
      "text/plain": [
       "[['CART', 0.7500327841598888, 0.023742202616642748],\n",
       " ['EBM', 0.7568860305620548, 0.016508482212823306],\n",
       " ['Lasso Stumps', 0.7610841238235442, 0.003638177215731364],\n",
       " ['RiskSLIM', 0.7286166294953176],\n",
       " ['Corel', 0.5],\n",
       " ['Arnold PSA', 0.652]]"
      ]
     },
     "execution_count": 23,
     "metadata": {},
     "output_type": "execute_result"
    }
   ],
   "source": [
    "results = [[\"CART\", np.mean(cart_summary['holdout_test_auc']), np.mean(cart_summary['auc_diffs'])],\n",
    "           [\"EBM\", np.mean(ebm_summary['holdout_test_auc']), np.mean(ebm_summary['auc_diffs'])], \n",
    "           [\"Lasso Stumps\", np.mean(stump_summary['holdout_test_auc']), np.mean(stump_summary['auc_diffs'])],\n",
    "           ['RiskSLIM', np.mean(riskslim_summary['test_auc'])],\n",
    "           ['Corel', np.mean(corel_summary['test_auc'])],\n",
    "           ['Arnold PSA', round(np.mean(arnold_auc), 3)]]\n",
    "results"
   ]
  },
  {
   "cell_type": "code",
   "execution_count": 24,
   "metadata": {},
   "outputs": [],
   "source": [
    "auc = [np.mean(cart_summary['holdout_test_auc']), \n",
    "       np.mean(ebm_summary['holdout_test_auc']), \n",
    "       np.mean(stump_summary['holdout_test_auc']), \n",
    "       np.mean(riskslim_summary['test_auc']), \n",
    "       np.mean(corel_summary['test_auc'])]"
   ]
  },
  {
   "cell_type": "code",
   "execution_count": 25,
   "metadata": {},
   "outputs": [],
   "source": [
    "path = \"C:/Users/binha/Documents/Duke/Cynthia Research/KY-analysis-mytrials/KY Recidivism/KY Results/Models/Six Month/\"\n",
    "results = [[\"Drug\", np.str((round(np.mean(cart_summary['holdout_test_auc']), 3))) + \" (\" + np.str(round(np.std(cart_summary['holdout_test_auc']), 3)) + \")\", \n",
    "            np.str(round(np.mean(ebm_summary['holdout_test_auc']),3)) + \" (\" + np.str(round(np.std(ebm_summary['holdout_test_auc']), 3)) + \")\", \n",
    "            np.str(round(np.mean(stump_summary['holdout_test_auc']),3)) + \" (\" + np.str(round(np.std(stump_summary['holdout_test_auc']), 3)) + \")\",             \n",
    "            np.str(round(np.mean(riskslim_summary['test_auc']),3)) + \" (\" + np.str(round(np.std(riskslim_summary['test_auc']), 3)) + \")\", \n",
    "            np.str(round(np.mean(corel_summary['test_auc']),3)) + \" (\" + np.str(round(np.std(corel_summary['test_auc']), 3)) + \")\", \n",
    "            round(np.max(auc) - np.min(auc), 3),\n",
    "            np.str(round(np.mean(arnold_auc), 3)) + \" (\" + np.str(round(np.std(arnold_auc),3)) + \")\"]]\n",
    "with open(path + 'Interpretable Models Summary.csv', 'a') as writeFile:\n",
    "    writer = csv.writer(writeFile)\n",
    "    writer.writerows(results)"
   ]
  },
  {
   "cell_type": "code",
   "execution_count": 26,
   "metadata": {},
   "outputs": [],
   "source": [
    "cart_confusion = cart_summary['confusion_matrix_stats']\n",
    "ebm_confusion = ebm_summary['confusion_matrix_stats']\n",
    "riskslim_confusion = riskslim_summary['confusion_matrix_stats']\n",
    "stumps_confusion = stump_summary['confusion_matrix_stats']\n",
    "corel_confusion = corel_summary['confusion_matrix_stats']\n",
    "#arnold_confusion = cart_summary['confusion_matrix_stats']\n",
    "\n",
    "## save results\n",
    "cart_confusion.to_csv(r'C:/Users/binha/Documents/Duke/Cynthia Research/KY-analysis-mytrials/KY Recidivism/KY Fairness/Six Month/drug/cart_confusion.csv', index=None,header=True)\n",
    "ebm_confusion.to_csv(r'C:/Users/binha/Documents/Duke/Cynthia Research/KY-analysis-mytrials/KY Recidivism/KY Fairness/Six Month/drug/ebm_confusion.csv', index=None,header=True)\n",
    "riskslim_confusion.to_csv(r'C:/Users/binha/Documents/Duke/Cynthia Research/KY-analysis-mytrials/KY Recidivism/KY Fairness/Six Month/drug/riskslim_confusion.csv', index=None,header=True)\n",
    "stumps_confusion.to_csv(r'C:/Users/binha/Documents/Duke/Cynthia Research/KY-analysis-mytrials/KY Recidivism/KY Fairness/Six Month/drug/stumps_confusion.csv', index=None,header=True)\n",
    "corel_confusion.to_csv(r'C:/Users/binha/Documents/Duke/Cynthia Research/KY-analysis-mytrials/KY Recidivism/KY Fairness/Six Month/drug/corel_confusion.csv', index=None,header=True)\n",
    "#arnold_confusion.to_csv(r'C:/Users/binha/Documents/Duke/Cynthia Research/KY-analysis-mytrials/broward/broward models/model fairness/Two Year/general/arnold_confusion.csv', index=None,header=True)"
   ]
  },
  {
   "cell_type": "code",
   "execution_count": 5,
   "metadata": {},
   "outputs": [],
   "source": [
    "corel_confusion = corel_summary['confusion_matrix_stats']\n",
    "corel_confusion.to_csv(r'C:/Users/binha/Documents/Duke/Cynthia Research/KY-analysis-mytrials/KY Recidivism/KY Fairness/Six Month/drug/corel_confusion.csv', index=None,header=True)"
   ]
  }
 ],
 "metadata": {
  "kernelspec": {
   "display_name": "Python 3",
   "language": "python",
   "name": "python3"
  },
  "language_info": {
   "codemirror_mode": {
    "name": "ipython",
    "version": 3
   },
   "file_extension": ".py",
   "mimetype": "text/x-python",
   "name": "python",
   "nbconvert_exporter": "python",
   "pygments_lexer": "ipython3",
   "version": "3.7.4"
  }
 },
 "nbformat": 4,
 "nbformat_minor": 4
}
