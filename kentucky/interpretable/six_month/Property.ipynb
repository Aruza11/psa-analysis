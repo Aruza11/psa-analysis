{
 "cells": [
  {
   "cell_type": "code",
   "execution_count": 1,
   "metadata": {},
   "outputs": [
    {
     "name": "stdout",
     "output_type": "stream",
     "text": [
      "Current working directory is now:  C:\\Users\\binha\\Documents\\Duke\\Cynthia Research\\psa-analysis - test2\n"
     ]
    },
    {
     "name": "stderr",
     "output_type": "stream",
     "text": [
      "C:\\Users\\binha\\Anaconda3\\lib\\site-packages\\sklearn\\externals\\six.py:31: DeprecationWarning:\n",
      "\n",
      "The module is deprecated in version 0.21 and will be removed in version 0.23 since we've dropped support for Python 2.7. Please rely on the official version of six (https://pypi.org/project/six/).\n",
      "\n"
     ]
    }
   ],
   "source": [
    "import os \n",
    "os.chdir('../../../')\n",
    "print(\"Current working directory is now: \", os.getcwd())\n",
    "\n",
    "import pandas as pd \n",
    "import numpy as np\n",
    "import csv\n",
    "import utils.interpretable_functions as interpret\n",
    "import utils.RiskSLIM as slim\n",
    "import utils.stumps as stumps\n",
    "import utils.Corel as Corel\n",
    "\n",
    "from sklearn.linear_model import LogisticRegression\n",
    "from sklearn.model_selection import KFold, GridSearchCV\n",
    "from sklearn.metrics import roc_auc_score\n",
    "\n",
    "# restore saved variables\n",
    "%store -r summary_property6_KY_interpret"
   ]
  },
  {
   "cell_type": "markdown",
   "metadata": {},
   "source": [
    "### CART & EBM"
   ]
  },
  {
   "cell_type": "code",
   "execution_count": 2,
   "metadata": {},
   "outputs": [],
   "source": [
    "### load data\n",
    "data = pd.read_csv(\"~/Documents/Duke/Cynthia Research/KY-analysis-mytrials/KY Recidivism/KY data/kentucky_data.csv\")\n",
    "data = data.drop(['fta_risk_score_raw','nca_risk_score_raw','pvf_risk_score_raw', \n",
    "                  'fta_calc', 'nca_calc', 'pvf_calc'], axis=1)\n",
    "x = data.loc[:,:'current_violence']\n",
    "y = data['recid_property_six_month'].values"
   ]
  },
  {
   "cell_type": "code",
   "execution_count": 4,
   "metadata": {
    "scrolled": true
   },
   "outputs": [
    {
     "name": "stdout",
     "output_type": "stream",
     "text": [
      "model_id, score_thresholds 0 {'rank_abs': [0]}\n",
      "get_disparity_predefined_group()\n"
     ]
    },
    {
     "name": "stderr",
     "output_type": "stream",
     "text": [
      "C:\\Users\\binha\\Documents\\Duke\\Cynthia Research\\psa-analysis - test2\\utils\\fairness_functions.py:82: RuntimeWarning:\n",
      "\n",
      "invalid value encountered in longlong_scalars\n",
      "\n",
      "C:\\Users\\binha\\Documents\\Duke\\Cynthia Research\\psa-analysis - test2\\utils\\fairness_functions.py:95: RuntimeWarning:\n",
      "\n",
      "divide by zero encountered in longlong_scalars\n",
      "\n",
      "C:\\Users\\binha\\Documents\\Duke\\Cynthia Research\\psa-analysis - test2\\utils\\fairness_functions.py:86: RuntimeWarning:\n",
      "\n",
      "invalid value encountered in longlong_scalars\n",
      "\n",
      "C:\\Users\\binha\\Documents\\Duke\\Cynthia Research\\psa-analysis - test2\\utils\\fairness_functions.py:95: RuntimeWarning:\n",
      "\n",
      "invalid value encountered in longlong_scalars\n",
      "\n"
     ]
    },
    {
     "name": "stdout",
     "output_type": "stream",
     "text": [
      "model_id, score_thresholds 0 {'rank_abs': [2]}\n",
      "get_disparity_predefined_group()\n"
     ]
    },
    {
     "name": "stderr",
     "output_type": "stream",
     "text": [
      "C:\\Users\\binha\\Documents\\Duke\\Cynthia Research\\psa-analysis - test2\\utils\\fairness_functions.py:82: RuntimeWarning:\n",
      "\n",
      "invalid value encountered in longlong_scalars\n",
      "\n",
      "C:\\Users\\binha\\Documents\\Duke\\Cynthia Research\\psa-analysis - test2\\utils\\fairness_functions.py:95: RuntimeWarning:\n",
      "\n",
      "divide by zero encountered in longlong_scalars\n",
      "\n",
      "C:\\Users\\binha\\Documents\\Duke\\Cynthia Research\\psa-analysis - test2\\utils\\fairness_functions.py:86: RuntimeWarning:\n",
      "\n",
      "invalid value encountered in longlong_scalars\n",
      "\n",
      "C:\\Users\\binha\\Documents\\Duke\\Cynthia Research\\psa-analysis - test2\\utils\\fairness_functions.py:95: RuntimeWarning:\n",
      "\n",
      "invalid value encountered in longlong_scalars\n",
      "\n"
     ]
    },
    {
     "name": "stdout",
     "output_type": "stream",
     "text": [
      "model_id, score_thresholds 0 {'rank_abs': [0]}\n",
      "get_disparity_predefined_group()\n"
     ]
    },
    {
     "name": "stderr",
     "output_type": "stream",
     "text": [
      "C:\\Users\\binha\\Documents\\Duke\\Cynthia Research\\psa-analysis - test2\\utils\\fairness_functions.py:82: RuntimeWarning:\n",
      "\n",
      "invalid value encountered in longlong_scalars\n",
      "\n",
      "C:\\Users\\binha\\Documents\\Duke\\Cynthia Research\\psa-analysis - test2\\utils\\fairness_functions.py:95: RuntimeWarning:\n",
      "\n",
      "divide by zero encountered in longlong_scalars\n",
      "\n",
      "C:\\Users\\binha\\Documents\\Duke\\Cynthia Research\\psa-analysis - test2\\utils\\fairness_functions.py:86: RuntimeWarning:\n",
      "\n",
      "invalid value encountered in longlong_scalars\n",
      "\n",
      "C:\\Users\\binha\\Documents\\Duke\\Cynthia Research\\psa-analysis - test2\\utils\\fairness_functions.py:95: RuntimeWarning:\n",
      "\n",
      "invalid value encountered in longlong_scalars\n",
      "\n"
     ]
    },
    {
     "name": "stdout",
     "output_type": "stream",
     "text": [
      "model_id, score_thresholds 0 {'rank_abs': [1]}\n",
      "get_disparity_predefined_group()\n"
     ]
    },
    {
     "name": "stderr",
     "output_type": "stream",
     "text": [
      "C:\\Users\\binha\\Documents\\Duke\\Cynthia Research\\psa-analysis - test2\\utils\\fairness_functions.py:82: RuntimeWarning:\n",
      "\n",
      "invalid value encountered in longlong_scalars\n",
      "\n",
      "C:\\Users\\binha\\Documents\\Duke\\Cynthia Research\\psa-analysis - test2\\utils\\fairness_functions.py:95: RuntimeWarning:\n",
      "\n",
      "divide by zero encountered in longlong_scalars\n",
      "\n",
      "C:\\Users\\binha\\Documents\\Duke\\Cynthia Research\\psa-analysis - test2\\utils\\fairness_functions.py:86: RuntimeWarning:\n",
      "\n",
      "invalid value encountered in longlong_scalars\n",
      "\n",
      "C:\\Users\\binha\\Documents\\Duke\\Cynthia Research\\psa-analysis - test2\\utils\\fairness_functions.py:95: RuntimeWarning:\n",
      "\n",
      "invalid value encountered in longlong_scalars\n",
      "\n"
     ]
    },
    {
     "name": "stdout",
     "output_type": "stream",
     "text": [
      "model_id, score_thresholds 0 {'rank_abs': [3]}\n",
      "get_disparity_predefined_group()\n"
     ]
    },
    {
     "name": "stderr",
     "output_type": "stream",
     "text": [
      "C:\\Users\\binha\\Documents\\Duke\\Cynthia Research\\psa-analysis - test2\\utils\\fairness_functions.py:82: RuntimeWarning:\n",
      "\n",
      "invalid value encountered in longlong_scalars\n",
      "\n",
      "C:\\Users\\binha\\Documents\\Duke\\Cynthia Research\\psa-analysis - test2\\utils\\fairness_functions.py:95: RuntimeWarning:\n",
      "\n",
      "divide by zero encountered in longlong_scalars\n",
      "\n",
      "C:\\Users\\binha\\Documents\\Duke\\Cynthia Research\\psa-analysis - test2\\utils\\fairness_functions.py:86: RuntimeWarning:\n",
      "\n",
      "invalid value encountered in longlong_scalars\n",
      "\n",
      "C:\\Users\\binha\\Documents\\Duke\\Cynthia Research\\psa-analysis - test2\\utils\\fairness_functions.py:95: RuntimeWarning:\n",
      "\n",
      "invalid value encountered in longlong_scalars\n",
      "\n",
      "WARNING:interpret.utils.all:Passing a numpy array to schema autogen when it should be dataframe.\n",
      "WARNING:interpret.utils.all:Passing a numpy array to schema autogen when it should be dataframe.\n",
      "WARNING:interpret.utils.all:Passing a numpy array to schema autogen when it should be dataframe.\n",
      "WARNING:interpret.utils.all:Passing a numpy array to schema autogen when it should be dataframe.\n",
      "WARNING:interpret.utils.all:Passing a numpy array to schema autogen when it should be dataframe.\n",
      "WARNING:interpret.utils.all:Passing a numpy array to schema autogen when it should be dataframe.\n",
      "WARNING:interpret.utils.all:Passing a numpy array to schema autogen when it should be dataframe.\n",
      "WARNING:interpret.utils.all:Passing a numpy array to schema autogen when it should be dataframe.\n",
      "WARNING:interpret.utils.all:Passing a numpy array to schema autogen when it should be dataframe.\n",
      "WARNING:interpret.utils.all:Passing a numpy array to schema autogen when it should be dataframe.\n",
      "WARNING:interpret.utils.all:Passing a numpy array to schema autogen when it should be dataframe.\n",
      "WARNING:interpret.utils.all:Passing a numpy array to schema autogen when it should be dataframe.\n"
     ]
    },
    {
     "name": "stdout",
     "output_type": "stream",
     "text": [
      "model_id, score_thresholds 0 {'rank_abs': [18583]}\n",
      "get_disparity_predefined_group()\n"
     ]
    },
    {
     "name": "stderr",
     "output_type": "stream",
     "text": [
      "C:\\Users\\binha\\Documents\\Duke\\Cynthia Research\\psa-analysis - test2\\utils\\fairness_functions.py:86: RuntimeWarning:\n",
      "\n",
      "invalid value encountered in longlong_scalars\n",
      "\n",
      "WARNING:interpret.utils.all:Passing a numpy array to schema autogen when it should be dataframe.\n",
      "WARNING:interpret.utils.all:Passing a numpy array to schema autogen when it should be dataframe.\n",
      "WARNING:interpret.utils.all:Passing a numpy array to schema autogen when it should be dataframe.\n",
      "WARNING:interpret.utils.all:Passing a numpy array to schema autogen when it should be dataframe.\n",
      "WARNING:interpret.utils.all:Passing a numpy array to schema autogen when it should be dataframe.\n",
      "WARNING:interpret.utils.all:Passing a numpy array to schema autogen when it should be dataframe.\n",
      "WARNING:interpret.utils.all:Passing a numpy array to schema autogen when it should be dataframe.\n",
      "WARNING:interpret.utils.all:Passing a numpy array to schema autogen when it should be dataframe.\n",
      "WARNING:interpret.utils.all:Passing a numpy array to schema autogen when it should be dataframe.\n",
      "WARNING:interpret.utils.all:Passing a numpy array to schema autogen when it should be dataframe.\n",
      "WARNING:interpret.utils.all:Passing a numpy array to schema autogen when it should be dataframe.\n",
      "WARNING:interpret.utils.all:Passing a numpy array to schema autogen when it should be dataframe.\n"
     ]
    },
    {
     "name": "stdout",
     "output_type": "stream",
     "text": [
      "model_id, score_thresholds 0 {'rank_abs': [0]}\n",
      "get_disparity_predefined_group()\n"
     ]
    },
    {
     "name": "stderr",
     "output_type": "stream",
     "text": [
      "C:\\Users\\binha\\Documents\\Duke\\Cynthia Research\\psa-analysis - test2\\utils\\fairness_functions.py:82: RuntimeWarning:\n",
      "\n",
      "invalid value encountered in longlong_scalars\n",
      "\n",
      "C:\\Users\\binha\\Documents\\Duke\\Cynthia Research\\psa-analysis - test2\\utils\\fairness_functions.py:95: RuntimeWarning:\n",
      "\n",
      "divide by zero encountered in longlong_scalars\n",
      "\n",
      "C:\\Users\\binha\\Documents\\Duke\\Cynthia Research\\psa-analysis - test2\\utils\\fairness_functions.py:86: RuntimeWarning:\n",
      "\n",
      "invalid value encountered in longlong_scalars\n",
      "\n",
      "C:\\Users\\binha\\Documents\\Duke\\Cynthia Research\\psa-analysis - test2\\utils\\fairness_functions.py:95: RuntimeWarning:\n",
      "\n",
      "invalid value encountered in longlong_scalars\n",
      "\n",
      "WARNING:interpret.utils.all:Passing a numpy array to schema autogen when it should be dataframe.\n",
      "WARNING:interpret.utils.all:Passing a numpy array to schema autogen when it should be dataframe.\n",
      "WARNING:interpret.utils.all:Passing a numpy array to schema autogen when it should be dataframe.\n",
      "C:\\Users\\binha\\Anaconda3\\lib\\site-packages\\numpy\\core\\_methods.py:121: RuntimeWarning:\n",
      "\n",
      "overflow encountered in multiply\n",
      "\n",
      "WARNING:interpret.utils.all:Passing a numpy array to schema autogen when it should be dataframe.\n",
      "WARNING:interpret.utils.all:Passing a numpy array to schema autogen when it should be dataframe.\n",
      "WARNING:interpret.utils.all:Passing a numpy array to schema autogen when it should be dataframe.\n",
      "WARNING:interpret.utils.all:Passing a numpy array to schema autogen when it should be dataframe.\n",
      "WARNING:interpret.utils.all:Passing a numpy array to schema autogen when it should be dataframe.\n",
      "WARNING:interpret.utils.all:Passing a numpy array to schema autogen when it should be dataframe.\n",
      "C:\\Users\\binha\\Anaconda3\\lib\\site-packages\\numpy\\core\\_methods.py:121: RuntimeWarning:\n",
      "\n",
      "overflow encountered in multiply\n",
      "\n",
      "WARNING:interpret.utils.all:Passing a numpy array to schema autogen when it should be dataframe.\n",
      "WARNING:interpret.utils.all:Passing a numpy array to schema autogen when it should be dataframe.\n",
      "WARNING:interpret.utils.all:Passing a numpy array to schema autogen when it should be dataframe.\n"
     ]
    },
    {
     "name": "stdout",
     "output_type": "stream",
     "text": [
      "model_id, score_thresholds 0 {'rank_abs': [0]}\n",
      "get_disparity_predefined_group()\n"
     ]
    },
    {
     "name": "stderr",
     "output_type": "stream",
     "text": [
      "C:\\Users\\binha\\Documents\\Duke\\Cynthia Research\\psa-analysis - test2\\utils\\fairness_functions.py:82: RuntimeWarning:\n",
      "\n",
      "invalid value encountered in longlong_scalars\n",
      "\n",
      "C:\\Users\\binha\\Documents\\Duke\\Cynthia Research\\psa-analysis - test2\\utils\\fairness_functions.py:95: RuntimeWarning:\n",
      "\n",
      "divide by zero encountered in longlong_scalars\n",
      "\n",
      "C:\\Users\\binha\\Documents\\Duke\\Cynthia Research\\psa-analysis - test2\\utils\\fairness_functions.py:86: RuntimeWarning:\n",
      "\n",
      "invalid value encountered in longlong_scalars\n",
      "\n",
      "C:\\Users\\binha\\Documents\\Duke\\Cynthia Research\\psa-analysis - test2\\utils\\fairness_functions.py:95: RuntimeWarning:\n",
      "\n",
      "invalid value encountered in longlong_scalars\n",
      "\n",
      "WARNING:interpret.utils.all:Passing a numpy array to schema autogen when it should be dataframe.\n",
      "WARNING:interpret.utils.all:Passing a numpy array to schema autogen when it should be dataframe.\n",
      "WARNING:interpret.utils.all:Passing a numpy array to schema autogen when it should be dataframe.\n",
      "WARNING:interpret.utils.all:Passing a numpy array to schema autogen when it should be dataframe.\n",
      "WARNING:interpret.utils.all:Passing a numpy array to schema autogen when it should be dataframe.\n",
      "WARNING:interpret.utils.all:Passing a numpy array to schema autogen when it should be dataframe.\n",
      "WARNING:interpret.utils.all:Passing a numpy array to schema autogen when it should be dataframe.\n",
      "WARNING:interpret.utils.all:Passing a numpy array to schema autogen when it should be dataframe.\n",
      "WARNING:interpret.utils.all:Passing a numpy array to schema autogen when it should be dataframe.\n",
      "WARNING:interpret.utils.all:Passing a numpy array to schema autogen when it should be dataframe.\n",
      "WARNING:interpret.utils.all:Passing a numpy array to schema autogen when it should be dataframe.\n",
      "WARNING:interpret.utils.all:Passing a numpy array to schema autogen when it should be dataframe.\n"
     ]
    },
    {
     "name": "stdout",
     "output_type": "stream",
     "text": [
      "model_id, score_thresholds 0 {'rank_abs': [2]}\n",
      "get_disparity_predefined_group()\n"
     ]
    },
    {
     "name": "stderr",
     "output_type": "stream",
     "text": [
      "C:\\Users\\binha\\Documents\\Duke\\Cynthia Research\\psa-analysis - test2\\utils\\fairness_functions.py:82: RuntimeWarning:\n",
      "\n",
      "invalid value encountered in longlong_scalars\n",
      "\n",
      "C:\\Users\\binha\\Documents\\Duke\\Cynthia Research\\psa-analysis - test2\\utils\\fairness_functions.py:95: RuntimeWarning:\n",
      "\n",
      "divide by zero encountered in longlong_scalars\n",
      "\n",
      "C:\\Users\\binha\\Documents\\Duke\\Cynthia Research\\psa-analysis - test2\\utils\\fairness_functions.py:86: RuntimeWarning:\n",
      "\n",
      "invalid value encountered in longlong_scalars\n",
      "\n",
      "C:\\Users\\binha\\Documents\\Duke\\Cynthia Research\\psa-analysis - test2\\utils\\fairness_functions.py:95: RuntimeWarning:\n",
      "\n",
      "invalid value encountered in longlong_scalars\n",
      "\n",
      "WARNING:interpret.utils.all:Passing a numpy array to schema autogen when it should be dataframe.\n",
      "WARNING:interpret.utils.all:Passing a numpy array to schema autogen when it should be dataframe.\n",
      "WARNING:interpret.utils.all:Passing a numpy array to schema autogen when it should be dataframe.\n",
      "WARNING:interpret.utils.all:Passing a numpy array to schema autogen when it should be dataframe.\n",
      "WARNING:interpret.utils.all:Passing a numpy array to schema autogen when it should be dataframe.\n",
      "WARNING:interpret.utils.all:Passing a numpy array to schema autogen when it should be dataframe.\n",
      "WARNING:interpret.utils.all:Passing a numpy array to schema autogen when it should be dataframe.\n",
      "WARNING:interpret.utils.all:Passing a numpy array to schema autogen when it should be dataframe.\n",
      "WARNING:interpret.utils.all:Passing a numpy array to schema autogen when it should be dataframe.\n",
      "WARNING:interpret.utils.all:Passing a numpy array to schema autogen when it should be dataframe.\n",
      "WARNING:interpret.utils.all:Passing a numpy array to schema autogen when it should be dataframe.\n",
      "WARNING:interpret.utils.all:Passing a numpy array to schema autogen when it should be dataframe.\n"
     ]
    },
    {
     "name": "stdout",
     "output_type": "stream",
     "text": [
      "model_id, score_thresholds 0 {'rank_abs': [1]}\n",
      "get_disparity_predefined_group()\n"
     ]
    },
    {
     "name": "stderr",
     "output_type": "stream",
     "text": [
      "C:\\Users\\binha\\Documents\\Duke\\Cynthia Research\\psa-analysis - test2\\utils\\fairness_functions.py:82: RuntimeWarning:\n",
      "\n",
      "invalid value encountered in longlong_scalars\n",
      "\n",
      "C:\\Users\\binha\\Documents\\Duke\\Cynthia Research\\psa-analysis - test2\\utils\\fairness_functions.py:95: RuntimeWarning:\n",
      "\n",
      "divide by zero encountered in longlong_scalars\n",
      "\n",
      "C:\\Users\\binha\\Documents\\Duke\\Cynthia Research\\psa-analysis - test2\\utils\\fairness_functions.py:86: RuntimeWarning:\n",
      "\n",
      "invalid value encountered in longlong_scalars\n",
      "\n",
      "C:\\Users\\binha\\Documents\\Duke\\Cynthia Research\\psa-analysis - test2\\utils\\fairness_functions.py:95: RuntimeWarning:\n",
      "\n",
      "invalid value encountered in longlong_scalars\n",
      "\n"
     ]
    }
   ],
   "source": [
    "#### CART\n",
    "depth = [4,5,6]\n",
    "cart_summary =interpret.CART(X=x,\n",
    "                         Y=y,\n",
    "                         depth=depth,\n",
    "                         seed=816)\n",
    "\n",
    "#### EBM\n",
    "estimators = [40]\n",
    "depth = [2]\n",
    "learning_rate = [0.5]\n",
    "ebm_summary = interpret.EBM(X=x,\n",
    "                       Y=y,\n",
    "                       learning_rate=learning_rate,\n",
    "                       depth=depth,\n",
    "                       estimators=estimators,\n",
    "                       seed =816)"
   ]
  },
  {
   "cell_type": "code",
   "execution_count": 14,
   "metadata": {},
   "outputs": [
    {
     "data": {
      "text/plain": [
       "(0.8180403900256067, 0.02446680988307437)"
      ]
     },
     "execution_count": 14,
     "metadata": {},
     "output_type": "execute_result"
    }
   ],
   "source": [
    "np.mean(cart_summary['holdout_test_auc']), np.mean(cart_summary['auc_diffs'])"
   ]
  },
  {
   "cell_type": "code",
   "execution_count": 15,
   "metadata": {},
   "outputs": [
    {
     "data": {
      "text/plain": [
       "(0.8170977146779187, 0.02812337821372295)"
      ]
     },
     "execution_count": 15,
     "metadata": {},
     "output_type": "execute_result"
    }
   ],
   "source": [
    "np.mean(ebm_summary['holdout_test_auc']), np.mean(ebm_summary['auc_diffs'])"
   ]
  },
  {
   "cell_type": "markdown",
   "metadata": {},
   "source": [
    "## Lasso Stumps"
   ]
  },
  {
   "cell_type": "code",
   "execution_count": 16,
   "metadata": {},
   "outputs": [],
   "source": [
    "## load whole data\n",
    "data = pd.read_csv(\"~/Documents/Duke/Cynthia Research/KY-analysis-mytrials/KY Recidivism/KY data/kentucky_stumps.csv\")\n",
    "X_stumps, Y_stumps = data.loc[:,:'current_violence>=1'], data['recid_property_six_month'].values\n",
    "Y_stumps[Y_stumps == -1] = 0\n",
    "cols = X_stumps.columns[3:]\n",
    "\n",
    "## load train & test data\n",
    "train_stumps = pd.read_csv(\"~/Documents/Duke/Cynthia Research/KY-analysis-mytrials/KY Recidivism/KY data/kentucky_train_stumps.csv\")\n",
    "test_stumps = pd.read_csv(\"~/Documents/Duke/Cynthia Research/KY-analysis-mytrials/KY Recidivism/KY data/kentucky_test_stumps.csv\")\n",
    "X_train_stumps, Y_train_stumps = train_stumps.loc[:,:'current_violence>=1'], train_stumps['recid_property_six_month'].values\n",
    "X_test_stumps, Y_test_stumps = test_stumps.loc[:,:'current_violence>=1'], test_stumps['recid_property_six_month'].values\n",
    "Y_train_stumps[Y_train_stumps == -1] = 0\n",
    "Y_test_stumps[Y_test_stumps == -1] = 0"
   ]
  },
  {
   "cell_type": "markdown",
   "metadata": {},
   "source": [
    "#### Nested Cross Validation"
   ]
  },
  {
   "cell_type": "code",
   "execution_count": 19,
   "metadata": {
    "scrolled": true
   },
   "outputs": [
    {
     "name": "stdout",
     "output_type": "stream",
     "text": [
      "model_id, score_thresholds 0 {'rank_abs': [6599]}\n",
      "get_disparity_predefined_group()\n"
     ]
    },
    {
     "name": "stderr",
     "output_type": "stream",
     "text": [
      "C:\\Users\\binha\\Documents\\Duke\\Cynthia Research\\psa-analysis - test2\\utils\\fairness_functions.py:86: RuntimeWarning:\n",
      "\n",
      "invalid value encountered in longlong_scalars\n",
      "\n"
     ]
    },
    {
     "name": "stdout",
     "output_type": "stream",
     "text": [
      "model_id, score_thresholds 0 {'rank_abs': [7023]}\n",
      "get_disparity_predefined_group()\n"
     ]
    },
    {
     "name": "stderr",
     "output_type": "stream",
     "text": [
      "C:\\Users\\binha\\Documents\\Duke\\Cynthia Research\\psa-analysis - test2\\utils\\fairness_functions.py:86: RuntimeWarning:\n",
      "\n",
      "invalid value encountered in longlong_scalars\n",
      "\n"
     ]
    },
    {
     "name": "stdout",
     "output_type": "stream",
     "text": [
      "model_id, score_thresholds 0 {'rank_abs': [6433]}\n",
      "get_disparity_predefined_group()\n"
     ]
    },
    {
     "name": "stderr",
     "output_type": "stream",
     "text": [
      "C:\\Users\\binha\\Documents\\Duke\\Cynthia Research\\psa-analysis - test2\\utils\\fairness_functions.py:86: RuntimeWarning:\n",
      "\n",
      "invalid value encountered in longlong_scalars\n",
      "\n"
     ]
    },
    {
     "name": "stdout",
     "output_type": "stream",
     "text": [
      "model_id, score_thresholds 0 {'rank_abs': [5938]}\n",
      "get_disparity_predefined_group()\n"
     ]
    },
    {
     "name": "stderr",
     "output_type": "stream",
     "text": [
      "C:\\Users\\binha\\Documents\\Duke\\Cynthia Research\\psa-analysis - test2\\utils\\fairness_functions.py:86: RuntimeWarning:\n",
      "\n",
      "invalid value encountered in longlong_scalars\n",
      "\n"
     ]
    },
    {
     "name": "stdout",
     "output_type": "stream",
     "text": [
      "model_id, score_thresholds 0 {'rank_abs': [6757]}\n",
      "get_disparity_predefined_group()\n"
     ]
    },
    {
     "name": "stderr",
     "output_type": "stream",
     "text": [
      "C:\\Users\\binha\\Documents\\Duke\\Cynthia Research\\psa-analysis - test2\\utils\\fairness_functions.py:86: RuntimeWarning:\n",
      "\n",
      "invalid value encountered in longlong_scalars\n",
      "\n"
     ]
    }
   ],
   "source": [
    "stump_summary = stumps.stump_cv(X = X_stumps, \n",
    "                                Y = Y_stumps, \n",
    "                                columns=cols, \n",
    "                                c_grid={'C': [0.001, 0.002, 0.003]}, \n",
    "                                seed = 816)"
   ]
  },
  {
   "cell_type": "code",
   "execution_count": 20,
   "metadata": {},
   "outputs": [
    {
     "data": {
      "text/plain": [
       "([{'C': 0.003}, {'C': 0.003}, {'C': 0.003}, {'C': 0.003}, {'C': 0.003}],\n",
       " 0.8505647592386616,\n",
       " 0.011499596827719972)"
      ]
     },
     "execution_count": 20,
     "metadata": {},
     "output_type": "execute_result"
    }
   ],
   "source": [
    "stump_summary['best_params'], np.mean(stump_summary['holdout_test_auc']), np.mean(stump_summary['auc_diffs'])"
   ]
  },
  {
   "cell_type": "markdown",
   "metadata": {},
   "source": [
    "##### Best Stump Model"
   ]
  },
  {
   "cell_type": "code",
   "execution_count": 21,
   "metadata": {},
   "outputs": [
    {
     "data": {
      "text/plain": [
       "22"
      ]
     },
     "execution_count": 21,
     "metadata": {},
     "output_type": "execute_result"
    }
   ],
   "source": [
    "best_stump_model = stumps.stump_model(X_train_stumps, \n",
    "                                      Y_train_stumps, \n",
    "                                      X_test_stumps, \n",
    "                                      Y_test_stumps, \n",
    "                                      c=0.003, \n",
    "                                      columns=cols, \n",
    "                                      seed=816)\n",
    "len(best_stump_model['features'])"
   ]
  },
  {
   "cell_type": "markdown",
   "metadata": {},
   "source": [
    "##### Prediction Table"
   ]
  },
  {
   "cell_type": "code",
   "execution_count": 22,
   "metadata": {
    "scrolled": true
   },
   "outputs": [
    {
     "name": "stdout",
     "output_type": "stream",
     "text": [
      "\begin{tabular}{|l|r|r|} \\hline\n",
      "1. sex>=1 & 34.1 & +... \\ \\hline\n",
      "2. age_at_current_charge<=29 & 3.3 & +... \\ \\hline\n",
      "3. age_at_current_charge<=38 & 32.7 & +... \\ \\hline\n",
      "4. age_at_current_charge<=43 & 5.7 & +... \\ \\hline\n",
      "5. p_arrest>=1 & 73.9 & -... \\ \\hline\n",
      "6. p_arrest>=2 & 53.9 & +... \\ \\hline\n",
      "7. p_arrest>=3 & 29.0 & +... \\ \\hline\n",
      "8. p_arrest>=4 & 6.4 & +... \\ \\hline\n",
      "9. p_charges>=1 & 67.3 & -... \\ \\hline\n",
      "10. p_charges>=5 & 0.7 & +... \\ \\hline\n",
      "11. p_violence>=1 & 2.3 & -... \\ \\hline\n",
      "12. p_felony>=1 & 43.0 & +... \\ \\hline\n",
      "13. p_felony>=2 & 19.1 & +... \\ \\hline\n",
      "14. p_misdemeanor>=3 & 12.2 & +... \\ \\hline\n",
      "15. p_property>=1 & 229.7 & +... \\ \\hline\n",
      "16. p_assault>=1 & 2.4 & -... \\ \\hline\n",
      "17. p_traffic>=1 & 0.1 & +... \\ \\hline\n",
      "18. p_drug>=1 & 40.6 & -... \\ \\hline\n",
      "19. p_prison>=1 & 50.2 & -... \\ \\hline\n",
      "20. p_pending_charge>=1 & 81.1 & +... \\ \\hline\n",
      "21. p_probation>=1 & 28.8 & +... \\ \\hline\n",
      "22. current_violence>=1 & 36.5 & -... \\ \\hline\n",
      "23. Intercept & -0.62 & -... \\ \\hline\n",
      "\textbf{ADD POINTS FROM ROWS 1 TO 23}  &  \textbf{SCORE} & = ..... \\ \\hline\n",
      "\\multicolumn{3}{l}{Pr(Y = 1) = exp(score/100) / (1 + exp(score/100))} \\ \\hline\n"
     ]
    }
   ],
   "source": [
    "stumps.latex_stump_table(best_stump_model['coefs'], \n",
    "                   best_stump_model['features'], \n",
    "                   best_stump_model['intercept'], \n",
    "                   best_stump_model['dictionary'])"
   ]
  },
  {
   "cell_type": "markdown",
   "metadata": {},
   "source": [
    "##### Stumps Visualizations"
   ]
  },
  {
   "cell_type": "code",
   "execution_count": 23,
   "metadata": {
    "scrolled": true
   },
   "outputs": [
    {
     "data": {
      "image/png": "[encoded data removed]",
      "text/plain": [
       "<Figure size 288x216 with 1 Axes>"
      ]
     },
     "metadata": {
      "needs_background": "light"
     },
     "output_type": "display_data"
    },
    {
     "data": {
      "image/png": "[encoded data removed]",
      "text/plain": [
       "<Figure size 288x216 with 1 Axes>"
      ]
     },
     "metadata": {
      "needs_background": "light"
     },
     "output_type": "display_data"
    },
    {
     "data": {
      "image/png": "[encoded data removed]",
      "text/plain": [
       "<Figure size 288x216 with 1 Axes>"
      ]
     },
     "metadata": {
      "needs_background": "light"
     },
     "output_type": "display_data"
    },
    {
     "data": {
      "image/png": "[encoded data removed]",
      "text/plain": [
       "<Figure size 288x216 with 1 Axes>"
      ]
     },
     "metadata": {
      "needs_background": "light"
     },
     "output_type": "display_data"
    },
    {
     "data": {
      "image/png": "[encoded data removed]",
      "text/plain": [
       "<Figure size 288x216 with 1 Axes>"
      ]
     },
     "metadata": {
      "needs_background": "light"
     },
     "output_type": "display_data"
    },
    {
     "data": {
      "image/png": "[encoded data removed]",
      "text/plain": [
       "<Figure size 288x216 with 1 Axes>"
      ]
     },
     "metadata": {
      "needs_background": "light"
     },
     "output_type": "display_data"
    },
    {
     "data": {
      "image/png": "[encoded data removed]",
      "text/plain": [
       "<Figure size 288x216 with 1 Axes>"
      ]
     },
     "metadata": {
      "needs_background": "light"
     },
     "output_type": "display_data"
    },
    {
     "data": {
      "image/png": "[encoded data removed]",
      "text/plain": [
       "<Figure size 288x216 with 1 Axes>"
      ]
     },
     "metadata": {
      "needs_background": "light"
     },
     "output_type": "display_data"
    },
    {
     "data": {
      "image/png": "[encoded data removed]",
      "text/plain": [
       "<Figure size 288x216 with 1 Axes>"
      ]
     },
     "metadata": {
      "needs_background": "light"
     },
     "output_type": "display_data"
    },
    {
     "data": {
      "image/png": "[encoded data removed]",
      "text/plain": [
       "<Figure size 288x216 with 1 Axes>"
      ]
     },
     "metadata": {
      "needs_background": "light"
     },
     "output_type": "display_data"
    },
    {
     "data": {
      "image/png": "[encoded data removed]",
      "text/plain": [
       "<Figure size 288x216 with 1 Axes>"
      ]
     },
     "metadata": {
      "needs_background": "light"
     },
     "output_type": "display_data"
    },
    {
     "data": {
      "image/png": "[encoded data removed]",
      "text/plain": [
       "<Figure size 288x216 with 1 Axes>"
      ]
     },
     "metadata": {
      "needs_background": "light"
     },
     "output_type": "display_data"
    },
    {
     "data": {
      "image/png": "[encoded data removed]",
      "text/plain": [
       "<Figure size 288x216 with 1 Axes>"
      ]
     },
     "metadata": {
      "needs_background": "light"
     },
     "output_type": "display_data"
    },
    {
     "data": {
      "image/png": "[encoded data removed]",
      "text/plain": [
       "<Figure size 288x216 with 1 Axes>"
      ]
     },
     "metadata": {
      "needs_background": "light"
     },
     "output_type": "display_data"
    },
    {
     "data": {
      "image/png": "[encoded data removed]",
      "text/plain": [
       "<Figure size 288x216 with 1 Axes>"
      ]
     },
     "metadata": {
      "needs_background": "light"
     },
     "output_type": "display_data"
    }
   ],
   "source": [
    "stumps.stump_plots(best_stump_model['features'], best_stump_model['coefs'], indicator='KY')"
   ]
  },
  {
   "cell_type": "markdown",
   "metadata": {},
   "source": [
    "## RiskSLIM"
   ]
  },
  {
   "cell_type": "code",
   "execution_count": 24,
   "metadata": {},
   "outputs": [],
   "source": [
    "## load stumps data\n",
    "data = pd.read_csv(\"~/Documents/Duke/Cynthia Research/KY-analysis-mytrials/KY Recidivism/KY data/kentucky_stumps.csv\")\n",
    "x, y = data.loc[:,:'current_violence>=1'], data['recid_property_six_month'].values\n",
    "cols = x.columns[3:]"
   ]
  },
  {
   "cell_type": "code",
   "execution_count": 25,
   "metadata": {},
   "outputs": [
    {
     "data": {
      "text/plain": [
       "30"
      ]
     },
     "execution_count": 25,
     "metadata": {},
     "output_type": "execute_result"
    }
   ],
   "source": [
    "## train on best param chosen by Lasso Stumps from above\n",
    "x_train = x.copy().drop(['race', 'person_id', 'screening_date'], axis=1)\n",
    "lasso = LogisticRegression(class_weight='balanced', solver='liblinear', penalty='l1', C=0.005, random_state=816).fit(x_train,y)\n",
    "selected_features = cols[lasso.coef_[0] != 0].tolist()\n",
    "len(selected_features)"
   ]
  },
  {
   "cell_type": "code",
   "execution_count": 26,
   "metadata": {},
   "outputs": [],
   "source": [
    "### Subset features\n",
    "if 'sex>=1' in selected_features:\n",
    "    selected_features = ['recid_property_six_month', 'person_id', 'screening_date', 'race'] + selected_features\n",
    "    indicator = 1\n",
    "else:\n",
    "    selected_features = ['recid_property_six_month', 'person_id', 'screening_date', 'race', 'sex>=1'] + selected_features\n",
    "    indicator = 0\n",
    "\n",
    "sub_data = data[selected_features]\n",
    "sub_X, sub_Y = sub_data.iloc[:,1:], sub_data.iloc[:,0].values\n",
    "sub_X.insert(0, '(Intercept)', 1)"
   ]
  },
  {
   "cell_type": "code",
   "execution_count": 27,
   "metadata": {
    "scrolled": true
   },
   "outputs": [
    {
     "name": "stdout",
     "output_type": "stream",
     "text": [
      "setting c0 = 0.0 to ensure that intercept is not penalized\n",
      "10/01/19 @ 03:16 PM | 1301 rows in lookup table\n",
      "10/01/19 @ 03:16 PM | ------------------------------------------------------------\n",
      "10/01/19 @ 03:16 PM | runnning initialization procedure\n",
      "10/01/19 @ 03:16 PM | ------------------------------------------------------------\n",
      "10/01/19 @ 03:16 PM | CPA produced 2 cuts\n",
      "10/01/19 @ 03:16 PM | running naive rounding on 139 solutions\n",
      "10/01/19 @ 03:16 PM | best objective value: 0.0316\n",
      "10/01/19 @ 03:16 PM | rounding produced 5 integer solutions\n",
      "10/01/19 @ 03:16 PM | best objective value is 0.0321\n",
      "10/01/19 @ 03:16 PM | running sequential rounding on 139 solutions\n",
      "10/01/19 @ 03:16 PM | best objective value: 0.0316\n",
      "10/01/19 @ 03:16 PM | sequential rounding produced 6 integer solutions\n",
      "10/01/19 @ 03:16 PM | best objective value: 0.0320\n",
      "10/01/19 @ 03:16 PM | polishing 11 solutions\n",
      "10/01/19 @ 03:16 PM | best objective value: 0.0320\n",
      "10/01/19 @ 03:16 PM | polishing produced 5 integer solutions\n",
      "10/01/19 @ 03:16 PM | initialization produced 10 feasible solutions\n",
      "10/01/19 @ 03:16 PM | best objective value: 0.0320\n",
      "10/01/19 @ 03:16 PM | ------------------------------------------------------------\n",
      "10/01/19 @ 03:16 PM | completed initialization procedure\n",
      "10/01/19 @ 03:16 PM | ------------------------------------------------------------\n",
      "10/01/19 @ 03:16 PM | 1301 rows in lookup table\n",
      "CPXPARAM_Read_DataCheck                          1\n",
      "CPXPARAM_Threads                                 1\n",
      "CPXPARAM_Parallel                                1\n",
      "CPXPARAM_RandomSeed                              0\n",
      "CPXPARAM_TimeLimit                               200\n",
      "CPXPARAM_MIP_Tolerances_LowerCutoff              0.031435287662148002\n",
      "CPXPARAM_MIP_Tolerances_UpperCutoff              0.031982754818985354\n"
     ]
    },
    {
     "name": "stderr",
     "output_type": "stream",
     "text": [
      "Warning: Control callbacks may disable some MIP features.\n"
     ]
    },
    {
     "name": "stdout",
     "output_type": "stream",
     "text": [
      "Lazy constraint(s) or lazy constraint callback is present.\n",
      "    Disabling dual reductions (CPX_PARAM_REDUCE) in presolve.\n",
      "    Disabling non-linear reductions (CPX_PARAM_PRELINEAR) in presolve.\n",
      "         Disabling repeat represolve because of lazy constraint/incumbent callback.\n",
      "10/01/19 @ 03:16 PM | adding 249 initial cuts\n",
      "1 of 1 MIP starts provided solutions.\n",
      "MIP start 'mip_start_0' defined initial solution with objective 0.0320.\n",
      "Tried aggregator 1 time.\n",
      "Reduced MIP has 32 rows, 64 columns, and 123 nonzeros.\n",
      "Reduced MIP has 30 binaries, 32 generals, 0 SOSs, and 0 indicators.\n",
      "Presolve time = 0.00 sec. (0.07 ticks)\n",
      "Probing time = 0.00 sec. (0.02 ticks)\n",
      "MIP emphasis: balance optimality and feasibility.\n",
      "MIP search method: traditional branch-and-cut.\n",
      "Parallel mode: none, using 1 thread.\n",
      "Root relaxation solution time = 0.00 sec. (0.04 ticks)\n",
      "\n",
      "        Nodes                                         Cuts/\n",
      "   Node  Left     Objective  IInf  Best Integer    Best Bound    ItCnt     Gap         Variable B NodeID Parent  Depth\n",
      "\n",
      "*     0+    0                            0.0320        0.0314             1.74%\n",
      "      0     0        0.0314     1        0.0320        0.0314        1    1.71%\n",
      "      0     2        0.0314     3        0.0320        0.0314        1    1.71%                        0             0\n",
      "Elapsed time = 0.19 sec. (1.50 ticks, tree = 0.01 MB, solutions = 1)\n",
      "   2935  1712        0.0319     5        0.0320        0.0314    11250    1.71%           rho_1 D   2935   2934     43\n",
      "   5304  2692        cutoff              0.0320        0.0314    20049    1.71%          rho_16 U   5304   5302     60\n",
      "   7220  3535        0.0316     4        0.0320        0.0314    29039    1.71%        alpha_11 U   7220   7219     83\n",
      "   8995  4589        cutoff              0.0320        0.0314    37757    1.71%           rho_9 U   8995   8994     80\n",
      "  10756  5718        0.0319     4        0.0320        0.0314    46516    1.71%          rho_10 U  10756  10754     77\n",
      "  12460  6554        0.0315     9        0.0320        0.0314    55080    1.71%           rho_4 D  12460  12459     99\n",
      "  14276  7258        0.0314     3        0.0320        0.0314    63624    1.71%           rho_3 D  14276  14226     52\n",
      "  16028  8049        cutoff              0.0320        0.0314    73152    1.71%           rho_0 U  16028  16027     28\n",
      "  17826  8819        0.0314     6        0.0320        0.0314    82426    1.71%          rho_10 D  17826  17825     78\n",
      "  25326 12227        0.0314     1        0.0320        0.0314   118938    1.71%          rho_10 U  25326  25324     62\n",
      "Elapsed time = 4.41 sec. (3101.87 ticks, tree = 3.20 MB, solutions = 1)\n",
      "  33358 15788        0.0315    11        0.0320        0.0314   156921    1.71%           rho_0 D  33358  33356     68\n",
      "  39615 18387        0.0315    10        0.0320        0.0314   189536    1.71%           rho_3 U  39615  14313     58\n",
      "  45970 21638        0.0317     7        0.0320        0.0314   218538    1.71%          rho_15 D  45970  45968     61\n",
      "  52443 23871        cutoff              0.0320        0.0314   252012    1.71%          rho_27 U  52443  52441     74\n",
      "  58557 26130        0.0317     5        0.0320        0.0314   283788    1.71%          rho_27 D  58557  58555     56\n",
      "  64547 28417        0.0316    14        0.0320        0.0314   314683    1.71%          rho_29 U  64547  55520     69\n",
      "  70178 30605        0.0319     4        0.0320        0.0314   343354    1.71%          rho_29 D  70178  70177     44\n",
      "  75517 32391        0.0318     7        0.0320        0.0314   369783    1.71%          rho_11 D  75517  75516     84\n",
      "  80684 33793        0.0319    13        0.0320        0.0314   396431    1.71%           rho_0 D  80684  80683     27\n",
      "  85730 36745        0.0314    12        0.0320        0.0314   424737    1.71%          rho_10 U  85730  85728     40\n",
      "Elapsed time = 13.94 sec. (12640.10 ticks, tree = 10.87 MB, solutions = 1)\n",
      "  90749 39062        0.0314     6        0.0320        0.0314   450255    1.71%           rho_6 D  90749  66503     15\n",
      "  95667 40859        0.0316     9        0.0320        0.0314   474256    1.71%          rho_23 D  95667  95666     48\n",
      " 100499 42588        0.0316    13        0.0320        0.0314   496808    1.71%           rho_0 U 100499 100498     71\n",
      " 105405 44312        0.0314    16        0.0320        0.0314   520120    1.71%           rho_5 D 105405 105404     66\n",
      " 110228 45988        0.0317     7        0.0320        0.0314   543135    1.71%          rho_16 D 110228 110227     67\n",
      " 115051 47769        0.0316     9        0.0320        0.0314   566787    1.71%           rho_0 U 115051 115050     44\n",
      " 119936 49431        0.0318     9        0.0320        0.0314   589492    1.71%           rho_4 U 119936 119934     58\n",
      " 124495 51170        0.0314     6        0.0320        0.0314   614357    1.71%           rho_0 D 124495 124493     60\n",
      " 129039 52912        cutoff              0.0320        0.0314   637890    1.71%          rho_14 U 129039 129038     22\n",
      " 133379 55246        cutoff              0.0320        0.0314   663568    1.71%          rho_11 U 133379 133378     66\n",
      "Elapsed time = 22.23 sec. (22177.75 ticks, tree = 15.24 MB, solutions = 1)\n",
      " 137840 56968        0.0314    11        0.0320        0.0314   686201    1.71%          rho_10 D 137840 137839     52\n",
      " 142020 58476        0.0318     9        0.0320        0.0314   712938    1.71%           rho_0 U 142020 142019     46\n",
      " 146398 60202        0.0314     9        0.0320        0.0314   736319    1.71%           rho_4 D 146398 146397     74\n",
      " 150865 61869        0.0315    16        0.0320        0.0314   758006    1.71%           rho_5 D 150865 150864     84\n",
      " 155260 63337        0.0317    10        0.0320        0.0314   781575    1.71%           rho_4 U 155260 155258     47\n",
      " 159460 65304        0.0315    13        0.0320        0.0314   806418    1.71%          rho_10 D 159460 159459     52\n",
      " 163580 67123        0.0319     0        0.0320        0.0314   831528    1.71%          rho_19 D 163580 163578     16\n",
      " 166890 69348        0.0318     7        0.0320        0.0314   859734    1.71%          rho_15 D 166890 166889     64\n",
      " 170489 71060        0.0317     7        0.0320        0.0314   881836    1.71%          rho_16 D 170489 170488     58\n",
      " 174515 72977        0.0319     5        0.0320        0.0314   907641    1.71%          rho_14 D 174515 174513     39\n",
      "Elapsed time = 30.41 sec. (31717.69 ticks, tree = 22.28 MB, solutions = 1)\n",
      " 178460 74449        0.0319     5        0.0320        0.0314   934934    1.71%          rho_29 D 178460 178459     38\n",
      " 182430 75613        0.0318     9        0.0320        0.0314   960264    1.71%          rho_16 D 182430 182429     73\n",
      " 186431 76850        0.0320     5        0.0320        0.0314   985548    1.71%          rho_23 U 186431 186429     70\n",
      " 190336 78009        0.0319    10        0.0320        0.0314  1009710    1.71%          rho_11 D 190336 190335     80\n",
      " 194307 78795        0.0319     7        0.0320        0.0314  1032535    1.71%           rho_0 U 194307 194306     91\n",
      " 198470 79617        0.0314     6        0.0320        0.0314  1054415    1.71%           rho_4 U 198470 198391     24\n",
      " 202535 81359        0.0315    13        0.0320        0.0314  1077545    1.71%          rho_10 D 202535 202534     53\n",
      " 206307 83881        0.0314     7        0.0320        0.0314  1100213    1.71%          rho_10 D 206307 206306     54\n",
      " 210002 86116        0.0314     6        0.0320        0.0314  1120055    1.71%          rho_10 U 210002 210000     60\n",
      " 213650 87997        0.0318     9        0.0320        0.0314  1139854    1.71%           rho_0 U 213650 213649     62\n",
      "Elapsed time = 38.78 sec. (41256.97 ticks, tree = 25.97 MB, solutions = 1)\n",
      " 218017 90110        cutoff              0.0320        0.0314  1162725    1.71%           rho_9 D 218017 218016     96\n",
      " 222063 92376        0.0314     6        0.0320        0.0314  1188307    1.71%          rho_10 U 222063 222061     77\n",
      " 226031 94028        0.0318     9        0.0320        0.0314  1211291    1.71%          rho_16 D 226031 226030     57\n",
      " 229980 96308        0.0314     6        0.0320        0.0314  1233391    1.71%          rho_10 U 229980 229979     13\n",
      " 233704 97991        cutoff              0.0320        0.0314  1254463    1.71%           rho_9 U 233704 233703     72\n",
      " 237850 99913        0.0314    10        0.0320        0.0314  1285118    1.71%           rho_0 D 237850 237848     60\n",
      " 242000 101879        0.0320     9        0.0320        0.0314  1309724    1.71%          rho_16 D 242000 241997     48\n",
      " 246051 103317        0.0315    12        0.0320        0.0314  1335023    1.71%          rho_29 D 246051 246050     23\n",
      " 249550 105050        0.0314     8        0.0320        0.0314  1368730    1.71%           rho_0 D 249550 249547     55\n",
      " 253277 106375        0.0314     6        0.0320        0.0314  1393853    1.71%           rho_0 D 253277 253275     77\n",
      "Elapsed time = 47.94 sec. (50795.50 ticks, tree = 30.38 MB, solutions = 1)\n",
      " 256866 107917        0.0315    11        0.0320        0.0314  1421726    1.71%          rho_23 D 256866 248351     21\n",
      " 260350 109894        0.0314    13        0.0320        0.0314  1449154    1.71%          rho_10 D 260350 260257     33\n",
      " 263572 111659        0.0320     8        0.0320        0.0314  1476803    1.71%          rho_11 D 263572 263570     61\n",
      " 267237 112914        0.0320     8        0.0320        0.0314  1504146    1.71%          rho_23 D 267237 267235     42\n",
      " 271090 114535        0.0314     9        0.0320        0.0314  1528903    1.71%          rho_10 D 271090 271089     55\n",
      " 274552 116576        0.0314     6        0.0320        0.0314  1551371    1.71%          rho_10 U 274552 274550     57\n",
      " 278206 118537        0.0314    16        0.0320        0.0314  1572669    1.71%          rho_10 D 278206 278205     36\n",
      " 282326 119821        0.0315    13        0.0320        0.0314  1592327    1.71%          rho_13 D 282326 282325     57\n",
      " 286593 120778        0.0318     9        0.0320        0.0314  1610712    1.71%          rho_15 D 286593 286591     66\n",
      " 290815 122261        0.0314     6        0.0320        0.0314  1632133    1.71%           rho_0 D 290815 290813     41\n",
      "Elapsed time = 56.69 sec. (60333.92 ticks, tree = 34.19 MB, solutions = 1)\n",
      " 294620 123659        0.0315    14        0.0320        0.0314  1656302    1.71%           rho_4 U 294620 294619     64\n",
      " 298291 124885        cutoff              0.0320        0.0314  1680373    1.71%           rho_0 U 298291 298289     68\n",
      " 301765 126099        0.0320    10        0.0320        0.0314  1703851    1.71%          rho_23 D 301765 301764     26\n",
      " 305235 128177        0.0317     7        0.0320        0.0314  1728906    1.71%           rho_0 U 305235 305234     55\n",
      " 308260 130297        cutoff              0.0320        0.0314  1752658    1.71%           rho_0 U 308260 308259     81\n",
      " 311857 131450        0.0315    12        0.0320        0.0314  1775719    1.71%           rho_0 D 311857 311855     57\n",
      " 315523 132661        0.0318    12        0.0320        0.0314  1798611    1.71%           rho_5 U 315523 315522     46\n",
      " 318858 133905        0.0317    12        0.0320        0.0314  1821046    1.71%           rho_0 D 318858 318856     53\n",
      " 322051 134619        0.0315     9        0.0320        0.0314  1844451    1.71%          rho_23 D 322051 322050     24\n",
      " 325739 136094        0.0315    14        0.0320        0.0314  1868921    1.71%          rho_29 U 325739  83937     39\n",
      "Elapsed time = 65.34 sec. (69872.03 ticks, tree = 40.56 MB, solutions = 1)\n",
      " 329520 137608        0.0317    10        0.0320        0.0314  1892459    1.71%          rho_23 D 329520 329519     55\n",
      " 333296 139087        0.0318     7        0.0320        0.0314  1915851    1.71%          rho_19 D 333296 333295     87\n",
      " 337252 140686        0.0315    14        0.0320        0.0314  1937908    1.71%          rho_29 U 337252  84659     65\n",
      " 340802 142040        cutoff              0.0320        0.0314  1959831    1.71%           rho_0 U 340802 340801     51\n",
      " 344207 143075        0.0314    10        0.0320        0.0314  1980881    1.71%           rho_0 D 344207 344205     23\n",
      " 347535 144267        0.0319     9        0.0320        0.0314  2002050    1.71%           rho_9 D 347535 347534     76\n",
      " 350781 145287        0.0319     8        0.0320        0.0314  2020435    1.71%           rho_0 D 350781 350780     59\n",
      " 353980 146129        0.0319     7        0.0320        0.0314  2039607    1.71%           rho_9 D 353980 353979     77\n",
      " 357110 147206        0.0315    13        0.0320        0.0314  2060460    1.71%           rho_1 D 357110 357109     80\n",
      " 360234 148356        0.0315    13        0.0320        0.0314  2080906    1.71%           rho_4 D 360234 138232     49\n",
      "Elapsed time = 73.31 sec. (79411.55 ticks, tree = 43.66 MB, solutions = 1)\n",
      " 363322 149333        cutoff              0.0320        0.0314  2101842    1.71%          rho_11 U 363322 363321     64\n",
      " 366660 150386        0.0316    17        0.0320        0.0314  2121435    1.71%           rho_5 D 366660 366659     63\n",
      " 369664 151150        0.0318    10        0.0320        0.0314  2143278    1.71%           rho_1 U 369664 369662     74\n",
      " 372780 151894        0.0319     7        0.0320        0.0314  2164281    1.71%          rho_11 D 372780 372778     75\n",
      " 375834 152575        0.0315    14        0.0320        0.0314  2185957    1.71%           rho_0 D 375834 375832     51\n",
      " 378923 153277        0.0317    13        0.0320        0.0314  2207049    1.71%           rho_0 U 378923 378922     56\n",
      " 382139 154020        0.0316     5        0.0320        0.0314  2226860    1.71%          rho_13 U 382139 382138     53\n",
      " 385284 154918        0.0314    10        0.0320        0.0314  2247910    1.71%          rho_10 U 385284 385282     34\n",
      " 388560 156703        0.0314    13        0.0320        0.0314  2271634    1.71%          rho_10 D 388560 388559     49\n",
      " 401623 162689        0.0314     8        0.0320        0.0314  2354887    1.71%          rho_10 U 401623 401621     49\n",
      "Elapsed time = 83.50 sec. (91812.12 ticks, tree = 48.94 MB, solutions = 1)\n",
      " 415509 167837        cutoff              0.0320        0.0314  2436575    1.71%           rho_0 U 415509 415508     56\n",
      " 428617 172542        0.0315    15        0.0320        0.0314  2514153    1.71%          rho_10 D 428617 428616     41\n",
      " 441147 178933        0.0314     8        0.0320        0.0314  2592242    1.71%          rho_10 U 441147 441133     33\n",
      " 453360 185156        0.0319    14        0.0320        0.0314  2670392    1.71%           rho_5 U 453360 453358     94\n",
      " 467064 191352        cutoff              0.0320        0.0314  2741269    1.71%           rho_8 U 467064 467063     63\n",
      " 478360 197606        0.0316    17        0.0320        0.0314  2827431    1.71%           rho_0 D 478360 478358     72\n",
      " 491547 203321        cutoff              0.0320        0.0314  2917309    1.71%           rho_5 U 491547 491546     40\n",
      " 504135 208815        0.0314    16        0.0320        0.0314  3003713    1.71%           rho_4 D 504135 503934     40\n",
      " 517113 214419        0.0314    10        0.0320        0.0314  3089366    1.71%           rho_0 D 517113 517111     45\n",
      " 529648 219122        0.0315    16        0.0320        0.0314  3165004    1.71%           rho_5 U 529648 529646     90\n",
      "Elapsed time = 114.22 sec. (129961.84 ticks, tree = 64.76 MB, solutions = 1)\n",
      " 542917 224597        0.0314     8        0.0320        0.0314  3242615    1.71%          rho_10 U 542917 542915     33\n",
      " 555798 230796        0.0318     7        0.0320        0.0314  3319185    1.71%           rho_0 U 555798 555796     74\n",
      " 568513 235628        cutoff              0.0320        0.0314  3394520    1.71%          rho_11 D 568513 568511     63\n",
      " 581387 239642        0.0315    12        0.0320        0.0314  3467907    1.71%          rho_23 D 581387 581386     70\n",
      " 593566 244840        0.0315     9        0.0320        0.0314  3545737    1.71%           rho_3 D 593566 593528     87\n",
      " 605569 249350        0.0316     9        0.0320        0.0314  3625206    1.71%           rho_5 D 605569 605567     66\n",
      " 618650 254461        0.0319     9        0.0320        0.0314  3692569    1.71%           rho_0 D 618650 618648     70\n",
      " 631378 259492        0.0317    13        0.0320        0.0314  3762058    1.71%          rho_23 D 631378 631377     34\n",
      " 644098 264916        0.0318     6        0.0320        0.0314  3832832    1.71%           rho_8 U 644098 644072     53\n",
      " 656664 269130        0.0318     5        0.0320        0.0314  3902346    1.71%           rho_9 D 656664 656662     58\n",
      "Elapsed time = 142.33 sec. (168110.56 ticks, tree = 80.04 MB, solutions = 1)\n",
      " 670018 273805        0.0316    12        0.0320        0.0314  3971054    1.71%           rho_1 D 670018 670017     63\n",
      " 683415 279900        0.0314    11        0.0320        0.0314  4040222    1.71%          rho_10 U 683415 683390     51\n",
      " 696232 284399        0.0318     3        0.0320        0.0314  4112239    1.71%           rho_9 D 696232 696231     69\n",
      " 708716 289618        0.0318    12        0.0320        0.0314  4183996    1.71%           rho_0 D 708716 708715     71\n",
      " 720995 293946        0.0315    14        0.0320        0.0314  4252628    1.71%           rho_5 U 720995 447874     59\n",
      " 733139 298127        cutoff              0.0320        0.0314  4321060    1.71%          rho_11 U 733139 733138     36\n",
      " 746248 304252        0.0315    15        0.0320        0.0314  4386379    1.71%           rho_5 D 746248 746247     45\n",
      " 758284 310873        0.0317    12        0.0320        0.0314  4451762    1.71%           rho_4 D 758284 758283     33\n",
      " 768745 316691        0.0317     9        0.0320        0.0314  4519571    1.71%           rho_8 D 768745 768744     67\n",
      " 781955 321913        0.0314    13        0.0320        0.0314  4604381    1.71%           rho_4 U 781955 781954     50\n",
      "Elapsed time = 171.03 sec. (206259.27 ticks, tree = 96.48 MB, solutions = 1)\n",
      " 794184 327382        0.0315    12        0.0320        0.0314  4682746    1.71%          rho_10 D 794184 794183     58\n",
      " 806729 331596        0.0315    13        0.0320        0.0314  4756596    1.71%          rho_13 D 806729 806728     35\n",
      " 819692 336402        0.0319     7        0.0320        0.0314  4827282    1.71%           rho_9 D 819692 819690     92\n",
      " 831540 339827        0.0315    11        0.0320        0.0314  4898016    1.71%          rho_29 D 831540 831531     36\n",
      " 842934 343318        cutoff              0.0320        0.0314  4969951    1.71%          rho_23 D 842934 842933     58\n",
      " 854200 346706        0.0317     7        0.0320        0.0314  5043844    1.71%           rho_9 D 854200 854199     66\n",
      " 865520 351047        cutoff              0.0320        0.0314  5114064    1.71%           rho_0 U 865520 865519     50\n",
      " 877021 357291        cutoff              0.0320        0.0314  5179409    1.71%           rho_9 U 877021 877020     77\n",
      " 889077 361351        0.0315     9        0.0320        0.0314  5258411    1.71%           rho_3 U 889077 889076     58\n",
      " 900577 364741        cutoff              0.0320        0.0314  5331127    1.71%          rho_15 D 900577 900576     82\n",
      "Elapsed time = 199.83 sec. (244409.79 ticks, tree = 111.05 MB, solutions = 1)\n",
      "\n",
      "User cuts applied:  382\n",
      "\n",
      "Root node processing (before b&c):\n",
      "  Real time             =    0.19 sec. (1.54 ticks)\n",
      "Sequential b&c:\n",
      "  Real time             =  199.83 sec. (244735.56 ticks)\n",
      "                          ------------\n",
      "Total (root+branch&cut) =  200.02 sec. (244737.09 ticks)\n",
      "+----------------------------------------------+------------------+-----------+\n",
      "| Pr(Y = +1) = 1.0/(1.0 + exp(-(-8 + score))   |                  |           |\n",
      "| ============================================ | ================ | ========= |\n",
      "| p_property>=1                                |         2 points |   + ..... |\n",
      "| age_at_current_charge<=47                    |         1 points |   + ..... |\n",
      "| p_arrest>=2                                  |         1 points |   + ..... |\n",
      "| p_felony>=1                                  |         1 points |   + ..... |\n",
      "| p_pending_charge>=1                          |         1 points |   + ..... |\n",
      "| ============================================ | ================ | ========= |\n",
      "| ADD POINTS FROM ROWS 1 to 5                  |            SCORE |   = ..... |\n",
      "+----------------------------------------------+------------------+-----------+\n",
      "model_id, score_thresholds 0 {'rank_abs': [0]}\n",
      "get_disparity_predefined_group()\n"
     ]
    },
    {
     "name": "stderr",
     "output_type": "stream",
     "text": [
      "C:\\Users\\binha\\Documents\\Duke\\Cynthia Research\\psa-analysis - test2\\utils\\fairness_functions.py:82: RuntimeWarning:\n",
      "\n",
      "invalid value encountered in longlong_scalars\n",
      "\n",
      "C:\\Users\\binha\\Documents\\Duke\\Cynthia Research\\psa-analysis - test2\\utils\\fairness_functions.py:95: RuntimeWarning:\n",
      "\n",
      "divide by zero encountered in longlong_scalars\n",
      "\n",
      "C:\\Users\\binha\\Documents\\Duke\\Cynthia Research\\psa-analysis - test2\\utils\\fairness_functions.py:86: RuntimeWarning:\n",
      "\n",
      "invalid value encountered in longlong_scalars\n",
      "\n",
      "C:\\Users\\binha\\Documents\\Duke\\Cynthia Research\\psa-analysis - test2\\utils\\fairness_functions.py:95: RuntimeWarning:\n",
      "\n",
      "invalid value encountered in longlong_scalars\n",
      "\n"
     ]
    },
    {
     "name": "stdout",
     "output_type": "stream",
     "text": [
      "setting c0 = 0.0 to ensure that intercept is not penalized\n",
      "10/01/19 @ 03:19 PM | 1301 rows in lookup table\n",
      "10/01/19 @ 03:19 PM | ------------------------------------------------------------\n",
      "10/01/19 @ 03:19 PM | runnning initialization procedure\n",
      "10/01/19 @ 03:19 PM | ------------------------------------------------------------\n",
      "10/01/19 @ 03:19 PM | CPA produced 2 cuts\n",
      "10/01/19 @ 03:19 PM | running naive rounding on 153 solutions\n",
      "10/01/19 @ 03:19 PM | best objective value: 0.0312\n",
      "10/01/19 @ 03:19 PM | rounding produced 4 integer solutions\n",
      "10/01/19 @ 03:19 PM | best objective value is 0.0316\n",
      "10/01/19 @ 03:19 PM | running sequential rounding on 153 solutions\n",
      "10/01/19 @ 03:19 PM | best objective value: 0.0312\n",
      "10/01/19 @ 03:19 PM | sequential rounding produced 3 integer solutions\n",
      "10/01/19 @ 03:19 PM | best objective value: 0.0316\n",
      "10/01/19 @ 03:19 PM | polishing 7 solutions\n",
      "10/01/19 @ 03:19 PM | best objective value: 0.0316\n",
      "10/01/19 @ 03:19 PM | polishing produced 4 integer solutions\n",
      "10/01/19 @ 03:19 PM | initialization produced 7 feasible solutions\n",
      "10/01/19 @ 03:19 PM | best objective value: 0.0316\n",
      "10/01/19 @ 03:19 PM | ------------------------------------------------------------\n",
      "10/01/19 @ 03:19 PM | completed initialization procedure\n",
      "10/01/19 @ 03:19 PM | ------------------------------------------------------------\n",
      "10/01/19 @ 03:19 PM | 1301 rows in lookup table\n",
      "CPXPARAM_Read_DataCheck                          1\n",
      "CPXPARAM_Threads                                 1\n",
      "CPXPARAM_Parallel                                1\n",
      "CPXPARAM_RandomSeed                              0\n",
      "CPXPARAM_TimeLimit                               200\n",
      "CPXPARAM_MIP_Tolerances_LowerCutoff              0.031153278864253214\n",
      "CPXPARAM_MIP_Tolerances_UpperCutoff              0.031629545314499394\n"
     ]
    },
    {
     "name": "stderr",
     "output_type": "stream",
     "text": [
      "Warning: Control callbacks may disable some MIP features.\n"
     ]
    },
    {
     "name": "stdout",
     "output_type": "stream",
     "text": [
      "Lazy constraint(s) or lazy constraint callback is present.\n",
      "    Disabling dual reductions (CPX_PARAM_REDUCE) in presolve.\n",
      "    Disabling non-linear reductions (CPX_PARAM_PRELINEAR) in presolve.\n",
      "         Disabling repeat represolve because of lazy constraint/incumbent callback.\n",
      "10/01/19 @ 03:19 PM | adding 249 initial cuts\n",
      "1 of 1 MIP starts provided solutions.\n",
      "MIP start 'mip_start_0' defined initial solution with objective 0.0316.\n",
      "Tried aggregator 1 time.\n",
      "Reduced MIP has 32 rows, 64 columns, and 123 nonzeros.\n",
      "Reduced MIP has 30 binaries, 32 generals, 0 SOSs, and 0 indicators.\n",
      "Presolve time = 0.02 sec. (0.07 ticks)\n",
      "Probing time = 0.00 sec. (0.02 ticks)\n",
      "MIP emphasis: balance optimality and feasibility.\n",
      "MIP search method: traditional branch-and-cut.\n",
      "Parallel mode: none, using 1 thread.\n",
      "Root relaxation solution time = 0.00 sec. (0.04 ticks)\n",
      "\n",
      "        Nodes                                         Cuts/\n",
      "   Node  Left     Objective  IInf  Best Integer    Best Bound    ItCnt     Gap         Variable B NodeID Parent  Depth\n",
      "\n",
      "*     0+    0                            0.0316        0.0311             1.54%\n",
      "      0     0        0.0312     1        0.0316        0.0312        1    1.51%\n",
      "      0     2        0.0312     3        0.0316        0.0312        1    1.51%                        0             0\n",
      "Elapsed time = 0.17 sec. (1.48 ticks, tree = 0.01 MB, solutions = 1)\n",
      "   3066  1688        0.0312     4        0.0316        0.0312    11629    1.51%          rho_15 D   3066   3065     59\n",
      "   5610  2982        0.0312     8        0.0316        0.0312    20588    1.51%           rho_2 D   5610   5609     60\n",
      "   7814  4256        0.0312     5        0.0316        0.0312    29907    1.51%         alpha_3 D   7814   7813     50\n",
      "  10013  5364        0.0313     3        0.0316        0.0312    38743    1.51%        alpha_23 D  10013  10011     81\n",
      "  12225  6490        cutoff              0.0316        0.0312    47548    1.51%           rho_0 U  12225  12151     56\n",
      "  14473  7615        cutoff              0.0316        0.0312    56436    1.51%          rho_29 U  14473  14471     50\n",
      "  16893  8807        0.0316     6        0.0316        0.0312    66619    1.51%          rho_29 U  16893  16891     32\n",
      "  18920  9865        0.0315     5        0.0316        0.0312    76704    1.51%          rho_11 D  18920  18918     44\n",
      "  21251 10858        0.0312     6        0.0316        0.0312    86356    1.51%          rho_19 U  21251  21250     29\n",
      "  30277 14890        cutoff              0.0316        0.0312   132795    1.51%          rho_28 U  30277  30275     81\n",
      "Elapsed time = 4.17 sec. (3101.83 ticks, tree = 3.75 MB, solutions = 1)\n",
      "  39811 19273        0.0312     1        0.0316        0.0312   178165    1.51%           rho_0 D  39811  39810     39\n",
      "  48090 24183        0.0312     6        0.0316        0.0312   216870    1.51%           rho_2 D  48090  48089     56\n",
      "  55872 28271        cutoff              0.0316        0.0312   252237    1.51%         alpha_8 D  55872  55871     66\n",
      "  63600 32388        0.0313     8        0.0316        0.0312   287654    1.51%          rho_28 D  63600  63599     65\n",
      "  73068 36272        0.0312     1        0.0316        0.0312   326941    1.51%          rho_10 U  73068  73066     59\n",
      "  82872 40968        cutoff              0.0316        0.0312   371101    1.51%         alpha_8 D  82872  82871     81\n",
      "  90290 45035        0.0316     1        0.0316        0.0312   408917    1.51%          rho_23 U  90290  90289     60\n",
      "  98315 48333        0.0316     5        0.0316        0.0312   447808    1.51%         alpha_8 D  98315  98314     98\n",
      " 106674 51604        0.0312     1        0.0316        0.0312   484137    1.51%          rho_10 U 106674 106672     65\n",
      " 115887 54968        cutoff              0.0316        0.0312   515634    1.51%           rho_2 U 115887 115885     61\n",
      "Elapsed time = 13.91 sec. (12640.17 ticks, tree = 14.50 MB, solutions = 1)\n",
      " 125472 58555        0.0312     7        0.0316        0.0312   547636    1.51%          rho_23 D 125472 125471     78\n",
      " 134827 61842        0.0312     1        0.0316        0.0312   581443    1.51%          rho_10 U 134827 134825     57\n",
      " 142605 64876        0.0312     8        0.0316        0.0312   616400    1.51%           rho_0 U 142605 142604     69\n",
      " 148480 68659        0.0312    11        0.0316        0.0312   651510    1.51%          rho_10 D 148480 148479     69\n",
      " 154744 71530        0.0312     4        0.0316        0.0312   680714    1.51%           rho_3 U 154744 154742     94\n",
      " 161476 74365        cutoff              0.0316        0.0312   715785    1.51%          rho_11 U 161476 161474     62\n",
      " 167300 76759        cutoff              0.0316        0.0312   748063    1.51%          rho_13 U 167300 167299     70\n",
      " 173448 79913        0.0312     8        0.0316        0.0312   780767    1.51%           rho_0 U 173448 173447     48\n",
      " 178688 82551        0.0316     7        0.0316        0.0312   810650    1.51%           rho_0 U 178688 178687     54\n",
      " 184664 85040        0.0312     6        0.0316        0.0312   843800    1.51%          rho_11 U 184664  87159     51\n",
      "Elapsed time = 24.03 sec. (22177.59 ticks, tree = 24.01 MB, solutions = 1)\n",
      " 190643 87409        0.0312     8        0.0316        0.0312   875901    1.51%          rho_13 D 190643 190636     71\n",
      " 196610 89847        0.0312     1        0.0316        0.0312   907031    1.51%          rho_10 U 196610 196608     60\n",
      " 202519 92095        cutoff              0.0316        0.0312   935073    1.51%           rho_0 D 202519 202518     61\n",
      " 208100 94338        0.0314     7        0.0316        0.0312   965029    1.51%          rho_13 D 208100 208099     57\n",
      " 213643 96716        0.0312     6        0.0316        0.0312   997445    1.51%          rho_11 U 213643  80225     51\n",
      " 219192 98947        0.0316     5        0.0316        0.0312  1029479    1.51%          rho_14 D 219192 219191     69\n",
      " 224734 101223        cutoff              0.0316        0.0312  1061776    1.51%           rho_0 U 224734 224733     62\n",
      " 230698 103889        0.0315    11        0.0316        0.0312  1095239    1.51%           rho_8 U 230698 230688     51\n",
      " 235430 105613        0.0313     7        0.0316        0.0312  1121576    1.51%          rho_29 D 235430 235429     59\n",
      " 239970 107519        0.0312     3        0.0316        0.0312  1149286    1.51%           rho_3 D 239970 239969     74\n",
      "Elapsed time = 32.83 sec. (31715.75 ticks, tree = 29.15 MB, solutions = 1)\n",
      " 244965 109610        0.0314     7        0.0316        0.0312  1178307    1.51%          rho_19 D 244965 244964     29\n",
      " 250223 112373        cutoff              0.0316        0.0312  1208488    1.51%        alpha_27 U 250223 250222     56\n",
      " 254886 114812        cutoff              0.0316        0.0312  1235560    1.51%           rho_5 U 254886   5975     25\n",
      " 260551 116152        0.0316     5        0.0316        0.0312  1263514    1.51%          rho_14 D 260551 260550     79\n",
      " 266002 117860        0.0312     5        0.0316        0.0312  1291433    1.51%          rho_19 U 266002   3624     49\n",
      " 270961 119835        0.0312    13        0.0316        0.0312  1319921    1.51%           rho_5 U 270961 270954     44\n",
      " 276188 122264        cutoff              0.0316        0.0312  1347282    1.51%          rho_14 D 276188 276187     96\n",
      " 281355 124071        0.0312    13        0.0316        0.0312  1375310    1.51%           rho_2 D 281355 281354     56\n",
      " 286236 125642        cutoff              0.0316        0.0312  1404723    1.51%           rho_8 U 286236 286235     56\n",
      " 290925 126940        0.0312    10        0.0316        0.0312  1433010    1.51%           rho_5 U 290925 290898     80\n",
      "Elapsed time = 42.36 sec. (41253.71 ticks, tree = 33.66 MB, solutions = 1)\n",
      " 295780 128376        cutoff              0.0316        0.0312  1460716    1.51%          rho_23 U 295780 295779     99\n",
      " 300900 129831        0.0316     3        0.0316        0.0312  1490127    1.51%           rho_2 D 300900 300899     66\n",
      " 305893 131231        0.0313     1        0.0316        0.0312  1520339    1.51%          rho_23 D 305893 305892     78\n",
      " 310766 132504        cutoff              0.0316        0.0312  1548763    1.51%          rho_29 U 310766  45508     20\n",
      " 315595 133755        cutoff              0.0316        0.0312  1575657    1.51%           rho_8 U 315595 315594     78\n",
      " 320503 134987        0.0312     8        0.0316        0.0312  1602515    1.51%           rho_8 D 320503 320502     41\n",
      " 325432 136511        0.0313    15        0.0316        0.0312  1629500    1.51%          rho_29 U 325432 325430     60\n",
      " 330730 138768        0.0312     5        0.0316        0.0312  1655688    1.51%          rho_19 U 330730 330729     59\n",
      " 335967 140835        0.0312     7        0.0316        0.0312  1682330    1.51%           rho_2 D 335967 335966     38\n",
      " 340839 142131        cutoff              0.0316        0.0312  1709904    1.51%           rho_0 U 340839 340837     33\n",
      "Elapsed time = 51.89 sec. (50791.58 ticks, tree = 40.23 MB, solutions = 1)\n",
      " 346309 143568        cutoff              0.0316        0.0312  1733123    1.51%           rho_5 D 346309 346308     40\n",
      " 351670 145024        0.0312     7        0.0316        0.0312  1756318    1.51%           rho_5 D 351670 351669     78\n",
      " 356960 146474        0.0316     3        0.0316        0.0312  1779076    1.51%          rho_23 D 356960 356958     41\n",
      " 362005 147902        0.0312     7        0.0316        0.0312  1805327    1.51%           rho_2 D 362005 362004     64\n",
      " 367386 150000        0.0312     9        0.0316        0.0312  1831476    1.51%           rho_2 D 367386 367385     71\n",
      " 372513 152061        0.0312     8        0.0316        0.0312  1857657    1.51%          rho_23 U 372513 372512     62\n",
      " 377620 154018        0.0312    12        0.0316        0.0312  1883829    1.51%          rho_29 D 377620 377619     50\n",
      " 382703 155621        0.0314     9        0.0316        0.0312  1909382    1.51%           rho_0 D 382703 382701     36\n",
      " 387794 157356        0.0312     5        0.0316        0.0312  1934651    1.51%           rho_0 D 387794 387780     22\n",
      " 393005 160362        0.0314     6        0.0316        0.0312  1958581    1.51%           rho_4 U 393005 393004     78\n",
      "Elapsed time = 60.03 sec. (60329.36 ticks, tree = 46.17 MB, solutions = 1)\n",
      " 398271 162487        0.0313     6        0.0316        0.0312  1980814    1.51%          rho_23 D 398271 398270     43\n",
      " 403528 164384        cutoff              0.0316        0.0312  2005741    1.51%           rho_7 U 403528 143906     55\n",
      " 408411 165556        0.0313     2        0.0316        0.0312  2032153    1.51%          rho_23 U 408411 408410     69\n",
      " 412964 166378        0.0316     1        0.0316        0.0312  2058559    1.51%         L0_norm D 412964 412963     67\n",
      " 417984 167985        0.0312     8        0.0316        0.0312  2081613    1.51%          rho_19 D 417984 277059     83\n",
      " 422521 169302        0.0315     5        0.0316        0.0312  2107099    1.51%          rho_11 D 422521 422520     40\n",
      " 427306 170370        0.0312    16        0.0316        0.0312  2131563    1.51%           rho_1 U 427306 251209     18\n",
      " 432077 171150        0.0313     3        0.0316        0.0312  2154904    1.51%          rho_11 U 432077 111772     59\n",
      " 436303 171673        cutoff              0.0316        0.0312  2178745    1.51%           rho_0 U 436303 436302     35\n",
      " 441252 173412        0.0312    10        0.0316        0.0312  2204151    1.51%          rho_19 D 441252 441251     61\n",
      "Elapsed time = 68.30 sec. (69867.27 ticks, tree = 49.33 MB, solutions = 1)\n",
      " 445709 175824        0.0312    12        0.0316        0.0312  2232193    1.51%           rho_0 U 445709 445708     72\n",
      " 450214 177671        0.0312     8        0.0316        0.0312  2258896    1.51%          rho_11 D 450214 450213     71\n",
      " 455495 179780        0.0312     5        0.0316        0.0312  2283569    1.51%           rho_9 D 455495 455494     66\n",
      " 460204 181747        0.0316     6        0.0316        0.0312  2309236    1.51%          rho_23 D 460204 460203     49\n",
      " 464967 183537        0.0316     5        0.0316        0.0312  2334333    1.51%          rho_14 D 464967 464966     43\n",
      " 469760 184977        0.0314     7        0.0316        0.0312  2358942    1.51%          rho_28 D 469760 469759     41\n",
      " 474537 186472        cutoff              0.0316        0.0312  2382863    1.51%          rho_10 D 474537 474536     31\n",
      " 479438 187973        0.0312    12        0.0316        0.0312  2406954    1.51%          rho_17 U 479438  42270     33\n",
      " 484178 189470        0.0316     4        0.0316        0.0312  2431584    1.51%          rho_13 U 484178 484177     82\n",
      " 488881 191058        cutoff              0.0316        0.0312  2456076    1.51%           rho_7 U 488881 488880     42\n",
      "Elapsed time = 76.23 sec. (79405.04 ticks, tree = 55.59 MB, solutions = 1)\n",
      " 493894 192305        0.0312     7        0.0316        0.0312  2479211    1.51%          rho_11 D 493894 493893     71\n",
      " 498940 193495        0.0314     7        0.0316        0.0312  2502227    1.51%          rho_28 D 498940 498939     79\n",
      " 504101 195093        cutoff              0.0316        0.0312  2526175    1.51%          rho_14 D 504101 504099     59\n",
      " 509527 197297        0.0316     7        0.0316        0.0312  2550942    1.51%          rho_29 D 509527 509526     82\n",
      " 514498 199248        0.0312     8        0.0316        0.0312  2576716    1.51%          rho_11 D 514498 514497     87\n",
      " 519354 201160        0.0314     3        0.0316        0.0312  2602901    1.51%          rho_19 U 519354 519353     47\n",
      " 524289 202736        0.0312     8        0.0316        0.0312  2627111    1.51%           rho_1 D 524289 524287     79\n",
      " 529212 203927        0.0314     5        0.0316        0.0312  2650718    1.51%           rho_9 D 529212 529211     60\n",
      " 534011 205200        0.0316     1        0.0316        0.0312  2675345    1.51%        alpha_27 U 534011 534010     41\n",
      " 553296 210792        0.0312    13        0.0316        0.0312  2772138    1.51%           rho_7 D 553296 429138     75\n",
      "Elapsed time = 86.16 sec. (91803.64 ticks, tree = 60.28 MB, solutions = 1)\n",
      " 571241 216313        0.0312     9        0.0316        0.0312  2867183    1.51%           rho_5 D 571241 571240     79\n",
      " 588524 221812        cutoff              0.0316        0.0312  2968329    1.51%           rho_0 U 588524 588523    101\n",
      " 605845 227051        0.0314     9        0.0316        0.0312  3066067    1.51%           rho_3 D 605845 605843     49\n",
      " 623181 232228        0.0312     7        0.0316        0.0312  3164794    1.51%          rho_19 U 623181  56314     69\n",
      " 640900 238053        0.0316     3        0.0316        0.0312  3262904    1.51%          rho_29 D 640900 640899     78\n",
      " 658718 245099        0.0315    11        0.0316        0.0312  3360094    1.51%          rho_29 U 658718 658666     23\n",
      " 676516 250570        0.0314     9        0.0316        0.0312  3452331    1.51%           rho_0 D 676516 676514     56\n",
      " 694258 256441        0.0313     5        0.0316        0.0312  3544630    1.51%          rho_16 D 694258 694257     40\n",
      " 711593 263113        0.0313     6        0.0316        0.0312  3639015    1.51%           rho_8 D 711593 711592     75\n",
      " 729490 268532        0.0312    11        0.0316        0.0312  3729389    1.51%          rho_19 U 729490 729489     52\n",
      "Elapsed time = 120.59 sec. (129953.01 ticks, tree = 76.74 MB, solutions = 1)\n",
      " 747851 274247        0.0312     7        0.0316        0.0312  3818443    1.51%           rho_8 D 747851 747849     70\n",
      " 765748 279573        0.0315    11        0.0316        0.0312  3909308    1.51%          rho_17 U 765748  68989     47\n",
      " 784005 285336        cutoff              0.0316        0.0312  3997506    1.51%           rho_8 U 784005 783994     28\n",
      " 802526 291080        0.0316     1        0.0316        0.0312  4087981    1.51%        alpha_27 U 802526 802525     75\n",
      " 820083 296494        0.0316     7        0.0316        0.0312  4184053    1.51%          rho_19 D 820083 820081     51\n",
      " 837889 302767        0.0313     5        0.0316        0.0312  4274324    1.51%           rho_7 U 837889 837888     44\n",
      " 855835 306167        0.0312     1        0.0316        0.0312  4362501    1.51%           rho_2 U 855835 855825     69\n",
      " 872932 311406        0.0313     5        0.0316        0.0312  4452529    1.51%          rho_29 D 872932 872931     87\n",
      " 890429 316158        0.0312    13        0.0316        0.0312  4543154    1.51%           rho_0 D 890429 605700     68\n",
      " 907647 321753        cutoff              0.0316        0.0312  4633340    1.51%           rho_9 U 907647 907646    101\n",
      "Elapsed time = 151.42 sec. (168102.02 ticks, tree = 92.70 MB, solutions = 1)\n",
      " 924740 327651        0.0315     5        0.0316        0.0312  4720925    1.51%          rho_12 D 924740 924738     55\n",
      " 942040 330866        0.0315     6        0.0316        0.0312  4805132    1.51%          rho_23 U 942040 942038     58\n",
      " 959317 336314        cutoff              0.0316        0.0312  4892294    1.51%           rho_0 D 959317 959315     85\n",
      " 977121 342476        0.0316     5        0.0316        0.0312  4981241    1.51%           rho_8 D 977121 977120    101\n",
      " 994911 348350        0.0315     4        0.0316        0.0312  5067876    1.51%          rho_15 D 994911 994910     64\n",
      " 1012269 353607        0.0312     7        0.0316        0.0312  5151467    1.51%           rho_8 D 1012269 1012267     49\n",
      "*1023600+358066                            0.0316        0.0312             1.51%\n",
      " 1030034 359914        0.0312     9        0.0316        0.0312  5235944    1.51%           rho_8 D 1030034 1030033     70\n",
      " 1047557 364008        cutoff              0.0316        0.0312  5317072    1.51%           rho_7 U 1047557 1047556     26\n",
      " 1064605 368855        0.0315     4        0.0316        0.0312  5401615    1.51%           rho_9 D 1064605 1064603     65\n",
      " 1081415 373251        0.0315     1        0.0316        0.0312  5482571    1.51%           rho_8 U 1081415 735144     43\n",
      "Elapsed time = 181.53 sec. (206250.13 ticks, tree = 108.90 MB, solutions = 1)\n",
      " 1099170 377674        0.0312     9        0.0316        0.0312  5558513    1.51%          rho_23 U 1099170 1099168     43\n",
      " 1115758 382528        0.0312     9        0.0316        0.0312  5639080    1.51%           rho_0 D 1115758 1115756     54\n",
      " 1131400 388239        0.0313     9        0.0316        0.0312  5726996    1.51%          rho_11 U 1131400 1131399     40\n",
      " 1148065 393958        0.0315     9        0.0316        0.0312  5808303    1.51%           rho_7 D 1148065 1148063     68\n",
      " 1165611 399875        cutoff              0.0316        0.0312  5883618    1.51%           rho_2 U 1165611 1165596     75\n",
      " 1182087 405139        0.0312    10        0.0316        0.0312  5964329    1.51%           rho_7 U 1182087 1182086     57\n",
      "\n",
      "User cuts applied:  291\n",
      "\n",
      "Root node processing (before b&c):\n",
      "  Real time             =    0.16 sec. (1.51 ticks)\n",
      "Sequential b&c:\n",
      "  Real time             =  199.86 sec. (230223.63 ticks)\n",
      "                          ------------\n",
      "Total (root+branch&cut) =  200.01 sec. (230225.14 ticks)\n",
      "+----------------------------------------------+------------------+-----------+\n",
      "| Pr(Y = +1) = 1.0/(1.0 + exp(-(-8 + score))   |                  |           |\n",
      "| ============================================ | ================ | ========= |\n",
      "| p_property>=1                                |         2 points |   + ..... |\n",
      "| age_at_current_charge<=47                    |         1 points |   + ..... |\n",
      "| p_arrest>=2                                  |         1 points |   + ..... |\n",
      "| p_felony>=1                                  |         1 points |   + ..... |\n",
      "| p_pending_charge>=1                          |         1 points |   + ..... |\n",
      "| ============================================ | ================ | ========= |\n",
      "| ADD POINTS FROM ROWS 1 to 5                  |            SCORE |   = ..... |\n",
      "+----------------------------------------------+------------------+-----------+\n",
      "model_id, score_thresholds 0 {'rank_abs': [0]}\n",
      "get_disparity_predefined_group()\n"
     ]
    },
    {
     "name": "stderr",
     "output_type": "stream",
     "text": [
      "C:\\Users\\binha\\Documents\\Duke\\Cynthia Research\\psa-analysis - test2\\utils\\fairness_functions.py:82: RuntimeWarning:\n",
      "\n",
      "invalid value encountered in longlong_scalars\n",
      "\n",
      "C:\\Users\\binha\\Documents\\Duke\\Cynthia Research\\psa-analysis - test2\\utils\\fairness_functions.py:95: RuntimeWarning:\n",
      "\n",
      "divide by zero encountered in longlong_scalars\n",
      "\n",
      "C:\\Users\\binha\\Documents\\Duke\\Cynthia Research\\psa-analysis - test2\\utils\\fairness_functions.py:86: RuntimeWarning:\n",
      "\n",
      "invalid value encountered in longlong_scalars\n",
      "\n",
      "C:\\Users\\binha\\Documents\\Duke\\Cynthia Research\\psa-analysis - test2\\utils\\fairness_functions.py:95: RuntimeWarning:\n",
      "\n",
      "invalid value encountered in longlong_scalars\n",
      "\n"
     ]
    },
    {
     "name": "stdout",
     "output_type": "stream",
     "text": [
      "setting c0 = 0.0 to ensure that intercept is not penalized\n",
      "10/01/19 @ 03:22 PM | 1301 rows in lookup table\n",
      "10/01/19 @ 03:22 PM | ------------------------------------------------------------\n",
      "10/01/19 @ 03:22 PM | runnning initialization procedure\n",
      "10/01/19 @ 03:22 PM | ------------------------------------------------------------\n",
      "10/01/19 @ 03:23 PM | CPA produced 2 cuts\n",
      "10/01/19 @ 03:23 PM | running naive rounding on 103 solutions\n",
      "10/01/19 @ 03:23 PM | best objective value: 0.0319\n",
      "10/01/19 @ 03:23 PM | rounding produced 5 integer solutions\n",
      "10/01/19 @ 03:23 PM | best objective value is 0.0326\n",
      "10/01/19 @ 03:23 PM | running sequential rounding on 103 solutions\n",
      "10/01/19 @ 03:23 PM | best objective value: 0.0319\n",
      "10/01/19 @ 03:23 PM | sequential rounding produced 6 integer solutions\n",
      "10/01/19 @ 03:23 PM | best objective value: 0.0323\n",
      "10/01/19 @ 03:23 PM | polishing 11 solutions\n",
      "10/01/19 @ 03:23 PM | best objective value: 0.0323\n",
      "10/01/19 @ 03:23 PM | polishing produced 4 integer solutions\n",
      "10/01/19 @ 03:23 PM | initialization produced 12 feasible solutions\n",
      "10/01/19 @ 03:23 PM | best objective value: 0.0322\n",
      "10/01/19 @ 03:23 PM | ------------------------------------------------------------\n",
      "10/01/19 @ 03:23 PM | completed initialization procedure\n",
      "10/01/19 @ 03:23 PM | ------------------------------------------------------------\n",
      "10/01/19 @ 03:23 PM | 1301 rows in lookup table\n",
      "CPXPARAM_Read_DataCheck                          1\n",
      "CPXPARAM_Threads                                 1\n",
      "CPXPARAM_Parallel                                1\n",
      "CPXPARAM_RandomSeed                              0\n",
      "CPXPARAM_TimeLimit                               200\n",
      "CPXPARAM_MIP_Tolerances_LowerCutoff              0.031611681731043104\n",
      "CPXPARAM_MIP_Tolerances_UpperCutoff              0.032242483635328625\n"
     ]
    },
    {
     "name": "stderr",
     "output_type": "stream",
     "text": [
      "Warning: Control callbacks may disable some MIP features.\n"
     ]
    },
    {
     "name": "stdout",
     "output_type": "stream",
     "text": [
      "Lazy constraint(s) or lazy constraint callback is present.\n",
      "    Disabling dual reductions (CPX_PARAM_REDUCE) in presolve.\n",
      "    Disabling non-linear reductions (CPX_PARAM_PRELINEAR) in presolve.\n",
      "         Disabling repeat represolve because of lazy constraint/incumbent callback.\n",
      "10/01/19 @ 03:23 PM | adding 251 initial cuts\n",
      "1 of 1 MIP starts provided solutions.\n",
      "MIP start 'mip_start_0' defined initial solution with objective 0.0322.\n",
      "Tried aggregator 1 time.\n",
      "Reduced MIP has 32 rows, 64 columns, and 123 nonzeros.\n",
      "Reduced MIP has 30 binaries, 32 generals, 0 SOSs, and 0 indicators.\n",
      "Presolve time = 0.00 sec. (0.07 ticks)\n",
      "Probing time = 0.00 sec. (0.02 ticks)\n",
      "MIP emphasis: balance optimality and feasibility.\n",
      "MIP search method: traditional branch-and-cut.\n",
      "Parallel mode: none, using 1 thread.\n",
      "Root relaxation solution time = 0.00 sec. (0.04 ticks)\n",
      "\n",
      "        Nodes                                         Cuts/\n",
      "   Node  Left     Objective  IInf  Best Integer    Best Bound    ItCnt     Gap         Variable B NodeID Parent  Depth\n",
      "\n",
      "*     0+    0                            0.0322        0.0316             1.99%\n",
      "      0     0        0.0316     1        0.0322        0.0316        1    1.96%\n",
      "      0     2        0.0316     2        0.0322        0.0316        1    1.96%                        0             0\n",
      "Elapsed time = 0.16 sec. (1.49 ticks, tree = 0.01 MB, solutions = 1)\n",
      "*  1970+ 1075                            0.0322        0.0316             1.76%\n",
      "   2541  1302        0.0316     8        0.0322        0.0316     9421    1.76%           rho_7 D   2541   2509     13\n",
      "   3830  1840        0.0316     8        0.0322        0.0316    16290    1.76%           rho_7 D   3830   3829     12\n",
      "*  3980+ 1824                            0.0321        0.0316             1.67%\n",
      "   4900  2224        0.0316    10        0.0321        0.0316    21514    1.67%          rho_13 U   4900   4876     14\n",
      "   5925  2688        0.0321     7        0.0321        0.0316    26521    1.67%          rho_15 D   5925   5924     36\n",
      "   7048  3058        0.0318    12        0.0321        0.0316    30526    1.67%           rho_2 U   7048   7033     26\n",
      "   8152  3463        0.0316     2        0.0321        0.0316    35430    1.67%           rho_0 D   8152   8150     38\n",
      "   9200  3876        0.0317     9        0.0321        0.0316    40244    1.67%           rho_8 D   9200   9198     58\n",
      "  10230  4408        0.0320     6        0.0321        0.0316    45648    1.67%          rho_23 U  10230  10229     82\n",
      "  11421  4968        0.0316     2        0.0321        0.0316    51301    1.67%           rho_0 D  11421  11419     76\n",
      "  16211  7099        0.0316     1        0.0321        0.0316    72887    1.67%           rho_0 D  16211  16209     76\n",
      "Elapsed time = 4.33 sec. (3104.56 ticks, tree = 1.92 MB, solutions = 3)\n",
      "  20910  8728        0.0317    11        0.0321        0.0316    93973    1.67%           rho_2 U  20910  20908     10\n",
      "  24859 10192        cutoff              0.0321        0.0316   112954    1.67%          rho_27 U  24859  24858     64\n",
      "  28942 11356        0.0316     9        0.0321        0.0316   130895    1.67%          rho_11 D  28942  28941     47\n",
      "  32135 12477        cutoff              0.0321        0.0316   148029    1.67%           rho_5 U  32135   1641     58\n",
      "  35790 13349        0.0320     5        0.0321        0.0316   162834    1.67%          rho_19 D  35790  35789     82\n",
      "  39191 14049        0.0316     7        0.0321        0.0316   177312    1.67%           rho_0 D  39191  39189     51\n",
      "  42101 14574        0.0317     6        0.0321        0.0316   190738    1.67%           rho_0 D  42101  42099     67\n",
      "  45308 15759        0.0316     5        0.0321        0.0316   206832    1.67%          rho_10 U  45308  45306     53\n",
      "  48607 17080        0.0317     5        0.0321        0.0316   223737    1.67%           rho_3 D  48607  48606     20\n",
      "  52013 18509        0.0321     7        0.0321        0.0316   240845    1.67%          rho_29 D  52013  52012     66\n",
      "Elapsed time = 13.50 sec. (12643.43 ticks, tree = 5.71 MB, solutions = 3)\n",
      "  55005 19790        0.0317    10        0.0321        0.0316   259927    1.67%           rho_3 U  55005  55004     68\n",
      "  57770 20853        0.0316    14        0.0321        0.0316   278444    1.67%          rho_10 D  57770  57769     41\n",
      "  61220 22110        0.0321     2        0.0321        0.0316   293767    1.67%        alpha_18 U  61220  61218     65\n",
      "  64618 23384        cutoff              0.0321        0.0316   309539    1.67%           rho_6 U  64618  64616     44\n",
      "  67625 24278        0.0318    11        0.0321        0.0316   325372    1.67%           rho_3 D  67625  67623     50\n",
      "  70730 25196        0.0317     6        0.0321        0.0316   339517    1.67%          rho_10 U  70730  70716     32\n",
      "  73751 26150        0.0316     5        0.0321        0.0316   354613    1.67%           rho_0 D  73751  73749     29\n",
      "  76440 27245        0.0319     8        0.0321        0.0316   370215    1.67%           rho_3 D  76440  76439     65\n",
      "  79569 28274        cutoff              0.0321        0.0316   383878    1.67%          rho_28 U  79569  79567     37\n",
      "  82960 29511        0.0317     7        0.0321        0.0316   396512    1.67%           rho_0 U  82960  82958     59\n",
      "Elapsed time = 22.14 sec. (22183.96 ticks, tree = 8.44 MB, solutions = 3)\n",
      "  86320 30768        0.0317     6        0.0321        0.0316   409064    1.67%           rho_3 D  86320  86318     71\n",
      "  89661 31984        0.0318     5        0.0321        0.0316   421337    1.67%          rho_28 D  89661  89660     63\n",
      "  92982 33148        0.0320     5        0.0321        0.0316   433107    1.67%          rho_14 D  92982  92979     80\n",
      "  96110 33960        0.0318    12        0.0321        0.0316   444875    1.67%           rho_3 D  96110  40821     75\n",
      "  99145 34629        0.0317    11        0.0321        0.0316   456713    1.67%           rho_3 D  99145  77843     29\n",
      " 102140 35465        cutoff              0.0321        0.0316   468848    1.67%          rho_14 U 102140 102139     39\n",
      " 105147 36784        0.0318    11        0.0321        0.0316   486041    1.67%           rho_5 D 105147 105145     34\n",
      " 108462 37965        0.0317     9        0.0321        0.0316   498234    1.67%          rho_13 D 108462 108461     51\n",
      " 111340 39795        0.0316     8        0.0321        0.0316   514451    1.67%           rho_0 D 111340 111333     28\n",
      "*111410+39795                            0.0321        0.0316             1.66%\n",
      " 113779 40918        0.0317    12        0.0321        0.0316   530384    1.66%           rho_4 U 113779 113778     34\n",
      "Elapsed time = 29.45 sec. (31723.71 ticks, tree = 12.70 MB, solutions = 4)\n",
      " 116502 42251        0.0321     9        0.0321        0.0316   548712    1.66%          rho_27 U 116502 116501     52\n",
      " 119124 43481        cutoff              0.0321        0.0316   565804    1.66%          rho_19 U 119124 119123     73\n",
      " 121809 44746        0.0320     3        0.0321        0.0316   582618    1.66%          rho_19 D 121809 121807     86\n",
      " 124486 45884        0.0316    10        0.0321        0.0316   598812    1.66%           rho_4 D 124486 124485     71\n",
      " 127251 47224        0.0320     8        0.0321        0.0316   615006    1.66%          rho_23 U 127251 127249     67\n",
      " 129997 48328        0.0316     9        0.0321        0.0316   631083    1.66%           rho_4 D 129997 129996     95\n",
      " 132655 49409        0.0317    16        0.0321        0.0316   647094    1.66%           rho_7 U 132655 132654     74\n",
      " 135369 50509        0.0321     6        0.0321        0.0316   663313    1.66%          rho_29 D 135369 135368     63\n",
      " 138270 51775        0.0316     7        0.0321        0.0316   679588    1.66%          rho_10 D 138270 138269     61\n",
      " 141687 53213        cutoff              0.0321        0.0316   691397    1.66%           rho_0 U 141687 141686     76\n",
      "Elapsed time = 36.63 sec. (41263.53 ticks, tree = 15.78 MB, solutions = 4)\n",
      " 144802 54278        0.0319     3        0.0321        0.0316   704561    1.66%          rho_16 D 144802 144801     60\n",
      " 148054 55331        0.0319     7        0.0321        0.0316   716141    1.66%          rho_14 D 148054 148052     50\n",
      " 151311 56394        0.0319     4        0.0321        0.0316   727648    1.66%           rho_3 D 151311 151309     85\n",
      " 154374 57463        cutoff              0.0321        0.0316   740619    1.66%           rho_3 U 154374 154373     39\n",
      " 157054 58438        0.0321     9        0.0321        0.0316   755803    1.66%           rho_5 D 157054 157053     62\n",
      " 160000 59478        0.0317    13        0.0321        0.0316   769753    1.66%          rho_28 D 160000 159999     30\n",
      " 162814 60657        cutoff              0.0321        0.0316   785967    1.66%          rho_14 U 162814 162813     37\n",
      " 165996 61725        0.0320     4        0.0321        0.0316   798214    1.66%          rho_21 D 165996 165995     90\n",
      " 168803 62870        0.0316     8        0.0321        0.0316   815362    1.66%          rho_10 D 168803 167961     36\n",
      " 171637 64151        0.0320     5        0.0321        0.0316   833584    1.66%          rho_19 D 171637 171636     45\n",
      "Elapsed time = 44.73 sec. (50801.86 ticks, tree = 18.56 MB, solutions = 4)\n",
      " 174428 65395        0.0320     5        0.0321        0.0316   850794    1.66%          rho_27 D 174428 174426     61\n",
      " 177119 66535        0.0317    10        0.0321        0.0316   867940    1.66%          rho_23 U 177119 177118     53\n",
      " 179833 67680        cutoff              0.0321        0.0316   884990    1.66%           rho_3 U 179833 179832     66\n",
      " 182585 68881        cutoff              0.0321        0.0316   901572    1.66%           rho_9 U 182585 182583     49\n",
      " 185276 69938        0.0317     7        0.0321        0.0316   917592    1.66%          rho_23 U 185276 185275     63\n",
      " 187872 70951        0.0318    10        0.0321        0.0316   934143    1.66%           rho_3 D 187872 187870     66\n",
      " 190476 71975        0.0321     6        0.0321        0.0316   950629    1.66%          rho_15 D 190476 190474     68\n",
      " 193080 72960        cutoff              0.0321        0.0316   967191    1.66%          rho_27 U 193080 193079     69\n",
      " 195740 73741        cutoff              0.0321        0.0316   981833    1.66%        alpha_24 U 195740 195739     54\n",
      " 198397 74590        0.0318     8        0.0321        0.0316   997216    1.66%           rho_0 D 198397 198395     88\n",
      "Elapsed time = 52.44 sec. (60340.54 ticks, tree = 24.03 MB, solutions = 4)\n",
      " 201497 75530        0.0316     4        0.0321        0.0316  1009109    1.66%           rho_5 U 201497 201474     41\n",
      " 204482 76632        0.0321     5        0.0321        0.0316  1022307    1.66%          rho_27 D 204482 204480     65\n",
      " 207084 77405        0.0320     5        0.0321        0.0316  1035741    1.66%          rho_23 D 207084 207082     54\n",
      " 209487 78081        0.0318     5        0.0321        0.0316  1049069    1.66%          rho_28 D 209487 209486     31\n",
      " 212152 79023        cutoff              0.0321        0.0316  1062820    1.66%           rho_6 U 212152 212150     66\n",
      " 215204 80143        cutoff              0.0321        0.0316  1075250    1.66%          rho_28 U 215204 215202     41\n",
      " 218049 81543        0.0316    10        0.0321        0.0316  1089868    1.66%          rho_10 D 218049 218048     68\n",
      " 220678 82933        0.0317     9        0.0321        0.0316  1107718    1.66%          rho_29 D 220678 220677     55\n",
      " 223214 83870        cutoff              0.0321        0.0316  1122656    1.66%          rho_29 D 223214 223213     37\n",
      " 225797 84251        0.0320    10        0.0321        0.0316  1135068    1.66%          rho_28 U 225797 168869     61\n",
      "Elapsed time = 59.84 sec. (69878.26 ticks, tree = 26.51 MB, solutions = 4)\n",
      " 228400 84683        0.0321     9        0.0321        0.0316  1148110    1.66%           rho_8 D 228400 228398     59\n",
      " 230931 85601        0.0320     7        0.0321        0.0316  1161803    1.66%          rho_19 N 230931 230930     88\n",
      " 233460 86496        0.0320    10        0.0321        0.0316  1175467    1.66%          rho_29 D 233460 233459     80\n",
      " 236000 87433        0.0321     5        0.0321        0.0316  1189288    1.66%          rho_19 N 236000 235999     42\n",
      " 238576 88559        0.0316     8        0.0321        0.0316  1203130    1.66%           rho_0 D 238576 238574     61\n",
      " 241140 90016        0.0317    12        0.0321        0.0316  1220875    1.66%           rho_0 D 241140 241138     22\n",
      " 243867 91298        0.0317    10        0.0321        0.0316  1236790    1.66%          rho_23 D 243867 243865     79\n",
      " 246471 92493        0.0316     8        0.0321        0.0316  1252240    1.66%          rho_10 U 246471 246469     47\n",
      " 249028 93443        0.0321     7        0.0321        0.0316  1266197    1.66%          rho_23 U 249028 249027     41\n",
      " 251567 94256        0.0321     6        0.0321        0.0316  1280328    1.66%           rho_9 D 251567 251565     64\n",
      "Elapsed time = 67.52 sec. (79420.23 ticks, tree = 29.09 MB, solutions = 4)\n",
      " 254188 95166        0.0317     1        0.0321        0.0316  1294537    1.66%           rho_4 U 254188 125975     66\n",
      " 256753 96301        cutoff              0.0321        0.0316  1308901    1.66%          rho_19 U 256753 256752     53\n",
      " 259529 97171        cutoff              0.0321        0.0316  1321869    1.66%          rho_16 D 259529 259528     36\n",
      " 262145 98042        0.0316     9        0.0321        0.0316  1336148    1.66%           rho_2 U 262145 130059     88\n",
      " 264599 98579        cutoff              0.0321        0.0316  1349061    1.66%          rho_15 D 264599 264598     99\n",
      " 267338 99443        0.0318     8        0.0321        0.0316  1362005    1.66%          rho_14 D 267338 267336     59\n",
      " 270004 100348        0.0321     7        0.0321        0.0316  1375456    1.66%          rho_23 U 270004 270003     30\n",
      " 272261 101092        0.0316     7        0.0321        0.0316  1389414    1.66%           rho_9 D 272261 272241     58\n",
      " 274831 102037        0.0316     8        0.0321        0.0316  1403753    1.66%           rho_6 D 274831 274829     30\n",
      " 284945 105186        0.0321    10        0.0321        0.0316  1457079    1.66%          rho_28 U 284945 193849     79\n",
      "Elapsed time = 76.59 sec. (91820.38 ticks, tree = 31.90 MB, solutions = 4)\n",
      " 294799 107976        cutoff              0.0321        0.0316  1512553    1.66%           rho_6 D 294799 294798     63\n",
      " 305016 110791        0.0320     6        0.0321        0.0316  1569180    1.66%          rho_29 D 305016 305014     51\n",
      " 316360 115028        0.0318     8        0.0321        0.0316  1622362    1.66%           rho_9 D 316360 316359     71\n",
      " 325937 117711        cutoff              0.0321        0.0316  1678147    1.66%          rho_27 U 325937 325936     58\n",
      " 335877 120665        0.0321     2        0.0321        0.0316  1730624    1.66%          rho_29 U 335877 335876     69\n",
      " 346142 124729        0.0317    11        0.0321        0.0316  1784449    1.66%          rho_23 U 346142 346141     82\n",
      " 355717 128297        0.0321     5        0.0321        0.0316  1840539    1.66%          rho_29 D 355717 355714     65\n",
      " 364754 131048        0.0317    10        0.0321        0.0316  1897215    1.66%           rho_4 U 364754 364745     95\n",
      " 374558 134282        0.0316    10        0.0321        0.0316  1950228    1.66%           rho_8 D 374558 103777     67\n",
      " 385348 137300        0.0319     9        0.0321        0.0316  2002168    1.66%           rho_0 U 385348 385347     44\n",
      "Elapsed time = 104.59 sec. (129969.12 ticks, tree = 43.28 MB, solutions = 4)\n",
      " 395710 140539        0.0320     8        0.0321        0.0316  2054420    1.66%           rho_6 U 395710 395709     54\n",
      " 405358 143630        0.0318     8        0.0321        0.0316  2105025    1.66%           rho_2 U 405358 405350     56\n",
      " 415170 147170        0.0321     6        0.0321        0.0316  2156857    1.66%          rho_23 D 415170 415169     63\n",
      " 424491 150349        cutoff              0.0321        0.0316  2208901    1.66%          rho_10 U 424491 424431     46\n",
      " 434041 153595        0.0317    16        0.0321        0.0316  2260864    1.66%          rho_10 U 434041  53568     30\n",
      " 444044 158154        0.0319     7        0.0321        0.0316  2317138    1.66%          rho_23 U 444044 444043     38\n",
      " 454420 161694        0.0319     5        0.0321        0.0316  2372932    1.66%           rho_8 D 454420 454418     52\n",
      " 463414 165242        0.0316    11        0.0321        0.0316  2429511    1.66%          rho_10 D 463414 463413     59\n",
      " 472502 168649        0.0317    11        0.0321        0.0316  2484953    1.66%           rho_8 D 472502 472500     32\n",
      " 481956 172149        0.0318     8        0.0321        0.0316  2537986    1.66%           rho_3 D 481956 481955     43\n",
      "Elapsed time = 136.11 sec. (168121.31 ticks, tree = 54.21 MB, solutions = 4)\n",
      " 491441 175940        0.0319     7        0.0321        0.0316  2592833    1.66%           rho_3 D 491441 491440     72\n",
      " 500680 179126        0.0317    11        0.0321        0.0316  2648281    1.66%          rho_19 U 500680 500679     36\n",
      " 510107 182413        0.0317    10        0.0321        0.0316  2699161    1.66%           rho_5 U 510107 477198     51\n",
      " 519969 185718        0.0320     3        0.0321        0.0316  2749542    1.66%          rho_27 D 519969 519968     58\n",
      " 529156 189574        0.0316     8        0.0321        0.0316  2805219    1.66%           rho_0 D 529156 529154     55\n",
      " 537170 194106        0.0317    11        0.0321        0.0316  2866679    1.66%          rho_10 D 537170 537169     52\n",
      " 546608 198511        cutoff              0.0321        0.0316  2922371    1.66%          rho_14 D 546608 546607     48\n",
      " 555623 202646        0.0319     7        0.0321        0.0316  2982093    1.66%          rho_29 D 555623 555622     82\n",
      " 563690 206615        0.0319     5        0.0321        0.0316  3032118    1.66%           rho_3 D 563690 563688     78\n",
      " 573683 210255        0.0318    11        0.0321        0.0316  3090406    1.66%          rho_23 U 573683 573682     53\n",
      "Elapsed time = 164.36 sec. (206270.52 ticks, tree = 66.18 MB, solutions = 4)\n",
      " 583690 213892        0.0319     5        0.0321        0.0316  3145211    1.66%           rho_9 D 583690 583688     56\n",
      " 593530 216949        0.0318     5        0.0321        0.0316  3197264    1.66%           rho_3 D 593530 593528     61\n",
      " 602730 220202        0.0318     9        0.0321        0.0316  3248530    1.66%          rho_28 D 602730 602729     49\n",
      " 612358 224068        0.0317     7        0.0321        0.0316  3302618    1.66%          rho_10 D 612358 612357     45\n",
      " 621624 227366        cutoff              0.0321        0.0316  3358380    1.66%          rho_19 U 621624 621623     73\n",
      " 630630 230840        0.0316    12        0.0321        0.0316  3415270    1.66%          rho_10 U 630630 630614     22\n",
      " 639660 234180        0.0318     6        0.0321        0.0316  3467803    1.66%           rho_9 D 639660 639658     53\n",
      " 648871 237587        cutoff              0.0321        0.0316  3517398    1.66%           rho_4 U 648871 648870     23\n",
      " 657950 241714        0.0319     6        0.0321        0.0316  3572150    1.66%          rho_23 U 657950 657949     56\n",
      " 666720 245227        0.0316    13        0.0321        0.0316  3625403    1.66%          rho_10 U 666720 666718     68\n",
      "Elapsed time = 191.48 sec. (244423.40 ticks, tree = 77.82 MB, solutions = 4)\n",
      " 675351 248187        0.0316    11        0.0321        0.0316  3674132    1.66%          rho_23 D 675351 553534     42\n",
      " 684117 251705        0.0321     8        0.0321        0.0316  3724669    1.66%          rho_23 U 684117   3925     26\n",
      " 692900 254601        0.0319     5        0.0321        0.0316  3778959    1.66%          rho_29 D 692900 692897     32\n",
      "\n",
      "User cuts applied:  505\n",
      "\n",
      "Root node processing (before b&c):\n",
      "  Real time             =    0.16 sec. (1.54 ticks)\n",
      "Sequential b&c:\n",
      "  Real time             =  199.86 sec. (255953.77 ticks)\n",
      "                          ------------\n",
      "Total (root+branch&cut) =  200.02 sec. (255955.32 ticks)\n",
      "+-----------------------------------------------+------------------+-----------+\n",
      "| Pr(Y = +1) = 1.0/(1.0 + exp(-(-16 + score))   |                  |           |\n",
      "| ============================================= | ================ | ========= |\n",
      "| p_arrest>=1                                   |         7 points |   + ..... |\n",
      "| p_property>=1                                 |         2 points |   + ..... |\n",
      "| sex>=1                                        |         1 points |   + ..... |\n",
      "| age_at_current_charge<=47                     |         1 points |   + ..... |\n",
      "| p_arrest>=2                                   |         1 points |   + ..... |\n",
      "| p_felony>=1                                   |         1 points |   + ..... |\n",
      "| p_pending_charge>=1                           |         1 points |   + ..... |\n",
      "| ============================================= | ================ | ========= |\n",
      "| ADD POINTS FROM ROWS 1 to 7                   |            SCORE |   = ..... |\n",
      "+-----------------------------------------------+------------------+-----------+\n",
      "model_id, score_thresholds 0 {'rank_abs': [0]}\n",
      "get_disparity_predefined_group()\n"
     ]
    },
    {
     "name": "stderr",
     "output_type": "stream",
     "text": [
      "C:\\Users\\binha\\Documents\\Duke\\Cynthia Research\\psa-analysis - test2\\utils\\fairness_functions.py:82: RuntimeWarning:\n",
      "\n",
      "invalid value encountered in longlong_scalars\n",
      "\n",
      "C:\\Users\\binha\\Documents\\Duke\\Cynthia Research\\psa-analysis - test2\\utils\\fairness_functions.py:95: RuntimeWarning:\n",
      "\n",
      "divide by zero encountered in longlong_scalars\n",
      "\n",
      "C:\\Users\\binha\\Documents\\Duke\\Cynthia Research\\psa-analysis - test2\\utils\\fairness_functions.py:86: RuntimeWarning:\n",
      "\n",
      "invalid value encountered in longlong_scalars\n",
      "\n",
      "C:\\Users\\binha\\Documents\\Duke\\Cynthia Research\\psa-analysis - test2\\utils\\fairness_functions.py:95: RuntimeWarning:\n",
      "\n",
      "invalid value encountered in longlong_scalars\n",
      "\n"
     ]
    },
    {
     "name": "stdout",
     "output_type": "stream",
     "text": [
      "setting c0 = 0.0 to ensure that intercept is not penalized\n",
      "10/01/19 @ 03:26 PM | 1301 rows in lookup table\n",
      "10/01/19 @ 03:26 PM | ------------------------------------------------------------\n",
      "10/01/19 @ 03:26 PM | runnning initialization procedure\n",
      "10/01/19 @ 03:26 PM | ------------------------------------------------------------\n",
      "10/01/19 @ 03:26 PM | CPA produced 2 cuts\n",
      "10/01/19 @ 03:26 PM | running naive rounding on 128 solutions\n",
      "10/01/19 @ 03:26 PM | best objective value: 0.0309\n",
      "10/01/19 @ 03:26 PM | rounding produced 4 integer solutions\n",
      "10/01/19 @ 03:26 PM | best objective value is 0.0315\n",
      "10/01/19 @ 03:26 PM | running sequential rounding on 128 solutions\n",
      "10/01/19 @ 03:26 PM | best objective value: 0.0309\n",
      "10/01/19 @ 03:26 PM | sequential rounding produced 5 integer solutions\n",
      "10/01/19 @ 03:26 PM | best objective value: 0.0314\n",
      "10/01/19 @ 03:26 PM | polishing 9 solutions\n",
      "10/01/19 @ 03:26 PM | best objective value: 0.0314\n",
      "10/01/19 @ 03:26 PM | polishing produced 5 integer solutions\n",
      "10/01/19 @ 03:26 PM | initialization produced 7 feasible solutions\n",
      "10/01/19 @ 03:26 PM | best objective value: 0.0314\n",
      "10/01/19 @ 03:26 PM | ------------------------------------------------------------\n",
      "10/01/19 @ 03:26 PM | completed initialization procedure\n",
      "10/01/19 @ 03:26 PM | ------------------------------------------------------------\n",
      "10/01/19 @ 03:26 PM | 1301 rows in lookup table\n",
      "CPXPARAM_Read_DataCheck                          1\n",
      "CPXPARAM_Threads                                 1\n",
      "CPXPARAM_Parallel                                1\n",
      "CPXPARAM_RandomSeed                              0\n",
      "CPXPARAM_TimeLimit                               200\n",
      "CPXPARAM_MIP_Tolerances_LowerCutoff              0.030785368719092147\n",
      "CPXPARAM_MIP_Tolerances_UpperCutoff              0.031372500598978378\n"
     ]
    },
    {
     "name": "stderr",
     "output_type": "stream",
     "text": [
      "Warning: Control callbacks may disable some MIP features.\n"
     ]
    },
    {
     "name": "stdout",
     "output_type": "stream",
     "text": [
      "Lazy constraint(s) or lazy constraint callback is present.\n",
      "    Disabling dual reductions (CPX_PARAM_REDUCE) in presolve.\n",
      "    Disabling non-linear reductions (CPX_PARAM_PRELINEAR) in presolve.\n",
      "         Disabling repeat represolve because of lazy constraint/incumbent callback.\n",
      "10/01/19 @ 03:26 PM | adding 249 initial cuts\n",
      "1 of 1 MIP starts provided solutions.\n",
      "MIP start 'mip_start_0' defined initial solution with objective 0.0314.\n",
      "Tried aggregator 1 time.\n",
      "Reduced MIP has 32 rows, 64 columns, and 123 nonzeros.\n",
      "Reduced MIP has 30 binaries, 32 generals, 0 SOSs, and 0 indicators.\n",
      "Presolve time = 0.00 sec. (0.07 ticks)\n",
      "Probing time = 0.00 sec. (0.02 ticks)\n",
      "MIP emphasis: balance optimality and feasibility.\n",
      "MIP search method: traditional branch-and-cut.\n",
      "Parallel mode: none, using 1 thread.\n",
      "Root relaxation solution time = 0.00 sec. (0.04 ticks)\n",
      "\n",
      "        Nodes                                         Cuts/\n",
      "   Node  Left     Objective  IInf  Best Integer    Best Bound    ItCnt     Gap         Variable B NodeID Parent  Depth\n",
      "\n",
      "*     0+    0                            0.0314        0.0308             1.90%\n",
      "      0     0        0.0308     1        0.0314        0.0308        1    1.87%\n",
      "      0     2        0.0308     3        0.0314        0.0308        1    1.87%                        0             0\n",
      "Elapsed time = 0.44 sec. (1.49 ticks, tree = 0.01 MB, solutions = 1)\n",
      "   3313  1447        cutoff              0.0314        0.0308    11843    1.87%           rho_0 U   3313   3166     88\n",
      "   5760  2560        0.0308     4        0.0314        0.0308    22482    1.87%           rho_1 U   5760   5759     57\n",
      "   7770  3410        0.0312     5        0.0314        0.0308    33967    1.87%          rho_14 D   7770   7769     61\n",
      "   9530  4298        cutoff              0.0314        0.0308    42576    1.87%          rho_28 D   9530   9528     71\n",
      "  11117  5057        0.0308     9        0.0314        0.0308    50916    1.87%           rho_0 D  11117  11115     58\n",
      "  12602  5642        0.0308     1        0.0314        0.0308    59640    1.87%           rho_0 D  12602  12600     41\n",
      "  14082  6210        0.0313     5        0.0314        0.0308    68095    1.87%           rho_0 U  14082  14081     84\n",
      "  15700  6792        0.0313     5        0.0314        0.0308    77649    1.87%           rho_0 U  15700  15699     76\n",
      "  17350  7401        0.0308     7        0.0314        0.0308    87196    1.87%          rho_29 D  17350  17349     46\n",
      "  24230 10101        cutoff              0.0314        0.0308   122711    1.87%           rho_0 U  24230  24229     75\n",
      "Elapsed time = 4.72 sec. (3102.18 ticks, tree = 2.81 MB, solutions = 1)\n",
      "  30676 13266        0.0308    12        0.0314        0.0308   162570    1.87%          rho_29 D  30676  30675     69\n",
      "  35490 15970        0.0308    10        0.0314        0.0308   198201    1.87%          rho_17 D  35490  35489     21\n",
      "  41277 18635        cutoff              0.0314        0.0308   232901    1.87%           rho_0 U  41277  40999     50\n",
      "  47450 21309        0.0308     7        0.0314        0.0308   270620    1.87%           rho_0 D  47450  47448     46\n",
      "  53348 23897        0.0308    13        0.0314        0.0308   305447    1.87%           rho_9 D  53348  53347     23\n",
      "  58846 26221        0.0308    13        0.0314        0.0308   338899    1.87%           rho_0 D  58846  58845     59\n",
      "  64220 28474        0.0308    16        0.0314        0.0308   370950    1.87%          rho_13 D  64220  64219     75\n",
      "  69644 30671        0.0312    11        0.0314        0.0308   403369    1.87%           rho_0 D  69644  69642     72\n",
      "  74983 32858        cutoff              0.0314        0.0308   436034    1.87%           rho_0 U  74983  74981     57\n",
      "  80634 35541        0.0313     1        0.0314        0.0308   469156    1.87%        alpha_15 U  80634  80633     65\n",
      "Elapsed time = 14.47 sec. (12640.11 ticks, tree = 10.63 MB, solutions = 1)\n",
      "  85906 38238        0.0308    15        0.0314        0.0308   502999    1.87%          rho_13 D  85906  85905     76\n",
      "  90604 40674        cutoff              0.0314        0.0308   533736    1.87%           rho_0 U  90604  90603     54\n",
      "  95100 43031        0.0308     9        0.0314        0.0308   564035    1.87%           rho_0 D  95100  95098     63\n",
      "  99566 45375        0.0311     8        0.0314        0.0308   594916    1.87%          rho_29 U  99566  99564     29\n",
      " 104601 47846        0.0308    12        0.0314        0.0308   627191    1.87%          rho_17 U 104601 104598     25\n",
      " 110320 50295        0.0310     6        0.0314        0.0308   662743    1.87%           rho_8 D 110320 110319     70\n",
      " 115990 52610        0.0308     7        0.0314        0.0308   695283    1.87%          rho_10 D 115990 115989     48\n",
      "*117999 53274      integral     0        0.0313        0.0308   707867    1.79%          rho_17 D 117999 117998     17\n",
      " 123139 55361        0.0310     5        0.0313        0.0308   734699    1.79%          rho_11 U 123139 123138     66\n",
      " 127946 57139        0.0311     5        0.0313        0.0308   761571    1.79%          rho_11 D 127946 127945     57\n",
      "Elapsed time = 23.02 sec. (21596.47 ticks, tree = 15.45 MB, solutions = 2)\n",
      " 132930 58890        0.0310    12        0.0313        0.0308   786854    1.79%           rho_0 D 132930 132928     69\n",
      " 137693 60642        0.0310    14        0.0313        0.0308   812343    1.79%           rho_0 D 137693 137691     24\n",
      " 141600 62105        0.0310    12        0.0313        0.0308   841611    1.79%           rho_5 U 141600 141598     75\n",
      " 145507 63471        cutoff              0.0313        0.0308   871462    1.79%           rho_0 U 145507 145506     63\n",
      " 149432 64734        0.0312     8        0.0313        0.0308   898941    1.79%           rho_0 D 149432 149430     36\n",
      " 153941 66685        0.0311     9        0.0313        0.0308   921202    1.79%           rho_1 D 153941 153940     56\n",
      " 158031 68127        0.0308     6        0.0313        0.0308   942524    1.79%           rho_1 D 158031  69420     77\n",
      " 162396 69947        0.0311    13        0.0313        0.0308   964969    1.79%           rho_0 D 162396 162394     64\n",
      " 166306 71001        0.0308    15        0.0313        0.0308   987893    1.79%           rho_0 D 166306 166304     60\n",
      "*167000+71125                            0.0313        0.0308             1.78%\n",
      " 170353 72073        cutoff              0.0313        0.0308  1010363    1.78%          rho_14 U 170353 170352     46\n",
      "Elapsed time = 31.78 sec. (31136.05 ticks, tree = 21.83 MB, solutions = 3)\n",
      " 174490 73282        0.0308    15        0.0313        0.0308  1032440    1.78%           rho_9 D 174490 174489     64\n",
      "*176000+73784                            0.0313        0.0308             1.77%\n",
      " 178633 74886        0.0311    10        0.0313        0.0308  1054336    1.77%           rho_0 D 178633 178631     65\n",
      " 182556 76161        0.0308     6        0.0313        0.0308  1077281    1.77%           rho_5 D 182556 182555     27\n",
      " 186738 77680        0.0308     1        0.0313        0.0308  1098374    1.77%           rho_0 D 186738 186736     61\n",
      " 191300 79548        0.0313     3        0.0313        0.0308  1118475    1.77%        alpha_18 U 191300 191299     48\n",
      " 195449 80983        0.0309     8        0.0313        0.0308  1139313    1.77%          rho_29 D 195449 195448     60\n",
      " 199493 82167        0.0313     9        0.0313        0.0308  1159866    1.77%          rho_13 U 199493 199491     39\n",
      " 203276 83179        0.0309     9        0.0313        0.0308  1182818    1.77%           rho_0 U 203276 203275     43\n",
      " 207204 84242        0.0308    13        0.0313        0.0308  1204228    1.77%           rho_1 D 207204 207203     73\n",
      " 210840 85156        0.0309     7        0.0313        0.0308  1228054    1.77%           rho_0 U 210840 210839     79\n",
      "Elapsed time = 40.45 sec. (40676.03 ticks, tree = 24.99 MB, solutions = 4)\n",
      " 214622 86413        0.0311     9        0.0313        0.0308  1251431    1.77%           rho_7 D 214622 214620     70\n",
      " 218230 87754        0.0310    14        0.0313        0.0308  1275735    1.77%           rho_0 D 218230 218228     53\n",
      " 221830 88671        0.0312     9        0.0313        0.0308  1298785    1.77%          rho_11 D 221830 221829     51\n",
      " 225246 89335        cutoff              0.0313        0.0308  1321733    1.77%          rho_15 U 225246 225245     46\n",
      " 228974 90224        cutoff              0.0313        0.0308  1343737    1.77%           rho_3 U 228974 228973     60\n",
      " 232554 91224        0.0311     6        0.0313        0.0308  1366513    1.77%           rho_5 D 232554 232552     62\n",
      " 236726 93577        0.0310    11        0.0313        0.0308  1388700    1.77%          rho_19 U 236726 236725     54\n",
      " 240550 95072        cutoff              0.0313        0.0308  1411808    1.77%          rho_13 U 240550 240549     69\n",
      " 244391 96307        0.0312     8        0.0313        0.0308  1433908    1.77%          rho_11 D 244391 244389     55\n",
      " 248260 97476        0.0309    10        0.0313        0.0308  1455557    1.77%          rho_17 U 248260  79353     70\n",
      "Elapsed time = 49.72 sec. (50214.89 ticks, tree = 27.97 MB, solutions = 4)\n",
      " 251970 98590        0.0311     6        0.0313        0.0308  1476856    1.77%          rho_29 D 251970 251969     25\n",
      " 255857 99840        0.0308     6        0.0313        0.0308  1496885    1.77%           rho_4 D 255857 142264     56\n",
      " 259811 101019        0.0310    10        0.0313        0.0308  1516171    1.77%          rho_29 U 259811 137509     41\n",
      " 263710 102326        cutoff              0.0313        0.0308  1536187    1.77%           rho_1 U 263710 263709     66\n",
      " 267590 103378        0.0308     8        0.0313        0.0308  1554721    1.77%          rho_13 D 267590 267589     93\n",
      " 271410 104474        0.0308    12        0.0313        0.0308  1574833    1.77%          rho_10 D 271410 271409     76\n",
      "*274000+105069                            0.0313        0.0308             1.77%\n",
      " 274991 105302        0.0309    12        0.0313        0.0308  1595604    1.77%           rho_3 U 274991 255881     57\n",
      " 278438 106316        0.0309     6        0.0313        0.0308  1616891    1.77%           rho_9 U 278438 278437     32\n",
      " 282114 107450        0.0308     6        0.0313        0.0308  1636554    1.77%           rho_0 D 282114 282112     26\n",
      " 285960 108504        cutoff              0.0313        0.0308  1657825    1.77%           rho_7 U 285960 285959     57\n",
      "Elapsed time = 57.44 sec. (59754.42 ticks, tree = 30.75 MB, solutions = 5)\n",
      " 289479 109917        0.0312     8        0.0313        0.0308  1682709    1.77%          rho_11 D 289479 289478     39\n",
      " 292973 110853        0.0308    12        0.0313        0.0308  1703331    1.77%          rho_29 D 292973 292972     79\n",
      " 296490 111542        0.0310     8        0.0313        0.0308  1722746    1.77%           rho_3 D 296490 296489     65\n",
      " 300010 112679        0.0311     9        0.0313        0.0308  1743885    1.77%           rho_4 D 300010 300008     66\n",
      " 303656 113610        cutoff              0.0313        0.0308  1763631    1.77%           rho_4 U 303656 303655     74\n",
      " 307494 114792        0.0311     8        0.0313        0.0308  1782932    1.77%           rho_3 D 307494 307493     61\n",
      " 311367 116087        cutoff              0.0313        0.0308  1802434    1.77%           rho_2 U 311367 311366     46\n",
      " 315250 117496        0.0310     7        0.0313        0.0308  1821596    1.77%           rho_9 D 315250 315249     68\n",
      " 319161 118785        0.0311     7        0.0313        0.0308  1840595    1.77%           rho_8 D 319161 319159     62\n",
      " 322910 119805        0.0310    11        0.0313        0.0308  1860294    1.77%           rho_6 U 322910 322908     23\n",
      "Elapsed time = 64.89 sec. (69294.07 ticks, tree = 33.55 MB, solutions = 5)\n",
      " 326412 120627        0.0310     9        0.0313        0.0308  1879476    1.77%           rho_0 U 326412 326411     73\n",
      " 329880 121497        0.0308     8        0.0313        0.0308  1899266    1.77%          rho_19 U 329880 329879     50\n",
      " 333450 122347        0.0310     9        0.0313        0.0308  1919496    1.77%          rho_14 D 333450 333448     60\n",
      " 336559 123139        0.0308    10        0.0313        0.0308  1940085    1.77%           rho_4 U 336559 336558     65\n",
      " 339880 123929        0.0308    10        0.0313        0.0308  1960707    1.77%          rho_11 D 339880 339879     48\n",
      " 343550 124957        0.0312    12        0.0313        0.0308  1980315    1.77%           rho_0 D 343550 343548     52\n",
      " 347350 125972        0.0310    11        0.0313        0.0308  1998964    1.77%           rho_3 D 347350 347349     80\n",
      " 350875 126840        cutoff              0.0313        0.0308  2018107    1.77%          rho_19 U 350875 350874     94\n",
      "*352427 125628      integral     0        0.0313        0.0308  2027147    1.74%\n",
      "*352574 125092      integral     0        0.0313        0.0308  2027984    1.73%\n",
      " 354359 125593        0.0311    11        0.0313        0.0308  2037415    1.73%           rho_3 D 354359 354358     37\n",
      " 357940 126796        0.0311     7        0.0313        0.0308  2058380    1.73%           rho_9 U 357940 357939     40\n",
      "Elapsed time = 72.33 sec. (78833.57 ticks, tree = 35.41 MB, solutions = 7)\n",
      " 361265 128024        0.0310    23        0.0313        0.0308  2077006    1.73%          rho_10 D 361265 361262     26\n",
      " 364519 129180        0.0308     6        0.0313        0.0308  2096331    1.73%           rho_0 D 364519 364490     51\n",
      " 367828 130559        0.0313     7        0.0313        0.0308  2117296    1.73%          rho_14 U 367828 367827     72\n",
      " 371115 131694        0.0311     7        0.0313        0.0308  2137120    1.73%          rho_13 D 371115 371114     79\n",
      " 374622 132910        0.0312     8        0.0313        0.0308  2158605    1.73%           rho_0 D 374622 374621     95\n",
      " 378257 134242        cutoff              0.0313        0.0308  2173300    1.73%           rho_0 U 378257 378256     45\n",
      " 381580 134841        0.0312     2        0.0313        0.0308  2188407    1.73%           rho_1 U 381580 376283     59\n",
      " 385026 135361        cutoff              0.0313        0.0308  2203877    1.73%           rho_4 U 385026 385025     34\n",
      " 388203 136242        0.0312     3        0.0313        0.0308  2223353    1.73%          rho_15 D 388203 388201     69\n",
      " 401400 140222        0.0310     9        0.0313        0.0308  2297774    1.73%          rho_19 D 401400 401399     45\n",
      "Elapsed time = 81.53 sec. (91232.91 ticks, tree = 41.74 MB, solutions = 7)\n",
      " 414880 144481        0.0309    16        0.0313        0.0308  2371001    1.73%          rho_29 U 414880  84106     49\n",
      " 428308 149702        0.0309     9        0.0313        0.0308  2445052    1.73%           rho_3 D 428308  82067     52\n",
      " 442255 154919        cutoff              0.0313        0.0308  2522426    1.73%          rho_11 U 442255 442254     58\n",
      " 455931 160654        0.0308     7        0.0313        0.0308  2605287    1.73%          rho_19 U 455931 151767     48\n",
      " 469330 165285        0.0312     4        0.0313        0.0308  2680914    1.73%           rho_3 D 469330 469327     53\n",
      "*481000+168329                            0.0313        0.0308             1.73%\n",
      " 482760 168718        0.0312     6        0.0313        0.0308  2752994    1.73%          rho_13 D 482760 482759     79\n",
      " 495834 171562        cutoff              0.0313        0.0308  2822572    1.73%          rho_16 U 495834 495833     75\n",
      " 509652 175046        0.0310    10        0.0313        0.0308  2888490    1.73%          rho_29 U 509652  56087     64\n",
      " 523249 178713        0.0308    13        0.0313        0.0308  2954422    1.73%           rho_5 U 523249 232404     64\n",
      " 536300 182871        0.0310     8        0.0313        0.0308  3029774    1.73%           rho_2 D 536300 536299     61\n",
      "Elapsed time = 110.31 sec. (129382.67 ticks, tree = 54.29 MB, solutions = 8)\n",
      " 549013 186179        0.0311     8        0.0313        0.0308  3105552    1.73%           rho_9 D 549013 549010     58\n",
      " 562296 189519        0.0308    15        0.0313        0.0308  3176289    1.73%           rho_9 D 562296 272939     63\n",
      " 575072 192572        0.0308    10        0.0313        0.0308  3244936    1.73%          rho_14 D 575072 575071     56\n",
      " 587820 196355        0.0308     8        0.0313        0.0308  3316960    1.73%          rho_10 U 587820 587818     59\n",
      " 601137 201238        0.0313     9        0.0313        0.0308  3391905    1.73%          rho_14 D 601137 601136     70\n",
      " 613903 205778        0.0309     8        0.0313        0.0308  3470348    1.73%          rho_11 D 613903 613902     75\n",
      " 627226 209828        0.0310     7        0.0313        0.0308  3538996    1.73%           rho_9 D 627226 627224     62\n",
      " 640244 213139        0.0311     8        0.0313        0.0308  3605532    1.73%          rho_29 U 640244 211416     60\n",
      " 652122 216016        cutoff              0.0313        0.0308  3672863    1.73%           rho_1 D 652122 652120     85\n",
      " 664900 219934        cutoff              0.0313        0.0308  3741547    1.73%           rho_8 U 664900 664899     46\n",
      "Elapsed time = 138.28 sec. (167531.46 ticks, tree = 65.81 MB, solutions = 8)\n",
      " 677409 224849        0.0312     7        0.0313        0.0308  3815383    1.73%          rho_14 D 677409 677408     56\n",
      " 690065 230433        0.0308    16        0.0313        0.0308  3886804    1.73%          rho_29 D 690065 586655     80\n",
      " 701574 235278        0.0309    19        0.0313        0.0308  3970239    1.73%           rho_0 D 701574 217432     55\n",
      " 713251 239500        0.0311     9        0.0313        0.0308  4043002    1.73%          rho_29 D 713251 713250     32\n",
      " 724268 243473        0.0313     5        0.0313        0.0308  4109568    1.73%           rho_3 D 724268 724266     53\n",
      " 735839 246939        0.0313     5        0.0313        0.0308  4179450    1.73%          rho_23 N 735839 735838     42\n",
      " 747676 251984        cutoff              0.0313        0.0308  4254482    1.73%           rho_0 D 747676 747675     60\n",
      " 759998 256541        0.0311    11        0.0313        0.0308  4327986    1.73%          rho_11 D 759998 759997     63\n",
      " 772971 258036        0.0309     7        0.0313        0.0308  4384504    1.73%           rho_7 D 772971 772969     30\n",
      " 784590 262898        0.0313     5        0.0313        0.0308  4458822    1.73%           rho_3 D 784590 784588     67\n",
      "Elapsed time = 168.94 sec. (205679.65 ticks, tree = 79.16 MB, solutions = 8)\n",
      " 796886 268055        0.0310    11        0.0313        0.0308  4528616    1.73%           rho_9 D 796886 796885     49\n",
      " 809457 273499        0.0311    14        0.0313        0.0308  4597389    1.73%           rho_9 D 809457 809454     77\n",
      " 821864 276942        0.0310    14        0.0313        0.0308  4664411    1.73%           rho_0 U 821864 821863     69\n",
      " 833693 281143        0.0313     7        0.0313        0.0308  4739945    1.73%           rho_3 D 833693 833691     82\n",
      " 845319 284146        0.0308    11        0.0313        0.0308  4799407    1.73%           rho_0 D 845319  99153     62\n",
      " 856948 288360        0.0311     8        0.0313        0.0308  4872079    1.73%           rho_3 D 856948 856947     46\n",
      " 869171 292484        0.0309    10        0.0313        0.0308  4935152    1.73%           rho_9 D 869171 869169     43\n",
      " 880757 296969        0.0309    12        0.0313        0.0308  5004362    1.73%           rho_1 U 880757 880756     15\n",
      " 892200 300973        0.0309    13        0.0313        0.0308  5072324    1.73%           rho_2 D 892200 892199     78\n",
      " 903380 305201        0.0308    15        0.0313        0.0308  5143967    1.73%           rho_0 U 903380 903379     37\n",
      "Elapsed time = 196.95 sec. (243829.65 ticks, tree = 92.89 MB, solutions = 8)\n",
      " 914744 309544        0.0308    14        0.0313        0.0308  5218090    1.73%           rho_4 U 914744 914742     49\n",
      "\n",
      "User cuts applied:  385\n",
      "\n",
      "Root node processing (before b&c):\n",
      "  Real time             =    0.42 sec. (1.53 ticks)\n",
      "Sequential b&c:\n",
      "  Real time             =  199.59 sec. (248048.63 ticks)\n",
      "                          ------------\n",
      "Total (root+branch&cut) =  200.02 sec. (248050.16 ticks)\n",
      "+-----------------------------------------------+------------------+-----------+\n",
      "| Pr(Y = +1) = 1.0/(1.0 + exp(-(-10 + score))   |                  |           |\n",
      "| ============================================= | ================ | ========= |\n",
      "| p_arrest>=1                                   |         2 points |   + ..... |\n",
      "| p_property>=1                                 |         2 points |   + ..... |\n",
      "| sex>=1                                        |         1 points |   + ..... |\n",
      "| p_arrest>=2                                   |         1 points |   + ..... |\n",
      "| p_felony>=1                                   |         1 points |   + ..... |\n",
      "| p_pending_charge>=1                           |         1 points |   + ..... |\n",
      "| ============================================= | ================ | ========= |\n",
      "| ADD POINTS FROM ROWS 1 to 6                   |            SCORE |   = ..... |\n",
      "+-----------------------------------------------+------------------+-----------+\n",
      "model_id, score_thresholds 0 {'rank_abs': [0]}\n",
      "get_disparity_predefined_group()\n"
     ]
    },
    {
     "name": "stderr",
     "output_type": "stream",
     "text": [
      "C:\\Users\\binha\\Documents\\Duke\\Cynthia Research\\psa-analysis - test2\\utils\\fairness_functions.py:82: RuntimeWarning:\n",
      "\n",
      "invalid value encountered in longlong_scalars\n",
      "\n",
      "C:\\Users\\binha\\Documents\\Duke\\Cynthia Research\\psa-analysis - test2\\utils\\fairness_functions.py:95: RuntimeWarning:\n",
      "\n",
      "divide by zero encountered in longlong_scalars\n",
      "\n",
      "C:\\Users\\binha\\Documents\\Duke\\Cynthia Research\\psa-analysis - test2\\utils\\fairness_functions.py:86: RuntimeWarning:\n",
      "\n",
      "invalid value encountered in longlong_scalars\n",
      "\n",
      "C:\\Users\\binha\\Documents\\Duke\\Cynthia Research\\psa-analysis - test2\\utils\\fairness_functions.py:95: RuntimeWarning:\n",
      "\n",
      "invalid value encountered in longlong_scalars\n",
      "\n"
     ]
    },
    {
     "name": "stdout",
     "output_type": "stream",
     "text": [
      "setting c0 = 0.0 to ensure that intercept is not penalized\n",
      "10/01/19 @ 03:29 PM | 1301 rows in lookup table\n",
      "10/01/19 @ 03:29 PM | ------------------------------------------------------------\n",
      "10/01/19 @ 03:29 PM | runnning initialization procedure\n",
      "10/01/19 @ 03:29 PM | ------------------------------------------------------------\n",
      "10/01/19 @ 03:29 PM | CPA produced 2 cuts\n",
      "10/01/19 @ 03:29 PM | running naive rounding on 121 solutions\n",
      "10/01/19 @ 03:29 PM | best objective value: 0.0311\n",
      "10/01/19 @ 03:29 PM | rounding produced 5 integer solutions\n",
      "10/01/19 @ 03:29 PM | best objective value is 0.0324\n",
      "10/01/19 @ 03:29 PM | running sequential rounding on 121 solutions\n",
      "10/01/19 @ 03:29 PM | best objective value: 0.0311\n",
      "10/01/19 @ 03:29 PM | sequential rounding produced 6 integer solutions\n",
      "10/01/19 @ 03:29 PM | best objective value: 0.0315\n",
      "10/01/19 @ 03:29 PM | polishing 11 solutions\n",
      "10/01/19 @ 03:29 PM | best objective value: 0.0315\n",
      "10/01/19 @ 03:29 PM | polishing produced 5 integer solutions\n",
      "10/01/19 @ 03:29 PM | initialization produced 11 feasible solutions\n",
      "10/01/19 @ 03:29 PM | best objective value: 0.0315\n",
      "10/01/19 @ 03:29 PM | ------------------------------------------------------------\n",
      "10/01/19 @ 03:29 PM | completed initialization procedure\n",
      "10/01/19 @ 03:29 PM | ------------------------------------------------------------\n",
      "10/01/19 @ 03:30 PM | 1301 rows in lookup table\n",
      "CPXPARAM_Read_DataCheck                          1\n",
      "CPXPARAM_Threads                                 1\n",
      "CPXPARAM_Parallel                                1\n",
      "CPXPARAM_RandomSeed                              0\n",
      "CPXPARAM_TimeLimit                               200\n",
      "CPXPARAM_MIP_Tolerances_LowerCutoff              0.030973063063611046\n",
      "CPXPARAM_MIP_Tolerances_UpperCutoff              0.031505175432813989\n"
     ]
    },
    {
     "name": "stderr",
     "output_type": "stream",
     "text": [
      "Warning: Control callbacks may disable some MIP features.\n"
     ]
    },
    {
     "name": "stdout",
     "output_type": "stream",
     "text": [
      "Lazy constraint(s) or lazy constraint callback is present.\n",
      "    Disabling dual reductions (CPX_PARAM_REDUCE) in presolve.\n",
      "    Disabling non-linear reductions (CPX_PARAM_PRELINEAR) in presolve.\n",
      "         Disabling repeat represolve because of lazy constraint/incumbent callback.\n",
      "10/01/19 @ 03:30 PM | adding 250 initial cuts\n",
      "1 of 1 MIP starts provided solutions.\n",
      "MIP start 'mip_start_0' defined initial solution with objective 0.0315.\n",
      "Tried aggregator 1 time.\n",
      "Reduced MIP has 32 rows, 64 columns, and 123 nonzeros.\n",
      "Reduced MIP has 30 binaries, 32 generals, 0 SOSs, and 0 indicators.\n",
      "Presolve time = 0.00 sec. (0.07 ticks)\n",
      "Probing time = 0.00 sec. (0.02 ticks)\n",
      "MIP emphasis: balance optimality and feasibility.\n",
      "MIP search method: traditional branch-and-cut.\n",
      "Parallel mode: none, using 1 thread.\n",
      "Root relaxation solution time = 0.00 sec. (0.04 ticks)\n",
      "\n",
      "        Nodes                                         Cuts/\n",
      "   Node  Left     Objective  IInf  Best Integer    Best Bound    ItCnt     Gap         Variable B NodeID Parent  Depth\n",
      "\n",
      "*     0+    0                            0.0315        0.0310             1.72%\n",
      "      0     0        0.0310     1        0.0315        0.0310        1    1.69%\n",
      "      0     2        0.0310     3        0.0315        0.0310        1    1.69%                        0             0\n",
      "Elapsed time = 0.20 sec. (1.60 ticks, tree = 0.01 MB, solutions = 1)\n",
      "   2122   907        0.0310     7        0.0315        0.0310     8523    1.69%          rho_19 U   2122   2121     26\n",
      "   3626  1346        0.0310     2        0.0315        0.0310    14501    1.69%           rho_2 U   3626   3569     35\n",
      "   5146  1800        cutoff              0.0315        0.0310    18926    1.69%          rho_16 D   5146   5145     20\n",
      "   6612  2510        0.0310     4        0.0315        0.0310    25531    1.69%          rho_10 U   6612   6611     77\n",
      "   8007  3120        0.0314     1        0.0315        0.0310    30955    1.69%          rho_14 D   8007   8005     95\n",
      "   9380  3661        0.0310     4        0.0315        0.0310    36523    1.69%           rho_0 D   9380   9365     46\n",
      "  10700  3942        0.0310     5        0.0315        0.0310    41994    1.69%          rho_29 D  10700  10699     26\n",
      "  12113  4430        0.0313     4        0.0315        0.0310    48604    1.69%           rho_7 U  12113  12112     57\n",
      "  13620  5016        0.0310     6        0.0315        0.0310    56560    1.69%          rho_10 D  13620  13619     79\n",
      "  20030  7823        0.0311     6        0.0315        0.0310    82939    1.69%          rho_10 D  20030  19067     67\n",
      "Elapsed time = 3.55 sec. (3102.44 ticks, tree = 2.06 MB, solutions = 1)\n",
      "  26709  9992        0.0310     1        0.0315        0.0310   109962    1.69%          rho_10 D  26709  26556     35\n",
      "  32671 12098        0.0310     8        0.0315        0.0310   136053    1.69%          rho_10 U  32671  32669     43\n",
      "  38469 14667        cutoff              0.0315        0.0310   158957    1.69%          rho_15 D  38469  38467     61\n",
      "  43745 16705        0.0312     6        0.0315        0.0310   180910    1.69%          rho_11 D  43745  43743     34\n",
      "  48760 18624        0.0310     6        0.0315        0.0310   202991    1.69%          rho_10 U  48760  48758     82\n",
      "  53339 20625        0.0310     1        0.0315        0.0310   224660    1.69%          rho_10 U  53339  53337     62\n",
      "* 56112 21419      integral     0        0.0315        0.0310   237004    1.69%\n",
      "  57635 21834        0.0314     7        0.0315        0.0310   244053    1.69%          rho_14 N  57635  57414     75\n",
      "  61496 22539        0.0314     7        0.0315        0.0310   263127    1.69%          rho_14 N  61496  61474     63\n",
      "  65863 23789        0.0312     3        0.0315        0.0310   280903    1.69%           rho_3 D  65863  65861     20\n",
      "  70392 24384        0.0310     3        0.0315        0.0310   294824    1.69%           rho_6 U  70392  70214     50\n",
      "Elapsed time = 11.73 sec. (12640.71 ticks, tree = 6.90 MB, solutions = 2)\n",
      "  74955 25002        0.0313     3        0.0315        0.0310   308944    1.69%          rho_29 D  74955  74953     64\n",
      "  79027 26832        0.0312     7        0.0315        0.0310   325908    1.69%           rho_9 D  79027  79026     57\n",
      "  83107 28555        cutoff              0.0315        0.0310   342103    1.69%           rho_9 U  83107  83105     61\n",
      "  87110 30034        0.0310     8        0.0315        0.0310   358068    1.69%           rho_0 D  87110  87108     25\n",
      "  90673 30716        cutoff              0.0315        0.0310   373981    1.69%           rho_3 U  90673  90672     53\n",
      "  94080 31369        0.0314     5        0.0315        0.0310   389466    1.69%           rho_5 D  94080  94078     81\n",
      "  97630 32579        0.0312     7        0.0315        0.0310   404380    1.69%           rho_0 U  97630  97602     82\n",
      " 100650 34277        0.0312     7        0.0315        0.0310   423310    1.69%          rho_23 U 100650 100649    100\n",
      " 103820 35171        0.0314     5        0.0315        0.0310   439124    1.69%          rho_14 D 103820 103819     55\n",
      " 107332 36969        0.0310     8        0.0315        0.0310   455947    1.69%           rho_0 D 107332 107330     50\n",
      "Elapsed time = 18.17 sec. (22179.32 ticks, tree = 11.34 MB, solutions = 2)\n",
      " 110931 38642        0.0311     4        0.0315        0.0310   471134    1.69%           rho_4 U 110931 110688     43\n",
      " 114465 39780        0.0310    10        0.0315        0.0310   485703    1.69%           rho_5 U 114465 114462     38\n",
      " 117534 41505        0.0311     5        0.0315        0.0310   504170    1.69%           rho_4 D 117534 117532     40\n",
      " 120334 42755        cutoff              0.0315        0.0310   520511    1.69%          rho_14 U 120334 120333     84\n",
      " 123770 43692        0.0314     7        0.0315        0.0310   536924    1.69%          rho_29 D 123770 123769     45\n",
      " 127263 45785        0.0310     8        0.0315        0.0310   552684    1.69%           rho_0 D 127263 127261     93\n",
      " 129961 47620        0.0310     7        0.0315        0.0310   570644    1.69%           rho_6 D 129961 129960     51\n",
      " 132579 49288        0.0314     3        0.0315        0.0310   587812    1.69%          rho_23 U 132579 132578     64\n",
      " 135508 50585        0.0313     9        0.0315        0.0310   602246    1.69%           rho_3 D 135508 135507     20\n",
      " 138583 51705        cutoff              0.0315        0.0310   619546    1.69%           rho_5 U 138583 138582     62\n",
      "Elapsed time = 24.76 sec. (31716.84 ticks, tree = 14.95 MB, solutions = 2)\n",
      " 142013 52766        0.0310     9        0.0315        0.0310   637582    1.69%           rho_4 D 142013 142012     71\n",
      " 145250 53780        0.0315     7        0.0315        0.0310   654647    1.69%          rho_23 U 145250 145249     52\n",
      " 148458 55026        cutoff              0.0315        0.0310   671852    1.69%           rho_0 U 148458 148457     67\n",
      " 151615 56949        0.0310     8        0.0315        0.0310   691345    1.69%           rho_0 U 151615 151614     41\n",
      " 154514 58851        cutoff              0.0315        0.0310   705855    1.69%          rho_19 U 154514 154513     49\n",
      " 157247 60481        0.0310    10        0.0315        0.0310   723201    1.69%           rho_0 D 157247 157241     47\n",
      " 160288 62012        0.0310     7        0.0315        0.0310   736815    1.69%           rho_0 U 160288 160287     68\n",
      " 163190 63566        0.0311     8        0.0315        0.0310   752597    1.69%          rho_14 D 163190 163188     30\n",
      " 166476 64816        0.0310    10        0.0315        0.0310   771464    1.69%          rho_10 U 166476 166405     36\n",
      " 170239 66128        0.0313     5        0.0315        0.0310   789525    1.69%          rho_23 U 170239 170238     66\n",
      "Elapsed time = 30.88 sec. (41255.33 ticks, tree = 21.31 MB, solutions = 2)\n",
      " 174245 67972        0.0313     7        0.0315        0.0310   806653    1.69%          rho_14 D 174245 174244     59\n",
      " 177779 69438        0.0314     5        0.0315        0.0310   825823    1.69%          rho_23 U 177779 177778     36\n",
      " 181326 70479        0.0310     6        0.0315        0.0310   843678    1.69%          rho_10 U 181326 181313     68\n",
      " 184891 71403        0.0310     7        0.0315        0.0310   860929    1.69%           rho_0 U 184891 184890     86\n",
      " 188197 72310        cutoff              0.0315        0.0310   877583    1.69%           rho_3 U 188197 188196     94\n",
      " 191405 73229        0.0312     5        0.0315        0.0310   894034    1.69%          rho_14 D 191405 191404     67\n",
      " 194575 74136        0.0313     6        0.0315        0.0310   910201    1.69%          rho_11 D 194575 194573     48\n",
      " 197715 75066        0.0312     4        0.0315        0.0310   926410    1.69%          rho_23 U 197715 197714     47\n",
      " 200773 75963        0.0313     3        0.0315        0.0310   942609    1.69%          rho_27 D 200773 200772     59\n",
      " 203819 76932        0.0311     9        0.0315        0.0310   959087    1.69%          rho_13 D 203819 203817     76\n",
      "Elapsed time = 36.23 sec. (50793.67 ticks, tree = 24.09 MB, solutions = 2)\n",
      " 207097 77834        0.0312     7        0.0315        0.0310   973757    1.69%          rho_11 D 207097 207095     36\n",
      " 210583 78779        0.0313     9        0.0315        0.0310   987181    1.69%          rho_23 U 210583 210582     44\n",
      " 214065 79757        0.0310     6        0.0315        0.0310  1000521    1.69%           rho_4 D 214065 214064     49\n",
      " 217510 80969        0.0310     9        0.0315        0.0310  1014211    1.69%          rho_10 D 217510 217509     59\n",
      " 220594 82309        0.0310     9        0.0315        0.0310  1030811    1.69%           rho_0 D 220594 220592     49\n",
      " 223656 83541        0.0310     8        0.0315        0.0310  1048208    1.69%          rho_10 D 223656 223655     43\n",
      " 226851 84617        0.0313     7        0.0315        0.0310  1063771    1.69%          rho_11 D 226851 226850     81\n",
      " 229895 85643        0.0310     9        0.0315        0.0310  1080293    1.69%           rho_5 D 229895 229894     30\n",
      " 233358 87203        0.0310    10        0.0315        0.0310  1095016    1.69%           rho_0 D 233358 233352     36\n",
      " 237013 88914        0.0315     4        0.0315        0.0310  1108986    1.69%          rho_11 D 237013 237012     48\n",
      "Elapsed time = 41.17 sec. (60331.69 ticks, tree = 27.12 MB, solutions = 2)\n",
      " 240018 90137        0.0310    15        0.0315        0.0310  1126049    1.69%          rho_10 N 240018 240017     48\n",
      " 243008 91388        0.0310     6        0.0315        0.0310  1143613    1.69%          rho_10 U 243008 242691     36\n",
      " 245851 92231        0.0310     9        0.0315        0.0310  1158764    1.69%           rho_3 D 245851 245842     75\n",
      " 248566 93028        0.0310     7        0.0315        0.0310  1173508    1.69%           rho_0 N 248566 248565     37\n",
      " 251322 93844        0.0310     9        0.0315        0.0310  1188349    1.69%           rho_0 D 251322 251320     22\n",
      " 254190 94749        0.0314     5        0.0315        0.0310  1203680    1.69%          rho_14 D 254190 254189     80\n",
      " 257341 95838        0.0314     7        0.0315        0.0310  1219959    1.69%          rho_11 D 257341 257340     78\n",
      " 260562 97038        0.0314     7        0.0315        0.0310  1236472    1.69%           rho_3 D 260562 260561     48\n",
      " 263583 97720        cutoff              0.0315        0.0310  1250859    1.69%          rho_29 D 263583 263582     75\n",
      " 266701 98730        0.0310     8        0.0315        0.0310  1265717    1.69%          rho_10 U 266701 266700     20\n",
      "Elapsed time = 45.80 sec. (69869.63 ticks, tree = 29.56 MB, solutions = 2)\n",
      " 269949 100153        0.0310     6        0.0315        0.0310  1279756    1.69%          rho_10 U 269949 269948     26\n",
      " 273154 101516        cutoff              0.0315        0.0310  1296723    1.69%           rho_4 U 273154 273153     58\n",
      " 276306 102354        cutoff              0.0315        0.0310  1308904    1.69%           rho_4 U 276306 276304     58\n",
      " 279467 103128        0.0313     7        0.0315        0.0310  1320321    1.69%          rho_11 D 279467 279465     85\n",
      " 282302 104174        0.0310    10        0.0315        0.0310  1334622    1.69%           rho_0 D 282302 282298     43\n",
      " 285134 105480        0.0315     3        0.0315        0.0310  1350998    1.69%           rho_9 D 285134 285132     78\n",
      " 287945 106767        0.0310    11        0.0315        0.0310  1367103    1.69%           rho_8 U 287945 287944     64\n",
      " 290929 107996        0.0314     7        0.0315        0.0310  1382358    1.69%           rho_2 D 290929 290927     55\n",
      " 293717 109036        0.0310    13        0.0315        0.0310  1399151    1.69%           rho_0 U 293717 293716     42\n",
      " 296571 109873        0.0312     9        0.0315        0.0310  1414091    1.69%           rho_4 U 296571 145138     81\n",
      "Elapsed time = 50.45 sec. (79408.34 ticks, tree = 32.38 MB, solutions = 2)\n",
      " 299495 111028        0.0310    12        0.0315        0.0310  1429934    1.69%          rho_10 D 299495 299494     46\n",
      " 302150 112275        0.0313    11        0.0315        0.0310  1448082    1.69%           rho_4 D 302150 302149     83\n",
      " 304822 113303        cutoff              0.0315        0.0310  1465094    1.69%          rho_14 U 304822 304821     55\n",
      " 307720 113849        0.0314     5        0.0315        0.0310  1478405    1.69%           rho_3 D 307720 307719     34\n",
      " 310525 114975        0.0310     5        0.0315        0.0310  1496397    1.69%          rho_23 U 310525 310524     67\n",
      " 313349 116031        0.0310     7        0.0315        0.0310  1514706    1.69%          rho_10 D 313349 313348     68\n",
      " 316144 117143        0.0310     8        0.0315        0.0310  1532587    1.69%          rho_10 U 316144 316132     52\n",
      " 318587 118703        0.0311     9        0.0315        0.0310  1549942    1.69%          rho_10 N 318587 318586     56\n",
      " 320707 119842        0.0314     5        0.0315        0.0310  1565604    1.69%           rho_7 D 320707 320706     34\n",
      " 332354 124660        0.0312     5        0.0315        0.0310  1632800    1.69%           rho_3 D 332354 332352     70\n",
      "Elapsed time = 56.33 sec. (91808.26 ticks, tree = 36.10 MB, solutions = 2)\n",
      " 342954 129319        cutoff              0.0315        0.0310  1700468    1.69%           rho_9 D 342954 342953     60\n",
      " 353815 134570        0.0310    11        0.0315        0.0310  1760768    1.69%          rho_10 D 353815 353814     57\n",
      " 364987 139316        0.0312    10        0.0315        0.0310  1831215    1.69%          rho_11 D 364987 364986     62\n",
      " 376677 144670        0.0310    13        0.0315        0.0310  1890829    1.69%           rho_5 U 376677 376676     30\n",
      " 387271 150259        0.0314     7        0.0315        0.0310  1944371    1.69%           rho_5 U 387271 387268     38\n",
      " 402202 154820        cutoff              0.0315        0.0310  1990026    1.68%          rho_19 U 402202 402200     48\n",
      " 415536 160245        0.0314     8        0.0315        0.0310  2042921    1.67%           rho_0 D 415536 415534     44\n",
      " 429489 164959        0.0314     5        0.0315        0.0310  2090436    1.66%           rho_4 U 429489 429488     66\n",
      " 443076 169805        0.0310     5        0.0315        0.0310  2138364    1.65%           rho_4 D 443076 443075     59\n",
      " 456452 174637        cutoff              0.0315        0.0310  2186679    1.64%           rho_0 U 456452 456451     56\n",
      "Elapsed time = 73.22 sec. (129956.36 ticks, tree = 53.57 MB, solutions = 2)\n",
      " 470372 179394        cutoff              0.0315        0.0310  2236932    1.64%          rho_19 U 470372 470370     43\n",
      " 483914 183740        0.0310     6        0.0315        0.0310  2284838    1.62%          rho_10 U 483914 483804     61\n",
      " 497898 188482        cutoff              0.0315        0.0310  2333262    1.62%           rho_5 U 497898 497897     39\n",
      " 510082 191014        cutoff              0.0315        0.0310  2387921    1.62%          rho_29 U 510082 510081     88\n",
      " 523798 195387        0.0311    11        0.0315        0.0310  2437607    1.61%           rho_2 D 523798 523797     48\n",
      " 537454 200075        0.0311     3        0.0315        0.0310  2485524    1.61%           rho_4 U 537454 537453     35\n",
      " 550478 204218        0.0313    10        0.0315        0.0310  2535668    1.60%           rho_0 D 550478 550477     45\n",
      " 563584 209363        cutoff              0.0315        0.0310  2586426    1.60%          rho_11 U 563584 563583     38\n",
      " 577207 214408        0.0310     3        0.0315        0.0310  2637973    1.59%          rho_23 D 577207 577204     97\n",
      " 590009 219249        0.0311     8        0.0315        0.0310  2687781    1.59%          rho_23 D 590009 590008     42\n",
      "Elapsed time = 89.98 sec. (168104.52 ticks, tree = 67.03 MB, solutions = 2)\n",
      " 603643 222493        0.0311     9        0.0315        0.0310  2733128    1.58%          rho_10 D 603643 603641     54\n",
      " 616649 225564        cutoff              0.0315        0.0310  2778515    1.58%           rho_7 D 616649 616648     80\n",
      " 629301 229291        0.0314     6        0.0315        0.0310  2827802    1.57%           rho_0 D 629301 629299     82\n",
      " 642076 231067        0.0310    11        0.0315        0.0310  2873186    1.57%          rho_19 D 642076 642075     43\n",
      " 655495 235786        cutoff              0.0315        0.0310  2919736    1.56%          rho_16 D 655495 655494     45\n",
      " 669994 239974        cutoff              0.0315        0.0310  2965854    1.56%           rho_5 U 669994 669993     29\n",
      " 683197 244204        0.0311    12        0.0315        0.0310  3015017    1.56%           rho_4 D 683197 683196     22\n",
      " 696514 249807        0.0315     7        0.0315        0.0310  3070751    1.55%           rho_0 U 696514 696513     53\n",
      " 709497 253075        cutoff              0.0315        0.0310  3116545    1.55%          rho_11 U 709497 709496     62\n",
      " 722139 256173        0.0310     8        0.0315        0.0310  3164221    1.55%          rho_23 D 722139 419354     46\n",
      "Elapsed time = 106.39 sec. (206252.90 ticks, tree = 78.95 MB, solutions = 2)\n",
      " 734851 258401        0.0315     6        0.0315        0.0310  3211283    1.54%           rho_4 D 734851 734850     55\n",
      " 747310 262810        0.0312     5        0.0315        0.0310  3264695    1.54%           rho_0 D 747310 747309     37\n",
      " 761118 266576        0.0315     1        0.0315        0.0310  3305960    1.53%           rho_5 U 761118 761117     91\n",
      " 773905 269766        0.0313     7        0.0315        0.0310  3354819    1.53%          rho_23 D 773905 773903     66\n",
      " 787050 272537        0.0313     6        0.0315        0.0310  3398889    1.53%           rho_7 D 787050 787048     45\n",
      " 800147 277559        0.0314     8        0.0315        0.0310  3445923    1.52%           rho_3 U 800147 800146     56\n",
      " 813083 280627        0.0310     9        0.0315        0.0310  3498325    1.52%          rho_11 D 813083 764918     53\n",
      " 825646 282454        0.0314    11        0.0315        0.0310  3544828    1.52%           rho_7 D 825646 825644     82\n",
      " 837484 284247        cutoff              0.0315        0.0310  3592581    1.52%           rho_7 U 837484 837483     87\n",
      " 851447 289618        cutoff              0.0315        0.0310  3641941    1.51%          rho_28 U 851447 851445    105\n",
      "Elapsed time = 122.33 sec. (244402.26 ticks, tree = 90.43 MB, solutions = 2)\n",
      " 863971 291570        0.0315     9        0.0315        0.0310  3688336    1.51%          rho_29 D 863971 863970     82\n",
      " 878469 295998        0.0312     5        0.0315        0.0310  3731856    1.51%          rho_10 D 878469 878468     55\n",
      " 891184 300140        cutoff              0.0315        0.0310  3783869    1.51%           rho_0 U 891184 891183     80\n",
      " 904098 305336        0.0310    12        0.0315        0.0310  3831751    1.51%           rho_6 U 904098 904089     48\n",
      " 917220 308981        0.0310    11        0.0315        0.0310  3878756    1.50%           rho_5 D 917220 287973     69\n",
      " 930132 312368        0.0312     6        0.0315        0.0310  3924601    1.50%          rho_11 D 930132 930130     48\n",
      " 943087 317074        0.0311     9        0.0315        0.0310  3971301    1.50%           rho_7 D 943087 943086     66\n",
      " 955002 320287        0.0314     7        0.0315        0.0310  4019991    1.50%          rho_23 U 955002 955001     60\n",
      " 967815 324900        0.0313     6        0.0315        0.0310  4064713    1.49%           rho_4 U 967815 967814     44\n",
      " 980854 326496        cutoff              0.0315        0.0310  4110793    1.49%           rho_5 U 980854 778018     79\n",
      "Elapsed time = 141.41 sec. (282550.46 ticks, tree = 103.43 MB, solutions = 2)\n",
      " 993684 328131        0.0312     7        0.0315        0.0310  4156323    1.49%          rho_23 D 993684 993683     73\n",
      " 1006480 331250        0.0315     7        0.0315        0.0310  4207907    1.48%          rho_19 D 1006480 1006479     81\n",
      " 1018839 333977        0.0314     9        0.0315        0.0310  4255858    1.48%          rho_10 D 1018839 1018838     25\n",
      " 1031930 336268        0.0313     7        0.0315        0.0310  4298679    1.48%          rho_11 D 1031930 1031928     70\n",
      " 1044276 337948        cutoff              0.0315        0.0310  4347369    1.47%          rho_11 U 1044276 1044275     52\n",
      " 1056365 340033        0.0313     5        0.0315        0.0310  4399342    1.47%          rho_23 D 1056365 1056363     56\n",
      " 1069657 343523        0.0311     9        0.0315        0.0310  4443674    1.47%           rho_5 U 1069657 1069656     75\n",
      " 1082375 347555        cutoff              0.0315        0.0310  4490235    1.47%          rho_11 U 1082375 1082374     59\n",
      " 1095310 350105        0.0312     4        0.0315        0.0310  4530709    1.47%           rho_3 D 1095310 1095309     74\n",
      " 1106613 352783        0.0311    13        0.0315        0.0310  4581031    1.46%           rho_0 D 1106613 802244     38\n",
      "Elapsed time = 168.97 sec. (320700.13 ticks, tree = 110.18 MB, solutions = 2)\n",
      " 1118831 356830        0.0310    12        0.0315        0.0310  4633699    1.46%           rho_0 D 1118831 1118779     44\n",
      " 1131510 360136        cutoff              0.0315        0.0310  4682494    1.46%          rho_15 U 1131510 1131509     68\n",
      " 1144611 363861        0.0313     9        0.0315        0.0310  4728371    1.46%          rho_23 U 1144611 1144610     55\n",
      " 1156974 367842        0.0311    10        0.0315        0.0310  4777258    1.46%          rho_23 U 1156974 1156973     90\n",
      " 1169169 370137        0.0315     7        0.0315        0.0310  4818273    1.45%           rho_8 U 1169169 1169168     19\n",
      " 1181196 374079        0.0311    11        0.0315        0.0310  4863013    1.45%           rho_7 D 1181196 1181195     65\n",
      " 1192711 376705        cutoff              0.0315        0.0310  4909666    1.44%          rho_11 U 1192711 1192710     65\n",
      " 1203717 377907        0.0312     5        0.0315        0.0310  4954814    1.44%           rho_3 N 1203717 1036454     76\n",
      " 1215021 379226        0.0312    10        0.0315        0.0311  4999554    1.44%          rho_23 U 1215021 864074     77\n",
      " 1225989 382678        0.0315     7        0.0315        0.0311  5046806    1.44%          rho_11 U 1225989 1225988     60\n",
      "Elapsed time = 196.26 sec. (358849.31 ticks, tree = 117.84 MB, solutions = 2)\n",
      " 1237770 384742        0.0311     6        0.0315        0.0311  5087601    1.43%           rho_7 D 1237770 897899     25\n",
      "\n",
      "Implied bound cuts applied:  1\n",
      "User cuts applied:  446\n",
      "\n",
      "Root node processing (before b&c):\n",
      "  Real time             =    0.20 sec. (1.64 ticks)\n",
      "Sequential b&c:\n",
      "  Real time             =  199.81 sec. (364727.52 ticks)\n",
      "                          ------------\n",
      "Total (root+branch&cut) =  200.01 sec. (364729.17 ticks)\n",
      "+-----------------------------------------------+-------------------+-----------+\n",
      "| Pr(Y = +1) = 1.0/(1.0 + exp(-(-23 + score))   |                   |           |\n",
      "| ============================================= | ================= | ========= |\n",
      "| p_arrest>=1                                   |         15 points |   + ..... |\n",
      "| p_property>=1                                 |          2 points |   + ..... |\n",
      "| age_at_current_charge<=47                     |          1 points |   + ..... |\n",
      "| p_arrest>=2                                   |          1 points |   + ..... |\n",
      "| p_felony>=1                                   |          1 points |   + ..... |\n",
      "| p_pending_charge>=1                           |          1 points |   + ..... |\n",
      "| ============================================= | ================= | ========= |\n",
      "| ADD POINTS FROM ROWS 1 to 6                   |             SCORE |   = ..... |\n",
      "+-----------------------------------------------+-------------------+-----------+\n",
      "model_id, score_thresholds 0 {'rank_abs': [0]}\n",
      "get_disparity_predefined_group()\n"
     ]
    },
    {
     "name": "stderr",
     "output_type": "stream",
     "text": [
      "C:\\Users\\binha\\Documents\\Duke\\Cynthia Research\\psa-analysis - test2\\utils\\fairness_functions.py:82: RuntimeWarning:\n",
      "\n",
      "invalid value encountered in longlong_scalars\n",
      "\n",
      "C:\\Users\\binha\\Documents\\Duke\\Cynthia Research\\psa-analysis - test2\\utils\\fairness_functions.py:95: RuntimeWarning:\n",
      "\n",
      "divide by zero encountered in longlong_scalars\n",
      "\n",
      "C:\\Users\\binha\\Documents\\Duke\\Cynthia Research\\psa-analysis - test2\\utils\\fairness_functions.py:86: RuntimeWarning:\n",
      "\n",
      "invalid value encountered in longlong_scalars\n",
      "\n",
      "C:\\Users\\binha\\Documents\\Duke\\Cynthia Research\\psa-analysis - test2\\utils\\fairness_functions.py:95: RuntimeWarning:\n",
      "\n",
      "invalid value encountered in longlong_scalars\n",
      "\n"
     ]
    }
   ],
   "source": [
    "riskslim_summary = slim.risk_cv(X=sub_X, \n",
    "                                Y=sub_Y, \n",
    "                                indicator = indicator,\n",
    "                                y_label='recid_property6', \n",
    "                                max_coef=20, \n",
    "                                max_coef_number=10, \n",
    "                                max_runtime=200, \n",
    "                                c=1e-6, \n",
    "                                seed=816)"
   ]
  },
  {
   "cell_type": "code",
   "execution_count": 28,
   "metadata": {},
   "outputs": [
    {
     "data": {
      "text/plain": [
       "(0.8342368964223702, 0.8322669705831146)"
      ]
     },
     "execution_count": 28,
     "metadata": {},
     "output_type": "execute_result"
    }
   ],
   "source": [
    "np.mean(riskslim_summary['train_auc']), np.mean(riskslim_summary['test_auc'])"
   ]
  },
  {
   "cell_type": "markdown",
   "metadata": {},
   "source": [
    "### Arnold PSA"
   ]
  },
  {
   "cell_type": "code",
   "execution_count": 29,
   "metadata": {},
   "outputs": [],
   "source": [
    "### load data\n",
    "data = pd.read_csv(\"~/Documents/Duke/Cynthia Research/KY-analysis-mytrials/KY Recidivism/KY data/kentucky_data.csv\")\n",
    "X_arnold = data['nca_risk_score_raw'].values\n",
    "Y_arnold = data['recid_property_six_month'].values\n",
    "\n",
    "## set up cross validation\n",
    "cv = KFold(n_splits=5,shuffle=True,random_state=816)\n",
    "arnold_auc = []\n",
    "for train, test in cv.split(X_arnold, Y_arnold):\n",
    "    y_pred_arnold, y_test = X_arnold[test], Y_arnold[test]\n",
    "    arnold_auc.append(roc_auc_score(y_test, y_pred_arnold))"
   ]
  },
  {
   "cell_type": "markdown",
   "metadata": {},
   "source": [
    "### Corel"
   ]
  },
  {
   "cell_type": "code",
   "execution_count": 2,
   "metadata": {},
   "outputs": [],
   "source": [
    "## load stumps data\n",
    "data = pd.read_csv(\"~/Documents/Duke/Cynthia Research/KY-analysis-mytrials/KY Recidivism/KY data/kentucky_stumps.csv\")\n",
    "x, y = data.loc[:,:'current_violence>=1'], data['recid_property_six_month'].values\n",
    "y[y == -1] = 0"
   ]
  },
  {
   "cell_type": "code",
   "execution_count": 3,
   "metadata": {
    "scrolled": true
   },
   "outputs": [
    {
     "name": "stderr",
     "output_type": "stream",
     "text": [
      "C:\\Users\\binha\\Documents\\Duke\\Cynthia Research\\psa-analysis - test2\\utils\\fairness_functions.py:82: RuntimeWarning:\n",
      "\n",
      "invalid value encountered in longlong_scalars\n",
      "\n",
      "C:\\Users\\binha\\Documents\\Duke\\Cynthia Research\\psa-analysis - test2\\utils\\fairness_functions.py:95: RuntimeWarning:\n",
      "\n",
      "divide by zero encountered in longlong_scalars\n",
      "\n",
      "C:\\Users\\binha\\Documents\\Duke\\Cynthia Research\\psa-analysis - test2\\utils\\fairness_functions.py:86: RuntimeWarning:\n",
      "\n",
      "invalid value encountered in longlong_scalars\n",
      "\n",
      "C:\\Users\\binha\\Documents\\Duke\\Cynthia Research\\psa-analysis - test2\\utils\\fairness_functions.py:95: RuntimeWarning:\n",
      "\n",
      "invalid value encountered in longlong_scalars\n",
      "\n",
      "C:\\Users\\binha\\Documents\\Duke\\Cynthia Research\\psa-analysis - test2\\utils\\fairness_functions.py:82: RuntimeWarning:\n",
      "\n",
      "invalid value encountered in longlong_scalars\n",
      "\n",
      "C:\\Users\\binha\\Documents\\Duke\\Cynthia Research\\psa-analysis - test2\\utils\\fairness_functions.py:95: RuntimeWarning:\n",
      "\n",
      "divide by zero encountered in longlong_scalars\n",
      "\n",
      "C:\\Users\\binha\\Documents\\Duke\\Cynthia Research\\psa-analysis - test2\\utils\\fairness_functions.py:86: RuntimeWarning:\n",
      "\n",
      "invalid value encountered in longlong_scalars\n",
      "\n",
      "C:\\Users\\binha\\Documents\\Duke\\Cynthia Research\\psa-analysis - test2\\utils\\fairness_functions.py:95: RuntimeWarning:\n",
      "\n",
      "invalid value encountered in longlong_scalars\n",
      "\n",
      "C:\\Users\\binha\\Documents\\Duke\\Cynthia Research\\psa-analysis - test2\\utils\\fairness_functions.py:82: RuntimeWarning:\n",
      "\n",
      "invalid value encountered in longlong_scalars\n",
      "\n",
      "C:\\Users\\binha\\Documents\\Duke\\Cynthia Research\\psa-analysis - test2\\utils\\fairness_functions.py:95: RuntimeWarning:\n",
      "\n",
      "divide by zero encountered in longlong_scalars\n",
      "\n",
      "C:\\Users\\binha\\Documents\\Duke\\Cynthia Research\\psa-analysis - test2\\utils\\fairness_functions.py:86: RuntimeWarning:\n",
      "\n",
      "invalid value encountered in longlong_scalars\n",
      "\n",
      "C:\\Users\\binha\\Documents\\Duke\\Cynthia Research\\psa-analysis - test2\\utils\\fairness_functions.py:95: RuntimeWarning:\n",
      "\n",
      "invalid value encountered in longlong_scalars\n",
      "\n",
      "C:\\Users\\binha\\Documents\\Duke\\Cynthia Research\\psa-analysis - test2\\utils\\fairness_functions.py:82: RuntimeWarning:\n",
      "\n",
      "invalid value encountered in longlong_scalars\n",
      "\n",
      "C:\\Users\\binha\\Documents\\Duke\\Cynthia Research\\psa-analysis - test2\\utils\\fairness_functions.py:95: RuntimeWarning:\n",
      "\n",
      "divide by zero encountered in longlong_scalars\n",
      "\n",
      "C:\\Users\\binha\\Documents\\Duke\\Cynthia Research\\psa-analysis - test2\\utils\\fairness_functions.py:86: RuntimeWarning:\n",
      "\n",
      "invalid value encountered in longlong_scalars\n",
      "\n",
      "C:\\Users\\binha\\Documents\\Duke\\Cynthia Research\\psa-analysis - test2\\utils\\fairness_functions.py:95: RuntimeWarning:\n",
      "\n",
      "invalid value encountered in longlong_scalars\n",
      "\n",
      "C:\\Users\\binha\\Documents\\Duke\\Cynthia Research\\psa-analysis - test2\\utils\\fairness_functions.py:82: RuntimeWarning:\n",
      "\n",
      "invalid value encountered in longlong_scalars\n",
      "\n",
      "C:\\Users\\binha\\Documents\\Duke\\Cynthia Research\\psa-analysis - test2\\utils\\fairness_functions.py:95: RuntimeWarning:\n",
      "\n",
      "divide by zero encountered in longlong_scalars\n",
      "\n",
      "C:\\Users\\binha\\Documents\\Duke\\Cynthia Research\\psa-analysis - test2\\utils\\fairness_functions.py:86: RuntimeWarning:\n",
      "\n",
      "invalid value encountered in longlong_scalars\n",
      "\n",
      "C:\\Users\\binha\\Documents\\Duke\\Cynthia Research\\psa-analysis - test2\\utils\\fairness_functions.py:95: RuntimeWarning:\n",
      "\n",
      "invalid value encountered in longlong_scalars\n",
      "\n"
     ]
    }
   ],
   "source": [
    "corel_summary = Corel.corel_cv(x, y, max_card=2, c=1e-4, seed=816)"
   ]
  },
  {
   "cell_type": "code",
   "execution_count": 4,
   "metadata": {},
   "outputs": [
    {
     "data": {
      "text/plain": [
       "(0.5, 0.0)"
      ]
     },
     "execution_count": 4,
     "metadata": {},
     "output_type": "execute_result"
    }
   ],
   "source": [
    "np.mean(corel_summary['test_auc']), np.std(corel_summary['test_auc'])"
   ]
  },
  {
   "cell_type": "markdown",
   "metadata": {},
   "source": [
    "### Results"
   ]
  },
  {
   "cell_type": "code",
   "execution_count": 33,
   "metadata": {},
   "outputs": [
    {
     "name": "stdout",
     "output_type": "stream",
     "text": [
      "Stored 'summary_property6_KY_interpret' (dict)\n"
     ]
    }
   ],
   "source": [
    "#### save results\n",
    "summary_property6_KY_interpret = {\"CART\": cart_summary,\n",
    "                                 \"EBM\": ebm_summary, \n",
    "                                 'Lasso Stumps': stump_summary, \n",
    "                                 'RiskSLIM': riskslim_summary,  \n",
    "                                 'Corel': corel_summary,\n",
    "                                 'Arnold PSA': arnold_auc}\n",
    "%store summary_property6_KY_interpret"
   ]
  },
  {
   "cell_type": "code",
   "execution_count": 34,
   "metadata": {},
   "outputs": [
    {
     "data": {
      "text/plain": [
       "[['CART', 0.8180403900256067, 0.02446680988307437],\n",
       " ['EBM', 0.8170977146779187, 0.02812337821372295],\n",
       " ['Lasso Stumps', 0.8505647592386616, 0.011499596827719972],\n",
       " ['RiskSLIM', 0.8322669705831146],\n",
       " ['Corel', 0.5],\n",
       " ['Arnold PSA', 0.73]]"
      ]
     },
     "execution_count": 34,
     "metadata": {},
     "output_type": "execute_result"
    }
   ],
   "source": [
    "results = [[\"CART\", np.mean(cart_summary['holdout_test_auc']), np.mean(cart_summary['auc_diffs'])],\n",
    "           [\"EBM\", np.mean(ebm_summary['holdout_test_auc']), np.mean(ebm_summary['auc_diffs'])], \n",
    "           [\"Lasso Stumps\", np.mean(stump_summary['holdout_test_auc']), np.mean(stump_summary['auc_diffs'])],\n",
    "           ['RiskSLIM', np.mean(riskslim_summary['test_auc'])],\n",
    "           ['Corel', np.mean(corel_summary['test_auc'])],\n",
    "           ['Arnold PSA', round(np.mean(arnold_auc), 3)]]\n",
    "results"
   ]
  },
  {
   "cell_type": "code",
   "execution_count": 35,
   "metadata": {},
   "outputs": [],
   "source": [
    "auc = [np.mean(cart_summary['holdout_test_auc']), \n",
    "       np.mean(ebm_summary['holdout_test_auc']), \n",
    "       np.mean(stump_summary['holdout_test_auc']), \n",
    "       np.mean(riskslim_summary['test_auc']), \n",
    "       np.mean(corel_summary['test_auc'])]"
   ]
  },
  {
   "cell_type": "code",
   "execution_count": 36,
   "metadata": {},
   "outputs": [],
   "source": [
    "path = \"C:/Users/binha/Documents/Duke/Cynthia Research/KY-analysis-mytrials/KY Recidivism/KY Results/Models/Six Month/\"\n",
    "results = [[\"Property\", np.str((round(np.mean(cart_summary['holdout_test_auc']), 3))) + \" (\" + np.str(round(np.std(cart_summary['holdout_test_auc']), 3)) + \")\", \n",
    "            np.str(round(np.mean(ebm_summary['holdout_test_auc']),3)) + \" (\" + np.str(round(np.std(ebm_summary['holdout_test_auc']), 3)) + \")\", \n",
    "            np.str(round(np.mean(stump_summary['holdout_test_auc']),3)) + \" (\" + np.str(round(np.std(stump_summary['holdout_test_auc']), 3)) + \")\",             \n",
    "            np.str(round(np.mean(riskslim_summary['test_auc']),3)) + \" (\" + np.str(round(np.std(riskslim_summary['test_auc']), 3)) + \")\", \n",
    "            np.str(round(np.mean(corel_summary['test_auc']),3)) + \" (\" + np.str(round(np.std(corel_summary['test_auc']), 3)) + \")\", \n",
    "            round(np.max(auc) - np.min(auc), 3),\n",
    "            np.str(round(np.mean(arnold_auc), 3)) + \" (\" + np.str(round(np.std(arnold_auc),3)) + \")\"]]\n",
    "with open(path + 'Interpretable Models Summary.csv', 'a') as writeFile:\n",
    "    writer = csv.writer(writeFile)\n",
    "    writer.writerows(results)"
   ]
  },
  {
   "cell_type": "code",
   "execution_count": 37,
   "metadata": {},
   "outputs": [],
   "source": [
    "cart_confusion = cart_summary['confusion_matrix_stats']\n",
    "ebm_confusion = ebm_summary['confusion_matrix_stats']\n",
    "riskslim_confusion = riskslim_summary['confusion_matrix_stats']\n",
    "stumps_confusion = stump_summary['confusion_matrix_stats']\n",
    "corel_confusion = corel_summary['confusion_matrix_stats']\n",
    "#arnold_confusion = cart_summary['confusion_matrix_stats']\n",
    "\n",
    "## save results\n",
    "cart_confusion.to_csv(r'C:/Users/binha/Documents/Duke/Cynthia Research/KY-analysis-mytrials/KY Recidivism/KY Fairness/Six Month/property/cart_confusion.csv', index=None,header=True)\n",
    "ebm_confusion.to_csv(r'C:/Users/binha/Documents/Duke/Cynthia Research/KY-analysis-mytrials/KY Recidivism/KY Fairness/Six Month/property/ebm_confusion.csv', index=None,header=True)\n",
    "riskslim_confusion.to_csv(r'C:/Users/binha/Documents/Duke/Cynthia Research/KY-analysis-mytrials/KY Recidivism/KY Fairness/Six Month/property/riskslim_confusion.csv', index=None,header=True)\n",
    "stumps_confusion.to_csv(r'C:/Users/binha/Documents/Duke/Cynthia Research/KY-analysis-mytrials/KY Recidivism/KY Fairness/Six Month/property/stumps_confusion.csv', index=None,header=True)\n",
    "corel_confusion.to_csv(r'C:/Users/binha/Documents/Duke/Cynthia Research/KY-analysis-mytrials/KY Recidivism/KY Fairness/Six Month/property/corel_confusion.csv', index=None,header=True)\n",
    "#arnold_confusion.to_csv(r'C:/Users/binha/Documents/Duke/Cynthia Research/KY-analysis-mytrials/broward/broward models/model fairness/Two Year/general/arnold_confusion.csv', index=None,header=True)"
   ]
  },
  {
   "cell_type": "code",
   "execution_count": 5,
   "metadata": {},
   "outputs": [],
   "source": [
    "corel_confusion = corel_summary['confusion_matrix_stats']\n",
    "corel_confusion.to_csv(r'C:/Users/binha/Documents/Duke/Cynthia Research/KY-analysis-mytrials/KY Recidivism/KY Fairness/Six Month/property/corel_confusion.csv', index=None,header=True)"
   ]
  }
 ],
 "metadata": {
  "kernelspec": {
   "display_name": "Python 3",
   "language": "python",
   "name": "python3"
  },
  "language_info": {
   "codemirror_mode": {
    "name": "ipython",
    "version": 3
   },
   "file_extension": ".py",
   "mimetype": "text/x-python",
   "name": "python",
   "nbconvert_exporter": "python",
   "pygments_lexer": "ipython3",
   "version": "3.6.5"
  }
 },
 "nbformat": 4,
 "nbformat_minor": 4
}
