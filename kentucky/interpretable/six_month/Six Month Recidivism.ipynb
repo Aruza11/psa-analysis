{
 "cells": [
  {
   "cell_type": "code",
   "execution_count": 1,
   "metadata": {},
   "outputs": [
    {
     "name": "stdout",
     "output_type": "stream",
     "text": [
      "Current working directory is now:  C:\\Users\\binha\\Documents\\Duke\\Cynthia Research\\psa-analysis - test2\n"
     ]
    },
    {
     "name": "stderr",
     "output_type": "stream",
     "text": [
      "C:\\Users\\binha\\Anaconda3\\lib\\site-packages\\sklearn\\externals\\six.py:31: DeprecationWarning:\n",
      "\n",
      "The module is deprecated in version 0.21 and will be removed in version 0.23 since we've dropped support for Python 2.7. Please rely on the official version of six (https://pypi.org/project/six/).\n",
      "\n"
     ]
    }
   ],
   "source": [
    "import os \n",
    "os.chdir('../../../')\n",
    "print(\"Current working directory is now: \", os.getcwd())\n",
    "\n",
    "import pandas as pd \n",
    "import numpy as np\n",
    "import csv\n",
    "import utils.interpretable_functions as interpret\n",
    "import utils.RiskSLIM as slim\n",
    "import utils.stumps as stumps\n",
    "import utils.Corel as Corel\n",
    "\n",
    "from sklearn.linear_model import LogisticRegression\n",
    "from sklearn.model_selection import KFold, GridSearchCV\n",
    "from sklearn.metrics import roc_auc_score\n",
    "\n",
    "# restore saved variables\n",
    "%store -r summary_general6_KY_interpret"
   ]
  },
  {
   "cell_type": "markdown",
   "metadata": {},
   "source": [
    "### CART & EBM"
   ]
  },
  {
   "cell_type": "code",
   "execution_count": 2,
   "metadata": {},
   "outputs": [],
   "source": [
    "### load data\n",
    "data = pd.read_csv(\"~/Documents/Duke/Cynthia Research/KY-analysis-mytrials/KY Recidivism/KY data/kentucky_data.csv\")\n",
    "data = data.drop(['fta_risk_score_raw','nca_risk_score_raw','pvf_risk_score_raw', \n",
    "                  'fta_calc', 'nca_calc', 'pvf_calc'], axis=1)\n",
    "x = data.loc[:,:'current_violence']\n",
    "y = data['recid_six_month'].values"
   ]
  },
  {
   "cell_type": "code",
   "execution_count": 4,
   "metadata": {
    "scrolled": true
   },
   "outputs": [
    {
     "name": "stdout",
     "output_type": "stream",
     "text": [
      "model_id, score_thresholds 0 {'rank_abs': [159]}\n",
      "get_disparity_predefined_group()\n"
     ]
    },
    {
     "name": "stderr",
     "output_type": "stream",
     "text": [
      "C:\\Users\\binha\\Documents\\Duke\\Cynthia Research\\psa-analysis - test2\\utils\\fairness_functions.py:95: RuntimeWarning:\n",
      "\n",
      "divide by zero encountered in longlong_scalars\n",
      "\n",
      "C:\\Users\\binha\\Documents\\Duke\\Cynthia Research\\psa-analysis - test2\\utils\\fairness_functions.py:82: RuntimeWarning:\n",
      "\n",
      "invalid value encountered in longlong_scalars\n",
      "\n",
      "C:\\Users\\binha\\Documents\\Duke\\Cynthia Research\\psa-analysis - test2\\utils\\fairness_functions.py:86: RuntimeWarning:\n",
      "\n",
      "invalid value encountered in longlong_scalars\n",
      "\n"
     ]
    },
    {
     "name": "stdout",
     "output_type": "stream",
     "text": [
      "model_id, score_thresholds 0 {'rank_abs': [255]}\n",
      "get_disparity_predefined_group()\n"
     ]
    },
    {
     "name": "stderr",
     "output_type": "stream",
     "text": [
      "C:\\Users\\binha\\Documents\\Duke\\Cynthia Research\\psa-analysis - test2\\utils\\fairness_functions.py:82: RuntimeWarning:\n",
      "\n",
      "invalid value encountered in longlong_scalars\n",
      "\n",
      "C:\\Users\\binha\\Documents\\Duke\\Cynthia Research\\psa-analysis - test2\\utils\\fairness_functions.py:95: RuntimeWarning:\n",
      "\n",
      "divide by zero encountered in longlong_scalars\n",
      "\n"
     ]
    },
    {
     "name": "stdout",
     "output_type": "stream",
     "text": [
      "model_id, score_thresholds 0 {'rank_abs': [230]}\n",
      "get_disparity_predefined_group()\n"
     ]
    },
    {
     "name": "stderr",
     "output_type": "stream",
     "text": [
      "C:\\Users\\binha\\Documents\\Duke\\Cynthia Research\\psa-analysis - test2\\utils\\fairness_functions.py:82: RuntimeWarning:\n",
      "\n",
      "invalid value encountered in longlong_scalars\n",
      "\n",
      "C:\\Users\\binha\\Documents\\Duke\\Cynthia Research\\psa-analysis - test2\\utils\\fairness_functions.py:95: RuntimeWarning:\n",
      "\n",
      "divide by zero encountered in longlong_scalars\n",
      "\n"
     ]
    },
    {
     "name": "stdout",
     "output_type": "stream",
     "text": [
      "model_id, score_thresholds 0 {'rank_abs': [205]}\n",
      "get_disparity_predefined_group()\n"
     ]
    },
    {
     "name": "stderr",
     "output_type": "stream",
     "text": [
      "C:\\Users\\binha\\Documents\\Duke\\Cynthia Research\\psa-analysis - test2\\utils\\fairness_functions.py:82: RuntimeWarning:\n",
      "\n",
      "invalid value encountered in longlong_scalars\n",
      "\n",
      "C:\\Users\\binha\\Documents\\Duke\\Cynthia Research\\psa-analysis - test2\\utils\\fairness_functions.py:95: RuntimeWarning:\n",
      "\n",
      "divide by zero encountered in longlong_scalars\n",
      "\n"
     ]
    },
    {
     "name": "stdout",
     "output_type": "stream",
     "text": [
      "model_id, score_thresholds 0 {'rank_abs': [191]}\n",
      "get_disparity_predefined_group()\n"
     ]
    },
    {
     "name": "stderr",
     "output_type": "stream",
     "text": [
      "C:\\Users\\binha\\Documents\\Duke\\Cynthia Research\\psa-analysis - test2\\utils\\fairness_functions.py:82: RuntimeWarning:\n",
      "\n",
      "invalid value encountered in longlong_scalars\n",
      "\n",
      "C:\\Users\\binha\\Documents\\Duke\\Cynthia Research\\psa-analysis - test2\\utils\\fairness_functions.py:95: RuntimeWarning:\n",
      "\n",
      "divide by zero encountered in longlong_scalars\n",
      "\n",
      "C:\\Users\\binha\\Documents\\Duke\\Cynthia Research\\psa-analysis - test2\\utils\\fairness_functions.py:86: RuntimeWarning:\n",
      "\n",
      "invalid value encountered in longlong_scalars\n",
      "\n",
      "C:\\Users\\binha\\Documents\\Duke\\Cynthia Research\\psa-analysis - test2\\utils\\fairness_functions.py:95: RuntimeWarning:\n",
      "\n",
      "invalid value encountered in longlong_scalars\n",
      "\n",
      "WARNING:interpret.utils.all:Passing a numpy array to schema autogen when it should be dataframe.\n",
      "WARNING:interpret.utils.all:Passing a numpy array to schema autogen when it should be dataframe.\n",
      "WARNING:interpret.utils.all:Passing a numpy array to schema autogen when it should be dataframe.\n",
      "WARNING:interpret.utils.all:Passing a numpy array to schema autogen when it should be dataframe.\n",
      "WARNING:interpret.utils.all:Passing a numpy array to schema autogen when it should be dataframe.\n",
      "WARNING:interpret.utils.all:Passing a numpy array to schema autogen when it should be dataframe.\n",
      "WARNING:interpret.utils.all:Passing a numpy array to schema autogen when it should be dataframe.\n",
      "WARNING:interpret.utils.all:Passing a numpy array to schema autogen when it should be dataframe.\n",
      "WARNING:interpret.utils.all:Passing a numpy array to schema autogen when it should be dataframe.\n",
      "WARNING:interpret.utils.all:Passing a numpy array to schema autogen when it should be dataframe.\n",
      "WARNING:interpret.utils.all:Passing a numpy array to schema autogen when it should be dataframe.\n",
      "WARNING:interpret.utils.all:Passing a numpy array to schema autogen when it should be dataframe.\n"
     ]
    },
    {
     "name": "stdout",
     "output_type": "stream",
     "text": [
      "model_id, score_thresholds 0 {'rank_abs': [186]}\n",
      "get_disparity_predefined_group()\n"
     ]
    },
    {
     "name": "stderr",
     "output_type": "stream",
     "text": [
      "C:\\Users\\binha\\Documents\\Duke\\Cynthia Research\\psa-analysis - test2\\utils\\fairness_functions.py:82: RuntimeWarning:\n",
      "\n",
      "invalid value encountered in longlong_scalars\n",
      "\n",
      "C:\\Users\\binha\\Documents\\Duke\\Cynthia Research\\psa-analysis - test2\\utils\\fairness_functions.py:95: RuntimeWarning:\n",
      "\n",
      "divide by zero encountered in longlong_scalars\n",
      "\n",
      "C:\\Users\\binha\\Documents\\Duke\\Cynthia Research\\psa-analysis - test2\\utils\\fairness_functions.py:86: RuntimeWarning:\n",
      "\n",
      "invalid value encountered in longlong_scalars\n",
      "\n",
      "C:\\Users\\binha\\Documents\\Duke\\Cynthia Research\\psa-analysis - test2\\utils\\fairness_functions.py:95: RuntimeWarning:\n",
      "\n",
      "invalid value encountered in longlong_scalars\n",
      "\n",
      "WARNING:interpret.utils.all:Passing a numpy array to schema autogen when it should be dataframe.\n",
      "WARNING:interpret.utils.all:Passing a numpy array to schema autogen when it should be dataframe.\n",
      "WARNING:interpret.utils.all:Passing a numpy array to schema autogen when it should be dataframe.\n",
      "WARNING:interpret.utils.all:Passing a numpy array to schema autogen when it should be dataframe.\n",
      "WARNING:interpret.utils.all:Passing a numpy array to schema autogen when it should be dataframe.\n",
      "WARNING:interpret.utils.all:Passing a numpy array to schema autogen when it should be dataframe.\n",
      "WARNING:interpret.utils.all:Passing a numpy array to schema autogen when it should be dataframe.\n",
      "WARNING:interpret.utils.all:Passing a numpy array to schema autogen when it should be dataframe.\n",
      "WARNING:interpret.utils.all:Passing a numpy array to schema autogen when it should be dataframe.\n",
      "WARNING:interpret.utils.all:Passing a numpy array to schema autogen when it should be dataframe.\n",
      "WARNING:interpret.utils.all:Passing a numpy array to schema autogen when it should be dataframe.\n",
      "WARNING:interpret.utils.all:Passing a numpy array to schema autogen when it should be dataframe.\n"
     ]
    },
    {
     "name": "stdout",
     "output_type": "stream",
     "text": [
      "model_id, score_thresholds 0 {'rank_abs': [193]}\n",
      "get_disparity_predefined_group()\n"
     ]
    },
    {
     "name": "stderr",
     "output_type": "stream",
     "text": [
      "C:\\Users\\binha\\Documents\\Duke\\Cynthia Research\\psa-analysis - test2\\utils\\fairness_functions.py:82: RuntimeWarning:\n",
      "\n",
      "invalid value encountered in longlong_scalars\n",
      "\n",
      "C:\\Users\\binha\\Documents\\Duke\\Cynthia Research\\psa-analysis - test2\\utils\\fairness_functions.py:95: RuntimeWarning:\n",
      "\n",
      "divide by zero encountered in longlong_scalars\n",
      "\n",
      "WARNING:interpret.utils.all:Passing a numpy array to schema autogen when it should be dataframe.\n",
      "WARNING:interpret.utils.all:Passing a numpy array to schema autogen when it should be dataframe.\n",
      "WARNING:interpret.utils.all:Passing a numpy array to schema autogen when it should be dataframe.\n",
      "WARNING:interpret.utils.all:Passing a numpy array to schema autogen when it should be dataframe.\n",
      "WARNING:interpret.utils.all:Passing a numpy array to schema autogen when it should be dataframe.\n",
      "WARNING:interpret.utils.all:Passing a numpy array to schema autogen when it should be dataframe.\n",
      "WARNING:interpret.utils.all:Passing a numpy array to schema autogen when it should be dataframe.\n",
      "WARNING:interpret.utils.all:Passing a numpy array to schema autogen when it should be dataframe.\n",
      "WARNING:interpret.utils.all:Passing a numpy array to schema autogen when it should be dataframe.\n",
      "WARNING:interpret.utils.all:Passing a numpy array to schema autogen when it should be dataframe.\n",
      "WARNING:interpret.utils.all:Passing a numpy array to schema autogen when it should be dataframe.\n",
      "WARNING:interpret.utils.all:Passing a numpy array to schema autogen when it should be dataframe.\n"
     ]
    },
    {
     "name": "stdout",
     "output_type": "stream",
     "text": [
      "model_id, score_thresholds 0 {'rank_abs': [189]}\n",
      "get_disparity_predefined_group()\n"
     ]
    },
    {
     "name": "stderr",
     "output_type": "stream",
     "text": [
      "C:\\Users\\binha\\Documents\\Duke\\Cynthia Research\\psa-analysis - test2\\utils\\fairness_functions.py:82: RuntimeWarning:\n",
      "\n",
      "invalid value encountered in longlong_scalars\n",
      "\n",
      "C:\\Users\\binha\\Documents\\Duke\\Cynthia Research\\psa-analysis - test2\\utils\\fairness_functions.py:95: RuntimeWarning:\n",
      "\n",
      "divide by zero encountered in longlong_scalars\n",
      "\n",
      "WARNING:interpret.utils.all:Passing a numpy array to schema autogen when it should be dataframe.\n",
      "WARNING:interpret.utils.all:Passing a numpy array to schema autogen when it should be dataframe.\n",
      "WARNING:interpret.utils.all:Passing a numpy array to schema autogen when it should be dataframe.\n",
      "WARNING:interpret.utils.all:Passing a numpy array to schema autogen when it should be dataframe.\n",
      "WARNING:interpret.utils.all:Passing a numpy array to schema autogen when it should be dataframe.\n",
      "WARNING:interpret.utils.all:Passing a numpy array to schema autogen when it should be dataframe.\n",
      "WARNING:interpret.utils.all:Passing a numpy array to schema autogen when it should be dataframe.\n",
      "WARNING:interpret.utils.all:Passing a numpy array to schema autogen when it should be dataframe.\n",
      "WARNING:interpret.utils.all:Passing a numpy array to schema autogen when it should be dataframe.\n",
      "WARNING:interpret.utils.all:Passing a numpy array to schema autogen when it should be dataframe.\n",
      "WARNING:interpret.utils.all:Passing a numpy array to schema autogen when it should be dataframe.\n",
      "WARNING:interpret.utils.all:Passing a numpy array to schema autogen when it should be dataframe.\n"
     ]
    },
    {
     "name": "stdout",
     "output_type": "stream",
     "text": [
      "model_id, score_thresholds 0 {'rank_abs': [242]}\n",
      "get_disparity_predefined_group()\n"
     ]
    },
    {
     "name": "stderr",
     "output_type": "stream",
     "text": [
      "C:\\Users\\binha\\Documents\\Duke\\Cynthia Research\\psa-analysis - test2\\utils\\fairness_functions.py:82: RuntimeWarning:\n",
      "\n",
      "invalid value encountered in longlong_scalars\n",
      "\n",
      "C:\\Users\\binha\\Documents\\Duke\\Cynthia Research\\psa-analysis - test2\\utils\\fairness_functions.py:95: RuntimeWarning:\n",
      "\n",
      "divide by zero encountered in longlong_scalars\n",
      "\n",
      "WARNING:interpret.utils.all:Passing a numpy array to schema autogen when it should be dataframe.\n",
      "WARNING:interpret.utils.all:Passing a numpy array to schema autogen when it should be dataframe.\n",
      "WARNING:interpret.utils.all:Passing a numpy array to schema autogen when it should be dataframe.\n",
      "WARNING:interpret.utils.all:Passing a numpy array to schema autogen when it should be dataframe.\n",
      "WARNING:interpret.utils.all:Passing a numpy array to schema autogen when it should be dataframe.\n",
      "WARNING:interpret.utils.all:Passing a numpy array to schema autogen when it should be dataframe.\n",
      "WARNING:interpret.utils.all:Passing a numpy array to schema autogen when it should be dataframe.\n",
      "WARNING:interpret.utils.all:Passing a numpy array to schema autogen when it should be dataframe.\n",
      "WARNING:interpret.utils.all:Passing a numpy array to schema autogen when it should be dataframe.\n",
      "WARNING:interpret.utils.all:Passing a numpy array to schema autogen when it should be dataframe.\n",
      "WARNING:interpret.utils.all:Passing a numpy array to schema autogen when it should be dataframe.\n",
      "WARNING:interpret.utils.all:Passing a numpy array to schema autogen when it should be dataframe.\n"
     ]
    },
    {
     "name": "stdout",
     "output_type": "stream",
     "text": [
      "model_id, score_thresholds 0 {'rank_abs': [199]}\n",
      "get_disparity_predefined_group()\n"
     ]
    },
    {
     "name": "stderr",
     "output_type": "stream",
     "text": [
      "C:\\Users\\binha\\Documents\\Duke\\Cynthia Research\\psa-analysis - test2\\utils\\fairness_functions.py:82: RuntimeWarning:\n",
      "\n",
      "invalid value encountered in longlong_scalars\n",
      "\n",
      "C:\\Users\\binha\\Documents\\Duke\\Cynthia Research\\psa-analysis - test2\\utils\\fairness_functions.py:95: RuntimeWarning:\n",
      "\n",
      "divide by zero encountered in longlong_scalars\n",
      "\n",
      "C:\\Users\\binha\\Documents\\Duke\\Cynthia Research\\psa-analysis - test2\\utils\\fairness_functions.py:86: RuntimeWarning:\n",
      "\n",
      "invalid value encountered in longlong_scalars\n",
      "\n",
      "C:\\Users\\binha\\Documents\\Duke\\Cynthia Research\\psa-analysis - test2\\utils\\fairness_functions.py:95: RuntimeWarning:\n",
      "\n",
      "invalid value encountered in longlong_scalars\n",
      "\n"
     ]
    }
   ],
   "source": [
    "#### CART\n",
    "depth = [7,8,9]\n",
    "cart_summary = interpret.CART(X=x,\n",
    "                         Y=y,\n",
    "                         depth=depth,\n",
    "                         seed=816)\n",
    "\n",
    "#### EBM\n",
    "estimators = [40]\n",
    "depth = [2]\n",
    "learning_rate = [0.5]\n",
    "ebm_summary = interpret.EBM(X=x,\n",
    "                       Y=y,\n",
    "                       learning_rate=learning_rate,\n",
    "                       depth=depth,\n",
    "                       estimators=estimators,\n",
    "                       seed =816)"
   ]
  },
  {
   "cell_type": "code",
   "execution_count": 29,
   "metadata": {},
   "outputs": [
    {
     "data": {
      "text/plain": [
       "(0.7361983626169992, 0.018895656076300595)"
      ]
     },
     "execution_count": 29,
     "metadata": {},
     "output_type": "execute_result"
    }
   ],
   "source": [
    "np.mean(cart_summary['holdout_test_auc']), np.mean(cart_summary['auc_diffs'])"
   ]
  },
  {
   "cell_type": "code",
   "execution_count": 30,
   "metadata": {},
   "outputs": [
    {
     "data": {
      "text/plain": [
       "(0.7422177886790131, 0.006296362009254319)"
      ]
     },
     "execution_count": 30,
     "metadata": {},
     "output_type": "execute_result"
    }
   ],
   "source": [
    "np.mean(ebm_summary['holdout_test_auc']), np.mean(ebm_summary['auc_diffs'])"
   ]
  },
  {
   "cell_type": "markdown",
   "metadata": {},
   "source": [
    "## Lasso Stumps"
   ]
  },
  {
   "cell_type": "code",
   "execution_count": 12,
   "metadata": {},
   "outputs": [],
   "source": [
    "## load whole data\n",
    "data = pd.read_csv(\"~/Documents/Duke/Cynthia Research/KY-analysis-mytrials/KY Recidivism/KY data/kentucky_stumps.csv\")\n",
    "X_stumps, Y_stumps = data.loc[:,:'current_violence>=1'], data['recid_six_month'].values\n",
    "Y_stumps[Y_stumps == -1] = 0\n",
    "cols = X_stumps.columns[3:]\n",
    "\n",
    "## load train & test data\n",
    "train_stumps = pd.read_csv(\"~/Documents/Duke/Cynthia Research/KY-analysis-mytrials/KY Recidivism/KY data/kentucky_train_stumps.csv\")\n",
    "test_stumps = pd.read_csv(\"~/Documents/Duke/Cynthia Research/KY-analysis-mytrials/KY Recidivism/KY data/kentucky_test_stumps.csv\")\n",
    "X_train_stumps, Y_train_stumps = train_stumps.loc[:,:'current_violence>=1'], train_stumps['recid_six_month'].values\n",
    "X_test_stumps, Y_test_stumps = test_stumps.loc[:,:'current_violence>=1'], test_stumps['recid_six_month'].values\n",
    "Y_train_stumps[Y_train_stumps == -1] = 0\n",
    "Y_test_stumps[Y_test_stumps == -1] = 0"
   ]
  },
  {
   "cell_type": "markdown",
   "metadata": {},
   "source": [
    "#### Nested Cross Validation"
   ]
  },
  {
   "cell_type": "code",
   "execution_count": 16,
   "metadata": {
    "scrolled": true
   },
   "outputs": [
    {
     "name": "stdout",
     "output_type": "stream",
     "text": [
      "model_id, score_thresholds 0 {'rank_abs': [7979]}\n",
      "get_disparity_predefined_group()\n"
     ]
    },
    {
     "name": "stderr",
     "output_type": "stream",
     "text": [
      "C:\\Users\\binha\\Documents\\Duke\\Cynthia Research\\psa-analysis - test2\\utils\\fairness_functions.py:86: RuntimeWarning:\n",
      "\n",
      "invalid value encountered in longlong_scalars\n",
      "\n"
     ]
    },
    {
     "name": "stdout",
     "output_type": "stream",
     "text": [
      "model_id, score_thresholds 0 {'rank_abs': [8241]}\n",
      "get_disparity_predefined_group()\n"
     ]
    },
    {
     "name": "stderr",
     "output_type": "stream",
     "text": [
      "C:\\Users\\binha\\Documents\\Duke\\Cynthia Research\\psa-analysis - test2\\utils\\fairness_functions.py:86: RuntimeWarning:\n",
      "\n",
      "invalid value encountered in longlong_scalars\n",
      "\n"
     ]
    },
    {
     "name": "stdout",
     "output_type": "stream",
     "text": [
      "model_id, score_thresholds 0 {'rank_abs': [8384]}\n",
      "get_disparity_predefined_group()\n",
      "model_id, score_thresholds 0 {'rank_abs': [8177]}\n",
      "get_disparity_predefined_group()\n",
      "model_id, score_thresholds 0 {'rank_abs': [8441]}\n",
      "get_disparity_predefined_group()\n"
     ]
    },
    {
     "name": "stderr",
     "output_type": "stream",
     "text": [
      "C:\\Users\\binha\\Documents\\Duke\\Cynthia Research\\psa-analysis - test2\\utils\\fairness_functions.py:86: RuntimeWarning:\n",
      "\n",
      "invalid value encountered in longlong_scalars\n",
      "\n"
     ]
    }
   ],
   "source": [
    "stump_summary = stumps.stump_cv(X = X_stumps, \n",
    "                                Y = Y_stumps, \n",
    "                                columns=cols, \n",
    "                                c_grid={'C': [0.001, 0.002, 0.003]}, \n",
    "                                seed = 816)"
   ]
  },
  {
   "cell_type": "code",
   "execution_count": 17,
   "metadata": {},
   "outputs": [
    {
     "data": {
      "text/plain": [
       "([{'C': 0.003}, {'C': 0.003}, {'C': 0.003}, {'C': 0.003}, {'C': 0.003}],\n",
       " 0.7370555527956155,\n",
       " 0.0008895028464927845)"
      ]
     },
     "execution_count": 17,
     "metadata": {},
     "output_type": "execute_result"
    }
   ],
   "source": [
    "stump_summary['best_params'], np.mean(stump_summary['holdout_test_auc']), np.mean(stump_summary['auc_diffs'])"
   ]
  },
  {
   "cell_type": "markdown",
   "metadata": {},
   "source": [
    "##### Best Stump Model"
   ]
  },
  {
   "cell_type": "code",
   "execution_count": 18,
   "metadata": {},
   "outputs": [
    {
     "data": {
      "text/plain": [
       "23"
      ]
     },
     "execution_count": 18,
     "metadata": {},
     "output_type": "execute_result"
    }
   ],
   "source": [
    "best_stump_model = stumps.stump_model(X_train_stumps, \n",
    "                                      Y_train_stumps, \n",
    "                                      X_test_stumps, \n",
    "                                      Y_test_stumps, \n",
    "                                      c=0.003, \n",
    "                                      columns=cols, \n",
    "                                      seed=816)\n",
    "len(best_stump_model['features'])"
   ]
  },
  {
   "cell_type": "markdown",
   "metadata": {},
   "source": [
    "##### Prediction Table"
   ]
  },
  {
   "cell_type": "code",
   "execution_count": 19,
   "metadata": {
    "scrolled": true
   },
   "outputs": [
    {
     "name": "stdout",
     "output_type": "stream",
     "text": [
      "\begin{tabular}{|l|r|r|} \\hline\n",
      "1. p_arrest>=1 & 45.2 & -... \\ \\hline\n",
      "2. p_arrest>=2 & 49.6 & +... \\ \\hline\n",
      "3. p_arrest>=3 & 37.3 & +... \\ \\hline\n",
      "4. p_arrest>=4 & 19.0 & +... \\ \\hline\n",
      "5. p_arrest>=5 & 15.4 & +... \\ \\hline\n",
      "6. p_arrest>=6 & 8.8 & +... \\ \\hline\n",
      "7. p_charges>=1 & 25.7 & -... \\ \\hline\n",
      "8. p_charges>=2 & 7.5 & +... \\ \\hline\n",
      "9. p_charges>=3 & 2.9 & +... \\ \\hline\n",
      "10. p_charges>=4 & 5.2 & +... \\ \\hline\n",
      "11. p_charges>=5 & 2.7 & +... \\ \\hline\n",
      "12. p_violence>=1 & 18.6 & +... \\ \\hline\n",
      "13. p_felony>=1 & 38.9 & +... \\ \\hline\n",
      "14. p_felony>=2 & 8.4 & +... \\ \\hline\n",
      "15. p_misdemeanor>=2 & 8.9 & +... \\ \\hline\n",
      "16. p_misdemeanor>=3 & 1.3 & +... \\ \\hline\n",
      "17. p_drug>=1 & 6.8 & +... \\ \\hline\n",
      "18. p_stealing>=1 & 4.0 & -... \\ \\hline\n",
      "19. ADE>=1 & 16.9 & -... \\ \\hline\n",
      "20. p_prison>=1 & 28.7 & -... \\ \\hline\n",
      "21. p_jail30>=1 & 12.1 & +... \\ \\hline\n",
      "22. p_pending_charge>=1 & 47.1 & +... \\ \\hline\n",
      "23. p_probation>=1 & 10.0 & +... \\ \\hline\n",
      "24. Intercept & -0.305 & +... \\ \\hline\n",
      "\textbf{ADD POINTS FROM ROWS 1 TO 24}  &  \textbf{SCORE} & = ..... \\ \\hline\n",
      "\\multicolumn{3}{l}{Pr(Y = 1) = exp(score/100) / (1 + exp(score/100))} \\ \\hline\n"
     ]
    }
   ],
   "source": [
    "stumps.latex_stump_table(best_stump_model['coefs'], \n",
    "                   best_stump_model['features'], \n",
    "                   best_stump_model['intercept'], \n",
    "                   best_stump_model['dictionary'])"
   ]
  },
  {
   "cell_type": "markdown",
   "metadata": {},
   "source": [
    "##### Stumps Visualizations"
   ]
  },
  {
   "cell_type": "code",
   "execution_count": 20,
   "metadata": {
    "scrolled": true
   },
   "outputs": [
    {
     "data": {
      "image/png": "[encoded data removed]",
      "text/plain": [
       "<Figure size 288x216 with 1 Axes>"
      ]
     },
     "metadata": {
      "needs_background": "light"
     },
     "output_type": "display_data"
    },
    {
     "data": {
      "image/png": "[encoded data removed]",
      "text/plain": [
       "<Figure size 288x216 with 1 Axes>"
      ]
     },
     "metadata": {
      "needs_background": "light"
     },
     "output_type": "display_data"
    },
    {
     "data": {
      "image/png": "[encoded data removed]",
      "text/plain": [
       "<Figure size 288x216 with 1 Axes>"
      ]
     },
     "metadata": {
      "needs_background": "light"
     },
     "output_type": "display_data"
    },
    {
     "data": {
      "image/png": "[encoded data removed]",
      "text/plain": [
       "<Figure size 288x216 with 1 Axes>"
      ]
     },
     "metadata": {
      "needs_background": "light"
     },
     "output_type": "display_data"
    },
    {
     "data": {
      "image/png": "[encoded data removed]",
      "text/plain": [
       "<Figure size 288x216 with 1 Axes>"
      ]
     },
     "metadata": {
      "needs_background": "light"
     },
     "output_type": "display_data"
    },
    {
     "data": {
      "image/png": "[encoded data removed]",
      "text/plain": [
       "<Figure size 288x216 with 1 Axes>"
      ]
     },
     "metadata": {
      "needs_background": "light"
     },
     "output_type": "display_data"
    },
    {
     "data": {
      "image/png": "[encoded data removed]",
      "text/plain": [
       "<Figure size 288x216 with 1 Axes>"
      ]
     },
     "metadata": {
      "needs_background": "light"
     },
     "output_type": "display_data"
    },
    {
     "data": {
      "image/png": "[encoded data removed]",
      "text/plain": [
       "<Figure size 288x216 with 1 Axes>"
      ]
     },
     "metadata": {
      "needs_background": "light"
     },
     "output_type": "display_data"
    },
    {
     "data": {
      "image/png": "[encoded data removed]",
      "text/plain": [
       "<Figure size 288x216 with 1 Axes>"
      ]
     },
     "metadata": {
      "needs_background": "light"
     },
     "output_type": "display_data"
    },
    {
     "data": {
      "image/png": "[encoded data removed]",
      "text/plain": [
       "<Figure size 288x216 with 1 Axes>"
      ]
     },
     "metadata": {
      "needs_background": "light"
     },
     "output_type": "display_data"
    },
    {
     "data": {
      "image/png": "[encoded data removed]",
      "text/plain": [
       "<Figure size 288x216 with 1 Axes>"
      ]
     },
     "metadata": {
      "needs_background": "light"
     },
     "output_type": "display_data"
    },
    {
     "data": {
      "image/png": "[encoded data removed]",
      "text/plain": [
       "<Figure size 288x216 with 1 Axes>"
      ]
     },
     "metadata": {
      "needs_background": "light"
     },
     "output_type": "display_data"
    }
   ],
   "source": [
    "stumps.stump_plots(best_stump_model['features'], best_stump_model['coefs'], indicator='KY')"
   ]
  },
  {
   "cell_type": "markdown",
   "metadata": {},
   "source": [
    "## RiskSLIM"
   ]
  },
  {
   "cell_type": "code",
   "execution_count": 21,
   "metadata": {},
   "outputs": [],
   "source": [
    "## load stumps data\n",
    "data = pd.read_csv(\"~/Documents/Duke/Cynthia Research/KY-analysis-mytrials/KY Recidivism/KY data/kentucky_stumps.csv\")\n",
    "x, y = data.loc[:,:'current_violence>=1'], data['recid_six_month'].values\n",
    "cols = x.columns[3:]"
   ]
  },
  {
   "cell_type": "code",
   "execution_count": 22,
   "metadata": {},
   "outputs": [
    {
     "data": {
      "text/plain": [
       "42"
      ]
     },
     "execution_count": 22,
     "metadata": {},
     "output_type": "execute_result"
    }
   ],
   "source": [
    "## train on best param chosen by Lasso Stumps from above\n",
    "x_train = x.copy().drop(['race', 'person_id', 'screening_date'], axis=1)\n",
    "lasso = LogisticRegression(class_weight='balanced', solver='liblinear', penalty='l1', C=0.01, random_state=816).fit(x_train,y)\n",
    "selected_features = cols[lasso.coef_[0] != 0].tolist()\n",
    "len(selected_features)"
   ]
  },
  {
   "cell_type": "code",
   "execution_count": 23,
   "metadata": {},
   "outputs": [],
   "source": [
    "### Subset features\n",
    "if 'sex>=1' in selected_features:\n",
    "    selected_features = ['recid_six_month', 'person_id', 'screening_date', 'race'] + selected_features\n",
    "    indicator = 1\n",
    "else:\n",
    "    selected_features = ['recid_six_month', 'person_id', 'screening_date', 'race', 'sex>=1'] + selected_features\n",
    "    indicator = 0\n",
    "\n",
    "sub_data = data[selected_features]\n",
    "sub_X, sub_Y = sub_data.iloc[:,1:], sub_data.iloc[:,0].values\n",
    "sub_X.insert(0, '(Intercept)', 1)"
   ]
  },
  {
   "cell_type": "code",
   "execution_count": 24,
   "metadata": {
    "scrolled": true
   },
   "outputs": [
    {
     "name": "stdout",
     "output_type": "stream",
     "text": [
      "setting c0 = 0.0 to ensure that intercept is not penalized\n",
      "10/01/19 @ 02:41 PM | 1781 rows in lookup table\n",
      "10/01/19 @ 02:41 PM | ------------------------------------------------------------\n",
      "10/01/19 @ 02:41 PM | runnning initialization procedure\n",
      "10/01/19 @ 02:41 PM | ------------------------------------------------------------\n",
      "10/01/19 @ 02:41 PM | CPA produced 2 cuts\n",
      "10/01/19 @ 02:41 PM | running naive rounding on 48 solutions\n",
      "10/01/19 @ 02:41 PM | best objective value: 0.3180\n",
      "10/01/19 @ 02:41 PM | rounding produced 5 integer solutions\n",
      "10/01/19 @ 02:41 PM | best objective value is 0.3257\n",
      "10/01/19 @ 02:41 PM | running sequential rounding on 48 solutions\n",
      "10/01/19 @ 02:41 PM | best objective value: 0.3180\n",
      "10/01/19 @ 02:41 PM | sequential rounding produced 6 integer solutions\n",
      "10/01/19 @ 02:41 PM | best objective value: 0.3233\n",
      "10/01/19 @ 02:41 PM | polishing 11 solutions\n",
      "10/01/19 @ 02:41 PM | best objective value: 0.3233\n",
      "10/01/19 @ 02:41 PM | polishing produced 5 integer solutions\n",
      "10/01/19 @ 02:41 PM | initialization produced 12 feasible solutions\n",
      "10/01/19 @ 02:41 PM | best objective value: 0.3230\n",
      "10/01/19 @ 02:41 PM | ------------------------------------------------------------\n",
      "10/01/19 @ 02:41 PM | completed initialization procedure\n",
      "10/01/19 @ 02:41 PM | ------------------------------------------------------------\n",
      "10/01/19 @ 02:41 PM | 1781 rows in lookup table\n",
      "CPXPARAM_Read_DataCheck                          1\n",
      "CPXPARAM_Threads                                 1\n",
      "CPXPARAM_Parallel                                1\n",
      "CPXPARAM_RandomSeed                              0\n",
      "CPXPARAM_TimeLimit                               200\n",
      "CPXPARAM_MIP_Tolerances_LowerCutoff              0.31227227283307529\n",
      "CPXPARAM_MIP_Tolerances_UpperCutoff              0.32298313923529026\n"
     ]
    },
    {
     "name": "stderr",
     "output_type": "stream",
     "text": [
      "Warning: Control callbacks may disable some MIP features.\n"
     ]
    },
    {
     "name": "stdout",
     "output_type": "stream",
     "text": [
      "Lazy constraint(s) or lazy constraint callback is present.\n",
      "    Disabling dual reductions (CPX_PARAM_REDUCE) in presolve.\n",
      "    Disabling non-linear reductions (CPX_PARAM_PRELINEAR) in presolve.\n",
      "         Disabling repeat represolve because of lazy constraint/incumbent callback.\n",
      "10/01/19 @ 02:41 PM | adding 255 initial cuts\n",
      "1 of 1 MIP starts provided solutions.\n",
      "MIP start 'mip_start_0' defined initial solution with objective 0.3230.\n",
      "Tried aggregator 1 time.\n",
      "Reduced MIP has 44 rows, 88 columns, and 171 nonzeros.\n",
      "Reduced MIP has 42 binaries, 44 generals, 0 SOSs, and 0 indicators.\n",
      "Presolve time = 0.00 sec. (0.11 ticks)\n",
      "Probing time = 0.00 sec. (0.03 ticks)\n",
      "MIP emphasis: balance optimality and feasibility.\n",
      "MIP search method: traditional branch-and-cut.\n",
      "Parallel mode: none, using 1 thread.\n",
      "Root relaxation solution time = 0.00 sec. (0.06 ticks)\n",
      "\n",
      "        Nodes                                         Cuts/\n",
      "   Node  Left     Objective  IInf  Best Integer    Best Bound    ItCnt     Gap         Variable B NodeID Parent  Depth\n",
      "\n",
      "*     0+    0                            0.3230        0.3123             3.32%\n",
      "      0     0        0.3123     1        0.3230        0.3123        1    3.32%\n",
      "      0     0        0.3123     4        0.3230       Cuts: 2        2    3.32%\n",
      "      0     0        0.3123     2        0.3230      Fract: 1        5    3.32%\n",
      "      0     2        0.3123     6        0.3230        0.3123        5    3.32%                        0             0\n",
      "Elapsed time = 1.11 sec. (3.89 ticks, tree = 0.01 MB, solutions = 1)\n",
      "   1770  1067        0.3157     6        0.3230        0.3123     7052    3.32%           rho_8 U   1770   1749     17\n",
      "   2786  1623        cutoff              0.3230        0.3123    12057    3.32%          rho_21 U   2786   2785     46\n",
      "   3590  1986        0.3211     7        0.3230        0.3123    16042    3.32%          rho_18 D   3590   3589     67\n",
      "   4330  2389        0.3132     6        0.3230        0.3123    20324    3.32%           rho_0 U   4330   4329     79\n",
      "   5080  2993        0.3123     5        0.3230        0.3123    23016    3.32%           rho_7 U   5080   5079     10\n",
      "   5680  3306        cutoff              0.3230        0.3123    26173    3.32%           rho_4 U   5680   5679     29\n",
      "   6191  3577        0.3171     7        0.3230        0.3123    28947    3.32%           rho_0 U   6191   6190     27\n",
      "   6680  3814        0.3207     7        0.3230        0.3123    31750    3.32%          rho_24 D   6680   6679     22\n",
      "   7110  4013        0.3155    14        0.3230        0.3123    34606    3.32%          rho_14 D   7110   7109     36\n",
      "*  7187  3910      integral     0        0.3225        0.3123    35201    3.16%        alpha_14 D   7187   7184     31\n",
      "Elapsed time = 8.61 sec. (2199.89 ticks, tree = 1.21 MB, solutions = 2)\n",
      "   8981  5048        cutoff              0.3225        0.3123    46816    3.16%          rho_14 U   8981   8980     37\n",
      "*  9612  5219      integral     0        0.3215        0.3123    50502    2.88%           rho_8 U   9612   9611     40\n",
      "  11107  6145        0.3147    19        0.3215        0.3123    59893    2.88%          rho_36 U  11107   2127     25\n",
      "  12588  6921        0.3188    10        0.3215        0.3123    69667    2.88%           rho_0 D  12588  12586     70\n",
      "  14118  7536        0.3195     7        0.3215        0.3123    80049    2.88%          rho_16 U  14118  14117     60\n",
      "  15889  8373        cutoff              0.3215        0.3123    92644    2.88%           rho_3 U  15889  15887     49\n",
      "  17609  9229        0.3123     8        0.3215        0.3123   103723    2.88%           rho_0 D  17609  17607     61\n",
      "  19071  9901        cutoff              0.3215        0.3123   113582    2.88%          rho_17 D  19071  19070     36\n",
      "  20446 10584        0.3123    19        0.3215        0.3123   122559    2.88%          rho_26 D  20446  20445     23\n",
      "  21590 11245        0.3140    14        0.3215        0.3123   131740    2.88%           rho_7 U  21590    935     26\n",
      "Elapsed time = 20.42 sec. (11154.77 ticks, tree = 3.97 MB, solutions = 3)\n",
      "* 22000+11450                            0.3215        0.3123             2.88%\n",
      "  22816 11630        0.3148     9        0.3215        0.3123   138449    2.88%           rho_6 D  22816  22815     60\n",
      "  24120 11991        cutoff              0.3215        0.3123   146404    2.88%          rho_13 D  24120   1859     16\n",
      "  25316 12549        0.3186     1        0.3215        0.3123   155992    2.88%           rho_5 U  25316  25103     32\n",
      "  26570 13225        cutoff              0.3215        0.3123   164031    2.88%          rho_31 U  26570  26569     37\n",
      "  27756 13801        0.3207     6        0.3215        0.3123   173661    2.88%          rho_27 D  27756  27754     26\n",
      "  28996 14480        cutoff              0.3215        0.3123   182623    2.88%        alpha_30 D  28996  28995     71\n",
      "  30158 14977        0.3123    15        0.3215        0.3123   191883    2.88%           rho_2 U  30158  30157     42\n",
      "  31359 15297        cutoff              0.3215        0.3123   199597    2.88%           rho_8 U  31359  31358     40\n",
      "  32521 15872        0.3123    18        0.3215        0.3123   209031    2.88%          rho_30 D  32521  32520     33\n",
      "  33623 16383        0.3134    15        0.3215        0.3123   217452    2.88%          rho_14 D  33623  33622     26\n",
      "Elapsed time = 31.09 sec. (20698.67 ticks, tree = 5.72 MB, solutions = 4)\n",
      "  34756 16772        cutoff              0.3215        0.3123   225287    2.88%          rho_38 U  34756  34755     55\n",
      "  35731 17155        0.3177    14        0.3215        0.3123   233738    2.88%           rho_0 U  35731  35730     88\n",
      "  36900 17677        0.3128    13        0.3215        0.3123   241211    2.88%           rho_6 D  36900  36899     28\n",
      "  37976 18215        0.3146    16        0.3215        0.3123   249346    2.88%           rho_8 D  37976  37974     30\n",
      "  39009 18759        0.3150     9        0.3215        0.3123   258008    2.88%          rho_16 U  39009  39007     24\n",
      "  40029 19225        0.3151    22        0.3215        0.3123   265531    2.88%          rho_26 U  40029   4465     22\n",
      "  41097 19741        0.3150    16        0.3215        0.3123   273395    2.88%          rho_16 D  41097  41095     24\n",
      "  42076 20217        0.3123     4        0.3215        0.3123   281520    2.88%           rho_0 D  42076  42074     65\n",
      "  43082 20680        0.3123     9        0.3215        0.3123   289644    2.88%           rho_0 D  43082  43049     12\n",
      "  44022 21087        0.3161    10        0.3215        0.3123   297155    2.88%           rho_2 D  44022  44021     36\n",
      "Elapsed time = 42.89 sec. (30248.17 ticks, tree = 8.03 MB, solutions = 4)\n",
      "  44958 21457        0.3197    14        0.3215        0.3123   305230    2.88%          rho_30 U  44958  44956     20\n",
      "  45901 21850        0.3123    13        0.3215        0.3123   312044    2.88%          rho_30 D  45901  16586     25\n",
      "  46766 22408        0.3123    14        0.3215        0.3123   320527    2.88%          rho_15 D  46766  46765     18\n",
      "  47628 22836        0.3165     7        0.3215        0.3123   328268    2.88%          rho_18 D  47628  47626     48\n",
      "  48570 23210        0.3140    15        0.3215        0.3123   335705    2.88%           rho_5 D  48570  48569     35\n",
      "  49428 23582        cutoff              0.3215        0.3123   343274    2.88%           rho_3 U  49428  49427     25\n",
      "  50275 23997        0.3123     8        0.3215        0.3123   350938    2.88%          rho_15 U  50275  50273     58\n",
      "  51189 24440        0.3210    16        0.3215        0.3123   357475    2.88%           rho_0 D  51189  51188     68\n",
      "  52013 24804        cutoff              0.3215        0.3123   364986    2.88%          rho_27 U  52013  52012     45\n",
      "  52855 25227        0.3123    14        0.3215        0.3123   372591    2.88%          rho_16 D  52855  52854     42\n",
      "Elapsed time = 52.97 sec. (39788.20 ticks, tree = 9.54 MB, solutions = 4)\n",
      "  53714 25554        cutoff              0.3215        0.3123   380015    2.88%           rho_5 U  53714  53713     48\n",
      "  54587 25963        0.3128    12        0.3215        0.3123   386284    2.88%          rho_21 D  54587  54585     15\n",
      "  55335 26212        0.3210    11        0.3215        0.3123   393866    2.88%          rho_30 U  55335  55334     82\n",
      "  56196 26574        0.3145    15        0.3215        0.3123   401231    2.88%          rho_36 D  56196  56195     68\n",
      "  56878 26889        0.3123     8        0.3215        0.3123   409160    2.88%           rho_6 D  56878  56877     31\n",
      "  57751 27202        0.3205     9        0.3215        0.3123   416575    2.88%           rho_8 U  57751  57749     65\n",
      "  58552 27424        cutoff              0.3215        0.3123   423449    2.88%           rho_0 U  58552  58550     57\n",
      "  59327 27775        0.3123     5        0.3215        0.3123   430848    2.88%           rho_0 D  59327  59325     72\n",
      "  60066 28055        0.3185     9        0.3215        0.3123   438924    2.88%           rho_1 D  60066  60065     27\n",
      "  60811 28348        0.3146    15        0.3215        0.3123   446658    2.88%           rho_6 U  60811  60622     66\n",
      "Elapsed time = 63.94 sec. (49330.75 ticks, tree = 10.71 MB, solutions = 4)\n",
      "  61541 28612        0.3123    10        0.3215        0.3123   454205    2.88%          rho_15 D  61541  61540     25\n",
      "  62290 28898        0.3123    10        0.3215        0.3123   461895    2.88%          rho_15 D  62290  62289     40\n",
      "  62995 29145        0.3154    18        0.3215        0.3123   469688    2.88%           rho_0 D  62995  62993     56\n",
      "  63754 29462        0.3201    16        0.3215        0.3123   477124    2.88%          rho_16 D  63754  63752     42\n",
      "  64533 29816        0.3140    13        0.3215        0.3123   485119    2.88%           rho_2 D  64533  64531     25\n",
      "  65422 30285        cutoff              0.3215        0.3123   493161    2.88%          rho_11 U  65422  65421     75\n",
      "  66277 30706        0.3132    20        0.3215        0.3123   500852    2.88%          rho_20 U  66277  24787      7\n",
      "  67125 30936        cutoff              0.3215        0.3123   507079    2.88%           rho_0 U  67125  67124     38\n",
      "  68059 31174        0.3200    12        0.3215        0.3123   513685    2.88%          rho_25 D  68059  68057     47\n",
      "  68965 31393        cutoff              0.3215        0.3123   520179    2.88%          rho_27 U  68965  68964     68\n",
      "Elapsed time = 73.50 sec. (58874.88 ticks, tree = 11.84 MB, solutions = 4)\n",
      "  69881 31572        cutoff              0.3215        0.3123   526775    2.88%           rho_0 D  69881  69879     41\n",
      "  70804 31827        cutoff              0.3215        0.3123   533295    2.88%          rho_26 U  70804  70803     75\n",
      "  71738 32013        0.3123    15        0.3215        0.3123   539494    2.88%           rho_5 D  71738  71737     37\n",
      "  72608 32419        0.3123     4        0.3215        0.3123   547274    2.88%          rho_15 U  72608  72607     22\n",
      "  73510 32881        0.3129    13        0.3215        0.3123   554283    2.88%          rho_12 U  73510  73507     41\n",
      "  74375 33283        0.3181     4        0.3215        0.3123   561276    2.88%          rho_12 U  74375  74374     53\n",
      "  75212 33657        0.3123    17        0.3215        0.3123   568920    2.88%           rho_2 U  75212  75211     29\n",
      "  76019 34009        0.3173     9        0.3215        0.3123   576211    2.88%          rho_23 U  76019  76018     20\n",
      "  76910 34470        0.3123     6        0.3215        0.3123   583204    2.88%           rho_0 D  76910  76908     70\n",
      "  77770 34903        0.3131    17        0.3215        0.3123   590456    2.88%          rho_30 D  77770  77769     72\n",
      "Elapsed time = 84.19 sec. (68421.89 ticks, tree = 14.48 MB, solutions = 4)\n",
      "  78634 35339        0.3123    11        0.3215        0.3123   597411    2.88%           rho_6 D  78634  78633     75\n",
      "  79474 35779        0.3135    20        0.3215        0.3123   604412    2.88%          rho_22 D  79474  79473     26\n",
      "  80310 36161        0.3123    26        0.3215        0.3123   610874    2.88%           rho_0 D  80310  43082     13\n",
      "  81140 36411        0.3134    13        0.3215        0.3123   616623    2.88%          rho_30 D  81140  81139     26\n",
      "  82026 36578        0.3130    14        0.3215        0.3123   621891    2.88%           rho_2 D  82026  82025     67\n",
      "  82960 36850        0.3202     5        0.3215        0.3123   626804    2.88%          rho_27 D  82960  82958     62\n",
      "  83830 37026        0.3127    15        0.3215        0.3123   632307    2.88%           rho_6 D  83830  41737     64\n",
      "  84669 37327        0.3175    11        0.3215        0.3123   638337    2.88%          rho_25 D  84669  84668     58\n",
      "  85492 37702        cutoff              0.3215        0.3123   645325    2.88%          rho_36 U  85492  85490     41\n",
      "  86339 38123        0.3176    11        0.3215        0.3123   651696    2.88%          rho_25 U  86339  86338     44\n",
      "Elapsed time = 92.84 sec. (77972.03 ticks, tree = 15.69 MB, solutions = 4)\n",
      "  87136 38434        0.3123     4        0.3215        0.3123   658760    2.88%          rho_15 U  87136  87134     83\n",
      "  87945 38698        0.3139    17        0.3215        0.3123   665231    2.88%          rho_16 D  87945  87943     65\n",
      "  88734 38968        0.3139    15        0.3215        0.3123   671814    2.88%          rho_16 D  88734  88732     35\n",
      "  89536 39226        0.3155    15        0.3215        0.3123   678229    2.88%           rho_6 D  89536  89535     34\n",
      "  90341 39476        0.3123     9        0.3215        0.3123   684514    2.88%          rho_15 D  90341  90340     61\n",
      "  91112 39722        cutoff              0.3215        0.3123   690888    2.88%          rho_22 U  91112  91111     62\n",
      "  91865 39955        0.3157    18        0.3215        0.3123   697131    2.88%           rho_2 D  91865  91864     89\n",
      "  92608 40179        0.3198    14        0.3215        0.3123   703458    2.88%          rho_22 D  92608  92606     58\n",
      "  93356 40384        0.3182    12        0.3215        0.3123   709490    2.88%           rho_2 U  93356  93354     75\n",
      "  96290 41177        0.3154    19        0.3215        0.3123   734110    2.88%           rho_0 D  96290  96288     87\n",
      "Elapsed time = 104.33 sec. (90375.30 ticks, tree = 16.84 MB, solutions = 4)\n",
      "  99272 42027        0.3124    12        0.3215        0.3123   759049    2.88%           rho_6 D  99272  88650     44\n",
      " 102276 42894        0.3201    13        0.3215        0.3123   784025    2.88%          rho_30 U 102276 102275     50\n",
      " 105296 43829        0.3169    14        0.3215        0.3123   810538    2.88%          rho_40 D 105296 105295     29\n",
      " 108125 44997        0.3187    17        0.3215        0.3123   840050    2.88%           rho_9 D 108125 108123     44\n",
      " 111091 46366        0.3185    13        0.3215        0.3123   867360    2.88%          rho_37 D 111091 111090     65\n",
      " 114257 48020        0.3123    19        0.3215        0.3123   894392    2.88%          rho_10 D 114257 114256     55\n",
      " 117520 49664        0.3123     5        0.3215        0.3123   920700    2.88%          rho_15 U 117520 117477     47\n",
      " 120704 51240        0.3174     5        0.3215        0.3123   946628    2.88%          rho_42 D 120704 120702     75\n",
      " 124105 52925        0.3147    22        0.3215        0.3123   974450    2.88%          rho_24 D 124105 124104     33\n",
      " 127231 54235        0.3141    21        0.3215        0.3123  1000914    2.88%           rho_6 D 127231 127230     58\n",
      "Elapsed time = 134.36 sec. (128528.89 ticks, tree = 21.69 MB, solutions = 4)\n",
      " 130133 55189        0.3151    17        0.3215        0.3123  1026921    2.88%           rho_6 U 130133 130132     66\n",
      " 133124 56341        cutoff              0.3215        0.3123  1052993    2.88%           rho_1 U 133124 133122     63\n",
      " 136050 57319        0.3133    28        0.3215        0.3123  1078286    2.88%           rho_4 D 136050 136049     81\n",
      " 138981 58172        0.3142    16        0.3215        0.3123  1102581    2.88%           rho_6 U 138981 138937     46\n",
      " 141940 59036        0.3123     5        0.3215        0.3123  1126923    2.88%           rho_0 D 141940 141938     59\n",
      " 144872 60012        cutoff              0.3215        0.3123  1151411    2.88%          rho_24 U 144872 144871     76\n",
      " 147695 61072        0.3123    13        0.3215        0.3123  1177100    2.88%          rho_40 D 147695 147694     32\n",
      " 151090 63083        0.3166     9        0.3215        0.3123  1205564    2.88%          rho_30 D 151090 151089     53\n",
      " 154383 64745        0.3123    11        0.3215        0.3123  1234379    2.88%           rho_9 D 154383 147954     50\n",
      " 157545 66090        cutoff              0.3215        0.3123  1261529    2.88%          rho_22 U 157545 157544     26\n",
      "Elapsed time = 164.72 sec. (166688.71 ticks, tree = 29.03 MB, solutions = 4)\n",
      " 160690 67185        0.3169     9        0.3215        0.3123  1286022    2.88%           rho_2 D 160690 160689     47\n",
      " 163575 68618        0.3179    16        0.3215        0.3123  1314743    2.88%           rho_0 U 163575 163574     34\n",
      " 166200 70190        0.3123    13        0.3215        0.3123  1345054    2.88%          rho_10 D 166200 166199     52\n",
      " 169179 71218        cutoff              0.3215        0.3123  1368992    2.88%           rho_6 U 169179 169178     54\n",
      " 172104 72117        cutoff              0.3215        0.3123  1392637    2.88%          rho_30 U 172104 172103     35\n",
      " 174878 73392        0.3158    21        0.3215        0.3123  1418452    2.88%           rho_0 U 174878 174877     44\n",
      " 177588 74644        0.3152    17        0.3215        0.3123  1443427    2.88%           rho_1 U 177588 109840     38\n",
      " 180210 75620        0.3123     9        0.3215        0.3123  1467214    2.88%          rho_15 U 180210 180208     31\n",
      " 182913 76835        0.3123    23        0.3215        0.3123  1492201    2.88%           rho_1 D 182913 182912     66\n",
      " 185543 77835        0.3212    10        0.3215        0.3123  1515350    2.88%          rho_17 D 185543 185541     75\n",
      "Elapsed time = 197.63 sec. (204853.11 ticks, tree = 33.59 MB, solutions = 4)\n",
      "\n",
      "Implied bound cuts applied:  1\n",
      "Gomory fractional cuts applied:  1\n",
      "User cuts applied:  1342\n",
      "\n",
      "Root node processing (before b&c):\n",
      "  Real time             =    1.11 sec. (4.06 ticks)\n",
      "Sequential b&c:\n",
      "  Real time             =  198.91 sec. (207796.34 ticks)\n",
      "                          ------------\n",
      "Total (root+branch&cut) =  200.02 sec. (207800.40 ticks)\n",
      "+-----------------------------------------------+-------------------+-----------+\n",
      "| Pr(Y = +1) = 1.0/(1.0 + exp(-(-21 + score))   |                   |           |\n",
      "| ============================================= | ================= | ========= |\n",
      "| p_arrest>=1                                   |         13 points |   + ..... |\n",
      "| p_charges>=1                                  |          4 points |   + ..... |\n",
      "| p_arrest>=2                                   |          1 points |   + ..... |\n",
      "| p_arrest>=6                                   |          1 points |   + ..... |\n",
      "| p_felony>=1                                   |          1 points |   + ..... |\n",
      "| p_misdemeanor>=1                              |          1 points |   + ..... |\n",
      "| ============================================= | ================= | ========= |\n",
      "| ADD POINTS FROM ROWS 1 to 6                   |             SCORE |   = ..... |\n",
      "+-----------------------------------------------+-------------------+-----------+\n",
      "model_id, score_thresholds 0 {'rank_abs': [0]}\n",
      "get_disparity_predefined_group()\n"
     ]
    },
    {
     "name": "stderr",
     "output_type": "stream",
     "text": [
      "C:\\Users\\binha\\Documents\\Duke\\Cynthia Research\\psa-analysis - test2\\utils\\fairness_functions.py:82: RuntimeWarning:\n",
      "\n",
      "invalid value encountered in longlong_scalars\n",
      "\n",
      "C:\\Users\\binha\\Documents\\Duke\\Cynthia Research\\psa-analysis - test2\\utils\\fairness_functions.py:95: RuntimeWarning:\n",
      "\n",
      "divide by zero encountered in longlong_scalars\n",
      "\n",
      "C:\\Users\\binha\\Documents\\Duke\\Cynthia Research\\psa-analysis - test2\\utils\\fairness_functions.py:86: RuntimeWarning:\n",
      "\n",
      "invalid value encountered in longlong_scalars\n",
      "\n",
      "C:\\Users\\binha\\Documents\\Duke\\Cynthia Research\\psa-analysis - test2\\utils\\fairness_functions.py:95: RuntimeWarning:\n",
      "\n",
      "invalid value encountered in longlong_scalars\n",
      "\n"
     ]
    },
    {
     "name": "stdout",
     "output_type": "stream",
     "text": [
      "setting c0 = 0.0 to ensure that intercept is not penalized\n",
      "10/01/19 @ 02:45 PM | 1781 rows in lookup table\n",
      "10/01/19 @ 02:45 PM | ------------------------------------------------------------\n",
      "10/01/19 @ 02:45 PM | runnning initialization procedure\n",
      "10/01/19 @ 02:45 PM | ------------------------------------------------------------\n",
      "10/01/19 @ 02:45 PM | CPA produced 2 cuts\n",
      "10/01/19 @ 02:45 PM | running naive rounding on 50 solutions\n",
      "10/01/19 @ 02:45 PM | best objective value: 0.3196\n",
      "10/01/19 @ 02:45 PM | rounding produced 5 integer solutions\n",
      "10/01/19 @ 02:45 PM | best objective value is 0.3256\n",
      "10/01/19 @ 02:45 PM | running sequential rounding on 50 solutions\n",
      "10/01/19 @ 02:45 PM | best objective value: 0.3196\n",
      "10/01/19 @ 02:45 PM | sequential rounding produced 6 integer solutions\n",
      "10/01/19 @ 02:45 PM | best objective value: 0.3244\n",
      "10/01/19 @ 02:45 PM | polishing 11 solutions\n",
      "10/01/19 @ 02:45 PM | best objective value: 0.3244\n",
      "10/01/19 @ 02:45 PM | polishing produced 4 integer solutions\n",
      "10/01/19 @ 02:45 PM | initialization produced 11 feasible solutions\n",
      "10/01/19 @ 02:45 PM | best objective value: 0.3244\n",
      "10/01/19 @ 02:45 PM | ------------------------------------------------------------\n",
      "10/01/19 @ 02:45 PM | completed initialization procedure\n",
      "10/01/19 @ 02:45 PM | ------------------------------------------------------------\n",
      "10/01/19 @ 02:45 PM | 1781 rows in lookup table\n",
      "CPXPARAM_Read_DataCheck                          1\n",
      "CPXPARAM_Threads                                 1\n",
      "CPXPARAM_Parallel                                1\n",
      "CPXPARAM_RandomSeed                              0\n",
      "CPXPARAM_TimeLimit                               200\n",
      "CPXPARAM_MIP_Tolerances_LowerCutoff              0.31279760390208527\n",
      "CPXPARAM_MIP_Tolerances_UpperCutoff              0.32436259993809291\n"
     ]
    },
    {
     "name": "stderr",
     "output_type": "stream",
     "text": [
      "Warning: Control callbacks may disable some MIP features.\n"
     ]
    },
    {
     "name": "stdout",
     "output_type": "stream",
     "text": [
      "Lazy constraint(s) or lazy constraint callback is present.\n",
      "    Disabling dual reductions (CPX_PARAM_REDUCE) in presolve.\n",
      "    Disabling non-linear reductions (CPX_PARAM_PRELINEAR) in presolve.\n",
      "         Disabling repeat represolve because of lazy constraint/incumbent callback.\n",
      "10/01/19 @ 02:45 PM | adding 259 initial cuts\n",
      "1 of 1 MIP starts provided solutions.\n",
      "MIP start 'mip_start_0' defined initial solution with objective 0.3244.\n",
      "Tried aggregator 1 time.\n",
      "Reduced MIP has 44 rows, 88 columns, and 171 nonzeros.\n",
      "Reduced MIP has 42 binaries, 44 generals, 0 SOSs, and 0 indicators.\n",
      "Presolve time = 0.00 sec. (0.11 ticks)\n",
      "Probing time = 0.00 sec. (0.03 ticks)\n",
      "MIP emphasis: balance optimality and feasibility.\n",
      "MIP search method: traditional branch-and-cut.\n",
      "Parallel mode: none, using 1 thread.\n",
      "Root relaxation solution time = 0.00 sec. (0.06 ticks)\n",
      "\n",
      "        Nodes                                         Cuts/\n",
      "   Node  Left     Objective  IInf  Best Integer    Best Bound    ItCnt     Gap         Variable B NodeID Parent  Depth\n",
      "\n",
      "*     0+    0                            0.3244        0.3128             3.57%\n",
      "      0     0        0.3128     1        0.3244        0.3128        1    3.57%\n",
      "      0     0        0.3128     4        0.3244       Cuts: 2        2    3.57%\n",
      "      0     0        0.3128     2        0.3244      Fract: 1        5    3.57%\n",
      "      0     2        0.3128     6        0.3244        0.3128        5    3.57%                        0             0\n",
      "Elapsed time = 0.39 sec. (3.70 ticks, tree = 0.01 MB, solutions = 1)\n",
      "   1962  1186        0.3128     6        0.3244        0.3128     6888    3.57%          rho_10 U   1962   1766     10\n",
      "   2968  1730        0.3208    15        0.3244        0.3128    12188    3.57%           rho_2 D   2968   2967     19\n",
      "   3857  2209        0.3213    10        0.3244        0.3128    16993    3.57%           rho_5 D   3857   3856     37\n",
      "   4650  2715        cutoff              0.3244        0.3128    21365    3.57%           rho_0 U   4650   4648     17\n",
      "   5296  2947        0.3128    13        0.3244        0.3128    25298    3.57%          rho_15 D   5296   5295     57\n",
      "   5862  3175        0.3166     6        0.3244        0.3128    30350    3.57%          rho_14 D   5862   5861     21\n",
      "*  6430+ 3151                            0.3225        0.3128             3.02%\n",
      "   6450  3162        0.3185     9        0.3225        0.3128    33932    3.02%           rho_0 U   6450   6449     25\n",
      "*  6479  3172      integral     0        0.3225        0.3128    34029    3.02%        alpha_31 D   6479   6478     35\n",
      "   6961  3473        cutoff              0.3225        0.3128    36419    3.02%          rho_41 U   6961   6960     43\n",
      "   8847  4478        cutoff              0.3225        0.3128    50044    3.02%           rho_0 U   8847   8846     15\n",
      "Elapsed time = 5.23 sec. (2877.85 ticks, tree = 1.50 MB, solutions = 3)\n",
      "  10686  5492        0.3128    15        0.3225        0.3128    62152    3.02%           rho_1 D  10686  10685     61\n",
      "  12377  6334        0.3128    12        0.3225        0.3128    73258    3.02%           rho_0 D  12377   4361     10\n",
      "  13858  7054        0.3158     8        0.3225        0.3128    83189    3.02%           rho_8 U  13858   3595     35\n",
      "  15286  7845        0.3179    17        0.3225        0.3128    92952    3.02%           rho_1 D  15286  15284     25\n",
      "  16683  8380        cutoff              0.3225        0.3128   103562    3.02%          rho_29 U  16683  16682     41\n",
      "  18133  9084        cutoff              0.3225        0.3128   113519    3.02%          rho_24 U  18133  18132     16\n",
      "  19448  9877        0.3203     4        0.3225        0.3128   120080    3.02%           rho_2 D  19448  19447     24\n",
      "  20550 10489        0.3128     4        0.3225        0.3128   128533    3.02%           rho_0 D  20550  20548     53\n",
      "  21540 11289        0.3212    20        0.3225        0.3128   138101    3.02%           rho_6 D  21540  21539     72\n",
      "  22554 11874        0.3128     8        0.3225        0.3128   145640    3.02%           rho_8 U  22554  22553     14\n",
      "Elapsed time = 15.53 sec. (12424.35 ticks, tree = 4.18 MB, solutions = 3)\n",
      "  23572 12369        cutoff              0.3225        0.3128   153130    3.02%           rho_0 U  23572  23571     50\n",
      "  24555 12842        0.3171    11        0.3225        0.3128   159859    3.02%          rho_14 D  24555  24554     15\n",
      "  25560 13291        0.3128     9        0.3225        0.3128   166489    3.02%          rho_30 D  25560  25559     17\n",
      "  26537 13805        0.3133    19        0.3225        0.3128   172996    3.02%          rho_15 U  26537  26535     41\n",
      "  27470 14289        0.3128    11        0.3225        0.3128   179767    3.02%           rho_1 D  27470  27469     21\n",
      "  28338 14680        0.3133    15        0.3225        0.3128   186920    3.02%           rho_1 U  28338  27498     22\n",
      "  29313 15120        cutoff              0.3225        0.3128   194780    3.02%          rho_16 U  29313  29312     34\n",
      "  30370 15694        0.3128    10        0.3225        0.3128   203011    3.02%           rho_0 D  30370  30368     50\n",
      "* 31000+16018                            0.3225        0.3128             3.01%\n",
      "  31148 16095        cutoff              0.3225        0.3128   210620    3.01%          rho_37 U  31148  31147     37\n",
      "  32090 16497        0.3164    17        0.3225        0.3128   218795    3.01%          rho_22 D  32090  32088     40\n",
      "Elapsed time = 24.31 sec. (21970.99 ticks, tree = 6.48 MB, solutions = 4)\n",
      "  33106 16932        0.3225     3        0.3225        0.3128   227074    3.01%          rho_37 D  33106  33105     30\n",
      "  34033 17375        0.3168     7        0.3225        0.3128   236021    3.01%          rho_15 D  34033  34031     31\n",
      "  35097 17845        cutoff              0.3225        0.3128   243634    3.01%           rho_0 U  35097  35096     21\n",
      "  36109 18309        cutoff              0.3225        0.3128   251586    3.01%          rho_24 U  36109  36108     36\n",
      "  37048 18794        0.3163    11        0.3225        0.3128   259274    3.01%           rho_1 U  37048  21549     28\n",
      "  37890 19201        0.3128    11        0.3225        0.3128   266964    3.01%           rho_0 D  37890  37888     61\n",
      "  38704 19639        0.3191     6        0.3225        0.3128   274666    3.01%           rho_8 D  38704  38703     31\n",
      "  39535 19985        0.3152    14        0.3225        0.3128   282072    3.01%           rho_0 U  39535  39534     27\n",
      "  40360 20335        0.3173    13        0.3225        0.3128   289279    3.01%           rho_0 U  40360  40359     33\n",
      "  41284 20842        0.3132    10        0.3225        0.3128   295841    3.01%          rho_15 D  41284  41283     62\n",
      "Elapsed time = 33.06 sec. (31516.06 ticks, tree = 8.09 MB, solutions = 4)\n",
      "  42223 21251        0.3204     2        0.3225        0.3128   302264    3.01%           rho_6 D  42223  42221     89\n",
      "  43157 21621        0.3128     6        0.3225        0.3128   308677    3.01%          rho_15 U  43157  43155     87\n",
      "  43942 22041        0.3128    19        0.3225        0.3128   316051    3.01%           rho_9 D  43942  43738     18\n",
      "  44669 22438        cutoff              0.3225        0.3128   323101    3.01%           rho_9 D  44669  44667     33\n",
      "  45484 22891        0.3128    16        0.3225        0.3128   330755    3.01%           rho_8 D  45484  45483     57\n",
      "  46145 23267        0.3168    17        0.3225        0.3128   337336    3.01%          rho_36 D  46145  46144     43\n",
      "  46858 23604        0.3128     6        0.3225        0.3128   343706    3.01%          rho_15 U  46858  46838     38\n",
      "  47497 23962        0.3215     5        0.3225        0.3128   350534    3.01%          rho_30 D  47497  47495     85\n",
      "  48161 24309        0.3136    23        0.3225        0.3128   357240    3.01%          rho_30 D  48161  48160     54\n",
      "  48890 24639        0.3187    11        0.3225        0.3128   363855    3.01%          rho_11 U  48890  48889     69\n",
      "Elapsed time = 41.33 sec. (41064.99 ticks, tree = 9.53 MB, solutions = 4)\n",
      "  49746 24969        cutoff              0.3225        0.3128   370835    3.01%          rho_36 U  49746  49745     49\n",
      "  50657 25283        0.3148    17        0.3225        0.3128   376789    3.01%           rho_0 U  50657  50656     41\n",
      "  51460 25773        0.3194    10        0.3225        0.3128   382948    3.01%           rho_5 D  51460  51458     46\n",
      "  52248 26051        cutoff              0.3225        0.3128   389084    3.01%           rho_5 U  52248  52247     32\n",
      "  53028 26346        0.3207    11        0.3225        0.3128   395089    3.01%          rho_37 U  53028  53027     70\n",
      "  53823 26684        cutoff              0.3225        0.3128   401101    3.01%           rho_1 U  53823  53820     51\n",
      "  54626 27022        0.3165    11        0.3225        0.3128   406906    3.01%          rho_30 D  54626  54625     44\n",
      "  55407 27329        0.3153    15        0.3225        0.3128   413005    3.01%          rho_20 D  55407  55406     29\n",
      "  56174 27766        cutoff              0.3225        0.3128   419373    3.01%           rho_0 U  56174  56173     22\n",
      "  56888 28295        0.3204    10        0.3225        0.3128   427431    3.01%           rho_0 U  56888  56887     36\n",
      "Elapsed time = 49.56 sec. (50610.27 ticks, tree = 10.96 MB, solutions = 4)\n",
      "  57480 28719        0.3128    16        0.3225        0.3128   434674    3.01%           rho_0 D  57480  57478     50\n",
      "  58094 29052        0.3223    11        0.3225        0.3128   440220    3.01%          rho_14 U  58094  58093     66\n",
      "  58670 29298        0.3213     0        0.3225        0.3128   445986    3.01%          rho_26 D  58670  58668     26\n",
      "  59304 29619        0.3128    12        0.3225        0.3128   451715    3.01%          rho_40 D  59304  59303     23\n",
      "  59916 29954        cutoff              0.3225        0.3128   457007    3.01%          rho_30 U  59916  59915     22\n",
      "  60582 30189        0.3177    19        0.3225        0.3128   462452    3.01%          rho_23 D  60582  60581     63\n",
      "  61409 30553        0.3147    11        0.3225        0.3128   468355    3.01%           rho_6 U  61409  61407     56\n",
      "  62181 30865        0.3208     7        0.3225        0.3128   474704    3.01%          rho_36 D  62181  62179     34\n",
      "  62923 31184        cutoff              0.3225        0.3128   480954    3.01%           rho_0 U  62923  62922     69\n",
      "  63645 31497        0.3200    12        0.3225        0.3128   487319    3.01%           rho_0 D  63645  63644     73\n",
      "Elapsed time = 57.47 sec. (60157.87 ticks, tree = 12.23 MB, solutions = 4)\n",
      "  64378 31814        cutoff              0.3225        0.3128   493625    3.01%           rho_0 D  64378  64377     74\n",
      "  65115 32124        0.3202    11        0.3225        0.3128   499565    3.01%          rho_38 D  65115  65113     64\n",
      "  65835 32417        0.3131    12        0.3225        0.3128   505512    3.01%          rho_13 U  65835  65783     32\n",
      "  66764 33080        0.3128    14        0.3225        0.3128   510543    3.01%          rho_13 D  66764  66763     55\n",
      "  67450 33455        0.3223    19        0.3225        0.3128   515077    3.01%           rho_0 D  67450  67449     66\n",
      "  68197 33677        0.3156    11        0.3225        0.3128   520324    3.01%           rho_1 D  68197  68196     46\n",
      "  68929 33903        cutoff              0.3225        0.3128   525578    3.01%          rho_13 U  68929  68928     45\n",
      "  69600 34197        0.3128    12        0.3225        0.3128   532141    3.01%          rho_20 D  69600  69599     14\n",
      "  70314 34500        0.3153    18        0.3225        0.3128   537740    3.01%           rho_0 D  70314  70312     40\n",
      "  71023 34889        0.3128     5        0.3225        0.3128   543333    3.01%           rho_0 D  71023  70999     16\n",
      "Elapsed time = 65.33 sec. (69703.65 ticks, tree = 14.98 MB, solutions = 4)\n",
      "  71746 35271        0.3139    23        0.3225        0.3128   549683    3.01%           rho_6 D  71746  71745     26\n",
      "  72510 35603        cutoff              0.3225        0.3128   555394    3.01%           rho_8 U  72510  72509     50\n",
      "  73239 35966        0.3130    15        0.3225        0.3128   561534    3.01%          rho_16 D  73239  73238     46\n",
      "  73990 36369        0.3128    11        0.3225        0.3128   568069    3.01%           rho_9 U  73990  73989     35\n",
      "  74704 36756        0.3193    12        0.3225        0.3128   574561    3.01%          rho_10 D  74704  74702     55\n",
      "  75402 37090        0.3189    11        0.3225        0.3128   580583    3.01%           rho_7 U  75402  75401     39\n",
      "  76105 37446        cutoff              0.3225        0.3128   586665    3.01%           rho_8 U  76105  76104     46\n",
      "  76814 37853        0.3196     5        0.3225        0.3128   592930    3.01%          rho_28 U  76814  76813     60\n",
      "  77477 38191        0.3129    28        0.3225        0.3128   598460    3.01%           rho_5 D  77477  77476     65\n",
      "  78110 38518        0.3193    13        0.3225        0.3128   603911    3.01%          rho_10 D  78110  78108     48\n",
      "Elapsed time = 73.03 sec. (79254.31 ticks, tree = 16.36 MB, solutions = 4)\n",
      "  78746 38826        0.3219     6        0.3225        0.3128   609351    3.01%          rho_25 D  78746  78744     35\n",
      "  79390 39163        cutoff              0.3225        0.3128   614976    3.01%          rho_10 U  79390  79388     53\n",
      "  80161 39484        cutoff              0.3225        0.3128   620999    3.01%           rho_3 D  80161  80160     46\n",
      "  80951 39900        cutoff              0.3225        0.3128   628024    3.01%          rho_24 U  80951  80950     34\n",
      "  81644 40280        0.3222     7        0.3225        0.3128   634193    3.01%           rho_2 D  81644  81643     36\n",
      "  82187 40621        0.3145    18        0.3225        0.3128   640773    3.01%           rho_8 D  82187  82185     70\n",
      "  82797 40998        0.3128    20        0.3225        0.3128   646211    3.01%           rho_1 U  82797  43817     59\n",
      "  83369 41322        0.3181     9        0.3225        0.3128   652101    3.01%          rho_14 U  83369  10496     33\n",
      "  83974 41548        cutoff              0.3225        0.3128   657446    3.01%          rho_42 U  83974  83973     67\n",
      "  86465 42821        cutoff              0.3225        0.3128   679149    3.01%          rho_10 U  86465  86464     51\n",
      "Elapsed time = 83.09 sec. (91657.21 ticks, tree = 18.06 MB, solutions = 4)\n",
      "  88934 44071        0.3128     7        0.3225        0.3128   702618    3.01%           rho_0 D  88934  88932     56\n",
      "  91268 45592        0.3195    12        0.3225        0.3128   726002    3.01%           rho_0 U  91268  91267     86\n",
      "  93543 46901        0.3162    21        0.3225        0.3128   748540    3.01%           rho_5 D  93543  93542     48\n",
      "* 95484 47030      integral     0        0.3222        0.3128   766199    2.92%        alpha_31 D  95484  95483     36\n",
      "* 95657 47074      integral     0        0.3222        0.3128   767551    2.92%          rho_31 D  95657  95656     24\n",
      "  98010 48309        0.3213     7        0.3222        0.3128   788339    2.92%          rho_14 D  98010  98009     40\n",
      " 100900 49480        0.3222     2        0.3222        0.3128   812460    2.92%          rho_13 U 100900 100899     60\n",
      " 103849 50350        0.3174     8        0.3222        0.3128   834308    2.92%           rho_5 D 103849 103847     55\n",
      " 106514 51214        0.3162    16        0.3222        0.3128   855683    2.92%          rho_40 U 106514   9658     19\n",
      " 108846 52430        0.3161    23        0.3222        0.3128   881919    2.92%          rho_41 D 108846 108845     45\n",
      "Elapsed time = 110.06 sec. (125669.12 ticks, tree = 22.05 MB, solutions = 6)\n",
      " 111393 53603        cutoff              0.3222        0.3128   904430    2.92%          rho_26 U 111393 111392     98\n",
      " 113951 54892        0.3220    10        0.3222        0.3128   928636    2.92%          rho_40 U 113951 113949     55\n",
      " 116239 55877        0.3133    20        0.3222        0.3128   951800    2.92%          rho_23 D 116239  56530     37\n",
      " 118701 56996        0.3164    15        0.3222        0.3128   975328    2.92%          rho_40 D 118701 118700     40\n",
      " 121310 57969        0.3206    12        0.3222        0.3128   995029    2.92%          rho_36 D 121310 121308     77\n",
      " 123848 58892        0.3146    16        0.3222        0.3128  1015133    2.92%           rho_6 U 123848 123512     71\n",
      "*125000+59299                            0.3222        0.3128             2.92%\n",
      " 126389 59779        0.3151    12        0.3222        0.3128  1034151    2.92%           rho_1 D 126389 126388     67\n",
      " 128790 60510        0.3181    17        0.3222        0.3128  1052028    2.92%          rho_16 D 128790 128788     61\n",
      " 131155 61256        cutoff              0.3222        0.3128  1069510    2.92%           rho_0 U 131155 131154     68\n",
      " 133439 62068        cutoff              0.3222        0.3128  1089461    2.92%          rho_36 D 133439 133438     92\n",
      "Elapsed time = 140.55 sec. (163833.55 ticks, tree = 26.11 MB, solutions = 7)\n",
      " 135771 63249        0.3128    13        0.3222        0.3128  1112061    2.92%           rho_8 U 135771 135653     25\n",
      " 138091 64548        0.3144    28        0.3222        0.3128  1136005    2.92%           rho_0 D 138091 138089     43\n",
      " 140476 65749        0.3186    13        0.3222        0.3128  1158736    2.92%           rho_1 D 140476 140475     38\n",
      " 142826 66622        0.3128     6        0.3222        0.3128  1178461    2.92%          rho_15 U 142826 142802     50\n",
      " 145160 67297        0.3165    14        0.3222        0.3128  1195632    2.92%          rho_16 D 145160 145158     68\n",
      " 147510 68015        0.3207    11        0.3222        0.3128  1212461    2.92%           rho_2 D 147510 147508     74\n",
      " 149719 68831        cutoff              0.3222        0.3128  1232152    2.92%          rho_36 U 149719 149717     69\n",
      " 152040 69997        0.3158    17        0.3222        0.3128  1254766    2.92%           rho_5 D 152040 152039     85\n",
      " 154288 71191        0.3200    12        0.3222        0.3128  1277915    2.92%           rho_3 D 154288 154286     89\n",
      " 156527 72359        0.3139    20        0.3222        0.3128  1301141    2.92%          rho_13 D 156527 156526     67\n",
      "Elapsed time = 172.56 sec. (201993.74 ticks, tree = 33.32 MB, solutions = 7)\n",
      " 158672 73488        cutoff              0.3222        0.3128  1323036    2.92%          rho_36 U 158672 158670     82\n",
      " 160640 74559        0.3219    13        0.3222        0.3128  1344013    2.92%           rho_0 D 160640 160639     78\n",
      " 162654 75585        0.3155    16        0.3222        0.3128  1364581    2.92%           rho_2 D 162654 162653     70\n",
      " 164588 76617        0.3171    16        0.3222        0.3128  1384991    2.92%          rho_37 D 164588 164587     54\n",
      " 166542 77587        0.3163    13        0.3222        0.3128  1404118    2.92%          rho_16 D 166542 166541     58\n",
      " 168750 78669        0.3128    14        0.3222        0.3128  1426100    2.92%           rho_2 U 168750  10087     24\n",
      " 171200 79867        0.3152    15        0.3222        0.3128  1448530    2.92%           rho_6 D 171200 171198     63\n",
      " 173622 80911        0.3128    13        0.3222        0.3128  1470178    2.92%           rho_9 D 173622  78441     48\n",
      "\n",
      "Gomory fractional cuts applied:  1\n",
      "User cuts applied:  1630\n",
      "\n",
      "Root node processing (before b&c):\n",
      "  Real time             =    0.39 sec. (3.92 ticks)\n",
      "Sequential b&c:\n",
      "  Real time             =  199.63 sec. (236163.98 ticks)\n",
      "                          ------------\n",
      "Total (root+branch&cut) =  200.02 sec. (236167.90 ticks)\n",
      "+----------------------------------------------+------------------+-----------+\n",
      "| Pr(Y = +1) = 1.0/(1.0 + exp(-(-4 + score))   |                  |           |\n",
      "| ============================================ | ================ | ========= |\n",
      "| p_arrest>=2                                  |         1 points |   + ..... |\n",
      "| p_arrest>=5                                  |         1 points |   + ..... |\n",
      "| p_felony>=1                                  |         1 points |   + ..... |\n",
      "| p_misdemeanor>=1                             |         1 points |   + ..... |\n",
      "| ============================================ | ================ | ========= |\n",
      "| ADD POINTS FROM ROWS 1 to 4                  |            SCORE |   = ..... |\n",
      "+----------------------------------------------+------------------+-----------+\n",
      "model_id, score_thresholds 0 {'rank_abs': [0]}\n",
      "get_disparity_predefined_group()\n"
     ]
    },
    {
     "name": "stderr",
     "output_type": "stream",
     "text": [
      "C:\\Users\\binha\\Documents\\Duke\\Cynthia Research\\psa-analysis - test2\\utils\\fairness_functions.py:82: RuntimeWarning:\n",
      "\n",
      "invalid value encountered in longlong_scalars\n",
      "\n",
      "C:\\Users\\binha\\Documents\\Duke\\Cynthia Research\\psa-analysis - test2\\utils\\fairness_functions.py:95: RuntimeWarning:\n",
      "\n",
      "divide by zero encountered in longlong_scalars\n",
      "\n",
      "C:\\Users\\binha\\Documents\\Duke\\Cynthia Research\\psa-analysis - test2\\utils\\fairness_functions.py:86: RuntimeWarning:\n",
      "\n",
      "invalid value encountered in longlong_scalars\n",
      "\n",
      "C:\\Users\\binha\\Documents\\Duke\\Cynthia Research\\psa-analysis - test2\\utils\\fairness_functions.py:95: RuntimeWarning:\n",
      "\n",
      "invalid value encountered in longlong_scalars\n",
      "\n"
     ]
    },
    {
     "name": "stdout",
     "output_type": "stream",
     "text": [
      "setting c0 = 0.0 to ensure that intercept is not penalized\n",
      "10/01/19 @ 02:48 PM | 1781 rows in lookup table\n",
      "10/01/19 @ 02:48 PM | ------------------------------------------------------------\n",
      "10/01/19 @ 02:48 PM | runnning initialization procedure\n",
      "10/01/19 @ 02:48 PM | ------------------------------------------------------------\n",
      "10/01/19 @ 02:48 PM | CPA produced 2 cuts\n",
      "10/01/19 @ 02:48 PM | running naive rounding on 57 solutions\n",
      "10/01/19 @ 02:48 PM | best objective value: 0.3206\n",
      "10/01/19 @ 02:48 PM | rounding produced 5 integer solutions\n",
      "10/01/19 @ 02:48 PM | best objective value is 0.3311\n",
      "10/01/19 @ 02:48 PM | running sequential rounding on 57 solutions\n",
      "10/01/19 @ 02:48 PM | best objective value: 0.3206\n",
      "10/01/19 @ 02:48 PM | sequential rounding produced 6 integer solutions\n",
      "10/01/19 @ 02:48 PM | best objective value: 0.3238\n",
      "10/01/19 @ 02:48 PM | polishing 11 solutions\n",
      "10/01/19 @ 02:48 PM | best objective value: 0.3238\n",
      "10/01/19 @ 02:48 PM | polishing produced 5 integer solutions\n",
      "10/01/19 @ 02:48 PM | initialization produced 13 feasible solutions\n",
      "10/01/19 @ 02:48 PM | best objective value: 0.3235\n",
      "10/01/19 @ 02:48 PM | ------------------------------------------------------------\n",
      "10/01/19 @ 02:48 PM | completed initialization procedure\n",
      "10/01/19 @ 02:48 PM | ------------------------------------------------------------\n",
      "10/01/19 @ 02:48 PM | 1781 rows in lookup table\n",
      "CPXPARAM_Read_DataCheck                          1\n",
      "CPXPARAM_Threads                                 1\n",
      "CPXPARAM_Parallel                                1\n",
      "CPXPARAM_RandomSeed                              0\n",
      "CPXPARAM_TimeLimit                               200\n",
      "CPXPARAM_MIP_Tolerances_LowerCutoff              0.31277661666242401\n",
      "CPXPARAM_MIP_Tolerances_UpperCutoff              0.32354949784425424\n"
     ]
    },
    {
     "name": "stderr",
     "output_type": "stream",
     "text": [
      "Warning: Control callbacks may disable some MIP features.\n"
     ]
    },
    {
     "name": "stdout",
     "output_type": "stream",
     "text": [
      "Lazy constraint(s) or lazy constraint callback is present.\n",
      "    Disabling dual reductions (CPX_PARAM_REDUCE) in presolve.\n",
      "    Disabling non-linear reductions (CPX_PARAM_PRELINEAR) in presolve.\n",
      "         Disabling repeat represolve because of lazy constraint/incumbent callback.\n",
      "10/01/19 @ 02:48 PM | adding 259 initial cuts\n",
      "1 of 1 MIP starts provided solutions.\n",
      "MIP start 'mip_start_0' defined initial solution with objective 0.3235.\n",
      "Tried aggregator 1 time.\n",
      "Reduced MIP has 44 rows, 88 columns, and 171 nonzeros.\n",
      "Reduced MIP has 42 binaries, 44 generals, 0 SOSs, and 0 indicators.\n",
      "Presolve time = 0.00 sec. (0.11 ticks)\n",
      "Probing time = 0.00 sec. (0.03 ticks)\n",
      "MIP emphasis: balance optimality and feasibility.\n",
      "MIP search method: traditional branch-and-cut.\n",
      "Parallel mode: none, using 1 thread.\n",
      "Root relaxation solution time = 0.00 sec. (0.06 ticks)\n",
      "\n",
      "        Nodes                                         Cuts/\n",
      "   Node  Left     Objective  IInf  Best Integer    Best Bound    ItCnt     Gap         Variable B NodeID Parent  Depth\n",
      "\n",
      "*     0+    0                            0.3235        0.3128             3.33%\n",
      "      0     0        0.3128     1        0.3235        0.3128        1    3.33%\n",
      "      0     0        0.3128     4        0.3235       Cuts: 2        2    3.33%\n",
      "      0     0        0.3128     2        0.3235      Fract: 1        5    3.33%\n",
      "      0     2        0.3128     6        0.3235        0.3128        5    3.33%                        0             0\n",
      "Elapsed time = 0.38 sec. (3.88 ticks, tree = 0.01 MB, solutions = 1)\n",
      "*   320+  220                            0.3232        0.3128             3.22%\n",
      "   1610   998        cutoff              0.3232        0.3128     7508    3.22%          rho_38 U   1610   1608     22\n",
      "   2645  1614        0.3137    18        0.3232        0.3128    13141    3.22%           rho_0 U   2645   2644     20\n",
      "   3460  2138        0.3156    12        0.3232        0.3128    17755    3.22%           rho_2 D   3460   3458     63\n",
      "   4132  2582        0.3128     4        0.3232        0.3128    22112    3.22%           rho_0 D   4132   4130     26\n",
      "   4845  3106        cutoff              0.3232        0.3128    25384    3.22%          rho_27 U   4845   4844     40\n",
      "   5401  3433        0.3128    12        0.3232        0.3128    29019    3.22%          rho_26 D   5401   5231     24\n",
      "   5996  3740        cutoff              0.3232        0.3128    32520    3.22%          rho_36 U   5996   5995     50\n",
      "   6576  4108        0.3212     8        0.3232        0.3128    35672    3.22%           rho_9 U   6576   6575     35\n",
      "   7095  4417        0.3128     5        0.3232        0.3128    38578    3.22%          rho_10 D   7095   7094     28\n",
      "   8830  5405        0.3145    16        0.3232        0.3128    49025    3.22%          rho_15 U   8830   8828     35\n",
      "Elapsed time = 5.53 sec. (3105.11 ticks, tree = 1.71 MB, solutions = 2)\n",
      "  10363  6133        0.3128     9        0.3232        0.3128    58857    3.22%          rho_15 U  10363   7753     36\n",
      "  11826  6930        0.3128    12        0.3232        0.3128    68833    3.22%           rho_9 U  11826  11825     24\n",
      "  13345  7759        0.3132    20        0.3232        0.3128    78475    3.22%          rho_27 D  13345  13344     60\n",
      "  14664  8493        0.3151    12        0.3232        0.3128    89313    3.22%           rho_0 U  14664  14663     32\n",
      "  15989  9153        0.3227     7        0.3232        0.3128    99315    3.22%          rho_29 D  15989  15987     52\n",
      "  17429  9733        0.3128    12        0.3232        0.3128   109333    3.22%           rho_8 D  17429   4286     67\n",
      "  18690 10557        0.3132    11        0.3232        0.3128   117299    3.22%           rho_0 U  18690  18689     14\n",
      "  19840 11251        0.3153    12        0.3232        0.3128   125720    3.22%          rho_23 D  19840  19839     24\n",
      "  21031 11682        cutoff              0.3232        0.3128   133633    3.22%           rho_8 U  21031  21030     92\n",
      "  22435 12284        0.3128    13        0.3232        0.3128   144453    3.22%          rho_15 D  22435  22434     69\n",
      "Elapsed time = 14.89 sec. (12649.73 ticks, tree = 4.16 MB, solutions = 2)\n",
      "  23909 12923        0.3210     9        0.3232        0.3128   154665    3.22%          rho_13 D  23909  23907     85\n",
      "  25342 13580        0.3218    15        0.3232        0.3128   165484    3.22%          rho_21 U  25342  25340     28\n",
      "  26688 14237        0.3183    13        0.3232        0.3128   175968    3.22%          rho_28 U  26688  26055     52\n",
      "  27969 14853        0.3132    21        0.3232        0.3128   185929    3.22%          rho_16 D  27969  27968     39\n",
      "  29058 15486        cutoff              0.3232        0.3128   196252    3.22%          rho_24 U  29058  29056     81\n",
      "  30046 16061        cutoff              0.3232        0.3128   204026    3.22%          rho_30 U  30046  30045     65\n",
      "  31000 16522        0.3135    14        0.3232        0.3128   211463    3.22%           rho_0 D  31000  30998     54\n",
      "* 31740+16940                            0.3230        0.3128             3.18%\n",
      "  31920 17007        0.3136    18        0.3230        0.3128   219218    3.18%           rho_0 U  31920  31919     40\n",
      "  32771 17439        0.3131    24        0.3230        0.3128   226544    3.18%           rho_1 D  32771  32770     53\n",
      "  33596 17883        0.3128    12        0.3230        0.3128   234447    3.18%           rho_6 D  33596  28709     78\n",
      "Elapsed time = 23.69 sec. (22198.09 ticks, tree = 6.66 MB, solutions = 3)\n",
      "  34502 18397        0.3166    21        0.3230        0.3128   241465    3.18%           rho_1 D  34502  34501     83\n",
      "  35374 18830        0.3150    10        0.3230        0.3128   248868    3.18%           rho_5 D  35374  35373     54\n",
      "  36267 19209        0.3128    14        0.3230        0.3128   255906    3.18%           rho_6 U  36267  27305     34\n",
      "  37321 19596        0.3191     6        0.3230        0.3128   263791    3.18%           rho_3 U  37321  37320     32\n",
      "  38515 20196        0.3181    18        0.3230        0.3128   271466    3.18%           rho_0 D  38515  38513     76\n",
      "  39570 20914        0.3184     6        0.3230        0.3128   277441    3.18%           rho_0 U  39570  39569     17\n",
      "  40449 21324        0.3144    14        0.3230        0.3128   282721    3.18%          rho_21 U  40449   2321     24\n",
      "  41299 21739        0.3184     6        0.3230        0.3128   288558    3.18%           rho_0 U  41299    242     80\n",
      "* 41810+21702                            0.3228        0.3128             3.09%\n",
      "* 41850+21213                            0.3222        0.3128             2.93%\n",
      "  42020 21382        0.3168     6        0.3222        0.3128   294257    2.93%          rho_30 D  42020  42018    107\n",
      "  42800 21732        0.3140     9        0.3222        0.3128   299459    2.93%          rho_14 U  42800  42790     95\n",
      "Elapsed time = 33.88 sec. (31744.91 ticks, tree = 8.02 MB, solutions = 5)\n",
      "  43630 22288        0.3182     2        0.3222        0.3128   303838    2.93%          rho_21 D  43630  43629     33\n",
      "  44411 22695        0.3219    16        0.3222        0.3128   310174    2.93%           rho_0 U  44411  44410     68\n",
      "  45150 22999        0.3204    12        0.3222        0.3128   316167    2.93%          rho_11 D  45150  45148     40\n",
      "  45952 23341        0.3128    12        0.3222        0.3128   322660    2.93%           rho_2 D  45952  45951     38\n",
      "  46759 23758        0.3143    19        0.3222        0.3128   329768    2.93%           rho_1 D  46759  46758     57\n",
      "  47530 24152        0.3157     7        0.3222        0.3128   336192    2.93%           rho_0 U  47530  47529     55\n",
      "  48300 24592        0.3188    12        0.3222        0.3128   343132    2.93%           rho_5 D  48300  48298     43\n",
      "  49030 25062        0.3153     9        0.3222        0.3128   350283    2.93%           rho_6 D  49030  49029     41\n",
      "  49752 25342        0.3217     3        0.3222        0.3128   356751    2.93%          rho_27 D  49752  49750     32\n",
      "  50548 25704        0.3128     9        0.3222        0.3128   364186    2.93%           rho_0 D  50548  50546     66\n",
      "Elapsed time = 42.56 sec. (41294.71 ticks, tree = 9.48 MB, solutions = 5)\n",
      "  51340 26090        0.3138    16        0.3222        0.3128   369738    2.93%           rho_0 D  51340  51338     51\n",
      "  52171 26513        0.3128    17        0.3222        0.3128   375371    2.93%          rho_28 U  52171  29810     44\n",
      "  52993 26815        cutoff              0.3222        0.3128   382564    2.93%          rho_38 U  52993  52992     38\n",
      "  53893 27205        0.3128    13        0.3222        0.3128   390687    2.93%           rho_0 D  53893  53891     32\n",
      "  54856 27649        0.3134     8        0.3222        0.3128   398623    2.93%           rho_6 U  54856  54587     42\n",
      "  55863 28016        0.3137    11        0.3222        0.3128   406024    2.93%           rho_6 U  55863  55316     42\n",
      "  56881 28435        0.3128    15        0.3222        0.3128   413550    2.93%          rho_28 D  56881  56880     75\n",
      "  57897 28876        0.3130    15        0.3222        0.3128   421410    2.93%          rho_23 D  57897  57896     94\n",
      "  58868 29278        0.3204     8        0.3222        0.3128   429087    2.93%          rho_28 D  58868  58865     92\n",
      "  59916 29765        0.3135    11        0.3222        0.3128   436964    2.93%           rho_6 U  59916  59913     52\n",
      "Elapsed time = 50.20 sec. (50843.75 ticks, tree = 10.96 MB, solutions = 5)\n",
      "  60948 30260        0.3160     7        0.3222        0.3128   444767    2.93%           rho_2 U  60948  60946     25\n",
      "  61845 30554        0.3138    11        0.3222        0.3128   451532    2.93%           rho_0 D  61845  61843     75\n",
      "  62652 30718        0.3194     8        0.3222        0.3128   457295    2.93%           rho_1 U  62652  57774     75\n",
      "  63453 30897        0.3158    15        0.3222        0.3128   463043    2.93%           rho_1 D  63453  63452     76\n",
      "  64271 31071        0.3213    11        0.3222        0.3128   469472    2.93%          rho_36 D  64271  64269     31\n",
      "  65051 31206        0.3211    12        0.3222        0.3128   476428    2.93%          rho_30 D  65051  65049     58\n",
      "  65822 31341        cutoff              0.3222        0.3128   483055    2.93%          rho_36 U  65822  65821     40\n",
      "  66631 31524        0.3128    11        0.3222        0.3128   489657    2.93%          rho_36 D  66631  66630     67\n",
      "  67457 31738        0.3151     9        0.3222        0.3128   496366    2.93%           rho_2 U  67457  56824     65\n",
      "  68251 31942        0.3128     8        0.3222        0.3128   503222    2.93%          rho_23 D  68251  68250     65\n",
      "Elapsed time = 57.17 sec. (60389.74 ticks, tree = 11.78 MB, solutions = 5)\n",
      "  69054 32140        cutoff              0.3222        0.3128   509958    2.93%          rho_23 U  69054  69053     37\n",
      "  69859 32428        0.3214     7        0.3222        0.3128   516843    2.93%          rho_25 U  69859  69858     66\n",
      "  70639 32710        cutoff              0.3222        0.3128   523588    2.93%          rho_27 U  70639  70638     88\n",
      "  71468 32986        0.3128    11        0.3222        0.3128   529941    2.93%           rho_2 U  71468  71467     31\n",
      "  72329 33411        cutoff              0.3222        0.3128   536229    2.93%          rho_17 U  72329  72327     53\n",
      "  73099 33775        0.3161    19        0.3222        0.3128   543638    2.93%          rho_10 U  73099  73098     68\n",
      "  73962 34240        0.3135    15        0.3222        0.3128   550691    2.93%           rho_1 D  73962  73961     24\n",
      "  74747 34570        cutoff              0.3222        0.3128   558549    2.93%          rho_30 D  74747  74745     65\n",
      "  75516 34908        0.3200    13        0.3222        0.3128   566747    2.93%          rho_17 D  75516  75514     85\n",
      "  76319 35228        0.3128    14        0.3222        0.3128   574151    2.93%           rho_9 D  76319  48100     47\n",
      "Elapsed time = 64.84 sec. (69934.98 ticks, tree = 14.39 MB, solutions = 5)\n",
      "  77090 35559        0.3210     9        0.3222        0.3128   582112    2.93%           rho_0 D  77090  77088     43\n",
      "  77962 35936        0.3128     9        0.3222        0.3128   588959    2.93%          rho_15 D  77962  77961     91\n",
      "  78851 36319        0.3191     1        0.3222        0.3128   595467    2.93%           rho_1 D  78851  78849     22\n",
      "  79733 36701        0.3198     4        0.3222        0.3128   601386    2.93%           rho_0 U  79733  79732      7\n",
      "  80555 37201        0.3178    15        0.3222        0.3128   608449    2.93%          rho_15 U  80555  80553     74\n",
      "  81437 37802        0.3197     9        0.3222        0.3128   614998    2.93%           rho_0 U  81437  81436     30\n",
      "  82104 38210        0.3213    13        0.3222        0.3128   620274    2.93%           rho_0 U  82104  82103     25\n",
      "  82830 38671        0.3168    10        0.3222        0.3128   624657    2.93%          rho_15 U  82830  82828     58\n",
      "  83560 39118        cutoff              0.3222        0.3128   629526    2.93%          rho_41 U  83560  83559     40\n",
      "  84225 39505        0.3128    10        0.3222        0.3128   634686    2.93%           rho_6 U  84225  84007     55\n",
      "Elapsed time = 73.30 sec. (79480.34 ticks, tree = 16.01 MB, solutions = 5)\n",
      "  84873 39861        0.3192     9        0.3222        0.3128   640071    2.93%          rho_24 D  84873  84872     57\n",
      "  85510 40252        0.3153    13        0.3222        0.3128   645636    2.93%          rho_24 D  85510  85509     63\n",
      "  86156 40589        0.3143    15        0.3222        0.3128   651562    2.93%          rho_28 D  86156  86155     40\n",
      "  86803 40934        0.3128    10        0.3222        0.3128   657344    2.93%           rho_0 D  86803  86645     31\n",
      "  87414 41217        cutoff              0.3222        0.3128   662948    2.93%          rho_30 U  87414  87413     91\n",
      "  88035 41506        0.3128    19        0.3222        0.3128   668742    2.93%          rho_28 U  88035  34720     74\n",
      "  88700 41877        0.3128    11        0.3222        0.3128   673658    2.93%          rho_15 U  88700  88698     43\n",
      "  89324 42121        cutoff              0.3222        0.3128   679241    2.93%           rho_1 D  89324  89323     44\n",
      "  90019 42387        0.3202     8        0.3222        0.3128   685237    2.93%          rho_28 U  90019  90018     47\n",
      "  93245 43690        0.3166    17        0.3222        0.3128   712811    2.93%           rho_0 D  93245  93244     80\n",
      "Elapsed time = 84.03 sec. (91891.09 ticks, tree = 17.62 MB, solutions = 5)\n",
      "  96227 44788        0.3141    10        0.3222        0.3128   738144    2.93%          rho_27 D  96227  96226     69\n",
      "  99178 46242        cutoff              0.3222        0.3128   764361    2.93%          rho_37 U  99178  99175     47\n",
      " 102016 47649        0.3136    17        0.3222        0.3128   789406    2.93%          rho_16 D 102016 102015     35\n",
      " 104893 48937        cutoff              0.3222        0.3128   813218    2.93%          rho_30 D 104893 104891     39\n",
      "*106000+49364                            0.3222        0.3128             2.93%\n",
      " 107646 50111        0.3189     7        0.3222        0.3128   837040    2.93%          rho_17 D 107646 107644     62\n",
      " 110271 51224        0.3219    10        0.3222        0.3128   860300    2.93%          rho_27 D 110271 110268     67\n",
      " 112969 52156        0.3165    11        0.3222        0.3128   881322    2.93%          rho_28 U 112969  59646     61\n",
      " 115661 52931        cutoff              0.3222        0.3128   901840    2.93%           rho_5 U 115661 115659     38\n",
      " 118300 53991        cutoff              0.3222        0.3128   923348    2.93%          rho_36 U 118300 118299     30\n",
      " 120895 55157        cutoff              0.3222        0.3128   945644    2.93%          rho_19 U 120895 120894     76\n",
      "Elapsed time = 114.01 sec. (130044.08 ticks, tree = 22.22 MB, solutions = 6)\n",
      " 123632 56472        0.3214    11        0.3222        0.3128   968543    2.93%          rho_27 D 123632 123630    103\n",
      " 126198 57625        0.3128     8        0.3222        0.3128   990927    2.93%          rho_15 U 126198 126196     48\n",
      " 128790 58931        0.3128    12        0.3222        0.3128  1014776    2.93%           rho_9 D 128790 101897     23\n",
      " 131306 60049        cutoff              0.3222        0.3128  1037500    2.93%          rho_17 U 131306 131305     81\n",
      " 133939 61483        cutoff              0.3222        0.3128  1058980    2.93%           rho_0 D 133939 133938     73\n",
      " 136679 62519        0.3184    11        0.3222        0.3128  1079888    2.93%           rho_2 D 136679 136677     98\n",
      " 139050 63603        0.3130    14        0.3222        0.3128  1101624    2.93%           rho_1 D 139050 139049     41\n",
      " 141539 64783        0.3219     6        0.3222        0.3128  1125260    2.93%           rho_0 U 141539 141538     69\n",
      " 144135 65952        0.3128     8        0.3222        0.3128  1150146    2.93%          rho_23 D 144135  92301     50\n",
      " 146550 66730        0.3203    11        0.3222        0.3128  1170856    2.93%          rho_41 D 146550 146548     68\n",
      "Elapsed time = 143.56 sec. (168210.40 ticks, tree = 29.75 MB, solutions = 6)\n",
      " 148886 67986        0.3136    21        0.3222        0.3128  1194206    2.93%          rho_28 D 148886 148885     72\n",
      " 151300 69074        0.3192    17        0.3222        0.3128  1215989    2.93%           rho_2 D 151300 151299     36\n",
      " 153737 70174        cutoff              0.3222        0.3128  1237323    2.93%          rho_37 U 153737 153736     52\n",
      " 156200 71651        0.3128    23        0.3222        0.3128  1259321    2.93%           rho_2 U 156200 156197     54\n",
      "*158094 72574      integral     0        0.3222        0.3128  1275369    2.93%          rho_31 D 158094 158093     38\n",
      " 160323 73846        0.3128    10        0.3222        0.3128  1294464    2.93%           rho_0 D 160323 160292     47\n",
      " 162500 75133        0.3147    11        0.3222        0.3128  1314169    2.93%           rho_5 D 162500 162499     45\n",
      " 164559 76190        0.3214    11        0.3222        0.3128  1334298    2.93%           rho_0 U 164559 164557     53\n",
      " 166800 77080        0.3212     5        0.3222        0.3128  1354971    2.93%           rho_0 D 166800 166798     89\n",
      " 169504 77996        0.3201    10        0.3222        0.3128  1377584    2.93%          rho_23 D 169504 169502     74\n",
      "Elapsed time = 174.51 sec. (205816.76 ticks, tree = 34.41 MB, solutions = 7)\n",
      " 172130 78842        0.3130    14        0.3222        0.3128  1400315    2.93%           rho_1 D 172130 171840     52\n",
      " 174614 80068        0.3201     7        0.3222        0.3128  1422710    2.93%           rho_8 U 174614  79811     24\n",
      " 176938 81132        0.3157    17        0.3222        0.3128  1443468    2.93%          rho_26 U 176938 176937     41\n",
      " 179281 82343        0.3192    11        0.3222        0.3128  1464855    2.93%           rho_9 D 179281 179279     66\n",
      " 181397 83554        0.3128    17        0.3222        0.3128  1486015    2.93%          rho_26 U 181397 181395     21\n",
      " 183300 84513        0.3198     8        0.3222        0.3128  1504688    2.93%          rho_24 D 183300 183299     62\n",
      " 185335 85465        0.3167    16        0.3222        0.3128  1523215    2.93%           rho_5 D 185335 185334     55\n",
      "\n",
      "Gomory fractional cuts applied:  1\n",
      "User cuts applied:  1645\n",
      "\n",
      "Root node processing (before b&c):\n",
      "  Real time             =    0.38 sec. (4.10 ticks)\n",
      "Sequential b&c:\n",
      "  Real time             =  199.64 sec. (235330.66 ticks)\n",
      "                          ------------\n",
      "Total (root+branch&cut) =  200.01 sec. (235334.76 ticks)\n",
      "+----------------------------------------------+------------------+-----------+\n",
      "| Pr(Y = +1) = 1.0/(1.0 + exp(-(-9 + score))   |                  |           |\n",
      "| ============================================ | ================ | ========= |\n",
      "| p_arrest>=1                                  |         3 points |   + ..... |\n",
      "| p_charges>=1                                 |         2 points |   + ..... |\n",
      "| p_arrest>=2                                  |         1 points |   + ..... |\n",
      "| p_arrest>=6                                  |         1 points |   + ..... |\n",
      "| p_felony>=1                                  |         1 points |   + ..... |\n",
      "| p_misdemeanor>=1                             |         1 points |   + ..... |\n",
      "| ============================================ | ================ | ========= |\n",
      "| ADD POINTS FROM ROWS 1 to 6                  |            SCORE |   = ..... |\n",
      "+----------------------------------------------+------------------+-----------+\n",
      "model_id, score_thresholds 0 {'rank_abs': [0]}\n",
      "get_disparity_predefined_group()\n"
     ]
    },
    {
     "name": "stderr",
     "output_type": "stream",
     "text": [
      "C:\\Users\\binha\\Documents\\Duke\\Cynthia Research\\psa-analysis - test2\\utils\\fairness_functions.py:82: RuntimeWarning:\n",
      "\n",
      "invalid value encountered in longlong_scalars\n",
      "\n",
      "C:\\Users\\binha\\Documents\\Duke\\Cynthia Research\\psa-analysis - test2\\utils\\fairness_functions.py:95: RuntimeWarning:\n",
      "\n",
      "divide by zero encountered in longlong_scalars\n",
      "\n"
     ]
    },
    {
     "name": "stdout",
     "output_type": "stream",
     "text": [
      "setting c0 = 0.0 to ensure that intercept is not penalized\n",
      "10/01/19 @ 02:52 PM | 1781 rows in lookup table\n",
      "10/01/19 @ 02:52 PM | ------------------------------------------------------------\n",
      "10/01/19 @ 02:52 PM | runnning initialization procedure\n",
      "10/01/19 @ 02:52 PM | ------------------------------------------------------------\n",
      "10/01/19 @ 02:52 PM | CPA produced 2 cuts\n",
      "10/01/19 @ 02:52 PM | running naive rounding on 53 solutions\n",
      "10/01/19 @ 02:52 PM | best objective value: 0.3189\n",
      "10/01/19 @ 02:52 PM | rounding produced 5 integer solutions\n",
      "10/01/19 @ 02:52 PM | best objective value is 0.3262\n",
      "10/01/19 @ 02:52 PM | running sequential rounding on 53 solutions\n",
      "10/01/19 @ 02:52 PM | best objective value: 0.3189\n",
      "10/01/19 @ 02:52 PM | sequential rounding produced 6 integer solutions\n",
      "10/01/19 @ 02:52 PM | best objective value: 0.3237\n",
      "10/01/19 @ 02:52 PM | polishing 11 solutions\n",
      "10/01/19 @ 02:52 PM | best objective value: 0.3237\n",
      "10/01/19 @ 02:52 PM | polishing produced 4 integer solutions\n",
      "10/01/19 @ 02:52 PM | initialization produced 13 feasible solutions\n",
      "10/01/19 @ 02:52 PM | best objective value: 0.3227\n",
      "10/01/19 @ 02:52 PM | ------------------------------------------------------------\n",
      "10/01/19 @ 02:52 PM | completed initialization procedure\n",
      "10/01/19 @ 02:52 PM | ------------------------------------------------------------\n",
      "10/01/19 @ 02:52 PM | 1781 rows in lookup table\n",
      "CPXPARAM_Read_DataCheck                          1\n",
      "CPXPARAM_Threads                                 1\n",
      "CPXPARAM_Parallel                                1\n",
      "CPXPARAM_RandomSeed                              0\n",
      "CPXPARAM_TimeLimit                               200\n",
      "CPXPARAM_MIP_Tolerances_LowerCutoff              0.31246078650214987\n",
      "CPXPARAM_MIP_Tolerances_UpperCutoff              0.32266633349704726\n"
     ]
    },
    {
     "name": "stderr",
     "output_type": "stream",
     "text": [
      "Warning: Control callbacks may disable some MIP features.\n"
     ]
    },
    {
     "name": "stdout",
     "output_type": "stream",
     "text": [
      "Lazy constraint(s) or lazy constraint callback is present.\n",
      "    Disabling dual reductions (CPX_PARAM_REDUCE) in presolve.\n",
      "    Disabling non-linear reductions (CPX_PARAM_PRELINEAR) in presolve.\n",
      "         Disabling repeat represolve because of lazy constraint/incumbent callback.\n",
      "10/01/19 @ 02:52 PM | adding 253 initial cuts\n",
      "1 of 1 MIP starts provided solutions.\n",
      "MIP start 'mip_start_0' defined initial solution with objective 0.3227.\n",
      "Tried aggregator 1 time.\n",
      "Reduced MIP has 44 rows, 88 columns, and 171 nonzeros.\n",
      "Reduced MIP has 42 binaries, 44 generals, 0 SOSs, and 0 indicators.\n",
      "Presolve time = 0.02 sec. (0.11 ticks)\n",
      "Probing time = 0.00 sec. (0.03 ticks)\n",
      "MIP emphasis: balance optimality and feasibility.\n",
      "MIP search method: traditional branch-and-cut.\n",
      "Parallel mode: none, using 1 thread.\n",
      "Root relaxation solution time = 0.00 sec. (0.06 ticks)\n",
      "\n",
      "        Nodes                                         Cuts/\n",
      "   Node  Left     Objective  IInf  Best Integer    Best Bound    ItCnt     Gap         Variable B NodeID Parent  Depth\n",
      "\n",
      "*     0+    0                            0.3227        0.3125             3.17%\n",
      "      0     0        0.3125     1        0.3227        0.3125        1    3.16%\n",
      "      0     0        0.3125     4        0.3227       Cuts: 2        2    3.16%\n",
      "      0     0        0.3125     2        0.3227      Fract: 1        5    3.16%\n",
      "      0     2        0.3125     6        0.3227        0.3125        5    3.16%                        0             0\n",
      "Elapsed time = 0.41 sec. (3.79 ticks, tree = 0.01 MB, solutions = 1)\n",
      "   1976  1257        0.3143     3        0.3227        0.3125     8543    3.16%          rho_14 D   1976   1975     21\n",
      "   3180  2063        0.3132     8        0.3227        0.3125    13791    3.16%           rho_7 D   3180   3179     19\n",
      "   4100  2595        0.3203     0        0.3227        0.3125    17682    3.16%           rho_2 D   4100   4099     32\n",
      "   4840  3019        0.3141     8        0.3227        0.3125    21622    3.16%        alpha_11 U   4840    116     16\n",
      "   5535  3394        0.3203    12        0.3227        0.3125    24582    3.16%           rho_0 D   5535   5533     54\n",
      "   6226  3837        0.3181     4        0.3227        0.3125    27711    3.16%          rho_37 U   6226   6224     40\n",
      "   6885  4338        cutoff              0.3227        0.3125    30684    3.16%           rho_3 U   6885   6884     26\n",
      "   7470  4664        0.3222     0        0.3227        0.3125    33195    3.16%           rho_3 U   7470   7469     17\n",
      "   7962  4946        0.3125     5        0.3227        0.3125    36035    3.16%           rho_8 D   7962   7961     19\n",
      "   9888  6185        0.3183    13        0.3227        0.3125    48090    3.16%           rho_0 D   9888   1130     31\n",
      "Elapsed time = 9.20 sec. (3110.22 ticks, tree = 1.97 MB, solutions = 1)\n",
      "* 10440+ 6330                            0.3224        0.3125             3.10%\n",
      "  11440  6900        0.3217     0        0.3224        0.3125    58218    3.10%          rho_17 D  11440  11438     35\n",
      "  12884  7743        0.3221    12        0.3224        0.3125    67869    3.10%           rho_0 D  12884  12882     54\n",
      "  14381  8510        0.3182    11        0.3224        0.3125    77087    3.10%           rho_0 D  14381  14379     54\n",
      "  15778  9273        0.3152    14        0.3224        0.3125    86541    3.10%           rho_2 U  15778  15754     32\n",
      "  17110 10043        0.3202     8        0.3224        0.3125    96687    3.10%          rho_25 D  17110  17109     60\n",
      "  18332 10750        0.3125     9        0.3224        0.3125   107104    3.10%          rho_15 U  18332  18330     66\n",
      "  19586 11340        0.3186     6        0.3224        0.3125   116614    3.10%           rho_0 U  19586  19585     37\n",
      "  20830 12000        0.3158    15        0.3224        0.3125   125396    3.10%          rho_36 D  20830  20829     69\n",
      "  22080 12757        0.3167    12        0.3224        0.3125   135126    3.10%           rho_1 D  22080  22079     60\n",
      "  23307 13399        0.3125     9        0.3224        0.3125   144386    3.10%          rho_10 D  23307  23306     86\n",
      "Elapsed time = 21.52 sec. (12652.41 ticks, tree = 4.57 MB, solutions = 2)\n",
      "  24529 14010        0.3125    11        0.3224        0.3125   153435    3.10%           rho_1 D  24529  24528     56\n",
      "  25739 14627        0.3125    17        0.3224        0.3125   161299    3.10%           rho_7 U  25739  25737     18\n",
      "  27000 15361        0.3128    15        0.3224        0.3125   168901    3.10%           rho_1 D  27000  26999     40\n",
      "  28320 16153        0.3125     7        0.3224        0.3125   179281    3.10%           rho_2 D  28320  28319     61\n",
      "  29444 16643        0.3198     7        0.3224        0.3125   189970    3.10%          rho_23 U  29444  29443     18\n",
      "  30638 17315        0.3224     6        0.3224        0.3125   196232    3.10%          rho_29 D  30638  30636     52\n",
      "  31686 17735        0.3130    17        0.3224        0.3125   204360    3.10%          rho_15 D  31686  31685     48\n",
      "  32678 18342        0.3172    14        0.3224        0.3125   213669    3.10%           rho_0 U  32678  32677     72\n",
      "  33806 18757        cutoff              0.3224        0.3125   221201    3.10%          rho_28 U  33806  33805     53\n",
      "  34782 19297        0.3128    18        0.3224        0.3125   229662    3.10%          rho_15 D  34782  34781     86\n",
      "Elapsed time = 30.63 sec. (22195.01 ticks, tree = 7.22 MB, solutions = 2)\n",
      "* 34920+18939                            0.3218        0.3125             2.90%\n",
      "  35640 19296        0.3209     9        0.3218        0.3125   235948    2.90%          rho_38 D  35640  35639     90\n",
      "  36700 19675        0.3169    13        0.3218        0.3125   245249    2.90%          rho_25 D  36700  36698     57\n",
      "  37749 20055        0.3180    11        0.3218        0.3125   254645    2.90%          rho_23 D  37749  37747     52\n",
      "  38859 20418        0.3216     6        0.3218        0.3125   263710    2.90%           rho_3 D  38859  38858     73\n",
      "  39956 20843        0.3166    13        0.3218        0.3125   272937    2.90%          rho_23 D  39956  39955     59\n",
      "  41048 21202        0.3125     7        0.3218        0.3125   281698    2.90%           rho_2 U  41048  41047     25\n",
      "  42141 21545        0.3150     9        0.3218        0.3125   290208    2.90%           rho_6 U  42141  42055     40\n",
      "  43293 21949        cutoff              0.3218        0.3125   298227    2.90%           rho_0 U  43293  43292     21\n",
      "  44416 22502        0.3136    11        0.3218        0.3125   305817    2.90%          rho_25 D  44416  44415     48\n",
      "  45555 23066        cutoff              0.3218        0.3125   313817    2.90%          rho_41 U  45555  45554     57\n",
      "Elapsed time = 39.33 sec. (31738.68 ticks, tree = 8.59 MB, solutions = 3)\n",
      "  46523 23377        0.3189     5        0.3218        0.3125   322469    2.90%           rho_0 U  46523  46522     90\n",
      "  47509 23728        0.3196     2        0.3218        0.3125   331207    2.90%           rho_2 U  47509  47508     74\n",
      "  48535 24101        0.3196     2        0.3218        0.3125   339854    2.90%           rho_2 U  48535  48534     62\n",
      "  49520 24432        cutoff              0.3218        0.3125   347899    2.90%           rho_0 U  49520  49519     58\n",
      "  50444 24809        0.3125    11        0.3218        0.3125   355189    2.90%          rho_10 D  50444  50443     18\n",
      "  51472 25418        0.3153    16        0.3218        0.3125   362045    2.90%           rho_0 D  51472  51470     60\n",
      "  52492 25935        cutoff              0.3218        0.3125   368762    2.90%           rho_3 U  52492  52491     24\n",
      "  53409 26330        0.3140    15        0.3218        0.3125   375864    2.90%           rho_0 U  53409  53408     39\n",
      "  54390 26818        0.3152    15        0.3218        0.3125   382856    2.90%          rho_24 D  54390  54388     80\n",
      "  55377 27339        cutoff              0.3218        0.3125   389478    2.90%           rho_1 U  55377  55376     56\n",
      "Elapsed time = 47.45 sec. (41282.35 ticks, tree = 10.16 MB, solutions = 3)\n",
      "  56375 27889        0.3161    12        0.3218        0.3125   396971    2.90%           rho_6 D  56375  56374     57\n",
      "  57329 28326        cutoff              0.3218        0.3125   403584    2.90%          rho_41 U  57329  57328     60\n",
      "  58217 28706        0.3138    17        0.3218        0.3125   409544    2.90%          rho_16 D  58217  58216     39\n",
      "  59203 29273        0.3139    15        0.3218        0.3125   416061    2.90%           rho_5 D  59203  59201     36\n",
      "  60090 29763        0.3128    16        0.3218        0.3125   422356    2.90%           rho_6 U  60090  23865     79\n",
      "  60926 30237        0.3125     6        0.3218        0.3125   428102    2.90%          rho_15 U  60926  60924     55\n",
      "  61670 30565        0.3125    25        0.3218        0.3125   433748    2.90%           rho_0 D  61670  61668     96\n",
      "  62561 30876        0.3126    14        0.3218        0.3125   441397    2.90%          rho_30 D  62561  62560     85\n",
      "  63457 31386        0.3130    13        0.3218        0.3125   448460    2.90%           rho_7 D  63457  63456     59\n",
      "  64302 31832        0.3132    19        0.3218        0.3125   454653    2.90%           rho_0 U  64302  64301     59\n",
      "Elapsed time = 55.61 sec. (50831.76 ticks, tree = 11.81 MB, solutions = 3)\n",
      "  65260 32266        0.3125    10        0.3218        0.3125   461207    2.90%           rho_6 D  65260  65259     78\n",
      "  66158 32708        0.3125     5        0.3218        0.3125   467781    2.90%          rho_15 U  66158  66156     76\n",
      "  67040 33157        0.3125     5        0.3218        0.3125   474398    2.90%          rho_15 U  67040  67038     60\n",
      "  67778 33553        0.3132    19        0.3218        0.3125   481920    2.90%           rho_6 U  67778  66073     49\n",
      "  68421 33925        0.3132    20        0.3218        0.3125   488686    2.90%           rho_0 U  68421  68420     74\n",
      "  69087 34302        0.3186    16        0.3218        0.3125   495444    2.90%           rho_2 U  69087  69086     71\n",
      "  69730 34691        0.3173    16        0.3218        0.3125   502380    2.90%           rho_6 U  69730  69728     79\n",
      "  70370 35050        0.3125    10        0.3218        0.3125   509205    2.90%           rho_6 D  70370  65200     49\n",
      "  71009 35412        0.3135    14        0.3218        0.3125   516323    2.90%           rho_2 U  71009  71008     57\n",
      "  71690 35751        0.3125    11        0.3218        0.3125   523201    2.90%          rho_30 D  71690  71689     48\n",
      "Elapsed time = 63.31 sec. (60385.10 ticks, tree = 14.65 MB, solutions = 3)\n",
      "  72364 36056        0.3135    15        0.3218        0.3125   529817    2.90%           rho_2 U  72364  72363     59\n",
      "  73020 36351        0.3153    13        0.3218        0.3125   536395    2.90%          rho_30 D  73020  73019     40\n",
      "  73689 36672        0.3155    15        0.3218        0.3125   543255    2.90%           rho_0 D  73689  73687     83\n",
      "  74369 36998        0.3125    13        0.3218        0.3125   549931    2.90%           rho_7 D  74369   4616     15\n",
      "  74973 37292        0.3209     7        0.3218        0.3125   556940    2.90%           rho_2 D  74973  74971     71\n",
      "  75910 37652        cutoff              0.3218        0.3125   563366    2.90%          rho_38 D  75910  75908     42\n",
      "  76882 38192        0.3125    15        0.3218        0.3125   570069    2.90%          rho_13 U  76882  40547     46\n",
      "  77837 38649        0.3214     3        0.3218        0.3125   577541    2.90%          rho_14 D  77837  77835     24\n",
      "  78660 39107        0.3209     0        0.3218        0.3125   584031    2.90%          rho_37 U  78660  78659     43\n",
      "  79505 39514        0.3144     9        0.3218        0.3125   590830    2.90%           rho_5 D  79505  79504     54\n",
      "Elapsed time = 71.78 sec. (69935.58 ticks, tree = 16.08 MB, solutions = 3)\n",
      "  80248 39903        0.3168    19        0.3218        0.3125   597271    2.90%          rho_30 U  80248   9387     20\n",
      "  81017 40301        0.3163    11        0.3218        0.3125   602660    2.90%          rho_25 U  81017  81016     28\n",
      "  81750 40795        0.3125     5        0.3218        0.3125   608128    2.90%           rho_0 D  81750  81748     57\n",
      "  82414 41140        0.3200     9        0.3218        0.3125   614127    2.90%           rho_0 U  82414  82413     49\n",
      "  83028 41427        0.3132    23        0.3218        0.3125   620446    2.90%          rho_20 U  83028  82998     44\n",
      "  83620 41766        0.3125    10        0.3218        0.3125   626787    2.90%          rho_15 D  83620  83619     38\n",
      "  84214 42066        cutoff              0.3218        0.3125   633140    2.90%           rho_6 U  84214  84213     42\n",
      "  84800 42355        0.3166    14        0.3218        0.3125   639428    2.90%           rho_2 D  84800  84799     36\n",
      "  85393 42697        0.3178    22        0.3218        0.3125   645964    2.90%           rho_0 D  85393  85391     41\n",
      "  85980 43040        0.3132    23        0.3218        0.3125   652653    2.90%           rho_0 U  85980  85979     48\n",
      "Elapsed time = 80.22 sec. (79500.39 ticks, tree = 17.43 MB, solutions = 3)\n",
      "  86617 43381        0.3182    13        0.3218        0.3125   658759    2.90%          rho_13 U  86617  86616     75\n",
      "  87315 43748        0.3141    17        0.3218        0.3125   663717    2.90%          rho_15 U  87315  87313     47\n",
      "  88010 44026        0.3129    15        0.3218        0.3125   669236    2.90%          rho_15 U  88010  88008     61\n",
      "  88706 44275        0.3188    11        0.3218        0.3125   675273    2.90%          rho_30 U  88706  67447     86\n",
      "  89520 44561        0.3217    15        0.3218        0.3125   682457    2.90%           rho_1 D  89520  89519     45\n",
      "  90360 44911        0.3125     8        0.3218        0.3125   689882    2.90%           rho_7 U  90360  90358     28\n",
      "  91256 45465        0.3213     9        0.3218        0.3125   697241    2.90%          rho_14 D  91256  91254     54\n",
      "  92020 45796        cutoff              0.3218        0.3125   704995    2.90%          rho_40 D  92020  92019     68\n",
      "  92761 46129        0.3134    15        0.3218        0.3125   712331    2.90%          rho_13 U  92761  16338     49\n",
      "* 94000+46631                            0.3218        0.3125             2.90%\n",
      "  95857 47383        0.3154    11        0.3218        0.3125   737814    2.90%          rho_16 D  95857  95855     78\n",
      "Elapsed time = 89.98 sec. (91907.13 ticks, tree = 19.14 MB, solutions = 4)\n",
      "  98999 48622        0.3210    12        0.3218        0.3125   761277    2.90%           rho_5 U  98999  98998     46\n",
      " 101901 49876        0.3125     4        0.3218        0.3125   789478    2.90%          rho_15 U 101901 101899     39\n",
      " 104878 50926        0.3190    12        0.3218        0.3125   818337    2.90%           rho_0 D 104878 104877     82\n",
      " 107836 52200        0.3132    16        0.3218        0.3125   843756    2.90%           rho_8 U 107836 107454     54\n",
      " 110773 53399        0.3199    11        0.3218        0.3125   869373    2.90%           rho_2 D 110773 110771     27\n",
      " 113825 54771        0.3134    19        0.3218        0.3125   893999    2.90%           rho_6 U 113825 113090     48\n",
      " 116855 55769        0.3127    16        0.3218        0.3125   915847    2.90%           rho_1 D 116855 116854    100\n",
      " 119858 56879        0.3185    14        0.3218        0.3125   936858    2.90%          rho_23 U 119858 119857     54\n",
      " 122728 58074        cutoff              0.3218        0.3125   960770    2.90%          rho_18 U 122728 122727     57\n",
      " 125519 59414        0.3125     9        0.3218        0.3125   984145    2.90%          rho_15 U 125519 125518     52\n",
      "Elapsed time = 122.34 sec. (130062.98 ticks, tree = 23.89 MB, solutions = 4)\n",
      " 128258 60869        0.3127    16        0.3218        0.3125  1008539    2.90%           rho_0 U 128258 128257     55\n",
      " 130939 62166        0.3125    10        0.3218        0.3125  1030340    2.90%          rho_15 U 130939 130913     55\n",
      " 133817 63212        cutoff              0.3218        0.3125  1053668    2.90%          rho_24 U 133817 133816     65\n",
      " 136475 64325        0.3125     5        0.3218        0.3125  1078385    2.90%           rho_0 D 136475 136473     55\n",
      " 139380 65393        cutoff              0.3218        0.3125  1102863    2.90%          rho_40 D 139380 139379     73\n",
      " 141975 66086        0.3213    11        0.3218        0.3125  1126722    2.90%          rho_17 D 141975 141973     78\n",
      " 144569 66831        0.3212    11        0.3218        0.3125  1149825    2.90%          rho_25 D 144569 144567     65\n",
      " 147134 67555        cutoff              0.3218        0.3125  1172795    2.90%          rho_17 U 147134 147133     94\n",
      " 149662 68240        cutoff              0.3218        0.3125  1195433    2.90%          rho_14 U 149662 149661     68\n",
      " 152215 68903        0.3135    18        0.3218        0.3125  1217860    2.90%           rho_0 U 152215 152214     54\n",
      "Elapsed time = 156.45 sec. (168214.15 ticks, tree = 30.49 MB, solutions = 4)\n",
      " 154790 69740        0.3181     8        0.3218        0.3125  1241014    2.90%          rho_14 U 154790 154789     86\n",
      " 157345 70779        cutoff              0.3218        0.3125  1264691    2.90%          rho_36 U 157345 157344     90\n",
      " 159814 71775        0.3202    20        0.3218        0.3125  1289001    2.90%           rho_5 U 159814 159812     91\n",
      " 162338 72691        0.3216     9        0.3218        0.3125  1312320    2.90%           rho_5 U 162338 162337     67\n",
      " 164928 73781        0.3125     8        0.3218        0.3125  1335652    2.90%           rho_0 D 164928 164926     68\n",
      " 167575 75148        0.3199     9        0.3218        0.3125  1358987    2.90%          rho_17 D 167575 167573     46\n",
      " 170228 76243        0.3155    24        0.3218        0.3125  1379696    2.90%          rho_23 U 170228 170227     81\n",
      " 172867 77570        0.3136    11        0.3218        0.3125  1401447    2.90%           rho_6 D 172867 172865     44\n",
      " 175582 78900        0.3205    17        0.3218        0.3125  1422902    2.90%          rho_10 D 175582 175580     59\n",
      " 178089 80042        0.3168    15        0.3218        0.3125  1444215    2.90%          rho_23 D 178089 178088     72\n",
      "Elapsed time = 182.84 sec. (206369.43 ticks, tree = 35.14 MB, solutions = 4)\n",
      " 180559 81086        cutoff              0.3218        0.3125  1465122    2.90%           rho_0 U 180559 180558     38\n",
      " 183067 82375        cutoff              0.3218        0.3125  1487561    2.90%          rho_17 U 183067 183066     67\n",
      " 185423 83312        0.3154    13        0.3218        0.3125  1511159    2.90%           rho_1 U 185423 184634     31\n",
      " 187757 84271        0.3198     5        0.3218        0.3125  1534171    2.90%          rho_16 U 187757 187756     65\n",
      " 190100 85650        0.3178    11        0.3218        0.3125  1555843    2.90%           rho_5 D 190100 190098     57\n",
      " 192555 86665        cutoff              0.3218        0.3125  1576427    2.90%           rho_5 D 192555 192554     42\n",
      " 194951 87704        0.3202    12        0.3218        0.3125  1596894    2.90%           rho_0 D 194951 194950     59\n",
      "\n",
      "Gomory fractional cuts applied:  1\n",
      "User cuts applied:  1569\n",
      "\n",
      "Root node processing (before b&c):\n",
      "  Real time             =    0.41 sec. (3.99 ticks)\n",
      "Sequential b&c:\n",
      "  Real time             =  199.61 sec. (234388.18 ticks)\n",
      "                          ------------\n",
      "Total (root+branch&cut) =  200.02 sec. (234392.18 ticks)\n",
      "+----------------------------------------------+------------------+-----------+\n",
      "| Pr(Y = +1) = 1.0/(1.0 + exp(-(-4 + score))   |                  |           |\n",
      "| ============================================ | ================ | ========= |\n",
      "| p_arrest>=2                                  |         1 points |   + ..... |\n",
      "| p_arrest>=6                                  |         1 points |   + ..... |\n",
      "| p_felony>=1                                  |         1 points |   + ..... |\n",
      "| p_misdemeanor>=1                             |         1 points |   + ..... |\n",
      "| ============================================ | ================ | ========= |\n",
      "| ADD POINTS FROM ROWS 1 to 4                  |            SCORE |   = ..... |\n",
      "+----------------------------------------------+------------------+-----------+\n",
      "model_id, score_thresholds 0 {'rank_abs': [0]}\n",
      "get_disparity_predefined_group()\n"
     ]
    },
    {
     "name": "stderr",
     "output_type": "stream",
     "text": [
      "C:\\Users\\binha\\Documents\\Duke\\Cynthia Research\\psa-analysis - test2\\utils\\fairness_functions.py:82: RuntimeWarning:\n",
      "\n",
      "invalid value encountered in longlong_scalars\n",
      "\n",
      "C:\\Users\\binha\\Documents\\Duke\\Cynthia Research\\psa-analysis - test2\\utils\\fairness_functions.py:95: RuntimeWarning:\n",
      "\n",
      "divide by zero encountered in longlong_scalars\n",
      "\n"
     ]
    },
    {
     "name": "stdout",
     "output_type": "stream",
     "text": [
      "setting c0 = 0.0 to ensure that intercept is not penalized\n",
      "10/01/19 @ 02:55 PM | 1781 rows in lookup table\n",
      "10/01/19 @ 02:55 PM | ------------------------------------------------------------\n",
      "10/01/19 @ 02:55 PM | runnning initialization procedure\n",
      "10/01/19 @ 02:55 PM | ------------------------------------------------------------\n",
      "10/01/19 @ 02:55 PM | CPA produced 2 cuts\n",
      "10/01/19 @ 02:55 PM | running naive rounding on 58 solutions\n",
      "10/01/19 @ 02:55 PM | best objective value: 0.3208\n",
      "10/01/19 @ 02:55 PM | rounding produced 5 integer solutions\n",
      "10/01/19 @ 02:55 PM | best objective value is 0.3293\n",
      "10/01/19 @ 02:55 PM | running sequential rounding on 58 solutions\n",
      "10/01/19 @ 02:55 PM | best objective value: 0.3208\n",
      "10/01/19 @ 02:55 PM | sequential rounding produced 6 integer solutions\n",
      "10/01/19 @ 02:55 PM | best objective value: 0.3242\n",
      "10/01/19 @ 02:55 PM | polishing 11 solutions\n",
      "10/01/19 @ 02:55 PM | best objective value: 0.3242\n",
      "10/01/19 @ 02:55 PM | polishing produced 4 integer solutions\n",
      "10/01/19 @ 02:55 PM | initialization produced 12 feasible solutions\n",
      "10/01/19 @ 02:55 PM | best objective value: 0.3230\n",
      "10/01/19 @ 02:55 PM | ------------------------------------------------------------\n",
      "10/01/19 @ 02:55 PM | completed initialization procedure\n",
      "10/01/19 @ 02:55 PM | ------------------------------------------------------------\n",
      "10/01/19 @ 02:55 PM | 1781 rows in lookup table\n",
      "CPXPARAM_Read_DataCheck                          1\n",
      "CPXPARAM_Threads                                 1\n",
      "CPXPARAM_Parallel                                1\n",
      "CPXPARAM_RandomSeed                              0\n",
      "CPXPARAM_TimeLimit                               200\n",
      "CPXPARAM_MIP_Tolerances_LowerCutoff              0.31324338868512469\n",
      "CPXPARAM_MIP_Tolerances_UpperCutoff              0.32303471745010565\n"
     ]
    },
    {
     "name": "stderr",
     "output_type": "stream",
     "text": [
      "Warning: Control callbacks may disable some MIP features.\n"
     ]
    },
    {
     "name": "stdout",
     "output_type": "stream",
     "text": [
      "Lazy constraint(s) or lazy constraint callback is present.\n",
      "    Disabling dual reductions (CPX_PARAM_REDUCE) in presolve.\n",
      "    Disabling non-linear reductions (CPX_PARAM_PRELINEAR) in presolve.\n",
      "         Disabling repeat represolve because of lazy constraint/incumbent callback.\n",
      "10/01/19 @ 02:55 PM | adding 254 initial cuts\n",
      "1 of 1 MIP starts provided solutions.\n",
      "MIP start 'mip_start_0' defined initial solution with objective 0.3230.\n",
      "Tried aggregator 1 time.\n",
      "Reduced MIP has 44 rows, 88 columns, and 171 nonzeros.\n",
      "Reduced MIP has 42 binaries, 44 generals, 0 SOSs, and 0 indicators.\n",
      "Presolve time = 0.00 sec. (0.11 ticks)\n",
      "Probing time = 0.00 sec. (0.03 ticks)\n",
      "MIP emphasis: balance optimality and feasibility.\n",
      "MIP search method: traditional branch-and-cut.\n",
      "Parallel mode: none, using 1 thread.\n",
      "Root relaxation solution time = 0.00 sec. (0.06 ticks)\n",
      "\n",
      "        Nodes                                         Cuts/\n",
      "   Node  Left     Objective  IInf  Best Integer    Best Bound    ItCnt     Gap         Variable B NodeID Parent  Depth\n",
      "\n",
      "*     0+    0                            0.3230        0.3132             3.03%\n",
      "      0     0        0.3132     1        0.3230        0.3132        1    3.03%\n",
      "      0     0        0.3132     4        0.3230       Cuts: 2        2    3.03%\n",
      "      0     0        0.3132     2        0.3230      Fract: 1        5    3.03%\n",
      "      0     2        0.3132     2        0.3230        0.3132        5    3.03%                        0             0\n",
      "Elapsed time = 0.11 sec. (2.96 ticks, tree = 0.01 MB, solutions = 1)\n",
      "   1871   953        cutoff              0.3230        0.3132     7609    3.03%          rho_27 D   1871   1870     24\n",
      "   3145  1862        0.3175    16        0.3230        0.3132    12857    3.03%           rho_0 D   3145   3143     94\n",
      "   4068  2448        0.3132     7        0.3230        0.3132    17951    3.03%           rho_0 D   4068   4067     39\n",
      "   4863  2981        cutoff              0.3230        0.3132    21510    3.03%          rho_15 D   4863   4862     61\n",
      "   5614  3464        cutoff              0.3230        0.3132    25042    3.03%           rho_0 U   5614   5581     26\n",
      "   6220  3830        0.3135     9        0.3230        0.3132    28602    3.03%           rho_7 D   6220   6219     19\n",
      "   6758  4133        0.3224     6        0.3230        0.3132    31974    3.03%          rho_28 D   6758   6757     55\n",
      "   7242  4388        cutoff              0.3230        0.3132    35198    3.03%          rho_26 D   7242   7240     31\n",
      "   7730  4549        0.3132    17        0.3230        0.3132    38501    3.03%          rho_22 D   7730   7729     19\n",
      "   9823  5567        0.3175     4        0.3230        0.3132    50971    3.03%          rho_22 U   9823   9821     50\n",
      "Elapsed time = 5.00 sec. (3103.61 ticks, tree = 1.81 MB, solutions = 1)\n",
      "  11548  6469        0.3160     8        0.3230        0.3132    62603    3.03%           rho_6 U  11548  11546     39\n",
      "  12998  7326        0.3139    15        0.3230        0.3132    71884    3.03%           rho_4 D  12998  12997     34\n",
      "  14298  7973        0.3221     4        0.3230        0.3132    80411    3.03%          rho_25 D  14298  14296     45\n",
      "  15795  8635        0.3150    18        0.3230        0.3132    90529    3.03%           rho_6 D  15795  15794     28\n",
      "  17088  9329        0.3154    14        0.3230        0.3132    99598    3.03%           rho_8 U  17088  17087     26\n",
      "  18074  9909        0.3164    12        0.3230        0.3132   107116    3.03%           rho_0 U  18074  18073     64\n",
      "  19130 10427        0.3202     8        0.3230        0.3132   113439    3.03%           rho_4 D  19130  19128     31\n",
      "  20072 10913        0.3213    13        0.3230        0.3132   120750    3.03%          rho_41 D  20072  20070     43\n",
      "  21200 11399        0.3220     4        0.3230        0.3132   127974    3.03%          rho_31 D  21200  21199     42\n",
      "  22330 11800        cutoff              0.3230        0.3132   136284    3.03%           rho_4 U  22330  22329     36\n",
      "Elapsed time = 15.55 sec. (12651.63 ticks, tree = 4.20 MB, solutions = 1)\n",
      "  23438 12380        0.3160    10        0.3230        0.3132   145584    3.03%          rho_38 U  23438   5828     14\n",
      "  24588 12854        0.3151    11        0.3230        0.3132   153348    3.03%          rho_15 D  24588  24586     41\n",
      "  25794 13558        0.3220     6        0.3230        0.3132   160446    3.03%           rho_0 U  25794  25793     24\n",
      "  26832 14065        0.3221     1        0.3230        0.3132   168824    3.03%          rho_36 U  26832  26831     29\n",
      "  27830 14602        0.3132    11        0.3230        0.3132   175904    3.03%          rho_12 U  27830  27827     23\n",
      "  28579 15084        0.3133    13        0.3230        0.3132   181083    3.03%           rho_0 D  28579  28577     44\n",
      "  29329 15499        cutoff              0.3230        0.3132   187491    3.03%          rho_22 U  29329  29328     30\n",
      "  30090 15772        0.3142    15        0.3230        0.3132   193375    3.03%           rho_2 D  30090  30088     32\n",
      "  31110 16198        cutoff              0.3230        0.3132   199932    3.03%           rho_7 U  31110  31109     33\n",
      "  32010 16613        0.3224     9        0.3230        0.3132   207141    3.03%          rho_14 U  32010  32009     39\n",
      "Elapsed time = 25.31 sec. (22200.83 ticks, tree = 6.64 MB, solutions = 1)\n",
      "  32886 17081        0.3153    18        0.3230        0.3132   213913    3.03%          rho_21 U  32886  32884     18\n",
      "  33680 17416        0.3132    10        0.3230        0.3132   220453    3.03%          rho_10 U  33680   2929     12\n",
      "  34505 17761        0.3200     9        0.3230        0.3132   226907    3.03%          rho_26 U  34505  34504     37\n",
      "  35348 18070        0.3229     7        0.3230        0.3132   232883    3.03%          rho_27 D  35348  35347     47\n",
      "  36193 18448        0.3224    15        0.3230        0.3132   238963    3.03%          rho_20 D  36193  36191     18\n",
      "  36963 18739        0.3132    16        0.3230        0.3132   245211    3.03%           rho_8 D  36963  34391     16\n",
      "  37754 19114        0.3188    11        0.3230        0.3132   251307    3.03%           rho_6 D  37754  37753     40\n",
      "  38577 19418        0.3163    10        0.3230        0.3132   258762    3.03%           rho_0 D  38577  38575     60\n",
      "  39364 19658        0.3221     4        0.3230        0.3132   264864    3.03%          rho_38 U  39364  39363     87\n",
      "  40149 19916        0.3229     5        0.3230        0.3132   271380    3.03%           rho_3 D  40149  40147     45\n",
      "Elapsed time = 33.02 sec. (31744.24 ticks, tree = 7.93 MB, solutions = 1)\n",
      "  40900 20151        0.3162    12        0.3230        0.3132   277756    3.03%           rho_6 D  40900  40717     73\n",
      "  41665 20421        cutoff              0.3230        0.3132   284166    3.03%          rho_37 D  41665  41664     87\n",
      "  42447 20696        cutoff              0.3230        0.3132   290242    3.03%          rho_28 U  42447  42446     50\n",
      "  43187 21006        0.3140    18        0.3230        0.3132   296079    3.03%          rho_15 U  43187  43185     58\n",
      "  43906 21370        cutoff              0.3230        0.3132   302480    3.03%          rho_28 D  43906  43905     38\n",
      "  44589 21669        0.3214     8        0.3230        0.3132   309311    3.03%          rho_30 D  44589  44586     22\n",
      "  45311 22011        0.3229     3        0.3230        0.3132   315024    3.03%          rho_25 D  45311  45310     38\n",
      "  46076 22455        cutoff              0.3230        0.3132   320799    3.03%        alpha_14 U  46076  46075     42\n",
      "  46690 22786        0.3180     6        0.3230        0.3132   328080    3.03%          rho_36 D  46690  46689     28\n",
      "  47426 23072        cutoff              0.3230        0.3132   333302    3.03%           rho_8 U  47426  47425     40\n",
      "Elapsed time = 42.05 sec. (41291.81 ticks, tree = 9.18 MB, solutions = 1)\n",
      "  48196 23573        0.3148     9        0.3230        0.3132   338651    3.03%           rho_0 U  48196  48194     27\n",
      "  48845 23889        0.3191     9        0.3230        0.3132   344477    3.03%           rho_7 D  48845  48844     41\n",
      "  49488 24200        0.3138    13        0.3230        0.3132   350261    3.03%           rho_2 D  49488  23336     24\n",
      "  50147 24523        cutoff              0.3230        0.3132   356184    3.03%          rho_23 U  50147  50145     27\n",
      "  50798 24767        0.3141    10        0.3230        0.3132   361712    3.03%           rho_7 D  50798  50796     27\n",
      "  51448 25026        0.3179    10        0.3230        0.3132   367200    3.03%          rho_30 D  51448  51446     16\n",
      "  52097 25273        0.3207    14        0.3230        0.3132   372657    3.03%          rho_30 U  52097  52095     24\n",
      "  52792 25610        0.3193    10        0.3230        0.3132   378146    3.03%          rho_15 D  52792   4069     41\n",
      "  53427 25860        0.3135    11        0.3230        0.3132   383653    3.03%           rho_2 U  53427  53426     24\n",
      "  54070 26087        cutoff              0.3230        0.3132   388948    3.03%           rho_3 U  54070  54069     44\n",
      "Elapsed time = 50.14 sec. (50837.06 ticks, tree = 10.42 MB, solutions = 1)\n",
      "  54739 26372        0.3217    20        0.3230        0.3132   393925    3.03%           rho_0 D  54739  54737     55\n",
      "  55539 26809        0.3211    16        0.3230        0.3132   398393    3.03%           rho_9 D  55539  55014     25\n",
      "  56283 27226        cutoff              0.3230        0.3132   404181    3.03%           rho_0 U  56283  56282     44\n",
      "  56839 27469        0.3132    14        0.3230        0.3132   410749    3.03%           rho_7 U  56839  56440     26\n",
      "  57534 27910        0.3201     2        0.3230        0.3132   415603    3.03%         alpha_2 D  57534  57533    111\n",
      "  58218 28307        0.3199    11        0.3230        0.3132   420547    3.03%          rho_36 D  58218  58216     64\n",
      "  58809 28532        0.3218     9        0.3230        0.3132   426037    3.03%          rho_27 D  58809  58808     45\n",
      "  59405 28776        0.3216    10        0.3230        0.3132   431537    3.03%          rho_11 D  59405  59403     31\n",
      "  60120 29136        0.3167    11        0.3230        0.3132   436380    3.03%           rho_0 D  60120  60118     87\n",
      "  60765 29407        0.3230     5        0.3230        0.3132   441392    3.03%           rho_7 U  60765  60762     24\n",
      "Elapsed time = 58.98 sec. (60380.86 ticks, tree = 11.80 MB, solutions = 1)\n",
      "  61380 29732        cutoff              0.3230        0.3132   446427    3.03%          rho_36 U  61380  61379     30\n",
      "  61940 29985        0.3199    15        0.3230        0.3132   451928    3.03%           rho_9 D  61940  61938     25\n",
      "  62580 30322        cutoff              0.3230        0.3132   457258    3.03%          rho_15 U  62580  62570     18\n",
      "  63213 30626        0.3169    11        0.3230        0.3132   462210    3.03%          rho_14 U  63213  63212     25\n",
      "  63820 30909        0.3189     9        0.3230        0.3132   467102    3.03%          rho_14 U  63820  63819     36\n",
      "  64556 31340        0.3132    14        0.3230        0.3132   471387    3.03%           rho_2 D  64556  64555     29\n",
      "  65163 31735        0.3132     8        0.3230        0.3132   475130    3.03%          rho_26 D  65163  65162     26\n",
      "  65747 32117        0.3132    17        0.3230        0.3132   479225    3.03%          rho_30 D  65747  65746     25\n",
      "  66229 32395        0.3205    14        0.3230        0.3132   484023    3.03%          rho_18 D  66229  66228     38\n",
      "  66772 32732        0.3132    16        0.3230        0.3132   488004    3.03%           rho_7 D  66772  66771     54\n",
      "Elapsed time = 66.44 sec. (69923.05 ticks, tree = 13.23 MB, solutions = 1)\n",
      "  67190 32966        0.3132    11        0.3230        0.3132   494965    3.03%           rho_0 D  67190  67188     95\n",
      "  67627 33118        0.3132    13        0.3230        0.3132   501759    3.03%          rho_15 U  67627  67625     75\n",
      "  68064 33304        0.3132    12        0.3230        0.3132   507953    3.03%          rho_15 U  68064  68063     77\n",
      "  68525 33536        0.3225    15        0.3230        0.3132   513821    3.03%          rho_12 D  68525  68523     69\n",
      "  69000 33758        0.3132     9        0.3230        0.3132   519703    3.03%           rho_0 D  69000  68999     75\n",
      "  69461 33934        0.3162    16        0.3230        0.3132   526035    3.03%          rho_11 D  69461  69460     33\n",
      "  70032 34204        cutoff              0.3230        0.3132   533062    3.03%           rho_0 U  70032  70031     67\n",
      "  70575 34450        cutoff              0.3230        0.3132   539912    3.03%           rho_6 U  70575  70574     74\n",
      "  71133 34719        0.3132    15        0.3230        0.3132   546904    3.03%          rho_15 D  71133  71132     41\n",
      "  71676 35015        0.3142    14        0.3230        0.3132   552796    3.03%           rho_0 D  71676  71674     38\n",
      "Elapsed time = 74.16 sec. (79468.25 ticks, tree = 15.57 MB, solutions = 1)\n",
      "  72244 35290        0.3146    19        0.3230        0.3132   557978    3.03%          rho_15 D  72244  72243     28\n",
      "  72833 35616        0.3164    18        0.3230        0.3132   562311    3.03%           rho_1 D  72833  72832     27\n",
      "  73400 35939        0.3164    14        0.3230        0.3132   565936    3.03%          rho_16 D  73400  73398     54\n",
      "  73846 36134        0.3197     8        0.3230        0.3132   571240    3.03%           rho_7 D  73846  73844     25\n",
      "  74314 36390        cutoff              0.3230        0.3132   575440    3.03%          rho_18 U  74314  74313     36\n",
      "  74810 36644        0.3226     0        0.3230        0.3132   580290    3.03%          rho_27 U  74810  74809     32\n",
      "  75343 36982        0.3132    20        0.3230        0.3132   584151    3.03%           rho_8 D  75343  74171     21\n",
      "  75880 37327        0.3154    19        0.3230        0.3132   588388    3.03%           rho_0 D  75880  75879     49\n",
      "  76370 37533        0.3135    19        0.3230        0.3132   592902    3.03%          rho_15 D  76370  76369     33\n",
      "  78766 38523        0.3154    10        0.3230        0.3132   609996    3.03%          rho_22 D  78766  78765     27\n",
      "Elapsed time = 83.56 sec. (91894.58 ticks, tree = 17.11 MB, solutions = 1)\n",
      "  80971 39551        0.3132    15        0.3230        0.3132   633965    3.03%           rho_0 D  80971  80969     30\n",
      "  83041 40563        0.3181    11        0.3230        0.3132   656503    3.03%           rho_8 D  83041  83039     59\n",
      "  85231 41400        0.3181    11        0.3230        0.3132   676136    3.03%          rho_30 D  85231  85230     24\n",
      "  87360 42457        cutoff              0.3230        0.3132   695916    3.03%          rho_36 U  87360  87358     73\n",
      "  89668 43722        0.3132    10        0.3230        0.3132   714617    3.03%           rho_7 U  89668  89667     25\n",
      "  91544 44744        0.3139    23        0.3230        0.3132   732013    3.03%           rho_0 D  91544  91542     27\n",
      "  93423 45902        0.3148    20        0.3230        0.3132   746644    3.03%           rho_0 U  93423  93422     88\n",
      "  95369 46721        0.3180    12        0.3230        0.3132   764100    3.03%           rho_4 D  95369  95368     50\n",
      "  97610 47730        cutoff              0.3230        0.3132   783543    3.03%          rho_16 U  97610  97609     24\n",
      "  99837 48580        0.3137    17        0.3230        0.3132   801927    3.03%          rho_15 D  99837  99836     60\n",
      "Elapsed time = 111.73 sec. (130049.34 ticks, tree = 21.63 MB, solutions = 1)\n",
      " 101719 49330        0.3168    16        0.3230        0.3132   823150    3.03%          rho_16 D 101719 101717     70\n",
      " 103725 50163        0.3196    10        0.3230        0.3132   841905    3.03%          rho_14 U 103725 103724     34\n",
      " 105921 51287        0.3134    18        0.3230        0.3132   859788    3.03%           rho_7 D 105921  32998     26\n",
      " 108007 52095        cutoff              0.3230        0.3132   877948    3.03%        alpha_28 U 108007 108006     49\n",
      " 109901 52791        0.3144    19        0.3230        0.3132   895904    3.03%          rho_30 D 109901 109900     26\n",
      " 111906 53702        0.3168    17        0.3230        0.3132   912908    3.03%           rho_6 D 111906 111905     59\n",
      " 113826 54506        0.3132     9        0.3230        0.3132   930916    3.03%           rho_7 U 113826 113825     17\n",
      " 115820 55614        0.3162    17        0.3230        0.3132   947701    3.03%          rho_36 D 115820 115819     32\n",
      " 117683 56420        0.3147    12        0.3230        0.3132   965873    3.03%           rho_6 U 117683 117681     54\n",
      " 119501 57006        0.3133    13        0.3230        0.3132   983483    3.03%          rho_23 D 119501 119500     45\n",
      "Elapsed time = 138.06 sec. (168218.22 ticks, tree = 25.52 MB, solutions = 1)\n",
      " 121370 57634        0.3132     3        0.3230        0.3132  1000743    3.03%          rho_15 U 121370 121368     73\n",
      " 123178 58218        0.3133    15        0.3230        0.3132  1018244    3.03%          rho_23 D 123178 123177     73\n",
      " 124898 58700        cutoff              0.3230        0.3132  1035410    3.03%           rho_0 U 124898 124897     46\n",
      " 126630 59125        0.3163    14        0.3230        0.3132  1052463    3.03%          rho_26 D 126630 126629     54\n",
      " 128386 59640        cutoff              0.3230        0.3132  1070065    3.03%           rho_0 U 128386 128385     25\n",
      " 130450 60514        0.3176    20        0.3230        0.3132  1085132    3.03%           rho_6 D 130450 130449     46\n",
      " 132336 61123        cutoff              0.3230        0.3132  1102188    3.03%           rho_3 U 132336 132335     70\n",
      " 134216 61928        0.3230    11        0.3230        0.3132  1119697    3.03%          rho_40 D 134216 134214     26\n",
      " 136106 62799        0.3134    21        0.3230        0.3132  1138634    3.03%           rho_1 D 136106 136105     22\n",
      " 137946 63390        0.3147    13        0.3230        0.3132  1155601    3.03%           rho_6 U 137946  81377     34\n",
      "Elapsed time = 161.45 sec. (206380.30 ticks, tree = 28.49 MB, solutions = 1)\n",
      " 139917 64206        0.3226     7        0.3230        0.3132  1172131    3.03%          rho_14 D 139917 139915     44\n",
      " 141778 65014        0.3229     8        0.3230        0.3132  1189171    3.03%          rho_16 U 141778 141777     61\n",
      " 143793 65751        0.3192    11        0.3230        0.3132  1203384    3.03%          rho_17 D 143793 143791     84\n",
      " 145723 66500        0.3154    17        0.3230        0.3132  1220043    3.03%           rho_4 D 145723 145722     41\n",
      " 147506 67302        0.3166    11        0.3230        0.3132  1238162    3.03%           rho_0 D 147506 147504     42\n",
      " 149270 68194        0.3152    14        0.3230        0.3132  1256778    3.03%          rho_15 U 149270 149268     59\n",
      " 151017 69179        0.3132    14        0.3230        0.3132  1274889    3.03%           rho_0 D 151017 151015     69\n",
      " 152616 69852        0.3217    12        0.3230        0.3132  1293915    3.03%          rho_19 D 152616 152615     46\n",
      " 154320 70527        0.3152    16        0.3230        0.3132  1310579    3.03%           rho_7 U 154320 154319     25\n",
      " 156030 71348        0.3133    15        0.3230        0.3132  1327696    3.03%          rho_23 D 156030 156029     69\n",
      "Elapsed time = 187.88 sec. (244543.69 ticks, tree = 35.10 MB, solutions = 1)\n",
      " 157776 72125        0.3225    11        0.3230        0.3132  1342386    3.03%          rho_38 D 157776 157774     39\n",
      " 159438 72955        cutoff              0.3230        0.3132  1359407    3.03%          rho_10 U 159438 159437     36\n",
      " 161100 73631        cutoff              0.3230        0.3132  1376113    3.03%           rho_3 U 161100 161099     47\n",
      " 162982 74347        0.3136    17        0.3230        0.3132  1390699    3.03%          rho_16 D 162982 162981     48\n",
      "\n",
      "Gomory fractional cuts applied:  1\n",
      "User cuts applied:  2035\n",
      "\n",
      "Root node processing (before b&c):\n",
      "  Real time             =    0.09 sec. (3.21 ticks)\n",
      "Sequential b&c:\n",
      "  Real time             =  199.92 sec. (263128.94 ticks)\n",
      "                          ------------\n",
      "Total (root+branch&cut) =  200.02 sec. (263132.15 ticks)\n",
      "+-----------------------------------------------+-------------------+-----------+\n",
      "| Pr(Y = +1) = 1.0/(1.0 + exp(-(-44 + score))   |                   |           |\n",
      "| ============================================= | ================= | ========= |\n",
      "| p_arrest>=1                                   |         20 points |   + ..... |\n",
      "| p_charges>=1                                  |         20 points |   + ..... |\n",
      "| p_arrest>=4                                   |          1 points |   + ..... |\n",
      "| p_felony>=1                                   |          1 points |   + ..... |\n",
      "| p_misdemeanor>=1                              |          1 points |   + ..... |\n",
      "| p_pending_charge>=1                           |          1 points |   + ..... |\n",
      "| ============================================= | ================= | ========= |\n",
      "| ADD POINTS FROM ROWS 1 to 6                   |             SCORE |   = ..... |\n",
      "+-----------------------------------------------+-------------------+-----------+\n",
      "model_id, score_thresholds 0 {'rank_abs': [0]}\n",
      "get_disparity_predefined_group()\n"
     ]
    },
    {
     "name": "stderr",
     "output_type": "stream",
     "text": [
      "C:\\Users\\binha\\Documents\\Duke\\Cynthia Research\\psa-analysis - test2\\utils\\fairness_functions.py:82: RuntimeWarning:\n",
      "\n",
      "invalid value encountered in longlong_scalars\n",
      "\n",
      "C:\\Users\\binha\\Documents\\Duke\\Cynthia Research\\psa-analysis - test2\\utils\\fairness_functions.py:95: RuntimeWarning:\n",
      "\n",
      "divide by zero encountered in longlong_scalars\n",
      "\n",
      "C:\\Users\\binha\\Documents\\Duke\\Cynthia Research\\psa-analysis - test2\\utils\\fairness_functions.py:86: RuntimeWarning:\n",
      "\n",
      "invalid value encountered in longlong_scalars\n",
      "\n",
      "C:\\Users\\binha\\Documents\\Duke\\Cynthia Research\\psa-analysis - test2\\utils\\fairness_functions.py:95: RuntimeWarning:\n",
      "\n",
      "invalid value encountered in longlong_scalars\n",
      "\n"
     ]
    }
   ],
   "source": [
    "riskslim_summary = slim.risk_cv(X=sub_X, \n",
    "                                Y=sub_Y, \n",
    "                                indicator = indicator,\n",
    "                                y_label='recid_general6', \n",
    "                                max_coef=20, \n",
    "                                max_coef_number=10, \n",
    "                                max_runtime=200, \n",
    "                                c=1e-6, \n",
    "                                seed=816)"
   ]
  },
  {
   "cell_type": "code",
   "execution_count": 25,
   "metadata": {},
   "outputs": [
    {
     "data": {
      "text/plain": [
       "(0.7026070026540505, 0.7018243401870757)"
      ]
     },
     "execution_count": 25,
     "metadata": {},
     "output_type": "execute_result"
    }
   ],
   "source": [
    "np.mean(riskslim_summary['train_auc']), np.mean(riskslim_summary['test_auc'])"
   ]
  },
  {
   "cell_type": "markdown",
   "metadata": {},
   "source": [
    "### Arnold PSA"
   ]
  },
  {
   "cell_type": "code",
   "execution_count": 50,
   "metadata": {},
   "outputs": [],
   "source": [
    "### load data\n",
    "data = pd.read_csv(\"~/Documents/Duke/Cynthia Research/KY-analysis-mytrials/KY Recidivism/KY data/kentucky_data.csv\")\n",
    "X_arnold = data['nca_risk_score_raw'].values\n",
    "Y_arnold = data['recid_six_month'].values\n",
    "\n",
    "## set up cross validation\n",
    "cv = KFold(n_splits=5,shuffle=True,random_state=816)\n",
    "arnold_auc = []\n",
    "for train, test in cv.split(X_arnold, Y_arnold):\n",
    "    y_pred_arnold, y_test = X_arnold[test], Y_arnold[test]\n",
    "    arnold_auc.append(roc_auc_score(y_test, y_pred_arnold))"
   ]
  },
  {
   "cell_type": "markdown",
   "metadata": {},
   "source": [
    "### Corel"
   ]
  },
  {
   "cell_type": "code",
   "execution_count": 2,
   "metadata": {},
   "outputs": [],
   "source": [
    "## load stumps data\n",
    "data = pd.read_csv(\"~/Documents/Duke/Cynthia Research/KY-analysis-mytrials/KY Recidivism/KY data/kentucky_stumps.csv\")\n",
    "x, y = data.loc[:,:'current_violence>=1'], data['recid_six_month'].values\n",
    "y[y == -1] = 0"
   ]
  },
  {
   "cell_type": "code",
   "execution_count": 3,
   "metadata": {
    "scrolled": true
   },
   "outputs": [
    {
     "name": "stderr",
     "output_type": "stream",
     "text": [
      "C:\\Users\\binha\\Documents\\Duke\\Cynthia Research\\psa-analysis - test2\\utils\\fairness_functions.py:82: RuntimeWarning:\n",
      "\n",
      "invalid value encountered in longlong_scalars\n",
      "\n",
      "C:\\Users\\binha\\Documents\\Duke\\Cynthia Research\\psa-analysis - test2\\utils\\fairness_functions.py:95: RuntimeWarning:\n",
      "\n",
      "divide by zero encountered in longlong_scalars\n",
      "\n",
      "C:\\Users\\binha\\Documents\\Duke\\Cynthia Research\\psa-analysis - test2\\utils\\fairness_functions.py:86: RuntimeWarning:\n",
      "\n",
      "invalid value encountered in longlong_scalars\n",
      "\n",
      "C:\\Users\\binha\\Documents\\Duke\\Cynthia Research\\psa-analysis - test2\\utils\\fairness_functions.py:95: RuntimeWarning:\n",
      "\n",
      "invalid value encountered in longlong_scalars\n",
      "\n",
      "C:\\Users\\binha\\Documents\\Duke\\Cynthia Research\\psa-analysis - test2\\utils\\fairness_functions.py:82: RuntimeWarning:\n",
      "\n",
      "invalid value encountered in longlong_scalars\n",
      "\n",
      "C:\\Users\\binha\\Documents\\Duke\\Cynthia Research\\psa-analysis - test2\\utils\\fairness_functions.py:95: RuntimeWarning:\n",
      "\n",
      "divide by zero encountered in longlong_scalars\n",
      "\n",
      "C:\\Users\\binha\\Documents\\Duke\\Cynthia Research\\psa-analysis - test2\\utils\\fairness_functions.py:86: RuntimeWarning:\n",
      "\n",
      "invalid value encountered in longlong_scalars\n",
      "\n",
      "C:\\Users\\binha\\Documents\\Duke\\Cynthia Research\\psa-analysis - test2\\utils\\fairness_functions.py:95: RuntimeWarning:\n",
      "\n",
      "invalid value encountered in longlong_scalars\n",
      "\n",
      "C:\\Users\\binha\\Documents\\Duke\\Cynthia Research\\psa-analysis - test2\\utils\\fairness_functions.py:82: RuntimeWarning:\n",
      "\n",
      "invalid value encountered in longlong_scalars\n",
      "\n",
      "C:\\Users\\binha\\Documents\\Duke\\Cynthia Research\\psa-analysis - test2\\utils\\fairness_functions.py:95: RuntimeWarning:\n",
      "\n",
      "divide by zero encountered in longlong_scalars\n",
      "\n",
      "C:\\Users\\binha\\Documents\\Duke\\Cynthia Research\\psa-analysis - test2\\utils\\fairness_functions.py:82: RuntimeWarning:\n",
      "\n",
      "invalid value encountered in longlong_scalars\n",
      "\n",
      "C:\\Users\\binha\\Documents\\Duke\\Cynthia Research\\psa-analysis - test2\\utils\\fairness_functions.py:95: RuntimeWarning:\n",
      "\n",
      "divide by zero encountered in longlong_scalars\n",
      "\n",
      "C:\\Users\\binha\\Documents\\Duke\\Cynthia Research\\psa-analysis - test2\\utils\\fairness_functions.py:82: RuntimeWarning:\n",
      "\n",
      "invalid value encountered in longlong_scalars\n",
      "\n",
      "C:\\Users\\binha\\Documents\\Duke\\Cynthia Research\\psa-analysis - test2\\utils\\fairness_functions.py:95: RuntimeWarning:\n",
      "\n",
      "divide by zero encountered in longlong_scalars\n",
      "\n",
      "C:\\Users\\binha\\Documents\\Duke\\Cynthia Research\\psa-analysis - test2\\utils\\fairness_functions.py:86: RuntimeWarning:\n",
      "\n",
      "invalid value encountered in longlong_scalars\n",
      "\n",
      "C:\\Users\\binha\\Documents\\Duke\\Cynthia Research\\psa-analysis - test2\\utils\\fairness_functions.py:95: RuntimeWarning:\n",
      "\n",
      "invalid value encountered in longlong_scalars\n",
      "\n"
     ]
    }
   ],
   "source": [
    "corel_summary = Corel.corel_cv(x, y, max_card=2, c=1e-4, seed=816)"
   ]
  },
  {
   "cell_type": "code",
   "execution_count": 4,
   "metadata": {},
   "outputs": [
    {
     "data": {
      "text/plain": [
       "(0.5173975082993005, 0.00965249586479237)"
      ]
     },
     "execution_count": 4,
     "metadata": {},
     "output_type": "execute_result"
    }
   ],
   "source": [
    "np.mean(corel_summary['test_auc']), np.std(corel_summary['test_auc'])"
   ]
  },
  {
   "cell_type": "markdown",
   "metadata": {},
   "source": [
    "### Results"
   ]
  },
  {
   "cell_type": "code",
   "execution_count": 34,
   "metadata": {},
   "outputs": [
    {
     "name": "stdout",
     "output_type": "stream",
     "text": [
      "Stored 'summary_general6_KY_interpret' (dict)\n"
     ]
    }
   ],
   "source": [
    "#### save results\n",
    "summary_general6_KY_interpret = {\"CART\": cart_summary,\n",
    "                                 \"EBM\": ebm_summary, \n",
    "                                 'Lasso Stumps': stump_summary, \n",
    "                                 'RiskSLIM': riskslim_summary,  \n",
    "                                 'Corel': corel_summary,\n",
    "                                 'Arnold PSA': arnold_auc}\n",
    "%store summary_general6_KY_interpret"
   ]
  },
  {
   "cell_type": "code",
   "execution_count": 35,
   "metadata": {},
   "outputs": [
    {
     "data": {
      "text/plain": [
       "[['CART', 0.7361983626169992, 0.018895656076300595],\n",
       " ['EBM', 0.7422177886790131, 0.006296362009254319],\n",
       " ['Lasso Stumps', 0.7370555527956155, 0.0008895028464927845],\n",
       " ['RiskSLIM', 0.7018243401870757],\n",
       " ['Corel', 0.5173975082993005],\n",
       " ['Arnold PSA', 0.691]]"
      ]
     },
     "execution_count": 35,
     "metadata": {},
     "output_type": "execute_result"
    }
   ],
   "source": [
    "results = [[\"CART\", np.mean(cart_summary['holdout_test_auc']), np.mean(cart_summary['auc_diffs'])],\n",
    "           [\"EBM\", np.mean(ebm_summary['holdout_test_auc']), np.mean(ebm_summary['auc_diffs'])], \n",
    "           [\"Lasso Stumps\", np.mean(stump_summary['holdout_test_auc']), np.mean(stump_summary['auc_diffs'])],\n",
    "           ['RiskSLIM', np.mean(riskslim_summary['test_auc'])],\n",
    "           ['Corel', np.mean(corel_summary['test_auc'])],\n",
    "           ['Arnold PSA', round(np.mean(arnold_auc), 3)]]\n",
    "results"
   ]
  },
  {
   "cell_type": "code",
   "execution_count": 36,
   "metadata": {},
   "outputs": [],
   "source": [
    "auc = [np.mean(cart_summary['holdout_test_auc']), \n",
    "       np.mean(ebm_summary['holdout_test_auc']), \n",
    "       np.mean(stump_summary['holdout_test_auc']), \n",
    "       np.mean(riskslim_summary['test_auc']), \n",
    "       np.mean(corel_summary['test_auc'])]"
   ]
  },
  {
   "cell_type": "code",
   "execution_count": 37,
   "metadata": {},
   "outputs": [],
   "source": [
    "path = \"C:/Users/binha/Documents/Duke/Cynthia Research/KY-analysis-mytrials/KY Recidivism/KY Results/Models/Six Month/\"\n",
    "results = [[\"\", \"CART\", \"EBM\", \"Lasso Stumps\", \"RiskSLIM\", \"Corel\", \"Performance Range\", \"Arnold PSA\"],\n",
    "           [\"General\", np.str((round(np.mean(cart_summary['holdout_test_auc']), 3))) + \" (\" + np.str(round(np.std(cart_summary['holdout_test_auc']), 3)) + \")\", \n",
    "            np.str(round(np.mean(ebm_summary['holdout_test_auc']),3)) + \" (\" + np.str(round(np.std(ebm_summary['holdout_test_auc']), 3)) + \")\", \n",
    "            np.str(round(np.mean(stump_summary['holdout_test_auc']),3)) + \" (\" + np.str(round(np.std(stump_summary['holdout_test_auc']), 3)) + \")\",             \n",
    "            np.str(round(np.mean(riskslim_summary['test_auc']),3)) + \" (\" + np.str(round(np.std(riskslim_summary['test_auc']), 3)) + \")\", \n",
    "            np.str(round(np.mean(corel_summary['test_auc']),3)) + \" (\" + np.str(round(np.std(corel_summary['test_auc']), 3)) + \")\", \n",
    "            round(np.max(auc) - np.min(auc), 3),\n",
    "            np.str(round(np.mean(arnold_auc), 3)) + \" (\" + np.str(round(np.std(arnold_auc),3)) + \")\"]]\n",
    "with open(path + 'Interpretable Models Summary.csv', 'w') as writeFile:\n",
    "    writer = csv.writer(writeFile)\n",
    "    writer.writerows(results)"
   ]
  },
  {
   "cell_type": "code",
   "execution_count": 38,
   "metadata": {},
   "outputs": [],
   "source": [
    "cart_confusion = cart_summary['confusion_matrix_stats']\n",
    "ebm_confusion = ebm_summary['confusion_matrix_stats']\n",
    "riskslim_confusion = riskslim_summary['confusion_matrix_stats']\n",
    "stumps_confusion = stump_summary['confusion_matrix_stats']\n",
    "corel_confusion = corel_summary['confusion_matrix_stats']\n",
    "#arnold_confusion = cart_summary['confusion_matrix_stats']\n",
    "\n",
    "## save results\n",
    "cart_confusion.to_csv(r'C:/Users/binha/Documents/Duke/Cynthia Research/KY-analysis-mytrials/KY Recidivism/KY Fairness/Six Month/general/cart_confusion.csv', index=None,header=True)\n",
    "ebm_confusion.to_csv(r'C:/Users/binha/Documents/Duke/Cynthia Research/KY-analysis-mytrials/KY Recidivism/KY Fairness/Six Month/general/ebm_confusion.csv', index=None,header=True)\n",
    "riskslim_confusion.to_csv(r'C:/Users/binha/Documents/Duke/Cynthia Research/KY-analysis-mytrials/KY Recidivism/KY Fairness/Six Month/general/riskslim_confusion.csv', index=None,header=True)\n",
    "stumps_confusion.to_csv(r'C:/Users/binha/Documents/Duke/Cynthia Research/KY-analysis-mytrials/KY Recidivism/KY Fairness/Six Month/general/stumps_confusion.csv', index=None,header=True)\n",
    "corel_confusion.to_csv(r'C:/Users/binha/Documents/Duke/Cynthia Research/KY-analysis-mytrials/KY Recidivism/KY Fairness/Six Month/general/corel_confusion.csv', index=None,header=True)\n",
    "#arnold_confusion.to_csv(r'C:/Users/binha/Documents/Duke/Cynthia Research/KY-analysis-mytrials/broward/broward models/model fairness/Two Year/general/arnold_confusion.csv', index=None,header=True)"
   ]
  },
  {
   "cell_type": "code",
   "execution_count": 6,
   "metadata": {},
   "outputs": [],
   "source": [
    "corel_confusion = corel_summary['confusion_matrix_stats']\n",
    "corel_confusion.to_csv(r'C:/Users/binha/Documents/Duke/Cynthia Research/KY-analysis-mytrials/KY Recidivism/KY Fairness/Six Month/general/corel_confusion.csv', index=None,header=True)"
   ]
  }
 ],
 "metadata": {
  "kernelspec": {
   "display_name": "Python 3",
   "language": "python",
   "name": "python3"
  },
  "language_info": {
   "codemirror_mode": {
    "name": "ipython",
    "version": 3
   },
   "file_extension": ".py",
   "mimetype": "text/x-python",
   "name": "python",
   "nbconvert_exporter": "python",
   "pygments_lexer": "ipython3",
   "version": "3.7.4"
  }
 },
 "nbformat": 4,
 "nbformat_minor": 4
}
