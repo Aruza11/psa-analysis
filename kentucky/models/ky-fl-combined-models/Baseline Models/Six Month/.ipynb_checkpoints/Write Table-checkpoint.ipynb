{
 "cells": [
  {
   "cell_type": "code",
   "execution_count": 1,
   "metadata": {
    "hideCode": false,
    "hidePrompt": false
   },
   "outputs": [],
   "source": [
    "import pytablewriter\n",
    "import pandas as pd\n",
    "import numpy as np"
   ]
  },
  {
   "cell_type": "code",
   "execution_count": 2,
   "metadata": {
    "hideCode": false,
    "hidePrompt": false
   },
   "outputs": [],
   "source": [
    "result = pd.read_csv(\"C:\\\\Users\\\\binha\\\\Documents\\\\Duke\\\\Cynthia Research\\\\KY-analysis-mytrials\\\\KY Recidivism\\\\KY Results\\\\Baselines\\\\Six Month\\\\Six Month Baseline Summary.csv\")"
   ]
  },
  {
   "cell_type": "code",
   "execution_count": 3,
   "metadata": {
    "hideCode": false,
    "hidePrompt": false
   },
   "outputs": [
    {
     "data": {
      "text/html": [
       "<div>\n",
       "<style scoped>\n",
       "    .dataframe tbody tr th:only-of-type {\n",
       "        vertical-align: middle;\n",
       "    }\n",
       "\n",
       "    .dataframe tbody tr th {\n",
       "        vertical-align: top;\n",
       "    }\n",
       "\n",
       "    .dataframe thead th {\n",
       "        text-align: right;\n",
       "    }\n",
       "</style>\n",
       "<table border=\"1\" class=\"dataframe\">\n",
       "  <thead>\n",
       "    <tr style=\"text-align: right;\">\n",
       "      <th></th>\n",
       "      <th>Unnamed: 0</th>\n",
       "      <th>Logistic</th>\n",
       "      <th>STD</th>\n",
       "      <th>Lasso</th>\n",
       "      <th>STD.1</th>\n",
       "      <th>Linear SVM</th>\n",
       "      <th>STD.2</th>\n",
       "      <th>CART</th>\n",
       "      <th>STD.3</th>\n",
       "      <th>Random Forest</th>\n",
       "      <th>STD.4</th>\n",
       "      <th>XGBoost</th>\n",
       "      <th>STD.5</th>\n",
       "    </tr>\n",
       "  </thead>\n",
       "  <tbody>\n",
       "    <tr>\n",
       "      <th>0</th>\n",
       "      <td>Recidivism</td>\n",
       "      <td>0.750</td>\n",
       "      <td>0.003</td>\n",
       "      <td>0.755</td>\n",
       "      <td>0.004</td>\n",
       "      <td>0.755</td>\n",
       "      <td>0.004</td>\n",
       "      <td>0.760</td>\n",
       "      <td>0.006</td>\n",
       "      <td>0.765</td>\n",
       "      <td>0.005</td>\n",
       "      <td>0.769</td>\n",
       "      <td>0.006</td>\n",
       "    </tr>\n",
       "    <tr>\n",
       "      <th>1</th>\n",
       "      <td>Violence</td>\n",
       "      <td>0.869</td>\n",
       "      <td>0.007</td>\n",
       "      <td>0.869</td>\n",
       "      <td>0.008</td>\n",
       "      <td>0.868</td>\n",
       "      <td>0.008</td>\n",
       "      <td>0.869</td>\n",
       "      <td>0.005</td>\n",
       "      <td>0.877</td>\n",
       "      <td>0.006</td>\n",
       "      <td>0.872</td>\n",
       "      <td>0.009</td>\n",
       "    </tr>\n",
       "    <tr>\n",
       "      <th>2</th>\n",
       "      <td>Drug</td>\n",
       "      <td>0.766</td>\n",
       "      <td>0.005</td>\n",
       "      <td>0.771</td>\n",
       "      <td>0.006</td>\n",
       "      <td>0.769</td>\n",
       "      <td>0.006</td>\n",
       "      <td>0.772</td>\n",
       "      <td>0.009</td>\n",
       "      <td>0.771</td>\n",
       "      <td>0.010</td>\n",
       "      <td>0.780</td>\n",
       "      <td>0.010</td>\n",
       "    </tr>\n",
       "    <tr>\n",
       "      <th>3</th>\n",
       "      <td>Property</td>\n",
       "      <td>0.851</td>\n",
       "      <td>0.015</td>\n",
       "      <td>0.858</td>\n",
       "      <td>0.014</td>\n",
       "      <td>0.849</td>\n",
       "      <td>0.014</td>\n",
       "      <td>0.832</td>\n",
       "      <td>0.008</td>\n",
       "      <td>0.858</td>\n",
       "      <td>0.013</td>\n",
       "      <td>0.842</td>\n",
       "      <td>0.011</td>\n",
       "    </tr>\n",
       "    <tr>\n",
       "      <th>4</th>\n",
       "      <td>Felony</td>\n",
       "      <td>0.768</td>\n",
       "      <td>0.004</td>\n",
       "      <td>0.774</td>\n",
       "      <td>0.005</td>\n",
       "      <td>0.772</td>\n",
       "      <td>0.005</td>\n",
       "      <td>0.783</td>\n",
       "      <td>0.006</td>\n",
       "      <td>0.791</td>\n",
       "      <td>0.006</td>\n",
       "      <td>0.795</td>\n",
       "      <td>0.005</td>\n",
       "    </tr>\n",
       "    <tr>\n",
       "      <th>5</th>\n",
       "      <td>Misdemeanor</td>\n",
       "      <td>0.737</td>\n",
       "      <td>0.004</td>\n",
       "      <td>0.739</td>\n",
       "      <td>0.003</td>\n",
       "      <td>0.739</td>\n",
       "      <td>0.003</td>\n",
       "      <td>0.745</td>\n",
       "      <td>0.005</td>\n",
       "      <td>0.747</td>\n",
       "      <td>0.004</td>\n",
       "      <td>0.753</td>\n",
       "      <td>0.006</td>\n",
       "    </tr>\n",
       "  </tbody>\n",
       "</table>\n",
       "</div>"
      ],
      "text/plain": [
       "    Unnamed: 0  Logistic    STD  Lasso  STD.1  Linear SVM  STD.2   CART  \\\n",
       "0   Recidivism     0.750  0.003  0.755  0.004       0.755  0.004  0.760   \n",
       "1     Violence     0.869  0.007  0.869  0.008       0.868  0.008  0.869   \n",
       "2         Drug     0.766  0.005  0.771  0.006       0.769  0.006  0.772   \n",
       "3     Property     0.851  0.015  0.858  0.014       0.849  0.014  0.832   \n",
       "4       Felony     0.768  0.004  0.774  0.005       0.772  0.005  0.783   \n",
       "5  Misdemeanor     0.737  0.004  0.739  0.003       0.739  0.003  0.745   \n",
       "\n",
       "   STD.3  Random Forest  STD.4  XGBoost  STD.5  \n",
       "0  0.006          0.765  0.005    0.769  0.006  \n",
       "1  0.005          0.877  0.006    0.872  0.009  \n",
       "2  0.009          0.771  0.010    0.780  0.010  \n",
       "3  0.008          0.858  0.013    0.842  0.011  \n",
       "4  0.006          0.791  0.006    0.795  0.005  \n",
       "5  0.005          0.747  0.004    0.753  0.006  "
      ]
     },
     "execution_count": 3,
     "metadata": {},
     "output_type": "execute_result"
    }
   ],
   "source": [
    "result"
   ]
  },
  {
   "cell_type": "code",
   "execution_count": 6,
   "metadata": {
    "hideCode": false,
    "hidePrompt": false
   },
   "outputs": [],
   "source": [
    "cols = result.columns.to_list()\n",
    "values = result.values.tolist()"
   ]
  },
  {
   "cell_type": "code",
   "execution_count": 8,
   "metadata": {
    "hideCode": false,
    "hideOutput": true,
    "hidePrompt": false
   },
   "outputs": [
    {
     "name": "stdout",
     "output_type": "stream",
     "text": [
      "\\begin{array}{l | r | r | r | r | r | r | r | r | r | r | r | r} \\hline\n",
      "    \\verb|Two Year Recidivism | & 0.7260 & 0.001 & 0.7220 & 0.001 & 0.7250 & 0.002 & 0.7310 &  0.00200 & 0.7390 & 0.002 & 0.7410 &  0.00300 \\\\ \\hline\n",
      "    \\verb|Six Month Recidivism| & 0.7500 & 0.003 & 0.7550 & 0.004 & 0.7550 & 0.004 & 0.7600 &  0.00600 & 0.7650 & 0.005 & 0.7680 &  0.00600 \\\\ \\hline\n",
      "    Violence             & 0.8110 & 0.003 & 0.8100 & 0.003 & 0.8100 & 0.004 & 0.8140 &  0.00200 & 0.8230 & 0.001 & 0.8220 &  0.00200 \\\\ \\hline\n",
      "    Felony               & 0.7260 & 0.003 & 0.7280 & 0.003 & 0.7280 & 0.003 & 0.7390 &  0.00300 & 0.7460 & 0.002 & 0.7500 &  0.00300 \\\\ \\hline\n",
      "    Misdemeanor          & 0.7010 & 0.002 & 0.7010 & 0.002 & 0.7020 & 0.002 & 0.7030 &  0.00300 & 0.7140 & 0.003 & 0.7160 &  0.00200 \\\\ \\hline\n",
      "    Drug                 & 0.6890 & 0.002 & 0.6920 & 0.002 & 0.6920 & 0.002 & 0.6970 &  0.00500 & 0.7000 & 0.005 & 0.7060 &  0.00500 \\\\ \\hline\n",
      "    Property             & 0.7780 & 0.005 & 0.7830 & 0.004 & 0.7810 & 0.004 & 0.7710 &  0.00700 & 0.7820 & 0.006 & 0.7810 &  0.00700 \\\\ \\hline\n",
      "\\end{array}\n"
     ]
    }
   ],
   "source": [
    "writer = pytablewriter.LatexTableWriter()\n",
    "writer.value_matrix = values\n",
    "writer.write_table()"
   ]
  }
 ],
 "metadata": {
  "hide_code_all_hidden": false,
  "kernelspec": {
   "display_name": "Python 3",
   "language": "python",
   "name": "python3"
  },
  "language_info": {
   "codemirror_mode": {
    "name": "ipython",
    "version": 3
   },
   "file_extension": ".py",
   "mimetype": "text/x-python",
   "name": "python",
   "nbconvert_exporter": "python",
   "pygments_lexer": "ipython3",
   "version": "3.7.0"
  }
 },
 "nbformat": 4,
 "nbformat_minor": 2
}
