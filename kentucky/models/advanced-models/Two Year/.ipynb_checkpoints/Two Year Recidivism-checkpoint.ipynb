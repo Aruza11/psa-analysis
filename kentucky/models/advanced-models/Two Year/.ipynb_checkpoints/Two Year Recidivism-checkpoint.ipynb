{
 "cells": [
  {
   "cell_type": "code",
   "execution_count": 1,
   "metadata": {},
   "outputs": [
    {
     "name": "stdout",
     "output_type": "stream",
     "text": [
      "Current working directory is now:  C:\\Users\\binha\\Documents\\Duke\\Cynthia Research\\psa-analysis - test\n"
     ]
    },
    {
     "name": "stderr",
     "output_type": "stream",
     "text": [
      "C:\\Users\\binha\\Anaconda3\\lib\\site-packages\\sklearn\\externals\\six.py:31: DeprecationWarning:\n",
      "\n",
      "The module is deprecated in version 0.21 and will be removed in version 0.23 since we've dropped support for Python 2.7. Please rely on the official version of six (https://pypi.org/project/six/).\n",
      "\n"
     ]
    }
   ],
   "source": [
    "import os \n",
    "os.chdir('../../../../')\n",
    "print(\"Current working directory is now: \", os.getcwd())\n",
    "\n",
    "import pandas as pd \n",
    "import numpy as np\n",
    "import csv\n",
    "import utils.baseline_functions as base\n",
    "import stumps\n",
    "import RiskSLIM as slim\n",
    "\n",
    "from sklearn.linear_model import LogisticRegression\n",
    "from sklearn.model_selection import KFold, GridSearchCV\n",
    "from sklearn.metrics import roc_auc_score\n",
    "\n",
    "# restore saved variables\n",
    "%store -r summary_general2_KY_interpret"
   ]
  },
  {
   "cell_type": "markdown",
   "metadata": {},
   "source": [
    "### CART & EBM"
   ]
  },
  {
   "cell_type": "code",
   "execution_count": 3,
   "metadata": {},
   "outputs": [],
   "source": [
    "### load data\n",
    "data = pd.read_csv(\"~/Documents/Duke/Cynthia Research/KY-analysis-mytrials/KY Recidivism/KY data/kentucky_data.csv\")\n",
    "data = data.drop(['fta_risk_score_raw','nca_risk_score_raw','pvf_risk_score_raw', \n",
    "                  'fta_calc', 'nca_calc', 'pvf_calc'], axis=1)\n",
    "x = data.loc[:,:'current_violence']\n",
    "y = data['recid_two_year'].values"
   ]
  },
  {
   "cell_type": "code",
   "execution_count": 6,
   "metadata": {
    "scrolled": true
   },
   "outputs": [
    {
     "name": "stdout",
     "output_type": "stream",
     "text": [
      "model_id, score_thresholds 0 {'rank_abs': [3689]}\n",
      "get_disparity_predefined_group()\n",
      "model_id, score_thresholds 0 {'rank_abs': [4129]}\n",
      "get_disparity_predefined_group()\n",
      "model_id, score_thresholds 0 {'rank_abs': [4139]}\n",
      "get_disparity_predefined_group()\n",
      "model_id, score_thresholds 0 {'rank_abs': [3730]}\n",
      "get_disparity_predefined_group()\n",
      "model_id, score_thresholds 0 {'rank_abs': [3548]}\n",
      "get_disparity_predefined_group()\n"
     ]
    },
    {
     "name": "stderr",
     "output_type": "stream",
     "text": [
      "WARNING:interpret.utils.all:Passing a numpy array to schema autogen when it should be dataframe.\n",
      "WARNING:interpret.utils.all:Passing a numpy array to schema autogen when it should be dataframe.\n",
      "WARNING:interpret.utils.all:Passing a numpy array to schema autogen when it should be dataframe.\n",
      "WARNING:interpret.utils.all:Passing a numpy array to schema autogen when it should be dataframe.\n",
      "WARNING:interpret.utils.all:Passing a numpy array to schema autogen when it should be dataframe.\n",
      "WARNING:interpret.utils.all:Passing a numpy array to schema autogen when it should be dataframe.\n",
      "WARNING:interpret.utils.all:Passing a numpy array to schema autogen when it should be dataframe.\n",
      "WARNING:interpret.utils.all:Passing a numpy array to schema autogen when it should be dataframe.\n",
      "WARNING:interpret.utils.all:Passing a numpy array to schema autogen when it should be dataframe.\n",
      "WARNING:interpret.utils.all:Passing a numpy array to schema autogen when it should be dataframe.\n",
      "WARNING:interpret.utils.all:Passing a numpy array to schema autogen when it should be dataframe.\n",
      "WARNING:interpret.utils.all:Passing a numpy array to schema autogen when it should be dataframe.\n"
     ]
    },
    {
     "name": "stdout",
     "output_type": "stream",
     "text": [
      "model_id, score_thresholds 0 {'rank_abs': [3860]}\n",
      "get_disparity_predefined_group()\n"
     ]
    },
    {
     "name": "stderr",
     "output_type": "stream",
     "text": [
      "WARNING:interpret.utils.all:Passing a numpy array to schema autogen when it should be dataframe.\n",
      "WARNING:interpret.utils.all:Passing a numpy array to schema autogen when it should be dataframe.\n",
      "WARNING:interpret.utils.all:Passing a numpy array to schema autogen when it should be dataframe.\n",
      "WARNING:interpret.utils.all:Passing a numpy array to schema autogen when it should be dataframe.\n",
      "WARNING:interpret.utils.all:Passing a numpy array to schema autogen when it should be dataframe.\n",
      "WARNING:interpret.utils.all:Passing a numpy array to schema autogen when it should be dataframe.\n",
      "WARNING:interpret.utils.all:Passing a numpy array to schema autogen when it should be dataframe.\n",
      "WARNING:interpret.utils.all:Passing a numpy array to schema autogen when it should be dataframe.\n",
      "WARNING:interpret.utils.all:Passing a numpy array to schema autogen when it should be dataframe.\n",
      "WARNING:interpret.utils.all:Passing a numpy array to schema autogen when it should be dataframe.\n",
      "WARNING:interpret.utils.all:Passing a numpy array to schema autogen when it should be dataframe.\n",
      "WARNING:interpret.utils.all:Passing a numpy array to schema autogen when it should be dataframe.\n"
     ]
    },
    {
     "name": "stdout",
     "output_type": "stream",
     "text": [
      "model_id, score_thresholds 0 {'rank_abs': [4011]}\n",
      "get_disparity_predefined_group()\n"
     ]
    },
    {
     "name": "stderr",
     "output_type": "stream",
     "text": [
      "WARNING:interpret.utils.all:Passing a numpy array to schema autogen when it should be dataframe.\n",
      "WARNING:interpret.utils.all:Passing a numpy array to schema autogen when it should be dataframe.\n",
      "WARNING:interpret.utils.all:Passing a numpy array to schema autogen when it should be dataframe.\n",
      "WARNING:interpret.utils.all:Passing a numpy array to schema autogen when it should be dataframe.\n",
      "WARNING:interpret.utils.all:Passing a numpy array to schema autogen when it should be dataframe.\n",
      "WARNING:interpret.utils.all:Passing a numpy array to schema autogen when it should be dataframe.\n",
      "WARNING:interpret.utils.all:Passing a numpy array to schema autogen when it should be dataframe.\n",
      "WARNING:interpret.utils.all:Passing a numpy array to schema autogen when it should be dataframe.\n",
      "WARNING:interpret.utils.all:Passing a numpy array to schema autogen when it should be dataframe.\n",
      "WARNING:interpret.utils.all:Passing a numpy array to schema autogen when it should be dataframe.\n",
      "WARNING:interpret.utils.all:Passing a numpy array to schema autogen when it should be dataframe.\n",
      "WARNING:interpret.utils.all:Passing a numpy array to schema autogen when it should be dataframe.\n"
     ]
    },
    {
     "name": "stdout",
     "output_type": "stream",
     "text": [
      "model_id, score_thresholds 0 {'rank_abs': [4001]}\n",
      "get_disparity_predefined_group()\n"
     ]
    },
    {
     "name": "stderr",
     "output_type": "stream",
     "text": [
      "WARNING:interpret.utils.all:Passing a numpy array to schema autogen when it should be dataframe.\n",
      "WARNING:interpret.utils.all:Passing a numpy array to schema autogen when it should be dataframe.\n",
      "WARNING:interpret.utils.all:Passing a numpy array to schema autogen when it should be dataframe.\n",
      "WARNING:interpret.utils.all:Passing a numpy array to schema autogen when it should be dataframe.\n",
      "WARNING:interpret.utils.all:Passing a numpy array to schema autogen when it should be dataframe.\n",
      "WARNING:interpret.utils.all:Passing a numpy array to schema autogen when it should be dataframe.\n",
      "WARNING:interpret.utils.all:Passing a numpy array to schema autogen when it should be dataframe.\n",
      "WARNING:interpret.utils.all:Passing a numpy array to schema autogen when it should be dataframe.\n",
      "WARNING:interpret.utils.all:Passing a numpy array to schema autogen when it should be dataframe.\n",
      "WARNING:interpret.utils.all:Passing a numpy array to schema autogen when it should be dataframe.\n",
      "WARNING:interpret.utils.all:Passing a numpy array to schema autogen when it should be dataframe.\n",
      "WARNING:interpret.utils.all:Passing a numpy array to schema autogen when it should be dataframe.\n"
     ]
    },
    {
     "name": "stdout",
     "output_type": "stream",
     "text": [
      "model_id, score_thresholds 0 {'rank_abs': [3932]}\n",
      "get_disparity_predefined_group()\n"
     ]
    },
    {
     "name": "stderr",
     "output_type": "stream",
     "text": [
      "WARNING:interpret.utils.all:Passing a numpy array to schema autogen when it should be dataframe.\n",
      "WARNING:interpret.utils.all:Passing a numpy array to schema autogen when it should be dataframe.\n",
      "WARNING:interpret.utils.all:Passing a numpy array to schema autogen when it should be dataframe.\n",
      "WARNING:interpret.utils.all:Passing a numpy array to schema autogen when it should be dataframe.\n",
      "WARNING:interpret.utils.all:Passing a numpy array to schema autogen when it should be dataframe.\n",
      "WARNING:interpret.utils.all:Passing a numpy array to schema autogen when it should be dataframe.\n",
      "WARNING:interpret.utils.all:Passing a numpy array to schema autogen when it should be dataframe.\n",
      "WARNING:interpret.utils.all:Passing a numpy array to schema autogen when it should be dataframe.\n",
      "WARNING:interpret.utils.all:Passing a numpy array to schema autogen when it should be dataframe.\n",
      "WARNING:interpret.utils.all:Passing a numpy array to schema autogen when it should be dataframe.\n",
      "WARNING:interpret.utils.all:Passing a numpy array to schema autogen when it should be dataframe.\n",
      "WARNING:interpret.utils.all:Passing a numpy array to schema autogen when it should be dataframe.\n"
     ]
    },
    {
     "name": "stdout",
     "output_type": "stream",
     "text": [
      "model_id, score_thresholds 0 {'rank_abs': [3809]}\n",
      "get_disparity_predefined_group()\n"
     ]
    }
   ],
   "source": [
    "#### CART\n",
    "depth = [7,8,9]\n",
    "cart_summary = base.CART(X=x,\n",
    "                         Y=y,\n",
    "                         depth=depth,\n",
    "                         seed=816)\n",
    "\n",
    "#### EBM\n",
    "estimators = [20]\n",
    "depth = [2]\n",
    "learning_rate = [0.5]\n",
    "ebm_summary = base.EBM(X=x,\n",
    "                       Y=y,\n",
    "                       learning_rate=learning_rate,\n",
    "                       depth=depth,\n",
    "                       estimators=estimators,\n",
    "                       seed =816)"
   ]
  },
  {
   "cell_type": "code",
   "execution_count": 7,
   "metadata": {},
   "outputs": [
    {
     "data": {
      "text/plain": [
       "(0.7313490449335174, 0.008516576718522084)"
      ]
     },
     "execution_count": 7,
     "metadata": {},
     "output_type": "execute_result"
    }
   ],
   "source": [
    "np.mean(cart_summary['holdout_test_auc']), np.mean(cart_summary['auc_diffs'])"
   ]
  },
  {
   "cell_type": "code",
   "execution_count": 8,
   "metadata": {},
   "outputs": [
    {
     "data": {
      "text/plain": [
       "(0.7372215785656455, 0.003637597013214777)"
      ]
     },
     "execution_count": 8,
     "metadata": {},
     "output_type": "execute_result"
    }
   ],
   "source": [
    "np.mean(ebm_summary['holdout_test_auc']), np.mean(ebm_summary['auc_diffs'])"
   ]
  },
  {
   "cell_type": "markdown",
   "metadata": {},
   "source": [
    "## Lasso Stumps"
   ]
  },
  {
   "cell_type": "code",
   "execution_count": 9,
   "metadata": {},
   "outputs": [],
   "source": [
    "## load whole data\n",
    "data = pd.read_csv(\"~/Documents/Duke/Cynthia Research/KY-analysis-mytrials/KY Recidivism/KY data/kentucky_stumps.csv\")\n",
    "X_stumps, Y_stumps = data.loc[:,:'current_violence>=1'], data['recid_two_year'].values\n",
    "Y_stumps[Y_stumps == -1] = 0\n",
    "cols = X_stumps.columns[3:]\n",
    "\n",
    "## load train & test data\n",
    "train_stumps = pd.read_csv(\"~/Documents/Duke/Cynthia Research/KY-analysis-mytrials/KY Recidivism/KY data/kentucky_train_stumps.csv\")\n",
    "test_stumps = pd.read_csv(\"~/Documents/Duke/Cynthia Research/KY-analysis-mytrials/KY Recidivism/KY data/kentucky_test_stumps.csv\")\n",
    "\n",
    "X_train_stumps, Y_train_stumps = train_stumps.loc[:,:'current_violence>=1'], train_stumps['recid_two_year'].values\n",
    "X_test_stumps, Y_test_stumps = test_stumps.loc[:,:'current_violence>=1'], test_stumps['recid_two_year'].values\n",
    "\n",
    "Y_train_stumps[Y_train_stumps == -1] = 0\n",
    "Y_test_stumps[Y_test_stumps == -1] = 0"
   ]
  },
  {
   "cell_type": "markdown",
   "metadata": {},
   "source": [
    "#### Nested Cross Validation"
   ]
  },
  {
   "cell_type": "code",
   "execution_count": 10,
   "metadata": {},
   "outputs": [
    {
     "name": "stdout",
     "output_type": "stream",
     "text": [
      "model_id, score_thresholds 0 {'rank_abs': [13426]}\n",
      "get_disparity_predefined_group()\n",
      "model_id, score_thresholds 0 {'rank_abs': [13806]}\n",
      "get_disparity_predefined_group()\n",
      "model_id, score_thresholds 0 {'rank_abs': [14413]}\n",
      "get_disparity_predefined_group()\n",
      "model_id, score_thresholds 0 {'rank_abs': [13459]}\n",
      "get_disparity_predefined_group()\n",
      "model_id, score_thresholds 0 {'rank_abs': [13189]}\n",
      "get_disparity_predefined_group()\n"
     ]
    }
   ],
   "source": [
    "stump_summary = stumps.stump_cv(X = X_stumps, \n",
    "                                Y = Y_stumps, \n",
    "                                columns=cols, \n",
    "                                c_grid={'C': [0.007, 0.005, 0.003]}, \n",
    "                                seed = 816)"
   ]
  },
  {
   "cell_type": "code",
   "execution_count": 11,
   "metadata": {},
   "outputs": [
    {
     "data": {
      "text/plain": [
       "([{'C': 0.007}, {'C': 0.007}, {'C': 0.007}, {'C': 0.007}, {'C': 0.007}],\n",
       " 0.7357741036182331,\n",
       " 0.0004185978287041925)"
      ]
     },
     "execution_count": 11,
     "metadata": {},
     "output_type": "execute_result"
    }
   ],
   "source": [
    "stump_summary['best_params'], np.mean(stump_summary['holdout_test_auc']), np.mean(stump_summary['auc_diffs'])"
   ]
  },
  {
   "cell_type": "markdown",
   "metadata": {},
   "source": [
    "##### Best Stump Model"
   ]
  },
  {
   "cell_type": "code",
   "execution_count": 16,
   "metadata": {},
   "outputs": [],
   "source": [
    "best_stump_model = stumps.stump_model(X_train_stumps, Y_train_stumps, \n",
    "                                      X_test_stumps, Y_test_stumps, \n",
    "                                      c=0.004, columns=cols, seed=816)"
   ]
  },
  {
   "cell_type": "markdown",
   "metadata": {},
   "source": [
    "##### Prediction Table"
   ]
  },
  {
   "cell_type": "code",
   "execution_count": 17,
   "metadata": {
    "scrolled": true
   },
   "outputs": [
    {
     "name": "stdout",
     "output_type": "stream",
     "text": [
      "+-----------------------------------+----------------+\n",
      "| Features                          | Score          |\n",
      "|====================================================|\n",
      "| sex                               | 8.1            |\n",
      "| age_at_current_charge<=38         | 5.9            |\n",
      "| age_at_current_charge<=43         | 3.6            |\n",
      "| age_at_current_charge<=46         | 8.3            |\n",
      "| p_arrest>=1                       | -37.2          |\n",
      "| p_arrest>=2                       | 69.1           |\n",
      "| p_arrest>=3                       | 42.6           |\n",
      "| p_arrest>=4                       | 27.2           |\n",
      "| p_arrest>=5                       | 26.7           |\n",
      "| p_arrest>=6                       | 14.7           |\n",
      "| p_arrest>=7                       | 14.9           |\n",
      "| p_charges>=1                      | -30.0          |\n",
      "| p_charges>=2                      | 1.6            |\n",
      "| p_violence>=1                     | 19.5           |\n",
      "| p_felony>=1                       | 13.5           |\n",
      "| p_stealing>=1                     | -2.1           |\n",
      "| ADE>=1                            | -12.2          |\n",
      "| p_prison>=1                       | -6.3           |\n",
      "| p_jail30>=1                       | 20.9           |\n",
      "| p_pending_charge>=1               | 40.6           |\n",
      "| p_pending_charge>=2               | -8.2           |\n",
      "| p_probation>=1                    | 15.9           |\n",
      "| Intercept                         | -0.409         |\n",
      "|====================================================|\n",
      "| ADD POINTS FROM ROWS 1 TO 22      | Total Score    |\n",
      "+-----------------------------------+----------------+\n"
     ]
    }
   ],
   "source": [
    "stumps.latex_stump_table(best_stump_model['coefs'], \n",
    "                   best_stump_model['features'], \n",
    "                   best_stump_model['intercept'], \n",
    "                   best_stump_model['dictionary'])"
   ]
  },
  {
   "cell_type": "code",
   "execution_count": 18,
   "metadata": {},
   "outputs": [
    {
     "name": "stdout",
     "output_type": "stream",
     "text": [
      "model_id, score_thresholds 0 {'rank_abs': [13728]}\n",
      "get_disparity_predefined_group()\n",
      "model_id, score_thresholds 0 {'rank_abs': [13382]}\n",
      "get_disparity_predefined_group()\n",
      "model_id, score_thresholds 0 {'rank_abs': [13695]}\n",
      "get_disparity_predefined_group()\n",
      "model_id, score_thresholds 0 {'rank_abs': [13276]}\n",
      "get_disparity_predefined_group()\n",
      "model_id, score_thresholds 0 {'rank_abs': [13848]}\n",
      "get_disparity_predefined_group()\n"
     ]
    }
   ],
   "source": [
    "stump_summary = stumps.stump_cv(X = X_stumps, \n",
    "                                Y = Y_stumps, \n",
    "                                columns=cols, \n",
    "                                c_grid={'C': [0.004]}, \n",
    "                                seed = 816)"
   ]
  },
  {
   "cell_type": "code",
   "execution_count": 19,
   "metadata": {},
   "outputs": [
    {
     "data": {
      "text/plain": [
       "([{'C': 0.004}, {'C': 0.004}, {'C': 0.004}, {'C': 0.004}, {'C': 0.004}],\n",
       " 0.7342090835960674,\n",
       " 0.000281920416628334)"
      ]
     },
     "execution_count": 19,
     "metadata": {},
     "output_type": "execute_result"
    }
   ],
   "source": [
    "stump_summary['best_params'], np.mean(stump_summary['holdout_test_auc']), np.mean(stump_summary['auc_diffs'])"
   ]
  },
  {
   "cell_type": "markdown",
   "metadata": {},
   "source": [
    "##### Stumps Visualizations"
   ]
  },
  {
   "cell_type": "code",
   "execution_count": 20,
   "metadata": {
    "scrolled": true
   },
   "outputs": [
    {
     "data": {
      "image/png": "[encoded data removed]",
      "text/plain": [
       "<Figure size 288x216 with 1 Axes>"
      ]
     },
     "metadata": {
      "needs_background": "light"
     },
     "output_type": "display_data"
    },
    {
     "data": {
      "image/png": "[encoded data removed]",
      "text/plain": [
       "<Figure size 288x216 with 1 Axes>"
      ]
     },
     "metadata": {
      "needs_background": "light"
     },
     "output_type": "display_data"
    },
    {
     "data": {
      "image/png": "[encoded data removed]",
      "text/plain": [
       "<Figure size 288x216 with 1 Axes>"
      ]
     },
     "metadata": {
      "needs_background": "light"
     },
     "output_type": "display_data"
    },
    {
     "data": {
      "image/png": "[encoded data removed]",
      "text/plain": [
       "<Figure size 288x216 with 1 Axes>"
      ]
     },
     "metadata": {
      "needs_background": "light"
     },
     "output_type": "display_data"
    },
    {
     "data": {
      "image/png": "[encoded data removed]",
      "text/plain": [
       "<Figure size 288x216 with 1 Axes>"
      ]
     },
     "metadata": {
      "needs_background": "light"
     },
     "output_type": "display_data"
    },
    {
     "data": {
      "image/png": "[encoded data removed]",
      "text/plain": [
       "<Figure size 288x216 with 1 Axes>"
      ]
     },
     "metadata": {
      "needs_background": "light"
     },
     "output_type": "display_data"
    },
    {
     "data": {
      "image/png": "[encoded data removed]",
      "text/plain": [
       "<Figure size 288x216 with 1 Axes>"
      ]
     },
     "metadata": {
      "needs_background": "light"
     },
     "output_type": "display_data"
    },
    {
     "data": {
      "image/png": "[encoded data removed]",
      "text/plain": [
       "<Figure size 288x216 with 1 Axes>"
      ]
     },
     "metadata": {
      "needs_background": "light"
     },
     "output_type": "display_data"
    },
    {
     "data": {
      "image/png": "[encoded data removed]",
      "text/plain": [
       "<Figure size 288x216 with 1 Axes>"
      ]
     },
     "metadata": {
      "needs_background": "light"
     },
     "output_type": "display_data"
    },
    {
     "data": {
      "image/png": "[encoded data removed]",
      "text/plain": [
       "<Figure size 288x216 with 1 Axes>"
      ]
     },
     "metadata": {
      "needs_background": "light"
     },
     "output_type": "display_data"
    },
    {
     "data": {
      "image/png": "[encoded data removed]",
      "text/plain": [
       "<Figure size 288x216 with 1 Axes>"
      ]
     },
     "metadata": {
      "needs_background": "light"
     },
     "output_type": "display_data"
    }
   ],
   "source": [
    "stumps.stump_plots(best_stump_model['features'], best_stump_model['coefs'])"
   ]
  },
  {
   "cell_type": "markdown",
   "metadata": {},
   "source": [
    "### Arnold PSA"
   ]
  },
  {
   "cell_type": "code",
   "execution_count": 21,
   "metadata": {},
   "outputs": [],
   "source": [
    "### load data\n",
    "data = pd.read_csv(\"~/Documents/Duke/Cynthia Research/KY-analysis-mytrials/KY Recidivism/KY data/kentucky_data.csv\")\n",
    "X_arnold_raw = data['nca_risk_score_raw'].values\n",
    "X_arnold_calc = data['nca_calc'].values\n",
    "Y_arnold = data['recid_two_year'].values"
   ]
  },
  {
   "cell_type": "code",
   "execution_count": 22,
   "metadata": {},
   "outputs": [],
   "source": [
    "## set up cross validation\n",
    "cv = KFold(n_splits=5,shuffle=True,random_state=816)\n",
    "raw_auc = []\n",
    "calc_auc = []\n",
    "\n",
    "## raw score\n",
    "i = 1\n",
    "for train, test in cv.split(X_arnold_raw, Y_arnold):\n",
    "    y_pred_raw, y_pred_calc, y_test = X_arnold_raw[test], X_arnold_calc[test], Y_arnold[test]\n",
    "    raw_auc.append(roc_auc_score(y_test, y_pred_raw))\n",
    "    calc_auc.append(roc_auc_score(y_test, y_pred_calc))\n",
    "    i+=1 "
   ]
  },
  {
   "cell_type": "markdown",
   "metadata": {},
   "source": [
    "## RiskSLIM"
   ]
  },
  {
   "cell_type": "code",
   "execution_count": 26,
   "metadata": {},
   "outputs": [],
   "source": [
    "## load stumps data\n",
    "data = pd.read_csv(\"~/Documents/Duke/Cynthia Research/KY-analysis-mytrials/KY Recidivism/KY data/kentucky_stumps.csv\")\n",
    "x, y = data.loc[:,:'current_violence>=1'], data['recid_two_year'].values\n",
    "cols = x.columns[3:]"
   ]
  },
  {
   "cell_type": "code",
   "execution_count": 27,
   "metadata": {},
   "outputs": [
    {
     "data": {
      "text/plain": [
       "24"
      ]
     },
     "execution_count": 27,
     "metadata": {},
     "output_type": "execute_result"
    }
   ],
   "source": [
    "## train on best param chosen by Lasso Stumps from above\n",
    "x_train = x.copy().drop(['race', 'person_id', 'screening_date'], axis=1)\n",
    "lasso = LogisticRegression(class_weight='balanced', solver='liblinear', penalty='l1', C=0.004, random_state=816).fit(x_train,y)\n",
    "selected_features = cols[lasso.coef_[0] != 0].tolist()\n",
    "len(selected_features)"
   ]
  },
  {
   "cell_type": "code",
   "execution_count": 28,
   "metadata": {},
   "outputs": [],
   "source": [
    "### Subset features\n",
    "if 'sex' in selected_features:\n",
    "    selected_features = ['recid_two_year', 'person_id', 'screening_date', 'race'] + selected_features\n",
    "    indicator = 1\n",
    "else:\n",
    "    selected_features = ['recid_two_year', 'person_id', 'screening_date', 'race', 'sex'] + selected_features\n",
    "    indicator = 0\n",
    "\n",
    "sub_data = data[selected_features]\n",
    "sub_X, sub_Y = sub_data.iloc[:,1:], sub_data.iloc[:,0].values\n",
    "sub_X.insert(0, '(Intercept)', 1)"
   ]
  },
  {
   "cell_type": "code",
   "execution_count": 29,
   "metadata": {
    "scrolled": true
   },
   "outputs": [
    {
     "name": "stdout",
     "output_type": "stream",
     "text": [
      "setting c0 = 0.0 to ensure that intercept is not penalized\n",
      "09/11/19 @ 12:40 AM | 1061 rows in lookup table\n",
      "09/11/19 @ 12:40 AM | ------------------------------------------------------------\n",
      "09/11/19 @ 12:40 AM | runnning initialization procedure\n",
      "09/11/19 @ 12:40 AM | ------------------------------------------------------------\n",
      "09/11/19 @ 12:40 AM | CPA produced 2 cuts\n",
      "09/11/19 @ 12:40 AM | running naive rounding on 58 solutions\n",
      "09/11/19 @ 12:40 AM | best objective value: 0.5150\n",
      "09/11/19 @ 12:40 AM | rounding produced 5 integer solutions\n",
      "09/11/19 @ 12:40 AM | best objective value is 0.5235\n",
      "09/11/19 @ 12:40 AM | running sequential rounding on 58 solutions\n",
      "09/11/19 @ 12:40 AM | best objective value: 0.5150\n",
      "09/11/19 @ 12:40 AM | sequential rounding produced 5 integer solutions\n",
      "09/11/19 @ 12:40 AM | best objective value: 0.5235\n",
      "09/11/19 @ 12:40 AM | polishing 10 solutions\n",
      "09/11/19 @ 12:40 AM | best objective value: 0.5235\n",
      "09/11/19 @ 12:40 AM | polishing produced 5 integer solutions\n",
      "09/11/19 @ 12:40 AM | initialization produced 10 feasible solutions\n",
      "09/11/19 @ 12:40 AM | best objective value: 0.5235\n",
      "09/11/19 @ 12:40 AM | ------------------------------------------------------------\n",
      "09/11/19 @ 12:40 AM | completed initialization procedure\n",
      "09/11/19 @ 12:40 AM | ------------------------------------------------------------\n",
      "09/11/19 @ 12:40 AM | 1061 rows in lookup table\n",
      "CPXPARAM_Read_DataCheck                          1\n",
      "CPXPARAM_Threads                                 1\n",
      "CPXPARAM_Parallel                                1\n",
      "CPXPARAM_RandomSeed                              0\n",
      "CPXPARAM_TimeLimit                               200\n",
      "CPXPARAM_MIP_Tolerances_LowerCutoff              0.5108691556491759\n",
      "CPXPARAM_MIP_Tolerances_UpperCutoff              0.52345865886965481\n"
     ]
    },
    {
     "name": "stderr",
     "output_type": "stream",
     "text": [
      "Warning: Control callbacks may disable some MIP features.\n"
     ]
    },
    {
     "name": "stdout",
     "output_type": "stream",
     "text": [
      "Lazy constraint(s) or lazy constraint callback is present.\n",
      "    Disabling dual reductions (CPX_PARAM_REDUCE) in presolve.\n",
      "    Disabling non-linear reductions (CPX_PARAM_PRELINEAR) in presolve.\n",
      "         Disabling repeat represolve because of lazy constraint/incumbent callback.\n",
      "09/11/19 @ 12:40 AM | adding 249 initial cuts\n",
      "1 of 1 MIP starts provided solutions.\n",
      "MIP start 'mip_start_0' defined initial solution with objective 0.5235.\n",
      "Tried aggregator 1 time.\n",
      "Reduced MIP has 26 rows, 52 columns, and 99 nonzeros.\n",
      "Reduced MIP has 24 binaries, 26 generals, 0 SOSs, and 0 indicators.\n",
      "Presolve time = 0.00 sec. (0.05 ticks)\n",
      "Probing time = 0.00 sec. (0.01 ticks)\n",
      "MIP emphasis: balance optimality and feasibility.\n",
      "MIP search method: traditional branch-and-cut.\n",
      "Parallel mode: none, using 1 thread.\n",
      "Root relaxation solution time = 0.00 sec. (0.03 ticks)\n",
      "\n",
      "        Nodes                                         Cuts/\n",
      "   Node  Left     Objective  IInf  Best Integer    Best Bound    ItCnt     Gap         Variable B NodeID Parent  Depth\n",
      "\n",
      "*     0+    0                            0.5235        0.5108             2.42%\n",
      "      0     0        0.5109     1        0.5235        0.5109        1    2.41%\n",
      "      0     0        0.5109     1        0.5235       Cuts: 2        2    2.41%\n",
      "      0     0        0.5109     1        0.5235       Cuts: 2        5    2.41%\n",
      "      0     2        0.5109     2        0.5235        0.5109        6    2.41%                        0             0\n",
      "Elapsed time = 0.11 sec. (1.88 ticks, tree = 0.01 MB, solutions = 1)\n",
      "   3385  1319        0.5109     4        0.5235        0.5109    15240    2.41%          rho_13 U   3385   3383     54\n",
      "   6080  2333        0.5109     1        0.5235        0.5109    22620    2.41%          rho_20 D   6080   6079     14\n",
      "   7990  3313        0.5122    10        0.5235        0.5109    31714    2.41%          rho_14 D   7990   7989     59\n",
      "   9879  4001        0.5118     5        0.5235        0.5109    40432    2.41%           rho_7 U   9879   9878     58\n",
      "  11621  4572        cutoff              0.5235        0.5109    49382    2.41%           rho_2 D  11621  11619     46\n",
      "  13478  5203        0.5166     7        0.5235        0.5109    58100    2.41%           rho_3 D  13478  13477     63\n",
      "* 15090+ 5848                            0.5232        0.5109             2.36%\n",
      "* 15099  5852      integral     0        0.5232        0.5109    66320    2.36%          rho_10 N  15099  15098     25\n",
      "  16697  6323        0.5222     9        0.5232        0.5109    73509    2.36%          rho_24 D  16697  16696     68\n",
      "  18280  6570        0.5174     1        0.5232        0.5109    82108    2.36%           rho_1 N  18280   4705     67\n",
      "  24678  7525        0.5177     6        0.5232        0.5109   115481    2.36%           rho_3 N  24678   7294     47\n",
      "Elapsed time = 3.86 sec. (3091.81 ticks, tree = 1.93 MB, solutions = 3)\n",
      "  31600 10170        0.5214     5        0.5232        0.5109   147911    2.36%          rho_13 U  31600  31598     48\n",
      "  37800 11330        cutoff              0.5232        0.5109   182478    2.36%           rho_0 U  37800  37799     44\n",
      "  43982 12973        0.5155    10        0.5232        0.5109   215142    2.36%          rho_13 N  43982  43981     19\n",
      "  50020 14509        0.5147     7        0.5232        0.5109   248921    2.36%          rho_14 D  50020  50019     78\n",
      "  55020 15208        cutoff              0.5232        0.5109   287440    2.36%          rho_22 U  55020  55018     39\n",
      "  60072 15953        0.5208    11        0.5232        0.5109   324903    2.36%          rho_14 D  60072  60071     66\n",
      "  65409 17293        cutoff              0.5232        0.5109   357778    2.36%          rho_24 U  65409  65408     28\n",
      "  71748 19740        0.5206    10        0.5232        0.5109   391484    2.36%          rho_22 D  71748  71747     36\n",
      "  76880 19876        0.5127     7        0.5232        0.5109   420427    2.36%           rho_2 D  76880  76878     44\n",
      "  82651 20644        0.5131     6        0.5232        0.5109   452237    2.36%           rho_8 U  82651  68947     57\n",
      "Elapsed time = 12.47 sec. (12630.21 ticks, tree = 5.86 MB, solutions = 3)\n",
      "  88404 21706        0.5125     7        0.5232        0.5109   485145    2.36%          rho_13 D  88404  88403     60\n",
      "  94055 22492        0.5220     4        0.5232        0.5109   516433    2.36%          rho_13 U  94055  94054     57\n",
      "* 95000+22416                            0.5232        0.5109             2.36%\n",
      "  99228 22545        cutoff              0.5232        0.5109   548465    2.36%           rho_0 D  99228  99226     71\n",
      " 104335 23994        0.5109     6        0.5232        0.5109   584358    2.36%           rho_0 D 104335 104333     53\n",
      " 109394 25227        0.5109     6        0.5232        0.5109   619398    2.36%          rho_13 U 109394 109388     52\n",
      " 114306 26205        0.5114     7        0.5232        0.5109   657669    2.36%           rho_3 D 114306 114305     34\n",
      " 119930 27284        0.5232     7        0.5232        0.5109   690652    2.36%           rho_2 D 119930 119928     78\n",
      " 125468 27968        0.5109     5        0.5232        0.5109   722355    2.36%           rho_0 D 125468 125466     28\n",
      " 131149 28998        0.5160     3        0.5232        0.5109   752381    2.36%           rho_1 D 131149 131069     50\n",
      " 136443 29150        0.5206    11        0.5232        0.5109   782797    2.36%          rho_24 D 136443 136442     73\n",
      "Elapsed time = 21.44 sec. (22168.17 ticks, tree = 7.76 MB, solutions = 4)\n",
      " 141740 30492        0.5212     9        0.5232        0.5109   814870    2.36%           rho_9 D 141740 141739     45\n",
      " 147022 30824        0.5114     9        0.5232        0.5109   846412    2.36%           rho_0 D 147022 147020     78\n",
      " 152249 32133        cutoff              0.5232        0.5109   876661    2.36%          rho_24 U 152249 152248     55\n",
      " 157605 34066        0.5138    10        0.5232        0.5109   910469    2.36%           rho_7 N 157605 157604     44\n",
      " 162620 35580        cutoff              0.5232        0.5109   943689    2.36%          rho_19 U 162620 162619     47\n",
      " 167384 36717        0.5109    10        0.5232        0.5109   976100    2.36%           rho_0 D 167384 167382     67\n",
      " 171952 37727        cutoff              0.5232        0.5109  1008208    2.36%          rho_14 D 171952 171951     54\n",
      " 176177 38974        0.5143     5        0.5232        0.5109  1046066    2.36%           rho_3 D 176177 176176     41\n",
      " 181157 40727        0.5158     7        0.5232        0.5109  1076673    2.36%           rho_1 D 181157 181156     28\n",
      " 185736 40950        0.5118    11        0.5232        0.5109  1103486    2.36%           rho_0 D 185736 185734     91\n",
      "Elapsed time = 28.91 sec. (31706.27 ticks, tree = 11.83 MB, solutions = 4)\n",
      " 190171 41511        0.5109     2        0.5232        0.5109  1129738    2.36%          rho_13 U 190171 190169     49\n",
      " 194980 43129        0.5109     7        0.5232        0.5109  1158209    2.36%          rho_13 D 194980 194979     64\n",
      " 199290 43761        0.5179     4        0.5232        0.5109  1185755    2.36%          rho_14 N 199290 199129     85\n",
      " 203920 44815        0.5123     7        0.5232        0.5109  1211825    2.36%          rho_13 D 203920 203919     78\n",
      " 209201 46963        cutoff              0.5232        0.5109  1236803    2.36%           rho_0 U 209201 209200     72\n",
      " 214527 49070        0.5145     9        0.5232        0.5109  1259754    2.36%          rho_13 D 214527 214526     28\n",
      " 219268 51023        0.5177    11        0.5232        0.5109  1285323    2.36%          rho_23 D 219268 219267     38\n",
      " 223480 52699        0.5177    11        0.5232        0.5109  1316513    2.36%          rho_23 D 223480 223479     90\n",
      " 227667 54324        0.5225     4        0.5232        0.5109  1347910    2.36%          rho_12 N 227667 227666     44\n",
      " 232147 55775        0.5158     7        0.5232        0.5109  1377353    2.36%          rho_23 D 232147 232146     73\n",
      "Elapsed time = 37.58 sec. (41245.14 ticks, tree = 15.09 MB, solutions = 4)\n",
      " 236210 56434        0.5198    11        0.5232        0.5109  1406481    2.36%          rho_19 D 236210 236208     43\n",
      " 240316 57717        0.5168    11        0.5232        0.5109  1437177    2.36%           rho_0 D 240316 240314     44\n",
      " 244429 58280        0.5158     7        0.5232        0.5109  1462716    2.36%           rho_2 D 244429 244427     54\n",
      " 249508 59998        0.5109     7        0.5232        0.5109  1483549    2.36%           rho_1 D 249508 249507     41\n",
      " 253920 61376        0.5152    11        0.5232        0.5109  1513943    2.36%           rho_2 D 253920 253919     86\n",
      " 258103 61641        0.5109     5        0.5232        0.5109  1542290    2.36%           rho_0 D 258103 258101     74\n",
      " 263276 62966        0.5215     7        0.5232        0.5109  1570148    2.36%           rho_6 D 263276 263275     78\n",
      " 268002 64100        0.5109     4        0.5232        0.5109  1599042    2.36%           rho_0 D 268002 268000     70\n",
      " 273010 65802        0.5109     4        0.5232        0.5109  1626535    2.36%          rho_13 U 273010 273008     82\n",
      " 277641 67283        0.5171     8        0.5232        0.5109  1652272    2.36%           rho_1 N 277641  16451     75\n",
      "Elapsed time = 44.66 sec. (50783.05 ticks, tree = 20.48 MB, solutions = 4)\n",
      " 282137 68393        0.5109     1        0.5232        0.5109  1679183    2.36%          rho_13 U 282137 282135     86\n",
      " 286918 69611        0.5157     9        0.5232        0.5109  1703399    2.36%           rho_2 D 286918 286916     49\n",
      " 291748 71117        0.5120    10        0.5232        0.5109  1728923    2.36%           rho_1 N 291748 291629     42\n",
      " 295965 72228        0.5231     5        0.5232        0.5109  1757002    2.36%           rho_6 U 295965 295963     61\n",
      " 300074 72939        0.5109     6        0.5232        0.5109  1785549    2.36%           rho_1 N 300074 300056     52\n",
      " 304137 73517        0.5138    12        0.5232        0.5109  1815394    2.36%          rho_13 D 304137 304136     66\n",
      " 308160 74518        cutoff              0.5232        0.5109  1845109    2.36%           rho_0 D 308160 308158     92\n",
      " 312130 74795        0.5200    11        0.5232        0.5109  1873212    2.36%           rho_0 D 312130 312128     54\n",
      " 316081 75167        0.5109     7        0.5232        0.5109  1901308    2.36%           rho_1 D 316081 291366     52\n",
      " 320161 75493        0.5218     1        0.5232        0.5109  1930224    2.36%           rho_6 U 320161 320159     53\n",
      "Elapsed time = 51.42 sec. (60322.06 ticks, tree = 22.38 MB, solutions = 4)\n",
      " 324438 75976        0.5151     8        0.5232        0.5109  1958421    2.36%           rho_1 D 324438 324088     50\n",
      " 328683 76287        0.5109     7        0.5232        0.5109  1986853    2.36%          rho_14 D 328683 328675     74\n",
      " 332767 76561        0.5109     7        0.5232        0.5109  2015878    2.36%          rho_14 D 332767 332766     51\n",
      " 336650 76647        0.5133    10        0.5232        0.5109  2044047    2.36%           rho_1 N 336650 336649     46\n",
      " 340800 77646        0.5109     6        0.5232        0.5109  2072237    2.36%           rho_0 D 340800 340798     51\n",
      " 345016 78731        0.5177    13        0.5232        0.5109  2099531    2.36%          rho_13 D 345016 345015     51\n",
      " 348860 79197        cutoff              0.5232        0.5109  2126801    2.36%           rho_0 U 348860 348859     65\n",
      " 352844 79841        cutoff              0.5232        0.5109  2155581    2.36%           rho_0 U 352844 352843     77\n",
      " 356620 80358        0.5222     5        0.5232        0.5109  2186424    2.36%           rho_6 U 356620 356618     65\n",
      " 360261 81426        cutoff              0.5232        0.5109  2218496    2.36%          rho_24 U 360261 360259     79\n",
      "Elapsed time = 58.61 sec. (69860.98 ticks, tree = 23.76 MB, solutions = 4)\n",
      " 363968 82069        0.5109     6        0.5232        0.5109  2249542    2.36%           rho_0 D 363968 363966     39\n",
      " 367970 82392        0.5117    12        0.5232        0.5109  2275926    2.36%           rho_1 D 367970 127867     55\n",
      " 372209 83074        0.5201     5        0.5232        0.5109  2299642    2.36%          rho_23 D 372209 372208     49\n",
      " 377027 84870        0.5176     9        0.5232        0.5109  2327369    2.36%          rho_15 U 377027 377025     90\n",
      " 381579 86397        cutoff              0.5232        0.5109  2356074    2.36%          rho_23 D 381579 381577     56\n",
      " 385983 87785        0.5229     5        0.5232        0.5109  2384258    2.36%          rho_24 D 385983 385982     41\n",
      " 389541 89085        0.5109     8        0.5232        0.5109  2414682    2.36%          rho_13 U 389541 389489     47\n",
      " 393414 90018        cutoff              0.5232        0.5109  2443012    2.36%          rho_24 D 393414 393413     78\n",
      " 397216 90975        0.5163    10        0.5232        0.5109  2470357    2.36%           rho_4 U 397216 177823     75\n",
      " 401229 92473        0.5109     4        0.5232        0.5109  2496694    2.36%          rho_13 U 401229 401227     51\n",
      "Elapsed time = 66.27 sec. (79399.10 ticks, tree = 26.28 MB, solutions = 4)\n",
      " 404821 93202        0.5221     6        0.5232        0.5109  2526287    2.36%          rho_11 D 404821 404819     48\n",
      " 408572 94245        cutoff              0.5232        0.5109  2554106    2.36%          rho_16 U 408572 408570     34\n",
      " 411945 94725        0.5109     8        0.5232        0.5109  2582635    2.36%          rho_13 U 411945 411943     65\n",
      " 415455 95878        cutoff              0.5232        0.5109  2612156    2.36%           rho_0 U 415455 415454     36\n",
      " 418810 96798        0.5109     7        0.5232        0.5109  2640920    2.36%           rho_9 N 418810 418809     81\n",
      " 422213 96984        cutoff              0.5232        0.5109  2667526    2.36%           rho_0 U 422213 422212     52\n",
      " 427188 99026        cutoff              0.5232        0.5109  2687614    2.36%          rho_23 D 427188 427187     40\n",
      " 431710 100966        0.5126     9        0.5232        0.5109  2712228    2.36%          rho_13 D 431710 431709     76\n",
      " 436165 102496        cutoff              0.5232        0.5109  2734545    2.36%          rho_23 D 436165 436163    101\n",
      " 452385 108121        0.5109     6        0.5232        0.5109  2838168    2.36%          rho_13 U 452385 452378     23\n",
      "Elapsed time = 75.20 sec. (91797.98 ticks, tree = 29.97 MB, solutions = 4)\n",
      " 466815 111521        cutoff              0.5232        0.5109  2949010    2.36%           rho_0 D 466815 466813     65\n",
      " 480300 113074        0.5194     8        0.5232        0.5109  3056321    2.36%           rho_2 U 480300 116347     61\n",
      " 494406 117618        0.5132     5        0.5232        0.5109  3166739    2.36%           rho_0 U 494406 494405     32\n",
      " 508029 121825        0.5172     9        0.5232        0.5109  3276632    2.36%           rho_2 D 508029 508028     41\n",
      " 523188 125721        0.5172    10        0.5232        0.5109  3377053    2.36%           rho_3 N 523188 523172     68\n",
      " 538680 129699        0.5226     3        0.5232        0.5109  3473255    2.36%          rho_23 U 538680 538679     75\n",
      " 552757 133665        0.5176     6        0.5232        0.5109  3575568    2.36%           rho_1 U 552757 317103     37\n",
      " 565280 135633        0.5144    12        0.5232        0.5109  3686528    2.36%          rho_13 D 565280 565279     54\n",
      " 577814 139725        0.5156    14        0.5232        0.5109  3800068    2.36%          rho_23 D 577814 577813     52\n",
      " 590818 143100        0.5109     7        0.5232        0.5109  3903108    2.36%          rho_13 U 590818 590816     54\n",
      "Elapsed time = 105.36 sec. (129947.49 ticks, tree = 41.04 MB, solutions = 4)\n",
      " 603840 146566        0.5109    14        0.5232        0.5109  4007021    2.36%           rho_2 D 603840 603839     51\n",
      " 617255 148089        0.5200     6        0.5232        0.5109  4106457    2.36%          rho_20 N 617255 385366     47\n",
      " 629846 151030        cutoff              0.5232        0.5109  4214923    2.36%           rho_0 U 629846 629845     17\n",
      " 642560 154697        0.5154    15        0.5232        0.5109  4331013    2.36%           rho_7 D 642560 642559     42\n",
      " 657497 158837        cutoff              0.5232        0.5109  4429426    2.36%          rho_16 U 657497 657495     79\n",
      " 673291 162909        0.5145    12        0.5232        0.5109  4522797    2.36%           rho_1 D 673291 673290     50\n",
      " 686900 166978        0.5162    11        0.5232        0.5109  4629505    2.36%          rho_15 D 686900 686899     75\n",
      " 699809 172107        0.5115    14        0.5232        0.5109  4746083    2.36%          rho_13 D 699809 699808     39\n",
      " 713010 176282        cutoff              0.5232        0.5109  4852735    2.36%          rho_20 D 713010 713009     73\n",
      " 726578 181015        0.5163    11        0.5232        0.5109  4957642    2.36%           rho_4 D 726578 726577     46\n",
      "Elapsed time = 133.33 sec. (168096.04 ticks, tree = 51.58 MB, solutions = 4)\n",
      " 741104 185648        0.5220     5        0.5232        0.5109  5051569    2.36%           rho_9 N 741104 741103     77\n",
      " 754763 189610        0.5125    17        0.5232        0.5109  5148872    2.36%          rho_14 D 754763 754762     66\n",
      " 769570 194534        cutoff              0.5232        0.5109  5243645    2.36%          rho_20 U 769570 769569     70\n",
      " 783860 197940        0.5109    10        0.5232        0.5109  5337683    2.36%           rho_0 D 783860 783686     57\n",
      " 796310 202140        0.5192     9        0.5232        0.5109  5445408    2.36%          rho_23 D 796310 796309     70\n",
      " 808581 204047        0.5219     9        0.5232        0.5109  5548600    2.36%           rho_9 D 808581 808579     52\n",
      " 822494 208954        cutoff              0.5232        0.5109  5642305    2.36%           rho_0 U 822494 822493     64\n",
      " 834474 212717        0.5115    12        0.5232        0.5109  5759226    2.36%          rho_13 D 834474 834473     73\n",
      " 847694 217209        0.5217     5        0.5232        0.5109  5858286    2.36%           rho_0 U 847694 847692     66\n",
      " 861665 222033        0.5230     9        0.5232        0.5109  5950987    2.36%           rho_0 D 861665 861663     75\n",
      "Elapsed time = 163.66 sec. (206244.21 ticks, tree = 63.38 MB, solutions = 4)\n",
      " 873791 225861        0.5226     5        0.5232        0.5109  6051363    2.36%          rho_22 N 873791 873790     61\n",
      " 886059 229753        0.5109    10        0.5232        0.5109  6160991    2.36%           rho_0 D 886059 886057     43\n",
      " 900357 235297        0.5179     3        0.5232        0.5109  6260035    2.36%           rho_3 D 900357 900356     56\n",
      " 914229 240361        0.5109    12        0.5232        0.5109  6358178    2.36%          rho_13 U 914229 914224     54\n",
      " 928305 245639        0.5223     9        0.5232        0.5109  6453583    2.36%          rho_14 N 928305 928304     65\n",
      " 941733 250229        cutoff              0.5232        0.5109  6547060    2.36%          rho_16 U 941733 941731     60\n",
      " 954004 254731        0.5122    17        0.5232        0.5109  6644963    2.36%           rho_0 D 954004 953982     72\n",
      " 967092 259570        0.5109    10        0.5232        0.5109  6736583    2.36%          rho_13 U 967092 967086     34\n",
      " 978772 263954        0.5220    10        0.5232        0.5109  6838195    2.36%           rho_3 D 978772 978771     68\n",
      " 991159 267915        0.5109    12        0.5232        0.5109  6929739    2.36%           rho_0 D 991159 991157     37\n",
      "Elapsed time = 193.42 sec. (244393.97 ticks, tree = 76.77 MB, solutions = 4)\n",
      " 1003932 273080        0.5109    12        0.5232        0.5109  7025654    2.36%           rho_0 D 1003932 1003921     51\n",
      "\n",
      "Gomory fractional cuts applied:  1\n",
      "User cuts applied:  304\n",
      "\n",
      "Root node processing (before b&c):\n",
      "  Real time             =    0.11 sec. (1.90 ticks)\n",
      "Sequential b&c:\n",
      "  Real time             =  199.91 sec. (250190.87 ticks)\n",
      "                          ------------\n",
      "Total (root+branch&cut) =  200.02 sec. (250192.78 ticks)\n",
      "+----------------------------------------------+------------------+-----------+\n",
      "| Pr(Y = +1) = 1.0/(1.0 + exp(-(-2 + score))   |                  |           |\n",
      "| ============================================ | ================ | ========= |\n",
      "| p_arrest>=2                                  |         1 points |   + ..... |\n",
      "| p_arrest>=3                                  |         1 points |   + ..... |\n",
      "| p_arrest>=6                                  |         1 points |   + ..... |\n",
      "| ============================================ | ================ | ========= |\n",
      "| ADD POINTS FROM ROWS 1 to 3                  |            SCORE |   = ..... |\n",
      "+----------------------------------------------+------------------+-----------+\n",
      "model_id, score_thresholds 0 {'rank_abs': [1723]}\n",
      "get_disparity_predefined_group()\n",
      "setting c0 = 0.0 to ensure that intercept is not penalized\n",
      "09/11/19 @ 12:44 AM | 1061 rows in lookup table\n",
      "09/11/19 @ 12:44 AM | ------------------------------------------------------------\n",
      "09/11/19 @ 12:44 AM | runnning initialization procedure\n",
      "09/11/19 @ 12:44 AM | ------------------------------------------------------------\n",
      "09/11/19 @ 12:44 AM | CPA produced 2 cuts\n",
      "09/11/19 @ 12:44 AM | running naive rounding on 61 solutions\n",
      "09/11/19 @ 12:44 AM | best objective value: 0.5172\n",
      "09/11/19 @ 12:44 AM | rounding produced 3 integer solutions\n",
      "09/11/19 @ 12:44 AM | best objective value is 0.5258\n",
      "09/11/19 @ 12:44 AM | running sequential rounding on 61 solutions\n",
      "09/11/19 @ 12:44 AM | best objective value: 0.5172\n",
      "09/11/19 @ 12:44 AM | sequential rounding produced 5 integer solutions\n",
      "09/11/19 @ 12:44 AM | best objective value: 0.5258\n",
      "09/11/19 @ 12:44 AM | polishing 8 solutions\n",
      "09/11/19 @ 12:44 AM | best objective value: 0.5258\n",
      "09/11/19 @ 12:44 AM | polishing produced 5 integer solutions\n",
      "09/11/19 @ 12:44 AM | initialization produced 6 feasible solutions\n",
      "09/11/19 @ 12:44 AM | best objective value: 0.5258\n",
      "09/11/19 @ 12:44 AM | ------------------------------------------------------------\n",
      "09/11/19 @ 12:44 AM | completed initialization procedure\n",
      "09/11/19 @ 12:44 AM | ------------------------------------------------------------\n",
      "09/11/19 @ 12:44 AM | 1061 rows in lookup table\n",
      "CPXPARAM_Read_DataCheck                          1\n",
      "CPXPARAM_Threads                                 1\n",
      "CPXPARAM_Parallel                                1\n",
      "CPXPARAM_RandomSeed                              0\n",
      "CPXPARAM_TimeLimit                               200\n",
      "CPXPARAM_MIP_Tolerances_LowerCutoff              0.5127116914443034\n",
      "CPXPARAM_MIP_Tolerances_UpperCutoff              0.52583980593060164\n"
     ]
    },
    {
     "name": "stderr",
     "output_type": "stream",
     "text": [
      "Warning: Control callbacks may disable some MIP features.\n"
     ]
    },
    {
     "name": "stdout",
     "output_type": "stream",
     "text": [
      "Lazy constraint(s) or lazy constraint callback is present.\n",
      "    Disabling dual reductions (CPX_PARAM_REDUCE) in presolve.\n",
      "    Disabling non-linear reductions (CPX_PARAM_PRELINEAR) in presolve.\n",
      "         Disabling repeat represolve because of lazy constraint/incumbent callback.\n",
      "09/11/19 @ 12:44 AM | adding 249 initial cuts\n",
      "1 of 1 MIP starts provided solutions.\n",
      "MIP start 'mip_start_0' defined initial solution with objective 0.5258.\n",
      "Tried aggregator 1 time.\n",
      "Reduced MIP has 26 rows, 52 columns, and 99 nonzeros.\n",
      "Reduced MIP has 24 binaries, 26 generals, 0 SOSs, and 0 indicators.\n",
      "Presolve time = 0.00 sec. (0.05 ticks)\n",
      "Probing time = 0.00 sec. (0.01 ticks)\n",
      "MIP emphasis: balance optimality and feasibility.\n",
      "MIP search method: traditional branch-and-cut.\n",
      "Parallel mode: none, using 1 thread.\n",
      "Root relaxation solution time = 0.00 sec. (0.03 ticks)\n",
      "\n",
      "        Nodes                                         Cuts/\n",
      "   Node  Left     Objective  IInf  Best Integer    Best Bound    ItCnt     Gap         Variable B NodeID Parent  Depth\n",
      "\n",
      "*     0+    0                            0.5258        0.5126             2.52%\n",
      "      0     0        0.5127     1        0.5258        0.5127        1    2.50%\n",
      "      0     0        0.5127     1        0.5258       Cuts: 2        2    2.50%\n",
      "      0     0        0.5127     1        0.5258       Cuts: 2        5    2.50%\n",
      "      0     2        0.5127     2        0.5258        0.5127        6    2.50%                        0             0\n",
      "Elapsed time = 0.09 sec. (1.88 ticks, tree = 0.01 MB, solutions = 1)\n",
      "   3247  1311        cutoff              0.5258        0.5127    11814    2.50%           rho_5 U   3247   3246     24\n",
      "   6010  2360        0.5218     4        0.5258        0.5127    23403    2.50%           rho_3 U   6010   6007     52\n",
      "   8475  3000        0.5127     1        0.5258        0.5127    32468    2.50%          rho_13 U   8475   8426     52\n",
      "  11007  3814        cutoff              0.5258        0.5127    39921    2.50%          rho_18 U  11007  11006     64\n",
      "  13199  4200        0.5223     5        0.5258        0.5127    46708    2.50%           rho_0 D  13199  13197     55\n",
      "  14994  3982        0.5242     3        0.5258        0.5127    53324    2.50%           rho_0 D  14994  14992     84\n",
      "  16791  3667        0.5242     3        0.5258        0.5127    60130    2.50%           rho_0 D  16791  16789     58\n",
      "  18674  3422        0.5176     4        0.5258        0.5127    67140    2.50%           rho_2 N  18674  12314     68\n",
      "  21113  4427        0.5206    10        0.5258        0.5127    75304    2.50%           rho_3 U  21113  21111     77\n",
      "  29636  6085        0.5233     5        0.5258        0.5127   112315    2.50%           rho_0 D  29636  29635     58\n",
      "Elapsed time = 4.56 sec. (3101.92 ticks, tree = 1.60 MB, solutions = 1)\n",
      "  37721  7111        cutoff              0.5258        0.5127   150179    2.50%          rho_24 D  37721  37720     76\n",
      "  45503  9332        0.5141     5        0.5258        0.5127   182226    2.50%           rho_0 D  45503  45501     67\n",
      "  51728  9959        0.5219     3        0.5258        0.5127   209024    2.50%          rho_14 N  51728  51727     57\n",
      "  58167 11129        0.5127     5        0.5258        0.5127   233701    2.50%           rho_1 D  58167  58166     89\n",
      "  64442 11277        0.5127     8        0.5258        0.5127   255772    2.50%           rho_0 D  64442  64440     65\n",
      "  71920 14128        cutoff              0.5258        0.5127   281859    2.50%           rho_3 U  71920  71919     63\n",
      "  77246 14219        cutoff              0.5258        0.5127   307022    2.50%           rho_1 U  77246  77244     88\n",
      "  83494 15434        0.5160     8        0.5258        0.5127   332926    2.50%           rho_4 U  83494  83400     64\n",
      "  90070 17331        0.5167     6        0.5258        0.5127   358086    2.50%           rho_6 N  90070  90069     47\n",
      "  96030 19348        0.5153    10        0.5258        0.5127   389450    2.50%          rho_13 D  96030  96029     71\n",
      "Elapsed time = 15.83 sec. (12639.71 ticks, tree = 5.55 MB, solutions = 1)\n",
      " 101390 20801        0.5127     4        0.5258        0.5127   419329    2.50%           rho_5 U 101390 101268     48\n",
      " 106631 22190        0.5127     4        0.5258        0.5127   443638    2.50%          rho_13 U 106631 106602     64\n",
      " 111263 22802        0.5156     6        0.5258        0.5127   469423    2.50%           rho_1 N 111263 111152     29\n",
      " 116050 23846        0.5142    11        0.5258        0.5127   495550    2.50%          rho_14 D 116050 116049     58\n",
      " 120670 24755        0.5136     9        0.5258        0.5127   521803    2.50%          rho_13 D 120670 120669     57\n",
      " 125233 26251        cutoff              0.5258        0.5127   548851    2.50%          rho_14 U 125233 125232     48\n",
      " 129995 27779        cutoff              0.5258        0.5127   574578    2.50%           rho_0 U 129995 129894     52\n",
      " 134110 28035        0.5188     7        0.5258        0.5127   599326    2.50%           rho_1 U 134110  92074     52\n",
      " 138608 28772        0.5154     7        0.5258        0.5127   622407    2.50%           rho_1 D 138608 138144     75\n",
      " 143343 29782        0.5244     7        0.5258        0.5127   644973    2.50%          rho_24 D 143343 143341     54\n",
      "Elapsed time = 27.06 sec. (22178.38 ticks, tree = 7.99 MB, solutions = 1)\n",
      " 148246 29839        0.5179     6        0.5258        0.5127   667412    2.50%           rho_1 D 148246 142403     36\n",
      " 153325 31389        cutoff              0.5258        0.5127   690023    2.50%          rho_14 U 153325 153323     88\n",
      " 157847 32072        0.5224     4        0.5258        0.5127   712277    2.50%           rho_0 D 157847 157845     34\n",
      " 162397 33366        cutoff              0.5258        0.5127   736085    2.50%          rho_24 U 162397 162395     87\n",
      " 167114 34793        0.5137    12        0.5258        0.5127   763050    2.50%           rho_0 D 167114 167112     59\n",
      " 171042 36287        cutoff              0.5258        0.5127   794679    2.50%          rho_23 U 171042 171040     48\n",
      " 175046 37140        0.5229     9        0.5258        0.5127   822625    2.50%          rho_19 D 175046 175044     45\n",
      " 179003 38656        0.5127     9        0.5258        0.5127   851462    2.50%           rho_1 D 179003 179002     71\n",
      " 183564 39903        0.5127     4        0.5258        0.5127   875118    2.50%          rho_13 U 183564 183562     39\n",
      " 187630 41603        0.5218     7        0.5258        0.5127   899495    2.50%           rho_9 N 187630 187629     83\n",
      "Elapsed time = 36.45 sec. (31717.14 ticks, tree = 12.09 MB, solutions = 1)\n",
      " 191720 43331        0.5135    10        0.5258        0.5127   924259    2.50%          rho_13 D 191720 191719     74\n",
      " 196000 44263        0.5127     5        0.5258        0.5127   946367    2.50%           rho_1 D 196000 195999     52\n",
      " 200436 44803        cutoff              0.5258        0.5127   967604    2.50%           rho_0 U 200436 200435     51\n",
      " 204944 45595        0.5178     4        0.5258        0.5127   988862    2.50%           rho_4 U 204944 204926     53\n",
      " 209218 46444        0.5127     6        0.5258        0.5127  1009899    2.50%          rho_13 D 209218 209217     32\n",
      " 213127 47559        0.5152     7        0.5258        0.5127  1032993    2.50%           rho_1 N 213127 209813     85\n",
      " 217226 48312        cutoff              0.5258        0.5127  1054833    2.50%           rho_0 U 217226 217225     71\n",
      " 221731 49063        0.5161    11        0.5258        0.5127  1075838    2.50%           rho_6 D 221731 221720     59\n",
      " 225596 50085        0.5127     4        0.5258        0.5127  1103686    2.50%           rho_0 D 225596 225594     36\n",
      " 229345 50556        0.5156     8        0.5258        0.5127  1127260    2.50%           rho_1 N 229345 122783     59\n",
      "Elapsed time = 44.83 sec. (41256.12 ticks, tree = 14.23 MB, solutions = 1)\n",
      " 233022 51643        0.5141     5        0.5258        0.5127  1153642    2.50%          rho_14 N 233022 233008     61\n",
      " 237252 52697        0.5211    12        0.5258        0.5127  1176594    2.50%          rho_14 D 237252 237251     67\n",
      " 241319 53724        0.5127     6        0.5258        0.5127  1200124    2.50%           rho_0 D 241319 241317     59\n",
      " 245580 54918        0.5200     9        0.5258        0.5127  1224113    2.50%          rho_15 D 245580 245579     70\n",
      " 249433 56096        0.5198     8        0.5258        0.5127  1249872    2.50%          rho_14 D 249433 249432     58\n",
      " 252906 57338        0.5184     5        0.5258        0.5127  1277379    2.50%          rho_15 D 252906 252905     47\n",
      " 256622 58265        cutoff              0.5258        0.5127  1302002    2.50%           rho_0 U 256622 256621     43\n",
      " 260240 59885        0.5220     3        0.5258        0.5127  1327556    2.50%          rho_16 D 260240 260239     95\n",
      " 264025 61324        0.5228    10        0.5258        0.5127  1351389    2.50%          rho_14 D 264025 264024     54\n",
      " 268050 61586        0.5127     2        0.5258        0.5127  1371540    2.50%           rho_0 D 268050 268048     45\n",
      "Elapsed time = 53.84 sec. (50794.74 ticks, tree = 16.84 MB, solutions = 1)\n",
      " 272265 62464        0.5127     5        0.5258        0.5127  1392210    2.50%          rho_21 D 272265 271922     57\n",
      " 276150 63612        cutoff              0.5258        0.5127  1415522    2.50%           rho_0 U 276150 276149     81\n",
      " 279825 65038        0.5136    10        0.5258        0.5127  1441481    2.50%           rho_0 D 279825 279823     72\n",
      " 283589 65984        0.5136    10        0.5258        0.5127  1464107    2.50%           rho_0 D 283589 283587     72\n",
      " 287401 67015        cutoff              0.5258        0.5127  1486986    2.50%           rho_0 U 287401 287400     57\n",
      " 291671 68370        0.5244    11        0.5258        0.5127  1507617    2.50%           rho_7 D 291671 291669     93\n",
      " 295408 68394        0.5257     9        0.5258        0.5127  1528592    2.50%          rho_10 N 295408 295407     57\n",
      " 299213 68471        cutoff              0.5258        0.5127  1549796    2.50%           rho_0 D 299213 299212     46\n",
      " 303459 69255        0.5251     8        0.5258        0.5127  1572784    2.50%           rho_3 U 303459 303458     45\n",
      " 306779 69666        0.5129    11        0.5258        0.5127  1597000    2.50%           rho_4 D 306779 306778     49\n",
      "Elapsed time = 62.80 sec. (60332.66 ticks, tree = 21.58 MB, solutions = 1)\n",
      " 310015 70009        0.5224     9        0.5258        0.5127  1620616    2.50%           rho_2 D 310015 310013     46\n",
      " 314293 70776        0.5241     5        0.5258        0.5127  1643660    2.50%          rho_20 N 314293 314292     40\n",
      " 318787 72073        0.5168     6        0.5258        0.5127  1662166    2.50%           rho_4 U 318787 316687     71\n",
      " 322464 72181        0.5191     8        0.5258        0.5127  1682988    2.50%          rho_14 N 322464 318669     79\n",
      " 325583 71606        0.5146     6        0.5258        0.5127  1705323    2.50%          rho_14 N 325583 325569     50\n",
      " 329717 72421        0.5127     6        0.5258        0.5127  1727175    2.50%          rho_13 U 329717 329715     57\n",
      " 333210 73430        0.5133    11        0.5258        0.5127  1751135    2.50%          rho_13 D 333210 333209     53\n",
      " 336197 74591        0.5190     9        0.5258        0.5127  1782531    2.50%          rho_24 D 336197 336195     35\n",
      " 340099 76166        0.5224    13        0.5258        0.5127  1804059    2.50%           rho_6 D 340099 340098     26\n",
      " 343906 77263        0.5127     1        0.5258        0.5127  1827396    2.50%          rho_13 U 343906 343904     49\n",
      "Elapsed time = 72.64 sec. (69871.92 ticks, tree = 23.34 MB, solutions = 1)\n",
      " 347757 78665        0.5153    10        0.5258        0.5127  1849899    2.50%           rho_1 U 347757 345712     60\n",
      " 351340 79530        0.5204    10        0.5258        0.5127  1872083    2.50%           rho_6 D 351340 351339     64\n",
      " 355068 80572        0.5164    10        0.5258        0.5127  1894596    2.50%           rho_1 N 355068 354468     69\n",
      " 358715 81192        cutoff              0.5258        0.5127  1917508    2.50%          rho_24 U 358715 358714     85\n",
      " 362378 81756        0.5235    10        0.5258        0.5127  1940313    2.50%          rho_14 D 362378 362377     40\n",
      " 365815 82119        0.5127     1        0.5258        0.5127  1963568    2.50%          rho_13 U 365815 365813     53\n",
      " 369388 82815        0.5127     6        0.5258        0.5127  1987480    2.50%           rho_2 D 369388 367848     53\n",
      " 372903 83444        0.5127     2        0.5258        0.5127  2011489    2.50%           rho_2 N 372903 372506     68\n",
      " 376427 84073        0.5127     2        0.5258        0.5127  2035185    2.50%           rho_2 N 376427 353650     50\n",
      " 379943 84644        0.5127     5        0.5258        0.5127  2058767    2.50%           rho_0 D 379943 379941     34\n",
      "Elapsed time = 81.23 sec. (79409.71 ticks, tree = 25.02 MB, solutions = 1)\n",
      " 383137 85163        0.5157    10        0.5258        0.5127  2084673    2.50%          rho_13 D 383137 383136     44\n",
      " 386899 86891        0.5127     2        0.5258        0.5127  2108224    2.50%          rho_13 U 386899 386897     35\n",
      " 390582 87704        0.5164    10        0.5258        0.5127  2130916    2.50%           rho_1 N 390582 387051     63\n",
      " 394158 88143        cutoff              0.5258        0.5127  2153275    2.50%          rho_24 U 394158 394157     43\n",
      " 398169 89629        0.5208    12        0.5258        0.5127  2175392    2.50%           rho_2 D 398169 398168     24\n",
      " 402000 91053        0.5234     7        0.5258        0.5127  2197943    2.50%           rho_2 D 402000 401998     75\n",
      " 405551 91911        0.5234     7        0.5258        0.5127  2220064    2.50%           rho_2 D 405551 405549     51\n",
      " 409171 92705        0.5164    10        0.5258        0.5127  2242467    2.50%           rho_1 N 409171 385367     54\n",
      " 412575 93143        cutoff              0.5258        0.5127  2265970    2.50%          rho_23 D 412575 412573     92\n",
      " 426118 94336        cutoff              0.5258        0.5127  2361959    2.50%           rho_0 D 426118 426116     50\n",
      "Elapsed time = 92.22 sec. (91810.08 ticks, tree = 27.34 MB, solutions = 1)\n",
      " 440274 97456        cutoff              0.5258        0.5127  2459521    2.50%           rho_0 U 440274 440273     81\n",
      " 454942 100523        cutoff              0.5258        0.5127  2550617    2.50%          rho_15 U 454942 454940     71\n",
      " 469029 103031        0.5127     5        0.5258        0.5127  2640445    2.50%          rho_14 D 469029 469028     56\n",
      " 484124 105709        0.5127    11        0.5258        0.5127  2731391    2.50%           rho_1 D 484124 484123     43\n",
      " 498050 109107        0.5167     5        0.5258        0.5127  2828542    2.50%          rho_13 D 498050 498049     28\n",
      " 511890 115413        cutoff              0.5258        0.5127  2927943    2.50%          rho_23 D 511890 511888     48\n",
      " 523896 119781        0.5138    14        0.5258        0.5127  3041282    2.50%           rho_4 D 523896 523895     47\n",
      " 536336 123037        cutoff              0.5258        0.5127  3146121    2.50%           rho_0 U 536336 536335     63\n",
      " 550508 128557        0.5127     6        0.5258        0.5127  3227637    2.50%          rho_13 U 550508 550506     94\n",
      " 565458 133663        0.5127     5        0.5258        0.5127  3316106    2.50%          rho_13 U 565458 565456     50\n",
      "Elapsed time = 124.98 sec. (129958.49 ticks, tree = 39.68 MB, solutions = 1)\n",
      " 579260 139208        0.5214    15        0.5258        0.5127  3410938    2.50%          rho_14 D 579260 579259     37\n",
      " 593383 141655        0.5249     9        0.5258        0.5127  3503900    2.50%           rho_9 D 593383 593381     43\n",
      " 609060 143451        0.5134     8        0.5258        0.5127  3596223    2.50%          rho_13 D 609060 609059     52\n",
      " 623920 148140        0.5156    12        0.5258        0.5127  3690051    2.50%          rho_14 U 623920 623788     56\n",
      " 637450 152380        0.5127     3        0.5258        0.5127  3787497    2.50%           rho_0 D 637450 637448     22\n",
      " 651600 157290        0.5127     7        0.5258        0.5127  3876652    2.50%           rho_0 D 651600 651598     48\n",
      " 665339 163051        0.5256     9        0.5258        0.5127  3972363    2.50%          rho_24 D 665339 665337     53\n",
      " 677843 165476        0.5202     9        0.5258        0.5127  4070118    2.50%          rho_15 D 677843 677842     47\n",
      " 690715 167106        0.5127    10        0.5258        0.5127  4166811    2.50%           rho_1 U 690715 486007     49\n",
      " 704007 169607        cutoff              0.5258        0.5127  4263631    2.50%           rho_0 U 704007 704006     72\n",
      "Elapsed time = 157.22 sec. (168108.47 ticks, tree = 49.98 MB, solutions = 1)\n",
      " 718975 176590        cutoff              0.5258        0.5127  4355006    2.50%           rho_0 U 718975 718973     45\n",
      " 732723 180781        0.5127     6        0.5258        0.5127  4454159    2.50%           rho_0 D 732723 732721     78\n",
      " 745602 184826        0.5216     8        0.5258        0.5127  4550681    2.50%           rho_6 D 745602 745601     48\n",
      " 757664 188560        0.5129    14        0.5258        0.5127  4653323    2.50%           rho_1 N 757664 757027     74\n",
      " 769677 191732        cutoff              0.5258        0.5127  4751677    2.50%          rho_16 D 769677 769676     44\n",
      " 781442 194735        0.5146    18        0.5258        0.5127  4854857    2.50%          rho_13 D 781442 781441     43\n",
      " 792606 199230        0.5181    11        0.5258        0.5127  4971361    2.50%          rho_20 D 792606 792605     74\n",
      " 803830 202721        0.5183     9        0.5258        0.5127  5074500    2.50%          rho_14 D 803830 803829     41\n",
      " 815510 204284        0.5207    12        0.5258        0.5127  5169143    2.50%           rho_7 D 815510 815509     26\n",
      " 826908 207613        0.5193    10        0.5258        0.5127  5263463    2.50%           rho_3 N 826908 826902     56\n",
      "Elapsed time = 189.03 sec. (206258.63 ticks, tree = 61.18 MB, solutions = 1)\n",
      " 837771 209991        0.5194     4        0.5258        0.5127  5358198    2.50%          rho_16 D 837771 837770     57\n",
      " 848367 212701        0.5127    11        0.5258        0.5127  5460712    2.50%           rho_0 D 848367 848365     47\n",
      " 859708 216893        cutoff              0.5258        0.5127  5565097    2.50%           rho_0 D 859708 859706     89\n",
      "\n",
      "Gomory fractional cuts applied:  1\n",
      "User cuts applied:  333\n",
      "\n",
      "Root node processing (before b&c):\n",
      "  Real time             =    0.08 sec. (1.90 ticks)\n",
      "Sequential b&c:\n",
      "  Real time             =  199.94 sec. (221442.42 ticks)\n",
      "                          ------------\n",
      "Total (root+branch&cut) =  200.01 sec. (221444.32 ticks)\n",
      "+----------------------------------------------+------------------+-----------+\n",
      "| Pr(Y = +1) = 1.0/(1.0 + exp(-(-2 + score))   |                  |           |\n",
      "| ============================================ | ================ | ========= |\n",
      "| p_arrest>=2                                  |         1 points |   + ..... |\n",
      "| p_arrest>=3                                  |         1 points |   + ..... |\n",
      "| p_arrest>=6                                  |         1 points |   + ..... |\n",
      "| ============================================ | ================ | ========= |\n",
      "| ADD POINTS FROM ROWS 1 to 3                  |            SCORE |   = ..... |\n",
      "+----------------------------------------------+------------------+-----------+\n",
      "model_id, score_thresholds 0 {'rank_abs': [1739]}\n",
      "get_disparity_predefined_group()\n",
      "setting c0 = 0.0 to ensure that intercept is not penalized\n",
      "09/11/19 @ 12:47 AM | 1061 rows in lookup table\n",
      "09/11/19 @ 12:47 AM | ------------------------------------------------------------\n",
      "09/11/19 @ 12:47 AM | runnning initialization procedure\n",
      "09/11/19 @ 12:47 AM | ------------------------------------------------------------\n",
      "09/11/19 @ 12:47 AM | CPA produced 2 cuts\n",
      "09/11/19 @ 12:47 AM | running naive rounding on 65 solutions\n",
      "09/11/19 @ 12:47 AM | best objective value: 0.5143\n",
      "09/11/19 @ 12:47 AM | rounding produced 5 integer solutions\n",
      "09/11/19 @ 12:47 AM | best objective value is 0.5253\n",
      "09/11/19 @ 12:47 AM | running sequential rounding on 65 solutions\n",
      "09/11/19 @ 12:47 AM | best objective value: 0.5143\n",
      "09/11/19 @ 12:47 AM | sequential rounding produced 5 integer solutions\n",
      "09/11/19 @ 12:47 AM | best objective value: 0.5243\n",
      "09/11/19 @ 12:47 AM | polishing 10 solutions\n",
      "09/11/19 @ 12:47 AM | best objective value: 0.5243\n",
      "09/11/19 @ 12:47 AM | polishing produced 5 integer solutions\n",
      "09/11/19 @ 12:47 AM | initialization produced 9 feasible solutions\n",
      "09/11/19 @ 12:47 AM | best objective value: 0.5243\n",
      "09/11/19 @ 12:47 AM | ------------------------------------------------------------\n",
      "09/11/19 @ 12:47 AM | completed initialization procedure\n",
      "09/11/19 @ 12:47 AM | ------------------------------------------------------------\n",
      "09/11/19 @ 12:47 AM | 1061 rows in lookup table\n",
      "CPXPARAM_Read_DataCheck                          1\n",
      "CPXPARAM_Threads                                 1\n",
      "CPXPARAM_Parallel                                1\n",
      "CPXPARAM_RandomSeed                              0\n",
      "CPXPARAM_TimeLimit                               200\n",
      "CPXPARAM_MIP_Tolerances_LowerCutoff              0.51165762904122658\n",
      "CPXPARAM_MIP_Tolerances_UpperCutoff              0.52426871979289913\n"
     ]
    },
    {
     "name": "stderr",
     "output_type": "stream",
     "text": [
      "Warning: Control callbacks may disable some MIP features.\n"
     ]
    },
    {
     "name": "stdout",
     "output_type": "stream",
     "text": [
      "Lazy constraint(s) or lazy constraint callback is present.\n",
      "    Disabling dual reductions (CPX_PARAM_REDUCE) in presolve.\n",
      "    Disabling non-linear reductions (CPX_PARAM_PRELINEAR) in presolve.\n",
      "         Disabling repeat represolve because of lazy constraint/incumbent callback.\n",
      "09/11/19 @ 12:47 AM | adding 249 initial cuts\n",
      "1 of 1 MIP starts provided solutions.\n",
      "MIP start 'mip_start_0' defined initial solution with objective 0.5243.\n",
      "Tried aggregator 1 time.\n",
      "Reduced MIP has 26 rows, 52 columns, and 99 nonzeros.\n",
      "Reduced MIP has 24 binaries, 26 generals, 0 SOSs, and 0 indicators.\n",
      "Presolve time = 0.00 sec. (0.05 ticks)\n",
      "Probing time = 0.00 sec. (0.01 ticks)\n",
      "MIP emphasis: balance optimality and feasibility.\n",
      "MIP search method: traditional branch-and-cut.\n",
      "Parallel mode: none, using 1 thread.\n",
      "Root relaxation solution time = 0.00 sec. (0.03 ticks)\n",
      "\n",
      "        Nodes                                         Cuts/\n",
      "   Node  Left     Objective  IInf  Best Integer    Best Bound    ItCnt     Gap         Variable B NodeID Parent  Depth\n",
      "\n",
      "*     0+    0                            0.5243        0.5116             2.42%\n",
      "      0     0        0.5117     1        0.5243        0.5117        1    2.41%\n",
      "      0     0        0.5117     1        0.5243       Cuts: 2        2    2.41%\n",
      "      0     0        0.5117     1        0.5243       Cuts: 2        5    2.41%\n",
      "      0     2        0.5117     2        0.5243        0.5117        6    2.41%                        0             0\n",
      "Elapsed time = 0.13 sec. (1.88 ticks, tree = 0.01 MB, solutions = 1)\n",
      "   3051  1169        0.5117     1        0.5243        0.5117    11558    2.41%          rho_13 U   3051   3049     72\n",
      "   5225  1852        0.5210     4        0.5243        0.5117    18268    2.41%          rho_14 D   5225   5224     55\n",
      "   7274  2507        0.5117     1        0.5243        0.5117    23836    2.41%          rho_13 U   7274   7272     47\n",
      "   9110  2979        0.5117     1        0.5243        0.5117    29643    2.41%          rho_13 U   9110   9053     61\n",
      "  10833  3510        0.5117     7        0.5243        0.5117    35290    2.41%           rho_6 D  10833    154      9\n",
      "  12251  3907        0.5117     5        0.5243        0.5117    42416    2.41%           rho_5 U  12251  12205     29\n",
      "  13690  4300        0.5117     5        0.5243        0.5117    50205    2.41%          rho_13 U  13690  13688     56\n",
      "  15133  4799        0.5210     5        0.5243        0.5117    57693    2.41%           rho_6 D  15133  15132     59\n",
      "  16679  5306        0.5117     4        0.5243        0.5117    65440    2.41%           rho_0 D  16679  16677     48\n",
      "  23100  7875        0.5172     7        0.5243        0.5117    95964    2.41%           rho_4 D  23100  23099     43\n",
      "Elapsed time = 4.11 sec. (3102.18 ticks, tree = 1.98 MB, solutions = 1)\n",
      "  29360 10213        0.5134     9        0.5243        0.5117   127336    2.41%          rho_13 D  29360  29359     67\n",
      "  35692 12642        cutoff              0.5243        0.5117   154812    2.41%           rho_2 U  35692  35690     64\n",
      "  41961 15275        0.5117     3        0.5243        0.5117   188040    2.41%           rho_0 D  41961  41959     41\n",
      "  48172 17025        0.5117     6        0.5243        0.5117   217162    2.41%           rho_0 D  48172  48170     43\n",
      "  54471 19071        cutoff              0.5243        0.5117   245554    2.41%          rho_24 U  54471  54470     35\n",
      "  60113 20814        0.5242     7        0.5243        0.5117   273724    2.41%           rho_9 D  60113  60112     66\n",
      "  65530 22462        0.5117     4        0.5243        0.5117   301089    2.41%           rho_0 D  65530  65528     72\n",
      "  70670 24554        cutoff              0.5243        0.5117   332526    2.41%          rho_10 U  70670  70669     57\n",
      "  75540 26216        0.5225     6        0.5243        0.5117   363415    2.41%          rho_11 U  75540  75539     41\n",
      "  80970 27932        cutoff              0.5243        0.5117   388900    2.41%           rho_0 U  80970  80969     42\n",
      "Elapsed time = 14.66 sec. (12640.21 ticks, tree = 7.40 MB, solutions = 1)\n",
      "  85430 29729        0.5134     9        0.5243        0.5117   419878    2.41%          rho_13 D  85430  85429     78\n",
      "  90317 30817        0.5168     8        0.5243        0.5117   446094    2.41%           rho_1 N  90317  90316     65\n",
      "  95326 32225        0.5230     9        0.5243        0.5117   472638    2.41%          rho_11 N  95326  95325     65\n",
      "  99750 32263        0.5141     5        0.5243        0.5117   499531    2.41%           rho_1 N  99750  99635     53\n",
      " 104661 33253        0.5183     6        0.5243        0.5117   525513    2.41%           rho_0 D 104661 104659     47\n",
      " 109787 34506        0.5117     5        0.5243        0.5117   551109    2.41%           rho_0 D 109787 109785     79\n",
      " 114350 34697        0.5146     8        0.5243        0.5117   577353    2.41%          rho_14 D 114350 114349     44\n",
      " 119103 35221        0.5117     5        0.5243        0.5117   602507    2.41%           rho_2 D 119103 119102     45\n",
      " 123950 36013        cutoff              0.5243        0.5117   628160    2.41%           rho_0 U 123950 123949     58\n",
      " 128920 37078        0.5242     7        0.5243        0.5117   653668    2.41%           rho_0 D 128920 128918     61\n",
      "Elapsed time = 28.22 sec. (22178.68 ticks, tree = 10.86 MB, solutions = 1)\n",
      " 133371 37409        cutoff              0.5243        0.5117   681197    2.41%           rho_0 D 133371 133369     74\n",
      " 137684 37983        0.5117     4        0.5243        0.5117   709949    2.41%           rho_0 D 137684 137682     91\n",
      " 141698 38220        0.5165     7        0.5243        0.5117   737898    2.41%           rho_3 D 141698 141697     30\n",
      " 146380 39556        0.5117     4        0.5243        0.5117   764054    2.41%          rho_13 U 146380 146378     53\n",
      " 151225 40406        0.5208    12        0.5243        0.5117   789775    2.41%          rho_12 D 151225 151224     61\n",
      " 155676 41423        0.5192     7        0.5243        0.5117   817848    2.41%           rho_3 N 155676 155664     50\n",
      " 160709 42863        0.5177     7        0.5243        0.5117   840369    2.41%           rho_2 D 160709 160707     97\n",
      " 165441 43610        0.5144     6        0.5243        0.5117   862598    2.41%           rho_0 D 165441 165439     71\n",
      " 170364 45065        cutoff              0.5243        0.5117   885707    2.41%           rho_0 U 170364 170363     86\n",
      " 174950 46129        0.5241     5        0.5243        0.5117   908441    2.41%          rho_10 N 174950 174949     57\n",
      "Elapsed time = 40.17 sec. (31717.00 ticks, tree = 12.90 MB, solutions = 1)\n",
      " 179464 47143        0.5117     6        0.5243        0.5117   930873    2.41%           rho_1 D 179464 179396     56\n",
      " 184066 48299        0.5117     6        0.5243        0.5117   953488    2.41%           rho_0 D 184066 184064     54\n",
      " 188633 49517        cutoff              0.5243        0.5117   975626    2.41%           rho_0 U 188633 188632     46\n",
      " 193164 50465        0.5117     4        0.5243        0.5117   996572    2.41%          rho_13 U 193164 193149     36\n",
      " 197217 51788        0.5174     9        0.5243        0.5117  1025362    2.41%          rho_14 D 197217 197216     48\n",
      " 201296 52969        0.5165     6        0.5243        0.5117  1051130    2.41%           rho_0 D 201296 201294     56\n",
      " 206089 54037        0.5117     6        0.5243        0.5117  1072233    2.41%           rho_0 D 206089 206087     67\n",
      " 210644 54832        0.5117     4        0.5243        0.5117  1096154    2.41%           rho_1 U 210644 210627     64\n",
      " 214853 55263        0.5148     7        0.5243        0.5117  1122194    2.41%           rho_1 U 214853 173834     53\n",
      " 219189 56500        0.5117     8        0.5243        0.5117  1149929    2.41%          rho_13 D 219189 219188     85\n",
      "Elapsed time = 50.02 sec. (41255.19 ticks, tree = 15.27 MB, solutions = 1)\n",
      " 223355 56952        0.5236     3        0.5243        0.5117  1176448    2.41%          rho_12 D 223355 223354     47\n",
      " 227852 58365        0.5117     4        0.5243        0.5117  1203071    2.41%           rho_0 D 227852 227850     68\n",
      " 232165 59526        0.5188     9        0.5243        0.5117  1227462    2.41%           rho_6 D 232165 232164     63\n",
      " 236395 60432        0.5136     7        0.5243        0.5117  1251719    2.41%          rho_20 D 236395 236357     49\n",
      " 240721 61592        0.5189    12        0.5243        0.5117  1276860    2.41%          rho_16 D 240721   3514     18\n",
      " 245320 63213        0.5237     3        0.5243        0.5117  1301194    2.41%          rho_10 U 245320 245319     47\n",
      " 249842 64695        0.5117     6        0.5243        0.5117  1324343    2.41%          rho_13 U 249842 249840     72\n",
      " 253805 65956        0.5117     6        0.5243        0.5117  1349308    2.41%          rho_13 D 253805 253804     50\n",
      " 257863 66994        0.5117     3        0.5243        0.5117  1374849    2.41%           rho_0 D 257863 257861     55\n",
      " 262578 68320        0.5210     9        0.5243        0.5117  1395891    2.41%           rho_3 D 262578 262577     61\n",
      "Elapsed time = 59.95 sec. (50793.19 ticks, tree = 20.79 MB, solutions = 1)\n",
      " 267250 69232        cutoff              0.5243        0.5117  1416364    2.41%           rho_0 U 267250 267249     42\n",
      " 271166 70777        0.5117     6        0.5243        0.5117  1443162    2.41%           rho_0 D 271166 271164     53\n",
      " 275299 71637        0.5117     4        0.5243        0.5117  1464909    2.41%          rho_13 U 275299 275297     90\n",
      " 279170 72777        0.5181     7        0.5243        0.5117  1488854    2.41%           rho_2 D 279170 279169     79\n",
      " 282832 73678        0.5117     3        0.5243        0.5117  1516258    2.41%          rho_13 U 282832 282662     57\n",
      " 286084 73959        cutoff              0.5243        0.5117  1545233    2.41%          rho_20 U 286084 286083     49\n",
      " 289750 75110        0.5117     6        0.5243        0.5117  1572181    2.41%          rho_13 U 289750 289748     42\n",
      " 293785 76880        0.5117     3        0.5243        0.5117  1598093    2.41%           rho_0 D 293785 293783     38\n",
      " 298629 78394        0.5194     7        0.5243        0.5117  1620610    2.41%           rho_3 D 298629 298627     89\n",
      " 303437 79490        0.5158     9        0.5243        0.5117  1640344    2.41%           rho_0 D 303437 303435     44\n",
      "Elapsed time = 70.47 sec. (60331.69 ticks, tree = 23.39 MB, solutions = 1)\n",
      " 308169 80597        0.5230    11        0.5243        0.5117  1659995    2.41%          rho_24 D 308169 308168     37\n",
      " 312674 82374        cutoff              0.5243        0.5117  1682747    2.41%           rho_0 U 312674 312673     34\n",
      " 316788 83490        cutoff              0.5243        0.5117  1706558    2.41%           rho_0 U 316788 316787     48\n",
      " 320853 84368        0.5117     2        0.5243        0.5117  1730043    2.41%          rho_13 U 320853 320851     56\n",
      " 324733 85346        0.5216     5        0.5243        0.5117  1754189    2.41%           rho_7 N 324733 324732     50\n",
      " 328588 85730        0.5200     5        0.5243        0.5117  1777070    2.41%          rho_14 N 328588 323993     64\n",
      " 332249 85202        cutoff              0.5243        0.5117  1799670    2.41%           rho_0 U 332249 332248     61\n",
      " 335831 85305        0.5117     1        0.5243        0.5117  1822947    2.41%          rho_13 U 335831 335829     36\n",
      " 339890 86625        0.5239     9        0.5243        0.5117  1846311    2.41%          rho_12 N 339890 339889     30\n",
      " 343714 87368        0.5117     6        0.5243        0.5117  1872201    2.41%           rho_2 D 343714 343544     52\n",
      "Elapsed time = 79.95 sec. (69869.64 ticks, tree = 25.26 MB, solutions = 1)\n",
      " 347447 87997        0.5117     6        0.5243        0.5117  1897868    2.41%           rho_0 D 347447 347445     33\n",
      " 351256 88847        0.5117     1        0.5243        0.5117  1923774    2.41%          rho_13 U 351256 351254     48\n",
      " 355021 89700        0.5117     5        0.5243        0.5117  1949979    2.41%           rho_0 D 355021 355019     55\n",
      " 358637 90957        0.5117     8        0.5243        0.5117  1976973    2.41%          rho_13 D 358637 358636     65\n",
      " 363268 92709        cutoff              0.5243        0.5117  1998566    2.41%           rho_0 U 363268 363267     20\n",
      " 367280 93858        0.5117    10        0.5243        0.5117  2021374    2.41%           rho_2 N 367280 248297     60\n",
      " 371224 94703        0.5196     8        0.5243        0.5117  2045506    2.41%           rho_1 N 371224 371223     65\n",
      " 375185 95379        0.5117     4        0.5243        0.5117  2069111    2.41%          rho_13 U 375185 375183     53\n",
      " 379261 96181        0.5129    11        0.5243        0.5117  2091207    2.41%          rho_13 D 379261 379260     67\n",
      " 383470 97357        cutoff              0.5243        0.5117  2116643    2.41%           rho_2 U 383470 383469     54\n",
      "Elapsed time = 89.59 sec. (79407.95 ticks, tree = 27.61 MB, solutions = 1)\n",
      " 387956 98889        0.5234     7        0.5243        0.5117  2140795    2.41%          rho_10 D 387956 387954     72\n",
      " 391970 99453        0.5234    11        0.5243        0.5117  2163580    2.41%           rho_9 D 391970 391968     59\n",
      " 396093 100641        0.5231    13        0.5243        0.5117  2188433    2.41%           rho_2 D 396093 396092     62\n",
      " 400171 101602        0.5185     7        0.5243        0.5117  2212943    2.41%           rho_1 D 400171 400170     65\n",
      " 404045 102157        0.5117     2        0.5243        0.5117  2236874    2.41%           rho_2 N 404045 403745     51\n",
      " 407635 103328        0.5198     6        0.5243        0.5117  2261901    2.41%           rho_1 N 407635 400754     65\n",
      " 411007 103246        cutoff              0.5243        0.5117  2284481    2.41%           rho_0 U 411007 411006     25\n",
      " 414767 104617        0.5165     7        0.5243        0.5117  2310440    2.41%           rho_3 D 414767 414766     45\n",
      " 418274 105154        0.5148     8        0.5243        0.5117  2337813    2.41%           rho_1 N 418274 380922     55\n",
      " 432930 107552        cutoff              0.5243        0.5117  2437154    2.41%          rho_24 D 432930 432928    100\n",
      "Elapsed time = 100.91 sec. (91807.45 ticks, tree = 30.01 MB, solutions = 1)\n",
      " 448328 110862        cutoff              0.5243        0.5117  2534547    2.41%           rho_0 U 448328 448327     45\n",
      " 463182 112459        0.5240     9        0.5243        0.5117  2632169    2.41%          rho_24 D 463182 463180     39\n",
      " 477693 114892        cutoff              0.5243        0.5117  2739283    2.41%           rho_0 U 477693 477692     61\n",
      " 492150 117844        0.5241     7        0.5243        0.5117  2841765    2.41%          rho_14 N 492150 492149     41\n",
      " 506800 120399        0.5117     5        0.5243        0.5117  2942266    2.41%           rho_0 D 506800 506798     55\n",
      " 521579 123568        0.5117     6        0.5243        0.5117  3042478    2.41%           rho_0 D 521579 521577     62\n",
      " 535358 126815        0.5141     8        0.5243        0.5117  3146350    2.41%           rho_3 D 535358 535356     22\n",
      " 550600 131246        0.5230     4        0.5243        0.5117  3242121    2.41%          rho_20 N 550600 550591     43\n",
      " 565280 133679        0.5117     9        0.5243        0.5117  3338743    2.41%          rho_13 D 565280 565266     28\n",
      " 579480 138519        0.5203    12        0.5243        0.5117  3449635    2.41%          rho_20 D 579480 579479     80\n",
      "Elapsed time = 137.11 sec. (129956.63 ticks, tree = 40.21 MB, solutions = 1)\n",
      " 593909 142622        0.5188     9        0.5243        0.5117  3552576    2.41%          rho_20 D 593909 593908     73\n",
      " 608230 147289        0.5239     7        0.5243        0.5117  3648106    2.41%          rho_16 D 608230 608228     27\n",
      " 623689 150632        0.5131    11        0.5243        0.5117  3737066    2.41%          rho_13 D 623689 623688     65\n",
      " 639583 155547        0.5143    10        0.5243        0.5117  3828910    2.41%           rho_3 D 639583 639581     80\n",
      " 654549 160172        cutoff              0.5243        0.5117  3922455    2.41%          rho_13 U 654549 654548     74\n",
      " 669347 164455        0.5225    11        0.5243        0.5117  4012757    2.41%           rho_1 D 669347 669345     47\n",
      " 684904 170695        cutoff              0.5243        0.5117  4105173    2.41%          rho_11 U 684904 684903     55\n",
      " 700005 175485        0.5120    13        0.5243        0.5117  4200036    2.41%          rho_14 D 700005 700004     43\n",
      " 714838 179599        0.5241    10        0.5243        0.5117  4294972    2.41%          rho_24 D 714838 714837     80\n",
      " 729708 181698        0.5221     9        0.5243        0.5117  4380655    2.41%           rho_0 U 729708 729707     85\n",
      "Elapsed time = 174.02 sec. (168104.61 ticks, tree = 52.14 MB, solutions = 1)\n",
      " 743737 186301        0.5176     9        0.5243        0.5117  4485008    2.41%          rho_13 D 743737 743736     40\n",
      " 757984 189423        0.5117     8        0.5243        0.5117  4584381    2.41%           rho_5 U 757984 757972     56\n",
      " 772128 192947        cutoff              0.5243        0.5117  4679506    2.41%           rho_0 D 772128 772127     61\n",
      " 784606 195964        0.5205    13        0.5243        0.5117  4784258    2.41%           rho_2 D 784606 784605     69\n",
      " 798006 200075        0.5159     8        0.5243        0.5117  4882483    2.41%           rho_9 U 798006 790258     48\n",
      " 811846 203815        0.5138     7        0.5243        0.5117  4972022    2.41%           rho_3 D 811846 811844     35\n",
      " 825300 206834        0.5235     6        0.5243        0.5117  5059124    2.41%          rho_20 N 825300 825298     51\n",
      "\n",
      "Gomory fractional cuts applied:  1\n",
      "User cuts applied:  301\n",
      "\n",
      "Root node processing (before b&c):\n",
      "  Real time             =    0.13 sec. (1.90 ticks)\n",
      "Sequential b&c:\n",
      "  Real time             =  199.89 sec. (196098.20 ticks)\n",
      "                          ------------\n",
      "Total (root+branch&cut) =  200.02 sec. (196100.09 ticks)\n",
      "+----------------------------------------------+------------------+-----------+\n",
      "| Pr(Y = +1) = 1.0/(1.0 + exp(-(-2 + score))   |                  |           |\n",
      "| ============================================ | ================ | ========= |\n",
      "| p_arrest>=2                                  |         1 points |   + ..... |\n",
      "| p_arrest>=3                                  |         1 points |   + ..... |\n",
      "| p_arrest>=6                                  |         1 points |   + ..... |\n",
      "| ============================================ | ================ | ========= |\n",
      "| ADD POINTS FROM ROWS 1 to 3                  |            SCORE |   = ..... |\n",
      "+----------------------------------------------+------------------+-----------+\n",
      "model_id, score_thresholds 0 {'rank_abs': [1797]}\n",
      "get_disparity_predefined_group()\n",
      "setting c0 = 0.0 to ensure that intercept is not penalized\n",
      "09/11/19 @ 12:51 AM | 1061 rows in lookup table\n",
      "09/11/19 @ 12:51 AM | ------------------------------------------------------------\n",
      "09/11/19 @ 12:51 AM | runnning initialization procedure\n",
      "09/11/19 @ 12:51 AM | ------------------------------------------------------------\n",
      "09/11/19 @ 12:51 AM | CPA produced 2 cuts\n",
      "09/11/19 @ 12:51 AM | running naive rounding on 57 solutions\n",
      "09/11/19 @ 12:51 AM | best objective value: 0.5155\n",
      "09/11/19 @ 12:51 AM | rounding produced 5 integer solutions\n",
      "09/11/19 @ 12:51 AM | best objective value is 0.5230\n",
      "09/11/19 @ 12:51 AM | running sequential rounding on 57 solutions\n",
      "09/11/19 @ 12:51 AM | best objective value: 0.5155\n",
      "09/11/19 @ 12:51 AM | sequential rounding produced 6 integer solutions\n",
      "09/11/19 @ 12:51 AM | best objective value: 0.5230\n",
      "09/11/19 @ 12:51 AM | polishing 11 solutions\n",
      "09/11/19 @ 12:51 AM | best objective value: 0.5230\n",
      "09/11/19 @ 12:51 AM | polishing produced 5 integer solutions\n",
      "09/11/19 @ 12:51 AM | initialization produced 10 feasible solutions\n",
      "09/11/19 @ 12:51 AM | best objective value: 0.5230\n",
      "09/11/19 @ 12:51 AM | ------------------------------------------------------------\n",
      "09/11/19 @ 12:51 AM | completed initialization procedure\n",
      "09/11/19 @ 12:51 AM | ------------------------------------------------------------\n",
      "09/11/19 @ 12:51 AM | 1061 rows in lookup table\n",
      "CPXPARAM_Read_DataCheck                          1\n",
      "CPXPARAM_Threads                                 1\n",
      "CPXPARAM_Parallel                                1\n",
      "CPXPARAM_RandomSeed                              0\n",
      "CPXPARAM_TimeLimit                               200\n",
      "CPXPARAM_MIP_Tolerances_LowerCutoff              0.51049219412641222\n",
      "CPXPARAM_MIP_Tolerances_UpperCutoff              0.52304921415785433\n"
     ]
    },
    {
     "name": "stderr",
     "output_type": "stream",
     "text": [
      "Warning: Control callbacks may disable some MIP features.\n"
     ]
    },
    {
     "name": "stdout",
     "output_type": "stream",
     "text": [
      "Lazy constraint(s) or lazy constraint callback is present.\n",
      "    Disabling dual reductions (CPX_PARAM_REDUCE) in presolve.\n",
      "    Disabling non-linear reductions (CPX_PARAM_PRELINEAR) in presolve.\n",
      "         Disabling repeat represolve because of lazy constraint/incumbent callback.\n",
      "09/11/19 @ 12:51 AM | adding 249 initial cuts\n",
      "1 of 1 MIP starts provided solutions.\n",
      "MIP start 'mip_start_0' defined initial solution with objective 0.5230.\n",
      "Tried aggregator 1 time.\n",
      "Reduced MIP has 26 rows, 52 columns, and 99 nonzeros.\n",
      "Reduced MIP has 24 binaries, 26 generals, 0 SOSs, and 0 indicators.\n",
      "Presolve time = 0.00 sec. (0.05 ticks)\n",
      "Probing time = 0.00 sec. (0.01 ticks)\n",
      "MIP emphasis: balance optimality and feasibility.\n",
      "MIP search method: traditional branch-and-cut.\n",
      "Parallel mode: none, using 1 thread.\n",
      "Root relaxation solution time = 0.00 sec. (0.03 ticks)\n",
      "\n",
      "        Nodes                                         Cuts/\n",
      "   Node  Left     Objective  IInf  Best Integer    Best Bound    ItCnt     Gap         Variable B NodeID Parent  Depth\n",
      "\n",
      "*     0+    0                            0.5230        0.5104             2.42%\n",
      "      0     0        0.5105     1        0.5230        0.5105        1    2.40%\n",
      "      0     0        0.5105     4        0.5230       Cuts: 2        2    2.40%\n",
      "      0     0        0.5105     4        0.5230       Cuts: 5        5    2.40%\n",
      "      0     0        0.5105     5        0.5230    MIRcuts: 1        6    2.40%\n",
      "      0     2        0.5105     5        0.5230        0.5105        6    2.40%                        0             0\n",
      "Elapsed time = 0.13 sec. (2.18 ticks, tree = 0.01 MB, solutions = 1)\n",
      "   2526   951        0.5201     2        0.5230        0.5105     9705    2.40%          rho_12 D   2526   2525     20\n",
      "   4039  1535        0.5227     3        0.5230        0.5105    16750    2.40%          rho_11 U   4039   4038     32\n",
      "   5566  2055        0.5105     4        0.5230        0.5105    23780    2.40%           rho_0 D   5566   5564     86\n",
      "   6992  2336        0.5227     7        0.5230        0.5105    31356    2.40%          rho_22 D   6992   6990     62\n",
      "   8386  2508        0.5138     5        0.5230        0.5105    38679    2.40%           rho_0 D   8386   8385     65\n",
      "   9813  2831        cutoff              0.5230        0.5105    45716    2.40%           rho_0 U   9813   9812     35\n",
      "  11214  3308        0.5144     5        0.5230        0.5105    52877    2.40%          rho_13 D  11214  11213     60\n",
      "  12643  3632        0.5161     6        0.5230        0.5105    59969    2.40%          rho_14 U  12643  12642     76\n",
      "  14092  3969        0.5105     3        0.5230        0.5105    66349    2.40%           rho_0 D  14092  14090     57\n",
      "  19730  5933        0.5148     9        0.5230        0.5105    92675    2.40%          rho_14 D  19730  19729     65\n",
      "Elapsed time = 4.05 sec. (3102.27 ticks, tree = 1.59 MB, solutions = 1)\n",
      "  25116  7642        0.5199     7        0.5230        0.5105   117168    2.40%           rho_8 D  25116  25114     26\n",
      "  30153  9021        cutoff              0.5230        0.5105   142038    2.40%           rho_3 U  30153  30152     36\n",
      "  34816 10578        0.5223     7        0.5230        0.5105   167689    2.40%          rho_24 D  34816  34815     72\n",
      "  39457 11838        0.5230     1        0.5230        0.5105   189918    2.40%          rho_11 D  39457  39456     63\n",
      "  44211 12861        0.5215     5        0.5230        0.5105   209985    2.40%          rho_24 N  44211  44210     48\n",
      "  48601 13950        0.5130     9        0.5230        0.5105   231668    2.40%           rho_3 D  48601  48600     71\n",
      "  53049 14979        0.5105     4        0.5230        0.5105   253551    2.40%          rho_13 U  53049  53047     39\n",
      "  57696 16083        cutoff              0.5230        0.5105   270161    2.40%          rho_11 U  57696  57694     73\n",
      "  61978 16618        cutoff              0.5230        0.5105   287834    2.40%           rho_0 U  61978  61977     61\n",
      "  66022 17495        0.5124    10        0.5230        0.5105   310601    2.40%           rho_0 D  66022  66020     80\n",
      "Elapsed time = 14.48 sec. (12640.22 ticks, tree = 5.21 MB, solutions = 1)\n",
      "  69918 18632        0.5106     9        0.5230        0.5105   336147    2.40%           rho_6 N  69918  69917     41\n",
      "  73702 19980        cutoff              0.5230        0.5105   363881    2.40%           rho_0 U  73702  73700     31\n",
      "  77230 21285        0.5120    18        0.5230        0.5105   390814    2.40%          rho_14 D  77230  77229     73\n",
      "  80696 22577        0.5227     7        0.5230        0.5105   417997    2.40%           rho_0 U  80696  80695     20\n",
      "  84225 23918        0.5105     7        0.5230        0.5105   444727    2.40%          rho_15 D  84225  84224     11\n",
      "  87732 25160        cutoff              0.5230        0.5105   470158    2.40%          rho_20 D  87732  87731     68\n",
      "  90966 26152        cutoff              0.5230        0.5105   495860    2.40%          rho_23 D  90966  90963     84\n",
      "  93836 26882        cutoff              0.5230        0.5105   521255    2.40%          rho_23 U  93836  93835     35\n",
      "  97125 28148        0.5131     9        0.5230        0.5105   547596    2.40%          rho_13 D  97125  97123     25\n",
      " 100620 28697        0.5194    11        0.5230        0.5105   571068    2.40%          rho_20 D 100620 100619     46\n",
      "Elapsed time = 25.25 sec. (22178.79 ticks, tree = 7.76 MB, solutions = 1)\n",
      " 103878 29575        0.5138    11        0.5230        0.5105   597067    2.40%           rho_2 N 103878 103876     33\n",
      " 107386 30737        0.5105     4        0.5230        0.5105   622883    2.40%           rho_0 D 107386 107384     76\n",
      " 111090 32083        0.5140     9        0.5230        0.5105   645652    2.40%           rho_2 D 111090 111089     37\n",
      " 114694 33476        cutoff              0.5230        0.5105   667746    2.40%          rho_13 U 114694 114693     35\n",
      " 118915 35509        cutoff              0.5230        0.5105   690707    2.40%          rho_23 D 118915 118914     75\n",
      " 122823 37372        0.5190    12        0.5230        0.5105   717196    2.40%           rho_6 D 122823 122822     60\n",
      " 126678 39168        0.5108    12        0.5230        0.5105   744230    2.40%           rho_4 D 126678 126677     57\n",
      " 130908 41244        0.5193    11        0.5230        0.5105   766580    2.40%          rho_10 D 130908 130907     85\n",
      " 134932 42868        0.5230     5        0.5230        0.5105   787586    2.40%          rho_14 N 134932 134931     53\n",
      " 139031 44734        0.5105     2        0.5230        0.5105   808544    2.40%           rho_5 U 139031 138867     36\n",
      "Elapsed time = 35.97 sec. (31717.18 ticks, tree = 12.88 MB, solutions = 1)\n",
      " 142821 46363        0.5105     5        0.5230        0.5105   832673    2.40%           rho_1 N 142821 142751     58\n",
      " 146329 47605        0.5105     2        0.5230        0.5105   857513    2.40%           rho_1 N 146329 139295     45\n",
      " 149865 48920        0.5105     6        0.5230        0.5105   881649    2.40%           rho_0 D 149865 149863     53\n",
      " 153462 50376        0.5191     7        0.5230        0.5105   906450    2.40%          rho_11 N 153462 153460     43\n",
      " 157245 51776        0.5178    11        0.5230        0.5105   930214    2.40%           rho_0 D 157245 157243     40\n",
      " 160415 51818        0.5105     7        0.5230        0.5105   955105    2.40%           rho_0 D 160415 160413     47\n",
      " 163843 53241        0.5105     6        0.5230        0.5105   977640    2.40%          rho_13 U 163843 163711     58\n",
      " 167154 53220        0.5198     7        0.5230        0.5105  1003697    2.40%          rho_14 U 167154 133540     64\n",
      " 169801 52900        0.5149     7        0.5230        0.5105  1031670    2.40%           rho_3 U 169801 123510     45\n",
      " 172867 53160        0.5216     9        0.5230        0.5105  1058107    2.40%           rho_0 U 172867 172854     18\n",
      "Elapsed time = 46.50 sec. (41256.13 ticks, tree = 14.94 MB, solutions = 1)\n",
      " 175857 53221        cutoff              0.5230        0.5105  1084453    2.40%           rho_0 U 175857 175856     38\n",
      " 179367 54342        0.5105    10        0.5230        0.5105  1106837    2.40%          rho_13 U 179367 179365     39\n",
      " 182393 55310        0.5129    13        0.5230        0.5105  1133987    2.40%           rho_0 D 182393 182350     43\n",
      " 185515 56292        0.5138    14        0.5230        0.5105  1160495    2.40%           rho_1 D 185515 185514     55\n",
      " 188875 57423        0.5226     5        0.5230        0.5105  1185412    2.40%          rho_15 U 188875 188874     26\n",
      " 192386 58470        0.5202     7        0.5230        0.5105  1209673    2.40%          rho_23 D 192386 192385     29\n",
      " 196146 60079        0.5219    15        0.5230        0.5105  1235470    2.40%          rho_24 D 196146 196144     52\n",
      " 199966 61947        0.5105     4        0.5230        0.5105  1261918    2.40%          rho_13 U 199966 199964     42\n",
      " 203508 63558        0.5121    13        0.5230        0.5105  1288420    2.40%           rho_3 D 203508 203506     53\n",
      " 207243 65479        cutoff              0.5230        0.5105  1313945    2.40%           rho_5 U 207243 207242     39\n",
      "Elapsed time = 56.58 sec. (50794.95 ticks, tree = 17.72 MB, solutions = 1)\n",
      " 210341 66325        0.5105     6        0.5230        0.5105  1339767    2.40%           rho_1 D 210341 200747     65\n",
      " 213920 67767        0.5191     7        0.5230        0.5105  1362669    2.40%          rho_11 N 213920 213919     38\n",
      " 217570 69166        0.5155    16        0.5230        0.5105  1384828    2.40%           rho_6 D 217570 217569     46\n",
      " 220908 70317        0.5105     7        0.5230        0.5105  1407789    2.40%           rho_1 N 220908 220848     32\n",
      " 224340 71594        0.5157    11        0.5230        0.5105  1430597    2.40%           rho_0 D 224340 224338     39\n",
      " 227778 72902        0.5149    16        0.5230        0.5105  1453445    2.40%           rho_1 D 227778 227697     63\n",
      " 231141 73982        0.5171    12        0.5230        0.5105  1476227    2.40%           rho_0 D 231141 231140     52\n",
      " 234115 74305        0.5167     9        0.5230        0.5105  1500591    2.40%           rho_2 U 234115 203781     49\n",
      " 236939 74497        cutoff              0.5230        0.5105  1524707    2.40%           rho_2 U 236939 236938     36\n",
      " 240198 75392        0.5181     7        0.5230        0.5105  1547415    2.40%          rho_14 N 240198 195812     40\n",
      "Elapsed time = 67.25 sec. (60335.37 ticks, tree = 22.82 MB, solutions = 1)\n",
      " 243447 76136        0.5167     9        0.5230        0.5105  1569701    2.40%           rho_2 N 243447 232550     41\n",
      " 246522 76602        cutoff              0.5230        0.5105  1593282    2.40%           rho_0 U 246522 246521     43\n",
      " 249821 77570        0.5159    14        0.5230        0.5105  1615883    2.40%          rho_14 D 249821 249820     42\n",
      " 253059 78105        0.5150     6        0.5230        0.5105  1638447    2.40%           rho_1 D 253059 177575     63\n",
      " 256680 78769        0.5131     9        0.5230        0.5105  1659240    2.40%          rho_13 D 256680 256679     53\n",
      " 260340 80019        0.5202     7        0.5230        0.5105  1681134    2.40%           rho_6 U 260340 154934     40\n",
      " 263668 80603        0.5221     6        0.5230        0.5105  1703377    2.40%          rho_20 D 263668 263667     50\n",
      " 267209 81178        0.5105     5        0.5230        0.5105  1725795    2.40%           rho_0 D 267209 267208     22\n",
      " 270665 82208        0.5209     9        0.5230        0.5105  1748776    2.40%          rho_10 D 270665 270662     38\n",
      " 274222 83174        0.5218     3        0.5230        0.5105  1770054    2.40%          rho_12 N 274222 274220     69\n",
      "Elapsed time = 77.20 sec. (69875.01 ticks, tree = 24.65 MB, solutions = 1)\n",
      " 277533 84305        0.5105     6        0.5230        0.5105  1794262    2.40%          rho_13 U 277533 277531     61\n",
      " 281000 85661        0.5177     6        0.5230        0.5105  1816722    2.40%          rho_16 D 281000 280999     81\n",
      " 283843 87090        0.5212    12        0.5230        0.5105  1846091    2.40%           rho_0 U 283843 283842     66\n",
      " 286829 88116        0.5108    15        0.5230        0.5105  1871896    2.40%           rho_1 N 286829 282945     57\n",
      " 289883 89079        0.5224    11        0.5230        0.5105  1896679    2.40%           rho_0 U 289883 289881     26\n",
      " 292698 90290        0.5124    14        0.5230        0.5105  1924417    2.40%           rho_2 D 292698 292697     63\n",
      " 295587 91298        0.5180     5        0.5230        0.5105  1950468    2.40%          rho_20 D 295587 295586     66\n",
      " 298414 92487        0.5105     8        0.5230        0.5105  1977679    2.40%          rho_13 U 298414 298330     49\n",
      " 301449 93551        cutoff              0.5230        0.5105  2002352    2.40%          rho_23 U 301449 301448     37\n",
      " 305342 94558        0.5133     9        0.5230        0.5105  2020611    2.40%          rho_15 D 305342 305340     41\n",
      "Elapsed time = 86.92 sec. (79413.62 ticks, tree = 27.28 MB, solutions = 1)\n",
      " 308520 95587        0.5105     8        0.5230        0.5105  2045727    2.40%           rho_0 D 308520 308518     44\n",
      " 312242 97083        0.5105     8        0.5230        0.5105  2066041    2.40%          rho_13 U 312242 312240     50\n",
      " 315868 97735        cutoff              0.5230        0.5105  2086575    2.40%           rho_0 U 315868 315866     72\n",
      " 319145 98201        0.5105     9        0.5230        0.5105  2107709    2.40%          rho_13 D 319145 319144     40\n",
      " 322371 98955        0.5105     8        0.5230        0.5105  2130672    2.40%           rho_0 D 322371 114759     39\n",
      " 325943 99411        0.5105     6        0.5230        0.5105  2150076    2.40%           rho_0 D 325943 325941     24\n",
      " 329701 100607        0.5132     5        0.5230        0.5105  2167754    2.40%           rho_1 D 329701 329700     87\n",
      " 333087 101251        0.5105     9        0.5230        0.5105  2186415    2.40%          rho_13 D 333087 333086     61\n",
      " 336855 102631        0.5120    12        0.5230        0.5105  2206697    2.40%          rho_21 D 336855 325146     14\n",
      " 351905 106204        0.5189     7        0.5230        0.5105  2283434    2.40%           rho_2 D 351905 351904     52\n",
      "Elapsed time = 99.59 sec. (91812.75 ticks, tree = 30.04 MB, solutions = 1)\n",
      " 365943 110373        0.5162    11        0.5230        0.5105  2369967    2.40%           rho_2 D 365943 365942     38\n",
      " 380160 115026        0.5116    17        0.5230        0.5105  2458256    2.40%          rho_15 D 380160 379152     55\n",
      " 393236 119145        cutoff              0.5230        0.5105  2548960    2.40%          rho_23 U 393236 393234     46\n",
      " 407998 123352        0.5178     7        0.5230        0.5105  2630800    2.40%           rho_2 D 407998 407997     56\n",
      " 421673 127668        0.5153    10        0.5230        0.5105  2714693    2.40%          rho_20 D 421673 421672     36\n",
      " 435650 132605        0.5151    11        0.5230        0.5105  2798366    2.40%          rho_14 N 435650 435649     40\n",
      " 450153 138126        0.5105     9        0.5230        0.5105  2874923    2.40%           rho_0 D 450153 450143     41\n",
      " 463163 141549        0.5109    15        0.5230        0.5105  2961406    2.40%          rho_15 N 463163 314510     43\n",
      " 476478 146211        0.5106     9        0.5230        0.5105  3043442    2.40%           rho_6 N 476478  70495     57\n",
      " 489792 151781        0.5132    11        0.5230        0.5105  3127976    2.40%          rho_13 D 489792 489791     64\n",
      "Elapsed time = 141.55 sec. (129962.30 ticks, tree = 43.76 MB, solutions = 1)\n",
      " 503576 157092        0.5205     7        0.5230        0.5105  3214182    2.40%          rho_15 N 503576 503573     53\n",
      " 515368 161957        0.5218     7        0.5230        0.5105  3310027    2.40%          rho_15 N 515368 485875     15\n",
      " 529089 165758        0.5138    12        0.5230        0.5105  3382846    2.40%           rho_1 D 529089 529088     54\n",
      " 544070 172687        0.5118     9        0.5230        0.5106  3459363    2.39%          rho_10 D 544070  35339     65\n",
      " 559375 177504        0.5221    12        0.5230        0.5107  3525038    2.36%          rho_14 D 559375 559374     31\n",
      " 573930 183836        cutoff              0.5230        0.5108  3595299    2.35%          rho_24 D 573930 573928     38\n",
      " 590225 189209        0.5178    11        0.5230        0.5109  3661354    2.33%           rho_1 D 590225 590224     46\n",
      " 605826 195072        0.5109    19        0.5230        0.5109  3728051    2.32%          rho_13 U 605826 605824     64\n",
      " 620334 201363        0.5143    16        0.5230        0.5111  3802192    2.29%          rho_13 D 620334 620333     51\n",
      " 635928 206251        0.5221     5        0.5230        0.5111  3869360    2.28%           rho_1 U 635928 635926     43\n",
      "Elapsed time = 178.56 sec. (168110.89 ticks, tree = 60.54 MB, solutions = 1)\n",
      " 650631 210078        0.5144    16        0.5230        0.5112  3938705    2.27%          rho_13 D 650631 650630     76\n",
      " 665651 216387        0.5113    11        0.5230        0.5113  4000095    2.25%          rho_13 U 665651 665313     21\n",
      " 680400 220625        0.5215     8        0.5230        0.5114  4060918    2.23%           rho_0 D 680400 680399     37\n",
      " 694733 225638        0.5221     8        0.5230        0.5114  4121929    2.22%           rho_4 D 694733 694732     60\n",
      " 710162 231439        0.5115    16        0.5230        0.5115  4186614    2.21%          rho_13 U 710162 710156     41\n",
      "\n",
      "Implied bound cuts applied:  1\n",
      "Mixed integer rounding cuts applied:  1\n",
      "Gomory fractional cuts applied:  2\n",
      "User cuts applied:  334\n",
      "\n",
      "Root node processing (before b&c):\n",
      "  Real time             =    0.11 sec. (2.21 ticks)\n",
      "Sequential b&c:\n",
      "  Real time             =  199.91 sec. (190806.90 ticks)\n",
      "                          ------------\n",
      "Total (root+branch&cut) =  200.02 sec. (190809.11 ticks)\n",
      "+----------------------------------------------+------------------+-----------+\n",
      "| Pr(Y = +1) = 1.0/(1.0 + exp(-(-2 + score))   |                  |           |\n",
      "| ============================================ | ================ | ========= |\n",
      "| p_arrest>=2                                  |         1 points |   + ..... |\n",
      "| p_arrest>=3                                  |         1 points |   + ..... |\n",
      "| p_arrest>=6                                  |         1 points |   + ..... |\n",
      "| ============================================ | ================ | ========= |\n",
      "| ADD POINTS FROM ROWS 1 to 3                  |            SCORE |   = ..... |\n",
      "+----------------------------------------------+------------------+-----------+\n",
      "model_id, score_thresholds 0 {'rank_abs': [1830]}\n",
      "get_disparity_predefined_group()\n",
      "setting c0 = 0.0 to ensure that intercept is not penalized\n",
      "09/11/19 @ 12:54 AM | 1061 rows in lookup table\n",
      "09/11/19 @ 12:54 AM | ------------------------------------------------------------\n",
      "09/11/19 @ 12:54 AM | runnning initialization procedure\n",
      "09/11/19 @ 12:54 AM | ------------------------------------------------------------\n",
      "09/11/19 @ 12:54 AM | CPA produced 2 cuts\n",
      "09/11/19 @ 12:54 AM | running naive rounding on 62 solutions\n",
      "09/11/19 @ 12:54 AM | best objective value: 0.5145\n",
      "09/11/19 @ 12:54 AM | rounding produced 5 integer solutions\n",
      "09/11/19 @ 12:54 AM | best objective value is 0.5272\n",
      "09/11/19 @ 12:54 AM | running sequential rounding on 62 solutions\n",
      "09/11/19 @ 12:54 AM | best objective value: 0.5145\n",
      "09/11/19 @ 12:54 AM | sequential rounding produced 5 integer solutions\n",
      "09/11/19 @ 12:54 AM | best objective value: 0.5242\n",
      "09/11/19 @ 12:54 AM | polishing 10 solutions\n",
      "09/11/19 @ 12:54 AM | best objective value: 0.5242\n",
      "09/11/19 @ 12:54 AM | polishing produced 5 integer solutions\n",
      "09/11/19 @ 12:54 AM | initialization produced 9 feasible solutions\n",
      "09/11/19 @ 12:54 AM | best objective value: 0.5242\n",
      "09/11/19 @ 12:54 AM | ------------------------------------------------------------\n",
      "09/11/19 @ 12:54 AM | completed initialization procedure\n",
      "09/11/19 @ 12:54 AM | ------------------------------------------------------------\n",
      "09/11/19 @ 12:54 AM | 1061 rows in lookup table\n",
      "CPXPARAM_Read_DataCheck                          1\n",
      "CPXPARAM_Threads                                 1\n",
      "CPXPARAM_Parallel                                1\n",
      "CPXPARAM_RandomSeed                              0\n",
      "CPXPARAM_TimeLimit                               200\n",
      "CPXPARAM_MIP_Tolerances_LowerCutoff              0.51120730646907364\n",
      "CPXPARAM_MIP_Tolerances_UpperCutoff              0.52420496158151852\n"
     ]
    },
    {
     "name": "stderr",
     "output_type": "stream",
     "text": [
      "Warning: Control callbacks may disable some MIP features.\n"
     ]
    },
    {
     "name": "stdout",
     "output_type": "stream",
     "text": [
      "Lazy constraint(s) or lazy constraint callback is present.\n",
      "    Disabling dual reductions (CPX_PARAM_REDUCE) in presolve.\n",
      "    Disabling non-linear reductions (CPX_PARAM_PRELINEAR) in presolve.\n",
      "         Disabling repeat represolve because of lazy constraint/incumbent callback.\n",
      "09/11/19 @ 12:54 AM | adding 249 initial cuts\n",
      "1 of 1 MIP starts provided solutions.\n",
      "MIP start 'mip_start_0' defined initial solution with objective 0.5242.\n",
      "Tried aggregator 1 time.\n",
      "Reduced MIP has 26 rows, 52 columns, and 99 nonzeros.\n",
      "Reduced MIP has 24 binaries, 26 generals, 0 SOSs, and 0 indicators.\n",
      "Presolve time = 0.00 sec. (0.05 ticks)\n",
      "Probing time = 0.00 sec. (0.01 ticks)\n",
      "MIP emphasis: balance optimality and feasibility.\n",
      "MIP search method: traditional branch-and-cut.\n",
      "Parallel mode: none, using 1 thread.\n",
      "Root relaxation solution time = 0.00 sec. (0.03 ticks)\n",
      "\n",
      "        Nodes                                         Cuts/\n",
      "   Node  Left     Objective  IInf  Best Integer    Best Bound    ItCnt     Gap         Variable B NodeID Parent  Depth\n",
      "\n",
      "*     0+    0                            0.5242        0.5111             2.50%\n",
      "      0     0        0.5112     1        0.5242        0.5112        1    2.48%\n",
      "      0     0        0.5112     1        0.5242       Cuts: 2        2    2.48%\n",
      "      0     0        0.5112     1        0.5242       Cuts: 2        5    2.48%\n",
      "      0     2        0.5112     2        0.5242        0.5112        6    2.48%                        0             0\n",
      "Elapsed time = 0.17 sec. (1.88 ticks, tree = 0.01 MB, solutions = 1)\n",
      "*   400+  258                            0.5240        0.5112             2.44%\n",
      "*   400+  258                            0.5240        0.5112             2.44%\n",
      "   3071  1189        0.5112     1        0.5240        0.5112    12237    2.44%          rho_13 U   3071   2986     62\n",
      "   5770  2164        0.5112     1        0.5240        0.5112    22806    2.44%          rho_13 U   5770   5768     46\n",
      "   8137  3045        cutoff              0.5240        0.5112    33365    2.44%           rho_3 U   8137   8136     36\n",
      "* 10000+ 3601                            0.5239        0.5112             2.43%\n",
      "  10394  3716        cutoff              0.5239        0.5112    44205    2.43%           rho_0 U  10394  10393     77\n",
      "  12495  4459        0.5183     6        0.5239        0.5112    52619    2.43%          rho_10 U  12495  12494     27\n",
      "  14313  5140        0.5141     7        0.5239        0.5112    63770    2.43%          rho_13 D  14313  14312     98\n",
      "* 15000+ 5370                            0.5239        0.5112             2.43%\n",
      "  16275  5702        cutoff              0.5239        0.5112    72405    2.43%           rho_0 U  16275  16274     27\n",
      "  18270  6421        0.5210     6        0.5239        0.5112    81802    2.43%          rho_11 U  18270  18269     47\n",
      "  20460  7233        0.5196    11        0.5239        0.5112    92700    2.43%          rho_24 D  20460  20459     92\n",
      "  28833  9838        cutoff              0.5239        0.5112   137008    2.43%           rho_0 U  28833  28832     43\n",
      "Elapsed time = 5.20 sec. (3101.92 ticks, tree = 2.66 MB, solutions = 5)\n",
      "  37120 12546        0.5132     6        0.5239        0.5112   172955    2.43%          rho_13 D  37120  36910     20\n",
      "  45123 15108        0.5127     6        0.5239        0.5112   207360    2.43%           rho_0 D  45123  45121     76\n",
      "  52538 17134        0.5161     4        0.5239        0.5112   246183    2.43%          rho_14 N  52538  34655     73\n",
      "  60365 18375        0.5209     6        0.5239        0.5112   282402    2.43%           rho_0 D  60365  60363     72\n",
      "  66866 19933        cutoff              0.5239        0.5112   317664    2.43%          rho_24 U  66866  66865     42\n",
      "  73304 21464        0.5166     7        0.5239        0.5112   351403    2.43%           rho_2 D  73304  73302     60\n",
      "  79656 23342        0.5237     8        0.5239        0.5112   386247    2.43%          rho_24 D  79656  79655     26\n",
      "  84320 25251        cutoff              0.5239        0.5112   419264    2.43%           rho_0 U  84320  84319     46\n",
      "  89581 26949        0.5112     4        0.5239        0.5112   449549    2.43%          rho_13 U  89581  89579     58\n",
      "* 93000+28173                            0.5239        0.5112             2.43%\n",
      "  94685 28788        0.5112     6        0.5239        0.5112   480519    2.43%          rho_13 U  94685  94655     32\n",
      "Elapsed time = 17.67 sec. (12639.55 ticks, tree = 7.44 MB, solutions = 6)\n",
      "  99300 30408        0.5217     9        0.5239        0.5112   514673    2.43%          rho_20 D  99300  99298     73\n",
      " 103803 31267        0.5112     4        0.5239        0.5112   544723    2.43%           rho_0 D 103803 103801     44\n",
      " 108473 32489        0.5222     6        0.5239        0.5112   575326    2.43%          rho_14 D 108473 108472     83\n",
      " 113320 33203        0.5112     1        0.5239        0.5112   604454    2.43%           rho_0 D 113320 113318     49\n",
      " 117785 34437        0.5112     5        0.5239        0.5112   637354    2.43%          rho_13 D 117785 117784     61\n",
      " 123085 36025        0.5112     5        0.5239        0.5112   666352    2.43%           rho_0 D 123085 123083     41\n",
      " 128202 37888        cutoff              0.5239        0.5112   694805    2.43%           rho_0 D 128202 128200     41\n",
      " 133378 38275        cutoff              0.5239        0.5112   720500    2.43%           rho_2 U 133378 133377     59\n",
      " 138821 40094        cutoff              0.5239        0.5112   749154    2.43%           rho_9 D 138821 138820     52\n",
      " 143898 40985        0.5112     6        0.5239        0.5112   779634    2.43%           rho_3 D 143898 143897     44\n",
      "Elapsed time = 29.84 sec. (22177.25 ticks, tree = 11.51 MB, solutions = 6)\n",
      " 148831 41381        0.5119     7        0.5239        0.5112   811329    2.43%           rho_2 D 148831 148830     46\n",
      " 154335 42869        0.5112     9        0.5239        0.5112   842967    2.43%           rho_1 U 154335 154273     76\n",
      " 159231 43238        0.5158     7        0.5239        0.5112   873217    2.43%          rho_14 D 159231 159230     87\n",
      "*160000+43278                            0.5239        0.5112             2.42%\n",
      " 164040 43664        0.5118     7        0.5239        0.5112   901373    2.42%          rho_14 D 164040 164039     72\n",
      " 169015 44240        cutoff              0.5239        0.5112   931452    2.42%          rho_24 D 169015 169013     53\n",
      " 174009 44583        0.5192     9        0.5239        0.5112   961172    2.42%           rho_2 U 174009 148677     56\n",
      " 178179 44829        0.5112     6        0.5239        0.5112   991126    2.42%          rho_13 D 178179 178178     55\n",
      " 183096 46277        0.5131     9        0.5239        0.5112  1020705    2.42%          rho_14 D 183096 183095     80\n",
      " 187752 46850        0.5182     4        0.5239        0.5112  1049261    2.42%          rho_14 N 187752 178429     61\n",
      " 192800 47834        0.5112     6        0.5239        0.5112  1077446    2.42%           rho_0 D 192800 192798     54\n",
      "Elapsed time = 40.61 sec. (31715.32 ticks, tree = 13.07 MB, solutions = 7)\n",
      " 197541 49084        0.5112     7        0.5239        0.5112  1107883    2.42%           rho_3 D 197541 197540     41\n",
      " 202332 50503        cutoff              0.5239        0.5112  1135485    2.42%           rho_0 U 202332 202331     77\n",
      " 206340 51018        0.5238     3        0.5239        0.5112  1163571    2.42%          rho_12 N 206340 206338     26\n",
      " 211034 52654        cutoff              0.5239        0.5112  1192995    2.42%          rho_23 D 211034 211033     82\n",
      " 215794 53751        0.5206     6        0.5239        0.5112  1218602    2.42%          rho_21 U 215794 215793     69\n",
      " 220424 54785        0.5112     6        0.5239        0.5112  1245121    2.42%          rho_13 U 220424 220422     58\n",
      " 224583 55683        cutoff              0.5239        0.5112  1274729    2.42%           rho_0 U 224583 224582     90\n",
      " 229237 57232        cutoff              0.5239        0.5112  1299909    2.42%           rho_0 U 229237 229236     53\n",
      " 233470 58539        0.5112     6        0.5239        0.5112  1326561    2.42%           rho_1 U 233470 233468     60\n",
      " 237465 59627        0.5185     7        0.5239        0.5112  1354075    2.42%           rho_0 N 237465 237463     67\n",
      "Elapsed time = 51.08 sec. (41253.82 ticks, tree = 15.77 MB, solutions = 7)\n",
      " 241278 60516        cutoff              0.5239        0.5112  1384115    2.42%           rho_0 U 241278 241277     26\n",
      " 245832 62365        0.5124     7        0.5239        0.5112  1408584    2.42%           rho_4 D 245832 245831     56\n",
      " 249300 63303        0.5218     6        0.5239        0.5112  1436752    2.42%           rho_2 N 249300 249299     41\n",
      " 253638 64400        cutoff              0.5239        0.5112  1462730    2.42%           rho_0 U 253638 253603     59\n",
      " 257820 64555        0.5187    10        0.5239        0.5112  1486620    2.42%           rho_1 N 257820 239127     62\n",
      " 261336 65462        cutoff              0.5239        0.5112  1520252    2.42%           rho_0 U 261336 261335     79\n",
      " 265531 66248        0.5112     6        0.5239        0.5112  1545703    2.42%          rho_13 U 265531 265529     29\n",
      " 269431 67356        cutoff              0.5239        0.5112  1578161    2.42%           rho_2 U 269431 269430     82\n",
      " 274216 68595        0.5112     3        0.5239        0.5112  1604368    2.42%           rho_2 D 274216 274215     43\n",
      " 278749 70055        0.5112     8        0.5239        0.5112  1631339    2.42%           rho_0 D 278749 278747     56\n",
      "Elapsed time = 60.41 sec. (50792.23 ticks, tree = 21.01 MB, solutions = 7)\n",
      " 283161 71341        0.5112     8        0.5239        0.5112  1658626    2.42%           rho_0 D 283161 283159     52\n",
      " 287578 72668        0.5112     5        0.5239        0.5112  1685918    2.42%           rho_1 D 287578 287577     51\n",
      " 291980 73955        0.5195     8        0.5239        0.5112  1713504    2.42%           rho_9 D 291980 291978     68\n",
      " 296370 75058        0.5131     4        0.5239        0.5112  1740772    2.42%          rho_14 U 296370 290816     38\n",
      " 300240 74877        0.5236    11        0.5239        0.5112  1764947    2.42%           rho_2 D 300240 300239     56\n",
      " 304579 75561        0.5112     1        0.5239        0.5112  1787706    2.42%          rho_13 U 304579 304577     70\n",
      " 309048 76586        0.5167    11        0.5239        0.5112  1812688    2.42%           rho_3 D 309048 309045     94\n",
      " 313402 77434        0.5112     7        0.5239        0.5112  1838622    2.42%           rho_1 N 313402 303287     59\n",
      " 317606 78008        0.5188    13        0.5239        0.5112  1863698    2.42%           rho_0 D 317606 317604     24\n",
      " 321580 79180        0.5228    11        0.5239        0.5112  1892534    2.42%          rho_14 D 321580 321579     81\n",
      "Elapsed time = 67.97 sec. (60330.80 ticks, tree = 23.13 MB, solutions = 7)\n",
      " 325327 80144        0.5124     9        0.5239        0.5112  1922469    2.42%           rho_9 U 325327 325326     61\n",
      " 329310 81464        0.5143    10        0.5239        0.5112  1950920    2.42%          rho_13 D 329310 329309     40\n",
      " 333158 82126        0.5218    10        0.5239        0.5112  1977132    2.42%           rho_3 U 333158 182195     63\n",
      " 337106 83509        0.5112     8        0.5239        0.5112  2005256    2.42%           rho_0 D 337106 337104     51\n",
      " 340484 85755        0.5218    10        0.5239        0.5112  2041463    2.42%           rho_3 N 340484 333266     52\n",
      " 344136 87076        cutoff              0.5239        0.5112  2072016    2.42%           rho_0 U 344136 344135     58\n",
      " 347769 88045        0.5201     5        0.5239        0.5112  2102173    2.42%           rho_9 N 347769 347768     90\n",
      " 351924 89033        0.5112     7        0.5239        0.5112  2128748    2.42%           rho_1 N 351924 349617     67\n",
      " 355835 90179        0.5132    12        0.5239        0.5112  2157090    2.42%          rho_13 D 355835 355834     55\n",
      " 359654 91250        0.5124     9        0.5239        0.5112  2185784    2.42%           rho_9 U 359654 359653     33\n",
      "Elapsed time = 75.98 sec. (69869.85 ticks, tree = 25.92 MB, solutions = 7)\n",
      " 363450 92531        0.5113    10        0.5239        0.5112  2216303    2.42%          rho_13 D 363450 363449     72\n",
      " 367876 94145        cutoff              0.5239        0.5112  2239826    2.42%           rho_3 U 367876 367874     54\n",
      " 371892 95138        0.5114     7        0.5239        0.5112  2264703    2.42%           rho_3 D 371892 310173     59\n",
      " 376398 95951        0.5112     7        0.5239        0.5112  2288224    2.42%           rho_0 D 376398 376396     70\n",
      " 380434 97577        0.5128     9        0.5239        0.5112  2316771    2.42%          rho_13 D 380434 380433     64\n",
      " 384612 99106        0.5173    12        0.5239        0.5112  2343072    2.42%          rho_13 U 384612 384610     31\n",
      " 388906 100592        0.5218     9        0.5239        0.5112  2368286    2.42%          rho_20 D 388906 388905     27\n",
      " 393644 102165        0.5149     8        0.5239        0.5112  2392101    2.42%           rho_1 U 393644 393632     55\n",
      " 398391 103789        0.5172     4        0.5239        0.5112  2416493    2.42%          rho_14 D 398391 398389     57\n",
      " 403095 105286        0.5233     7        0.5239        0.5112  2440593    2.42%          rho_20 D 403095 403094     54\n",
      "Elapsed time = 83.73 sec. (79408.94 ticks, tree = 29.21 MB, solutions = 7)\n",
      " 407700 106769        0.5138     9        0.5239        0.5112  2464638    2.42%           rho_1 N 407700 407359     49\n",
      " 411640 108161        0.5138     9        0.5239        0.5112  2492533    2.42%           rho_1 N 411640 410900     79\n",
      " 415414 109213        0.5193     5        0.5239        0.5112  2519568    2.42%          rho_14 U 415414 415411     63\n",
      " 419567 110198        0.5128     9        0.5239        0.5112  2545907    2.42%          rho_13 D 419567 419566     63\n",
      " 423339 111527        0.5112     5        0.5239        0.5112  2575319    2.42%           rho_0 N 423339 423337     28\n",
      " 427127 113057        0.5127    11        0.5239        0.5112  2605675    2.42%           rho_1 N 427127 423675     48\n",
      " 430834 114433        0.5128    10        0.5239        0.5112  2636221    2.42%           rho_2 D 430834 430833     78\n",
      " 434620 115891        0.5112    11        0.5239        0.5112  2667189    2.42%           rho_7 D 434620 434597     33\n",
      " 438421 117263        0.5112    13        0.5239        0.5112  2698163    2.42%           rho_2 U 438421 437653     74\n",
      " 452540 119983        0.5153     9        0.5239        0.5112  2810880    2.42%           rho_1 N 452540 452392     40\n",
      "Elapsed time = 95.05 sec. (91810.54 ticks, tree = 32.66 MB, solutions = 7)\n",
      " 466375 123075        cutoff              0.5239        0.5112  2931273    2.42%          rho_16 D 466375 466374     28\n",
      " 481829 129197        0.5163    13        0.5239        0.5112  3043145    2.42%           rho_1 N 481829 435510     38\n",
      " 496028 131695        0.5184     9        0.5239        0.5112  3151433    2.42%           rho_9 D 496028 496027     68\n",
      " 512153 135729        0.5113     7        0.5239        0.5112  3253340    2.42%           rho_4 N 512153 511712     65\n",
      " 527529 140382        0.5157     8        0.5239        0.5112  3360997    2.42%          rho_14 U 527529 527161     47\n",
      " 542210 141801        0.5194     5        0.5239        0.5112  3460097    2.42%          rho_10 N 542210 542209    103\n",
      " 557922 146957        0.5112     6        0.5239        0.5112  3556679    2.42%           rho_0 D 557922 557920     84\n",
      " 571845 151702        cutoff              0.5239        0.5112  3672018    2.42%          rho_23 U 571845 571844     62\n",
      " 586075 155610        0.5149    12        0.5239        0.5112  3780790    2.42%          rho_14 D 586075 586074     72\n",
      " 598991 159051        0.5176     7        0.5239        0.5112  3898558    2.42%          rho_20 D 598991 598989     61\n",
      "Elapsed time = 124.89 sec. (129959.02 ticks, tree = 46.58 MB, solutions = 7)\n",
      " 612727 161858        0.5206     8        0.5239        0.5112  4005780    2.42%          rho_14 N 612727 612726     94\n",
      " 626068 165900        0.5112     8        0.5239        0.5112  4116338    2.42%           rho_1 N 626068 626058     73\n",
      " 639676 168453        0.5238     3        0.5239        0.5112  4224898    2.42%          rho_12 N 639676 639674     32\n",
      " 653926 172259        0.5164     8        0.5239        0.5112  4340013    2.42%           rho_1 U 653926 653883     39\n",
      " 668968 175469        0.5201    12        0.5239        0.5112  4442898    2.42%          rho_14 D 668968 668967     36\n",
      " 681600 179186        0.5147     6        0.5239        0.5112  4563533    2.42%          rho_13 D 681600 681599     57\n",
      " 697373 182499        cutoff              0.5239        0.5112  4650384    2.42%           rho_0 D 697373 697372     33\n",
      " 710956 185086        0.5118    11        0.5239        0.5112  4753781    2.42%           rho_8 N 710956 622384     74\n",
      " 723930 187621        cutoff              0.5239        0.5112  4862867    2.42%          rho_24 U 723930 723929     59\n",
      " 736845 191831        0.5137    13        0.5239        0.5112  4978985    2.42%          rho_15 D 736845 736844     51\n",
      "Elapsed time = 153.13 sec. (168108.32 ticks, tree = 56.34 MB, solutions = 7)\n",
      " 750191 193506        cutoff              0.5239        0.5112  5083308    2.42%          rho_20 U 750191 750189     64\n",
      " 762717 199809        0.5112     5        0.5239        0.5112  5204392    2.42%          rho_13 U 762717 762715     40\n",
      " 776889 203279        cutoff              0.5239        0.5112  5308982    2.42%          rho_14 U 776889 776887     75\n",
      " 790127 205503        0.5167    12        0.5239        0.5112  5410146    2.42%          rho_16 D 790127 790126     20\n",
      " 804295 208230        0.5144    16        0.5239        0.5112  5506887    2.42%           rho_0 D 804295 804293     52\n",
      " 819145 211571        cutoff              0.5239        0.5112  5601084    2.42%           rho_0 D 819145 819143     52\n",
      " 831916 215286        cutoff              0.5239        0.5112  5710146    2.42%           rho_0 D 831916 831914     67\n",
      " 844095 218293        0.5174    15        0.5239        0.5112  5817535    2.42%           rho_4 U 844095 428749     68\n",
      " 855877 223640        cutoff              0.5239        0.5112  5928737    2.42%          rho_16 D 855877 855876     62\n",
      " 867654 227979        0.5160    13        0.5239        0.5112  6038665    2.42%           rho_1 N 867654 867645     83\n",
      "Elapsed time = 181.45 sec. (206256.62 ticks, tree = 67.34 MB, solutions = 7)\n",
      " 882231 232458        0.5112     9        0.5239        0.5112  6118952    2.42%          rho_13 U 882231 882081     69\n",
      " 896466 237235        cutoff              0.5239        0.5112  6208005    2.42%           rho_9 U 896466 896465     58\n",
      " 909698 240213        0.5112    13        0.5239        0.5112  6300325    2.42%           rho_7 U 909698 762643     53\n",
      " 923080 244341        0.5159     5        0.5239        0.5112  6392125    2.42%           rho_0 U 923080 923079     85\n",
      " 935125 249346        0.5112    13        0.5239        0.5112  6493782    2.42%          rho_13 U 935125 935123     76\n",
      " 946855 254321        0.5112    12        0.5239        0.5112  6601859    2.42%           rho_0 D 946855 946853     38\n",
      "\n",
      "Gomory fractional cuts applied:  1\n",
      "User cuts applied:  294\n",
      "\n",
      "Root node processing (before b&c):\n",
      "  Real time             =    0.16 sec. (1.90 ticks)\n",
      "Sequential b&c:\n",
      "  Real time             =  199.86 sec. (229754.29 ticks)\n",
      "                          ------------\n",
      "Total (root+branch&cut) =  200.02 sec. (229756.19 ticks)\n",
      "+----------------------------------------------+------------------+-----------+\n",
      "| Pr(Y = +1) = 1.0/(1.0 + exp(-(-2 + score))   |                  |           |\n",
      "| ============================================ | ================ | ========= |\n",
      "| p_arrest>=2                                  |         1 points |   + ..... |\n",
      "| p_arrest>=3                                  |         1 points |   + ..... |\n",
      "| p_arrest>=6                                  |         1 points |   + ..... |\n",
      "| ============================================ | ================ | ========= |\n",
      "| ADD POINTS FROM ROWS 1 to 3                  |            SCORE |   = ..... |\n",
      "+----------------------------------------------+------------------+-----------+\n",
      "model_id, score_thresholds 0 {'rank_abs': [1865]}\n",
      "get_disparity_predefined_group()\n"
     ]
    }
   ],
   "source": [
    "riskslim_summary = slim.risk_cv(X=sub_X, \n",
    "                                Y=sub_Y, \n",
    "                                indicator = indicator,\n",
    "                                y_label='recid_general2', \n",
    "                                max_coef=20, \n",
    "                                max_coef_number=10, \n",
    "                                max_runtime=200, \n",
    "                                c=1e-5, \n",
    "                                seed=816)"
   ]
  },
  {
   "cell_type": "code",
   "execution_count": 30,
   "metadata": {},
   "outputs": [
    {
     "data": {
      "text/plain": [
       "(0.7058914642583226, 0.7058899129511744)"
      ]
     },
     "execution_count": 30,
     "metadata": {},
     "output_type": "execute_result"
    }
   ],
   "source": [
    "np.mean(riskslim_summary['train_auc']), np.mean(riskslim_summary['test_auc'])"
   ]
  },
  {
   "cell_type": "markdown",
   "metadata": {},
   "source": [
    "### Results"
   ]
  },
  {
   "cell_type": "code",
   "execution_count": 31,
   "metadata": {},
   "outputs": [
    {
     "name": "stdout",
     "output_type": "stream",
     "text": [
      "Stored 'summary_general2_KY_interpret' (dict)\n"
     ]
    }
   ],
   "source": [
    "#### save results\n",
    "summary_general2_KY_interpret = {\"CART\": cart_summary,\n",
    "                                   \"EBM\": ebm_summary, \n",
    "                                   'Lasso Stumps': stump_summary, \n",
    "                                   'RiskSLIM': riskslim_summary, \n",
    "                                   'Arnold PSA Raw': raw_auc, \n",
    "                                   'Arnold PSA': calc_auc}\n",
    "%store summary_general2_KY_interpret"
   ]
  },
  {
   "cell_type": "code",
   "execution_count": 32,
   "metadata": {},
   "outputs": [
    {
     "data": {
      "text/plain": [
       "[['CART', 0.7313490449335174, 0.008516576718522084],\n",
       " ['EBM', 0.7372215785656455, 0.003637597013214777],\n",
       " ['Lasso Stumps', 0.7342090835960674, 0.000281920416628334],\n",
       " ['RiskSLIM', 0.7058899129511744],\n",
       " ['Arnold PSA Raw', 0.697],\n",
       " ['Arnold PSA', 0.688]]"
      ]
     },
     "execution_count": 32,
     "metadata": {},
     "output_type": "execute_result"
    }
   ],
   "source": [
    "results = [[\"CART\", np.mean(cart_summary['holdout_test_auc']), np.mean(cart_summary['auc_diffs'])],\n",
    "           [\"EBM\", np.mean(ebm_summary['holdout_test_auc']), np.mean(ebm_summary['auc_diffs'])], \n",
    "           [\"Lasso Stumps\", np.mean(stump_summary['holdout_test_auc']), np.mean(stump_summary['auc_diffs'])],\n",
    "           ['RiskSLIM', np.mean(riskslim_summary['test_auc'])],\n",
    "           ['Arnold PSA Raw', round(np.mean(raw_auc), 3)], \n",
    "           ['Arnold PSA', round(np.mean(calc_auc), 3)]]\n",
    "results"
   ]
  },
  {
   "cell_type": "code",
   "execution_count": 33,
   "metadata": {},
   "outputs": [],
   "source": [
    "auc = [np.mean(cart_summary['holdout_test_auc']), \n",
    "       np.mean(ebm_summary['holdout_test_auc']), \n",
    "       np.mean(stump_summary['holdout_test_auc']), \n",
    "       np.mean(riskslim_summary['test_auc'])]"
   ]
  },
  {
   "cell_type": "code",
   "execution_count": 34,
   "metadata": {},
   "outputs": [],
   "source": [
    "path = \"C:/Users/binha/Documents/Duke/Cynthia Research/KY-analysis-mytrials/KY Recidivism/KY Results/Models/Two Year/\"\n",
    "results = [[\"\", \"CART\", \"EBM\", \"Lasso Stumps\",\"RiskSLIM\", \"Performance Range\", \"Arnold PSA Raw\", \"Arnold PSA\"],\n",
    "           [\"General\", np.str((round(np.mean(cart_summary['holdout_test_auc']), 3))) + \" (\" + np.str(round(np.std(cart_summary['holdout_test_auc']), 3)) + \")\", \n",
    "            np.str(round(np.mean(ebm_summary['holdout_test_auc']),3)) + \" (\" + np.str(round(np.std(ebm_summary['holdout_test_auc']), 3)) + \")\", \n",
    "            np.str(round(np.mean(stump_summary['holdout_test_auc']),3)) + \" (\" + np.str(round(np.std(stump_summary['holdout_test_auc']), 3)) + \")\",             \n",
    "            np.str(round(np.mean(riskslim_summary['test_auc']),3)) + \" (\" + np.str(round(np.std(riskslim_summary['test_auc']), 3)) + \")\", \n",
    "            round(np.max(auc) - np.min(auc), 3),\n",
    "            np.str(round(np.mean(raw_auc), 3)) + \" (\" + np.str(round(np.std(raw_auc),3)) + \")\", \n",
    "            np.str(round(np.mean(calc_auc), 3)) + \" (\" + np.str(round(np.std(calc_auc),3)) + \")\"]]\n",
    "with open(path + 'Interpretable Models Summary.csv', 'w') as writeFile:\n",
    "    writer = csv.writer(writeFile)\n",
    "    writer.writerows(results)"
   ]
  }
 ],
 "metadata": {
  "kernelspec": {
   "display_name": "Python 3",
   "language": "python",
   "name": "python3"
  },
  "language_info": {
   "codemirror_mode": {
    "name": "ipython",
    "version": 3
   },
   "file_extension": ".py",
   "mimetype": "text/x-python",
   "name": "python",
   "nbconvert_exporter": "python",
   "pygments_lexer": "ipython3",
   "version": "3.7.4"
  }
 },
 "nbformat": 4,
 "nbformat_minor": 4
}
