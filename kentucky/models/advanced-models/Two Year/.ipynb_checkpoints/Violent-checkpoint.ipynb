{
 "cells": [
  {
   "cell_type": "code",
   "execution_count": 1,
   "metadata": {},
   "outputs": [
    {
     "name": "stdout",
     "output_type": "stream",
     "text": [
      "Current working directory is now:  C:\\Users\\binha\\Documents\\Duke\\Cynthia Research\\psa-analysis - test\n",
      "no stored variable summary_violent2_KY_interpret\n"
     ]
    },
    {
     "name": "stderr",
     "output_type": "stream",
     "text": [
      "C:\\Users\\binha\\Anaconda3\\lib\\site-packages\\sklearn\\externals\\six.py:31: DeprecationWarning:\n",
      "\n",
      "The module is deprecated in version 0.21 and will be removed in version 0.23 since we've dropped support for Python 2.7. Please rely on the official version of six (https://pypi.org/project/six/).\n",
      "\n"
     ]
    }
   ],
   "source": [
    "import os \n",
    "os.chdir('../../../../')\n",
    "print(\"Current working directory is now: \", os.getcwd())\n",
    "\n",
    "import pandas as pd \n",
    "import numpy as np\n",
    "import csv\n",
    "import utils.baseline_functions as base\n",
    "import stumps\n",
    "import RiskSLIM as slim\n",
    "\n",
    "from sklearn.linear_model import LogisticRegression\n",
    "from sklearn.model_selection import KFold, GridSearchCV\n",
    "from sklearn.metrics import roc_auc_score\n",
    "\n",
    "# restore saved variables\n",
    "%store -r summary_violent2_KY_interpret"
   ]
  },
  {
   "cell_type": "markdown",
   "metadata": {},
   "source": [
    "### CART & EBM"
   ]
  },
  {
   "cell_type": "code",
   "execution_count": 8,
   "metadata": {},
   "outputs": [],
   "source": [
    "### load data\n",
    "data = pd.read_csv(\"~/Documents/Duke/Cynthia Research/KY-analysis-mytrials/KY Recidivism/KY data/kentucky_data.csv\")\n",
    "data = data.drop(['fta_risk_score_raw','nca_risk_score_raw','pvf_risk_score_raw', \n",
    "                  'fta_calc', 'nca_calc', 'pvf_calc'], axis=1)\n",
    "x = data.loc[:,:'current_violence']\n",
    "y = data['recid_violence_two_year'].values"
   ]
  },
  {
   "cell_type": "code",
   "execution_count": 9,
   "metadata": {
    "scrolled": true
   },
   "outputs": [
    {
     "name": "stdout",
     "output_type": "stream",
     "text": [
      "model_id, score_thresholds 0 {'rank_abs': [493]}\n",
      "get_disparity_predefined_group()\n",
      "model_id, score_thresholds 0 {'rank_abs': [467]}\n",
      "get_disparity_predefined_group()\n",
      "model_id, score_thresholds 0 {'rank_abs': [370]}\n",
      "get_disparity_predefined_group()\n",
      "model_id, score_thresholds 0 {'rank_abs': [533]}\n",
      "get_disparity_predefined_group()\n",
      "model_id, score_thresholds 0 {'rank_abs': [506]}\n",
      "get_disparity_predefined_group()\n"
     ]
    },
    {
     "name": "stderr",
     "output_type": "stream",
     "text": [
      "WARNING:interpret.utils.all:Passing a numpy array to schema autogen when it should be dataframe.\n",
      "WARNING:interpret.utils.all:Passing a numpy array to schema autogen when it should be dataframe.\n",
      "WARNING:interpret.utils.all:Passing a numpy array to schema autogen when it should be dataframe.\n",
      "WARNING:interpret.utils.all:Passing a numpy array to schema autogen when it should be dataframe.\n",
      "WARNING:interpret.utils.all:Passing a numpy array to schema autogen when it should be dataframe.\n",
      "WARNING:interpret.utils.all:Passing a numpy array to schema autogen when it should be dataframe.\n",
      "WARNING:interpret.utils.all:Passing a numpy array to schema autogen when it should be dataframe.\n",
      "WARNING:interpret.utils.all:Passing a numpy array to schema autogen when it should be dataframe.\n",
      "WARNING:interpret.utils.all:Passing a numpy array to schema autogen when it should be dataframe.\n",
      "WARNING:interpret.utils.all:Passing a numpy array to schema autogen when it should be dataframe.\n",
      "WARNING:interpret.utils.all:Passing a numpy array to schema autogen when it should be dataframe.\n",
      "WARNING:interpret.utils.all:Passing a numpy array to schema autogen when it should be dataframe.\n"
     ]
    },
    {
     "name": "stdout",
     "output_type": "stream",
     "text": [
      "model_id, score_thresholds 0 {'rank_abs': [383]}\n",
      "get_disparity_predefined_group()\n"
     ]
    },
    {
     "name": "stderr",
     "output_type": "stream",
     "text": [
      "WARNING:interpret.utils.all:Passing a numpy array to schema autogen when it should be dataframe.\n",
      "WARNING:interpret.utils.all:Passing a numpy array to schema autogen when it should be dataframe.\n",
      "WARNING:interpret.utils.all:Passing a numpy array to schema autogen when it should be dataframe.\n",
      "WARNING:interpret.utils.all:Passing a numpy array to schema autogen when it should be dataframe.\n",
      "WARNING:interpret.utils.all:Passing a numpy array to schema autogen when it should be dataframe.\n",
      "WARNING:interpret.utils.all:Passing a numpy array to schema autogen when it should be dataframe.\n",
      "WARNING:interpret.utils.all:Passing a numpy array to schema autogen when it should be dataframe.\n",
      "WARNING:interpret.utils.all:Passing a numpy array to schema autogen when it should be dataframe.\n",
      "WARNING:interpret.utils.all:Passing a numpy array to schema autogen when it should be dataframe.\n",
      "WARNING:interpret.utils.all:Passing a numpy array to schema autogen when it should be dataframe.\n",
      "WARNING:interpret.utils.all:Passing a numpy array to schema autogen when it should be dataframe.\n",
      "WARNING:interpret.utils.all:Passing a numpy array to schema autogen when it should be dataframe.\n"
     ]
    },
    {
     "name": "stdout",
     "output_type": "stream",
     "text": [
      "model_id, score_thresholds 0 {'rank_abs': [412]}\n",
      "get_disparity_predefined_group()\n"
     ]
    },
    {
     "name": "stderr",
     "output_type": "stream",
     "text": [
      "WARNING:interpret.utils.all:Passing a numpy array to schema autogen when it should be dataframe.\n",
      "WARNING:interpret.utils.all:Passing a numpy array to schema autogen when it should be dataframe.\n",
      "WARNING:interpret.utils.all:Passing a numpy array to schema autogen when it should be dataframe.\n",
      "WARNING:interpret.utils.all:Passing a numpy array to schema autogen when it should be dataframe.\n",
      "WARNING:interpret.utils.all:Passing a numpy array to schema autogen when it should be dataframe.\n",
      "WARNING:interpret.utils.all:Passing a numpy array to schema autogen when it should be dataframe.\n",
      "WARNING:interpret.utils.all:Passing a numpy array to schema autogen when it should be dataframe.\n",
      "WARNING:interpret.utils.all:Passing a numpy array to schema autogen when it should be dataframe.\n",
      "WARNING:interpret.utils.all:Passing a numpy array to schema autogen when it should be dataframe.\n",
      "WARNING:interpret.utils.all:Passing a numpy array to schema autogen when it should be dataframe.\n",
      "WARNING:interpret.utils.all:Passing a numpy array to schema autogen when it should be dataframe.\n",
      "WARNING:interpret.utils.all:Passing a numpy array to schema autogen when it should be dataframe.\n"
     ]
    },
    {
     "name": "stdout",
     "output_type": "stream",
     "text": [
      "model_id, score_thresholds 0 {'rank_abs': [400]}\n",
      "get_disparity_predefined_group()\n"
     ]
    },
    {
     "name": "stderr",
     "output_type": "stream",
     "text": [
      "WARNING:interpret.utils.all:Passing a numpy array to schema autogen when it should be dataframe.\n",
      "WARNING:interpret.utils.all:Passing a numpy array to schema autogen when it should be dataframe.\n",
      "WARNING:interpret.utils.all:Passing a numpy array to schema autogen when it should be dataframe.\n",
      "WARNING:interpret.utils.all:Passing a numpy array to schema autogen when it should be dataframe.\n",
      "WARNING:interpret.utils.all:Passing a numpy array to schema autogen when it should be dataframe.\n",
      "WARNING:interpret.utils.all:Passing a numpy array to schema autogen when it should be dataframe.\n",
      "WARNING:interpret.utils.all:Passing a numpy array to schema autogen when it should be dataframe.\n",
      "WARNING:interpret.utils.all:Passing a numpy array to schema autogen when it should be dataframe.\n",
      "WARNING:interpret.utils.all:Passing a numpy array to schema autogen when it should be dataframe.\n",
      "WARNING:interpret.utils.all:Passing a numpy array to schema autogen when it should be dataframe.\n",
      "WARNING:interpret.utils.all:Passing a numpy array to schema autogen when it should be dataframe.\n",
      "WARNING:interpret.utils.all:Passing a numpy array to schema autogen when it should be dataframe.\n"
     ]
    },
    {
     "name": "stdout",
     "output_type": "stream",
     "text": [
      "model_id, score_thresholds 0 {'rank_abs': [397]}\n",
      "get_disparity_predefined_group()\n"
     ]
    },
    {
     "name": "stderr",
     "output_type": "stream",
     "text": [
      "WARNING:interpret.utils.all:Passing a numpy array to schema autogen when it should be dataframe.\n",
      "WARNING:interpret.utils.all:Passing a numpy array to schema autogen when it should be dataframe.\n",
      "WARNING:interpret.utils.all:Passing a numpy array to schema autogen when it should be dataframe.\n",
      "WARNING:interpret.utils.all:Passing a numpy array to schema autogen when it should be dataframe.\n",
      "WARNING:interpret.utils.all:Passing a numpy array to schema autogen when it should be dataframe.\n",
      "WARNING:interpret.utils.all:Passing a numpy array to schema autogen when it should be dataframe.\n",
      "WARNING:interpret.utils.all:Passing a numpy array to schema autogen when it should be dataframe.\n",
      "WARNING:interpret.utils.all:Passing a numpy array to schema autogen when it should be dataframe.\n",
      "WARNING:interpret.utils.all:Passing a numpy array to schema autogen when it should be dataframe.\n",
      "WARNING:interpret.utils.all:Passing a numpy array to schema autogen when it should be dataframe.\n",
      "WARNING:interpret.utils.all:Passing a numpy array to schema autogen when it should be dataframe.\n",
      "WARNING:interpret.utils.all:Passing a numpy array to schema autogen when it should be dataframe.\n"
     ]
    },
    {
     "name": "stdout",
     "output_type": "stream",
     "text": [
      "model_id, score_thresholds 0 {'rank_abs': [377]}\n",
      "get_disparity_predefined_group()\n"
     ]
    }
   ],
   "source": [
    "#### CART\n",
    "depth = [8,9,10]\n",
    "cart_summary = base.CART(X=x,\n",
    "                         Y=y,\n",
    "                         depth=depth,\n",
    "                         seed=816)\n",
    "\n",
    "#### EBM\n",
    "estimators = [20]\n",
    "depth = [2]\n",
    "learning_rate = [0.5]\n",
    "ebm_summary = base.EBM(X=x,\n",
    "                       Y=y,\n",
    "                       learning_rate=learning_rate,\n",
    "                       depth=depth,\n",
    "                       estimators=estimators,\n",
    "                       seed =816)"
   ]
  },
  {
   "cell_type": "code",
   "execution_count": 10,
   "metadata": {},
   "outputs": [
    {
     "data": {
      "text/plain": [
       "(0.8134264048091857, 0.02058333261467682)"
      ]
     },
     "execution_count": 10,
     "metadata": {},
     "output_type": "execute_result"
    }
   ],
   "source": [
    "np.mean(cart_summary['holdout_test_auc']), np.mean(cart_summary['auc_diffs'])"
   ]
  },
  {
   "cell_type": "code",
   "execution_count": 11,
   "metadata": {},
   "outputs": [
    {
     "data": {
      "text/plain": [
       "(0.8202005756793845, 0.004299970992083813)"
      ]
     },
     "execution_count": 11,
     "metadata": {},
     "output_type": "execute_result"
    }
   ],
   "source": [
    "np.mean(ebm_summary['holdout_test_auc']), np.mean(ebm_summary['auc_diffs'])"
   ]
  },
  {
   "cell_type": "markdown",
   "metadata": {},
   "source": [
    "## Lasso Stumps"
   ]
  },
  {
   "cell_type": "code",
   "execution_count": 14,
   "metadata": {},
   "outputs": [],
   "source": [
    "## load whole data\n",
    "data = pd.read_csv(\"~/Documents/Duke/Cynthia Research/KY-analysis-mytrials/KY Recidivism/KY data/kentucky_stumps.csv\")\n",
    "X_stumps, Y_stumps = data.loc[:,:'current_violence>=1'], data['recid_violence_two_year'].values\n",
    "Y_stumps[Y_stumps == -1] = 0\n",
    "cols = X_stumps.columns[3:]\n",
    "\n",
    "## load train & test data\n",
    "train_stumps = pd.read_csv(\"~/Documents/Duke/Cynthia Research/KY-analysis-mytrials/KY Recidivism/KY data/kentucky_train_stumps.csv\")\n",
    "test_stumps = pd.read_csv(\"~/Documents/Duke/Cynthia Research/KY-analysis-mytrials/KY Recidivism/KY data/kentucky_test_stumps.csv\")\n",
    "\n",
    "X_train_stumps, Y_train_stumps = train_stumps.loc[:,:'current_violence>=1'], train_stumps['recid_violence_two_year'].values\n",
    "X_test_stumps, Y_test_stumps = test_stumps.loc[:,:'current_violence>=1'], test_stumps['recid_violence_two_year'].values\n",
    "\n",
    "Y_train_stumps[Y_train_stumps == -1] = 0\n",
    "Y_test_stumps[Y_test_stumps == -1] = 0"
   ]
  },
  {
   "cell_type": "markdown",
   "metadata": {},
   "source": [
    "#### Nested Cross Validation"
   ]
  },
  {
   "cell_type": "code",
   "execution_count": 15,
   "metadata": {},
   "outputs": [
    {
     "name": "stdout",
     "output_type": "stream",
     "text": [
      "model_id, score_thresholds 0 {'rank_abs': [11540]}\n",
      "get_disparity_predefined_group()\n",
      "model_id, score_thresholds 0 {'rank_abs': [12597]}\n",
      "get_disparity_predefined_group()\n",
      "model_id, score_thresholds 0 {'rank_abs': [12888]}\n",
      "get_disparity_predefined_group()\n",
      "model_id, score_thresholds 0 {'rank_abs': [12356]}\n",
      "get_disparity_predefined_group()\n",
      "model_id, score_thresholds 0 {'rank_abs': [12172]}\n",
      "get_disparity_predefined_group()\n"
     ]
    }
   ],
   "source": [
    "stump_summary = stumps.stump_cv(X = X_stumps, \n",
    "                                Y = Y_stumps, \n",
    "                                columns=cols, \n",
    "                                c_grid={'C': [0.007, 0.005, 0.003]}, \n",
    "                                seed = 816)"
   ]
  },
  {
   "cell_type": "code",
   "execution_count": 16,
   "metadata": {},
   "outputs": [
    {
     "data": {
      "text/plain": [
       "([{'C': 0.007}, {'C': 0.007}, {'C': 0.007}, {'C': 0.007}, {'C': 0.007}],\n",
       " 0.8186931345203966,\n",
       " 0.0010479921745154108)"
      ]
     },
     "execution_count": 16,
     "metadata": {},
     "output_type": "execute_result"
    }
   ],
   "source": [
    "stump_summary['best_params'], np.mean(stump_summary['holdout_test_auc']), np.mean(stump_summary['auc_diffs'])"
   ]
  },
  {
   "cell_type": "markdown",
   "metadata": {},
   "source": [
    "##### Best Stump Model"
   ]
  },
  {
   "cell_type": "code",
   "execution_count": 21,
   "metadata": {},
   "outputs": [],
   "source": [
    "best_stump_model = stumps.stump_model(X_train_stumps, Y_train_stumps, \n",
    "                                      X_test_stumps, Y_test_stumps, \n",
    "                                      c=0.003, columns=cols, seed=816)"
   ]
  },
  {
   "cell_type": "markdown",
   "metadata": {},
   "source": [
    "##### Prediction Table"
   ]
  },
  {
   "cell_type": "code",
   "execution_count": 22,
   "metadata": {
    "scrolled": true
   },
   "outputs": [
    {
     "name": "stdout",
     "output_type": "stream",
     "text": [
      "+-----------------------------------+----------------+\n",
      "| Features                          | Score          |\n",
      "|====================================================|\n",
      "| sex                               | 46.9           |\n",
      "| age_at_current_charge<=24         | 11.1           |\n",
      "| age_at_current_charge<=30         | 1.0            |\n",
      "| age_at_current_charge<=38         | 11.3           |\n",
      "| age_at_current_charge<=43         | 0.7            |\n",
      "| age_at_current_charge<=46         | 6.1            |\n",
      "| p_arrest>=1                       | -58.1          |\n",
      "| p_arrest>=2                       | 45.6           |\n",
      "| p_arrest>=3                       | 21.1           |\n",
      "| p_arrest>=4                       | 7.4            |\n",
      "| p_arrest>=5                       | 10.5           |\n",
      "| p_charges>=1                      | -41.0          |\n",
      "| p_violence>=1                     | 183.3          |\n",
      "| p_misdemeanor>=3                  | 6.8            |\n",
      "| p_weapon>=1                       | 7.1            |\n",
      "| p_felassult>=1                    | 1.7            |\n",
      "| p_misdeassult>=1                  | -7.6           |\n",
      "| p_drug>=1                         | -0.7           |\n",
      "| p_prison>=1                       | -12.7          |\n",
      "| p_jail30>=1                       | 16.9           |\n",
      "| p_jail30>=2                       | 1.5            |\n",
      "| p_pending_charge>=1               | 24.4           |\n",
      "| p_probation>=1                    | 11.8           |\n",
      "| three_year>=1                     | 0.6            |\n",
      "| current_violence>=1               | 27.3           |\n",
      "| Intercept                         | -0.859         |\n",
      "|====================================================|\n",
      "| ADD POINTS FROM ROWS 1 TO 25      | Total Score    |\n",
      "+-----------------------------------+----------------+\n"
     ]
    }
   ],
   "source": [
    "stumps.stump_table(best_stump_model['coefs'], \n",
    "                   best_stump_model['features'], \n",
    "                   best_stump_model['intercept'], \n",
    "                   best_stump_model['dictionary'])"
   ]
  },
  {
   "cell_type": "code",
   "execution_count": 23,
   "metadata": {},
   "outputs": [
    {
     "name": "stdout",
     "output_type": "stream",
     "text": [
      "model_id, score_thresholds 0 {'rank_abs': [12312]}\n",
      "get_disparity_predefined_group()\n",
      "model_id, score_thresholds 0 {'rank_abs': [11865]}\n",
      "get_disparity_predefined_group()\n",
      "model_id, score_thresholds 0 {'rank_abs': [12974]}\n",
      "get_disparity_predefined_group()\n",
      "model_id, score_thresholds 0 {'rank_abs': [12002]}\n",
      "get_disparity_predefined_group()\n",
      "model_id, score_thresholds 0 {'rank_abs': [12293]}\n",
      "get_disparity_predefined_group()\n"
     ]
    }
   ],
   "source": [
    "stump_summary = stumps.stump_cv(X = X_stumps, \n",
    "                                Y = Y_stumps, \n",
    "                                columns=cols, \n",
    "                                c_grid={'C': [0.003]}, \n",
    "                                seed = 816)"
   ]
  },
  {
   "cell_type": "code",
   "execution_count": 24,
   "metadata": {},
   "outputs": [
    {
     "data": {
      "text/plain": [
       "([{'C': 0.003}, {'C': 0.003}, {'C': 0.003}, {'C': 0.003}, {'C': 0.003}],\n",
       " 0.8161970524355169,\n",
       " 0.0006430605673888312)"
      ]
     },
     "execution_count": 24,
     "metadata": {},
     "output_type": "execute_result"
    }
   ],
   "source": [
    "stump_summary['best_params'], np.mean(stump_summary['holdout_test_auc']), np.mean(stump_summary['auc_diffs'])"
   ]
  },
  {
   "cell_type": "markdown",
   "metadata": {},
   "source": [
    "##### Stumps Visualizations"
   ]
  },
  {
   "cell_type": "code",
   "execution_count": 25,
   "metadata": {
    "scrolled": true
   },
   "outputs": [
    {
     "data": {
      "image/png": "[encoded data removed]",
      "text/plain": [
       "<Figure size 288x216 with 1 Axes>"
      ]
     },
     "metadata": {
      "needs_background": "light"
     },
     "output_type": "display_data"
    },
    {
     "data": {
      "image/png": "[encoded data removed]",
      "text/plain": [
       "<Figure size 288x216 with 1 Axes>"
      ]
     },
     "metadata": {
      "needs_background": "light"
     },
     "output_type": "display_data"
    },
    {
     "data": {
      "image/png": "[encoded data removed]",
      "text/plain": [
       "<Figure size 288x216 with 1 Axes>"
      ]
     },
     "metadata": {
      "needs_background": "light"
     },
     "output_type": "display_data"
    },
    {
     "data": {
      "image/png": "[encoded data removed]",
      "text/plain": [
       "<Figure size 288x216 with 1 Axes>"
      ]
     },
     "metadata": {
      "needs_background": "light"
     },
     "output_type": "display_data"
    },
    {
     "data": {
      "image/png": "[encoded data removed]",
      "text/plain": [
       "<Figure size 288x216 with 1 Axes>"
      ]
     },
     "metadata": {
      "needs_background": "light"
     },
     "output_type": "display_data"
    },
    {
     "data": {
      "image/png": "[encoded data removed]",
      "text/plain": [
       "<Figure size 288x216 with 1 Axes>"
      ]
     },
     "metadata": {
      "needs_background": "light"
     },
     "output_type": "display_data"
    },
    {
     "data": {
      "image/png": "[encoded data removed]",
      "text/plain": [
       "<Figure size 288x216 with 1 Axes>"
      ]
     },
     "metadata": {
      "needs_background": "light"
     },
     "output_type": "display_data"
    },
    {
     "data": {
      "image/png": "[encoded data removed]",
      "text/plain": [
       "<Figure size 288x216 with 1 Axes>"
      ]
     },
     "metadata": {
      "needs_background": "light"
     },
     "output_type": "display_data"
    },
    {
     "data": {
      "image/png": "[encoded data removed]",
      "text/plain": [
       "<Figure size 288x216 with 1 Axes>"
      ]
     },
     "metadata": {
      "needs_background": "light"
     },
     "output_type": "display_data"
    },
    {
     "data": {
      "image/png": "[encoded data removed]",
      "text/plain": [
       "<Figure size 288x216 with 1 Axes>"
      ]
     },
     "metadata": {
      "needs_background": "light"
     },
     "output_type": "display_data"
    },
    {
     "data": {
      "image/png": "[encoded data removed]",
      "text/plain": [
       "<Figure size 288x216 with 1 Axes>"
      ]
     },
     "metadata": {
      "needs_background": "light"
     },
     "output_type": "display_data"
    },
    {
     "data": {
      "image/png": "[encoded data removed]",
      "text/plain": [
       "<Figure size 288x216 with 1 Axes>"
      ]
     },
     "metadata": {
      "needs_background": "light"
     },
     "output_type": "display_data"
    },
    {
     "data": {
      "image/png": "[encoded data removed]",
      "text/plain": [
       "<Figure size 288x216 with 1 Axes>"
      ]
     },
     "metadata": {
      "needs_background": "light"
     },
     "output_type": "display_data"
    },
    {
     "data": {
      "image/png": "[encoded data removed]",
      "text/plain": [
       "<Figure size 288x216 with 1 Axes>"
      ]
     },
     "metadata": {
      "needs_background": "light"
     },
     "output_type": "display_data"
    }
   ],
   "source": [
    "stumps.stump_plots(best_stump_model['features'], best_stump_model['coefs'])"
   ]
  },
  {
   "cell_type": "markdown",
   "metadata": {},
   "source": [
    "## RiskSLIM"
   ]
  },
  {
   "cell_type": "code",
   "execution_count": 40,
   "metadata": {},
   "outputs": [],
   "source": [
    "## load stumps data\n",
    "data = pd.read_csv(\"~/Documents/Duke/Cynthia Research/KY-analysis-mytrials/KY Recidivism/KY data/kentucky_stumps.csv\")\n",
    "x, y = data.loc[:,:'current_violence>=1'], data['recid_violence_two_year'].values\n",
    "cols = x.columns[3:]"
   ]
  },
  {
   "cell_type": "code",
   "execution_count": 41,
   "metadata": {},
   "outputs": [
    {
     "data": {
      "text/plain": [
       "26"
      ]
     },
     "execution_count": 41,
     "metadata": {},
     "output_type": "execute_result"
    }
   ],
   "source": [
    "## train on best param chosen by Lasso Stumps from above\n",
    "x_train = x.copy().drop(['race', 'person_id', 'screening_date'], axis=1)\n",
    "lasso = LogisticRegression(class_weight='balanced', solver='liblinear', penalty='l1', C=0.003, random_state=816).fit(x_train,y)\n",
    "selected_features = cols[lasso.coef_[0] != 0].tolist()\n",
    "len(selected_features)"
   ]
  },
  {
   "cell_type": "code",
   "execution_count": 42,
   "metadata": {},
   "outputs": [],
   "source": [
    "### Subset features\n",
    "if 'sex' in selected_features:\n",
    "    selected_features = ['recid_violence_two_year', 'person_id', 'screening_date', 'race'] + selected_features\n",
    "    indicator = 1\n",
    "else:\n",
    "    selected_features = ['recid_violence_two_year', 'person_id', 'screening_date', 'race', 'sex'] + selected_features\n",
    "    indicator = 0\n",
    "\n",
    "sub_data = data[selected_features]\n",
    "sub_X, sub_Y = sub_data.iloc[:,1:], sub_data.iloc[:,0].values\n",
    "sub_X.insert(0, '(Intercept)', 1)"
   ]
  },
  {
   "cell_type": "code",
   "execution_count": 43,
   "metadata": {
    "scrolled": true
   },
   "outputs": [
    {
     "name": "stdout",
     "output_type": "stream",
     "text": [
      "setting c0 = 0.0 to ensure that intercept is not penalized\n",
      "09/11/19 @ 12:47 AM | 1141 rows in lookup table\n",
      "09/11/19 @ 12:47 AM | ------------------------------------------------------------\n",
      "09/11/19 @ 12:47 AM | runnning initialization procedure\n",
      "09/11/19 @ 12:47 AM | ------------------------------------------------------------\n",
      "09/11/19 @ 12:47 AM | CPA produced 2 cuts\n",
      "09/11/19 @ 12:47 AM | running naive rounding on 63 solutions\n",
      "09/11/19 @ 12:47 AM | best objective value: 0.2013\n",
      "09/11/19 @ 12:47 AM | rounding produced 5 integer solutions\n",
      "09/11/19 @ 12:47 AM | best objective value is 0.2102\n",
      "09/11/19 @ 12:47 AM | running sequential rounding on 63 solutions\n",
      "09/11/19 @ 12:47 AM | best objective value: 0.2013\n",
      "09/11/19 @ 12:47 AM | sequential rounding produced 6 integer solutions\n",
      "09/11/19 @ 12:47 AM | best objective value: 0.2057\n",
      "09/11/19 @ 12:47 AM | polishing 11 solutions\n",
      "09/11/19 @ 12:47 AM | best objective value: 0.2057\n",
      "09/11/19 @ 12:47 AM | polishing produced 5 integer solutions\n",
      "09/11/19 @ 12:47 AM | initialization produced 13 feasible solutions\n",
      "09/11/19 @ 12:47 AM | best objective value: 0.2053\n",
      "09/11/19 @ 12:47 AM | ------------------------------------------------------------\n",
      "09/11/19 @ 12:47 AM | completed initialization procedure\n",
      "09/11/19 @ 12:47 AM | ------------------------------------------------------------\n",
      "09/11/19 @ 12:47 AM | 1141 rows in lookup table\n",
      "CPXPARAM_Read_DataCheck                          1\n",
      "CPXPARAM_Threads                                 1\n",
      "CPXPARAM_Parallel                                1\n",
      "CPXPARAM_RandomSeed                              0\n",
      "CPXPARAM_TimeLimit                               200\n",
      "CPXPARAM_MIP_Tolerances_LowerCutoff              0.20022990410320562\n",
      "CPXPARAM_MIP_Tolerances_UpperCutoff              0.20525840147090973\n"
     ]
    },
    {
     "name": "stderr",
     "output_type": "stream",
     "text": [
      "Warning: Control callbacks may disable some MIP features.\n"
     ]
    },
    {
     "name": "stdout",
     "output_type": "stream",
     "text": [
      "Lazy constraint(s) or lazy constraint callback is present.\n",
      "    Disabling dual reductions (CPX_PARAM_REDUCE) in presolve.\n",
      "    Disabling non-linear reductions (CPX_PARAM_PRELINEAR) in presolve.\n",
      "         Disabling repeat represolve because of lazy constraint/incumbent callback.\n",
      "09/11/19 @ 12:47 AM | adding 249 initial cuts\n",
      "1 of 1 MIP starts provided solutions.\n",
      "MIP start 'mip_start_0' defined initial solution with objective 0.2053.\n",
      "Tried aggregator 1 time.\n",
      "Reduced MIP has 28 rows, 56 columns, and 107 nonzeros.\n",
      "Reduced MIP has 26 binaries, 28 generals, 0 SOSs, and 0 indicators.\n",
      "Presolve time = 0.02 sec. (0.06 ticks)\n",
      "Probing time = 0.00 sec. (0.02 ticks)\n",
      "MIP emphasis: balance optimality and feasibility.\n",
      "MIP search method: traditional branch-and-cut.\n",
      "Parallel mode: none, using 1 thread.\n",
      "Root relaxation solution time = 0.00 sec. (0.04 ticks)\n",
      "\n",
      "        Nodes                                         Cuts/\n",
      "   Node  Left     Objective  IInf  Best Integer    Best Bound    ItCnt     Gap         Variable B NodeID Parent  Depth\n",
      "\n",
      "*     0+    0                            0.2053        0.2002             2.45%\n",
      "      0     0        0.2002     1        0.2053        0.2002        1    2.45%\n",
      "      0     2        0.2002     1        0.2053        0.2002        1    2.45%                        0             0\n",
      "Elapsed time = 0.09 sec. (1.13 ticks, tree = 0.01 MB, solutions = 1)\n",
      "   2250  1029        0.2003    10        0.2053        0.2002    10156    2.45%           rho_6 D   2250   2249     17\n",
      "   3500  1562        0.2040     6        0.2053        0.2002    16060    2.45%           rho_0 D   3500   3498     57\n",
      "   4738  2146        cutoff              0.2053        0.2002    20960    2.45%          rho_25 U   4738   4736     32\n",
      "   5689  2591        0.2047     5        0.2053        0.2002    26248    2.45%          rho_15 U   5689   5688     49\n",
      "   6745  3136        cutoff              0.2053        0.2002    30542    2.45%          rho_19 D   6745   6744     37\n",
      "   7812  3620        0.2034    14        0.2053        0.2002    35059    2.45%           rho_0 D   7812   7810     25\n",
      "   8623  4052        0.2002     4        0.2053        0.2002    40338    2.45%           rho_0 D   8623   8621     60\n",
      "   9430  4575        0.2002     6        0.2053        0.2002    45987    2.45%          rho_12 D   9430   9429     59\n",
      "  10294  5013        cutoff              0.2053        0.2002    52089    2.45%          rho_15 U  10294  10292     95\n",
      "  14121  6814        0.2038     4        0.2053        0.2002    71525    2.45%           rho_9 U  14121  14119     64\n",
      "Elapsed time = 6.19 sec. (3102.27 ticks, tree = 1.90 MB, solutions = 1)\n",
      "  17918  8425        0.2017     9        0.2053        0.2002    89701    2.45%          rho_25 D  17918  17916     30\n",
      "  20501  9615        cutoff              0.2053        0.2002   113347    2.45%           rho_1 U  20501  20499     51\n",
      "  22850 10651        0.2011     9        0.2053        0.2002   136498    2.45%          rho_25 D  22850  22848     46\n",
      "  26531 12642        0.2046    11        0.2053        0.2002   153499    2.45%          rho_17 D  26531  26529     70\n",
      "  29295 14048        cutoff              0.2053        0.2002   167789    2.45%          rho_17 U  29295  29294     54\n",
      "  32000 15492        0.2002    10        0.2053        0.2002   182046    2.45%          rho_17 D  32000  31999     63\n",
      "  34704 16889        0.2032     9        0.2053        0.2002   196386    2.45%           rho_0 D  34704  34702     51\n",
      "  37626 18044        0.2002     8        0.2053        0.2002   215058    2.45%          rho_12 U  37626  37625     22\n",
      "  40400 19509        0.2010     5        0.2053        0.2002   230402    2.45%           rho_5 U  40400  40387     23\n",
      "  43027 19888        0.2052    10        0.2053        0.2002   247771    2.45%          rho_12 U  43027  43025     51\n",
      "Elapsed time = 16.48 sec. (12642.55 ticks, tree = 6.12 MB, solutions = 1)\n",
      "  45775 21290        0.2002     7        0.2053        0.2002   267758    2.45%          rho_12 U  45775  45773     80\n",
      "  48476 22779        0.2004     9        0.2053        0.2002   285279    2.45%          rho_17 D  48476  48474     50\n",
      "  50887 23621        0.2024     6        0.2053        0.2002   301279    2.45%           rho_8 D  50887  50886     33\n",
      "  53732 24437        cutoff              0.2053        0.2002   314825    2.45%          rho_22 U  53732  53730     47\n",
      "  56552 25434        0.2045     5        0.2053        0.2002   329348    2.45%          rho_16 N  56552  56551     34\n",
      "  59130 26801        0.2002    12        0.2053        0.2002   347549    2.45%           rho_6 D  59130  59129     55\n",
      "  61542 27851        0.2045     8        0.2053        0.2002   364624    2.45%           rho_0 D  61542  61540     61\n",
      "  63898 29044        0.2002    12        0.2053        0.2002   382403    2.45%           rho_0 D  63898  63896     81\n",
      "  66115 30315        0.2046    13        0.2053        0.2002   397972    2.45%           rho_5 D  66115  66114     53\n",
      "  68673 31523        cutoff              0.2053        0.2002   413373    2.45%           rho_0 U  68673  68672     48\n",
      "Elapsed time = 25.84 sec. (22180.75 ticks, tree = 9.15 MB, solutions = 1)\n",
      "  71132 32095        0.2041     4        0.2053        0.2002   428936    2.45%          rho_17 N  71132  71131     41\n",
      "  73446 32933        0.2038     8        0.2053        0.2002   443816    2.45%          rho_17 U  73446  73445     62\n",
      "  75652 33780        0.2022    13        0.2053        0.2002   458574    2.45%           rho_5 N  75652  74689     54\n",
      "  77630 34341        0.2041    12        0.2053        0.2002   473114    2.45%           rho_5 U  77630  30043     62\n",
      "  79900 35033        0.2003     6        0.2053        0.2002   486218    2.45%          rho_16 D  79900   7414     27\n",
      "  81911 35599        cutoff              0.2053        0.2002   500876    2.45%          rho_19 U  81911  81910     56\n",
      "  84060 35978        0.2042     8        0.2053        0.2002   514647    2.45%           rho_9 D  84060  84058     80\n",
      "  86108 36357        cutoff              0.2053        0.2002   529131    2.45%           rho_5 D  86108  86106     44\n",
      "  88215 37137        0.2010    11        0.2053        0.2002   544072    2.45%          rho_12 N  88215  88214     79\n",
      "  90145 38006        0.2010    11        0.2053        0.2002   560221    2.45%          rho_12 N  90145  90144     55\n",
      "Elapsed time = 33.64 sec. (31722.56 ticks, tree = 12.32 MB, solutions = 1)\n",
      "  92427 39169        0.2012    11        0.2053        0.2002   575102    2.45%           rho_9 D  92427  92426     83\n",
      "  94656 40105        0.2002    10        0.2053        0.2002   589218    2.45%           rho_0 U  94656  93364     23\n",
      "  97029 41138        0.2007    13        0.2053        0.2002   601804    2.45%           rho_4 D  97029  97028     45\n",
      "  99291 42186        0.2039     9        0.2053        0.2002   614658    2.45%          rho_15 D  99291  99289     59\n",
      " 101514 43409        0.2017    11        0.2053        0.2002   629140    2.45%           rho_0 D 101514 101512     83\n",
      " 103675 44335        cutoff              0.2053        0.2002   643103    2.45%          rho_24 U 103675 103673     18\n",
      " 105482 45692        0.2040    18        0.2053        0.2002   659501    2.45%           rho_0 D 105482 105480     82\n",
      " 107288 46417        0.2013    15        0.2053        0.2002   670978    2.45%           rho_6 D 107288 107287     81\n",
      " 109494 47309        0.2035    13        0.2053        0.2002   684667    2.45%          rho_21 D 109494 109493     95\n",
      " 111424 47799        0.2010     5        0.2053        0.2002   699170    2.45%           rho_5 U 111424  65434     58\n",
      "Elapsed time = 41.58 sec. (41260.68 ticks, tree = 14.98 MB, solutions = 1)\n",
      " 113700 48781        0.2025     9        0.2053        0.2002   712809    2.45%           rho_0 U 113700 113699     55\n",
      " 115795 49743        0.2045     8        0.2053        0.2002   726055    2.45%           rho_0 D 115795 115793     48\n",
      " 117729 50333        0.2022    10        0.2053        0.2002   738600    2.45%          rho_25 N 117729 117728     45\n",
      " 119800 51104        0.2019    10        0.2053        0.2002   750824    2.45%           rho_6 D 119800 119799     78\n"
     ]
    },
    {
     "name": "stdout",
     "output_type": "stream",
     "text": [
      " 121835 51769        0.2031    13        0.2053        0.2002   762951    2.45%           rho_9 D 121835 121833     31\n",
      " 124088 52896        0.2002     2        0.2053        0.2002   775746    2.45%          rho_12 U 124088 123904     58\n",
      " 126254 54258        0.2009     9        0.2053        0.2002   787982    2.45%          rho_25 D 126254 126252     35\n",
      " 128499 55164        cutoff              0.2053        0.2002   799400    2.45%          rho_15 U 128499 128498     78\n",
      " 130850 56036        0.2002     9        0.2053        0.2002   811058    2.45%           rho_7 D 130850 130791     82\n",
      " 133135 56967        cutoff              0.2053        0.2002   822508    2.45%          rho_25 U 133135 133134     49\n",
      "Elapsed time = 49.76 sec. (50800.78 ticks, tree = 17.50 MB, solutions = 1)\n",
      " 135537 58243        0.2039     8        0.2053        0.2002   833821    2.45%           rho_0 U 135537 135536     61\n",
      " 137995 59427        0.2002     5        0.2053        0.2002   845353    2.45%          rho_17 D 137995 137994     37\n",
      " 140000 59970        0.2021     7        0.2053        0.2002   858544    2.45%           rho_9 D 140000 139999     91\n",
      " 142151 60741        0.2021     7        0.2053        0.2002   870845    2.45%           rho_9 D 142151 142150     36\n",
      " 144397 61525        0.2027     7        0.2053        0.2002   882602    2.45%          rho_13 D 144397 144395     40\n",
      " 146563 62628        cutoff              0.2053        0.2002   895121    2.45%          rho_15 U 146563 146562     52\n",
      " 148859 63387        0.2025    10        0.2053        0.2002   906653    2.45%          rho_24 D 148859 148857     47\n",
      " 150880 63763        0.2042    12        0.2053        0.2002   918334    2.45%          rho_25 D 150880 150878     98\n",
      " 152868 64172        0.2037     7        0.2053        0.2002   930222    2.45%          rho_21 D 152868 152866     64\n",
      " 154844 64604        0.2037     7        0.2053        0.2002   942234    2.45%          rho_24 D 154844 154842     66\n",
      "Elapsed time = 57.22 sec. (60343.74 ticks, tree = 19.59 MB, solutions = 1)\n",
      " 156838 65022        0.2043    10        0.2053        0.2002   954292    2.45%           rho_9 D 156838 156836     61\n",
      " 158834 65434        0.2033    11        0.2053        0.2002   966130    2.45%           rho_8 U 158834 158833     70\n",
      " 160854 65826        0.2034    16        0.2053        0.2002   977685    2.45%           rho_8 D 160854 160852     72\n",
      " 162575 66777        0.2005    18        0.2053        0.2002   993190    2.45%          rho_12 N 162575 162574     70\n",
      " 164439 68045        0.2046     7        0.2053        0.2002  1008973    2.45%          rho_17 U 164439 164437     82\n",
      " 166400 69242        0.2050     5        0.2053        0.2002  1024032    2.45%          rho_16 U 166400 166398     62\n",
      " 168385 70351        cutoff              0.2053        0.2002  1035591    2.45%          rho_19 D 168385 168384     69\n",
      " 170154 71361        0.2024    12        0.2053        0.2002  1048256    2.45%           rho_0 U 170154 170021     80\n",
      " 171910 72608        0.2024    17        0.2053        0.2002  1061579    2.45%           rho_9 D 171910 171909     70\n",
      " 173246 73533        0.2005    17        0.2053        0.2002  1077792    2.45%          rho_12 N 173246 173245     62\n",
      "Elapsed time = 64.59 sec. (69886.67 ticks, tree = 24.85 MB, solutions = 1)\n",
      " 174957 74227        0.2031     7        0.2053        0.2002  1090150    2.45%           rho_9 D 174957 174955     26\n",
      " 176734 74988        0.2003    16        0.2053        0.2002  1102582    2.45%           rho_6 D 176734 176733     62\n",
      " 178594 75943        0.2002     3        0.2053        0.2002  1115727    2.45%           rho_0 D 178594 178592     58\n",
      " 180252 76788        0.2011    10        0.2053        0.2002  1127207    2.45%           rho_5 D 180252 180250     60\n",
      " 182310 77240        0.2007    12        0.2053        0.2002  1140502    2.45%          rho_25 D 182310 182309     51\n",
      " 184197 77894        cutoff              0.2053        0.2002  1154644    2.45%           rho_9 U 184197 184196     62\n",
      " 186021 78616        0.2004    17        0.2053        0.2002  1169730    2.45%           rho_8 N 186021 130754     89\n",
      " 187751 79292        0.2007    11        0.2053        0.2002  1184125    2.45%           rho_8 N 187751 128703     75\n",
      " 189489 80017        cutoff              0.2053        0.2002  1198100    2.45%           rho_9 U 189489 189486     78\n",
      " 191437 80634        0.2014     9        0.2053        0.2002  1209964    2.45%           rho_5 D 191437 191435     42\n",
      "Elapsed time = 72.05 sec. (79425.87 ticks, tree = 26.83 MB, solutions = 1)\n",
      " 193473 81272        cutoff              0.2053        0.2002  1221172    2.45%          rho_25 U 193473 193471     49\n",
      " 195510 81926        0.2031     9        0.2053        0.2002  1232566    2.45%          rho_15 D 195510 195508     73\n",
      " 197516 82557        0.2004    10        0.2053        0.2002  1244249    2.45%           rho_8 U 197516 122764     57\n",
      " 199470 83124        0.2041     5        0.2053        0.2002  1256128    2.45%          rho_21 D 199470 199467     85\n",
      " 201229 84018        cutoff              0.2053        0.2002  1269631    2.45%           rho_0 U 201229 201228     62\n",
      " 203201 84908        0.2013     7        0.2053        0.2002  1282198    2.45%          rho_23 U 203201 203057     62\n",
      " 205119 85715        cutoff              0.2053        0.2002  1294537    2.45%           rho_3 U 205119 205117     69\n",
      " 207020 86552        0.2046    13        0.2053        0.2002  1306579    2.45%          rho_24 D 207020 207019     66\n",
      " 208908 87385        cutoff              0.2053        0.2002  1318542    2.45%           rho_0 U 208908 208907     39\n",
      " 215777 89803        0.2010    13        0.2053        0.2002  1369105    2.45%          rho_12 D 215777 215776     24\n",
      "Elapsed time = 81.30 sec. (91827.51 ticks, tree = 29.46 MB, solutions = 1)\n",
      " 222400 92555        0.2002     8        0.2053        0.2002  1424582    2.45%           rho_0 D 222400 222398     57\n",
      " 230105 96650        0.2005    10        0.2053        0.2002  1473293    2.45%           rho_0 U 230105 230104     74\n",
      " 237018 99831        0.2004    12        0.2053        0.2002  1522920    2.45%          rho_12 D 237018 236947     61\n",
      " 243350 103144        0.2002     6        0.2053        0.2002  1579104    2.45%          rho_12 U 243350 243348     43\n",
      " 250538 106378        0.2002    14        0.2053        0.2002  1628943    2.45%           rho_8 D 250538 250536     77\n",
      " 257270 108769        0.2048     8        0.2053        0.2002  1680696    2.45%           rho_0 U 257270 257268     63\n",
      " 263662 110643        0.2002     7        0.2053        0.2002  1732024    2.45%           rho_7 U 263662 263660     28\n",
      " 270487 113393        0.2002     6        0.2053        0.2002  1788072    2.45%           rho_0 D 270487 270485     46\n",
      " 277169 115876        0.2018    10        0.2053        0.2002  1844311    2.45%          rho_15 D 277169 277167     90\n",
      " 284060 119399        0.2042    11        0.2053        0.2002  1896086    2.45%          rho_24 D 284060 284059     70\n",
      "Elapsed time = 110.64 sec. (129983.50 ticks, tree = 37.78 MB, solutions = 1)\n",
      " 289754 122060        0.2034    16        0.2053        0.2002  1949071    2.45%           rho_5 D 289754 289752     76\n",
      " 296790 124007        0.2013    16        0.2053        0.2002  1997663    2.45%           rho_6 N 296790 296779     81\n",
      " 303560 125895        0.2019    17        0.2053        0.2002  2043947    2.45%           rho_2 N 303560 303559     95\n",
      " 310220 127722        0.2002     8        0.2053        0.2002  2090256    2.45%          rho_17 U 310220 284203     40\n",
      " 317038 130513        0.2022    14        0.2053        0.2002  2141000    2.45%           rho_2 D 317038 317037     75\n",
      " 323770 133107        cutoff              0.2053        0.2002  2191037    2.45%           rho_0 U 323770 323769     67\n",
      " 330134 136079        0.2015    12        0.2053        0.2002  2246620    2.45%           rho_0 U 330134 329394     42\n",
      " 337360 138798        cutoff              0.2053        0.2002  2294533    2.45%           rho_4 U 337360 337359     75\n"
     ]
    },
    {
     "name": "stdout",
     "output_type": "stream",
     "text": [
      " 344271 141674        0.2044     9        0.2053        0.2002  2347096    2.45%          rho_17 U 344271 344269     50\n",
      " 351292 144390        0.2031    13        0.2053        0.2002  2396539    2.45%          rho_25 D 351292 351291     53\n",
      "Elapsed time = 140.88 sec. (168133.28 ticks, tree = 47.79 MB, solutions = 1)\n",
      " 358453 147570        0.2002     9        0.2053        0.2002  2446344    2.45%           rho_0 D 358453 358451     44\n",
      " 366348 151173        0.2029     7        0.2053        0.2002  2495693    2.45%          rho_25 D 366348 366346     48\n",
      " 373384 154386        cutoff              0.2053        0.2002  2545101    2.45%          rho_23 U 373384 373381     64\n",
      " 379600 156796        0.2012    16        0.2053        0.2002  2597461    2.45%           rho_6 N 379600 379599     30\n",
      " 385913 159865        0.2042    10        0.2053        0.2002  2650315    2.45%           rho_9 D 385913 385912     76\n",
      " 392190 162913        0.2023     7        0.2053        0.2002  2703239    2.45%          rho_25 U 392190 392189     79\n",
      " 398419 165852        0.2002     9        0.2053        0.2002  2756593    2.45%          rho_11 U 398419 367721     80\n",
      " 404450 169032        0.2015    15        0.2053        0.2002  2812521    2.45%          rho_14 N 404450 404448     57\n",
      " 409646 172060        0.2002     7        0.2053        0.2002  2868585    2.45%           rho_0 D 409646 409644     59\n",
      " 415198 174982        0.2002    12        0.2053        0.2002  2919448    2.45%           rho_5 D 415198 415197     73\n",
      "Elapsed time = 169.39 sec. (206289.64 ticks, tree = 58.30 MB, solutions = 1)\n",
      " 420826 177854        0.2017    11        0.2053        0.2002  2969165    2.45%           rho_2 D 420826 420825     55\n",
      " 429895 181108        0.2002     8        0.2053        0.2002  3016466    2.45%          rho_11 D 429895 362803     81\n",
      " 438649 184239        cutoff              0.2053        0.2002  3062084    2.45%           rho_9 U 438649 438648     47\n",
      " 446533 187554        0.2019    15        0.2053        0.2002  3111459    2.45%          rho_25 D 446533 446532     60\n",
      " 453729 190856        0.2048     6        0.2053        0.2002  3163143    2.45%          rho_17 D 453729 453727     81\n",
      " 460996 194179        0.2002    10        0.2053        0.2002  3214942    2.45%          rho_17 D 460996 460995     77\n",
      " 467940 197346        0.2052     5        0.2053        0.2002  3264986    2.45%          rho_22 U 467940 467939     64\n",
      " 474841 200462        0.2007    15        0.2053        0.2002  3315590    2.45%          rho_17 D 474841 474840     31\n",
      " 481421 203350        0.2002    14        0.2053        0.2002  3366474    2.45%           rho_0 D 481421 481419     70\n",
      " 488362 206948        0.2047     3        0.2053        0.2002  3421006    2.45%          rho_13 D 488362 488360     66\n",
      "Elapsed time = 198.19 sec. (244438.53 ticks, tree = 69.50 MB, solutions = 1)\n",
      "\n",
      "User cuts applied:  697\n",
      "\n",
      "Root node processing (before b&c):\n",
      "  Real time             =    0.08 sec. (1.19 ticks)\n",
      "Sequential b&c:\n",
      "  Real time             =  199.94 sec. (246812.65 ticks)\n",
      "                          ------------\n",
      "Total (root+branch&cut) =  200.01 sec. (246813.84 ticks)\n",
      "+-----------------------------------------------+-------------------+-----------+\n",
      "| Pr(Y = +1) = 1.0/(1.0 + exp(-(-45 + score))   |                   |           |\n",
      "| ============================================= | ================= | ========= |\n",
      "| p_arrest>=1                                   |         20 points |   + ..... |\n",
      "| p_charges>=1                                  |         20 points |   + ..... |\n",
      "| p_violence>=1                                 |          2 points |   + ..... |\n",
      "| sex                                           |          1 points |   + ..... |\n",
      "| p_arrest>=2                                   |          1 points |   + ..... |\n",
      "| p_arrest>=5                                   |          1 points |   + ..... |\n",
      "| ============================================= | ================= | ========= |\n",
      "| ADD POINTS FROM ROWS 1 to 6                   |             SCORE |   = ..... |\n",
      "+-----------------------------------------------+-------------------+-----------+\n",
      "model_id, score_thresholds 0 {'rank_abs': [0]}\n",
      "get_disparity_predefined_group()\n",
      "setting c0 = 0.0 to ensure that intercept is not penalized\n",
      "09/11/19 @ 12:51 AM | 1141 rows in lookup table\n",
      "09/11/19 @ 12:51 AM | ------------------------------------------------------------\n",
      "09/11/19 @ 12:51 AM | runnning initialization procedure\n",
      "09/11/19 @ 12:51 AM | ------------------------------------------------------------\n",
      "09/11/19 @ 12:51 AM | CPA produced 2 cuts\n",
      "09/11/19 @ 12:51 AM | running naive rounding on 56 solutions\n",
      "09/11/19 @ 12:51 AM | best objective value: 0.2055\n",
      "09/11/19 @ 12:51 AM | rounding produced 5 integer solutions\n",
      "09/11/19 @ 12:51 AM | best objective value is 0.2091\n",
      "09/11/19 @ 12:51 AM | running sequential rounding on 56 solutions\n",
      "09/11/19 @ 12:51 AM | best objective value: 0.2055\n",
      "09/11/19 @ 12:51 AM | sequential rounding produced 6 integer solutions\n",
      "09/11/19 @ 12:51 AM | best objective value: 0.2057\n",
      "09/11/19 @ 12:51 AM | polishing 11 solutions\n",
      "09/11/19 @ 12:51 AM | best objective value: 0.2057\n",
      "09/11/19 @ 12:51 AM | polishing produced 5 integer solutions\n",
      "09/11/19 @ 12:51 AM | initialization produced 11 feasible solutions\n",
      "09/11/19 @ 12:51 AM | best objective value: 0.2057\n",
      "09/11/19 @ 12:51 AM | ------------------------------------------------------------\n",
      "09/11/19 @ 12:51 AM | completed initialization procedure\n",
      "09/11/19 @ 12:51 AM | ------------------------------------------------------------\n",
      "09/11/19 @ 12:51 AM | 1141 rows in lookup table\n",
      "CPXPARAM_Read_DataCheck                          1\n",
      "CPXPARAM_Threads                                 1\n",
      "CPXPARAM_Parallel                                1\n",
      "CPXPARAM_RandomSeed                              0\n",
      "CPXPARAM_TimeLimit                               200\n",
      "CPXPARAM_MIP_Tolerances_LowerCutoff              0.20031304763598454\n",
      "CPXPARAM_MIP_Tolerances_UpperCutoff              0.20574136454417552\n"
     ]
    },
    {
     "name": "stderr",
     "output_type": "stream",
     "text": [
      "Warning: Control callbacks may disable some MIP features.\n"
     ]
    },
    {
     "name": "stdout",
     "output_type": "stream",
     "text": [
      "Lazy constraint(s) or lazy constraint callback is present.\n",
      "    Disabling dual reductions (CPX_PARAM_REDUCE) in presolve.\n",
      "    Disabling non-linear reductions (CPX_PARAM_PRELINEAR) in presolve.\n",
      "         Disabling repeat represolve because of lazy constraint/incumbent callback.\n",
      "09/11/19 @ 12:51 AM | adding 249 initial cuts\n",
      "1 of 1 MIP starts provided solutions.\n",
      "MIP start 'mip_start_0' defined initial solution with objective 0.2057.\n",
      "Tried aggregator 1 time.\n",
      "Reduced MIP has 28 rows, 56 columns, and 107 nonzeros.\n",
      "Reduced MIP has 26 binaries, 28 generals, 0 SOSs, and 0 indicators.\n",
      "Presolve time = 0.00 sec. (0.06 ticks)\n",
      "Probing time = 0.00 sec. (0.02 ticks)\n",
      "MIP emphasis: balance optimality and feasibility.\n",
      "MIP search method: traditional branch-and-cut.\n",
      "Parallel mode: none, using 1 thread.\n",
      "Root relaxation solution time = 0.00 sec. (0.04 ticks)\n",
      "\n",
      "        Nodes                                         Cuts/\n",
      "   Node  Left     Objective  IInf  Best Integer    Best Bound    ItCnt     Gap         Variable B NodeID Parent  Depth\n",
      "\n",
      "*     0+    0                            0.2057        0.2003             2.64%\n",
      "      0     0        0.2003     1        0.2057        0.2003        1    2.64%\n",
      "      0     2        0.2003     1        0.2057        0.2003        1    2.64%                        0             0\n",
      "Elapsed time = 0.09 sec. (1.13 ticks, tree = 0.01 MB, solutions = 1)\n",
      "   2325  1260        0.2003     9        0.2057        0.2003     9001    2.64%           rho_0 D   2325   2323     13\n",
      "   3794  2024        0.2044     7        0.2057        0.2003    15016    2.64%          rho_11 D   3794   3793     37\n",
      "   5242  2810        0.2020    11        0.2057        0.2003    20680    2.64%          rho_16 U   5242   5241     71\n",
      "   6650  3585        cutoff              0.2057        0.2003    26473    2.64%          rho_13 U   6650   6648     65\n",
      "   7780  4180        0.2036     8        0.2057        0.2003    33336    2.64%           rho_4 U   7780   7779     69\n",
      "   8773  4637        0.2020     9        0.2057        0.2003    40631    2.64%           rho_3 D   8773   8772     90\n",
      "   9810  5126        0.2047     6        0.2057        0.2003    48306    2.64%           rho_3 U   9810   9808     72\n",
      "  10862  5630        0.2006    14        0.2057        0.2003    55582    2.64%           rho_0 D  10862  10860     58\n",
      "  11963  6182        0.2006    14        0.2057        0.2003    62947    2.64%           rho_0 D  11963  11961     90\n",
      "  16246  8403        0.2004    17        0.2057        0.2003    86545    2.64%          rho_23 U  16246  16243      9\n",
      "Elapsed time = 4.67 sec. (3102.60 ticks, tree = 2.53 MB, solutions = 1)\n",
      "  19617  9956        cutoff              0.2057        0.2003   105105    2.64%           rho_0 U  19617  19616     58\n",
      "  22697 11552        0.2049     8        0.2057        0.2003   125916    2.64%          rho_16 D  22697  22696     16\n",
      "  25658 13063        0.2003     1        0.2057        0.2003   140636    2.64%           rho_5 U  25658  25655     17\n",
      "  28440 14402        0.2050    13        0.2057        0.2003   155141    2.64%          rho_24 D  28440  28438     99\n",
      "  31593 15991        0.2003    11        0.2057        0.2003   172903    2.64%          rho_17 D  31593  31592     88\n",
      "  34148 17109        0.2008    12        0.2057        0.2003   187877    2.64%          rho_17 U  34148  27816     68\n",
      "* 35995 17858      integral     0        0.2057        0.2003   199687    2.64%\n",
      "  36722 18110        0.2006    14        0.2057        0.2003   204051    2.64%          rho_12 D  36722  36721     58\n",
      "  39369 19228        0.2015    11        0.2057        0.2003   220489    2.64%           rho_6 D  39369  39368     52\n",
      "  41989 20219        0.2020    11        0.2057        0.2003   234630    2.64%          rho_17 D  41989  41988     65\n",
      "  44402 21328        0.2051    13        0.2057        0.2003   250293    2.64%          rho_10 D  44402  44400     18\n",
      "Elapsed time = 14.38 sec. (12641.75 ticks, tree = 6.48 MB, solutions = 2)\n",
      "  46635 22387        0.2035    10        0.2057        0.2003   264671    2.64%          rho_12 U  46635  46633     32\n",
      "  48752 23607        0.2054     3        0.2057        0.2003   278867    2.64%          rho_17 D  48752  48750     48\n",
      "  50640 24696        0.2033     8        0.2057        0.2003   291955    2.64%          rho_18 D  50640  50637     52\n",
      "  52630 25652        0.2003     6        0.2057        0.2003   303165    2.64%           rho_0 D  52630  52628     66\n",
      "  54582 26630        0.2036    16        0.2057        0.2003   315204    2.64%           rho_6 D  54582  54581     86\n",
      "  56833 27528        cutoff              0.2057        0.2003   329720    2.64%          rho_18 U  56833  56832     44\n",
      "  58973 28361        cutoff              0.2057        0.2003   344545    2.64%          rho_13 D  58973  58972    101\n",
      "  61009 29193        0.2003     7        0.2057        0.2003   358245    2.64%           rho_0 D  61009  61007     47\n",
      "  63014 29958        0.2037     1        0.2057        0.2003   372159    2.64%          rho_10 D  63014  63013     39\n",
      "  65622 31054        0.2023     5        0.2057        0.2003   387006    2.64%          rho_25 D  65622  65620     50\n",
      "Elapsed time = 23.97 sec. (22183.42 ticks, tree = 9.11 MB, solutions = 2)\n",
      "  67860 32402        0.2003     4        0.2057        0.2003   399962    2.64%          rho_12 U  67860  67858     63\n",
      "  69743 33633        0.2040     5        0.2057        0.2003   411322    2.64%          rho_11 D  69743  69742     35\n",
      "  71274 34535        0.2003     2        0.2057        0.2003   424384    2.64%          rho_12 U  71274  71272     34\n",
      "  72740 35437        0.2024     8        0.2057        0.2003   437773    2.64%           rho_0 U  72740  72739     47\n",
      "  74485 36566        0.2003     5        0.2057        0.2003   449711    2.64%           rho_0 D  74485  74473     45\n",
      "  76265 37486        cutoff              0.2057        0.2003   460890    2.64%          rho_22 U  76265  76263     38\n",
      "  77949 37996        cutoff              0.2057        0.2003   473323    2.64%           rho_2 D  77949  77948     26\n",
      "  80173 38859        cutoff              0.2057        0.2003   488244    2.64%          rho_22 U  80173  80171     76\n",
      "  82362 39644        0.2010     8        0.2057        0.2003   502050    2.64%           rho_4 U  82362  82351     78\n",
      "  84383 40488        cutoff              0.2057        0.2003   515710    2.64%           rho_3 U  84383  84381     60\n",
      "Elapsed time = 32.00 sec. (31723.35 ticks, tree = 13.05 MB, solutions = 2)\n",
      "  86330 41312        0.2033    12        0.2057        0.2003   529411    2.64%          rho_16 U  86330  21168     61\n",
      "  88216 41929        0.2029     5        0.2057        0.2003   542909    2.64%           rho_0 U  88216  88215     66\n",
      "  90185 42702        cutoff              0.2057        0.2003   554940    2.64%           rho_0 U  90185  90184     24\n",
      "  92004 43302        0.2036    17        0.2057        0.2003   568116    2.64%           rho_0 D  92004  92002     77\n",
      "  93952 43955        cutoff              0.2057        0.2003   580999    2.64%          rho_16 U  93952  93950     48\n",
      "  95879 44647        0.2017     8        0.2057        0.2003   593843    2.64%           rho_3 D  95879  95878     34\n",
      "  97750 45250        0.2035    10        0.2057        0.2003   606273    2.64%          rho_17 U  97750  97725     75\n",
      "  99465 45754        0.2012    13        0.2057        0.2003   619104    2.64%           rho_8 U  99465  69271     34\n",
      " 101290 46382        0.2010     7        0.2057        0.2003   630984    2.64%           rho_4 U 101290 101288     70\n",
      " 103060 47053        cutoff              0.2057        0.2003   642218    2.64%           rho_9 U 103060 103059     86\n",
      "Elapsed time = 40.47 sec. (41264.39 ticks, tree = 14.95 MB, solutions = 2)\n",
      " 104893 47700        0.2039     5        0.2057        0.2003   652338    2.64%          rho_24 D 104893 104891     60\n",
      " 106653 48348        cutoff              0.2057        0.2003   663164    2.64%           rho_3 U 106653 106651     77\n",
      " 108345 48892        cutoff              0.2057        0.2003   673826    2.64%           rho_0 D 108345 108343     92\n"
     ]
    },
    {
     "name": "stdout",
     "output_type": "stream",
     "text": [
      " 110086 49533        cutoff              0.2057        0.2003   684340    2.64%           rho_6 U 110086 110083     65\n",
      " 111735 50083        0.2042     8        0.2057        0.2003   695898    2.64%           rho_4 U 111735 111734     78\n",
      " 113291 50541        0.2013     7        0.2057        0.2003   707900    2.64%          rho_24 D 113291 113290     37\n",
      " 114983 51069        0.2041     6        0.2057        0.2003   719597    2.64%           rho_0 U 114983 114982     17\n",
      " 116688 51636        cutoff              0.2057        0.2003   731502    2.64%          rho_25 U 116688 116687     71\n",
      " 118638 52237        cutoff              0.2057        0.2003   741473    2.64%          rho_22 U 118638 118637     51\n",
      " 120320 52764        0.2003    16        0.2057        0.2003   752674    2.64%          rho_17 D 120320 120319     66\n",
      "Elapsed time = 48.56 sec. (50804.78 ticks, tree = 16.61 MB, solutions = 2)\n",
      " 121787 53133        0.2042     8        0.2057        0.2003   765103    2.64%           rho_4 U 121787 121786     90\n",
      " 123400 53822        0.2049    11        0.2057        0.2003   777536    2.64%           rho_0 D 123400 123398     43\n",
      " 125001 54621        0.2034     9        0.2057        0.2003   789179    2.64%           rho_0 U 125001 125000     51\n",
      " 126607 55599        0.2003    12        0.2057        0.2003   801363    2.64%          rho_12 D 126607 126606     23\n",
      " 128261 56428        0.2045     8        0.2057        0.2003   813266    2.64%          rho_17 D 128261 128260     38\n",
      " 129808 57221        0.2052     7        0.2057        0.2003   825314    2.64%           rho_3 D 129808 129807     61\n",
      " 131420 57893        0.2004     9        0.2057        0.2003   836693    2.64%           rho_0 D 131420 131418     19\n",
      " 133321 58827        0.2025    12        0.2057        0.2003   847566    2.64%           rho_2 U 133321 133319     64\n",
      " 135339 59799        0.2044     8        0.2057        0.2003   858144    2.64%           rho_8 D 135339 135337     52\n",
      " 137054 60909        0.2003     5        0.2057        0.2003   869709    2.64%           rho_0 D 137054 137052     59\n",
      "Elapsed time = 56.78 sec. (60345.02 ticks, tree = 18.97 MB, solutions = 2)\n",
      " 138452 61230        0.2026    12        0.2057        0.2003   881430    2.64%           rho_0 U 138452 138451     23\n",
      " 140004 62316        0.2026    12        0.2057        0.2003   893553    2.64%           rho_0 U 140004 140003     55\n",
      " 141436 63219        0.2051     6        0.2057        0.2003   904114    2.64%          rho_14 U 141436 141435     32\n",
      " 142970 64091        0.2021    10        0.2057        0.2003   914296    2.64%          rho_16 D 142970 142969     46\n",
      " 144520 64945        0.2003    13        0.2057        0.2003   923976    2.64%           rho_6 D 144520 144519     52\n",
      " 146070 65842        cutoff              0.2057        0.2003   933651    2.64%           rho_2 U 146070 146069     37\n",
      " 147464 66644        0.2003     7        0.2057        0.2003   944701    2.64%           rho_0 D 147464 147462     91\n",
      " 148750 67405        0.2003     8        0.2057        0.2003   956338    2.64%           rho_0 D 148750 148748     59\n",
      " 150250 68095        0.2041    13        0.2057        0.2003   966223    2.64%           rho_8 U 150250 150249     19\n",
      " 151717 68733        0.2003     8        0.2057        0.2003   975904    2.64%           rho_0 D 151717 151715     55\n",
      "Elapsed time = 64.13 sec. (69889.28 ticks, tree = 24.03 MB, solutions = 2)\n",
      " 153105 69405        0.2003     8        0.2057        0.2003   986536    2.64%          rho_12 U 153105 153103     82\n",
      " 154967 70128        0.2051     6        0.2057        0.2003   998400    2.64%          rho_14 U 154967 154965     43\n",
      " 156838 70637        0.2020     9        0.2057        0.2003  1008927    2.64%           rho_8 U 156838 156837     82\n",
      " 158606 71318        cutoff              0.2057        0.2003  1019930    2.64%           rho_9 U 158606 158605     96\n",
      " 160386 72006        0.2041     6        0.2057        0.2003  1031807    2.64%          rho_21 D 160386 160385     28\n",
      " 162009 72632        0.2019    15        0.2057        0.2003  1044003    2.64%          rho_17 U 162009  31553     89\n",
      " 163499 73590        0.2003     7        0.2057        0.2003  1056926    2.64%           rho_0 D 163499 163497     54\n",
      " 164935 74562        0.2026    12        0.2057        0.2003  1068630    2.64%           rho_0 U 164935 164934     87\n",
      " 166316 75255        cutoff              0.2057        0.2003  1079195    2.64%           rho_5 U 166316 166315     16\n",
      " 167848 75780        cutoff              0.2057        0.2003  1090182    2.64%          rho_15 U 167848 167847     82\n",
      "Elapsed time = 71.72 sec. (79429.53 ticks, tree = 26.11 MB, solutions = 2)\n",
      "*168000+75830                            0.2057        0.2003             2.64%\n",
      " 169320 76261        0.2003     8        0.2057        0.2003  1101465    2.64%          rho_12 U 169320 169318     23\n",
      " 170790 77041        0.2003    10        0.2057        0.2003  1114058    2.64%           rho_0 D 170790 170788     63\n",
      " 172472 77602        0.2003     7        0.2057        0.2003  1123972    2.64%           rho_0 D 172472 172470     49\n",
      " 174078 78316        0.2046    15        0.2057        0.2003  1134722    2.64%           rho_0 D 174078 174076     76\n",
      " 175600 78982        0.2047     5        0.2057        0.2003  1145540    2.64%          rho_11 D 175600 175599     48\n",
      " 177057 79610        0.2034    15        0.2057        0.2003  1157066    2.64%          rho_23 D 177057 177056     24\n",
      " 178656 80247        0.2011    13        0.2057        0.2003  1167795    2.64%          rho_17 D 178656 178655     86\n",
      " 180255 80944        0.2004     9        0.2057        0.2003  1178949    2.64%           rho_0 U 180255 180254     46\n",
      " 181846 81662        cutoff              0.2057        0.2003  1190056    2.64%          rho_21 U 181846 181845     51\n",
      " 188258 84451        0.2032     7        0.2057        0.2003  1233896    2.64%           rho_0 U 188258 188257     20\n",
      "Elapsed time = 82.03 sec. (91833.37 ticks, tree = 28.75 MB, solutions = 3)\n",
      " 193989 87616        0.2003    10        0.2057        0.2003  1275645    2.64%          rho_17 U 193989 193206     66\n",
      " 199792 90626        0.2046     5        0.2057        0.2003  1320086    2.64%          rho_11 U 199792 199789     98\n",
      " 204874 93088        0.2048     8        0.2057        0.2003  1360581    2.64%           rho_2 N 204874 204873     44\n",
      " 210234 95642        cutoff              0.2057        0.2003  1404395    2.64%           rho_2 U 210234 210232     25\n",
      " 215500 97818        cutoff              0.2057        0.2003  1447778    2.64%           rho_0 U 215500 215499     70\n",
      " 221825 100760        0.2039     7        0.2057        0.2003  1491780    2.64%           rho_0 U 221825 221824     42\n",
      " 227500 103041        0.2032    11        0.2057        0.2003  1534179    2.64%           rho_2 U 227500 155129     54\n",
      " 233329 105540        0.2049     9        0.2057        0.2003  1574061    2.64%          rho_25 U 233329 233328     51\n",
      " 238354 108528        0.2046    10        0.2057        0.2003  1619877    2.64%           rho_0 U 238354 238353     75\n",
      " 244366 111067        0.2003    10        0.2057        0.2003  1658779    2.64%           rho_4 D 244366  27842     61\n",
      "Elapsed time = 112.70 sec. (129986.08 ticks, tree = 36.78 MB, solutions = 3)\n",
      " 250387 113651        0.2043     9        0.2057        0.2003  1700847    2.64%           rho_8 D 250387 250385     55\n",
      " 255736 116051        0.2032    11        0.2057        0.2003  1743687    2.64%          rho_17 D 255736 255735     70\n",
      " 261171 118836        0.2003    11        0.2057        0.2003  1785819    2.64%          rho_12 D 261171 261170     65\n",
      " 267349 121411        0.2003    16        0.2057        0.2003  1826121    2.64%           rho_6 D 267349 267348     36\n",
      " 270919 124055        0.2003    14        0.2057        0.2003  1878472    2.64%          rho_12 D 270919 270918     52\n",
      " 275753 126362        0.2038    11        0.2057        0.2003  1917457    2.64%          rho_25 D 275753 275752     62\n",
      " 281436 129091        0.2007    19        0.2057        0.2003  1955948    2.64%           rho_3 N 281436 281435     42\n"
     ]
    },
    {
     "name": "stdout",
     "output_type": "stream",
     "text": [
      " 286677 131764        0.2032    11        0.2057        0.2003  1997174    2.64%          rho_16 U 286677 286676     95\n",
      " 291621 134477        0.2011    17        0.2057        0.2003  2036154    2.64%           rho_0 D 291621  23340     14\n",
      " 297594 137091        cutoff              0.2057        0.2003  2077212    2.64%           rho_0 U 297594 297593     60\n",
      "Elapsed time = 144.52 sec. (168138.26 ticks, tree = 47.69 MB, solutions = 3)\n",
      " 303852 139883        0.2003    15        0.2057        0.2003  2120251    2.64%          rho_10 D 303852 303851     86\n",
      " 310660 142687        0.2028     7        0.2057        0.2003  2159767    2.64%          rho_15 D 310660 310658     61\n",
      " 317417 145300        0.2040    10        0.2057        0.2003  2198645    2.64%           rho_6 N 317417  86825     27\n",
      " 322913 147491        cutoff              0.2057        0.2003  2242865    2.64%          rho_21 D 322913 322912     55\n",
      " 329071 150349        0.2017    13        0.2057        0.2003  2284137    2.64%           rho_2 D 329071 329070     59\n",
      " 335310 152861        0.2046     8        0.2057        0.2003  2322825    2.64%           rho_1 D 335310 335309     82\n",
      " 341471 155417        cutoff              0.2057        0.2003  2359312    2.64%           rho_2 U 341471 341469     87\n",
      " 347513 158269        0.2003     5        0.2057        0.2003  2398504    2.64%           rho_0 D 347513 347511     54\n",
      " 352380 161213        0.2039    11        0.2057        0.2003  2438548    2.64%          rho_25 D 352380 352378     75\n",
      " 358368 163875        cutoff              0.2057        0.2003  2481236    2.64%          rho_25 D 358368 358367     53\n",
      "Elapsed time = 172.63 sec. (206292.96 ticks, tree = 57.59 MB, solutions = 3)\n",
      " 363479 166216        0.2008    14        0.2057        0.2003  2530413    2.64%           rho_1 U 363479 363478     49\n",
      " 369163 168843        0.2003    13        0.2057        0.2003  2570754    2.64%          rho_10 D 369163 369162     58\n",
      " 374199 171774        0.2004    18        0.2057        0.2003  2606946    2.64%           rho_6 N 374199 374198     54\n",
      " 378800 174371        0.2038     7        0.2057        0.2003  2643018    2.64%          rho_17 U 378800 378799     68\n",
      " 384086 176760        0.2007    17        0.2057        0.2003  2681145    2.64%          rho_11 U 384086 130227     49\n",
      " 389815 179245        cutoff              0.2057        0.2003  2722261    2.64%          rho_25 U 389815 389814     64\n",
      " 395246 181108        0.2011    12        0.2057        0.2003  2757437    2.64%           rho_8 N 395246 395245     71\n",
      " 400689 183720        0.2003    10        0.2057        0.2003  2797025    2.64%          rho_12 U 400689 400687     33\n",
      "\n",
      "User cuts applied:  886\n",
      "\n",
      "Root node processing (before b&c):\n",
      "  Real time             =    0.09 sec. (1.21 ticks)\n",
      "Sequential b&c:\n",
      "  Real time             =  199.92 sec. (239293.35 ticks)\n",
      "                          ------------\n",
      "Total (root+branch&cut) =  200.02 sec. (239294.56 ticks)\n",
      "+----------------------------------------------+------------------+-----------+\n",
      "| Pr(Y = +1) = 1.0/(1.0 + exp(-(-5 + score))   |                  |           |\n",
      "| ============================================ | ================ | ========= |\n",
      "| p_violence>=1                                |         2 points |   + ..... |\n",
      "| sex                                          |         1 points |   + ..... |\n",
      "| p_arrest>=2                                  |         1 points |   + ..... |\n",
      "| p_arrest>=5                                  |         1 points |   + ..... |\n",
      "| ============================================ | ================ | ========= |\n",
      "| ADD POINTS FROM ROWS 1 to 4                  |            SCORE |   = ..... |\n",
      "+----------------------------------------------+------------------+-----------+\n",
      "model_id, score_thresholds 0 {'rank_abs': [0]}\n",
      "get_disparity_predefined_group()\n",
      "setting c0 = 0.0 to ensure that intercept is not penalized\n",
      "09/11/19 @ 12:54 AM | 1141 rows in lookup table\n",
      "09/11/19 @ 12:54 AM | ------------------------------------------------------------\n",
      "09/11/19 @ 12:54 AM | runnning initialization procedure\n",
      "09/11/19 @ 12:54 AM | ------------------------------------------------------------\n",
      "09/11/19 @ 12:54 AM | CPA produced 2 cuts\n",
      "09/11/19 @ 12:54 AM | running naive rounding on 63 solutions\n",
      "09/11/19 @ 12:54 AM | best objective value: 0.2044\n",
      "09/11/19 @ 12:54 AM | rounding produced 5 integer solutions\n",
      "09/11/19 @ 12:54 AM | best objective value is 0.2148\n",
      "09/11/19 @ 12:54 AM | running sequential rounding on 63 solutions\n",
      "09/11/19 @ 12:54 AM | best objective value: 0.2044\n",
      "09/11/19 @ 12:54 AM | sequential rounding produced 6 integer solutions\n",
      "09/11/19 @ 12:54 AM | best objective value: 0.2070\n",
      "09/11/19 @ 12:54 AM | polishing 11 solutions\n",
      "09/11/19 @ 12:54 AM | best objective value: 0.2070\n",
      "09/11/19 @ 12:54 AM | polishing produced 5 integer solutions\n",
      "09/11/19 @ 12:54 AM | initialization produced 12 feasible solutions\n",
      "09/11/19 @ 12:54 AM | best objective value: 0.2070\n",
      "09/11/19 @ 12:54 AM | ------------------------------------------------------------\n",
      "09/11/19 @ 12:54 AM | completed initialization procedure\n",
      "09/11/19 @ 12:54 AM | ------------------------------------------------------------\n",
      "09/11/19 @ 12:55 AM | 1141 rows in lookup table\n",
      "CPXPARAM_Read_DataCheck                          1\n",
      "CPXPARAM_Threads                                 1\n",
      "CPXPARAM_Parallel                                1\n",
      "CPXPARAM_RandomSeed                              0\n",
      "CPXPARAM_TimeLimit                               200\n",
      "CPXPARAM_MIP_Tolerances_LowerCutoff              0.20150562077664427\n",
      "CPXPARAM_MIP_Tolerances_UpperCutoff              0.20701649722166668\n"
     ]
    },
    {
     "name": "stderr",
     "output_type": "stream",
     "text": [
      "Warning: Control callbacks may disable some MIP features.\n"
     ]
    },
    {
     "name": "stdout",
     "output_type": "stream",
     "text": [
      "Lazy constraint(s) or lazy constraint callback is present.\n",
      "    Disabling dual reductions (CPX_PARAM_REDUCE) in presolve.\n",
      "    Disabling non-linear reductions (CPX_PARAM_PRELINEAR) in presolve.\n",
      "         Disabling repeat represolve because of lazy constraint/incumbent callback.\n",
      "09/11/19 @ 12:55 AM | adding 250 initial cuts\n",
      "1 of 1 MIP starts provided solutions.\n",
      "MIP start 'mip_start_0' defined initial solution with objective 0.2070.\n",
      "Tried aggregator 1 time.\n",
      "Reduced MIP has 28 rows, 56 columns, and 107 nonzeros.\n",
      "Reduced MIP has 26 binaries, 28 generals, 0 SOSs, and 0 indicators.\n",
      "Presolve time = 0.00 sec. (0.06 ticks)\n",
      "Probing time = 0.00 sec. (0.02 ticks)\n",
      "MIP emphasis: balance optimality and feasibility.\n",
      "MIP search method: traditional branch-and-cut.\n",
      "Parallel mode: none, using 1 thread.\n",
      "Root relaxation solution time = 0.00 sec. (0.04 ticks)\n",
      "\n",
      "        Nodes                                         Cuts/\n",
      "   Node  Left     Objective  IInf  Best Integer    Best Bound    ItCnt     Gap         Variable B NodeID Parent  Depth\n",
      "\n",
      "*     0+    0                            0.2070        0.2015             2.67%\n",
      "      0     0        0.2015     1        0.2070        0.2015        1    2.66%\n",
      "      0     2        0.2015     1        0.2070        0.2015        1    2.66%                        0             0\n",
      "Elapsed time = 0.13 sec. (1.16 ticks, tree = 0.01 MB, solutions = 1)\n",
      "   2078   992        cutoff              0.2070        0.2015     8818    2.66%          rho_15 U   2078   2077     25\n",
      "*  2500+ 1158                            0.2069        0.2015             2.60%\n",
      "   3159  1372        0.2044     4        0.2069        0.2015    14767    2.60%          rho_13 U   3159   3156     31\n",
      "   4112  1684        cutoff              0.2069        0.2015    20164    2.60%           rho_0 U   4112   4111     62\n",
      "   5051  2060        0.2068     4        0.2069        0.2015    25216    2.60%           rho_9 U   5051   5049     49\n",
      "   5960  2456        0.2027    11        0.2069        0.2015    30220    2.60%           rho_0 D   5960   5958     60\n",
      "   6850  2818        cutoff              0.2069        0.2015    34917    2.60%           rho_0 U   6850   6849     32\n",
      "   7704  3111        0.2051     6        0.2069        0.2015    38973    2.60%          rho_16 U   7704   7703     46\n",
      "   8563  3422        0.2024    10        0.2069        0.2015    42746    2.60%           rho_0 D   8563   8561     44\n",
      "   9330  3732        0.2038     6        0.2069        0.2015    47043    2.60%           rho_8 D   9330   9329     32\n",
      "  12168  4862        0.2015     5        0.2069        0.2015    63753    2.60%          rho_17 D  12168  12167     23\n",
      "Elapsed time = 5.08 sec. (3102.55 ticks, tree = 1.46 MB, solutions = 2)\n",
      "* 14208  5846      integral     0        0.2069        0.2015    73695    2.59%\n",
      "  14918  6081        0.2031     6        0.2069        0.2015    77396    2.59%           rho_2 D  14918  14917     31\n",
      "  17350  7273        0.2043     8        0.2069        0.2015    92729    2.59%           rho_0 D  17350  17349     28\n",
      "  19808  8060        cutoff              0.2069        0.2015   107169    2.59%          rho_22 U  19808  19807     38\n",
      "  22058  8830        0.2015    11        0.2069        0.2015   123151    2.59%          rho_12 D  22058  22057     37\n",
      "  24349  9754        0.2039    14        0.2069        0.2015   137250    2.59%          rho_14 U  24349  24347     42\n",
      "  26493 10717        0.2057     5        0.2069        0.2015   151584    2.59%          rho_14 U  26493  26491     16\n",
      "  28615 11702        0.2045    14        0.2069        0.2015   164468    2.59%           rho_4 D  28615  28614     29\n",
      "  30651 12508        0.2032     9        0.2069        0.2015   178032    2.59%          rho_12 U  30651  30649     55\n",
      "  32770 13470        0.2042     9        0.2069        0.2015   192270    2.59%           rho_4 D  32770  32769     50\n",
      "  34798 14536        0.2015     5        0.2069        0.2015   205357    2.59%           rho_0 D  34798  34796     61\n",
      "Elapsed time = 14.58 sec. (12642.97 ticks, tree = 4.39 MB, solutions = 3)\n",
      "  36768 15382        0.2015     2        0.2069        0.2015   219575    2.59%           rho_7 U  36768  36332     49\n",
      "  38736 16295        0.2015     6        0.2069        0.2015   233965    2.59%           rho_0 D  38736  38734     54\n",
      "  40890 17293        0.2020     9        0.2069        0.2015   246879    2.59%          rho_16 D  40890  40889     44\n",
      "  43036 17986        0.2032    12        0.2069        0.2015   257404    2.59%          rho_23 D  43036  43035     62\n",
      "  45063 18575        0.2015    13        0.2069        0.2015   268294    2.59%           rho_0 D  45063  45061     38\n",
      "  46933 19361        0.2056     6        0.2069        0.2015   280589    2.59%           rho_0 D  46933  46931     55\n",
      "  49223 20452        0.2044    11        0.2069        0.2015   291646    2.59%           rho_0 D  49223  49221     88\n",
      "  51720 21577        0.2015     8        0.2069        0.2015   302794    2.59%          rho_17 D  51720  51719     85\n",
      "  53919 22578        0.2041     7        0.2069        0.2015   316112    2.59%          rho_21 D  53919  53918     79\n",
      "  56011 23524        0.2044    11        0.2069        0.2015   329359    2.59%           rho_0 D  56011  56009     53\n",
      "Elapsed time = 22.20 sec. (22182.70 ticks, tree = 7.53 MB, solutions = 3)\n",
      "  58080 24458        0.2061    11        0.2069        0.2015   341958    2.59%           rho_2 D  58080  58079     50\n",
      "  60159 25177        0.2049     5        0.2069        0.2015   352905    2.59%          rho_15 D  60159  60157     84\n",
      "  62210 25797        0.2027    11        0.2069        0.2015   363489    2.59%           rho_8 D  62210  62209     82\n",
      "  64272 26338        cutoff              0.2069        0.2015   373806    2.59%          rho_21 U  64272  64271     69\n",
      "  66350 26877        cutoff              0.2069        0.2015   384054    2.59%           rho_9 U  66350  66349     79\n",
      "  68410 27428        0.2055     8        0.2069        0.2015   394194    2.59%           rho_2 D  68410  68409     42\n",
      "  70487 27997        0.2060     7        0.2069        0.2015   404486    2.59%          rho_13 D  70487  70485     65\n",
      "  72567 28559        0.2023     9        0.2069        0.2015   414815    2.59%           rho_2 D  72567  72551     38\n",
      "  74800 29307        0.2035     7        0.2069        0.2015   424364    2.59%           rho_2 D  74800  74799     52\n",
      "  77123 30166        0.2026    10        0.2069        0.2015   433438    2.59%          rho_14 D  77123  77122     64\n",
      "Elapsed time = 29.97 sec. (31724.36 ticks, tree = 9.38 MB, solutions = 3)\n",
      "  79479 31015        0.2015    17        0.2069        0.2015   442467    2.59%          rho_14 D  79479  79478     79\n",
      "  81829 31836        0.2045     6        0.2069        0.2015   451116    2.59%          rho_13 D  81829  81827     57\n",
      "  84185 32716        cutoff              0.2069        0.2015   459880    2.59%           rho_9 U  84185  84182     68\n",
      "  86518 33587        0.2027     9        0.2069        0.2015   468684    2.59%          rho_17 D  86518  86517     93\n",
      "  88880 34481        cutoff              0.2069        0.2015   477485    2.59%          rho_19 D  88880  88879     34\n",
      "  90675 35436        0.2063    11        0.2069        0.2015   490463    2.59%          rho_24 D  90675  90674     57\n",
      "  92580 36341        0.2035     8        0.2069        0.2015   502222    2.59%           rho_0 U  92580  92579     25\n",
      "  94259 37368        cutoff              0.2069        0.2015   514600    2.59%           rho_3 U  94259  94257     64\n",
      "  95758 38109        0.2019    16        0.2069        0.2015   529532    2.59%          rho_12 D  95758  95757     57\n",
      "  96929 38662        0.2015     7        0.2069        0.2015   546357    2.59%           rho_0 D  96929  96927     72\n",
      "Elapsed time = 38.00 sec. (41265.44 ticks, tree = 13.12 MB, solutions = 3)\n",
      "  98181 39246        0.2018    19        0.2069        0.2015   561925    2.59%          rho_12 D  98181  98180     31\n",
      "  99979 40092        0.2057     8        0.2069        0.2015   574225    2.59%          rho_15 D  99979  99977     91\n"
     ]
    },
    {
     "name": "stdout",
     "output_type": "stream",
     "text": [
      " 101991 40937        0.2023     9        0.2069        0.2015   584999    2.59%          rho_14 U 101991  81228     62\n",
      " 104014 41829        0.2024    12        0.2069        0.2015   596328    2.59%           rho_6 D 104014 104013     73\n",
      " 106064 42782        0.2065    10        0.2069        0.2015   607413    2.59%           rho_0 D 106064 106062     49\n",
      " 107909 43453        0.2015    10        0.2069        0.2015   618475    2.59%          rho_11 U 107909  33391     23\n",
      " 109730 43976        0.2045     5        0.2069        0.2015   628930    2.59%           rho_0 U 109730 109729     69\n",
      " 111616 44611        0.2015     8        0.2069        0.2015   639320    2.59%           rho_8 U 111616  27251     26\n",
      " 113480 45088        0.2031    14        0.2069        0.2015   649590    2.59%           rho_1 D 113480  13501     22\n",
      " 115283 46019        0.2015     8        0.2069        0.2015   661561    2.59%          rho_12 U 115283 115281     60\n",
      "Elapsed time = 43.92 sec. (50806.27 ticks, tree = 15.23 MB, solutions = 3)\n",
      " 117138 46926        0.2015     8        0.2069        0.2015   673850    2.59%          rho_12 U 117138 117136     41\n",
      " 118912 47806        0.2031     9        0.2069        0.2015   686455    2.59%          rho_15 D 118912 118911     65\n",
      " 120618 48679        0.2015     8        0.2069        0.2015   699044    2.59%          rho_12 U 120618 120616     67\n",
      " 122494 49604        0.2049    10        0.2069        0.2015   710348    2.59%          rho_21 D 122494 122493     66\n",
      " 124415 50595        cutoff              0.2069        0.2015   721548    2.59%           rho_9 D 124415 124413     78\n",
      " 126021 51591        cutoff              0.2069        0.2015   732869    2.59%          rho_13 U 126021 126020     35\n",
      " 127339 52621        0.2020    13        0.2069        0.2015   745687    2.59%          rho_12 D 127339 127338     67\n",
      " 128660 53631        0.2015     8        0.2069        0.2015   758468    2.59%          rho_12 U 128660 128658     73\n",
      " 129943 54593        0.2026     8        0.2069        0.2015   771153    2.59%           rho_0 U 129943 129942     70\n",
      " 131294 55528        0.2015     7        0.2069        0.2015   784857    2.59%           rho_0 D 131294 131292     39\n",
      "Elapsed time = 49.56 sec. (60346.89 ticks, tree = 17.94 MB, solutions = 3)\n",
      " 132547 56326        0.2060     6        0.2069        0.2015   800266    2.59%           rho_0 U 132547 132546     95\n",
      " 134132 57072        0.2022     9        0.2069        0.2015   809659    2.59%           rho_0 U 134132 134131     62\n",
      " 135843 57734        0.2061     5        0.2069        0.2015   816879    2.59%          rho_22 D 135843 135841     73\n",
      " 137811 58490        0.2065     6        0.2069        0.2015   825381    2.59%          rho_15 D 137811 137809     51\n",
      " 139936 59532        0.2024    12        0.2069        0.2015   837131    2.59%           rho_1 D 139936 139935     46\n",
      " 141968 60398        cutoff              0.2069        0.2015   849366    2.59%           rho_0 U 141968 141966     27\n",
      " 144135 61425        0.2015     8        0.2069        0.2015   862507    2.59%           rho_0 D 144135 144133     58\n",
      " 146560 62532        0.2015    10        0.2069        0.2015   873722    2.59%          rho_16 D 146560 143902     68\n",
      " 148884 63619        cutoff              0.2069        0.2015   883653    2.59%          rho_22 D 148884 148882     80\n",
      " 151174 64627        0.2064     4        0.2069        0.2015   893432    2.59%          rho_13 N 151174 151173     65\n",
      "Elapsed time = 55.08 sec. (69888.27 ticks, tree = 20.53 MB, solutions = 3)\n",
      " 153156 65487        0.2015    30        0.2069        0.2015   904139    2.59%          rho_17 D 153156   1219      7\n",
      " 154647 66078        0.2015     7        0.2069        0.2015   919363    2.59%          rho_12 U 154647 154646     52\n",
      " 156258 66771        0.2056     3        0.2069        0.2015   932676    2.59%           rho_9 D 156258 156257     70\n",
      " 158167 67456        cutoff              0.2069        0.2015   943030    2.59%           rho_4 U 158167 158166     33\n",
      " 160031 68237        0.2046     3        0.2069        0.2015   954391    2.59%          rho_21 D 160031 160030     41\n",
      " 161695 69288        0.2023    13        0.2069        0.2015   967576    2.59%          rho_12 D 161695 161694     88\n",
      " 163235 70089        0.2015    10        0.2069        0.2015   981227    2.59%           rho_0 D 163235 163233     61\n",
      " 164875 70855        0.2043     8        0.2069        0.2015   994685    2.59%           rho_5 U 164875 164874     41\n",
      " 166549 71489        cutoff              0.2069        0.2015  1007454    2.59%          rho_15 U 166549 166548     29\n",
      " 168205 72187        0.2015     8        0.2069        0.2015  1019222    2.59%          rho_12 U 168205 168203     84\n",
      "Elapsed time = 61.63 sec. (79432.31 ticks, tree = 25.53 MB, solutions = 3)\n",
      " 169807 72889        0.2061     1        0.2069        0.2015  1031873    2.59%          rho_22 D 169807 169806     28\n",
      " 171275 73591        cutoff              0.2069        0.2015  1045011    2.59%          rho_17 U 171275 171274     37\n",
      " 172683 74408        0.2015     9        0.2069        0.2015  1059223    2.59%           rho_3 D 172683 172562     66\n",
      " 174010 75215        cutoff              0.2069        0.2015  1072228    2.59%          rho_26 D 174010 174008     75\n",
      " 175345 76145        0.2048    14        0.2069        0.2015  1084604    2.59%           rho_0 U 175345 175344     65\n",
      " 176680 76913        0.2015    13        0.2069        0.2015  1096225    2.59%          rho_17 D 176680 176679     72\n",
      " 178047 77654        0.2066     5        0.2069        0.2015  1107097    2.59%          rho_22 N 178047 178046     75\n",
      " 179350 78245        0.2067    10        0.2069        0.2015  1119167    2.59%          rho_17 D 179350 179348     47\n",
      " 180593 78819        0.2055     6        0.2069        0.2015  1131794    2.59%          rho_26 D 180593 180591     73\n",
      " 186579 81296        0.2050    15        0.2069        0.2015  1189893    2.59%           rho_0 U 186579 186578     62\n",
      "Elapsed time = 69.49 sec. (91836.50 ticks, tree = 28.16 MB, solutions = 3)\n",
      " 191855 83000        0.2015     9        0.2069        0.2015  1249156    2.59%          rho_12 D 191855 191854     57\n",
      " 197877 85619        0.2034    17        0.2069        0.2015  1298599    2.59%           rho_0 D 197877 147983     63\n",
      " 204147 87796        cutoff              0.2069        0.2015  1345415    2.59%           rho_3 U 204147 204146     56\n",
      " 209799 91212        0.2057    11        0.2069        0.2015  1391708    2.59%          rho_24 D 209799 209798     79\n",
      " 215703 94215        cutoff              0.2069        0.2015  1428969    2.59%           rho_0 U 215703 215701     83\n",
      " 222081 97288        0.2025    17        0.2069        0.2015  1471931    2.59%          rho_11 U 222081 222080     58\n",
      " 229150 100917        0.2015     4        0.2069        0.2015  1516066    2.59%           rho_0 U 229150 229149     66\n",
      " 236830 103330        cutoff              0.2069        0.2015  1556100    2.59%           rho_2 D 236830 236829     63\n",
      " 244312 106537        0.2055     5        0.2069        0.2015  1599828    2.59%          rho_19 D 244312 244310     75\n",
      " 250974 109026        cutoff              0.2069        0.2015  1638714    2.59%          rho_19 U 250974 250973     69\n",
      "Elapsed time = 93.53 sec. (129986.60 ticks, tree = 36.14 MB, solutions = 3)\n",
      " 257126 111590        cutoff              0.2069        0.2015  1680684    2.59%           rho_0 U 257126 257124     51\n",
      " 262355 114228        0.2015    17        0.2069        0.2015  1734731    2.59%          rho_12 D 262355 262354     65\n",
      " 267213 116882        0.2026    11        0.2069        0.2015  1784738    2.59%           rho_9 D 267213 267212     63\n",
      " 273087 119495        cutoff              0.2069        0.2015  1837111    2.59%           rho_5 U 273087 273085     89\n",
      " 279335 122439        0.2052    10        0.2069        0.2015  1886647    2.59%          rho_15 D 279335 279334     33\n",
      " 285933 124988        0.2015    10        0.2069        0.2015  1929960    2.59%          rho_12 U 285933 285922     81\n"
     ]
    },
    {
     "name": "stdout",
     "output_type": "stream",
     "text": [
      " 292690 127232        0.2065     7        0.2069        0.2015  1973088    2.59%           rho_0 U 292690 292689     40\n",
      " 298907 129085        cutoff              0.2069        0.2015  2018455    2.59%          rho_16 U 298907 298906     71\n",
      " 305298 131277        cutoff              0.2069        0.2015  2060360    2.59%          rho_22 D 305298 305297     58\n",
      " 312753 133774        0.2052     5        0.2069        0.2015  2094836    2.59%          rho_19 D 312753 312751     73\n",
      "Elapsed time = 114.55 sec. (168136.45 ticks, tree = 46.41 MB, solutions = 3)\n",
      " 319228 136674        0.2043    13        0.2069        0.2015  2138949    2.59%           rho_0 N 319228 319226     41\n",
      " 324899 139739        0.2016    19        0.2069        0.2015  2186149    2.59%           rho_0 D 324899 324897     38\n",
      " 331051 142620        0.2028    13        0.2069        0.2015  2232066    2.59%           rho_0 U 331051 331050     46\n",
      " 338390 145477        0.2015     8        0.2069        0.2015  2277688    2.59%          rho_14 D 338390 332790     59\n",
      " 344913 148448        0.2015     9        0.2069        0.2015  2327104    2.59%          rho_12 U 344913 344868     38\n",
      " 350860 150971        0.2015     4        0.2069        0.2015  2379264    2.59%           rho_0 D 350860 350858     89\n",
      " 357090 153573        0.2057     5        0.2069        0.2015  2425109    2.59%          rho_15 D 357090 357089     60\n",
      " 362822 156248        0.2063    11        0.2069        0.2015  2478288    2.59%          rho_15 D 362822 362820     59\n",
      " 369151 158956        cutoff              0.2069        0.2015  2526732    2.59%          rho_21 U 369151 369150     66\n",
      " 375656 161152        0.2044     7        0.2069        0.2015  2570166    2.59%           rho_2 U 375656 375629     90\n",
      "Elapsed time = 135.50 sec. (206287.61 ticks, tree = 56.12 MB, solutions = 3)\n",
      " 382352 163156        0.2050     8        0.2069        0.2015  2610660    2.59%          rho_21 D 382352 382350     60\n",
      " 389050 165166        0.2023    10        0.2069        0.2015  2651249    2.59%           rho_2 D 389050 389049     65\n",
      " 395499 167619        0.2044    15        0.2069        0.2015  2696411    2.59%           rho_0 D 395499 395497     51\n",
      " 402845 171163        0.2015    12        0.2069        0.2015  2741151    2.59%           rho_6 D 402845 402844     49\n",
      " 409319 174183        0.2015    10        0.2069        0.2015  2787498    2.59%          rho_12 U 409319 409317     63\n",
      " 414929 176349        0.2018    20        0.2069        0.2015  2833994    2.59%          rho_12 D 414929 414928     53\n",
      " 420610 178634        cutoff              0.2069        0.2015  2877999    2.59%          rho_21 U 420610 420609     93\n",
      " 426802 181355        0.2061     5        0.2069        0.2015  2922905    2.59%          rho_16 U 426802 426801     71\n",
      " 434237 184680        0.2057    11        0.2069        0.2015  2962747    2.59%           rho_5 U 434237 434235     75\n",
      " 440018 187809        0.2034    12        0.2069        0.2015  3004611    2.59%           rho_5 D 440018 440017     56\n",
      "Elapsed time = 156.24 sec. (244438.97 ticks, tree = 63.95 MB, solutions = 3)\n",
      " 446759 190258        0.2022    12        0.2069        0.2015  3045919    2.59%           rho_6 D 446759 446758     68\n",
      " 453086 192674        0.2015     9        0.2069        0.2015  3091080    2.59%           rho_0 D 453086 453046     70\n",
      " 459165 195316        cutoff              0.2069        0.2015  3143067    2.59%          rho_26 U 459165 459164     70\n",
      " 465040 198077        0.2034    10        0.2069        0.2015  3190150    2.59%          rho_12 D 465040 465039     39\n",
      " 471370 200864        0.2032    11        0.2069        0.2015  3230808    2.59%           rho_6 D 471370 471369     48\n",
      " 478010 203390        0.2019    12        0.2069        0.2015  3268320    2.59%          rho_17 D 478010 475804     66\n",
      " 485251 205741        0.2056     9        0.2069        0.2015  3302861    2.59%          rho_13 D 485251 485249     78\n",
      " 491510 209192        0.2015    15        0.2069        0.2015  3343855    2.59%          rho_12 D 491510 491509     43\n",
      " 497038 211843        cutoff              0.2069        0.2015  3386862    2.59%           rho_0 U 497038 497037     60\n",
      " 503181 214224        0.2047    14        0.2069        0.2015  3436946    2.59%           rho_5 U 503181 503180     29\n",
      "Elapsed time = 178.33 sec. (282591.29 ticks, tree = 73.78 MB, solutions = 3)\n",
      " 508359 216148        0.2015    10        0.2069        0.2015  3485698    2.59%           rho_0 D 508359 508313     57\n",
      " 513831 218332        0.2049    13        0.2069        0.2015  3530595    2.59%           rho_0 D 513831 513829     45\n",
      " 519198 219948        0.2069     5        0.2069        0.2015  3573985    2.59%          rho_13 U 519198 519197     73\n",
      " 524428 221946        cutoff              0.2069        0.2015  3618681    2.59%          rho_19 U 524428 524427     53\n",
      " 529749 223882        0.2050    10        0.2069        0.2015  3661049    2.59%           rho_8 U 529749 529748     54\n",
      " 534688 225601        0.2062    11        0.2069        0.2015  3702643    2.59%          rho_15 D 534688 534686     70\n",
      " 539771 227706        0.2024    10        0.2069        0.2015  3745599    2.59%          rho_12 D 539771 539770     72\n",
      " 545460 230282        0.2018    13        0.2069        0.2015  3785233    2.59%          rho_17 D 545460 131594     53\n",
      " 551356 233147        0.2049     6        0.2069        0.2015  3820964    2.59%          rho_21 D 551356 551355     66\n",
      " 557136 235577        0.2015    14        0.2069        0.2015  3859858    2.59%           rho_6 D 557136 557135     40\n",
      "Elapsed time = 196.27 sec. (320741.33 ticks, tree = 82.62 MB, solutions = 3)\n",
      " 562295 238062        0.2058     6        0.2069        0.2015  3904591    2.59%          rho_16 D 562295 562293     54\n",
      " 567092 239994        cutoff              0.2069        0.2015  3948222    2.59%          rho_17 U 567092 567090     56\n",
      "\n",
      "User cuts applied:  824\n",
      "\n",
      "Root node processing (before b&c):\n",
      "  Real time             =    0.13 sec. (1.23 ticks)\n",
      "Sequential b&c:\n",
      "  Real time             =  199.89 sec. (328846.67 ticks)\n",
      "                          ------------\n",
      "Total (root+branch&cut) =  200.02 sec. (328847.90 ticks)\n",
      "+----------------------------------------------+------------------+-----------+\n",
      "| Pr(Y = +1) = 1.0/(1.0 + exp(-(-6 + score))   |                  |           |\n",
      "| ============================================ | ================ | ========= |\n",
      "| p_violence>=1                                |         2 points |   + ..... |\n",
      "| sex                                          |         1 points |   + ..... |\n",
      "| p_arrest>=2                                  |         1 points |   + ..... |\n",
      "| p_arrest>=5                                  |         1 points |   + ..... |\n",
      "| p_charges>=1                                 |         1 points |   + ..... |\n",
      "| ============================================ | ================ | ========= |\n",
      "| ADD POINTS FROM ROWS 1 to 5                  |            SCORE |   = ..... |\n",
      "+----------------------------------------------+------------------+-----------+\n",
      "model_id, score_thresholds 0 {'rank_abs': [0]}\n",
      "get_disparity_predefined_group()\n",
      "setting c0 = 0.0 to ensure that intercept is not penalized\n",
      "09/11/19 @ 12:58 AM | 1141 rows in lookup table\n",
      "09/11/19 @ 12:58 AM | ------------------------------------------------------------\n",
      "09/11/19 @ 12:58 AM | runnning initialization procedure\n",
      "09/11/19 @ 12:58 AM | ------------------------------------------------------------\n",
      "09/11/19 @ 12:58 AM | CPA produced 2 cuts\n",
      "09/11/19 @ 12:58 AM | running naive rounding on 59 solutions\n",
      "09/11/19 @ 12:58 AM | best objective value: 0.2034\n",
      "09/11/19 @ 12:58 AM | rounding produced 5 integer solutions\n",
      "09/11/19 @ 12:58 AM | best objective value is 0.2093\n",
      "09/11/19 @ 12:58 AM | running sequential rounding on 59 solutions\n",
      "09/11/19 @ 12:58 AM | best objective value: 0.2034\n",
      "09/11/19 @ 12:58 AM | sequential rounding produced 6 integer solutions\n",
      "09/11/19 @ 12:58 AM | best objective value: 0.2057\n",
      "09/11/19 @ 12:58 AM | polishing 11 solutions\n",
      "09/11/19 @ 12:58 AM | best objective value: 0.2057\n",
      "09/11/19 @ 12:58 AM | polishing produced 5 integer solutions\n",
      "09/11/19 @ 12:58 AM | initialization produced 10 feasible solutions\n"
     ]
    },
    {
     "name": "stdout",
     "output_type": "stream",
     "text": [
      "09/11/19 @ 12:58 AM | best objective value: 0.2057\n",
      "09/11/19 @ 12:58 AM | ------------------------------------------------------------\n",
      "09/11/19 @ 12:58 AM | completed initialization procedure\n",
      "09/11/19 @ 12:58 AM | ------------------------------------------------------------\n",
      "09/11/19 @ 12:58 AM | 1141 rows in lookup table\n",
      "CPXPARAM_Read_DataCheck                          1\n",
      "CPXPARAM_Threads                                 1\n",
      "CPXPARAM_Parallel                                1\n",
      "CPXPARAM_RandomSeed                              0\n",
      "CPXPARAM_TimeLimit                               200\n",
      "CPXPARAM_MIP_Tolerances_LowerCutoff              0.1999814011805956\n",
      "CPXPARAM_MIP_Tolerances_UpperCutoff              0.20572843584825332\n"
     ]
    },
    {
     "name": "stderr",
     "output_type": "stream",
     "text": [
      "Warning: Control callbacks may disable some MIP features.\n"
     ]
    },
    {
     "name": "stdout",
     "output_type": "stream",
     "text": [
      "Lazy constraint(s) or lazy constraint callback is present.\n",
      "    Disabling dual reductions (CPX_PARAM_REDUCE) in presolve.\n",
      "    Disabling non-linear reductions (CPX_PARAM_PRELINEAR) in presolve.\n",
      "         Disabling repeat represolve because of lazy constraint/incumbent callback.\n",
      "09/11/19 @ 12:58 AM | adding 249 initial cuts\n",
      "1 of 1 MIP starts provided solutions.\n",
      "MIP start 'mip_start_0' defined initial solution with objective 0.2057.\n",
      "Tried aggregator 1 time.\n",
      "Reduced MIP has 28 rows, 56 columns, and 107 nonzeros.\n",
      "Reduced MIP has 26 binaries, 28 generals, 0 SOSs, and 0 indicators.\n",
      "Presolve time = 0.02 sec. (0.06 ticks)\n",
      "Probing time = 0.00 sec. (0.02 ticks)\n",
      "MIP emphasis: balance optimality and feasibility.\n",
      "MIP search method: traditional branch-and-cut.\n",
      "Parallel mode: none, using 1 thread.\n",
      "Root relaxation solution time = 0.00 sec. (0.04 ticks)\n",
      "\n",
      "        Nodes                                         Cuts/\n",
      "   Node  Left     Objective  IInf  Best Integer    Best Bound    ItCnt     Gap         Variable B NodeID Parent  Depth\n",
      "\n",
      "*     0+    0                            0.2057        0.2000             2.80%\n",
      "      0     0        0.2000     1        0.2057        0.2000        1    2.79%\n",
      "      0     2        0.2000     1        0.2057        0.2000        1    2.79%                        0             0\n",
      "Elapsed time = 0.05 sec. (1.13 ticks, tree = 0.01 MB, solutions = 1)\n",
      "*   930+  386                            0.2054        0.2000             2.62%\n",
      "*   950+  404                            0.2054        0.2000             2.62%\n",
      "   2349   923        cutoff              0.2054        0.2000     8414    2.62%         alpha_3 U   2349   2348     27\n",
      "   4080  2306        0.2000     1        0.2054        0.2000    16828    2.62%           rho_0 D   4080   4078     92\n",
      "   5874  3448        0.2000     1        0.2054        0.2000    24553    2.62%           rho_0 D   5874   5870     72\n",
      "*  6140+ 3558                            0.2050        0.2000             2.44%\n",
      "   7177  4067        0.2028     8        0.2050        0.2000    30559    2.44%          rho_12 U   7177   7176     25\n",
      "   8400  4587        0.2034     4        0.2050        0.2000    35411    2.44%           rho_0 U   8400   8399     45\n",
      "*  9000+ 4793                            0.2050        0.2000             2.44%\n",
      "   9500  4956        0.2000     4        0.2050        0.2000    40701    2.44%           rho_0 D   9500   9498     77\n",
      "  10530  5329        0.2028     8        0.2050        0.2000    45665    2.44%           rho_7 D  10530  10529     28\n",
      "  11601  5873        0.2032     6        0.2050        0.2000    51646    2.44%           rho_0 U  11601  11600     69\n",
      "  12757  6553        0.2039     8        0.2050        0.2000    57819    2.44%           rho_3 D  12757  12755     78\n",
      "  17164  8321        0.2045     6        0.2050        0.2000    80634    2.44%           rho_0 U  17164  17163     86\n",
      "Elapsed time = 2.55 sec. (3102.89 ticks, tree = 2.56 MB, solutions = 5)\n",
      "  21929 10171        0.2014     4        0.2050        0.2000   102604    2.44%          rho_12 U  21929  21927     94\n",
      "  26862 12488        0.2023     4        0.2050        0.2000   122914    2.44%           rho_0 U  26862  26861     49\n",
      "* 29000+13614                            0.2050        0.2000             2.44%\n",
      "  30501 14542        0.2000     5        0.2050        0.2000   144897    2.44%           rho_0 D  30501  30499     70\n",
      "  34118 16087        0.2026     6        0.2050        0.2000   164240    2.44%           rho_5 D  34118  34115     70\n",
      "  36954 17803        0.2005    12        0.2050        0.2000   183902    2.44%          rho_12 D  36954  36953     84\n",
      "  39486 19108        0.2000     4        0.2050        0.2000   201350    2.44%           rho_0 D  39486  39483     23\n",
      "  42562 20377        0.2047     3        0.2050        0.2000   219956    2.44%           rho_0 U  42562  42561     70\n",
      "  45667 21871        0.2000     7        0.2050        0.2000   239580    2.44%          rho_12 U  45667  45665     41\n",
      "  48522 23025        0.2000     6        0.2050        0.2000   256870    2.44%           rho_0 D  48522  48520     32\n",
      "  51700 24411        0.2026     7        0.2050        0.2000   271709    2.44%          rho_10 D  51700  51698     49\n",
      "Elapsed time = 8.48 sec. (12641.51 ticks, tree = 7.19 MB, solutions = 6)\n",
      "  54410 25006        0.2040    12        0.2050        0.2000   287089    2.44%           rho_3 U  54410  52224     67\n",
      "  56932 25435        0.2018    12        0.2050        0.2000   302955    2.44%          rho_10 D  56932  56930     64\n",
      "  59744 26521        0.2000     6        0.2050        0.2000   319022    2.44%           rho_0 D  59744  59742     58\n",
      "  62170 27560        0.2044    11        0.2050        0.2000   335772    2.44%           rho_7 D  62170  62168     64\n",
      "  64480 28315        0.2018    13        0.2050        0.2000   350808    2.44%          rho_12 D  64480  64425     64\n",
      "  66703 28975        cutoff              0.2050        0.2000   365635    2.44%          rho_19 U  66703  66702     69\n",
      "  69099 29691        cutoff              0.2050        0.2000   380315    2.44%          rho_19 U  69099  69098     85\n",
      "  71486 30234        0.2000    17        0.2050        0.2000   393966    2.44%          rho_14 U  71486   1038     13\n",
      "  73574 31487        0.2015     9        0.2050        0.2000   411310    2.44%          rho_17 U  73574  73572     46\n",
      "  76000 32061        0.2011    15        0.2050        0.2000   425005    2.44%           rho_8 D  76000  75998     45\n",
      "Elapsed time = 13.16 sec. (22183.75 ticks, tree = 9.21 MB, solutions = 6)\n",
      "  78096 32273        cutoff              0.2050        0.2000   439111    2.44%           rho_0 U  78096  78095     36\n",
      "  80523 33041        0.2000     8        0.2050        0.2000   453021    2.44%           rho_6 D  80523  50328     79\n",
      "  82661 33468        0.2000     8        0.2050        0.2000   466975    2.44%           rho_6 D  82661  49248     57\n",
      "  84832 33908        0.2048     4        0.2050        0.2000   480470    2.44%           rho_4 D  84832  84831     63\n",
      "  87166 35372        0.2007     9        0.2050        0.2000   494743    2.44%           rho_0 U  87166  87165     89\n",
      "  89427 36182        0.2000     5        0.2050        0.2000   508513    2.44%          rho_12 U  89427  89425     63\n",
      "  91529 37130        0.2044     7        0.2050        0.2000   524941    2.44%          rho_25 D  91529  91527     66\n",
      "  93710 38202        0.2047     4        0.2050        0.2000   540747    2.44%           rho_3 D  93710  93708     23\n",
      "  95625 39210        0.2000     8        0.2050        0.2000   556960    2.44%          rho_12 U  95625  95623     76\n",
      "  97517 40300        0.2009     9        0.2050        0.2000   572342    2.44%           rho_0 U  97517  97516     55\n",
      "Elapsed time = 18.06 sec. (31722.74 ticks, tree = 12.81 MB, solutions = 6)\n",
      "  99200 41447        0.2002    12        0.2050        0.2000   587056    2.44%           rho_6 D  99200  99199     41\n",
      " 100993 42111        0.2034     6        0.2050        0.2000   600617    2.44%           rho_4 N 100993  84773     36\n",
      " 102882 42728        0.2045     8        0.2050        0.2000   617625    2.44%           rho_0 U 102882 102855     38\n",
      " 104743 43607        0.2015    11        0.2050        0.2000   634448    2.44%          rho_17 U 104743  34857     63\n",
      " 106868 44519        0.2040     5        0.2050        0.2000   648136    2.44%           rho_6 D 106868 106866     67\n",
      " 108799 45371        0.2018    13        0.2050        0.2000   662474    2.44%          rho_12 D 108799 108798     98\n",
      " 111040 46529        0.2028    13        0.2050        0.2000   676665    2.44%           rho_0 D 111040 111039     46\n",
      " 112930 47653        0.2000    10        0.2050        0.2000   690527    2.44%          rho_12 D 112930 112929     63\n",
      " 114733 48685        0.2021    12        0.2050        0.2000   703101    2.44%           rho_0 D 114733 114731     49\n",
      " 116670 49355        0.2038     6        0.2050        0.2000   715224    2.44%           rho_3 U 116670 116669     70\n",
      "Elapsed time = 22.84 sec. (41266.40 ticks, tree = 15.30 MB, solutions = 6)\n"
     ]
    },
    {
     "name": "stdout",
     "output_type": "stream",
     "text": [
      " 118730 50163        0.2000     3        0.2050        0.2000   730203    2.44%          rho_12 U 118730 118728     40\n",
      " 120750 51153        0.2014     9        0.2050        0.2000   744183    2.44%           rho_2 U 120750 120748     37\n",
      " 122743 51958        0.2036     6        0.2050        0.2000   757776    2.44%           rho_2 U 122743 122741     33\n",
      " 124715 52601        0.2021     9        0.2050        0.2000   770214    2.44%          rho_19 D 124715 124713     50\n",
      " 126541 53382        0.2006    11        0.2050        0.2000   784241    2.44%           rho_0 D 126541 126539     99\n",
      " 128283 54314        0.2006    11        0.2050        0.2000   798233    2.44%           rho_0 U 128283 128282     48\n",
      " 129987 55217        0.2000     6        0.2050        0.2000   812345    2.44%           rho_0 D 129987 129985     71\n",
      " 131695 56179        0.2025     6        0.2050        0.2000   824874    2.44%           rho_0 U 131695 131694     45\n",
      "*132610 56612      integral     0        0.2050        0.2000   831865    2.44%\n",
      " 133448 56922        0.2002    13        0.2050        0.2000   838965    2.44%          rho_12 U 133448 133446     28\n",
      " 135283 57568        cutoff              0.2050        0.2000   853049    2.44%          rho_25 U 135283 135282     46\n",
      "Elapsed time = 27.75 sec. (50805.58 ticks, tree = 17.60 MB, solutions = 7)\n",
      " 137100 58219        cutoff              0.2050        0.2000   865954    2.44%          rho_19 U 137100 137099     67\n",
      " 138758 58482        0.2028     9        0.2050        0.2000   877180    2.44%           rho_1 U 138758  17171     93\n",
      " 140502 59163        0.2039     6        0.2050        0.2000   889783    2.44%           rho_3 U 140502 140501     68\n",
      " 142291 59743        0.2027     9        0.2050        0.2000   902098    2.44%           rho_1 D 142291 142290     41\n",
      " 144040 60323        0.2000    11        0.2050        0.2000   914412    2.44%           rho_0 D 144040 144039     14\n",
      " 145592 60954        0.2047     7        0.2050        0.2000   927559    2.44%           rho_0 U 145592 145591     26\n",
      " 147153 61534        0.2000    10        0.2050        0.2000   941347    2.44%          rho_12 D 147153 147152     54\n",
      " 148772 62126        cutoff              0.2050        0.2000   953959    2.44%          rho_21 U 148772 148770     70\n",
      " 150321 62608        0.2000     8        0.2050        0.2000   966096    2.44%          rho_12 D 150321 150319     50\n",
      " 151851 63209        0.2042     7        0.2050        0.2000   979300    2.44%          rho_24 D 151851 151850     48\n",
      "Elapsed time = 32.25 sec. (60347.24 ticks, tree = 19.23 MB, solutions = 7)\n",
      " 153470 64258        0.2028     8        0.2050        0.2000   993309    2.44%          rho_24 D 153470 153469     60\n",
      " 155119 65168        0.2002    19        0.2050        0.2000  1006110    2.44%          rho_23 U 155119 154855     73\n",
      " 156730 66063        cutoff              0.2050        0.2000  1018721    2.44%          rho_25 U 156730 156729     40\n",
      " 158328 66902        0.2014     6        0.2050        0.2000  1029841    2.44%          rho_12 U 158328 158326     65\n",
      " 159997 67559        0.2000    18        0.2050        0.2000  1042352    2.44%          rho_12 D 159997 121980     27\n",
      " 161491 68098        0.2035     8        0.2050        0.2000  1054661    2.44%           rho_5 U 161491 161488     30\n",
      " 163065 68693        0.2018    10        0.2050        0.2000  1067182    2.44%           rho_4 U 163065 113396     70\n",
      " 164936 69621        0.2017     9        0.2050        0.2000  1078672    2.44%           rho_5 U 164936 164934     95\n",
      " 166613 70280        0.2008     9        0.2050        0.2000  1090079    2.44%           rho_5 U 166613 164361     57\n",
      " 168350 71011        0.2042     5        0.2050        0.2000  1101742    2.44%          rho_26 D 168350 168349     71\n",
      "Elapsed time = 36.66 sec. (69893.57 ticks, tree = 24.27 MB, solutions = 7)\n",
      " 170100 71832        0.2037     9        0.2050        0.2000  1113773    2.44%           rho_2 U 170100 170099     81\n",
      " 171730 72622        0.2005    12        0.2050        0.2000  1126752    2.44%           rho_1 D 171730  10831     45\n",
      " 173360 73453        0.2037     6        0.2050        0.2000  1140842    2.44%           rho_0 U 173360 173359     70\n",
      " 174920 74376        0.2000     6        0.2050        0.2000  1154141    2.44%           rho_0 U 174920 174918     69\n",
      " 176575 75096        cutoff              0.2050        0.2000  1165099    2.44%           rho_1 U 176575 176573     43\n",
      " 178235 75869        0.2000     9        0.2050        0.2000  1177121    2.44%           rho_4 U 178235 178092     19\n",
      " 179846 76452        0.2015    13        0.2050        0.2000  1189323    2.44%          rho_12 D 179846  92217     52\n",
      "*180750+76753                            0.2050        0.2000             2.44%\n",
      " 181411 76991        0.2029     8        0.2050        0.2000  1200189    2.44%           rho_3 D 181411 181410     84\n",
      " 182841 77613        0.2020    11        0.2050        0.2000  1212900    2.44%          rho_14 U 182841 182840     39\n",
      " 184341 78439        cutoff              0.2050        0.2000  1226303    2.44%          rho_25 U 184341 184340     68\n",
      "Elapsed time = 41.05 sec. (79436.27 ticks, tree = 26.44 MB, solutions = 8)\n",
      " 186060 79179        0.2000    10        0.2050        0.2000  1238179    2.44%          rho_12 D 186060 186059     50\n",
      " 187648 79827        0.2018    11        0.2050        0.2000  1249840    2.44%           rho_0 D 187648 187646     60\n",
      " 189248 80505        0.2006    13        0.2050        0.2000  1261831    2.44%           rho_6 D 189248  86190     63\n",
      " 190843 81227        0.2045     3        0.2050        0.2000  1274779    2.44%          rho_16 U 190843 190841     19\n",
      " 192248 82263        0.2000     9        0.2050        0.2000  1288366    2.44%          rho_12 U 192248 192246     64\n",
      " 193580 83026        0.2029     9        0.2050        0.2000  1300342    2.44%          rho_25 D 193580 193579     49\n",
      " 195161 83728        0.2000    10        0.2050        0.2000  1310762    2.44%          rho_12 D 195161 194388     43\n",
      " 196765 84517        0.2049     5        0.2050        0.2000  1321144    2.44%          rho_13 D 196765 196764     66\n",
      " 198480 85221        0.2010     9        0.2050        0.2000  1336203    2.44%          rho_12 D 198480 198479    100\n",
      " 204852 88704        0.2000     9        0.2050        0.2000  1390874    2.44%          rho_12 U 204852 204850     71\n",
      "Elapsed time = 46.34 sec. (91841.00 ticks, tree = 29.36 MB, solutions = 8)\n",
      " 211097 91423        0.2006    10        0.2050        0.2000  1440748    2.44%          rho_23 N 211097 150487     47\n",
      " 217129 93848        cutoff              0.2050        0.2000  1491855    2.44%          rho_18 D 217129 217127     59\n",
      " 223747 96589        cutoff              0.2050        0.2000  1534786    2.44%           rho_6 U 223747 223746     51\n",
      " 230368 99634        cutoff              0.2050        0.2000  1579861    2.44%          rho_14 U 230368 230367     77\n",
      " 236434 101745        0.2006    11        0.2050        0.2000  1623870    2.44%           rho_9 U 236434 110954     35\n",
      " 242479 104863        cutoff              0.2050        0.2000  1673230    2.44%          rho_12 D 242479 242478     45\n",
      " 248609 107439        0.2012    10        0.2050        0.2000  1723255    2.44%          rho_23 U 248609 201007     58\n",
      " 255676 109345        0.2022    13        0.2050        0.2000  1759412    2.44%           rho_3 D 255676 255675     59\n",
      " 261829 112344        0.2020     9        0.2050        0.2000  1809178    2.44%          rho_25 U 261829 261828     69\n",
      " 267966 114875        0.2009    12        0.2050        0.2000  1855573    2.44%           rho_4 U 267966 267687     51\n",
      "Elapsed time = 63.09 sec. (129992.27 ticks, tree = 37.02 MB, solutions = 8)\n",
      " 274361 117322        0.2003    11        0.2050        0.2000  1900094    2.44%           rho_1 D 274361 274360     84\n",
      " 280856 119771        cutoff              0.2050        0.2000  1944619    2.44%           rho_5 U 280856 280854     87\n",
      " 286891 121922        cutoff              0.2050        0.2000  1989804    2.44%          rho_25 D 286891 286889     54\n"
     ]
    },
    {
     "name": "stdout",
     "output_type": "stream",
     "text": [
      " 292480 124130        0.2038     9        0.2050        0.2000  2036412    2.44%          rho_21 D 292480 292479     82\n",
      " 297790 126099        cutoff              0.2050        0.2000  2085715    2.44%           rho_3 D 297790 297789     28\n",
      " 303588 128377        0.2000    11        0.2050        0.2000  2131592    2.44%           rho_0 D 303588 303549     69\n",
      " 309688 130597        0.2000    12        0.2050        0.2000  2173487    2.44%           rho_0 D 309688 309686     38\n",
      " 315348 132904        0.2000    11        0.2050        0.2000  2219312    2.44%          rho_12 U 315348 315346     30\n",
      " 320547 135045        0.2018    15        0.2050        0.2000  2263657    2.44%           rho_2 D 320547 320546     52\n",
      " 326338 137890        0.2046     7        0.2050        0.2000  2310697    2.44%          rho_25 U 326338 326336     76\n",
      "Elapsed time = 80.83 sec. (168142.70 ticks, tree = 46.85 MB, solutions = 8)\n",
      " 331966 140182        0.2000     9        0.2050        0.2000  2357715    2.44%           rho_0 D 331966 331964     65\n",
      " 337451 142701        0.2003    12        0.2050        0.2000  2410349    2.44%           rho_1 D 337451 337450     72\n",
      " 343399 144960        0.2020     9        0.2050        0.2000  2455134    2.44%           rho_0 U 343399 343398     44\n",
      " 349000 146813        0.2041     9        0.2050        0.2000  2499400    2.44%           rho_5 U 349000 348999     55\n",
      " 354400 149191        0.2003    15        0.2050        0.2000  2546306    2.44%           rho_2 D 354400 354399     57\n",
      " 360510 151779        0.2041     7        0.2050        0.2000  2587813    2.44%           rho_0 U 360510 360509     77\n",
      " 366364 154522        cutoff              0.2050        0.2000  2631950    2.44%           rho_0 D 366364 366363     26\n",
      " 371806 157125        cutoff              0.2050        0.2000  2683106    2.44%           rho_0 U 371806 371805     73\n",
      " 377623 159315        0.2000    15        0.2050        0.2000  2725510    2.44%           rho_5 U 377623 157036     25\n",
      " 383390 160876        0.2008     8        0.2050        0.2000  2766841    2.44%           rho_5 U 383390 164273     45\n",
      "Elapsed time = 97.50 sec. (206296.75 ticks, tree = 55.34 MB, solutions = 8)\n",
      " 389060 163256        0.2015    12        0.2050        0.2000  2811211    2.44%           rho_6 U 389060 389058     30\n",
      " 394276 165271        0.2049    13        0.2050        0.2000  2856410    2.44%           rho_0 D 394276 394275     46\n",
      " 400069 167395        0.2044     7        0.2050        0.2000  2900997    2.44%          rho_21 D 400069 400068     97\n",
      " 405870 169438        0.2049     4        0.2050        0.2000  2943913    2.44%          rho_21 D 405870 405869     29\n",
      " 411606 171857        0.2013     8        0.2050        0.2000  2986468    2.44%          rho_25 D 411606 411604     38\n",
      " 416915 173431        0.2028     9        0.2050        0.2000  3028330    2.44%          rho_10 D 416915 416914     48\n",
      " 422349 175483        0.2007    12        0.2050        0.2000  3071074    2.44%           rho_3 D 422349 422348     60\n",
      " 428287 177507        0.2035    17        0.2050        0.2000  3112581    2.44%          rho_12 N 428287  32904     17\n",
      " 434095 179416        0.2026     7        0.2050        0.2000  3153247    2.44%           rho_0 U 434095 434094     25\n",
      " 439458 181696        0.2023    15        0.2050        0.2000  3194546    2.44%           rho_6 N 439458 439457     55\n",
      "Elapsed time = 113.67 sec. (244447.54 ticks, tree = 61.63 MB, solutions = 8)\n",
      " 444933 183797        0.2000    11        0.2050        0.2000  3234093    2.44%           rho_9 D 444933 372312     20\n",
      " 449011 186344        0.2000    14        0.2050        0.2000  3287120    2.44%           rho_0 D 449011 449009     24\n",
      " 454981 188527        0.2012     7        0.2050        0.2000  3330866    2.44%           rho_3 D 454981 454979     69\n",
      " 461344 190949        0.2016    13        0.2050        0.2000  3368971    2.44%           rho_1 D 461344 461343    106\n",
      " 466785 193147        0.2012    17        0.2050        0.2000  3411518    2.44%          rho_11 D 466785 466784     38\n",
      " 471335 195606        0.2000    12        0.2050        0.2000  3460612    2.44%          rho_12 U 471335 471333     55\n",
      " 476990 197745        0.2012    13        0.2050        0.2000  3504313    2.44%           rho_5 D 476990 476989     46\n",
      " 484311 200995        0.2020     7        0.2050        0.2000  3538722    2.44%          rho_10 D 484311 484309     96\n",
      " 489914 203359        cutoff              0.2050        0.2000  3582783    2.44%           rho_8 U 489914 489913     46\n",
      " 495084 204935        0.2031     9        0.2050        0.2000  3626152    2.44%          rho_19 D 495084 495083     99\n",
      "Elapsed time = 130.67 sec. (282598.28 ticks, tree = 70.65 MB, solutions = 8)\n",
      " 500284 206586        0.2020    11        0.2050        0.2000  3670032    2.44%           rho_9 D 500284 500282     25\n",
      " 506031 209248        0.2026    14        0.2050        0.2000  3715638    2.44%           rho_3 N 506031 506022     69\n",
      " 511156 211502        0.2049     7        0.2050        0.2000  3763458    2.44%           rho_3 D 511156 511155     68\n",
      " 516327 213499        0.2012    14        0.2050        0.2000  3806087    2.44%           rho_0 U 516327 516326     57\n",
      " 521709 215228        cutoff              0.2050        0.2000  3848181    2.44%          rho_21 U 521709 521708     28\n",
      " 527252 217142        0.2046    10        0.2050        0.2000  3887061    2.44%           rho_2 U 527252 527250     61\n",
      " 532748 219052        0.2049    13        0.2050        0.2000  3928230    2.44%          rho_17 U 532748 532747     46\n",
      " 538117 220533        0.2000    13        0.2050        0.2000  3970762    2.44%           rho_9 D 538117 538116     58\n",
      " 544314 222948        0.2000    15        0.2050        0.2000  4011911    2.44%          rho_12 D 544314 544313     24\n",
      " 550245 225348        0.2018    12        0.2050        0.2000  4054008    2.44%           rho_9 D 550245 550244     76\n",
      "Elapsed time = 146.47 sec. (320749.97 ticks, tree = 76.81 MB, solutions = 8)\n",
      " 555943 227254        cutoff              0.2050        0.2000  4094723    2.44%           rho_3 D 555943 555942     24\n",
      " 560820 229336        0.2000    12        0.2050        0.2000  4141062    2.44%          rho_12 U 560820 560818     75\n",
      " 566216 232005        0.2000    13        0.2050        0.2000  4180896    2.44%          rho_12 U 566216 566214     55\n",
      " 571571 234691        0.2042     9        0.2050        0.2000  4229173    2.44%           rho_3 U 571571 571570     55\n",
      " 577000 237378        0.2042    11        0.2050        0.2000  4275455    2.44%          rho_11 D 577000 576999     31\n",
      " 582798 238948        0.2024    12        0.2050        0.2000  4314827    2.44%           rho_1 U 582798 582797     20\n",
      " 587861 241288        0.2036    13        0.2050        0.2000  4361584    2.44%           rho_3 U 587861 587860     28\n",
      " 593162 242916        cutoff              0.2050        0.2000  4404147    2.44%           rho_4 U 593162 593161     92\n",
      " 598563 245053        cutoff              0.2050        0.2000  4446379    2.44%          rho_24 U 598563 598562     37\n",
      " 603729 247033        0.2006    13        0.2050        0.2000  4488303    2.44%           rho_5 D 603729 603728     61\n",
      "Elapsed time = 162.41 sec. (358903.13 ticks, tree = 85.82 MB, solutions = 8)\n",
      " 609070 249116        0.2030    17        0.2050        0.2000  4532287    2.44%           rho_4 D 609070 609068     41\n",
      " 614140 251193        0.2045     7        0.2050        0.2000  4575242    2.44%          rho_15 D 614140 614139     50\n",
      " 619600 252704        0.2047     1        0.2050        0.2000  4616225    2.44%          rho_24 U 619600 619599     83\n",
      " 624569 254998        0.2026     7        0.2050        0.2000  4662349    2.44%           rho_0 U 624569 624568     81\n",
      " 630340 257279        0.2006    14        0.2050        0.2000  4703305    2.44%           rho_8 U 630340 630339     35\n",
      " 635293 258955        0.2038     9        0.2050        0.2000  4750840    2.44%           rho_5 D 635293 635291     79\n",
      " 640346 260724        0.2010    16        0.2050        0.2000  4796477    2.44%           rho_4 U 640346 392252     48\n"
     ]
    },
    {
     "name": "stdout",
     "output_type": "stream",
     "text": [
      " 645509 262352        0.2026    12        0.2050        0.2000  4838195    2.44%           rho_9 U 645509 336335     77\n",
      " 650980 264048        0.2050     8        0.2050        0.2000  4874772    2.44%           rho_2 U 650980 650978     54\n",
      " 656560 265631        0.2012    13        0.2050        0.2000  4911777    2.44%           rho_6 D 656560 656558     31\n",
      "Elapsed time = 178.98 sec. (397055.71 ticks, tree = 91.44 MB, solutions = 8)\n",
      " 661952 267562        0.2013    13        0.2050        0.2000  4952333    2.44%           rho_5 D 661952 661950     37\n",
      " 666808 269553        0.2005    14        0.2050        0.2000  4996264    2.44%          rho_11 U 666808 624416     73\n",
      " 671950 271130        0.2037     9        0.2050        0.2000  5037625    2.44%          rho_24 D 671950 671948     42\n",
      " 677084 272476        0.2019     8        0.2050        0.2000  5078872    2.44%           rho_5 N 677084 538870     49\n",
      " 682398 274343        0.2047     8        0.2050        0.2000  5117555    2.44%           rho_5 U 682398 682396     24\n",
      " 687440 276037        0.2014    13        0.2050        0.2000  5155919    2.44%           rho_8 D 687440 687438     57\n",
      " 692491 277769        0.2048     6        0.2050        0.2000  5202037    2.44%          rho_10 U 692491 692490     97\n",
      " 697639 279405        0.2001    14        0.2050        0.2000  5243797    2.44%          rho_11 D 697639 367726     64\n",
      " 702730 281252        0.2045    14        0.2050        0.2000  5285416    2.44%          rho_25 D 702730 702728     90\n",
      " 708394 283330        cutoff              0.2050        0.2000  5323100    2.44%           rho_4 U 708394 708393     62\n",
      "Elapsed time = 194.84 sec. (435211.26 ticks, tree = 99.76 MB, solutions = 8)\n",
      " 713798 286138        0.2003    21        0.2050        0.2000  5365978    2.44%          rho_12 D 713798 713797     74\n",
      " 719323 288557        0.2030    16        0.2050        0.2000  5408657    2.44%           rho_4 D 719323 719321     55\n",
      " 724145 290782        0.2000    15        0.2050        0.2000  5452463    2.44%          rho_12 U 724145 724134     33\n",
      "\n",
      "User cuts applied:  821\n",
      "\n",
      "Root node processing (before b&c):\n",
      "  Real time             =    0.05 sec. (1.21 ticks)\n",
      "Sequential b&c:\n",
      "  Real time             =  199.97 sec. (447419.80 ticks)\n",
      "                          ------------\n",
      "Total (root+branch&cut) =  200.02 sec. (447421.01 ticks)\n",
      "+----------------------------------------------+------------------+-----------+\n",
      "| Pr(Y = +1) = 1.0/(1.0 + exp(-(-7 + score))   |                  |           |\n",
      "| ============================================ | ================ | ========= |\n",
      "| p_charges>=1                                 |         2 points |   + ..... |\n",
      "| p_violence>=1                                |         2 points |   + ..... |\n",
      "| sex                                          |         1 points |   + ..... |\n",
      "| p_arrest>=2                                  |         1 points |   + ..... |\n",
      "| p_arrest>=5                                  |         1 points |   + ..... |\n",
      "| ============================================ | ================ | ========= |\n",
      "| ADD POINTS FROM ROWS 1 to 5                  |            SCORE |   = ..... |\n",
      "+----------------------------------------------+------------------+-----------+\n",
      "model_id, score_thresholds 0 {'rank_abs': [0]}\n",
      "get_disparity_predefined_group()\n",
      "setting c0 = 0.0 to ensure that intercept is not penalized\n",
      "09/11/19 @ 01:01 AM | 1141 rows in lookup table\n",
      "09/11/19 @ 01:01 AM | ------------------------------------------------------------\n",
      "09/11/19 @ 01:01 AM | runnning initialization procedure\n",
      "09/11/19 @ 01:01 AM | ------------------------------------------------------------\n",
      "09/11/19 @ 01:01 AM | CPA produced 2 cuts\n",
      "09/11/19 @ 01:01 AM | running naive rounding on 54 solutions\n",
      "09/11/19 @ 01:01 AM | best objective value: 0.2029\n",
      "09/11/19 @ 01:01 AM | rounding produced 5 integer solutions\n",
      "09/11/19 @ 01:01 AM | best objective value is 0.2062\n",
      "09/11/19 @ 01:01 AM | running sequential rounding on 54 solutions\n",
      "09/11/19 @ 01:01 AM | best objective value: 0.2029\n",
      "09/11/19 @ 01:01 AM | sequential rounding produced 6 integer solutions\n",
      "09/11/19 @ 01:01 AM | best objective value: 0.2054\n",
      "09/11/19 @ 01:01 AM | polishing 11 solutions\n",
      "09/11/19 @ 01:01 AM | best objective value: 0.2054\n",
      "09/11/19 @ 01:01 AM | polishing produced 4 integer solutions\n",
      "09/11/19 @ 01:01 AM | initialization produced 11 feasible solutions\n",
      "09/11/19 @ 01:01 AM | best objective value: 0.2054\n",
      "09/11/19 @ 01:01 AM | ------------------------------------------------------------\n",
      "09/11/19 @ 01:01 AM | completed initialization procedure\n",
      "09/11/19 @ 01:01 AM | ------------------------------------------------------------\n",
      "09/11/19 @ 01:01 AM | 1141 rows in lookup table\n",
      "CPXPARAM_Read_DataCheck                          1\n",
      "CPXPARAM_Threads                                 1\n",
      "CPXPARAM_Parallel                                1\n",
      "CPXPARAM_RandomSeed                              0\n",
      "CPXPARAM_TimeLimit                               200\n",
      "CPXPARAM_MIP_Tolerances_LowerCutoff              0.20010935604886915\n",
      "CPXPARAM_MIP_Tolerances_UpperCutoff              0.20537323606579613\n"
     ]
    },
    {
     "name": "stderr",
     "output_type": "stream",
     "text": [
      "Warning: Control callbacks may disable some MIP features.\n"
     ]
    },
    {
     "name": "stdout",
     "output_type": "stream",
     "text": [
      "Lazy constraint(s) or lazy constraint callback is present.\n",
      "    Disabling dual reductions (CPX_PARAM_REDUCE) in presolve.\n",
      "    Disabling non-linear reductions (CPX_PARAM_PRELINEAR) in presolve.\n",
      "         Disabling repeat represolve because of lazy constraint/incumbent callback.\n",
      "09/11/19 @ 01:01 AM | adding 250 initial cuts\n",
      "1 of 1 MIP starts provided solutions.\n",
      "MIP start 'mip_start_0' defined initial solution with objective 0.2054.\n",
      "Tried aggregator 1 time.\n",
      "Reduced MIP has 28 rows, 56 columns, and 107 nonzeros.\n",
      "Reduced MIP has 26 binaries, 28 generals, 0 SOSs, and 0 indicators.\n",
      "Presolve time = 0.00 sec. (0.06 ticks)\n",
      "Probing time = 0.00 sec. (0.02 ticks)\n",
      "MIP emphasis: balance optimality and feasibility.\n",
      "MIP search method: traditional branch-and-cut.\n",
      "Parallel mode: none, using 1 thread.\n",
      "Root relaxation solution time = 0.02 sec. (0.04 ticks)\n",
      "\n",
      "        Nodes                                         Cuts/\n",
      "   Node  Left     Objective  IInf  Best Integer    Best Bound    ItCnt     Gap         Variable B NodeID Parent  Depth\n",
      "\n",
      "*     0+    0                            0.2054        0.2001             2.57%\n",
      "      0     0        0.2001     1        0.2054        0.2001        1    2.56%\n",
      "      0     2        0.2001     1        0.2054        0.2001        1    2.56%                        0             0\n",
      "Elapsed time = 0.05 sec. (1.14 ticks, tree = 0.01 MB, solutions = 1)\n",
      "   2499  1258        cutoff              0.2054        0.2001     8923    2.56%           rho_4 U   2499   2498     28\n",
      "   4340  2062        0.2041     1        0.2054        0.2001    15318    2.56%          rho_19 U   4340   4339     72\n",
      "   5965  2801        0.2019     6        0.2054        0.2001    21462    2.56%          rho_23 D   5965   5964     16\n",
      "   6981  3239        0.2007     5        0.2054        0.2001    26853    2.56%           rho_6 D   6981   6980     27\n",
      "   7954  3515        0.2023     5        0.2054        0.2001    32179    2.56%           rho_7 U   7954   7952     48\n",
      "   8928  3976        0.2001     4        0.2054        0.2001    37630    2.56%          rho_12 U   8928   8926     68\n",
      "   9840  4402        0.2023     9        0.2054        0.2001    43388    2.56%          rho_17 D   9840   9839     86\n",
      "  10873  4873        0.2029     7        0.2054        0.2001    48932    2.56%          rho_17 U  10873  10871     87\n",
      "  11980  5378        cutoff              0.2054        0.2001    54675    2.56%          rho_12 D  11980  11979     38\n",
      "  16677  7059        0.2001     1        0.2054        0.2001    75290    2.56%          rho_12 U  16677  16675     35\n",
      "Elapsed time = 2.89 sec. (3101.81 ticks, tree = 1.94 MB, solutions = 1)\n",
      "  21642  9544        0.2020     6        0.2054        0.2001    96124    2.56%           rho_1 D  21642  21641     55\n",
      "  25814 11465        0.2001    11        0.2054        0.2001   115781    2.56%           rho_2 D  25814  25813     32\n",
      "  29296 13063        0.2001     4        0.2054        0.2001   132954    2.56%           rho_0 D  29296  29294     51\n",
      "  32799 14623        0.2019    10        0.2054        0.2001   151138    2.56%           rho_5 D  32799  32798     58\n",
      "  36208 15873        0.2020    11        0.2054        0.2001   169759    2.56%          rho_17 N  36208  36207     73\n",
      "  39245 17358        0.2001    12        0.2054        0.2001   185851    2.56%           rho_0 D  39245  39243     45\n",
      "  41990 18989        0.2003    13        0.2054        0.2001   199351    2.56%          rho_12 U  41990  41988     70\n",
      "  44923 20120        0.2032     7        0.2054        0.2001   214657    2.56%          rho_19 D  44923  44921     48\n",
      "  47644 21061        0.2036     7        0.2054        0.2001   229224    2.56%          rho_15 D  47644  47643     47\n",
      "  50216 21946        0.2020     6        0.2054        0.2001   245706    2.56%           rho_6 D  50216  50214     27\n",
      "Elapsed time = 8.69 sec. (12640.46 ticks, tree = 6.65 MB, solutions = 1)\n",
      "  52910 23135        0.2010    10        0.2054        0.2001   260383    2.56%          rho_12 D  52910  52642     56\n",
      "  55380 24291        cutoff              0.2054        0.2001   275184    2.56%          rho_14 U  55380  37264    106\n",
      "  57753 25366        0.2022    15        0.2054        0.2001   291171    2.56%          rho_12 D  57753  57752     55\n",
      "  60330 26319        0.2035    13        0.2054        0.2001   303557    2.56%           rho_0 D  60330  60329     70\n",
      "  62970 27113        0.2021     8        0.2054        0.2001   314340    2.56%           rho_4 N  62970  62968     53\n",
      "  65665 27979        0.2042     5        0.2054        0.2001   325867    2.56%           rho_6 D  65665  65663     33\n",
      "  68188 28899        0.2001     6        0.2054        0.2001   338769    2.56%           rho_0 D  68188  68187     82\n",
      "  70679 29722        cutoff              0.2054        0.2001   351263    2.56%          rho_25 U  70679  70678     64\n",
      "  72748 30603        0.2021    12        0.2054        0.2001   366570    2.56%          rho_10 D  72748  72746     92\n",
      "  75020 31484        0.2008    14        0.2054        0.2001   380129    2.56%           rho_1 D  75020  75019     95\n",
      "Elapsed time = 13.61 sec. (22180.97 ticks, tree = 9.20 MB, solutions = 1)\n",
      "  77253 32323        cutoff              0.2054        0.2001   394064    2.56%          rho_21 U  77253  77251     62\n",
      "  79530 33130        0.2016     9        0.2054        0.2001   407096    2.56%          rho_16 D  79530  79529     72\n",
      "  82030 34075        0.2008    11        0.2054        0.2001   419250    2.56%           rho_0 D  82030  82028     57\n",
      "  84521 35014        0.2051     5        0.2054        0.2001   432484    2.56%           rho_0 U  84521  84520     50\n",
      "  86841 36115        0.2001    11        0.2054        0.2001   446188    2.56%          rho_12 D  86841  86803     84\n",
      "  89217 37061        0.2011     7        0.2054        0.2001   458639    2.56%           rho_6 D  89217  89216     96\n",
      "  91649 38076        cutoff              0.2054        0.2001   470048    2.56%          rho_11 D  91649  91647     51\n",
      "  94036 38931        0.2033     5        0.2054        0.2001   481389    2.56%          rho_11 D  94036  94035     19\n",
      "  96217 39646        cutoff              0.2054        0.2001   496126    2.56%          rho_16 U  96217  96216     63\n",
      "  98470 40535        0.2004     3        0.2054        0.2001   508342    2.56%           rho_0 D  98470  98469     95\n",
      "Elapsed time = 18.41 sec. (31719.97 ticks, tree = 13.02 MB, solutions = 1)\n",
      " 100720 41708        0.2029    12        0.2054        0.2001   522428    2.56%          rho_16 D 100720 100719     97\n",
      " 102516 42494        0.2003    17        0.2054        0.2001   538603    2.56%           rho_4 D 102516 102515     54\n",
      " 104551 43219        cutoff              0.2054        0.2001   552380    2.56%          rho_11 U 104551 104550     66\n",
      " 106897 43897        0.2025     8        0.2054        0.2001   563114    2.56%           rho_5 D 106897 106896     76\n",
      " 109164 44531        0.2037     5        0.2054        0.2001   573800    2.56%          rho_22 D 109164 109162     90\n",
      " 111182 45516        0.2010    12        0.2054        0.2001   587109    2.56%           rho_7 U 111182 111180     58\n",
      " 113318 46389        0.2019    13        0.2054        0.2001   599682    2.56%          rho_25 D 113318 113317     91\n",
      " 115456 46944        0.2030     7        0.2054        0.2001   610299    2.56%           rho_1 D 115456 115455    100\n",
      " 117540 47825        0.2029     6        0.2054        0.2001   621827    2.56%           rho_0 D 117540 117539     64\n",
      " 119355 48643        0.2001     7        0.2054        0.2001   636827    2.56%          rho_12 U 119355 119353     72\n",
      "Elapsed time = 23.05 sec. (41259.73 ticks, tree = 15.28 MB, solutions = 1)\n",
      " 120778 49493        0.2004    14        0.2054        0.2001   655139    2.56%          rho_12 D 120778 120777     74\n",
      " 122479 50174        cutoff              0.2054        0.2001   670017    2.56%           rho_2 U 122479 122478     79\n",
      " 124395 51158        0.2001    11        0.2054        0.2001   683872    2.56%          rho_12 D 124395 124394     39\n",
      " 126644 52412        0.2002    12        0.2054        0.2001   696604    2.56%           rho_1 N 126644 126643     58\n"
     ]
    },
    {
     "name": "stdout",
     "output_type": "stream",
     "text": [
      " 128454 53468        cutoff              0.2054        0.2001   706441    2.56%          rho_16 D 128454 128453     25\n",
      " 130268 54232        0.2001     8        0.2054        0.2001   717941    2.56%           rho_0 D 130268 130266     72\n",
      " 132470 55201        0.2001     5        0.2054        0.2001   732754    2.56%          rho_12 U 132470 131761     27\n",
      " 134400 56439        0.2024    10        0.2054        0.2001   744135    2.56%          rho_19 D 134400 134398     55\n",
      " 136246 57464        0.2024    13        0.2054        0.2001   754352    2.56%          rho_10 D 136246 136244     63\n",
      " 138030 58169        0.2001     8        0.2054        0.2001   767297    2.56%           rho_0 D 138030 138028     87\n",
      "Elapsed time = 27.53 sec. (50802.33 ticks, tree = 17.95 MB, solutions = 1)\n",
      " 140150 59253        0.2001     9        0.2054        0.2001   783858    2.56%          rho_12 D 140150 140149     41\n",
      " 142000 60222        0.2001     3        0.2054        0.2001   794184    2.56%          rho_12 U 142000 141998     79\n",
      " 143803 61041        0.2002    13        0.2054        0.2001   805557    2.56%          rho_12 D 143803 143802     50\n",
      " 145926 62083        0.2001     4        0.2054        0.2001   820498    2.56%          rho_12 U 145926 145924     50\n",
      " 147956 63000        0.2001    10        0.2054        0.2001   834105    2.56%           rho_0 D 147956 147955     40\n",
      " 149752 63737        0.2018     9        0.2054        0.2001   848959    2.56%          rho_25 D 149752 149750     64\n",
      " 151492 64530        0.2001     9        0.2054        0.2001   864082    2.56%           rho_0 D 151492 151490     43\n",
      " 153207 65225        0.2025     7        0.2054        0.2001   878369    2.56%          rho_16 U 153207 153205     62\n",
      " 155210 66037        0.2001     4        0.2054        0.2001   891340    2.56%           rho_7 U 155210 154814     79\n",
      " 157190 66919        0.2001     8        0.2054        0.2001   904169    2.56%           rho_0 D 157190 157188     89\n",
      "Elapsed time = 32.22 sec. (60346.59 ticks, tree = 23.27 MB, solutions = 1)\n",
      " 159245 67878        0.2005    10        0.2054        0.2001   916817    2.56%           rho_7 U 159245 159243     57\n",
      " 161193 68892        0.2020    12        0.2054        0.2001   930453    2.56%           rho_1 D 161193 161192     55\n",
      " 162581 69254        0.2027    12        0.2054        0.2001   946206    2.56%          rho_16 D 162581 162580     70\n",
      " 163918 69606        0.2003    17        0.2054        0.2001   961181    2.56%           rho_4 D 163918 100781     60\n",
      " 165679 70303        0.2003    12        0.2054        0.2001   974224    2.56%          rho_12 D 165679 165678     86\n",
      " 167411 71086        0.2001     4        0.2054        0.2001   986652    2.56%          rho_12 U 167411 167409     79\n",
      " 169276 71810        0.2052    10        0.2054        0.2001   998287    2.56%          rho_12 U 169276 169274     27\n",
      " 171005 72799        0.2003    13        0.2054        0.2001  1011709    2.56%           rho_0 U 171005 171004     46\n",
      " 172525 73918        0.2001    14        0.2054        0.2001  1025621    2.56%           rho_5 D 172525 172524     76\n",
      " 173934 74938        0.2016    11        0.2054        0.2001  1038796    2.56%           rho_0 U 173934 173933     39\n",
      "Elapsed time = 36.88 sec. (69887.26 ticks, tree = 25.52 MB, solutions = 1)\n",
      " 175503 75752        0.2007    11        0.2054        0.2001  1050217    2.56%           rho_8 U 175503 175502     43\n",
      " 177060 76560        0.2047     3        0.2054        0.2001  1061469    2.56%          rho_21 D 177060 177058     70\n",
      " 178720 77338        0.2027    13        0.2054        0.2001  1072196    2.56%           rho_4 D 178720 178718     64\n",
      " 180370 78095        0.2001    13        0.2054        0.2001  1082792    2.56%           rho_8 D 180370 180272     64\n",
      " 182300 78961        0.2007    11        0.2054        0.2001  1095467    2.56%           rho_5 D 182300 182298     88\n",
      " 184400 79991        0.2017     8        0.2054        0.2001  1109167    2.56%          rho_16 D 184400 184399     60\n",
      " 186494 80965        0.2047     7        0.2054        0.2001  1122490    2.56%          rho_25 D 186494 186493     54\n",
      " 188343 81891        cutoff              0.2054        0.2001  1135402    2.56%          rho_23 U 188343 188342     58\n",
      " 190344 82771        0.2049     6        0.2054        0.2001  1147475    2.56%          rho_11 D 190344 190343     23\n",
      " 192220 83515        0.2018     7        0.2054        0.2001  1160026    2.56%          rho_11 U 192220 192219     75\n",
      "Elapsed time = 41.14 sec. (79430.34 ticks, tree = 27.90 MB, solutions = 1)\n",
      " 194009 84453        cutoff              0.2054        0.2001  1174184    2.56%           rho_9 U 194009 194008     60\n",
      " 195723 85145        0.2001    14        0.2054        0.2001  1188040    2.56%          rho_12 D 195723 195722     73\n",
      " 197501 85896        cutoff              0.2054        0.2001  1201535    2.56%          rho_11 U 197501 197500     73\n",
      " 199198 86561        0.2001    10        0.2054        0.2001  1215288    2.56%           rho_7 D 199198 158743     15\n",
      " 201073 87358        0.2005    12        0.2054        0.2001  1228258    2.56%          rho_12 N 201073 201022     52\n",
      " 202707 87902        0.2001    14        0.2054        0.2001  1241103    2.56%           rho_4 D 202707 202706     79\n",
      " 204569 88580        0.2053     5        0.2054        0.2001  1252868    2.56%          rho_17 D 204569 204568     66\n",
      " 206350 89349        0.2038    12        0.2054        0.2001  1264823    2.56%           rho_0 D 206350 206348     79\n",
      " 208007 89989        0.2022     7        0.2054        0.2001  1277634    2.56%          rho_17 D 208007 208006     91\n",
      " 215043 93096        0.2001    11        0.2054        0.2001  1324818    2.56%           rho_4 D 215043 215042     32\n",
      "Elapsed time = 47.26 sec. (91833.59 ticks, tree = 30.66 MB, solutions = 1)\n",
      " 222470 96176        0.2002    15        0.2054        0.2001  1373632    2.56%          rho_17 D 222470  72840     76\n",
      " 229876 99255        0.2005    12        0.2054        0.2001  1414167    2.56%          rho_17 U 229876 140703     88\n",
      " 236857 101562        cutoff              0.2054        0.2001  1454944    2.56%          rho_19 U 236857 236856     65\n",
      " 243834 104630        cutoff              0.2054        0.2001  1501364    2.56%           rho_3 U 243834   6924     18\n",
      " 250000 107897        0.2019    10        0.2054        0.2001  1552418    2.56%           rho_1 N 250000 233078     52\n",
      " 256777 110106        0.2037     8        0.2054        0.2001  1602275    2.56%          rho_16 U 256777 256776     77\n",
      " 263390 113172        0.2030    13        0.2054        0.2001  1653106    2.56%          rho_11 D 263390 263388     49\n",
      " 270139 116315        0.2001    12        0.2054        0.2001  1705161    2.56%           rho_5 U 270139 118063     88\n",
      " 276695 119521        0.2001     9        0.2054        0.2001  1750020    2.56%           rho_0 D 276695 276694     43\n",
      " 283442 122900        0.2015     9        0.2054        0.2001  1798266    2.56%          rho_12 D 283442 282863     60\n",
      "Elapsed time = 63.66 sec. (129989.12 ticks, tree = 39.45 MB, solutions = 1)\n",
      " 289136 125757        0.2023    13        0.2054        0.2001  1846846    2.56%           rho_4 D 289136 289134     66\n",
      " 296386 129057        0.2022    15        0.2054        0.2001  1893618    2.56%          rho_10 U 296386 296385     55\n",
      " 303030 132275        0.2040    14        0.2054        0.2001  1940589    2.56%          rho_16 D 303030 303029     89\n",
      " 310342 135297        0.2029    14        0.2054        0.2001  1978326    2.56%           rho_9 D 310342 310340     63\n",
      " 316938 137653        cutoff              0.2054        0.2001  2024031    2.56%          rho_19 D 316938 316936     81\n",
      " 323170 140126        0.2001     8        0.2054        0.2001  2069615    2.56%           rho_0 D 323170 323168     64\n",
      " 329510 142428        0.2036     5        0.2054        0.2001  2114023    2.56%           rho_2 U 329510 329509     75\n",
      " 335978 145298        0.2005    14        0.2054        0.2001  2157076    2.56%          rho_16 D 335978 335977     72\n"
     ]
    },
    {
     "name": "stdout",
     "output_type": "stream",
     "text": [
      " 342627 147838        0.2032    10        0.2054        0.2001  2199422    2.56%          rho_24 U 342627 342524     84\n",
      " 349743 150825        cutoff              0.2054        0.2001  2239627    2.56%          rho_21 D 349743 349742     64\n",
      "Elapsed time = 80.55 sec. (168141.27 ticks, tree = 50.58 MB, solutions = 1)\n",
      " 355361 152961        0.2002    15        0.2054        0.2001  2286456    2.56%          rho_23 D 355361 243747     34\n",
      " 361573 155462        0.2001    15        0.2054        0.2001  2331770    2.56%          rho_12 D 361573 361572     66\n",
      " 367721 157946        0.2029    15        0.2054        0.2001  2376686    2.56%           rho_6 D 367721 367720     77\n",
      " 373830 159968        0.2009    12        0.2054        0.2001  2419098    2.56%          rho_23 U 373830 373783     59\n",
      " 380031 162305        0.2009    16        0.2054        0.2001  2463179    2.56%           rho_0 D 380031 380029     14\n",
      " 386580 165283        0.2042     1        0.2054        0.2001  2507766    2.56%          rho_16 D 386580 386579    101\n",
      " 392382 168285        cutoff              0.2054        0.2001  2551394    2.56%           rho_0 U 392382 392381     30\n",
      " 398603 170591        0.2002    17        0.2054        0.2001  2592987    2.56%          rho_23 D 398603 398448     62\n",
      " 404667 172754        0.2040     9        0.2054        0.2001  2638398    2.56%          rho_19 D 404667 404665     88\n",
      " 410565 175214        0.2001    12        0.2054        0.2001  2687820    2.56%           rho_0 U 410565 410564     51\n",
      "Elapsed time = 96.48 sec. (206295.79 ticks, tree = 59.52 MB, solutions = 1)\n",
      " 416800 178346        0.2011    11        0.2054        0.2001  2733361    2.56%          rho_24 D 416800 416799     39\n",
      " 423541 180980        0.2001     8        0.2054        0.2001  2775008    2.56%          rho_12 U 423541 423539     57\n",
      " 430440 183360        0.2021     7        0.2054        0.2001  2812524    2.56%          rho_10 D 430440 430438     65\n",
      " 436610 186050        0.2001    13        0.2054        0.2001  2855829    2.56%          rho_12 D 436610 436609     46\n",
      " 442810 188310        0.2013    11        0.2054        0.2001  2896011    2.56%          rho_16 D 442810 442809     80\n",
      " 448714 190174        0.2013    17        0.2054        0.2001  2937787    2.56%          rho_17 D 448714 448713     21\n",
      " 454572 191905        0.2053    11        0.2054        0.2001  2979617    2.56%           rho_0 U 454572 454570     65\n",
      " 460400 193727        0.2001     9        0.2054        0.2001  3023483    2.56%           rho_0 D 460400 460398     48\n",
      " 465872 195986        cutoff              0.2054        0.2001  3076548    2.56%           rho_0 U 465872 464895     59\n",
      " 472629 198781        0.2011    11        0.2054        0.2001  3121534    2.56%           rho_1 D 472629 472627     60\n",
      "Elapsed time = 111.97 sec. (244449.74 ticks, tree = 68.56 MB, solutions = 1)\n",
      " 480180 201820        0.2011    11        0.2054        0.2001  3158636    2.56%           rho_1 D 480180 480178     54\n",
      " 486830 204454        0.2032    12        0.2054        0.2001  3202872    2.56%           rho_1 D 486830 486829     46\n",
      " 493706 206856        0.2045    11        0.2054        0.2001  3244911    2.56%           rho_3 D 493706 493705     52\n",
      " 499784 209994        0.2009    12        0.2054        0.2001  3292105    2.56%           rho_6 U 499784 499774     47\n",
      " 506567 212770        0.2009    14        0.2054        0.2001  3333414    2.56%           rho_6 D 506567 506566     42\n",
      " 513131 215347        0.2001     9        0.2054        0.2001  3376226    2.56%          rho_12 U 513131 513129     48\n",
      " 519280 218035        0.2015    13        0.2054        0.2001  3421609    2.56%           rho_9 U 519280 519279     76\n",
      " 525200 220466        0.2027    11        0.2054        0.2001  3467015    2.56%          rho_16 U 525200 525199     69\n",
      " 531766 223174        0.2008    10        0.2054        0.2001  3508097    2.56%           rho_3 D 531766 531765     52\n",
      " 538855 225894        cutoff              0.2054        0.2001  3549582    2.56%           rho_0 U 538855 538854     47\n",
      "Elapsed time = 131.73 sec. (282604.93 ticks, tree = 76.67 MB, solutions = 1)\n",
      " 544965 228488        0.2048     5        0.2054        0.2001  3597516    2.56%          rho_17 D 544965 544964     61\n",
      " 551460 231345        0.2035     2        0.2054        0.2001  3641906    2.56%           rho_2 U 551460 551443     44\n",
      " 557379 233555        0.2002    14        0.2054        0.2001  3683823    2.56%           rho_1 D 557379 557378     49\n",
      " 563018 235912        0.2001    15        0.2054        0.2001  3727854    2.56%           rho_5 D 563018 563017     66\n",
      " 568763 238568        0.2043     5        0.2054        0.2001  3778419    2.56%          rho_15 D 568763 568762     94\n",
      " 574443 241002        0.2030    14        0.2054        0.2001  3824533    2.56%           rho_1 D 574443 574442     87\n",
      " 579881 243033        0.2001    11        0.2054        0.2001  3868613    2.56%          rho_12 U 579881 579862     65\n",
      " 586181 245392        0.2019    13        0.2054        0.2001  3910476    2.56%          rho_16 U 586181 586180     79\n",
      " 592000 247789        0.2029    12        0.2054        0.2001  3960826    2.56%          rho_16 D 592000 591998     72\n",
      " 598104 250032        0.2012    12        0.2054        0.2001  4007146    2.56%           rho_1 D 598104 598103     86\n",
      "Elapsed time = 154.01 sec. (320759.67 ticks, tree = 86.43 MB, solutions = 1)\n",
      " 604127 252207        0.2044    11        0.2054        0.2001  4053045    2.56%          rho_11 D 604127 604125     63\n",
      " 609921 254512        0.2017     8        0.2054        0.2001  4101564    2.56%           rho_6 U 609921 609920     44\n",
      " 616337 256899        cutoff              0.2054        0.2001  4145368    2.56%          rho_15 U 616337 616336     59\n",
      " 622828 258628        0.2038     8        0.2054        0.2001  4183183    2.56%          rho_12 D 622828 622826     34\n",
      " 628742 261219        0.2027     6        0.2054        0.2001  4225679    2.56%           rho_2 D 628742 628741     60\n",
      " 634345 263483        0.2053     4        0.2054        0.2001  4271934    2.56%          rho_16 D 634345 634344     79\n",
      " 639948 266287        0.2024    16        0.2054        0.2001  4319722    2.56%           rho_4 U 639948 356645     90\n",
      " 645047 268772        0.2012    16        0.2054        0.2001  4365444    2.56%           rho_6 U 645047 172464     53\n",
      " 650874 271104        0.2005    14        0.2054        0.2001  4407641    2.56%           rho_4 D 650874 323211     86\n",
      " 657603 273725        cutoff              0.2054        0.2001  4452803    2.56%          rho_11 U 657603 657602     83\n",
      "Elapsed time = 172.86 sec. (358909.12 ticks, tree = 96.45 MB, solutions = 1)\n",
      " 663786 275906        0.2028    13        0.2054        0.2001  4494171    2.56%          rho_16 D 663786 663785     58\n",
      " 669349 277874        0.2017    15        0.2054        0.2001  4538221    2.56%           rho_2 D 669349 669348     89\n",
      " 674607 279905        0.2001    15        0.2054        0.2001  4585589    2.56%          rho_12 D 674607 674396     60\n",
      " 680026 282417        0.2048     5        0.2054        0.2001  4632962    2.56%           rho_0 U 680026 680025     74\n",
      " 685270 284944        cutoff              0.2054        0.2001  4682882    2.56%           rho_0 U 685270 685201     61\n",
      " 690459 287289        0.2001    11        0.2054        0.2001  4725617    2.56%          rho_12 U 690459 690458     26\n",
      " 695752 289799        0.2026    15        0.2054        0.2001  4768832    2.56%           rho_0 U 695752 695751     77\n",
      " 701247 292287        0.2002    12        0.2054        0.2001  4814034    2.56%          rho_12 D 701247 701246     42\n",
      " 706470 294683        0.2039     8        0.2054        0.2001  4858634    2.56%          rho_12 D 706470 706469     18\n",
      " 712272 297009        cutoff              0.2054        0.2001  4898247    2.56%          rho_14 U 712272 712271     31\n",
      "Elapsed time = 189.22 sec. (397059.18 ticks, tree = 103.39 MB, solutions = 1)\n",
      " 717904 299405        0.2042     9        0.2054        0.2001  4941942    2.56%          rho_16 D 717904 717903     73\n"
     ]
    },
    {
     "name": "stdout",
     "output_type": "stream",
     "text": [
      " 723304 301696        0.2036    10        0.2054        0.2001  4986395    2.56%           rho_0 U 723304 723303     69\n",
      " 728800 303929        0.2033    10        0.2054        0.2001  5027220    2.56%           rho_4 U 728800 728799     42\n",
      " 734221 306053        0.2007    11        0.2054        0.2001  5068440    2.56%           rho_8 U 734221 734220     83\n",
      " 739615 308375        0.2007    17        0.2054        0.2001  5109940    2.56%           rho_0 D 739615 265539     52\n",
      " 745042 310821        cutoff              0.2054        0.2001  5153033    2.56%          rho_11 U 745042 745041     47\n",
      "\n",
      "User cuts applied:  822\n",
      "\n",
      "Root node processing (before b&c):\n",
      "  Real time             =    0.05 sec. (1.20 ticks)\n",
      "Sequential b&c:\n",
      "  Real time             =  199.97 sec. (423199.92 ticks)\n",
      "                          ------------\n",
      "Total (root+branch&cut) =  200.01 sec. (423201.12 ticks)\n",
      "+-----------------------------------------------+-------------------+-----------+\n",
      "| Pr(Y = +1) = 1.0/(1.0 + exp(-(-45 + score))   |                   |           |\n",
      "| ============================================= | ================= | ========= |\n",
      "| p_arrest>=1                                   |         20 points |   + ..... |\n",
      "| p_charges>=1                                  |         20 points |   + ..... |\n",
      "| p_violence>=1                                 |          2 points |   + ..... |\n",
      "| sex                                           |          1 points |   + ..... |\n",
      "| p_arrest>=2                                   |          1 points |   + ..... |\n",
      "| p_arrest>=5                                   |          1 points |   + ..... |\n",
      "| ============================================= | ================= | ========= |\n",
      "| ADD POINTS FROM ROWS 1 to 6                   |             SCORE |   = ..... |\n",
      "+-----------------------------------------------+-------------------+-----------+\n",
      "model_id, score_thresholds 0 {'rank_abs': [0]}\n",
      "get_disparity_predefined_group()\n"
     ]
    }
   ],
   "source": [
    "riskslim_summary = slim.risk_cv(X=sub_X, \n",
    "                                Y=sub_Y, \n",
    "                                indicator = indicator,\n",
    "                                y_label='recid_violent2', \n",
    "                                max_coef=20, \n",
    "                                max_coef_number=10, \n",
    "                                max_runtime=200, \n",
    "                                c=1e-6, \n",
    "                                seed=816)"
   ]
  },
  {
   "cell_type": "code",
   "execution_count": 44,
   "metadata": {},
   "outputs": [
    {
     "data": {
      "text/plain": [
       "(0.8007995805356295, 0.8007873753407889)"
      ]
     },
     "execution_count": 44,
     "metadata": {},
     "output_type": "execute_result"
    }
   ],
   "source": [
    "np.mean(riskslim_summary['train_auc']), np.mean(riskslim_summary['test_auc'])"
   ]
  },
  {
   "cell_type": "markdown",
   "metadata": {},
   "source": [
    "### Arnold PSA"
   ]
  },
  {
   "cell_type": "code",
   "execution_count": 45,
   "metadata": {},
   "outputs": [],
   "source": [
    "### load data\n",
    "data = pd.read_csv(\"~/Documents/Duke/Cynthia Research/KY-analysis-mytrials/KY Recidivism/KY data/kentucky_data.csv\")\n",
    "X_arnold_raw = data['pvf_risk_score_raw'].values\n",
    "X_arnold_calc = data['pvf_calc'].values\n",
    "Y_arnold = data['recid_violence_two_year'].values"
   ]
  },
  {
   "cell_type": "code",
   "execution_count": 46,
   "metadata": {},
   "outputs": [],
   "source": [
    "## set up cross validation\n",
    "cv = KFold(n_splits=5,shuffle=True,random_state=816)\n",
    "raw_auc = []\n",
    "calc_auc = []\n",
    "\n",
    "## raw score\n",
    "i = 1\n",
    "for train, test in cv.split(X_arnold_raw, Y_arnold):\n",
    "    y_pred_raw, y_pred_calc, y_test = X_arnold_raw[test], X_arnold_calc[test], Y_arnold[test]\n",
    "    raw_auc.append(roc_auc_score(y_test, y_pred_raw))\n",
    "    calc_auc.append(roc_auc_score(y_test, y_pred_calc))\n",
    "    i+=1 "
   ]
  },
  {
   "cell_type": "markdown",
   "metadata": {},
   "source": [
    "### Results"
   ]
  },
  {
   "cell_type": "code",
   "execution_count": 47,
   "metadata": {},
   "outputs": [
    {
     "name": "stdout",
     "output_type": "stream",
     "text": [
      "Stored 'summary_general2_KY_interpret' (dict)\n"
     ]
    }
   ],
   "source": [
    "#### save results\n",
    "summary_general2_KY_interpret = {\"CART\": cart_summary,\n",
    "                                   \"EBM\": ebm_summary, \n",
    "                                   'Lasso Stumps': stump_summary, \n",
    "                                   'RiskSLIM': riskslim_summary, \n",
    "                                   'Arnold PSA Raw': raw_auc, \n",
    "                                   'Arnold PSA': calc_auc}\n",
    "%store summary_general2_KY_interpret"
   ]
  },
  {
   "cell_type": "code",
   "execution_count": 48,
   "metadata": {},
   "outputs": [
    {
     "data": {
      "text/plain": [
       "[['CART', 0.8134264048091857, 0.02058333261467682],\n",
       " ['EBM', 0.8202005756793845, 0.004299970992083813],\n",
       " ['Lasso Stumps', 0.8161970524355169, 0.0006430605673888312],\n",
       " ['RiskSLIM', 0.8007873753407889],\n",
       " ['Arnold PSA Raw', 0.797],\n",
       " ['Arnold PSA', 0.796]]"
      ]
     },
     "execution_count": 48,
     "metadata": {},
     "output_type": "execute_result"
    }
   ],
   "source": [
    "results = [[\"CART\", np.mean(cart_summary['holdout_test_auc']), np.mean(cart_summary['auc_diffs'])],\n",
    "           [\"EBM\", np.mean(ebm_summary['holdout_test_auc']), np.mean(ebm_summary['auc_diffs'])], \n",
    "           [\"Lasso Stumps\", np.mean(stump_summary['holdout_test_auc']), np.mean(stump_summary['auc_diffs'])],\n",
    "           ['RiskSLIM', np.mean(riskslim_summary['test_auc'])],\n",
    "           ['Arnold PSA Raw', round(np.mean(raw_auc), 3)], \n",
    "           ['Arnold PSA', round(np.mean(calc_auc), 3)]]\n",
    "results"
   ]
  },
  {
   "cell_type": "code",
   "execution_count": 49,
   "metadata": {},
   "outputs": [],
   "source": [
    "auc = [np.mean(cart_summary['holdout_test_auc']), \n",
    "       np.mean(ebm_summary['holdout_test_auc']), \n",
    "       np.mean(stump_summary['holdout_test_auc']), \n",
    "       np.mean(riskslim_summary['test_auc'])]"
   ]
  },
  {
   "cell_type": "code",
   "execution_count": 50,
   "metadata": {},
   "outputs": [],
   "source": [
    "path = \"C:/Users/binha/Documents/Duke/Cynthia Research/KY-analysis-mytrials/KY Recidivism/KY Results/Models/Two Year/\"\n",
    "results = [[\"Violent\", np.str((round(np.mean(cart_summary['holdout_test_auc']), 3))) + \" (\" + np.str(round(np.std(cart_summary['holdout_test_auc']), 3)) + \")\", \n",
    "            np.str(round(np.mean(ebm_summary['holdout_test_auc']),3)) + \" (\" + np.str(round(np.std(ebm_summary['holdout_test_auc']), 3)) + \")\", \n",
    "            np.str(round(np.mean(stump_summary['holdout_test_auc']),3)) + \" (\" + np.str(round(np.std(stump_summary['holdout_test_auc']), 3)) + \")\",             \n",
    "            np.str(round(np.mean(riskslim_summary['test_auc']),3)) + \" (\" + np.str(round(np.std(riskslim_summary['test_auc']), 3)) + \")\", \n",
    "            round(np.max(auc) - np.min(auc), 3),\n",
    "            np.str(round(np.mean(raw_auc), 3)) + \" (\" + np.str(round(np.std(raw_auc),3)) + \")\", \n",
    "            np.str(round(np.mean(calc_auc), 3)) + \" (\" + np.str(round(np.std(calc_auc),3)) + \")\"]]\n",
    "with open(path + 'Interpretable Models Summary.csv', 'a') as writeFile:\n",
    "    writer = csv.writer(writeFile)\n",
    "    writer.writerows(results)"
   ]
  }
 ],
 "metadata": {
  "kernelspec": {
   "display_name": "Python 3",
   "language": "python",
   "name": "python3"
  },
  "language_info": {
   "codemirror_mode": {
    "name": "ipython",
    "version": 3
   },
   "file_extension": ".py",
   "mimetype": "text/x-python",
   "name": "python",
   "nbconvert_exporter": "python",
   "pygments_lexer": "ipython3",
   "version": "3.7.4"
  }
 },
 "nbformat": 4,
 "nbformat_minor": 4
}
