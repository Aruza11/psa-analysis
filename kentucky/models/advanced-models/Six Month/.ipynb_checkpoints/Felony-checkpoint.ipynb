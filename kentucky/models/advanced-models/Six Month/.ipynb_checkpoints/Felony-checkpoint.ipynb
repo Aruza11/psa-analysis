{
 "cells": [
  {
   "cell_type": "code",
   "execution_count": 1,
   "metadata": {},
   "outputs": [
    {
     "name": "stdout",
     "output_type": "stream",
     "text": [
      "Current working directory is now:  C:\\Users\\binha\\Documents\\Duke\\Cynthia Research\\psa-analysis - test\n"
     ]
    },
    {
     "name": "stderr",
     "output_type": "stream",
     "text": [
      "C:\\Users\\binha\\Anaconda3\\lib\\site-packages\\sklearn\\externals\\six.py:31: DeprecationWarning:\n",
      "\n",
      "The module is deprecated in version 0.21 and will be removed in version 0.23 since we've dropped support for Python 2.7. Please rely on the official version of six (https://pypi.org/project/six/).\n",
      "\n"
     ]
    },
    {
     "name": "stdout",
     "output_type": "stream",
     "text": [
      "no stored variable summary_F6_KY_interpret\n"
     ]
    }
   ],
   "source": [
    "import os \n",
    "os.chdir('../../../../')\n",
    "print(\"Current working directory is now: \", os.getcwd())\n",
    "\n",
    "import pandas as pd \n",
    "import numpy as np\n",
    "import csv\n",
    "import utils.baseline_functions as base\n",
    "import stumps\n",
    "import RiskSLIM as slim\n",
    "\n",
    "from sklearn.linear_model import LogisticRegression\n",
    "from sklearn.model_selection import KFold, GridSearchCV\n",
    "from sklearn.metrics import roc_auc_score\n",
    "\n",
    "# restore saved variables\n",
    "%store -r summary_F6_KY_interpret"
   ]
  },
  {
   "cell_type": "markdown",
   "metadata": {},
   "source": [
    "### CART & EBM"
   ]
  },
  {
   "cell_type": "code",
   "execution_count": 2,
   "metadata": {},
   "outputs": [],
   "source": [
    "### load data\n",
    "data = pd.read_csv(\"~/Documents/Duke/Cynthia Research/KY-analysis-mytrials/KY Recidivism/KY data/kentucky_data.csv\")\n",
    "data = data.drop(['fta_risk_score_raw','nca_risk_score_raw','pvf_risk_score_raw', \n",
    "                  'fta_calc', 'nca_calc', 'pvf_calc'], axis=1)\n",
    "x = data.loc[:,:'current_violence']\n",
    "y = data['recid_F_six_month'].values"
   ]
  },
  {
   "cell_type": "code",
   "execution_count": 3,
   "metadata": {
    "scrolled": true
   },
   "outputs": [
    {
     "name": "stdout",
     "output_type": "stream",
     "text": [
      "model_id, score_thresholds 0 {'rank_abs': [28]}\n",
      "get_disparity_predefined_group()\n",
      "model_id, score_thresholds 0 {'rank_abs': [22]}\n",
      "get_disparity_predefined_group()\n",
      "model_id, score_thresholds 0 {'rank_abs': [29]}\n",
      "get_disparity_predefined_group()\n",
      "model_id, score_thresholds 0 {'rank_abs': [16]}\n",
      "get_disparity_predefined_group()\n",
      "model_id, score_thresholds 0 {'rank_abs': [20]}\n",
      "get_disparity_predefined_group()\n"
     ]
    },
    {
     "name": "stderr",
     "output_type": "stream",
     "text": [
      "WARNING:interpret.utils.all:Passing a numpy array to schema autogen when it should be dataframe.\n",
      "WARNING:interpret.utils.all:Passing a numpy array to schema autogen when it should be dataframe.\n",
      "WARNING:interpret.utils.all:Passing a numpy array to schema autogen when it should be dataframe.\n",
      "WARNING:interpret.utils.all:Passing a numpy array to schema autogen when it should be dataframe.\n",
      "WARNING:interpret.utils.all:Passing a numpy array to schema autogen when it should be dataframe.\n",
      "WARNING:interpret.utils.all:Passing a numpy array to schema autogen when it should be dataframe.\n",
      "WARNING:interpret.utils.all:Passing a numpy array to schema autogen when it should be dataframe.\n",
      "WARNING:interpret.utils.all:Passing a numpy array to schema autogen when it should be dataframe.\n",
      "WARNING:interpret.utils.all:Passing a numpy array to schema autogen when it should be dataframe.\n",
      "WARNING:interpret.utils.all:Passing a numpy array to schema autogen when it should be dataframe.\n",
      "WARNING:interpret.utils.all:Passing a numpy array to schema autogen when it should be dataframe.\n",
      "WARNING:interpret.utils.all:Passing a numpy array to schema autogen when it should be dataframe.\n"
     ]
    },
    {
     "name": "stdout",
     "output_type": "stream",
     "text": [
      "model_id, score_thresholds 0 {'rank_abs': [18]}\n",
      "get_disparity_predefined_group()\n"
     ]
    },
    {
     "name": "stderr",
     "output_type": "stream",
     "text": [
      "WARNING:interpret.utils.all:Passing a numpy array to schema autogen when it should be dataframe.\n",
      "WARNING:interpret.utils.all:Passing a numpy array to schema autogen when it should be dataframe.\n",
      "WARNING:interpret.utils.all:Passing a numpy array to schema autogen when it should be dataframe.\n",
      "WARNING:interpret.utils.all:Passing a numpy array to schema autogen when it should be dataframe.\n",
      "WARNING:interpret.utils.all:Passing a numpy array to schema autogen when it should be dataframe.\n",
      "WARNING:interpret.utils.all:Passing a numpy array to schema autogen when it should be dataframe.\n",
      "WARNING:interpret.utils.all:Passing a numpy array to schema autogen when it should be dataframe.\n",
      "WARNING:interpret.utils.all:Passing a numpy array to schema autogen when it should be dataframe.\n",
      "WARNING:interpret.utils.all:Passing a numpy array to schema autogen when it should be dataframe.\n",
      "WARNING:interpret.utils.all:Passing a numpy array to schema autogen when it should be dataframe.\n",
      "WARNING:interpret.utils.all:Passing a numpy array to schema autogen when it should be dataframe.\n",
      "WARNING:interpret.utils.all:Passing a numpy array to schema autogen when it should be dataframe.\n"
     ]
    },
    {
     "name": "stdout",
     "output_type": "stream",
     "text": [
      "model_id, score_thresholds 0 {'rank_abs': [16]}\n",
      "get_disparity_predefined_group()\n"
     ]
    },
    {
     "name": "stderr",
     "output_type": "stream",
     "text": [
      "WARNING:interpret.utils.all:Passing a numpy array to schema autogen when it should be dataframe.\n",
      "WARNING:interpret.utils.all:Passing a numpy array to schema autogen when it should be dataframe.\n",
      "WARNING:interpret.utils.all:Passing a numpy array to schema autogen when it should be dataframe.\n",
      "WARNING:interpret.utils.all:Passing a numpy array to schema autogen when it should be dataframe.\n",
      "WARNING:interpret.utils.all:Passing a numpy array to schema autogen when it should be dataframe.\n",
      "WARNING:interpret.utils.all:Passing a numpy array to schema autogen when it should be dataframe.\n",
      "WARNING:interpret.utils.all:Passing a numpy array to schema autogen when it should be dataframe.\n",
      "WARNING:interpret.utils.all:Passing a numpy array to schema autogen when it should be dataframe.\n",
      "WARNING:interpret.utils.all:Passing a numpy array to schema autogen when it should be dataframe.\n",
      "WARNING:interpret.utils.all:Passing a numpy array to schema autogen when it should be dataframe.\n",
      "WARNING:interpret.utils.all:Passing a numpy array to schema autogen when it should be dataframe.\n",
      "WARNING:interpret.utils.all:Passing a numpy array to schema autogen when it should be dataframe.\n"
     ]
    },
    {
     "name": "stdout",
     "output_type": "stream",
     "text": [
      "model_id, score_thresholds 0 {'rank_abs': [34]}\n",
      "get_disparity_predefined_group()\n"
     ]
    },
    {
     "name": "stderr",
     "output_type": "stream",
     "text": [
      "WARNING:interpret.utils.all:Passing a numpy array to schema autogen when it should be dataframe.\n",
      "WARNING:interpret.utils.all:Passing a numpy array to schema autogen when it should be dataframe.\n",
      "WARNING:interpret.utils.all:Passing a numpy array to schema autogen when it should be dataframe.\n",
      "WARNING:interpret.utils.all:Passing a numpy array to schema autogen when it should be dataframe.\n",
      "WARNING:interpret.utils.all:Passing a numpy array to schema autogen when it should be dataframe.\n",
      "WARNING:interpret.utils.all:Passing a numpy array to schema autogen when it should be dataframe.\n",
      "WARNING:interpret.utils.all:Passing a numpy array to schema autogen when it should be dataframe.\n",
      "WARNING:interpret.utils.all:Passing a numpy array to schema autogen when it should be dataframe.\n",
      "WARNING:interpret.utils.all:Passing a numpy array to schema autogen when it should be dataframe.\n",
      "WARNING:interpret.utils.all:Passing a numpy array to schema autogen when it should be dataframe.\n",
      "WARNING:interpret.utils.all:Passing a numpy array to schema autogen when it should be dataframe.\n",
      "WARNING:interpret.utils.all:Passing a numpy array to schema autogen when it should be dataframe.\n"
     ]
    },
    {
     "name": "stdout",
     "output_type": "stream",
     "text": [
      "model_id, score_thresholds 0 {'rank_abs': [15]}\n",
      "get_disparity_predefined_group()\n"
     ]
    },
    {
     "name": "stderr",
     "output_type": "stream",
     "text": [
      "WARNING:interpret.utils.all:Passing a numpy array to schema autogen when it should be dataframe.\n",
      "WARNING:interpret.utils.all:Passing a numpy array to schema autogen when it should be dataframe.\n",
      "WARNING:interpret.utils.all:Passing a numpy array to schema autogen when it should be dataframe.\n",
      "WARNING:interpret.utils.all:Passing a numpy array to schema autogen when it should be dataframe.\n",
      "WARNING:interpret.utils.all:Passing a numpy array to schema autogen when it should be dataframe.\n",
      "WARNING:interpret.utils.all:Passing a numpy array to schema autogen when it should be dataframe.\n",
      "WARNING:interpret.utils.all:Passing a numpy array to schema autogen when it should be dataframe.\n",
      "WARNING:interpret.utils.all:Passing a numpy array to schema autogen when it should be dataframe.\n",
      "WARNING:interpret.utils.all:Passing a numpy array to schema autogen when it should be dataframe.\n",
      "WARNING:interpret.utils.all:Passing a numpy array to schema autogen when it should be dataframe.\n",
      "WARNING:interpret.utils.all:Passing a numpy array to schema autogen when it should be dataframe.\n",
      "WARNING:interpret.utils.all:Passing a numpy array to schema autogen when it should be dataframe.\n"
     ]
    },
    {
     "name": "stdout",
     "output_type": "stream",
     "text": [
      "model_id, score_thresholds 0 {'rank_abs': [15]}\n",
      "get_disparity_predefined_group()\n"
     ]
    }
   ],
   "source": [
    "#### CART\n",
    "depth = [7,8,9]\n",
    "cart_summary = base.CART(X=x,\n",
    "                         Y=y,\n",
    "                         depth=depth,\n",
    "                         seed=816)\n",
    "\n",
    "#### EBM\n",
    "estimators = [20]\n",
    "depth = [2]\n",
    "learning_rate = [0.5]\n",
    "ebm_summary = base.EBM(X=x,\n",
    "                       Y=y,\n",
    "                       learning_rate=learning_rate,\n",
    "                       depth=depth,\n",
    "                       estimators=estimators,\n",
    "                       seed =816)"
   ]
  },
  {
   "cell_type": "code",
   "execution_count": 4,
   "metadata": {},
   "outputs": [
    {
     "data": {
      "text/plain": [
       "(0.7804606563003763, 0.019678037376102454)"
      ]
     },
     "execution_count": 4,
     "metadata": {},
     "output_type": "execute_result"
    }
   ],
   "source": [
    "np.mean(cart_summary['holdout_test_auc']), np.mean(cart_summary['auc_diffs'])"
   ]
  },
  {
   "cell_type": "code",
   "execution_count": 5,
   "metadata": {},
   "outputs": [
    {
     "data": {
      "text/plain": [
       "(0.7934602432928969, 0.008239924382470986)"
      ]
     },
     "execution_count": 5,
     "metadata": {},
     "output_type": "execute_result"
    }
   ],
   "source": [
    "np.mean(ebm_summary['holdout_test_auc']), np.mean(ebm_summary['auc_diffs'])"
   ]
  },
  {
   "cell_type": "markdown",
   "metadata": {},
   "source": [
    "## Lasso Stumps"
   ]
  },
  {
   "cell_type": "code",
   "execution_count": 6,
   "metadata": {},
   "outputs": [],
   "source": [
    "## load whole data\n",
    "data = pd.read_csv(\"~/Documents/Duke/Cynthia Research/KY-analysis-mytrials/KY Recidivism/KY data/kentucky_stumps.csv\")\n",
    "X_stumps, Y_stumps = data.loc[:,:'current_violence>=1'], data['recid_F_six_month'].values\n",
    "Y_stumps[Y_stumps == -1] = 0\n",
    "cols = X_stumps.columns[3:]\n",
    "\n",
    "## load train & test data\n",
    "train_stumps = pd.read_csv(\"~/Documents/Duke/Cynthia Research/KY-analysis-mytrials/KY Recidivism/KY data/kentucky_train_stumps.csv\")\n",
    "test_stumps = pd.read_csv(\"~/Documents/Duke/Cynthia Research/KY-analysis-mytrials/KY Recidivism/KY data/kentucky_test_stumps.csv\")\n",
    "\n",
    "X_train_stumps, Y_train_stumps = train_stumps.loc[:,:'current_violence>=1'], train_stumps['recid_F_six_month'].values\n",
    "X_test_stumps, Y_test_stumps = test_stumps.loc[:,:'current_violence>=1'], test_stumps['recid_F_six_month'].values\n",
    "\n",
    "Y_train_stumps[Y_train_stumps == -1] = 0\n",
    "Y_test_stumps[Y_test_stumps == -1] = 0"
   ]
  },
  {
   "cell_type": "markdown",
   "metadata": {},
   "source": [
    "#### Nested Cross Validation"
   ]
  },
  {
   "cell_type": "code",
   "execution_count": 7,
   "metadata": {},
   "outputs": [
    {
     "name": "stdout",
     "output_type": "stream",
     "text": [
      "model_id, score_thresholds 0 {'rank_abs': [14590]}\n",
      "get_disparity_predefined_group()\n",
      "model_id, score_thresholds 0 {'rank_abs': [14685]}\n",
      "get_disparity_predefined_group()\n",
      "model_id, score_thresholds 0 {'rank_abs': [13865]}\n",
      "get_disparity_predefined_group()\n",
      "model_id, score_thresholds 0 {'rank_abs': [15386]}\n",
      "get_disparity_predefined_group()\n",
      "model_id, score_thresholds 0 {'rank_abs': [15422]}\n",
      "get_disparity_predefined_group()\n"
     ]
    }
   ],
   "source": [
    "stump_summary = stumps.stump_cv(X = X_stumps, \n",
    "                                Y = Y_stumps, \n",
    "                                columns=cols, \n",
    "                                c_grid={'C': [0.007, 0.005, 0.003]}, \n",
    "                                seed = 816)"
   ]
  },
  {
   "cell_type": "code",
   "execution_count": 8,
   "metadata": {},
   "outputs": [
    {
     "data": {
      "text/plain": [
       "([{'C': 0.007}, {'C': 0.007}, {'C': 0.007}, {'C': 0.007}, {'C': 0.007}],\n",
       " 0.794345438583379,\n",
       " 0.0018318916242571648)"
      ]
     },
     "execution_count": 8,
     "metadata": {},
     "output_type": "execute_result"
    }
   ],
   "source": [
    "stump_summary['best_params'], np.mean(stump_summary['holdout_test_auc']), np.mean(stump_summary['auc_diffs'])"
   ]
  },
  {
   "cell_type": "markdown",
   "metadata": {},
   "source": [
    "##### Best Stump Model"
   ]
  },
  {
   "cell_type": "code",
   "execution_count": 13,
   "metadata": {},
   "outputs": [],
   "source": [
    "best_stump_model = stumps.stump_model(X_train_stumps, Y_train_stumps, \n",
    "                                      X_test_stumps, Y_test_stumps, \n",
    "                                      c=0.001, columns=cols, seed=816)"
   ]
  },
  {
   "cell_type": "markdown",
   "metadata": {},
   "source": [
    "##### Prediction Table"
   ]
  },
  {
   "cell_type": "code",
   "execution_count": 14,
   "metadata": {
    "scrolled": true
   },
   "outputs": [
    {
     "name": "stdout",
     "output_type": "stream",
     "text": [
      "+-----------------------------------+----------------+\n",
      "| Features                          | Score          |\n",
      "|====================================================|\n",
      "| p_arrest>=1                       | -54.6          |\n",
      "| p_arrest>=2                       | 35.9           |\n",
      "| p_arrest>=3                       | 34.6           |\n",
      "| p_arrest>=4                       | 17.5           |\n",
      "| p_arrest>=5                       | 14.1           |\n",
      "| p_charges>=1                      | -40.7          |\n",
      "| p_violence>=1                     | 5.6            |\n",
      "| p_felony>=1                       | 93.4           |\n",
      "| p_felony>=2                       | 19.8           |\n",
      "| p_misdemeanor>=2                  | 9.3            |\n",
      "| p_misdemeanor>=3                  | 5.5            |\n",
      "| ADE>=1                            | -0.2           |\n",
      "| p_prison>=1                       | -12.8          |\n",
      "| p_pending_charge>=1               | 54.6           |\n",
      "| Intercept                         | -0.411         |\n",
      "|====================================================|\n",
      "| ADD POINTS FROM ROWS 1 TO 14      | Total Score    |\n",
      "+-----------------------------------+----------------+\n"
     ]
    }
   ],
   "source": [
    "stumps.stump_table(best_stump_model['coefs'], \n",
    "                   best_stump_model['features'], \n",
    "                   best_stump_model['intercept'], \n",
    "                   best_stump_model['dictionary'])"
   ]
  },
  {
   "cell_type": "code",
   "execution_count": 15,
   "metadata": {},
   "outputs": [
    {
     "name": "stdout",
     "output_type": "stream",
     "text": [
      "model_id, score_thresholds 0 {'rank_abs': [12944]}\n",
      "get_disparity_predefined_group()\n",
      "model_id, score_thresholds 0 {'rank_abs': [16268]}\n",
      "get_disparity_predefined_group()\n",
      "model_id, score_thresholds 0 {'rank_abs': [13434]}\n",
      "get_disparity_predefined_group()\n",
      "model_id, score_thresholds 0 {'rank_abs': [16985]}\n",
      "get_disparity_predefined_group()\n",
      "model_id, score_thresholds 0 {'rank_abs': [13493]}\n",
      "get_disparity_predefined_group()\n"
     ]
    }
   ],
   "source": [
    "stump_summary = stumps.stump_cv(X = X_stumps, \n",
    "                                Y = Y_stumps, \n",
    "                                columns=cols, \n",
    "                                c_grid={'C': [0.001]}, \n",
    "                                seed = 816)"
   ]
  },
  {
   "cell_type": "code",
   "execution_count": 16,
   "metadata": {},
   "outputs": [
    {
     "data": {
      "text/plain": [
       "([{'C': 0.001}, {'C': 0.001}, {'C': 0.001}, {'C': 0.001}, {'C': 0.001}],\n",
       " 0.7802447561978068,\n",
       " 0.0006868897147329633)"
      ]
     },
     "execution_count": 16,
     "metadata": {},
     "output_type": "execute_result"
    }
   ],
   "source": [
    "stump_summary['best_params'], np.mean(stump_summary['holdout_test_auc']), np.mean(stump_summary['auc_diffs'])"
   ]
  },
  {
   "cell_type": "markdown",
   "metadata": {},
   "source": [
    "##### Stumps Visualizations"
   ]
  },
  {
   "cell_type": "code",
   "execution_count": 20,
   "metadata": {
    "scrolled": true
   },
   "outputs": [
    {
     "data": {
      "image/png": "[encoded data removed]",
      "text/plain": [
       "<Figure size 288x216 with 1 Axes>"
      ]
     },
     "metadata": {
      "needs_background": "light"
     },
     "output_type": "display_data"
    },
    {
     "data": {
      "image/png": "[encoded data removed]",
      "text/plain": [
       "<Figure size 288x216 with 1 Axes>"
      ]
     },
     "metadata": {
      "needs_background": "light"
     },
     "output_type": "display_data"
    },
    {
     "data": {
      "image/png": "[encoded data removed]",
      "text/plain": [
       "<Figure size 288x216 with 1 Axes>"
      ]
     },
     "metadata": {
      "needs_background": "light"
     },
     "output_type": "display_data"
    },
    {
     "data": {
      "image/png": "[encoded data removed]",
      "text/plain": [
       "<Figure size 288x216 with 1 Axes>"
      ]
     },
     "metadata": {
      "needs_background": "light"
     },
     "output_type": "display_data"
    },
    {
     "data": {
      "image/png": "[encoded data removed]",
      "text/plain": [
       "<Figure size 288x216 with 1 Axes>"
      ]
     },
     "metadata": {
      "needs_background": "light"
     },
     "output_type": "display_data"
    },
    {
     "data": {
      "image/png": "[encoded data removed]",
      "text/plain": [
       "<Figure size 288x216 with 1 Axes>"
      ]
     },
     "metadata": {
      "needs_background": "light"
     },
     "output_type": "display_data"
    },
    {
     "data": {
      "image/png": "[encoded data removed]",
      "text/plain": [
       "<Figure size 288x216 with 1 Axes>"
      ]
     },
     "metadata": {
      "needs_background": "light"
     },
     "output_type": "display_data"
    },
    {
     "data": {
      "image/png": "[encoded data removed]",
      "text/plain": [
       "<Figure size 288x216 with 1 Axes>"
      ]
     },
     "metadata": {
      "needs_background": "light"
     },
     "output_type": "display_data"
    },
    {
     "data": {
      "image/png": "[encoded data removed]",
      "text/plain": [
       "<Figure size 288x216 with 1 Axes>"
      ]
     },
     "metadata": {
      "needs_background": "light"
     },
     "output_type": "display_data"
    },
    {
     "data": {
      "image/png": "[encoded data removed]",
      "text/plain": [
       "<Figure size 288x216 with 1 Axes>"
      ]
     },
     "metadata": {
      "needs_background": "light"
     },
     "output_type": "display_data"
    },
    {
     "data": {
      "image/png": "[encoded data removed]",
      "text/plain": [
       "<Figure size 288x216 with 1 Axes>"
      ]
     },
     "metadata": {
      "needs_background": "light"
     },
     "output_type": "display_data"
    }
   ],
   "source": [
    "stumps.stump_plots(best_stump_model['features'], best_stump_model['coefs'])"
   ]
  },
  {
   "cell_type": "markdown",
   "metadata": {},
   "source": [
    "### Arnold PSA"
   ]
  },
  {
   "cell_type": "code",
   "execution_count": 17,
   "metadata": {},
   "outputs": [],
   "source": [
    "### load data\n",
    "data = pd.read_csv(\"~/Documents/Duke/Cynthia Research/KY-analysis-mytrials/KY Recidivism/KY data/kentucky_data.csv\")\n",
    "X_arnold_raw = data['nca_risk_score_raw'].values\n",
    "X_arnold_calc = data['nca_calc'].values\n",
    "Y_arnold = data['recid_F_six_month'].values"
   ]
  },
  {
   "cell_type": "code",
   "execution_count": 18,
   "metadata": {},
   "outputs": [],
   "source": [
    "## set up cross validation\n",
    "cv = KFold(n_splits=5,shuffle=True,random_state=816)\n",
    "raw_auc = []\n",
    "calc_auc = []\n",
    "\n",
    "## raw score\n",
    "i = 1\n",
    "for train, test in cv.split(X_arnold_raw, Y_arnold):\n",
    "    y_pred_raw, y_pred_calc, y_test = X_arnold_raw[test], X_arnold_calc[test], Y_arnold[test]\n",
    "    raw_auc.append(roc_auc_score(y_test, y_pred_raw))\n",
    "    calc_auc.append(roc_auc_score(y_test, y_pred_calc))\n",
    "    i+=1 "
   ]
  },
  {
   "cell_type": "markdown",
   "metadata": {},
   "source": [
    "## RiskSLIM"
   ]
  },
  {
   "cell_type": "code",
   "execution_count": 19,
   "metadata": {},
   "outputs": [],
   "source": [
    "## load stumps data\n",
    "data = pd.read_csv(\"~/Documents/Duke/Cynthia Research/KY-analysis-mytrials/KY Recidivism/KY data/kentucky_stumps.csv\")\n",
    "x, y = data.loc[:,:'current_violence>=1'], data['recid_F_six_month'].values\n",
    "cols = x.columns[3:]"
   ]
  },
  {
   "cell_type": "code",
   "execution_count": 20,
   "metadata": {},
   "outputs": [
    {
     "data": {
      "text/plain": [
       "15"
      ]
     },
     "execution_count": 20,
     "metadata": {},
     "output_type": "execute_result"
    }
   ],
   "source": [
    "## train on best param chosen by Lasso Stumps from above\n",
    "x_train = x.copy().drop(['race', 'person_id', 'screening_date'], axis=1)\n",
    "lasso = LogisticRegression(class_weight='balanced', solver='liblinear', penalty='l1', C=0.001, random_state=816).fit(x_train,y)\n",
    "selected_features = cols[lasso.coef_[0] != 0].tolist()\n",
    "len(selected_features)"
   ]
  },
  {
   "cell_type": "code",
   "execution_count": 21,
   "metadata": {},
   "outputs": [],
   "source": [
    "### Subset features\n",
    "if 'sex' in selected_features:\n",
    "    selected_features = ['recid_F_six_month', 'person_id', 'screening_date', 'race'] + selected_features\n",
    "    indicator = 1\n",
    "else:\n",
    "    selected_features = ['recid_F_six_month', 'person_id', 'screening_date', 'race', 'sex'] + selected_features\n",
    "    indicator = 0\n",
    "\n",
    "sub_data = data[selected_features]\n",
    "sub_X, sub_Y = sub_data.iloc[:,1:], sub_data.iloc[:,0].values\n",
    "sub_X.insert(0, '(Intercept)', 1)"
   ]
  },
  {
   "cell_type": "code",
   "execution_count": 25,
   "metadata": {
    "scrolled": true
   },
   "outputs": [
    {
     "name": "stdout",
     "output_type": "stream",
     "text": [
      "setting c0 = 0.0 to ensure that intercept is not penalized\n",
      "09/11/19 @ 10:57 PM | 701 rows in lookup table\n",
      "09/11/19 @ 10:57 PM | ------------------------------------------------------------\n",
      "09/11/19 @ 10:57 PM | runnning initialization procedure\n",
      "09/11/19 @ 10:57 PM | ------------------------------------------------------------\n",
      "09/11/19 @ 10:57 PM | CPA produced 2 cuts\n",
      "09/11/19 @ 10:57 PM | running naive rounding on 92 solutions\n",
      "09/11/19 @ 10:57 PM | best objective value: 0.1559\n",
      "09/11/19 @ 10:57 PM | rounding produced 1 integer solutions\n",
      "09/11/19 @ 10:57 PM | best objective value is 0.1761\n",
      "09/11/19 @ 10:57 PM | running sequential rounding on 92 solutions\n",
      "09/11/19 @ 10:57 PM | best objective value: 0.1559\n",
      "09/11/19 @ 10:57 PM | sequential rounding produced 4 integer solutions\n",
      "09/11/19 @ 10:57 PM | best objective value: 0.1628\n",
      "09/11/19 @ 10:57 PM | polishing 5 solutions\n",
      "09/11/19 @ 10:57 PM | best objective value: 0.1628\n",
      "09/11/19 @ 10:57 PM | polishing produced 4 integer solutions\n",
      "09/11/19 @ 10:57 PM | initialization produced 8 feasible solutions\n",
      "09/11/19 @ 10:57 PM | best objective value: 0.1624\n",
      "09/11/19 @ 10:57 PM | ------------------------------------------------------------\n",
      "09/11/19 @ 10:57 PM | completed initialization procedure\n",
      "09/11/19 @ 10:57 PM | ------------------------------------------------------------\n",
      "09/11/19 @ 10:57 PM | 701 rows in lookup table\n",
      "CPXPARAM_Read_DataCheck                          1\n",
      "CPXPARAM_Threads                                 1\n",
      "CPXPARAM_Parallel                                1\n",
      "CPXPARAM_RandomSeed                              0\n",
      "CPXPARAM_TimeLimit                               200\n",
      "CPXPARAM_MIP_Tolerances_LowerCutoff              0.15582519884328266\n",
      "CPXPARAM_MIP_Tolerances_UpperCutoff              0.16243107359904621\n"
     ]
    },
    {
     "name": "stderr",
     "output_type": "stream",
     "text": [
      "Warning: Control callbacks may disable some MIP features.\n"
     ]
    },
    {
     "name": "stdout",
     "output_type": "stream",
     "text": [
      "Lazy constraint(s) or lazy constraint callback is present.\n",
      "    Disabling dual reductions (CPX_PARAM_REDUCE) in presolve.\n",
      "    Disabling non-linear reductions (CPX_PARAM_PRELINEAR) in presolve.\n",
      "         Disabling repeat represolve because of lazy constraint/incumbent callback.\n",
      "09/11/19 @ 10:57 PM | adding 157 initial cuts\n",
      "1 of 1 MIP starts provided solutions.\n",
      "MIP start 'mip_start_0' defined initial solution with objective 0.1624.\n",
      "Tried aggregator 1 time.\n",
      "Reduced MIP has 17 rows, 34 columns, and 63 nonzeros.\n",
      "Reduced MIP has 15 binaries, 17 generals, 0 SOSs, and 0 indicators.\n",
      "Presolve time = 0.00 sec. (0.03 ticks)\n",
      "Probing time = 0.00 sec. (0.01 ticks)\n",
      "MIP emphasis: balance optimality and feasibility.\n",
      "MIP search method: traditional branch-and-cut.\n",
      "Parallel mode: none, using 1 thread.\n",
      "Root relaxation solution time = 0.00 sec. (0.02 ticks)\n",
      "\n",
      "        Nodes                                         Cuts/\n",
      "   Node  Left     Objective  IInf  Best Integer    Best Bound    ItCnt     Gap         Variable B NodeID Parent  Depth\n",
      "\n",
      "*     0+    0                            0.1624        0.1458            10.22%\n",
      "      0     0        0.1558     1        0.1624        0.1558        1    4.07%\n",
      "      0     2        0.1558     4        0.1624        0.1558        1    4.07%                        0             0\n",
      "Elapsed time = 0.08 sec. (0.84 ticks, tree = 0.01 MB, solutions = 1)\n",
      "   3605  1171        cutoff              0.1624        0.1570    11197    3.34%           rho_0 U   3605   3604     37\n",
      "   7032  2103        0.1576    10        0.1624        0.1576    19386    2.96%           rho_1 D   7032   7031     22\n",
      "   9905  3069        0.1611     7        0.1624        0.1578    27855    2.84%          rho_10 U   9905   9904     47\n",
      "  12967  3672        0.1582    13        0.1624        0.1579    36624    2.79%           rho_2 U  12967   4516     51\n",
      "  15585  4357        0.1580    10        0.1624        0.1580    46170    2.74%           rho_6 U  15585  15560     59\n",
      "  18875  5128        0.1593     7        0.1624        0.1581    54675    2.65%           rho_6 D  18875   7280     34\n",
      "  22196  6032        0.1593    10        0.1624        0.1583    62681    2.56%           rho_1 U  22196  22194     79\n",
      "  25456  6814        0.1613     5        0.1624        0.1584    70138    2.50%           rho_3 D  25456  25454     63\n",
      "  28770  7763        0.1585     4        0.1624        0.1585    77298    2.44%           rho_6 U  28770  28768     62\n",
      "  40227 11551        0.1587    10        0.1624        0.1587   109738    2.28%           rho_6 U  40227  40222     34\n",
      "Elapsed time = 4.47 sec. (3100.89 ticks, tree = 2.96 MB, solutions = 1)\n",
      "  50627 13896        0.1589    12        0.1624        0.1589   139793    2.14%           rho_0 D  50627  50618     17\n",
      "  61365 16190        cutoff              0.1624        0.1590   168903    2.09%           rho_3 D  61365  61364     59\n",
      "  72601 19188        0.1600    12        0.1624        0.1591   199126    2.04%           rho_0 U  72601  72600     80\n",
      "  84150 23319        0.1618    10        0.1624        0.1593   230253    1.95%           rho_2 U  84150  23174     29\n",
      "  95833 25160        0.1595     4        0.1624        0.1594   257794    1.84%           rho_6 U  95833  95591     23\n",
      " 107383 29753        0.1616     6        0.1624        0.1596   290839    1.76%          rho_15 D 107383 107382     31\n",
      " 118669 31944        cutoff              0.1624        0.1597   318431    1.68%           rho_4 U 118669 118668     67\n",
      " 129645 37704        0.1598     4        0.1624        0.1598   349669    1.65%           rho_0 D 129645 129644     49\n",
      " 141314 39557        cutoff              0.1624        0.1599   380013    1.58%         L0_norm D 141314 141313     90\n",
      " 153025 40457        cutoff              0.1624        0.1600   407225    1.48%          rho_15 D 153025 153024     60\n",
      "Elapsed time = 22.94 sec. (12637.97 ticks, tree = 10.91 MB, solutions = 1)\n",
      " 164667 41243        0.1613     5        0.1624        0.1601   436171    1.44%          rho_15 D 164667 164665     55\n",
      " 175351 43278        0.1602    14        0.1624        0.1602   464882    1.40%           rho_0 D 175351 175349     77\n",
      " 186228 44804        0.1603    11        0.1624        0.1602   488966    1.36%           rho_4 D 186228 176103     43\n",
      " 196360 45490        0.1615     8        0.1624        0.1603   523198    1.31%          rho_10 N 196360 196359     60\n",
      " 206175 44194        0.1622     9        0.1624        0.1605   549021    1.22%           rho_4 N 206175 176639     29\n",
      " 215990 43938        0.1606     4        0.1624        0.1606   578728    1.14%           rho_6 U 215990 215980     44\n",
      " 226245 43271        0.1608    10        0.1624        0.1607   605495    1.05%           rho_0 D 226245 226243     62\n",
      " 237398 43027        cutoff              0.1624        0.1608   633267    1.02%          rho_15 D 237398 237397     67\n",
      " 248083 42653        cutoff              0.1624        0.1609   662331    0.97%           rho_3 U 248083 248082     69\n",
      " 259337 42891        0.1622     7        0.1624        0.1609   686506    0.92%           rho_3 U 259337 259336     47\n",
      "Elapsed time = 35.92 sec. (22175.22 ticks, tree = 11.41 MB, solutions = 1)\n",
      " 270009 41376        cutoff              0.1624        0.1610   711673    0.86%           rho_9 U 270009 205659     55\n",
      " 280928 39222        cutoff              0.1624        0.1611   738246    0.80%           rho_3 D 280928 280927     57\n",
      " 290428 34493        0.1617     5        0.1624        0.1612   768302    0.74%           rho_3 D 290428 290427     44\n",
      " 301611 32350        cutoff              0.1624        0.1613   791212    0.67%           rho_6 D 301611 301610     74\n",
      " 313054 29695        0.1614     7        0.1624        0.1614   813651    0.62%          rho_10 D 313054 193313     57\n",
      " 323014 23843        cutoff              0.1624        0.1615   839919    0.56%           rho_8 U 323014 243889     68\n",
      " 333059 18302        0.1623     5        0.1624        0.1617   864606    0.46%           rho_2 N 333059 110778     47\n",
      " 343100 12213        cutoff              0.1624        0.1620   885420    0.28%          rho_15 U 343100 343099     54\n",
      " 353262  5527        cutoff              0.1624        0.1622   903845    0.13%           rho_9 U 353262 104319     64\n",
      "\n",
      "User cuts applied:  161\n",
      "\n",
      "Root node processing (before b&c):\n",
      "  Real time             =    0.09 sec. (0.84 ticks)\n",
      "Sequential b&c:\n",
      "  Real time             =   50.64 sec. (31383.41 ticks)\n",
      "                          ------------\n",
      "Total (root+branch&cut) =   50.73 sec. (31384.25 ticks)\n",
      "+----------------------------------------------+------------------+-----------+\n",
      "| Pr(Y = +1) = 1.0/(1.0 + exp(-(-5 + score))   |                  |           |\n",
      "| ============================================ | ================ | ========= |\n",
      "| p_arrest>=2                                  |         1 points |   + ..... |\n",
      "| p_felony>=1                                  |         1 points |   + ..... |\n",
      "| p_pending_charge>=1                          |         1 points |   + ..... |\n",
      "| ============================================ | ================ | ========= |\n",
      "| ADD POINTS FROM ROWS 1 to 3                  |            SCORE |   = ..... |\n",
      "+----------------------------------------------+------------------+-----------+\n",
      "model_id, score_thresholds 0 {'rank_abs': [0]}\n",
      "get_disparity_predefined_group()\n",
      "setting c0 = 0.0 to ensure that intercept is not penalized\n",
      "09/11/19 @ 10:58 PM | 701 rows in lookup table\n",
      "09/11/19 @ 10:58 PM | ------------------------------------------------------------\n",
      "09/11/19 @ 10:58 PM | runnning initialization procedure\n",
      "09/11/19 @ 10:58 PM | ------------------------------------------------------------\n",
      "09/11/19 @ 10:58 PM | CPA produced 2 cuts\n",
      "09/11/19 @ 10:58 PM | running naive rounding on 104 solutions\n",
      "09/11/19 @ 10:58 PM | best objective value: 0.1553\n",
      "09/11/19 @ 10:58 PM | rounding produced 1 integer solutions\n",
      "09/11/19 @ 10:58 PM | best objective value is 0.1750\n",
      "09/11/19 @ 10:58 PM | running sequential rounding on 104 solutions\n",
      "09/11/19 @ 10:58 PM | best objective value: 0.1553\n",
      "09/11/19 @ 10:58 PM | sequential rounding produced 3 integer solutions\n",
      "09/11/19 @ 10:58 PM | best objective value: 0.1621\n",
      "09/11/19 @ 10:58 PM | polishing 4 solutions\n"
     ]
    },
    {
     "name": "stdout",
     "output_type": "stream",
     "text": [
      "09/11/19 @ 10:58 PM | best objective value: 0.1621\n",
      "09/11/19 @ 10:58 PM | polishing produced 4 integer solutions\n",
      "09/11/19 @ 10:58 PM | initialization produced 7 feasible solutions\n",
      "09/11/19 @ 10:58 PM | best objective value: 0.1615\n",
      "09/11/19 @ 10:58 PM | ------------------------------------------------------------\n",
      "09/11/19 @ 10:58 PM | completed initialization procedure\n",
      "09/11/19 @ 10:58 PM | ------------------------------------------------------------\n",
      "09/11/19 @ 10:58 PM | 701 rows in lookup table\n",
      "CPXPARAM_Read_DataCheck                          1\n",
      "CPXPARAM_Threads                                 1\n",
      "CPXPARAM_Parallel                                1\n",
      "CPXPARAM_RandomSeed                              0\n",
      "CPXPARAM_TimeLimit                               200\n",
      "CPXPARAM_MIP_Tolerances_LowerCutoff              0.15520504816898803\n",
      "CPXPARAM_MIP_Tolerances_UpperCutoff              0.16148536273472019\n"
     ]
    },
    {
     "name": "stderr",
     "output_type": "stream",
     "text": [
      "Warning: Control callbacks may disable some MIP features.\n"
     ]
    },
    {
     "name": "stdout",
     "output_type": "stream",
     "text": [
      "Lazy constraint(s) or lazy constraint callback is present.\n",
      "    Disabling dual reductions (CPX_PARAM_REDUCE) in presolve.\n",
      "    Disabling non-linear reductions (CPX_PARAM_PRELINEAR) in presolve.\n",
      "         Disabling repeat represolve because of lazy constraint/incumbent callback.\n",
      "09/11/19 @ 10:58 PM | adding 173 initial cuts\n",
      "1 of 1 MIP starts provided solutions.\n",
      "MIP start 'mip_start_0' defined initial solution with objective 0.1615.\n",
      "Tried aggregator 1 time.\n",
      "Reduced MIP has 17 rows, 34 columns, and 63 nonzeros.\n",
      "Reduced MIP has 15 binaries, 17 generals, 0 SOSs, and 0 indicators.\n",
      "Presolve time = 0.00 sec. (0.03 ticks)\n",
      "Probing time = 0.00 sec. (0.01 ticks)\n",
      "MIP emphasis: balance optimality and feasibility.\n",
      "MIP search method: traditional branch-and-cut.\n",
      "Parallel mode: none, using 1 thread.\n",
      "Root relaxation solution time = 0.00 sec. (0.02 ticks)\n",
      "\n",
      "        Nodes                                         Cuts/\n",
      "   Node  Left     Objective  IInf  Best Integer    Best Bound    ItCnt     Gap         Variable B NodeID Parent  Depth\n",
      "\n",
      "*     0+    0                            0.1615        0.1452            10.08%\n",
      "      0     0        0.1552     1        0.1615        0.1552        1    3.89%\n",
      "      0     2        0.1552     3        0.1615        0.1552        1    3.89%                        0             0\n",
      "Elapsed time = 0.11 sec. (0.83 ticks, tree = 0.01 MB, solutions = 1)\n",
      "   4037   943        0.1612     1        0.1615        0.1563    11550    3.19%           rho_6 U   4037   4035     41\n",
      "   7535  2022        cutoff              0.1615        0.1571    19229    2.73%           rho_6 D   7535   7534     68\n",
      "  10701  2245        0.1604     6        0.1615        0.1573    26433    2.60%           rho_6 D  10701  10700     58\n",
      "  14093  2650        0.1593     3        0.1615        0.1578    33189    2.28%          rho_10 D  14093  14091     31\n",
      "  17433  3118        0.1579     1        0.1615        0.1579    40207    2.21%           rho_0 D  17433  17431     55\n",
      "  20970  3493        0.1608     4        0.1615        0.1583    47115    2.00%           rho_6 U  20970  20968     56\n",
      "  24305  3702        0.1593     1        0.1615        0.1583    54834    1.95%           rho_1 U  24305  24303     59\n",
      "  27347  4181        cutoff              0.1615        0.1585    61267    1.87%           rho_0 N  27347  27345     92\n",
      "  30392  4348        0.1595     1        0.1615        0.1586    67482    1.82%           rho_6 U  30392  30390     58\n",
      "  43573  7348        0.1598     4        0.1615        0.1588    96036    1.65%           rho_1 U  43573  43571     57\n",
      "Elapsed time = 5.13 sec. (3100.72 ticks, tree = 1.79 MB, solutions = 1)\n",
      "  55766  9654        0.1590     8        0.1615        0.1590   123865    1.54%           rho_0 D  55766  55764     41\n",
      "  69486 11445        0.1602     9        0.1615        0.1592   151983    1.39%           rho_6 U  69486  69484     47\n",
      "  81716 11939        0.1608     8        0.1615        0.1594   182084    1.28%           rho_6 D  81716  81715     55\n",
      "  93698 13044        0.1605     4        0.1615        0.1596   210641    1.17%           rho_0 D  93698  93697     60\n",
      " 106442 14289        0.1613     3        0.1615        0.1597   236520    1.13%          rho_11 D 106442 106441     27\n",
      " 120179 15298        cutoff              0.1615        0.1598   262328    1.04%           rho_6 D 120179 120178     36\n",
      " 133307 16400        0.1599     9        0.1615        0.1599   288760    0.98%           rho_0 D 133307 133305     53\n",
      " 146254 17317        0.1606     7        0.1615        0.1600   318183    0.93%           rho_0 N 146254 146253     65\n",
      " 159552 17660        0.1613     6        0.1615        0.1601   345502    0.86%          rho_11 N 159552 159550     21\n",
      " 173825 16577        0.1603     8        0.1615        0.1603   370098    0.75%           rho_6 U 173825 173820     37\n",
      "Elapsed time = 19.09 sec. (12637.82 ticks, tree = 4.65 MB, solutions = 1)\n",
      " 187392 16867        cutoff              0.1615        0.1604   404272    0.69%           rho_3 U 187392 102417     73\n",
      " 200912 16231        0.1605    12        0.1615        0.1605   429037    0.62%           rho_6 U 200912 200897     69\n",
      " 213182 14732        cutoff              0.1615        0.1607   455173    0.51%           rho_4 U 213182  10527     78\n",
      " 224380 11647        0.1613     7        0.1615        0.1609   478940    0.35%           rho_3 D 224380  53436     82\n",
      " 235895  6140        cutoff              0.1615        0.1612   499374    0.16%           rho_4 D 235895  35164     79\n",
      "\n",
      "Implied bound cuts applied:  1\n",
      "User cuts applied:  143\n",
      "\n",
      "Root node processing (before b&c):\n",
      "  Real time             =    0.09 sec. (0.84 ticks)\n",
      "Sequential b&c:\n",
      "  Real time             =   25.66 sec. (18166.75 ticks)\n",
      "                          ------------\n",
      "Total (root+branch&cut) =   25.75 sec. (18167.59 ticks)\n",
      "+----------------------------------------------+------------------+-----------+\n",
      "| Pr(Y = +1) = 1.0/(1.0 + exp(-(-5 + score))   |                  |           |\n",
      "| ============================================ | ================ | ========= |\n",
      "| p_arrest>=2                                  |         1 points |   + ..... |\n",
      "| p_felony>=1                                  |         1 points |   + ..... |\n",
      "| p_pending_charge>=1                          |         1 points |   + ..... |\n",
      "| ============================================ | ================ | ========= |\n",
      "| ADD POINTS FROM ROWS 1 to 3                  |            SCORE |   = ..... |\n",
      "+----------------------------------------------+------------------+-----------+\n",
      "model_id, score_thresholds 0 {'rank_abs': [0]}\n",
      "get_disparity_predefined_group()\n",
      "setting c0 = 0.0 to ensure that intercept is not penalized\n",
      "09/11/19 @ 10:59 PM | 701 rows in lookup table\n",
      "09/11/19 @ 10:59 PM | ------------------------------------------------------------\n",
      "09/11/19 @ 10:59 PM | runnning initialization procedure\n",
      "09/11/19 @ 10:59 PM | ------------------------------------------------------------\n",
      "09/11/19 @ 10:59 PM | CPA produced 2 cuts\n",
      "09/11/19 @ 10:59 PM | running naive rounding on 95 solutions\n",
      "09/11/19 @ 10:59 PM | best objective value: 0.1555\n",
      "09/11/19 @ 10:59 PM | rounding produced 2 integer solutions\n",
      "09/11/19 @ 10:59 PM | best objective value is 0.1756\n",
      "09/11/19 @ 10:59 PM | running sequential rounding on 95 solutions\n",
      "09/11/19 @ 10:59 PM | best objective value: 0.1555\n",
      "09/11/19 @ 10:59 PM | sequential rounding produced 5 integer solutions\n",
      "09/11/19 @ 10:59 PM | best objective value: 0.1625\n",
      "09/11/19 @ 10:59 PM | polishing 7 solutions\n",
      "09/11/19 @ 10:59 PM | best objective value: 0.1625\n",
      "09/11/19 @ 10:59 PM | polishing produced 4 integer solutions\n",
      "09/11/19 @ 10:59 PM | initialization produced 10 feasible solutions\n",
      "09/11/19 @ 10:59 PM | best objective value: 0.1621\n",
      "09/11/19 @ 10:59 PM | ------------------------------------------------------------\n",
      "09/11/19 @ 10:59 PM | completed initialization procedure\n",
      "09/11/19 @ 10:59 PM | ------------------------------------------------------------\n",
      "09/11/19 @ 10:59 PM | 701 rows in lookup table\n",
      "CPXPARAM_Read_DataCheck                          1\n",
      "CPXPARAM_Threads                                 1\n",
      "CPXPARAM_Parallel                                1\n",
      "CPXPARAM_RandomSeed                              0\n",
      "CPXPARAM_TimeLimit                               200\n",
      "CPXPARAM_MIP_Tolerances_LowerCutoff              0.15539246206014645\n",
      "CPXPARAM_MIP_Tolerances_UpperCutoff              0.16208087528067269\n"
     ]
    },
    {
     "name": "stderr",
     "output_type": "stream",
     "text": [
      "Warning: Control callbacks may disable some MIP features.\n"
     ]
    },
    {
     "name": "stdout",
     "output_type": "stream",
     "text": [
      "Lazy constraint(s) or lazy constraint callback is present.\n",
      "    Disabling dual reductions (CPX_PARAM_REDUCE) in presolve.\n",
      "    Disabling non-linear reductions (CPX_PARAM_PRELINEAR) in presolve.\n",
      "         Disabling repeat represolve because of lazy constraint/incumbent callback.\n",
      "09/11/19 @ 10:59 PM | adding 157 initial cuts\n",
      "1 of 1 MIP starts provided solutions.\n",
      "MIP start 'mip_start_0' defined initial solution with objective 0.1621.\n",
      "Tried aggregator 1 time.\n",
      "Reduced MIP has 17 rows, 34 columns, and 63 nonzeros.\n",
      "Reduced MIP has 15 binaries, 17 generals, 0 SOSs, and 0 indicators.\n",
      "Presolve time = 0.00 sec. (0.03 ticks)\n",
      "Probing time = 0.00 sec. (0.01 ticks)\n",
      "MIP emphasis: balance optimality and feasibility.\n",
      "MIP search method: traditional branch-and-cut.\n",
      "Parallel mode: none, using 1 thread.\n",
      "Root relaxation solution time = 0.00 sec. (0.02 ticks)\n",
      "\n",
      "        Nodes                                         Cuts/\n",
      "   Node  Left     Objective  IInf  Best Integer    Best Bound    ItCnt     Gap         Variable B NodeID Parent  Depth\n",
      "\n",
      "*     0+    0                            0.1621        0.1454            10.30%\n",
      "      0     0        0.1554     1        0.1621        0.1554        1    4.13%\n",
      "      0     2        0.1554     3        0.1621        0.1554        1    4.13%                        0             0\n",
      "Elapsed time = 0.09 sec. (0.80 ticks, tree = 0.01 MB, solutions = 1)\n",
      "   3320  1258        0.1609     7        0.1621        0.1557    10868    3.92%           rho_5 D   3320   3318     15\n",
      "   5930  2385        0.1583     9        0.1621        0.1568    18699    3.26%           rho_0 U   5930   5929     22\n",
      "   8445  3366        0.1603     1        0.1621        0.1570    25672    3.13%           rho_0 D   8445   8443     45\n",
      "  10920  3921        0.1616     5        0.1621        0.1572    31726    3.03%           rho_8 N  10920  10918     35\n",
      "  13420  4722        0.1583     1        0.1621        0.1573    36944    2.93%           rho_6 U  13420  13419     75\n",
      "  15941  5318        0.1596     5        0.1621        0.1575    42394    2.84%           rho_6 D  15941  15940     69\n",
      "  18626  6024        0.1620     7        0.1621        0.1579    48472    2.58%           rho_6 N  18626  18625     36\n",
      "  21162  6597        cutoff              0.1621        0.1580    54316    2.49%          rho_10 U  21162  21160     56\n",
      "  23811  7072        0.1609     4        0.1621        0.1582    60559    2.42%           rho_8 U  23811  23810     23\n",
      "  33741  9983        0.1593     6        0.1621        0.1583    86109    2.33%           rho_6 U  33741  33739     62\n",
      "Elapsed time = 4.59 sec. (3101.08 ticks, tree = 2.69 MB, solutions = 1)\n",
      "  43733 11498        0.1594     3        0.1621        0.1584   109623    2.24%           rho_0 D  43733  43731     40\n",
      "  53761 13264        0.1596     2        0.1621        0.1586   132678    2.13%           rho_6 U  53761  53759     50\n",
      "  63480 15786        0.1599     5        0.1621        0.1589   155309    1.97%           rho_8 N  63480  63479     58\n",
      "  73718 17686        0.1600     1        0.1621        0.1590   176462    1.88%           rho_0 D  73718  73717     87\n",
      "  83207 17992        0.1591     6        0.1621        0.1591   196023    1.81%           rho_1 U  83207  83202     56\n",
      "  93228 19903        0.1615     5        0.1621        0.1592   218871    1.76%           rho_0 N  93228  93226     92\n",
      " 103482 22235        0.1605     7        0.1621        0.1594   242406    1.67%           rho_6 D 103482 103481     48\n",
      " 113274 23904        0.1595     5        0.1621        0.1595   265601    1.59%           rho_1 U 113274 113272     56\n",
      " 123072 25654        0.1616     4        0.1621        0.1596   286703    1.52%           rho_0 D 123072 123070     24\n",
      " 132341 26291        0.1607     6        0.1621        0.1597   305674    1.49%           rho_0 D 132341 132339     33\n",
      "Elapsed time = 17.08 sec. (12638.28 ticks, tree = 6.74 MB, solutions = 1)\n",
      " 142727 26905        0.1619     4        0.1621        0.1598   327688    1.41%           rho_8 N 142727 142725     59\n",
      " 153469 27472        0.1599     5        0.1621        0.1599   350054    1.36%           rho_0 D 153469 153467     69\n",
      " 164800 29006        0.1619     5        0.1621        0.1599   370181    1.33%           rho_2 N 164800  87700     57\n",
      " 175830 29961        0.1610     8        0.1621        0.1600   391669    1.28%           rho_6 U 175830 175828     34\n",
      " 185728 30251        0.1611     4        0.1621        0.1601   412002    1.23%           rho_0 D 185728 185726     35\n",
      " 195802 30543        0.1615     5        0.1621        0.1601   431007    1.20%           rho_6 N 195802 195801     62\n",
      " 205642 32134        cutoff              0.1621        0.1602   450524    1.17%           rho_1 D 205642 205640     23\n",
      " 217172 32417        cutoff              0.1621        0.1603   470541    1.11%          rho_10 U 217172 217171     58\n",
      " 227108 32956        0.1614     9        0.1621        0.1604   491599    1.05%           rho_0 D 227108 227106     67\n",
      " 237360 33079        0.1605    11        0.1621        0.1605   512113    1.00%           rho_1 U 237360 237358     39\n",
      "Elapsed time = 27.72 sec. (22176.30 ticks, tree = 9.56 MB, solutions = 1)\n",
      " 247513 33176        cutoff              0.1621        0.1606   531986    0.93%          rho_10 U 247513 247512     53\n",
      " 258165 33270        cutoff              0.1621        0.1607   551790    0.87%           rho_2 U 258165 103054     65\n",
      " 269320 34411        0.1617     1        0.1621        0.1607   572527    0.83%           rho_0 D 269320 269319     44\n",
      " 281672 34126        cutoff              0.1621        0.1608   593910    0.79%          rho_14 U 281672  27650     72\n",
      " 293881 33943        0.1619     4        0.1621        0.1609   612907    0.74%           rho_6 N 293881 293880     56\n",
      " 305706 33855        0.1620     6        0.1621        0.1610   632427    0.69%           rho_6 U 305706 305705     57\n",
      " 318124 33349        0.1611     6        0.1621        0.1611   651668    0.64%           rho_6 U 318124 318123     36\n",
      " 330144 32369        0.1619     5        0.1621        0.1611   672622    0.60%           rho_2 D 330144  99953     80\n",
      " 340739 29310        cutoff              0.1621        0.1612   693989    0.52%          rho_11 D 340739 340737     69\n",
      " 350799 25528        cutoff              0.1621        0.1614   713401    0.43%           rho_9 U 350799 126668     64\n",
      "Elapsed time = 37.88 sec. (31713.69 ticks, tree = 8.02 MB, solutions = 1)\n",
      " 360770 22169        cutoff              0.1621        0.1615   732296    0.34%           rho_8 D 360770 360769     59\n",
      " 370470 18612        0.1616     9        0.1621        0.1616   751086    0.27%           rho_1 U 370470 370467     61\n",
      " 380708 13662        cutoff              0.1621        0.1618   767083    0.18%           rho_5 D 380708  14503     50\n",
      " 389797  6064        cutoff              0.1621        0.1620   783501    0.07%           rho_9 U 389797 302045     65\n",
      "\n",
      "Implied bound cuts applied:  1\n",
      "User cuts applied:  179\n",
      "\n",
      "Root node processing (before b&c):\n",
      "  Real time             =    0.09 sec. (0.81 ticks)\n",
      "Sequential b&c:\n",
      "  Real time             =   42.52 sec. (36101.48 ticks)\n",
      "                          ------------\n",
      "Total (root+branch&cut) =   42.61 sec. (36102.29 ticks)\n",
      "+----------------------------------------------+------------------+-----------+\n",
      "| Pr(Y = +1) = 1.0/(1.0 + exp(-(-5 + score))   |                  |           |\n",
      "| ============================================ | ================ | ========= |\n",
      "| p_arrest>=2                                  |         1 points |   + ..... |\n",
      "| p_felony>=1                                  |         1 points |   + ..... |\n",
      "| p_pending_charge>=1                          |         1 points |   + ..... |\n",
      "| ============================================ | ================ | ========= |\n",
      "| ADD POINTS FROM ROWS 1 to 3                  |            SCORE |   = ..... |\n",
      "+----------------------------------------------+------------------+-----------+\n",
      "model_id, score_thresholds 0 {'rank_abs': [0]}\n",
      "get_disparity_predefined_group()\n",
      "setting c0 = 0.0 to ensure that intercept is not penalized\n",
      "09/11/19 @ 11:00 PM | 701 rows in lookup table\n",
      "09/11/19 @ 11:00 PM | ------------------------------------------------------------\n"
     ]
    },
    {
     "name": "stdout",
     "output_type": "stream",
     "text": [
      "09/11/19 @ 11:00 PM | runnning initialization procedure\n",
      "09/11/19 @ 11:00 PM | ------------------------------------------------------------\n",
      "09/11/19 @ 11:00 PM | CPA produced 2 cuts\n",
      "09/11/19 @ 11:00 PM | running naive rounding on 101 solutions\n",
      "09/11/19 @ 11:00 PM | best objective value: 0.1544\n",
      "09/11/19 @ 11:00 PM | rounding produced 2 integer solutions\n",
      "09/11/19 @ 11:00 PM | best objective value is 0.1606\n",
      "09/11/19 @ 11:00 PM | running sequential rounding on 101 solutions\n",
      "09/11/19 @ 11:00 PM | best objective value: 0.1544\n",
      "09/11/19 @ 11:00 PM | sequential rounding produced 3 integer solutions\n",
      "09/11/19 @ 11:00 PM | best objective value: 0.1606\n",
      "09/11/19 @ 11:00 PM | polishing 5 solutions\n",
      "09/11/19 @ 11:00 PM | best objective value: 0.1606\n",
      "09/11/19 @ 11:00 PM | polishing produced 4 integer solutions\n",
      "09/11/19 @ 11:00 PM | initialization produced 8 feasible solutions\n",
      "09/11/19 @ 11:00 PM | best objective value: 0.1606\n",
      "09/11/19 @ 11:00 PM | ------------------------------------------------------------\n",
      "09/11/19 @ 11:00 PM | completed initialization procedure\n",
      "09/11/19 @ 11:00 PM | ------------------------------------------------------------\n",
      "09/11/19 @ 11:00 PM | 701 rows in lookup table\n",
      "CPXPARAM_Read_DataCheck                          1\n",
      "CPXPARAM_Threads                                 1\n",
      "CPXPARAM_Parallel                                1\n",
      "CPXPARAM_RandomSeed                              0\n",
      "CPXPARAM_TimeLimit                               200\n",
      "CPXPARAM_MIP_Tolerances_LowerCutoff              0.1542535464448207\n",
      "CPXPARAM_MIP_Tolerances_UpperCutoff              0.16060997090566054\n"
     ]
    },
    {
     "name": "stderr",
     "output_type": "stream",
     "text": [
      "Warning: Control callbacks may disable some MIP features.\n"
     ]
    },
    {
     "name": "stdout",
     "output_type": "stream",
     "text": [
      "Lazy constraint(s) or lazy constraint callback is present.\n",
      "    Disabling dual reductions (CPX_PARAM_REDUCE) in presolve.\n",
      "    Disabling non-linear reductions (CPX_PARAM_PRELINEAR) in presolve.\n",
      "         Disabling repeat represolve because of lazy constraint/incumbent callback.\n",
      "09/11/19 @ 11:00 PM | adding 166 initial cuts\n",
      "1 of 1 MIP starts provided solutions.\n",
      "MIP start 'mip_start_0' defined initial solution with objective 0.1606.\n",
      "Tried aggregator 1 time.\n",
      "Reduced MIP has 17 rows, 34 columns, and 63 nonzeros.\n",
      "Reduced MIP has 15 binaries, 17 generals, 0 SOSs, and 0 indicators.\n",
      "Presolve time = 0.00 sec. (0.03 ticks)\n",
      "Probing time = 0.00 sec. (0.01 ticks)\n",
      "MIP emphasis: balance optimality and feasibility.\n",
      "MIP search method: traditional branch-and-cut.\n",
      "Parallel mode: none, using 1 thread.\n",
      "Root relaxation solution time = 0.00 sec. (0.02 ticks)\n",
      "\n",
      "        Nodes                                         Cuts/\n",
      "   Node  Left     Objective  IInf  Best Integer    Best Bound    ItCnt     Gap         Variable B NodeID Parent  Depth\n",
      "\n",
      "*     0+    0                            0.1606        0.1443            10.18%\n",
      "      0     0        0.1543     1        0.1606        0.1543        1    3.96%\n",
      "      0     2        0.1543     5        0.1606        0.1543        1    3.96%                        0             0\n",
      "Elapsed time = 0.09 sec. (0.86 ticks, tree = 0.01 MB, solutions = 1)\n",
      "   3167  1317        0.1547    10        0.1606        0.1543    13292    3.96%           rho_6 D   3167   3166     33\n",
      "   5980  2503        0.1587     7        0.1606        0.1546    24147    3.77%           rho_4 U   5980   5979     80\n",
      "   9115  3789        0.1557    10        0.1606        0.1546    34006    3.77%           rho_0 D   9115   9113     54\n",
      "  12031  4984        0.1598     3        0.1606        0.1546    43343    3.74%          rho_15 N  12031  12030     30\n",
      "  14720  5848        0.1598     8        0.1606        0.1546    52868    3.74%           rho_0 N  14720  14718     71\n",
      "  17530  6813        0.1594     7        0.1606        0.1551    62403    3.44%           rho_3 D  17530  17529     17\n",
      "  20450  7789        0.1562     9        0.1606        0.1553    71341    3.28%           rho_6 D  20450  20449     24\n",
      "  23667  8646        0.1555     5        0.1606        0.1555    78895    3.16%           rho_6 D  23667  23665     37\n",
      "  26610  9827        0.1591     6        0.1606        0.1556    88167    3.13%           rho_3 D  26610  26609     44\n",
      "  37637 12105        cutoff              0.1606        0.1563   124246    2.66%           rho_3 U  37637  37636     50\n",
      "Elapsed time = 5.05 sec. (3101.00 ticks, tree = 3.07 MB, solutions = 1)\n",
      "  49490 14514        0.1591     9        0.1606        0.1565   155786    2.57%           rho_2 N  49490  19993     54\n",
      "  60558 17282        cutoff              0.1606        0.1567   186821    2.46%          rho_15 D  60558  60557     52\n",
      "  71323 19540        0.1594    10        0.1606        0.1570   216150    2.26%           rho_1 U  71323  71321     15\n",
      "  81433 21596        cutoff              0.1606        0.1573   245946    2.08%           rho_2 U  81433  81431     77\n",
      "  91986 23969        0.1579     8        0.1606        0.1574   273477    1.99%           rho_2 D  91986  91984     22\n",
      " 102335 26446        0.1587     9        0.1606        0.1575   301152    1.93%           rho_6 D 102335 102334     75\n",
      " 113860 29427        0.1578     9        0.1606        0.1576   329338    1.86%           rho_6 D 113860 113859     64\n",
      " 124066 30049        0.1578    10        0.1606        0.1578   361413    1.78%           rho_1 U 124066 124065     38\n",
      " 134237 30110        cutoff              0.1606        0.1579   392420    1.68%           rho_0 D 134237 134236     30\n",
      " 145255 30704        0.1604     3        0.1606        0.1580   418215    1.61%          rho_15 D 145255 145254     50\n",
      "Elapsed time = 17.78 sec. (12638.34 ticks, tree = 7.58 MB, solutions = 1)\n",
      " 155436 32150        cutoff              0.1606        0.1581   448748    1.55%           rho_2 U 155436   4909     44\n",
      " 165394 33001        0.1598     7        0.1606        0.1582   479983    1.47%           rho_2 N 165394  28751     37\n",
      " 174831 33389        0.1596    12        0.1606        0.1584   512937    1.40%           rho_1 N 174831 157728     43\n",
      " 184848 33660        0.1598     9        0.1606        0.1584   541770    1.35%           rho_0 U 184848 184846     27\n",
      " 194269 33416        cutoff              0.1606        0.1585   571653    1.30%           rho_8 U 194269 122247     37\n",
      " 204471 33872        0.1599     7        0.1606        0.1586   602316    1.24%           rho_3 D 204471 204469     44\n",
      " 214419 33122        cutoff              0.1606        0.1587   631763    1.20%           rho_3 U 214419 214418     22\n",
      " 223959 30592        0.1601     6        0.1606        0.1588   662431    1.11%           rho_2 D 223959 223958     48\n",
      " 234427 30079        0.1593     9        0.1606        0.1590   689444    1.02%           rho_3 D 234427  86002     44\n",
      " 243182 28147        0.1594    12        0.1606        0.1590   720951    0.98%           rho_5 D 243182 186154     46\n",
      "Elapsed time = 30.98 sec. (22175.80 ticks, tree = 8.44 MB, solutions = 1)\n",
      " 253324 28507        cutoff              0.1606        0.1591   748350    0.94%           rho_2 N 253324 253322     42\n",
      " 262610 25464        0.1601     5        0.1606        0.1593   777403    0.84%           rho_6 N 262610 262609     31\n",
      " 272629 22357        0.1594    12        0.1606        0.1594   803409    0.78%           rho_0 D 272629 272627     44\n",
      " 282255 19334        0.1603     5        0.1606        0.1595   832668    0.67%           rho_4 U 282255 145109     31\n",
      " 292631 16068        cutoff              0.1606        0.1597   858575    0.56%           rho_6 U 292631 210263     72\n",
      " 302834 11609        0.1600     7        0.1606        0.1600   884132    0.41%           rho_2 D 302834 234540     52\n",
      " 313699  6731        0.1604    11        0.1606        0.1602   906336    0.25%           rho_1 D 313699 239235     18\n",
      " 324138   377        cutoff              0.1606        0.1606   924511    0.02%           rho_2 U 324138 202931     51\n",
      "\n",
      "Implied bound cuts applied:  4\n",
      "User cuts applied:  156\n",
      "\n",
      "Root node processing (before b&c):\n",
      "  Real time             =    0.11 sec. (0.87 ticks)\n",
      "Sequential b&c:\n",
      "  Real time             =   38.97 sec. (29850.68 ticks)\n",
      "                          ------------\n",
      "Total (root+branch&cut) =   39.08 sec. (29851.54 ticks)\n",
      "+----------------------------------------------+------------------+-----------+\n",
      "| Pr(Y = +1) = 1.0/(1.0 + exp(-(-5 + score))   |                  |           |\n",
      "| ============================================ | ================ | ========= |\n",
      "| p_arrest>=2                                  |         1 points |   + ..... |\n",
      "| p_felony>=1                                  |         1 points |   + ..... |\n",
      "| p_pending_charge>=1                          |         1 points |   + ..... |\n",
      "| ============================================ | ================ | ========= |\n",
      "| ADD POINTS FROM ROWS 1 to 3                  |            SCORE |   = ..... |\n",
      "+----------------------------------------------+------------------+-----------+\n",
      "model_id, score_thresholds 0 {'rank_abs': [0]}\n",
      "get_disparity_predefined_group()\n",
      "setting c0 = 0.0 to ensure that intercept is not penalized\n",
      "09/11/19 @ 11:01 PM | 701 rows in lookup table\n",
      "09/11/19 @ 11:01 PM | ------------------------------------------------------------\n",
      "09/11/19 @ 11:01 PM | runnning initialization procedure\n",
      "09/11/19 @ 11:01 PM | ------------------------------------------------------------\n",
      "09/11/19 @ 11:01 PM | CPA produced 2 cuts\n",
      "09/11/19 @ 11:01 PM | running naive rounding on 104 solutions\n",
      "09/11/19 @ 11:01 PM | best objective value: 0.1546\n",
      "09/11/19 @ 11:01 PM | rounding produced 1 integer solutions\n",
      "09/11/19 @ 11:01 PM | best objective value is 0.1740\n",
      "09/11/19 @ 11:01 PM | running sequential rounding on 104 solutions\n",
      "09/11/19 @ 11:01 PM | best objective value: 0.1546\n",
      "09/11/19 @ 11:01 PM | sequential rounding produced 3 integer solutions\n",
      "09/11/19 @ 11:01 PM | best objective value: 0.1615\n",
      "09/11/19 @ 11:01 PM | polishing 4 solutions\n",
      "09/11/19 @ 11:01 PM | best objective value: 0.1615\n",
      "09/11/19 @ 11:01 PM | polishing produced 4 integer solutions\n"
     ]
    },
    {
     "name": "stdout",
     "output_type": "stream",
     "text": [
      "09/11/19 @ 11:01 PM | initialization produced 7 feasible solutions\n",
      "09/11/19 @ 11:01 PM | best objective value: 0.1608\n",
      "09/11/19 @ 11:01 PM | ------------------------------------------------------------\n",
      "09/11/19 @ 11:01 PM | completed initialization procedure\n",
      "09/11/19 @ 11:01 PM | ------------------------------------------------------------\n",
      "09/11/19 @ 11:01 PM | 701 rows in lookup table\n",
      "CPXPARAM_Read_DataCheck                          1\n",
      "CPXPARAM_Threads                                 1\n",
      "CPXPARAM_Parallel                                1\n",
      "CPXPARAM_RandomSeed                              0\n",
      "CPXPARAM_TimeLimit                               200\n",
      "CPXPARAM_MIP_Tolerances_LowerCutoff              0.15455785975793163\n",
      "CPXPARAM_MIP_Tolerances_UpperCutoff              0.16084350076384679\n"
     ]
    },
    {
     "name": "stderr",
     "output_type": "stream",
     "text": [
      "Warning: Control callbacks may disable some MIP features.\n"
     ]
    },
    {
     "name": "stdout",
     "output_type": "stream",
     "text": [
      "Lazy constraint(s) or lazy constraint callback is present.\n",
      "    Disabling dual reductions (CPX_PARAM_REDUCE) in presolve.\n",
      "    Disabling non-linear reductions (CPX_PARAM_PRELINEAR) in presolve.\n",
      "         Disabling repeat represolve because of lazy constraint/incumbent callback.\n",
      "09/11/19 @ 11:01 PM | adding 161 initial cuts\n",
      "1 of 1 MIP starts provided solutions.\n",
      "MIP start 'mip_start_0' defined initial solution with objective 0.1608.\n",
      "Tried aggregator 1 time.\n",
      "Reduced MIP has 17 rows, 34 columns, and 63 nonzeros.\n",
      "Reduced MIP has 15 binaries, 17 generals, 0 SOSs, and 0 indicators.\n",
      "Presolve time = 0.02 sec. (0.03 ticks)\n",
      "Probing time = 0.00 sec. (0.01 ticks)\n",
      "MIP emphasis: balance optimality and feasibility.\n",
      "MIP search method: traditional branch-and-cut.\n",
      "Parallel mode: none, using 1 thread.\n",
      "Root relaxation solution time = 0.00 sec. (0.02 ticks)\n",
      "\n",
      "        Nodes                                         Cuts/\n",
      "   Node  Left     Objective  IInf  Best Integer    Best Bound    ItCnt     Gap         Variable B NodeID Parent  Depth\n",
      "\n",
      "*     0+    0                            0.1608        0.1446            10.13%\n",
      "      0     0        0.1546     1        0.1608        0.1546        1    3.91%\n",
      "      0     2        0.1546     5        0.1608        0.1546        1    3.91%                        0             0\n",
      "Elapsed time = 0.08 sec. (0.83 ticks, tree = 0.01 MB, solutions = 1)\n",
      "   3211  1306        0.1591     9        0.1608        0.1546    13924    3.91%           rho_0 U   3211   3210     19\n",
      "   5576  2498        0.1546    16        0.1608        0.1546    26313    3.91%           rho_0 D   5576   5574     50\n",
      "   8370  3507        0.1605     4        0.1608        0.1550    36214    3.62%          rho_10 D   8370   8369     46\n",
      "  11372  4122        0.1550    16        0.1608        0.1550    45262    3.61%           rho_6 U  11372  11312     30\n",
      "  14400  5425        cutoff              0.1608        0.1551    54591    3.57%          rho_11 U  14400  14399     35\n",
      "  17173  6679        0.1585     6        0.1608        0.1551    63556    3.55%           rho_4 U  17173  17172     41\n",
      "  20070  7622        0.1590    12        0.1608        0.1553    73079    3.43%           rho_8 U  20070  20069     42\n",
      "  22624  8500        0.1605     5        0.1608        0.1557    83763    3.20%           rho_3 N  22624  22623     47\n",
      "  25493  9681        0.1582     9        0.1608        0.1560    92254    3.02%           rho_9 U  25493   4625     47\n",
      "  36610 14674        0.1587     5        0.1608        0.1563   126962    2.82%           rho_9 D  36610  36609     35\n",
      "Elapsed time = 5.88 sec. (3100.90 ticks, tree = 3.51 MB, solutions = 1)\n",
      "  46203 17432        0.1565     9        0.1608        0.1565   159909    2.69%           rho_1 D  46203  46202     17\n",
      "  55838 20243        0.1567    16        0.1608        0.1567   190828    2.57%           rho_0 D  55838  55088     39\n",
      "  65427 22366        0.1603     6        0.1608        0.1569   222190    2.42%           rho_3 N  65427  65426     40\n",
      "  74705 23818        cutoff              0.1608        0.1571   254067    2.31%           rho_1 U  74705  74704     21\n",
      "  83709 25744        0.1573     7        0.1608        0.1573   286262    2.18%           rho_2 D  83709  76219     41\n",
      "  92626 26624        0.1608     9        0.1608        0.1575   320158    2.09%           rho_9 N  92626  92625     50\n",
      " 101765 28164        0.1595     9        0.1608        0.1576   353734    2.02%           rho_2 D 101765 101764     34\n",
      " 110960 30250        0.1577     9        0.1608        0.1577   385659    1.93%           rho_3 D 110960  51466     43\n",
      " 120421 31223        0.1592    11        0.1608        0.1578   417134    1.91%           rho_2 D 120421 120420     33\n",
      " 129470 33372        cutoff              0.1608        0.1579   448819    1.84%           rho_9 N 129470 129469     20\n",
      "Elapsed time = 22.95 sec. (12638.18 ticks, tree = 9.40 MB, solutions = 1)\n",
      " 138278 34291        0.1591     9        0.1608        0.1580   480653    1.76%           rho_3 D 138278 138276     42\n",
      " 147845 35800        0.1604    10        0.1608        0.1581   507120    1.68%           rho_8 N 147845  31685     34\n",
      " 156552 34723        0.1600     6        0.1608        0.1583   537096    1.58%           rho_9 N 156552  66519     24\n",
      " 165294 34004        0.1604    10        0.1608        0.1584   565313    1.52%           rho_8 N 165294  82533     52\n",
      " 174579 34319        cutoff              0.1608        0.1585   595313    1.43%           rho_9 U 174579 174578     46\n",
      " 182792 33602        cutoff              0.1608        0.1587   627146    1.36%           rho_9 U 182792  30859     62\n",
      " 191845 33760        0.1600     9        0.1608        0.1588   654864    1.28%           rho_4 N 191845  47109     35\n",
      " 200759 34763        0.1603     5        0.1608        0.1588   682795    1.24%           rho_9 D 200759 200758     52\n",
      " 209349 34305        cutoff              0.1608        0.1589   712215    1.19%          rho_11 D 209349 209348     38\n",
      " 217996 34046        cutoff              0.1608        0.1590   740928    1.13%           rho_4 U 217996 217995     18\n",
      "Elapsed time = 37.31 sec. (22175.76 ticks, tree = 9.62 MB, solutions = 1)\n",
      " 226620 31799        0.1591     4        0.1608        0.1591   770526    1.06%           rho_0 D 226620 226618     45\n",
      " 234969 29968        cutoff              0.1608        0.1593   796770    0.99%           rho_6 D 234969 234967     48\n",
      " 243898 28209        0.1594    10        0.1608        0.1594   823985    0.91%           rho_6 D 243898 243897     25\n",
      " 252268 26912        0.1597     6        0.1608        0.1595   850969    0.85%           rho_0 D 252268 252267     37\n",
      " 260950 25026        cutoff              0.1608        0.1596   875420    0.80%           rho_4 U 260950 165672     31\n",
      " 269907 21335        cutoff              0.1608        0.1597   902452    0.68%           rho_3 N 269907 269906     52\n",
      " 279272 18269        0.1598     9        0.1608        0.1598   927237    0.63%           rho_4 D 279272 174221     39\n",
      " 288302 14095        cutoff              0.1608        0.1601   948987    0.49%           rho_4 U 288302 205639     31\n",
      " 297373  7824        0.1604     9        0.1608        0.1604   967886    0.29%           rho_2 D 297373 199126     38\n",
      " 306424   965        cutoff              0.1608        0.1608   985404    0.02%           rho_3 U 306424  54420     46\n",
      "Elapsed time = 52.95 sec. (31713.02 ticks, tree = 2.90 MB, solutions = 1)\n",
      "\n",
      "Implied bound cuts applied:  4\n",
      "User cuts applied:  163\n",
      "\n",
      "Root node processing (before b&c):\n",
      "  Real time             =    0.08 sec. (0.84 ticks)\n",
      "Sequential b&c:\n",
      "  Real time             =   52.97 sec. (31802.09 ticks)\n",
      "                          ------------\n",
      "Total (root+branch&cut) =   53.05 sec. (31802.93 ticks)\n",
      "+----------------------------------------------+------------------+-----------+\n",
      "| Pr(Y = +1) = 1.0/(1.0 + exp(-(-5 + score))   |                  |           |\n",
      "| ============================================ | ================ | ========= |\n",
      "| p_arrest>=2                                  |         1 points |   + ..... |\n",
      "| p_felony>=1                                  |         1 points |   + ..... |\n",
      "| p_pending_charge>=1                          |         1 points |   + ..... |\n",
      "| ============================================ | ================ | ========= |\n",
      "| ADD POINTS FROM ROWS 1 to 3                  |            SCORE |   = ..... |\n",
      "+----------------------------------------------+------------------+-----------+\n",
      "model_id, score_thresholds 0 {'rank_abs': [0]}\n",
      "get_disparity_predefined_group()\n"
     ]
    }
   ],
   "source": [
    "riskslim_summary = slim.risk_cv(X=sub_X, \n",
    "                                Y=sub_Y, \n",
    "                                indicator = indicator,\n",
    "                                y_label='recid_F6', \n",
    "                                max_coef=20, \n",
    "                                max_coef_number=10, \n",
    "                                max_runtime=200, \n",
    "                                c=1e-3, \n",
    "                                seed=816)"
   ]
  },
  {
   "cell_type": "code",
   "execution_count": 26,
   "metadata": {},
   "outputs": [
    {
     "data": {
      "text/plain": [
       "(0.7575640040510059, 0.7575461421584582)"
      ]
     },
     "execution_count": 26,
     "metadata": {},
     "output_type": "execute_result"
    }
   ],
   "source": [
    "np.mean(riskslim_summary['train_auc']), np.mean(riskslim_summary['test_auc'])"
   ]
  },
  {
   "cell_type": "markdown",
   "metadata": {},
   "source": [
    "### Results"
   ]
  },
  {
   "cell_type": "code",
   "execution_count": 27,
   "metadata": {},
   "outputs": [
    {
     "name": "stdout",
     "output_type": "stream",
     "text": [
      "Stored 'summary_F2_KY_interpret' (dict)\n"
     ]
    }
   ],
   "source": [
    "#### save results\n",
    "summary_F2_KY_interpret = {\"CART\": cart_summary,\n",
    "                                   \"EBM\": ebm_summary, \n",
    "                                   'Lasso Stumps': stump_summary, \n",
    "                                   'RiskSLIM': riskslim_summary, \n",
    "                                   'Arnold PSA Raw': raw_auc, \n",
    "                                   'Arnold PSA': calc_auc}\n",
    "%store summary_F2_KY_interpret"
   ]
  },
  {
   "cell_type": "code",
   "execution_count": 28,
   "metadata": {},
   "outputs": [
    {
     "data": {
      "text/plain": [
       "[['CART', 0.7804606563003763, 0.019678037376102454],\n",
       " ['EBM', 0.7934602432928969, 0.008239924382470986],\n",
       " ['Lasso Stumps', 0.7802447561978068, 0.0006868897147329633],\n",
       " ['RiskSLIM', 0.7575461421584582],\n",
       " ['Arnold PSA Raw', 0.719],\n",
       " ['Arnold PSA', 0.709]]"
      ]
     },
     "execution_count": 28,
     "metadata": {},
     "output_type": "execute_result"
    }
   ],
   "source": [
    "results = [[\"CART\", np.mean(cart_summary['holdout_test_auc']), np.mean(cart_summary['auc_diffs'])],\n",
    "           [\"EBM\", np.mean(ebm_summary['holdout_test_auc']), np.mean(ebm_summary['auc_diffs'])], \n",
    "           [\"Lasso Stumps\", np.mean(stump_summary['holdout_test_auc']), np.mean(stump_summary['auc_diffs'])],\n",
    "           ['RiskSLIM', np.mean(riskslim_summary['test_auc'])],\n",
    "           ['Arnold PSA Raw', round(np.mean(raw_auc), 3)], \n",
    "           ['Arnold PSA', round(np.mean(calc_auc), 3)]]\n",
    "results"
   ]
  },
  {
   "cell_type": "code",
   "execution_count": 30,
   "metadata": {},
   "outputs": [],
   "source": [
    "auc = [np.mean(cart_summary['holdout_test_auc']), \n",
    "       np.mean(ebm_summary['holdout_test_auc']), \n",
    "       np.mean(stump_summary['holdout_test_auc']), \n",
    "       np.mean(riskslim_summary['test_auc'])]"
   ]
  },
  {
   "cell_type": "code",
   "execution_count": 31,
   "metadata": {},
   "outputs": [],
   "source": [
    "path = \"C:/Users/binha/Documents/Duke/Cynthia Research/KY-analysis-mytrials/KY Recidivism/KY Results/Models/Six Month/\"\n",
    "results = [[\"Felony\", np.str((round(np.mean(cart_summary['holdout_test_auc']), 3))) + \" (\" + np.str(round(np.std(cart_summary['holdout_test_auc']), 3)) + \")\", \n",
    "            np.str(round(np.mean(ebm_summary['holdout_test_auc']),3)) + \" (\" + np.str(round(np.std(ebm_summary['holdout_test_auc']), 3)) + \")\", \n",
    "            np.str(round(np.mean(stump_summary['holdout_test_auc']),3)) + \" (\" + np.str(round(np.std(stump_summary['holdout_test_auc']), 3)) + \")\",             \n",
    "            np.str(round(np.mean(riskslim_summary['test_auc']),3)) + \" (\" + np.str(round(np.std(riskslim_summary['test_auc']), 3)) + \")\", \n",
    "            round(np.max(auc) - np.min(auc), 3),\n",
    "            np.str(round(np.mean(raw_auc), 3)) + \" (\" + np.str(round(np.std(raw_auc),3)) + \")\", \n",
    "            np.str(round(np.mean(calc_auc), 3)) + \" (\" + np.str(round(np.std(calc_auc),3)) + \")\"]]\n",
    "with open(path + 'Interpretable Models Summary.csv', 'a') as writeFile:\n",
    "    writer = csv.writer(writeFile)\n",
    "    writer.writerows(results)"
   ]
  }
 ],
 "metadata": {
  "kernelspec": {
   "display_name": "Python 3",
   "language": "python",
   "name": "python3"
  },
  "language_info": {
   "codemirror_mode": {
    "name": "ipython",
    "version": 3
   },
   "file_extension": ".py",
   "mimetype": "text/x-python",
   "name": "python",
   "nbconvert_exporter": "python",
   "pygments_lexer": "ipython3",
   "version": "3.7.4"
  }
 },
 "nbformat": 4,
 "nbformat_minor": 4
}
