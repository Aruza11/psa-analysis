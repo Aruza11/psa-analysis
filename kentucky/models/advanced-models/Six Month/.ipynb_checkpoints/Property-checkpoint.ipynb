{
 "cells": [
  {
   "cell_type": "code",
   "execution_count": 2,
   "metadata": {},
   "outputs": [
    {
     "name": "stdout",
     "output_type": "stream",
     "text": [
      "Current working directory is now:  C:\\Users\\binha\\Documents\\Duke\\Cynthia Research\\psa-analysis - test\n"
     ]
    },
    {
     "name": "stderr",
     "output_type": "stream",
     "text": [
      "C:\\Users\\binha\\Anaconda3\\lib\\site-packages\\sklearn\\externals\\six.py:31: DeprecationWarning:\n",
      "\n",
      "The module is deprecated in version 0.21 and will be removed in version 0.23 since we've dropped support for Python 2.7. Please rely on the official version of six (https://pypi.org/project/six/).\n",
      "\n"
     ]
    },
    {
     "name": "stdout",
     "output_type": "stream",
     "text": [
      "no stored variable summary_property6_KY_interpret\n"
     ]
    }
   ],
   "source": [
    "import os \n",
    "os.chdir('../../../../')\n",
    "print(\"Current working directory is now: \", os.getcwd())\n",
    "\n",
    "import pandas as pd \n",
    "import numpy as np\n",
    "import csv\n",
    "import utils.baseline_functions as base\n",
    "import stumps\n",
    "import RiskSLIM as slim\n",
    "\n",
    "from sklearn.linear_model import LogisticRegression\n",
    "from sklearn.model_selection import KFold, GridSearchCV\n",
    "from sklearn.metrics import roc_auc_score\n",
    "\n",
    "# restore saved variables\n",
    "%store -r summary_property6_KY_interpret"
   ]
  },
  {
   "cell_type": "markdown",
   "metadata": {},
   "source": [
    "### CART & EBM"
   ]
  },
  {
   "cell_type": "code",
   "execution_count": 3,
   "metadata": {},
   "outputs": [],
   "source": [
    "### load data\n",
    "data = pd.read_csv(\"~/Documents/Duke/Cynthia Research/KY-analysis-mytrials/KY Recidivism/KY data/kentucky_data.csv\")\n",
    "data = data.drop(['fta_risk_score_raw','nca_risk_score_raw','pvf_risk_score_raw', \n",
    "                  'fta_calc', 'nca_calc', 'pvf_calc'], axis=1)\n",
    "x = data.loc[:,:'current_violence']\n",
    "y = data['recid_property_six_month'].values"
   ]
  },
  {
   "cell_type": "code",
   "execution_count": 4,
   "metadata": {
    "scrolled": true
   },
   "outputs": [
    {
     "name": "stdout",
     "output_type": "stream",
     "text": [
      "model_id, score_thresholds 0 {'rank_abs': [0]}\n",
      "get_disparity_predefined_group()\n",
      "model_id, score_thresholds 0 {'rank_abs': [3]}\n",
      "get_disparity_predefined_group()\n",
      "model_id, score_thresholds 0 {'rank_abs': [0]}\n",
      "get_disparity_predefined_group()\n",
      "model_id, score_thresholds 0 {'rank_abs': [2]}\n",
      "get_disparity_predefined_group()\n",
      "model_id, score_thresholds 0 {'rank_abs': [3]}\n",
      "get_disparity_predefined_group()\n"
     ]
    },
    {
     "name": "stderr",
     "output_type": "stream",
     "text": [
      "WARNING:interpret.utils.all:Passing a numpy array to schema autogen when it should be dataframe.\n",
      "WARNING:interpret.utils.all:Passing a numpy array to schema autogen when it should be dataframe.\n",
      "WARNING:interpret.utils.all:Passing a numpy array to schema autogen when it should be dataframe.\n",
      "WARNING:interpret.utils.all:Passing a numpy array to schema autogen when it should be dataframe.\n",
      "WARNING:interpret.utils.all:Passing a numpy array to schema autogen when it should be dataframe.\n",
      "C:\\Users\\binha\\Anaconda3\\lib\\site-packages\\numpy\\core\\_methods.py:121: RuntimeWarning:\n",
      "\n",
      "overflow encountered in multiply\n",
      "\n",
      "WARNING:interpret.utils.all:Passing a numpy array to schema autogen when it should be dataframe.\n",
      "WARNING:interpret.utils.all:Passing a numpy array to schema autogen when it should be dataframe.\n",
      "WARNING:interpret.utils.all:Passing a numpy array to schema autogen when it should be dataframe.\n",
      "WARNING:interpret.utils.all:Passing a numpy array to schema autogen when it should be dataframe.\n",
      "WARNING:interpret.utils.all:Passing a numpy array to schema autogen when it should be dataframe.\n",
      "WARNING:interpret.utils.all:Passing a numpy array to schema autogen when it should be dataframe.\n",
      "C:\\Users\\binha\\Anaconda3\\lib\\site-packages\\numpy\\core\\_methods.py:121: RuntimeWarning:\n",
      "\n",
      "overflow encountered in multiply\n",
      "\n",
      "WARNING:interpret.utils.all:Passing a numpy array to schema autogen when it should be dataframe.\n"
     ]
    },
    {
     "name": "stdout",
     "output_type": "stream",
     "text": [
      "model_id, score_thresholds 0 {'rank_abs': [1]}\n",
      "get_disparity_predefined_group()\n"
     ]
    },
    {
     "name": "stderr",
     "output_type": "stream",
     "text": [
      "WARNING:interpret.utils.all:Passing a numpy array to schema autogen when it should be dataframe.\n",
      "WARNING:interpret.utils.all:Passing a numpy array to schema autogen when it should be dataframe.\n",
      "WARNING:interpret.utils.all:Passing a numpy array to schema autogen when it should be dataframe.\n",
      "C:\\Users\\binha\\Anaconda3\\lib\\site-packages\\numpy\\core\\_methods.py:121: RuntimeWarning:\n",
      "\n",
      "overflow encountered in multiply\n",
      "\n",
      "WARNING:interpret.utils.all:Passing a numpy array to schema autogen when it should be dataframe.\n",
      "WARNING:interpret.utils.all:Passing a numpy array to schema autogen when it should be dataframe.\n",
      "C:\\Users\\binha\\Anaconda3\\lib\\site-packages\\numpy\\core\\_methods.py:121: RuntimeWarning:\n",
      "\n",
      "overflow encountered in multiply\n",
      "\n",
      "WARNING:interpret.utils.all:Passing a numpy array to schema autogen when it should be dataframe.\n",
      "WARNING:interpret.utils.all:Passing a numpy array to schema autogen when it should be dataframe.\n",
      "WARNING:interpret.utils.all:Passing a numpy array to schema autogen when it should be dataframe.\n",
      "WARNING:interpret.utils.all:Passing a numpy array to schema autogen when it should be dataframe.\n",
      "C:\\Users\\binha\\Anaconda3\\lib\\site-packages\\numpy\\core\\_methods.py:121: RuntimeWarning:\n",
      "\n",
      "overflow encountered in multiply\n",
      "\n",
      "WARNING:interpret.utils.all:Passing a numpy array to schema autogen when it should be dataframe.\n",
      "WARNING:interpret.utils.all:Passing a numpy array to schema autogen when it should be dataframe.\n",
      "C:\\Users\\binha\\Anaconda3\\lib\\site-packages\\numpy\\core\\_methods.py:121: RuntimeWarning:\n",
      "\n",
      "overflow encountered in multiply\n",
      "\n",
      "WARNING:interpret.utils.all:Passing a numpy array to schema autogen when it should be dataframe.\n"
     ]
    },
    {
     "name": "stdout",
     "output_type": "stream",
     "text": [
      "model_id, score_thresholds 0 {'rank_abs': [4]}\n",
      "get_disparity_predefined_group()\n"
     ]
    },
    {
     "name": "stderr",
     "output_type": "stream",
     "text": [
      "WARNING:interpret.utils.all:Passing a numpy array to schema autogen when it should be dataframe.\n",
      "WARNING:interpret.utils.all:Passing a numpy array to schema autogen when it should be dataframe.\n",
      "WARNING:interpret.utils.all:Passing a numpy array to schema autogen when it should be dataframe.\n",
      "WARNING:interpret.utils.all:Passing a numpy array to schema autogen when it should be dataframe.\n",
      "WARNING:interpret.utils.all:Passing a numpy array to schema autogen when it should be dataframe.\n",
      "C:\\Users\\binha\\Anaconda3\\lib\\site-packages\\numpy\\core\\_methods.py:121: RuntimeWarning:\n",
      "\n",
      "overflow encountered in multiply\n",
      "\n",
      "WARNING:interpret.utils.all:Passing a numpy array to schema autogen when it should be dataframe.\n",
      "WARNING:interpret.utils.all:Passing a numpy array to schema autogen when it should be dataframe.\n",
      "WARNING:interpret.utils.all:Passing a numpy array to schema autogen when it should be dataframe.\n",
      "WARNING:interpret.utils.all:Passing a numpy array to schema autogen when it should be dataframe.\n",
      "WARNING:interpret.utils.all:Passing a numpy array to schema autogen when it should be dataframe.\n",
      "WARNING:interpret.utils.all:Passing a numpy array to schema autogen when it should be dataframe.\n",
      "C:\\Users\\binha\\Anaconda3\\lib\\site-packages\\numpy\\core\\_methods.py:121: RuntimeWarning:\n",
      "\n",
      "overflow encountered in multiply\n",
      "\n",
      "WARNING:interpret.utils.all:Passing a numpy array to schema autogen when it should be dataframe.\n"
     ]
    },
    {
     "name": "stdout",
     "output_type": "stream",
     "text": [
      "model_id, score_thresholds 0 {'rank_abs': [0]}\n",
      "get_disparity_predefined_group()\n"
     ]
    },
    {
     "name": "stderr",
     "output_type": "stream",
     "text": [
      "WARNING:interpret.utils.all:Passing a numpy array to schema autogen when it should be dataframe.\n",
      "WARNING:interpret.utils.all:Passing a numpy array to schema autogen when it should be dataframe.\n",
      "WARNING:interpret.utils.all:Passing a numpy array to schema autogen when it should be dataframe.\n",
      "C:\\Users\\binha\\Anaconda3\\lib\\site-packages\\numpy\\core\\_methods.py:121: RuntimeWarning:\n",
      "\n",
      "overflow encountered in multiply\n",
      "\n",
      "WARNING:interpret.utils.all:Passing a numpy array to schema autogen when it should be dataframe.\n",
      "WARNING:interpret.utils.all:Passing a numpy array to schema autogen when it should be dataframe.\n",
      "C:\\Users\\binha\\Anaconda3\\lib\\site-packages\\numpy\\core\\_methods.py:121: RuntimeWarning:\n",
      "\n",
      "overflow encountered in multiply\n",
      "\n",
      "WARNING:interpret.utils.all:Passing a numpy array to schema autogen when it should be dataframe.\n",
      "WARNING:interpret.utils.all:Passing a numpy array to schema autogen when it should be dataframe.\n",
      "WARNING:interpret.utils.all:Passing a numpy array to schema autogen when it should be dataframe.\n",
      "WARNING:interpret.utils.all:Passing a numpy array to schema autogen when it should be dataframe.\n",
      "C:\\Users\\binha\\Anaconda3\\lib\\site-packages\\numpy\\core\\_methods.py:121: RuntimeWarning:\n",
      "\n",
      "overflow encountered in multiply\n",
      "\n",
      "WARNING:interpret.utils.all:Passing a numpy array to schema autogen when it should be dataframe.\n",
      "WARNING:interpret.utils.all:Passing a numpy array to schema autogen when it should be dataframe.\n",
      "C:\\Users\\binha\\Anaconda3\\lib\\site-packages\\numpy\\core\\_methods.py:121: RuntimeWarning:\n",
      "\n",
      "overflow encountered in multiply\n",
      "\n",
      "WARNING:interpret.utils.all:Passing a numpy array to schema autogen when it should be dataframe.\n"
     ]
    },
    {
     "name": "stdout",
     "output_type": "stream",
     "text": [
      "model_id, score_thresholds 0 {'rank_abs': [0]}\n",
      "get_disparity_predefined_group()\n"
     ]
    },
    {
     "name": "stderr",
     "output_type": "stream",
     "text": [
      "WARNING:interpret.utils.all:Passing a numpy array to schema autogen when it should be dataframe.\n",
      "C:\\Users\\binha\\Anaconda3\\lib\\site-packages\\numpy\\core\\_methods.py:121: RuntimeWarning:\n",
      "\n",
      "overflow encountered in multiply\n",
      "\n",
      "WARNING:interpret.utils.all:Passing a numpy array to schema autogen when it should be dataframe.\n",
      "WARNING:interpret.utils.all:Passing a numpy array to schema autogen when it should be dataframe.\n",
      "WARNING:interpret.utils.all:Passing a numpy array to schema autogen when it should be dataframe.\n",
      "C:\\Users\\binha\\Anaconda3\\lib\\site-packages\\numpy\\core\\_methods.py:121: RuntimeWarning:\n",
      "\n",
      "overflow encountered in multiply\n",
      "\n",
      "WARNING:interpret.utils.all:Passing a numpy array to schema autogen when it should be dataframe.\n",
      "C:\\Users\\binha\\Anaconda3\\lib\\site-packages\\numpy\\core\\_methods.py:121: RuntimeWarning:\n",
      "\n",
      "overflow encountered in multiply\n",
      "\n",
      "WARNING:interpret.utils.all:Passing a numpy array to schema autogen when it should be dataframe.\n",
      "C:\\Users\\binha\\Anaconda3\\lib\\site-packages\\numpy\\core\\_methods.py:121: RuntimeWarning:\n",
      "\n",
      "overflow encountered in multiply\n",
      "\n",
      "WARNING:interpret.utils.all:Passing a numpy array to schema autogen when it should be dataframe.\n",
      "WARNING:interpret.utils.all:Passing a numpy array to schema autogen when it should be dataframe.\n",
      "WARNING:interpret.utils.all:Passing a numpy array to schema autogen when it should be dataframe.\n",
      "WARNING:interpret.utils.all:Passing a numpy array to schema autogen when it should be dataframe.\n",
      "C:\\Users\\binha\\Anaconda3\\lib\\site-packages\\numpy\\core\\_methods.py:121: RuntimeWarning:\n",
      "\n",
      "overflow encountered in multiply\n",
      "\n",
      "WARNING:interpret.utils.all:Passing a numpy array to schema autogen when it should be dataframe.\n",
      "C:\\Users\\binha\\Anaconda3\\lib\\site-packages\\numpy\\core\\_methods.py:121: RuntimeWarning:\n",
      "\n",
      "overflow encountered in multiply\n",
      "\n",
      "WARNING:interpret.utils.all:Passing a numpy array to schema autogen when it should be dataframe.\n",
      "C:\\Users\\binha\\Anaconda3\\lib\\site-packages\\numpy\\core\\_methods.py:121: RuntimeWarning:\n",
      "\n",
      "overflow encountered in multiply\n",
      "\n"
     ]
    },
    {
     "name": "stdout",
     "output_type": "stream",
     "text": [
      "model_id, score_thresholds 0 {'rank_abs': [13275]}\n",
      "get_disparity_predefined_group()\n"
     ]
    }
   ],
   "source": [
    "#### CART\n",
    "depth = [4,5]\n",
    "cart_summary = base.CART(X=x,\n",
    "                         Y=y,\n",
    "                         depth=depth,\n",
    "                         seed=816)\n",
    "\n",
    "#### EBM\n",
    "estimators = [60]\n",
    "depth = [2,3]\n",
    "learning_rate = [0.5]\n",
    "ebm_summary = base.EBM(X=x,\n",
    "                       Y=y,\n",
    "                       learning_rate=learning_rate,\n",
    "                       depth=depth,\n",
    "                       estimators=estimators,\n",
    "                       seed =816)"
   ]
  },
  {
   "cell_type": "code",
   "execution_count": null,
   "metadata": {},
   "outputs": [
    {
     "name": "stderr",
     "output_type": "stream",
     "text": [
      "WARNING:interpret.utils.all:Passing a numpy array to schema autogen when it should be dataframe.\n",
      "WARNING:interpret.utils.all:Passing a numpy array to schema autogen when it should be dataframe.\n",
      "WARNING:interpret.utils.all:Passing a numpy array to schema autogen when it should be dataframe.\n",
      "WARNING:interpret.utils.all:Passing a numpy array to schema autogen when it should be dataframe.\n",
      "WARNING:interpret.utils.all:Passing a numpy array to schema autogen when it should be dataframe.\n",
      "WARNING:interpret.utils.all:Passing a numpy array to schema autogen when it should be dataframe.\n",
      "WARNING:interpret.utils.all:Passing a numpy array to schema autogen when it should be dataframe.\n",
      "WARNING:interpret.utils.all:Passing a numpy array to schema autogen when it should be dataframe.\n",
      "WARNING:interpret.utils.all:Passing a numpy array to schema autogen when it should be dataframe.\n",
      "WARNING:interpret.utils.all:Passing a numpy array to schema autogen when it should be dataframe.\n",
      "WARNING:interpret.utils.all:Passing a numpy array to schema autogen when it should be dataframe.\n",
      "WARNING:interpret.utils.all:Passing a numpy array to schema autogen when it should be dataframe.\n",
      "WARNING:interpret.utils.all:Passing a numpy array to schema autogen when it should be dataframe.\n",
      "WARNING:interpret.utils.all:Passing a numpy array to schema autogen when it should be dataframe.\n",
      "WARNING:interpret.utils.all:Passing a numpy array to schema autogen when it should be dataframe.\n",
      "WARNING:interpret.utils.all:Passing a numpy array to schema autogen when it should be dataframe.\n",
      "WARNING:interpret.utils.all:Passing a numpy array to schema autogen when it should be dataframe.\n",
      "WARNING:interpret.utils.all:Passing a numpy array to schema autogen when it should be dataframe.\n",
      "WARNING:interpret.utils.all:Passing a numpy array to schema autogen when it should be dataframe.\n",
      "WARNING:interpret.utils.all:Passing a numpy array to schema autogen when it should be dataframe.\n",
      "WARNING:interpret.utils.all:Passing a numpy array to schema autogen when it should be dataframe.\n",
      "WARNING:interpret.utils.all:Passing a numpy array to schema autogen when it should be dataframe.\n"
     ]
    },
    {
     "name": "stdout",
     "output_type": "stream",
     "text": [
      "model_id, score_thresholds 0 {'rank_abs': [1]}\n",
      "get_disparity_predefined_group()\n"
     ]
    },
    {
     "name": "stderr",
     "output_type": "stream",
     "text": [
      "WARNING:interpret.utils.all:Passing a numpy array to schema autogen when it should be dataframe.\n",
      "WARNING:interpret.utils.all:Passing a numpy array to schema autogen when it should be dataframe.\n",
      "WARNING:interpret.utils.all:Passing a numpy array to schema autogen when it should be dataframe.\n",
      "WARNING:interpret.utils.all:Passing a numpy array to schema autogen when it should be dataframe.\n",
      "WARNING:interpret.utils.all:Passing a numpy array to schema autogen when it should be dataframe.\n",
      "WARNING:interpret.utils.all:Passing a numpy array to schema autogen when it should be dataframe.\n",
      "WARNING:interpret.utils.all:Passing a numpy array to schema autogen when it should be dataframe.\n",
      "WARNING:interpret.utils.all:Passing a numpy array to schema autogen when it should be dataframe.\n",
      "WARNING:interpret.utils.all:Passing a numpy array to schema autogen when it should be dataframe.\n",
      "WARNING:interpret.utils.all:Passing a numpy array to schema autogen when it should be dataframe.\n",
      "WARNING:interpret.utils.all:Passing a numpy array to schema autogen when it should be dataframe.\n",
      "WARNING:interpret.utils.all:Passing a numpy array to schema autogen when it should be dataframe.\n",
      "WARNING:interpret.utils.all:Passing a numpy array to schema autogen when it should be dataframe.\n",
      "WARNING:interpret.utils.all:Passing a numpy array to schema autogen when it should be dataframe.\n",
      "WARNING:interpret.utils.all:Passing a numpy array to schema autogen when it should be dataframe.\n",
      "WARNING:interpret.utils.all:Passing a numpy array to schema autogen when it should be dataframe.\n",
      "WARNING:interpret.utils.all:Passing a numpy array to schema autogen when it should be dataframe.\n",
      "WARNING:interpret.utils.all:Passing a numpy array to schema autogen when it should be dataframe.\n",
      "WARNING:interpret.utils.all:Passing a numpy array to schema autogen when it should be dataframe.\n",
      "WARNING:interpret.utils.all:Passing a numpy array to schema autogen when it should be dataframe.\n",
      "WARNING:interpret.utils.all:Passing a numpy array to schema autogen when it should be dataframe.\n",
      "WARNING:interpret.utils.all:Passing a numpy array to schema autogen when it should be dataframe.\n"
     ]
    },
    {
     "name": "stdout",
     "output_type": "stream",
     "text": [
      "model_id, score_thresholds 0 {'rank_abs': [0]}\n",
      "get_disparity_predefined_group()\n"
     ]
    },
    {
     "name": "stderr",
     "output_type": "stream",
     "text": [
      "WARNING:interpret.utils.all:Passing a numpy array to schema autogen when it should be dataframe.\n",
      "WARNING:interpret.utils.all:Passing a numpy array to schema autogen when it should be dataframe.\n",
      "WARNING:interpret.utils.all:Passing a numpy array to schema autogen when it should be dataframe.\n",
      "WARNING:interpret.utils.all:Passing a numpy array to schema autogen when it should be dataframe.\n",
      "WARNING:interpret.utils.all:Passing a numpy array to schema autogen when it should be dataframe.\n",
      "WARNING:interpret.utils.all:Passing a numpy array to schema autogen when it should be dataframe.\n",
      "WARNING:interpret.utils.all:Passing a numpy array to schema autogen when it should be dataframe.\n",
      "WARNING:interpret.utils.all:Passing a numpy array to schema autogen when it should be dataframe.\n",
      "WARNING:interpret.utils.all:Passing a numpy array to schema autogen when it should be dataframe.\n",
      "WARNING:interpret.utils.all:Passing a numpy array to schema autogen when it should be dataframe.\n",
      "WARNING:interpret.utils.all:Passing a numpy array to schema autogen when it should be dataframe.\n",
      "WARNING:interpret.utils.all:Passing a numpy array to schema autogen when it should be dataframe.\n",
      "WARNING:interpret.utils.all:Passing a numpy array to schema autogen when it should be dataframe.\n",
      "WARNING:interpret.utils.all:Passing a numpy array to schema autogen when it should be dataframe.\n",
      "WARNING:interpret.utils.all:Passing a numpy array to schema autogen when it should be dataframe.\n",
      "WARNING:interpret.utils.all:Passing a numpy array to schema autogen when it should be dataframe.\n",
      "WARNING:interpret.utils.all:Passing a numpy array to schema autogen when it should be dataframe.\n",
      "WARNING:interpret.utils.all:Passing a numpy array to schema autogen when it should be dataframe.\n",
      "WARNING:interpret.utils.all:Passing a numpy array to schema autogen when it should be dataframe.\n",
      "WARNING:interpret.utils.all:Passing a numpy array to schema autogen when it should be dataframe.\n",
      "WARNING:interpret.utils.all:Passing a numpy array to schema autogen when it should be dataframe.\n",
      "WARNING:interpret.utils.all:Passing a numpy array to schema autogen when it should be dataframe.\n"
     ]
    },
    {
     "name": "stdout",
     "output_type": "stream",
     "text": [
      "model_id, score_thresholds 0 {'rank_abs': [0]}\n",
      "get_disparity_predefined_group()\n"
     ]
    },
    {
     "name": "stderr",
     "output_type": "stream",
     "text": [
      "WARNING:interpret.utils.all:Passing a numpy array to schema autogen when it should be dataframe.\n",
      "WARNING:interpret.utils.all:Passing a numpy array to schema autogen when it should be dataframe.\n",
      "WARNING:interpret.utils.all:Passing a numpy array to schema autogen when it should be dataframe.\n",
      "WARNING:interpret.utils.all:Passing a numpy array to schema autogen when it should be dataframe.\n",
      "WARNING:interpret.utils.all:Passing a numpy array to schema autogen when it should be dataframe.\n",
      "WARNING:interpret.utils.all:Passing a numpy array to schema autogen when it should be dataframe.\n",
      "WARNING:interpret.utils.all:Passing a numpy array to schema autogen when it should be dataframe.\n",
      "WARNING:interpret.utils.all:Passing a numpy array to schema autogen when it should be dataframe.\n",
      "WARNING:interpret.utils.all:Passing a numpy array to schema autogen when it should be dataframe.\n",
      "WARNING:interpret.utils.all:Passing a numpy array to schema autogen when it should be dataframe.\n",
      "WARNING:interpret.utils.all:Passing a numpy array to schema autogen when it should be dataframe.\n",
      "WARNING:interpret.utils.all:Passing a numpy array to schema autogen when it should be dataframe.\n",
      "WARNING:interpret.utils.all:Passing a numpy array to schema autogen when it should be dataframe.\n",
      "WARNING:interpret.utils.all:Passing a numpy array to schema autogen when it should be dataframe.\n",
      "WARNING:interpret.utils.all:Passing a numpy array to schema autogen when it should be dataframe.\n",
      "WARNING:interpret.utils.all:Passing a numpy array to schema autogen when it should be dataframe.\n",
      "WARNING:interpret.utils.all:Passing a numpy array to schema autogen when it should be dataframe.\n",
      "WARNING:interpret.utils.all:Passing a numpy array to schema autogen when it should be dataframe.\n",
      "WARNING:interpret.utils.all:Passing a numpy array to schema autogen when it should be dataframe.\n",
      "WARNING:interpret.utils.all:Passing a numpy array to schema autogen when it should be dataframe.\n",
      "WARNING:interpret.utils.all:Passing a numpy array to schema autogen when it should be dataframe.\n",
      "WARNING:interpret.utils.all:Passing a numpy array to schema autogen when it should be dataframe.\n"
     ]
    },
    {
     "name": "stdout",
     "output_type": "stream",
     "text": [
      "model_id, score_thresholds 0 {'rank_abs': [0]}\n",
      "get_disparity_predefined_group()\n"
     ]
    },
    {
     "name": "stderr",
     "output_type": "stream",
     "text": [
      "WARNING:interpret.utils.all:Passing a numpy array to schema autogen when it should be dataframe.\n",
      "WARNING:interpret.utils.all:Passing a numpy array to schema autogen when it should be dataframe.\n",
      "WARNING:interpret.utils.all:Passing a numpy array to schema autogen when it should be dataframe.\n",
      "WARNING:interpret.utils.all:Passing a numpy array to schema autogen when it should be dataframe.\n",
      "WARNING:interpret.utils.all:Passing a numpy array to schema autogen when it should be dataframe.\n",
      "WARNING:interpret.utils.all:Passing a numpy array to schema autogen when it should be dataframe.\n"
     ]
    }
   ],
   "source": [
    "#### EBM\n",
    "estimators = [60]\n",
    "depth = [2,3]\n",
    "learning_rate = [0.5]\n",
    "ebm_summary = base.EBM(X=x,\n",
    "                       Y=y,\n",
    "                       learning_rate=learning_rate,\n",
    "                       depth=depth,\n",
    "                       estimators=estimators,\n",
    "                       seed =816)"
   ]
  },
  {
   "cell_type": "code",
   "execution_count": 5,
   "metadata": {},
   "outputs": [
    {
     "data": {
      "text/plain": [
       "(0.8345513451217756, 0.021337278718561968)"
      ]
     },
     "execution_count": 5,
     "metadata": {},
     "output_type": "execute_result"
    }
   ],
   "source": [
    "np.mean(cart_summary['holdout_test_auc']), np.mean(cart_summary['auc_diffs'])"
   ]
  },
  {
   "cell_type": "code",
   "execution_count": 6,
   "metadata": {},
   "outputs": [
    {
     "data": {
      "text/plain": [
       "(0.8019609085216303, 0.019184157109442813)"
      ]
     },
     "execution_count": 6,
     "metadata": {},
     "output_type": "execute_result"
    }
   ],
   "source": [
    "np.mean(ebm_summary['holdout_test_auc']), np.mean(ebm_summary['auc_diffs'])"
   ]
  },
  {
   "cell_type": "markdown",
   "metadata": {},
   "source": [
    "## Lasso Stumps"
   ]
  },
  {
   "cell_type": "code",
   "execution_count": 7,
   "metadata": {},
   "outputs": [],
   "source": [
    "## load whole data\n",
    "data = pd.read_csv(\"~/Documents/Duke/Cynthia Research/KY-analysis-mytrials/KY Recidivism/KY data/kentucky_stumps.csv\")\n",
    "X_stumps, Y_stumps = data.loc[:,:'current_violence>=1'], data['recid_property_six_month'].values\n",
    "Y_stumps[Y_stumps == -1] = 0\n",
    "cols = X_stumps.columns[3:]\n",
    "\n",
    "## load train & test data\n",
    "train_stumps = pd.read_csv(\"~/Documents/Duke/Cynthia Research/KY-analysis-mytrials/KY Recidivism/KY data/kentucky_train_stumps.csv\")\n",
    "test_stumps = pd.read_csv(\"~/Documents/Duke/Cynthia Research/KY-analysis-mytrials/KY Recidivism/KY data/kentucky_test_stumps.csv\")\n",
    "\n",
    "X_train_stumps, Y_train_stumps = train_stumps.loc[:,:'current_violence>=1'], train_stumps['recid_property_six_month'].values\n",
    "X_test_stumps, Y_test_stumps = test_stumps.loc[:,:'current_violence>=1'], test_stumps['recid_property_six_month'].values\n",
    "\n",
    "Y_train_stumps[Y_train_stumps == -1] = 0\n",
    "Y_test_stumps[Y_test_stumps == -1] = 0"
   ]
  },
  {
   "cell_type": "markdown",
   "metadata": {},
   "source": [
    "#### Nested Cross Validation"
   ]
  },
  {
   "cell_type": "code",
   "execution_count": 8,
   "metadata": {},
   "outputs": [
    {
     "name": "stdout",
     "output_type": "stream",
     "text": [
      "model_id, score_thresholds 0 {'rank_abs': [9885]}\n",
      "get_disparity_predefined_group()\n",
      "model_id, score_thresholds 0 {'rank_abs': [10066]}\n",
      "get_disparity_predefined_group()\n",
      "model_id, score_thresholds 0 {'rank_abs': [10373]}\n",
      "get_disparity_predefined_group()\n",
      "model_id, score_thresholds 0 {'rank_abs': [10276]}\n",
      "get_disparity_predefined_group()\n",
      "model_id, score_thresholds 0 {'rank_abs': [10566]}\n",
      "get_disparity_predefined_group()\n"
     ]
    }
   ],
   "source": [
    "stump_summary = stumps.stump_cv(X = X_stumps, \n",
    "                                Y = Y_stumps, \n",
    "                                columns=cols, \n",
    "                                c_grid={'C': [0.007, 0.005, 0.003]}, \n",
    "                                seed = 816)"
   ]
  },
  {
   "cell_type": "code",
   "execution_count": 9,
   "metadata": {},
   "outputs": [
    {
     "data": {
      "text/plain": [
       "([{'C': 0.005}, {'C': 0.007}, {'C': 0.007}, {'C': 0.007}, {'C': 0.007}],\n",
       " 0.866805425226354,\n",
       " 0.013694813594901278)"
      ]
     },
     "execution_count": 9,
     "metadata": {},
     "output_type": "execute_result"
    }
   ],
   "source": [
    "stump_summary['best_params'], np.mean(stump_summary['holdout_test_auc']), np.mean(stump_summary['auc_diffs'])"
   ]
  },
  {
   "cell_type": "markdown",
   "metadata": {},
   "source": [
    "##### Best Stump Model"
   ]
  },
  {
   "cell_type": "code",
   "execution_count": 16,
   "metadata": {},
   "outputs": [],
   "source": [
    "best_stump_model = stumps.stump_model(X_train_stumps, Y_train_stumps, \n",
    "                                      X_test_stumps, Y_test_stumps, \n",
    "                                      c=0.002, columns=cols, seed=816)"
   ]
  },
  {
   "cell_type": "markdown",
   "metadata": {},
   "source": [
    "##### Prediction Table"
   ]
  },
  {
   "cell_type": "code",
   "execution_count": 17,
   "metadata": {
    "scrolled": true
   },
   "outputs": [
    {
     "name": "stdout",
     "output_type": "stream",
     "text": [
      "+-----------------------------------+----------------+\n",
      "| Features                          | Score          |\n",
      "|====================================================|\n",
      "| sex                               | 4.8            |\n",
      "| age_at_current_charge<=18         | 58.2           |\n",
      "| age_at_current_charge<=19         | 32.0           |\n",
      "| age_at_current_charge<=24         | 0.2            |\n",
      "| age_at_current_charge<=38         | 28.8           |\n",
      "| p_arrest>=1                       | -58.9          |\n",
      "| p_arrest>=2                       | 62.3           |\n",
      "| p_arrest>=3                       | 32.7           |\n",
      "| p_arrest>=4                       | 30.1           |\n",
      "| p_arrest>=5                       | 10.7           |\n",
      "| p_arrest>=6                       | 11.1           |\n",
      "| p_arrest>=7                       | 0.7            |\n",
      "| p_arrest>=8                       | 0.6            |\n",
      "| p_arrest>=9                       | 1.0            |\n",
      "| p_charges>=1                      | -49.3          |\n",
      "| p_charges>=2                      | 1.8            |\n",
      "| p_felony>=1                       | 35.2           |\n",
      "| p_felony>=2                       | 8.3            |\n",
      "| p_misdemeanor>=1                  | -26.6          |\n",
      "| p_misdemeanor>=2                  | 19.0           |\n",
      "| p_property>=1                     | 226.2          |\n",
      "| p_assault>=1                      | -2.5           |\n",
      "| p_drug>=1                         | -14.2          |\n",
      "| p_trespass>=1                     | 4.4            |\n",
      "| ADE>=1                            | -41.1          |\n",
      "| p_prison>=1                       | -27.2          |\n",
      "| p_fta_two_year>=1                 | 19.4           |\n",
      "| p_pending_charge>=1               | 55.0           |\n",
      "| p_pending_charge>=2               | 6.3            |\n",
      "| p_probation>=1                    | 9.2            |\n",
      "| current_violence>=1               | -2.6           |\n",
      "| Intercept                         | -0.718         |\n",
      "|====================================================|\n",
      "| ADD POINTS FROM ROWS 1 TO 31      | Total Score    |\n",
      "+-----------------------------------+----------------+\n"
     ]
    }
   ],
   "source": [
    "stumps.stump_table(best_stump_model['coefs'], \n",
    "                   best_stump_model['features'], \n",
    "                   best_stump_model['intercept'], \n",
    "                   best_stump_model['dictionary'])"
   ]
  },
  {
   "cell_type": "code",
   "execution_count": 18,
   "metadata": {},
   "outputs": [
    {
     "name": "stdout",
     "output_type": "stream",
     "text": [
      "model_id, score_thresholds 0 {'rank_abs': [8277]}\n",
      "get_disparity_predefined_group()\n",
      "model_id, score_thresholds 0 {'rank_abs': [9581]}\n",
      "get_disparity_predefined_group()\n",
      "model_id, score_thresholds 0 {'rank_abs': [9488]}\n",
      "get_disparity_predefined_group()\n",
      "model_id, score_thresholds 0 {'rank_abs': [9851]}\n",
      "get_disparity_predefined_group()\n",
      "model_id, score_thresholds 0 {'rank_abs': [9342]}\n",
      "get_disparity_predefined_group()\n"
     ]
    }
   ],
   "source": [
    "stump_summary = stumps.stump_cv(X = X_stumps, \n",
    "                                Y = Y_stumps, \n",
    "                                columns=cols, \n",
    "                                c_grid={'C': [0.002]}, \n",
    "                                seed = 816)"
   ]
  },
  {
   "cell_type": "code",
   "execution_count": 19,
   "metadata": {},
   "outputs": [
    {
     "data": {
      "text/plain": [
       "([{'C': 0.002}, {'C': 0.002}, {'C': 0.002}, {'C': 0.002}, {'C': 0.002}],\n",
       " 0.8638133021913941,\n",
       " 0.008385045062641238)"
      ]
     },
     "execution_count": 19,
     "metadata": {},
     "output_type": "execute_result"
    }
   ],
   "source": [
    "stump_summary['best_params'], np.mean(stump_summary['holdout_test_auc']), np.mean(stump_summary['auc_diffs'])"
   ]
  },
  {
   "cell_type": "markdown",
   "metadata": {},
   "source": [
    "##### Stumps Visualizations"
   ]
  },
  {
   "cell_type": "code",
   "execution_count": 20,
   "metadata": {
    "scrolled": true
   },
   "outputs": [
    {
     "data": {
      "image/png": "[encoded data removed]",
      "text/plain": [
       "<Figure size 288x216 with 1 Axes>"
      ]
     },
     "metadata": {
      "needs_background": "light"
     },
     "output_type": "display_data"
    },
    {
     "data": {
      "image/png": "[encoded data removed]",
      "text/plain": [
       "<Figure size 288x216 with 1 Axes>"
      ]
     },
     "metadata": {
      "needs_background": "light"
     },
     "output_type": "display_data"
    },
    {
     "data": {
      "image/png": "[encoded data removed]",
      "text/plain": [
       "<Figure size 288x216 with 1 Axes>"
      ]
     },
     "metadata": {
      "needs_background": "light"
     },
     "output_type": "display_data"
    },
    {
     "data": {
      "image/png": "[encoded data removed]",
      "text/plain": [
       "<Figure size 288x216 with 1 Axes>"
      ]
     },
     "metadata": {
      "needs_background": "light"
     },
     "output_type": "display_data"
    },
    {
     "data": {
      "image/png": "[encoded data removed]",
      "text/plain": [
       "<Figure size 288x216 with 1 Axes>"
      ]
     },
     "metadata": {
      "needs_background": "light"
     },
     "output_type": "display_data"
    },
    {
     "data": {
      "image/png": "[encoded data removed]",
      "text/plain": [
       "<Figure size 288x216 with 1 Axes>"
      ]
     },
     "metadata": {
      "needs_background": "light"
     },
     "output_type": "display_data"
    },
    {
     "data": {
      "image/png": "[encoded data removed]",
      "text/plain": [
       "<Figure size 288x216 with 1 Axes>"
      ]
     },
     "metadata": {
      "needs_background": "light"
     },
     "output_type": "display_data"
    },
    {
     "data": {
      "image/png": "[encoded data removed]",
      "text/plain": [
       "<Figure size 288x216 with 1 Axes>"
      ]
     },
     "metadata": {
      "needs_background": "light"
     },
     "output_type": "display_data"
    },
    {
     "data": {
      "image/png": "[encoded data removed]",
      "text/plain": [
       "<Figure size 288x216 with 1 Axes>"
      ]
     },
     "metadata": {
      "needs_background": "light"
     },
     "output_type": "display_data"
    },
    {
     "data": {
      "image/png": "[encoded data removed]",
      "text/plain": [
       "<Figure size 288x216 with 1 Axes>"
      ]
     },
     "metadata": {
      "needs_background": "light"
     },
     "output_type": "display_data"
    },
    {
     "data": {
      "image/png": "[encoded data removed]",
      "text/plain": [
       "<Figure size 288x216 with 1 Axes>"
      ]
     },
     "metadata": {
      "needs_background": "light"
     },
     "output_type": "display_data"
    }
   ],
   "source": [
    "stumps.stump_plots(best_stump_model['features'], best_stump_model['coefs'])"
   ]
  },
  {
   "cell_type": "markdown",
   "metadata": {},
   "source": [
    "### Arnold PSA"
   ]
  },
  {
   "cell_type": "code",
   "execution_count": 20,
   "metadata": {},
   "outputs": [],
   "source": [
    "### load data\n",
    "data = pd.read_csv(\"~/Documents/Duke/Cynthia Research/KY-analysis-mytrials/KY Recidivism/KY data/kentucky_data.csv\")\n",
    "X_arnold_raw = data['nca_risk_score_raw'].values\n",
    "X_arnold_calc = data['nca_calc'].values\n",
    "Y_arnold = data['recid_property_six_month'].values"
   ]
  },
  {
   "cell_type": "code",
   "execution_count": 21,
   "metadata": {},
   "outputs": [],
   "source": [
    "## set up cross validation\n",
    "cv = KFold(n_splits=5,shuffle=True,random_state=816)\n",
    "raw_auc = []\n",
    "calc_auc = []\n",
    "\n",
    "## raw score\n",
    "i = 1\n",
    "for train, test in cv.split(X_arnold_raw, Y_arnold):\n",
    "    y_pred_raw, y_pred_calc, y_test = X_arnold_raw[test], X_arnold_calc[test], Y_arnold[test]\n",
    "    raw_auc.append(roc_auc_score(y_test, y_pred_raw))\n",
    "    calc_auc.append(roc_auc_score(y_test, y_pred_calc))\n",
    "    i+=1 "
   ]
  },
  {
   "cell_type": "markdown",
   "metadata": {},
   "source": [
    "## RiskSLIM"
   ]
  },
  {
   "cell_type": "code",
   "execution_count": 22,
   "metadata": {},
   "outputs": [],
   "source": [
    "## load stumps data\n",
    "data = pd.read_csv(\"~/Documents/Duke/Cynthia Research/KY-analysis-mytrials/KY Recidivism/KY data/kentucky_stumps.csv\")\n",
    "x, y = data.loc[:,:'current_violence>=1'], data['recid_property_six_month'].values\n",
    "cols = x.columns[3:]"
   ]
  },
  {
   "cell_type": "code",
   "execution_count": 23,
   "metadata": {},
   "outputs": [
    {
     "data": {
      "text/plain": [
       "28"
      ]
     },
     "execution_count": 23,
     "metadata": {},
     "output_type": "execute_result"
    }
   ],
   "source": [
    "## train on best param chosen by Lasso Stumps from above\n",
    "x_train = x.copy().drop(['race', 'person_id', 'screening_date'], axis=1)\n",
    "lasso = LogisticRegression(class_weight='balanced', solver='liblinear', penalty='l1', C=0.002, random_state=816).fit(x_train,y)\n",
    "selected_features = cols[lasso.coef_[0] != 0].tolist()\n",
    "len(selected_features)"
   ]
  },
  {
   "cell_type": "code",
   "execution_count": 24,
   "metadata": {},
   "outputs": [],
   "source": [
    "### Subset features\n",
    "if 'sex' in selected_features:\n",
    "    selected_features = ['recid_property_six_month', 'person_id', 'screening_date', 'race'] + selected_features\n",
    "    indicator = 1\n",
    "else:\n",
    "    selected_features = ['recid_property_six_month', 'person_id', 'screening_date', 'race', 'sex'] + selected_features\n",
    "    indicator = 0\n",
    "\n",
    "sub_data = data[selected_features]\n",
    "sub_X, sub_Y = sub_data.iloc[:,1:], sub_data.iloc[:,0].values\n",
    "sub_X.insert(0, '(Intercept)', 1)"
   ]
  },
  {
   "cell_type": "code",
   "execution_count": 25,
   "metadata": {
    "scrolled": true
   },
   "outputs": [
    {
     "name": "stdout",
     "output_type": "stream",
     "text": [
      "setting c0 = 0.0 to ensure that intercept is not penalized\n",
      "09/11/19 @ 10:48 PM | 1221 rows in lookup table\n",
      "09/11/19 @ 10:48 PM | ------------------------------------------------------------\n",
      "09/11/19 @ 10:48 PM | runnning initialization procedure\n",
      "09/11/19 @ 10:48 PM | ------------------------------------------------------------\n",
      "09/11/19 @ 10:48 PM | CPA produced 2 cuts\n",
      "09/11/19 @ 10:48 PM | running naive rounding on 139 solutions\n",
      "09/11/19 @ 10:48 PM | best objective value: 0.0241\n",
      "09/11/19 @ 10:48 PM | rounding produced 5 integer solutions\n",
      "09/11/19 @ 10:48 PM | best objective value is 0.0248\n",
      "09/11/19 @ 10:48 PM | running sequential rounding on 139 solutions\n",
      "09/11/19 @ 10:48 PM | best objective value: 0.0241\n",
      "09/11/19 @ 10:48 PM | sequential rounding produced 5 integer solutions\n",
      "09/11/19 @ 10:48 PM | best objective value: 0.0245\n",
      "09/11/19 @ 10:48 PM | polishing 10 solutions\n",
      "09/11/19 @ 10:48 PM | best objective value: 0.0245\n",
      "09/11/19 @ 10:48 PM | polishing produced 5 integer solutions\n",
      "09/11/19 @ 10:48 PM | initialization produced 10 feasible solutions\n",
      "09/11/19 @ 10:48 PM | best objective value: 0.0245\n",
      "09/11/19 @ 10:48 PM | ------------------------------------------------------------\n",
      "09/11/19 @ 10:48 PM | completed initialization procedure\n",
      "09/11/19 @ 10:48 PM | ------------------------------------------------------------\n",
      "09/11/19 @ 10:48 PM | 1221 rows in lookup table\n",
      "CPXPARAM_Read_DataCheck                          1\n",
      "CPXPARAM_Threads                                 1\n",
      "CPXPARAM_Parallel                                1\n",
      "CPXPARAM_RandomSeed                              0\n",
      "CPXPARAM_TimeLimit                               200\n",
      "CPXPARAM_MIP_Tolerances_LowerCutoff              0.023962621217382931\n",
      "CPXPARAM_MIP_Tolerances_UpperCutoff              0.024501622389709064\n"
     ]
    },
    {
     "name": "stderr",
     "output_type": "stream",
     "text": [
      "Warning: Control callbacks may disable some MIP features.\n"
     ]
    },
    {
     "name": "stdout",
     "output_type": "stream",
     "text": [
      "Lazy constraint(s) or lazy constraint callback is present.\n",
      "    Disabling dual reductions (CPX_PARAM_REDUCE) in presolve.\n",
      "    Disabling non-linear reductions (CPX_PARAM_PRELINEAR) in presolve.\n",
      "         Disabling repeat represolve because of lazy constraint/incumbent callback.\n",
      "09/11/19 @ 10:48 PM | adding 261 initial cuts\n",
      "1 of 1 MIP starts provided solutions.\n",
      "MIP start 'mip_start_0' defined initial solution with objective 0.0245.\n",
      "Tried aggregator 1 time.\n",
      "Reduced MIP has 30 rows, 60 columns, and 115 nonzeros.\n",
      "Reduced MIP has 28 binaries, 30 generals, 0 SOSs, and 0 indicators.\n",
      "Presolve time = 0.00 sec. (0.06 ticks)\n",
      "Probing time = 0.00 sec. (0.02 ticks)\n",
      "MIP emphasis: balance optimality and feasibility.\n",
      "MIP search method: traditional branch-and-cut.\n",
      "Parallel mode: none, using 1 thread.\n",
      "Root relaxation solution time = 0.02 sec. (0.04 ticks)\n",
      "\n",
      "        Nodes                                         Cuts/\n",
      "   Node  Left     Objective  IInf  Best Integer    Best Bound    ItCnt     Gap         Variable B NodeID Parent  Depth\n",
      "\n",
      "*     0+    0                            0.0245        0.0239             2.61%\n",
      "      0     0        0.0240     1        0.0245        0.0240        1    2.20%\n",
      "      0     2        0.0240     5        0.0245        0.0240        1    2.20%                        0             0\n",
      "Elapsed time = 0.23 sec. (1.53 ticks, tree = 0.01 MB, solutions = 1)\n",
      "   2310  1099        0.0240    21        0.0245        0.0240     9610    2.20%           rho_4 D   2310    443      8\n",
      "   3617  1657        0.0242     6        0.0245        0.0240    14868    2.20%           rho_7 D   3617   3616     24\n",
      "   4611  2052        cutoff              0.0245        0.0240    19762    2.20%        alpha_11 U   4611    847     18\n",
      "   5520  2350        0.0243     1        0.0245        0.0240    24541    2.20%           rho_0 D   5520   5518     57\n",
      "   6379  2659        0.0242     6        0.0245        0.0240    29343    2.20%           rho_7 U   6379   3926     16\n",
      "   7214  2952        0.0245     4        0.0245        0.0240    33244    2.20%        alpha_26 U   7214   7212     33\n",
      "   8020  3325        0.0243     5        0.0245        0.0240    36923    2.20%           rho_6 D   8020   8018     35\n",
      "   8777  3644        cutoff              0.0245        0.0240    40403    2.20%        alpha_19 D   8777   8775     22\n",
      "   9460  3924        0.0244     3        0.0245        0.0240    44336    2.20%        alpha_14 D   9460   9459     25\n",
      "  12870  5187        0.0244     5        0.0245        0.0240    56725    2.20%          rho_26 D  12870  12869     57\n",
      "Elapsed time = 5.55 sec. (3105.47 ticks, tree = 1.57 MB, solutions = 1)\n",
      "  16130  6386        0.0244     5        0.0245        0.0240    70049    2.20%           rho_0 U  16130  16129     80\n",
      "  19598  7788        0.0240     8        0.0245        0.0240    85047    2.20%          rho_13 D  19598  19589     72\n",
      "  23104  9151        0.0241     8        0.0245        0.0240    98730    2.20%        alpha_26 D  23104  23102     53\n",
      "  26565 10740        0.0240     6        0.0245        0.0240   112693    2.20%          rho_13 U  26565  26564     21\n",
      "  29855 12038        0.0244     1        0.0245        0.0240   125238    2.20%          rho_17 U  29855  29854     43\n",
      "  33008 12652        cutoff              0.0245        0.0240   135414    2.20%           rho_7 U  33008  33006     48\n",
      "  36119 13208        cutoff              0.0245        0.0240   146452    2.20%          rho_16 U  36119  36118     85\n",
      "  39207 13826        cutoff              0.0245        0.0240   156927    2.20%           rho_7 U  39207  39205     60\n",
      "  42244 14439        0.0242     8        0.0245        0.0240   168071    2.20%           rho_9 U  42244  33796     59\n",
      "  45341 15665        0.0240     8        0.0245        0.0240   180752    2.20%           rho_0 D  45341  45339     66\n",
      "Elapsed time = 13.36 sec. (12644.05 ticks, tree = 4.70 MB, solutions = 1)\n",
      "  48392 16931        0.0240     8        0.0245        0.0240   192668    2.20%          rho_13 D  48392  48391     51\n",
      "  51429 18190        0.0242     6        0.0245        0.0240   205078    2.20%           rho_0 U  51429  51428     32\n",
      "  54465 19203        0.0242     7        0.0245        0.0240   215751    2.20%          rho_17 D  54465  54463     66\n",
      "  57226 20084        0.0242     5        0.0245        0.0240   227540    2.20%          rho_26 D  57226  57224     61\n",
      "  60036 20637        cutoff              0.0245        0.0240   238454    2.20%           rho_5 U  60036  60035     46\n",
      "  62897 21400        0.0242     7        0.0245        0.0240   250205    2.20%          rho_17 D  62897  62895    104\n",
      "  65728 22398        0.0240     7        0.0245        0.0240   262369    2.20%           rho_0 D  65728  65701     31\n",
      "  68385 23531        0.0242     4        0.0245        0.0240   274392    2.20%          rho_14 U  68385  68383     68\n",
      "  70980 24368        0.0244     7        0.0245        0.0240   286030    2.20%         L0_norm U  70980  70978     47\n",
      "  73693 25584        0.0244     6        0.0245        0.0240   298197    2.20%          rho_26 D  73693  73691     61\n",
      "Elapsed time = 20.61 sec. (22183.67 ticks, tree = 8.08 MB, solutions = 1)\n",
      "  75941 27060        0.0240    10        0.0245        0.0240   313903    2.20%           rho_2 D  75941  75940     32\n",
      "  78386 27962        cutoff              0.0245        0.0240   325419    2.20%          rho_17 U  78386  78385     67\n",
      "  80923 28804        0.0240     7        0.0245        0.0240   337115    2.20%           rho_0 D  80923  80921     64\n",
      "  83288 29818        0.0240     7        0.0245        0.0240   349992    2.20%          rho_13 U  83288  83286     49\n",
      "  85774 30628        0.0240    11        0.0245        0.0240   361570    2.20%           rho_9 D  85774  50771     66\n",
      "  88500 31534        0.0240     7        0.0245        0.0240   372029    2.20%           rho_9 U  88500  49745     86\n",
      "  91177 32380        0.0242     7        0.0245        0.0240   382409    2.20%          rho_26 U  91177  91176     63\n",
      "  93860 33232        0.0241     8        0.0245        0.0240   392020    2.20%          rho_14 D  93860  93859     52\n",
      "  96471 34102        0.0240     6        0.0245        0.0240   402861    2.20%          rho_13 U  96471  96322     39\n",
      "  99088 35229        0.0244     3        0.0245        0.0240   414965    2.20%          rho_26 D  99088  99087     86\n",
      "Elapsed time = 27.27 sec. (31723.48 ticks, tree = 12.16 MB, solutions = 1)\n",
      " 101544 36247        0.0242     5        0.0245        0.0240   427157    2.20%          rho_13 D 101544 101542     58\n",
      " 104060 36719        0.0240     7        0.0245        0.0240   438472    2.20%           rho_0 D 104060 104033     50\n",
      " 106581 37196        0.0240     6        0.0245        0.0240   450170    2.20%          rho_13 U 106581 106565     84\n",
      " 109074 37644        0.0240    11        0.0245        0.0240   461950    2.20%          rho_13 D 109074 109073     70\n",
      " 111357 38022        cutoff              0.0245        0.0240   473031    2.20%          rho_14 U 111357 111356     66\n",
      " 113618 38400        cutoff              0.0245        0.0240   483634    2.20%           rho_7 U 113618 113615     62\n",
      " 115910 38792        0.0240     8        0.0245        0.0240   494395    2.20%           rho_0 D 115910 115885     75\n",
      " 118200 39266        0.0244     6        0.0245        0.0240   504791    2.20%          rho_16 D 118200 118198     59\n",
      " 120342 40211        0.0240     1        0.0245        0.0240   518138    2.20%          rho_13 U 120342 120340     50\n",
      " 122698 40810        0.0243     5        0.0245        0.0240   528611    2.20%          rho_21 D 122698 122696     36\n",
      "Elapsed time = 33.98 sec. (41264.35 ticks, tree = 13.71 MB, solutions = 1)\n",
      " 125187 41930        0.0244     5        0.0245        0.0240   541999    2.20%           rho_0 D 125187 125185     52\n",
      " 127681 42902        0.0240     8        0.0245        0.0240   554078    2.20%          rho_13 U 127681 127679     68\n",
      " 129856 43731        0.0240     9        0.0245        0.0240   565627    2.20%          rho_17 D 129856 129855     85\n",
      " 132000 44298        0.0244     5        0.0245        0.0240   575673    2.20%          rho_11 D 132000 131999     23\n"
     ]
    },
    {
     "name": "stdout",
     "output_type": "stream",
     "text": [
      " 133968 44831        0.0240    12        0.0245        0.0240   585427    2.20%          rho_13 D 133968 133967     66\n",
      " 135900 45435        0.0240    12        0.0245        0.0240   594644    2.20%          rho_13 D 135900 135899     52\n",
      " 137932 46005        0.0240    10        0.0245        0.0240   604126    2.20%          rho_13 D 137932 137587     25\n",
      " 140192 46676        cutoff              0.0245        0.0240   613405    2.20%          rho_26 U 140192 140190     31\n",
      " 142339 47205        0.0240     8        0.0245        0.0240   622589    2.20%          rho_18 D 142339 142336     44\n",
      " 144469 47498        cutoff              0.0245        0.0240   631673    2.20%          rho_16 U 144469 144468     78\n",
      "Elapsed time = 41.45 sec. (50809.09 ticks, tree = 15.60 MB, solutions = 1)\n",
      " 146609 47794        cutoff              0.0245        0.0240   640789    2.20%          rho_16 U 146609 146608     88\n",
      " 148787 48107        0.0240     6        0.0245        0.0240   650137    2.20%          rho_13 U 148787 148777     81\n",
      " 150999 48475        0.0241    11        0.0245        0.0240   659466    2.20%          rho_14 D 150999 150998     99\n",
      " 153200 48862        0.0240     9        0.0245        0.0240   669004    2.20%          rho_13 D 153200 153199     45\n",
      " 155412 49240        0.0244     5        0.0245        0.0240   678654    2.20%          rho_18 U 155412 155411     44\n",
      " 157648 49635        0.0240     8        0.0245        0.0240   688253    2.20%          rho_13 U 157648 157564     51\n",
      " 159869 50072        0.0243     9        0.0245        0.0240   698111    2.20%           rho_7 D 159869 159867     64\n",
      " 162063 50494        0.0242     7        0.0245        0.0240   707813    2.20%          rho_16 D 162063 162061     72\n",
      " 164311 50897        0.0242     5        0.0245        0.0240   717350    2.20%           rho_9 D 164311 164309     66\n",
      " 166753 51421        0.0240     5        0.0245        0.0240   727155    2.20%          rho_13 U 166753 166751     27\n",
      "Elapsed time = 48.55 sec. (60350.13 ticks, tree = 16.73 MB, solutions = 1)\n",
      " 168456 52586        cutoff              0.0245        0.0240   742531    2.20%          rho_14 U 168456 168455     70\n",
      " 170516 53384        0.0241     9        0.0245        0.0240   753625    2.20%          rho_18 D 170516 170514     53\n",
      " 172545 54293        0.0244     1        0.0245        0.0240   764030    2.20%          rho_12 D 172545 172544     71\n",
      " 174790 55210        0.0243     3        0.0245        0.0240   773793    2.20%          rho_14 D 174790 174788     58\n",
      " 177080 56203        0.0242     9        0.0245        0.0240   783562    2.20%           rho_0 U 177080 177079     68\n",
      " 179385 57196        cutoff              0.0245        0.0240   793018    2.20%          rho_16 U 179385 179384     98\n",
      " 181641 58164        cutoff              0.0245        0.0240   802719    2.20%          rho_10 U 181641 181640     90\n",
      " 183604 58801        cutoff              0.0245        0.0240   812427    2.20%          rho_17 U 183604 183603     42\n",
      " 185867 59154        cutoff              0.0245        0.0240   821385    2.20%          rho_14 U 185867 185866     71\n",
      " 188138 59518        0.0241     1        0.0245        0.0240   830526    2.20%           rho_7 U 188138 188137    108\n",
      "Elapsed time = 55.89 sec. (69889.19 ticks, tree = 19.06 MB, solutions = 1)\n",
      " 190388 59932        0.0242     3        0.0245        0.0240   840168    2.20%           rho_0 U 190388 190387     65\n",
      " 192718 60710        0.0242     4        0.0245        0.0240   849606    2.20%          rho_26 D 192718 192716     70\n",
      " 195132 61984        0.0240     8        0.0245        0.0240   859901    2.20%           rho_0 D 195132 195130    102\n",
      "*196030+62178                            0.0245        0.0240             2.19%\n",
      " 197632 62595        0.0242     7        0.0245        0.0240   868017    2.19%           rho_7 D 197632  30231     67\n",
      " 199367 63555        0.0240    11        0.0245        0.0240   881422    2.19%           rho_0 U 199367 199366     58\n",
      " 201304 64479        0.0245     3        0.0245        0.0240   892824    2.19%          rho_18 U 201304 201303     99\n",
      " 203596 65249        0.0241     6        0.0245        0.0240   902097    2.19%           rho_0 D 203596 203594     40\n",
      "*203818 65300      integral     0        0.0245        0.0240   902761    2.17%          rho_11 D 203818 203817     39\n",
      "*204320+63658                            0.0244        0.0240             1.96%\n",
      " 205767 64337        0.0240     6        0.0244        0.0240   911097    1.96%           rho_0 D 205767 205765     49\n",
      " 208017 65378        cutoff              0.0244        0.0240   919156    1.96%          rho_13 U 208017 208015     58\n",
      "Elapsed time = 62.55 sec. (78563.06 ticks, tree = 20.78 MB, solutions = 4)\n",
      " 210168 65908        0.0243     5        0.0244        0.0240   927878    1.96%          rho_16 D 210168 210166     40\n",
      " 212371 66270        0.0240     5        0.0244        0.0240   935839    1.96%           rho_6 D 212371 212361     61\n",
      " 214470 66624        cutoff              0.0244        0.0240   943542    1.96%          rho_18 U 214470 214469     50\n",
      " 216614 67388        cutoff              0.0244        0.0240   951450    1.96%          rho_16 U 216614 216613     54\n",
      "*217000+67066                            0.0244        0.0240             1.92%\n",
      " 218745 67773        0.0242     5        0.0244        0.0240   960364    1.92%          rho_16 D 218745 218743     44\n",
      " 220651 68800        0.0240     8        0.0244        0.0240   970798    1.92%           rho_6 U 220651 220649     45\n",
      " 222613 69845        0.0241     9        0.0244        0.0240   980126    1.92%          rho_13 D 222613 222612     63\n",
      " 224710 70553        0.0240     7        0.0244        0.0240   988928    1.92%          rho_13 U 224710 224708     47\n",
      " 226813 71190        0.0241     3        0.0244        0.0240   997540    1.92%          rho_26 U 226813 226812     70\n",
      " 234488 74928        0.0240     8        0.0244        0.0240  1039202    1.92%          rho_13 U 234488 234486     85\n",
      "Elapsed time = 71.47 sec. (90963.31 ticks, tree = 26.36 MB, solutions = 5)\n",
      " 241807 78384        0.0243     4        0.0244        0.0240  1079119    1.92%          rho_17 D 241807 241805     69\n",
      " 249009 81178        cutoff              0.0244        0.0240  1121055    1.92%          rho_17 U 249009 249008     44\n",
      " 256997 84345        0.0241     7        0.0244        0.0240  1161500    1.92%          rho_18 D 256997 256996     99\n",
      " 264745 87648        0.0241     8        0.0244        0.0240  1203020    1.92%          rho_26 U 264745 264744     36\n",
      " 271838 90946        0.0240     7        0.0244        0.0240  1247104    1.92%          rho_13 U 271838 271836     70\n",
      " 278531 93219        0.0243     9        0.0244        0.0240  1287207    1.92%           rho_7 D 278531 278529     70\n",
      " 285379 94649        0.0240     6        0.0244        0.0240  1327040    1.92%           rho_0 D 285379 285355     32\n",
      " 292962 96024        0.0243     6        0.0244        0.0240  1363150    1.92%          rho_18 D 292962 292961     96\n",
      " 300722 97766        0.0241     5        0.0244        0.0240  1398544    1.92%          rho_14 D 300722 300720     37\n",
      " 309115 100751        0.0243     5        0.0244        0.0240  1435473    1.92%          rho_18 D 309115 309114     75\n",
      "Elapsed time = 97.55 sec. (129113.82 ticks, tree = 33.86 MB, solutions = 5)\n",
      " 317328 102548        cutoff              0.0244        0.0240  1470875    1.92%          rho_17 U 317328 317326     57\n",
      " 325547 105110        0.0240     6        0.0244        0.0240  1501137    1.92%          rho_13 U 325547 325545     65\n",
      " 333786 107027        0.0240     5        0.0244        0.0240  1532836    1.92%           rho_1 D 333786 303845     62\n",
      " 341330 109874        0.0244    10        0.0244        0.0240  1571344    1.92%           rho_6 D 341330 341328     27\n",
      " 348160 113508        0.0240    13        0.0244        0.0240  1613333    1.92%          rho_13 D 348160 348159     86\n",
      " 355883 116261        0.0241     5        0.0244        0.0240  1652519    1.92%          rho_16 D 355883 355881     69\n"
     ]
    },
    {
     "name": "stdout",
     "output_type": "stream",
     "text": [
      " 363780 118856        0.0240     5        0.0244        0.0240  1682512    1.92%           rho_7 D 363780 363779     51\n",
      " 371600 121467        0.0242     8        0.0244        0.0240  1713838    1.92%          rho_26 D 371600 371599     63\n",
      " 379293 123305        0.0242     7        0.0244        0.0240  1749307    1.92%          rho_16 D 379293 379291     64\n",
      " 387080 125041        0.0240     9        0.0244        0.0240  1784106    1.92%          rho_13 D 387080 387079     45\n",
      "Elapsed time = 121.48 sec. (167267.82 ticks, tree = 41.04 MB, solutions = 5)\n",
      " 394070 126956        0.0240    10        0.0244        0.0240  1820074    1.92%           rho_0 D 394070 394059     63\n",
      " 401262 130571        0.0243    13        0.0244        0.0240  1863150    1.92%           rho_0 U 401262 401261     54\n",
      " 407350 133957        0.0240    13        0.0244        0.0240  1901168    1.92%          rho_13 D 407350 407349     74\n",
      " 415618 135998        0.0243     3        0.0244        0.0240  1936580    1.92%        alpha_10 D 415618 415617     72\n",
      " 423956 137261        0.0242     5        0.0244        0.0240  1971324    1.92%          rho_16 D 423956 423954     60\n",
      " 431032 140254        0.0243     5        0.0244        0.0240  2013491    1.92%           rho_7 U 431032 430892     39\n",
      " 437720 143017        0.0242     5        0.0244        0.0240  2056920    1.92%          rho_10 D 437720 437719     82\n",
      " 445120 146201        0.0242    14        0.0244        0.0240  2095374    1.92%           rho_0 D 445120 445118     75\n",
      " 450332 149777        0.0241    16        0.0244        0.0240  2145224    1.92%           rho_0 N 450332 450330     90\n",
      " 456203 152808        0.0240     6        0.0244        0.0240  2179929    1.92%           rho_0 D 456203 456201     66\n",
      "Elapsed time = 148.97 sec. (205424.04 ticks, tree = 52.28 MB, solutions = 5)\n",
      " 461666 155742        0.0242     4        0.0244        0.0240  2217031    1.92%           rho_5 D 461666 461664     69\n",
      " 468220 159382        0.0241    10        0.0244        0.0240  2257393    1.92%           rho_9 U 468220 468219     62\n",
      " 476029 162422        0.0241    11        0.0244        0.0240  2293983    1.92%          rho_26 N 476029 476028     32\n",
      " 483350 164702        0.0241     9        0.0244        0.0240  2333064    1.92%           rho_7 U 483350 483349     62\n",
      " 490101 166859        0.0244     1        0.0244        0.0240  2372041    1.92%        alpha_27 U 490101 490100     54\n",
      " 496332 169860        0.0240    11        0.0244        0.0240  2414965    1.92%          rho_13 D 496332 496331     49\n",
      " 502920 172869        0.0241     5        0.0244        0.0240  2450023    1.92%          rho_16 N 502920 502918     61\n",
      " 510062 175751        0.0243     9        0.0244        0.0240  2483399    1.92%          rho_14 U 510062 510060     89\n",
      " 516910 178583        0.0241     6        0.0244        0.0240  2519782    1.92%           rho_1 U 516910 380466     48\n",
      " 524095 181202        0.0244     7        0.0244        0.0240  2553989    1.92%          rho_26 D 524095 524093     42\n",
      "Elapsed time = 176.33 sec. (243577.17 ticks, tree = 62.60 MB, solutions = 5)\n",
      " 530402 183147        0.0244     9        0.0244        0.0240  2589340    1.92%           rho_9 D 530402 530401     66\n",
      " 536100 186545        0.0240    10        0.0244        0.0240  2626024    1.92%           rho_1 D 536100 536063     67\n",
      " 540900 189359        0.0241    10        0.0244        0.0240  2662874    1.92%           rho_0 U 540900 540899     44\n",
      " 545840 192302        0.0243     7        0.0244        0.0240  2697765    1.92%          rho_26 U 545840 545839     53\n",
      " 552536 194192        0.0244     9        0.0244        0.0240  2735582    1.92%           rho_9 D 552536 552534     68\n",
      " 559333 195888        0.0240    15        0.0244        0.0240  2772161    1.92%          rho_14 D 559333 559332     61\n",
      " 565851 197885        0.0241     7        0.0244        0.0240  2808550    1.92%           rho_7 D 565851 565849     72\n",
      "\n",
      "User cuts applied:  811\n",
      "\n",
      "Root node processing (before b&c):\n",
      "  Real time             =    0.23 sec. (1.61 ticks)\n",
      "Sequential b&c:\n",
      "  Real time             =  199.78 sec. (273896.72 ticks)\n",
      "                          ------------\n",
      "Total (root+branch&cut) =  200.02 sec. (273898.32 ticks)\n",
      "+-----------------------------------------------+------------------+-----------+\n",
      "| Pr(Y = +1) = 1.0/(1.0 + exp(-(-10 + score))   |                  |           |\n",
      "| ============================================= | ================ | ========= |\n",
      "| p_arrest>=1                                   |         3 points |   + ..... |\n",
      "| age_at_current_charge<=18                     |         2 points |   + ..... |\n",
      "| p_property>=1                                 |         2 points |   + ..... |\n",
      "| p_arrest>=3                                   |         1 points |   + ..... |\n",
      "| p_arrest>=10                                  |         1 points |   + ..... |\n",
      "| p_felony>=1                                   |         1 points |   + ..... |\n",
      "| ============================================= | ================ | ========= |\n",
      "| ADD POINTS FROM ROWS 1 to 6                   |            SCORE |   = ..... |\n",
      "+-----------------------------------------------+------------------+-----------+\n",
      "model_id, score_thresholds 0 {'rank_abs': [0]}\n",
      "get_disparity_predefined_group()\n",
      "setting c0 = 0.0 to ensure that intercept is not penalized\n",
      "09/11/19 @ 10:51 PM | 1221 rows in lookup table\n",
      "09/11/19 @ 10:51 PM | ------------------------------------------------------------\n",
      "09/11/19 @ 10:51 PM | runnning initialization procedure\n",
      "09/11/19 @ 10:51 PM | ------------------------------------------------------------\n",
      "09/11/19 @ 10:51 PM | CPA produced 2 cuts\n",
      "09/11/19 @ 10:51 PM | running naive rounding on 138 solutions\n",
      "09/11/19 @ 10:51 PM | best objective value: 0.0252\n",
      "09/11/19 @ 10:51 PM | rounding produced 5 integer solutions\n",
      "09/11/19 @ 10:51 PM | best objective value is 0.0255\n",
      "09/11/19 @ 10:51 PM | running sequential rounding on 138 solutions\n",
      "09/11/19 @ 10:51 PM | best objective value: 0.0252\n",
      "09/11/19 @ 10:52 PM | sequential rounding produced 6 integer solutions\n",
      "09/11/19 @ 10:52 PM | best objective value: 0.0255\n",
      "09/11/19 @ 10:52 PM | polishing 11 solutions\n",
      "09/11/19 @ 10:52 PM | best objective value: 0.0255\n",
      "09/11/19 @ 10:52 PM | polishing produced 5 integer solutions\n",
      "09/11/19 @ 10:52 PM | initialization produced 13 feasible solutions\n",
      "09/11/19 @ 10:52 PM | best objective value: 0.0255\n",
      "09/11/19 @ 10:52 PM | ------------------------------------------------------------\n",
      "09/11/19 @ 10:52 PM | completed initialization procedure\n",
      "09/11/19 @ 10:52 PM | ------------------------------------------------------------\n",
      "09/11/19 @ 10:52 PM | 1221 rows in lookup table\n",
      "CPXPARAM_Read_DataCheck                          1\n",
      "CPXPARAM_Threads                                 1\n",
      "CPXPARAM_Parallel                                1\n",
      "CPXPARAM_RandomSeed                              0\n",
      "CPXPARAM_TimeLimit                               200\n",
      "CPXPARAM_MIP_Tolerances_LowerCutoff              0.024937891183771755\n",
      "CPXPARAM_MIP_Tolerances_UpperCutoff              0.025476227295694993\n"
     ]
    },
    {
     "name": "stderr",
     "output_type": "stream",
     "text": [
      "Warning: Control callbacks may disable some MIP features.\n"
     ]
    },
    {
     "name": "stdout",
     "output_type": "stream",
     "text": [
      "Lazy constraint(s) or lazy constraint callback is present.\n",
      "    Disabling dual reductions (CPX_PARAM_REDUCE) in presolve.\n",
      "    Disabling non-linear reductions (CPX_PARAM_PRELINEAR) in presolve.\n",
      "         Disabling repeat represolve because of lazy constraint/incumbent callback.\n",
      "09/11/19 @ 10:52 PM | adding 252 initial cuts\n",
      "1 of 1 MIP starts provided solutions.\n",
      "MIP start 'mip_start_0' defined initial solution with objective 0.0255.\n",
      "Tried aggregator 1 time.\n",
      "Reduced MIP has 30 rows, 60 columns, and 115 nonzeros.\n",
      "Reduced MIP has 28 binaries, 30 generals, 0 SOSs, and 0 indicators.\n",
      "Presolve time = 0.00 sec. (0.06 ticks)\n",
      "Probing time = 0.00 sec. (0.02 ticks)\n",
      "MIP emphasis: balance optimality and feasibility.\n",
      "MIP search method: traditional branch-and-cut.\n",
      "Parallel mode: none, using 1 thread.\n",
      "Root relaxation solution time = 0.00 sec. (0.04 ticks)\n",
      "\n",
      "        Nodes                                         Cuts/\n",
      "   Node  Left     Objective  IInf  Best Integer    Best Bound    ItCnt     Gap         Variable B NodeID Parent  Depth\n",
      "\n",
      "*     0+    0                            0.0255        0.0248             2.51%\n",
      "      0     0        0.0249     1        0.0255        0.0249        1    2.11%\n",
      "      0     2        0.0249     5        0.0255        0.0249        1    2.11%                        0             0\n",
      "Elapsed time = 0.11 sec. (1.54 ticks, tree = 0.01 MB, solutions = 1)\n",
      "   2363  1059        0.0250     7        0.0255        0.0249    10355    2.11%           rho_0 U   2363   2362     40\n",
      "   3630  1589        0.0255     1        0.0255        0.0249    15758    2.11%           rho_6 U   3630   3629     59\n",
      "   4609  1867        cutoff              0.0255        0.0249    21576    2.11%          rho_13 U   4609   4607     32\n",
      "   5502  2299        0.0252    14        0.0255        0.0249    26149    2.11%           rho_7 D   5502   5500     25\n",
      "   6240  2565        0.0254     5        0.0255        0.0249    30750    2.11%           rho_5 U   6240   6239     29\n",
      "   6977  2831        0.0249    14        0.0255        0.0249    34790    2.11%          rho_12 D   6977    237     20\n",
      "   7676  3066        cutoff              0.0255        0.0249    38097    2.11%           rho_6 U   7676   7674     26\n",
      "   8369  3399        0.0253     3        0.0255        0.0249    41609    2.11%          rho_27 D   8369   8367     42\n",
      "   9080  3665        0.0253     3        0.0255        0.0249    44937    2.11%          rho_26 U   9080   9079     42\n",
      "  11844  4856        0.0249     2        0.0255        0.0249    58436    2.11%           rho_0 D  11844  11842     32\n",
      "Elapsed time = 5.95 sec. (3103.03 ticks, tree = 1.50 MB, solutions = 1)\n",
      "  14865  5751        0.0249     2        0.0255        0.0249    68686    2.11%          rho_13 U  14865  14862     51\n",
      "  18194  6593        0.0254     5        0.0255        0.0249    77469    2.11%          rho_17 D  18194  18192     35\n",
      "  21165  7834        0.0254     3        0.0255        0.0249    89177    2.11%           rho_4 D  21165  21163     61\n",
      "  23763  8902        0.0249    10        0.0255        0.0249   101143    2.11%           rho_0 D  23763   3906     12\n",
      "  26078  9667        0.0253     5        0.0255        0.0249   113236    2.11%          rho_28 D  26078  26076     57\n",
      "  28495 10395        0.0250     8        0.0255        0.0249   124240    2.11%           rho_0 D  28495  28493     49\n",
      "  30452 11886        0.0250    10        0.0255        0.0249   140732    2.11%           rho_0 U  30452  30451     55\n",
      "  32307 12930        cutoff              0.0255        0.0249   153349    2.11%          rho_26 U  32307  32305     56\n",
      "  35368 14014        0.0249     7        0.0255        0.0249   166783    2.11%          rho_13 U  35368  35364     74\n",
      "  37909 15014        0.0251    12        0.0255        0.0249   179664    2.11%          rho_28 D  37909  37907     55\n",
      "Elapsed time = 13.64 sec. (12642.96 ticks, tree = 4.68 MB, solutions = 1)\n",
      "  40403 15666        cutoff              0.0255        0.0249   190006    2.11%           rho_0 D  40403  40401     45\n",
      "  42823 16243        cutoff              0.0255        0.0249   199609    2.11%          rho_17 U  42823  42822     70\n",
      "  45228 16789        0.0251     3        0.0255        0.0249   209132    2.11%          rho_14 D  45228  45227     91\n",
      "  47924 16972        cutoff              0.0255        0.0249   216740    2.11%           rho_7 U  47924  47923     76\n",
      "  50609 17255        cutoff              0.0255        0.0249   224343    2.11%           rho_0 U  50609  50608     61\n",
      "  52705 18320        0.0250     9        0.0255        0.0249   236855    2.11%           rho_0 U  52705  52704     35\n",
      "  54865 19264        0.0249     8        0.0255        0.0249   247201    2.11%           rho_7 U  54865  54690     15\n",
      "  57410 20508        cutoff              0.0255        0.0249   256090    2.11%          rho_20 D  57410  57409     77\n",
      "  59952 21734        0.0253     5        0.0255        0.0249   264944    2.11%           rho_0 D  59952  59951     82\n",
      "  62280 22714        0.0252    10        0.0255        0.0249   274703    2.11%           rho_0 D  62280  62279     65\n",
      "Elapsed time = 20.55 sec. (22182.44 ticks, tree = 7.55 MB, solutions = 1)\n",
      "  64590 23758        0.0253     5        0.0255        0.0249   285088    2.11%           rho_0 U  64590  64589     70\n",
      "  66832 24763        0.0253     1        0.0255        0.0249   295248    2.11%           rho_9 U  66832  66831     31\n",
      "  69066 25525        0.0249     4        0.0255        0.0249   304839    2.11%          rho_13 U  69066  69006     57\n",
      "  71501 26139        0.0250     1        0.0255        0.0249   313723    2.11%          rho_13 U  71501  71499     62\n",
      "  73686 26731        0.0252     5        0.0255        0.0249   322959    2.11%           rho_9 D  73686  73684     35\n",
      "  75777 27437        cutoff              0.0255        0.0249   332491    2.11%          rho_26 U  75777  75776     31\n",
      "  77854 27897        0.0254     5        0.0255        0.0249   341042    2.11%          rho_27 D  77854  77852     61\n",
      "  79843 28583        cutoff              0.0255        0.0249   350238    2.11%          rho_16 U  79843  79841     32\n",
      "  81790 29204        0.0252     7        0.0255        0.0249   359418    2.11%          rho_14 D  81790  81789     32\n",
      "  83637 29911        0.0250    11        0.0255        0.0249   369616    2.11%          rho_13 U  83637  83563     45\n",
      "Elapsed time = 27.98 sec. (31722.54 ticks, tree = 9.66 MB, solutions = 1)\n",
      "  85493 30813        0.0249    14        0.0255        0.0249   380706    2.11%          rho_13 D  85493  85492     72\n",
      "  87348 31715        0.0250    11        0.0255        0.0249   391621    2.11%          rho_18 D  87348  87347     81\n",
      "  89182 32593        0.0252     6        0.0255        0.0249   402481    2.11%           rho_7 U  89182  89181     78\n",
      "  91092 33392        0.0251     3        0.0255        0.0249   413109    2.11%           rho_2 U  91092  91091     74\n",
      "  92966 33827        0.0252     5        0.0255        0.0249   422528    2.11%           rho_7 D  92966  92965     88\n",
      "  94769 34243        0.0253     5        0.0255        0.0249   431434    2.11%          rho_10 D  94769  94767     97\n",
      "  96581 34614        cutoff              0.0255        0.0249   439985    2.11%          rho_14 D  96581  96579     58\n",
      "  98524 35385        0.0251     3        0.0255        0.0249   449558    2.11%           rho_2 U  98524  98523     48\n",
      " 100297 35894        0.0251     8        0.0255        0.0249   458929    2.11%           rho_9 D 100297 100295     56\n",
      " 102256 36346        0.0250    10        0.0255        0.0249   466478    2.11%          rho_13 D 102256 102255     91\n",
      "Elapsed time = 34.63 sec. (41261.69 ticks, tree = 12.96 MB, solutions = 1)\n",
      " 104173 36825        0.0255     5        0.0255        0.0249   473904    2.11%          rho_18 D 104173 104171     72\n",
      " 106080 37251        0.0253     6        0.0255        0.0249   481503    2.11%          rho_16 D 106080 106078     55\n",
      " 108079 37667        0.0249     9        0.0255        0.0249   488784    2.11%           rho_2 U 108079 108078     43\n",
      " 110073 38174        0.0251     4        0.0255        0.0249   496411    2.11%           rho_0 U 110073 110072     50\n"
     ]
    },
    {
     "name": "stdout",
     "output_type": "stream",
     "text": [
      " 112037 38573        cutoff              0.0255        0.0249   503506    2.11%          rho_17 U 112037 112036     38\n",
      " 113961 38991        0.0249     8        0.0255        0.0249   511501    2.11%           rho_7 U 113961 113960     54\n",
      " 115847 39344        0.0252     6        0.0255        0.0249   519459    2.11%          rho_17 D 115847 115845     55\n",
      " 117674 39644        0.0251     4        0.0255        0.0249   526834    2.11%          rho_17 D 117674 117672     87\n",
      " 119497 40028        0.0250     6        0.0255        0.0249   534793    2.11%          rho_14 D 119497 119496     93\n",
      " 121325 40367        0.0252     5        0.0255        0.0249   542482    2.11%          rho_17 U 121325 121324     84\n",
      "Elapsed time = 42.33 sec. (50801.13 ticks, tree = 14.17 MB, solutions = 1)\n",
      " 123151 40688        0.0250    12        0.0255        0.0249   549959    2.11%           rho_0 D 123151 123138     94\n",
      " 124995 41044        0.0252     5        0.0255        0.0249   557674    2.11%           rho_9 D 124995 124994     94\n",
      " 126850 41436        0.0252     6        0.0255        0.0249   565828    2.11%           rho_4 D 126850 126848     43\n",
      " 128688 41810        cutoff              0.0255        0.0249   573683    2.11%          rho_13 U 128688 128687     50\n",
      " 130520 42172        0.0249     6        0.0255        0.0249   581548    2.11%           rho_0 D 130520 130518     56\n",
      " 132364 42502        cutoff              0.0255        0.0249   589048    2.11%           rho_7 U 132364 132362     71\n",
      " 134199 42846        cutoff              0.0255        0.0249   596592    2.11%          rho_17 U 134199 134198     65\n",
      " 136005 43199        cutoff              0.0255        0.0249   604402    2.11%           rho_3 D 136005 136004     40\n",
      " 137770 44054        0.0253     7        0.0255        0.0249   613199    2.11%           rho_2 D 137770 137769     75\n",
      " 139818 44809        0.0250     5        0.0255        0.0249   620098    2.11%           rho_0 D 139818 139816     60\n",
      "Elapsed time = 47.91 sec. (60341.04 ticks, tree = 15.51 MB, solutions = 1)\n",
      " 141584 45316        0.0250    11        0.0255        0.0249   629983    2.11%           rho_7 D 141584 141582     56\n",
      " 143287 45844        0.0251     9        0.0255        0.0249   640615    2.11%          rho_17 U 143287 143286     39\n",
      " 145128 46624        0.0250    12        0.0255        0.0249   650758    2.11%          rho_13 D 145128 145127     67\n",
      " 146880 47351        0.0252     7        0.0255        0.0249   660163    2.11%          rho_27 D 146880 146878     34\n",
      " 149188 47804        0.0251     7        0.0255        0.0249   668013    2.11%          rho_10 D 149188 149186     42\n",
      " 151465 48305        cutoff              0.0255        0.0249   675836    2.11%          rho_16 U 151465 151464     90\n",
      " 153800 48727        0.0250     7        0.0255        0.0249   683686    2.11%          rho_13 D 153800 153799     45\n",
      " 155970 49166        0.0254     3        0.0255        0.0249   691550    2.11%          rho_20 D 155970 155969     95\n",
      " 158154 49616        cutoff              0.0255        0.0249   699408    2.11%          rho_16 U 158154 158153     88\n",
      " 160301 50091        0.0252     7        0.0255        0.0249   707329    2.11%          rho_26 D 160301 160299     28\n",
      "Elapsed time = 52.92 sec. (69881.17 ticks, tree = 17.10 MB, solutions = 1)\n",
      " 162080 50763        0.0249     8        0.0255        0.0249   716882    2.11%          rho_13 U 162080 161972     61\n",
      " 163886 51492        0.0254     3        0.0255        0.0249   726935    2.11%          rho_12 D 163886 163885    100\n",
      " 165773 52157        0.0250     7        0.0255        0.0249   735882    2.11%           rho_0 U 165773 165772     31\n",
      " 167423 52855        0.0249    19        0.0255        0.0249   745757    2.11%           rho_0 D 167423 167402     61\n",
      " 169300 53259        0.0249     4        0.0255        0.0249   753632    2.11%           rho_6 U 169300 169291     49\n",
      " 171161 53709        0.0249     4        0.0255        0.0249   762014    2.11%           rho_6 U 171161 171156     57\n",
      " 172867 54563        0.0249     7        0.0255        0.0249   772038    2.11%          rho_13 U 172867 172253     55\n",
      " 174452 55366        0.0250     9        0.0255        0.0249   783445    2.11%           rho_0 U 174452 174451     72\n",
      " 175862 56343        cutoff              0.0255        0.0249   796372    2.11%          rho_26 U 175862 175861     29\n",
      " 177600 57482        0.0249     4        0.0255        0.0249   804382    2.11%           rho_0 D 177600 177588     47\n",
      "Elapsed time = 58.53 sec. (79427.52 ticks, tree = 19.34 MB, solutions = 1)\n",
      " 179200 58332        0.0252     1        0.0255        0.0249   811778    2.11%          rho_15 U 179200 179199     56\n",
      " 181281 58834        0.0250     6        0.0255        0.0249   819585    2.11%          rho_15 U 181281 181280     69\n",
      " 183438 59370        0.0250    10        0.0255        0.0249   827798    2.11%          rho_15 D 183438 183077     64\n",
      " 185373 60093        0.0255     3        0.0255        0.0249   836465    2.11%         L0_norm U 185373 185372     72\n",
      " 187399 60195        0.0252     4        0.0255        0.0249   842272    2.11%           rho_9 D 187399 187397     53\n",
      " 189239 60611        0.0254     7        0.0255        0.0249   849649    2.11%          rho_12 U 189239 189237     75\n",
      " 191085 60904        0.0252     8        0.0255        0.0249   856387    2.11%           rho_8 D 191085 191084     43\n",
      "*192200+60968                            0.0255        0.0249             2.11%\n",
      " 192880 61025        0.0252    13        0.0255        0.0249   862538    2.11%          rho_13 D 192880 192879     61\n",
      " 194688 61164        cutoff              0.0255        0.0249   868678    2.11%           rho_2 U 194688 194687     91\n",
      " 202000 62449        0.0250     3        0.0255        0.0249   894581    2.11%           rho_7 D 202000 201924     44\n",
      "Elapsed time = 64.19 sec. (91835.11 ticks, tree = 20.85 MB, solutions = 1)\n",
      " 209733 63802        0.0250     7        0.0255        0.0249   921187    2.11%           rho_3 D 209733 176127     24\n",
      " 216114 67133        0.0249     6        0.0255        0.0249   962132    2.11%           rho_0 D 216114 216112     42\n",
      " 222404 70301        0.0250     9        0.0255        0.0249   997993    2.11%           rho_0 D 222404 222402     40\n",
      " 229712 72795        cutoff              0.0255        0.0249  1033671    2.11%          rho_14 U 229712 229711     18\n",
      " 235730 75779        0.0250    10        0.0255        0.0249  1074103    2.11%           rho_5 U 235730 235687     38\n",
      " 242671 78450        cutoff              0.0255        0.0249  1106479    2.11%          rho_16 U 242671 242670     34\n",
      " 249522 81778        0.0249     5        0.0255        0.0249  1135218    2.11%          rho_13 D 249522 249521     65\n",
      " 256813 83760        0.0251     1        0.0255        0.0249  1158936    2.11%          rho_14 U 256813 256812     75\n",
      " 263877 86383        cutoff              0.0255        0.0249  1187630    2.11%          rho_26 U 263877 263876     54\n",
      " 270492 89085        0.0253    11        0.0255        0.0249  1222998    2.11%          rho_26 D 270492 270491     98\n",
      "Elapsed time = 84.94 sec. (129986.23 ticks, tree = 31.88 MB, solutions = 1)\n",
      " 276998 92189        0.0249     5        0.0255        0.0249  1259087    2.11%          rho_13 U 276998 276984     85\n",
      " 283727 94964        0.0252     1        0.0255        0.0249  1292175    2.11%           rho_5 U 283727 283726     37\n",
      " 290329 97652        cutoff              0.0255        0.0249  1327125    2.11%          rho_15 U 290329 290328     80\n",
      " 296930 100286        0.0249     4        0.0255        0.0249  1359522    2.11%          rho_13 U 296930 296928     72\n",
      " 303420 103057        0.0254     5        0.0255        0.0249  1399788    2.11%          rho_27 D 303420 303418    109\n",
      " 309692 105797        0.0252    13        0.0255        0.0249  1438077    2.11%           rho_9 D 309692 309691     74\n",
      " 316295 108203        0.0253     4        0.0255        0.0249  1471802    2.11%           rho_0 D 316295 316294     64\n",
      " 323200 110264        0.0250    10        0.0255        0.0249  1504290    2.11%          rho_15 D 323200 323198     81\n"
     ]
    },
    {
     "name": "stdout",
     "output_type": "stream",
     "text": [
      " 329711 113127        0.0251    11        0.0255        0.0249  1539935    2.11%          rho_17 D 329711 329709     82\n",
      " 336072 115845        0.0252    16        0.0255        0.0249  1576157    2.11%           rho_4 D 336072 336071     58\n",
      "Elapsed time = 103.11 sec. (168140.75 ticks, tree = 40.23 MB, solutions = 1)\n",
      " 342064 118346        0.0251     9        0.0255        0.0249  1613956    2.11%           rho_2 U 342064 341942     60\n",
      " 348124 120685        0.0252    13        0.0255        0.0249  1654148    2.11%           rho_4 D 348124 348123     59\n",
      " 354544 122669        0.0250     8        0.0255        0.0249  1689624    2.11%          rho_25 D 354544 354543     59\n",
      " 361085 124148        0.0253     7        0.0255        0.0249  1723002    2.11%          rho_16 D 361085 361083     88\n",
      " 367655 125690        0.0250    12        0.0255        0.0249  1755813    2.11%          rho_13 D 367655 367654     58\n",
      " 374108 128632        0.0249     3        0.0255        0.0249  1791125    2.11%           rho_0 D 374108 374106     36\n",
      " 381394 130094        cutoff              0.0255        0.0249  1820064    2.11%           rho_9 D 381394 381393     54\n",
      " 388002 132534        0.0249     7        0.0255        0.0249  1852670    2.11%           rho_0 D 388002 387992     62\n",
      " 394334 135148        0.0250     7        0.0255        0.0249  1882822    2.11%           rho_7 U 394334 394333     81\n",
      " 400450 137399        0.0252     5        0.0255        0.0249  1915011    2.11%          rho_17 U 400450 400449     60\n",
      "Elapsed time = 121.17 sec. (206291.07 ticks, tree = 49.95 MB, solutions = 1)\n",
      " 406893 140684        cutoff              0.0255        0.0249  1952852    2.11%          rho_10 U 406893 406892     47\n",
      " 412970 143624        0.0252    13        0.0255        0.0249  1986933    2.11%           rho_9 D 412970 412969     60\n",
      " 419779 146500        cutoff              0.0255        0.0249  2022453    2.11%           rho_9 U 419779 419777     58\n",
      " 425820 148953        0.0249     9        0.0255        0.0249  2058983    2.11%          rho_13 U 425820 425748     70\n",
      " 431913 151409        0.0250    11        0.0255        0.0249  2094800    2.11%          rho_13 D 431913 431912     53\n",
      " 439598 154960        0.0249     8        0.0255        0.0249  2118475    2.11%          rho_13 U 439598 439596     66\n",
      " 445802 158294        cutoff              0.0255        0.0249  2151835    2.11%          rho_14 U 445802 445799     82\n",
      " 452221 161483        0.0253     7        0.0255        0.0249  2184809    2.11%           rho_5 D 452221 452219     21\n",
      " 459814 164805        0.0251     6        0.0255        0.0249  2218615    2.11%          rho_15 U 459814 459813     26\n",
      " 466618 167974        0.0249     5        0.0255        0.0249  2250615    2.11%          rho_13 U 466618 466612     49\n",
      "Elapsed time = 139.67 sec. (244443.07 ticks, tree = 61.23 MB, solutions = 1)\n",
      " 473755 169587        cutoff              0.0255        0.0249  2279971    2.11%          rho_16 U 473755 473754     74\n",
      " 480746 171085        0.0249     6        0.0255        0.0249  2307373    2.11%          rho_13 U 480746 480718     37\n",
      " 487138 173613        0.0249    12        0.0255        0.0249  2339380    2.11%          rho_13 D 487138 487048     28\n",
      " 493124 176627        0.0249     9        0.0255        0.0249  2374450    2.11%          rho_25 D 493124 493123     20\n",
      " 499543 179672        0.0254     4        0.0255        0.0249  2406790    2.11%           rho_4 U 499543 499542     62\n",
      " 505800 182213        0.0249     8        0.0255        0.0249  2439473    2.11%           rho_4 D 505800 505691     35\n",
      " 511404 184569        0.0252     9        0.0255        0.0249  2480230    2.11%          rho_18 U 511404 511402     76\n",
      " 517262 186851        cutoff              0.0255        0.0249  2516472    2.11%           rho_5 U 517262 517261     29\n",
      " 523003 190176        0.0253     5        0.0255        0.0249  2549377    2.11%           rho_7 U 523003 523002     66\n",
      " 527930 192860        0.0250    10        0.0255        0.0249  2585189    2.11%          rho_17 D 527930 527841     87\n",
      "Elapsed time = 155.08 sec. (282593.19 ticks, tree = 71.12 MB, solutions = 1)\n",
      " 532935 195530        0.0249    10        0.0255        0.0249  2620457    2.11%          rho_17 D 532935 532934     62\n",
      " 538440 198427        0.0254     5        0.0255        0.0249  2656570    2.11%           rho_9 D 538440 538439     81\n",
      " 543315 201304        0.0253     9        0.0255        0.0249  2693666    2.11%          rho_10 U 543315 543314     86\n",
      " 549028 203880        cutoff              0.0255        0.0249  2729955    2.11%          rho_10 U 549028 549027    100\n",
      " 556231 207274        0.0254     3        0.0255        0.0249  2772324    2.11%          rho_26 D 556231 556230     74\n",
      " 562784 209174        0.0250     9        0.0255        0.0249  2811817    2.11%          rho_18 D 562784 562783     31\n",
      " 569080 211848        0.0249     5        0.0255        0.0249  2852614    2.11%           rho_0 D 569080 569078     58\n",
      " 575215 213828        0.0254     3        0.0255        0.0249  2889462    2.11%          rho_18 D 575215 575213     63\n",
      " 581024 216772        0.0251     7        0.0255        0.0249  2934208    2.11%           rho_4 U 581024 581023     48\n",
      " 587553 219567        0.0251     7        0.0255        0.0249  2971271    2.11%           rho_4 D 587553 587463     48\n",
      "Elapsed time = 170.38 sec. (320744.99 ticks, tree = 79.49 MB, solutions = 1)\n",
      " 593740 222934        0.0252    13        0.0255        0.0249  3002923    2.11%          rho_18 D 593740 593739     29\n",
      " 599018 225298        0.0254     9        0.0255        0.0249  3032984    2.11%          rho_16 D 599018 599016     46\n",
      " 605909 226738        0.0250    10        0.0255        0.0249  3062104    2.11%           rho_5 D 605909 605908     85\n",
      " 612491 228192        cutoff              0.0255        0.0249  3090335    2.11%          rho_18 U 612491 612490     58\n",
      " 618620 231015        0.0250    10        0.0255        0.0249  3126269    2.11%           rho_2 U 618620 267490     78\n",
      " 624996 233747        0.0251     6        0.0255        0.0249  3156345    2.11%           rho_0 U 624996 624995     79\n",
      " 631813 235856        cutoff              0.0255        0.0249  3182597    2.11%          rho_16 U 631813 631812     56\n",
      " 637280 238253        0.0254     3        0.0255        0.0249  3216934    2.11%          rho_26 D 637280 637279     39\n",
      " 643089 240538        0.0251     8        0.0255        0.0249  3248082    2.11%           rho_4 U 643089 643031     55\n",
      " 649139 241874        0.0253     6        0.0255        0.0249  3274009    2.11%          rho_10 D 649139 649137     74\n",
      "Elapsed time = 187.22 sec. (358897.91 ticks, tree = 89.05 MB, solutions = 1)\n",
      " 654760 243238        0.0253     1        0.0255        0.0249  3300961    2.11%          rho_14 U 654760 654759     60\n",
      " 660471 246297        0.0252     7        0.0255        0.0249  3331618    2.11%           rho_0 D 660471 660470     91\n",
      " 666522 249081        cutoff              0.0255        0.0249  3357600    2.11%          rho_27 U 666522 666521     86\n",
      " 672791 250205        0.0253     5        0.0255        0.0249  3380544    2.11%          rho_14 D 672791 672790     51\n",
      " 678514 252434        0.0253     7        0.0255        0.0249  3408351    2.11%          rho_14 U 678514 678513     29\n",
      " 683800 254580        0.0251    10        0.0255        0.0249  3443753    2.11%           rho_7 D 683800 683799     91\n",
      " 688957 256681        0.0253     5        0.0255        0.0249  3480006    2.11%          rho_26 U 688957 688956     75\n",
      " 694668 258792        0.0253    11        0.0255        0.0249  3510004    2.11%          rho_26 U 694668 694667     38\n",
      "\n",
      "User cuts applied:  940\n",
      "\n",
      "Root node processing (before b&c):\n",
      "  Real time             =    0.11 sec. (1.62 ticks)\n",
      "Sequential b&c:\n",
      "  Real time             =  199.91 sec. (390406.69 ticks)\n",
      "                          ------------\n",
      "Total (root+branch&cut) =  200.02 sec. (390408.31 ticks)\n",
      "+----------------------------------------------+------------------+-----------+\n",
      "| Pr(Y = +1) = 1.0/(1.0 + exp(-(-7 + score))   |                  |           |\n",
      "| ============================================ | ================ | ========= |\n",
      "| p_property>=1                                |         2 points |   + ..... |\n",
      "| age_at_current_charge<=18                    |         1 points |   + ..... |\n",
      "| p_arrest>=3                                  |         1 points |   + ..... |\n",
      "| p_arrest>=10                                 |         1 points |   + ..... |\n",
      "| p_felony>=1                                  |         1 points |   + ..... |\n",
      "| ============================================ | ================ | ========= |\n",
      "| ADD POINTS FROM ROWS 1 to 5                  |            SCORE |   = ..... |\n",
      "+----------------------------------------------+------------------+-----------+\n"
     ]
    },
    {
     "name": "stdout",
     "output_type": "stream",
     "text": [
      "model_id, score_thresholds 0 {'rank_abs': [0]}\n",
      "get_disparity_predefined_group()\n",
      "setting c0 = 0.0 to ensure that intercept is not penalized\n",
      "09/11/19 @ 10:55 PM | 1221 rows in lookup table\n",
      "09/11/19 @ 10:55 PM | ------------------------------------------------------------\n",
      "09/11/19 @ 10:55 PM | runnning initialization procedure\n",
      "09/11/19 @ 10:55 PM | ------------------------------------------------------------\n",
      "09/11/19 @ 10:55 PM | CPA produced 2 cuts\n",
      "09/11/19 @ 10:55 PM | running naive rounding on 150 solutions\n",
      "09/11/19 @ 10:55 PM | best objective value: 0.0255\n",
      "09/11/19 @ 10:55 PM | rounding produced 5 integer solutions\n",
      "09/11/19 @ 10:55 PM | best objective value is 0.0258\n",
      "09/11/19 @ 10:55 PM | running sequential rounding on 150 solutions\n",
      "09/11/19 @ 10:55 PM | best objective value: 0.0255\n",
      "09/11/19 @ 10:55 PM | sequential rounding produced 6 integer solutions\n",
      "09/11/19 @ 10:55 PM | best objective value: 0.0258\n",
      "09/11/19 @ 10:55 PM | polishing 11 solutions\n",
      "09/11/19 @ 10:55 PM | best objective value: 0.0258\n",
      "09/11/19 @ 10:55 PM | polishing produced 5 integer solutions\n",
      "09/11/19 @ 10:55 PM | initialization produced 8 feasible solutions\n",
      "09/11/19 @ 10:55 PM | best objective value: 0.0258\n",
      "09/11/19 @ 10:55 PM | ------------------------------------------------------------\n",
      "09/11/19 @ 10:55 PM | completed initialization procedure\n",
      "09/11/19 @ 10:55 PM | ------------------------------------------------------------\n",
      "09/11/19 @ 10:55 PM | 1221 rows in lookup table\n",
      "CPXPARAM_Read_DataCheck                          1\n",
      "CPXPARAM_Threads                                 1\n",
      "CPXPARAM_Parallel                                1\n",
      "CPXPARAM_RandomSeed                              0\n",
      "CPXPARAM_TimeLimit                               200\n",
      "CPXPARAM_MIP_Tolerances_LowerCutoff              0.025167044044001413\n",
      "CPXPARAM_MIP_Tolerances_UpperCutoff              0.025756838041837999\n"
     ]
    },
    {
     "name": "stderr",
     "output_type": "stream",
     "text": [
      "Warning: Control callbacks may disable some MIP features.\n"
     ]
    },
    {
     "name": "stdout",
     "output_type": "stream",
     "text": [
      "Lazy constraint(s) or lazy constraint callback is present.\n",
      "    Disabling dual reductions (CPX_PARAM_REDUCE) in presolve.\n",
      "    Disabling non-linear reductions (CPX_PARAM_PRELINEAR) in presolve.\n",
      "         Disabling repeat represolve because of lazy constraint/incumbent callback.\n",
      "09/11/19 @ 10:55 PM | adding 251 initial cuts\n",
      "1 of 1 MIP starts provided solutions.\n",
      "MIP start 'mip_start_0' defined initial solution with objective 0.0258.\n",
      "Tried aggregator 1 time.\n",
      "Reduced MIP has 30 rows, 60 columns, and 115 nonzeros.\n",
      "Reduced MIP has 28 binaries, 30 generals, 0 SOSs, and 0 indicators.\n",
      "Presolve time = 0.02 sec. (0.06 ticks)\n",
      "Probing time = 0.00 sec. (0.02 ticks)\n",
      "MIP emphasis: balance optimality and feasibility.\n",
      "MIP search method: traditional branch-and-cut.\n",
      "Parallel mode: none, using 1 thread.\n",
      "Root relaxation solution time = 0.00 sec. (0.04 ticks)\n",
      "\n",
      "        Nodes                                         Cuts/\n",
      "   Node  Left     Objective  IInf  Best Integer    Best Bound    ItCnt     Gap         Variable B NodeID Parent  Depth\n",
      "\n",
      "*     0+    0                            0.0258        0.0251             2.68%\n",
      "      0     0        0.0252     1        0.0258        0.0252        1    2.29%\n",
      "      0     2        0.0252     2        0.0258        0.0252        1    2.29%                        0             0\n",
      "Elapsed time = 0.08 sec. (1.40 ticks, tree = 0.01 MB, solutions = 1)\n",
      "   2074  1102        0.0252    13        0.0258        0.0252     8895    2.29%           rho_6 D   2074   2073     49\n",
      "   3278  1689        cutoff              0.0258        0.0252    14624    2.29%          rho_14 U   3278   3276     40\n",
      "   4220  2036        0.0257     5        0.0258        0.0252    19459    2.29%          rho_15 D   4220   4219     38\n",
      "   5032  2361        0.0254     5        0.0258        0.0252    24250    2.29%          rho_16 D   5032   5030     39\n",
      "   5786  2620        cutoff              0.0258        0.0252    28693    2.29%          rho_18 U   5786   5785     31\n",
      "   6504  2859        cutoff              0.0258        0.0252    32506    2.29%          rho_18 U   6504   6503     37\n",
      "   7180  3141        0.0252    10        0.0258        0.0252    36315    2.29%           rho_6 D   7180   7179     44\n",
      "   7810  3403        cutoff              0.0258        0.0252    39731    2.29%           rho_3 U   7810   7809     27\n",
      "   8439  3622        cutoff              0.0258        0.0252    42989    2.29%          rho_13 U   8439   8437     25\n",
      "  10977  4730        0.0252     9        0.0258        0.0252    56441    2.29%           rho_0 U  10977  10975     44\n",
      "Elapsed time = 3.27 sec. (3102.43 ticks, tree = 1.47 MB, solutions = 1)\n",
      "  13508  5801        0.0252     6        0.0258        0.0252    68091    2.29%           rho_3 U  13508   3444     20\n",
      "* 13533  5761      integral     0        0.0257        0.0252    68207    2.22%        alpha_21 D  13533  13532     39\n",
      "  15935  7022        cutoff              0.0257        0.0252    79898    2.22%          rho_20 U  15935  15934     62\n",
      "  18388  8058        0.0255     4        0.0257        0.0252    91532    2.22%         alpha_8 U  18388  18387     32\n",
      "  20800  8977        0.0255     3        0.0257        0.0252   101533    2.22%          rho_11 D  20800  20798     63\n",
      "  23353 10004        0.0255     3        0.0257        0.0252   111015    2.22%          rho_16 D  23353  23351     75\n",
      "  25803 10939        0.0254     3        0.0257        0.0252   120500    2.22%          rho_19 U  25803  25802     70\n",
      "  28270 11970        0.0255     5        0.0257        0.0252   129941    2.22%           rho_5 D  28270  28268     77\n",
      "  30690 12902        0.0252     6        0.0257        0.0252   139372    2.22%           rho_5 U  30690  30689     66\n",
      "  33100 13842        0.0257     1        0.0257        0.0252   148929    2.22%        alpha_20 U  33100  33099     80\n",
      "Elapsed time = 7.33 sec. (11699.66 ticks, tree = 4.38 MB, solutions = 2)\n",
      "  35445 14782        0.0252    11        0.0257        0.0252   158660    2.22%           rho_7 D  35445  35388     27\n",
      "  37801 15732        0.0254     3        0.0257        0.0252   168273    2.22%          rho_11 D  37801  37799     31\n",
      "  39984 16665        0.0257     1        0.0257        0.0252   178546    2.22%        alpha_21 U  39984  39983     37\n",
      "  42004 17510        cutoff              0.0257        0.0252   188667    2.22%        alpha_20 D  42004  42003     58\n",
      "  44100 18566        0.0252     9        0.0257        0.0252   198324    2.22%          rho_13 U  44100  44081     90\n",
      "  46318 19531        0.0253     4        0.0257        0.0252   206836    2.22%          rho_18 D  46318  46317     53\n",
      "  48642 20648        0.0257     2        0.0257        0.0252   214975    2.22%        alpha_20 U  48642  48641     71\n",
      "  51000 21766        0.0253     7        0.0257        0.0252   223156    2.22%           rho_4 D  51000  50999     74\n",
      "  53332 22854        0.0253     8        0.0257        0.0252   231653    2.22%        alpha_19 U  53332  53331     45\n",
      "  55529 23835        0.0256     7        0.0257        0.0252   240394    2.22%          rho_11 U  55529   7198     54\n",
      "Elapsed time = 11.73 sec. (21238.86 ticks, tree = 8.00 MB, solutions = 2)\n",
      "  57472 24595        0.0252     9        0.0257        0.0252   249591    2.22%          rho_13 U  57472  57451     52\n",
      "  59440 25384        0.0255     4        0.0257        0.0252   257871    2.22%          rho_26 U  59440  59439     21\n",
      "  61192 26272        0.0253     6        0.0257        0.0252   269113    2.22%          rho_10 U  61192  61191     33\n",
      "  63301 27301        0.0255     4        0.0257        0.0252   278454    2.22%          rho_17 D  63301  63300     67\n",
      "  65483 28475        0.0252    10        0.0257        0.0252   288242    2.22%           rho_0 D  65483  65451     60\n",
      "  67403 29501        0.0254     5        0.0257        0.0252   297069    2.22%          rho_18 D  67403  67401     68\n",
      "  69140 30586        0.0254     5        0.0257        0.0252   305908    2.22%          rho_18 D  69140  69138     74\n",
      "  70759 31392        cutoff              0.0257        0.0252   313113    2.22%          rho_17 D  70759  70758     48\n",
      "  72560 32106        0.0256     5        0.0257        0.0252   321772    2.22%          rho_20 D  72560  72558     87\n",
      "  74767 32985        0.0255     7        0.0257        0.0252   332004    2.22%          rho_16 D  74767  74765     88\n",
      "Elapsed time = 16.02 sec. (30778.54 ticks, tree = 12.14 MB, solutions = 2)\n",
      "  76876 33822        0.0257     1        0.0257        0.0252   341825    2.22%           rho_2 U  76876  76875     65\n",
      "  78825 34737        0.0254     1        0.0257        0.0252   350489    2.22%         alpha_8 U  78825  78824     35\n",
      "  80800 35650        0.0257     3        0.0257        0.0252   359029    2.22%        alpha_14 D  80800  80799     51\n",
      "  82767 36577        0.0254     9        0.0257        0.0252   367492    2.22%           rho_0 D  82767  82766     62\n",
      "  84722 37499        0.0256     3        0.0257        0.0252   376243    2.22%          rho_15 U  84722  84719     92\n",
      "  86647 38355        0.0253     4        0.0257        0.0252   385613    2.22%           rho_5 U  86647  86644     70\n",
      "  88649 39304        0.0256     5        0.0257        0.0252   393383    2.22%        alpha_14 D  88649  88648     66\n",
      "  90648 40261        0.0253     5        0.0257        0.0252   401198    2.22%          rho_17 D  90648  90647     58\n",
      "  92657 41208        0.0253     7        0.0257        0.0252   409014    2.22%           rho_4 D  92657  92656     72\n",
      "  94667 42176        cutoff              0.0257        0.0252   416789    2.22%          rho_16 U  94667  94666     54\n",
      "Elapsed time = 19.66 sec. (40318.11 ticks, tree = 14.92 MB, solutions = 2)\n",
      "  96680 43136        0.0253     4        0.0257        0.0252   424573    2.22%           rho_5 U  96680  96677     65\n",
      "  98670 44039        0.0253     7        0.0257        0.0252   432713    2.22%           rho_4 D  98670  98669     44\n",
      " 100627 44816        0.0252     9        0.0257        0.0252   440437    2.22%           rho_0 D 100627 100625     93\n",
      " 102639 45671        0.0257     1        0.0257        0.0252   447631    2.22%           rho_5 U 102639 102636     40\n"
     ]
    },
    {
     "name": "stdout",
     "output_type": "stream",
     "text": [
      " 104636 46519        0.0252    10        0.0257        0.0252   455004    2.22%          rho_13 U 104636 100188     59\n",
      " 106705 47459        cutoff              0.0257        0.0252   462164    2.22%          rho_16 U 106705 106703     87\n",
      " 108798 48439        0.0252    12        0.0257        0.0252   469326    2.22%          rho_13 D 108798 108797     67\n",
      " 110865 49421        0.0255     6        0.0257        0.0252   476479    2.22%          rho_15 U 110865 110863     57\n",
      " 112824 50290        0.0254     3        0.0257        0.0252   484553    2.22%          rho_19 U 112824 112823     62\n",
      " 114723 51126        0.0252    10        0.0257        0.0252   493096    2.22%          rho_13 U 114723 114712     60\n",
      "Elapsed time = 23.17 sec. (49860.39 ticks, tree = 17.62 MB, solutions = 2)\n",
      " 116743 51901        0.0252    12        0.0257        0.0252   500746    2.22%          rho_13 D 116743 116742     76\n",
      " 118838 52643        0.0256     7        0.0257        0.0252   507417    2.22%           rho_0 D 118838 118836     72\n",
      " 120930 53434        0.0256     5        0.0257        0.0252   514309    2.22%          rho_18 D 120930 120928     60\n",
      " 123042 54227        0.0257     2        0.0257        0.0252   521212    2.22%          rho_16 U 123042 123041     79\n",
      " 125195 55017        0.0257     2        0.0257        0.0252   527960    2.22%           rho_8 U 125195 125194     90\n",
      " 127333 55812        cutoff              0.0257        0.0252   534702    2.22%          rho_16 U 127333 127331     85\n",
      " 129463 56586        0.0252     9        0.0257        0.0252   541397    2.22%           rho_0 D 129463 129445     32\n",
      " 131455 57502        cutoff              0.0257        0.0252   549682    2.22%          rho_16 U 131455 131454     61\n",
      " 133407 58277        0.0252     8        0.0257        0.0252   556968    2.22%           rho_0 D 133407 133396     68\n",
      " 135372 59085        0.0252     8        0.0257        0.0252   563472    2.22%          rho_13 U 135372 135361     61\n",
      "Elapsed time = 26.83 sec. (59399.65 ticks, tree = 20.02 MB, solutions = 2)\n",
      " 137339 59899        0.0253     7        0.0257        0.0252   570046    2.22%          rho_16 D 137339 137337     84\n",
      " 139300 60715        0.0256     6        0.0257        0.0252   576618    2.22%           rho_8 D 139300 139298     62\n",
      " 141277 61475        0.0256    10        0.0257        0.0252   583300    2.22%          rho_11 N 141277   7134     22\n",
      " 143103 62101        0.0252     9        0.0257        0.0252   591609    2.22%           rho_0 D 143103 143095     29\n",
      " 144930 62562        0.0255     5        0.0257        0.0252   599354    2.22%           rho_5 U 144930 144929     29\n",
      " 146850 63311        0.0252    10        0.0257        0.0252   607931    2.22%          rho_13 U 146850 146838     35\n",
      " 148800 63990        0.0256     1        0.0257        0.0252   616616    2.22%          rho_14 U 148800 148799     44\n",
      " 150756 64719        0.0252     7        0.0257        0.0252   625511    2.22%         alpha_8 U 150756 150755     83\n",
      " 152554 65292        0.0255     7        0.0257        0.0252   634103    2.22%          rho_14 D 152554 152553     60\n",
      " 154405 65947        0.0253    14        0.0257        0.0252   641977    2.22%          rho_12 U 154405 154404     26\n",
      "Elapsed time = 31.11 sec. (68940.63 ticks, tree = 24.93 MB, solutions = 2)\n",
      " 156160 66547        0.0257     4        0.0257        0.0252   649424    2.22%         L0_norm U 156160 156159    108\n",
      " 157942 67333        0.0252    11        0.0257        0.0252   657555    2.22%          rho_13 U 157942 157941     37\n",
      " 159649 68474        0.0252     9        0.0257        0.0252   666834    2.22%           rho_0 D 159649 159647     40\n",
      " 161120 69474        0.0252    10        0.0257        0.0252   674658    2.22%           rho_4 D 161120 161114     27\n",
      " 162965 70161        0.0256     3        0.0257        0.0252   682594    2.22%          rho_16 D 162965 162963     64\n",
      " 164543 70775        0.0256     3        0.0257        0.0252   693002    2.22%           rho_7 U 164543 164542     43\n",
      " 166103 71406        0.0252    11        0.0257        0.0252   703756    2.22%          rho_13 U 166103 166101     64\n",
      " 167625 72097        0.0255    13        0.0257        0.0252   714190    2.22%           rho_9 D 167625 167622     77\n",
      " 169144 72774        0.0252    11        0.0257        0.0252   724759    2.22%          rho_13 U 169144 169074     88\n",
      " 170658 73443        cutoff              0.0257        0.0252   735185    2.22%           rho_0 D 170658 170657     91\n",
      "Elapsed time = 35.50 sec. (78482.70 ticks, tree = 27.23 MB, solutions = 2)\n",
      " 172183 74130        cutoff              0.0257        0.0252   745608    2.22%           rho_0 D 172183 172182     79\n",
      " 173849 75055        0.0252     9        0.0257        0.0252   755150    2.22%          rho_13 U 173849 173847     74\n",
      " 175435 75869        0.0252     8        0.0257        0.0252   763337    2.22%           rho_0 D 175435 175433     63\n",
      " 176839 76764        0.0256     3        0.0257        0.0252   771202    2.22%          rho_15 D 176839 176837     87\n",
      " 178183 77470        0.0252    12        0.0257        0.0252   779097    2.22%          rho_13 D 178183 178182     56\n",
      " 179666 78040        0.0252     1        0.0257        0.0252   786396    2.22%           rho_6 D 179666 179619     52\n",
      " 181895 78393        0.0255     3        0.0257        0.0252   792806    2.22%          rho_18 D 181895 181893     44\n",
      " 184000 78989        0.0254     4        0.0257        0.0252   800223    2.22%           rho_0 D 184000 183999     49\n",
      " 185998 79792        0.0255     1        0.0257        0.0252   807813    2.22%          rho_17 U 185998 185997     53\n",
      " 193912 82971        0.0255     1        0.0257        0.0252   837585    2.22%         alpha_8 U 193912 193911     66\n",
      "Elapsed time = 40.48 sec. (90887.14 ticks, tree = 30.18 MB, solutions = 2)\n",
      " 201167 85948        0.0253     5        0.0257        0.0252   867780    2.22%           rho_9 D 201167 201166     39\n",
      " 209016 88335        0.0254     1        0.0257        0.0252   898368    2.22%        alpha_14 U 209016 209015     57\n",
      " 217269 90885        0.0254     5        0.0257        0.0252   928693    2.22%           rho_7 D 217269 217268     80\n",
      " 225365 93445        0.0252     8        0.0257        0.0252   959902    2.22%           rho_4 D 225365 225364     39\n",
      " 231280 95999        0.0252     1        0.0257        0.0252   999007    2.22%        alpha_14 U 231280 231279     75\n",
      " 238266 98932        0.0253    11        0.0257        0.0252  1028674    2.22%        alpha_14 D 238266 238264     56\n",
      " 244940 101854        0.0252     8        0.0257        0.0252  1061797    2.22%           rho_0 U 244940 244939     64\n",
      " 251738 104634        cutoff              0.0257        0.0252  1095976    2.22%          rho_17 U 251738 251737     49\n",
      " 259201 105924        cutoff              0.0257        0.0252  1122977    2.22%          rho_15 U 259201 259200     93\n",
      " 266555 107287        cutoff              0.0257        0.0252  1149832    2.22%          rho_10 U 266555 266554    103\n",
      "Elapsed time = 55.02 sec. (129039.43 ticks, tree = 37.65 MB, solutions = 2)\n",
      " 274103 109232        cutoff              0.0257        0.0252  1178007    2.22%          rho_16 U 274103 274102     55\n",
      " 281342 111261        0.0252     9        0.0257        0.0252  1207196    2.22%           rho_4 D 281342 281341     58\n",
      " 287800 113259        0.0255     4        0.0257        0.0252  1239281    2.22%          rho_17 D 287800 287798     70\n",
      " 294324 115428        0.0252     9        0.0257        0.0252  1271354    2.22%           rho_0 D 294324 294276     97\n",
      " 300905 117827        0.0254     9        0.0257        0.0252  1303109    2.22%           rho_5 U 300905 300903     80\n",
      " 306309 120862        0.0257     5        0.0257        0.0252  1343347    2.22%          rho_10 D 306309 306307     55\n",
      " 311580 123898        cutoff              0.0257        0.0252  1373755    2.22%         L0_norm D 311580 311578     39\n",
      " 317460 126783        0.0255    11        0.0257        0.0252  1399210    2.22%           rho_7 D 317460 317458     67\n"
     ]
    },
    {
     "name": "stdout",
     "output_type": "stream",
     "text": [
      " 324075 129994        0.0253     6        0.0257        0.0252  1427305    2.22%           rho_4 D 324075 324073     46\n",
      " 330005 133538        0.0252    11        0.0257        0.0252  1461883    2.22%           rho_0 U 330005 330004     79\n",
      "Elapsed time = 69.92 sec. (167191.42 ticks, tree = 48.80 MB, solutions = 2)\n",
      " 335244 136979        0.0253    10        0.0257        0.0252  1490928    2.22%           rho_5 D 335244 335242     71\n",
      " 340670 140299        0.0252    14        0.0257        0.0252  1518218    2.22%          rho_13 D 340670 340669     74\n",
      " 345826 143231        0.0255     3        0.0257        0.0252  1547806    2.22%           rho_0 D 345826 345824     58\n",
      " 351757 146096        cutoff              0.0257        0.0252  1578742    2.22%          rho_18 U 351757 351756     50\n",
      " 356771 149781        0.0252    10        0.0257        0.0252  1609403    2.22%           rho_0 D 356771 356769     33\n",
      " 361566 152241        0.0257     1        0.0257        0.0252  1643995    2.22%         L0_norm D 361566 361565     42\n",
      " 366087 155529        0.0252    11        0.0257        0.0252  1680996    2.22%         alpha_8 U 366087 366086     61\n",
      " 371422 158820        0.0252     8        0.0257        0.0252  1712431    2.22%          rho_13 U 371422 371420     78\n",
      " 375940 161907        0.0257     1        0.0257        0.0252  1749761    2.22%           rho_0 D 375940 375939     43\n",
      " 380440 164927        0.0252    10        0.0257        0.0252  1787054    2.22%           rho_0 D 380440 380438     50\n",
      "Elapsed time = 85.28 sec. (205344.22 ticks, tree = 60.40 MB, solutions = 2)\n",
      " 384854 168046        0.0254     8        0.0257        0.0252  1824161    2.22%           rho_0 U 384854 384853     47\n",
      " 389220 171164        0.0254     7        0.0257        0.0252  1862841    2.22%          rho_13 U 389220 389219     70\n",
      " 395715 173783        0.0257     5        0.0257        0.0252  1893746    2.22%          rho_26 D 395715 395713     74\n",
      " 404004 177732        cutoff              0.0257        0.0252  1930227    2.22%        alpha_19 D 404004 404002     28\n",
      " 409511 180880        cutoff              0.0257        0.0252  1964270    2.22%           rho_7 U 409511 409509     84\n",
      " 414470 183673        0.0254     9        0.0257        0.0252  1989746    2.22%           rho_9 D 414470 414469     91\n",
      " 420427 186432        cutoff              0.0257        0.0252  2017667    2.22%          rho_18 U 420427 420426     81\n",
      " 427369 189574        0.0254     9        0.0257        0.0252  2053605    2.22%           rho_7 D 427369 427366     71\n",
      " 432922 192682        0.0252    12        0.0257        0.0252  2083842    2.22%          rho_13 D 432922 432921     54\n",
      " 437330 195219        0.0252    17        0.0257        0.0252  2121156    2.22%          rho_13 D 437330 437329     66\n",
      "Elapsed time = 100.75 sec. (243496.37 ticks, tree = 72.01 MB, solutions = 2)\n",
      " 441258 198173        0.0253    11        0.0257        0.0252  2162296    2.22%           rho_7 U 441258 441257     40\n",
      " 445093 201016        0.0254     9        0.0257        0.0252  2205662    2.22%           rho_5 U 445093 445091     49\n",
      " 449388 204022        0.0256     3        0.0257        0.0252  2243155    2.22%           rho_9 D 449388 449387     60\n",
      " 453713 207197        0.0254     6        0.0257        0.0252  2280010    2.22%           rho_9 D 453713 453712     69\n",
      " 458510 209818        0.0254    12        0.0257        0.0252  2311654    2.22%         alpha_8 D 458510 458509     57\n",
      " 463137 212494        0.0253    12        0.0257        0.0252  2346458    2.22%          rho_16 D 463137 463136     65\n",
      " 469060 214655        0.0253    13        0.0257        0.0252  2384386    2.22%           rho_7 D 469060 466575     77\n",
      " 475058 217108        cutoff              0.0257        0.0252  2426290    2.22%         L0_norm D 475058 475057     51\n",
      " 481385 220652        0.0252    13        0.0257        0.0252  2460364    2.22%          rho_13 D 481385 481384     68\n",
      " 486074 223314        0.0252    19        0.0257        0.0252  2491939    2.22%          rho_13 D 486074 486073     54\n",
      "Elapsed time = 116.17 sec. (281649.75 ticks, tree = 80.93 MB, solutions = 2)\n",
      " 490607 225995        0.0256     4        0.0257        0.0252  2525527    2.22%           rho_9 D 490607 490606     67\n",
      " 495907 228348        cutoff              0.0257        0.0252  2555650    2.22%           rho_4 U 495907 495906     41\n",
      " 502563 231536        0.0252    11        0.0257        0.0252  2591339    2.22%         L0_norm D 502563 502338     75\n",
      " 509150 234530        0.0252    12        0.0257        0.0252  2626485    2.22%           rho_0 D 509150 509148     49\n",
      " 515826 237462        0.0252    11        0.0257        0.0252  2660512    2.22%          rho_15 U 515826 476239     64\n",
      " 522472 240200        0.0252     9        0.0257        0.0252  2696792    2.22%          rho_13 U 522472 522454     74\n",
      " 529356 242917        0.0256     1        0.0257        0.0252  2732476    2.22%          rho_13 D 529356 529354     64\n",
      " 536442 246109        0.0257     3        0.0257        0.0252  2766541    2.22%          rho_28 D 536442 536441     44\n",
      " 542400 249237        0.0252    14        0.0257        0.0252  2802194    2.22%          rho_13 U 542400 542398     45\n",
      " 547010 251555        0.0255    15        0.0257        0.0252  2835121    2.22%           rho_9 D 547010 547009     93\n",
      "Elapsed time = 132.58 sec. (319810.17 ticks, tree = 92.43 MB, solutions = 2)\n",
      " 552557 254448        0.0253     4        0.0257        0.0252  2864309    2.22%          rho_13 D 552557 552556     48\n",
      " 559338 257789        0.0252    13        0.0257        0.0252  2899105    2.22%          rho_24 D 559338 559337     54\n",
      " 564135 260431        0.0255     5        0.0257        0.0252  2925698    2.22%          rho_10 D 564135 564133     39\n",
      " 568990 262990        0.0252    18        0.0257        0.0252  2953867    2.22%          rho_13 D 568990 568989     35\n",
      " 574215 265568        0.0256    10        0.0257        0.0252  2983295    2.22%           rho_0 D 574215 574214     32\n",
      " 580319 268365        0.0252     8        0.0257        0.0252  3014139    2.22%           rho_0 D 580319 580318     35\n",
      " 587138 271218        cutoff              0.0257        0.0252  3049755    2.22%          rho_10 U 587138 587137     29\n",
      " 592320 274614        0.0257     5        0.0257        0.0252  3078663    2.22%          rho_20 D 592320 592319     68\n",
      " 597592 277138        cutoff              0.0257        0.0252  3104053    2.22%          rho_14 U 597592 597591     98\n",
      " 604628 280450        cutoff              0.0257        0.0252  3138970    2.22%          rho_17 U 604628 604627     79\n",
      "Elapsed time = 158.58 sec. (357964.80 ticks, tree = 104.65 MB, solutions = 2)\n",
      " 611708 283806        0.0252     7        0.0257        0.0252  3173613    2.22%        alpha_14 U 611708 611707     30\n",
      " 619125 286361        0.0255     5        0.0257        0.0252  3203196    2.22%          rho_14 D 619125 619123     81\n",
      " 626658 288808        cutoff              0.0257        0.0252  3231640    2.22%         L0_norm D 626658 626656     81\n",
      " 633224 291460        0.0257     3        0.0257        0.0252  3264917    2.22%          rho_18 D 633224 633222     81\n",
      " 638366 294321        cutoff              0.0257        0.0252  3296316    2.22%           rho_8 U 638366 638365     73\n",
      " 643160 297082        0.0252     7        0.0257        0.0252  3326810    2.22%          rho_13 U 643160 643158     70\n",
      " 647360 299559        0.0255     4        0.0257        0.0252  3357950    2.22%          rho_11 D 647360 647358     79\n",
      " 652298 301805        0.0255     7        0.0257        0.0252  3385263    2.22%           rho_4 D 652298 652296     61\n",
      " 658586 303986        0.0252    13        0.0257        0.0252  3416618    2.22%           rho_5 D 658586 647505     23\n",
      " 664397 306477        0.0252    13        0.0257        0.0252  3447231    2.22%           rho_5 U 664397 663667     92\n",
      "Elapsed time = 193.84 sec. (396118.33 ticks, tree = 112.99 MB, solutions = 2)\n",
      " 669804 308247        cutoff              0.0257        0.0252  3476660    2.22%          rho_11 U 669804 669803     97\n",
      "\n",
      "User cuts applied:  992\n",
      "\n",
      "Root node processing (before b&c):\n",
      "  Real time             =    0.08 sec. (1.49 ticks)\n"
     ]
    },
    {
     "name": "stdout",
     "output_type": "stream",
     "text": [
      "Sequential b&c:\n",
      "  Real time             =  199.95 sec. (401790.17 ticks)\n",
      "                          ------------\n",
      "Total (root+branch&cut) =  200.03 sec. (401791.66 ticks)\n",
      "+----------------------------------------------+------------------+-----------+\n",
      "| Pr(Y = +1) = 1.0/(1.0 + exp(-(-7 + score))   |                  |           |\n",
      "| ============================================ | ================ | ========= |\n",
      "| p_property>=1                                |         2 points |   + ..... |\n",
      "| age_at_current_charge<=19                    |         1 points |   + ..... |\n",
      "| p_arrest>=2                                  |         1 points |   + ..... |\n",
      "| p_arrest>=10                                 |         1 points |   + ..... |\n",
      "| p_pending_charge>=1                          |         1 points |   + ..... |\n",
      "| ============================================ | ================ | ========= |\n",
      "| ADD POINTS FROM ROWS 1 to 5                  |            SCORE |   = ..... |\n",
      "+----------------------------------------------+------------------+-----------+\n",
      "model_id, score_thresholds 0 {'rank_abs': [0]}\n",
      "get_disparity_predefined_group()\n",
      "setting c0 = 0.0 to ensure that intercept is not penalized\n",
      "09/11/19 @ 10:58 PM | 1221 rows in lookup table\n",
      "09/11/19 @ 10:58 PM | ------------------------------------------------------------\n",
      "09/11/19 @ 10:58 PM | runnning initialization procedure\n",
      "09/11/19 @ 10:58 PM | ------------------------------------------------------------\n",
      "09/11/19 @ 10:58 PM | CPA produced 2 cuts\n",
      "09/11/19 @ 10:58 PM | running naive rounding on 142 solutions\n",
      "09/11/19 @ 10:58 PM | best objective value: 0.0252\n",
      "09/11/19 @ 10:58 PM | rounding produced 5 integer solutions\n",
      "09/11/19 @ 10:58 PM | best objective value is 0.0256\n",
      "09/11/19 @ 10:58 PM | running sequential rounding on 142 solutions\n",
      "09/11/19 @ 10:58 PM | best objective value: 0.0252\n",
      "09/11/19 @ 10:59 PM | sequential rounding produced 6 integer solutions\n",
      "09/11/19 @ 10:59 PM | best objective value: 0.0256\n",
      "09/11/19 @ 10:59 PM | polishing 11 solutions\n",
      "09/11/19 @ 10:59 PM | best objective value: 0.0256\n",
      "09/11/19 @ 10:59 PM | polishing produced 5 integer solutions\n",
      "09/11/19 @ 10:59 PM | initialization produced 13 feasible solutions\n",
      "09/11/19 @ 10:59 PM | best objective value: 0.0256\n",
      "09/11/19 @ 10:59 PM | ------------------------------------------------------------\n",
      "09/11/19 @ 10:59 PM | completed initialization procedure\n",
      "09/11/19 @ 10:59 PM | ------------------------------------------------------------\n",
      "09/11/19 @ 10:59 PM | 1221 rows in lookup table\n",
      "CPXPARAM_Read_DataCheck                          1\n",
      "CPXPARAM_Threads                                 1\n",
      "CPXPARAM_Parallel                                1\n",
      "CPXPARAM_RandomSeed                              0\n",
      "CPXPARAM_TimeLimit                               200\n",
      "CPXPARAM_MIP_Tolerances_LowerCutoff              0.024992121682774052\n",
      "CPXPARAM_MIP_Tolerances_UpperCutoff              0.025576865780654035\n"
     ]
    },
    {
     "name": "stderr",
     "output_type": "stream",
     "text": [
      "Warning: Control callbacks may disable some MIP features.\n"
     ]
    },
    {
     "name": "stdout",
     "output_type": "stream",
     "text": [
      "Lazy constraint(s) or lazy constraint callback is present.\n",
      "    Disabling dual reductions (CPX_PARAM_REDUCE) in presolve.\n",
      "    Disabling non-linear reductions (CPX_PARAM_PRELINEAR) in presolve.\n",
      "         Disabling repeat represolve because of lazy constraint/incumbent callback.\n",
      "09/11/19 @ 10:59 PM | adding 253 initial cuts\n",
      "1 of 1 MIP starts provided solutions.\n",
      "MIP start 'mip_start_0' defined initial solution with objective 0.0256.\n",
      "Tried aggregator 1 time.\n",
      "Reduced MIP has 30 rows, 60 columns, and 115 nonzeros.\n",
      "Reduced MIP has 28 binaries, 30 generals, 0 SOSs, and 0 indicators.\n",
      "Presolve time = 0.00 sec. (0.06 ticks)\n",
      "Probing time = 0.00 sec. (0.02 ticks)\n",
      "MIP emphasis: balance optimality and feasibility.\n",
      "MIP search method: traditional branch-and-cut.\n",
      "Parallel mode: none, using 1 thread.\n",
      "Root relaxation solution time = 0.00 sec. (0.04 ticks)\n",
      "\n",
      "        Nodes                                         Cuts/\n",
      "   Node  Left     Objective  IInf  Best Integer    Best Bound    ItCnt     Gap         Variable B NodeID Parent  Depth\n",
      "\n",
      "*     0+    0                            0.0256        0.0249             2.68%\n",
      "      0     0        0.0250     1        0.0256        0.0250        1    2.29%\n",
      "      0     2        0.0250     5        0.0256        0.0250        1    2.29%                        0             0\n",
      "Elapsed time = 0.13 sec. (1.52 ticks, tree = 0.01 MB, solutions = 1)\n",
      "   2140   995        0.0255     0        0.0256        0.0250     9212    2.29%           rho_4 D   2140   2139     21\n",
      "   3280  1413        0.0254     0        0.0256        0.0250    15680    2.29%           rho_5 D   3280   3278     14\n",
      "   4308  1886        0.0252     4        0.0256        0.0250    20471    2.29%          rho_13 D   4308   4169     58\n",
      "   5653  1939        cutoff              0.0256        0.0250    23732    2.29%         alpha_2 D   5653    238     25\n",
      "*  5670+ 1943                            0.0256        0.0250             2.29%\n",
      "   6430  2221        0.0253     0        0.0256        0.0250    27503    2.29%           rho_9 D   6430   6429     44\n",
      "   7393  2346        0.0254     3        0.0256        0.0250    30602    2.29%          rho_17 D   7393   7391     54\n",
      "   8390  2488        0.0253     7        0.0256        0.0250    33617    2.29%           rho_9 D   8390   8388     71\n",
      "   9320  2715        0.0251     7        0.0256        0.0250    37072    2.29%           rho_3 U   9320   9319     29\n",
      "  10157  3075        0.0253     7        0.0256        0.0250    41038    2.29%           rho_9 D  10157  10155     33\n",
      "* 12074  3984      integral     0        0.0255        0.0250    50988    2.13%           rho_2 U  12074  12073     34\n",
      "Elapsed time = 5.27 sec. (2728.51 ticks, tree = 1.11 MB, solutions = 3)\n",
      "* 12075  3938      integral     0        0.0255        0.0250    50991    2.09%           rho_2 D  12075  12073     34\n",
      "  15211  5761        0.0252     4        0.0255        0.0250    66669    2.09%           rho_0 U  15211  15210     48\n",
      "  17841  7268        0.0252     6        0.0255        0.0250    81211    2.09%           rho_0 U  17841  17840     24\n",
      "  20800  8538        0.0252     6        0.0255        0.0250    96063    2.09%           rho_0 U  20800  20799     37\n",
      "  23563 10116        0.0250    10        0.0255        0.0250   111548    2.09%          rho_13 D  23563   9766     49\n",
      "  26034 11440        0.0251     4        0.0255        0.0250   125884    2.09%           rho_0 U  26034  26033     76\n",
      "  28698 12733        0.0253     3        0.0255        0.0250   138023    2.09%           rho_8 U  28698  28697     85\n",
      "  31809 13738        0.0250     3        0.0255        0.0250   151581    2.09%          rho_13 U  31809  31763     61\n",
      "  35136 14519        cutoff              0.0255        0.0250   165963    2.09%          rho_14 U  35136  35134     55\n",
      "  38574 15318        0.0250     4        0.0255        0.0250   180516    2.09%           rho_2 U  38574  38302     96\n",
      "Elapsed time = 13.14 sec. (11314.49 ticks, tree = 4.49 MB, solutions = 4)\n",
      "  42065 16510        0.0255     6        0.0255        0.0250   193469    2.09%          rho_25 D  42065  42063     73\n",
      "  45649 17130        0.0250     5        0.0255        0.0250   206238    2.09%           rho_0 D  45649  45647     73\n",
      "  48996 18372        0.0250     8        0.0255        0.0250   220154    2.09%           rho_0 D  48996   6308     19\n",
      "  52100 19565        0.0250     6        0.0255        0.0250   235359    2.09%           rho_4 D  52100  42106     76\n",
      "  55137 20633        0.0252     9        0.0255        0.0250   249181    2.09%           rho_0 U  55137  55136     79\n",
      "  57955 21949        0.0250     6        0.0255        0.0250   264239    2.09%           rho_2 U  57955  35948     32\n",
      "  60572 22995        0.0252     4        0.0255        0.0250   276547    2.09%          rho_17 D  60572  60570     77\n",
      "  63091 23652        0.0254     1        0.0255        0.0250   288139    2.09%           rho_2 U  63091  63090     61\n",
      "  65650 24864        0.0250     8        0.0255        0.0250   299525    2.09%          rho_13 N  65650  65649     60\n",
      "  68060 26217        0.0254     5        0.0255        0.0250   312419    2.09%           rho_8 D  68060  68058     90\n",
      "Elapsed time = 21.30 sec. (20854.02 ticks, tree = 8.02 MB, solutions = 4)\n",
      "  70562 27376        0.0251     8        0.0255        0.0250   326182    2.09%           rho_7 D  70562  70561     62\n",
      "  72986 28459        0.0250     3        0.0255        0.0250   338417    2.09%          rho_13 U  72986  72984     71\n",
      "  75480 29591        0.0252     3        0.0255        0.0250   351588    2.09%           rho_8 D  75480  75478     92\n",
      "  78210 30537        0.0253     4        0.0255        0.0250   361209    2.09%          rho_17 D  78210  78208     63\n",
      "  80954 31564        0.0250     7        0.0255        0.0250   371209    2.09%          rho_13 U  80954  80952     86\n",
      "  83596 32616        0.0255     1        0.0255        0.0250   382950    2.09%          rho_13 D  83596  83595     46\n",
      "  85963 33600        0.0250     5        0.0255        0.0250   395410    2.09%           rho_0 D  85963  85961     67\n",
      "  88796 34409        0.0250     6        0.0255        0.0250   407158    2.09%           rho_0 D  88796  88794     75\n",
      "  91180 35426        0.0251     8        0.0255        0.0250   421664    2.09%           rho_7 D  91180  91179     81\n",
      "  94153 36209        0.0250     7        0.0255        0.0250   433577    2.09%          rho_13 D  94153  94152     54\n",
      "Elapsed time = 29.20 sec. (30393.15 ticks, tree = 12.06 MB, solutions = 4)\n",
      "  97040 37064        0.0255     1        0.0255        0.0250   445554    2.09%          rho_18 D  97040  97038     35\n",
      "* 97068 37004      integral     0        0.0255        0.0250   445786    2.05%          rho_20 D  97068  97067     29\n",
      "  99383 38104        0.0255     1        0.0255        0.0250   457514    2.05%          rho_14 U  99383  99382    106\n",
      " 101801 39121        0.0252     5        0.0255        0.0250   469095    2.05%           rho_7 N 101801 101800     42\n",
      " 104320 39970        0.0250     9        0.0255        0.0250   480294    2.05%          rho_13 D 104320 104319     58\n",
      " 107047 40415        0.0250     8        0.0255        0.0250   490106    2.05%          rho_13 D 107047 107046     66\n",
      " 109701 41610        0.0252     1        0.0255        0.0250   500711    2.05%           rho_7 D 109701 109700     89\n",
      " 112183 42495        0.0255     3        0.0255        0.0250   512662    2.05%          rho_16 U 112183 112182     92\n",
      " 114558 43052        0.0250     7        0.0255        0.0250   524658    2.05%          rho_14 U 114558 114063     73\n",
      " 116909 43511        0.0253     4        0.0255        0.0250   535268    2.05%          rho_14 D 116909 116907     45\n",
      "Elapsed time = 36.11 sec. (38992.35 ticks, tree = 14.04 MB, solutions = 5)\n",
      " 119390 44395        0.0254     3        0.0255        0.0250   545829    2.05%           rho_3 D 119390 119388     83\n",
      " 121809 45443        0.0252     6        0.0255        0.0250   555210    2.05%           rho_8 N 121809 121807     33\n",
      " 124214 46516        0.0255     1        0.0255        0.0250   566782    2.05%          rho_16 N 124214 124213     39\n"
     ]
    },
    {
     "name": "stdout",
     "output_type": "stream",
     "text": [
      " 126371 47063        0.0251     5        0.0255        0.0250   576848    2.05%           rho_7 D 126371 126369     64\n",
      " 128532 47523        0.0250     5        0.0255        0.0250   586850    2.05%          rho_13 U 128532 128530     96\n",
      " 130595 48208        cutoff              0.0255        0.0250   598009    2.05%           rho_7 U 130595 130594     40\n",
      " 132729 48816        0.0252     3        0.0255        0.0250   608594    2.05%        alpha_19 U 132729 132728    100\n",
      " 135010 49401        0.0254     1        0.0255        0.0250   618425    2.05%          rho_16 U 135010 135009     75\n",
      " 137261 50009        cutoff              0.0255        0.0250   628318    2.05%           rho_7 U 137261 137260     60\n",
      " 139528 50612        0.0252     8        0.0255        0.0250   638192    2.05%          rho_14 D 139528 139527     47\n",
      "Elapsed time = 44.05 sec. (48531.68 ticks, tree = 15.94 MB, solutions = 5)\n",
      " 141760 51199        0.0250     8        0.0255        0.0250   648109    2.05%          rho_14 U 141760 141759     62\n",
      " 144142 51928        0.0254     1        0.0255        0.0250   658646    2.05%          rho_16 U 144142 144141     72\n",
      " 146450 52736        0.0252     3        0.0255        0.0250   668681    2.05%           rho_0 U 146450 146449     78\n",
      " 148751 53561        0.0250     7        0.0255        0.0250   678846    2.05%          rho_14 U 148751 148750     65\n",
      " 151097 54432        0.0250    14        0.0255        0.0250   689291    2.05%           rho_4 D 151097 151096     90\n",
      " 153495 55513        0.0251     4        0.0255        0.0250   701698    2.05%           rho_7 D 153495 153493     52\n",
      " 155842 56646        cutoff              0.0255        0.0250   714470    2.05%          rho_16 U 155842 155841     76\n",
      " 158351 57822        0.0250     3        0.0255        0.0250   724882    2.05%           rho_0 U 158351 158350     44\n",
      " 160952 58388        0.0252     5        0.0255        0.0250   734813    2.05%          rho_14 D 160952 160950     69\n",
      " 163403 59200        0.0250     3        0.0255        0.0250   745519    2.05%          rho_13 U 163403 163401     70\n",
      "Elapsed time = 51.73 sec. (58072.29 ticks, tree = 18.28 MB, solutions = 5)\n",
      " 165860 60298        0.0251     9        0.0255        0.0250   757672    2.05%          rho_14 D 165860 165859     76\n",
      " 168352 60934        0.0253     4        0.0255        0.0250   769071    2.05%           rho_7 D 168352 168350    100\n",
      " 170876 61714        0.0250     6        0.0255        0.0250   780672    2.05%           rho_0 D 170876 170874     78\n",
      " 173256 62505        0.0251     5        0.0255        0.0250   791981    2.05%          rho_14 D 173256 173254     92\n",
      " 175783 62988        0.0252     5        0.0255        0.0250   800800    2.05%           rho_9 D 175783 175781     62\n",
      " 178350 63348        0.0250     5        0.0255        0.0250   809391    2.05%           rho_0 D 178350 178330     49\n",
      " 180944 63782        0.0250     6        0.0255        0.0250   818551    2.05%           rho_0 U 180944 180943     55\n",
      " 183482 64180        0.0250    10        0.0255        0.0250   827694    2.05%          rho_13 D 183482 183481     40\n",
      " 186069 64609        0.0250     5        0.0255        0.0250   836826    2.05%           rho_0 D 186069 186064     68\n",
      " 188390 65533        0.0253     1        0.0255        0.0250   847893    2.05%          rho_19 U 188390 188389     54\n",
      "Elapsed time = 58.31 sec. (67612.09 ticks, tree = 20.05 MB, solutions = 5)\n",
      " 190600 66340        cutoff              0.0255        0.0250   859614    2.05%          rho_26 U 190600 190599     40\n",
      " 192705 67255        0.0252     6        0.0255        0.0250   873020    2.05%          rho_14 U 192705  20919     45\n",
      " 194730 68166        0.0252     5        0.0255        0.0250   886609    2.05%          rho_14 U 194730  20259     78\n",
      " 197010 68959        0.0253     5        0.0255        0.0250   897498    2.05%          rho_17 D 197010 197008     74\n",
      " 199223 69684        cutoff              0.0255        0.0250   908706    2.05%          rho_25 U 199223 199221     61\n",
      " 201420 70463        0.0250    12        0.0255        0.0250   920038    2.05%           rho_4 D 201420 201419     82\n",
      " 203630 71209        0.0251     7        0.0255        0.0250   931254    2.05%           rho_5 U 203630 203371     64\n",
      " 205820 71922        0.0251     7        0.0255        0.0250   942229    2.05%           rho_8 D 205820 205818     34\n",
      " 208060 72676        0.0253     3        0.0255        0.0250   953554    2.05%          rho_16 D 208060 208058     85\n",
      " 210320 73359        0.0255     5        0.0255        0.0250   964807    2.05%          rho_25 D 210320 210319     52\n",
      "Elapsed time = 64.77 sec. (77152.56 ticks, tree = 25.03 MB, solutions = 5)\n",
      " 212614 74158        0.0252     7        0.0255        0.0250   976365    2.05%           rho_7 D 212614 212612     75\n",
      " 214891 75054        cutoff              0.0255        0.0250   987329    2.05%          rho_19 D 214891 214890     59\n",
      " 217537 75818        0.0252     4        0.0255        0.0250   996881    2.05%          rho_18 D 217537 217536     81\n",
      " 220245 76527        0.0251     5        0.0255        0.0250  1006301    2.05%           rho_8 D 220245 220243     78\n",
      " 222963 77229        cutoff              0.0255        0.0250  1015757    2.05%          rho_14 U 222963 222962     85\n",
      " 225680 77911        0.0251     4        0.0255        0.0250  1025078    2.05%           rho_7 D 225680 225679     63\n",
      " 228096 78762        cutoff              0.0255        0.0250  1035587    2.05%           rho_6 U 228096 228095     27\n",
      " 230337 79522        0.0255     5        0.0255        0.0250  1046386    2.05%          rho_27 D 230337 230335     85\n",
      " 232507 80226        0.0251     6        0.0255        0.0250  1057219    2.05%           rho_4 D 232507 232506     42\n",
      " 240489 82847        0.0253     6        0.0255        0.0250  1096731    2.05%           rho_0 U 240489 240488     65\n",
      "Elapsed time = 74.25 sec. (89553.33 ticks, tree = 27.66 MB, solutions = 5)\n",
      " 249053 84950        0.0252     5        0.0255        0.0250  1131819    2.05%           rho_0 U 249053 249052     75\n",
      " 258362 87261        cutoff              0.0255        0.0250  1166395    2.05%          rho_16 U 258362 258361    107\n",
      " 267060 90182        0.0251     9        0.0255        0.0250  1205758    2.05%          rho_14 D 267060 267059     51\n",
      " 275628 93876        cutoff              0.0255        0.0250  1246658    2.05%          rho_18 U 275628 275627     57\n",
      " 284290 96696        0.0254     5        0.0255        0.0250  1282000    2.05%          rho_19 U 284290 284289     78\n",
      " 292634 99704        cutoff              0.0255        0.0250  1318798    2.05%           rho_5 D 292634 292632     93\n",
      " 300586 102542        cutoff              0.0255        0.0250  1359143    2.05%          rho_19 D 300586 300583     39\n",
      " 308707 106158        0.0254     3        0.0255        0.0250  1404498    2.05%           rho_8 D 308707 308706     71\n",
      " 316071 108491        0.0255     3        0.0255        0.0250  1447125    2.05%           rho_0 U 316071 316070     37\n",
      " 323818 111722        cutoff              0.0255        0.0250  1486154    2.05%          rho_13 D 323818 323817     51\n",
      "Elapsed time = 105.23 sec. (127703.36 ticks, tree = 35.88 MB, solutions = 5)\n",
      " 331274 114084        0.0254     7        0.0255        0.0250  1524612    2.05%           rho_8 D 331274 331272     81\n",
      " 339330 117454        0.0251     8        0.0255        0.0250  1562194    2.05%           rho_4 D 339330 339329     44\n",
      " 346561 121340        0.0252    11        0.0255        0.0250  1605756    2.05%          rho_16 D 346561 346560     58\n",
      " 353698 124641        0.0255     5        0.0255        0.0250  1646709    2.05%          rho_19 U 353698 353697     86\n",
      " 362060 128017        0.0252     5        0.0255        0.0250  1689453    2.05%          rho_14 D 362060 362058     61\n",
      " 370970 129971        0.0252     1        0.0255        0.0250  1721938    2.05%          rho_19 U 370970 370969     68\n",
      " 379238 132504        0.0252     7        0.0255        0.0250  1755805    2.05%           rho_7 D 379238 379237     63\n"
     ]
    },
    {
     "name": "stdout",
     "output_type": "stream",
     "text": [
      " 386897 135301        0.0252     7        0.0255        0.0250  1787147    2.05%          rho_15 D 386897 386896     34\n",
      " 393878 138207        0.0253     7        0.0255        0.0250  1825585    2.05%           rho_9 D 393878 393876     53\n",
      " 402074 141718        0.0251     6        0.0255        0.0250  1863580    2.05%           rho_9 U 402074 402000     74\n",
      "Elapsed time = 137.06 sec. (165853.02 ticks, tree = 47.74 MB, solutions = 5)\n",
      " 410244 145043        0.0251     8        0.0255        0.0250  1899500    2.05%           rho_9 U 410244 396873     50\n",
      " 416689 149094        0.0251     8        0.0255        0.0250  1937546    2.05%           rho_5 D 416689 416688     83\n",
      " 423205 151905        0.0252     8        0.0255        0.0250  1974446    2.05%           rho_7 D 423205 423203     63\n",
      " 431287 154602        0.0251     6        0.0255        0.0250  2011928    2.05%           rho_7 D 431287 431286     93\n",
      " 438617 157677        0.0255     4        0.0255        0.0250  2044969    2.05%           rho_2 U 438617 438615     32\n",
      " 445630 160849        0.0250    10        0.0255        0.0250  2083275    2.05%          rho_13 U 445630 445628     68\n",
      " 451602 164136        0.0250    14        0.0255        0.0250  2119309    2.05%           rho_6 D 451602 451601     45\n",
      " 457215 167796        0.0250     9        0.0255        0.0250  2156163    2.05%           rho_6 U 457215 457194     37\n",
      " 463244 170712        0.0250    12        0.0255        0.0250  2189278    2.05%           rho_6 U 463244 463243     27\n",
      " 470633 173640        cutoff              0.0255        0.0250  2226190    2.05%          rho_17 U 470633 470632     40\n",
      "Elapsed time = 174.86 sec. (204003.60 ticks, tree = 58.92 MB, solutions = 5)\n",
      " 478001 176280        0.0254     7        0.0255        0.0250  2267778    2.05%          rho_16 D 478001 477999     66\n",
      " 484632 178756        0.0252     1        0.0255        0.0250  2306324    2.05%          rho_16 D 484632 484630     50\n",
      " 492334 180036        0.0251     5        0.0255        0.0250  2333836    2.05%          rho_16 D 492334 492332     82\n",
      " 500159 182804        0.0253     5        0.0255        0.0250  2367730    2.05%          rho_26 U 500159 500158     59\n",
      " 507296 185809        0.0251    12        0.0255        0.0250  2404450    2.05%           rho_9 D 507296 507295     66\n",
      " 513674 188356        0.0250    11        0.0255        0.0250  2441283    2.05%          rho_14 D 513674 513673     32\n",
      "\n",
      "User cuts applied:  795\n",
      "\n",
      "Root node processing (before b&c):\n",
      "  Real time             =    0.11 sec. (1.59 ticks)\n",
      "Sequential b&c:\n",
      "  Real time             =  199.91 sec. (230277.16 ticks)\n",
      "                          ------------\n",
      "Total (root+branch&cut) =  200.02 sec. (230278.75 ticks)\n",
      "+----------------------------------------------+------------------+-----------+\n",
      "| Pr(Y = +1) = 1.0/(1.0 + exp(-(-7 + score))   |                  |           |\n",
      "| ============================================ | ================ | ========= |\n",
      "| p_property>=1                                |         2 points |   + ..... |\n",
      "| age_at_current_charge<=19                    |         1 points |   + ..... |\n",
      "| p_arrest>=3                                  |         1 points |   + ..... |\n",
      "| p_arrest>=10                                 |         1 points |   + ..... |\n",
      "| p_felony>=1                                  |         1 points |   + ..... |\n",
      "| ============================================ | ================ | ========= |\n",
      "| ADD POINTS FROM ROWS 1 to 5                  |            SCORE |   = ..... |\n",
      "+----------------------------------------------+------------------+-----------+\n",
      "model_id, score_thresholds 0 {'rank_abs': [0]}\n",
      "get_disparity_predefined_group()\n",
      "setting c0 = 0.0 to ensure that intercept is not penalized\n",
      "09/11/19 @ 11:02 PM | 1221 rows in lookup table\n",
      "09/11/19 @ 11:02 PM | ------------------------------------------------------------\n",
      "09/11/19 @ 11:02 PM | runnning initialization procedure\n",
      "09/11/19 @ 11:02 PM | ------------------------------------------------------------\n",
      "09/11/19 @ 11:02 PM | CPA produced 2 cuts\n",
      "09/11/19 @ 11:02 PM | running naive rounding on 140 solutions\n",
      "09/11/19 @ 11:02 PM | best objective value: 0.0251\n",
      "09/11/19 @ 11:02 PM | rounding produced 5 integer solutions\n",
      "09/11/19 @ 11:02 PM | best objective value is 0.0256\n",
      "09/11/19 @ 11:02 PM | running sequential rounding on 140 solutions\n",
      "09/11/19 @ 11:02 PM | best objective value: 0.0251\n",
      "09/11/19 @ 11:02 PM | sequential rounding produced 6 integer solutions\n",
      "09/11/19 @ 11:02 PM | best objective value: 0.0255\n",
      "09/11/19 @ 11:02 PM | polishing 11 solutions\n",
      "09/11/19 @ 11:02 PM | best objective value: 0.0255\n",
      "09/11/19 @ 11:02 PM | polishing produced 4 integer solutions\n",
      "09/11/19 @ 11:02 PM | initialization produced 13 feasible solutions\n",
      "09/11/19 @ 11:02 PM | best objective value: 0.0254\n",
      "09/11/19 @ 11:02 PM | ------------------------------------------------------------\n",
      "09/11/19 @ 11:02 PM | completed initialization procedure\n",
      "09/11/19 @ 11:02 PM | ------------------------------------------------------------\n",
      "09/11/19 @ 11:02 PM | 1221 rows in lookup table\n",
      "CPXPARAM_Read_DataCheck                          1\n",
      "CPXPARAM_Threads                                 1\n",
      "CPXPARAM_Parallel                                1\n",
      "CPXPARAM_RandomSeed                              0\n",
      "CPXPARAM_TimeLimit                               200\n",
      "CPXPARAM_MIP_Tolerances_LowerCutoff              0.024790285481307933\n",
      "CPXPARAM_MIP_Tolerances_UpperCutoff              0.025440726678925291\n"
     ]
    },
    {
     "name": "stderr",
     "output_type": "stream",
     "text": [
      "Warning: Control callbacks may disable some MIP features.\n"
     ]
    },
    {
     "name": "stdout",
     "output_type": "stream",
     "text": [
      "Lazy constraint(s) or lazy constraint callback is present.\n",
      "    Disabling dual reductions (CPX_PARAM_REDUCE) in presolve.\n",
      "    Disabling non-linear reductions (CPX_PARAM_PRELINEAR) in presolve.\n",
      "         Disabling repeat represolve because of lazy constraint/incumbent callback.\n",
      "09/11/19 @ 11:02 PM | adding 252 initial cuts\n",
      "1 of 1 MIP starts provided solutions.\n",
      "MIP start 'mip_start_0' defined initial solution with objective 0.0254.\n",
      "Tried aggregator 1 time.\n",
      "Reduced MIP has 30 rows, 60 columns, and 115 nonzeros.\n",
      "Reduced MIP has 28 binaries, 30 generals, 0 SOSs, and 0 indicators.\n",
      "Presolve time = 0.00 sec. (0.06 ticks)\n",
      "Probing time = 0.00 sec. (0.02 ticks)\n",
      "MIP emphasis: balance optimality and feasibility.\n",
      "MIP search method: traditional branch-and-cut.\n",
      "Parallel mode: none, using 1 thread.\n",
      "Root relaxation solution time = 0.00 sec. (0.04 ticks)\n",
      "\n",
      "        Nodes                                         Cuts/\n",
      "   Node  Left     Objective  IInf  Best Integer    Best Bound    ItCnt     Gap         Variable B NodeID Parent  Depth\n",
      "\n",
      "*     0+    0                            0.0254        0.0247             2.95%\n",
      "      0     0        0.0248     1        0.0254        0.0248        1    2.56%\n",
      "      0     2        0.0248     2        0.0254        0.0248        1    2.56%                        0             0\n",
      "Elapsed time = 0.08 sec. (1.41 ticks, tree = 0.01 MB, solutions = 1)\n",
      "   2203  1008        0.0253     7        0.0254        0.0248     8436    2.56%          rho_12 U   2203    472     26\n",
      "   3500  1471        0.0252     8        0.0254        0.0248    13806    2.56%           rho_4 U   3500   3498     15\n",
      "   4731  1868        cutoff              0.0254        0.0248    17948    2.56%          rho_11 U   4731   4730     22\n",
      "   5575  2299        0.0248     7        0.0254        0.0248    21663    2.56%           rho_9 U   5575   5574     16\n",
      "   6350  2607        0.0253     1        0.0254        0.0248    24784    2.56%           rho_0 U   6350   6349     61\n",
      "   7189  2920        0.0250     1        0.0254        0.0248    28732    2.56%          rho_19 U   7189   7188     66\n",
      "   8010  3207        0.0252     5        0.0254        0.0248    32642    2.56%          rho_11 D   8010   8009     36\n",
      "   8933  3504        0.0249     5        0.0254        0.0248    36519    2.56%          rho_13 D   8933   8932     52\n",
      "  10020  3762        0.0248     1        0.0254        0.0248    40071    2.56%           rho_0 D  10020  10018     55\n",
      "  14117  4812        cutoff              0.0254        0.0248    54470    2.56%           rho_0 U  14117  14116     68\n",
      "Elapsed time = 3.78 sec. (3103.94 ticks, tree = 1.48 MB, solutions = 1)\n",
      "  18910  5991        0.0248     1        0.0254        0.0248    67423    2.56%          rho_13 U  18910  18908     64\n",
      "* 19230+ 6127                            0.0254        0.0248             2.54%\n",
      "* 19240+ 5982                            0.0254        0.0248             2.35%\n",
      "  23116  7115        0.0248     1        0.0254        0.0248    80450    2.35%          rho_13 U  23116  23114     55\n",
      "  26311  8174        0.0254     6        0.0254        0.0248    92838    2.35%          rho_13 D  26311  26310     30\n",
      "  29200  9159        0.0254     1        0.0254        0.0248   104364    2.35%          rho_14 U  29200  29197     23\n",
      "  31887 10088        0.0252     7        0.0254        0.0248   114447    2.35%           rho_0 U  31887  31886     22\n",
      "  34329 10910        0.0249    14        0.0254        0.0248   123835    2.35%          rho_24 D  34329    885     20\n",
      "  36730 11861        0.0248     6        0.0254        0.0248   132186    2.35%           rho_0 D  36730  36723     68\n",
      "  39093 12934        cutoff              0.0254        0.0248   140500    2.35%          rho_19 U  39093  39092     53\n",
      "  41433 13999        0.0248     6        0.0254        0.0248   148714    2.35%           rho_0 D  41433  41426     40\n",
      "  43692 14996        0.0252     2        0.0254        0.0248   157186    2.35%          rho_16 U  43692  43691     35\n",
      "Elapsed time = 11.30 sec. (12648.15 ticks, tree = 4.63 MB, solutions = 3)\n",
      "  45861 16108        0.0249     9        0.0254        0.0248   167808    2.35%          rho_13 D  45861  45860     69\n",
      "  47826 17023        0.0250     7        0.0254        0.0248   177256    2.35%           rho_0 U  47826  47825     60\n",
      "  49849 17826        0.0252     5        0.0254        0.0248   186498    2.35%          rho_26 D  49849  49847     52\n",
      "  52176 18733        0.0248     7        0.0254        0.0248   195571    2.35%           rho_0 D  52176  52174     48\n",
      "  54147 19516        cutoff              0.0254        0.0248   204081    2.35%          rho_16 U  54147  54146     25\n",
      "  56050 20187        0.0253     1        0.0254        0.0248   211957    2.35%           rho_6 D  56050  56049     64\n",
      "  57870 20943        0.0254     3        0.0254        0.0248   219839    2.35%           rho_0 U  57870  57869     51\n",
      "  59675 21615        0.0251     5        0.0254        0.0248   227513    2.35%          rho_25 D  59675  59674     81\n",
      "  61367 22351        0.0249     8        0.0254        0.0248   236572    2.35%           rho_2 D  61367  61366     42\n",
      "  63020 22868        0.0251    11        0.0254        0.0248   244670    2.35%           rho_6 U  63020  63018     24\n",
      "Elapsed time = 17.75 sec. (22189.25 ticks, tree = 7.66 MB, solutions = 3)\n",
      "  64512 23455        cutoff              0.0254        0.0248   252512    2.35%          rho_16 U  64512  64511     52\n",
      "  66020 24083        0.0254     1        0.0254        0.0248   260232    2.35%          rho_18 U  66020  66019     26\n",
      "  67464 24664        0.0251    12        0.0254        0.0248   267927    2.35%          rho_14 D  67464  67462     15\n",
      "  68987 25236        0.0248    14        0.0254        0.0248   274831    2.35%           rho_7 D  68987  68986     19\n",
      "  70646 25820        0.0248    12        0.0254        0.0248   281056    2.35%           rho_0 D  70646  53215     20\n",
      "  72162 26434        0.0251     6        0.0254        0.0248   287085    2.35%          rho_13 D  72162  72161     56\n",
      "  73513 26981        cutoff              0.0254        0.0248   294107    2.35%          rho_27 U  73513  73512     30\n",
      "  75108 27617        0.0250     9        0.0254        0.0248   300094    2.35%          rho_25 D  75108  75107     17\n",
      "  76583 28222        0.0248    11        0.0254        0.0248   306469    2.35%          rho_11 D  76583  76582     19\n",
      "  77920 28704        0.0249    13        0.0254        0.0248   312636    2.35%           rho_3 D  77920  77919     17\n",
      "Elapsed time = 25.00 sec. (31735.83 ticks, tree = 9.55 MB, solutions = 3)\n",
      "  79139 29222        0.0252     9        0.0254        0.0248   319664    2.35%          rho_14 U  79139  79138     18\n",
      "  80444 29697        0.0250    10        0.0254        0.0248   325848    2.35%           rho_5 U  80444  80443     25\n",
      "  81807 30168        0.0248    15        0.0254        0.0248   332587    2.35%          rho_14 D  81807  73550     17\n",
      "  83180 30652        0.0254     5        0.0254        0.0248   338754    2.35%          rho_27 D  83180  83179     31\n",
      "  84445 31118        0.0250     5        0.0254        0.0248   345738    2.35%           rho_4 D  84445  84443     17\n",
      "  85730 31681        0.0252     5        0.0254        0.0248   351695    2.35%          rho_13 D  85730  85729     25\n",
      "  86974 32137        0.0252     4        0.0254        0.0248   357623    2.35%           rho_0 D  86974  86972     89\n",
      "  88209 32614        0.0249    13        0.0254        0.0248   363432    2.35%           rho_0 D  88209  46879     14\n",
      "  89396 33198        0.0249    14        0.0254        0.0248   369561    2.35%           rho_1 U  89396  72345     18\n",
      "  90565 33600        0.0252     1        0.0254        0.0248   375917    2.35%           rho_6 U  90565  90563     64\n",
      "Elapsed time = 31.91 sec. (41277.76 ticks, tree = 12.60 MB, solutions = 3)\n",
      "  91804 34085        0.0252    10        0.0254        0.0248   381588    2.35%          rho_26 U  91804  91803     19\n",
      "  93021 34551        0.0253     3        0.0254        0.0248   387414    2.35%          rho_28 D  93021  93019     24\n"
     ]
    },
    {
     "name": "stdout",
     "output_type": "stream",
     "text": [
      "  94247 35008        0.0248    20        0.0254        0.0248   393260    2.35%          rho_12 D  94247  89556     13\n",
      "  95671 35468        0.0251     5        0.0254        0.0248   398240    2.35%          rho_11 D  95671  95669     49\n",
      "  97166 35937        cutoff              0.0254        0.0248   402834    2.35%          rho_16 U  97166  97165     78\n",
      "  98658 36403        cutoff              0.0254        0.0248   407340    2.35%          rho_10 U  98658  98657     60\n",
      " 100152 36873        cutoff              0.0254        0.0248   412007    2.35%          rho_16 U 100152 100151     64\n",
      " 101674 37423        0.0253     2        0.0254        0.0248   416688    2.34%          rho_17 U 101674 101673     43\n",
      " 103302 38003        0.0250     4        0.0254        0.0248   421321    2.34%          rho_17 U 103302 103301     74\n",
      " 104930 38586        0.0251     3        0.0254        0.0248   426108    2.34%          rho_14 D 104930 104929     56\n",
      "Elapsed time = 37.34 sec. (50820.79 ticks, tree = 14.31 MB, solutions = 3)\n",
      " 106548 39173        0.0251     8        0.0254        0.0248   431035    2.33%          rho_11 N 106548 106547     20\n",
      " 107992 39688        cutoff              0.0254        0.0248   435811    2.33%          rho_28 U 107992 107991     30\n",
      " 109460 40102        0.0250     1        0.0254        0.0248   440113    2.32%           rho_0 U 109460 109459     56\n",
      " 110738 40584        0.0252     4        0.0254        0.0248   444370    2.32%          rho_14 U 110738 110737     64\n",
      " 112089 41328        cutoff              0.0254        0.0248   449252    2.32%          rho_13 U 112089 112088     54\n",
      " 113433 42180        0.0248     1        0.0254        0.0248   454588    2.32%           rho_0 D 113433 113431     71\n",
      " 114840 42894        0.0253     3        0.0254        0.0248   459669    2.32%           rho_3 U 114840   1258     28\n",
      " 116178 43398        cutoff              0.0254        0.0248   464945    2.32%          rho_10 U 116178 116176     82\n",
      " 117656 44012        0.0248     3        0.0254        0.0248   469248    2.31%          rho_13 U 117656 117263     34\n",
      " 119082 44559        cutoff              0.0254        0.0248   473379    2.30%           rho_7 U 119082 119081     44\n",
      "Elapsed time = 42.80 sec. (60363.54 ticks, tree = 16.37 MB, solutions = 3)\n",
      " 120428 44981        cutoff              0.0254        0.0248   478699    2.29%           rho_0 D 120428 120427     67\n",
      " 121828 45483        0.0248     1        0.0254        0.0248   483809    2.29%           rho_0 D 121828 121826     36\n",
      " 123211 46011        0.0251     5        0.0254        0.0248   488290    2.29%          rho_26 D 123211 123208     95\n",
      " 124584 46414        0.0250     3        0.0254        0.0248   492409    2.29%          rho_14 U 124584 124583     41\n",
      " 125990 46761        0.0253     4        0.0254        0.0248   496625    2.29%          rho_14 U 125990 125989     32\n",
      " 127458 47160        0.0253     2        0.0254        0.0248   500365    2.29%           rho_0 D 127458 127455     61\n",
      " 128946 47537        0.0253     2        0.0254        0.0248   504072    2.29%           rho_0 D 128946 128943     81\n",
      " 130434 47910        0.0248     1        0.0254        0.0248   507751    2.29%           rho_0 D 130434 130407     58\n",
      " 131890 48279        0.0249     6        0.0254        0.0248   511609    2.28%          rho_13 D 131890 131888     59\n",
      " 133100 48766        0.0248     3        0.0254        0.0248   516131    2.28%           rho_6 D 133100 133098     62\n",
      "Elapsed time = 47.78 sec. (69907.48 ticks, tree = 17.82 MB, solutions = 3)\n",
      " 134211 49207        cutoff              0.0254        0.0248   520678    2.28%          rho_16 U 134211 134210     62\n",
      " 135370 49590        0.0252     4        0.0254        0.0248   525646    2.28%           rho_6 U 135370 135369     61\n",
      " 136725 50091        0.0250     1        0.0254        0.0248   530503    2.28%          rho_14 U 136725 136724     60\n",
      " 138179 50679        0.0251     6        0.0254        0.0248   535293    2.28%           rho_0 D 138179 138177     28\n",
      " 139549 51079        cutoff              0.0254        0.0248   539392    2.27%           rho_7 U 139549 139547     42\n",
      " 141053 51702        0.0252     1        0.0254        0.0248   543465    2.27%          rho_17 U 141053 141052     39\n",
      " 142535 52340        0.0249     6        0.0254        0.0248   547839    2.27%          rho_13 D 142535 142534     66\n",
      " 143830 52804        0.0249     6        0.0254        0.0248   552860    2.26%          rho_14 D 143830  64300     24\n",
      " 145168 53123        0.0252     1        0.0254        0.0248   557023    2.25%          rho_15 U 145168 145167    100\n",
      " 146646 53331        cutoff              0.0254        0.0248   559579    2.25%           rho_0 U 146646 146645     40\n",
      "Elapsed time = 53.64 sec. (79448.25 ticks, tree = 19.44 MB, solutions = 3)\n",
      " 147998 53704        0.0251     5        0.0254        0.0248   563154    2.25%          rho_26 D 147998 147996     50\n",
      " 149242 54251        cutoff              0.0254        0.0248   567914    2.25%          rho_18 U 149242 149241     77\n",
      " 150817 54465        cutoff              0.0254        0.0248   571388    2.25%           rho_0 U 150817 150816     72\n",
      " 152440 54622        0.0254     5        0.0254        0.0248   574460    2.25%          rho_11 D 152440 152438     25\n",
      " 153850 55019        0.0249     5        0.0254        0.0248   578694    2.25%          rho_13 D 153850 153849     87\n",
      " 155266 55447        0.0248     1        0.0254        0.0248   582839    2.24%           rho_0 D 155266 155264     47\n",
      " 156603 56001        0.0250     5        0.0254        0.0248   587330    2.24%          rho_14 U 156603 156602     37\n",
      " 157931 56557        0.0253     3        0.0254        0.0248   591737    2.24%           rho_0 D 157931 157930     53\n",
      " 159258 57017        0.0250     4        0.0254        0.0248   595985    2.24%          rho_15 D 159258 159257     68\n",
      " 164640 58960        0.0249     6        0.0254        0.0248   613165    2.23%          rho_13 D 164640 164639     82\n",
      "Elapsed time = 61.73 sec. (91852.54 ticks, tree = 21.40 MB, solutions = 3)\n",
      " 170180 61154        0.0248     1        0.0254        0.0248   629135    2.21%           rho_0 D 170180 170178     40\n",
      " 176002 63186        0.0248     5        0.0254        0.0248   642637    2.20%          rho_13 U 176002 176000     72\n",
      " 181925 64692        0.0252    10        0.0254        0.0248   656649    2.19%          rho_14 D 181925 181923    102\n",
      " 187065 66958        cutoff              0.0254        0.0248   673030    2.18%           rho_0 U 187065 187064     77\n",
      " 192740 68927        cutoff              0.0254        0.0248   688564    2.17%           rho_0 U 192740 192739     69\n",
      " 198221 71286        0.0249     4        0.0254        0.0248   706652    2.16%           rho_6 U 198221 198219     74\n",
      " 203391 73202        0.0252    11        0.0254        0.0248   724023    2.14%           rho_0 U 203391 203390     17\n",
      " 208492 75341        0.0250     7        0.0254        0.0248   740841    2.13%          rho_15 D 208492 208490    102\n",
      " 214010 77318        0.0248     1        0.0254        0.0248   756495    2.12%           rho_0 D 214010 214008     53\n",
      " 219343 79280        cutoff              0.0254        0.0249   772720    2.11%           rho_7 U 219343 219342     78\n",
      "Elapsed time = 85.48 sec. (130003.32 ticks, tree = 31.52 MB, solutions = 3)\n",
      " 224500 81502        0.0249    11        0.0254        0.0249   790774    2.10%           rho_6 D 224500 224499     30\n",
      " 229577 83223        0.0249     5        0.0254        0.0249   807190    2.09%           rho_0 D 229577 229575     29\n",
      " 234860 85223        0.0253     1        0.0254        0.0249   822197    2.08%           rho_5 D 234860 234858     56\n",
      " 240040 87195        0.0249     7        0.0254        0.0249   836719    2.08%          rho_15 D 240040 240039     59\n",
      " 245062 89325        0.0251     3        0.0254        0.0249   854853    2.07%          rho_14 U 245062 245061     30\n",
      " 249912 90875        0.0253     3        0.0254        0.0249   870140    2.07%           rho_0 U 249912 249911     70\n",
      " 254947 92712        0.0252     5        0.0254        0.0249   886907    2.06%           rho_0 N 254947 254946     51\n"
     ]
    },
    {
     "name": "stdout",
     "output_type": "stream",
     "text": [
      " 259187 93605        0.0250     7        0.0254        0.0249   903183    2.06%          rho_15 N 259187 259186     64\n",
      " 263699 95215        0.0250     9        0.0254        0.0249   920391    2.06%          rho_13 D 263699 263698     62\n",
      " 268967 96988        0.0253     4        0.0254        0.0249   937299    2.05%           rho_6 U 268967 268966     96\n",
      "Elapsed time = 109.41 sec. (168156.43 ticks, tree = 37.97 MB, solutions = 3)\n",
      " 273716 98444        0.0250     5        0.0254        0.0249   953406    2.05%          rho_18 D 273716 273714     37\n",
      " 278890 100383        0.0253     6        0.0254        0.0249   969354    2.05%           rho_0 U 278890 278889     50\n",
      " 283555 101863        0.0249    20        0.0254        0.0249   985530    2.04%           rho_2 D 283555 106478     10\n",
      " 288270 103388        0.0251     9        0.0254        0.0249  1000280    2.04%           rho_9 D 288270 288268     22\n",
      " 293058 105765        0.0253     3        0.0254        0.0249  1017393    2.03%           rho_0 U 293058 293057     75\n",
      " 298115 107723        0.0253     3        0.0254        0.0249  1031721    2.03%           rho_0 U 298115 298114     32\n",
      " 302858 109647        0.0251     1        0.0254        0.0249  1046257    2.03%          rho_17 U 302858 302857     81\n",
      " 307715 111484        0.0253     3        0.0254        0.0249  1062942    2.02%          rho_11 D 307715 307714     50\n",
      " 312292 113212        0.0249     3        0.0254        0.0249  1080485    2.02%           rho_0 D 312292 312290     60\n",
      " 317100 115209        0.0249     5        0.0254        0.0249  1095484    2.02%           rho_0 D 317100 317092     35\n",
      "Elapsed time = 131.27 sec. (206309.54 ticks, tree = 44.65 MB, solutions = 3)\n",
      " 321870 116914        0.0249     1        0.0254        0.0249  1111577    2.02%           rho_6 U 321870 321868     66\n",
      " 326443 118806        cutoff              0.0254        0.0249  1128616    2.01%           rho_0 U 326443 326442     59\n",
      " 331137 120201        0.0249     8        0.0254        0.0249  1143282    2.01%           rho_2 D 331137  44900     74\n",
      " 335662 122343        0.0249     7        0.0254        0.0249  1160195    2.01%           rho_0 D 335662 335660     90\n",
      " 339572 122892        0.0252     6        0.0254        0.0249  1177013    2.01%          rho_14 D 339572 339571     78\n",
      " 344000 124102        0.0250    11        0.0254        0.0249  1193423    2.01%           rho_6 D 344000 343999     63\n",
      " 348530 125361        0.0249     1        0.0254        0.0249  1208447    2.00%           rho_0 D 348530 348528    105\n",
      " 353374 127133        0.0251     8        0.0254        0.0249  1222929    1.99%           rho_6 N 353374 353373     47\n",
      " 358361 128842        0.0251     5        0.0254        0.0249  1237475    1.99%           rho_0 D 358361 358359     48\n",
      " 362990 130258        0.0249     7        0.0254        0.0249  1253177    1.99%          rho_13 U 362990 362988     43\n",
      "Elapsed time = 155.09 sec. (244464.32 ticks, tree = 50.27 MB, solutions = 3)\n",
      " 367846 132034        cutoff              0.0254        0.0249  1268271    1.99%          rho_19 U 367846 367845     49\n",
      " 373019 133654        0.0251     3        0.0254        0.0249  1283000    1.98%           rho_6 U 373019 373018     28\n",
      " 377606 135095        0.0249     5        0.0254        0.0249  1298865    1.98%           rho_0 D 377606 377604     71\n",
      " 382065 136723        0.0249     7        0.0254        0.0249  1313747    1.98%          rho_13 U 382065 382063     84\n",
      " 386490 139008        0.0249     7        0.0254        0.0249  1329867    1.97%           rho_0 D 386490 386488     59\n",
      " 391055 140254        0.0254     5        0.0254        0.0249  1345468    1.97%          rho_26 D 391055 391053     46\n",
      " 395340 140794        0.0249     1        0.0254        0.0249  1360453    1.97%           rho_6 U 395340 395339     46\n",
      " 399959 142253        0.0250     6        0.0254        0.0249  1375509    1.96%           rho_7 D 399959 294189     61\n",
      " 404344 143394        0.0250     9        0.0254        0.0249  1390348    1.96%           rho_6 D 404344 404343     63\n",
      " 408807 144795        cutoff              0.0254        0.0249  1405328    1.96%          rho_16 U 408807 408806     69\n",
      "Elapsed time = 181.19 sec. (282614.72 ticks, tree = 58.62 MB, solutions = 3)\n",
      " 413280 146225        0.0250     7        0.0254        0.0249  1418497    1.95%          rho_13 N 413280 413279     52\n",
      " 417426 147665        0.0249     7        0.0254        0.0249  1433416    1.95%           rho_0 D 417426 417424     76\n",
      " 421720 149274        0.0249     1        0.0254        0.0249  1449112    1.95%           rho_0 D 421720 421718     71\n",
      " 426388 150484        0.0249     7        0.0254        0.0249  1462989    1.95%          rho_16 N 426388 336703     64\n",
      " 430787 152085        0.0252     8        0.0254        0.0249  1477646    1.95%           rho_5 N 430787 430786     93\n",
      " 435150 153006        0.0253     3        0.0254        0.0249  1492303    1.95%           rho_0 U 435150 435149     37\n",
      " 439946 154849        0.0250     6        0.0254        0.0249  1505200    1.94%          rho_13 N 439946 439945     18\n",
      " 444352 155645        0.0253     9        0.0254        0.0249  1517927    1.94%          rho_16 D 444352 444350     28\n",
      "\n",
      "User cuts applied:  1399\n",
      "\n",
      "Root node processing (before b&c):\n",
      "  Real time             =    0.08 sec. (1.53 ticks)\n",
      "Sequential b&c:\n",
      "  Real time             =  199.94 sec. (316358.24 ticks)\n",
      "                          ------------\n",
      "Total (root+branch&cut) =  200.02 sec. (316359.77 ticks)\n",
      "+----------------------------------------------+------------------+-----------+\n",
      "| Pr(Y = +1) = 1.0/(1.0 + exp(-(-7 + score))   |                  |           |\n",
      "| ============================================ | ================ | ========= |\n",
      "| p_property>=1                                |         2 points |   + ..... |\n",
      "| age_at_current_charge<=19                    |         1 points |   + ..... |\n",
      "| p_arrest>=2                                  |         1 points |   + ..... |\n",
      "| p_arrest>=10                                 |         1 points |   + ..... |\n",
      "| p_pending_charge>=1                          |         1 points |   + ..... |\n",
      "| ============================================ | ================ | ========= |\n",
      "| ADD POINTS FROM ROWS 1 to 5                  |            SCORE |   = ..... |\n",
      "+----------------------------------------------+------------------+-----------+\n",
      "model_id, score_thresholds 0 {'rank_abs': [0]}\n",
      "get_disparity_predefined_group()\n"
     ]
    }
   ],
   "source": [
    "riskslim_summary = slim.risk_cv(X=sub_X, \n",
    "                                Y=sub_Y, \n",
    "                                indicator = indicator,\n",
    "                                y_label='recid_property6', \n",
    "                                max_coef=20, \n",
    "                                max_coef_number=10, \n",
    "                                max_runtime=200, \n",
    "                                c=1e-5, \n",
    "                                seed=816)"
   ]
  },
  {
   "cell_type": "code",
   "execution_count": 26,
   "metadata": {},
   "outputs": [
    {
     "data": {
      "text/plain": [
       "(0.8405432237603667, 0.830328658468049)"
      ]
     },
     "execution_count": 26,
     "metadata": {},
     "output_type": "execute_result"
    }
   ],
   "source": [
    "np.mean(riskslim_summary['train_auc']), np.mean(riskslim_summary['test_auc'])"
   ]
  },
  {
   "cell_type": "markdown",
   "metadata": {},
   "source": [
    "### Results"
   ]
  },
  {
   "cell_type": "code",
   "execution_count": 28,
   "metadata": {},
   "outputs": [
    {
     "name": "stdout",
     "output_type": "stream",
     "text": [
      "Stored 'summary_property2_KY_interpret' (dict)\n"
     ]
    }
   ],
   "source": [
    "#### save results\n",
    "summary_property2_KY_interpret = {\"CART\": cart_summary,\n",
    "                                   \"EBM\": ebm_summary, \n",
    "                                   'Lasso Stumps': stump_summary, \n",
    "                                   'RiskSLIM': riskslim_summary, \n",
    "                                   'Arnold PSA Raw': raw_auc, \n",
    "                                   'Arnold PSA': calc_auc}\n",
    "%store summary_property2_KY_interpret"
   ]
  },
  {
   "cell_type": "code",
   "execution_count": 29,
   "metadata": {},
   "outputs": [
    {
     "data": {
      "text/plain": [
       "[['CART', 0.8345513451217756, 0.021337278718561968],\n",
       " ['EBM', 0.8019609085216303, 0.019184157109442813],\n",
       " ['Lasso Stumps', 0.8638133021913941, 0.008385045062641238],\n",
       " ['RiskSLIM', 0.830328658468049],\n",
       " ['Arnold PSA Raw', 0.736],\n",
       " ['Arnold PSA', 0.704]]"
      ]
     },
     "execution_count": 29,
     "metadata": {},
     "output_type": "execute_result"
    }
   ],
   "source": [
    "results = [[\"CART\", np.mean(cart_summary['holdout_test_auc']), np.mean(cart_summary['auc_diffs'])],\n",
    "           [\"EBM\", np.mean(ebm_summary['holdout_test_auc']), np.mean(ebm_summary['auc_diffs'])], \n",
    "           [\"Lasso Stumps\", np.mean(stump_summary['holdout_test_auc']), np.mean(stump_summary['auc_diffs'])],\n",
    "           ['RiskSLIM', np.mean(riskslim_summary['test_auc'])],\n",
    "           ['Arnold PSA Raw', round(np.mean(raw_auc), 3)], \n",
    "           ['Arnold PSA', round(np.mean(calc_auc), 3)]]\n",
    "results"
   ]
  },
  {
   "cell_type": "code",
   "execution_count": 30,
   "metadata": {},
   "outputs": [],
   "source": [
    "auc = [np.mean(cart_summary['holdout_test_auc']), \n",
    "       np.mean(ebm_summary['holdout_test_auc']), \n",
    "       np.mean(stump_summary['holdout_test_auc']), \n",
    "       np.mean(riskslim_summary['test_auc'])]"
   ]
  },
  {
   "cell_type": "code",
   "execution_count": 31,
   "metadata": {},
   "outputs": [],
   "source": [
    "path = \"C:/Users/binha/Documents/Duke/Cynthia Research/KY-analysis-mytrials/KY Recidivism/KY Results/Models/Six Month/\"\n",
    "results = [[\"Property\", np.str((round(np.mean(cart_summary['holdout_test_auc']), 3))) + \" (\" + np.str(round(np.std(cart_summary['holdout_test_auc']), 3)) + \")\", \n",
    "            np.str(round(np.mean(ebm_summary['holdout_test_auc']),3)) + \" (\" + np.str(round(np.std(ebm_summary['holdout_test_auc']), 3)) + \")\", \n",
    "            np.str(round(np.mean(stump_summary['holdout_test_auc']),3)) + \" (\" + np.str(round(np.std(stump_summary['holdout_test_auc']), 3)) + \")\",             \n",
    "            np.str(round(np.mean(riskslim_summary['test_auc']),3)) + \" (\" + np.str(round(np.std(riskslim_summary['test_auc']), 3)) + \")\", \n",
    "            round(np.max(auc) - np.min(auc), 3),\n",
    "            np.str(round(np.mean(raw_auc), 3)) + \" (\" + np.str(round(np.std(raw_auc),3)) + \")\", \n",
    "            np.str(round(np.mean(calc_auc), 3)) + \" (\" + np.str(round(np.std(calc_auc),3)) + \")\"]]\n",
    "with open(path + 'Interpretable Models Summary.csv', 'a') as writeFile:\n",
    "    writer = csv.writer(writeFile)\n",
    "    writer.writerows(results)"
   ]
  }
 ],
 "metadata": {
  "kernelspec": {
   "display_name": "Python 3",
   "language": "python",
   "name": "python3"
  },
  "language_info": {
   "codemirror_mode": {
    "name": "ipython",
    "version": 3
   },
   "file_extension": ".py",
   "mimetype": "text/x-python",
   "name": "python",
   "nbconvert_exporter": "python",
   "pygments_lexer": "ipython3",
   "version": "3.7.4"
  }
 },
 "nbformat": 4,
 "nbformat_minor": 4
}
