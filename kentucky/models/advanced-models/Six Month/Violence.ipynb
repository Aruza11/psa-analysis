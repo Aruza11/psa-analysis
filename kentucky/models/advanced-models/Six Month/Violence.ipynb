{
 "cells": [
  {
   "cell_type": "code",
   "execution_count": 1,
   "metadata": {},
   "outputs": [
    {
     "name": "stdout",
     "output_type": "stream",
     "text": [
      "Current working directory is now:  C:\\Users\\binha\\Documents\\Duke\\Cynthia Research\\psa-analysis - test\n",
      "no stored variable summary_violent6_KY_interpret\n"
     ]
    },
    {
     "name": "stderr",
     "output_type": "stream",
     "text": [
      "C:\\Users\\binha\\Anaconda3\\lib\\site-packages\\sklearn\\externals\\six.py:31: DeprecationWarning:\n",
      "\n",
      "The module is deprecated in version 0.21 and will be removed in version 0.23 since we've dropped support for Python 2.7. Please rely on the official version of six (https://pypi.org/project/six/).\n",
      "\n"
     ]
    }
   ],
   "source": [
    "import os \n",
    "os.chdir('../../../../')\n",
    "print(\"Current working directory is now: \", os.getcwd())\n",
    "\n",
    "import pandas as pd \n",
    "import numpy as np\n",
    "import csv\n",
    "import utils.baseline_functions as base\n",
    "import stumps\n",
    "import RiskSLIM as slim\n",
    "\n",
    "from sklearn.linear_model import LogisticRegression\n",
    "from sklearn.model_selection import KFold, GridSearchCV\n",
    "from sklearn.metrics import roc_auc_score\n",
    "\n",
    "# restore saved variables\n",
    "%store -r summary_violent6_KY_interpret"
   ]
  },
  {
   "cell_type": "markdown",
   "metadata": {},
   "source": [
    "### CART & EBM"
   ]
  },
  {
   "cell_type": "code",
   "execution_count": 2,
   "metadata": {},
   "outputs": [],
   "source": [
    "### load data\n",
    "data = pd.read_csv(\"~/Documents/Duke/Cynthia Research/KY-analysis-mytrials/KY Recidivism/KY data/kentucky_data.csv\")\n",
    "data = data.drop(['fta_risk_score_raw','nca_risk_score_raw','pvf_risk_score_raw', \n",
    "                  'fta_calc', 'nca_calc', 'pvf_calc'], axis=1)\n",
    "x = data.loc[:,:'current_violence']\n",
    "y = data['recid_violence_six_month'].values"
   ]
  },
  {
   "cell_type": "code",
   "execution_count": 3,
   "metadata": {
    "scrolled": true
   },
   "outputs": [
    {
     "name": "stdout",
     "output_type": "stream",
     "text": [
      "model_id, score_thresholds 0 {'rank_abs': [5]}\n",
      "get_disparity_predefined_group()\n",
      "model_id, score_thresholds 0 {'rank_abs': [9]}\n",
      "get_disparity_predefined_group()\n",
      "model_id, score_thresholds 0 {'rank_abs': [7]}\n",
      "get_disparity_predefined_group()\n",
      "model_id, score_thresholds 0 {'rank_abs': [8]}\n",
      "get_disparity_predefined_group()\n",
      "model_id, score_thresholds 0 {'rank_abs': [13]}\n",
      "get_disparity_predefined_group()\n"
     ]
    },
    {
     "name": "stderr",
     "output_type": "stream",
     "text": [
      "WARNING:interpret.utils.all:Passing a numpy array to schema autogen when it should be dataframe.\n",
      "WARNING:interpret.utils.all:Passing a numpy array to schema autogen when it should be dataframe.\n",
      "WARNING:interpret.utils.all:Passing a numpy array to schema autogen when it should be dataframe.\n",
      "WARNING:interpret.utils.all:Passing a numpy array to schema autogen when it should be dataframe.\n",
      "WARNING:interpret.utils.all:Passing a numpy array to schema autogen when it should be dataframe.\n",
      "WARNING:interpret.utils.all:Passing a numpy array to schema autogen when it should be dataframe.\n",
      "WARNING:interpret.utils.all:Passing a numpy array to schema autogen when it should be dataframe.\n",
      "WARNING:interpret.utils.all:Passing a numpy array to schema autogen when it should be dataframe.\n",
      "WARNING:interpret.utils.all:Passing a numpy array to schema autogen when it should be dataframe.\n",
      "WARNING:interpret.utils.all:Passing a numpy array to schema autogen when it should be dataframe.\n",
      "WARNING:interpret.utils.all:Passing a numpy array to schema autogen when it should be dataframe.\n",
      "WARNING:interpret.utils.all:Passing a numpy array to schema autogen when it should be dataframe.\n"
     ]
    },
    {
     "name": "stdout",
     "output_type": "stream",
     "text": [
      "model_id, score_thresholds 0 {'rank_abs': [16]}\n",
      "get_disparity_predefined_group()\n"
     ]
    },
    {
     "name": "stderr",
     "output_type": "stream",
     "text": [
      "WARNING:interpret.utils.all:Passing a numpy array to schema autogen when it should be dataframe.\n",
      "WARNING:interpret.utils.all:Passing a numpy array to schema autogen when it should be dataframe.\n",
      "WARNING:interpret.utils.all:Passing a numpy array to schema autogen when it should be dataframe.\n",
      "WARNING:interpret.utils.all:Passing a numpy array to schema autogen when it should be dataframe.\n",
      "WARNING:interpret.utils.all:Passing a numpy array to schema autogen when it should be dataframe.\n",
      "WARNING:interpret.utils.all:Passing a numpy array to schema autogen when it should be dataframe.\n",
      "WARNING:interpret.utils.all:Passing a numpy array to schema autogen when it should be dataframe.\n",
      "WARNING:interpret.utils.all:Passing a numpy array to schema autogen when it should be dataframe.\n",
      "WARNING:interpret.utils.all:Passing a numpy array to schema autogen when it should be dataframe.\n",
      "WARNING:interpret.utils.all:Passing a numpy array to schema autogen when it should be dataframe.\n",
      "WARNING:interpret.utils.all:Passing a numpy array to schema autogen when it should be dataframe.\n",
      "WARNING:interpret.utils.all:Passing a numpy array to schema autogen when it should be dataframe.\n"
     ]
    },
    {
     "name": "stdout",
     "output_type": "stream",
     "text": [
      "model_id, score_thresholds 0 {'rank_abs': [14]}\n",
      "get_disparity_predefined_group()\n"
     ]
    },
    {
     "name": "stderr",
     "output_type": "stream",
     "text": [
      "WARNING:interpret.utils.all:Passing a numpy array to schema autogen when it should be dataframe.\n",
      "WARNING:interpret.utils.all:Passing a numpy array to schema autogen when it should be dataframe.\n",
      "WARNING:interpret.utils.all:Passing a numpy array to schema autogen when it should be dataframe.\n",
      "WARNING:interpret.utils.all:Passing a numpy array to schema autogen when it should be dataframe.\n",
      "WARNING:interpret.utils.all:Passing a numpy array to schema autogen when it should be dataframe.\n",
      "WARNING:interpret.utils.all:Passing a numpy array to schema autogen when it should be dataframe.\n",
      "WARNING:interpret.utils.all:Passing a numpy array to schema autogen when it should be dataframe.\n",
      "WARNING:interpret.utils.all:Passing a numpy array to schema autogen when it should be dataframe.\n",
      "WARNING:interpret.utils.all:Passing a numpy array to schema autogen when it should be dataframe.\n",
      "WARNING:interpret.utils.all:Passing a numpy array to schema autogen when it should be dataframe.\n",
      "WARNING:interpret.utils.all:Passing a numpy array to schema autogen when it should be dataframe.\n",
      "WARNING:interpret.utils.all:Passing a numpy array to schema autogen when it should be dataframe.\n"
     ]
    },
    {
     "name": "stdout",
     "output_type": "stream",
     "text": [
      "model_id, score_thresholds 0 {'rank_abs': [14]}\n",
      "get_disparity_predefined_group()\n"
     ]
    },
    {
     "name": "stderr",
     "output_type": "stream",
     "text": [
      "WARNING:interpret.utils.all:Passing a numpy array to schema autogen when it should be dataframe.\n",
      "WARNING:interpret.utils.all:Passing a numpy array to schema autogen when it should be dataframe.\n",
      "WARNING:interpret.utils.all:Passing a numpy array to schema autogen when it should be dataframe.\n",
      "WARNING:interpret.utils.all:Passing a numpy array to schema autogen when it should be dataframe.\n",
      "WARNING:interpret.utils.all:Passing a numpy array to schema autogen when it should be dataframe.\n",
      "WARNING:interpret.utils.all:Passing a numpy array to schema autogen when it should be dataframe.\n",
      "WARNING:interpret.utils.all:Passing a numpy array to schema autogen when it should be dataframe.\n",
      "WARNING:interpret.utils.all:Passing a numpy array to schema autogen when it should be dataframe.\n",
      "WARNING:interpret.utils.all:Passing a numpy array to schema autogen when it should be dataframe.\n",
      "WARNING:interpret.utils.all:Passing a numpy array to schema autogen when it should be dataframe.\n",
      "WARNING:interpret.utils.all:Passing a numpy array to schema autogen when it should be dataframe.\n",
      "WARNING:interpret.utils.all:Passing a numpy array to schema autogen when it should be dataframe.\n"
     ]
    },
    {
     "name": "stdout",
     "output_type": "stream",
     "text": [
      "model_id, score_thresholds 0 {'rank_abs': [16]}\n",
      "get_disparity_predefined_group()\n"
     ]
    },
    {
     "name": "stderr",
     "output_type": "stream",
     "text": [
      "WARNING:interpret.utils.all:Passing a numpy array to schema autogen when it should be dataframe.\n",
      "WARNING:interpret.utils.all:Passing a numpy array to schema autogen when it should be dataframe.\n",
      "WARNING:interpret.utils.all:Passing a numpy array to schema autogen when it should be dataframe.\n",
      "WARNING:interpret.utils.all:Passing a numpy array to schema autogen when it should be dataframe.\n",
      "WARNING:interpret.utils.all:Passing a numpy array to schema autogen when it should be dataframe.\n",
      "WARNING:interpret.utils.all:Passing a numpy array to schema autogen when it should be dataframe.\n",
      "WARNING:interpret.utils.all:Passing a numpy array to schema autogen when it should be dataframe.\n",
      "WARNING:interpret.utils.all:Passing a numpy array to schema autogen when it should be dataframe.\n",
      "WARNING:interpret.utils.all:Passing a numpy array to schema autogen when it should be dataframe.\n",
      "WARNING:interpret.utils.all:Passing a numpy array to schema autogen when it should be dataframe.\n",
      "WARNING:interpret.utils.all:Passing a numpy array to schema autogen when it should be dataframe.\n",
      "WARNING:interpret.utils.all:Passing a numpy array to schema autogen when it should be dataframe.\n"
     ]
    },
    {
     "name": "stdout",
     "output_type": "stream",
     "text": [
      "model_id, score_thresholds 0 {'rank_abs': [18]}\n",
      "get_disparity_predefined_group()\n"
     ]
    }
   ],
   "source": [
    "#### CART\n",
    "depth = [6,7]\n",
    "cart_summary = base.CART(X=x,\n",
    "                         Y=y,\n",
    "                         depth=depth,\n",
    "                         seed=816)\n",
    "\n",
    "#### EBM\n",
    "estimators = [20]\n",
    "depth = [2]\n",
    "learning_rate = [0.3]\n",
    "ebm_summary = base.EBM(X=x,\n",
    "                       Y=y,\n",
    "                       learning_rate=learning_rate,\n",
    "                       depth=depth,\n",
    "                       estimators=estimators,\n",
    "                       seed =816)"
   ]
  },
  {
   "cell_type": "code",
   "execution_count": 4,
   "metadata": {
    "scrolled": true
   },
   "outputs": [
    {
     "data": {
      "text/plain": [
       "(0.8719905277756279, 0.010895672119920975)"
      ]
     },
     "execution_count": 4,
     "metadata": {},
     "output_type": "execute_result"
    }
   ],
   "source": [
    "np.mean(cart_summary['holdout_test_auc']), np.mean(cart_summary['auc_diffs'])"
   ]
  },
  {
   "cell_type": "code",
   "execution_count": 5,
   "metadata": {},
   "outputs": [
    {
     "data": {
      "text/plain": [
       "(0.8760153188919686, 0.00753340214344278)"
      ]
     },
     "execution_count": 5,
     "metadata": {},
     "output_type": "execute_result"
    }
   ],
   "source": [
    "np.mean(ebm_summary['holdout_test_auc']), np.mean(ebm_summary['auc_diffs'])"
   ]
  },
  {
   "cell_type": "markdown",
   "metadata": {},
   "source": [
    "## Lasso Stumps"
   ]
  },
  {
   "cell_type": "code",
   "execution_count": 6,
   "metadata": {},
   "outputs": [],
   "source": [
    "## load whole data\n",
    "data = pd.read_csv(\"~/Documents/Duke/Cynthia Research/KY-analysis-mytrials/KY Recidivism/KY data/kentucky_stumps.csv\")\n",
    "X_stumps, Y_stumps = data.loc[:,:'current_violence>=1'], data['recid_violence_six_month'].values\n",
    "Y_stumps[Y_stumps == -1] = 0\n",
    "cols = X_stumps.columns[3:]\n",
    "\n",
    "## load train & test data\n",
    "train_stumps = pd.read_csv(\"~/Documents/Duke/Cynthia Research/KY-analysis-mytrials/KY Recidivism/KY data/kentucky_train_stumps.csv\")\n",
    "test_stumps = pd.read_csv(\"~/Documents/Duke/Cynthia Research/KY-analysis-mytrials/KY Recidivism/KY data/kentucky_test_stumps.csv\")\n",
    "\n",
    "X_train_stumps, Y_train_stumps = train_stumps.loc[:,:'current_violence>=1'], train_stumps['recid_violence_six_month'].values\n",
    "X_test_stumps, Y_test_stumps = test_stumps.loc[:,:'current_violence>=1'], test_stumps['recid_violence_six_month'].values\n",
    "\n",
    "Y_train_stumps[Y_train_stumps == -1] = 0\n",
    "Y_test_stumps[Y_test_stumps == -1] = 0"
   ]
  },
  {
   "cell_type": "markdown",
   "metadata": {},
   "source": [
    "#### Nested Cross Validation"
   ]
  },
  {
   "cell_type": "code",
   "execution_count": 7,
   "metadata": {},
   "outputs": [
    {
     "name": "stdout",
     "output_type": "stream",
     "text": [
      "model_id, score_thresholds 0 {'rank_abs': [10284]}\n",
      "get_disparity_predefined_group()\n",
      "model_id, score_thresholds 0 {'rank_abs': [10089]}\n",
      "get_disparity_predefined_group()\n",
      "model_id, score_thresholds 0 {'rank_abs': [9588]}\n",
      "get_disparity_predefined_group()\n",
      "model_id, score_thresholds 0 {'rank_abs': [10396]}\n",
      "get_disparity_predefined_group()\n",
      "model_id, score_thresholds 0 {'rank_abs': [9963]}\n",
      "get_disparity_predefined_group()\n"
     ]
    }
   ],
   "source": [
    "stump_summary = stumps.stump_cv(X = X_stumps, \n",
    "                                Y = Y_stumps, \n",
    "                                columns=cols, \n",
    "                                c_grid={'C': [0.007, 0.005, 0.003]}, \n",
    "                                seed = 816)"
   ]
  },
  {
   "cell_type": "code",
   "execution_count": 9,
   "metadata": {},
   "outputs": [
    {
     "data": {
      "text/plain": [
       "({'C': 0.007}, 0.8787057958473353, 0.00264705924661901)"
      ]
     },
     "execution_count": 9,
     "metadata": {},
     "output_type": "execute_result"
    }
   ],
   "source": [
    "stump_summary['best_params'], np.mean(stump_summary['holdout_test_auc']), np.mean(stump_summary['auc_diffs'])"
   ]
  },
  {
   "cell_type": "markdown",
   "metadata": {},
   "source": [
    "##### Best Stump Model"
   ]
  },
  {
   "cell_type": "code",
   "execution_count": 12,
   "metadata": {},
   "outputs": [],
   "source": [
    "best_stump_model = stumps.stump_model(X_train_stumps, Y_train_stumps, \n",
    "                                      X_test_stumps, Y_test_stumps, \n",
    "                                      c=0.003, columns=cols, seed=816)"
   ]
  },
  {
   "cell_type": "markdown",
   "metadata": {},
   "source": [
    "##### Prediction Table"
   ]
  },
  {
   "cell_type": "code",
   "execution_count": 13,
   "metadata": {
    "scrolled": true
   },
   "outputs": [
    {
     "name": "stdout",
     "output_type": "stream",
     "text": [
      "+-----------------------------------+----------------+\n",
      "| Features                          | Score          |\n",
      "|====================================================|\n",
      "| sex                               | 37.1           |\n",
      "| age_at_current_charge<=30         | 4.4            |\n",
      "| age_at_current_charge<=38         | 7.0            |\n",
      "| age_at_current_charge<=43         | 7.2            |\n",
      "| p_arrest>=1                       | -86.8          |\n",
      "| p_arrest>=2                       | 28.4           |\n",
      "| p_arrest>=3                       | 42.5           |\n",
      "| p_arrest>=5                       | 18.7           |\n",
      "| p_arrest>=7                       | 7.1            |\n",
      "| p_charges>=1                      | -77.2          |\n",
      "| p_charges>=2                      | 2.4            |\n",
      "| p_charges>=3                      | 2.3            |\n",
      "| p_charges>=6                      | 3.0            |\n",
      "| p_violence>=1                     | 215.2          |\n",
      "| p_felony>=1                       | 21.1           |\n",
      "| p_misdemeanor>=2                  | 1.6            |\n",
      "| p_misdemeanor>=3                  | 25.4           |\n",
      "| p_property>=1                     | 2.0            |\n",
      "| p_weapon>=1                       | 20.5           |\n",
      "| p_felassult>=1                    | 11.6           |\n",
      "| p_misdeassult>=1                  | -19.5          |\n",
      "| ADE>=1                            | -0.8           |\n",
      "| p_prison>=1                       | -17.3          |\n",
      "| p_jail30>=1                       | 4.1            |\n",
      "| p_jail30>=2                       | 15.2           |\n",
      "| p_pending_charge>=1               | 37.9           |\n",
      "| current_violence>=1               | 57.5           |\n",
      "| Intercept                         | -0.847         |\n",
      "|====================================================|\n",
      "| ADD POINTS FROM ROWS 1 TO 27      | Total Score    |\n",
      "+-----------------------------------+----------------+\n"
     ]
    }
   ],
   "source": [
    "stumps.stump_table(best_stump_model['coefs'], \n",
    "                   best_stump_model['features'], \n",
    "                   best_stump_model['intercept'], \n",
    "                   best_stump_model['dictionary'])"
   ]
  },
  {
   "cell_type": "code",
   "execution_count": 14,
   "metadata": {},
   "outputs": [
    {
     "name": "stdout",
     "output_type": "stream",
     "text": [
      "model_id, score_thresholds 0 {'rank_abs': [9176]}\n",
      "get_disparity_predefined_group()\n",
      "model_id, score_thresholds 0 {'rank_abs': [9235]}\n",
      "get_disparity_predefined_group()\n",
      "model_id, score_thresholds 0 {'rank_abs': [8934]}\n",
      "get_disparity_predefined_group()\n",
      "model_id, score_thresholds 0 {'rank_abs': [9139]}\n",
      "get_disparity_predefined_group()\n",
      "model_id, score_thresholds 0 {'rank_abs': [9471]}\n",
      "get_disparity_predefined_group()\n"
     ]
    }
   ],
   "source": [
    "stump_summary = stumps.stump_cv(X = X_stumps, \n",
    "                                Y = Y_stumps, \n",
    "                                columns=cols, \n",
    "                                c_grid={'C': [0.003]}, \n",
    "                                seed = 816)"
   ]
  },
  {
   "cell_type": "code",
   "execution_count": 15,
   "metadata": {},
   "outputs": [
    {
     "data": {
      "text/plain": [
       "({'C': 0.003}, 0.8769661471769684, 0.0017833029209550987)"
      ]
     },
     "execution_count": 15,
     "metadata": {},
     "output_type": "execute_result"
    }
   ],
   "source": [
    "stump_summary['best_params'], np.mean(stump_summary['holdout_test_auc']), np.mean(stump_summary['auc_diffs'])"
   ]
  },
  {
   "cell_type": "markdown",
   "metadata": {},
   "source": [
    "##### Stumps Visualizations"
   ]
  },
  {
   "cell_type": "code",
   "execution_count": 16,
   "metadata": {
    "scrolled": true
   },
   "outputs": [
    {
     "data": {
      "image/png": "[encoded data removed]",
      "text/plain": [
       "<Figure size 288x216 with 1 Axes>"
      ]
     },
     "metadata": {
      "needs_background": "light"
     },
     "output_type": "display_data"
    },
    {
     "data": {
      "image/png": "[encoded data removed]",
      "text/plain": [
       "<Figure size 288x216 with 1 Axes>"
      ]
     },
     "metadata": {
      "needs_background": "light"
     },
     "output_type": "display_data"
    },
    {
     "data": {
      "image/png": "[encoded data removed]",
      "text/plain": [
       "<Figure size 288x216 with 1 Axes>"
      ]
     },
     "metadata": {
      "needs_background": "light"
     },
     "output_type": "display_data"
    },
    {
     "data": {
      "image/png": "[encoded data removed]",
      "text/plain": [
       "<Figure size 288x216 with 1 Axes>"
      ]
     },
     "metadata": {
      "needs_background": "light"
     },
     "output_type": "display_data"
    },
    {
     "data": {
      "image/png": "[encoded data removed]",
      "text/plain": [
       "<Figure size 288x216 with 1 Axes>"
      ]
     },
     "metadata": {
      "needs_background": "light"
     },
     "output_type": "display_data"
    },
    {
     "data": {
      "image/png": "[encoded data removed]",
      "text/plain": [
       "<Figure size 288x216 with 1 Axes>"
      ]
     },
     "metadata": {
      "needs_background": "light"
     },
     "output_type": "display_data"
    },
    {
     "data": {
      "image/png": "[encoded data removed]",
      "text/plain": [
       "<Figure size 288x216 with 1 Axes>"
      ]
     },
     "metadata": {
      "needs_background": "light"
     },
     "output_type": "display_data"
    },
    {
     "data": {
      "image/png": "[encoded data removed]",
      "text/plain": [
       "<Figure size 288x216 with 1 Axes>"
      ]
     },
     "metadata": {
      "needs_background": "light"
     },
     "output_type": "display_data"
    },
    {
     "data": {
      "image/png": "[encoded data removed]",
      "text/plain": [
       "<Figure size 288x216 with 1 Axes>"
      ]
     },
     "metadata": {
      "needs_background": "light"
     },
     "output_type": "display_data"
    },
    {
     "data": {
      "image/png": "[encoded data removed]",
      "text/plain": [
       "<Figure size 288x216 with 1 Axes>"
      ]
     },
     "metadata": {
      "needs_background": "light"
     },
     "output_type": "display_data"
    },
    {
     "data": {
      "image/png": "[encoded data removed]",
      "text/plain": [
       "<Figure size 288x216 with 1 Axes>"
      ]
     },
     "metadata": {
      "needs_background": "light"
     },
     "output_type": "display_data"
    },
    {
     "data": {
      "image/png": "[encoded data removed]",
      "text/plain": [
       "<Figure size 288x216 with 1 Axes>"
      ]
     },
     "metadata": {
      "needs_background": "light"
     },
     "output_type": "display_data"
    },
    {
     "data": {
      "image/png": "[encoded data removed]",
      "text/plain": [
       "<Figure size 288x216 with 1 Axes>"
      ]
     },
     "metadata": {
      "needs_background": "light"
     },
     "output_type": "display_data"
    },
    {
     "data": {
      "image/png": "[encoded data removed]",
      "text/plain": [
       "<Figure size 288x216 with 1 Axes>"
      ]
     },
     "metadata": {
      "needs_background": "light"
     },
     "output_type": "display_data"
    }
   ],
   "source": [
    "stumps.stump_plots(best_stump_model['features'], best_stump_model['coefs'])"
   ]
  },
  {
   "cell_type": "markdown",
   "metadata": {},
   "source": [
    "### Arnold PSA"
   ]
  },
  {
   "cell_type": "code",
   "execution_count": 17,
   "metadata": {},
   "outputs": [],
   "source": [
    "### load data\n",
    "data = pd.read_csv(\"~/Documents/Duke/Cynthia Research/KY-analysis-mytrials/KY Recidivism/KY data/kentucky_data.csv\")\n",
    "X_arnold_raw = data['nca_risk_score_raw'].values\n",
    "X_arnold_calc = data['nca_calc'].values\n",
    "Y_arnold = data['recid_violence_six_month'].values"
   ]
  },
  {
   "cell_type": "code",
   "execution_count": 18,
   "metadata": {},
   "outputs": [],
   "source": [
    "## set up cross validation\n",
    "cv = KFold(n_splits=5,shuffle=True,random_state=816)\n",
    "raw_auc = []\n",
    "calc_auc = []\n",
    "\n",
    "## raw score\n",
    "i = 1\n",
    "for train, test in cv.split(X_arnold_raw, Y_arnold):\n",
    "    y_pred_raw, y_pred_calc, y_test = X_arnold_raw[test], X_arnold_calc[test], Y_arnold[test]\n",
    "    raw_auc.append(roc_auc_score(y_test, y_pred_raw))\n",
    "    calc_auc.append(roc_auc_score(y_test, y_pred_calc))\n",
    "    i+=1 "
   ]
  },
  {
   "cell_type": "markdown",
   "metadata": {},
   "source": [
    "## RiskSLIM"
   ]
  },
  {
   "cell_type": "code",
   "execution_count": 19,
   "metadata": {},
   "outputs": [],
   "source": [
    "## load stumps data\n",
    "data = pd.read_csv(\"~/Documents/Duke/Cynthia Research/KY-analysis-mytrials/KY Recidivism/KY data/kentucky_stumps.csv\")\n",
    "x, y = data.loc[:,:'current_violence>=1'], data['recid_violence_six_month'].values\n",
    "cols = x.columns[3:]"
   ]
  },
  {
   "cell_type": "code",
   "execution_count": 20,
   "metadata": {},
   "outputs": [
    {
     "data": {
      "text/plain": [
       "30"
      ]
     },
     "execution_count": 20,
     "metadata": {},
     "output_type": "execute_result"
    }
   ],
   "source": [
    "## train on best param chosen by Lasso Stumps from above\n",
    "x_train = x.copy().drop(['race', 'person_id', 'screening_date'], axis=1)\n",
    "lasso = LogisticRegression(class_weight='balanced', solver='liblinear', penalty='l1', C=0.003, random_state=816).fit(x_train,y)\n",
    "selected_features = cols[lasso.coef_[0] != 0].tolist()\n",
    "len(selected_features)"
   ]
  },
  {
   "cell_type": "code",
   "execution_count": 21,
   "metadata": {},
   "outputs": [],
   "source": [
    "### Subset features\n",
    "if 'sex' in selected_features:\n",
    "    selected_features = ['recid_violence_six_month', 'person_id', 'screening_date', 'race'] + selected_features\n",
    "    indicator = 1\n",
    "else:\n",
    "    selected_features = ['recid_violence_six_month', 'person_id', 'screening_date', 'race', 'sex'] + selected_features\n",
    "    indicator = 0\n",
    "\n",
    "sub_data = data[selected_features]\n",
    "sub_X, sub_Y = sub_data.iloc[:,1:], sub_data.iloc[:,0].values\n",
    "sub_X.insert(0, '(Intercept)', 1)"
   ]
  },
  {
   "cell_type": "code",
   "execution_count": 22,
   "metadata": {
    "scrolled": true
   },
   "outputs": [
    {
     "name": "stdout",
     "output_type": "stream",
     "text": [
      "setting c0 = 0.0 to ensure that intercept is not penalized\n",
      "09/11/19 @ 04:08 PM | 1301 rows in lookup table\n",
      "09/11/19 @ 04:08 PM | ------------------------------------------------------------\n",
      "09/11/19 @ 04:08 PM | runnning initialization procedure\n",
      "09/11/19 @ 04:08 PM | ------------------------------------------------------------\n",
      "09/11/19 @ 04:08 PM | CPA produced 2 cuts\n",
      "09/11/19 @ 04:08 PM | running naive rounding on 103 solutions\n",
      "09/11/19 @ 04:08 PM | best objective value: 0.0750\n",
      "09/11/19 @ 04:08 PM | rounding produced 5 integer solutions\n",
      "09/11/19 @ 04:08 PM | best objective value is 0.0766\n",
      "09/11/19 @ 04:08 PM | running sequential rounding on 103 solutions\n",
      "09/11/19 @ 04:08 PM | best objective value: 0.0750\n",
      "09/11/19 @ 04:08 PM | sequential rounding produced 6 integer solutions\n",
      "09/11/19 @ 04:08 PM | best objective value: 0.0762\n",
      "09/11/19 @ 04:08 PM | polishing 11 solutions\n",
      "09/11/19 @ 04:08 PM | best objective value: 0.0762\n",
      "09/11/19 @ 04:08 PM | polishing produced 4 integer solutions\n",
      "09/11/19 @ 04:08 PM | initialization produced 11 feasible solutions\n",
      "09/11/19 @ 04:08 PM | best objective value: 0.0762\n",
      "09/11/19 @ 04:08 PM | ------------------------------------------------------------\n",
      "09/11/19 @ 04:08 PM | completed initialization procedure\n",
      "09/11/19 @ 04:08 PM | ------------------------------------------------------------\n",
      "09/11/19 @ 04:08 PM | 1301 rows in lookup table\n",
      "CPXPARAM_Read_DataCheck                          1\n",
      "CPXPARAM_Threads                                 1\n",
      "CPXPARAM_Parallel                                1\n",
      "CPXPARAM_RandomSeed                              0\n",
      "CPXPARAM_TimeLimit                               200\n",
      "CPXPARAM_MIP_Tolerances_LowerCutoff              0.073769646016633855\n",
      "CPXPARAM_MIP_Tolerances_UpperCutoff              0.076187743746412337\n"
     ]
    },
    {
     "name": "stderr",
     "output_type": "stream",
     "text": [
      "Warning: Control callbacks may disable some MIP features.\n"
     ]
    },
    {
     "name": "stdout",
     "output_type": "stream",
     "text": [
      "Lazy constraint(s) or lazy constraint callback is present.\n",
      "    Disabling dual reductions (CPX_PARAM_REDUCE) in presolve.\n",
      "    Disabling non-linear reductions (CPX_PARAM_PRELINEAR) in presolve.\n",
      "         Disabling repeat represolve because of lazy constraint/incumbent callback.\n",
      "09/11/19 @ 04:08 PM | adding 249 initial cuts\n",
      "1 of 1 MIP starts provided solutions.\n",
      "MIP start 'mip_start_0' defined initial solution with objective 0.0762.\n",
      "Tried aggregator 1 time.\n",
      "Reduced MIP has 32 rows, 64 columns, and 123 nonzeros.\n",
      "Reduced MIP has 30 binaries, 32 generals, 0 SOSs, and 0 indicators.\n",
      "Presolve time = 0.00 sec. (0.07 ticks)\n",
      "Probing time = 0.00 sec. (0.02 ticks)\n",
      "MIP emphasis: balance optimality and feasibility.\n",
      "MIP search method: traditional branch-and-cut.\n",
      "Parallel mode: none, using 1 thread.\n",
      "Root relaxation solution time = 0.00 sec. (0.04 ticks)\n",
      "\n",
      "        Nodes                                         Cuts/\n",
      "   Node  Left     Objective  IInf  Best Integer    Best Bound    ItCnt     Gap         Variable B NodeID Parent  Depth\n",
      "\n",
      "*     0+    0                            0.0762        0.0737             3.31%\n",
      "      0     0        0.0738     1        0.0762        0.0738        1    3.17%\n",
      "      0     2        0.0738     4        0.0762        0.0738        1    3.17%                        0             0\n",
      "Elapsed time = 0.08 sec. (1.42 ticks, tree = 0.01 MB, solutions = 1)\n",
      "*  1800+  838                            0.0761        0.0738             3.08%\n",
      "   2020   914        0.0755     1        0.0761        0.0738     8355    3.08%          rho_11 U   2020   2018     53\n",
      "   3027  1327        0.0756     5        0.0761        0.0738    13156    3.08%          rho_19 D   3027   3025     26\n",
      "   3968  1660        0.0739     9        0.0761        0.0738    16762    3.08%          rho_16 D   3968   3966     14\n",
      "   4773  1950        0.0759     4        0.0761        0.0738    20211    3.08%           rho_0 D   4773   4771     57\n",
      "   5534  2197        0.0747     1        0.0761        0.0738    23248    3.08%           rho_5 U   5534   5532     66\n",
      "   6146  2471        0.0744    14        0.0761        0.0738    26697    3.08%          rho_19 U   6146   2859     15\n",
      "   6765  2755        0.0751    15        0.0761        0.0738    29470    3.08%          rho_21 D   6765   6763     23\n",
      "   7390  2969        0.0752     1        0.0761        0.0738    31854    3.08%           rho_0 D   7390   7389     53\n",
      "   7969  3175        0.0759     9        0.0761        0.0738    34733    3.08%          rho_10 D   7969   7968     27\n",
      "*  9983  4152      integral     0        0.0761        0.0738    45979    3.07%\n",
      "  10250  4227        0.0749     1        0.0761        0.0738    46942    3.07%          rho_11 U  10250  10249     33\n",
      "Elapsed time = 4.22 sec. (3103.06 ticks, tree = 1.35 MB, solutions = 3)\n",
      "  12248  4867        cutoff              0.0761        0.0738    57330    3.07%          rho_24 U  12248  12247     36\n",
      "  14254  5683        0.0738     7        0.0761        0.0738    66189    3.07%           rho_1 D  14254  14253     24\n",
      "  16160  6619        0.0746     9        0.0761        0.0738    73423    3.07%          rho_15 U  16160  16158     15\n",
      "  18000  7515        0.0755     1        0.0761        0.0738    80805    3.07%           rho_0 D  18000  17999     61\n",
      "  19707  8197        0.0755     1        0.0761        0.0738    87754    3.07%          rho_11 U  19707  19705     75\n",
      "  21424  8825        0.0738     4        0.0761        0.0738    96410    3.07%          rho_11 U  21424  21422     84\n",
      "  23017  9460        0.0748    21        0.0761        0.0738   105172    3.07%           rho_0 D  23017   3874     23\n",
      "  24575 10079        0.0751    11        0.0761        0.0738   111725    3.07%           rho_6 D  24575  24574     22\n",
      "  26106 10681        0.0742     8        0.0761        0.0738   117962    3.07%          rho_15 D  26106  26105     70\n",
      "  27881 11414        0.0742     8        0.0761        0.0738   123512    3.07%           rho_0 D  27881  27879     88\n",
      "Elapsed time = 13.25 sec. (12642.24 ticks, tree = 3.88 MB, solutions = 3)\n",
      "  29648 12147        0.0742     8        0.0761        0.0738   129030    3.07%          rho_11 D  29648  26901     57\n",
      "  31009 12863        cutoff              0.0761        0.0738   136111    3.07%         L0_norm D  31009  31007     39\n",
      "  32529 13730        0.0757     4        0.0761        0.0738   142805    3.07%           rho_5 U  32529  32527     70\n",
      "  33654 14309        0.0738     9        0.0761        0.0738   149900    3.07%          rho_10 U  33654  33653     20\n",
      "* 33768 14066      integral     0        0.0760        0.0738   150789    2.88%\n",
      "  34860 14522        0.0746     8        0.0760        0.0738   156334    2.88%           rho_5 U  34860   9966     30\n",
      "  36170 15045        0.0741    21        0.0760        0.0738   161969    2.88%           rho_1 D  36170  36169     20\n",
      "  37460 15683        0.0738     8        0.0760        0.0738   167468    2.88%           rho_0 D  37460  37458     79\n",
      "  38812 16271        0.0756     6        0.0760        0.0738   173381    2.88%           rho_0 D  38812  38810     61\n",
      "  40006 16923        0.0752     7        0.0760        0.0738   179376    2.88%           rho_0 D  40006  40004     54\n",
      "  41118 17327        0.0758     6        0.0760        0.0738   185438    2.88%           rho_5 U  41118  41116     38\n",
      "Elapsed time = 20.20 sec. (22184.37 ticks, tree = 6.56 MB, solutions = 4)\n",
      "  42131 17816        cutoff              0.0760        0.0738   191915    2.88%          rho_13 U  42131  42130     30\n",
      "  43238 18242        0.0740    10        0.0760        0.0738   197959    2.88%           rho_0 D  43238  43236     33\n",
      "  44350 18790        0.0743    15        0.0760        0.0738   203817    2.88%           rho_0 D  44350  44348     59\n",
      "  45455 19435        0.0738     7        0.0760        0.0738   209747    2.88%          rho_11 U  45455  45453     42\n",
      "  46458 19883        0.0738     7        0.0760        0.0738   216996    2.88%           rho_0 D  46458  46456     79\n",
      "  47495 20346        0.0738     5        0.0760        0.0738   223647    2.88%          rho_11 U  47495  47493     54\n",
      "  48681 20881        0.0754    10        0.0760        0.0738   228940    2.88%           rho_0 D  48681  48679     77\n",
      "  49749 21431        0.0738     8        0.0760        0.0738   234841    2.88%           rho_0 D  49749  49747     59\n",
      "  50777 21983        0.0747    10        0.0760        0.0738   240484    2.88%          rho_11 U  50777  50775     80\n",
      "  51754 22609        0.0742     7        0.0760        0.0738   244976    2.88%           rho_1 D  51754  51753    102\n",
      "Elapsed time = 27.61 sec. (31725.26 ticks, tree = 8.44 MB, solutions = 4)\n",
      "  52705 23003        0.0754    10        0.0760        0.0738   250100    2.88%          rho_11 U  52705  52704     54\n",
      "  53775 23564        0.0749    18        0.0760        0.0738   255657    2.88%           rho_1 U  53775  53650     15\n",
      "  54866 24053        0.0741     8        0.0760        0.0738   260606    2.88%          rho_15 D  54866  54865     70\n",
      "  56022 24586        0.0745     7        0.0760        0.0738   265964    2.88%          rho_19 U  56022   6636     36\n",
      "  57016 25108        0.0738    12        0.0760        0.0738   271526    2.88%           rho_1 U  57016  57006     21\n",
      "  57920 25733        0.0738    11        0.0760        0.0738   275503    2.88%          rho_11 D  57920  57919     28\n",
      "  58800 26169        0.0741     9        0.0760        0.0738   279890    2.88%          rho_21 D  58800  58799     60\n",
      "  59742 26591        0.0738     6        0.0760        0.0738   284278    2.88%           rho_0 D  59742  59740     38\n",
      "  60648 27027        0.0740    15        0.0760        0.0738   288836    2.88%           rho_1 U  60648  24634     15\n",
      "  61467 27520        0.0749    16        0.0760        0.0738   293235    2.88%           rho_5 U  61467  61465     56\n",
      "Elapsed time = 35.19 sec. (41270.51 ticks, tree = 10.25 MB, solutions = 4)\n",
      "  62220 27925        0.0746     7        0.0760        0.0738   297997    2.88%          rho_28 D  62220  62219     20\n",
      "  62990 28490        0.0738    16        0.0760        0.0738   302972    2.88%          rho_11 D  62990  62989     23\n"
     ]
    },
    {
     "name": "stdout",
     "output_type": "stream",
     "text": [
      "  63996 28602        cutoff              0.0760        0.0738   306298    2.88%           rho_0 U  63996  63995     82\n",
      "  65158 28887        0.0739    10        0.0760        0.0738   309470    2.88%          rho_11 U  65158  65156    104\n",
      "  66101 29557        0.0740    13        0.0760        0.0738   315303    2.88%          rho_12 D  66101  65886     19\n",
      "  67197 30199        0.0738    11        0.0760        0.0738   320598    2.88%           rho_0 D  67197  67195     76\n",
      "  67880 30742        0.0741    11        0.0760        0.0738   325069    2.88%          rho_20 D  67880  67879     24\n",
      "  68635 31227        0.0747     7        0.0760        0.0738   329124    2.88%           rho_0 U  68635  68634     29\n",
      "  69370 31525        0.0738    11        0.0760        0.0738   334280    2.88%           rho_1 U  69370  69369     16\n",
      "  70138 31989        0.0749     9        0.0760        0.0738   338176    2.88%          rho_21 U  70138  70137     27\n",
      "Elapsed time = 43.47 sec. (50824.44 ticks, tree = 11.93 MB, solutions = 4)\n",
      "  70907 32448        0.0738    11        0.0760        0.0738   342664    2.88%          rho_11 U  70907  70905     35\n",
      "  71506 32884        0.0745    20        0.0760        0.0738   349771    2.88%           rho_5 U  71506  71505     16\n",
      "* 71580+31983                            0.0759        0.0738             2.77%\n",
      "  72143 32363        0.0755     6        0.0759        0.0738   353379    2.77%           rho_5 U  72143  72141     94\n",
      "  72904 32843        0.0745    13        0.0759        0.0738   357208    2.77%          rho_11 D  72904  72903     44\n",
      "  73614 33195        0.0748     3        0.0759        0.0738   361625    2.77%          rho_29 D  73614  73612    100\n",
      "  74412 33595        cutoff              0.0759        0.0738   365559    2.77%           rho_5 U  74412  74411     31\n",
      "  75143 34107        0.0741    13        0.0759        0.0738   369694    2.77%          rho_10 U  75143  50513     23\n",
      "  75859 34487        0.0749     9        0.0759        0.0738   374552    2.77%          rho_23 U  75859  75858     95\n",
      "  76610 34825        0.0744    15        0.0759        0.0738   379077    2.77%           rho_0 U  76610  76609     28\n",
      "  77250 35310        0.0758     7        0.0759        0.0738   383377    2.77%          rho_23 D  77250  77249     72\n",
      "Elapsed time = 51.30 sec. (60368.62 ticks, tree = 14.66 MB, solutions = 5)\n",
      "  77950 35730        0.0753    13        0.0759        0.0738   387684    2.77%           rho_6 D  77950  77948     28\n",
      "  78730 36075        0.0740     9        0.0759        0.0738   391726    2.77%          rho_27 D  78730  78729     65\n",
      "  79560 36446        0.0743     6        0.0759        0.0738   395572    2.77%          rho_29 D  79560  79559     99\n",
      "  80380 36791        0.0758     8        0.0759        0.0738   399452    2.77%           rho_0 D  80380  80378     54\n",
      "  81144 37116        0.0750     6        0.0759        0.0738   403611    2.77%          rho_28 U  81144  39625     32\n",
      "  82022 37562        0.0746    11        0.0759        0.0738   408875    2.77%          rho_20 D  82022  82021     28\n",
      "  82723 38101        0.0738     9        0.0759        0.0738   414184    2.77%           rho_0 D  82723  82721     75\n",
      "  83478 38576        0.0738     9        0.0759        0.0738   418497    2.77%           rho_0 D  83478  83467     95\n",
      "  84210 39099        0.0738     7        0.0759        0.0738   423234    2.77%          rho_11 U  84210  84208     72\n",
      "  85051 39516        0.0742    10        0.0759        0.0738   427204    2.77%           rho_1 D  85051  85050     82\n",
      "Elapsed time = 58.20 sec. (69925.95 ticks, tree = 16.31 MB, solutions = 5)\n",
      "  85906 39965        cutoff              0.0759        0.0738   431124    2.77%           rho_3 U  85906  85905     29\n",
      "  86707 40616        0.0738    15        0.0759        0.0738   434632    2.77%           rho_0 D  86707  86705     80\n",
      "  87498 41016        0.0745     7        0.0759        0.0738   438607    2.77%          rho_23 D  87498  87497     38\n",
      "  88217 41499        cutoff              0.0759        0.0738   443763    2.77%           rho_2 U  88217  88216     72\n",
      "  88960 42011        0.0742    12        0.0759        0.0738   447316    2.77%          rho_11 U  88960  88958     74\n",
      "  89696 42560        cutoff              0.0759        0.0738   451316    2.77%          rho_29 U  89696  89694    100\n",
      "  90363 42995        0.0757     1        0.0759        0.0738   456060    2.77%           rho_3 D  90363  90361     30\n",
      "  91141 43416        cutoff              0.0759        0.0738   459794    2.77%           rho_9 U  91141  91140     29\n",
      "  91846 43790        0.0745    12        0.0759        0.0738   464734    2.77%          rho_30 D  91846  91845     24\n",
      "  92612 44195        0.0746     5        0.0759        0.0738   468780    2.77%          rho_11 D  92612  92611     35\n",
      "Elapsed time = 65.88 sec. (79466.79 ticks, tree = 18.18 MB, solutions = 5)\n",
      "  93340 44718        0.0741    15        0.0759        0.0738   472582    2.77%           rho_0 U  93340  93339     37\n",
      "  94040 45250        0.0738    14        0.0759        0.0738   476325    2.77%          rho_11 U  94040  94038     33\n",
      "  94800 45797        0.0754    12        0.0759        0.0738   479686    2.77%           rho_0 D  94800  94798    111\n",
      "  95376 46169        0.0740    16        0.0759        0.0738   486069    2.77%          rho_12 D  95376  95375     48\n",
      "  95970 46612        0.0740    11        0.0759        0.0738   491973    2.77%           rho_0 D  95970  95968     79\n",
      "  96587 47110        0.0738    10        0.0759        0.0738   496514    2.77%           rho_0 D  96587  96585     51\n",
      "  97232 47562        0.0738    10        0.0759        0.0738   501691    2.77%          rho_11 U  97232  96378     62\n",
      "  97949 48028        0.0740    15        0.0759        0.0738   506947    2.77%           rho_0 D  97949  97947     77\n",
      "  98600 48500        0.0748     5        0.0759        0.0738   512467    2.77%           rho_3 D  98600  98599     58\n",
      " 101713 49560        0.0755     5        0.0759        0.0738   528730    2.77%          rho_28 U 101713  98188     74\n",
      "Elapsed time = 75.50 sec. (91875.88 ticks, tree = 20.33 MB, solutions = 5)\n",
      " 105376 50603        0.0743    18        0.0759        0.0738   549912    2.77%           rho_0 D 105376 105374     31\n",
      " 108757 52512        0.0738    12        0.0759        0.0738   572773    2.77%           rho_5 U 108757 108756     23\n",
      " 111218 54248        0.0738    10        0.0759        0.0738   591790    2.77%           rho_0 D 111218 111216     21\n",
      " 113441 55342        0.0756     9        0.0759        0.0738   612505    2.77%          rho_28 D 113441 113439     98\n",
      " 115900 56749        0.0738    11        0.0759        0.0738   628845    2.77%          rho_12 D 115900 115899     19\n",
      " 118038 58272        0.0738    13        0.0759        0.0738   649165    2.77%          rho_11 U 118038 118037     22\n",
      " 120520 59868        0.0748     5        0.0759        0.0738   664076    2.77%          rho_26 D 120520 120518     30\n",
      " 123127 61374        0.0750     7        0.0759        0.0738   679382    2.77%           rho_0 U 123127 123126     97\n",
      " 125680 63142        0.0738    18        0.0759        0.0738   694425    2.77%           rho_1 D 125680 121135     22\n",
      " 128101 64297        0.0749     4        0.0759        0.0738   712693    2.77%           rho_3 D 128101 128099     27\n",
      "Elapsed time = 107.77 sec. (130036.26 ticks, tree = 26.48 MB, solutions = 5)\n",
      " 130752 66076        0.0738    11        0.0759        0.0738   729362    2.77%          rho_11 U 130752 130750     48\n",
      " 133020 67524        0.0757     5        0.0759        0.0738   746576    2.77%          rho_12 U 133020 133019     48\n",
      " 135324 68809        0.0738    20        0.0759        0.0738   762305    2.77%           rho_5 U 135324 135322     58\n",
      " 137750 70434        0.0740    12        0.0759        0.0738   777111    2.77%           rho_5 U 137750 137748     59\n",
      " 140020 71923        cutoff              0.0759        0.0738   794823    2.77%          rho_17 D 140020 140019    107\n",
      " 142163 73368        0.0741    17        0.0759        0.0738   812913    2.77%           rho_0 U 142163 142162     20\n"
     ]
    },
    {
     "name": "stdout",
     "output_type": "stream",
     "text": [
      " 143880 74604        0.0751     5        0.0759        0.0738   837682    2.77%          rho_21 D 143880 143879     86\n",
      " 145837 75909        0.0755     4        0.0759        0.0738   857343    2.77%           rho_8 D 145837 145836     28\n",
      " 148140 77581        0.0745    11        0.0759        0.0738   873737    2.77%          rho_23 D 148140 148139     34\n",
      " 150606 78823        0.0738    15        0.0759        0.0738   888567    2.77%          rho_12 D 150606  69920     19\n",
      "Elapsed time = 141.56 sec. (168202.79 ticks, tree = 35.60 MB, solutions = 5)\n",
      " 152897 80198        0.0746    12        0.0759        0.0738   904500    2.77%           rho_5 U 152897 152895     59\n",
      " 155224 81635        cutoff              0.0759        0.0738   919637    2.77%          rho_12 U 155224 155223     43\n",
      " 157450 82814        0.0745    11        0.0759        0.0738   934432    2.77%          rho_23 D 157450 157449     94\n",
      " 159849 84201        0.0739    18        0.0759        0.0738   948709    2.77%          rho_11 U 159849 159847     52\n",
      " 162080 85935        0.0738    18        0.0759        0.0738   963582    2.77%           rho_5 U 162080 162078     43\n",
      " 164544 87011        0.0747     8        0.0759        0.0738   976932    2.77%          rho_16 U 164544 164542     42\n",
      " 167332 88006        cutoff              0.0759        0.0738   991659    2.77%          rho_18 U 167332 167331     53\n",
      " 170410 89125        cutoff              0.0759        0.0738  1007937    2.77%          rho_30 U 170410 170408     53\n",
      " 173505 90359        0.0753     7        0.0759        0.0738  1024685    2.77%           rho_9 U 173505 173504     42\n",
      " 176636 91672        0.0753     5        0.0759        0.0738  1041342    2.77%           rho_3 D 176636 176634     60\n",
      "Elapsed time = 174.77 sec. (206360.36 ticks, tree = 41.28 MB, solutions = 5)\n",
      " 179413 93146        0.0753     9        0.0759        0.0738  1060337    2.77%          rho_28 D 179413 179411     28\n",
      " 181490 94439        0.0740    11        0.0759        0.0738  1081214    2.77%          rho_28 D 181490 181488     93\n",
      " 183412 95573        0.0748    13        0.0759        0.0738  1097132    2.77%          rho_16 D 183412 183411     63\n",
      " 185084 96613        0.0738    18        0.0759        0.0738  1118225    2.77%          rho_11 U 185084 185082     19\n",
      " 187350 97828        0.0738     6        0.0759        0.0738  1131728    2.77%          rho_11 U 187350 187348     63\n",
      " 189803 98669        0.0739     9        0.0759        0.0738  1147335    2.77%          rho_11 D 189803 189802     57\n",
      "*190000+98660                            0.0759        0.0738             2.76%\n",
      " 192540 99668        0.0738    11        0.0759        0.0738  1165025    2.76%           rho_0 D 192540 192522     45\n",
      "\n",
      "User cuts applied:  2025\n",
      "\n",
      "Root node processing (before b&c):\n",
      "  Real time             =    0.08 sec. (1.63 ticks)\n",
      "Sequential b&c:\n",
      "  Real time             =  199.94 sec. (235964.54 ticks)\n",
      "                          ------------\n",
      "Total (root+branch&cut) =  200.02 sec. (235966.16 ticks)\n",
      "+----------------------------------------------+------------------+-----------+\n",
      "| Pr(Y = +1) = 1.0/(1.0 + exp(-(-7 + score))   |                  |           |\n",
      "| ============================================ | ================ | ========= |\n",
      "| p_violence>=1                                |         2 points |   + ..... |\n",
      "| sex                                          |         1 points |   + ..... |\n",
      "| p_arrest>=2                                  |         1 points |   + ..... |\n",
      "| p_arrest>=5                                  |         1 points |   + ..... |\n",
      "| current_violence>=1                          |         1 points |   + ..... |\n",
      "| ============================================ | ================ | ========= |\n",
      "| ADD POINTS FROM ROWS 1 to 5                  |            SCORE |   = ..... |\n",
      "+----------------------------------------------+------------------+-----------+\n",
      "model_id, score_thresholds 0 {'rank_abs': [0]}\n",
      "get_disparity_predefined_group()\n",
      "setting c0 = 0.0 to ensure that intercept is not penalized\n",
      "09/11/19 @ 04:12 PM | 1301 rows in lookup table\n",
      "09/11/19 @ 04:12 PM | ------------------------------------------------------------\n",
      "09/11/19 @ 04:12 PM | runnning initialization procedure\n",
      "09/11/19 @ 04:12 PM | ------------------------------------------------------------\n",
      "09/11/19 @ 04:12 PM | CPA produced 2 cuts\n",
      "09/11/19 @ 04:12 PM | running naive rounding on 94 solutions\n",
      "09/11/19 @ 04:12 PM | best objective value: 0.0746\n",
      "09/11/19 @ 04:12 PM | rounding produced 5 integer solutions\n",
      "09/11/19 @ 04:12 PM | best objective value is 0.0777\n",
      "09/11/19 @ 04:12 PM | running sequential rounding on 94 solutions\n",
      "09/11/19 @ 04:12 PM | best objective value: 0.0746\n",
      "09/11/19 @ 04:12 PM | sequential rounding produced 6 integer solutions\n",
      "09/11/19 @ 04:12 PM | best objective value: 0.0761\n",
      "09/11/19 @ 04:12 PM | polishing 11 solutions\n",
      "09/11/19 @ 04:12 PM | best objective value: 0.0761\n",
      "09/11/19 @ 04:12 PM | polishing produced 5 integer solutions\n",
      "09/11/19 @ 04:12 PM | initialization produced 13 feasible solutions\n",
      "09/11/19 @ 04:12 PM | best objective value: 0.0761\n",
      "09/11/19 @ 04:12 PM | ------------------------------------------------------------\n",
      "09/11/19 @ 04:12 PM | completed initialization procedure\n",
      "09/11/19 @ 04:12 PM | ------------------------------------------------------------\n",
      "09/11/19 @ 04:12 PM | 1301 rows in lookup table\n",
      "CPXPARAM_Read_DataCheck                          1\n",
      "CPXPARAM_Threads                                 1\n",
      "CPXPARAM_Parallel                                1\n",
      "CPXPARAM_RandomSeed                              0\n",
      "CPXPARAM_TimeLimit                               200\n",
      "CPXPARAM_MIP_Tolerances_LowerCutoff              0.073355628591465646\n",
      "CPXPARAM_MIP_Tolerances_UpperCutoff              0.076120512649061028\n"
     ]
    },
    {
     "name": "stderr",
     "output_type": "stream",
     "text": [
      "Warning: Control callbacks may disable some MIP features.\n"
     ]
    },
    {
     "name": "stdout",
     "output_type": "stream",
     "text": [
      "Lazy constraint(s) or lazy constraint callback is present.\n",
      "    Disabling dual reductions (CPX_PARAM_REDUCE) in presolve.\n",
      "    Disabling non-linear reductions (CPX_PARAM_PRELINEAR) in presolve.\n",
      "         Disabling repeat represolve because of lazy constraint/incumbent callback.\n",
      "09/11/19 @ 04:12 PM | adding 251 initial cuts\n",
      "1 of 1 MIP starts provided solutions.\n",
      "MIP start 'mip_start_0' defined initial solution with objective 0.0761.\n",
      "Tried aggregator 1 time.\n",
      "Reduced MIP has 32 rows, 64 columns, and 123 nonzeros.\n",
      "Reduced MIP has 30 binaries, 32 generals, 0 SOSs, and 0 indicators.\n",
      "Presolve time = 0.00 sec. (0.07 ticks)\n",
      "Probing time = 0.00 sec. (0.02 ticks)\n",
      "MIP emphasis: balance optimality and feasibility.\n",
      "MIP search method: traditional branch-and-cut.\n",
      "Parallel mode: none, using 1 thread.\n",
      "Root relaxation solution time = 0.00 sec. (0.04 ticks)\n",
      "\n",
      "        Nodes                                         Cuts/\n",
      "   Node  Left     Objective  IInf  Best Integer    Best Bound    ItCnt     Gap         Variable B NodeID Parent  Depth\n",
      "\n",
      "*     0+    0                            0.0761        0.0733             3.76%\n",
      "      0     0        0.0734     1        0.0761        0.0734        1    3.63%\n",
      "      0     2        0.0734     4        0.0761        0.0734        1    3.63%                        0             0\n",
      "Elapsed time = 0.08 sec. (1.44 ticks, tree = 0.01 MB, solutions = 1)\n",
      "   1950  1026        0.0752     5        0.0761        0.0734     7332    3.63%           rho_0 D   1950   1948     67\n",
      "   2920  1518        0.0734     6        0.0761        0.0734    11784    3.63%          rho_12 D   2920   2919     25\n",
      "*  3390+ 1660                            0.0760        0.0734             3.50%\n",
      "   3560  1731        0.0737    12        0.0760        0.0734    15123    3.50%           rho_0 U   3560   3559     11\n",
      "   4210  1942        0.0741    11        0.0760        0.0734    18034    3.50%          rho_20 U   4210   4209     24\n",
      "*  4555  2070      integral     0        0.0760        0.0734    19136    3.45%        alpha_23 D   4555   4554     31\n",
      "   5130  2333        0.0755     0        0.0760        0.0734    21713    3.45%          rho_23 U   5130   5129     26\n",
      "   5603  2548        0.0738     7        0.0760        0.0734    24385    3.45%          rho_27 D   5603   5602     26\n",
      "   6138  2761        0.0736    11        0.0760        0.0734    26347    3.45%          rho_20 D   6138   6137     19\n",
      "*  6535  2838      integral     0        0.0758        0.0734    28500    3.25%\n",
      "*  6540+ 2733                            0.0756        0.0734             3.00%\n",
      "   6556  2740        0.0752     5        0.0756        0.0734    28654    3.00%           rho_5 D   6556   6554     31\n",
      "   8369  3344        0.0749     7        0.0756        0.0734    37964    3.00%           rho_0 U   8369   8368     24\n",
      "Elapsed time = 4.78 sec. (2986.00 ticks, tree = 1.01 MB, solutions = 5)\n",
      "   9970  3979        0.0748     1        0.0756        0.0734    46995    3.00%          rho_11 U   9970   9968     50\n",
      "* 10392  4091      integral     0        0.0756        0.0734    48647    2.95%          rho_19 D  10392  10390     31\n",
      "* 11940+ 4636                            0.0756        0.0734             2.91%\n",
      "  12000  4661        0.0744     9        0.0756        0.0734    56571    2.91%          rho_19 U  12000  11999     21\n",
      "  13374  5297        0.0734     4        0.0756        0.0734    62927    2.91%          rho_20 D  13374  13373     16\n",
      "  14898  5799        0.0755     1        0.0756        0.0734    70162    2.91%           rho_5 U  14898  14897     28\n",
      "  16250  6299        0.0745     7        0.0756        0.0734    77166    2.91%          rho_26 D  16250  16249     22\n",
      "  17462  6802        0.0740    16        0.0756        0.0734    83798    2.91%          rho_21 U  17462  17461     22\n",
      "  18687  7313        0.0752     6        0.0756        0.0734    89681    2.91%          rho_23 D  18687  18686     83\n",
      "  19918  7823        0.0752     6        0.0756        0.0734    95910    2.91%          rho_11 D  19918  19917     44\n",
      "  21008  8310        cutoff              0.0756        0.0734   102266    2.91%          rho_11 U  21008  21007     25\n",
      "Elapsed time = 14.17 sec. (11808.49 ticks, tree = 3.13 MB, solutions = 7)\n",
      "  22129  8925        cutoff              0.0756        0.0734   107887    2.91%          rho_12 U  22129  22127     74\n",
      "  23366  9443        0.0752    15        0.0756        0.0734   113115    2.91%          rho_16 D  23366  23365     12\n",
      "* 23979  9527      integral     0        0.0755        0.0734   116686    2.85%\n",
      "  24354  9699        0.0735    11        0.0755        0.0734   118871    2.85%          rho_21 U  24354  24308     24\n",
      "  25381 10003        0.0735     7        0.0755        0.0734   124092    2.85%          rho_29 D  25381  25379     30\n",
      "  26467 10516        0.0737    15        0.0755        0.0734   129426    2.85%           rho_6 D  26467   2007     24\n",
      "  27439 11019        0.0751     6        0.0755        0.0734   134522    2.85%          rho_14 D  27439  27438     34\n",
      "  28564 11440        0.0734     7        0.0755        0.0734   139272    2.85%          rho_20 U  28564  28563     15\n",
      "* 28807 11489      integral     0        0.0755        0.0734   140299    2.81%\n",
      "  29491 11711        0.0743     4        0.0755        0.0734   144195    2.81%           rho_8 D  29491  29489     20\n",
      "  30451 12184        0.0748     8        0.0755        0.0734   149013    2.81%           rho_3 D  30451  30449     24\n",
      "  31384 12529        0.0739     7        0.0755        0.0734   153700    2.81%          rho_29 D  31384  31383     44\n",
      "Elapsed time = 21.83 sec. (21354.73 ticks, tree = 4.72 MB, solutions = 9)\n",
      "  32312 12835        0.0749     5        0.0755        0.0734   158521    2.81%           rho_7 D  32312  32310     15\n",
      "  33150 13202        0.0746     5        0.0755        0.0734   163855    2.81%          rho_11 D  33150  33149     20\n",
      "  34067 13657        0.0737    10        0.0755        0.0734   168646    2.81%          rho_23 U  34067  11010     19\n",
      "  34901 13978        cutoff              0.0755        0.0734   173464    2.81%          rho_26 U  34901  34900     33\n",
      "  35729 14301        0.0735    10        0.0755        0.0734   178490    2.81%          rho_16 D  35729  35728     18\n",
      "  36550 14659        0.0746     9        0.0755        0.0734   183479    2.81%           rho_0 U  36550  36549     55\n",
      "  37418 15247        cutoff              0.0755        0.0734   187883    2.81%          rho_26 U  37418  37417     33\n",
      "  38239 15679        0.0749     6        0.0755        0.0734   192666    2.81%          rho_11 U  38239  38237     49\n",
      "  39013 15951        0.0743    18        0.0755        0.0734   197782    2.81%          rho_20 N  39013  39012     13\n",
      "  39842 16358        0.0752    23        0.0755        0.0734   202150    2.81%          rho_21 D  39842  39841     14\n",
      "Elapsed time = 29.59 sec. (30901.24 ticks, tree = 6.24 MB, solutions = 9)\n",
      "  40675 16718        0.0734     8        0.0755        0.0734   206495    2.81%          rho_23 D  40675  40674     22\n",
      "  41464 17166        0.0734    15        0.0755        0.0734   211189    2.81%           rho_6 D  41464  41423     12\n",
      "  42215 17484        0.0749    11        0.0755        0.0734   216455    2.81%          rho_21 D  42215   8809     21\n",
      "  42945 17858        0.0739    13        0.0755        0.0734   221434    2.81%          rho_21 D  42945  42944     21\n",
      "  43806 18417        0.0739     3        0.0755        0.0734   225708    2.81%           rho_0 U  43806  43805     57\n",
      "  44519 18941        0.0739     3        0.0755        0.0734   229456    2.81%           rho_0 U  44519  44518     48\n",
      "  45220 19470        0.0734     7        0.0755        0.0734   233109    2.81%           rho_0 D  45220  45218     66\n",
      "  45920 19906        0.0736    10        0.0755        0.0734   236793    2.81%           rho_6 U  45920  45919     21\n",
      "  46714 20262        0.0750     3        0.0755        0.0734   239634    2.81%          rho_21 D  46714  46712     58\n",
      "  47436 20600        0.0753     3        0.0755        0.0734   243631    2.81%          rho_21 D  47436  47434     30\n",
      "Elapsed time = 36.33 sec. (40446.60 ticks, tree = 8.61 MB, solutions = 9)\n"
     ]
    },
    {
     "name": "stdout",
     "output_type": "stream",
     "text": [
      "  48237 20831        0.0734     1        0.0755        0.0734   247137    2.81%          rho_11 U  48237  48235     59\n",
      "  49293 21179        cutoff              0.0755        0.0734   251432    2.81%           rho_0 U  49293  49292     54\n",
      "  50326 21510        0.0734     1        0.0755        0.0734   255633    2.81%          rho_11 U  50326  50324     93\n",
      "  51299 21943        0.0741     5        0.0755        0.0734   260760    2.81%          rho_26 D  51299  51297     53\n",
      "  52227 22382        cutoff              0.0755        0.0734   266169    2.81%          rho_14 U  52227  52226     62\n",
      "  53034 22905        0.0734     8        0.0755        0.0734   272252    2.81%          rho_11 U  53034  53032     84\n",
      "  53836 23409        0.0736     6        0.0755        0.0734   278114    2.81%          rho_12 D  53836  53835     84\n",
      "  54756 23810        0.0746     5        0.0755        0.0734   282167    2.81%          rho_27 U  54756  54755     38\n",
      "  55650 24190        0.0748     1        0.0755        0.0734   287157    2.81%           rho_3 U  55650  55648     55\n",
      "  56545 24575        0.0734     1        0.0755        0.0734   292046    2.81%          rho_11 U  56545  56543     92\n",
      "Elapsed time = 42.19 sec. (49991.46 ticks, tree = 10.21 MB, solutions = 9)\n",
      "  57410 24993        0.0734    16        0.0755        0.0734   296402    2.81%           rho_0 D  57410  57408     58\n",
      "  58163 25380        0.0738    15        0.0755        0.0734   301042    2.81%           rho_0 D  58163  58160     25\n",
      "  58971 25761        0.0743     5        0.0755        0.0734   305499    2.81%          rho_26 D  58971  58969     32\n",
      "  59820 26086        0.0734    10        0.0755        0.0734   310005    2.81%           rho_0 D  59820  59818     44\n",
      "  60696 26421        0.0740     3        0.0755        0.0734   314214    2.81%          rho_29 D  60696  60695     71\n",
      "  61501 26773        cutoff              0.0755        0.0734   318320    2.81%          rho_14 U  61501  61500     66\n",
      "  62276 27130        cutoff              0.0755        0.0734   322382    2.81%           rho_8 U  62276  62275     69\n",
      "  63065 27474        0.0737    11        0.0755        0.0734   326429    2.81%          rho_26 D  63065  63064     71\n",
      "  63862 27766        0.0748     3        0.0755        0.0734   330386    2.81%          rho_12 D  63862  63860     71\n",
      "  64650 28079        0.0734    10        0.0755        0.0734   334348    2.81%           rho_0 D  64650  64648     82\n",
      "Elapsed time = 48.31 sec. (59534.68 ticks, tree = 11.63 MB, solutions = 9)\n",
      "  65456 28444        0.0734    10        0.0755        0.0734   338381    2.81%           rho_0 D  65456  65454     92\n",
      "  66243 28800        0.0738    10        0.0755        0.0734   342608    2.81%          rho_11 U  66243  66241     62\n",
      "  67021 29151        0.0753     5        0.0755        0.0734   346900    2.81%          rho_14 D  67021  67019     94\n",
      "  67850 29499        cutoff              0.0755        0.0734   350980    2.81%           rho_9 U  67850  67849     53\n",
      "  68696 29810        0.0736    11        0.0755        0.0734   355281    2.81%          rho_21 D  68696  68695     21\n",
      "  69491 30145        0.0749     5        0.0755        0.0734   359848    2.81%           rho_9 D  69491  69489     44\n",
      "  70390 30407        0.0751     5        0.0755        0.0734   363518    2.81%          rho_12 U  70390  70387     84\n",
      "  71177 30800        0.0742     5        0.0755        0.0734   367482    2.81%           rho_3 D  71177  71175     66\n",
      "  71961 31108        0.0734    16        0.0755        0.0734   371612    2.81%           rho_1 U  71961  71960     18\n",
      "  72697 31478        cutoff              0.0755        0.0734   375754    2.81%          rho_29 D  72697  72695     30\n",
      "Elapsed time = 54.47 sec. (69083.57 ticks, tree = 13.03 MB, solutions = 9)\n",
      "  73338 31943        0.0750     5        0.0755        0.0734   381704    2.81%           rho_6 U  73338  73336     97\n",
      "  74001 32400        cutoff              0.0755        0.0734   387366    2.81%          rho_14 D  74001  74000     63\n",
      "  74598 32843        0.0738    12        0.0755        0.0734   392665    2.81%           rho_0 D  74598  74596     86\n",
      "  75246 33247        0.0740    17        0.0755        0.0734   396220    2.81%           rho_6 D  75246  75244     19\n",
      "  75972 33533        0.0749    16        0.0755        0.0734   399639    2.81%           rho_5 U  75972  75970     69\n",
      "  76541 33848        0.0747    12        0.0755        0.0734   403490    2.81%           rho_0 U  76541  76540     39\n",
      "  77200 34192        0.0742     7        0.0755        0.0734   407103    2.81%          rho_13 D  77200  77198     62\n",
      "  77910 34481        0.0750     1        0.0755        0.0734   410636    2.81%          rho_11 D  77910  77909     33\n",
      "  78609 34848        cutoff              0.0755        0.0734   414129    2.81%          rho_15 U  78609  78608     29\n",
      "  79483 35047        0.0738     7        0.0755        0.0734   418103    2.81%           rho_6 D  79483  79482     67\n",
      "Elapsed time = 60.75 sec. (78637.04 ticks, tree = 15.91 MB, solutions = 9)\n",
      "  80363 35607        0.0750     8        0.0755        0.0734   422642    2.81%           rho_0 D  80363  80361     86\n",
      "  81225 36025        0.0747     8        0.0755        0.0734   427516    2.81%           rho_0 D  81225  81223     67\n",
      "  82101 36413        0.0742    11        0.0755        0.0734   431890    2.81%          rho_21 U  82101  19584     22\n",
      "  82805 36875        0.0737     7        0.0755        0.0734   436174    2.81%           rho_9 U  82805  82804     28\n",
      "  83453 37139        0.0734    18        0.0755        0.0734   440065    2.81%           rho_7 D  83453  83452     11\n",
      "  84272 37518        0.0753     8        0.0755        0.0734   444316    2.81%          rho_15 D  84272  84271     33\n",
      "  85007 37974        cutoff              0.0755        0.0734   447745    2.81%          rho_29 D  85007  85005     25\n",
      "  85629 38299        0.0750    11        0.0755        0.0734   451180    2.81%           rho_5 D  85629  85627     29\n",
      "  86363 38591        cutoff              0.0755        0.0734   455736    2.81%          rho_27 U  86363  86361     25\n",
      "  88762 40053        0.0735    16        0.0755        0.0734   470721    2.81%          rho_11 U  88762  88760     55\n",
      "Elapsed time = 72.16 sec. (91041.70 ticks, tree = 18.05 MB, solutions = 9)\n",
      "  91225 41753        0.0739    20        0.0755        0.0734   483330    2.81%          rho_11 U  91225  91223     70\n",
      "  93424 43006        0.0738    18        0.0755        0.0734   499290    2.81%           rho_0 D  93424  93421     31\n",
      "  95710 44402        0.0734    12        0.0755        0.0734   512413    2.81%           rho_0 D  95710  95708     39\n",
      "  98168 45935        0.0734     8        0.0755        0.0734   526035    2.81%          rho_11 U  98168  98166     63\n",
      " 100930 47622        0.0742     7        0.0755        0.0734   537325    2.81%          rho_13 D 100930 100928     46\n",
      " 103206 49014        0.0734    16        0.0755        0.0734   551019    2.81%           rho_6 D 103206 103205     21\n",
      " 105421 50445        0.0741     9        0.0755        0.0734   563985    2.81%           rho_0 N 105421 105420     81\n",
      " 107591 51586        0.0736    24        0.0755        0.0734   578256    2.81%          rho_10 U 107591 107589     13\n",
      " 109902 52751        0.0751    11        0.0755        0.0734   591088    2.81%           rho_0 U 109902 109900     59\n",
      " 112260 54001        0.0734     5        0.0755        0.0734   604500    2.81%          rho_11 U 112260 112258     86\n",
      "Elapsed time = 101.52 sec. (129211.93 ticks, tree = 24.20 MB, solutions = 9)\n",
      " 114926 55176        0.0747     7        0.0755        0.0734   619925    2.81%           rho_2 D 114926 114924     31\n",
      " 117090 56394        0.0736    14        0.0755        0.0734   633430    2.81%          rho_11 D 117090 117089     31\n",
      " 119317 57504        0.0734    10        0.0755        0.0734   647814    2.81%           rho_0 D 119317 119315     90\n",
      " 122461 58758        0.0739     7        0.0755        0.0734   666155    2.81%          rho_23 D 122461 122460     57\n",
      " 125461 60119        0.0748     5        0.0755        0.0734   684522    2.81%          rho_26 D 125461 125459     28\n"
     ]
    },
    {
     "name": "stdout",
     "output_type": "stream",
     "text": [
      " 128286 61622        0.0734    11        0.0755        0.0734   702592    2.81%           rho_0 D 128286 128284     54\n",
      " 131203 62943        cutoff              0.0755        0.0734   720108    2.81%          rho_29 U 131203 131202     62\n",
      " 134201 64367        0.0745     8        0.0755        0.0734   737853    2.81%           rho_0 U 134201 134200     52\n",
      " 136820 65915        0.0734    14        0.0755        0.0734   753352    2.81%          rho_11 U 136820 136819     27\n",
      " 138766 67079        cutoff              0.0755        0.0734   768562    2.81%          rho_23 U 138766 138765     29\n",
      "Elapsed time = 137.94 sec. (167371.77 ticks, tree = 32.92 MB, solutions = 9)\n",
      " 140922 68324        0.0739    11        0.0755        0.0734   781061    2.81%           rho_0 U 140922 140921     56\n",
      " 142989 69607        cutoff              0.0755        0.0734   793504    2.81%           rho_8 U 142989 142988     55\n",
      " 145158 70632        0.0746    16        0.0755        0.0734   806605    2.81%           rho_0 D 145158 145156     94\n",
      " 147368 72010        0.0749     6        0.0755        0.0734   819799    2.81%          rho_17 D 147368 147366     75\n",
      " 149379 73258        0.0751     5        0.0755        0.0734   836767    2.81%           rho_0 U 149379 149378     46\n",
      " 151560 74369        0.0734    15        0.0755        0.0734   850113    2.81%           rho_0 U 151560 151559     47\n",
      " 153880 75435        0.0751     5        0.0755        0.0734   861571    2.81%          rho_26 D 153880 153878     24\n",
      " 155956 76768        0.0743     8        0.0755        0.0734   875568    2.81%           rho_0 U 155956 155955     72\n",
      " 157995 77916        0.0743     8        0.0755        0.0734   891710    2.81%           rho_0 U 157995 157994     92\n",
      " 160320 78842        0.0737    16        0.0755        0.0734   903346    2.81%           rho_0 D 160320 160318     33\n",
      "Elapsed time = 170.02 sec. (205532.99 ticks, tree = 38.28 MB, solutions = 9)\n",
      " 162926 80236        0.0734    16        0.0755        0.0734   917645    2.81%          rho_11 U 162926 162924     64\n",
      " 164896 81406        0.0740    20        0.0755        0.0734   931554    2.81%           rho_5 D 164896 164895     28\n",
      " 166975 82377        cutoff              0.0755        0.0734   944894    2.81%          rho_13 U 166975 166974     34\n",
      " 168837 83462        cutoff              0.0755        0.0734   959885    2.81%          rho_17 U 168837 168836     56\n",
      " 170677 84487        0.0745     5        0.0755        0.0734   976613    2.81%          rho_18 D 170677 170675     66\n",
      " 172710 85401        cutoff              0.0755        0.0734   989223    2.81%           rho_8 U 172710 172709     60\n",
      " 174922 86509        0.0740    22        0.0755        0.0734  1001999    2.81%           rho_1 N 174922 174921     16\n",
      " 177060 87779        0.0743    13        0.0755        0.0734  1014058    2.81%          rho_23 D 177060 177058     73\n",
      " 179365 89146        0.0734    10        0.0755        0.0734  1026819    2.81%          rho_11 U 179365 179321     81\n",
      "\n",
      "User cuts applied:  2153\n",
      "\n",
      "Root node processing (before b&c):\n",
      "  Real time             =    0.08 sec. (1.65 ticks)\n",
      "Sequential b&c:\n",
      "  Real time             =  199.94 sec. (242790.10 ticks)\n",
      "                          ------------\n",
      "Total (root+branch&cut) =  200.02 sec. (242791.75 ticks)\n",
      "+----------------------------------------------+------------------+-----------+\n",
      "| Pr(Y = +1) = 1.0/(1.0 + exp(-(-7 + score))   |                  |           |\n",
      "| ============================================ | ================ | ========= |\n",
      "| p_violence>=1                                |         2 points |   + ..... |\n",
      "| p_arrest>=2                                  |         1 points |   + ..... |\n",
      "| p_arrest>=5                                  |         1 points |   + ..... |\n",
      "| p_charges>=1                                 |         1 points |   + ..... |\n",
      "| current_violence>=1                          |         1 points |   + ..... |\n",
      "| ============================================ | ================ | ========= |\n",
      "| ADD POINTS FROM ROWS 1 to 5                  |            SCORE |   = ..... |\n",
      "+----------------------------------------------+------------------+-----------+\n",
      "model_id, score_thresholds 0 {'rank_abs': [0]}\n",
      "get_disparity_predefined_group()\n",
      "setting c0 = 0.0 to ensure that intercept is not penalized\n",
      "09/11/19 @ 04:15 PM | 1301 rows in lookup table\n",
      "09/11/19 @ 04:15 PM | ------------------------------------------------------------\n",
      "09/11/19 @ 04:15 PM | runnning initialization procedure\n",
      "09/11/19 @ 04:15 PM | ------------------------------------------------------------\n",
      "09/11/19 @ 04:15 PM | CPA produced 2 cuts\n",
      "09/11/19 @ 04:15 PM | running naive rounding on 105 solutions\n",
      "09/11/19 @ 04:15 PM | best objective value: 0.0755\n",
      "09/11/19 @ 04:15 PM | rounding produced 5 integer solutions\n",
      "09/11/19 @ 04:15 PM | best objective value is 0.0787\n",
      "09/11/19 @ 04:15 PM | running sequential rounding on 105 solutions\n",
      "09/11/19 @ 04:15 PM | best objective value: 0.0755\n",
      "09/11/19 @ 04:15 PM | sequential rounding produced 6 integer solutions\n",
      "09/11/19 @ 04:15 PM | best objective value: 0.0769\n",
      "09/11/19 @ 04:15 PM | polishing 11 solutions\n",
      "09/11/19 @ 04:15 PM | best objective value: 0.0769\n",
      "09/11/19 @ 04:15 PM | polishing produced 5 integer solutions\n",
      "09/11/19 @ 04:15 PM | initialization produced 12 feasible solutions\n",
      "09/11/19 @ 04:15 PM | best objective value: 0.0769\n",
      "09/11/19 @ 04:15 PM | ------------------------------------------------------------\n",
      "09/11/19 @ 04:15 PM | completed initialization procedure\n",
      "09/11/19 @ 04:15 PM | ------------------------------------------------------------\n",
      "09/11/19 @ 04:15 PM | 1301 rows in lookup table\n",
      "CPXPARAM_Read_DataCheck                          1\n",
      "CPXPARAM_Threads                                 1\n",
      "CPXPARAM_Parallel                                1\n",
      "CPXPARAM_RandomSeed                              0\n",
      "CPXPARAM_TimeLimit                               200\n",
      "CPXPARAM_MIP_Tolerances_LowerCutoff              0.074087476574098782\n",
      "CPXPARAM_MIP_Tolerances_UpperCutoff              0.076906750487940059\n"
     ]
    },
    {
     "name": "stderr",
     "output_type": "stream",
     "text": [
      "Warning: Control callbacks may disable some MIP features.\n"
     ]
    },
    {
     "name": "stdout",
     "output_type": "stream",
     "text": [
      "Lazy constraint(s) or lazy constraint callback is present.\n",
      "    Disabling dual reductions (CPX_PARAM_REDUCE) in presolve.\n",
      "    Disabling non-linear reductions (CPX_PARAM_PRELINEAR) in presolve.\n",
      "         Disabling repeat represolve because of lazy constraint/incumbent callback.\n",
      "09/11/19 @ 04:15 PM | adding 249 initial cuts\n",
      "1 of 1 MIP starts provided solutions.\n",
      "MIP start 'mip_start_0' defined initial solution with objective 0.0769.\n",
      "Tried aggregator 1 time.\n",
      "Reduced MIP has 32 rows, 64 columns, and 123 nonzeros.\n",
      "Reduced MIP has 30 binaries, 32 generals, 0 SOSs, and 0 indicators.\n",
      "Presolve time = 0.00 sec. (0.07 ticks)\n",
      "Probing time = 0.00 sec. (0.02 ticks)\n",
      "MIP emphasis: balance optimality and feasibility.\n",
      "MIP search method: traditional branch-and-cut.\n",
      "Parallel mode: none, using 1 thread.\n",
      "Root relaxation solution time = 0.00 sec. (0.04 ticks)\n",
      "\n",
      "        Nodes                                         Cuts/\n",
      "   Node  Left     Objective  IInf  Best Integer    Best Bound    ItCnt     Gap         Variable B NodeID Parent  Depth\n",
      "\n",
      "*     0+    0                            0.0769        0.0740             3.80%\n",
      "      0     0        0.0741     1        0.0769        0.0741        1    3.67%\n",
      "      0     2        0.0741     4        0.0769        0.0741        1    3.67%                        0             0\n",
      "Elapsed time = 0.09 sec. (1.38 ticks, tree = 0.01 MB, solutions = 1)\n",
      "*  1377   689      integral     0        0.0763        0.0741     5112    2.95%\n",
      "   1720   836        0.0757     6        0.0763        0.0741     6970    2.95%          rho_12 D   1720   1718     24\n",
      "   2697  1299        0.0750     3        0.0763        0.0741    11331    2.95%          rho_11 U   2697   2695     42\n",
      "   3614  1673        0.0743    11        0.0763        0.0741    14812    2.95%          rho_11 D   3614   3613     62\n",
      "   4382  2003        0.0741     4        0.0763        0.0741    18746    2.95%           rho_0 D   4382   4380     93\n",
      "   5105  2327        0.0741     1        0.0763        0.0741    22938    2.95%          rho_11 U   5105   5103     62\n",
      "   5830  2663        0.0741    13        0.0763        0.0741    27116    2.95%          rho_11 D   5830   5829     30\n",
      "   6562  3081        0.0747     7        0.0763        0.0741    30575    2.95%          rho_12 D   6562   6561     82\n",
      "   7300  3410        0.0759    13        0.0763        0.0741    33786    2.95%          rho_10 D   7300   7299     11\n",
      "*  7560+ 3462                            0.0762        0.0741             2.78%\n",
      "   7920  3625        0.0747    10        0.0762        0.0741    36938    2.78%          rho_11 U   7920   7918     43\n",
      "*  8000+ 3661                            0.0762        0.0741             2.74%\n",
      "  10416  4678        0.0752     3        0.0762        0.0741    50200    2.74%          rho_26 U  10416  10374     64\n",
      "Elapsed time = 5.39 sec. (3104.43 ticks, tree = 1.48 MB, solutions = 4)\n",
      "  12767  5716        0.0755     3        0.0762        0.0741    62372    2.74%           rho_2 D  12767  12765     26\n",
      "  15051  6890        cutoff              0.0762        0.0741    73695    2.74%           rho_0 U  15051  15050     46\n",
      "  17037  8030        cutoff              0.0762        0.0741    84537    2.74%           rho_2 U  17037  17036     33\n",
      "  18812  8827        cutoff              0.0762        0.0741    95022    2.74%           rho_0 U  18812  18811     38\n",
      "  20923  9517        cutoff              0.0762        0.0741   103339    2.74%           rho_0 D  20923  20921     37\n",
      "  22607 10446        cutoff              0.0762        0.0741   112056    2.74%           rho_0 U  22607  22606     26\n",
      "  24250 11109        0.0741    13        0.0762        0.0741   120818    2.74%           rho_0 D  24250  24248     48\n",
      "  25824 11857        0.0741     2        0.0762        0.0741   129017    2.74%           rho_5 U  25824  25823     33\n",
      "  27412 12407        cutoff              0.0762        0.0741   138603    2.74%           rho_2 U  27412  27411     91\n",
      "  29073 13206        0.0741     4        0.0762        0.0741   147584    2.74%           rho_0 D  29073  28950     46\n",
      "Elapsed time = 20.41 sec. (12643.91 ticks, tree = 4.34 MB, solutions = 4)\n",
      "  30750 14337        0.0758     3        0.0762        0.0741   155429    2.74%          rho_22 D  30750  30748    112\n",
      "  32516 14929        0.0741     2        0.0762        0.0741   164520    2.74%           rho_0 D  32516  32514     89\n",
      "  34160 15659        0.0760     3        0.0762        0.0741   173989    2.74%          rho_24 D  34160  34158     41\n",
      "  35702 16253        0.0761     6        0.0762        0.0741   181836    2.74%           rho_0 D  35702  35700     61\n",
      "  37136 16921        0.0761     7        0.0762        0.0741   189417    2.74%          rho_23 U  37136  37135     22\n",
      "  38674 17529        0.0757     6        0.0762        0.0741   195908    2.74%          rho_28 U  38674  38673     20\n",
      "  40009 18335        0.0746    14        0.0762        0.0741   203270    2.74%           rho_5 D  40009  40008     52\n",
      "  41222 19110        0.0741    10        0.0762        0.0741   210606    2.74%          rho_11 D  41222  41221     56\n",
      "  42349 19837        0.0741    11        0.0762        0.0741   217812    2.74%           rho_0 D  42349  42347     35\n",
      "  43440 20457        0.0743    10        0.0762        0.0741   224916    2.74%          rho_11 D  43440  43439     41\n",
      "Elapsed time = 31.30 sec. (22187.83 ticks, tree = 7.35 MB, solutions = 4)\n",
      "  44670 20967        0.0745     6        0.0762        0.0741   230523    2.74%          rho_11 D  44670  44669     48\n",
      "  46175 21473        0.0762     4        0.0762        0.0741   237936    2.74%          rho_11 N  46175  46173     63\n",
      "  47638 22042        0.0761     2        0.0762        0.0741   245034    2.74%           rho_0 D  47638  47637     67\n",
      "  48952 22702        0.0749     5        0.0762        0.0741   252777    2.74%          rho_11 D  48952  48950     44\n",
      "  50301 23442        0.0749     7        0.0762        0.0741   259830    2.74%          rho_13 D  50301  50299     56\n",
      "  51761 24203        0.0753     6        0.0762        0.0741   265930    2.74%          rho_13 D  51761  51759     48\n",
      "  53250 24766        0.0748     5        0.0762        0.0741   271501    2.74%          rho_11 D  53250  53249     57\n",
      "  54435 25270        0.0747     7        0.0762        0.0741   280167    2.74%          rho_20 D  54435  54434     60\n",
      "  55560 25760        0.0743    12        0.0762        0.0741   289578    2.74%          rho_11 D  55560  55559     66\n",
      "  56863 26381        0.0749     8        0.0762        0.0741   296789    2.74%          rho_11 D  56863  56862    102\n",
      "Elapsed time = 42.66 sec. (31732.57 ticks, tree = 9.31 MB, solutions = 4)\n",
      "  58137 27076        0.0753     9        0.0762        0.0741   303176    2.74%          rho_17 U  58137  58105     21\n",
      "  59258 27750        0.0747    11        0.0762        0.0741   309277    2.74%          rho_11 D  59258  59257     24\n",
      "  60230 28215        0.0762     4        0.0762        0.0741   315311    2.74%           rho_2 D  60230  60229     27\n",
      "  61627 28678        cutoff              0.0762        0.0741   322111    2.74%          rho_11 U  61627  37676     25\n",
      "  62785 29159        cutoff              0.0762        0.0741   329061    2.74%           rho_8 D  62785  62783     38\n",
      "  63918 29866        0.0743    12        0.0762        0.0741   335732    2.74%           rho_0 D  63918  63916     51\n",
      "  65121 30402        cutoff              0.0762        0.0741   342466    2.74%           rho_3 U  65121  65120     28\n",
      "  66075 30976        0.0748    16        0.0762        0.0741   350268    2.74%           rho_0 U  66075  66074     34\n",
      "  67126 31495        0.0756     9        0.0762        0.0741   356340    2.74%           rho_1 D  67126  67125     34\n",
      "  68362 32003        0.0761     7        0.0762        0.0741   362369    2.74%          rho_26 D  68362  68361     65\n",
      "Elapsed time = 52.16 sec. (41276.71 ticks, tree = 11.26 MB, solutions = 4)\n",
      "  69504 32449        0.0756     9        0.0762        0.0741   367910    2.74%          rho_28 D  69504  69503     23\n",
      "  70391 32811        0.0741     9        0.0762        0.0741   375526    2.74%          rho_11 D  70391  70390     48\n"
     ]
    },
    {
     "name": "stdout",
     "output_type": "stream",
     "text": [
      "  71515 33313        0.0744    10        0.0762        0.0741   381435    2.74%          rho_11 U  71515  71513     57\n",
      "* 71997 33499      integral     0        0.0762        0.0741   383509    2.73%\n",
      "  72623 33846        0.0741    10        0.0762        0.0741   387522    2.73%           rho_0 D  72623  72621     31\n",
      "  73794 34487        0.0741     4        0.0762        0.0741   393173    2.73%          rho_11 U  73794  73792     45\n",
      "  75090 35177        0.0741     9        0.0762        0.0741   397634    2.73%          rho_11 D  75090  75089     72\n",
      "  76207 35713        cutoff              0.0762        0.0741   401733    2.73%          rho_14 U  76207  76206     35\n",
      "  77337 36276        0.0741     6        0.0762        0.0741   407829    2.73%          rho_11 U  77337  77335     32\n",
      "  78195 36703        0.0743     7        0.0762        0.0741   414405    2.73%           rho_0 D  78195  78193     25\n",
      "  79322 37216        0.0762     7        0.0762        0.0741   421523    2.73%          rho_29 D  79322  79320     62\n",
      "Elapsed time = 61.25 sec. (50819.33 ticks, tree = 14.49 MB, solutions = 5)\n",
      "  80522 37716        0.0745     9        0.0762        0.0741   427146    2.73%          rho_23 D  80522  80521     53\n",
      "  81661 37966        cutoff              0.0762        0.0741   432080    2.73%           rho_0 U  81661  81660     77\n",
      "  82766 38245        0.0754     8        0.0762        0.0741   436913    2.73%          rho_30 U  82766  82764     79\n",
      "  83865 38525        cutoff              0.0762        0.0741   441449    2.73%          rho_18 U  83865  83864     79\n",
      "  84933 38789        0.0755     7        0.0762        0.0741   445937    2.73%          rho_14 D  84933  84931     85\n",
      "  85988 39050        0.0743     7        0.0762        0.0741   450754    2.73%           rho_0 D  85988  85986     71\n",
      "  87023 39333        0.0755     7        0.0762        0.0741   455478    2.73%           rho_9 D  87023  87021     66\n",
      "  88105 39600        cutoff              0.0762        0.0741   459938    2.73%           rho_0 U  88105  88103     60\n",
      "  89195 39857        0.0741    10        0.0762        0.0741   464396    2.73%          rho_12 D  89195  73958     59\n",
      "  90275 40128        0.0757     1        0.0762        0.0741   468905    2.73%          rho_17 U  90275  90274     69\n",
      "Elapsed time = 69.67 sec. (60362.04 ticks, tree = 15.56 MB, solutions = 5)\n",
      "  91324 40386        0.0755     7        0.0762        0.0741   473427    2.73%          rho_14 D  91324  91322     53\n",
      "  92386 40668        0.0758     7        0.0762        0.0741   478196    2.73%          rho_26 D  92386  92384     43\n",
      "  93361 41142        0.0741    10        0.0762        0.0741   484070    2.73%           rho_5 D  93361  93360     41\n",
      "  94202 41640        0.0752     9        0.0762        0.0741   491683    2.73%           rho_9 D  94202  94200     24\n",
      "  95217 42211        0.0741     8        0.0762        0.0741   497332    2.73%           rho_0 D  95217  95215     73\n",
      "  96138 42765        0.0761     3        0.0762        0.0741   504225    2.73%          rho_13 D  96138  96137     36\n",
      "  97068 43264        0.0749    13        0.0762        0.0741   510770    2.73%          rho_11 D  97068  97067    100\n",
      "  98015 43709        cutoff              0.0762        0.0741   517571    2.73%          rho_17 U  98015  98014     56\n",
      "  98962 44048        0.0749    13        0.0762        0.0741   523215    2.73%          rho_11 D  98962  98960     20\n",
      "  99980 44500        0.0757     9        0.0762        0.0741   529087    2.73%          rho_17 D  99980  99979     24\n",
      "Elapsed time = 77.73 sec. (69903.37 ticks, tree = 17.16 MB, solutions = 5)\n",
      " 100835 44829        0.0752    16        0.0762        0.0741   535472    2.73%          rho_30 U 100835  60656     36\n",
      " 101801 45140        0.0754     2        0.0762        0.0741   541206    2.73%          rho_12 U 101801 101799     24\n",
      " 102825 45409        0.0741     4        0.0762        0.0741   546175    2.73%           rho_0 D 102825 102823     54\n",
      " 103772 45813        0.0755     8        0.0762        0.0741   552392    2.73%           rho_6 D 103772 103771     19\n",
      " 104687 46349        cutoff              0.0762        0.0741   558148    2.73%           rho_6 U 104687 104685     22\n",
      " 105587 46712        0.0753     7        0.0762        0.0741   564506    2.73%           rho_0 U 105587 105586     32\n",
      " 106454 47366        0.0741     6        0.0762        0.0741   571389    2.73%          rho_11 U 106454 106452     41\n",
      " 107367 47918        0.0741     6        0.0762        0.0741   577641    2.73%          rho_11 U 107367 107365     61\n",
      " 108195 48409        0.0747     7        0.0762        0.0741   583190    2.73%          rho_17 D 108195 108193     59\n",
      " 109023 48939        0.0741     7        0.0762        0.0741   588894    2.73%           rho_0 D 109023 109021     93\n",
      "Elapsed time = 85.17 sec. (79446.10 ticks, tree = 18.82 MB, solutions = 5)\n",
      " 109788 49398        0.0760     7        0.0762        0.0741   594962    2.73%          rho_14 D 109788 109787     40\n",
      " 110590 49760        0.0742    14        0.0762        0.0741   600444    2.73%           rho_0 U 110590 110589     55\n",
      " 111310 50115        0.0754     6        0.0762        0.0741   607031    2.73%          rho_14 D 111310 111308     30\n",
      " 112134 50524        0.0742    16        0.0762        0.0741   612890    2.73%           rho_8 D 112134 111430     67\n",
      " 112958 50892        0.0749     7        0.0762        0.0741   618452    2.73%          rho_11 D 112958 112956     43\n",
      " 113729 51336        0.0741     8        0.0762        0.0741   624512    2.73%          rho_11 U 113729 113727     76\n",
      " 114501 51798        0.0748     7        0.0762        0.0741   630369    2.73%          rho_17 D 114501 114499     59\n",
      " 115282 52256        0.0752     2        0.0762        0.0741   636311    2.73%           rho_6 U 115282 115281     68\n",
      " 116044 52628        0.0741    12        0.0762        0.0741   642006    2.73%          rho_19 D 116044  46445     67\n",
      " 119007 54408        0.0741     6        0.0762        0.0741   664718    2.73%          rho_11 U 119007 119005     74\n",
      "Elapsed time = 94.50 sec. (91856.17 ticks, tree = 20.87 MB, solutions = 5)\n",
      " 122944 55841        0.0746     4        0.0762        0.0741   684966    2.73%           rho_3 D 122944 122943     74\n",
      " 127401 57468        0.0752     7        0.0762        0.0741   709704    2.73%          rho_17 D 127401 127399     53\n",
      " 131549 58450        0.0750    11        0.0762        0.0741   734917    2.73%          rho_13 D 131549 131547     71\n",
      " 135347 59356        0.0749    13        0.0762        0.0741   758385    2.73%          rho_19 U 135347  43733     89\n",
      " 138931 60891        0.0741    12        0.0762        0.0741   782710    2.73%          rho_19 D 138931  41550     67\n",
      " 142404 62434        cutoff              0.0762        0.0741   806281    2.73%           rho_3 D 142404 142401     69\n",
      " 145642 64565        0.0741    10        0.0762        0.0741   832955    2.73%          rho_12 D 145642 142524     55\n",
      " 149518 65640        0.0760     8        0.0762        0.0741   854318    2.73%          rho_26 D 149518 149517     77\n",
      " 153370 66813        0.0751    10        0.0762        0.0741   876763    2.73%           rho_6 D 153370 153369     36\n",
      " 157074 68736        0.0741     6        0.0762        0.0741   900970    2.73%          rho_11 U 157074 157072     66\n",
      "Elapsed time = 123.64 sec. (130011.02 ticks, tree = 29.16 MB, solutions = 5)\n",
      " 160280 70674        0.0743    12        0.0762        0.0741   924355    2.73%          rho_11 U 160280 160278     37\n",
      " 163842 71666        0.0750     7        0.0762        0.0741   943670    2.73%          rho_13 D 163842 163840     97\n",
      " 167164 73257        0.0741     7        0.0762        0.0741   970078    2.73%           rho_0 D 167164 167162     59\n",
      " 170436 74833        0.0746     4        0.0762        0.0741   995577    2.73%          rho_11 U 170436 170434     60\n",
      " 173475 76436        0.0741     7        0.0762        0.0741  1019671    2.73%           rho_0 D 173475 173473     54\n",
      " 176931 77990        0.0741    15        0.0762        0.0741  1039456    2.73%           rho_0 D 176931 176929     47\n"
     ]
    },
    {
     "name": "stdout",
     "output_type": "stream",
     "text": [
      " 179726 79623        0.0755     3        0.0762        0.0741  1062327    2.73%          rho_17 D 179726 179724    113\n",
      " 182568 80971        0.0749     7        0.0762        0.0741  1082208    2.73%          rho_12 D 182568 182566     25\n",
      " 185146 82579        cutoff              0.0762        0.0741  1105008    2.73%          rho_14 U 185146 185145     58\n",
      " 187513 84002        0.0741     9        0.0762        0.0741  1130428    2.73%          rho_11 U 187513 187511     71\n",
      "Elapsed time = 162.20 sec. (168165.20 ticks, tree = 35.10 MB, solutions = 5)\n",
      " 190040 85262        0.0761     3        0.0762        0.0741  1153039    2.73%          rho_14 U 190040 190038     32\n",
      " 192968 86680        0.0744    18        0.0762        0.0741  1172777    2.73%          rho_15 U 192968 192630     14\n",
      " 195834 88096        0.0754     5        0.0762        0.0741  1193007    2.73%          rho_18 D 195834 195832     30\n",
      " 198854 89402        0.0754     5        0.0762        0.0741  1217123    2.73%          rho_23 U 198854 198853     21\n",
      " 202062 90633        cutoff              0.0762        0.0741  1242198    2.73%           rho_3 U 202062 202060     32\n",
      " 205579 92304        0.0753     6        0.0762        0.0741  1261364    2.73%          rho_11 D 205579 205577     37\n",
      " 208297 93639        0.0741    11        0.0762        0.0741  1284675    2.73%          rho_11 U 208297 208295     41\n",
      " 210485 94901        0.0741    17        0.0762        0.0741  1310744    2.73%          rho_11 D 210485 210484     35\n",
      " 213160 96245        0.0741    11        0.0762        0.0741  1328186    2.73%           rho_0 D 213160 213158     66\n",
      " 216504 97329        0.0761     4        0.0762        0.0741  1346944    2.73%          rho_23 D 216504 216503     30\n",
      "Elapsed time = 193.70 sec. (206325.73 ticks, tree = 40.47 MB, solutions = 5)\n",
      " 219707 98670        0.0741    11        0.0762        0.0741  1366015    2.73%           rho_0 D 219707 219705     63\n",
      " 223141 100064        0.0760     8        0.0762        0.0741  1383205    2.73%          rho_26 D 223141 223140     79\n",
      "\n",
      "User cuts applied:  1651\n",
      "\n",
      "Root node processing (before b&c):\n",
      "  Real time             =    0.09 sec. (1.54 ticks)\n",
      "Sequential b&c:\n",
      "  Real time             =  199.92 sec. (215060.95 ticks)\n",
      "                          ------------\n",
      "Total (root+branch&cut) =  200.02 sec. (215062.49 ticks)\n",
      "+----------------------------------------------+------------------+-----------+\n",
      "| Pr(Y = +1) = 1.0/(1.0 + exp(-(-7 + score))   |                  |           |\n",
      "| ============================================ | ================ | ========= |\n",
      "| p_violence>=1                                |         2 points |   + ..... |\n",
      "| p_arrest>=3                                  |         1 points |   + ..... |\n",
      "| p_arrest>=7                                  |         1 points |   + ..... |\n",
      "| p_charges>=1                                 |         1 points |   + ..... |\n",
      "| p_weapon>=1                                  |         1 points |   + ..... |\n",
      "| current_violence>=1                          |         1 points |   + ..... |\n",
      "| ============================================ | ================ | ========= |\n",
      "| ADD POINTS FROM ROWS 1 to 6                  |            SCORE |   = ..... |\n",
      "+----------------------------------------------+------------------+-----------+\n",
      "model_id, score_thresholds 0 {'rank_abs': [0]}\n",
      "get_disparity_predefined_group()\n",
      "setting c0 = 0.0 to ensure that intercept is not penalized\n",
      "09/11/19 @ 04:19 PM | 1301 rows in lookup table\n",
      "09/11/19 @ 04:19 PM | ------------------------------------------------------------\n",
      "09/11/19 @ 04:19 PM | runnning initialization procedure\n",
      "09/11/19 @ 04:19 PM | ------------------------------------------------------------\n",
      "09/11/19 @ 04:19 PM | CPA produced 2 cuts\n",
      "09/11/19 @ 04:19 PM | running naive rounding on 104 solutions\n",
      "09/11/19 @ 04:19 PM | best objective value: 0.0751\n",
      "09/11/19 @ 04:19 PM | rounding produced 5 integer solutions\n",
      "09/11/19 @ 04:19 PM | best objective value is 0.0770\n",
      "09/11/19 @ 04:19 PM | running sequential rounding on 104 solutions\n",
      "09/11/19 @ 04:19 PM | best objective value: 0.0751\n",
      "09/11/19 @ 04:19 PM | sequential rounding produced 6 integer solutions\n",
      "09/11/19 @ 04:19 PM | best objective value: 0.0758\n",
      "09/11/19 @ 04:19 PM | polishing 11 solutions\n",
      "09/11/19 @ 04:19 PM | best objective value: 0.0758\n",
      "09/11/19 @ 04:19 PM | polishing produced 4 integer solutions\n",
      "09/11/19 @ 04:19 PM | initialization produced 11 feasible solutions\n",
      "09/11/19 @ 04:19 PM | best objective value: 0.0758\n",
      "09/11/19 @ 04:19 PM | ------------------------------------------------------------\n",
      "09/11/19 @ 04:19 PM | completed initialization procedure\n",
      "09/11/19 @ 04:19 PM | ------------------------------------------------------------\n",
      "09/11/19 @ 04:19 PM | 1301 rows in lookup table\n",
      "CPXPARAM_Read_DataCheck                          1\n",
      "CPXPARAM_Threads                                 1\n",
      "CPXPARAM_Parallel                                1\n",
      "CPXPARAM_RandomSeed                              0\n",
      "CPXPARAM_TimeLimit                               200\n",
      "CPXPARAM_MIP_Tolerances_LowerCutoff              0.073724865294412009\n",
      "CPXPARAM_MIP_Tolerances_UpperCutoff              0.075756454083494199\n"
     ]
    },
    {
     "name": "stderr",
     "output_type": "stream",
     "text": [
      "Warning: Control callbacks may disable some MIP features.\n"
     ]
    },
    {
     "name": "stdout",
     "output_type": "stream",
     "text": [
      "Lazy constraint(s) or lazy constraint callback is present.\n",
      "    Disabling dual reductions (CPX_PARAM_REDUCE) in presolve.\n",
      "    Disabling non-linear reductions (CPX_PARAM_PRELINEAR) in presolve.\n",
      "         Disabling repeat represolve because of lazy constraint/incumbent callback.\n",
      "09/11/19 @ 04:19 PM | adding 250 initial cuts\n",
      "1 of 1 MIP starts provided solutions.\n",
      "MIP start 'mip_start_0' defined initial solution with objective 0.0758.\n",
      "Tried aggregator 1 time.\n",
      "Reduced MIP has 32 rows, 64 columns, and 123 nonzeros.\n",
      "Reduced MIP has 30 binaries, 32 generals, 0 SOSs, and 0 indicators.\n",
      "Presolve time = 0.00 sec. (0.07 ticks)\n",
      "Probing time = 0.00 sec. (0.02 ticks)\n",
      "MIP emphasis: balance optimality and feasibility.\n",
      "MIP search method: traditional branch-and-cut.\n",
      "Parallel mode: none, using 1 thread.\n",
      "Root relaxation solution time = 0.00 sec. (0.04 ticks)\n",
      "\n",
      "        Nodes                                         Cuts/\n",
      "   Node  Left     Objective  IInf  Best Integer    Best Bound    ItCnt     Gap         Variable B NodeID Parent  Depth\n",
      "\n",
      "*     0+    0                            0.0758        0.0736             2.81%\n",
      "      0     0        0.0737     1        0.0758        0.0737        1    2.68%\n",
      "      0     2        0.0737     4        0.0758        0.0737        1    2.68%                        0             0\n",
      "Elapsed time = 0.11 sec. (1.38 ticks, tree = 0.01 MB, solutions = 1)\n",
      "   2220   936        0.0737     7        0.0758        0.0737     8597    2.68%          rho_30 D   2220   2219     24\n",
      "   3400  1429        0.0757     9        0.0758        0.0737    13823    2.68%           rho_6 D   3400   3399     16\n",
      "   4360  1767        0.0738    11        0.0758        0.0737    18757    2.68%          rho_21 D   4360   4348     21\n",
      "   5099  2049        0.0742    11        0.0758        0.0737    22761    2.68%          rho_16 D   5099   5097     18\n",
      "   5869  2248        cutoff              0.0758        0.0737    26530    2.68%          rho_23 D   5869   5868     27\n",
      "   6568  2531        0.0747     7        0.0758        0.0737    29868    2.68%          rho_11 D   6568   6567     23\n",
      "   7184  2758        0.0737    12        0.0758        0.0737    33457    2.68%          rho_16 U   7184   7182     13\n",
      "   7750  2986        0.0742    16        0.0758        0.0737    37238    2.68%          rho_19 D   7750   7749     16\n",
      "   8288  3216        0.0747    26        0.0758        0.0737    40451    2.68%           rho_1 D   8288   8286     13\n",
      "  10731  4250        0.0740     6        0.0758        0.0737    52120    2.68%           rho_0 D  10731  10729     68\n",
      "Elapsed time = 5.67 sec. (3105.44 ticks, tree = 1.35 MB, solutions = 1)\n",
      "  12902  5303        0.0750     9        0.0758        0.0737    62739    2.68%          rho_11 D  12902  12901     94\n",
      "  15034  6130        0.0754     5        0.0758        0.0737    72156    2.68%          rho_19 D  15034  15033     30\n",
      "  16805  6948        0.0757     1        0.0758        0.0737    81879    2.68%           rho_4 D  16805  16804     41\n",
      "  18646  7659        cutoff              0.0758        0.0737    90863    2.68%        alpha_19 D  18646  18644     19\n",
      "  20202  8173        0.0747     5        0.0758        0.0737    98662    2.68%           rho_5 D  20202  20200     28\n",
      "  21468  8752        0.0746     5        0.0758        0.0737   107064    2.68%           rho_5 D  21468  21466     29\n",
      "  22750  9232        0.0751     5        0.0758        0.0737   116473    2.68%          rho_17 D  22750  22748     60\n",
      "  24080  9784        0.0744    13        0.0758        0.0737   124849    2.68%          rho_20 D  24080  24078     64\n",
      "  25500 10256        0.0754     0        0.0758        0.0737   132349    2.68%           rho_0 U  25500  25499     47\n",
      "  26877 10854        cutoff              0.0758        0.0737   138693    2.68%          rho_29 U  26877  26876     29\n",
      "Elapsed time = 15.77 sec. (12649.25 ticks, tree = 3.72 MB, solutions = 1)\n",
      "  28100 11351        0.0741    17        0.0758        0.0737   145123    2.68%          rho_10 D  28100  28099     18\n",
      "  29330 11906        0.0754     9        0.0758        0.0737   151537    2.68%           rho_0 U  29330  29329     62\n",
      "  30638 12300        0.0741     5        0.0758        0.0737   157026    2.68%           rho_0 U  30638  30637     30\n",
      "  31952 13213        0.0744     8        0.0758        0.0737   162687    2.68%          rho_11 U  31952  31950     81\n",
      "  33047 13819        0.0750     6        0.0758        0.0737   169392    2.68%          rho_20 U  33047  33046     26\n",
      "  34299 14280        0.0754     6        0.0758        0.0737   174719    2.68%          rho_11 U  34299  34297    100\n",
      "  35360 14809        0.0744    12        0.0758        0.0737   181925    2.68%          rho_11 D  35360  35359     64\n",
      "  36401 15265        cutoff              0.0758        0.0737   189609    2.68%          rho_14 D  36401  36399     68\n",
      "  37335 15777        cutoff              0.0758        0.0737   198198    2.68%          rho_17 U  37335  37334     76\n",
      "  38389 16278        0.0746     4        0.0758        0.0737   205586    2.68%           rho_0 U  38389  38388     28\n",
      "Elapsed time = 24.25 sec. (22190.57 ticks, tree = 5.60 MB, solutions = 1)\n",
      "  39626 16678        cutoff              0.0758        0.0737   210666    2.68%          rho_10 D  39626  39625     22\n",
      "  40724 17248        0.0747    11        0.0758        0.0737   216720    2.68%          rho_21 U  40724  40723     16\n",
      "  41671 17621        0.0738     7        0.0758        0.0737   223085    2.68%           rho_0 U  41671  41670     70\n",
      "  42882 18130        0.0753     6        0.0758        0.0737   227589    2.68%           rho_0 D  42882  42880     25\n",
      "  44022 18589        0.0755     1        0.0758        0.0737   232989    2.68%          rho_15 D  44022  44021     29\n",
      "  45126 19097        0.0758     8        0.0758        0.0737   237799    2.68%          rho_21 D  45126  45125     25\n",
      "  46145 19541        0.0743     7        0.0758        0.0737   244250    2.68%          rho_13 D  46145  46143     35\n",
      "  47227 19877        cutoff              0.0758        0.0737   249415    2.68%          rho_13 U  47227  47226     67\n",
      "  48385 20339        cutoff              0.0758        0.0737   254893    2.68%          rho_13 U  48385  48384     53\n",
      "  49469 20739        0.0743     7        0.0758        0.0737   260875    2.68%          rho_13 D  49469  49467     80\n",
      "Elapsed time = 32.61 sec. (31730.40 ticks, tree = 7.87 MB, solutions = 1)\n",
      "  50470 21165        0.0755     9        0.0758        0.0737   266661    2.68%          rho_23 D  50470  50469     19\n",
      "  51447 21642        0.0748    10        0.0758        0.0737   272263    2.68%           rho_0 D  51447  51445     90\n",
      "  52281 22071        cutoff              0.0758        0.0737   278362    2.68%           rho_0 D  52281  52280     64\n",
      "  53219 22546        0.0748    11        0.0758        0.0737   283835    2.68%           rho_5 D  53219  53217     25\n",
      "  54161 23012        0.0757     7        0.0758        0.0737   289025    2.68%           rho_5 D  54161  54160     29\n",
      "  55139 23398        0.0746    11        0.0758        0.0737   294369    2.68%          rho_23 U  55139  55138     16\n",
      "  56162 23957        0.0741    11        0.0758        0.0737   298975    2.68%           rho_5 D  56162  56161     43\n",
      "  57011 24414        0.0745     4        0.0758        0.0737   305360    2.68%           rho_0 D  57011  57009     54\n",
      "  57928 24836        0.0752     5        0.0758        0.0737   310316    2.68%          rho_22 D  57928  57927     40\n",
      "  58819 25188        0.0742    15        0.0758        0.0737   315233    2.68%          rho_19 U  58819  18675     15\n",
      "Elapsed time = 41.94 sec. (41274.37 ticks, tree = 9.54 MB, solutions = 1)\n",
      "  59724 25593        0.0740    17        0.0758        0.0737   320001    2.68%          rho_23 U  59724  31553     18\n",
      "  60583 26011        0.0749     4        0.0758        0.0737   324899    2.68%          rho_11 D  60583  60582     52\n",
      "  61490 26482        0.0737     9        0.0758        0.0737   329998    2.68%           rho_5 U  61490  61488     44\n",
      "  62377 26873        0.0737    11        0.0758        0.0737   334745    2.68%          rho_11 U  62377  61473     37\n"
     ]
    },
    {
     "name": "stdout",
     "output_type": "stream",
     "text": [
      "  63222 27371        0.0756     7        0.0758        0.0737   339581    2.68%          rho_28 D  63222  63221     22\n",
      "  64272 27723        0.0743     1        0.0758        0.0737   343652    2.68%          rho_13 D  64272  64271     34\n",
      "  65262 27865        0.0752     5        0.0758        0.0737   347190    2.68%          rho_18 D  65262  65260     67\n",
      "  66268 28014        cutoff              0.0758        0.0737   350813    2.68%          rho_24 N  66268  66267     77\n",
      "  67247 28156        cutoff              0.0758        0.0737   354357    2.68%          rho_24 N  67247  67246    103\n",
      "  68221 28295        0.0757     5        0.0758        0.0737   357957    2.68%          rho_14 D  68221  68219     80\n",
      "Elapsed time = 49.09 sec. (50820.22 ticks, tree = 10.74 MB, solutions = 1)\n",
      "  69203 28437        0.0757     5        0.0758        0.0737   361557    2.68%          rho_14 D  69203  69201     84\n",
      "  70193 28580        0.0745     7        0.0758        0.0737   365370    2.68%          rho_11 D  70193  70191     69\n",
      "  71205 28722        cutoff              0.0758        0.0737   369186    2.68%          rho_14 U  71205  71204     57\n",
      "  72207 28866        0.0745     7        0.0758        0.0737   372846    2.68%          rho_11 D  72207  72205     69\n",
      "  73200 29004        0.0745     7        0.0758        0.0737   376505    2.68%          rho_11 D  73200  73198     74\n",
      "  74198 29140        0.0748     3        0.0758        0.0737   380165    2.68%          rho_13 U  74198  74197     98\n",
      "  75183 29333        0.0737     6        0.0758        0.0737   383931    2.68%          rho_11 U  75183  75181     68\n",
      "  76186 29492        cutoff              0.0758        0.0737   387719    2.68%          rho_27 U  76186  76185     68\n",
      "* 77050+29675                            0.0757        0.0737             2.64%\n",
      "  77060 29677        0.0748     7        0.0757        0.0737   392424    2.64%          rho_13 D  77060  77058     25\n",
      "  77774 30089        0.0752    12        0.0757        0.0737   396446    2.64%           rho_6 D  77774  77773     36\n",
      "Elapsed time = 55.28 sec. (60371.10 ticks, tree = 11.44 MB, solutions = 2)\n",
      "  78667 30713        0.0744     7        0.0757        0.0737   399906    2.64%          rho_11 D  78667  78000     34\n",
      "  79516 31160        0.0743    10        0.0757        0.0737   404080    2.64%           rho_5 D  79516  79515     31\n",
      "  80411 31576        0.0742    22        0.0757        0.0737   408340    2.64%          rho_10 D  80411  11430     21\n",
      "  81150 32064        0.0741    15        0.0757        0.0737   413759    2.64%           rho_6 U  81150  21008     18\n",
      "  81934 32489        0.0743     9        0.0757        0.0737   419207    2.64%           rho_6 D  81934  81933     41\n",
      "  82749 32943        0.0751     8        0.0757        0.0737   423840    2.64%           rho_0 D  82749  82747     23\n",
      "  83630 33366        0.0748    13        0.0757        0.0737   427840    2.64%           rho_5 D  83630  83629     56\n",
      "  84467 33780        0.0745    10        0.0757        0.0737   432512    2.64%           rho_5 U  84467  84465     65\n",
      "  85251 34304        0.0741    24        0.0757        0.0737   436578    2.64%          rho_30 U  85251  15601     18\n",
      "  86102 34647        cutoff              0.0757        0.0737   441269    2.64%           rho_0 U  86102  86101     63\n",
      "Elapsed time = 63.70 sec. (69912.92 ticks, tree = 14.63 MB, solutions = 2)\n",
      "  86910 35112        0.0737    14        0.0757        0.0737   445607    2.64%          rho_15 D  86910   7005      6\n",
      "  87505 35478        0.0749     9        0.0757        0.0737   450633    2.64%          rho_19 D  87505  87504     27\n",
      "  88089 35863        0.0752     5        0.0757        0.0737   455794    2.64%           rho_8 D  88089  88086    101\n",
      "  88638 36274        cutoff              0.0757        0.0737   461613    2.64%          rho_11 U  88638  88637     23\n",
      "  89407 36769        0.0738    11        0.0757        0.0737   465456    2.64%           rho_0 U  89407  89406     17\n",
      "  90087 37167        cutoff              0.0757        0.0737   469091    2.64%           rho_0 U  90087  90086     46\n",
      "  90720 37512        0.0756     3        0.0757        0.0737   473730    2.64%          rho_28 D  90720  90719     20\n",
      "  91386 37865        0.0748     5        0.0757        0.0737   478357    2.64%           rho_0 U  91386  91385     34\n",
      "  92034 38306        0.0750     9        0.0757        0.0737   482205    2.64%           rho_8 D  92034  92031    100\n",
      "  92739 38656        0.0742     9        0.0757        0.0737   486047    2.64%           rho_5 D  92739  92737     30\n",
      "Elapsed time = 74.13 sec. (79460.81 ticks, tree = 16.24 MB, solutions = 2)\n",
      "  93237 38991        0.0744    10        0.0757        0.0737   491653    2.64%           rho_5 U  93237  93235     42\n",
      "  93950 39466        0.0741    13        0.0757        0.0737   495116    2.64%          rho_19 D  93950  93949     20\n",
      "  94620 39831        0.0749     8        0.0757        0.0737   499056    2.64%           rho_0 U  94620  94619     26\n",
      "  95205 40233        0.0737    12        0.0757        0.0737   504223    2.64%          rho_23 D  95205  81802     29\n",
      "  95790 40512        0.0737    13        0.0757        0.0737   509002    2.64%           rho_0 D  95790  95788     25\n",
      "  96261 40896        0.0739    13        0.0757        0.0737   515956    2.64%           rho_0 U  96261  96260     34\n",
      "  96895 41361        0.0738    22        0.0757        0.0737   519707    2.64%          rho_15 U  96895  32929     15\n",
      "  97547 41809        0.0755     9        0.0757        0.0737   523014    2.64%          rho_18 D  97547  97546     30\n",
      "  98160 42147        0.0740    16        0.0757        0.0737   526929    2.64%           rho_5 U  98160  98159     58\n",
      " 100418 43719        0.0737    11        0.0757        0.0737   547036    2.64%          rho_11 U 100418 100416     67\n",
      "Elapsed time = 85.11 sec. (91874.12 ticks, tree = 18.30 MB, solutions = 2)\n",
      " 102764 44905        0.0753     7        0.0757        0.0737   566995    2.64%          rho_10 D 102764 102763     62\n",
      " 105162 46154        0.0737    13        0.0757        0.0737   586107    2.64%           rho_5 D 105162 105161     16\n",
      " 107202 47415        0.0750     8        0.0757        0.0737   609651    2.64%           rho_0 U 107202 107201     90\n",
      " 109552 48845        0.0744    11        0.0757        0.0737   627982    2.64%           rho_0 U 109552 109551     17\n",
      " 112016 50232        0.0737     9        0.0757        0.0737   644512    2.64%           rho_5 D 112016 112015     47\n",
      " 114489 51771        0.0737    11        0.0757        0.0737   661182    2.64%           rho_0 D 114489 114487     64\n",
      " 116620 53168        0.0737    13        0.0757        0.0737   683861    2.64%           rho_0 D 116620 116618     78\n",
      " 119160 54470        0.0757    14        0.0757        0.0737   700428    2.64%          rho_11 U 119160 119158     50\n",
      " 121559 55829        0.0738    20        0.0757        0.0737   717426    2.64%          rho_11 D 121559 121558     31\n",
      " 124114 56890        0.0737    13        0.0757        0.0737   735667    2.64%           rho_0 D 124114 124092     58\n",
      "Elapsed time = 122.53 sec. (130037.48 ticks, tree = 23.73 MB, solutions = 2)\n",
      " 126800 58377        0.0738    14        0.0757        0.0737   760100    2.64%           rho_0 D 126800 126798     37\n",
      " 128914 59997        0.0737    14        0.0757        0.0737   783558    2.64%           rho_5 D 128914 128775     25\n",
      " 131374 61387        0.0737    13        0.0757        0.0737   801062    2.64%           rho_0 D 131374 131372     39\n",
      " 133444 62624        0.0737    13        0.0757        0.0737   822872    2.64%          rho_11 U 133444 133442     66\n",
      " 135498 63744        0.0741    17        0.0757        0.0737   844563    2.64%          rho_11 D 135498 135497     27\n",
      " 137980 64900        0.0747     5        0.0757        0.0737   861467    2.64%          rho_27 D 137980 137979     30\n",
      " 140480 66242        0.0747     6        0.0757        0.0737   877124    2.64%           rho_0 D 140480 140479     57\n",
      " 143604 67324        0.0751     1        0.0757        0.0737   896202    2.64%          rho_30 D 143604 143603     89\n"
     ]
    },
    {
     "name": "stdout",
     "output_type": "stream",
     "text": [
      " 146952 69264        0.0738    14        0.0757        0.0737   911942    2.64%           rho_0 D 146952 146950     36\n",
      " 149241 70767        0.0737    13        0.0757        0.0737   928446    2.64%          rho_11 U 149241 134483     39\n",
      "Elapsed time = 152.92 sec. (168204.18 ticks, tree = 32.37 MB, solutions = 2)\n",
      "*150000+71110                            0.0757        0.0737             2.63%\n",
      " 151528 71898        0.0739    18        0.0757        0.0737   947177    2.63%          rho_19 D 151528 151527     13\n",
      " 153927 73376        0.0751     9        0.0757        0.0737   962458    2.63%           rho_4 D 153927 153925     64\n",
      " 156368 74967        0.0738    13        0.0757        0.0737   977655    2.63%          rho_15 U 156368  63185     22\n",
      " 158949 76270        0.0738    11        0.0757        0.0737   993208    2.63%           rho_6 D 158949 158362     26\n",
      " 161550 77660        0.0740    12        0.0757        0.0737  1008122    2.63%          rho_30 D 161550 161549     38\n",
      " 163998 79080        0.0752     7        0.0757        0.0737  1025008    2.63%          rho_27 U 163998 163996     34\n",
      " 166800 80205        0.0737    10        0.0757        0.0737  1042288    2.63%          rho_11 U 166800 166798     28\n",
      " 169025 81621        0.0750     6        0.0757        0.0737  1063294    2.63%           rho_3 D 169025 169023     75\n",
      " 171812 82581        cutoff              0.0757        0.0737  1078987    2.63%          rho_13 U 171812 171811     74\n",
      " 175184 83364        0.0750     6        0.0757        0.0737  1094393    2.63%           rho_4 D 175184 175183     95\n",
      "Elapsed time = 183.38 sec. (206364.22 ticks, tree = 37.68 MB, solutions = 3)\n",
      " 178217 84440        0.0740     9        0.0757        0.0737  1112376    2.63%          rho_19 D 178217 178216     45\n",
      " 180760 85191        cutoff              0.0757        0.0737  1132420    2.63%          rho_28 U 180760 180759     44\n",
      " 183240 86005        cutoff              0.0757        0.0737  1152249    2.63%          rho_28 U 183240 183239     94\n",
      " 185860 86917        0.0756     3        0.0757        0.0737  1172506    2.63%          rho_24 D 185860 185857     78\n",
      " 188308 88339        0.0739    11        0.0757        0.0737  1199618    2.63%          rho_11 D 188308 188307     51\n",
      "\n",
      "User cuts applied:  1833\n",
      "\n",
      "Root node processing (before b&c):\n",
      "  Real time             =    0.11 sec. (1.56 ticks)\n",
      "Sequential b&c:\n",
      "  Real time             =  199.91 sec. (226715.74 ticks)\n",
      "                          ------------\n",
      "Total (root+branch&cut) =  200.02 sec. (226717.30 ticks)\n",
      "+----------------------------------------------+------------------+-----------+\n",
      "| Pr(Y = +1) = 1.0/(1.0 + exp(-(-7 + score))   |                  |           |\n",
      "| ============================================ | ================ | ========= |\n",
      "| p_violence>=1                                |         2 points |   + ..... |\n",
      "| sex                                          |         1 points |   + ..... |\n",
      "| p_arrest>=2                                  |         1 points |   + ..... |\n",
      "| p_arrest>=5                                  |         1 points |   + ..... |\n",
      "| current_violence>=1                          |         1 points |   + ..... |\n",
      "| ============================================ | ================ | ========= |\n",
      "| ADD POINTS FROM ROWS 1 to 5                  |            SCORE |   = ..... |\n",
      "+----------------------------------------------+------------------+-----------+\n",
      "model_id, score_thresholds 0 {'rank_abs': [0]}\n",
      "get_disparity_predefined_group()\n",
      "setting c0 = 0.0 to ensure that intercept is not penalized\n",
      "09/11/19 @ 04:22 PM | 1301 rows in lookup table\n",
      "09/11/19 @ 04:22 PM | ------------------------------------------------------------\n",
      "09/11/19 @ 04:22 PM | runnning initialization procedure\n",
      "09/11/19 @ 04:22 PM | ------------------------------------------------------------\n",
      "09/11/19 @ 04:22 PM | CPA produced 2 cuts\n",
      "09/11/19 @ 04:22 PM | running naive rounding on 106 solutions\n",
      "09/11/19 @ 04:22 PM | best objective value: 0.0757\n",
      "09/11/19 @ 04:22 PM | rounding produced 5 integer solutions\n",
      "09/11/19 @ 04:22 PM | best objective value is 0.0779\n",
      "09/11/19 @ 04:22 PM | running sequential rounding on 106 solutions\n",
      "09/11/19 @ 04:22 PM | best objective value: 0.0757\n",
      "09/11/19 @ 04:23 PM | sequential rounding produced 6 integer solutions\n",
      "09/11/19 @ 04:23 PM | best objective value: 0.0765\n",
      "09/11/19 @ 04:23 PM | polishing 11 solutions\n",
      "09/11/19 @ 04:23 PM | best objective value: 0.0765\n",
      "09/11/19 @ 04:23 PM | polishing produced 5 integer solutions\n",
      "09/11/19 @ 04:23 PM | initialization produced 11 feasible solutions\n",
      "09/11/19 @ 04:23 PM | best objective value: 0.0765\n",
      "09/11/19 @ 04:23 PM | ------------------------------------------------------------\n",
      "09/11/19 @ 04:23 PM | completed initialization procedure\n",
      "09/11/19 @ 04:23 PM | ------------------------------------------------------------\n",
      "09/11/19 @ 04:23 PM | 1301 rows in lookup table\n",
      "CPXPARAM_Read_DataCheck                          1\n",
      "CPXPARAM_Threads                                 1\n",
      "CPXPARAM_Parallel                                1\n",
      "CPXPARAM_RandomSeed                              0\n",
      "CPXPARAM_TimeLimit                               200\n",
      "CPXPARAM_MIP_Tolerances_LowerCutoff              0.073927694126157989\n",
      "CPXPARAM_MIP_Tolerances_UpperCutoff              0.076480362694326912\n"
     ]
    },
    {
     "name": "stderr",
     "output_type": "stream",
     "text": [
      "Warning: Control callbacks may disable some MIP features.\n"
     ]
    },
    {
     "name": "stdout",
     "output_type": "stream",
     "text": [
      "Lazy constraint(s) or lazy constraint callback is present.\n",
      "    Disabling dual reductions (CPX_PARAM_REDUCE) in presolve.\n",
      "    Disabling non-linear reductions (CPX_PARAM_PRELINEAR) in presolve.\n",
      "         Disabling repeat represolve because of lazy constraint/incumbent callback.\n",
      "09/11/19 @ 04:23 PM | adding 249 initial cuts\n",
      "1 of 1 MIP starts provided solutions.\n",
      "MIP start 'mip_start_0' defined initial solution with objective 0.0765.\n",
      "Tried aggregator 1 time.\n",
      "Reduced MIP has 32 rows, 64 columns, and 123 nonzeros.\n",
      "Reduced MIP has 30 binaries, 32 generals, 0 SOSs, and 0 indicators.\n",
      "Presolve time = 0.00 sec. (0.07 ticks)\n",
      "Probing time = 0.00 sec. (0.02 ticks)\n",
      "MIP emphasis: balance optimality and feasibility.\n",
      "MIP search method: traditional branch-and-cut.\n",
      "Parallel mode: none, using 1 thread.\n",
      "Root relaxation solution time = 0.00 sec. (0.04 ticks)\n",
      "\n",
      "        Nodes                                         Cuts/\n",
      "   Node  Left     Objective  IInf  Best Integer    Best Bound    ItCnt     Gap         Variable B NodeID Parent  Depth\n",
      "\n",
      "*     0+    0                            0.0765        0.0738             3.47%\n",
      "      0     0        0.0739     1        0.0765        0.0739        1    3.34%\n",
      "      0     2        0.0739     4        0.0765        0.0739        1    3.34%                        0             0\n",
      "Elapsed time = 0.09 sec. (1.38 ticks, tree = 0.01 MB, solutions = 1)\n",
      "   2252  1069        0.0739    11        0.0765        0.0739     8668    3.34%          rho_10 U   2252   1849     21\n",
      "   3344  1534        0.0763     1        0.0765        0.0739    13768    3.34%           rho_5 U   3344   3343     47\n",
      "   4200  1854        0.0764     0        0.0765        0.0739    18251    3.34%          rho_19 U   4200   4199     20\n",
      "   4952  2131        0.0739     4        0.0765        0.0739    22399    3.34%           rho_7 D   4952   4947     16\n",
      "   5540  2358        0.0747     5        0.0765        0.0739    26271    3.34%          rho_11 D   5540   5539     44\n",
      "   6147  2597        0.0747    15        0.0765        0.0739    30085    3.34%          rho_20 U   6147   6146     12\n",
      "   6695  2878        0.0744     5        0.0765        0.0739    33372    3.34%          rho_17 D   6695   6693     25\n",
      "   7308  3138        cutoff              0.0765        0.0739    36063    3.34%          rho_24 U   7308   7307     37\n",
      "*  7450+ 3146                            0.0764        0.0739             3.27%\n",
      "*  7460+ 2753                            0.0761        0.0739             2.82%\n",
      "   7778  2879        0.0744     5        0.0761        0.0739    38225    2.82%           rho_3 D   7778   7776     22\n",
      "   9800  3538        0.0758     4        0.0761        0.0739    48447    2.82%           rho_3 U   9800   9799     29\n",
      "Elapsed time = 5.98 sec. (3104.08 ticks, tree = 1.04 MB, solutions = 3)\n",
      "  11843  4242        cutoff              0.0761        0.0739    57416    2.82%          rho_12 U  11843  11842     29\n",
      "* 12372  4426      integral     0        0.0760        0.0739    60448    2.76%\n",
      "  13452  4904        0.0756     7        0.0760        0.0739    66868    2.76%           rho_4 D  13452  13450     19\n",
      "  15122  5482        0.0747     9        0.0760        0.0739    76282    2.76%          rho_19 U  15122  15121     22\n",
      "  16893  5979        0.0752     6        0.0760        0.0739    84568    2.76%          rho_23 U  16893  16892     26\n",
      "  18404  6561        0.0749    16        0.0760        0.0739    92717    2.76%           rho_1 D  18404  18403     17\n",
      "* 19000+ 6823                            0.0760        0.0739             2.74%\n",
      "  19753  7155        0.0754    21        0.0760        0.0739   100253    2.74%          rho_21 U  19753  19752     14\n",
      "  20929  7566        0.0750     6        0.0760        0.0739   108139    2.74%           rho_3 D  20929  20928     33\n",
      "* 22000+ 7976                            0.0760        0.0739             2.73%\n",
      "  22206  8045        cutoff              0.0760        0.0739   115112    2.73%          rho_12 U  22206  22205     30\n",
      "  23374  8451        cutoff              0.0760        0.0739   121969    2.73%          rho_24 U  23374  23373     29\n",
      "  24564  8970        0.0753    11        0.0760        0.0739   128285    2.73%          rho_15 D  24564  24563     27\n",
      "Elapsed time = 16.52 sec. (12644.58 ticks, tree = 3.22 MB, solutions = 6)\n",
      "  25862  9418        cutoff              0.0760        0.0739   134104    2.73%           rho_4 U  25862  25860     25\n",
      "  26904  9782        0.0757     3        0.0760        0.0739   140885    2.73%          rho_14 D  26904  26902     29\n",
      "  27998 10228        cutoff              0.0760        0.0739   147583    2.73%          rho_24 D  27998  27996     25\n",
      "  29201 10787        0.0739     1        0.0760        0.0739   153481    2.73%           rho_5 U  29201  29097     28\n",
      "* 29740 10948      integral     0        0.0760        0.0739   155318    2.71%\n",
      "  30416 11236        0.0758     5        0.0760        0.0739   158295    2.71%           rho_8 D  30416  30414     39\n",
      "  31584 11740        cutoff              0.0760        0.0739   163973    2.71%           rho_0 U  31584  31583     49\n",
      "  32782 12243        0.0740     7        0.0760        0.0739   169647    2.71%          rho_29 D  32782  32781     36\n",
      "  33890 12703        0.0747     4        0.0760        0.0739   175280    2.71%           rho_0 D  33890  33888     56\n",
      "  34850 13106        0.0754     0        0.0760        0.0739   181475    2.71%          rho_27 D  34850  34848     29\n",
      "  35951 13595        cutoff              0.0760        0.0739   186845    2.71%          rho_11 U  35951  35950     27\n",
      "Elapsed time = 26.19 sec. (22187.96 ticks, tree = 4.84 MB, solutions = 7)\n",
      "  36850 13994        0.0757     7        0.0760        0.0739   193036    2.71%          rho_19 D  36850  36848     24\n",
      "  37805 14423        cutoff              0.0760        0.0739   198347    2.71%           rho_2 U  37805  37804     28\n",
      "  38812 14997        0.0752    12        0.0760        0.0739   203703    2.71%          rho_23 D  38812  38810     20\n",
      "  39778 15460        0.0739     8        0.0760        0.0739   209035    2.71%          rho_11 U  39778  39776     33\n",
      "  40763 16001        0.0739    19        0.0760        0.0739   214235    2.71%           rho_0 U  40763  40762     19\n",
      "  41704 16465        cutoff              0.0760        0.0739   219030    2.71%          rho_24 D  41704  41703     37\n",
      "  42560 17043        0.0751    11        0.0760        0.0739   223637    2.71%           rho_0 U  42560  42559     69\n",
      "  43330 17448        0.0740    17        0.0760        0.0739   228188    2.71%           rho_0 U  43330  43329     19\n",
      "  44095 17767        0.0756     7        0.0760        0.0739   233056    2.71%          rho_11 D  44095  44093     23\n",
      "  44979 18189        cutoff              0.0760        0.0739   237496    2.71%           rho_5 U  44979  44978     21\n",
      "Elapsed time = 36.33 sec. (31743.52 ticks, tree = 7.26 MB, solutions = 7)\n",
      "  45840 18650        0.0751    11        0.0760        0.0739   242923    2.71%          rho_12 D  45840  45839     25\n",
      "  46736 18990        cutoff              0.0760        0.0739   248504    2.71%          rho_20 U  46736  46735     42\n",
      "  47541 19372        0.0739    17        0.0760        0.0739   254306    2.71%          rho_10 D  47541  47540     14\n",
      "  48461 19783        0.0756     3        0.0760        0.0739   259316    2.71%           rho_0 U  48461  48460     32\n",
      "  49374 20184        0.0755    10        0.0760        0.0739   263854    2.71%          rho_16 U  49374  49372     24\n",
      "  50180 20560        0.0742    14        0.0760        0.0739   268829    2.71%           rho_0 D  50180  50178     20\n",
      "  51000 20967        0.0752     9        0.0760        0.0739   274139    2.71%           rho_5 D  51000  50998     28\n",
      "  51849 21374        0.0758     3        0.0760        0.0739   278523    2.71%          rho_17 D  51849  51847     27\n",
      "  52682 21846        0.0755     7        0.0760        0.0739   282681    2.71%          rho_23 D  52682  52680     23\n",
      "  53472 22187        0.0755     9        0.0760        0.0739   287337    2.71%           rho_3 D  53472  53471     32\n",
      "Elapsed time = 45.67 sec. (41301.63 ticks, tree = 8.83 MB, solutions = 7)\n"
     ]
    },
    {
     "name": "stdout",
     "output_type": "stream",
     "text": [
      "  54295 22667        0.0749     9        0.0760        0.0739   292114    2.71%           rho_0 U  54295  54294     58\n",
      "  55151 23026        0.0739    10        0.0760        0.0739   296195    2.71%           rho_0 D  55151  55133     32\n",
      "  55888 23435        0.0747    15        0.0760        0.0739   300959    2.71%          rho_16 U  55888  55886     14\n",
      "  56613 23862        0.0745     7        0.0760        0.0739   305333    2.71%           rho_4 D  56613  56611     22\n",
      "  57260 24229        0.0750     8        0.0760        0.0739   309419    2.71%           rho_5 D  57260  57259     34\n",
      "  57931 24700        0.0749    15        0.0760        0.0739   312855    2.71%           rho_5 D  57931  57930     42\n",
      "  58585 25098        0.0749     8        0.0760        0.0739   316668    2.71%           rho_0 U  58585  58584     39\n",
      "  59290 25486        0.0741    17        0.0760        0.0739   320450    2.71%          rho_23 U  59290  59289     18\n",
      "  59954 25921        0.0744    15        0.0760        0.0739   324469    2.71%           rho_0 U  59954  59953     46\n",
      "  60552 26289        0.0740    16        0.0760        0.0739   329243    2.71%          rho_11 U  60552  60550     32\n",
      "Elapsed time = 54.44 sec. (50851.13 ticks, tree = 10.49 MB, solutions = 7)\n",
      "  61245 26627        0.0757     5        0.0760        0.0739   332837    2.71%          rho_29 D  61245  61243     27\n",
      "  61910 27054        0.0748    16        0.0760        0.0739   336257    2.71%          rho_11 U  61910  61908     92\n",
      "  62610 27334        0.0742    12        0.0760        0.0739   340359    2.71%           rho_4 U  62610  62608     19\n",
      "  63298 27575        0.0742    18        0.0760        0.0739   343837    2.71%          rho_20 D  63298  14907     17\n",
      "  64006 27859        0.0740    18        0.0760        0.0739   348194    2.71%          rho_19 D  64006  64005     16\n",
      "  64722 28272        0.0741     5        0.0760        0.0739   352643    2.71%           rho_4 U  64722  64692     19\n",
      "  65493 28662        0.0748     7        0.0760        0.0739   355344    2.71%           rho_3 U  65493  65267     23\n",
      "  66344 29020        0.0739     4        0.0760        0.0739   359775    2.71%           rho_0 D  66344  66342     51\n",
      "  67368 29479        0.0739     4        0.0760        0.0739   364964    2.71%           rho_0 D  67368  67366     82\n",
      "  68382 29920        0.0758     7        0.0760        0.0739   369897    2.71%          rho_29 D  68382  68380     76\n",
      "Elapsed time = 62.39 sec. (60405.80 ticks, tree = 11.97 MB, solutions = 7)\n",
      "  69373 30386        0.0740    10        0.0760        0.0739   374607    2.71%           rho_0 D  69373  69371     21\n",
      "  70307 30757        0.0755     5        0.0760        0.0739   379349    2.71%          rho_22 D  70307  70305     56\n",
      "  71199 31070        0.0739     1        0.0760        0.0739   384595    2.71%           rho_5 U  71199  71132     61\n",
      "  72106 31373        cutoff              0.0760        0.0739   389701    2.71%           rho_0 U  72106  72105     91\n",
      "  73027 31772        0.0745     9        0.0760        0.0739   394440    2.71%           rho_0 U  73027  73026     54\n",
      "  73845 32063        0.0742     5        0.0760        0.0739   399290    2.71%          rho_11 D  73845  73844     37\n",
      "  74665 32310        0.0739     8        0.0760        0.0739   404277    2.71%           rho_0 D  74665  74663     78\n",
      "  75487 32560        0.0739     6        0.0760        0.0739   409189    2.71%           rho_0 D  75487  75485     70\n",
      "  76305 32796        0.0739     4        0.0760        0.0739   414046    2.71%          rho_11 U  76305  76303     57\n",
      "  77137 33077        0.0739     4        0.0760        0.0739   419102    2.71%           rho_0 D  77137  77135     38\n",
      "Elapsed time = 69.61 sec. (69947.69 ticks, tree = 14.63 MB, solutions = 7)\n",
      "  78000 33391        0.0753     5        0.0760        0.0739   424026    2.71%          rho_17 D  78000  77999     61\n",
      "  78865 33695        0.0756     7        0.0760        0.0739   428952    2.71%          rho_18 D  78865  78863     78\n",
      "  79723 33991        0.0750     9        0.0760        0.0739   433711    2.71%           rho_3 D  79723  79721     25\n",
      "  80473 34354        0.0746    11        0.0760        0.0739   437961    2.71%          rho_30 D  80473  80468     19\n",
      "  81222 34738        0.0739    11        0.0760        0.0739   443354    2.71%           rho_0 D  81222  81220     47\n",
      "  81965 35160        0.0739    10        0.0760        0.0739   449027    2.71%          rho_11 U  81965  81963     58\n",
      "  82664 35587        0.0750     7        0.0760        0.0739   455337    2.71%           rho_0 U  82664  82663     49\n",
      "  83513 35871        0.0739     8        0.0760        0.0739   460153    2.71%          rho_11 U  83513  83504     64\n",
      "  84371 36182        0.0741    13        0.0760        0.0739   464580    2.71%          rho_12 D  84371  84368     68\n",
      "  85119 36604        cutoff              0.0760        0.0739   470463    2.71%          rho_17 D  85119  85117    100\n",
      "Elapsed time = 79.33 sec. (79492.81 ticks, tree = 16.07 MB, solutions = 7)\n",
      "  85888 36957        cutoff              0.0760        0.0739   475568    2.71%          rho_29 U  85888  85887     59\n",
      "  86570 37341        0.0741    20        0.0760        0.0739   480655    2.71%          rho_11 U  86570  86568     95\n",
      "  87292 37731        0.0749    13        0.0760        0.0739   485862    2.71%          rho_11 D  87292  87291     33\n",
      "  87955 38227        0.0756     1        0.0760        0.0739   490181    2.71%          rho_12 U  87955  87954     34\n",
      "  88600 38574        0.0742    13        0.0760        0.0739   494562    2.71%          rho_27 D  88600  88599     36\n",
      "  89213 38971        0.0739     9        0.0760        0.0739   499694    2.71%           rho_0 D  89213  89211     75\n",
      "  89871 39274        0.0740    13        0.0760        0.0739   504145    2.71%          rho_11 D  89871  89870     34\n",
      "  90470 39641        0.0760     3        0.0760        0.0739   508922    2.71%          rho_24 D  90470  90469     69\n",
      "  91062 39979        0.0759     6        0.0760        0.0739   513762    2.71%          rho_28 U  91062  13755     10\n",
      "  93547 41232        0.0747     7        0.0760        0.0739   530725    2.71%           rho_3 D  93547  93545     19\n",
      "Elapsed time = 94.83 sec. (91909.28 ticks, tree = 17.99 MB, solutions = 7)\n",
      "  96102 42588        0.0752     5        0.0760        0.0739   547269    2.71%           rho_2 D  96102  96100     45\n",
      "  98620 44208        0.0740    17        0.0760        0.0739   565003    2.71%           rho_0 D  98620  98618     96\n",
      " 101128 45421        0.0746    18        0.0760        0.0739   579116    2.71%          rho_11 U 101128 101126     46\n",
      " 103480 46964        0.0739    12        0.0760        0.0739   593724    2.71%          rho_11 U 103480 103478     59\n",
      " 105758 48370        0.0755    16        0.0760        0.0739   608245    2.71%          rho_23 D 105758 105757     17\n",
      " 108147 49871        0.0741    14        0.0760        0.0739   622100    2.71%           rho_5 U 108147 108145     24\n",
      " 110478 51197        0.0750     5        0.0760        0.0739   638125    2.71%          rho_11 D 110478 110477     38\n",
      " 112860 52452        0.0750     9        0.0760        0.0739   652349    2.71%           rho_5 D 112860 112859     98\n",
      " 115330 53765        0.0750     7        0.0760        0.0739   665559    2.71%          rho_19 D 115330 115329     32\n",
      " 117578 55120        0.0750    14        0.0760        0.0739   680137    2.71%          rho_11 U 117578 117576     82\n",
      "Elapsed time = 139.28 sec. (130075.28 ticks, tree = 23.95 MB, solutions = 7)\n",
      " 119909 56463        0.0743    20        0.0760        0.0739   694090    2.71%           rho_0 D 119909 119907     30\n",
      " 122368 57473        0.0748     4        0.0760        0.0739   708364    2.71%          rho_26 D 122368 122366     70\n",
      " 125455 58905        cutoff              0.0760        0.0739   725986    2.71%          rho_11 U 125455 125454     17\n",
      " 127857 60304        0.0752    10        0.0760        0.0739   745373    2.71%           rho_0 D 127857 127855     66\n",
      " 129914 61798        0.0739    14        0.0760        0.0739   761735    2.71%          rho_11 U 129914 129912     81\n"
     ]
    },
    {
     "name": "stdout",
     "output_type": "stream",
     "text": [
      " 132035 63104        0.0744    14        0.0760        0.0739   777457    2.71%           rho_5 U 132035 132033     39\n",
      " 134000 64207        0.0739    17        0.0760        0.0739   795261    2.71%          rho_11 D 134000 133999     59\n",
      " 135795 65006        0.0741    15        0.0760        0.0739   817926    2.71%           rho_8 D 135795 135794     72\n",
      " 137876 66163        cutoff              0.0760        0.0739   832728    2.71%          rho_29 U 137876 137875     35\n",
      " 140075 67369        0.0752     7        0.0760        0.0739   846524    2.71%          rho_12 D 140075 140073     30\n",
      "Elapsed time = 170.95 sec. (168235.49 ticks, tree = 32.13 MB, solutions = 7)\n",
      " 142270 68654        0.0750     8        0.0760        0.0739   862619    2.71%           rho_0 D 142270 142268     37\n",
      " 144410 69924        0.0748     7        0.0760        0.0739   878941    2.71%           rho_3 D 144410 144409     28\n",
      " 146519 71180        0.0752    17        0.0760        0.0739   896243    2.71%          rho_28 D 146519 146518     63\n",
      " 148500 72324        0.0746    13        0.0760        0.0739   914337    2.71%          rho_12 D 148500 148498     31\n",
      " 150444 73595        cutoff              0.0760        0.0739   930875    2.71%          rho_13 U 150444 150443     57\n",
      " 152464 74756        0.0743    18        0.0760        0.0739   947285    2.71%          rho_16 D 152464 152463     33\n",
      " 154608 75678        0.0751     9        0.0760        0.0739   961135    2.71%          rho_16 D 154608 154607     47\n",
      " 157038 76711        cutoff              0.0760        0.0739   976654    2.71%          rho_12 U 157038 157037     93\n",
      " 159691 77890        0.0746    15        0.0760        0.0739   994022    2.71%           rho_0 U 159691 159690     16\n",
      " 162001 79112        0.0747    15        0.0760        0.0739  1009657    2.71%          rho_11 D 162001 162000     35\n",
      "Elapsed time = 198.33 sec. (206402.43 ticks, tree = 37.39 MB, solutions = 7)\n",
      "\n",
      "User cuts applied:  2009\n",
      "\n",
      "Root node processing (before b&c):\n",
      "  Real time             =    0.09 sec. (1.57 ticks)\n",
      "Sequential b&c:\n",
      "  Real time             =  199.92 sec. (208628.46 ticks)\n",
      "                          ------------\n",
      "Total (root+branch&cut) =  200.02 sec. (208630.04 ticks)\n",
      "+----------------------------------------------+------------------+-----------+\n",
      "| Pr(Y = +1) = 1.0/(1.0 + exp(-(-7 + score))   |                  |           |\n",
      "| ============================================ | ================ | ========= |\n",
      "| p_violence>=1                                |         2 points |   + ..... |\n",
      "| p_arrest>=1                                  |         1 points |   + ..... |\n",
      "| p_arrest>=3                                  |         1 points |   + ..... |\n",
      "| p_arrest>=7                                  |         1 points |   + ..... |\n",
      "| p_weapon>=1                                  |         1 points |   + ..... |\n",
      "| p_trespass>=1                                |         1 points |   + ..... |\n",
      "| current_violence>=1                          |         1 points |   + ..... |\n",
      "| ============================================ | ================ | ========= |\n",
      "| ADD POINTS FROM ROWS 1 to 7                  |            SCORE |   = ..... |\n",
      "+----------------------------------------------+------------------+-----------+\n",
      "model_id, score_thresholds 0 {'rank_abs': [2]}\n",
      "get_disparity_predefined_group()\n"
     ]
    }
   ],
   "source": [
    "riskslim_summary = slim.risk_cv(X=sub_X, \n",
    "                                Y=sub_Y, \n",
    "                                indicator = indicator,\n",
    "                                y_label='recid_violent6', \n",
    "                                max_coef=20, \n",
    "                                max_coef_number=10, \n",
    "                                max_runtime=200, \n",
    "                                c=1e-5, \n",
    "                                seed=816)"
   ]
  },
  {
   "cell_type": "code",
   "execution_count": 23,
   "metadata": {},
   "outputs": [
    {
     "data": {
      "text/plain": [
       "(0.8622797420121368, 0.8603815687059303)"
      ]
     },
     "execution_count": 23,
     "metadata": {},
     "output_type": "execute_result"
    }
   ],
   "source": [
    "np.mean(riskslim_summary['train_auc']), np.mean(riskslim_summary['test_auc'])"
   ]
  },
  {
   "cell_type": "markdown",
   "metadata": {},
   "source": [
    "### Results"
   ]
  },
  {
   "cell_type": "code",
   "execution_count": 24,
   "metadata": {},
   "outputs": [
    {
     "name": "stdout",
     "output_type": "stream",
     "text": [
      "Stored 'summary_violent6_KY_interpret' (dict)\n"
     ]
    }
   ],
   "source": [
    "#### save results\n",
    "summary_violent6_KY_interpret = {\"CART\": cart_summary,\n",
    "                                   \"EBM\": ebm_summary, \n",
    "                                   'Lasso Stumps': stump_summary, \n",
    "                                   'RiskSLIM': riskslim_summary, \n",
    "                                   'Arnold PSA Raw': raw_auc, \n",
    "                                   'Arnold PSA': calc_auc}\n",
    "%store summary_violent6_KY_interpret"
   ]
  },
  {
   "cell_type": "code",
   "execution_count": 25,
   "metadata": {},
   "outputs": [
    {
     "data": {
      "text/plain": [
       "[['CART', 0.8719905277756279, 0.010895672119920975],\n",
       " ['EBM', 0.8760153188919686, 0.00753340214344278],\n",
       " ['Lasso Stumps', 0.8769661471769684, 0.0017833029209550987],\n",
       " ['RiskSLIM', 0.8603815687059303],\n",
       " ['Arnold PSA Raw', 0.709],\n",
       " ['Arnold PSA', 0.693]]"
      ]
     },
     "execution_count": 25,
     "metadata": {},
     "output_type": "execute_result"
    }
   ],
   "source": [
    "results = [[\"CART\", np.mean(cart_summary['holdout_test_auc']), np.mean(cart_summary['auc_diffs'])],\n",
    "           [\"EBM\", np.mean(ebm_summary['holdout_test_auc']), np.mean(ebm_summary['auc_diffs'])], \n",
    "           [\"Lasso Stumps\", np.mean(stump_summary['holdout_test_auc']), np.mean(stump_summary['auc_diffs'])],\n",
    "           ['RiskSLIM', np.mean(riskslim_summary['test_auc'])],\n",
    "           ['Arnold PSA Raw', round(np.mean(raw_auc), 3)], \n",
    "           ['Arnold PSA', round(np.mean(calc_auc), 3)]]\n",
    "results"
   ]
  },
  {
   "cell_type": "code",
   "execution_count": 26,
   "metadata": {},
   "outputs": [],
   "source": [
    "auc = [np.mean(cart_summary['holdout_test_auc']), \n",
    "       np.mean(ebm_summary['holdout_test_auc']), \n",
    "       np.mean(stump_summary['holdout_test_auc']), \n",
    "       np.mean(riskslim_summary['test_auc'])]"
   ]
  },
  {
   "cell_type": "code",
   "execution_count": 27,
   "metadata": {},
   "outputs": [],
   "source": [
    "path = \"C:/Users/binha/Documents/Duke/Cynthia Research/KY-analysis-mytrials/KY Recidivism/KY Results/Models/Six Month/\"\n",
    "results = [[\"Violent\", np.str((round(np.mean(cart_summary['holdout_test_auc']), 3))) + \" (\" + np.str(round(np.std(cart_summary['holdout_test_auc']), 3)) + \")\", \n",
    "            np.str(round(np.mean(ebm_summary['holdout_test_auc']),3)) + \" (\" + np.str(round(np.std(ebm_summary['holdout_test_auc']), 3)) + \")\", \n",
    "            np.str(round(np.mean(stump_summary['holdout_test_auc']),3)) + \" (\" + np.str(round(np.std(stump_summary['holdout_test_auc']), 3)) + \")\",             \n",
    "            np.str(round(np.mean(riskslim_summary['test_auc']),3)) + \" (\" + np.str(round(np.std(riskslim_summary['test_auc']), 3)) + \")\", \n",
    "            round(np.max(auc) - np.min(auc), 3),\n",
    "            np.str(round(np.mean(raw_auc), 3)) + \" (\" + np.str(round(np.std(raw_auc),3)) + \")\", \n",
    "            np.str(round(np.mean(calc_auc), 3)) + \" (\" + np.str(round(np.std(calc_auc),3)) + \")\"]]\n",
    "with open(path + 'Interpretable Models Summary.csv', 'a') as writeFile:\n",
    "    writer = csv.writer(writeFile)\n",
    "    writer.writerows(results)"
   ]
  }
 ],
 "metadata": {
  "kernelspec": {
   "display_name": "Python 3",
   "language": "python",
   "name": "python3"
  },
  "language_info": {
   "codemirror_mode": {
    "name": "ipython",
    "version": 3
   },
   "file_extension": ".py",
   "mimetype": "text/x-python",
   "name": "python",
   "nbconvert_exporter": "python",
   "pygments_lexer": "ipython3",
   "version": "3.7.4"
  }
 },
 "nbformat": 4,
 "nbformat_minor": 4
}
