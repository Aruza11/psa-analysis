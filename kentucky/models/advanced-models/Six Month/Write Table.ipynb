{
 "cells": [
  {
   "cell_type": "code",
   "execution_count": 1,
   "metadata": {
    "hideCode": false,
    "hidePrompt": false
   },
   "outputs": [],
   "source": [
    "import pytablewriter\n",
    "import pandas as pd\n",
    "import numpy as np"
   ]
  },
  {
   "cell_type": "code",
   "execution_count": 2,
   "metadata": {
    "hideCode": false,
    "hidePrompt": false
   },
   "outputs": [],
   "source": [
    "result = pd.read_csv(\"C:\\\\Users\\\\binha\\\\Documents\\\\Duke\\\\Cynthia Research\\\\KY-analysis-mytrials\\\\KY Recidivism\\\\KY Results\\\\Models\\\\Six Month\\\\Six Month Models Summary.csv\")"
   ]
  },
  {
   "cell_type": "code",
   "execution_count": 3,
   "metadata": {
    "hideCode": false,
    "hidePrompt": false
   },
   "outputs": [
    {
     "data": {
      "text/html": [
       "<div>\n",
       "<style scoped>\n",
       "    .dataframe tbody tr th:only-of-type {\n",
       "        vertical-align: middle;\n",
       "    }\n",
       "\n",
       "    .dataframe tbody tr th {\n",
       "        vertical-align: top;\n",
       "    }\n",
       "\n",
       "    .dataframe thead th {\n",
       "        text-align: right;\n",
       "    }\n",
       "</style>\n",
       "<table border=\"1\" class=\"dataframe\">\n",
       "  <thead>\n",
       "    <tr style=\"text-align: right;\">\n",
       "      <th></th>\n",
       "      <th>Unnamed: 0</th>\n",
       "      <th>AdaBoost</th>\n",
       "      <th>std</th>\n",
       "      <th>EBM</th>\n",
       "      <th>std.1</th>\n",
       "      <th>Lasso Stumps</th>\n",
       "      <th>std.2</th>\n",
       "      <th>Arnold PSA Raw</th>\n",
       "      <th>std.3</th>\n",
       "      <th>Arnold PSA</th>\n",
       "      <th>std.4</th>\n",
       "    </tr>\n",
       "  </thead>\n",
       "  <tbody>\n",
       "    <tr>\n",
       "      <th>0</th>\n",
       "      <td>Recidivism</td>\n",
       "      <td>0.766</td>\n",
       "      <td>0.003</td>\n",
       "      <td>0.765</td>\n",
       "      <td>0.003</td>\n",
       "      <td>0.763</td>\n",
       "      <td>0.005</td>\n",
       "      <td>0.710</td>\n",
       "      <td>0.004</td>\n",
       "      <td>0.702</td>\n",
       "      <td>0.003</td>\n",
       "    </tr>\n",
       "    <tr>\n",
       "      <th>1</th>\n",
       "      <td>Violence</td>\n",
       "      <td>0.875</td>\n",
       "      <td>0.004</td>\n",
       "      <td>0.876</td>\n",
       "      <td>0.006</td>\n",
       "      <td>0.874</td>\n",
       "      <td>0.006</td>\n",
       "      <td>0.850</td>\n",
       "      <td>0.006</td>\n",
       "      <td>0.849</td>\n",
       "      <td>0.005</td>\n",
       "    </tr>\n",
       "    <tr>\n",
       "      <th>2</th>\n",
       "      <td>Drug</td>\n",
       "      <td>0.775</td>\n",
       "      <td>0.008</td>\n",
       "      <td>0.774</td>\n",
       "      <td>0.008</td>\n",
       "      <td>0.765</td>\n",
       "      <td>0.010</td>\n",
       "      <td>0.672</td>\n",
       "      <td>0.008</td>\n",
       "      <td>0.671</td>\n",
       "      <td>0.006</td>\n",
       "    </tr>\n",
       "    <tr>\n",
       "      <th>3</th>\n",
       "      <td>Property</td>\n",
       "      <td>0.852</td>\n",
       "      <td>0.018</td>\n",
       "      <td>0.861</td>\n",
       "      <td>0.013</td>\n",
       "      <td>0.859</td>\n",
       "      <td>0.011</td>\n",
       "      <td>0.736</td>\n",
       "      <td>0.013</td>\n",
       "      <td>0.704</td>\n",
       "      <td>0.020</td>\n",
       "    </tr>\n",
       "    <tr>\n",
       "      <th>4</th>\n",
       "      <td>Felony</td>\n",
       "      <td>0.794</td>\n",
       "      <td>0.004</td>\n",
       "      <td>0.793</td>\n",
       "      <td>0.004</td>\n",
       "      <td>0.785</td>\n",
       "      <td>0.007</td>\n",
       "      <td>0.719</td>\n",
       "      <td>0.005</td>\n",
       "      <td>0.709</td>\n",
       "      <td>0.005</td>\n",
       "    </tr>\n",
       "    <tr>\n",
       "      <th>5</th>\n",
       "      <td>Misdemeanor</td>\n",
       "      <td>0.750</td>\n",
       "      <td>0.003</td>\n",
       "      <td>0.747</td>\n",
       "      <td>0.004</td>\n",
       "      <td>0.743</td>\n",
       "      <td>0.004</td>\n",
       "      <td>0.704</td>\n",
       "      <td>0.006</td>\n",
       "      <td>0.697</td>\n",
       "      <td>0.004</td>\n",
       "    </tr>\n",
       "  </tbody>\n",
       "</table>\n",
       "</div>"
      ],
      "text/plain": [
       "    Unnamed: 0  AdaBoost    std    EBM  std.1  Lasso Stumps  std.2  \\\n",
       "0   Recidivism     0.766  0.003  0.765  0.003         0.763  0.005   \n",
       "1     Violence     0.875  0.004  0.876  0.006         0.874  0.006   \n",
       "2         Drug     0.775  0.008  0.774  0.008         0.765  0.010   \n",
       "3     Property     0.852  0.018  0.861  0.013         0.859  0.011   \n",
       "4       Felony     0.794  0.004  0.793  0.004         0.785  0.007   \n",
       "5  Misdemeanor     0.750  0.003  0.747  0.004         0.743  0.004   \n",
       "\n",
       "   Arnold PSA Raw  std.3  Arnold PSA  std.4  \n",
       "0           0.710  0.004       0.702  0.003  \n",
       "1           0.850  0.006       0.849  0.005  \n",
       "2           0.672  0.008       0.671  0.006  \n",
       "3           0.736  0.013       0.704  0.020  \n",
       "4           0.719  0.005       0.709  0.005  \n",
       "5           0.704  0.006       0.697  0.004  "
      ]
     },
     "execution_count": 3,
     "metadata": {},
     "output_type": "execute_result"
    }
   ],
   "source": [
    "result"
   ]
  },
  {
   "cell_type": "code",
   "execution_count": 4,
   "metadata": {
    "hideCode": false,
    "hidePrompt": false
   },
   "outputs": [],
   "source": [
    "cols = result.columns.to_list()\n",
    "values = result.values.tolist()"
   ]
  },
  {
   "cell_type": "code",
   "execution_count": 5,
   "metadata": {
    "hideCode": false,
    "hideOutput": true,
    "hidePrompt": false
   },
   "outputs": [
    {
     "name": "stdout",
     "output_type": "stream",
     "text": [
      "\\begin{array}{l | r | r | r | r | r | r | r | r | r | r} \\hline\n",
      "    Recidivism  & 0.7660 & 0.00300 & 0.7650 & 0.00300 & 0.7630 &  0.00500 & 0.7100 & 0.00400 & 0.7020 & 0.003 \\\\ \\hline\n",
      "    Violence    & 0.8750 & 0.00400 & 0.8760 & 0.00600 & 0.8740 &  0.00600 & 0.8500 & 0.00600 & 0.8490 & 0.005 \\\\ \\hline\n",
      "    Drug        & 0.7750 & 0.00800 & 0.7740 & 0.00800 & 0.7650 &  0.01000 & 0.6720 & 0.00800 & 0.6710 & 0.006 \\\\ \\hline\n",
      "    Property    & 0.8520 & 0.01800 & 0.8610 & 0.01300 & 0.8590 &  0.01100 & 0.7360 & 0.01300 & 0.7040 & 0.020 \\\\ \\hline\n",
      "    Felony      & 0.7940 & 0.00400 & 0.7930 & 0.00400 & 0.7850 &  0.00700 & 0.7190 & 0.00500 & 0.7090 & 0.005 \\\\ \\hline\n",
      "    Misdemeanor & 0.7500 & 0.00300 & 0.7470 & 0.00400 & 0.7430 &  0.00400 & 0.7040 & 0.00600 & 0.6970 & 0.004 \\\\ \\hline\n",
      "\\end{array}\n"
     ]
    }
   ],
   "source": [
    "writer = pytablewriter.LatexTableWriter()\n",
    "writer.value_matrix = values\n",
    "writer.write_table()"
   ]
  }
 ],
 "metadata": {
  "hide_code_all_hidden": false,
  "kernelspec": {
   "display_name": "Python 3",
   "language": "python",
   "name": "python3"
  },
  "language_info": {
   "codemirror_mode": {
    "name": "ipython",
    "version": 3
   },
   "file_extension": ".py",
   "mimetype": "text/x-python",
   "name": "python",
   "nbconvert_exporter": "python",
   "pygments_lexer": "ipython3",
   "version": "3.7.0"
  }
 },
 "nbformat": 4,
 "nbformat_minor": 2
}
