{
 "cells": [
  {
   "cell_type": "code",
   "execution_count": 1,
   "metadata": {},
   "outputs": [
    {
     "name": "stdout",
     "output_type": "stream",
     "text": [
      "Current working directory is now:  C:\\Users\\binha\\Documents\\Duke\\Cynthia Research\\psa-analysis - test\n",
      "no stored variable summary_drug6_KY_interpret\n"
     ]
    },
    {
     "name": "stderr",
     "output_type": "stream",
     "text": [
      "C:\\Users\\binha\\Anaconda3\\lib\\site-packages\\sklearn\\externals\\six.py:31: DeprecationWarning:\n",
      "\n",
      "The module is deprecated in version 0.21 and will be removed in version 0.23 since we've dropped support for Python 2.7. Please rely on the official version of six (https://pypi.org/project/six/).\n",
      "\n"
     ]
    }
   ],
   "source": [
    "import os \n",
    "os.chdir('../../../../')\n",
    "print(\"Current working directory is now: \", os.getcwd())\n",
    "\n",
    "import pandas as pd \n",
    "import numpy as np\n",
    "import csv\n",
    "import utils.baseline_functions as base\n",
    "import stumps\n",
    "import RiskSLIM as slim\n",
    "\n",
    "from sklearn.linear_model import LogisticRegression\n",
    "from sklearn.model_selection import KFold, GridSearchCV\n",
    "from sklearn.metrics import roc_auc_score\n",
    "\n",
    "# restore saved variables\n",
    "%store -r summary_drug6_KY_interpret"
   ]
  },
  {
   "cell_type": "markdown",
   "metadata": {},
   "source": [
    "### CART & EBM"
   ]
  },
  {
   "cell_type": "code",
   "execution_count": 2,
   "metadata": {},
   "outputs": [],
   "source": [
    "### load data\n",
    "data = pd.read_csv(\"~/Documents/Duke/Cynthia Research/KY-analysis-mytrials/KY Recidivism/KY data/kentucky_data.csv\")\n",
    "data = data.drop(['fta_risk_score_raw','nca_risk_score_raw','pvf_risk_score_raw', \n",
    "                  'fta_calc', 'nca_calc', 'pvf_calc'], axis=1)\n",
    "x = data.loc[:,:'current_violence']\n",
    "y = data['recid_drug_six_month'].values"
   ]
  },
  {
   "cell_type": "code",
   "execution_count": 3,
   "metadata": {
    "scrolled": true
   },
   "outputs": [
    {
     "name": "stdout",
     "output_type": "stream",
     "text": [
      "model_id, score_thresholds 0 {'rank_abs': [1]}\n",
      "get_disparity_predefined_group()\n",
      "model_id, score_thresholds 0 {'rank_abs': [5]}\n",
      "get_disparity_predefined_group()\n",
      "model_id, score_thresholds 0 {'rank_abs': [4]}\n",
      "get_disparity_predefined_group()\n",
      "model_id, score_thresholds 0 {'rank_abs': [0]}\n",
      "get_disparity_predefined_group()\n",
      "model_id, score_thresholds 0 {'rank_abs': [5]}\n",
      "get_disparity_predefined_group()\n"
     ]
    },
    {
     "name": "stderr",
     "output_type": "stream",
     "text": [
      "WARNING:interpret.utils.all:Passing a numpy array to schema autogen when it should be dataframe.\n",
      "WARNING:interpret.utils.all:Passing a numpy array to schema autogen when it should be dataframe.\n",
      "WARNING:interpret.utils.all:Passing a numpy array to schema autogen when it should be dataframe.\n",
      "WARNING:interpret.utils.all:Passing a numpy array to schema autogen when it should be dataframe.\n",
      "WARNING:interpret.utils.all:Passing a numpy array to schema autogen when it should be dataframe.\n",
      "WARNING:interpret.utils.all:Passing a numpy array to schema autogen when it should be dataframe.\n",
      "WARNING:interpret.utils.all:Passing a numpy array to schema autogen when it should be dataframe.\n",
      "WARNING:interpret.utils.all:Passing a numpy array to schema autogen when it should be dataframe.\n",
      "WARNING:interpret.utils.all:Passing a numpy array to schema autogen when it should be dataframe.\n",
      "WARNING:interpret.utils.all:Passing a numpy array to schema autogen when it should be dataframe.\n",
      "WARNING:interpret.utils.all:Passing a numpy array to schema autogen when it should be dataframe.\n",
      "WARNING:interpret.utils.all:Passing a numpy array to schema autogen when it should be dataframe.\n"
     ]
    },
    {
     "name": "stdout",
     "output_type": "stream",
     "text": [
      "model_id, score_thresholds 0 {'rank_abs': [2]}\n",
      "get_disparity_predefined_group()\n"
     ]
    },
    {
     "name": "stderr",
     "output_type": "stream",
     "text": [
      "WARNING:interpret.utils.all:Passing a numpy array to schema autogen when it should be dataframe.\n",
      "WARNING:interpret.utils.all:Passing a numpy array to schema autogen when it should be dataframe.\n",
      "WARNING:interpret.utils.all:Passing a numpy array to schema autogen when it should be dataframe.\n",
      "WARNING:interpret.utils.all:Passing a numpy array to schema autogen when it should be dataframe.\n",
      "WARNING:interpret.utils.all:Passing a numpy array to schema autogen when it should be dataframe.\n",
      "WARNING:interpret.utils.all:Passing a numpy array to schema autogen when it should be dataframe.\n",
      "WARNING:interpret.utils.all:Passing a numpy array to schema autogen when it should be dataframe.\n",
      "WARNING:interpret.utils.all:Passing a numpy array to schema autogen when it should be dataframe.\n",
      "WARNING:interpret.utils.all:Passing a numpy array to schema autogen when it should be dataframe.\n",
      "WARNING:interpret.utils.all:Passing a numpy array to schema autogen when it should be dataframe.\n",
      "WARNING:interpret.utils.all:Passing a numpy array to schema autogen when it should be dataframe.\n",
      "WARNING:interpret.utils.all:Passing a numpy array to schema autogen when it should be dataframe.\n"
     ]
    },
    {
     "name": "stdout",
     "output_type": "stream",
     "text": [
      "model_id, score_thresholds 0 {'rank_abs': [0]}\n",
      "get_disparity_predefined_group()\n"
     ]
    },
    {
     "name": "stderr",
     "output_type": "stream",
     "text": [
      "WARNING:interpret.utils.all:Passing a numpy array to schema autogen when it should be dataframe.\n",
      "WARNING:interpret.utils.all:Passing a numpy array to schema autogen when it should be dataframe.\n",
      "WARNING:interpret.utils.all:Passing a numpy array to schema autogen when it should be dataframe.\n",
      "WARNING:interpret.utils.all:Passing a numpy array to schema autogen when it should be dataframe.\n",
      "WARNING:interpret.utils.all:Passing a numpy array to schema autogen when it should be dataframe.\n",
      "WARNING:interpret.utils.all:Passing a numpy array to schema autogen when it should be dataframe.\n",
      "WARNING:interpret.utils.all:Passing a numpy array to schema autogen when it should be dataframe.\n",
      "WARNING:interpret.utils.all:Passing a numpy array to schema autogen when it should be dataframe.\n",
      "WARNING:interpret.utils.all:Passing a numpy array to schema autogen when it should be dataframe.\n",
      "WARNING:interpret.utils.all:Passing a numpy array to schema autogen when it should be dataframe.\n",
      "WARNING:interpret.utils.all:Passing a numpy array to schema autogen when it should be dataframe.\n",
      "WARNING:interpret.utils.all:Passing a numpy array to schema autogen when it should be dataframe.\n"
     ]
    },
    {
     "name": "stdout",
     "output_type": "stream",
     "text": [
      "model_id, score_thresholds 0 {'rank_abs': [4]}\n",
      "get_disparity_predefined_group()\n"
     ]
    },
    {
     "name": "stderr",
     "output_type": "stream",
     "text": [
      "WARNING:interpret.utils.all:Passing a numpy array to schema autogen when it should be dataframe.\n",
      "WARNING:interpret.utils.all:Passing a numpy array to schema autogen when it should be dataframe.\n",
      "WARNING:interpret.utils.all:Passing a numpy array to schema autogen when it should be dataframe.\n",
      "WARNING:interpret.utils.all:Passing a numpy array to schema autogen when it should be dataframe.\n",
      "WARNING:interpret.utils.all:Passing a numpy array to schema autogen when it should be dataframe.\n",
      "WARNING:interpret.utils.all:Passing a numpy array to schema autogen when it should be dataframe.\n",
      "WARNING:interpret.utils.all:Passing a numpy array to schema autogen when it should be dataframe.\n",
      "WARNING:interpret.utils.all:Passing a numpy array to schema autogen when it should be dataframe.\n",
      "WARNING:interpret.utils.all:Passing a numpy array to schema autogen when it should be dataframe.\n",
      "WARNING:interpret.utils.all:Passing a numpy array to schema autogen when it should be dataframe.\n",
      "WARNING:interpret.utils.all:Passing a numpy array to schema autogen when it should be dataframe.\n",
      "WARNING:interpret.utils.all:Passing a numpy array to schema autogen when it should be dataframe.\n"
     ]
    },
    {
     "name": "stdout",
     "output_type": "stream",
     "text": [
      "model_id, score_thresholds 0 {'rank_abs': [2]}\n",
      "get_disparity_predefined_group()\n"
     ]
    },
    {
     "name": "stderr",
     "output_type": "stream",
     "text": [
      "WARNING:interpret.utils.all:Passing a numpy array to schema autogen when it should be dataframe.\n",
      "WARNING:interpret.utils.all:Passing a numpy array to schema autogen when it should be dataframe.\n",
      "WARNING:interpret.utils.all:Passing a numpy array to schema autogen when it should be dataframe.\n",
      "WARNING:interpret.utils.all:Passing a numpy array to schema autogen when it should be dataframe.\n",
      "WARNING:interpret.utils.all:Passing a numpy array to schema autogen when it should be dataframe.\n",
      "WARNING:interpret.utils.all:Passing a numpy array to schema autogen when it should be dataframe.\n",
      "WARNING:interpret.utils.all:Passing a numpy array to schema autogen when it should be dataframe.\n",
      "WARNING:interpret.utils.all:Passing a numpy array to schema autogen when it should be dataframe.\n",
      "WARNING:interpret.utils.all:Passing a numpy array to schema autogen when it should be dataframe.\n",
      "WARNING:interpret.utils.all:Passing a numpy array to schema autogen when it should be dataframe.\n",
      "WARNING:interpret.utils.all:Passing a numpy array to schema autogen when it should be dataframe.\n",
      "WARNING:interpret.utils.all:Passing a numpy array to schema autogen when it should be dataframe.\n"
     ]
    },
    {
     "name": "stdout",
     "output_type": "stream",
     "text": [
      "model_id, score_thresholds 0 {'rank_abs': [4]}\n",
      "get_disparity_predefined_group()\n"
     ]
    }
   ],
   "source": [
    "#### CART\n",
    "depth = [5,6]\n",
    "cart_summary = base.CART(X=x,\n",
    "                         Y=y,\n",
    "                         depth=depth,\n",
    "                         seed=816)\n",
    "\n",
    "#### EBM\n",
    "estimators = [20]\n",
    "depth = [2]\n",
    "learning_rate = [0.3]\n",
    "ebm_summary = base.EBM(X=x,\n",
    "                       Y=y,\n",
    "                       learning_rate=learning_rate,\n",
    "                       depth=depth,\n",
    "                       estimators=estimators,\n",
    "                       seed =816)"
   ]
  },
  {
   "cell_type": "code",
   "execution_count": 4,
   "metadata": {
    "scrolled": true
   },
   "outputs": [
    {
     "data": {
      "text/plain": [
       "(0.7706080870990294, 0.016450211636725574)"
      ]
     },
     "execution_count": 4,
     "metadata": {},
     "output_type": "execute_result"
    }
   ],
   "source": [
    "np.mean(cart_summary['holdout_test_auc']), np.mean(cart_summary['auc_diffs'])"
   ]
  },
  {
   "cell_type": "code",
   "execution_count": 5,
   "metadata": {},
   "outputs": [
    {
     "data": {
      "text/plain": [
       "(0.7744094441845822, 0.014594698854934673)"
      ]
     },
     "execution_count": 5,
     "metadata": {},
     "output_type": "execute_result"
    }
   ],
   "source": [
    "np.mean(ebm_summary['holdout_test_auc']), np.mean(ebm_summary['auc_diffs'])"
   ]
  },
  {
   "cell_type": "markdown",
   "metadata": {},
   "source": [
    "## Lasso Stumps"
   ]
  },
  {
   "cell_type": "code",
   "execution_count": 6,
   "metadata": {},
   "outputs": [],
   "source": [
    "## load whole data\n",
    "data = pd.read_csv(\"~/Documents/Duke/Cynthia Research/KY-analysis-mytrials/KY Recidivism/KY data/kentucky_stumps.csv\")\n",
    "X_stumps, Y_stumps = data.loc[:,:'current_violence>=1'], data['recid_drug_six_month'].values\n",
    "Y_stumps[Y_stumps == -1] = 0\n",
    "cols = X_stumps.columns[3:]\n",
    "\n",
    "## load train & test data\n",
    "train_stumps = pd.read_csv(\"~/Documents/Duke/Cynthia Research/KY-analysis-mytrials/KY Recidivism/KY data/kentucky_train_stumps.csv\")\n",
    "test_stumps = pd.read_csv(\"~/Documents/Duke/Cynthia Research/KY-analysis-mytrials/KY Recidivism/KY data/kentucky_test_stumps.csv\")\n",
    "\n",
    "X_train_stumps, Y_train_stumps = train_stumps.loc[:,:'current_violence>=1'], train_stumps['recid_drug_six_month'].values\n",
    "X_test_stumps, Y_test_stumps = test_stumps.loc[:,:'current_violence>=1'], test_stumps['recid_drug_six_month'].values\n",
    "\n",
    "Y_train_stumps[Y_train_stumps == -1] = 0\n",
    "Y_test_stumps[Y_test_stumps == -1] = 0"
   ]
  },
  {
   "cell_type": "markdown",
   "metadata": {},
   "source": [
    "#### Nested Cross Validation"
   ]
  },
  {
   "cell_type": "code",
   "execution_count": 7,
   "metadata": {},
   "outputs": [
    {
     "name": "stdout",
     "output_type": "stream",
     "text": [
      "model_id, score_thresholds 0 {'rank_abs': [12598]}\n",
      "get_disparity_predefined_group()\n",
      "model_id, score_thresholds 0 {'rank_abs': [12419]}\n",
      "get_disparity_predefined_group()\n",
      "model_id, score_thresholds 0 {'rank_abs': [12653]}\n",
      "get_disparity_predefined_group()\n",
      "model_id, score_thresholds 0 {'rank_abs': [12578]}\n",
      "get_disparity_predefined_group()\n",
      "model_id, score_thresholds 0 {'rank_abs': [12752]}\n",
      "get_disparity_predefined_group()\n"
     ]
    }
   ],
   "source": [
    "stump_summary = stumps.stump_cv(X = X_stumps, \n",
    "                                Y = Y_stumps, \n",
    "                                columns=cols, \n",
    "                                c_grid={'C': [0.007, 0.005, 0.003]}, \n",
    "                                seed = 816)"
   ]
  },
  {
   "cell_type": "code",
   "execution_count": 9,
   "metadata": {},
   "outputs": [
    {
     "data": {
      "text/plain": [
       "({'C': 0.007}, 0.7775529726060678, 0.004313591269232897)"
      ]
     },
     "execution_count": 9,
     "metadata": {},
     "output_type": "execute_result"
    }
   ],
   "source": [
    "stump_summary['best_params'], np.mean(stump_summary['holdout_test_auc']), np.mean(stump_summary['auc_diffs'])"
   ]
  },
  {
   "cell_type": "markdown",
   "metadata": {},
   "source": [
    "##### Best Stump Model"
   ]
  },
  {
   "cell_type": "code",
   "execution_count": 10,
   "metadata": {},
   "outputs": [],
   "source": [
    "best_stump_model = stumps.stump_model(X_train_stumps, Y_train_stumps, \n",
    "                                      X_test_stumps, Y_test_stumps, \n",
    "                                      c=0.003, columns=cols, seed=816)"
   ]
  },
  {
   "cell_type": "markdown",
   "metadata": {},
   "source": [
    "##### Prediction Table"
   ]
  },
  {
   "cell_type": "code",
   "execution_count": 11,
   "metadata": {
    "scrolled": true
   },
   "outputs": [
    {
     "name": "stdout",
     "output_type": "stream",
     "text": [
      "+-----------------------------------+----------------+\n",
      "| Features                          | Score          |\n",
      "|====================================================|\n",
      "| sex                               | 7.7            |\n",
      "| age_at_current_charge<=24         | -3.6           |\n",
      "| age_at_current_charge<=55         | -0.5           |\n",
      "| p_arrest>=1                       | -52.3          |\n",
      "| p_arrest>=2                       | 41.8           |\n",
      "| p_arrest>=3                       | 30.1           |\n",
      "| p_arrest>=4                       | 21.1           |\n",
      "| p_arrest>=5                       | 18.6           |\n",
      "| p_arrest>=6                       | 4.9            |\n",
      "| p_arrest>=8                       | 5.7            |\n",
      "| p_charges>=1                      | -50.3          |\n",
      "| p_charges>=2                      | 5.8            |\n",
      "| p_felony>=1                       | 34.9           |\n",
      "| p_misdemeanor>=1                  | 20.5           |\n",
      "| p_misdemeanor>=2                  | 15.0           |\n",
      "| p_drug>=1                         | 116.9          |\n",
      "| p_drug>=2                         | 21.5           |\n",
      "| p_stealing>=1                     | -7.9           |\n",
      "| ADE>=1                            | -68.7          |\n",
      "| p_prison>=1                       | -34.6          |\n",
      "| p_jail30>=1                       | 3.1            |\n",
      "| p_pending_charge>=1               | 53.7           |\n",
      "| p_probation>=1                    | 6.0            |\n",
      "| six_month>=1                      | -8.6           |\n",
      "| one_year>=1                       | -0.2           |\n",
      "| five_year>=1                      | -17.0          |\n",
      "| current_violence>=1               | -0.5           |\n",
      "| Intercept                         | -0.56          |\n",
      "|====================================================|\n",
      "| ADD POINTS FROM ROWS 1 TO 27      | Total Score    |\n",
      "+-----------------------------------+----------------+\n"
     ]
    }
   ],
   "source": [
    "stumps.stump_table(best_stump_model['coefs'], \n",
    "                   best_stump_model['features'], \n",
    "                   best_stump_model['intercept'], \n",
    "                   best_stump_model['dictionary'])"
   ]
  },
  {
   "cell_type": "code",
   "execution_count": 12,
   "metadata": {},
   "outputs": [
    {
     "name": "stdout",
     "output_type": "stream",
     "text": [
      "model_id, score_thresholds 0 {'rank_abs': [12453]}\n",
      "get_disparity_predefined_group()\n",
      "model_id, score_thresholds 0 {'rank_abs': [12556]}\n",
      "get_disparity_predefined_group()\n",
      "model_id, score_thresholds 0 {'rank_abs': [12466]}\n",
      "get_disparity_predefined_group()\n",
      "model_id, score_thresholds 0 {'rank_abs': [12650]}\n",
      "get_disparity_predefined_group()\n",
      "model_id, score_thresholds 0 {'rank_abs': [12679]}\n",
      "get_disparity_predefined_group()\n"
     ]
    }
   ],
   "source": [
    "stump_summary = stumps.stump_cv(X = X_stumps, \n",
    "                                Y = Y_stumps, \n",
    "                                columns=cols, \n",
    "                                c_grid={'C': [0.003]}, \n",
    "                                seed = 816)"
   ]
  },
  {
   "cell_type": "code",
   "execution_count": 13,
   "metadata": {},
   "outputs": [
    {
     "data": {
      "text/plain": [
       "({'C': 0.003}, 0.7745588212839373, 0.0029546809203399695)"
      ]
     },
     "execution_count": 13,
     "metadata": {},
     "output_type": "execute_result"
    }
   ],
   "source": [
    "stump_summary['best_params'], np.mean(stump_summary['holdout_test_auc']), np.mean(stump_summary['auc_diffs'])"
   ]
  },
  {
   "cell_type": "markdown",
   "metadata": {},
   "source": [
    "##### Stumps Visualizations"
   ]
  },
  {
   "cell_type": "code",
   "execution_count": 20,
   "metadata": {
    "scrolled": true
   },
   "outputs": [
    {
     "data": {
      "image/png": "[encoded data removed]",
      "text/plain": [
       "<Figure size 288x216 with 1 Axes>"
      ]
     },
     "metadata": {
      "needs_background": "light"
     },
     "output_type": "display_data"
    },
    {
     "data": {
      "image/png": "[encoded data removed]",
      "text/plain": [
       "<Figure size 288x216 with 1 Axes>"
      ]
     },
     "metadata": {
      "needs_background": "light"
     },
     "output_type": "display_data"
    },
    {
     "data": {
      "image/png": "[encoded data removed]",
      "text/plain": [
       "<Figure size 288x216 with 1 Axes>"
      ]
     },
     "metadata": {
      "needs_background": "light"
     },
     "output_type": "display_data"
    },
    {
     "data": {
      "image/png": "[encoded data removed]",
      "text/plain": [
       "<Figure size 288x216 with 1 Axes>"
      ]
     },
     "metadata": {
      "needs_background": "light"
     },
     "output_type": "display_data"
    },
    {
     "data": {
      "image/png": "[encoded data removed]",
      "text/plain": [
       "<Figure size 288x216 with 1 Axes>"
      ]
     },
     "metadata": {
      "needs_background": "light"
     },
     "output_type": "display_data"
    },
    {
     "data": {
      "image/png": "[encoded data removed]",
      "text/plain": [
       "<Figure size 288x216 with 1 Axes>"
      ]
     },
     "metadata": {
      "needs_background": "light"
     },
     "output_type": "display_data"
    },
    {
     "data": {
      "image/png": "[encoded data removed]",
      "text/plain": [
       "<Figure size 288x216 with 1 Axes>"
      ]
     },
     "metadata": {
      "needs_background": "light"
     },
     "output_type": "display_data"
    },
    {
     "data": {
      "image/png": "[encoded data removed]",
      "text/plain": [
       "<Figure size 288x216 with 1 Axes>"
      ]
     },
     "metadata": {
      "needs_background": "light"
     },
     "output_type": "display_data"
    },
    {
     "data": {
      "image/png": "[encoded data removed]",
      "text/plain": [
       "<Figure size 288x216 with 1 Axes>"
      ]
     },
     "metadata": {
      "needs_background": "light"
     },
     "output_type": "display_data"
    },
    {
     "data": {
      "image/png": "[encoded data removed]",
      "text/plain": [
       "<Figure size 288x216 with 1 Axes>"
      ]
     },
     "metadata": {
      "needs_background": "light"
     },
     "output_type": "display_data"
    },
    {
     "data": {
      "image/png": "[encoded data removed]",
      "text/plain": [
       "<Figure size 288x216 with 1 Axes>"
      ]
     },
     "metadata": {
      "needs_background": "light"
     },
     "output_type": "display_data"
    }
   ],
   "source": [
    "stumps.stump_plots(best_stump_model['features'], best_stump_model['coefs'])"
   ]
  },
  {
   "cell_type": "markdown",
   "metadata": {},
   "source": [
    "### Arnold PSA"
   ]
  },
  {
   "cell_type": "code",
   "execution_count": 14,
   "metadata": {},
   "outputs": [],
   "source": [
    "### load data\n",
    "data = pd.read_csv(\"~/Documents/Duke/Cynthia Research/KY-analysis-mytrials/KY Recidivism/KY data/kentucky_data.csv\")\n",
    "X_arnold_raw = data['nca_risk_score_raw'].values\n",
    "X_arnold_calc = data['nca_calc'].values\n",
    "Y_arnold = data['recid_drug_six_month'].values"
   ]
  },
  {
   "cell_type": "code",
   "execution_count": 15,
   "metadata": {},
   "outputs": [],
   "source": [
    "## set up cross validation\n",
    "cv = KFold(n_splits=5,shuffle=True,random_state=816)\n",
    "raw_auc = []\n",
    "calc_auc = []\n",
    "\n",
    "## raw score\n",
    "i = 1\n",
    "for train, test in cv.split(X_arnold_raw, Y_arnold):\n",
    "    y_pred_raw, y_pred_calc, y_test = X_arnold_raw[test], X_arnold_calc[test], Y_arnold[test]\n",
    "    raw_auc.append(roc_auc_score(y_test, y_pred_raw))\n",
    "    calc_auc.append(roc_auc_score(y_test, y_pred_calc))\n",
    "    i+=1 "
   ]
  },
  {
   "cell_type": "markdown",
   "metadata": {},
   "source": [
    "## RiskSLIM"
   ]
  },
  {
   "cell_type": "code",
   "execution_count": 16,
   "metadata": {},
   "outputs": [],
   "source": [
    "## load stumps data\n",
    "data = pd.read_csv(\"~/Documents/Duke/Cynthia Research/KY-analysis-mytrials/KY Recidivism/KY data/kentucky_stumps.csv\")\n",
    "x, y = data.loc[:,:'current_violence>=1'], data['recid_drug_six_month'].values\n",
    "cols = x.columns[3:]"
   ]
  },
  {
   "cell_type": "code",
   "execution_count": 17,
   "metadata": {},
   "outputs": [
    {
     "data": {
      "text/plain": [
       "30"
      ]
     },
     "execution_count": 17,
     "metadata": {},
     "output_type": "execute_result"
    }
   ],
   "source": [
    "## train on best param chosen by Lasso Stumps from above\n",
    "x_train = x.copy().drop(['race', 'person_id', 'screening_date'], axis=1)\n",
    "lasso = LogisticRegression(class_weight='balanced', solver='liblinear', penalty='l1', C=0.003, random_state=816).fit(x_train,y)\n",
    "selected_features = cols[lasso.coef_[0] != 0].tolist()\n",
    "len(selected_features)"
   ]
  },
  {
   "cell_type": "code",
   "execution_count": 18,
   "metadata": {},
   "outputs": [],
   "source": [
    "### Subset features\n",
    "if 'sex' in selected_features:\n",
    "    selected_features = ['recid_drug_six_month', 'person_id', 'screening_date', 'race'] + selected_features\n",
    "    indicator = 1\n",
    "else:\n",
    "    selected_features = ['recid_drug_six_month', 'person_id', 'screening_date', 'race', 'sex'] + selected_features\n",
    "    indicator = 0\n",
    "\n",
    "sub_data = data[selected_features]\n",
    "sub_X, sub_Y = sub_data.iloc[:,1:], sub_data.iloc[:,0].values\n",
    "sub_X.insert(0, '(Intercept)', 1)"
   ]
  },
  {
   "cell_type": "code",
   "execution_count": 19,
   "metadata": {
    "scrolled": true
   },
   "outputs": [
    {
     "name": "stdout",
     "output_type": "stream",
     "text": [
      "setting c0 = 0.0 to ensure that intercept is not penalized\n",
      "09/11/19 @ 04:13 PM | 1301 rows in lookup table\n",
      "09/11/19 @ 04:13 PM | ------------------------------------------------------------\n",
      "09/11/19 @ 04:13 PM | runnning initialization procedure\n",
      "09/11/19 @ 04:13 PM | ------------------------------------------------------------\n",
      "09/11/19 @ 04:14 PM | CPA produced 2 cuts\n",
      "09/11/19 @ 04:14 PM | running naive rounding on 104 solutions\n",
      "09/11/19 @ 04:14 PM | best objective value: 0.0926\n",
      "09/11/19 @ 04:14 PM | rounding produced 5 integer solutions\n",
      "09/11/19 @ 04:14 PM | best objective value is 0.0939\n",
      "09/11/19 @ 04:14 PM | running sequential rounding on 104 solutions\n",
      "09/11/19 @ 04:14 PM | best objective value: 0.0926\n",
      "09/11/19 @ 04:14 PM | sequential rounding produced 3 integer solutions\n",
      "09/11/19 @ 04:14 PM | best objective value: 0.0939\n",
      "09/11/19 @ 04:14 PM | polishing 8 solutions\n",
      "09/11/19 @ 04:14 PM | best objective value: 0.0939\n",
      "09/11/19 @ 04:14 PM | polishing produced 5 integer solutions\n",
      "09/11/19 @ 04:14 PM | initialization produced 8 feasible solutions\n",
      "09/11/19 @ 04:14 PM | best objective value: 0.0939\n",
      "09/11/19 @ 04:14 PM | ------------------------------------------------------------\n",
      "09/11/19 @ 04:14 PM | completed initialization procedure\n",
      "09/11/19 @ 04:14 PM | ------------------------------------------------------------\n",
      "09/11/19 @ 04:14 PM | 1301 rows in lookup table\n",
      "CPXPARAM_Read_DataCheck                          1\n",
      "CPXPARAM_Threads                                 1\n",
      "CPXPARAM_Parallel                                1\n",
      "CPXPARAM_RandomSeed                              0\n",
      "CPXPARAM_TimeLimit                               200\n",
      "CPXPARAM_MIP_Tolerances_LowerCutoff              0.092434467352423846\n",
      "CPXPARAM_MIP_Tolerances_UpperCutoff              0.093948169177093602\n"
     ]
    },
    {
     "name": "stderr",
     "output_type": "stream",
     "text": [
      "Warning: Control callbacks may disable some MIP features.\n"
     ]
    },
    {
     "name": "stdout",
     "output_type": "stream",
     "text": [
      "Lazy constraint(s) or lazy constraint callback is present.\n",
      "    Disabling dual reductions (CPX_PARAM_REDUCE) in presolve.\n",
      "    Disabling non-linear reductions (CPX_PARAM_PRELINEAR) in presolve.\n",
      "         Disabling repeat represolve because of lazy constraint/incumbent callback.\n",
      "09/11/19 @ 04:14 PM | adding 251 initial cuts\n",
      "1 of 1 MIP starts provided solutions.\n",
      "MIP start 'mip_start_0' defined initial solution with objective 0.0939.\n",
      "Tried aggregator 1 time.\n",
      "Reduced MIP has 32 rows, 64 columns, and 123 nonzeros.\n",
      "Reduced MIP has 30 binaries, 32 generals, 0 SOSs, and 0 indicators.\n",
      "Presolve time = 0.00 sec. (0.07 ticks)\n",
      "Probing time = 0.00 sec. (0.02 ticks)\n",
      "MIP emphasis: balance optimality and feasibility.\n",
      "MIP search method: traditional branch-and-cut.\n",
      "Parallel mode: none, using 1 thread.\n",
      "Root relaxation solution time = 0.00 sec. (0.04 ticks)\n",
      "\n",
      "        Nodes                                         Cuts/\n",
      "   Node  Left     Objective  IInf  Best Integer    Best Bound    ItCnt     Gap         Variable B NodeID Parent  Depth\n",
      "\n",
      "*     0+    0                            0.0939        0.0923             1.72%\n",
      "      0     0        0.0924     1        0.0939        0.0924        1    1.61%\n",
      "      0     2        0.0924     2        0.0939        0.0924        1    1.61%                        0             0\n",
      "Elapsed time = 0.16 sec. (1.51 ticks, tree = 0.01 MB, solutions = 1)\n",
      "   2595  1163        0.0924     1        0.0939        0.0924     9108    1.61%          rho_12 U   2595   2442     58\n",
      "   4850  2010        0.0924     1        0.0939        0.0924    16654    1.61%          rho_12 U   4850   4848     84\n",
      "   7039  2861        0.0927     7        0.0939        0.0924    24067    1.61%           rho_4 D   7039   7038     83\n",
      "   9089  3612        0.0938     7        0.0939        0.0924    32080    1.61%           rho_2 U   9089   9088     59\n",
      "  10918  4310        0.0930     8        0.0939        0.0924    39876    1.61%           rho_3 D  10918  10917     90\n",
      "  13020  4932        0.0924     6        0.0939        0.0924    46993    1.61%           rho_4 D  13020   5095     95\n",
      "  14964  5628        0.0930     5        0.0939        0.0924    53948    1.61%           rho_4 U  14964  14963     62\n",
      "  16949  6170        0.0936     1        0.0939        0.0924    61129    1.61%           rho_4 U  16949  16947     71\n",
      "  18975  6911        0.0924     6        0.0939        0.0924    69342    1.61%           rho_0 D  18975  18599     91\n",
      "  26850  9283        0.0930     4        0.0939        0.0924    98908    1.61%           rho_4 U  26850  26849     69\n",
      "Elapsed time = 6.13 sec. (3101.94 ticks, tree = 2.72 MB, solutions = 1)\n",
      "  33521 11382        0.0924     4        0.0939        0.0924   125086    1.61%           rho_0 D  33521  33519     82\n",
      "  39675 13199        0.0927     9        0.0939        0.0924   151293    1.61%           rho_3 D  39675  20502     64\n",
      "  45110 13835        0.0924     2        0.0939        0.0924   176596    1.61%           rho_0 D  45110  45108     39\n",
      "  50854 15795        0.0924     1        0.0939        0.0924   200342    1.61%           rho_0 D  50854  50852     64\n",
      "  56419 17417        0.0924     1        0.0939        0.0924   221313    1.61%           rho_4 N  56419  56418     55\n",
      "  62191 18649        0.0931     3        0.0939        0.0924   243176    1.61%           rho_3 U  62191  62190     41\n",
      "  67465 20022        0.0934     6        0.0939        0.0924   264690    1.61%          rho_15 U  67465  67462     65\n",
      "  72844 21378        0.0924     9        0.0939        0.0924   287788    1.61%           rho_0 D  72844  72842     72\n",
      "  78125 22730        0.0927     6        0.0939        0.0924   310960    1.61%          rho_11 U  78125  78124     22\n",
      "  83170 24425        cutoff              0.0939        0.0924   332433    1.61%          rho_29 U  83170  83169     60\n",
      "Elapsed time = 19.09 sec. (12639.96 ticks, tree = 6.97 MB, solutions = 1)\n",
      "  88310 25536        0.0935     7        0.0939        0.0924   356019    1.61%          rho_13 D  88310  88309     53\n",
      "  93163 27033        cutoff              0.0939        0.0924   379749    1.61%          rho_13 U  93163  93161     71\n",
      "  98000 28539        0.0926     4        0.0939        0.0924   403165    1.61%           rho_4 U  98000  97998     39\n",
      " 103007 29530        0.0924     4        0.0939        0.0924   420449    1.61%           rho_0 D 103007 103005     85\n",
      " 107503 30613        0.0925     6        0.0939        0.0924   439501    1.61%           rho_4 D 107503 107469     71\n",
      " 111861 31515        0.0932     5        0.0939        0.0924   457548    1.61%           rho_0 D 111861 111859     49\n",
      " 116150 32522        0.0938     4        0.0939        0.0924   473995    1.61%           rho_0 N 116150 116149     69\n",
      " 120568 33956        0.0924     7        0.0939        0.0924   490793    1.61%          rho_12 D 120568 120567     49\n",
      " 124776 34979        0.0924     4        0.0939        0.0924   511617    1.61%          rho_11 N 124776  93548     81\n",
      " 129193 35788        0.0935     7        0.0939        0.0924   531508    1.61%           rho_4 D 129193 129191     80\n",
      "Elapsed time = 32.11 sec. (22179.81 ticks, tree = 11.10 MB, solutions = 1)\n",
      " 133838 36943        0.0929     7        0.0939        0.0924   552550    1.61%          rho_24 D 133838 133836     94\n",
      " 138634 38273        0.0924     5        0.0939        0.0924   571824    1.61%          rho_12 U 138634  82864     27\n",
      " 143150 39284        0.0924     7        0.0939        0.0924   591088    1.61%           rho_4 D 143150 143149     75\n",
      " 147727 40501        0.0934     6        0.0939        0.0924   610216    1.61%           rho_3 N 147727 147726     81\n",
      " 152231 41651        0.0930     9        0.0939        0.0924   629561    1.61%          rho_28 D 152231 152229     60\n",
      " 156780 42825        0.0930     9        0.0939        0.0924   649416    1.61%          rho_28 D 156780 156778     72\n",
      " 161212 43867        0.0927     6        0.0939        0.0924   668605    1.61%           rho_3 N 161212  74969     60\n",
      " 165405 45148        0.0935     9        0.0939        0.0924   688290    1.61%          rho_28 D 165405 165403     75\n",
      " 170014 46227        0.0932     7        0.0939        0.0924   707977    1.61%          rho_11 N 170014 170013     58\n",
      " 174496 47251        0.0930     9        0.0939        0.0924   726416    1.61%          rho_27 D 174496 174494     77\n",
      "Elapsed time = 43.08 sec. (31717.92 ticks, tree = 13.84 MB, solutions = 1)\n",
      " 178917 48295        cutoff              0.0939        0.0924   744743    1.61%           rho_0 U 178917 178916     55\n",
      " 183268 49494        0.0936     9        0.0939        0.0924   761367    1.61%          rho_20 D 183268 183267     67\n",
      " 187597 50670        0.0937     7        0.0939        0.0924   779030    1.61%           rho_6 D 187597 187596     71\n",
      " 192008 51360        0.0933     5        0.0939        0.0924   796978    1.61%          rho_24 D 192008 192006     67\n",
      " 196518 52189        0.0924     6        0.0939        0.0924   813491    1.61%          rho_12 D 196518 196517     58\n",
      " 201034 53254        0.0924     1        0.0939        0.0924   831318    1.61%          rho_12 U 201034 201032     68\n",
      " 205360 54256        0.0924     7        0.0939        0.0924   850580    1.61%          rho_12 D 205360 205359     53\n",
      " 209589 55194        0.0930     5        0.0939        0.0924   870154    1.61%           rho_3 D 209589 209588     67\n",
      " 213963 56279        0.0933    10        0.0939        0.0924   889931    1.61%           rho_0 D 213963 213961     69\n",
      " 218380 57369        0.0925     4        0.0939        0.0924   909769    1.61%           rho_0 D 218380 218378     64\n",
      "Elapsed time = 53.48 sec. (41255.99 ticks, tree = 16.33 MB, solutions = 1)\n",
      " 222772 58467        0.0934     7        0.0939        0.0924   930000    1.61%          rho_29 D 222772 222770     90\n",
      " 226820 59628        0.0927     6        0.0939        0.0924   949974    1.61%          rho_15 N 226820 226819     62\n",
      " 230718 60948        0.0924     7        0.0939        0.0924   968070    1.61%          rho_12 D 230718 230717     90\n",
      " 234562 62250        0.0924     6        0.0939        0.0924   985851    1.61%           rho_0 D 234562 234560     49\n"
     ]
    },
    {
     "name": "stdout",
     "output_type": "stream",
     "text": [
      " 238415 63532        cutoff              0.0939        0.0924  1004363    1.61%           rho_0 U 238415 238414     59\n",
      " 242102 64739        0.0933     7        0.0939        0.0924  1026028    1.61%           rho_9 D 242102 242100     48\n",
      " 246183 65734        cutoff              0.0939        0.0924  1042235    1.61%          rho_27 U 246183 246182     81\n",
      " 250120 66854        0.0924     7        0.0939        0.0924  1059229    1.61%           rho_4 N 250120 238277     73\n",
      " 254452 68450        cutoff              0.0939        0.0924  1077838    1.61%           rho_0 U 254452 254451     33\n",
      " 258466 69750        0.0925     4        0.0939        0.0924  1095329    1.61%           rho_4 U 258466  50475     82\n",
      "Elapsed time = 64.42 sec. (50794.68 ticks, tree = 22.15 MB, solutions = 1)\n",
      " 262316 71115        0.0925     6        0.0939        0.0924  1112636    1.61%           rho_0 D 262316 262314     60\n",
      " 266171 72387        0.0930    12        0.0939        0.0924  1130229    1.61%           rho_3 U 266171 266157     34\n",
      " 269913 73337        0.0930     4        0.0939        0.0924  1148898    1.61%           rho_4 U 269913 269912     79\n",
      " 273879 75036        0.0938     8        0.0939        0.0924  1167352    1.61%           rho_0 D 273879 273878     45\n",
      " 277570 75678        0.0932     9        0.0939        0.0924  1184656    1.61%           rho_6 D 277570 277569     69\n",
      " 281500 76915        0.0924     5        0.0939        0.0924  1200232    1.61%          rho_12 D 281500 281499     41\n",
      " 285364 78095        0.0932     4        0.0939        0.0924  1219315    1.61%           rho_4 U 285364 285362     49\n",
      " 289213 79240        cutoff              0.0939        0.0924  1238473    1.61%           rho_0 U 289213 289212     78\n",
      " 293127 80490        0.0928     7        0.0939        0.0924  1257744    1.61%          rho_15 D 293127 293126     94\n",
      " 297027 81707        0.0926     8        0.0939        0.0924  1276487    1.61%          rho_11 U 297027 296690     51\n",
      "Elapsed time = 75.20 sec. (60332.76 ticks, tree = 25.11 MB, solutions = 1)\n",
      " 300944 82854        0.0925     6        0.0939        0.0924  1294707    1.61%          rho_15 U 300944 300942     45\n",
      " 305350 84548        0.0924     5        0.0939        0.0924  1312045    1.61%           rho_4 D 305350 305127     74\n",
      " 308903 85235        0.0925     4        0.0939        0.0924  1329454    1.61%           rho_3 N 308903 308892     64\n",
      " 312424 86015        0.0938    11        0.0939        0.0924  1346280    1.61%           rho_3 D 312424 312422     58\n",
      " 315963 86689        0.0924     9        0.0939        0.0924  1363039    1.61%          rho_12 U 315963 315961     55\n",
      " 319467 87655        cutoff              0.0939        0.0924  1379599    1.61%           rho_0 U 319467 319466     68\n",
      " 323274 88881        0.0937     4        0.0939        0.0924  1396635    1.61%          rho_13 U 323274 323203     62\n",
      " 327052 89297        0.0931     5        0.0939        0.0924  1413344    1.61%           rho_4 D 327052 327051     59\n",
      " 330867 89753        0.0924     5        0.0939        0.0924  1430194    1.61%           rho_4 N 330867 330178     47\n",
      " 334650 90258        0.0926     5        0.0939        0.0924  1447651    1.61%           rho_4 D 334650 334649     33\n",
      "Elapsed time = 84.47 sec. (69872.12 ticks, tree = 27.25 MB, solutions = 1)\n",
      " 338586 91486        cutoff              0.0939        0.0924  1463025    1.61%           rho_0 U 338586 338585     60\n",
      " 342302 92660        cutoff              0.0939        0.0924  1479593    1.61%           rho_0 U 342302 342301     60\n",
      " 346006 93800        0.0926     7        0.0939        0.0924  1495800    1.61%           rho_0 D 346006 346004     57\n",
      " 349959 95067        cutoff              0.0939        0.0924  1512307    1.61%           rho_0 U 349959 349958     81\n",
      " 353569 95446        0.0930     4        0.0939        0.0924  1527953    1.61%           rho_0 D 353569 353568     61\n",
      " 357478 96359        cutoff              0.0939        0.0924  1542538    1.61%           rho_1 D 357478 357477     76\n",
      " 361471 97375        0.0935     7        0.0939        0.0924  1556363    1.61%           rho_6 D 361471 361470    102\n",
      " 365230 98385        0.0924     2        0.0939        0.0924  1572983    1.61%           rho_0 D 365230 365228     47\n",
      " 369060 99633        0.0928     4        0.0939        0.0924  1591576    1.61%           rho_0 D 369060 369058     46\n",
      " 372635 100183        0.0937    11        0.0939        0.0924  1608731    1.61%           rho_6 D 372635 372633     25\n",
      "Elapsed time = 94.14 sec. (79409.85 ticks, tree = 29.73 MB, solutions = 1)\n",
      " 376349 101436        0.0938     7        0.0939        0.0924  1627921    1.61%          rho_24 D 376349 376347     43\n",
      " 380009 103091        0.0927     9        0.0939        0.0924  1649905    1.61%           rho_3 N 380009 380008     47\n",
      " 383634 104405        0.0927     7        0.0939        0.0924  1670510    1.61%           rho_3 U 383634 383524     35\n",
      " 387201 105491        cutoff              0.0939        0.0924  1690130    1.61%           rho_0 D 387201 387200     53\n",
      " 390779 106620        0.0924     6        0.0939        0.0924  1709678    1.61%           rho_4 U 390779 390773     88\n",
      " 394309 107726        0.0931     5        0.0939        0.0924  1729310    1.61%          rho_11 D 394309 394308     65\n",
      " 397751 108956        0.0924     4        0.0939        0.0924  1748192    1.61%          rho_12 U 397751 397749     24\n",
      " 401351 110027        cutoff              0.0939        0.0924  1766383    1.61%           rho_0 U 401351 401350     44\n",
      " 405292 111147        0.0927     9        0.0939        0.0924  1783001    1.61%           rho_4 D 405292 405291     51\n",
      " 420830 115588        0.0935     9        0.0939        0.0924  1850699    1.61%           rho_1 D 420830 420829     43\n",
      "Elapsed time = 106.80 sec. (91809.49 ticks, tree = 33.60 MB, solutions = 1)\n",
      " 435262 120309        0.0924     7        0.0939        0.0924  1925119    1.61%           rho_4 D 435262 435088     29\n",
      " 449668 125520        0.0928     5        0.0939        0.0924  1991412    1.61%           rho_4 D 449668 449666     99\n",
      " 465448 130251        0.0925     6        0.0939        0.0924  2058089    1.61%           rho_3 D 465448 465377     71\n",
      " 480870 134527        0.0931     6        0.0939        0.0924  2126343    1.61%           rho_6 U 480870 449196     90\n",
      " 496593 139400        0.0925     7        0.0939        0.0924  2189789    1.61%           rho_3 D 496593 496592     78\n",
      " 512624 144765        0.0928     7        0.0939        0.0924  2251560    1.61%          rho_15 D 512624 512623     69\n",
      " 526734 149384        cutoff              0.0939        0.0924  2315688    1.61%           rho_0 U 526734 526732    101\n",
      " 540970 152189        cutoff              0.0939        0.0924  2381761    1.61%           rho_6 U 540970 540969     42\n",
      " 555644 156586        cutoff              0.0939        0.0924  2449815    1.61%          rho_24 U 555644 555643     34\n",
      " 569890 161664        0.0924     7        0.0939        0.0924  2520460    1.61%           rho_4 N 569890 568933     82\n",
      "Elapsed time = 154.17 sec. (129958.74 ticks, tree = 49.77 MB, solutions = 1)\n",
      " 583450 165453        0.0933     8        0.0939        0.0924  2581605    1.61%           rho_0 D 583450 583448     49\n",
      " 597256 168677        0.0929     8        0.0939        0.0924  2652859    1.61%           rho_3 D 597256 597255     70\n",
      " 611205 171920        0.0926    11        0.0939        0.0924  2721898    1.61%           rho_3 D 611205 611204     64\n",
      " 624710 174437        0.0930     9        0.0939        0.0924  2786318    1.61%          rho_15 D 624710 624709     37\n",
      " 639913 178565        0.0933     6        0.0939        0.0924  2853204    1.61%           rho_6 D 639913 639912     48\n",
      " 654991 181946        0.0929    12        0.0939        0.0924  2914210    1.61%          rho_11 D 654991 654990     34\n",
      " 668997 186595        0.0924     8        0.0939        0.0924  2983831    1.61%           rho_0 D 668997 668995     23\n",
      " 682502 191960        0.0928     7        0.0939        0.0924  3058567    1.61%          rho_28 D 682502 682500     86\n"
     ]
    },
    {
     "name": "stdout",
     "output_type": "stream",
     "text": [
      " 696845 197284        0.0928     5        0.0939        0.0924  3121028    1.61%          rho_24 D 696845 696844     49\n",
      " 710560 202102        0.0925     6        0.0939        0.0924  3183651    1.61%          rho_11 U 710560 710524     72\n",
      "Elapsed time = 195.78 sec. (168107.53 ticks, tree = 62.04 MB, solutions = 1)\n",
      " 724420 206034        cutoff              0.0939        0.0924  3253439    1.61%          rho_13 U 724420 724419     52\n",
      "\n",
      "User cuts applied:  356\n",
      "\n",
      "Root node processing (before b&c):\n",
      "  Real time             =    0.14 sec. (1.55 ticks)\n",
      "Sequential b&c:\n",
      "  Real time             =  199.88 sec. (172666.31 ticks)\n",
      "                          ------------\n",
      "Total (root+branch&cut) =  200.02 sec. (172667.85 ticks)\n",
      "+----------------------------------------------+------------------+-----------+\n",
      "| Pr(Y = +1) = 1.0/(1.0 + exp(-(-6 + score))   |                  |           |\n",
      "| ============================================ | ================ | ========= |\n",
      "| p_arrest>=4                                  |         1 points |   + ..... |\n",
      "| p_felony>=1                                  |         1 points |   + ..... |\n",
      "| p_misdemeanor>=1                             |         1 points |   + ..... |\n",
      "| p_drug>=1                                    |         1 points |   + ..... |\n",
      "| ============================================ | ================ | ========= |\n",
      "| ADD POINTS FROM ROWS 1 to 4                  |            SCORE |   = ..... |\n",
      "+----------------------------------------------+------------------+-----------+\n",
      "model_id, score_thresholds 0 {'rank_abs': [0]}\n",
      "get_disparity_predefined_group()\n",
      "setting c0 = 0.0 to ensure that intercept is not penalized\n",
      "09/11/19 @ 04:17 PM | 1301 rows in lookup table\n",
      "09/11/19 @ 04:17 PM | ------------------------------------------------------------\n",
      "09/11/19 @ 04:17 PM | runnning initialization procedure\n",
      "09/11/19 @ 04:17 PM | ------------------------------------------------------------\n",
      "09/11/19 @ 04:17 PM | CPA produced 2 cuts\n",
      "09/11/19 @ 04:17 PM | running naive rounding on 118 solutions\n",
      "09/11/19 @ 04:17 PM | best objective value: 0.0936\n",
      "09/11/19 @ 04:17 PM | rounding produced 4 integer solutions\n",
      "09/11/19 @ 04:17 PM | best objective value is 0.0951\n",
      "09/11/19 @ 04:17 PM | running sequential rounding on 118 solutions\n",
      "09/11/19 @ 04:17 PM | best objective value: 0.0936\n",
      "09/11/19 @ 04:17 PM | sequential rounding produced 4 integer solutions\n",
      "09/11/19 @ 04:17 PM | best objective value: 0.0951\n",
      "09/11/19 @ 04:17 PM | polishing 8 solutions\n",
      "09/11/19 @ 04:17 PM | best objective value: 0.0951\n",
      "09/11/19 @ 04:17 PM | polishing produced 4 integer solutions\n",
      "09/11/19 @ 04:17 PM | initialization produced 6 feasible solutions\n",
      "09/11/19 @ 04:17 PM | best objective value: 0.0951\n",
      "09/11/19 @ 04:17 PM | ------------------------------------------------------------\n",
      "09/11/19 @ 04:17 PM | completed initialization procedure\n",
      "09/11/19 @ 04:17 PM | ------------------------------------------------------------\n",
      "09/11/19 @ 04:17 PM | 1301 rows in lookup table\n",
      "CPXPARAM_Read_DataCheck                          1\n",
      "CPXPARAM_Threads                                 1\n",
      "CPXPARAM_Parallel                                1\n",
      "CPXPARAM_RandomSeed                              0\n",
      "CPXPARAM_TimeLimit                               200\n",
      "CPXPARAM_MIP_Tolerances_LowerCutoff              0.093413235173505166\n",
      "CPXPARAM_MIP_Tolerances_UpperCutoff              0.095127199296643442\n"
     ]
    },
    {
     "name": "stderr",
     "output_type": "stream",
     "text": [
      "Warning: Control callbacks may disable some MIP features.\n"
     ]
    },
    {
     "name": "stdout",
     "output_type": "stream",
     "text": [
      "Lazy constraint(s) or lazy constraint callback is present.\n",
      "    Disabling dual reductions (CPX_PARAM_REDUCE) in presolve.\n",
      "    Disabling non-linear reductions (CPX_PARAM_PRELINEAR) in presolve.\n",
      "         Disabling repeat represolve because of lazy constraint/incumbent callback.\n",
      "09/11/19 @ 04:17 PM | adding 249 initial cuts\n",
      "1 of 1 MIP starts provided solutions.\n",
      "MIP start 'mip_start_0' defined initial solution with objective 0.0951.\n",
      "Tried aggregator 1 time.\n",
      "Reduced MIP has 32 rows, 64 columns, and 123 nonzeros.\n",
      "Reduced MIP has 30 binaries, 32 generals, 0 SOSs, and 0 indicators.\n",
      "Presolve time = 0.02 sec. (0.07 ticks)\n",
      "Probing time = 0.00 sec. (0.02 ticks)\n",
      "MIP emphasis: balance optimality and feasibility.\n",
      "MIP search method: traditional branch-and-cut.\n",
      "Parallel mode: none, using 1 thread.\n",
      "Root relaxation solution time = 0.00 sec. (0.04 ticks)\n",
      "\n",
      "        Nodes                                         Cuts/\n",
      "   Node  Left     Objective  IInf  Best Integer    Best Bound    ItCnt     Gap         Variable B NodeID Parent  Depth\n",
      "\n",
      "*     0+    0                            0.0951        0.0933             1.91%\n",
      "      0     0        0.0934     1        0.0951        0.0934        1    1.80%\n",
      "      0     2        0.0934     2        0.0951        0.0934        1    1.80%                        0             0\n",
      "Elapsed time = 0.19 sec. (1.52 ticks, tree = 0.01 MB, solutions = 1)\n",
      "   2370  1018        0.0937    15        0.0951        0.0934     9262    1.80%          rho_18 D   2370   1354     11\n",
      "   3838  1711        0.0934     7        0.0951        0.0934    15925    1.80%           rho_0 D   3838   3836     57\n",
      "   5260  2303        0.0934     1        0.0951        0.0934    23741    1.80%           rho_1 U   5260   4837     37\n",
      "   6530  2868        0.0934     9        0.0951        0.0934    30607    1.80%          rho_12 D   6530   6529     68\n",
      "   7735  3453        0.0948     9        0.0951        0.0934    37223    1.80%          rho_10 D   7735   7734     69\n",
      "   8964  4008        cutoff              0.0951        0.0934    43556    1.80%          rho_21 U   8964   8963     67\n",
      "  10138  4639        0.0949     9        0.0951        0.0934    48844    1.80%           rho_0 D  10138  10137     62\n",
      "  11377  5385        0.0935     6        0.0951        0.0934    54688    1.80%          rho_12 U  11377  11375     41\n",
      "  12607  5850        0.0934     7        0.0951        0.0934    61162    1.80%          rho_12 D  12607  12606     71\n",
      "  17771  8013        0.0944     1        0.0951        0.0934    85933    1.80%           rho_0 U  17771  17770     69\n",
      "Elapsed time = 4.86 sec. (3102.05 ticks, tree = 2.11 MB, solutions = 1)\n",
      "  22246 10089        cutoff              0.0951        0.0934   114298    1.80%          rho_11 U  22246  22244     41\n",
      "  26791 11721        0.0944     5        0.0951        0.0934   136691    1.80%          rho_30 D  26791  26789     48\n",
      "  31131 13593        0.0934     3        0.0951        0.0934   161365    1.80%          rho_12 D  31131  31130     44\n",
      "  35552 15532        0.0934     4        0.0951        0.0934   187602    1.80%           rho_4 U  35552  35406     97\n",
      "  39836 17801        cutoff              0.0951        0.0934   209689    1.80%           rho_4 U  39836  39835     75\n",
      "  44067 19185        0.0938    10        0.0951        0.0934   229758    1.80%           rho_0 D  44067  44065     71\n",
      "  47938 20347        cutoff              0.0951        0.0934   249792    1.80%           rho_2 U  47938  47937     74\n",
      "  52109 21785        0.0942     7        0.0951        0.0934   270558    1.80%          rho_30 D  52109  52107     55\n",
      "  55801 22908        0.0943     9        0.0951        0.0934   290336    1.80%           rho_0 N  55801  55799     67\n",
      "  59701 24093        0.0935     9        0.0951        0.0934   311680    1.80%          rho_11 D  59701  59700     62\n",
      "Elapsed time = 14.55 sec. (12640.26 ticks, tree = 6.90 MB, solutions = 1)\n",
      "  63616 25301        0.0934    11        0.0951        0.0934   333138    1.80%          rho_13 D  63616  62284     32\n",
      "  67330 26762        0.0934     5        0.0951        0.0934   352414    1.80%          rho_11 U  67330  67314     84\n",
      "  71033 28030        cutoff              0.0951        0.0934   370203    1.80%          rho_21 U  71033  71032     86\n",
      "  74778 30089        0.0939     9        0.0951        0.0934   391352    1.80%           rho_6 D  74778  74777     85\n",
      "  78461 31367        0.0934     8        0.0951        0.0934   407562    1.80%           rho_4 D  78461  78460     81\n",
      "  82091 32595        0.0947     9        0.0951        0.0934   423430    1.80%          rho_16 D  82091  82089     97\n",
      "  85720 33797        0.0935     6        0.0951        0.0934   439712    1.80%           rho_4 U  85720  85712     47\n",
      "  89269 34977        cutoff              0.0951        0.0934   455667    1.80%          rho_11 U  89269  89267     76\n",
      "  92730 36071        0.0941     8        0.0951        0.0934   471946    1.80%           rho_0 D  92730  92729     65\n",
      "  96100 37452        0.0944     9        0.0951        0.0934   491224    1.80%          rho_16 D  96100  96098     79\n",
      "Elapsed time = 23.59 sec. (22179.44 ticks, tree = 11.57 MB, solutions = 1)\n",
      "  99682 38854        0.0934     7        0.0951        0.0934   509579    1.80%          rho_12 D  99682  99681     71\n",
      " 103314 40486        0.0934     7        0.0951        0.0934   527089    1.80%          rho_12 D 103314 103313     73\n",
      " 106663 41583        0.0942    11        0.0951        0.0934   545958    1.80%           rho_3 D 106663 106662     92\n",
      " 109769 42110        0.0947     8        0.0951        0.0934   565506    1.80%           rho_1 U 109769  35075    101\n",
      " 112886 42720        cutoff              0.0951        0.0934   584581    1.80%          rho_11 U 112886 112884     73\n",
      " 116268 43634        cutoff              0.0951        0.0934   602782    1.80%          rho_26 U 116268 116267     40\n",
      " 119538 44392        0.0937     6        0.0951        0.0934   621859    1.80%           rho_4 U 119538 119537     52\n",
      " 122680 45300        0.0935     7        0.0951        0.0934   640793    1.80%           rho_0 D 122680 122678     52\n",
      " 126049 46378        cutoff              0.0951        0.0934   659442    1.80%          rho_29 U 126049 126048     74\n",
      " 129941 48329        cutoff              0.0951        0.0934   676151    1.80%          rho_27 D 129941 129939     69\n",
      "Elapsed time = 35.05 sec. (31717.85 ticks, tree = 14.24 MB, solutions = 1)\n",
      "*132553 47553      integral     0        0.0950        0.0934   690568    1.66%\n",
      " 133183 47734        0.0934    12        0.0950        0.0934   695118    1.66%          rho_13 D 133183 133182     29\n",
      " 137100 49163        0.0934     9        0.0950        0.0934   710583    1.66%          rho_12 D 137100 137099     69\n",
      " 140748 50352        0.0934     8        0.0950        0.0934   727238    1.66%           rho_4 D 140748 140747     43\n",
      " 144446 51964        0.0944     9        0.0950        0.0934   746601    1.66%           rho_3 D 144446 144445     70\n",
      " 148054 53392        0.0944     9        0.0950        0.0934   766225    1.66%           rho_3 D 148054 148053     62\n",
      " 151723 54889        0.0934     8        0.0950        0.0934   785519    1.66%           rho_4 U 151723 141026     81\n",
      " 155419 56396        cutoff              0.0950        0.0934   804763    1.66%           rho_0 U 155419 155418     65\n",
      " 159052 57836        0.0940     4        0.0950        0.0934   824240    1.66%           rho_0 D 159052 159051     79\n",
      " 162239 58620        cutoff              0.0950        0.0934   843901    1.66%           rho_0 U 162239 162237     75\n",
      " 165630 59567        0.0934     5        0.0950        0.0934   862783    1.66%          rho_15 D 165630   6791     63\n",
      "Elapsed time = 47.44 sec. (41256.78 ticks, tree = 16.99 MB, solutions = 2)\n",
      " 169282 61377        cutoff              0.0950        0.0934   878857    1.66%           rho_4 D 169282 169280     72\n",
      " 172692 62357        0.0937     8        0.0950        0.0934   898300    1.66%          rho_15 U 172692 172684     62\n",
      " 176331 63790        0.0937     8        0.0950        0.0934   914864    1.66%           rho_0 D 176331 176330     61\n"
     ]
    },
    {
     "name": "stdout",
     "output_type": "stream",
     "text": [
      " 179910 64987        0.0941     8        0.0950        0.0934   932564    1.66%           rho_0 D 179910 179909     88\n",
      " 183225 65882        0.0941     9        0.0950        0.0934   950009    1.66%           rho_0 U 183225 183224    104\n",
      " 186415 66540        0.0934     9        0.0950        0.0934   968959    1.66%           rho_0 D 186415 186413     18\n",
      " 189660 67311        0.0934     5        0.0950        0.0934   987361    1.66%           rho_6 D 189660 189659     59\n",
      " 192902 67927        cutoff              0.0950        0.0934  1005391    1.66%          rho_20 D 192902 192901     28\n",
      " 196128 68565        0.0944     8        0.0950        0.0934  1022740    1.66%           rho_1 U 196128 196121     64\n",
      " 199141 69231        0.0943     6        0.0950        0.0934  1039304    1.66%           rho_4 U 199141 199139     84\n",
      "Elapsed time = 59.27 sec. (50795.53 ticks, tree = 22.21 MB, solutions = 2)\n",
      " 202190 69842        0.0947     4        0.0950        0.0934  1055166    1.66%          rho_29 U 202190 202189     61\n",
      " 205440 70424        0.0938    10        0.0950        0.0934  1071544    1.66%           rho_3 U 205440  21511     55\n",
      " 208710 71499        0.0934     5        0.0950        0.0934  1089090    1.66%          rho_11 N 208710 207217     69\n",
      " 212060 72617        0.0934     6        0.0950        0.0934  1106069    1.66%          rho_12 D 212060 212059     78\n",
      " 215109 73268        0.0941     4        0.0950        0.0934  1122856    1.66%           rho_4 U 215109 215108     89\n",
      " 218092 73820        0.0948     7        0.0950        0.0934  1139186    1.66%           rho_3 D 218092 218090     67\n",
      " 221077 74386        0.0947    12        0.0950        0.0934  1155702    1.66%           rho_7 D 221077 220137     45\n",
      " 224175 75219        0.0949     9        0.0950        0.0934  1172657    1.66%          rho_17 D 224175 224174     72\n",
      " 227308 76010        0.0949     5        0.0950        0.0934  1189985    1.66%           rho_3 U 227308 227307     42\n",
      " 230472 76673        cutoff              0.0950        0.0934  1206945    1.66%           rho_3 U 230472 230471     62\n",
      "Elapsed time = 68.67 sec. (60335.72 ticks, tree = 24.04 MB, solutions = 2)\n",
      " 233680 77333        cutoff              0.0950        0.0934  1223813    1.66%           rho_1 U 233680 233571     57\n",
      " 236869 77964        0.0943    12        0.0950        0.0934  1240503    1.66%          rho_28 D 236869 236867     90\n",
      " 240365 79525        0.0935     9        0.0950        0.0934  1255626    1.66%          rho_12 D 240365 240179     21\n",
      " 243621 80290        0.0934     4        0.0950        0.0934  1271978    1.66%           rho_4 N 243621 243584     71\n",
      " 246710 80986        cutoff              0.0950        0.0934  1289902    1.66%           rho_3 U 246710 246709     74\n",
      " 249870 81900        0.0934     6        0.0950        0.0934  1306858    1.66%           rho_0 D 249870 249868     59\n",
      " 253079 82576        cutoff              0.0950        0.0934  1323674    1.66%           rho_3 D 253079 253077     70\n",
      " 256200 83147        0.0942     9        0.0950        0.0934  1340729    1.66%           rho_4 D 256200 256198     99\n",
      " 259342 83799        0.0946    11        0.0950        0.0934  1358185    1.66%           rho_0 N 259342 259340     73\n",
      "*260000+83483                            0.0950        0.0934             1.64%\n",
      " 262550 84146        0.0936    12        0.0950        0.0934  1375949    1.64%          rho_10 D 262550 262548     75\n",
      "Elapsed time = 78.16 sec. (69876.59 ticks, tree = 25.90 MB, solutions = 3)\n",
      " 265725 84762        0.0947     9        0.0950        0.0934  1393694    1.64%          rho_17 D 265725 265724     69\n",
      " 268798 85406        0.0939     8        0.0950        0.0934  1411428    1.64%           rho_3 N 268798 268797     67\n",
      " 272164 86367        0.0937    11        0.0950        0.0934  1428754    1.64%          rho_15 D 272164 272163     54\n",
      " 275592 87245        0.0938    11        0.0950        0.0934  1445925    1.64%          rho_16 D 275592 275591     62\n",
      " 279060 88130        0.0935    14        0.0950        0.0934  1462642    1.64%          rho_15 D 279060 279059     66\n",
      " 282504 89062        cutoff              0.0950        0.0934  1479372    1.64%          rho_17 D 282504 282503     62\n",
      " 285888 90010        0.0937    10        0.0950        0.0934  1496122    1.64%           rho_4 D 285888 285887     93\n",
      " 288785 90523        cutoff              0.0950        0.0934  1512820    1.64%          rho_16 U 288785 288784     54\n",
      " 291986 91685        cutoff              0.0950        0.0934  1530387    1.64%           rho_0 U 291986 291984     33\n",
      " 295234 92692        cutoff              0.0950        0.0934  1547442    1.64%          rho_13 U 295234 295233     65\n",
      "Elapsed time = 87.05 sec. (79414.14 ticks, tree = 28.03 MB, solutions = 3)\n",
      " 298362 93380        0.0948     6        0.0950        0.0934  1564508    1.64%          rho_16 U 298362 152143     68\n",
      " 301300 93557        0.0945     8        0.0950        0.0934  1581300    1.64%          rho_13 D 301300 301298     95\n",
      " 304338 94315        0.0949     9        0.0950        0.0934  1598845    1.64%          rho_16 D 304338 304336     72\n",
      " 307388 95431        0.0944     7        0.0950        0.0934  1618092    1.64%          rho_15 D 307388 307386     41\n",
      " 310472 96267        0.0934     9        0.0950        0.0934  1636415    1.64%           rho_0 U 310472 310471     46\n",
      " 313640 97313        0.0949     7        0.0950        0.0934  1654860    1.64%           rho_0 U 313640 313639     97\n",
      " 316875 98381        cutoff              0.0950        0.0934  1673291    1.64%          rho_27 D 316875 316874     56\n",
      " 320070 99435        0.0942    14        0.0950        0.0934  1692013    1.64%           rho_1 U 320070 320042     77\n",
      " 323256 100503        0.0937    13        0.0950        0.0934  1710577    1.64%           rho_0 U 323256 323255     82\n",
      " 336093 104305        cutoff              0.0950        0.0934  1782578    1.64%           rho_3 U 336093 336092     52\n",
      "Elapsed time = 98.47 sec. (91814.22 ticks, tree = 30.93 MB, solutions = 3)\n",
      " 348871 107821        0.0944     5        0.0950        0.0934  1853552    1.64%          rho_16 D 348871 348869     55\n",
      "*359916 110806      integral     0        0.0950        0.0934  1926715    1.62%\n",
      " 360899 111316        0.0934     1        0.0950        0.0934  1930193    1.62%          rho_12 U 360899 360734     30\n",
      " 373920 117207        0.0938     8        0.0950        0.0934  1994613    1.62%           rho_0 D 373920 373918     60\n",
      " 386875 122180        0.0938     4        0.0950        0.0934  2057532    1.62%          rho_11 N 386875 386874     72\n",
      " 399896 127375        0.0949     5        0.0950        0.0934  2120558    1.62%          rho_26 D 399896 399894     37\n",
      " 411564 130807        cutoff              0.0950        0.0934  2190415    1.62%          rho_17 U 411564 411562     55\n",
      " 424563 133665        cutoff              0.0950        0.0934  2254225    1.62%           rho_0 U 424563 424562     50\n",
      " 437009 137584        0.0938    15        0.0950        0.0934  2325880    1.62%           rho_0 U 437009 437008     61\n",
      " 447529 141876        0.0934    10        0.0950        0.0934  2405794    1.62%           rho_6 D 447529 367707     86\n",
      " 458799 146290        cutoff              0.0950        0.0934  2482898    1.62%           rho_0 U 458799 458797     32\n",
      "Elapsed time = 136.14 sec. (129963.35 ticks, tree = 44.38 MB, solutions = 4)\n",
      " 471789 149675        0.0935    11        0.0950        0.0934  2546152    1.62%          rho_15 D 471789 471788     50\n",
      " 483888 152840        0.0937     6        0.0950        0.0934  2614683    1.62%          rho_15 U 483888 483886     60\n",
      " 497000 155854        0.0944     7        0.0950        0.0934  2676417    1.62%           rho_3 D 497000 496999     70\n",
      " 509762 160012        0.0939     9        0.0950        0.0934  2745310    1.62%          rho_12 D 509762 509761     47\n",
      " 522382 163760        0.0942     7        0.0950        0.0934  2812283    1.62%          rho_16 D 522382 522381     84\n",
      " 535725 168320        0.0935     9        0.0950        0.0934  2879988    1.62%          rho_29 D 535725 535724     30\n"
     ]
    },
    {
     "name": "stdout",
     "output_type": "stream",
     "text": [
      " 547610 172026        0.0936    13        0.0950        0.0934  2950148    1.62%           rho_4 D 547610 547609     80\n",
      " 558810 175449        0.0936    12        0.0950        0.0934  3024339    1.62%           rho_4 D 558810 558809     60\n",
      " 572182 180763        cutoff              0.0950        0.0934  3091784    1.62%           rho_0 U 572182 572181     34\n",
      " 583717 184238        0.0934    10        0.0950        0.0934  3157555    1.62%           rho_4 U 583717 571647     46\n",
      "Elapsed time = 172.38 sec. (168112.96 ticks, tree = 55.76 MB, solutions = 4)\n",
      " 595610 188177        cutoff              0.0950        0.0934  3231355    1.62%           rho_0 U 595610 595609     78\n",
      " 607177 191969        0.0936    13        0.0950        0.0934  3304196    1.62%          rho_30 D 607177 607176     60\n",
      " 618200 195335        0.0941    11        0.0950        0.0934  3375143    1.62%           rho_0 D 618200 618198     59\n",
      " 628947 198422        0.0941     9        0.0950        0.0934  3448326    1.62%          rho_28 D 628947 628945     75\n",
      " 639640 201885        0.0936    13        0.0950        0.0934  3522777    1.62%          rho_26 D 639640 639639     38\n",
      " 651718 206660        0.0936    13        0.0950        0.0934  3597847    1.62%          rho_29 D 651718 651716     59\n",
      "\n",
      "Implied bound cuts applied:  1\n",
      "User cuts applied:  405\n",
      "\n",
      "Root node processing (before b&c):\n",
      "  Real time             =    0.17 sec. (1.56 ticks)\n",
      "Sequential b&c:\n",
      "  Real time             =  199.84 sec. (193936.79 ticks)\n",
      "                          ------------\n",
      "Total (root+branch&cut) =  200.02 sec. (193938.35 ticks)\n",
      "+----------------------------------------------+------------------+-----------+\n",
      "| Pr(Y = +1) = 1.0/(1.0 + exp(-(-6 + score))   |                  |           |\n",
      "| ============================================ | ================ | ========= |\n",
      "| p_arrest>=4                                  |         1 points |   + ..... |\n",
      "| p_felony>=1                                  |         1 points |   + ..... |\n",
      "| p_misdemeanor>=1                             |         1 points |   + ..... |\n",
      "| p_drug>=1                                    |         1 points |   + ..... |\n",
      "| ============================================ | ================ | ========= |\n",
      "| ADD POINTS FROM ROWS 1 to 4                  |            SCORE |   = ..... |\n",
      "+----------------------------------------------+------------------+-----------+\n",
      "model_id, score_thresholds 0 {'rank_abs': [0]}\n",
      "get_disparity_predefined_group()\n",
      "setting c0 = 0.0 to ensure that intercept is not penalized\n",
      "09/11/19 @ 04:21 PM | 1301 rows in lookup table\n",
      "09/11/19 @ 04:21 PM | ------------------------------------------------------------\n",
      "09/11/19 @ 04:21 PM | runnning initialization procedure\n",
      "09/11/19 @ 04:21 PM | ------------------------------------------------------------\n",
      "09/11/19 @ 04:21 PM | CPA produced 2 cuts\n",
      "09/11/19 @ 04:21 PM | running naive rounding on 121 solutions\n",
      "09/11/19 @ 04:21 PM | best objective value: 0.0921\n",
      "09/11/19 @ 04:21 PM | rounding produced 5 integer solutions\n",
      "09/11/19 @ 04:21 PM | best objective value is 0.0940\n",
      "09/11/19 @ 04:21 PM | running sequential rounding on 121 solutions\n",
      "09/11/19 @ 04:21 PM | best objective value: 0.0921\n",
      "09/11/19 @ 04:21 PM | sequential rounding produced 5 integer solutions\n",
      "09/11/19 @ 04:21 PM | best objective value: 0.0936\n",
      "09/11/19 @ 04:21 PM | polishing 10 solutions\n",
      "09/11/19 @ 04:21 PM | best objective value: 0.0936\n",
      "09/11/19 @ 04:21 PM | polishing produced 4 integer solutions\n",
      "09/11/19 @ 04:21 PM | initialization produced 10 feasible solutions\n",
      "09/11/19 @ 04:21 PM | best objective value: 0.0936\n",
      "09/11/19 @ 04:21 PM | ------------------------------------------------------------\n",
      "09/11/19 @ 04:21 PM | completed initialization procedure\n",
      "09/11/19 @ 04:21 PM | ------------------------------------------------------------\n",
      "09/11/19 @ 04:21 PM | 1301 rows in lookup table\n",
      "CPXPARAM_Read_DataCheck                          1\n",
      "CPXPARAM_Threads                                 1\n",
      "CPXPARAM_Parallel                                1\n",
      "CPXPARAM_RandomSeed                              0\n",
      "CPXPARAM_TimeLimit                               200\n",
      "CPXPARAM_MIP_Tolerances_LowerCutoff              0.091995629942052737\n",
      "CPXPARAM_MIP_Tolerances_UpperCutoff              0.093562456948844061\n"
     ]
    },
    {
     "name": "stderr",
     "output_type": "stream",
     "text": [
      "Warning: Control callbacks may disable some MIP features.\n"
     ]
    },
    {
     "name": "stdout",
     "output_type": "stream",
     "text": [
      "Lazy constraint(s) or lazy constraint callback is present.\n",
      "    Disabling dual reductions (CPX_PARAM_REDUCE) in presolve.\n",
      "    Disabling non-linear reductions (CPX_PARAM_PRELINEAR) in presolve.\n",
      "         Disabling repeat represolve because of lazy constraint/incumbent callback.\n",
      "09/11/19 @ 04:21 PM | adding 249 initial cuts\n",
      "1 of 1 MIP starts provided solutions.\n",
      "MIP start 'mip_start_0' defined initial solution with objective 0.0936.\n",
      "Tried aggregator 1 time.\n",
      "Reduced MIP has 32 rows, 64 columns, and 123 nonzeros.\n",
      "Reduced MIP has 30 binaries, 32 generals, 0 SOSs, and 0 indicators.\n",
      "Presolve time = 0.00 sec. (0.07 ticks)\n",
      "Probing time = 0.00 sec. (0.02 ticks)\n",
      "MIP emphasis: balance optimality and feasibility.\n",
      "MIP search method: traditional branch-and-cut.\n",
      "Parallel mode: none, using 1 thread.\n",
      "Root relaxation solution time = 0.00 sec. (0.04 ticks)\n",
      "\n",
      "        Nodes                                         Cuts/\n",
      "   Node  Left     Objective  IInf  Best Integer    Best Bound    ItCnt     Gap         Variable B NodeID Parent  Depth\n",
      "\n",
      "*     0+    0                            0.0936        0.0919             1.78%\n",
      "      0     0        0.0920     1        0.0936        0.0920        1    1.67%\n",
      "      0     2        0.0920     2        0.0936        0.0920        1    1.67%                        0             0\n",
      "Elapsed time = 0.20 sec. (1.51 ticks, tree = 0.01 MB, solutions = 1)\n",
      "   2473  1346        0.0924     8        0.0936        0.0920     8892    1.67%           rho_0 D   2473   2471     25\n",
      "   4540  2273        0.0928     6        0.0936        0.0920    14872    1.67%           rho_0 U   4540   4538    100\n",
      "   6410  2986        0.0921     6        0.0936        0.0920    21300    1.67%           rho_4 U   6410   6408     42\n",
      "   8214  3629        0.0925     6        0.0936        0.0920    27949    1.67%           rho_0 D   8214   8213     51\n",
      "   9950  4203        0.0935     9        0.0936        0.0920    34522    1.67%           rho_3 D   9950   9948     79\n",
      "  11534  4730        0.0935     9        0.0936        0.0920    40363    1.67%           rho_3 D  11534  11533     91\n",
      "  13183  5433        0.0920     7        0.0936        0.0920    45989    1.67%          rho_12 D  13183  13182     43\n",
      "  14819  6111        0.0922    10        0.0936        0.0920    53060    1.67%          rho_15 U  14819  14609     63\n",
      "  16474  6695        cutoff              0.0936        0.0920    60287    1.67%           rho_0 U  16474  16472     67\n",
      "  22730  9106        0.0923     7        0.0936        0.0920    88525    1.67%           rho_0 D  22730  22728     88\n",
      "Elapsed time = 6.64 sec. (3101.94 ticks, tree = 2.62 MB, solutions = 1)\n",
      "  28127 11583        0.0920     9        0.0936        0.0920   115588    1.67%           rho_0 U  28127  28126     74\n",
      "  33683 13573        cutoff              0.0936        0.0920   140948    1.67%           rho_0 U  33683  33682     73\n",
      "  40292 14797        cutoff              0.0936        0.0920   165740    1.67%           rho_0 U  40292  40290    107\n",
      "  45400 16715        0.0920     5        0.0936        0.0920   193102    1.67%           rho_4 D  45400  37221     57\n",
      "  51217 19204        0.0935     3        0.0936        0.0920   219435    1.67%          rho_20 D  51217  51216     62\n",
      "  56563 21829        0.0920     8        0.0936        0.0920   245880    1.67%           rho_4 D  56563  56550     67\n",
      "  61750 23708        0.0920     4        0.0936        0.0920   269788    1.67%           rho_0 D  61750  61748     70\n",
      "  66867 25548        cutoff              0.0936        0.0920   293087    1.67%           rho_0 U  66867  66866     91\n",
      "  71803 27328        0.0920     9        0.0936        0.0920   317773    1.67%           rho_4 D  71803  71633     53\n",
      "  76656 29384        0.0920     4        0.0936        0.0920   340954    1.67%           rho_0 D  76656  76654     54\n",
      "Elapsed time = 21.75 sec. (12639.54 ticks, tree = 8.08 MB, solutions = 1)\n",
      "  81209 31357        0.0930     9        0.0936        0.0920   368148    1.67%          rho_20 D  81209  81208     74\n",
      "  85629 32756        0.0925    15        0.0936        0.0920   392467    1.67%          rho_12 D  85629  85206     18\n",
      "  90037 34234        0.0932     9        0.0936        0.0920   415213    1.67%           rho_5 U  90037  90036     21\n",
      "  94640 36580        0.0931    11        0.0936        0.0920   440665    1.67%           rho_0 D  94640  94638     69\n",
      "  98931 38525        0.0933     5        0.0936        0.0920   467199    1.67%          rho_24 D  98931  98929     61\n",
      " 103379 40294        0.0920    10        0.0936        0.0920   493342    1.67%           rho_4 U 103379 103378     23\n",
      " 108180 42350        0.0920     7        0.0936        0.0920   516060    1.67%           rho_3 D 108180 108179     65\n",
      " 113260 44438        cutoff              0.0936        0.0920   536397    1.67%          rho_17 U 113260 113258     70\n",
      " 118162 46438        0.0920     1        0.0936        0.0920   554932    1.67%           rho_4 N 118162 118161     74\n",
      " 123287 48487        0.0923     8        0.0936        0.0920   573822    1.67%           rho_3 N 123287 123285     59\n",
      "Elapsed time = 31.44 sec. (22177.66 ticks, tree = 14.14 MB, solutions = 1)\n",
      " 127711 49529        0.0933     6        0.0936        0.0920   591652    1.67%          rho_11 U 127711 125516     64\n",
      " 131927 50523        0.0934     3        0.0936        0.0920   611213    1.67%          rho_30 D 131927 131926     69\n",
      " 136510 52329        0.0932     8        0.0936        0.0920   631242    1.67%           rho_4 U 136510 136507     38\n",
      " 140796 54048        cutoff              0.0936        0.0920   654703    1.67%          rho_17 D 140796 140795     72\n",
      " 145320 56337        0.0927     9        0.0936        0.0920   675860    1.67%           rho_3 D 145320 145319     44\n",
      " 149567 58177        0.0924     9        0.0936        0.0920   697562    1.67%          rho_20 D 149567 149566     50\n",
      " 153720 59747        0.0924     9        0.0936        0.0920   719265    1.67%          rho_20 D 153720 153719     97\n",
      " 158036 61268        0.0925     9        0.0936        0.0920   740996    1.67%          rho_28 D 158036 158034    102\n",
      " 162321 62674        0.0920     6        0.0936        0.0920   760910    1.67%          rho_12 U 162321 162319     69\n",
      " 166420 64008        0.0920     3        0.0936        0.0920   781920    1.67%           rho_4 U 166420 166419     84\n",
      "Elapsed time = 41.42 sec. (31716.18 ticks, tree = 17.91 MB, solutions = 1)\n",
      " 170720 65353        0.0920     5        0.0936        0.0920   803035    1.67%           rho_1 D 170720 170719     58\n",
      " 175060 66849        0.0920     4        0.0936        0.0920   824335    1.67%          rho_12 U 175060 175011     45\n",
      " 179421 68752        0.0920     8        0.0936        0.0920   843762    1.67%          rho_12 D 179421 176897     29\n",
      " 183452 70536        0.0920    14        0.0936        0.0920   867083    1.67%          rho_12 D 183452 183451     21\n",
      " 187767 72247        cutoff              0.0936        0.0920   887804    1.67%          rho_14 U 187767 187518     79\n",
      " 191980 73865        0.0924     6        0.0936        0.0920   909028    1.67%           rho_4 U 191980 191979     86\n",
      " 195708 75713        0.0924    14        0.0936        0.0920   936583    1.67%          rho_20 D 195708 195707     63\n",
      " 199617 77568        0.0920     6        0.0936        0.0920   961845    1.67%          rho_12 U 199617 199615     48\n",
      " 203240 79509        0.0923    17        0.0936        0.0920   986869    1.67%          rho_10 D 203240 203239     69\n",
      " 207255 81288        0.0925    10        0.0936        0.0920  1009104    1.67%           rho_4 U 207255 207254     81\n",
      "Elapsed time = 51.16 sec. (41256.71 ticks, tree = 24.89 MB, solutions = 1)\n",
      " 211200 82965        0.0934    11        0.0936        0.0920  1032213    1.67%           rho_6 D 211200 211199     90\n",
      " 214956 84524        0.0933     3        0.0936        0.0920  1054051    1.67%          rho_17 D 214956 214955     22\n",
      " 218935 85878        0.0926    11        0.0936        0.0920  1074321    1.67%          rho_10 D 218935 218933     84\n",
      " 223022 87171        0.0920     3        0.0936        0.0920  1093239    1.67%           rho_0 D 223022 223020     50\n"
     ]
    },
    {
     "name": "stdout",
     "output_type": "stream",
     "text": [
      " 227066 88495        cutoff              0.0936        0.0920  1112797    1.67%          rho_29 U 227066 227065     44\n",
      " 231190 89899        0.0929    10        0.0936        0.0920  1132794    1.67%          rho_29 D 231190 231188     52\n",
      " 235078 91397        0.0922    10        0.0936        0.0920  1154980    1.67%          rho_15 D 235078 235076     81\n",
      " 239190 93010        cutoff              0.0936        0.0920  1176167    1.67%          rho_18 D 239190 239189     97\n",
      " 243200 94499        0.0920     5        0.0936        0.0920  1196861    1.67%          rho_10 D 243200 243199     72\n",
      " 247132 95632        cutoff              0.0936        0.0920  1216743    1.67%           rho_6 U 247132 247131     65\n",
      "Elapsed time = 61.80 sec. (50795.62 ticks, tree = 28.44 MB, solutions = 1)\n",
      " 251095 96822        0.0929     7        0.0936        0.0920  1236712    1.67%          rho_11 D 251095 251094     42\n",
      " 255322 98332        cutoff              0.0936        0.0920  1256133    1.67%           rho_4 U 255322 255320     41\n",
      " 259013 99621        0.0920     5        0.0936        0.0920  1277279    1.67%           rho_4 D 259013 259011     83\n",
      " 262776 101371        0.0933     7        0.0936        0.0920  1298916    1.67%          rho_11 U 262776 262775     53\n",
      " 266608 103157        cutoff              0.0936        0.0920  1320446    1.67%           rho_0 U 266608 266607     67\n",
      " 270440 104406        0.0924    11        0.0936        0.0920  1340480    1.67%          rho_20 D 270440 270439     41\n",
      " 274322 105475        0.0920     6        0.0936        0.0920  1359276    1.67%          rho_12 U 274322 274320     39\n",
      " 278225 106760        0.0922     8        0.0936        0.0920  1378474    1.67%           rho_3 U 278225 147646     38\n",
      " 282158 108217        0.0928     5        0.0936        0.0920  1398675    1.67%           rho_1 D 282158 282156     74\n",
      " 286579 110179        0.0920     4        0.0936        0.0920  1418602    1.67%           rho_3 D 286579 286578     66\n",
      "Elapsed time = 71.14 sec. (60333.93 ticks, tree = 31.95 MB, solutions = 1)\n",
      " 290594 111745        0.0929    11        0.0936        0.0920  1439770    1.67%           rho_0 D 290594 290593     68\n",
      " 294366 113124        cutoff              0.0936        0.0920  1461894    1.67%           rho_0 U 294366 294364     76\n",
      " 297830 114296        0.0920    11        0.0936        0.0920  1484822    1.67%           rho_4 D 297830 143809     68\n",
      " 301532 115987        0.0923     8        0.0936        0.0920  1507684    1.67%           rho_0 D 301532 301530     40\n",
      " 305198 117482        0.0923    12        0.0936        0.0920  1529719    1.67%          rho_15 U 305198 305196     59\n",
      " 308788 118886        cutoff              0.0936        0.0920  1551341    1.67%           rho_8 U 308788 308787     80\n",
      " 312470 120493        0.0931    11        0.0936        0.0920  1572597    1.67%          rho_10 U 312470 312469     86\n",
      " 316023 121744        0.0920     9        0.0936        0.0920  1594263    1.67%           rho_0 U 316023 316022     56\n",
      " 319626 123269        0.0927    18        0.0936        0.0920  1614880    1.67%           rho_6 D 319626 319625     42\n",
      " 323524 124885        0.0920    11        0.0936        0.0920  1636729    1.67%           rho_4 D 323524 323523     66\n",
      "Elapsed time = 80.39 sec. (69872.19 ticks, tree = 35.57 MB, solutions = 1)\n",
      " 327519 126473        0.0920     2        0.0936        0.0920  1658687    1.67%           rho_0 D 327519 327517     40\n",
      " 331493 128004        0.0920     7        0.0936        0.0920  1680158    1.67%           rho_0 D 331493 331491     71\n",
      " 335385 129454        cutoff              0.0936        0.0920  1701073    1.67%          rho_29 U 335385 335384     52\n",
      " 339306 130806        cutoff              0.0936        0.0920  1719608    1.67%           rho_0 U 339306 339305     46\n",
      " 343092 131907        0.0925     6        0.0936        0.0920  1738349    1.67%           rho_3 U 343092 332945     63\n",
      " 346660 132388        0.0929    14        0.0936        0.0920  1756150    1.67%          rho_29 D 346660 346658     49\n",
      " 350817 134153        0.0923    14        0.0936        0.0920  1774914    1.67%           rho_6 D 350817 350816     48\n",
      " 354813 135177        0.0920     4        0.0936        0.0920  1792181    1.67%           rho_0 D 354813 354811     60\n",
      " 358776 136557        0.0935     5        0.0936        0.0920  1810965    1.67%          rho_13 U 358776 358775     87\n",
      " 362679 137672        0.0929     7        0.0936        0.0920  1829964    1.67%          rho_24 D 362679 362677     78\n",
      "Elapsed time = 89.05 sec. (79410.36 ticks, tree = 41.73 MB, solutions = 1)\n",
      " 366600 138861        0.0930     9        0.0936        0.0920  1848764    1.67%           rho_0 U 366600 366598     79\n",
      " 370527 140064        0.0930     7        0.0936        0.0920  1867946    1.67%          rho_24 D 370527 370526     63\n",
      " 374290 141167        cutoff              0.0936        0.0920  1888068    1.67%           rho_3 U 374290 374289     60\n",
      " 377888 142287        0.0929    12        0.0936        0.0920  1908788    1.67%           rho_9 D 377888 377887     71\n",
      " 381524 143487        0.0920    11        0.0936        0.0920  1929329    1.67%           rho_4 D 381524 381523     47\n",
      " 385129 144552        0.0929    12        0.0936        0.0920  1950099    1.67%          rho_26 D 385129 385127     48\n",
      " 388740 145888        0.0934     5        0.0936        0.0920  1971542    1.67%          rho_10 D 388740 388738     59\n",
      " 392540 147325        0.0935     8        0.0936        0.0920  1992549    1.67%          rho_13 D 392540 392538     44\n",
      " 396026 147620        0.0923     9        0.0936        0.0920  2011221    1.67%           rho_4 D 396026  14889     56\n",
      " 411132 152423        cutoff              0.0936        0.0920  2090725    1.67%          rho_18 U 411132 411131     55\n",
      "Elapsed time = 100.50 sec. (91809.69 ticks, tree = 45.39 MB, solutions = 1)\n",
      " 426718 158187        0.0927     8        0.0936        0.0920  2167275    1.67%           rho_3 U 426718 115042     42\n",
      " 442033 162315        0.0924     8        0.0936        0.0920  2241902    1.67%           rho_0 D 442033 442031     50\n",
      " 456733 166949        0.0920     4        0.0936        0.0920  2315213    1.67%           rho_0 D 456733 456731     91\n",
      " 470455 171225        0.0925     9        0.0936        0.0920  2397415    1.67%          rho_29 D 470455 470453     59\n",
      " 484746 175199        cutoff              0.0936        0.0920  2474420    1.67%          rho_17 U 484746 484745     75\n",
      " 499390 178145        0.0929     9        0.0936        0.0920  2548217    1.67%          rho_27 D 499390 499388     96\n",
      " 514674 182537        0.0921     6        0.0936        0.0920  2619510    1.67%           rho_4 U 514674 514645     66\n",
      " 529739 186650        cutoff              0.0936        0.0920  2687766    1.67%           rho_0 U 529739 529738     33\n",
      " 544487 191694        0.0926    10        0.0936        0.0920  2767206    1.67%           rho_0 D 544487 544485     48\n",
      " 558734 197066        0.0921     8        0.0936        0.0920  2849915    1.67%           rho_6 U 558734 558586     22\n",
      "Elapsed time = 141.50 sec. (129959.07 ticks, tree = 60.23 MB, solutions = 1)\n",
      " 573199 201114        0.0929     9        0.0936        0.0920  2930421    1.67%          rho_20 D 573199 573198     94\n",
      " 587419 204305        0.0923     6        0.0936        0.0920  3011885    1.67%           rho_3 U 587419 587412     77\n",
      " 601799 207751        0.0922     9        0.0936        0.0920  3093977    1.67%           rho_1 D 601799 601798     69\n",
      " 616400 213062        0.0935     9        0.0936        0.0920  3174754    1.67%          rho_17 D 616400 616399     60\n",
      " 630000 218407        0.0920    12        0.0936        0.0920  3251568    1.67%           rho_0 D 630000 629998     23\n",
      " 643385 224344        0.0926     7        0.0936        0.0920  3330102    1.67%           rho_6 D 643385 643383     81\n",
      " 656603 229606        0.0930    10        0.0936        0.0920  3404850    1.67%           rho_3 U 656603 656602     80\n",
      " 671334 233472        0.0921     8        0.0936        0.0920  3465793    1.67%           rho_4 U 671334 671325     72\n"
     ]
    },
    {
     "name": "stdout",
     "output_type": "stream",
     "text": [
      " 685453 237411        cutoff              0.0936        0.0920  3538480    1.67%          rho_29 U 685453 685452     89\n",
      " 698779 241779        0.0920     1        0.0936        0.0920  3615644    1.67%           rho_5 U 698779 698621     48\n",
      "Elapsed time = 180.30 sec. (168108.84 ticks, tree = 73.97 MB, solutions = 1)\n",
      " 711452 245071        cutoff              0.0936        0.0920  3684588    1.67%           rho_0 U 711452 711451     59\n",
      " 724249 248432        0.0933    10        0.0936        0.0920  3752778    1.67%           rho_4 D 724249 724247     68\n",
      " 735950 252468        0.0932     9        0.0936        0.0920  3831876    1.67%           rho_8 U 735950 735949     76\n",
      "\n",
      "User cuts applied:  370\n",
      "\n",
      "Root node processing (before b&c):\n",
      "  Real time             =    0.20 sec. (1.54 ticks)\n",
      "Sequential b&c:\n",
      "  Real time             =  199.81 sec. (181483.31 ticks)\n",
      "                          ------------\n",
      "Total (root+branch&cut) =  200.02 sec. (181484.85 ticks)\n",
      "+----------------------------------------------+------------------+-----------+\n",
      "| Pr(Y = +1) = 1.0/(1.0 + exp(-(-6 + score))   |                  |           |\n",
      "| ============================================ | ================ | ========= |\n",
      "| p_arrest>=4                                  |         1 points |   + ..... |\n",
      "| p_felony>=1                                  |         1 points |   + ..... |\n",
      "| p_misdemeanor>=1                             |         1 points |   + ..... |\n",
      "| p_drug>=1                                    |         1 points |   + ..... |\n",
      "| ============================================ | ================ | ========= |\n",
      "| ADD POINTS FROM ROWS 1 to 4                  |            SCORE |   = ..... |\n",
      "+----------------------------------------------+------------------+-----------+\n",
      "model_id, score_thresholds 0 {'rank_abs': [0]}\n",
      "get_disparity_predefined_group()\n",
      "setting c0 = 0.0 to ensure that intercept is not penalized\n",
      "09/11/19 @ 04:24 PM | 1301 rows in lookup table\n",
      "09/11/19 @ 04:24 PM | ------------------------------------------------------------\n",
      "09/11/19 @ 04:24 PM | runnning initialization procedure\n",
      "09/11/19 @ 04:24 PM | ------------------------------------------------------------\n",
      "09/11/19 @ 04:24 PM | CPA produced 2 cuts\n",
      "09/11/19 @ 04:24 PM | running naive rounding on 115 solutions\n",
      "09/11/19 @ 04:24 PM | best objective value: 0.0927\n",
      "09/11/19 @ 04:24 PM | rounding produced 4 integer solutions\n",
      "09/11/19 @ 04:24 PM | best objective value is 0.0967\n",
      "09/11/19 @ 04:24 PM | running sequential rounding on 115 solutions\n",
      "09/11/19 @ 04:24 PM | best objective value: 0.0927\n",
      "09/11/19 @ 04:24 PM | sequential rounding produced 5 integer solutions\n",
      "09/11/19 @ 04:24 PM | best objective value: 0.0941\n",
      "09/11/19 @ 04:24 PM | polishing 9 solutions\n",
      "09/11/19 @ 04:24 PM | best objective value: 0.0941\n",
      "09/11/19 @ 04:24 PM | polishing produced 5 integer solutions\n",
      "09/11/19 @ 04:24 PM | initialization produced 9 feasible solutions\n",
      "09/11/19 @ 04:24 PM | best objective value: 0.0941\n",
      "09/11/19 @ 04:24 PM | ------------------------------------------------------------\n",
      "09/11/19 @ 04:24 PM | completed initialization procedure\n",
      "09/11/19 @ 04:24 PM | ------------------------------------------------------------\n",
      "09/11/19 @ 04:24 PM | 1301 rows in lookup table\n",
      "CPXPARAM_Read_DataCheck                          1\n",
      "CPXPARAM_Threads                                 1\n",
      "CPXPARAM_Parallel                                1\n",
      "CPXPARAM_RandomSeed                              0\n",
      "CPXPARAM_TimeLimit                               200\n",
      "CPXPARAM_MIP_Tolerances_LowerCutoff              0.092520620426848207\n",
      "CPXPARAM_MIP_Tolerances_UpperCutoff              0.094098613280755944\n"
     ]
    },
    {
     "name": "stderr",
     "output_type": "stream",
     "text": [
      "Warning: Control callbacks may disable some MIP features.\n"
     ]
    },
    {
     "name": "stdout",
     "output_type": "stream",
     "text": [
      "Lazy constraint(s) or lazy constraint callback is present.\n",
      "    Disabling dual reductions (CPX_PARAM_REDUCE) in presolve.\n",
      "    Disabling non-linear reductions (CPX_PARAM_PRELINEAR) in presolve.\n",
      "         Disabling repeat represolve because of lazy constraint/incumbent callback.\n",
      "09/11/19 @ 04:24 PM | adding 249 initial cuts\n",
      "1 of 1 MIP starts provided solutions.\n",
      "MIP start 'mip_start_0' defined initial solution with objective 0.0941.\n",
      "Tried aggregator 1 time.\n",
      "Reduced MIP has 32 rows, 64 columns, and 123 nonzeros.\n",
      "Reduced MIP has 30 binaries, 32 generals, 0 SOSs, and 0 indicators.\n",
      "Presolve time = 0.00 sec. (0.07 ticks)\n",
      "Probing time = 0.00 sec. (0.02 ticks)\n",
      "MIP emphasis: balance optimality and feasibility.\n",
      "MIP search method: traditional branch-and-cut.\n",
      "Parallel mode: none, using 1 thread.\n",
      "Root relaxation solution time = 0.00 sec. (0.04 ticks)\n",
      "\n",
      "        Nodes                                         Cuts/\n",
      "   Node  Left     Objective  IInf  Best Integer    Best Bound    ItCnt     Gap         Variable B NodeID Parent  Depth\n",
      "\n",
      "*     0+    0                            0.0941        0.0924             1.78%\n",
      "      0     0        0.0925     1        0.0941        0.0925        1    1.68%\n",
      "      0     2        0.0925     2        0.0941        0.0925        1    1.68%                        0             0\n",
      "Elapsed time = 0.17 sec. (1.52 ticks, tree = 0.01 MB, solutions = 1)\n",
      "   2109   998        0.0928     9        0.0941        0.0925     9399    1.68%          rho_20 D   2109   2108     35\n",
      "   3612  1589        0.0933    10        0.0941        0.0925    16352    1.68%          rho_18 U   3612   3611     20\n",
      "   4845  2080        0.0939     7        0.0941        0.0925    22166    1.68%          rho_13 D   4845   4844     64\n",
      "   6090  2508        cutoff              0.0941        0.0925    27686    1.68%          rho_18 U   6090   6089     41\n",
      "   7370  3044        0.0939     5        0.0941        0.0925    33187    1.68%           rho_2 D   7370   7369     47\n",
      "   8551  3660        0.0926    10        0.0941        0.0925    38330    1.68%           rho_0 U   8551   8550     50\n",
      "   9877  4292        0.0928     5        0.0941        0.0925    43634    1.68%           rho_0 U   9877   9876     39\n",
      "  11225  5178        0.0925     6        0.0941        0.0925    48848    1.68%          rho_12 D  11225  11224     76\n",
      "  12632  5970        0.0930    12        0.0941        0.0925    54723    1.68%           rho_0 D  12632  12630     54\n",
      "  17458  7812        cutoff              0.0941        0.0925    75051    1.68%          rho_12 U  17458  17455     51\n",
      "Elapsed time = 7.42 sec. (3101.55 ticks, tree = 2.05 MB, solutions = 1)\n",
      "  22780  9261        0.0925     6        0.0941        0.0925    99627    1.68%           rho_0 D  22780  22778    102\n",
      "  28206 10784        0.0935     5        0.0941        0.0925   125971    1.68%          rho_28 D  28206  28205     97\n",
      "  33707 12442        cutoff              0.0941        0.0925   151433    1.68%           rho_1 U  33707  33705     71\n",
      "  39292 14759        0.0927     9        0.0941        0.0925   175225    1.68%           rho_3 D  39292  39291     57\n",
      "  43795 16147        cutoff              0.0941        0.0925   197109    1.68%          rho_18 U  43795  43794     65\n",
      "  48256 17834        0.0931     7        0.0941        0.0925   221008    1.68%           rho_0 D  48256  48255     58\n",
      "  52890 19346        0.0936     9        0.0941        0.0925   245629    1.68%          rho_24 D  52890  52889     43\n",
      "  57570 20877        0.0925     6        0.0941        0.0925   270027    1.68%           rho_0 D  57570  57568     71\n",
      "  62484 22569        0.0929     9        0.0941        0.0925   294126    1.68%          rho_29 D  62484  62483     75\n",
      "  67371 24149        0.0931     9        0.0941        0.0925   318262    1.68%          rho_27 D  67371  67369     73\n",
      "Elapsed time = 20.78 sec. (12640.37 ticks, tree = 6.83 MB, solutions = 1)\n",
      "  72131 25747        0.0925     4        0.0941        0.0925   342324    1.68%           rho_4 N  72131  14818     38\n",
      "  76791 27302        0.0932     9        0.0941        0.0925   366613    1.68%          rho_15 D  76791  76789     84\n",
      "  81430 28849        0.0939     7        0.0941        0.0925   389881    1.68%          rho_30 D  81430  81429     81\n",
      "  85910 30182        0.0925     8        0.0941        0.0925   412256    1.68%          rho_13 D  85910  85909     65\n",
      "  90186 31473        0.0940     7        0.0941        0.0925   434668    1.68%          rho_18 D  90186  90183     92\n",
      "  94533 32761        0.0936     5        0.0941        0.0925   456239    1.68%           rho_0 U  94533  94532     58\n",
      "  99045 34262        0.0940     7        0.0941        0.0925   477724    1.68%           rho_1 D  99045  99043     74\n",
      " 103281 35796        cutoff              0.0941        0.0925   501209    1.68%          rho_12 U 103281 103279     30\n",
      " 107848 37571        0.0926     7        0.0941        0.0925   520735    1.68%           rho_4 D 107848 107766     65\n",
      " 112157 39080        0.0938     5        0.0941        0.0925   538967    1.68%          rho_11 D 112157 112155     82\n",
      "Elapsed time = 33.30 sec. (22179.19 ticks, tree = 11.69 MB, solutions = 1)\n",
      " 116360 40365        0.0933     6        0.0941        0.0925   556528    1.68%           rho_1 U 116360 104284     30\n",
      " 120363 41667        0.0933    13        0.0941        0.0925   578756    1.68%           rho_7 D 120363 120361     55\n",
      " 124309 43146        0.0925     5        0.0941        0.0925   601291    1.68%           rho_4 U 124309  10772     73\n",
      " 128249 44403        0.0937    12        0.0941        0.0925   624260    1.68%          rho_24 D 128249 128248     71\n",
      " 132161 45687        0.0933     5        0.0941        0.0925   647236    1.68%           rho_0 U 132161 132160     61\n",
      " 136097 47011        0.0925    10        0.0941        0.0925   669453    1.68%          rho_11 D 136097 136096     40\n",
      " 140035 48326        0.0941     4        0.0941        0.0925   691854    1.68%          rho_13 N 140035 140033     99\n",
      " 144050 49653        0.0925     7        0.0941        0.0925   713569    1.68%           rho_0 D 144050 144020     20\n",
      " 148267 51091        0.0933    11        0.0941        0.0925   733692    1.68%           rho_4 N 148267 148265     80\n",
      " 152385 52436        0.0925     9        0.0941        0.0925   752553    1.68%          rho_15 D 152385 152384     72\n",
      "Elapsed time = 43.02 sec. (31717.77 ticks, tree = 14.86 MB, solutions = 1)\n",
      " 156461 53669        0.0925     3        0.0941        0.0925   773800    1.68%           rho_0 D 156461 156459     58\n",
      " 160447 54745        0.0935     7        0.0941        0.0925   796369    1.68%          rho_13 U 160447  25768     88\n",
      " 164369 55533        0.0925     1        0.0941        0.0925   818962    1.68%          rho_12 U 164369 161753     29\n",
      " 168449 56470        0.0936     9        0.0941        0.0925   841931    1.68%           rho_0 D 168449 168447     86\n",
      " 172256 57103        0.0925     1        0.0941        0.0925   865332    1.68%          rho_12 U 172256 172254     75\n",
      " 176245 57932        0.0925     8        0.0941        0.0925   888119    1.68%           rho_4 U 176245 176231     56\n",
      " 180126 58644        cutoff              0.0941        0.0925   911402    1.68%          rho_27 D 180126 180124     74\n",
      " 184060 59428        0.0938     5        0.0941        0.0925   934674    1.68%          rho_27 D 184060 184058     80\n",
      " 187960 60155        cutoff              0.0941        0.0925   957603    1.68%          rho_29 U 187960 187959     86\n",
      " 191700 60666        0.0940     7        0.0941        0.0925   980737    1.68%           rho_0 D 191700 191698     73\n",
      "Elapsed time = 51.20 sec. (41256.49 ticks, tree = 16.81 MB, solutions = 1)\n",
      " 195383 61209        0.0928    14        0.0941        0.0925  1003088    1.68%          rho_12 U 195383 195381     25\n",
      " 199668 62277        0.0926     4        0.0941        0.0925  1023316    1.68%           rho_0 U 199668 199667     60\n",
      " 203736 63641        0.0933     9        0.0941        0.0925  1045086    1.68%          rho_16 D 203736 203735     42\n",
      " 207919 64866        0.0925     3        0.0941        0.0925  1062477    1.68%           rho_0 D 207919 207917     83\n"
     ]
    },
    {
     "name": "stdout",
     "output_type": "stream",
     "text": [
      " 211873 66080        0.0926    11        0.0941        0.0925  1081509    1.68%           rho_0 D 211873 211871     85\n",
      " 215748 67243        cutoff              0.0941        0.0925  1101090    1.68%          rho_13 U 215748 215746     44\n",
      " 219395 67959        cutoff              0.0941        0.0925  1121330    1.68%          rho_21 U 219395    348     17\n",
      " 223287 69789        cutoff              0.0941        0.0925  1141224    1.68%           rho_0 U 223287 223286     45\n",
      " 227158 70927        0.0929     9        0.0941        0.0925  1161305    1.68%           rho_1 D 227158 227157     88\n",
      " 230836 71816        0.0930     8        0.0941        0.0925  1182223    1.68%           rho_0 D 230836 230834     89\n",
      "Elapsed time = 59.64 sec. (50794.44 ticks, tree = 22.31 MB, solutions = 1)\n",
      " 234552 72866        0.0932     7        0.0941        0.0925  1203250    1.68%           rho_0 D 234552 234551     50\n",
      " 238336 73636        cutoff              0.0941        0.0925  1220805    1.68%          rho_11 U 238336  99665     91\n",
      " 242132 74435        0.0929     4        0.0941        0.0925  1238603    1.68%           rho_0 D 242132 242130     34\n",
      " 245986 75457        0.0925    11        0.0941        0.0925  1257531    1.68%          rho_13 D 245986 245985     46\n",
      " 249722 76345        cutoff              0.0941        0.0925  1279603    1.68%          rho_27 U 249722 249721    110\n",
      " 253524 77293        0.0925    11        0.0941        0.0925  1301679    1.68%          rho_13 D 253524 253523     78\n",
      " 257308 78208        0.0938     9        0.0941        0.0925  1323650    1.68%          rho_27 D 257308 257306    105\n",
      " 261119 79144        0.0934     9        0.0941        0.0925  1345718    1.68%          rho_28 D 261119 261117     70\n",
      " 264906 80068        0.0930     9        0.0941        0.0925  1367571    1.68%          rho_28 D 264906 264904     76\n",
      " 268716 81006        cutoff              0.0941        0.0925  1389561    1.68%           rho_3 U 268716 268714     66\n",
      "Elapsed time = 67.92 sec. (60332.69 ticks, tree = 24.52 MB, solutions = 1)\n",
      " 272528 81967        cutoff              0.0941        0.0925  1411561    1.68%           rho_4 U 272528 272527     42\n",
      " 276180 82430        0.0938     7        0.0941        0.0925  1431356    1.68%           rho_1 U 276180  58069     92\n",
      " 279395 82874        0.0938     7        0.0941        0.0925  1450440    1.68%           rho_1 U 279395  92815     87\n",
      " 282968 83914        cutoff              0.0941        0.0925  1470745    1.68%          rho_24 U 282968 282967     70\n",
      " 286667 84892        0.0930    14        0.0941        0.0925  1488285    1.68%           rho_4 D 286667 286666     75\n",
      " 289893 86948        0.0939     5        0.0941        0.0925  1513286    1.68%          rho_12 U 289893 289891     31\n",
      " 293348 87853        cutoff              0.0941        0.0925  1532757    1.68%           rho_0 U 293348 293347     44\n",
      " 297010 89004        0.0929    10        0.0941        0.0925  1550683    1.68%          rho_13 D 297010 297009     68\n",
      " 300630 90098        0.0936     9        0.0941        0.0925  1569043    1.68%          rho_19 D 300630 300629     66\n",
      " 304262 91121        0.0934     6        0.0941        0.0925  1587558    1.68%           rho_1 U 304262  36864     61\n",
      "Elapsed time = 75.59 sec. (69871.40 ticks, tree = 26.96 MB, solutions = 1)\n",
      " 307937 92209        0.0938    11        0.0941        0.0925  1605118    1.68%          rho_11 D 307937 307935     74\n",
      " 311253 92869        cutoff              0.0941        0.0925  1622186    1.68%          rho_28 U 311253 311252     72\n",
      " 314806 93754        cutoff              0.0941        0.0925  1639847    1.68%          rho_13 U 314806 314804     32\n",
      " 318102 94388        0.0925    10        0.0941        0.0925  1658053    1.68%           rho_4 D 318102 317160     65\n",
      " 321474 95051        0.0933    13        0.0941        0.0925  1676744    1.68%           rho_7 D 321474 321472     56\n",
      " 324680 95449        0.0934     8        0.0941        0.0925  1694620    1.68%           rho_0 N 324680 324678     63\n",
      " 327838 96367        0.0930    15        0.0941        0.0925  1714975    1.68%           rho_1 U 327838 287858     91\n",
      " 331013 97360        0.0934    11        0.0941        0.0925  1734779    1.68%           rho_8 U 331013 331012     36\n",
      " 334488 99073        0.0939     9        0.0941        0.0925  1755754    1.68%          rho_28 D 334488 334487     59\n",
      " 337655 99757        0.0940     5        0.0941        0.0925  1773817    1.68%          rho_13 U 337655 337653     61\n",
      "Elapsed time = 83.28 sec. (79412.45 ticks, tree = 29.08 MB, solutions = 1)\n",
      " 340735 100429        cutoff              0.0941        0.0925  1791089    1.68%           rho_1 U 340735 340734     57\n",
      " 344079 101350        cutoff              0.0941        0.0925  1807734    1.68%           rho_1 U 344079 344076     42\n",
      " 347201 101972        cutoff              0.0941        0.0925  1824740    1.68%           rho_1 U 347201 347200     98\n",
      " 350368 102119        0.0939     9        0.0941        0.0925  1841753    1.68%          rho_24 D 350368 350367     60\n",
      " 353557 102716        0.0927     9        0.0941        0.0925  1860452    1.68%           rho_0 U 353557 353556     48\n",
      " 356631 103943        0.0925    15        0.0941        0.0925  1880452    1.68%           rho_0 U 356631 356630     44\n",
      " 359628 104595        0.0939    11        0.0941        0.0925  1899396    1.68%           rho_0 D 359628 359627     42\n",
      " 362798 105288        0.0929     9        0.0941        0.0925  1916857    1.68%          rho_13 D 362798 362796     71\n",
      " 366134 106124        0.0925     9        0.0941        0.0925  1935723    1.68%          rho_12 U 366134 366085     57\n",
      " 377606 111752        0.0934    16        0.0941        0.0925  2024211    1.68%          rho_11 U 377606 377565     43\n",
      "Elapsed time = 91.63 sec. (91812.97 ticks, tree = 32.06 MB, solutions = 1)\n",
      " 388524 116714        0.0930    10        0.0941        0.0925  2102846    1.68%          rho_19 D 388524 388523     78\n",
      " 401740 120964        0.0925     7        0.0941        0.0925  2178956    1.68%          rho_12 U 401740 401726     33\n",
      " 414118 125961        0.0925     9        0.0941        0.0925  2254274    1.68%           rho_0 D 414118 414116     33\n",
      " 425929 130262        0.0936     5        0.0941        0.0925  2329971    1.68%          rho_24 D 425929 425927     70\n",
      " 438145 133812        0.0929    12        0.0941        0.0925  2399813    1.68%          rho_13 D 438145 438144     48\n",
      " 450110 138353        0.0933     7        0.0941        0.0925  2475208    1.68%          rho_19 D 450110 450109     49\n",
      " 462116 139669        cutoff              0.0941        0.0925  2546184    1.68%           rho_0 U 462116 462115     97\n",
      " 474667 143554        0.0930     8        0.0941        0.0925  2619305    1.68%           rho_3 D 474667 474664     76\n",
      " 487544 148093        0.0925    12        0.0941        0.0925  2693813    1.68%           rho_0 D 487544 487542     82\n",
      " 499451 150634        0.0940     9        0.0941        0.0925  2761149    1.68%          rho_19 D 499451 499450     76\n",
      "Elapsed time = 113.09 sec. (129961.47 ticks, tree = 44.78 MB, solutions = 1)\n",
      " 511781 154411        0.0927    14        0.0941        0.0925  2830694    1.68%           rho_0 D 511781 511778     75\n",
      " 523460 157804        0.0926    15        0.0941        0.0925  2900816    1.68%           rho_0 D 523460 523459     44\n",
      " 534627 161139        0.0925     7        0.0941        0.0925  2975999    1.68%          rho_13 U 534627 534626     86\n",
      " 546090 165673        0.0933    13        0.0941        0.0925  3050934    1.68%          rho_16 D 546090 546089     38\n",
      " 557402 170485        cutoff              0.0941        0.0925  3133082    1.68%          rho_18 U 557402 557400     35\n",
      " 569712 175705        0.0938    11        0.0941        0.0925  3203133    1.68%           rho_0 N 569712 569711     66\n",
      " 582069 180369        0.0927    15        0.0941        0.0925  3267118    1.68%          rho_18 U 582069 582068     78\n",
      " 592768 184690        0.0939    15        0.0941        0.0925  3342275    1.68%           rho_0 D 592768 592766     61\n"
     ]
    },
    {
     "name": "stdout",
     "output_type": "stream",
     "text": [
      " 603853 188751        0.0935     7        0.0941        0.0925  3416560    1.68%          rho_18 U 603853 603852     63\n",
      " 615050 192958        0.0938    11        0.0941        0.0925  3491157    1.68%           rho_0 U 615050 615048     40\n",
      "Elapsed time = 136.78 sec. (168110.91 ticks, tree = 59.22 MB, solutions = 1)\n",
      " 625340 197512        0.0925    17        0.0941        0.0925  3573001    1.68%           rho_4 D 625340 625339     38\n",
      " 636200 202089        0.0927    10        0.0941        0.0925  3652832    1.68%           rho_3 D 636200 636199     53\n",
      " 646870 205578        0.0939    11        0.0941        0.0925  3726036    1.68%          rho_13 D 646870 646868     82\n",
      " 657298 210146        cutoff              0.0941        0.0925  3804738    1.68%          rho_24 U 657298 657297     63\n",
      " 667755 214615        0.0936    13        0.0941        0.0925  3882591    1.68%          rho_19 U 667755 667754     82\n",
      " 679000 218670        0.0926    20        0.0941        0.0925  3957480    1.68%          rho_16 D 679000 678999     33\n",
      " 690526 223993        0.0925     9        0.0941        0.0925  4037047    1.68%          rho_12 D 690526 690368     18\n",
      " 701486 227974        cutoff              0.0941        0.0925  4108013    1.68%          rho_29 U 701486 701485     59\n",
      " 712975 232206        0.0933     9        0.0941        0.0925  4181786    1.68%          rho_16 D 712975 712973     65\n",
      " 724215 235285        0.0925    10        0.0941        0.0925  4249552    1.68%          rho_16 D 724215 724214     85\n",
      "Elapsed time = 154.19 sec. (206260.70 ticks, tree = 72.35 MB, solutions = 1)\n",
      " 735540 238786        0.0937    10        0.0941        0.0925  4318153    1.68%          rho_27 D 735540 735539     87\n",
      " 746954 242451        0.0927     6        0.0941        0.0925  4386691    1.68%          rho_18 U 746954 746953     31\n",
      " 758362 245309        cutoff              0.0941        0.0925  4452843    1.68%          rho_28 U 758362 758361     45\n",
      " 769946 248312        0.0929    14        0.0941        0.0925  4520098    1.68%           rho_1 U 769946 480488     68\n",
      " 781450 252502        0.0928    11        0.0941        0.0925  4593687    1.68%          rho_29 D 781450 781449     93\n",
      " 793160 256063        0.0934    13        0.0941        0.0925  4662733    1.68%           rho_1 U 793160 793158     68\n",
      " 803693 259996        0.0934     7        0.0941        0.0925  4738006    1.68%          rho_13 D 803693 803691     81\n",
      " 814555 263700        cutoff              0.0941        0.0925  4812154    1.68%           rho_1 U 814555 814554     28\n",
      " 825260 267320        0.0933    13        0.0941        0.0925  4885319    1.68%          rho_24 D 825260 825258     90\n",
      " 835967 269909        0.0936    11        0.0941        0.0925  4952186    1.68%          rho_24 D 835967 835966     94\n",
      "Elapsed time = 173.09 sec. (244411.04 ticks, tree = 81.34 MB, solutions = 1)\n",
      " 846900 273154        0.0927     6        0.0941        0.0925  5020928    1.68%          rho_18 U 846900 846899     38\n",
      " 857691 276625        0.0928     9        0.0941        0.0925  5093445    1.68%           rho_0 U 857691 857690     78\n",
      " 868178 280986        0.0940     9        0.0941        0.0925  5170589    1.68%          rho_19 D 868178 868177     61\n",
      " 878342 284027        cutoff              0.0941        0.0925  5241369    1.68%          rho_24 D 878342 878340     58\n",
      " 888619 287181        0.0929    14        0.0941        0.0925  5307379    1.68%          rho_15 D 888619 888618     17\n",
      " 898906 290209        0.0929     6        0.0941        0.0925  5377223    1.68%          rho_15 U 898906 606258     73\n",
      " 909082 292325        cutoff              0.0941        0.0925  5443300    1.68%           rho_8 D 909082 909080     27\n",
      " 919371 295635        0.0925    11        0.0941        0.0925  5514717    1.68%          rho_11 D 919371 919368     90\n",
      " 929640 298054        0.0936    13        0.0941        0.0925  5581797    1.68%          rho_24 D 929640 929638     72\n",
      " 940153 301503        0.0925    15        0.0941        0.0925  5648533    1.68%           rho_4 D 940153 940152     78\n",
      "Elapsed time = 192.00 sec. (282559.37 ticks, tree = 92.54 MB, solutions = 1)\n",
      " 950369 304863        cutoff              0.0941        0.0925  5719724    1.68%          rho_17 U 950369 950368     35\n",
      " 960740 308629        0.0937    13        0.0941        0.0925  5795686    1.68%          rho_16 D 960740 960739     83\n",
      " 971000 311691        0.0933     7        0.0941        0.0925  5868108    1.68%           rho_3 D 971000 970999     77\n",
      " 982207 314645        0.0935    13        0.0941        0.0925  5935002    1.68%           rho_4 D 982207 982205     81\n",
      "\n",
      "User cuts applied:  423\n",
      "\n",
      "Root node processing (before b&c):\n",
      "  Real time             =    0.17 sec. (1.56 ticks)\n",
      "Sequential b&c:\n",
      "  Real time             =  199.84 sec. (299196.16 ticks)\n",
      "                          ------------\n",
      "Total (root+branch&cut) =  200.02 sec. (299197.73 ticks)\n",
      "+----------------------------------------------+------------------+-----------+\n",
      "| Pr(Y = +1) = 1.0/(1.0 + exp(-(-5 + score))   |                  |           |\n",
      "| ============================================ | ================ | ========= |\n",
      "| p_arrest>=4                                  |         1 points |   + ..... |\n",
      "| p_drug>=1                                    |         1 points |   + ..... |\n",
      "| p_pending_charge>=1                          |         1 points |   + ..... |\n",
      "| ============================================ | ================ | ========= |\n",
      "| ADD POINTS FROM ROWS 1 to 3                  |            SCORE |   = ..... |\n",
      "+----------------------------------------------+------------------+-----------+\n",
      "model_id, score_thresholds 0 {'rank_abs': [0]}\n",
      "get_disparity_predefined_group()\n",
      "setting c0 = 0.0 to ensure that intercept is not penalized\n",
      "09/11/19 @ 04:28 PM | 1301 rows in lookup table\n",
      "09/11/19 @ 04:28 PM | ------------------------------------------------------------\n",
      "09/11/19 @ 04:28 PM | runnning initialization procedure\n",
      "09/11/19 @ 04:28 PM | ------------------------------------------------------------\n",
      "09/11/19 @ 04:28 PM | CPA produced 2 cuts\n",
      "09/11/19 @ 04:28 PM | running naive rounding on 105 solutions\n",
      "09/11/19 @ 04:28 PM | best objective value: 0.0924\n",
      "09/11/19 @ 04:28 PM | rounding produced 5 integer solutions\n",
      "09/11/19 @ 04:28 PM | best objective value is 0.0937\n",
      "09/11/19 @ 04:28 PM | running sequential rounding on 105 solutions\n",
      "09/11/19 @ 04:28 PM | best objective value: 0.0924\n",
      "09/11/19 @ 04:28 PM | sequential rounding produced 4 integer solutions\n",
      "09/11/19 @ 04:28 PM | best objective value: 0.0937\n",
      "09/11/19 @ 04:28 PM | polishing 9 solutions\n",
      "09/11/19 @ 04:28 PM | best objective value: 0.0937\n",
      "09/11/19 @ 04:28 PM | polishing produced 4 integer solutions\n",
      "09/11/19 @ 04:28 PM | initialization produced 8 feasible solutions\n",
      "09/11/19 @ 04:28 PM | best objective value: 0.0937\n",
      "09/11/19 @ 04:28 PM | ------------------------------------------------------------\n",
      "09/11/19 @ 04:28 PM | completed initialization procedure\n",
      "09/11/19 @ 04:28 PM | ------------------------------------------------------------\n",
      "09/11/19 @ 04:28 PM | 1301 rows in lookup table\n",
      "CPXPARAM_Read_DataCheck                          1\n",
      "CPXPARAM_Threads                                 1\n",
      "CPXPARAM_Parallel                                1\n",
      "CPXPARAM_RandomSeed                              0\n",
      "CPXPARAM_TimeLimit                               200\n",
      "CPXPARAM_MIP_Tolerances_LowerCutoff              0.092130979117567444\n",
      "CPXPARAM_MIP_Tolerances_UpperCutoff              0.093734529654944956\n"
     ]
    },
    {
     "name": "stderr",
     "output_type": "stream",
     "text": [
      "Warning: Control callbacks may disable some MIP features.\n"
     ]
    },
    {
     "name": "stdout",
     "output_type": "stream",
     "text": [
      "Lazy constraint(s) or lazy constraint callback is present.\n",
      "    Disabling dual reductions (CPX_PARAM_REDUCE) in presolve.\n",
      "    Disabling non-linear reductions (CPX_PARAM_PRELINEAR) in presolve.\n",
      "         Disabling repeat represolve because of lazy constraint/incumbent callback.\n",
      "09/11/19 @ 04:28 PM | adding 250 initial cuts\n",
      "1 of 1 MIP starts provided solutions.\n",
      "MIP start 'mip_start_0' defined initial solution with objective 0.0937.\n",
      "Tried aggregator 1 time.\n",
      "Reduced MIP has 32 rows, 64 columns, and 123 nonzeros.\n",
      "Reduced MIP has 30 binaries, 32 generals, 0 SOSs, and 0 indicators.\n",
      "Presolve time = 0.00 sec. (0.07 ticks)\n",
      "Probing time = 0.00 sec. (0.02 ticks)\n",
      "MIP emphasis: balance optimality and feasibility.\n",
      "MIP search method: traditional branch-and-cut.\n",
      "Parallel mode: none, using 1 thread.\n",
      "Root relaxation solution time = 0.00 sec. (0.04 ticks)\n",
      "\n",
      "        Nodes                                         Cuts/\n",
      "   Node  Left     Objective  IInf  Best Integer    Best Bound    ItCnt     Gap         Variable B NodeID Parent  Depth\n",
      "\n",
      "*     0+    0                            0.0937        0.0920             1.82%\n",
      "      0     0        0.0921     1        0.0937        0.0921        1    1.71%\n",
      "      0     2        0.0921     2        0.0937        0.0921        1    1.71%                        0             0\n",
      "Elapsed time = 0.09 sec. (1.51 ticks, tree = 0.01 MB, solutions = 1)\n",
      "*  1480   686      integral     0        0.0937        0.0921     5707    1.69%\n",
      "   2113   949        0.0921     4        0.0937        0.0921     7894    1.69%           rho_0 D   2113   2111     64\n",
      "   3851  1679        0.0923     7        0.0937        0.0921    13720    1.69%          rho_11 D   3851   3850     60\n",
      "   5379  2300        0.0923    12        0.0937        0.0921    19983    1.69%          rho_12 U   5379   5377     24\n",
      "   6824  2995        cutoff              0.0937        0.0921    25639    1.69%           rho_0 U   6824   6823     31\n",
      "   8220  3566        0.0935     6        0.0937        0.0921    30857    1.69%           rho_1 D   8220   8218     87\n",
      "   9662  4162        0.0931     8        0.0937        0.0921    35365    1.69%           rho_0 D   9662   9660     75\n",
      "  10887  4400        0.0927     9        0.0937        0.0921    41317    1.69%           rho_9 U  10887  10886     89\n",
      "  12150  4688        0.0928     7        0.0937        0.0921    47584    1.69%           rho_3 D  12150  12149     78\n",
      "  13450  4963        0.0921     6        0.0937        0.0921    54321    1.69%           rho_0 D  13450  13448     47\n",
      "  19100  6463        0.0935     7        0.0937        0.0921    80286    1.69%          rho_10 D  19100  19099     86\n",
      "Elapsed time = 2.83 sec. (3102.36 ticks, tree = 1.77 MB, solutions = 2)\n",
      "  25487  8518        0.0924    10        0.0937        0.0921   107281    1.69%          rho_12 D  25487  25485     20\n",
      "  31155 10106        0.0924     9        0.0937        0.0921   133846    1.69%           rho_4 D  31155  31154     61\n",
      "  36528 11724        0.0935     3        0.0937        0.0921   158799    1.69%          rho_27 D  36528  36526     64\n",
      "  41397 13723        0.0935    10        0.0937        0.0921   186103    1.69%          rho_30 D  41397  41395     65\n",
      "  46353 15689        0.0926    10        0.0937        0.0921   213696    1.69%          rho_13 D  46353  46352     57\n",
      "  51135 17591        cutoff              0.0937        0.0921   239061    1.69%           rho_0 U  51135  51134     73\n",
      "  55530 18896        0.0923     8        0.0937        0.0921   260326    1.69%           rho_4 D  55530  55529     35\n",
      "  60185 20837        0.0921     6        0.0937        0.0921   282651    1.69%           rho_0 D  60185  60183     63\n",
      "  65222 23080        0.0921     1        0.0937        0.0921   304325    1.69%           rho_4 U  65222  65221     65\n",
      "  70204 24517        0.0935     6        0.0937        0.0921   322884    1.69%           rho_3 U  70204  70203     97\n",
      "Elapsed time = 8.80 sec. (12640.49 ticks, tree = 7.03 MB, solutions = 2)\n",
      "  74820 25679        0.0932     7        0.0937        0.0921   341422    1.69%          rho_14 D  74820  74819     44\n",
      "  79373 27323        0.0921     7        0.0937        0.0921   361629    1.69%          rho_12 D  79373  79372     80\n",
      "  83552 28612        0.0933     8        0.0937        0.0921   384193    1.69%          rho_11 U  83552  83452     65\n",
      "  87858 30273        0.0921     6        0.0937        0.0921   409283    1.69%           rho_0 D  87858  87856     49\n",
      "  92186 32020        0.0923     6        0.0937        0.0921   433457    1.69%           rho_0 D  92186  92184     50\n",
      "  96424 33577        cutoff              0.0937        0.0921   456461    1.69%          rho_24 D  96424  96423     76\n",
      " 100652 35106        0.0931     5        0.0937        0.0921   479080    1.69%          rho_29 D 100652 100651     50\n",
      " 104745 36493        0.0930     5        0.0937        0.0921   502432    1.69%           rho_9 U 104745 104744     96\n",
      " 109102 38133        0.0932     9        0.0937        0.0921   525203    1.69%          rho_10 N 109102 109101     76\n",
      " 113316 39086        0.0928     8        0.0937        0.0921   544758    1.69%           rho_0 D 113316 113314     55\n",
      "Elapsed time = 14.44 sec. (22178.29 ticks, tree = 11.92 MB, solutions = 2)\n",
      " 117043 39546        cutoff              0.0937        0.0921   563237    1.69%          rho_28 U 117043 117042     66\n",
      " 121241 41170        0.0930    11        0.0937        0.0921   585296    1.69%          rho_19 D 121241 121239     65\n",
      " 125296 42504        0.0937     9        0.0937        0.0921   605374    1.69%          rho_24 D 125296 125294     86\n",
      " 129340 43994        0.0921     6        0.0937        0.0921   623215    1.69%           rho_0 N 129340 129338     55\n",
      " 133180 45259        0.0936    11        0.0937        0.0921   643061    1.69%           rho_0 D 133180 133178     50\n",
      " 137016 46401        0.0924     6        0.0937        0.0921   661226    1.69%          rho_15 U 137016 137008     59\n",
      " 140995 47717        0.0927     8        0.0937        0.0921   679880    1.69%           rho_0 D 140995 140994     79\n",
      " 145081 49332        0.0921     5        0.0937        0.0921   698901    1.69%          rho_12 D 145081 145080     53\n",
      " 149145 50814        0.0921    12        0.0937        0.0921   719331    1.69%           rho_0 D 149145 149143     40\n",
      " 152868 51545        0.0921     9        0.0937        0.0921   741409    1.69%           rho_4 D 152868 152867     83\n",
      "Elapsed time = 20.41 sec. (31716.47 ticks, tree = 14.97 MB, solutions = 2)\n",
      " 156395 52201        0.0921     9        0.0937        0.0921   762401    1.69%           rho_3 D 156395 156273     64\n",
      " 159998 52897        0.0932    11        0.0937        0.0921   783709    1.69%           rho_0 D 159998 159997     74\n",
      " 163691 53757        0.0927    11        0.0937        0.0921   805769    1.69%           rho_3 D 163691 163678     48\n",
      " 167380 54574        0.0933     6        0.0937        0.0921   827204    1.69%           rho_1 N 167380 167371     55\n",
      " 171163 55975        0.0931     4        0.0937        0.0921   847729    1.69%          rho_29 U 171163 171162     53\n",
      " 174759 56744        0.0933    11        0.0937        0.0921   867828    1.69%          rho_10 D 174759 174758     61\n",
      " 178431 57704        0.0921     8        0.0937        0.0921   889176    1.69%          rho_12 D 178431 178430     56\n",
      " 182212 58986        0.0921     1        0.0937        0.0921   910996    1.69%          rho_12 U 182212 182210     63\n",
      " 186380 60202        0.0936     7        0.0937        0.0921   929411    1.69%          rho_30 D 186380 186378     72\n",
      " 190622 61294        0.0923    10        0.0937        0.0921   947158    1.69%           rho_4 D 190622 190621     69\n",
      "Elapsed time = 26.02 sec. (41254.40 ticks, tree = 17.35 MB, solutions = 2)\n",
      " 194874 62402        cutoff              0.0937        0.0921   965179    1.69%           rho_0 U 194874 194873     35\n",
      " 199093 63515        cutoff              0.0937        0.0921   983201    1.69%          rho_24 D 199093 199091     59\n",
      " 203020 64623        0.0921     6        0.0937        0.0921  1002674    1.69%          rho_12 D 203020 203019     45\n"
     ]
    },
    {
     "name": "stdout",
     "output_type": "stream",
     "text": [
      " 206749 66183        0.0925    12        0.0937        0.0921  1022030    1.69%           rho_0 D 206749 206747     97\n",
      " 210276 67611        0.0921     4        0.0937        0.0921  1038038    1.69%           rho_4 N 210276 210275     51\n",
      " 213837 68966        cutoff              0.0937        0.0921  1054460    1.69%          rho_13 U 213837 213835     54\n",
      " 217569 70016        0.0932     7        0.0937        0.0921  1075195    1.69%          rho_15 D 217569 217568     84\n",
      " 221355 71189        0.0925     7        0.0937        0.0921  1094501    1.69%           rho_3 D 221355 221353     62\n",
      " 225050 72289        0.0921     7        0.0937        0.0921  1114689    1.69%          rho_12 U 225050 225048     21\n",
      " 228811 73571        0.0931    11        0.0937        0.0921  1136975    1.69%           rho_0 D 228811 228809     74\n",
      "Elapsed time = 31.39 sec. (50793.05 ticks, tree = 23.20 MB, solutions = 2)\n",
      " 232288 74354        0.0936    10        0.0937        0.0921  1157553    1.69%          rho_11 D 232288 232286     73\n",
      " 235740 75141        0.0931    10        0.0937        0.0921  1178395    1.69%          rho_13 D 235740 235739     52\n",
      " 239276 75999        0.0933     7        0.0937        0.0921  1199259    1.69%           rho_9 D 239276 239274     72\n",
      " 242833 76963        cutoff              0.0937        0.0921  1220190    1.69%           rho_1 D 242833 242831     56\n",
      " 246357 77899        cutoff              0.0937        0.0921  1239393    1.69%           rho_0 U 246357 246356     70\n",
      " 249857 78866        0.0932     2        0.0937        0.0921  1258535    1.69%           rho_3 U 249857 249856     80\n",
      " 253330 79701        0.0923     8        0.0937        0.0921  1278248    1.69%           rho_3 D 253330 253329     91\n",
      " 256704 80525        0.0921     5        0.0937        0.0921  1297711    1.69%          rho_12 D 256704 256611     26\n",
      " 260325 81448        0.0931     9        0.0937        0.0921  1316150    1.69%           rho_3 D 260325 260324     92\n",
      " 263815 82254        0.0927    11        0.0937        0.0921  1337301    1.69%          rho_19 D 263815 263814     73\n",
      "Elapsed time = 36.45 sec. (60331.35 ticks, tree = 25.36 MB, solutions = 2)\n",
      " 267194 83010        0.0925     6        0.0937        0.0921  1357505    1.69%           rho_4 D 267194 267193     48\n",
      " 270750 84257        0.0935     6        0.0937        0.0921  1378306    1.69%           rho_6 D 270750 270749     58\n",
      " 274251 85577        0.0933     9        0.0937        0.0921  1398946    1.69%           rho_3 D 274251 274249     63\n",
      " 277824 87004        0.0921     2        0.0937        0.0921  1421424    1.69%          rho_12 U 277824 277822     69\n",
      " 281445 88590        0.0928     7        0.0937        0.0921  1444932    1.69%           rho_6 D 281445 281444     66\n",
      " 284816 89380        0.0921     8        0.0937        0.0921  1464208    1.69%           rho_3 U 284816  95434     53\n",
      " 288286 90230        cutoff              0.0937        0.0921  1482962    1.69%           rho_3 U 288286 288285     40\n",
      " 291805 91263        0.0921     8        0.0937        0.0921  1501485    1.69%           rho_0 D 291805 291803     55\n",
      " 295293 92446        0.0922     9        0.0937        0.0921  1520518    1.69%          rho_11 U 295293 295292     33\n",
      " 298842 94137        0.0921     8        0.0937        0.0921  1543329    1.69%           rho_4 D 298842 297895     82\n",
      "Elapsed time = 41.50 sec. (69869.30 ticks, tree = 28.24 MB, solutions = 2)\n",
      " 302667 96024        0.0928    10        0.0937        0.0921  1565659    1.69%          rho_15 U 302667 302665     68\n",
      " 306204 97334        0.0924    12        0.0937        0.0921  1586661    1.69%           rho_3 D 306204 306203     74\n",
      " 309602 98389        cutoff              0.0937        0.0921  1607503    1.69%           rho_0 U 309602 309600     87\n",
      " 313009 99455        0.0929    11        0.0937        0.0921  1627438    1.69%          rho_15 D 313009 313008     33\n",
      " 315951 100692        0.0921     8        0.0937        0.0921  1650149    1.69%           rho_1 D 315951 315876     43\n",
      " 319360 101734        cutoff              0.0937        0.0921  1668399    1.69%           rho_8 U 319360 319359     49\n",
      " 322825 102806        0.0921     5        0.0937        0.0921  1687838    1.69%           rho_0 D 322825 322823     43\n",
      " 326596 104024        0.0935     9        0.0937        0.0921  1707415    1.69%           rho_3 D 326596 326595     94\n",
      " 330356 105196        0.0924    13        0.0937        0.0921  1726368    1.69%           rho_4 D 330356 330355     79\n",
      " 333687 105942        0.0936     7        0.0937        0.0921  1747228    1.69%          rho_24 D 333687 333686    102\n",
      "Elapsed time = 46.27 sec. (79407.73 ticks, tree = 31.13 MB, solutions = 2)\n",
      " 337069 106721        0.0921     3        0.0937        0.0921  1768178    1.69%          rho_11 U 337069 337068     58\n",
      " 340413 107531        cutoff              0.0937        0.0921  1788703    1.69%           rho_0 D 340413 340412     68\n",
      " 343671 108296        0.0921    10        0.0937        0.0921  1809528    1.69%          rho_11 U 343671 343670     54\n",
      " 346849 108830        0.0934     8        0.0937        0.0921  1829878    1.69%           rho_4 U 346849 346847    100\n",
      " 350533 110295        0.0921     7        0.0937        0.0921  1849293    1.69%          rho_12 U 350533 350531     80\n",
      " 353640 111675        0.0936     7        0.0937        0.0921  1872566    1.69%          rho_24 D 353640 353638     85\n",
      " 357073 112845        0.0922     7        0.0937        0.0921  1892275    1.69%           rho_4 U 357073 357037     25\n",
      " 360493 114172        cutoff              0.0937        0.0921  1911362    1.69%           rho_0 U 360493 360492     47\n",
      " 363967 115218        0.0928     9        0.0937        0.0921  1929529    1.69%          rho_29 D 363967 363966     38\n",
      " 377768 120230        0.0930     4        0.0937        0.0921  2003378    1.69%           rho_3 D 377768 377766     66\n",
      "Elapsed time = 52.69 sec. (91809.03 ticks, tree = 34.67 MB, solutions = 2)\n",
      " 391223 124163        0.0930     8        0.0937        0.0921  2076165    1.69%           rho_1 D 391223 391221     85\n",
      " 404484 129163        0.0930    11        0.0937        0.0921  2154963    1.69%           rho_9 U 404484 404483     77\n",
      " 418058 133689        0.0924     9        0.0937        0.0921  2229298    1.69%           rho_0 D 418058 418056     27\n",
      " 431501 137710        0.0928    11        0.0937        0.0921  2304691    1.69%          rho_19 D 431501 431500     20\n",
      " 445171 142381        0.0923    11        0.0937        0.0921  2379500    1.69%           rho_6 D 445171 445170     60\n",
      " 459165 147965        0.0922     9        0.0937        0.0921  2452432    1.69%           rho_9 U 459165 459164     58\n",
      " 472851 153114        0.0923    12        0.0937        0.0921  2526537    1.69%           rho_3 D 472851 121574     45\n",
      " 486334 157646        0.0923    14        0.0937        0.0921  2600676    1.69%           rho_1 D 486334 486333     70\n",
      " 499688 162671        0.0933    11        0.0937        0.0921  2683904    1.69%           rho_1 U 499688 499675     46\n",
      " 513265 166713        cutoff              0.0937        0.0921  2753798    1.69%          rho_26 U 513265 513264     66\n",
      "Elapsed time = 71.53 sec. (129958.31 ticks, tree = 51.05 MB, solutions = 2)\n",
      " 526402 171507        0.0921     6        0.0937        0.0921  2831393    1.69%          rho_12 U 526402 526400     68\n",
      " 540056 176842        0.0935    11        0.0937        0.0921  2901268    1.69%          rho_29 D 540056 540055    103\n",
      " 553449 181268        cutoff              0.0937        0.0921  2967454    1.69%           rho_0 D 553449 553448     55\n",
      " 567157 185156        0.0927     9        0.0937        0.0921  3037262    1.69%           rho_4 D 567157 567155     53\n",
      " 580483 189804        0.0923    11        0.0937        0.0921  3108504    1.69%          rho_15 D 580483 580482     56\n",
      " 594115 194220        0.0933    15        0.0937        0.0921  3174565    1.69%          rho_19 D 594115 594114     56\n",
      " 608107 198732        cutoff              0.0937        0.0921  3237063    1.69%           rho_4 U 608107 608106     39\n"
     ]
    },
    {
     "name": "stdout",
     "output_type": "stream",
     "text": [
      " 620947 203293        cutoff              0.0937        0.0921  3304633    1.69%           rho_3 U 620947 620946     82\n",
      " 633826 207930        0.0922    17        0.0937        0.0921  3373322    1.69%           rho_3 D 633826 633825     27\n",
      " 646086 211959        0.0934     2        0.0937        0.0921  3450476    1.69%           rho_4 U 646086 646085     65\n",
      "Elapsed time = 90.67 sec. (168107.30 ticks, tree = 64.56 MB, solutions = 2)\n",
      " 658748 216169        cutoff              0.0937        0.0921  3531381    1.69%           rho_0 U 658748 658747     87\n",
      " 671204 220155        0.0936     5        0.0937        0.0921  3604317    1.69%          rho_30 D 671204 671202     54\n",
      " 684197 224616        0.0928     9        0.0937        0.0921  3674644    1.69%          rho_27 D 684197 684195     49\n",
      " 699080 228291        0.0927     8        0.0937        0.0921  3729657    1.69%          rho_11 N 699080 699079     45\n",
      " 711145 232365        0.0924     8        0.0937        0.0921  3800862    1.69%           rho_3 D 711145 711144     68\n",
      " 723003 235592        cutoff              0.0937        0.0921  3878472    1.69%           rho_0 U 723003 723002     33\n",
      " 735009 238960        cutoff              0.0937        0.0921  3950682    1.69%          rho_17 U 735009 735007     87\n",
      " 747209 243258        0.0925    10        0.0937        0.0921  4023491    1.69%          rho_15 D 747209 747208     57\n",
      " 758230 247145        0.0934    10        0.0937        0.0921  4103819    1.69%          rho_28 N 758230 758229     44\n",
      " 770584 251036        0.0936    11        0.0937        0.0921  4167865    1.69%          rho_10 D 770584 770583     40\n",
      "Elapsed time = 108.31 sec. (206255.69 ticks, tree = 76.86 MB, solutions = 2)\n",
      " 783317 255179        0.0929     6        0.0937        0.0921  4237663    1.69%           rho_0 D 783317 783316     60\n",
      " 795930 259873        0.0926    11        0.0937        0.0921  4316453    1.69%           rho_9 D 795930 795928     45\n",
      " 808404 264149        0.0934     6        0.0937        0.0921  4392416    1.69%          rho_11 U 808404 808379     78\n",
      " 820955 268256        0.0921     9        0.0937        0.0921  4470115    1.69%           rho_5 D 820955 820954     21\n",
      " 833665 272834        0.0921     7        0.0937        0.0921  4545331    1.69%          rho_11 U 833665 833656     69\n",
      " 846234 277011        0.0931    11        0.0937        0.0921  4625640    1.69%          rho_10 D 846234 846232     35\n",
      " 859313 281084        0.0925    11        0.0937        0.0921  4693124    1.69%           rho_3 D 859313 859312     48\n",
      " 871880 284978        0.0928    13        0.0937        0.0921  4765586    1.69%          rho_29 D 871880 871878     75\n",
      " 884490 288647        0.0923    11        0.0937        0.0921  4838949    1.69%           rho_4 D 884490 884489     54\n",
      " 896991 292016        0.0924    10        0.0937        0.0921  4915254    1.69%           rho_9 U 896991 896990     67\n",
      "Elapsed time = 125.50 sec. (244406.50 ticks, tree = 89.93 MB, solutions = 2)\n",
      " 909325 295645        0.0937     9        0.0937        0.0921  4993461    1.69%          rho_17 D 909325 909324     76\n",
      " 921569 299116        0.0924     9        0.0937        0.0921  5071102    1.69%           rho_0 D 921569 921567     41\n",
      " 933911 302560        0.0929    11        0.0937        0.0921  5148918    1.69%           rho_0 D 933911 933909     78\n",
      " 946143 306555        0.0921     9        0.0937        0.0921  5227456    1.69%          rho_10 D 946143 946142     57\n",
      " 958459 309893        0.0933     6        0.0937        0.0921  5303180    1.69%           rho_4 U 958459 958457     83\n",
      " 970708 313505        0.0928    11        0.0937        0.0921  5376521    1.69%          rho_28 D 970708 970706     69\n",
      " 982964 317084        cutoff              0.0937        0.0921  5445439    1.69%          rho_29 U 982964 982963     59\n",
      " 994516 319589        cutoff              0.0937        0.0921  5515723    1.69%          rho_28 U 994516 994515     56\n",
      " 1006532 322337        0.0926    12        0.0937        0.0921  5588141    1.69%          rho_15 D 1006532 1006531     84\n",
      " 1018813 324926        0.0921     7        0.0937        0.0921  5657825    1.69%           rho_4 U 1018813 821283     61\n",
      "Elapsed time = 142.38 sec. (282554.97 ticks, tree = 98.32 MB, solutions = 2)\n",
      " 1031073 329798        0.0936    12        0.0937        0.0921  5734042    1.69%           rho_1 D 1031073 1031072     91\n",
      " 1042937 334746        0.0921     8        0.0937        0.0921  5819185    1.69%          rho_12 D 1042937 1042936     73\n",
      " 1054816 339139        cutoff              0.0937        0.0921  5900155    1.69%          rho_13 U 1054816 1054813     61\n",
      " 1067016 342809        0.0921     8        0.0937        0.0921  5975357    1.69%           rho_4 U 1067016 1067014     47\n",
      " 1078960 348312        0.0922     6        0.0937        0.0921  6057149    1.69%           rho_0 U 1078960 1078959     55\n",
      " 1090677 352878        cutoff              0.0937        0.0921  6133424    1.69%          rho_29 U 1090677 1090676     30\n",
      " 1103769 357116        0.0929    11        0.0937        0.0921  6190452    1.69%          rho_13 N 1103769 1103768     88\n",
      " 1115556 360447        0.0933    11        0.0937        0.0921  6254937    1.69%           rho_0 D 1115556 1115555     82\n",
      " 1126717 363399        cutoff              0.0937        0.0921  6324857    1.69%           rho_0 U 1126717 1126715     76\n",
      " 1138434 366755        0.0931    11        0.0937        0.0921  6396632    1.69%          rho_29 D 1138434 1138432     32\n",
      "Elapsed time = 160.25 sec. (320703.43 ticks, tree = 112.35 MB, solutions = 2)\n",
      " 1151736 370715        cutoff              0.0937        0.0921  6459040    1.69%           rho_0 U 1151736 1151735     46\n",
      " 1164690 373427        0.0931    11        0.0937        0.0921  6522482    1.69%          rho_19 D 1164690 1164689     82\n",
      " 1175665 376093        0.0921     8        0.0937        0.0921  6597249    1.69%           rho_4 U 1175665 1175635     77\n",
      " 1186451 378389        cutoff              0.0937        0.0921  6669556    1.69%          rho_15 U 1186451 1186450     65\n",
      " 1198072 381580        0.0921     9        0.0937        0.0921  6737001    1.69%          rho_15 U 1198072 1198066     74\n",
      " 1210695 384917        0.0923     8        0.0937        0.0921  6801602    1.69%           rho_4 U 1210695 679411     45\n",
      " 1222874 387659        0.0931     5        0.0937        0.0921  6869161    1.69%          rho_13 D 1222874 1222872     90\n",
      " 1235314 390690        cutoff              0.0937        0.0921  6932602    1.69%           rho_0 U 1235314 1235313     75\n",
      " 1247456 393835        0.0924     7        0.0937        0.0921  7000364    1.69%           rho_4 U 1247456 1247435     70\n",
      " 1259872 397431        0.0925    12        0.0937        0.0921  7068995    1.69%           rho_3 U 1259872 300935     78\n",
      "Elapsed time = 178.52 sec. (358852.06 ticks, tree = 124.45 MB, solutions = 2)\n",
      " 1271080 400707        0.0933     5        0.0937        0.0921  7141198    1.69%          rho_26 D 1271080 1271079     88\n",
      " 1282337 404799        0.0937    11        0.0937        0.0921  7213036    1.69%          rho_10 U 1282337 1282336     61\n",
      " 1293699 408677        0.0922    10        0.0937        0.0921  7281261    1.69%           rho_0 D 1293699 1293688     60\n",
      " 1305297 413506        cutoff              0.0937        0.0921  7350077    1.69%          rho_29 U 1305297 1305295     65\n",
      " 1317000 416758        0.0925     8        0.0937        0.0921  7409716    1.69%           rho_4 U 1317000 1316999     34\n",
      " 1327919 420793        cutoff              0.0937        0.0921  7478592    1.69%          rho_28 U 1327919 1327918     49\n",
      " 1339676 423794        0.0929    11        0.0937        0.0921  7541724    1.69%          rho_26 D 1339676 1339675     94\n",
      " 1351463 426801        cutoff              0.0937        0.0921  7605703    1.69%           rho_9 U 1351463 1351462     80\n",
      " 1363310 429788        0.0921    11        0.0937        0.0921  7670122    1.69%           rho_3 D 1363310 1363309     54\n",
      " 1375140 432850        0.0927     9        0.0937        0.0921  7733910    1.69%           rho_8 D 1375140 1375138     60\n",
      "Elapsed time = 196.02 sec. (397004.61 ticks, tree = 133.30 MB, solutions = 2)\n"
     ]
    },
    {
     "name": "stdout",
     "output_type": "stream",
     "text": [
      " 1387000 435971        0.0922    10        0.0937        0.0921  7797956    1.69%          rho_15 D 1387000 1386999     41\n",
      " 1398115 438645        cutoff              0.0937        0.0921  7866118    1.69%           rho_8 U 1398115 1398113     67\n",
      "\n",
      "User cuts applied:  406\n",
      "\n",
      "Root node processing (before b&c):\n",
      "  Real time             =    0.09 sec. (1.55 ticks)\n",
      "Sequential b&c:\n",
      "  Real time             =  199.92 sec. (406112.37 ticks)\n",
      "                          ------------\n",
      "Total (root+branch&cut) =  200.02 sec. (406113.92 ticks)\n",
      "+----------------------------------------------+------------------+-----------+\n",
      "| Pr(Y = +1) = 1.0/(1.0 + exp(-(-5 + score))   |                  |           |\n",
      "| ============================================ | ================ | ========= |\n",
      "| p_arrest>=4                                  |         1 points |   + ..... |\n",
      "| p_drug>=1                                    |         1 points |   + ..... |\n",
      "| p_pending_charge>=1                          |         1 points |   + ..... |\n",
      "| ============================================ | ================ | ========= |\n",
      "| ADD POINTS FROM ROWS 1 to 3                  |            SCORE |   = ..... |\n",
      "+----------------------------------------------+------------------+-----------+\n",
      "model_id, score_thresholds 0 {'rank_abs': [0]}\n",
      "get_disparity_predefined_group()\n"
     ]
    }
   ],
   "source": [
    "riskslim_summary = slim.risk_cv(X=sub_X, \n",
    "                                Y=sub_Y, \n",
    "                                indicator = indicator,\n",
    "                                y_label='recid_drug6', \n",
    "                                max_coef=20, \n",
    "                                max_coef_number=10, \n",
    "                                max_runtime=200, \n",
    "                                c=1e-5, \n",
    "                                seed=816)"
   ]
  },
  {
   "cell_type": "code",
   "execution_count": 20,
   "metadata": {},
   "outputs": [
    {
     "data": {
      "text/plain": [
       "(0.7380585493133993, 0.7340316561500986)"
      ]
     },
     "execution_count": 20,
     "metadata": {},
     "output_type": "execute_result"
    }
   ],
   "source": [
    "np.mean(riskslim_summary['train_auc']), np.mean(riskslim_summary['test_auc'])"
   ]
  },
  {
   "cell_type": "markdown",
   "metadata": {},
   "source": [
    "### Results"
   ]
  },
  {
   "cell_type": "code",
   "execution_count": 21,
   "metadata": {},
   "outputs": [
    {
     "name": "stdout",
     "output_type": "stream",
     "text": [
      "Stored 'summary_drug6_KY_interpret' (dict)\n"
     ]
    }
   ],
   "source": [
    "#### save results\n",
    "summary_drug6_KY_interpret = {\"CART\": cart_summary,\n",
    "                                   \"EBM\": ebm_summary, \n",
    "                                   'Lasso Stumps': stump_summary, \n",
    "                                   'RiskSLIM': riskslim_summary, \n",
    "                                   'Arnold PSA Raw': raw_auc, \n",
    "                                   'Arnold PSA': calc_auc}\n",
    "%store summary_drug6_KY_interpret"
   ]
  },
  {
   "cell_type": "code",
   "execution_count": 22,
   "metadata": {},
   "outputs": [
    {
     "data": {
      "text/plain": [
       "[['CART', 0.7706080870990294, 0.016450211636725574],\n",
       " ['EBM', 0.7744094441845822, 0.014594698854934673],\n",
       " ['Lasso Stumps', 0.7745588212839373, 0.0029546809203399695],\n",
       " ['RiskSLIM', 0.7340316561500986],\n",
       " ['Arnold PSA Raw', 0.672],\n",
       " ['Arnold PSA', 0.671]]"
      ]
     },
     "execution_count": 22,
     "metadata": {},
     "output_type": "execute_result"
    }
   ],
   "source": [
    "results = [[\"CART\", np.mean(cart_summary['holdout_test_auc']), np.mean(cart_summary['auc_diffs'])],\n",
    "           [\"EBM\", np.mean(ebm_summary['holdout_test_auc']), np.mean(ebm_summary['auc_diffs'])], \n",
    "           [\"Lasso Stumps\", np.mean(stump_summary['holdout_test_auc']), np.mean(stump_summary['auc_diffs'])],\n",
    "           ['RiskSLIM', np.mean(riskslim_summary['test_auc'])],\n",
    "           ['Arnold PSA Raw', round(np.mean(raw_auc), 3)], \n",
    "           ['Arnold PSA', round(np.mean(calc_auc), 3)]]\n",
    "results"
   ]
  },
  {
   "cell_type": "code",
   "execution_count": 23,
   "metadata": {},
   "outputs": [],
   "source": [
    "auc = [np.mean(cart_summary['holdout_test_auc']), \n",
    "       np.mean(ebm_summary['holdout_test_auc']), \n",
    "       np.mean(stump_summary['holdout_test_auc']), \n",
    "       np.mean(riskslim_summary['test_auc'])]"
   ]
  },
  {
   "cell_type": "code",
   "execution_count": 24,
   "metadata": {},
   "outputs": [],
   "source": [
    "path = \"C:/Users/binha/Documents/Duke/Cynthia Research/KY-analysis-mytrials/KY Recidivism/KY Results/Models/Six Month/\"\n",
    "results = [[\"Drug\", np.str((round(np.mean(cart_summary['holdout_test_auc']), 3))) + \" (\" + np.str(round(np.std(cart_summary['holdout_test_auc']), 3)) + \")\", \n",
    "            np.str(round(np.mean(ebm_summary['holdout_test_auc']),3)) + \" (\" + np.str(round(np.std(ebm_summary['holdout_test_auc']), 3)) + \")\", \n",
    "            np.str(round(np.mean(stump_summary['holdout_test_auc']),3)) + \" (\" + np.str(round(np.std(stump_summary['holdout_test_auc']), 3)) + \")\",             \n",
    "            np.str(round(np.mean(riskslim_summary['test_auc']),3)) + \" (\" + np.str(round(np.std(riskslim_summary['test_auc']), 3)) + \")\", \n",
    "            round(np.max(auc) - np.min(auc), 3),\n",
    "            np.str(round(np.mean(raw_auc), 3)) + \" (\" + np.str(round(np.std(raw_auc),3)) + \")\", \n",
    "            np.str(round(np.mean(calc_auc), 3)) + \" (\" + np.str(round(np.std(calc_auc),3)) + \")\"]]\n",
    "with open(path + 'Interpretable Models Summary.csv', 'a') as writeFile:\n",
    "    writer = csv.writer(writeFile)\n",
    "    writer.writerows(results)"
   ]
  }
 ],
 "metadata": {
  "kernelspec": {
   "display_name": "Python 3",
   "language": "python",
   "name": "python3"
  },
  "language_info": {
   "codemirror_mode": {
    "name": "ipython",
    "version": 3
   },
   "file_extension": ".py",
   "mimetype": "text/x-python",
   "name": "python",
   "nbconvert_exporter": "python",
   "pygments_lexer": "ipython3",
   "version": "3.7.4"
  }
 },
 "nbformat": 4,
 "nbformat_minor": 4
}
