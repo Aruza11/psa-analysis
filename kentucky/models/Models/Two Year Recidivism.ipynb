{
 "cells": [
  {
   "cell_type": "code",
   "execution_count": 1,
   "metadata": {},
   "outputs": [],
   "source": [
    "import pandas as pd \n",
    "import numpy as np\n",
    "import csv\n",
    "import baseline_functions as base"
   ]
  },
  {
   "cell_type": "code",
   "execution_count": 2,
   "metadata": {},
   "outputs": [],
   "source": [
    "### load data\n",
    "data = pd.read_csv(\"~/Documents/Duke/Cynthia Research/KY-analysis-mytrials/KY Recidivism/KY data/kentucky_data.csv\")\n",
    "data = data.drop(['PersonID', 'screening_date','fta_risk_score_raw','nca_risk_score_raw',\n",
    "                  'pvf_risk_score_raw', 'fta_calc', 'nca_calc', 'pvf_calc'], axis=1)\n",
    "X = data.loc[:,:'current_violence'].values\n",
    "Y = data['recid_two_year'].values"
   ]
  },
  {
   "cell_type": "code",
   "execution_count": 4,
   "metadata": {},
   "outputs": [
    {
     "data": {
      "text/plain": [
       "(0.0013816806577675589, 0.7464768494499887)"
      ]
     },
     "execution_count": 4,
     "metadata": {},
     "output_type": "execute_result"
    }
   ],
   "source": [
    "#### AdaBoost\n",
    "estimators = [90]\n",
    "learning_rate = [1]\n",
    "ada_train, ada_test = base.Adaboost(X,Y,learning_rate,estimators,816)\n",
    "np.mean(ada_train) - np.mean(ada_test), np.mean(ada_test)"
   ]
  },
  {
   "cell_type": "code",
   "execution_count": 3,
   "metadata": {},
   "outputs": [
    {
     "data": {
      "text/plain": [
       "(0.0029126758422528543, 0.7460847516034036)"
      ]
     },
     "execution_count": 3,
     "metadata": {},
     "output_type": "execute_result"
    }
   ],
   "source": [
    "#### GAM\n",
    "estimators = [80]\n",
    "depth = [2]\n",
    "learning_rate = [0.3]\n",
    "gam_train, gam_test = base.GAM(X,Y,learning_rate,depth,estimators,816)\n",
    "np.mean(gam_train) - np.mean(gam_test), np.mean(gam_test)"
   ]
  },
  {
   "cell_type": "code",
   "execution_count": 6,
   "metadata": {},
   "outputs": [],
   "source": [
    "results = [[\"AdaBoost\", np.mean(ada_train) - np.mean(ada_test), np.mean(ada_test)],\n",
    "           [\"Lasso\", np.mean(gam_train) - np.mean(gam_test), np.mean(gam_test)]]"
   ]
  },
  {
   "cell_type": "code",
   "execution_count": 7,
   "metadata": {},
   "outputs": [
    {
     "data": {
      "text/plain": [
       "[['AdaBoost', 0.0013816806577675589, 0.7464768494499887],\n",
       " ['Lasso', 0.0029126758422528543, 0.7460847516034036]]"
      ]
     },
     "execution_count": 7,
     "metadata": {},
     "output_type": "execute_result"
    }
   ],
   "source": [
    "results"
   ]
  },
  {
   "cell_type": "code",
   "execution_count": 9,
   "metadata": {},
   "outputs": [],
   "source": [
    "path = \"C:\\\\Users\\\\binha\\\\Documents\\\\Duke\\\\Cynthia Research\\\\KY-analysis-mytrials\\\\KY Recidivism\\\\KY Results\\\\Models\\\\\"\n",
    "results = [[\"\", \"AdaBoost\", \"std\", \"GAM\", \"std\"],\n",
    "           [\"Two Year Recidivism\", round(np.mean(ada_test),3), round(np.std(ada_test), 3), round(np.mean(gam_test),3), round(np.std(gam_test), 3)]]\n",
    "with open(path + 'Models Summary.csv', 'w') as writeFile:\n",
    "    writer = csv.writer(writeFile)\n",
    "    writer.writerows(results)"
   ]
  }
 ],
 "metadata": {
  "kernelspec": {
   "display_name": "Python 3",
   "language": "python",
   "name": "python3"
  },
  "language_info": {
   "codemirror_mode": {
    "name": "ipython",
    "version": 3
   },
   "file_extension": ".py",
   "mimetype": "text/x-python",
   "name": "python",
   "nbconvert_exporter": "python",
   "pygments_lexer": "ipython3",
   "version": "3.7.0"
  }
 },
 "nbformat": 4,
 "nbformat_minor": 2
}
