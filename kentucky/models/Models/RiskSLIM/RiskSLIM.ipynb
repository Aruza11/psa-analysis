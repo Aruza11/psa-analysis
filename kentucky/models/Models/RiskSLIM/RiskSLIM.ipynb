{
 "cells": [
  {
   "cell_type": "code",
   "execution_count": 5,
   "metadata": {
    "hideCode": false,
    "hidePrompt": false
   },
   "outputs": [],
   "source": [
    "import os\n",
    "import numpy as np\n",
    "import pandas as pd\n",
    "import matplotlib.pyplot as plt\n",
    "import csv\n",
    "from pprint import pprint\n",
    "\n",
    "from riskslim.helper_functions import load_data_from_csv, print_model\n",
    "from riskslim.setup_functions import get_conservative_offset\n",
    "from riskslim.coefficient_set import CoefficientSet\n",
    "from riskslim.lattice_cpa import run_lattice_cpa\n",
    "from riskslim.lattice_cpa import setup_lattice_cpa, finish_lattice_cpa\n",
    "\n",
    "from sklearn.model_selection import train_test_split, KFold, StratifiedKFold\n",
    "from sklearn.metrics import roc_curve, auc\n",
    "from sklearn.utils import shuffle"
   ]
  },
  {
   "cell_type": "markdown",
   "metadata": {
    "hideCode": false,
    "hidePrompt": false
   },
   "source": [
    "### Modeling -- RiskSLIM"
   ]
  },
  {
   "cell_type": "markdown",
   "metadata": {
    "hideCode": false,
    "hidePrompt": false
   },
   "source": [
    "#### Basic Set Up"
   ]
  },
  {
   "cell_type": "code",
   "execution_count": 6,
   "metadata": {
    "hideCode": false,
    "hidePrompt": false
   },
   "outputs": [],
   "source": [
    "def risk_slim(data, max_coefficient, max_L0_value, c0_value, max_runtime = 120, w_pos = 1, max_offset=50):\n",
    "    \n",
    "    \n",
    "    \"\"\"\n",
    "    @parameters:\n",
    "    \n",
    "    max_coefficient:  value of largest/smallest coefficient\n",
    "    max_L0_value:     maximum model size (set as float(inf))\n",
    "    max_offset:       maximum value of offset parameter (optional)\n",
    "    c0_value:         L0-penalty parameter such that c0_value > 0; larger values -> \n",
    "                      sparser models; we set to a small value (1e-6) so that we get a model with max_L0_value terms\n",
    "    max_runtime:      max algorithm running time\n",
    "    w_pos:            relative weight on examples with y = +1; w_neg = 1.00 (optional)\n",
    "    \n",
    "    \"\"\"\n",
    "    \n",
    "    # create coefficient set and set the value of the offset parameter\n",
    "    coef_set = CoefficientSet(variable_names = data['variable_names'], lb = 0, ub = max_coefficient, sign = 0)\n",
    "    conservative_offset = get_conservative_offset(data, coef_set, max_L0_value)\n",
    "    max_offset = min(max_offset, conservative_offset)\n",
    "    coef_set['(Intercept)'].ub = max_offset\n",
    "    coef_set['(Intercept)'].lb = -max_offset\n",
    "\n",
    "    constraints = {\n",
    "        'L0_min': 0,\n",
    "        'L0_max': max_L0_value,\n",
    "        'coef_set':coef_set,\n",
    "    }\n",
    "    \n",
    "    # Set parameters\n",
    "    settings = {\n",
    "        # Problem Parameters\n",
    "        'c0_value': c0_value,\n",
    "        'w_pos': w_pos,\n",
    "\n",
    "        # LCPA Settings\n",
    "        'max_runtime': max_runtime,                         # max runtime for LCPA\n",
    "        'max_tolerance': np.finfo('float').eps,             # tolerance to stop LCPA (set to 0 to return provably optimal solution)\n",
    "        'display_cplex_progress': True,                     # print CPLEX progress on screen\n",
    "        'loss_computation': 'lookup',                       # how to compute the loss function ('normal','fast','lookup')\n",
    "        \n",
    "        # LCPA Improvements\n",
    "        'round_flag': False,                                # round continuous solutions with SeqRd\n",
    "        'polish_flag': False,                               # polish integer feasible solutions with DCD\n",
    "        'chained_updates_flag': False,                      # use chained updates\n",
    "        'add_cuts_at_heuristic_solutions': True,            # add cuts at integer feasible solutions found using polishing/rounding\n",
    "        \n",
    "        # Initialization\n",
    "        'initialization_flag': True,                        # use initialization procedure\n",
    "        'init_max_runtime': 300.0,                          # max time to run CPA in initialization procedure\n",
    "        'init_max_coefficient_gap': 0.49,\n",
    "\n",
    "        # CPLEX Solver Parameters\n",
    "        'cplex_randomseed': 0,                              # random seed\n",
    "        'cplex_mipemphasis': 0,                             # cplex MIP strategy\n",
    "    }\n",
    "    \n",
    "\n",
    "    # train model using lattice_cpa\n",
    "    model_info, mip_info, lcpa_info = run_lattice_cpa(data, constraints, settings)\n",
    "        \n",
    "    return model_info, mip_info, lcpa_info"
   ]
  },
  {
   "cell_type": "markdown",
   "metadata": {
    "hideCode": false,
    "hidePrompt": false
   },
   "source": [
    "#### advanced"
   ]
  },
  {
   "cell_type": "code",
   "execution_count": 3,
   "metadata": {
    "hideCode": false,
    "hidePrompt": false
   },
   "outputs": [],
   "source": [
    "def risk_slim(data, max_coefficient, max_L0_value, c0_value, max_runtime = 120, w_pos = 1, max_offset=50):\n",
    "    \n",
    "    \n",
    "    \"\"\"\n",
    "    @parameters:\n",
    "    \n",
    "    max_coefficient:  value of largest/smallest coefficient\n",
    "    max_L0_value:     maximum model size (set as float(inf))\n",
    "    max_offset:       maximum value of offset parameter (optional)\n",
    "    c0_value:         L0-penalty parameter such that c0_value > 0; larger values -> \n",
    "                      sparser models; we set to a small value (1e-6) so that we get a model with max_L0_value terms\n",
    "    max_runtime:      max algorithm running time\n",
    "    w_pos:            relative weight on examples with y = +1; w_neg = 1.00 (optional)\n",
    "    \n",
    "    \"\"\"\n",
    "    \n",
    "    # create coefficient set and set the value of the offset parameter\n",
    "    coef_set = CoefficientSet(variable_names = data['variable_names'], lb = 0, ub = max_coefficient, sign = 0)\n",
    "    conservative_offset = get_conservative_offset(data, coef_set, max_L0_value)\n",
    "    max_offset = min(max_offset, conservative_offset)\n",
    "    coef_set['(Intercept)'].ub = max_offset\n",
    "    coef_set['(Intercept)'].lb = -max_offset\n",
    "\n",
    "    constraints = {\n",
    "        'L0_min': 0,\n",
    "        'L0_max': max_L0_value,\n",
    "        'coef_set':coef_set,\n",
    "    }\n",
    "    \n",
    "    # Set parameters\n",
    "    settings = {\n",
    "        #\n",
    "        'c0_value': c0_value,\n",
    "        'w_pos': w_pos,\n",
    "        #\n",
    "        # LCPA Settings\n",
    "        'max_runtime': max_runtime,                               # max runtime for LCPA\n",
    "        'max_tolerance': np.finfo('float').eps,             # tolerance to stop LCPA (set to 0 to return provably optimal solution)\n",
    "        'display_cplex_progress': True,                     # set to True to print CPLEX progress\n",
    "        'loss_computation': 'lookup',                       # how to compute the loss function ('normal','fast','lookup')\n",
    "        #\n",
    "        # Other LCPA Heuristics\n",
    "        'chained_updates_flag': True,                         # use chained updates\n",
    "        'add_cuts_at_heuristic_solutions': True,            # add cuts at integer feasible solutions found using polishing/rounding\n",
    "        #\n",
    "        # LCPA Rounding Heuristic\n",
    "        'round_flag': False,                                 # round continuous solutions with SeqRd\n",
    "        'polish_rounded_solutions': True,                   # polish solutions rounded with SeqRd using DCD\n",
    "        'rounding_tolerance': float('inf'),                 # only solutions with objective value < (1 + tol) are rounded\n",
    "        'rounding_start_cuts': 0,                           # cuts needed to start using rounding heuristic\n",
    "        'rounding_start_gap': float('inf'),                 # optimality gap needed to start using rounding heuristic\n",
    "        'rounding_stop_cuts': 20000,                        # cuts needed to stop using rounding heuristic\n",
    "        'rounding_stop_gap': 0.2,                           # optimality gap needed to stop using rounding heuristic\n",
    "        #\n",
    "        # LCPA Polishing Heuristic\n",
    "        'polish_flag': False,                                # polish integer feasible solutions with DCD\n",
    "        'polishing_tolerance': 0.1,                         # only solutions with objective value (1 + tol) are polished.\n",
    "        'polishing_max_runtime': 10.0,                      # max time to run polishing each time\n",
    "        'polishing_max_solutions': 5.0,                     # max # of solutions to polish each time\n",
    "        'polishing_start_cuts': 0,                          # cuts needed to start using polishing heuristic\n",
    "        'polishing_start_gap': float('inf'),                # min optimality gap needed to start using polishing heuristic\n",
    "        'polishing_stop_cuts': float('inf'),                # cuts needed to stop using polishing heuristic\n",
    "        'polishing_stop_gap': 0.0,                          # max optimality gap required to stop using polishing heuristic\n",
    "        #\n",
    "        # Initialization Procedure\n",
    "        'initialization_flag': True,                       # use initialization procedure\n",
    "        'init_display_progress': True,                      # show progress of initialization procedure\n",
    "        'init_display_cplex_progress': False,               # show progress of CPLEX during intialization procedure\n",
    "        #\n",
    "        'init_max_runtime': 300.0,                          # max time to run CPA in initialization procedure\n",
    "        'init_max_iterations': 10000,                       # max # of cuts needed to stop CPA\n",
    "        'init_max_tolerance': 0.0001,                       # tolerance of solution to stop CPA\n",
    "        'init_max_runtime_per_iteration': 300.0,            # max time per iteration of CPA\n",
    "        'init_max_cplex_time_per_iteration': 10.0,          # max time per iteration to solve surrogate problem in CPA\n",
    "        #\n",
    "        'init_use_rounding': True,                          # use Rd in initialization procedure\n",
    "        'init_rounding_max_runtime': 30.0,                  # max runtime for Rd in initialization procedure\n",
    "        'init_rounding_max_solutions': 5,                   # max solutions to round using Rd\n",
    "        #\n",
    "        'init_use_sequential_rounding': True,               # use SeqRd in initialization procedure\n",
    "        'init_sequential_rounding_max_runtime': 10.0,       # max runtime for SeqRd in initialization procedure\n",
    "        'init_sequential_rounding_max_solutions': 5,        # max solutions to round using SeqRd\n",
    "        #\n",
    "        'init_polishing_after': True,                       # polish after rounding\n",
    "        'init_polishing_max_runtime': 30.0,                 # max runtime for polishing\n",
    "        'init_polishing_max_solutions': 5,                  # max solutions to polish\n",
    "        #\n",
    "        # CPLEX Solver Parameters\n",
    "        'cplex_randomseed': 0,                              # random seed\n",
    "        'cplex_mipemphasis': 0,                             # cplex MIP strategy\n",
    "    }\n",
    "\n",
    "    # train model using lattice_cpa\n",
    "    model_info, mip_info, lcpa_info = run_lattice_cpa(data, constraints, settings)\n",
    "        \n",
    "    return model_info, mip_info, lcpa_info"
   ]
  },
  {
   "cell_type": "code",
   "execution_count": 7,
   "metadata": {
    "hideCode": false,
    "hidePrompt": false
   },
   "outputs": [],
   "source": [
    "def riskslim_prediction(X, feature_name, model_info):\n",
    "    \n",
    "    \"\"\"\n",
    "    @parameters\n",
    "    \n",
    "    X: test input features (np.array)\n",
    "    feature_name: feature names\n",
    "    model_info: output from RiskSLIM model\n",
    "    \n",
    "    \"\"\"\n",
    "    \n",
    "    ## initialize parameters\n",
    "    dictionary = {}\n",
    "    prob = np.zeros(len(X))\n",
    "    scores = np.zeros(len(X))\n",
    "    \n",
    "    ## prepare statistics\n",
    "    subtraction_score = model_info['solution'][0]\n",
    "    coefs = model_info['solution'][1:]\n",
    "    index = np.where(coefs != 0)[0]\n",
    "    \n",
    "    nonzero_coefs = coefs[index]\n",
    "    features = feature_name[index]\n",
    "    X_sub = X[:,index]\n",
    "    \n",
    "    ## build dictionaries\n",
    "    for i in range(len(features)):\n",
    "        single_feature = features[i]\n",
    "        coef = nonzero_coefs[i]\n",
    "        dictionary.update({single_feature: coef})\n",
    "        \n",
    "    ## calculate probability\n",
    "    for i in range(len(X_sub)):\n",
    "        summation = 0\n",
    "        for j in range(len(features)):\n",
    "            a = X_sub[i,j]\n",
    "            summation += dictionary[features[j]] * a\n",
    "        scores[i] = summation\n",
    "    \n",
    "    prob = 1/(1+np.exp(-(scores + subtraction_score)))\n",
    "    \n",
    "    return prob"
   ]
  },
  {
   "cell_type": "code",
   "execution_count": 8,
   "metadata": {
    "hideCode": false,
    "hidePrompt": false
   },
   "outputs": [],
   "source": [
    "def riskslim_accuracy(X, Y, feature_name, model_info, threshold=0.5):\n",
    "    \n",
    "    prob = riskslim_prediction(X, feature_name, model_info)\n",
    "    pred = np.mean((prob > threshold) == Y)\n",
    "    \n",
    "    return pred"
   ]
  },
  {
   "cell_type": "markdown",
   "metadata": {
    "hideCode": false,
    "hidePrompt": false
   },
   "source": [
    " "
   ]
  },
  {
   "cell_type": "markdown",
   "metadata": {
    "hideCode": false,
    "hidePrompt": false
   },
   "source": [
    " "
   ]
  },
  {
   "cell_type": "markdown",
   "metadata": {
    "hideCode": false,
    "hidePrompt": false
   },
   "source": [
    " "
   ]
  },
  {
   "cell_type": "markdown",
   "metadata": {
    "hideCode": false,
    "hidePrompt": false
   },
   "source": [
    " "
   ]
  },
  {
   "cell_type": "markdown",
   "metadata": {
    "hideCode": false,
    "hidePrompt": false
   },
   "source": [
    "### Test One Model"
   ]
  },
  {
   "cell_type": "markdown",
   "metadata": {
    "hideCode": false,
    "hidePrompt": false
   },
   "source": [
    "#### original data"
   ]
  },
  {
   "cell_type": "code",
   "execution_count": 9,
   "metadata": {
    "hideCode": false,
    "hidePrompt": false
   },
   "outputs": [],
   "source": [
    "train = pd.read_csv(\"C:/Users/binha/Documents/Duke/Cynthia Research/KY-analysis-mytrials/KY Recidivism/KY models/Models/RiskSLIM/new_train.csv\")\n",
    "test = pd.read_csv(\"C:/Users/binha/Documents/Duke/Cynthia Research/KY-analysis-mytrials/KY Recidivism/KY models/Models/RiskSLIM/new_test.csv\")\n",
    "\n",
    "## split features and dependant variable\n",
    "x_test, y_test = test.iloc[:,1:].values, test.iloc[:,0].values\n",
    "x_train, y_train = train.iloc[:,1:].values, train.iloc[:,0].values\n",
    "y_test[y_test == -1] = 0\n",
    "y_train[y_train == -1] = 0\n",
    "\n",
    "## column names\n",
    "cols = train.columns[1:]"
   ]
  },
  {
   "cell_type": "code",
   "execution_count": 10,
   "metadata": {
    "hideCode": false,
    "hidePrompt": false
   },
   "outputs": [
    {
     "data": {
      "text/plain": [
       "123"
      ]
     },
     "execution_count": 10,
     "metadata": {},
     "output_type": "execute_result"
    }
   ],
   "source": [
    "len(cols)"
   ]
  },
  {
   "cell_type": "code",
   "execution_count": 12,
   "metadata": {
    "hideCode": false,
    "hidePrompt": false
   },
   "outputs": [],
   "source": [
    "# data path\n",
    "data_name = \"new_train.csv\"          \n",
    "data_csv_file = os.getcwd() + '/' + data_name \n",
    "sample_weights_csv_file = None \n",
    "# load data\n",
    "data = load_data_from_csv(dataset_csv_file = data_csv_file, sample_weights_csv_file = sample_weights_csv_file)"
   ]
  },
  {
   "cell_type": "code",
   "execution_count": 13,
   "metadata": {
    "hideCode": false,
    "hidePrompt": false,
    "scrolled": true
   },
   "outputs": [
    {
     "name": "stdout",
     "output_type": "stream",
     "text": [
      "setting c0 = 0.0 to ensure that intercept is not penalized\n",
      "08/02/19 @ 11:15 AM | 1321 rows in lookup table\n",
      "08/02/19 @ 11:15 AM | ------------------------------------------------------------\n",
      "08/02/19 @ 11:15 AM | runnning initialization procedure\n",
      "08/02/19 @ 11:15 AM | ------------------------------------------------------------\n",
      "08/02/19 @ 11:15 AM | CPA produced 2 cuts\n",
      "08/02/19 @ 11:15 AM | running naive rounding on 38 solutions\n",
      "08/02/19 @ 11:15 AM | best objective value: 0.5225\n",
      "08/02/19 @ 11:15 AM | rounding produced 5 integer solutions\n",
      "08/02/19 @ 11:15 AM | best objective value is 0.5345\n",
      "08/02/19 @ 11:15 AM | running sequential rounding on 38 solutions\n",
      "08/02/19 @ 11:15 AM | best objective value: 0.5225\n",
      "08/02/19 @ 11:15 AM | sequential rounding produced 6 integer solutions\n",
      "08/02/19 @ 11:15 AM | best objective value: 0.5272\n",
      "08/02/19 @ 11:15 AM | polishing 11 solutions\n",
      "08/02/19 @ 11:15 AM | best objective value: 0.5272\n",
      "08/02/19 @ 11:15 AM | polishing produced 5 integer solutions\n",
      "08/02/19 @ 11:15 AM | initialization produced 15 feasible solutions\n",
      "08/02/19 @ 11:15 AM | best objective value: 0.5272\n",
      "08/02/19 @ 11:15 AM | ------------------------------------------------------------\n",
      "08/02/19 @ 11:15 AM | completed initialization procedure\n",
      "08/02/19 @ 11:15 AM | ------------------------------------------------------------\n",
      "08/02/19 @ 11:15 AM | 1321 rows in lookup table\n",
      "CPXPARAM_Read_DataCheck                          1\n",
      "CPXPARAM_Threads                                 1\n",
      "CPXPARAM_Parallel                                1\n",
      "CPXPARAM_RandomSeed                              0\n",
      "CPXPARAM_TimeLimit                               300\n",
      "CPXPARAM_MIP_Tolerances_LowerCutoff              0.5101628201309506\n",
      "CPXPARAM_MIP_Tolerances_UpperCutoff              0.52715089640890522\n"
     ]
    },
    {
     "name": "stderr",
     "output_type": "stream",
     "text": [
      "Warning: Control callbacks may disable some MIP features.\n"
     ]
    },
    {
     "name": "stdout",
     "output_type": "stream",
     "text": [
      "Lazy constraint(s) or lazy constraint callback is present.\n",
      "    Disabling dual reductions (CPX_PARAM_REDUCE) in presolve.\n",
      "    Disabling non-linear reductions (CPX_PARAM_PRELINEAR) in presolve.\n",
      "         Disabling repeat represolve because of lazy constraint/incumbent callback.\n",
      "08/02/19 @ 11:15 AM | adding 333 initial cuts\n",
      "1 of 1 MIP starts provided solutions.\n",
      "MIP start 'mip_start_0' defined initial solution with objective 0.5272.\n",
      "Tried aggregator 1 time.\n",
      "Reduced MIP has 125 rows, 250 columns, and 495 nonzeros.\n",
      "Reduced MIP has 123 binaries, 125 generals, 0 SOSs, and 0 indicators.\n",
      "Presolve time = 0.02 sec. (0.24 ticks)\n",
      "Probing time = 0.00 sec. (0.19 ticks)\n",
      "MIP emphasis: balance optimality and feasibility.\n",
      "MIP search method: traditional branch-and-cut.\n",
      "Parallel mode: none, using 1 thread.\n",
      "Root relaxation solution time = 0.00 sec. (0.16 ticks)\n",
      "\n",
      "        Nodes                                         Cuts/\n",
      "   Node  Left     Objective  IInf  Best Integer    Best Bound    ItCnt     Gap         Variable B NodeID Parent  Depth\n",
      "\n",
      "*     0+    0                            0.5272        0.5101             3.24%\n",
      "      0     0        0.5102     1        0.5272        0.5102        1    3.22%\n",
      "      0     0        0.5102     1        0.5272      Fract: 1        2    3.22%\n",
      "      0     0        0.5102     1        0.5272       Cuts: 2        5    3.22%\n",
      "      0     2        0.5102     4        0.5272        0.5102        5    3.22%                        0             0\n",
      "Elapsed time = 0.27 sec. (8.98 ticks, tree = 0.01 MB, solutions = 1)\n",
      "    889   606        0.5149     8        0.5272        0.5102     3891    3.22%        alpha_76 D    889    888     66\n",
      "*   960+  670                            0.5270        0.5102             3.19%\n",
      "   1453   944        0.5260     4        0.5270        0.5102     6838    3.19%        alpha_28 D   1453   1452     27\n",
      "*  1790+ 1117                            0.5260        0.5102             3.01%\n",
      "   1976  1270        0.5102    12        0.5260        0.5102     9264    3.01%           rho_2 U   1976   1975     34\n",
      "   2410  1577        0.5102    13        0.5260        0.5102    11710    3.01%          rho_26 D   2410   2409     65\n",
      "   2880  1870        0.5220    12        0.5260        0.5102    14724    3.01%          rho_39 D   2880   2879    131\n",
      "   3284  2074        0.5183    17        0.5260        0.5102    18062    3.01%          rho_72 U   3284   3283     57\n",
      "   3700  2319        0.5102     5        0.5260        0.5102    21113    3.01%         rho_123 D   3700   3699     58\n",
      "   4087  2513        0.5152    29        0.5260        0.5102    24696    3.01%          rho_72 U   4087   4086     53\n",
      "   4466  2726        cutoff              0.5260        0.5102    27399    3.01%           rho_9 U   4466   4465     57\n",
      "   6093  3771        0.5181    15        0.5260        0.5102    40047    3.01%           rho_2 U   6093   6092     80\n",
      "Elapsed time = 5.72 sec. (3113.49 ticks, tree = 1.44 MB, solutions = 3)\n",
      "   7840  4886        0.5173    13        0.5260        0.5102    51868    3.01%          rho_59 D   7840   7839     83\n",
      "   9320  5628        0.5235    13        0.5260        0.5102    61267    3.01%          rho_67 D   9320   9318     76\n",
      "  10774  6333        cutoff              0.5260        0.5102    70626    3.01%         rho_106 U  10774  10773     97\n",
      "  12333  7115        0.5171    19        0.5260        0.5102    80419    3.01%         rho_100 U  12333  12331     59\n",
      "  14058  7969        0.5236    10        0.5260        0.5102    91169    3.01%          rho_70 D  14058  14056    114\n",
      "  15719  8818        0.5127    17        0.5260        0.5102   101865    3.01%           rho_1 U  15719  15716     74\n",
      "  17558 10060        0.5203    21        0.5260        0.5102   113315    3.01%          rho_70 D  17558  17557     95\n",
      "  19337 11215        0.5227    10        0.5260        0.5102   124383    3.01%          rho_69 N  19337  19336     76\n",
      "  20814 11958        0.5236    17        0.5260        0.5102   134391    3.01%          rho_92 D  20814  20813    115\n",
      "  22165 12669        0.5251    11        0.5260        0.5102   144571    3.01%          rho_61 U  22165  22164     66\n",
      "Elapsed time = 10.59 sec. (12657.85 ticks, tree = 5.06 MB, solutions = 3)\n",
      "  23611 13368        0.5148    23        0.5260        0.5102   154232    3.01%          rho_66 D  23611  23610     77\n",
      "  24958 14078        0.5102     9        0.5260        0.5102   163869    3.01%          rho_18 D  24958  24833     52\n",
      "  26271 14713        0.5102     4        0.5260        0.5102   173121    3.01%          rho_18 U  26271  26224     54\n",
      "  27590 15442        0.5237    23        0.5260        0.5102   182853    3.01%          rho_26 D  27590  27589     90\n",
      "  28920 16091        0.5236     9        0.5260        0.5102   192098    3.01%          rho_61 U  28920  28919     55\n",
      "  30312 16885        0.5255     6        0.5260        0.5102   201735    3.01%          rho_64 D  30312  30310     58\n",
      "  31720 17592        0.5175    19        0.5260        0.5102   210792    3.01%         rho_100 U  31720  31719     46\n",
      "  33125 18340        0.5193    23        0.5260        0.5102   220553    3.01%           rho_5 D  33125  33123     91\n",
      "  34580 19004        0.5215    18        0.5260        0.5102   229712    3.01%         rho_103 D  34580  34579    101\n",
      "  36251 19717        0.5241    12        0.5260        0.5102   240008    3.01%          rho_76 D  36251  36250     77\n",
      "Elapsed time = 15.03 sec. (22205.12 ticks, tree = 8.25 MB, solutions = 3)\n",
      "  37930 20404        cutoff              0.5260        0.5102   250696    3.01%          rho_97 U  37930  37929     63\n",
      "  39652 21258        cutoff              0.5260        0.5102   262107    3.01%          rho_51 U  39652  39651     59\n",
      "  41300 21985        0.5197    15        0.5260        0.5102   274030    3.01%         rho_100 U  41300  41299     61\n",
      "  43018 22849        0.5213    15        0.5260        0.5102   286160    3.01%         rho_104 D  43018  43016    102\n",
      "  44685 23657        0.5221    16        0.5260        0.5102   298076    3.01%         rho_104 D  44685  44683    100\n",
      "  46363 24494        cutoff              0.5260        0.5102   309703    3.01%          rho_35 U  46363  46362    102\n",
      "  48097 25374        0.5243    17        0.5260        0.5102   321611    3.01%         rho_105 D  48097  48095    102\n",
      "  49694 26201        cutoff              0.5260        0.5102   332487    3.01%          rho_93 D  49694  49692    108\n",
      "  51076 26870        0.5102     4        0.5260        0.5102   342267    3.01%           rho_0 D  51076  51074     55\n",
      "  52673 27637        0.5208    15        0.5260        0.5102   353978    3.01%           rho_1 D  52673  52672     50\n",
      "Elapsed time = 20.41 sec. (31747.66 ticks, tree = 11.06 MB, solutions = 3)\n",
      "  54289 28390        0.5227    13        0.5260        0.5102   365286    3.01%          rho_66 D  54289  54288     61\n",
      "  56042 29246        0.5250    10        0.5260        0.5102   375875    3.01%          rho_30 D  56042  56041     73\n",
      "  57669 30043        0.5199    21        0.5260        0.5102   387445    3.01%           rho_5 D  57669  57667     95\n",
      "  59224 30829        0.5212    16        0.5260        0.5102   397983    3.01%         rho_105 D  59224  59222    101\n",
      "  60754 31628        0.5145    19        0.5260        0.5102   408240    3.01%          rho_97 D  60754  60753     76\n",
      "  62080 32336        0.5246    13        0.5260        0.5102   417306    3.01%          rho_28 D  62080  62079    113\n",
      "  63320 32953        0.5102     1        0.5260        0.5102   426450    3.01%          rho_20 U  63320  60967     55\n",
      "  64599 33652        0.5102    22        0.5260        0.5102   435116    3.01%          rho_88 D  64599  64598     74\n",
      "  65874 34307        cutoff              0.5260        0.5102   443675    3.01%           rho_0 U  65874  65873     46\n",
      "  67113 34877        0.5258    12        0.5260        0.5102   451922    3.01%          rho_76 D  67113  67112     68\n",
      "Elapsed time = 24.94 sec. (41287.39 ticks, tree = 15.03 MB, solutions = 3)\n",
      "  68449 35561        0.5196    19        0.5260        0.5102   462109    3.01%          rho_30 D  68449  68447     89\n"
     ]
    },
    {
     "name": "stdout",
     "output_type": "stream",
     "text": [
      "  69845 36376        0.5241    13        0.5260        0.5102   470858    3.01%         rho_107 D  69845  69843    111\n",
      "  71099 36994        0.5102    15        0.5260        0.5102   479841    3.01%          rho_76 D  71099  71098     68\n",
      "  72376 37698        0.5188    13        0.5260        0.5102   488978    3.01%          rho_69 D  72376  72375     87\n",
      "  73672 38319        0.5102     8        0.5260        0.5102   497012    3.01%          rho_19 U  73672  73670     55\n",
      "  74974 38939        0.5202    15        0.5260        0.5102   505419    3.01%           rho_0 U  74974  74973     52\n",
      "  76368 39558        0.5246    14        0.5260        0.5102   516950    3.01%          rho_83 D  76368  76366     65\n",
      "  77985 40371        0.5226    13        0.5260        0.5102   526950    3.01%           rho_0 U  77985  77984     60\n",
      "  79432 41026        cutoff              0.5260        0.5102   538508    3.01%          rho_83 U  79432  79431     72\n",
      "  80970 41935        cutoff              0.5260        0.5102   548522    3.01%         rho_106 U  80970  80969    105\n",
      "Elapsed time = 29.20 sec. (50826.79 ticks, tree = 17.54 MB, solutions = 3)\n",
      "  82260 42636        0.5102    21        0.5260        0.5102   557807    3.01%          rho_88 D  82260  82259     67\n",
      "  83492 43320        0.5124    27        0.5260        0.5102   566877    3.01%          rho_63 D  83492  83491     71\n",
      "  84741 43965        0.5102    13        0.5260        0.5102   575903    3.01%          rho_88 D  84741  84740     65\n",
      "  86040 44616        0.5169    19        0.5260        0.5102   584287    3.01%         rho_100 U  86040  86039     47\n",
      "  87420 45442        cutoff              0.5260        0.5102   593529    3.01%         rho_100 U  87420  87419     59\n",
      "  88698 46189        0.5187    23        0.5260        0.5102   602879    3.01%          rho_97 D  88698  88697     89\n",
      "  89960 46880        0.5186    19        0.5260        0.5102   612069    3.01%         rho_119 D  89960  89958     88\n",
      "  91235 47601        0.5243    11        0.5260        0.5102   621236    3.01%          rho_83 D  91235  91233     82\n",
      "  92484 48191        0.5158    14        0.5260        0.5102   629716    3.01%         rho_123 U  92484  92482     62\n",
      "  93770 48878        0.5153    21        0.5260        0.5102   638362    3.01%         rho_101 D  93770  93769     75\n",
      "Elapsed time = 33.41 sec. (60375.33 ticks, tree = 20.01 MB, solutions = 3)\n",
      "  95096 49653        cutoff              0.5260        0.5102   647483    3.01%          rho_34 U  95096  95095    104\n",
      "  96335 50344        0.5102    28        0.5260        0.5102   656648    3.01%          rho_88 D  96335  96334     64\n",
      "  97650 51106        0.5131    19        0.5260        0.5102   666097    3.01%          rho_10 D  97650  97649     80\n",
      "  98930 51805        0.5172    16        0.5260        0.5102   675208    3.01%          rho_83 D  98930  98929     57\n",
      " 100210 52407        0.5130    21        0.5260        0.5102   683654    3.01%          rho_97 D 100210 100209     71\n",
      " 101551 53214        cutoff              0.5260        0.5102   692538    3.01%           rho_0 U 101551 101550     53\n",
      " 102824 53947        cutoff              0.5260        0.5102   702090    3.01%          rho_34 U 102824 102823     98\n",
      " 104063 54630        0.5121    24        0.5260        0.5102   711333    3.01%          rho_89 D 104063 104062     72\n",
      " 105295 55322        0.5102    14        0.5260        0.5102   720280    3.01%          rho_83 D 105295 105294     59\n",
      " 106531 55924        cutoff              0.5260        0.5102   728891    3.01%         rho_123 U 106531 106528     53\n",
      "Elapsed time = 37.59 sec. (69918.00 ticks, tree = 22.53 MB, solutions = 3)\n",
      " 107833 56671        0.5230    16        0.5260        0.5102   737785    3.01%          rho_92 D 107833 107832    117\n",
      " 109215 57472        cutoff              0.5260        0.5102   747375    3.01%        alpha_70 U 109215 109214    113\n",
      " 110530 58193        0.5102    13        0.5260        0.5102   757109    3.01%           rho_0 D 110530 110528     61\n",
      " 111844 58923        0.5245     9        0.5260        0.5102   767005    3.01%          rho_27 D 111844 111843     83\n",
      " 113158 59582        0.5198    15        0.5260        0.5102   775926    3.01%          rho_83 D 113158 113157     54\n",
      " 114450 60214        0.5102     9        0.5260        0.5102   784764    3.01%         rho_123 D 114450 114449     55\n",
      " 115673 60767        0.5110    23        0.5260        0.5102   794118    3.01%          rho_89 D 115673 115672     59\n",
      " 116953 61348        cutoff              0.5260        0.5102   804444    3.01%          rho_10 U 116953 116952     79\n",
      " 118577 62157        0.5201    19        0.5260        0.5102   814770    3.01%         rho_100 U 118577 118576     50\n",
      " 120096 62929        0.5201    15        0.5260        0.5102   825699    3.01%         rho_100 U 120096 120095     51\n",
      "Elapsed time = 42.11 sec. (79461.74 ticks, tree = 25.03 MB, solutions = 3)\n",
      " 121548 63597        0.5252    11        0.5260        0.5102   837811    3.01%          rho_67 D 121548 121546     66\n",
      " 123087 64458        0.5103    26        0.5260        0.5102   848939    3.01%          rho_72 D 123087 123086     63\n",
      " 124385 65253        0.5157    21        0.5260        0.5102   858362    3.01%           rho_5 D 124385 124384     86\n",
      " 125648 66010        0.5209    17        0.5260        0.5102   867761    3.01%          rho_53 D 125648 125647     97\n",
      " 126865 66694        0.5197    15        0.5260        0.5102   876770    3.01%         rho_100 U 126865 126864     56\n",
      " 128120 67324        0.5102    15        0.5260        0.5102   885936    3.01%          rho_51 D 128120 128119     58\n",
      " 129448 68110        0.5162    23        0.5260        0.5102   895058    3.01%           rho_5 D 129448 129447     76\n",
      " 130786 68890        cutoff              0.5260        0.5102   904682    3.01%           rho_0 U 130786 130785     63\n",
      " 132096 69636        0.5113    24        0.5260        0.5102   914116    3.01%          rho_76 D 132096 132095     72\n",
      " 137555 72721        0.5218    17        0.5260        0.5102   954234    3.01%          rho_53 D 137555 137553     95\n",
      "Elapsed time = 48.88 sec. (91865.02 ticks, tree = 31.34 MB, solutions = 3)\n",
      " 142981 75708        0.5182    23        0.5260        0.5102   995224    3.01%           rho_5 D 142981 142980     83\n",
      " 148260 78512        0.5244    12        0.5260        0.5102  1034474    3.01%         rho_106 D 148260 148258     96\n",
      " 153523 81333        0.5245    12        0.5260        0.5102  1074637    3.01%          rho_72 D 153523 153522     54\n",
      " 159182 84492        0.5249    23        0.5260        0.5102  1112907    3.01%        alpha_28 D 159182 159181    106\n",
      " 164853 87726        0.5231    11        0.5260        0.5102  1151743    3.01%           rho_6 D 164853 164851     74\n",
      " 170687 90383        0.5224    16        0.5260        0.5102  1189584    3.01%          rho_58 D 170687 170686     71\n",
      " 177366 93591        cutoff              0.5260        0.5102  1233234    3.01%          rho_63 U 177366 177364     62\n",
      " 183960 96477        0.5229    12        0.5260        0.5102  1275161    3.01%          rho_63 D 183960 183959     72\n",
      " 190793 99516        0.5212    12        0.5260        0.5102  1316472    3.01%           rho_1 D 190793 190792     55\n",
      " 197394 102523        0.5248     8        0.5260        0.5102  1359669    3.01%          rho_30 D 197394 197392     80\n",
      "Elapsed time = 67.19 sec. (130015.01 ticks, tree = 42.01 MB, solutions = 3)\n",
      " 204436 105469        cutoff              0.5260        0.5102  1402986    3.01%          rho_64 U 204436 204435     63\n",
      " 209926 107861        cutoff              0.5260        0.5102  1455604    3.01%          rho_72 U 209926 209925     62\n",
      " 215379 110248        cutoff              0.5260        0.5102  1508502    3.01%          rho_83 U 215379 215378     62\n",
      " 220872 113175        0.5166    17        0.5260        0.5102  1556100    3.01%           rho_6 D 220872 220871     84\n",
      " 225581 115794        0.5178    28        0.5260        0.5102  1595087    3.01%          rho_76 D 225581 225579     81\n",
      " 230286 118336        0.5102    27        0.5260        0.5102  1634867    3.01%         rho_123 D 230286 230285     69\n"
     ]
    },
    {
     "name": "stdout",
     "output_type": "stream",
     "text": [
      " 234725 120602        0.5226    17        0.5260        0.5102  1678471    3.01%         rho_100 U 234725 234724     65\n",
      " 239250 122887        0.5116    25        0.5260        0.5102  1724486    3.01%           rho_4 D 239250 239249     71\n",
      " 244373 125368        cutoff              0.5260        0.5102  1773427    3.01%          rho_52 U 244373 244371     62\n",
      " 250000 127793        0.5177    20        0.5260        0.5102  1824575    3.01%          rho_63 D 250000 249999     63\n",
      "Elapsed time = 85.81 sec. (168167.78 ticks, tree = 51.07 MB, solutions = 3)\n",
      " 255361 129780        cutoff              0.5260        0.5102  1874348    3.01%          rho_83 U 255361 255360     81\n",
      " 260625 131893        0.5102     1        0.5260        0.5102  1925300    3.01%          rho_19 U 260625 260623     59\n",
      " 266185 134747        0.5102    19        0.5260        0.5102  1970771    3.01%          rho_83 D 266185 266184     66\n",
      " 270973 136976        0.5120    24        0.5260        0.5102  2013963    3.01%         rho_100 D 270973 270971     66\n",
      " 276073 139793        0.5194    19        0.5260        0.5102  2055309    3.01%          rho_26 D 276073 276071     85\n",
      " 280780 142394        0.5102     1        0.5260        0.5102  2093511    3.01%          rho_19 D 280780 280778     54\n",
      " 285340 144978        0.5180    23        0.5260        0.5102  2131390    3.01%          rho_33 D 285340 285339     74\n",
      " 289762 147355        0.5219    19        0.5260        0.5102  2171603    3.01%         rho_100 U 289762 289761     55\n",
      " 294028 149624        0.5102     5        0.5260        0.5102  2213531    3.01%          rho_18 U 294028 294025     52\n",
      " 298135 151609        0.5226    17        0.5260        0.5102  2257941    3.01%         rho_100 U 298135 298134     55\n",
      "Elapsed time = 104.55 sec. (206322.29 ticks, tree = 62.58 MB, solutions = 3)\n",
      " 302555 153917        0.5104    26        0.5260        0.5102  2298540    3.01%          rho_72 D 302555 302554     66\n",
      " 307389 156278        0.5210    19        0.5260        0.5102  2344435    3.01%         rho_100 U 307389 307388     49\n",
      " 312709 158799        0.5237    13        0.5260        0.5102  2397037    3.01%          rho_51 D 312709 312707     52\n",
      " 318155 161449        0.5232    13        0.5260        0.5102  2447803    3.01%          rho_83 D 318155 318154     62\n",
      " 323620 164180        0.5195    19        0.5260        0.5102  2498100    3.01%           rho_3 D 323620 323619     90\n",
      " 328425 166954        0.5249    18        0.5260        0.5102  2534460    3.01%          rho_92 D 328425 328424    127\n",
      " 333213 169064        0.5211    21        0.5260        0.5102  2581190    3.01%         rho_100 U 333213 333212     53\n",
      " 338357 172175        0.5102     1        0.5260        0.5102  2618138    3.01%          rho_19 U 338357 338355     68\n",
      " 343110 174912        0.5102    13        0.5260        0.5102  2654316    3.01%          rho_88 D 343110 343109     61\n",
      " 347900 177731        0.5206    19        0.5260        0.5102  2690189    3.01%           rho_2 D 347900 347899     92\n",
      "Elapsed time = 121.97 sec. (244476.91 ticks, tree = 73.65 MB, solutions = 3)\n",
      " 352809 180655        0.5103    30        0.5260        0.5102  2726166    3.01%          rho_83 D 352809 352807     64\n",
      " 357305 183051        0.5245    22        0.5260        0.5102  2766493    3.01%          rho_24 D 357305 357304    115\n",
      " 362000 185282        0.5102     1        0.5260        0.5102  2810120    3.01%          rho_20 U 362000 361998     42\n",
      " 366930 187843        0.5201    21        0.5260        0.5102  2853317    3.01%          rho_66 D 366930 366929     91\n",
      " 371416 190319        0.5223    17        0.5260        0.5102  2892260    3.01%          rho_47 D 371416 371414     88\n",
      " 375828 192719        0.5117    22        0.5260        0.5102  2932030    3.01%          rho_76 D 375828 375827     67\n",
      " 380280 195122        0.5241    17        0.5260        0.5102  2972317    3.01%          rho_98 D 380280 380278    104\n",
      " 384680 197339        0.5216    19        0.5260        0.5102  3013009    3.01%         rho_100 U 384680 384679     58\n",
      "*384800+197386                            0.5260        0.5102             3.01%\n",
      " 389040 199591        0.5253    11        0.5260        0.5102  3056296    3.01%          rho_85 D 389040 389039    109\n",
      "*389200+199654                            0.5260        0.5102             3.01%\n",
      " 393504 201988        0.5102     4        0.5260        0.5102  3095387    3.01%          rho_18 U 393504 393066     60\n",
      "Elapsed time = 139.42 sec. (282636.14 ticks, tree = 84.40 MB, solutions = 5)\n",
      "*394400+202439                            0.5260        0.5102             3.01%\n",
      " 397947 204348        0.5149    20        0.5260        0.5102  3134738    3.01%          rho_67 D 397947 397946     71\n",
      " 402530 206899        cutoff              0.5260        0.5102  3172769    3.01%          rho_88 U 402530 402529     64\n",
      " 407052 209240        0.5251    15        0.5260        0.5102  3211790    3.01%          rho_88 D 407052 407050     69\n",
      " 411639 211721        0.5120    26        0.5260        0.5102  3250924    3.01%          rho_72 D 411639 411638     71\n",
      " 416132 214112        0.5225    24        0.5260        0.5102  3290514    3.01%          rho_27 D 416132 416131     98\n",
      " 420620 216334        0.5102     1        0.5260        0.5102  3333466    3.01%          rho_20 U 420620 420619     42\n",
      "*421800+216820                            0.5260        0.5102             3.01%\n",
      " 425450 218795        0.5102    17        0.5260        0.5102  3375524    3.01%           rho_1 D 425450 425449     65\n",
      " 430165 220747        0.5206    18        0.5260        0.5102  3425247    3.01%           rho_9 D 430165 430163     70\n",
      " 435492 222992        0.5102     1        0.5260        0.5102  3474309    3.01%           rho_0 D 435492 435490     53\n",
      "*436400+223347                            0.5260        0.5102             3.00%\n",
      " 441275 225522        0.5256    11        0.5260        0.5102  3519114    3.00%           rho_5 D 441275 441273     61\n",
      "Elapsed time = 157.19 sec. (320788.86 ticks, tree = 92.83 MB, solutions = 8)\n",
      " 446825 228562        0.5212    17        0.5260        0.5102  3560456    3.00%         rho_105 D 446825 446823     98\n",
      " 451587 231253        0.5102     1        0.5260        0.5102  3597383    3.00%          rho_19 U 451587 451144     62\n",
      " 456383 233574        0.5232    18        0.5260        0.5102  3633709    3.00%          rho_83 U 456383 456382     59\n",
      " 462607 236421        0.5251    17        0.5260        0.5102  3677156    3.00%          rho_64 D 462607 462606     67\n",
      "*467400+238580                            0.5260        0.5102             3.00%\n",
      " 468924 239303        0.5102     1        0.5260        0.5102  3720658    3.00%           rho_0 D 468924 468922     44\n",
      " 475150 242108        0.5222    13        0.5260        0.5102  3764415    3.00%           rho_0 U 475150 475149     45\n",
      " 480738 244939        0.5142    22        0.5260        0.5102  3814282    3.00%          rho_63 D 480738 480737     76\n",
      " 485191 247207        0.5207    15        0.5260        0.5102  3856072    3.00%         rho_100 U 485191 485190     68\n",
      " 490784 250187        0.5132    26        0.5260        0.5102  3900367    3.00%          rho_61 D 490784 490783     80\n",
      " 495300 252586        cutoff              0.5260        0.5102  3940802    3.00%          rho_73 U 495300 495299    104\n",
      "Elapsed time = 174.59 sec. (358941.44 ticks, tree = 104.98 MB, solutions = 9)\n",
      " 499770 255007        0.5257    14        0.5260        0.5102  3981681    3.00%          rho_88 D 499770 499769     53\n",
      " 504216 257316        0.5191    19        0.5260        0.5102  4023371    3.00%           rho_2 D 504216 504215     91\n",
      " 508570 259510        0.5115    24        0.5260        0.5102  4064513    3.00%           rho_0 D 508570 508568     60\n",
      " 513650 261716        0.5154    19        0.5260        0.5102  4114296    3.00%          rho_61 D 513650 513649     76\n",
      " 518917 264144        0.5259    19        0.5260        0.5102  4165469    3.00%        alpha_27 D 518917 518916    114\n",
      " 524021 266476        0.5206    19        0.5260        0.5102  4221323    3.00%         rho_100 U 524021 524020     61\n"
     ]
    },
    {
     "name": "stdout",
     "output_type": "stream",
     "text": [
      " 529027 268654        0.5246    18        0.5260        0.5102  4276223    3.00%          rho_83 U 529027 529026     59\n",
      " 534251 271022        0.5251    17        0.5260        0.5102  4330337    3.00%         rho_123 D 534251 534249     67\n",
      " 539223 273353        cutoff              0.5260        0.5102  4381877    3.00%           rho_0 U 539223 539221     76\n",
      " 543918 275810        0.5156    26        0.5260        0.5102  4428644    3.00%          rho_61 D 543918 543917     79\n",
      "Elapsed time = 192.44 sec. (397099.07 ticks, tree = 116.24 MB, solutions = 9)\n",
      " 548002 277930        0.5227    19        0.5260        0.5102  4473106    3.00%         rho_104 D 548002 548000    104\n",
      " 552167 280038        cutoff              0.5260        0.5102  4517657    3.00%           rho_0 U 552167 552166     52\n",
      " 556956 282537        cutoff              0.5260        0.5102  4561161    3.00%           rho_3 U 556956 556953     83\n",
      " 561023 284687        0.5170    27        0.5260        0.5102  4601552    3.00%           rho_5 D 561023 561021     83\n",
      " 564955 286762        0.5115    28        0.5260        0.5102  4645485    3.00%          rho_83 D 564955 564954     63\n",
      " 569220 289512        0.5231    23        0.5260        0.5102  4682656    3.00%          rho_53 D 569220 569218     97\n",
      " 573026 291580        0.5102    13        0.5260        0.5102  4716816    3.00%          rho_51 D 573026 573025     62\n",
      " 577981 294002        0.5204     1        0.5260        0.5102  4743618    3.00%          rho_17 U 577981 577980     52\n",
      " 585020 297325        0.5102    17        0.5260        0.5102  4779207    3.00%          rho_16 D 585020 585017     49\n",
      " 591003 299898        0.5102     1        0.5260        0.5102  4817320    3.00%           rho_0 D 591003 591001     31\n",
      "Elapsed time = 211.66 sec. (435253.25 ticks, tree = 124.94 MB, solutions = 9)\n",
      "*595140+283965                            0.5249        0.5102             2.80%\n",
      " 595320 284075        0.5156    29        0.5249        0.5102  4860713    2.80%          rho_15 D 595320 595319     42\n",
      " 598530 285491        0.5102    30        0.5249        0.5102  4898408    2.80%         rho_100 D 598530 598528     41\n",
      " 601867 286849        0.5102     1        0.5249        0.5102  4940879    2.80%          rho_19 U 601867 601865     33\n",
      " 605086 288205        cutoff              0.5249        0.5102  4977578    2.80%          rho_72 U 605086 605085     66\n",
      " 608121 289515        0.5160    28        0.5249        0.5102  5017612    2.80%          rho_67 D 608121 608120     67\n",
      " 611173 290830        0.5102    13        0.5249        0.5102  5056424    2.80%           rho_1 U 611173 508877     56\n",
      " 614138 292203        cutoff              0.5249        0.5102  5095843    2.80%          rho_83 U 614138 614137     63\n",
      " 617221 293626        0.5102    16        0.5249        0.5102  5134166    2.80%           rho_1 U 617221 253066     50\n",
      " 620200 295061        0.5233    15        0.5249        0.5102  5173110    2.80%         rho_119 D 620200 620198     77\n",
      " 623084 296252        0.5209    10        0.5249        0.5102  5212338    2.80%           rho_4 D 623084 623082     65\n",
      "Elapsed time = 232.30 sec. (473407.49 ticks, tree = 123.81 MB, solutions = 10)\n",
      " 626134 297566        0.5161    29        0.5249        0.5102  5256192    2.80%          rho_76 D 626134 626133     62\n",
      " 629267 298974        0.5115    19        0.5249        0.5102  5297677    2.80%          rho_72 D 629267 629266     63\n",
      " 632557 300510        cutoff              0.5249        0.5102  5335965    2.80%           rho_9 U 632557 632555     55\n",
      " 635818 302048        0.5144    16        0.5249        0.5102  5376436    2.80%          rho_10 D 635818 635816     60\n",
      " 639104 303588        0.5246    12        0.5249        0.5102  5416352    2.80%         rho_100 U 639104 639103     52\n",
      " 642368 305095        0.5155    27        0.5249        0.5102  5455309    2.80%          rho_43 D 642368 642367     74\n",
      " 645630 306589        cutoff              0.5249        0.5102  5494375    2.80%          rho_67 U 645630 645627     74\n",
      " 648850 308060        0.5193    17        0.5249        0.5102  5532907    2.80%          rho_58 D 648850 648849     72\n",
      " 652112 309607        cutoff              0.5249        0.5102  5572513    2.80%          rho_69 D 652112 652110     88\n",
      " 655345 311128        cutoff              0.5249        0.5102  5611618    2.80%          rho_69 D 655345 655343     77\n",
      "Elapsed time = 253.55 sec. (511558.87 ticks, tree = 129.54 MB, solutions = 10)\n",
      " 658578 312756        0.5248    16        0.5249        0.5102  5652828    2.80%          rho_72 D 658578 658576     59\n",
      " 661634 314094        cutoff              0.5249        0.5102  5692563    2.80%         rho_119 U 661634 661633     76\n",
      " 664789 315390        0.5207    18        0.5249        0.5102  5728216    2.80%           rho_4 D 664789 664787     81\n",
      " 667900 316639        0.5208    17        0.5249        0.5102  5763664    2.80%           rho_2 D 667900 667899     72\n",
      " 670948 317914        0.5210    17        0.5249        0.5102  5800192    2.80%          rho_97 D 670948 670947     81\n",
      " 674000 319231        0.5228    15        0.5249        0.5102  5838333    2.80%          rho_88 D 674000 673999     53\n",
      " 676933 320568        0.5112    20        0.5249        0.5102  5878275    2.80%           rho_0 D 676933 676931     52\n",
      " 679760 321796        0.5240    18        0.5249        0.5102  5915811    2.80%         rho_123 D 679760 679759     60\n",
      " 682700 323109        0.5102    16        0.5249        0.5102  5952405    2.80%           rho_1 U 682700 204521     50\n",
      " 685709 324501        cutoff              0.5249        0.5102  5992705    2.80%           rho_0 U 685709 685708     50\n",
      "Elapsed time = 277.44 sec. (549725.32 ticks, tree = 134.72 MB, solutions = 10)\n",
      " 688765 325923        cutoff              0.5249        0.5102  6032301    2.80%          rho_25 D 688765 688763     67\n",
      " 691589 327085        0.5219    14        0.5249        0.5102  6069987    2.80%           rho_4 D 691589 691588     70\n",
      " 694452 328439        0.5185    19        0.5249        0.5102  6109322    2.80%          rho_63 D 694452 694451     63\n",
      " 697397 329845        cutoff              0.5249        0.5102  6148872    2.80%          rho_52 U 697397 697396     57\n",
      " 700354 331242        0.5104    26        0.5249        0.5102  6187120    2.80%           rho_0 D 700354 700352     57\n",
      " 703270 332606        0.5173    19        0.5249        0.5102  6225744    2.80%           rho_9 D 703270 703268     62\n",
      " 706186 333912        cutoff              0.5249        0.5102  6261968    2.80%           rho_0 U 706186 706185     44\n",
      " 709000 335182        0.5154    27        0.5249        0.5102  6299173    2.80%           rho_9 D 709000 708997     53\n",
      " 711971 336463        0.5246    11        0.5249        0.5102  6336657    2.80%         rho_100 U 711971 711970     39\n",
      " 714972 337778        0.5102     4        0.5249        0.5102  6373860    2.80%          rho_19 U 714972 714735     40\n",
      "Elapsed time = 299.08 sec. (587884.19 ticks, tree = 143.39 MB, solutions = 10)\n",
      "\n",
      "Gomory fractional cuts applied:  1\n",
      "User cuts applied:  491\n",
      "\n",
      "Root node processing (before b&c):\n",
      "  Real time             =    0.27 sec. (9.17 ticks)\n",
      "Sequential b&c:\n",
      "  Real time             =  299.75 sec. (590291.17 ticks)\n",
      "                          ------------\n",
      "Total (root+branch&cut) =  300.02 sec. (590300.35 ticks)\n",
      "+----------------------------------------------+------------------+-----------+\n",
      "| Pr(Y = +1) = 1.0/(1.0 + exp(-(-5 + score))   |                  |           |\n",
      "| ============================================ | ================ | ========= |\n",
      "| age_at_current_charge<=66                    |         2 points |   + ..... |\n",
      "| age_at_current_charge<=57                    |         1 points |   + ..... |\n",
      "| p_arrest>=2                                  |         1 points |   + ..... |\n",
      "| p_arrest>=3                                  |         1 points |   + ..... |\n",
      "| p_arrest>=7                                  |         1 points |   + ..... |\n",
      "| ============================================ | ================ | ========= |\n",
      "| ADD POINTS FROM ROWS 1 to 5                  |            SCORE |   = ..... |\n",
      "+----------------------------------------------+------------------+-----------+\n"
     ]
    },
    {
     "data": {
      "text/plain": [
       "<prettytable.PrettyTable at 0x1d888e0b048>"
      ]
     },
     "execution_count": 13,
     "metadata": {},
     "output_type": "execute_result"
    }
   ],
   "source": [
    "model_info, mip_info, lcpa_info = risk_slim(data, max_coefficient=5, max_L0_value=10, c0_value=1e-5, max_runtime=300)\n",
    "\n",
    "#model info contains key results\n",
    "print_model(model_info['solution'], data)"
   ]
  },
  {
   "cell_type": "code",
   "execution_count": 14,
   "metadata": {
    "hideCode": false,
    "hidePrompt": false
   },
   "outputs": [
    {
     "data": {
      "text/plain": [
       "0.7067039412236545"
      ]
     },
     "execution_count": 14,
     "metadata": {},
     "output_type": "execute_result"
    }
   ],
   "source": [
    "train_prob = riskslim_prediction(x_train, cols, model_info)\n",
    "train_fpr, train_tpr, train_thresholds = roc_curve(y_train, train_prob)\n",
    "holdout_train_auc = auc(train_fpr, train_tpr)\n",
    "holdout_train_auc"
   ]
  },
  {
   "cell_type": "code",
   "execution_count": 15,
   "metadata": {
    "hideCode": false,
    "hidePrompt": false
   },
   "outputs": [
    {
     "data": {
      "text/plain": [
       "0.7034673163896548"
      ]
     },
     "execution_count": 15,
     "metadata": {},
     "output_type": "execute_result"
    }
   ],
   "source": [
    "test_prob = riskslim_prediction(x_test, cols, model_info)\n",
    "test_fpr, test_tpr, test_thresholds = roc_curve(y_test, test_prob)\n",
    "holdout_test_auc = auc(test_fpr, test_tpr)\n",
    "holdout_test_auc"
   ]
  },
  {
   "cell_type": "markdown",
   "metadata": {
    "hideCode": false,
    "hidePrompt": false
   },
   "source": [
    " "
   ]
  },
  {
   "cell_type": "markdown",
   "metadata": {
    "hideCode": false,
    "hidePrompt": false
   },
   "source": [
    " "
   ]
  },
  {
   "cell_type": "markdown",
   "metadata": {
    "hideCode": false,
    "hidePrompt": false
   },
   "source": [
    "#### Compare with Logistic Regression"
   ]
  },
  {
   "cell_type": "code",
   "execution_count": 16,
   "metadata": {
    "hideCode": false,
    "hidePrompt": false
   },
   "outputs": [],
   "source": [
    "from sklearn.linear_model import LogisticRegression\n",
    "from sklearn.model_selection import KFold, GridSearchCV, cross_validate"
   ]
  },
  {
   "cell_type": "code",
   "execution_count": 17,
   "metadata": {},
   "outputs": [],
   "source": [
    "## cross validation set up\n",
    "inner_cv = KFold(n_splits=5,shuffle=True,random_state=816)\n",
    "outer_cv = KFold(n_splits=5,shuffle=True,random_state=816)\n",
    "   \n",
    "### model & parameters\n",
    "lr = LogisticRegression(class_weight = 'balanced', solver='liblinear', random_state=816)\n",
    "c_grid = {\"C\": [1e-4, 1e-3, 1e-2, 0.1,1]}"
   ]
  },
  {
   "cell_type": "code",
   "execution_count": null,
   "metadata": {},
   "outputs": [],
   "source": [
    "### nested cross validation\n",
    "clf = GridSearchCV(estimator=lr, param_grid=c_grid, scoring='roc_auc',cv=inner_cv, return_train_score=True)\n",
    "nested_score = cross_validate(clf, X=x_train, y=y_train, scoring='roc_auc', cv=outer_cv, return_train_score=True)\n",
    "train_score, test_score = nested_score['train_score'], nested_score['test_score']\n",
    "np.mean(train_score) - np.mean(test_score), np.mean(test_score)"
   ]
  },
  {
   "cell_type": "markdown",
   "metadata": {
    "hideCode": false,
    "hidePrompt": false
   },
   "source": [
    " "
   ]
  },
  {
   "cell_type": "markdown",
   "metadata": {
    "hideCode": false,
    "hidePrompt": false
   },
   "source": [
    " "
   ]
  },
  {
   "cell_type": "markdown",
   "metadata": {
    "hideCode": false,
    "hidePrompt": false
   },
   "source": [
    " "
   ]
  },
  {
   "cell_type": "markdown",
   "metadata": {
    "hideCode": false,
    "hidePrompt": false
   },
   "source": [
    " "
   ]
  },
  {
   "cell_type": "markdown",
   "metadata": {
    "hideCode": false,
    "hidePrompt": false
   },
   "source": [
    " "
   ]
  },
  {
   "cell_type": "markdown",
   "metadata": {
    "hideCode": false,
    "hidePrompt": false
   },
   "source": [
    "### Cross Validation"
   ]
  },
  {
   "cell_type": "code",
   "execution_count": 38,
   "metadata": {
    "hideCode": false,
    "hidePrompt": false
   },
   "outputs": [
    {
     "name": "stderr",
     "output_type": "stream",
     "text": [
      "c:\\users\\binha\\risk-slim\\riskslim\\helper_functions.py:215: FutureWarning: Method .as_matrix will be removed in a future version. Use .values instead.\n",
      "  raw_data = df.as_matrix()\n"
     ]
    }
   ],
   "source": [
    "# data path\n",
    "data_name = \"new_train.csv\"          \n",
    "data_csv_file = os.getcwd() + '/' + data_name \n",
    "sample_weights_csv_file = None \n",
    "\n",
    "# load data\n",
    "data = load_data_from_csv(dataset_csv_file = data_csv_file, sample_weights_csv_file = sample_weights_csv_file)\n",
    "X, Y = data['X'], data['Y']\n",
    "variable_names = data['variable_names']\n",
    "outcome_name = data['outcome_name']\n",
    "sample_weights = data['sample_weights']"
   ]
  },
  {
   "cell_type": "code",
   "execution_count": 39,
   "metadata": {
    "hideCode": false,
    "hidePrompt": false,
    "scrolled": true
   },
   "outputs": [
    {
     "name": "stdout",
     "output_type": "stream",
     "text": [
      "setting c0 = 0.0 to ensure that intercept is not penalized\n",
      "07/15/19 @ 10:24 PM | switching loss computation from normal to lookup\n",
      "07/15/19 @ 10:24 PM | 1631 rows in lookup table\n",
      "07/15/19 @ 10:24 PM | ------------------------------------------------------------\n",
      "07/15/19 @ 10:24 PM | runnning initialization procedure\n",
      "07/15/19 @ 10:24 PM | ------------------------------------------------------------\n",
      "07/15/19 @ 10:24 PM | CPA produced 2 cuts\n",
      "07/15/19 @ 10:24 PM | running naive rounding on 1 solutions\n",
      "07/15/19 @ 10:24 PM | best objective value: 0.7672\n",
      "07/15/19 @ 10:24 PM | rounding produced 1 integer solutions\n",
      "07/15/19 @ 10:24 PM | best objective value is 0.7542\n",
      "07/15/19 @ 10:24 PM | running sequential rounding on 1 solutions\n",
      "07/15/19 @ 10:24 PM | best objective value: 0.7672\n",
      "07/15/19 @ 10:24 PM | sequential rounding produced 1 integer solutions\n",
      "07/15/19 @ 10:24 PM | best objective value: 0.7542\n",
      "07/15/19 @ 10:24 PM | polishing 2 solutions\n",
      "07/15/19 @ 10:24 PM | best objective value: 0.7542\n",
      "07/15/19 @ 10:24 PM | initialization produced 1 feasible solutions\n",
      "07/15/19 @ 10:24 PM | best objective value: 0.7542\n",
      "07/15/19 @ 10:24 PM | ------------------------------------------------------------\n",
      "07/15/19 @ 10:24 PM | completed initialization procedure\n",
      "07/15/19 @ 10:24 PM | ------------------------------------------------------------\n",
      "07/15/19 @ 10:24 PM | switching loss computation from normal to lookup\n",
      "07/15/19 @ 10:24 PM | 1631 rows in lookup table\n",
      "CPXPARAM_Read_DataCheck                          1\n",
      "CPXPARAM_Threads                                 1\n",
      "CPXPARAM_Parallel                                1\n",
      "CPXPARAM_RandomSeed                              0\n",
      "CPXPARAM_TimeLimit                               200\n",
      "CPXPARAM_MIP_Tolerances_LowerCutoff              0.52099940686757418\n",
      "CPXPARAM_MIP_Tolerances_UpperCutoff              0.75421671368776566\n"
     ]
    },
    {
     "name": "stderr",
     "output_type": "stream",
     "text": [
      "Warning: Control callbacks may disable some MIP features.\n"
     ]
    },
    {
     "name": "stdout",
     "output_type": "stream",
     "text": [
      "Lazy constraint(s) or lazy constraint callback is present.\n",
      "    Disabling dual reductions (CPX_PARAM_REDUCE) in presolve.\n",
      "    Disabling non-linear reductions (CPX_PARAM_PRELINEAR) in presolve.\n",
      "         Disabling repeat represolve because of lazy constraint/incumbent callback.\n",
      "07/15/19 @ 10:24 PM | adding 383 initial cuts\n",
      "1 of 1 MIP starts provided solutions.\n",
      "MIP start 'mip_start_0' defined initial solution with objective 0.7542.\n",
      "Tried aggregator 1 time.\n",
      "MIP Presolve eliminated 1 rows and 2 columns.\n",
      "MIP Presolve modified 155 coefficients.\n",
      "Reduced MIP has 156 rows, 312 columns, and 465 nonzeros.\n",
      "Reduced MIP has 155 binaries, 156 generals, 0 SOSs, and 0 indicators.\n",
      "Presolve time = 0.02 sec. (0.39 ticks)\n",
      "Probing time = 0.00 sec. (0.03 ticks)\n",
      "MIP emphasis: balance optimality and feasibility.\n",
      "MIP search method: traditional branch-and-cut.\n",
      "Parallel mode: none, using 1 thread.\n",
      "Root relaxation solution time = 0.00 sec. (0.18 ticks)\n",
      "\n",
      "        Nodes                                         Cuts/\n",
      "   Node  Left     Objective  IInf  Best Integer    Best Bound    ItCnt     Gap         Variable B NodeID Parent  Depth\n",
      "\n",
      "*     0+    0                            0.7542        0.5205            30.99%\n",
      "      0     0        0.5210     1        0.7542        0.5210        1   30.92%\n",
      "*     0+    0                            0.7051        0.5210            26.11%\n",
      "*     0+    0                            0.6026        0.5210            13.54%\n",
      "*     0+    0                            0.6020        0.5210            13.46%\n",
      "      0     2        0.5210     4        0.6020        0.5210        1   13.46%                        0             0\n",
      "Elapsed time = 0.48 sec. (8.75 ticks, tree = 0.01 MB, solutions = 4)\n",
      "*    10+   10                            0.5942        0.5210            12.32%\n",
      "*    40+   34                            0.5750        0.5210             9.39%\n",
      "*   110    96      integral     0        0.5714        0.5210      414    8.82%\n",
      "*   112    95      integral     0        0.5714        0.5210      417    8.82%\n",
      "    587   490        0.5693     4        0.5714        0.5210     2735    8.82%        alpha_75 D    587    586    115\n",
      "*   600+  498                            0.5708        0.5210             8.72%\n",
      "*   610+  500                            0.5702        0.5210             8.64%\n",
      "*   640+  457                            0.5622        0.5210             7.32%\n",
      "*   760+  554                            0.5612        0.5210             7.16%\n",
      "    998   739        0.5210     9        0.5612        0.5210     4873    7.16%         rho_111 D    998    996     36\n",
      "*  1110+  820                            0.5604        0.5210             7.04%\n",
      "*  1130+  833                            0.5599        0.5210             6.95%\n",
      "   1398  1072        0.5489     1        0.5599        0.5210     7111    6.95%          rho_88 D   1398   1397     66\n",
      "*  1400+ 1070                            0.5598        0.5210             6.94%\n",
      "   1689  1309        0.5210     9        0.5598        0.5210     9466    6.94%           rho_0 U   1689   1687     34\n",
      "*  1860+ 1430                            0.5577        0.5210             6.58%\n",
      "*  1900+ 1441                            0.5561        0.5210             6.32%\n",
      "*  1920+ 1461                            0.5561        0.5210             6.31%\n",
      "   1960  1497        0.5561     1        0.5561        0.5210    10842    6.31%         rho_131 D   1960   1959    161\n",
      "   2210  1684        0.5227    25        0.5561        0.5210    12814    6.31%           rho_0 U   2210   2209     20\n",
      "*  2310+ 1739                            0.5553        0.5210             6.18%\n",
      "   2480  1875        0.5414     3        0.5553        0.5210    14460    6.18%           rho_4 D   2480   2479     32\n",
      "   2720  2024        0.5542     5        0.5553        0.5210    16103    6.18%         alpha_2 D   2720   2718     14\n",
      "*  2750+ 1973                            0.5541        0.5210             5.97%\n",
      "*  2770+ 1967                            0.5530        0.5210             5.79%\n",
      "   2920  2098        0.5348     0        0.5530        0.5210    17241    5.79%         rho_109 D   2920   2919     31\n",
      "   3985  2933        0.5210     8        0.5530        0.5210    23557    5.79%           rho_6 D   3985   3984     39\n",
      "Elapsed time = 11.06 sec. (3121.37 ticks, tree = 1.32 MB, solutions = 21)\n",
      "*  4390+ 2956                            0.5461        0.5210             4.60%\n",
      "   4902  3295        0.5247    11        0.5461        0.5210    29528    4.60%           rho_0 U   4902   4901     26\n",
      "   5649  3820        cutoff              0.5461        0.5210    35733    4.60%          rho_12 U   5649   5648     17\n",
      "   6529  4445        0.5284     8        0.5461        0.5210    41988    4.60%           rho_0 U   6529   6528     33\n",
      "   7419  5033        cutoff              0.5461        0.5210    48702    4.60%           rho_0 U   7419   7418     33\n",
      "   8203  5498        0.5355    10        0.5461        0.5210    55043    4.60%          rho_36 D   8203   8201     57\n",
      "   9000  5802        0.5441    12        0.5461        0.5210    60316    4.60%          rho_98 D   9000   8999     61\n",
      "   9678  6093        0.5365    27        0.5461        0.5210    65507    4.60%         rho_106 D   9678    453     29\n",
      "  10370  6460        0.5210    11        0.5461        0.5210    71074    4.60%          rho_16 D  10370  10369     25\n",
      "  11200  7067        0.5230    14        0.5461        0.5210    77419    4.60%          rho_17 U  11200  11198     18\n",
      "  11931  7484        0.5364    15        0.5461        0.5210    82207    4.60%          rho_45 D  11931  11930     34\n",
      "Elapsed time = 21.47 sec. (12676.71 ticks, tree = 3.43 MB, solutions = 22)\n",
      "  12691  8008        cutoff              0.5461        0.5210    87469    4.60%          rho_35 U  12691  12690     25\n",
      "  13519  8642        cutoff              0.5461        0.5210    93119    4.60%          rho_76 D  13519  13518     47\n",
      "  14329  9269        0.5409     5        0.5461        0.5210    98808    4.60%        alpha_52 D  14329  14328    157\n",
      "  15000  9757        0.5210     7        0.5461        0.5210   103666    4.60%          rho_40 D  15000  14730     46\n",
      "  15678 10277        cutoff              0.5461        0.5210   108699    4.60%          rho_91 D  15678  15677     47\n",
      "  16262 10663        0.5278    15        0.5461        0.5210   113858    4.60%          rho_22 D  16262  16261     41\n",
      "  16813 11021        0.5325    11        0.5461        0.5210   119113    4.60%         rho_106 U  16813  16811     49\n",
      "  17387 11407        0.5319    11        0.5461        0.5210   123933    4.60%           rho_0 U  17387  17386     34\n",
      "  17936 11769        0.5455     8        0.5461        0.5210   128792    4.60%        alpha_89 D  17936  17935     43\n",
      "  18484 12145        0.5264     1        0.5461        0.5210   133285    4.60%           rho_0 D  18484  18483     56\n",
      "Elapsed time = 31.05 sec. (22228.00 ticks, tree = 5.83 MB, solutions = 22)\n",
      "  18969 12439        0.5394     9        0.5461        0.5210   138338    4.60%          rho_26 D  18969  18966     34\n",
      "  19511 12760        0.5458     6        0.5461        0.5210   142595    4.60%          rho_73 U  19511  19510     80\n",
      "  20029 13110        0.5441     1        0.5461        0.5210   146351    4.60%         alpha_4 D  20029  20028    152\n",
      "* 20040+12468                            0.5445        0.5210             4.32%\n",
      "* 20048 11869      integral     0        0.5430        0.5210   146421    4.05%\n",
      "* 20050 11842      integral     0        0.5430        0.5210   146424    4.04%\n",
      "* 20150+11832                            0.5428        0.5210             4.02%\n",
      "  20404 11965        0.5353     6        0.5428        0.5210   149594    4.02%           rho_0 U  20404  20403     38\n",
      "* 20800+12044                            0.5425        0.5210             3.97%\n",
      "  20816 12054        0.5345    13        0.5425        0.5210   153915    3.97%          rho_26 U  20816  13608     32\n",
      "  21239 12281        0.5383    14        0.5425        0.5210   158250    3.97%          rho_27 D  21239  21238     31\n",
      "  21720 12554        0.5210    14        0.5425        0.5210   162398    3.97%          rho_26 D  21720  21669     40\n",
      "  22134 12778        0.5405    15        0.5425        0.5210   167083    3.97%          rho_39 D  22134  22132     40\n",
      "  22624 13089        cutoff              0.5425        0.5210   171545    3.97%          rho_14 U  22624  22623     41\n",
      "  23066 13327        cutoff              0.5425        0.5210   176227    3.97%         rho_106 U  23066  23065     39\n",
      "Elapsed time = 38.19 sec. (31784.77 ticks, tree = 6.39 MB, solutions = 27)\n",
      "* 23449 13406      integral     0        0.5422        0.5210   179922    3.90%\n",
      "  23550 13475        0.5290    14        0.5422        0.5210   180709    3.90%           rho_2 D  23550  23549     51\n",
      "* 23600+12784                            0.5408        0.5210             3.67%\n",
      "  23936 13015        0.5242    14        0.5408        0.5210   183665    3.67%          rho_15 U  23936  23892     19\n",
      "  24418 13345        0.5235    14        0.5408        0.5210   186621    3.67%          rho_24 U  24418  24417     30\n",
      "  24920 13702        0.5384     0        0.5408        0.5210   190528    3.67%          rho_35 D  24920  24919     71\n",
      "  25365 13919        cutoff              0.5408        0.5210   194636    3.67%         rho_142 D  25365  25363     64\n",
      "  25912 14318        0.5379    14        0.5408        0.5210   199028    3.67%          rho_77 U  25912  25911     40\n",
      "  26440 14642        0.5224    10        0.5408        0.5210   202873    3.67%          rho_98 U  26440  26439     75\n",
      "  26862 14881        0.5404    12        0.5408        0.5210   207487    3.67%          rho_40 D  26862  26860     53\n",
      "  27259 15104        cutoff              0.5408        0.5210   212300    3.67%          rho_77 U  27259  27256     62\n",
      "* 27600+14015                            0.5387        0.5210             3.29%\n",
      "  27754 14106        0.5326    14        0.5387        0.5210   216866    3.29%           rho_0 U  27754  27753     44\n",
      "Elapsed time = 44.98 sec. (41336.56 ticks, tree = 6.78 MB, solutions = 30)\n",
      "  28137 14313        0.5368     5        0.5387        0.5210   221649    3.29%           rho_0 U  28137  28136     54\n",
      "  28583 14587        0.5387    15        0.5387        0.5210   225981    3.29%          rho_35 D  28583  28581     63\n",
      "  29012 14833        cutoff              0.5387        0.5210   230120    3.29%          rho_12 U  29012  29011     56\n",
      "  29425 15067        0.5381    31        0.5387        0.5210   234715    3.29%         rho_106 D  29425  29423     49\n",
      "  29889 15374        0.5327    11        0.5387        0.5210   239565    3.29%          rho_82 D  29889  29887     91\n",
      "  30279 15580        0.5339     9        0.5387        0.5210   244140    3.29%           rho_0 U  30279  30278     49\n",
      "  30691 15815        0.5328    11        0.5387        0.5210   248833    3.29%          rho_35 D  30691  30690     80\n",
      "  31090 16062        cutoff              0.5387        0.5210   253941    3.29%          rho_85 U  31090  31089     77\n",
      "  31447 16285        cutoff              0.5387        0.5210   258435    3.29%          rho_70 U  31447  31446    104\n",
      "  31867 16490        0.5236    22        0.5387        0.5210   262478    3.29%           rho_2 D  31867  31865     73\n",
      "Elapsed time = 50.14 sec. (50888.69 ticks, tree = 8.59 MB, solutions = 30)\n",
      "  32298 16729        cutoff              0.5387        0.5210   266705    3.29%          rho_58 U  32298  32296     73\n",
      "  32700 16917        0.5210    13        0.5387        0.5210   270295    3.29%          rho_11 D  32700  32699     61\n",
      "  33127 17169        cutoff              0.5387        0.5210   274887    3.29%          rho_81 U  33127  33125    103\n",
      "  33592 17450        0.5210    10        0.5387        0.5210   279085    3.29%           rho_0 D  33592  33590     67\n",
      "  34037 17688        cutoff              0.5387        0.5210   282838    3.29%           rho_0 U  34037  34036     67\n",
      "  34404 17861        0.5375    29        0.5387        0.5210   286586    3.29%         rho_106 D  34404  34402     48\n",
      "  34898 18143        0.5274    17        0.5387        0.5210   290138    3.29%          rho_12 U  34898  34897     64\n",
      "  35345 18397        cutoff              0.5387        0.5210   294597    3.29%           rho_0 U  35345  35344     78\n",
      "  35793 18667        cutoff              0.5387        0.5210   298837    3.29%          rho_34 U  35793  35791     80\n",
      "  36252 18931        0.5210     4        0.5387        0.5210   302751    3.29%           rho_0 D  36252  36248     58\n",
      "Elapsed time = 55.00 sec. (60444.72 ticks, tree = 9.76 MB, solutions = 30)\n",
      "  36590 19122        0.5381    14        0.5387        0.5210   307108    3.29%          rho_77 D  36590  36587     78\n",
      "  36969 19351        0.5366    19        0.5387        0.5210   311223    3.29%          rho_14 D  36969  36967     69\n",
      "  37410 19602        0.5373    17        0.5387        0.5210   315355    3.29%          rho_69 U  37410  37409     43\n",
      "  37862 19879        cutoff              0.5387        0.5210   319934    3.29%          rho_45 U  37862  37860     49\n",
      "  38306 20155        0.5320    11        0.5387        0.5210   324610    3.29%           rho_0 U  38306  38305     42\n",
      "  38824 20495        cutoff              0.5387        0.5210   329240    3.29%          rho_88 U  38824  38823     88\n",
      "  39287 20784        0.5385    16        0.5387        0.5210   333855    3.29%          rho_77 D  39287  39286     43\n",
      "  39750 21095        0.5339     8        0.5387        0.5210   338351    3.29%           rho_3 D  39750  39749     71\n",
      "  40234 21373        cutoff              0.5387        0.5210   341686    3.29%        alpha_89 U  40234  40232     53\n",
      "  40956 21969        0.5383    16        0.5387        0.5210   346149    3.29%           rho_0 U  40956  40955     27\n",
      "Elapsed time = 60.81 sec. (69998.11 ticks, tree = 11.20 MB, solutions = 30)\n",
      "  41507 22385        0.5241    22        0.5387        0.5210   350982    3.29%          rho_22 D  41507  41505     47\n",
      "  42128 22872        0.5230    17        0.5387        0.5210   355727    3.29%           rho_0 D  42128  42127     50\n",
      "  42526 23105        0.5210    12        0.5387        0.5210   360259    3.29%           rho_0 D  42526  42524     40\n",
      "  42893 23335        cutoff              0.5387        0.5210   365627    3.29%          rho_12 U  42893  42892     66\n",
      "  43390 23686        0.5210     1        0.5387        0.5210   370599    3.29%          rho_24 U  43390  43388     49\n",
      "  43834 23926        0.5211    16        0.5387        0.5210   374670    3.29%         rho_137 D  43834  43833     69\n",
      "  44314 24229        cutoff              0.5387        0.5210   378704    3.29%          rho_13 U  44314  44313     77\n",
      "  44725 24433        0.5352    22        0.5387        0.5210   382337    3.29%          rho_18 D  44725  44724     58\n",
      "  45233 24787        0.5210     4        0.5387        0.5210   386595    3.29%           rho_0 D  45233  45231     48\n",
      "  45683 25090        0.5211    26        0.5387        0.5210   390931    3.29%          rho_31 U  45683  45682     57\n",
      "Elapsed time = 66.23 sec. (79554.96 ticks, tree = 12.69 MB, solutions = 30)\n",
      "  46119 25332        0.5243    19        0.5387        0.5210   394909    3.29%          rho_85 D  46119  46118     68\n",
      "  46490 25515        0.5210     7        0.5387        0.5210   398637    3.29%          rho_21 D  46490  46489     49\n",
      "  46943 25778        cutoff              0.5387        0.5210   402481    3.29%           rho_0 U  46943  46942     56\n",
      "  47340 25985        0.5255    18        0.5387        0.5210   406392    3.29%          rho_60 D  47340  47338     73\n",
      "  47743 26177        0.5373    14        0.5387        0.5210   410234    3.29%          rho_89 D  47743  47742     66\n",
      "  48092 26342        0.5215    17        0.5387        0.5210   413994    3.29%         rho_138 D  48092  48091     63\n",
      "  48487 26559        0.5239    21        0.5387        0.5210   417605    3.29%          rho_12 D  48487  48486     74\n",
      "  48859 26743        0.5214    23        0.5387        0.5210   421423    3.29%         rho_137 D  48859  48858     65\n",
      "  49249 26943        0.5252    19        0.5387        0.5210   425340    3.29%         rho_135 D  49249  49247     84\n",
      "  50951 27903        0.5358    22        0.5387        0.5210   440773    3.29%         rho_102 D  50951  50950     59\n"
     ]
    },
    {
     "name": "stdout",
     "output_type": "stream",
     "text": [
      "Elapsed time = 72.53 sec. (91971.16 ticks, tree = 14.06 MB, solutions = 30)\n",
      "  52534 28722        0.5252    18        0.5387        0.5210   456103    3.29%          rho_13 D  52534  52532     84\n",
      "  54010 29476        0.5210     9        0.5387        0.5210   471472    3.29%          rho_23 D  54010  54009     47\n",
      "  55430 30144        0.5210    23        0.5387        0.5210   487676    3.29%          rho_31 U  55430  55429     49\n",
      "  56920 30802        0.5347     1        0.5387        0.5210   502368    3.29%          rho_58 U  56920  56917     64\n",
      "  58400 31422        0.5210    31        0.5387        0.5210   518842    3.29%           rho_0 D  58400  58398     58\n",
      "  59950 32120        0.5215    22        0.5387        0.5210   534951    3.29%          rho_98 D  59950  59949     63\n",
      "  61560 32934        cutoff              0.5387        0.5210   551380    3.29%           rho_6 U  61560  61559     86\n",
      "  63080 33784        0.5365     6        0.5387        0.5210   569932    3.29%          rho_81 D  63080  63079     50\n",
      "  64624 34743        0.5279    18        0.5387        0.5210   587865    3.29%          rho_12 U  64624  64623     51\n",
      "  66435 35915        0.5284    22        0.5387        0.5210   604583    3.29%          rho_44 D  66435  66434     76\n",
      "Elapsed time = 97.58 sec. (130187.30 ticks, tree = 19.35 MB, solutions = 30)\n",
      "  67994 36873        cutoff              0.5387        0.5210   621812    3.29%          rho_13 U  67994  67993     46\n",
      "  69619 37903        0.5210     4        0.5387        0.5210   635674    3.29%           rho_0 D  69619  69613     39\n",
      "  71166 38897        0.5261    17        0.5387        0.5210   652180    3.29%           rho_4 D  71166  71165     61\n",
      "  72760 39892        0.5345    15        0.5387        0.5210   668563    3.29%           rho_5 U  72760  72759     64\n",
      "  74400 40940        0.5216    15        0.5387        0.5210   683912    3.29%         rho_136 D  74400  74399     65\n",
      "  75839 41767        0.5210    25        0.5387        0.5210   699739    3.29%          rho_27 D  75839  75838     44\n",
      "  77214 42555        0.5339     8        0.5387        0.5210   715395    3.29%          rho_44 D  77214  77213     76\n",
      "  78711 43450        0.5309    12        0.5387        0.5210   730039    3.29%           rho_0 U  78711  78710     36\n",
      "  80110 44171        cutoff              0.5387        0.5210   744323    3.29%          rho_45 D  80110  80109     48\n",
      "  81609 45027        0.5357     9        0.5387        0.5210   758609    3.29%          rho_37 U  81609  81608     52\n",
      "Elapsed time = 118.75 sec. (168352.86 ticks, tree = 23.84 MB, solutions = 30)\n",
      "  83191 45852        0.5210     9        0.5387        0.5210   771495    3.29%         rho_102 D  83191  83190     52\n",
      "  84741 46756        0.5210     8        0.5387        0.5210   786477    3.29%          rho_31 U  84741  84740     59\n",
      "  86481 47858        0.5382    26        0.5387        0.5210   802228    3.29%          rho_69 D  86481  86479     69\n",
      "  88187 48914        0.5372     6        0.5387        0.5210   818209    3.29%          rho_94 D  88187  88186    105\n",
      "  89927 50050        0.5333    10        0.5387        0.5210   834552    3.29%           rho_0 U  89927  89926     53\n",
      "  91606 51095        0.5386    18        0.5387        0.5210   849746    3.29%           rho_6 U  91606  91605     97\n",
      "  93350 52185        0.5210     9        0.5387        0.5210   864707    3.29%           rho_0 D  93350  93348     65\n",
      "  94934 53099        0.5210     4        0.5387        0.5210   879268    3.29%           rho_0 D  94934  94932     46\n",
      "  96734 54304        0.5379    14        0.5387        0.5210   895085    3.29%           rho_6 U  96734  96733     96\n",
      "  98190 55224        0.5210     7        0.5387        0.5210   910028    3.29%          rho_23 D  98190  94943     52\n",
      "Elapsed time = 138.26 sec. (206528.33 ticks, tree = 28.92 MB, solutions = 30)\n",
      "  99620 56161        0.5210    15        0.5387        0.5210   924629    3.29%          rho_15 D  99620  99619     71\n",
      " 101089 57107        0.5213    30        0.5387        0.5210   938702    3.29%          rho_69 U 101089 101088     67\n",
      " 102459 57997        0.5356    22        0.5387        0.5210   953630    3.29%           rho_5 D 102459 102457     99\n",
      " 103727 58745        0.5210     6        0.5387        0.5210   967641    3.29%          rho_20 U 103727 103262     57\n",
      " 104891 59401        0.5239    22        0.5387        0.5210   981373    3.29%         rho_138 U 104891 104888     61\n",
      " 106269 60219        0.5384    13        0.5387        0.5210   995551    3.29%          rho_45 D 106269 106268     99\n",
      " 107519 60901        cutoff              0.5387        0.5210  1008958    3.29%           rho_6 U 107519 107518     96\n",
      " 108878 61745        cutoff              0.5387        0.5210  1023045    3.29%           rho_6 U 108878 108877     83\n",
      " 110460 62804        0.5210     1        0.5387        0.5210  1038574    3.29%          rho_23 U 110460 110409     54\n",
      " 112056 63777        cutoff              0.5387        0.5210  1054366    3.29%          rho_61 U 112056 112055     99\n",
      "Elapsed time = 156.14 sec. (244709.28 ticks, tree = 33.20 MB, solutions = 30)\n",
      " 113321 64414        cutoff              0.5387        0.5210  1068719    3.29%           rho_0 U 113321 113320     62\n",
      " 114787 65309        0.5210    30        0.5387        0.5210  1083847    3.29%          rho_85 D 114787 114786     69\n",
      " 116218 66126        0.5212    28        0.5387        0.5210  1098190    3.29%          rho_58 D 116218 116217     60\n",
      " 117550 66887        0.5219    24        0.5387        0.5210  1113312    3.29%          rho_77 D 117550 117549     65\n",
      " 118901 67688        0.5328    20        0.5387        0.5210  1129126    3.29%          rho_34 D 118901 118899     90\n",
      " 120300 68420        0.5215    34        0.5387        0.5210  1144159    3.29%          rho_15 D 120300 120299     65\n",
      " 121709 69188        0.5330    22        0.5387        0.5210  1158792    3.29%          rho_20 D 121709 121707     65\n",
      " 123140 69996        0.5311    14        0.5387        0.5210  1174313    3.29%           rho_6 D 123140 123138     87\n",
      " 124679 70850        0.5210    16        0.5387        0.5210  1189583    3.29%          rho_12 D 124679 124678     70\n",
      " 126110 71644        0.5305    20        0.5387        0.5210  1204536    3.29%          rho_40 D 126110 126108     81\n",
      "Elapsed time = 175.20 sec. (282884.10 ticks, tree = 39.97 MB, solutions = 30)\n",
      " 127476 72388        0.5280    21        0.5387        0.5210  1219455    3.29%          rho_89 U 127476 127475     78\n",
      " 128832 73194        0.5370    14        0.5387        0.5210  1235147    3.29%         rho_138 D 128832 128830     62\n",
      " 130140 73948        cutoff              0.5387        0.5210  1250058    3.29%           rho_6 U 130140 130139     90\n",
      " 131400 74667        0.5386    10        0.5387        0.5210  1264437    3.29%         rho_102 U 131400 131399     77\n",
      " 132775 75462        0.5371    12        0.5387        0.5210  1279169    3.29%           rho_4 D 132775 132774     92\n",
      " 134185 76254        cutoff              0.5387        0.5210  1294059    3.29%           rho_0 D 134185 134184     65\n",
      " 135550 77049        0.5285    22        0.5387        0.5210  1308421    3.29%          rho_40 D 135550 135548     82\n",
      " 136944 77836        0.5210    17        0.5387        0.5210  1323008    3.29%           rho_0 D 136944 136942     60\n",
      " 138212 78515        0.5210     1        0.5387        0.5210  1336981    3.29%          rho_23 U 138212 138059     60\n",
      " 139600 79344        0.5210    22        0.5387        0.5210  1352296    3.29%          rho_31 D 139600 139599     69\n",
      "Elapsed time = 194.01 sec. (321113.56 ticks, tree = 43.82 MB, solutions = 30)\n",
      " 140982 80181        cutoff              0.5387        0.5210  1367702    3.29%          rho_40 U 140982 140981     69\n",
      " 142400 81057        0.5385    15        0.5387        0.5210  1382797    3.29%           rho_0 U 142400 142399     47\n",
      " 143817 81873        0.5294    22        0.5387        0.5210  1397527    3.29%           rho_6 D 143817 143816     86\n",
      "\n",
      "User cuts applied:  1200\n",
      "\n",
      "Root node processing (before b&c):\n",
      "  Real time             =    0.48 sec. (9.32 ticks)\n",
      "Sequential b&c:\n",
      "  Real time             =  199.53 sec. (333145.47 ticks)\n"
     ]
    },
    {
     "name": "stdout",
     "output_type": "stream",
     "text": [
      "                          ------------\n",
      "Total (root+branch&cut) =  200.01 sec. (333154.78 ticks)\n",
      "+----------------------------------------------+------------------+-----------+\n",
      "| Pr(Y = +1) = 1.0/(1.0 + exp(-(-2 + score))   |                  |           |\n",
      "| ============================================ | ================ | ========= |\n",
      "| p_arrest>=2                                  |         1 points |   + ..... |\n",
      "| p_arrest>=4                                  |         1 points |   + ..... |\n",
      "| p_pending_charge>=1                          |         1 points |   + ..... |\n",
      "| ============================================ | ================ | ========= |\n",
      "| ADD POINTS FROM ROWS 1 to 3                  |            SCORE |   = ..... |\n",
      "+----------------------------------------------+------------------+-----------+\n",
      "setting c0 = 0.0 to ensure that intercept is not penalized\n",
      "07/15/19 @ 10:27 PM | switching loss computation from normal to lookup\n",
      "07/15/19 @ 10:27 PM | 1631 rows in lookup table\n",
      "07/15/19 @ 10:28 PM | ------------------------------------------------------------\n",
      "07/15/19 @ 10:28 PM | runnning initialization procedure\n",
      "07/15/19 @ 10:28 PM | ------------------------------------------------------------\n",
      "07/15/19 @ 10:28 PM | CPA produced 2 cuts\n",
      "07/15/19 @ 10:28 PM | running naive rounding on 1 solutions\n",
      "07/15/19 @ 10:28 PM | best objective value: 0.6308\n",
      "07/15/19 @ 10:28 PM | rounding produced 1 integer solutions\n",
      "07/15/19 @ 10:28 PM | best objective value is 0.6296\n",
      "07/15/19 @ 10:28 PM | running sequential rounding on 1 solutions\n",
      "07/15/19 @ 10:28 PM | best objective value: 0.6308\n",
      "07/15/19 @ 10:28 PM | sequential rounding produced 1 integer solutions\n",
      "07/15/19 @ 10:28 PM | best objective value: 0.6130\n",
      "07/15/19 @ 10:28 PM | polishing 2 solutions\n",
      "07/15/19 @ 10:28 PM | best objective value: 0.6130\n",
      "07/15/19 @ 10:28 PM | initialization produced 2 feasible solutions\n",
      "07/15/19 @ 10:28 PM | best objective value: 0.6130\n",
      "07/15/19 @ 10:28 PM | ------------------------------------------------------------\n",
      "07/15/19 @ 10:28 PM | completed initialization procedure\n",
      "07/15/19 @ 10:28 PM | ------------------------------------------------------------\n",
      "07/15/19 @ 10:28 PM | switching loss computation from normal to lookup\n",
      "07/15/19 @ 10:28 PM | 1631 rows in lookup table\n",
      "CPXPARAM_Read_DataCheck                          1\n",
      "CPXPARAM_Threads                                 1\n",
      "CPXPARAM_Parallel                                1\n",
      "CPXPARAM_RandomSeed                              0\n",
      "CPXPARAM_TimeLimit                               200\n",
      "CPXPARAM_MIP_Tolerances_LowerCutoff              0.51992840220229586\n",
      "CPXPARAM_MIP_Tolerances_UpperCutoff              0.61300098724226726\n"
     ]
    },
    {
     "name": "stderr",
     "output_type": "stream",
     "text": [
      "Warning: Control callbacks may disable some MIP features.\n"
     ]
    },
    {
     "name": "stdout",
     "output_type": "stream",
     "text": [
      "Lazy constraint(s) or lazy constraint callback is present.\n",
      "    Disabling dual reductions (CPX_PARAM_REDUCE) in presolve.\n",
      "    Disabling non-linear reductions (CPX_PARAM_PRELINEAR) in presolve.\n",
      "         Disabling repeat represolve because of lazy constraint/incumbent callback.\n",
      "07/15/19 @ 10:28 PM | adding 339 initial cuts\n",
      "1 of 1 MIP starts provided solutions.\n",
      "MIP start 'mip_start_0' defined initial solution with objective 0.6130.\n",
      "Tried aggregator 1 time.\n",
      "MIP Presolve eliminated 1 rows and 2 columns.\n",
      "MIP Presolve modified 155 coefficients.\n",
      "Reduced MIP has 156 rows, 312 columns, and 465 nonzeros.\n",
      "Reduced MIP has 155 binaries, 156 generals, 0 SOSs, and 0 indicators.\n",
      "Presolve time = 0.00 sec. (0.39 ticks)\n",
      "Probing time = 0.00 sec. (0.03 ticks)\n",
      "MIP emphasis: balance optimality and feasibility.\n",
      "MIP search method: traditional branch-and-cut.\n",
      "Parallel mode: none, using 1 thread.\n",
      "Root relaxation solution time = 0.00 sec. (0.18 ticks)\n",
      "\n",
      "        Nodes                                         Cuts/\n",
      "   Node  Left     Objective  IInf  Best Integer    Best Bound    ItCnt     Gap         Variable B NodeID Parent  Depth\n",
      "\n",
      "*     0+    0                            0.6130        0.5194            15.26%\n",
      "      0     0        0.5199     1        0.6130        0.5199        1   15.18%\n",
      "*     0+    0                            0.6026        0.5199            13.72%\n",
      "*     0+    0                            0.6012        0.5199            13.51%\n",
      "      0     2        0.5199     4        0.6012        0.5199        1   13.51%                        0             0\n",
      "Elapsed time = 0.39 sec. (8.35 ticks, tree = 0.01 MB, solutions = 3)\n",
      "*    10+   10                            0.5939        0.5199            12.46%\n",
      "*   150+  126                            0.5893        0.5199            11.77%\n",
      "*   180+  152                            0.5856        0.5199            11.22%\n",
      "*   180+  152                            0.5805        0.5199            10.43%\n",
      "*   180+  152                            0.5730        0.5199             9.26%\n",
      "*   190+  162                            0.5727        0.5199             9.21%\n",
      "*   340+  285                            0.5683        0.5199             8.51%\n",
      "*   350+  295                            0.5680        0.5199             8.46%\n",
      "*   350+  294                            0.5661        0.5199             8.16%\n",
      "    509   430        0.5325    16        0.5661        0.5199     2608    8.16%        alpha_51 D    509    508     63\n",
      "    980   836        0.5612    26        0.5661        0.5199     5845    8.16%        alpha_37 D    980    979     37\n",
      "*  1410+ 1102                            0.5602        0.5199             7.19%\n",
      "   1450  1139        0.5371     0        0.5602        0.5199     9004    7.19%         rho_111 U   1450   1449     23\n",
      "   1792  1400        0.5521     6        0.5602        0.5199    11381    7.19%          rho_33 D   1792   1791     17\n",
      "*  1840+ 1379                            0.5578        0.5199             6.79%\n",
      "*  1980+ 1508                            0.5575        0.5199             6.74%\n",
      "*  1990+ 1515                            0.5572        0.5199             6.69%\n",
      "*  1990+ 1515                            0.5572        0.5199             6.69%\n",
      "*  2000+ 1525                            0.5572        0.5199             6.69%\n",
      "*  2030+ 1522                            0.5562        0.5199             6.53%\n",
      "   2070  1560        0.5373     0        0.5562        0.5199    12240    6.53%         rho_107 D   2070   2069     32\n",
      "*  2100+ 1381                            0.5492        0.5199             5.33%\n",
      "   2290  1532        0.5203    12        0.5492        0.5199    13782    5.33%          rho_30 D   2290   2289     12\n",
      "   2560  1740        0.5399    12        0.5492        0.5199    15502    5.33%        alpha_45 U   2560   2559     40\n",
      "   2819  1925        0.5464     5        0.5492        0.5199    17543    5.33%          rho_61 D   2819   2818     37\n",
      "   3060  2092        0.5221    23        0.5492        0.5199    19099    5.33%         rho_139 U   3060   2866     19\n",
      "   4231  2995        0.5206    31        0.5492        0.5199    26767    5.33%         rho_106 D   4231    222     29\n",
      "Elapsed time = 10.61 sec. (3132.38 ticks, tree = 1.37 MB, solutions = 20)\n",
      "   5200  3669        cutoff              0.5492        0.5199    33738    5.33%         rho_106 U   5200   5199     31\n",
      "   6062  4304        0.5204    23        0.5492        0.5199    40622    5.33%         rho_101 U   6062   6061     14\n",
      "   6916  4946        0.5456     6        0.5492        0.5199    46293    5.33%          rho_31 D   6916   6915     39\n",
      "*  7390+ 5231                            0.5486        0.5199             5.23%\n",
      "*  7392  5228      integral     0        0.5485        0.5199    49435    5.21%\n",
      "*  7394  5227      integral     0        0.5485        0.5199    49438    5.21%\n",
      "*  7395  5226      integral     0        0.5485        0.5199    49440    5.21%\n",
      "   7660  5428        0.5285    16        0.5485        0.5199    51713    5.21%          rho_24 U   7660   7658     31\n",
      "   8302  5853        0.5315     5        0.5485        0.5199    57147    5.21%         rho_103 D   8302   8301     41\n",
      "*  8400+ 5310                            0.5429        0.5199             4.23%\n",
      "   8980  5694        cutoff              0.5429        0.5199    61175    4.23%       alpha_138 D   8980   8979     29\n",
      "   9705  6183        cutoff              0.5429        0.5199    65944    4.23%           rho_3 D   9705   9704     65\n",
      "  10382  6557        0.5264    15        0.5429        0.5199    71012    4.23%           rho_2 D  10382  10381     29\n",
      "  11058  6931        0.5306     8        0.5429        0.5199    75241    4.23%        alpha_98 U  11058  11056     69\n",
      "  11814  7448        0.5199     1        0.5429        0.5199    80371    4.23%          rho_22 U  11814  11812     35\n",
      "Elapsed time = 22.25 sec. (12683.03 ticks, tree = 3.44 MB, solutions = 25)\n",
      "  12611  7993        0.5202    15        0.5429        0.5199    85305    4.23%           rho_3 D  12611  12610     50\n",
      "  13364  8482        0.5199     8        0.5429        0.5199    90753    4.23%          rho_21 D  13364  13363     36\n",
      "  14108  8966        0.5199    11        0.5429        0.5199    95520    4.23%          rho_20 D  14108  14107     46\n",
      "  14825  9470        0.5371    16        0.5429        0.5199   100700    4.23%          rho_61 D  14825  14824     95\n",
      "  15514  9927        0.5199     4        0.5429        0.5199   105413    4.23%           rho_0 D  15514  15512     60\n",
      "  16209 10419        0.5357    14        0.5429        0.5199   110479    4.23%          rho_37 D  16209  16207     70\n",
      "  16819 10778        0.5217    15        0.5429        0.5199   115109    4.23%          rho_34 D  16819  16818     71\n",
      "  17381 11045        0.5303    16        0.5429        0.5199   119326    4.23%         rho_135 D  17381  17379     62\n",
      "  17998 11415        cutoff              0.5429        0.5199   123769    4.23%           rho_0 U  17998  17997     43\n",
      "  18664 11866        0.5309    20        0.5429        0.5199   128760    4.23%          rho_73 D  18664  18663     73\n",
      "Elapsed time = 28.80 sec. (22225.13 ticks, tree = 5.79 MB, solutions = 25)\n",
      "  19319 12306        0.5395    12        0.5429        0.5199   133684    4.23%          rho_85 D  19319  19317     65\n",
      "  19918 12642        cutoff              0.5429        0.5199   138294    4.23%         rho_142 U  19918  19917     78\n",
      "  20600 13086        0.5338    18        0.5429        0.5199   143089    4.23%          rho_59 D  20600  20598     60\n",
      "  21224 13447        0.5199     1        0.5429        0.5199   147428    4.23%          rho_36 U  21224  21172     36\n",
      "  21806 13780        0.5209    12        0.5429        0.5199   151813    4.23%          rho_22 U  21806  21804     51\n",
      "  22396 14155        0.5409    17        0.5429        0.5199   156277    4.23%           rho_7 D  22396  22394     69\n",
      "  22970 14510        0.5199     1        0.5429        0.5199   160907    4.23%          rho_22 U  22970  22789     52\n",
      "  23477 14820        0.5423    14        0.5429        0.5199   165689    4.23%          rho_11 D  23477  23475     68\n",
      "  24053 15174        0.5363     1        0.5429        0.5199   170359    4.23%          rho_17 U  24053  24052     64\n",
      "  24583 15447        0.5368    16        0.5429        0.5199   175084    4.23%          rho_85 D  24583  24581     73\n",
      "Elapsed time = 33.97 sec. (31775.07 ticks, tree = 7.44 MB, solutions = 25)\n",
      "  25151 15776        0.5223    18        0.5429        0.5199   179532    4.23%          rho_20 D  25151  25150     54\n",
      "  25713 16137        0.5219     1        0.5429        0.5199   184146    4.23%          rho_21 U  25713  25712     62\n",
      "  26236 16446        0.5199     5        0.5429        0.5199   188451    4.23%          rho_21 D  26236  26037     48\n",
      "  26728 16707        0.5226    12        0.5429        0.5199   193009    4.23%          rho_22 D  26728  26726     50\n",
      "  27254 17024        cutoff              0.5429        0.5199   197447    4.23%           rho_0 U  27254  27251     65\n",
      "  27773 17334        0.5271    10        0.5429        0.5199   201820    4.23%           rho_0 D  27773  27772     52\n",
      "  28302 17674        cutoff              0.5429        0.5199   206288    4.23%          rho_58 U  28302  28301     49\n",
      "  28879 18053        0.5199     1        0.5429        0.5199   210808    4.23%          rho_36 U  28879  28877     34\n",
      "  29387 18354        0.5287    14        0.5429        0.5199   215518    4.23%           rho_0 D  29387  29386     58\n",
      "  29922 18703        0.5264     9        0.5429        0.5199   219876    4.23%          rho_19 U  29922  29921     48\n",
      "Elapsed time = 38.77 sec. (41317.33 ticks, tree = 9.62 MB, solutions = 25)\n",
      "  30490 19070        0.5199     7        0.5429        0.5199   224691    4.23%           rho_0 D  30490  30488     38\n",
      "  31018 19372        0.5369    15        0.5429        0.5199   229705    4.23%           rho_5 U  31018  31017     58\n",
      "  31600 19733        0.5199    12        0.5429        0.5199   235016    4.23%          rho_21 U  31600  31599     57\n",
      "  32161 20052        0.5199     7        0.5429        0.5199   239808    4.23%          rho_24 D  32161  32160     54\n",
      "  32666 20316        0.5199     1        0.5429        0.5199   244755    4.23%          rho_36 U  32666  11489     34\n",
      "  33200 20568        0.5334     1        0.5429        0.5199   249184    4.23%           rho_0 D  33200  33199     79\n",
      "  33745 20902        0.5410     9        0.5429        0.5199   254216    4.23%         rho_148 D  33745  33744    131\n",
      "  34246 21147        cutoff              0.5429        0.5199   259298    4.23%         rho_111 U  34246  34245     96\n",
      "  34716 21381        0.5351    22        0.5429        0.5199   264254    4.23%          rho_73 D  34716  34715     79\n",
      "  35229 21635        0.5412    10        0.5429        0.5199   268944    4.23%         rho_141 D  35229  35227     95\n",
      "Elapsed time = 44.25 sec. (50879.28 ticks, tree = 10.97 MB, solutions = 25)\n",
      "  35710 21850        0.5344    10        0.5429        0.5199   273793    4.23%          rho_77 D  35710  35708     73\n",
      "  36210 22147        cutoff              0.5429        0.5199   278897    4.23%           rho_0 U  36210  36208     62\n",
      "  36721 22408        cutoff              0.5429        0.5199   283598    4.23%           rho_0 U  36721  36720     61\n",
      "  37293 22753        cutoff              0.5429        0.5199   288554    4.23%          rho_59 U  37293  37292     64\n",
      "  37779 23018        0.5301    24        0.5429        0.5199   293691    4.23%          rho_39 D  37779  37777     68\n",
      "  38290 23273        cutoff              0.5429        0.5199   298239    4.23%          rho_59 U  38290  38289     68\n",
      "  38844 23605        0.5200    13        0.5429        0.5199   303142    4.23%           rho_0 D  38844  38842     63\n",
      "  39405 23957        0.5231    18        0.5429        0.5199   307887    4.23%          rho_58 D  39405  39404     49\n",
      "  39869 24205        0.5428    18        0.5429        0.5199   312689    4.23%          rho_77 N  39869  39868     69\n",
      "  40372 24550        0.5314    22        0.5429        0.5199   317024    4.23%         rho_134 D  40372  40370     78\n",
      "Elapsed time = 49.89 sec. (60432.34 ticks, tree = 12.34 MB, solutions = 25)\n",
      "  40911 24908        cutoff              0.5429        0.5199   322097    4.23%           rho_0 U  40911  40910     77\n",
      "  41423 25199        cutoff              0.5429        0.5199   327112    4.23%           rho_0 D  41423  41422     83\n",
      "  42048 25646        cutoff              0.5429        0.5199   332377    4.23%           rho_0 U  42048  42046     78\n",
      "  42513 25888        cutoff              0.5429        0.5199   337481    4.23%          rho_90 U  42513  42512     91\n",
      "* 42920+26081                            0.5428        0.5199             4.21%\n",
      "  43020 26138    infeasible              0.5428        0.5199   342106    4.21%          rho_72 U  43020  43018     78\n",
      "  43410 26313        0.5278    26        0.5428        0.5199   345820    4.21%          rho_34 D  43410  43409     72\n",
      "  43920 26614        0.5287    24        0.5428        0.5199   350162    4.21%          rho_85 D  43920  43918     76\n",
      "  44367 26840        0.5206    16        0.5428        0.5199   355397    4.21%          rho_21 D  44367  44365     65\n",
      "* 44640+26850                            0.5426        0.5199             4.19%\n",
      "  44760 26902        0.5308    28        0.5426        0.5199   359357    4.19%         rho_134 D  44760  44758     72\n",
      "  45150 27068        0.5202    13        0.5426        0.5199   363750    4.19%           rho_0 D  45150  45147     52\n",
      "Elapsed time = 56.95 sec. (70003.88 ticks, tree = 13.52 MB, solutions = 27)\n",
      "  45589 27283        cutoff              0.5426        0.5199   368429    4.19%           rho_0 U  45589  45587     59\n",
      "  46044 27551        cutoff              0.5426        0.5199   373164    4.19%           rho_0 U  46044  46043     58\n",
      "  46464 27751        0.5248    15        0.5426        0.5199   378123    4.19%           rho_0 D  46464  46463     73\n",
      "  46906 27964        0.5299    19        0.5426        0.5199   382801    4.19%          rho_44 D  46906  46905     72\n",
      "  47426 28266        cutoff              0.5426        0.5199   387978    4.19%           rho_0 U  47426  47425     54\n",
      "  47900 28500        0.5209    18        0.5426        0.5199   393062    4.19%          rho_24 D  47900  47899     57\n",
      "  48381 28724        cutoff              0.5426        0.5199   397981    4.19%          rho_39 U  48381  48380     77\n",
      "  48851 28950        0.5217    18        0.5426        0.5199   402926    4.19%          rho_21 D  48851  48850     64\n",
      "  49286 29136        0.5382    14        0.5426        0.5199   408210    4.19%          rho_99 U  49286  49285     73\n",
      "  49732 29377        0.5350    18        0.5426        0.5199   413372    4.19%         rho_140 D  49732  49731     87\n",
      "Elapsed time = 61.89 sec. (79550.86 ticks, tree = 14.61 MB, solutions = 27)\n",
      "  50273 29667        cutoff              0.5426        0.5199   418426    4.19%           rho_4 U  50273  50270     77\n",
      "  50761 29885        0.5199     1        0.5426        0.5199   423243    4.19%           rho_0 D  50761  50759     56\n",
      "  51249 30067        0.5406    11        0.5426        0.5199   427509    4.19%          rho_82 D  51249  51248    128\n",
      "  51788 30221        cutoff              0.5426        0.5199   431340    4.19%         rho_152 U  51788  51787    136\n",
      "  52343 30389        0.5385    14        0.5426        0.5199   435343    4.19%          rho_30 D  52343  52341    109\n",
      "  52924 30639        0.5425    12        0.5426        0.5199   439698    4.19%          rho_45 D  52924  52922     85\n",
      "  53450 30799        cutoff              0.5426        0.5199   444119    4.19%         rho_135 U  53450  53449     73\n",
      "  53967 30952        cutoff              0.5426        0.5199   448165    4.19%          rho_89 U  53967  53966    106\n",
      "  54462 31112        0.5318    20        0.5426        0.5199   452698    4.19%          rho_40 D  54462  54460     72\n",
      "  56674 31968        cutoff              0.5426        0.5199   470499    4.19%         rho_136 U  56674  56673     68\n",
      "Elapsed time = 67.77 sec. (91959.07 ticks, tree = 15.84 MB, solutions = 27)\n",
      "  58717 32902        cutoff              0.5426        0.5199   491920    4.19%         rho_136 U  58717  58716     64\n"
     ]
    },
    {
     "name": "stdout",
     "output_type": "stream",
     "text": [
      "  60804 34019        0.5220    18        0.5426        0.5199   514335    4.19%          rho_22 D  60804  60803     64\n",
      "  62823 35092        0.5329    20        0.5426        0.5199   536247    4.19%          rho_89 D  62823  62822     80\n",
      "  64831 36225        0.5199     6        0.5426        0.5199   557587    4.19%          rho_24 U  64831  64666     57\n",
      "  66668 37178        0.5218    13        0.5426        0.5199   576933    4.19%          rho_20 U  66668  66667     61\n",
      "  68526 38224        0.5208    13        0.5426        0.5199   596236    4.19%         rho_138 D  68526  68525     59\n",
      "  70304 39229        0.5378    20        0.5426        0.5199   615920    4.19%          rho_11 D  70304  70302     60\n",
      "  72063 40063        cutoff              0.5426        0.5199   633242    4.19%           rho_0 U  72063  72061     54\n",
      "  73702 40928        0.5209    25        0.5426        0.5199   651523    4.19%          rho_21 D  73702  16626     58\n",
      "  75480 41911        0.5199     5        0.5426        0.5199   668808    4.19%          rho_24 D  75480  75479     48\n",
      "Elapsed time = 91.84 sec. (130120.82 ticks, tree = 21.95 MB, solutions = 27)\n",
      "* 76440+42205                            0.5425        0.5199             4.16%\n",
      "  76975 42542        0.5209    23        0.5425        0.5199   687888    4.16%          rho_24 D  76975  76974     56\n",
      "  78643 43611        cutoff              0.5425        0.5199   705847    4.16%           rho_0 U  78643  78642     34\n",
      "  80378 44716        0.5307    23        0.5425        0.5199   722704    4.16%         rho_135 D  80378  80376     67\n",
      "* 80530+44836                            0.5425        0.5199             4.16%\n",
      "  81840 45377        0.5351    16        0.5425        0.5199   736736    4.16%          rho_14 D  81840  81838     60\n",
      "  83461 46414        cutoff              0.5425        0.5199   752799    4.16%           rho_0 U  83461  83460     47\n",
      "  84997 47305        cutoff              0.5425        0.5199   769609    4.16%           rho_0 U  84997  84996     33\n",
      "  86455 48076        0.5237    25        0.5425        0.5199   785522    4.16%           rho_0 D  86455  86453     55\n",
      "  87810 48782        0.5199    19        0.5425        0.5199   800610    4.16%           rho_2 D  87810  87809     57\n",
      "  89235 49575        0.5369    14        0.5425        0.5199   815585    4.16%          rho_73 D  89235  89233     87\n",
      "  90570 50209        0.5283    23        0.5425        0.5199   830922    4.16%          rho_70 D  90570  90569     79\n",
      "Elapsed time = 113.14 sec. (168298.41 ticks, tree = 25.92 MB, solutions = 29)\n",
      "  91977 50993        0.5199     1        0.5425        0.5199   847238    4.16%          rho_21 U  91977  91377     42\n",
      "  93317 51681        cutoff              0.5425        0.5199   863842    4.16%           rho_0 U  93317  93315     69\n",
      "  94821 52600        0.5288    31        0.5425        0.5199   880958    4.16%           rho_1 U  94821  94819     53\n",
      "  96220 53386        0.5208    22        0.5425        0.5199   897561    4.16%          rho_20 D  96220  96219     62\n",
      "  97744 54366        0.5259    23        0.5425        0.5199   916074    4.16%           rho_0 D  97744  97742     63\n",
      "  99221 55247        0.5264    20        0.5425        0.5199   933943    4.16%          rho_58 U  99221  99219     65\n",
      " 100600 56052        0.5199    19        0.5425        0.5199   950890    4.16%          rho_58 D 100600 100599     66\n",
      " 102070 56891        0.5361    20        0.5425        0.5199   967072    4.16%          rho_17 D 102070 102068     72\n",
      " 103423 57639        cutoff              0.5425        0.5199   984214    4.16%           rho_0 U 103423 103422     59\n",
      " 104852 58490        0.5199    20        0.5425        0.5199  1000376    4.16%          rho_17 U 104852 104851     56\n",
      "Elapsed time = 132.55 sec. (206494.40 ticks, tree = 29.93 MB, solutions = 29)\n",
      " 106250 59310        0.5300    30        0.5425        0.5199  1017412    4.16%          rho_14 D 106250 106247     69\n",
      " 107730 60224        0.5205    26        0.5425        0.5199  1034833    4.16%          rho_37 D 107730 107729     72\n",
      " 109275 61153        cutoff              0.5425        0.5199  1050652    4.16%           rho_0 U 109275 109274     60\n",
      " 110622 61913        0.5199    23        0.5425        0.5199  1068537    4.16%          rho_17 D 110622 110621     62\n",
      " 112089 62774        cutoff              0.5425        0.5199  1085181    4.16%           rho_0 U 112089 112088     64\n",
      " 113600 63706        0.5385     8        0.5425        0.5199  1102549    4.16%          rho_66 D 113600 113599    173\n",
      " 115007 64487        0.5229    18        0.5425        0.5199  1119011    4.16%           rho_2 U 115007 115006     72\n",
      " 116399 65267        0.5265    21        0.5425        0.5199  1135310    4.16%           rho_6 D 116399 116397     81\n",
      " 117838 66172        0.5201    29        0.5425        0.5199  1152075    4.16%         rho_138 D 117838 117837     71\n",
      " 119187 66926        0.5199    14        0.5425        0.5199  1167875    4.16%           rho_1 D 119187 119186     56\n",
      "Elapsed time = 151.34 sec. (244662.16 ticks, tree = 36.85 MB, solutions = 29)\n",
      " 120508 67668        cutoff              0.5425        0.5199  1183956    4.16%         rho_144 U 120508 120507    113\n",
      " 121941 68514        0.5347    15        0.5425        0.5199  1200059    4.16%          rho_61 D 121941 121939     97\n",
      " 123348 69370        0.5199     4        0.5425        0.5199  1216455    4.16%          rho_20 U 123348 123347     56\n",
      " 124739 70174        0.5199    16        0.5425        0.5199  1232571    4.16%           rho_1 D 124739 124738     53\n",
      " 126146 70991        cutoff              0.5425        0.5199  1247802    4.16%          rho_14 U 126146 126145     69\n",
      " 127569 71851        0.5323    19        0.5425        0.5199  1264146    4.16%          rho_34 D 127569 127567     76\n",
      " 128933 72624        0.5199     4        0.5425        0.5199  1280558    4.16%           rho_0 D 128933 128931     57\n",
      " 130439 73521        0.5283    27        0.5425        0.5199  1297105    4.16%           rho_1 U 130439 130437     67\n",
      " 131860 74344        cutoff              0.5425        0.5199  1313944    4.16%           rho_0 U 131860 131859     53\n",
      " 133300 75193        0.5248    19        0.5425        0.5199  1330497    4.16%          rho_69 D 133300 133299     68\n",
      "Elapsed time = 169.70 sec. (282835.09 ticks, tree = 40.85 MB, solutions = 29)\n",
      " 134680 75990        0.5199    21        0.5425        0.5199  1345960    4.16%           rho_0 D 134680 134678     64\n",
      " 136172 76944        0.5306    16        0.5425        0.5199  1363202    4.16%          rho_98 D 136172 136171     99\n",
      " 137663 77906        0.5332    14        0.5425        0.5199  1379712    4.16%          rho_41 D 137663 137661     89\n",
      " 139107 78731        0.5199     6        0.5425        0.5199  1395246    4.16%           rho_0 D 139107 139105     48\n",
      " 140646 79690        0.5227    23        0.5425        0.5199  1411994    4.16%          rho_17 U 140646 140645     55\n",
      " 142113 80602        0.5402    13        0.5425        0.5199  1429325    4.16%          rho_50 D 142113 142111     92\n",
      " 143391 81405        0.5241    19        0.5425        0.5199  1447202    4.16%          rho_89 U 143391 143390     71\n",
      " 144899 82443        0.5239    20        0.5425        0.5199  1464913    4.16%          rho_11 D 144899 144898     73\n",
      " 146246 83241        0.5199     7        0.5425        0.5199  1481072    4.16%          rho_20 D 146246 146245     56\n",
      " 147637 84135        0.5256    26        0.5425        0.5199  1498475    4.16%          rho_17 D 147637 147636     54\n",
      "Elapsed time = 188.64 sec. (321003.49 ticks, tree = 45.17 MB, solutions = 29)\n",
      " 149046 85073        cutoff              0.5425        0.5199  1515320    4.16%          rho_40 U 149046 149045     91\n",
      " 150500 86043        0.5199     9        0.5425        0.5199  1531633    4.16%          rho_18 U 150500 149895     39\n",
      " 151927 86976        cutoff              0.5425        0.5199  1547480    4.16%           rho_0 U 151927 151925     67\n",
      " 153362 87883        cutoff              0.5425        0.5199  1564117    4.16%           rho_0 U 153362 153361     47\n",
      " 154729 88691        0.5204    24        0.5425        0.5199  1580940    4.16%           rho_2 D 154729 154728     64\n",
      "\n",
      "User cuts applied:  1052\n",
      "\n",
      "Root node processing (before b&c):\n",
      "  Real time             =    0.39 sec. (8.85 ticks)\n",
      "Sequential b&c:\n",
      "  Real time             =  199.63 sec. (343906.87 ticks)\n",
      "                          ------------\n",
      "Total (root+branch&cut) =  200.02 sec. (343915.72 ticks)\n",
      "+-----------------------------------------------+------------------+-----------+\n",
      "| Pr(Y = +1) = 1.0/(1.0 + exp(-(-10 + score))   |                  |           |\n",
      "| ============================================= | ================ | ========= |\n",
      "| p_arrest>=1                                   |         4 points |   + ..... |\n",
      "| p_SentMonths>=0                               |         3 points |   + ..... |\n",
      "| age_at_current_charge<=18                     |         1 points |   + ..... |\n",
      "| age_at_current_charge<=64                     |         1 points |   + ..... |\n",
      "| p_arrest>=2                                   |         1 points |   + ..... |\n",
      "| p_arrest>=5                                   |         1 points |   + ..... |\n",
      "| p_arrest>=15                                  |         1 points |   + ..... |\n",
      "| p_murder>=1                                   |         1 points |   + ..... |\n",
      "| p_domestic_viol>=4                            |         1 points |   + ..... |\n",
      "| p_jail>=2                                     |         1 points |   + ..... |\n",
      "| ============================================= | ================ | ========= |\n",
      "| ADD POINTS FROM ROWS 1 to 10                  |            SCORE |   = ..... |\n",
      "+-----------------------------------------------+------------------+-----------+\n",
      "setting c0 = 0.0 to ensure that intercept is not penalized\n",
      "07/15/19 @ 10:31 PM | switching loss computation from normal to lookup\n",
      "07/15/19 @ 10:31 PM | 1631 rows in lookup table\n",
      "07/15/19 @ 10:31 PM | ------------------------------------------------------------\n",
      "07/15/19 @ 10:31 PM | runnning initialization procedure\n",
      "07/15/19 @ 10:31 PM | ------------------------------------------------------------\n",
      "07/15/19 @ 10:31 PM | CPA produced 2 cuts\n",
      "07/15/19 @ 10:31 PM | all CPA solutions are infeasible\n",
      "07/15/19 @ 10:31 PM | initialization produced 0 feasible solutions\n",
      "07/15/19 @ 10:31 PM | ------------------------------------------------------------\n",
      "07/15/19 @ 10:31 PM | completed initialization procedure\n",
      "07/15/19 @ 10:31 PM | ------------------------------------------------------------\n",
      "07/15/19 @ 10:31 PM | switching loss computation from normal to lookup\n",
      "07/15/19 @ 10:31 PM | 1631 rows in lookup table\n",
      "CPXPARAM_Read_DataCheck                          1\n",
      "CPXPARAM_Threads                                 1\n",
      "CPXPARAM_Parallel                                1\n",
      "CPXPARAM_RandomSeed                              0\n",
      "CPXPARAM_TimeLimit                               200\n",
      "CPXPARAM_MIP_Tolerances_LowerCutoff              0.52001553858290517\n",
      "CPXPARAM_MIP_Tolerances_UpperCutoff              85.447297861765506\n"
     ]
    },
    {
     "name": "stderr",
     "output_type": "stream",
     "text": [
      "Warning: Control callbacks may disable some MIP features.\n"
     ]
    },
    {
     "name": "stdout",
     "output_type": "stream",
     "text": [
      "Lazy constraint(s) or lazy constraint callback is present.\n",
      "    Disabling dual reductions (CPX_PARAM_REDUCE) in presolve.\n",
      "    Disabling non-linear reductions (CPX_PARAM_PRELINEAR) in presolve.\n",
      "         Disabling repeat represolve because of lazy constraint/incumbent callback.\n",
      "Tried aggregator 1 time.\n",
      "MIP Presolve eliminated 1 rows and 2 columns.\n",
      "MIP Presolve modified 155 coefficients.\n",
      "Reduced MIP has 156 rows, 312 columns, and 465 nonzeros.\n",
      "Reduced MIP has 155 binaries, 156 generals, 0 SOSs, and 0 indicators.\n",
      "Presolve time = 0.02 sec. (0.39 ticks)\n",
      "Probing time = 0.00 sec. (0.03 ticks)\n",
      "MIP emphasis: balance optimality and feasibility.\n",
      "MIP search method: traditional branch-and-cut.\n",
      "Parallel mode: none, using 1 thread.\n",
      "Root relaxation solution time = 0.00 sec. (0.18 ticks)\n",
      "07/15/19 @ 10:31 PM | adding 319 initial cuts\n",
      "\n",
      "        Nodes                                         Cuts/\n",
      "   Node  Left     Objective  IInf  Best Integer    Best Bound    ItCnt     Gap         Variable B NodeID Parent  Depth\n",
      "\n",
      "      0     0        0.5200    55                      0.5200        1         \n",
      "*     0+    0                            0.7521        0.5200            30.85%\n",
      "*     0+    0                            0.7052        0.5200            26.26%\n",
      "*     0+    0                            0.5481        0.5200             5.13%\n",
      "      0     2        0.5200    49        0.5481        0.5200        1    5.13%                        0             0\n",
      "Elapsed time = 0.47 sec. (309.13 ticks, tree = 0.01 MB, solutions = 3)\n",
      "*    20+   20                            0.5396        0.5200             3.63%\n",
      "     40    41        0.5324     1        0.5396        0.5200      820    3.63%          rho_23 U     40     39     26\n",
      "*   140+  127                            0.5396        0.5200             3.63%\n",
      "    140   129        0.5214    20        0.5396        0.5200     2067    3.63%        alpha_98 U    140    139     40\n",
      "*   160+  144                            0.5387        0.5200             3.47%\n",
      "    234   212        0.5208    43        0.5387        0.5200     2859    3.47%          rho_26 D    234    233      4\n",
      "    410   370        0.5210    36        0.5387        0.5200     4515    3.47%         rho_101 D    410    409     12\n",
      "    600   520        0.5265    12        0.5387        0.5200     5638    3.47%        alpha_41 D    600    599     93\n",
      "    770   663        0.5210    29        0.5387        0.5200     7302    3.47%          rho_11 D    770    769     33\n",
      "   1008   880        0.5224    22        0.5387        0.5200     9349    3.47%         rho_105 D   1008   1007     39\n",
      "*  1200+ 1017                            0.5369        0.5200             3.14%\n",
      "*  1210+ 1027                            0.5369        0.5200             3.13%\n",
      "   1230  1049        0.5214    15        0.5369        0.5200    11074    3.13%          rho_38 D   1230   1229     60\n",
      "*  1250+ 1067                            0.5367        0.5200             3.11%\n",
      "*  1310+ 1127                            0.5367        0.5200             3.11%\n",
      "*  1340+ 1153                            0.5367        0.5200             3.10%\n",
      "   1370  1180        0.5219    25        0.5367        0.5200    11708    3.10%           rho_4 D   1370   1369     39\n",
      "   2173  1885        0.5211    46        0.5367        0.5200    18418    3.10%          rho_26 D   2173   2172     20\n",
      "Elapsed time = 3.97 sec. (3460.96 ticks, tree = 2.76 MB, solutions = 11)\n",
      "   3102  2703        cutoff              0.5367        0.5201    26327    3.10%          rho_58 U   3102   3100     28\n",
      "   4135  3617        0.5209    37        0.5367        0.5201    34317    3.09%          rho_26 D   4135   2511     19\n",
      "*  4680+ 4088                            0.5355        0.5201             2.86%\n",
      "*  4690+ 4079                            0.5348        0.5201             2.75%\n",
      "   4918  4275        0.5215    45        0.5348        0.5201    41155    2.75%          rho_39 D   4918   4917     24\n",
      "   5660  4920        0.5205    36        0.5348        0.5201    48628    2.75%          rho_28 U   5660   2072     19\n",
      "   6614  5711        0.5249    18        0.5348        0.5202    56585    2.74%          rho_18 D   6614   6612     28\n",
      "   7620  6504        0.5336    10        0.5348        0.5202    64599    2.74%          rho_49 D   7620   7617     47\n",
      "   8601  7342        0.5218    27        0.5348        0.5202    72189    2.73%          rho_32 D   8601   8600     40\n",
      "   9597  8202        0.5204    42        0.5348        0.5202    79578    2.73%          rho_27 D   9597   9596     10\n",
      "  10431  8947        0.5216    38        0.5348        0.5203    87407    2.72%         rho_110 U  10431   1095     12\n",
      "  11342  9730        cutoff              0.5348        0.5203    95983    2.72%         rho_134 U  11342  11341     70\n",
      "Elapsed time = 11.44 sec. (13029.59 ticks, tree = 24.15 MB, solutions = 13)\n",
      "  12230 10501        0.5208    40        0.5348        0.5203   104063    2.71%          rho_27 D  12230  12229     18\n",
      "  13074 11224        0.5258    14        0.5348        0.5203   111579    2.71%          rho_12 D  13074  13073     42\n",
      "* 13724 11688      integral     0        0.5348        0.5204   117132    2.70%\n",
      "  13925 11861        0.5258    15        0.5348        0.5204   118646    2.70%          rho_73 D  13925  13924     64\n",
      "  14764 12528        0.5225    22        0.5348        0.5204   125932    2.69%          rho_29 U  14764  14763     16\n",
      "* 14872 12627      integral     0        0.5348        0.5204   126259    2.69%\n",
      "  15610 13248        0.5331     0        0.5348        0.5204   131728    2.69%         rho_104 D  15610  15609     31\n",
      "* 15883 13467      integral     0        0.5347        0.5204   133654    2.67%\n",
      "  16458 13937        0.5215    25        0.5347        0.5204   137980    2.67%         rho_138 U  16458  16455     19\n",
      "  17256 14558        0.5206    37        0.5347        0.5204   143704    2.67%           rho_1 D  17256  17255     15\n",
      "  18012 15164        0.5230    24        0.5347        0.5204   150434    2.67%          rho_21 D  18012  18011     21\n",
      "  18672 15631        0.5344    17        0.5347        0.5204   157037    2.66%          rho_77 D  18672  18671     61\n",
      "  19371 16145        0.5249    23        0.5347        0.5204   164063    2.66%         rho_102 D  19371  19370     55\n",
      "Elapsed time = 18.88 sec. (22581.75 ticks, tree = 43.69 MB, solutions = 16)\n",
      "  20187 16795        0.5226    17        0.5347        0.5205   169463    2.66%          rho_40 D  20187  20186     69\n",
      "  20987 17460        cutoff              0.5347        0.5205   175156    2.66%         rho_136 U  20987  20986     67\n",
      "  21691 17942        0.5222    33        0.5347        0.5205   180201    2.65%          rho_49 U  21691   3733     12\n",
      "  22423 18540        0.5239    25        0.5347        0.5205   187051    2.65%          rho_81 D  22423  22422     74\n",
      "  23126 19114        0.5215    25        0.5347        0.5205   193395    2.65%           rho_9 D  23126  23125     40\n",
      "  23817 19666        cutoff              0.5347        0.5205   199409    2.65%         rho_135 U  23817  23816     70\n",
      "  24477 20181        cutoff              0.5347        0.5205   205437    2.65%           rho_8 U  24477  24476     56\n",
      "  25068 20567        0.5206    34        0.5347        0.5205   211238    2.65%           rho_0 U  25068    953     17\n",
      "  25774 21143        cutoff              0.5347        0.5205   217224    2.65%        alpha_76 D  25774  25773     29\n",
      "  26471 21686        0.5282    18        0.5347        0.5205   222954    2.65%         rho_123 D  26471  26469     86\n",
      "Elapsed time = 25.80 sec. (32137.33 ticks, tree = 58.02 MB, solutions = 16)\n",
      "  27056 22086        0.5253    19        0.5347        0.5205   228649    2.65%           rho_9 D  27056  27055     37\n",
      "  27680 22552        0.5234    19        0.5347        0.5205   234624    2.64%          rho_44 D  27680  27679     65\n",
      "  28330 23027        cutoff              0.5347        0.5205   239593    2.64%         rho_141 U  28330  28329     76\n",
      "  28978 23462        0.5233    18        0.5347        0.5205   244160    2.64%          rho_12 D  28978  28977     20\n",
      "  29668 23948        0.5240    19        0.5347        0.5206   248646    2.64%          rho_98 D  29668  29667     70\n",
      "  30356 24451        0.5263    15        0.5347        0.5206   253363    2.64%          rho_20 D  30356  30355     35\n",
      "  31060 24980        0.5321    14        0.5347        0.5206   258350    2.64%          rho_32 D  31060  31059     24\n",
      "  31810 25544        0.5223    17        0.5347        0.5206   263359    2.64%          rho_35 U  31810  31809     58\n",
      "  32483 26043        cutoff              0.5347        0.5206   268002    2.64%          rho_76 U  32483  32482    106\n",
      "  33200 26605        0.5243    26        0.5347        0.5206   272795    2.64%         rho_135 D  33200  33199     61\n",
      "Elapsed time = 32.27 sec. (41682.68 ticks, tree = 88.86 MB, solutions = 16)\n",
      "  33935 27207        cutoff              0.5347        0.5206   277939    2.64%         rho_135 U  33935  33934     72\n",
      "  34550 27641        0.5243    26        0.5347        0.5206   282758    2.64%         rho_136 D  34550  34549     53\n",
      "  35259 28215        cutoff              0.5347        0.5206   288581    2.63%           rho_9 U  35259  35258     24\n",
      "  35973 28771        0.5281    25        0.5347        0.5206   293568    2.63%           rho_7 U  35973  35972     43\n",
      "  36591 29180        cutoff              0.5347        0.5206   297484    2.63%          rho_22 U  36591  36590     35\n",
      "  37200 29508        0.5212    32        0.5347        0.5206   301218    2.63%          rho_49 D  37200  37199     33\n",
      "  37867 29968        cutoff              0.5347        0.5206   305877    2.63%          rho_40 U  37867  37866     69\n",
      "  38500 30396        0.5214    36        0.5347        0.5206   310224    2.63%         rho_138 D  38500  38499     31\n",
      "  39227 30961        0.5270    21        0.5347        0.5206   314873    2.63%          rho_86 D  39227  39226     72\n",
      "  39868 31394        0.5270    20        0.5347        0.5206   319008    2.63%         rho_137 D  39868  39866     48\n",
      "Elapsed time = 38.42 sec. (51242.39 ticks, tree = 116.27 MB, solutions = 16)\n",
      "  40571 31925        0.5223    23        0.5347        0.5206   323839    2.63%         rho_137 D  40571  40570     56\n",
      "  41138 32329        0.5283    18        0.5347        0.5206   329267    2.63%          rho_85 D  41138  41137     63\n",
      "  41660 32703        cutoff              0.5347        0.5206   334079    2.63%         rho_136 U  41660  41659     54\n",
      "  42252 33091        0.5238    25        0.5347        0.5206   338564    2.63%         rho_122 U  42252  12905     17\n",
      "  42883 33522        cutoff              0.5347        0.5206   342914    2.63%          rho_58 U  42883  42882     48\n",
      "  43480 33928        cutoff              0.5347        0.5206   347045    2.63%         rho_135 U  43480  43479     59\n",
      "  44020 34240        0.5303    11        0.5347        0.5206   351062    2.63%           rho_8 D  44020  44018     43\n",
      "  44619 34650        0.5206    36        0.5347        0.5206   355276    2.63%          rho_37 D  44619    958     22\n",
      "  45293 35147        0.5211    26        0.5347        0.5206   359753    2.63%          rho_11 D  45293  45292     41\n",
      "  45934 35609        0.5220    19        0.5347        0.5206   363738    2.63%         rho_136 D  45934  45933     60\n",
      "Elapsed time = 44.61 sec. (60786.67 ticks, tree = 144.81 MB, solutions = 16)\n",
      "  46564 36076        0.5247    26        0.5347        0.5206   368229    2.63%          rho_41 D  46564  46563     74\n",
      "  47216 36502        cutoff              0.5347        0.5206   372188    2.63%           rho_0 U  47216  47215     30\n",
      "  47784 36870        cutoff              0.5347        0.5206   375990    2.63%          rho_41 D  47784  47782     85\n",
      "  48381 37293        0.5330    13        0.5347        0.5206   380095    2.63%          rho_69 U  48381  48380     53\n",
      "  48980 37726        0.5252    16        0.5347        0.5206   384225    2.63%          rho_60 D  48980  48978     59\n",
      "  49579 38180        0.5223    24        0.5347        0.5206   388383    2.63%           rho_7 D  49579  49578     47\n",
      "  50109 38560        0.5308    14        0.5347        0.5206   392783    2.62%         rho_106 D  50109  50108     64\n",
      "  50735 38998        cutoff              0.5347        0.5206   397306    2.62%         rho_135 U  50735  50734     65\n",
      "  51396 39485        0.5283    18        0.5347        0.5206   401553    2.62%           rho_5 D  51396  51394     35\n",
      "  51961 39884        0.5209    32        0.5347        0.5206   405857    2.62%          rho_12 D  51961  51960     29\n",
      "Elapsed time = 50.45 sec. (70331.54 ticks, tree = 180.28 MB, solutions = 16)\n",
      "  52576 40332        cutoff              0.5347        0.5206   410182    2.62%        alpha_14 U  52576  52575     32\n",
      "  53169 40750        0.5282    21        0.5347        0.5206   414392    2.62%          rho_69 D  53169  53168     49\n",
      "  53710 41115        0.5232    32        0.5347        0.5206   418179    2.62%         rho_122 U  53710   6873     17\n",
      "  54245 41555        cutoff              0.5347        0.5206   422881    2.62%           rho_5 U  54245  54244     56\n",
      "  54798 41896        0.5315     7        0.5347        0.5206   427165    2.62%         rho_111 D  54798  54796     90\n",
      "  55355 42304        0.5319    14        0.5347        0.5207   431717    2.62%          rho_79 U  55355  55353     56\n",
      "  55856 42636        0.5209    33        0.5347        0.5207   436310    2.62%         rho_122 D  55856  55855     24\n",
      "  56434 43041        0.5340    10        0.5347        0.5207   440653    2.62%        alpha_33 D  56434  56433     80\n",
      "  56912 43382        0.5291    27        0.5347        0.5207   445340    2.62%          rho_38 D  56912  56911     59\n",
      "  57363 43659        0.5240    28        0.5347        0.5207   449695    2.62%           rho_8 D  57363  57362     46\n",
      "Elapsed time = 56.38 sec. (79891.08 ticks, tree = 194.07 MB, solutions = 16)\n",
      "  57856 43973        0.5309    19        0.5347        0.5207   454290    2.62%          rho_59 D  57856  57854     61\n",
      "  58375 44325        0.5208    27        0.5347        0.5207   458936    2.62%           rho_2 U  58375  18877     15\n",
      "  58952 44735        0.5303    15        0.5347        0.5207   463802    2.62%          rho_98 U  58952  58951     58\n",
      "  59479 45099        cutoff              0.5347        0.5207   468201    2.62%          rho_24 U  59479  59478     37\n",
      "  60000 45476        0.5346     8        0.5347        0.5207   473396    2.62%          rho_79 U  60000  59999     85\n",
      "  60523 45843        0.5240    19        0.5347        0.5207   478530    2.62%         rho_134 D  60523  60521     74\n",
      "  60968 46172        cutoff              0.5347        0.5207   483776    2.62%          rho_15 U  60968  60966     35\n",
      "  61487 46575        cutoff              0.5347        0.5207   489180    2.62%          rho_24 U  61487  61486     44\n",
      "  61961 46941        cutoff              0.5347        0.5207   494594    2.62%          rho_12 U  61961  61959     33\n",
      "  63746 48259        0.5318    15        0.5347        0.5207   515363    2.62%          rho_90 D  63746  63744     56\n",
      "Elapsed time = 64.09 sec. (92339.46 ticks, tree = 196.17 MB, solutions = 16)\n",
      "  65950 49755        cutoff              0.5347        0.5207   533485    2.62%         rho_135 U  65950  65949     79\n",
      "  67906 50969        0.5226    22        0.5347        0.5207   552072    2.62%          rho_39 D  67906  67905     74\n",
      "  70000 52477        0.5248    23        0.5347        0.5207   571690    2.62%           rho_5 D  70000  69999     62\n",
      "  71997 54010        0.5213    24        0.5347        0.5207   592442    2.62%          rho_37 D  71997  71996     57\n",
      "  74070 55635        0.5209    33        0.5347        0.5207   612083    2.62%          rho_34 D  74070  74068     40\n",
      "  76088 57096        cutoff              0.5347        0.5207   631933    2.62%         rho_135 U  76088  76087     74\n",
      "  78142 58513        0.5243    14        0.5347        0.5207   650771    2.62%          rho_73 D  78142  78141     77\n",
      "  80120 59895        0.5209    28        0.5347        0.5207   670574    2.62%          rho_16 D  80120  80119     36\n"
     ]
    },
    {
     "name": "stdout",
     "output_type": "stream",
     "text": [
      "  82097 61282        0.5207    36        0.5347        0.5207   690036    2.62%           rho_0 U  82097  82096     34\n",
      "  84010 62633        0.5300    16        0.5347        0.5207   708736    2.62%          rho_34 U  84010  84009     26\n",
      "Elapsed time = 86.13 sec. (130506.51 ticks, tree = 202.97 MB, solutions = 16)\n",
      "  86001 63751        0.5227    14        0.5347        0.5207   723982    2.62%          rho_77 U  86001  86000     75\n",
      "  87980 64905        0.5325    14        0.5347        0.5207   740658    2.62%          rho_76 D  87980  87979    101\n",
      "  89912 66297        cutoff              0.5347        0.5207   758822    2.62%           rho_6 U  89912  89910     64\n",
      "  91910 67667        0.5218    18        0.5347        0.5207   776197    2.62%          rho_31 D  91910  91908     60\n",
      "  93945 69161        0.5317    12        0.5347        0.5207   794006    2.62%          rho_76 D  93945  93943     95\n",
      "  96032 70611        0.5237    16        0.5347        0.5207   810878    2.62%         rho_135 D  96032  96030     83\n",
      "  98000 72105        0.5283    16        0.5347        0.5207   828887    2.62%         rho_140 D  98000  97999     89\n",
      " 100321 73615        cutoff              0.5347        0.5207   844774    2.62%          rho_76 U 100321 100320    109\n",
      " 102270 74890        0.5209    31        0.5347        0.5207   862856    2.62%          rho_28 D 102270 102269     49\n",
      " 104070 75962        0.5276    14        0.5347        0.5207   879974    2.62%          rho_58 D 104070 104068     47\n",
      "Elapsed time = 109.63 sec. (168674.09 ticks, tree = 212.31 MB, solutions = 16)\n",
      " 106052 77170        0.5262    16        0.5347        0.5207   896786    2.62%          rho_11 D 106052 106050     38\n",
      " 108002 78370        0.5223    22        0.5347        0.5207   913764    2.62%           rho_5 U 108002 107999     59\n",
      " 109814 79624        0.5249    19        0.5347        0.5207   932728    2.62%          rho_73 D 109814 109813     75\n",
      " 111627 80866        cutoff              0.5347        0.5207   952328    2.62%           rho_9 U 111627 111624     58\n",
      " 113501 82100        0.5207    32        0.5347        0.5207   970386    2.62%           rho_0 D 113501 113231     41\n",
      " 115285 83253        0.5262    20        0.5347        0.5207   989338    2.62%          rho_40 D 115285 115284     81\n",
      " 117014 84363        0.5309    20        0.5347        0.5207  1007109    2.62%          rho_28 D 117014 117013    104\n",
      " 118825 85488        0.5227    13        0.5347        0.5207  1024745    2.62%          rho_38 D 118825 118824     61\n",
      " 120812 86715        cutoff              0.5347        0.5207  1041561    2.62%          rho_49 U 120812 120810     42\n",
      " 122684 87902        0.5207    33        0.5347        0.5207  1059362    2.62%         rho_139 U 122684 122346     28\n",
      "Elapsed time = 133.88 sec. (206867.17 ticks, tree = 218.08 MB, solutions = 16)\n",
      " 124507 89046        0.5218    16        0.5347        0.5207  1076970    2.62%          rho_79 U 124507 124506     64\n",
      " 126430 90256        0.5290    19        0.5347        0.5207  1093813    2.62%          rho_61 D 126430 126428     87\n",
      " 128587 91769        cutoff              0.5347        0.5207  1110244    2.62%         rho_134 U 128587 128586     77\n",
      " 130578 93076        0.5207    36        0.5347        0.5207  1127213    2.62%          rho_36 U 130578 122394     30\n",
      " 132314 94367        0.5209    27        0.5347        0.5207  1148006    2.62%          rho_29 D 132314 132313     30\n",
      " 134286 95520        0.5332    15        0.5347        0.5207  1164744    2.62%          rho_65 D 134286 134284    125\n",
      " 136301 96600        0.5261    26        0.5347        0.5207  1180871    2.62%          rho_41 D 136301 136299     91\n",
      " 138220 97649        0.5215    25        0.5347        0.5207  1196909    2.62%          rho_36 D 138220 138219     24\n",
      " 140123 99030        0.5212    29        0.5347        0.5207  1215780    2.62%          rho_15 D 140123 140122     41\n",
      " 142056 100392        0.5269    14        0.5347        0.5207  1234536    2.62%          rho_60 D 142056 142054     60\n",
      "Elapsed time = 154.70 sec. (245031.39 ticks, tree = 224.06 MB, solutions = 16)\n",
      " 144090 101797        0.5210    33        0.5347        0.5207  1252666    2.62%          rho_11 D 144090 144089     54\n",
      " 146142 103138        0.5238    22        0.5347        0.5207  1268037    2.62%         rho_134 D 146142 146140     78\n",
      " 148148 104422        cutoff              0.5347        0.5207  1283734    2.62%          rho_94 U 148148 148146     94\n",
      " 150005 105549        0.5208    30        0.5347        0.5207  1299201    2.62%         rho_106 D 150005 150004     29\n",
      " 151729 106646        0.5273    14        0.5347        0.5207  1316652    2.62%          rho_60 D 151729 151728     76\n",
      " 153488 107744        cutoff              0.5347        0.5207  1334258    2.62%          rho_49 U 153488 153486     39\n",
      " 155139 108807        cutoff              0.5347        0.5207  1352613    2.62%          rho_26 U 155139 155137     39\n",
      " 156758 109932        0.5225    19        0.5347        0.5207  1371840    2.62%         rho_136 D 156758 156757     70\n",
      " 158314 111052        0.5214    19        0.5347        0.5207  1391258    2.62%          rho_58 D 158314 158312     64\n",
      " 159904 112179        0.5231    19        0.5347        0.5207  1409789    2.62%         rho_135 D 159904 159902     68\n",
      "Elapsed time = 175.67 sec. (283196.44 ticks, tree = 229.88 MB, solutions = 16)\n",
      " 161578 113337        cutoff              0.5347        0.5207  1428467    2.62%          rho_42 U 161578 161577     92\n",
      " 163276 114470        cutoff              0.5347        0.5207  1446422    2.62%          rho_20 U 163276 163274     44\n",
      " 164940 115578        0.5217    27        0.5347        0.5207  1462245    2.62%          rho_37 D 164940 164939     61\n",
      " 166740 116789        0.5271    20        0.5347        0.5207  1478073    2.62%          rho_61 D 166740 166738     88\n",
      " 168600 117961        0.5214    22        0.5347        0.5207  1493143    2.62%          rho_37 D 168600 168599     53\n",
      " 170572 119375        0.5207    25        0.5347        0.5207  1508883    2.62%          rho_98 D 170572 170571     27\n",
      " 172525 120800        0.5291     9        0.5347        0.5207  1524658    2.62%          rho_15 D 172525 172524     42\n",
      " 174351 122096        0.5238    21        0.5347        0.5207  1540777    2.62%         rho_134 D 174351 174350     83\n",
      " 176194 123424        cutoff              0.5347        0.5207  1557483    2.62%          rho_58 U 176194 176193     64\n",
      " 178081 124782        0.5319    13        0.5347        0.5207  1575074    2.62%          rho_81 U 178081 178080     84\n",
      "Elapsed time = 196.64 sec. (321381.18 ticks, tree = 236.18 MB, solutions = 16)\n",
      " 179998 126169        cutoff              0.5347        0.5207  1591088    2.62%         rho_101 U 179998 179996     46\n",
      "\n",
      "User cuts applied:  1048\n",
      "\n",
      "Root node processing (before b&c):\n",
      "  Real time             =    0.47 sec. (309.18 ticks)\n",
      "Sequential b&c:\n",
      "  Real time             =  199.55 sec. (327484.18 ticks)\n",
      "                          ------------\n",
      "Total (root+branch&cut) =  200.02 sec. (327793.36 ticks)\n",
      "+----------------------------------------------+------------------+-----------+\n",
      "| Pr(Y = +1) = 1.0/(1.0 + exp(-(-4 + score))   |                  |           |\n",
      "| ============================================ | ================ | ========= |\n",
      "| age_at_current_charge<=19                    |         1 points |   + ..... |\n",
      "| age_at_current_charge<=62                    |         1 points |   + ..... |\n",
      "| p_arrest>=1                                  |         1 points |   + ..... |\n",
      "| p_arrest>=2                                  |         1 points |   + ..... |\n",
      "| p_arrest>=3                                  |         1 points |   + ..... |\n",
      "| p_arrest>=5                                  |         1 points |   + ..... |\n",
      "| p_probation>=12                              |         1 points |   + ..... |\n",
      "| ============================================ | ================ | ========= |\n",
      "| ADD POINTS FROM ROWS 1 to 7                  |            SCORE |   = ..... |\n",
      "+----------------------------------------------+------------------+-----------+\n",
      "setting c0 = 0.0 to ensure that intercept is not penalized\n",
      "07/15/19 @ 10:35 PM | switching loss computation from normal to lookup\n"
     ]
    },
    {
     "name": "stdout",
     "output_type": "stream",
     "text": [
      "07/15/19 @ 10:35 PM | 1631 rows in lookup table\n",
      "07/15/19 @ 10:35 PM | ------------------------------------------------------------\n",
      "07/15/19 @ 10:35 PM | runnning initialization procedure\n",
      "07/15/19 @ 10:35 PM | ------------------------------------------------------------\n",
      "07/15/19 @ 10:35 PM | CPA produced 2 cuts\n",
      "07/15/19 @ 10:35 PM | all CPA solutions are infeasible\n",
      "07/15/19 @ 10:35 PM | initialization produced 0 feasible solutions\n",
      "07/15/19 @ 10:35 PM | ------------------------------------------------------------\n",
      "07/15/19 @ 10:35 PM | completed initialization procedure\n",
      "07/15/19 @ 10:35 PM | ------------------------------------------------------------\n",
      "07/15/19 @ 10:35 PM | switching loss computation from normal to lookup\n",
      "07/15/19 @ 10:35 PM | 1631 rows in lookup table\n",
      "CPXPARAM_Read_DataCheck                          1\n",
      "CPXPARAM_Threads                                 1\n",
      "CPXPARAM_Parallel                                1\n",
      "CPXPARAM_RandomSeed                              0\n",
      "CPXPARAM_TimeLimit                               200\n",
      "CPXPARAM_MIP_Tolerances_LowerCutoff              0.51960767951153464\n",
      "CPXPARAM_MIP_Tolerances_UpperCutoff              85.448757644744433\n"
     ]
    },
    {
     "name": "stderr",
     "output_type": "stream",
     "text": [
      "Warning: Control callbacks may disable some MIP features.\n"
     ]
    },
    {
     "name": "stdout",
     "output_type": "stream",
     "text": [
      "Lazy constraint(s) or lazy constraint callback is present.\n",
      "    Disabling dual reductions (CPX_PARAM_REDUCE) in presolve.\n",
      "    Disabling non-linear reductions (CPX_PARAM_PRELINEAR) in presolve.\n",
      "         Disabling repeat represolve because of lazy constraint/incumbent callback.\n",
      "Tried aggregator 1 time.\n",
      "MIP Presolve eliminated 1 rows and 2 columns.\n",
      "MIP Presolve modified 155 coefficients.\n",
      "Reduced MIP has 156 rows, 312 columns, and 465 nonzeros.\n",
      "Reduced MIP has 155 binaries, 156 generals, 0 SOSs, and 0 indicators.\n",
      "Presolve time = 0.00 sec. (0.39 ticks)\n",
      "Probing time = 0.00 sec. (0.03 ticks)\n",
      "MIP emphasis: balance optimality and feasibility.\n",
      "MIP search method: traditional branch-and-cut.\n",
      "Parallel mode: none, using 1 thread.\n",
      "Root relaxation solution time = 0.00 sec. (0.18 ticks)\n",
      "07/15/19 @ 10:35 PM | adding 354 initial cuts\n",
      "\n",
      "        Nodes                                         Cuts/\n",
      "   Node  Left     Objective  IInf  Best Integer    Best Bound    ItCnt     Gap         Variable B NodeID Parent  Depth\n",
      "\n",
      "      0     0        0.5196    57                      0.5196        1         \n",
      "*     0+    0                            0.9114        0.5196            42.99%\n",
      "*     0+    0                            0.5740        0.5196             9.47%\n",
      "*     0+    0                            0.5582        0.5196             6.91%\n",
      "      0     2        0.5196    53        0.5582        0.5196        1    6.91%                        0             0\n",
      "Elapsed time = 0.69 sec. (336.82 ticks, tree = 0.01 MB, solutions = 3)\n",
      "*    10+   10                            0.5460        0.5196             4.84%\n",
      "     20    22        0.5198    46        0.5460        0.5196      631    4.84%         alpha_4 D     20     19     14\n",
      "*    40+   40                            0.5449        0.5196             4.64%\n",
      "*    40+   40                            0.5441        0.5196             4.49%\n",
      "    111    93        0.5228    24        0.5441        0.5196     1837    4.49%         rho_101 D    111    110     29\n",
      "    225   199        0.5198    46        0.5441        0.5196     2948    4.49%          rho_31 U    225    224      4\n",
      "    355   317        0.5207    39        0.5441        0.5196     4883    4.49%         rho_106 D    355    354      7\n",
      "    530   483        0.5217    32        0.5441        0.5196     6475    4.49%          rho_27 D    530    529     21\n",
      "    684   621        0.5199    50        0.5441        0.5196     8114    4.49%          rho_30 U    684    313      8\n",
      "    880   797        0.5200    44        0.5441        0.5196     9740    4.49%           rho_0 U    880    879      9\n",
      "*  1070+  947                            0.5407        0.5196             3.90%\n",
      "*  1080+  957                            0.5407        0.5196             3.89%\n",
      "   1080   959        0.5207    34        0.5407        0.5196    11654    3.89%         rho_102 D   1080   1079     21\n",
      "   1242  1117        0.5300    14        0.5407        0.5196    12647    3.89%          rho_64 D   1242   1241    110\n",
      "*  1940+ 1767                            0.5406        0.5196             3.88%\n",
      "   1950  1773        0.5199    49        0.5406        0.5196    18695    3.88%           rho_0 U   1950   1949      9\n",
      "Elapsed time = 4.41 sec. (3470.94 ticks, tree = 3.03 MB, solutions = 9)\n",
      "*  2430+ 2208                            0.5400        0.5197             3.76%\n",
      "*  2450+ 2225                            0.5399        0.5197             3.76%\n",
      "   2610  2371        0.5201    42        0.5399        0.5197    24141    3.76%          rho_27 U   2610   1514      7\n",
      "*  2710+ 2449                            0.5386        0.5197             3.51%\n",
      "*  2780+ 2500                            0.5381        0.5197             3.43%\n",
      "*  2800+ 2512                            0.5376        0.5197             3.34%\n",
      "*  2860+ 2548                            0.5370        0.5197             3.23%\n",
      "   3214  2860        0.5199    44        0.5370        0.5197    29023    3.22%          rho_26 U   3214   1385      7\n",
      "*  3320+ 2875                            0.5337        0.5197             2.62%\n",
      "   3880  3297        0.5209    17        0.5337        0.5198    34566    2.61%          rho_26 D   3880   3879     32\n",
      "   4673  3926        0.5220    15        0.5337        0.5198    39782    2.61%          rho_59 D   4673   4672     61\n",
      "   5400  4475        0.5205    36        0.5337        0.5198    45725    2.61%          rho_26 D   5400   3412     10\n",
      "   6310  5273        0.5231    13        0.5337        0.5198    53000    2.60%          rho_11 D   6310   6309     79\n",
      "   7282  6069        0.5201    38        0.5337        0.5198    60614    2.60%          rho_28 U   7282   4851     12\n",
      "   8230  6906        0.5220    27        0.5337        0.5198    68231    2.60%         rho_106 D   8230   8229     25\n",
      "   9099  7668        0.5225    22        0.5337        0.5199    75182    2.59%          rho_25 D   9099   9097     46\n",
      "  10049  8410        0.5209    22        0.5337        0.5199    81822    2.59%          rho_94 U  10049  10048     36\n",
      "Elapsed time = 12.58 sec. (13043.37 ticks, tree = 31.99 MB, solutions = 16)\n",
      "  10938  9165        0.5227    23        0.5337        0.5199    88259    2.59%          rho_19 D  10938  10937     37\n",
      "  11796  9879        cutoff              0.5337        0.5199    95418    2.59%          rho_88 U  11796  11795     88\n",
      "  12642 10563        0.5221    30        0.5337        0.5199   101683    2.58%          rho_24 D  12642  12641     33\n",
      "  13477 11238        0.5204    31        0.5337        0.5199   108126    2.58%         rho_106 D  13477  13476     23\n",
      "  14398 12050        cutoff              0.5337        0.5199   115437    2.58%         rho_108 U  14398  14397    109\n",
      "  15247 12778        0.5204    38        0.5337        0.5199   122100    2.58%         rho_110 D  15247  15246     15\n",
      "  16172 13580        0.5208    28        0.5337        0.5199   128799    2.58%         rho_106 D  16172  16171     25\n",
      "  17028 14295        0.5217    30        0.5337        0.5199   135725    2.58%          rho_28 D  17028  17027     27\n",
      "  17934 15083        0.5220    23        0.5337        0.5199   142682    2.58%          rho_98 D  17934  17933     29\n",
      "  18739 15761        cutoff              0.5337        0.5199   149173    2.58%          rho_45 D  18739  18737     95\n",
      "Elapsed time = 20.69 sec. (22589.00 ticks, tree = 67.67 MB, solutions = 16)\n",
      "  19627 16521        0.5337     6        0.5337        0.5200   155910    2.57%          rho_25 U  19627  19625     75\n",
      "  20483 17144        0.5237    13        0.5337        0.5200   161795    2.57%          rho_11 D  20483  20482     53\n",
      "  21366 17898        0.5231     9        0.5337        0.5200   168339    2.57%         rho_103 D  21366  21365     83\n",
      "  22120 18521        0.5203    43        0.5337        0.5200   175199    2.57%         rho_122 D  22120  22119      9\n",
      "* 22794 19093      integral     0        0.5337        0.5200   180262    2.57%\n",
      "  22974 19246        0.5212    31        0.5337        0.5200   181701    2.57%           rho_5 U  22974  22971     25\n",
      "  23751 19868        0.5213    18        0.5337        0.5200   188454    2.57%          rho_60 D  23751  23750     47\n",
      "  24607 20585        0.5328    11        0.5337        0.5200   195570    2.57%         rho_135 U  24607  24606     81\n",
      "  25427 21253        0.5221    22        0.5337        0.5200   201952    2.56%           rho_4 U  25427  25425     19\n",
      "  26213 21905        cutoff              0.5337        0.5200   208075    2.56%         rho_134 U  26213  26212     96\n",
      "  27049 22627        0.5269    10        0.5337        0.5200   214150    2.56%           rho_7 D  27049  27048     90\n",
      "Elapsed time = 26.98 sec. (32133.02 ticks, tree = 80.80 MB, solutions = 17)\n",
      "  27784 23229        0.5212    33        0.5337        0.5200   220539    2.56%         rho_122 U  27784  14225     14\n",
      "  28591 23846        cutoff              0.5337        0.5200   226623    2.56%        alpha_82 D  28591  28590    118\n",
      "  29357 24491        0.5210    32        0.5337        0.5200   232566    2.56%          rho_49 D  29357  29356     25\n",
      "  30125 25107        0.5257     9        0.5337        0.5200   238596    2.56%          rho_10 D  30125  30124     56\n",
      "  30960 25808        0.5276    14        0.5337        0.5200   244320    2.56%          rho_35 U  30960  30959     98\n",
      "  31742 26419        cutoff              0.5337        0.5200   250034    2.56%           rho_4 U  31742  31739     20\n",
      "  32516 27047        0.5218    14        0.5337        0.5200   256446    2.55%          rho_19 U  32516  32515     49\n",
      "  33320 27685        0.5270    10        0.5337        0.5201   262088    2.55%          rho_35 U  33320  33319     92\n",
      "  34128 28329        cutoff              0.5337        0.5201   267574    2.55%         rho_123 U  34128  34127     84\n",
      "  35012 29060        0.5312    10        0.5337        0.5201   273459    2.55%          rho_26 U  35012  35009     15\n",
      "Elapsed time = 33.33 sec. (41693.48 ticks, tree = 83.33 MB, solutions = 17)\n",
      "  35766 29666        cutoff              0.5337        0.5201   279102    2.55%         rho_134 U  35766  35765     83\n",
      "  36460 30225        0.5218    30        0.5337        0.5201   285008    2.55%          rho_24 D  36460  36459     29\n",
      "  37255 30928        0.5277     5        0.5337        0.5201   290931    2.55%        alpha_91 U  37255  37254     90\n",
      "  38012 31587        cutoff              0.5337        0.5201   296694    2.55%         rho_136 U  38012  38011     75\n",
      "  38639 32097        0.5208    32        0.5337        0.5201   302356    2.55%          rho_30 D  38639  38638     26\n",
      "  39335 32626        cutoff              0.5337        0.5201   308395    2.55%          rho_60 U  39335  39334     69\n",
      "  40051 33206        0.5220    10        0.5337        0.5201   314159    2.55%          rho_14 D  40051  40050     60\n",
      "  40767 33727        0.5241    15        0.5337        0.5201   319554    2.55%          rho_35 D  40767  40766     91\n",
      "  41537 34335        cutoff              0.5337        0.5201   325462    2.55%         rho_134 U  41537  41536     92\n",
      "  42143 34780        0.5227    16        0.5337        0.5201   330813    2.55%          rho_20 D  42143  42142     31\n",
      "Elapsed time = 39.28 sec. (51246.82 ticks, tree = 87.05 MB, solutions = 17)\n",
      "  42920 35382        0.5205    25        0.5337        0.5201   336152    2.55%          rho_31 D  42920  42919     27\n",
      "  43626 35945        0.5221    17        0.5337        0.5201   341776    2.55%         rho_101 D  43626  43625     51\n",
      "  44374 36530        0.5210    19        0.5337        0.5201   347642    2.55%          rho_38 D  44374  44373     44\n",
      "  45119 37156        0.5325     5        0.5337        0.5201   353788    2.54%          rho_70 D  45119  45117     94\n",
      "  45820 37723        0.5216    26        0.5337        0.5201   358793    2.54%         rho_139 D  45820  45819     30\n",
      "  46598 38342        0.5259    13        0.5337        0.5201   364084    2.54%          rho_37 D  46598  46597     50\n",
      "  47310 38910        0.5256     6        0.5337        0.5201   369129    2.54%         rho_123 D  47310  47309     86\n",
      "  48098 39571        0.5216    13        0.5337        0.5201   374571    2.54%          rho_32 D  48098  48097     67\n",
      "  48796 40067        cutoff              0.5337        0.5201   379306    2.54%         rho_138 D  48796  48794     23\n",
      "  49533 40703        0.5322     6        0.5337        0.5201   384324    2.54%          rho_85 U  49533  49532     66\n",
      "Elapsed time = 45.50 sec. (60795.16 ticks, tree = 89.49 MB, solutions = 17)\n",
      "  50234 41254        0.5208    28        0.5337        0.5201   389796    2.54%          rho_49 D  50234  50233     36\n",
      "  50913 41762        cutoff              0.5337        0.5201   394947    2.54%         rho_112 U  50913  50912     99\n",
      "  51520 42222        0.5228    19        0.5337        0.5201   400188    2.54%           rho_3 D  51520  51519     40\n",
      "  52165 42708        cutoff              0.5337        0.5201   404946    2.54%         rho_109 D  52165  52164    100\n",
      "  52849 43224        0.5223    24        0.5337        0.5201   409816    2.54%           rho_2 D  52849  52848     20\n",
      "  53497 43754        0.5219    32        0.5337        0.5201   415052    2.54%         rho_104 D  53497  53496     35\n",
      "  54173 44319        cutoff              0.5337        0.5201   420125    2.54%          rho_38 U  54173  54172     52\n",
      "  54812 44778        0.5226    16        0.5337        0.5201   424802    2.54%          rho_16 D  54812  54810     40\n",
      "  55449 45312        0.5334    12        0.5337        0.5201   429787    2.54%          rho_82 D  55449  55448     81\n",
      "  56041 45788        0.5224    23        0.5337        0.5201   434470    2.54%          rho_77 U  56041  56039     42\n",
      "Elapsed time = 51.58 sec. (70339.30 ticks, tree = 91.68 MB, solutions = 17)\n",
      "  56632 46217        0.5216    27        0.5337        0.5201   439530    2.54%         rho_122 U  56632  29346     15\n",
      "  57250 46686        0.5282    14        0.5337        0.5201   444467    2.54%          rho_14 D  57250  57248     31\n",
      "  57803 47034        0.5222    24        0.5337        0.5202   448843    2.54%         rho_138 D  57803  57802     14\n",
      "  58508 47628        cutoff              0.5337        0.5202   453806    2.54%          rho_40 U  58508  58507     70\n",
      "  59180 48193        0.5210    25        0.5337        0.5202   458859    2.53%         rho_122 D  59180  59179     16\n",
      "  59717 48594        0.5211    28        0.5337        0.5202   463754    2.53%         rho_110 U  59717  57219     13\n",
      "  60358 49106        0.5234    18        0.5337        0.5202   468774    2.53%          rho_18 D  60358  60357     41\n",
      "  60930 49562        0.5244    19        0.5337        0.5202   473652    2.53%         rho_135 D  60930  60928     80\n",
      "  61619 50038        0.5210    18        0.5337        0.5202   478075    2.53%         rho_103 D  61619  61618     59\n",
      "  62210 50493        0.5218    28        0.5337        0.5202   482923    2.53%         rho_110 D  62210  62209     26\n",
      "Elapsed time = 57.88 sec. (79897.31 ticks, tree = 93.79 MB, solutions = 17)\n",
      "  62830 50983        0.5318     5        0.5337        0.5202   487779    2.53%         rho_130 D  62830  62829     48\n",
      "  63548 51614        0.5205    29        0.5337        0.5202   492920    2.53%           rho_0 U  63548  63547     32\n",
      "  64210 52142        0.5311     0        0.5337        0.5202   497834    2.53%           rho_2 D  64210  64209     34\n",
      "  64873 52690        0.5212    23        0.5337        0.5202   503054    2.53%          rho_17 D  64873  64872     48\n",
      "  65507 53201        0.5249    25        0.5337        0.5202   508090    2.53%          rho_10 D  65507  65506     68\n",
      "  66184 53773        0.5211    17        0.5337        0.5202   512835    2.53%          rho_17 D  66184  66183     48\n",
      "  66794 54228        0.5208    15        0.5337        0.5202   517493    2.53%         rho_104 U  66794  66793     50\n",
      "  67464 54782        0.5260    18        0.5337        0.5202   522310    2.53%           rho_8 D  67464  67462     76\n",
      "  68088 55323        0.5230    13        0.5337        0.5202   527560    2.53%          rho_37 D  68088  68087     68\n",
      "  70706 57359        0.5244    11        0.5337        0.5202   547165    2.53%           rho_5 D  70706  70705     17\n",
      "Elapsed time = 65.52 sec. (92305.69 ticks, tree = 96.89 MB, solutions = 17)\n",
      "  73118 59139        0.5205    34        0.5337        0.5202   564797    2.53%           rho_1 D  73118  73117     19\n",
      "  75529 61010        0.5215    16        0.5337        0.5202   583371    2.52%          rho_15 D  75529  75528     35\n",
      "  78056 63059        0.5233    20        0.5337        0.5202   602110    2.52%          rho_59 D  78056  78055     52\n",
      "  80247 64694        0.5232    18        0.5337        0.5202   619141    2.52%          rho_17 D  80247  80246     34\n",
      "* 82000+65851                            0.5336        0.5202             2.50%\n",
      "* 82000+65739                            0.5334        0.5202             2.48%\n",
      "  82270 65920        0.5239    19        0.5334        0.5202   634702    2.48%         rho_110 D  82270  82269     15\n",
      "  84379 67566        0.5222    27        0.5334        0.5202   651148    2.47%         rho_106 D  84379  84378     23\n",
      "  86583 69202        0.5294    17        0.5334        0.5202   668688    2.47%         rho_136 U  86583  86582     71\n"
     ]
    },
    {
     "name": "stdout",
     "output_type": "stream",
     "text": [
      "  88726 70870        0.5221    23        0.5334        0.5202   685962    2.47%         rho_110 U  88726  60941     23\n",
      "  90859 72509        0.5210    28        0.5334        0.5203   702815    2.47%         rho_139 D  90859  90858     37\n",
      "  93140 74370        0.5214    13        0.5334        0.5203   720274    2.47%         rho_103 D  93140  93139     64\n",
      "Elapsed time = 89.86 sec. (130472.85 ticks, tree = 107.18 MB, solutions = 19)\n",
      "  95168 75824        0.5297    12        0.5334        0.5203   736515    2.47%         rho_143 D  95168  95167    110\n",
      "  97420 77580        0.5297    15        0.5334        0.5203   753033    2.47%         rho_143 D  97420  97419     95\n",
      "  99552 79159        cutoff              0.5334        0.5203   769277    2.47%          rho_66 U  99552  99551    107\n",
      " 101680 80662        0.5210    28        0.5334        0.5203   785690    2.47%         rho_110 D 101680 101679     19\n",
      " 103919 82366        0.5273    17        0.5334        0.5203   801820    2.47%          rho_26 D 103919 103918     77\n",
      " 106003 83940        0.5269    21        0.5334        0.5203   817998    2.47%         rho_135 U 106003 106002     62\n",
      " 108146 85537        0.5249    17        0.5334        0.5203   834203    2.47%          rho_70 D 108146 108145     81\n",
      " 110054 86765        0.5323    14        0.5334        0.5203   849161    2.47%         rho_125 D 110054 110053    103\n",
      " 112028 88094        cutoff              0.5334        0.5203   864429    2.47%         rho_102 U 112028 112026     29\n",
      " 114082 89659        0.5303    16        0.5334        0.5203   880707    2.47%         rho_135 D 114082 114080     79\n",
      "Elapsed time = 112.03 sec. (168633.39 ticks, tree = 114.54 MB, solutions = 19)\n",
      " 116006 91041        0.5267     9        0.5334        0.5203   895641    2.46%          rho_90 D 116006 116005     38\n",
      " 117879 92406        0.5211    18        0.5334        0.5203   910935    2.46%          rho_90 D 117879 117878     41\n",
      " 119859 93825        cutoff              0.5334        0.5203   925878    2.46%          rho_62 U 119859 119858     92\n",
      " 121709 95040        0.5226    23        0.5334        0.5203   939423    2.46%          rho_89 D 121709 121708     37\n",
      " 123669 96485        cutoff              0.5334        0.5203   954133    2.46%          rho_41 U 123669 123668     76\n",
      " 125526 97711        0.5245    20        0.5334        0.5203   968897    2.46%          rho_81 D 125526 125525     75\n",
      " 127490 99158        0.5277    16        0.5334        0.5203   984800    2.46%          rho_87 D 127490 127489     82\n",
      " 129298 100403        cutoff              0.5334        0.5203   999991    2.46%          rho_18 U 129298 129297     39\n",
      " 131229 101819        cutoff              0.5334        0.5203  1015422    2.46%         rho_134 U 131229 131228     77\n",
      " 133080 103204        0.5214    29        0.5334        0.5203  1030729    2.46%           rho_1 D 133080 133079     19\n",
      "Elapsed time = 134.41 sec. (206787.54 ticks, tree = 121.06 MB, solutions = 19)\n",
      " 134785 104345        cutoff              0.5334        0.5203  1045320    2.46%         rho_107 D 134785 134784     78\n",
      " 136569 105519        0.5229    17        0.5334        0.5203  1059622    2.46%          rho_39 D 136569 136568     67\n",
      " 138438 106808        cutoff              0.5334        0.5203  1074024    2.46%          rho_76 D 138438 138436     81\n",
      " 140214 108026        0.5204    35        0.5334        0.5203  1088539    2.46%          rho_20 U 140214  15164     24\n",
      " 141959 109241        cutoff              0.5334        0.5203  1102762    2.46%          rho_69 U 141959 141957     82\n",
      " 143667 110465        0.5230    23        0.5334        0.5203  1116934    2.46%          rho_20 D 143667 143666     37\n",
      " 145506 111722        0.5264    15        0.5334        0.5203  1131038    2.46%          rho_37 D 145506 145505     53\n",
      " 147330 113083        0.5223    13        0.5334        0.5203  1146079    2.46%         rho_104 D 147330 147329     63\n",
      " 149126 114357        0.5209    31        0.5334        0.5203  1160720    2.46%         rho_138 U 149126  73019     15\n",
      " 150676 115372        0.5220    29        0.5334        0.5203  1176285    2.45%         rho_106 U 150676   7364     25\n",
      "Elapsed time = 156.64 sec. (244963.53 ticks, tree = 126.97 MB, solutions = 19)\n",
      " 152341 116522        cutoff              0.5334        0.5203  1190545    2.45%          rho_58 U 152341 152338     31\n",
      " 154093 117788        cutoff              0.5334        0.5203  1205369    2.45%          rho_49 U 154093 154090     35\n",
      " 155628 118806        cutoff              0.5334        0.5203  1220253    2.45%          rho_98 D 155628 155627     53\n",
      " 157290 119899        0.5214    23        0.5334        0.5204  1234216    2.45%          rho_14 D 157290 157289     45\n",
      " 159189 121341        0.5282     9        0.5334        0.5204  1248676    2.45%          rho_18 D 159189 159187     39\n",
      " 160817 122404        0.5260    31        0.5334        0.5204  1262672    2.45%          rho_31 D 160817 160816     35\n",
      " 162350 123456        0.5328     5        0.5334        0.5204  1276348    2.45%          rho_77 D 162350 162348     25\n",
      " 164050 124689        cutoff              0.5334        0.5204  1289458    2.45%          rho_59 U 164050 164049     63\n",
      " 165558 125628        0.5224    29        0.5334        0.5204  1303260    2.45%          rho_49 D 165558 165557     16\n",
      " 167206 126759        cutoff              0.5334        0.5204  1316895    2.45%         rho_135 U 167206 167205     71\n",
      "Elapsed time = 179.02 sec. (283135.67 ticks, tree = 132.54 MB, solutions = 19)\n",
      " 168800 127779        0.5259    13        0.5334        0.5204  1329894    2.45%          rho_94 D 168800 168798     51\n",
      " 170341 128740        cutoff              0.5334        0.5204  1341874    2.45%           rho_8 D 170341 170340     60\n",
      " 171817 129717        0.5246    16        0.5334        0.5204  1354299    2.45%           rho_5 D 171817 171816     23\n",
      " 173278 130612        cutoff              0.5334        0.5204  1366202    2.45%          rho_12 U 173278 173276     28\n",
      " 174820 131617        0.5208    32        0.5334        0.5204  1378636    2.45%          rho_89 U 174820  77069     17\n",
      " 176353 132680        0.5219    16        0.5334        0.5204  1391792    2.45%          rho_98 D 176353 176352     48\n",
      " 177935 133750        0.5223    27        0.5334        0.5204  1405272    2.45%         rho_110 U 177935  20810     15\n",
      " 179509 134838        0.5262    15        0.5334        0.5204  1418112    2.45%          rho_98 D 179509 179507     45\n",
      " 181000 135704        0.5236    22        0.5334        0.5204  1430693    2.45%          rho_23 D 181000 180999     33\n",
      "\n",
      "User cuts applied:  1282\n",
      "\n",
      "Root node processing (before b&c):\n",
      "  Real time             =    0.69 sec. (336.92 ticks)\n",
      "Sequential b&c:\n",
      "  Real time             =  199.33 sec. (317761.21 ticks)\n",
      "                          ------------\n",
      "Total (root+branch&cut) =  200.02 sec. (318098.13 ticks)\n",
      "+----------------------------------------------+------------------+-----------+\n",
      "| Pr(Y = +1) = 1.0/(1.0 + exp(-(-2 + score))   |                  |           |\n",
      "| ============================================ | ================ | ========= |\n",
      "| age_at_current_charge<=18                    |         1 points |   + ..... |\n",
      "| p_arrest>=2                                  |         1 points |   + ..... |\n",
      "| p_arrest>=3                                  |         1 points |   + ..... |\n",
      "| p_arrest>=6                                  |         1 points |   + ..... |\n",
      "| ============================================ | ================ | ========= |\n",
      "| ADD POINTS FROM ROWS 1 to 4                  |            SCORE |   = ..... |\n",
      "+----------------------------------------------+------------------+-----------+\n",
      "setting c0 = 0.0 to ensure that intercept is not penalized\n",
      "07/15/19 @ 10:39 PM | switching loss computation from normal to lookup\n",
      "07/15/19 @ 10:39 PM | 1631 rows in lookup table\n",
      "07/15/19 @ 10:39 PM | ------------------------------------------------------------\n",
      "07/15/19 @ 10:39 PM | runnning initialization procedure\n",
      "07/15/19 @ 10:39 PM | ------------------------------------------------------------\n",
      "07/15/19 @ 10:39 PM | CPA produced 2 cuts\n",
      "07/15/19 @ 10:39 PM | running naive rounding on 1 solutions\n"
     ]
    },
    {
     "name": "stdout",
     "output_type": "stream",
     "text": [
      "07/15/19 @ 10:39 PM | best objective value: 0.8973\n",
      "07/15/19 @ 10:39 PM | rounding produced 1 integer solutions\n",
      "07/15/19 @ 10:39 PM | best objective value is 0.8279\n",
      "07/15/19 @ 10:39 PM | running sequential rounding on 1 solutions\n",
      "07/15/19 @ 10:39 PM | best objective value: 0.8973\n",
      "07/15/19 @ 10:39 PM | sequential rounding produced 1 integer solutions\n",
      "07/15/19 @ 10:39 PM | best objective value: 0.8279\n",
      "07/15/19 @ 10:39 PM | polishing 2 solutions\n",
      "07/15/19 @ 10:39 PM | best objective value: 0.8279\n",
      "07/15/19 @ 10:39 PM | polishing produced 1 integer solutions\n",
      "07/15/19 @ 10:39 PM | initialization produced 2 feasible solutions\n",
      "07/15/19 @ 10:39 PM | best objective value: 0.7535\n",
      "07/15/19 @ 10:39 PM | ------------------------------------------------------------\n",
      "07/15/19 @ 10:39 PM | completed initialization procedure\n",
      "07/15/19 @ 10:39 PM | ------------------------------------------------------------\n",
      "07/15/19 @ 10:39 PM | switching loss computation from normal to lookup\n",
      "07/15/19 @ 10:39 PM | 1631 rows in lookup table\n",
      "CPXPARAM_Read_DataCheck                          1\n",
      "CPXPARAM_Threads                                 1\n",
      "CPXPARAM_Parallel                                1\n",
      "CPXPARAM_RandomSeed                              0\n",
      "CPXPARAM_TimeLimit                               200\n",
      "CPXPARAM_MIP_Tolerances_LowerCutoff              0.51922349596416584\n",
      "CPXPARAM_MIP_Tolerances_UpperCutoff              0.75348343777829063\n"
     ]
    },
    {
     "name": "stderr",
     "output_type": "stream",
     "text": [
      "Warning: Control callbacks may disable some MIP features.\n"
     ]
    },
    {
     "name": "stdout",
     "output_type": "stream",
     "text": [
      "Lazy constraint(s) or lazy constraint callback is present.\n",
      "    Disabling dual reductions (CPX_PARAM_REDUCE) in presolve.\n",
      "    Disabling non-linear reductions (CPX_PARAM_PRELINEAR) in presolve.\n",
      "         Disabling repeat represolve because of lazy constraint/incumbent callback.\n",
      "07/15/19 @ 10:39 PM | adding 262 initial cuts\n",
      "1 of 1 MIP starts provided solutions.\n",
      "MIP start 'mip_start_0' defined initial solution with objective 0.7535.\n",
      "Tried aggregator 1 time.\n",
      "MIP Presolve eliminated 1 rows and 2 columns.\n",
      "MIP Presolve modified 155 coefficients.\n",
      "Reduced MIP has 156 rows, 312 columns, and 465 nonzeros.\n",
      "Reduced MIP has 155 binaries, 156 generals, 0 SOSs, and 0 indicators.\n",
      "Presolve time = 0.00 sec. (0.39 ticks)\n",
      "Probing time = 0.00 sec. (0.03 ticks)\n",
      "MIP emphasis: balance optimality and feasibility.\n",
      "MIP search method: traditional branch-and-cut.\n",
      "Parallel mode: none, using 1 thread.\n",
      "Root relaxation solution time = 0.00 sec. (0.18 ticks)\n",
      "\n",
      "        Nodes                                         Cuts/\n",
      "   Node  Left     Objective  IInf  Best Integer    Best Bound    ItCnt     Gap         Variable B NodeID Parent  Depth\n",
      "\n",
      "*     0+    0                            0.7535        0.5187            31.16%\n",
      "      0     0        0.5192     1        0.7535        0.5192        1   31.09%\n",
      "*     0+    0                            0.7051        0.5192            26.36%\n",
      "*     0+    0                            0.6026        0.5192            13.84%\n",
      "*     0+    0                            0.5999        0.5192            13.45%\n",
      "      0     2        0.5192     4        0.5999        0.5192        1   13.45%                        0             0\n",
      "Elapsed time = 0.41 sec. (7.49 ticks, tree = 0.01 MB, solutions = 4)\n",
      "*    10+   10                            0.5758        0.5192             9.83%\n",
      "*    30+   22                            0.5684        0.5192             8.64%\n",
      "*    30+   22                            0.5637        0.5192             7.89%\n",
      "    653   498        0.5566     5        0.5637        0.5192     3272    7.89%         rho_138 U    653    650     31\n",
      "*  1130+  812                            0.5613        0.5192             7.50%\n",
      "   1176   856        0.5461     1        0.5613        0.5192     6353    7.50%          rho_80 U   1176   1175     38\n",
      "*  1330+  825                            0.5500        0.5192             5.60%\n",
      "   1520   976        0.5320     0        0.5500        0.5192     8357    5.60%           rho_0 D   1520   1518     19\n",
      "   1900  1225        0.5396     0        0.5500        0.5192    11026    5.60%           rho_0 U   1900   1898     19\n",
      "   2240  1492        0.5223    23        0.5500        0.5192    13482    5.60%          rho_37 D   2240   2239     25\n",
      "   2650  1822        0.5365     8        0.5500        0.5192    16145    5.60%        alpha_32 D   2650   2649     79\n",
      "   2966  2021        0.5393    11        0.5500        0.5192    18831    5.60%          rho_44 D   2966   2965     34\n",
      "*  3260+ 2207                            0.5496        0.5192             5.52%\n",
      "   3270  2219        0.5229    17        0.5496        0.5192    21036    5.52%           rho_4 D   3270   3269     20\n",
      "*  3330+ 2053                            0.5441        0.5192             4.57%\n",
      "   3528  2230        0.5310     7        0.5441        0.5192    22942    4.57%           rho_0 U   3528   3527     30\n",
      "   4727  3018        0.5352     9        0.5441        0.5192    31259    4.57%          rho_37 U   4727   4726     48\n",
      "Elapsed time = 9.30 sec. (3126.16 ticks, tree = 1.35 MB, solutions = 11)\n",
      "   5939  3861        cutoff              0.5441        0.5192    39512    4.57%           rho_4 U   5939   5938     51\n",
      "   6854  4442        0.5429     7        0.5441        0.5192    47632    4.57%           rho_0 D   6854   6853     23\n",
      "   7808  5063        0.5192    11        0.5441        0.5192    54855    4.57%          rho_60 D   7808   7807     33\n",
      "   8750  5744        0.5384    21        0.5441        0.5192    62972    4.57%          rho_29 U   8750    111     20\n",
      "   9780  6509        0.5192     8        0.5441        0.5192    70246    4.57%          rho_49 U   9780   3643     13\n",
      "  10919  7384        0.5192    13        0.5441        0.5192    77106    4.57%          rho_35 D  10919  10918     68\n",
      "  11759  8078        0.5315    18        0.5441        0.5192    84117    4.57%           rho_5 U  11759  11758     80\n",
      "  12627  8649        0.5339    15        0.5441        0.5192    90447    4.57%          rho_86 D  12627  12626     94\n",
      "  13556  9254        0.5429    10        0.5441        0.5192    96851    4.57%          rho_70 D  13556  13555     86\n",
      "  14389  9842        0.5192    14        0.5441        0.5192   103218    4.57%          rho_27 U  14389  14388     39\n",
      "Elapsed time = 19.84 sec. (12677.03 ticks, tree = 4.77 MB, solutions = 11)\n",
      "  15092 10311        0.5192     4        0.5441        0.5192   110069    4.57%          rho_24 D  15092  15018     52\n",
      "  15825 10838        0.5192     5        0.5441        0.5192   117034    4.57%          rho_17 D  15825  15824     26\n",
      "  16544 11373        0.5241    20        0.5441        0.5192   123076    4.57%         rho_123 D  16544  16543     69\n",
      "  17169 11806        0.5404    18        0.5441        0.5192   129185    4.57%          rho_89 D  17169  17167     36\n",
      "  17854 12280        0.5423    16        0.5441        0.5192   135597    4.57%           rho_0 U  17854  17853     32\n",
      "  18551 12780        0.5351    11        0.5441        0.5192   141767    4.57%          rho_27 U  18551  18550     66\n",
      "  19156 13217        0.5335    14        0.5441        0.5192   147602    4.57%          rho_34 U  19156  19155     67\n",
      "  19697 13588        0.5316    19        0.5441        0.5192   153870    4.57%           rho_0 D  19697  19696     48\n",
      "  20355 14038        0.5434    19        0.5441        0.5192   160422    4.57%           rho_0 U  20355  20354     57\n",
      "  21009 14455        cutoff              0.5441        0.5192   166109    4.57%          rho_88 D  21009  21007     91\n",
      "Elapsed time = 26.83 sec. (22241.59 ticks, tree = 6.82 MB, solutions = 11)\n",
      "  21660 14885        0.5192     8        0.5441        0.5192   172279    4.57%          rho_24 U  21660  21658     55\n",
      "  22299 15339        0.5192     4        0.5441        0.5192   178645    4.57%           rho_0 D  22299  22297     38\n",
      "  22913 15685        0.5426     2        0.5441        0.5192   184096    4.57%          rho_77 U  22913  22912     68\n",
      "  23419 15974        0.5268    17        0.5441        0.5192   190577    4.57%          rho_69 U  23419  23416     67\n",
      "  23943 16214        0.5400    17        0.5441        0.5192   196021    4.57%          rho_34 D  23943  23942     56\n",
      "  24445 16503        0.5368    12        0.5441        0.5192   202184    4.57%           rho_0 U  24445  24444     48\n",
      "  25036 16852        0.5257    15        0.5441        0.5192   207835    4.57%          rho_19 U  25036  25033     58\n",
      "  25572 17182        0.5365     7        0.5441        0.5192   213460    4.57%          rho_77 D  25572  25571     62\n",
      "  26041 17437        0.5393    17        0.5441        0.5192   219358    4.57%          rho_70 D  26041  26040     47\n",
      "  26556 17714        0.5192    10        0.5441        0.5192   224941    4.57%           rho_0 D  26556  26554     53\n",
      "Elapsed time = 32.48 sec. (31794.65 ticks, tree = 8.97 MB, solutions = 11)\n",
      "  27078 17974        0.5307    18        0.5441        0.5192   230437    4.57%           rho_7 D  27078  27077     86\n",
      "  27657 18330        0.5353    15        0.5441        0.5192   235988    4.57%          rho_98 D  27657  27656     84\n",
      "  28233 18673        0.5196    16        0.5441        0.5192   241582    4.57%          rho_24 U  28233  28231     51\n",
      "  28798 19004        0.5344    15        0.5441        0.5192   247116    4.57%           rho_0 D  28798  28797     72\n",
      "  29426 19451        0.5398    17        0.5441        0.5192   253292    4.57%          rho_14 U  29426  29424     56\n",
      "  30025 19892        cutoff              0.5441        0.5192   259758    4.57%           rho_0 U  30025  30023     66\n",
      "  30599 20245        0.5428    12        0.5441        0.5192   265896    4.57%           rho_0 D  30599  30598     81\n",
      "  31220 20648        0.5426    13        0.5441        0.5192   272514    4.57%          rho_32 D  31220  31219    101\n",
      "  31775 21001        0.5439     6        0.5441        0.5192   278827    4.57%          rho_39 U  31775  31774     65\n",
      "  32365 21398        cutoff              0.5441        0.5192   285275    4.57%         rho_141 U  32365  32364     84\n",
      "Elapsed time = 38.53 sec. (41341.16 ticks, tree = 10.66 MB, solutions = 11)\n",
      "  32935 21761        0.5192    19        0.5441        0.5192   291719    4.57%          rho_58 D  32935  32934     53\n",
      "  33503 22098        cutoff              0.5441        0.5192   297645    4.57%           rho_0 U  33503  33501     48\n",
      "  33997 22428        0.5192     6        0.5441        0.5192   304320    4.57%          rho_24 U  33997  33995     41\n",
      "  34571 22799        0.5305    18        0.5441        0.5192   310176    4.57%           rho_5 D  34571  34570     71\n",
      "  35147 23182        cutoff              0.5441        0.5192   316598    4.57%           rho_0 U  35147  35146     54\n",
      "  35724 23542        cutoff              0.5441        0.5192   322828    4.57%           rho_0 U  35724  35723     44\n",
      "  36258 23838        0.5390    17        0.5441        0.5192   329068    4.57%          rho_41 D  36258  36256     51\n",
      "  36797 24196        0.5199    22        0.5441        0.5192   335555    4.57%          rho_20 D  36797  36796     61\n",
      "  37372 24604        0.5387    19        0.5441        0.5192   341561    4.57%           rho_0 U  37372  37371     46\n",
      "  37956 25019        cutoff              0.5441        0.5192   348143    4.57%          rho_40 U  37956  37955     76\n",
      "Elapsed time = 43.52 sec. (50901.61 ticks, tree = 12.32 MB, solutions = 11)\n",
      "  38477 25387        cutoff              0.5441        0.5192   354546    4.57%          rho_35 U  38477  38475     66\n",
      "  39037 25756        0.5192     4        0.5441        0.5192   360673    4.57%           rho_0 D  39037  39035     47\n",
      "  39573 26074        cutoff              0.5441        0.5192   366749    4.57%          rho_41 U  39573  39572     47\n",
      "  40069 26370        cutoff              0.5441        0.5192   372790    4.57%           rho_0 U  40069  40068     49\n",
      "  40584 26690        cutoff              0.5441        0.5192   379042    4.57%           rho_0 U  40584  40582     69\n",
      "  41092 26998        cutoff              0.5441        0.5192   385038    4.57%           rho_0 U  41092  41090     79\n",
      "  41653 27373        0.5192    19        0.5441        0.5192   391048    4.57%          rho_69 D  41653  41652     63\n",
      "  42170 27670        0.5256    13        0.5441        0.5192   396610    4.57%          rho_79 D  42170  42169     74\n",
      "  42735 28018        cutoff              0.5441        0.5192   402141    4.57%          rho_99 U  42735  42734     92\n",
      "  43290 28382        0.5303    15        0.5441        0.5192   408184    4.57%           rho_3 D  43290  43289     75\n",
      "Elapsed time = 48.50 sec. (60453.52 ticks, tree = 13.86 MB, solutions = 11)\n",
      "  43850 28748        0.5382    19        0.5441        0.5192   414027    4.57%          rho_27 D  43850  43848     47\n",
      "  44393 29109        0.5385    19        0.5441        0.5192   419984    4.57%          rho_14 D  44393  44392     74\n",
      "  44919 29439        0.5376    21        0.5441        0.5192   425621    4.57%          rho_40 D  44919  44917     75\n",
      "  45441 29768        cutoff              0.5441        0.5192   431395    4.57%         rho_143 D  45441  45439    105\n",
      "  45986 30129        0.5382    19        0.5441        0.5192   437174    4.57%           rho_0 U  45986  45985     39\n",
      "  46515 30426        0.5381    17        0.5441        0.5192   442813    4.57%           rho_2 D  46515  46513     80\n",
      "  47119 30865        0.5386    23        0.5441        0.5192   449230    4.57%           rho_0 U  47119  47118     53\n",
      "  47664 31205        cutoff              0.5441        0.5192   455220    4.57%         rho_111 U  47664  47663     59\n",
      "  48207 31544        0.5243    19        0.5441        0.5192   461423    4.57%         rho_123 D  48207  48206     72\n",
      "  48715 31875        cutoff              0.5441        0.5192   467725    4.57%          rho_40 U  48715  48714     80\n",
      "Elapsed time = 53.41 sec. (70012.37 ticks, tree = 15.47 MB, solutions = 11)\n",
      "  49243 32211        cutoff              0.5441        0.5192   473734    4.57%          rho_80 U  49243  49242    103\n",
      "  49755 32522        cutoff              0.5441        0.5192   480243    4.57%           rho_0 U  49755  49753     56\n",
      "  50273 32833        0.5195    20        0.5441        0.5192   486267    4.57%           rho_0 D  50273  50271     52\n",
      "  50786 33153        cutoff              0.5441        0.5192   492497    4.57%           rho_0 U  50786  50784     65\n",
      "  51300 33465        0.5192    15        0.5441        0.5192   498371    4.57%          rho_22 D  51300  51299     49\n",
      "  51774 33756        cutoff              0.5441        0.5192   505136    4.57%          rho_42 U  51774  51773     63\n",
      "  52298 34044        0.5383    18        0.5441        0.5192   511102    4.57%          rho_89 D  52298  52297     40\n",
      "  52835 34315        0.5276    21        0.5441        0.5192   516393    4.57%           rho_0 D  52835  52834     70\n",
      "  53382 34623        0.5427    11        0.5441        0.5192   522093    4.57%          rho_86 D  53382  53381     83\n",
      "  53866 34882        0.5244    18        0.5441        0.5192   527742    4.57%          rho_76 U  53866  53865     71\n",
      "Elapsed time = 58.30 sec. (79561.85 ticks, tree = 18.23 MB, solutions = 11)\n",
      "  54332 35168        0.5412     9        0.5441        0.5192   534558    4.57%          rho_11 U  54332  54330     62\n",
      "  54808 35421        cutoff              0.5441        0.5192   540228    4.57%         rho_141 U  54808  54807     79\n",
      "  55328 35745        0.5423    12        0.5441        0.5192   546003    4.57%          rho_98 D  55328  55326    105\n",
      "  55866 36055        0.5192     6        0.5441        0.5192   551036    4.57%          rho_21 U  55866  54550     57\n",
      "  56329 36320        cutoff              0.5441        0.5192   557363    4.57%          rho_27 U  56329  56328     57\n",
      "  56865 36629        0.5204    21        0.5441        0.5192   562806    4.57%          rho_85 D  56865  56864     70\n",
      "  57360 36930        0.5375     1        0.5441        0.5192   568420    4.57%           rho_0 D  57360  57359     86\n",
      "  57872 37208        0.5383    23        0.5441        0.5192   573291    4.57%          rho_89 D  57872  57871     64\n",
      "  58396 37502        cutoff              0.5441        0.5192   578204    4.57%           rho_0 U  58396  58395     58\n",
      "  60395 38645        cutoff              0.5441        0.5192   598533    4.57%           rho_0 U  60395  60393     52\n",
      "Elapsed time = 65.45 sec. (91988.31 ticks, tree = 19.96 MB, solutions = 11)\n",
      "  62264 39737        0.5214    21        0.5441        0.5192   619374    4.57%           rho_0 D  62264  62263     72\n",
      "  64270 40992        0.5192    10        0.5441        0.5192   640714    4.57%          rho_24 U  64270  64268     60\n",
      "  66299 42241        0.5437    10        0.5441        0.5192   662462    4.57%          rho_98 D  66299  66298     72\n",
      "  68301 43471        0.5347    21        0.5441        0.5192   685082    4.57%          rho_41 D  68301  68299     75\n",
      "  70273 44650        cutoff              0.5441        0.5192   709397    4.57%          rho_77 U  70273  70271     76\n",
      "  72389 45941        0.5367    15        0.5441        0.5192   733960    4.57%           rho_0 U  72389  72388     49\n",
      "  74255 47095        0.5382    23        0.5441        0.5192   756781    4.57%           rho_0 U  74255  74254     47\n",
      "  76266 48357        0.5203    18        0.5441        0.5192   780994    4.57%          rho_58 D  76266  76265     60\n",
      "  78230 49538        0.5428    12        0.5441        0.5192   804732    4.57%          rho_33 D  78230  78228     75\n",
      "  80328 50804        0.5197    21        0.5441        0.5192   830265    4.57%           rho_0 D  80328  80326     62\n",
      "Elapsed time = 84.77 sec. (130155.84 ticks, tree = 25.54 MB, solutions = 11)\n",
      "  82365 51938        0.5192     5        0.5441        0.5192   852864    4.57%           rho_0 D  82365  82363     43\n"
     ]
    },
    {
     "name": "stdout",
     "output_type": "stream",
     "text": [
      "  84483 53203        0.5192    11        0.5441        0.5192   875910    4.57%          rho_22 D  84483  84482     50\n",
      "  86538 54380        0.5197    19        0.5441        0.5192   898670    4.57%          rho_14 D  86538  86537     57\n",
      "  88559 55610        cutoff              0.5441        0.5192   923083    4.57%         rho_111 U  88559  88558     60\n",
      "  90523 56896        cutoff              0.5441        0.5192   948111    4.57%           rho_0 U  90523  90522     55\n",
      "  92759 58351        0.5192    11        0.5441        0.5192   972190    4.57%          rho_34 U  92759  92758     55\n",
      "* 92920+51469                            0.5409        0.5192             4.00%\n",
      "  95160 53201        0.5401     0        0.5409        0.5192   988297    4.00%         rho_102 D  95160  95158     43\n",
      "  97432 54693        cutoff              0.5409        0.5192  1004999    4.00%          rho_26 D  97432  97431     47\n",
      "  99310 55790        0.5373     8        0.5409        0.5192  1022087    4.00%           rho_0 U  99310  99309     54\n",
      " 101440 57096        0.5217    17        0.5409        0.5192  1040598    4.00%          rho_21 D 101440 101438     64\n",
      "Elapsed time = 107.55 sec. (168319.02 ticks, tree = 28.38 MB, solutions = 12)\n",
      " 103204 58126        0.5407    10        0.5409        0.5192  1059085    4.00%           rho_6 U 103204 103203     80\n",
      " 105370 59572        0.5390     8        0.5409        0.5192  1077574    4.00%         rho_143 D 105370 105368     99\n",
      " 107724 61023        0.5350     8        0.5409        0.5192  1093545    4.00%           rho_5 U 107724 107723     79\n",
      " 109990 62338        0.5377     7        0.5409        0.5192  1108611    4.00%           rho_0 U 109990 109989     61\n",
      " 112046 63458        0.5358    11        0.5409        0.5192  1125909    4.00%          rho_34 D 112046 112045     86\n",
      " 114124 64605        0.5408     3        0.5409        0.5192  1143234    4.00%          rho_72 D 114124 114123    101\n",
      " 116222 65820        0.5383     8        0.5409        0.5192  1160898    4.00%           rho_0 U 116222 116221     47\n",
      " 118110 66998        0.5367     7        0.5409        0.5192  1177770    4.00%           rho_0 U 118110 118109     41\n",
      " 120278 68464        0.5192    16        0.5409        0.5192  1197235    4.00%          rho_19 U 120278 120229     36\n",
      " 122111 69617        0.5373     4        0.5409        0.5192  1217707    4.00%           rho_0 U 122111 122110     32\n",
      "Elapsed time = 126.47 sec. (206493.53 ticks, tree = 37.00 MB, solutions = 12)\n",
      " 123957 70757        cutoff              0.5409        0.5192  1238002    4.00%          rho_85 U 123957 123956     57\n",
      " 125619 71784        cutoff              0.5409        0.5192  1258668    4.00%           rho_0 U 125619 125618     61\n",
      " 127200 72777        0.5384    13        0.5409        0.5192  1276858    4.00%          rho_22 D 127200 127199     72\n",
      " 128938 73839        cutoff              0.5409        0.5192  1297649    4.00%          rho_26 D 128938 128937     46\n",
      " 130750 74929        0.5251    20        0.5409        0.5192  1316888    4.00%          rho_11 D 130750 130749     65\n",
      " 132661 76182        cutoff              0.5409        0.5192  1337954    4.00%          rho_26 D 132661 132659     55\n",
      " 134440 77198        0.5323    16        0.5409        0.5192  1356298    4.00%           rho_2 D 134440 134439     56\n",
      " 136281 78316        0.5192    15        0.5409        0.5192  1375368    4.00%          rho_13 D 136281 136280     69\n",
      " 137879 79303        0.5353    10        0.5409        0.5192  1394541    4.00%           rho_5 U 137879 137878     71\n",
      " 139567 80367        0.5260    18        0.5409        0.5192  1414983    4.00%          rho_11 D 139567 139566     74\n",
      "Elapsed time = 147.97 sec. (244663.53 ticks, tree = 41.98 MB, solutions = 12)\n",
      " 141316 81391        0.5192    16        0.5409        0.5192  1434167    4.00%           rho_0 D 141316 141314     54\n",
      " 143097 82452        0.5192     1        0.5409        0.5192  1454011    4.00%          rho_23 U 143097 123292     40\n",
      " 144961 83660        cutoff              0.5409        0.5192  1474609    4.00%          rho_26 D 144961 144959     53\n",
      " 146910 84930        0.5205    18        0.5409        0.5192  1495846    4.00%          rho_14 D 146910 146909     61\n",
      " 148677 85972        0.5393     6        0.5409        0.5192  1515277    4.00%           rho_0 U 148677 148676     49\n",
      " 150507 87093        0.5192    16        0.5409        0.5192  1536348    4.00%          rho_18 D 150507 150506     52\n",
      " 152370 88304        0.5192    10        0.5409        0.5192  1557860    4.00%          rho_20 D 152370 152369     60\n",
      " 154087 89362        0.5391     6        0.5409        0.5192  1577633    4.00%           rho_0 U 154087 154086     49\n",
      " 155899 90500        cutoff              0.5409        0.5192  1597787    4.00%           rho_0 U 155899 155897     55\n",
      " 157670 91593        0.5192     2        0.5409        0.5192  1617243    4.00%          rho_24 U 157670 157633     45\n",
      "Elapsed time = 167.23 sec. (282830.47 ticks, tree = 47.17 MB, solutions = 12)\n",
      " 159489 92774        cutoff              0.5409        0.5192  1637334    4.00%           rho_7 U 159489 159488     66\n",
      " 161142 93782        cutoff              0.5409        0.5192  1655795    4.00%           rho_7 U 161142 161141     65\n",
      " 162836 94823        cutoff              0.5409        0.5192  1674874    4.00%           rho_0 U 162836 162834     62\n",
      " 164498 95771        cutoff              0.5409        0.5192  1692569    4.00%           rho_0 U 164498 164497     44\n",
      " 166080 96659        0.5375     7        0.5409        0.5192  1710275    4.00%           rho_0 U 166080 166079     42\n",
      " 167609 97499        0.5357    16        0.5409        0.5192  1728437    4.00%         rho_106 D 167609 167608     61\n",
      " 169128 98352        cutoff              0.5409        0.5192  1747513    4.00%          rho_15 U 169128 169127     70\n",
      " 170750 99368        0.5245    20        0.5409        0.5192  1765574    4.00%          rho_11 D 170750 170749     69\n",
      " 172371 100392        0.5199    17        0.5409        0.5192  1784151    4.00%          rho_37 D 172371 172370     56\n",
      " 174027 101435        0.5250    20        0.5409        0.5192  1802386    4.00%          rho_13 D 174027 174026     68\n",
      "Elapsed time = 185.36 sec. (321000.85 ticks, tree = 51.70 MB, solutions = 12)\n",
      " 175610 102399        0.5367     6        0.5409        0.5192  1819496    4.00%           rho_0 U 175610 175609     33\n",
      " 177117 103181        0.5192     1        0.5409        0.5192  1836708    4.00%          rho_23 U 177117 175619     36\n",
      " 178600 104028        0.5192    17        0.5409        0.5192  1853907    4.00%          rho_89 D 178600 178599     60\n",
      " 180020 104824        0.5296    18        0.5409        0.5192  1871280    4.00%          rho_37 D 180020 180019     54\n",
      " 181500 105652        0.5192     9        0.5409        0.5192  1888410    4.00%         rho_138 D 181500 181499     53\n",
      " 182953 106451        0.5261    18        0.5409        0.5192  1905333    4.00%           rho_7 D 182953 182951     65\n",
      " 184417 107343        0.5405     8        0.5409        0.5192  1921927    4.00%           rho_4 D 184417 184416     72\n",
      " 185863 108245        cutoff              0.5409        0.5192  1939109    4.00%          rho_13 U 185863 185862     83\n",
      "\n",
      "User cuts applied:  963\n",
      "\n",
      "Root node processing (before b&c):\n",
      "  Real time             =    0.41 sec. (7.91 ticks)\n",
      "Sequential b&c:\n",
      "  Real time             =  199.61 sec. (351686.94 ticks)\n",
      "                          ------------\n",
      "Total (root+branch&cut) =  200.02 sec. (351694.85 ticks)\n",
      "+----------------------------------------------+------------------+-----------+\n",
      "| Pr(Y = +1) = 1.0/(1.0 + exp(-(-2 + score))   |                  |           |\n",
      "| ============================================ | ================ | ========= |\n",
      "| p_arrest>=2                                  |         1 points |   + ..... |\n",
      "| p_arrest>=4                                  |         1 points |   + ..... |\n",
      "| p_probation>=1                               |         1 points |   + ..... |\n",
      "| ============================================ | ================ | ========= |\n",
      "| ADD POINTS FROM ROWS 1 to 3                  |            SCORE |   = ..... |\n",
      "+----------------------------------------------+------------------+-----------+\n"
     ]
    }
   ],
   "source": [
    "#cv = KFold(n_splits=5, random_state=816, shuffle=True)\n",
    "cv = StratifiedKFold(n_splits=5, random_state=816, shuffle=True)\n",
    "train_acc, test_acc = [], []\n",
    "train_auc, test_auc = [], []\n",
    "\n",
    "i = 0\n",
    "for train, test in cv.split(X, Y):\n",
    "    \n",
    "    ## subset train data & store test data\n",
    "    X_train, Y_train = X[train], Y[train]\n",
    "    X_test, Y_test = X[test], Y[test]\n",
    "    sample_weights_train, sample_weights_test = sample_weights[train], sample_weights[test]\n",
    "\n",
    "    ## create new data dictionary\n",
    "    new_train_data = {\n",
    "        'X': X_train,\n",
    "        'Y': Y_train,\n",
    "        'variable_names': variable_names,\n",
    "        'outcome_name': outcome_name,\n",
    "        'sample_weights': sample_weights_train\n",
    "    }\n",
    "        \n",
    "    ## fit the model\n",
    "    model_info, mip_info, lcpa_info = risk_slim(new_train_data, \n",
    "                                                max_coefficient=5, \n",
    "                                                max_L0_value=10, \n",
    "                                                c0_value=5e-5, max_runtime=200)\n",
    "    print_model(model_info['solution'], new_train_data)\n",
    "    \n",
    "    ## change data format\n",
    "    X_train, X_test = X_train[:,1:], X_test[:,1:] ## remove the first column, which is \"intercept\"\n",
    "    Y_train[Y_train == -1] = 0 ## change -1 to 0\n",
    "    Y_test[Y_test == -1] = 0\n",
    "    \n",
    "    ## probability & accuracy\n",
    "    train_prob = riskslim_prediction(X_train, cols, model_info).reshape(-1,1)\n",
    "    test_prob = riskslim_prediction(X_test, cols, model_info).reshape(-1,1)\n",
    "    \n",
    "    train_acc.append(np.mean((train_prob > 0.5) == Y_train))\n",
    "    test_acc.append(np.mean((test_prob > 0.5) == Y_test))\n",
    "    \n",
    "    ## AUC\n",
    "    train_fpr, train_tpr, train_thresholds = roc_curve(Y_train, train_prob)\n",
    "    test_fpr, test_tpr, test_thresholds = roc_curve(Y_test, test_prob)    \n",
    "    train_auc.append(auc(train_fpr, train_tpr))\n",
    "    test_auc.append(auc(test_fpr, test_tpr))"
   ]
  },
  {
   "cell_type": "code",
   "execution_count": 40,
   "metadata": {
    "hideCode": false,
    "hidePrompt": false
   },
   "outputs": [
    {
     "data": {
      "text/plain": [
       "(0.7108736257438553,\n",
       " 0.003055521361742535,\n",
       " 0.7107420746932377,\n",
       " 0.004425740446577154)"
      ]
     },
     "execution_count": 40,
     "metadata": {},
     "output_type": "execute_result"
    }
   ],
   "source": [
    "np.mean(train_auc), np.std(train_auc), np.mean(test_auc), np.std(test_auc)"
   ]
  },
  {
   "cell_type": "code",
   "execution_count": 34,
   "metadata": {
    "hideCode": false,
    "hidePrompt": false
   },
   "outputs": [],
   "source": [
    "#log model results to the model performance folder, as per standards\n",
    "path = \"C:\\\\Users\\\\binha\\\\Documents\\\\Duke\\\\Cynthia Research\\\\KY-analysis-mytrials\\\\KY Recidivism\\\\KY Results\\\\Models\\\\\"\n",
    "\n",
    "train_auc_mean, train_auc_std = np.mean(train_auc), np.std(train_auc)\n",
    "test_auc_mean, test_auc_std = np.mean(test_auc), np.std(test_auc)\n",
    "                   \n",
    "results = [[\"Model\", \"train_auc_mean\", \"train_auc_std\", \"validation_auc_mean\", \"validation_auc_std\", \"holdout_test_auc\", \"holdout_test_acc\"],\n",
    "    [\"RiskSLIM\", train_auc_mean, train_auc_std, test_auc_mean, test_auc_std, holdout_test_auc, holdout_test_acc]]\n",
    "\n",
    "with open(path + 'RiskSLIM.csv', 'w') as writeFile:\n",
    "    writer = csv.writer(writeFile)\n",
    "    writer.writerows(results)"
   ]
  },
  {
   "cell_type": "code",
   "execution_count": null,
   "metadata": {
    "hideCode": false,
    "hidePrompt": false
   },
   "outputs": [],
   "source": []
  },
  {
   "cell_type": "markdown",
   "metadata": {
    "hideCode": false,
    "hidePrompt": false
   },
   "source": [
    "  "
   ]
  },
  {
   "cell_type": "markdown",
   "metadata": {
    "hideCode": false,
    "hidePrompt": false
   },
   "source": [
    " "
   ]
  },
  {
   "cell_type": "markdown",
   "metadata": {
    "hideCode": false,
    "hidePrompt": false
   },
   "source": [
    " "
   ]
  },
  {
   "cell_type": "markdown",
   "metadata": {
    "hideCode": false,
    "hidePrompt": false
   },
   "source": [
    " "
   ]
  },
  {
   "cell_type": "markdown",
   "metadata": {
    "hideCode": false,
    "hidePrompt": false
   },
   "source": [
    " "
   ]
  },
  {
   "cell_type": "markdown",
   "metadata": {
    "hideCode": false,
    "hidePrompt": false
   },
   "source": [
    " "
   ]
  },
  {
   "cell_type": "markdown",
   "metadata": {
    "hideCode": false,
    "hidePrompt": false
   },
   "source": [
    " "
   ]
  },
  {
   "cell_type": "markdown",
   "metadata": {
    "hideCode": false,
    "hidePrompt": false
   },
   "source": [
    " "
   ]
  },
  {
   "cell_type": "markdown",
   "metadata": {
    "hideCode": false,
    "hidePrompt": false
   },
   "source": [
    " "
   ]
  },
  {
   "cell_type": "markdown",
   "metadata": {
    "hideCode": false,
    "hidePrompt": false
   },
   "source": [
    " "
   ]
  },
  {
   "cell_type": "markdown",
   "metadata": {
    "hideCode": false,
    "hidePrompt": false
   },
   "source": [
    "## Caroline's Version"
   ]
  },
  {
   "cell_type": "code",
   "execution_count": 3,
   "metadata": {
    "hideCode": false,
    "hidePrompt": false
   },
   "outputs": [],
   "source": [
    "data_name = \"train_stumps.csv\"          \n",
    "train_csv = os.getcwd() + '/' + data_name \n",
    "\n",
    "train = pd.read_csv(\"~/Documents/Duke/Cynthia Research/KY-analysis-mytrials/broward/broward models/Advanced Models/train_stumps.csv\")\n",
    "test = pd.read_csv(\"~/Documents/Duke/Cynthia Research/KY-analysis-mytrials/broward/broward models/Advanced Models/test_stumps.csv\")\n",
    "\n",
    "X_train, Y_train = train.iloc[:,1:], train.iloc[:,0].values\n",
    "X_test, Y_test = test.iloc[:,1:], test.iloc[:,0].values\n",
    "\n",
    "riskslim_train = load_data_from_csv(dataset_csv_file = train_csv)\n",
    "\n",
    "cols = train.columns[1:]"
   ]
  },
  {
   "cell_type": "code",
   "execution_count": 4,
   "metadata": {
    "hideCode": false,
    "hidePrompt": false
   },
   "outputs": [
    {
     "name": "stdout",
     "output_type": "stream",
     "text": [
      "{'X': array([[1., 0., 1., ..., 0., 1., 0.],\n",
      "       [1., 0., 1., ..., 0., 1., 0.],\n",
      "       [1., 0., 0., ..., 0., 1., 0.],\n",
      "       ...,\n",
      "       [1., 0., 0., ..., 0., 1., 1.],\n",
      "       [1., 0., 1., ..., 0., 0., 0.],\n",
      "       [1., 0., 0., ..., 0., 1., 1.]]), 'Y': array([[ 1],\n",
      "       [ 1],\n",
      "       [-1],\n",
      "       ...,\n",
      "       [-1],\n",
      "       [-1],\n",
      "       [ 1]], dtype=int64), 'variable_names': ['(Intercept)', 'p_current_age_eighteen', 'p_current_age_twenty2', 'p_current_age_twenty6', 'p_current_age_thirty2', 'p_current_age_forty', 'p_current_age_forty8', 'p_current_age_sixty', 'fail_appear_two_plus_one', 'fail_appear_two_plus_five', 'fail_appear_two_yr_one', 'fail_appear_two_yr_five', 'p_arrest_one', 'p_arrest_five', 'p_arrest_nine', 'p_charge_one', 'p_charge_five', 'p_charge_violent_one', 'p_charge_violent_five', 'p_drug_one', 'p_drug_five', 'p_juv_fel_count_one', 'p_juv_fel_count_seven', 'p_misdem_count_person_one', 'p_misdem_count_person_nine', 'p_misdemassault_arrest_one', 'p_misdemassault_arrest_five', 'p_murder_arrest_one', 'p_murder_arrest_five', 'p_n_on_probation_one', 'p_n_on_probation_five', 'p_prison_one', 'p_prison_five', 'p_probation_three', 'p_probation_four', 'p_probation_six', 'p_probation_seven', 'p_property_one', 'p_property_eight', 'p_sex_arrest_two', 'p_sex_arrest_six', 'p_sex_arrest_seven', 'p_stalking_one', 'p_stalking_five', 'p_weapons_arrest_one', 'p_weapons_arrest_five', 'prior_conviction_M_one', 'prior_conviction_M_seven'], 'outcome_name': 'recid_use', 'sample_weights': array([1., 1., 1., ..., 1., 1., 1.])}\n"
     ]
    }
   ],
   "source": [
    "#select a subset of features to work with\n",
    "adaboost_subset = [\"p_current_age_eighteen\",\"p_current_age_twenty2\", \"p_current_age_twenty6\", \"p_current_age_thirty2\",\n",
    "                   \"p_current_age_forty\", \"p_current_age_forty8\", \"p_current_age_sixty\",\n",
    "                    \"fail_appear_two_plus_one\", \"fail_appear_two_plus_five\",\n",
    "                    \"fail_appear_two_yr_one\", \"fail_appear_two_yr_five\",\n",
    "                    \"p_arrest_one\",\"p_arrest_five\", \"p_arrest_nine\", \n",
    "                    \"p_charge_one\", \"p_charge_five\", \n",
    "                    \"p_charge_violent_one\", \"p_charge_violent_five\", \n",
    "                    \"p_drug_one\", \"p_drug_five\",\n",
    "                    \"p_juv_fel_count_one\", \"p_juv_fel_count_seven\", \n",
    "                    \"p_misdem_count_person_one\", \"p_misdem_count_person_nine\", \n",
    "                    \"p_misdemassault_arrest_one\", \"p_misdemassault_arrest_five\",\n",
    "                     \"p_murder_arrest_one\", \"p_murder_arrest_five\", \n",
    "                     \"p_n_on_probation_one\", \"p_n_on_probation_five\",\n",
    "                    \"p_prison_one\", \"p_prison_five\",\n",
    "                     \"p_probation_three\", \"p_probation_four\", \"p_probation_six\", \"p_probation_seven\", \n",
    "                    \"p_property_one\", \"p_property_eight\", \n",
    "                    \"p_sex_arrest_two\",\"p_sex_arrest_six\", \"p_sex_arrest_seven\",\n",
    "                    \"p_stalking_one\", \"p_stalking_five\",\n",
    "                    \"p_weapons_arrest_one\", \"p_weapons_arrest_five\", \n",
    "                    \"prior_conviction_M_one\", \"prior_conviction_M_seven\"]\n",
    "\n",
    "#select subset of features for data\n",
    "X_train, X_test = X_train[adaboost_subset].values, X_test[adaboost_subset].values\n",
    "\n",
    "#change labels to 1 and 0 \n",
    "Y_train[Y_train == -1] = 0\n",
    "Y_test[Y_test == -1] = 0\n",
    "\n",
    "#select subset of features for riskslim formatted training data \n",
    "colnames = np.array(adaboost_subset)\n",
    "intercept_col = np.ones(X_train.shape[0])\n",
    "intercept_col.shape = (X_train.shape[0],1)\n",
    "riskslim_train['X'] = np.hstack((intercept_col, X_train))\n",
    "riskslim_train['variable_names'] = ['(Intercept)'] + adaboost_subset\n",
    "print(riskslim_train)"
   ]
  },
  {
   "cell_type": "code",
   "execution_count": 64,
   "metadata": {
    "hideCode": false,
    "hidePrompt": false
   },
   "outputs": [],
   "source": [
    "def fit_riskSLIM(data, params): \n",
    "    '''\n",
    "    @param data = {\n",
    "        \"X\": train, (ndarray)\n",
    "        \"Y\": test,  (ndarray)\n",
    "        \"sample_weights\": sample_weights\n",
    "        \"variable_names\": variable_names\n",
    "    }\n",
    "    @param params: dictionary containing parameters \n",
    "    '''\n",
    "\n",
    "    settings = {\n",
    "        # Problem Parameters\n",
    "        'c0_value': params['c0_value'],\n",
    "        'w_pos': params['w_pos'],\n",
    "        #\n",
    "        # LCPA Settings\n",
    "        'max_runtime': params['max_runtime'],               # max runtime for LCPA\n",
    "        'max_tolerance': np.finfo('float').eps,             # tolerance to stop LCPA (set to 0 to return provably optimal solution)\n",
    "        'display_cplex_progress': False,                    # print CPLEX progress on screen\n",
    "        'loss_computation': 'normal',                       # how to compute the loss function ('normal','fast','lookup')\n",
    "        #\n",
    "        # RiskSLIM MIP settings\n",
    "        'drop_variables': False,\n",
    "        #\n",
    "        # LCPA Improvements\n",
    "        'round_flag': False,                                # round continuous solutions with SeqRd\n",
    "        'polish_flag': False,                               # polish integer feasible solutions with DCD\n",
    "        'chained_updates_flag': False,                      # use chained updates\n",
    "        'initialization_flag': False,                       # use initialization procedure\n",
    "        'init_max_runtime': 300.0,                          # max time to run CPA in initialization procedure\n",
    "        'add_cuts_at_heuristic_solutions': True,            # add cuts at integer feasible solutions found using polishing/rounding\n",
    "        #\n",
    "        # CPLEX Solver Parameters\n",
    "        'cplex_randomseed': 0,                              # random seed\n",
    "        'cplex_mipemphasis': 0,                             # cplex MIP strategy\n",
    "    }\n",
    "\n",
    "    # # turn on at your own risk\n",
    "    # settings['round_flag'] = False\n",
    "    # settings['polish_flag'] = False\n",
    "    # settings['chained_updates_flag'] = False\n",
    "    # settings['initialization_flag'] = False\n",
    "    N, P = data[\"X\"].shape\n",
    "\n",
    "    # create coefficient set and set the value of the offset parameter\n",
    "    coef_set = CoefficientSet(variable_names=data['variable_names'], lb=params['min_coefficient'], ub=params['max_coefficient'], sign=1)\n",
    "    conservative_offset = get_conservative_offset(data, coef_set, int(params['max_L0_value']))\n",
    "    max_offset = min(params['max_offset'], conservative_offset)\n",
    "    \n",
    "    coef_set['(Intercept)'].ub = max_offset\n",
    "    coef_set['(Intercept)'].lb = -max_offset\n",
    "\n",
    "    # create constraint\n",
    "    trivial_L0_max = P - np.sum(coef_set.C_0j == 0)\n",
    "    max_L0_value = min(int(params['max_L0_value']), trivial_L0_max)\n",
    "\n",
    "    constraints = {\n",
    "        'L0_min': 0,\n",
    "        'L0_max': max_L0_value,\n",
    "        'coef_set':coef_set,\n",
    "    }\n",
    "\n",
    "    # initialize MIP for lattice CPA\n",
    "    mip_objects = setup_lattice_cpa(data, constraints, settings)\n",
    "\n",
    "    # add operational constraints\n",
    "    mip, indices = mip_objects['mip'], mip_objects['indices']\n",
    "    get_alpha_name = lambda var_name: 'alpha_' + str(data['variable_names'].index(var_name))\n",
    "    get_alpha_ind = lambda var_names: [get_alpha_name(v) for v in var_names]\n",
    "\n",
    "\n",
    "    mip_objects['mip'] = mip\n",
    "\n",
    "    # pass MIP back to lattice CPA so that it will solve\n",
    "    model_info, mip_info, lcpa_info = finish_lattice_cpa(data, constraints, mip_objects, settings)\n",
    "    #model_info contains the actual model\n",
    "    return model_info, mip_info, lcpa_info"
   ]
  },
  {
   "cell_type": "code",
   "execution_count": 65,
   "metadata": {
    "hideCode": false,
    "hidePrompt": false
   },
   "outputs": [],
   "source": [
    "def riskslim_prediction(X, feature_name, model_info):\n",
    "    \n",
    "    \"\"\"\n",
    "    @parameters\n",
    "    \n",
    "    X: test input features (np.array)\n",
    "    feature_name: feature names\n",
    "    model_info: output from RiskSLIM model\n",
    "    \n",
    "    \"\"\"\n",
    "    \n",
    "    ## initialize parameters\n",
    "    dictionary = {}\n",
    "    prob = np.zeros(len(X))\n",
    "    scores = np.zeros(len(X))\n",
    "    \n",
    "    ## prepare statistics\n",
    "    subtraction_score = model_info['solution'][0]\n",
    "    coefs = model_info['solution'][1:]\n",
    "    index = np.where(coefs != 0)[0]\n",
    "    \n",
    "    nonzero_coefs = coefs[index]\n",
    "    features = feature_name[index]\n",
    "    X_sub = X[:,index]\n",
    "    \n",
    "    ## build dictionaries\n",
    "    for i in range(len(features)):\n",
    "        single_feature = features[i]\n",
    "        coef = nonzero_coefs[i]\n",
    "        dictionary.update({single_feature: coef})\n",
    "        \n",
    "    ## calculate probability\n",
    "    for i in range(len(X_sub)):\n",
    "        summation = 0\n",
    "        for j in range(len(features)):\n",
    "            a = X_sub[i,j]\n",
    "            summation += dictionary[features[j]] * a\n",
    "        scores[i] = summation\n",
    "    \n",
    "    prob = 1/(1+np.exp(-(scores + subtraction_score)))\n",
    "    \n",
    "    return prob"
   ]
  },
  {
   "cell_type": "code",
   "execution_count": 66,
   "metadata": {
    "hideCode": false,
    "hidePrompt": false
   },
   "outputs": [],
   "source": [
    "def riskslim_accuracy(X, Y, feature_name, model_info, threshold=0.5):\n",
    "    \n",
    "    prob = riskslim_prediction(X, feature_name, model_info)\n",
    "    pred = np.mean((prob > threshold) == Y)\n",
    "    \n",
    "    return pred"
   ]
  },
  {
   "cell_type": "code",
   "execution_count": null,
   "metadata": {
    "hideCode": false,
    "hidePrompt": false
   },
   "outputs": [],
   "source": []
  },
  {
   "cell_type": "markdown",
   "metadata": {
    "hideCode": false,
    "hidePrompt": false
   },
   "source": [
    "Code to actually run riskSLIM"
   ]
  },
  {
   "cell_type": "code",
   "execution_count": 10,
   "metadata": {
    "hideCode": false,
    "hidePrompt": false
   },
   "outputs": [
    {
     "name": "stdout",
     "output_type": "stream",
     "text": [
      "setting c0 = 0.0 to ensure that intercept is not penalized\n",
      "06/18/19 @ 08:14 PM | switching loss computation from normal to lookup\n",
      "06/18/19 @ 08:14 PM | 526 rows in lookup table\n",
      "06/18/19 @ 08:14 PM | switching loss computation from normal to lookup\n",
      "06/18/19 @ 08:14 PM | 526 rows in lookup table\n",
      "+----------------------------------------------+------------------+-----------+\n",
      "| Pr(Y = +1) = 1.0/(1.0 + exp(-(-3 + score))   |                  |           |\n",
      "| ============================================ | ================ | ========= |\n",
      "| fail_appear_two_yr_five                      |         5 points |   + ..... |\n",
      "| p_juv_fel_count_seven                        |         5 points |   + ..... |\n",
      "| p_sex_arrest_seven                           |         5 points |   + ..... |\n",
      "| p_probation_seven                            |         3 points |   + ..... |\n",
      "| p_current_age_eighteen                       |         1 points |   + ..... |\n",
      "| p_current_age_thirty2                        |         1 points |   + ..... |\n",
      "| p_arrest_one                                 |         1 points |   + ..... |\n",
      "| p_charge_five                                |         1 points |   + ..... |\n",
      "| p_misdem_count_person_one                    |         1 points |   + ..... |\n",
      "| p_weapons_arrest_five                        |         1 points |   + ..... |\n",
      "| ============================================ | ================ | ========= |\n",
      "| ADD POINTS FROM ROWS 1 to 10                 |            SCORE |   = ..... |\n",
      "+----------------------------------------------+------------------+-----------+\n"
     ]
    },
    {
     "data": {
      "text/plain": [
       "<prettytable.PrettyTable at 0x25447e6c9b0>"
      ]
     },
     "execution_count": 10,
     "metadata": {},
     "output_type": "execute_result"
    }
   ],
   "source": [
    "# problem parameters\n",
    "params = {\n",
    "    \"max_coefficient\" : 5,                                         # value of largest/smallest coefficient\n",
    "    \"min_coefficient\" : 0,                                         # sets the lower bound on the coeffs\n",
    "    \"max_L0_value\" : 10,                                            \n",
    "    \"max_offset\" : 50,                                             # maximum value of offset parameter (optional)\n",
    "    \"c0_value\" : 1e-6,                                             # L0-penalty parameter such that c0_value > 0; larger values -> sparser models; we set to a small value (1e-6) so that we get a model with max_L0_value terms\n",
    "    \"w_pos\" : 1.00,                                                # relative weight on examples with y = +1; w_neg = 1.00 (optional)\n",
    "    \"max_runtime\": 300\n",
    "    }\n",
    "\n",
    "model_info, mip_info, lcpa_info = fit_riskSLIM(riskslim_train , params)\n",
    "print_model(model_info['solution'], riskslim_train)"
   ]
  },
  {
   "cell_type": "code",
   "execution_count": 93,
   "metadata": {
    "hideCode": false,
    "hidePrompt": false
   },
   "outputs": [],
   "source": [
    "colnames = np.array(adaboost_subset)"
   ]
  },
  {
   "cell_type": "code",
   "execution_count": 94,
   "metadata": {
    "hideCode": false,
    "hidePrompt": false
   },
   "outputs": [
    {
     "data": {
      "text/plain": [
       "0.6014075495841331"
      ]
     },
     "execution_count": 94,
     "metadata": {},
     "output_type": "execute_result"
    }
   ],
   "source": [
    "riskslim_accuracy(X_train, Y_train, colnames, model_info)"
   ]
  },
  {
   "cell_type": "code",
   "execution_count": 95,
   "metadata": {
    "hideCode": false,
    "hidePrompt": false
   },
   "outputs": [
    {
     "data": {
      "text/plain": [
       "0.5871313672922251"
      ]
     },
     "execution_count": 95,
     "metadata": {},
     "output_type": "execute_result"
    }
   ],
   "source": [
    "riskslim_accuracy(X_test, Y_test, colnames, model_info)"
   ]
  },
  {
   "cell_type": "code",
   "execution_count": 90,
   "metadata": {
    "hideCode": false,
    "hidePrompt": false
   },
   "outputs": [
    {
     "data": {
      "text/plain": [
       "0.6085421664199799"
      ]
     },
     "execution_count": 90,
     "metadata": {},
     "output_type": "execute_result"
    }
   ],
   "source": [
    "train_prob = riskslim_prediction(X_train, colnames, model_info)\n",
    "train_fpr, train_tpr, train_thresholds = roc_curve(Y_train, train_prob)\n",
    "auc(train_fpr, train_tpr)"
   ]
  },
  {
   "cell_type": "code",
   "execution_count": 91,
   "metadata": {
    "hideCode": false,
    "hidePrompt": false
   },
   "outputs": [
    {
     "data": {
      "text/plain": [
       "0.5889106080056017"
      ]
     },
     "execution_count": 91,
     "metadata": {},
     "output_type": "execute_result"
    }
   ],
   "source": [
    "test_prob = riskslim_prediction(X_test, colnames, model_info)\n",
    "test_fpr, test_tpr, test_thresholds = roc_curve(Y_test, test_prob)\n",
    "auc(test_fpr, test_tpr)"
   ]
  },
  {
   "cell_type": "markdown",
   "metadata": {
    "hideCode": false,
    "hidePrompt": false
   },
   "source": [
    "## Cross validation"
   ]
  },
  {
   "cell_type": "code",
   "execution_count": 96,
   "metadata": {
    "hideCode": false,
    "hidePrompt": false
   },
   "outputs": [],
   "source": [
    "X, Y = riskslim_train['X'], riskslim_train['Y']\n",
    "variable_names = riskslim_train['variable_names']\n",
    "outcome_name = riskslim_train['outcome_name']\n",
    "sample_weights = riskslim_train['sample_weights']\n",
    "colnames = np.array(adaboost_subset)\n",
    "\n",
    "params = {\n",
    "    \"max_coefficient\" : 5,                                        # value of largest/smallest coefficient\n",
    "    \"min_coefficient\" : 0,                                         # sets the lower bound on the coeffs\n",
    "    \"max_L0_value\" : 10,                                            \n",
    "    \"max_offset\" : 50,                                             # maximum value of offset parameter (optional)\n",
    "    \"c0_value\" : 1e-6,                                             # L0-penalty parameter such that c0_value > 0; larger values -> sparser models; we set to a small value (1e-6) so that we get a model with max_L0_value terms\n",
    "    \"w_pos\" : 1.00,                                                # relative weight on examples with y = +1; w_neg = 1.00 (optional)\n",
    "    \"max_runtime\": 200\n",
    "    }"
   ]
  },
  {
   "cell_type": "code",
   "execution_count": 97,
   "metadata": {
    "hideCode": false,
    "hidePrompt": false,
    "scrolled": true
   },
   "outputs": [
    {
     "name": "stdout",
     "output_type": "stream",
     "text": [
      "setting c0 = 0.0 to ensure that intercept is not penalized\n",
      "06/18/19 @ 09:00 PM | switching loss computation from normal to lookup\n",
      "06/18/19 @ 09:00 PM | 526 rows in lookup table\n",
      "06/18/19 @ 09:00 PM | switching loss computation from normal to lookup\n",
      "06/18/19 @ 09:00 PM | 526 rows in lookup table\n",
      "+----------------------------------------------+------------------+-----------+\n",
      "| Pr(Y = +1) = 1.0/(1.0 + exp(-(-3 + score))   |                  |           |\n",
      "| ============================================ | ================ | ========= |\n",
      "| fail_appear_two_yr_five                      |         5 points |   + ..... |\n",
      "| p_juv_fel_count_seven                        |         5 points |   + ..... |\n",
      "| p_sex_arrest_seven                           |         5 points |   + ..... |\n",
      "| p_probation_seven                            |         2 points |   + ..... |\n",
      "| p_weapons_arrest_five                        |         2 points |   + ..... |\n",
      "| p_current_age_eighteen                       |         1 points |   + ..... |\n",
      "| p_current_age_thirty2                        |         1 points |   + ..... |\n",
      "| p_charge_one                                 |         1 points |   + ..... |\n",
      "| p_charge_five                                |         1 points |   + ..... |\n",
      "| p_misdem_count_person_one                    |         1 points |   + ..... |\n",
      "| ============================================ | ================ | ========= |\n",
      "| ADD POINTS FROM ROWS 1 to 10                 |            SCORE |   = ..... |\n",
      "+----------------------------------------------+------------------+-----------+\n",
      "setting c0 = 0.0 to ensure that intercept is not penalized\n",
      "06/18/19 @ 09:03 PM | switching loss computation from normal to lookup\n",
      "06/18/19 @ 09:03 PM | 516 rows in lookup table\n",
      "06/18/19 @ 09:03 PM | switching loss computation from normal to lookup\n",
      "06/18/19 @ 09:03 PM | 516 rows in lookup table\n",
      "+----------------------------------------------+------------------+-----------+\n",
      "| Pr(Y = +1) = 1.0/(1.0 + exp(-(-2 + score))   |                  |           |\n",
      "| ============================================ | ================ | ========= |\n",
      "| fail_appear_two_yr_five                      |         5 points |   + ..... |\n",
      "| p_juv_fel_count_seven                        |         5 points |   + ..... |\n",
      "| fail_appear_two_plus_one                     |         2 points |   + ..... |\n",
      "| p_probation_seven                            |         2 points |   + ..... |\n",
      "| p_current_age_eighteen                       |         1 points |   + ..... |\n",
      "| p_current_age_thirty2                        |         1 points |   + ..... |\n",
      "| p_charge_five                                |         1 points |   + ..... |\n",
      "| p_misdem_count_person_one                    |         1 points |   + ..... |\n",
      "| ============================================ | ================ | ========= |\n",
      "| ADD POINTS FROM ROWS 1 to 8                  |            SCORE |   = ..... |\n",
      "+----------------------------------------------+------------------+-----------+\n",
      "setting c0 = 0.0 to ensure that intercept is not penalized\n",
      "06/18/19 @ 09:07 PM | switching loss computation from normal to lookup\n",
      "06/18/19 @ 09:07 PM | 516 rows in lookup table\n",
      "06/18/19 @ 09:07 PM | switching loss computation from normal to lookup\n",
      "06/18/19 @ 09:07 PM | 516 rows in lookup table\n",
      "+----------------------------------------------+------------------+-----------+\n",
      "| Pr(Y = +1) = 1.0/(1.0 + exp(-(-2 + score))   |                  |           |\n",
      "| ============================================ | ================ | ========= |\n",
      "| fail_appear_two_yr_five                      |         5 points |   + ..... |\n",
      "| p_juv_fel_count_seven                        |         5 points |   + ..... |\n",
      "| p_sex_arrest_seven                           |         5 points |   + ..... |\n",
      "| p_probation_seven                            |         3 points |   + ..... |\n",
      "| p_current_age_eighteen                       |         1 points |   + ..... |\n",
      "| p_current_age_thirty2                        |         1 points |   + ..... |\n",
      "| p_charge_five                                |         1 points |   + ..... |\n",
      "| p_misdem_count_person_one                    |         1 points |   + ..... |\n",
      "| p_weapons_arrest_five                        |         1 points |   + ..... |\n",
      "| ============================================ | ================ | ========= |\n",
      "| ADD POINTS FROM ROWS 1 to 9                  |            SCORE |   = ..... |\n",
      "+----------------------------------------------+------------------+-----------+\n",
      "setting c0 = 0.0 to ensure that intercept is not penalized\n",
      "06/18/19 @ 09:10 PM | switching loss computation from normal to lookup\n",
      "06/18/19 @ 09:10 PM | 526 rows in lookup table\n",
      "06/18/19 @ 09:10 PM | switching loss computation from normal to lookup\n",
      "06/18/19 @ 09:10 PM | 526 rows in lookup table\n",
      "+----------------------------------------------+------------------+-----------+\n",
      "| Pr(Y = +1) = 1.0/(1.0 + exp(-(-4 + score))   |                  |           |\n",
      "| ============================================ | ================ | ========= |\n",
      "| p_juv_fel_count_seven                        |         5 points |   + ..... |\n",
      "| p_sex_arrest_seven                           |         5 points |   + ..... |\n",
      "| p_weapons_arrest_five                        |         3 points |   + ..... |\n",
      "| p_arrest_one                                 |         2 points |   + ..... |\n",
      "| p_current_age_eighteen                       |         1 points |   + ..... |\n",
      "| p_current_age_forty                          |         1 points |   + ..... |\n",
      "| p_current_age_sixty                          |         1 points |   + ..... |\n",
      "| fail_appear_two_yr_one                       |         1 points |   + ..... |\n",
      "| p_charge_violent_five                        |         1 points |   + ..... |\n",
      "| p_n_on_probation_five                        |         1 points |   + ..... |\n",
      "| ============================================ | ================ | ========= |\n",
      "| ADD POINTS FROM ROWS 1 to 10                 |            SCORE |   = ..... |\n",
      "+----------------------------------------------+------------------+-----------+\n",
      "setting c0 = 0.0 to ensure that intercept is not penalized\n",
      "06/18/19 @ 09:13 PM | switching loss computation from normal to lookup\n",
      "06/18/19 @ 09:13 PM | 526 rows in lookup table\n",
      "06/18/19 @ 09:13 PM | switching loss computation from normal to lookup\n",
      "06/18/19 @ 09:13 PM | 526 rows in lookup table\n",
      "+----------------------------------------------+------------------+-----------+\n",
      "| Pr(Y = +1) = 1.0/(1.0 + exp(-(-4 + score))   |                  |           |\n",
      "| ============================================ | ================ | ========= |\n",
      "| fail_appear_two_yr_five                      |         5 points |   + ..... |\n",
      "| p_juv_fel_count_seven                        |         5 points |   + ..... |\n",
      "| p_sex_arrest_seven                           |         5 points |   + ..... |\n",
      "| p_charge_one                                 |         2 points |   + ..... |\n",
      "| p_current_age_eighteen                       |         1 points |   + ..... |\n",
      "| p_current_age_thirty2                        |         1 points |   + ..... |\n",
      "| p_charge_five                                |         1 points |   + ..... |\n",
      "| p_misdem_count_person_one                    |         1 points |   + ..... |\n",
      "| p_probation_seven                            |         1 points |   + ..... |\n",
      "| p_weapons_arrest_five                        |         1 points |   + ..... |\n",
      "| ============================================ | ================ | ========= |\n",
      "| ADD POINTS FROM ROWS 1 to 10                 |            SCORE |   = ..... |\n",
      "+----------------------------------------------+------------------+-----------+\n"
     ]
    }
   ],
   "source": [
    "#cv = KFold(n_splits=5, random_state=816, shuffle=True)\n",
    "cv = StratifiedKFold(n_splits=5, random_state=0, shuffle=True)\n",
    "train_acc, test_acc = [], []\n",
    "train_auc, test_auc = [], []\n",
    "\n",
    "i = 0\n",
    "for train, test in cv.split(X, Y):\n",
    "    \n",
    "    ## subset train data & store test data\n",
    "    x_train, y_train = X[train], Y[train]\n",
    "    x_test, y_test = X[test], Y[test]\n",
    "    sample_weights_train, sample_weights_test = sample_weights[train], sample_weights[test]\n",
    "\n",
    "    ## create new data dictionary\n",
    "    new_train_data = {\n",
    "        'X': x_train,\n",
    "        'Y': y_train,\n",
    "        'variable_names': variable_names,\n",
    "        'outcome_name': outcome_name,\n",
    "        'sample_weights': sample_weights_train\n",
    "    }\n",
    "        \n",
    "    ## fit the model\n",
    "    model_info, mip_info, lcpa_info = fit_riskSLIM(new_train_data, params)\n",
    "    print_model(model_info['solution'], new_train_data)\n",
    "    \n",
    "    ## change data format\n",
    "    x_train, x_test = x_train[:,1:], x_test[:,1:] ## remove the first column, which is \"intercept\"\n",
    "    y_train[y_train == -1] = 0 ## change -1 to 0\n",
    "    y_test[y_test == -1] = 0\n",
    "    \n",
    "    ## probability & accuracy\n",
    "    train_prob = riskslim_prediction(x_train, cols, model_info)\n",
    "    test_prob = riskslim_prediction(x_test, cols, model_info)\n",
    "    \n",
    "    train_acc.append(np.mean((train_prob > 0.5) == y_train))\n",
    "    test_acc.append(np.mean((test_prob > 0.5) == y_test))\n",
    "    \n",
    "    ## AUC\n",
    "    train_fpr, train_tpr, train_thresholds = roc_curve(y_train, train_prob)\n",
    "    test_fpr, test_tpr, test_thresholds = roc_curve(y_test, test_prob)    \n",
    "    train_auc.append(auc(train_fpr, train_tpr))\n",
    "    test_auc.append(auc(test_fpr, test_tpr))"
   ]
  },
  {
   "cell_type": "code",
   "execution_count": 99,
   "metadata": {
    "hideCode": false,
    "hidePrompt": false
   },
   "outputs": [
    {
     "data": {
      "text/plain": [
       "(0.4987455362285596, 0.49925958671304527)"
      ]
     },
     "execution_count": 99,
     "metadata": {},
     "output_type": "execute_result"
    }
   ],
   "source": [
    "np.mean(train_acc), np.mean(test_acc)"
   ]
  },
  {
   "cell_type": "code",
   "execution_count": 100,
   "metadata": {
    "hideCode": false,
    "hidePrompt": false
   },
   "outputs": [
    {
     "data": {
      "text/plain": [
       "(0.6262702191092696, 0.5820596860445059)"
      ]
     },
     "execution_count": 100,
     "metadata": {},
     "output_type": "execute_result"
    }
   ],
   "source": [
    "np.mean(train_auc), np.mean(test_auc)"
   ]
  },
  {
   "cell_type": "markdown",
   "metadata": {
    "hideCode": false,
    "hidePrompt": false
   },
   "source": [
    "#### holdout test set"
   ]
  },
  {
   "cell_type": "code",
   "execution_count": 104,
   "metadata": {
    "hideCode": false,
    "hidePrompt": false
   },
   "outputs": [
    {
     "name": "stdout",
     "output_type": "stream",
     "text": [
      "setting c0 = 0.0 to ensure that intercept is not penalized\n",
      "06/18/19 @ 09:21 PM | switching loss computation from normal to lookup\n",
      "06/18/19 @ 09:21 PM | 526 rows in lookup table\n",
      "06/18/19 @ 09:21 PM | switching loss computation from normal to lookup\n",
      "06/18/19 @ 09:21 PM | 526 rows in lookup table\n"
     ]
    }
   ],
   "source": [
    "model_info, mip_info, lcpa_info = fit_riskSLIM(riskslim_train, params)"
   ]
  },
  {
   "cell_type": "code",
   "execution_count": 105,
   "metadata": {
    "hideCode": false,
    "hidePrompt": false
   },
   "outputs": [],
   "source": [
    "colnames = np.array(adaboost_subset)"
   ]
  },
  {
   "cell_type": "code",
   "execution_count": 113,
   "metadata": {
    "hideCode": false,
    "hidePrompt": false
   },
   "outputs": [
    {
     "data": {
      "text/plain": [
       "0.6084452975047985"
      ]
     },
     "execution_count": 113,
     "metadata": {},
     "output_type": "execute_result"
    }
   ],
   "source": [
    "riskslim_accuracy(X_train, Y_train, colnames, model_info)"
   ]
  },
  {
   "cell_type": "code",
   "execution_count": 112,
   "metadata": {
    "hideCode": false,
    "hidePrompt": false
   },
   "outputs": [
    {
     "data": {
      "text/plain": [
       "0.579088471849866"
      ]
     },
     "execution_count": 112,
     "metadata": {},
     "output_type": "execute_result"
    }
   ],
   "source": [
    "riskslim_accuracy(X_test, Y_test, colnames, model_info)"
   ]
  },
  {
   "cell_type": "code",
   "execution_count": 114,
   "metadata": {
    "hideCode": false,
    "hidePrompt": false
   },
   "outputs": [
    {
     "data": {
      "text/plain": [
       "0.6194491229861006"
      ]
     },
     "execution_count": 114,
     "metadata": {},
     "output_type": "execute_result"
    }
   ],
   "source": [
    "train_prob = riskslim_prediction(X_train, colnames, model_info)\n",
    "train_fpr, train_tpr, train_thresholds = roc_curve(Y_train, train_prob)\n",
    "auc(train_fpr, train_tpr)"
   ]
  },
  {
   "cell_type": "code",
   "execution_count": 115,
   "metadata": {
    "hideCode": false,
    "hidePrompt": false
   },
   "outputs": [
    {
     "data": {
      "text/plain": [
       "0.5893336445326176"
      ]
     },
     "execution_count": 115,
     "metadata": {},
     "output_type": "execute_result"
    }
   ],
   "source": [
    "test_prob = riskslim_prediction(X_test, colnames, model_info)\n",
    "test_fpr, test_tpr, test_thresholds = roc_curve(Y_test, test_prob)\n",
    "auc(test_fpr, test_tpr)"
   ]
  },
  {
   "cell_type": "code",
   "execution_count": null,
   "metadata": {
    "hideCode": false,
    "hidePrompt": false
   },
   "outputs": [],
   "source": []
  },
  {
   "cell_type": "code",
   "execution_count": null,
   "metadata": {
    "hideCode": false,
    "hidePrompt": false
   },
   "outputs": [],
   "source": []
  },
  {
   "cell_type": "code",
   "execution_count": null,
   "metadata": {
    "hideCode": false,
    "hidePrompt": false
   },
   "outputs": [],
   "source": []
  },
  {
   "cell_type": "code",
   "execution_count": 27,
   "metadata": {
    "hideCode": false,
    "hidePrompt": false,
    "scrolled": true
   },
   "outputs": [
    {
     "name": "stdout",
     "output_type": "stream",
     "text": [
      "setting c0 = 0.0 to ensure that intercept is not penalized\n",
      "05/27/19 @ 02:36 PM | switching loss computation from normal to lookup\n",
      "05/27/19 @ 02:36 PM | 931 rows in lookup table\n",
      "05/27/19 @ 02:36 PM | switching loss computation from normal to lookup\n",
      "05/27/19 @ 02:36 PM | 931 rows in lookup table\n",
      "+----------------------------------------------+-------------------+-----------+\n",
      "| Pr(Y = +1) = 1.0/(1.0 + exp(-(-3 + score))   |                   |           |\n",
      "| ============================================ | ================= | ========= |\n",
      "| p_juv_fel_count_seven                        |         10 points |   + ..... |\n",
      "| p_charge_one                                 |          2 points |   + ..... |\n",
      "| p_current_age_thirty2                        |          1 points |   + ..... |\n",
      "| p_n_on_probation_five                        |          1 points |   + ..... |\n",
      "| prior_conviction_M_seven                     |          1 points |   + ..... |\n",
      "| ============================================ | ================= | ========= |\n",
      "| ADD POINTS FROM ROWS 1 to 5                  |             SCORE |   = ..... |\n",
      "+----------------------------------------------+-------------------+-----------+\n",
      "setting c0 = 0.0 to ensure that intercept is not penalized\n",
      "05/27/19 @ 02:41 PM | switching loss computation from normal to lookup\n",
      "05/27/19 @ 02:41 PM | 961 rows in lookup table\n",
      "05/27/19 @ 02:41 PM | switching loss computation from normal to lookup\n",
      "05/27/19 @ 02:41 PM | 961 rows in lookup table\n",
      "+----------------------------------------------+------------------+-----------+\n",
      "| Pr(Y = +1) = 1.0/(1.0 + exp(-(-7 + score))   |                  |           |\n",
      "| ============================================ | ================ | ========= |\n",
      "| p_arrest_one                                 |         5 points |   + ..... |\n",
      "| p_current_age_twenty6                        |         1 points |   + ..... |\n",
      "| fail_appear_two_yr_one                       |         1 points |   + ..... |\n",
      "| p_charge_violent_five                        |         1 points |   + ..... |\n",
      "| p_misdem_count_person_one                    |         1 points |   + ..... |\n",
      "| prior_conviction_M_seven                     |         1 points |   + ..... |\n",
      "| ============================================ | ================ | ========= |\n",
      "| ADD POINTS FROM ROWS 1 to 6                  |            SCORE |   = ..... |\n",
      "+----------------------------------------------+------------------+-----------+\n",
      "setting c0 = 0.0 to ensure that intercept is not penalized\n",
      "05/27/19 @ 02:46 PM | switching loss computation from normal to lookup\n",
      "05/27/19 @ 02:46 PM | 941 rows in lookup table\n",
      "05/27/19 @ 02:46 PM | switching loss computation from normal to lookup\n",
      "05/27/19 @ 02:46 PM | 941 rows in lookup table\n",
      "+-----------------------------------------------+------------------+-----------+\n",
      "| Pr(Y = +1) = 1.0/(1.0 + exp(-(-10 + score))   |                  |           |\n",
      "| ============================================= | ================ | ========= |\n",
      "| p_charge_one                                  |         9 points |   + ..... |\n",
      "| p_current_age_eighteen                        |         1 points |   + ..... |\n",
      "| p_current_age_twenty6                         |         1 points |   + ..... |\n",
      "| fail_appear_two_yr_one                        |         1 points |   + ..... |\n",
      "| p_charge_violent_five                         |         1 points |   + ..... |\n",
      "| prior_conviction_M_seven                      |         1 points |   + ..... |\n",
      "| ============================================= | ================ | ========= |\n",
      "| ADD POINTS FROM ROWS 1 to 6                   |            SCORE |   = ..... |\n",
      "+-----------------------------------------------+------------------+-----------+\n",
      "setting c0 = 0.0 to ensure that intercept is not penalized\n",
      "05/27/19 @ 02:51 PM | switching loss computation from normal to lookup\n",
      "05/27/19 @ 02:51 PM | 961 rows in lookup table\n",
      "05/27/19 @ 02:51 PM | switching loss computation from normal to lookup\n",
      "05/27/19 @ 02:51 PM | 961 rows in lookup table\n",
      "+----------------------------------------------+-------------------+-----------+\n",
      "| Pr(Y = +1) = 1.0/(1.0 + exp(-(-3 + score))   |                   |           |\n",
      "| ============================================ | ================= | ========= |\n",
      "| p_juv_fel_count_seven                        |         10 points |   + ..... |\n",
      "| p_misdem_count_person_one                    |          2 points |   + ..... |\n",
      "| p_current_age_eighteen                       |          1 points |   + ..... |\n",
      "| p_current_age_twenty6                        |          1 points |   + ..... |\n",
      "| p_charge_violent_five                        |          1 points |   + ..... |\n",
      "| prior_conviction_M_seven                     |          1 points |   + ..... |\n",
      "| ============================================ | ================= | ========= |\n",
      "| ADD POINTS FROM ROWS 1 to 6                  |             SCORE |   = ..... |\n",
      "+----------------------------------------------+-------------------+-----------+\n",
      "setting c0 = 0.0 to ensure that intercept is not penalized\n",
      "05/27/19 @ 02:56 PM | switching loss computation from normal to lookup\n",
      "05/27/19 @ 02:56 PM | 961 rows in lookup table\n",
      "05/27/19 @ 02:56 PM | switching loss computation from normal to lookup\n",
      "05/27/19 @ 02:56 PM | 961 rows in lookup table\n",
      "+----------------------------------------------+------------------+-----------+\n",
      "| Pr(Y = +1) = 1.0/(1.0 + exp(-(-3 + score))   |                  |           |\n",
      "| ============================================ | ================ | ========= |\n",
      "| p_current_age_eighteen                       |         1 points |   + ..... |\n",
      "| p_current_age_thirty2                        |         1 points |   + ..... |\n",
      "| p_current_age_sixty                          |         1 points |   + ..... |\n",
      "| fail_appear_two_yr_one                       |         1 points |   + ..... |\n",
      "| p_misdem_count_person_one                    |         1 points |   + ..... |\n",
      "| prior_conviction_M_seven                     |         1 points |   + ..... |\n",
      "| ============================================ | ================ | ========= |\n",
      "| ADD POINTS FROM ROWS 1 to 6                  |            SCORE |   = ..... |\n",
      "+----------------------------------------------+------------------+-----------+\n"
     ]
    }
   ],
   "source": [
    "n_folds = 5\n",
    "params = {\n",
    "    \"max_coefficient\" : 10,                                        # value of largest/smallest coefficient\n",
    "    \"min_coefficient\" : 0,                                         # sets the lower bound on the coeffs\n",
    "    \"max_L0_value\" : 6,                                            \n",
    "    \"max_offset\" : 50,                                             # maximum value of offset parameter (optional)\n",
    "    \"c0_value\" : 1e-6,                                             # L0-penalty parameter such that c0_value > 0; larger values -> sparser models; we set to a small value (1e-6) so that we get a model with max_L0_value terms\n",
    "    \"w_pos\" : 1.00,                                                # relative weight on examples with y = +1; w_neg = 1.00 (optional)\n",
    "    \"max_runtime\": 300\n",
    "    }\n",
    "\n",
    "cv = KFold(n_splits=n_folds, random_state=816, shuffle=True)\n",
    "results = []\n",
    "x_train_agg, x_test_agg = [], []\n",
    "y_train_agg, y_test_agg = [], []\n",
    "model_information = []\n",
    "\n",
    "for train_inds, test_inds in cv.split(riskslim_train['X'], riskslim_train['Y']):\n",
    "    \n",
    "    ## subset train data & store test data\n",
    "    X_test, Y_test = riskslim_train['X'][test_inds], riskslim_train['Y'][test_inds]\n",
    "    \n",
    "    train_fold = {\n",
    "        \"X\": riskslim_train['X'][train_inds],  #features\n",
    "        \"Y\": riskslim_train['Y'][train_inds],  #labels\n",
    "        \"sample_weights\":  riskslim_train['sample_weights'][train_inds],\n",
    "        \"variable_names\":  riskslim_train['variable_names'], \n",
    "        \"outcome_name\": riskslim_train['outcome_name']\n",
    "    }\n",
    "\n",
    "    x_train_agg.append(train_fold[\"X\"])\n",
    "    y_train_agg.append(train_fold[\"Y\"])\n",
    "    \n",
    "    x_test_agg.append(X_test)\n",
    "    y_test_agg.append(Y_test)\n",
    "        \n",
    "    ## fit the model\n",
    "    model_info, mip_info, lcpa_info = fit_riskSLIM(train_fold , params)\n",
    "    model_information.append(model_info)\n",
    "    print_model(model_info['solution'], train_fold)"
   ]
  },
  {
   "cell_type": "code",
   "execution_count": 28,
   "metadata": {
    "hideCode": false,
    "hidePrompt": false
   },
   "outputs": [],
   "source": [
    "subtraction_scores = [3, 7, 10, 3, 3]"
   ]
  },
  {
   "cell_type": "code",
   "execution_count": 29,
   "metadata": {
    "hideCode": false,
    "hidePrompt": false
   },
   "outputs": [
    {
     "data": {
      "text/plain": [
       "Text(0,0.5,'True Positive Rate')"
      ]
     },
     "execution_count": 29,
     "metadata": {},
     "output_type": "execute_result"
    },
    {
     "data": {
      "image/png": "[encoded data removed]",
      "text/plain": [
       "<Figure size 432x288 with 1 Axes>"
      ]
     },
     "metadata": {
      "needs_background": "light"
     },
     "output_type": "display_data"
    }
   ],
   "source": [
    "test_acc = []\n",
    "train_acc = []\n",
    "\n",
    "for i in range(n_folds):\n",
    "#     plt.figure(figsize=(8,6))\n",
    "    test_prob = riskslim_prediction(x_test_agg[i], model_information[i], subtraction_scores[i])\n",
    "    train_prob = riskslim_prediction(x_train_agg[i], model_information[i], subtraction_scores[i])\n",
    "    y_test, y_train = y_test_agg[i], y_train_agg[i]\n",
    "    y_test[y_test == -1] = 0\n",
    "    y_train[y_train == -1] = 0\n",
    "    \n",
    "    test_acc.append(np.mean((test_prob > 0.5) == y_test))\n",
    "    train_acc.append(np.mean((train_prob > 0.5) == y_test))\n",
    "    ## compute ROC curve and AUC\n",
    "    fpr, tpr, thresholds = roc_curve(y_test, test_prob)\n",
    "    roc_auc = auc(fpr, tpr)\n",
    "    plt.plot(fpr, tpr, lw=1, alpha=0.8, \n",
    "             label = 'ROC fold %d (AUC = %0.2f)' % (i, roc_auc))\n",
    "    i += 1\n",
    "    \n",
    "plt.plot([0, 1], [0, 1], lw=2, linestyle = '--',color='black',alpha=.8)\n",
    "plt.title(\"ROC & AUC\")\n",
    "plt.legend(loc = \"lower right\")\n",
    "plt.xlim([-0.05, 1.05])\n",
    "plt.ylim([-0.05, 1.05])\n",
    "plt.xlabel('False Positive Rate')\n",
    "plt.ylabel('True Positive Rate')"
   ]
  },
  {
   "cell_type": "code",
   "execution_count": 31,
   "metadata": {
    "hideCode": false,
    "hidePrompt": false
   },
   "outputs": [
    {
     "data": {
      "text/plain": [
       "[0.5227878206371404,\n",
       " 0.5335463258785943,\n",
       " 0.49985199399810143,\n",
       " 0.5045200525969756,\n",
       " 0.5163954635108481]"
      ]
     },
     "execution_count": 31,
     "metadata": {},
     "output_type": "execute_result"
    }
   ],
   "source": [
    "test_acc"
   ]
  },
  {
   "cell_type": "code",
   "execution_count": null,
   "metadata": {
    "hideCode": false,
    "hidePrompt": false
   },
   "outputs": [],
   "source": []
  },
  {
   "cell_type": "code",
   "execution_count": null,
   "metadata": {
    "hideCode": false,
    "hidePrompt": false
   },
   "outputs": [],
   "source": []
  },
  {
   "cell_type": "code",
   "execution_count": null,
   "metadata": {
    "hideCode": false,
    "hidePrompt": false
   },
   "outputs": [],
   "source": []
  },
  {
   "cell_type": "code",
   "execution_count": null,
   "metadata": {
    "hideCode": false,
    "hidePrompt": false
   },
   "outputs": [],
   "source": []
  },
  {
   "cell_type": "code",
   "execution_count": null,
   "metadata": {
    "hideCode": false,
    "hidePrompt": false
   },
   "outputs": [],
   "source": []
  }
 ],
 "metadata": {
  "hide_code_all_hidden": false,
  "kernelspec": {
   "display_name": "Python 3",
   "language": "python",
   "name": "python3"
  },
  "language_info": {
   "codemirror_mode": {
    "name": "ipython",
    "version": 3
   },
   "file_extension": ".py",
   "mimetype": "text/x-python",
   "name": "python",
   "nbconvert_exporter": "python",
   "pygments_lexer": "ipython3",
   "version": "3.7.0"
  }
 },
 "nbformat": 4,
 "nbformat_minor": 2
}
