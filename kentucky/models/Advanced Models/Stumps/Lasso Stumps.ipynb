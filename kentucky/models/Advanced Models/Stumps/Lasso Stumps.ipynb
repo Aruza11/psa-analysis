{
 "cells": [
  {
   "cell_type": "code",
   "execution_count": 1,
   "metadata": {
    "hideCode": false,
    "hidePrompt": false
   },
   "outputs": [],
   "source": [
    "import numpy as np\n",
    "import csv\n",
    "import pandas as pd\n",
    "import matplotlib.pyplot as plt\n",
    "import string\n",
    "\n",
    "from sklearn.linear_model import Lasso\n",
    "from sklearn.model_selection import StratifiedKFold, KFold, GridSearchCV\n",
    "from sklearn.metrics import roc_curve, auc, roc_auc_score"
   ]
  },
  {
   "cell_type": "code",
   "execution_count": 2,
   "metadata": {
    "hideCode": false,
    "hidePrompt": false
   },
   "outputs": [],
   "source": [
    "## load data\n",
    "data = pd.read_csv(\"~/Documents/Duke/Cynthia Research/KY-analysis-mytrials/KY Recidivism/KY data/kentucky_stumps.csv\")\n",
    "X, Y = data.loc[:,:'current_violence>=1'], data.loc[:,'recid_two_year'].values\n",
    "Y[Y == -1] = 0\n",
    "cols = data.columns[:-14]"
   ]
  },
  {
   "cell_type": "code",
   "execution_count": 3,
   "metadata": {
    "hideCode": false,
    "hidePrompt": false
   },
   "outputs": [],
   "source": [
    "## set up parameters\n",
    "cross_validation = KFold(n_splits=5,shuffle=True,random_state=816)\n",
    "lasso = Lasso(random_state=816)\n",
    "#c_grid = {\"alpha\": [1e-5, 1e-4, 1e-3, 1e-2, 0.1, 1]}\n",
    "c_grid = {\"alpha\": [0.005]}\n",
    "\n",
    "## cross validation\n",
    "clf = GridSearchCV(estimator=lasso, param_grid=c_grid, scoring='roc_auc',cv=cross_validation, return_train_score=True).fit(X,Y)\n",
    "train_score = clf.cv_results_['mean_train_score']\n",
    "test_score = clf.cv_results_['mean_test_score']\n",
    "test_std = clf.cv_results_['std_test_score']\n",
    "\n",
    "### scores\n",
    "best_auc = clf.best_score_\n",
    "best_std = test_std[np.where(test_score == clf.best_score_)[0][0]]\n",
    "best_param = clf.best_params_\n",
    "auc_diff = train_score[np.where(test_score == clf.best_score_)[0][0]] - clf.best_score_"
   ]
  },
  {
   "cell_type": "code",
   "execution_count": 4,
   "metadata": {
    "hideCode": false,
    "hidePrompt": false
   },
   "outputs": [
    {
     "data": {
      "text/plain": [
       "(0.7318459687776246,\n",
       " 0.0014963010243309515,\n",
       " {'alpha': 0.005},\n",
       " 0.00013438046293301475)"
      ]
     },
     "execution_count": 4,
     "metadata": {},
     "output_type": "execute_result"
    }
   ],
   "source": [
    "best_auc, best_std, best_param, auc_diff"
   ]
  },
  {
   "cell_type": "code",
   "execution_count": 8,
   "metadata": {
    "hideCode": false,
    "hidePrompt": false
   },
   "outputs": [
    {
     "data": {
      "text/plain": [
       "(array([0.73198035]), array([0.73184597]))"
      ]
     },
     "execution_count": 8,
     "metadata": {},
     "output_type": "execute_result"
    }
   ],
   "source": [
    "clf.cv_results_['mean_train_score'], clf.cv_results_['mean_test_score']"
   ]
  },
  {
   "cell_type": "markdown",
   "metadata": {
    "hideCode": false,
    "hidePrompt": false
   },
   "source": [
    "#### best parameter"
   ]
  },
  {
   "cell_type": "code",
   "execution_count": 4,
   "metadata": {
    "hideCode": false,
    "hidePrompt": false
   },
   "outputs": [],
   "source": [
    "lasso = Lasso(random_state=816, alpha=0.005).fit(X,Y)\n",
    "coefs = lasso.coef_[lasso.coef_ != 0]\n",
    "features = cols[lasso.coef_ != 0].tolist()\n",
    "\n",
    "## data frame\n",
    "coefs_pd = pd.DataFrame(coefs[coefs != 0])\n",
    "features_pd = pd.DataFrame(cols[lasso.coef_ != 0])\n",
    "\n",
    "## dictionary\n",
    "lasso_dict = {}\n",
    "lasso_dict_rounding = {}\n",
    "for i in range(len(features)):\n",
    "    lasso_dict.update({features[i]: coefs[i]})\n",
    "    lasso_dict_rounding.update({features[i]: round(coefs[i], 3)})"
   ]
  },
  {
   "cell_type": "code",
   "execution_count": 5,
   "metadata": {
    "hideCode": false,
    "hidePrompt": false
   },
   "outputs": [
    {
     "data": {
      "text/html": [
       "<div>\n",
       "<style scoped>\n",
       "    .dataframe tbody tr th:only-of-type {\n",
       "        vertical-align: middle;\n",
       "    }\n",
       "\n",
       "    .dataframe tbody tr th {\n",
       "        vertical-align: top;\n",
       "    }\n",
       "\n",
       "    .dataframe thead th {\n",
       "        text-align: right;\n",
       "    }\n",
       "</style>\n",
       "<table border=\"1\" class=\"dataframe\">\n",
       "  <thead>\n",
       "    <tr style=\"text-align: right;\">\n",
       "      <th></th>\n",
       "      <th>Features</th>\n",
       "      <th>Scores</th>\n",
       "    </tr>\n",
       "  </thead>\n",
       "  <tbody>\n",
       "    <tr>\n",
       "      <th>0</th>\n",
       "      <td>Gender&gt;=1</td>\n",
       "      <td>0.004455</td>\n",
       "    </tr>\n",
       "    <tr>\n",
       "      <th>1</th>\n",
       "      <td>age_at_current_charge&lt;=38</td>\n",
       "      <td>0.006681</td>\n",
       "    </tr>\n",
       "    <tr>\n",
       "      <th>2</th>\n",
       "      <td>age_at_current_charge&lt;=43</td>\n",
       "      <td>0.005366</td>\n",
       "    </tr>\n",
       "    <tr>\n",
       "      <th>3</th>\n",
       "      <td>p_arrest&gt;=2</td>\n",
       "      <td>0.117572</td>\n",
       "    </tr>\n",
       "    <tr>\n",
       "      <th>4</th>\n",
       "      <td>p_arrest&gt;=3</td>\n",
       "      <td>0.098334</td>\n",
       "    </tr>\n",
       "    <tr>\n",
       "      <th>5</th>\n",
       "      <td>p_arrest&gt;=4</td>\n",
       "      <td>0.076164</td>\n",
       "    </tr>\n",
       "    <tr>\n",
       "      <th>6</th>\n",
       "      <td>p_arrest&gt;=5</td>\n",
       "      <td>0.064375</td>\n",
       "    </tr>\n",
       "    <tr>\n",
       "      <th>7</th>\n",
       "      <td>p_arrest&gt;=6</td>\n",
       "      <td>0.018135</td>\n",
       "    </tr>\n",
       "    <tr>\n",
       "      <th>8</th>\n",
       "      <td>p_violence&gt;=1</td>\n",
       "      <td>0.023772</td>\n",
       "    </tr>\n",
       "    <tr>\n",
       "      <th>9</th>\n",
       "      <td>p_felony&gt;=1</td>\n",
       "      <td>0.016886</td>\n",
       "    </tr>\n",
       "    <tr>\n",
       "      <th>10</th>\n",
       "      <td>p_jail30&gt;=1</td>\n",
       "      <td>0.031030</td>\n",
       "    </tr>\n",
       "    <tr>\n",
       "      <th>11</th>\n",
       "      <td>p_pending_charge&gt;=1</td>\n",
       "      <td>0.066514</td>\n",
       "    </tr>\n",
       "    <tr>\n",
       "      <th>12</th>\n",
       "      <td>p_probation&gt;=1</td>\n",
       "      <td>0.024058</td>\n",
       "    </tr>\n",
       "  </tbody>\n",
       "</table>\n",
       "</div>"
      ],
      "text/plain": [
       "                     Features    Scores\n",
       "0                   Gender>=1  0.004455\n",
       "1   age_at_current_charge<=38  0.006681\n",
       "2   age_at_current_charge<=43  0.005366\n",
       "3                 p_arrest>=2  0.117572\n",
       "4                 p_arrest>=3  0.098334\n",
       "5                 p_arrest>=4  0.076164\n",
       "6                 p_arrest>=5  0.064375\n",
       "7                 p_arrest>=6  0.018135\n",
       "8               p_violence>=1  0.023772\n",
       "9                 p_felony>=1  0.016886\n",
       "10                p_jail30>=1  0.031030\n",
       "11        p_pending_charge>=1  0.066514\n",
       "12             p_probation>=1  0.024058"
      ]
     },
     "execution_count": 5,
     "metadata": {},
     "output_type": "execute_result"
    }
   ],
   "source": [
    "lasso_table = pd.concat([features_pd, coefs_pd], axis=1)\n",
    "lasso_table.columns = ['Features', 'Scores']\n",
    "lasso_table"
   ]
  },
  {
   "cell_type": "code",
   "execution_count": 6,
   "metadata": {
    "hideCode": false,
    "hidePrompt": false
   },
   "outputs": [
    {
     "data": {
      "text/plain": [
       "{'Gender>=1': 0.0044546309326704055,\n",
       " 'age_at_current_charge<=38': 0.006680842078803956,\n",
       " 'age_at_current_charge<=43': 0.0053663805372356245,\n",
       " 'p_arrest>=2': 0.11757237988110689,\n",
       " 'p_arrest>=3': 0.09833374472374713,\n",
       " 'p_arrest>=4': 0.07616426508858538,\n",
       " 'p_arrest>=5': 0.06437471562703184,\n",
       " 'p_arrest>=6': 0.018135212859053833,\n",
       " 'p_violence>=1': 0.023771766780575018,\n",
       " 'p_felony>=1': 0.016885887747466778,\n",
       " 'p_jail30>=1': 0.031029922666297994,\n",
       " 'p_pending_charge>=1': 0.06651445100465785,\n",
       " 'p_probation>=1': 0.024057715161136594}"
      ]
     },
     "execution_count": 6,
     "metadata": {},
     "output_type": "execute_result"
    }
   ],
   "source": [
    "lasso_dict"
   ]
  },
  {
   "cell_type": "markdown",
   "metadata": {
    "hideCode": false,
    "hidePrompt": false
   },
   "source": [
    "#### Cross Validation\n",
    "-- Original dictionary"
   ]
  },
  {
   "cell_type": "code",
   "execution_count": 26,
   "metadata": {
    "hideCode": false,
    "hidePrompt": false
   },
   "outputs": [],
   "source": [
    "cv = KFold(n_splits=5, shuffle=True, random_state=816)\n",
    "train_auc = []\n",
    "test_auc = []\n",
    "\n",
    "i = 0\n",
    "for train, test in cv.split(X,Y):    \n",
    "    train_pred = test_pred = 0  \n",
    "    X_train, Y_train = X.iloc[train], Y[train]\n",
    "    X_test, Y_test = X.iloc[test], Y[test]\n",
    "    \n",
    "    for k in features:\n",
    "        train_values = X_train[k]*lasso_dict[k]\n",
    "        test_values = X_test[k]*lasso_dict[k]\n",
    "        train_pred += train_values\n",
    "        test_pred += test_values\n",
    "        \n",
    "    train_pred += lasso.intercept_\n",
    "    test_pred += lasso.intercept_\n",
    "    \n",
    "    ## auc\n",
    "    train_fpr, train_tpr, train_thresholds = roc_curve(Y_train, train_pred)\n",
    "    test_fpr, test_tpr, test_thresholds = roc_curve(Y_test, test_pred)\n",
    "    train_auc.append(auc(train_fpr, train_tpr))\n",
    "    test_auc.append(auc(test_fpr, test_tpr))\n",
    "    i += 1"
   ]
  },
  {
   "cell_type": "code",
   "execution_count": 27,
   "metadata": {
    "hideCode": false,
    "hidePrompt": false
   },
   "outputs": [
    {
     "data": {
      "text/plain": [
       "(0.7318336762428725, 0.7318208857378687)"
      ]
     },
     "execution_count": 27,
     "metadata": {},
     "output_type": "execute_result"
    }
   ],
   "source": [
    "np.mean(train_auc), np.mean(test_auc)"
   ]
  },
  {
   "cell_type": "markdown",
   "metadata": {
    "hideCode": false,
    "hidePrompt": false
   },
   "source": [
    "-- Rounding Dictionary"
   ]
  },
  {
   "cell_type": "code",
   "execution_count": 28,
   "metadata": {
    "hideCode": false,
    "hidePrompt": false
   },
   "outputs": [],
   "source": [
    "cv = KFold(n_splits=5, shuffle=True, random_state=816)\n",
    "train_auc = []\n",
    "test_auc = []\n",
    "\n",
    "i = 0\n",
    "for train, test in cv.split(X,Y):    \n",
    "    train_pred = test_pred = 0  \n",
    "    X_train, Y_train = X.iloc[train], Y[train]\n",
    "    X_test, Y_test = X.iloc[test], Y[test]\n",
    "    \n",
    "    for k in features:\n",
    "        train_values = X_train[k]*lasso_dict_rounding[k]\n",
    "        test_values = X_test[k]*lasso_dict_rounding[k]\n",
    "        train_pred += train_values\n",
    "        test_pred += test_values\n",
    "        \n",
    "    train_pred += round(lasso.intercept_,3)\n",
    "    test_pred += round(lasso.intercept_,3)\n",
    "    \n",
    "    ## auc\n",
    "    train_fpr, train_tpr, train_thresholds = roc_curve(Y_train, train_pred)\n",
    "    test_fpr, test_tpr, test_thresholds = roc_curve(Y_test, test_pred)\n",
    "    train_auc.append(auc(train_fpr, train_tpr))\n",
    "    test_auc.append(auc(test_fpr, test_tpr))\n",
    "    i += 1"
   ]
  },
  {
   "cell_type": "code",
   "execution_count": 29,
   "metadata": {
    "hideCode": false,
    "hidePrompt": false
   },
   "outputs": [
    {
     "data": {
      "text/plain": [
       "(0.731869832566285, 0.7318585784054392)"
      ]
     },
     "execution_count": 29,
     "metadata": {},
     "output_type": "execute_result"
    }
   ],
   "source": [
    "np.mean(train_auc), np.mean(test_auc)"
   ]
  },
  {
   "cell_type": "markdown",
   "metadata": {
    "hideCode": false,
    "hidePrompt": false
   },
   "source": [
    "## Make Table"
   ]
  },
  {
   "cell_type": "code",
   "execution_count": 7,
   "metadata": {
    "hideCode": false,
    "hidePrompt": false
   },
   "outputs": [
    {
     "name": "stdout",
     "output_type": "stream",
     "text": [
      "+-----------------------------------+----------------+\n",
      "| Features                          | Score          |\n",
      "|====================================================|\n",
      "| Gender>=1                         | 0.004          |\n",
      "| age_at_current_charge<=38         | 0.007          |\n",
      "| age_at_current_charge<=43         | 0.005          |\n",
      "| p_arrest>=2                       | 0.118          |\n",
      "| p_arrest>=3                       | 0.098          |\n",
      "| p_arrest>=4                       | 0.076          |\n",
      "| p_arrest>=5                       | 0.064          |\n",
      "| p_arrest>=6                       | 0.018          |\n",
      "| p_violence>=1                     | 0.024          |\n",
      "| p_felony>=1                       | 0.017          |\n",
      "| p_jail30>=1                       | 0.031          |\n",
      "| p_pending_charge>=1               | 0.067          |\n",
      "| p_probation>=1                    | 0.024          |\n",
      "| Intercept                         | 0.123           |\n",
      "|====================================================|\n",
      "| ADD POINTS FROM ROWS 1 TO 13      | Total Score    |\n",
      "+-----------------------------------+----------------+\n"
     ]
    }
   ],
   "source": [
    "print('+-----------------------------------+----------------+')\n",
    "print('|', 'Features', '{n:>{ind}}'.format(n = '|', ind=26), 'Score', '{n:>{ind}}'.format(n = '|', ind=10))\n",
    "print('|====================================================|')\n",
    "for i in range(len(lasso_dict)):\n",
    "    print('|', features[i], '{n:>{ind}}'.format(n = '|', ind=35 - len('|'+features[i])),lasso_dict_rounding[features[i]], '{n:>{ind}}'.format(n = '|', ind = 15 - len(np.str(lasso_dict_rounding[features[i]]))))\n",
    "print('|', 'Intercept', '{n:>{ind}}'.format(n = '|', ind=25), round(lasso.intercept_,3), '{n:>{ind}}'.format(n = '|', ind = 29 - len(np.str(lasso.intercept_)))) \n",
    "print('|====================================================|')\n",
    "print('|', 'ADD POINTS FROM ROWS 1 TO', len(lasso_dict), '{n:>{ind}}'.format(n = '|', ind = 6), 'Total Score', '{n:>{ind}}'.format(n = '|', ind = 4))\n",
    "print('+-----------------------------------+----------------+')"
   ]
  },
  {
   "cell_type": "markdown",
   "metadata": {
    "hideCode": false,
    "hidePrompt": false
   },
   "source": [
    "## Visualization"
   ]
  },
  {
   "cell_type": "code",
   "execution_count": 8,
   "metadata": {
    "hideCode": false,
    "hidePrompt": false
   },
   "outputs": [],
   "source": [
    "labels = ['Gender', 'age_at_current_charge', 'arrest', 'charges', 'violence', 'felony', 'misdemeanor', 'property', 'murder', \n",
    "          'assault', 'sex_offense', 'weapon', 'felprop_viol', 'felassault', 'misdeassult', 'traffic', 'drug', 'dui', \n",
    "          'stalking', 'voyeurism', 'fraud', 'stealing', 'trespass', 'ADE', 'Treatment', 'prison', 'jail', 'fta_two_year', \n",
    "          'fta_two_year_plus', 'pending_charge', 'probation', 'SentMonths', 'six_month', 'one_year', 'three_year', \n",
    "          'five_year', 'current_violence']"
   ]
  },
  {
   "cell_type": "code",
   "execution_count": 11,
   "metadata": {
    "hideCode": false,
    "hidePrompt": false
   },
   "outputs": [],
   "source": [
    "def stumps_visulization(label, sub_features, features, coefs):\n",
    "    cutoffs = []\n",
    "    cutoff_values = []        \n",
    "    cutoff_prep = []\n",
    "    cutoff_values_prep = []\n",
    "    \n",
    "    ## select features\n",
    "    if label == 'age_at_current_charge':\n",
    "        \n",
    "        ## sanity check\n",
    "        if len(sub_features) == 1:\n",
    "            cutoffs.append(int(sub_features[0][sub_features[0].find('=')+1:]))\n",
    "            cutoff_values.append(coefs[np.where(np.array(features) == sub_features[0])[0][0]])\n",
    "            \n",
    "            ## prepare values\n",
    "            cutoff_prep.append(np.linspace(18, cutoffs[0]+0.5, 1000))\n",
    "            cutoff_prep.append(np.linspace(cutoffs[0]+0.5, 70, 1000))\n",
    "            cutoff_values_prep.append(np.repeat(cutoff_values[0], 1000))\n",
    "            cutoff_values_prep.append(np.repeat(0, 1000))\n",
    "            \n",
    "            plt.figure(figsize=(4,3))\n",
    "            plt.scatter(cutoff_prep, cutoff_values_prep, s=0.05)\n",
    "            plt.vlines(x=cutoffs[0]+0.5, ymin=0, ymax=cutoff_values[0], colors='C0', linestyles='dashed')\n",
    "            plt.title(label)\n",
    "            plt.show()\n",
    "        else:\n",
    "            for j in sub_features:\n",
    "                cutoff_values.append(coefs[np.where(np.array(features) == j)[0][0]])\n",
    "                cutoffs.append(int(j[j.find('=')+1:])) \n",
    "            \n",
    "            ## prepare cutoff values for plots\n",
    "            for n in range(len(cutoffs)-1):\n",
    "                cutoff_prep.append(np.linspace(cutoffs[n]-0.5, cutoffs[n+1]-0.5, 1000))\n",
    "                cutoff_values_prep.append(np.repeat(np.sum(cutoff_values[n:]), 1000)) \n",
    "            cutoff_prep.append(np.linspace(cutoffs[-1]-0.5, 70, 1000))\n",
    "            cutoff_values_prep.append(np.repeat(np.sum(cutoff_values[-1]), 1000)) \n",
    "            \n",
    "            ## visulization\n",
    "            unique = np.unique(cutoff_values_prep)[::-1]\n",
    "            unique_len = len(unique)\n",
    "            plt.figure(figsize=(4,3))\n",
    "            plt.scatter(cutoff_prep, cutoff_values_prep, s=0.05)\n",
    "            for m in range(1,unique_len):\n",
    "                plt.vlines(x=cutoffs[m]-0.5, ymin=unique[m], ymax=unique[m-1], colors = \"C0\", linestyles='dashed')\n",
    "            plt.title(label)\n",
    "            plt.show()\n",
    "    else:\n",
    "        ## sanity check\n",
    "        if len(sub_features) == 1:\n",
    "            cutoffs.append(int(sub_features[0][sub_features[0].find('=')+1:]))\n",
    "            cutoff_values.append(coefs[np.where(np.array(features) == sub_features[0])[0][0]])\n",
    "            \n",
    "            ## prepare values\n",
    "            cutoff_prep.append(np.linspace(-0.5, cutoffs[0]-0.5, 1000))\n",
    "            cutoff_prep.append(np.linspace(cutoffs[0]-0.5, cutoffs[0]+0.5, 1000))\n",
    "            cutoff_values_prep.append(np.repeat(0, 1000))\n",
    "            cutoff_values_prep.append(np.repeat(cutoff_values[0], 1000))\n",
    "            \n",
    "            plt.figure(figsize=(4,3))\n",
    "            plt.scatter(cutoff_prep, cutoff_values_prep, s=0.05)\n",
    "            plt.vlines(x=cutoffs[0]-0.5, ymin=0, ymax=cutoff_values[0], colors='C0', linestyles='dashed')\n",
    "            plt.title(label)\n",
    "            plt.show()     \n",
    "        else:\n",
    "            for j in sub_features:\n",
    "                cutoff_values.append(coefs[np.where(np.array(features) == j)[0][0]])\n",
    "                cutoffs.append(int(j[j.find('=')+1:])) \n",
    "            \n",
    "            ## prepare cutoff values for plots\n",
    "            cutoff_prep = []\n",
    "            cutoff_values_prep = []\n",
    "            \n",
    "            for n in range(len(cutoffs)-1):\n",
    "                cutoff_prep.append(np.linspace(cutoffs[n]-0.5, cutoffs[n+1]-0.5, 1000))\n",
    "                cutoff_values_prep.append(np.repeat(np.sum(cutoff_values[:n+1]), 1000))    \n",
    "            cutoff_prep.append(np.linspace(cutoffs[-1]-0.5, cutoffs[-1]+0.5, 1000))\n",
    "            cutoff_values_prep.append(np.repeat(np.sum(cutoff_values), 1000))   \n",
    "            \n",
    "            \n",
    "            \n",
    "            ## visualization\n",
    "            unique = np.unique(cutoff_values_prep)\n",
    "            unique_len = len(unique)\n",
    "            plt.figure(figsize=(4,3))\n",
    "            plt.scatter(cutoff_prep, cutoff_values_prep, s=0.05)\n",
    "            for m in range(1, unique_len):\n",
    "                plt.vlines(x=cutoffs[m]-0.5, ymin=unique[m], ymax=unique[m-1], colors = \"C0\", linestyles='dashed')\n",
    "            plt.title(label)\n",
    "            plt.show()          "
   ]
  },
  {
   "cell_type": "code",
   "execution_count": 14,
   "metadata": {
    "hideCode": false,
    "hidePrompt": false
   },
   "outputs": [],
   "source": [
    "labels = ['age_at_current_charge']"
   ]
  },
  {
   "cell_type": "code",
   "execution_count": 15,
   "metadata": {
    "hideCode": false,
    "hidePrompt": false,
    "scrolled": true
   },
   "outputs": [
    {
     "data": {
      "image/png": "[encoded data removed]",
      "text/plain": [
       "<Figure size 288x216 with 1 Axes>"
      ]
     },
     "metadata": {
      "needs_background": "light"
     },
     "output_type": "display_data"
    }
   ],
   "source": [
    "for i in labels:\n",
    "    sub_features = np.array(np.array(features)[[i in k for k in features]])\n",
    "    if len(sub_features) == 0:\n",
    "        continue\n",
    "    stumps_visulization(i, sub_features, features, coefs)"
   ]
  },
  {
   "cell_type": "code",
   "execution_count": null,
   "metadata": {
    "hideCode": false,
    "hidePrompt": false
   },
   "outputs": [],
   "source": []
  },
  {
   "cell_type": "code",
   "execution_count": null,
   "metadata": {
    "hideCode": false,
    "hidePrompt": false
   },
   "outputs": [],
   "source": []
  },
  {
   "cell_type": "code",
   "execution_count": null,
   "metadata": {
    "hideCode": false,
    "hidePrompt": false
   },
   "outputs": [],
   "source": []
  },
  {
   "cell_type": "code",
   "execution_count": 65,
   "metadata": {
    "hideCode": false,
    "hidePrompt": false
   },
   "outputs": [],
   "source": [
    "cutoffs = [38, 43]\n",
    "cutoff_values = [0.007, 0.005]\n",
    "cutoff_prep = []\n",
    "cutoff_values_prep = []"
   ]
  },
  {
   "cell_type": "code",
   "execution_count": 66,
   "metadata": {
    "hideCode": false,
    "hidePrompt": false
   },
   "outputs": [],
   "source": [
    "cutoffs.insert(0,18)\n",
    "cutoffs.append(70)\n",
    "cutoff_values.append(0)"
   ]
  },
  {
   "cell_type": "code",
   "execution_count": 67,
   "metadata": {
    "hideCode": false,
    "hidePrompt": false
   },
   "outputs": [
    {
     "data": {
      "text/plain": [
       "[18, 38, 43, 70]"
      ]
     },
     "execution_count": 67,
     "metadata": {},
     "output_type": "execute_result"
    }
   ],
   "source": [
    "cutoffs"
   ]
  },
  {
   "cell_type": "code",
   "execution_count": 68,
   "metadata": {},
   "outputs": [
    {
     "data": {
      "text/plain": [
       "[0.007, 0.005, 0]"
      ]
     },
     "execution_count": 68,
     "metadata": {},
     "output_type": "execute_result"
    }
   ],
   "source": [
    "cutoff_values"
   ]
  },
  {
   "cell_type": "code",
   "execution_count": 70,
   "metadata": {},
   "outputs": [
    {
     "data": {
      "text/plain": [
       "[0, 1, 2]"
      ]
     },
     "execution_count": 70,
     "metadata": {},
     "output_type": "execute_result"
    }
   ],
   "source": [
    "list(range(3))"
   ]
  },
  {
   "cell_type": "code",
   "execution_count": 71,
   "metadata": {
    "hideCode": false,
    "hidePrompt": false
   },
   "outputs": [],
   "source": [
    "for n in range(len(cutoffs)-1):\n",
    "    cutoff_prep.append(np.linspace(cutoffs[n]+0.5, cutoffs[n+1]+0.5, 1000))\n",
    "    cutoff_values_prep.append(np.repeat(np.sum(cutoff_values[n:]), 1000)) "
   ]
  },
  {
   "cell_type": "code",
   "execution_count": 72,
   "metadata": {
    "hideCode": false,
    "hidePrompt": false
   },
   "outputs": [
    {
     "data": {
      "image/png": "[encoded data removed]",
      "text/plain": [
       "<Figure size 288x216 with 1 Axes>"
      ]
     },
     "metadata": {
      "needs_background": "light"
     },
     "output_type": "display_data"
    }
   ],
   "source": [
    "## visulization\n",
    "unique = np.unique(cutoff_values_prep)[::-1]\n",
    "unique_len = len(unique)\n",
    "plt.figure(figsize=(4,3))\n",
    "plt.scatter(cutoff_prep, cutoff_values_prep, s=0.05)\n",
    "for m in range(1,unique_len):\n",
    "    plt.vlines(x=cutoffs[m]-0.5, ymin=unique[m], ymax=unique[m-1], colors = \"C0\", linestyles='dashed')\n",
    "plt.show()"
   ]
  },
  {
   "cell_type": "markdown",
   "metadata": {
    "hideCode": false,
    "hidePrompt": false
   },
   "source": [
    " "
   ]
  },
  {
   "cell_type": "markdown",
   "metadata": {
    "hideCode": false,
    "hidePrompt": false
   },
   "source": [
    " "
   ]
  },
  {
   "cell_type": "markdown",
   "metadata": {
    "hideCode": false,
    "hidePrompt": false
   },
   "source": [
    " "
   ]
  },
  {
   "cell_type": "markdown",
   "metadata": {
    "hideCode": false,
    "hidePrompt": false
   },
   "source": [
    " "
   ]
  },
  {
   "cell_type": "markdown",
   "metadata": {
    "hideCode": false,
    "hidePrompt": false
   },
   "source": [
    " "
   ]
  },
  {
   "cell_type": "markdown",
   "metadata": {
    "hideCode": false,
    "hidePrompt": false
   },
   "source": [
    " "
   ]
  },
  {
   "cell_type": "markdown",
   "metadata": {
    "hideCode": false,
    "hidePrompt": false
   },
   "source": [
    " "
   ]
  },
  {
   "cell_type": "markdown",
   "metadata": {
    "hideCode": false,
    "hidePrompt": false
   },
   "source": [
    " "
   ]
  },
  {
   "cell_type": "markdown",
   "metadata": {
    "hideCode": false,
    "hidePrompt": false
   },
   "source": [
    "### Appendix"
   ]
  },
  {
   "cell_type": "code",
   "execution_count": 22,
   "metadata": {
    "hideCode": false,
    "hidePrompt": false
   },
   "outputs": [],
   "source": [
    "def stumps_visulization(label, sub_features, features, coefs):\n",
    "    cutoffs = []\n",
    "    cutoff_values = []        \n",
    "    \n",
    "    ## select features\n",
    "    if label == 'age_at_current_charge':\n",
    "        \n",
    "        ## sanity check\n",
    "        if len(sub_features) == 0:\n",
    "            pass\n",
    "        else:\n",
    "            for j in sub_features:\n",
    "                cutoff_values.append(coefs[np.where(np.array(features) == j)[0][0]])\n",
    "                cutoffs.append(int(j[j.find('=')+1:])) \n",
    "            \n",
    "            ## prepare cutoff values for plots\n",
    "            cutoff_prep = []\n",
    "            cutoff_values_prep = []\n",
    "            \n",
    "            for n in range(len(cutoffs)-1):\n",
    "                cutoff_prep.append(np.linspace(cutoffs[n]-0.5, cutoffs[n+1]-0.5, 1000))\n",
    "                cutoff_values_prep.append(np.repeat(np.sum(cutoff_values[n:]), 1000)) \n",
    "            cutoff_prep.append(np.linspace(cutoffs[-1]-0.5, 70, 1000))\n",
    "            cutoff_values_prep.append(np.repeat(np.sum(cutoff_values[-1]), 1000)) \n",
    "            \n",
    "        ## visulization\n",
    "        unique = np.unique(cutoff_values_prep)[::-1]\n",
    "        unique_len = len(unique)\n",
    "        plt.scatter(cutoff_prep, cutoff_values_prep, s=0.05)\n",
    "        for m in range(1,unique_len):\n",
    "            plt.vlines(x=cutoffs[m]-0.5, ymin=unique[m], ymax=unique[m-1], colors = \"C0\", linestyles='dashed')\n",
    "        plt.title(i)\n",
    "        plt.show()\n",
    "    else:\n",
    "        ## sanity check\n",
    "        if len(sub_features) == 0:\n",
    "            pass\n",
    "        else:\n",
    "            for j in sub_features:\n",
    "                cutoff_values.append(coefs[np.where(np.array(features) == j)[0][0]])\n",
    "                cutoffs.append(int(j[j.find('=')+1:])) \n",
    "            \n",
    "            ## prepare cutoff values for plots\n",
    "            cutoff_prep = []\n",
    "            cutoff_values_prep = []\n",
    "            \n",
    "            for n in range(len(cutoffs)-1):\n",
    "                cutoff_prep.append(np.linspace(cutoffs[n]-0.5, cutoffs[n+1]-0.5, 1000))\n",
    "                cutoff_values_prep.append(np.repeat(np.sum(cutoff_values[:n+1]), 1000))    \n",
    "            cutoff_prep.append(np.linspace(cutoffs[-1]-0.5, cutoffs[-1]+0.5, 1000))\n",
    "            cutoff_values_prep.append(np.repeat(np.sum(cutoff_values), 1000))   \n",
    "            \n",
    "        ## visualization\n",
    "        unique = np.unique(cutoff_values_prep)\n",
    "        unique_len = len(unique)\n",
    "        plt.scatter(cutoff_prep, cutoff_values_prep, s=0.05)\n",
    "        for m in range(1, unique_len):\n",
    "            plt.vlines(x=cutoffs[m]-0.5, ymin=unique[m], ymax=unique[m-1], colors = \"C0\", linestyles='dashed')\n",
    "        plt.title(i)\n",
    "        plt.show()          "
   ]
  }
 ],
 "metadata": {
  "hide_code_all_hidden": false,
  "kernelspec": {
   "display_name": "Python 3",
   "language": "python",
   "name": "python3"
  },
  "language_info": {
   "codemirror_mode": {
    "name": "ipython",
    "version": 3
   },
   "file_extension": ".py",
   "mimetype": "text/x-python",
   "name": "python",
   "nbconvert_exporter": "python",
   "pygments_lexer": "ipython3",
   "version": "3.7.0"
  }
 },
 "nbformat": 4,
 "nbformat_minor": 2
}
