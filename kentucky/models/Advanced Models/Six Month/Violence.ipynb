{
 "cells": [
  {
   "cell_type": "code",
   "execution_count": 1,
   "metadata": {},
   "outputs": [],
   "source": [
    "import pandas as pd \n",
    "import numpy as np\n",
    "import csv\n",
    "import advance_functions as advance\n",
    "import stumps\n",
    "from sklearn.model_selection import KFold\n",
    "from sklearn.metrics import roc_curve, auc"
   ]
  },
  {
   "cell_type": "markdown",
   "metadata": {},
   "source": [
    "### AdaBoost & EBM"
   ]
  },
  {
   "cell_type": "code",
   "execution_count": 2,
   "metadata": {},
   "outputs": [],
   "source": [
    "### train data\n",
    "train_data = pd.read_csv(\"~/Documents/Duke/Cynthia Research/KY-analysis-mytrials/KY Recidivism/KY data/kentucky_train.csv\")\n",
    "train_data = train_data.drop(['PersonID', 'screening_date', 'fta_risk_score_raw','nca_risk_score_raw',\n",
    "                  'pvf_risk_score_raw', 'fta_calc', 'nca_calc', 'pvf_calc'], axis=1)\n",
    "train_X = train_data.loc[:, :'current_violence']\n",
    "train_Y = train_data['recid_violence_six_month'].values\n",
    "\n",
    "### test data\n",
    "test_data = pd.read_csv(\"~/Documents/Duke/Cynthia Research/KY-analysis-mytrials/KY Recidivism/KY data/kentucky_test.csv\")\n",
    "test_data = test_data.drop(['PersonID', 'screening_date','fta_risk_score_raw','nca_risk_score_raw',\n",
    "                  'pvf_risk_score_raw', 'fta_calc', 'nca_calc', 'pvf_calc'], axis=1)\n",
    "test_X = test_data.loc[:, :'current_violence']\n",
    "test_Y = test_data['recid_violence_six_month'].values"
   ]
  },
  {
   "cell_type": "code",
   "execution_count": 3,
   "metadata": {},
   "outputs": [],
   "source": [
    "#### GAM\n",
    "estimators = [80]\n",
    "depth = [2]\n",
    "learning_rate = [0.3]\n",
    "ebm_summary = advance.EBM(train_X, train_Y, test_X, test_Y, learning_rate,depth,estimators,816)"
   ]
  },
  {
   "cell_type": "markdown",
   "metadata": {},
   "source": [
    "### Lasso Stumps"
   ]
  },
  {
   "cell_type": "code",
   "execution_count": 4,
   "metadata": {},
   "outputs": [],
   "source": [
    "## load stumps data\n",
    "data = pd.read_csv(\"~/Documents/Duke/Cynthia Research/KY-analysis-mytrials/KY Recidivism/KY data/kentucky_stumps.csv\")\n",
    "X_stumps, Y_stumps = data.loc[:,:'current_violence>=1'], data['recid_violence_six_month'].values\n",
    "Y_stumps[Y_stumps == -1] = 0\n",
    "cols = X_stumps.columns"
   ]
  },
  {
   "cell_type": "code",
   "execution_count": 5,
   "metadata": {},
   "outputs": [],
   "source": [
    "### stumps model\n",
    "alpha = [0.001]\n",
    "Stump = stumps.stump_features(X_stumps, Y_stumps, cols, alpha, 816)"
   ]
  },
  {
   "cell_type": "code",
   "execution_count": 6,
   "metadata": {
    "scrolled": true
   },
   "outputs": [
    {
     "name": "stdout",
     "output_type": "stream",
     "text": [
      "+-----------------------------------+----------------+\n",
      "| Features                          | Score          |\n",
      "|====================================================|\n",
      "| Gender>=1                         | 0.003          |\n",
      "| p_arrest>=2                       | 0.002          |\n",
      "| p_arrest>=3                       | 0.009          |\n",
      "| p_arrest>=4                       | 0.006          |\n",
      "| p_arrest>=5                       | 0.008          |\n",
      "| p_arrest>=7                       | 0.007          |\n",
      "| p_charges>=6                      | 0.002          |\n",
      "| p_violence>=1                     | 0.059          |\n",
      "| p_felony>=1                       | 0.003          |\n",
      "| p_felony>=2                       | 0.002          |\n",
      "| p_misdemeanor>=3                  | 0.003          |\n",
      "| p_jail30>=2                       | 0.004          |\n",
      "| p_pending_charge>=1               | 0.005          |\n",
      "| p_pending_charge>=2               | 0.001          |\n",
      "| current_violence>=1               | 0.009          |\n",
      "| Intercept                         | -0.005         |\n",
      "|====================================================|\n",
      "| ADD POINTS FROM ROWS 1 TO 15      | Total Score    |\n",
      "+-----------------------------------+----------------+\n"
     ]
    }
   ],
   "source": [
    "stumps.stump_table(Stump['coefs'], Stump['features'], Stump['intercept'], Stump['dictionary'])"
   ]
  },
  {
   "cell_type": "code",
   "execution_count": 8,
   "metadata": {},
   "outputs": [
    {
     "data": {
      "image/png": "[encoded data removed]",
      "text/plain": [
       "<Figure size 288x216 with 1 Axes>"
      ]
     },
     "metadata": {
      "needs_background": "light"
     },
     "output_type": "display_data"
    },
    {
     "data": {
      "image/png": "[encoded data removed]",
      "text/plain": [
       "<Figure size 288x216 with 1 Axes>"
      ]
     },
     "metadata": {
      "needs_background": "light"
     },
     "output_type": "display_data"
    },
    {
     "data": {
      "image/png": "[encoded data removed]",
      "text/plain": [
       "<Figure size 288x216 with 1 Axes>"
      ]
     },
     "metadata": {
      "needs_background": "light"
     },
     "output_type": "display_data"
    },
    {
     "data": {
      "image/png": "[encoded data removed]",
      "text/plain": [
       "<Figure size 288x216 with 1 Axes>"
      ]
     },
     "metadata": {
      "needs_background": "light"
     },
     "output_type": "display_data"
    },
    {
     "data": {
      "image/png": "[encoded data removed]",
      "text/plain": [
       "<Figure size 288x216 with 1 Axes>"
      ]
     },
     "metadata": {
      "needs_background": "light"
     },
     "output_type": "display_data"
    },
    {
     "data": {
      "image/png": "[encoded data removed]",
      "text/plain": [
       "<Figure size 288x216 with 1 Axes>"
      ]
     },
     "metadata": {
      "needs_background": "light"
     },
     "output_type": "display_data"
    },
    {
     "data": {
      "image/png": "[encoded data removed]",
      "text/plain": [
       "<Figure size 288x216 with 1 Axes>"
      ]
     },
     "metadata": {
      "needs_background": "light"
     },
     "output_type": "display_data"
    },
    {
     "data": {
      "image/png": "[encoded data removed]",
      "text/plain": [
       "<Figure size 288x216 with 1 Axes>"
      ]
     },
     "metadata": {
      "needs_background": "light"
     },
     "output_type": "display_data"
    },
    {
     "data": {
      "image/png": "[encoded data removed]",
      "text/plain": [
       "<Figure size 288x216 with 1 Axes>"
      ]
     },
     "metadata": {
      "needs_background": "light"
     },
     "output_type": "display_data"
    }
   ],
   "source": [
    "stumps.stump_plots(Stump['features'], Stump['coefs'])"
   ]
  },
  {
   "cell_type": "markdown",
   "metadata": {},
   "source": [
    "### Arnold PSA"
   ]
  },
  {
   "cell_type": "code",
   "execution_count": 9,
   "metadata": {},
   "outputs": [],
   "source": [
    "### load data\n",
    "data = pd.read_csv(\"~/Documents/Duke/Cynthia Research/KY-analysis-mytrials/KY Recidivism/KY data/kentucky_data.csv\")\n",
    "X_arnold_raw = data['pvf_risk_score_raw'].values\n",
    "X_arnold_calc = data['pvf_calc'].values\n",
    "Y_arnold = data['recid_violence_six_month'].values"
   ]
  },
  {
   "cell_type": "code",
   "execution_count": 10,
   "metadata": {},
   "outputs": [],
   "source": [
    "## set up cross validation\n",
    "cv = KFold(n_splits=5,shuffle=True,random_state=816)\n",
    "raw_auc = []\n",
    "calc_auc = []\n",
    "\n",
    "## raw score\n",
    "i = 1\n",
    "for train, test in cv.split(X_arnold_raw, Y_arnold):\n",
    "    y_pred_raw, y_pred_calc, y_test = X_arnold_raw[test], X_arnold_calc[test], Y_arnold[test]\n",
    "    raw_fpr, raw_tpr, raw_thresholds = roc_curve(y_test, y_pred_raw)\n",
    "    calc_fpr, calc_tpr, calc_thresholds = roc_curve(y_test, y_pred_calc)\n",
    "    raw_auc.append(auc(raw_fpr, raw_tpr))\n",
    "    calc_auc.append(auc(calc_fpr, calc_tpr))\n",
    "    i+=1 "
   ]
  },
  {
   "cell_type": "markdown",
   "metadata": {},
   "source": [
    "### Results"
   ]
  },
  {
   "cell_type": "code",
   "execution_count": 11,
   "metadata": {},
   "outputs": [],
   "source": [
    "results = [[\"EBM\", round(ebm_summary['best_validation_auc'],3), round(ebm_summary['best_validation_std'],3), ebm_summary['best_param']], \n",
    "           ['Lasso Stumps', round(np.mean(Stump['test_auc']),3), round(np.std(Stump['test_auc']),3)], \n",
    "           ['Arnold PSA Raw', round(np.mean(raw_auc), 3), round(np.std(raw_auc), 3)], \n",
    "           ['Arnold PSA', round(np.mean(calc_auc), 3), round(np.std(calc_auc), 3)]]"
   ]
  },
  {
   "cell_type": "code",
   "execution_count": 12,
   "metadata": {},
   "outputs": [
    {
     "data": {
      "text/plain": [
       "[['AdaBoost',\n",
       "  0.8752930064027583,\n",
       "  0.009380112375925953,\n",
       "  {'learning_rate': 1, 'n_estimators': 80}],\n",
       " ['EBM',\n",
       "  0.8760979696242729,\n",
       "  0.005802454131396906,\n",
       "  {'learning_rate': 0.3, 'max_tree_splits': 2, 'n_estimators': 80}],\n",
       " ['Lasso Stumps', 0.874, 0.006],\n",
       " ['Arnold PSA Raw', 0.85, 0.006],\n",
       " ['Arnold PSA', 0.849, 0.005]]"
      ]
     },
     "execution_count": 12,
     "metadata": {},
     "output_type": "execute_result"
    }
   ],
   "source": [
    "results"
   ]
  },
  {
   "cell_type": "code",
   "execution_count": 13,
   "metadata": {},
   "outputs": [],
   "source": [
    "path = \"C:/Users/binha/Documents/Duke/Cynthia Research/KY-analysis-mytrials/KY Recidivism/KY Results/Models/Six Month/\"\n",
    "results = [[\"Violence\", round(ebm_summary['best_validation_auc'],3), round(ebm_summary['best_validation_std'],3), round(np.mean(Stump['test_auc']),3), round(np.std(Stump['test_auc']),3), round(np.mean(raw_auc), 3), round(np.std(raw_auc), 3), round(np.mean(calc_auc), 3), round(np.std(calc_auc), 3)]]\n",
    "with open(path + 'Six Month Models Summary.csv', 'a') as writeFile:\n",
    "    writer = csv.writer(writeFile)\n",
    "    writer.writerows(results)"
   ]
  }
 ],
 "metadata": {
  "kernelspec": {
   "display_name": "Python 3",
   "language": "python",
   "name": "python3"
  },
  "language_info": {
   "codemirror_mode": {
    "name": "ipython",
    "version": 3
   },
   "file_extension": ".py",
   "mimetype": "text/x-python",
   "name": "python",
   "nbconvert_exporter": "python",
   "pygments_lexer": "ipython3",
   "version": "3.7.4"
  }
 },
 "nbformat": 4,
 "nbformat_minor": 2
}
