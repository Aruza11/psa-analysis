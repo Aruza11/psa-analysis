{
 "cells": [
  {
   "cell_type": "code",
   "execution_count": 1,
   "metadata": {
    "hideCode": false,
    "hidePrompt": false
   },
   "outputs": [],
   "source": [
    "import pytablewriter\n",
    "import pandas as pd\n",
    "import numpy as np"
   ]
  },
  {
   "cell_type": "code",
   "execution_count": 2,
   "metadata": {
    "hideCode": false,
    "hidePrompt": false
   },
   "outputs": [],
   "source": [
    "result = pd.read_csv(\"C:\\\\Users\\\\binha\\\\Documents\\\\Duke\\\\Cynthia Research\\\\KY-analysis-mytrials\\\\KY Recidivism\\\\KY Results\\\\KY_FL\\\\Six Month\\\\Six Month KY_FL.csv\")"
   ]
  },
  {
   "cell_type": "code",
   "execution_count": 3,
   "metadata": {
    "hideCode": false,
    "hidePrompt": false
   },
   "outputs": [
    {
     "data": {
      "text/html": [
       "<div>\n",
       "<style scoped>\n",
       "    .dataframe tbody tr th:only-of-type {\n",
       "        vertical-align: middle;\n",
       "    }\n",
       "\n",
       "    .dataframe tbody tr th {\n",
       "        vertical-align: top;\n",
       "    }\n",
       "\n",
       "    .dataframe thead th {\n",
       "        text-align: right;\n",
       "    }\n",
       "</style>\n",
       "<table border=\"1\" class=\"dataframe\">\n",
       "  <thead>\n",
       "    <tr style=\"text-align: right;\">\n",
       "      <th></th>\n",
       "      <th>Unnamed: 0</th>\n",
       "      <th>Logistic</th>\n",
       "      <th>Lasso</th>\n",
       "      <th>Linear SVM</th>\n",
       "      <th>CART</th>\n",
       "      <th>Random Forest</th>\n",
       "      <th>XGBoost</th>\n",
       "    </tr>\n",
       "  </thead>\n",
       "  <tbody>\n",
       "    <tr>\n",
       "      <th>0</th>\n",
       "      <td>Recidivism</td>\n",
       "      <td>0.569</td>\n",
       "      <td>0.567</td>\n",
       "      <td>0.567</td>\n",
       "      <td>0.559</td>\n",
       "      <td>0.582</td>\n",
       "      <td>0.575</td>\n",
       "    </tr>\n",
       "    <tr>\n",
       "      <th>1</th>\n",
       "      <td>Violence</td>\n",
       "      <td>0.654</td>\n",
       "      <td>0.638</td>\n",
       "      <td>0.637</td>\n",
       "      <td>0.620</td>\n",
       "      <td>0.665</td>\n",
       "      <td>0.633</td>\n",
       "    </tr>\n",
       "    <tr>\n",
       "      <th>2</th>\n",
       "      <td>Drug</td>\n",
       "      <td>0.595</td>\n",
       "      <td>0.584</td>\n",
       "      <td>0.581</td>\n",
       "      <td>0.612</td>\n",
       "      <td>0.566</td>\n",
       "      <td>0.613</td>\n",
       "    </tr>\n",
       "    <tr>\n",
       "      <th>3</th>\n",
       "      <td>Property</td>\n",
       "      <td>0.681</td>\n",
       "      <td>0.672</td>\n",
       "      <td>0.675</td>\n",
       "      <td>0.646</td>\n",
       "      <td>0.668</td>\n",
       "      <td>0.667</td>\n",
       "    </tr>\n",
       "    <tr>\n",
       "      <th>4</th>\n",
       "      <td>Felony</td>\n",
       "      <td>0.594</td>\n",
       "      <td>0.597</td>\n",
       "      <td>0.596</td>\n",
       "      <td>0.543</td>\n",
       "      <td>0.598</td>\n",
       "      <td>0.584</td>\n",
       "    </tr>\n",
       "    <tr>\n",
       "      <th>5</th>\n",
       "      <td>Misdemeanor</td>\n",
       "      <td>0.543</td>\n",
       "      <td>0.536</td>\n",
       "      <td>0.538</td>\n",
       "      <td>0.545</td>\n",
       "      <td>0.555</td>\n",
       "      <td>0.558</td>\n",
       "    </tr>\n",
       "  </tbody>\n",
       "</table>\n",
       "</div>"
      ],
      "text/plain": [
       "    Unnamed: 0  Logistic  Lasso  Linear SVM   CART  Random Forest  XGBoost\n",
       "0   Recidivism     0.569  0.567       0.567  0.559          0.582    0.575\n",
       "1     Violence     0.654  0.638       0.637  0.620          0.665    0.633\n",
       "2         Drug     0.595  0.584       0.581  0.612          0.566    0.613\n",
       "3     Property     0.681  0.672       0.675  0.646          0.668    0.667\n",
       "4       Felony     0.594  0.597       0.596  0.543          0.598    0.584\n",
       "5  Misdemeanor     0.543  0.536       0.538  0.545          0.555    0.558"
      ]
     },
     "execution_count": 3,
     "metadata": {},
     "output_type": "execute_result"
    }
   ],
   "source": [
    "result"
   ]
  },
  {
   "cell_type": "code",
   "execution_count": 4,
   "metadata": {
    "hideCode": false,
    "hidePrompt": false
   },
   "outputs": [],
   "source": [
    "cols = result.columns.to_list()\n",
    "values = result.values.tolist()"
   ]
  },
  {
   "cell_type": "code",
   "execution_count": 5,
   "metadata": {
    "hideCode": false,
    "hideOutput": true,
    "hidePrompt": false
   },
   "outputs": [
    {
     "name": "stdout",
     "output_type": "stream",
     "text": [
      "\\begin{array}{l | r | r | r | r | r | r} \\hline\n",
      "    Recidivism  & 0.5690 & 0.5670 & 0.5670 & 0.5590 & 0.5820 & 0.5750 \\\\ \\hline\n",
      "    Violence    & 0.6540 & 0.6380 & 0.6370 & 0.6200 & 0.6650 & 0.6330 \\\\ \\hline\n",
      "    Drug        & 0.5950 & 0.5840 & 0.5810 & 0.6120 & 0.5660 & 0.6130 \\\\ \\hline\n",
      "    Property    & 0.6810 & 0.6720 & 0.6750 & 0.6460 & 0.6680 & 0.6670 \\\\ \\hline\n",
      "    Felony      & 0.5940 & 0.5970 & 0.5960 & 0.5430 & 0.5980 & 0.5840 \\\\ \\hline\n",
      "    Misdemeanor & 0.5430 & 0.5360 & 0.5380 & 0.5450 & 0.5550 & 0.5580 \\\\ \\hline\n",
      "\\end{array}\n"
     ]
    }
   ],
   "source": [
    "writer = pytablewriter.LatexTableWriter()\n",
    "writer.value_matrix = values\n",
    "writer.write_table()"
   ]
  }
 ],
 "metadata": {
  "hide_code_all_hidden": false,
  "kernelspec": {
   "display_name": "Python 3",
   "language": "python",
   "name": "python3"
  },
  "language_info": {
   "codemirror_mode": {
    "name": "ipython",
    "version": 3
   },
   "file_extension": ".py",
   "mimetype": "text/x-python",
   "name": "python",
   "nbconvert_exporter": "python",
   "pygments_lexer": "ipython3",
   "version": "3.7.0"
  }
 },
 "nbformat": 4,
 "nbformat_minor": 2
}
