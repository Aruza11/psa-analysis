{
 "cells": [
  {
   "cell_type": "code",
   "execution_count": 1,
   "metadata": {},
   "outputs": [],
   "source": [
    "import pandas as pd \n",
    "import numpy as np\n",
    "import csv\n",
    "import baseline_functions as base"
   ]
  },
  {
   "cell_type": "markdown",
   "metadata": {},
   "source": [
    "In this section, we use Kentucky data to construct models. Then using the best performed model, we test it on the broward data set and see how the model works on both data set. "
   ]
  },
  {
   "cell_type": "code",
   "execution_count": 2,
   "metadata": {},
   "outputs": [],
   "source": [
    "### KY data\n",
    "KY_data = pd.read_csv(\"~/Documents/Duke/Cynthia Research/KY-analysis-mytrials/KY Recidivism/KY data/kentucky_data.csv\")\n",
    "KY_data = KY_data.drop(['PersonID', 'screening_date','ADE', 'Treatment','p_assault','p_pending_charge','fta_risk_score_raw',\n",
    "                        'nca_risk_score_raw', 'pvf_risk_score_raw', 'fta_calc', 'nca_calc', 'pvf_calc', \n",
    "                        'recid_traffic_two_year', 'recid_traffic_six_month'], axis=1)\n",
    "\n",
    "KY_X = KY_data.loc[:,:'current_violence']\n",
    "KY_Y = KY_data['recid_two_year'].values"
   ]
  },
  {
   "cell_type": "code",
   "execution_count": 4,
   "metadata": {},
   "outputs": [],
   "source": [
    "### FL data\n",
    "FL_data = pd.read_csv(\"~/Documents/Duke/Cynthia Research/KY-analysis-mytrials/broward/data/broward_data.csv\")\n",
    "FL_data = FL_data.drop(['person_id', 'screening_date','p_age_first_offense', 'p_famviol_arrest', 'p_juv_fel_count', 'p_domestic',\n",
    "                        'current_violent20', 'pending_charge', 'total_convictions', 'years_since_last_crime'], axis=1)\n",
    "\n",
    "FL_data.columns = ['Gender', 'age_at_current_charge', 'p_charges', 'p_jail30', 'p_prison', \n",
    "                   'p_probation', 'p_felprop_viol','p_murder', \n",
    "                   'p_felassult', 'p_misdeassult', 'p_sex_offense', \n",
    "                   'p_weapon', 'p_fta_two_year', 'p_fta_two_year_plus', \n",
    "                   'current_violence', 'p_felony', 'p_misdemeanor', \n",
    "                   'p_violence', 'p_arrest', 'p_property', 'p_traffic', 'p_drug', \n",
    "                   'p_dui', 'p_stalking', 'p_voyeurism', 'p_fraud', 'p_stealing', \n",
    "                   'p_trespass', 'six_month', 'one_year', 'three_year', 'five_year', \n",
    "                   'recid_two_year', 'recid_six_month', 'recid_drug_two_year', 'recid_property_two_year',\n",
    "                   'recid_M_two_year', 'recid_F_two_year', 'recid_violent_two_year', 'recid_drug_six_month',\n",
    "                   'recid_property_six_month', 'recid_M_six_month', 'recid_F_six_month', 'recid_violent_six_month']\n",
    "\n",
    "reorder = ['Gender', 'age_at_current_charge', 'p_arrest', 'p_charges',\n",
    "       'p_violence', 'p_felony', 'p_misdemeanor', 'p_property', 'p_murder',\n",
    "       'p_sex_offense', 'p_weapon', 'p_felprop_viol', 'p_felassult',\n",
    "       'p_misdeassult', 'p_traffic', 'p_drug', 'p_dui', 'p_stalking',\n",
    "       'p_voyeurism', 'p_fraud', 'p_stealing', 'p_trespass', 'p_prison',\n",
    "       'p_jail30', 'p_fta_two_year', 'p_fta_two_year_plus', 'p_probation',\n",
    "       'six_month', 'one_year', 'three_year', 'five_year', 'current_violence',\n",
    "       'recid_two_year', 'recid_drug_two_year', 'recid_violence_two_year',\n",
    "       'recid_F_two_year', 'recid_M_two_year', 'recid_property_two_year',\n",
    "       'recid_six_month', 'recid_drug_six_month', 'recid_violence_six_month',\n",
    "       'recid_F_six_month', 'recid_M_six_month', 'recid_property_six_month']\n",
    "\n",
    "FL_data = FL_data.reindex(columns=reorder)\n",
    "FL_X = FL_data.loc[:,:'current_violence']\n",
    "FL_Y = FL_data['recid_two_year'].values"
   ]
  },
  {
   "cell_type": "markdown",
   "metadata": {},
   "source": [
    "### Current Age Distribution"
   ]
  },
  {
   "cell_type": "code",
   "execution_count": 5,
   "metadata": {},
   "outputs": [],
   "source": [
    "import matplotlib.pyplot as plt"
   ]
  },
  {
   "cell_type": "code",
   "execution_count": 14,
   "metadata": {},
   "outputs": [],
   "source": [
    "KY_age = KY_data['age_at_current_charge'].values\n",
    "FL_age = FL_data['age_at_current_charge'].values"
   ]
  },
  {
   "cell_type": "code",
   "execution_count": 29,
   "metadata": {},
   "outputs": [
    {
     "data": {
      "image/png": "[encoded data removed]",
      "text/plain": [
       "<Figure size 576x432 with 1 Axes>"
      ]
     },
     "metadata": {
      "needs_background": "light"
     },
     "output_type": "display_data"
    }
   ],
   "source": [
    "plt.figure(figsize=(8,6))\n",
    "plt.hist(KY_age, bins=np.max(KY_age) - np.min(KY_age) + 1)\n",
    "plt.title('Current Charge Age Distribution - KY', size = 14)\n",
    "plt.xlabel('Age', size = 14)\n",
    "plt.ylabel('Count', size = 14)\n",
    "pass"
   ]
  },
  {
   "cell_type": "code",
   "execution_count": 30,
   "metadata": {},
   "outputs": [
    {
     "data": {
      "image/png": "[encoded data removed]",
      "text/plain": [
       "<Figure size 576x432 with 1 Axes>"
      ]
     },
     "metadata": {
      "needs_background": "light"
     },
     "output_type": "display_data"
    }
   ],
   "source": [
    "plt.figure(figsize=(8,6))\n",
    "plt.hist(FL_age, bins=np.max(FL_age) - np.min(FL_age) + 1)\n",
    "plt.title('Current Charge Age Distribution - FL', size = 14)\n",
    "plt.xlabel('Age', size = 14)\n",
    "plt.ylabel('Count', size = 14)\n",
    "pass"
   ]
  },
  {
   "cell_type": "markdown",
   "metadata": {},
   "source": [
    "#### sanity check"
   ]
  },
  {
   "cell_type": "code",
   "execution_count": 4,
   "metadata": {},
   "outputs": [
    {
     "data": {
      "text/plain": [
       "((1954, 32), (146003, 32))"
      ]
     },
     "execution_count": 4,
     "metadata": {},
     "output_type": "execute_result"
    }
   ],
   "source": [
    "FL_X.shape, KY_X.shape"
   ]
  },
  {
   "cell_type": "code",
   "execution_count": 5,
   "metadata": {},
   "outputs": [
    {
     "data": {
      "text/plain": [
       "1.0"
      ]
     },
     "execution_count": 5,
     "metadata": {},
     "output_type": "execute_result"
    }
   ],
   "source": [
    "np.mean(FL_data.columns == KY_data.columns)"
   ]
  },
  {
   "cell_type": "code",
   "execution_count": 6,
   "metadata": {},
   "outputs": [],
   "source": [
    "#### Logistic\n",
    "c = [1e-4, 1e-3, 0.01, 0.1, 1]\n",
    "logistic_auc, logistic_std, logistic_auc_diff, logistic_param, logistc_FL_score = base.Logistic(KY_X, KY_Y, FL_X, FL_Y,c,816)\n",
    "\n",
    "#### Lasso\n",
    "alpha = [1e-4, 1e-3, 0.01, 0.1, 1]\n",
    "lasso_auc, lasso_std, lasso_auc_diff, lasso_param, lasso_FL_score = base.Lasso(KY_X, KY_Y, FL_X, FL_Y,alpha,816)\n",
    "\n",
    "#### LinearSVM\n",
    "c = [1e-4, 1e-3, 0.01, 0.1, 1]\n",
    "svm_auc, svm_std, svm_auc_diff, svm_param, svm_FL_score = base.LinearSVM(KY_X, KY_Y, FL_X, FL_Y,c,816)\n",
    "\n",
    "#### CART\n",
    "depth = [8,9,10]\n",
    "cart_auc, cart_std, cart_auc_diff, cart_param, cart_FL_score = base.CART(KY_X, KY_Y, FL_X, FL_Y,depth,816)\n",
    "\n",
    "#### Random Forest\n",
    "n_estimators =  [40,50]\n",
    "depth = [8,9,10]\n",
    "rf_auc, rf_std, rf_auc_diff, rf_param, rf_FL_score = base.RF(KY_X, KY_Y, FL_X, FL_Y, depth, n_estimators, 816)\n",
    "\n",
    "#### XGBoost\n",
    "learning_rate = [0.01, 0.03]\n",
    "depth = [7]\n",
    "n_estimators = [200]\n",
    "xgb_auc, xgb_std, xgb_auc_diff, xgb_param, xgb_FL_score = base.XGB(KY_X, KY_Y, FL_X, FL_Y,learning_rate, depth, n_estimators, 816)"
   ]
  },
  {
   "cell_type": "code",
   "execution_count": 15,
   "metadata": {},
   "outputs": [],
   "source": [
    "results = [[\"Logistic\", logistc_FL_score],\n",
    "           [\"Lasso\", lasso_FL_score],\n",
    "           [\"SVM\", svm_FL_score],\n",
    "           [\"CART\", cart_FL_score],\n",
    "           [\"RF\", rf_FL_score],\n",
    "           [\"XGBoost\", xgb_FL_score]]"
   ]
  },
  {
   "cell_type": "code",
   "execution_count": 16,
   "metadata": {},
   "outputs": [
    {
     "data": {
      "text/plain": [
       "[['Logistic', 0.5936469208954515],\n",
       " ['Lasso', 0.5948837381242837],\n",
       " ['SVM', 0.5934620848450282],\n",
       " ['CART', 0.6064428566147542],\n",
       " ['RF', 0.6173814540788036],\n",
       " ['XGBoost', 0.6097165671192509]]"
      ]
     },
     "execution_count": 16,
     "metadata": {},
     "output_type": "execute_result"
    }
   ],
   "source": [
    "results"
   ]
  },
  {
   "cell_type": "code",
   "execution_count": 18,
   "metadata": {},
   "outputs": [],
   "source": [
    "path = \"C:\\\\Users\\\\binha\\\\Documents\\\\Duke\\\\Cynthia Research\\\\KY-analysis-mytrials\\\\KY Recidivism\\\\KY Results\\\\KY_FL\\\\Two Year\\\\\"\n",
    "results = [[\"\", \"Logistic\", \"Lasso\", \"Linear SVM\", \"CART\", \"Random Forest\", \"XGBoost\"],\n",
    "           [\"Recidivism\", round(logistc_FL_score,3), round(lasso_FL_score,3), round(svm_FL_score,3), round(cart_FL_score,3), round(rf_FL_score,3), round(xgb_FL_score,3)]]\n",
    "with open(path + 'Two Year KY_FL.csv', 'w') as writeFile:\n",
    "    writer = csv.writer(writeFile)\n",
    "    writer.writerows(results)"
   ]
  }
 ],
 "metadata": {
  "kernelspec": {
   "display_name": "Python 3",
   "language": "python",
   "name": "python3"
  },
  "language_info": {
   "codemirror_mode": {
    "name": "ipython",
    "version": 3
   },
   "file_extension": ".py",
   "mimetype": "text/x-python",
   "name": "python",
   "nbconvert_exporter": "python",
   "pygments_lexer": "ipython3",
   "version": "3.7.4"
  }
 },
 "nbformat": 4,
 "nbformat_minor": 2
}
