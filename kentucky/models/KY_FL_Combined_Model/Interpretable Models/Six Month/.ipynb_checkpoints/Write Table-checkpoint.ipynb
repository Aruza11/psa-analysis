{
 "cells": [
  {
   "cell_type": "code",
   "execution_count": 1,
   "metadata": {
    "hideCode": false,
    "hidePrompt": false
   },
   "outputs": [],
   "source": [
    "import pytablewriter\n",
    "import pandas as pd\n",
    "import numpy as np"
   ]
  },
  {
   "cell_type": "code",
   "execution_count": 2,
   "metadata": {
    "hideCode": false,
    "hidePrompt": false
   },
   "outputs": [],
   "source": [
    "result = pd.read_csv(\"C:\\\\Users\\\\binha\\\\Documents\\\\Duke\\\\Cynthia Research\\\\KY-analysis-mytrials\\\\KY Recidivism\\\\KY Results\\\\Models\\\\Six Month\\\\Six Month Models Summary.csv\")"
   ]
  },
  {
   "cell_type": "code",
   "execution_count": 3,
   "metadata": {
    "hideCode": false,
    "hidePrompt": false
   },
   "outputs": [
    {
     "data": {
      "text/html": [
       "<div>\n",
       "<style scoped>\n",
       "    .dataframe tbody tr th:only-of-type {\n",
       "        vertical-align: middle;\n",
       "    }\n",
       "\n",
       "    .dataframe tbody tr th {\n",
       "        vertical-align: top;\n",
       "    }\n",
       "\n",
       "    .dataframe thead th {\n",
       "        text-align: right;\n",
       "    }\n",
       "</style>\n",
       "<table border=\"1\" class=\"dataframe\">\n",
       "  <thead>\n",
       "    <tr style=\"text-align: right;\">\n",
       "      <th></th>\n",
       "      <th>Unnamed: 0</th>\n",
       "      <th>AdaBoost</th>\n",
       "      <th>std</th>\n",
       "      <th>EBM</th>\n",
       "      <th>std.1</th>\n",
       "    </tr>\n",
       "  </thead>\n",
       "  <tbody>\n",
       "    <tr>\n",
       "      <th>0</th>\n",
       "      <td>Recidivism</td>\n",
       "      <td>0.766</td>\n",
       "      <td>0.003</td>\n",
       "      <td>0.765</td>\n",
       "      <td>0.003</td>\n",
       "    </tr>\n",
       "    <tr>\n",
       "      <th>1</th>\n",
       "      <td>Violence</td>\n",
       "      <td>0.876</td>\n",
       "      <td>0.005</td>\n",
       "      <td>0.876</td>\n",
       "      <td>0.007</td>\n",
       "    </tr>\n",
       "    <tr>\n",
       "      <th>2</th>\n",
       "      <td>Drug</td>\n",
       "      <td>0.775</td>\n",
       "      <td>0.007</td>\n",
       "      <td>0.775</td>\n",
       "      <td>0.008</td>\n",
       "    </tr>\n",
       "    <tr>\n",
       "      <th>3</th>\n",
       "      <td>Property</td>\n",
       "      <td>0.853</td>\n",
       "      <td>0.020</td>\n",
       "      <td>0.863</td>\n",
       "      <td>0.014</td>\n",
       "    </tr>\n",
       "    <tr>\n",
       "      <th>4</th>\n",
       "      <td>Felony</td>\n",
       "      <td>0.795</td>\n",
       "      <td>0.004</td>\n",
       "      <td>0.794</td>\n",
       "      <td>0.004</td>\n",
       "    </tr>\n",
       "    <tr>\n",
       "      <th>5</th>\n",
       "      <td>Misdemeanor</td>\n",
       "      <td>0.753</td>\n",
       "      <td>0.003</td>\n",
       "      <td>0.749</td>\n",
       "      <td>0.003</td>\n",
       "    </tr>\n",
       "  </tbody>\n",
       "</table>\n",
       "</div>"
      ],
      "text/plain": [
       "    Unnamed: 0  AdaBoost    std    EBM  std.1\n",
       "0   Recidivism     0.766  0.003  0.765  0.003\n",
       "1     Violence     0.876  0.005  0.876  0.007\n",
       "2         Drug     0.775  0.007  0.775  0.008\n",
       "3     Property     0.853  0.020  0.863  0.014\n",
       "4       Felony     0.795  0.004  0.794  0.004\n",
       "5  Misdemeanor     0.753  0.003  0.749  0.003"
      ]
     },
     "execution_count": 3,
     "metadata": {},
     "output_type": "execute_result"
    }
   ],
   "source": [
    "result"
   ]
  },
  {
   "cell_type": "code",
   "execution_count": 14,
   "metadata": {
    "hideCode": false,
    "hidePrompt": false
   },
   "outputs": [],
   "source": [
    "cols = result.columns.to_list()\n",
    "values = result.values.tolist()"
   ]
  },
  {
   "cell_type": "code",
   "execution_count": 15,
   "metadata": {
    "hideCode": false,
    "hideOutput": true,
    "hidePrompt": false
   },
   "outputs": [
    {
     "name": "stdout",
     "output_type": "stream",
     "text": [
      "\\begin{array}{l | r | r | r | r | r | r | r | r | r | r | r | r} \\hline\n",
      "    Recidivism  & 0.7260 & 0.001 & 0.7220 & 0.001 & 0.7250 & 0.001 & 0.7300 & 0.002 & 0.7380 & 0.002 & 0.7440 &  0.00200 \\\\ \\hline\n",
      "    Violence    & 0.8110 & 0.003 & 0.8100 & 0.003 & 0.8100 & 0.003 & 0.8140 & 0.002 & 0.8230 & 0.001 & 0.8220 &  0.00200 \\\\ \\hline\n",
      "    Drug        & 0.6890 & 0.002 & 0.6920 & 0.002 & 0.6920 & 0.002 & 0.6970 & 0.005 & 0.7000 & 0.005 & 0.7060 &  0.00500 \\\\ \\hline\n",
      "    Property    & 0.7780 & 0.005 & 0.7830 & 0.004 & 0.7820 & 0.004 & 0.7740 & 0.006 & 0.7820 & 0.006 & 0.7810 &  0.00700 \\\\ \\hline\n",
      "    Felony      & 0.7260 & 0.003 & 0.7280 & 0.003 & 0.7280 & 0.003 & 0.7390 & 0.003 & 0.7460 & 0.002 & 0.7500 &  0.00300 \\\\ \\hline\n",
      "    Misdemeanor & 0.7010 & 0.002 & 0.7010 & 0.002 & 0.7020 & 0.002 & 0.7030 & 0.002 & 0.7140 & 0.003 & 0.7160 &  0.00200 \\\\ \\hline\n",
      "\\end{array}\n"
     ]
    }
   ],
   "source": [
    "writer = pytablewriter.LatexTableWriter()\n",
    "writer.value_matrix = values\n",
    "writer.write_table()"
   ]
  }
 ],
 "metadata": {
  "hide_code_all_hidden": false,
  "kernelspec": {
   "display_name": "Python 3",
   "language": "python",
   "name": "python3"
  },
  "language_info": {
   "codemirror_mode": {
    "name": "ipython",
    "version": 3
   },
   "file_extension": ".py",
   "mimetype": "text/x-python",
   "name": "python",
   "nbconvert_exporter": "python",
   "pygments_lexer": "ipython3",
   "version": "3.7.0"
  }
 },
 "nbformat": 4,
 "nbformat_minor": 2
}
