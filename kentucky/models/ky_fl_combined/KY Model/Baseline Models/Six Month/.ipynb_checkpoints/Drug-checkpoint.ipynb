{
 "cells": [
  {
   "cell_type": "code",
   "execution_count": 1,
   "metadata": {},
   "outputs": [
    {
     "name": "stdout",
     "output_type": "stream",
     "text": [
      "no stored variable summary_drug6_ky_model\n"
     ]
    }
   ],
   "source": [
    "import pandas as pd \n",
    "import numpy as np\n",
    "import csv\n",
    "import baseline_functions as base\n",
    "\n",
    "# restore saved variables\n",
    "%store -r summary_drug6_ky_model"
   ]
  },
  {
   "cell_type": "code",
   "execution_count": 2,
   "metadata": {},
   "outputs": [],
   "source": [
    "KY_data = pd.read_csv(\"~/Documents/Duke/Cynthia Research/psa-analysis - test/kentucky/models/ky_fl_combined/KY_cleaned\")\n",
    "FL_data = pd.read_csv(\"~/Documents/Duke/Cynthia Research/psa-analysis - test/kentucky/models/ky_fl_combined/FL_cleaned\")\n",
    "\n",
    "## split x and y \n",
    "KY_X = KY_data.loc[:,:'current_violence']\n",
    "KY_Y = KY_data['recid_drug_six_month'].values\n",
    "FL_X = FL_data.loc[:,:'current_violence']\n",
    "FL_Y = FL_data['recid_drug_six_month'].values"
   ]
  },
  {
   "cell_type": "markdown",
   "metadata": {},
   "source": [
    "### Model"
   ]
  },
  {
   "cell_type": "code",
   "execution_count": 3,
   "metadata": {},
   "outputs": [
    {
     "name": "stdout",
     "output_type": "stream",
     "text": [
      "Stored 'summary_drug6_ky_model' (dict)\n"
     ]
    }
   ],
   "source": [
    "#### Logistic\n",
    "c = [1e-4, 1e-3, 0.01, 0.1, 1]\n",
    "logistic_summary = base.Logistic(KY_X, KY_Y, FL_X, FL_Y,C=c,seed=816)\n",
    "\n",
    "#### Lasso\n",
    "c = [1e-4, 1e-3, 0.01, 0.1, 1]\n",
    "lasso_summary = base.Lasso(KY_X, KY_Y, FL_X, FL_Y, C=c,seed=816)\n",
    "\n",
    "#### LinearSVM\n",
    "c = [1e-4, 1e-3, 0.01, 0.1, 1]\n",
    "svm_summary = base.LinearSVM(KY_X, KY_Y, FL_X, FL_Y, C=c,seed=816)\n",
    "\n",
    "#### Random Forest\n",
    "n_estimators =  [40,60]\n",
    "depth = [6,7]\n",
    "rf_summary = base.RF(KY_X, KY_Y, FL_X, FL_Y, \n",
    "                     depth=depth, \n",
    "                     estimators=n_estimators, \n",
    "                     seed=816)\n",
    "\n",
    "#### XGBoost\n",
    "learning_rate = [0.01]\n",
    "depth = [6]\n",
    "n_estimators = [200]\n",
    "xgb_summary = base.XGB(KY_X, KY_Y, FL_X, FL_Y,\n",
    "                       learning_rate=learning_rate, \n",
    "                       depth=depth, \n",
    "                       estimators=n_estimators,\n",
    "                       seed=816)\n",
    "\n",
    "#### save results\n",
    "summary_drug6_ky_model = {\"Logistic\": logistic_summary,\n",
    "                                    \"Lasso\": lasso_summary,\n",
    "                                    \"LinearSVM\": svm_summary,\n",
    "                                    \"RF\": rf_summary,\n",
    "                                    \"XGBoost\": xgb_summary}\n",
    "%store summary_drug6_ky_model"
   ]
  },
  {
   "cell_type": "code",
   "execution_count": 4,
   "metadata": {},
   "outputs": [
    {
     "data": {
      "text/plain": [
       "[['Logistic',\n",
       "  0.7258291124192487,\n",
       "  0.0059812002790516905,\n",
       "  {'C': 0.01},\n",
       "  0.6202367284456836],\n",
       " ['Lasso',\n",
       "  0.7259245061790319,\n",
       "  0.0045851097700680965,\n",
       "  {'C': 0.01},\n",
       "  0.6095210759389864],\n",
       " ['LinearSVM',\n",
       "  0.7279698288857613,\n",
       "  0.004387312436222146,\n",
       "  {'C': 1},\n",
       "  0.6052566836148926],\n",
       " ['RF',\n",
       "  0.7392930862141767,\n",
       "  0.03217309867727214,\n",
       "  {'max_depth': 7, 'n_estimators': 40},\n",
       "  0.5571558416707671],\n",
       " ['XGBoost',\n",
       "  0.740772872993565,\n",
       "  0.01943135514921801,\n",
       "  {'learning_rate': 0.01, 'max_depth': 6, 'n_estimators': 200},\n",
       "  0.5510701984582581]]"
      ]
     },
     "execution_count": 4,
     "metadata": {},
     "output_type": "execute_result"
    }
   ],
   "source": [
    "results = []\n",
    "\n",
    "for model_name, model_summary in summary_drug6_ky_model.items():\n",
    "    results.append([model_name, \n",
    "                    model_summary['best_auc'], \n",
    "                    model_summary['auc_diff'], \n",
    "                    model_summary['best_param'], \n",
    "                    model_summary['FL_score']])\n",
    "results"
   ]
  },
  {
   "cell_type": "code",
   "execution_count": 5,
   "metadata": {},
   "outputs": [],
   "source": [
    "path = \"C:\\\\Users\\\\binha\\\\Documents\\\\Duke\\\\Cynthia Research\\\\KY-analysis-mytrials\\\\KY Recidivism\\\\KY Results\\\\KY_FL\\\\KY Model\\\\Six Month\\\\\"\n",
    "results = [[\"Drug\",             \n",
    "            round(logistic_summary['FL_score'],3), \n",
    "            round(lasso_summary['FL_score'], 3), \n",
    "            round(svm_summary['FL_score'],3), \n",
    "            round(rf_summary['FL_score'],3), \n",
    "            round(xgb_summary['FL_score'],3)]]\n",
    "with open(path + 'Six Month KY_model.csv', 'a') as writeFile:\n",
    "    writer = csv.writer(writeFile)\n",
    "    writer.writerows(results)"
   ]
  }
 ],
 "metadata": {
  "kernelspec": {
   "display_name": "Python 3",
   "language": "python",
   "name": "python3"
  },
  "language_info": {
   "codemirror_mode": {
    "name": "ipython",
    "version": 3
   },
   "file_extension": ".py",
   "mimetype": "text/x-python",
   "name": "python",
   "nbconvert_exporter": "python",
   "pygments_lexer": "ipython3",
   "version": "3.7.4"
  }
 },
 "nbformat": 4,
 "nbformat_minor": 4
}
