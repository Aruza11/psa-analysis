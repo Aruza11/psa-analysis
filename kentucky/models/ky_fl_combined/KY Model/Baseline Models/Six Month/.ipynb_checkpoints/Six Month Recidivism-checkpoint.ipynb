{
 "cells": [
  {
   "cell_type": "code",
   "execution_count": 2,
   "metadata": {},
   "outputs": [
    {
     "name": "stdout",
     "output_type": "stream",
     "text": [
      "no stored variable summary_general6_ky_model\n"
     ]
    }
   ],
   "source": [
    "import pandas as pd \n",
    "import numpy as np\n",
    "import csv\n",
    "import baseline_functions as base\n",
    "\n",
    "# restore saved variables\n",
    "%store -r summary_general6_ky_model"
   ]
  },
  {
   "cell_type": "code",
   "execution_count": 3,
   "metadata": {},
   "outputs": [],
   "source": [
    "KY_data = pd.read_csv(\"~/Documents/Duke/Cynthia Research/psa-analysis - test/kentucky/models/ky_fl_combined/KY_cleaned\")\n",
    "FL_data = pd.read_csv(\"~/Documents/Duke/Cynthia Research/psa-analysis - test/kentucky/models/ky_fl_combined/FL_cleaned\")\n",
    "\n",
    "## split x and y \n",
    "KY_X = KY_data.loc[:,:'current_violence']\n",
    "KY_Y = KY_data['recid_six_month'].values\n",
    "FL_X = FL_data.loc[:,:'current_violence']\n",
    "FL_Y = FL_data['recid_six_month'].values"
   ]
  },
  {
   "cell_type": "markdown",
   "metadata": {},
   "source": [
    "### Model"
   ]
  },
  {
   "cell_type": "code",
   "execution_count": 4,
   "metadata": {},
   "outputs": [
    {
     "name": "stdout",
     "output_type": "stream",
     "text": [
      "Stored 'summary_general6_ky_model' (dict)\n"
     ]
    }
   ],
   "source": [
    "#### Logistic\n",
    "c = [1e-4, 1e-3, 1e-2, 1e-1, 1]\n",
    "logistic_summary = base.Logistic(KY_X, KY_Y, FL_X, FL_Y,C=c,seed=816)\n",
    "\n",
    "#### Lasso\n",
    "c = [1e-4, 1e-3, 1e-2, 1e-1, 1]\n",
    "lasso_summary = base.Lasso(KY_X, KY_Y, FL_X, FL_Y,C=c,seed=816)\n",
    "\n",
    "#### LinearSVM\n",
    "c = [1e-4, 1e-3, 1e-2, 1e-1, 1]\n",
    "svm_summary = base.LinearSVM(KY_X, KY_Y, FL_X, FL_Y,C=c,seed=816)\n",
    "\n",
    "#### Random Forest\n",
    "n_estimators =  [40,50]\n",
    "depth = [7,8]\n",
    "rf_summary = base.RF(KY_X, KY_Y, FL_X, FL_Y, \n",
    "                     depth=depth, \n",
    "                     estimators=n_estimators,\n",
    "                     seed=816)\n",
    "\n",
    "#### XGBoost\n",
    "learning_rate = [0.01]\n",
    "depth = [7]\n",
    "n_estimators = [200]\n",
    "xgb_summary = base.XGB(KY_X, KY_Y, FL_X, FL_Y,\n",
    "                       learning_rate=learning_rate, \n",
    "                       depth=depth, \n",
    "                       estimators=n_estimators,\n",
    "                       seed=816)\n",
    "\n",
    "#### save results\n",
    "summary_general6_ky_model = {\"Logistic\": logistic_summary,\n",
    "                                    \"Lasso\": lasso_summary,\n",
    "                                    \"LinearSVM\": svm_summary,\n",
    "                                    \"RF\": rf_summary,\n",
    "                                    \"XGBoost\": xgb_summary}\n",
    "%store summary_general6_ky_model"
   ]
  },
  {
   "cell_type": "code",
   "execution_count": 5,
   "metadata": {},
   "outputs": [
    {
     "data": {
      "text/plain": [
       "[['Logistic',\n",
       "  0.7212595612874799,\n",
       "  0.001164781803194903,\n",
       "  {'C': 0.1},\n",
       "  0.5685422998499596],\n",
       " ['Lasso',\n",
       "  0.7212959206467976,\n",
       "  0.0010551966803341584,\n",
       "  {'C': 0.1},\n",
       "  0.5676866848766976],\n",
       " ['LinearSVM',\n",
       "  0.7206322151612304,\n",
       "  0.0008871318180193599,\n",
       "  {'C': 0.1},\n",
       "  0.5678644250375101],\n",
       " ['RF',\n",
       "  0.7341070795620103,\n",
       "  0.015651730443618228,\n",
       "  {'max_depth': 8, 'n_estimators': 40},\n",
       "  0.5836248220674798],\n",
       " ['XGBoost',\n",
       "  0.7416887413071857,\n",
       "  0.020508368158238532,\n",
       "  {'learning_rate': 0.01, 'max_depth': 7, 'n_estimators': 200},\n",
       "  0.5658508059862271]]"
      ]
     },
     "execution_count": 5,
     "metadata": {},
     "output_type": "execute_result"
    }
   ],
   "source": [
    "results = []\n",
    "\n",
    "for model_name, model_summary in summary_general6_ky_model.items():\n",
    "    results.append([model_name, \n",
    "                    model_summary['best_auc'], \n",
    "                    model_summary['auc_diff'], \n",
    "                    model_summary['best_param'], \n",
    "                    model_summary['FL_score']])\n",
    "results"
   ]
  },
  {
   "cell_type": "code",
   "execution_count": 6,
   "metadata": {},
   "outputs": [],
   "source": [
    "path = \"C:\\\\Users\\\\binha\\\\Documents\\\\Duke\\\\Cynthia Research\\\\KY-analysis-mytrials\\\\KY Recidivism\\\\KY Results\\\\KY_FL\\\\KY Model\\\\Six Month\\\\\"\n",
    "results = [[\"\", \"Logistic\", \"Lasso\", \"Linear SVM\", \"Random Forest\", \"XGBoost\"],\n",
    "           [\"General\",             \n",
    "            round(logistic_summary['FL_score'],3), \n",
    "            round(lasso_summary['FL_score'], 3), \n",
    "            round(svm_summary['FL_score'],3), \n",
    "            round(rf_summary['FL_score'],3), \n",
    "            round(xgb_summary['FL_score'],3)]]\n",
    "with open(path + 'Six Month KY_model.csv', 'w') as writeFile:\n",
    "    writer = csv.writer(writeFile)\n",
    "    writer.writerows(results)"
   ]
  }
 ],
 "metadata": {
  "kernelspec": {
   "display_name": "Python 3",
   "language": "python",
   "name": "python3"
  },
  "language_info": {
   "codemirror_mode": {
    "name": "ipython",
    "version": 3
   },
   "file_extension": ".py",
   "mimetype": "text/x-python",
   "name": "python",
   "nbconvert_exporter": "python",
   "pygments_lexer": "ipython3",
   "version": "3.7.4"
  }
 },
 "nbformat": 4,
 "nbformat_minor": 4
}
