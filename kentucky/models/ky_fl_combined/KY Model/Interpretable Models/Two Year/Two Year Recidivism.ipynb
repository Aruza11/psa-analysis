{
 "cells": [
  {
   "cell_type": "code",
   "execution_count": 1,
   "metadata": {},
   "outputs": [
    {
     "name": "stdout",
     "output_type": "stream",
     "text": [
      "no stored variable summary_general2_ky_inter_model\n"
     ]
    },
    {
     "name": "stderr",
     "output_type": "stream",
     "text": [
      "C:\\Users\\binha\\Anaconda3\\lib\\site-packages\\sklearn\\externals\\six.py:31: DeprecationWarning:\n",
      "\n",
      "The module is deprecated in version 0.21 and will be removed in version 0.23 since we've dropped support for Python 2.7. Please rely on the official version of six (https://pypi.org/project/six/).\n",
      "\n"
     ]
    }
   ],
   "source": [
    "import pandas as pd \n",
    "import numpy as np\n",
    "import csv\n",
    "import advance_functions as advance\n",
    "import RiskSLIM as slim\n",
    "import stumps\n",
    "from sklearn.linear_model import LogisticRegression\n",
    "from riskslim.helper_functions import load_data_from_csv, print_model\n",
    "\n",
    "# restore saved variables\n",
    "%store -r summary_general2_ky_inter_model"
   ]
  },
  {
   "cell_type": "markdown",
   "metadata": {},
   "source": [
    "### EBM & CART"
   ]
  },
  {
   "cell_type": "code",
   "execution_count": 2,
   "metadata": {},
   "outputs": [],
   "source": [
    "KY_data = pd.read_csv(\"~/Documents/Duke/Cynthia Research/psa-analysis - test/kentucky/models/ky_fl_combined/data preparation/KY_cleaned\")\n",
    "FL_data = pd.read_csv(\"~/Documents/Duke/Cynthia Research/psa-analysis - test/kentucky/models/ky_fl_combined/data preparation/FL_cleaned\")\n",
    "\n",
    "## split x and y \n",
    "KY_X = KY_data.loc[:,:'current_violence']\n",
    "KY_Y = KY_data['recid_two_year'].values\n",
    "FL_X = FL_data.loc[:,:'current_violence']\n",
    "FL_Y = FL_data['recid_two_year'].values"
   ]
  },
  {
   "cell_type": "code",
   "execution_count": 3,
   "metadata": {},
   "outputs": [],
   "source": [
    "#### CART\n",
    "depth = [7,8,9]\n",
    "cart_summary = advance.CART(KY_X, KY_Y, FL_X, FL_Y, depth, seed=816)\n",
    "\n",
    "### EBM\n",
    "estimators = [20]\n",
    "depth = [2]\n",
    "learning_rate = [0.5]\n",
    "ebm_summary = advance.EBM(KY_X, KY_Y, FL_X, FL_Y, \n",
    "                          learning_rate=learning_rate, \n",
    "                          depth=depth, \n",
    "                          estimators=estimators, \n",
    "                          seed=816)"
   ]
  },
  {
   "cell_type": "code",
   "execution_count": 4,
   "metadata": {},
   "outputs": [
    {
     "data": {
      "text/plain": [
       "({'best_auc': 0.7075032020537251,\n",
       "  'auc_diff': 0.008557660740967865,\n",
       "  'best_param': {'max_depth': 7},\n",
       "  'FL_score': 0.5650776047360277},\n",
       " {'best_auc': 0.7107237477190127,\n",
       "  'auc_diff': 0.0033141132920392335,\n",
       "  'best_param': {'learning_rate': 0.5,\n",
       "   'max_tree_splits': 2,\n",
       "   'n_estimators': 20},\n",
       "  'FL_score': 0.577643287546803})"
      ]
     },
     "execution_count": 4,
     "metadata": {},
     "output_type": "execute_result"
    }
   ],
   "source": [
    "cart_summary, ebm_summary"
   ]
  },
  {
   "cell_type": "markdown",
   "metadata": {},
   "source": [
    "### Lasso Stumps"
   ]
  },
  {
   "cell_type": "code",
   "execution_count": 5,
   "metadata": {},
   "outputs": [],
   "source": [
    "KY_stumps = pd.read_csv(\"~/Documents/Duke/Cynthia Research/psa-analysis - test/kentucky/models/ky_fl_combined/data preparation/KY_stumps\")\n",
    "FL_stumps = pd.read_csv(\"~/Documents/Duke/Cynthia Research/psa-analysis - test/kentucky/models/ky_fl_combined/data preparation/FL_stumps\")\n",
    "\n",
    "## split x and y \n",
    "KY_X = KY_stumps.loc[:,:'current_violence>=1']\n",
    "KY_Y = KY_stumps['recid_two_year'].values\n",
    "FL_X = FL_stumps.loc[:,:'current_violence>=1']\n",
    "FL_Y = FL_stumps['recid_two_year'].values\n",
    "\n",
    "## columns \n",
    "cols = KY_X.columns"
   ]
  },
  {
   "cell_type": "code",
   "execution_count": 6,
   "metadata": {},
   "outputs": [],
   "source": [
    "c_grid = {'C': [0.03, 0.05, 0.07]}\n",
    "stumps_summary = stumps.stump_cv(KY_X, KY_Y, FL_X, FL_Y, cols, c_grid, seed=816)"
   ]
  },
  {
   "cell_type": "code",
   "execution_count": 7,
   "metadata": {},
   "outputs": [
    {
     "data": {
      "text/plain": [
       "{'best_auc': 0.7116699966139285,\n",
       " 'best_params': {'C': 0.07},\n",
       " 'auc_diffs': 0.0011374536674587654,\n",
       " 'FL_score': 0.5745354013846861}"
      ]
     },
     "execution_count": 7,
     "metadata": {},
     "output_type": "execute_result"
    }
   ],
   "source": [
    "stumps_summary"
   ]
  },
  {
   "cell_type": "markdown",
   "metadata": {},
   "source": [
    "### RiskSLIM"
   ]
  },
  {
   "cell_type": "code",
   "execution_count": 12,
   "metadata": {},
   "outputs": [
    {
     "data": {
      "text/plain": [
       "65"
      ]
     },
     "execution_count": 12,
     "metadata": {},
     "output_type": "execute_result"
    }
   ],
   "source": [
    "## train on best param chosen by Lasso Stumps from above\n",
    "lasso = LogisticRegression(class_weight='balanced', solver='liblinear', penalty='l1', C=0.07, random_state=816).fit(KY_X, KY_Y)\n",
    "selected_features = cols[lasso.coef_[0] != 0].tolist()\n",
    "len(selected_features)"
   ]
  },
  {
   "cell_type": "code",
   "execution_count": 14,
   "metadata": {},
   "outputs": [],
   "source": [
    "### Subset features\n",
    "sub_FL_X = FL_stumps.loc[:, selected_features]\n",
    "sub_KY_X = KY_stumps.loc[:, selected_features]\n",
    "sub_KY_X.insert(0, '(Intercept)', 1)"
   ]
  },
  {
   "cell_type": "code",
   "execution_count": 15,
   "metadata": {
    "scrolled": true
   },
   "outputs": [
    {
     "name": "stdout",
     "output_type": "stream",
     "text": [
      "setting c0 = 0.0 to ensure that intercept is not penalized\n",
      "09/17/19 @ 04:14 PM | 2701 rows in lookup table\n",
      "09/17/19 @ 04:14 PM | ------------------------------------------------------------\n",
      "09/17/19 @ 04:14 PM | runnning initialization procedure\n",
      "09/17/19 @ 04:14 PM | ------------------------------------------------------------\n",
      "09/17/19 @ 04:14 PM | CPA produced 2 cuts\n",
      "09/17/19 @ 04:14 PM | running naive rounding on 50 solutions\n",
      "09/17/19 @ 04:14 PM | best objective value: 0.5881\n",
      "09/17/19 @ 04:14 PM | rounding produced 5 integer solutions\n",
      "09/17/19 @ 04:14 PM | best objective value is 0.6179\n",
      "09/17/19 @ 04:14 PM | running sequential rounding on 50 solutions\n",
      "09/17/19 @ 04:14 PM | best objective value: 0.5881\n",
      "09/17/19 @ 04:14 PM | sequential rounding produced 6 integer solutions\n",
      "09/17/19 @ 04:14 PM | best objective value: 0.6011\n",
      "09/17/19 @ 04:14 PM | polishing 11 solutions\n",
      "09/17/19 @ 04:14 PM | best objective value: 0.6011\n",
      "09/17/19 @ 04:14 PM | polishing produced 5 integer solutions\n",
      "09/17/19 @ 04:14 PM | initialization produced 16 feasible solutions\n",
      "09/17/19 @ 04:14 PM | best objective value: 0.5968\n",
      "09/17/19 @ 04:14 PM | ------------------------------------------------------------\n",
      "09/17/19 @ 04:14 PM | completed initialization procedure\n",
      "09/17/19 @ 04:14 PM | ------------------------------------------------------------\n",
      "09/17/19 @ 04:14 PM | 2701 rows in lookup table\n",
      "CPXPARAM_Read_DataCheck                          1\n",
      "CPXPARAM_Threads                                 1\n",
      "CPXPARAM_Parallel                                1\n",
      "CPXPARAM_RandomSeed                              0\n",
      "CPXPARAM_TimeLimit                               200\n",
      "CPXPARAM_MIP_Tolerances_LowerCutoff              0.57871317982541559\n",
      "CPXPARAM_MIP_Tolerances_UpperCutoff              0.59682861382735664\n"
     ]
    },
    {
     "name": "stderr",
     "output_type": "stream",
     "text": [
      "Warning: Control callbacks may disable some MIP features.\n"
     ]
    },
    {
     "name": "stdout",
     "output_type": "stream",
     "text": [
      "Lazy constraint(s) or lazy constraint callback is present.\n",
      "    Disabling dual reductions (CPX_PARAM_REDUCE) in presolve.\n",
      "    Disabling non-linear reductions (CPX_PARAM_PRELINEAR) in presolve.\n",
      "         Disabling repeat represolve because of lazy constraint/incumbent callback.\n",
      "09/17/19 @ 04:14 PM | adding 272 initial cuts\n",
      "1 of 1 MIP starts provided solutions.\n",
      "MIP start 'mip_start_0' defined initial solution with objective 0.5968.\n",
      "Tried aggregator 1 time.\n",
      "Reduced MIP has 67 rows, 134 columns, and 263 nonzeros.\n",
      "Reduced MIP has 65 binaries, 67 generals, 0 SOSs, and 0 indicators.\n",
      "Presolve time = 0.00 sec. (0.16 ticks)\n",
      "Probing time = 0.00 sec. (0.07 ticks)\n",
      "MIP emphasis: balance optimality and feasibility.\n",
      "MIP search method: traditional branch-and-cut.\n",
      "Parallel mode: none, using 1 thread.\n",
      "Root relaxation solution time = 0.00 sec. (0.08 ticks)\n",
      "\n",
      "        Nodes                                         Cuts/\n",
      "   Node  Left     Objective  IInf  Best Integer    Best Bound    ItCnt     Gap         Variable B NodeID Parent  Depth\n",
      "\n",
      "*     0+    0                            0.5968        0.5687             4.71%\n",
      "      0     0        0.5787     1        0.5968        0.5787        1    3.04%\n",
      "      0     0        0.5787     1        0.5968      Fract: 1        2    3.04%\n",
      "      0     0        0.5787     1        0.5968      Fract: 3        3    3.04%\n",
      "      0     2        0.5787     5        0.5968        0.5787        3    3.04%                        0             0\n",
      "Elapsed time = 0.22 sec. (5.04 ticks, tree = 0.01 MB, solutions = 1)\n",
      "   2034  1290        0.5787    18        0.5968        0.5787     9097    3.04%          rho_11 U   2034   2032     48\n",
      "   3560  2177        0.5787    10        0.5968        0.5787    17381    3.04%          rho_21 D   3560   3559     36\n",
      "   4572  2689        0.5884    21        0.5968        0.5787    24111    3.04%          rho_52 D   4572   4570     56\n",
      "   5550  3252        0.5787    12        0.5968        0.5787    30319    3.04%          rho_26 D   5550   5414     26\n",
      "   6320  3672        0.5812    23        0.5968        0.5787    36943    3.04%          rho_59 U   6320   6319     36\n",
      "   7110  4028        0.5966     1        0.5968        0.5787    42684    3.04%           rho_2 U   7110   7108     38\n",
      "   7808  4358        cutoff              0.5968        0.5787    48042    3.04%         L0_norm D   7808   7807     21\n",
      "   8420  4655        0.5956    14        0.5968        0.5787    53274    3.04%          rho_18 D   8420   8418     60\n",
      "   9050  4999        0.5907    13        0.5968        0.5787    58304    3.04%          rho_14 D   9050   9048     30\n",
      "  11512  6172        0.5844    25        0.5968        0.5787    76770    3.04%          rho_25 D  11512  11511     76\n",
      "Elapsed time = 4.44 sec. (3109.03 ticks, tree = 2.18 MB, solutions = 1)\n",
      "  14130  7320        0.5925     8        0.5968        0.5787    94348    3.04%         L0_norm U  14130  14128     54\n",
      "  16416  8288        0.5946    13        0.5968        0.5787   112482    3.04%          rho_14 D  16416  16415     57\n",
      "  18400  8967        0.5852    16        0.5968        0.5787   130307    3.04%         L0_norm U  18400  18399     57\n",
      "  20714  9850        0.5925     1        0.5968        0.5787   146159    3.04%          rho_16 U  20714  20713     73\n",
      "  23237 10978        0.5925    14        0.5968        0.5787   162595    3.04%          rho_52 D  23237  23236     75\n",
      "  25609 12129        cutoff              0.5968        0.5787   178685    3.04%           rho_0 U  25609  25608     46\n",
      "  28482 13237        0.5787     6        0.5968        0.5787   191797    3.04%           rho_0 D  28482  28480     80\n",
      "  31518 14268        0.5921     1        0.5968        0.5787   203888    3.04%           rho_0 D  31518  31517     68\n",
      "  34571 15349        0.5787     4        0.5968        0.5787   216110    3.04%          rho_34 U  34571  24837     40\n",
      "  37460 16402        0.5797     9        0.5968        0.5787   229151    3.04%          rho_34 D  37460  37459    111\n",
      "Elapsed time = 12.01 sec. (12651.54 ticks, tree = 6.55 MB, solutions = 1)\n",
      "  40097 17424        0.5831     8        0.5968        0.5787   242890    3.04%          rho_46 D  40097  40096     60\n",
      "  42269 18484        0.5805    12        0.5968        0.5787   259075    3.04%          rho_22 D  42269  34663     70\n",
      "  44640 19708        0.5797     8        0.5968        0.5787   275324    3.04%          rho_34 D  44640  44639     66\n",
      "  46943 20882        0.5787     8        0.5968        0.5787   291744    3.04%          rho_34 U  46943  46941     70\n",
      "  49029 21755        0.5846     8        0.5968        0.5787   307986    3.04%          rho_20 U  49029  49027     57\n",
      "  51269 22665        0.5895     3        0.5968        0.5787   323604    3.04%          rho_22 D  51269  51268     34\n",
      "  53790 23451        cutoff              0.5968        0.5787   337832    3.04%           rho_2 D  53790  53789     54\n",
      "  56146 24129        0.5794     9        0.5968        0.5787   349673    3.04%           rho_0 D  56146  56144     73\n",
      "  58639 25055        0.5812     3        0.5968        0.5787   361159    3.04%           rho_0 D  58639  58637     43\n",
      "  60980 25881        0.5921     8        0.5968        0.5787   374618    3.04%           rho_9 D  60980  60979     50\n",
      "Elapsed time = 18.53 sec. (22190.67 ticks, tree = 9.81 MB, solutions = 1)\n",
      "  63122 26628        0.5792    19        0.5968        0.5787   389704    3.04%           rho_0 D  63122  63120     67\n",
      "  65520 27538        0.5797     9        0.5968        0.5787   402983    3.04%          rho_34 D  65520  65519     87\n",
      "  67874 28283        0.5938    13        0.5968        0.5787   416344    3.04%          rho_45 D  67874  67872    129\n",
      "  70306 28890        0.5822    13        0.5968        0.5787   428057    3.04%          rho_13 D  70306  70305    113\n",
      "  72799 29497        cutoff              0.5968        0.5787   439472    3.04%           rho_8 U  72799  72798    140\n",
      "  75210 30020        0.5834    11        0.5968        0.5787   450484    3.04%          rho_14 D  75210  75208    106\n",
      "  77596 30587        0.5893    17        0.5968        0.5787   462094    3.04%           rho_2 D  77596  77594     78\n",
      "  80078 31117        0.5875    15        0.5968        0.5787   472756    3.04%          rho_45 D  80078  80077     79\n",
      "  82216 31809        0.5794    19        0.5968        0.5787   487563    3.04%          rho_34 D  82216  82215     70\n",
      "  84230 32408        0.5906    15        0.5968        0.5787   502297    3.04%          rho_59 D  84230  84228     88\n",
      "Elapsed time = 24.95 sec. (31734.58 ticks, tree = 11.99 MB, solutions = 1)\n",
      "  86538 32982        0.5825    12        0.5968        0.5787   515008    3.04%          rho_46 D  86538  86537    126\n",
      "  88920 33656        0.5906    13        0.5968        0.5787   527350    3.04%          rho_55 D  88920  88918     60\n",
      "  91025 34376        0.5892    16        0.5968        0.5787   542632    3.04%          rho_59 D  91025  91023     87\n",
      "  93153 35097        0.5794    19        0.5968        0.5787   558021    3.04%          rho_34 D  93153  93152     64\n",
      "  95545 35652        cutoff              0.5968        0.5787   568978    3.04%           rho_6 D  95545  95543    131\n",
      "  97557 36274        cutoff              0.5968        0.5787   584407    3.04%          rho_52 U  97557  97556     88\n",
      "  99489 36898        0.5949    12        0.5968        0.5787   600061    3.04%          rho_37 D  99489  99487    103\n",
      " 101660 37523        0.5939    12        0.5968        0.5787   613705    3.04%          rho_33 D 101660 101658    101\n",
      " 103690 38105        0.5945    13        0.5968        0.5787   628545    3.04%          rho_37 D 103690 103688     93\n",
      " 105803 38756        cutoff              0.5968        0.5787   643808    3.04%           rho_0 U 105803 105802    114\n",
      "Elapsed time = 30.95 sec. (41273.65 ticks, tree = 15.48 MB, solutions = 1)\n",
      " 107954 39394        0.5880    18        0.5968        0.5787   658441    3.04%           rho_8 D 107954 107952    120\n",
      " 110248 39940        0.5917    13        0.5968        0.5787   670701    3.04%           rho_5 D 110248 110246    143\n",
      " 112438 40642        0.5937     9        0.5968        0.5787   684402    3.04%          rho_31 D 112438 112436     77\n",
      " 114651 41510        0.5914    15        0.5968        0.5787   697522    3.04%           rho_6 D 114651 114649     87\n",
      " 116838 42399        0.5823    17        0.5968        0.5787   711054    3.04%          rho_13 D 116838 116836     91\n",
      " 118820 43242        0.5822    15        0.5968        0.5787   725175    3.04%          rho_15 D 118820 118819    100\n",
      " 120676 44112        cutoff              0.5968        0.5787   738597    3.04%          rho_48 U 120676 120675    112\n",
      " 122898 44995        0.5787     8        0.5968        0.5787   752604    3.04%           rho_0 D 122898 122896     93\n",
      " 125103 45748        0.5787     8        0.5968        0.5787   766490    3.04%          rho_34 U 125103 125101    100\n",
      " 127389 46368        0.5853    21        0.5968        0.5787   779665    3.04%           rho_9 D 127389 127387     90\n",
      "Elapsed time = 37.09 sec. (50812.28 ticks, tree = 17.99 MB, solutions = 1)\n",
      " 129671 47097        0.5878    20        0.5968        0.5787   792529    3.04%          rho_55 D 129671 129669     63\n",
      " 132052 47520        0.5816    14        0.5968        0.5787   803596    3.04%          rho_15 D 132052 132051     58\n",
      " 134440 47985        0.5922    11        0.5968        0.5787   814985    3.04%        alpha_54 D 134440 134439     97\n",
      " 136813 48416        0.5893    13        0.5968        0.5787   826262    3.04%          rho_33 D 136813 136811    100\n",
      " 139190 48897        0.5931    14        0.5968        0.5787   837767    3.04%           rho_4 D 139190 139189    109\n",
      " 141542 49377        cutoff              0.5968        0.5787   849099    3.04%           rho_9 U 141542 141541    101\n",
      " 143860 49840        0.5840    16        0.5968        0.5787   860482    3.04%          rho_12 D 143860 143858    100\n",
      " 146182 50312        0.5799    15        0.5968        0.5787   872061    3.04%          rho_41 D 146182 146181    102\n",
      " 148508 50760        0.5873    19        0.5968        0.5787   883675    3.04%           rho_5 D 148508 148506     97\n",
      " 150808 51195        0.5840    16        0.5968        0.5787   895427    3.04%          rho_12 D 150808 150806     86\n",
      "Elapsed time = 42.70 sec. (60352.85 ticks, tree = 19.59 MB, solutions = 1)\n",
      " 153119 51685        0.5911    16        0.5968        0.5787   907334    3.04%          rho_33 D 153119 153118    128\n",
      " 155479 52308        cutoff              0.5968        0.5787   917891    3.04%          rho_12 U 155479 155478    130\n",
      " 157675 53121        cutoff              0.5968        0.5787   931143    3.04%          rho_44 U 157675 157674     36\n",
      " 160128 53608        0.5787     8        0.5968        0.5787   942093    3.04%          rho_34 U 160128 160126     66\n",
      " 162065 54394        0.5787     8        0.5968        0.5787   957638    3.04%           rho_0 D 162065 162063     75\n",
      " 163976 55093        0.5919    19        0.5968        0.5787   972411    3.04%           rho_7 D 163976 163974     65\n",
      " 166155 55896        cutoff              0.5968        0.5787   985121    3.04%          rho_18 U 166155 166154     38\n",
      " 168462 56780        0.5890    11        0.5968        0.5787   997097    3.04%          rho_55 D 168462 168460     88\n",
      " 170913 57483        0.5787     8        0.5968        0.5787  1007951    3.04%           rho_0 D 170913 170911     76\n",
      " 173328 58225        0.5893    11        0.5968        0.5787  1018718    3.04%           rho_2 D 173328 173327    111\n",
      "Elapsed time = 48.69 sec. (69891.71 ticks, tree = 21.82 MB, solutions = 1)\n",
      " 175819 58822        cutoff              0.5968        0.5787  1029332    3.04%          rho_64 U 175819 175818     81\n",
      " 178204 59389        0.5926    10        0.5968        0.5787  1039839    3.04%          rho_47 D 178204 178202    109\n",
      " 180529 59781        0.5892    10        0.5968        0.5787  1050344    3.04%           rho_6 D 180529 180527    117\n",
      " 182890 60282        0.5889    17        0.5968        0.5787  1060804    3.04%          rho_33 D 182890 182889    105\n",
      " 185269 60733        0.5914     2        0.5968        0.5787  1071266    3.04%          rho_18 U 185269 185267     99\n",
      " 187692 61332        cutoff              0.5968        0.5787  1081604    3.04%          rho_59 U 187692 187691    100\n",
      " 190080 61900        0.5869    15        0.5968        0.5787  1092179    3.04%          rho_62 D 190080 190078    103\n",
      " 192517 62478        0.5931    11        0.5968        0.5787  1102827    3.04%           rho_4 D 192517 192515    108\n",
      " 194933 63085        0.5947    20        0.5968        0.5787  1113867    3.04%          rho_55 D 194933 194931     80\n",
      " 197316 63592        0.5823    13        0.5968        0.5787  1124365    3.04%          rho_13 D 197316 197314     91\n",
      "Elapsed time = 54.45 sec. (79430.84 ticks, tree = 23.59 MB, solutions = 1)\n",
      " 199729 64247        cutoff              0.5968        0.5787  1134891    3.04%           rho_0 D 199729 199728     64\n",
      " 202076 64847        cutoff              0.5968        0.5787  1145431    3.04%           rho_7 U 202076 202075     96\n",
      " 204454 65466        0.5830    10        0.5968        0.5787  1156096    3.04%          rho_19 U 204454 204451     52\n",
      " 206816 66098        cutoff              0.5968        0.5787  1166659    3.04%          rho_30 U 206816 206815     83\n",
      " 209155 66793        0.5855     1        0.5968        0.5787  1177710    3.04%          rho_27 D 209155 209154     48\n",
      " 211504 67453        cutoff              0.5968        0.5787  1188879    3.04%          rho_15 U 211504 211503     49\n",
      " 213862 68170        cutoff              0.5968        0.5787  1200264    3.04%          rho_37 U 213862 213861     68\n",
      " 216087 68912        0.5816    12        0.5968        0.5787  1212756    3.04%          rho_26 D 216087 216086     39\n",
      " 218217 69731        0.5793    17        0.5968        0.5787  1226546    3.04%          rho_41 D 218217 218216     39\n",
      " 227881 73552        cutoff              0.5968        0.5787  1273209    3.04%          rho_48 U 227881 227880     82\n",
      "Elapsed time = 61.89 sec. (91830.58 ticks, tree = 29.73 MB, solutions = 1)\n",
      " 237272 76117        0.5891     1        0.5968        0.5787  1316205    3.04%          rho_16 U 237272 237271     85\n",
      " 246329 79237        0.5920    12        0.5968        0.5787  1363378    3.04%           rho_3 D 246329 246327     92\n",
      " 254785 82850        0.5891     1        0.5968        0.5787  1413601    3.04%          rho_16 U 254785 254784     78\n",
      " 263870 86087        cutoff              0.5968        0.5787  1460251    3.04%           rho_0 U 263870 263869     68\n",
      " 273108 89336        cutoff              0.5968        0.5787  1503371    3.04%          rho_59 U 273108 273107     72\n",
      " 282601 92836        0.5914    15        0.5968        0.5787  1544786    3.04%          rho_55 D 282601 282599    146\n",
      " 291943 96152        cutoff              0.5968        0.5787  1587869    3.04%          rho_30 D 291943 291941    136\n",
      " 301533 99659        0.5941    13        0.5968        0.5787  1629620    3.04%          rho_32 D 301533 301531    127\n",
      " 311213 102972        cutoff              0.5968        0.5787  1670060    3.04%           rho_0 U 311213 311212    120\n",
      " 321021 106639        cutoff              0.5968        0.5787  1709267    3.04%          rho_50 U 321021 321020    134\n",
      "Elapsed time = 84.11 sec. (129980.14 ticks, tree = 40.74 MB, solutions = 1)\n",
      " 330897 110139        0.5854     7        0.5968        0.5787  1748460    3.04%           rho_0 D 330897 330895    124\n",
      " 340876 113945        0.5874    20        0.5968        0.5787  1787284    3.04%          rho_62 D 340876 340874    128\n",
      " 350348 116553        cutoff              0.5968        0.5787  1827135    3.04%           rho_0 U 350348 350346    112\n",
      " 359981 119828        0.5896    18        0.5968        0.5787  1867127    3.04%          rho_33 D 359981 359980    105\n",
      " 369308 122832        cutoff              0.5968        0.5787  1908248    3.04%           rho_2 U 369308 369307    142\n",
      " 378950 125718        0.5893    14        0.5968        0.5787  1948704    3.04%          rho_13 D 378950 378948    132\n",
      " 388697 129530        0.5798     8        0.5968        0.5787  1991207    3.04%           rho_0 D 388697 388695    113\n",
      " 398362 132585        0.5827    13        0.5968        0.5787  2032956    3.04%          rho_52 D 398362 398360    130\n",
      " 407771 136045        0.5787     7        0.5968        0.5787  2079675    3.04%           rho_0 D 407771 407769     81\n",
      " 416708 138995        cutoff              0.5968        0.5787  2128332    3.04%          rho_62 U 416708 416707    120\n",
      "Elapsed time = 108.48 sec. (168128.76 ticks, tree = 54.52 MB, solutions = 1)\n",
      " 425541 142423        cutoff              0.5968        0.5787  2173441    3.04%           rho_7 U 425541 425540    125\n",
      " 434690 146113        0.5910    14        0.5968        0.5787  2218557    3.04%          rho_13 D 434690 434688    106\n",
      " 446858 147163        0.5816     1        0.5968        0.5787  2246399    3.04%           rho_0 D 446858 446857     97\n",
      " 459920 148670        0.5816     1        0.5968        0.5787  2272698    3.04%          rho_34 U 459920 459918     88\n",
      " 468541 151035        0.5787     6        0.5968        0.5787  2323932    3.04%          rho_34 U 468541 468341     80\n",
      " 477540 153457        0.5926    12        0.5968        0.5787  2372654    3.04%           rho_0 U 477540 477539     46\n",
      " 484932 155687        cutoff              0.5968        0.5787  2430001    3.04%          rho_44 N 484932 484931    110\n",
      " 492870 157798        0.5788    17        0.5968        0.5787  2472929    3.04%          rho_41 D 492870 492869    107\n",
      " 501440 159773        0.5848    27        0.5968        0.5787  2522911    3.04%           rho_8 D 501440 501438    103\n",
      " 510550 161433        0.5868    18        0.5968        0.5787  2568162    3.04%          rho_55 D 510550 510548    113\n",
      "Elapsed time = 127.25 sec. (206282.25 ticks, tree = 63.78 MB, solutions = 1)\n",
      " 519400 163260        0.5845    27        0.5968        0.5787  2614141    3.04%          rho_64 D 519400 519398     92\n",
      " 528017 165384        cutoff              0.5968        0.5787  2662543    3.04%          rho_35 U 528017 528015     69\n",
      " 536628 167595        0.5860    22        0.5968        0.5787  2711774    3.04%          rho_48 D 536628 536626     85\n",
      " 545290 170959        0.5916    17        0.5968        0.5787  2753434    3.04%           rho_2 D 545290 545288    104\n",
      " 553920 174211        0.5906    14        0.5968        0.5787  2792604    3.04%          rho_14 D 553920 553918    134\n",
      " 562715 177149        0.5912    18        0.5968        0.5787  2831926    3.04%          rho_31 D 562715 562713    103\n",
      " 571253 180024        0.5910    16        0.5968        0.5787  2875635    3.04%          rho_55 D 571253 571251    108\n",
      " 579820 183315        0.5834     8        0.5968        0.5787  2914276    3.04%           rho_0 D 579820 579819     75\n",
      " 588412 186540        0.5874    19        0.5968        0.5787  2954194    3.04%          rho_46 D 588412 588411    118\n",
      " 597010 189500        0.5883     8        0.5968        0.5787  2994400    3.04%          rho_23 U 597010 597009     62\n",
      "Elapsed time = 147.53 sec. (244434.14 ticks, tree = 75.23 MB, solutions = 1)\n",
      " 605611 192728        0.5959     6        0.5968        0.5787  3035291    3.04%          rho_23 U 605611 605610    108\n",
      " 614128 195651        0.5883     8        0.5968        0.5787  3076038    3.04%          rho_23 U 614128 614127     88\n",
      " 622830 198861        0.5824    17        0.5968        0.5787  3116669    3.04%          rho_23 D 622830 622829     70\n",
      " 630473 201865        0.5885    21        0.5968        0.5787  3169311    3.04%          rho_48 D 630473 630471     81\n",
      " 638945 205153        0.5789     8        0.5968        0.5787  3210525    3.04%          rho_23 U 638945 638943    111\n",
      " 647263 208183        0.5809    21        0.5968        0.5787  3251467    3.04%          rho_23 D 647263 646564     94\n",
      " 655632 210873        0.5809    21        0.5968        0.5787  3294812    3.04%          rho_23 D 655632 654477     70\n",
      " 663801 214023        0.5905    16        0.5968        0.5787  3339408    3.04%          rho_31 D 663801 663799    104\n",
      " 671897 216871        0.5890     8        0.5968        0.5787  3382620    3.04%           rho_0 D 671897 671895    121\n",
      " 679990 219294        0.5913    19        0.5968        0.5787  3423722    3.04%           rho_8 D 679990 679988    137\n",
      "Elapsed time = 167.95 sec. (282586.53 ticks, tree = 85.24 MB, solutions = 1)\n",
      " 688146 222091        cutoff              0.5968        0.5787  3463200    3.04%           rho_6 U 688146 688145    105\n",
      " 696519 225146        cutoff              0.5968        0.5787  3502928    3.04%          rho_55 U 696519 696518     93\n",
      " 704606 228267        0.5888    17        0.5968        0.5787  3547523    3.04%          rho_42 D 704606 704604     71\n",
      " 714031 232545        0.5882     1        0.5968        0.5787  3591914    3.04%          rho_22 U 714031 714029     70\n",
      " 723099 236422        0.5793    20        0.5968        0.5787  3635425    3.04%         L0_norm U 723099 723098     86\n",
      " 732267 240522        cutoff              0.5968        0.5787  3678533    3.04%           rho_0 U 732267 732265     71\n",
      " 742068 244419        cutoff              0.5968        0.5787  3714740    3.04%           rho_0 U 742068 742067     82\n",
      " 751742 248159        0.5800    11        0.5968        0.5787  3745729    3.04%           rho_8 D 751742 751741    112\n",
      " 760710 251845        cutoff              0.5968        0.5787  3784932    3.04%           rho_0 U 760710 760709     97\n",
      " 769690 255706        0.5787    15        0.5968        0.5787  3824692    3.04%          rho_22 D 769690 769386     95\n",
      "Elapsed time = 184.94 sec. (320736.13 ticks, tree = 100.12 MB, solutions = 1)\n",
      " 778661 259717        0.5870     2        0.5968        0.5787  3864349    3.04%          rho_17 U 778661 778660     81\n",
      " 788148 263787        cutoff              0.5968        0.5787  3897319    3.04%           rho_0 U 788148 788146     69\n",
      " 796769 266878        cutoff              0.5968        0.5787  3934531    3.04%           rho_4 U 796769 796768    106\n",
      " 804876 269550        cutoff              0.5968        0.5787  3973075    3.04%           rho_0 U 804876 804875     81\n",
      " 813080 271602        0.5787     8        0.5968        0.5787  4013337    3.04%          rho_25 U 813080 812412     60\n",
      " 821009 273672        0.5787     8        0.5968        0.5787  4055604    3.04%          rho_34 U 821009 820679     97\n",
      " 828960 275848        0.5787    11        0.5968        0.5787  4098346    3.04%          rho_34 D 828960 828959     57\n",
      " 837450 279102        0.5789     8        0.5968        0.5787  4138753    3.04%           rho_0 D 837450 837448     38\n",
      " 846502 282734        cutoff              0.5968        0.5787  4175923    3.04%          rho_34 D 846502 846501     69\n",
      "\n",
      "Implied bound cuts applied:  1\n",
      "Gomory fractional cuts applied:  1\n",
      "User cuts applied:  389\n",
      "\n",
      "Root node processing (before b&c):\n",
      "  Real time             =    0.22 sec. (5.11 ticks)\n",
      "Sequential b&c:\n",
      "  Real time             =  199.80 sec. (357441.44 ticks)\n",
      "                          ------------\n",
      "Total (root+branch&cut) =  200.01 sec. (357446.55 ticks)\n",
      "+----------------------------------------------+------------------+-----------+\n",
      "| Pr(Y = +1) = 1.0/(1.0 + exp(-(-2 + score))   |                  |           |\n",
      "| ============================================ | ================ | ========= |\n",
      "| age_at_current_charge<=60.0                  |         1 points |   + ..... |\n",
      "| p_arrest>=2                                  |         1 points |   + ..... |\n",
      "| p_arrest>=4                                  |         1 points |   + ..... |\n",
      "| ============================================ | ================ | ========= |\n",
      "| ADD POINTS FROM ROWS 1 to 3                  |            SCORE |   = ..... |\n",
      "+----------------------------------------------+------------------+-----------+\n"
     ]
    }
   ],
   "source": [
    "riskslim_summary = slim.risk_cv(sub_KY_X, KY_Y, sub_FL_X, FL_Y, \n",
    "                                y_label = 'general2', \n",
    "                                max_coef = 20, \n",
    "                                max_coef_number = 10, \n",
    "                                max_runtime=200, \n",
    "                                c=1e-3, \n",
    "                                seed=816)"
   ]
  },
  {
   "cell_type": "code",
   "execution_count": 21,
   "metadata": {},
   "outputs": [
    {
     "data": {
      "text/plain": [
       "0.5541543222590134"
      ]
     },
     "execution_count": 21,
     "metadata": {},
     "output_type": "execute_result"
    }
   ],
   "source": [
    "riskslim_summary['FL_Score']"
   ]
  },
  {
   "cell_type": "code",
   "execution_count": 17,
   "metadata": {},
   "outputs": [
    {
     "name": "stdout",
     "output_type": "stream",
     "text": [
      "Stored 'summary_general2_ky_inter_model' (dict)\n"
     ]
    }
   ],
   "source": [
    "#### save results\n",
    "summary_general2_ky_inter_model = {\"CART\": cart_summary,\n",
    "                                    \"EBM\": ebm_summary,\n",
    "                                    \"Stumps\": stumps_summary,\n",
    "                                    \"RiskSLIM\": riskslim_summary}\n",
    "%store summary_general2_ky_inter_model"
   ]
  },
  {
   "cell_type": "code",
   "execution_count": 24,
   "metadata": {},
   "outputs": [],
   "source": [
    "path = \"C:\\\\Users\\\\binha\\\\Documents\\\\Duke\\\\Cynthia Research\\\\KY-analysis-mytrials\\\\KY Recidivism\\\\KY Results\\\\KY_FL\\\\KY Model\\\\interpretable\\\\Two Year\\\\\"\n",
    "results = [[\"\", \"CART\", \"EBM\", \"Lasso Stumps\", \"RiskSLIM\"],\n",
    "           [\"General\",             \n",
    "            round(cart_summary['FL_score'],3), \n",
    "            round(ebm_summary['FL_score'], 3), \n",
    "            round(stumps_summary['FL_score'],3), \n",
    "            round(riskslim_summary['FL_Score'], 3)]]\n",
    "with open(path + 'Two Year KY_inter_model.csv', 'w') as writeFile:\n",
    "    writer = csv.writer(writeFile)\n",
    "    writer.writerows(results)"
   ]
  }
 ],
 "metadata": {
  "kernelspec": {
   "display_name": "Python 3",
   "language": "python",
   "name": "python3"
  },
  "language_info": {
   "codemirror_mode": {
    "name": "ipython",
    "version": 3
   },
   "file_extension": ".py",
   "mimetype": "text/x-python",
   "name": "python",
   "nbconvert_exporter": "python",
   "pygments_lexer": "ipython3",
   "version": "3.7.4"
  }
 },
 "nbformat": 4,
 "nbformat_minor": 4
}
