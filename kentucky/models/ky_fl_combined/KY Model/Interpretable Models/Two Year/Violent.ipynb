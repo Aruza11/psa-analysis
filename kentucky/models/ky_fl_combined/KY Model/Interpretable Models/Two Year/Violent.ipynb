{
 "cells": [
  {
   "cell_type": "code",
   "execution_count": 11,
   "metadata": {},
   "outputs": [
    {
     "name": "stdout",
     "output_type": "stream",
     "text": [
      "no stored variable summary_violent2_ky_inter_model\n"
     ]
    }
   ],
   "source": [
    "import pandas as pd \n",
    "import numpy as np\n",
    "import csv\n",
    "import advance_functions as advance\n",
    "import RiskSLIM as slim\n",
    "import stumps\n",
    "from sklearn.linear_model import LogisticRegression\n",
    "from riskslim.helper_functions import load_data_from_csv, print_model\n",
    "\n",
    "# restore saved variables\n",
    "%store -r summary_violent2_ky_inter_model"
   ]
  },
  {
   "cell_type": "markdown",
   "metadata": {},
   "source": [
    "### EBM & CART"
   ]
  },
  {
   "cell_type": "code",
   "execution_count": 12,
   "metadata": {},
   "outputs": [],
   "source": [
    "KY_data = pd.read_csv(\"~/Documents/Duke/Cynthia Research/psa-analysis - test/kentucky/models/ky_fl_combined/data preparation/KY_cleaned\")\n",
    "FL_data = pd.read_csv(\"~/Documents/Duke/Cynthia Research/psa-analysis - test/kentucky/models/ky_fl_combined/data preparation/FL_cleaned\")\n",
    "\n",
    "## split x and y \n",
    "KY_X = KY_data.loc[:,:'current_violence']\n",
    "KY_Y = KY_data['recid_violence_two_year'].values\n",
    "FL_X = FL_data.loc[:,:'current_violence']\n",
    "FL_Y = FL_data['recid_violence_two_year'].values"
   ]
  },
  {
   "cell_type": "code",
   "execution_count": 13,
   "metadata": {
    "scrolled": true
   },
   "outputs": [],
   "source": [
    "#### CART\n",
    "depth = [8,9,10]\n",
    "cart_summary = advance.CART(KY_X, KY_Y, FL_X, FL_Y, depth, seed=816)\n",
    "\n",
    "### EBM\n",
    "estimators = [20]\n",
    "depth = [2]\n",
    "learning_rate = [0.5]\n",
    "ebm_summary = advance.EBM(KY_X, KY_Y, FL_X, FL_Y, \n",
    "                          learning_rate=learning_rate, \n",
    "                          depth=depth, \n",
    "                          estimators=estimators, \n",
    "                          seed=816)"
   ]
  },
  {
   "cell_type": "code",
   "execution_count": 14,
   "metadata": {},
   "outputs": [
    {
     "data": {
      "text/plain": [
       "({'best_auc': 0.7988550758281007,\n",
       "  'auc_diff': 0.02229662457957915,\n",
       "  'best_param': {'max_depth': 8},\n",
       "  'FL_score': 0.6141025843548591},\n",
       " {'best_auc': 0.8081345640712394,\n",
       "  'auc_diff': 0.004205608620147849,\n",
       "  'best_param': {'learning_rate': 0.5,\n",
       "   'max_tree_splits': 2,\n",
       "   'n_estimators': 20},\n",
       "  'FL_score': 0.5640796790092254})"
      ]
     },
     "execution_count": 14,
     "metadata": {},
     "output_type": "execute_result"
    }
   ],
   "source": [
    "cart_summary, ebm_summary"
   ]
  },
  {
   "cell_type": "markdown",
   "metadata": {},
   "source": [
    "### Lasso Stumps"
   ]
  },
  {
   "cell_type": "code",
   "execution_count": 15,
   "metadata": {},
   "outputs": [],
   "source": [
    "KY_stumps = pd.read_csv(\"~/Documents/Duke/Cynthia Research/psa-analysis - test/kentucky/models/ky_fl_combined/data preparation/KY_stumps\")\n",
    "FL_stumps = pd.read_csv(\"~/Documents/Duke/Cynthia Research/psa-analysis - test/kentucky/models/ky_fl_combined/data preparation/FL_stumps\")\n",
    "\n",
    "## split x and y \n",
    "KY_X = KY_stumps.loc[:,:'current_violence>=1']\n",
    "KY_Y = KY_stumps['recid_violence_two_year'].values\n",
    "FL_X = FL_stumps.loc[:,:'current_violence>=1']\n",
    "FL_Y = FL_stumps['recid_violence_two_year'].values\n",
    "\n",
    "## columns \n",
    "cols = KY_X.columns"
   ]
  },
  {
   "cell_type": "code",
   "execution_count": 16,
   "metadata": {},
   "outputs": [],
   "source": [
    "c_grid = {'C': [0.03, 0.05, 0.07]}\n",
    "stumps_summary = stumps.stump_cv(KY_X, KY_Y, FL_X, FL_Y, cols, c_grid, seed=816)"
   ]
  },
  {
   "cell_type": "code",
   "execution_count": 17,
   "metadata": {},
   "outputs": [
    {
     "data": {
      "text/plain": [
       "{'best_auc': 0.8095436457263578,\n",
       " 'best_params': {'C': 0.05},\n",
       " 'auc_diffs': 0.0024946687247843213,\n",
       " 'FL_score': 0.6178677492733476}"
      ]
     },
     "execution_count": 17,
     "metadata": {},
     "output_type": "execute_result"
    }
   ],
   "source": [
    "stumps_summary"
   ]
  },
  {
   "cell_type": "markdown",
   "metadata": {},
   "source": [
    "### RiskSLIM"
   ]
  },
  {
   "cell_type": "code",
   "execution_count": 18,
   "metadata": {},
   "outputs": [
    {
     "data": {
      "text/plain": [
       "65"
      ]
     },
     "execution_count": 18,
     "metadata": {},
     "output_type": "execute_result"
    }
   ],
   "source": [
    "## train on best param chosen by Lasso Stumps from above\n",
    "lasso = LogisticRegression(class_weight='balanced', solver='liblinear', penalty='l1', C=0.05, random_state=816).fit(KY_X, KY_Y)\n",
    "selected_features = cols[lasso.coef_[0] != 0].tolist()\n",
    "len(selected_features)"
   ]
  },
  {
   "cell_type": "code",
   "execution_count": 19,
   "metadata": {},
   "outputs": [],
   "source": [
    "### Subset features\n",
    "sub_FL_X = FL_stumps.loc[:, selected_features]\n",
    "sub_KY_X = KY_stumps.loc[:, selected_features]\n",
    "sub_KY_X.insert(0, '(Intercept)', 1)"
   ]
  },
  {
   "cell_type": "code",
   "execution_count": 22,
   "metadata": {
    "scrolled": true
   },
   "outputs": [
    {
     "name": "stdout",
     "output_type": "stream",
     "text": [
      "setting c0 = 0.0 to ensure that intercept is not penalized\n",
      "09/17/19 @ 04:14 PM | 2701 rows in lookup table\n",
      "09/17/19 @ 04:14 PM | ------------------------------------------------------------\n",
      "09/17/19 @ 04:14 PM | runnning initialization procedure\n",
      "09/17/19 @ 04:14 PM | ------------------------------------------------------------\n",
      "09/17/19 @ 04:14 PM | CPA produced 2 cuts\n",
      "09/17/19 @ 04:14 PM | running naive rounding on 89 solutions\n",
      "09/17/19 @ 04:14 PM | best objective value: 0.2406\n",
      "09/17/19 @ 04:14 PM | rounding produced 5 integer solutions\n",
      "09/17/19 @ 04:14 PM | best objective value is 0.2748\n",
      "09/17/19 @ 04:14 PM | running sequential rounding on 89 solutions\n",
      "09/17/19 @ 04:14 PM | best objective value: 0.2406\n",
      "09/17/19 @ 04:14 PM | sequential rounding produced 5 integer solutions\n",
      "09/17/19 @ 04:14 PM | best objective value: 0.2657\n",
      "09/17/19 @ 04:14 PM | polishing 10 solutions\n",
      "09/17/19 @ 04:14 PM | best objective value: 0.2657\n",
      "09/17/19 @ 04:14 PM | polishing produced 2 integer solutions\n",
      "09/17/19 @ 04:14 PM | initialization produced 9 feasible solutions\n",
      "09/17/19 @ 04:14 PM | best objective value: 0.2657\n",
      "09/17/19 @ 04:14 PM | ------------------------------------------------------------\n",
      "09/17/19 @ 04:14 PM | completed initialization procedure\n",
      "09/17/19 @ 04:14 PM | ------------------------------------------------------------\n",
      "09/17/19 @ 04:14 PM | 2701 rows in lookup table\n",
      "CPXPARAM_Read_DataCheck                          1\n",
      "CPXPARAM_Threads                                 1\n",
      "CPXPARAM_Parallel                                1\n",
      "CPXPARAM_RandomSeed                              0\n",
      "CPXPARAM_TimeLimit                               200\n",
      "CPXPARAM_MIP_Tolerances_LowerCutoff              0.23862029454048059\n",
      "CPXPARAM_MIP_Tolerances_UpperCutoff              0.26571816607445009\n"
     ]
    },
    {
     "name": "stderr",
     "output_type": "stream",
     "text": [
      "Warning: Control callbacks may disable some MIP features.\n"
     ]
    },
    {
     "name": "stdout",
     "output_type": "stream",
     "text": [
      "Lazy constraint(s) or lazy constraint callback is present.\n",
      "    Disabling dual reductions (CPX_PARAM_REDUCE) in presolve.\n",
      "    Disabling non-linear reductions (CPX_PARAM_PRELINEAR) in presolve.\n",
      "         Disabling repeat represolve because of lazy constraint/incumbent callback.\n",
      "09/17/19 @ 04:14 PM | adding 251 initial cuts\n",
      "1 of 1 MIP starts provided solutions.\n",
      "MIP start 'mip_start_0' defined initial solution with objective 0.2657.\n",
      "Tried aggregator 1 time.\n",
      "Reduced MIP has 67 rows, 134 columns, and 263 nonzeros.\n",
      "Reduced MIP has 65 binaries, 67 generals, 0 SOSs, and 0 indicators.\n",
      "Presolve time = 0.02 sec. (0.16 ticks)\n",
      "Probing time = 0.00 sec. (0.07 ticks)\n",
      "MIP emphasis: balance optimality and feasibility.\n",
      "MIP search method: traditional branch-and-cut.\n",
      "Parallel mode: none, using 1 thread.\n",
      "Root relaxation solution time = 0.00 sec. (0.08 ticks)\n",
      "\n",
      "        Nodes                                         Cuts/\n",
      "   Node  Left     Objective  IInf  Best Integer    Best Bound    ItCnt     Gap         Variable B NodeID Parent  Depth\n",
      "\n",
      "*     0+    0                            0.2657        0.1386            47.83%\n",
      "      0     0        0.2386     1        0.2657        0.2386        1   10.20%\n",
      "      0     0        0.2386     3        0.2657      Fract: 1        2   10.20%\n",
      "      0     0        0.2386     3        0.2657    MIRcuts: 1        7   10.20%\n",
      "      0     0        0.2386     5        0.2657    MIRcuts: 2       10   10.20%\n",
      "      0     2        0.2386     7        0.2657        0.2386       10   10.20%                        0             0\n",
      "Elapsed time = 0.27 sec. (5.37 ticks, tree = 0.01 MB, solutions = 1)\n",
      "   2058  1523        0.2645    11        0.2657        0.2386    11740   10.20%           rho_0 U   2058   2057     46\n",
      "   3658  2480        0.2483    14        0.2657        0.2386    23806   10.20%         alpha_3 D   3658     36     29\n",
      "   5119  3336        0.2580    16        0.2657        0.2386    35443   10.20%          rho_31 D   5119   5117     43\n",
      "   6446  4121        0.2629     7        0.2657        0.2386    47042   10.20%          rho_46 D   6446   6444     30\n",
      "   7630  4820        0.2386    15        0.2657        0.2386    59190   10.20%           rho_0 U   7630   7629     20\n",
      "   8868  5530        0.2634    12        0.2657        0.2386    69910   10.20%           rho_0 D   8868   8866     35\n",
      "   9963  6119        0.2403    19        0.2657        0.2386    81080   10.20%           rho_0 U   9963   9962     16\n",
      "  11149  6766        0.2459    10        0.2657        0.2386    91371   10.20%           rho_0 U  11149  11148     15\n",
      "  12192  7301        cutoff              0.2657        0.2386   101961   10.20%          rho_57 U  12192  12191     29\n",
      "  16370  9366        0.2398    24        0.2657        0.2386   143487   10.20%          rho_57 U  16370  16369     21\n",
      "Elapsed time = 3.88 sec. (3106.56 ticks, tree = 3.44 MB, solutions = 1)\n",
      "  20618 11577        0.2595    17        0.2657        0.2386   182654   10.20%        alpha_61 D  20618  20617     21\n",
      "  24412 13607        0.2386    18        0.2657        0.2386   220543   10.20%           rho_5 D  24412  18485     16\n",
      "  28259 15795        0.2639    16        0.2657        0.2386   257340   10.20%        alpha_35 D  28259  28258     32\n",
      "  32580 18427        cutoff              0.2657        0.2388   289783   10.12%           rho_7 U  32580  32579     41\n",
      "  37090 20758        0.2607    15        0.2657        0.2393   318633    9.96%        alpha_20 D  37090  37089     33\n",
      "  41483 22849        0.2613    13        0.2657        0.2399   347372    9.71%        alpha_35 D  41483  41482     25\n",
      "  46220 25170        cutoff              0.2657        0.2405   379207    9.48%        alpha_20 D  46220  46219     36\n",
      "  51021 27505        0.2621    16        0.2657        0.2412   412054    9.23%        alpha_60 D  51021  51020     49\n",
      "  55816 30023        0.2646    16        0.2657        0.2417   442199    9.05%         alpha_9 D  55816  55815     41\n",
      "  60346 32345        0.2611    21        0.2657        0.2422   471205    8.87%        alpha_39 D  60346  60345     33\n",
      "Elapsed time = 12.73 sec. (12644.27 ticks, tree = 11.09 MB, solutions = 1)\n",
      "  64816 34498        0.2582    27        0.2657        0.2426   500303    8.70%          rho_13 D  64816  64814     47\n",
      "  69340 36705        0.2646    15        0.2657        0.2430   531332    8.54%          rho_27 U  69340  69338     37\n",
      "  73899 38800        0.2483    15        0.2657        0.2434   561926    8.40%        alpha_22 D  73899  73898     54\n",
      "  78484 41002        cutoff              0.2657        0.2438   592102    8.26%          rho_27 U  78484  78483     34\n",
      "  83201 43326        0.2609    22        0.2657        0.2441   621526    8.13%        alpha_64 D  83201  83200     39\n",
      "  87893 45477        0.2479    21        0.2657        0.2444   651799    8.03%        alpha_63 D  87893  87892     31\n",
      "  92685 47787        0.2627    21        0.2657        0.2447   681753    7.92%           rho_6 D  92685  92684     31\n",
      "  97401 50006        0.2598    23        0.2657        0.2449   711786    7.83%          rho_65 U  97401  97398     33\n",
      " 102200 52264        0.2571    16        0.2657        0.2451   740959    7.76%        alpha_17 D 102200 102199     53\n",
      " 106737 54221        cutoff              0.2657        0.2453   770213    7.67%        alpha_18 U 106737 106734     50\n",
      "Elapsed time = 20.72 sec. (22182.07 ticks, tree = 19.19 MB, solutions = 1)\n",
      " 111294 56185        cutoff              0.2657        0.2455   799252    7.60%        alpha_42 D 111294 111293     52\n",
      " 115780 58011        0.2606    13        0.2657        0.2457   828050    7.52%          rho_29 D 115780 115778     33\n",
      " 120362 60036        0.2531    17        0.2657        0.2459   856650    7.44%        alpha_62 U 120362  71231     28\n",
      " 124939 62124        0.2563    20        0.2657        0.2461   884314    7.38%        alpha_26 D 124939 124938     62\n",
      " 129365 64016        cutoff              0.2657        0.2462   912277    7.33%        alpha_22 U 129365 129363     46\n",
      " 133740 65942        0.2612    14        0.2657        0.2464   939919    7.28%        alpha_18 D 133740 133739     48\n",
      " 138254 67854        0.2599    22        0.2657        0.2465   967129    7.23%          rho_28 U 138254 138252     18\n",
      " 142665 69798        0.2468    23        0.2657        0.2466   994864    7.19%        alpha_62 D 142665 142664     30\n",
      " 147245 71832        0.2593    22        0.2657        0.2467  1021973    7.14%          rho_30 D 147245 147243     42\n",
      " 151827 73817        0.2615    16        0.2657        0.2469  1049491    7.10%        alpha_24 D 151827 151826     51\n",
      "Elapsed time = 28.23 sec. (31719.99 ticks, tree = 28.11 MB, solutions = 1)\n",
      " 156357 75698        0.2587    22        0.2657        0.2470  1076980    7.05%          rho_46 U 156357 156356     18\n",
      " 160798 77576        0.2565    16        0.2657        0.2471  1103873    7.02%        alpha_17 D 160798 160797     41\n",
      " 165304 79474        0.2579    17        0.2657        0.2472  1130816    6.98%        alpha_21 D 165304 165303     31\n",
      " 169925 81423        cutoff              0.2657        0.2473  1157832    6.94%        alpha_31 U 169925 169923     45\n",
      " 174427 83203        cutoff              0.2657        0.2474  1184548    6.89%          rho_37 U 174427 174426     30\n",
      " 178992 85070        cutoff              0.2657        0.2475  1211630    6.86%        alpha_39 U 178992 178990     27\n",
      " 183568 86965        0.2581    23        0.2657        0.2476  1238228    6.82%          rho_57 D 183568 183566     31\n",
      " 188002 88692        0.2628    17        0.2657        0.2477  1264957    6.78%           rho_5 D 188002 188000     56\n",
      " 192374 90456        0.2563    17        0.2657        0.2478  1291442    6.74%          rho_47 U 192374  53457     35\n",
      " 196640 92185        0.2620    16        0.2657        0.2479  1317450    6.70%        alpha_36 D 196640 196639     44\n",
      "Elapsed time = 36.41 sec. (41257.84 ticks, tree = 33.89 MB, solutions = 1)\n",
      " 201057 93993        0.2597    17        0.2657        0.2480  1342995    6.66%        alpha_61 U 201057 201055     23\n",
      " 205433 95830        0.2651    21        0.2657        0.2481  1369416    6.63%           rho_5 U 205433  98804     13\n",
      " 209698 97522        0.2575    14        0.2657        0.2482  1395496    6.59%        alpha_60 N 209698 209697     50\n",
      " 214038 99262        0.2573     7        0.2657        0.2483  1421333    6.56%        alpha_34 D 214038 214037     72\n",
      " 218439 101015        0.2601    22        0.2657        0.2484  1447146    6.53%        alpha_27 D 218439 218438     24\n",
      " 222792 102802        0.2545    24        0.2657        0.2485  1473800    6.50%         alpha_7 D 222792 222791     37\n",
      " 227048 104424        0.2588    17        0.2657        0.2485  1500186    6.46%          rho_46 D 227048 227046     51\n",
      " 231258 106196        0.2546    25        0.2657        0.2487  1526850    6.42%          rho_46 D 231258 231255     28\n",
      " 235442 107710        0.2615    28        0.2657        0.2487  1553257    6.39%          rho_46 N 235442 191356     29\n",
      " 239563 109324        cutoff              0.2657        0.2488  1579673    6.35%        alpha_24 U 239563 239561     50\n",
      "Elapsed time = 43.95 sec. (50796.52 ticks, tree = 39.32 MB, solutions = 1)\n",
      " 243864 110913        0.2504    20        0.2657        0.2489  1605429    6.32%        alpha_20 D 243864 243863     45\n",
      " 248102 112467        0.2599    20        0.2657        0.2490  1631461    6.28%          rho_30 D 248102 248099     46\n",
      " 252373 114073        0.2511    21        0.2657        0.2491  1657253    6.25%        alpha_21 D 252373  15307     23\n",
      " 256644 115676        cutoff              0.2657        0.2492  1683522    6.22%        alpha_32 D 256644 256643     37\n",
      " 260916 117329        cutoff              0.2657        0.2493  1709281    6.19%        alpha_22 U 260916 260914     54\n",
      " 265220 118968        0.2528    19        0.2657        0.2493  1735447    6.16%          rho_46 D 265220 175611     44\n",
      "*267394 115352      integral     0        0.2651        0.2494  1748293    5.92%\n",
      " 269443 116091        0.2591    20        0.2651        0.2494  1761052    5.91%          rho_62 U 269443 269442     39\n",
      " 273654 117569        0.2600    19        0.2651        0.2495  1786848    5.88%          rho_27 D 273654 273652     26\n",
      " 277909 119134        0.2506    24        0.2651        0.2496  1812078    5.84%        alpha_42 D 277909 277908     55\n",
      " 282092 120593        0.2497    19        0.2651        0.2497  1837990    5.81%          rho_46 D 282092 177162     41\n",
      "Elapsed time = 51.61 sec. (60335.52 ticks, tree = 42.91 MB, solutions = 2)\n",
      " 286125 122030        0.2505    21        0.2651        0.2498  1863636    5.78%           rho_8 D 286125 286124     22\n",
      "*288000+59948                            0.2596        0.2498             3.76%\n",
      " 289898 60363        0.2540     9        0.2596        0.2499  1888614    3.73%        alpha_60 D 289898 289897     38\n",
      " 293592 61125        cutoff              0.2596        0.2500  1913112    3.68%          rho_46 U 293592  13788     16\n",
      " 297168 61731        cutoff              0.2596        0.2502  1936571    3.63%          rho_10 U 297168 281282     31\n",
      " 300646 62298        0.2523    23        0.2596        0.2503  1960449    3.57%        alpha_58 D 300646 300645     52\n",
      " 304262 62904        0.2583    22        0.2596        0.2504  1983674    3.52%          rho_47 U 304262 225963     23\n",
      " 308012 63459        cutoff              0.2596        0.2506  2007293    3.47%        alpha_14 N 308012 154742     35\n",
      " 311710 63919        0.2512    30        0.2596        0.2507  2030537    3.41%          rho_35 D 311710 311709     20\n",
      " 315263 64321        0.2546    16        0.2596        0.2509  2053882    3.35%        alpha_31 D 315263 315262     63\n",
      " 318868 64653        0.2586    23        0.2596        0.2510  2077044    3.29%        alpha_63 D 318868 318867     30\n",
      "Elapsed time = 58.88 sec. (69873.42 ticks, tree = 25.23 MB, solutions = 3)\n",
      " 322530 65140        0.2526    28        0.2596        0.2512  2100222    3.23%           rho_3 D 322530 322528     32\n",
      " 326222 65496        0.2561    17        0.2596        0.2513  2122852    3.17%           rho_0 N 326222 326221     25\n",
      " 329881 65740        0.2535    21        0.2596        0.2515  2145031    3.11%           rho_4 D 329881 329879     38\n",
      " 333600 66089        0.2560    20        0.2596        0.2516  2167147    3.06%          rho_65 D 333600 333599     32\n",
      " 337117 66102        0.2568    21        0.2596        0.2518  2189090    2.98%        alpha_37 D 337117 337116     39\n",
      " 340693 66093        0.2580    18        0.2596        0.2520  2211008    2.91%           rho_1 D 340693 340691     26\n",
      " 344377 66226        0.2575    18        0.2596        0.2522  2232236    2.86%          rho_37 D 344377 344375     43\n",
      " 348081 66139        0.2587    20        0.2596        0.2523  2253774    2.79%        alpha_63 D 348081 348080     26\n",
      " 351766 66186        0.2592    18        0.2596        0.2525  2275084    2.72%        alpha_58 D 351766 351765     26\n",
      " 355398 66150        cutoff              0.2596        0.2527  2296433    2.66%        alpha_41 D 355398 355397     56\n",
      "Elapsed time = 65.94 sec. (79411.65 ticks, tree = 25.83 MB, solutions = 3)\n",
      " 358911 65860        0.2565    22        0.2596        0.2528  2316672    2.59%        alpha_63 D 358911 358910     35\n",
      " 362483 65559        0.2550    26        0.2596        0.2530  2337073    2.53%          rho_27 D 362483 362482     21\n",
      " 366056 65392        cutoff              0.2596        0.2531  2357917    2.48%           rho_0 D 366056   9101     24\n",
      " 369623 65063        cutoff              0.2596        0.2533  2378343    2.41%           rho_0 U 369623 369622     41\n",
      " 373024 64566        cutoff              0.2596        0.2535  2398420    2.35%         alpha_1 D 373024 373023     34\n",
      " 376513 64081        0.2570    26        0.2596        0.2536  2418324    2.28%          rho_27 D 376513 376512     25\n",
      " 379897 63548        0.2554    13        0.2596        0.2538  2438358    2.22%        alpha_20 D 379897 379896     43\n",
      " 383428 62909        cutoff              0.2596        0.2540  2457610    2.16%          rho_31 U 383428 318363     45\n",
      " 386883 62452        0.2565    14        0.2596        0.2541  2477505    2.11%          rho_65 D 386883 386882     37\n",
      " 400658 59329        cutoff              0.2596        0.2547  2555430    1.87%           rho_1 D 400658 400657     25\n",
      "Elapsed time = 75.88 sec. (91810.27 ticks, tree = 23.86 MB, solutions = 3)\n",
      " 414477 55153        cutoff              0.2596        0.2553  2630607    1.63%           rho_4 U 414477 291070     22\n",
      " 428494 50090        0.2573    17        0.2596        0.2559  2701596    1.40%        alpha_34 D 428494 220359     68\n",
      " 442802 43206        cutoff              0.2596        0.2566  2763421    1.15%        alpha_45 N 442802 267746     21\n",
      " 457093 34408        0.2586    13        0.2596        0.2573  2821297    0.88%          rho_35 N 457093 359116     33\n",
      " 471542 23787        cutoff              0.2596        0.2580  2872216    0.59%        alpha_36 U 471542 394747     49\n",
      " 486237 11175        cutoff              0.2596        0.2588  2914966    0.28%        alpha_58 N 486237 486236     51\n",
      "\n",
      "Mixed integer rounding cuts applied:  1\n",
      "User cuts applied:  111\n",
      "\n",
      "Root node processing (before b&c):\n",
      "  Real time             =    0.27 sec. (5.40 ticks)\n",
      "Sequential b&c:\n",
      "  Real time             =   94.59 sec. (117674.66 ticks)\n",
      "                          ------------\n",
      "Total (root+branch&cut) =   94.86 sec. (117680.06 ticks)\n",
      "+----------------------------------------------+------------------+-----------+\n",
      "| Pr(Y = +1) = 1.0/(1.0 + exp(-(-3 + score))   |                  |           |\n",
      "| ============================================ | ================ | ========= |\n",
      "| p_violence>=1                                |         2 points |   + ..... |\n",
      "| ============================================ | ================ | ========= |\n",
      "| ADD POINTS FROM ROWS 1 to 1                  |            SCORE |   = ..... |\n",
      "+----------------------------------------------+------------------+-----------+\n"
     ]
    }
   ],
   "source": [
    "riskslim_summary = slim.risk_cv(sub_KY_X, KY_Y, sub_FL_X, FL_Y, \n",
    "                                y_label = 'general2', \n",
    "                                max_coef = 20, \n",
    "                                max_coef_number = 10, \n",
    "                                max_runtime=200, \n",
    "                                c=1e-2, \n",
    "                                seed=816)"
   ]
  },
  {
   "cell_type": "code",
   "execution_count": 23,
   "metadata": {},
   "outputs": [
    {
     "data": {
      "text/plain": [
       "{'FL_Score': 0.5850688740048022}"
      ]
     },
     "execution_count": 23,
     "metadata": {},
     "output_type": "execute_result"
    }
   ],
   "source": [
    "riskslim_summary"
   ]
  },
  {
   "cell_type": "code",
   "execution_count": 24,
   "metadata": {},
   "outputs": [
    {
     "name": "stdout",
     "output_type": "stream",
     "text": [
      "Stored 'summary_violent2_ky_inter_model' (dict)\n"
     ]
    }
   ],
   "source": [
    "#### save results\n",
    "summary_violent2_ky_inter_model = {\"CART\": cart_summary,\n",
    "                                    \"EBM\": ebm_summary,\n",
    "                                    \"Stumps\": stumps_summary,\n",
    "                                    \"RiskSLIM\": riskslim_summary}\n",
    "%store summary_violent2_ky_inter_model"
   ]
  },
  {
   "cell_type": "code",
   "execution_count": 26,
   "metadata": {},
   "outputs": [],
   "source": [
    "path = \"C:\\\\Users\\\\binha\\\\Documents\\\\Duke\\\\Cynthia Research\\\\KY-analysis-mytrials\\\\KY Recidivism\\\\KY Results\\\\KY_FL\\\\KY Model\\\\interpretable\\\\Two Year\\\\\"\n",
    "results = [[\"Violent\",             \n",
    "            round(cart_summary['FL_score'],3), \n",
    "            round(ebm_summary['FL_score'], 3), \n",
    "            round(stumps_summary['FL_score'],3), \n",
    "            round(riskslim_summary['FL_Score'], 3)]]\n",
    "with open(path + 'Two Year KY_inter_model.csv', 'a') as writeFile:\n",
    "    writer = csv.writer(writeFile)\n",
    "    writer.writerows(results)"
   ]
  }
 ],
 "metadata": {
  "kernelspec": {
   "display_name": "Python 3",
   "language": "python",
   "name": "python3"
  },
  "language_info": {
   "codemirror_mode": {
    "name": "ipython",
    "version": 3
   },
   "file_extension": ".py",
   "mimetype": "text/x-python",
   "name": "python",
   "nbconvert_exporter": "python",
   "pygments_lexer": "ipython3",
   "version": "3.7.4"
  }
 },
 "nbformat": 4,
 "nbformat_minor": 4
}
