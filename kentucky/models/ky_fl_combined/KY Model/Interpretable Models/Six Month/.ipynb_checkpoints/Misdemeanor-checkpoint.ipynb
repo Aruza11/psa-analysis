{
 "cells": [
  {
   "cell_type": "code",
   "execution_count": 1,
   "metadata": {},
   "outputs": [
    {
     "name": "stderr",
     "output_type": "stream",
     "text": [
      "C:\\Users\\binha\\Anaconda3\\lib\\site-packages\\sklearn\\externals\\six.py:31: DeprecationWarning:\n",
      "\n",
      "The module is deprecated in version 0.21 and will be removed in version 0.23 since we've dropped support for Python 2.7. Please rely on the official version of six (https://pypi.org/project/six/).\n",
      "\n"
     ]
    },
    {
     "name": "stdout",
     "output_type": "stream",
     "text": [
      "no stored variable summary_M6_ky_inter_model\n"
     ]
    }
   ],
   "source": [
    "import pandas as pd \n",
    "import numpy as np\n",
    "import csv\n",
    "import advance_functions as advance\n",
    "import RiskSLIM as slim\n",
    "import stumps\n",
    "from sklearn.linear_model import LogisticRegression\n",
    "from riskslim.helper_functions import load_data_from_csv, print_model\n",
    "\n",
    "# restore saved variables\n",
    "%store -r summary_M6_ky_inter_model"
   ]
  },
  {
   "cell_type": "markdown",
   "metadata": {},
   "source": [
    "### EBM & CART"
   ]
  },
  {
   "cell_type": "code",
   "execution_count": 2,
   "metadata": {},
   "outputs": [],
   "source": [
    "KY_data = pd.read_csv(\"~/Documents/Duke/Cynthia Research/psa-analysis - test/kentucky/models/ky_fl_combined/data preparation/KY_cleaned\")\n",
    "FL_data = pd.read_csv(\"~/Documents/Duke/Cynthia Research/psa-analysis - test/kentucky/models/ky_fl_combined/data preparation/FL_cleaned\")\n",
    "\n",
    "## split x and y \n",
    "KY_X = KY_data.loc[:,:'current_violence']\n",
    "KY_Y = KY_data['recid_M_six_month'].values\n",
    "FL_X = FL_data.loc[:,:'current_violence']\n",
    "FL_Y = FL_data['recid_M_six_month'].values"
   ]
  },
  {
   "cell_type": "code",
   "execution_count": 3,
   "metadata": {},
   "outputs": [],
   "source": [
    "#### CART\n",
    "depth = [7,8,9]\n",
    "cart_summary = advance.CART(KY_X, KY_Y, FL_X, FL_Y, depth, seed=816)\n",
    "\n",
    "### EBM\n",
    "estimators = [20]\n",
    "depth = [2]\n",
    "learning_rate = [0.5]\n",
    "ebm_summary = advance.EBM(KY_X, KY_Y, FL_X, FL_Y, learning_rate, depth, estimators, seed=816)"
   ]
  },
  {
   "cell_type": "code",
   "execution_count": 4,
   "metadata": {},
   "outputs": [
    {
     "data": {
      "text/plain": [
       "({'best_auc': 0.7078723865405337,\n",
       "  'auc_diff': 0.033304382873497684,\n",
       "  'best_param': {'max_depth': 8},\n",
       "  'FL_score': 0.5236873216226221},\n",
       " {'best_auc': 0.7150592532524696,\n",
       "  'auc_diff': 0.009751172405864539,\n",
       "  'best_param': {'learning_rate': 0.5,\n",
       "   'max_tree_splits': 2,\n",
       "   'n_estimators': 20},\n",
       "  'FL_score': 0.5370189035239608})"
      ]
     },
     "execution_count": 4,
     "metadata": {},
     "output_type": "execute_result"
    }
   ],
   "source": [
    "cart_summary, ebm_summary"
   ]
  },
  {
   "cell_type": "markdown",
   "metadata": {},
   "source": [
    "### Lasso Stumps"
   ]
  },
  {
   "cell_type": "code",
   "execution_count": 6,
   "metadata": {},
   "outputs": [],
   "source": [
    "KY_stumps = pd.read_csv(\"~/Documents/Duke/Cynthia Research/psa-analysis - test/kentucky/models/ky_fl_combined/data preparation/KY_stumps\")\n",
    "FL_stumps = pd.read_csv(\"~/Documents/Duke/Cynthia Research/psa-analysis - test/kentucky/models/ky_fl_combined/data preparation/FL_stumps\")\n",
    "\n",
    "## split x and y \n",
    "KY_X = KY_stumps.loc[:,:'current_violence>=1']\n",
    "KY_Y = KY_stumps['recid_M_six_month'].values\n",
    "FL_X = FL_stumps.loc[:,:'current_violence>=1']\n",
    "FL_Y = FL_stumps['recid_M_six_month'].values\n",
    "\n",
    "## columns \n",
    "cols = KY_X.columns"
   ]
  },
  {
   "cell_type": "code",
   "execution_count": 7,
   "metadata": {},
   "outputs": [],
   "source": [
    "c_grid = {'C': [0.03, 0.05, 0.07]}\n",
    "stumps_summary = stumps.stump_cv(KY_X, KY_Y, FL_X, FL_Y, cols, c_grid, seed=816)"
   ]
  },
  {
   "cell_type": "code",
   "execution_count": 8,
   "metadata": {},
   "outputs": [
    {
     "data": {
      "text/plain": [
       "{'best_auc': 0.7190182049209494,\n",
       " 'best_params': {'C': 0.05},\n",
       " 'auc_diffs': 0.004023298016772814,\n",
       " 'FL_score': 0.540155957058072}"
      ]
     },
     "execution_count": 8,
     "metadata": {},
     "output_type": "execute_result"
    }
   ],
   "source": [
    "stumps_summary"
   ]
  },
  {
   "cell_type": "markdown",
   "metadata": {},
   "source": [
    "### RiskSLIM"
   ]
  },
  {
   "cell_type": "code",
   "execution_count": 9,
   "metadata": {},
   "outputs": [
    {
     "data": {
      "text/plain": [
       "68"
      ]
     },
     "execution_count": 9,
     "metadata": {},
     "output_type": "execute_result"
    }
   ],
   "source": [
    "## train on best param chosen by Lasso Stumps from above\n",
    "lasso = LogisticRegression(class_weight='balanced', solver='liblinear', penalty='l1', C=0.05, random_state=816).fit(KY_X, KY_Y)\n",
    "selected_features = cols[lasso.coef_[0] != 0].tolist()\n",
    "len(selected_features)"
   ]
  },
  {
   "cell_type": "code",
   "execution_count": 10,
   "metadata": {},
   "outputs": [],
   "source": [
    "### Subset features\n",
    "sub_FL_X = FL_stumps.loc[:, selected_features]\n",
    "sub_KY_X = KY_stumps.loc[:, selected_features]\n",
    "sub_KY_X.insert(0, '(Intercept)', 1)"
   ]
  },
  {
   "cell_type": "code",
   "execution_count": 11,
   "metadata": {
    "scrolled": true
   },
   "outputs": [
    {
     "name": "stdout",
     "output_type": "stream",
     "text": [
      "setting c0 = 0.0 to ensure that intercept is not penalized\n",
      "09/17/19 @ 08:08 PM | 2821 rows in lookup table\n",
      "09/17/19 @ 08:08 PM | ------------------------------------------------------------\n",
      "09/17/19 @ 08:08 PM | runnning initialization procedure\n",
      "09/17/19 @ 08:08 PM | ------------------------------------------------------------\n",
      "09/17/19 @ 08:08 PM | CPA produced 2 cuts\n",
      "09/17/19 @ 08:08 PM | running naive rounding on 78 solutions\n",
      "09/17/19 @ 08:08 PM | best objective value: 0.2341\n",
      "09/17/19 @ 08:08 PM | rounding produced 5 integer solutions\n",
      "09/17/19 @ 08:08 PM | best objective value is 0.2424\n",
      "09/17/19 @ 08:08 PM | running sequential rounding on 78 solutions\n",
      "09/17/19 @ 08:08 PM | best objective value: 0.2341\n",
      "09/17/19 @ 08:08 PM | sequential rounding produced 6 integer solutions\n",
      "09/17/19 @ 08:08 PM | best objective value: 0.2378\n",
      "09/17/19 @ 08:08 PM | polishing 11 solutions\n",
      "09/17/19 @ 08:08 PM | best objective value: 0.2378\n",
      "09/17/19 @ 08:08 PM | polishing produced 5 integer solutions\n",
      "09/17/19 @ 08:08 PM | initialization produced 12 feasible solutions\n",
      "09/17/19 @ 08:08 PM | best objective value: 0.2378\n",
      "09/17/19 @ 08:08 PM | ------------------------------------------------------------\n",
      "09/17/19 @ 08:08 PM | completed initialization procedure\n",
      "09/17/19 @ 08:08 PM | ------------------------------------------------------------\n",
      "09/17/19 @ 08:08 PM | 2821 rows in lookup table\n",
      "CPXPARAM_Read_DataCheck                          1\n",
      "CPXPARAM_Threads                                 1\n",
      "CPXPARAM_Parallel                                1\n",
      "CPXPARAM_RandomSeed                              0\n",
      "CPXPARAM_TimeLimit                               200\n",
      "CPXPARAM_MIP_Tolerances_LowerCutoff              0.2293900466112469\n",
      "CPXPARAM_MIP_Tolerances_UpperCutoff              0.23775379295425814\n"
     ]
    },
    {
     "name": "stderr",
     "output_type": "stream",
     "text": [
      "Warning: Control callbacks may disable some MIP features.\n"
     ]
    },
    {
     "name": "stdout",
     "output_type": "stream",
     "text": [
      "Lazy constraint(s) or lazy constraint callback is present.\n",
      "    Disabling dual reductions (CPX_PARAM_REDUCE) in presolve.\n",
      "    Disabling non-linear reductions (CPX_PARAM_PRELINEAR) in presolve.\n",
      "         Disabling repeat represolve because of lazy constraint/incumbent callback.\n",
      "09/17/19 @ 08:08 PM | adding 264 initial cuts\n",
      "1 of 1 MIP starts provided solutions.\n",
      "MIP start 'mip_start_0' defined initial solution with objective 0.2378.\n",
      "Tried aggregator 1 time.\n",
      "Reduced MIP has 70 rows, 140 columns, and 275 nonzeros.\n",
      "Reduced MIP has 68 binaries, 70 generals, 0 SOSs, and 0 indicators.\n",
      "Presolve time = 0.02 sec. (0.16 ticks)\n",
      "Probing time = 0.00 sec. (0.07 ticks)\n",
      "MIP emphasis: balance optimality and feasibility.\n",
      "MIP search method: traditional branch-and-cut.\n",
      "Parallel mode: none, using 1 thread.\n",
      "Root relaxation solution time = 0.00 sec. (0.09 ticks)\n",
      "\n",
      "        Nodes                                         Cuts/\n",
      "   Node  Left     Objective  IInf  Best Integer    Best Bound    ItCnt     Gap         Variable B NodeID Parent  Depth\n",
      "\n",
      "*     0+    0                            0.2378        0.2194             7.72%\n",
      "      0     0        0.2294     1        0.2378        0.2294        1    3.52%\n",
      "      0     0        0.2294     4        0.2378    MIRcuts: 1        4    3.52%\n",
      "      0     0        0.2294     1        0.2378    MIRcuts: 1        5    3.52%\n",
      "      0     2        0.2294     2        0.2378        0.2294        5    3.52%                        0             0\n",
      "Elapsed time = 0.48 sec. (4.99 ticks, tree = 0.01 MB, solutions = 1)\n",
      "   1490   834        0.2343    15        0.2378        0.2294     7747    3.52%           rho_3 D   1490   1489     24\n",
      "   2657  1338        0.2375     1        0.2378        0.2294    14331    3.52%          rho_37 U   2657   2656     35\n",
      "   3701  1796        0.2335    13        0.2378        0.2294    20025    3.52%           rho_2 D   3701   3699     27\n",
      "   4679  2070        0.2326    18        0.2378        0.2294    25313    3.52%         L0_norm U   4679   4678     29\n",
      "   5668  2444        0.2300    26        0.2378        0.2294    30260    3.52%           rho_0 D   5668   1050     16\n",
      "   6787  2842        cutoff              0.2378        0.2294    34751    3.52%          rho_27 U   6787   6601     14\n",
      "   7992  3280        0.2294    10        0.2378        0.2294    39254    3.52%          rho_19 U   7992   7293     28\n",
      "   9040  3671        0.2294    16        0.2378        0.2294    43573    3.52%           rho_0 U   9040   9039     31\n",
      "   9980  4087        0.2296    16        0.2378        0.2294    47543    3.52%          rho_20 D   9980   9978     50\n",
      "  13803  5218        0.2352    15        0.2378        0.2294    65159    3.52%          rho_41 D  13803  13802     69\n",
      "Elapsed time = 11.59 sec. (3108.27 ticks, tree = 1.88 MB, solutions = 1)\n",
      "  17627  6452        cutoff              0.2378        0.2294    81627    3.52%          rho_13 U  17627  17626     66\n",
      "  21600  7669        0.2294    12        0.2378        0.2294    98093    3.52%          rho_25 D  21600  21599     48\n",
      "  25214  8664        0.2336    15        0.2378        0.2294   114559    3.52%          rho_43 D  25214  25213     76\n",
      "  28050  9269        cutoff              0.2378        0.2294   130355    3.52%          rho_62 U  28050   8527     56\n",
      "  30774  9928        0.2294    14        0.2378        0.2294   146104    3.52%          rho_26 D  30774  30771     42\n",
      "  33550 10668        0.2302    24        0.2378        0.2294   161838    3.52%          rho_32 D  33550  33548     33\n",
      "  36266 11221        0.2294    16        0.2378        0.2294   176549    3.52%          rho_34 U  36266  36265     42\n",
      "  38826 11635        0.2294    17        0.2378        0.2294   190988    3.52%          rho_57 D  38826  38825     70\n",
      "  41212 12201        0.2294    19        0.2378        0.2294   204808    3.52%          rho_48 U  41212   7322     57\n",
      "  43413 12741        0.2345    13        0.2378        0.2294   219116    3.52%          rho_19 D  43413  43411     53\n",
      "Elapsed time = 31.94 sec. (12647.75 ticks, tree = 4.59 MB, solutions = 1)\n",
      "  45520 13102        0.2354     7        0.2378        0.2294   232639    3.52%          rho_53 U  45520  45519     71\n",
      "  47740 13656        0.2311    19        0.2378        0.2294   244952    3.52%           rho_0 D  47740  47739     57\n",
      "  49750 14163        0.2294    12        0.2378        0.2294   259014    3.52%          rho_25 D  49750  49749     22\n",
      "  52210 14866        0.2377     1        0.2378        0.2294   270785    3.52%          rho_27 D  52210  52209     43\n",
      "  54390 15300        cutoff              0.2378        0.2294   282473    3.52%          rho_23 U  54390  54389     26\n",
      "  56373 15899        cutoff              0.2378        0.2294   295317    3.52%          rho_23 D  56373  56372     30\n",
      "  58571 16541        0.2294    12        0.2378        0.2294   307305    3.52%          rho_24 U  58571  58531     62\n",
      "  60733 17212        0.2337    18        0.2378        0.2294   319690    3.52%          rho_57 D  60733  60732     53\n",
      "  62661 17742        0.2356    12        0.2378        0.2294   333067    3.52%          rho_15 D  62661  62659     46\n",
      "  64544 18251        0.2294    16        0.2378        0.2294   345709    3.52%          rho_25 D  64544  64543     30\n",
      "Elapsed time = 51.28 sec. (22187.67 ticks, tree = 7.12 MB, solutions = 1)\n",
      "  66523 18742        cutoff              0.2378        0.2294   358147    3.52%          rho_40 D  66523  66522     65\n",
      "  68465 19156        cutoff              0.2378        0.2294   369178    3.52%          rho_30 D  68465  68463     38\n",
      "  70192 19569        0.2326    26        0.2378        0.2294   381016    3.52%          rho_45 U  70192  70191     25\n",
      "  72183 20151        0.2301    19        0.2378        0.2294   393098    3.52%           rho_2 D  72183  72182     37\n",
      "  74060 20651        0.2294    20        0.2378        0.2294   405005    3.52%          rho_45 D  74060  74059     19\n",
      "  76001 21306        0.2294    15        0.2378        0.2294   416485    3.52%          rho_21 U  76001  75999     30\n",
      "  77899 21861        cutoff              0.2378        0.2294   428665    3.52%          rho_11 U  77899  77898     52\n",
      "  79603 22300        cutoff              0.2378        0.2294   440180    3.52%          rho_36 U  79603  79602     77\n",
      "  81282 23052        0.2370    11        0.2378        0.2294   452568    3.52%          rho_50 D  81282  81280     31\n",
      "  83305 23692        0.2295    21        0.2378        0.2294   464156    3.52%          rho_54 D  83305  83303     52\n",
      "Elapsed time = 69.94 sec. (31728.57 ticks, tree = 8.98 MB, solutions = 1)\n",
      "  85090 24238        0.2294    20        0.2378        0.2294   475738    3.52%           rho_1 D  85090  85089     24\n",
      "  86813 24727        0.2315    25        0.2378        0.2294   487122    3.52%           rho_0 U  86813  86812     43\n",
      "  88602 25220        cutoff              0.2378        0.2294   498562    3.52%          rho_40 U  88602  88601     27\n",
      "  90338 25920        0.2347    14        0.2378        0.2294   510429    3.52%          rho_10 D  90338  90336     55\n",
      "  92043 26228        0.2377     2        0.2378        0.2294   521947    3.52%          rho_35 U  92043  56075     40\n",
      "  93823 26869        0.2311    21        0.2378        0.2294   533280    3.52%          rho_25 D  93823  93822     29\n",
      "  95408 27371        0.2351    14        0.2378        0.2294   545217    3.52%         L0_norm U  95408  95406     45\n",
      "  97244 27939        0.2347    15        0.2378        0.2294   555596    3.52%          rho_12 D  97244  97242     68\n",
      "  99059 28490        cutoff              0.2378        0.2294   566980    3.52%          rho_61 U  99059  99058     66\n",
      " 100649 29175        0.2299    26        0.2378        0.2294   578740    3.52%          rho_65 D 100649 100648     37\n",
      "Elapsed time = 88.36 sec. (41268.77 ticks, tree = 10.88 MB, solutions = 1)\n",
      " 102472 29659        cutoff              0.2378        0.2294   589524    3.52%          rho_13 U 102472 102471     51\n",
      " 104024 29974        cutoff              0.2378        0.2294   600979    3.52%          rho_57 U 104024 104022     55\n",
      " 105632 30567        0.2324     1        0.2378        0.2294   612707    3.52%           rho_0 D 105632 105630     51\n",
      " 107200 31010        0.2328    20        0.2378        0.2294   624360    3.52%          rho_35 U 107200 107198     40\n",
      " 108800 31541        0.2315    18        0.2378        0.2294   635227    3.52%          rho_63 D 108800 108799     34\n",
      " 110496 32168        0.2304    22        0.2378        0.2294   646561    3.52%          rho_34 D 110496 110493     43\n",
      " 112160 32727        0.2314    18        0.2378        0.2294   657442    3.52%          rho_63 D 112160 112159     56\n",
      " 113731 33367        cutoff              0.2378        0.2294   668864    3.52%          rho_63 U 113731 113729     51\n",
      " 115352 33994        0.2332    17        0.2378        0.2294   679617    3.52%          rho_38 D 115352 115350     66\n",
      " 117045 34579        cutoff              0.2378        0.2294   691126    3.52%          rho_48 D 117045 117043     68\n",
      "Elapsed time = 108.44 sec. (50808.78 ticks, tree = 14.15 MB, solutions = 1)\n",
      " 118677 35024        0.2323    23        0.2378        0.2294   702572    3.52%          rho_13 D 118677 118675     54\n",
      " 120306 35502        0.2377    10        0.2378        0.2294   713369    3.52%          rho_57 D 120306 120305     56\n",
      " 121860 36230        0.2347    14        0.2378        0.2294   724999    3.52%          rho_49 D 121860 121858     48\n",
      " 123398 36801        0.2375     1        0.2378        0.2294   736590    3.52%           rho_0 D 123398 123397     60\n",
      " 125308 37516        0.2306    20        0.2378        0.2294   747469    3.52%          rho_13 D 125308 125307     72\n",
      " 127200 38071        0.2327    22        0.2378        0.2294   757882    3.52%          rho_29 D 127200 127198     69\n",
      " 129192 38566        0.2294    24        0.2378        0.2294   768031    3.52%          rho_30 D 129192 129191     27\n",
      " 130738 39157        0.2308    19        0.2378        0.2294   779027    3.52%          rho_67 D 130738 130736     59\n",
      " 132421 39643        0.2306    25        0.2378        0.2294   789114    3.52%          rho_15 D 132421 132419     74\n",
      " 134482 40146        0.2300    26        0.2378        0.2294   798611    3.52%          rho_35 D 134482 134481     71\n",
      "Elapsed time = 124.31 sec. (60350.92 ticks, tree = 16.08 MB, solutions = 1)\n",
      " 136562 40637        0.2349    20        0.2378        0.2294   808553    3.52%          rho_10 D 136562 136560     88\n",
      " 138682 41225        0.2294    17        0.2378        0.2294   818791    3.52%          rho_23 D 138682 138680     85\n",
      " 140840 41816        0.2331    23        0.2378        0.2294   829805    3.52%          rho_15 D 140840 140838    112\n",
      " 143036 42366        0.2327    20        0.2378        0.2294   840567    3.52%          rho_54 D 143036 143035     69\n",
      " 145200 42924        0.2301    24        0.2378        0.2294   850976    3.52%           rho_3 D 145200 145198     98\n",
      " 147249 43529        0.2348    20        0.2378        0.2294   860926    3.52%           rho_5 D 147249 147247    120\n",
      " 149459 43989        0.2295    27        0.2378        0.2294   871508    3.52%          rho_16 D 149459 149457     84\n",
      " 151416 44475        0.2307    25        0.2378        0.2294   881480    3.52%          rho_20 D 151416 151415     88\n",
      " 153462 44943        0.2328    20        0.2378        0.2294   892567    3.52%          rho_34 D 153462 153460     67\n",
      " 155710 45775        0.2331    22        0.2378        0.2294   903108    3.52%          rho_13 D 155710 155708     86\n",
      "Elapsed time = 142.50 sec. (69897.70 ticks, tree = 18.04 MB, solutions = 1)\n",
      " 157764 46317        0.2329    17        0.2378        0.2294   913970    3.52%          rho_63 D 157764 157763     87\n",
      " 159495 46787        0.2330    18        0.2378        0.2294   924377    3.52%         L0_norm U 159495 159493     41\n",
      " 161440 47333        0.2294    19        0.2378        0.2294   934203    3.52%           rho_0 D 161440 161392     88\n",
      " 162995 48062        0.2370    14        0.2378        0.2294   946967    3.52%          rho_53 U 162995 162993     44\n",
      " 164445 48889        0.2354    16        0.2378        0.2294   960052    3.52%           rho_3 D 164445 164444     67\n",
      " 165654 49584        0.2318    18        0.2378        0.2294   973499    3.52%          rho_66 U 165654 165651     48\n",
      " 166937 50297        0.2294    26        0.2378        0.2294   986808    3.52%          rho_43 U 166937 166936     82\n",
      " 168260 51006        0.2311    19        0.2378        0.2294   999315    3.52%          rho_49 D 168260 168259     55\n",
      " 169520 51673        0.2294    22        0.2378        0.2294  1011767    3.52%          rho_32 D 169520 169517     91\n",
      " 170711 52255        0.2302    22        0.2378        0.2294  1023571    3.52%          rho_36 D 170711 170708     83\n",
      "Elapsed time = 160.88 sec. (79445.00 ticks, tree = 20.26 MB, solutions = 1)\n",
      " 172013 52825        0.2294    28        0.2378        0.2294  1036537    3.52%          rho_16 D 172013 172011     46\n",
      " 173541 53469        0.2294    26        0.2378        0.2294  1048851    3.52%          rho_68 D 173541 173540     46\n",
      " 174929 54096        0.2337    21        0.2378        0.2294  1061514    3.52%          rho_18 D 174929 174928     40\n",
      " 176335 54839        0.2317    19        0.2378        0.2294  1073362    3.52%          rho_59 D 176335 176334     56\n",
      " 177789 55530        0.2373    12        0.2378        0.2294  1085131    3.52%        alpha_60 D 177789 177788     97\n",
      " 179279 56209        cutoff              0.2378        0.2294  1096250    3.52%          rho_66 U 179279 179277     63\n",
      " 180719 56958        0.2315    24        0.2378        0.2294  1108246    3.52%          rho_51 U 180719 166297     81\n",
      " 182246 57585        0.2319    23        0.2378        0.2294  1119481    3.52%           rho_0 U 182246 182245     16\n",
      " 183758 58138        0.2299    26        0.2378        0.2294  1131032    3.52%           rho_1 U 183758 171779     45\n",
      " 189701 60210        cutoff              0.2378        0.2294  1174419    3.52%          rho_37 U 189701 189700     84\n",
      "Elapsed time = 184.75 sec. (91853.65 ticks, tree = 23.02 MB, solutions = 1)\n",
      " 195932 62295        0.2354    15        0.2378        0.2294  1215793    3.52%          rho_57 D 195932 195931    103\n",
      " 201600 64356        0.2335    14        0.2378        0.2294  1257261    3.52%          rho_37 D 201600 201598     58\n",
      "\n",
      "Implied bound cuts applied:  1\n",
      "Mixed integer rounding cuts applied:  2\n",
      "User cuts applied:  461\n",
      "\n",
      "Root node processing (before b&c):\n",
      "  Real time             =    0.48 sec. (5.08 ticks)\n",
      "Sequential b&c:\n",
      "  Real time             =  199.53 sec. (100256.64 ticks)\n",
      "                          ------------\n",
      "Total (root+branch&cut) =  200.01 sec. (100261.72 ticks)\n",
      "+----------------------------------------------+------------------+-----------+\n",
      "| Pr(Y = +1) = 1.0/(1.0 + exp(-(-4 + score))   |                  |           |\n",
      "| ============================================ | ================ | ========= |\n",
      "| p_arrest>=2                                  |         1 points |   + ..... |\n",
      "| p_arrest>=8                                  |         1 points |   + ..... |\n",
      "| p_misdemeanor>=1                             |         1 points |   + ..... |\n",
      "| ============================================ | ================ | ========= |\n",
      "| ADD POINTS FROM ROWS 1 to 3                  |            SCORE |   = ..... |\n",
      "+----------------------------------------------+------------------+-----------+\n"
     ]
    }
   ],
   "source": [
    "riskslim_summary = slim.risk_cv(sub_KY_X, KY_Y, sub_FL_X, FL_Y, \n",
    "                                y_label = 'general2', \n",
    "                                max_coef = 20, \n",
    "                                max_coef_number = 10, \n",
    "                                max_runtime=200, \n",
    "                                c=1e-3, \n",
    "                                seed=816)"
   ]
  },
  {
   "cell_type": "code",
   "execution_count": 12,
   "metadata": {},
   "outputs": [
    {
     "data": {
      "text/plain": [
       "{'FL_Score': 0.5305226830345948}"
      ]
     },
     "execution_count": 12,
     "metadata": {},
     "output_type": "execute_result"
    }
   ],
   "source": [
    "riskslim_summary"
   ]
  },
  {
   "cell_type": "code",
   "execution_count": 13,
   "metadata": {},
   "outputs": [
    {
     "name": "stdout",
     "output_type": "stream",
     "text": [
      "Stored 'summary_M6_ky_inter_model' (dict)\n"
     ]
    }
   ],
   "source": [
    "#### save results\n",
    "summary_M6_ky_inter_model = {\"CART\": cart_summary,\n",
    "                                    \"EBM\": ebm_summary,\n",
    "                                    \"Stumps\": stumps_summary,\n",
    "                                    \"RiskSLIM\": riskslim_summary}\n",
    "%store summary_M6_ky_inter_model"
   ]
  },
  {
   "cell_type": "code",
   "execution_count": 14,
   "metadata": {},
   "outputs": [],
   "source": [
    "path = \"C:\\\\Users\\\\binha\\\\Documents\\\\Duke\\\\Cynthia Research\\\\KY-analysis-mytrials\\\\KY Recidivism\\\\KY Results\\\\KY_FL\\\\KY Model\\\\interpretable\\\\Six Month\\\\\"\n",
    "results = [[\"Misdemeanor\",             \n",
    "            round(cart_summary['FL_score'],3), \n",
    "            round(ebm_summary['FL_score'], 3), \n",
    "            round(stumps_summary['FL_score'],3), \n",
    "            round(riskslim_summary['FL_Score'], 3)]]\n",
    "with open(path + 'Six Month KY_inter_model.csv', 'a') as writeFile:\n",
    "    writer = csv.writer(writeFile)\n",
    "    writer.writerows(results)"
   ]
  }
 ],
 "metadata": {
  "kernelspec": {
   "display_name": "Python 3",
   "language": "python",
   "name": "python3"
  },
  "language_info": {
   "codemirror_mode": {
    "name": "ipython",
    "version": 3
   },
   "file_extension": ".py",
   "mimetype": "text/x-python",
   "name": "python",
   "nbconvert_exporter": "python",
   "pygments_lexer": "ipython3",
   "version": "3.7.4"
  }
 },
 "nbformat": 4,
 "nbformat_minor": 4
}
