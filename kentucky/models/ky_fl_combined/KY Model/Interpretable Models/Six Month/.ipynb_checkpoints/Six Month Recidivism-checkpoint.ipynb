{
 "cells": [
  {
   "cell_type": "code",
   "execution_count": 1,
   "metadata": {},
   "outputs": [
    {
     "name": "stdout",
     "output_type": "stream",
     "text": [
      "no stored variable summary_general6_ky_inter_model\n"
     ]
    },
    {
     "name": "stderr",
     "output_type": "stream",
     "text": [
      "C:\\Users\\binha\\Anaconda3\\lib\\site-packages\\sklearn\\externals\\six.py:31: DeprecationWarning:\n",
      "\n",
      "The module is deprecated in version 0.21 and will be removed in version 0.23 since we've dropped support for Python 2.7. Please rely on the official version of six (https://pypi.org/project/six/).\n",
      "\n"
     ]
    }
   ],
   "source": [
    "import pandas as pd \n",
    "import numpy as np\n",
    "import csv\n",
    "import advance_functions as advance\n",
    "import RiskSLIM as slim\n",
    "import stumps\n",
    "from sklearn.linear_model import LogisticRegression\n",
    "from riskslim.helper_functions import load_data_from_csv, print_model\n",
    "\n",
    "# restore saved variables\n",
    "%store -r summary_general6_ky_inter_model"
   ]
  },
  {
   "cell_type": "markdown",
   "metadata": {},
   "source": [
    "### EBM & CART"
   ]
  },
  {
   "cell_type": "code",
   "execution_count": 2,
   "metadata": {},
   "outputs": [],
   "source": [
    "KY_data = pd.read_csv(\"~/Documents/Duke/Cynthia Research/psa-analysis - test/kentucky/models/ky_fl_combined/data preparation/KY_cleaned\")\n",
    "FL_data = pd.read_csv(\"~/Documents/Duke/Cynthia Research/psa-analysis - test/kentucky/models/ky_fl_combined/data preparation/FL_cleaned\")\n",
    "\n",
    "## split x and y \n",
    "KY_X = KY_data.loc[:,:'current_violence']\n",
    "KY_Y = KY_data['recid_six_month'].values\n",
    "FL_X = FL_data.loc[:,:'current_violence']\n",
    "FL_Y = FL_data['recid_six_month'].values"
   ]
  },
  {
   "cell_type": "code",
   "execution_count": 3,
   "metadata": {},
   "outputs": [],
   "source": [
    "#### CART\n",
    "depth = [7,8,9]\n",
    "cart_summary = advance.CART(KY_X, KY_Y, FL_X, FL_Y, depth, seed=816)\n",
    "\n",
    "### EBM\n",
    "estimators = [20]\n",
    "depth = [2]\n",
    "learning_rate = [0.5]\n",
    "ebm_summary = advance.EBM(KY_X, KY_Y, FL_X, FL_Y, \n",
    "                          learning_rate=learning_rate, \n",
    "                          depth=depth, \n",
    "                          estimators=estimators, \n",
    "                          seed=816)"
   ]
  },
  {
   "cell_type": "code",
   "execution_count": 7,
   "metadata": {},
   "outputs": [
    {
     "data": {
      "text/plain": [
       "({'best_auc': 0.7300299841952768,\n",
       "  'auc_diff': 0.01546319568121901,\n",
       "  'best_param': {'max_depth': 7},\n",
       "  'FL_score': 0.5472519524487361},\n",
       " {'best_auc': 0.7328300310825057,\n",
       "  'auc_diff': 0.005584539233334129,\n",
       "  'best_param': {'learning_rate': 0.5,\n",
       "   'max_tree_splits': 2,\n",
       "   'n_estimators': 20},\n",
       "  'FL_score': 0.542219058977417})"
      ]
     },
     "execution_count": 7,
     "metadata": {},
     "output_type": "execute_result"
    }
   ],
   "source": [
    "cart_summary, ebm_summary"
   ]
  },
  {
   "cell_type": "markdown",
   "metadata": {},
   "source": [
    "### Lasso Stumps"
   ]
  },
  {
   "cell_type": "code",
   "execution_count": 8,
   "metadata": {},
   "outputs": [],
   "source": [
    "KY_stumps = pd.read_csv(\"~/Documents/Duke/Cynthia Research/psa-analysis - test/kentucky/models/ky_fl_combined/data preparation/KY_stumps\")\n",
    "FL_stumps = pd.read_csv(\"~/Documents/Duke/Cynthia Research/psa-analysis - test/kentucky/models/ky_fl_combined/data preparation/FL_stumps\")\n",
    "\n",
    "## split x and y \n",
    "KY_X = KY_stumps.loc[:,:'current_violence>=1']\n",
    "KY_Y = KY_stumps['recid_six_month'].values\n",
    "FL_X = FL_stumps.loc[:,:'current_violence>=1']\n",
    "FL_Y = FL_stumps['recid_six_month'].values\n",
    "\n",
    "## columns \n",
    "cols = KY_X.columns"
   ]
  },
  {
   "cell_type": "code",
   "execution_count": 9,
   "metadata": {},
   "outputs": [],
   "source": [
    "c_grid = {'C': [0.03, 0.05, 0.07]}\n",
    "stumps_summary = stumps.stump_cv(KY_X, KY_Y, FL_X, FL_Y, cols, c_grid, seed=816)"
   ]
  },
  {
   "cell_type": "code",
   "execution_count": 10,
   "metadata": {},
   "outputs": [
    {
     "data": {
      "text/plain": [
       "{'best_auc': 0.7364233340638474,\n",
       " 'best_params': {'C': 0.07},\n",
       " 'auc_diffs': 0.0024071604204172203,\n",
       " 'FL_score': 0.5433016581387297}"
      ]
     },
     "execution_count": 10,
     "metadata": {},
     "output_type": "execute_result"
    }
   ],
   "source": [
    "stumps_summary"
   ]
  },
  {
   "cell_type": "markdown",
   "metadata": {},
   "source": [
    "### RiskSLIM"
   ]
  },
  {
   "cell_type": "code",
   "execution_count": 14,
   "metadata": {},
   "outputs": [
    {
     "data": {
      "text/plain": [
       "71"
      ]
     },
     "execution_count": 14,
     "metadata": {},
     "output_type": "execute_result"
    }
   ],
   "source": [
    "## train on best param chosen by Lasso Stumps from above\n",
    "lasso = LogisticRegression(class_weight='balanced', solver='liblinear', penalty='l1', C=0.07, random_state=816).fit(KY_X, KY_Y)\n",
    "selected_features = cols[lasso.coef_[0] != 0].tolist()\n",
    "len(selected_features)"
   ]
  },
  {
   "cell_type": "code",
   "execution_count": 15,
   "metadata": {},
   "outputs": [],
   "source": [
    "### Subset features\n",
    "sub_FL_X = FL_stumps.loc[:, selected_features]\n",
    "sub_KY_X = KY_stumps.loc[:, selected_features]\n",
    "sub_KY_X.insert(0, '(Intercept)', 1)"
   ]
  },
  {
   "cell_type": "code",
   "execution_count": 16,
   "metadata": {
    "scrolled": true
   },
   "outputs": [
    {
     "name": "stdout",
     "output_type": "stream",
     "text": [
      "setting c0 = 0.0 to ensure that intercept is not penalized\n",
      "09/17/19 @ 09:31 PM | 2941 rows in lookup table\n",
      "09/17/19 @ 09:31 PM | ------------------------------------------------------------\n",
      "09/17/19 @ 09:31 PM | runnning initialization procedure\n",
      "09/17/19 @ 09:31 PM | ------------------------------------------------------------\n",
      "09/17/19 @ 09:31 PM | CPA produced 2 cuts\n",
      "09/17/19 @ 09:31 PM | running naive rounding on 72 solutions\n",
      "09/17/19 @ 09:31 PM | best objective value: 0.3213\n",
      "09/17/19 @ 09:31 PM | rounding produced 5 integer solutions\n",
      "09/17/19 @ 09:31 PM | best objective value is 0.3412\n",
      "09/17/19 @ 09:31 PM | running sequential rounding on 72 solutions\n",
      "09/17/19 @ 09:31 PM | best objective value: 0.3213\n",
      "09/17/19 @ 09:31 PM | sequential rounding produced 6 integer solutions\n",
      "09/17/19 @ 09:31 PM | best objective value: 0.3283\n",
      "09/17/19 @ 09:31 PM | polishing 11 solutions\n",
      "09/17/19 @ 09:31 PM | best objective value: 0.3283\n",
      "09/17/19 @ 09:31 PM | polishing produced 5 integer solutions\n",
      "09/17/19 @ 09:31 PM | initialization produced 12 feasible solutions\n",
      "09/17/19 @ 09:31 PM | best objective value: 0.3279\n",
      "09/17/19 @ 09:31 PM | ------------------------------------------------------------\n",
      "09/17/19 @ 09:31 PM | completed initialization procedure\n",
      "09/17/19 @ 09:31 PM | ------------------------------------------------------------\n",
      "09/17/19 @ 09:31 PM | 2941 rows in lookup table\n",
      "CPXPARAM_Read_DataCheck                          1\n",
      "CPXPARAM_Threads                                 1\n",
      "CPXPARAM_Parallel                                1\n",
      "CPXPARAM_RandomSeed                              0\n",
      "CPXPARAM_TimeLimit                               300\n",
      "CPXPARAM_MIP_Tolerances_LowerCutoff              0.31484689428477497\n",
      "CPXPARAM_MIP_Tolerances_UpperCutoff              0.32787787850585026\n"
     ]
    },
    {
     "name": "stderr",
     "output_type": "stream",
     "text": [
      "Warning: Control callbacks may disable some MIP features.\n"
     ]
    },
    {
     "name": "stdout",
     "output_type": "stream",
     "text": [
      "Lazy constraint(s) or lazy constraint callback is present.\n",
      "    Disabling dual reductions (CPX_PARAM_REDUCE) in presolve.\n",
      "    Disabling non-linear reductions (CPX_PARAM_PRELINEAR) in presolve.\n",
      "         Disabling repeat represolve because of lazy constraint/incumbent callback.\n",
      "09/17/19 @ 09:31 PM | adding 261 initial cuts\n",
      "1 of 1 MIP starts provided solutions.\n",
      "MIP start 'mip_start_0' defined initial solution with objective 0.3279.\n",
      "Tried aggregator 1 time.\n",
      "Reduced MIP has 73 rows, 146 columns, and 287 nonzeros.\n",
      "Reduced MIP has 71 binaries, 73 generals, 0 SOSs, and 0 indicators.\n",
      "Presolve time = 0.00 sec. (0.17 ticks)\n",
      "Probing time = 0.00 sec. (0.08 ticks)\n",
      "MIP emphasis: balance optimality and feasibility.\n",
      "MIP search method: traditional branch-and-cut.\n",
      "Parallel mode: none, using 1 thread.\n",
      "Root relaxation solution time = 0.00 sec. (0.09 ticks)\n",
      "\n",
      "        Nodes                                         Cuts/\n",
      "   Node  Left     Objective  IInf  Best Integer    Best Bound    ItCnt     Gap         Variable B NodeID Parent  Depth\n",
      "\n",
      "*     0+    0                            0.3279        0.3048             7.02%\n",
      "      0     0        0.3148     1        0.3279        0.3148        1    3.97%\n",
      "      0     0        0.3148     4        0.3279      Fract: 1        2    3.97%\n",
      "      0     0        0.3148     1        0.3279      Fract: 1        4    3.97%\n",
      "      0     2        0.3148     4        0.3279        0.3148        4    3.97%                        0             0\n",
      "Elapsed time = 0.19 sec. (5.46 ticks, tree = 0.01 MB, solutions = 1)\n",
      "   1390   842        0.3148    13        0.3279        0.3148     7975    3.97%         L0_norm U   1390   1389     19\n",
      "   2420  1457        cutoff              0.3279        0.3148    14848    3.97%          rho_20 U   2420   2419     45\n",
      "   3287  1860        cutoff              0.3279        0.3148    21948    3.97%          rho_45 D   3287   3285     30\n",
      "   4090  2262        0.3265     0        0.3279        0.3148    28202    3.97%           rho_1 D   4090   4088     29\n",
      "   4858  2596        0.3200    16        0.3279        0.3148    33067    3.97%           rho_1 D   4858   4857     27\n",
      "   5420  2850        0.3148    27        0.3279        0.3148    38174    3.97%        alpha_49 D   5420    544     14\n",
      "   5900  3137        0.3230     9        0.3279        0.3148    43590    3.97%          rho_26 D   5900   5898     36\n",
      "   6501  3377        0.3224    10        0.3279        0.3148    48162    3.97%          rho_67 D   6501   6499     56\n",
      "   6983  3591        0.3181     1        0.3279        0.3148    53208    3.97%          rho_28 U   6983   6981     20\n",
      "   8938  4485        0.3167    26        0.3279        0.3148    69557    3.97%          rho_44 U   8938    569     30\n",
      "Elapsed time = 5.52 sec. (3108.10 ticks, tree = 1.75 MB, solutions = 1)\n",
      "  10800  5431        0.3222    17        0.3279        0.3148    85425    3.97%           rho_1 U  10800  10799     22\n",
      "* 12024  5886      integral     0        0.3277        0.3148    93377    3.91%\n",
      "  12690  6143        cutoff              0.3277        0.3148    99176    3.91%          rho_22 U  12690  12689     49\n",
      "* 13121  6153      integral     0        0.3272        0.3148   102585    3.79%\n",
      "  14323  6696        0.3214    11        0.3272        0.3148   111810    3.79%          rho_62 D  14323  14322     41\n",
      "* 14963  6943      integral     0        0.3272        0.3148   116677    3.78%\n",
      "  15799  7268        0.3161    20        0.3272        0.3148   124441    3.78%          rho_30 U  15799  15796     26\n",
      "  17130  7880        0.3236    11        0.3272        0.3148   137652    3.78%          rho_35 U  17130  17129     21\n",
      "  18603  8528        cutoff              0.3272        0.3148   150122    3.78%          rho_63 U  18603  18602     65\n",
      "  19997  9026        0.3228    17        0.3272        0.3148   162119    3.78%          rho_38 D  19997  19996     35\n",
      "  21652  9830        0.3226    11        0.3272        0.3148   174361    3.78%           rho_0 U  21652  21651     41\n",
      "  23316 10455        cutoff              0.3272        0.3148   185468    3.78%          rho_29 U  23316  23315     51\n",
      "  24660 11022        0.3165    22        0.3272        0.3148   197454    3.78%          rho_65 D  24660  24659     33\n",
      "Elapsed time = 16.09 sec. (12653.24 ticks, tree = 4.34 MB, solutions = 4)\n",
      "  25930 11551        0.3195    16        0.3272        0.3148   208960    3.78%          rho_36 D  25930  25929     31\n",
      "  27186 12144        0.3248    15        0.3272        0.3148   220923    3.78%          rho_63 D  27186  27185     41\n",
      "  28469 12730        0.3148    24        0.3272        0.3148   232406    3.78%          rho_62 D  28469  28468     25\n",
      "  29760 13278        0.3213    22        0.3272        0.3148   243079    3.78%           rho_3 D  29760  29759     28\n",
      "  31091 13845        0.3215    21        0.3272        0.3148   253641    3.78%          rho_30 U  31091  31089     27\n",
      "  32376 14481        cutoff              0.3272        0.3148   264270    3.78%          rho_35 U  32376  32375     35\n",
      "  33647 15031        0.3206     2        0.3272        0.3148   274672    3.78%          rho_18 U  33647  33612     38\n",
      "  34923 15488        0.3148    19        0.3272        0.3148   284611    3.78%          rho_39 D  34923  34922     21\n",
      "* 35683 15023      integral     0        0.3262        0.3148   289899    3.49%\n",
      "  36298 15226        0.3203    11        0.3262        0.3148   293945    3.49%          rho_10 D  36298  36296     78\n",
      "  37476 15550        0.3193    15        0.3262        0.3148   303162    3.49%          rho_15 D  37476  37475     55\n",
      "Elapsed time = 24.09 sec. (22195.61 ticks, tree = 5.95 MB, solutions = 5)\n",
      "  38780 15831        0.3149    27        0.3262        0.3148   310996    3.49%           rho_0 U  38780  38779     32\n",
      "  40181 16233        0.3148    17        0.3262        0.3148   319207    3.49%          rho_39 D  40181  40179     30\n",
      "  41339 16723        0.3148    20        0.3262        0.3148   328543    3.49%          rho_26 D  41339  41338     37\n",
      "  42479 17126        cutoff              0.3262        0.3148   337371    3.49%          rho_12 U  42479  42478     65\n",
      "  43508 17565        cutoff              0.3262        0.3148   346790    3.49%          rho_27 U  43508  43506     46\n",
      "  44708 18050        0.3148    22        0.3262        0.3148   356429    3.49%           rho_0 U  44708  44707     35\n",
      "  46035 18399        0.3148    25        0.3262        0.3148   364766    3.49%          rho_63 U  46035  22850     30\n",
      "  47229 18892        0.3257    17        0.3262        0.3148   372831    3.49%          rho_52 D  47229  47227     35\n",
      "  48333 19313        cutoff              0.3262        0.3148   381799    3.49%          rho_22 U  48333  48332     41\n",
      "  49564 19696        0.3230    16        0.3262        0.3148   390370    3.49%          rho_41 D  49564  49563     67\n",
      "Elapsed time = 31.56 sec. (31738.49 ticks, tree = 8.16 MB, solutions = 5)\n",
      "  50600 20018        0.3155    21        0.3262        0.3148   399429    3.49%          rho_58 D  50600  50599     43\n",
      "  51580 20411        0.3213    16        0.3262        0.3148   408886    3.49%          rho_49 D  51580  51579     28\n",
      "  52618 20891        0.3224    13        0.3262        0.3148   417580    3.49%          rho_20 D  52618  52616     66\n",
      "  53729 21227        0.3148    23        0.3262        0.3148   426321    3.49%          rho_43 U  53729  53672     14\n",
      "  54851 21601        0.3226    11        0.3262        0.3148   435061    3.49%          rho_24 D  54851  54849     43\n",
      "  55924 21971        0.3148    20        0.3262        0.3148   443782    3.49%           rho_0 U  55924  55923     29\n",
      "* 56561 21935      integral     0        0.3260        0.3148   449431    3.41%\n",
      "  56843 22030        0.3152    25        0.3260        0.3148   452946    3.41%          rho_62 D  56843  56842     34\n",
      "  58016 22360        0.3177    26        0.3260        0.3148   461213    3.41%          rho_48 U  58016  58015     23\n",
      "  59159 22712        0.3172    27        0.3260        0.3148   469203    3.41%          rho_62 D  59159  59158     34\n",
      "  60282 23155        0.3178    17        0.3260        0.3148   477687    3.41%           rho_0 U  60282  60281     24\n",
      "Elapsed time = 39.17 sec. (41284.28 ticks, tree = 9.46 MB, solutions = 6)\n",
      "  61462 23679        cutoff              0.3260        0.3148   486378    3.41%           rho_1 U  61462  61461     47\n",
      "  62643 24224        0.3162    27        0.3260        0.3148   494403    3.41%           rho_1 U  62643  61972     33\n",
      "  63800 24823        0.3158    24        0.3260        0.3148   503173    3.41%          rho_27 D  63800  63799     49\n",
      "  64932 25183        0.3157    21        0.3260        0.3148   510890    3.41%          rho_34 U  64932  64931     32\n",
      "  66041 25691        0.3223    17        0.3260        0.3148   519369    3.41%          rho_69 D  66041  66039     60\n",
      "  67148 25999        0.3194    13        0.3260        0.3148   526063    3.41%          rho_22 D  67148  67146     49\n",
      "  68077 26300        0.3250    10        0.3260        0.3148   534616    3.41%          rho_70 D  68077  68075     93\n",
      "  69274 26709        0.3233    11        0.3260        0.3148   541210    3.41%          rho_12 D  69274  69272     82\n",
      "  70433 27123        0.3151    22        0.3260        0.3148   547923    3.41%          rho_38 D  70433  70432     43\n",
      "  71493 27443        cutoff              0.3260        0.3148   555982    3.41%          rho_48 U  71493  71492     45\n",
      "Elapsed time = 46.30 sec. (50833.81 ticks, tree = 11.07 MB, solutions = 6)\n",
      "  72650 27856        0.3204    16        0.3260        0.3148   563076    3.41%          rho_18 D  72650  72648     67\n",
      "  73889 28301        0.3178    18        0.3260        0.3148   570605    3.41%          rho_70 D  73889  73887     72\n",
      "  75068 28673        0.3148    19        0.3260        0.3148   577644    3.41%         L0_norm U  75068  75066     42\n",
      "  76264 29007        cutoff              0.3260        0.3148   584740    3.41%          rho_25 U  76264  76262     48\n",
      "  77301 29477        0.3231    15        0.3260        0.3148   594327    3.41%          rho_16 D  77301  77299     64\n",
      "  78261 29901        0.3188    18        0.3260        0.3148   604775    3.41%          rho_24 D  78261  78259     33\n",
      "  79350 30317        cutoff              0.3260        0.3148   612459    3.41%          rho_30 U  79350  79349     24\n",
      "  80554 30664        0.3185    16        0.3260        0.3148   619932    3.41%          rho_15 D  80554  80552     31\n",
      "  81469 30966        0.3172    20        0.3260        0.3148   627907    3.41%          rho_17 D  81469  81467     54\n",
      "  82503 31272        0.3148    26        0.3260        0.3148   635349    3.41%          rho_48 U  82503  20437     17\n",
      "Elapsed time = 52.45 sec. (60378.86 ticks, tree = 12.51 MB, solutions = 6)\n",
      "  83498 31616        0.3173    19        0.3260        0.3148   643634    3.41%          rho_44 D  83498  17994     28\n",
      "  84670 31986        0.3250    13        0.3260        0.3148   650731    3.41%          rho_21 D  84670  84669     47\n",
      "  85695 32420        0.3164    23        0.3260        0.3148   659031    3.41%          rho_56 D  85695  85694     30\n",
      "  86692 32723        0.3151    23        0.3260        0.3148   667361    3.41%          rho_25 U  86692  86690     45\n",
      "  87750 33109        0.3178    19        0.3260        0.3148   675526    3.41%          rho_39 D  87750  87749     43\n",
      "  88865 33493        0.3154    23        0.3260        0.3148   683411    3.41%          rho_27 D  88865  88863     42\n",
      "  89944 33848        cutoff              0.3260        0.3148   691203    3.41%          rho_47 U  89944  89943     56\n",
      "  91060 34192        0.3150    30        0.3260        0.3148   698962    3.41%           rho_0 U  91060  91059     29\n",
      "  92205 34471        0.3228    10        0.3260        0.3148   705923    3.41%          rho_52 D  92205  92203     78\n",
      "  93213 34769        0.3150    26        0.3260        0.3148   713920    3.41%           rho_0 D  93213   7153     24\n",
      "Elapsed time = 59.36 sec. (69925.73 ticks, tree = 15.23 MB, solutions = 6)\n",
      "  94495 35223        cutoff              0.3260        0.3148   720874    3.41%          rho_15 D  94495  94493     78\n",
      "  95701 35667        0.3149    19        0.3260        0.3148   727984    3.41%          rho_26 U  95701  95610     82\n",
      "  96821 36039        0.3187    22        0.3260        0.3148   735092    3.41%          rho_47 D  96821  96819     47\n",
      "  97933 36425        cutoff              0.3260        0.3148   742158    3.41%          rho_40 U  97933  97932     81\n",
      "  99033 36779        0.3148    41        0.3260        0.3148   749451    3.41%          rho_44 U  99033  99032     10\n",
      " 100139 37206        cutoff              0.3260        0.3148   757313    3.41%          rho_26 D 100139 100138     40\n",
      " 101252 37606        0.3235    10        0.3260        0.3148   764286    3.41%          rho_41 U 101252 101251     59\n",
      " 102441 38160        0.3231    16        0.3260        0.3148   771725    3.41%          rho_40 D 102441 102440     90\n",
      " 103550 38553        0.3208    14        0.3260        0.3148   779603    3.41%          rho_48 U 103550 103549     23\n",
      " 104495 38828        cutoff              0.3260        0.3148   787204    3.41%          rho_16 U 104495 104494     30\n",
      "Elapsed time = 66.80 sec. (79476.28 ticks, tree = 16.78 MB, solutions = 6)\n",
      " 105580 39197        0.3148    16        0.3260        0.3148   794578    3.41%          rho_26 U 105580 102452     74\n",
      " 106728 39571        0.3215    15        0.3260        0.3148   801537    3.41%          rho_41 D 106728 106726     82\n",
      " 107860 39953        0.3191    17        0.3260        0.3148   808827    3.41%         L0_norm U 107860 107859     43\n",
      " 108977 40353        0.3235    14        0.3260        0.3148   816178    3.41%          rho_45 D 108977 108975     52\n",
      " 110045 40667        0.3155    22        0.3260        0.3148   823595    3.41%           rho_0 D 110045 110043     53\n",
      " 111116 41096        cutoff              0.3260        0.3148   830799    3.41%          rho_70 U 111116 111115     52\n",
      " 112260 41474        0.3164    22        0.3260        0.3148   836978    3.41%          rho_47 D 112260 112259     56\n",
      " 113447 41886        0.3178    20        0.3260        0.3148   843967    3.41%          rho_70 D 113447 113445     64\n",
      " 114609 42236        0.3253    11        0.3260        0.3148   851159    3.41%          rho_57 D 114609 114608     39\n",
      " 119000 43503        0.3164    22        0.3260        0.3148   881600    3.41%          rho_47 U 119000  18475     26\n",
      "Elapsed time = 76.23 sec. (91888.01 ticks, tree = 18.57 MB, solutions = 6)\n",
      " 123226 44822        0.3221    18        0.3260        0.3148   911359    3.41%          rho_20 D 123226 123224     90\n",
      " 127678 46457        cutoff              0.3260        0.3148   940805    3.41%          rho_68 U 127678 127676     94\n",
      " 132013 47784        0.3156    13        0.3260        0.3148   971269    3.41%          rho_32 U 132013 131949     42\n",
      " 136338 48925        0.3230    12        0.3260        0.3148  1000638    3.41%          rho_17 D 136338 136336     51\n",
      " 140487 50326        0.3237    20        0.3260        0.3148  1032149    3.41%           rho_0 D 140487 140485     66\n",
      " 144567 52034        0.3156    24        0.3260        0.3148  1062882    3.41%         L0_norm U 144567 144566     36\n",
      " 148790 53343        0.3206    11        0.3260        0.3148  1093455    3.41%           rho_1 U 148790  61543     37\n",
      " 153280 54668        0.3149    22        0.3260        0.3148  1123079    3.41%          rho_48 D 153280 153278     48\n",
      " 157652 55760        cutoff              0.3260        0.3148  1150768    3.41%          rho_19 U 157652 157651     51\n",
      " 161902 56998        0.3184    17        0.3260        0.3148  1179607    3.41%          rho_19 D 161902 161900     57\n",
      "Elapsed time = 103.23 sec. (130042.11 ticks, tree = 23.75 MB, solutions = 6)\n",
      " 166150 58140        0.3183    15        0.3260        0.3148  1208788    3.41%          rho_22 D 166150 166148     52\n",
      " 170153 59244        cutoff              0.3260        0.3148  1239675    3.41%          rho_24 U 170153 170152     45\n",
      " 174289 60404        0.3212    16        0.3260        0.3148  1269592    3.41%          rho_40 D 174289 174287     72\n",
      " 178304 61398        cutoff              0.3260        0.3148  1299600    3.41%          rho_26 U 178304 178303     28\n",
      " 182345 62489        0.3204    11        0.3260        0.3148  1327978    3.41%          rho_67 D 182345 182343     62\n",
      " 186547 63734        cutoff              0.3260        0.3148  1356088    3.41%          rho_36 U 186547 186546     27\n",
      " 191187 64483        0.3163    24        0.3260        0.3148  1382523    3.41%          rho_34 U 191187  80850     21\n",
      " 195242 65798        0.3158    25        0.3260        0.3148  1413581    3.41%          rho_39 D 195242 195241     22\n",
      " 199470 66930        cutoff              0.3260        0.3148  1443017    3.41%          rho_30 U 199470  67365     27\n",
      " 203591 68401        0.3191    18        0.3260        0.3148  1474237    3.41%          rho_70 D 203591 203589     61\n",
      "Elapsed time = 128.42 sec. (168197.55 ticks, tree = 30.96 MB, solutions = 6)\n",
      " 207736 69742        cutoff              0.3260        0.3148  1505519    3.41%          rho_56 U 207736 206714     30\n",
      " 211792 70881        0.3215    19        0.3260        0.3148  1535291    3.41%          rho_11 D 211792 211790     69\n",
      " 215670 71880        cutoff              0.3260        0.3148  1565455    3.41%          rho_25 U 215670 215669     54\n",
      " 219600 72901        0.3152    27        0.3260        0.3148  1595533    3.41%          rho_45 D 219600 219599     35\n",
      " 223390 73856        0.3148    15        0.3260        0.3148  1626133    3.41%          rho_51 D 223390 223389     24\n",
      " 227355 74996        0.3174    30        0.3260        0.3148  1656105    3.41%          rho_64 U 227355 226966     25\n",
      " 231360 76087        0.3148    17        0.3260        0.3148  1685385    3.41%          rho_51 D 231360 231359     23\n",
      " 235254 77194        cutoff              0.3260        0.3148  1714992    3.41%          rho_68 U 235254 235252     44\n",
      " 239236 78385        0.3215    19        0.3260        0.3148  1746302    3.41%           rho_1 D 239236 239235     54\n",
      " 243163 79438        cutoff              0.3260        0.3148  1777237    3.41%          rho_24 U 243163 243162     59\n",
      "Elapsed time = 155.09 sec. (206365.40 ticks, tree = 35.19 MB, solutions = 6)\n",
      " 247231 80777        0.3178    22        0.3260        0.3148  1806958    3.41%          rho_67 D 247231 247229     75\n",
      " 251235 82265        0.3176    20        0.3260        0.3148  1838779    3.41%          rho_65 D 251235 251234     76\n",
      " 255293 83771        0.3148    18        0.3260        0.3148  1870986    3.41%          rho_29 U 255293 255184     79\n",
      " 259340 85249        0.3148    19        0.3260        0.3148  1903182    3.41%          rho_38 D 259340 259339    101\n",
      " 263469 86796        cutoff              0.3260        0.3148  1935223    3.41%          rho_40 D 263469 263468    106\n",
      " 267480 88200        0.3154    24        0.3260        0.3148  1967046    3.41%          rho_45 D 267480 267479     60\n",
      " 271331 89680        0.3148    18        0.3260        0.3148  1999238    3.41%          rho_38 U 271331 271232     76\n",
      " 275270 91106        0.3148    19        0.3260        0.3148  2029231    3.41%          rho_27 D 275270 275268     40\n",
      " 279109 92513        0.3214    17        0.3260        0.3148  2060285    3.41%          rho_17 D 279109 279107     72\n",
      " 282835 93854        cutoff              0.3260        0.3148  2092836    3.41%          rho_67 U 282835 282832     50\n",
      "Elapsed time = 181.23 sec. (244520.72 ticks, tree = 40.71 MB, solutions = 6)\n",
      " 288092 93185        0.3194    19        0.3260        0.3148  2121339    3.41%          rho_45 D 288092 288091     61\n",
      " 291600 93943        0.3215    31        0.3260        0.3148  2151679    3.41%          rho_64 U 291600 291341     33\n",
      " 295512 94942        0.3159    22        0.3260        0.3148  2179874    3.41%          rho_27 D 295512 295510     45\n",
      " 299430 96023        0.3237     5        0.3260        0.3148  2209678    3.41%           rho_2 U 299430 299429     45\n",
      " 303465 97204        0.3214     3        0.3260        0.3148  2238237    3.41%          rho_27 U 303465 303336     35\n",
      " 307574 98340        0.3148    30        0.3260        0.3148  2268194    3.41%           rho_0 U 307574 307573    102\n",
      " 311655 99460        cutoff              0.3260        0.3148  2296610    3.41%          rho_40 U 311655 311654     84\n",
      " 315507 100667        0.3197    15        0.3260        0.3148  2326264    3.41%          rho_58 D 315507 315506     76\n",
      " 319350 101618        0.3170    20        0.3260        0.3148  2355705    3.41%          rho_70 D 319350 319348     46\n",
      " 323287 102720        0.3229    14        0.3260        0.3148  2385164    3.41%          rho_62 D 323287 323286     34\n",
      "Elapsed time = 206.97 sec. (282681.05 ticks, tree = 44.25 MB, solutions = 6)\n",
      " 326988 103880        0.3161    25        0.3260        0.3148  2415424    3.41%          rho_67 D 326988 326986     41\n",
      " 330809 104857        cutoff              0.3260        0.3148  2444692    3.41%          rho_45 U 330809 330807     57\n",
      " 334549 105926        0.3244    14        0.3260        0.3148  2472567    3.41%          rho_68 N 334549 334547     44\n",
      " 338195 107019        0.3151    27        0.3260        0.3148  2501286    3.41%          rho_68 D 338195 338194     34\n",
      " 341875 108289        cutoff              0.3260        0.3148  2532358    3.41%          rho_45 U 341875 263434     84\n",
      " 345560 109273        0.3214    17        0.3260        0.3148  2562768    3.41%          rho_22 D 345560 345558     58\n",
      " 348970 110240        0.3215    15        0.3260        0.3148  2593828    3.41%          rho_47 D 348970 348969     89\n",
      " 352759 111196        0.3183    20        0.3260        0.3148  2622984    3.41%          rho_24 D 352759 352757     35\n",
      " 356456 112097        cutoff              0.3260        0.3148  2651930    3.41%          rho_24 U 356456 273996     48\n",
      " 360308 113080        0.3212    16        0.3260        0.3148  2681156    3.41%          rho_47 D 360308 360307     75\n",
      "Elapsed time = 235.33 sec. (320834.09 ticks, tree = 48.32 MB, solutions = 6)\n",
      " 364630 114183        cutoff              0.3260        0.3148  2705704    3.41%          rho_70 U 364630 364629    101\n",
      " 368763 115407        0.3154    27        0.3260        0.3148  2731825    3.41%          rho_28 D 368763 368762     41\n",
      " 372479 116462        cutoff              0.3260        0.3148  2759695    3.41%           rho_0 U 372479 372478     77\n",
      " 376616 117564        0.3242    13        0.3260        0.3148  2786217    3.41%          rho_18 D 376616 376614    112\n",
      " 380500 118808        0.3186    25        0.3260        0.3148  2814003    3.41%          rho_39 D 380500 380499     72\n",
      " 384606 119862        0.3182    21        0.3260        0.3148  2839898    3.41%          rho_64 D 384606 384605     68\n",
      " 388345 120946        0.3156    28        0.3260        0.3148  2869196    3.41%          rho_64 D 388345 388344     66\n",
      " 392626 122050        0.3172    22        0.3260        0.3148  2894590    3.41%          rho_24 D 392626 392624     68\n",
      " 396844 123109        0.3203    21        0.3260        0.3148  2921386    3.41%          rho_67 D 396844 396842    109\n",
      " 400860 124107        0.3151    28        0.3260        0.3148  2947252    3.41%          rho_62 D 400860 400859     37\n",
      "Elapsed time = 260.64 sec. (358987.65 ticks, tree = 52.66 MB, solutions = 6)\n",
      " 404860 125247        0.3244    15        0.3260        0.3148  2969083    3.41%         L0_norm N 404860 404859    104\n",
      " 408872 126321        0.3217    17        0.3260        0.3148  2992881    3.41%          rho_19 D 408872 408870     80\n",
      " 412965 127427        0.3229    17        0.3260        0.3148  3020000    3.41%          rho_15 D 412965 412963    117\n",
      " 416603 128451        cutoff              0.3260        0.3148  3048976    3.41%          rho_10 U 416603 416602     71\n",
      " 420277 129254        0.3214    12        0.3260        0.3148  3076423    3.41%          rho_52 D 420277 420275     48\n",
      " 423808 130292        cutoff              0.3260        0.3148  3104847    3.41%           rho_1 U 423808 423806     43\n",
      " 426942 131030        cutoff              0.3260        0.3148  3134322    3.41%          rho_34 U 426942 115702     28\n",
      " 430215 131853        cutoff              0.3260        0.3148  3163452    3.41%          rho_37 U 430215 430213     49\n",
      " 433500 133019        0.3239    15        0.3260        0.3148  3193374    3.41%          rho_52 D 433500 433498     65\n",
      " 437110 134063        cutoff              0.3260        0.3148  3220243    3.41%          rho_69 U 437110 437109     48\n",
      "Elapsed time = 287.06 sec. (397140.28 ticks, tree = 59.56 MB, solutions = 6)\n",
      " 440607 134834        0.3226    16        0.3260        0.3148  3247507    3.41%          rho_15 D 440607 440605     84\n",
      " 444120 135845        0.3156    27        0.3260        0.3148  3274977    3.41%          rho_43 D 444120 444119     25\n",
      " 447350 136930        0.3188    19        0.3260        0.3148  3305395    3.41%          rho_29 U 447350 447348     32\n",
      " 451166 137857        0.3148    27        0.3260        0.3148  3331126    3.41%         L0_norm U 451166 451164     27\n",
      " 454786 138811        cutoff              0.3260        0.3148  3357434    3.41%          rho_24 U 454786 254749    112\n",
      "\n",
      "Gomory fractional cuts applied:  1\n",
      "User cuts applied:  796\n",
      "\n",
      "Root node processing (before b&c):\n",
      "  Real time             =    0.19 sec. (5.63 ticks)\n",
      "Sequential b&c:\n",
      "  Real time             =  299.83 sec. (416906.22 ticks)\n",
      "                          ------------\n",
      "Total (root+branch&cut) =  300.02 sec. (416911.85 ticks)\n",
      "+----------------------------------------------+------------------+-----------+\n",
      "| Pr(Y = +1) = 1.0/(1.0 + exp(-(-4 + score))   |                  |           |\n",
      "| ============================================ | ================ | ========= |\n",
      "| p_arrest>=2                                  |         1 points |   + ..... |\n",
      "| p_arrest>=6                                  |         1 points |   + ..... |\n",
      "| p_felony>=1                                  |         1 points |   + ..... |\n",
      "| p_misdemeanor>=1                             |         1 points |   + ..... |\n",
      "| ============================================ | ================ | ========= |\n",
      "| ADD POINTS FROM ROWS 1 to 4                  |            SCORE |   = ..... |\n",
      "+----------------------------------------------+------------------+-----------+\n"
     ]
    }
   ],
   "source": [
    "riskslim_summary = slim.risk_cv(sub_KY_X, KY_Y, sub_FL_X, FL_Y, \n",
    "                                y_label = 'general2', \n",
    "                                max_coef = 20, \n",
    "                                max_coef_number = 10, \n",
    "                                max_runtime=300, \n",
    "                                c=1e-3, \n",
    "                                seed=816)"
   ]
  },
  {
   "cell_type": "code",
   "execution_count": 17,
   "metadata": {},
   "outputs": [
    {
     "data": {
      "text/plain": [
       "0.5497895587273496"
      ]
     },
     "execution_count": 17,
     "metadata": {},
     "output_type": "execute_result"
    }
   ],
   "source": [
    "riskslim_summary['FL_Score']"
   ]
  },
  {
   "cell_type": "code",
   "execution_count": 18,
   "metadata": {},
   "outputs": [
    {
     "name": "stdout",
     "output_type": "stream",
     "text": [
      "Stored 'summary_general6_ky_inter_model' (dict)\n"
     ]
    }
   ],
   "source": [
    "#### save results\n",
    "summary_general6_ky_inter_model = {\"CART\": cart_summary,\n",
    "                                    \"EBM\": ebm_summary,\n",
    "                                    \"Stumps\": stumps_summary,\n",
    "                                    \"RiskSLIM\": riskslim_summary}\n",
    "%store summary_general6_ky_inter_model"
   ]
  },
  {
   "cell_type": "code",
   "execution_count": 20,
   "metadata": {},
   "outputs": [],
   "source": [
    "path = \"C:\\\\Users\\\\binha\\\\Documents\\\\Duke\\\\Cynthia Research\\\\KY-analysis-mytrials\\\\KY Recidivism\\\\KY Results\\\\KY_FL\\\\KY Model\\\\interpretable\\\\Six Month\\\\\"\n",
    "results = [[\"\", \"CART\", \"EBM\", \"Lasso Stumps\", \"RiskSLIM\"],\n",
    "           [\"General\",             \n",
    "            round(cart_summary['FL_score'],3), \n",
    "            round(ebm_summary['FL_score'], 3), \n",
    "            round(stumps_summary['FL_score'],3), \n",
    "            round(riskslim_summary['FL_Score'], 3)]]\n",
    "with open(path + 'Six Month KY_inter_model.csv', 'w') as writeFile:\n",
    "    writer = csv.writer(writeFile)\n",
    "    writer.writerows(results)"
   ]
  }
 ],
 "metadata": {
  "kernelspec": {
   "display_name": "Python 3",
   "language": "python",
   "name": "python3"
  },
  "language_info": {
   "codemirror_mode": {
    "name": "ipython",
    "version": 3
   },
   "file_extension": ".py",
   "mimetype": "text/x-python",
   "name": "python",
   "nbconvert_exporter": "python",
   "pygments_lexer": "ipython3",
   "version": "3.7.4"
  }
 },
 "nbformat": 4,
 "nbformat_minor": 4
}
