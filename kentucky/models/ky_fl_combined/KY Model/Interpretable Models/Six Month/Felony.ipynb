{
 "cells": [
  {
   "cell_type": "code",
   "execution_count": 1,
   "metadata": {},
   "outputs": [
    {
     "name": "stdout",
     "output_type": "stream",
     "text": [
      "no stored variable summary_F6_ky_inter_model\n"
     ]
    },
    {
     "name": "stderr",
     "output_type": "stream",
     "text": [
      "C:\\Users\\binha\\Anaconda3\\lib\\site-packages\\sklearn\\externals\\six.py:31: DeprecationWarning:\n",
      "\n",
      "The module is deprecated in version 0.21 and will be removed in version 0.23 since we've dropped support for Python 2.7. Please rely on the official version of six (https://pypi.org/project/six/).\n",
      "\n"
     ]
    }
   ],
   "source": [
    "import pandas as pd \n",
    "import numpy as np\n",
    "import csv\n",
    "import advance_functions as advance\n",
    "import RiskSLIM as slim\n",
    "import stumps\n",
    "from sklearn.linear_model import LogisticRegression\n",
    "from riskslim.helper_functions import load_data_from_csv, print_model\n",
    "\n",
    "# restore saved variables\n",
    "%store -r summary_F6_ky_inter_model"
   ]
  },
  {
   "cell_type": "markdown",
   "metadata": {},
   "source": [
    "### EBM & CART"
   ]
  },
  {
   "cell_type": "code",
   "execution_count": 2,
   "metadata": {},
   "outputs": [],
   "source": [
    "KY_data = pd.read_csv(\"~/Documents/Duke/Cynthia Research/psa-analysis - test/kentucky/models/ky_fl_combined/data preparation/KY_cleaned\")\n",
    "FL_data = pd.read_csv(\"~/Documents/Duke/Cynthia Research/psa-analysis - test/kentucky/models/ky_fl_combined/data preparation/FL_cleaned\")\n",
    "\n",
    "## split x and y \n",
    "KY_X = KY_data.loc[:,:'current_violence']\n",
    "KY_Y = KY_data['recid_F_six_month'].values\n",
    "FL_X = FL_data.loc[:,:'current_violence']\n",
    "FL_Y = FL_data['recid_F_six_month'].values"
   ]
  },
  {
   "cell_type": "code",
   "execution_count": 3,
   "metadata": {},
   "outputs": [],
   "source": [
    "#### CART\n",
    "depth = [7,8,9]\n",
    "cart_summary = advance.CART(KY_X, KY_Y, FL_X, FL_Y, depth, seed=816)\n",
    "\n",
    "### EBM\n",
    "estimators = [20]\n",
    "depth = [2]\n",
    "learning_rate = [0.5]\n",
    "ebm_summary = advance.EBM(KY_X, KY_Y, FL_X, FL_Y, learning_rate, depth, estimators, seed=816)"
   ]
  },
  {
   "cell_type": "code",
   "execution_count": 4,
   "metadata": {},
   "outputs": [
    {
     "data": {
      "text/plain": [
       "({'best_auc': 0.7640925540244371,\n",
       "  'auc_diff': 0.017240677082636657,\n",
       "  'best_param': {'max_depth': 7},\n",
       "  'FL_score': 0.5771567867751518},\n",
       " {'best_auc': 0.7627011686257845,\n",
       "  'auc_diff': 0.009499760470505825,\n",
       "  'best_param': {'learning_rate': 0.5,\n",
       "   'max_tree_splits': 2,\n",
       "   'n_estimators': 20},\n",
       "  'FL_score': 0.5241379310344828})"
      ]
     },
     "execution_count": 4,
     "metadata": {},
     "output_type": "execute_result"
    }
   ],
   "source": [
    "cart_summary, ebm_summary"
   ]
  },
  {
   "cell_type": "markdown",
   "metadata": {},
   "source": [
    "### Lasso Stumps"
   ]
  },
  {
   "cell_type": "code",
   "execution_count": 9,
   "metadata": {},
   "outputs": [],
   "source": [
    "KY_stumps = pd.read_csv(\"~/Documents/Duke/Cynthia Research/psa-analysis - test/kentucky/models/ky_fl_combined/data preparation/KY_stumps\")\n",
    "FL_stumps = pd.read_csv(\"~/Documents/Duke/Cynthia Research/psa-analysis - test/kentucky/models/ky_fl_combined/data preparation/FL_stumps\")\n",
    "\n",
    "## split x and y \n",
    "KY_X = KY_stumps.loc[:,:'current_violence>=1']\n",
    "KY_Y = KY_stumps['recid_F_six_month'].values\n",
    "FL_X = FL_stumps.loc[:,:'current_violence>=1']\n",
    "FL_Y = FL_stumps['recid_F_six_month'].values\n",
    "\n",
    "## columns \n",
    "cols = KY_X.columns"
   ]
  },
  {
   "cell_type": "code",
   "execution_count": 10,
   "metadata": {},
   "outputs": [],
   "source": [
    "c_grid = {'C':[0.03, 0.05, 0.07]}\n",
    "stumps_summary = stumps.stump_cv(KY_X, KY_Y, FL_X, FL_Y, cols, c_grid, seed=816)"
   ]
  },
  {
   "cell_type": "code",
   "execution_count": 11,
   "metadata": {},
   "outputs": [
    {
     "data": {
      "text/plain": [
       "{'best_auc': 0.7662315937610928,\n",
       " 'best_params': {'C': 0.05},\n",
       " 'auc_diffs': 0.004370012455411798,\n",
       " 'FL_score': 0.5525393904171509}"
      ]
     },
     "execution_count": 11,
     "metadata": {},
     "output_type": "execute_result"
    }
   ],
   "source": [
    "stumps_summary"
   ]
  },
  {
   "cell_type": "markdown",
   "metadata": {},
   "source": [
    "### RiskSLIM"
   ]
  },
  {
   "cell_type": "code",
   "execution_count": 12,
   "metadata": {},
   "outputs": [
    {
     "data": {
      "text/plain": [
       "71"
      ]
     },
     "execution_count": 12,
     "metadata": {},
     "output_type": "execute_result"
    }
   ],
   "source": [
    "## train on best param chosen by Lasso Stumps from above\n",
    "lasso = LogisticRegression(class_weight='balanced', solver='liblinear', penalty='l1', C=0.05, random_state=816).fit(KY_X, KY_Y)\n",
    "selected_features = cols[lasso.coef_[0] != 0].tolist()\n",
    "len(selected_features)"
   ]
  },
  {
   "cell_type": "code",
   "execution_count": 14,
   "metadata": {},
   "outputs": [],
   "source": [
    "### Subset features\n",
    "sub_FL_X = FL_stumps.loc[:, selected_features]\n",
    "sub_KY_X = KY_stumps.loc[:, selected_features]\n",
    "sub_KY_X.insert(0, '(Intercept)', 1)"
   ]
  },
  {
   "cell_type": "code",
   "execution_count": 15,
   "metadata": {
    "scrolled": true
   },
   "outputs": [
    {
     "name": "stdout",
     "output_type": "stream",
     "text": [
      "setting c0 = 0.0 to ensure that intercept is not penalized\n",
      "09/17/19 @ 08:37 PM | 2941 rows in lookup table\n",
      "09/17/19 @ 08:37 PM | ------------------------------------------------------------\n",
      "09/17/19 @ 08:37 PM | runnning initialization procedure\n",
      "09/17/19 @ 08:37 PM | ------------------------------------------------------------\n",
      "09/17/19 @ 08:37 PM | CPA produced 2 cuts\n",
      "09/17/19 @ 08:37 PM | running naive rounding on 88 solutions\n",
      "09/17/19 @ 08:37 PM | best objective value: 0.1924\n",
      "09/17/19 @ 08:37 PM | rounding produced 5 integer solutions\n",
      "09/17/19 @ 08:37 PM | best objective value is 0.1975\n",
      "09/17/19 @ 08:37 PM | running sequential rounding on 88 solutions\n",
      "09/17/19 @ 08:37 PM | best objective value: 0.1924\n",
      "09/17/19 @ 08:37 PM | sequential rounding produced 5 integer solutions\n",
      "09/17/19 @ 08:37 PM | best objective value: 0.1975\n",
      "09/17/19 @ 08:37 PM | polishing 10 solutions\n",
      "09/17/19 @ 08:37 PM | best objective value: 0.1975\n",
      "09/17/19 @ 08:37 PM | polishing produced 5 integer solutions\n",
      "09/17/19 @ 08:37 PM | initialization produced 11 feasible solutions\n",
      "09/17/19 @ 08:37 PM | best objective value: 0.1975\n",
      "09/17/19 @ 08:37 PM | ------------------------------------------------------------\n",
      "09/17/19 @ 08:37 PM | completed initialization procedure\n",
      "09/17/19 @ 08:37 PM | ------------------------------------------------------------\n",
      "09/17/19 @ 08:37 PM | 2941 rows in lookup table\n",
      "CPXPARAM_Read_DataCheck                          1\n",
      "CPXPARAM_Threads                                 1\n",
      "CPXPARAM_Parallel                                1\n",
      "CPXPARAM_RandomSeed                              0\n",
      "CPXPARAM_TimeLimit                               200\n",
      "CPXPARAM_MIP_Tolerances_LowerCutoff              0.18992643257049022\n",
      "CPXPARAM_MIP_Tolerances_UpperCutoff              0.19747113748710418\n"
     ]
    },
    {
     "name": "stderr",
     "output_type": "stream",
     "text": [
      "Warning: Control callbacks may disable some MIP features.\n"
     ]
    },
    {
     "name": "stdout",
     "output_type": "stream",
     "text": [
      "Lazy constraint(s) or lazy constraint callback is present.\n",
      "    Disabling dual reductions (CPX_PARAM_REDUCE) in presolve.\n",
      "    Disabling non-linear reductions (CPX_PARAM_PRELINEAR) in presolve.\n",
      "         Disabling repeat represolve because of lazy constraint/incumbent callback.\n",
      "09/17/19 @ 08:37 PM | adding 249 initial cuts\n",
      "1 of 1 MIP starts provided solutions.\n",
      "MIP start 'mip_start_0' defined initial solution with objective 0.1975.\n",
      "Tried aggregator 1 time.\n",
      "Reduced MIP has 73 rows, 146 columns, and 287 nonzeros.\n",
      "Reduced MIP has 71 binaries, 73 generals, 0 SOSs, and 0 indicators.\n",
      "Presolve time = 0.02 sec. (0.17 ticks)\n",
      "Probing time = 0.00 sec. (0.08 ticks)\n",
      "MIP emphasis: balance optimality and feasibility.\n",
      "MIP search method: traditional branch-and-cut.\n",
      "Parallel mode: none, using 1 thread.\n",
      "Root relaxation solution time = 0.00 sec. (0.09 ticks)\n",
      "\n",
      "        Nodes                                         Cuts/\n",
      "   Node  Left     Objective  IInf  Best Integer    Best Bound    ItCnt     Gap         Variable B NodeID Parent  Depth\n",
      "\n",
      "*     0+    0                            0.1975        0.1799             8.88%\n",
      "      0     0        0.1899     1        0.1975        0.1899        1    3.82%\n",
      "      0     0        0.1899     1        0.1975       Cuts: 2        4    3.82%\n",
      "      0     2        0.1899     5        0.1975        0.1899        5    3.82%                        0             0\n",
      "Elapsed time = 0.55 sec. (5.00 ticks, tree = 0.01 MB, solutions = 1)\n",
      "   1652  1076        cutoff              0.1975        0.1899     8395    3.82%          rho_41 U   1652   1651     41\n",
      "   2867  1817        cutoff              0.1975        0.1899    14829    3.82%        alpha_67 U   2867     14     10\n",
      "   3920  2312        0.1927    18        0.1975        0.1899    21303    3.82%          rho_67 U   3920   3919     20\n",
      "   4880  2698        0.1899    15        0.1975        0.1899    27543    3.82%          rho_25 D   4880   4879     23\n",
      "   5770  3035        0.1972     0        0.1975        0.1899    33771    3.82%          rho_53 D   5770   5769     21\n",
      "   6618  3350        0.1899    18        0.1975        0.1899    39612    3.82%         L0_norm U   6618   1809      3\n",
      "   7488  3732        0.1943    16        0.1975        0.1899    44920    3.82%           rho_0 U   7488    222     17\n",
      "   8391  4054        cutoff              0.1975        0.1899    50050    3.82%          rho_32 U   8391   8390     54\n",
      "   9050  4278        0.1899    28        0.1975        0.1899    54856    3.82%          rho_46 D   9050   6149     16\n",
      "  11734  5067        cutoff              0.1975        0.1899    73774    3.82%         L0_norm D  11734  11733     44\n",
      "Elapsed time = 9.45 sec. (3108.89 ticks, tree = 1.81 MB, solutions = 1)\n",
      "  14072  5947        0.1920    21        0.1975        0.1899    93280    3.82%          rho_67 D  14072   6989     19\n",
      "  16214  6595        0.1926    16        0.1975        0.1899   111525    3.82%          rho_21 D  16214  16212     29\n",
      "  18373  7452        0.1899    17        0.1975        0.1899   129138    3.82%          rho_38 U  18373  18372     31\n",
      "  20449  8153        0.1972    10        0.1975        0.1899   145578    3.82%          rho_52 D  20449  20447     31\n",
      "  22460  9000        0.1970     0        0.1975        0.1899   161160    3.82%         L0_norm D  22460  22459     26\n",
      "  24242  9702        0.1899    22        0.1975        0.1899   177025    3.82%           rho_0 U  24242  24241     27\n",
      "  26015 10265        0.1932    26        0.1975        0.1899   192081    3.82%           rho_0 D  26015    221     16\n",
      "  27722 10816        0.1899    20        0.1975        0.1899   207744    3.82%          rho_42 U  27722  27720     21\n",
      "  29487 11399        0.1949    16        0.1975        0.1899   221891    3.82%          rho_65 D  29487  29485     74\n",
      "  31135 11983        0.1905    23        0.1975        0.1899   236672    3.82%         L0_norm U  31135  20777     25\n",
      "Elapsed time = 28.01 sec. (12652.65 ticks, tree = 4.43 MB, solutions = 1)\n",
      "  32949 12653        0.1899    19        0.1975        0.1899   251416    3.82%          rho_47 U  32949  32948      9\n",
      "  34527 13269        cutoff              0.1975        0.1899   266174    3.82%         L0_norm D  34527  17120     40\n",
      "  36253 13962        0.1940    12        0.1975        0.1899   279797    3.82%          rho_20 D  36253  36251     62\n",
      "  37872 14571        0.1955    12        0.1975        0.1899   293868    3.82%          rho_20 D  37872  37870     48\n",
      "  39558 15298        cutoff              0.1975        0.1899   307625    3.82%          rho_51 U  39558  39557     44\n",
      "  41289 16329        cutoff              0.1975        0.1899   320996    3.82%         L0_norm D  41289  13541     18\n",
      "  43057 17267        0.1938    17        0.1975        0.1899   334058    3.82%         L0_norm U  43057  43056     61\n",
      "  44570 18017        0.1899    24        0.1975        0.1899   346758    3.82%          rho_51 U  44570  16119     17\n",
      "  46010 18783        0.1946    15        0.1975        0.1899   360028    3.82%          rho_16 D  46010  46009     53\n",
      "  47353 19355        0.1965    15        0.1975        0.1899   373356    3.82%           rho_8 D  47353  47351     69\n",
      "Elapsed time = 46.97 sec. (22199.00 ticks, tree = 7.63 MB, solutions = 1)\n",
      "  48753 19851        cutoff              0.1975        0.1899   386265    3.82%          rho_34 U  48753  48750     23\n",
      "  50190 20295        0.1961    17        0.1975        0.1899   398804    3.82%           rho_0 D  50190  21546     33\n",
      "  51635 21019        0.1910    14        0.1975        0.1899   411339    3.82%           rho_3 U  51635  42376     38\n",
      "  53120 21619        0.1968    15        0.1975        0.1899   423565    3.82%          rho_26 D  53120  53118     58\n",
      "  54503 22142        0.1967    14        0.1975        0.1899   435690    3.82%          rho_40 D  54503  54502     30\n",
      "  55970 22669        0.1965    16        0.1975        0.1899   447529    3.82%          rho_41 D  55970  55968     44\n",
      "  57370 23122        0.1960     2        0.1975        0.1899   459179    3.82%          rho_42 U  57370  13364     21\n",
      "  58874 23610        cutoff              0.1975        0.1899   470232    3.82%          rho_32 U  58874  58873     42\n",
      "  60338 24278        cutoff              0.1975        0.1899   481916    3.82%          rho_28 U  60338  60337     25\n",
      "  61710 24902        0.1934    11        0.1975        0.1899   493641    3.82%          rho_50 U  61710  61709     35\n",
      "Elapsed time = 64.33 sec. (31747.53 ticks, tree = 9.57 MB, solutions = 1)\n",
      "  63063 25493        0.1928    20        0.1975        0.1899   505623    3.82%          rho_42 D  63063  63062     26\n",
      "  64351 26037        0.1930    18        0.1975        0.1899   517380    3.82%          rho_34 U  64351  64349     17\n",
      "  65628 26597        0.1951    13        0.1975        0.1899   529365    3.82%          rho_24 D  65628  65626     43\n",
      "  66969 27237        0.1899    27        0.1975        0.1899   541207    3.82%           rho_1 D  66969  66968     27\n",
      "  68259 27713        0.1929    14        0.1975        0.1899   553184    3.82%          rho_34 U  68259  56990     20\n",
      "  69530 28334        0.1936    22        0.1975        0.1899   565276    3.82%           rho_3 D  69530  69529     38\n",
      "  70886 28837        cutoff              0.1975        0.1899   576940    3.82%         L0_norm D  70886  70885     24\n",
      "  72348 29732        0.1899    21        0.1975        0.1899   588648    3.82%         L0_norm U  72348  72347     39\n",
      "  73591 30152        0.1910    35        0.1975        0.1899   600398    3.82%          rho_40 D  73591  73590     16\n",
      "  74825 30731        0.1899    17        0.1975        0.1899   611522    3.82%          rho_49 U  74825  33874     31\n",
      "Elapsed time = 82.06 sec. (41294.98 ticks, tree = 11.63 MB, solutions = 1)\n",
      "  76099 31389        0.1970    15        0.1975        0.1899   622986    3.82%          rho_27 D  76099  76097     58\n",
      "  77400 31869        0.1941    21        0.1975        0.1899   634573    3.82%           rho_1 D  77400  77398     36\n",
      "  78666 32432        0.1899    28        0.1975        0.1899   646004    3.82%          rho_46 D  78666  78664     17\n",
      "  79895 32967        0.1971    10        0.1975        0.1899   657316    3.82%          rho_16 D  79895  79893     42\n",
      "  81170 33533        0.1910    20        0.1975        0.1899   668627    3.82%          rho_28 D  81170  81169     33\n",
      "  82453 34042        0.1905    18        0.1975        0.1899   680110    3.82%          rho_54 D  82453  82452     24\n",
      "  83787 34621        0.1947    24        0.1975        0.1899   692014    3.82%          rho_14 D  83787  83785     66\n",
      "  85063 35159        0.1900    31        0.1975        0.1899   703416    3.82%          rho_47 D  85063  67368     30\n",
      "  86310 35744        cutoff              0.1975        0.1899   714403    3.82%           rho_2 D  86310  86309     36\n",
      "  87578 36314        cutoff              0.1975        0.1899   725894    3.82%          rho_30 U  87578  87577     43\n",
      "Elapsed time = 99.25 sec. (50841.41 ticks, tree = 15.02 MB, solutions = 1)\n",
      "  88787 36883        0.1959    11        0.1975        0.1899   737341    3.82%          rho_48 U  88787  88786     24\n",
      "  90090 37343        0.1901    29        0.1975        0.1899   748269    3.82%          rho_67 D  90090  90089     20\n",
      "  91335 37806        0.1899    26        0.1975        0.1899   759381    3.82%          rho_67 D  91335  91334     20\n",
      "  92589 38410        0.1968    14        0.1975        0.1899   770448    3.82%          rho_10 D  92589  92587     71\n",
      "  93919 38850        0.1967    18        0.1975        0.1899   780565    3.82%          rho_11 D  93919  93917     78\n",
      "  95115 39439        0.1973    10        0.1975        0.1899   792105    3.82%          rho_39 U  95115  95114     55\n",
      "  96349 39938        0.1914    20        0.1975        0.1899   802276    3.82%          rho_59 D  96349  96348     21\n",
      "  97558 40605        0.1917    20        0.1975        0.1899   813080    3.82%           rho_0 D  97558  97556     47\n",
      "  98807 41274        0.1955    15        0.1975        0.1899   824490    3.82%           rho_2 U  98807  98806     28\n",
      "  99978 41953        0.1900    22        0.1975        0.1899   836019    3.82%           rho_0 U  99978  99977     20\n",
      "Elapsed time = 116.47 sec. (60383.09 ticks, tree = 17.05 MB, solutions = 1)\n",
      " 101231 42419        0.1927    24        0.1975        0.1899   846437    3.82%          rho_59 D 101231 101229     32\n",
      " 102546 42894        0.1941    22        0.1975        0.1899   857156    3.82%         L0_norm U 102546 102545     40\n",
      " 103735 43446        0.1908    30        0.1975        0.1899   868027    3.82%          rho_59 U 103735  96192     19\n",
      " 104928 43909        0.1965    20        0.1975        0.1899   878269    3.82%          rho_21 D 104928 104926     41\n",
      " 106200 44547        0.1949    15        0.1975        0.1899   888652    3.82%         L0_norm U 106200 106198     31\n",
      " 107383 45037        0.1971    15        0.1975        0.1899   899271    3.82%          rho_28 D 107383 107381     56\n",
      " 108543 45703        0.1971    18        0.1975        0.1899   910719    3.82%           rho_3 D 108543 108541     56\n",
      " 109641 46240        0.1930    23        0.1975        0.1899   922105    3.82%          rho_24 D 109641 109639     50\n",
      " 110891 46862        0.1952    19        0.1975        0.1899   932916    3.82%          rho_64 D 110891 110889     74\n",
      " 112095 47392        0.1899    22        0.1975        0.1899   943402    3.82%          rho_54 D 112095 112093     31\n",
      "Elapsed time = 134.69 sec. (69929.86 ticks, tree = 19.01 MB, solutions = 1)\n",
      " 113298 47993        0.1914    23        0.1975        0.1899   954353    3.82%          rho_28 D 113298 113297     22\n",
      " 114651 48320        cutoff              0.1975        0.1899   964291    3.82%          rho_40 U 114651 114650     27\n",
      " 115911 48806        0.1900    29        0.1975        0.1899   974416    3.82%          rho_55 U 115911 115910     22\n",
      " 117101 49429        0.1910    27        0.1975        0.1899   985102    3.82%          rho_34 U 117101 117041     17\n",
      " 118192 49888        0.1911    20        0.1975        0.1899   995458    3.82%          rho_28 U 118192  46262     24\n",
      " 119308 50499        0.1919    22        0.1975        0.1899  1006059    3.82%          rho_59 D 119308 119307     26\n",
      " 120438 51038        0.1967    15        0.1975        0.1899  1016434    3.82%          rho_54 D 120438 120436     16\n",
      " 121536 51556        cutoff              0.1975        0.1899  1027357    3.82%          rho_28 D 121536 121534     35\n",
      " 122664 52048        0.1946    23        0.1975        0.1899  1037615    3.82%          rho_24 D 122664 122662     70\n",
      " 123758 52517        cutoff              0.1975        0.1899  1048260    3.82%          rho_31 U 123758 123756     30\n",
      "Elapsed time = 151.91 sec. (79473.33 ticks, tree = 20.87 MB, solutions = 1)\n",
      " 124957 53087        cutoff              0.1975        0.1899  1058793    3.82%          rho_26 U 124957 124956     54\n",
      " 126228 53631        0.1921    24        0.1975        0.1899  1069074    3.82%          rho_47 D 126228 126226     33\n",
      " 127354 54168        cutoff              0.1975        0.1899  1079645    3.82%          rho_28 U 127354 127352     27\n",
      " 128546 54698        0.1944    14        0.1975        0.1899  1090265    3.82%           rho_2 U 128546 128544     44\n",
      " 129671 55265        0.1906    25        0.1975        0.1899  1100708    3.82%           rho_1 U 129671 129610     19\n",
      " 130809 55831        0.1927    18        0.1975        0.1899  1111709    3.82%          rho_24 U 130809 130807     50\n",
      " 131951 56356        0.1944    17        0.1975        0.1899  1123035    3.82%           rho_1 U 131951 131950     42\n",
      " 133132 56976        0.1913    22        0.1975        0.1899  1133597    3.82%          rho_28 U 133132 133131     24\n",
      " 134290 57494        cutoff              0.1975        0.1899  1144391    3.82%          rho_14 U 134290 134289     62\n",
      " 138873 59922        0.1928    19        0.1975        0.1899  1186651    3.82%          rho_54 U 138873 138872     33\n",
      "Elapsed time = 173.73 sec. (91879.78 ticks, tree = 23.54 MB, solutions = 1)\n",
      " 143280 62100        0.1924    22        0.1975        0.1899  1227948    3.82%          rho_38 D 143280 143278     40\n",
      " 147631 64238        0.1932    16        0.1975        0.1899  1267852    3.82%          rho_15 D 147631 147629     44\n",
      " 152163 66310        0.1932    23        0.1975        0.1899  1309214    3.82%          rho_18 D 152163 152162     44\n",
      "\n",
      "Implied bound cuts applied:  1\n",
      "User cuts applied:  534\n",
      "\n",
      "Root node processing (before b&c):\n",
      "  Real time             =    0.55 sec. (5.11 ticks)\n",
      "Sequential b&c:\n",
      "  Real time             =  199.47 sec. (106584.89 ticks)\n",
      "                          ------------\n",
      "Total (root+branch&cut) =  200.01 sec. (106589.99 ticks)\n",
      "+----------------------------------------------+------------------+-----------+\n",
      "| Pr(Y = +1) = 1.0/(1.0 + exp(-(-4 + score))   |                  |           |\n",
      "| ============================================ | ================ | ========= |\n",
      "| p_arrest>=2                                  |         1 points |   + ..... |\n",
      "| p_arrest>=6                                  |         1 points |   + ..... |\n",
      "| p_felony>=1                                  |         1 points |   + ..... |\n",
      "| ============================================ | ================ | ========= |\n",
      "| ADD POINTS FROM ROWS 1 to 3                  |            SCORE |   = ..... |\n",
      "+----------------------------------------------+------------------+-----------+\n"
     ]
    }
   ],
   "source": [
    "riskslim_summary = slim.risk_cv(sub_KY_X, KY_Y, sub_FL_X, FL_Y, \n",
    "                                y_label = 'general2', \n",
    "                                max_coef = 20, \n",
    "                                max_coef_number = 10, \n",
    "                                max_runtime=200, \n",
    "                                c=1e-3, \n",
    "                                seed=816)"
   ]
  },
  {
   "cell_type": "code",
   "execution_count": 16,
   "metadata": {},
   "outputs": [
    {
     "data": {
      "text/plain": [
       "{'FL_Score': 0.5511494252873563}"
      ]
     },
     "execution_count": 16,
     "metadata": {},
     "output_type": "execute_result"
    }
   ],
   "source": [
    "riskslim_summary"
   ]
  },
  {
   "cell_type": "code",
   "execution_count": 17,
   "metadata": {},
   "outputs": [
    {
     "name": "stdout",
     "output_type": "stream",
     "text": [
      "Stored 'summary_F6_ky_inter_model' (dict)\n"
     ]
    }
   ],
   "source": [
    "#### save results\n",
    "summary_F6_ky_inter_model = {\"CART\": cart_summary,\n",
    "                                    \"EBM\": ebm_summary,\n",
    "                                    \"Stumps\": stumps_summary,\n",
    "                                    \"RiskSLIM\": riskslim_summary}\n",
    "%store summary_F6_ky_inter_model"
   ]
  },
  {
   "cell_type": "code",
   "execution_count": 19,
   "metadata": {},
   "outputs": [],
   "source": [
    "path = \"C:\\\\Users\\\\binha\\\\Documents\\\\Duke\\\\Cynthia Research\\\\KY-analysis-mytrials\\\\KY Recidivism\\\\KY Results\\\\KY_FL\\\\KY Model\\\\interpretable\\\\Six Month\\\\\"\n",
    "results = [[\"Felony\",             \n",
    "            round(cart_summary['FL_score'],3), \n",
    "            round(ebm_summary['FL_score'], 3), \n",
    "            round(stumps_summary['FL_score'],3), \n",
    "            round(riskslim_summary['FL_Score'], 3)]]\n",
    "with open(path + 'Six Month KY_inter_model.csv', 'a') as writeFile:\n",
    "    writer = csv.writer(writeFile)\n",
    "    writer.writerows(results)"
   ]
  }
 ],
 "metadata": {
  "kernelspec": {
   "display_name": "Python 3",
   "language": "python",
   "name": "python3"
  },
  "language_info": {
   "codemirror_mode": {
    "name": "ipython",
    "version": 3
   },
   "file_extension": ".py",
   "mimetype": "text/x-python",
   "name": "python",
   "nbconvert_exporter": "python",
   "pygments_lexer": "ipython3",
   "version": "3.7.4"
  }
 },
 "nbformat": 4,
 "nbformat_minor": 4
}
