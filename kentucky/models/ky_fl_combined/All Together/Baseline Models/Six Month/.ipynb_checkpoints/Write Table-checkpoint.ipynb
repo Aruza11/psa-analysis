{
 "cells": [
  {
   "cell_type": "code",
   "execution_count": 1,
   "metadata": {
    "hideCode": false,
    "hidePrompt": false
   },
   "outputs": [],
   "source": [
    "import pytablewriter\n",
    "import pandas as pd\n",
    "import numpy as np"
   ]
  },
  {
   "cell_type": "code",
   "execution_count": 2,
   "metadata": {
    "hideCode": false,
    "hidePrompt": false
   },
   "outputs": [],
   "source": [
    "result = pd.read_csv(\"C:\\\\Users\\\\binha\\\\Documents\\\\Duke\\\\Cynthia Research\\\\KY-analysis-mytrials\\\\KY Recidivism\\\\KY Results\\\\KY_FL\\\\Two Year\\\\Two Year KY_FL.csv\")"
   ]
  },
  {
   "cell_type": "code",
   "execution_count": 3,
   "metadata": {
    "hideCode": false,
    "hidePrompt": false
   },
   "outputs": [
    {
     "data": {
      "text/html": [
       "<div>\n",
       "<style scoped>\n",
       "    .dataframe tbody tr th:only-of-type {\n",
       "        vertical-align: middle;\n",
       "    }\n",
       "\n",
       "    .dataframe tbody tr th {\n",
       "        vertical-align: top;\n",
       "    }\n",
       "\n",
       "    .dataframe thead th {\n",
       "        text-align: right;\n",
       "    }\n",
       "</style>\n",
       "<table border=\"1\" class=\"dataframe\">\n",
       "  <thead>\n",
       "    <tr style=\"text-align: right;\">\n",
       "      <th></th>\n",
       "      <th>Unnamed: 0</th>\n",
       "      <th>Logistic</th>\n",
       "      <th>Lasso</th>\n",
       "      <th>Linear SVM</th>\n",
       "      <th>CART</th>\n",
       "      <th>Random Forest</th>\n",
       "      <th>XGBoost</th>\n",
       "    </tr>\n",
       "  </thead>\n",
       "  <tbody>\n",
       "    <tr>\n",
       "      <th>0</th>\n",
       "      <td>Recidivism</td>\n",
       "      <td>0.594</td>\n",
       "      <td>0.595</td>\n",
       "      <td>0.593</td>\n",
       "      <td>0.606</td>\n",
       "      <td>0.617</td>\n",
       "      <td>0.610</td>\n",
       "    </tr>\n",
       "    <tr>\n",
       "      <th>1</th>\n",
       "      <td>Violence</td>\n",
       "      <td>0.640</td>\n",
       "      <td>0.634</td>\n",
       "      <td>0.633</td>\n",
       "      <td>0.612</td>\n",
       "      <td>0.643</td>\n",
       "      <td>0.616</td>\n",
       "    </tr>\n",
       "    <tr>\n",
       "      <th>2</th>\n",
       "      <td>Drug</td>\n",
       "      <td>0.626</td>\n",
       "      <td>0.627</td>\n",
       "      <td>0.622</td>\n",
       "      <td>0.664</td>\n",
       "      <td>0.639</td>\n",
       "      <td>0.671</td>\n",
       "    </tr>\n",
       "    <tr>\n",
       "      <th>3</th>\n",
       "      <td>Property</td>\n",
       "      <td>0.660</td>\n",
       "      <td>0.656</td>\n",
       "      <td>0.658</td>\n",
       "      <td>0.633</td>\n",
       "      <td>0.672</td>\n",
       "      <td>0.665</td>\n",
       "    </tr>\n",
       "    <tr>\n",
       "      <th>4</th>\n",
       "      <td>Felony</td>\n",
       "      <td>0.624</td>\n",
       "      <td>0.624</td>\n",
       "      <td>0.623</td>\n",
       "      <td>0.611</td>\n",
       "      <td>0.627</td>\n",
       "      <td>0.599</td>\n",
       "    </tr>\n",
       "    <tr>\n",
       "      <th>5</th>\n",
       "      <td>Misdemeanor</td>\n",
       "      <td>0.537</td>\n",
       "      <td>0.536</td>\n",
       "      <td>0.536</td>\n",
       "      <td>0.526</td>\n",
       "      <td>0.564</td>\n",
       "      <td>0.545</td>\n",
       "    </tr>\n",
       "  </tbody>\n",
       "</table>\n",
       "</div>"
      ],
      "text/plain": [
       "    Unnamed: 0  Logistic  Lasso  Linear SVM   CART  Random Forest  XGBoost\n",
       "0   Recidivism     0.594  0.595       0.593  0.606          0.617    0.610\n",
       "1     Violence     0.640  0.634       0.633  0.612          0.643    0.616\n",
       "2         Drug     0.626  0.627       0.622  0.664          0.639    0.671\n",
       "3     Property     0.660  0.656       0.658  0.633          0.672    0.665\n",
       "4       Felony     0.624  0.624       0.623  0.611          0.627    0.599\n",
       "5  Misdemeanor     0.537  0.536       0.536  0.526          0.564    0.545"
      ]
     },
     "execution_count": 3,
     "metadata": {},
     "output_type": "execute_result"
    }
   ],
   "source": [
    "result"
   ]
  },
  {
   "cell_type": "code",
   "execution_count": 4,
   "metadata": {
    "hideCode": false,
    "hidePrompt": false
   },
   "outputs": [],
   "source": [
    "cols = result.columns.to_list()\n",
    "values = result.values.tolist()"
   ]
  },
  {
   "cell_type": "code",
   "execution_count": 5,
   "metadata": {
    "hideCode": false,
    "hideOutput": true,
    "hidePrompt": false
   },
   "outputs": [
    {
     "name": "stdout",
     "output_type": "stream",
     "text": [
      "\\begin{array}{l | r | r | r | r | r | r} \\hline\n",
      "    Recidivism  & 0.594 & 0.5950 & 0.5930 & 0.606 & 0.617 & 0.6100 \\\\ \\hline\n",
      "    Violence    & 0.640 & 0.6340 & 0.6330 & 0.612 & 0.643 & 0.6160 \\\\ \\hline\n",
      "    Drug        & 0.626 & 0.6270 & 0.6220 & 0.664 & 0.639 & 0.6710 \\\\ \\hline\n",
      "    Property    & 0.660 & 0.6560 & 0.6580 & 0.633 & 0.672 & 0.6650 \\\\ \\hline\n",
      "    Felony      & 0.624 & 0.6240 & 0.6230 & 0.611 & 0.627 & 0.5990 \\\\ \\hline\n",
      "    Misdemeanor & 0.537 & 0.5360 & 0.5360 & 0.526 & 0.564 & 0.5450 \\\\ \\hline\n",
      "\\end{array}\n"
     ]
    }
   ],
   "source": [
    "writer = pytablewriter.LatexTableWriter()\n",
    "writer.value_matrix = values\n",
    "writer.write_table()"
   ]
  }
 ],
 "metadata": {
  "hide_code_all_hidden": false,
  "kernelspec": {
   "display_name": "Python 3",
   "language": "python",
   "name": "python3"
  },
  "language_info": {
   "codemirror_mode": {
    "name": "ipython",
    "version": 3
   },
   "file_extension": ".py",
   "mimetype": "text/x-python",
   "name": "python",
   "nbconvert_exporter": "python",
   "pygments_lexer": "ipython3",
   "version": "3.7.3"
  }
 },
 "nbformat": 4,
 "nbformat_minor": 4
}
