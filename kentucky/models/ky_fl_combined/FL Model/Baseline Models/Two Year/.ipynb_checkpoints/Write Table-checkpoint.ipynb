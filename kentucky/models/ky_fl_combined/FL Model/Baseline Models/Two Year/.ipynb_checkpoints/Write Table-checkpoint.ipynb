{
 "cells": [
  {
   "cell_type": "code",
   "execution_count": 2,
   "metadata": {
    "hideCode": false,
    "hidePrompt": false
   },
   "outputs": [],
   "source": [
    "import pytablewriter\n",
    "import pandas as pd\n",
    "import numpy as np"
   ]
  },
  {
   "cell_type": "code",
   "execution_count": 3,
   "metadata": {
    "hideCode": false,
    "hidePrompt": false
   },
   "outputs": [],
   "source": [
    "result = pd.read_csv(\"C:\\\\Users\\\\binha\\\\Documents\\\\Duke\\\\Cynthia Research\\\\KY-analysis-mytrials\\\\KY Recidivism\\\\KY Results\\\\KY_FL\\\\FL Model\\\\Two Year\\\\Two Year FL_model.csv\")"
   ]
  },
  {
   "cell_type": "code",
   "execution_count": 4,
   "metadata": {
    "hideCode": false,
    "hidePrompt": false
   },
   "outputs": [
    {
     "data": {
      "text/html": [
       "<div>\n",
       "<style scoped>\n",
       "    .dataframe tbody tr th:only-of-type {\n",
       "        vertical-align: middle;\n",
       "    }\n",
       "\n",
       "    .dataframe tbody tr th {\n",
       "        vertical-align: top;\n",
       "    }\n",
       "\n",
       "    .dataframe thead th {\n",
       "        text-align: right;\n",
       "    }\n",
       "</style>\n",
       "<table border=\"1\" class=\"dataframe\">\n",
       "  <thead>\n",
       "    <tr style=\"text-align: right;\">\n",
       "      <th></th>\n",
       "      <th>Unnamed: 0</th>\n",
       "      <th>Logistic</th>\n",
       "      <th>Lasso</th>\n",
       "      <th>Linear SVM</th>\n",
       "      <th>Random Forest</th>\n",
       "      <th>XGBoost</th>\n",
       "    </tr>\n",
       "  </thead>\n",
       "  <tbody>\n",
       "    <tr>\n",
       "      <th>0</th>\n",
       "      <td>General</td>\n",
       "      <td>0.628</td>\n",
       "      <td>0.604</td>\n",
       "      <td>0.621</td>\n",
       "      <td>0.647</td>\n",
       "      <td>0.627</td>\n",
       "    </tr>\n",
       "    <tr>\n",
       "      <th>1</th>\n",
       "      <td>Violent</td>\n",
       "      <td>0.706</td>\n",
       "      <td>0.687</td>\n",
       "      <td>0.667</td>\n",
       "      <td>0.648</td>\n",
       "      <td>0.732</td>\n",
       "    </tr>\n",
       "    <tr>\n",
       "      <th>2</th>\n",
       "      <td>Drug</td>\n",
       "      <td>0.593</td>\n",
       "      <td>0.577</td>\n",
       "      <td>0.525</td>\n",
       "      <td>0.607</td>\n",
       "      <td>0.622</td>\n",
       "    </tr>\n",
       "    <tr>\n",
       "      <th>3</th>\n",
       "      <td>Property</td>\n",
       "      <td>0.610</td>\n",
       "      <td>0.643</td>\n",
       "      <td>0.543</td>\n",
       "      <td>0.611</td>\n",
       "      <td>0.619</td>\n",
       "    </tr>\n",
       "    <tr>\n",
       "      <th>4</th>\n",
       "      <td>Felony</td>\n",
       "      <td>0.605</td>\n",
       "      <td>0.593</td>\n",
       "      <td>0.572</td>\n",
       "      <td>0.635</td>\n",
       "      <td>0.623</td>\n",
       "    </tr>\n",
       "    <tr>\n",
       "      <th>5</th>\n",
       "      <td>Misdemeanor</td>\n",
       "      <td>0.610</td>\n",
       "      <td>0.595</td>\n",
       "      <td>0.573</td>\n",
       "      <td>0.614</td>\n",
       "      <td>0.610</td>\n",
       "    </tr>\n",
       "  </tbody>\n",
       "</table>\n",
       "</div>"
      ],
      "text/plain": [
       "    Unnamed: 0  Logistic  Lasso  Linear SVM  Random Forest  XGBoost\n",
       "0      General     0.628  0.604       0.621          0.647    0.627\n",
       "1      Violent     0.706  0.687       0.667          0.648    0.732\n",
       "2         Drug     0.593  0.577       0.525          0.607    0.622\n",
       "3     Property     0.610  0.643       0.543          0.611    0.619\n",
       "4       Felony     0.605  0.593       0.572          0.635    0.623\n",
       "5  Misdemeanor     0.610  0.595       0.573          0.614    0.610"
      ]
     },
     "execution_count": 4,
     "metadata": {},
     "output_type": "execute_result"
    }
   ],
   "source": [
    "result"
   ]
  },
  {
   "cell_type": "code",
   "execution_count": 5,
   "metadata": {
    "hideCode": false,
    "hidePrompt": false
   },
   "outputs": [],
   "source": [
    "cols = result.columns.to_list()\n",
    "values = result.values.tolist()"
   ]
  },
  {
   "cell_type": "code",
   "execution_count": 6,
   "metadata": {
    "hideCode": false,
    "hideOutput": true,
    "hidePrompt": false
   },
   "outputs": [
    {
     "name": "stdout",
     "output_type": "stream",
     "text": [
      "\\begin{array}{l | r | r | r | r | r} \\hline\n",
      "    General     & 0.628 & 0.6040 & 0.6210 & 0.647 & 0.627 \\\\ \\hline\n",
      "    Violent     & 0.706 & 0.6870 & 0.6670 & 0.648 & 0.732 \\\\ \\hline\n",
      "    Drug        & 0.593 & 0.5770 & 0.5250 & 0.607 & 0.622 \\\\ \\hline\n",
      "    Property    & 0.610 & 0.6430 & 0.5430 & 0.611 & 0.619 \\\\ \\hline\n",
      "    Felony      & 0.605 & 0.5930 & 0.5720 & 0.635 & 0.623 \\\\ \\hline\n",
      "    Misdemeanor & 0.610 & 0.5950 & 0.5730 & 0.614 & 0.610 \\\\ \\hline\n",
      "\\end{array}\n"
     ]
    }
   ],
   "source": [
    "writer = pytablewriter.LatexTableWriter()\n",
    "writer.value_matrix = values\n",
    "writer.write_table()"
   ]
  }
 ],
 "metadata": {
  "hide_code_all_hidden": false,
  "kernelspec": {
   "display_name": "Python 3",
   "language": "python",
   "name": "python3"
  },
  "language_info": {
   "codemirror_mode": {
    "name": "ipython",
    "version": 3
   },
   "file_extension": ".py",
   "mimetype": "text/x-python",
   "name": "python",
   "nbconvert_exporter": "python",
   "pygments_lexer": "ipython3",
   "version": "3.7.4"
  }
 },
 "nbformat": 4,
 "nbformat_minor": 4
}
