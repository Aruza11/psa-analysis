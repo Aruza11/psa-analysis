{
 "cells": [
  {
   "cell_type": "code",
   "execution_count": 1,
   "metadata": {},
   "outputs": [
    {
     "name": "stdout",
     "output_type": "stream",
     "text": [
      "no stored variable summary_general2_fl_inter_model\n"
     ]
    },
    {
     "name": "stderr",
     "output_type": "stream",
     "text": [
      "C:\\Users\\binha\\Anaconda3\\lib\\site-packages\\sklearn\\externals\\six.py:31: DeprecationWarning:\n",
      "\n",
      "The module is deprecated in version 0.21 and will be removed in version 0.23 since we've dropped support for Python 2.7. Please rely on the official version of six (https://pypi.org/project/six/).\n",
      "\n"
     ]
    }
   ],
   "source": [
    "import pandas as pd \n",
    "import numpy as np\n",
    "import csv\n",
    "import advance_functions as advance\n",
    "import RiskSLIM as slim\n",
    "import stumps\n",
    "from sklearn.linear_model import LogisticRegression\n",
    "from riskslim.helper_functions import load_data_from_csv, print_model\n",
    "\n",
    "# restore saved variables\n",
    "%store -r summary_general2_fl_inter_model"
   ]
  },
  {
   "cell_type": "markdown",
   "metadata": {},
   "source": [
    "### EBM & CART"
   ]
  },
  {
   "cell_type": "code",
   "execution_count": 13,
   "metadata": {},
   "outputs": [],
   "source": [
    "KY_data = pd.read_csv(\"~/Documents/Duke/Cynthia Research/psa-analysis - test/kentucky/models/ky_fl_combined/data preparation/KY_cleaned\")\n",
    "FL_data = pd.read_csv(\"~/Documents/Duke/Cynthia Research/psa-analysis - test/kentucky/models/ky_fl_combined/data preparation/FL_cleaned\")\n",
    "\n",
    "## split x and y \n",
    "KY_X = KY_data.loc[:,:'current_violence']\n",
    "KY_Y = KY_data['recid_two_year'].values\n",
    "FL_X = FL_data.loc[:,:'current_violence']\n",
    "FL_Y = FL_data['recid_two_year'].values"
   ]
  },
  {
   "cell_type": "code",
   "execution_count": 14,
   "metadata": {},
   "outputs": [],
   "source": [
    "#### CART\n",
    "depth = [1,2,3]\n",
    "impurity = [0.001, 0.003]\n",
    "split = [2,3,4]\n",
    "cart_summary = advance.CART(KY_X, KY_Y, FL_X, FL_Y, depth, split, impurity, seed=816)\n",
    "\n",
    "### EBM\n",
    "estimators = [60, 80, 100]\n",
    "depth = [1]\n",
    "learning_rate = [0.05]\n",
    "holdout_split = [0.7, 0.9]\n",
    "ebm_summary = advance.EBM(KY_X, KY_Y, FL_X, FL_Y, learning_rate, depth, estimators, holdout_split, seed=816)"
   ]
  },
  {
   "cell_type": "code",
   "execution_count": 15,
   "metadata": {},
   "outputs": [
    {
     "data": {
      "text/plain": [
       "(0.554246143512394, 0.6513989450017987)"
      ]
     },
     "execution_count": 15,
     "metadata": {},
     "output_type": "execute_result"
    }
   ],
   "source": [
    "cart_summary['KY_score'], ebm_summary['KY_score']"
   ]
  },
  {
   "cell_type": "markdown",
   "metadata": {},
   "source": [
    "### Lasso Stumps"
   ]
  },
  {
   "cell_type": "code",
   "execution_count": 2,
   "metadata": {},
   "outputs": [],
   "source": [
    "KY_stumps = pd.read_csv(\"~/Documents/Duke/Cynthia Research/psa-analysis - test/kentucky/models/ky_fl_combined/data preparation/KY_stumps\")\n",
    "FL_stumps = pd.read_csv(\"~/Documents/Duke/Cynthia Research/psa-analysis - test/kentucky/models/ky_fl_combined/data preparation/FL_stumps\")\n",
    "\n",
    "## split x and y \n",
    "KY_X = KY_stumps.loc[:,:'current_violence>=1']\n",
    "KY_Y = KY_stumps['recid_two_year'].values\n",
    "FL_X = FL_stumps.loc[:,:'current_violence>=1']\n",
    "FL_Y = FL_stumps['recid_two_year'].values\n",
    "\n",
    "## columns \n",
    "cols = KY_X.columns"
   ]
  },
  {
   "cell_type": "code",
   "execution_count": 7,
   "metadata": {},
   "outputs": [],
   "source": [
    "c_grid = {'C': [0.05, 0.07, 0.09, 0.11]}\n",
    "stumps_summary = stumps.stump_cv(KY_X, KY_Y, FL_X, FL_Y, cols, c_grid, seed=816)"
   ]
  },
  {
   "cell_type": "code",
   "execution_count": 8,
   "metadata": {},
   "outputs": [
    {
     "data": {
      "text/plain": [
       "{'best_auc': 0.6485278709313612,\n",
       " 'best_params': {'C': 0.09},\n",
       " 'auc_diffs': 0.03125775148255938,\n",
       " 'KY_score': 0.6234680935394372}"
      ]
     },
     "execution_count": 8,
     "metadata": {},
     "output_type": "execute_result"
    }
   ],
   "source": [
    "stumps_summary"
   ]
  },
  {
   "cell_type": "markdown",
   "metadata": {},
   "source": [
    "### RiskSLIM"
   ]
  },
  {
   "cell_type": "code",
   "execution_count": 9,
   "metadata": {},
   "outputs": [
    {
     "data": {
      "text/plain": [
       "22"
      ]
     },
     "execution_count": 9,
     "metadata": {},
     "output_type": "execute_result"
    }
   ],
   "source": [
    "## train on best param chosen by Lasso Stumps from above\n",
    "lasso = LogisticRegression(class_weight='balanced', solver='liblinear', penalty='l1', C=0.09, random_state=816).fit(FL_X, FL_Y)\n",
    "selected_features = cols[lasso.coef_[0] != 0].tolist()\n",
    "len(selected_features)"
   ]
  },
  {
   "cell_type": "code",
   "execution_count": 10,
   "metadata": {},
   "outputs": [],
   "source": [
    "### Subset features\n",
    "sub_FL_X = FL_stumps.loc[:, selected_features]\n",
    "sub_KY_X = KY_stumps.loc[:, selected_features]\n",
    "sub_FL_X.insert(0, '(Intercept)', 1)"
   ]
  },
  {
   "cell_type": "code",
   "execution_count": 11,
   "metadata": {
    "scrolled": true
   },
   "outputs": [
    {
     "name": "stdout",
     "output_type": "stream",
     "text": [
      "setting c0 = 0.0 to ensure that intercept is not penalized\n",
      "09/17/19 @ 11:05 AM | 981 rows in lookup table\n",
      "09/17/19 @ 11:05 AM | ------------------------------------------------------------\n",
      "09/17/19 @ 11:05 AM | runnning initialization procedure\n",
      "09/17/19 @ 11:05 AM | ------------------------------------------------------------\n",
      "09/17/19 @ 11:05 AM | CPA produced 2 cuts\n",
      "09/17/19 @ 11:05 AM | running naive rounding on 59 solutions\n",
      "09/17/19 @ 11:05 AM | best objective value: 0.6430\n",
      "09/17/19 @ 11:05 AM | rounding produced 5 integer solutions\n",
      "09/17/19 @ 11:05 AM | best objective value is 0.6771\n",
      "09/17/19 @ 11:05 AM | running sequential rounding on 59 solutions\n",
      "09/17/19 @ 11:05 AM | best objective value: 0.6430\n",
      "09/17/19 @ 11:05 AM | sequential rounding produced 6 integer solutions\n",
      "09/17/19 @ 11:05 AM | best objective value: 0.6744\n",
      "09/17/19 @ 11:05 AM | polishing 11 solutions\n",
      "09/17/19 @ 11:05 AM | best objective value: 0.6744\n",
      "09/17/19 @ 11:05 AM | polishing produced 5 integer solutions\n",
      "09/17/19 @ 11:05 AM | initialization produced 11 feasible solutions\n",
      "09/17/19 @ 11:05 AM | best objective value: 0.6744\n",
      "09/17/19 @ 11:05 AM | ------------------------------------------------------------\n",
      "09/17/19 @ 11:05 AM | completed initialization procedure\n",
      "09/17/19 @ 11:05 AM | ------------------------------------------------------------\n",
      "09/17/19 @ 11:05 AM | 981 rows in lookup table\n",
      "CPXPARAM_Read_DataCheck                          1\n",
      "CPXPARAM_Threads                                 1\n",
      "CPXPARAM_Parallel                                1\n",
      "CPXPARAM_RandomSeed                              0\n",
      "CPXPARAM_TimeLimit                               200\n",
      "CPXPARAM_MIP_Tolerances_LowerCutoff              0.63825147984529518\n",
      "CPXPARAM_MIP_Tolerances_UpperCutoff              0.67442339432519316\n"
     ]
    },
    {
     "name": "stderr",
     "output_type": "stream",
     "text": [
      "Warning: Control callbacks may disable some MIP features.\n"
     ]
    },
    {
     "name": "stdout",
     "output_type": "stream",
     "text": [
      "Lazy constraint(s) or lazy constraint callback is present.\n",
      "    Disabling dual reductions (CPX_PARAM_REDUCE) in presolve.\n",
      "    Disabling non-linear reductions (CPX_PARAM_PRELINEAR) in presolve.\n",
      "         Disabling repeat represolve because of lazy constraint/incumbent callback.\n",
      "09/17/19 @ 11:05 AM | adding 249 initial cuts\n",
      "1 of 1 MIP starts provided solutions.\n",
      "MIP start 'mip_start_0' defined initial solution with objective 0.6744.\n",
      "Tried aggregator 1 time.\n",
      "Reduced MIP has 24 rows, 48 columns, and 91 nonzeros.\n",
      "Reduced MIP has 22 binaries, 24 generals, 0 SOSs, and 0 indicators.\n",
      "Presolve time = 0.01 sec. (0.05 ticks)\n",
      "Probing time = 0.00 sec. (0.01 ticks)\n",
      "MIP emphasis: balance optimality and feasibility.\n",
      "MIP search method: traditional branch-and-cut.\n",
      "Parallel mode: none, using 1 thread.\n",
      "Root relaxation solution time = 0.00 sec. (0.03 ticks)\n",
      "\n",
      "        Nodes                                         Cuts/\n",
      "   Node  Left     Objective  IInf  Best Integer    Best Bound    ItCnt     Gap         Variable B NodeID Parent  Depth\n",
      "\n",
      "*     0+    0                            0.6744        0.6283             6.85%\n",
      "      0     0        0.6383     1        0.6744        0.6383        1    5.36%\n",
      "      0     0        0.6383     1        0.6744       Cuts: 3        2    5.36%\n",
      "      0     2        0.6383     2        0.6744        0.6383        2    5.36%                        0             0\n",
      "Elapsed time = 0.09 sec. (1.46 ticks, tree = 0.01 MB, solutions = 1)\n",
      "*   197   107      integral     0        0.6734        0.6383      520    5.23%\n",
      "   2060   858        0.6467     7        0.6734        0.6383     8326    5.23%           rho_0 U   2060   2059     37\n",
      "   3351  1510        0.6651     4        0.6734        0.6383    13375    5.23%           rho_0 D   3351   3349     74\n",
      "*  3810+ 1590                            0.6694        0.6383             4.66%\n",
      "*  3815  1514      integral     0        0.6670        0.6383    15253    4.31%\n",
      "   4280  1779        0.6581     7        0.6670        0.6383    17995    4.31%          rho_11 D   4280   4279     80\n",
      "   5239  2217        0.6515     3        0.6670        0.6383    22476    4.31%           rho_2 D   5239   5237     22\n",
      "   6142  2634        0.6383    12        0.6670        0.6383    26551    4.31%          rho_20 D   6142   6141     12\n",
      "   7150  3192        0.6466     9        0.6670        0.6383    29865    4.31%          rho_16 D   7150   7148     16\n",
      "   8025  3574        0.6447     5        0.6670        0.6383    33555    4.31%          rho_10 D   8025   8024     47\n",
      "   8906  4044        0.6498     7        0.6670        0.6383    36849    4.31%           rho_0 U   8906   8905     18\n",
      "*  9287  4233      integral     0        0.6660        0.6383    38335    4.17%\n",
      "   9779  4345        0.6543     8        0.6660        0.6383    40256    4.17%          rho_10 D   9779   9778     22\n",
      "* 13000+ 5511                            0.6650        0.6383             4.02%\n",
      "  13601  5584        0.6623     5        0.6650        0.6383    54380    4.02%           rho_0 U  13601  13600     81\n",
      "Elapsed time = 2.73 sec. (3103.60 ticks, tree = 1.62 MB, solutions = 6)\n",
      "  17587  7007        0.6426     9        0.6650        0.6383    66504    4.02%           rho_8 D  17587  17567     19\n",
      "  21385  8448        0.6494    11        0.6650        0.6383    81474    4.02%          rho_22 D  21385  21384     20\n",
      "  25069  9689        0.6581     6        0.6650        0.6383    94953    4.02%           rho_0 D  25069  25067     27\n",
      "  28804 11079        0.6600     6        0.6650        0.6383   107233    4.02%           rho_0 D  28804  28802     24\n",
      "  32384 12451        0.6580     8        0.6650        0.6383   119949    4.02%          rho_10 D  32384  32383     22\n",
      "  35831 13650        0.6419    12        0.6650        0.6389   130784    3.93%          rho_22 U  35831  30745     16\n",
      "  39285 14981        cutoff              0.6650        0.6394   139819    3.85%           rho_0 U  39285  39284     97\n",
      "  43090 16097        0.6441     9        0.6650        0.6395   147934    3.83%           rho_0 D  43090  43088     84\n",
      "  46402 17894        0.6495    13        0.6650        0.6398   158153    3.79%          rho_10 D  46402  46401     19\n",
      "  49757 19580        0.6428     8        0.6650        0.6400   166710    3.76%          rho_10 N  49757  22385     22\n",
      "Elapsed time = 8.52 sec. (12641.43 ticks, tree = 6.17 MB, solutions = 6)\n",
      "  52714 21276        cutoff              0.6650        0.6402   175130    3.73%          rho_10 U  52714  52713     25\n",
      "  56092 22690        0.6405    10        0.6650        0.6405   184200    3.69%           rho_7 U  56092  42842     50\n",
      "  59600 24302        0.6441     9        0.6650        0.6405   192872    3.69%          rho_11 D  59600  59599    109\n",
      "  63030 25916        cutoff              0.6650        0.6405   201245    3.69%           rho_0 U  63030  63029    115\n",
      "  66355 27490        cutoff              0.6650        0.6405   209288    3.69%           rho_4 D  66355  66354     63\n",
      "  69655 29041        0.6415    10        0.6650        0.6405   217036    3.69%          rho_11 U  69655  69654     67\n",
      "  72810 30512        cutoff              0.6650        0.6405   224542    3.69%           rho_0 U  72810  72809    106\n",
      "  76122 31940        cutoff              0.6650        0.6405   232212    3.69%           rho_4 D  76122  76120     39\n",
      "  79287 33277        0.6425    10        0.6650        0.6405   239676    3.68%          rho_11 U  79287  79285     71\n",
      "  82397 34590        0.6415    10        0.6650        0.6405   247076    3.68%          rho_11 U  82397  82395     93\n",
      "Elapsed time = 13.05 sec. (22181.23 ticks, tree = 11.45 MB, solutions = 6)\n",
      "  85531 35920        cutoff              0.6650        0.6405   254454    3.68%           rho_0 U  85531  85530     76\n",
      "  88685 37201        0.6415    10        0.6650        0.6405   261742    3.68%           rho_0 D  88685  88683     88\n",
      "  91920 38521        0.6520     6        0.6650        0.6405   269130    3.68%          rho_12 D  91920  91919     65\n",
      "  95121 39840        0.6425    10        0.6650        0.6405   276415    3.68%           rho_0 D  95121  95119     52\n",
      "  98396 41492        cutoff              0.6650        0.6406   285737    3.67%          rho_12 U  98396  98395     26\n",
      " 102048 43182        0.6406    10        0.6650        0.6406   296476    3.66%           rho_0 D 102048 102046     93\n",
      " 105604 44650        0.6416    10        0.6650        0.6406   307636    3.66%           rho_0 D 105604 105602     65\n",
      " 109131 46079        0.6646     3        0.6650        0.6407   317771    3.66%          rho_12 N 109131 109129     92\n",
      " 112179 47836        0.6491     9        0.6650        0.6407   327672    3.66%           rho_0 U 112179 112178     54\n",
      " 114848 49601        0.6416    10        0.6650        0.6407   337114    3.66%          rho_10 U 114848 108913     50\n",
      "Elapsed time = 17.88 sec. (31719.07 ticks, tree = 15.34 MB, solutions = 6)\n",
      " 117581 51028        0.6427    10        0.6650        0.6407   345092    3.65%           rho_0 D 117581 117579     77\n",
      " 120621 52236        0.6418     7        0.6650        0.6408   353743    3.65%           rho_7 U 120621 120619     44\n",
      " 123436 54168        0.6417    10        0.6650        0.6408   361537    3.64%           rho_0 D 123436 123434     34\n",
      " 126110 55374        0.6545    11        0.6650        0.6408   369485    3.64%           rho_6 D 126110 126109     90\n",
      " 128835 57294        0.6545    11        0.6650        0.6408   376909    3.64%           rho_6 D 128835 128834     36\n",
      " 131481 58823        0.6418     8        0.6650        0.6409   384594    3.63%           rho_0 D 131481 131479     60\n",
      " 134386 59912        0.6635     3        0.6650        0.6409   393421    3.63%           rho_0 U 134386 134385     72\n",
      " 137834 60826        0.6419     9        0.6650        0.6409   403692    3.63%           rho_0 D 137834 137832     89\n",
      " 141510 62293        0.6409     9        0.6650        0.6409   413282    3.63%          rho_11 U 141510 141503     50\n",
      " 144756 63177        0.6585     4        0.6650        0.6409   423001    3.62%           rho_0 U 144756 144754    101\n",
      "Elapsed time = 22.47 sec. (41258.39 ticks, tree = 18.80 MB, solutions = 6)\n",
      " 148660 65164        cutoff              0.6650        0.6409   431019    3.62%          rho_15 U 148660 148659     35\n",
      " 151750 67508        cutoff              0.6650        0.6409   436122    3.62%          rho_11 U 151750 151749     44\n",
      " 154854 68987        cutoff              0.6650        0.6409   441022    3.62%          rho_15 U 154854 154853     83\n",
      " 158488 70520        0.6409    10        0.6650        0.6409   447772    3.62%           rho_0 D 158488 158486     54\n",
      " 161900 71906        0.6419     9        0.6650        0.6409   456807    3.62%          rho_10 U 161900 161898     73\n",
      " 165079 72972        0.6419    10        0.6650        0.6409   465640    3.62%          rho_10 D 165079 165078    101\n",
      " 168084 73997        0.6419     9        0.6650        0.6409   473957    3.62%           rho_0 D 168084 168082     74\n",
      " 171347 75300        cutoff              0.6650        0.6410   482161    3.61%          rho_15 U 171347 171346     89\n",
      " 175136 76826        cutoff              0.6650        0.6410   488914    3.61%          rho_15 U 175136 175135     49\n",
      " 178717 78357        0.6419     9        0.6650        0.6410   497741    3.61%          rho_10 U 178717 178715     83\n",
      "Elapsed time = 27.17 sec. (50796.13 ticks, tree = 25.51 MB, solutions = 6)\n",
      " 182000 79398        cutoff              0.6650        0.6411   507897    3.60%           rho_4 U 182000 181999     67\n",
      " 185694 80345        0.6508     3        0.6650        0.6411   517382    3.60%          rho_15 D 185694 185692     72\n",
      " 189313 81113        0.6536     9        0.6650        0.6411   526654    3.60%          rho_12 D 189313 189312     77\n",
      " 192914 81885        0.6469     5        0.6650        0.6411   536519    3.60%          rho_16 D 192914 192912     36\n",
      " 196549 82754        0.6411    10        0.6650        0.6411   545906    3.60%          rho_11 U 196549 196540     64\n",
      " 200114 83578        0.6421    10        0.6650        0.6411   555401    3.60%           rho_6 N 200114 200113     62\n",
      " 203598 84488        0.6449     7        0.6650        0.6411   564741    3.59%           rho_0 U 203598 203597     58\n",
      " 207102 85756        0.6432     7        0.6650        0.6411   573749    3.59%           rho_0 U 207102 207101     51\n",
      " 210376 86568        cutoff              0.6650        0.6411   582725    3.59%           rho_4 D 210376 210374     54\n",
      " 213845 88357        0.6502     8        0.6650        0.6412   593499    3.57%          rho_15 D 213845 213844     60\n",
      "Elapsed time = 31.63 sec. (60334.72 ticks, tree = 28.10 MB, solutions = 6)\n",
      " 217381 89986        cutoff              0.6650        0.6413   601735    3.57%          rho_16 U 217381 217380     55\n",
      " 220738 90570        cutoff              0.6650        0.6413   611083    3.57%           rho_4 U 220738 220736     33\n",
      " 224119 91170        0.6541     5        0.6650        0.6413   620313    3.57%          rho_12 D 224119 224118     92\n",
      " 227409 91707        0.6619     3        0.6650        0.6413   629315    3.57%           rho_4 D 227409 227408     58\n",
      " 230626 92083        cutoff              0.6650        0.6413   638340    3.57%           rho_4 U 230626 230624     82\n",
      " 234046 92930        cutoff              0.6650        0.6413   647520    3.57%          rho_15 U 234046 234045     27\n",
      " 237345 93590        0.6422    10        0.6650        0.6413   656250    3.56%           rho_7 N 237345 215139     44\n",
      " 240626 94935        0.6433     8        0.6650        0.6413   663048    3.56%           rho_0 D 240626 240624     43\n",
      " 243782 95083        0.6423    10        0.6650        0.6413   671320    3.56%           rho_7 N 243782 228098     56\n",
      " 246892 95133        0.6469     9        0.6650        0.6413   679846    3.56%           rho_0 U 246892 246891     56\n",
      "Elapsed time = 36.36 sec. (69873.62 ticks, tree = 29.85 MB, solutions = 6)\n",
      " 249999 95183        cutoff              0.6650        0.6413   688463    3.56%           rho_4 U 249999 249997     80\n",
      " 253338 96876        0.6423    10        0.6650        0.6414   698222    3.55%          rho_10 U 253338 253336     62\n",
      " 256642 99022        0.6415    10        0.6650        0.6415   707980    3.54%          rho_11 U 256642 256621     21\n",
      " 260151 100408        0.6415    10        0.6650        0.6415   715594    3.54%          rho_11 U 260151 260149     83\n",
      " 263597 101817        0.6425    10        0.6650        0.6415   723035    3.54%           rho_0 D 263597 263595     62\n",
      " 266991 103140        0.6425    10        0.6650        0.6415   730324    3.54%           rho_0 D 266991 266989    114\n",
      " 270343 104657        0.6425    10        0.6650        0.6415   737492    3.54%          rho_11 U 270343 270341    107\n",
      " 273790 106178        0.6441     9        0.6650        0.6415   744956    3.54%          rho_11 D 273790 273789     73\n",
      " 277180 107710        0.6415    10        0.6650        0.6415   752197    3.54%           rho_7 U 277180 277164    112\n",
      " 280517 109209        0.6415    10        0.6650        0.6415   759406    3.54%           rho_0 D 280517 280515     77\n",
      "Elapsed time = 40.67 sec. (79413.41 ticks, tree = 33.50 MB, solutions = 6)\n",
      " 283905 110771        0.6477     7        0.6650        0.6415   766807    3.54%          rho_15 D 283905 283904     72\n",
      " 287280 112288        0.6415    10        0.6650        0.6415   774253    3.54%           rho_7 U 287280 287264     91\n",
      " 290770 113832        0.6510     6        0.6650        0.6415   781817    3.54%          rho_12 D 290770 290769     95\n",
      " 294210 115359        0.6425    10        0.6650        0.6415   789250    3.54%           rho_0 D 294210 294208    106\n",
      " 297698 116886        cutoff              0.6650        0.6415   796831    3.54%           rho_0 U 297698 297697     84\n",
      " 301206 118444        0.6415    10        0.6650        0.6415   804426    3.54%           rho_0 D 301206 301204     84\n",
      " 304748 120001        0.6415    10        0.6650        0.6415   812119    3.54%           rho_0 D 304748 304746     72\n",
      " 308280 121526        0.6415    10        0.6650        0.6415   819796    3.54%           rho_0 D 308280 308278     72\n",
      " 311823 123034        0.6415    10        0.6650        0.6415   827510    3.54%          rho_11 U 311823 311821     41\n",
      " 325824 129154        0.6415    10        0.6650        0.6415   857720    3.54%           rho_0 D 325824 325822     89\n",
      "Elapsed time = 46.14 sec. (91816.00 ticks, tree = 38.67 MB, solutions = 6)\n",
      " 339156 135095        0.6415    10        0.6650        0.6415   886550    3.54%           rho_0 D 339156 339154     69\n",
      " 352311 140480        0.6415    10        0.6650        0.6415   915026    3.54%          rho_11 U 352311 352309     71\n",
      " 365507 146108        0.6425    10        0.6650        0.6415   944160    3.54%           rho_0 D 365507 365505    108\n",
      " 379025 152082        0.6425    10        0.6650        0.6415   973507    3.54%           rho_0 D 379025 379023    112\n",
      " 392578 158222        cutoff              0.6650        0.6415  1002854    3.54%           rho_0 U 392578 392577     91\n",
      " 406181 164383        0.6425    10        0.6650        0.6415  1032290    3.54%          rho_11 U 406181 406179     89\n",
      " 419612 170339        cutoff              0.6650        0.6415  1061181    3.54%           rho_0 U 419612 419611     91\n",
      " 432990 176295        0.6415    10        0.6650        0.6415  1090129    3.54%           rho_7 U 432990 432965     90\n",
      " 446589 182451        0.6642     5        0.6650        0.6415  1118910    3.54%           rho_8 N 446589 446588     62\n",
      " 460271 188239        0.6425    10        0.6650        0.6415  1150640    3.53%          rho_11 U 460271 460269     81\n",
      "Elapsed time = 62.88 sec. (129965.10 ticks, tree = 58.67 MB, solutions = 6)\n",
      " 472837 193192        0.6425    10        0.6650        0.6415  1178058    3.53%          rho_11 U 472837 472835    112\n",
      " 485486 198553        0.6487     7        0.6650        0.6415  1205622    3.53%          rho_15 D 485486 485484    118\n",
      " 497853 203594        0.6425    10        0.6650        0.6415  1232954    3.53%           rho_0 D 497853 497851     80\n",
      " 510154 208769        0.6425    10        0.6650        0.6415  1260064    3.53%          rho_11 U 510154 510152     61\n",
      " 522347 213874        cutoff              0.6650        0.6415  1287157    3.53%           rho_0 U 522347 522346    104\n",
      " 534530 218997        cutoff              0.6650        0.6415  1314322    3.53%           rho_8 D 534530 534529    121\n",
      " 546752 223409        cutoff              0.6650        0.6415  1342050    3.53%           rho_8 U 546752 546750    103\n",
      " 559659 228116        0.6425     8        0.6650        0.6415  1373038    3.53%           rho_0 D 559659 559657     77\n",
      " 573759 234267        0.6415    10        0.6650        0.6415  1415951    3.53%           rho_7 U 573759 573706     70\n",
      " 587553 240047        0.6425     8        0.6650        0.6415  1452495    3.53%           rho_0 D 587553 587551     82\n",
      "Elapsed time = 83.77 sec. (168113.92 ticks, tree = 76.60 MB, solutions = 6)\n",
      " 600935 245268        0.6425    10        0.6650        0.6416  1484498    3.52%           rho_0 D 600935 600933     98\n",
      " 613880 251247        0.6416    10        0.6650        0.6416  1521348    3.52%          rho_11 U 613880 613873     64\n",
      " 628970 257928        cutoff              0.6650        0.6416  1559975    3.52%           rho_4 D 628970 628969     54\n",
      " 642425 264235        0.6426    10        0.6650        0.6416  1598108    3.52%          rho_11 U 642425 642423     61\n",
      " 654990 270653        0.6457     7        0.6650        0.6416  1636715    3.51%           rho_0 U 654990 654989     40\n",
      " 665629 279020        cutoff              0.6650        0.6416  1673925    3.51%          rho_12 U 665629 665628     77\n",
      " 676440 287808        0.6501     9        0.6650        0.6416  1711179    3.51%           rho_0 U 676440 676439     80\n",
      " 687250 296519        0.6416    10        0.6650        0.6416  1748165    3.51%          rho_10 U 687250 687167     85\n",
      " 697855 304957        0.6533     9        0.6650        0.6416  1785145    3.51%          rho_10 D 697855 697854     70\n",
      " 708802 313842        0.6426    10        0.6650        0.6416  1821208    3.51%          rho_10 N 708802 708801     74\n",
      "Elapsed time = 101.50 sec. (206264.15 ticks, tree = 98.67 MB, solutions = 6)\n",
      " 719660 322484        0.6523     9        0.6650        0.6416  1856994    3.51%          rho_10 D 719660 719659     46\n",
      " 732710 325392        0.6416    10        0.6650        0.6416  1893915    3.51%           rho_0 D 732710 732705     85\n",
      " 747357 327700        0.6416    10        0.6650        0.6416  1933822    3.51%           rho_0 D 747357 747351     79\n",
      " 761854 329977        0.6579     7        0.6650        0.6416  1973340    3.51%          rho_12 N 761854 761853     75\n",
      " 776187 331513        0.6416    10        0.6650        0.6416  2014026    3.51%           rho_0 D 776187 776182     84\n",
      " 791535 335646        0.6416    10        0.6650        0.6416  2052130    3.51%           rho_0 D 791535 791529     54\n",
      " 806270 338308        cutoff              0.6650        0.6416  2091561    3.51%          rho_12 U 806270 806267    113\n",
      " 820014 340905        0.6523     9        0.6650        0.6416  2128037    3.51%          rho_10 D 820014 820013     62\n",
      " 832996 341976        cutoff              0.6650        0.6416  2165545    3.51%          rho_12 U 832996 832993    107\n",
      " 846840 346964        0.6546     5        0.6650        0.6416  2200642    3.51%          rho_12 D 846840 846839     74\n",
      "Elapsed time = 118.08 sec. (244412.75 ticks, tree = 110.79 MB, solutions = 6)\n",
      " 860174 349107        0.6416    10        0.6650        0.6416  2237437    3.51%           rho_0 D 860174 860168     78\n",
      " 873288 353249        0.6426    10        0.6650        0.6416  2278174    3.51%          rho_11 U 873288 873286     77\n",
      " 886815 359163        0.6514     8        0.6650        0.6417  2322573    3.51%           rho_8 D 886815 886814     51\n",
      " 899861 365195        0.6437    10        0.6650        0.6417  2359068    3.51%           rho_0 D 899861 899859     93\n",
      " 911182 371392        0.6501     9        0.6650        0.6417  2392639    3.50%           rho_0 U 911182 911181     85\n",
      " 921340 378982        0.6426    10        0.6650        0.6417  2428504    3.50%           rho_0 D 921340 921338    111\n",
      " 931530 386709        0.6426    10        0.6650        0.6417  2464589    3.50%           rho_0 D 931530 931528     93\n",
      " 941740 394421        0.6426    10        0.6650        0.6417  2500773    3.50%          rho_10 N 941740 838033     96\n",
      " 951930 400527        0.6437    10        0.6650        0.6417  2532412    3.50%           rho_0 D 951930 951928     90\n",
      " 964948 406459        cutoff              0.6650        0.6417  2568566    3.50%           rho_0 U 964948 964947     70\n",
      "Elapsed time = 134.52 sec. (282563.73 ticks, tree = 130.44 MB, solutions = 6)\n",
      " 978240 412162        0.6439     7        0.6650        0.6417  2605454    3.50%           rho_0 U 978240 978239     46\n",
      " 991786 418100        cutoff              0.6650        0.6417  2644362    3.50%           rho_0 U 991786 991785     52\n",
      " 1005807 424282        0.6427    10        0.6650        0.6417  2684636    3.50%          rho_11 U 1005807 1005805     80\n",
      " 1017986 431192        0.6426    10        0.6650        0.6417  2722843    3.50%          rho_10 U 1017986 1017984    106\n",
      " 1029075 437696        cutoff              0.6650        0.6418  2752117    3.50%          rho_12 U 1029075 1029073     95\n",
      " 1040272 445710        0.6565    11        0.6650        0.6418  2780730    3.49%           rho_6 D 1040272 1040271     90\n",
      " 1050974 453893        0.6418    12        0.6650        0.6418  2817052    3.49%          rho_10 U 1050974 1050972     59\n",
      " 1061890 462580        0.6428    12        0.6650        0.6418  2845710    3.49%          rho_10 U 1061890 1061888    110\n",
      " 1072641 471029        0.6438    12        0.6650        0.6418  2877854    3.49%           rho_0 D 1072641 1072639     96\n",
      " 1083486 477299        0.6437    10        0.6650        0.6418  2907173    3.49%          rho_11 U 1083486 1083484     75\n",
      "Elapsed time = 151.03 sec. (320713.48 ticks, tree = 153.72 MB, solutions = 6)\n",
      " 1096707 483106        0.6427    10        0.6650        0.6418  2944094    3.49%           rho_7 U 1096707 1096705     98\n",
      " 1110402 489470        0.6501     7        0.6650        0.6418  2981365    3.49%           rho_2 D 1110402 1110401     58\n",
      " 1122990 497329        0.6418    11        0.6650        0.6418  3014229    3.49%           rho_0 D 1122990 1122988     36\n",
      " 1136510 503785        0.6428    12        0.6650        0.6418  3050076    3.49%           rho_7 D 1136510 1136508     89\n",
      " 1147230 511830        0.6505     8        0.6650        0.6418  3086474    3.49%          rho_11 D 1147230 1147229     79\n",
      " 1158610 520788        0.6428     7        0.6650        0.6418  3111593    3.49%           rho_0 D 1158610 1158608    100\n",
      " 1171123 526125        0.6650     5        0.6650        0.6418  3147186    3.49%           rho_0 N 1171123 1171122     72\n",
      " 1186093 531140        cutoff              0.6650        0.6418  3190342    3.49%           rho_4 U 1186093 1186092     61\n",
      " 1197509 539142        0.6428    12        0.6650        0.6419  3222147    3.48%          rho_10 U 1197509 1197507     99\n",
      " 1208878 545228        0.6438     8        0.6650        0.6419  3253436    3.48%          rho_11 U 1208878 1208876     55\n",
      "Elapsed time = 167.75 sec. (358862.62 ticks, tree = 171.08 MB, solutions = 6)\n",
      " 1222921 550250        0.6645     3        0.6650        0.6419  3292540    3.48%           rho_0 N 1222921 1222920    107\n",
      " 1237133 555157        0.6419     9        0.6650        0.6419  3326716    3.48%           rho_0 D 1237133 1237131    109\n",
      " 1251626 559734        0.6419     9        0.6650        0.6419  3361974    3.48%           rho_0 D 1251626 1251624    104\n",
      " 1266603 564276        0.6419     9        0.6650        0.6419  3398727    3.48%           rho_0 D 1266603 1266601    102\n",
      " 1280862 568262        0.6566     2        0.6650        0.6419  3433661    3.48%          rho_12 N 1280862 1280861     95\n",
      " 1295151 572457        0.6566     2        0.6650        0.6419  3468504    3.48%          rho_12 N 1295151 1295150     92\n",
      " 1309206 576773        0.6419     9        0.6650        0.6419  3502690    3.48%          rho_10 U 1309206 1309158     47\n",
      " 1322045 580530        0.6419     9        0.6650        0.6419  3533958    3.48%          rho_11 U 1322045 1322004     93\n",
      " 1334473 584776        0.6482     4        0.6650        0.6419  3563888    3.48%           rho_4 U 1334473 1334472     81\n",
      " 1346875 588363        0.6482     4        0.6650        0.6419  3594213    3.48%           rho_4 U 1346875 1346874     77\n",
      "Elapsed time = 184.23 sec. (397010.65 ticks, tree = 187.91 MB, solutions = 6)\n",
      " 1359540 593361        0.6561     9        0.6650        0.6419  3625045    3.47%          rho_11 D 1359540 1359539     89\n",
      " 1370146 601811        0.6419    10        0.6650        0.6419  3646644    3.47%           rho_0 D 1370146 1370144     72\n",
      " 1380520 609913        0.6419    10        0.6650        0.6419  3670634    3.47%          rho_11 U 1380520 1380427    101\n",
      " 1391158 618351        0.6419    10        0.6650        0.6419  3692709    3.47%           rho_0 D 1391158 1391063     67\n",
      " 1401727 626832        0.6419    10        0.6650        0.6419  3713702    3.47%           rho_0 D 1401727 1401725    115\n",
      " 1412500 635465        0.6419    10        0.6650        0.6419  3735177    3.47%          rho_11 U 1412500 1412498     95\n",
      " 1423355 644260        0.6419    10        0.6650        0.6419  3755138    3.47%           rho_6 U 1423355 1364317     70\n",
      " 1434123 652948        0.6419    10        0.6650        0.6419  3775230    3.47%           rho_0 D 1434123 1434121     94\n",
      " 1444954 661519        0.6419    10        0.6650        0.6419  3795612    3.47%           rho_0 D 1444954 1444952     65\n",
      " 1455710 670375        0.6419    10        0.6650        0.6419  3814768    3.47%          rho_11 U 1455710 1455708     71\n",
      "Elapsed time = 199.94 sec. (435162.03 ticks, tree = 209.47 MB, solutions = 6)\n",
      "\n",
      "Gomory fractional cuts applied:  1\n",
      "User cuts applied:  520\n",
      "\n",
      "Root node processing (before b&c):\n",
      "  Real time             =    0.09 sec. (1.50 ticks)\n",
      "Sequential b&c:\n",
      "  Real time             =  199.92 sec. (435399.12 ticks)\n",
      "                          ------------\n",
      "Total (root+branch&cut) =  200.02 sec. (435400.62 ticks)\n",
      "+----------------------------------------------+------------------+-----------+\n",
      "| Pr(Y = +1) = 1.0/(1.0 + exp(-(-1 + score))   |                  |           |\n",
      "| ============================================ | ================ | ========= |\n",
      "| age_at_current_charge<=29.0                  |         1 points |   + ..... |\n",
      "| p_misdemeanor>=3                             |         1 points |   + ..... |\n",
      "| ============================================ | ================ | ========= |\n",
      "| ADD POINTS FROM ROWS 1 to 2                  |            SCORE |   = ..... |\n",
      "+----------------------------------------------+------------------+-----------+\n"
     ]
    }
   ],
   "source": [
    "riskslim_summary = slim.risk_cv(sub_KY_X, KY_Y, sub_FL_X, FL_Y, \n",
    "                                y_label = 'general2', \n",
    "                                max_coef = 20, \n",
    "                                max_coef_number = 10, \n",
    "                                max_runtime=200, \n",
    "                                c=1e-3, \n",
    "                                seed=816)"
   ]
  },
  {
   "cell_type": "code",
   "execution_count": 12,
   "metadata": {},
   "outputs": [
    {
     "data": {
      "text/plain": [
       "[0.5609246233354437]"
      ]
     },
     "execution_count": 12,
     "metadata": {},
     "output_type": "execute_result"
    }
   ],
   "source": [
    "riskslim_summary['KY_auc']"
   ]
  },
  {
   "cell_type": "code",
   "execution_count": 16,
   "metadata": {},
   "outputs": [
    {
     "name": "stdout",
     "output_type": "stream",
     "text": [
      "Stored 'summary_general2_fl_inter_model' (dict)\n"
     ]
    }
   ],
   "source": [
    "#### save results\n",
    "summary_general2_fl_inter_model = {\"CART\": cart_summary,\n",
    "                                    \"EBM\": ebm_summary,\n",
    "                                    \"Stumps\": stumps_summary,\n",
    "                                    \"RiskSLIM\": riskslim_summary}\n",
    "%store summary_general2_fl_inter_model"
   ]
  },
  {
   "cell_type": "code",
   "execution_count": 20,
   "metadata": {},
   "outputs": [],
   "source": [
    "path = \"C:\\\\Users\\\\binha\\\\Documents\\\\Duke\\\\Cynthia Research\\\\KY-analysis-mytrials\\\\KY Recidivism\\\\KY Results\\\\KY_FL\\\\FL Model\\\\interpretable\\\\Two Year\\\\\"\n",
    "results = [[\"\", \"CART\", \"EBM\", \"Lasso Stumps\", \"RiskSLIM\"],\n",
    "           [\"General\",             \n",
    "            round(cart_summary['KY_score'],3), \n",
    "            round(ebm_summary['KY_score'], 3), \n",
    "            round(stumps_summary['KY_score'],3), \n",
    "            round(riskslim_summary['KY_auc'][0], 3)]]\n",
    "with open(path + 'Two Year FL_inter_model.csv', 'w') as writeFile:\n",
    "    writer = csv.writer(writeFile)\n",
    "    writer.writerows(results)"
   ]
  }
 ],
 "metadata": {
  "kernelspec": {
   "display_name": "Python 3",
   "language": "python",
   "name": "python3"
  },
  "language_info": {
   "codemirror_mode": {
    "name": "ipython",
    "version": 3
   },
   "file_extension": ".py",
   "mimetype": "text/x-python",
   "name": "python",
   "nbconvert_exporter": "python",
   "pygments_lexer": "ipython3",
   "version": "3.7.4"
  }
 },
 "nbformat": 4,
 "nbformat_minor": 4
}
