{
 "cells": [
  {
   "cell_type": "code",
   "execution_count": 1,
   "metadata": {},
   "outputs": [
    {
     "name": "stdout",
     "output_type": "stream",
     "text": [
      "no stored variable summary_violent2_fl_inter_model\n"
     ]
    },
    {
     "name": "stderr",
     "output_type": "stream",
     "text": [
      "C:\\Users\\binha\\Anaconda3\\lib\\site-packages\\sklearn\\externals\\six.py:31: DeprecationWarning:\n",
      "\n",
      "The module is deprecated in version 0.21 and will be removed in version 0.23 since we've dropped support for Python 2.7. Please rely on the official version of six (https://pypi.org/project/six/).\n",
      "\n"
     ]
    }
   ],
   "source": [
    "import pandas as pd \n",
    "import numpy as np\n",
    "import csv\n",
    "import advance_functions as advance\n",
    "import RiskSLIM as slim\n",
    "import stumps\n",
    "from sklearn.linear_model import LogisticRegression\n",
    "from riskslim.helper_functions import load_data_from_csv, print_model\n",
    "\n",
    "# restore saved variables\n",
    "%store -r summary_violent2_fl_inter_model"
   ]
  },
  {
   "cell_type": "markdown",
   "metadata": {},
   "source": [
    "### EBM & CART"
   ]
  },
  {
   "cell_type": "code",
   "execution_count": 24,
   "metadata": {},
   "outputs": [],
   "source": [
    "KY_data = pd.read_csv(\"~/Documents/Duke/Cynthia Research/psa-analysis - test/kentucky/models/ky_fl_combined/data preparation/KY_cleaned\")\n",
    "FL_data = pd.read_csv(\"~/Documents/Duke/Cynthia Research/psa-analysis - test/kentucky/models/ky_fl_combined/data preparation/FL_cleaned\")\n",
    "\n",
    "## split x and y \n",
    "KY_X = KY_data.loc[:,:'current_violence']\n",
    "KY_Y = KY_data['recid_violence_two_year'].values\n",
    "FL_X = FL_data.loc[:,:'current_violence']\n",
    "FL_Y = FL_data['recid_violence_two_year'].values"
   ]
  },
  {
   "cell_type": "code",
   "execution_count": 25,
   "metadata": {},
   "outputs": [],
   "source": [
    "#### CART\n",
    "depth = [1,2,3]\n",
    "impurity = [0.001, 0.003]\n",
    "split = [2,3,4]\n",
    "cart_summary = advance.CART(KY_X, KY_Y, FL_X, FL_Y, depth, split, impurity, seed=816)\n",
    "\n",
    "### EBM\n",
    "estimators = [60, 80, 100]\n",
    "depth = [1]\n",
    "learning_rate = [0.05]\n",
    "holdout_split = [0.7, 0.9]\n",
    "ebm_summary = advance.EBM(KY_X, KY_Y, FL_X, FL_Y, learning_rate, depth, estimators, holdout_split, seed=816)"
   ]
  },
  {
   "cell_type": "code",
   "execution_count": 26,
   "metadata": {},
   "outputs": [
    {
     "data": {
      "text/plain": [
       "(0.5486723502829878, 0.7162025824758036)"
      ]
     },
     "execution_count": 26,
     "metadata": {},
     "output_type": "execute_result"
    }
   ],
   "source": [
    "cart_summary['KY_score'], ebm_summary['KY_score']"
   ]
  },
  {
   "cell_type": "markdown",
   "metadata": {},
   "source": [
    "### Lasso Stumps"
   ]
  },
  {
   "cell_type": "code",
   "execution_count": 2,
   "metadata": {},
   "outputs": [],
   "source": [
    "KY_stumps = pd.read_csv(\"~/Documents/Duke/Cynthia Research/psa-analysis - test/kentucky/models/ky_fl_combined/data preparation/KY_stumps\")\n",
    "FL_stumps = pd.read_csv(\"~/Documents/Duke/Cynthia Research/psa-analysis - test/kentucky/models/ky_fl_combined/data preparation/FL_stumps\")\n",
    "\n",
    "## split x and y \n",
    "KY_X = KY_stumps.loc[:,:'current_violence>=1']\n",
    "KY_Y = KY_stumps['recid_violence_two_year'].values\n",
    "FL_X = FL_stumps.loc[:,:'current_violence>=1']\n",
    "FL_Y = FL_stumps['recid_violence_two_year'].values\n",
    "\n",
    "## columns \n",
    "cols = KY_X.columns"
   ]
  },
  {
   "cell_type": "code",
   "execution_count": 17,
   "metadata": {},
   "outputs": [],
   "source": [
    "c_grid = {'C': [0.11, 0.13, 0.15, 0.17]}\n",
    "stumps_summary = stumps.stump_cv(KY_X, KY_Y, FL_X, FL_Y, cols, c_grid, seed=816)"
   ]
  },
  {
   "cell_type": "code",
   "execution_count": 18,
   "metadata": {},
   "outputs": [
    {
     "data": {
      "text/plain": [
       "{'best_auc': 0.6538490241152549,\n",
       " 'best_params': {'C': 0.15},\n",
       " 'auc_diffs': 0.04625657335569544,\n",
       " 'KY_score': 0.7617783647193457}"
      ]
     },
     "execution_count": 18,
     "metadata": {},
     "output_type": "execute_result"
    }
   ],
   "source": [
    "stumps_summary"
   ]
  },
  {
   "cell_type": "markdown",
   "metadata": {},
   "source": [
    "### RiskSLIM"
   ]
  },
  {
   "cell_type": "code",
   "execution_count": 20,
   "metadata": {},
   "outputs": [
    {
     "data": {
      "text/plain": [
       "29"
      ]
     },
     "execution_count": 20,
     "metadata": {},
     "output_type": "execute_result"
    }
   ],
   "source": [
    "## train on best param chosen by Lasso Stumps from above\n",
    "lasso = LogisticRegression(class_weight='balanced', solver='liblinear', penalty='l1', C=0.15, random_state=816).fit(FL_X, FL_Y)\n",
    "selected_features = cols[lasso.coef_[0] != 0].tolist()\n",
    "len(selected_features)"
   ]
  },
  {
   "cell_type": "code",
   "execution_count": 21,
   "metadata": {},
   "outputs": [],
   "source": [
    "### Subset features\n",
    "sub_FL_X = FL_stumps.loc[:, selected_features]\n",
    "sub_KY_X = KY_stumps.loc[:, selected_features]\n",
    "sub_FL_X.insert(0, '(Intercept)', 1)"
   ]
  },
  {
   "cell_type": "code",
   "execution_count": 22,
   "metadata": {
    "scrolled": true
   },
   "outputs": [
    {
     "name": "stdout",
     "output_type": "stream",
     "text": [
      "setting c0 = 0.0 to ensure that intercept is not penalized\n",
      "09/17/19 @ 11:10 AM | 1261 rows in lookup table\n",
      "09/17/19 @ 11:10 AM | ------------------------------------------------------------\n",
      "09/17/19 @ 11:10 AM | runnning initialization procedure\n",
      "09/17/19 @ 11:10 AM | ------------------------------------------------------------\n",
      "09/17/19 @ 11:10 AM | CPA produced 2 cuts\n",
      "09/17/19 @ 11:10 AM | running naive rounding on 54 solutions\n",
      "09/17/19 @ 11:10 AM | best objective value: 0.4828\n",
      "09/17/19 @ 11:10 AM | rounding produced 5 integer solutions\n",
      "09/17/19 @ 11:10 AM | best objective value is 0.5059\n",
      "09/17/19 @ 11:10 AM | running sequential rounding on 54 solutions\n",
      "09/17/19 @ 11:10 AM | best objective value: 0.4828\n",
      "09/17/19 @ 11:10 AM | sequential rounding produced 6 integer solutions\n",
      "09/17/19 @ 11:10 AM | best objective value: 0.5042\n",
      "09/17/19 @ 11:10 AM | polishing 11 solutions\n",
      "09/17/19 @ 11:10 AM | best objective value: 0.5042\n",
      "09/17/19 @ 11:10 AM | polishing produced 5 integer solutions\n",
      "09/17/19 @ 11:10 AM | initialization produced 10 feasible solutions\n",
      "09/17/19 @ 11:10 AM | best objective value: 0.5042\n",
      "09/17/19 @ 11:10 AM | ------------------------------------------------------------\n",
      "09/17/19 @ 11:10 AM | completed initialization procedure\n",
      "09/17/19 @ 11:10 AM | ------------------------------------------------------------\n",
      "09/17/19 @ 11:10 AM | 1261 rows in lookup table\n",
      "CPXPARAM_Read_DataCheck                          1\n",
      "CPXPARAM_Threads                                 1\n",
      "CPXPARAM_Parallel                                1\n",
      "CPXPARAM_RandomSeed                              0\n",
      "CPXPARAM_TimeLimit                               200\n",
      "CPXPARAM_MIP_Tolerances_LowerCutoff              0.47275115956875857\n",
      "CPXPARAM_MIP_Tolerances_UpperCutoff              0.50418101372343416\n"
     ]
    },
    {
     "name": "stderr",
     "output_type": "stream",
     "text": [
      "Warning: Control callbacks may disable some MIP features.\n"
     ]
    },
    {
     "name": "stdout",
     "output_type": "stream",
     "text": [
      "Lazy constraint(s) or lazy constraint callback is present.\n",
      "    Disabling dual reductions (CPX_PARAM_REDUCE) in presolve.\n",
      "    Disabling non-linear reductions (CPX_PARAM_PRELINEAR) in presolve.\n",
      "         Disabling repeat represolve because of lazy constraint/incumbent callback.\n",
      "09/17/19 @ 11:10 AM | adding 249 initial cuts\n",
      "1 of 1 MIP starts provided solutions.\n",
      "MIP start 'mip_start_0' defined initial solution with objective 0.5042.\n",
      "Tried aggregator 1 time.\n",
      "Reduced MIP has 31 rows, 62 columns, and 119 nonzeros.\n",
      "Reduced MIP has 29 binaries, 31 generals, 0 SOSs, and 0 indicators.\n",
      "Presolve time = 0.00 sec. (0.07 ticks)\n",
      "Probing time = 0.00 sec. (0.02 ticks)\n",
      "MIP emphasis: balance optimality and feasibility.\n",
      "MIP search method: traditional branch-and-cut.\n",
      "Parallel mode: none, using 1 thread.\n",
      "Root relaxation solution time = 0.00 sec. (0.04 ticks)\n",
      "\n",
      "        Nodes                                         Cuts/\n",
      "   Node  Left     Objective  IInf  Best Integer    Best Bound    ItCnt     Gap         Variable B NodeID Parent  Depth\n",
      "\n",
      "*     0+    0                            0.5042        0.4628             8.22%\n",
      "      0     0        0.4728     1        0.5042        0.4728        1    6.23%\n",
      "      0     0        0.4728     1        0.5042      Fract: 1        3    6.23%\n",
      "      0     0        0.4728     1        0.5042    MIRcuts: 1        4    6.23%\n",
      "      0     2        0.4728     5        0.5042        0.4728        4    6.23%                        0             0\n",
      "Elapsed time = 0.11 sec. (2.30 ticks, tree = 0.01 MB, solutions = 1)\n",
      "   2320  1320        0.5017     5        0.5042        0.4728     8406    6.23%           rho_9 D   2320   2318     25\n",
      "   3382  1862        0.4871     4        0.5042        0.4728    14067    6.23%           rho_5 D   3382   3380     13\n",
      "*  4189  2119      integral     0        0.5025        0.4728    18369    5.91%\n",
      "*  4190  2004      integral     0        0.5013        0.4728    18372    5.69%\n",
      "   4232  2018        0.4910     5        0.5013        0.4728    18586    5.69%          rho_13 U   4232   4231     35\n",
      "   4981  2428        cutoff              0.5013        0.4728    22787    5.69%          rho_10 D   4981   4980     40\n",
      "   5698  2837        0.4899     8        0.5013        0.4728    26650    5.69%           rho_1 U   5698   5697     15\n",
      "   6423  3209        cutoff              0.5013        0.4728    29801    5.69%          rho_26 D   6423   6422     27\n",
      "   6995  3488        0.4728     8        0.5013        0.4728    33089    5.69%          rho_19 D   6995   6994     30\n",
      "   7562  3758        0.4978     4        0.5013        0.4728    36307    5.69%          rho_28 D   7562   7560     31\n",
      "   8114  3988        0.5008     7        0.5013        0.4728    39622    5.69%          rho_26 D   8114   8112     22\n",
      "  10440  5144        0.4728    18        0.5013        0.4728    51886    5.69%          rho_13 D  10440  10439     20\n",
      "Elapsed time = 2.39 sec. (3104.40 ticks, tree = 1.61 MB, solutions = 3)\n",
      "  12646  6340        0.4762    12        0.5013        0.4728    62224    5.69%           rho_0 U  12646  12644     22\n",
      "  14500  7241        0.5008     1        0.5013        0.4728    73470    5.69%          rho_11 D  14500  14498     39\n",
      "  16239  8174        0.4828     9        0.5013        0.4728    84095    5.69%           rho_2 U  16239  16238     32\n",
      "  17776  9071        0.4744    11        0.5013        0.4728    91679    5.69%           rho_0 U  17776  17775      9\n",
      "* 17850+ 8784                            0.4997        0.4728             5.39%\n",
      "  18983  9420        0.4976     1        0.4997        0.4728    99503    5.39%           rho_0 U  18983  18982     35\n",
      "  20330 10141        0.4797     7        0.4997        0.4728   106977    5.39%          rho_24 D  20330  20329     23\n",
      "  21697 10961        0.4802     8        0.4997        0.4728   114409    5.39%           rho_0 D  21697  21695     30\n",
      "  23088 11707        0.4846    11        0.4997        0.4728   122297    5.39%          rho_26 U  23088  23087     30\n",
      "  24550 12488        0.4913     8        0.4997        0.4728   129216    5.39%          rho_17 D  24550  24549     36\n",
      "  26007 13417        0.4796    12        0.4997        0.4728   135771    5.39%           rho_5 U  26007  25947     13\n",
      "Elapsed time = 8.23 sec. (12646.09 ticks, tree = 4.48 MB, solutions = 4)\n",
      "  27374 14151        cutoff              0.4997        0.4728   143163    5.39%          rho_11 U  27374  27373     27\n",
      "  28664 14804        0.4807     8        0.4997        0.4728   149739    5.39%           rho_1 D  28664  28663     25\n",
      "  29930 15379        0.4728    12        0.4997        0.4728   156849    5.39%           rho_8 U  29930  29905     26\n",
      "  31215 16007        0.4728    12        0.4997        0.4728   163509    5.39%          rho_25 D  31215  31153     17\n",
      "  32390 16613        0.4956     3        0.4997        0.4728   170440    5.39%          rho_17 D  32390  32388     45\n",
      "  33650 17261        0.4946     4        0.4997        0.4728   177081    5.39%          rho_10 D  33650  33649     50\n",
      "  35192 17889        0.4757    13        0.4997        0.4728   184371    5.39%          rho_28 U  35192  31798     27\n",
      "  36440 18602        0.4867    10        0.4997        0.4728   191248    5.39%          rho_20 D  36440  36439     55\n",
      "  37586 19153        0.4833    16        0.4997        0.4728   197525    5.39%          rho_25 U  37586  37585     20\n",
      "  38818 19829        0.4937     2        0.4997        0.4728   203254    5.39%          rho_10 U  38818  38816    103\n",
      "Elapsed time = 13.77 sec. (22188.05 ticks, tree = 7.27 MB, solutions = 4)\n",
      "  40040 20529        0.4947     3        0.4997        0.4728   209536    5.39%          rho_15 D  40040  40039     39\n",
      "  41249 21250        0.4854    10        0.4997        0.4728   215968    5.39%          rho_20 D  41249  41248     38\n",
      "  42430 21885        0.4962     5        0.4997        0.4728   222841    5.39%           rho_0 D  42430  42429     50\n",
      "  43544 22493        cutoff              0.4997        0.4728   229492    5.39%          rho_11 U  43544  43543     23\n",
      "  44700 23195        0.4751    13        0.4997        0.4728   235319    5.39%           rho_8 D  44700  44699     34\n",
      "  45895 23831        0.4728    12        0.4997        0.4728   240968    5.39%           rho_5 D  45895  37863     39\n",
      "  47060 24449        0.4851     8        0.4997        0.4728   246058    5.39%           rho_5 D  47060  47059     26\n",
      "* 48000+24013                            0.4977        0.4728             5.00%\n",
      "  48170 24067        0.4728    13        0.4977        0.4728   252504    5.00%          rho_19 D  48170  48169     29\n",
      "  49368 24651        0.4800     9        0.4977        0.4728   258506    5.00%          rho_11 D  49368  49367     24\n",
      "  50490 25173        0.4951     6        0.4977        0.4728   264643    5.00%          rho_29 D  50490  50488     59\n",
      "Elapsed time = 19.05 sec. (31737.34 ticks, tree = 9.14 MB, solutions = 5)\n",
      "  51741 25718        cutoff              0.4977        0.4728   271398    5.00%           rho_5 U  51741  51739     18\n",
      "  52935 26416        cutoff              0.4977        0.4728   277044    5.00%          rho_10 U  52935  52934     34\n",
      "  54027 26948        0.4800    15        0.4977        0.4728   282475    5.00%           rho_0 D  54027  54026     23\n",
      "  55454 27583        cutoff              0.4977        0.4728   288559    5.00%           rho_0 D  55454  55453     91\n",
      "  56836 28282        0.4776    13        0.4977        0.4728   295531    5.00%           rho_6 U  56836  56820     21\n",
      "  58050 28956        0.4876     6        0.4977        0.4728   300990    5.00%          rho_10 D  58050  58049     53\n",
      "  59256 29520        0.4790    13        0.4977        0.4728   307261    5.00%           rho_5 D  59256  59254     21\n",
      "  60359 30111        0.4794     7        0.4977        0.4728   312690    5.00%           rho_7 D  60359  60357     25\n",
      "  61370 30675        0.4890     8        0.4977        0.4728   318122    5.00%           rho_9 D  61370  61369     28\n",
      "  62401 31204        0.4728    18        0.4977        0.4728   324166    5.00%          rho_13 U  62401  62302     17\n",
      "Elapsed time = 23.94 sec. (41283.30 ticks, tree = 11.26 MB, solutions = 5)\n",
      "  63481 31786        0.4728    17        0.4977        0.4728   329838    5.00%          rho_18 U  63481  63480     10\n",
      "  64570 32416        cutoff              0.4977        0.4728   334929    5.00%          rho_24 U  64570  64569     77\n",
      "  65615 32895        0.4771    13        0.4977        0.4728   341274    5.00%          rho_19 D  65615  65614     29\n",
      "  66665 33450        0.4875     7        0.4977        0.4728   347054    5.00%           rho_6 D  66665  66663     39\n",
      "  67660 33945        0.4737    12        0.4977        0.4728   353156    5.00%           rho_8 U  67660  67658     54\n",
      "  68722 34587        cutoff              0.4977        0.4728   359502    5.00%          rho_15 U  68722  68720     42\n",
      "  69699 35094        cutoff              0.4977        0.4728   365624    5.00%          rho_17 U  69699  69698     20\n",
      "  70750 35638        0.4844     8        0.4977        0.4728   371081    5.00%          rho_10 D  70750  70749     23\n",
      "  71718 36084        0.4892    11        0.4977        0.4728   376962    5.00%           rho_3 U  71718  71717     24\n",
      "  72761 36582        0.4864    11        0.4977        0.4728   382993    5.00%          rho_10 D  72761  72759     27\n",
      "Elapsed time = 29.86 sec. (50829.22 ticks, tree = 14.53 MB, solutions = 5)\n",
      "  73857 37116        0.4961     5        0.4977        0.4728   388446    5.00%           rho_3 D  73857  73855     40\n",
      "  74898 37661        0.4782    13        0.4977        0.4728   394448    5.00%           rho_2 D  74898  74897     15\n",
      "  76090 38239        0.4864    15        0.4977        0.4728   400567    5.00%           rho_8 D  76090  76089     30\n",
      "  77079 38786        0.4894     5        0.4977        0.4728   405809    5.00%          rho_20 D  77079  77078     21\n",
      "  78117 39298        0.4728    14        0.4977        0.4728   411311    5.00%           rho_8 U  78117  78115     22\n",
      "  79202 39889        0.4818    15        0.4977        0.4728   416183    5.00%           rho_5 D  79202  79201     17\n",
      "  80357 40602        0.4910     7        0.4977        0.4728   420558    5.00%          rho_28 D  80357  80356     52\n",
      "  81463 41283        0.4762    19        0.4977        0.4728   425528    5.00%          rho_26 U  81463  81462     17\n",
      "  82591 41833        0.4858    12        0.4977        0.4728   430377    5.00%          rho_20 U  82591  81092     31\n",
      "  83683 42532        cutoff              0.4977        0.4728   435447    5.00%           rho_8 U  83683  83680     23\n",
      "Elapsed time = 35.42 sec. (60371.16 ticks, tree = 16.66 MB, solutions = 5)\n",
      "  84725 43098        0.4947     4        0.4977        0.4728   440715    5.00%           rho_0 D  84725  84724     49\n",
      "  85813 43720        0.4935     5        0.4977        0.4728   446005    5.00%          rho_17 D  85813  85810     29\n",
      "  86860 44137        0.4864     9        0.4977        0.4728   451554    5.00%          rho_11 D  86860  86858     35\n",
      "  87957 44713        0.4936     9        0.4977        0.4728   457158    5.00%           rho_7 D  87957  87955     24\n",
      "  88934 45201        0.4785    14        0.4977        0.4728   462454    5.00%          rho_13 D  88934  88933     24\n",
      "  89860 45669        0.4747    18        0.4977        0.4728   468797    5.00%          rho_26 U  89860  89859     20\n",
      "  90991 46262        cutoff              0.4977        0.4728   473191    5.00%           rho_0 U  90991  90990     37\n",
      "  91983 46852        0.4909     9        0.4977        0.4728   478020    5.00%           rho_5 D  91983  91982     29\n",
      "  93000 47349        0.4883    11        0.4977        0.4728   483384    5.00%          rho_11 D  93000  92999     36\n",
      "  94131 47876        0.4896     9        0.4977        0.4728   487139    5.00%           rho_9 D  94131  94130     36\n",
      "Elapsed time = 40.53 sec. (69923.79 ticks, tree = 18.60 MB, solutions = 5)\n",
      "  95151 48348        0.4885     7        0.4977        0.4728   492679    5.00%          rho_28 D  95151  95150     39\n",
      "  96230 48913        0.4941     7        0.4977        0.4728   498306    5.00%          rho_11 U  96230  96228     54\n",
      "  97390 49458        0.4787    14        0.4977        0.4728   502535    5.00%           rho_5 U  97390  97376     19\n",
      "  98723 50092        0.4932     9        0.4977        0.4728   508429    5.00%           rho_8 U  98723  98721     58\n",
      "  99988 50788        0.4871    11        0.4977        0.4728   513784    5.00%           rho_0 U  99988  99987     26\n",
      " 101100 51321        0.4905     9        0.4977        0.4728   519602    5.00%          rho_27 U 101100 101098     25\n",
      " 102288 51851        0.4914     3        0.4977        0.4728   525623    5.00%           rho_7 D 102288 102286     37\n",
      " 103632 52491        0.4850     7        0.4977        0.4728   531341    5.00%          rho_19 D 103632 103630     33\n",
      " 104860 53160        0.4874    10        0.4977        0.4728   537866    5.00%          rho_11 U 104860 104858     49\n",
      " 105844 53761        0.4744    14        0.4977        0.4728   542603    5.00%           rho_3 D 105844 105843     28\n",
      "Elapsed time = 46.09 sec. (79470.42 ticks, tree = 20.74 MB, solutions = 5)\n",
      " 106790 54427        0.4780    12        0.4977        0.4728   547790    5.00%           rho_2 D 106790 106789     57\n",
      " 107721 55002        0.4786    13        0.4977        0.4728   552821    5.00%          rho_11 U 107721 107719     59\n",
      " 108691 55592        cutoff              0.4977        0.4728   557547    5.00%           rho_0 U 108691 108690     28\n",
      " 109584 56100        0.4894     7        0.4977        0.4728   562656    5.00%           rho_2 D 109584 109582     49\n",
      " 110626 56795        0.4914     6        0.4977        0.4728   566339    5.00%           rho_0 D 110626 110624     62\n",
      " 111631 57318        0.4728    11        0.4977        0.4728   571635    5.00%           rho_8 U 111631 111624     39\n",
      " 112633 57837        0.4951     8        0.4977        0.4728   576679    5.00%          rho_10 U 112633 112631     34\n",
      " 113618 58419        0.4950     3        0.4977        0.4728   581682    5.00%           rho_7 D 113618 113617     24\n",
      " 114624 58941        0.4924     4        0.4977        0.4728   586810    5.00%           rho_0 D 114624 114623     38\n",
      " 118623 61308        cutoff              0.4977        0.4728   607170    5.00%          rho_14 U 118623 118622     51\n",
      "Elapsed time = 52.38 sec. (91872.31 ticks, tree = 23.49 MB, solutions = 5)\n",
      " 122873 63240        0.4893     8        0.4977        0.4728   626769    5.00%           rho_8 U 122873 122834     31\n",
      " 126953 65319        0.4797    11        0.4977        0.4728   648230    5.00%          rho_26 D 126953 126952     19\n",
      " 131231 67584        0.4728    18        0.4977        0.4728   666035    5.00%          rho_16 D 131231  61689     19\n",
      " 135280 69761        cutoff              0.4977        0.4728   684106    5.00%          rho_11 D 135280 135279    101\n",
      " 139270 71892        0.4946     6        0.4977        0.4728   702653    5.00%           rho_9 U 139270 139268    103\n",
      " 143185 74005        0.4962     5        0.4977        0.4728   723516    5.00%          rho_24 D 143185 143184     46\n",
      " 147255 76192        0.4919     7        0.4977        0.4728   742287    5.00%          rho_19 D 147255 147253     22\n",
      " 152008 78256        0.4845    11        0.4977        0.4728   763093    5.00%           rho_0 U 152008 152007     40\n",
      " 156296 80527        cutoff              0.4977        0.4728   781773    5.00%           rho_7 U 156296 156295     53\n",
      " 159810 82482        0.4898     8        0.4977        0.4728   800771    5.00%           rho_6 D 159810 159808     19\n",
      "Elapsed time = 78.17 sec. (130026.79 ticks, tree = 34.14 MB, solutions = 5)\n",
      " 163640 84610        0.4792    15        0.4977        0.4728   820079    5.00%           rho_0 U 163640 163638     31\n",
      " 167447 86631        cutoff              0.4977        0.4728   840142    5.00%          rho_27 D 167447 167446     22\n",
      "*168000+84785                            0.4967        0.4728             4.81%\n",
      " 171306 86700        0.4750    14        0.4967        0.4728   858262    4.81%           rho_5 U 171306 171289     19\n",
      " 175129 88776        cutoff              0.4967        0.4728   877351    4.81%          rho_11 U 175129 175128     45\n",
      " 179174 90974        0.4798     9        0.4967        0.4728   895319    4.81%           rho_2 U 179174 179173     25\n",
      " 183004 93124        0.4951     5        0.4967        0.4728   915226    4.81%          rho_17 D 183004 183002     29\n",
      " 186738 95007        0.4776    17        0.4967        0.4728   934668    4.81%           rho_5 U 186738 186406     29\n",
      " 190910 97016        0.4840    10        0.4967        0.4728   954607    4.81%          rho_26 U 190910 190825     55\n",
      " 194739 99170        0.4803    10        0.4967        0.4728   973090    4.81%          rho_11 D 194739 194738     27\n",
      " 198730 101248        0.4756    18        0.4967        0.4728   991214    4.81%           rho_0 D 198730  15225     18\n",
      "Elapsed time = 112.89 sec. (168184.02 ticks, tree = 41.20 MB, solutions = 6)\n",
      " 202944 103363        0.4728    12        0.4967        0.4728  1010490    4.81%           rho_0 D 202944 202942     25\n",
      " 206860 105561        0.4851     9        0.4967        0.4728  1028788    4.81%           rho_0 U 206860 206859     38\n",
      " 210773 107596        cutoff              0.4967        0.4728  1047323    4.81%          rho_19 U 210773 210772     31\n",
      " 214509 109607        0.4914    11        0.4967        0.4728  1067485    4.81%          rho_18 D 214509 214508     23\n",
      " 218310 111700        0.4877    10        0.4967        0.4728  1087203    4.81%           rho_8 U 218310 218308     30\n",
      " 222135 113730        0.4964     8        0.4967        0.4728  1105412    4.81%          rho_28 N 222135 222134     52\n",
      " 226004 115681        0.4966     4        0.4967        0.4728  1123026    4.81%          rho_11 U 226004 226002     54\n",
      " 229870 117583        0.4897     6        0.4967        0.4728  1143181    4.81%          rho_10 D 229870 229868     59\n",
      " 233829 119666        0.4736    20        0.4967        0.4728  1160621    4.81%          rho_18 U 233829 162314     10\n",
      " 238008 121621        cutoff              0.4967        0.4728  1182589    4.81%          rho_16 U 238008 238007     24\n",
      "Elapsed time = 153.56 sec. (206339.88 ticks, tree = 48.86 MB, solutions = 6)\n",
      " 241584 123620        0.4862    11        0.4967        0.4728  1202776    4.81%          rho_19 D 241584 241583     32\n",
      " 245046 125401        cutoff              0.4967        0.4728  1221836    4.81%           rho_7 N 245046 245045     25\n",
      " 248603 127328        0.4801    13        0.4967        0.4728  1242425    4.81%           rho_0 D 248603 248601     21\n",
      " 252180 129289        cutoff              0.4967        0.4728  1261397    4.81%           rho_0 U 252180 252178     96\n",
      " 255832 131189        0.4963     7        0.4967        0.4728  1280505    4.81%           rho_3 N 255832 255831     40\n",
      " 260852 133467        0.4728    15        0.4967        0.4728  1299960    4.80%           rho_0 U 260852 213535     33\n",
      " 264453 135524        cutoff              0.4967        0.4729  1316296    4.78%           rho_7 U 264453 264452     45\n",
      " 268078 137826        0.4852     5        0.4967        0.4730  1330363    4.77%          rho_10 D 268078 268076     37\n",
      " 271668 139727        0.4915     5        0.4967        0.4730  1345197    4.76%           rho_3 D 271668 271667     43\n",
      " 275696 141407        cutoff              0.4967        0.4731  1360855    4.75%          rho_29 U 275696 275694     71\n",
      "Elapsed time = 196.59 sec. (244492.56 ticks, tree = 59.34 MB, solutions = 6)\n",
      "\n",
      "Gomory fractional cuts applied:  1\n",
      "User cuts applied:  1426\n",
      "\n",
      "Root node processing (before b&c):\n",
      "  Real time             =    0.11 sec. (2.44 ticks)\n",
      "Sequential b&c:\n",
      "  Real time             =  199.91 sec. (247609.55 ticks)\n",
      "                          ------------\n",
      "Total (root+branch&cut) =  200.02 sec. (247611.99 ticks)\n",
      "+----------------------------------------------+------------------+-----------+\n",
      "| Pr(Y = +1) = 1.0/(1.0 + exp(-(-3 + score))   |                  |           |\n",
      "| ============================================ | ================ | ========= |\n",
      "| age_at_current_charge<=18.0                  |         1 points |   + ..... |\n",
      "| p_prison>=1                                  |         1 points |   + ..... |\n",
      "| three_year>=1                                |         1 points |   + ..... |\n",
      "| current_violence>=1                          |         1 points |   + ..... |\n",
      "| ============================================ | ================ | ========= |\n",
      "| ADD POINTS FROM ROWS 1 to 4                  |            SCORE |   = ..... |\n",
      "+----------------------------------------------+------------------+-----------+\n"
     ]
    }
   ],
   "source": [
    "riskslim_summary = slim.risk_cv(sub_KY_X, KY_Y, sub_FL_X, FL_Y, \n",
    "                                y_label = 'general2', \n",
    "                                max_coef = 20, \n",
    "                                max_coef_number = 10, \n",
    "                                max_runtime=200, \n",
    "                                c=1e-3, \n",
    "                                seed=816)"
   ]
  },
  {
   "cell_type": "code",
   "execution_count": 23,
   "metadata": {},
   "outputs": [
    {
     "data": {
      "text/plain": [
       "[0.7031997752053945]"
      ]
     },
     "execution_count": 23,
     "metadata": {},
     "output_type": "execute_result"
    }
   ],
   "source": [
    "riskslim_summary['KY_auc']"
   ]
  },
  {
   "cell_type": "code",
   "execution_count": 28,
   "metadata": {},
   "outputs": [
    {
     "name": "stdout",
     "output_type": "stream",
     "text": [
      "Stored 'summary_violent2_fl_inter_model' (dict)\n"
     ]
    }
   ],
   "source": [
    "#### save results\n",
    "summary_violent2_fl_inter_model = {\"CART\": cart_summary,\n",
    "                                    \"EBM\": ebm_summary,\n",
    "                                    \"Stumps\": stumps_summary,\n",
    "                                    \"RiskSLIM\": riskslim_summary}\n",
    "%store summary_violent2_fl_inter_model"
   ]
  },
  {
   "cell_type": "code",
   "execution_count": 27,
   "metadata": {},
   "outputs": [],
   "source": [
    "path = \"C:\\\\Users\\\\binha\\\\Documents\\\\Duke\\\\Cynthia Research\\\\KY-analysis-mytrials\\\\KY Recidivism\\\\KY Results\\\\KY_FL\\\\FL Model\\\\interpretable\\\\Two Year\\\\\"\n",
    "results = [[\"Violent\",             \n",
    "            round(cart_summary['KY_score'],3), \n",
    "            round(ebm_summary['KY_score'], 3), \n",
    "            round(stumps_summary['KY_score'],3), \n",
    "            round(riskslim_summary['KY_auc'][0], 3)]]\n",
    "with open(path + 'Two Year FL_inter_model.csv', 'a') as writeFile:\n",
    "    writer = csv.writer(writeFile)\n",
    "    writer.writerows(results)"
   ]
  }
 ],
 "metadata": {
  "kernelspec": {
   "display_name": "Python 3",
   "language": "python",
   "name": "python3"
  },
  "language_info": {
   "codemirror_mode": {
    "name": "ipython",
    "version": 3
   },
   "file_extension": ".py",
   "mimetype": "text/x-python",
   "name": "python",
   "nbconvert_exporter": "python",
   "pygments_lexer": "ipython3",
   "version": "3.7.4"
  }
 },
 "nbformat": 4,
 "nbformat_minor": 4
}
