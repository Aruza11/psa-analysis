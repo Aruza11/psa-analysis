{
 "cells": [
  {
   "cell_type": "code",
   "execution_count": 2,
   "metadata": {},
   "outputs": [],
   "source": [
    "import pandas as pd \n",
    "import numpy as np\n",
    "import csv\n",
    "import advance_functions as advance\n",
    "import stumps\n",
    "from sklearn.model_selection import KFold\n",
    "from sklearn.metrics import roc_curve, auc"
   ]
  },
  {
   "cell_type": "code",
   "execution_count": 3,
   "metadata": {},
   "outputs": [],
   "source": [
    "### KY data\n",
    "KY_data = pd.read_csv(\"~/Documents/Duke/Cynthia Research/KY-analysis-mytrials/KY Recidivism/KY data/kentucky_data.csv\")\n",
    "KY_data = KY_data.drop(['PersonID', 'screening_date','ADE', 'Treatment','p_assault','p_pending_charge','fta_risk_score_raw',\n",
    "                        'nca_risk_score_raw', 'pvf_risk_score_raw', 'fta_calc', 'nca_calc', 'pvf_calc', \n",
    "                        'recid_traffic_two_year', 'recid_traffic_six_month'], axis=1)\n",
    "\n",
    "KY_X = KY_data.loc[:,:'current_violence']\n",
    "KY_Y = KY_data['recid_two_year'].values"
   ]
  },
  {
   "cell_type": "code",
   "execution_count": 4,
   "metadata": {},
   "outputs": [],
   "source": [
    "### FL data\n",
    "FL_data = pd.read_csv(\"~/Documents/Duke/Cynthia Research/KY-analysis-mytrials/broward/data/broward_data.csv\")\n",
    "FL_data = FL_data.drop(['person_id', 'screening_date','p_age_first_offense', 'p_famviol_arrest', 'p_juv_fel_count', 'p_domestic',\n",
    "                        'current_violent20', 'pending_charge', 'total_convictions', 'years_since_last_crime'], axis=1)\n",
    "\n",
    "FL_data.columns = ['Gender', 'age_at_current_charge', 'p_charges', 'p_jail30', 'p_prison', \n",
    "                   'p_probation', 'p_felprop_viol','p_murder', \n",
    "                   'p_felassult', 'p_misdeassult', 'p_sex_offense', \n",
    "                   'p_weapon', 'p_fta_two_year', 'p_fta_two_year_plus', \n",
    "                   'current_violence', 'p_felony', 'p_misdemeanor', \n",
    "                   'p_violence', 'p_arrest', 'p_property', 'p_traffic', 'p_drug', \n",
    "                   'p_dui', 'p_stalking', 'p_voyeurism', 'p_fraud', 'p_stealing', \n",
    "                   'p_trespass', 'six_month', 'one_year', 'three_year', 'five_year', \n",
    "                   'recid_two_year', 'recid_six_month', 'recid_drug_two_year', 'recid_property_two_year',\n",
    "                   'recid_M_two_year', 'recid_F_two_year', 'recid_violent_two_year', 'recid_drug_six_month',\n",
    "                   'recid_property_six_month', 'recid_M_six_month', 'recid_F_six_month', 'recid_violent_six_month']\n",
    "\n",
    "reorder = ['Gender', 'age_at_current_charge', 'p_arrest', 'p_charges',\n",
    "       'p_violence', 'p_felony', 'p_misdemeanor', 'p_property', 'p_murder',\n",
    "       'p_sex_offense', 'p_weapon', 'p_felprop_viol', 'p_felassult',\n",
    "       'p_misdeassult', 'p_traffic', 'p_drug', 'p_dui', 'p_stalking',\n",
    "       'p_voyeurism', 'p_fraud', 'p_stealing', 'p_trespass', 'p_prison',\n",
    "       'p_jail30', 'p_fta_two_year', 'p_fta_two_year_plus', 'p_probation',\n",
    "       'six_month', 'one_year', 'three_year', 'five_year', 'current_violence',\n",
    "       'recid_two_year', 'recid_drug_two_year', 'recid_violence_two_year',\n",
    "       'recid_F_two_year', 'recid_M_two_year', 'recid_property_two_year',\n",
    "       'recid_six_month', 'recid_drug_six_month', 'recid_violence_six_month',\n",
    "       'recid_F_six_month', 'recid_M_six_month', 'recid_property_six_month']\n",
    "\n",
    "FL_data = FL_data.reindex(columns=reorder)\n",
    "FL_X = FL_data.loc[:,:'current_violence']\n",
    "FL_Y = FL_data['recid_two_year'].values"
   ]
  },
  {
   "cell_type": "markdown",
   "metadata": {},
   "source": [
    "### EBM"
   ]
  },
  {
   "cell_type": "code",
   "execution_count": null,
   "metadata": {},
   "outputs": [],
   "source": [
    "#### GAM\n",
    "estimators = [80]\n",
    "depth = [2]\n",
    "learning_rate = [0.3]\n",
    "ebm_auc, ebm_std, ebm_auc_diff, ebm_param, ebm_FL_score = advance.EBM(KY_X,KY_Y, FL_X, FL_Y,learning_rate,depth,estimators,816)"
   ]
  },
  {
   "cell_type": "markdown",
   "metadata": {},
   "source": [
    "### Lasso Stumps"
   ]
  },
  {
   "cell_type": "code",
   "execution_count": null,
   "metadata": {},
   "outputs": [],
   "source": [
    "## load stumps data\n",
    "data = pd.read_csv(\"~/Documents/Duke/Cynthia Research/KY-analysis-mytrials/KY Recidivism/KY data/kentucky_stumps.csv\")\n",
    "X_stumps, Y_stumps = data.loc[:,:'current_violence>=1'], data['recid_two_year'].values\n",
    "Y_stumps[Y_stumps == -1] = 0\n",
    "cols = data.columns[:-14]"
   ]
  },
  {
   "cell_type": "code",
   "execution_count": null,
   "metadata": {},
   "outputs": [],
   "source": [
    "### stumps model\n",
    "alpha = [0.001]\n",
    "Stump = stumps.stump_features(X_stumps, Y_stumps, cols, alpha, 816)"
   ]
  },
  {
   "cell_type": "markdown",
   "metadata": {},
   "source": [
    "### Results"
   ]
  },
  {
   "cell_type": "code",
   "execution_count": 9,
   "metadata": {},
   "outputs": [],
   "source": [
    "results = [[\"AdaBoost\", ada_auc, ada_auc_diff, ada_param],\n",
    "           [\"EBM\", ebm_auc, ebm_auc_diff, ebm_param], \n",
    "           ['Lasso Stumps', round(np.mean(Stump['test_auc']),3), round(np.std(Stump['test_auc']),3)], \n",
    "           ['Arnold PSA Raw', round(np.mean(raw_auc), 3), round(np.std(raw_auc), 3)], \n",
    "           ['Arnold PSA', round(np.mean(calc_auc), 3), round(np.std(calc_auc), 3)]]"
   ]
  },
  {
   "cell_type": "code",
   "execution_count": 10,
   "metadata": {},
   "outputs": [
    {
     "data": {
      "text/plain": [
       "[['AdaBoost',\n",
       "  0.7378145162357288,\n",
       "  0.0016431431438883592,\n",
       "  {'learning_rate': 1, 'n_estimators': 90}],\n",
       " ['EBM',\n",
       "  0.7371276615810134,\n",
       "  0.0033369533038599686,\n",
       "  {'learning_rate': 0.3, 'max_tree_splits': 2, 'n_estimators': 80}]]"
      ]
     },
     "execution_count": 10,
     "metadata": {},
     "output_type": "execute_result"
    }
   ],
   "source": [
    "results"
   ]
  },
  {
   "cell_type": "code",
   "execution_count": 7,
   "metadata": {},
   "outputs": [],
   "source": [
    "path = \"C:/Users/binha/Documents/Duke/Cynthia Research/KY-analysis-mytrials/KY Recidivism/KY Results/Models/Two Year/\"\n",
    "results = [[\"\", \"AdaBoost\", \"std\", \"EBM\", \"std\", \"Lasso Stumps\", \"std\", \"Arnold PSA Raw\", \"std\", \"Arnold PSA\", \"std\"],\n",
    "           [\"Two Year Recidivism\", round(ada_auc,3), round(ada_std, 3), round(ebm_auc,3), round(ebm_std, 3), round(np.mean(Stump['test_auc']),3), round(np.std(Stump['test_auc']),3), round(np.mean(raw_auc), 3), round(np.std(raw_auc), 3), round(np.mean(calc_auc), 3), round(np.std(calc_auc), 3)]]\n",
    "with open(path + 'Two Year Models Summary.csv', 'w') as writeFile:\n",
    "    writer = csv.writer(writeFile)\n",
    "    writer.writerows(results)"
   ]
  }
 ],
 "metadata": {
  "kernelspec": {
   "display_name": "Python 3",
   "language": "python",
   "name": "python3"
  },
  "language_info": {
   "codemirror_mode": {
    "name": "ipython",
    "version": 3
   },
   "file_extension": ".py",
   "mimetype": "text/x-python",
   "name": "python",
   "nbconvert_exporter": "python",
   "pygments_lexer": "ipython3",
   "version": "3.7.0"
  }
 },
 "nbformat": 4,
 "nbformat_minor": 2
}
