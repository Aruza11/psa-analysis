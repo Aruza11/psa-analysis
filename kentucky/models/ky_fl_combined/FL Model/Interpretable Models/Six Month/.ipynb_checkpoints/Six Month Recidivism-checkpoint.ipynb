{
 "cells": [
  {
   "cell_type": "code",
   "execution_count": 3,
   "metadata": {},
   "outputs": [
    {
     "name": "stdout",
     "output_type": "stream",
     "text": [
      "no stored variable summary_general6_fl_inter_model\n"
     ]
    }
   ],
   "source": [
    "import pandas as pd \n",
    "import numpy as np\n",
    "import csv\n",
    "import advance_functions as advance\n",
    "import RiskSLIM as slim\n",
    "import stumps\n",
    "from sklearn.linear_model import LogisticRegression\n",
    "from riskslim.helper_functions import load_data_from_csv, print_model\n",
    "\n",
    "# restore saved variables\n",
    "%store -r summary_general6_fl_inter_model"
   ]
  },
  {
   "cell_type": "markdown",
   "metadata": {},
   "source": [
    "### EBM & CART"
   ]
  },
  {
   "cell_type": "code",
   "execution_count": 4,
   "metadata": {},
   "outputs": [],
   "source": [
    "KY_data = pd.read_csv(\"~/Documents/Duke/Cynthia Research/psa-analysis - test/kentucky/models/ky_fl_combined/data preparation/KY_cleaned\")\n",
    "FL_data = pd.read_csv(\"~/Documents/Duke/Cynthia Research/psa-analysis - test/kentucky/models/ky_fl_combined/data preparation/FL_cleaned\")\n",
    "\n",
    "## split x and y \n",
    "KY_X = KY_data.loc[:,:'current_violence']\n",
    "KY_Y = KY_data['recid_six_month'].values\n",
    "FL_X = FL_data.loc[:,:'current_violence']\n",
    "FL_Y = FL_data['recid_six_month'].values"
   ]
  },
  {
   "cell_type": "code",
   "execution_count": 5,
   "metadata": {},
   "outputs": [],
   "source": [
    "#### CART\n",
    "depth = [1,2]\n",
    "impurity = [0.001, 0.003]\n",
    "split = [2,3,4]\n",
    "cart_summary = advance.CART(KY_X, KY_Y, FL_X, FL_Y, depth, split, impurity, seed=816)\n",
    "\n",
    "### EBM\n",
    "estimators = [40,60,80]\n",
    "depth = [1]\n",
    "learning_rate = [0.05]\n",
    "holdout_split = [0.7, 0.9]\n",
    "ebm_summary = advance.EBM(KY_X, KY_Y, FL_X, FL_Y, learning_rate, depth, estimators, holdout_split, seed=816)"
   ]
  },
  {
   "cell_type": "code",
   "execution_count": 15,
   "metadata": {},
   "outputs": [
    {
     "data": {
      "text/plain": [
       "(0.554246143512394, 0.6513989450017987)"
      ]
     },
     "execution_count": 15,
     "metadata": {},
     "output_type": "execute_result"
    }
   ],
   "source": [
    "cart_summary['KY_score'], ebm_summary['KY_score']"
   ]
  },
  {
   "cell_type": "markdown",
   "metadata": {},
   "source": [
    "### Lasso Stumps"
   ]
  },
  {
   "cell_type": "code",
   "execution_count": 6,
   "metadata": {},
   "outputs": [],
   "source": [
    "KY_stumps = pd.read_csv(\"~/Documents/Duke/Cynthia Research/psa-analysis - test/kentucky/models/ky_fl_combined/data preparation/KY_stumps\")\n",
    "FL_stumps = pd.read_csv(\"~/Documents/Duke/Cynthia Research/psa-analysis - test/kentucky/models/ky_fl_combined/data preparation/FL_stumps\")\n",
    "\n",
    "## split x and y \n",
    "KY_X = KY_stumps.loc[:,:'current_violence>=1']\n",
    "KY_Y = KY_stumps['recid_six_month'].values\n",
    "FL_X = FL_stumps.loc[:,:'current_violence>=1']\n",
    "FL_Y = FL_stumps['recid_six_month'].values\n",
    "\n",
    "## columns \n",
    "cols = KY_X.columns"
   ]
  },
  {
   "cell_type": "code",
   "execution_count": 11,
   "metadata": {},
   "outputs": [],
   "source": [
    "c_grid = {'C': [0.09, 0.11, 0.13, 0.15]}\n",
    "stumps_summary = stumps.stump_cv(KY_X, KY_Y, FL_X, FL_Y, cols, c_grid, seed=816)"
   ]
  },
  {
   "cell_type": "code",
   "execution_count": 12,
   "metadata": {},
   "outputs": [
    {
     "data": {
      "text/plain": [
       "{'best_auc': 0.6115419971048976,\n",
       " 'best_params': {'C': 0.13},\n",
       " 'auc_diffs': 0.044790668976145476,\n",
       " 'KY_score': 0.6408958820477442}"
      ]
     },
     "execution_count": 12,
     "metadata": {},
     "output_type": "execute_result"
    }
   ],
   "source": [
    "stumps_summary"
   ]
  },
  {
   "cell_type": "markdown",
   "metadata": {},
   "source": [
    "### RiskSLIM"
   ]
  },
  {
   "cell_type": "code",
   "execution_count": 13,
   "metadata": {},
   "outputs": [
    {
     "data": {
      "text/plain": [
       "25"
      ]
     },
     "execution_count": 13,
     "metadata": {},
     "output_type": "execute_result"
    }
   ],
   "source": [
    "## train on best param chosen by Lasso Stumps from above\n",
    "lasso = LogisticRegression(class_weight='balanced', solver='liblinear', penalty='l1', C=0.13, random_state=816).fit(FL_X, FL_Y)\n",
    "selected_features = cols[lasso.coef_[0] != 0].tolist()\n",
    "len(selected_features)"
   ]
  },
  {
   "cell_type": "code",
   "execution_count": 14,
   "metadata": {},
   "outputs": [],
   "source": [
    "### Subset features\n",
    "sub_FL_X = FL_stumps.loc[:, selected_features]\n",
    "sub_KY_X = KY_stumps.loc[:, selected_features]\n",
    "sub_FL_X.insert(0, '(Intercept)', 1)"
   ]
  },
  {
   "cell_type": "code",
   "execution_count": 15,
   "metadata": {
    "scrolled": true
   },
   "outputs": [
    {
     "name": "stdout",
     "output_type": "stream",
     "text": [
      "setting c0 = 0.0 to ensure that intercept is not penalized\n",
      "09/17/19 @ 01:18 PM | 1101 rows in lookup table\n",
      "09/17/19 @ 01:18 PM | ------------------------------------------------------------\n",
      "09/17/19 @ 01:18 PM | runnning initialization procedure\n",
      "09/17/19 @ 01:18 PM | ------------------------------------------------------------\n",
      "09/17/19 @ 01:18 PM | CPA produced 2 cuts\n",
      "09/17/19 @ 01:18 PM | running naive rounding on 60 solutions\n",
      "09/17/19 @ 01:18 PM | best objective value: 0.5025\n",
      "09/17/19 @ 01:18 PM | rounding produced 4 integer solutions\n",
      "09/17/19 @ 01:18 PM | best objective value is 0.5355\n",
      "09/17/19 @ 01:18 PM | running sequential rounding on 60 solutions\n",
      "09/17/19 @ 01:18 PM | best objective value: 0.5025\n",
      "09/17/19 @ 01:18 PM | sequential rounding produced 6 integer solutions\n",
      "09/17/19 @ 01:18 PM | best objective value: 0.5193\n",
      "09/17/19 @ 01:18 PM | polishing 10 solutions\n",
      "09/17/19 @ 01:18 PM | best objective value: 0.5193\n",
      "09/17/19 @ 01:18 PM | polishing produced 5 integer solutions\n",
      "09/17/19 @ 01:18 PM | initialization produced 13 feasible solutions\n",
      "09/17/19 @ 01:18 PM | best objective value: 0.5184\n",
      "09/17/19 @ 01:18 PM | ------------------------------------------------------------\n",
      "09/17/19 @ 01:18 PM | completed initialization procedure\n",
      "09/17/19 @ 01:18 PM | ------------------------------------------------------------\n",
      "09/17/19 @ 01:18 PM | 1101 rows in lookup table\n",
      "CPXPARAM_Read_DataCheck                          1\n",
      "CPXPARAM_Threads                                 1\n",
      "CPXPARAM_Parallel                                1\n",
      "CPXPARAM_RandomSeed                              0\n",
      "CPXPARAM_TimeLimit                               200\n",
      "CPXPARAM_MIP_Tolerances_LowerCutoff              0.50009488733303986\n",
      "CPXPARAM_MIP_Tolerances_UpperCutoff              0.51840456381915845\n"
     ]
    },
    {
     "name": "stderr",
     "output_type": "stream",
     "text": [
      "Warning: Control callbacks may disable some MIP features.\n"
     ]
    },
    {
     "name": "stdout",
     "output_type": "stream",
     "text": [
      "Lazy constraint(s) or lazy constraint callback is present.\n",
      "    Disabling dual reductions (CPX_PARAM_REDUCE) in presolve.\n",
      "    Disabling non-linear reductions (CPX_PARAM_PRELINEAR) in presolve.\n",
      "         Disabling repeat represolve because of lazy constraint/incumbent callback.\n",
      "09/17/19 @ 01:18 PM | adding 234 initial cuts\n",
      "1 of 1 MIP starts provided solutions.\n",
      "MIP start 'mip_start_0' defined initial solution with objective 0.5184.\n",
      "Tried aggregator 1 time.\n",
      "Reduced MIP has 27 rows, 54 columns, and 103 nonzeros.\n",
      "Reduced MIP has 25 binaries, 27 generals, 0 SOSs, and 0 indicators.\n",
      "Presolve time = 0.00 sec. (0.06 ticks)\n",
      "Probing time = 0.00 sec. (0.02 ticks)\n",
      "MIP emphasis: balance optimality and feasibility.\n",
      "MIP search method: traditional branch-and-cut.\n",
      "Parallel mode: none, using 1 thread.\n",
      "Root relaxation solution time = 0.00 sec. (0.03 ticks)\n",
      "\n",
      "        Nodes                                         Cuts/\n",
      "   Node  Left     Objective  IInf  Best Integer    Best Bound    ItCnt     Gap         Variable B NodeID Parent  Depth\n",
      "\n",
      "*     0+    0                            0.5184        0.4901             5.46%\n",
      "      0     0        0.5001     1        0.5184        0.5001        1    3.53%\n",
      "      0     0        0.5001     1        0.5184      Fract: 1        3    3.53%\n",
      "      0     0        0.5001     1        0.5184      Fract: 1        4    3.53%\n",
      "      0     2        0.5001     2        0.5184        0.5001        4    3.53%                        0             0\n",
      "Elapsed time = 0.19 sec. (1.92 ticks, tree = 0.01 MB, solutions = 1)\n",
      "   2913  1360        0.5001     7        0.5184        0.5001    11299    3.53%           rho_0 U   2913   2911     15\n",
      "   4777  2077        cutoff              0.5184        0.5001    18844    3.53%          rho_13 D   4777   4776     41\n",
      "   6420  2723        0.5146     5        0.5184        0.5001    25847    3.53%          rho_16 D   6420   6419     16\n",
      "   7910  3415        0.5092     0        0.5184        0.5001    31993    3.53%          rho_13 D   7910   7908     26\n",
      "   9399  4136        0.5112     5        0.5184        0.5001    37994    3.53%          rho_18 D   9399   9398     13\n",
      "  10790  4858        0.5071     6        0.5184        0.5001    43001    3.53%          rho_13 U  10790  10788     71\n",
      "  12187  5589        cutoff              0.5184        0.5001    47983    3.53%          rho_14 U  12187  12186     26\n",
      "  13740  6423        0.5006     6        0.5184        0.5001    53291    3.53%          rho_12 D  13740  13739     21\n",
      "  15475  7177        cutoff              0.5184        0.5001    57531    3.53%           rho_0 U  15475  15474     33\n",
      "  21350  9920        0.5058    11        0.5184        0.5001    77583    3.53%           rho_8 D  21350  21349     41\n",
      "Elapsed time = 6.30 sec. (3104.23 ticks, tree = 2.92 MB, solutions = 1)\n",
      "  26524 12595        0.5008    13        0.5184        0.5001    96381    3.53%           rho_8 D  26524  26522     26\n",
      "  31293 15093        0.5015    15        0.5184        0.5001   113416    3.53%           rho_0 D  31293  31291     48\n",
      "  36006 17534        0.5070     8        0.5184        0.5001   128541    3.53%           rho_0 D  36006  36004     40\n",
      "  40910 20362        0.5083     9        0.5184        0.5001   142622    3.53%           rho_9 D  40910  40909     17\n",
      "  45656 23112        0.5027    10        0.5184        0.5001   158561    3.53%          rho_13 D  45656  45654     29\n",
      "  50470 25866        0.5155     7        0.5184        0.5001   174034    3.53%          rho_14 D  50470  50469     24\n",
      "  55309 28342        0.5003    16        0.5184        0.5001   188856    3.53%           rho_0 D  55309  55307     14\n",
      "  60040 31027        0.5020     9        0.5184        0.5001   203353    3.52%           rho_0 U  60040  60039     22\n",
      "  64910 34218        0.5103     7        0.5184        0.5002   216477    3.51%           rho_6 D  64910  64908    117\n",
      "  69847 37239        0.5094    11        0.5184        0.5003   229576    3.49%          rho_14 N  69847  69846     34\n",
      "Elapsed time = 23.41 sec. (12642.79 ticks, tree = 11.41 MB, solutions = 1)\n",
      "  74820 39617        cutoff              0.5184        0.5004   243764    3.47%           rho_5 U  74820  74819     29\n",
      "  80284 42474        0.5023    11        0.5184        0.5005   256922    3.46%          rho_18 D  80284  80283     22\n",
      "  85990 45267        0.5055     7        0.5184        0.5005   271623    3.45%          rho_10 U  85990  58134     20\n",
      "  92006 48027        0.5083     6        0.5184        0.5006   287780    3.44%          rho_18 D  92006  92004     66\n",
      "  97804 50983        0.5111     7        0.5184        0.5006   303046    3.43%          rho_20 D  97804  97801     74\n",
      " 102185 53556        0.5085     7        0.5184        0.5006   315885    3.43%          rho_13 U 102185 102183     70\n",
      " 107600 56072        0.5105     4        0.5184        0.5007   330468    3.42%           rho_6 D 107600 107598     64\n",
      " 112104 58654        cutoff              0.5184        0.5007   344009    3.41%           rho_4 U 112104 112103     29\n",
      " 117177 61283        0.5017     9        0.5184        0.5008   356249    3.40%           rho_7 N 117177  36709     57\n",
      " 122763 63472        0.5120     5        0.5184        0.5008   373952    3.39%           rho_2 D 122763 122762     39\n",
      "Elapsed time = 38.52 sec. (22180.85 ticks, tree = 17.58 MB, solutions = 1)\n",
      " 128634 66343        0.5055    11        0.5184        0.5008   390140    3.39%          rho_13 D 128634 128632     30\n",
      " 132935 68913        0.5019    11        0.5184        0.5009   402999    3.38%           rho_0 D 132935 116668     24\n",
      " 137509 71044        0.5026    11        0.5184        0.5010   415537    3.37%          rho_14 D 137509 101200     70\n",
      " 142320 74101        0.5070     9        0.5184        0.5010   428372    3.37%           rho_2 D 142320 142319     69\n",
      " 147026 76978        0.5109     7        0.5184        0.5010   441917    3.36%          rho_20 D 147026 147025     95\n",
      " 151683 79432        0.5130    10        0.5184        0.5011   455229    3.34%          rho_25 U 151683 151682     73\n",
      " 156277 82291        0.5132     9        0.5184        0.5011   470420    3.34%           rho_7 U 156277 156276    115\n",
      " 160838 84975        cutoff              0.5184        0.5011   485016    3.34%          rho_20 U 160838 160836    101\n",
      " 165516 87494        0.5020    10        0.5184        0.5011   500072    3.34%           rho_0 D 165516 110335     17\n",
      " 170189 90512        cutoff              0.5184        0.5011   513750    3.33%          rho_11 U 170189 170188    103\n",
      "Elapsed time = 53.92 sec. (31718.61 ticks, tree = 26.74 MB, solutions = 1)\n",
      " 174761 93418        0.5079     8        0.5184        0.5011   526896    3.33%           rho_0 U 174761 174760    113\n",
      " 179591 95272        0.5021    13        0.5184        0.5011   542894    3.33%           rho_8 U 179591 179589     75\n",
      " 184600 97907        0.5050     8        0.5184        0.5011   559756    3.33%           rho_0 U 184600 184599     77\n",
      " 188873 100641        cutoff              0.5184        0.5012   572992    3.33%           rho_0 D 188873 188872     79\n",
      " 193220 102713        0.5087     7        0.5184        0.5012   587704    3.33%           rho_7 D 193220 193219     89\n",
      " 197941 105241        0.5041    11        0.5184        0.5012   602357    3.33%          rho_12 U 197941 197940     55\n",
      " 202891 108700        0.5079     6        0.5184        0.5012   614517    3.33%          rho_20 U 202891 202890     45\n",
      " 207723 112074        0.5093     7        0.5184        0.5012   626958    3.33%           rho_6 D 207723 207722     75\n",
      " 212084 114825        0.5050     8        0.5184        0.5012   641049    3.33%           rho_0 U 212084 212083     99\n",
      " 216400 117395        0.5132     8        0.5184        0.5012   655526    3.32%          rho_20 U 216400 216399     77\n",
      "Elapsed time = 69.03 sec. (41257.62 ticks, tree = 33.07 MB, solutions = 1)\n",
      " 220779 119627        0.5031    13        0.5184        0.5012   670475    3.32%          rho_13 U 220779 220777     58\n",
      " 225740 121911        0.5030    13        0.5184        0.5012   687687    3.32%          rho_18 D 225740  98821     50\n",
      " 230870 124947        0.5085     7        0.5184        0.5012   703884    3.32%           rho_0 U 230870 230869     51\n",
      " 235464 126958        0.5140     5        0.5184        0.5012   718229    3.32%           rho_7 D 235464 235462     68\n",
      " 241686 129573        0.5012    11        0.5184        0.5012   736168    3.32%           rho_0 D 241686 241684     53\n",
      " 247020 132398        0.5059     7        0.5184        0.5013   751638    3.31%          rho_10 D 247020 247019     51\n",
      " 251465 134918        0.5152     7        0.5184        0.5013   763084    3.31%           rho_0 D 251465 251464     60\n",
      " 256090 137889        0.5139     7        0.5184        0.5013   773363    3.31%          rho_20 U 256090 256089     81\n",
      " 260680 141363        0.5112     8        0.5184        0.5013   784235    3.30%          rho_13 U 260680 260678     56\n",
      " 265700 143755        0.5034    15        0.5184        0.5013   797127    3.30%          rho_18 D 265700 265699     71\n",
      "Elapsed time = 85.55 sec. (50797.15 ticks, tree = 42.32 MB, solutions = 1)\n",
      " 270390 146758        0.5043    14        0.5184        0.5013   809305    3.30%          rho_12 U 270390 270387     60\n",
      " 275238 149617        0.5132     6        0.5184        0.5013   822007    3.30%          rho_13 U 275238 275236     34\n",
      " 280089 152685        0.5087     6        0.5184        0.5013   833096    3.30%           rho_0 U 280089 280088     43\n",
      " 284894 156014        cutoff              0.5184        0.5013   843763    3.30%          rho_20 U 284894 284893     53\n",
      " 289837 158899        0.5111     9        0.5184        0.5013   856171    3.30%          rho_10 D 289837 289835     70\n",
      " 295373 159970        0.5055     8        0.5184        0.5013   875134    3.30%          rho_20 D 295373 295371     55\n",
      " 301369 162719        0.5023    12        0.5184        0.5013   890579    3.29%          rho_13 N 301369 285932     51\n",
      " 306889 164772        0.5023    12        0.5184        0.5013   904512    3.29%           rho_0 D 306889 306887     83\n",
      " 312406 167783        0.5131     7        0.5184        0.5014   918939    3.29%          rho_18 U 312406  62332     48\n",
      " 318552 169278        0.5033    12        0.5184        0.5014   935915    3.29%          rho_13 D 318552 318551     63\n",
      "Elapsed time = 102.11 sec. (60335.59 ticks, tree = 50.17 MB, solutions = 1)\n",
      " 323760 172817        0.5024    12        0.5184        0.5014   948929    3.28%           rho_8 D 323760 323759     40\n",
      " 328340 175311        0.5037     9        0.5184        0.5014   961061    3.27%          rho_13 U 328340 328338     98\n",
      " 332960 178358        0.5024    11        0.5184        0.5014   974027    3.27%           rho_0 D 332960 332958    105\n",
      " 337790 181580        0.5024    11        0.5184        0.5014   987426    3.27%          rho_13 U 337790 337788     94\n",
      " 342799 184755        0.5024    11        0.5184        0.5014  1001100    3.27%           rho_0 D 342799 342797     52\n",
      " 347740 188662        0.5034    11        0.5184        0.5015  1012464    3.27%          rho_13 U 347740 347738    108\n",
      " 352929 191287        0.5171     9        0.5184        0.5015  1025135    3.27%          rho_13 D 352929 352928     75\n",
      " 358380 194726        0.5036    11        0.5184        0.5015  1036338    3.26%           rho_0 U 358380 358379     45\n",
      " 363300 198013        0.5024    11        0.5184        0.5015  1049687    3.26%           rho_0 D 363300 363298     97\n",
      " 368101 201238        0.5024    11        0.5184        0.5015  1064665    3.26%           rho_0 D 368101 368099     86\n",
      "Elapsed time = 117.63 sec. (69875.88 ticks, tree = 59.70 MB, solutions = 1)\n",
      " 372838 204310        0.5117     5        0.5184        0.5015  1080309    3.26%           rho_7 D 372838 372837     97\n",
      " 377924 206585        0.5054     6        0.5184        0.5015  1096359    3.26%           rho_0 N 377924 377923     84\n",
      " 383360 209638        0.5016    12        0.5184        0.5015  1111253    3.26%          rho_13 D 383360  77080     49\n",
      " 388465 212271        0.5079     9        0.5184        0.5015  1123935    3.26%           rho_2 D 388465 388464     59\n",
      " 394246 214867        0.5124     5        0.5184        0.5015  1138724    3.26%           rho_2 D 394246 394244     82\n",
      " 400355 217443        0.5054     6        0.5184        0.5015  1155422    3.25%           rho_0 U 400355 400354     50\n",
      " 405707 220858        0.5015    11        0.5184        0.5015  1168153    3.25%           rho_8 U 405707 405705     65\n",
      " 410373 223914        0.5021     8        0.5184        0.5015  1178981    3.25%          rho_16 D 410373 410372     70\n",
      " 416198 225762        0.5015    11        0.5184        0.5015  1194852    3.25%           rho_0 D 416198 416159     57\n",
      " 422817 227885        0.5080     7        0.5184        0.5015  1212465    3.25%           rho_2 D 422817 422816     32\n",
      "Elapsed time = 134.20 sec. (79414.14 ticks, tree = 68.43 MB, solutions = 1)\n",
      " 429363 229987        0.5015    11        0.5184        0.5015  1229826    3.25%          rho_12 U 429363 429349     86\n",
      " 435548 232258        0.5019     8        0.5184        0.5015  1245486    3.25%           rho_0 U 435548 435547     66\n",
      " 441639 234498        cutoff              0.5184        0.5015  1261090    3.25%          rho_13 U 441639 441638     81\n",
      " 447568 237029        cutoff              0.5184        0.5015  1280573    3.25%           rho_6 U 447568 447567     66\n",
      " 454077 238140        0.5044     8        0.5184        0.5016  1300412    3.25%           rho_8 U 454077 454075     41\n",
      " 459389 241876        0.5150     5        0.5184        0.5016  1315410    3.25%           rho_7 D 459389 459388     61\n",
      " 464170 245045        0.5114     6        0.5184        0.5016  1325815    3.25%           rho_6 D 464170 464169     76\n",
      " 469172 248360        0.5099     5        0.5184        0.5016  1337767    3.25%           rho_5 D 469172 469170     81\n",
      " 473600 251135        0.5035    11        0.5184        0.5016  1348844    3.25%           rho_0 D 473600 473598    104\n",
      " 491600 262770        0.5027    12        0.5184        0.5016  1394263    3.24%          rho_13 D 491600 491599     62\n",
      "Elapsed time = 153.63 sec. (91814.64 ticks, tree = 76.76 MB, solutions = 1)\n",
      " 511041 276447        0.5025    11        0.5184        0.5016  1440239    3.24%          rho_13 U 511041 511039     54\n",
      " 530908 286570        0.5086     8        0.5184        0.5016  1497221    3.24%          rho_25 U 530908 234770     54\n",
      " 550642 297684        0.5025    11        0.5184        0.5016  1548850    3.23%           rho_0 D 550642 550640     69\n",
      " 569676 309680        0.5099     5        0.5184        0.5016  1599246    3.23%          rho_24 D 569676 569674     71\n",
      " 588893 321403        0.5114     7        0.5184        0.5016  1649791    3.23%           rho_6 D 588893 588890     89\n",
      " 610000 330806        0.5072     7        0.5184        0.5017  1724820    3.23%           rho_2 D 610000 609998     62\n",
      " 631800 339477        0.5089    11        0.5184        0.5017  1796070    3.23%          rho_12 U 631800 631798     73\n",
      " 648250 351294        0.5078     7        0.5184        0.5017  1838205    3.23%          rho_16 D 648250 648249     69\n",
      " 666684 365327        0.5027     9        0.5184        0.5017  1880719    3.22%           rho_0 U 666684 666683     93\n",
      "\n",
      "Gomory fractional cuts applied:  1\n",
      "User cuts applied:  293\n",
      "\n",
      "Root node processing (before b&c):\n",
      "  Real time             =    0.17 sec. (1.94 ticks)\n",
      "Sequential b&c:\n",
      "  Real time             =  199.84 sec. (126505.23 ticks)\n",
      "                          ------------\n",
      "Total (root+branch&cut) =  200.02 sec. (126507.18 ticks)\n",
      "+----------------------------------------------+------------------+-----------+\n",
      "| Pr(Y = +1) = 1.0/(1.0 + exp(-(-2 + score))   |                  |           |\n",
      "| ============================================ | ================ | ========= |\n",
      "| three_year>=1                                |         1 points |   + ..... |\n",
      "| ============================================ | ================ | ========= |\n",
      "| ADD POINTS FROM ROWS 1 to 1                  |            SCORE |   = ..... |\n",
      "+----------------------------------------------+------------------+-----------+\n"
     ]
    }
   ],
   "source": [
    "riskslim_summary = slim.risk_cv(sub_KY_X, KY_Y, sub_FL_X, FL_Y, \n",
    "                                y_label = 'general2', \n",
    "                                max_coef = 20, \n",
    "                                max_coef_number = 10, \n",
    "                                max_runtime=200, \n",
    "                                c=1e-3, \n",
    "                                seed=816)"
   ]
  },
  {
   "cell_type": "code",
   "execution_count": 16,
   "metadata": {},
   "outputs": [
    {
     "data": {
      "text/plain": [
       "[0.6319598294137343]"
      ]
     },
     "execution_count": 16,
     "metadata": {},
     "output_type": "execute_result"
    }
   ],
   "source": [
    "riskslim_summary['KY_auc']"
   ]
  },
  {
   "cell_type": "code",
   "execution_count": 17,
   "metadata": {},
   "outputs": [
    {
     "name": "stdout",
     "output_type": "stream",
     "text": [
      "Stored 'summary_general6_fl_inter_model' (dict)\n"
     ]
    }
   ],
   "source": [
    "#### save results\n",
    "summary_general6_fl_inter_model = {\"CART\": cart_summary,\n",
    "                                    \"EBM\": ebm_summary,\n",
    "                                    \"Stumps\": stumps_summary,\n",
    "                                    \"RiskSLIM\": riskslim_summary}\n",
    "%store summary_general6_fl_inter_model"
   ]
  },
  {
   "cell_type": "code",
   "execution_count": 18,
   "metadata": {},
   "outputs": [],
   "source": [
    "path = \"C:\\\\Users\\\\binha\\\\Documents\\\\Duke\\\\Cynthia Research\\\\KY-analysis-mytrials\\\\KY Recidivism\\\\KY Results\\\\KY_FL\\\\FL Model\\\\interpretable\\\\Six Month\\\\\"\n",
    "results = [[\"\", \"CART\", \"EBM\", \"Lasso Stumps\", \"RiskSLIM\"],\n",
    "           [\"General\",             \n",
    "            round(cart_summary['KY_score'],3), \n",
    "            round(ebm_summary['KY_score'], 3), \n",
    "            round(stumps_summary['KY_score'],3), \n",
    "            round(riskslim_summary['KY_auc'][0], 3)]]\n",
    "with open(path + 'Six Month FL_inter_model.csv', 'w') as writeFile:\n",
    "    writer = csv.writer(writeFile)\n",
    "    writer.writerows(results)"
   ]
  }
 ],
 "metadata": {
  "kernelspec": {
   "display_name": "Python 3",
   "language": "python",
   "name": "python3"
  },
  "language_info": {
   "codemirror_mode": {
    "name": "ipython",
    "version": 3
   },
   "file_extension": ".py",
   "mimetype": "text/x-python",
   "name": "python",
   "nbconvert_exporter": "python",
   "pygments_lexer": "ipython3",
   "version": "3.7.4"
  }
 },
 "nbformat": 4,
 "nbformat_minor": 4
}
