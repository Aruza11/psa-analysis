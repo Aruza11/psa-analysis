{
 "cells": [
  {
   "cell_type": "code",
   "execution_count": 1,
   "metadata": {},
   "outputs": [
    {
     "name": "stdout",
     "output_type": "stream",
     "text": [
      "no stored variable summary_F6_fl_inter_model\n"
     ]
    },
    {
     "name": "stderr",
     "output_type": "stream",
     "text": [
      "C:\\Users\\binha\\Anaconda3\\lib\\site-packages\\sklearn\\externals\\six.py:31: DeprecationWarning:\n",
      "\n",
      "The module is deprecated in version 0.21 and will be removed in version 0.23 since we've dropped support for Python 2.7. Please rely on the official version of six (https://pypi.org/project/six/).\n",
      "\n"
     ]
    }
   ],
   "source": [
    "import pandas as pd \n",
    "import numpy as np\n",
    "import csv\n",
    "import advance_functions as advance\n",
    "import RiskSLIM as slim\n",
    "import stumps\n",
    "from sklearn.linear_model import LogisticRegression\n",
    "from riskslim.helper_functions import load_data_from_csv, print_model\n",
    "\n",
    "# restore saved variables\n",
    "%store -r summary_F6_fl_inter_model"
   ]
  },
  {
   "cell_type": "markdown",
   "metadata": {},
   "source": [
    "### EBM & CART"
   ]
  },
  {
   "cell_type": "code",
   "execution_count": 3,
   "metadata": {},
   "outputs": [],
   "source": [
    "KY_data = pd.read_csv(\"~/Documents/Duke/Cynthia Research/psa-analysis - test/kentucky/models/ky_fl_combined/data preparation/KY_cleaned\")\n",
    "FL_data = pd.read_csv(\"~/Documents/Duke/Cynthia Research/psa-analysis - test/kentucky/models/ky_fl_combined/data preparation/FL_cleaned\")\n",
    "\n",
    "## split x and y \n",
    "KY_X = KY_data.loc[:,:'current_violence']\n",
    "KY_Y = KY_data['recid_F_six_month'].values\n",
    "FL_X = FL_data.loc[:,:'current_violence']\n",
    "FL_Y = FL_data['recid_F_six_month'].values"
   ]
  },
  {
   "cell_type": "code",
   "execution_count": 4,
   "metadata": {},
   "outputs": [],
   "source": [
    "#### CART\n",
    "depth = [1]\n",
    "impurity = [0.001]\n",
    "split = [2,3,4]\n",
    "cart_summary = advance.CART(KY_X, KY_Y, FL_X, FL_Y, depth, split, impurity, seed=816)\n",
    "\n",
    "### EBM\n",
    "estimators = [40,60]\n",
    "depth = [1]\n",
    "learning_rate = [0.01, 0.03]\n",
    "holdout_split = [0.9]\n",
    "ebm_summary = advance.EBM(KY_X, KY_Y, FL_X, FL_Y, learning_rate, depth, estimators, holdout_split, seed=816)"
   ]
  },
  {
   "cell_type": "code",
   "execution_count": 9,
   "metadata": {},
   "outputs": [
    {
     "data": {
      "text/plain": [
       "(0.5230192013341647, 0.6636018045382615)"
      ]
     },
     "execution_count": 9,
     "metadata": {},
     "output_type": "execute_result"
    }
   ],
   "source": [
    "cart_summary['KY_score'], ebm_summary['KY_score']"
   ]
  },
  {
   "cell_type": "markdown",
   "metadata": {},
   "source": [
    "### Lasso Stumps"
   ]
  },
  {
   "cell_type": "code",
   "execution_count": 5,
   "metadata": {},
   "outputs": [],
   "source": [
    "KY_stumps = pd.read_csv(\"~/Documents/Duke/Cynthia Research/psa-analysis - test/kentucky/models/ky_fl_combined/data preparation/KY_stumps\")\n",
    "FL_stumps = pd.read_csv(\"~/Documents/Duke/Cynthia Research/psa-analysis - test/kentucky/models/ky_fl_combined/data preparation/FL_stumps\")\n",
    "\n",
    "## split x and y \n",
    "KY_X = KY_stumps.loc[:,:'current_violence>=1']\n",
    "KY_Y = KY_stumps['recid_F_six_month'].values\n",
    "FL_X = FL_stumps.loc[:,:'current_violence>=1']\n",
    "FL_Y = FL_stumps['recid_F_six_month'].values\n",
    "\n",
    "## columns \n",
    "cols = KY_X.columns"
   ]
  },
  {
   "cell_type": "code",
   "execution_count": 15,
   "metadata": {},
   "outputs": [],
   "source": [
    "c_grid = {'C': [0.05, 0.07, 0.09]}\n",
    "stumps_summary = stumps.stump_cv(KY_X, KY_Y, FL_X, FL_Y, cols, c_grid, seed=816)"
   ]
  },
  {
   "cell_type": "code",
   "execution_count": 16,
   "metadata": {},
   "outputs": [
    {
     "data": {
      "text/plain": [
       "{'best_auc': 0.5984721928880034,\n",
       " 'best_params': {'C': 0.07},\n",
       " 'auc_diffs': 0.0737195972900222,\n",
       " 'KY_score': 0.6287380983304518}"
      ]
     },
     "execution_count": 16,
     "metadata": {},
     "output_type": "execute_result"
    }
   ],
   "source": [
    "stumps_summary"
   ]
  },
  {
   "cell_type": "markdown",
   "metadata": {},
   "source": [
    "### RiskSLIM"
   ]
  },
  {
   "cell_type": "code",
   "execution_count": 17,
   "metadata": {},
   "outputs": [
    {
     "data": {
      "text/plain": [
       "22"
      ]
     },
     "execution_count": 17,
     "metadata": {},
     "output_type": "execute_result"
    }
   ],
   "source": [
    "## train on best param chosen by Lasso Stumps from above\n",
    "lasso = LogisticRegression(class_weight='balanced', solver='liblinear', penalty='l1', C=0.07, random_state=816).fit(FL_X, FL_Y)\n",
    "selected_features = cols[lasso.coef_[0] != 0].tolist()\n",
    "len(selected_features)"
   ]
  },
  {
   "cell_type": "code",
   "execution_count": 18,
   "metadata": {},
   "outputs": [],
   "source": [
    "### Subset features\n",
    "sub_FL_X = FL_stumps.loc[:, selected_features]\n",
    "sub_KY_X = KY_stumps.loc[:, selected_features]\n",
    "sub_FL_X.insert(0, '(Intercept)', 1)"
   ]
  },
  {
   "cell_type": "code",
   "execution_count": 19,
   "metadata": {
    "scrolled": true
   },
   "outputs": [
    {
     "name": "stdout",
     "output_type": "stream",
     "text": [
      "setting c0 = 0.0 to ensure that intercept is not penalized\n",
      "09/17/19 @ 01:29 PM | 981 rows in lookup table\n",
      "09/17/19 @ 01:29 PM | ------------------------------------------------------------\n",
      "09/17/19 @ 01:29 PM | runnning initialization procedure\n",
      "09/17/19 @ 01:29 PM | ------------------------------------------------------------\n",
      "09/17/19 @ 01:29 PM | CPA produced 2 cuts\n",
      "09/17/19 @ 01:29 PM | running naive rounding on 112 solutions\n",
      "09/17/19 @ 01:29 PM | best objective value: 0.2859\n",
      "09/17/19 @ 01:29 PM | rounding produced 2 integer solutions\n",
      "09/17/19 @ 01:29 PM | best objective value is 0.3158\n",
      "09/17/19 @ 01:29 PM | running sequential rounding on 112 solutions\n",
      "09/17/19 @ 01:29 PM | best objective value: 0.2859\n",
      "09/17/19 @ 01:29 PM | sequential rounding produced 2 integer solutions\n",
      "09/17/19 @ 01:29 PM | best objective value: 0.2958\n",
      "09/17/19 @ 01:29 PM | polishing 4 solutions\n",
      "09/17/19 @ 01:29 PM | best objective value: 0.2958\n",
      "09/17/19 @ 01:29 PM | polishing produced 4 integer solutions\n",
      "09/17/19 @ 01:29 PM | initialization produced 6 feasible solutions\n",
      "09/17/19 @ 01:29 PM | best objective value: 0.2958\n",
      "09/17/19 @ 01:29 PM | ------------------------------------------------------------\n",
      "09/17/19 @ 01:29 PM | completed initialization procedure\n",
      "09/17/19 @ 01:29 PM | ------------------------------------------------------------\n",
      "09/17/19 @ 01:29 PM | 981 rows in lookup table\n",
      "CPXPARAM_Read_DataCheck                          1\n",
      "CPXPARAM_Threads                                 1\n",
      "CPXPARAM_Parallel                                1\n",
      "CPXPARAM_RandomSeed                              0\n",
      "CPXPARAM_TimeLimit                               200\n",
      "CPXPARAM_MIP_Tolerances_LowerCutoff              0.28577785790270255\n",
      "CPXPARAM_MIP_Tolerances_UpperCutoff              0.29581889459853244\n"
     ]
    },
    {
     "name": "stderr",
     "output_type": "stream",
     "text": [
      "Warning: Control callbacks may disable some MIP features.\n"
     ]
    },
    {
     "name": "stdout",
     "output_type": "stream",
     "text": [
      "Lazy constraint(s) or lazy constraint callback is present.\n",
      "    Disabling dual reductions (CPX_PARAM_REDUCE) in presolve.\n",
      "    Disabling non-linear reductions (CPX_PARAM_PRELINEAR) in presolve.\n",
      "         Disabling repeat represolve because of lazy constraint/incumbent callback.\n",
      "09/17/19 @ 01:29 PM | adding 179 initial cuts\n",
      "1 of 1 MIP starts provided solutions.\n",
      "MIP start 'mip_start_0' defined initial solution with objective 0.2958.\n",
      "Tried aggregator 1 time.\n",
      "Reduced MIP has 24 rows, 48 columns, and 91 nonzeros.\n",
      "Reduced MIP has 22 binaries, 24 generals, 0 SOSs, and 0 indicators.\n",
      "Presolve time = 0.00 sec. (0.05 ticks)\n",
      "Probing time = 0.00 sec. (0.01 ticks)\n",
      "MIP emphasis: balance optimality and feasibility.\n",
      "MIP search method: traditional branch-and-cut.\n",
      "Parallel mode: none, using 1 thread.\n",
      "Root relaxation solution time = 0.00 sec. (0.03 ticks)\n",
      "\n",
      "        Nodes                                         Cuts/\n",
      "   Node  Left     Objective  IInf  Best Integer    Best Bound    ItCnt     Gap         Variable B NodeID Parent  Depth\n",
      "\n",
      "*     0+    0                            0.2958        0.2758             6.77%\n",
      "      0     0        0.2858     1        0.2958        0.2858        1    3.39%\n",
      "      0     2        0.2858     7        0.2958        0.2858        1    3.39%                        0             0\n",
      "Elapsed time = 0.08 sec. (1.47 ticks, tree = 0.01 MB, solutions = 1)\n",
      "   3079  1105        cutoff              0.2958        0.2858    14125    3.39%           rho_7 D   3079   3078     28\n",
      "   5719  1991        0.2920     1        0.2958        0.2858    24821    3.39%           rho_0 D   5719   5718     27\n",
      "   7990  2633        0.2955     1        0.2958        0.2858    34488    3.39%           rho_5 U   7990   7989     35\n",
      "  10065  3270        cutoff              0.2958        0.2858    43790    3.39%           rho_4 U  10065  10064     30\n",
      "  12084  3880        cutoff              0.2958        0.2858    52892    3.39%           rho_9 U  12084  12083     20\n",
      "* 12201  3851      integral     0        0.2957        0.2858    53421    3.34%\n",
      "  14074  4453        0.2946     5        0.2957        0.2858    61642    3.34%           rho_4 U  14074  14073     46\n",
      "  16081  4994        0.2858    12        0.2957        0.2858    70709    3.34%          rho_12 D  16081  11072     17\n",
      "  18419  5690        0.2930     5        0.2957        0.2858    79344    3.34%          rho_21 D  18419  18417     22\n",
      "  20584  6244        0.2886     8        0.2957        0.2858    88382    3.34%          rho_21 D  20584  20581     24\n",
      "  29305  8831        cutoff              0.2957        0.2858   124963    3.34%           rho_4 U  29305  29303     41\n",
      "Elapsed time = 3.02 sec. (3101.46 ticks, tree = 2.49 MB, solutions = 2)\n",
      "  37931 11423        0.2950     1        0.2957        0.2858   163587    3.34%           rho_9 U  37931  37930     36\n",
      "  46270 14091        0.2885    14        0.2957        0.2858   203102    3.34%          rho_12 U  46270  44924     45\n",
      "  54939 16882        0.2911     9        0.2957        0.2858   242966    3.34%          rho_14 U  54939  54938     36\n",
      "  63476 19837        0.2858    11        0.2957        0.2858   282773    3.34%           rho_3 D  63476  63475     27\n",
      "  72196 21859        0.2875     8        0.2957        0.2858   320008    3.34%           rho_0 U  72196  72195     80\n",
      "  80238 25166        0.2913     7        0.2957        0.2858   359118    3.34%           rho_9 D  80238  80237     68\n",
      "  90095 27915        cutoff              0.2957        0.2858   391204    3.34%          rho_21 D  90095  90094     93\n",
      "  99072 30505        0.2942     1        0.2957        0.2858   426078    3.34%          rho_10 U  99072  99071     54\n",
      " 107411 34453        0.2875     9        0.2957        0.2858   460281    3.34%           rho_0 U 107411 107409     82\n",
      " 116770 38312        0.2889    11        0.2957        0.2858   488313    3.34%           rho_0 U 116770 116769     72\n",
      "Elapsed time = 9.86 sec. (12639.12 ticks, tree = 10.87 MB, solutions = 2)\n",
      " 125460 41513        0.2942     3        0.2957        0.2858   518401    3.34%           rho_7 D 125460 125459     31\n",
      " 132426 44412        0.2877     9        0.2957        0.2858   557658    3.34%          rho_14 D 132426 132425     83\n",
      " 139556 46193        cutoff              0.2957        0.2858   592486    3.34%           rho_3 U 139556 139555     62\n",
      " 146503 49510        0.2858    12        0.2957        0.2858   632596    3.34%           rho_9 U 146503 146501     66\n",
      " 154332 51547        0.2889    11        0.2957        0.2858   667586    3.34%          rho_14 D 154332 154331     68\n",
      " 162759 53240        0.2946     2        0.2957        0.2858   699860    3.34%           rho_0 D 162759 162757     80\n",
      " 170996 55077        0.2867    11        0.2957        0.2858   733951    3.34%           rho_0 U 170996 170995     75\n",
      " 178928 57189        0.2861    14        0.2957        0.2858   769238    3.34%          rho_10 D 178928 178927     85\n",
      " 187333 59676        0.2946     2        0.2957        0.2858   804998    3.34%          rho_10 U 187333 187332     90\n",
      " 195915 62002        0.2927    11        0.2957        0.2858   840462    3.34%          rho_17 U 195915 195914     38\n",
      "Elapsed time = 16.16 sec. (22176.59 ticks, tree = 15.93 MB, solutions = 2)\n",
      " 204039 64507        0.2946     2        0.2957        0.2858   875729    3.34%           rho_0 D 204039 204037    101\n",
      " 212451 66211        cutoff              0.2957        0.2858   908948    3.34%          rho_11 U 212451 212450     28\n",
      " 220283 69324        0.2920     8        0.2957        0.2858   941208    3.34%           rho_0 U 220283 220282     93\n",
      " 228603 71574        0.2927    11        0.2957        0.2858   973245    3.34%          rho_17 U 228603 228602     50\n",
      " 237460 72692        0.2935     6        0.2957        0.2858  1003081    3.34%          rho_16 D 237460 237459     59\n",
      " 245781 73979        0.2929     7        0.2957        0.2858  1034222    3.34%          rho_17 U 245781 245780     47\n",
      " 254397 75367        0.2858    14        0.2957        0.2858  1066990    3.34%           rho_0 D 254397 254387     63\n",
      " 262939 77115        0.2858    13        0.2957        0.2858  1103102    3.34%           rho_0 D 262939 262929     53\n",
      " 270767 79135        cutoff              0.2957        0.2858  1140486    3.34%           rho_0 U 270767 270766     59\n",
      " 278670 81697        0.2946     2        0.2957        0.2858  1179069    3.34%           rho_0 D 278670 278668     61\n",
      "Elapsed time = 22.42 sec. (31714.19 ticks, tree = 22.94 MB, solutions = 2)\n",
      " 286400 84706        0.2858    13        0.2957        0.2858  1218264    3.34%           rho_0 D 286400 286390     61\n",
      " 294657 87819        0.2876    13        0.2957        0.2858  1255196    3.34%           rho_9 D 294657 294656     49\n",
      " 302240 90300        0.2888    10        0.2957        0.2858  1290961    3.34%           rho_0 D 302240 302238     78\n",
      " 309314 92553        0.2858    13        0.2957        0.2858  1326062    3.34%          rho_10 U 309314 309313     56\n",
      " 316015 95152        0.2872    15        0.2957        0.2858  1363826    3.34%          rho_16 D 316015 316004     39\n",
      " 322353 97887        0.2868    12        0.2957        0.2858  1403740    3.34%           rho_0 U 322353 322352     81\n",
      " 328913 100347        0.2939     6        0.2957        0.2858  1445337    3.34%          rho_16 U 328913 328912     31\n",
      " 335569 102692        0.2919    11        0.2957        0.2858  1482735    3.34%           rho_1 D 335569 335568     68\n",
      " 342332 104952        0.2874    11        0.2957        0.2858  1520917    3.34%           rho_0 U 342332 342331    103\n",
      " 348921 107548        0.2858    13        0.2957        0.2858  1560499    3.34%           rho_0 D 348921 348919     88\n",
      "Elapsed time = 29.03 sec. (41252.85 ticks, tree = 28.46 MB, solutions = 2)\n",
      " 355909 110346        0.2878     9        0.2957        0.2858  1598227    3.34%           rho_2 D 355909 355907     66\n",
      " 362313 113142        0.2909    10        0.2957        0.2858  1636130    3.34%          rho_14 U 362313 181386     51\n",
      " 370238 115167        cutoff              0.2957        0.2858  1673921    3.34%          rho_10 U 370238 370237    104\n",
      " 377200 117305        0.2858    16        0.2957        0.2858  1711334    3.34%           rho_0 D 377200 376453    102\n",
      " 384009 119234        0.2874    11        0.2957        0.2858  1748124    3.34%           rho_0 U 384009 384008     72\n",
      " 390617 120846        0.2940     8        0.2957        0.2858  1786171    3.34%         L0_norm U 390617 390615     71\n",
      " 397459 122774        0.2917    11        0.2957        0.2858  1824534    3.34%          rho_14 U 397459 397368     95\n",
      " 404318 124695        cutoff              0.2957        0.2858  1862732    3.34%         L0_norm D 404318 404317     65\n",
      " 411500 127226        0.2896    13        0.2957        0.2858  1899730    3.34%          rho_12 U 411500 407274     42\n",
      " 418460 129273        0.2950     7        0.2957        0.2858  1937085    3.34%          rho_16 U 418460 418459     96\n",
      "Elapsed time = 35.17 sec. (50791.32 ticks, tree = 33.03 MB, solutions = 2)\n",
      " 425140 131086        0.2954     4        0.2957        0.2858  1976194    3.34%           rho_4 D 425140 425138     69\n",
      " 431870 133089        0.2921     9        0.2957        0.2858  2013509    3.34%          rho_16 D 431870 431869     74\n",
      " 438535 134988        0.2858    12        0.2957        0.2858  2049488    3.34%           rho_9 U 438535 438520     85\n",
      " 445543 137424        0.2863    15        0.2957        0.2858  2087091    3.34%          rho_16 D 445543 150665     69\n",
      " 453320 140678        0.2863    15        0.2957        0.2858  2122360    3.34%          rho_16 D 453320 147322     65\n",
      " 461040 142632        0.2925     8        0.2957        0.2858  2151801    3.34%           rho_3 D 461040 461038     97\n",
      " 468993 144905        0.2932     2        0.2957        0.2858  2185169    3.34%           rho_7 U 468993 468992     64\n",
      " 476182 147686        cutoff              0.2957        0.2858  2217106    3.34%           rho_0 U 476182 476180     64\n",
      " 483412 150144        0.2927     8        0.2957        0.2858  2247464    3.34%           rho_0 D 483412 483410     69\n",
      " 490841 152090        0.2938     8        0.2957        0.2858  2280390    3.34%           rho_1 U 490841 490840     52\n",
      "Elapsed time = 42.44 sec. (60329.26 ticks, tree = 40.91 MB, solutions = 2)\n",
      " 498775 153422        0.2946     2        0.2957        0.2858  2309818    3.34%           rho_0 D 498775 498773     80\n",
      " 506398 154946        0.2858    15        0.2957        0.2858  2341328    3.34%          rho_14 D 506398 284050     61\n",
      " 512866 156534        cutoff              0.2957        0.2858  2377535    3.34%           rho_4 U 512866 512865     31\n",
      " 520182 158489        0.2921     9        0.2957        0.2858  2413868    3.34%          rho_16 D 520182 520181     64\n",
      " 528102 159921        cutoff              0.2957        0.2858  2444381    3.34%           rho_3 U 528102 528100     71\n",
      " 535611 161219        0.2858    14        0.2957        0.2858  2478897    3.34%          rho_10 D 535611 535458     25\n",
      " 543339 162845        cutoff              0.2957        0.2858  2514159    3.34%          rho_21 U 543339 543338     70\n",
      " 551064 164243        cutoff              0.2957        0.2858  2548520    3.34%           rho_3 U 551064 551063     84\n",
      " 559070 165386        0.2923     5        0.2957        0.2858  2581547    3.34%           rho_4 D 559070 559068     78\n",
      " 567044 166864        0.2858    14        0.2957        0.2858  2615830    3.34%          rho_10 U 567044 566992    101\n",
      "Elapsed time = 48.89 sec. (69866.89 ticks, tree = 45.84 MB, solutions = 2)\n",
      " 575055 168151        0.2951     5        0.2957        0.2858  2649693    3.34%          rho_20 D 575055 575053    105\n",
      " 583055 169418        0.2945     4        0.2957        0.2858  2683494    3.34%          rho_20 D 583055 583053     97\n",
      " 590929 170773        0.2903     7        0.2957        0.2858  2717797    3.34%           rho_3 D 590929 590926     65\n",
      " 598894 171905        0.2903     7        0.2957        0.2858  2750689    3.34%           rho_3 D 598894 598892    103\n",
      " 606844 173054        cutoff              0.2957        0.2858  2783827    3.34%           rho_4 U 606844 606843     74\n",
      " 614833 174213        0.2893    11        0.2957        0.2858  2817297    3.34%          rho_16 D 614833 614831     56\n",
      " 622825 175351        0.2892     9        0.2957        0.2858  2850233    3.34%          rho_16 D 622825 622823     87\n",
      " 630821 176538        cutoff              0.2957        0.2858  2883877    3.34%          rho_20 U 630821 630820     69\n",
      " 638991 177742        0.2893    10        0.2957        0.2858  2917527    3.34%          rho_16 D 638991 638932     92\n",
      " 647100 178917        0.2896    13        0.2957        0.2858  2950904    3.34%           rho_2 D 647100 647099     71\n",
      "Elapsed time = 55.45 sec. (79404.52 ticks, tree = 48.46 MB, solutions = 2)\n",
      " 655014 180097        cutoff              0.2957        0.2858  2984190    3.34%           rho_3 U 655014 655013     88\n",
      " 663013 181285        0.2858    14        0.2957        0.2858  3017763    3.34%          rho_10 U 663013 662963     61\n",
      " 670993 182488        0.2858    14        0.2957        0.2858  3051376    3.34%           rho_0 D 670993 670991     80\n",
      " 679079 183701        0.2896    13        0.2957        0.2858  3085532    3.34%           rho_2 D 679079 679078     99\n",
      " 686982 184805        0.2939     1        0.2957        0.2858  3123642    3.34%          rho_10 U 686982 686981     38\n",
      " 694959 186000        0.2903     7        0.2957        0.2858  3161007    3.34%           rho_3 D 694959 694956     91\n",
      " 702887 187077        0.2893    10        0.2957        0.2858  3198956    3.34%          rho_16 D 702887 702721     60\n",
      " 710727 189377        0.2931     7        0.2957        0.2858  3237339    3.34%           rho_2 U 710727 710726     80\n",
      " 718560 191254        0.2869    10        0.2957        0.2858  3274540    3.34%           rho_0 U 718560 718559     33\n",
      " 748195 200727        0.2923     5        0.2957        0.2858  3428150    3.34%           rho_4 D 748195 748193     64\n",
      "Elapsed time = 64.39 sec. (91803.25 ticks, tree = 55.23 MB, solutions = 2)\n",
      " 778941 209432        0.2858    15        0.2957        0.2858  3583491    3.34%          rho_14 D 778941 778939     83\n",
      " 809418 218297        0.2869    11        0.2957        0.2858  3741056    3.34%          rho_12 D 809418 809417     87\n",
      " 837817 228979        0.2858    13        0.2957        0.2858  3903118    3.34%          rho_10 U 837817 837749     96\n",
      " 865306 239226        0.2913    11        0.2957        0.2858  4069746    3.34%          rho_14 U 865306 865125     67\n",
      " 892650 248427        0.2951     5        0.2957        0.2858  4236488    3.34%          rho_20 D 892650 892649    106\n",
      " 919362 258987        0.2940     5        0.2957        0.2858  4405393    3.34%          rho_21 D 919362 919360    110\n",
      " 946733 270276        0.2858    16        0.2957        0.2858  4574351    3.34%           rho_9 D 946733 946732     59\n",
      " 974280 281665        0.2860    16        0.2957        0.2858  4746264    3.34%          rho_12 D 974280 974279     86\n",
      " 1001731 292562        0.2858    13        0.2957        0.2858  4918911    3.34%          rho_10 U 1001731 1001730     66\n",
      " 1028593 303757        0.2858    13        0.2957        0.2858  5094635    3.34%          rho_10 U 1028593 1028591     96\n",
      "Elapsed time = 90.49 sec. (129951.26 ticks, tree = 82.79 MB, solutions = 2)\n",
      " 1055584 315129        0.2858    13        0.2957        0.2858  5272320    3.34%           rho_0 D 1055584 1055553     71\n",
      " 1082408 326352        0.2858    13        0.2957        0.2858  5451487    3.34%          rho_10 U 1082408 1082399     68\n",
      " 1108699 336970        0.2934     9        0.2957        0.2858  5630243    3.34%          rho_14 U 1108699 1108698     89\n",
      " 1134603 347907        0.2858    14        0.2957        0.2858  5810035    3.34%          rho_10 D 1134603 1134602     70\n",
      " 1159834 358870        0.2871    10        0.2957        0.2858  5986520    3.34%          rho_14 D 1159834 1159832     66\n",
      " 1184517 369925        0.2931     8        0.2957        0.2858  6162822    3.34%          rho_14 U 1184517 1184516     91\n",
      " 1209174 380991        0.2858    13        0.2957        0.2858  6338563    3.34%           rho_0 D 1209174 1209168     72\n",
      " 1236079 388893        0.2923     5        0.2957        0.2858  6497778    3.34%           rho_4 D 1236079 1236077     63\n",
      " 1261790 398571        0.2858    17        0.2957        0.2858  6675526    3.34%          rho_17 D 1261790 1261789     86\n",
      " 1286899 408599        0.2858    12        0.2957        0.2858  6858980    3.34%           rho_9 D 1286899 1286898     76\n",
      "Elapsed time = 117.53 sec. (168099.71 ticks, tree = 113.12 MB, solutions = 2)\n",
      " 1312923 418280        0.2893    11        0.2957        0.2858  7037285    3.34%          rho_16 D 1312923 1312921     70\n",
      " 1339040 427542        0.2913    11        0.2957        0.2858  7213182    3.34%          rho_12 D 1339040 1339039     69\n",
      " 1365860 436695        0.2951     5        0.2957        0.2858  7386305    3.34%          rho_20 D 1365860 1365859    112\n",
      " 1392938 446287        0.2906    13        0.2957        0.2858  7557543    3.34%          rho_10 D 1392938 1392936     89\n",
      " 1420686 454435        cutoff              0.2957        0.2858  7713648    3.34%          rho_16 U 1420686 1420685     89\n",
      " 1449784 462596        0.2914    11        0.2957        0.2858  7870369    3.34%          rho_17 U 1449784 1407609     75\n",
      " 1479110 472203        0.2893    10        0.2957        0.2858  8023711    3.34%          rho_16 D 1479110 1475945     49\n",
      " 1508916 480955        0.2923     5        0.2957        0.2858  8175438    3.34%           rho_4 D 1508916 1508914     74\n",
      " 1540126 491213        0.2931     9        0.2957        0.2858  8326442    3.34%          rho_14 U 1540126 1540125     64\n",
      " 1569711 500590        0.2931     8        0.2957        0.2858  8482781    3.34%           rho_3 D 1569711 1569709     70\n",
      "Elapsed time = 144.80 sec. (206247.30 ticks, tree = 138.08 MB, solutions = 2)\n",
      " 1597737 510290        0.2955     8        0.2957        0.2858  8646956    3.34%           rho_2 D 1597737 1597736     97\n",
      " 1626358 520769        0.2908     8        0.2957        0.2858  8810495    3.34%           rho_7 U 1626358 1626357     41\n",
      " 1655944 528975        cutoff              0.2957        0.2858  8970764    3.34%           rho_4 U 1655944 1655943    102\n",
      " 1685890 537439        0.2893    10        0.2957        0.2858  9128570    3.34%          rho_12 D 1685890 1685889     94\n",
      " 1716880 547194        0.2858    18        0.2957        0.2858  9277745    3.34%          rho_14 D 1716880 1196837    102\n",
      " 1744548 560782        0.2955     8        0.2957        0.2858  9434043    3.34%         L0_norm U 1744548 1744547    103\n",
      " 1775940 573485        0.2922     8        0.2957        0.2858  9594580    3.34%           rho_0 D 1775940 1775939     75\n",
      " 1804307 583063        0.2858    12        0.2957        0.2858  9749148    3.34%           rho_0 D 1804307 1804291     47\n",
      " 1834296 594712        0.2860    16        0.2957        0.2858  9907246    3.34%          rho_17 D 1834296 1834295     88\n",
      " 1864726 606857        0.2895    12        0.2957        0.2858 10066862    3.34%          rho_16 D 1864726 1864725     86\n",
      "Elapsed time = 174.39 sec. (244395.14 ticks, tree = 167.22 MB, solutions = 2)\n",
      " 1892210 617380        0.2885    10        0.2957        0.2858 10228739    3.34%          rho_16 U 1892210 1892209     89\n",
      " 1920025 627840        cutoff              0.2957        0.2858 10384156    3.34%           rho_4 U 1920025 1920024     52\n",
      " 1944487 637191        cutoff              0.2957        0.2858 10544401    3.34%          rho_12 U 1944487 1944485     62\n",
      " 1968332 645809        0.2858    12        0.2957        0.2858 10703982    3.34%           rho_0 D 1968332 1968318     93\n",
      " 1992000 654374        0.2941     8        0.2957        0.2858 10863871    3.34%         L0_norm U 1992000 1991999     83\n",
      " 2016023 663798        0.2858    18        0.2957        0.2858 11026920    3.34%          rho_14 D 2016023 2016022     94\n",
      " 2040250 673305        0.2903     8        0.2957        0.2858 11189163    3.34%           rho_0 U 2040250 2040248    106\n",
      " 2064248 682769        0.2903     9        0.2957        0.2858 11353626    3.34%          rho_11 D 2064248 2064247     99\n",
      " 2088112 692015        0.2858    15        0.2957        0.2858 11517043    3.34%          rho_10 D 2088112 2088111     96\n",
      "\n",
      "User cuts applied:  156\n",
      "\n",
      "Root node processing (before b&c):\n",
      "  Real time             =    0.06 sec. (1.48 ticks)\n",
      "Sequential b&c:\n",
      "  Real time             =  199.95 sec. (282088.06 ticks)\n",
      "                          ------------\n",
      "Total (root+branch&cut) =  200.02 sec. (282089.54 ticks)\n",
      "+----------------------------------------------+------------------+-----------+\n",
      "| Pr(Y = +1) = 1.0/(1.0 + exp(-(-4 + score))   |                  |           |\n",
      "| ============================================ | ================ | ========= |\n",
      "| p_stealing>=1                                |         1 points |   + ..... |\n",
      "| five_year>=1                                 |         1 points |   + ..... |\n",
      "| ============================================ | ================ | ========= |\n",
      "| ADD POINTS FROM ROWS 1 to 2                  |            SCORE |   = ..... |\n",
      "+----------------------------------------------+------------------+-----------+\n"
     ]
    }
   ],
   "source": [
    "riskslim_summary = slim.risk_cv(sub_KY_X, KY_Y, sub_FL_X, FL_Y, \n",
    "                                y_label = 'general2', \n",
    "                                max_coef = 20, \n",
    "                                max_coef_number = 10, \n",
    "                                max_runtime=200, \n",
    "                                c=1e-3, \n",
    "                                seed=816)"
   ]
  },
  {
   "cell_type": "code",
   "execution_count": 112,
   "metadata": {},
   "outputs": [
    {
     "data": {
      "text/plain": [
       "[0.6192305293464628]"
      ]
     },
     "execution_count": 112,
     "metadata": {},
     "output_type": "execute_result"
    }
   ],
   "source": [
    "riskslim_summary['KY_auc']"
   ]
  },
  {
   "cell_type": "code",
   "execution_count": 20,
   "metadata": {},
   "outputs": [
    {
     "name": "stdout",
     "output_type": "stream",
     "text": [
      "Stored 'summary_F6_fl_inter_model' (dict)\n"
     ]
    }
   ],
   "source": [
    "#### save results\n",
    "summary_F6_fl_inter_model = {\"CART\": cart_summary,\n",
    "                                    \"EBM\": ebm_summary,\n",
    "                                    \"Stumps\": stumps_summary,\n",
    "                                    \"RiskSLIM\": riskslim_summary}\n",
    "%store summary_F6_fl_inter_model"
   ]
  },
  {
   "cell_type": "code",
   "execution_count": 21,
   "metadata": {},
   "outputs": [],
   "source": [
    "path = \"C:\\\\Users\\\\binha\\\\Documents\\\\Duke\\\\Cynthia Research\\\\KY-analysis-mytrials\\\\KY Recidivism\\\\KY Results\\\\KY_FL\\\\FL Model\\\\interpretable\\\\Six Month\\\\\"\n",
    "results = [[\"Felony\",             \n",
    "            round(cart_summary['KY_score'],3), \n",
    "            round(ebm_summary['KY_score'], 3), \n",
    "            round(stumps_summary['KY_score'],3), \n",
    "            round(riskslim_summary['KY_auc'][0], 3)]]\n",
    "with open(path + 'Six Month FL_inter_model.csv', 'a') as writeFile:\n",
    "    writer = csv.writer(writeFile)\n",
    "    writer.writerows(results)"
   ]
  }
 ],
 "metadata": {
  "kernelspec": {
   "display_name": "Python 3",
   "language": "python",
   "name": "python3"
  },
  "language_info": {
   "codemirror_mode": {
    "name": "ipython",
    "version": 3
   },
   "file_extension": ".py",
   "mimetype": "text/x-python",
   "name": "python",
   "nbconvert_exporter": "python",
   "pygments_lexer": "ipython3",
   "version": "3.7.4"
  }
 },
 "nbformat": 4,
 "nbformat_minor": 4
}
