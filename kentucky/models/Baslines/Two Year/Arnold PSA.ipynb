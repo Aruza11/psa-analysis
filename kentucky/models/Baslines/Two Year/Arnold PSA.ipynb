{
 "cells": [
  {
   "cell_type": "code",
   "execution_count": 1,
   "metadata": {},
   "outputs": [],
   "source": [
    "import pandas as pd \n",
    "import numpy as np\n",
    "import csv\n",
    "from sklearn.model_selection import KFold\n",
    "from sklearn.metrics import roc_curve, auc"
   ]
  },
  {
   "cell_type": "code",
   "execution_count": 8,
   "metadata": {},
   "outputs": [],
   "source": [
    "### load data\n",
    "data = pd.read_csv(\"~/Documents/Duke/Cynthia Research/KY-analysis-mytrials/KY Recidivism/KY data/kentucky_data.csv\")\n",
    "X_raw = data['nca_risk_score_raw'].values\n",
    "X_calc = data['nca_calc'].values\n",
    "\n",
    "## set up cross validation\n",
    "cv = KFold(n_splits=5,shuffle=True,random_state=816)"
   ]
  },
  {
   "cell_type": "markdown",
   "metadata": {},
   "source": [
    "### Arnold PSA Raw"
   ]
  },
  {
   "cell_type": "code",
   "execution_count": 19,
   "metadata": {},
   "outputs": [],
   "source": [
    "labels = ['recid_two_year', 'recid_drug_two_year', 'recid_property_two_year', 'recid_F_two_year', 'recid_M_two_year']\n",
    "raw_results = []\n",
    "for l in labels:\n",
    "    Y = data[l].values\n",
    "    loop = []\n",
    "    i = 1\n",
    "    for train, test in cv.split(X_raw, Y):\n",
    "        y_pred, y_test = X_raw[test], Y[test]\n",
    "        fpr,tpr,thresholds = roc_curve(y_test, y_pred)\n",
    "        loop.append(auc(fpr, tpr))\n",
    "        i+=1 \n",
    "    raw_results.append([l, round(np.mean(loop), 3), round(np.std(loop),3)])"
   ]
  },
  {
   "cell_type": "code",
   "execution_count": 20,
   "metadata": {},
   "outputs": [
    {
     "data": {
      "text/plain": [
       "[['recid_two_year', 0.697, 0.003],\n",
       " ['recid_drug_two_year', 0.654, 0.005],\n",
       " ['recid_property_two_year', 0.724, 0.011],\n",
       " ['recid_F_two_year', 0.705, 0.002],\n",
       " ['recid_M_two_year', 0.687, 0.004]]"
      ]
     },
     "execution_count": 20,
     "metadata": {},
     "output_type": "execute_result"
    }
   ],
   "source": [
    "raw_results"
   ]
  },
  {
   "cell_type": "code",
   "execution_count": 21,
   "metadata": {},
   "outputs": [],
   "source": [
    "violence_X_raw = data['pvf_risk_score_raw'].values\n",
    "violence_Y = data['recid_violence_two_year'].values\n",
    "violence_raw = []\n",
    "i = 1\n",
    "for train, test in cv.split(violence_X_raw, violence_Y):\n",
    "    y_pred, y_test = violence_X_raw[test], violence_Y[test]\n",
    "    fpr,tpr,thresholds = roc_curve(y_test, y_pred)\n",
    "    violence_raw.append(auc(fpr, tpr))\n",
    "    i+=1 \n",
    "raw_results.append(['recid_violence', round(np.mean(violence_raw),3), round(np.std(violence_raw),3)])"
   ]
  },
  {
   "cell_type": "code",
   "execution_count": 22,
   "metadata": {},
   "outputs": [
    {
     "data": {
      "text/plain": [
       "[['recid_two_year', 0.697, 0.003],\n",
       " ['recid_drug_two_year', 0.654, 0.005],\n",
       " ['recid_property_two_year', 0.724, 0.011],\n",
       " ['recid_F_two_year', 0.705, 0.002],\n",
       " ['recid_M_two_year', 0.687, 0.004],\n",
       " ['recid_violence', 0.797, 0.002]]"
      ]
     },
     "execution_count": 22,
     "metadata": {},
     "output_type": "execute_result"
    }
   ],
   "source": [
    "raw_results"
   ]
  },
  {
   "cell_type": "markdown",
   "metadata": {},
   "source": [
    "### Arnold PSA Calc"
   ]
  },
  {
   "cell_type": "code",
   "execution_count": 25,
   "metadata": {},
   "outputs": [],
   "source": [
    "labels = ['recid_two_year', 'recid_drug_two_year', 'recid_property_two_year', 'recid_F_two_year', 'recid_M_two_year']\n",
    "calc_results = []\n",
    "for l in labels:\n",
    "    Y = data[l].values\n",
    "    loop = []\n",
    "    i = 1\n",
    "    for train, test in cv.split(X_calc, Y):\n",
    "        y_pred, y_test = X_calc[test], Y[test]\n",
    "        fpr,tpr,thresholds = roc_curve(y_test, y_pred)\n",
    "        loop.append(auc(fpr, tpr))\n",
    "        i+=1 \n",
    "    calc_results.append([l, round(np.mean(loop), 3), round(np.std(loop),3)])"
   ]
  },
  {
   "cell_type": "code",
   "execution_count": 26,
   "metadata": {},
   "outputs": [
    {
     "data": {
      "text/plain": [
       "[['recid_two_year', 0.688, 0.003],\n",
       " ['recid_drug_two_year', 0.65, 0.005],\n",
       " ['recid_property_two_year', 0.698, 0.013],\n",
       " ['recid_F_two_year', 0.693, 0.002],\n",
       " ['recid_M_two_year', 0.678, 0.004]]"
      ]
     },
     "execution_count": 26,
     "metadata": {},
     "output_type": "execute_result"
    }
   ],
   "source": [
    "calc_results"
   ]
  },
  {
   "cell_type": "code",
   "execution_count": 27,
   "metadata": {},
   "outputs": [],
   "source": [
    "violence_calc_X = data['pvf_calc'].values\n",
    "violence_Y = data['recid_violence_two_year'].values\n",
    "violence_calc = []\n",
    "i = 1\n",
    "for train, test in cv.split(violence_calc_X, violence_Y):\n",
    "    y_pred, y_test = violence_calc_X[test], violence_Y[test]\n",
    "    fpr,tpr,thresholds = roc_curve(y_test, y_pred)\n",
    "    violence_calc.append(auc(fpr, tpr))\n",
    "    i+=1 \n",
    "calc_results.append(['recid_violence', round(np.mean(violence_calc),3), round(np.std(violence_calc),3)])"
   ]
  },
  {
   "cell_type": "code",
   "execution_count": 28,
   "metadata": {},
   "outputs": [
    {
     "data": {
      "text/plain": [
       "[['recid_two_year', 0.688, 0.003],\n",
       " ['recid_drug_two_year', 0.65, 0.005],\n",
       " ['recid_property_two_year', 0.698, 0.013],\n",
       " ['recid_F_two_year', 0.693, 0.002],\n",
       " ['recid_M_two_year', 0.678, 0.004],\n",
       " ['recid_violence', 0.796, 0.002]]"
      ]
     },
     "execution_count": 28,
     "metadata": {},
     "output_type": "execute_result"
    }
   ],
   "source": [
    "calc_results"
   ]
  }
 ],
 "metadata": {
  "kernelspec": {
   "display_name": "Python 3",
   "language": "python",
   "name": "python3"
  },
  "language_info": {
   "codemirror_mode": {
    "name": "ipython",
    "version": 3
   },
   "file_extension": ".py",
   "mimetype": "text/x-python",
   "name": "python",
   "nbconvert_exporter": "python",
   "pygments_lexer": "ipython3",
   "version": "3.7.0"
  }
 },
 "nbformat": 4,
 "nbformat_minor": 2
}
