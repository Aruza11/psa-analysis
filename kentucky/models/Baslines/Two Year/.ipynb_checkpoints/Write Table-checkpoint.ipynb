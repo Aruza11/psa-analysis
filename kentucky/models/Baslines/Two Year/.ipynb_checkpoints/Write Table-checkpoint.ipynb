{
 "cells": [
  {
   "cell_type": "code",
   "execution_count": 1,
   "metadata": {
    "hideCode": false,
    "hidePrompt": false
   },
   "outputs": [],
   "source": [
    "import pytablewriter\n",
    "import pandas as pd\n",
    "import numpy as np"
   ]
  },
  {
   "cell_type": "code",
   "execution_count": 2,
   "metadata": {
    "hideCode": false,
    "hidePrompt": false
   },
   "outputs": [],
   "source": [
    "result = pd.read_csv(\"C:\\\\Users\\\\binha\\\\Documents\\\\Duke\\\\Cynthia Research\\\\KY-analysis-mytrials\\\\KY Recidivism\\\\KY Results\\\\Baselines\\\\Two Year\\\\Two Year Baseline Summary.csv\")"
   ]
  },
  {
   "cell_type": "code",
   "execution_count": 3,
   "metadata": {
    "hideCode": false,
    "hidePrompt": false
   },
   "outputs": [
    {
     "data": {
      "text/html": [
       "<div>\n",
       "<style scoped>\n",
       "    .dataframe tbody tr th:only-of-type {\n",
       "        vertical-align: middle;\n",
       "    }\n",
       "\n",
       "    .dataframe tbody tr th {\n",
       "        vertical-align: top;\n",
       "    }\n",
       "\n",
       "    .dataframe thead th {\n",
       "        text-align: right;\n",
       "    }\n",
       "</style>\n",
       "<table border=\"1\" class=\"dataframe\">\n",
       "  <thead>\n",
       "    <tr style=\"text-align: right;\">\n",
       "      <th></th>\n",
       "      <th>Unnamed: 0</th>\n",
       "      <th>Logistic</th>\n",
       "      <th>STD</th>\n",
       "      <th>Lasso</th>\n",
       "      <th>STD.1</th>\n",
       "      <th>Linear SVM</th>\n",
       "      <th>STD.2</th>\n",
       "      <th>CART</th>\n",
       "      <th>STD.3</th>\n",
       "      <th>Random Forest</th>\n",
       "      <th>STD.4</th>\n",
       "      <th>XGBoost</th>\n",
       "      <th>STD.5</th>\n",
       "    </tr>\n",
       "  </thead>\n",
       "  <tbody>\n",
       "    <tr>\n",
       "      <th>0</th>\n",
       "      <td>Recidivism</td>\n",
       "      <td>0.726</td>\n",
       "      <td>0.001</td>\n",
       "      <td>0.723</td>\n",
       "      <td>0.001</td>\n",
       "      <td>0.726</td>\n",
       "      <td>0.001</td>\n",
       "      <td>0.731</td>\n",
       "      <td>0.002</td>\n",
       "      <td>0.738</td>\n",
       "      <td>0.002</td>\n",
       "      <td>0.743</td>\n",
       "      <td>0.003</td>\n",
       "    </tr>\n",
       "    <tr>\n",
       "      <th>1</th>\n",
       "      <td>Violence</td>\n",
       "      <td>0.811</td>\n",
       "      <td>0.004</td>\n",
       "      <td>0.810</td>\n",
       "      <td>0.003</td>\n",
       "      <td>0.810</td>\n",
       "      <td>0.003</td>\n",
       "      <td>0.813</td>\n",
       "      <td>0.001</td>\n",
       "      <td>0.821</td>\n",
       "      <td>0.002</td>\n",
       "      <td>0.821</td>\n",
       "      <td>0.002</td>\n",
       "    </tr>\n",
       "    <tr>\n",
       "      <th>2</th>\n",
       "      <td>Drug</td>\n",
       "      <td>0.688</td>\n",
       "      <td>0.002</td>\n",
       "      <td>0.691</td>\n",
       "      <td>0.002</td>\n",
       "      <td>0.692</td>\n",
       "      <td>0.002</td>\n",
       "      <td>0.695</td>\n",
       "      <td>0.006</td>\n",
       "      <td>0.698</td>\n",
       "      <td>0.004</td>\n",
       "      <td>0.702</td>\n",
       "      <td>0.005</td>\n",
       "    </tr>\n",
       "    <tr>\n",
       "      <th>3</th>\n",
       "      <td>Property</td>\n",
       "      <td>0.776</td>\n",
       "      <td>0.006</td>\n",
       "      <td>0.782</td>\n",
       "      <td>0.005</td>\n",
       "      <td>0.781</td>\n",
       "      <td>0.005</td>\n",
       "      <td>0.772</td>\n",
       "      <td>0.007</td>\n",
       "      <td>0.781</td>\n",
       "      <td>0.006</td>\n",
       "      <td>0.780</td>\n",
       "      <td>0.008</td>\n",
       "    </tr>\n",
       "    <tr>\n",
       "      <th>4</th>\n",
       "      <td>Felony</td>\n",
       "      <td>0.725</td>\n",
       "      <td>0.003</td>\n",
       "      <td>0.728</td>\n",
       "      <td>0.003</td>\n",
       "      <td>0.728</td>\n",
       "      <td>0.003</td>\n",
       "      <td>0.737</td>\n",
       "      <td>0.003</td>\n",
       "      <td>0.745</td>\n",
       "      <td>0.003</td>\n",
       "      <td>0.748</td>\n",
       "      <td>0.003</td>\n",
       "    </tr>\n",
       "    <tr>\n",
       "      <th>5</th>\n",
       "      <td>Misdemeanor</td>\n",
       "      <td>0.700</td>\n",
       "      <td>0.002</td>\n",
       "      <td>0.700</td>\n",
       "      <td>0.002</td>\n",
       "      <td>0.702</td>\n",
       "      <td>0.002</td>\n",
       "      <td>0.703</td>\n",
       "      <td>0.003</td>\n",
       "      <td>0.712</td>\n",
       "      <td>0.002</td>\n",
       "      <td>0.714</td>\n",
       "      <td>0.002</td>\n",
       "    </tr>\n",
       "  </tbody>\n",
       "</table>\n",
       "</div>"
      ],
      "text/plain": [
       "    Unnamed: 0  Logistic    STD  Lasso  STD.1  Linear SVM  STD.2   CART  \\\n",
       "0   Recidivism     0.726  0.001  0.723  0.001       0.726  0.001  0.731   \n",
       "1     Violence     0.811  0.004  0.810  0.003       0.810  0.003  0.813   \n",
       "2         Drug     0.688  0.002  0.691  0.002       0.692  0.002  0.695   \n",
       "3     Property     0.776  0.006  0.782  0.005       0.781  0.005  0.772   \n",
       "4       Felony     0.725  0.003  0.728  0.003       0.728  0.003  0.737   \n",
       "5  Misdemeanor     0.700  0.002  0.700  0.002       0.702  0.002  0.703   \n",
       "\n",
       "   STD.3  Random Forest  STD.4  XGBoost  STD.5  \n",
       "0  0.002          0.738  0.002    0.743  0.003  \n",
       "1  0.001          0.821  0.002    0.821  0.002  \n",
       "2  0.006          0.698  0.004    0.702  0.005  \n",
       "3  0.007          0.781  0.006    0.780  0.008  \n",
       "4  0.003          0.745  0.003    0.748  0.003  \n",
       "5  0.003          0.712  0.002    0.714  0.002  "
      ]
     },
     "execution_count": 3,
     "metadata": {},
     "output_type": "execute_result"
    }
   ],
   "source": [
    "result"
   ]
  },
  {
   "cell_type": "code",
   "execution_count": 4,
   "metadata": {
    "hideCode": false,
    "hidePrompt": false
   },
   "outputs": [],
   "source": [
    "cols = result.columns.to_list()\n",
    "values = result.values.tolist()"
   ]
  },
  {
   "cell_type": "code",
   "execution_count": 5,
   "metadata": {
    "hideCode": false,
    "hideOutput": true,
    "hidePrompt": false
   },
   "outputs": [
    {
     "name": "stdout",
     "output_type": "stream",
     "text": [
      "\\begin{array}{l | r | r | r | r | r | r | r | r | r | r | r | r} \\hline\n",
      "    Recidivism  & 0.7260 & 0.001 & 0.723 & 0.001 & 0.7260 & 0.001 & 0.731 &  0.00200 & 0.7380 & 0.002 & 0.7430 & 0.003 \\\\ \\hline\n",
      "    Violence    & 0.8110 & 0.004 & 0.810 & 0.003 & 0.8100 & 0.003 & 0.813 &  0.00100 & 0.8210 & 0.002 & 0.8210 & 0.002 \\\\ \\hline\n",
      "    Drug        & 0.6880 & 0.002 & 0.691 & 0.002 & 0.6920 & 0.002 & 0.695 &  0.00600 & 0.6980 & 0.004 & 0.7020 & 0.005 \\\\ \\hline\n",
      "    Property    & 0.7760 & 0.006 & 0.782 & 0.005 & 0.7810 & 0.005 & 0.772 &  0.00700 & 0.7810 & 0.006 & 0.7800 & 0.008 \\\\ \\hline\n",
      "    Felony      & 0.7250 & 0.003 & 0.728 & 0.003 & 0.7280 & 0.003 & 0.737 &  0.00300 & 0.7450 & 0.003 & 0.7480 & 0.003 \\\\ \\hline\n",
      "    Misdemeanor & 0.7000 & 0.002 & 0.700 & 0.002 & 0.7020 & 0.002 & 0.703 &  0.00300 & 0.7120 & 0.002 & 0.7140 & 0.002 \\\\ \\hline\n",
      "\\end{array}\n"
     ]
    }
   ],
   "source": [
    "writer = pytablewriter.LatexTableWriter()\n",
    "writer.value_matrix = values\n",
    "writer.write_table()"
   ]
  }
 ],
 "metadata": {
  "hide_code_all_hidden": false,
  "kernelspec": {
   "display_name": "Python 3",
   "language": "python",
   "name": "python3"
  },
  "language_info": {
   "codemirror_mode": {
    "name": "ipython",
    "version": 3
   },
   "file_extension": ".py",
   "mimetype": "text/x-python",
   "name": "python",
   "nbconvert_exporter": "python",
   "pygments_lexer": "ipython3",
   "version": "3.7.0"
  }
 },
 "nbformat": 4,
 "nbformat_minor": 2
}
