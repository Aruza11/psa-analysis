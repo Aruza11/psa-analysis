{
 "cells": [
  {
   "cell_type": "code",
   "execution_count": 2,
   "metadata": {},
   "outputs": [],
   "source": [
    "import pandas as pd \n",
    "import numpy as np\n",
    "import csv\n",
    "import baseline_functions as base"
   ]
  },
  {
   "cell_type": "code",
   "execution_count": 3,
   "metadata": {},
   "outputs": [],
   "source": [
    "### load data\n",
    "data = pd.read_csv(\"~/Documents/Duke/Cynthia Research/KY-analysis-mytrials/KY Recidivism/KY data/kentucky_data.csv\")\n",
    "data = data.drop(['PersonID', 'screening_date','fta_risk_score_raw','nca_risk_score_raw',\n",
    "                  'pvf_risk_score_raw', 'fta_calc', 'nca_calc', 'pvf_calc'], axis=1)\n",
    "X = data.loc[:,:'current_violence'].values\n",
    "Y = data['recid_drug'].values"
   ]
  },
  {
   "cell_type": "code",
   "execution_count": null,
   "metadata": {},
   "outputs": [],
   "source": [
    "#### Logistic\n",
    "c = [1e-4, 1e-3, 0.01, 0.1, 1]\n",
    "logistic_train, logistic_test = base.Logistic(X,Y,c,816)\n",
    "\n",
    "#### Lasso\n",
    "alpha = [1e-4, 1e-3, 0.01, 0.1, 1]\n",
    "lasso_train, lasso_test = base.Lasso(X,Y,alpha,816)\n",
    "\n",
    "#### LinearSVM\n",
    "c = [1e-4, 1e-3, 0.01, 0.1, 1]\n",
    "svm_train, svm_test = base.LinearSVM(X,Y,c,816)\n",
    "\n",
    "#### CART\n",
    "depth = [7,8,9]\n",
    "cart_train, cart_test = base.CART(X,Y,depth,816)\n",
    "\n",
    "#### Random Forest\n",
    "n_estimators =  [40,50]\n",
    "depth = [6,7]\n",
    "rf_train, rf_test = base.RF(X,Y, depth, n_estimators, 816)\n",
    "\n",
    "#### XGBoost\n",
    "learning_rate = [0.01]\n",
    "depth = [6] \n",
    "n_estimators = [200]\n",
    "xgb_train, xgb_test = base.XGB(X,Y,learning_rate, depth, n_estimators, 816)"
   ]
  },
  {
   "cell_type": "code",
   "execution_count": 7,
   "metadata": {},
   "outputs": [],
   "source": [
    "results = [[\"Logistic\", np.mean(logistic_train) - np.mean(logistic_test), np.mean(logistic_test)],\n",
    "           [\"Lasso\", np.mean(lasso_train) - np.mean(lasso_test), np.mean(lasso_test)],\n",
    "           [\"SVM\", np.mean(svm_train) - np.mean(svm_test), np.mean(svm_test)],\n",
    "           [\"CART\", np.mean(cart_train) - np.mean(cart_test), np.mean(cart_test)],\n",
    "           [\"RF\", np.mean(rf_train) - np.mean(rf_test), np.mean(rf_test)],\n",
    "           [\"XGBoost\", np.mean(xgb_train) - np.mean(xgb_test), np.mean(xgb_test)]]"
   ]
  },
  {
   "cell_type": "code",
   "execution_count": 8,
   "metadata": {},
   "outputs": [
    {
     "data": {
      "text/plain": [
       "[['Logistic', 0.0012230875600846014, 0.7028041169658579],\n",
       " ['Lasso', 0.0007964676939665738, 0.7066879439738007],\n",
       " ['SVM', 0.0009616659900636426, 0.7074199630746731],\n",
       " ['CART', 0.013615902914387301, 0.7133056656948464],\n",
       " ['RF', 0.015803302874988656, 0.7191877251998802],\n",
       " ['XGBoost', 0.018365441758741885, 0.7220978554940503]]"
      ]
     },
     "execution_count": 8,
     "metadata": {},
     "output_type": "execute_result"
    }
   ],
   "source": [
    "results"
   ]
  },
  {
   "cell_type": "code",
   "execution_count": 9,
   "metadata": {},
   "outputs": [],
   "source": [
    "path = \"C:\\\\Users\\\\binha\\\\Documents\\\\Duke\\\\Cynthia Research\\\\KY-analysis-mytrials\\\\KY Recidivism\\\\KY Results\\\\Baselines\\\\\"\n",
    "results = [[\"Drug\", round(np.mean(logistic_test),3), round(np.std(logistic_test), 3), round(np.mean(lasso_test),3), round(np.std(lasso_test), 3), round(np.mean(svm_test),3), round(np.std(svm_test), 3), round(np.mean(cart_test),3), round(np.std(cart_test), 3), round(np.mean(rf_test),3), round(np.std(rf_test), 3), round(np.mean(xgb_test),3), round(np.std(xgb_test), 3)]]\n",
    "with open(path + 'Baseline Summary.csv', 'a') as writeFile:\n",
    "    writer = csv.writer(writeFile)\n",
    "    writer.writerows(results)"
   ]
  }
 ],
 "metadata": {
  "kernelspec": {
   "display_name": "Python 3",
   "language": "python",
   "name": "python3"
  },
  "language_info": {
   "codemirror_mode": {
    "name": "ipython",
    "version": 3
   },
   "file_extension": ".py",
   "mimetype": "text/x-python",
   "name": "python",
   "nbconvert_exporter": "python",
   "pygments_lexer": "ipython3",
   "version": "3.7.0"
  }
 },
 "nbformat": 4,
 "nbformat_minor": 2
}
