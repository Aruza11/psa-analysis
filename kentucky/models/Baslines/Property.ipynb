{
 "cells": [
  {
   "cell_type": "code",
   "execution_count": 8,
   "metadata": {},
   "outputs": [],
   "source": [
    "import pandas as pd \n",
    "import numpy as np\n",
    "import csv\n",
    "import baseline_functions as base"
   ]
  },
  {
   "cell_type": "code",
   "execution_count": 9,
   "metadata": {},
   "outputs": [],
   "source": [
    "### load data\n",
    "data = pd.read_csv(\"~/Documents/Duke/Cynthia Research/KY-analysis-mytrials/KY Recidivism/KY data/kentucky_data.csv\")\n",
    "data = data.drop(['PersonID', 'screening_date','fta_risk_score_raw','nca_risk_score_raw',\n",
    "                  'pvf_risk_score_raw', 'fta_calc', 'nca_calc', 'pvf_calc'], axis=1)\n",
    "X = data.loc[:,:'current_violence'].values\n",
    "Y = data['recid_property'].values"
   ]
  },
  {
   "cell_type": "code",
   "execution_count": 13,
   "metadata": {},
   "outputs": [],
   "source": [
    "#### Logistic\n",
    "c = [1e-4, 1e-3, 0.01, 0.1, 1]\n",
    "logistic_train, logistic_test = base.Logistic(X,Y,c,816)\n",
    "\n",
    "#### Lasso\n",
    "alpha = [1e-4, 1e-3, 0.01, 0.1, 1]\n",
    "lasso_train, lasso_test = base.Lasso(X,Y,alpha,816)\n",
    "\n",
    "#### LinearSVM\n",
    "c = [1e-4, 1e-3, 0.01, 0.1, 1]\n",
    "svm_train, svm_test = base.LinearSVM(X,Y,c,816)\n",
    "\n",
    "#### CART\n",
    "depth = [6,7,8]\n",
    "cart_train, cart_test = base.CART(X,Y,depth,816)\n",
    "\n",
    "#### Random Forest\n",
    "n_estimators =  [40,50]\n",
    "depth = [5,6]\n",
    "rf_train, rf_test = base.RF(X,Y, depth, n_estimators, 816)\n",
    "\n",
    "#### XGBoost\n",
    "learning_rate = [0.01]\n",
    "depth = [6]\n",
    "n_estimators = [200]\n",
    "xgb_train, xgb_test = base.XGB(X,Y,learning_rate, depth, n_estimators, 816)"
   ]
  },
  {
   "cell_type": "code",
   "execution_count": 14,
   "metadata": {},
   "outputs": [],
   "source": [
    "results = [[\"Logistic\", np.mean(logistic_train) - np.mean(logistic_test), np.mean(logistic_test)],\n",
    "           [\"Lasso\", np.mean(lasso_train) - np.mean(lasso_test), np.mean(lasso_test)],\n",
    "           [\"SVM\", np.mean(svm_train) - np.mean(svm_test), np.mean(svm_test)],\n",
    "           [\"CART\", np.mean(cart_train) - np.mean(cart_test), np.mean(cart_test)],\n",
    "           [\"RF\", np.mean(rf_train) - np.mean(rf_test), np.mean(rf_test)],\n",
    "           [\"XGBoost\", np.mean(xgb_train) - np.mean(xgb_test), np.mean(xgb_test)]]"
   ]
  },
  {
   "cell_type": "code",
   "execution_count": 15,
   "metadata": {},
   "outputs": [
    {
     "data": {
      "text/plain": [
       "[['Logistic', 0.003378957258814208, 0.7833193908509682],\n",
       " ['Lasso', 0.001261997214417443, 0.7899709206571495],\n",
       " ['SVM', 0.0026702302225560803, 0.7882574710102773],\n",
       " ['CART', 0.012095992826532509, 0.7807895766038676],\n",
       " ['RF', 0.013437126068258753, 0.7897221360673286],\n",
       " ['XGBoost', 0.014629210120366554, 0.7890620937400328]]"
      ]
     },
     "execution_count": 15,
     "metadata": {},
     "output_type": "execute_result"
    }
   ],
   "source": [
    "results"
   ]
  },
  {
   "cell_type": "code",
   "execution_count": 16,
   "metadata": {},
   "outputs": [],
   "source": [
    "path = \"C:\\\\Users\\\\binha\\\\Documents\\\\Duke\\\\Cynthia Research\\\\KY-analysis-mytrials\\\\KY Recidivism\\\\KY Results\\\\Baselines\\\\\"\n",
    "results = [[\"Property\", round(np.mean(logistic_test),3), round(np.std(logistic_test), 3), round(np.mean(lasso_test),3), round(np.std(lasso_test), 3), round(np.mean(svm_test),3), round(np.std(svm_test), 3), round(np.mean(cart_test),3), round(np.std(cart_test), 3), round(np.mean(rf_test),3), round(np.std(rf_test), 3), round(np.mean(xgb_test),3), round(np.std(xgb_test), 3)]]\n",
    "with open(path + 'Baseline Summary.csv', 'a') as writeFile:\n",
    "    writer = csv.writer(writeFile)\n",
    "    writer.writerows(results)"
   ]
  }
 ],
 "metadata": {
  "kernelspec": {
   "display_name": "Python 3",
   "language": "python",
   "name": "python3"
  },
  "language_info": {
   "codemirror_mode": {
    "name": "ipython",
    "version": 3
   },
   "file_extension": ".py",
   "mimetype": "text/x-python",
   "name": "python",
   "nbconvert_exporter": "python",
   "pygments_lexer": "ipython3",
   "version": "3.7.0"
  }
 },
 "nbformat": 4,
 "nbformat_minor": 2
}
