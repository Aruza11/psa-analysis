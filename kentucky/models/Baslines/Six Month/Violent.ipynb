{
 "cells": [
  {
   "cell_type": "code",
   "execution_count": 4,
   "metadata": {},
   "outputs": [],
   "source": [
    "import pandas as pd \n",
    "import numpy as np\n",
    "import csv\n",
    "import baseline_functions as base"
   ]
  },
  {
   "cell_type": "code",
   "execution_count": 2,
   "metadata": {},
   "outputs": [],
   "source": [
    "### train data\n",
    "train_data = pd.read_csv(\"~/Documents/Duke/Cynthia Research/KY-analysis-mytrials/KY Recidivism/KY data/train.csv\")\n",
    "train_data = train_data.drop(['PersonID', 'screening_date', 'fta_risk_score_raw','nca_risk_score_raw',\n",
    "                  'pvf_risk_score_raw', 'fta_calc', 'nca_calc', 'pvf_calc'], axis=1)\n",
    "train_X = train_data.loc[:,:'current_violence']\n",
    "train_Y = train_data['recid_violence_six_month'].values\n",
    "\n",
    "### test data\n",
    "test_data = pd.read_csv(\"~/Documents/Duke/Cynthia Research/KY-analysis-mytrials/KY Recidivism/KY data/test.csv\")\n",
    "test_data = test_data.drop(['PersonID', 'screening_date','fta_risk_score_raw','nca_risk_score_raw',\n",
    "                  'pvf_risk_score_raw', 'fta_calc', 'nca_calc', 'pvf_calc'], axis=1)\n",
    "test_X = test_data.loc[:,:'current_violence']\n",
    "test_Y = test_data['recid_violence_six_month'].values"
   ]
  },
  {
   "cell_type": "code",
   "execution_count": null,
   "metadata": {},
   "outputs": [],
   "source": [
    "#### Logistic\n",
    "c = [1e-4, 1e-3, 0.01, 0.1, 1]\n",
    "logistic_summary = base.Logistic(train_X, train_Y, test_X, test_Y, c,816)\n",
    "\n",
    "#### Lasso\n",
    "alpha = [1e-4, 1e-3, 0.01, 0.1, 1]\n",
    "lasso_summary = base.Lasso(train_X, train_Y, test_X, test_Y, alpha,816)\n",
    "\n",
    "#### LinearSVM\n",
    "c = [1e-4, 1e-3, 0.01, 0.1, 1]\n",
    "svm_summary = base.LinearSVM(train_X, train_Y, test_X, test_Y, c,816)\n",
    "\n",
    "#### CART\n",
    "depth = [6,7]\n",
    "cart_summary = base.CART(train_X, train_Y, test_X, test_Y, depth,816)\n",
    "\n",
    "#### Random Forest\n",
    "n_estimators =  [40,50]\n",
    "depth = [6,7]\n",
    "rf_summary = base.RF(train_X, train_Y, test_X, test_Y, depth, n_estimators, 816)\n",
    "\n",
    "#### XGBoost\n",
    "learning_rate = [0.01]\n",
    "depth = [8]\n",
    "n_estimators = [180]\n",
    "xgb_summary = base.XGB(train_X, train_Y, test_X, test_Y, learning_rate, depth, n_estimators, 816)"
   ]
  },
  {
   "cell_type": "code",
   "execution_count": 14,
   "metadata": {},
   "outputs": [],
   "source": [
    "results = [[\"Logistic\", logistic_summary['best_validation_auc'], logistic_summary['best_validation_auc_diff'], logistic_summary['best_param']],\n",
    "           [\"Lasso\", lasso_summary['best_validation_auc'], lasso_summary['best_validation_auc_diff'], lasso_summary['best_param']],\n",
    "           [\"LinearSVM\", svm_summary['best_validation_auc'], svm_summary['best_validation_auc_diff'], svm_summary['best_param']],\n",
    "           [\"CART\", cart_summary['best_validation_auc'], cart_summary['best_validation_auc_diff'], cart_summary['best_param']],\n",
    "           [\"RF\", rf_summary['best_validation_auc'], rf_summary['best_validation_auc_diff'], rf_summary['best_param']],\n",
    "           [\"XGBoost\", xgb_summary['best_validation_auc'], xgb_summary['best_validation_auc_diff'], xgb_summary['best_param']]]"
   ]
  },
  {
   "cell_type": "code",
   "execution_count": 15,
   "metadata": {},
   "outputs": [
    {
     "data": {
      "text/plain": [
       "[['Logistic', 0.7262262304280555, 0.0003779573528246427, {'C': 0.1}],\n",
       " ['Lasso', 0.7224235099905708, 0.00038163202991159384, {'alpha': 0.0001}],\n",
       " ['LinearSVM', 0.7256526577303598, 0.000327777740225188, {'C': 0.1}],\n",
       " ['CART', 0.7308200304942606, 0.013414227454195182, {'max_depth': 8}],\n",
       " ['RF',\n",
       "  0.7382671661372947,\n",
       "  0.01736400516544112,\n",
       "  {'max_depth': 10, 'n_estimators': 50}],\n",
       " ['XGBoost',\n",
       "  0.743203919672335,\n",
       "  0.020142671817128255,\n",
       "  {'learning_rate': 0.03, 'max_depth': 7, 'n_estimators': 200}]]"
      ]
     },
     "execution_count": 15,
     "metadata": {},
     "output_type": "execute_result"
    }
   ],
   "source": [
    "results"
   ]
  },
  {
   "cell_type": "code",
   "execution_count": 7,
   "metadata": {},
   "outputs": [],
   "source": [
    "path = \"C:\\\\Users\\\\binha\\\\Documents\\\\Duke\\\\Cynthia Research\\\\KY-analysis-mytrials\\\\KY Recidivism\\\\KY Results\\\\Baselines\\\\Six Month\\\\\"\n",
    "results = [[\"Violent\", round(logistic_summary['best_validation_auc'],3), round(logistic_summary['best_validation_std'], 3), \n",
    "            round(lasso_summary['best_validation_auc'],3), round(lasso_summary['best_validation_std'], 3), \n",
    "            round(svm_summary['best_validation_auc'],3), round(lasso_summary['best_validation_std'], 3), \n",
    "            round(cart_summary['best_validation_auc'],3), round(cart_summary['best_validation_std'], 3), \n",
    "            round(rf_summary['best_validation_auc'],3), round(rf_summary['best_validation_std'], 3), \n",
    "            round(xgb_summary['best_validation_auc'],3), round(xgb_summary['best_validation_std'], 3)]]\n",
    "with open(path + 'Six Month Baseline Summary.csv', 'a') as writeFile:\n",
    "    writer = csv.writer(writeFile)\n",
    "    writer.writerows(results)"
   ]
  }
 ],
 "metadata": {
  "kernelspec": {
   "display_name": "Python 3",
   "language": "python",
   "name": "python3"
  },
  "language_info": {
   "codemirror_mode": {
    "name": "ipython",
    "version": 3
   },
   "file_extension": ".py",
   "mimetype": "text/x-python",
   "name": "python",
   "nbconvert_exporter": "python",
   "pygments_lexer": "ipython3",
   "version": "3.7.4"
  }
 },
 "nbformat": 4,
 "nbformat_minor": 2
}
