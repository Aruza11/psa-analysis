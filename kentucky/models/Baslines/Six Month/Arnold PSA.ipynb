{
 "cells": [
  {
   "cell_type": "code",
   "execution_count": 1,
   "metadata": {},
   "outputs": [],
   "source": [
    "import pandas as pd \n",
    "import numpy as np\n",
    "import csv\n",
    "from sklearn.model_selection import KFold\n",
    "from sklearn.metrics import roc_curve, auc"
   ]
  },
  {
   "cell_type": "code",
   "execution_count": 2,
   "metadata": {},
   "outputs": [],
   "source": [
    "### load data\n",
    "data = pd.read_csv(\"~/Documents/Duke/Cynthia Research/KY-analysis-mytrials/KY Recidivism/KY data/kentucky_data.csv\")\n",
    "X_raw = data['nca_risk_score_raw'].values\n",
    "X_calc = data['nca_calc'].values\n",
    "\n",
    "## set up cross validation\n",
    "cv = KFold(n_splits=5,shuffle=True,random_state=816)"
   ]
  },
  {
   "cell_type": "markdown",
   "metadata": {},
   "source": [
    "### Arnold PSA Raw"
   ]
  },
  {
   "cell_type": "code",
   "execution_count": 3,
   "metadata": {},
   "outputs": [],
   "source": [
    "labels = ['recid_six_month', 'recid_drug_six_month', 'recid_property_six_month', 'recid_F_six_month', 'recid_M_six_month']\n",
    "raw_results = []\n",
    "for l in labels:\n",
    "    Y = data[l].values\n",
    "    loop = []\n",
    "    i = 1\n",
    "    for train, test in cv.split(X_raw, Y):\n",
    "        y_pred, y_test = X_raw[test], Y[test]\n",
    "        fpr,tpr,thresholds = roc_curve(y_test, y_pred)\n",
    "        loop.append(auc(fpr, tpr))\n",
    "        i+=1 \n",
    "    raw_results.append([l, round(np.mean(loop), 3), round(np.std(loop),3)])"
   ]
  },
  {
   "cell_type": "code",
   "execution_count": 4,
   "metadata": {},
   "outputs": [
    {
     "data": {
      "text/plain": [
       "[['recid_six_month', 0.71, 0.004],\n",
       " ['recid_drug_six_month', 0.672, 0.008],\n",
       " ['recid_property_six_month', 0.736, 0.013],\n",
       " ['recid_F_six_month', 0.719, 0.005],\n",
       " ['recid_M_six_month', 0.704, 0.006]]"
      ]
     },
     "execution_count": 4,
     "metadata": {},
     "output_type": "execute_result"
    }
   ],
   "source": [
    "raw_results"
   ]
  },
  {
   "cell_type": "code",
   "execution_count": 5,
   "metadata": {},
   "outputs": [],
   "source": [
    "violence_X_raw = data['pvf_risk_score_raw'].values\n",
    "violence_Y = data['recid_violence_six_month'].values\n",
    "violence_raw = []\n",
    "i = 1\n",
    "for train, test in cv.split(violence_X_raw, violence_Y):\n",
    "    y_pred, y_test = violence_X_raw[test], violence_Y[test]\n",
    "    fpr,tpr,thresholds = roc_curve(y_test, y_pred)\n",
    "    violence_raw.append(auc(fpr, tpr))\n",
    "    i+=1 \n",
    "raw_results.append(['recid_violence', round(np.mean(violence_raw),3), round(np.std(violence_raw),3)])"
   ]
  },
  {
   "cell_type": "code",
   "execution_count": 6,
   "metadata": {},
   "outputs": [
    {
     "data": {
      "text/plain": [
       "[['recid_six_month', 0.71, 0.004],\n",
       " ['recid_drug_six_month', 0.672, 0.008],\n",
       " ['recid_property_six_month', 0.736, 0.013],\n",
       " ['recid_F_six_month', 0.719, 0.005],\n",
       " ['recid_M_six_month', 0.704, 0.006],\n",
       " ['recid_violence', 0.85, 0.006]]"
      ]
     },
     "execution_count": 6,
     "metadata": {},
     "output_type": "execute_result"
    }
   ],
   "source": [
    "raw_results"
   ]
  },
  {
   "cell_type": "markdown",
   "metadata": {},
   "source": [
    "### Arnold PSA Calc"
   ]
  },
  {
   "cell_type": "code",
   "execution_count": 7,
   "metadata": {},
   "outputs": [],
   "source": [
    "labels = ['recid_six_month', 'recid_drug_six_month', 'recid_property_six_month', 'recid_F_six_month', 'recid_M_six_month']\n",
    "calc_results = []\n",
    "for l in labels:\n",
    "    Y = data[l].values\n",
    "    loop = []\n",
    "    i = 1\n",
    "    for train, test in cv.split(X_calc, Y):\n",
    "        y_pred, y_test = X_calc[test], Y[test]\n",
    "        fpr,tpr,thresholds = roc_curve(y_test, y_pred)\n",
    "        loop.append(auc(fpr, tpr))\n",
    "        i+=1 \n",
    "    calc_results.append([l, round(np.mean(loop), 3), round(np.std(loop),3)])"
   ]
  },
  {
   "cell_type": "code",
   "execution_count": 8,
   "metadata": {},
   "outputs": [
    {
     "data": {
      "text/plain": [
       "[['recid_six_month', 0.702, 0.003],\n",
       " ['recid_drug_six_month', 0.671, 0.006],\n",
       " ['recid_property_six_month', 0.704, 0.02],\n",
       " ['recid_F_six_month', 0.709, 0.005],\n",
       " ['recid_M_six_month', 0.697, 0.004]]"
      ]
     },
     "execution_count": 8,
     "metadata": {},
     "output_type": "execute_result"
    }
   ],
   "source": [
    "calc_results"
   ]
  },
  {
   "cell_type": "code",
   "execution_count": 9,
   "metadata": {},
   "outputs": [],
   "source": [
    "violence_calc_X = data['pvf_calc'].values\n",
    "violence_Y = data['recid_violence_six_month'].values\n",
    "violence_calc = []\n",
    "i = 1\n",
    "for train, test in cv.split(violence_calc_X, violence_Y):\n",
    "    y_pred, y_test = violence_calc_X[test], violence_Y[test]\n",
    "    fpr,tpr,thresholds = roc_curve(y_test, y_pred)\n",
    "    violence_calc.append(auc(fpr, tpr))\n",
    "    i+=1 \n",
    "calc_results.append(['recid_violence', round(np.mean(violence_calc),3), round(np.std(violence_calc),3)])"
   ]
  },
  {
   "cell_type": "code",
   "execution_count": 10,
   "metadata": {},
   "outputs": [
    {
     "data": {
      "text/plain": [
       "[['recid_six_month', 0.702, 0.003],\n",
       " ['recid_drug_six_month', 0.671, 0.006],\n",
       " ['recid_property_six_month', 0.704, 0.02],\n",
       " ['recid_F_six_month', 0.709, 0.005],\n",
       " ['recid_M_six_month', 0.697, 0.004],\n",
       " ['recid_violence', 0.849, 0.005]]"
      ]
     },
     "execution_count": 10,
     "metadata": {},
     "output_type": "execute_result"
    }
   ],
   "source": [
    "calc_results"
   ]
  }
 ],
 "metadata": {
  "kernelspec": {
   "display_name": "Python 3",
   "language": "python",
   "name": "python3"
  },
  "language_info": {
   "codemirror_mode": {
    "name": "ipython",
    "version": 3
   },
   "file_extension": ".py",
   "mimetype": "text/x-python",
   "name": "python",
   "nbconvert_exporter": "python",
   "pygments_lexer": "ipython3",
   "version": "3.7.0"
  }
 },
 "nbformat": 4,
 "nbformat_minor": 2
}
