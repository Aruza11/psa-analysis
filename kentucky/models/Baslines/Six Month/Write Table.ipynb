{
 "cells": [
  {
   "cell_type": "code",
   "execution_count": 1,
   "metadata": {
    "hideCode": false,
    "hidePrompt": false
   },
   "outputs": [],
   "source": [
    "import pytablewriter\n",
    "import pandas as pd\n",
    "import numpy as np"
   ]
  },
  {
   "cell_type": "code",
   "execution_count": 2,
   "metadata": {
    "hideCode": false,
    "hidePrompt": false
   },
   "outputs": [],
   "source": [
    "result = pd.read_csv(\"C:\\\\Users\\\\binha\\\\Documents\\\\Duke\\\\Cynthia Research\\\\KY-analysis-mytrials\\\\KY Recidivism\\\\KY Results\\\\Baselines\\\\Six Month\\\\Six Month Baseline Summary.csv\")"
   ]
  },
  {
   "cell_type": "code",
   "execution_count": 3,
   "metadata": {
    "hideCode": false,
    "hidePrompt": false
   },
   "outputs": [
    {
     "data": {
      "text/html": [
       "<div>\n",
       "<style scoped>\n",
       "    .dataframe tbody tr th:only-of-type {\n",
       "        vertical-align: middle;\n",
       "    }\n",
       "\n",
       "    .dataframe tbody tr th {\n",
       "        vertical-align: top;\n",
       "    }\n",
       "\n",
       "    .dataframe thead th {\n",
       "        text-align: right;\n",
       "    }\n",
       "</style>\n",
       "<table border=\"1\" class=\"dataframe\">\n",
       "  <thead>\n",
       "    <tr style=\"text-align: right;\">\n",
       "      <th></th>\n",
       "      <th>Unnamed: 0</th>\n",
       "      <th>Logistic</th>\n",
       "      <th>STD</th>\n",
       "      <th>Lasso</th>\n",
       "      <th>STD.1</th>\n",
       "      <th>Linear SVM</th>\n",
       "      <th>STD.2</th>\n",
       "      <th>CART</th>\n",
       "      <th>STD.3</th>\n",
       "      <th>Random Forest</th>\n",
       "      <th>STD.4</th>\n",
       "      <th>XGBoost</th>\n",
       "      <th>STD.5</th>\n",
       "    </tr>\n",
       "  </thead>\n",
       "  <tbody>\n",
       "    <tr>\n",
       "      <th>0</th>\n",
       "      <td>Recidivism</td>\n",
       "      <td>0.750</td>\n",
       "      <td>0.003</td>\n",
       "      <td>0.756</td>\n",
       "      <td>0.004</td>\n",
       "      <td>0.756</td>\n",
       "      <td>0.004</td>\n",
       "      <td>0.761</td>\n",
       "      <td>0.005</td>\n",
       "      <td>0.764</td>\n",
       "      <td>0.005</td>\n",
       "      <td>0.768</td>\n",
       "      <td>0.005</td>\n",
       "    </tr>\n",
       "    <tr>\n",
       "      <th>1</th>\n",
       "      <td>Violence</td>\n",
       "      <td>0.873</td>\n",
       "      <td>0.007</td>\n",
       "      <td>0.876</td>\n",
       "      <td>0.008</td>\n",
       "      <td>0.875</td>\n",
       "      <td>0.008</td>\n",
       "      <td>0.872</td>\n",
       "      <td>0.004</td>\n",
       "      <td>0.878</td>\n",
       "      <td>0.006</td>\n",
       "      <td>0.871</td>\n",
       "      <td>0.008</td>\n",
       "    </tr>\n",
       "    <tr>\n",
       "      <th>2</th>\n",
       "      <td>Drug</td>\n",
       "      <td>0.764</td>\n",
       "      <td>0.006</td>\n",
       "      <td>0.769</td>\n",
       "      <td>0.006</td>\n",
       "      <td>0.767</td>\n",
       "      <td>0.006</td>\n",
       "      <td>0.771</td>\n",
       "      <td>0.012</td>\n",
       "      <td>0.770</td>\n",
       "      <td>0.011</td>\n",
       "      <td>0.776</td>\n",
       "      <td>0.010</td>\n",
       "    </tr>\n",
       "    <tr>\n",
       "      <th>3</th>\n",
       "      <td>Property</td>\n",
       "      <td>0.851</td>\n",
       "      <td>0.014</td>\n",
       "      <td>0.857</td>\n",
       "      <td>0.012</td>\n",
       "      <td>0.848</td>\n",
       "      <td>0.012</td>\n",
       "      <td>0.835</td>\n",
       "      <td>0.007</td>\n",
       "      <td>0.857</td>\n",
       "      <td>0.011</td>\n",
       "      <td>0.843</td>\n",
       "      <td>0.012</td>\n",
       "    </tr>\n",
       "    <tr>\n",
       "      <th>4</th>\n",
       "      <td>Felony</td>\n",
       "      <td>0.766</td>\n",
       "      <td>0.004</td>\n",
       "      <td>0.771</td>\n",
       "      <td>0.004</td>\n",
       "      <td>0.770</td>\n",
       "      <td>0.004</td>\n",
       "      <td>0.780</td>\n",
       "      <td>0.008</td>\n",
       "      <td>0.790</td>\n",
       "      <td>0.006</td>\n",
       "      <td>0.794</td>\n",
       "      <td>0.005</td>\n",
       "    </tr>\n",
       "    <tr>\n",
       "      <th>5</th>\n",
       "      <td>Misdemeanor</td>\n",
       "      <td>0.736</td>\n",
       "      <td>0.004</td>\n",
       "      <td>0.742</td>\n",
       "      <td>0.004</td>\n",
       "      <td>0.741</td>\n",
       "      <td>0.004</td>\n",
       "      <td>0.745</td>\n",
       "      <td>0.006</td>\n",
       "      <td>0.744</td>\n",
       "      <td>0.005</td>\n",
       "      <td>0.752</td>\n",
       "      <td>0.006</td>\n",
       "    </tr>\n",
       "  </tbody>\n",
       "</table>\n",
       "</div>"
      ],
      "text/plain": [
       "    Unnamed: 0  Logistic    STD  Lasso  STD.1  Linear SVM  STD.2   CART  \\\n",
       "0   Recidivism     0.750  0.003  0.756  0.004       0.756  0.004  0.761   \n",
       "1     Violence     0.873  0.007  0.876  0.008       0.875  0.008  0.872   \n",
       "2         Drug     0.764  0.006  0.769  0.006       0.767  0.006  0.771   \n",
       "3     Property     0.851  0.014  0.857  0.012       0.848  0.012  0.835   \n",
       "4       Felony     0.766  0.004  0.771  0.004       0.770  0.004  0.780   \n",
       "5  Misdemeanor     0.736  0.004  0.742  0.004       0.741  0.004  0.745   \n",
       "\n",
       "   STD.3  Random Forest  STD.4  XGBoost  STD.5  \n",
       "0  0.005          0.764  0.005    0.768  0.005  \n",
       "1  0.004          0.878  0.006    0.871  0.008  \n",
       "2  0.012          0.770  0.011    0.776  0.010  \n",
       "3  0.007          0.857  0.011    0.843  0.012  \n",
       "4  0.008          0.790  0.006    0.794  0.005  \n",
       "5  0.006          0.744  0.005    0.752  0.006  "
      ]
     },
     "execution_count": 3,
     "metadata": {},
     "output_type": "execute_result"
    }
   ],
   "source": [
    "result"
   ]
  },
  {
   "cell_type": "code",
   "execution_count": 4,
   "metadata": {
    "hideCode": false,
    "hidePrompt": false
   },
   "outputs": [],
   "source": [
    "cols = result.columns.to_list()\n",
    "values = result.values.tolist()"
   ]
  },
  {
   "cell_type": "code",
   "execution_count": 5,
   "metadata": {
    "hideCode": false,
    "hideOutput": true,
    "hidePrompt": false
   },
   "outputs": [
    {
     "name": "stdout",
     "output_type": "stream",
     "text": [
      "\\begin{array}{l | r | r | r | r | r | r | r | r | r | r | r | r} \\hline\n",
      "    Recidivism  & 0.7500 &  0.00300 & 0.7560 & 0.004 & 0.7560 & 0.004 & 0.7610 &  0.00500 & 0.7640 & 0.00500 & 0.7680 & 0.005 \\\\ \\hline\n",
      "    Violence    & 0.8730 &  0.00700 & 0.8760 & 0.008 & 0.8750 & 0.008 & 0.8720 &  0.00400 & 0.8780 & 0.00600 & 0.8710 & 0.008 \\\\ \\hline\n",
      "    Drug        & 0.7640 &  0.00600 & 0.7690 & 0.006 & 0.7670 & 0.006 & 0.7710 &  0.01200 & 0.7700 & 0.01100 & 0.7760 & 0.010 \\\\ \\hline\n",
      "    Property    & 0.8510 &  0.01400 & 0.8570 & 0.012 & 0.8480 & 0.012 & 0.8350 &  0.00700 & 0.8570 & 0.01100 & 0.8430 & 0.012 \\\\ \\hline\n",
      "    Felony      & 0.7660 &  0.00400 & 0.7710 & 0.004 & 0.7700 & 0.004 & 0.7800 &  0.00800 & 0.7900 & 0.00600 & 0.7940 & 0.005 \\\\ \\hline\n",
      "    Misdemeanor & 0.7360 &  0.00400 & 0.7420 & 0.004 & 0.7410 & 0.004 & 0.7450 &  0.00600 & 0.7440 & 0.00500 & 0.7520 & 0.006 \\\\ \\hline\n",
      "\\end{array}\n"
     ]
    }
   ],
   "source": [
    "writer = pytablewriter.LatexTableWriter()\n",
    "writer.value_matrix = values\n",
    "writer.write_table()"
   ]
  }
 ],
 "metadata": {
  "hide_code_all_hidden": false,
  "kernelspec": {
   "display_name": "Python 3",
   "language": "python",
   "name": "python3"
  },
  "language_info": {
   "codemirror_mode": {
    "name": "ipython",
    "version": 3
   },
   "file_extension": ".py",
   "mimetype": "text/x-python",
   "name": "python",
   "nbconvert_exporter": "python",
   "pygments_lexer": "ipython3",
   "version": "3.7.0"
  }
 },
 "nbformat": 4,
 "nbformat_minor": 2
}
