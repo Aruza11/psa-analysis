{
 "cells": [
  {
   "cell_type": "code",
   "execution_count": 3,
   "metadata": {
    "hideCode": false,
    "hidePrompt": false
   },
   "outputs": [],
   "source": [
    "import pytablewriter\n",
    "import pandas as pd\n",
    "import numpy as np"
   ]
  },
  {
   "cell_type": "code",
   "execution_count": 4,
   "metadata": {
    "hideCode": false,
    "hidePrompt": false
   },
   "outputs": [],
   "source": [
    "result = pd.read_csv(\"C:\\\\Users\\\\binha\\\\Documents\\\\Duke\\\\Cynthia Research\\\\KY-analysis-mytrials\\\\KY Recidivism\\\\KY Results\\\\Baselines\\\\Baseline Summary.csv\")"
   ]
  },
  {
   "cell_type": "code",
   "execution_count": 5,
   "metadata": {
    "hideCode": false,
    "hidePrompt": false
   },
   "outputs": [
    {
     "data": {
      "text/html": [
       "<div>\n",
       "<style scoped>\n",
       "    .dataframe tbody tr th:only-of-type {\n",
       "        vertical-align: middle;\n",
       "    }\n",
       "\n",
       "    .dataframe tbody tr th {\n",
       "        vertical-align: top;\n",
       "    }\n",
       "\n",
       "    .dataframe thead th {\n",
       "        text-align: right;\n",
       "    }\n",
       "</style>\n",
       "<table border=\"1\" class=\"dataframe\">\n",
       "  <thead>\n",
       "    <tr style=\"text-align: right;\">\n",
       "      <th></th>\n",
       "      <th>Unnamed: 0</th>\n",
       "      <th>Logistic</th>\n",
       "      <th>std</th>\n",
       "      <th>Lasso</th>\n",
       "      <th>std.1</th>\n",
       "      <th>Linear SVM</th>\n",
       "      <th>std.2</th>\n",
       "      <th>CART</th>\n",
       "      <th>std.3</th>\n",
       "      <th>Random Forest</th>\n",
       "      <th>std.4</th>\n",
       "      <th>XGBoost</th>\n",
       "      <th>std.5</th>\n",
       "    </tr>\n",
       "  </thead>\n",
       "  <tbody>\n",
       "    <tr>\n",
       "      <th>0</th>\n",
       "      <td>Two Year Recidivism</td>\n",
       "      <td>0.726</td>\n",
       "      <td>0.001</td>\n",
       "      <td>0.722</td>\n",
       "      <td>0.001</td>\n",
       "      <td>0.725</td>\n",
       "      <td>0.002</td>\n",
       "      <td>0.731</td>\n",
       "      <td>0.002</td>\n",
       "      <td>0.739</td>\n",
       "      <td>0.002</td>\n",
       "      <td>0.741</td>\n",
       "      <td>0.003</td>\n",
       "    </tr>\n",
       "    <tr>\n",
       "      <th>1</th>\n",
       "      <td>Six Month Recidivism</td>\n",
       "      <td>0.750</td>\n",
       "      <td>0.003</td>\n",
       "      <td>0.755</td>\n",
       "      <td>0.004</td>\n",
       "      <td>0.755</td>\n",
       "      <td>0.004</td>\n",
       "      <td>0.760</td>\n",
       "      <td>0.006</td>\n",
       "      <td>0.765</td>\n",
       "      <td>0.005</td>\n",
       "      <td>0.768</td>\n",
       "      <td>0.006</td>\n",
       "    </tr>\n",
       "    <tr>\n",
       "      <th>2</th>\n",
       "      <td>Violence</td>\n",
       "      <td>0.811</td>\n",
       "      <td>0.003</td>\n",
       "      <td>0.810</td>\n",
       "      <td>0.003</td>\n",
       "      <td>0.810</td>\n",
       "      <td>0.004</td>\n",
       "      <td>0.814</td>\n",
       "      <td>0.002</td>\n",
       "      <td>0.823</td>\n",
       "      <td>0.001</td>\n",
       "      <td>0.822</td>\n",
       "      <td>0.002</td>\n",
       "    </tr>\n",
       "    <tr>\n",
       "      <th>3</th>\n",
       "      <td>Felony</td>\n",
       "      <td>0.726</td>\n",
       "      <td>0.003</td>\n",
       "      <td>0.728</td>\n",
       "      <td>0.003</td>\n",
       "      <td>0.728</td>\n",
       "      <td>0.003</td>\n",
       "      <td>0.739</td>\n",
       "      <td>0.003</td>\n",
       "      <td>0.746</td>\n",
       "      <td>0.002</td>\n",
       "      <td>0.750</td>\n",
       "      <td>0.003</td>\n",
       "    </tr>\n",
       "    <tr>\n",
       "      <th>4</th>\n",
       "      <td>Misdemeanor</td>\n",
       "      <td>0.701</td>\n",
       "      <td>0.002</td>\n",
       "      <td>0.701</td>\n",
       "      <td>0.002</td>\n",
       "      <td>0.702</td>\n",
       "      <td>0.002</td>\n",
       "      <td>0.703</td>\n",
       "      <td>0.003</td>\n",
       "      <td>0.714</td>\n",
       "      <td>0.003</td>\n",
       "      <td>0.716</td>\n",
       "      <td>0.002</td>\n",
       "    </tr>\n",
       "    <tr>\n",
       "      <th>5</th>\n",
       "      <td>Drug</td>\n",
       "      <td>0.689</td>\n",
       "      <td>0.002</td>\n",
       "      <td>0.692</td>\n",
       "      <td>0.002</td>\n",
       "      <td>0.692</td>\n",
       "      <td>0.002</td>\n",
       "      <td>0.697</td>\n",
       "      <td>0.005</td>\n",
       "      <td>0.700</td>\n",
       "      <td>0.005</td>\n",
       "      <td>0.706</td>\n",
       "      <td>0.005</td>\n",
       "    </tr>\n",
       "    <tr>\n",
       "      <th>6</th>\n",
       "      <td>Property</td>\n",
       "      <td>0.778</td>\n",
       "      <td>0.005</td>\n",
       "      <td>0.783</td>\n",
       "      <td>0.004</td>\n",
       "      <td>0.781</td>\n",
       "      <td>0.004</td>\n",
       "      <td>0.771</td>\n",
       "      <td>0.007</td>\n",
       "      <td>0.782</td>\n",
       "      <td>0.006</td>\n",
       "      <td>0.781</td>\n",
       "      <td>0.007</td>\n",
       "    </tr>\n",
       "  </tbody>\n",
       "</table>\n",
       "</div>"
      ],
      "text/plain": [
       "             Unnamed: 0  Logistic    std  Lasso  std.1  Linear SVM  std.2  \\\n",
       "0   Two Year Recidivism     0.726  0.001  0.722  0.001       0.725  0.002   \n",
       "1  Six Month Recidivism     0.750  0.003  0.755  0.004       0.755  0.004   \n",
       "2              Violence     0.811  0.003  0.810  0.003       0.810  0.004   \n",
       "3                Felony     0.726  0.003  0.728  0.003       0.728  0.003   \n",
       "4           Misdemeanor     0.701  0.002  0.701  0.002       0.702  0.002   \n",
       "5                  Drug     0.689  0.002  0.692  0.002       0.692  0.002   \n",
       "6              Property     0.778  0.005  0.783  0.004       0.781  0.004   \n",
       "\n",
       "    CART  std.3  Random Forest  std.4  XGBoost  std.5  \n",
       "0  0.731  0.002          0.739  0.002    0.741  0.003  \n",
       "1  0.760  0.006          0.765  0.005    0.768  0.006  \n",
       "2  0.814  0.002          0.823  0.001    0.822  0.002  \n",
       "3  0.739  0.003          0.746  0.002    0.750  0.003  \n",
       "4  0.703  0.003          0.714  0.003    0.716  0.002  \n",
       "5  0.697  0.005          0.700  0.005    0.706  0.005  \n",
       "6  0.771  0.007          0.782  0.006    0.781  0.007  "
      ]
     },
     "execution_count": 5,
     "metadata": {},
     "output_type": "execute_result"
    }
   ],
   "source": [
    "result"
   ]
  },
  {
   "cell_type": "code",
   "execution_count": 6,
   "metadata": {
    "hideCode": false,
    "hidePrompt": false
   },
   "outputs": [],
   "source": [
    "cols = result.columns.to_list()\n",
    "values = result.values.tolist()"
   ]
  },
  {
   "cell_type": "code",
   "execution_count": 8,
   "metadata": {
    "hideCode": false,
    "hideOutput": true,
    "hidePrompt": false
   },
   "outputs": [
    {
     "name": "stdout",
     "output_type": "stream",
     "text": [
      "\\begin{array}{l | r | r | r | r | r | r | r | r | r | r | r | r} \\hline\n",
      "    \\verb|Two Year Recidivism | & 0.7260 & 0.001 & 0.7220 & 0.001 & 0.7250 & 0.002 & 0.7310 &  0.00200 & 0.7390 & 0.002 & 0.7410 &  0.00300 \\\\ \\hline\n",
      "    \\verb|Six Month Recidivism| & 0.7500 & 0.003 & 0.7550 & 0.004 & 0.7550 & 0.004 & 0.7600 &  0.00600 & 0.7650 & 0.005 & 0.7680 &  0.00600 \\\\ \\hline\n",
      "    Violence             & 0.8110 & 0.003 & 0.8100 & 0.003 & 0.8100 & 0.004 & 0.8140 &  0.00200 & 0.8230 & 0.001 & 0.8220 &  0.00200 \\\\ \\hline\n",
      "    Felony               & 0.7260 & 0.003 & 0.7280 & 0.003 & 0.7280 & 0.003 & 0.7390 &  0.00300 & 0.7460 & 0.002 & 0.7500 &  0.00300 \\\\ \\hline\n",
      "    Misdemeanor          & 0.7010 & 0.002 & 0.7010 & 0.002 & 0.7020 & 0.002 & 0.7030 &  0.00300 & 0.7140 & 0.003 & 0.7160 &  0.00200 \\\\ \\hline\n",
      "    Drug                 & 0.6890 & 0.002 & 0.6920 & 0.002 & 0.6920 & 0.002 & 0.6970 &  0.00500 & 0.7000 & 0.005 & 0.7060 &  0.00500 \\\\ \\hline\n",
      "    Property             & 0.7780 & 0.005 & 0.7830 & 0.004 & 0.7810 & 0.004 & 0.7710 &  0.00700 & 0.7820 & 0.006 & 0.7810 &  0.00700 \\\\ \\hline\n",
      "\\end{array}\n"
     ]
    }
   ],
   "source": [
    "writer = pytablewriter.LatexTableWriter()\n",
    "writer.value_matrix = values\n",
    "writer.write_table()"
   ]
  },
  {
   "cell_type": "code",
   "execution_count": null,
   "metadata": {
    "hideCode": false,
    "hidePrompt": false
   },
   "outputs": [],
   "source": []
  }
 ],
 "metadata": {
  "hide_code_all_hidden": false,
  "kernelspec": {
   "display_name": "Python 3",
   "language": "python",
   "name": "python3"
  },
  "language_info": {
   "codemirror_mode": {
    "name": "ipython",
    "version": 3
   },
   "file_extension": ".py",
   "mimetype": "text/x-python",
   "name": "python",
   "nbconvert_exporter": "python",
   "pygments_lexer": "ipython3",
   "version": "3.7.0"
  }
 },
 "nbformat": 4,
 "nbformat_minor": 2
}
