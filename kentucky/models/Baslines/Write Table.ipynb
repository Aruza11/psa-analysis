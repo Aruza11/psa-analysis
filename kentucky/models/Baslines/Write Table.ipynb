{
 "cells": [
  {
   "cell_type": "code",
   "execution_count": 1,
   "metadata": {
    "hideCode": false,
    "hidePrompt": false
   },
   "outputs": [],
   "source": [
    "import pytablewriter\n",
    "import pandas as pd\n",
    "import numpy as np"
   ]
  },
  {
   "cell_type": "code",
   "execution_count": 2,
   "metadata": {
    "hideCode": false,
    "hidePrompt": false
   },
   "outputs": [],
   "source": [
    "result = pd.read_csv(\"C:\\\\Users\\\\binha\\\\Documents\\\\Duke\\\\Cynthia Research\\\\KY-analysis-mytrials\\\\KY Recidivism\\\\KY Results\\\\Baselines\\\\Baseline Summary.csv\")"
   ]
  },
  {
   "cell_type": "code",
   "execution_count": 3,
   "metadata": {
    "hideCode": false,
    "hidePrompt": false
   },
   "outputs": [
    {
     "data": {
      "text/html": [
       "<div>\n",
       "<style scoped>\n",
       "    .dataframe tbody tr th:only-of-type {\n",
       "        vertical-align: middle;\n",
       "    }\n",
       "\n",
       "    .dataframe tbody tr th {\n",
       "        vertical-align: top;\n",
       "    }\n",
       "\n",
       "    .dataframe thead th {\n",
       "        text-align: right;\n",
       "    }\n",
       "</style>\n",
       "<table border=\"1\" class=\"dataframe\">\n",
       "  <thead>\n",
       "    <tr style=\"text-align: right;\">\n",
       "      <th></th>\n",
       "      <th>Unnamed: 0</th>\n",
       "      <th>Logistic</th>\n",
       "      <th>std</th>\n",
       "      <th>Lasso</th>\n",
       "      <th>std.1</th>\n",
       "      <th>Linear SVM</th>\n",
       "      <th>std.2</th>\n",
       "      <th>CART</th>\n",
       "      <th>std.3</th>\n",
       "      <th>Random Forest</th>\n",
       "      <th>std.4</th>\n",
       "      <th>XGBoost</th>\n",
       "      <th>std.5</th>\n",
       "    </tr>\n",
       "  </thead>\n",
       "  <tbody>\n",
       "    <tr>\n",
       "      <th>0</th>\n",
       "      <td>Two Year Recidivism</td>\n",
       "      <td>0.732</td>\n",
       "      <td>0.002</td>\n",
       "      <td>0.728</td>\n",
       "      <td>0.002</td>\n",
       "      <td>0.731</td>\n",
       "      <td>0.002</td>\n",
       "      <td>0.741</td>\n",
       "      <td>0.003</td>\n",
       "      <td>0.748</td>\n",
       "      <td>0.003</td>\n",
       "      <td>0.749</td>\n",
       "      <td>0.003</td>\n",
       "    </tr>\n",
       "    <tr>\n",
       "      <th>1</th>\n",
       "      <td>Six Month Recidivism</td>\n",
       "      <td>0.759</td>\n",
       "      <td>0.003</td>\n",
       "      <td>0.764</td>\n",
       "      <td>0.003</td>\n",
       "      <td>0.764</td>\n",
       "      <td>0.003</td>\n",
       "      <td>0.771</td>\n",
       "      <td>0.002</td>\n",
       "      <td>0.779</td>\n",
       "      <td>0.003</td>\n",
       "      <td>0.780</td>\n",
       "      <td>0.004</td>\n",
       "    </tr>\n",
       "    <tr>\n",
       "      <th>2</th>\n",
       "      <td>Violence</td>\n",
       "      <td>0.802</td>\n",
       "      <td>0.005</td>\n",
       "      <td>0.801</td>\n",
       "      <td>0.005</td>\n",
       "      <td>0.802</td>\n",
       "      <td>0.005</td>\n",
       "      <td>0.806</td>\n",
       "      <td>0.002</td>\n",
       "      <td>0.814</td>\n",
       "      <td>0.004</td>\n",
       "      <td>0.814</td>\n",
       "      <td>0.002</td>\n",
       "    </tr>\n",
       "    <tr>\n",
       "      <th>3</th>\n",
       "      <td>Drug</td>\n",
       "      <td>0.703</td>\n",
       "      <td>0.002</td>\n",
       "      <td>0.707</td>\n",
       "      <td>0.002</td>\n",
       "      <td>0.707</td>\n",
       "      <td>0.002</td>\n",
       "      <td>0.713</td>\n",
       "      <td>0.002</td>\n",
       "      <td>0.719</td>\n",
       "      <td>0.001</td>\n",
       "      <td>0.722</td>\n",
       "      <td>0.002</td>\n",
       "    </tr>\n",
       "    <tr>\n",
       "      <th>4</th>\n",
       "      <td>Property</td>\n",
       "      <td>0.783</td>\n",
       "      <td>0.008</td>\n",
       "      <td>0.790</td>\n",
       "      <td>0.007</td>\n",
       "      <td>0.788</td>\n",
       "      <td>0.008</td>\n",
       "      <td>0.781</td>\n",
       "      <td>0.008</td>\n",
       "      <td>0.790</td>\n",
       "      <td>0.010</td>\n",
       "      <td>0.789</td>\n",
       "      <td>0.009</td>\n",
       "    </tr>\n",
       "    <tr>\n",
       "      <th>5</th>\n",
       "      <td>Felony</td>\n",
       "      <td>0.735</td>\n",
       "      <td>0.002</td>\n",
       "      <td>0.737</td>\n",
       "      <td>0.002</td>\n",
       "      <td>0.737</td>\n",
       "      <td>0.002</td>\n",
       "      <td>0.751</td>\n",
       "      <td>0.003</td>\n",
       "      <td>0.758</td>\n",
       "      <td>0.003</td>\n",
       "      <td>0.760</td>\n",
       "      <td>0.003</td>\n",
       "    </tr>\n",
       "    <tr>\n",
       "      <th>6</th>\n",
       "      <td>Misdemeanor</td>\n",
       "      <td>0.709</td>\n",
       "      <td>0.003</td>\n",
       "      <td>0.708</td>\n",
       "      <td>0.003</td>\n",
       "      <td>0.710</td>\n",
       "      <td>0.003</td>\n",
       "      <td>0.717</td>\n",
       "      <td>0.004</td>\n",
       "      <td>0.724</td>\n",
       "      <td>0.004</td>\n",
       "      <td>0.727</td>\n",
       "      <td>0.004</td>\n",
       "    </tr>\n",
       "  </tbody>\n",
       "</table>\n",
       "</div>"
      ],
      "text/plain": [
       "             Unnamed: 0  Logistic    std  Lasso  std.1  Linear SVM  std.2  \\\n",
       "0   Two Year Recidivism     0.732  0.002  0.728  0.002       0.731  0.002   \n",
       "1  Six Month Recidivism     0.759  0.003  0.764  0.003       0.764  0.003   \n",
       "2              Violence     0.802  0.005  0.801  0.005       0.802  0.005   \n",
       "3                  Drug     0.703  0.002  0.707  0.002       0.707  0.002   \n",
       "4              Property     0.783  0.008  0.790  0.007       0.788  0.008   \n",
       "5                Felony     0.735  0.002  0.737  0.002       0.737  0.002   \n",
       "6           Misdemeanor     0.709  0.003  0.708  0.003       0.710  0.003   \n",
       "\n",
       "    CART  std.3  Random Forest  std.4  XGBoost  std.5  \n",
       "0  0.741  0.003          0.748  0.003    0.749  0.003  \n",
       "1  0.771  0.002          0.779  0.003    0.780  0.004  \n",
       "2  0.806  0.002          0.814  0.004    0.814  0.002  \n",
       "3  0.713  0.002          0.719  0.001    0.722  0.002  \n",
       "4  0.781  0.008          0.790  0.010    0.789  0.009  \n",
       "5  0.751  0.003          0.758  0.003    0.760  0.003  \n",
       "6  0.717  0.004          0.724  0.004    0.727  0.004  "
      ]
     },
     "execution_count": 3,
     "metadata": {},
     "output_type": "execute_result"
    }
   ],
   "source": [
    "result"
   ]
  },
  {
   "cell_type": "code",
   "execution_count": 4,
   "metadata": {
    "hideCode": false,
    "hidePrompt": false
   },
   "outputs": [],
   "source": [
    "cols = result.columns.to_list()\n",
    "values = result.values.tolist()"
   ]
  },
  {
   "cell_type": "code",
   "execution_count": 8,
   "metadata": {
    "hideCode": false,
    "hideOutput": true,
    "hidePrompt": false
   },
   "outputs": [
    {
     "name": "stdout",
     "output_type": "stream",
     "text": [
      "\\begin{array}{l | r | r | r | r | r} \\hline\n",
      "    \\verb|      Logistic      | & \\verb|Lasso | & \\verb|Linear SVM| & \\verb| CART | & \\verb|   RF   | & \\verb|XGBoost| \\\\ \\hline\n",
      "    \\hline\n",
      "    \\verb|Two Year Recidivism | & 0.7320 &      0.002 & 0.7280 &  0.00200 &  0.7310 \\\\ \\hline\n",
      "    \\verb|Six Month Recidivism| & 0.7590 &      0.003 & 0.7640 &  0.00300 &  0.7640 \\\\ \\hline\n",
      "    Violence             & 0.8020 &      0.005 & 0.8010 &  0.00500 &  0.8020 \\\\ \\hline\n",
      "    Drug                 & 0.7030 &      0.002 & 0.7070 &  0.00200 &  0.7070 \\\\ \\hline\n",
      "    Property             & 0.7830 &      0.008 & 0.7900 &  0.00700 &  0.7880 \\\\ \\hline\n",
      "    Felony               & 0.7350 &      0.002 & 0.7370 &  0.00200 &  0.7370 \\\\ \\hline\n",
      "    Misdemeanor          & 0.7090 &      0.003 & 0.7080 &  0.00300 &  0.7100 \\\\ \\hline\n",
      "\\end{array}\n"
     ]
    }
   ],
   "source": [
    "writer = pytablewriter.LatexTableWriter()\n",
    "writer.headers = ['Logistic', 'Lasso', 'Linear SVM', 'CART', 'RF', 'XGBoost']\n",
    "writer.value_matrix = values\n",
    "writer.write_table()"
   ]
  },
  {
   "cell_type": "code",
   "execution_count": null,
   "metadata": {
    "hideCode": false,
    "hidePrompt": false
   },
   "outputs": [],
   "source": []
  }
 ],
 "metadata": {
  "hide_code_all_hidden": false,
  "kernelspec": {
   "display_name": "Python 3",
   "language": "python",
   "name": "python3"
  },
  "language_info": {
   "codemirror_mode": {
    "name": "ipython",
    "version": 3
   },
   "file_extension": ".py",
   "mimetype": "text/x-python",
   "name": "python",
   "nbconvert_exporter": "python",
   "pygments_lexer": "ipython3",
   "version": "3.7.0"
  }
 },
 "nbformat": 4,
 "nbformat_minor": 2
}
