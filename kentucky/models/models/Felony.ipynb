{
 "cells": [
  {
   "cell_type": "code",
   "execution_count": 1,
   "metadata": {},
   "outputs": [],
   "source": [
    "import pandas as pd \n",
    "import numpy as np\n",
    "import csv\n",
    "import advance_functions as advance"
   ]
  },
  {
   "cell_type": "code",
   "execution_count": 2,
   "metadata": {},
   "outputs": [],
   "source": [
    "### load data\n",
    "data = pd.read_csv(\"~/Documents/Duke/Cynthia Research/KY-analysis-mytrials/KY Recidivism/KY data/kentucky_data.csv\")\n",
    "data = data.drop(['PersonID', 'screening_date','fta_risk_score_raw','nca_risk_score_raw',\n",
    "                  'pvf_risk_score_raw', 'fta_calc', 'nca_calc', 'pvf_calc'], axis=1)\n",
    "X = data.loc[:,:'current_violence'].values\n",
    "Y = data['recid_F'].values"
   ]
  },
  {
   "cell_type": "code",
   "execution_count": 3,
   "metadata": {},
   "outputs": [
    {
     "data": {
      "text/plain": [
       "(0.0019899923417112664, 0.7468894198028586, 0.0028761330143392823)"
      ]
     },
     "execution_count": 3,
     "metadata": {},
     "output_type": "execute_result"
    }
   ],
   "source": [
    "#### AdaBoost\n",
    "estimators = [80]\n",
    "learning_rate = [1]\n",
    "ada_train, ada_test = advance.Adaboost(X,Y,learning_rate,estimators,816)\n",
    "np.mean(ada_train) - np.mean(ada_test), np.mean(ada_test), np.std(ada_test)"
   ]
  },
  {
   "cell_type": "code",
   "execution_count": 4,
   "metadata": {},
   "outputs": [
    {
     "data": {
      "text/plain": [
       "(0.004566730371055705, 0.745706999898214, 0.003165130538615168)"
      ]
     },
     "execution_count": 4,
     "metadata": {},
     "output_type": "execute_result"
    }
   ],
   "source": [
    "#### GAM\n",
    "estimators = [80]\n",
    "depth = [3]\n",
    "learning_rate = [0.3]\n",
    "gam_train, gam_test = advance.GAM(X,Y,learning_rate,depth,estimators,816)\n",
    "np.mean(gam_train) - np.mean(gam_test), np.mean(gam_test), np.std(gam_test)"
   ]
  },
  {
   "cell_type": "code",
   "execution_count": 5,
   "metadata": {},
   "outputs": [],
   "source": [
    "results = [[\"AdaBoost\", np.mean(ada_train) - np.mean(ada_test), np.mean(ada_test)],\n",
    "           [\"Lasso\", np.mean(gam_train) - np.mean(gam_test), np.mean(gam_test)]]"
   ]
  },
  {
   "cell_type": "code",
   "execution_count": 6,
   "metadata": {},
   "outputs": [
    {
     "data": {
      "text/plain": [
       "[['AdaBoost', 0.001957460666241806, 0.7581034001951309],\n",
       " ['Lasso', 0.004118786641714944, 0.7573200697330205]]"
      ]
     },
     "execution_count": 6,
     "metadata": {},
     "output_type": "execute_result"
    }
   ],
   "source": [
    "results"
   ]
  },
  {
   "cell_type": "code",
   "execution_count": 5,
   "metadata": {},
   "outputs": [],
   "source": [
    "path = \"C:\\\\Users\\\\binha\\\\Documents\\\\Duke\\\\Cynthia Research\\\\KY-analysis-mytrials\\\\KY Recidivism\\\\KY Results\\\\Models\\\\\"\n",
    "results = [[\"Felony\", round(np.mean(ada_test),3), round(np.std(ada_test), 3), round(np.mean(gam_test),3), round(np.std(gam_test), 3)]]\n",
    "with open(path + 'Models Summary.csv', 'a') as writeFile:\n",
    "    writer = csv.writer(writeFile)\n",
    "    writer.writerows(results)"
   ]
  }
 ],
 "metadata": {
  "kernelspec": {
   "display_name": "Python 3",
   "language": "python",
   "name": "python3"
  },
  "language_info": {
   "codemirror_mode": {
    "name": "ipython",
    "version": 3
   },
   "file_extension": ".py",
   "mimetype": "text/x-python",
   "name": "python",
   "nbconvert_exporter": "python",
   "pygments_lexer": "ipython3",
   "version": "3.7.0"
  }
 },
 "nbformat": 4,
 "nbformat_minor": 2
}
