{
 "cells": [
  {
   "cell_type": "code",
   "execution_count": 1,
   "metadata": {
    "hideCode": false,
    "hidePrompt": false
   },
   "outputs": [],
   "source": [
    "import pytablewriter\n",
    "import pandas as pd\n",
    "import numpy as np"
   ]
  },
  {
   "cell_type": "code",
   "execution_count": 3,
   "metadata": {
    "hideCode": false,
    "hidePrompt": false
   },
   "outputs": [],
   "source": [
    "result = pd.read_csv(\"C:\\\\Users\\\\binha\\\\Documents\\\\Duke\\\\Cynthia Research\\\\KY-analysis-mytrials\\\\KY Recidivism\\\\KY Results\\\\Models\\\\Six Month\\\\Interpretable Models Summary.csv\")"
   ]
  },
  {
   "cell_type": "code",
   "execution_count": 4,
   "metadata": {
    "hideCode": false,
    "hidePrompt": false
   },
   "outputs": [
    {
     "data": {
      "text/html": [
       "<div>\n",
       "<style scoped>\n",
       "    .dataframe tbody tr th:only-of-type {\n",
       "        vertical-align: middle;\n",
       "    }\n",
       "\n",
       "    .dataframe tbody tr th {\n",
       "        vertical-align: top;\n",
       "    }\n",
       "\n",
       "    .dataframe thead th {\n",
       "        text-align: right;\n",
       "    }\n",
       "</style>\n",
       "<table border=\"1\" class=\"dataframe\">\n",
       "  <thead>\n",
       "    <tr style=\"text-align: right;\">\n",
       "      <th></th>\n",
       "      <th>Unnamed: 0</th>\n",
       "      <th>CART</th>\n",
       "      <th>EBM</th>\n",
       "      <th>Lasso Stumps</th>\n",
       "      <th>RiskSLIM</th>\n",
       "      <th>Performance Range</th>\n",
       "      <th>Arnold PSA Raw</th>\n",
       "      <th>Arnold PSA</th>\n",
       "    </tr>\n",
       "  </thead>\n",
       "  <tbody>\n",
       "    <tr>\n",
       "      <th>0</th>\n",
       "      <td>General</td>\n",
       "      <td>0.761 (0.005)</td>\n",
       "      <td>0.765 (0.003)</td>\n",
       "      <td>0.763 (0.004)</td>\n",
       "      <td>0.737 (0.004)</td>\n",
       "      <td>0.027</td>\n",
       "      <td>0.71 (0.004)</td>\n",
       "      <td>0.702 (0.003)</td>\n",
       "    </tr>\n",
       "    <tr>\n",
       "      <th>1</th>\n",
       "      <td>Violent</td>\n",
       "      <td>0.872 (0.004)</td>\n",
       "      <td>0.876 (0.006)</td>\n",
       "      <td>0.877 (0.003)</td>\n",
       "      <td>0.86 (0.004)</td>\n",
       "      <td>0.017</td>\n",
       "      <td>0.709 (0.005)</td>\n",
       "      <td>0.693 (0.005)</td>\n",
       "    </tr>\n",
       "    <tr>\n",
       "      <th>2</th>\n",
       "      <td>Drug</td>\n",
       "      <td>0.771 (0.012)</td>\n",
       "      <td>0.774 (0.007)</td>\n",
       "      <td>0.775 (0.005)</td>\n",
       "      <td>0.734 (0.006)</td>\n",
       "      <td>0.041</td>\n",
       "      <td>0.672 (0.008)</td>\n",
       "      <td>0.671 (0.006)</td>\n",
       "    </tr>\n",
       "    <tr>\n",
       "      <th>3</th>\n",
       "      <td>Property</td>\n",
       "      <td>0.835 (0.007)</td>\n",
       "      <td>0.802 (0.063)</td>\n",
       "      <td>0.864 (0.012)</td>\n",
       "      <td>0.83 (0.018)</td>\n",
       "      <td>0.062</td>\n",
       "      <td>0.736 (0.013)</td>\n",
       "      <td>0.704 (0.02)</td>\n",
       "    </tr>\n",
       "    <tr>\n",
       "      <th>4</th>\n",
       "      <td>Felony</td>\n",
       "      <td>0.78 (0.008)</td>\n",
       "      <td>0.793 (0.004)</td>\n",
       "      <td>0.78 (0.004)</td>\n",
       "      <td>0.758 (0.006)</td>\n",
       "      <td>0.036</td>\n",
       "      <td>0.719 (0.005)</td>\n",
       "      <td>0.709 (0.005)</td>\n",
       "    </tr>\n",
       "    <tr>\n",
       "      <th>5</th>\n",
       "      <td>Misdemeanor</td>\n",
       "      <td>0.745 (0.006)</td>\n",
       "      <td>0.747 (0.004)</td>\n",
       "      <td>0.748 (0.003)</td>\n",
       "      <td>0.707 (0.003)</td>\n",
       "      <td>0.041</td>\n",
       "      <td>0.704 (0.006)</td>\n",
       "      <td>0.697 (0.004)</td>\n",
       "    </tr>\n",
       "  </tbody>\n",
       "</table>\n",
       "</div>"
      ],
      "text/plain": [
       "    Unnamed: 0           CART            EBM   Lasso Stumps       RiskSLIM  \\\n",
       "0      General  0.761 (0.005)  0.765 (0.003)  0.763 (0.004)  0.737 (0.004)   \n",
       "1      Violent  0.872 (0.004)  0.876 (0.006)  0.877 (0.003)   0.86 (0.004)   \n",
       "2         Drug  0.771 (0.012)  0.774 (0.007)  0.775 (0.005)  0.734 (0.006)   \n",
       "3     Property  0.835 (0.007)  0.802 (0.063)  0.864 (0.012)   0.83 (0.018)   \n",
       "4       Felony   0.78 (0.008)  0.793 (0.004)   0.78 (0.004)  0.758 (0.006)   \n",
       "5  Misdemeanor  0.745 (0.006)  0.747 (0.004)  0.748 (0.003)  0.707 (0.003)   \n",
       "\n",
       "   Performance Range Arnold PSA Raw     Arnold PSA  \n",
       "0              0.027   0.71 (0.004)  0.702 (0.003)  \n",
       "1              0.017  0.709 (0.005)  0.693 (0.005)  \n",
       "2              0.041  0.672 (0.008)  0.671 (0.006)  \n",
       "3              0.062  0.736 (0.013)   0.704 (0.02)  \n",
       "4              0.036  0.719 (0.005)  0.709 (0.005)  \n",
       "5              0.041  0.704 (0.006)  0.697 (0.004)  "
      ]
     },
     "execution_count": 4,
     "metadata": {},
     "output_type": "execute_result"
    }
   ],
   "source": [
    "result"
   ]
  },
  {
   "cell_type": "code",
   "execution_count": 4,
   "metadata": {
    "hideCode": false,
    "hidePrompt": false
   },
   "outputs": [],
   "source": [
    "cols = result.columns.to_list()\n",
    "values = result.values.tolist()"
   ]
  },
  {
   "cell_type": "code",
   "execution_count": 5,
   "metadata": {
    "hideCode": false,
    "hideOutput": true,
    "hidePrompt": false
   },
   "outputs": [
    {
     "name": "stdout",
     "output_type": "stream",
     "text": [
      "\\begin{array}{l | r | r | r | r | r | r | r | r | r | r} \\hline\n",
      "    Recidivism  & 0.7660 & 0.00300 & 0.7650 & 0.00300 & 0.7630 &  0.00500 & 0.7100 & 0.00400 & 0.7020 & 0.003 \\\\ \\hline\n",
      "    Violence    & 0.8750 & 0.00400 & 0.8760 & 0.00600 & 0.8740 &  0.00600 & 0.8500 & 0.00600 & 0.8490 & 0.005 \\\\ \\hline\n",
      "    Drug        & 0.7750 & 0.00800 & 0.7740 & 0.00800 & 0.7650 &  0.01000 & 0.6720 & 0.00800 & 0.6710 & 0.006 \\\\ \\hline\n",
      "    Property    & 0.8520 & 0.01800 & 0.8610 & 0.01300 & 0.8590 &  0.01100 & 0.7360 & 0.01300 & 0.7040 & 0.020 \\\\ \\hline\n",
      "    Felony      & 0.7940 & 0.00400 & 0.7930 & 0.00400 & 0.7850 &  0.00700 & 0.7190 & 0.00500 & 0.7090 & 0.005 \\\\ \\hline\n",
      "    Misdemeanor & 0.7500 & 0.00300 & 0.7470 & 0.00400 & 0.7430 &  0.00400 & 0.7040 & 0.00600 & 0.6970 & 0.004 \\\\ \\hline\n",
      "\\end{array}\n"
     ]
    }
   ],
   "source": [
    "writer = pytablewriter.LatexTableWriter()\n",
    "writer.value_matrix = values\n",
    "writer.write_table()"
   ]
  }
 ],
 "metadata": {
  "hide_code_all_hidden": false,
  "kernelspec": {
   "display_name": "Python 3",
   "language": "python",
   "name": "python3"
  },
  "language_info": {
   "codemirror_mode": {
    "name": "ipython",
    "version": 3
   },
   "file_extension": ".py",
   "mimetype": "text/x-python",
   "name": "python",
   "nbconvert_exporter": "python",
   "pygments_lexer": "ipython3",
   "version": "3.7.4"
  }
 },
 "nbformat": 4,
 "nbformat_minor": 2
}
