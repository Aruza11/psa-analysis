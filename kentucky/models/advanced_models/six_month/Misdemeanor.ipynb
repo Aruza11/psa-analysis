{
 "cells": [
  {
   "cell_type": "code",
   "execution_count": 1,
   "metadata": {},
   "outputs": [
    {
     "name": "stdout",
     "output_type": "stream",
     "text": [
      "Current working directory is now:  C:\\Users\\binha\\Documents\\Duke\\Cynthia Research\\psa-analysis - test\n"
     ]
    },
    {
     "name": "stderr",
     "output_type": "stream",
     "text": [
      "C:\\Users\\binha\\Anaconda3\\lib\\site-packages\\sklearn\\externals\\six.py:31: DeprecationWarning:\n",
      "\n",
      "The module is deprecated in version 0.21 and will be removed in version 0.23 since we've dropped support for Python 2.7. Please rely on the official version of six (https://pypi.org/project/six/).\n",
      "\n"
     ]
    },
    {
     "name": "stdout",
     "output_type": "stream",
     "text": [
      "no stored variable summary_M6_KY_interpret\n"
     ]
    }
   ],
   "source": [
    "import os \n",
    "os.chdir('../../../../')\n",
    "print(\"Current working directory is now: \", os.getcwd())\n",
    "\n",
    "import pandas as pd \n",
    "import numpy as np\n",
    "import csv\n",
    "import utils.baseline_functions as base\n",
    "import stumps\n",
    "import RiskSLIM as slim\n",
    "\n",
    "from sklearn.linear_model import LogisticRegression\n",
    "from sklearn.model_selection import KFold, GridSearchCV\n",
    "from sklearn.metrics import roc_auc_score\n",
    "\n",
    "# restore saved variables\n",
    "%store -r summary_M6_KY_interpret"
   ]
  },
  {
   "cell_type": "markdown",
   "metadata": {},
   "source": [
    "### CART & EBM"
   ]
  },
  {
   "cell_type": "code",
   "execution_count": 2,
   "metadata": {},
   "outputs": [],
   "source": [
    "### load data\n",
    "data = pd.read_csv(\"~/Documents/Duke/Cynthia Research/KY-analysis-mytrials/KY Recidivism/KY data/kentucky_data.csv\")\n",
    "data = data.drop(['fta_risk_score_raw','nca_risk_score_raw','pvf_risk_score_raw', \n",
    "                  'fta_calc', 'nca_calc', 'pvf_calc'], axis=1)\n",
    "x = data.loc[:,:'current_violence']\n",
    "y = data['recid_M_six_month'].values"
   ]
  },
  {
   "cell_type": "code",
   "execution_count": 3,
   "metadata": {
    "scrolled": true
   },
   "outputs": [
    {
     "name": "stdout",
     "output_type": "stream",
     "text": [
      "model_id, score_thresholds 0 {'rank_abs': [37]}\n",
      "get_disparity_predefined_group()\n",
      "model_id, score_thresholds 0 {'rank_abs': [19]}\n",
      "get_disparity_predefined_group()\n",
      "model_id, score_thresholds 0 {'rank_abs': [39]}\n",
      "get_disparity_predefined_group()\n",
      "model_id, score_thresholds 0 {'rank_abs': [27]}\n",
      "get_disparity_predefined_group()\n",
      "model_id, score_thresholds 0 {'rank_abs': [29]}\n",
      "get_disparity_predefined_group()\n"
     ]
    },
    {
     "name": "stderr",
     "output_type": "stream",
     "text": [
      "WARNING:interpret.utils.all:Passing a numpy array to schema autogen when it should be dataframe.\n",
      "WARNING:interpret.utils.all:Passing a numpy array to schema autogen when it should be dataframe.\n",
      "WARNING:interpret.utils.all:Passing a numpy array to schema autogen when it should be dataframe.\n",
      "WARNING:interpret.utils.all:Passing a numpy array to schema autogen when it should be dataframe.\n",
      "WARNING:interpret.utils.all:Passing a numpy array to schema autogen when it should be dataframe.\n",
      "WARNING:interpret.utils.all:Passing a numpy array to schema autogen when it should be dataframe.\n",
      "WARNING:interpret.utils.all:Passing a numpy array to schema autogen when it should be dataframe.\n",
      "WARNING:interpret.utils.all:Passing a numpy array to schema autogen when it should be dataframe.\n",
      "WARNING:interpret.utils.all:Passing a numpy array to schema autogen when it should be dataframe.\n",
      "WARNING:interpret.utils.all:Passing a numpy array to schema autogen when it should be dataframe.\n",
      "WARNING:interpret.utils.all:Passing a numpy array to schema autogen when it should be dataframe.\n",
      "WARNING:interpret.utils.all:Passing a numpy array to schema autogen when it should be dataframe.\n"
     ]
    },
    {
     "name": "stdout",
     "output_type": "stream",
     "text": [
      "model_id, score_thresholds 0 {'rank_abs': [16]}\n",
      "get_disparity_predefined_group()\n"
     ]
    },
    {
     "name": "stderr",
     "output_type": "stream",
     "text": [
      "WARNING:interpret.utils.all:Passing a numpy array to schema autogen when it should be dataframe.\n",
      "WARNING:interpret.utils.all:Passing a numpy array to schema autogen when it should be dataframe.\n",
      "WARNING:interpret.utils.all:Passing a numpy array to schema autogen when it should be dataframe.\n",
      "WARNING:interpret.utils.all:Passing a numpy array to schema autogen when it should be dataframe.\n",
      "WARNING:interpret.utils.all:Passing a numpy array to schema autogen when it should be dataframe.\n",
      "WARNING:interpret.utils.all:Passing a numpy array to schema autogen when it should be dataframe.\n",
      "WARNING:interpret.utils.all:Passing a numpy array to schema autogen when it should be dataframe.\n",
      "WARNING:interpret.utils.all:Passing a numpy array to schema autogen when it should be dataframe.\n",
      "WARNING:interpret.utils.all:Passing a numpy array to schema autogen when it should be dataframe.\n",
      "WARNING:interpret.utils.all:Passing a numpy array to schema autogen when it should be dataframe.\n",
      "WARNING:interpret.utils.all:Passing a numpy array to schema autogen when it should be dataframe.\n",
      "WARNING:interpret.utils.all:Passing a numpy array to schema autogen when it should be dataframe.\n"
     ]
    },
    {
     "name": "stdout",
     "output_type": "stream",
     "text": [
      "model_id, score_thresholds 0 {'rank_abs': [24]}\n",
      "get_disparity_predefined_group()\n"
     ]
    },
    {
     "name": "stderr",
     "output_type": "stream",
     "text": [
      "WARNING:interpret.utils.all:Passing a numpy array to schema autogen when it should be dataframe.\n",
      "WARNING:interpret.utils.all:Passing a numpy array to schema autogen when it should be dataframe.\n",
      "WARNING:interpret.utils.all:Passing a numpy array to schema autogen when it should be dataframe.\n",
      "WARNING:interpret.utils.all:Passing a numpy array to schema autogen when it should be dataframe.\n",
      "WARNING:interpret.utils.all:Passing a numpy array to schema autogen when it should be dataframe.\n",
      "WARNING:interpret.utils.all:Passing a numpy array to schema autogen when it should be dataframe.\n",
      "WARNING:interpret.utils.all:Passing a numpy array to schema autogen when it should be dataframe.\n",
      "WARNING:interpret.utils.all:Passing a numpy array to schema autogen when it should be dataframe.\n",
      "WARNING:interpret.utils.all:Passing a numpy array to schema autogen when it should be dataframe.\n",
      "WARNING:interpret.utils.all:Passing a numpy array to schema autogen when it should be dataframe.\n",
      "WARNING:interpret.utils.all:Passing a numpy array to schema autogen when it should be dataframe.\n",
      "WARNING:interpret.utils.all:Passing a numpy array to schema autogen when it should be dataframe.\n"
     ]
    },
    {
     "name": "stdout",
     "output_type": "stream",
     "text": [
      "model_id, score_thresholds 0 {'rank_abs': [35]}\n",
      "get_disparity_predefined_group()\n"
     ]
    },
    {
     "name": "stderr",
     "output_type": "stream",
     "text": [
      "WARNING:interpret.utils.all:Passing a numpy array to schema autogen when it should be dataframe.\n",
      "WARNING:interpret.utils.all:Passing a numpy array to schema autogen when it should be dataframe.\n",
      "WARNING:interpret.utils.all:Passing a numpy array to schema autogen when it should be dataframe.\n",
      "WARNING:interpret.utils.all:Passing a numpy array to schema autogen when it should be dataframe.\n",
      "WARNING:interpret.utils.all:Passing a numpy array to schema autogen when it should be dataframe.\n",
      "WARNING:interpret.utils.all:Passing a numpy array to schema autogen when it should be dataframe.\n",
      "WARNING:interpret.utils.all:Passing a numpy array to schema autogen when it should be dataframe.\n",
      "WARNING:interpret.utils.all:Passing a numpy array to schema autogen when it should be dataframe.\n",
      "WARNING:interpret.utils.all:Passing a numpy array to schema autogen when it should be dataframe.\n",
      "WARNING:interpret.utils.all:Passing a numpy array to schema autogen when it should be dataframe.\n",
      "WARNING:interpret.utils.all:Passing a numpy array to schema autogen when it should be dataframe.\n",
      "WARNING:interpret.utils.all:Passing a numpy array to schema autogen when it should be dataframe.\n"
     ]
    },
    {
     "name": "stdout",
     "output_type": "stream",
     "text": [
      "model_id, score_thresholds 0 {'rank_abs': [28]}\n",
      "get_disparity_predefined_group()\n"
     ]
    },
    {
     "name": "stderr",
     "output_type": "stream",
     "text": [
      "WARNING:interpret.utils.all:Passing a numpy array to schema autogen when it should be dataframe.\n",
      "WARNING:interpret.utils.all:Passing a numpy array to schema autogen when it should be dataframe.\n",
      "WARNING:interpret.utils.all:Passing a numpy array to schema autogen when it should be dataframe.\n",
      "WARNING:interpret.utils.all:Passing a numpy array to schema autogen when it should be dataframe.\n",
      "WARNING:interpret.utils.all:Passing a numpy array to schema autogen when it should be dataframe.\n",
      "WARNING:interpret.utils.all:Passing a numpy array to schema autogen when it should be dataframe.\n",
      "WARNING:interpret.utils.all:Passing a numpy array to schema autogen when it should be dataframe.\n",
      "WARNING:interpret.utils.all:Passing a numpy array to schema autogen when it should be dataframe.\n",
      "WARNING:interpret.utils.all:Passing a numpy array to schema autogen when it should be dataframe.\n",
      "WARNING:interpret.utils.all:Passing a numpy array to schema autogen when it should be dataframe.\n",
      "WARNING:interpret.utils.all:Passing a numpy array to schema autogen when it should be dataframe.\n",
      "WARNING:interpret.utils.all:Passing a numpy array to schema autogen when it should be dataframe.\n"
     ]
    },
    {
     "name": "stdout",
     "output_type": "stream",
     "text": [
      "model_id, score_thresholds 0 {'rank_abs': [19]}\n",
      "get_disparity_predefined_group()\n"
     ]
    }
   ],
   "source": [
    "#### CART\n",
    "depth = [7,8,9]\n",
    "cart_summary = base.CART(X=x,\n",
    "                         Y=y,\n",
    "                         depth=depth,\n",
    "                         seed=816)\n",
    "\n",
    "#### EBM\n",
    "estimators = [20]\n",
    "depth = [2]\n",
    "learning_rate = [0.5]\n",
    "ebm_summary = base.EBM(X=x,\n",
    "                       Y=y,\n",
    "                       learning_rate=learning_rate,\n",
    "                       depth=depth,\n",
    "                       estimators=estimators,\n",
    "                       seed =816)"
   ]
  },
  {
   "cell_type": "code",
   "execution_count": 4,
   "metadata": {},
   "outputs": [
    {
     "data": {
      "text/plain": [
       "(0.74540271088215, 0.019285906372375927)"
      ]
     },
     "execution_count": 4,
     "metadata": {},
     "output_type": "execute_result"
    }
   ],
   "source": [
    "np.mean(cart_summary['holdout_test_auc']), np.mean(cart_summary['auc_diffs'])"
   ]
  },
  {
   "cell_type": "code",
   "execution_count": 5,
   "metadata": {},
   "outputs": [
    {
     "data": {
      "text/plain": [
       "(0.7466439555971708, 0.008674932620805098)"
      ]
     },
     "execution_count": 5,
     "metadata": {},
     "output_type": "execute_result"
    }
   ],
   "source": [
    "np.mean(ebm_summary['holdout_test_auc']), np.mean(ebm_summary['auc_diffs'])"
   ]
  },
  {
   "cell_type": "markdown",
   "metadata": {},
   "source": [
    "## Lasso Stumps"
   ]
  },
  {
   "cell_type": "code",
   "execution_count": 6,
   "metadata": {},
   "outputs": [],
   "source": [
    "## load whole data\n",
    "data = pd.read_csv(\"~/Documents/Duke/Cynthia Research/KY-analysis-mytrials/KY Recidivism/KY data/kentucky_stumps.csv\")\n",
    "X_stumps, Y_stumps = data.loc[:,:'current_violence>=1'], data['recid_M_six_month'].values\n",
    "Y_stumps[Y_stumps == -1] = 0\n",
    "cols = X_stumps.columns[3:]\n",
    "\n",
    "## load train & test data\n",
    "train_stumps = pd.read_csv(\"~/Documents/Duke/Cynthia Research/KY-analysis-mytrials/KY Recidivism/KY data/kentucky_train_stumps.csv\")\n",
    "test_stumps = pd.read_csv(\"~/Documents/Duke/Cynthia Research/KY-analysis-mytrials/KY Recidivism/KY data/kentucky_test_stumps.csv\")\n",
    "\n",
    "X_train_stumps, Y_train_stumps = train_stumps.loc[:,:'current_violence>=1'], train_stumps['recid_M_six_month'].values\n",
    "X_test_stumps, Y_test_stumps = test_stumps.loc[:,:'current_violence>=1'], test_stumps['recid_M_six_month'].values\n",
    "\n",
    "Y_train_stumps[Y_train_stumps == -1] = 0\n",
    "Y_test_stumps[Y_test_stumps == -1] = 0"
   ]
  },
  {
   "cell_type": "markdown",
   "metadata": {},
   "source": [
    "#### Nested Cross Validation"
   ]
  },
  {
   "cell_type": "code",
   "execution_count": 7,
   "metadata": {},
   "outputs": [
    {
     "name": "stdout",
     "output_type": "stream",
     "text": [
      "model_id, score_thresholds 0 {'rank_abs': [14008]}\n",
      "get_disparity_predefined_group()\n",
      "model_id, score_thresholds 0 {'rank_abs': [12651]}\n",
      "get_disparity_predefined_group()\n",
      "model_id, score_thresholds 0 {'rank_abs': [12961]}\n",
      "get_disparity_predefined_group()\n",
      "model_id, score_thresholds 0 {'rank_abs': [13708]}\n",
      "get_disparity_predefined_group()\n",
      "model_id, score_thresholds 0 {'rank_abs': [13761]}\n",
      "get_disparity_predefined_group()\n"
     ]
    }
   ],
   "source": [
    "stump_summary = stumps.stump_cv(X = X_stumps, \n",
    "                                Y = Y_stumps, \n",
    "                                columns=cols, \n",
    "                                c_grid={'C': [0.007, 0.005, 0.003]}, \n",
    "                                seed = 816)"
   ]
  },
  {
   "cell_type": "code",
   "execution_count": 8,
   "metadata": {},
   "outputs": [
    {
     "data": {
      "text/plain": [
       "([{'C': 0.007}, {'C': 0.007}, {'C': 0.007}, {'C': 0.007}, {'C': 0.007}],\n",
       " 0.7499284766958371,\n",
       " 0.002014939701344187)"
      ]
     },
     "execution_count": 8,
     "metadata": {},
     "output_type": "execute_result"
    }
   ],
   "source": [
    "stump_summary['best_params'], np.mean(stump_summary['holdout_test_auc']), np.mean(stump_summary['auc_diffs'])"
   ]
  },
  {
   "cell_type": "markdown",
   "metadata": {},
   "source": [
    "##### Best Stump Model"
   ]
  },
  {
   "cell_type": "code",
   "execution_count": 9,
   "metadata": {},
   "outputs": [],
   "source": [
    "best_stump_model = stumps.stump_model(X_train_stumps, Y_train_stumps, \n",
    "                                      X_test_stumps, Y_test_stumps, \n",
    "                                      c=0.003, columns=cols, seed=816)"
   ]
  },
  {
   "cell_type": "markdown",
   "metadata": {},
   "source": [
    "##### Prediction Table"
   ]
  },
  {
   "cell_type": "code",
   "execution_count": 10,
   "metadata": {
    "scrolled": true
   },
   "outputs": [
    {
     "name": "stdout",
     "output_type": "stream",
     "text": [
      "+-----------------------------------+----------------+\n",
      "| Features                          | Score          |\n",
      "|====================================================|\n",
      "| sex                               | 8.9            |\n",
      "| p_arrest>=1                       | -43.6          |\n",
      "| p_arrest>=2                       | 51.8           |\n",
      "| p_arrest>=3                       | 37.8           |\n",
      "| p_arrest>=4                       | 19.4           |\n",
      "| p_arrest>=5                       | 16.2           |\n",
      "| p_arrest>=6                       | 12.4           |\n",
      "| p_arrest>=7                       | 13.0           |\n",
      "| p_arrest>=8                       | 7.0            |\n",
      "| p_charges>=1                      | -36.6          |\n",
      "| p_charges>=2                      | 4.7            |\n",
      "| p_violence>=1                     | 24.7           |\n",
      "| p_felony>=1                       | 28.4           |\n",
      "| p_misdemeanor>=1                  | 10.0           |\n",
      "| p_misdemeanor>=2                  | 23.4           |\n",
      "| p_misdemeanor>=3                  | 18.4           |\n",
      "| p_drug>=1                         | 17.8           |\n",
      "| p_stealing>=1                     | -1.7           |\n",
      "| ADE>=1                            | -32.9          |\n",
      "| p_prison>=1                       | -39.9          |\n",
      "| p_jail30>=1                       | 5.2            |\n",
      "| p_pending_charge>=1               | 46.8           |\n",
      "| p_probation>=1                    | 2.5            |\n",
      "| five_year>=1                      | -13.3          |\n",
      "| Intercept                         | -0.413         |\n",
      "|====================================================|\n",
      "| ADD POINTS FROM ROWS 1 TO 24      | Total Score    |\n",
      "+-----------------------------------+----------------+\n"
     ]
    }
   ],
   "source": [
    "stumps.stump_table(best_stump_model['coefs'], \n",
    "                   best_stump_model['features'], \n",
    "                   best_stump_model['intercept'], \n",
    "                   best_stump_model['dictionary'])"
   ]
  },
  {
   "cell_type": "code",
   "execution_count": 11,
   "metadata": {},
   "outputs": [
    {
     "name": "stdout",
     "output_type": "stream",
     "text": [
      "model_id, score_thresholds 0 {'rank_abs': [13279]}\n",
      "get_disparity_predefined_group()\n",
      "model_id, score_thresholds 0 {'rank_abs': [13390]}\n",
      "get_disparity_predefined_group()\n",
      "model_id, score_thresholds 0 {'rank_abs': [13271]}\n",
      "get_disparity_predefined_group()\n",
      "model_id, score_thresholds 0 {'rank_abs': [13126]}\n",
      "get_disparity_predefined_group()\n",
      "model_id, score_thresholds 0 {'rank_abs': [12325]}\n",
      "get_disparity_predefined_group()\n"
     ]
    }
   ],
   "source": [
    "stump_summary = stumps.stump_cv(X = X_stumps, \n",
    "                                Y = Y_stumps, \n",
    "                                columns=cols, \n",
    "                                c_grid={'C': [0.004]}, \n",
    "                                seed = 816)"
   ]
  },
  {
   "cell_type": "code",
   "execution_count": 12,
   "metadata": {},
   "outputs": [
    {
     "data": {
      "text/plain": [
       "([{'C': 0.004}, {'C': 0.004}, {'C': 0.004}, {'C': 0.004}, {'C': 0.004}],\n",
       " 0.7482883684579514,\n",
       " 0.0016177709364000314)"
      ]
     },
     "execution_count": 12,
     "metadata": {},
     "output_type": "execute_result"
    }
   ],
   "source": [
    "stump_summary['best_params'], np.mean(stump_summary['holdout_test_auc']), np.mean(stump_summary['auc_diffs'])"
   ]
  },
  {
   "cell_type": "markdown",
   "metadata": {},
   "source": [
    "##### Stumps Visualizations"
   ]
  },
  {
   "cell_type": "code",
   "execution_count": 20,
   "metadata": {
    "scrolled": true
   },
   "outputs": [
    {
     "data": {
      "image/png": "[encoded data removed]",
      "text/plain": [
       "<Figure size 288x216 with 1 Axes>"
      ]
     },
     "metadata": {
      "needs_background": "light"
     },
     "output_type": "display_data"
    },
    {
     "data": {
      "image/png": "[encoded data removed]",
      "text/plain": [
       "<Figure size 288x216 with 1 Axes>"
      ]
     },
     "metadata": {
      "needs_background": "light"
     },
     "output_type": "display_data"
    },
    {
     "data": {
      "image/png": "[encoded data removed]",
      "text/plain": [
       "<Figure size 288x216 with 1 Axes>"
      ]
     },
     "metadata": {
      "needs_background": "light"
     },
     "output_type": "display_data"
    },
    {
     "data": {
      "image/png": "[encoded data removed]",
      "text/plain": [
       "<Figure size 288x216 with 1 Axes>"
      ]
     },
     "metadata": {
      "needs_background": "light"
     },
     "output_type": "display_data"
    },
    {
     "data": {
      "image/png": "[encoded data removed]",
      "text/plain": [
       "<Figure size 288x216 with 1 Axes>"
      ]
     },
     "metadata": {
      "needs_background": "light"
     },
     "output_type": "display_data"
    },
    {
     "data": {
      "image/png": "[encoded data removed]",
      "text/plain": [
       "<Figure size 288x216 with 1 Axes>"
      ]
     },
     "metadata": {
      "needs_background": "light"
     },
     "output_type": "display_data"
    },
    {
     "data": {
      "image/png": "[encoded data removed]",
      "text/plain": [
       "<Figure size 288x216 with 1 Axes>"
      ]
     },
     "metadata": {
      "needs_background": "light"
     },
     "output_type": "display_data"
    },
    {
     "data": {
      "image/png": "[encoded data removed]",
      "text/plain": [
       "<Figure size 288x216 with 1 Axes>"
      ]
     },
     "metadata": {
      "needs_background": "light"
     },
     "output_type": "display_data"
    },
    {
     "data": {
      "image/png": "[encoded data removed]",
      "text/plain": [
       "<Figure size 288x216 with 1 Axes>"
      ]
     },
     "metadata": {
      "needs_background": "light"
     },
     "output_type": "display_data"
    },
    {
     "data": {
      "image/png": "[encoded data removed]",
      "text/plain": [
       "<Figure size 288x216 with 1 Axes>"
      ]
     },
     "metadata": {
      "needs_background": "light"
     },
     "output_type": "display_data"
    },
    {
     "data": {
      "image/png": "[encoded data removed]",
      "text/plain": [
       "<Figure size 288x216 with 1 Axes>"
      ]
     },
     "metadata": {
      "needs_background": "light"
     },
     "output_type": "display_data"
    }
   ],
   "source": [
    "stumps.stump_plots(best_stump_model['features'], best_stump_model['coefs'])"
   ]
  },
  {
   "cell_type": "markdown",
   "metadata": {},
   "source": [
    "### Arnold PSA"
   ]
  },
  {
   "cell_type": "code",
   "execution_count": 13,
   "metadata": {},
   "outputs": [],
   "source": [
    "### load data\n",
    "data = pd.read_csv(\"~/Documents/Duke/Cynthia Research/KY-analysis-mytrials/KY Recidivism/KY data/kentucky_data.csv\")\n",
    "X_arnold_raw = data['nca_risk_score_raw'].values\n",
    "X_arnold_calc = data['nca_calc'].values\n",
    "Y_arnold = data['recid_M_six_month'].values"
   ]
  },
  {
   "cell_type": "code",
   "execution_count": 14,
   "metadata": {},
   "outputs": [],
   "source": [
    "## set up cross validation\n",
    "cv = KFold(n_splits=5,shuffle=True,random_state=816)\n",
    "raw_auc = []\n",
    "calc_auc = []\n",
    "\n",
    "## raw score\n",
    "i = 1\n",
    "for train, test in cv.split(X_arnold_raw, Y_arnold):\n",
    "    y_pred_raw, y_pred_calc, y_test = X_arnold_raw[test], X_arnold_calc[test], Y_arnold[test]\n",
    "    raw_auc.append(roc_auc_score(y_test, y_pred_raw))\n",
    "    calc_auc.append(roc_auc_score(y_test, y_pred_calc))\n",
    "    i+=1 "
   ]
  },
  {
   "cell_type": "markdown",
   "metadata": {},
   "source": [
    "## RiskSLIM"
   ]
  },
  {
   "cell_type": "code",
   "execution_count": 15,
   "metadata": {},
   "outputs": [],
   "source": [
    "## load stumps data\n",
    "data = pd.read_csv(\"~/Documents/Duke/Cynthia Research/KY-analysis-mytrials/KY Recidivism/KY data/kentucky_stumps.csv\")\n",
    "x, y = data.loc[:,:'current_violence>=1'], data['recid_M_six_month'].values\n",
    "cols = x.columns[3:]"
   ]
  },
  {
   "cell_type": "code",
   "execution_count": 16,
   "metadata": {},
   "outputs": [
    {
     "data": {
      "text/plain": [
       "26"
      ]
     },
     "execution_count": 16,
     "metadata": {},
     "output_type": "execute_result"
    }
   ],
   "source": [
    "## train on best param chosen by Lasso Stumps from above\n",
    "x_train = x.copy().drop(['race', 'person_id', 'screening_date'], axis=1)\n",
    "lasso = LogisticRegression(class_weight='balanced', solver='liblinear', penalty='l1', C=0.003, random_state=816).fit(x_train,y)\n",
    "selected_features = cols[lasso.coef_[0] != 0].tolist()\n",
    "len(selected_features)"
   ]
  },
  {
   "cell_type": "code",
   "execution_count": 17,
   "metadata": {},
   "outputs": [],
   "source": [
    "### Subset features\n",
    "if 'sex' in selected_features:\n",
    "    selected_features = ['recid_M_six_month', 'person_id', 'screening_date', 'race'] + selected_features\n",
    "    indicator = 1\n",
    "else:\n",
    "    selected_features = ['recid_M_six_month', 'person_id', 'screening_date', 'race', 'sex'] + selected_features\n",
    "    indicator = 0\n",
    "\n",
    "sub_data = data[selected_features]\n",
    "sub_X, sub_Y = sub_data.iloc[:,1:], sub_data.iloc[:,0].values\n",
    "sub_X.insert(0, '(Intercept)', 1)"
   ]
  },
  {
   "cell_type": "code",
   "execution_count": 22,
   "metadata": {
    "scrolled": true
   },
   "outputs": [
    {
     "name": "stdout",
     "output_type": "stream",
     "text": [
      "setting c0 = 0.0 to ensure that intercept is not penalized\n",
      "09/11/19 @ 10:58 PM | 1141 rows in lookup table\n",
      "09/11/19 @ 10:58 PM | ------------------------------------------------------------\n",
      "09/11/19 @ 10:58 PM | runnning initialization procedure\n",
      "09/11/19 @ 10:58 PM | ------------------------------------------------------------\n",
      "09/11/19 @ 10:58 PM | CPA produced 2 cuts\n",
      "09/11/19 @ 10:58 PM | running naive rounding on 75 solutions\n",
      "09/11/19 @ 10:58 PM | best objective value: 0.1814\n",
      "09/11/19 @ 10:58 PM | rounding produced 5 integer solutions\n",
      "09/11/19 @ 10:58 PM | best objective value is 0.1882\n",
      "09/11/19 @ 10:58 PM | running sequential rounding on 75 solutions\n",
      "09/11/19 @ 10:58 PM | best objective value: 0.1814\n",
      "09/11/19 @ 10:58 PM | sequential rounding produced 5 integer solutions\n",
      "09/11/19 @ 10:58 PM | best objective value: 0.1875\n",
      "09/11/19 @ 10:58 PM | polishing 10 solutions\n",
      "09/11/19 @ 10:58 PM | best objective value: 0.1875\n",
      "09/11/19 @ 10:58 PM | polishing produced 5 integer solutions\n",
      "09/11/19 @ 10:58 PM | initialization produced 9 feasible solutions\n",
      "09/11/19 @ 10:58 PM | best objective value: 0.1875\n",
      "09/11/19 @ 10:58 PM | ------------------------------------------------------------\n",
      "09/11/19 @ 10:58 PM | completed initialization procedure\n",
      "09/11/19 @ 10:58 PM | ------------------------------------------------------------\n",
      "09/11/19 @ 10:58 PM | 1141 rows in lookup table\n",
      "CPXPARAM_Read_DataCheck                          1\n",
      "CPXPARAM_Threads                                 1\n",
      "CPXPARAM_Parallel                                1\n",
      "CPXPARAM_RandomSeed                              0\n",
      "CPXPARAM_TimeLimit                               200\n",
      "CPXPARAM_MIP_Tolerances_LowerCutoff              0.18022079940213231\n",
      "CPXPARAM_MIP_Tolerances_UpperCutoff              0.18747879766353753\n"
     ]
    },
    {
     "name": "stderr",
     "output_type": "stream",
     "text": [
      "Warning: Control callbacks may disable some MIP features.\n"
     ]
    },
    {
     "name": "stdout",
     "output_type": "stream",
     "text": [
      "Lazy constraint(s) or lazy constraint callback is present.\n",
      "    Disabling dual reductions (CPX_PARAM_REDUCE) in presolve.\n",
      "    Disabling non-linear reductions (CPX_PARAM_PRELINEAR) in presolve.\n",
      "         Disabling repeat represolve because of lazy constraint/incumbent callback.\n",
      "09/11/19 @ 10:58 PM | adding 249 initial cuts\n",
      "1 of 1 MIP starts provided solutions.\n",
      "MIP start 'mip_start_0' defined initial solution with objective 0.1875.\n",
      "Tried aggregator 1 time.\n",
      "Reduced MIP has 28 rows, 56 columns, and 107 nonzeros.\n",
      "Reduced MIP has 26 binaries, 28 generals, 0 SOSs, and 0 indicators.\n",
      "Presolve time = 0.03 sec. (0.06 ticks)\n",
      "Probing time = 0.00 sec. (0.02 ticks)\n",
      "MIP emphasis: balance optimality and feasibility.\n",
      "MIP search method: traditional branch-and-cut.\n",
      "Parallel mode: none, using 1 thread.\n",
      "Root relaxation solution time = 0.00 sec. (0.04 ticks)\n",
      "\n",
      "        Nodes                                         Cuts/\n",
      "   Node  Left     Objective  IInf  Best Integer    Best Bound    ItCnt     Gap         Variable B NodeID Parent  Depth\n",
      "\n",
      "*     0+    0                            0.1875        0.1702             9.21%\n",
      "      0     0        0.1802     1        0.1875        0.1802        1    3.87%\n",
      "      0     0        0.1802     1        0.1875       Cuts: 2        4    3.87%\n",
      "      0     0        0.1802     1        0.1875      Fract: 1        5    3.87%\n",
      "      0     2        0.1802     2        0.1875        0.1802        5    3.87%                        0             0\n",
      "Elapsed time = 0.28 sec. (1.93 ticks, tree = 0.01 MB, solutions = 1)\n",
      "   2251   814        cutoff              0.1875        0.1802    10165    3.87%          rho_24 U   2251    162     22\n",
      "   3387  1242        0.1837     8        0.1875        0.1802    17436    3.87%           rho_0 U   3387   3386     21\n",
      "   4503  1670        0.1874     3        0.1875        0.1802    22699    3.87%          rho_21 D   4503   4501     24\n",
      "   5423  2095        0.1802    27        0.1875        0.1802    28060    3.87%          rho_23 D   5423   3043     11\n",
      "   6406  2460        0.1818    19        0.1875        0.1802    32795    3.87%           rho_1 U   6406   5858     14\n",
      "   7444  2889        0.1841     5        0.1875        0.1805    37270    3.70%          rho_21 D   7444   7443     20\n",
      "   8477  3277        0.1848     8        0.1875        0.1809    41522    3.52%          rho_17 U   8477   2858     16\n",
      "   9521  3595        0.1850     8        0.1875        0.1811    45439    3.42%           rho_0 U   9521   9520     36\n",
      "  10671  4176        0.1854    11        0.1875        0.1812    49448    3.36%           rho_2 U  10671  10669     71\n",
      "  14946  5982        cutoff              0.1875        0.1817    65992    3.08%          rho_21 U  14946  14945     57\n",
      "Elapsed time = 5.63 sec. (3103.33 ticks, tree = 1.75 MB, solutions = 1)\n",
      "  19125  7510        0.1869     5        0.1875        0.1820    83723    2.92%           rho_5 U  19125  19124     18\n",
      "  23301  9005        0.1832    13        0.1875        0.1822    98900    2.83%           rho_2 D  23301  19576     47\n",
      "  27142 10676        0.1834    16        0.1875        0.1824   114419    2.71%           rho_0 D  27142  27140     48\n",
      "  30819 11460        cutoff              0.1875        0.1825   128201    2.65%          rho_10 D  30819  30818     43\n",
      "  34550 12652        0.1873     0        0.1875        0.1826   141295    2.60%           rho_5 D  34550  34549     25\n",
      "  37779 13696        0.1851    11        0.1875        0.1827   157673    2.56%          rho_16 D  37779  37778     55\n",
      "  41250 14822        0.1854     4        0.1875        0.1828   173625    2.50%          rho_11 N  41250  41249     26\n",
      "  45017 15763        0.1845    11        0.1875        0.1829   189000    2.45%          rho_11 U  45017  45015     24\n",
      "  48627 17072        0.1831    17        0.1875        0.1829   204726    2.42%           rho_0 D  48627  48625     47\n",
      "  52023 17806        0.1864    11        0.1875        0.1830   221420    2.40%           rho_0 D  52023  52021     63\n",
      "Elapsed time = 15.67 sec. (12641.60 ticks, tree = 5.76 MB, solutions = 1)\n",
      "  55519 18457        0.1842    11        0.1875        0.1830   236890    2.39%          rho_16 D  55519  55517     38\n",
      "  58932 19542        0.1872     8        0.1875        0.1830   252310    2.37%          rho_25 N  58932  58931     64\n",
      "  62419 20871        0.1840    21        0.1875        0.1831   267691    2.35%          rho_10 U  62419  62417     39\n",
      "  65911 21724        0.1865    12        0.1875        0.1831   283744    2.35%           rho_0 N  65911  65909     37\n",
      "  69300 23022        0.1831     4        0.1875        0.1831   298711    2.32%           rho_2 U  69300  69298     38\n",
      "  72723 24439        0.1841     9        0.1875        0.1832   313205    2.30%          rho_10 U  72723  72721     50\n",
      "  76361 25530        0.1835     9        0.1875        0.1832   326620    2.28%           rho_5 D  76361  26852     22\n",
      "  79793 26350        0.1854     1        0.1875        0.1832   343114    2.27%           rho_2 U  79793  79791     38\n",
      "  83212 27389        0.1863     9        0.1875        0.1832   357154    2.26%          rho_26 D  83212  83210     64\n",
      "  86500 27946        cutoff              0.1875        0.1833   372340    2.23%          rho_25 U  86500  86499     63\n",
      "Elapsed time = 25.84 sec. (22180.05 ticks, tree = 8.34 MB, solutions = 1)\n",
      "  89935 28940        cutoff              0.1875        0.1833   385798    2.21%          rho_10 U  89935  89933     43\n",
      "  93242 30478        0.1836    15        0.1875        0.1834   401468    2.19%          rho_10 D  93242  93240     28\n",
      "  96896 31555        0.1844     6        0.1875        0.1834   414446    2.17%           rho_0 D  96896  96894     54\n",
      " 100343 33107        0.1844    15        0.1875        0.1834   429124    2.15%          rho_10 U 100343  96258     21\n",
      " 103832 34420        0.1849     6        0.1875        0.1835   442093    2.13%           rho_0 D 103832 103830     21\n",
      " 107068 35439        0.1835    18        0.1875        0.1835   455921    2.13%           rho_0 D 107068 107066     72\n",
      " 110498 36306        cutoff              0.1875        0.1835   469196    2.11%          rho_25 U 110498 110497     35\n",
      " 113986 37919        0.1848    15        0.1875        0.1836   482810    2.09%           rho_2 D 113986 113985     45\n",
      " 117396 38868        0.1871     9        0.1875        0.1836   496929    2.07%          rho_14 N 117396 117394     53\n",
      " 120869 39946        0.1855     9        0.1875        0.1836   511275    2.05%          rho_16 D 120869 120868     58\n",
      "Elapsed time = 38.92 sec. (31718.44 ticks, tree = 12.79 MB, solutions = 1)\n",
      " 124130 40631        cutoff              0.1875        0.1837   526103    2.03%          rho_22 D 124130 124128     47\n",
      " 127679 42417        cutoff              0.1875        0.1837   539972    2.02%          rho_24 D 127679 127677     57\n",
      " 130895 43520        0.1861     7        0.1875        0.1837   554337    2.00%          rho_26 D 130895 130893     53\n",
      " 134071 45010        cutoff              0.1875        0.1837   572423    2.00%           rho_2 U 134071 134070     23\n",
      " 137437 45724        0.1848     1        0.1875        0.1838   586554    1.97%           rho_0 D 137437 137436     57\n",
      " 140756 46323        cutoff              0.1875        0.1838   601089    1.97%          rho_21 U 140756 140754     52\n",
      " 143921 47582        0.1848    10        0.1875        0.1838   617632    1.96%           rho_2 U 143921 143919     49\n",
      " 147127 48251        cutoff              0.1875        0.1838   631919    1.95%           rho_0 D 147127 147126     71\n",
      " 150615 49330        0.1865     7        0.1875        0.1838   644816    1.94%           rho_0 N 150615 150614     81\n",
      " 153919 50023        0.1861     4        0.1875        0.1839   659444    1.93%           rho_7 D 153919 153917     39\n",
      "Elapsed time = 48.45 sec. (41256.61 ticks, tree = 15.40 MB, solutions = 1)\n",
      " 157635 51547        0.1873     9        0.1875        0.1839   674104    1.92%          rho_26 N 157635 157633     39\n",
      " 161553 53651        0.1849    14        0.1875        0.1839   687742    1.91%           rho_2 U 161553 161551     86\n"
     ]
    },
    {
     "name": "stdout",
     "output_type": "stream",
     "text": [
      " 164805 55142        0.1869    12        0.1875        0.1839   703262    1.91%          rho_11 D 164805 164803     43\n",
      " 168004 55252        cutoff              0.1875        0.1839   714706    1.90%           rho_6 U 168004 168003     47\n",
      " 171329 56188        cutoff              0.1875        0.1839   728850    1.89%          rho_22 U 171329 171328     46\n",
      " 174553 56740        0.1849    14        0.1875        0.1839   742941    1.89%           rho_0 D 174553 174551     47\n",
      " 177959 57321        cutoff              0.1875        0.1840   756669    1.88%          rho_11 U 177959  36921     42\n",
      " 181251 58220        0.1873     9        0.1875        0.1840   771505    1.87%          rho_16 D 181251 181250     58\n",
      " 184135 58845        cutoff              0.1875        0.1840   788043    1.87%          rho_16 U 184135 184133     66\n",
      " 187268 59450        0.1860     8        0.1875        0.1840   802950    1.87%          rho_10 U 187268  91177     42\n",
      "Elapsed time = 58.73 sec. (50794.71 ticks, tree = 17.83 MB, solutions = 1)\n",
      " 190469 59846        0.1869     5        0.1875        0.1840   816878    1.86%           rho_0 D 190469 190468     88\n",
      " 193931 60713        0.1856     6        0.1875        0.1840   831248    1.85%           rho_0 D 193931 193930     90\n",
      " 197229 61588        0.1843    15        0.1875        0.1840   843266    1.85%          rho_10 D 197229 197228     46\n",
      " 200445 63078        cutoff              0.1875        0.1840   856943    1.84%          rho_21 D 200445 200444     42\n",
      " 203306 63816        0.1863     7        0.1875        0.1840   872519    1.84%          rho_16 U 203306  32800     81\n",
      " 206530 64455        0.1857     7        0.1875        0.1840   885606    1.83%          rho_25 D 206530 206528     24\n",
      " 209453 65022        0.1858     6        0.1875        0.1840   901592    1.83%          rho_10 D 209453 209452     92\n",
      " 212409 66221        0.1855    10        0.1875        0.1841   916922    1.82%           rho_2 D 212409 212408     53\n",
      " 215394 66573        cutoff              0.1875        0.1841   930501    1.82%          rho_22 D 215394 215392     29\n",
      " 218508 67606        0.1874     9        0.1875        0.1841   943234    1.81%           rho_2 N 218508 218507     76\n",
      "Elapsed time = 67.36 sec. (60332.62 ticks, tree = 22.76 MB, solutions = 1)\n",
      " 221675 68413        0.1848     8        0.1875        0.1841   956726    1.80%          rho_25 D 221675 221673     38\n",
      " 225048 69365        cutoff              0.1875        0.1841   968951    1.79%          rho_16 U 225048 225047     26\n",
      " 228301 70735        0.1869     5        0.1875        0.1841   984564    1.79%          rho_22 D 228301 228300     65\n",
      " 231373 71714        0.1872     9        0.1875        0.1841   999505    1.78%          rho_11 D 231373 231371     55\n",
      " 234200 72177        0.1872    10        0.1875        0.1841  1015044    1.78%          rho_16 N 234200 234199     54\n",
      " 237599 73083        0.1841    22        0.1875        0.1841  1027682    1.78%           rho_2 U 237599 237597     39\n",
      " 240716 73913        0.1854    12        0.1875        0.1842  1041181    1.77%          rho_10 D 240716 240715     55\n",
      " 243757 74388        0.1865    11        0.1875        0.1842  1054047    1.77%          rho_15 N 243757 106451     62\n",
      " 247231 75080        cutoff              0.1875        0.1842  1064305    1.76%           rho_0 U 247231 247230     37\n",
      " 250411 75732        0.1857    11        0.1875        0.1842  1076977    1.75%           rho_2 D 250411 250410     42\n",
      "Elapsed time = 75.92 sec. (69870.89 ticks, tree = 24.86 MB, solutions = 1)\n",
      " 253568 77042        0.1842     9        0.1875        0.1842  1091863    1.75%          rho_25 D 253568  55300     84\n",
      " 256596 77744        cutoff              0.1875        0.1842  1105767    1.75%          rho_16 U 256596 256594     26\n",
      " 259901 78821        0.1846    13        0.1875        0.1842  1118482    1.74%          rho_15 D 259901 111588     35\n",
      " 263087 80172        0.1860     7        0.1875        0.1842  1134639    1.74%          rho_21 D 263087 263085     57\n",
      " 266737 81187        0.1852     1        0.1875        0.1842  1146726    1.73%           rho_2 U 266737 266735     88\n",
      " 270052 81417        cutoff              0.1875        0.1842  1159127    1.73%          rho_25 U 270052 270051     40\n",
      " 273578 81605        cutoff              0.1875        0.1842  1170882    1.73%          rho_25 D 273578 273576     65\n",
      " 277219 82075        0.1852    10        0.1875        0.1842  1183559    1.73%          rho_15 D 277219 277217     81\n",
      " 280507 82094        0.1872    12        0.1875        0.1842  1195587    1.73%          rho_11 N 280507 280505     50\n",
      " 283458 82680        0.1847    13        0.1875        0.1842  1209376    1.72%           rho_5 D 283458 120243     32\n",
      "Elapsed time = 84.16 sec. (79409.93 ticks, tree = 26.65 MB, solutions = 1)\n",
      " 286331 83003        cutoff              0.1875        0.1843  1222733    1.72%          rho_16 U 286331 286329     53\n",
      " 289369 83595        0.1855    10        0.1875        0.1843  1237940    1.72%          rho_16 D 289369 289368     49\n",
      " 292400 84410        0.1855    12        0.1875        0.1843  1252166    1.71%          rho_10 D 292400 292399     76\n",
      " 295610 85125        0.1863    13        0.1875        0.1843  1265680    1.70%          rho_11 D 295610 295609     30\n",
      " 298344 86048        0.1874    13        0.1875        0.1843  1282949    1.70%          rho_16 N 298344 298343     70\n",
      " 301386 86932        cutoff              0.1875        0.1843  1296093    1.69%          rho_25 U 301386  13145     35\n",
      " 304441 87113        0.1855    13        0.1875        0.1843  1309269    1.69%          rho_16 D 304441 304439     67\n",
      " 307534 87519        0.1853    14        0.1875        0.1843  1322850    1.69%          rho_14 D 307534 307532     66\n",
      " 310929 87956        cutoff              0.1875        0.1843  1335409    1.68%          rho_11 U 310929 310928     56\n",
      " 323830 90982        0.1868    12        0.1875        0.1844  1388853    1.67%          rho_14 N 323830 323829     76\n",
      "Elapsed time = 95.75 sec. (91809.36 ticks, tree = 28.81 MB, solutions = 1)\n",
      " 335414 92532        0.1849    15        0.1875        0.1844  1444263    1.66%          rho_14 D 335414 335412     55\n",
      " 347613 95008        cutoff              0.1875        0.1844  1500465    1.64%          rho_15 N 347613 347612     24\n",
      " 360680 99841        0.1852    15        0.1875        0.1844  1553106    1.62%           rho_2 D 360680 360678     26\n",
      " 373581 102962        0.1845    12        0.1875        0.1845  1605970    1.60%          rho_10 U 373581 109906     38\n",
      " 386316 104476        0.1853    19        0.1875        0.1845  1660618    1.58%           rho_4 D 386316 352228     47\n",
      " 398806 106009        0.1846    14        0.1875        0.1846  1713644    1.56%          rho_15 D 398806 113694     72\n",
      " 411985 110319        0.1874     6        0.1875        0.1846  1766994    1.54%          rho_15 N 411985 411983     39\n",
      " 424747 111451        0.1870     9        0.1875        0.1846  1817583    1.52%          rho_25 N 424747 424745     88\n",
      " 437074 114858        0.1864    17        0.1875        0.1847  1873611    1.51%           rho_2 D 437074 437073     40\n",
      " 449828 119285        0.1858    16        0.1875        0.1847  1929311    1.49%          rho_14 D 449828 449827     65\n",
      "Elapsed time = 129.06 sec. (129959.21 ticks, tree = 36.12 MB, solutions = 1)\n",
      " 462240 120868        cutoff              0.1875        0.1847  1982023    1.47%          rho_13 U 462240 462238     51\n",
      " 474905 122371        cutoff              0.1875        0.1847  2035201    1.46%          rho_13 U 474905 474902     68\n",
      " 487712 123275        cutoff              0.1875        0.1848  2088923    1.45%          rho_13 U 487712 487711     78\n",
      " 499798 124523        0.1866    15        0.1875        0.1848  2144271    1.44%          rho_26 N 499798 499796     64\n",
      " 513035 126908        0.1872     9        0.1875        0.1848  2192954    1.42%          rho_25 D 513035 513034     29\n",
      " 525588 130645        0.1856     7        0.1875        0.1848  2244212    1.42%          rho_10 D 525588 525587     76\n"
     ]
    },
    {
     "name": "stdout",
     "output_type": "stream",
     "text": [
      " 536676 130428        0.1872    11        0.1875        0.1848  2298351    1.40%          rho_16 N 536676 536675     67\n",
      " 550277 134467        0.1857     8        0.1875        0.1849  2344976    1.39%          rho_26 D 550277 550275     53\n",
      " 562772 137773        0.1859     7        0.1875        0.1849  2395631    1.38%           rho_0 D 562772 562770     64\n",
      " 573700 137403        cutoff              0.1875        0.1849  2451937    1.37%          rho_13 U 573700 469275     57\n",
      "Elapsed time = 164.58 sec. (168107.78 ticks, tree = 43.84 MB, solutions = 1)\n",
      " 584955 137562        0.1865     9        0.1875        0.1849  2500891    1.37%          rho_11 N 584955 584953     47\n",
      " 596237 139007        0.1850    16        0.1875        0.1850  2554274    1.35%           rho_0 D 596237 596235     65\n",
      " 607586 139694        0.1859    10        0.1875        0.1850  2605801    1.33%           rho_0 D 607586 607584     50\n",
      " 619976 141270        0.1850    16        0.1875        0.1850  2653774    1.32%          rho_10 U 619976 619974     80\n",
      " 631129 144103        cutoff              0.1875        0.1850  2709081    1.32%          rho_26 U 631129 631128     60\n",
      " 642111 144577        0.1858    16        0.1875        0.1850  2757979    1.30%          rho_14 D 642111 642110     79\n",
      " 653707 146697        cutoff              0.1875        0.1850  2804913    1.30%          rho_16 U 653707 511163     79\n",
      " 665218 148539        0.1875    18        0.1875        0.1851  2849408    1.29%          rho_16 D 665218 665217     61\n",
      " 676310 148321        cutoff              0.1875        0.1851  2901596    1.29%          rho_13 U 676310 676308     58\n",
      "\n",
      "Implied bound cuts applied:  1\n",
      "Gomory fractional cuts applied:  1\n",
      "User cuts applied:  422\n",
      "\n",
      "Root node processing (before b&c):\n",
      "  Real time             =    0.28 sec. (1.96 ticks)\n",
      "Sequential b&c:\n",
      "  Real time             =  199.74 sec. (203124.93 ticks)\n",
      "                          ------------\n",
      "Total (root+branch&cut) =  200.02 sec. (203126.89 ticks)\n",
      "+----------------------------------------------+------------------+-----------+\n",
      "| Pr(Y = +1) = 1.0/(1.0 + exp(-(-4 + score))   |                  |           |\n",
      "| ============================================ | ================ | ========= |\n",
      "| p_arrest>=2                                  |         1 points |   + ..... |\n",
      "| p_arrest>=7                                  |         1 points |   + ..... |\n",
      "| p_pending_charge>=1                          |         1 points |   + ..... |\n",
      "| ============================================ | ================ | ========= |\n",
      "| ADD POINTS FROM ROWS 1 to 3                  |            SCORE |   = ..... |\n",
      "+----------------------------------------------+------------------+-----------+\n",
      "model_id, score_thresholds 0 {'rank_abs': [0]}\n",
      "get_disparity_predefined_group()\n",
      "setting c0 = 0.0 to ensure that intercept is not penalized\n",
      "09/11/19 @ 11:01 PM | 1141 rows in lookup table\n",
      "09/11/19 @ 11:01 PM | ------------------------------------------------------------\n",
      "09/11/19 @ 11:01 PM | runnning initialization procedure\n",
      "09/11/19 @ 11:01 PM | ------------------------------------------------------------\n",
      "09/11/19 @ 11:01 PM | CPA produced 2 cuts\n",
      "09/11/19 @ 11:01 PM | running naive rounding on 72 solutions\n",
      "09/11/19 @ 11:01 PM | best objective value: 0.1830\n",
      "09/11/19 @ 11:01 PM | rounding produced 5 integer solutions\n",
      "09/11/19 @ 11:01 PM | best objective value is 0.1895\n",
      "09/11/19 @ 11:01 PM | running sequential rounding on 72 solutions\n",
      "09/11/19 @ 11:01 PM | best objective value: 0.1830\n",
      "09/11/19 @ 11:01 PM | sequential rounding produced 6 integer solutions\n",
      "09/11/19 @ 11:01 PM | best objective value: 0.1889\n",
      "09/11/19 @ 11:01 PM | polishing 11 solutions\n",
      "09/11/19 @ 11:01 PM | best objective value: 0.1889\n",
      "09/11/19 @ 11:01 PM | polishing produced 5 integer solutions\n",
      "09/11/19 @ 11:01 PM | initialization produced 9 feasible solutions\n",
      "09/11/19 @ 11:01 PM | best objective value: 0.1889\n",
      "09/11/19 @ 11:01 PM | ------------------------------------------------------------\n",
      "09/11/19 @ 11:01 PM | completed initialization procedure\n",
      "09/11/19 @ 11:01 PM | ------------------------------------------------------------\n",
      "09/11/19 @ 11:01 PM | 1141 rows in lookup table\n",
      "CPXPARAM_Read_DataCheck                          1\n",
      "CPXPARAM_Threads                                 1\n",
      "CPXPARAM_Parallel                                1\n",
      "CPXPARAM_RandomSeed                              0\n",
      "CPXPARAM_TimeLimit                               200\n",
      "CPXPARAM_MIP_Tolerances_LowerCutoff              0.18186321322103102\n",
      "CPXPARAM_MIP_Tolerances_UpperCutoff              0.18886159446730241\n"
     ]
    },
    {
     "name": "stderr",
     "output_type": "stream",
     "text": [
      "Warning: Control callbacks may disable some MIP features.\n"
     ]
    },
    {
     "name": "stdout",
     "output_type": "stream",
     "text": [
      "Lazy constraint(s) or lazy constraint callback is present.\n",
      "    Disabling dual reductions (CPX_PARAM_REDUCE) in presolve.\n",
      "    Disabling non-linear reductions (CPX_PARAM_PRELINEAR) in presolve.\n",
      "         Disabling repeat represolve because of lazy constraint/incumbent callback.\n",
      "09/11/19 @ 11:01 PM | adding 250 initial cuts\n",
      "1 of 1 MIP starts provided solutions.\n",
      "MIP start 'mip_start_0' defined initial solution with objective 0.1889.\n",
      "Tried aggregator 1 time.\n",
      "Reduced MIP has 28 rows, 56 columns, and 107 nonzeros.\n",
      "Reduced MIP has 26 binaries, 28 generals, 0 SOSs, and 0 indicators.\n",
      "Presolve time = 0.00 sec. (0.06 ticks)\n",
      "Probing time = 0.00 sec. (0.02 ticks)\n",
      "MIP emphasis: balance optimality and feasibility.\n",
      "MIP search method: traditional branch-and-cut.\n",
      "Parallel mode: none, using 1 thread.\n",
      "Root relaxation solution time = 0.00 sec. (0.04 ticks)\n",
      "\n",
      "        Nodes                                         Cuts/\n",
      "   Node  Left     Objective  IInf  Best Integer    Best Bound    ItCnt     Gap         Variable B NodeID Parent  Depth\n",
      "\n",
      "*     0+    0                            0.1889        0.1719             9.00%\n",
      "      0     0        0.1819     1        0.1889        0.1819        1    3.71%\n",
      "      0     0        0.1819     1        0.1889       Cuts: 2        4    3.71%\n",
      "      0     0        0.1819     3        0.1889    MIRcuts: 1        6    3.71%\n",
      "      0     2        0.1819     6        0.1889        0.1819        6    3.71%                        0             0\n",
      "Elapsed time = 0.13 sec. (1.92 ticks, tree = 0.01 MB, solutions = 1)\n",
      "   2418   961        0.1825    14        0.1889        0.1819    11288    3.71%          rho_10 U   2418   2417     14\n",
      "   3877  1498        0.1852     9        0.1889        0.1819    19277    3.71%          rho_16 D   3877   3876     14\n",
      "   5166  2038        0.1884     3        0.1889        0.1819    26100    3.71%           rho_7 D   5166   5164     21\n",
      "   6376  2588        0.1828    13        0.1889        0.1819    32655    3.71%           rho_3 U   6376   6374      9\n",
      "   7580  3059        0.1851     7        0.1889        0.1821    38644    3.57%          rho_16 D   7580   7579     24\n",
      "   8828  3389        0.1870    11        0.1889        0.1825    43489    3.37%           rho_4 D   8828   8826     18\n",
      "  10053  3705        0.1832    17        0.1889        0.1827    48313    3.27%          rho_10 D  10053  10052     17\n",
      "  11280  4261        cutoff              0.1889        0.1828    53154    3.20%           rho_6 D  11280  11279     29\n",
      "  12590  4877        0.1863     3        0.1889        0.1828    59324    3.19%          rho_15 U  12590    527     15\n",
      "  17732  6646        0.1887     4        0.1889        0.1833    79946    2.93%          rho_25 D  17732  17730     26\n",
      "Elapsed time = 6.11 sec. (3103.10 ticks, tree = 1.88 MB, solutions = 1)\n",
      "  22736  8236        cutoff              0.1889        0.1836    98884    2.79%           rho_2 D  22736  22735     74\n",
      "  27467 10072        0.1838    14        0.1889        0.1838   118776    2.67%           rho_0 D  27467  27465     38\n",
      "  32362 12103        0.1879     9        0.1889        0.1838   138056    2.67%           rho_9 D  32362  32360     64\n",
      "  36848 14602        0.1867     5        0.1889        0.1839   156004    2.65%          rho_16 D  36848  36847     59\n",
      "  41491 16578        0.1888     7        0.1889        0.1839   174583    2.61%          rho_17 D  41491  41490     46\n",
      "  45671 17958        cutoff              0.1889        0.1840   193549    2.58%          rho_14 U  45671  33775     51\n",
      "  49827 19069        0.1880     7        0.1889        0.1841   211587    2.53%          rho_17 N  49827  49826     61\n",
      "  53907 20067        0.1881     7        0.1889        0.1842   227689    2.49%          rho_26 D  53907  53905     71\n",
      "  58010 21397        cutoff              0.1889        0.1842   244419    2.45%          rho_16 U  58010  58009     25\n",
      "  62231 22961        0.1843    10        0.1889        0.1843   261072    2.41%           rho_0 D  62231  62229     47\n",
      "Elapsed time = 19.44 sec. (12640.71 ticks, tree = 6.91 MB, solutions = 1)\n",
      "  66422 24140        0.1874     5        0.1889        0.1843   276730    2.41%          rho_21 D  66422  66420     40\n",
      "  70500 24626        0.1843    14        0.1889        0.1843   291100    2.40%           rho_0 D  70500  70498     31\n",
      "  74441 26309        0.1854    15        0.1889        0.1844   310792    2.39%          rho_16 D  74441  74440     58\n",
      "  78951 27677        0.1864    12        0.1889        0.1844   328068    2.36%           rho_0 D  78951  78949     94\n",
      "  83216 29181        0.1884     9        0.1889        0.1844   346247    2.34%           rho_9 D  83216  83214     91\n",
      "  87546 30357        cutoff              0.1889        0.1845   361619    2.31%           rho_0 U  87546  87544     38\n",
      "  92000 31771        0.1868     9        0.1889        0.1845   378450    2.29%          rho_21 D  92000  91999     63\n",
      "  96350 33037        0.1858    13        0.1889        0.1846   394787    2.28%           rho_2 D  96350  96349     65\n",
      " 100620 34726        0.1846    14        0.1889        0.1846   412520    2.25%           rho_2 U 100620 100618     46\n",
      " 104890 36320        cutoff              0.1889        0.1846   432132    2.23%          rho_25 D 104890 104888     40\n",
      "Elapsed time = 31.27 sec. (22181.57 ticks, tree = 11.60 MB, solutions = 1)\n",
      " 109215 37826        0.1847    11        0.1889        0.1847   449910    2.23%          rho_10 D 109215 108006     50\n",
      " 113099 38527        0.1880    10        0.1889        0.1847   469545    2.21%          rho_26 N 113099 113098     54\n",
      " 117040 39663        0.1887     7        0.1889        0.1847   486312    2.19%          rho_17 N 117040 117038     41\n",
      " 121241 40505        0.1885     5        0.1889        0.1848   501243    2.18%          rho_25 D 121241 121239     68\n",
      " 125408 40661        0.1877     7        0.1889        0.1848   515743    2.17%          rho_15 N 125408 125407     54\n",
      " 129734 41430        cutoff              0.1889        0.1848   531737    2.16%           rho_0 U 129734 129733     66\n",
      " 133858 43015        0.1848    14        0.1889        0.1848   548290    2.13%           rho_0 D 133858 133856     21\n",
      " 137997 44332        0.1873     5        0.1889        0.1849   564483    2.11%          rho_21 N 137997  38040     50\n",
      " 141783 44914        0.1872    13        0.1889        0.1849   582616    2.09%          rho_21 D 141783 141782     29\n",
      " 145942 45558        0.1858    10        0.1889        0.1849   600265    2.07%          rho_25 D 145942 145940     51\n",
      "Elapsed time = 38.58 sec. (31720.35 ticks, tree = 13.88 MB, solutions = 1)\n",
      " 149524 45879        cutoff              0.1889        0.1850   618623    2.06%          rho_11 U 149524  42602     67\n",
      " 153862 46814        0.1863    12        0.1889        0.1850   634581    2.04%          rho_11 D 153862 153860     57\n",
      " 158365 47661        cutoff              0.1889        0.1850   649712    2.04%          rho_21 U 158365 158364     73\n",
      " 162774 48209        0.1877     7        0.1889        0.1850   663402    2.04%          rho_25 D 162774 162772     54\n",
      " 167589 50095        0.1872     7        0.1889        0.1850   680077    2.03%          rho_11 U 167589 167588     21\n",
      " 171792 51049        0.1875    10        0.1889        0.1851   696432    2.01%          rho_11 D 171792 171791     44\n",
      " 175999 52179        0.1881     5        0.1889        0.1851   714293    1.99%          rho_17 N 175999 175997     44\n",
      " 180116 53282        0.1863    10        0.1889        0.1851   731832    1.97%          rho_11 U 180116  30573     83\n",
      " 184245 54163        0.1852    14        0.1889        0.1852   748525    1.96%           rho_2 D 184245 177372     47\n",
      " 188543 55104        cutoff              0.1889        0.1852   763806    1.95%          rho_17 D 188543 188542     79\n",
      "Elapsed time = 46.06 sec. (41258.62 ticks, tree = 16.26 MB, solutions = 1)\n",
      " 192434 55851        0.1852    11        0.1889        0.1852   777733    1.93%          rho_26 D 192434 110983     82\n",
      " 196437 57411        0.1886    15        0.1889        0.1852   792787    1.93%           rho_0 N 196437 196436     52\n"
     ]
    },
    {
     "name": "stdout",
     "output_type": "stream",
     "text": [
      " 200587 59199        0.1853    12        0.1889        0.1852   809748    1.91%           rho_2 D 200587 200586     16\n",
      " 204023 59490        0.1863    11        0.1889        0.1853   828569    1.90%           rho_9 D 204023 204021     80\n",
      " 207842 60811        0.1872    11        0.1889        0.1853   846425    1.90%           rho_0 D 207842 207840     22\n",
      " 212042 61673        0.1866    13        0.1889        0.1853   862318    1.89%          rho_15 D 212042 212041     84\n",
      " 216176 62447        cutoff              0.1889        0.1853   882712    1.88%           rho_0 U 216176 216175     79\n",
      " 220076 63552        cutoff              0.1889        0.1853   899951    1.88%          rho_14 U 220076 220075     82\n",
      " 224544 64684        cutoff              0.1889        0.1853   915670    1.87%          rho_21 D 224544 224543     42\n",
      " 228405 65253        0.1884     6        0.1889        0.1854   933815    1.85%           rho_8 D 228405 228403     45\n",
      "Elapsed time = 54.13 sec. (50796.50 ticks, tree = 18.78 MB, solutions = 1)\n",
      " 232786 66678        0.1880     5        0.1889        0.1854   949324    1.84%          rho_15 D 232786 232784     61\n",
      " 236252 66865        0.1879     7        0.1889        0.1854   966134    1.83%          rho_16 N 236252 236251     59\n",
      " 240745 68152        cutoff              0.1889        0.1854   980670    1.82%          rho_10 U 240745 240743     34\n",
      " 244967 69731        0.1862     9        0.1889        0.1854   995639    1.81%           rho_0 U 244967 244966     30\n",
      " 249315 71401        0.1875    11        0.1889        0.1855  1012162    1.81%          rho_21 D 249315 249314     39\n",
      " 254041 73136        cutoff              0.1889        0.1855  1027940    1.80%           rho_0 U 254041 254040     63\n",
      " 258977 74888        0.1864     8        0.1889        0.1855  1040959    1.80%          rho_10 U 258977 258975     41\n",
      " 263378 76232        cutoff              0.1889        0.1855  1056068    1.79%          rho_16 U 263378 263376     66\n",
      " 267669 77374        cutoff              0.1889        0.1855  1070806    1.78%          rho_24 D 267669 267667     59\n",
      " 271988 78373        0.1865     4        0.1889        0.1855  1085993    1.77%           rho_0 D 271988 271986     81\n",
      "Elapsed time = 61.53 sec. (60334.09 ticks, tree = 24.89 MB, solutions = 1)\n",
      " 276678 79954        0.1858    13        0.1889        0.1855  1100196    1.77%           rho_2 D 276678 276677     75\n",
      " 280577 79791        cutoff              0.1889        0.1855  1115404    1.77%          rho_24 U 280577 280576     38\n",
      " 285143 79844        0.1865     1        0.1889        0.1855  1130441    1.77%          rho_10 U 285143 285141     62\n",
      " 289322 80864        0.1879     1        0.1889        0.1856  1145614    1.75%          rho_11 N 289322 289321     38\n",
      " 293492 81087        cutoff              0.1889        0.1856  1160095    1.74%          rho_25 U 293492 293491     30\n",
      " 297723 81688        0.1878     7        0.1889        0.1856  1175186    1.73%          rho_26 D 297723 297721     27\n",
      " 302061 82997        cutoff              0.1889        0.1856  1193124    1.72%           rho_0 U 302061 302060     37\n",
      " 306648 83777        cutoff              0.1889        0.1856  1208512    1.72%          rho_17 D 306648 306647     90\n",
      " 311263 84871        0.1856    16        0.1889        0.1856  1224097    1.72%           rho_0 D 311263 311261     53\n",
      " 315647 86044        0.1868    11        0.1889        0.1856  1239551    1.72%          rho_16 D 315647 315645     76\n",
      "Elapsed time = 69.47 sec. (69871.73 ticks, tree = 26.81 MB, solutions = 1)\n",
      " 320192 86723        0.1881     5        0.1889        0.1856  1253883    1.71%           rho_7 D 320192 320190     65\n",
      " 324309 87717        0.1874     9        0.1889        0.1857  1270576    1.70%          rho_26 D 324309 324307     53\n",
      " 328675 88781        cutoff              0.1889        0.1857  1286249    1.70%          rho_21 U 328675 328674     69\n",
      " 332911 89852        cutoff              0.1889        0.1857  1302991    1.70%           rho_2 U 332911 332910     24\n",
      " 336965 90241        cutoff              0.1889        0.1857  1318614    1.68%          rho_15 N 336965 336963     27\n",
      " 341115 90960        0.1862    11        0.1889        0.1857  1333545    1.67%          rho_16 D 341115 341112     70\n",
      " 345170 91577        0.1879    13        0.1889        0.1857  1349536    1.67%          rho_16 N 345170 345169     79\n",
      " 348498 91710        0.1857    10        0.1889        0.1857  1368561    1.66%          rho_10 U 348498 348496     72\n",
      " 352836 92728        cutoff              0.1889        0.1857  1383772    1.66%           rho_9 D 352836   1964     22\n",
      " 357191 93816        0.1870    13        0.1889        0.1857  1398387    1.65%          rho_15 D 357191 357190     62\n",
      "Elapsed time = 77.56 sec. (79409.80 ticks, tree = 28.76 MB, solutions = 1)\n",
      " 361823 95089        0.1886    11        0.1889        0.1858  1413953    1.64%           rho_0 D 361823 361822     42\n",
      " 365748 95742        0.1876    12        0.1889        0.1858  1430282    1.64%          rho_11 U 365748 365746     46\n",
      " 369787 96503        cutoff              0.1889        0.1858  1446146    1.63%           rho_0 U 369787 369786     75\n",
      " 374214 97523        0.1864     7        0.1889        0.1858  1460235    1.63%          rho_21 D 374214 374213     39\n",
      " 378157 98760        cutoff              0.1889        0.1858  1475471    1.62%          rho_17 N 378157 378156     40\n",
      " 382376 99825        0.1870    13        0.1889        0.1858  1490843    1.61%           rho_2 D 382376 382375     78\n",
      " 386836 101286        0.1860    11        0.1889        0.1858  1508562    1.61%           rho_9 D 386836 386835     33\n",
      " 391110 102429        0.1868     1        0.1889        0.1858  1523437    1.61%           rho_2 U 391110 391108     57\n",
      " 395255 103169        0.1887     6        0.1889        0.1858  1540422    1.60%          rho_17 N 395255 395254     27\n",
      " 410700 105153        0.1879     3        0.1889        0.1859  1602677    1.58%          rho_17 N 410700 410699     84\n",
      "Elapsed time = 86.70 sec. (91809.75 ticks, tree = 31.59 MB, solutions = 1)\n",
      " 426988 107369        0.1881     5        0.1889        0.1859  1664975    1.57%          rho_11 N 426988 426987     49\n",
      " 442287 109982        cutoff              0.1889        0.1859  1726536    1.55%           rho_9 U 442287 442286     55\n",
      " 457728 112990        0.1873    11        0.1889        0.1860  1789424    1.53%           rho_0 U 457728 457727     84\n",
      " 473371 115948        0.1860    10        0.1889        0.1860  1853781    1.51%           rho_0 D 473371 473369     80\n",
      " 489714 120180        0.1860    14        0.1889        0.1860  1915584    1.50%           rho_0 D 489714 489712     32\n",
      " 504136 121563        cutoff              0.1889        0.1861  1981520    1.47%           rho_0 D 504136 504135     57\n",
      " 519203 122801        cutoff              0.1889        0.1861  2045490    1.45%          rho_11 U 519203 519202     15\n",
      " 534380 123960        cutoff              0.1889        0.1862  2103390    1.43%          rho_25 D 534380 534378     90\n",
      " 550676 126164        0.1871     4        0.1889        0.1862  2161476    1.41%           rho_0 D 550676 550674     60\n",
      " 566709 128443        0.1872     8        0.1889        0.1862  2219021    1.40%           rho_0 D 566709 566707     80\n",
      "Elapsed time = 118.33 sec. (129957.77 ticks, tree = 37.39 MB, solutions = 1)\n",
      " 583145 132022        0.1887     7        0.1889        0.1863  2276959    1.38%           rho_9 D 583145 583143     45\n",
      " 598220 134058        0.1882    10        0.1889        0.1863  2338157    1.36%          rho_10 U 598220 598218     65\n",
      " 614014 136302        cutoff              0.1889        0.1863  2397447    1.34%          rho_21 U 614014 614013     23\n",
      " 629855 139892        0.1875    11        0.1889        0.1864  2458445    1.32%          rho_15 N 629855 629853     68\n",
      " 645750 142059        0.1864     6        0.1889        0.1864  2514274    1.31%           rho_2 U 645750 645649     46\n",
      " 662516 146394        0.1876     5        0.1889        0.1864  2571522    1.29%           rho_1 N 662516 662515     34\n"
     ]
    },
    {
     "name": "stdout",
     "output_type": "stream",
     "text": [
      " 677524 148510        0.1884     9        0.1889        0.1864  2633009    1.28%          rho_21 N 677524 209206     43\n",
      " 692876 150674        0.1865    14        0.1889        0.1865  2684968    1.27%           rho_6 D 692876 651273     60\n",
      " 708328 152005        0.1886     5        0.1889        0.1865  2741089    1.25%           rho_1 D 708328 708327     62\n",
      " 724838 155154        0.1870     8        0.1889        0.1865  2797684    1.25%          rho_11 D 724838 724836     24\n",
      "Elapsed time = 146.92 sec. (168107.53 ticks, tree = 46.96 MB, solutions = 1)\n",
      " 741074 155667        0.1882     5        0.1889        0.1865  2853893    1.24%          rho_26 D 741074 741073     66\n",
      " 758052 158319        0.1873    15        0.1889        0.1865  2913978    1.23%          rho_16 D 758052 758051     39\n",
      " 773102 159420        0.1888     9        0.1889        0.1866  2973440    1.22%          rho_16 N 773102 156102     55\n",
      " 789066 161319        cutoff              0.1889        0.1866  3030234    1.21%          rho_21 U 789066 614364     51\n",
      " 805248 161534        0.1885     7        0.1889        0.1866  3084669    1.20%          rho_22 D 805248 805246     61\n",
      " 821385 162605        cutoff              0.1889        0.1866  3140797    1.19%          rho_17 U 821385 293002     59\n",
      " 836657 164339        cutoff              0.1889        0.1866  3200773    1.18%           rho_0 U 836657 836656     68\n",
      " 851999 165590        0.1868    13        0.1889        0.1867  3254959    1.16%          rho_22 D 851999 577246     82\n",
      " 868187 168358        cutoff              0.1889        0.1867  3317190    1.15%          rho_25 D 868187 209227     58\n",
      " 883650 167535        0.1877     8        0.1889        0.1867  3372325    1.14%          rho_11 U 883650 657392     70\n",
      "Elapsed time = 175.50 sec. (206256.19 ticks, tree = 51.77 MB, solutions = 1)\n",
      " 900138 168930        0.1881     8        0.1889        0.1867  3432608    1.13%           rho_5 N 900138 316599     63\n",
      " 914755 168630        cutoff              0.1889        0.1867  3491286    1.12%          rho_17 U 914755 914753     69\n",
      " 929253 168666        0.1877     7        0.1889        0.1868  3551310    1.11%          rho_14 D 929253 929251     39\n",
      " 944340 170892        0.1868     1        0.1889        0.1868  3608291    1.10%           rho_0 D 944340 944338     44\n",
      " 959094 173245        cutoff              0.1889        0.1868  3666813    1.09%          rho_16 U 959094 959093     68\n",
      " 973627 172562        0.1869    11        0.1889        0.1868  3718677    1.08%           rho_9 D 973627 973625     54\n",
      " 988245 172260        0.1869    10        0.1889        0.1868  3766968    1.07%          rho_21 D 988245 988244     67\n",
      "\n",
      "Mixed integer rounding cuts applied:  1\n",
      "Gomory fractional cuts applied:  1\n",
      "User cuts applied:  346\n",
      "\n",
      "Root node processing (before b&c):\n",
      "  Real time             =    0.13 sec. (1.94 ticks)\n",
      "Sequential b&c:\n",
      "  Real time             =  199.89 sec. (236605.62 ticks)\n",
      "                          ------------\n",
      "Total (root+branch&cut) =  200.02 sec. (236607.57 ticks)\n",
      "+----------------------------------------------+------------------+-----------+\n",
      "| Pr(Y = +1) = 1.0/(1.0 + exp(-(-4 + score))   |                  |           |\n",
      "| ============================================ | ================ | ========= |\n",
      "| p_arrest>=2                                  |         1 points |   + ..... |\n",
      "| p_arrest>=7                                  |         1 points |   + ..... |\n",
      "| p_pending_charge>=1                          |         1 points |   + ..... |\n",
      "| ============================================ | ================ | ========= |\n",
      "| ADD POINTS FROM ROWS 1 to 3                  |            SCORE |   = ..... |\n",
      "+----------------------------------------------+------------------+-----------+\n",
      "model_id, score_thresholds 0 {'rank_abs': [0]}\n",
      "get_disparity_predefined_group()\n",
      "setting c0 = 0.0 to ensure that intercept is not penalized\n",
      "09/11/19 @ 11:05 PM | 1141 rows in lookup table\n",
      "09/11/19 @ 11:05 PM | ------------------------------------------------------------\n",
      "09/11/19 @ 11:05 PM | runnning initialization procedure\n",
      "09/11/19 @ 11:05 PM | ------------------------------------------------------------\n",
      "09/11/19 @ 11:05 PM | CPA produced 2 cuts\n",
      "09/11/19 @ 11:05 PM | running naive rounding on 82 solutions\n",
      "09/11/19 @ 11:05 PM | best objective value: 0.1812\n",
      "09/11/19 @ 11:05 PM | rounding produced 5 integer solutions\n",
      "09/11/19 @ 11:05 PM | best objective value is 0.1880\n",
      "09/11/19 @ 11:05 PM | running sequential rounding on 82 solutions\n",
      "09/11/19 @ 11:05 PM | best objective value: 0.1812\n",
      "09/11/19 @ 11:05 PM | sequential rounding produced 6 integer solutions\n",
      "09/11/19 @ 11:05 PM | best objective value: 0.1880\n",
      "09/11/19 @ 11:05 PM | polishing 11 solutions\n",
      "09/11/19 @ 11:05 PM | best objective value: 0.1880\n",
      "09/11/19 @ 11:05 PM | polishing produced 4 integer solutions\n",
      "09/11/19 @ 11:05 PM | initialization produced 8 feasible solutions\n",
      "09/11/19 @ 11:05 PM | best objective value: 0.1880\n",
      "09/11/19 @ 11:05 PM | ------------------------------------------------------------\n",
      "09/11/19 @ 11:05 PM | completed initialization procedure\n",
      "09/11/19 @ 11:05 PM | ------------------------------------------------------------\n",
      "09/11/19 @ 11:05 PM | 1141 rows in lookup table\n",
      "CPXPARAM_Read_DataCheck                          1\n",
      "CPXPARAM_Threads                                 1\n",
      "CPXPARAM_Parallel                                1\n",
      "CPXPARAM_RandomSeed                              0\n",
      "CPXPARAM_TimeLimit                               200\n",
      "CPXPARAM_MIP_Tolerances_LowerCutoff              0.18032106785134069\n",
      "CPXPARAM_MIP_Tolerances_UpperCutoff              0.18802926645070589\n"
     ]
    },
    {
     "name": "stderr",
     "output_type": "stream",
     "text": [
      "Warning: Control callbacks may disable some MIP features.\n"
     ]
    },
    {
     "name": "stdout",
     "output_type": "stream",
     "text": [
      "Lazy constraint(s) or lazy constraint callback is present.\n",
      "    Disabling dual reductions (CPX_PARAM_REDUCE) in presolve.\n",
      "    Disabling non-linear reductions (CPX_PARAM_PRELINEAR) in presolve.\n",
      "         Disabling repeat represolve because of lazy constraint/incumbent callback.\n",
      "09/11/19 @ 11:05 PM | adding 249 initial cuts\n",
      "1 of 1 MIP starts provided solutions.\n",
      "MIP start 'mip_start_0' defined initial solution with objective 0.1880.\n",
      "Tried aggregator 1 time.\n",
      "Reduced MIP has 28 rows, 56 columns, and 107 nonzeros.\n",
      "Reduced MIP has 26 binaries, 28 generals, 0 SOSs, and 0 indicators.\n",
      "Presolve time = 0.02 sec. (0.06 ticks)\n",
      "Probing time = 0.00 sec. (0.02 ticks)\n",
      "MIP emphasis: balance optimality and feasibility.\n",
      "MIP search method: traditional branch-and-cut.\n",
      "Parallel mode: none, using 1 thread.\n",
      "Root relaxation solution time = 0.00 sec. (0.04 ticks)\n",
      "\n",
      "        Nodes                                         Cuts/\n",
      "   Node  Left     Objective  IInf  Best Integer    Best Bound    ItCnt     Gap         Variable B NodeID Parent  Depth\n",
      "\n",
      "*     0+    0                            0.1880        0.1703             9.42%\n",
      "      0     0        0.1803     1        0.1880        0.1803        1    4.10%\n",
      "      0     0        0.1803     1        0.1880       Cuts: 2        4    4.10%\n",
      "      0     0        0.1803     1        0.1880      Fract: 1        5    4.10%\n",
      "      0     2        0.1803     2        0.1880        0.1803        5    4.10%                        0             0\n",
      "Elapsed time = 0.09 sec. (1.93 ticks, tree = 0.01 MB, solutions = 1)\n",
      "*  1960+  754                            0.1878        0.1803             3.97%\n",
      "   2146   815        0.1803    12        0.1878        0.1803     9804    3.97%           rho_0 D   2146   1561      9\n",
      "   3302  1268        0.1803    13        0.1878        0.1803    16070    3.97%          rho_23 D   3302   3300     10\n",
      "   4380  1736        0.1818    13        0.1878        0.1803    21628    3.97%           rho_2 D   4380   4379     25\n",
      "   5450  2394        0.1838     7        0.1878        0.1803    26561    3.97%           rho_1 D   5450   5449     17\n",
      "   6490  2944        0.1803    19        0.1878        0.1803    32018    3.97%           rho_5 D   6490   6489     13\n",
      "   7544  3461        0.1813    13        0.1878        0.1805    36798    3.85%           rho_1 D   7544   7543     18\n",
      "   8616  3864        0.1841     7        0.1878        0.1808    40949    3.71%           rho_0 U   8616   8615     18\n",
      "   9609  4229        0.1849     5        0.1878        0.1810    45460    3.59%          rho_10 D   9609   9607     16\n",
      "  10827  4836        0.1860     5        0.1878        0.1813    49391    3.46%           rho_9 D  10827  10825     27\n",
      "  15693  6707        0.1875     5        0.1878        0.1816    68538    3.31%          rho_24 D  15693  15691     25\n",
      "Elapsed time = 4.56 sec. (3105.41 ticks, tree = 1.91 MB, solutions = 2)\n",
      "  20214  8604        0.1828    23        0.1878        0.1818    87105    3.20%           rho_0 D  20214  20212     77\n",
      "  24362 10102        0.1862     9        0.1878        0.1820   105278    3.07%          rho_11 U  24362  24360     18\n",
      "  28362 11735        0.1873     7        0.1878        0.1822   121060    2.97%           rho_8 D  28362  28360     42\n",
      "  32564 13028        0.1824    12        0.1878        0.1824   136250    2.87%           rho_0 D  32564  32546     20\n",
      "  36281 14574        cutoff              0.1878        0.1825   153005    2.82%          rho_21 U  36281  36280     55\n",
      "  40276 16525        0.1833    15        0.1878        0.1825   168966    2.80%          rho_10 D  40276  40275     47\n",
      "  43732 18793        0.1835    19        0.1878        0.1826   184031    2.78%           rho_0 D  43732  43730     27\n",
      "  47317 20354        0.1832    20        0.1878        0.1826   198084    2.74%           rho_6 D  47317   9837     16\n",
      "  51000 22020        cutoff              0.1878        0.1827   214605    2.72%           rho_0 D  51000  50999     51\n",
      "  54800 23754        0.1827    16        0.1878        0.1827   232277    2.70%          rho_10 U  54800  54798     50\n",
      "Elapsed time = 13.95 sec. (12645.51 ticks, tree = 7.17 MB, solutions = 2)\n",
      "  58594 25560        0.1842    13        0.1878        0.1828   247050    2.67%           rho_0 U  58594  58593     31\n",
      "  61706 26783        cutoff              0.1878        0.1828   265134    2.66%           rho_0 D  61706  61705     57\n",
      "  65105 27754        0.1868     7        0.1878        0.1828   282016    2.64%           rho_7 D  65105  65104     86\n",
      "  68299 28826        0.1840    22        0.1878        0.1828   298617    2.63%           rho_2 D  68299  68298     32\n",
      "  71840 30395        0.1829    10        0.1878        0.1829   313140    2.62%           rho_0 D  71840  71838     62\n",
      "  75074 30799        0.1863    10        0.1878        0.1829   327588    2.61%          rho_13 D  75074  75073     73\n",
      "  78485 31692        0.1831    10        0.1878        0.1829   342346    2.59%           rho_6 D  78485  21552     37\n",
      "  81974 33149        0.1857     9        0.1878        0.1830   356406    2.56%           rho_1 D  81974  81973     20\n",
      "  85373 34881        0.1830    14        0.1878        0.1830   371309    2.54%          rho_10 U  85373  85371     42\n",
      "  88583 36814        0.1830    12        0.1878        0.1830   384177    2.53%           rho_2 U  88583  88581     27\n",
      "Elapsed time = 21.94 sec. (22183.89 ticks, tree = 11.89 MB, solutions = 2)\n",
      "  91905 38270        cutoff              0.1878        0.1831   401524    2.51%          rho_11 N  91905  91904     65\n",
      "  95288 40256        0.1871     7        0.1878        0.1831   418410    2.51%           rho_6 N  95288  95286     67\n",
      "  98399 41622        cutoff              0.1878        0.1831   432403    2.50%           rho_6 U  98399  98398     51\n",
      " 102097 42995        0.1844    16        0.1878        0.1831   446899    2.49%          rho_14 D 102097 102096     47\n",
      " 105812 44623        0.1854    13        0.1878        0.1831   460479    2.48%           rho_2 D 105812 105811     76\n",
      " 109697 46344        0.1867     7        0.1878        0.1831   475091    2.47%          rho_17 D 109697 109696     91\n",
      " 113417 47819        0.1873    11        0.1878        0.1831   489933    2.47%          rho_11 N 113417 113415     27\n",
      " 116980 49373        0.1836    13        0.1878        0.1832   503124    2.46%           rho_0 U 116980 116979     54\n",
      " 120280 50192        0.1869     8        0.1878        0.1832   518143    2.43%           rho_6 N 120280 120279     58\n",
      " 123527 51124        0.1855     8        0.1878        0.1832   531881    2.43%           rho_5 U 123527   1754     22\n",
      "Elapsed time = 28.69 sec. (31722.69 ticks, tree = 15.55 MB, solutions = 2)\n",
      " 127004 52533        0.1855    12        0.1878        0.1832   546080    2.42%           rho_2 D 127004 127003     61\n",
      " 130614 54670        0.1833    12        0.1878        0.1833   557639    2.41%           rho_6 D 130614 130446     58\n",
      " 133872 55171        cutoff              0.1878        0.1833   570872    2.41%          rho_22 U 133872 133871     57\n",
      " 137379 56869        0.1870    14        0.1878        0.1833   583797    2.40%          rho_16 U 137379 137378     72\n",
      " 140643 57343        cutoff              0.1878        0.1833   595828    2.39%          rho_13 U 140643 140642     31\n",
      " 143762 57848        0.1862     8        0.1878        0.1833   612283    2.39%          rho_11 N 143762 143761     71\n",
      "*145720+57368                            0.1876        0.1833             2.27%\n",
      " 146896 57811        cutoff              0.1876        0.1833   625639    2.27%          rho_14 D 146896 146894     21\n",
      " 150294 58843        0.1861     5        0.1876        0.1833   639595    2.25%          rho_16 U 150294  96876     22\n",
      " 153796 60155        0.1869     9        0.1876        0.1834   654081    2.24%          rho_17 D 153796 153794     77\n",
      " 157565 60977        0.1846     7        0.1876        0.1834   667319    2.23%          rho_11 D 157565 157563     29\n",
      "Elapsed time = 34.89 sec. (41261.37 ticks, tree = 18.11 MB, solutions = 3)\n",
      " 161265 62408        0.1858     9        0.1876        0.1834   681362    2.23%          rho_16 U 161265  41587     71\n"
     ]
    },
    {
     "name": "stdout",
     "output_type": "stream",
     "text": [
      " 165112 63512        0.1874     7        0.1876        0.1834   694242    2.22%           rho_3 U 165112 165110     28\n",
      " 168202 64308        0.1868     5        0.1876        0.1834   708976    2.21%           rho_0 U 168202 168201     45\n",
      " 171593 65541        0.1844    18        0.1876        0.1834   724244    2.20%           rho_0 D 171593 171591     72\n",
      " 175051 66968        0.1844    14        0.1876        0.1835   739733    2.19%          rho_10 U 175051 175049     36\n",
      " 177968 67257        0.1870    11        0.1876        0.1835   754251    2.18%           rho_0 U 177968 177967     42\n",
      " 181208 67906        0.1835     6        0.1876        0.1835   768430    2.17%           rho_2 U 181208 181147     53\n",
      " 184636 69153        0.1855     8        0.1876        0.1835   780355    2.17%          rho_11 N 184636 184635     40\n",
      " 187859 69545        0.1836    20        0.1876        0.1835   792301    2.17%           rho_2 U 187859 187857     60\n",
      " 190991 70996        0.1837    20        0.1876        0.1835   806632    2.16%           rho_0 D 190991 190989     39\n",
      "Elapsed time = 39.55 sec. (50800.12 ticks, tree = 23.53 MB, solutions = 3)\n",
      " 194220 71885        cutoff              0.1876        0.1835   820965    2.14%          rho_25 D 194220 194218     53\n",
      " 197656 73254        0.1850    13        0.1876        0.1836   835645    2.14%          rho_11 D 197656 197655     59\n",
      " 200987 74352        0.1867    14        0.1876        0.1836   849745    2.13%          rho_11 N 200987 200986     60\n",
      " 204185 75451        0.1837    16        0.1876        0.1836   863321    2.12%           rho_0 U 204185 204184     59\n",
      " 207534 76609        0.1856     7        0.1876        0.1836   875512    2.11%          rho_14 D 207534 207532     64\n",
      " 211048 77620        0.1848     9        0.1876        0.1836   887596    2.11%           rho_7 U 211048 211047     79\n",
      " 215085 79081        cutoff              0.1876        0.1836   900574    2.11%          rho_17 D 215085 215084     69\n",
      " 218400 80112        0.1850    11        0.1876        0.1836   914579    2.10%          rho_10 D 218400  44365     43\n",
      " 221753 81628        0.1867     7        0.1876        0.1837   927641    2.09%           rho_7 N 221753 221752     36\n",
      " 224365 82407        0.1868     9        0.1876        0.1837   946523    2.08%          rho_22 D 224365 224364     74\n",
      "Elapsed time = 45.44 sec. (60338.70 ticks, tree = 26.47 MB, solutions = 3)\n",
      " 227640 83485        0.1837     8        0.1876        0.1837   961217    2.08%          rho_10 U 227640 227638     41\n",
      " 230978 85195        0.1837    12        0.1876        0.1837   974391    2.07%          rho_11 D 230978  97012     28\n",
      " 234160 87085        0.1875     5        0.1876        0.1837   989569    2.07%          rho_17 D 234160 234159     23\n",
      " 237529 88280        0.1859     7        0.1876        0.1837  1004149    2.06%           rho_1 D 237529 237528     57\n",
      " 240458 88823        0.1853    15        0.1876        0.1837  1017314    2.05%          rho_14 D 240458  85149     64\n",
      " 243470 89038        0.1872    10        0.1876        0.1837  1030057    2.05%          rho_14 N 243470 243469     23\n",
      " 246846 90170        0.1859    10        0.1876        0.1837  1043302    2.04%          rho_11 N 246846 246845     32\n",
      " 249790 91191        0.1848    11        0.1876        0.1838  1058224    2.03%          rho_16 D 249790 217436     46\n",
      " 252984 92064        0.1873     3        0.1876        0.1838  1072820    2.02%          rho_21 D 252984 252983     23\n",
      " 256200 93170        0.1860    12        0.1876        0.1838  1086405    2.02%          rho_14 D 256200 256198     56\n",
      "Elapsed time = 50.42 sec. (69878.74 ticks, tree = 29.25 MB, solutions = 3)\n",
      " 259228 94913        0.1866    10        0.1876        0.1838  1100373    2.01%          rho_14 N 259228 259227     28\n",
      " 262803 96796        0.1843     9        0.1876        0.1838  1111598    2.01%           rho_3 D 262803 262802     23\n",
      " 266339 97726        0.1868     9        0.1876        0.1838  1125831    2.00%          rho_13 D 266339 266338     96\n",
      " 269503 98769        0.1838    14        0.1876        0.1838  1139825    2.00%          rho_10 U 269503 237044     50\n",
      " 272729 100412        0.1842    15        0.1876        0.1838  1153133    1.99%          rho_22 D 272729 272728     48\n",
      " 276028 101059        0.1873     5        0.1876        0.1838  1166895    1.98%          rho_11 N 276028 276027     88\n",
      " 279005 101653        cutoff              0.1876        0.1839  1179786    1.98%          rho_17 U 279005 279003     53\n",
      " 282537 103067        0.1874    11        0.1876        0.1839  1192713    1.98%           rho_5 N 282537 282536     58\n",
      " 285669 104109        0.1846    19        0.1876        0.1839  1206156    1.97%          rho_16 D 285669 187828     46\n",
      " 288429 105083        0.1865     6        0.1876        0.1839  1222174    1.97%          rho_13 U 288429 288427     30\n",
      "Elapsed time = 55.38 sec. (79417.05 ticks, tree = 32.31 MB, solutions = 3)\n",
      " 291858 104910        0.1851     8        0.1876        0.1839  1232320    1.97%           rho_1 D 291858 291857     19\n",
      " 294714 105646        cutoff              0.1876        0.1839  1246585    1.96%           rho_5 U 294714 294713     60\n",
      " 297498 106207        cutoff              0.1876        0.1839  1262681    1.95%          rho_15 U 297498 297497     31\n",
      " 300806 107070        0.1858     9        0.1876        0.1839  1275677    1.95%          rho_26 D 300806 300805     36\n",
      " 304500 108329        0.1862     9        0.1876        0.1839  1286736    1.94%           rho_0 U 304500 304499     92\n",
      " 307398 109166        0.1874    11        0.1876        0.1839  1300711    1.94%           rho_1 N 307398 307396     63\n",
      " 310619 110098        0.1839     4        0.1876        0.1839  1312772    1.94%           rho_0 D 310619 310617     40\n",
      " 313825 111213        0.1854    14        0.1876        0.1839  1324952    1.93%           rho_3 D 313825 313824     31\n",
      " 316723 112015        0.1856    12        0.1876        0.1839  1342080    1.93%          rho_13 D 316723 316722     61\n",
      " 329342 116724        cutoff              0.1876        0.1840  1394024    1.92%          rho_11 U 329342 329340     27\n",
      "Elapsed time = 61.42 sec. (91816.49 ticks, tree = 35.31 MB, solutions = 3)\n",
      " 341778 120791        0.1853    14        0.1876        0.1840  1449893    1.91%          rho_10 U 341778 341776     74\n",
      " 354370 123714        0.1855     7        0.1876        0.1840  1500060    1.89%          rho_24 D 354370 354368     75\n",
      " 367419 125960        0.1851     9        0.1876        0.1841  1553620    1.87%          rho_26 D 367419 367417     61\n",
      " 380159 129875        0.1846    10        0.1876        0.1841  1606666    1.86%          rho_16 D 380159 233670     31\n",
      " 392623 133193        0.1841    16        0.1876        0.1841  1658675    1.85%          rho_10 U 392623 392621     36\n",
      " 405913 135969        0.1854     9        0.1876        0.1841  1711232    1.83%          rho_11 D 405913 405911     51\n",
      " 418897 139912        0.1863     5        0.1876        0.1842  1765083    1.82%           rho_7 U 418897 418895     64\n",
      " 431367 144279        0.1842    12        0.1876        0.1842  1822605    1.81%          rho_10 U 431367 431365     66\n",
      " 443406 146866        0.1862    13        0.1876        0.1842  1876119    1.80%           rho_2 D 443406 443405     22\n",
      " 456035 149856        0.1849    16        0.1876        0.1842  1934053    1.79%          rho_16 D 456035 204638     61\n",
      "Elapsed time = 84.17 sec. (129965.35 ticks, tree = 46.96 MB, solutions = 3)\n",
      " 468510 154184        0.1842    12        0.1876        0.1842  1990115    1.77%           rho_0 D 468510 468508     46\n",
      " 480800 157728        0.1874    11        0.1876        0.1843  2047176    1.76%           rho_2 N 480800 480799     28\n",
      " 492488 160665        cutoff              0.1876        0.1843  2100663    1.76%          rho_10 U 492488 213055     82\n",
      " 504551 163722        0.1852    14        0.1876        0.1843  2152086    1.75%           rho_0 D 504551 504549     53\n",
      " 516750 168928        0.1854    16        0.1876        0.1843  2206789    1.74%           rho_0 U 516750 516749     59\n"
     ]
    },
    {
     "name": "stdout",
     "output_type": "stream",
     "text": [
      " 529280 171244        0.1850    18        0.1876        0.1843  2258643    1.73%          rho_14 D 529280 529279     23\n",
      " 541316 174476        0.1846    16        0.1876        0.1843  2313670    1.72%          rho_16 D 541316 112653     66\n",
      " 552791 175955        0.1864     6        0.1876        0.1844  2365931    1.71%          rho_14 D 552791 552790     73\n",
      " 565410 178748        cutoff              0.1876        0.1844  2417845    1.70%          rho_13 D 565410 565409     77\n",
      " 577948 181938        0.1873    10        0.1876        0.1844  2471458    1.70%          rho_17 N 577948 577947     73\n",
      "Elapsed time = 103.39 sec. (168117.10 ticks, tree = 57.06 MB, solutions = 3)\n",
      " 590455 184616        0.1863     7        0.1876        0.1844  2524836    1.69%          rho_10 D 590455 590454     70\n",
      " 603505 186600        0.1858     9        0.1876        0.1844  2573143    1.68%          rho_26 D 603505 603503     52\n",
      " 616467 189799        cutoff              0.1876        0.1844  2627939    1.68%           rho_0 U 616467 616466     58\n",
      " 628659 192998        cutoff              0.1876        0.1844  2690771    1.67%          rho_21 D 628659 628657     32\n",
      " 641544 195019        cutoff              0.1876        0.1845  2744399    1.66%          rho_17 U 641544  26443     40\n",
      " 654462 198490        0.1875    14        0.1876        0.1845  2796456    1.64%          rho_26 D 654462 654460     50\n",
      " 666133 200044        0.1865     5        0.1876        0.1845  2849451    1.63%          rho_14 U 666133 442715     44\n",
      " 679102 203129        0.1873     8        0.1876        0.1845  2901702    1.62%           rho_1 U 679102 679100     47\n",
      " 691473 207209        0.1872     5        0.1876        0.1845  2954412    1.62%          rho_17 D 691473 691472     43\n",
      " 704145 209391        cutoff              0.1876        0.1846  3007738    1.60%          rho_13 U 704145 704143     59\n",
      "Elapsed time = 123.61 sec. (206265.96 ticks, tree = 66.32 MB, solutions = 3)\n",
      " 715982 212271        0.1849    13        0.1876        0.1846  3063064    1.60%          rho_11 D 715982 715980     95\n",
      " 728774 215570        0.1867     9        0.1876        0.1846  3115898    1.59%           rho_7 D 728774 728773     42\n",
      " 741266 217463        0.1875     9        0.1876        0.1846  3163864    1.57%           rho_3 D 741266 741265     62\n",
      " 752801 219130        cutoff              0.1876        0.1846  3214457    1.56%          rho_14 N 752801 752800     81\n",
      " 764996 219953        0.1872    12        0.1876        0.1846  3264396    1.55%          rho_13 N 764996 764995     79\n",
      " 776540 221464        0.1856     5        0.1876        0.1847  3318504    1.55%          rho_10 U 776540 776538     50\n",
      " 788625 223355        0.1861    15        0.1876        0.1847  3372557    1.54%          rho_11 D 788625 788623     29\n",
      " 800466 225330        0.1873    11        0.1876        0.1847  3420583    1.53%          rho_16 N 800466 327664     67\n",
      " 812883 226702        0.1847    13        0.1876        0.1847  3470313    1.52%          rho_11 D 812883 547075     76\n",
      " 825870 230667        0.1852    13        0.1876        0.1847  3523542    1.52%           rho_4 D 825870 825868     46\n",
      "Elapsed time = 152.14 sec. (244415.44 ticks, tree = 74.37 MB, solutions = 3)\n",
      " 837880 231582        0.1852     5        0.1876        0.1847  3570004    1.51%          rho_14 D 837880 837879     73\n",
      " 849709 232351        cutoff              0.1876        0.1847  3623079    1.50%          rho_14 U 849709 849707     57\n",
      " 861684 234067        0.1862     5        0.1876        0.1848  3676310    1.50%          rho_10 U 861684 861683     41\n",
      " 873240 234748        0.1870    11        0.1876        0.1848  3728324    1.49%          rho_16 N 873240 576384     62\n",
      " 884710 235882        0.1870    11        0.1876        0.1848  3780447    1.48%           rho_6 D 884710 884708     43\n",
      " 897480 239697        0.1848    15        0.1876        0.1848  3832129    1.47%           rho_0 U 897480 897479     20\n",
      " 910930 243030        cutoff              0.1876        0.1848  3886775    1.47%          rho_13 U 910930 910929     48\n",
      " 923376 244801        0.1873    13        0.1876        0.1848  3939245    1.46%           rho_1 D 923376 923375     60\n",
      " 934466 246127        0.1863     9        0.1876        0.1848  3987056    1.45%          rho_16 D 934466 934465     63\n",
      " 945896 246998        0.1874     9        0.1876        0.1849  4033990    1.45%          rho_17 N 945896 945895     55\n",
      "Elapsed time = 186.20 sec. (282564.24 ticks, tree = 78.70 MB, solutions = 3)\n",
      " 957162 248509        0.1858    11        0.1876        0.1849  4077234    1.44%          rho_14 D 957162 957161     78\n",
      " 969356 251677        0.1849     8        0.1876        0.1849  4126035    1.43%           rho_0 D 969356 969354     69\n",
      " 981567 254487        0.1873     5        0.1876        0.1849  4178605    1.43%           rho_7 U 981567 981566     64\n",
      " 992664 254962        0.1865    11        0.1876        0.1849  4227702    1.42%          rho_11 N 992664 992663     56\n",
      "\n",
      "Implied bound cuts applied:  1\n",
      "Gomory fractional cuts applied:  1\n",
      "User cuts applied:  440\n",
      "\n",
      "Root node processing (before b&c):\n",
      "  Real time             =    0.09 sec. (1.96 ticks)\n",
      "Sequential b&c:\n",
      "  Real time             =  199.92 sec. (298104.69 ticks)\n",
      "                          ------------\n",
      "Total (root+branch&cut) =  200.02 sec. (298106.65 ticks)\n",
      "+----------------------------------------------+------------------+-----------+\n",
      "| Pr(Y = +1) = 1.0/(1.0 + exp(-(-4 + score))   |                  |           |\n",
      "| ============================================ | ================ | ========= |\n",
      "| p_arrest>=2                                  |         1 points |   + ..... |\n",
      "| p_arrest>=7                                  |         1 points |   + ..... |\n",
      "| p_pending_charge>=1                          |         1 points |   + ..... |\n",
      "| ============================================ | ================ | ========= |\n",
      "| ADD POINTS FROM ROWS 1 to 3                  |            SCORE |   = ..... |\n",
      "+----------------------------------------------+------------------+-----------+\n",
      "model_id, score_thresholds 0 {'rank_abs': [0]}\n",
      "get_disparity_predefined_group()\n",
      "setting c0 = 0.0 to ensure that intercept is not penalized\n",
      "09/11/19 @ 11:08 PM | 1141 rows in lookup table\n",
      "09/11/19 @ 11:08 PM | ------------------------------------------------------------\n",
      "09/11/19 @ 11:08 PM | runnning initialization procedure\n",
      "09/11/19 @ 11:08 PM | ------------------------------------------------------------\n",
      "09/11/19 @ 11:08 PM | CPA produced 2 cuts\n",
      "09/11/19 @ 11:08 PM | running naive rounding on 82 solutions\n",
      "09/11/19 @ 11:08 PM | best objective value: 0.1820\n",
      "09/11/19 @ 11:08 PM | rounding produced 5 integer solutions\n",
      "09/11/19 @ 11:08 PM | best objective value is 0.1887\n",
      "09/11/19 @ 11:08 PM | running sequential rounding on 82 solutions\n",
      "09/11/19 @ 11:08 PM | best objective value: 0.1820\n",
      "09/11/19 @ 11:08 PM | sequential rounding produced 5 integer solutions\n",
      "09/11/19 @ 11:08 PM | best objective value: 0.1884\n",
      "09/11/19 @ 11:08 PM | polishing 10 solutions\n",
      "09/11/19 @ 11:08 PM | best objective value: 0.1884\n",
      "09/11/19 @ 11:08 PM | polishing produced 4 integer solutions\n",
      "09/11/19 @ 11:08 PM | initialization produced 10 feasible solutions\n",
      "09/11/19 @ 11:08 PM | best objective value: 0.1884\n",
      "09/11/19 @ 11:08 PM | ------------------------------------------------------------\n",
      "09/11/19 @ 11:08 PM | completed initialization procedure\n",
      "09/11/19 @ 11:08 PM | ------------------------------------------------------------\n",
      "09/11/19 @ 11:08 PM | 1141 rows in lookup table\n",
      "CPXPARAM_Read_DataCheck                          1\n",
      "CPXPARAM_Threads                                 1\n",
      "CPXPARAM_Parallel                                1\n",
      "CPXPARAM_RandomSeed                              0\n",
      "CPXPARAM_TimeLimit                               200\n",
      "CPXPARAM_MIP_Tolerances_LowerCutoff              0.18130874069751771\n",
      "CPXPARAM_MIP_Tolerances_UpperCutoff              0.1883530735709564\n"
     ]
    },
    {
     "name": "stderr",
     "output_type": "stream",
     "text": [
      "Warning: Control callbacks may disable some MIP features.\n"
     ]
    },
    {
     "name": "stdout",
     "output_type": "stream",
     "text": [
      "Lazy constraint(s) or lazy constraint callback is present.\n",
      "    Disabling dual reductions (CPX_PARAM_REDUCE) in presolve.\n",
      "    Disabling non-linear reductions (CPX_PARAM_PRELINEAR) in presolve.\n",
      "         Disabling repeat represolve because of lazy constraint/incumbent callback.\n",
      "09/11/19 @ 11:08 PM | adding 249 initial cuts\n",
      "1 of 1 MIP starts provided solutions.\n",
      "MIP start 'mip_start_0' defined initial solution with objective 0.1884.\n",
      "Tried aggregator 1 time.\n",
      "Reduced MIP has 28 rows, 56 columns, and 107 nonzeros.\n",
      "Reduced MIP has 26 binaries, 28 generals, 0 SOSs, and 0 indicators.\n",
      "Presolve time = 0.00 sec. (0.06 ticks)\n",
      "Probing time = 0.00 sec. (0.02 ticks)\n",
      "MIP emphasis: balance optimality and feasibility.\n",
      "MIP search method: traditional branch-and-cut.\n",
      "Parallel mode: none, using 1 thread.\n",
      "Root relaxation solution time = 0.00 sec. (0.04 ticks)\n",
      "\n",
      "        Nodes                                         Cuts/\n",
      "   Node  Left     Objective  IInf  Best Integer    Best Bound    ItCnt     Gap         Variable B NodeID Parent  Depth\n",
      "\n",
      "*     0+    0                            0.1884        0.1713             9.05%\n",
      "      0     0        0.1813     1        0.1884        0.1813        1    3.74%\n",
      "      0     0        0.1813     1        0.1884       Cuts: 2        4    3.74%\n",
      "      0     0        0.1813     1        0.1884      Fract: 1        5    3.74%\n",
      "      0     2        0.1813     5        0.1884        0.1813        5    3.74%                        0             0\n",
      "Elapsed time = 0.23 sec. (1.97 ticks, tree = 0.01 MB, solutions = 1)\n",
      "   2475   974        0.1845     8        0.1884        0.1813    11820    3.74%          rho_13 D   2475   2474     21\n",
      "   3868  1504        0.1826     9        0.1884        0.1813    20026    3.74%          rho_17 D   3868   2885     14\n",
      "   5027  2009        0.1854     5        0.1884        0.1813    27370    3.74%           rho_1 U   5027   5026     14\n",
      "   6157  2629        0.1863     7        0.1884        0.1813    34070    3.74%           rho_0 D   6157   6156     16\n",
      "   7174  3109        0.1817    20        0.1884        0.1813    41402    3.74%          rho_14 U   7174   7173     13\n",
      "   8227  3633        0.1873     7        0.1884        0.1814    47984    3.71%          rho_11 D   8227   8225     20\n",
      "   9460  4200        0.1819    15        0.1884        0.1816    53158    3.56%           rho_2 D   9460   9459     17\n",
      "*  9539  4094      integral     0        0.1880        0.1817    53542    3.38%\n",
      "  10600  4515        0.1833    15        0.1880        0.1818    58668    3.30%           rho_3 U  10600   6479     13\n",
      "  11872  5001        cutoff              0.1880        0.1819    64267    3.23%         L0_norm D  11872  11871     35\n",
      "  16938  7105        0.1879     9        0.1880        0.1823    87734    3.04%           rho_0 U  16938  16937     37\n",
      "Elapsed time = 5.16 sec. (3103.48 ticks, tree = 1.96 MB, solutions = 2)\n",
      "  22013  9416        cutoff              0.1880        0.1826   109757    2.90%           rho_0 U  22013  22012     43\n",
      "  26816 11084        0.1850    13        0.1880        0.1827   131023    2.82%           rho_4 D  26816  26815     23\n",
      "  31702 12778        0.1848    15        0.1880        0.1829   151840    2.70%          rho_11 U  31702   9700     14\n",
      "  36283 14545        0.1840    22        0.1880        0.1830   172660    2.69%          rho_10 U  36283  36281     39\n",
      "  40399 15908        0.1849    12        0.1880        0.1830   195949    2.64%          rho_11 U  40399  40398     24\n",
      "  44964 17571        0.1869     3        0.1880        0.1833   216007    2.52%           rho_5 U  44964  44963     46\n",
      "  49452 18841        0.1879     9        0.1880        0.1834   236077    2.46%           rho_0 U  49452  49451     65\n",
      "  54115 20075        0.1869    11        0.1880        0.1835   254725    2.41%          rho_10 D  54115  24824     47\n",
      "  58354 21565        cutoff              0.1880        0.1835   276286    2.38%           rho_0 U  58354  58353     48\n",
      "  62946 22789        0.1867     7        0.1880        0.1836   295348    2.36%           rho_3 U  62946  62945     26\n",
      "Elapsed time = 15.33 sec. (12641.14 ticks, tree = 6.80 MB, solutions = 2)\n",
      "  67040 23896        0.1877     9        0.1880        0.1836   315442    2.33%          rho_21 D  67040  67039     28\n",
      "  71181 25047        0.1837    10        0.1880        0.1837   336268    2.32%           rho_0 D  71181  71179     53\n",
      "  75575 26312        cutoff              0.1880        0.1837   356311    2.27%          rho_26 U  75575  75574     33\n",
      "  80000 27682        0.1838    10        0.1880        0.1838   376317    2.23%           rho_0 D  80000  79998     75\n",
      "  84708 29270        0.1848    16        0.1880        0.1839   394406    2.20%         L0_norm U  84708  84707     42\n",
      "  89440 31212        0.1858    10        0.1880        0.1839   414442    2.19%          rho_26 D  89440  89438     39\n",
      "  94088 33158        0.1839    16        0.1880        0.1839   433337    2.18%          rho_10 U  94088  93954     78\n",
      "  98632 35171        0.1839    16        0.1880        0.1839   454032    2.18%           rho_2 U  98632  98631     37\n",
      " 103074 36128        cutoff              0.1880        0.1839   473801    2.17%         L0_norm D 103074 103072     78\n",
      " 106942 37092        cutoff              0.1880        0.1839   493247    2.17%         L0_norm D 106942 106940     59\n",
      "Elapsed time = 24.61 sec. (22180.02 ticks, tree = 11.73 MB, solutions = 2)\n",
      " 111110 38265        cutoff              0.1880        0.1840   513637    2.16%          rho_11 U 111110 111109     58\n",
      " 115473 38892        0.1880     8        0.1880        0.1840   535948    2.14%          rho_16 D 115473 115472     32\n",
      " 119712 39782        cutoff              0.1880        0.1840   554093    2.12%         L0_norm D 119712  65694     23\n",
      " 123799 40732        0.1855    13        0.1880        0.1841   575038    2.09%           rho_3 U 123799  65266     27\n",
      " 128244 42131        0.1873    12        0.1880        0.1841   595941    2.07%         L0_norm U 128244 128243     27\n",
      " 132437 43278        0.1862    13        0.1880        0.1842   616471    2.05%           rho_1 D 132437 132436     21\n",
      " 136762 44208        0.1842    10        0.1880        0.1842   635693    2.03%           rho_2 U 136762 136760     55\n",
      " 140844 45007        cutoff              0.1880        0.1843   656761    2.00%         L0_norm D 140844 100881     18\n",
      " 145164 46004        0.1854    21        0.1880        0.1843   676704    1.98%           rho_3 D 145164 145162     42\n",
      " 149053 47039        cutoff              0.1880        0.1843   698845    1.97%          rho_10 U 149053  38095     34\n",
      "Elapsed time = 35.02 sec. (31718.15 ticks, tree = 14.17 MB, solutions = 2)\n",
      " 153612 49079        0.1843    18        0.1880        0.1843   717208    1.97%          rho_10 U 153612 153603     57\n",
      " 158437 50756        cutoff              0.1880        0.1843   734236    1.96%          rho_21 U 158437 158436     45\n",
      " 162706 51736        0.1856    20        0.1880        0.1844   753342    1.95%          rho_10 U 162706  28520     19\n",
      " 166799 52606        cutoff              0.1880        0.1844   772884    1.92%          rho_15 U 166799 166798     31\n",
      " 171532 53442        0.1864     8        0.1880        0.1844   792604    1.91%          rho_15 D 171532 171529     57\n",
      " 176461 55188        0.1878     9        0.1880        0.1844   810780    1.91%         L0_norm U 176461 176459     56\n",
      " 181331 56922        0.1875    12        0.1880        0.1844   829021    1.91%           rho_1 U 181331 181330     24\n",
      " 185342 57563        0.1845     4        0.1880        0.1845   849232    1.89%          rho_10 U 185342 185333     52\n",
      " 189757 58329        0.1871    15        0.1880        0.1845   868089    1.86%         L0_norm U 189757 189756     81\n",
      " 194300 59406        0.1868     9        0.1880        0.1845   886949    1.84%           rho_1 U 194300 194297     43\n",
      "Elapsed time = 44.89 sec. (41256.15 ticks, tree = 17.23 MB, solutions = 2)\n",
      " 197429 60350        cutoff              0.1880        0.1845   910368    1.84%          rho_17 D 197429 197427     80\n",
      " 200996 61137        cutoff              0.1880        0.1846   932060    1.84%           rho_4 U 200996 200995     55\n"
     ]
    },
    {
     "name": "stdout",
     "output_type": "stream",
     "text": [
      " 205584 62992        0.1877     8        0.1880        0.1846   951649    1.84%          rho_13 D 205584 205583     68\n",
      " 210121 64619        0.1866    15        0.1880        0.1846   970622    1.83%           rho_0 U 210121 210120     67\n",
      " 214699 65282        cutoff              0.1880        0.1846   986882    1.81%         L0_norm D 214699 214698     50\n",
      " 218576 66247        0.1878    11        0.1880        0.1846  1006410    1.81%          rho_17 D 218576 218574     32\n",
      " 223092 66849        0.1857    12        0.1880        0.1846  1022949    1.80%           rho_2 D 223092 210205     46\n",
      " 226517 67199        0.1874    14        0.1880        0.1846  1043685    1.80%           rho_1 U 226517 226515     48\n",
      " 231193 68369        cutoff              0.1880        0.1846  1061682    1.80%           rho_0 U 231193 231192     73\n",
      " 235207 68949        0.1873    10        0.1880        0.1847  1080075    1.78%          rho_14 N 235207 235206     51\n",
      "Elapsed time = 54.36 sec. (50794.63 ticks, tree = 22.40 MB, solutions = 2)\n",
      " 239057 69595        cutoff              0.1880        0.1847  1098498    1.76%          rho_16 U 239057 239055     55\n",
      " 243084 70275        0.1878     7        0.1880        0.1847  1119853    1.76%          rho_21 D 243084 243083     24\n",
      " 247315 71311        0.1875    12        0.1880        0.1847  1138631    1.74%          rho_13 D 247315 247313     45\n",
      " 251840 72325        0.1873    11        0.1880        0.1848  1156787    1.72%          rho_26 D 251840 251838     80\n",
      " 256007 72505        cutoff              0.1880        0.1848  1174611    1.71%          rho_16 D 256007 256005     71\n",
      " 260728 73437        0.1876    10        0.1880        0.1848  1190375    1.70%         L0_norm U 260728 260727     43\n",
      " 265250 74605        0.1864    11        0.1880        0.1848  1206301    1.70%          rho_15 N 265250 265248     59\n",
      " 268943 75609        0.1869    15        0.1880        0.1848  1226492    1.70%          rho_10 D 268943 268942     57\n",
      " 272763 77098        0.1876     5        0.1880        0.1848  1248776    1.69%          rho_25 D 272763 272761     62\n",
      " 277218 77895        cutoff              0.1880        0.1849  1265862    1.67%          rho_21 D 277218 277216     34\n",
      "Elapsed time = 63.94 sec. (60333.15 ticks, tree = 24.62 MB, solutions = 2)\n",
      " 281485 79326        0.1868    11        0.1880        0.1849  1284424    1.67%           rho_3 D 281485 281484     37\n",
      " 285929 80867        0.1849     9        0.1880        0.1849  1302366    1.66%          rho_26 D 285929 159879     38\n",
      " 290033 81539        0.1849     8        0.1880        0.1849  1318993    1.65%           rho_0 D 290033 290031     79\n",
      " 294664 82662        0.1862     3        0.1880        0.1849  1334825    1.65%         L0_norm U 294664 294663     26\n",
      " 299286 83670        cutoff              0.1880        0.1849  1349612    1.64%           rho_0 U 299286 299285     63\n",
      " 303356 84163        0.1872    13        0.1880        0.1850  1366068    1.63%         L0_norm U 303356 303355     38\n",
      " 308248 85768        0.1875     9        0.1880        0.1850  1384399    1.63%         L0_norm U 308248 308246     77\n",
      " 312325 86619        0.1850    14        0.1880        0.1850  1404427    1.63%           rho_0 D 312325 312323     63\n",
      " 316990 87240        0.1856     7        0.1880        0.1850  1417944    1.62%          rho_10 D 316990 316989     58\n",
      " 321409 88721        0.1875    16        0.1880        0.1850  1435212    1.61%          rho_26 D 321409 321407     64\n",
      "Elapsed time = 73.56 sec. (69870.83 ticks, tree = 27.35 MB, solutions = 2)\n",
      " 325403 89523        cutoff              0.1880        0.1850  1453187    1.61%           rho_0 U 325403 325401     56\n",
      " 330248 89834        cutoff              0.1880        0.1850  1469337    1.60%          rho_10 U 330248 330247     18\n",
      " 333346 88239        cutoff              0.1880        0.1850  1488253    1.59%         L0_norm D 333346  27971     83\n",
      " 337115 87611        0.1879    11        0.1880        0.1851  1509123    1.57%         L0_norm U 337115 337114     43\n",
      " 341229 88073        0.1851    12        0.1880        0.1851  1528043    1.56%           rho_0 D 341229 341227     21\n",
      " 344930 88832        0.1868    14        0.1880        0.1851  1548284    1.55%         L0_norm U 344930 344929     43\n",
      " 348949 90349        0.1871    16        0.1880        0.1851  1569068    1.55%          rho_14 D 348949 348948     40\n",
      " 352887 91590        0.1852    13        0.1880        0.1851  1591382    1.54%          rho_10 D 352887 352886     33\n",
      " 356904 92306        cutoff              0.1880        0.1851  1609853    1.53%         L0_norm U 356904 356902     25\n",
      " 361084 93085        cutoff              0.1880        0.1852  1627087    1.52%          rho_21 D 361084 361083     76\n",
      "Elapsed time = 82.80 sec. (79409.29 ticks, tree = 28.47 MB, solutions = 2)\n",
      " 364519 93318        0.1864    14        0.1880        0.1852  1649766    1.51%         L0_norm U 364519 364518     61\n",
      " 368820 94184        cutoff              0.1880        0.1852  1667307    1.50%          rho_21 U 368820 368818     78\n",
      " 373179 94977        0.1852    10        0.1880        0.1852  1686246    1.50%          rho_10 U 373179 373173     61\n",
      " 377288 95603        0.1876    17        0.1880        0.1852  1705078    1.49%          rho_11 D 377288 377286     36\n",
      " 381460 96169        cutoff              0.1880        0.1852  1723337    1.49%           rho_3 D 381460 381459     65\n",
      " 385313 96379        0.1879    15        0.1880        0.1852  1739976    1.48%           rho_0 D 385313 385312     51\n",
      " 389340 97460        0.1863    12        0.1880        0.1852  1759233    1.47%          rho_10 U 389340  28313     20\n",
      " 393852 97982        cutoff              0.1880        0.1853  1775308    1.46%          rho_10 U 393852 393851     16\n",
      " 398090 98348        cutoff              0.1880        0.1853  1791176    1.46%          rho_11 D 398090 398089     30\n",
      " 413840 99600        0.1868    12        0.1880        0.1853  1858228    1.42%         L0_norm U 413840 413839     37\n",
      "Elapsed time = 95.66 sec. (91808.12 ticks, tree = 30.10 MB, solutions = 2)\n",
      " 430566 102026        0.1864    11        0.1880        0.1854  1932282    1.39%           rho_0 D 430566 430564     84\n",
      " 447105 104623        cutoff              0.1880        0.1855  2002844    1.36%           rho_1 U 447105 447104     63\n",
      " 463567 106519        cutoff              0.1880        0.1855  2065166    1.34%          rho_26 U 463567 463566     58\n",
      " 480563 108662        cutoff              0.1880        0.1855  2131337    1.32%           rho_3 U 480563 480562     42\n",
      " 498025 113168        cutoff              0.1880        0.1856  2201947    1.30%          rho_16 D 498025 498024     39\n",
      " 515515 115316        0.1872     8        0.1880        0.1856  2265491    1.28%           rho_3 N 515515 345616     40\n",
      " 532006 117359        0.1866    10        0.1880        0.1857  2328771    1.25%           rho_1 U 532006 362358     48\n",
      " 547671 119167        0.1857    16        0.1880        0.1857  2397969    1.25%           rho_0 D 547671 547669     51\n",
      " 563593 121366        cutoff              0.1880        0.1857  2463617    1.23%         L0_norm D 563593 195064     71\n",
      " 580094 122509        0.1878     9        0.1880        0.1857  2532496    1.21%          rho_16 D 580094 580093     41\n",
      "Elapsed time = 133.31 sec. (129956.48 ticks, tree = 35.88 MB, solutions = 2)\n",
      " 596731 122857        0.1858    11        0.1880        0.1858  2594185    1.18%          rho_10 U 596731 596716     55\n",
      " 612868 123832        cutoff              0.1880        0.1858  2659436    1.17%          rho_26 U 612868 612867     83\n",
      " 628965 126415        0.1858     1        0.1880        0.1858  2730748    1.16%          rho_10 U 628965 628838     49\n",
      " 644800 126712        0.1859     6        0.1880        0.1859  2787760    1.14%           rho_0 D 644800 644796     42\n",
      " 661344 127404        cutoff              0.1880        0.1859  2845790    1.12%           rho_3 U 661344 661343     60\n",
      " 676945 128332        0.1868     8        0.1880        0.1859  2908204    1.12%          rho_14 U 676945 577366     77\n"
     ]
    },
    {
     "name": "stdout",
     "output_type": "stream",
     "text": [
      " 691990 127668        0.1876    12        0.1880        0.1860  2968086    1.09%          rho_11 D 691990 691988     75\n",
      " 707921 126564        cutoff              0.1880        0.1860  3029313    1.07%         L0_norm D 707921 166306     39\n",
      " 723255 125922        0.1863     9        0.1880        0.1860  3086996    1.05%          rho_15 D 723255 723253     36\n",
      " 737526 124879        cutoff              0.1880        0.1861  3145218    1.02%          rho_10 U 737526 134915     18\n",
      "Elapsed time = 169.42 sec. (168105.48 ticks, tree = 36.53 MB, solutions = 2)\n",
      " 752565 122084        0.1875     6        0.1880        0.1862  3202876    0.99%          rho_10 N 752565 752564     23\n",
      " 767689 121312        0.1872     1        0.1880        0.1862  3266688    0.96%          rho_10 U 767689 767687     39\n",
      " 784860 123837        0.1873    18        0.1880        0.1862  3332565    0.96%          rho_11 D 784860 784859     46\n",
      " 801060 124201        0.1872    14        0.1880        0.1862  3391486    0.95%         L0_norm U 801060 801059     39\n",
      " 816109 125551        0.1872     9        0.1880        0.1862  3451672    0.94%          rho_26 D 816109 816107     56\n",
      " 830494 122905        cutoff              0.1880        0.1863  3508538    0.91%         L0_norm D 830494 227095     30\n",
      " 845382 120425        0.1865    13        0.1880        0.1863  3565643    0.89%          rho_10 D 845382 845381     60\n",
      " 859177 117132        cutoff              0.1880        0.1864  3628875    0.86%         L0_norm D 859177 576880     94\n",
      "\n",
      "Implied bound cuts applied:  1\n",
      "Gomory fractional cuts applied:  1\n",
      "User cuts applied:  341\n",
      "\n",
      "Root node processing (before b&c):\n",
      "  Real time             =    0.27 sec. (2.00 ticks)\n",
      "Sequential b&c:\n",
      "  Real time             =  199.78 sec. (200589.49 ticks)\n",
      "                          ------------\n",
      "Total (root+branch&cut) =  200.05 sec. (200591.49 ticks)\n",
      "+----------------------------------------------+------------------+-----------+\n",
      "| Pr(Y = +1) = 1.0/(1.0 + exp(-(-4 + score))   |                  |           |\n",
      "| ============================================ | ================ | ========= |\n",
      "| p_arrest>=2                                  |         1 points |   + ..... |\n",
      "| p_arrest>=7                                  |         1 points |   + ..... |\n",
      "| p_pending_charge>=1                          |         1 points |   + ..... |\n",
      "| ============================================ | ================ | ========= |\n",
      "| ADD POINTS FROM ROWS 1 to 3                  |            SCORE |   = ..... |\n",
      "+----------------------------------------------+------------------+-----------+\n",
      "model_id, score_thresholds 0 {'rank_abs': [0]}\n",
      "get_disparity_predefined_group()\n",
      "setting c0 = 0.0 to ensure that intercept is not penalized\n",
      "09/11/19 @ 11:12 PM | 1141 rows in lookup table\n",
      "09/11/19 @ 11:12 PM | ------------------------------------------------------------\n",
      "09/11/19 @ 11:12 PM | runnning initialization procedure\n",
      "09/11/19 @ 11:12 PM | ------------------------------------------------------------\n",
      "09/11/19 @ 11:12 PM | CPA produced 2 cuts\n",
      "09/11/19 @ 11:12 PM | running naive rounding on 66 solutions\n",
      "09/11/19 @ 11:12 PM | best objective value: 0.1811\n",
      "09/11/19 @ 11:12 PM | rounding produced 5 integer solutions\n",
      "09/11/19 @ 11:12 PM | best objective value is 0.1896\n",
      "09/11/19 @ 11:12 PM | running sequential rounding on 66 solutions\n",
      "09/11/19 @ 11:12 PM | best objective value: 0.1811\n",
      "09/11/19 @ 11:12 PM | sequential rounding produced 6 integer solutions\n",
      "09/11/19 @ 11:12 PM | best objective value: 0.1870\n",
      "09/11/19 @ 11:12 PM | polishing 11 solutions\n",
      "09/11/19 @ 11:12 PM | best objective value: 0.1870\n",
      "09/11/19 @ 11:12 PM | polishing produced 5 integer solutions\n",
      "09/11/19 @ 11:12 PM | initialization produced 12 feasible solutions\n",
      "09/11/19 @ 11:12 PM | best objective value: 0.1870\n",
      "09/11/19 @ 11:12 PM | ------------------------------------------------------------\n",
      "09/11/19 @ 11:12 PM | completed initialization procedure\n",
      "09/11/19 @ 11:12 PM | ------------------------------------------------------------\n",
      "09/11/19 @ 11:12 PM | 1141 rows in lookup table\n",
      "CPXPARAM_Read_DataCheck                          1\n",
      "CPXPARAM_Threads                                 1\n",
      "CPXPARAM_Parallel                                1\n",
      "CPXPARAM_RandomSeed                              0\n",
      "CPXPARAM_TimeLimit                               200\n",
      "CPXPARAM_MIP_Tolerances_LowerCutoff              0.17989413707020396\n",
      "CPXPARAM_MIP_Tolerances_UpperCutoff              0.18704840212881688\n"
     ]
    },
    {
     "name": "stderr",
     "output_type": "stream",
     "text": [
      "Warning: Control callbacks may disable some MIP features.\n"
     ]
    },
    {
     "name": "stdout",
     "output_type": "stream",
     "text": [
      "Lazy constraint(s) or lazy constraint callback is present.\n",
      "    Disabling dual reductions (CPX_PARAM_REDUCE) in presolve.\n",
      "    Disabling non-linear reductions (CPX_PARAM_PRELINEAR) in presolve.\n",
      "         Disabling repeat represolve because of lazy constraint/incumbent callback.\n",
      "09/11/19 @ 11:12 PM | adding 249 initial cuts\n",
      "1 of 1 MIP starts provided solutions.\n",
      "MIP start 'mip_start_0' defined initial solution with objective 0.1870.\n",
      "Tried aggregator 1 time.\n",
      "Reduced MIP has 28 rows, 56 columns, and 107 nonzeros.\n",
      "Reduced MIP has 26 binaries, 28 generals, 0 SOSs, and 0 indicators.\n",
      "Presolve time = 0.02 sec. (0.06 ticks)\n",
      "Probing time = 0.00 sec. (0.02 ticks)\n",
      "MIP emphasis: balance optimality and feasibility.\n",
      "MIP search method: traditional branch-and-cut.\n",
      "Parallel mode: none, using 1 thread.\n",
      "Root relaxation solution time = 0.00 sec. (0.04 ticks)\n",
      "\n",
      "        Nodes                                         Cuts/\n",
      "   Node  Left     Objective  IInf  Best Integer    Best Bound    ItCnt     Gap         Variable B NodeID Parent  Depth\n",
      "\n",
      "*     0+    0                            0.1870        0.1699             9.17%\n",
      "      0     0        0.1799     1        0.1870        0.1799        1    3.82%\n",
      "      0     0        0.1799     1        0.1870       Cuts: 2        4    3.82%\n",
      "      0     0        0.1799     1        0.1870      Fract: 1        5    3.82%\n",
      "      0     2        0.1799     2        0.1870        0.1799        5    3.82%                        0             0\n",
      "Elapsed time = 0.22 sec. (1.92 ticks, tree = 0.01 MB, solutions = 1)\n",
      "   2035   712        cutoff              0.1870        0.1799    10573    3.82%          rho_13 U   2035   2034     27\n",
      "   3440  1195        0.1865     1        0.1870        0.1799    18115    3.82%           rho_0 D   3440   3439     62\n",
      "   4860  1690        0.1863     7        0.1870        0.1801    24346    3.71%           rho_9 D   4860   4859     27\n",
      "   6180  2013        0.1829     1        0.1870        0.1805    29485    3.48%           rho_2 U   6180   6178     47\n",
      "   7350  2343        0.1832    13        0.1870        0.1809    34652    3.26%           rho_2 D   7350   7348     24\n",
      "   8472  2577        0.1840     7        0.1870        0.1813    39633    3.07%          rho_10 U   8472   8470     39\n",
      "   9580  2868        0.1819     9        0.1870        0.1815    44216    2.97%           rho_0 U   9580   9579     60\n",
      "  10625  3187        0.1821    16        0.1870        0.1817    49005    2.85%           rho_0 D  10625   9006     18\n",
      "  12026  3396        0.1831     1        0.1870        0.1819    53322    2.74%           rho_2 U  12026  12024     22\n",
      "  16711  5043        0.1827    12        0.1870        0.1824    72072    2.50%          rho_14 U  16711   9144     28\n",
      "Elapsed time = 4.80 sec. (3103.47 ticks, tree = 1.50 MB, solutions = 1)\n",
      "  21186  6168        cutoff              0.1870        0.1826    88909    2.40%           rho_0 D  21186  21185     57\n",
      "  24819  7250        0.1838     6        0.1870        0.1826   107428    2.36%          rho_10 D  24819  24818     71\n",
      "  28675  8391        cutoff              0.1870        0.1827   125735    2.31%          rho_26 D  28675  28673     33\n",
      "  32617  9710        0.1836    12        0.1870        0.1828   143718    2.27%          rho_14 D  32617  32616     77\n",
      "  36479 11448        cutoff              0.1870        0.1828   162234    2.27%           rho_6 D  36479  36477     66\n",
      "  40352 13445        0.1849    11        0.1870        0.1828   178595    2.25%           rho_0 D  40352   2644     25\n",
      "  44445 14427        0.1862     5        0.1870        0.1829   194971    2.19%          rho_24 D  44445  44443     30\n",
      "  48311 15843        0.1867     7        0.1870        0.1829   213039    2.19%          rho_14 D  48311  48309     31\n",
      "  52362 17096        0.1849     9        0.1870        0.1830   228940    2.18%          rho_16 D  52362  52360     80\n",
      "  56181 18089        0.1853    11        0.1870        0.1830   245345    2.14%         L0_norm U  56181  56180     54\n",
      "Elapsed time = 13.56 sec. (12641.57 ticks, tree = 5.73 MB, solutions = 1)\n",
      "  60537 19545        0.1831    12        0.1870        0.1831   260157    2.12%           rho_0 D  60537  60530     62\n",
      "  64649 20557        0.1849    12        0.1870        0.1831   276338    2.12%          rho_11 D  64649  64647     66\n",
      "  68977 21917        0.1831    12        0.1870        0.1831   294277    2.11%           rho_0 D  68977  68968     93\n",
      "  73370 23137        0.1840     7        0.1870        0.1831   309776    2.11%          rho_10 D  73370  73369     60\n",
      "  77754 24215        0.1844    11        0.1870        0.1831   322256    2.09%         L0_norm U  77754  77753     37\n",
      "  81989 25795        0.1846    14        0.1870        0.1832   337342    2.06%          rho_11 D  81989  81988     64\n",
      "  85873 27696        0.1858    12        0.1870        0.1832   357156    2.06%         L0_norm U  85873  85871     82\n",
      "  89765 29608        0.1837    17        0.1870        0.1832   377006    2.06%           rho_0 U  89765  89764     58\n",
      "  93895 30867        0.1850     5        0.1870        0.1832   390720    2.05%          rho_10 D  93895  93894     59\n",
      "  97964 32587        0.1832    11        0.1870        0.1832   403098    2.04%           rho_0 D  97964  97962     80\n",
      "Elapsed time = 19.58 sec. (22179.88 ticks, tree = 9.33 MB, solutions = 1)\n",
      " 102285 34821        0.1833    18        0.1870        0.1833   418768    2.02%          rho_10 U 102285 102274     73\n",
      " 106535 36897        0.1849     9        0.1870        0.1833   436004    2.02%          rho_11 D 106535 106534    102\n",
      " 110746 38868        cutoff              0.1870        0.1833   454277    2.02%          rho_11 U 110746 110744     82\n",
      " 114387 40196        0.1864     8        0.1870        0.1833   472865    2.01%          rho_14 D 114387 114386    102\n",
      " 118484 40901        0.1869    13        0.1870        0.1833   487048    1.99%          rho_16 D 118484 118482     27\n",
      " 122317 42615        0.1842    13        0.1870        0.1834   504263    1.98%         L0_norm U 122317 122316     59\n",
      " 126080 44437        0.1846    13        0.1870        0.1834   521267    1.98%          rho_11 D 126080 126079     57\n",
      " 129838 46456        0.1839    12        0.1870        0.1834   537940    1.96%           rho_0 U 129838 129837     71\n",
      " 133453 47922        0.1866     9        0.1870        0.1834   553916    1.95%           rho_6 D 133453 133451     63\n",
      " 137805 49468        0.1836    13        0.1870        0.1834   569319    1.95%           rho_0 U 137805 137804     76\n",
      "Elapsed time = 25.84 sec. (31717.64 ticks, tree = 14.86 MB, solutions = 1)\n",
      " 142160 50990        0.1834     8        0.1870        0.1834   584165    1.94%           rho_0 D 142160 142151     81\n",
      " 146464 52460        0.1867     4        0.1870        0.1834   597850    1.93%          rho_14 U 146464 146461     68\n",
      " 150548 53271        0.1836     1        0.1870        0.1835   612316    1.92%         L0_norm D 150548 141228     44\n",
      " 153954 53312        0.1835     9        0.1870        0.1835   628517    1.89%           rho_0 D 153954 153947     41\n",
      " 157738 54005        0.1860    11        0.1870        0.1835   643792    1.88%           rho_5 U 157738 157737     53\n",
      " 160980 55290        0.1844    16        0.1870        0.1835   663446    1.88%         L0_norm U 160980 160979     76\n",
      " 164460 56397        0.1869     9        0.1870        0.1836   683073    1.86%          rho_14 D 164460 164459     67\n",
      " 168000 56669        0.1859     7        0.1870        0.1836   701110    1.85%          rho_14 U 168000  34610     56\n",
      " 171563 58127        0.1848    15        0.1870        0.1836   720725    1.84%          rho_10 D 171563 171562     40\n",
      " 175003 58571        0.1853    12        0.1870        0.1836   737647    1.82%          rho_10 U 175003 175002     20\n",
      "Elapsed time = 32.02 sec. (41257.72 ticks, tree = 17.12 MB, solutions = 1)\n",
      " 179170 59981        0.1836    10        0.1870        0.1836   756706    1.82%           rho_0 D 179170 179162     73\n",
      " 182834 60901        0.1844     9        0.1870        0.1837   773343    1.81%          rho_10 D 182834 136256     91\n"
     ]
    },
    {
     "name": "stdout",
     "output_type": "stream",
     "text": [
      " 186935 62372        0.1858    11        0.1870        0.1837   787678    1.80%          rho_10 D 186935 186934     70\n",
      " 191005 63866        cutoff              0.1870        0.1837   803364    1.79%          rho_16 D 191005 191004     49\n",
      " 194851 64821        cutoff              0.1870        0.1837   817332    1.79%          rho_26 U 194851 194850     48\n",
      " 198307 64732        0.1843    12        0.1870        0.1837   834685    1.78%          rho_11 U 198307  32334     34\n",
      " 202176 65829        0.1847    12        0.1870        0.1838   850436    1.76%           rho_0 D 202176 202174     54\n",
      " 205325 66982        0.1858     8        0.1870        0.1838   870715    1.75%          rho_14 D 205325 205324     51\n",
      " 208747 66988        cutoff              0.1870        0.1838   886865    1.74%         L0_norm D 208747 208745     48\n",
      " 212177 67653        0.1857     6        0.1870        0.1838   902707    1.73%          rho_26 D 212177 212175     62\n",
      "Elapsed time = 38.39 sec. (50795.95 ticks, tree = 22.19 MB, solutions = 1)\n",
      " 215750 68259        0.1850    11        0.1870        0.1838   919925    1.73%          rho_14 N 215750  42931     46\n",
      " 219147 68733        0.1857    10        0.1870        0.1839   934434    1.70%         L0_norm U 219147 219146     83\n",
      " 222634 69241        cutoff              0.1870        0.1839   950348    1.68%         L0_norm D 222634 222633     80\n",
      " 225969 69578        cutoff              0.1870        0.1839   968569    1.66%          rho_11 U 225969 225968     38\n",
      " 230172 71005        cutoff              0.1870        0.1839   987203    1.66%           rho_1 D 230172 230171     61\n",
      " 234171 71940        0.1844     5        0.1870        0.1840  1002872    1.66%           rho_0 U 234171 234170     70\n",
      " 237945 72575        cutoff              0.1870        0.1840  1017476    1.65%          rho_11 U 237945 237943     78\n",
      " 241550 71806        0.1850    18        0.1870        0.1840  1031415    1.64%           rho_0 D 241550 241548     57\n",
      " 244752 71442        0.1851    14        0.1870        0.1840  1046418    1.62%          rho_14 U 244752 236885     31\n",
      " 248000 72271        0.1845     9        0.1870        0.1840  1061416    1.61%          rho_10 D 248000 247999     66\n",
      "Elapsed time = 44.49 sec. (60337.01 ticks, tree = 23.36 MB, solutions = 1)\n",
      " 251779 73536        0.1843    15        0.1870        0.1841  1074449    1.60%          rho_10 D 251779 251778     71\n",
      " 255400 74870        0.1862     8        0.1870        0.1841  1091040    1.59%          rho_14 D 255400 255399     74\n",
      " 259120 75657        0.1851    13        0.1870        0.1841  1106911    1.58%          rho_16 D 259120 139882     50\n",
      " 262504 76326        cutoff              0.1870        0.1841  1122590    1.57%           rho_2 U 262504 262502     61\n",
      " 266640 76979        0.1853     5        0.1870        0.1841  1134109    1.57%         L0_norm U 266640 266639     50\n",
      " 270663 78044        0.1841     4        0.1870        0.1841  1146228    1.57%           rho_0 D 270663 270661     67\n",
      " 274316 78661        cutoff              0.1870        0.1841  1160032    1.56%           rho_1 U 274316 274315     36\n",
      " 278061 79607        0.1841    14        0.1870        0.1841  1175100    1.55%           rho_0 D 278061 277988     62\n",
      " 282141 80870        0.1842     9        0.1870        0.1842  1189353    1.54%          rho_10 D 282141 211642     19\n",
      " 285527 81927        0.1845    13        0.1870        0.1842  1207571    1.54%          rho_22 D 285527 205315     51\n",
      "Elapsed time = 50.44 sec. (69875.69 ticks, tree = 25.75 MB, solutions = 1)\n",
      " 289484 82793        cutoff              0.1870        0.1842  1220788    1.54%          rho_14 D 289484 289483     95\n",
      " 293230 83310        cutoff              0.1870        0.1842  1233741    1.54%          rho_11 U 293230 293229     96\n",
      " 296835 83831        0.1844    13        0.1870        0.1842  1247371    1.53%          rho_14 D 296835 296834     76\n",
      " 300183 84823        cutoff              0.1870        0.1842  1262275    1.53%         L0_norm D 300183 300182     77\n",
      " 303406 85530        0.1842    11        0.1870        0.1842  1278380    1.52%           rho_3 D 303406 251435     55\n",
      " 307019 86575        0.1855    12        0.1870        0.1842  1294136    1.52%          rho_10 U 307019 307017     72\n",
      " 310747 87238        0.1842    14        0.1870        0.1842  1309497    1.51%           rho_0 D 310747 310681     66\n",
      " 314602 88676        0.1862     8        0.1870        0.1842  1325035    1.50%           rho_5 U 314602 314601     27\n",
      " 318481 90383        0.1867    12        0.1870        0.1842  1339995    1.50%          rho_26 U 318481 318480     49\n",
      " 323099 92231        cutoff              0.1870        0.1842  1352583    1.50%           rho_4 U 323099 323098     60\n",
      "Elapsed time = 57.92 sec. (79413.78 ticks, tree = 28.28 MB, solutions = 1)\n",
      " 327732 92838        0.1842     6        0.1870        0.1842  1363923    1.50%          rho_10 U 327732 327726     69\n",
      " 331911 93314        cutoff              0.1870        0.1843  1378944    1.49%          rho_26 D 331911 331909     63\n",
      " 335678 93793        cutoff              0.1870        0.1843  1395007    1.49%           rho_0 U 335678 335677     58\n",
      " 339450 95121        0.1843    15        0.1870        0.1843  1410379    1.48%           rho_3 D 339450 251173     64\n",
      " 343382 96418        0.1845    11        0.1870        0.1843  1426153    1.47%          rho_10 D 343382 343381     36\n",
      " 346758 96810        0.1861    13        0.1870        0.1843  1439559    1.46%          rho_22 D 346758 346756     23\n",
      " 350449 97462        0.1845    13        0.1870        0.1843  1453191    1.46%           rho_0 U 350449 350448     53\n",
      " 354422 98534        0.1843    14        0.1870        0.1843  1466727    1.46%           rho_0 D 354422 354412     39\n",
      " 358382 99652        0.1853     7        0.1870        0.1843  1480194    1.45%         L0_norm U 358382 358380     78\n",
      " 372374 102224        0.1846     9        0.1870        0.1844  1539521    1.41%          rho_10 D 372374 372373     43\n",
      "Elapsed time = 66.83 sec. (91812.68 ticks, tree = 30.78 MB, solutions = 1)\n",
      " 388420 103854        cutoff              0.1870        0.1845  1585586    1.39%           rho_0 U 388420 388419     55\n",
      " 402979 103234        0.1862    11        0.1870        0.1845  1636682    1.36%          rho_26 D 402979 402977     32\n",
      " 417453 105935        0.1863     9        0.1870        0.1845  1695016    1.35%          rho_11 D 417453 417451     72\n",
      " 431187 107736        0.1865    11        0.1870        0.1846  1751499    1.32%          rho_14 D 431187 431186     58\n",
      " 445419 110141        cutoff              0.1870        0.1846  1805004    1.30%          rho_13 U 445419 445417     64\n",
      " 460533 112256        0.1852     8        0.1870        0.1847  1856308    1.27%           rho_5 D 460533 432697     47\n",
      " 475235 114761        0.1862    15        0.1870        0.1847  1908022    1.26%          rho_16 D 475235 475233     18\n",
      " 487428 115392        0.1848    13        0.1870        0.1847  1966704    1.24%           rho_5 D 487428 487426     24\n",
      " 500852 115474        0.1848     8        0.1870        0.1848  2019227    1.22%           rho_0 D 500852 500847     45\n",
      " 514530 117168        0.1855    11        0.1870        0.1848  2074670    1.20%          rho_11 D 514530  62344     35\n",
      "Elapsed time = 101.83 sec. (129961.68 ticks, tree = 34.53 MB, solutions = 1)\n",
      " 527225 118715        cutoff              0.1870        0.1848  2139765    1.19%         L0_norm D 527225 281512     57\n",
      " 540775 120306        0.1849    12        0.1870        0.1848  2192881    1.18%          rho_10 D 540775 540774     48\n",
      " 554184 119987        cutoff              0.1870        0.1849  2247309    1.16%         L0_norm D 554184 554182     54\n",
      " 567636 120764        cutoff              0.1870        0.1849  2305104    1.15%         L0_norm U 567636 567635     60\n",
      " 579022 118583        cutoff              0.1870        0.1849  2367076    1.12%          rho_15 U 579022 579021     58\n",
      " 592391 117511        0.1855     5        0.1870        0.1850  2413336    1.10%          rho_10 D 592391 592390     65\n"
     ]
    },
    {
     "name": "stdout",
     "output_type": "stream",
     "text": [
      " 604053 115824        cutoff              0.1870        0.1850  2466551    1.08%          rho_13 U 604053 108798     82\n",
      " 617479 115223        0.1855    20        0.1870        0.1851  2515877    1.06%          rho_14 D 617479 522372     76\n",
      " 631542 114024        0.1855    17        0.1870        0.1851  2564864    1.02%           rho_3 D 631542 631540     48\n",
      " 645801 115410        0.1851    12        0.1870        0.1851  2612962    1.02%          rho_10 U 645801 645792     55\n",
      "Elapsed time = 139.31 sec. (168109.79 ticks, tree = 34.13 MB, solutions = 1)\n",
      " 660162 115071        cutoff              0.1870        0.1852  2664858    1.01%          rho_14 U 660162 273584     67\n",
      " 672872 114298        0.1855    10        0.1870        0.1852  2717711    0.99%           rho_0 D 672872 301151     32\n",
      " 686688 113884        cutoff              0.1870        0.1852  2763859    0.97%          rho_14 U 686688 686685     89\n",
      " 699596 113534        cutoff              0.1870        0.1853  2809974    0.95%          rho_11 U 699596 699595     61\n",
      " 713792 114248        cutoff              0.1870        0.1853  2863131    0.93%         L0_norm D 713792 439038     26\n",
      " 726795 113520        cutoff              0.1870        0.1853  2916733    0.91%          rho_14 U 726795 726793     83\n",
      " 742029 115156        0.1855    15        0.1870        0.1854  2963585    0.89%          rho_10 D 742029 742028     60\n",
      " 754844 114338        0.1866    11        0.1870        0.1854  3012561    0.88%           rho_3 D 754844 754842     56\n",
      " 769028 113693        0.1866    13        0.1870        0.1854  3059321    0.86%          rho_11 D 769028 769027     78\n",
      " 781925 114247        0.1866    10        0.1870        0.1855  3101215    0.85%           rho_1 D 781925 781923     70\n",
      "Elapsed time = 175.77 sec. (206258.62 ticks, tree = 33.86 MB, solutions = 1)\n",
      " 795271 113145        0.1855    10        0.1870        0.1855  3153013    0.83%          rho_10 U 795271 795013     63\n",
      " 808706 108372        cutoff              0.1870        0.1856  3197500    0.80%         L0_norm D 808706 359186     82\n",
      " 820724 107123        cutoff              0.1870        0.1856  3248363    0.79%          rho_14 D 820724 820722     64\n",
      " 835028 106938        cutoff              0.1870        0.1856  3286310    0.78%           rho_0 U 835028 835027     68\n",
      " 846897 103174        cutoff              0.1870        0.1856  3337296    0.76%         L0_norm D 846897 846896     56\n",
      " 860190 101416        0.1870     7        0.1870        0.1857  3383046    0.74%           rho_7 D 860190 860189     36\n",
      " 872989 100678        0.1857    12        0.1870        0.1857  3427533    0.73%          rho_14 D 872989 470227     64\n",
      "\n",
      "Implied bound cuts applied:  1\n",
      "Gomory fractional cuts applied:  1\n",
      "User cuts applied:  418\n",
      "\n",
      "Root node processing (before b&c):\n",
      "  Real time             =    0.22 sec. (1.95 ticks)\n",
      "Sequential b&c:\n",
      "  Real time             =  199.80 sec. (233857.78 ticks)\n",
      "                          ------------\n",
      "Total (root+branch&cut) =  200.02 sec. (233859.73 ticks)\n",
      "+----------------------------------------------+------------------+-----------+\n",
      "| Pr(Y = +1) = 1.0/(1.0 + exp(-(-4 + score))   |                  |           |\n",
      "| ============================================ | ================ | ========= |\n",
      "| p_arrest>=2                                  |         1 points |   + ..... |\n",
      "| p_arrest>=7                                  |         1 points |   + ..... |\n",
      "| p_pending_charge>=1                          |         1 points |   + ..... |\n",
      "| ============================================ | ================ | ========= |\n",
      "| ADD POINTS FROM ROWS 1 to 3                  |            SCORE |   = ..... |\n",
      "+----------------------------------------------+------------------+-----------+\n",
      "model_id, score_thresholds 0 {'rank_abs': [0]}\n",
      "get_disparity_predefined_group()\n"
     ]
    }
   ],
   "source": [
    "riskslim_summary = slim.risk_cv(X=sub_X, \n",
    "                                Y=sub_Y, \n",
    "                                indicator = indicator,\n",
    "                                y_label='recid_M6', \n",
    "                                max_coef=20, \n",
    "                                max_coef_number=10, \n",
    "                                max_runtime=200, \n",
    "                                c=1e-3, \n",
    "                                seed=816)"
   ]
  },
  {
   "cell_type": "code",
   "execution_count": 23,
   "metadata": {},
   "outputs": [
    {
     "data": {
      "text/plain": [
       "(0.7070647868815948, 0.707017701831527)"
      ]
     },
     "execution_count": 23,
     "metadata": {},
     "output_type": "execute_result"
    }
   ],
   "source": [
    "np.mean(riskslim_summary['train_auc']), np.mean(riskslim_summary['test_auc'])"
   ]
  },
  {
   "cell_type": "markdown",
   "metadata": {},
   "source": [
    "### Results"
   ]
  },
  {
   "cell_type": "code",
   "execution_count": 24,
   "metadata": {},
   "outputs": [
    {
     "name": "stdout",
     "output_type": "stream",
     "text": [
      "Stored 'summary_M6_KY_interpret' (dict)\n"
     ]
    }
   ],
   "source": [
    "#### save results\n",
    "summary_M6_KY_interpret = {\"CART\": cart_summary,\n",
    "                                   \"EBM\": ebm_summary, \n",
    "                                   'Lasso Stumps': stump_summary, \n",
    "                                   'RiskSLIM': riskslim_summary, \n",
    "                                   'Arnold PSA Raw': raw_auc, \n",
    "                                   'Arnold PSA': calc_auc}\n",
    "%store summary_M6_KY_interpret"
   ]
  },
  {
   "cell_type": "code",
   "execution_count": 25,
   "metadata": {},
   "outputs": [
    {
     "data": {
      "text/plain": [
       "[['CART', 0.74540271088215, 0.019285906372375927],\n",
       " ['EBM', 0.7466439555971708, 0.008674932620805098],\n",
       " ['Lasso Stumps', 0.7482883684579514, 0.0016177709364000314],\n",
       " ['RiskSLIM', 0.707017701831527],\n",
       " ['Arnold PSA Raw', 0.704],\n",
       " ['Arnold PSA', 0.697]]"
      ]
     },
     "execution_count": 25,
     "metadata": {},
     "output_type": "execute_result"
    }
   ],
   "source": [
    "results = [[\"CART\", np.mean(cart_summary['holdout_test_auc']), np.mean(cart_summary['auc_diffs'])],\n",
    "           [\"EBM\", np.mean(ebm_summary['holdout_test_auc']), np.mean(ebm_summary['auc_diffs'])], \n",
    "           [\"Lasso Stumps\", np.mean(stump_summary['holdout_test_auc']), np.mean(stump_summary['auc_diffs'])],\n",
    "           ['RiskSLIM', np.mean(riskslim_summary['test_auc'])],\n",
    "           ['Arnold PSA Raw', round(np.mean(raw_auc), 3)], \n",
    "           ['Arnold PSA', round(np.mean(calc_auc), 3)]]\n",
    "results"
   ]
  },
  {
   "cell_type": "code",
   "execution_count": 26,
   "metadata": {},
   "outputs": [],
   "source": [
    "auc = [np.mean(cart_summary['holdout_test_auc']), \n",
    "       np.mean(ebm_summary['holdout_test_auc']), \n",
    "       np.mean(stump_summary['holdout_test_auc']), \n",
    "       np.mean(riskslim_summary['test_auc'])]"
   ]
  },
  {
   "cell_type": "code",
   "execution_count": 27,
   "metadata": {},
   "outputs": [],
   "source": [
    "path = \"C:/Users/binha/Documents/Duke/Cynthia Research/KY-analysis-mytrials/KY Recidivism/KY Results/Models/Six Month/\"\n",
    "results = [[\"Misdemeanor\", np.str((round(np.mean(cart_summary['holdout_test_auc']), 3))) + \" (\" + np.str(round(np.std(cart_summary['holdout_test_auc']), 3)) + \")\", \n",
    "            np.str(round(np.mean(ebm_summary['holdout_test_auc']),3)) + \" (\" + np.str(round(np.std(ebm_summary['holdout_test_auc']), 3)) + \")\", \n",
    "            np.str(round(np.mean(stump_summary['holdout_test_auc']),3)) + \" (\" + np.str(round(np.std(stump_summary['holdout_test_auc']), 3)) + \")\",             \n",
    "            np.str(round(np.mean(riskslim_summary['test_auc']),3)) + \" (\" + np.str(round(np.std(riskslim_summary['test_auc']), 3)) + \")\", \n",
    "            round(np.max(auc) - np.min(auc), 3),\n",
    "            np.str(round(np.mean(raw_auc), 3)) + \" (\" + np.str(round(np.std(raw_auc),3)) + \")\", \n",
    "            np.str(round(np.mean(calc_auc), 3)) + \" (\" + np.str(round(np.std(calc_auc),3)) + \")\"]]\n",
    "with open(path + 'Interpretable Models Summary.csv', 'a') as writeFile:\n",
    "    writer = csv.writer(writeFile)\n",
    "    writer.writerows(results)"
   ]
  }
 ],
 "metadata": {
  "kernelspec": {
   "display_name": "Python 3",
   "language": "python",
   "name": "python3"
  },
  "language_info": {
   "codemirror_mode": {
    "name": "ipython",
    "version": 3
   },
   "file_extension": ".py",
   "mimetype": "text/x-python",
   "name": "python",
   "nbconvert_exporter": "python",
   "pygments_lexer": "ipython3",
   "version": "3.7.4"
  }
 },
 "nbformat": 4,
 "nbformat_minor": 4
}
