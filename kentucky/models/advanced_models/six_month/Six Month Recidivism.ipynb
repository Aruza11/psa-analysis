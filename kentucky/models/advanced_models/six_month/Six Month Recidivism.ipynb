{
 "cells": [
  {
   "cell_type": "code",
   "execution_count": 1,
   "metadata": {},
   "outputs": [
    {
     "name": "stdout",
     "output_type": "stream",
     "text": [
      "Current working directory is now:  C:\\Users\\binha\\Documents\\Duke\\Cynthia Research\\psa-analysis - test\n",
      "no stored variable summary_general6_KY_interpret\n"
     ]
    },
    {
     "name": "stderr",
     "output_type": "stream",
     "text": [
      "C:\\Users\\binha\\Anaconda3\\lib\\site-packages\\sklearn\\externals\\six.py:31: DeprecationWarning:\n",
      "\n",
      "The module is deprecated in version 0.21 and will be removed in version 0.23 since we've dropped support for Python 2.7. Please rely on the official version of six (https://pypi.org/project/six/).\n",
      "\n"
     ]
    }
   ],
   "source": [
    "import os \n",
    "os.chdir('../../../../')\n",
    "print(\"Current working directory is now: \", os.getcwd())\n",
    "\n",
    "import pandas as pd \n",
    "import numpy as np\n",
    "import csv\n",
    "import utils.baseline_functions as base\n",
    "import stumps\n",
    "import RiskSLIM as slim\n",
    "\n",
    "from sklearn.linear_model import LogisticRegression\n",
    "from sklearn.model_selection import KFold, GridSearchCV\n",
    "from sklearn.metrics import roc_auc_score\n",
    "\n",
    "# restore saved variables\n",
    "%store -r summary_general6_KY_interpret"
   ]
  },
  {
   "cell_type": "markdown",
   "metadata": {},
   "source": [
    "### CART & EBM"
   ]
  },
  {
   "cell_type": "code",
   "execution_count": 2,
   "metadata": {},
   "outputs": [],
   "source": [
    "### load data\n",
    "data = pd.read_csv(\"~/Documents/Duke/Cynthia Research/KY-analysis-mytrials/KY Recidivism/KY data/kentucky_data.csv\")\n",
    "data = data.drop(['fta_risk_score_raw','nca_risk_score_raw','pvf_risk_score_raw', \n",
    "                  'fta_calc', 'nca_calc', 'pvf_calc'], axis=1)\n",
    "x = data.loc[:,:'current_violence']\n",
    "y = data['recid_six_month'].values"
   ]
  },
  {
   "cell_type": "code",
   "execution_count": 3,
   "metadata": {
    "scrolled": true
   },
   "outputs": [
    {
     "name": "stdout",
     "output_type": "stream",
     "text": [
      "model_id, score_thresholds 0 {'rank_abs': [201]}\n",
      "get_disparity_predefined_group()\n",
      "model_id, score_thresholds 0 {'rank_abs': [122]}\n",
      "get_disparity_predefined_group()\n",
      "model_id, score_thresholds 0 {'rank_abs': [209]}\n",
      "get_disparity_predefined_group()\n",
      "model_id, score_thresholds 0 {'rank_abs': [56]}\n",
      "get_disparity_predefined_group()\n",
      "model_id, score_thresholds 0 {'rank_abs': [103]}\n",
      "get_disparity_predefined_group()\n"
     ]
    },
    {
     "name": "stderr",
     "output_type": "stream",
     "text": [
      "WARNING:interpret.utils.all:Passing a numpy array to schema autogen when it should be dataframe.\n",
      "WARNING:interpret.utils.all:Passing a numpy array to schema autogen when it should be dataframe.\n",
      "WARNING:interpret.utils.all:Passing a numpy array to schema autogen when it should be dataframe.\n",
      "WARNING:interpret.utils.all:Passing a numpy array to schema autogen when it should be dataframe.\n",
      "WARNING:interpret.utils.all:Passing a numpy array to schema autogen when it should be dataframe.\n",
      "WARNING:interpret.utils.all:Passing a numpy array to schema autogen when it should be dataframe.\n",
      "WARNING:interpret.utils.all:Passing a numpy array to schema autogen when it should be dataframe.\n",
      "WARNING:interpret.utils.all:Passing a numpy array to schema autogen when it should be dataframe.\n",
      "WARNING:interpret.utils.all:Passing a numpy array to schema autogen when it should be dataframe.\n",
      "WARNING:interpret.utils.all:Passing a numpy array to schema autogen when it should be dataframe.\n",
      "WARNING:interpret.utils.all:Passing a numpy array to schema autogen when it should be dataframe.\n",
      "WARNING:interpret.utils.all:Passing a numpy array to schema autogen when it should be dataframe.\n"
     ]
    },
    {
     "name": "stdout",
     "output_type": "stream",
     "text": [
      "model_id, score_thresholds 0 {'rank_abs': [133]}\n",
      "get_disparity_predefined_group()\n"
     ]
    },
    {
     "name": "stderr",
     "output_type": "stream",
     "text": [
      "WARNING:interpret.utils.all:Passing a numpy array to schema autogen when it should be dataframe.\n",
      "WARNING:interpret.utils.all:Passing a numpy array to schema autogen when it should be dataframe.\n",
      "WARNING:interpret.utils.all:Passing a numpy array to schema autogen when it should be dataframe.\n",
      "WARNING:interpret.utils.all:Passing a numpy array to schema autogen when it should be dataframe.\n",
      "WARNING:interpret.utils.all:Passing a numpy array to schema autogen when it should be dataframe.\n",
      "WARNING:interpret.utils.all:Passing a numpy array to schema autogen when it should be dataframe.\n",
      "WARNING:interpret.utils.all:Passing a numpy array to schema autogen when it should be dataframe.\n",
      "WARNING:interpret.utils.all:Passing a numpy array to schema autogen when it should be dataframe.\n",
      "WARNING:interpret.utils.all:Passing a numpy array to schema autogen when it should be dataframe.\n",
      "WARNING:interpret.utils.all:Passing a numpy array to schema autogen when it should be dataframe.\n",
      "WARNING:interpret.utils.all:Passing a numpy array to schema autogen when it should be dataframe.\n",
      "WARNING:interpret.utils.all:Passing a numpy array to schema autogen when it should be dataframe.\n"
     ]
    },
    {
     "name": "stdout",
     "output_type": "stream",
     "text": [
      "model_id, score_thresholds 0 {'rank_abs': [162]}\n",
      "get_disparity_predefined_group()\n"
     ]
    },
    {
     "name": "stderr",
     "output_type": "stream",
     "text": [
      "WARNING:interpret.utils.all:Passing a numpy array to schema autogen when it should be dataframe.\n",
      "WARNING:interpret.utils.all:Passing a numpy array to schema autogen when it should be dataframe.\n",
      "WARNING:interpret.utils.all:Passing a numpy array to schema autogen when it should be dataframe.\n",
      "WARNING:interpret.utils.all:Passing a numpy array to schema autogen when it should be dataframe.\n",
      "WARNING:interpret.utils.all:Passing a numpy array to schema autogen when it should be dataframe.\n",
      "WARNING:interpret.utils.all:Passing a numpy array to schema autogen when it should be dataframe.\n",
      "WARNING:interpret.utils.all:Passing a numpy array to schema autogen when it should be dataframe.\n",
      "WARNING:interpret.utils.all:Passing a numpy array to schema autogen when it should be dataframe.\n",
      "WARNING:interpret.utils.all:Passing a numpy array to schema autogen when it should be dataframe.\n",
      "WARNING:interpret.utils.all:Passing a numpy array to schema autogen when it should be dataframe.\n",
      "WARNING:interpret.utils.all:Passing a numpy array to schema autogen when it should be dataframe.\n",
      "WARNING:interpret.utils.all:Passing a numpy array to schema autogen when it should be dataframe.\n"
     ]
    },
    {
     "name": "stdout",
     "output_type": "stream",
     "text": [
      "model_id, score_thresholds 0 {'rank_abs': [199]}\n",
      "get_disparity_predefined_group()\n"
     ]
    },
    {
     "name": "stderr",
     "output_type": "stream",
     "text": [
      "WARNING:interpret.utils.all:Passing a numpy array to schema autogen when it should be dataframe.\n",
      "WARNING:interpret.utils.all:Passing a numpy array to schema autogen when it should be dataframe.\n",
      "WARNING:interpret.utils.all:Passing a numpy array to schema autogen when it should be dataframe.\n",
      "WARNING:interpret.utils.all:Passing a numpy array to schema autogen when it should be dataframe.\n",
      "WARNING:interpret.utils.all:Passing a numpy array to schema autogen when it should be dataframe.\n",
      "WARNING:interpret.utils.all:Passing a numpy array to schema autogen when it should be dataframe.\n",
      "WARNING:interpret.utils.all:Passing a numpy array to schema autogen when it should be dataframe.\n",
      "WARNING:interpret.utils.all:Passing a numpy array to schema autogen when it should be dataframe.\n",
      "WARNING:interpret.utils.all:Passing a numpy array to schema autogen when it should be dataframe.\n",
      "WARNING:interpret.utils.all:Passing a numpy array to schema autogen when it should be dataframe.\n",
      "WARNING:interpret.utils.all:Passing a numpy array to schema autogen when it should be dataframe.\n",
      "WARNING:interpret.utils.all:Passing a numpy array to schema autogen when it should be dataframe.\n"
     ]
    },
    {
     "name": "stdout",
     "output_type": "stream",
     "text": [
      "model_id, score_thresholds 0 {'rank_abs': [168]}\n",
      "get_disparity_predefined_group()\n"
     ]
    },
    {
     "name": "stderr",
     "output_type": "stream",
     "text": [
      "WARNING:interpret.utils.all:Passing a numpy array to schema autogen when it should be dataframe.\n",
      "WARNING:interpret.utils.all:Passing a numpy array to schema autogen when it should be dataframe.\n",
      "WARNING:interpret.utils.all:Passing a numpy array to schema autogen when it should be dataframe.\n",
      "WARNING:interpret.utils.all:Passing a numpy array to schema autogen when it should be dataframe.\n",
      "WARNING:interpret.utils.all:Passing a numpy array to schema autogen when it should be dataframe.\n",
      "WARNING:interpret.utils.all:Passing a numpy array to schema autogen when it should be dataframe.\n",
      "WARNING:interpret.utils.all:Passing a numpy array to schema autogen when it should be dataframe.\n",
      "WARNING:interpret.utils.all:Passing a numpy array to schema autogen when it should be dataframe.\n",
      "WARNING:interpret.utils.all:Passing a numpy array to schema autogen when it should be dataframe.\n",
      "WARNING:interpret.utils.all:Passing a numpy array to schema autogen when it should be dataframe.\n",
      "WARNING:interpret.utils.all:Passing a numpy array to schema autogen when it should be dataframe.\n",
      "WARNING:interpret.utils.all:Passing a numpy array to schema autogen when it should be dataframe.\n"
     ]
    },
    {
     "name": "stdout",
     "output_type": "stream",
     "text": [
      "model_id, score_thresholds 0 {'rank_abs': [148]}\n",
      "get_disparity_predefined_group()\n"
     ]
    }
   ],
   "source": [
    "#### CART\n",
    "depth = [7,8,9]\n",
    "cart_summary = base.CART(X=x,\n",
    "                         Y=y,\n",
    "                         depth=depth,\n",
    "                         seed=816)\n",
    "\n",
    "#### EBM\n",
    "estimators = [20]\n",
    "depth = [2]\n",
    "learning_rate = [0.3]\n",
    "ebm_summary = base.EBM(X=x,\n",
    "                       Y=y,\n",
    "                       learning_rate=learning_rate,\n",
    "                       depth=depth,\n",
    "                       estimators=estimators,\n",
    "                       seed =816)"
   ]
  },
  {
   "cell_type": "code",
   "execution_count": 4,
   "metadata": {},
   "outputs": [
    {
     "data": {
      "text/plain": [
       "(0.7606521344993251, 0.014779378341244853)"
      ]
     },
     "execution_count": 4,
     "metadata": {},
     "output_type": "execute_result"
    }
   ],
   "source": [
    "np.mean(cart_summary['holdout_test_auc']), np.mean(cart_summary['auc_diffs'])"
   ]
  },
  {
   "cell_type": "code",
   "execution_count": 5,
   "metadata": {},
   "outputs": [
    {
     "data": {
      "text/plain": [
       "(0.7647838037813457, 0.00598103432511714)"
      ]
     },
     "execution_count": 5,
     "metadata": {},
     "output_type": "execute_result"
    }
   ],
   "source": [
    "np.mean(ebm_summary['holdout_test_auc']), np.mean(ebm_summary['auc_diffs'])"
   ]
  },
  {
   "cell_type": "markdown",
   "metadata": {},
   "source": [
    "## Lasso Stumps"
   ]
  },
  {
   "cell_type": "code",
   "execution_count": 7,
   "metadata": {},
   "outputs": [],
   "source": [
    "## load whole data\n",
    "data = pd.read_csv(\"~/Documents/Duke/Cynthia Research/KY-analysis-mytrials/KY Recidivism/KY data/kentucky_stumps.csv\")\n",
    "X_stumps, Y_stumps = data.loc[:,:'current_violence>=1'], data['recid_six_month'].values\n",
    "Y_stumps[Y_stumps == -1] = 0\n",
    "cols = X_stumps.columns[3:]\n",
    "\n",
    "## load train & test data\n",
    "train_stumps = pd.read_csv(\"~/Documents/Duke/Cynthia Research/KY-analysis-mytrials/KY Recidivism/KY data/kentucky_train_stumps.csv\")\n",
    "test_stumps = pd.read_csv(\"~/Documents/Duke/Cynthia Research/KY-analysis-mytrials/KY Recidivism/KY data/kentucky_test_stumps.csv\")\n",
    "\n",
    "X_train_stumps, Y_train_stumps = train_stumps.loc[:,:'current_violence>=1'], train_stumps['recid_six_month'].values\n",
    "X_test_stumps, Y_test_stumps = test_stumps.loc[:,:'current_violence>=1'], test_stumps['recid_six_month'].values\n",
    "\n",
    "Y_train_stumps[Y_train_stumps == -1] = 0\n",
    "Y_test_stumps[Y_test_stumps == -1] = 0"
   ]
  },
  {
   "cell_type": "markdown",
   "metadata": {},
   "source": [
    "#### Nested Cross Validation"
   ]
  },
  {
   "cell_type": "code",
   "execution_count": 8,
   "metadata": {},
   "outputs": [
    {
     "name": "stdout",
     "output_type": "stream",
     "text": [
      "model_id, score_thresholds 0 {'rank_abs': [13968]}\n",
      "get_disparity_predefined_group()\n",
      "model_id, score_thresholds 0 {'rank_abs': [13452]}\n",
      "get_disparity_predefined_group()\n",
      "model_id, score_thresholds 0 {'rank_abs': [13278]}\n",
      "get_disparity_predefined_group()\n",
      "model_id, score_thresholds 0 {'rank_abs': [13630]}\n",
      "get_disparity_predefined_group()\n",
      "model_id, score_thresholds 0 {'rank_abs': [13255]}\n",
      "get_disparity_predefined_group()\n"
     ]
    }
   ],
   "source": [
    "stump_summary = stumps.stump_cv(X = X_stumps, \n",
    "                                Y = Y_stumps, \n",
    "                                columns=cols, \n",
    "                                c_grid={'C': [0.007, 0.005, 0.003]}, \n",
    "                                seed = 816)"
   ]
  },
  {
   "cell_type": "code",
   "execution_count": 10,
   "metadata": {},
   "outputs": [
    {
     "data": {
      "text/plain": [
       "({'C': 0.007}, 0.7653769259699809, 0.0010935244492779495)"
      ]
     },
     "execution_count": 10,
     "metadata": {},
     "output_type": "execute_result"
    }
   ],
   "source": [
    "stump_summary['best_params'], np.mean(stump_summary['holdout_test_auc']), np.mean(stump_summary['auc_diffs'])"
   ]
  },
  {
   "cell_type": "markdown",
   "metadata": {},
   "source": [
    "##### Best Stump Model"
   ]
  },
  {
   "cell_type": "code",
   "execution_count": 15,
   "metadata": {},
   "outputs": [],
   "source": [
    "best_stump_model = stumps.stump_model(X_train_stumps, Y_train_stumps, \n",
    "                                      X_test_stumps, Y_test_stumps, \n",
    "                                      c=0.003, columns=cols, seed=816)"
   ]
  },
  {
   "cell_type": "markdown",
   "metadata": {},
   "source": [
    "##### Prediction Table"
   ]
  },
  {
   "cell_type": "code",
   "execution_count": 16,
   "metadata": {
    "scrolled": true
   },
   "outputs": [
    {
     "name": "stdout",
     "output_type": "stream",
     "text": [
      "+-----------------------------------+----------------+\n",
      "| Features                          | Score          |\n",
      "|====================================================|\n",
      "| sex                               | 4.8            |\n",
      "| p_arrest>=1                       | -44.5          |\n",
      "| p_arrest>=2                       | 57.8           |\n",
      "| p_arrest>=3                       | 43.9           |\n",
      "| p_arrest>=4                       | 19.6           |\n",
      "| p_arrest>=5                       | 22.5           |\n",
      "| p_arrest>=6                       | 13.4           |\n",
      "| p_arrest>=7                       | 21.0           |\n",
      "| p_arrest>=8                       | 5.3            |\n",
      "| p_charges>=1                      | -40.6          |\n",
      "| p_charges>=2                      | 7.1            |\n",
      "| p_charges>=6                      | 1.9            |\n",
      "| p_violence>=1                     | 20.7           |\n",
      "| p_felony>=1                       | 48.0           |\n",
      "| p_misdemeanor>=2                  | 12.3           |\n",
      "| p_misdemeanor>=3                  | 7.2            |\n",
      "| p_property>=1                     | 3.3            |\n",
      "| p_drug>=1                         | 8.7            |\n",
      "| ADE>=1                            | -29.0          |\n",
      "| p_prison>=1                       | -21.2          |\n",
      "| p_jail30>=1                       | 8.6            |\n",
      "| p_pending_charge>=1               | 40.4           |\n",
      "| p_probation>=1                    | 5.7            |\n",
      "| one_year>=1                       | -1.4           |\n",
      "| five_year>=1                      | -2.3           |\n",
      "| Intercept                         | -0.425         |\n",
      "|====================================================|\n",
      "| ADD POINTS FROM ROWS 1 TO 25      | Total Score    |\n",
      "+-----------------------------------+----------------+\n"
     ]
    }
   ],
   "source": [
    "stumps.latex_stump_table(best_stump_model['coefs'], \n",
    "                   best_stump_model['features'], \n",
    "                   best_stump_model['intercept'], \n",
    "                   best_stump_model['dictionary'])"
   ]
  },
  {
   "cell_type": "code",
   "execution_count": 17,
   "metadata": {},
   "outputs": [
    {
     "name": "stdout",
     "output_type": "stream",
     "text": [
      "model_id, score_thresholds 0 {'rank_abs': [12229]}\n",
      "get_disparity_predefined_group()\n",
      "model_id, score_thresholds 0 {'rank_abs': [12584]}\n",
      "get_disparity_predefined_group()\n",
      "model_id, score_thresholds 0 {'rank_abs': [12282]}\n",
      "get_disparity_predefined_group()\n",
      "model_id, score_thresholds 0 {'rank_abs': [12510]}\n",
      "get_disparity_predefined_group()\n",
      "model_id, score_thresholds 0 {'rank_abs': [12371]}\n",
      "get_disparity_predefined_group()\n"
     ]
    }
   ],
   "source": [
    "stump_summary = stumps.stump_cv(X = X_stumps, \n",
    "                                Y = Y_stumps, \n",
    "                                columns=cols, \n",
    "                                c_grid={'C': [0.003]}, \n",
    "                                seed = 816)"
   ]
  },
  {
   "cell_type": "code",
   "execution_count": 20,
   "metadata": {},
   "outputs": [
    {
     "data": {
      "text/plain": [
       "({'C': 0.003}, 0.7630182345501625, 0.0007092817200455625)"
      ]
     },
     "execution_count": 20,
     "metadata": {},
     "output_type": "execute_result"
    }
   ],
   "source": [
    "stump_summary['best_params'], np.mean(stump_summary['holdout_test_auc']), np.mean(stump_summary['auc_diffs'])"
   ]
  },
  {
   "cell_type": "markdown",
   "metadata": {},
   "source": [
    "##### Stumps Visualizations"
   ]
  },
  {
   "cell_type": "code",
   "execution_count": 21,
   "metadata": {
    "scrolled": true
   },
   "outputs": [
    {
     "data": {
      "image/png": "[encoded data removed]",
      "text/plain": [
       "<Figure size 288x216 with 1 Axes>"
      ]
     },
     "metadata": {
      "needs_background": "light"
     },
     "output_type": "display_data"
    },
    {
     "data": {
      "image/png": "[encoded data removed]",
      "text/plain": [
       "<Figure size 288x216 with 1 Axes>"
      ]
     },
     "metadata": {
      "needs_background": "light"
     },
     "output_type": "display_data"
    },
    {
     "data": {
      "image/png": "[encoded data removed]",
      "text/plain": [
       "<Figure size 288x216 with 1 Axes>"
      ]
     },
     "metadata": {
      "needs_background": "light"
     },
     "output_type": "display_data"
    },
    {
     "data": {
      "image/png": "[encoded data removed]",
      "text/plain": [
       "<Figure size 288x216 with 1 Axes>"
      ]
     },
     "metadata": {
      "needs_background": "light"
     },
     "output_type": "display_data"
    },
    {
     "data": {
      "image/png": "[encoded data removed]",
      "text/plain": [
       "<Figure size 288x216 with 1 Axes>"
      ]
     },
     "metadata": {
      "needs_background": "light"
     },
     "output_type": "display_data"
    },
    {
     "data": {
      "image/png": "[encoded data removed]",
      "text/plain": [
       "<Figure size 288x216 with 1 Axes>"
      ]
     },
     "metadata": {
      "needs_background": "light"
     },
     "output_type": "display_data"
    },
    {
     "data": {
      "image/png": "[encoded data removed]",
      "text/plain": [
       "<Figure size 288x216 with 1 Axes>"
      ]
     },
     "metadata": {
      "needs_background": "light"
     },
     "output_type": "display_data"
    },
    {
     "data": {
      "image/png": "[encoded data removed]",
      "text/plain": [
       "<Figure size 288x216 with 1 Axes>"
      ]
     },
     "metadata": {
      "needs_background": "light"
     },
     "output_type": "display_data"
    },
    {
     "data": {
      "image/png": "[encoded data removed]",
      "text/plain": [
       "<Figure size 288x216 with 1 Axes>"
      ]
     },
     "metadata": {
      "needs_background": "light"
     },
     "output_type": "display_data"
    },
    {
     "data": {
      "image/png": "[encoded data removed]",
      "text/plain": [
       "<Figure size 288x216 with 1 Axes>"
      ]
     },
     "metadata": {
      "needs_background": "light"
     },
     "output_type": "display_data"
    },
    {
     "data": {
      "image/png": "[encoded data removed]",
      "text/plain": [
       "<Figure size 288x216 with 1 Axes>"
      ]
     },
     "metadata": {
      "needs_background": "light"
     },
     "output_type": "display_data"
    },
    {
     "data": {
      "image/png": "[encoded data removed]",
      "text/plain": [
       "<Figure size 288x216 with 1 Axes>"
      ]
     },
     "metadata": {
      "needs_background": "light"
     },
     "output_type": "display_data"
    },
    {
     "data": {
      "image/png": "[encoded data removed]",
      "text/plain": [
       "<Figure size 288x216 with 1 Axes>"
      ]
     },
     "metadata": {
      "needs_background": "light"
     },
     "output_type": "display_data"
    },
    {
     "data": {
      "image/png": "[encoded data removed]",
      "text/plain": [
       "<Figure size 288x216 with 1 Axes>"
      ]
     },
     "metadata": {
      "needs_background": "light"
     },
     "output_type": "display_data"
    }
   ],
   "source": [
    "stumps.stump_plots(best_stump_model['features'], best_stump_model['coefs'])"
   ]
  },
  {
   "cell_type": "markdown",
   "metadata": {},
   "source": [
    "### Arnold PSA"
   ]
  },
  {
   "cell_type": "code",
   "execution_count": 22,
   "metadata": {},
   "outputs": [],
   "source": [
    "### load data\n",
    "data = pd.read_csv(\"~/Documents/Duke/Cynthia Research/KY-analysis-mytrials/KY Recidivism/KY data/kentucky_data.csv\")\n",
    "X_arnold_raw = data['nca_risk_score_raw'].values\n",
    "X_arnold_calc = data['nca_calc'].values\n",
    "Y_arnold = data['recid_six_month'].values"
   ]
  },
  {
   "cell_type": "code",
   "execution_count": 23,
   "metadata": {},
   "outputs": [],
   "source": [
    "## set up cross validation\n",
    "cv = KFold(n_splits=5,shuffle=True,random_state=816)\n",
    "raw_auc = []\n",
    "calc_auc = []\n",
    "\n",
    "## raw score\n",
    "i = 1\n",
    "for train, test in cv.split(X_arnold_raw, Y_arnold):\n",
    "    y_pred_raw, y_pred_calc, y_test = X_arnold_raw[test], X_arnold_calc[test], Y_arnold[test]\n",
    "    raw_auc.append(roc_auc_score(y_test, y_pred_raw))\n",
    "    calc_auc.append(roc_auc_score(y_test, y_pred_calc))\n",
    "    i+=1 "
   ]
  },
  {
   "cell_type": "markdown",
   "metadata": {},
   "source": [
    "## RiskSLIM"
   ]
  },
  {
   "cell_type": "code",
   "execution_count": 24,
   "metadata": {},
   "outputs": [],
   "source": [
    "## load stumps data\n",
    "data = pd.read_csv(\"~/Documents/Duke/Cynthia Research/KY-analysis-mytrials/KY Recidivism/KY data/kentucky_stumps.csv\")\n",
    "x, y = data.loc[:,:'current_violence>=1'], data['recid_six_month'].values\n",
    "cols = x.columns[3:]"
   ]
  },
  {
   "cell_type": "code",
   "execution_count": 25,
   "metadata": {},
   "outputs": [
    {
     "data": {
      "text/plain": [
       "28"
      ]
     },
     "execution_count": 25,
     "metadata": {},
     "output_type": "execute_result"
    }
   ],
   "source": [
    "## train on best param chosen by Lasso Stumps from above\n",
    "x_train = x.copy().drop(['race', 'person_id', 'screening_date'], axis=1)\n",
    "lasso = LogisticRegression(class_weight='balanced', solver='liblinear', penalty='l1', C=0.003, random_state=816).fit(x_train,y)\n",
    "selected_features = cols[lasso.coef_[0] != 0].tolist()\n",
    "len(selected_features)"
   ]
  },
  {
   "cell_type": "code",
   "execution_count": 26,
   "metadata": {},
   "outputs": [],
   "source": [
    "### Subset features\n",
    "if 'sex' in selected_features:\n",
    "    selected_features = ['recid_six_month', 'person_id', 'screening_date', 'race'] + selected_features\n",
    "    indicator = 1\n",
    "else:\n",
    "    selected_features = ['recid_six_month', 'person_id', 'screening_date', 'race', 'sex'] + selected_features\n",
    "    indicator = 0\n",
    "\n",
    "sub_data = data[selected_features]\n",
    "sub_X, sub_Y = sub_data.iloc[:,1:], sub_data.iloc[:,0].values\n",
    "sub_X.insert(0, '(Intercept)', 1)"
   ]
  },
  {
   "cell_type": "code",
   "execution_count": 27,
   "metadata": {
    "scrolled": true
   },
   "outputs": [
    {
     "name": "stdout",
     "output_type": "stream",
     "text": [
      "setting c0 = 0.0 to ensure that intercept is not penalized\n",
      "09/11/19 @ 04:07 PM | 1221 rows in lookup table\n",
      "09/11/19 @ 04:07 PM | ------------------------------------------------------------\n",
      "09/11/19 @ 04:07 PM | runnning initialization procedure\n",
      "09/11/19 @ 04:07 PM | ------------------------------------------------------------\n",
      "09/11/19 @ 04:07 PM | CPA produced 2 cuts\n",
      "09/11/19 @ 04:07 PM | running naive rounding on 71 solutions\n",
      "09/11/19 @ 04:07 PM | best objective value: 0.2540\n",
      "09/11/19 @ 04:07 PM | rounding produced 5 integer solutions\n",
      "09/11/19 @ 04:07 PM | best objective value is 0.2646\n",
      "09/11/19 @ 04:07 PM | running sequential rounding on 71 solutions\n",
      "09/11/19 @ 04:07 PM | best objective value: 0.2540\n",
      "09/11/19 @ 04:07 PM | sequential rounding produced 6 integer solutions\n",
      "09/11/19 @ 04:07 PM | best objective value: 0.2592\n",
      "09/11/19 @ 04:07 PM | polishing 11 solutions\n",
      "09/11/19 @ 04:07 PM | best objective value: 0.2592\n",
      "09/11/19 @ 04:07 PM | polishing produced 5 integer solutions\n",
      "09/11/19 @ 04:07 PM | initialization produced 9 feasible solutions\n",
      "09/11/19 @ 04:07 PM | best objective value: 0.2592\n",
      "09/11/19 @ 04:07 PM | ------------------------------------------------------------\n",
      "09/11/19 @ 04:07 PM | completed initialization procedure\n",
      "09/11/19 @ 04:07 PM | ------------------------------------------------------------\n",
      "09/11/19 @ 04:07 PM | 1221 rows in lookup table\n",
      "CPXPARAM_Read_DataCheck                          1\n",
      "CPXPARAM_Threads                                 1\n",
      "CPXPARAM_Parallel                                1\n",
      "CPXPARAM_RandomSeed                              0\n",
      "CPXPARAM_TimeLimit                               200\n",
      "CPXPARAM_MIP_Tolerances_LowerCutoff              0.25158921381591898\n",
      "CPXPARAM_MIP_Tolerances_UpperCutoff              0.25924100550824286\n"
     ]
    },
    {
     "name": "stderr",
     "output_type": "stream",
     "text": [
      "Warning: Control callbacks may disable some MIP features.\n"
     ]
    },
    {
     "name": "stdout",
     "output_type": "stream",
     "text": [
      "Lazy constraint(s) or lazy constraint callback is present.\n",
      "    Disabling dual reductions (CPX_PARAM_REDUCE) in presolve.\n",
      "    Disabling non-linear reductions (CPX_PARAM_PRELINEAR) in presolve.\n",
      "         Disabling repeat represolve because of lazy constraint/incumbent callback.\n",
      "09/11/19 @ 04:07 PM | adding 250 initial cuts\n",
      "1 of 1 MIP starts provided solutions.\n",
      "MIP start 'mip_start_0' defined initial solution with objective 0.2592.\n",
      "Tried aggregator 1 time.\n",
      "Reduced MIP has 30 rows, 60 columns, and 115 nonzeros.\n",
      "Reduced MIP has 28 binaries, 30 generals, 0 SOSs, and 0 indicators.\n",
      "Presolve time = 0.00 sec. (0.06 ticks)\n",
      "Probing time = 0.00 sec. (0.02 ticks)\n",
      "MIP emphasis: balance optimality and feasibility.\n",
      "MIP search method: traditional branch-and-cut.\n",
      "Parallel mode: none, using 1 thread.\n",
      "Root relaxation solution time = 0.00 sec. (0.04 ticks)\n",
      "\n",
      "        Nodes                                         Cuts/\n",
      "   Node  Left     Objective  IInf  Best Integer    Best Bound    ItCnt     Gap         Variable B NodeID Parent  Depth\n",
      "\n",
      "*     0+    0                            0.2592        0.2515             2.99%\n",
      "      0     0        0.2516     1        0.2592        0.2516        1    2.95%\n",
      "      0     0        0.2516     3        0.2592      Fract: 1        2    2.95%\n",
      "      0     0        0.2516     5        0.2592    MIRcuts: 1        9    2.95%\n",
      "      0     2        0.2516     6        0.2592        0.2516        9    2.95%                        0             0\n",
      "Elapsed time = 0.09 sec. (2.41 ticks, tree = 0.01 MB, solutions = 1)\n",
      "   2351   939        0.2516     5        0.2592        0.2516     8222    2.95%          rho_19 D   2351   2350     15\n",
      "   3780  1994        0.2590     0        0.2592        0.2516    13221    2.95%           rho_2 U   3780   3778    104\n",
      "   4957  2627        0.2525     8        0.2592        0.2516    18192    2.95%           rho_0 D   4957   4955     43\n",
      "   6074  3015        0.2516     4        0.2592        0.2516    22631    2.95%          rho_11 U   6074   5888     30\n",
      "   7139  3390        0.2545     5        0.2592        0.2516    27023    2.95%          rho_11 D   7139   7138     72\n",
      "   8184  3727        cutoff              0.2592        0.2516    31115    2.95%          rho_11 U   8184   8183     95\n",
      "   9268  4143        0.2516    10        0.2592        0.2516    35778    2.95%           rho_0 D   9268   9266     32\n",
      "  10115  4551        0.2569     7        0.2592        0.2516    40197    2.95%          rho_10 D  10115  10113     20\n",
      "  11020  5082        0.2519     7        0.2592        0.2516    43920    2.95%           rho_0 D  11020  11018     57\n",
      "  14359  6794        0.2588     8        0.2592        0.2516    58238    2.95%           rho_0 D  14359  14357     40\n",
      "Elapsed time = 3.28 sec. (3103.62 ticks, tree = 1.92 MB, solutions = 1)\n",
      "  17107  7575        0.2516     6        0.2592        0.2516    73598    2.95%           rho_3 D  17107  17106     27\n",
      "  20282  9100        0.2578     3        0.2592        0.2516    87882    2.95%          rho_27 D  20282  20280     69\n",
      "  22931 10257        0.2516     1        0.2592        0.2516   101344    2.95%          rho_11 U  22931  22929     86\n",
      "  25463 11559        0.2571     5        0.2592        0.2516   115698    2.95%          rho_24 D  25463  25461     36\n",
      "  28035 12620        0.2529    10        0.2592        0.2516   128037    2.95%           rho_0 D  28035  28033     24\n",
      "  30434 13825        cutoff              0.2592        0.2516   140456    2.95%          rho_14 D  30434  30433     28\n",
      "  32685 14982        cutoff              0.2592        0.2516   153146    2.95%           rho_0 U  32685  32684     64\n",
      "  34820 16053        0.2526     8        0.2592        0.2516   168101    2.95%           rho_0 U  34820  34819     56\n",
      "  36943 17111        0.2516     5        0.2592        0.2516   179673    2.95%          rho_11 U  36943  36941     48\n",
      "  38950 18399        0.2552    11        0.2592        0.2516   190845    2.95%          rho_11 D  38950  38949     33\n",
      "Elapsed time = 9.63 sec. (12643.77 ticks, tree = 6.10 MB, solutions = 1)\n",
      "  40970 19268        0.2516     1        0.2592        0.2516   201660    2.95%          rho_11 U  40970  40968     77\n",
      "  42930 20301        0.2527     5        0.2592        0.2516   213995    2.95%           rho_0 U  42930  42929     31\n",
      "  44784 21392        cutoff              0.2592        0.2516   225537    2.95%           rho_4 U  44784  44783     10\n",
      "  46739 22223        0.2516     1        0.2592        0.2516   234755    2.95%          rho_11 U  46739  46737     72\n",
      "  49036 23196        0.2516     5        0.2592        0.2516   247038    2.95%          rho_11 U  49036  49034     31\n",
      "  51299 23909        0.2516     5        0.2592        0.2516   258927    2.95%           rho_0 D  51299  51297     87\n",
      "  53459 24667        0.2537     3        0.2592        0.2516   270790    2.95%           rho_4 N  53459  53458     79\n",
      "  55537 25737        0.2525    13        0.2592        0.2516   282887    2.95%           rho_0 D  55537  31614     42\n",
      "  57752 26577        0.2516     6        0.2592        0.2516   294301    2.95%           rho_0 D  57752  57737     63\n",
      "  60084 27295        0.2516     1        0.2592        0.2516   303827    2.95%          rho_11 U  60084  60068     45\n",
      "Elapsed time = 14.89 sec. (22184.83 ticks, tree = 8.60 MB, solutions = 1)\n",
      "  62379 28130        0.2516     5        0.2592        0.2516   313600    2.95%           rho_0 D  62379  62377     82\n",
      "  64467 29062        0.2516     1        0.2592        0.2516   325057    2.95%          rho_11 U  64467  64465     34\n",
      "  66650 30301        0.2550     7        0.2592        0.2516   338606    2.95%          rho_10 N  66650  66649     38\n",
      "  68654 31193        0.2553     7        0.2592        0.2516   350241    2.95%           rho_9 D  68654  68653     87\n",
      "  70675 32285        0.2516     6        0.2592        0.2516   361793    2.95%           rho_0 D  70675  70673     74\n",
      "  72496 33284        0.2552     7        0.2592        0.2516   372625    2.95%          rho_12 D  72496  72493     60\n",
      "  74152 34243        0.2548    14        0.2592        0.2516   382851    2.95%          rho_11 U  74152  74150     19\n",
      "  75921 35053        cutoff              0.2592        0.2516   391411    2.95%          rho_28 U  75921  75920     48\n",
      "  78004 35872        0.2581     7        0.2592        0.2516   402858    2.95%          rho_14 D  78004  78003     34\n",
      "  79828 36903        0.2523     8        0.2592        0.2516   417129    2.95%           rho_0 D  79828  79826     44\n",
      "Elapsed time = 19.69 sec. (31723.49 ticks, tree = 12.78 MB, solutions = 1)\n",
      "  81757 37759        0.2516     1        0.2592        0.2516   428744    2.95%          rho_11 U  81757  81756     50\n",
      "  83760 38614        0.2532    11        0.2592        0.2516   440603    2.95%           rho_4 D  83760  83759     57\n",
      "  85519 39319        0.2524    15        0.2592        0.2516   452461    2.95%          rho_11 D  85519  85518     66\n",
      "  87078 40092        cutoff              0.2592        0.2516   466526    2.95%           rho_8 U  87078  87077     23\n",
      "  88761 41026        cutoff              0.2592        0.2516   479417    2.95%          rho_24 D  88761  88760     67\n",
      "  90400 41752        0.2556     8        0.2592        0.2516   491234    2.95%           rho_6 U  90400  90398     60\n",
      "  91949 42470        0.2542    10        0.2592        0.2516   503691    2.95%          rho_11 U  91949  91947     21\n",
      "  93719 43290        0.2532    11        0.2592        0.2516   514351    2.95%          rho_12 D  93719  93718     33\n",
      "  95534 44016        0.2516     1        0.2592        0.2516   524293    2.95%          rho_11 U  95534  95532     66\n",
      "  97422 44835        0.2516     1        0.2592        0.2516   533533    2.95%          rho_11 U  97422  97420     46\n",
      "Elapsed time = 24.58 sec. (41262.96 ticks, tree = 15.08 MB, solutions = 1)\n",
      "  99268 45629        0.2523     9        0.2592        0.2516   543753    2.95%          rho_11 D  99268  99267     66\n",
      " 101007 46294        0.2516     9        0.2592        0.2516   555277    2.95%          rho_11 U 101007 101005     43\n",
      " 102811 46965        0.2572     5        0.2592        0.2516   565340    2.95%          rho_10 U 102811 102810     54\n",
      " 104815 47398        0.2565     5        0.2592        0.2516   573497    2.95%          rho_26 D 104815 104814     45\n",
      " 106793 47809        0.2516     8        0.2592        0.2516   581589    2.95%           rho_0 D 106793 106775     86\n",
      " 108852 48232        cutoff              0.2592        0.2516   589541    2.95%          rho_12 U 108852 108851     65\n",
      " 110946 48670        cutoff              0.2592        0.2516   597638    2.95%          rho_26 U 110946 110945     67\n",
      " 112999 49096        0.2589     7        0.2592        0.2516   605675    2.95%          rho_19 D 112999 112997     99\n",
      " 114884 49645        0.2523    11        0.2592        0.2516   614220    2.95%           rho_9 D 114884  89257     24\n",
      " 116390 50380        0.2516     7        0.2592        0.2516   625878    2.95%           rho_0 D 116390 116388     32\n",
      "Elapsed time = 29.09 sec. (50803.10 ticks, tree = 16.73 MB, solutions = 1)\n",
      " 117875 50962        0.2516     2        0.2592        0.2516   638090    2.95%          rho_11 U 117875 117865     65\n",
      " 119321 51606        0.2524    22        0.2592        0.2516   649574    2.95%          rho_11 U 119321 119319     51\n",
      " 120784 52493        0.2580     5        0.2592        0.2516   662322    2.95%           rho_8 D 120784 120782     83\n",
      " 122105 53341        0.2516     7        0.2592        0.2516   676298    2.95%           rho_0 U 122105 122104     60\n",
      " 123620 54027        0.2516    12        0.2592        0.2516   686998    2.95%           rho_0 D 123620 123618     53\n",
      " 125050 54798        cutoff              0.2592        0.2516   697187    2.95%           rho_6 U 125050 125048     80\n",
      " 126514 55560        0.2568    12        0.2592        0.2516   706843    2.95%           rho_2 U 126514 126512     65\n",
      " 128070 56244        0.2530    11        0.2592        0.2516   716134    2.95%          rho_17 D 128070 128068     61\n",
      " 129754 57395        0.2516     8        0.2592        0.2516   726910    2.95%           rho_0 D 129754 129752     62\n",
      " 131187 58526        0.2516     9        0.2592        0.2516   736870    2.95%           rho_0 D 131187 131185     43\n",
      "Elapsed time = 34.48 sec. (60344.73 ticks, tree = 19.16 MB, solutions = 1)\n",
      " 132400 59371        0.2578     7        0.2592        0.2516   749672    2.95%           rho_0 U 132400 132399     72\n",
      " 133701 60219        0.2516     9        0.2592        0.2516   761665    2.95%           rho_0 D 133701 133699     55\n",
      " 134964 61103        0.2519    13        0.2592        0.2516   773726    2.95%          rho_11 D 134964 134963     66\n",
      " 136278 61906        0.2552     5        0.2592        0.2516   783752    2.95%          rho_26 D 136278 136277     54\n",
      " 137635 62668        0.2518    22        0.2592        0.2516   794127    2.95%          rho_11 U 137635 137633     22\n",
      " 138842 63604        0.2527     9        0.2592        0.2516   806266    2.95%           rho_0 U 138842 138840     87\n",
      " 140111 64347        0.2516     9        0.2592        0.2516   817978    2.95%           rho_3 U 140111 140109     41\n",
      " 141160 65055        0.2516     9        0.2592        0.2516   832404    2.95%           rho_0 D 141160 141158     73\n",
      " 142173 65821        0.2546    10        0.2592        0.2516   847218    2.95%           rho_3 U 142173 142171     28\n",
      " 143526 66569        0.2516     9        0.2592        0.2516   858427    2.95%           rho_0 D 143526 143524     59\n",
      "Elapsed time = 39.05 sec. (69887.70 ticks, tree = 24.40 MB, solutions = 1)\n",
      " 144820 67305        0.2518    11        0.2592        0.2516   871070    2.95%          rho_11 D 144820 144819     83\n",
      "*145433 67392      integral     0        0.2592        0.2516   875189    2.95%\n",
      " 146209 67703        0.2516    10        0.2592        0.2516   880761    2.95%           rho_0 D 146209 146207     82\n",
      " 147438 68525        0.2543    17        0.2592        0.2516   892081    2.95%          rho_16 U 147438   9166     10\n",
      " 148781 69272        0.2541    10        0.2592        0.2516   901321    2.95%          rho_11 U 148781 148779     19\n",
      " 150195 70002        0.2555     5        0.2592        0.2516   910414    2.95%          rho_20 D 150195 150194     43\n",
      " 151726 70532        0.2563     3        0.2592        0.2516   918743    2.95%           rho_0 U 151726 151725     46\n",
      " 153623 71158        0.2552     5        0.2592        0.2516   929255    2.95%          rho_13 U 153623 153622     62\n",
      " 155558 71758        0.2550     5        0.2592        0.2516   939172    2.95%           rho_0 U 155558 155557     56\n",
      " 157520 72366        0.2518    13        0.2592        0.2516   949135    2.95%          rho_11 D 157520 157519     37\n",
      " 159077 73131        cutoff              0.2592        0.2516   964189    2.95%           rho_0 U 159077 159076     51\n",
      "Elapsed time = 43.50 sec. (79429.03 ticks, tree = 26.42 MB, solutions = 2)\n",
      " 160945 73958        0.2516     5        0.2592        0.2516   974932    2.95%          rho_11 U 160945 160943     61\n",
      " 162938 74620        cutoff              0.2592        0.2516   984073    2.95%           rho_1 U 162938 162936     82\n",
      " 164964 75304        cutoff              0.2592        0.2516   993055    2.95%          rho_26 U 164964 164963    101\n",
      " 166799 76029        0.2516    11        0.2592        0.2516  1001585    2.95%           rho_0 D 166799 166743     81\n",
      " 168635 76773        0.2573     8        0.2592        0.2516  1010340    2.95%           rho_1 U 168635 168633     65\n",
      " 170492 77515        cutoff              0.2592        0.2516  1019066    2.95%          rho_26 U 170492 170491     59\n",
      " 172350 78285        0.2534    12        0.2592        0.2516  1028495    2.95%          rho_11 D 172350 172349     53\n",
      " 174325 79063        0.2566     3        0.2592        0.2516  1038527    2.95%          rho_12 U 174325 174324     89\n",
      " 176326 79823        0.2545     7        0.2592        0.2516  1048226    2.95%          rho_19 D 176326 176325     71\n",
      " 182861 82679        cutoff              0.2592        0.2516  1091501    2.95%          rho_14 U 182861 182860     73\n",
      "Elapsed time = 49.06 sec. (91830.25 ticks, tree = 29.27 MB, solutions = 2)\n",
      " 188178 85623        0.2552    14        0.2592        0.2516  1142801    2.95%          rho_19 U 188178  39820     17\n",
      " 194260 88550        0.2549     8        0.2592        0.2516  1180088    2.95%           rho_0 D 194260 194258     43\n",
      " 200044 91686        0.2585     3        0.2592        0.2516  1219680    2.95%          rho_27 D 200044 200042     39\n",
      " 205422 94742        0.2525    13        0.2592        0.2516  1270779    2.95%           rho_0 U 205422 205421     58\n",
      " 211045 97336        0.2516    12        0.2592        0.2516  1308396    2.95%           rho_0 D 211045 211043     33\n",
      " 217522 100496        0.2516    11        0.2592        0.2516  1349090    2.95%           rho_0 D 217522 217520     47\n",
      " 222811 103119        cutoff              0.2592        0.2516  1393162    2.95%          rho_24 D 222811 222810     93\n",
      " 227861 105849        0.2553    12        0.2592        0.2516  1434166    2.95%           rho_1 U 227861 227859     66\n",
      " 234002 108202        0.2541     6        0.2592        0.2516  1473991    2.95%          rho_12 N 234002 233677     62\n",
      " 240196 110444        0.2516     9        0.2592        0.2516  1514825    2.95%           rho_0 D 240196 240194     56\n",
      "Elapsed time = 75.14 sec. (129983.24 ticks, tree = 37.81 MB, solutions = 2)\n",
      " 244277 113464        0.2572     7        0.2592        0.2516  1568024    2.95%          rho_28 U 244277 244276     84\n",
      " 248774 116251        0.2527    13        0.2592        0.2516  1614349    2.95%           rho_8 D 248774 248773     55\n",
      " 253535 118354        0.2516    12        0.2592        0.2516  1658436    2.95%           rho_0 D 253535 253533     47\n",
      " 259326 120902        0.2562     3        0.2592        0.2516  1707272    2.95%          rho_18 U 259326 259052     51\n",
      " 265772 123851        0.2551     7        0.2592        0.2516  1742246    2.95%          rho_12 D 265772 265771     36\n",
      " 272408 125684        0.2588    13        0.2592        0.2516  1770298    2.95%          rho_10 N 272408 272407     69\n",
      " 279076 127376        0.2575    11        0.2592        0.2516  1797439    2.95%           rho_6 D 279076 279074     51\n",
      " 285135 129402        cutoff              0.2592        0.2516  1833560    2.95%          rho_20 U 285135 285134     67\n",
      " 291353 130684        cutoff              0.2592        0.2516  1866327    2.95%           rho_0 U 291353 291352     57\n",
      " 297177 133104        0.2531    13        0.2592        0.2516  1905936    2.95%          rho_19 D 297177 297176     32\n",
      "Elapsed time = 106.98 sec. (168132.96 ticks, tree = 47.87 MB, solutions = 2)\n",
      " 302870 135799        0.2516    11        0.2592        0.2516  1947299    2.95%          rho_11 U 302870 302868     87\n",
      " 307516 138281        0.2555     8        0.2592        0.2516  1984602    2.95%          rho_26 U 307516 255831     83\n",
      " 313538 140884        0.2516    11        0.2592        0.2516  2023400    2.95%           rho_3 U 313538 313536     22\n",
      " 319754 143963        0.2523     9        0.2592        0.2516  2057937    2.95%          rho_12 D 319754 319752     22\n",
      " 325420 145973        0.2573     5        0.2592        0.2516  2098821    2.95%          rho_12 D 325420 325419     75\n",
      " 330799 148253        0.2516    12        0.2592        0.2516  2140872    2.95%           rho_0 D 330799 330797     33\n",
      " 335574 150452        0.2516     8        0.2592        0.2516  2186586    2.95%          rho_11 U 335574 335567     55\n",
      " 340522 152998        0.2533    13        0.2592        0.2516  2231294    2.95%          rho_12 U 340522 340521     41\n",
      " 344839 155312        0.2516    12        0.2592        0.2516  2274534    2.95%           rho_0 D 344839 344837     59\n",
      " 350505 157728        0.2555     8        0.2592        0.2516  2315601    2.95%           rho_3 U 350505 350504     46\n",
      "Elapsed time = 140.27 sec. (206285.79 ticks, tree = 57.32 MB, solutions = 2)\n",
      " 354478 160051        0.2526    13        0.2592        0.2516  2363061    2.95%           rho_0 U 354478 354477     52\n",
      " 358580 162321        0.2516    14        0.2592        0.2516  2405632    2.95%           rho_0 D 358580 358578     24\n",
      " 363543 164596        0.2516    14        0.2592        0.2516  2441652    2.95%           rho_0 D 363543 363435     35\n",
      " 369733 167508        0.2550    12        0.2592        0.2516  2482900    2.95%           rho_0 U 369733 369731     55\n",
      "*372493 164192      integral     0        0.2585        0.2516  2496477    2.69%\n",
      " 374500 165508        0.2531    11        0.2585        0.2516  2520766    2.69%          rho_26 D 374500 374499     41\n",
      " 379020 168110        0.2516    14        0.2585        0.2516  2560088    2.69%          rho_11 D 379020 379019     59\n",
      " 384982 170574        0.2553     5        0.2585        0.2516  2593473    2.69%           rho_0 N 384982 384981     80\n",
      " 391784 172999        0.2516    11        0.2585        0.2516  2624958    2.69%           rho_0 D 391784 391782     54\n",
      " 397514 175542        0.2537     9        0.2585        0.2516  2661340    2.69%           rho_2 D 397514 397512     29\n",
      " 402929 178192        0.2517    15        0.2585        0.2516  2701737    2.69%           rho_0 U 402929 402620     46\n",
      "Elapsed time = 174.63 sec. (244442.08 ticks, tree = 63.92 MB, solutions = 3)\n",
      " 408197 180880        0.2548    12        0.2585        0.2516  2738726    2.69%           rho_8 U 408197 408196     93\n",
      " 412711 183240        cutoff              0.2585        0.2516  2772165    2.69%          rho_20 D 412711 412709     87\n",
      " 418117 185358        cutoff              0.2585        0.2516  2805164    2.69%           rho_0 U 418117 418116     51\n",
      " 423680 187701        0.2516     7        0.2585        0.2516  2839820    2.69%           rho_0 D 423680 423678     25\n",
      " 429466 189889        0.2522     9        0.2585        0.2516  2874167    2.69%          rho_11 D 429466 429465     38\n",
      " 434199 192713        0.2516    10        0.2585        0.2516  2916597    2.69%          rho_11 U 434199 434197     88\n",
      " 439292 194725        0.2583     7        0.2585        0.2516  2948944    2.69%           rho_9 N 439292 439291     44\n",
      "\n",
      "Mixed integer rounding cuts applied:  1\n",
      "User cuts applied:  914\n",
      "\n",
      "Root node processing (before b&c):\n",
      "  Real time             =    0.11 sec. (2.49 ticks)\n",
      "Sequential b&c:\n",
      "  Real time             =  199.92 sec. (271638.64 ticks)\n",
      "                          ------------\n",
      "Total (root+branch&cut) =  200.03 sec. (271641.13 ticks)\n",
      "+-----------------------------------------------+-------------------+-----------+\n",
      "| Pr(Y = +1) = 1.0/(1.0 + exp(-(-25 + score))   |                   |           |\n",
      "| ============================================= | ================= | ========= |\n",
      "| p_charges>=1                                  |         19 points |   + ..... |\n",
      "| p_arrest>=1                                   |          2 points |   + ..... |\n",
      "| p_arrest>=2                                   |          1 points |   + ..... |\n",
      "| p_arrest>=4                                   |          1 points |   + ..... |\n",
      "| p_arrest>=8                                   |          1 points |   + ..... |\n",
      "| p_felony>=1                                   |          1 points |   + ..... |\n",
      "| ============================================= | ================= | ========= |\n",
      "| ADD POINTS FROM ROWS 1 to 6                   |             SCORE |   = ..... |\n",
      "+-----------------------------------------------+-------------------+-----------+\n",
      "model_id, score_thresholds 0 {'rank_abs': [0]}\n",
      "get_disparity_predefined_group()\n",
      "setting c0 = 0.0 to ensure that intercept is not penalized\n",
      "09/11/19 @ 04:11 PM | 1221 rows in lookup table\n",
      "09/11/19 @ 04:11 PM | ------------------------------------------------------------\n",
      "09/11/19 @ 04:11 PM | runnning initialization procedure\n",
      "09/11/19 @ 04:11 PM | ------------------------------------------------------------\n",
      "09/11/19 @ 04:11 PM | CPA produced 2 cuts\n",
      "09/11/19 @ 04:11 PM | running naive rounding on 72 solutions\n",
      "09/11/19 @ 04:11 PM | best objective value: 0.2540\n",
      "09/11/19 @ 04:11 PM | rounding produced 5 integer solutions\n",
      "09/11/19 @ 04:11 PM | best objective value is 0.2614\n",
      "09/11/19 @ 04:11 PM | running sequential rounding on 72 solutions\n",
      "09/11/19 @ 04:11 PM | best objective value: 0.2540\n",
      "09/11/19 @ 04:11 PM | sequential rounding produced 6 integer solutions\n",
      "09/11/19 @ 04:11 PM | best objective value: 0.2594\n",
      "09/11/19 @ 04:11 PM | polishing 11 solutions\n",
      "09/11/19 @ 04:11 PM | best objective value: 0.2594\n",
      "09/11/19 @ 04:11 PM | polishing produced 5 integer solutions\n",
      "09/11/19 @ 04:11 PM | initialization produced 11 feasible solutions\n",
      "09/11/19 @ 04:11 PM | best objective value: 0.2594\n",
      "09/11/19 @ 04:11 PM | ------------------------------------------------------------\n",
      "09/11/19 @ 04:11 PM | completed initialization procedure\n",
      "09/11/19 @ 04:11 PM | ------------------------------------------------------------\n",
      "09/11/19 @ 04:11 PM | 1221 rows in lookup table\n",
      "CPXPARAM_Read_DataCheck                          1\n",
      "CPXPARAM_Threads                                 1\n",
      "CPXPARAM_Parallel                                1\n",
      "CPXPARAM_RandomSeed                              0\n",
      "CPXPARAM_TimeLimit                               200\n",
      "CPXPARAM_MIP_Tolerances_LowerCutoff              0.25190680589500491\n",
      "CPXPARAM_MIP_Tolerances_UpperCutoff              0.25937475533947413\n"
     ]
    },
    {
     "name": "stderr",
     "output_type": "stream",
     "text": [
      "Warning: Control callbacks may disable some MIP features.\n"
     ]
    },
    {
     "name": "stdout",
     "output_type": "stream",
     "text": [
      "Lazy constraint(s) or lazy constraint callback is present.\n",
      "    Disabling dual reductions (CPX_PARAM_REDUCE) in presolve.\n",
      "    Disabling non-linear reductions (CPX_PARAM_PRELINEAR) in presolve.\n",
      "         Disabling repeat represolve because of lazy constraint/incumbent callback.\n",
      "09/11/19 @ 04:11 PM | adding 251 initial cuts\n",
      "1 of 1 MIP starts provided solutions.\n",
      "MIP start 'mip_start_0' defined initial solution with objective 0.2594.\n",
      "Tried aggregator 1 time.\n",
      "Reduced MIP has 30 rows, 60 columns, and 115 nonzeros.\n",
      "Reduced MIP has 28 binaries, 30 generals, 0 SOSs, and 0 indicators.\n",
      "Presolve time = 0.00 sec. (0.06 ticks)\n",
      "Probing time = 0.00 sec. (0.02 ticks)\n",
      "MIP emphasis: balance optimality and feasibility.\n",
      "MIP search method: traditional branch-and-cut.\n",
      "Parallel mode: none, using 1 thread.\n",
      "Root relaxation solution time = 0.00 sec. (0.04 ticks)\n",
      "\n",
      "        Nodes                                         Cuts/\n",
      "   Node  Left     Objective  IInf  Best Integer    Best Bound    ItCnt     Gap         Variable B NodeID Parent  Depth\n",
      "\n",
      "*     0+    0                            0.2594        0.2518             2.92%\n",
      "      0     0        0.2519     1        0.2594        0.2519        1    2.88%\n",
      "      0     0        0.2519     3        0.2594      Fract: 1        2    2.88%\n",
      "      0     0        0.2519     5        0.2594    MIRcuts: 1        9    2.88%\n",
      "      0     2        0.2519     4        0.2594        0.2519        9    2.88%                        0             0\n",
      "Elapsed time = 0.11 sec. (2.33 ticks, tree = 0.01 MB, solutions = 1)\n",
      "   1790   648        0.2557     6        0.2594        0.2519     7397    2.88%           rho_3 D   1790   1788     20\n",
      "   2790  1009        0.2550     6        0.2594        0.2519    11910    2.88%          rho_26 D   2790   2789     26\n",
      "   3627  1253        0.2519     5        0.2594        0.2519    16101    2.88%           rho_0 D   3627   3625     32\n",
      "   4505  1458        cutoff              0.2594        0.2519    19631    2.88%          rho_12 U   4505   4504     23\n",
      "   5241  1654        0.2583     9        0.2594        0.2519    22576    2.88%          rho_14 D   5241   5239     76\n",
      "   6037  1901        0.2519     4        0.2594        0.2519    25684    2.88%           rho_0 D   6037   6035     86\n",
      "   6835  2166        0.2583     9        0.2594        0.2519    28836    2.88%          rho_14 D   6835   6833     39\n",
      "   7607  2431        cutoff              0.2594        0.2519    32033    2.88%           rho_0 U   7607   7606     81\n",
      "   8390  2694        0.2528     5        0.2594        0.2519    35614    2.88%          rho_11 D   8390   8389     64\n",
      "  11460  3789        0.2519     5        0.2594        0.2519    51561    2.88%          rho_11 U  11460  11458     68\n",
      "Elapsed time = 4.95 sec. (3105.17 ticks, tree = 1.11 MB, solutions = 1)\n",
      "  14221  4829        cutoff              0.2594        0.2519    66528    2.88%          rho_21 D  14221  14220     32\n",
      "  16537  5863        0.2526    11        0.2594        0.2519    79506    2.88%           rho_4 D  16537  16535     26\n",
      "  19134  6344        0.2575     7        0.2594        0.2519    90667    2.88%          rho_26 D  19134  19132     44\n",
      "  21807  6677        0.2573     5        0.2594        0.2519   100359    2.88%           rho_4 D  21807  21805     63\n",
      "  24545  6962        cutoff              0.2594        0.2519   109803    2.88%          rho_17 U  24545  24544     72\n",
      "  27055  7676        0.2519    18        0.2594        0.2519   120321    2.88%           rho_6 U  27055  26742      9\n",
      "* 27069  7452      integral     0        0.2587        0.2519   120376    2.64%\n",
      "  29196  8278        0.2519     2        0.2587        0.2519   130861    2.64%          rho_11 U  29196  29194     46\n",
      "  31320  9145        0.2539     7        0.2587        0.2519   145566    2.64%          rho_12 D  31320  31319     39\n",
      "  33474  9958        0.2558     9        0.2587        0.2519   159936    2.64%           rho_0 U  33474  33473     28\n",
      "  35505 10572        cutoff              0.2587        0.2519   171885    2.64%          rho_17 U  35505  35504     54\n",
      "Elapsed time = 16.59 sec. (12645.20 ticks, tree = 3.48 MB, solutions = 2)\n",
      "  37511 11502        0.2519     7        0.2587        0.2519   184378    2.64%           rho_0 D  37511  37503     49\n",
      "  39441 12252        0.2519     6        0.2587        0.2519   198061    2.64%          rho_11 U  39441  39425     62\n",
      "  41417 12956        0.2530    13        0.2587        0.2519   211122    2.64%          rho_12 D  41417  41416     76\n",
      "  43485 13407        0.2546     7        0.2587        0.2519   221856    2.64%          rho_28 D  43485  43483     79\n",
      "  45797 13882        0.2519     7        0.2587        0.2519   231639    2.64%           rho_0 D  45797  45795     31\n",
      "  47585 14678        0.2556     5        0.2587        0.2519   245633    2.64%          rho_24 D  47585  47583     37\n",
      "  49643 15348        0.2554     5        0.2587        0.2519   256021    2.64%          rho_24 N  49643  49642     55\n",
      "  51785 16135        0.2519     5        0.2587        0.2519   266560    2.64%           rho_0 D  51785  51783     50\n",
      "  53795 16765        0.2525    20        0.2587        0.2519   278294    2.64%           rho_0 D  53795  53793     34\n",
      "  55540 17521        0.2556     9        0.2587        0.2519   291207    2.64%           rho_4 D  55540  55537     75\n",
      "Elapsed time = 26.28 sec. (22184.83 ticks, tree = 6.14 MB, solutions = 2)\n",
      "  57374 18301        0.2519     7        0.2587        0.2519   303775    2.64%          rho_11 U  57374  57372     83\n",
      "  59235 19047        0.2519     7        0.2587        0.2519   315917    2.64%           rho_3 U  59235  59207     31\n",
      "  61119 19830        0.2535    11        0.2587        0.2519   329475    2.64%          rho_12 D  61119  61118     43\n",
      "  63013 20495        0.2581     4        0.2587        0.2519   341448    2.64%          rho_13 D  63013  63011     42\n",
      "  64926 21133        cutoff              0.2587        0.2519   352856    2.64%          rho_18 U  64926  64925     53\n",
      "  66988 21636        0.2519     8        0.2587        0.2519   363388    2.64%          rho_11 U  66988  66479     77\n",
      "  68850 22659        0.2566     5        0.2587        0.2519   374294    2.64%          rho_18 D  68850  68849     58\n",
      "* 69000+22687                            0.2587        0.2519             2.63%\n",
      "  70685 23370        0.2519     5        0.2587        0.2519   386610    2.63%          rho_11 U  70685  70683     63\n",
      "  72400 23999        0.2566     9        0.2587        0.2519   400110    2.63%          rho_26 D  72400  72398     25\n",
      "  74311 24364        0.2576     5        0.2587        0.2519   412414    2.63%          rho_24 U  74311  74309     42\n",
      "Elapsed time = 36.26 sec. (31726.72 ticks, tree = 8.13 MB, solutions = 3)\n",
      "  76240 24716        0.2546     9        0.2587        0.2519   424688    2.63%           rho_6 D  76240  76239     78\n",
      "  78151 25055        0.2535    11        0.2587        0.2519   436833    2.63%          rho_11 D  78151  78150     72\n",
      "  80010 25446        0.2567     7        0.2587        0.2519   448890    2.63%          rho_12 N  80010  80009     25\n",
      "  82085 25958        0.2559     7        0.2587        0.2519   459755    2.63%          rho_13 D  82085  82084     59\n",
      "  83911 26617        0.2557     8        0.2587        0.2519   472172    2.63%           rho_0 D  83911  83908     25\n",
      "  85930 27379        cutoff              0.2587        0.2519   485035    2.63%          rho_20 U  85930  85928     83\n",
      "  87998 28153        0.2519     4        0.2587        0.2519   497748    2.63%          rho_11 U  87998  87824     69\n",
      "  89986 28974        0.2568     7        0.2587        0.2519   510282    2.63%          rho_18 D  89986  89984     25\n",
      "  92020 29966        0.2519     8        0.2587        0.2519   520953    2.63%          rho_11 U  92020  92018     40\n",
      "  94061 31240        0.2519     8        0.2587        0.2519   532355    2.63%          rho_11 U  94061  94059     74\n",
      "Elapsed time = 44.70 sec. (41266.95 ticks, tree = 10.15 MB, solutions = 3)\n",
      "  95549 32312        0.2523    13        0.2587        0.2519   543495    2.63%          rho_11 D  95549  95548     60\n",
      "  97000 33174        0.2519     8        0.2587        0.2519   555958    2.63%          rho_11 U  97000  96998     61\n",
      "  98620 33902        0.2572    10        0.2587        0.2519   566361    2.63%          rho_28 D  98620  98619     75\n",
      " 100607 34563        0.2519     8        0.2587        0.2519   577403    2.63%          rho_11 U 100607 100597     75\n",
      " 102817 35507        0.2519    10        0.2587        0.2519   587893    2.63%           rho_2 D 102817 102796     21\n",
      " 104765 36212        0.2573     8        0.2587        0.2519   599306    2.63%           rho_1 D 104765 104764     30\n",
      " 106464 37048        0.2528    12        0.2587        0.2519   611909    2.63%          rho_11 D 106464 106463     55\n",
      " 108240 37818        0.2566     8        0.2587        0.2519   623934    2.63%           rho_3 U 108240 108238     76\n",
      " 110091 38519        0.2520     5        0.2587        0.2519   634856    2.63%           rho_0 U 110091 110090     62\n",
      " 111844 39315        0.2519    12        0.2587        0.2519   648112    2.63%          rho_11 D 111844 111843     78\n",
      "Elapsed time = 52.47 sec. (50807.12 ticks, tree = 13.84 MB, solutions = 3)\n",
      " 113612 40054        0.2541     9        0.2587        0.2519   660775    2.63%          rho_18 D 113612 113611     16\n",
      " 115456 40853        0.2519    10        0.2587        0.2519   670719    2.63%           rho_0 D 115456 115452     26\n",
      " 117412 41432        0.2519     5        0.2587        0.2519   680743    2.63%          rho_11 U 117412 117410     43\n",
      " 119312 41932        0.2542     7        0.2587        0.2519   690835    2.63%           rho_0 U 119312 119311     82\n",
      " 121248 42560        0.2550     3        0.2587        0.2519   700141    2.63%           rho_0 U 121248 121247     52\n",
      " 123021 43367        0.2539    10        0.2587        0.2519   712361    2.63%          rho_11 U 123021 123019     34\n",
      " 124867 44006        0.2543    10        0.2587        0.2519   722798    2.63%           rho_1 D 124867 124866     15\n",
      " 126660 44696        cutoff              0.2587        0.2519   733070    2.63%          rho_20 U 126660 126658     70\n",
      " 128300 45286        0.2580     6        0.2587        0.2519   744346    2.63%           rho_0 U 128300 128298     46\n",
      " 129761 46127        0.2529    16        0.2587        0.2519   758446    2.63%          rho_11 D 129761 129760     40\n",
      "Elapsed time = 59.61 sec. (60346.72 ticks, tree = 15.84 MB, solutions = 3)\n",
      " 130987 46991        0.2563     9        0.2587        0.2519   775322    2.63%           rho_4 U 130987 130986     40\n",
      " 132119 47772        0.2543    10        0.2587        0.2519   790613    2.63%          rho_11 U 132119 132117     41\n",
      " 133398 48655        0.2540    14        0.2587        0.2519   804079    2.63%           rho_0 U 133398 133397     53\n",
      " 134785 49304        0.2530     7        0.2587        0.2519   815537    2.63%          rho_13 D 134785 134783     61\n",
      " 136660 49849        0.2524    14        0.2587        0.2519   826911    2.63%          rho_28 D 136660 136658     94\n",
      " 138462 50444        cutoff              0.2587        0.2519   839769    2.63%          rho_26 U 138462 138461     62\n",
      " 140310 50987        0.2519     8        0.2587        0.2519   851039    2.63%           rho_0 D 140310 140308     68\n",
      " 142250 51577        0.2519     8        0.2587        0.2519   860826    2.63%           rho_0 D 142250 142248     29\n",
      " 144032 52208        0.2519     4        0.2587        0.2519   872491    2.63%          rho_11 U 144032 144030     85\n",
      " 145725 52983        0.2524    14        0.2587        0.2519   884561    2.63%          rho_19 D 145725 113030     59\n",
      "Elapsed time = 69.23 sec. (69888.29 ticks, tree = 17.85 MB, solutions = 3)\n",
      " 147620 53717        0.2581     7        0.2587        0.2519   894397    2.63%          rho_26 N 147620 147619     66\n",
      " 149519 54455        0.2587     5        0.2587        0.2519   904291    2.63%           rho_0 U 149519 149517     59\n",
      " 151216 55162        0.2546    10        0.2587        0.2519   914991    2.63%           rho_4 U 151216 151215     21\n",
      " 152995 56118        0.2576     4        0.2587        0.2519   925734    2.63%          rho_13 N 152995 152994     39\n",
      " 154725 56869        0.2519     5        0.2587        0.2519   938311    2.63%          rho_11 U 154725 154723     59\n",
      " 156435 57709        0.2519     8        0.2587        0.2519   949364    2.63%          rho_11 U 156435 156433     52\n",
      " 158122 58464        0.2519     7        0.2587        0.2519   960078    2.63%          rho_11 N 158122  55189     45\n",
      " 159660 59418        0.2519     8        0.2587        0.2519   971777    2.63%          rho_11 U 159660 159651     49\n",
      " 161050 60161        0.2519     9        0.2587        0.2519   984740    2.63%           rho_0 D 161050 161048     47\n",
      " 162509 60866        0.2519     9        0.2587        0.2519   998234    2.63%           rho_0 D 162509 162507     60\n",
      "Elapsed time = 77.86 sec. (79431.72 ticks, tree = 20.15 MB, solutions = 3)\n",
      " 164318 61711        0.2543     5        0.2587        0.2519  1013076    2.63%           rho_8 N 164318 164317     21\n",
      " 166033 62618        0.2572     5        0.2587        0.2519  1024885    2.63%          rho_24 D 166033 166032     79\n",
      " 167762 63007        0.2557     7        0.2587        0.2519  1035242    2.63%          rho_27 D 167762 167760     62\n",
      " 169492 63357        0.2557     9        0.2587        0.2519  1045277    2.63%           rho_0 U 169492 169491     70\n",
      " 171213 63705        0.2534     9        0.2587        0.2519  1055314    2.63%           rho_4 N 171213 171212     47\n",
      " 172983 64186        0.2556     7        0.2587        0.2519  1064486    2.63%          rho_16 D 172983 172981     46\n",
      " 174066 64958        0.2521    19        0.2587        0.2519  1080344    2.63%           rho_0 U 174066 174065     28\n",
      " 175478 65634        0.2532    10        0.2587        0.2519  1093684    2.63%          rho_11 D 175478 175476     28\n",
      " 177123 66871        0.2519    11        0.2587        0.2519  1105095    2.63%          rho_11 U 177123 177121     71\n",
      " 183768 69835        cutoff              0.2587        0.2519  1145766    2.63%           rho_6 U 183768 183767     63\n",
      "Elapsed time = 88.86 sec. (91835.08 ticks, tree = 25.62 MB, solutions = 3)\n",
      " 190987 72536        0.2539    15        0.2587        0.2519  1190388    2.63%          rho_12 D 190987 190986     51\n",
      " 197407 76029        cutoff              0.2587        0.2519  1240926    2.63%          rho_18 U 197407 197406     32\n",
      " 203482 78931        0.2519    13        0.2587        0.2519  1290537    2.63%          rho_11 U 203482 203480     57\n",
      " 209919 81904        cutoff              0.2587        0.2519  1336276    2.63%          rho_27 U 209919 209918     56\n",
      " 216792 84683        0.2519    13        0.2587        0.2519  1380109    2.63%          rho_11 U 216792 216790     20\n",
      " 223055 87386        0.2519     7        0.2587        0.2519  1424216    2.63%          rho_11 U 223055 223053     50\n",
      " 229376 90024        0.2560    11        0.2587        0.2519  1470309    2.63%          rho_18 D 229376 229374     90\n",
      " 236405 92875        0.2519    11        0.2587        0.2519  1509252    2.63%          rho_11 U 236405 236403     68\n",
      " 241976 96267        0.2519     9        0.2587        0.2519  1550667    2.63%          rho_11 U 241976 241974     34\n",
      " 247420 99305        0.2519    14        0.2587        0.2519  1590252    2.63%           rho_0 U 247420 247419     74\n",
      "Elapsed time = 118.13 sec. (129986.32 ticks, tree = 34.32 MB, solutions = 3)\n",
      " 254246 102450        0.2526    13        0.2587        0.2519  1631796    2.63%           rho_9 D 254246 254245     85\n",
      " 261394 106497        0.2519    15        0.2587        0.2519  1671915    2.63%           rho_0 D 261394 261392     38\n",
      " 267433 109283        0.2519    14        0.2587        0.2519  1721173    2.63%           rho_0 D 267433 267431     59\n",
      " 273804 112127        0.2579     5        0.2587        0.2519  1760867    2.63%          rho_28 N 273804 273803     78\n",
      " 280080 115541        0.2522    12        0.2587        0.2519  1807919    2.63%           rho_4 U 280080 280079     36\n",
      " 286958 117983        0.2519     5        0.2587        0.2519  1859788    2.63%           rho_0 D 286958 286956     85\n",
      " 294090 121188        0.2521    11        0.2587        0.2519  1905159    2.63%          rho_11 D 294090 294089     75\n",
      " 301996 122715        0.2564     5        0.2587        0.2519  1940842    2.63%           rho_4 D 301996 301994     46\n",
      " 308420 125632        0.2519    14        0.2587        0.2519  1992457    2.63%          rho_11 U 308420 308418     55\n",
      " 314992 127594        0.2526    13        0.2587        0.2519  2038057    2.63%           rho_4 N 314992 314991     98\n",
      "Elapsed time = 150.55 sec. (168138.67 ticks, tree = 42.61 MB, solutions = 3)\n",
      " 321916 129488        cutoff              0.2587        0.2519  2079658    2.63%          rho_20 D 321916 321915     61\n",
      " 329565 131753        cutoff              0.2587        0.2519  2115533    2.63%           rho_0 U 329565 329564     50\n",
      " 336210 134432        0.2519    11        0.2587        0.2519  2161799    2.63%          rho_11 U 336210 336124     52\n",
      " 342846 136857        0.2584     7        0.2587        0.2519  2205892    2.63%          rho_14 D 342846 342844     28\n",
      " 349433 139568        0.2520    13        0.2587        0.2519  2247613    2.63%          rho_11 D 349433 308219     39\n",
      " 356623 142101        cutoff              0.2587        0.2519  2284774    2.63%          rho_14 U 356623 356622     74\n",
      " 363255 144647        0.2542     9        0.2587        0.2519  2324968    2.63%           rho_5 D 363255 363253     31\n",
      " 369687 147989        0.2553     7        0.2587        0.2519  2370719    2.63%          rho_26 D 369687 369686     60\n",
      " 374384 151120        0.2543    13        0.2587        0.2519  2415379    2.63%          rho_28 N 374384 374383     44\n",
      " 379320 153771        0.2550     9        0.2587        0.2519  2458849    2.63%          rho_13 D 379320 379319     70\n",
      "Elapsed time = 191.67 sec. (206288.73 ticks, tree = 53.33 MB, solutions = 3)\n",
      " 385211 156441        0.2522    17        0.2587        0.2519  2506208    2.63%           rho_0 U 385211 385210     37\n",
      " 390370 159933        0.2578     9        0.2587        0.2519  2545042    2.63%           rho_2 N 390370 390369     73\n",
      "\n",
      "User cuts applied:  752\n",
      "\n",
      "Root node processing (before b&c):\n",
      "  Real time             =    0.11 sec. (2.39 ticks)\n",
      "Sequential b&c:\n",
      "  Real time             =  199.91 sec. (214418.01 ticks)\n",
      "                          ------------\n",
      "Total (root+branch&cut) =  200.01 sec. (214420.40 ticks)\n",
      "+----------------------------------------------+------------------+-----------+\n",
      "| Pr(Y = +1) = 1.0/(1.0 + exp(-(-5 + score))   |                  |           |\n",
      "| ============================================ | ================ | ========= |\n",
      "| p_arrest>=1                                  |         1 points |   + ..... |\n",
      "| p_arrest>=2                                  |         1 points |   + ..... |\n",
      "| p_arrest>=4                                  |         1 points |   + ..... |\n",
      "| p_arrest>=8                                  |         1 points |   + ..... |\n",
      "| p_felony>=1                                  |         1 points |   + ..... |\n",
      "| ============================================ | ================ | ========= |\n",
      "| ADD POINTS FROM ROWS 1 to 5                  |            SCORE |   = ..... |\n",
      "+----------------------------------------------+------------------+-----------+\n",
      "model_id, score_thresholds 0 {'rank_abs': [0]}\n",
      "get_disparity_predefined_group()\n",
      "setting c0 = 0.0 to ensure that intercept is not penalized\n",
      "09/11/19 @ 04:14 PM | 1221 rows in lookup table\n",
      "09/11/19 @ 04:14 PM | ------------------------------------------------------------\n",
      "09/11/19 @ 04:14 PM | runnning initialization procedure\n",
      "09/11/19 @ 04:14 PM | ------------------------------------------------------------\n",
      "09/11/19 @ 04:14 PM | CPA produced 2 cuts\n",
      "09/11/19 @ 04:14 PM | running naive rounding on 70 solutions\n",
      "09/11/19 @ 04:14 PM | best objective value: 0.2540\n",
      "09/11/19 @ 04:14 PM | rounding produced 5 integer solutions\n",
      "09/11/19 @ 04:14 PM | best objective value is 0.2620\n",
      "09/11/19 @ 04:14 PM | running sequential rounding on 70 solutions\n",
      "09/11/19 @ 04:14 PM | best objective value: 0.2540\n",
      "09/11/19 @ 04:14 PM | sequential rounding produced 5 integer solutions\n",
      "09/11/19 @ 04:14 PM | best objective value: 0.2590\n",
      "09/11/19 @ 04:14 PM | polishing 10 solutions\n",
      "09/11/19 @ 04:14 PM | best objective value: 0.2590\n",
      "09/11/19 @ 04:14 PM | polishing produced 5 integer solutions\n",
      "09/11/19 @ 04:14 PM | initialization produced 10 feasible solutions\n",
      "09/11/19 @ 04:14 PM | best objective value: 0.2590\n",
      "09/11/19 @ 04:14 PM | ------------------------------------------------------------\n",
      "09/11/19 @ 04:14 PM | completed initialization procedure\n",
      "09/11/19 @ 04:14 PM | ------------------------------------------------------------\n",
      "09/11/19 @ 04:14 PM | 1221 rows in lookup table\n",
      "CPXPARAM_Read_DataCheck                          1\n",
      "CPXPARAM_Threads                                 1\n",
      "CPXPARAM_Parallel                                1\n",
      "CPXPARAM_RandomSeed                              0\n",
      "CPXPARAM_TimeLimit                               200\n",
      "CPXPARAM_MIP_Tolerances_LowerCutoff              0.25203978172089997\n",
      "CPXPARAM_MIP_Tolerances_UpperCutoff              0.25896621411286319\n"
     ]
    },
    {
     "name": "stderr",
     "output_type": "stream",
     "text": [
      "Warning: Control callbacks may disable some MIP features.\n"
     ]
    },
    {
     "name": "stdout",
     "output_type": "stream",
     "text": [
      "Lazy constraint(s) or lazy constraint callback is present.\n",
      "    Disabling dual reductions (CPX_PARAM_REDUCE) in presolve.\n",
      "    Disabling non-linear reductions (CPX_PARAM_PRELINEAR) in presolve.\n",
      "         Disabling repeat represolve because of lazy constraint/incumbent callback.\n",
      "09/11/19 @ 04:14 PM | adding 251 initial cuts\n",
      "1 of 1 MIP starts provided solutions.\n",
      "MIP start 'mip_start_0' defined initial solution with objective 0.2590.\n",
      "Tried aggregator 1 time.\n",
      "Reduced MIP has 30 rows, 60 columns, and 115 nonzeros.\n",
      "Reduced MIP has 28 binaries, 30 generals, 0 SOSs, and 0 indicators.\n",
      "Presolve time = 0.00 sec. (0.06 ticks)\n",
      "Probing time = 0.00 sec. (0.02 ticks)\n",
      "MIP emphasis: balance optimality and feasibility.\n",
      "MIP search method: traditional branch-and-cut.\n",
      "Parallel mode: none, using 1 thread.\n",
      "Root relaxation solution time = 0.00 sec. (0.04 ticks)\n",
      "\n",
      "        Nodes                                         Cuts/\n",
      "   Node  Left     Objective  IInf  Best Integer    Best Bound    ItCnt     Gap         Variable B NodeID Parent  Depth\n",
      "\n",
      "*     0+    0                            0.2590        0.2519             2.71%\n",
      "      0     0        0.2520     1        0.2590        0.2520        1    2.67%\n",
      "      0     0        0.2520     3        0.2590      Fract: 1        2    2.67%\n",
      "      0     0        0.2520     5        0.2590    MIRcuts: 1        9    2.67%\n",
      "      0     2        0.2520     5        0.2590        0.2520        9    2.67%                        0             0\n",
      "Elapsed time = 0.11 sec. (2.19 ticks, tree = 0.01 MB, solutions = 1)\n",
      "   2426   835        0.2574     1        0.2590        0.2520     9508    2.67%          rho_12 U   2426   2425     30\n",
      "   3623  1175        0.2545     4        0.2590        0.2520    16211    2.67%          rho_12 U   3623   3621     77\n",
      "   4722  1832        0.2543    11        0.2590        0.2520    20470    2.67%          rho_20 U   4722   4721     25\n",
      "   5632  2354        0.2585     9        0.2590        0.2520    24860    2.67%          rho_16 D   5632   5630     23\n",
      "   6513  2911        0.2554    12        0.2590        0.2520    28497    2.67%           rho_0 U   6513   6512     52\n",
      "   7354  3384        0.2566    10        0.2590        0.2520    32217    2.67%          rho_11 U   7354   7352     65\n",
      "   8130  3785        0.2545     8        0.2590        0.2520    35664    2.67%           rho_0 D   8130   8128     24\n",
      "   8835  4177        0.2520     6        0.2590        0.2520    38951    2.67%           rho_4 D   8835   8834      7\n",
      "   9662  4662        0.2575    10        0.2590        0.2520    42332    2.67%           rho_0 D   9662   9660     71\n",
      "  12293  6104        0.2588    17        0.2590        0.2520    56418    2.67%          rho_15 D  12293  12292     35\n",
      "Elapsed time = 5.59 sec. (3102.99 ticks, tree = 1.82 MB, solutions = 1)\n",
      "  14433  7162        0.2583     5        0.2590        0.2520    68417    2.67%          rho_13 D  14433  14431     21\n",
      "  16777  7816        0.2542     9        0.2590        0.2520    82043    2.67%          rho_17 D  16777  16775     46\n",
      "  19042  8624        cutoff              0.2590        0.2520    96168    2.67%          rho_19 D  19042  19041     26\n",
      "  21244  9829        0.2563     5        0.2590        0.2520   109981    2.67%          rho_20 D  21244  21243     31\n",
      "  23443 10817        cutoff              0.2590        0.2520   124150    2.67%           rho_0 U  23443  23442     70\n",
      "  25422 11602        cutoff              0.2590        0.2520   137743    2.67%           rho_0 U  25422  25421     58\n",
      "  27606 12461        0.2540     9        0.2590        0.2520   149276    2.67%          rho_17 D  27606  27605     34\n",
      "  29780 13192        0.2520     9        0.2590        0.2520   161122    2.67%          rho_11 U  29780  29778     47\n",
      "  31600 14051        0.2533     9        0.2590        0.2520   174178    2.67%           rho_3 D  31600  31599     14\n",
      "  33599 14887        cutoff              0.2590        0.2520   185439    2.67%          rho_18 U  33599  33598     37\n",
      "Elapsed time = 15.95 sec. (12644.87 ticks, tree = 4.61 MB, solutions = 1)\n",
      "  35504 15594        0.2555     7        0.2590        0.2520   195812    2.67%          rho_15 U  35504  32429     25\n",
      "  37221 16310        cutoff              0.2590        0.2520   207725    2.67%          rho_17 U  37221  37220     30\n",
      "  39140 17073        0.2520     6        0.2590        0.2520   218144    2.67%           rho_0 D  39140  39138     36\n",
      "  41017 17768        0.2526    15        0.2590        0.2520   228690    2.67%           rho_7 D  41017  41016     26\n",
      "  42880 18489        0.2521     9        0.2590        0.2520   239508    2.67%          rho_11 D  42880  42879     37\n",
      "  44524 19101        0.2527    14        0.2590        0.2520   251293    2.67%          rho_11 D  44524  44523     47\n",
      "  46150 19539        0.2558     9        0.2590        0.2520   264057    2.67%          rho_20 D  46150  46149     61\n",
      "  47807 19969        0.2558     7        0.2590        0.2520   276724    2.67%          rho_27 D  47807  47805     79\n",
      "  49387 20564        cutoff              0.2590        0.2520   290084    2.67%          rho_16 U  49387  49386     20\n",
      "  51150 21464        0.2520     6        0.2590        0.2520   300442    2.67%           rho_0 D  51150  51148     64\n",
      "Elapsed time = 25.26 sec. (22187.47 ticks, tree = 7.23 MB, solutions = 1)\n",
      "  52870 22177        0.2530     9        0.2590        0.2520   311379    2.67%           rho_0 U  52870  52869     51\n",
      "  54566 22913        0.2520     8        0.2590        0.2520   322516    2.67%          rho_11 U  54566  51535     28\n",
      "  56218 23480        0.2539     9        0.2590        0.2520   334299    2.67%          rho_12 D  56218  56217     36\n",
      "  57952 23770        0.2576     8        0.2590        0.2520   343634    2.67%           rho_0 D  57952  57950     32\n",
      "  59703 24426        0.2563     4        0.2590        0.2520   354721    2.67%          rho_12 U  59703  59701     69\n",
      "  61421 25036        0.2555     8        0.2590        0.2520   367815    2.67%          rho_13 D  61421  61420     80\n",
      "  63113 25799        0.2520     8        0.2590        0.2520   377797    2.67%          rho_11 U  63113  63112     31\n",
      "  65020 26284        0.2520     1        0.2590        0.2520   386049    2.67%          rho_11 U  65020  65018     34\n",
      "  66639 26829        0.2520     1        0.2590        0.2520   395621    2.67%          rho_11 U  66639  66637     31\n",
      "  68243 27556        0.2558     7        0.2590        0.2520   407046    2.67%          rho_28 D  68243  68241     30\n",
      "Elapsed time = 33.11 sec. (31728.58 ticks, tree = 9.06 MB, solutions = 1)\n",
      "  69700 28460        0.2520     8        0.2590        0.2520   420508    2.67%          rho_11 U  69700  69698     53\n",
      "  71269 29189        cutoff              0.2590        0.2520   432104    2.67%           rho_3 D  71269  71268     37\n",
      "  72901 29641        0.2520     8        0.2590        0.2520   442140    2.67%          rho_11 U  72901  72732     29\n",
      "  74540 30083        0.2521    21        0.2590        0.2520   451343    2.67%          rho_11 D  74540  74539     23\n",
      "  76141 30885        0.2558     7        0.2590        0.2520   462612    2.67%          rho_28 D  76141  76139     36\n",
      "  77667 31352        cutoff              0.2590        0.2520   473832    2.67%          rho_24 U  77667  77665     60\n",
      "  79252 31872        cutoff              0.2590        0.2520   484507    2.67%           rho_0 U  79252  79251     55\n",
      "  80665 32332        0.2520     4        0.2590        0.2520   496904    2.67%           rho_0 D  80665  80663     23\n",
      "  82486 32859        0.2548     7        0.2590        0.2520   506818    2.67%          rho_18 D  82486  82484     36\n",
      "  84150 33404        cutoff              0.2590        0.2520   517174    2.67%          rho_26 U  84150  84149     68\n",
      "Elapsed time = 41.45 sec. (41269.63 ticks, tree = 12.18 MB, solutions = 1)\n",
      "  85725 34217        0.2520     9        0.2590        0.2520   529046    2.67%           rho_0 D  85725  85723     55\n",
      "  87196 35007        0.2570    13        0.2590        0.2520   540800    2.67%           rho_4 D  87196  87195     39\n",
      "  88664 35615        0.2520     8        0.2590        0.2520   552488    2.67%           rho_0 D  88664  88662     34\n",
      "  90160 36170        0.2527    11        0.2590        0.2520   563793    2.67%          rho_11 D  90160  90159     61\n",
      "  91593 36929        0.2520     8        0.2590        0.2520   576575    2.67%          rho_11 U  91593  91591     52\n",
      "  93036 37814        0.2535    11        0.2590        0.2520   589145    2.67%          rho_11 D  93036  93035     32\n",
      "  94503 38552        0.2520    10        0.2590        0.2520   600605    2.67%           rho_0 D  94503  94501     35\n",
      "  96324 39049        0.2520    12        0.2590        0.2520   609151    2.67%          rho_15 U  96324  29916     12\n",
      "  98020 39534        0.2530     7        0.2590        0.2520   617981    2.67%          rho_11 D  98020  98019     35\n",
      "  99725 40061        0.2520     4        0.2590        0.2520   626813    2.67%           rho_0 D  99725  99723     41\n",
      "Elapsed time = 49.80 sec. (50813.07 ticks, tree = 14.21 MB, solutions = 1)\n",
      " 101390 40512        0.2545     7        0.2590        0.2520   635211    2.67%           rho_2 U 101390 101389     34\n",
      " 103128 40959        cutoff              0.2590        0.2520   643096    2.67%          rho_12 U 103128 103127     52\n",
      " 104873 41409        cutoff              0.2590        0.2520   650918    2.67%          rho_17 U 104873 104872     64\n",
      " 106504 41756        cutoff              0.2590        0.2520   659050    2.67%          rho_13 U 106504 106503     29\n",
      " 108120 42360        0.2548    16        0.2590        0.2520   668333    2.67%          rho_11 D 108120 108119     62\n",
      " 109546 43102        0.2529    15        0.2590        0.2520   680724    2.67%          rho_11 D 109546 109545     47\n",
      " 110959 43705        0.2557    11        0.2590        0.2520   692779    2.67%           rho_6 D 110959 110957     25\n",
      " 112456 44373        cutoff              0.2590        0.2520   703310    2.67%           rho_0 U 112456 112454     23\n",
      " 114048 44943        0.2520     8        0.2590        0.2520   712444    2.67%           rho_0 D 114048 114046     34\n",
      " 115533 45354        0.2529     9        0.2590        0.2520   722715    2.67%          rho_11 D 115533 115532     65\n",
      "Elapsed time = 58.30 sec. (60354.02 ticks, tree = 15.79 MB, solutions = 1)\n",
      " 117071 45745        0.2520     8        0.2590        0.2520   732330    2.67%           rho_0 D 117071 117057     61\n",
      " 118630 46562        0.2565     7        0.2590        0.2520   742826    2.67%          rho_28 D 118630 118628     49\n",
      " 120330 47044        0.2540    11        0.2590        0.2520   750688    2.67%          rho_11 D 120330 120329     50\n",
      " 121948 47564        0.2562     7        0.2590        0.2520   760006    2.67%           rho_0 U 121948 121947     32\n",
      " 123631 48184        0.2540    15        0.2590        0.2520   769875    2.67%          rho_11 D 123631 123630     47\n",
      " 125256 48805        0.2540    15        0.2590        0.2520   780026    2.67%          rho_11 D 125256 125255     65\n",
      " 126944 49402        0.2540    15        0.2590        0.2520   789857    2.67%          rho_11 D 126944 126943     55\n",
      " 128630 50056        0.2535     9        0.2590        0.2520   799499    2.67%          rho_12 D 128630 128629     36\n",
      " 130204 50780        0.2525    20        0.2590        0.2520   809479    2.67%          rho_11 U 130204 130202     32\n",
      " 131533 51529        0.2588     8        0.2590        0.2520   822053    2.67%           rho_6 U 131533 131532     45\n",
      "Elapsed time = 67.41 sec. (69897.05 ticks, tree = 17.66 MB, solutions = 1)\n",
      " 132907 52170        0.2520     1        0.2590        0.2520   833210    2.67%          rho_11 U 132907 132905     51\n",
      " 134299 52580        0.2537    13        0.2590        0.2520   843393    2.67%           rho_2 U 134299 134298     19\n",
      " 135849 53208        0.2568     7        0.2590        0.2520   852485    2.67%          rho_27 D 135849 135847     53\n",
      " 137421 53881        0.2520     6        0.2590        0.2520   863573    2.67%          rho_11 U 137421 137376     52\n",
      " 138946 54623        0.2560     9        0.2590        0.2520   874426    2.67%          rho_20 D 138946 138945     37\n",
      " 140410 55259        0.2520     7        0.2590        0.2520   886168    2.67%          rho_11 U 140410 140408     63\n",
      " 141850 56073        0.2526    11        0.2590        0.2520   898671    2.67%          rho_11 D 141850 141849     88\n",
      " 143259 56867        cutoff              0.2590        0.2520   910772    2.67%           rho_0 D 143259 143257     38\n",
      " 144854 57600        0.2520    11        0.2590        0.2520   923356    2.67%           rho_0 D 144854 144852     44\n",
      " 146057 58291        0.2580     5        0.2590        0.2520   935189    2.67%          rho_27 U 146057 146056     70\n",
      "Elapsed time = 79.70 sec. (79440.35 ticks, tree = 19.71 MB, solutions = 1)\n",
      " 147502 58867        0.2576     3        0.2590        0.2520   947923    2.67%          rho_20 D 147502 147501     46\n",
      " 148900 59332        0.2528    11        0.2590        0.2520   959867    2.67%          rho_11 D 148900 148899     44\n",
      " 150430 59681        0.2539     7        0.2590        0.2520   969976    2.67%           rho_0 U 150430 150429     50\n",
      " 151917 59997        0.2557     9        0.2590        0.2520   979636    2.67%          rho_27 D 151917 151915     77\n",
      " 153407 60306        0.2548    13        0.2590        0.2520   989084    2.67%          rho_12 D 153407 153405     63\n",
      " 154903 60614        0.2543     7        0.2590        0.2520   998305    2.67%           rho_4 D 154903 154901     84\n",
      " 156399 61003        0.2523     6        0.2590        0.2520  1007727    2.67%           rho_2 D 156399 156284     57\n",
      " 157657 61431        0.2520     8        0.2590        0.2520  1019092    2.67%           rho_3 D 157657 157655     54\n",
      " 158941 61933        0.2526     9        0.2590        0.2520  1030322    2.67%           rho_0 U 158941 158940     35\n",
      " 164191 64676        0.2520     8        0.2590        0.2520  1079286    2.67%          rho_11 U 164191 164189     67\n",
      "Elapsed time = 93.81 sec. (91842.02 ticks, tree = 21.68 MB, solutions = 1)\n",
      " 169731 67689        0.2558     9        0.2590        0.2520  1124312    2.67%           rho_0 U 169731 169730     64\n",
      " 175653 70423        0.2520    11        0.2590        0.2520  1165646    2.67%           rho_3 D 175653 175652     34\n",
      " 181780 73291        0.2566     9        0.2590        0.2520  1212778    2.67%           rho_6 D 181780 181779     30\n",
      " 187655 76134        0.2536    15        0.2590        0.2520  1255275    2.67%           rho_4 D 187655  15183     15\n",
      " 193408 78745        0.2524     9        0.2590        0.2520  1299374    2.67%           rho_0 U 193408 193407     45\n",
      " 198914 80895        cutoff              0.2590        0.2520  1341571    2.67%           rho_3 U 198914 198913     62\n",
      " 204840 82840        0.2520     7        0.2590        0.2520  1378554    2.67%          rho_11 U 204840 204838     54\n",
      " 210257 85424        0.2581     5        0.2590        0.2520  1423529    2.67%          rho_13 U 210257 210256     80\n",
      " 215635 87151        0.2525    15        0.2590        0.2520  1464686    2.67%          rho_11 D 215635 215634     44\n",
      " 220027 89735        0.2578     9        0.2590        0.2520  1517964    2.67%           rho_8 D 220027 220026     32\n",
      "Elapsed time = 134.11 sec. (129995.81 ticks, tree = 32.28 MB, solutions = 1)\n",
      " 224880 92376        0.2520     9        0.2590        0.2520  1559193    2.67%          rho_11 U 224880 224878     57\n",
      " 229810 95153        0.2583     0        0.2590        0.2520  1597430    2.67%          rho_24 D 229810 229809     27\n",
      " 234730 97435        0.2578     5        0.2590        0.2520  1640780    2.67%           rho_7 D 234730 234728     65\n",
      " 241880 99493        0.2524    15        0.2590        0.2520  1681657    2.67%          rho_12 D 241880 241879     34\n",
      " 247699 101936        0.2575     9        0.2590        0.2520  1725930    2.67%          rho_18 U 247699 247698     64\n",
      " 253434 104027        cutoff              0.2590        0.2520  1769595    2.67%           rho_7 U 253434 253433     68\n",
      " 258392 106349        0.2532     9        0.2590        0.2520  1820066    2.67%          rho_18 D 258392 258391     62\n",
      " 263140 108858        0.2520    11        0.2590        0.2520  1873105    2.67%          rho_11 U 263140 263052     28\n",
      " 268731 111005        cutoff              0.2590        0.2520  1914733    2.67%          rho_27 U 268731 268730     54\n",
      " 274391 112976        0.2520     7        0.2590        0.2520  1955738    2.67%           rho_0 D 274391 274389     61\n",
      "Elapsed time = 167.80 sec. (168152.90 ticks, tree = 39.50 MB, solutions = 1)\n",
      " 280480 116097        0.2527    10        0.2590        0.2520  1996806    2.67%          rho_26 D 280480 280479     80\n",
      " 286222 119206        0.2538    13        0.2590        0.2520  2034101    2.67%          rho_28 D 286222 286220     25\n",
      " 292437 121819        0.2562    13        0.2590        0.2520  2075408    2.67%           rho_1 U 292437 292435     66\n",
      " 297650 124576        0.2525    16        0.2590        0.2520  2122631    2.67%          rho_11 D 297650 297649     68\n",
      " 302600 126767        0.2576     3        0.2590        0.2520  2165133    2.67%          rho_20 D 302600 302599     56\n",
      " 307647 129117        0.2520    13        0.2590        0.2520  2208196    2.67%           rho_0 D 307647 307586     55\n",
      " 312949 131127        0.2520     6        0.2590        0.2520  2249016    2.67%          rho_11 U 312949 312315     38\n",
      " 318504 133026        0.2520     4        0.2590        0.2520  2287328    2.67%          rho_11 U 318504 318502     59\n",
      "\n",
      "Implied bound cuts applied:  3\n",
      "Mixed integer rounding cuts applied:  1\n",
      "User cuts applied:  862\n",
      "\n",
      "Root node processing (before b&c):\n",
      "  Real time             =    0.11 sec. (2.27 ticks)\n",
      "Sequential b&c:\n",
      "  Real time             =  199.91 sec. (201845.83 ticks)\n",
      "                          ------------\n",
      "Total (root+branch&cut) =  200.01 sec. (201848.10 ticks)\n",
      "+----------------------------------------------+------------------+-----------+\n",
      "| Pr(Y = +1) = 1.0/(1.0 + exp(-(-4 + score))   |                  |           |\n",
      "| ============================================ | ================ | ========= |\n",
      "| p_arrest>=2                                  |         1 points |   + ..... |\n",
      "| p_arrest>=4                                  |         1 points |   + ..... |\n",
      "| p_arrest>=8                                  |         1 points |   + ..... |\n",
      "| p_felony>=1                                  |         1 points |   + ..... |\n",
      "| ============================================ | ================ | ========= |\n",
      "| ADD POINTS FROM ROWS 1 to 4                  |            SCORE |   = ..... |\n",
      "+----------------------------------------------+------------------+-----------+\n",
      "model_id, score_thresholds 0 {'rank_abs': [0]}\n",
      "get_disparity_predefined_group()\n",
      "setting c0 = 0.0 to ensure that intercept is not penalized\n",
      "09/11/19 @ 04:18 PM | 1221 rows in lookup table\n",
      "09/11/19 @ 04:18 PM | ------------------------------------------------------------\n",
      "09/11/19 @ 04:18 PM | runnning initialization procedure\n",
      "09/11/19 @ 04:18 PM | ------------------------------------------------------------\n",
      "09/11/19 @ 04:18 PM | CPA produced 2 cuts\n",
      "09/11/19 @ 04:18 PM | running naive rounding on 67 solutions\n",
      "09/11/19 @ 04:18 PM | best objective value: 0.2541\n",
      "09/11/19 @ 04:18 PM | rounding produced 5 integer solutions\n",
      "09/11/19 @ 04:18 PM | best objective value is 0.2624\n",
      "09/11/19 @ 04:18 PM | running sequential rounding on 67 solutions\n",
      "09/11/19 @ 04:18 PM | best objective value: 0.2541\n",
      "09/11/19 @ 04:18 PM | sequential rounding produced 6 integer solutions\n",
      "09/11/19 @ 04:18 PM | best objective value: 0.2593\n",
      "09/11/19 @ 04:18 PM | polishing 11 solutions\n",
      "09/11/19 @ 04:18 PM | best objective value: 0.2593\n",
      "09/11/19 @ 04:18 PM | polishing produced 5 integer solutions\n",
      "09/11/19 @ 04:18 PM | initialization produced 11 feasible solutions\n",
      "09/11/19 @ 04:18 PM | best objective value: 0.2593\n",
      "09/11/19 @ 04:18 PM | ------------------------------------------------------------\n",
      "09/11/19 @ 04:18 PM | completed initialization procedure\n",
      "09/11/19 @ 04:18 PM | ------------------------------------------------------------\n",
      "09/11/19 @ 04:18 PM | 1221 rows in lookup table\n",
      "CPXPARAM_Read_DataCheck                          1\n",
      "CPXPARAM_Threads                                 1\n",
      "CPXPARAM_Parallel                                1\n",
      "CPXPARAM_RandomSeed                              0\n",
      "CPXPARAM_TimeLimit                               200\n",
      "CPXPARAM_MIP_Tolerances_LowerCutoff              0.2512639902719076\n",
      "CPXPARAM_MIP_Tolerances_UpperCutoff              0.2593268879652626\n"
     ]
    },
    {
     "name": "stderr",
     "output_type": "stream",
     "text": [
      "Warning: Control callbacks may disable some MIP features.\n"
     ]
    },
    {
     "name": "stdout",
     "output_type": "stream",
     "text": [
      "Lazy constraint(s) or lazy constraint callback is present.\n",
      "    Disabling dual reductions (CPX_PARAM_REDUCE) in presolve.\n",
      "    Disabling non-linear reductions (CPX_PARAM_PRELINEAR) in presolve.\n",
      "         Disabling repeat represolve because of lazy constraint/incumbent callback.\n",
      "09/11/19 @ 04:18 PM | adding 249 initial cuts\n",
      "1 of 1 MIP starts provided solutions.\n",
      "MIP start 'mip_start_0' defined initial solution with objective 0.2593.\n",
      "Tried aggregator 1 time.\n",
      "Reduced MIP has 30 rows, 60 columns, and 115 nonzeros.\n",
      "Reduced MIP has 28 binaries, 30 generals, 0 SOSs, and 0 indicators.\n",
      "Presolve time = 0.02 sec. (0.06 ticks)\n",
      "Probing time = 0.00 sec. (0.02 ticks)\n",
      "MIP emphasis: balance optimality and feasibility.\n",
      "MIP search method: traditional branch-and-cut.\n",
      "Parallel mode: none, using 1 thread.\n",
      "Root relaxation solution time = 0.00 sec. (0.04 ticks)\n",
      "\n",
      "        Nodes                                         Cuts/\n",
      "   Node  Left     Objective  IInf  Best Integer    Best Bound    ItCnt     Gap         Variable B NodeID Parent  Depth\n",
      "\n",
      "*     0+    0                            0.2593        0.2512             3.15%\n",
      "      0     0        0.2513     1        0.2593        0.2513        1    3.11%\n",
      "      0     2        0.2513     4        0.2593        0.2513        1    3.11%                        0             0\n",
      "Elapsed time = 0.17 sec. (1.36 ticks, tree = 0.01 MB, solutions = 1)\n",
      "*   944   430      integral     0        0.2593        0.2513     3058    3.10%\n",
      "*  1750+  827                            0.2593        0.2513             3.10%\n",
      "*  1830+  830                            0.2588        0.2513             2.90%\n",
      "   1969   862        0.2581     5        0.2588        0.2513     6786    2.90%          rho_18 D   1969   1967     16\n",
      "   3011  1266        0.2586     5        0.2588        0.2513    11269    2.90%           rho_6 U   3011   3009     44\n",
      "   4000  1880        0.2515    13        0.2588        0.2513    16031    2.90%           rho_4 U   4000   3999     38\n",
      "*  4429  2075      integral     0        0.2582        0.2513    18668    2.68%\n",
      "   4908  2319        0.2513    10        0.2582        0.2513    20706    2.68%          rho_16 D   4908   4907     75\n",
      "   5871  2792        0.2513    10        0.2582        0.2513    25214    2.68%          rho_16 D   5871   5870     30\n",
      "   6810  3255        0.2513    10        0.2582        0.2513    29412    2.68%          rho_16 D   6810   6809     62\n",
      "   7706  3694        0.2513     3        0.2582        0.2513    34036    2.68%          rho_11 U   7706   7691     35\n",
      "   8631  4161        0.2563     8        0.2582        0.2513    38602    2.68%          rho_16 D   8631   8629     78\n",
      "   9596  4701        0.2513    14        0.2582        0.2513    43398    2.68%           rho_2 U   9596   9594     94\n",
      "  13420  6807        0.2552     7        0.2582        0.2513    62945    2.68%          rho_27 D  13420    706     30\n",
      "Elapsed time = 5.73 sec. (3103.98 ticks, tree = 1.93 MB, solutions = 5)\n",
      "* 14205  7137      integral     0        0.2582        0.2513    66738    2.68%\n",
      "  16960  8475        0.2513     1        0.2582        0.2513    81321    2.68%          rho_11 U  16960  16958     59\n",
      "  19980 10123        0.2549    10        0.2582        0.2513    99213    2.68%          rho_19 D  19980  19979     40\n",
      "  23243 11458        0.2525    14        0.2582        0.2513   116163    2.68%          rho_10 U  23243  23241     47\n",
      "  26553 12725        0.2581     5        0.2582        0.2513   131782    2.68%          rho_18 D  26553  26551     71\n",
      "  29661 13971        0.2560     5        0.2582        0.2513   146315    2.68%          rho_17 D  29661  29660     76\n",
      "  32779 15515        0.2513     7        0.2582        0.2513   162363    2.68%          rho_11 D  32779  32778     57\n",
      "  35550 17403        0.2543     5        0.2582        0.2513   178284    2.68%           rho_2 D  35550  35549     60\n",
      "  38010 18515        0.2560     5        0.2582        0.2513   191082    2.68%          rho_20 D  38010  38009     64\n",
      "  40747 19604        0.2555     9        0.2582        0.2513   206463    2.68%          rho_28 D  40747  40745     76\n",
      "  43467 20625        0.2555     9        0.2582        0.2513   221190    2.68%          rho_28 D  43467  43465    103\n",
      "Elapsed time = 16.13 sec. (12643.55 ticks, tree = 6.46 MB, solutions = 6)\n",
      "  46043 21703        0.2513     5        0.2582        0.2513   235536    2.68%           rho_1 D  46043  17406     70\n",
      "  48691 22856        0.2552     5        0.2582        0.2513   249713    2.68%          rho_17 D  48691  48689     51\n",
      "  51260 23869        0.2540     8        0.2582        0.2513   263435    2.68%          rho_19 D  51260  51259     54\n",
      "  53729 24794        0.2534     7        0.2582        0.2513   276959    2.68%           rho_9 D  53729  53728     71\n",
      "  56429 25844        0.2548     9        0.2582        0.2513   290166    2.68%          rho_28 D  56429  56427     81\n",
      "  59047 26849        0.2548     5        0.2582        0.2513   302918    2.68%           rho_2 D  59047  59046     64\n",
      "  61555 27862        cutoff              0.2582        0.2513   315863    2.68%           rho_4 U  61555  61554     89\n",
      "  64110 28890        0.2513     8        0.2582        0.2513   328711    2.68%          rho_19 D  64110  64109     41\n",
      "  66585 29836        cutoff              0.2582        0.2513   341416    2.68%           rho_4 U  66585  66584     65\n",
      "  69061 30731        0.2537    12        0.2582        0.2513   354752    2.68%           rho_0 U  69061  69060     36\n",
      "Elapsed time = 25.98 sec. (22181.68 ticks, tree = 9.21 MB, solutions = 6)\n",
      "  71465 31689        0.2576     7        0.2582        0.2513   368529    2.68%           rho_9 U  71465  71464     50\n",
      "  73788 32729        cutoff              0.2582        0.2513   382114    2.68%           rho_1 U  73788  73786     94\n",
      "  76067 33694        0.2513     8        0.2582        0.2513   395715    2.68%           rho_4 D  76067   7056     33\n",
      "  78320 34592        0.2578     5        0.2582        0.2513   409574    2.68%           rho_1 D  78320  78319     87\n",
      "  80550 35349        0.2513    13        0.2582        0.2513   423194    2.68%           rho_4 D  80550  54233     80\n",
      "  82690 35949        0.2555    10        0.2582        0.2513   436774    2.68%          rho_15 D  82690  82689     57\n",
      "  84930 36524        0.2513     7        0.2582        0.2513   449642    2.68%           rho_4 D  84930  21411     20\n",
      "  87119 37114        0.2545     9        0.2582        0.2513   462580    2.68%           rho_1 N  87119  47703     28\n",
      "  89368 37908        0.2578     5        0.2582        0.2513   475068    2.68%          rho_28 D  89368  89366     32\n",
      "  91666 38949        0.2545     4        0.2582        0.2513   488211    2.68%           rho_0 U  91666  91665     76\n",
      "Elapsed time = 35.20 sec. (31722.72 ticks, tree = 12.88 MB, solutions = 6)\n",
      "  93948 40187        0.2563     9        0.2582        0.2513   501742    2.68%          rho_19 U  93948  93947     49\n",
      "  96148 40882        0.2517    17        0.2582        0.2513   513577    2.68%          rho_15 N  96148  93409     77\n",
      "  98390 41601        0.2513    14        0.2582        0.2513   525547    2.68%           rho_2 D  98390  98389     92\n",
      " 100587 42308        cutoff              0.2582        0.2513   537601    2.68%          rho_26 U 100587 100586     39\n",
      " 102808 43076        0.2574     7        0.2582        0.2513   549579    2.68%           rho_9 D 102808 102806     59\n",
      " 105050 43850        cutoff              0.2582        0.2513   562072    2.68%          rho_10 U 105050 105049     35\n",
      " 107330 44628        0.2561     8        0.2582        0.2513   574587    2.68%          rho_10 D 107330 107328     37\n",
      " 109596 45405        0.2513     7        0.2582        0.2513   587210    2.68%           rho_1 D 109596  90381     33\n",
      " 111750 46066        0.2564    11        0.2582        0.2513   599557    2.68%           rho_6 D 111750 111748     92\n",
      " 113938 46730        0.2538    15        0.2582        0.2513   611819    2.68%           rho_1 U 113938 113936     41\n",
      "Elapsed time = 43.59 sec. (41265.65 ticks, tree = 15.04 MB, solutions = 6)\n",
      " 116130 47342        0.2564    12        0.2582        0.2513   623975    2.68%           rho_4 D 116130 116128     52\n",
      " 118319 47982        0.2558     6        0.2582        0.2513   635806    2.68%          rho_25 U 118319  34786     39\n",
      " 120541 48673        0.2535    14        0.2582        0.2513   647891    2.68%          rho_15 U 120541 120529     59\n",
      " 122743 49296        cutoff              0.2582        0.2513   660000    2.68%          rho_13 U 122743 122742     75\n",
      " 124962 50152        0.2536     7        0.2582        0.2513   672810    2.68%          rho_10 N 124962 124961     41\n",
      " 127107 50934        0.2527     8        0.2582        0.2513   685466    2.68%          rho_20 U 127107 127057     22\n",
      " 129114 52062        cutoff              0.2582        0.2513   698899    2.68%          rho_13 U 129114 129113     45\n",
      " 131148 53247        0.2513    13        0.2582        0.2513   712209    2.68%           rho_0 N 131148 131146     47\n",
      " 132990 54155        0.2559     6        0.2582        0.2513   724077    2.68%          rho_27 D 132990 132988     44\n",
      " 135059 54857        cutoff              0.2582        0.2513   736876    2.68%          rho_17 U 135059 135058     78\n",
      "Elapsed time = 52.17 sec. (50808.13 ticks, tree = 17.27 MB, solutions = 6)\n",
      " 137104 55511        0.2562     9        0.2582        0.2513   748386    2.68%          rho_28 D 137104 137103     42\n",
      " 139040 56085        0.2565     7        0.2582        0.2513   760037    2.68%          rho_28 D 139040 139038     86\n",
      " 140937 56703        0.2517    15        0.2582        0.2513   771776    2.68%          rho_15 U 140937   7569     71\n",
      " 142876 57467        cutoff              0.2582        0.2513   783076    2.68%          rho_17 U 142876 142875     72\n",
      " 144800 58416        0.2513     9        0.2582        0.2513   795654    2.68%          rho_11 D 144800 144799     43\n",
      " 146630 59385        0.2513     8        0.2582        0.2513   808570    2.68%           rho_4 N 146630 146629     54\n",
      " 148499 60357        0.2513    11        0.2582        0.2513   821658    2.68%           rho_0 D 148499 148408     32\n",
      " 150318 61105        0.2546    16        0.2582        0.2513   833613    2.68%           rho_4 U 150318 150316     46\n",
      " 152209 61835        0.2513     4        0.2582        0.2513   844850    2.68%           rho_0 D 152209 152181     43\n",
      " 154000 62692        0.2520    16        0.2582        0.2513   856731    2.68%          rho_16 D 154000 153999     89\n",
      "Elapsed time = 61.23 sec. (60355.22 ticks, tree = 19.48 MB, solutions = 6)\n",
      " 155902 63458        cutoff              0.2582        0.2513   867515    2.68%          rho_20 U 155902 155900     81\n",
      " 157769 64315        0.2519    12        0.2582        0.2513   879151    2.68%          rho_10 D 157769 157768     44\n",
      " 159685 65125        0.2513     8        0.2582        0.2513   890304    2.68%           rho_4 N 159685 131108     42\n",
      " 161642 66003        0.2514    17        0.2582        0.2513   901186    2.68%          rho_15 U 161642 130324     50\n",
      " 163521 66694        cutoff              0.2582        0.2513   912342    2.68%          rho_17 U 163521 163520     68\n",
      " 165441 67466        0.2513    12        0.2582        0.2513   923275    2.68%           rho_4 D 165441 128056     22\n",
      " 167324 68185        0.2548    11        0.2582        0.2513   934662    2.68%          rho_28 D 167324 167323     72\n",
      " 169228 68863        0.2518    17        0.2582        0.2513   945930    2.68%           rho_4 D 169228 169227     28\n",
      " 171059 69566        0.2514    12        0.2582        0.2513   957242    2.68%           rho_4 D 171059 123202     50\n",
      " 172914 70217        0.2567     7        0.2582        0.2513   968040    2.68%           rho_2 N 172914 172911     63\n",
      "Elapsed time = 70.41 sec. (69896.43 ticks, tree = 24.47 MB, solutions = 6)\n",
      " 174762 70875        cutoff              0.2582        0.2513   978784    2.68%           rho_2 U 174762 174761     70\n",
      " 176616 71516        cutoff              0.2582        0.2513   989534    2.68%          rho_27 U 176616 176615     62\n",
      " 178405 72157        0.2552     5        0.2582        0.2513  1000421    2.68%           rho_9 U 178405 178404     47\n",
      " 180242 72819        cutoff              0.2582        0.2513  1011424    2.68%           rho_0 U 180242 180241     43\n",
      " 182124 73485        cutoff              0.2582        0.2513  1022110    2.68%          rho_24 U 182124 182122     65\n",
      " 183991 74014        0.2579     3        0.2582        0.2513  1032401    2.68%           rho_9 N 183991 183990     38\n",
      " 185865 74653        cutoff              0.2582        0.2513  1042866    2.68%          rho_10 D 185865 185863     43\n",
      " 187726 75203        0.2524    12        0.2582        0.2513  1053173    2.68%           rho_4 D 187726  45326     62\n",
      " 189587 75784        0.2579     4        0.2582        0.2513  1063646    2.68%           rho_9 U 189587 189586     80\n",
      " 191459 76374        0.2580     4        0.2582        0.2513  1074069    2.68%          rho_12 D 191459 191458     67\n",
      "Elapsed time = 78.88 sec. (79435.70 ticks, tree = 26.33 MB, solutions = 6)\n",
      " 193353 76954        0.2565     5        0.2582        0.2513  1084214    2.68%          rho_26 D 193353 193351     55\n",
      " 195250 77586        0.2562     6        0.2582        0.2513  1094600    2.68%           rho_0 U 195250 195249     56\n",
      " 197165 78271        0.2513     6        0.2582        0.2513  1105476    2.68%          rho_11 U 197165 197163     81\n",
      " 199005 78901        cutoff              0.2582        0.2513  1116239    2.68%           rho_1 U 199005 199003     33\n",
      " 200938 79635        cutoff              0.2582        0.2513  1127158    2.68%           rho_4 U 200938 200937     41\n",
      " 202833 80432        cutoff              0.2582        0.2513  1138565    2.68%          rho_17 U 202833 202832     47\n",
      " 204680 81140        0.2548    13        0.2582        0.2513  1149635    2.68%          rho_16 D 204680 204679     56\n",
      " 206222 82182        0.2519    16        0.2582        0.2513  1164851    2.68%           rho_0 U 206222 206221     17\n",
      " 208172 82681        0.2554     7        0.2582        0.2513  1174986    2.68%          rho_28 D 208172 208170     47\n",
      " 216200 84644        0.2556    10        0.2582        0.2513  1212366    2.68%          rho_10 U 216200 216199     68\n",
      "Elapsed time = 90.23 sec. (91837.42 ticks, tree = 28.78 MB, solutions = 6)\n",
      " 223669 87803        0.2525    16        0.2582        0.2513  1256395    2.68%           rho_0 D 223669 223667     73\n",
      " 230640 90725        0.2547     6        0.2582        0.2513  1302821    2.68%          rho_28 D 230640 230638     92\n",
      " 237510 93167        0.2552    15        0.2582        0.2513  1345108    2.68%          rho_15 D 237510 237509     21\n",
      " 244963 96576        0.2554     9        0.2582        0.2513  1389400    2.68%           rho_8 D 244963 244962     72\n",
      " 251979 99299        cutoff              0.2582        0.2513  1433344    2.68%          rho_13 U 251979 251978     70\n",
      " 259128 102311        cutoff              0.2582        0.2513  1477908    2.68%          rho_19 U 259128 259126     49\n",
      " 265915 104920        0.2518    20        0.2582        0.2513  1522362    2.68%          rho_15 U 265915 265580     56\n",
      " 272710 107965        cutoff              0.2582        0.2513  1568446    2.68%          rho_26 U 272710 272709     27\n",
      "*273000+108090                            0.2582        0.2513             2.67%\n",
      " 279757 110971        cutoff              0.2582        0.2513  1612617    2.67%          rho_17 U 279757 279756     50\n",
      " 286378 113163        0.2526     9        0.2582        0.2513  1657263    2.67%           rho_6 U 286378 286377     25\n",
      "Elapsed time = 127.16 sec. (129989.49 ticks, tree = 36.88 MB, solutions = 7)\n",
      " 292934 115299        cutoff              0.2582        0.2513  1699555    2.67%          rho_20 D 292934 292933     67\n",
      " 299500 117949        0.2562    10        0.2582        0.2513  1745255    2.67%           rho_4 U 299500 299499     55\n",
      " 307408 120292        0.2560     5        0.2582        0.2513  1779153    2.67%          rho_10 D 307408 307406     94\n",
      " 314876 122714        0.2567     5        0.2582        0.2513  1815651    2.67%          rho_13 D 314876 314874     33\n",
      " 320680 126118        0.2518    21        0.2582        0.2513  1860406    2.67%          rho_15 U 320680 320336     40\n",
      " 326018 129419        0.2513    19        0.2582        0.2513  1901017    2.67%           rho_5 U 326018 326017     71\n",
      " 331444 132236        0.2551    11        0.2582        0.2513  1943513    2.67%          rho_10 D 331444 331442     25\n",
      " 338650 135632        0.2579     7        0.2582        0.2513  1989082    2.67%          rho_13 D 338650 338649     88\n",
      " 346154 138603        0.2562     7        0.2582        0.2513  2032237    2.67%          rho_17 D 346154 346152     87\n",
      " 354577 141461        0.2563     5        0.2582        0.2513  2065514    2.67%          rho_27 D 354577 354575     31\n",
      "Elapsed time = 166.63 sec. (168141.25 ticks, tree = 48.28 MB, solutions = 7)\n",
      " 362547 144238        cutoff              0.2582        0.2513  2101927    2.67%          rho_19 D 362547 362546     72\n",
      " 369461 147201        0.2515     7        0.2582        0.2513  2148377    2.67%          rho_10 N 369461 369460     49\n",
      " 377170 149655        cutoff              0.2582        0.2513  2184444    2.67%          rho_12 U 377170 377169     93\n",
      " 383957 152201        0.2549     7        0.2582        0.2513  2220665    2.67%          rho_12 D 383957 383955     55\n",
      " 390522 155032        0.2525    11        0.2582        0.2513  2261272    2.67%           rho_9 D 390522 390521     75\n",
      " 397891 156969        cutoff              0.2582        0.2513  2292159    2.67%           rho_0 D 397891 397890     45\n",
      " 404625 159552        0.2545    17        0.2582        0.2513  2328946    2.67%           rho_1 U 404625  64606     23\n",
      " 410929 162406        0.2520     9        0.2582        0.2513  2371157    2.67%          rho_19 D 410929 410927     60\n",
      "\n",
      "Implied bound cuts applied:  1\n",
      "User cuts applied:  761\n",
      "\n",
      "Root node processing (before b&c):\n",
      "  Real time             =    0.16 sec. (1.43 ticks)\n",
      "Sequential b&c:\n",
      "  Real time             =  199.86 sec. (202112.39 ticks)\n",
      "                          ------------\n",
      "Total (root+branch&cut) =  200.02 sec. (202113.82 ticks)\n",
      "+----------------------------------------------+------------------+-----------+\n",
      "| Pr(Y = +1) = 1.0/(1.0 + exp(-(-4 + score))   |                  |           |\n",
      "| ============================================ | ================ | ========= |\n",
      "| p_arrest>=2                                  |         1 points |   + ..... |\n",
      "| p_arrest>=4                                  |         1 points |   + ..... |\n",
      "| p_arrest>=8                                  |         1 points |   + ..... |\n",
      "| p_felony>=1                                  |         1 points |   + ..... |\n",
      "| ============================================ | ================ | ========= |\n",
      "| ADD POINTS FROM ROWS 1 to 4                  |            SCORE |   = ..... |\n",
      "+----------------------------------------------+------------------+-----------+\n",
      "model_id, score_thresholds 0 {'rank_abs': [0]}\n",
      "get_disparity_predefined_group()\n",
      "setting c0 = 0.0 to ensure that intercept is not penalized\n",
      "09/11/19 @ 04:21 PM | 1221 rows in lookup table\n",
      "09/11/19 @ 04:21 PM | ------------------------------------------------------------\n",
      "09/11/19 @ 04:21 PM | runnning initialization procedure\n",
      "09/11/19 @ 04:21 PM | ------------------------------------------------------------\n",
      "09/11/19 @ 04:22 PM | CPA produced 2 cuts\n",
      "09/11/19 @ 04:22 PM | running naive rounding on 74 solutions\n",
      "09/11/19 @ 04:22 PM | best objective value: 0.2543\n",
      "09/11/19 @ 04:22 PM | rounding produced 5 integer solutions\n",
      "09/11/19 @ 04:22 PM | best objective value is 0.2596\n",
      "09/11/19 @ 04:22 PM | running sequential rounding on 74 solutions\n",
      "09/11/19 @ 04:22 PM | best objective value: 0.2543\n",
      "09/11/19 @ 04:22 PM | sequential rounding produced 6 integer solutions\n",
      "09/11/19 @ 04:22 PM | best objective value: 0.2596\n",
      "09/11/19 @ 04:22 PM | polishing 11 solutions\n",
      "09/11/19 @ 04:22 PM | best objective value: 0.2596\n",
      "09/11/19 @ 04:22 PM | polishing produced 5 integer solutions\n",
      "09/11/19 @ 04:22 PM | initialization produced 9 feasible solutions\n",
      "09/11/19 @ 04:22 PM | best objective value: 0.2596\n",
      "09/11/19 @ 04:22 PM | ------------------------------------------------------------\n",
      "09/11/19 @ 04:22 PM | completed initialization procedure\n",
      "09/11/19 @ 04:22 PM | ------------------------------------------------------------\n",
      "09/11/19 @ 04:22 PM | 1221 rows in lookup table\n",
      "CPXPARAM_Read_DataCheck                          1\n",
      "CPXPARAM_Threads                                 1\n",
      "CPXPARAM_Parallel                                1\n",
      "CPXPARAM_RandomSeed                              0\n",
      "CPXPARAM_TimeLimit                               200\n",
      "CPXPARAM_MIP_Tolerances_LowerCutoff              0.25121342964812116\n",
      "CPXPARAM_MIP_Tolerances_UpperCutoff              0.25955393563903117\n"
     ]
    },
    {
     "name": "stderr",
     "output_type": "stream",
     "text": [
      "Warning: Control callbacks may disable some MIP features.\n"
     ]
    },
    {
     "name": "stdout",
     "output_type": "stream",
     "text": [
      "Lazy constraint(s) or lazy constraint callback is present.\n",
      "    Disabling dual reductions (CPX_PARAM_REDUCE) in presolve.\n",
      "    Disabling non-linear reductions (CPX_PARAM_PRELINEAR) in presolve.\n",
      "         Disabling repeat represolve because of lazy constraint/incumbent callback.\n",
      "09/11/19 @ 04:22 PM | adding 249 initial cuts\n",
      "1 of 1 MIP starts provided solutions.\n",
      "MIP start 'mip_start_0' defined initial solution with objective 0.2596.\n",
      "Tried aggregator 1 time.\n",
      "Reduced MIP has 30 rows, 60 columns, and 115 nonzeros.\n",
      "Reduced MIP has 28 binaries, 30 generals, 0 SOSs, and 0 indicators.\n",
      "Presolve time = 0.00 sec. (0.06 ticks)\n",
      "Probing time = 0.00 sec. (0.02 ticks)\n",
      "MIP emphasis: balance optimality and feasibility.\n",
      "MIP search method: traditional branch-and-cut.\n",
      "Parallel mode: none, using 1 thread.\n",
      "Root relaxation solution time = 0.00 sec. (0.04 ticks)\n",
      "\n",
      "        Nodes                                         Cuts/\n",
      "   Node  Left     Objective  IInf  Best Integer    Best Bound    ItCnt     Gap         Variable B NodeID Parent  Depth\n",
      "\n",
      "*     0+    0                            0.2596        0.2511             3.25%\n",
      "      0     0        0.2512     1        0.2596        0.2512        1    3.21%\n",
      "      0     0        0.2512     3        0.2596      Fract: 1        2    3.21%\n",
      "      0     0        0.2512     5        0.2596    MIRcuts: 1        9    3.21%\n",
      "      0     2        0.2512     4        0.2596        0.2512        9    3.21%                        0             0\n",
      "Elapsed time = 0.20 sec. (2.30 ticks, tree = 0.01 MB, solutions = 1)\n",
      "   1782   766        0.2572     4        0.2596        0.2512     7827    3.21%           rho_6 U   1782   1781     15\n",
      "   2800  1097        0.2569     4        0.2596        0.2512    12324    3.21%           rho_1 D   2800   2799     22\n",
      "*  3090+ 1196                            0.2595        0.2512             3.20%\n",
      "   3524  1339        0.2564     3        0.2595        0.2512    16098    3.20%          rho_19 U   3524   3523     25\n",
      "   4260  1601        0.2583     6        0.2595        0.2512    19273    3.20%          rho_27 D   4260   4259     30\n",
      "   4900  1796        0.2512    10        0.2595        0.2512    22816    3.20%          rho_16 U   4900   3864     13\n",
      "   5470  2000        0.2566     5        0.2595        0.2512    25995    3.20%           rho_4 U   5470   5469      6\n",
      "   6000  2156        0.2512    10        0.2595        0.2512    28877    3.20%          rho_16 D   6000   5999     18\n",
      "*  6330+ 2195                            0.2590        0.2512             3.00%\n",
      "   6462  2239        cutoff              0.2590        0.2512    31588    3.00%          rho_12 U   6462   6461     23\n",
      "   6922  2383        0.2575    10        0.2590        0.2512    34002    3.00%           rho_4 D   6922   6921     15\n",
      "   8990  3053        0.2564     1        0.2590        0.2512    44810    3.00%          rho_13 U   8990   8989     44\n",
      "Elapsed time = 6.02 sec. (3107.80 ticks, tree = 0.95 MB, solutions = 3)\n",
      "  11302  3934        0.2584    13        0.2590        0.2512    55580    3.00%          rho_19 U  11302  11300     20\n",
      "  13202  4751        0.2572     3        0.2590        0.2512    65649    3.00%          rho_20 D  13202  13201     16\n",
      "  15371  5364        0.2512     6        0.2590        0.2512    74740    3.00%           rho_0 D  15371  15369     47\n",
      "  17508  6115        0.2513    15        0.2590        0.2512    84446    3.00%          rho_11 U  17508  17507     12\n",
      "  19314  6985        0.2512     5        0.2590        0.2512    98135    3.00%           rho_0 D  19314  19312     83\n",
      "  21105  7708        0.2512     8        0.2590        0.2512   112074    3.00%          rho_11 U  21105  21103     48\n",
      "  23075  8445        0.2512     1        0.2590        0.2512   121990    3.00%          rho_11 U  23075  23057     60\n",
      "  25152  8896        0.2512     1        0.2590        0.2512   131621    3.00%          rho_11 U  25152  25134     84\n",
      "  27083  9481        0.2512     1        0.2590        0.2512   141831    3.00%          rho_11 U  27083  27081     60\n",
      "  28929 10441        0.2528    11        0.2590        0.2512   152487    3.00%           rho_8 U  28929  17599     19\n",
      "Elapsed time = 14.72 sec. (12648.42 ticks, tree = 3.59 MB, solutions = 3)\n",
      "  31233 11730        cutoff              0.2590        0.2512   161814    3.00%          rho_20 U  31233  31232     69\n",
      "  33698 12987        0.2536     9        0.2590        0.2512   170476    3.00%          rho_11 D  33698  33697     56\n",
      "  35980 14081        0.2547     5        0.2590        0.2512   178646    3.00%          rho_20 D  35980  35978     35\n",
      "  38215 15126        0.2512     9        0.2590        0.2512   187383    3.00%          rho_11 N  38215  38214     17\n",
      "  40165 15914        0.2516     9        0.2590        0.2512   197220    3.00%           rho_0 D  40165  40163     76\n",
      "  42264 16534        0.2578     5        0.2590        0.2512   206176    3.00%           rho_0 U  42264  42262     87\n",
      "  44344 17141        cutoff              0.2590        0.2512   214453    3.00%          rho_20 U  44344  44343     19\n",
      "  46182 17697        0.2515     6        0.2590        0.2512   222842    3.00%           rho_2 D  46182  46181     35\n",
      "  48020 18225        0.2549     9        0.2590        0.2512   230998    3.00%          rho_24 D  48020  48018     56\n",
      "  49863 18770        cutoff              0.2590        0.2512   239328    3.00%          rho_12 U  49863  49861     49\n",
      "Elapsed time = 22.77 sec. (22187.33 ticks, tree = 6.77 MB, solutions = 3)\n",
      "  51730 19324        0.2573     5        0.2590        0.2512   247231    3.00%          rho_10 U  51730  51729     71\n",
      "  53572 19959        0.2546     9        0.2590        0.2512   256022    3.00%          rho_12 D  53572  53570     60\n",
      "  55233 20642        0.2512     7        0.2590        0.2512   265606    3.00%          rho_11 U  55233  55231     63\n",
      "  57130 22025        0.2512     6        0.2590        0.2512   276484    3.00%           rho_0 D  57130  57128     74\n",
      "  58714 23081        0.2512    16        0.2590        0.2512   284787    3.00%           rho_4 D  58714   6102     20\n",
      "  59878 23875        cutoff              0.2590        0.2512   295641    3.00%          rho_26 D  59878  59876     67\n",
      "* 60000+23897                            0.2590        0.2512             2.99%\n",
      "  61248 24462        0.2533    16        0.2590        0.2512   305117    2.99%          rho_11 U  61248  61246     23\n",
      "  62480 25046        0.2587     3        0.2590        0.2512   314620    2.99%           rho_3 N  62480  62479     55\n",
      "  63710 25637        0.2558     5        0.2590        0.2512   325188    2.99%           rho_3 U  63710  63708     41\n",
      "  65344 26284        0.2512     1        0.2590        0.2512   335914    2.99%          rho_11 U  65344  65241     25\n",
      "Elapsed time = 31.47 sec. (31732.58 ticks, tree = 9.07 MB, solutions = 4)\n",
      "  67138 26898        0.2542     5        0.2590        0.2512   345764    2.99%           rho_3 N  67138  67117     30\n",
      "  68932 27484        0.2561    16        0.2590        0.2512   355747    2.99%          rho_19 U  68932  68931     23\n",
      "  70594 28197        0.2517    15        0.2590        0.2512   366119    2.99%          rho_11 N  70594  70593     53\n",
      "  72262 28837        0.2586     7        0.2590        0.2512   376117    2.99%          rho_26 D  72262  72259     38\n",
      "  73977 29409        0.2547     7        0.2590        0.2512   385306    2.99%          rho_24 D  73977  73976     65\n",
      "  75623 30007        0.2514    11        0.2590        0.2512   395068    2.99%          rho_11 N  75623  75581     47\n",
      "  77253 30359        0.2553     6        0.2590        0.2512   403539    2.99%           rho_2 N  77253  77251     62\n",
      "  78825 30678        0.2576     9        0.2590        0.2512   412064    2.99%          rho_26 D  78825  78824     52\n",
      "  80400 31013        0.2519     7        0.2590        0.2512   420660    2.99%          rho_12 N  80400  80398     43\n",
      "  81826 31535        0.2512     7        0.2590        0.2512   430235    2.99%          rho_11 U  81826  81824     55\n",
      "Elapsed time = 39.30 sec. (41277.99 ticks, tree = 10.69 MB, solutions = 4)\n",
      "  83306 32203        0.2554     7        0.2590        0.2512   439248    2.99%          rho_26 D  83306  83305     29\n",
      "  84811 32725        0.2512    11        0.2590        0.2512   447982    2.99%           rho_6 U  84811  12600     13\n",
      "  86332 33364        0.2530    10        0.2590        0.2512   457821    2.99%          rho_24 D  86332  86331     45\n",
      "  87824 33987        0.2512     4        0.2590        0.2512   467641    2.99%          rho_11 U  87824  87822     42\n",
      "* 88921 33712      integral     0        0.2584        0.2512   475801    2.79%\n",
      "  89216 33851        0.2512     9        0.2584        0.2512   477963    2.79%          rho_11 U  89216  89214     50\n",
      "  90544 34486        0.2512     7        0.2584        0.2512   488939    2.79%           rho_0 D  90544  90542     51\n",
      "* 91531 34888      integral     0        0.2584        0.2512   496361    2.78%\n",
      "  91868 34981        cutoff              0.2584        0.2512   499058    2.78%          rho_16 U  91868  20847     12\n",
      "  93267 35611        0.2571     5        0.2584        0.2512   508423    2.78%          rho_20 D  93267  93266     50\n",
      "  94853 36193        0.2512     1        0.2584        0.2512   516265    2.78%          rho_11 U  94853  94851     61\n",
      "  96488 36695        0.2512     5        0.2584        0.2512   523351    2.78%           rho_3 D  96488  96487     47\n",
      "Elapsed time = 47.72 sec. (50817.95 ticks, tree = 13.68 MB, solutions = 6)\n",
      "  98123 37227        0.2516     5        0.2584        0.2512   530442    2.78%          rho_11 D  98123  98122     49\n",
      "  99842 38021        cutoff              0.2584        0.2512   538529    2.78%          rho_28 U  99842  99841     33\n",
      " 101314 38832        0.2514    11        0.2584        0.2512   549211    2.78%          rho_11 D 101314 101313     38\n",
      " 102936 39412        cutoff              0.2584        0.2512   557585    2.78%          rho_14 U 102936 102935     42\n",
      " 104523 40029        0.2523     7        0.2584        0.2512   566245    2.78%           rho_5 D 104523 104522     23\n",
      " 105858 40805        0.2512     9        0.2584        0.2512   577171    2.78%          rho_11 U 105858 105856     49\n",
      " 106965 41644        0.2512     9        0.2584        0.2512   589506    2.78%           rho_0 D 106965 106963     48\n",
      " 108094 42353        cutoff              0.2584        0.2512   599265    2.78%           rho_2 U 108094 108093     27\n",
      " 109323 43113        0.2512    11        0.2584        0.2512   607203    2.78%           rho_0 D 109323 109321     67\n",
      " 110591 43908        cutoff              0.2584        0.2512   615156    2.78%          rho_11 U 110591 110590     53\n",
      "Elapsed time = 55.48 sec. (60357.62 ticks, tree = 15.90 MB, solutions = 6)\n",
      " 111770 44520        0.2561     3        0.2584        0.2512   623691    2.78%           rho_2 D 111770 111768     68\n",
      " 112946 45018        0.2513    15        0.2584        0.2512   632419    2.78%          rho_11 N 112946 112945     40\n",
      " 114209 45530        0.2561     5        0.2584        0.2512   641017    2.78%          rho_10 D 114209 114207     49\n",
      " 115493 46222        0.2570     9        0.2584        0.2512   650951    2.78%           rho_6 D 115493 115492     25\n",
      " 116817 46832        0.2512     7        0.2584        0.2512   660703    2.78%          rho_11 U 116817 116811     42\n",
      " 118403 47495        0.2526     9        0.2584        0.2512   671560    2.78%          rho_28 D 118403 118401     28\n",
      " 120066 48134        0.2539     9        0.2584        0.2512   682226    2.78%          rho_20 D 120066 120065     64\n",
      " 121603 48829        0.2514    15        0.2584        0.2512   692495    2.78%          rho_11 D 121603 121602     55\n",
      " 123101 49468        0.2512     5        0.2584        0.2512   702036    2.78%           rho_0 D 123101 123099     38\n",
      " 124534 50031        cutoff              0.2584        0.2512   712750    2.78%           rho_0 U 124534 124533     60\n",
      "Elapsed time = 65.02 sec. (69901.88 ticks, tree = 17.84 MB, solutions = 6)\n",
      " 125977 50593        0.2519    13        0.2584        0.2512   723583    2.78%          rho_11 D 125977 125976     77\n",
      " 127347 51377        0.2512     9        0.2584        0.2512   733818    2.78%          rho_11 U 127347 127307     57\n",
      " 128648 52032        0.2517     9        0.2584        0.2512   743805    2.78%           rho_0 U 128648 128647     26\n",
      " 129760 52722        0.2512    10        0.2584        0.2512   755185    2.78%           rho_0 D 129760 129758     56\n",
      " 130800 53358        0.2512    10        0.2584        0.2512   765276    2.78%          rho_11 U 130800 130798     53\n",
      " 131898 53962        cutoff              0.2584        0.2512   774945    2.78%          rho_24 U 131898 131897     34\n",
      " 133025 54699        0.2512    10        0.2584        0.2512   783926    2.78%           rho_0 D 133025 133023     64\n",
      " 134180 55368        0.2518    15        0.2584        0.2512   793049    2.78%          rho_19 D 134180 134179     32\n",
      " 135264 56039        0.2520     5        0.2584        0.2512   802225    2.78%           rho_1 D 135264 135263     55\n",
      " 136494 56592        0.2513    15        0.2584        0.2512   809935    2.78%          rho_11 D 136494 136493     54\n",
      "Elapsed time = 74.22 sec. (79443.89 ticks, tree = 19.92 MB, solutions = 6)\n",
      " 137740 57170        0.2567     7        0.2584        0.2512   817939    2.78%          rho_18 D 137740 137739     38\n",
      " 138910 57722        0.2563     7        0.2584        0.2512   826955    2.78%          rho_28 U 138910 138909     61\n",
      " 140178 58324        0.2513    15        0.2584        0.2512   836633    2.78%          rho_11 N 140178 140177     31\n",
      " 141305 58911        0.2513    15        0.2584        0.2512   845594    2.78%          rho_11 N 141305 141304     56\n",
      " 142500 59491        0.2560    12        0.2584        0.2512   854214    2.78%          rho_26 D 142500 142498     61\n",
      " 144164 60138        0.2551     9        0.2584        0.2512   864257    2.78%           rho_3 D 144164 144163     23\n",
      " 145818 60939        0.2512     4        0.2584        0.2512   873440    2.78%           rho_0 D 145818 145816     42\n",
      " 147635 61549        0.2512     4        0.2584        0.2512   881727    2.78%           rho_0 D 147635 147633     66\n",
      " 149466 62208        0.2512     8        0.2584        0.2512   891406    2.78%           rho_0 D 149466 149464     38\n",
      " 155698 64805        0.2512    13        0.2584        0.2512   929487    2.78%          rho_12 D 155698 155563     66\n",
      "Elapsed time = 87.42 sec. (91847.66 ticks, tree = 22.50 MB, solutions = 6)\n",
      " 161696 67524        0.2514    15        0.2584        0.2512   965059    2.78%          rho_11 D 161696 161695     45\n",
      " 166537 70367        cutoff              0.2584        0.2512  1004255    2.78%          rho_24 U 166537 166535     69\n",
      " 172702 72420        0.2512     9        0.2584        0.2512  1036979    2.78%          rho_11 U 172702 172700     54\n",
      " 178599 74340        0.2531     9        0.2584        0.2512  1069897    2.78%          rho_17 D 178599 178597     56\n",
      " 184428 75863        0.2550     5        0.2584        0.2512  1102310    2.78%          rho_14 D 184428 184426     53\n",
      " 189803 78413        0.2512     9        0.2584        0.2512  1140411    2.78%          rho_11 D 189803 189802     43\n",
      " 195262 80596        0.2554    14        0.2584        0.2512  1176442    2.78%          rho_11 U 195262 195260     22\n",
      " 201062 83122        0.2512     1        0.2584        0.2512  1207431    2.78%           rho_0 D 201062 201060     38\n",
      " 206596 85463        0.2512     7        0.2584        0.2512  1237786    2.78%           rho_0 D 206596 206594     30\n",
      " 211886 87837        cutoff              0.2584        0.2512  1270900    2.78%          rho_28 U 211886 211885     36\n",
      "Elapsed time = 122.50 sec. (129998.04 ticks, tree = 32.58 MB, solutions = 6)\n",
      " 216679 90079        0.2512     1        0.2584        0.2512  1309237    2.78%          rho_11 U 216679 216677     54\n",
      " 222059 91986        0.2512     4        0.2584        0.2512  1342829    2.78%          rho_11 U 222059 222057     90\n",
      " 227451 93795        0.2542    12        0.2584        0.2512  1374418    2.78%          rho_12 N 227451 226550     55\n",
      " 232654 96075        0.2513     9        0.2584        0.2512  1409153    2.78%           rho_0 U 232654 232653     56\n",
      " 237300 98675        0.2538     5        0.2584        0.2512  1441577    2.78%          rho_12 D 237300 237298     22\n",
      " 242090 101168        0.2517    11        0.2584        0.2512  1473774    2.78%           rho_8 D 242090 242089     55\n",
      " 248289 104068        0.2512    13        0.2584        0.2512  1507840    2.78%          rho_11 U 248289 248280     94\n",
      " 253295 106713        0.2577     3        0.2584        0.2512  1538923    2.78%          rho_10 D 253295 253293     27\n",
      " 259000 109509        0.2568     3        0.2584        0.2512  1573755    2.78%          rho_20 D 259000 258998     71\n",
      " 263950 112472        0.2512    13        0.2584        0.2512  1605042    2.78%           rho_0 D 263950 263934     43\n",
      "Elapsed time = 169.53 sec. (168152.64 ticks, tree = 40.51 MB, solutions = 6)\n",
      " 268431 114876        0.2512    14        0.2584        0.2512  1636734    2.78%           rho_0 U 268431 268408     33\n",
      " 273562 117056        0.2512     6        0.2584        0.2512  1670890    2.78%          rho_11 N 273562 271765     41\n",
      " 278557 119573        0.2512     7        0.2584        0.2512  1713498    2.78%          rho_11 D 278557 278555     79\n",
      " 282460 121839        0.2552     3        0.2584        0.2512  1751384    2.78%           rho_2 N 282460 282458     30\n",
      " 286681 124066        0.2523    12        0.2584        0.2512  1781379    2.78%          rho_11 D 286681 286679     26\n",
      " 290672 126850        0.2558     5        0.2584        0.2512  1819961    2.78%           rho_4 U 290672 290671     27\n",
      "\n",
      "User cuts applied:  960\n",
      "\n",
      "Root node processing (before b&c):\n",
      "  Real time             =    0.20 sec. (2.39 ticks)\n",
      "Sequential b&c:\n",
      "  Real time             =  199.81 sec. (193832.48 ticks)\n",
      "                          ------------\n",
      "Total (root+branch&cut) =  200.02 sec. (193834.87 ticks)\n",
      "+----------------------------------------------+------------------+-----------+\n",
      "| Pr(Y = +1) = 1.0/(1.0 + exp(-(-5 + score))   |                  |           |\n",
      "| ============================================ | ================ | ========= |\n",
      "| p_arrest>=2                                  |         1 points |   + ..... |\n",
      "| p_arrest>=4                                  |         1 points |   + ..... |\n",
      "| p_arrest>=8                                  |         1 points |   + ..... |\n",
      "| p_charges>=1                                 |         1 points |   + ..... |\n",
      "| p_felony>=1                                  |         1 points |   + ..... |\n",
      "| ============================================ | ================ | ========= |\n",
      "| ADD POINTS FROM ROWS 1 to 5                  |            SCORE |   = ..... |\n",
      "+----------------------------------------------+------------------+-----------+\n",
      "model_id, score_thresholds 0 {'rank_abs': [0]}\n",
      "get_disparity_predefined_group()\n"
     ]
    }
   ],
   "source": [
    "riskslim_summary = slim.risk_cv(X=sub_X, \n",
    "                                Y=sub_Y, \n",
    "                                indicator = indicator,\n",
    "                                y_label='recid_general6', \n",
    "                                max_coef=20, \n",
    "                                max_coef_number=10, \n",
    "                                max_runtime=200, \n",
    "                                c=1e-5, \n",
    "                                seed=816)"
   ]
  },
  {
   "cell_type": "code",
   "execution_count": 28,
   "metadata": {},
   "outputs": [
    {
     "data": {
      "text/plain": [
       "(0.7374623034598236, 0.7374189005541847)"
      ]
     },
     "execution_count": 28,
     "metadata": {},
     "output_type": "execute_result"
    }
   ],
   "source": [
    "np.mean(riskslim_summary['train_auc']), np.mean(riskslim_summary['test_auc'])"
   ]
  },
  {
   "cell_type": "markdown",
   "metadata": {},
   "source": [
    "### Results"
   ]
  },
  {
   "cell_type": "code",
   "execution_count": 29,
   "metadata": {},
   "outputs": [
    {
     "name": "stdout",
     "output_type": "stream",
     "text": [
      "Stored 'summary_general6_KY_interpret' (dict)\n"
     ]
    }
   ],
   "source": [
    "#### save results\n",
    "summary_general6_KY_interpret = {\"CART\": cart_summary,\n",
    "                                   \"EBM\": ebm_summary, \n",
    "                                   'Lasso Stumps': stump_summary, \n",
    "                                   'RiskSLIM': riskslim_summary, \n",
    "                                   'Arnold PSA Raw': raw_auc, \n",
    "                                   'Arnold PSA': calc_auc}\n",
    "%store summary_general6_KY_interpret"
   ]
  },
  {
   "cell_type": "code",
   "execution_count": 30,
   "metadata": {},
   "outputs": [
    {
     "data": {
      "text/plain": [
       "[['CART', 0.7606521344993251, 0.014779378341244853],\n",
       " ['EBM', 0.7647838037813457, 0.00598103432511714],\n",
       " ['Lasso Stumps', 0.7630182345501625, 0.0007092817200455625],\n",
       " ['RiskSLIM', 0.7374189005541847],\n",
       " ['Arnold PSA Raw', 0.71],\n",
       " ['Arnold PSA', 0.702]]"
      ]
     },
     "execution_count": 30,
     "metadata": {},
     "output_type": "execute_result"
    }
   ],
   "source": [
    "results = [[\"CART\", np.mean(cart_summary['holdout_test_auc']), np.mean(cart_summary['auc_diffs'])],\n",
    "           [\"EBM\", np.mean(ebm_summary['holdout_test_auc']), np.mean(ebm_summary['auc_diffs'])], \n",
    "           [\"Lasso Stumps\", np.mean(stump_summary['holdout_test_auc']), np.mean(stump_summary['auc_diffs'])],\n",
    "           ['RiskSLIM', np.mean(riskslim_summary['test_auc'])],\n",
    "           ['Arnold PSA Raw', round(np.mean(raw_auc), 3)], \n",
    "           ['Arnold PSA', round(np.mean(calc_auc), 3)]]\n",
    "results"
   ]
  },
  {
   "cell_type": "code",
   "execution_count": 31,
   "metadata": {},
   "outputs": [],
   "source": [
    "auc = [np.mean(cart_summary['holdout_test_auc']), \n",
    "       np.mean(ebm_summary['holdout_test_auc']), \n",
    "       np.mean(stump_summary['holdout_test_auc']), \n",
    "       np.mean(riskslim_summary['test_auc'])]"
   ]
  },
  {
   "cell_type": "code",
   "execution_count": 32,
   "metadata": {},
   "outputs": [],
   "source": [
    "path = \"C:/Users/binha/Documents/Duke/Cynthia Research/KY-analysis-mytrials/KY Recidivism/KY Results/Models/Six Month/\"\n",
    "results = [[\"\", \"CART\", \"EBM\", \"Lasso Stumps\", \"RiskSLIM\", \"Performance Range\", \"Arnold PSA Raw\", \"Arnold PSA\"],\n",
    "           [\"General\", np.str((round(np.mean(cart_summary['holdout_test_auc']), 3))) + \" (\" + np.str(round(np.std(cart_summary['holdout_test_auc']), 3)) + \")\", \n",
    "            np.str(round(np.mean(ebm_summary['holdout_test_auc']),3)) + \" (\" + np.str(round(np.std(ebm_summary['holdout_test_auc']), 3)) + \")\", \n",
    "            np.str(round(np.mean(stump_summary['holdout_test_auc']),3)) + \" (\" + np.str(round(np.std(stump_summary['holdout_test_auc']), 3)) + \")\",             \n",
    "            np.str(round(np.mean(riskslim_summary['test_auc']),3)) + \" (\" + np.str(round(np.std(riskslim_summary['test_auc']), 3)) + \")\", \n",
    "            round(np.max(auc) - np.min(auc), 3),\n",
    "            np.str(round(np.mean(raw_auc), 3)) + \" (\" + np.str(round(np.std(raw_auc),3)) + \")\", \n",
    "            np.str(round(np.mean(calc_auc), 3)) + \" (\" + np.str(round(np.std(calc_auc),3)) + \")\"]]\n",
    "with open(path + 'Interpretable Models Summary.csv', 'w') as writeFile:\n",
    "    writer = csv.writer(writeFile)\n",
    "    writer.writerows(results)"
   ]
  }
 ],
 "metadata": {
  "kernelspec": {
   "display_name": "Python 3",
   "language": "python",
   "name": "python3"
  },
  "language_info": {
   "codemirror_mode": {
    "name": "ipython",
    "version": 3
   },
   "file_extension": ".py",
   "mimetype": "text/x-python",
   "name": "python",
   "nbconvert_exporter": "python",
   "pygments_lexer": "ipython3",
   "version": "3.6.5"
  }
 },
 "nbformat": 4,
 "nbformat_minor": 4
}
