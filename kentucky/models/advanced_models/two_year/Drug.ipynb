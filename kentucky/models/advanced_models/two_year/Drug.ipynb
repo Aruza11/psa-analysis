{
 "cells": [
  {
   "cell_type": "code",
   "execution_count": 1,
   "metadata": {},
   "outputs": [
    {
     "name": "stdout",
     "output_type": "stream",
     "text": [
      "Current working directory is now:  C:\\Users\\binha\\Documents\\Duke\\Cynthia Research\\psa-analysis - test\n",
      "no stored variable summary_drug2_KY_interpret\n"
     ]
    },
    {
     "name": "stderr",
     "output_type": "stream",
     "text": [
      "C:\\Users\\binha\\Anaconda3\\lib\\site-packages\\sklearn\\externals\\six.py:31: DeprecationWarning:\n",
      "\n",
      "The module is deprecated in version 0.21 and will be removed in version 0.23 since we've dropped support for Python 2.7. Please rely on the official version of six (https://pypi.org/project/six/).\n",
      "\n"
     ]
    }
   ],
   "source": [
    "import os \n",
    "os.chdir('../../../../')\n",
    "print(\"Current working directory is now: \", os.getcwd())\n",
    "\n",
    "import pandas as pd \n",
    "import numpy as np\n",
    "import csv\n",
    "import utils.baseline_functions as base\n",
    "import stumps\n",
    "import RiskSLIM as slim\n",
    "\n",
    "from sklearn.linear_model import LogisticRegression\n",
    "from sklearn.model_selection import KFold, GridSearchCV\n",
    "from sklearn.metrics import roc_auc_score\n",
    "\n",
    "# restore saved variables\n",
    "%store -r summary_drug2_KY_interpret"
   ]
  },
  {
   "cell_type": "markdown",
   "metadata": {},
   "source": [
    "### CART & EBM"
   ]
  },
  {
   "cell_type": "code",
   "execution_count": 2,
   "metadata": {},
   "outputs": [],
   "source": [
    "### load data\n",
    "data = pd.read_csv(\"~/Documents/Duke/Cynthia Research/KY-analysis-mytrials/KY Recidivism/KY data/kentucky_data.csv\")\n",
    "data = data.drop(['fta_risk_score_raw','nca_risk_score_raw','pvf_risk_score_raw', \n",
    "                  'fta_calc', 'nca_calc', 'pvf_calc'], axis=1)\n",
    "x = data.loc[:,:'current_violence']\n",
    "y = data['recid_drug_two_year'].values"
   ]
  },
  {
   "cell_type": "code",
   "execution_count": 3,
   "metadata": {
    "scrolled": true
   },
   "outputs": [
    {
     "name": "stdout",
     "output_type": "stream",
     "text": [
      "model_id, score_thresholds 0 {'rank_abs': [68]}\n",
      "get_disparity_predefined_group()\n",
      "model_id, score_thresholds 0 {'rank_abs': [26]}\n",
      "get_disparity_predefined_group()\n",
      "model_id, score_thresholds 0 {'rank_abs': [46]}\n",
      "get_disparity_predefined_group()\n",
      "model_id, score_thresholds 0 {'rank_abs': [13]}\n",
      "get_disparity_predefined_group()\n",
      "model_id, score_thresholds 0 {'rank_abs': [11]}\n",
      "get_disparity_predefined_group()\n"
     ]
    },
    {
     "name": "stderr",
     "output_type": "stream",
     "text": [
      "WARNING:interpret.utils.all:Passing a numpy array to schema autogen when it should be dataframe.\n",
      "WARNING:interpret.utils.all:Passing a numpy array to schema autogen when it should be dataframe.\n",
      "WARNING:interpret.utils.all:Passing a numpy array to schema autogen when it should be dataframe.\n",
      "WARNING:interpret.utils.all:Passing a numpy array to schema autogen when it should be dataframe.\n",
      "WARNING:interpret.utils.all:Passing a numpy array to schema autogen when it should be dataframe.\n",
      "WARNING:interpret.utils.all:Passing a numpy array to schema autogen when it should be dataframe.\n",
      "WARNING:interpret.utils.all:Passing a numpy array to schema autogen when it should be dataframe.\n",
      "WARNING:interpret.utils.all:Passing a numpy array to schema autogen when it should be dataframe.\n",
      "WARNING:interpret.utils.all:Passing a numpy array to schema autogen when it should be dataframe.\n",
      "WARNING:interpret.utils.all:Passing a numpy array to schema autogen when it should be dataframe.\n",
      "WARNING:interpret.utils.all:Passing a numpy array to schema autogen when it should be dataframe.\n",
      "WARNING:interpret.utils.all:Passing a numpy array to schema autogen when it should be dataframe.\n"
     ]
    },
    {
     "name": "stdout",
     "output_type": "stream",
     "text": [
      "model_id, score_thresholds 0 {'rank_abs': [20]}\n",
      "get_disparity_predefined_group()\n"
     ]
    },
    {
     "name": "stderr",
     "output_type": "stream",
     "text": [
      "WARNING:interpret.utils.all:Passing a numpy array to schema autogen when it should be dataframe.\n",
      "WARNING:interpret.utils.all:Passing a numpy array to schema autogen when it should be dataframe.\n",
      "WARNING:interpret.utils.all:Passing a numpy array to schema autogen when it should be dataframe.\n",
      "WARNING:interpret.utils.all:Passing a numpy array to schema autogen when it should be dataframe.\n",
      "WARNING:interpret.utils.all:Passing a numpy array to schema autogen when it should be dataframe.\n",
      "WARNING:interpret.utils.all:Passing a numpy array to schema autogen when it should be dataframe.\n",
      "WARNING:interpret.utils.all:Passing a numpy array to schema autogen when it should be dataframe.\n",
      "WARNING:interpret.utils.all:Passing a numpy array to schema autogen when it should be dataframe.\n",
      "WARNING:interpret.utils.all:Passing a numpy array to schema autogen when it should be dataframe.\n",
      "WARNING:interpret.utils.all:Passing a numpy array to schema autogen when it should be dataframe.\n",
      "WARNING:interpret.utils.all:Passing a numpy array to schema autogen when it should be dataframe.\n",
      "WARNING:interpret.utils.all:Passing a numpy array to schema autogen when it should be dataframe.\n"
     ]
    },
    {
     "name": "stdout",
     "output_type": "stream",
     "text": [
      "model_id, score_thresholds 0 {'rank_abs': [15]}\n",
      "get_disparity_predefined_group()\n"
     ]
    },
    {
     "name": "stderr",
     "output_type": "stream",
     "text": [
      "WARNING:interpret.utils.all:Passing a numpy array to schema autogen when it should be dataframe.\n",
      "WARNING:interpret.utils.all:Passing a numpy array to schema autogen when it should be dataframe.\n",
      "WARNING:interpret.utils.all:Passing a numpy array to schema autogen when it should be dataframe.\n",
      "WARNING:interpret.utils.all:Passing a numpy array to schema autogen when it should be dataframe.\n",
      "WARNING:interpret.utils.all:Passing a numpy array to schema autogen when it should be dataframe.\n",
      "WARNING:interpret.utils.all:Passing a numpy array to schema autogen when it should be dataframe.\n",
      "WARNING:interpret.utils.all:Passing a numpy array to schema autogen when it should be dataframe.\n",
      "WARNING:interpret.utils.all:Passing a numpy array to schema autogen when it should be dataframe.\n",
      "WARNING:interpret.utils.all:Passing a numpy array to schema autogen when it should be dataframe.\n",
      "WARNING:interpret.utils.all:Passing a numpy array to schema autogen when it should be dataframe.\n",
      "WARNING:interpret.utils.all:Passing a numpy array to schema autogen when it should be dataframe.\n",
      "WARNING:interpret.utils.all:Passing a numpy array to schema autogen when it should be dataframe.\n"
     ]
    },
    {
     "name": "stdout",
     "output_type": "stream",
     "text": [
      "model_id, score_thresholds 0 {'rank_abs': [37]}\n",
      "get_disparity_predefined_group()\n"
     ]
    },
    {
     "name": "stderr",
     "output_type": "stream",
     "text": [
      "WARNING:interpret.utils.all:Passing a numpy array to schema autogen when it should be dataframe.\n",
      "WARNING:interpret.utils.all:Passing a numpy array to schema autogen when it should be dataframe.\n",
      "WARNING:interpret.utils.all:Passing a numpy array to schema autogen when it should be dataframe.\n",
      "WARNING:interpret.utils.all:Passing a numpy array to schema autogen when it should be dataframe.\n",
      "WARNING:interpret.utils.all:Passing a numpy array to schema autogen when it should be dataframe.\n",
      "WARNING:interpret.utils.all:Passing a numpy array to schema autogen when it should be dataframe.\n",
      "WARNING:interpret.utils.all:Passing a numpy array to schema autogen when it should be dataframe.\n",
      "WARNING:interpret.utils.all:Passing a numpy array to schema autogen when it should be dataframe.\n",
      "WARNING:interpret.utils.all:Passing a numpy array to schema autogen when it should be dataframe.\n",
      "WARNING:interpret.utils.all:Passing a numpy array to schema autogen when it should be dataframe.\n",
      "WARNING:interpret.utils.all:Passing a numpy array to schema autogen when it should be dataframe.\n",
      "WARNING:interpret.utils.all:Passing a numpy array to schema autogen when it should be dataframe.\n"
     ]
    },
    {
     "name": "stdout",
     "output_type": "stream",
     "text": [
      "model_id, score_thresholds 0 {'rank_abs': [18]}\n",
      "get_disparity_predefined_group()\n"
     ]
    },
    {
     "name": "stderr",
     "output_type": "stream",
     "text": [
      "WARNING:interpret.utils.all:Passing a numpy array to schema autogen when it should be dataframe.\n",
      "WARNING:interpret.utils.all:Passing a numpy array to schema autogen when it should be dataframe.\n",
      "WARNING:interpret.utils.all:Passing a numpy array to schema autogen when it should be dataframe.\n",
      "WARNING:interpret.utils.all:Passing a numpy array to schema autogen when it should be dataframe.\n",
      "WARNING:interpret.utils.all:Passing a numpy array to schema autogen when it should be dataframe.\n",
      "WARNING:interpret.utils.all:Passing a numpy array to schema autogen when it should be dataframe.\n",
      "WARNING:interpret.utils.all:Passing a numpy array to schema autogen when it should be dataframe.\n",
      "WARNING:interpret.utils.all:Passing a numpy array to schema autogen when it should be dataframe.\n",
      "WARNING:interpret.utils.all:Passing a numpy array to schema autogen when it should be dataframe.\n",
      "WARNING:interpret.utils.all:Passing a numpy array to schema autogen when it should be dataframe.\n",
      "WARNING:interpret.utils.all:Passing a numpy array to schema autogen when it should be dataframe.\n",
      "WARNING:interpret.utils.all:Passing a numpy array to schema autogen when it should be dataframe.\n"
     ]
    },
    {
     "name": "stdout",
     "output_type": "stream",
     "text": [
      "model_id, score_thresholds 0 {'rank_abs': [17]}\n",
      "get_disparity_predefined_group()\n"
     ]
    }
   ],
   "source": [
    "#### CART\n",
    "depth = [7,8,9]\n",
    "cart_summary = base.CART(X=x,\n",
    "                         Y=y,\n",
    "                         depth=depth,\n",
    "                         seed=816)\n",
    "\n",
    "#### EBM\n",
    "estimators = [20]\n",
    "depth = [2]\n",
    "learning_rate = [0.5]\n",
    "ebm_summary = base.EBM(X=x,\n",
    "                       Y=y,\n",
    "                       learning_rate=learning_rate,\n",
    "                       depth=depth,\n",
    "                       estimators=estimators,\n",
    "                       seed =816)"
   ]
  },
  {
   "cell_type": "code",
   "execution_count": 4,
   "metadata": {},
   "outputs": [
    {
     "data": {
      "text/plain": [
       "(0.6949277402624676, 0.016876619145890427)"
      ]
     },
     "execution_count": 4,
     "metadata": {},
     "output_type": "execute_result"
    }
   ],
   "source": [
    "np.mean(cart_summary['holdout_test_auc']), np.mean(cart_summary['auc_diffs'])"
   ]
  },
  {
   "cell_type": "code",
   "execution_count": 6,
   "metadata": {},
   "outputs": [
    {
     "data": {
      "text/plain": [
       "(0.7014736549700928, 0.007181449117447359)"
      ]
     },
     "execution_count": 6,
     "metadata": {},
     "output_type": "execute_result"
    }
   ],
   "source": [
    "np.mean(ebm_summary['holdout_test_auc']), np.mean(ebm_summary['auc_diffs'])"
   ]
  },
  {
   "cell_type": "markdown",
   "metadata": {},
   "source": [
    "### Lasso Stumps"
   ]
  },
  {
   "cell_type": "code",
   "execution_count": 7,
   "metadata": {},
   "outputs": [],
   "source": [
    "## load whole data\n",
    "data = pd.read_csv(\"~/Documents/Duke/Cynthia Research/KY-analysis-mytrials/KY Recidivism/KY data/kentucky_stumps.csv\")\n",
    "X_stumps, Y_stumps = data.loc[:,:'current_violence>=1'], data['recid_drug_two_year'].values\n",
    "Y_stumps[Y_stumps == -1] = 0\n",
    "cols = X_stumps.columns[3:]\n",
    "\n",
    "## load train & test data\n",
    "train_stumps = pd.read_csv(\"~/Documents/Duke/Cynthia Research/KY-analysis-mytrials/KY Recidivism/KY data/kentucky_train_stumps.csv\")\n",
    "test_stumps = pd.read_csv(\"~/Documents/Duke/Cynthia Research/KY-analysis-mytrials/KY Recidivism/KY data/kentucky_test_stumps.csv\")\n",
    "\n",
    "X_train_stumps, Y_train_stumps = train_stumps.loc[:,:'current_violence>=1'], train_stumps['recid_drug_two_year'].values\n",
    "X_test_stumps, Y_test_stumps = test_stumps.loc[:,:'current_violence>=1'], test_stumps['recid_drug_two_year'].values\n",
    "\n",
    "Y_train_stumps[Y_train_stumps == -1] = 0\n",
    "Y_test_stumps[Y_test_stumps == -1] = 0"
   ]
  },
  {
   "cell_type": "code",
   "execution_count": 8,
   "metadata": {},
   "outputs": [
    {
     "name": "stdout",
     "output_type": "stream",
     "text": [
      "model_id, score_thresholds 0 {'rank_abs': [16451]}\n",
      "get_disparity_predefined_group()\n",
      "model_id, score_thresholds 0 {'rank_abs': [15466]}\n",
      "get_disparity_predefined_group()\n",
      "model_id, score_thresholds 0 {'rank_abs': [15131]}\n",
      "get_disparity_predefined_group()\n",
      "model_id, score_thresholds 0 {'rank_abs': [14883]}\n",
      "get_disparity_predefined_group()\n",
      "model_id, score_thresholds 0 {'rank_abs': [15805]}\n",
      "get_disparity_predefined_group()\n"
     ]
    }
   ],
   "source": [
    "stump_summary = stumps.stump_cv(X = X_stumps, \n",
    "                                Y = Y_stumps, \n",
    "                                columns=cols, \n",
    "                                c_grid={'C': [0.007, 0.005, 0.003]}, \n",
    "                                seed = 816)"
   ]
  },
  {
   "cell_type": "code",
   "execution_count": 9,
   "metadata": {},
   "outputs": [
    {
     "data": {
      "text/plain": [
       "([{'C': 0.007}, {'C': 0.007}, {'C': 0.007}, {'C': 0.007}, {'C': 0.007}],\n",
       " 0.69931057367503,\n",
       " 0.0012430422597720981)"
      ]
     },
     "execution_count": 9,
     "metadata": {},
     "output_type": "execute_result"
    }
   ],
   "source": [
    "stump_summary['best_params'], np.mean(stump_summary['holdout_test_auc']), np.mean(stump_summary['auc_diffs'])"
   ]
  },
  {
   "cell_type": "markdown",
   "metadata": {},
   "source": [
    "##### Best Stump Model"
   ]
  },
  {
   "cell_type": "code",
   "execution_count": 14,
   "metadata": {},
   "outputs": [],
   "source": [
    "best_stump_model = stumps.stump_model(X_train_stumps, Y_train_stumps, \n",
    "                                      X_test_stumps, Y_test_stumps, \n",
    "                                      c=0.003, columns=cols, seed=816)"
   ]
  },
  {
   "cell_type": "markdown",
   "metadata": {},
   "source": [
    "##### Prediction Table"
   ]
  },
  {
   "cell_type": "code",
   "execution_count": 15,
   "metadata": {
    "scrolled": true
   },
   "outputs": [
    {
     "name": "stdout",
     "output_type": "stream",
     "text": [
      "+-----------------------------------+----------------+\n",
      "| Features                          | Score          |\n",
      "|====================================================|\n",
      "| sex                               | 4.4            |\n",
      "| age_at_current_charge<=43         | 8.5            |\n",
      "| p_arrest>=1                       | -28.2          |\n",
      "| p_arrest>=2                       | 39.2           |\n",
      "| p_arrest>=3                       | 27.4           |\n",
      "| p_arrest>=4                       | 7.5            |\n",
      "| p_arrest>=5                       | 13.4           |\n",
      "| p_arrest>=6                       | 8.0            |\n",
      "| p_charges>=1                      | -31.5          |\n",
      "| p_felony>=2                       | -3.3           |\n",
      "| p_misdemeanor>=1                  | 3.8            |\n",
      "| p_misdemeanor>=2                  | 4.6            |\n",
      "| p_misdemeanor>=3                  | 4.4            |\n",
      "| p_drug>=1                         | 61.5           |\n",
      "| p_drug>=2                         | 8.2            |\n",
      "| p_stealing>=1                     | -14.6          |\n",
      "| ADE>=1                            | -22.7          |\n",
      "| p_prison>=1                       | -16.8          |\n",
      "| p_jail30>=1                       | 10.5           |\n",
      "| p_pending_charge>=1               | 44.6           |\n",
      "| p_probation>=1                    | 12.1           |\n",
      "| current_violence>=1               | -0.3           |\n",
      "| Intercept                         | -0.331         |\n",
      "|====================================================|\n",
      "| ADD POINTS FROM ROWS 1 TO 22      | Total Score    |\n",
      "+-----------------------------------+----------------+\n"
     ]
    }
   ],
   "source": [
    "stumps.stump_table(best_stump_model['coefs'], \n",
    "                   best_stump_model['features'], \n",
    "                   best_stump_model['intercept'], \n",
    "                   best_stump_model['dictionary'])"
   ]
  },
  {
   "cell_type": "code",
   "execution_count": 16,
   "metadata": {},
   "outputs": [
    {
     "name": "stdout",
     "output_type": "stream",
     "text": [
      "model_id, score_thresholds 0 {'rank_abs': [14924]}\n",
      "get_disparity_predefined_group()\n",
      "model_id, score_thresholds 0 {'rank_abs': [14988]}\n",
      "get_disparity_predefined_group()\n",
      "model_id, score_thresholds 0 {'rank_abs': [14327]}\n",
      "get_disparity_predefined_group()\n",
      "model_id, score_thresholds 0 {'rank_abs': [14277]}\n",
      "get_disparity_predefined_group()\n",
      "model_id, score_thresholds 0 {'rank_abs': [14988]}\n",
      "get_disparity_predefined_group()\n"
     ]
    }
   ],
   "source": [
    "stump_summary = stumps.stump_cv(X = X_stumps, \n",
    "                                Y = Y_stumps, \n",
    "                                columns=cols, \n",
    "                                c_grid={'C': [0.003]}, \n",
    "                                seed = 816)"
   ]
  },
  {
   "cell_type": "code",
   "execution_count": 17,
   "metadata": {},
   "outputs": [
    {
     "data": {
      "text/plain": [
       "([{'C': 0.003}, {'C': 0.003}, {'C': 0.003}, {'C': 0.003}, {'C': 0.003}],\n",
       " 0.6966815902686664,\n",
       " 0.0008163942945702107)"
      ]
     },
     "execution_count": 17,
     "metadata": {},
     "output_type": "execute_result"
    }
   ],
   "source": [
    "stump_summary['best_params'], np.mean(stump_summary['holdout_test_auc']), np.mean(stump_summary['auc_diffs'])"
   ]
  },
  {
   "cell_type": "markdown",
   "metadata": {},
   "source": [
    "##### Stumps Visualizations"
   ]
  },
  {
   "cell_type": "code",
   "execution_count": 18,
   "metadata": {
    "scrolled": true
   },
   "outputs": [
    {
     "data": {
      "image/png": "[encoded data removed]",
      "text/plain": [
       "<Figure size 288x216 with 1 Axes>"
      ]
     },
     "metadata": {
      "needs_background": "light"
     },
     "output_type": "display_data"
    },
    {
     "data": {
      "image/png": "[encoded data removed]",
      "text/plain": [
       "<Figure size 288x216 with 1 Axes>"
      ]
     },
     "metadata": {
      "needs_background": "light"
     },
     "output_type": "display_data"
    },
    {
     "data": {
      "image/png": "[encoded data removed]",
      "text/plain": [
       "<Figure size 288x216 with 1 Axes>"
      ]
     },
     "metadata": {
      "needs_background": "light"
     },
     "output_type": "display_data"
    },
    {
     "data": {
      "image/png": "[encoded data removed]",
      "text/plain": [
       "<Figure size 288x216 with 1 Axes>"
      ]
     },
     "metadata": {
      "needs_background": "light"
     },
     "output_type": "display_data"
    },
    {
     "data": {
      "image/png": "[encoded data removed]",
      "text/plain": [
       "<Figure size 288x216 with 1 Axes>"
      ]
     },
     "metadata": {
      "needs_background": "light"
     },
     "output_type": "display_data"
    },
    {
     "data": {
      "image/png": "[encoded data removed]",
      "text/plain": [
       "<Figure size 288x216 with 1 Axes>"
      ]
     },
     "metadata": {
      "needs_background": "light"
     },
     "output_type": "display_data"
    },
    {
     "data": {
      "image/png": "[encoded data removed]",
      "text/plain": [
       "<Figure size 288x216 with 1 Axes>"
      ]
     },
     "metadata": {
      "needs_background": "light"
     },
     "output_type": "display_data"
    },
    {
     "data": {
      "image/png": "[encoded data removed]",
      "text/plain": [
       "<Figure size 288x216 with 1 Axes>"
      ]
     },
     "metadata": {
      "needs_background": "light"
     },
     "output_type": "display_data"
    },
    {
     "data": {
      "image/png": "[encoded data removed]",
      "text/plain": [
       "<Figure size 288x216 with 1 Axes>"
      ]
     },
     "metadata": {
      "needs_background": "light"
     },
     "output_type": "display_data"
    },
    {
     "data": {
      "image/png": "[encoded data removed]",
      "text/plain": [
       "<Figure size 288x216 with 1 Axes>"
      ]
     },
     "metadata": {
      "needs_background": "light"
     },
     "output_type": "display_data"
    },
    {
     "data": {
      "image/png": "[encoded data removed]",
      "text/plain": [
       "<Figure size 288x216 with 1 Axes>"
      ]
     },
     "metadata": {
      "needs_background": "light"
     },
     "output_type": "display_data"
    },
    {
     "data": {
      "image/png": "[encoded data removed]",
      "text/plain": [
       "<Figure size 288x216 with 1 Axes>"
      ]
     },
     "metadata": {
      "needs_background": "light"
     },
     "output_type": "display_data"
    },
    {
     "data": {
      "image/png": "[encoded data removed]",
      "text/plain": [
       "<Figure size 288x216 with 1 Axes>"
      ]
     },
     "metadata": {
      "needs_background": "light"
     },
     "output_type": "display_data"
    },
    {
     "data": {
      "image/png": "[encoded data removed]",
      "text/plain": [
       "<Figure size 288x216 with 1 Axes>"
      ]
     },
     "metadata": {
      "needs_background": "light"
     },
     "output_type": "display_data"
    }
   ],
   "source": [
    "stumps.stump_plots(best_stump_model['features'], best_stump_model['coefs'])"
   ]
  },
  {
   "cell_type": "markdown",
   "metadata": {},
   "source": [
    "### Arnold PSA"
   ]
  },
  {
   "cell_type": "code",
   "execution_count": 19,
   "metadata": {},
   "outputs": [],
   "source": [
    "### load data\n",
    "data = pd.read_csv(\"~/Documents/Duke/Cynthia Research/KY-analysis-mytrials/KY Recidivism/KY data/kentucky_data.csv\")\n",
    "X_arnold_raw = data['nca_risk_score_raw'].values\n",
    "X_arnold_calc = data['nca_calc'].values\n",
    "Y_arnold = data['recid_drug_two_year'].values"
   ]
  },
  {
   "cell_type": "code",
   "execution_count": 20,
   "metadata": {},
   "outputs": [],
   "source": [
    "## set up cross validation\n",
    "cv = KFold(n_splits=5,shuffle=True,random_state=816)\n",
    "raw_auc = []\n",
    "calc_auc = []\n",
    "\n",
    "## raw score\n",
    "i = 1\n",
    "for train, test in cv.split(X_arnold_raw, Y_arnold):\n",
    "    y_pred_raw, y_pred_calc, y_test = X_arnold_raw[test], X_arnold_calc[test], Y_arnold[test]\n",
    "    raw_auc.append(roc_auc_score(y_test, y_pred_raw))\n",
    "    calc_auc.append(roc_auc_score(y_test, y_pred_calc))\n",
    "    i+=1 "
   ]
  },
  {
   "cell_type": "markdown",
   "metadata": {},
   "source": [
    "## RiskSLIM"
   ]
  },
  {
   "cell_type": "code",
   "execution_count": 21,
   "metadata": {},
   "outputs": [],
   "source": [
    "## load stumps data\n",
    "data = pd.read_csv(\"~/Documents/Duke/Cynthia Research/KY-analysis-mytrials/KY Recidivism/KY data/kentucky_stumps.csv\")\n",
    "x, y = data.loc[:,:'current_violence>=1'], data['recid_drug_two_year'].values\n",
    "cols = x.columns[3:]"
   ]
  },
  {
   "cell_type": "code",
   "execution_count": 22,
   "metadata": {},
   "outputs": [
    {
     "data": {
      "text/plain": [
       "24"
      ]
     },
     "execution_count": 22,
     "metadata": {},
     "output_type": "execute_result"
    }
   ],
   "source": [
    "## train on best param chosen by Lasso Stumps from above\n",
    "x_train = x.copy().drop(['race', 'person_id', 'screening_date'], axis=1)\n",
    "lasso = LogisticRegression(class_weight='balanced', solver='liblinear', penalty='l1', C=0.003, random_state=816).fit(x_train,y)\n",
    "selected_features = cols[lasso.coef_[0] != 0].tolist()\n",
    "len(selected_features)"
   ]
  },
  {
   "cell_type": "code",
   "execution_count": 23,
   "metadata": {},
   "outputs": [],
   "source": [
    "### Subset features\n",
    "if 'sex' in selected_features:\n",
    "    selected_features = ['recid_drug_two_year', 'person_id', 'screening_date', 'race'] + selected_features\n",
    "    indicator = 1\n",
    "else:\n",
    "    selected_features = ['recid_drug_two_year', 'person_id', 'screening_date', 'race', 'sex'] + selected_features\n",
    "    indicator = 0\n",
    "\n",
    "sub_data = data[selected_features]\n",
    "sub_X, sub_Y = sub_data.iloc[:,1:], sub_data.iloc[:,0].values\n",
    "sub_X.insert(0, '(Intercept)', 1)"
   ]
  },
  {
   "cell_type": "code",
   "execution_count": 24,
   "metadata": {
    "scrolled": true
   },
   "outputs": [
    {
     "name": "stdout",
     "output_type": "stream",
     "text": [
      "setting c0 = 0.0 to ensure that intercept is not penalized\n",
      "09/11/19 @ 12:38 AM | 1061 rows in lookup table\n",
      "09/11/19 @ 12:38 AM | ------------------------------------------------------------\n",
      "09/11/19 @ 12:38 AM | runnning initialization procedure\n",
      "09/11/19 @ 12:38 AM | ------------------------------------------------------------\n",
      "09/11/19 @ 12:38 AM | CPA produced 2 cuts\n",
      "09/11/19 @ 12:38 AM | running naive rounding on 58 solutions\n",
      "09/11/19 @ 12:38 AM | best objective value: 0.2812\n",
      "09/11/19 @ 12:38 AM | rounding produced 5 integer solutions\n",
      "09/11/19 @ 12:38 AM | best objective value is 0.2907\n",
      "09/11/19 @ 12:38 AM | running sequential rounding on 58 solutions\n",
      "09/11/19 @ 12:38 AM | best objective value: 0.2812\n",
      "09/11/19 @ 12:39 AM | sequential rounding produced 6 integer solutions\n",
      "09/11/19 @ 12:39 AM | best objective value: 0.2881\n",
      "09/11/19 @ 12:39 AM | polishing 11 solutions\n",
      "09/11/19 @ 12:39 AM | best objective value: 0.2881\n",
      "09/11/19 @ 12:39 AM | polishing produced 5 integer solutions\n",
      "09/11/19 @ 12:39 AM | initialization produced 10 feasible solutions\n",
      "09/11/19 @ 12:39 AM | best objective value: 0.2878\n",
      "09/11/19 @ 12:39 AM | ------------------------------------------------------------\n",
      "09/11/19 @ 12:39 AM | completed initialization procedure\n",
      "09/11/19 @ 12:39 AM | ------------------------------------------------------------\n",
      "09/11/19 @ 12:39 AM | 1061 rows in lookup table\n",
      "CPXPARAM_Read_DataCheck                          1\n",
      "CPXPARAM_Threads                                 1\n",
      "CPXPARAM_Parallel                                1\n",
      "CPXPARAM_RandomSeed                              0\n",
      "CPXPARAM_TimeLimit                               200\n",
      "CPXPARAM_MIP_Tolerances_LowerCutoff              0.27952044905106904\n",
      "CPXPARAM_MIP_Tolerances_UpperCutoff              0.287787816617048\n"
     ]
    },
    {
     "name": "stderr",
     "output_type": "stream",
     "text": [
      "Warning: Control callbacks may disable some MIP features.\n"
     ]
    },
    {
     "name": "stdout",
     "output_type": "stream",
     "text": [
      "Lazy constraint(s) or lazy constraint callback is present.\n",
      "    Disabling dual reductions (CPX_PARAM_REDUCE) in presolve.\n",
      "    Disabling non-linear reductions (CPX_PARAM_PRELINEAR) in presolve.\n",
      "         Disabling repeat represolve because of lazy constraint/incumbent callback.\n",
      "09/11/19 @ 12:39 AM | adding 239 initial cuts\n",
      "1 of 1 MIP starts provided solutions.\n",
      "MIP start 'mip_start_0' defined initial solution with objective 0.2878.\n",
      "Tried aggregator 1 time.\n",
      "Reduced MIP has 26 rows, 52 columns, and 99 nonzeros.\n",
      "Reduced MIP has 24 binaries, 26 generals, 0 SOSs, and 0 indicators.\n",
      "Presolve time = 0.02 sec. (0.05 ticks)\n",
      "Probing time = 0.00 sec. (0.01 ticks)\n",
      "MIP emphasis: balance optimality and feasibility.\n",
      "MIP search method: traditional branch-and-cut.\n",
      "Parallel mode: none, using 1 thread.\n",
      "Root relaxation solution time = 0.00 sec. (0.03 ticks)\n",
      "\n",
      "        Nodes                                         Cuts/\n",
      "   Node  Left     Objective  IInf  Best Integer    Best Bound    ItCnt     Gap         Variable B NodeID Parent  Depth\n",
      "\n",
      "*     0+    0                            0.2878        0.2795             2.87%\n",
      "      0     0        0.2795     1        0.2878        0.2795        0    2.87%\n",
      "      0     0        0.2795     1        0.2878      Fract: 1        2    2.87%\n",
      "      0     2        0.2795     2        0.2878        0.2795        2    2.87%                        0             0\n",
      "Elapsed time = 0.11 sec. (1.52 ticks, tree = 0.01 MB, solutions = 1)\n",
      "*   893   351      integral     0        0.2861        0.2795     3200    2.30%\n",
      "   1943   739        cutoff              0.2861        0.2795     9175    2.30%          rho_13 U   1943   1942     23\n",
      "   3190  1215        0.2795    10        0.2861        0.2795    16664    2.30%           rho_4 U   3190   3188     26\n",
      "   4320  1628        0.2805    12        0.2861        0.2795    24461    2.30%           rho_4 U   4320   4318     37\n",
      "   5395  2058        cutoff              0.2861        0.2795    31354    2.30%           rho_0 U   5395   5393     22\n",
      "   6341  2370        0.2853    13        0.2861        0.2795    39128    2.30%          rho_10 D   6341   6339     20\n",
      "   7346  2688        cutoff              0.2861        0.2795    45350    2.30%           rho_0 U   7346   7345     67\n",
      "   8306  3141        0.2795    10        0.2861        0.2795    52594    2.30%          rho_10 U   8306   8304     69\n",
      "   9270  3726        0.2795    10        0.2861        0.2795    58631    2.30%           rho_1 D   9270   9269     14\n",
      "  10373  4160        0.2795     6        0.2861        0.2795    64650    2.30%           rho_5 U  10373  10250     31\n",
      "  14440  5393        0.2857     9        0.2861        0.2795    88263    2.30%          rho_13 D  14440  14439     41\n",
      "Elapsed time = 4.59 sec. (3102.16 ticks, tree = 1.49 MB, solutions = 2)\n",
      "  17963  6333        cutoff              0.2861        0.2795   111882    2.30%          rho_20 U  17963  17962     45\n",
      "  21946  7637        0.2795     4        0.2861        0.2795   133092    2.30%          rho_10 U  21946  21944     38\n",
      "  25781  8880        cutoff              0.2861        0.2795   156327    2.30%          rho_20 U  25781  25779     24\n",
      "  29660 10032        0.2795    13        0.2861        0.2795   178981    2.30%           rho_5 N  29660  29659     76\n",
      "  33492 11173        0.2829    15        0.2861        0.2795   201173    2.30%           rho_0 N  33492  33490     23\n",
      "  37490 12386        0.2840    17        0.2861        0.2795   222743    2.30%           rho_6 D  37490  37489     25\n",
      "  41270 14199        0.2809    13        0.2861        0.2795   245411    2.30%           rho_5 N  41270  41269     19\n",
      "  45109 15291        cutoff              0.2861        0.2795   266309    2.30%           rho_7 D  45109  45108     80\n",
      "  48746 16614        0.2806    15        0.2861        0.2795   289075    2.30%           rho_0 D  48746  48744     63\n",
      "  52260 17757        0.2823    11        0.2861        0.2795   311508    2.30%          rho_13 D  52260  52259     43\n",
      "Elapsed time = 11.70 sec. (12641.39 ticks, tree = 5.32 MB, solutions = 2)\n",
      "  56128 18660        0.2835    11        0.2861        0.2795   331590    2.30%           rho_6 D  56128  56126     60\n",
      "  59757 19552        0.2834    13        0.2861        0.2795   352551    2.30%           rho_2 N  59757  59756     47\n",
      "  63611 20413        0.2852     5        0.2861        0.2795   373271    2.30%           rho_6 D  63611  63610     47\n",
      "  67437 21238        0.2842    15        0.2861        0.2795   394243    2.30%           rho_6 D  67437  67435     39\n",
      "  71304 22287        0.2795     7        0.2861        0.2795   414360    2.30%           rho_2 D  71304  71287     56\n",
      "  75289 23340        0.2845     9        0.2861        0.2795   434175    2.30%           rho_1 D  75289  75288     39\n",
      "  79090 24292        0.2795     8        0.2861        0.2795   455282    2.30%          rho_12 N  79090  78987     70\n",
      "  82493 25295        cutoff              0.2861        0.2795   477837    2.30%           rho_2 U  82493  82492     64\n",
      "  86241 26448        cutoff              0.2861        0.2795   498984    2.30%           rho_6 U  86241  86240     54\n",
      "  90323 27843        0.2795    10        0.2861        0.2795   520408    2.30%           rho_3 N  90323  89983     38\n",
      "Elapsed time = 17.91 sec. (22179.75 ticks, tree = 7.64 MB, solutions = 2)\n",
      "  93897 29078        0.2859    13        0.2861        0.2795   543071    2.30%           rho_2 N  93897  93896     35\n",
      "  97037 29907        cutoff              0.2861        0.2795   563606    2.30%           rho_7 U  97037  97036     48\n",
      " 100953 31305        0.2797     7        0.2861        0.2795   580162    2.30%          rho_12 D 100953 100952     59\n",
      " 104650 32921        0.2812     5        0.2861        0.2795   598863    2.30%           rho_0 U 104650 104648     53\n",
      " 108003 33798        0.2795    14        0.2861        0.2795   619152    2.30%           rho_0 D 108003  97056     31\n",
      " 111424 34383        0.2860     5        0.2861        0.2795   639456    2.30%           rho_4 N 111424 111423     32\n",
      " 115067 35112        0.2836     9        0.2861        0.2795   658061    2.30%          rho_20 D 115067 115065     75\n",
      " 118525 36118        0.2850     9        0.2861        0.2795   677806    2.30%          rho_20 D 118525 118523     46\n",
      " 122091 37035        0.2833     9        0.2861        0.2795   697937    2.30%          rho_13 D 122091 122089     28\n",
      " 125566 37417        0.2795     9        0.2861        0.2795   716554    2.30%           rho_0 D 125566 108770     56\n",
      "Elapsed time = 23.17 sec. (31717.85 ticks, tree = 11.27 MB, solutions = 2)\n",
      " 129068 37853        0.2802    14        0.2861        0.2795   736809    2.30%           rho_2 D 129068 108800     35\n",
      " 132701 38679        cutoff              0.2861        0.2795   755642    2.30%           rho_3 U 132701 131801     74\n",
      " 135741 38955        0.2854     5        0.2861        0.2795   777411    2.30%           rho_0 U 135741 135740     74\n",
      " 139482 40358        0.2845     3        0.2861        0.2795   797024    2.30%           rho_0 U 139482 139481     35\n",
      " 143220 41373        0.2797    17        0.2861        0.2796   815745    2.28%           rho_5 D 143220  39631     36\n",
      " 147454 42886        0.2825     6        0.2861        0.2796   832667    2.26%           rho_2 U 147454 147452     64\n",
      " 151710 43978        0.2834    10        0.2861        0.2797   850400    2.26%           rho_1 D 151710 151709     25\n",
      " 155131 45061        0.2831    11        0.2861        0.2797   870570    2.25%           rho_2 D 155131 155129     43\n",
      " 159505 47507        0.2821     8        0.2861        0.2797   886433    2.24%          rho_12 D 159505 159504     39\n",
      " 164055 49211        0.2797    12        0.2861        0.2797   902765    2.23%           rho_0 D 164055 164053     38\n",
      "Elapsed time = 29.25 sec. (41256.98 ticks, tree = 14.05 MB, solutions = 2)\n",
      " 168600 51402        0.2816     5        0.2861        0.2797   916177    2.23%          rho_10 D 168600 168598     54\n",
      " 172755 52415        0.2849     5        0.2861        0.2797   933500    2.23%           rho_2 N 172755 164090     57\n"
     ]
    },
    {
     "name": "stdout",
     "output_type": "stream",
     "text": [
      " 177420 53477        cutoff              0.2861        0.2797   949717    2.23%          rho_13 U 177420 177419     47\n",
      " 181686 54543        cutoff              0.2861        0.2797   967881    2.23%          rho_11 D 181686 181685     57\n",
      " 185560 54962        0.2806    10        0.2861        0.2798   986480    2.22%           rho_3 D 185560 185559     22\n",
      " 189520 55374        0.2839    13        0.2861        0.2798  1002408    2.20%           rho_5 D 189520 189519     42\n",
      " 193902 56456        0.2800    11        0.2861        0.2798  1017552    2.19%          rho_12 D 193902 105280     56\n",
      " 197527 57475        cutoff              0.2861        0.2799  1035436    2.16%           rho_3 U 197527 140853     62\n",
      " 201518 57675        0.2800    12        0.2861        0.2800  1051723    2.15%          rho_10 U 201518 201516     37\n",
      " 205468 59326        0.2801    11        0.2861        0.2800  1068264    2.14%           rho_5 D 205468  63750     39\n",
      "Elapsed time = 35.53 sec. (50796.36 ticks, tree = 16.40 MB, solutions = 2)\n",
      " 209247 61099        0.2825     9        0.2861        0.2800  1086415    2.13%          rho_12 D 209247 209245     59\n",
      " 212321 61777        0.2825     9        0.2861        0.2800  1105877    2.13%          rho_12 D 212321 212319     51\n",
      " 215844 62729        0.2848    13        0.2861        0.2800  1121554    2.13%          rho_14 D 215844 215842     41\n",
      " 219456 62917        cutoff              0.2861        0.2801  1139196    2.11%           rho_2 U 219456 167697     72\n",
      " 223126 63799        0.2855    13        0.2861        0.2801  1156206    2.09%           rho_6 D 223126 223125     40\n",
      " 226879 64771        cutoff              0.2861        0.2801  1174230    2.09%           rho_0 U 226879 226877     29\n",
      " 230908 65986        0.2803    11        0.2861        0.2802  1190480    2.07%           rho_0 U 230908 230907     22\n",
      " 235073 68054        0.2835     6        0.2861        0.2802  1206644    2.07%          rho_14 D 235073 235071     48\n",
      " 239160 69276        0.2859     7        0.2861        0.2802  1222461    2.06%          rho_13 N 239160 239158     56\n",
      " 242812 69858        0.2803    18        0.2861        0.2803  1239487    2.05%           rho_4 D 242812 242504     68\n",
      "Elapsed time = 40.45 sec. (60335.03 ticks, tree = 21.69 MB, solutions = 2)\n",
      " 246130 70516        0.2833    11        0.2861        0.2803  1258493    2.03%          rho_13 D 246130 246129     22\n",
      " 249753 71366        0.2849     5        0.2861        0.2803  1276836    2.02%          rho_13 D 249753 249751     55\n",
      " 253539 73024        cutoff              0.2861        0.2804  1293929    2.01%           rho_3 U 253539   8666     28\n",
      " 256972 73791        0.2804    16        0.2861        0.2804  1312084    2.00%          rho_10 U 256972 256970     48\n",
      " 260645 75102        0.2846     7        0.2861        0.2804  1330579    1.99%          rho_13 D 260645 260642     61\n",
      " 264329 76286        0.2808    11        0.2861        0.2804  1347318    1.98%           rho_3 N 264329 211422     37\n",
      " 267998 77130        0.2853    11        0.2861        0.2804  1365241    1.98%          rho_10 N 267998 267997     29\n",
      " 271014 78079        0.2856     4        0.2861        0.2804  1384570    1.98%          rho_23 D 271014 271013     41\n",
      " 274589 78654        0.2854     5        0.2861        0.2805  1402838    1.98%          rho_23 D 274589 274588     34\n",
      " 278811 79940        0.2839     7        0.2861        0.2805  1418016    1.97%           rho_7 D 278811 278809     46\n",
      "Elapsed time = 47.41 sec. (69873.10 ticks, tree = 24.04 MB, solutions = 2)\n",
      " 283590 80703        0.2827     7        0.2861        0.2805  1432190    1.97%          rho_13 D 283590 283588     69\n",
      " 287044 81348        cutoff              0.2861        0.2805  1450837    1.96%           rho_1 U 287044 287042     52\n",
      " 290651 82105        0.2844    11        0.2861        0.2805  1467577    1.95%           rho_1 N 290651 290649     42\n",
      " 294080 82516        0.2811     9        0.2861        0.2806  1485663    1.94%           rho_6 N 294080  22163     46\n",
      " 297724 82705        cutoff              0.2861        0.2806  1503725    1.93%           rho_1 U 297724 262780     46\n",
      " 301330 83407        0.2843     9        0.2861        0.2806  1522468    1.92%           rho_6 D 301330 301329     72\n",
      " 305635 84899        0.2847     9        0.2861        0.2806  1539877    1.91%          rho_20 D 305635 305634     43\n",
      " 309302 86059        0.2860     7        0.2861        0.2807  1558056    1.91%           rho_1 N 309302 125539     37\n",
      " 313270 86349        0.2831    12        0.2861        0.2807  1572941    1.90%          rho_12 D 313270 313269     56\n",
      " 317195 87336        0.2850    13        0.2861        0.2807  1588180    1.90%           rho_6 D 317195 317193     55\n",
      "Elapsed time = 54.74 sec. (79412.57 ticks, tree = 25.77 MB, solutions = 2)\n",
      " 320371 87746        cutoff              0.2861        0.2807  1608276    1.89%          rho_12 U 320371 320370     75\n",
      " 324133 88579        cutoff              0.2861        0.2807  1624768    1.88%          rho_22 U 324133 324131     44\n",
      " 328970 89573        0.2832     5        0.2861        0.2807  1641288    1.88%           rho_1 D 328970 328969     36\n",
      " 332663 90134        0.2839     9        0.2861        0.2808  1658970    1.86%           rho_1 D 332663 332661     38\n",
      " 336633 91401        0.2810    13        0.2861        0.2808  1674511    1.85%           rho_6 D 336633 289948     55\n",
      " 339680 91811        0.2814    15        0.2861        0.2809  1695633    1.84%          rho_14 D 339680  24637     57\n",
      " 343500 92318        0.2809    13        0.2861        0.2809  1712979    1.83%           rho_4 D 343500 343494     49\n",
      " 347324 93310        0.2809    14        0.2861        0.2809  1729933    1.83%          rho_10 U 347324 347322     58\n",
      " 351440 94012        0.2852     5        0.2861        0.2809  1744341    1.82%          rho_20 D 351440 351439     33\n",
      " 366229 96406        0.2830    11        0.2861        0.2810  1810326    1.79%          rho_10 D 366229 366228     50\n",
      "Elapsed time = 65.16 sec. (91813.11 ticks, tree = 27.89 MB, solutions = 2)\n",
      " 380832 97312        0.2810    12        0.2861        0.2810  1881543    1.77%           rho_0 D 380832 380830     30\n",
      " 396002 99898        0.2849     7        0.2861        0.2811  1944481    1.74%          rho_22 D 396002 396001     43\n",
      " 412468 101499        0.2839     7        0.2861        0.2812  2003884    1.71%          rho_22 D 412468 412466     34\n",
      " 428415 103727        0.2813    11        0.2861        0.2813  2062853    1.69%           rho_5 D 428415 369918     46\n",
      " 443780 105373        0.2820    16        0.2861        0.2814  2129715    1.66%           rho_6 D 443780 145683     49\n",
      " 458013 106112        cutoff              0.2861        0.2815  2197618    1.61%          rho_12 U 458013 458012     58\n",
      " 474177 107693        cutoff              0.2861        0.2816  2259759    1.58%          rho_22 U 474177 474176     25\n",
      " 489014 109335        0.2852     5        0.2861        0.2817  2330259    1.54%          rho_20 D 489014 489012     37\n",
      " 503580 109680        0.2855     9        0.2861        0.2818  2392496    1.50%          rho_12 N 503580 503579     42\n",
      " 517124 109154        cutoff              0.2861        0.2820  2463670    1.45%           rho_6 U 517124 517123     25\n",
      "Elapsed time = 103.08 sec. (129960.96 ticks, tree = 30.88 MB, solutions = 2)\n",
      " 531802 107036        cutoff              0.2861        0.2821  2530676    1.42%           rho_1 U 531802 251836     35\n",
      " 546620 105311        0.2857     7        0.2861        0.2822  2591698    1.37%           rho_9 D 546620 546619     65\n",
      " 560623 104763        cutoff              0.2861        0.2823  2657289    1.34%          rho_22 U 560623 441531     43\n",
      " 573959 104926        0.2832     6        0.2861        0.2824  2725699    1.28%           rho_2 D 573959 498440     59\n",
      " 589663 104480        0.2848     9        0.2861        0.2826  2788877    1.23%           rho_7 D 589663 589662     59\n",
      " 604350 102682        0.2856     7        0.2861        0.2827  2848200    1.20%          rho_13 D 604350 604349     18\n"
     ]
    },
    {
     "name": "stdout",
     "output_type": "stream",
     "text": [
      " 619408 103905        0.2842     9        0.2861        0.2828  2910970    1.17%           rho_3 D 619408 619406     59\n",
      " 633490 102047        0.2832     9        0.2861        0.2829  2974358    1.13%          rho_20 D 633490 633488     74\n",
      " 647954 100910        cutoff              0.2861        0.2830  3033755    1.10%           rho_0 U 647954 647953     57\n",
      " 662075 100846        0.2846     9        0.2861        0.2831  3101124    1.07%          rho_13 D 662075 662074     31\n",
      "Elapsed time = 129.00 sec. (168110.29 ticks, tree = 28.96 MB, solutions = 2)\n",
      " 676833 100479        0.2838     7        0.2861        0.2831  3158700    1.04%           rho_6 N 676833 130225     61\n",
      " 691384 99670        cutoff              0.2861        0.2832  3219138    1.01%          rho_24 D 691384 691382     73\n",
      " 706280 99874        0.2855     3        0.2861        0.2833  3281311    0.99%          rho_22 D 706280 706279     24\n",
      " 720661 99945        0.2834    13        0.2861        0.2834  3343064    0.96%          rho_10 U 720661 720659     58\n",
      " 734814 97458        0.2837    11        0.2861        0.2835  3407117    0.91%           rho_3 D 734814 718539     27\n",
      " 749991 94534        0.2842     7        0.2861        0.2836  3468122    0.88%           rho_6 U 749991 487949     24\n",
      " 766164 91241        0.2839     9        0.2861        0.2837  3530687    0.84%           rho_7 D 766164 234839     50\n",
      " 780814 90224        0.2839     6        0.2861        0.2838  3589703    0.81%           rho_3 N 780814 767828     51\n",
      " 796473 86622        cutoff              0.2861        0.2839  3654992    0.77%           rho_1 D 796473 693724     46\n",
      " 812013 80359        cutoff              0.2861        0.2840  3720612    0.72%           rho_7 U 812013 412262     72\n",
      "Elapsed time = 153.20 sec. (206259.24 ticks, tree = 24.21 MB, solutions = 2)\n",
      " 828402 74010        0.2852     5        0.2861        0.2842  3781877    0.68%          rho_23 D 828402 828400     45\n",
      " 844084 68449        cutoff              0.2861        0.2843  3840348    0.62%          rho_22 U 844084 809292     66\n",
      " 859571 61072        cutoff              0.2861        0.2845  3903182    0.57%           rho_1 U 859571 141070     42\n",
      " 876657 55016        0.2847     9        0.2861        0.2846  3957389    0.52%           rho_6 N 876657 471426     65\n",
      " 891902 47314        cutoff              0.2861        0.2848  4016699    0.46%           rho_3 D 891902 891901     50\n",
      " 907403 40463        cutoff              0.2861        0.2850  4073478    0.39%          rho_12 U 907403 368391     61\n",
      " 922186 31695        0.2853     6        0.2861        0.2852  4130605    0.33%          rho_12 D 922186 900499     29\n",
      " 937355 21097        cutoff              0.2861        0.2854  4185907    0.25%           rho_7 D 937355 937354     53\n",
      " 952645  9244        cutoff              0.2861        0.2857  4233378    0.14%          rho_12 U 952645 684946     56\n",
      "\n",
      "Gomory fractional cuts applied:  1\n",
      "User cuts applied:  334\n",
      "\n",
      "Root node processing (before b&c):\n",
      "  Real time             =    0.11 sec. (1.55 ticks)\n",
      "Sequential b&c:\n",
      "  Real time             =  174.50 sec. (243299.81 ticks)\n",
      "                          ------------\n",
      "Total (root+branch&cut) =  174.61 sec. (243301.36 ticks)\n",
      "+----------------------------------------------+------------------+-----------+\n",
      "| Pr(Y = +1) = 1.0/(1.0 + exp(-(-3 + score))   |                  |           |\n",
      "| ============================================ | ================ | ========= |\n",
      "| p_arrest>=3                                  |         1 points |   + ..... |\n",
      "| p_drug>=1                                    |         1 points |   + ..... |\n",
      "| ============================================ | ================ | ========= |\n",
      "| ADD POINTS FROM ROWS 1 to 2                  |            SCORE |   = ..... |\n",
      "+----------------------------------------------+------------------+-----------+\n",
      "model_id, score_thresholds 0 {'rank_abs': [0]}\n",
      "get_disparity_predefined_group()\n",
      "setting c0 = 0.0 to ensure that intercept is not penalized\n",
      "09/11/19 @ 12:41 AM | 1061 rows in lookup table\n",
      "09/11/19 @ 12:41 AM | ------------------------------------------------------------\n",
      "09/11/19 @ 12:41 AM | runnning initialization procedure\n",
      "09/11/19 @ 12:41 AM | ------------------------------------------------------------\n",
      "09/11/19 @ 12:42 AM | CPA produced 2 cuts\n",
      "09/11/19 @ 12:42 AM | running naive rounding on 57 solutions\n",
      "09/11/19 @ 12:42 AM | best objective value: 0.2832\n",
      "09/11/19 @ 12:42 AM | rounding produced 5 integer solutions\n",
      "09/11/19 @ 12:42 AM | best objective value is 0.2912\n",
      "09/11/19 @ 12:42 AM | running sequential rounding on 57 solutions\n",
      "09/11/19 @ 12:42 AM | best objective value: 0.2832\n",
      "09/11/19 @ 12:42 AM | sequential rounding produced 5 integer solutions\n",
      "09/11/19 @ 12:42 AM | best objective value: 0.2880\n",
      "09/11/19 @ 12:42 AM | polishing 10 solutions\n",
      "09/11/19 @ 12:42 AM | best objective value: 0.2880\n",
      "09/11/19 @ 12:42 AM | polishing produced 5 integer solutions\n",
      "09/11/19 @ 12:42 AM | initialization produced 10 feasible solutions\n",
      "09/11/19 @ 12:42 AM | best objective value: 0.2880\n",
      "09/11/19 @ 12:42 AM | ------------------------------------------------------------\n",
      "09/11/19 @ 12:42 AM | completed initialization procedure\n",
      "09/11/19 @ 12:42 AM | ------------------------------------------------------------\n",
      "09/11/19 @ 12:42 AM | 1061 rows in lookup table\n",
      "CPXPARAM_Read_DataCheck                          1\n",
      "CPXPARAM_Threads                                 1\n",
      "CPXPARAM_Parallel                                1\n",
      "CPXPARAM_RandomSeed                              0\n",
      "CPXPARAM_TimeLimit                               200\n",
      "CPXPARAM_MIP_Tolerances_LowerCutoff              0.28160521434163083\n",
      "CPXPARAM_MIP_Tolerances_UpperCutoff              0.28802553578746221\n"
     ]
    },
    {
     "name": "stderr",
     "output_type": "stream",
     "text": [
      "Warning: Control callbacks may disable some MIP features.\n"
     ]
    },
    {
     "name": "stdout",
     "output_type": "stream",
     "text": [
      "Lazy constraint(s) or lazy constraint callback is present.\n",
      "    Disabling dual reductions (CPX_PARAM_REDUCE) in presolve.\n",
      "    Disabling non-linear reductions (CPX_PARAM_PRELINEAR) in presolve.\n",
      "         Disabling repeat represolve because of lazy constraint/incumbent callback.\n",
      "09/11/19 @ 12:42 AM | adding 210 initial cuts\n",
      "1 of 1 MIP starts provided solutions.\n",
      "MIP start 'mip_start_0' defined initial solution with objective 0.2880.\n",
      "Tried aggregator 1 time.\n",
      "Reduced MIP has 26 rows, 52 columns, and 99 nonzeros.\n",
      "Reduced MIP has 24 binaries, 26 generals, 0 SOSs, and 0 indicators.\n",
      "Presolve time = 0.00 sec. (0.05 ticks)\n",
      "Probing time = 0.00 sec. (0.01 ticks)\n",
      "MIP emphasis: balance optimality and feasibility.\n",
      "MIP search method: traditional branch-and-cut.\n",
      "Parallel mode: none, using 1 thread.\n",
      "Root relaxation solution time = 0.00 sec. (0.03 ticks)\n",
      "\n",
      "        Nodes                                         Cuts/\n",
      "   Node  Left     Objective  IInf  Best Integer    Best Bound    ItCnt     Gap         Variable B NodeID Parent  Depth\n",
      "\n",
      "*     0+    0                            0.2880        0.2816             2.23%\n",
      "      0     0        0.2816     1        0.2880        0.2816        0    2.23%\n",
      "      0     0        0.2816     1        0.2880      Fract: 1        2    2.23%\n",
      "      0     2        0.2816     2        0.2880        0.2816        2    2.23%                        0             0\n",
      "Elapsed time = 0.08 sec. (1.46 ticks, tree = 0.01 MB, solutions = 1)\n",
      "*   359   202      integral     0        0.2880        0.2816      985    2.23%\n",
      "   2120   932        0.2848    14        0.2880        0.2816    10104    2.23%          rho_22 D   2120   2119     16\n",
      "   3437  1477        cutoff              0.2880        0.2816    18862    2.23%          rho_14 D   3437   3435     27\n",
      "   4629  2016        0.2832    14        0.2880        0.2816    27714    2.23%           rho_2 U   4629   3838     14\n",
      "   5913  2574        0.2816    10        0.2880        0.2816    35368    2.23%          rho_10 U   5913   5910     16\n",
      "   7194  3163        0.2816    11        0.2880        0.2816    42389    2.23%           rho_3 D   7194   7193     17\n",
      "   8320  3626        cutoff              0.2880        0.2816    50777    2.23%           rho_0 U   8320   8319     19\n",
      "   9517  4039        0.2825    12        0.2880        0.2816    57506    2.23%           rho_2 U   9517   6437     21\n",
      "  10652  4427        0.2855    12        0.2880        0.2816    64116    2.23%           rho_5 U  10652  10651     19\n",
      "  11776  4777        0.2873     9        0.2880        0.2816    70998    2.23%          rho_14 D  11776  11775     28\n",
      "  16369  6609        0.2816    14        0.2880        0.2816    98973    2.23%           rho_4 D  16369  16367     16\n",
      "Elapsed time = 3.86 sec. (3102.78 ticks, tree = 1.75 MB, solutions = 2)\n",
      "  20566  8347        0.2880     5        0.2880        0.2816   126740    2.23%          rho_13 U  20566  20565     35\n",
      "  25200 10490        0.2845    11        0.2880        0.2816   156448    2.23%          rho_13 D  25200  25199     69\n",
      "  30078 12623        0.2830    15        0.2880        0.2816   178432    2.23%           rho_9 N  30078  20655     79\n",
      "  34746 14544        0.2820    12        0.2880        0.2816   205621    2.23%           rho_2 D  34746  34745     23\n",
      "  39241 16009        0.2859    11        0.2880        0.2816   232093    2.23%           rho_0 D  39241  39239     27\n",
      "  43621 17382        0.2847    11        0.2880        0.2816   256925    2.23%           rho_6 D  43621  43619     33\n",
      "  48064 18913        0.2844    13        0.2880        0.2816   281010    2.23%           rho_2 D  48064  48063     50\n",
      "  52414 20117        0.2857     7        0.2880        0.2816   305372    2.23%          rho_13 D  52414  52412     40\n",
      "  57070 21420        0.2869     5        0.2880        0.2816   329976    2.23%          rho_20 D  57070  57069     43\n",
      "  61598 22643        0.2864    11        0.2880        0.2816   355521    2.23%          rho_22 D  61598  61597     46\n",
      "Elapsed time = 11.33 sec. (12640.82 ticks, tree = 6.38 MB, solutions = 2)\n",
      "  66082 24115        0.2816     5        0.2880        0.2816   380536    2.23%          rho_10 U  66082  66069     18\n",
      "  70324 25565        0.2856     7        0.2880        0.2816   407139    2.23%           rho_7 D  70324  70322     64\n",
      "  74652 26953        0.2834    16        0.2880        0.2816   431750    2.23%           rho_2 N  74652  74508     60\n",
      "  79018 28171        0.2834    16        0.2880        0.2816   456932    2.23%           rho_2 N  79018  78927     48\n",
      "  83278 29340        0.2863    11        0.2880        0.2816   481897    2.23%           rho_6 D  83278  83277     53\n",
      "  87602 30522        0.2840     7        0.2880        0.2816   506733    2.23%           rho_8 U  87602  87601     77\n",
      "  91724 31931        0.2842    12        0.2880        0.2816   532487    2.23%           rho_3 U  91724  91710     21\n",
      "  96030 33381        0.2863    17        0.2880        0.2816   556093    2.23%           rho_6 D  96030  96029     22\n",
      " 100324 34700        0.2816     8        0.2880        0.2816   579993    2.23%          rho_10 U 100324 100322     25\n",
      " 104940 36419        0.2871     4        0.2880        0.2816   605031    2.23%           rho_9 D 104940 104938     26\n",
      "Elapsed time = 18.39 sec. (22180.06 ticks, tree = 10.87 MB, solutions = 2)\n",
      " 109734 37368        0.2823    10        0.2880        0.2816   627952    2.23%           rho_1 N 109734 109688     41\n",
      " 114461 38237        0.2861     4        0.2880        0.2816   650397    2.23%           rho_3 U 114461 114427     35\n",
      " 118891 39197        0.2831    17        0.2880        0.2816   674356    2.23%           rho_5 D 118891 118890     67\n",
      " 123110 40817        0.2816    13        0.2880        0.2816   696491    2.23%           rho_0 D 123110  87839     53\n",
      " 127067 42293        0.2816    12        0.2880        0.2816   725829    2.23%           rho_4 D 127067 127023     32\n",
      " 130538 43725        0.2862    11        0.2880        0.2816   753913    2.23%           rho_8 U 130538 130537     54\n",
      " 133642 44736        0.2865    11        0.2880        0.2816   782020    2.23%           rho_6 D 133642 133640     64\n",
      " 136845 45899        0.2827    12        0.2880        0.2816   808188    2.23%          rho_22 D 136845 136844     25\n",
      " 141240 47255        0.2833     7        0.2880        0.2816   832198    2.23%          rho_12 D 141240 141239     72\n",
      " 145788 48500        0.2842     9        0.2880        0.2816   855273    2.23%          rho_12 D 145788 145787     53\n",
      "Elapsed time = 25.02 sec. (31718.67 ticks, tree = 13.59 MB, solutions = 2)\n",
      " 150490 49695        0.2816    13        0.2880        0.2816   878080    2.23%           rho_8 D 150490 123218     52\n",
      " 155774 51600        cutoff              0.2880        0.2816   901275    2.23%           rho_8 U 155774 155773     57\n",
      " 160478 52578        0.2850     9        0.2880        0.2816   925198    2.23%           rho_1 D 160478 160476     36\n",
      " 165411 53162        0.2816     9        0.2880        0.2816   948239    2.23%           rho_8 D 165411  85300     82\n",
      " 169575 53395        0.2848    12        0.2880        0.2816   976700    2.23%           rho_2 N 169575 166678     64\n",
      " 173543 53367        cutoff              0.2880        0.2816   999592    2.23%           rho_4 U 173543 173542     21\n",
      " 178162 55025        0.2847    15        0.2880        0.2817  1021620    2.20%           rho_1 D 178162 178161     26\n",
      " 182460 57120        0.2822    10        0.2880        0.2818  1044487    2.18%           rho_2 D 182460 182459     40\n",
      " 186793 58893        0.2842    14        0.2880        0.2818  1067019    2.16%           rho_2 D 186793 186791     56\n",
      " 190782 60121        0.2851     9        0.2880        0.2818  1091319    2.16%           rho_2 N 190782  95003     41\n",
      "Elapsed time = 31.61 sec. (41256.75 ticks, tree = 16.24 MB, solutions = 2)\n",
      " 195410 62801        0.2866    12        0.2880        0.2819  1111207    2.14%          rho_10 D 195410 195409     66\n",
      " 199764 65056        0.2858     7        0.2880        0.2819  1130041    2.13%          rho_14 D 199764 199762     49\n"
     ]
    },
    {
     "name": "stdout",
     "output_type": "stream",
     "text": [
      " 205166 66266        0.2831    10        0.2880        0.2819  1153001    2.13%           rho_3 U 205166 193959     32\n",
      " 210466 67671        0.2846    11        0.2880        0.2819  1173476    2.12%           rho_6 D 210466 210465     73\n",
      " 215700 68864        0.2878     6        0.2880        0.2819  1191565    2.12%           rho_9 N 215700 215698     25\n",
      " 220309 69514        0.2879     5        0.2880        0.2819  1210515    2.11%          rho_20 D 220309 220307     51\n",
      " 224916 70375        0.2843     9        0.2880        0.2820  1230494    2.10%           rho_2 N 224916 194828     37\n",
      " 228968 70362        cutoff              0.2880        0.2820  1254488    2.10%           rho_2 U 228968 161209     64\n",
      " 233223 70449        0.2869    13        0.2880        0.2820  1276011    2.08%           rho_6 D 233223 233222     44\n",
      " 237413 71355        0.2827    12        0.2880        0.2821  1296472    2.07%          rho_22 D 237413 237412     36\n",
      "Elapsed time = 38.16 sec. (50795.41 ticks, tree = 21.60 MB, solutions = 2)\n",
      " 242592 73174        0.2823     7        0.2880        0.2821  1315033    2.06%          rho_10 N 242592 242176     40\n",
      " 247716 74141        cutoff              0.2880        0.2821  1335898    2.06%           rho_8 U 247716 247714     16\n",
      " 252620 76451        0.2856     9        0.2880        0.2821  1354009    2.05%           rho_0 D 252620 252619     57\n",
      " 257112 77755        cutoff              0.2880        0.2822  1374670    2.03%           rho_1 U 257112  18621     63\n",
      " 261765 79038        0.2874     5        0.2880        0.2822  1393871    2.02%          rho_22 U 261765 261762     29\n",
      " 266732 81346        0.2859    11        0.2880        0.2822  1412382    2.02%          rho_13 D 266732 266730     52\n",
      " 271506 82726        0.2855     9        0.2880        0.2823  1432556    2.00%          rho_13 D 271506 271504     39\n",
      " 276600 83562        0.2826     7        0.2880        0.2823  1450416    2.00%           rho_2 D 276600 276599     40\n",
      " 281183 83962        cutoff              0.2880        0.2823  1470965    1.99%           rho_0 U 281183 281182     63\n",
      " 286422 85711        0.2823     4        0.2880        0.2823  1486667    1.98%           rho_4 D 286422 286421     45\n",
      "Elapsed time = 44.64 sec. (60333.23 ticks, tree = 24.84 MB, solutions = 2)\n",
      "*289405 86607      integral     0        0.2880        0.2824  1500164    1.97%\n",
      " 290800 86739        0.2825    12        0.2880        0.2824  1507109    1.96%           rho_2 D 290800 290799     32\n",
      " 295335 87939        0.2828    13        0.2880        0.2824  1526034    1.95%           rho_3 D 295335 295334     47\n",
      " 299680 88976        0.2866     7        0.2880        0.2824  1545552    1.94%           rho_0 D 299680 299679     40\n",
      " 304235 90218        0.2825    11        0.2880        0.2825  1567571    1.92%          rho_10 U 304235 301570     20\n",
      " 308166 91235        0.2859     6        0.2880        0.2825  1586476    1.91%           rho_2 N 308166 308165     45\n",
      " 312549 93404        cutoff              0.2880        0.2826  1604793    1.90%          rho_13 U 312549 312548     45\n",
      " 317617 94585        0.2854    13        0.2880        0.2826  1625638    1.89%          rho_12 D 317617 317616     56\n",
      " 322060 95850        0.2862    11        0.2880        0.2826  1646652    1.87%           rho_1 D 322060 322059     21\n",
      " 326072 96232        0.2834    13        0.2880        0.2827  1666334    1.86%           rho_2 N 326072 317943     67\n",
      " 330395 97546        cutoff              0.2880        0.2827  1687096    1.85%          rho_13 U 330395 330394     79\n",
      "Elapsed time = 51.88 sec. (69872.12 ticks, tree = 27.52 MB, solutions = 3)\n",
      " 334810 99391        0.2879     5        0.2880        0.2828  1707845    1.83%           rho_1 D 334810 334807     30\n",
      " 339543 100786        0.2828     6        0.2880        0.2828  1726363    1.83%           rho_4 D 339543 339541     34\n",
      " 344331 102031        0.2853     9        0.2880        0.2828  1745267    1.82%           rho_8 N 344331 344330     26\n",
      " 349385 103801        0.2844    14        0.2880        0.2828  1767582    1.81%          rho_10 D 349385 349384     58\n",
      " 353470 103046        0.2869     8        0.2880        0.2829  1787424    1.78%          rho_12 U 353470 353468     57\n",
      " 357334 103917        0.2842    15        0.2880        0.2829  1810773    1.78%          rho_12 D 357334 357333     48\n",
      " 361937 104447        cutoff              0.2880        0.2829  1829813    1.78%          rho_23 U 361937 361936     65\n",
      " 366997 105305        0.2842    11        0.2880        0.2829  1848143    1.78%          rho_12 D 366997 126606     38\n",
      " 371050 106040        0.2859     7        0.2880        0.2829  1871641    1.77%           rho_2 N 371050 371049     21\n",
      " 375364 107273        0.2831    11        0.2880        0.2830  1890382    1.76%          rho_10 D 375364 375363     44\n",
      "Elapsed time = 59.20 sec. (79410.17 ticks, tree = 29.72 MB, solutions = 3)\n",
      " 379844 108339        cutoff              0.2880        0.2830  1911276    1.75%          rho_12 U 379844 379843     32\n",
      " 384747 109023        0.2854     9        0.2880        0.2830  1931987    1.74%          rho_12 D 384747 384746     52\n",
      " 389502 109704        0.2875     9        0.2880        0.2831  1952838    1.72%           rho_6 D 389502 389500     76\n",
      " 393275 109628        cutoff              0.2880        0.2831  1975247    1.72%          rho_14 U 393275 238014     58\n",
      " 397417 110638        0.2831    12        0.2880        0.2831  1995741    1.71%          rho_10 U 397417 397413     30\n",
      " 401692 111511        cutoff              0.2880        0.2831  2014851    1.71%          rho_13 U 401692 316676     23\n",
      " 406394 112669        0.2858     6        0.2880        0.2831  2031025    1.70%           rho_1 N 406394 210802     42\n",
      " 410284 112783        cutoff              0.2880        0.2832  2052291    1.69%           rho_0 U 410284 410283     67\n",
      " 414603 113490        0.2837     5        0.2880        0.2832  2071136    1.68%          rho_12 N 414603 198803     53\n",
      " 430635 114940        0.2870    15        0.2880        0.2833  2160614    1.65%           rho_0 D 430635 430634     38\n",
      "Elapsed time = 68.31 sec. (91809.76 ticks, tree = 31.45 MB, solutions = 3)\n",
      " 447251 114695        0.2867     6        0.2880        0.2834  2236352    1.61%          rho_13 N 447251  27380     41\n",
      " 465447 116011        cutoff              0.2880        0.2834  2313182    1.60%          rho_22 U 465447  29483     71\n",
      " 483166 117408        0.2861    12        0.2880        0.2835  2389413    1.58%           rho_3 N 483166 438021     32\n",
      " 501463 119551        0.2843    13        0.2880        0.2836  2468509    1.54%          rho_13 D 501463 501462     50\n",
      " 518874 122307        0.2879     7        0.2880        0.2837  2547263    1.51%          rho_22 N 518874 518873     51\n",
      " 536137 122905        0.2879     9        0.2880        0.2837  2624187    1.48%           rho_8 D 536137 536136     67\n",
      " 553481 123710        0.2875     5        0.2880        0.2838  2703269    1.46%           rho_9 N 553481 553480     41\n",
      " 571620 125225        0.2869     3        0.2880        0.2839  2776299    1.45%           rho_4 U 571620 571618     37\n",
      " 589254 124062        cutoff              0.2880        0.2839  2851479    1.42%          rho_13 U 589254 589253     46\n",
      " 607762 123632        cutoff              0.2880        0.2840  2927919    1.38%          rho_13 U 607762 607761     34\n",
      "Elapsed time = 95.31 sec. (129958.21 ticks, tree = 33.41 MB, solutions = 3)\n",
      " 624598 121270        cutoff              0.2880        0.2842  3011656    1.34%          rho_13 U 624598  25379     40\n",
      " 642869 122155        0.2865     9        0.2880        0.2843  3091701    1.30%           rho_8 D 642869 642867     66\n",
      " 660575 122430        0.2855    19        0.2880        0.2844  3167813    1.27%           rho_5 D 660575 535095     21\n",
      " 677947 124071        cutoff              0.2880        0.2844  3249555    1.24%          rho_20 U 677947 677946     73\n",
      " 695638 125540        cutoff              0.2880        0.2845  3322103    1.22%          rho_20 U 695638 695637     54\n",
      " 713220 124108        0.2846     6        0.2880        0.2846  3397034    1.18%           rho_0 U 713220 325463     41\n"
     ]
    },
    {
     "name": "stdout",
     "output_type": "stream",
     "text": [
      " 730588 120349        0.2866    11        0.2880        0.2847  3480448    1.15%           rho_6 D 730588 730587     36\n",
      " 746992 119770        0.2873     7        0.2880        0.2848  3552387    1.13%           rho_6 D 746992 746990     29\n",
      " 764201 119235        0.2876     7        0.2880        0.2848  3621949    1.11%          rho_23 D 764201 764199     80\n",
      " 781140 115612        0.2852    11        0.2880        0.2850  3706999    1.06%           rho_1 D 781140 781138     58\n",
      "Elapsed time = 128.22 sec. (168106.68 ticks, tree = 31.61 MB, solutions = 3)\n",
      " 799732 117286        0.2854    12        0.2880        0.2850  3775350    1.04%          rho_12 D 799732 738576     51\n",
      " 815661 114145        cutoff              0.2880        0.2852  3858868    1.00%          rho_14 U 815661  27779     54\n",
      " 835428 110339        0.2855     7        0.2880        0.2853  3935301    0.95%           rho_9 N 835428 754734     55\n",
      " 853811 108435        0.2859    18        0.2880        0.2854  4004653    0.91%          rho_12 D 853811 128669     44\n",
      " 872766 105237        cutoff              0.2880        0.2855  4076929    0.88%          rho_20 U 872766 572615     60\n",
      " 890175 102554        cutoff              0.2880        0.2856  4148387    0.85%          rho_10 U 890175 454183     47\n",
      " 907873 99399        0.2878     7        0.2880        0.2857  4222385    0.81%           rho_7 D 907873 907872     55\n",
      " 925429 92828        cutoff              0.2880        0.2859  4298719    0.75%          rho_22 U 925429 301390     72\n",
      " 943801 85294        cutoff              0.2880        0.2860  4374586    0.71%          rho_14 U 943801 932935     48\n",
      " 962286 79762        0.2861    15        0.2880        0.2861  4462692    0.66%           rho_0 D 962286 962284     56\n",
      "Elapsed time = 162.73 sec. (206254.78 ticks, tree = 23.52 MB, solutions = 3)\n",
      " 980927 73801        cutoff              0.2880        0.2862  4543390    0.62%          rho_14 U 980927 695204     63\n",
      " 999059 70352        cutoff              0.2880        0.2863  4607589    0.58%           rho_7 U 999059 681134     57\n",
      " 1017267 59857        cutoff              0.2880        0.2866  4678986    0.51%          rho_13 U 1017267 538806     30\n",
      " 1035224 48988        cutoff              0.2880        0.2868  4755454    0.43%           rho_3 U 1035224 257804     35\n",
      " 1053715 36320        cutoff              0.2880        0.2871  4822513    0.34%          rho_14 U 1053715 554630     67\n",
      " 1071828 25170        cutoff              0.2880        0.2873  4885925    0.24%           rho_1 D 1071828 734756     22\n",
      " 1089186 10365        cutoff              0.2880        0.2878  4946372    0.09%           rho_6 U 1089186 1081590     44\n",
      "\n",
      "Gomory fractional cuts applied:  1\n",
      "User cuts applied:  279\n",
      "\n",
      "Root node processing (before b&c):\n",
      "  Real time             =    0.08 sec. (1.48 ticks)\n",
      "Sequential b&c:\n",
      "  Real time             =  184.27 sec. (235300.02 ticks)\n",
      "                          ------------\n",
      "Total (root+branch&cut) =  184.34 sec. (235301.50 ticks)\n",
      "+----------------------------------------------+------------------+-----------+\n",
      "| Pr(Y = +1) = 1.0/(1.0 + exp(-(-3 + score))   |                  |           |\n",
      "| ============================================ | ================ | ========= |\n",
      "| p_arrest>=3                                  |         1 points |   + ..... |\n",
      "| p_drug>=1                                    |         1 points |   + ..... |\n",
      "| ============================================ | ================ | ========= |\n",
      "| ADD POINTS FROM ROWS 1 to 2                  |            SCORE |   = ..... |\n",
      "+----------------------------------------------+------------------+-----------+\n",
      "model_id, score_thresholds 0 {'rank_abs': [0]}\n",
      "get_disparity_predefined_group()\n",
      "setting c0 = 0.0 to ensure that intercept is not penalized\n",
      "09/11/19 @ 12:45 AM | 1061 rows in lookup table\n",
      "09/11/19 @ 12:45 AM | ------------------------------------------------------------\n",
      "09/11/19 @ 12:45 AM | runnning initialization procedure\n",
      "09/11/19 @ 12:45 AM | ------------------------------------------------------------\n",
      "09/11/19 @ 12:45 AM | CPA produced 2 cuts\n",
      "09/11/19 @ 12:45 AM | running naive rounding on 69 solutions\n",
      "09/11/19 @ 12:45 AM | best objective value: 0.2791\n",
      "09/11/19 @ 12:45 AM | rounding produced 5 integer solutions\n",
      "09/11/19 @ 12:45 AM | best objective value is 0.2859\n",
      "09/11/19 @ 12:45 AM | running sequential rounding on 69 solutions\n",
      "09/11/19 @ 12:45 AM | best objective value: 0.2791\n",
      "09/11/19 @ 12:45 AM | sequential rounding produced 6 integer solutions\n",
      "09/11/19 @ 12:45 AM | best objective value: 0.2859\n",
      "09/11/19 @ 12:45 AM | polishing 11 solutions\n",
      "09/11/19 @ 12:45 AM | best objective value: 0.2859\n",
      "09/11/19 @ 12:45 AM | polishing produced 5 integer solutions\n",
      "09/11/19 @ 12:45 AM | initialization produced 8 feasible solutions\n",
      "09/11/19 @ 12:45 AM | best objective value: 0.2859\n",
      "09/11/19 @ 12:45 AM | ------------------------------------------------------------\n",
      "09/11/19 @ 12:45 AM | completed initialization procedure\n",
      "09/11/19 @ 12:45 AM | ------------------------------------------------------------\n",
      "09/11/19 @ 12:45 AM | 1061 rows in lookup table\n",
      "CPXPARAM_Read_DataCheck                          1\n",
      "CPXPARAM_Threads                                 1\n",
      "CPXPARAM_Parallel                                1\n",
      "CPXPARAM_RandomSeed                              0\n",
      "CPXPARAM_TimeLimit                               200\n",
      "CPXPARAM_MIP_Tolerances_LowerCutoff              0.27793175961387978\n",
      "CPXPARAM_MIP_Tolerances_UpperCutoff              0.28591410799698469\n"
     ]
    },
    {
     "name": "stderr",
     "output_type": "stream",
     "text": [
      "Warning: Control callbacks may disable some MIP features.\n"
     ]
    },
    {
     "name": "stdout",
     "output_type": "stream",
     "text": [
      "Lazy constraint(s) or lazy constraint callback is present.\n",
      "    Disabling dual reductions (CPX_PARAM_REDUCE) in presolve.\n",
      "    Disabling non-linear reductions (CPX_PARAM_PRELINEAR) in presolve.\n",
      "         Disabling repeat represolve because of lazy constraint/incumbent callback.\n",
      "09/11/19 @ 12:45 AM | adding 238 initial cuts\n",
      "1 of 1 MIP starts provided solutions.\n",
      "MIP start 'mip_start_0' defined initial solution with objective 0.2859.\n",
      "Tried aggregator 1 time.\n",
      "Reduced MIP has 26 rows, 52 columns, and 99 nonzeros.\n",
      "Reduced MIP has 24 binaries, 26 generals, 0 SOSs, and 0 indicators.\n",
      "Presolve time = 0.00 sec. (0.05 ticks)\n",
      "Probing time = 0.00 sec. (0.01 ticks)\n",
      "MIP emphasis: balance optimality and feasibility.\n",
      "MIP search method: traditional branch-and-cut.\n",
      "Parallel mode: none, using 1 thread.\n",
      "Root relaxation solution time = 0.00 sec. (0.03 ticks)\n",
      "\n",
      "        Nodes                                         Cuts/\n",
      "   Node  Left     Objective  IInf  Best Integer    Best Bound    ItCnt     Gap         Variable B NodeID Parent  Depth\n",
      "\n",
      "*     0+    0                            0.2859        0.2779             2.79%\n",
      "      0     0        0.2779     1        0.2859        0.2779        0    2.79%\n",
      "      0     0        0.2779     1        0.2859      Fract: 1        2    2.79%\n",
      "      0     2        0.2779     2        0.2859        0.2779        2    2.79%                        0             0\n",
      "Elapsed time = 0.08 sec. (1.53 ticks, tree = 0.01 MB, solutions = 1)\n",
      "*  1100+  486                            0.2845        0.2779             2.32%\n",
      "   2080   938        0.2788    10        0.2845        0.2779     8440    2.32%           rho_2 D   2080   2079     21\n",
      "*  3186  1482      integral     0        0.2845        0.2779    13937    2.32%\n",
      "   3472  1601        0.2831     9        0.2845        0.2779    15614    2.32%           rho_2 U   3472   3471     25\n",
      "   4790  2052        cutoff              0.2845        0.2779    23000    2.32%           rho_5 U   4790   4789     15\n",
      "   5963  2591        0.2844    13        0.2845        0.2779    29058    2.32%           rho_9 D   5963    198     13\n",
      "   7070  3038        cutoff              0.2845        0.2779    35153    2.32%          rho_22 U   7070   7069     32\n",
      "   8090  3483        0.2843     5        0.2845        0.2779    41629    2.32%          rho_12 U   8090   8089     22\n",
      "   9090  4116        0.2819     9        0.2845        0.2779    46846    2.32%           rho_0 U   9090   9089     61\n",
      "  10059  4567        0.2780    20        0.2845        0.2779    52422    2.32%          rho_10 D  10059  10058     24\n",
      "  11061  4973        0.2844     9        0.2845        0.2779    58020    2.32%           rho_7 U  11061  11060     21\n",
      "  15005  6637        0.2804    16        0.2845        0.2779    82448    2.32%           rho_4 D  15005  15004     45\n",
      "Elapsed time = 4.22 sec. (3103.98 ticks, tree = 1.78 MB, solutions = 3)\n",
      "  19204  8022        cutoff              0.2845        0.2779   103968    2.32%           rho_0 U  19204  19203     42\n",
      "  23541  9721        0.2793    11        0.2845        0.2779   126544    2.32%           rho_7 U  23541   6848     23\n",
      "  27335 11351        0.2811     7        0.2845        0.2779   148103    2.32%          rho_13 D  27335  27332     31\n",
      "  31025 12979        0.2826    11        0.2845        0.2779   170099    2.32%           rho_3 D  31025  31023     65\n",
      "  34488 14571        0.2790    13        0.2845        0.2779   192650    2.32%          rho_10 D  34488  34440     49\n",
      "  38310 16105        0.2836     7        0.2845        0.2779   214074    2.32%           rho_9 D  38310  38309     45\n",
      "  42298 17406        cutoff              0.2845        0.2779   233652    2.32%           rho_4 U  42298  42297     36\n",
      "  46010 18567        0.2834    11        0.2845        0.2779   253260    2.32%           rho_2 D  46010  46008     44\n",
      "  49800 19522        0.2835     5        0.2845        0.2779   272156    2.32%          rho_20 D  49800  49799     38\n",
      "  53780 20617        0.2841     5        0.2845        0.2779   293336    2.32%          rho_12 N  53780  53749     54\n",
      "Elapsed time = 13.03 sec. (12642.61 ticks, tree = 6.04 MB, solutions = 3)\n",
      "  57733 21681        0.2779     9        0.2845        0.2779   312191    2.32%           rho_3 N  57733  54074     48\n",
      "  61363 22934        0.2804    13        0.2845        0.2779   331968    2.32%           rho_1 D  61363  61362     51\n",
      "  65098 24260        0.2779     1        0.2845        0.2779   350271    2.32%           rho_0 D  65098  65096     33\n",
      "  69447 25954        0.2779     7        0.2845        0.2779   368353    2.32%          rho_10 D  69447  69446     43\n",
      "  73636 27415        0.2779     6        0.2845        0.2779   387440    2.32%           rho_0 D  73636  73634     59\n",
      "  77159 27997        0.2792     7        0.2845        0.2779   407021    2.32%           rho_0 D  77159  77157     45\n",
      "  81027 28782        cutoff              0.2845        0.2779   425462    2.32%           rho_0 U  81027  81026     53\n",
      "  85157 30162        0.2802    13        0.2845        0.2779   442375    2.32%           rho_2 D  85157  85155     23\n",
      "  88904 31469        0.2811    12        0.2845        0.2779   463277    2.32%           rho_1 D  88904  88903     53\n",
      "  92550 32418        0.2816     3        0.2845        0.2779   483273    2.32%          rho_22 D  92550  92549     50\n",
      "Elapsed time = 21.14 sec. (22180.73 ticks, tree = 8.77 MB, solutions = 3)\n",
      "  96549 33431        cutoff              0.2845        0.2779   502602    2.32%          rho_23 U  96549  96548     60\n",
      " 100491 34400        0.2819    11        0.2845        0.2779   522275    2.32%           rho_0 D 100491 100489     54\n",
      " 104299 35401        0.2819    11        0.2845        0.2779   542457    2.32%           rho_0 D 104299 104297     73\n",
      " 108120 36514        0.2837     3        0.2845        0.2779   562690    2.32%           rho_6 D 108120 108119     42\n",
      " 112369 37932        0.2779     9        0.2845        0.2779   583555    2.32%           rho_5 D 112369 112355     63\n",
      " 116690 39365        0.2840     3        0.2845        0.2779   604372    2.32%           rho_6 D 116690 116689     53\n",
      " 121009 40817        cutoff              0.2845        0.2779   625114    2.32%          rho_20 D 121009 121008     65\n",
      " 125070 42014        0.2830     3        0.2845        0.2779   645676    2.32%           rho_0 U 125070 125069     45\n",
      " 128620 42942        0.2780    13        0.2845        0.2779   665610    2.32%          rho_10 D 128620 128619     46\n",
      " 132319 44229        0.2779    16        0.2845        0.2779   686021    2.32%          rho_10 U 132319 132310     61\n",
      "Elapsed time = 29.19 sec. (31720.13 ticks, tree = 12.90 MB, solutions = 3)\n",
      " 136030 44885        0.2822     5        0.2845        0.2779   703497    2.32%          rho_20 D 136030 136029     45\n",
      " 139746 45595        0.2780    15        0.2845        0.2779   720844    2.32%           rho_0 D 139746 139744     77\n",
      " 143403 46355        0.2783    10        0.2845        0.2779   738529    2.32%           rho_0 D 143403 143401     36\n",
      " 147424 47256        0.2779    13        0.2845        0.2779   758575    2.32%          rho_12 D 147424 146985     62\n",
      " 151069 48294        0.2779    12        0.2845        0.2779   778320    2.32%          rho_10 U 151069 151067     49\n",
      " 154890 49518        0.2814    11        0.2845        0.2779   798051    2.32%           rho_2 U 154890 153582     46\n",
      " 158164 50321        cutoff              0.2845        0.2779   820435    2.32%          rho_13 U 158164 158163     31\n",
      " 161845 51262        0.2836     6        0.2845        0.2779   838425    2.32%           rho_1 D 161845 161844     46\n",
      " 165612 52481        cutoff              0.2845        0.2779   857956    2.32%           rho_2 U 165612 165582     22\n",
      " 169272 53830        0.2808     9        0.2845        0.2779   879166    2.32%          rho_14 D 169272 169270     68\n",
      "Elapsed time = 36.91 sec. (41258.21 ticks, tree = 15.17 MB, solutions = 3)\n",
      " 172857 54266        0.2841     7        0.2845        0.2779   896915    2.32%          rho_13 D 172857 172856     56\n",
      " 176334 54503        cutoff              0.2845        0.2779   914212    2.32%          rho_15 U 176334 176332     46\n"
     ]
    },
    {
     "name": "stdout",
     "output_type": "stream",
     "text": [
      " 179924 55215        cutoff              0.2845        0.2779   931607    2.32%           rho_2 U 179924 168071     30\n",
      " 183539 56516        0.2795     9        0.2845        0.2779   950892    2.32%          rho_12 D 183539 183538     49\n",
      " 187000 57781        0.2831     7        0.2845        0.2779   974953    2.32%           rho_7 D 187000 186999     50\n",
      " 190687 59265        0.2834     7        0.2845        0.2779   993684    2.32%           rho_1 D 190687 190686     75\n",
      " 194444 60394        cutoff              0.2845        0.2779  1011887    2.32%          rho_22 U 194444 194443     76\n",
      " 198778 61664        0.2819    11        0.2845        0.2779  1031328    2.32%           rho_1 D 198778 198777     28\n",
      " 202423 62349        0.2826    11        0.2845        0.2779  1048765    2.32%          rho_14 D 202423 202421     43\n",
      " 206160 63617        0.2788     8        0.2845        0.2779  1064712    2.32%          rho_12 D 206160 206158     67\n",
      "Elapsed time = 44.77 sec. (50796.74 ticks, tree = 17.49 MB, solutions = 3)\n",
      " 209882 64885        0.2787    13        0.2845        0.2780  1081354    2.30%           rho_3 U 209882 127057     59\n",
      " 214046 65881        0.2800    15        0.2845        0.2781  1096640    2.26%          rho_10 D 214046 214045     58\n",
      " 217881 66625        0.2843    13        0.2845        0.2781  1111108    2.26%           rho_3 D 217881 217880     38\n",
      " 221779 67898        0.2833    13        0.2845        0.2782  1126930    2.24%           rho_0 D 221779 221778     65\n",
      " 225520 68894        0.2798     6        0.2845        0.2782  1144359    2.23%          rho_10 D 225520 225519     46\n",
      " 229484 69757        cutoff              0.2845        0.2782  1160293    2.21%          rho_20 D 229484 229482     75\n",
      " 233233 70195        cutoff              0.2845        0.2783  1175918    2.21%          rho_13 D 233233 233231     52\n",
      " 237264 72190        0.2783    19        0.2845        0.2783  1192359    2.21%          rho_10 U 237264 237254     18\n",
      " 241032 73424        cutoff              0.2845        0.2783  1208621    2.20%           rho_1 U 241032 241030     35\n",
      " 244957 75515        0.2783    10        0.2845        0.2783  1223108    2.20%          rho_10 U 244957 244955     65\n",
      "Elapsed time = 52.27 sec. (60334.66 ticks, tree = 23.11 MB, solutions = 3)\n",
      " 248876 77253        0.2832     9        0.2845        0.2783  1240564    2.19%           rho_0 D 248876 248875     68\n",
      " 253057 78367        0.2825     7        0.2845        0.2783  1254797    2.18%           rho_1 D 253057 253056     38\n",
      " 257501 80382        0.2786    13        0.2845        0.2783  1268377    2.17%           rho_0 N 257501  49363     26\n",
      " 261385 81670        cutoff              0.2845        0.2784  1284967    2.16%           rho_0 U 261385 261384     44\n",
      " 265401 82823        0.2784     7        0.2845        0.2784  1300276    2.14%          rho_12 D 265401 254196     38\n",
      " 270181 83599        0.2833     7        0.2845        0.2785  1313829    2.13%          rho_20 D 270181 270179     58\n",
      " 274690 84959        0.2790    17        0.2845        0.2785  1328407    2.13%          rho_12 D 274690 274689     46\n",
      " 278607 86369        0.2785     7        0.2845        0.2785  1343809    2.12%           rho_0 D 278607 278605     37\n",
      " 282658 88022        0.2818     7        0.2845        0.2785  1360673    2.12%          rho_12 D 282658 282657     49\n",
      " 286389 89303        0.2815    13        0.2845        0.2785  1378585    2.11%          rho_10 D 286389 286388     60\n",
      "Elapsed time = 59.94 sec. (69872.30 ticks, tree = 26.32 MB, solutions = 3)\n",
      " 290399 90331        0.2808     7        0.2845        0.2785  1395146    2.11%          rho_14 D 290399 290397     56\n",
      " 294422 90572        0.2811    11        0.2845        0.2785  1410418    2.10%           rho_5 N 294422 294421     25\n",
      " 298946 90926        0.2822    11        0.2845        0.2786  1426588    2.09%           rho_1 D 298946 298945     57\n",
      " 302340 91668        0.2790    13        0.2845        0.2786  1444885    2.09%          rho_10 D 302340 302339     44\n",
      " 306262 93725        0.2839     9        0.2845        0.2786  1460910    2.08%           rho_0 N 306262 306260     79\n",
      " 309690 94296        0.2787    11        0.2845        0.2787  1480283    2.06%           rho_6 D 309690 264277     51\n",
      " 312845 95037        cutoff              0.2845        0.2787  1498465    2.06%          rho_13 U 312845 312844     28\n",
      " 316247 95572        0.2799     9        0.2845        0.2787  1515824    2.04%          rho_12 D 316247 255234     29\n",
      " 320096 96307        0.2787     7        0.2845        0.2787  1530853    2.03%           rho_4 D 320096 320094     27\n",
      " 323750 96771        0.2813     9        0.2845        0.2788  1547430    2.03%          rho_10 U 323750 299036     35\n",
      "Elapsed time = 67.81 sec. (79411.55 ticks, tree = 28.07 MB, solutions = 3)\n",
      " 327620 97014        0.2794     1        0.2845        0.2788  1560414    2.02%           rho_3 D 327620 327619     27\n",
      " 332192 97827        0.2815     7        0.2845        0.2788  1576610    2.02%           rho_1 D 332192 332191     54\n",
      " 336246 98551        0.2844     5        0.2845        0.2788  1589282    2.02%          rho_20 D 336246 336245     31\n",
      " 339920 99489        0.2842     9        0.2845        0.2788  1604513    2.00%           rho_0 D 339920 339919     65\n",
      " 343358 100134        0.2788     4        0.2845        0.2788  1622949    2.00%          rho_10 U 343358 343285     49\n",
      " 347212 101299        cutoff              0.2845        0.2788  1637744    2.00%          rho_11 U 347212 347211     53\n",
      " 351721 102952        0.2841     5        0.2845        0.2788  1651623    2.00%          rho_14 D 351721 351719     68\n",
      " 355704 103695        cutoff              0.2845        0.2789  1666124    1.99%           rho_8 U 355704 355703     22\n",
      " 359474 105323        0.2837     5        0.2845        0.2789  1681116    1.98%          rho_14 D 359474 359472     45\n",
      " 375447 110649        0.2844     9        0.2845        0.2790  1746178    1.95%          rho_14 D 375447 375446     40\n",
      "Elapsed time = 77.50 sec. (91810.44 ticks, tree = 31.30 MB, solutions = 3)\n",
      " 391532 113021        0.2805    17        0.2845        0.2791  1805595    1.92%           rho_5 N 391532  62913     43\n",
      " 406732 115390        0.2810     9        0.2845        0.2792  1867061    1.88%           rho_6 U 406732 114137     61\n",
      " 421461 118107        0.2811    12        0.2845        0.2792  1931409    1.87%          rho_12 U 421461 105612     53\n",
      " 436148 118645        0.2799     5        0.2845        0.2794  1998715    1.81%           rho_2 D 436148  23370     27\n",
      " 452013 120553        0.2833     7        0.2845        0.2794  2061722    1.80%           rho_1 N 452013 153567     55\n",
      " 466382 122139        0.2834     5        0.2845        0.2795  2128540    1.77%           rho_6 N 466382 466381     26\n",
      " 481478 124067        0.2811    13        0.2845        0.2796  2190272    1.73%           rho_4 N 481478  51101     38\n",
      " 496487 126878        0.2833     8        0.2845        0.2797  2259290    1.71%           rho_0 D 496487 496486     32\n",
      " 509600 128507        0.2800    14        0.2845        0.2797  2328944    1.70%          rho_10 U 509600 509598     33\n",
      " 523839 129141        0.2798    11        0.2845        0.2798  2388938    1.67%           rho_6 D 523839 220224     85\n",
      "Elapsed time = 106.48 sec. (129959.80 ticks, tree = 35.63 MB, solutions = 3)\n",
      " 538656 129480        0.2821     4        0.2845        0.2799  2449348    1.64%           rho_1 N 538656 183099     68\n",
      " 553660 130017        0.2837    12        0.2845        0.2799  2509971    1.63%           rho_9 D 553660 553659     62\n",
      " 569577 132916        cutoff              0.2845        0.2800  2567152    1.60%          rho_13 U 569577 569576     30\n",
      " 583850 133226        cutoff              0.2845        0.2801  2629135    1.57%           rho_4 U 583850 393129     33\n",
      " 599170 134367        0.2837     3        0.2845        0.2801  2685805    1.54%          rho_22 D 599170 599168     75\n",
      " 615047 136705        0.2802    10        0.2845        0.2802  2747153    1.53%          rho_10 U 615047 615039     45\n"
     ]
    },
    {
     "name": "stdout",
     "output_type": "stream",
     "text": [
      " 628793 136871        0.2837    11        0.2845        0.2803  2809198    1.50%           rho_0 D 628793 628792     54\n",
      " 643506 137274        0.2808     7        0.2845        0.2803  2876427    1.48%           rho_9 N 643506  14403     33\n",
      " 657440 136915        0.2820     8        0.2845        0.2804  2943824    1.46%           rho_3 N 657440 553145     55\n",
      " 672121 136419        0.2804    13        0.2845        0.2804  3001131    1.44%           rho_9 D 672121 517595     29\n",
      "Elapsed time = 134.02 sec. (168109.20 ticks, tree = 40.31 MB, solutions = 3)\n",
      " 687396 136743        0.2823    11        0.2845        0.2805  3061693    1.43%           rho_9 D 687396 687394     77\n",
      " 701405 135701        0.2825     5        0.2845        0.2806  3127151    1.38%           rho_3 U 701405 563338     42\n",
      " 717090 137240        0.2807    13        0.2845        0.2807  3181875    1.36%          rho_10 D 717090 717089     50\n",
      " 732100 139173        0.2814    13        0.2845        0.2807  3238489    1.34%           rho_9 D 732100 732098     75\n",
      " 747990 138937        0.2818     5        0.2845        0.2808  3295399    1.31%           rho_8 N 747990  34104     36\n",
      " 762252 138040        cutoff              0.2845        0.2809  3352620    1.29%           rho_4 D 762252 762250     42\n",
      " 776100 136863        cutoff              0.2845        0.2810  3413086    1.26%           rho_0 D 776100 776099     79\n",
      " 790279 137137        cutoff              0.2845        0.2810  3475036    1.24%           rho_1 U 790279 378393     59\n",
      " 805590 136490        0.2831     5        0.2845        0.2811  3531647    1.22%          rho_23 D 805590 805588     50\n",
      " 820920 135549        0.2819    11        0.2845        0.2811  3588995    1.20%          rho_13 D 820920 820919     32\n",
      "Elapsed time = 168.23 sec. (206259.31 ticks, tree = 40.10 MB, solutions = 3)\n",
      " 836370 135929        0.2818     9        0.2845        0.2812  3646296    1.18%           rho_9 D 836370 836369     45\n",
      " 851487 135536        0.2812    12        0.2845        0.2812  3702040    1.16%           rho_0 D 851487 851485     52\n",
      " 866843 136518        0.2832     9        0.2845        0.2813  3759510    1.13%           rho_1 D 866843 866842     22\n",
      " 881169 136614        0.2816     9        0.2845        0.2814  3820171    1.11%           rho_0 D 881169 122147     31\n",
      " 895221 135392        0.2829     9        0.2845        0.2814  3882020    1.09%           rho_1 N 895221 887612     44\n",
      " 908800 134064        0.2845     7        0.2845        0.2815  3942661    1.07%          rho_23 D 908800 908798     57\n",
      " 923165 130716        0.2816     7        0.2845        0.2816  4005027    1.04%          rho_14 D 923165 524257     38\n",
      " 938282 128058        cutoff              0.2845        0.2816  4072329    1.01%           rho_2 U 938282 938281     70\n",
      "\n",
      "Gomory fractional cuts applied:  1\n",
      "User cuts applied:  348\n",
      "\n",
      "Root node processing (before b&c):\n",
      "  Real time             =    0.08 sec. (1.55 ticks)\n",
      "Sequential b&c:\n",
      "  Real time             =  199.94 sec. (239677.31 ticks)\n",
      "                          ------------\n",
      "Total (root+branch&cut) =  200.02 sec. (239678.86 ticks)\n",
      "+----------------------------------------------+------------------+-----------+\n",
      "| Pr(Y = +1) = 1.0/(1.0 + exp(-(-3 + score))   |                  |           |\n",
      "| ============================================ | ================ | ========= |\n",
      "| p_arrest>=3                                  |         1 points |   + ..... |\n",
      "| p_drug>=1                                    |         1 points |   + ..... |\n",
      "| ============================================ | ================ | ========= |\n",
      "| ADD POINTS FROM ROWS 1 to 2                  |            SCORE |   = ..... |\n",
      "+----------------------------------------------+------------------+-----------+\n",
      "model_id, score_thresholds 0 {'rank_abs': [0]}\n",
      "get_disparity_predefined_group()\n",
      "setting c0 = 0.0 to ensure that intercept is not penalized\n",
      "09/11/19 @ 12:48 AM | 1061 rows in lookup table\n",
      "09/11/19 @ 12:48 AM | ------------------------------------------------------------\n",
      "09/11/19 @ 12:48 AM | runnning initialization procedure\n",
      "09/11/19 @ 12:48 AM | ------------------------------------------------------------\n",
      "09/11/19 @ 12:48 AM | CPA produced 2 cuts\n",
      "09/11/19 @ 12:48 AM | running naive rounding on 63 solutions\n",
      "09/11/19 @ 12:48 AM | best objective value: 0.2791\n",
      "09/11/19 @ 12:48 AM | rounding produced 5 integer solutions\n",
      "09/11/19 @ 12:48 AM | best objective value is 0.2881\n",
      "09/11/19 @ 12:48 AM | running sequential rounding on 63 solutions\n",
      "09/11/19 @ 12:48 AM | best objective value: 0.2791\n",
      "09/11/19 @ 12:48 AM | sequential rounding produced 6 integer solutions\n",
      "09/11/19 @ 12:48 AM | best objective value: 0.2849\n",
      "09/11/19 @ 12:48 AM | polishing 11 solutions\n",
      "09/11/19 @ 12:48 AM | best objective value: 0.2849\n",
      "09/11/19 @ 12:48 AM | polishing produced 4 integer solutions\n",
      "09/11/19 @ 12:48 AM | initialization produced 10 feasible solutions\n",
      "09/11/19 @ 12:48 AM | best objective value: 0.2849\n",
      "09/11/19 @ 12:48 AM | ------------------------------------------------------------\n",
      "09/11/19 @ 12:48 AM | completed initialization procedure\n",
      "09/11/19 @ 12:48 AM | ------------------------------------------------------------\n",
      "09/11/19 @ 12:48 AM | 1061 rows in lookup table\n",
      "CPXPARAM_Read_DataCheck                          1\n",
      "CPXPARAM_Threads                                 1\n",
      "CPXPARAM_Parallel                                1\n",
      "CPXPARAM_RandomSeed                              0\n",
      "CPXPARAM_TimeLimit                               200\n",
      "CPXPARAM_MIP_Tolerances_LowerCutoff              0.27798255970686381\n",
      "CPXPARAM_MIP_Tolerances_UpperCutoff              0.28485614740681248\n"
     ]
    },
    {
     "name": "stderr",
     "output_type": "stream",
     "text": [
      "Warning: Control callbacks may disable some MIP features.\n"
     ]
    },
    {
     "name": "stdout",
     "output_type": "stream",
     "text": [
      "Lazy constraint(s) or lazy constraint callback is present.\n",
      "    Disabling dual reductions (CPX_PARAM_REDUCE) in presolve.\n",
      "    Disabling non-linear reductions (CPX_PARAM_PRELINEAR) in presolve.\n",
      "         Disabling repeat represolve because of lazy constraint/incumbent callback.\n",
      "09/11/19 @ 12:48 AM | adding 238 initial cuts\n",
      "1 of 1 MIP starts provided solutions.\n",
      "MIP start 'mip_start_0' defined initial solution with objective 0.2849.\n",
      "Tried aggregator 1 time.\n",
      "Reduced MIP has 26 rows, 52 columns, and 99 nonzeros.\n",
      "Reduced MIP has 24 binaries, 26 generals, 0 SOSs, and 0 indicators.\n",
      "Presolve time = 0.00 sec. (0.05 ticks)\n",
      "Probing time = 0.00 sec. (0.01 ticks)\n",
      "MIP emphasis: balance optimality and feasibility.\n",
      "MIP search method: traditional branch-and-cut.\n",
      "Parallel mode: none, using 1 thread.\n",
      "Root relaxation solution time = 0.00 sec. (0.03 ticks)\n",
      "\n",
      "        Nodes                                         Cuts/\n",
      "   Node  Left     Objective  IInf  Best Integer    Best Bound    ItCnt     Gap         Variable B NodeID Parent  Depth\n",
      "\n",
      "*     0+    0                            0.2849        0.2780             2.41%\n",
      "      0     0        0.2780     1        0.2849        0.2780        0    2.41%\n",
      "      0     0        0.2780     1        0.2849      Fract: 1        2    2.41%\n",
      "      0     2        0.2780     2        0.2849        0.2780        2    2.41%                        0             0\n",
      "Elapsed time = 0.14 sec. (1.53 ticks, tree = 0.01 MB, solutions = 1)\n",
      "   2118   856        0.2783     9        0.2849        0.2780     9852    2.41%           rho_4 U   2118   2117     12\n",
      "   3511  1527        0.2795    11        0.2849        0.2780    17810    2.41%           rho_6 U   3511   3083     13\n",
      "   4693  2010        0.2780    13        0.2849        0.2780    25308    2.41%           rho_1 U   4693   4204     22\n",
      "   5900  2350        0.2831    13        0.2849        0.2780    31681    2.41%           rho_1 D   5900   5899     24\n",
      "   6917  2788        0.2797    11        0.2849        0.2780    37978    2.41%           rho_6 D   6917   6915     30\n",
      "   7881  3321        0.2801    12        0.2849        0.2780    44270    2.41%          rho_12 D   7881   7880     23\n",
      "   8965  3657        0.2780     5        0.2849        0.2780    50002    2.41%           rho_4 U   8965   8963     15\n",
      "  10137  4446        0.2780     5        0.2849        0.2780    55289    2.41%           rho_9 U  10137  10048     32\n",
      "  11266  4834        0.2816    13        0.2849        0.2780    60749    2.41%          rho_12 D  11266  11265     16\n",
      "  15510  6412        0.2780     4        0.2849        0.2780    86430    2.41%           rho_0 D  15510  15508     30\n",
      "Elapsed time = 4.69 sec. (3102.38 ticks, tree = 1.71 MB, solutions = 1)\n",
      "  19850  7915        0.2836    10        0.2849        0.2780   111771    2.41%          rho_20 D  19850  19848     40\n",
      "  23780  9172        0.2839     5        0.2849        0.2780   135438    2.41%          rho_22 U  23780  23779     22\n",
      "  27421 10641        0.2838    13        0.2849        0.2780   157978    2.41%           rho_2 N  27421  27420     38\n",
      "  31638 11897        0.2786     5        0.2849        0.2780   179187    2.41%           rho_0 U  31638  31458     44\n",
      "  35887 13656        0.2834    13        0.2849        0.2780   201082    2.41%           rho_6 D  35887  35886     57\n",
      "  40020 15638        0.2832     5        0.2849        0.2780   221998    2.41%          rho_20 D  40020  40019     63\n",
      "  44344 17437        0.2846     7        0.2849        0.2780   241777    2.41%          rho_13 N  44344  44342     64\n",
      "  47940 18382        0.2795     7        0.2849        0.2780   261566    2.41%           rho_0 U  47940  47939     41\n",
      "  51789 18797        cutoff              0.2849        0.2780   280302    2.41%          rho_13 U  51789  51788     41\n",
      "  55601 19230        0.2843     7        0.2849        0.2780   300151    2.41%          rho_23 D  55601  55599     45\n",
      "Elapsed time = 14.22 sec. (12640.40 ticks, tree = 5.62 MB, solutions = 1)\n",
      "  59368 19849        0.2780    18        0.2849        0.2780   320441    2.41%          rho_10 U  59368  59366     61\n",
      "  63275 21563        cutoff              0.2849        0.2780   342523    2.41%           rho_0 U  63275  63274     73\n",
      "  66864 23055        cutoff              0.2849        0.2780   364030    2.41%          rho_12 U  66864  66853     23\n",
      "  70321 24437        0.2784    18        0.2849        0.2780   386848    2.41%           rho_0 D  70321  70319     25\n",
      "  73922 25670        0.2825     7        0.2849        0.2780   409855    2.41%           rho_9 D  73922  73921     62\n",
      "  77399 26682        0.2803    13        0.2849        0.2780   430979    2.41%           rho_8 N  77399   7878     21\n",
      "  80880 27977        0.2783     9        0.2849        0.2780   451612    2.41%           rho_1 N  80880  80879     17\n",
      "  84492 29267        0.2780     8        0.2849        0.2780   470950    2.41%           rho_8 D  84492  84339     20\n",
      "  88382 30584        0.2841     3        0.2849        0.2780   491120    2.41%           rho_6 D  88382  88380     50\n",
      "  91574 32161        0.2780    19        0.2849        0.2780   513140    2.41%          rho_10 U  91574  91568     42\n",
      "Elapsed time = 23.83 sec. (22178.75 ticks, tree = 8.57 MB, solutions = 1)\n",
      "  95225 33352        0.2780     7        0.2849        0.2780   535292    2.41%           rho_5 N  95225  42561     65\n",
      "  99107 34408        0.2780    13        0.2849        0.2780   555557    2.41%           rho_0 U  99107  67266     44\n",
      " 102755 35148        0.2813     4        0.2849        0.2780   575042    2.41%           rho_3 N 102755 102753     34\n",
      " 106560 36485        0.2826    15        0.2849        0.2780   596442    2.41%           rho_1 D 106560 106559     52\n",
      " 110550 37850        0.2780    10        0.2849        0.2780   618037    2.41%           rho_0 D 110550 110548     34\n",
      " 113330 38851        0.2836     3        0.2849        0.2780   642909    2.41%          rho_20 D 113330 113328     62\n",
      " 116645 40257        0.2780     4        0.2849        0.2780   666218    2.41%           rho_0 D 116645 116643     41\n",
      " 120998 41679        0.2799    11        0.2849        0.2780   687462    2.41%           rho_0 D 120998 120996     58\n",
      " 125243 43048        cutoff              0.2849        0.2780   708810    2.41%          rho_22 U 125243 125242     60\n",
      " 128839 44421        0.2803    11        0.2849        0.2780   731967    2.41%           rho_5 D 128839 128836     60\n",
      "Elapsed time = 32.55 sec. (31717.80 ticks, tree = 12.77 MB, solutions = 1)\n",
      " 132384 46063        0.2800     7        0.2849        0.2780   754435    2.41%          rho_10 D 132384 132383     47\n",
      " 135697 47655        0.2840     5        0.2849        0.2780   779606    2.41%           rho_6 N 135697 135695     64\n",
      " 139170 48350        0.2826     7        0.2849        0.2780   799294    2.41%          rho_13 D 139170 139168     25\n",
      " 142761 50007        0.2792    17        0.2849        0.2780   819519    2.41%          rho_10 D 142761 142624     61\n",
      " 146178 50514        0.2813     4        0.2849        0.2780   838905    2.41%           rho_3 N 146178 103056     24\n",
      " 150009 51580        0.2844     7        0.2849        0.2780   859338    2.41%          rho_22 D 150009 150007     70\n",
      " 153530 52246        0.2793     5        0.2849        0.2780   878234    2.41%           rho_2 D 153530 153529     51\n",
      " 157585 53673        0.2780    11        0.2849        0.2780   896629    2.41%           rho_0 D 157585 126391     43\n",
      " 161135 54462        cutoff              0.2849        0.2780   914821    2.41%          rho_12 U 161135 161134     29\n",
      " 165266 55338        0.2847     5        0.2849        0.2780   932837    2.41%          rho_11 D 165266 165264     47\n",
      "Elapsed time = 40.92 sec. (41256.33 ticks, tree = 15.31 MB, solutions = 1)\n",
      " 169629 56959        0.2780    13        0.2849        0.2780   949236    2.40%          rho_10 U 169629 169615     46\n",
      " 174490 58024        0.2839     3        0.2849        0.2781   966791    2.39%          rho_22 N 174490 174489     19\n",
      " 178543 59553        0.2817    10        0.2849        0.2781   984487    2.37%          rho_13 D 178543 178541     60\n"
     ]
    },
    {
     "name": "stdout",
     "output_type": "stream",
     "text": [
      " 182881 60735        0.2834     7        0.2849        0.2781  1001398    2.36%           rho_1 D 182881 182880     51\n",
      " 187420 62491        0.2844    11        0.2849        0.2782  1018115    2.34%          rho_13 N 187420 187419     19\n",
      " 191520 64412        0.2782    10        0.2849        0.2782  1035428    2.33%           rho_0 D 191520 191518     51\n",
      " 195330 65863        cutoff              0.2849        0.2782  1055577    2.33%           rho_6 U 195330 195329     78\n",
      " 199743 67540        0.2783    16        0.2849        0.2783  1069978    2.31%           rho_0 D 199743 199741     28\n",
      " 203651 68509        0.2790    17        0.2849        0.2783  1088135    2.30%          rho_10 D 203651 201099     65\n",
      " 207366 69444        0.2807    14        0.2849        0.2783  1105953    2.29%          rho_10 D 207366 207365     50\n",
      "Elapsed time = 49.58 sec. (50794.19 ticks, tree = 21.38 MB, solutions = 1)\n",
      " 212030 71235        0.2792    11        0.2849        0.2784  1123529    2.28%           rho_0 U 212030 183277     35\n",
      " 216700 72826        0.2801    10        0.2849        0.2784  1141298    2.28%          rho_10 D 216700 216699     49\n",
      " 220883 74379        0.2784    18        0.2849        0.2784  1160348    2.28%           rho_0 D 220883 220881     37\n",
      " 224966 76326        0.2795    11        0.2849        0.2784  1179147    2.27%          rho_12 N 224966  44743     66\n",
      " 228361 76673        0.2825     5        0.2849        0.2784  1197424    2.26%          rho_14 D 228361 228359     44\n",
      " 232136 77400        0.2784     9        0.2849        0.2784  1213181    2.26%          rho_10 U 232136 232127     37\n",
      " 236578 79024        0.2788     6        0.2849        0.2784  1228498    2.26%           rho_2 N 236578 236577     20\n",
      " 240546 79575        cutoff              0.2849        0.2784  1245253    2.25%          rho_11 D 240546 240544     34\n",
      " 244546 80220        0.2838     9        0.2849        0.2785  1262832    2.25%           rho_1 N 244546 244544     29\n",
      " 248740 81405        0.2848     5        0.2849        0.2785  1277251    2.25%          rho_23 D 248740 248739     59\n",
      "Elapsed time = 58.08 sec. (60333.12 ticks, tree = 24.12 MB, solutions = 1)\n",
      " 252614 82372        0.2812     4        0.2849        0.2785  1295156    2.24%           rho_1 D 252614 252613     36\n",
      " 257179 82853        0.2812     5        0.2849        0.2785  1309097    2.24%          rho_10 D 257179 257178     68\n",
      " 261450 83428        0.2790     9        0.2849        0.2785  1325034    2.23%          rho_10 D 261450 261448     62\n",
      " 265366 84468        cutoff              0.2849        0.2785  1341801    2.22%           rho_6 U 265366 265365     30\n",
      " 269152 84990        0.2818     7        0.2849        0.2786  1358705    2.21%           rho_6 D 269152 269150     67\n",
      " 272849 86056        0.2801    11        0.2849        0.2786  1375970    2.19%           rho_1 D 272849 143409     26\n",
      " 276366 86840        cutoff              0.2849        0.2787  1396535    2.17%           rho_2 U 276366 105317     34\n",
      " 279860 87566        0.2840     5        0.2849        0.2787  1415694    2.16%          rho_22 D 279860 279859     26\n",
      " 283907 88619        0.2844     6        0.2849        0.2787  1433721    2.15%           rho_2 U 283907 123965     64\n",
      " 287613 89296        0.2808     7        0.2849        0.2787  1453140    2.14%           rho_2 U 287613 210943     42\n",
      "Elapsed time = 66.20 sec. (69871.06 ticks, tree = 25.92 MB, solutions = 1)\n",
      " 291433 90349        0.2788    21        0.2849        0.2788  1469602    2.14%          rho_10 U 291433 291431     36\n",
      " 295147 91280        0.2835    11        0.2849        0.2788  1485596    2.14%          rho_12 U 295147 295145     36\n",
      " 298546 91756        cutoff              0.2849        0.2788  1501199    2.13%          rho_13 U 298546 298545     68\n",
      " 303010 92527        0.2811     5        0.2849        0.2788  1515811    2.13%           rho_2 D 303010 303009     42\n",
      " 307392 93448        cutoff              0.2849        0.2788  1530984    2.13%          rho_13 U 307392 307391     48\n",
      " 311054 93806        0.2788     4        0.2849        0.2788  1547673    2.12%          rho_10 U 311054 311052     54\n",
      " 314700 94674        0.2848     9        0.2849        0.2789  1565217    2.11%          rho_13 N 314700 314699     42\n",
      " 318047 95034        0.2834     6        0.2849        0.2789  1584947    2.10%           rho_3 D 318047 318045     63\n",
      " 321201 95498        0.2793    13        0.2849        0.2789  1607879    2.10%          rho_10 D 321201 321200     45\n",
      " 324760 96038        0.2842     5        0.2849        0.2789  1623200    2.09%           rho_1 D 324760 324758     58\n",
      "Elapsed time = 74.55 sec. (79409.84 ticks, tree = 27.51 MB, solutions = 1)\n",
      " 328924 97027        cutoff              0.2849        0.2789  1638551    2.08%          rho_20 U 328924 328923     46\n",
      "*329947 96999      integral     0        0.2849        0.2789  1642817    2.08%\n",
      " 332700 97244        0.2808    11        0.2849        0.2790  1655826    2.07%          rho_22 D 332700 332699     51\n",
      " 336573 97670        0.2796     7        0.2849        0.2790  1672020    2.06%           rho_2 D 336573 198519     34\n",
      " 340253 97932        cutoff              0.2849        0.2790  1689195    2.04%           rho_6 U 340253 340252     45\n",
      " 343902 98385        0.2811     5        0.2849        0.2791  1704438    2.04%           rho_6 D 343902 343900     13\n",
      " 347409 98568        0.2811     8        0.2849        0.2791  1724400    2.01%          rho_16 D 347409 347406     31\n",
      " 351070 99733        0.2825     9        0.2849        0.2791  1742885    2.01%          rho_22 D 351070 351069     39\n",
      " 354870 100679        0.2838     5        0.2849        0.2792  1760500    2.00%          rho_22 D 354870 354869     40\n",
      " 358951 102017        0.2835     7        0.2849        0.2792  1775665    1.99%           rho_6 D 358951 358950     44\n",
      " 373336 103282        cutoff              0.2849        0.2792  1844497    1.97%           rho_1 D 373336 373335     71\n",
      "Elapsed time = 85.53 sec. (91808.81 ticks, tree = 29.22 MB, solutions = 2)\n",
      " 387981 106638        cutoff              0.2849        0.2793  1917422    1.94%          rho_14 U 387981 387979     25\n",
      " 402492 109049        0.2805    13        0.2849        0.2794  1988822    1.92%           rho_0 U 402492 402491     68\n",
      " 416950 111412        0.2795    15        0.2849        0.2795  2058914    1.88%          rho_13 D 416950 203884     48\n",
      " 431738 113608        0.2798     9        0.2849        0.2796  2128118    1.85%          rho_10 U 431738 431736     53\n",
      " 446362 114805        0.2833    13        0.2849        0.2797  2191897    1.82%           rho_9 D 446362 446360     66\n",
      " 460560 114857        0.2839    13        0.2849        0.2797  2258230    1.80%           rho_9 N 460560 460559     86\n",
      " 476028 117377        0.2802    16        0.2849        0.2798  2326117    1.78%          rho_12 U 476028 292572     47\n",
      " 491107 119977        cutoff              0.2849        0.2799  2395962    1.75%          rho_22 U 491107   3251     32\n",
      " 505323 121951        cutoff              0.2849        0.2799  2466206    1.73%          rho_14 U 505323 505322     65\n",
      " 520697 122758        0.2838    12        0.2849        0.2800  2531075    1.70%           rho_2 D 520697 520696     54\n",
      "Elapsed time = 117.36 sec. (129957.02 ticks, tree = 33.83 MB, solutions = 2)\n",
      " 535872 124178        0.2812     8        0.2849        0.2801  2594805    1.68%          rho_12 N 535872 126198     51\n",
      " 550957 127671        0.2833     9        0.2849        0.2802  2662938    1.64%          rho_14 N 550957 416175     51\n",
      " 565243 127203        0.2814    11        0.2849        0.2802  2726274    1.62%          rho_12 D 565243 565242     63\n",
      " 579851 127163        0.2822     7        0.2849        0.2803  2797335    1.59%           rho_1 D 579851 579850     67\n",
      " 596437 128844        0.2819     8        0.2849        0.2804  2860843    1.57%          rho_22 D 596437 596435     64\n",
      " 611252 129603        0.2842     6        0.2849        0.2804  2923104    1.56%           rho_2 N 611252 348701     31\n",
      " 626934 130250        cutoff              0.2849        0.2805  2989356    1.53%          rho_10 U 626934 499339     47\n"
     ]
    },
    {
     "name": "stdout",
     "output_type": "stream",
     "text": [
      " 640879 129859        0.2823    11        0.2849        0.2806  3060409    1.50%           rho_9 D 640879 640877     26\n",
      " 654903 128307        cutoff              0.2849        0.2807  3132052    1.47%          rho_14 U 654903 654902     54\n",
      " 670802 128966        0.2834     9        0.2849        0.2808  3193599    1.44%           rho_1 N 670802 223935     38\n",
      "Elapsed time = 149.67 sec. (168105.04 ticks, tree = 35.33 MB, solutions = 2)\n",
      " 685903 130336        0.2843     9        0.2849        0.2808  3260209    1.41%           rho_1 D 685903 599249     75\n",
      " 700143 129936        cutoff              0.2849        0.2809  3328129    1.38%           rho_0 U 700143 700141     73\n",
      " 715275 129486        0.2844     5        0.2849        0.2811  3392365    1.33%           rho_6 N 715275 715272     39\n",
      " 729919 128778        0.2829    11        0.2849        0.2812  3454136    1.29%           rho_0 D 729919 108937     53\n",
      " 744200 129334        0.2840     9        0.2849        0.2813  3518472    1.26%           rho_7 D 744200 744199     43\n",
      " 758878 128952        0.2847     9        0.2849        0.2813  3586679    1.24%           rho_1 U 758878 758877     41\n",
      " 773356 129959        cutoff              0.2849        0.2814  3648155    1.21%           rho_0 U 773356 773355     69\n",
      " 787842 127527        cutoff              0.2849        0.2816  3716861    1.16%          rho_10 D 787842 787841     28\n",
      " 801682 126201        cutoff              0.2849        0.2816  3783277    1.13%           rho_6 D 801682 801681     33\n",
      " 816221 122496        cutoff              0.2849        0.2817  3847660    1.11%           rho_1 U 816221 816219     29\n",
      "Elapsed time = 184.36 sec. (206252.99 ticks, tree = 33.88 MB, solutions = 2)\n",
      " 830357 120943        cutoff              0.2849        0.2818  3907732    1.08%          rho_22 U 830357 830355     57\n",
      " 845335 117036        cutoff              0.2849        0.2819  3973737    1.05%          rho_22 U 845335 845333     53\n",
      " 860600 115676        0.2841    11        0.2849        0.2819  4024797    1.03%          rho_14 D 860600 860599     34\n",
      " 875561 112238        0.2836     7        0.2849        0.2820  4088745    1.00%          rho_20 U 875561 392825     27\n",
      "\n",
      "Gomory fractional cuts applied:  1\n",
      "User cuts applied:  328\n",
      "\n",
      "Root node processing (before b&c):\n",
      "  Real time             =    0.14 sec. (1.55 ticks)\n",
      "Sequential b&c:\n",
      "  Real time             =  199.88 sec. (222667.23 ticks)\n",
      "                          ------------\n",
      "Total (root+branch&cut) =  200.02 sec. (222668.78 ticks)\n",
      "+----------------------------------------------+------------------+-----------+\n",
      "| Pr(Y = +1) = 1.0/(1.0 + exp(-(-3 + score))   |                  |           |\n",
      "| ============================================ | ================ | ========= |\n",
      "| p_arrest>=3                                  |         1 points |   + ..... |\n",
      "| p_drug>=1                                    |         1 points |   + ..... |\n",
      "| ============================================ | ================ | ========= |\n",
      "| ADD POINTS FROM ROWS 1 to 2                  |            SCORE |   = ..... |\n",
      "+----------------------------------------------+------------------+-----------+\n",
      "model_id, score_thresholds 0 {'rank_abs': [0]}\n",
      "get_disparity_predefined_group()\n",
      "setting c0 = 0.0 to ensure that intercept is not penalized\n",
      "09/11/19 @ 12:52 AM | 1061 rows in lookup table\n",
      "09/11/19 @ 12:52 AM | ------------------------------------------------------------\n",
      "09/11/19 @ 12:52 AM | runnning initialization procedure\n",
      "09/11/19 @ 12:52 AM | ------------------------------------------------------------\n",
      "09/11/19 @ 12:52 AM | CPA produced 2 cuts\n",
      "09/11/19 @ 12:52 AM | running naive rounding on 69 solutions\n",
      "09/11/19 @ 12:52 AM | best objective value: 0.2804\n",
      "09/11/19 @ 12:52 AM | rounding produced 5 integer solutions\n",
      "09/11/19 @ 12:52 AM | best objective value is 0.2853\n",
      "09/11/19 @ 12:52 AM | running sequential rounding on 69 solutions\n",
      "09/11/19 @ 12:52 AM | best objective value: 0.2804\n",
      "09/11/19 @ 12:52 AM | sequential rounding produced 5 integer solutions\n",
      "09/11/19 @ 12:52 AM | best objective value: 0.2853\n",
      "09/11/19 @ 12:52 AM | polishing 10 solutions\n",
      "09/11/19 @ 12:52 AM | best objective value: 0.2853\n",
      "09/11/19 @ 12:52 AM | polishing produced 4 integer solutions\n",
      "09/11/19 @ 12:52 AM | initialization produced 10 feasible solutions\n",
      "09/11/19 @ 12:52 AM | best objective value: 0.2853\n",
      "09/11/19 @ 12:52 AM | ------------------------------------------------------------\n",
      "09/11/19 @ 12:52 AM | completed initialization procedure\n",
      "09/11/19 @ 12:52 AM | ------------------------------------------------------------\n",
      "09/11/19 @ 12:52 AM | 1061 rows in lookup table\n",
      "CPXPARAM_Read_DataCheck                          1\n",
      "CPXPARAM_Threads                                 1\n",
      "CPXPARAM_Parallel                                1\n",
      "CPXPARAM_RandomSeed                              0\n",
      "CPXPARAM_TimeLimit                               200\n",
      "CPXPARAM_MIP_Tolerances_LowerCutoff              0.27847941370661239\n",
      "CPXPARAM_MIP_Tolerances_UpperCutoff              0.28530590031538694\n"
     ]
    },
    {
     "name": "stderr",
     "output_type": "stream",
     "text": [
      "Warning: Control callbacks may disable some MIP features.\n"
     ]
    },
    {
     "name": "stdout",
     "output_type": "stream",
     "text": [
      "Lazy constraint(s) or lazy constraint callback is present.\n",
      "    Disabling dual reductions (CPX_PARAM_REDUCE) in presolve.\n",
      "    Disabling non-linear reductions (CPX_PARAM_PRELINEAR) in presolve.\n",
      "         Disabling repeat represolve because of lazy constraint/incumbent callback.\n",
      "09/11/19 @ 12:52 AM | adding 229 initial cuts\n",
      "1 of 1 MIP starts provided solutions.\n",
      "MIP start 'mip_start_0' defined initial solution with objective 0.2853.\n",
      "Tried aggregator 1 time.\n",
      "Reduced MIP has 26 rows, 52 columns, and 99 nonzeros.\n",
      "Reduced MIP has 24 binaries, 26 generals, 0 SOSs, and 0 indicators.\n",
      "Presolve time = 0.00 sec. (0.05 ticks)\n",
      "Probing time = 0.00 sec. (0.01 ticks)\n",
      "MIP emphasis: balance optimality and feasibility.\n",
      "MIP search method: traditional branch-and-cut.\n",
      "Parallel mode: none, using 1 thread.\n",
      "Root relaxation solution time = 0.00 sec. (0.03 ticks)\n",
      "\n",
      "        Nodes                                         Cuts/\n",
      "   Node  Left     Objective  IInf  Best Integer    Best Bound    ItCnt     Gap         Variable B NodeID Parent  Depth\n",
      "\n",
      "*     0+    0                            0.2853        0.2785             2.39%\n",
      "      0     0        0.2785     1        0.2853        0.2785        0    2.39%\n",
      "      0     0        0.2785     1        0.2853      Fract: 1        2    2.39%\n",
      "      0     2        0.2785     2        0.2853        0.2785        2    2.39%                        0             0\n",
      "Elapsed time = 0.09 sec. (1.51 ticks, tree = 0.01 MB, solutions = 1)\n",
      "   2200   933        cutoff              0.2853        0.2785     9741    2.39%          rho_24 U   2200   2199     32\n",
      "*  3762  1681      integral     0        0.2853        0.2785    17141    2.39%\n",
      "   3892  1714        0.2794     5        0.2853        0.2785    17640    2.39%           rho_0 U   3892   3872     19\n",
      "   5181  2071        0.2804     8        0.2853        0.2785    24274    2.39%           rho_4 U   5181   5180     22\n",
      "   6387  2477        cutoff              0.2853        0.2785    30851    2.39%           rho_6 U   6387   6386     20\n",
      "   7460  2831        0.2796     6        0.2853        0.2785    36782    2.39%           rho_0 D   7460   2657     19\n",
      "   8484  3279        0.2811    17        0.2853        0.2785    42511    2.39%          rho_10 D   8484   8483     41\n",
      "   9452  3820        0.2830     5        0.2853        0.2785    48566    2.39%          rho_23 D   9452   9451     43\n",
      "  10448  4347        cutoff              0.2853        0.2785    54804    2.39%           rho_6 U  10448  10447     33\n",
      "  11553  4593        cutoff              0.2853        0.2785    60104    2.39%          rho_14 U  11553  11551     26\n",
      "  15960  6199        cutoff              0.2853        0.2785    84624    2.39%          rho_23 D  15960  15958     36\n",
      "Elapsed time = 4.59 sec. (3102.10 ticks, tree = 1.68 MB, solutions = 2)\n",
      "  19834  7970        0.2791    13        0.2853        0.2785   109258    2.39%           rho_1 D  19834  19833     23\n",
      "  24010  9840        0.2843     5        0.2853        0.2785   133841    2.39%          rho_13 N  24010  24009     44\n",
      "  28190 11447        0.2796    14        0.2853        0.2785   157600    2.39%           rho_4 D  28190  28188     35\n",
      "  31610 12643        0.2850     9        0.2853        0.2785   182503    2.39%           rho_4 N  31610  31609     42\n",
      "  35325 14086        0.2785    16        0.2853        0.2785   204989    2.39%           rho_4 D  35325  35323     17\n",
      "  39349 15919        0.2827     7        0.2853        0.2785   227277    2.39%           rho_6 D  39349  39348     40\n",
      "  42903 17525        0.2825    11        0.2853        0.2785   251062    2.39%          rho_22 D  42903  42902     54\n",
      "  46979 19119        cutoff              0.2853        0.2785   274594    2.39%           rho_0 U  46979  46978     25\n",
      "  51103 20386        0.2827    10        0.2853        0.2785   299118    2.39%           rho_1 D  51103  51102     52\n",
      "  55180 21859        0.2804    12        0.2853        0.2785   323080    2.39%           rho_1 N  55180  55178     47\n",
      "Elapsed time = 14.88 sec. (12641.11 ticks, tree = 6.25 MB, solutions = 2)\n",
      "  59755 23968        cutoff              0.2853        0.2785   347897    2.39%          rho_23 D  59755  59753     30\n",
      "  63271 25258        0.2837    15        0.2853        0.2785   373314    2.39%           rho_0 D  63271  63269     51\n",
      "  66949 26644        cutoff              0.2853        0.2785   397784    2.39%          rho_16 U  66949  66948     52\n",
      "  70718 27031        cutoff              0.2853        0.2785   419327    2.39%           rho_7 D  70718  70717     83\n",
      "  74177 28489        0.2787    15        0.2853        0.2785   442371    2.39%           rho_0 D  74177  74175     25\n",
      "  78010 29740        0.2785    12        0.2853        0.2785   465527    2.39%           rho_0 D  78010  78008     40\n",
      "  81798 31325        0.2816    11        0.2853        0.2785   488546    2.39%           rho_2 N  81798  64076     47\n",
      "  85592 32815        0.2785    12        0.2853        0.2785   510019    2.39%          rho_10 U  85592  85582     31\n",
      "  89598 34501        0.2785    16        0.2853        0.2785   532776    2.39%          rho_10 U  89598  89587     40\n",
      "  93323 35531        cutoff              0.2853        0.2785   556988    2.39%          rho_14 U  93323  93322     63\n",
      "Elapsed time = 24.27 sec. (22178.98 ticks, tree = 10.78 MB, solutions = 2)\n",
      "  96504 36500        cutoff              0.2853        0.2785   584362    2.39%           rho_7 U  96504  96503     65\n",
      "  99763 37745        0.2842    13        0.2853        0.2785   609908    2.39%          rho_20 D  99763  99762     23\n",
      " 103781 39390        0.2832    14        0.2853        0.2785   631716    2.39%           rho_5 D 103781 103780     26\n",
      " 107940 40944        0.2835     7        0.2853        0.2785   655147    2.39%           rho_6 D 107940 107938     23\n",
      " 111850 41951        0.2785    11        0.2853        0.2785   678414    2.39%           rho_3 D 111850 111606     17\n",
      " 115722 43039        0.2816     8        0.2853        0.2785   701654    2.39%           rho_3 N 115722 113298     21\n",
      " 119993 43859        0.2817     8        0.2853        0.2785   723749    2.39%          rho_14 D 119993 119991     34\n",
      " 123334 43889        0.2841     5        0.2853        0.2785   747689    2.39%          rho_13 D 123334 123332     61\n",
      " 126941 44616        0.2834     9        0.2853        0.2785   769877    2.39%           rho_6 D 126941 126940     17\n",
      " 130866 45603        0.2846     9        0.2853        0.2785   792611    2.39%           rho_1 U 130866 130864     24\n",
      "Elapsed time = 33.74 sec. (31717.40 ticks, tree = 13.10 MB, solutions = 2)\n",
      " 134860 47291        0.2785     9        0.2853        0.2785   813602    2.39%           rho_1 D 134860 134859     45\n",
      " 139161 48443        0.2835     7        0.2853        0.2785   838660    2.39%           rho_6 D 139161 139159     28\n",
      " 143395 49535        0.2853     5        0.2853        0.2785   862778    2.39%           rho_4 D 143395 143394     55\n",
      " 147280 50216        0.2853     3        0.2853        0.2785   883497    2.39%          rho_24 N 147280 147279     29\n",
      " 151516 51050        0.2833    10        0.2853        0.2785   902486    2.39%           rho_1 N 151516 151508     42\n",
      " 155472 52297        0.2808    11        0.2853        0.2785   922389    2.39%           rho_1 D 155472 155471     61\n",
      " 159510 53982        0.2839     7        0.2853        0.2785   944926    2.39%          rho_14 D 159510 159508     55\n",
      " 163699 55521        0.2818     5        0.2853        0.2785   966744    2.39%           rho_6 D 163699 163698     54\n",
      " 168229 56176        0.2805    14        0.2853        0.2785   984531    2.39%           rho_2 D 168229 168228     51\n",
      " 172750 57058        0.2846    10        0.2853        0.2785  1001717    2.39%           rho_3 U 172750 159584     56\n",
      "Elapsed time = 43.36 sec. (41256.35 ticks, tree = 15.73 MB, solutions = 2)\n",
      " 176477 57802        0.2837     7        0.2853        0.2786  1023213    2.35%          rho_12 D 176477 176476     51\n",
      " 180552 59182        0.2786    13        0.2853        0.2786  1042769    2.35%           rho_2 D 180552  72616     57\n"
     ]
    },
    {
     "name": "stdout",
     "output_type": "stream",
     "text": [
      " 185225 61046        0.2833    11        0.2853        0.2786  1061616    2.35%           rho_2 D 185225 185224     49\n",
      " 189131 61797        0.2829     9        0.2853        0.2787  1084556    2.30%           rho_1 N 189131 189130     33\n",
      " 193440 63803        0.2792    10        0.2853        0.2787  1105749    2.30%           rho_3 N 193440 189730     43\n",
      " 197757 65566        0.2795    12        0.2853        0.2788  1124227    2.29%           rho_5 D 197757 162897     37\n",
      " 202451 66517        cutoff              0.2853        0.2788  1142707    2.27%          rho_20 D 202451 202449     52\n",
      " 206822 67644        cutoff              0.2853        0.2789  1160253    2.26%           rho_1 D 206822 206821     41\n",
      " 211206 68923        0.2789    13        0.2853        0.2789  1177138    2.24%           rho_3 D 211206 173568     47\n",
      " 215263 70131        0.2837    13        0.2853        0.2789  1194017    2.24%           rho_3 D 215263 215262     37\n",
      "Elapsed time = 52.13 sec. (50795.08 ticks, tree = 21.56 MB, solutions = 2)\n",
      " 219158 71124        0.2794    14        0.2853        0.2790  1214570    2.21%           rho_0 D 219158 135831     62\n",
      " 223054 71957        0.2818    12        0.2853        0.2790  1233025    2.21%           rho_2 N 223054 209591     74\n",
      " 226754 72439        cutoff              0.2853        0.2790  1254121    2.20%          rho_22 U 226754 226753     51\n",
      " 231170 73709        0.2848     6        0.2853        0.2791  1270502    2.18%           rho_7 D 231170 231169     41\n",
      " 235059 74335        0.2836     9        0.2853        0.2791  1287552    2.18%           rho_6 D 235059 235058     57\n",
      " 238707 74929        0.2847     9        0.2853        0.2791  1308709    2.18%          rho_14 D 238707 238705     61\n",
      " 242526 75291        0.2824     9        0.2853        0.2791  1329090    2.17%           rho_0 D 242526 242525     55\n",
      "*245320 76111      integral     0        0.2853        0.2792  1342089    2.15%\n",
      " 246525 76380        cutoff              0.2853        0.2792  1347188    2.15%           rho_3 U 246525   2538     20\n",
      " 250703 78243        0.2818    13        0.2853        0.2792  1366381    2.13%          rho_22 D 250703 250702     30\n",
      " 254364 79607        0.2824    14        0.2853        0.2793  1386952    2.10%           rho_2 D 254364 254362     38\n",
      "Elapsed time = 62.08 sec. (60333.48 ticks, tree = 23.74 MB, solutions = 3)\n",
      " 258410 80477        0.2794     9        0.2853        0.2794  1406391    2.08%           rho_2 D 258410 100968     37\n",
      " 262222 80760        cutoff              0.2853        0.2794  1426919    2.06%          rho_22 U 262222 262220     33\n",
      " 265785 82423        0.2814    18        0.2853        0.2794  1446180    2.06%           rho_0 D 265785 265783     28\n",
      " 270162 83960        0.2795    11        0.2853        0.2794  1465115    2.06%           rho_0 D 270162 270160     51\n",
      " 275033 84406        cutoff              0.2853        0.2794  1482127    2.05%          rho_22 U 275033 275032     48\n",
      " 279484 85426        0.2795     6        0.2853        0.2795  1499454    2.04%          rho_10 U 279484 279482     46\n",
      " 283711 85955        cutoff              0.2853        0.2796  1518616    2.02%          rho_10 U 283711 267675     57\n",
      " 287914 86878        0.2796     4        0.2853        0.2796  1537579    2.00%           rho_4 D 287914 287912     30\n",
      " 291488 86967        0.2825    13        0.2853        0.2796  1558529    2.00%           rho_2 D 291488 291487     51\n",
      " 295974 87734        0.2805     9        0.2853        0.2796  1575973    2.00%           rho_2 D 295974 295972     42\n",
      "Elapsed time = 73.74 sec. (69872.36 ticks, tree = 25.61 MB, solutions = 3)\n",
      " 300185 88903        0.2796    10        0.2853        0.2796  1594997    1.99%          rho_10 U 300185 300183     57\n",
      " 304256 88905        0.2834     9        0.2853        0.2797  1614617    1.95%           rho_6 D 304256 304254     73\n",
      " 307633 89118        0.2848     6        0.2853        0.2798  1639807    1.94%          rho_22 U 307633 114552     51\n",
      " 311959 89480        0.2842     8        0.2853        0.2798  1659359    1.93%           rho_3 U 311959 285403     44\n",
      " 316126 90318        cutoff              0.2853        0.2799  1677748    1.90%          rho_18 U 316126 316125     35\n",
      " 320152 91231        cutoff              0.2853        0.2799  1697644    1.89%           rho_7 U 320152 320151     72\n",
      " 323424 90859        cutoff              0.2853        0.2800  1719800    1.88%          rho_20 U 323424 323423     32\n",
      " 327530 92200        0.2802    10        0.2853        0.2801  1737250    1.83%          rho_10 D 327530 327529     55\n",
      " 331527 92566        0.2837    11        0.2853        0.2801  1754385    1.83%          rho_13 D 331527 331526     28\n",
      " 335340 92999        0.2845     9        0.2853        0.2801  1773109    1.83%           rho_7 D 335340 335338     62\n",
      "Elapsed time = 83.39 sec. (79411.60 ticks, tree = 26.82 MB, solutions = 3)\n",
      " 339210 93340        0.2851     7        0.2853        0.2801  1794753    1.82%          rho_20 D 339210 339209     49\n",
      " 343310 94014        cutoff              0.2853        0.2801  1814948    1.81%          rho_22 D 343310 343309     27\n",
      " 347662 94400        cutoff              0.2853        0.2801  1829316    1.81%           rho_8 U 347662 347661     72\n",
      " 352009 95007        0.2837    11        0.2853        0.2802  1846237    1.79%          rho_13 D 352009 352007     52\n",
      " 356407 95914        0.2852    14        0.2853        0.2802  1861999    1.78%           rho_0 N 356407  10013     12\n",
      " 360162 95787        0.2831     7        0.2853        0.2802  1881089    1.77%          rho_14 D 360162 360160     79\n",
      " 364506 96385        0.2807     7        0.2853        0.2803  1895803    1.77%           rho_8 N 364506  58959     67\n",
      " 369771 97756        0.2833     5        0.2853        0.2803  1911179    1.77%          rho_23 D 369771 369769     43\n",
      " 373063 97760        0.2821    12        0.2853        0.2803  1932366    1.76%           rho_3 U 373063 316399     30\n",
      " 388885 99109        0.2849    10        0.2853        0.2804  2002450    1.71%           rho_4 D 388885 388884     38\n",
      "Elapsed time = 94.78 sec. (91811.45 ticks, tree = 28.22 MB, solutions = 3)\n",
      " 403912 101995        cutoff              0.2853        0.2806  2080179    1.65%           rho_4 U 403912 403911     30\n",
      " 419217 102858        0.2824     7        0.2853        0.2807  2151875    1.61%           rho_8 U 419217  86040     40\n",
      " 437623 106190        0.2834     8        0.2853        0.2808  2228655    1.56%          rho_10 N 437623 437622     47\n",
      " 453326 106220        0.2833     4        0.2853        0.2810  2297097    1.50%           rho_3 N 453326 211544     60\n",
      " 470306 107831        0.2811     9        0.2853        0.2811  2364709    1.49%           rho_8 D 470306 359168     19\n",
      " 486488 110597        cutoff              0.2853        0.2812  2429258    1.45%           rho_0 U 486488 486487     44\n",
      " 501854 108857        0.2848     7        0.2853        0.2813  2503357    1.40%           rho_2 D 501854 501853     50\n",
      " 517420 110287        cutoff              0.2853        0.2814  2580836    1.38%           rho_0 D 517420 148203     24\n",
      " 533242 111297        0.2827    13        0.2853        0.2814  2646962    1.36%           rho_6 D 533242 449232     53\n",
      " 547352 110265        0.2845     7        0.2853        0.2815  2725802    1.33%          rho_14 D 547352 547350     49\n",
      "Elapsed time = 129.33 sec. (129959.83 ticks, tree = 30.78 MB, solutions = 3)\n",
      " 563685 113044        0.2847     5        0.2853        0.2816  2796032    1.30%           rho_3 N 563685 150136     29\n",
      " 578210 112205        cutoff              0.2853        0.2816  2869339    1.29%           rho_1 U 578210 284788     25\n",
      " 593350 110179        cutoff              0.2853        0.2817  2936262    1.25%           rho_1 U 593350 542890     27\n",
      " 608320 109717        0.2827     7        0.2853        0.2818  3006047    1.22%          rho_13 D 608320 608318     77\n",
      " 624565 107919        0.2828     7        0.2853        0.2820  3069598    1.17%           rho_7 U 624565  30006     56\n",
      " 640890 105358        0.2833     7        0.2853        0.2821  3140875    1.13%          rho_22 D 640890 640888     35\n"
     ]
    },
    {
     "name": "stdout",
     "output_type": "stream",
     "text": [
      " 656028 105063        0.2831    13        0.2853        0.2821  3209300    1.11%          rho_10 D 656028 656027     49\n",
      " 671480 102925        0.2840     5        0.2853        0.2823  3283234    1.05%          rho_13 D 671480 671479     57\n",
      " 686690 101500        0.2832     7        0.2853        0.2824  3345587    1.00%           rho_6 D 686690 686688     66\n",
      " 701772 98141        cutoff              0.2853        0.2826  3421193    0.94%          rho_20 U 701772 192248     62\n",
      "Elapsed time = 166.13 sec. (168109.58 ticks, tree = 28.01 MB, solutions = 3)\n",
      " 718307 99465        cutoff              0.2853        0.2827  3480801    0.93%          rho_22 U 718307 718306     43\n",
      " 735236 97820        0.2850     3        0.2853        0.2828  3545525    0.89%          rho_24 D 735236 735234     57\n",
      " 751957 93207        cutoff              0.2853        0.2829  3619835    0.83%          rho_23 U 751957 751956     70\n",
      " 768699 90979        0.2830    12        0.2853        0.2830  3682069    0.80%          rho_10 U 768699 768695     76\n",
      " 784683 87397        0.2853     7        0.2853        0.2831  3742994    0.77%          rho_12 D 784683 784682     48\n",
      " 800879 82202        0.2848     7        0.2853        0.2832  3810117    0.72%           rho_7 N 800879  24619     48\n",
      " 818464 76331        0.2836     9        0.2853        0.2834  3879278    0.67%          rho_14 D 818464 818462     57\n",
      " 833581 68736        cutoff              0.2853        0.2835  3956571    0.62%           rho_2 U 833581 833579     52\n",
      " 851693 63575        0.2837     9        0.2853        0.2837  4022776    0.57%           rho_8 D 851693 516141     57\n",
      "\n",
      "Gomory fractional cuts applied:  1\n",
      "User cuts applied:  315\n",
      "\n",
      "Root node processing (before b&c):\n",
      "  Real time             =    0.09 sec. (1.53 ticks)\n",
      "Sequential b&c:\n",
      "  Real time             =  199.92 sec. (203992.83 ticks)\n",
      "                          ------------\n",
      "Total (root+branch&cut) =  200.02 sec. (203994.37 ticks)\n",
      "+----------------------------------------------+------------------+-----------+\n",
      "| Pr(Y = +1) = 1.0/(1.0 + exp(-(-3 + score))   |                  |           |\n",
      "| ============================================ | ================ | ========= |\n",
      "| p_arrest>=3                                  |         1 points |   + ..... |\n",
      "| p_drug>=1                                    |         1 points |   + ..... |\n",
      "| ============================================ | ================ | ========= |\n",
      "| ADD POINTS FROM ROWS 1 to 2                  |            SCORE |   = ..... |\n",
      "+----------------------------------------------+------------------+-----------+\n",
      "model_id, score_thresholds 0 {'rank_abs': [0]}\n",
      "get_disparity_predefined_group()\n"
     ]
    }
   ],
   "source": [
    "riskslim_summary = slim.risk_cv(X=sub_X, \n",
    "                                Y=sub_Y, \n",
    "                                indicator = indicator,\n",
    "                                y_label='drug2', \n",
    "                                max_coef=20, \n",
    "                                max_coef_number=10, \n",
    "                                max_runtime=200, \n",
    "                                c=1e-8, \n",
    "                                seed=816)"
   ]
  },
  {
   "cell_type": "code",
   "execution_count": 25,
   "metadata": {},
   "outputs": [
    {
     "data": {
      "text/plain": [
       "(0.652465780637763, 0.6524521549166138)"
      ]
     },
     "execution_count": 25,
     "metadata": {},
     "output_type": "execute_result"
    }
   ],
   "source": [
    "np.mean(riskslim_summary['train_auc']), np.mean(riskslim_summary['test_auc'])"
   ]
  },
  {
   "cell_type": "markdown",
   "metadata": {},
   "source": [
    "### Results"
   ]
  },
  {
   "cell_type": "code",
   "execution_count": 26,
   "metadata": {},
   "outputs": [
    {
     "name": "stdout",
     "output_type": "stream",
     "text": [
      "Stored 'summary_general2_KY_interpret' (dict)\n"
     ]
    }
   ],
   "source": [
    "#### save results\n",
    "summary_general2_KY_interpret = {\"CART\": cart_summary,\n",
    "                                   \"EBM\": ebm_summary, \n",
    "                                   'Lasso Stumps': stump_summary, \n",
    "                                   'RiskSLIM': riskslim_summary, \n",
    "                                   'Arnold PSA Raw': raw_auc, \n",
    "                                   'Arnold PSA': calc_auc}\n",
    "%store summary_general2_KY_interpret"
   ]
  },
  {
   "cell_type": "code",
   "execution_count": 27,
   "metadata": {},
   "outputs": [
    {
     "data": {
      "text/plain": [
       "[['CART', 0.6949277402624676, 0.016876619145890427],\n",
       " ['EBM', 0.7014736549700928, 0.007181449117447359],\n",
       " ['Lasso Stumps', 0.6966815902686664, 0.0008163942945702107],\n",
       " ['RiskSLIM', 0.6524521549166138],\n",
       " ['Arnold PSA Raw', 0.654],\n",
       " ['Arnold PSA', 0.65]]"
      ]
     },
     "execution_count": 27,
     "metadata": {},
     "output_type": "execute_result"
    }
   ],
   "source": [
    "results = [[\"CART\", np.mean(cart_summary['holdout_test_auc']), np.mean(cart_summary['auc_diffs'])],\n",
    "           [\"EBM\", np.mean(ebm_summary['holdout_test_auc']), np.mean(ebm_summary['auc_diffs'])], \n",
    "           [\"Lasso Stumps\", np.mean(stump_summary['holdout_test_auc']), np.mean(stump_summary['auc_diffs'])],\n",
    "           ['RiskSLIM', np.mean(riskslim_summary['test_auc'])],\n",
    "           ['Arnold PSA Raw', round(np.mean(raw_auc), 3)], \n",
    "           ['Arnold PSA', round(np.mean(calc_auc), 3)]]\n",
    "results"
   ]
  },
  {
   "cell_type": "code",
   "execution_count": 28,
   "metadata": {},
   "outputs": [],
   "source": [
    "auc = [np.mean(cart_summary['holdout_test_auc']), \n",
    "       np.mean(ebm_summary['holdout_test_auc']), \n",
    "       np.mean(stump_summary['holdout_test_auc']), \n",
    "       np.mean(riskslim_summary['test_auc'])]"
   ]
  },
  {
   "cell_type": "code",
   "execution_count": 29,
   "metadata": {},
   "outputs": [],
   "source": [
    "path = \"C:/Users/binha/Documents/Duke/Cynthia Research/KY-analysis-mytrials/KY Recidivism/KY Results/Models/Two Year/\"\n",
    "results = [[\"Drug\", np.str((round(np.mean(cart_summary['holdout_test_auc']), 3))) + \" (\" + np.str(round(np.std(cart_summary['holdout_test_auc']), 3)) + \")\", \n",
    "            np.str(round(np.mean(ebm_summary['holdout_test_auc']),3)) + \" (\" + np.str(round(np.std(ebm_summary['holdout_test_auc']), 3)) + \")\", \n",
    "            np.str(round(np.mean(stump_summary['holdout_test_auc']),3)) + \" (\" + np.str(round(np.std(stump_summary['holdout_test_auc']), 3)) + \")\",             \n",
    "            np.str(round(np.mean(riskslim_summary['test_auc']),3)) + \" (\" + np.str(round(np.std(riskslim_summary['test_auc']), 3)) + \")\", \n",
    "            round(np.max(auc) - np.min(auc), 3),\n",
    "            np.str(round(np.mean(raw_auc), 3)) + \" (\" + np.str(round(np.std(raw_auc),3)) + \")\", \n",
    "            np.str(round(np.mean(calc_auc), 3)) + \" (\" + np.str(round(np.std(calc_auc),3)) + \")\"]]\n",
    "with open(path + 'Interpretable Models Summary.csv', 'a') as writeFile:\n",
    "    writer = csv.writer(writeFile)\n",
    "    writer.writerows(results)"
   ]
  }
 ],
 "metadata": {
  "kernelspec": {
   "display_name": "Python 3",
   "language": "python",
   "name": "python3"
  },
  "language_info": {
   "codemirror_mode": {
    "name": "ipython",
    "version": 3
   },
   "file_extension": ".py",
   "mimetype": "text/x-python",
   "name": "python",
   "nbconvert_exporter": "python",
   "pygments_lexer": "ipython3",
   "version": "3.7.4"
  }
 },
 "nbformat": 4,
 "nbformat_minor": 4
}
