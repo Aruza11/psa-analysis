{
 "cells": [
  {
   "cell_type": "code",
   "execution_count": 1,
   "metadata": {
    "hideCode": false,
    "hidePrompt": false
   },
   "outputs": [],
   "source": [
    "import pytablewriter\n",
    "import pandas as pd\n",
    "import numpy as np"
   ]
  },
  {
   "cell_type": "code",
   "execution_count": 3,
   "metadata": {
    "hideCode": false,
    "hidePrompt": false
   },
   "outputs": [],
   "source": [
    "result = pd.read_csv(\"C:\\\\Users\\\\binha\\\\Documents\\\\Duke\\\\Cynthia Research\\\\KY-analysis-mytrials\\\\KY Recidivism\\\\KY Results\\\\Models\\\\Two Year\\\\Interpretable Models Summary.csv\")"
   ]
  },
  {
   "cell_type": "code",
   "execution_count": 4,
   "metadata": {
    "hideCode": false,
    "hidePrompt": false
   },
   "outputs": [
    {
     "data": {
      "text/html": [
       "<div>\n",
       "<style scoped>\n",
       "    .dataframe tbody tr th:only-of-type {\n",
       "        vertical-align: middle;\n",
       "    }\n",
       "\n",
       "    .dataframe tbody tr th {\n",
       "        vertical-align: top;\n",
       "    }\n",
       "\n",
       "    .dataframe thead th {\n",
       "        text-align: right;\n",
       "    }\n",
       "</style>\n",
       "<table border=\"1\" class=\"dataframe\">\n",
       "  <thead>\n",
       "    <tr style=\"text-align: right;\">\n",
       "      <th></th>\n",
       "      <th>Unnamed: 0</th>\n",
       "      <th>CART</th>\n",
       "      <th>EBM</th>\n",
       "      <th>Lasso Stumps</th>\n",
       "      <th>RiskSLIM</th>\n",
       "      <th>Performance Range</th>\n",
       "      <th>Arnold PSA Raw</th>\n",
       "      <th>Arnold PSA</th>\n",
       "    </tr>\n",
       "  </thead>\n",
       "  <tbody>\n",
       "    <tr>\n",
       "      <th>0</th>\n",
       "      <td>General</td>\n",
       "      <td>0.731 (0.002)</td>\n",
       "      <td>0.737 (0.001)</td>\n",
       "      <td>0.734 (0.002)</td>\n",
       "      <td>0.706 (0.003)</td>\n",
       "      <td>0.031</td>\n",
       "      <td>0.697 (0.003)</td>\n",
       "      <td>0.688 (0.003)</td>\n",
       "    </tr>\n",
       "    <tr>\n",
       "      <th>1</th>\n",
       "      <td>Violent</td>\n",
       "      <td>0.813 (0.003)</td>\n",
       "      <td>0.82 (0.002)</td>\n",
       "      <td>0.816 (0.003)</td>\n",
       "      <td>0.801 (0.003)</td>\n",
       "      <td>0.019</td>\n",
       "      <td>0.797 (0.002)</td>\n",
       "      <td>0.796 (0.002)</td>\n",
       "    </tr>\n",
       "    <tr>\n",
       "      <th>2</th>\n",
       "      <td>Drug</td>\n",
       "      <td>0.695 (0.006)</td>\n",
       "      <td>0.701 (0.004)</td>\n",
       "      <td>0.697 (0.004)</td>\n",
       "      <td>0.652 (0.005)</td>\n",
       "      <td>0.049</td>\n",
       "      <td>0.654 (0.005)</td>\n",
       "      <td>0.65 (0.005)</td>\n",
       "    </tr>\n",
       "    <tr>\n",
       "      <th>3</th>\n",
       "      <td>Property</td>\n",
       "      <td>0.772 (0.007)</td>\n",
       "      <td>0.787 (0.007)</td>\n",
       "      <td>0.789 (0.008)</td>\n",
       "      <td>0.752 (0.009)</td>\n",
       "      <td>0.037</td>\n",
       "      <td>0.724 (0.011)</td>\n",
       "      <td>0.698 (0.013)</td>\n",
       "    </tr>\n",
       "    <tr>\n",
       "      <th>4</th>\n",
       "      <td>Felony</td>\n",
       "      <td>0.737 (0.003)</td>\n",
       "      <td>0.745 (0.003)</td>\n",
       "      <td>0.741 (0.002)</td>\n",
       "      <td>0.707 (0.002)</td>\n",
       "      <td>0.038</td>\n",
       "      <td>0.705 (0.002)</td>\n",
       "      <td>0.693 (0.002)</td>\n",
       "    </tr>\n",
       "    <tr>\n",
       "      <th>5</th>\n",
       "      <td>Misdemeanor</td>\n",
       "      <td>0.703 (0.003)</td>\n",
       "      <td>0.713 (0.002)</td>\n",
       "      <td>0.706 (0.002)</td>\n",
       "      <td>0.666 (0.002)</td>\n",
       "      <td>0.046</td>\n",
       "      <td>0.687 (0.004)</td>\n",
       "      <td>0.678 (0.004)</td>\n",
       "    </tr>\n",
       "  </tbody>\n",
       "</table>\n",
       "</div>"
      ],
      "text/plain": [
       "    Unnamed: 0           CART            EBM   Lasso Stumps       RiskSLIM  \\\n",
       "0      General  0.731 (0.002)  0.737 (0.001)  0.734 (0.002)  0.706 (0.003)   \n",
       "1      Violent  0.813 (0.003)   0.82 (0.002)  0.816 (0.003)  0.801 (0.003)   \n",
       "2         Drug  0.695 (0.006)  0.701 (0.004)  0.697 (0.004)  0.652 (0.005)   \n",
       "3     Property  0.772 (0.007)  0.787 (0.007)  0.789 (0.008)  0.752 (0.009)   \n",
       "4       Felony  0.737 (0.003)  0.745 (0.003)  0.741 (0.002)  0.707 (0.002)   \n",
       "5  Misdemeanor  0.703 (0.003)  0.713 (0.002)  0.706 (0.002)  0.666 (0.002)   \n",
       "\n",
       "   Performance Range Arnold PSA Raw     Arnold PSA  \n",
       "0              0.031  0.697 (0.003)  0.688 (0.003)  \n",
       "1              0.019  0.797 (0.002)  0.796 (0.002)  \n",
       "2              0.049  0.654 (0.005)   0.65 (0.005)  \n",
       "3              0.037  0.724 (0.011)  0.698 (0.013)  \n",
       "4              0.038  0.705 (0.002)  0.693 (0.002)  \n",
       "5              0.046  0.687 (0.004)  0.678 (0.004)  "
      ]
     },
     "execution_count": 4,
     "metadata": {},
     "output_type": "execute_result"
    }
   ],
   "source": [
    "result"
   ]
  },
  {
   "cell_type": "code",
   "execution_count": 4,
   "metadata": {
    "hideCode": false,
    "hidePrompt": false
   },
   "outputs": [],
   "source": [
    "cols = result.columns.to_list()\n",
    "values = result.values.tolist()"
   ]
  },
  {
   "cell_type": "code",
   "execution_count": 5,
   "metadata": {
    "hideCode": false,
    "hideOutput": true,
    "hidePrompt": false
   },
   "outputs": [
    {
     "name": "stdout",
     "output_type": "stream",
     "text": [
      "\\begin{array}{l | r | r | r | r | r | r | r | r | r | r} \\hline\n",
      "    \\verb|Two Year Recidivism| & 0.7380 &  0.00200 & 0.7370 &  0.00100 & 0.7360 & 0.002 & 0.6970 & 0.00300 & 0.6880 & 0.00300 \\\\ \\hline\n",
      "    Violence            & 0.8210 &  0.00200 & 0.8200 &  0.00200 & 0.8150 & 0.002 & 0.7970 & 0.00200 & 0.7960 & 0.00200 \\\\ \\hline\n",
      "    Drug                & 0.7020 &  0.00400 & 0.7010 &  0.00400 & 0.6970 & 0.004 & 0.6540 & 0.00500 & 0.6500 & 0.00500 \\\\ \\hline\n",
      "    Property            & 0.7850 &  0.00700 & 0.7860 &  0.00700 & 0.7800 & 0.006 & 0.7240 & 0.01100 & 0.6980 & 0.01300 \\\\ \\hline\n",
      "    Felony              & 0.7460 &  0.00300 & 0.7450 &  0.00300 & 0.7420 & 0.003 & 0.7050 & 0.00200 & 0.6930 & 0.00200 \\\\ \\hline\n",
      "    Misdemeanor         & 0.7130 &  0.00200 & 0.7130 &  0.00200 & 0.7090 & 0.003 & 0.6870 & 0.00400 & 0.6780 & 0.00400 \\\\ \\hline\n",
      "\\end{array}\n"
     ]
    }
   ],
   "source": [
    "writer = pytablewriter.LatexTableWriter()\n",
    "writer.value_matrix = values\n",
    "writer.write_table()"
   ]
  }
 ],
 "metadata": {
  "hide_code_all_hidden": false,
  "kernelspec": {
   "display_name": "Python 3",
   "language": "python",
   "name": "python3"
  },
  "language_info": {
   "codemirror_mode": {
    "name": "ipython",
    "version": 3
   },
   "file_extension": ".py",
   "mimetype": "text/x-python",
   "name": "python",
   "nbconvert_exporter": "python",
   "pygments_lexer": "ipython3",
   "version": "3.7.4"
  }
 },
 "nbformat": 4,
 "nbformat_minor": 2
}
