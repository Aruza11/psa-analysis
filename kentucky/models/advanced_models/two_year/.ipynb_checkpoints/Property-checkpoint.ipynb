{
 "cells": [
  {
   "cell_type": "code",
   "execution_count": 1,
   "metadata": {},
   "outputs": [
    {
     "name": "stdout",
     "output_type": "stream",
     "text": [
      "Current working directory is now:  C:\\Users\\binha\\Documents\\Duke\\Cynthia Research\\psa-analysis - test\n",
      "no stored variable summary_property2_KY_interpret\n"
     ]
    },
    {
     "name": "stderr",
     "output_type": "stream",
     "text": [
      "C:\\Users\\binha\\Anaconda3\\lib\\site-packages\\sklearn\\externals\\six.py:31: DeprecationWarning:\n",
      "\n",
      "The module is deprecated in version 0.21 and will be removed in version 0.23 since we've dropped support for Python 2.7. Please rely on the official version of six (https://pypi.org/project/six/).\n",
      "\n"
     ]
    }
   ],
   "source": [
    "import os \n",
    "os.chdir('../../../../')\n",
    "print(\"Current working directory is now: \", os.getcwd())\n",
    "\n",
    "import pandas as pd \n",
    "import numpy as np\n",
    "import csv\n",
    "import utils.baseline_functions as base\n",
    "import stumps\n",
    "import RiskSLIM as slim\n",
    "\n",
    "from sklearn.linear_model import LogisticRegression\n",
    "from sklearn.model_selection import KFold, GridSearchCV\n",
    "from sklearn.metrics import roc_auc_score\n",
    "\n",
    "# restore saved variables\n",
    "%store -r summary_property2_KY_interpret"
   ]
  },
  {
   "cell_type": "markdown",
   "metadata": {},
   "source": [
    "### CART & EBM"
   ]
  },
  {
   "cell_type": "code",
   "execution_count": 2,
   "metadata": {},
   "outputs": [],
   "source": [
    "### load data\n",
    "data = pd.read_csv(\"~/Documents/Duke/Cynthia Research/KY-analysis-mytrials/KY Recidivism/KY data/kentucky_data.csv\")\n",
    "data = data.drop(['fta_risk_score_raw','nca_risk_score_raw','pvf_risk_score_raw', \n",
    "                  'fta_calc', 'nca_calc', 'pvf_calc'], axis=1)\n",
    "x = data.loc[:,:'current_violence']\n",
    "y = data['recid_property_two_year'].values"
   ]
  },
  {
   "cell_type": "code",
   "execution_count": 3,
   "metadata": {
    "scrolled": true
   },
   "outputs": [
    {
     "name": "stdout",
     "output_type": "stream",
     "text": [
      "model_id, score_thresholds 0 {'rank_abs': [7]}\n",
      "get_disparity_predefined_group()\n",
      "model_id, score_thresholds 0 {'rank_abs': [16]}\n",
      "get_disparity_predefined_group()\n",
      "model_id, score_thresholds 0 {'rank_abs': [9]}\n",
      "get_disparity_predefined_group()\n",
      "model_id, score_thresholds 0 {'rank_abs': [4]}\n",
      "get_disparity_predefined_group()\n",
      "model_id, score_thresholds 0 {'rank_abs': [16]}\n",
      "get_disparity_predefined_group()\n"
     ]
    },
    {
     "name": "stderr",
     "output_type": "stream",
     "text": [
      "WARNING:interpret.utils.all:Passing a numpy array to schema autogen when it should be dataframe.\n",
      "WARNING:interpret.utils.all:Passing a numpy array to schema autogen when it should be dataframe.\n",
      "WARNING:interpret.utils.all:Passing a numpy array to schema autogen when it should be dataframe.\n",
      "WARNING:interpret.utils.all:Passing a numpy array to schema autogen when it should be dataframe.\n",
      "WARNING:interpret.utils.all:Passing a numpy array to schema autogen when it should be dataframe.\n",
      "WARNING:interpret.utils.all:Passing a numpy array to schema autogen when it should be dataframe.\n",
      "WARNING:interpret.utils.all:Passing a numpy array to schema autogen when it should be dataframe.\n",
      "WARNING:interpret.utils.all:Passing a numpy array to schema autogen when it should be dataframe.\n",
      "WARNING:interpret.utils.all:Passing a numpy array to schema autogen when it should be dataframe.\n",
      "WARNING:interpret.utils.all:Passing a numpy array to schema autogen when it should be dataframe.\n",
      "WARNING:interpret.utils.all:Passing a numpy array to schema autogen when it should be dataframe.\n",
      "WARNING:interpret.utils.all:Passing a numpy array to schema autogen when it should be dataframe.\n"
     ]
    },
    {
     "name": "stdout",
     "output_type": "stream",
     "text": [
      "model_id, score_thresholds 0 {'rank_abs': [1]}\n",
      "get_disparity_predefined_group()\n"
     ]
    },
    {
     "name": "stderr",
     "output_type": "stream",
     "text": [
      "WARNING:interpret.utils.all:Passing a numpy array to schema autogen when it should be dataframe.\n",
      "WARNING:interpret.utils.all:Passing a numpy array to schema autogen when it should be dataframe.\n",
      "WARNING:interpret.utils.all:Passing a numpy array to schema autogen when it should be dataframe.\n",
      "WARNING:interpret.utils.all:Passing a numpy array to schema autogen when it should be dataframe.\n",
      "WARNING:interpret.utils.all:Passing a numpy array to schema autogen when it should be dataframe.\n",
      "WARNING:interpret.utils.all:Passing a numpy array to schema autogen when it should be dataframe.\n",
      "WARNING:interpret.utils.all:Passing a numpy array to schema autogen when it should be dataframe.\n",
      "WARNING:interpret.utils.all:Passing a numpy array to schema autogen when it should be dataframe.\n",
      "WARNING:interpret.utils.all:Passing a numpy array to schema autogen when it should be dataframe.\n",
      "WARNING:interpret.utils.all:Passing a numpy array to schema autogen when it should be dataframe.\n",
      "WARNING:interpret.utils.all:Passing a numpy array to schema autogen when it should be dataframe.\n",
      "WARNING:interpret.utils.all:Passing a numpy array to schema autogen when it should be dataframe.\n"
     ]
    },
    {
     "name": "stdout",
     "output_type": "stream",
     "text": [
      "model_id, score_thresholds 0 {'rank_abs': [3]}\n",
      "get_disparity_predefined_group()\n"
     ]
    },
    {
     "name": "stderr",
     "output_type": "stream",
     "text": [
      "WARNING:interpret.utils.all:Passing a numpy array to schema autogen when it should be dataframe.\n",
      "WARNING:interpret.utils.all:Passing a numpy array to schema autogen when it should be dataframe.\n",
      "WARNING:interpret.utils.all:Passing a numpy array to schema autogen when it should be dataframe.\n",
      "WARNING:interpret.utils.all:Passing a numpy array to schema autogen when it should be dataframe.\n",
      "WARNING:interpret.utils.all:Passing a numpy array to schema autogen when it should be dataframe.\n",
      "WARNING:interpret.utils.all:Passing a numpy array to schema autogen when it should be dataframe.\n",
      "WARNING:interpret.utils.all:Passing a numpy array to schema autogen when it should be dataframe.\n",
      "WARNING:interpret.utils.all:Passing a numpy array to schema autogen when it should be dataframe.\n",
      "WARNING:interpret.utils.all:Passing a numpy array to schema autogen when it should be dataframe.\n",
      "WARNING:interpret.utils.all:Passing a numpy array to schema autogen when it should be dataframe.\n",
      "WARNING:interpret.utils.all:Passing a numpy array to schema autogen when it should be dataframe.\n",
      "WARNING:interpret.utils.all:Passing a numpy array to schema autogen when it should be dataframe.\n"
     ]
    },
    {
     "name": "stdout",
     "output_type": "stream",
     "text": [
      "model_id, score_thresholds 0 {'rank_abs': [3]}\n",
      "get_disparity_predefined_group()\n"
     ]
    },
    {
     "name": "stderr",
     "output_type": "stream",
     "text": [
      "WARNING:interpret.utils.all:Passing a numpy array to schema autogen when it should be dataframe.\n",
      "WARNING:interpret.utils.all:Passing a numpy array to schema autogen when it should be dataframe.\n",
      "WARNING:interpret.utils.all:Passing a numpy array to schema autogen when it should be dataframe.\n",
      "WARNING:interpret.utils.all:Passing a numpy array to schema autogen when it should be dataframe.\n",
      "WARNING:interpret.utils.all:Passing a numpy array to schema autogen when it should be dataframe.\n",
      "WARNING:interpret.utils.all:Passing a numpy array to schema autogen when it should be dataframe.\n",
      "WARNING:interpret.utils.all:Passing a numpy array to schema autogen when it should be dataframe.\n",
      "WARNING:interpret.utils.all:Passing a numpy array to schema autogen when it should be dataframe.\n",
      "WARNING:interpret.utils.all:Passing a numpy array to schema autogen when it should be dataframe.\n",
      "WARNING:interpret.utils.all:Passing a numpy array to schema autogen when it should be dataframe.\n",
      "WARNING:interpret.utils.all:Passing a numpy array to schema autogen when it should be dataframe.\n",
      "WARNING:interpret.utils.all:Passing a numpy array to schema autogen when it should be dataframe.\n"
     ]
    },
    {
     "name": "stdout",
     "output_type": "stream",
     "text": [
      "model_id, score_thresholds 0 {'rank_abs': [2]}\n",
      "get_disparity_predefined_group()\n"
     ]
    },
    {
     "name": "stderr",
     "output_type": "stream",
     "text": [
      "WARNING:interpret.utils.all:Passing a numpy array to schema autogen when it should be dataframe.\n",
      "WARNING:interpret.utils.all:Passing a numpy array to schema autogen when it should be dataframe.\n",
      "WARNING:interpret.utils.all:Passing a numpy array to schema autogen when it should be dataframe.\n",
      "WARNING:interpret.utils.all:Passing a numpy array to schema autogen when it should be dataframe.\n",
      "WARNING:interpret.utils.all:Passing a numpy array to schema autogen when it should be dataframe.\n",
      "WARNING:interpret.utils.all:Passing a numpy array to schema autogen when it should be dataframe.\n",
      "WARNING:interpret.utils.all:Passing a numpy array to schema autogen when it should be dataframe.\n",
      "WARNING:interpret.utils.all:Passing a numpy array to schema autogen when it should be dataframe.\n",
      "WARNING:interpret.utils.all:Passing a numpy array to schema autogen when it should be dataframe.\n",
      "WARNING:interpret.utils.all:Passing a numpy array to schema autogen when it should be dataframe.\n",
      "WARNING:interpret.utils.all:Passing a numpy array to schema autogen when it should be dataframe.\n",
      "WARNING:interpret.utils.all:Passing a numpy array to schema autogen when it should be dataframe.\n"
     ]
    },
    {
     "name": "stdout",
     "output_type": "stream",
     "text": [
      "model_id, score_thresholds 0 {'rank_abs': [3]}\n",
      "get_disparity_predefined_group()\n"
     ]
    }
   ],
   "source": [
    "#### CART\n",
    "depth = [6,7]\n",
    "cart_summary = base.CART(X=x,\n",
    "                         Y=y,\n",
    "                         depth=depth,\n",
    "                         seed=816)\n",
    "\n",
    "#### EBM\n",
    "estimators = [20]\n",
    "depth = [1]\n",
    "learning_rate = [0.5]\n",
    "ebm_summary = base.EBM(X=x,\n",
    "                       Y=y,\n",
    "                       learning_rate=learning_rate,\n",
    "                       depth=depth,\n",
    "                       estimators=estimators,\n",
    "                       seed =816)"
   ]
  },
  {
   "cell_type": "code",
   "execution_count": 4,
   "metadata": {},
   "outputs": [
    {
     "data": {
      "text/plain": [
       "(0.77231127184065, 0.01633649264435062)"
      ]
     },
     "execution_count": 4,
     "metadata": {},
     "output_type": "execute_result"
    }
   ],
   "source": [
    "np.mean(cart_summary['holdout_test_auc']), np.mean(cart_summary['auc_diffs'])"
   ]
  },
  {
   "cell_type": "code",
   "execution_count": 5,
   "metadata": {},
   "outputs": [
    {
     "data": {
      "text/plain": [
       "(0.786986977866176, 0.014281743498652277)"
      ]
     },
     "execution_count": 5,
     "metadata": {},
     "output_type": "execute_result"
    }
   ],
   "source": [
    "np.mean(ebm_summary['holdout_test_auc']), np.mean(ebm_summary['auc_diffs'])"
   ]
  },
  {
   "cell_type": "markdown",
   "metadata": {},
   "source": [
    "## Lasso Stumps"
   ]
  },
  {
   "cell_type": "code",
   "execution_count": 6,
   "metadata": {},
   "outputs": [],
   "source": [
    "## load whole data\n",
    "data = pd.read_csv(\"~/Documents/Duke/Cynthia Research/KY-analysis-mytrials/KY Recidivism/KY data/kentucky_stumps.csv\")\n",
    "X_stumps, Y_stumps = data.loc[:,:'current_violence>=1'], data['recid_property_two_year'].values\n",
    "Y_stumps[Y_stumps == -1] = 0\n",
    "cols = X_stumps.columns[3:]\n",
    "\n",
    "## load train & test data\n",
    "train_stumps = pd.read_csv(\"~/Documents/Duke/Cynthia Research/KY-analysis-mytrials/KY Recidivism/KY data/kentucky_train_stumps.csv\")\n",
    "test_stumps = pd.read_csv(\"~/Documents/Duke/Cynthia Research/KY-analysis-mytrials/KY Recidivism/KY data/kentucky_test_stumps.csv\")\n",
    "\n",
    "X_train_stumps, Y_train_stumps = train_stumps.loc[:,:'current_violence>=1'], train_stumps['recid_property_two_year'].values\n",
    "X_test_stumps, Y_test_stumps = test_stumps.loc[:,:'current_violence>=1'], test_stumps['recid_property_two_year'].values\n",
    "\n",
    "Y_train_stumps[Y_train_stumps == -1] = 0\n",
    "Y_test_stumps[Y_test_stumps == -1] = 0"
   ]
  },
  {
   "cell_type": "markdown",
   "metadata": {},
   "source": [
    "#### Nested Cross Validation"
   ]
  },
  {
   "cell_type": "code",
   "execution_count": 7,
   "metadata": {},
   "outputs": [
    {
     "name": "stdout",
     "output_type": "stream",
     "text": [
      "model_id, score_thresholds 0 {'rank_abs': [13349]}\n",
      "get_disparity_predefined_group()\n",
      "model_id, score_thresholds 0 {'rank_abs': [13390]}\n",
      "get_disparity_predefined_group()\n",
      "model_id, score_thresholds 0 {'rank_abs': [13309]}\n",
      "get_disparity_predefined_group()\n",
      "model_id, score_thresholds 0 {'rank_abs': [12433]}\n",
      "get_disparity_predefined_group()\n",
      "model_id, score_thresholds 0 {'rank_abs': [12221]}\n",
      "get_disparity_predefined_group()\n"
     ]
    }
   ],
   "source": [
    "stump_summary = stumps.stump_cv(X = X_stumps, \n",
    "                                Y = Y_stumps, \n",
    "                                columns=cols, \n",
    "                                c_grid={'C': [0.007, 0.005, 0.003]}, \n",
    "                                seed = 816)"
   ]
  },
  {
   "cell_type": "code",
   "execution_count": 8,
   "metadata": {},
   "outputs": [
    {
     "data": {
      "text/plain": [
       "([{'C': 0.007}, {'C': 0.007}, {'C': 0.007}, {'C': 0.007}, {'C': 0.007}],\n",
       " 0.7919166012114873,\n",
       " 0.004564860473388266)"
      ]
     },
     "execution_count": 8,
     "metadata": {},
     "output_type": "execute_result"
    }
   ],
   "source": [
    "stump_summary['best_params'], np.mean(stump_summary['holdout_test_auc']), np.mean(stump_summary['auc_diffs'])"
   ]
  },
  {
   "cell_type": "markdown",
   "metadata": {},
   "source": [
    "##### Best Stump Model"
   ]
  },
  {
   "cell_type": "code",
   "execution_count": 15,
   "metadata": {},
   "outputs": [],
   "source": [
    "best_stump_model = stumps.stump_model(X_train_stumps, Y_train_stumps, \n",
    "                                      X_test_stumps, Y_test_stumps, \n",
    "                                      c=0.002, columns=cols, seed=816)"
   ]
  },
  {
   "cell_type": "markdown",
   "metadata": {},
   "source": [
    "##### Prediction Table"
   ]
  },
  {
   "cell_type": "code",
   "execution_count": 16,
   "metadata": {
    "scrolled": true
   },
   "outputs": [
    {
     "name": "stdout",
     "output_type": "stream",
     "text": [
      "+-----------------------------------+----------------+\n",
      "| Features                          | Score          |\n",
      "|====================================================|\n",
      "| sex                               | 23.0           |\n",
      "| age_at_current_charge<=20         | 15.5           |\n",
      "| age_at_current_charge<=24         | 4.3            |\n",
      "| age_at_current_charge<=30         | 3.8            |\n",
      "| age_at_current_charge<=38         | 28.2           |\n",
      "| age_at_current_charge<=46         | 15.2           |\n",
      "| p_arrest>=1                       | -62.3          |\n",
      "| p_arrest>=2                       | 59.7           |\n",
      "| p_arrest>=3                       | 32.6           |\n",
      "| p_arrest>=4                       | 15.3           |\n",
      "| p_arrest>=5                       | 14.9           |\n",
      "| p_arrest>=6                       | 8.7            |\n",
      "| p_arrest>=7                       | 5.2            |\n",
      "| p_charges>=1                      | -47.1          |\n",
      "| p_felony>=1                       | 15.1           |\n",
      "| p_property>=1                     | 141.3          |\n",
      "| p_drug>=1                         | -23.7          |\n",
      "| ADE>=1                            | -29.5          |\n",
      "| p_prison>=1                       | -19.5          |\n",
      "| p_jail30>=1                       | 2.3            |\n",
      "| p_pending_charge>=1               | 54.2           |\n",
      "| p_probation>=1                    | 16.4           |\n",
      "| current_violence>=1               | -2.7           |\n",
      "| Intercept                         | -0.43          |\n",
      "|====================================================|\n",
      "| ADD POINTS FROM ROWS 1 TO 23      | Total Score    |\n",
      "+-----------------------------------+----------------+\n"
     ]
    }
   ],
   "source": [
    "stumps.stump_table(best_stump_model['coefs'], \n",
    "                   best_stump_model['features'], \n",
    "                   best_stump_model['intercept'], \n",
    "                   best_stump_model['dictionary'])"
   ]
  },
  {
   "cell_type": "code",
   "execution_count": 17,
   "metadata": {},
   "outputs": [
    {
     "name": "stdout",
     "output_type": "stream",
     "text": [
      "model_id, score_thresholds 0 {'rank_abs': [12254]}\n",
      "get_disparity_predefined_group()\n",
      "model_id, score_thresholds 0 {'rank_abs': [12674]}\n",
      "get_disparity_predefined_group()\n",
      "model_id, score_thresholds 0 {'rank_abs': [12354]}\n",
      "get_disparity_predefined_group()\n",
      "model_id, score_thresholds 0 {'rank_abs': [12880]}\n",
      "get_disparity_predefined_group()\n",
      "model_id, score_thresholds 0 {'rank_abs': [12494]}\n",
      "get_disparity_predefined_group()\n"
     ]
    }
   ],
   "source": [
    "stump_summary = stumps.stump_cv(X = X_stumps, \n",
    "                                Y = Y_stumps, \n",
    "                                columns=cols, \n",
    "                                c_grid={'C': [0.002]}, \n",
    "                                seed = 816)"
   ]
  },
  {
   "cell_type": "code",
   "execution_count": 18,
   "metadata": {},
   "outputs": [
    {
     "data": {
      "text/plain": [
       "([{'C': 0.002}, {'C': 0.002}, {'C': 0.002}, {'C': 0.002}, {'C': 0.002}],\n",
       " 0.7890590642872922,\n",
       " 0.002607485488434258)"
      ]
     },
     "execution_count": 18,
     "metadata": {},
     "output_type": "execute_result"
    }
   ],
   "source": [
    "stump_summary['best_params'], np.mean(stump_summary['holdout_test_auc']), np.mean(stump_summary['auc_diffs'])"
   ]
  },
  {
   "cell_type": "markdown",
   "metadata": {},
   "source": [
    "##### Stumps Visualizations"
   ]
  },
  {
   "cell_type": "code",
   "execution_count": 19,
   "metadata": {
    "scrolled": true
   },
   "outputs": [
    {
     "data": {
      "image/png": "[encoded data removed]",
      "text/plain": [
       "<Figure size 288x216 with 1 Axes>"
      ]
     },
     "metadata": {
      "needs_background": "light"
     },
     "output_type": "display_data"
    },
    {
     "data": {
      "image/png": "[encoded data removed]",
      "text/plain": [
       "<Figure size 288x216 with 1 Axes>"
      ]
     },
     "metadata": {
      "needs_background": "light"
     },
     "output_type": "display_data"
    },
    {
     "data": {
      "image/png": "[encoded data removed]",
      "text/plain": [
       "<Figure size 288x216 with 1 Axes>"
      ]
     },
     "metadata": {
      "needs_background": "light"
     },
     "output_type": "display_data"
    },
    {
     "data": {
      "image/png": "[encoded data removed]",
      "text/plain": [
       "<Figure size 288x216 with 1 Axes>"
      ]
     },
     "metadata": {
      "needs_background": "light"
     },
     "output_type": "display_data"
    },
    {
     "data": {
      "image/png": "[encoded data removed]",
      "text/plain": [
       "<Figure size 288x216 with 1 Axes>"
      ]
     },
     "metadata": {
      "needs_background": "light"
     },
     "output_type": "display_data"
    },
    {
     "data": {
      "image/png": "[encoded data removed]",
      "text/plain": [
       "<Figure size 288x216 with 1 Axes>"
      ]
     },
     "metadata": {
      "needs_background": "light"
     },
     "output_type": "display_data"
    },
    {
     "data": {
      "image/png": "[encoded data removed]",
      "text/plain": [
       "<Figure size 288x216 with 1 Axes>"
      ]
     },
     "metadata": {
      "needs_background": "light"
     },
     "output_type": "display_data"
    },
    {
     "data": {
      "image/png": "[encoded data removed]",
      "text/plain": [
       "<Figure size 288x216 with 1 Axes>"
      ]
     },
     "metadata": {
      "needs_background": "light"
     },
     "output_type": "display_data"
    },
    {
     "data": {
      "image/png": "[encoded data removed]",
      "text/plain": [
       "<Figure size 288x216 with 1 Axes>"
      ]
     },
     "metadata": {
      "needs_background": "light"
     },
     "output_type": "display_data"
    },
    {
     "data": {
      "image/png": "[encoded data removed]",
      "text/plain": [
       "<Figure size 288x216 with 1 Axes>"
      ]
     },
     "metadata": {
      "needs_background": "light"
     },
     "output_type": "display_data"
    },
    {
     "data": {
      "image/png": "[encoded data removed]",
      "text/plain": [
       "<Figure size 288x216 with 1 Axes>"
      ]
     },
     "metadata": {
      "needs_background": "light"
     },
     "output_type": "display_data"
    },
    {
     "data": {
      "image/png": "[encoded data removed]",
      "text/plain": [
       "<Figure size 288x216 with 1 Axes>"
      ]
     },
     "metadata": {
      "needs_background": "light"
     },
     "output_type": "display_data"
    },
    {
     "data": {
      "image/png": "[encoded data removed]",
      "text/plain": [
       "<Figure size 288x216 with 1 Axes>"
      ]
     },
     "metadata": {
      "needs_background": "light"
     },
     "output_type": "display_data"
    }
   ],
   "source": [
    "stumps.stump_plots(best_stump_model['features'], best_stump_model['coefs'])"
   ]
  },
  {
   "cell_type": "markdown",
   "metadata": {},
   "source": [
    "### Arnold PSA"
   ]
  },
  {
   "cell_type": "code",
   "execution_count": 20,
   "metadata": {},
   "outputs": [],
   "source": [
    "### load data\n",
    "data = pd.read_csv(\"~/Documents/Duke/Cynthia Research/KY-analysis-mytrials/KY Recidivism/KY data/kentucky_data.csv\")\n",
    "X_arnold_raw = data['nca_risk_score_raw'].values\n",
    "X_arnold_calc = data['nca_calc'].values\n",
    "Y_arnold = data['recid_property_two_year'].values"
   ]
  },
  {
   "cell_type": "code",
   "execution_count": 21,
   "metadata": {},
   "outputs": [],
   "source": [
    "## set up cross validation\n",
    "cv = KFold(n_splits=5,shuffle=True,random_state=816)\n",
    "raw_auc = []\n",
    "calc_auc = []\n",
    "\n",
    "## raw score\n",
    "i = 1\n",
    "for train, test in cv.split(X_arnold_raw, Y_arnold):\n",
    "    y_pred_raw, y_pred_calc, y_test = X_arnold_raw[test], X_arnold_calc[test], Y_arnold[test]\n",
    "    raw_auc.append(roc_auc_score(y_test, y_pred_raw))\n",
    "    calc_auc.append(roc_auc_score(y_test, y_pred_calc))\n",
    "    i+=1 "
   ]
  },
  {
   "cell_type": "markdown",
   "metadata": {},
   "source": [
    "## RiskSLIM"
   ]
  },
  {
   "cell_type": "code",
   "execution_count": 22,
   "metadata": {},
   "outputs": [],
   "source": [
    "## load stumps data\n",
    "data = pd.read_csv(\"~/Documents/Duke/Cynthia Research/KY-analysis-mytrials/KY Recidivism/KY data/kentucky_stumps.csv\")\n",
    "x, y = data.loc[:,:'current_violence>=1'], data['recid_property_two_year'].values\n",
    "cols = x.columns[3:]"
   ]
  },
  {
   "cell_type": "code",
   "execution_count": 23,
   "metadata": {},
   "outputs": [
    {
     "data": {
      "text/plain": [
       "25"
      ]
     },
     "execution_count": 23,
     "metadata": {},
     "output_type": "execute_result"
    }
   ],
   "source": [
    "## train on best param chosen by Lasso Stumps from above\n",
    "x_train = x.copy().drop(['race', 'person_id', 'screening_date'], axis=1)\n",
    "lasso = LogisticRegression(class_weight='balanced', solver='liblinear', penalty='l1', C=0.002, random_state=816).fit(x_train,y)\n",
    "selected_features = cols[lasso.coef_[0] != 0].tolist()\n",
    "len(selected_features)"
   ]
  },
  {
   "cell_type": "code",
   "execution_count": 24,
   "metadata": {},
   "outputs": [],
   "source": [
    "### Subset features\n",
    "if 'sex' in selected_features:\n",
    "    selected_features = ['recid_property_two_year', 'person_id', 'screening_date', 'race'] + selected_features\n",
    "    indicator = 1\n",
    "else:\n",
    "    selected_features = ['recid_property_two_year', 'person_id', 'screening_date', 'race', 'sex'] + selected_features\n",
    "    indicator = 0\n",
    "\n",
    "sub_data = data[selected_features]\n",
    "sub_X, sub_Y = sub_data.iloc[:,1:], sub_data.iloc[:,0].values\n",
    "sub_X.insert(0, '(Intercept)', 1)"
   ]
  },
  {
   "cell_type": "code",
   "execution_count": 25,
   "metadata": {
    "scrolled": true
   },
   "outputs": [
    {
     "name": "stdout",
     "output_type": "stream",
     "text": [
      "setting c0 = 0.0 to ensure that intercept is not penalized\n",
      "09/11/19 @ 10:53 AM | 1101 rows in lookup table\n",
      "09/11/19 @ 10:53 AM | ------------------------------------------------------------\n",
      "09/11/19 @ 10:53 AM | runnning initialization procedure\n",
      "09/11/19 @ 10:53 AM | ------------------------------------------------------------\n",
      "09/11/19 @ 10:53 AM | CPA produced 2 cuts\n",
      "09/11/19 @ 10:53 AM | running naive rounding on 101 solutions\n",
      "09/11/19 @ 10:53 AM | best objective value: 0.0791\n",
      "09/11/19 @ 10:53 AM | rounding produced 5 integer solutions\n",
      "09/11/19 @ 10:53 AM | best objective value is 0.0814\n",
      "09/11/19 @ 10:53 AM | running sequential rounding on 101 solutions\n",
      "09/11/19 @ 10:53 AM | best objective value: 0.0791\n",
      "09/11/19 @ 10:53 AM | sequential rounding produced 6 integer solutions\n",
      "09/11/19 @ 10:53 AM | best objective value: 0.0804\n",
      "09/11/19 @ 10:53 AM | polishing 11 solutions\n",
      "09/11/19 @ 10:53 AM | best objective value: 0.0804\n",
      "09/11/19 @ 10:53 AM | polishing produced 5 integer solutions\n",
      "09/11/19 @ 10:53 AM | initialization produced 12 feasible solutions\n",
      "09/11/19 @ 10:53 AM | best objective value: 0.0804\n",
      "09/11/19 @ 10:53 AM | ------------------------------------------------------------\n",
      "09/11/19 @ 10:53 AM | completed initialization procedure\n",
      "09/11/19 @ 10:53 AM | ------------------------------------------------------------\n",
      "09/11/19 @ 10:54 AM | 1101 rows in lookup table\n",
      "CPXPARAM_Read_DataCheck                          1\n",
      "CPXPARAM_Threads                                 1\n",
      "CPXPARAM_Parallel                                1\n",
      "CPXPARAM_RandomSeed                              0\n",
      "CPXPARAM_TimeLimit                               200\n",
      "CPXPARAM_MIP_Tolerances_LowerCutoff              0.078157805936112698\n",
      "CPXPARAM_MIP_Tolerances_UpperCutoff              0.080423520779197274\n"
     ]
    },
    {
     "name": "stderr",
     "output_type": "stream",
     "text": [
      "Warning: Control callbacks may disable some MIP features.\n"
     ]
    },
    {
     "name": "stdout",
     "output_type": "stream",
     "text": [
      "Lazy constraint(s) or lazy constraint callback is present.\n",
      "    Disabling dual reductions (CPX_PARAM_REDUCE) in presolve.\n",
      "    Disabling non-linear reductions (CPX_PARAM_PRELINEAR) in presolve.\n",
      "         Disabling repeat represolve because of lazy constraint/incumbent callback.\n",
      "09/11/19 @ 10:54 AM | adding 258 initial cuts\n",
      "1 of 1 MIP starts provided solutions.\n",
      "MIP start 'mip_start_0' defined initial solution with objective 0.0804.\n",
      "Tried aggregator 1 time.\n",
      "Reduced MIP has 27 rows, 54 columns, and 103 nonzeros.\n",
      "Reduced MIP has 25 binaries, 27 generals, 0 SOSs, and 0 indicators.\n",
      "Presolve time = 0.00 sec. (0.06 ticks)\n",
      "Probing time = 0.00 sec. (0.02 ticks)\n",
      "MIP emphasis: balance optimality and feasibility.\n",
      "MIP search method: traditional branch-and-cut.\n",
      "Parallel mode: none, using 1 thread.\n",
      "Root relaxation solution time = 0.00 sec. (0.03 ticks)\n",
      "\n",
      "        Nodes                                         Cuts/\n",
      "   Node  Left     Objective  IInf  Best Integer    Best Bound    ItCnt     Gap         Variable B NodeID Parent  Depth\n",
      "\n",
      "*     0+    0                            0.0804        0.0781             2.94%\n",
      "      0     0        0.0782     1        0.0804        0.0782        1    2.82%\n",
      "      0     0        0.0782     1        0.0804      Fract: 1        2    2.82%\n",
      "      0     0        0.0782     2        0.0804    MIRcuts: 1        3    2.82%\n",
      "      0     2        0.0782     5        0.0804        0.0782        3    2.82%                        0             0\n",
      "Elapsed time = 0.16 sec. (2.00 ticks, tree = 0.01 MB, solutions = 1)\n",
      "   2306   903        0.0782     8        0.0804        0.0782     8468    2.82%           rho_2 U   2306    378     12\n",
      "   3470  1412        0.0788     4        0.0804        0.0782    13487    2.82%          rho_16 D   3470   3467     22\n",
      "   4375  1744        0.0782     6        0.0804        0.0782    17893    2.82%          rho_16 U   4375   4374     10\n",
      "*  5173  1979      integral     0        0.0803        0.0782    21981    2.64%\n",
      "   5173  1979        0.0803     0        0.0803        0.0782    21981    2.64%           rho_7 U   5173   5172     19\n",
      "   6024  2168        0.0801     5        0.0803        0.0782    25303    2.64%          rho_13 D   6024   6021      9\n",
      "   6720  2419        0.0791     6        0.0803        0.0782    29006    2.64%           rho_7 D   6720   6719     17\n",
      "   7370  2627        0.0784     8        0.0803        0.0782    32154    2.64%           rho_9 U   7370   7369     19\n",
      "   8033  2817        0.0782    13        0.0803        0.0782    34974    2.64%          rho_17 D   8033   1243      9\n",
      "   8660  3031        0.0782    11        0.0803        0.0782    38118    2.64%          rho_10 D   8660   8659     10\n",
      "  10992  3986        0.0800     4        0.0803        0.0782    48525    2.64%          rho_21 D  10992  10989     65\n",
      "Elapsed time = 6.11 sec. (3104.31 ticks, tree = 1.16 MB, solutions = 2)\n",
      "* 11029  3924      integral     0        0.0802        0.0782    48653    2.56%\n",
      "  13031  4683        0.0782    11        0.0802        0.0782    58936    2.56%          rho_16 D  13031   7766     13\n",
      "  14906  5436        0.0784     9        0.0802        0.0782    69016    2.56%           rho_6 D  14906  14905     11\n",
      "  16595  6231        0.0782     7        0.0802        0.0782    79661    2.56%           rho_0 D  16595  16593     64\n",
      "  18190  6913        0.0799     3        0.0802        0.0782    93497    2.56%          rho_13 D  18190  18189     75\n",
      "  20074  7485        cutoff              0.0802        0.0782   105110    2.56%           rho_0 U  20074  20073     81\n",
      "  21794  8103        0.0782    11        0.0802        0.0782   118284    2.56%          rho_15 U  21794  21792     60\n",
      "  23547  8691        0.0799     3        0.0802        0.0782   130611    2.56%          rho_13 D  23547  23546     47\n",
      "  25319  9319        0.0786    15        0.0802        0.0782   140763    2.56%           rho_9 U  25319  14340     11\n",
      "  26906  9953        0.0800     8        0.0802        0.0782   150086    2.56%          rho_24 D  26906  26905     26\n",
      "  28454 10485        0.0782    11        0.0802        0.0782   161926    2.56%          rho_15 U  28454  28447     31\n",
      "Elapsed time = 15.03 sec. (12645.48 ticks, tree = 3.57 MB, solutions = 3)\n",
      "  29939 10950        0.0782    10        0.0802        0.0782   175852    2.56%           rho_7 U  29939  29927     52\n",
      "  31421 11417        0.0782    10        0.0802        0.0782   189857    2.56%           rho_7 U  31421  31419     78\n",
      "  32898 11828        0.0785    12        0.0802        0.0782   203345    2.56%           rho_6 D  32898  32897     35\n",
      "  34518 12427        cutoff              0.0802        0.0782   214338    2.56%          rho_14 D  34518  34517     21\n",
      "  35982 13047        cutoff              0.0802        0.0782   224256    2.56%           rho_5 U  35982  35980     76\n",
      "  37328 13624        0.0794     7        0.0802        0.0782   235159    2.56%           rho_4 U  37328  37327     60\n",
      "  38699 14216        0.0791    11        0.0802        0.0782   246096    2.56%           rho_9 U  38699  38697     67\n",
      "  40075 14809        0.0782    10        0.0802        0.0782   256812    2.56%          rho_15 U  40075  40059     58\n",
      "  41491 15386        0.0801     5        0.0802        0.0782   267233    2.56%          rho_24 D  41491  41489     82\n",
      "  43070 16092        0.0782    11        0.0802        0.0782   276933    2.56%           rho_8 U  43070  43068     53\n",
      "Elapsed time = 22.73 sec. (22187.96 ticks, tree = 5.29 MB, solutions = 3)\n",
      "  44530 16788        0.0790     9        0.0802        0.0782   286466    2.56%          rho_23 D  44530  44529     33\n",
      "  45874 17438        0.0796     4        0.0802        0.0782   296501    2.56%          rho_15 U  45874  45872     45\n",
      "  47354 18155        0.0782    12        0.0802        0.0782   306346    2.56%           rho_8 U  47354  47310     44\n",
      "  49045 19090        0.0787    15        0.0802        0.0782   316120    2.56%           rho_7 D  49045  49044     74\n",
      "  50535 19914        0.0782    12        0.0802        0.0782   324852    2.56%          rho_15 U  50535  50525     75\n",
      "  51732 20506        0.0782    10        0.0802        0.0782   334720    2.56%           rho_0 D  51732  51730     66\n",
      "  53178 21160        0.0782    10        0.0802        0.0782   344402    2.56%           rho_0 D  53178  53176     54\n",
      "  54405 21710        0.0787    13        0.0802        0.0782   356623    2.56%           rho_9 D  54405  54404     62\n",
      "  56107 22467        0.0782    12        0.0802        0.0782   365245    2.56%           rho_0 D  56107  56105     47\n",
      "  57807 23225        cutoff              0.0802        0.0782   373801    2.56%           rho_0 U  57807  57806     51\n",
      "Elapsed time = 30.00 sec. (31728.81 ticks, tree = 8.22 MB, solutions = 3)\n",
      "  59389 23931        0.0782    10        0.0802        0.0782   382820    2.56%           rho_0 D  59389  59377     63\n",
      "  60774 24534        0.0797    10        0.0802        0.0782   392051    2.56%          rho_24 D  60774  60773     63\n",
      "  62164 25239        0.0782    13        0.0802        0.0782   401593    2.56%           rho_8 D  62164  62163     12\n",
      "  63716 25754        0.0787    11        0.0802        0.0782   410739    2.56%           rho_0 U  63716  63715     71\n",
      "  65325 26271        0.0790     9        0.0802        0.0782   419997    2.56%           rho_9 D  65325  65323     77\n",
      "  66946 26802        0.0785    16        0.0802        0.0782   429117    2.56%          rho_15 D  66946  66945     68\n",
      "  68569 27380        0.0794     9        0.0802        0.0782   438062    2.56%          rho_15 U  68569  68567     55\n",
      "  69863 27983        0.0793     9        0.0802        0.0782   447585    2.56%           rho_6 D  69863  69862     60\n",
      "  71180 28616        0.0787    11        0.0802        0.0782   458923    2.56%           rho_6 D  71180  71179     57\n",
      "  72505 29246        0.0793     9        0.0802        0.0782   470100    2.56%           rho_6 D  72505  72504     65\n",
      "Elapsed time = 37.14 sec. (41271.08 ticks, tree = 10.11 MB, solutions = 3)\n",
      "  73820 29872        0.0789     7        0.0802        0.0782   481435    2.56%           rho_4 U  73820  73819     64\n"
     ]
    },
    {
     "name": "stdout",
     "output_type": "stream",
     "text": [
      "  75156 30508        0.0800     5        0.0802        0.0782   492199    2.56%           rho_4 U  75156  75155     53\n",
      "  76643 31154        cutoff              0.0802        0.0782   501053    2.56%           rho_5 U  76643  76642     57\n",
      "  78130 31818        0.0782    13        0.0802        0.0782   509630    2.56%          rho_15 D  78130  78129     28\n",
      "  79600 32178        0.0793     5        0.0802        0.0782   516581    2.56%          rho_24 D  79600  79599     67\n",
      "  81070 32506        0.0782    16        0.0802        0.0782   523808    2.56%           rho_7 D  81070  81069     29\n",
      "  82521 32855        0.0784    13        0.0802        0.0782   530874    2.56%           rho_6 D  82521  82520     66\n",
      "  83962 33176        0.0793     5        0.0802        0.0782   538057    2.56%          rho_10 D  83962  83959     78\n",
      "  85391 33487        cutoff              0.0802        0.0782   544988    2.56%           rho_4 U  85391  85390     66\n",
      "  86835 33835        0.0797     7        0.0802        0.0782   552101    2.56%           rho_7 D  86835  86833     35\n",
      "Elapsed time = 43.63 sec. (50817.02 ticks, tree = 12.95 MB, solutions = 3)\n",
      "  88263 34127        0.0799     7        0.0802        0.0782   559182    2.56%          rho_13 D  88263  88261     49\n",
      "  89703 34454        0.0786    12        0.0802        0.0782   566293    2.56%          rho_10 D  89703  89702     73\n",
      "  91069 34926        0.0793    10        0.0802        0.0782   574462    2.56%          rho_23 D  91069  91068     62\n",
      "  92408 35545        0.0782    14        0.0802        0.0782   583362    2.56%           rho_8 D  92408  92244     22\n",
      "  93874 36317        0.0782    13        0.0802        0.0782   591903    2.56%          rho_15 U  93874  93870     82\n",
      "  95281 37015        0.0797     3        0.0802        0.0782   600767    2.56%          rho_11 D  95281  95280     66\n",
      "  96655 37649        0.0790     7        0.0802        0.0782   610439    2.56%           rho_9 D  96655  96654     76\n",
      "  98080 38090        cutoff              0.0802        0.0782   618240    2.56%          rho_21 U  98080  98079     68\n",
      "  99430 38483        0.0786    13        0.0802        0.0782   626143    2.56%           rho_9 D  99430  99429     36\n",
      " 100840 38816        0.0782     9        0.0802        0.0782   633448    2.56%          rho_15 U 100840 100767     43\n",
      "Elapsed time = 49.77 sec. (60360.50 ticks, tree = 14.54 MB, solutions = 3)\n",
      " 102241 39129        0.0794     7        0.0802        0.0782   640718    2.56%          rho_11 D 102241 102239     29\n",
      " 103650 39659        0.0797     7        0.0802        0.0782   648418    2.56%           rho_5 D 103650 103649     78\n",
      " 105030 40328        0.0799     7        0.0802        0.0782   656885    2.56%          rho_21 D 105030 105029     41\n",
      " 106530 41116        0.0799     5        0.0802        0.0782   665667    2.56%          rho_14 N 106530 106529     66\n",
      " 108022 41892        0.0794     9        0.0802        0.0782   674248    2.56%          rho_10 U 108022 108021     70\n",
      " 109510 42668        0.0795     5        0.0802        0.0782   682961    2.56%          rho_13 D 109510 109508     99\n",
      " 111033 43460        0.0782    10        0.0802        0.0782   691677    2.56%           rho_0 D 111033 104948     34\n",
      " 112504 44034        0.0782    16        0.0802        0.0782   699591    2.56%           rho_7 D 112504 112503     61\n",
      " 113880 44484        0.0787    11        0.0802        0.0782   707332    2.56%          rho_15 D 113880 113878     32\n",
      " 115255 45030        cutoff              0.0802        0.0782   715829    2.56%           rho_0 U 115255 115254     37\n",
      "Elapsed time = 56.42 sec. (69902.92 ticks, tree = 16.53 MB, solutions = 3)\n",
      " 116584 45672        cutoff              0.0802        0.0782   725155    2.56%           rho_0 U 116584 116583     42\n",
      " 117993 46355        0.0800     7        0.0802        0.0782   734195    2.56%          rho_21 D 117993 117992     83\n",
      " 119335 46907        0.0788     9        0.0802        0.0782   742709    2.56%           rho_3 D 119335 119334     17\n",
      " 120734 47655        cutoff              0.0802        0.0782   750942    2.56%           rho_9 U 120734 120732     37\n",
      " 122162 48417        0.0785    12        0.0802        0.0782   758809    2.56%          rho_15 D 122162 122160     46\n",
      " 123571 49167        0.0800     7        0.0802        0.0782   766725    2.56%          rho_24 D 123571 123570     40\n",
      " 124740 49890        0.0783    14        0.0802        0.0782   774823    2.56%           rho_0 U 124740 124739     54\n",
      " 125914 50633        0.0801     9        0.0802        0.0782   782932    2.56%           rho_5 D 125914 125913     88\n",
      " 127071 51352        0.0802     5        0.0802        0.0782   791363    2.56%          rho_14 D 127071 127070     65\n",
      " 128317 52034        0.0796     7        0.0802        0.0782   798156    2.56%          rho_13 D 128317 128315     70\n",
      "Elapsed time = 63.05 sec. (79444.12 ticks, tree = 18.81 MB, solutions = 3)\n",
      " 129595 52559        0.0785    13        0.0802        0.0782   805150    2.56%           rho_6 D 129595 129594     54\n",
      " 130964 53148        0.0788     9        0.0802        0.0782   812235    2.56%           rho_9 D 130964 130963     79\n",
      " 132608 53807        cutoff              0.0802        0.0782   820851    2.56%          rho_21 U 132608 132607     60\n",
      " 134202 54407        0.0787     9        0.0802        0.0782   829689    2.56%           rho_9 D 134202 134201     40\n",
      " 135816 55106        0.0788     9        0.0802        0.0782   838949    2.56%           rho_6 D 135816 135814     24\n",
      " 137301 55679        cutoff              0.0802        0.0782   847704    2.56%          rho_21 U 137301 137300     66\n",
      " 138747 56273        0.0792     5        0.0802        0.0782   856758    2.56%          rho_24 D 138747 138746     66\n",
      " 140170 56829        0.0782    13        0.0802        0.0782   865429    2.56%          rho_15 U 140170 140158     59\n",
      " 141603 57396        0.0782    12        0.0802        0.0782   874127    2.56%           rho_0 D 141603 141589     52\n",
      " 147371 59724        cutoff              0.0802        0.0782   909251    2.56%           rho_6 U 147371 147370     35\n",
      "Elapsed time = 71.30 sec. (91845.12 ticks, tree = 21.28 MB, solutions = 3)\n",
      " 153010 62016        0.0801     3        0.0802        0.0782   942481    2.56%          rho_10 U 153010 153009     33\n",
      " 158221 64603        0.0782    10        0.0802        0.0782   978260    2.56%          rho_15 U 158221 158169     58\n",
      " 163450 67388        0.0783    13        0.0802        0.0782  1013608    2.56%           rho_0 U 163450 163449     83\n",
      " 168130 69987        0.0782    11        0.0802        0.0782  1045558    2.56%           rho_0 D 168130 168111     25\n",
      " 172979 72337        cutoff              0.0802        0.0782  1077154    2.56%           rho_6 U 172979 172978     53\n",
      " 178125 74333        0.0792    11        0.0802        0.0782  1108015    2.56%          rho_10 D 178125 178122     41\n",
      " 184324 76138        0.0790     8        0.0802        0.0782  1138299    2.56%          rho_16 D 184324 184322     93\n",
      " 190117 78117        0.0797     7        0.0802        0.0782  1166307    2.56%           rho_5 D 190117 190116     85\n",
      " 195962 80270        cutoff              0.0802        0.0782  1194474    2.56%          rho_24 U 195962 195961     58\n",
      " 201072 82477        cutoff              0.0802        0.0782  1229674    2.56%          rho_25 D 201072 201071     32\n",
      "Elapsed time = 97.64 sec. (129999.75 ticks, tree = 31.53 MB, solutions = 3)\n",
      " 205520 85162        0.0785     7        0.0802        0.0782  1262674    2.56%           rho_0 U 205520 205519     43\n",
      " 210140 88098        0.0782    14        0.0802        0.0782  1294929    2.56%           rho_0 U 210140 210139     48\n",
      " 214629 90716        0.0793     9        0.0802        0.0782  1325527    2.56%          rho_13 D 214629 214628     70\n",
      " 219040 93519        0.0788    12        0.0802        0.0782  1355443    2.56%           rho_0 U 219040 219039     48\n",
      " 223959 96062        0.0784    14        0.0802        0.0782  1381098    2.56%           rho_7 U 223959 223957     51\n",
      " 229007 98553        cutoff              0.0802        0.0782  1406677    2.56%           rho_5 D 229007 229005     42\n"
     ]
    },
    {
     "name": "stdout",
     "output_type": "stream",
     "text": [
      " 233820 100839        0.0783    17        0.0802        0.0782  1439317    2.56%          rho_15 D 233820 233819     87\n",
      " 239473 103508        cutoff              0.0802        0.0782  1474770    2.56%          rho_24 U 239473 239472     44\n",
      " 242928 105390        0.0786    11        0.0802        0.0782  1510908    2.56%           rho_1 D 242928 242927     31\n",
      " 247044 107772        0.0786    10        0.0802        0.0782  1541968    2.56%          rho_11 D 247044 247042     59\n",
      "Elapsed time = 133.03 sec. (168152.69 ticks, tree = 39.89 MB, solutions = 3)\n",
      " 251024 110296        cutoff              0.0802        0.0782  1575702    2.56%          rho_21 U 251024 251023     43\n",
      " 255295 112512        0.0788    14        0.0802        0.0782  1604805    2.56%          rho_16 U 255295 255293     57\n",
      " 259708 114993        0.0784    14        0.0802        0.0782  1635371    2.56%           rho_0 D 259708 259679     67\n",
      " 264089 117164        0.0782    17        0.0802        0.0782  1664662    2.56%          rho_15 D 264089 264088     73\n",
      " 268440 119498        0.0790    11        0.0802        0.0782  1693351    2.56%          rho_16 D 268440 268439     49\n",
      " 273857 121608        0.0799     7        0.0802        0.0782  1724594    2.56%           rho_5 D 273857 273855     98\n",
      " 279775 123657        cutoff              0.0802        0.0782  1760119    2.56%           rho_4 U 279775 279774     66\n",
      " 285684 125612        0.0801     9        0.0802        0.0782  1794706    2.56%          rho_21 U 285684 285683     83\n",
      " 291684 127564        cutoff              0.0802        0.0782  1829088    2.56%           rho_9 U 291684 291681     56\n",
      " 297436 129567        0.0782    15        0.0802        0.0782  1865077    2.56%           rho_0 D 297436 297428     66\n",
      "Elapsed time = 165.86 sec. (206305.17 ticks, tree = 47.04 MB, solutions = 3)\n",
      " 302957 132387        0.0782    13        0.0802        0.0782  1905932    2.56%          rho_15 U 302957 302949     70\n",
      " 307140 135233        0.0782    15        0.0802        0.0782  1941170    2.56%          rho_15 U 307140 307138     70\n",
      " 311121 138016        cutoff              0.0802        0.0782  1973369    2.56%          rho_15 U 311121 311120     69\n",
      " 314960 140568        0.0784    13        0.0802        0.0782  2001042    2.56%           rho_0 U 314960 314959     57\n",
      " 318717 142351        cutoff              0.0802        0.0782  2030431    2.56%           rho_4 D 318717 318716     41\n",
      " 322387 144178        0.0793    12        0.0802        0.0782  2059950    2.56%          rho_15 D 322387 322385     42\n",
      " 326656 146174        0.0783    12        0.0802        0.0782  2091452    2.56%           rho_0 D 326656 326654     37\n",
      " 331616 148449        0.0788     7        0.0802        0.0782  2129034    2.56%           rho_3 U 331616 331613     51\n",
      "\n",
      "User cuts applied:  1066\n",
      "\n",
      "Root node processing (before b&c):\n",
      "  Real time             =    0.16 sec. (2.09 ticks)\n",
      "Sequential b&c:\n",
      "  Real time             =  199.86 sec. (239402.54 ticks)\n",
      "                          ------------\n",
      "Total (root+branch&cut) =  200.02 sec. (239404.63 ticks)\n",
      "+----------------------------------------------+------------------+-----------+\n",
      "| Pr(Y = +1) = 1.0/(1.0 + exp(-(-6 + score))   |                  |           |\n",
      "| ============================================ | ================ | ========= |\n",
      "| age_at_current_charge<=19                    |         1 points |   + ..... |\n",
      "| age_at_current_charge<=46                    |         1 points |   + ..... |\n",
      "| p_arrest>=3                                  |         1 points |   + ..... |\n",
      "| p_property>=1                                |         1 points |   + ..... |\n",
      "| p_pending_charge>=1                          |         1 points |   + ..... |\n",
      "| ============================================ | ================ | ========= |\n",
      "| ADD POINTS FROM ROWS 1 to 5                  |            SCORE |   = ..... |\n",
      "+----------------------------------------------+------------------+-----------+\n",
      "model_id, score_thresholds 0 {'rank_abs': [0]}\n",
      "get_disparity_predefined_group()\n",
      "setting c0 = 0.0 to ensure that intercept is not penalized\n",
      "09/11/19 @ 10:57 AM | 1101 rows in lookup table\n",
      "09/11/19 @ 10:57 AM | ------------------------------------------------------------\n",
      "09/11/19 @ 10:57 AM | runnning initialization procedure\n",
      "09/11/19 @ 10:57 AM | ------------------------------------------------------------\n",
      "09/11/19 @ 10:57 AM | CPA produced 2 cuts\n",
      "09/11/19 @ 10:57 AM | running naive rounding on 106 solutions\n",
      "09/11/19 @ 10:57 AM | best objective value: 0.0827\n",
      "09/11/19 @ 10:57 AM | rounding produced 5 integer solutions\n",
      "09/11/19 @ 10:57 AM | best objective value is 0.0849\n",
      "09/11/19 @ 10:57 AM | running sequential rounding on 106 solutions\n",
      "09/11/19 @ 10:57 AM | best objective value: 0.0827\n",
      "09/11/19 @ 10:57 AM | sequential rounding produced 6 integer solutions\n",
      "09/11/19 @ 10:57 AM | best objective value: 0.0840\n",
      "09/11/19 @ 10:57 AM | polishing 11 solutions\n",
      "09/11/19 @ 10:57 AM | best objective value: 0.0840\n",
      "09/11/19 @ 10:57 AM | polishing produced 5 integer solutions\n",
      "09/11/19 @ 10:57 AM | initialization produced 14 feasible solutions\n",
      "09/11/19 @ 10:57 AM | best objective value: 0.0840\n",
      "09/11/19 @ 10:57 AM | ------------------------------------------------------------\n",
      "09/11/19 @ 10:57 AM | completed initialization procedure\n",
      "09/11/19 @ 10:57 AM | ------------------------------------------------------------\n",
      "09/11/19 @ 10:57 AM | 1101 rows in lookup table\n",
      "CPXPARAM_Read_DataCheck                          1\n",
      "CPXPARAM_Threads                                 1\n",
      "CPXPARAM_Parallel                                1\n",
      "CPXPARAM_RandomSeed                              0\n",
      "CPXPARAM_TimeLimit                               200\n",
      "CPXPARAM_MIP_Tolerances_LowerCutoff              0.081989753510066196\n",
      "CPXPARAM_MIP_Tolerances_UpperCutoff              0.083984600823317018\n"
     ]
    },
    {
     "name": "stderr",
     "output_type": "stream",
     "text": [
      "Warning: Control callbacks may disable some MIP features.\n"
     ]
    },
    {
     "name": "stdout",
     "output_type": "stream",
     "text": [
      "Lazy constraint(s) or lazy constraint callback is present.\n",
      "    Disabling dual reductions (CPX_PARAM_REDUCE) in presolve.\n",
      "    Disabling non-linear reductions (CPX_PARAM_PRELINEAR) in presolve.\n",
      "         Disabling repeat represolve because of lazy constraint/incumbent callback.\n",
      "09/11/19 @ 10:57 AM | adding 254 initial cuts\n",
      "1 of 1 MIP starts provided solutions.\n",
      "MIP start 'mip_start_0' defined initial solution with objective 0.0840.\n",
      "Tried aggregator 1 time.\n",
      "Reduced MIP has 27 rows, 54 columns, and 103 nonzeros.\n",
      "Reduced MIP has 25 binaries, 27 generals, 0 SOSs, and 0 indicators.\n",
      "Presolve time = 0.00 sec. (0.06 ticks)\n",
      "Probing time = 0.00 sec. (0.02 ticks)\n",
      "MIP emphasis: balance optimality and feasibility.\n",
      "MIP search method: traditional branch-and-cut.\n",
      "Parallel mode: none, using 1 thread.\n",
      "Root relaxation solution time = 0.00 sec. (0.03 ticks)\n",
      "\n",
      "        Nodes                                         Cuts/\n",
      "   Node  Left     Objective  IInf  Best Integer    Best Bound    ItCnt     Gap         Variable B NodeID Parent  Depth\n",
      "\n",
      "*     0+    0                            0.0840        0.0819             2.49%\n",
      "      0     0        0.0820     1        0.0840        0.0820        1    2.38%\n",
      "      0     2        0.0820     2        0.0840        0.0820        1    2.38%                        0             0\n",
      "Elapsed time = 0.17 sec. (1.30 ticks, tree = 0.01 MB, solutions = 1)\n",
      "   2668  1033        0.0839     1        0.0840        0.0820     9367    2.38%          rho_15 U   2668   2667     57\n",
      "   3962  1440        0.0825     5        0.0840        0.0820    15177    2.38%          rho_16 D   3962   3961     18\n",
      "   4982  1707        0.0834     9        0.0840        0.0820    19931    2.38%           rho_6 U   4982   4959     22\n",
      "   5881  1920        0.0835     6        0.0840        0.0820    24027    2.38%          rho_11 D   5881   5880     33\n",
      "   6625  2194        0.0828     9        0.0840        0.0820    28291    2.38%           rho_0 U   6625   6624     18\n",
      "   7365  2455        0.0822    16        0.0840        0.0820    32162    2.38%           rho_9 D   7365   7364     19\n",
      "   8120  2704        0.0822    11        0.0840        0.0820    35360    2.38%          rho_15 D   8120   8119     28\n",
      "   8744  2990        0.0820     6        0.0840        0.0820    38406    2.38%           rho_0 D   8744   8742     25\n",
      "   9463  3200        cutoff              0.0840        0.0820    41813    2.38%          rho_24 U   9463   9462     25\n",
      "  12094  4322        0.0821    14        0.0840        0.0820    54064    2.38%           rho_9 D  12094  11264     24\n",
      "Elapsed time = 6.16 sec. (3103.25 ticks, tree = 1.38 MB, solutions = 1)\n",
      "  14316  5361        cutoff              0.0840        0.0820    65005    2.38%          rho_24 U  14316  14315     28\n",
      "  16388  6165        0.0831    10        0.0840        0.0820    75132    2.38%           rho_5 D  16388  16387     31\n",
      "  18529  6925        0.0830     8        0.0840        0.0820    85036    2.38%           rho_0 D  18529  18527     27\n",
      "  20605  7799        0.0823     9        0.0840        0.0820    94147    2.38%          rho_15 D  20605  20603     29\n",
      "  22514  8696        0.0839     5        0.0840        0.0820   103174    2.38%          rho_15 U  22514  22513     24\n",
      "  24289  9624        0.0831    19        0.0840        0.0820   111942    2.38%           rho_9 U  24289  24261     20\n",
      "  26189 10346        cutoff              0.0840        0.0820   121080    2.38%           rho_7 U  26189  26187     71\n",
      "  28132 11040        0.0835     7        0.0840        0.0820   129714    2.38%          rho_11 U  28132  28131     52\n",
      "  29983 11747        cutoff              0.0840        0.0820   139259    2.38%           rho_5 U  29983  29981     90\n",
      "  31912 12414        cutoff              0.0840        0.0820   147933    2.38%           rho_5 U  31912  31910    110\n",
      "Elapsed time = 14.84 sec. (12643.21 ticks, tree = 4.05 MB, solutions = 1)\n",
      "  33821 13250        cutoff              0.0840        0.0820   157695    2.38%           rho_4 U  33821  33820     68\n",
      "  35796 13882        0.0831     6        0.0840        0.0820   167004    2.38%           rho_1 D  35796  35795     71\n",
      "  37755 14522        0.0823     7        0.0840        0.0820   176428    2.38%           rho_7 U  37755  37588     87\n",
      "  39722 15172        0.0825     8        0.0840        0.0820   185884    2.38%           rho_5 D  39722  39721     79\n",
      "  41704 15766        0.0826     9        0.0840        0.0820   195446    2.38%           rho_0 D  41704  41702     78\n",
      "  43594 16505        0.0823    15        0.0840        0.0820   204515    2.38%          rho_15 D  43594  43593     61\n",
      "  45500 17365        0.0829     6        0.0840        0.0820   213907    2.38%          rho_12 D  45500  45498     70\n",
      "  47310 18187        0.0822     7        0.0840        0.0820   224129    2.38%          rho_12 D  47310  47308     50\n",
      "  49074 19098        0.0830     7        0.0840        0.0820   234797    2.38%           rho_5 D  49074  49073     75\n",
      "  50888 19966        0.0823    15        0.0840        0.0820   245112    2.38%          rho_15 D  50888  50887     69\n",
      "Elapsed time = 22.67 sec. (22185.28 ticks, tree = 6.93 MB, solutions = 1)\n",
      "  52355 20907        0.0825     7        0.0840        0.0820   256850    2.38%          rho_12 D  52355  52353     86\n",
      "  54473 21732        0.0837     6        0.0840        0.0820   265085    2.38%          rho_11 U  54473  54472     64\n",
      "  56499 22563        0.0829     8        0.0840        0.0820   273722    2.38%          rho_12 D  56499  56497     52\n",
      "  58372 23556        0.0820    12        0.0840        0.0820   282732    2.38%           rho_0 U  58372  58371     80\n",
      "  59926 24652        0.0820    14        0.0840        0.0820   289916    2.38%           rho_8 D  59926  59925     28\n",
      "  61229 25311        cutoff              0.0840        0.0820   299831    2.38%          rho_24 D  61229  61227     40\n",
      "  62477 26011        0.0823    12        0.0840        0.0820   310706    2.38%           rho_7 D  62477  62475     72\n",
      "  63799 26700        cutoff              0.0840        0.0820   320696    2.38%          rho_21 D  63799  63798     87\n",
      "  65210 27388        0.0822    10        0.0840        0.0820   329791    2.38%          rho_15 U  65210  65208     75\n",
      "  66620 28071        0.0838     3        0.0840        0.0820   339463    2.38%          rho_24 U  66620  66619     40\n",
      "Elapsed time = 31.34 sec. (31725.04 ticks, tree = 9.31 MB, solutions = 1)\n",
      "  68311 28971        0.0826    11        0.0840        0.0820   347310    2.38%          rho_15 U  68311  68309     85\n",
      "  69848 29824        0.0826    12        0.0840        0.0820   354515    2.36%           rho_0 D  69848  69846     81\n",
      "  71480 30842        0.0821    11        0.0840        0.0820   360215    2.35%           rho_7 D  71480  71479     30\n",
      "  73124 31717        0.0831     9        0.0840        0.0820   366005    2.35%          rho_15 D  73124  73123     30\n",
      "  74635 32737        0.0820    13        0.0840        0.0820   372248    2.34%          rho_15 U  74635  74633     68\n",
      "  76270 33796        0.0834     7        0.0840        0.0820   377346    2.34%           rho_5 D  76270  76269     97\n",
      "  78020 34414        0.0827    11        0.0840        0.0820   382968    2.34%          rho_13 U  78020  78019     73\n",
      "  80237 35215        0.0825    10        0.0840        0.0820   390178    2.34%           rho_6 D  80237  80236     52\n",
      "  82121 36371        0.0834     7        0.0840        0.0820   399122    2.33%          rho_11 D  82121  82119     69\n",
      "  83977 37210        0.0820     7        0.0840        0.0820   404541    2.33%           rho_0 D  83977  83975     40\n",
      "Elapsed time = 38.88 sec. (41265.71 ticks, tree = 13.42 MB, solutions = 1)\n",
      "  86135 38130        0.0837     5        0.0840        0.0820   413276    2.33%          rho_10 U  86135  86134     88\n",
      "  88276 39149        cutoff              0.0840        0.0820   423076    2.33%          rho_25 U  88276  88275     73\n",
      "  90543 40121        0.0833     7        0.0840        0.0820   429913    2.33%           rho_5 D  90543  90541     71\n",
      "  92570 40829        0.0820    12        0.0840        0.0820   438183    2.32%           rho_0 D  92570  92568     74\n"
     ]
    },
    {
     "name": "stdout",
     "output_type": "stream",
     "text": [
      "  94611 42274        0.0823     7        0.0840        0.0820   444109    2.32%          rho_15 D  94611  94610     67\n",
      "  96485 43031        0.0821    12        0.0840        0.0820   450525    2.31%           rho_0 D  96485  96483     86\n",
      "  98601 43872        0.0820     7        0.0840        0.0820   458036    2.31%          rho_15 U  98601  98599     61\n",
      " 100692 44730        0.0821    10        0.0840        0.0821   465425    2.30%          rho_15 U 100692 100678     79\n",
      " 102950 45583        0.0837     7        0.0840        0.0821   473686    2.30%           rho_5 D 102950 102948     64\n",
      " 105131 46420        cutoff              0.0840        0.0821   481676    2.30%           rho_9 U 105131 105129     74\n",
      "Elapsed time = 48.59 sec. (50805.32 ticks, tree = 16.18 MB, solutions = 1)\n",
      " 107320 47259        0.0821    10        0.0840        0.0821   489698    2.30%          rho_15 U 107320 107308     59\n",
      " 109255 47992        0.0821    12        0.0840        0.0821   496792    2.30%           rho_0 D 109255 109253     66\n",
      " 111184 48738        0.0821    11        0.0840        0.0821   505771    2.30%          rho_15 U 111184 111107     44\n",
      " 113136 49509        0.0839     5        0.0840        0.0821   514999    2.30%          rho_25 D 113136 113134     70\n",
      " 115063 50466        0.0825    11        0.0840        0.0821   522413    2.29%           rho_0 U 115063 115062     66\n",
      " 116969 51574        0.0821    10        0.0840        0.0821   530105    2.29%           rho_0 D 116969 116967     71\n",
      " 118868 52269        0.0827     9        0.0840        0.0821   536425    2.28%           rho_7 D 118868 118867     68\n",
      " 120730 53490        0.0821    13        0.0840        0.0821   542356    2.28%          rho_15 D 120730 120729     55\n",
      " 122270 54372        0.0824    10        0.0840        0.0821   548232    2.28%           rho_6 U 122270  96293     66\n",
      " 124048 54890        0.0821    16        0.0840        0.0821   557552    2.28%           rho_0 D 124048 124046     70\n",
      "Elapsed time = 57.81 sec. (60347.07 ticks, tree = 18.75 MB, solutions = 1)\n",
      " 125763 56194        0.0835     7        0.0840        0.0821   564155    2.28%           rho_5 D 125763 125762     80\n",
      " 127356 57194        cutoff              0.0840        0.0821   570628    2.28%           rho_6 U 127356 127354     86\n",
      " 128958 58199        0.0828     8        0.0840        0.0821   577156    2.28%          rho_14 U 128958 128957     68\n",
      " 130590 58723        0.0838     3        0.0840        0.0821   584100    2.27%           rho_0 U 130590 130589     97\n",
      " 132329 58974        cutoff              0.0840        0.0821   593626    2.27%           rho_6 U 132329  49721     60\n",
      " 134274 59500        0.0829    11        0.0840        0.0821   601811    2.26%           rho_6 D 134274 134272     31\n",
      " 136419 60346        cutoff              0.0840        0.0821   609086    2.25%           rho_4 D 136419 136417     45\n",
      " 138307 61209        0.0832     7        0.0840        0.0821   617284    2.25%          rho_24 D 138307 138306     45\n",
      " 140102 61950        cutoff              0.0840        0.0821   624923    2.24%          rho_15 U 140102 140101     60\n",
      " 142000 62714        0.0821     9        0.0840        0.0821   632522    2.24%           rho_0 D 142000 141998     78\n",
      "Elapsed time = 64.91 sec. (69887.47 ticks, tree = 21.10 MB, solutions = 1)\n",
      " 143956 63524        cutoff              0.0840        0.0821   639375    2.24%           rho_5 U 143956 143955     49\n",
      " 145917 64777        0.0830    12        0.0840        0.0821   646291    2.24%          rho_14 U 145917 145916     42\n",
      " 147378 65873        0.0822    15        0.0840        0.0821   652640    2.24%          rho_15 D 147378 147377     67\n",
      " 148777 66871        0.0836     5        0.0840        0.0821   659414    2.24%          rho_14 D 148777 148775     74\n",
      " 150213 67523        cutoff              0.0840        0.0821   666439    2.24%          rho_11 U 150213 150212     84\n",
      " 151760 68188        0.0825     9        0.0840        0.0821   672586    2.24%          rho_11 D 151760 151759     81\n",
      " 153395 68822        0.0822    15        0.0840        0.0821   679025    2.23%          rho_15 D 153395 144779     24\n",
      " 155117 69781        0.0822    15        0.0840        0.0821   688649    2.23%          rho_15 D 155117 155116     54\n",
      " 156628 70705        0.0831    11        0.0840        0.0821   695016    2.22%           rho_5 D 156628 156627     72\n",
      " 158220 71212        0.0828     8        0.0840        0.0821   701449    2.22%          rho_24 D 158220 158218     59\n",
      "Elapsed time = 71.03 sec. (79427.78 ticks, tree = 26.54 MB, solutions = 1)\n",
      " 160001 71375        0.0828     8        0.0840        0.0821   708278    2.22%          rho_24 D 160001 159999     53\n",
      " 161857 71904        0.0833     9        0.0840        0.0821   715660    2.22%          rho_10 D 161857 161855     26\n",
      " 163900 72992        cutoff              0.0840        0.0821   724103    2.22%          rho_21 D 163900 163899     48\n",
      " 165662 73625        0.0834     9        0.0840        0.0821   732550    2.21%          rho_24 D 165662 165661     75\n",
      " 167489 74426        0.0827    13        0.0840        0.0821   741248    2.21%          rho_13 D 167489 167487     42\n",
      " 169317 75220        0.0828    11        0.0840        0.0821   750014    2.21%          rho_14 U 169317 169316     77\n",
      " 171250 76031        0.0835     7        0.0840        0.0821   757750    2.21%          rho_11 D 171250 171248     75\n",
      " 173234 76868        0.0821    10        0.0840        0.0821   765143    2.21%           rho_7 D 173234  82000     74\n",
      " 174963 77563        0.0821    14        0.0840        0.0821   772622    2.21%          rho_15 U 174963 174961     77\n",
      " 182497 81083        0.0824    10        0.0840        0.0821   803661    2.21%          rho_14 D 182497 182496     74\n",
      "Elapsed time = 79.44 sec. (91828.15 ticks, tree = 29.56 MB, solutions = 1)\n",
      " 189297 83484        0.0835    11        0.0840        0.0821   840213    2.21%          rho_12 D 189297 189295     98\n",
      " 196049 86279        0.0825     9        0.0840        0.0821   876165    2.20%           rho_0 D 196049 196048     38\n",
      " 203109 90044        0.0830    12        0.0840        0.0821   903368    2.19%          rho_16 D 203109 203108     85\n",
      " 210273 92898        cutoff              0.0840        0.0821   936649    2.19%           rho_4 D 210273 210271     78\n",
      " 217390 95826        cutoff              0.0840        0.0821   969255    2.19%           rho_7 U 217390 162061     52\n",
      " 224539 98420        0.0839     7        0.0840        0.0822   997112    2.18%          rho_11 U 224539 224536     80\n",
      " 231537 101709        0.0835     9        0.0840        0.0822  1024415    2.18%          rho_14 U 231537 231536     64\n",
      " 238160 104535        0.0832     7        0.0840        0.0822  1055992    2.18%           rho_5 D 238160 238159     46\n",
      " 244823 107407        0.0825    10        0.0840        0.0822  1082479    2.17%          rho_13 U 244823 244822     82\n",
      " 252355 109925        0.0833     5        0.0840        0.0822  1109121    2.17%          rho_11 D 252355 252354     76\n",
      "Elapsed time = 106.76 sec. (129978.45 ticks, tree = 38.38 MB, solutions = 1)\n",
      " 259213 113112        0.0831     9        0.0840        0.0822  1138294    2.17%           rho_1 D 259213 259212     60\n",
      " 265933 116860        0.0837     5        0.0840        0.0822  1166334    2.17%           rho_9 U 265933 265931     71\n",
      " 272571 118863        cutoff              0.0840        0.0822  1194396    2.16%          rho_21 U 272571 272570     70\n",
      " 279780 121696        0.0837     7        0.0840        0.0822  1225243    2.16%           rho_5 D 279780 279778     98\n",
      " 286492 124305        cutoff              0.0840        0.0822  1257236    2.16%          rho_24 U 286492 286491     95\n",
      " 293444 127313        0.0827     7        0.0840        0.0822  1284700    2.15%          rho_14 D 293444 293443     66\n",
      " 299410 131176        0.0828     8        0.0840        0.0822  1305366    2.15%          rho_10 D 299410 299408     26\n",
      " 305740 134138        0.0834    10        0.0840        0.0822  1330578    2.14%           rho_7 U 305740 305739     40\n"
     ]
    },
    {
     "name": "stdout",
     "output_type": "stream",
     "text": [
      " 312968 136881        0.0832    10        0.0840        0.0822  1363180    2.14%          rho_10 U 312968 312967     51\n",
      " 319962 139220        0.0825    18        0.0840        0.0822  1392052    2.13%           rho_0 U 319962 319961     80\n",
      "Elapsed time = 133.94 sec. (168131.74 ticks, tree = 50.41 MB, solutions = 1)\n",
      " 327592 142436        cutoff              0.0840        0.0822  1417396    2.13%           rho_1 U 327592 327590     87\n",
      " 334290 145543        0.0828    11        0.0840        0.0822  1447350    2.13%           rho_0 U 334290 334289     81\n",
      " 340288 149040        0.0831    11        0.0840        0.0822  1470594    2.13%          rho_14 N 340288 340287     46\n",
      " 347044 151774        0.0838     7        0.0840        0.0822  1494153    2.12%          rho_21 D 347044 347043     72\n",
      " 354924 154519        0.0837     8        0.0840        0.0822  1519481    2.12%          rho_21 D 354924 354922     72\n",
      " 362508 156865        0.0822     9        0.0840        0.0822  1544757    2.12%          rho_15 D 362508 362506     60\n",
      " 369610 159425        cutoff              0.0840        0.0822  1573047    2.12%          rho_14 D 369610 369608     45\n",
      " 376085 161655        cutoff              0.0840        0.0822  1603584    2.12%          rho_15 U 376085 376084     62\n",
      " 382600 164144        0.0823    14        0.0840        0.0822  1631074    2.12%           rho_7 D 382600 382599     51\n",
      " 389011 167060        0.0822    13        0.0840        0.0822  1656817    2.11%           rho_0 D 389011 389009     78\n",
      "Elapsed time = 159.95 sec. (206283.04 ticks, tree = 60.79 MB, solutions = 1)\n",
      " 394815 170495        0.0823     9        0.0840        0.0822  1679610    2.11%           rho_8 N 394815 394814     60\n",
      " 400840 173888        0.0836     6        0.0840        0.0822  1700444    2.11%          rho_21 D 400840 400838     93\n",
      " 408972 175871        0.0829     7        0.0840        0.0822  1726629    2.11%           rho_7 U 408972 199053     46\n",
      " 416309 177936        0.0829     8        0.0840        0.0822  1754275    2.11%           rho_6 U 416309  88368     64\n",
      " 422922 180009        0.0823    16        0.0840        0.0822  1781489    2.11%           rho_0 D 422922 127209     55\n",
      " 429500 182195        0.0834    11        0.0840        0.0822  1814150    2.11%           rho_7 D 429500 429499     44\n",
      " 435931 184585        0.0834     7        0.0840        0.0822  1844374    2.10%          rho_11 U 435931 435930     90\n",
      " 442358 186759        0.0825    12        0.0840        0.0822  1871142    2.10%          rho_15 D 442358 442357     68\n",
      " 448542 190152        0.0834     9        0.0840        0.0822  1894667    2.10%          rho_11 D 448542 448540     63\n",
      " 455171 192889        0.0837     9        0.0840        0.0822  1925369    2.10%           rho_5 U 455171 455170     83\n",
      "Elapsed time = 187.34 sec. (244435.56 ticks, tree = 70.84 MB, solutions = 1)\n",
      " 461648 195292        cutoff              0.0840        0.0822  1953883    2.09%          rho_15 U 461648 461646     83\n",
      " 467886 197060        0.0832     7        0.0840        0.0822  1983263    2.09%           rho_5 D 467886 467884     70\n",
      " 474005 199169        0.0839     9        0.0840        0.0822  2011367    2.09%          rho_21 D 474005 474003     66\n",
      " 480658 202694        0.0833     4        0.0840        0.0822  2033987    2.09%           rho_6 N 480658 480657     98\n",
      "\n",
      "User cuts applied:  905\n",
      "\n",
      "Root node processing (before b&c):\n",
      "  Real time             =    0.17 sec. (1.37 ticks)\n",
      "Sequential b&c:\n",
      "  Real time             =  199.84 sec. (263229.15 ticks)\n",
      "                          ------------\n",
      "Total (root+branch&cut) =  200.01 sec. (263230.52 ticks)\n",
      "+----------------------------------------------+------------------+-----------+\n",
      "| Pr(Y = +1) = 1.0/(1.0 + exp(-(-6 + score))   |                  |           |\n",
      "| ============================================ | ================ | ========= |\n",
      "| age_at_current_charge<=19                    |         1 points |   + ..... |\n",
      "| age_at_current_charge<=46                    |         1 points |   + ..... |\n",
      "| p_arrest>=2                                  |         1 points |   + ..... |\n",
      "| p_arrest>=4                                  |         1 points |   + ..... |\n",
      "| p_property>=1                                |         1 points |   + ..... |\n",
      "| ============================================ | ================ | ========= |\n",
      "| ADD POINTS FROM ROWS 1 to 5                  |            SCORE |   = ..... |\n",
      "+----------------------------------------------+------------------+-----------+\n",
      "model_id, score_thresholds 0 {'rank_abs': [0]}\n",
      "get_disparity_predefined_group()\n",
      "setting c0 = 0.0 to ensure that intercept is not penalized\n",
      "09/11/19 @ 11:01 AM | 1101 rows in lookup table\n",
      "09/11/19 @ 11:01 AM | ------------------------------------------------------------\n",
      "09/11/19 @ 11:01 AM | runnning initialization procedure\n",
      "09/11/19 @ 11:01 AM | ------------------------------------------------------------\n",
      "09/11/19 @ 11:01 AM | CPA produced 2 cuts\n",
      "09/11/19 @ 11:01 AM | running naive rounding on 112 solutions\n",
      "09/11/19 @ 11:01 AM | best objective value: 0.0812\n",
      "09/11/19 @ 11:01 AM | rounding produced 5 integer solutions\n",
      "09/11/19 @ 11:01 AM | best objective value is 0.0832\n",
      "09/11/19 @ 11:01 AM | running sequential rounding on 112 solutions\n",
      "09/11/19 @ 11:01 AM | best objective value: 0.0812\n",
      "09/11/19 @ 11:01 AM | sequential rounding produced 6 integer solutions\n",
      "09/11/19 @ 11:01 AM | best objective value: 0.0826\n",
      "09/11/19 @ 11:01 AM | polishing 11 solutions\n",
      "09/11/19 @ 11:01 AM | best objective value: 0.0826\n",
      "09/11/19 @ 11:01 AM | polishing produced 3 integer solutions\n",
      "09/11/19 @ 11:01 AM | initialization produced 11 feasible solutions\n",
      "09/11/19 @ 11:01 AM | best objective value: 0.0825\n",
      "09/11/19 @ 11:01 AM | ------------------------------------------------------------\n",
      "09/11/19 @ 11:01 AM | completed initialization procedure\n",
      "09/11/19 @ 11:01 AM | ------------------------------------------------------------\n",
      "09/11/19 @ 11:01 AM | 1101 rows in lookup table\n",
      "CPXPARAM_Read_DataCheck                          1\n",
      "CPXPARAM_Threads                                 1\n",
      "CPXPARAM_Parallel                                1\n",
      "CPXPARAM_RandomSeed                              0\n",
      "CPXPARAM_TimeLimit                               200\n",
      "CPXPARAM_MIP_Tolerances_LowerCutoff              0.080452446681238687\n",
      "CPXPARAM_MIP_Tolerances_UpperCutoff              0.082492152649851144\n"
     ]
    },
    {
     "name": "stderr",
     "output_type": "stream",
     "text": [
      "Warning: Control callbacks may disable some MIP features.\n"
     ]
    },
    {
     "name": "stdout",
     "output_type": "stream",
     "text": [
      "Lazy constraint(s) or lazy constraint callback is present.\n",
      "    Disabling dual reductions (CPX_PARAM_REDUCE) in presolve.\n",
      "    Disabling non-linear reductions (CPX_PARAM_PRELINEAR) in presolve.\n",
      "         Disabling repeat represolve because of lazy constraint/incumbent callback.\n",
      "09/11/19 @ 11:01 AM | adding 251 initial cuts\n",
      "1 of 1 MIP starts provided solutions.\n",
      "MIP start 'mip_start_0' defined initial solution with objective 0.0825.\n",
      "Tried aggregator 1 time.\n",
      "Reduced MIP has 27 rows, 54 columns, and 103 nonzeros.\n",
      "Reduced MIP has 25 binaries, 27 generals, 0 SOSs, and 0 indicators.\n",
      "Presolve time = 0.00 sec. (0.06 ticks)\n",
      "Probing time = 0.00 sec. (0.02 ticks)\n",
      "MIP emphasis: balance optimality and feasibility.\n",
      "MIP search method: traditional branch-and-cut.\n",
      "Parallel mode: none, using 1 thread.\n",
      "Root relaxation solution time = 0.00 sec. (0.03 ticks)\n",
      "\n",
      "        Nodes                                         Cuts/\n",
      "   Node  Left     Objective  IInf  Best Integer    Best Bound    ItCnt     Gap         Variable B NodeID Parent  Depth\n",
      "\n",
      "*     0+    0                            0.0825        0.0804             2.59%\n",
      "      0     0        0.0805     1        0.0825        0.0805        1    2.47%\n",
      "      0     2        0.0805     2        0.0825        0.0805        1    2.47%                        0             0\n",
      "Elapsed time = 0.08 sec. (1.30 ticks, tree = 0.01 MB, solutions = 1)\n",
      "   2399  1011        0.0812     8        0.0825        0.0805     8433    2.47%           rho_0 U   2399   2398     18\n",
      "   3788  1585        0.0811     9        0.0825        0.0805    14285    2.47%           rho_7 U   3788    820     23\n",
      "   4953  2097        0.0805     8        0.0825        0.0805    18666    2.47%           rho_8 U   4953   3000     22\n",
      "   5910  2385        0.0810     6        0.0825        0.0805    23463    2.47%           rho_7 U   5910   5372     41\n",
      "   6819  2684        0.0818     6        0.0825        0.0805    26854    2.47%           rho_0 D   6819   6817     35\n",
      "   7669  3016        0.0822     7        0.0825        0.0805    30064    2.47%           rho_1 D   7669   7668     28\n",
      "   8397  3373        0.0816     6        0.0825        0.0805    33195    2.47%           rho_8 U   8397   8396     25\n",
      "   9170  3673        0.0815     6        0.0825        0.0805    35522    2.47%           rho_6 D   9170   9169     31\n",
      "   9812  3903        0.0814     9        0.0825        0.0805    39362    2.47%           rho_9 D   9812   9810     23\n",
      "  12469  5059        0.0812     7        0.0825        0.0805    50418    2.47%           rho_7 D  12469  12468     29\n",
      "Elapsed time = 5.16 sec. (3102.41 ticks, tree = 1.55 MB, solutions = 1)\n",
      "  14825  5938        cutoff              0.0825        0.0805    60889    2.47%          rho_25 D  14825  14824     30\n",
      "  17000  6751        0.0808     7        0.0825        0.0805    71338    2.47%          rho_15 D  17000  16999     66\n",
      "  19014  7384        0.0810     8        0.0825        0.0805    81682    2.47%           rho_7 D  19014  19013     19\n",
      "* 20515  7900      integral     0        0.0825        0.0805    89263    2.44%\n",
      "  20950  8110        cutoff              0.0825        0.0805    91504    2.44%          rho_15 U  20950  20949     30\n",
      "  22938  8755        0.0805     8        0.0825        0.0805   100891    2.44%           rho_0 D  22938  22936     74\n",
      "  24817  9347        0.0805     5        0.0825        0.0805   110232    2.44%          rho_12 D  24817  24809     23\n",
      "  26346 10288        0.0819     7        0.0825        0.0805   122914    2.44%          rho_15 N  26346  26345     89\n",
      "  27731 11171        0.0805    11        0.0825        0.0805   136431    2.44%          rho_15 D  27731  27730     58\n",
      "  29023 12004        0.0824     5        0.0825        0.0805   148376    2.44%           rho_0 U  29023  29021     88\n",
      "  30676 12712        0.0805     9        0.0825        0.0805   159155    2.44%           rho_0 D  30676  30674     67\n",
      "Elapsed time = 13.89 sec. (12642.99 ticks, tree = 4.09 MB, solutions = 2)\n",
      "  31982 13537        0.0806    12        0.0825        0.0805   171708    2.44%          rho_15 D  31982  30653     57\n",
      "  33328 14457        0.0814    10        0.0825        0.0805   182834    2.44%           rho_4 U  33328  26509     90\n",
      "  34995 15158        0.0807     8        0.0825        0.0805   190660    2.44%           rho_7 D  34995  34993     39\n",
      "  36790 16022        0.0808    12        0.0825        0.0805   196466    2.44%           rho_8 U  36790  36788     56\n",
      "  38337 16940        0.0806    11        0.0825        0.0805   203605    2.44%           rho_0 D  38337  38335     34\n",
      "  39820 17889        0.0811    11        0.0825        0.0805   212036    2.44%           rho_0 U  39820  39819     37\n",
      "* 40000+18026                            0.0825        0.0805             2.43%\n",
      "  41306 18718        0.0819     8        0.0825        0.0805   220095    2.43%           rho_0 D  41306  41304     97\n",
      "  42779 19684        0.0812    10        0.0825        0.0805   226375    2.43%          rho_15 U  42779  42777     31\n",
      "  44313 20710        0.0805     9        0.0825        0.0805   234056    2.43%          rho_15 U  44313  44311     51\n",
      "  45799 21667        0.0805    10        0.0825        0.0805   243829    2.43%           rho_8 D  45799  45413     65\n",
      "Elapsed time = 21.45 sec. (22187.39 ticks, tree = 7.43 MB, solutions = 3)\n",
      "  47524 22599        0.0805    11        0.0825        0.0805   253226    2.43%           rho_0 D  47524  47521     52\n",
      "  49338 23280        0.0805    11        0.0825        0.0805   261917    2.43%           rho_0 D  49338  49335     78\n",
      "  51597 24110        0.0805     7        0.0825        0.0805   272486    2.43%          rho_15 U  51597  51563     75\n",
      "  53656 25228        0.0813     8        0.0825        0.0805   283910    2.43%           rho_2 D  53656  53655     50\n",
      "  55031 26256        0.0812     7        0.0825        0.0805   292764    2.43%           rho_5 N  55031  55030     73\n",
      "  56591 27150        0.0809     7        0.0825        0.0805   299249    2.43%           rho_8 U  56591  56589     53\n",
      "  58113 27923        0.0822     7        0.0825        0.0805   306761    2.43%          rho_11 D  58113  58112     73\n",
      "  59700 28767        0.0808     7        0.0825        0.0805   315704    2.43%           rho_0 U  59700  59699     22\n",
      "  61202 29771        0.0824     5        0.0825        0.0805   323144    2.43%           rho_0 N  61202  61201     40\n",
      "  62700 30621        0.0807    10        0.0825        0.0805   331403    2.43%           rho_0 U  62700  62699     86\n",
      "Elapsed time = 29.20 sec. (31731.02 ticks, tree = 10.16 MB, solutions = 3)\n",
      "  63910 31596        0.0805    11        0.0825        0.0805   344058    2.43%           rho_0 U  63910  63909     77\n",
      "  65154 32442        cutoff              0.0825        0.0805   355621    2.43%          rho_24 U  65154  65153     33\n",
      "  66402 33279        0.0808    11        0.0825        0.0805   367159    2.43%           rho_9 D  66402  66401     79\n",
      "  67671 34089        0.0818     7        0.0825        0.0805   378235    2.43%          rho_22 D  67671  67670     32\n",
      "  68902 34680        0.0807     8        0.0825        0.0805   389685    2.43%           rho_0 U  68902  68901     80\n",
      "  70173 35258        0.0807     8        0.0825        0.0805   400952    2.43%           rho_0 U  70173  70172     82\n",
      "  71688 36142        0.0805     9        0.0825        0.0805   408493    2.43%           rho_0 D  71688  71686     35\n",
      "  73108 36694        0.0805     7        0.0825        0.0805   416536    2.43%          rho_15 U  73108  73106     92\n",
      "  74741 37317        0.0805     7        0.0825        0.0805   425858    2.43%          rho_15 U  74741  74739     77\n",
      "  76323 38261        cutoff              0.0825        0.0805   436099    2.43%          rho_21 U  76323  76322     43\n",
      "Elapsed time = 36.73 sec. (41272.56 ticks, tree = 13.85 MB, solutions = 3)\n",
      "  77602 39156        0.0807    12        0.0825        0.0805   445310    2.43%          rho_15 D  77602  77601     78\n",
      "  78926 40005        0.0805    10        0.0825        0.0805   454266    2.43%          rho_15 U  78926  78924     57\n"
     ]
    },
    {
     "name": "stdout",
     "output_type": "stream",
     "text": [
      "  80150 40905        0.0810     8        0.0825        0.0805   464579    2.43%          rho_16 D  80150  80149     48\n",
      "  81436 41848        0.0807    14        0.0825        0.0805   475207    2.43%          rho_15 D  81436  81435     64\n",
      "  82825 42514        cutoff              0.0825        0.0805   485375    2.43%           rho_0 U  82825  82824     67\n",
      "  84248 42996        0.0808     7        0.0825        0.0805   494996    2.43%           rho_9 D  84248  81836     39\n",
      "  86129 43693        0.0824     8        0.0825        0.0805   504219    2.43%           rho_0 D  86129  86128     42\n",
      "  87904 44512        0.0820     5        0.0825        0.0805   515627    2.43%          rho_25 N  87904  87903     65\n",
      "  89680 45376        0.0805    14        0.0825        0.0805   526692    2.43%           rho_8 U  89680  89661     18\n",
      "* 90690 45730      integral     0        0.0824        0.0805   532128    2.39%\n",
      "  91303 45969        0.0822     3        0.0824        0.0805   535204    2.39%           rho_0 U  91303  91302     42\n",
      "Elapsed time = 43.78 sec. (50816.57 ticks, tree = 16.25 MB, solutions = 4)\n",
      "  92705 46632        0.0806    13        0.0824        0.0805   550254    2.39%          rho_15 D  92705  92704     60\n",
      "  94250 47293        0.0812    11        0.0824        0.0805   563061    2.39%          rho_11 D  94250  94249     69\n",
      "  95992 47985        0.0805     9        0.0824        0.0805   573303    2.39%           rho_0 D  95992  95990     94\n",
      "  97737 48656        cutoff              0.0824        0.0805   583307    2.39%          rho_10 U  97737  97736     34\n",
      "  99536 49503        0.0805    10        0.0824        0.0805   593828    2.39%           rho_0 D  99536  99534     47\n",
      " 101466 50220        0.0815     9        0.0824        0.0805   603048    2.39%           rho_5 D 101466 101465     50\n",
      " 103405 50834        cutoff              0.0824        0.0805   612467    2.39%          rho_11 D 103405 103404     64\n",
      " 105362 51476        0.0807     7        0.0824        0.0805   621825    2.39%          rho_16 D 105362 105361     32\n",
      " 107290 52054        0.0809     8        0.0824        0.0805   630793    2.39%          rho_10 D 107290 107288     58\n",
      " 109260 52690        0.0805    10        0.0824        0.0805   639991    2.39%          rho_15 U 109260 109247     61\n",
      "Elapsed time = 50.36 sec. (60356.67 ticks, tree = 18.37 MB, solutions = 4)\n",
      " 111212 53350        0.0824     5        0.0824        0.0805   649228    2.39%          rho_22 D 111212 111211    100\n",
      " 113422 54328        cutoff              0.0824        0.0805   658610    2.39%           rho_9 U 113422 113420     57\n",
      " 115630 55334        0.0818     5        0.0824        0.0805   667692    2.39%           rho_4 U 115630 115628     78\n",
      " 117688 56270        0.0805    10        0.0824        0.0805   676182    2.39%           rho_0 D 117688 117632     61\n",
      " 119728 57205        0.0810     7        0.0824        0.0805   684641    2.39%          rho_16 D 119728 119727     84\n",
      " 121732 58064        0.0805    10        0.0824        0.0805   693022    2.39%           rho_0 D 121732 121721     53\n",
      " 123490 58882        cutoff              0.0824        0.0805   702525    2.39%          rho_11 U 123490 123489     72\n",
      " 125095 59880        0.0805    10        0.0824        0.0805   711526    2.39%          rho_15 U 125095 125093     81\n",
      " 126467 60688        0.0809    15        0.0824        0.0805   719641    2.39%           rho_4 D 126467 126466     42\n",
      " 127838 61427        0.0805    12        0.0824        0.0805   727937    2.39%           rho_0 D 127838 127836     27\n",
      "Elapsed time = 57.50 sec. (69895.42 ticks, tree = 21.13 MB, solutions = 4)\n",
      " 129141 62297        0.0805     8        0.0824        0.0805   736121    2.39%          rho_15 U 129141 129139     65\n",
      " 130440 63239        0.0805     8        0.0824        0.0805   744874    2.39%           rho_0 D 130440 130428     64\n",
      " 131702 64045        0.0805    12        0.0824        0.0805   753901    2.39%           rho_0 D 131702 131700     33\n",
      " 132906 64823        0.0806    13        0.0824        0.0805   762720    2.39%           rho_0 U 132906 132905     33\n",
      " 134098 65678        0.0806    13        0.0824        0.0805   773000    2.39%           rho_0 U 134098 134097     60\n",
      " 135389 66360        0.0809    13        0.0824        0.0805   781753    2.39%          rho_10 D 135389 135388     60\n",
      " 136718 66938        0.0809    15        0.0824        0.0805   789879    2.39%          rho_15 D 136718 136717     38\n",
      " 138000 67805        0.0813     9        0.0824        0.0805   798652    2.39%          rho_15 U 138000 137999     59\n",
      " 139126 68600        0.0819     9        0.0824        0.0805   808933    2.39%          rho_11 D 139126 139125     62\n",
      " 140286 69207        0.0812    13        0.0824        0.0805   818091    2.39%          rho_10 D 140286 140285     68\n",
      "Elapsed time = 64.69 sec. (79438.88 ticks, tree = 26.40 MB, solutions = 4)\n",
      " 141466 69794        0.0819     9        0.0824        0.0805   827014    2.39%           rho_0 U 141466 141465     39\n",
      " 142619 70602        0.0820    11        0.0824        0.0805   836987    2.39%          rho_11 D 142619 142617     87\n",
      " 143970 71058        0.0805    13        0.0824        0.0805   844868    2.39%           rho_0 U 143970 143969     50\n",
      " 145568 71567        0.0820     9        0.0824        0.0805   853790    2.39%          rho_14 D 145568 145566     96\n",
      " 147136 72412        0.0805    10        0.0824        0.0805   865068    2.39%           rho_8 U 147136 147134     64\n",
      " 148655 73075        0.0805    12        0.0824        0.0805   876797    2.39%           rho_0 D 148655 148653     51\n",
      " 150119 73919        0.0821    11        0.0824        0.0805   889647    2.39%          rho_16 D 150119 150118     39\n",
      " 151202 74683        0.0805    11        0.0824        0.0805   901008    2.39%           rho_0 D 151202 151188     51\n",
      " 152265 75445        0.0814     7        0.0824        0.0805   912446    2.39%           rho_4 U 152265 122131     26\n",
      " 157443 78311        0.0810    12        0.0824        0.0805   941948    2.39%           rho_5 N 157443 157442     87\n",
      "Elapsed time = 73.84 sec. (91842.95 ticks, tree = 29.29 MB, solutions = 4)\n",
      " 164384 80905        cutoff              0.0824        0.0805   972919    2.39%           rho_0 D 164384 164382     68\n",
      " 169820 84382        0.0805    11        0.0824        0.0805  1015748    2.39%          rho_15 U 169820 169818     48\n",
      " 174224 87056        0.0819     5        0.0824        0.0805  1055306    2.39%          rho_24 D 174224 174223     71\n",
      " 178593 89833        0.0808    11        0.0824        0.0805  1094443    2.39%           rho_0 U 178593 178592     82\n",
      " 183935 92684        0.0807    15        0.0824        0.0805  1124652    2.39%          rho_15 D 183935 183934     48\n",
      " 188559 95463        0.0809    10        0.0824        0.0805  1161033    2.39%          rho_15 D 188559 188557     48\n",
      " 193631 98233        0.0818     6        0.0824        0.0805  1193302    2.39%           rho_5 D 193631 193630     71\n",
      " 198444 100918        0.0817     9        0.0824        0.0805  1229029    2.39%           rho_4 U 198444 198429     19\n",
      " 202976 103793        0.0806    11        0.0824        0.0805  1267158    2.39%          rho_15 D 202976 202975     66\n",
      " 207300 106658        0.0819     7        0.0824        0.0805  1309756    2.39%          rho_11 U 207300 207298     50\n",
      "Elapsed time = 104.06 sec. (129995.26 ticks, tree = 38.32 MB, solutions = 4)\n",
      " 211813 109680        0.0806    17        0.0824        0.0805  1349929    2.39%           rho_0 D 211813 211806     93\n",
      " 216992 112918        0.0805    15        0.0824        0.0805  1385404    2.39%           rho_0 D 216992 216985     49\n",
      " 222034 116330        0.0805    12        0.0824        0.0805  1422354    2.39%           rho_0 D 222034 222032     74\n",
      " 227266 119124        0.0822     7        0.0824        0.0805  1458050    2.39%           rho_0 U 227266 227265     30\n",
      " 232120 122055        0.0815    11        0.0824        0.0805  1500585    2.39%           rho_0 U 232120 232119     48\n",
      " 237320 124928        0.0812    16        0.0824        0.0805  1535437    2.39%           rho_4 U 237320 220289     53\n"
     ]
    },
    {
     "name": "stdout",
     "output_type": "stream",
     "text": [
      " 242605 128195        0.0811    12        0.0824        0.0805  1571537    2.39%          rho_16 D 242605 242604     40\n",
      " 247125 131301        0.0805    15        0.0824        0.0805  1611222    2.39%          rho_15 U 247125 247123     58\n",
      " 252021 133966        0.0805    17        0.0824        0.0805  1648633    2.39%           rho_0 D 252021 251930     72\n",
      " 257399 137265        0.0805    17        0.0824        0.0805  1684931    2.39%           rho_0 D 257399 257277     52\n",
      "Elapsed time = 135.13 sec. (168154.81 ticks, tree = 51.03 MB, solutions = 4)\n",
      " 262760 140568        0.0821    11        0.0824        0.0805  1720249    2.39%           rho_4 U 262760 259030     71\n",
      " 267212 143109        0.0811    15        0.0824        0.0805  1757441    2.39%           rho_7 D 267212 267210     63\n",
      " 272229 146323        0.0809    15        0.0824        0.0805  1789050    2.38%           rho_4 D 272229 272228     63\n",
      " 279404 149466        0.0805    16        0.0824        0.0805  1815138    2.38%           rho_4 D 279404 279403     81\n",
      " 286000 152857        0.0812    12        0.0824        0.0805  1838382    2.37%           rho_6 D 286000 285999     75\n",
      " 293532 154964        cutoff              0.0824        0.0805  1869602    2.37%           rho_0 U 293532 293531     62\n",
      " 300228 158493        0.0817    15        0.0824        0.0805  1897540    2.37%          rho_16 D 300228 300227     68\n",
      " 306624 161675        0.0817    11        0.0824        0.0805  1933734    2.36%           rho_6 D 306624 306623     60\n",
      " 312657 164963        0.0818     5        0.0824        0.0805  1959969    2.35%          rho_12 D 312657 312655     51\n",
      " 318160 168491        cutoff              0.0824        0.0805  1982043    2.35%           rho_0 U 318160 318159     68\n",
      "Elapsed time = 161.61 sec. (206307.38 ticks, tree = 62.69 MB, solutions = 4)\n",
      " 323846 170843        0.0807    13        0.0824        0.0805  2013606    2.35%           rho_7 D 323846 323843     54\n",
      " 331079 174187        0.0823     5        0.0824        0.0805  2040823    2.34%          rho_21 D 331079 331077     45\n",
      " 337793 177919        cutoff              0.0824        0.0805  2071665    2.34%          rho_24 D 337793 337792     44\n",
      " 343653 181191        0.0818     8        0.0824        0.0805  2092223    2.33%           rho_3 D 343653 343652     91\n",
      " 350458 183504        0.0812     7        0.0824        0.0805  2125229    2.33%          rho_22 D 350458 350457     40\n",
      " 357031 186189        cutoff              0.0824        0.0805  2158672    2.33%           rho_0 U 357031 357030     63\n",
      " 362077 189868        0.0808    10        0.0824        0.0805  2185157    2.33%           rho_7 U 362077 362075     54\n",
      " 367295 192250        0.0816    10        0.0824        0.0805  2210361    2.32%           rho_5 D 367295 367293     30\n",
      " 374240 195180        0.0815     8        0.0824        0.0805  2238803    2.32%          rho_13 D 374240 374238     46\n",
      " 380630 198339        0.0820     4        0.0824        0.0805  2272341    2.32%           rho_6 D 380630 380628     39\n",
      "Elapsed time = 186.48 sec. (244459.31 ticks, tree = 74.27 MB, solutions = 4)\n",
      " 387888 200420        0.0821     5        0.0824        0.0805  2302480    2.32%          rho_13 U 387888 387887     42\n",
      " 394506 203144        0.0816     7        0.0824        0.0805  2333858    2.32%           rho_5 D 394506 394505     52\n",
      " 401050 206361        0.0811     7        0.0824        0.0805  2359662    2.31%           rho_2 D 401050 401049     34\n",
      " 407913 208798        cutoff              0.0824        0.0805  2387933    2.31%          rho_11 U 407913 407912     90\n",
      " 414223 211794        cutoff              0.0824        0.0805  2418731    2.31%          rho_24 U 414223 414222     89\n",
      "\n",
      "Implied bound cuts applied:  1\n",
      "User cuts applied:  957\n",
      "\n",
      "Root node processing (before b&c):\n",
      "  Real time             =    0.08 sec. (1.38 ticks)\n",
      "Sequential b&c:\n",
      "  Real time             =  199.94 sec. (265767.36 ticks)\n",
      "                          ------------\n",
      "Total (root+branch&cut) =  200.01 sec. (265768.74 ticks)\n",
      "+----------------------------------------------+------------------+-----------+\n",
      "| Pr(Y = +1) = 1.0/(1.0 + exp(-(-6 + score))   |                  |           |\n",
      "| ============================================ | ================ | ========= |\n",
      "| age_at_current_charge<=19                    |         1 points |   + ..... |\n",
      "| age_at_current_charge<=46                    |         1 points |   + ..... |\n",
      "| p_arrest>=2                                  |         1 points |   + ..... |\n",
      "| p_property>=1                                |         1 points |   + ..... |\n",
      "| p_pending_charge>=1                          |         1 points |   + ..... |\n",
      "| ============================================ | ================ | ========= |\n",
      "| ADD POINTS FROM ROWS 1 to 5                  |            SCORE |   = ..... |\n",
      "+----------------------------------------------+------------------+-----------+\n",
      "model_id, score_thresholds 0 {'rank_abs': [0]}\n",
      "get_disparity_predefined_group()\n",
      "setting c0 = 0.0 to ensure that intercept is not penalized\n",
      "09/11/19 @ 11:04 AM | 1101 rows in lookup table\n",
      "09/11/19 @ 11:04 AM | ------------------------------------------------------------\n",
      "09/11/19 @ 11:04 AM | runnning initialization procedure\n",
      "09/11/19 @ 11:04 AM | ------------------------------------------------------------\n",
      "09/11/19 @ 11:04 AM | CPA produced 2 cuts\n",
      "09/11/19 @ 11:04 AM | running naive rounding on 109 solutions\n",
      "09/11/19 @ 11:04 AM | best objective value: 0.0802\n",
      "09/11/19 @ 11:04 AM | rounding produced 5 integer solutions\n",
      "09/11/19 @ 11:04 AM | best objective value is 0.0825\n",
      "09/11/19 @ 11:04 AM | running sequential rounding on 109 solutions\n",
      "09/11/19 @ 11:04 AM | best objective value: 0.0802\n",
      "09/11/19 @ 11:04 AM | sequential rounding produced 6 integer solutions\n",
      "09/11/19 @ 11:04 AM | best objective value: 0.0819\n",
      "09/11/19 @ 11:04 AM | polishing 11 solutions\n",
      "09/11/19 @ 11:04 AM | best objective value: 0.0819\n",
      "09/11/19 @ 11:04 AM | polishing produced 5 integer solutions\n",
      "09/11/19 @ 11:04 AM | initialization produced 14 feasible solutions\n",
      "09/11/19 @ 11:04 AM | best objective value: 0.0817\n",
      "09/11/19 @ 11:04 AM | ------------------------------------------------------------\n",
      "09/11/19 @ 11:04 AM | completed initialization procedure\n",
      "09/11/19 @ 11:04 AM | ------------------------------------------------------------\n",
      "09/11/19 @ 11:04 AM | 1101 rows in lookup table\n",
      "CPXPARAM_Read_DataCheck                          1\n",
      "CPXPARAM_Threads                                 1\n",
      "CPXPARAM_Parallel                                1\n",
      "CPXPARAM_RandomSeed                              0\n",
      "CPXPARAM_TimeLimit                               200\n",
      "CPXPARAM_MIP_Tolerances_LowerCutoff              0.079441532677336626\n",
      "CPXPARAM_MIP_Tolerances_UpperCutoff              0.081658649195056138\n"
     ]
    },
    {
     "name": "stderr",
     "output_type": "stream",
     "text": [
      "Warning: Control callbacks may disable some MIP features.\n"
     ]
    },
    {
     "name": "stdout",
     "output_type": "stream",
     "text": [
      "Lazy constraint(s) or lazy constraint callback is present.\n",
      "    Disabling dual reductions (CPX_PARAM_REDUCE) in presolve.\n",
      "    Disabling non-linear reductions (CPX_PARAM_PRELINEAR) in presolve.\n",
      "         Disabling repeat represolve because of lazy constraint/incumbent callback.\n",
      "09/11/19 @ 11:04 AM | adding 249 initial cuts\n",
      "1 of 1 MIP starts provided solutions.\n",
      "MIP start 'mip_start_0' defined initial solution with objective 0.0817.\n",
      "Tried aggregator 1 time.\n",
      "Reduced MIP has 27 rows, 54 columns, and 103 nonzeros.\n",
      "Reduced MIP has 25 binaries, 27 generals, 0 SOSs, and 0 indicators.\n",
      "Presolve time = 0.00 sec. (0.06 ticks)\n",
      "Probing time = 0.00 sec. (0.02 ticks)\n",
      "MIP emphasis: balance optimality and feasibility.\n",
      "MIP search method: traditional branch-and-cut.\n",
      "Parallel mode: none, using 1 thread.\n",
      "Root relaxation solution time = 0.00 sec. (0.03 ticks)\n",
      "\n",
      "        Nodes                                         Cuts/\n",
      "   Node  Left     Objective  IInf  Best Integer    Best Bound    ItCnt     Gap         Variable B NodeID Parent  Depth\n",
      "\n",
      "*     0+    0                            0.0817        0.0793             2.84%\n",
      "      0     0        0.0794     1        0.0817        0.0794        1    2.72%\n",
      "      0     0        0.0794     1        0.0817      Fract: 1        2    2.72%\n",
      "      0     2        0.0794     2        0.0817        0.0794        2    2.72%                        0             0\n",
      "Elapsed time = 0.09 sec. (1.69 ticks, tree = 0.01 MB, solutions = 1)\n",
      "   2304   900        0.0794     4        0.0817        0.0794    10465    2.72%           rho_2 D   2304   2303     26\n",
      "*  2640+ 1026                            0.0816        0.0794             2.63%\n",
      "*  2666  1032      integral     0        0.0816        0.0794    12082    2.62%\n",
      "   3340  1336        0.0804     7        0.0816        0.0794    15207    2.62%          rho_16 D   3340   3339     22\n",
      "   4200  1669        0.0803     6        0.0816        0.0794    19341    2.62%           rho_7 D   4200   4199     29\n",
      "   4893  1906        cutoff              0.0816        0.0794    23352    2.62%           rho_8 U   4893   4892     28\n",
      "   5538  2135        0.0798    12        0.0816        0.0794    26987    2.62%           rho_9 U   5538   5537     25\n",
      "   6075  2335        cutoff              0.0816        0.0794    30676    2.62%           rho_3 U   6075    546      9\n",
      "   6665  2531        0.0795     9        0.0816        0.0794    33964    2.62%           rho_7 U   6665   6655     23\n",
      "   7190  2765        0.0816     0        0.0816        0.0794    36783    2.62%          rho_24 D   7190   7188     26\n",
      "   7720  3028        0.0807     8        0.0816        0.0794    39624    2.62%           rho_0 U   7720   4386     21\n",
      "   9571  3795        cutoff              0.0816        0.0794    53236    2.62%           rho_0 U   9571    542      6\n",
      "Elapsed time = 4.94 sec. (3108.85 ticks, tree = 1.11 MB, solutions = 3)\n",
      "  11291  4454        0.0795    14        0.0816        0.0794    65801    2.62%           rho_1 U  11291  11290     23\n",
      "  13070  5140        0.0809     6        0.0816        0.0794    76724    2.62%           rho_0 D  13070  13069     34\n",
      "* 13433  5292      integral     0        0.0816        0.0794    79338    2.60%          rho_13 U  13433  13432     26\n",
      "  14989  5969        0.0812     3        0.0816        0.0794    89963    2.60%           rho_8 U  14989  14987     32\n",
      "  16452  6543        cutoff              0.0816        0.0794   100094    2.60%          rho_15 U  16452  16451     25\n",
      "  18069  7275        0.0810     4        0.0816        0.0794   109393    2.60%          rho_13 D  18069  18067     31\n",
      "  19559  7813        cutoff              0.0816        0.0794   118487    2.60%           rho_5 D  19559  19558     34\n",
      "  21054  8461        cutoff              0.0816        0.0794   127618    2.60%          rho_13 D  21054  21053     32\n",
      "  22573  9169        0.0816     3        0.0816        0.0794   136264    2.60%          rho_24 N  22573  22572     25\n",
      "  23898  9733        0.0797    15        0.0816        0.0794   145603    2.60%          rho_22 U  23898  23873     17\n",
      "Elapsed time = 13.06 sec. (11927.30 ticks, tree = 3.38 MB, solutions = 4)\n",
      "  25288 10272        0.0806    12        0.0816        0.0794   154311    2.60%           rho_4 N  25288  25287     26\n",
      "  26583 10819        cutoff              0.0816        0.0794   163211    2.60%           rho_5 U  26583  26582     30\n",
      "  28008 11336        cutoff              0.0816        0.0794   172814    2.60%          rho_13 U  28008  28007     37\n",
      "  29389 11946        0.0809     8        0.0816        0.0794   182519    2.60%          rho_21 D  29389  29387     48\n",
      "  30839 12439        0.0794    10        0.0816        0.0794   192159    2.60%          rho_15 U  30839  30829     61\n",
      "  32290 12932        0.0798    14        0.0816        0.0794   202085    2.60%          rho_15 D  32290  32289     55\n",
      "  33710 13443        cutoff              0.0816        0.0794   212098    2.60%           rho_0 U  33710  33709     33\n",
      "  35033 13887        cutoff              0.0816        0.0794   221377    2.60%           rho_5 U  35033  35032     50\n",
      "  36333 14331        0.0794    11        0.0816        0.0794   231013    2.60%          rho_15 U  36333  36331     34\n",
      "  37639 14754        0.0796    10        0.0816        0.0794   240266    2.60%          rho_22 D  37639  37637     64\n",
      "Elapsed time = 20.56 sec. (21467.93 ticks, tree = 4.95 MB, solutions = 4)\n",
      "  38951 15308        cutoff              0.0816        0.0794   249756    2.60%          rho_11 U  38951  38950     65\n",
      "  40278 15851        0.0794    13        0.0816        0.0794   258374    2.60%           rho_0 D  40278  40276     66\n",
      "  41646 16414        0.0794    12        0.0816        0.0794   266619    2.60%          rho_17 D  41646   8676      4\n",
      "  42934 16973        0.0796    17        0.0816        0.0794   275419    2.60%           rho_4 U  42934  42933     23\n",
      "  44181 17480        0.0797    13        0.0816        0.0794   284229    2.60%           rho_0 U  44181  44180     36\n",
      "  45711 18274        cutoff              0.0816        0.0794   292784    2.60%           rho_6 U  45711  45709     68\n",
      "  47290 19138        0.0794    11        0.0816        0.0794   301314    2.60%          rho_15 U  47290  47277     71\n",
      "  48656 19800        0.0804     9        0.0816        0.0794   310170    2.60%          rho_12 D  48656  48654     32\n",
      "  49902 20233        cutoff              0.0816        0.0794   319776    2.60%          rho_21 U  49902  49901     51\n",
      "  51093 20626        0.0802    12        0.0816        0.0794   329951    2.60%          rho_14 U  51093  51092     73\n",
      "Elapsed time = 28.36 sec. (31011.48 ticks, tree = 7.47 MB, solutions = 4)\n",
      "  52274 20998        0.0804     9        0.0816        0.0794   340051    2.60%          rho_12 D  52274  52272     66\n",
      "  53455 21378        0.0804    14        0.0816        0.0794   350279    2.60%           rho_0 N  53455  53454     35\n",
      "  54680 21793        0.0794     9        0.0816        0.0794   360035    2.60%          rho_15 U  54680  54678     41\n",
      "  56011 22405        0.0800    18        0.0816        0.0794   369185    2.60%          rho_15 D  56011  56010     20\n",
      "  57231 23025        0.0796    10        0.0816        0.0794   378813    2.60%           rho_2 U  57231  57230     51\n",
      "  58506 23678        cutoff              0.0816        0.0794   388402    2.60%          rho_21 U  58506  58505     64\n",
      "  59757 24201        0.0797    14        0.0816        0.0794   396952    2.60%           rho_7 U  59757  55326     23\n",
      "  60924 24679        0.0794    13        0.0816        0.0794   407347    2.60%           rho_0 D  60924  60922     51\n",
      "  62068 25303        0.0794    13        0.0816        0.0794   418446    2.60%           rho_0 D  62068  62066     45\n",
      "  63346 25911        0.0815     9        0.0816        0.0794   426840    2.60%          rho_17 D  63346  63344     19\n",
      "Elapsed time = 35.83 sec. (40554.52 ticks, tree = 9.15 MB, solutions = 4)\n",
      "  64587 26494        0.0794    10        0.0816        0.0794   435239    2.60%          rho_15 U  64587  64585     79\n",
      "  65779 27029        0.0798    12        0.0816        0.0794   444689    2.60%           rho_0 U  65779   7803     25\n"
     ]
    },
    {
     "name": "stdout",
     "output_type": "stream",
     "text": [
      "  67050 27651        0.0796    14        0.0816        0.0794   453079    2.60%           rho_4 D  67050  67049     59\n",
      "  68398 28279        cutoff              0.0816        0.0794   460943    2.60%          rho_10 U  68398  68397     69\n",
      "  69785 28868        cutoff              0.0816        0.0794   468163    2.60%           rho_5 D  69785  69783     48\n",
      "  70893 29361        0.0794    13        0.0816        0.0794   477596    2.60%           rho_0 D  70893  70891     47\n",
      "  72110 30036        0.0806    14        0.0816        0.0794   486051    2.60%          rho_15 N  72110  72109     32\n",
      "  73235 30684        cutoff              0.0816        0.0794   495170    2.60%           rho_5 U  73235  73233     35\n",
      "  74235 31217        0.0812     5        0.0816        0.0794   503259    2.60%          rho_21 D  74235  74233     57\n",
      "  75210 31736        0.0794    13        0.0816        0.0794   511983    2.60%          rho_15 U  75210  75208     42\n",
      "Elapsed time = 43.30 sec. (50098.75 ticks, tree = 11.02 MB, solutions = 4)\n",
      "  76317 32221        0.0796    12        0.0816        0.0794   521437    2.60%          rho_15 D  76317  76316     74\n",
      "  77616 32774        0.0816     9        0.0816        0.0794   531480    2.60%           rho_6 N  77616  77614     33\n",
      "  78803 33378        0.0794    15        0.0816        0.0794   540411    2.60%           rho_0 D  78803  78801     49\n",
      "  80029 33998        0.0798    11        0.0816        0.0794   549064    2.60%          rho_11 D  80029  80027     32\n",
      "  81356 34556        0.0813     6        0.0816        0.0794   556448    2.60%          rho_21 D  81356  81354     60\n",
      "  82580 35093        0.0814     3        0.0816        0.0794   564651    2.60%           rho_5 D  82580  82579     27\n",
      "  83541 35745        0.0806     7        0.0816        0.0794   575047    2.60%          rho_12 D  83541  83539     45\n",
      "  84430 36272        0.0803     7        0.0816        0.0794   583818    2.60%           rho_6 D  84430  84428     28\n",
      "* 84971 36248      integral     0        0.0815        0.0794   587950    2.54%\n",
      "  85421 36563        0.0794    15        0.0815        0.0794   591938    2.54%          rho_15 U  85421  85147     35\n",
      "  86450 37339        0.0798    11        0.0815        0.0794   600506    2.54%          rho_22 D  86450  86449     68\n",
      "Elapsed time = 50.50 sec. (59642.62 ticks, tree = 14.23 MB, solutions = 5)\n",
      "  87487 38136        0.0802    13        0.0815        0.0794   609024    2.54%          rho_15 N  87487  87486     46\n",
      "  88553 38630        0.0812     3        0.0815        0.0794   615883    2.54%           rho_2 D  88553  88551     27\n",
      "  89547 39057        0.0812     7        0.0815        0.0794   623547    2.54%          rho_12 U  89547  89546     31\n",
      "* 90518 39478      integral     0        0.0815        0.0794   630516    2.52%          rho_21 D  90518  90516     99\n",
      "* 90536 39028      integral     0        0.0814        0.0794   630605    2.45%          rho_25 D  90536  90534     41\n",
      "  91539 39531        0.0794    14        0.0814        0.0794   637210    2.45%          rho_15 U  91539  91519     36\n",
      "  92509 39999        0.0794    11        0.0814        0.0794   644983    2.45%           rho_0 U  92509  92508     37\n",
      "  93509 40477        0.0806    15        0.0814        0.0794   652594    2.45%          rho_16 N  93509  93508     28\n",
      "  94815 40896        0.0811     5        0.0814        0.0794   660600    2.45%          rho_13 D  94815  94814     47\n",
      "  96288 41335        0.0811     5        0.0814        0.0794   669294    2.45%          rho_22 D  96288  96286     74\n",
      "Elapsed time = 56.97 sec. (68204.75 ticks, tree = 15.56 MB, solutions = 7)\n",
      "  97720 41737        0.0806     9        0.0814        0.0794   677948    2.45%          rho_12 D  97720  97718     80\n",
      "  99168 42157        cutoff              0.0814        0.0794   686601    2.45%          rho_24 D  99168  99167     75\n",
      " 100601 42558        0.0806    11        0.0814        0.0794   695089    2.45%           rho_6 D 100601 100600     43\n",
      " 101878 43114        0.0809    17        0.0814        0.0794   704514    2.45%           rho_0 D 101878 101877     57\n",
      " 103063 43728        0.0804    17        0.0814        0.0794   713176    2.45%           rho_4 N 103063 103062     11\n",
      " 104210 44226        0.0803     7        0.0814        0.0794   721430    2.45%           rho_6 U 104210 104209     38\n",
      " 105412 44510        cutoff              0.0814        0.0794   728860    2.45%          rho_24 D 105412 105411     67\n",
      " 106584 45047        cutoff              0.0814        0.0794   737104    2.45%          rho_10 U 106584 106583     34\n",
      " 107750 45446        0.0794    16        0.0814        0.0794   744981    2.45%           rho_0 D 107750 107725     21\n",
      " 109110 45953        0.0794    11        0.0814        0.0794   751950    2.45%          rho_15 U 109110 108920     46\n",
      "Elapsed time = 63.52 sec. (77749.70 ticks, tree = 17.08 MB, solutions = 7)\n",
      " 110374 46390        0.0810     5        0.0814        0.0794   759454    2.45%          rho_11 D 110374 110372     39\n",
      " 111662 46831        0.0803     7        0.0814        0.0794   767734    2.45%           rho_2 D 111662 111661     55\n",
      " 112885 47119        0.0810     3        0.0814        0.0794   775573    2.45%           rho_2 U 112885 112883     42\n",
      " 114162 47495        0.0803     8        0.0814        0.0794   783249    2.45%          rho_16 U 114162 114161     26\n",
      " 115330 47949        0.0796    16        0.0814        0.0794   791399    2.45%           rho_0 D 115330 115328     44\n",
      " 116706 48817        0.0794    15        0.0814        0.0794   799234    2.45%           rho_0 D 116706 116704     65\n",
      " 117946 49789        0.0794    15        0.0814        0.0794   807907    2.45%           rho_0 D 117946 117932     41\n",
      " 118906 50381        cutoff              0.0814        0.0794   815255    2.45%           rho_5 U 118906 118905     24\n",
      " 119839 50807        0.0798    14        0.0814        0.0794   823001    2.45%          rho_22 D 119839 119838     81\n",
      " 124595 52616        0.0814     3        0.0814        0.0794   857167    2.45%           rho_5 D 124595 124594     47\n",
      "Elapsed time = 72.30 sec. (90152.42 ticks, tree = 19.27 MB, solutions = 7)\n",
      " 128916 55219        0.0794    15        0.0814        0.0794   890390    2.45%          rho_15 U 128916 128914     78\n",
      " 132370 57598        0.0798    15        0.0814        0.0794   926248    2.45%          rho_22 D 132370 132369     42\n",
      " 135884 59804        0.0805    10        0.0814        0.0794   961376    2.45%           rho_4 U 135884 134458     17\n",
      " 139220 61722        0.0813     5        0.0814        0.0794   998008    2.45%          rho_12 U 139220 139219     23\n",
      " 143078 63486        0.0805    11        0.0814        0.0794  1026341    2.45%          rho_11 D 143078 143076     37\n",
      " 148051 65813        cutoff              0.0814        0.0794  1063229    2.45%          rho_21 U 148051 148049     26\n",
      " 152887 68320        0.0810     3        0.0814        0.0794  1096375    2.45%          rho_10 D 152887 152885     42\n",
      " 156347 70733        0.0794    12        0.0814        0.0794  1132286    2.45%          rho_15 U 156347 156345     65\n",
      " 160010 73151        0.0811     7        0.0814        0.0794  1164990    2.45%          rho_22 D 160010 160009     17\n",
      " 163417 75567        0.0794    17        0.0814        0.0794  1199098    2.45%          rho_15 U 163417 163415     60\n",
      "Elapsed time = 101.80 sec. (128307.69 ticks, tree = 29.81 MB, solutions = 7)\n",
      " 166923 77797        0.0804     8        0.0814        0.0794  1231039    2.45%           rho_8 D 166923 166921     21\n",
      " 170671 79879        0.0796    14        0.0814        0.0794  1260985    2.45%           rho_0 U 170671 170670     28\n",
      " 174570 81959        0.0800    17        0.0814        0.0794  1288310    2.45%          rho_16 U 174570 174569     16\n",
      " 178252 84078        0.0796    17        0.0814        0.0794  1317403    2.45%           rho_7 U 178252 178251     18\n",
      " 181567 85825        0.0795    15        0.0814        0.0794  1349361    2.45%          rho_16 D 181567 181534     29\n",
      " 185394 87915        0.0809     7        0.0814        0.0794  1376130    2.45%          rho_10 D 185394 185393     42\n"
     ]
    },
    {
     "name": "stdout",
     "output_type": "stream",
     "text": [
      " 189664 90168        0.0805     3        0.0814        0.0794  1400649    2.45%          rho_21 D 189664 189662     42\n",
      " 193590 92376        0.0794    19        0.0814        0.0794  1429145    2.45%           rho_0 D 193590 193588     45\n",
      " 197428 94278        0.0807    13        0.0814        0.0794  1456354    2.45%           rho_4 N 197428 163055     32\n",
      " 201729 96135        0.0794    19        0.0814        0.0794  1489491    2.45%           rho_0 D 201729 201727     65\n",
      "Elapsed time = 129.56 sec. (166466.82 ticks, tree = 36.78 MB, solutions = 7)\n",
      " 206249 98048        0.0801     9        0.0814        0.0794  1524633    2.45%          rho_12 N 206249 206248     73\n",
      " 211555 100744        cutoff              0.0814        0.0794  1557416    2.45%           rho_5 U 211555 211554     66\n",
      " 216564 103065        0.0808    11        0.0814        0.0794  1591053    2.45%           rho_5 D 216564 216562     38\n",
      " 220704 105505        0.0794    18        0.0814        0.0794  1629141    2.45%           rho_0 D 220704 220690     34\n",
      " 223880 107846        0.0808     9        0.0814        0.0794  1666636    2.45%          rho_11 D 223880 223878     82\n",
      " 227475 109824        0.0813     8        0.0814        0.0794  1695952    2.45%           rho_5 D 227475 227474     73\n",
      " 231155 111838        cutoff              0.0814        0.0794  1724435    2.45%           rho_5 U 231155 231154     52\n",
      " 235204 114116        0.0794    22        0.0814        0.0794  1747619    2.45%           rho_0 D 235204 235202     52\n",
      " 238229 116055        0.0798    17        0.0814        0.0794  1783197    2.45%           rho_2 D 238229 238228     78\n",
      " 242600 118103        0.0808     7        0.0814        0.0794  1806569    2.45%          rho_11 U 242600 242599     50\n",
      "Elapsed time = 156.73 sec. (204619.76 ticks, tree = 44.21 MB, solutions = 7)\n",
      " 246909 120316        0.0795    16        0.0814        0.0794  1829248    2.45%          rho_15 D 246909 246908     52\n",
      " 251167 122787        0.0801    16        0.0814        0.0794  1849624    2.45%          rho_15 D 251167 251166     44\n",
      " 255520 124947        0.0808    10        0.0814        0.0794  1871926    2.45%           rho_3 U 255520 255519     72\n",
      " 259807 127306        0.0809     6        0.0814        0.0795  1893404    2.44%          rho_21 D 259807 259806     49\n",
      " 265473 129726        0.0795    19        0.0814        0.0795  1918793    2.44%           rho_0 D 265473 265471     43\n",
      " 270749 132024        0.0795    19        0.0814        0.0795  1942916    2.43%          rho_15 U 270749 270744     40\n",
      " 275505 134851        0.0795    20        0.0814        0.0795  1967896    2.43%           rho_0 D 275505 275503     41\n",
      " 279578 137043        0.0807    12        0.0814        0.0795  1992891    2.43%           rho_6 U 279578 279577     56\n",
      " 283803 139552        cutoff              0.0814        0.0795  2015654    2.43%          rho_21 U 283803 283802     84\n",
      " 287900 141853        0.0805     7        0.0814        0.0795  2036687    2.43%           rho_3 D 287900 287898     26\n",
      "Elapsed time = 182.31 sec. (242774.85 ticks, tree = 55.25 MB, solutions = 7)\n",
      " 292473 143661        0.0799     8        0.0814        0.0795  2062087    2.43%          rho_12 D 292473 292471     68\n",
      " 297807 146365        0.0806    13        0.0814        0.0795  2084738    2.43%           rho_6 N 297807 297806     37\n",
      " 301613 148655        0.0795    10        0.0814        0.0795  2105837    2.43%           rho_8 D 301613 301612     39\n",
      " 305692 150673        0.0809     7        0.0814        0.0795  2126607    2.42%          rho_12 D 305692 305691     66\n",
      " 311325 152679        0.0810     3        0.0814        0.0795  2147839    2.42%           rho_0 N 311325 311324     63\n",
      " 316995 155179        0.0800    14        0.0814        0.0795  2172515    2.42%          rho_22 D 316995 316994     58\n",
      " 322261 157495        cutoff              0.0814        0.0795  2198082    2.41%          rho_21 D 322261 322260     35\n",
      "\n",
      "Implied bound cuts applied:  1\n",
      "Gomory fractional cuts applied:  1\n",
      "User cuts applied:  1141\n",
      "\n",
      "Root node processing (before b&c):\n",
      "  Real time             =    0.09 sec. (1.79 ticks)\n",
      "Sequential b&c:\n",
      "  Real time             =  199.92 sec. (269567.03 ticks)\n",
      "                          ------------\n",
      "Total (root+branch&cut) =  200.02 sec. (269568.82 ticks)\n",
      "+-----------------------------------------------+------------------+-----------+\n",
      "| Pr(Y = +1) = 1.0/(1.0 + exp(-(-16 + score))   |                  |           |\n",
      "| ============================================= | ================ | ========= |\n",
      "| p_arrest>=1                                   |         9 points |   + ..... |\n",
      "| p_property>=1                                 |         2 points |   + ..... |\n",
      "| age_at_current_charge<=19                     |         1 points |   + ..... |\n",
      "| age_at_current_charge<=46                     |         1 points |   + ..... |\n",
      "| p_arrest>=2                                   |         1 points |   + ..... |\n",
      "| p_arrest>=6                                   |         1 points |   + ..... |\n",
      "| p_charges>=1                                  |         1 points |   + ..... |\n",
      "| ============================================= | ================ | ========= |\n",
      "| ADD POINTS FROM ROWS 1 to 7                   |            SCORE |   = ..... |\n",
      "+-----------------------------------------------+------------------+-----------+\n",
      "model_id, score_thresholds 0 {'rank_abs': [0]}\n",
      "get_disparity_predefined_group()\n",
      "setting c0 = 0.0 to ensure that intercept is not penalized\n",
      "09/11/19 @ 11:08 AM | 1101 rows in lookup table\n",
      "09/11/19 @ 11:08 AM | ------------------------------------------------------------\n",
      "09/11/19 @ 11:08 AM | runnning initialization procedure\n",
      "09/11/19 @ 11:08 AM | ------------------------------------------------------------\n",
      "09/11/19 @ 11:08 AM | CPA produced 2 cuts\n",
      "09/11/19 @ 11:08 AM | running naive rounding on 112 solutions\n",
      "09/11/19 @ 11:08 AM | best objective value: 0.0804\n",
      "09/11/19 @ 11:08 AM | rounding produced 5 integer solutions\n",
      "09/11/19 @ 11:08 AM | best objective value is 0.0868\n",
      "09/11/19 @ 11:08 AM | running sequential rounding on 112 solutions\n",
      "09/11/19 @ 11:08 AM | best objective value: 0.0804\n",
      "09/11/19 @ 11:08 AM | sequential rounding produced 6 integer solutions\n",
      "09/11/19 @ 11:08 AM | best objective value: 0.0820\n",
      "09/11/19 @ 11:08 AM | polishing 11 solutions\n",
      "09/11/19 @ 11:08 AM | best objective value: 0.0820\n",
      "09/11/19 @ 11:08 AM | polishing produced 5 integer solutions\n",
      "09/11/19 @ 11:08 AM | initialization produced 15 feasible solutions\n",
      "09/11/19 @ 11:08 AM | best objective value: 0.0819\n",
      "09/11/19 @ 11:08 AM | ------------------------------------------------------------\n",
      "09/11/19 @ 11:08 AM | completed initialization procedure\n",
      "09/11/19 @ 11:08 AM | ------------------------------------------------------------\n",
      "09/11/19 @ 11:08 AM | 1101 rows in lookup table\n",
      "CPXPARAM_Read_DataCheck                          1\n",
      "CPXPARAM_Threads                                 1\n",
      "CPXPARAM_Parallel                                1\n",
      "CPXPARAM_RandomSeed                              0\n",
      "CPXPARAM_TimeLimit                               200\n",
      "CPXPARAM_MIP_Tolerances_LowerCutoff              0.079805142725771244\n",
      "CPXPARAM_MIP_Tolerances_UpperCutoff              0.081927940311370087\n"
     ]
    },
    {
     "name": "stderr",
     "output_type": "stream",
     "text": [
      "Warning: Control callbacks may disable some MIP features.\n"
     ]
    },
    {
     "name": "stdout",
     "output_type": "stream",
     "text": [
      "Lazy constraint(s) or lazy constraint callback is present.\n",
      "    Disabling dual reductions (CPX_PARAM_REDUCE) in presolve.\n",
      "    Disabling non-linear reductions (CPX_PARAM_PRELINEAR) in presolve.\n",
      "         Disabling repeat represolve because of lazy constraint/incumbent callback.\n",
      "09/11/19 @ 11:08 AM | adding 251 initial cuts\n",
      "1 of 1 MIP starts provided solutions.\n",
      "MIP start 'mip_start_0' defined initial solution with objective 0.0819.\n",
      "Tried aggregator 1 time.\n",
      "Reduced MIP has 27 rows, 54 columns, and 103 nonzeros.\n",
      "Reduced MIP has 25 binaries, 27 generals, 0 SOSs, and 0 indicators.\n",
      "Presolve time = 0.00 sec. (0.06 ticks)\n",
      "Probing time = 0.00 sec. (0.02 ticks)\n",
      "MIP emphasis: balance optimality and feasibility.\n",
      "MIP search method: traditional branch-and-cut.\n",
      "Parallel mode: none, using 1 thread.\n",
      "Root relaxation solution time = 0.00 sec. (0.03 ticks)\n",
      "\n",
      "        Nodes                                         Cuts/\n",
      "   Node  Left     Objective  IInf  Best Integer    Best Bound    ItCnt     Gap         Variable B NodeID Parent  Depth\n",
      "\n",
      "*     0+    0                            0.0819        0.0797             2.71%\n",
      "      0     0        0.0798     1        0.0819        0.0798        1    2.59%\n",
      "      0     2        0.0798     2        0.0819        0.0798        1    2.59%                        0             0\n",
      "Elapsed time = 0.11 sec. (1.31 ticks, tree = 0.01 MB, solutions = 1)\n",
      "*  1380   576      integral     0        0.0819        0.0798     4502    2.59%           rho_4 D   1380   1379     36\n",
      "   2716  1066        cutoff              0.0819        0.0798    10535    2.59%           rho_1 U   2716    944     22\n",
      "   3730  1376        0.0817     3        0.0819        0.0798    15499    2.59%          rho_21 D   3730   3729     34\n",
      "   4622  1642        cutoff              0.0819        0.0798    19810    2.59%           rho_1 U   4622    357     30\n",
      "   5480  1926        0.0819     1        0.0819        0.0798    23499    2.59%           rho_0 D   5480   5479     57\n",
      "   6300  2164        0.0799     7        0.0819        0.0798    26988    2.59%          rho_16 U   6300    923     25\n",
      "   6981  2436        cutoff              0.0819        0.0798    30479    2.59%           rho_6 U   6981   6979     30\n",
      "   7666  2669        0.0802     9        0.0819        0.0798    33732    2.59%           rho_7 D   7666   7663     27\n",
      "   8330  2921        0.0801    10        0.0819        0.0798    36548    2.59%          rho_14 U   8330   8157     25\n",
      "  10860  3807        0.0813     5        0.0819        0.0798    48836    2.59%          rho_14 D  10860  10859     28\n",
      "Elapsed time = 4.11 sec. (2980.79 ticks, tree = 1.13 MB, solutions = 2)\n",
      "  13260  4767        0.0813     6        0.0819        0.0798    59357    2.59%           rho_6 U  13260  13259     32\n",
      "  15495  5630        0.0807     7        0.0819        0.0798    69402    2.59%           rho_0 U  15495  15494     35\n",
      "  17668  6594        0.0814     3        0.0819        0.0798    80589    2.59%           rho_6 D  17668  17666     26\n",
      "  19581  7388        0.0806     7        0.0819        0.0798    90735    2.59%          rho_15 U  19581  19579     52\n",
      "* 20086  7498      integral     0        0.0819        0.0798    93612    2.51%\n",
      "  21502  8132        0.0810     9        0.0819        0.0798    99982    2.51%           rho_0 U  21502  21500     58\n",
      "  23469  8982        0.0804     8        0.0819        0.0798   109135    2.51%          rho_10 U  23469  23358     26\n",
      "  25329  9691        0.0799    13        0.0819        0.0798   118519    2.51%          rho_16 U  25329  25328     18\n",
      "  27158 10414        0.0809     6        0.0819        0.0798   126687    2.51%           rho_6 D  27158  27157     29\n",
      "  28956 11078        0.0801     8        0.0819        0.0798   135227    2.51%          rho_11 D  28956  28955     32\n",
      "  30777 11897        0.0798    15        0.0819        0.0798   143371    2.51%          rho_10 D  30777  30766     23\n",
      "Elapsed time = 11.20 sec. (12521.70 ticks, tree = 4.00 MB, solutions = 3)\n",
      "  32506 12607        0.0804    15        0.0819        0.0798   151607    2.51%           rho_1 U  32506  19901     23\n",
      "  34150 13427        0.0814     9        0.0819        0.0798   160537    2.51%          rho_22 D  34150  34147     31\n",
      "  35652 14126        0.0800     7        0.0819        0.0798   169355    2.51%           rho_0 D  35652  35650     42\n",
      "  37632 14899        0.0817     3        0.0819        0.0798   175642    2.49%           rho_5 U  37632  37631     31\n",
      "  39542 15674        0.0798     4        0.0819        0.0798   181638    2.49%          rho_15 U  39542  39540     60\n",
      "  41444 16405        cutoff              0.0819        0.0798   187685    2.49%           rho_4 U  41444  41443     83\n",
      "  43326 17095        0.0798     4        0.0819        0.0798   193991    2.48%           rho_0 D  43326  43324     41\n",
      "  45131 17758        0.0798     5        0.0819        0.0798   199931    2.48%           rho_0 D  45131  45129     81\n",
      "  46966 18437        0.0798     5        0.0819        0.0798   206506    2.47%           rho_0 D  46966  46964     74\n",
      "  48800 19232        0.0816     7        0.0819        0.0798   212986    2.47%          rho_24 D  48800  48798     82\n",
      "Elapsed time = 16.80 sec. (22063.11 ticks, tree = 6.97 MB, solutions = 3)\n",
      "  50616 19870        0.0816     6        0.0819        0.0798   219936    2.46%           rho_0 D  50616  50614     34\n",
      "  52406 20612        0.0803    10        0.0819        0.0799   227185    2.46%          rho_11 D  52406  52405     45\n",
      "  54269 21488        0.0818     1        0.0819        0.0799   234335    2.44%          rho_15 U  54269  54268     28\n",
      "  56305 22889        0.0799     7        0.0819        0.0799   240630    2.44%          rho_15 U  56305  56271     44\n",
      "  58025 24101        0.0819     6        0.0819        0.0799   245951    2.44%           rho_5 N  58025  58023     64\n",
      "  59707 25065        0.0800    11        0.0819        0.0799   251434    2.43%           rho_0 U  59707  59705     58\n",
      "  61203 25657        0.0799     6        0.0819        0.0799   257579    2.43%          rho_15 U  61203  61201     81\n",
      "  62981 26271        0.0799    11        0.0819        0.0799   264602    2.42%          rho_15 U  62981  62979     32\n",
      "  64795 26986        0.0812     9        0.0819        0.0799   272198    2.42%           rho_5 D  64795  64794     39\n",
      "  66938 27834        0.0805    11        0.0819        0.0799   280063    2.41%          rho_15 D  66938  66937     81\n",
      "Elapsed time = 22.02 sec. (31602.15 ticks, tree = 9.65 MB, solutions = 3)\n",
      "  68920 28566        0.0799     4        0.0819        0.0799   287247    2.40%          rho_15 U  68920  68918     88\n",
      "  70771 29441        0.0813     7        0.0819        0.0799   293428    2.39%          rho_24 D  70771  70769     44\n",
      "  72654 30102        0.0815     7        0.0819        0.0799   299520    2.39%           rho_5 D  72654  72652    109\n",
      "  74498 30820        0.0800    13        0.0819        0.0799   305606    2.38%           rho_0 D  74498  26412     23\n",
      "  76320 31544        0.0806     9        0.0819        0.0799   311783    2.37%           rho_0 D  76320  76318    112\n",
      "  78259 32161        0.0816     5        0.0819        0.0799   317761    2.37%          rho_24 D  78259  78257     53\n",
      "  80222 32908        0.0802     8        0.0819        0.0799   323729    2.35%           rho_0 D  80222  80220     89\n",
      "  82066 33557        0.0800    11        0.0819        0.0799   329063    2.35%           rho_7 D  82066  78721     42\n",
      "  83780 34251        0.0811     8        0.0819        0.0800   335216    2.34%           rho_7 D  83780  83779     27\n",
      "  85503 34859        0.0816     1        0.0819        0.0800   342558    2.33%          rho_15 U  85503  85501     30\n",
      "Elapsed time = 27.42 sec. (41145.21 ticks, tree = 13.27 MB, solutions = 3)\n",
      "  87351 35407        0.0800     7        0.0819        0.0800   348527    2.32%           rho_0 D  87351  87349     62\n",
      "  89117 36053        0.0803     8        0.0819        0.0800   354916    2.32%          rho_11 D  89117  89116     88\n",
      "  90768 36734        cutoff              0.0819        0.0800   362836    2.32%           rho_0 U  90768  90767     55\n"
     ]
    },
    {
     "name": "stdout",
     "output_type": "stream",
     "text": [
      "  92506 37310        0.0816     5        0.0819        0.0800   370271    2.31%          rho_15 U  92506  92504     45\n",
      "  94162 38013        cutoff              0.0819        0.0800   375931    2.30%          rho_15 U  94162  94161     41\n",
      "  95961 38774        0.0801     8        0.0819        0.0800   381504    2.29%           rho_0 D  95961  95959     70\n",
      "  97744 39394        cutoff              0.0819        0.0800   387276    2.28%           rho_0 U  97744  97743     70\n",
      "  99414 40044        0.0803    12        0.0819        0.0800   392737    2.27%           rho_6 D  99414  99413     84\n",
      " 100930 40406        0.0803    12        0.0819        0.0800   398493    2.27%           rho_6 D 100930 100929     84\n",
      " 102433 40810        0.0800    15        0.0819        0.0800   404480    2.26%           rho_8 U 102433 102006     28\n",
      "Elapsed time = 32.75 sec. (50686.06 ticks, tree = 15.19 MB, solutions = 3)\n",
      " 104052 41754        0.0814     5        0.0819        0.0800   410266    2.26%           rho_4 D 104052 104050     73\n",
      " 105672 42418        0.0800    11        0.0819        0.0800   416237    2.25%           rho_0 D 105672 105670     67\n",
      " 107271 43471        0.0807    10        0.0819        0.0800   421956    2.25%          rho_22 D 107271 107269     35\n",
      " 108970 43971        0.0800     6        0.0819        0.0800   427008    2.25%          rho_15 U 108970 108968     48\n",
      " 110523 44362        0.0809     1        0.0819        0.0800   432628    2.24%           rho_6 U 110523 110522     65\n",
      " 111978 44676        0.0800     9        0.0819        0.0800   438612    2.24%          rho_15 U 111978 111976     50\n",
      " 113622 45373        cutoff              0.0819        0.0800   444722    2.24%          rho_21 U 113622 113621     68\n",
      " 115164 45768        0.0814     5        0.0819        0.0800   451226    2.24%          rho_21 D 115164 115162     60\n",
      " 116707 46171        0.0809     6        0.0819        0.0800   457719    2.24%           rho_8 D 116707 116706     33\n",
      " 118385 46757        0.0807    10        0.0819        0.0800   463559    2.24%           rho_6 D 118385 118384     65\n",
      "Elapsed time = 37.73 sec. (60225.94 ticks, tree = 17.13 MB, solutions = 3)\n",
      " 119951 47398        0.0814     7        0.0819        0.0800   469769    2.23%          rho_21 D 119951 119949     67\n",
      " 121521 47696        0.0818     5        0.0819        0.0800   475059    2.23%           rho_4 U 121521 121519     65\n",
      " 123106 48029        0.0807     9        0.0819        0.0800   480474    2.23%           rho_9 D 123106 123105     71\n",
      " 124702 48325        cutoff              0.0819        0.0800   485732    2.23%           rho_6 U 124702 124701     70\n",
      " 126280 48633        0.0800     5        0.0819        0.0800   491062    2.23%          rho_15 U 126280 126216     84\n",
      " 127831 48926        0.0811     6        0.0819        0.0800   496274    2.23%           rho_4 D 127831 127829     96\n",
      " 129430 49300        cutoff              0.0819        0.0800   501555    2.23%           rho_4 D 129430 129428     85\n",
      " 130900 49563        0.0800     6        0.0819        0.0800   508394    2.23%           rho_0 D 130900 130898     69\n",
      " 132505 50068        cutoff              0.0819        0.0800   514490    2.23%           rho_6 D 132505 132502     54\n",
      " 134077 50709        0.0805     8        0.0819        0.0800   520532    2.23%          rho_22 D 134077 134075     72\n",
      "Elapsed time = 42.14 sec. (69768.56 ticks, tree = 18.41 MB, solutions = 3)\n",
      " 135760 51315        0.0800    15        0.0819        0.0800   526712    2.23%           rho_0 D 135760 135683     80\n",
      " 137428 51906        0.0818     5        0.0819        0.0800   532870    2.23%          rho_21 D 137428 137427     71\n",
      " 139106 52512        0.0814     5        0.0819        0.0800   539012    2.23%          rho_12 U 139106 139105     69\n",
      " 140805 53194        cutoff              0.0819        0.0800   544275    2.23%          rho_21 U 140805 140804     74\n",
      " 142497 53869        0.0800     7        0.0819        0.0800   548872    2.23%          rho_15 U 142497 142493     38\n",
      " 144167 54389        0.0814     8        0.0819        0.0800   555129    2.23%           rho_4 D 144167 144165     74\n",
      " 145846 54902        0.0818     7        0.0819        0.0800   561537    2.23%          rho_11 U 145846 145845     91\n",
      " 147418 55288        cutoff              0.0819        0.0800   567699    2.23%          rho_24 U 147418 147416     75\n",
      " 148955 55626        0.0804     9        0.0819        0.0800   573787    2.23%          rho_15 D 148955 148953     59\n",
      " 150497 55991        cutoff              0.0819        0.0800   579924    2.23%           rho_4 U 150497 150495     31\n",
      "Elapsed time = 46.63 sec. (79307.81 ticks, tree = 20.12 MB, solutions = 3)\n",
      " 152067 56566        0.0815     9        0.0819        0.0800   585997    2.23%          rho_12 D 152067 152065     53\n",
      " 153650 57133        0.0806    11        0.0819        0.0800   592106    2.23%          rho_12 D 153650 153649     56\n",
      " 155230 57698        0.0806     8        0.0819        0.0800   598240    2.23%           rho_4 D 155230 155229     55\n",
      " 156829 58279        0.0810     7        0.0819        0.0800   604418    2.23%           rho_1 D 156829 156828     67\n",
      " 158458 58861        0.0803     7        0.0819        0.0800   610232    2.22%           rho_0 D 158458 158456     95\n",
      " 159972 59357        cutoff              0.0819        0.0800   616224    2.22%           rho_0 U 159972 159971     57\n",
      " 161514 59939        0.0809     8        0.0819        0.0800   622402    2.22%          rho_13 D 161514 161512     38\n",
      " 163095 60626        cutoff              0.0819        0.0800   628378    2.22%           rho_8 U 163095 163094     60\n",
      " 164659 61197        cutoff              0.0819        0.0800   633793    2.22%           rho_6 U 164659 164658     69\n",
      " 170910 63497        0.0806     7        0.0819        0.0800   654158    2.22%           rho_0 D 170910 170909    102\n",
      "Elapsed time = 52.56 sec. (91710.79 ticks, tree = 22.55 MB, solutions = 3)\n",
      " 177057 66466        0.0810     5        0.0819        0.0801   677117    2.21%           rho_8 D 177057 177056     44\n",
      " 183454 68616        cutoff              0.0819        0.0801   698649    2.21%           rho_0 U 183454 183453     95\n",
      " 189790 71150        cutoff              0.0819        0.0801   720389    2.20%          rho_24 D 189790 189788     52\n",
      " 195760 73546        0.0814     5        0.0819        0.0801   741884    2.20%          rho_21 D 195760 195758     66\n",
      " 202338 76164        0.0803     8        0.0819        0.0801   762756    2.20%           rho_0 D 202338 202336     70\n",
      " 209338 79471        0.0805    10        0.0819        0.0801   783361    2.19%          rho_16 D 209338 209337     81\n",
      " 216021 82149        cutoff              0.0819        0.0801   806740    2.18%          rho_12 U 216021 216020     50\n",
      " 222017 85374        0.0808     7        0.0819        0.0801   826548    2.18%           rho_0 D 222017 222015     40\n",
      " 228452 87073        0.0804    17        0.0819        0.0801   848829    2.18%           rho_0 D 228452  83788     25\n",
      " 235160 89834        0.0811     5        0.0819        0.0801   870991    2.17%          rho_14 D 235160 235158     72\n",
      "Elapsed time = 73.67 sec. (129861.67 ticks, tree = 33.98 MB, solutions = 3)\n",
      " 241400 92046        0.0803     6        0.0819        0.0801   894044    2.17%           rho_0 U 241400 241399     47\n",
      " 247973 94323        0.0801    11        0.0819        0.0801   915343    2.17%          rho_15 U 247973 247965    104\n",
      " 254509 97233        cutoff              0.0819        0.0801   935577    2.16%           rho_5 U 254509 254508     96\n",
      " 260654 100601        0.0801    11        0.0819        0.0801   956935    2.16%          rho_15 U 260654 260652     71\n",
      " 267724 103001        0.0801     4        0.0819        0.0801   983261    2.16%          rho_15 U 267724 267722    104\n",
      " 274327 106185        0.0813     8        0.0819        0.0801  1004979    2.16%          rho_16 D 274327 274326     78\n",
      " 280621 108475        0.0816     5        0.0819        0.0801  1027441    2.16%           rho_6 D 280621 280619     67\n",
      " 287060 111535        cutoff              0.0819        0.0801  1049911    2.15%           rho_8 U 287060 287059     51\n"
     ]
    },
    {
     "name": "stdout",
     "output_type": "stream",
     "text": [
      " 293710 113095        cutoff              0.0819        0.0801  1075437    2.15%          rho_24 U 293710 293708     56\n",
      " 299935 114710        0.0807     9        0.0819        0.0801  1097597    2.15%          rho_22 D 299935 299933     69\n",
      "Elapsed time = 90.75 sec. (168012.41 ticks, tree = 42.18 MB, solutions = 3)\n",
      " 306600 117545        0.0812     8        0.0819        0.0801  1118162    2.15%           rho_1 D 306600 306599     69\n",
      " 313048 121021        0.0801    10        0.0819        0.0801  1135984    2.15%          rho_15 U 313048 313046     45\n",
      " 319755 124144        0.0814     7        0.0819        0.0801  1158917    2.15%          rho_22 D 319755 319753     85\n",
      " 326131 127107        0.0812     7        0.0819        0.0801  1182128    2.14%           rho_7 D 326131 326130     67\n",
      " 331937 129758        cutoff              0.0819        0.0801  1203483    2.14%           rho_0 U 331937 331936     54\n",
      " 338966 132606        0.0801     7        0.0819        0.0801  1225358    2.14%          rho_15 D 338966 338965     64\n",
      " 345721 135361        0.0817     5        0.0819        0.0801  1246520    2.14%          rho_16 U 345721 345719     75\n",
      " 352400 138248        0.0801     8        0.0819        0.0801  1266946    2.13%           rho_0 D 352400 352398     69\n",
      " 358737 141377        0.0802     9        0.0819        0.0801  1287415    2.13%           rho_0 D 358737 292761     74\n",
      " 364865 143729        cutoff              0.0819        0.0801  1310452    2.13%           rho_0 U 364865 364864     61\n",
      "Elapsed time = 107.41 sec. (206162.47 ticks, tree = 54.67 MB, solutions = 3)\n",
      " 370855 146905        0.0805     5        0.0819        0.0801  1331503    2.13%           rho_0 U 370855 370854     54\n",
      " 377389 149789        0.0813     5        0.0819        0.0801  1352525    2.13%          rho_13 U 377389 377387     73\n",
      " 383600 152954        0.0813     6        0.0819        0.0801  1378271    2.13%          rho_21 D 383600 383599     72\n",
      " 390050 155229        0.0809    10        0.0819        0.0801  1400163    2.12%          rho_16 D 390050 390049    104\n",
      " 396063 156267        0.0808     7        0.0819        0.0801  1422842    2.12%           rho_5 D 396063 396061     73\n",
      " 402161 158188        0.0801     6        0.0819        0.0801  1445013    2.12%          rho_15 U 402161 402159     74\n",
      " 408116 161738        0.0817     5        0.0819        0.0801  1465596    2.12%          rho_21 D 408116 408115     60\n",
      " 414756 163643        cutoff              0.0819        0.0801  1487799    2.12%          rho_15 U 414756 414755     45\n",
      " 421311 166816        0.0817     4        0.0819        0.0801  1513070    2.12%          rho_13 D 421311 421309     90\n",
      " 427530 169375        0.0818     7        0.0819        0.0801  1536338    2.12%           rho_5 D 427530 427528     48\n",
      "Elapsed time = 126.75 sec. (244316.32 ticks, tree = 64.70 MB, solutions = 3)\n",
      " 433220 170895        0.0811     9        0.0819        0.0801  1558945    2.11%           rho_5 D 433220 433218     44\n",
      " 438775 171812        0.0804     8        0.0819        0.0801  1582867    2.11%          rho_13 U 438775 438773     97\n",
      " 444890 174462        0.0816     5        0.0819        0.0801  1605890    2.11%          rho_21 D 444890 444887     63\n",
      " 451907 177670        0.0812    13        0.0819        0.0801  1628854    2.11%          rho_15 U 451907 451905     48\n",
      " 457864 180574        0.0806     7        0.0819        0.0801  1650578    2.11%           rho_0 U 457864 457862     59\n",
      " 463687 184064        0.0809     6        0.0819        0.0801  1671375    2.11%           rho_6 D 463687 463686    101\n",
      " 469381 186567        cutoff              0.0819        0.0801  1691556    2.11%           rho_0 U 469381 469380     52\n",
      " 475810 188639        0.0806     8        0.0819        0.0801  1718544    2.10%           rho_0 D 475810 475809     64\n",
      " 481600 190132        0.0806     6        0.0819        0.0801  1744089    2.10%           rho_0 D 481600 481598     71\n",
      " 487791 192049        0.0802     9        0.0819        0.0801  1768143    2.10%          rho_15 D 487791 487790     80\n",
      "Elapsed time = 143.59 sec. (282471.23 ticks, tree = 74.19 MB, solutions = 3)\n",
      " 494084 195245        0.0808     6        0.0819        0.0801  1790674    2.10%           rho_7 D 494084 494082     69\n",
      " 500317 196807        0.0805     9        0.0819        0.0801  1811976    2.10%          rho_15 U 500317 500316     68\n",
      " 506280 200127        0.0809     9        0.0819        0.0801  1835150    2.10%           rho_6 U 506280 506279     66\n",
      " 511540 203429        0.0806    10        0.0819        0.0801  1855622    2.10%          rho_15 D 511540 511539     74\n",
      " 517206 204841        0.0805    11        0.0819        0.0802  1876855    2.09%           rho_0 D 517206 517204    105\n",
      " 523425 207454        0.0812    11        0.0819        0.0802  1908711    2.09%           rho_5 D 523425 523424     95\n",
      " 529760 209320        0.0806     5        0.0819        0.0802  1933386    2.09%           rho_6 U 529760 128702     65\n",
      " 535790 211426        0.0815     7        0.0819        0.0802  1955142    2.09%           rho_5 U 535790 535788     65\n",
      " 541284 213565        0.0803    10        0.0819        0.0802  1976949    2.09%          rho_11 D 541284 398361     63\n",
      " 546811 216660        0.0803    11        0.0819        0.0802  1998465    2.08%           rho_4 D 546811 546809     49\n",
      "Elapsed time = 160.16 sec. (320623.93 ticks, tree = 82.24 MB, solutions = 3)\n",
      " 552927 218879        cutoff              0.0819        0.0802  2026711    2.08%           rho_0 D 552927 552926     94\n",
      " 559020 220470        0.0813     5        0.0819        0.0802  2048240    2.08%           rho_0 U 559020 559018     85\n",
      " 565124 222596        0.0810     5        0.0819        0.0802  2074237    2.08%           rho_4 D 565124 565122     80\n",
      " 571241 224877        cutoff              0.0819        0.0802  2097858    2.08%           rho_5 U 571241 571240     87\n",
      " 577260 227498        0.0804     9        0.0819        0.0802  2120040    2.08%          rho_15 U 577260 577259     43\n",
      " 583630 230763        0.0803     7        0.0819        0.0802  2141128    2.07%           rho_0 U 583630 583629     79\n",
      " 589390 232974        0.0814     6        0.0819        0.0802  2162322    2.07%           rho_5 D 589390 589389     66\n",
      " 595972 235726        0.0814     9        0.0819        0.0802  2184767    2.07%          rho_10 D 595972 595970     61\n",
      " 602216 238149        0.0816     5        0.0819        0.0802  2207284    2.07%           rho_5 U 602216 602214     48\n",
      " 608578 241090        cutoff              0.0819        0.0802  2230401    2.07%           rho_5 D 608578 608577     37\n",
      "Elapsed time = 176.11 sec. (358775.51 ticks, tree = 92.69 MB, solutions = 3)\n",
      " 614485 242725        0.0805     5        0.0819        0.0802  2252251    2.07%           rho_7 D 614485 614483     46\n",
      " 620625 245089        0.0802    11        0.0819        0.0802  2274274    2.07%          rho_15 D 620625 620623     52\n",
      " 626359 248318        0.0802    11        0.0819        0.0802  2294877    2.06%           rho_0 U 626359 626358     49\n",
      " 632400 250863        0.0802     7        0.0819        0.0802  2315484    2.06%          rho_15 U 632400 632392     57\n",
      " 638709 252994        0.0802    11        0.0819        0.0802  2335850    2.06%          rho_15 U 638709 638707     57\n",
      " 644710 256307        0.0807     9        0.0819        0.0802  2355138    2.06%          rho_14 N 644710 644709     60\n",
      " 649990 259015        0.0802    14        0.0819        0.0802  2375119    2.06%          rho_15 U 649990 649988     45\n",
      " 656104 261411        0.0802    10        0.0819        0.0802  2394965    2.06%          rho_15 D 656104 656103     84\n",
      " 661614 264279        cutoff              0.0819        0.0802  2414036    2.06%           rho_2 U 661614 661613     69\n",
      " 667133 266771        0.0802     9        0.0819        0.0802  2434893    2.05%           rho_0 D 667133 667131     74\n",
      "Elapsed time = 192.89 sec. (396935.25 ticks, tree = 101.12 MB, solutions = 3)\n",
      " 672773 269735        0.0802     5        0.0819        0.0802  2456644    2.05%           rho_0 U 672773 672772     55\n"
     ]
    },
    {
     "name": "stdout",
     "output_type": "stream",
     "text": [
      " 678708 271906        0.0804     7        0.0819        0.0802  2479761    2.05%           rho_7 D 678708 678707     88\n",
      " 684917 274607        0.0802    12        0.0819        0.0802  2499639    2.05%           rho_0 D 684917 684915     71\n",
      " 690601 277707        cutoff              0.0819        0.0802  2519426    2.05%          rho_14 U 690601 690600     55\n",
      "\n",
      "User cuts applied:  1035\n",
      "\n",
      "Root node processing (before b&c):\n",
      "  Real time             =    0.09 sec. (1.39 ticks)\n",
      "Sequential b&c:\n",
      "  Real time             =  199.92 sec. (414228.20 ticks)\n",
      "                          ------------\n",
      "Total (root+branch&cut) =  200.02 sec. (414229.59 ticks)\n",
      "+----------------------------------------------+------------------+-----------+\n",
      "| Pr(Y = +1) = 1.0/(1.0 + exp(-(-6 + score))   |                  |           |\n",
      "| ============================================ | ================ | ========= |\n",
      "| p_property>=1                                |         2 points |   + ..... |\n",
      "| age_at_current_charge<=19                    |         1 points |   + ..... |\n",
      "| age_at_current_charge<=46                    |         1 points |   + ..... |\n",
      "| p_arrest>=2                                  |         1 points |   + ..... |\n",
      "| p_arrest>=6                                  |         1 points |   + ..... |\n",
      "| ============================================ | ================ | ========= |\n",
      "| ADD POINTS FROM ROWS 1 to 5                  |            SCORE |   = ..... |\n",
      "+----------------------------------------------+------------------+-----------+\n",
      "model_id, score_thresholds 0 {'rank_abs': [0]}\n",
      "get_disparity_predefined_group()\n"
     ]
    }
   ],
   "source": [
    "riskslim_summary = slim.risk_cv(X=sub_X, \n",
    "                                Y=sub_Y, \n",
    "                                indicator = indicator,\n",
    "                                y_label='recid_general2', \n",
    "                                max_coef=20, \n",
    "                                max_coef_number=10, \n",
    "                                max_runtime=200, \n",
    "                                c=1e-5, \n",
    "                                seed=816)"
   ]
  },
  {
   "cell_type": "code",
   "execution_count": 26,
   "metadata": {},
   "outputs": [
    {
     "data": {
      "text/plain": [
       "(0.7542522545118999, 0.7516639230455825)"
      ]
     },
     "execution_count": 26,
     "metadata": {},
     "output_type": "execute_result"
    }
   ],
   "source": [
    "np.mean(riskslim_summary['train_auc']), np.mean(riskslim_summary['test_auc'])"
   ]
  },
  {
   "cell_type": "markdown",
   "metadata": {},
   "source": [
    "### Results"
   ]
  },
  {
   "cell_type": "code",
   "execution_count": 27,
   "metadata": {},
   "outputs": [
    {
     "name": "stdout",
     "output_type": "stream",
     "text": [
      "Stored 'summary_property2_KY_interpret' (dict)\n"
     ]
    }
   ],
   "source": [
    "#### save results\n",
    "summary_property2_KY_interpret = {\"CART\": cart_summary,\n",
    "                                   \"EBM\": ebm_summary, \n",
    "                                   'Lasso Stumps': stump_summary, \n",
    "                                   'RiskSLIM': riskslim_summary, \n",
    "                                   'Arnold PSA Raw': raw_auc, \n",
    "                                   'Arnold PSA': calc_auc}\n",
    "%store summary_property2_KY_interpret"
   ]
  },
  {
   "cell_type": "code",
   "execution_count": 28,
   "metadata": {},
   "outputs": [
    {
     "data": {
      "text/plain": [
       "[['CART', 0.77231127184065, 0.01633649264435062],\n",
       " ['EBM', 0.786986977866176, 0.014281743498652277],\n",
       " ['Lasso Stumps', 0.7890590642872922, 0.002607485488434258],\n",
       " ['RiskSLIM', 0.7516639230455825],\n",
       " ['Arnold PSA Raw', 0.724],\n",
       " ['Arnold PSA', 0.698]]"
      ]
     },
     "execution_count": 28,
     "metadata": {},
     "output_type": "execute_result"
    }
   ],
   "source": [
    "results = [[\"CART\", np.mean(cart_summary['holdout_test_auc']), np.mean(cart_summary['auc_diffs'])],\n",
    "           [\"EBM\", np.mean(ebm_summary['holdout_test_auc']), np.mean(ebm_summary['auc_diffs'])], \n",
    "           [\"Lasso Stumps\", np.mean(stump_summary['holdout_test_auc']), np.mean(stump_summary['auc_diffs'])],\n",
    "           ['RiskSLIM', np.mean(riskslim_summary['test_auc'])],\n",
    "           ['Arnold PSA Raw', round(np.mean(raw_auc), 3)], \n",
    "           ['Arnold PSA', round(np.mean(calc_auc), 3)]]\n",
    "results"
   ]
  },
  {
   "cell_type": "code",
   "execution_count": 29,
   "metadata": {},
   "outputs": [],
   "source": [
    "auc = [np.mean(cart_summary['holdout_test_auc']), \n",
    "       np.mean(ebm_summary['holdout_test_auc']), \n",
    "       np.mean(stump_summary['holdout_test_auc']), \n",
    "       np.mean(riskslim_summary['test_auc'])]"
   ]
  },
  {
   "cell_type": "code",
   "execution_count": 30,
   "metadata": {},
   "outputs": [],
   "source": [
    "path = \"C:/Users/binha/Documents/Duke/Cynthia Research/KY-analysis-mytrials/KY Recidivism/KY Results/Models/Two Year/\"\n",
    "results = [[\"Property\", np.str((round(np.mean(cart_summary['holdout_test_auc']), 3))) + \" (\" + np.str(round(np.std(cart_summary['holdout_test_auc']), 3)) + \")\", \n",
    "            np.str(round(np.mean(ebm_summary['holdout_test_auc']),3)) + \" (\" + np.str(round(np.std(ebm_summary['holdout_test_auc']), 3)) + \")\", \n",
    "            np.str(round(np.mean(stump_summary['holdout_test_auc']),3)) + \" (\" + np.str(round(np.std(stump_summary['holdout_test_auc']), 3)) + \")\",             \n",
    "            np.str(round(np.mean(riskslim_summary['test_auc']),3)) + \" (\" + np.str(round(np.std(riskslim_summary['test_auc']), 3)) + \")\", \n",
    "            round(np.max(auc) - np.min(auc), 3),\n",
    "            np.str(round(np.mean(raw_auc), 3)) + \" (\" + np.str(round(np.std(raw_auc),3)) + \")\", \n",
    "            np.str(round(np.mean(calc_auc), 3)) + \" (\" + np.str(round(np.std(calc_auc),3)) + \")\"]]\n",
    "with open(path + 'Interpretable Models Summary.csv', 'a') as writeFile:\n",
    "    writer = csv.writer(writeFile)\n",
    "    writer.writerows(results)"
   ]
  }
 ],
 "metadata": {
  "kernelspec": {
   "display_name": "Python 3",
   "language": "python",
   "name": "python3"
  },
  "language_info": {
   "codemirror_mode": {
    "name": "ipython",
    "version": 3
   },
   "file_extension": ".py",
   "mimetype": "text/x-python",
   "name": "python",
   "nbconvert_exporter": "python",
   "pygments_lexer": "ipython3",
   "version": "3.7.4"
  }
 },
 "nbformat": 4,
 "nbformat_minor": 4
}
