{
 "cells": [
  {
   "cell_type": "code",
   "execution_count": 1,
   "metadata": {},
   "outputs": [
    {
     "name": "stdout",
     "output_type": "stream",
     "text": [
      "Current working directory is now:  C:\\Users\\binha\\Documents\\Duke\\Cynthia Research\\psa-analysis - test\n",
      "no stored variable summary_M2_KY_interpret\n"
     ]
    },
    {
     "name": "stderr",
     "output_type": "stream",
     "text": [
      "C:\\Users\\binha\\Anaconda3\\lib\\site-packages\\sklearn\\externals\\six.py:31: DeprecationWarning:\n",
      "\n",
      "The module is deprecated in version 0.21 and will be removed in version 0.23 since we've dropped support for Python 2.7. Please rely on the official version of six (https://pypi.org/project/six/).\n",
      "\n"
     ]
    }
   ],
   "source": [
    "import os \n",
    "os.chdir('../../../../')\n",
    "print(\"Current working directory is now: \", os.getcwd())\n",
    "\n",
    "import pandas as pd \n",
    "import numpy as np\n",
    "import csv\n",
    "import utils.baseline_functions as base\n",
    "import stumps\n",
    "import RiskSLIM as slim\n",
    "\n",
    "from sklearn.linear_model import LogisticRegression\n",
    "from sklearn.model_selection import KFold, GridSearchCV\n",
    "from sklearn.metrics import roc_auc_score\n",
    "\n",
    "# restore saved variables\n",
    "%store -r summary_M2_KY_interpret"
   ]
  },
  {
   "cell_type": "markdown",
   "metadata": {},
   "source": [
    "### CART & EBM"
   ]
  },
  {
   "cell_type": "code",
   "execution_count": 3,
   "metadata": {},
   "outputs": [],
   "source": [
    "### load data\n",
    "data = pd.read_csv(\"~/Documents/Duke/Cynthia Research/KY-analysis-mytrials/KY Recidivism/KY data/kentucky_data.csv\")\n",
    "data = data.drop(['fta_risk_score_raw','nca_risk_score_raw','pvf_risk_score_raw', \n",
    "                  'fta_calc', 'nca_calc', 'pvf_calc'], axis=1)\n",
    "x = data.loc[:,:'current_violence']\n",
    "y = data['recid_M_two_year'].values"
   ]
  },
  {
   "cell_type": "code",
   "execution_count": 4,
   "metadata": {
    "scrolled": true
   },
   "outputs": [
    {
     "name": "stdout",
     "output_type": "stream",
     "text": [
      "model_id, score_thresholds 0 {'rank_abs': [849]}\n",
      "get_disparity_predefined_group()\n",
      "model_id, score_thresholds 0 {'rank_abs': [949]}\n",
      "get_disparity_predefined_group()\n",
      "model_id, score_thresholds 0 {'rank_abs': [1175]}\n",
      "get_disparity_predefined_group()\n",
      "model_id, score_thresholds 0 {'rank_abs': [1218]}\n",
      "get_disparity_predefined_group()\n",
      "model_id, score_thresholds 0 {'rank_abs': [1073]}\n",
      "get_disparity_predefined_group()\n"
     ]
    },
    {
     "name": "stderr",
     "output_type": "stream",
     "text": [
      "WARNING:interpret.utils.all:Passing a numpy array to schema autogen when it should be dataframe.\n",
      "WARNING:interpret.utils.all:Passing a numpy array to schema autogen when it should be dataframe.\n",
      "WARNING:interpret.utils.all:Passing a numpy array to schema autogen when it should be dataframe.\n",
      "WARNING:interpret.utils.all:Passing a numpy array to schema autogen when it should be dataframe.\n",
      "WARNING:interpret.utils.all:Passing a numpy array to schema autogen when it should be dataframe.\n",
      "WARNING:interpret.utils.all:Passing a numpy array to schema autogen when it should be dataframe.\n",
      "WARNING:interpret.utils.all:Passing a numpy array to schema autogen when it should be dataframe.\n",
      "WARNING:interpret.utils.all:Passing a numpy array to schema autogen when it should be dataframe.\n",
      "WARNING:interpret.utils.all:Passing a numpy array to schema autogen when it should be dataframe.\n",
      "WARNING:interpret.utils.all:Passing a numpy array to schema autogen when it should be dataframe.\n",
      "WARNING:interpret.utils.all:Passing a numpy array to schema autogen when it should be dataframe.\n",
      "WARNING:interpret.utils.all:Passing a numpy array to schema autogen when it should be dataframe.\n"
     ]
    },
    {
     "name": "stdout",
     "output_type": "stream",
     "text": [
      "model_id, score_thresholds 0 {'rank_abs': [1099]}\n",
      "get_disparity_predefined_group()\n"
     ]
    },
    {
     "name": "stderr",
     "output_type": "stream",
     "text": [
      "WARNING:interpret.utils.all:Passing a numpy array to schema autogen when it should be dataframe.\n",
      "WARNING:interpret.utils.all:Passing a numpy array to schema autogen when it should be dataframe.\n",
      "WARNING:interpret.utils.all:Passing a numpy array to schema autogen when it should be dataframe.\n",
      "WARNING:interpret.utils.all:Passing a numpy array to schema autogen when it should be dataframe.\n",
      "WARNING:interpret.utils.all:Passing a numpy array to schema autogen when it should be dataframe.\n",
      "WARNING:interpret.utils.all:Passing a numpy array to schema autogen when it should be dataframe.\n",
      "WARNING:interpret.utils.all:Passing a numpy array to schema autogen when it should be dataframe.\n",
      "WARNING:interpret.utils.all:Passing a numpy array to schema autogen when it should be dataframe.\n",
      "WARNING:interpret.utils.all:Passing a numpy array to schema autogen when it should be dataframe.\n",
      "WARNING:interpret.utils.all:Passing a numpy array to schema autogen when it should be dataframe.\n",
      "WARNING:interpret.utils.all:Passing a numpy array to schema autogen when it should be dataframe.\n",
      "WARNING:interpret.utils.all:Passing a numpy array to schema autogen when it should be dataframe.\n"
     ]
    },
    {
     "name": "stdout",
     "output_type": "stream",
     "text": [
      "model_id, score_thresholds 0 {'rank_abs': [1190]}\n",
      "get_disparity_predefined_group()\n"
     ]
    },
    {
     "name": "stderr",
     "output_type": "stream",
     "text": [
      "WARNING:interpret.utils.all:Passing a numpy array to schema autogen when it should be dataframe.\n",
      "WARNING:interpret.utils.all:Passing a numpy array to schema autogen when it should be dataframe.\n",
      "WARNING:interpret.utils.all:Passing a numpy array to schema autogen when it should be dataframe.\n",
      "WARNING:interpret.utils.all:Passing a numpy array to schema autogen when it should be dataframe.\n",
      "WARNING:interpret.utils.all:Passing a numpy array to schema autogen when it should be dataframe.\n",
      "WARNING:interpret.utils.all:Passing a numpy array to schema autogen when it should be dataframe.\n",
      "WARNING:interpret.utils.all:Passing a numpy array to schema autogen when it should be dataframe.\n",
      "WARNING:interpret.utils.all:Passing a numpy array to schema autogen when it should be dataframe.\n",
      "WARNING:interpret.utils.all:Passing a numpy array to schema autogen when it should be dataframe.\n",
      "WARNING:interpret.utils.all:Passing a numpy array to schema autogen when it should be dataframe.\n",
      "WARNING:interpret.utils.all:Passing a numpy array to schema autogen when it should be dataframe.\n",
      "WARNING:interpret.utils.all:Passing a numpy array to schema autogen when it should be dataframe.\n"
     ]
    },
    {
     "name": "stdout",
     "output_type": "stream",
     "text": [
      "model_id, score_thresholds 0 {'rank_abs': [1156]}\n",
      "get_disparity_predefined_group()\n"
     ]
    },
    {
     "name": "stderr",
     "output_type": "stream",
     "text": [
      "WARNING:interpret.utils.all:Passing a numpy array to schema autogen when it should be dataframe.\n",
      "WARNING:interpret.utils.all:Passing a numpy array to schema autogen when it should be dataframe.\n",
      "WARNING:interpret.utils.all:Passing a numpy array to schema autogen when it should be dataframe.\n",
      "WARNING:interpret.utils.all:Passing a numpy array to schema autogen when it should be dataframe.\n",
      "WARNING:interpret.utils.all:Passing a numpy array to schema autogen when it should be dataframe.\n",
      "WARNING:interpret.utils.all:Passing a numpy array to schema autogen when it should be dataframe.\n",
      "WARNING:interpret.utils.all:Passing a numpy array to schema autogen when it should be dataframe.\n",
      "WARNING:interpret.utils.all:Passing a numpy array to schema autogen when it should be dataframe.\n",
      "WARNING:interpret.utils.all:Passing a numpy array to schema autogen when it should be dataframe.\n",
      "WARNING:interpret.utils.all:Passing a numpy array to schema autogen when it should be dataframe.\n",
      "WARNING:interpret.utils.all:Passing a numpy array to schema autogen when it should be dataframe.\n",
      "WARNING:interpret.utils.all:Passing a numpy array to schema autogen when it should be dataframe.\n"
     ]
    },
    {
     "name": "stdout",
     "output_type": "stream",
     "text": [
      "model_id, score_thresholds 0 {'rank_abs': [1105]}\n",
      "get_disparity_predefined_group()\n"
     ]
    },
    {
     "name": "stderr",
     "output_type": "stream",
     "text": [
      "WARNING:interpret.utils.all:Passing a numpy array to schema autogen when it should be dataframe.\n",
      "WARNING:interpret.utils.all:Passing a numpy array to schema autogen when it should be dataframe.\n",
      "WARNING:interpret.utils.all:Passing a numpy array to schema autogen when it should be dataframe.\n",
      "WARNING:interpret.utils.all:Passing a numpy array to schema autogen when it should be dataframe.\n",
      "WARNING:interpret.utils.all:Passing a numpy array to schema autogen when it should be dataframe.\n",
      "WARNING:interpret.utils.all:Passing a numpy array to schema autogen when it should be dataframe.\n",
      "WARNING:interpret.utils.all:Passing a numpy array to schema autogen when it should be dataframe.\n",
      "WARNING:interpret.utils.all:Passing a numpy array to schema autogen when it should be dataframe.\n",
      "WARNING:interpret.utils.all:Passing a numpy array to schema autogen when it should be dataframe.\n",
      "WARNING:interpret.utils.all:Passing a numpy array to schema autogen when it should be dataframe.\n",
      "WARNING:interpret.utils.all:Passing a numpy array to schema autogen when it should be dataframe.\n",
      "WARNING:interpret.utils.all:Passing a numpy array to schema autogen when it should be dataframe.\n"
     ]
    },
    {
     "name": "stdout",
     "output_type": "stream",
     "text": [
      "model_id, score_thresholds 0 {'rank_abs': [1061]}\n",
      "get_disparity_predefined_group()\n"
     ]
    }
   ],
   "source": [
    "#### CART\n",
    "depth = [7,8,9]\n",
    "cart_summary = base.CART(X=x,\n",
    "                         Y=y,\n",
    "                         depth=depth,\n",
    "                         seed=816)\n",
    "\n",
    "#### EBM\n",
    "estimators = [20]\n",
    "depth = [2]\n",
    "learning_rate = [0.3]\n",
    "ebm_summary = base.EBM(X=x,\n",
    "                       Y=y,\n",
    "                       learning_rate=learning_rate,\n",
    "                       depth=depth,\n",
    "                       estimators=estimators,\n",
    "                       seed =816)"
   ]
  },
  {
   "cell_type": "code",
   "execution_count": 5,
   "metadata": {},
   "outputs": [
    {
     "data": {
      "text/plain": [
       "(0.7030375736229602, 0.011760264698188671)"
      ]
     },
     "execution_count": 5,
     "metadata": {},
     "output_type": "execute_result"
    }
   ],
   "source": [
    "np.mean(cart_summary['holdout_test_auc']), np.mean(cart_summary['auc_diffs'])"
   ]
  },
  {
   "cell_type": "code",
   "execution_count": 6,
   "metadata": {},
   "outputs": [
    {
     "data": {
      "text/plain": [
       "(0.7125336080636797, 0.004566020388930325)"
      ]
     },
     "execution_count": 6,
     "metadata": {},
     "output_type": "execute_result"
    }
   ],
   "source": [
    "np.mean(ebm_summary['holdout_test_auc']), np.mean(ebm_summary['auc_diffs'])"
   ]
  },
  {
   "cell_type": "markdown",
   "metadata": {},
   "source": [
    "## Lasso Stumps"
   ]
  },
  {
   "cell_type": "code",
   "execution_count": 7,
   "metadata": {},
   "outputs": [],
   "source": [
    "## load whole data\n",
    "data = pd.read_csv(\"~/Documents/Duke/Cynthia Research/KY-analysis-mytrials/KY Recidivism/KY data/kentucky_stumps.csv\")\n",
    "X_stumps, Y_stumps = data.loc[:,:'current_violence>=1'], data['recid_M_two_year'].values\n",
    "Y_stumps[Y_stumps == -1] = 0\n",
    "cols = X_stumps.columns[3:]\n",
    "\n",
    "## load train & test data\n",
    "train_stumps = pd.read_csv(\"~/Documents/Duke/Cynthia Research/KY-analysis-mytrials/KY Recidivism/KY data/kentucky_train_stumps.csv\")\n",
    "test_stumps = pd.read_csv(\"~/Documents/Duke/Cynthia Research/KY-analysis-mytrials/KY Recidivism/KY data/kentucky_test_stumps.csv\")\n",
    "\n",
    "X_train_stumps, Y_train_stumps = train_stumps.loc[:,:'current_violence>=1'], train_stumps['recid_M_two_year'].values\n",
    "X_test_stumps, Y_test_stumps = test_stumps.loc[:,:'current_violence>=1'], test_stumps['recid_M_two_year'].values\n",
    "\n",
    "Y_train_stumps[Y_train_stumps == -1] = 0\n",
    "Y_test_stumps[Y_test_stumps == -1] = 0"
   ]
  },
  {
   "cell_type": "markdown",
   "metadata": {},
   "source": [
    "#### Nested Cross Validation"
   ]
  },
  {
   "cell_type": "code",
   "execution_count": 8,
   "metadata": {},
   "outputs": [
    {
     "name": "stdout",
     "output_type": "stream",
     "text": [
      "model_id, score_thresholds 0 {'rank_abs': [14273]}\n",
      "get_disparity_predefined_group()\n",
      "model_id, score_thresholds 0 {'rank_abs': [14979]}\n",
      "get_disparity_predefined_group()\n",
      "model_id, score_thresholds 0 {'rank_abs': [14385]}\n",
      "get_disparity_predefined_group()\n",
      "model_id, score_thresholds 0 {'rank_abs': [13943]}\n",
      "get_disparity_predefined_group()\n",
      "model_id, score_thresholds 0 {'rank_abs': [14745]}\n",
      "get_disparity_predefined_group()\n"
     ]
    }
   ],
   "source": [
    "stump_summary = stumps.stump_cv(X = X_stumps, \n",
    "                                Y = Y_stumps, \n",
    "                                columns=cols, \n",
    "                                c_grid={'C': [0.007, 0.005, 0.003]}, \n",
    "                                seed = 816)"
   ]
  },
  {
   "cell_type": "code",
   "execution_count": 9,
   "metadata": {},
   "outputs": [
    {
     "data": {
      "text/plain": [
       "([{'C': 0.007}, {'C': 0.007}, {'C': 0.007}, {'C': 0.007}, {'C': 0.007}],\n",
       " 0.709835340651588,\n",
       " 0.0007328280253636521)"
      ]
     },
     "execution_count": 9,
     "metadata": {},
     "output_type": "execute_result"
    }
   ],
   "source": [
    "stump_summary['best_params'], np.mean(stump_summary['holdout_test_auc']), np.mean(stump_summary['auc_diffs'])"
   ]
  },
  {
   "cell_type": "markdown",
   "metadata": {},
   "source": [
    "##### Best Stump Model"
   ]
  },
  {
   "cell_type": "code",
   "execution_count": 14,
   "metadata": {},
   "outputs": [],
   "source": [
    "best_stump_model = stumps.stump_model(X_train_stumps, Y_train_stumps, \n",
    "                                      X_test_stumps, Y_test_stumps, \n",
    "                                      c=0.003, columns=cols, seed=816)"
   ]
  },
  {
   "cell_type": "markdown",
   "metadata": {},
   "source": [
    "##### Prediction Table"
   ]
  },
  {
   "cell_type": "code",
   "execution_count": 15,
   "metadata": {
    "scrolled": true
   },
   "outputs": [
    {
     "name": "stdout",
     "output_type": "stream",
     "text": [
      "+-----------------------------------+----------------+\n",
      "| Features                          | Score          |\n",
      "|====================================================|\n",
      "| sex                               | 8.8            |\n",
      "| age_at_current_charge<=38         | 5.1            |\n",
      "| age_at_current_charge<=43         | 3.8            |\n",
      "| age_at_current_charge<=46         | 5.3            |\n",
      "| p_arrest>=1                       | -30.8          |\n",
      "| p_arrest>=2                       | 53.2           |\n",
      "| p_arrest>=3                       | 32.2           |\n",
      "| p_arrest>=4                       | 20.1           |\n",
      "| p_arrest>=5                       | 18.3           |\n",
      "| p_arrest>=6                       | 12.7           |\n",
      "| p_arrest>=7                       | 5.2            |\n",
      "| p_charges>=1                      | -37.3          |\n",
      "| p_violence>=1                     | 15.4           |\n",
      "| p_felony>=2                       | -6.4           |\n",
      "| p_misdemeanor>=1                  | 6.2            |\n",
      "| p_misdemeanor>=2                  | 9.0            |\n",
      "| p_misdemeanor>=3                  | 8.9            |\n",
      "| p_stealing>=1                     | -2.4           |\n",
      "| ADE>=1                            | -4.3           |\n",
      "| p_prison>=1                       | -26.4          |\n",
      "| p_jail30>=1                       | 16.8           |\n",
      "| p_pending_charge>=1               | 44.7           |\n",
      "| p_probation>=1                    | 12.6           |\n",
      "| Intercept                         | -0.254         |\n",
      "|====================================================|\n",
      "| ADD POINTS FROM ROWS 1 TO 23      | Total Score    |\n",
      "+-----------------------------------+----------------+\n"
     ]
    }
   ],
   "source": [
    "stumps.stump_table(best_stump_model['coefs'], \n",
    "                   best_stump_model['features'], \n",
    "                   best_stump_model['intercept'], \n",
    "                   best_stump_model['dictionary'])"
   ]
  },
  {
   "cell_type": "code",
   "execution_count": 16,
   "metadata": {},
   "outputs": [
    {
     "name": "stdout",
     "output_type": "stream",
     "text": [
      "model_id, score_thresholds 0 {'rank_abs': [13512]}\n",
      "get_disparity_predefined_group()\n",
      "model_id, score_thresholds 0 {'rank_abs': [13358]}\n",
      "get_disparity_predefined_group()\n",
      "model_id, score_thresholds 0 {'rank_abs': [13515]}\n",
      "get_disparity_predefined_group()\n",
      "model_id, score_thresholds 0 {'rank_abs': [13351]}\n",
      "get_disparity_predefined_group()\n",
      "model_id, score_thresholds 0 {'rank_abs': [13296]}\n",
      "get_disparity_predefined_group()\n"
     ]
    }
   ],
   "source": [
    "stump_summary = stumps.stump_cv(X = X_stumps, \n",
    "                                Y = Y_stumps, \n",
    "                                columns=cols, \n",
    "                                c_grid={'C': [0.003]}, \n",
    "                                seed = 816)"
   ]
  },
  {
   "cell_type": "code",
   "execution_count": 17,
   "metadata": {},
   "outputs": [
    {
     "data": {
      "text/plain": [
       "([{'C': 0.003}, {'C': 0.003}, {'C': 0.003}, {'C': 0.003}, {'C': 0.003}],\n",
       " 0.7062530901638538,\n",
       " 0.00044542381557681753)"
      ]
     },
     "execution_count": 17,
     "metadata": {},
     "output_type": "execute_result"
    }
   ],
   "source": [
    "stump_summary['best_params'], np.mean(stump_summary['holdout_test_auc']), np.mean(stump_summary['auc_diffs'])"
   ]
  },
  {
   "cell_type": "markdown",
   "metadata": {},
   "source": [
    "##### Stumps Visualizations"
   ]
  },
  {
   "cell_type": "code",
   "execution_count": 18,
   "metadata": {
    "scrolled": true
   },
   "outputs": [
    {
     "data": {
      "image/png": "[encoded data removed]",
      "text/plain": [
       "<Figure size 288x216 with 1 Axes>"
      ]
     },
     "metadata": {
      "needs_background": "light"
     },
     "output_type": "display_data"
    },
    {
     "data": {
      "image/png": "[encoded data removed]",
      "text/plain": [
       "<Figure size 288x216 with 1 Axes>"
      ]
     },
     "metadata": {
      "needs_background": "light"
     },
     "output_type": "display_data"
    },
    {
     "data": {
      "image/png": "[encoded data removed]",
      "text/plain": [
       "<Figure size 288x216 with 1 Axes>"
      ]
     },
     "metadata": {
      "needs_background": "light"
     },
     "output_type": "display_data"
    },
    {
     "data": {
      "image/png": "[encoded data removed]",
      "text/plain": [
       "<Figure size 288x216 with 1 Axes>"
      ]
     },
     "metadata": {
      "needs_background": "light"
     },
     "output_type": "display_data"
    },
    {
     "data": {
      "image/png": "[encoded data removed]",
      "text/plain": [
       "<Figure size 288x216 with 1 Axes>"
      ]
     },
     "metadata": {
      "needs_background": "light"
     },
     "output_type": "display_data"
    },
    {
     "data": {
      "image/png": "[encoded data removed]",
      "text/plain": [
       "<Figure size 288x216 with 1 Axes>"
      ]
     },
     "metadata": {
      "needs_background": "light"
     },
     "output_type": "display_data"
    },
    {
     "data": {
      "image/png": "[encoded data removed]",
      "text/plain": [
       "<Figure size 288x216 with 1 Axes>"
      ]
     },
     "metadata": {
      "needs_background": "light"
     },
     "output_type": "display_data"
    },
    {
     "data": {
      "image/png": "[encoded data removed]",
      "text/plain": [
       "<Figure size 288x216 with 1 Axes>"
      ]
     },
     "metadata": {
      "needs_background": "light"
     },
     "output_type": "display_data"
    },
    {
     "data": {
      "image/png": "[encoded data removed]",
      "text/plain": [
       "<Figure size 288x216 with 1 Axes>"
      ]
     },
     "metadata": {
      "needs_background": "light"
     },
     "output_type": "display_data"
    },
    {
     "data": {
      "image/png": "[encoded data removed]",
      "text/plain": [
       "<Figure size 288x216 with 1 Axes>"
      ]
     },
     "metadata": {
      "needs_background": "light"
     },
     "output_type": "display_data"
    },
    {
     "data": {
      "image/png": "[encoded data removed]",
      "text/plain": [
       "<Figure size 288x216 with 1 Axes>"
      ]
     },
     "metadata": {
      "needs_background": "light"
     },
     "output_type": "display_data"
    },
    {
     "data": {
      "image/png": "[encoded data removed]",
      "text/plain": [
       "<Figure size 288x216 with 1 Axes>"
      ]
     },
     "metadata": {
      "needs_background": "light"
     },
     "output_type": "display_data"
    }
   ],
   "source": [
    "stumps.stump_plots(best_stump_model['features'], best_stump_model['coefs'])"
   ]
  },
  {
   "cell_type": "markdown",
   "metadata": {},
   "source": [
    "### Arnold PSA"
   ]
  },
  {
   "cell_type": "code",
   "execution_count": 19,
   "metadata": {},
   "outputs": [],
   "source": [
    "### load data\n",
    "data = pd.read_csv(\"~/Documents/Duke/Cynthia Research/KY-analysis-mytrials/KY Recidivism/KY data/kentucky_data.csv\")\n",
    "X_arnold_raw = data['nca_risk_score_raw'].values\n",
    "X_arnold_calc = data['nca_calc'].values\n",
    "Y_arnold = data['recid_M_two_year'].values"
   ]
  },
  {
   "cell_type": "code",
   "execution_count": 20,
   "metadata": {},
   "outputs": [],
   "source": [
    "## set up cross validation\n",
    "cv = KFold(n_splits=5,shuffle=True,random_state=816)\n",
    "raw_auc = []\n",
    "calc_auc = []\n",
    "\n",
    "## raw score\n",
    "i = 1\n",
    "for train, test in cv.split(X_arnold_raw, Y_arnold):\n",
    "    y_pred_raw, y_pred_calc, y_test = X_arnold_raw[test], X_arnold_calc[test], Y_arnold[test]\n",
    "    raw_auc.append(roc_auc_score(y_test, y_pred_raw))\n",
    "    calc_auc.append(roc_auc_score(y_test, y_pred_calc))\n",
    "    i+=1 "
   ]
  },
  {
   "cell_type": "markdown",
   "metadata": {},
   "source": [
    "## RiskSLIM"
   ]
  },
  {
   "cell_type": "code",
   "execution_count": 34,
   "metadata": {},
   "outputs": [],
   "source": [
    "## load stumps data\n",
    "data = pd.read_csv(\"~/Documents/Duke/Cynthia Research/KY-analysis-mytrials/KY Recidivism/KY data/kentucky_stumps.csv\")\n",
    "x, y = data.loc[:,:'current_violence>=1'], data['recid_M_two_year'].values\n",
    "cols = x.columns[3:]"
   ]
  },
  {
   "cell_type": "code",
   "execution_count": 39,
   "metadata": {},
   "outputs": [
    {
     "data": {
      "text/plain": [
       "24"
      ]
     },
     "execution_count": 39,
     "metadata": {},
     "output_type": "execute_result"
    }
   ],
   "source": [
    "## train on best param chosen by Lasso Stumps from above\n",
    "x_train = x.copy().drop(['race', 'person_id', 'screening_date'], axis=1)\n",
    "lasso = LogisticRegression(class_weight='balanced', solver='liblinear', penalty='l1', C=0.003, random_state=816).fit(x_train,y)\n",
    "selected_features = cols[lasso.coef_[0] != 0].tolist()\n",
    "len(selected_features)"
   ]
  },
  {
   "cell_type": "code",
   "execution_count": 36,
   "metadata": {},
   "outputs": [],
   "source": [
    "### Subset features\n",
    "if 'sex' in selected_features:\n",
    "    selected_features = ['recid_M_two_year', 'person_id', 'screening_date', 'race'] + selected_features\n",
    "    indicator = 1\n",
    "else:\n",
    "    selected_features = ['recid_M_two_year', 'person_id', 'screening_date', 'race', 'sex'] + selected_features\n",
    "    indicator = 0\n",
    "\n",
    "sub_data = data[selected_features]\n",
    "sub_X, sub_Y = sub_data.iloc[:,1:], sub_data.iloc[:,0].values\n",
    "sub_X.insert(0, '(Intercept)', 1)"
   ]
  },
  {
   "cell_type": "code",
   "execution_count": 37,
   "metadata": {
    "scrolled": true
   },
   "outputs": [
    {
     "name": "stdout",
     "output_type": "stream",
     "text": [
      "setting c0 = 0.0 to ensure that intercept is not penalized\n",
      "09/11/19 @ 11:14 AM | 621 rows in lookup table\n",
      "09/11/19 @ 11:14 AM | ------------------------------------------------------------\n",
      "09/11/19 @ 11:14 AM | runnning initialization procedure\n",
      "09/11/19 @ 11:14 AM | ------------------------------------------------------------\n",
      "09/11/19 @ 11:14 AM | CPA produced 2 cuts\n",
      "09/11/19 @ 11:14 AM | running naive rounding on 132 solutions\n",
      "09/11/19 @ 11:14 AM | best objective value: 0.4431\n",
      "09/11/19 @ 11:14 AM | rounding produced 2 integer solutions\n",
      "09/11/19 @ 11:14 AM | best objective value is 0.4599\n",
      "09/11/19 @ 11:14 AM | running sequential rounding on 132 solutions\n",
      "09/11/19 @ 11:14 AM | best objective value: 0.4431\n",
      "09/11/19 @ 11:14 AM | sequential rounding produced 1 integer solutions\n",
      "09/11/19 @ 11:14 AM | best objective value: 0.4567\n",
      "09/11/19 @ 11:14 AM | polishing 3 solutions\n",
      "09/11/19 @ 11:14 AM | best objective value: 0.4567\n",
      "09/11/19 @ 11:14 AM | polishing produced 3 integer solutions\n",
      "09/11/19 @ 11:14 AM | initialization produced 4 feasible solutions\n",
      "09/11/19 @ 11:14 AM | best objective value: 0.4567\n",
      "09/11/19 @ 11:14 AM | ------------------------------------------------------------\n",
      "09/11/19 @ 11:14 AM | completed initialization procedure\n",
      "09/11/19 @ 11:14 AM | ------------------------------------------------------------\n",
      "09/11/19 @ 11:14 AM | 621 rows in lookup table\n",
      "CPXPARAM_Read_DataCheck                          1\n",
      "CPXPARAM_Threads                                 1\n",
      "CPXPARAM_Parallel                                1\n",
      "CPXPARAM_RandomSeed                              0\n",
      "CPXPARAM_TimeLimit                               200\n",
      "CPXPARAM_MIP_Tolerances_LowerCutoff              0.44302790472258335\n",
      "CPXPARAM_MIP_Tolerances_UpperCutoff              0.45673628505979758\n"
     ]
    },
    {
     "name": "stderr",
     "output_type": "stream",
     "text": [
      "Warning: Control callbacks may disable some MIP features.\n"
     ]
    },
    {
     "name": "stdout",
     "output_type": "stream",
     "text": [
      "Lazy constraint(s) or lazy constraint callback is present.\n",
      "    Disabling dual reductions (CPX_PARAM_REDUCE) in presolve.\n",
      "    Disabling non-linear reductions (CPX_PARAM_PRELINEAR) in presolve.\n",
      "         Disabling repeat represolve because of lazy constraint/incumbent callback.\n",
      "09/11/19 @ 11:14 AM | adding 131 initial cuts\n",
      "1 of 1 MIP starts provided solutions.\n",
      "MIP start 'mip_start_0' defined initial solution with objective 0.4567.\n",
      "Tried aggregator 1 time.\n",
      "Reduced MIP has 15 rows, 30 columns, and 55 nonzeros.\n",
      "Reduced MIP has 13 binaries, 15 generals, 0 SOSs, and 0 indicators.\n",
      "Presolve time = 0.02 sec. (0.03 ticks)\n",
      "Probing time = 0.00 sec. (0.01 ticks)\n",
      "MIP emphasis: balance optimality and feasibility.\n",
      "MIP search method: traditional branch-and-cut.\n",
      "Parallel mode: none, using 1 thread.\n",
      "Root relaxation solution time = 0.00 sec. (0.02 ticks)\n",
      "\n",
      "        Nodes                                         Cuts/\n",
      "   Node  Left     Objective  IInf  Best Integer    Best Bound    ItCnt     Gap         Variable B NodeID Parent  Depth\n",
      "\n",
      "*     0+    0                            0.4567        0.4429             3.02%\n",
      "      0     0        0.4430     1        0.4567        0.4430        1    3.00%\n",
      "      0     0        0.4430     1        0.4567       Cuts: 2        2    3.00%\n",
      "      0     2        0.4430     4        0.4567        0.4430        2    3.00%                        0             0\n",
      "Elapsed time = 0.09 sec. (0.97 ticks, tree = 0.01 MB, solutions = 1)\n",
      "*   580+  119                            0.4547        0.4430             2.56%\n",
      "*   792   140      integral     0        0.4541        0.4430     2094    2.43%\n",
      "   4348  2127        0.4430     3        0.4541        0.4430    18647    2.43%           rho_6 U   4348   4346     83\n",
      "   8166  3525        0.4451     6        0.4541        0.4430    36055    2.43%           rho_6 D   8166   8165     39\n",
      "  11785  4219        0.4430     4        0.4541        0.4430    50779    2.43%           rho_6 U  11785  11783     19\n",
      "* 12052  2816      integral     0        0.4522        0.4430    51980    2.03%\n",
      "  14934  3466        0.4438     6        0.4522        0.4430    65821    2.03%           rho_6 D  14934   9283     40\n",
      "  17910  4227        0.4465     7        0.4522        0.4430    84270    2.03%           rho_0 U  17910  17909     42\n",
      "  20827  4668        cutoff              0.4522        0.4430    99129    2.03%           rho_3 U  20827  20825     74\n",
      "  23590  5799        0.4442     5        0.4522        0.4430   114664    2.03%           rho_0 U  23590  23536     51\n",
      "  26802  6899        0.4430     1        0.4522        0.4430   129824    2.03%           rho_6 U  26802  26800     66\n",
      "  30263  7128        0.4430     4        0.4522        0.4430   144253    2.03%           rho_6 U  30263  30259     31\n",
      "  41667 10842        0.4430     3        0.4522        0.4430   218376    2.03%           rho_0 D  41667  41665     32\n",
      "Elapsed time = 3.28 sec. (3101.02 ticks, tree = 2.62 MB, solutions = 4)\n",
      "  53617 13640        0.4481     7        0.4522        0.4430   287156    2.03%           rho_2 D  53617  53616     36\n",
      "  68018 15221        0.4485     7        0.4522        0.4437   337258    1.88%           rho_7 N  68018  47632     70\n",
      "  82979 15058        cutoff              0.4522        0.4453   368664    1.53%           rho_6 D  82979  82978     52\n",
      "  97214 11922        0.4513     4        0.4522        0.4473   406914    1.09%           rho_3 D  97214  97212     77\n",
      " 113119 10598        cutoff              0.4522        0.4481   440131    0.91%           rho_8 U 113119 113118     48\n",
      " 127356  4602        0.4506     3        0.4522        0.4498   478863    0.53%           rho_4 U 127356 127355     75\n",
      "\n",
      "Gomory fractional cuts applied:  1\n",
      "User cuts applied:  91\n",
      "\n",
      "Root node processing (before b&c):\n",
      "  Real time             =    0.09 sec. (0.97 ticks)\n",
      "Sequential b&c:\n",
      "  Real time             =    8.20 sec. (9301.56 ticks)\n",
      "                          ------------\n",
      "Total (root+branch&cut) =    8.30 sec. (9302.53 ticks)\n",
      "+----------------------------------------------+------------------+-----------+\n",
      "| Pr(Y = +1) = 1.0/(1.0 + exp(-(-2 + score))   |                  |           |\n",
      "| ============================================ | ================ | ========= |\n",
      "| p_arrest>=2                                  |         1 points |   + ..... |\n",
      "| p_arrest>=5                                  |         1 points |   + ..... |\n",
      "| ============================================ | ================ | ========= |\n",
      "| ADD POINTS FROM ROWS 1 to 2                  |            SCORE |   = ..... |\n",
      "+----------------------------------------------+------------------+-----------+\n",
      "model_id, score_thresholds 0 {'rank_abs': [0]}\n",
      "get_disparity_predefined_group()\n",
      "setting c0 = 0.0 to ensure that intercept is not penalized\n",
      "09/11/19 @ 11:14 AM | 621 rows in lookup table\n",
      "09/11/19 @ 11:14 AM | ------------------------------------------------------------\n",
      "09/11/19 @ 11:14 AM | runnning initialization procedure\n",
      "09/11/19 @ 11:14 AM | ------------------------------------------------------------\n",
      "09/11/19 @ 11:14 AM | CPA produced 2 cuts\n",
      "09/11/19 @ 11:14 AM | running naive rounding on 130 solutions\n",
      "09/11/19 @ 11:14 AM | best objective value: 0.4452\n",
      "09/11/19 @ 11:14 AM | rounding produced 3 integer solutions\n",
      "09/11/19 @ 11:14 AM | best objective value is 0.4620\n",
      "09/11/19 @ 11:14 AM | running sequential rounding on 130 solutions\n",
      "09/11/19 @ 11:14 AM | best objective value: 0.4452\n",
      "09/11/19 @ 11:14 AM | sequential rounding produced 1 integer solutions\n",
      "09/11/19 @ 11:14 AM | best objective value: 0.4591\n",
      "09/11/19 @ 11:14 AM | polishing 4 solutions\n",
      "09/11/19 @ 11:14 AM | best objective value: 0.4591\n",
      "09/11/19 @ 11:14 AM | polishing produced 4 integer solutions\n",
      "09/11/19 @ 11:14 AM | initialization produced 5 feasible solutions\n",
      "09/11/19 @ 11:14 AM | best objective value: 0.4591\n",
      "09/11/19 @ 11:14 AM | ------------------------------------------------------------\n",
      "09/11/19 @ 11:14 AM | completed initialization procedure\n",
      "09/11/19 @ 11:14 AM | ------------------------------------------------------------\n",
      "09/11/19 @ 11:14 AM | 621 rows in lookup table\n",
      "CPXPARAM_Read_DataCheck                          1\n",
      "CPXPARAM_Threads                                 1\n",
      "CPXPARAM_Parallel                                1\n",
      "CPXPARAM_RandomSeed                              0\n",
      "CPXPARAM_TimeLimit                               200\n",
      "CPXPARAM_MIP_Tolerances_LowerCutoff              0.44515288528054653\n",
      "CPXPARAM_MIP_Tolerances_UpperCutoff              0.45913468396195323\n"
     ]
    },
    {
     "name": "stderr",
     "output_type": "stream",
     "text": [
      "Warning: Control callbacks may disable some MIP features.\n"
     ]
    },
    {
     "name": "stdout",
     "output_type": "stream",
     "text": [
      "Lazy constraint(s) or lazy constraint callback is present.\n",
      "    Disabling dual reductions (CPX_PARAM_REDUCE) in presolve.\n",
      "    Disabling non-linear reductions (CPX_PARAM_PRELINEAR) in presolve.\n",
      "         Disabling repeat represolve because of lazy constraint/incumbent callback.\n",
      "09/11/19 @ 11:14 AM | adding 129 initial cuts\n",
      "1 of 1 MIP starts provided solutions.\n",
      "MIP start 'mip_start_0' defined initial solution with objective 0.4591.\n",
      "Tried aggregator 1 time.\n",
      "Reduced MIP has 15 rows, 30 columns, and 55 nonzeros.\n",
      "Reduced MIP has 13 binaries, 15 generals, 0 SOSs, and 0 indicators.\n",
      "Presolve time = 0.00 sec. (0.03 ticks)\n",
      "Probing time = 0.00 sec. (0.01 ticks)\n",
      "MIP emphasis: balance optimality and feasibility.\n",
      "MIP search method: traditional branch-and-cut.\n",
      "Parallel mode: none, using 1 thread.\n",
      "Root relaxation solution time = 0.00 sec. (0.02 ticks)\n",
      "\n",
      "        Nodes                                         Cuts/\n",
      "   Node  Left     Objective  IInf  Best Integer    Best Bound    ItCnt     Gap         Variable B NodeID Parent  Depth\n",
      "\n",
      "*     0+    0                            0.4591        0.4451             3.07%\n",
      "      0     0        0.4452     1        0.4591        0.4452        1    3.05%\n",
      "      0     0        0.4452     1        0.4591       Cuts: 2        2    3.05%\n",
      "      0     2        0.4452     4        0.4591        0.4452        2    3.05%                        0             0\n",
      "Elapsed time = 0.11 sec. (0.97 ticks, tree = 0.01 MB, solutions = 1)\n",
      "*   270+   48                            0.4563        0.4452             2.45%\n",
      "   4912   453        0.4452     3        0.4563        0.4452    14230    2.45%           rho_6 U   4912   4910     48\n",
      "*  6490+  405                            0.4546        0.4452             2.07%\n",
      "   8543   655        cutoff              0.4546        0.4452    26286    2.07%           rho_8 U   8543   8541     53\n",
      "*  9249   694      integral     0        0.4545        0.4452    28774    2.07%\n",
      "  12148   825        0.4452     3        0.4545        0.4452    38184    2.07%           rho_6 N  12148   5113     44\n",
      "  15280   803        0.4520     3        0.4545        0.4452    52128    2.07%          rho_13 D  15280  15279     48\n",
      "  18383  1034        0.4514     8        0.4545        0.4452    68191    2.07%           rho_2 N  18383  18382     49\n",
      "  22262  1222        0.4452     3        0.4545        0.4452    83363    2.07%           rho_6 U  22262  22260     67\n",
      "  25687  1639        0.4452     4        0.4545        0.4452    99506    2.07%           rho_6 U  25687  25685     69\n",
      "  29240  2647        0.4452     2        0.4545        0.4452   116601    2.07%           rho_0 D  29240  29236     52\n",
      "  32561  3560        0.4452     1        0.4545        0.4452   134509    2.07%           rho_6 U  32561  32546     34\n",
      "  45010  4772        0.4531     3        0.4545        0.4452   198407    2.07%           rho_8 N  45010  45009     66\n",
      "Elapsed time = 3.44 sec. (3101.11 ticks, tree = 1.18 MB, solutions = 4)\n",
      "  60287  8501        0.4471     5        0.4545        0.4471   241019    1.65%           rho_0 D  60287  60281     26\n",
      "  77012  7441        0.4498     6        0.4545        0.4498   275764    1.04%           rho_0 D  77012  77010     69\n",
      "  94180  4282        0.4521     6        0.4545        0.4521   316201    0.55%           rho_6 D  94180  94178     52\n",
      "\n",
      "Gomory fractional cuts applied:  1\n",
      "User cuts applied:  89\n",
      "\n",
      "Root node processing (before b&c):\n",
      "  Real time             =    0.11 sec. (0.98 ticks)\n",
      "Sequential b&c:\n",
      "  Real time             =    6.66 sec. (6551.82 ticks)\n",
      "                          ------------\n",
      "Total (root+branch&cut) =    6.77 sec. (6552.79 ticks)\n",
      "+----------------------------------------------+------------------+-----------+\n",
      "| Pr(Y = +1) = 1.0/(1.0 + exp(-(-2 + score))   |                  |           |\n",
      "| ============================================ | ================ | ========= |\n",
      "| p_arrest>=2                                  |         1 points |   + ..... |\n",
      "| p_arrest>=5                                  |         1 points |   + ..... |\n",
      "| ============================================ | ================ | ========= |\n",
      "| ADD POINTS FROM ROWS 1 to 2                  |            SCORE |   = ..... |\n",
      "+----------------------------------------------+------------------+-----------+\n",
      "model_id, score_thresholds 0 {'rank_abs': [0]}\n",
      "get_disparity_predefined_group()\n",
      "setting c0 = 0.0 to ensure that intercept is not penalized\n",
      "09/11/19 @ 11:15 AM | 621 rows in lookup table\n",
      "09/11/19 @ 11:15 AM | ------------------------------------------------------------\n",
      "09/11/19 @ 11:15 AM | runnning initialization procedure\n",
      "09/11/19 @ 11:15 AM | ------------------------------------------------------------\n",
      "09/11/19 @ 11:15 AM | CPA produced 2 cuts\n",
      "09/11/19 @ 11:15 AM | running naive rounding on 123 solutions\n",
      "09/11/19 @ 11:15 AM | best objective value: 0.4436\n",
      "09/11/19 @ 11:15 AM | rounding produced 4 integer solutions\n",
      "09/11/19 @ 11:15 AM | best objective value is 0.4603\n",
      "09/11/19 @ 11:15 AM | running sequential rounding on 123 solutions\n",
      "09/11/19 @ 11:15 AM | best objective value: 0.4436\n",
      "09/11/19 @ 11:15 AM | sequential rounding produced 2 integer solutions\n",
      "09/11/19 @ 11:15 AM | best objective value: 0.4548\n",
      "09/11/19 @ 11:15 AM | polishing 6 solutions\n",
      "09/11/19 @ 11:15 AM | best objective value: 0.4548\n",
      "09/11/19 @ 11:15 AM | polishing produced 4 integer solutions\n",
      "09/11/19 @ 11:15 AM | initialization produced 6 feasible solutions\n",
      "09/11/19 @ 11:15 AM | best objective value: 0.4548\n",
      "09/11/19 @ 11:15 AM | ------------------------------------------------------------\n",
      "09/11/19 @ 11:15 AM | completed initialization procedure\n",
      "09/11/19 @ 11:15 AM | ------------------------------------------------------------\n",
      "09/11/19 @ 11:15 AM | 621 rows in lookup table\n",
      "CPXPARAM_Read_DataCheck                          1\n",
      "CPXPARAM_Threads                                 1\n",
      "CPXPARAM_Parallel                                1\n",
      "CPXPARAM_RandomSeed                              0\n",
      "CPXPARAM_TimeLimit                               200\n",
      "CPXPARAM_MIP_Tolerances_LowerCutoff              0.44356092264307462\n",
      "CPXPARAM_MIP_Tolerances_UpperCutoff              0.4547716323213612\n"
     ]
    },
    {
     "name": "stderr",
     "output_type": "stream",
     "text": [
      "Warning: Control callbacks may disable some MIP features.\n"
     ]
    },
    {
     "name": "stdout",
     "output_type": "stream",
     "text": [
      "Lazy constraint(s) or lazy constraint callback is present.\n",
      "    Disabling dual reductions (CPX_PARAM_REDUCE) in presolve.\n",
      "    Disabling non-linear reductions (CPX_PARAM_PRELINEAR) in presolve.\n",
      "         Disabling repeat represolve because of lazy constraint/incumbent callback.\n",
      "09/11/19 @ 11:15 AM | adding 122 initial cuts\n",
      "1 of 1 MIP starts provided solutions.\n",
      "MIP start 'mip_start_0' defined initial solution with objective 0.4548.\n",
      "Tried aggregator 1 time.\n",
      "Reduced MIP has 15 rows, 30 columns, and 55 nonzeros.\n",
      "Reduced MIP has 13 binaries, 15 generals, 0 SOSs, and 0 indicators.\n",
      "Presolve time = 0.00 sec. (0.03 ticks)\n",
      "Probing time = 0.00 sec. (0.01 ticks)\n",
      "MIP emphasis: balance optimality and feasibility.\n",
      "MIP search method: traditional branch-and-cut.\n",
      "Parallel mode: none, using 1 thread.\n",
      "Root relaxation solution time = 0.00 sec. (0.02 ticks)\n",
      "\n",
      "        Nodes                                         Cuts/\n",
      "   Node  Left     Objective  IInf  Best Integer    Best Bound    ItCnt     Gap         Variable B NodeID Parent  Depth\n",
      "\n",
      "*     0+    0                            0.4548        0.4435             2.49%\n",
      "      0     0        0.4436     1        0.4548        0.4436        1    2.47%\n",
      "      0     0        0.4436     1        0.4548       Cuts: 2        2    2.47%\n",
      "      0     2        0.4436     3        0.4548        0.4436        2    2.47%                        0             0\n",
      "Elapsed time = 0.05 sec. (0.96 ticks, tree = 0.01 MB, solutions = 1)\n",
      "*  5096   498      integral     0        0.4546        0.4436    14930    2.42%\n",
      "   5147   515        cutoff              0.4546        0.4436    15124    2.42%           rho_6 D   5147   5146     45\n",
      "   8730   596        0.4516     1        0.4546        0.4436    26562    2.42%           rho_0 U   8730   8729     63\n",
      "* 11880+  555                            0.4529        0.4436             2.06%\n",
      "  12117   635        0.4436     3        0.4529        0.4436    38910    2.06%           rho_1 U  12117  12115     28\n",
      "  15374  1556        0.4484     9        0.4529        0.4436    57480    2.06%           rho_2 D  15374  15373     55\n",
      "  19110  1812        cutoff              0.4529        0.4436    69977    2.06%           rho_5 U  19110  19109     46\n",
      "  22297  2967        0.4436     4        0.4529        0.4436    86762    2.06%           rho_0 D  22297  22295     52\n",
      "  26200  4137        0.4436     6        0.4529        0.4436   104337    2.06%           rho_0 D  26200  26102     33\n",
      "  30131  4727        0.4521     6        0.4529        0.4436   122072    2.06%           rho_6 D  30131  30130     36\n",
      "  34090  5226        0.4451     5        0.4529        0.4436   142615    2.06%           rho_0 U  34090  34089     61\n",
      "  47660  8824        0.4480     8        0.4529        0.4436   214378    2.06%           rho_7 D  47660  47658     15\n",
      "Elapsed time = 3.59 sec. (3100.91 ticks, tree = 2.24 MB, solutions = 3)\n",
      "  63488 10797        cutoff              0.4529        0.4443   267080    1.89%           rho_1 U  63488  63487     40\n",
      "  79532 10172        0.4522     5        0.4529        0.4467   302051    1.37%           rho_8 D  79532  79531     88\n",
      "  94920  7819        0.4481     7        0.4529        0.4481   342177    1.05%           rho_5 D  94920  80488     72\n",
      " 110877  5603        cutoff              0.4529        0.4496   381422    0.73%           rho_7 U 110877  37026     15\n",
      "\n",
      "Gomory fractional cuts applied:  1\n",
      "User cuts applied:  82\n",
      "\n",
      "Root node processing (before b&c):\n",
      "  Real time             =    0.05 sec. (0.96 ticks)\n",
      "Sequential b&c:\n",
      "  Real time             =    8.05 sec. (7591.99 ticks)\n",
      "                          ------------\n",
      "Total (root+branch&cut) =    8.09 sec. (7592.95 ticks)\n",
      "+----------------------------------------------+------------------+-----------+\n",
      "| Pr(Y = +1) = 1.0/(1.0 + exp(-(-2 + score))   |                  |           |\n",
      "| ============================================ | ================ | ========= |\n",
      "| p_arrest>=2                                  |         1 points |   + ..... |\n",
      "| p_arrest>=5                                  |         1 points |   + ..... |\n",
      "| ============================================ | ================ | ========= |\n",
      "| ADD POINTS FROM ROWS 1 to 2                  |            SCORE |   = ..... |\n",
      "+----------------------------------------------+------------------+-----------+\n",
      "model_id, score_thresholds 0 {'rank_abs': [0]}\n",
      "get_disparity_predefined_group()\n",
      "setting c0 = 0.0 to ensure that intercept is not penalized\n",
      "09/11/19 @ 11:15 AM | 621 rows in lookup table\n",
      "09/11/19 @ 11:15 AM | ------------------------------------------------------------\n",
      "09/11/19 @ 11:15 AM | runnning initialization procedure\n",
      "09/11/19 @ 11:15 AM | ------------------------------------------------------------\n",
      "09/11/19 @ 11:15 AM | CPA produced 2 cuts\n",
      "09/11/19 @ 11:15 AM | running naive rounding on 136 solutions\n",
      "09/11/19 @ 11:15 AM | best objective value: 0.4423\n",
      "09/11/19 @ 11:15 AM | rounding produced 2 integer solutions\n",
      "09/11/19 @ 11:15 AM | best objective value is 0.4590\n",
      "09/11/19 @ 11:15 AM | running sequential rounding on 136 solutions\n",
      "09/11/19 @ 11:15 AM | best objective value: 0.4423\n",
      "09/11/19 @ 11:15 AM | sequential rounding produced 1 integer solutions\n",
      "09/11/19 @ 11:15 AM | best objective value: 0.4558\n",
      "09/11/19 @ 11:15 AM | polishing 3 solutions\n",
      "09/11/19 @ 11:15 AM | best objective value: 0.4558\n",
      "09/11/19 @ 11:15 AM | polishing produced 2 integer solutions\n",
      "09/11/19 @ 11:15 AM | initialization produced 3 feasible solutions\n",
      "09/11/19 @ 11:15 AM | best objective value: 0.4558\n",
      "09/11/19 @ 11:15 AM | ------------------------------------------------------------\n",
      "09/11/19 @ 11:15 AM | completed initialization procedure\n",
      "09/11/19 @ 11:15 AM | ------------------------------------------------------------\n",
      "09/11/19 @ 11:15 AM | 621 rows in lookup table\n",
      "CPXPARAM_Read_DataCheck                          1\n",
      "CPXPARAM_Threads                                 1\n",
      "CPXPARAM_Parallel                                1\n",
      "CPXPARAM_RandomSeed                              0\n",
      "CPXPARAM_TimeLimit                               200\n",
      "CPXPARAM_MIP_Tolerances_LowerCutoff              0.44229877355028496\n",
      "CPXPARAM_MIP_Tolerances_UpperCutoff              0.45578842118536267\n"
     ]
    },
    {
     "name": "stderr",
     "output_type": "stream",
     "text": [
      "Warning: Control callbacks may disable some MIP features.\n"
     ]
    },
    {
     "name": "stdout",
     "output_type": "stream",
     "text": [
      "Lazy constraint(s) or lazy constraint callback is present.\n",
      "    Disabling dual reductions (CPX_PARAM_REDUCE) in presolve.\n",
      "    Disabling non-linear reductions (CPX_PARAM_PRELINEAR) in presolve.\n",
      "         Disabling repeat represolve because of lazy constraint/incumbent callback.\n",
      "09/11/19 @ 11:15 AM | adding 135 initial cuts\n",
      "1 of 1 MIP starts provided solutions.\n",
      "MIP start 'mip_start_0' defined initial solution with objective 0.4558.\n",
      "Tried aggregator 1 time.\n",
      "Reduced MIP has 15 rows, 30 columns, and 55 nonzeros.\n",
      "Reduced MIP has 13 binaries, 15 generals, 0 SOSs, and 0 indicators.\n",
      "Presolve time = 0.00 sec. (0.03 ticks)\n",
      "Probing time = 0.00 sec. (0.01 ticks)\n",
      "MIP emphasis: balance optimality and feasibility.\n",
      "MIP search method: traditional branch-and-cut.\n",
      "Parallel mode: none, using 1 thread.\n",
      "Root relaxation solution time = 0.00 sec. (0.02 ticks)\n",
      "\n",
      "        Nodes                                         Cuts/\n",
      "   Node  Left     Objective  IInf  Best Integer    Best Bound    ItCnt     Gap         Variable B NodeID Parent  Depth\n",
      "\n",
      "*     0+    0                            0.4558        0.4422             2.98%\n",
      "      0     0        0.4423     1        0.4558        0.4423        1    2.96%\n",
      "      0     0        0.4423     1        0.4558       Cuts: 2        2    2.96%\n",
      "      0     2        0.4423     4        0.4558        0.4423        2    2.96%                        0             0\n",
      "Elapsed time = 0.05 sec. (0.98 ticks, tree = 0.01 MB, solutions = 1)\n",
      "*   118    58      integral     0        0.4556        0.4423      242    2.92%\n",
      "*   907   142      integral     0        0.4535        0.4423     2030    2.46%\n",
      "*   924   147      integral     0        0.4535        0.4423     2081    2.46%\n",
      "*   934   149      integral     0        0.4533        0.4423     2109    2.42%\n",
      "   4845   551        0.4423     3        0.4533        0.4423    15817    2.42%           rho_6 U   4845   4809     41\n",
      "*  7110+  591                            0.4518        0.4423             2.09%\n",
      "*  7113   593      integral     0        0.4517        0.4423    25057    2.08%\n",
      "   9060   640        0.4516     5        0.4517        0.4423    30339    2.08%           rho_6 D   9060   9059     67\n",
      "  12560   768        0.4514     3        0.4517        0.4423    40700    2.08%          rho_13 N  12560  12559     26\n",
      "  15739   782        0.4423     4        0.4517        0.4423    50258    2.08%           rho_0 D  15739  15697     53\n",
      "  18940   777        0.4486     5        0.4517        0.4423    62769    2.08%           rho_6 D  18940  18939     38\n",
      "  22049   980        0.4423     4        0.4517        0.4423    78128    2.08%           rho_6 U  22049  22046     59\n",
      "  25069  1228        0.4423     5        0.4517        0.4423    93740    2.08%           rho_6 N  25069  25068     50\n",
      "  28247  1528        0.4474     9        0.4517        0.4423   105481    2.08%           rho_6 D  28247  28246     42\n",
      "  31404  2059        0.4501     3        0.4517        0.4423   121724    2.08%           rho_2 N  31404  31403     17\n",
      "  43597  4834        0.4485    12        0.4517        0.4423   194018    2.08%           rho_2 D  43597  43595     62\n",
      "Elapsed time = 3.31 sec. (3101.08 ticks, tree = 1.20 MB, solutions = 7)\n",
      "  58806  8760        0.4462    11        0.4517        0.4438   247792    1.74%           rho_6 D  58806  58805     57\n",
      "  75730  9688        0.4457     8        0.4517        0.4457   283445    1.32%           rho_3 D  75730  29077     61\n",
      "  91273  8371        0.4499     5        0.4517        0.4476   321847    0.91%          rho_13 N  91273  49998     38\n",
      " 108688  1757        0.4505     6        0.4517        0.4505   361623    0.25%           rho_0 D 108688 108687     46\n",
      "\n",
      "Gomory fractional cuts applied:  1\n",
      "User cuts applied:  86\n",
      "\n",
      "Root node processing (before b&c):\n",
      "  Real time             =    0.05 sec. (0.98 ticks)\n",
      "Sequential b&c:\n",
      "  Real time             =    6.58 sec. (7183.71 ticks)\n",
      "                          ------------\n",
      "Total (root+branch&cut) =    6.63 sec. (7184.70 ticks)\n",
      "+----------------------------------------------+------------------+-----------+\n",
      "| Pr(Y = +1) = 1.0/(1.0 + exp(-(-2 + score))   |                  |           |\n",
      "| ============================================ | ================ | ========= |\n",
      "| p_arrest>=2                                  |         1 points |   + ..... |\n",
      "| p_arrest>=5                                  |         1 points |   + ..... |\n",
      "| ============================================ | ================ | ========= |\n",
      "| ADD POINTS FROM ROWS 1 to 2                  |            SCORE |   = ..... |\n",
      "+----------------------------------------------+------------------+-----------+\n",
      "model_id, score_thresholds 0 {'rank_abs': [0]}\n",
      "get_disparity_predefined_group()\n",
      "setting c0 = 0.0 to ensure that intercept is not penalized\n",
      "09/11/19 @ 11:15 AM | 621 rows in lookup table\n",
      "09/11/19 @ 11:15 AM | ------------------------------------------------------------\n",
      "09/11/19 @ 11:15 AM | runnning initialization procedure\n",
      "09/11/19 @ 11:15 AM | ------------------------------------------------------------\n",
      "09/11/19 @ 11:15 AM | CPA produced 2 cuts\n",
      "09/11/19 @ 11:15 AM | running naive rounding on 130 solutions\n",
      "09/11/19 @ 11:15 AM | best objective value: 0.4439\n",
      "09/11/19 @ 11:15 AM | rounding produced 3 integer solutions\n",
      "09/11/19 @ 11:15 AM | best objective value is 0.4608\n",
      "09/11/19 @ 11:15 AM | running sequential rounding on 130 solutions\n",
      "09/11/19 @ 11:15 AM | best objective value: 0.4439\n",
      "09/11/19 @ 11:15 AM | sequential rounding produced 2 integer solutions\n",
      "09/11/19 @ 11:15 AM | best objective value: 0.4549\n",
      "09/11/19 @ 11:15 AM | polishing 5 solutions\n",
      "09/11/19 @ 11:15 AM | best objective value: 0.4549\n",
      "09/11/19 @ 11:15 AM | polishing produced 5 integer solutions\n",
      "09/11/19 @ 11:15 AM | initialization produced 6 feasible solutions\n",
      "09/11/19 @ 11:15 AM | best objective value: 0.4549\n",
      "09/11/19 @ 11:15 AM | ------------------------------------------------------------\n",
      "09/11/19 @ 11:15 AM | completed initialization procedure\n",
      "09/11/19 @ 11:15 AM | ------------------------------------------------------------\n",
      "09/11/19 @ 11:15 AM | 621 rows in lookup table\n",
      "CPXPARAM_Read_DataCheck                          1\n",
      "CPXPARAM_Threads                                 1\n",
      "CPXPARAM_Parallel                                1\n",
      "CPXPARAM_RandomSeed                              0\n",
      "CPXPARAM_TimeLimit                               200\n",
      "CPXPARAM_MIP_Tolerances_LowerCutoff              0.44387831336342698\n",
      "CPXPARAM_MIP_Tolerances_UpperCutoff              0.45487669223896388\n"
     ]
    },
    {
     "name": "stderr",
     "output_type": "stream",
     "text": [
      "Warning: Control callbacks may disable some MIP features.\n"
     ]
    },
    {
     "name": "stdout",
     "output_type": "stream",
     "text": [
      "Lazy constraint(s) or lazy constraint callback is present.\n",
      "    Disabling dual reductions (CPX_PARAM_REDUCE) in presolve.\n",
      "    Disabling non-linear reductions (CPX_PARAM_PRELINEAR) in presolve.\n",
      "         Disabling repeat represolve because of lazy constraint/incumbent callback.\n",
      "09/11/19 @ 11:15 AM | adding 129 initial cuts\n",
      "1 of 1 MIP starts provided solutions.\n",
      "MIP start 'mip_start_0' defined initial solution with objective 0.4549.\n",
      "Tried aggregator 1 time.\n",
      "Reduced MIP has 15 rows, 30 columns, and 55 nonzeros.\n",
      "Reduced MIP has 13 binaries, 15 generals, 0 SOSs, and 0 indicators.\n",
      "Presolve time = 0.00 sec. (0.03 ticks)\n",
      "Probing time = 0.00 sec. (0.01 ticks)\n",
      "MIP emphasis: balance optimality and feasibility.\n",
      "MIP search method: traditional branch-and-cut.\n",
      "Parallel mode: none, using 1 thread.\n",
      "Root relaxation solution time = 0.00 sec. (0.02 ticks)\n",
      "\n",
      "        Nodes                                         Cuts/\n",
      "   Node  Left     Objective  IInf  Best Integer    Best Bound    ItCnt     Gap         Variable B NodeID Parent  Depth\n",
      "\n",
      "*     0+    0                            0.4549        0.4438             2.44%\n",
      "      0     0        0.4439     1        0.4549        0.4439        1    2.42%\n",
      "      0     0        0.4439     1        0.4549       Cuts: 2        2    2.42%\n",
      "      0     2        0.4439     3        0.4549        0.4439        2    2.42%                        0             0\n",
      "Elapsed time = 0.06 sec. (0.98 ticks, tree = 0.01 MB, solutions = 1)\n",
      "*   210+   40                            0.4534        0.4439             2.10%\n",
      "*   790+  204                            0.4533        0.4439             2.08%\n",
      "*   794   202      integral     0        0.4533        0.4439     2230    2.08%\n",
      "   4602   418        0.4497     5        0.4533        0.4439    16928    2.08%           rho_0 U   4602   4601     57\n",
      "   8169   708        0.4439     4        0.4533        0.4439    30988    2.08%           rho_0 D   8169   8163     65\n",
      "  11619  1660        0.4502     4        0.4533        0.4439    47887    2.08%          rho_13 D  11619  11618     54\n",
      "  14882  2825        0.4440     7        0.4533        0.4439    67090    2.08%           rho_0 U  14882  14881     39\n",
      "  18244  4005        0.4439     5        0.4533        0.4439    85952    2.08%           rho_0 D  18244  18242     64\n",
      "  21455  5003        0.4522     7        0.4533        0.4439   103254    2.08%           rho_6 D  21455  21454     62\n",
      "  25030  6656        0.4439     3        0.4533        0.4439   122004    2.08%           rho_6 U  25030  25028     50\n",
      "  28561  7903        0.4439     5        0.4533        0.4439   142498    2.08%           rho_6 U  28561  28559     28\n",
      "  32267  9099        0.4439     4        0.4533        0.4439   161074    2.08%           rho_6 U  32267  32265     62\n",
      "  48303 13714        0.4452     4        0.4533        0.4452   216389    1.79%           rho_6 U  48303  48301     28\n",
      "Elapsed time = 3.09 sec. (3100.81 ticks, tree = 3.11 MB, solutions = 4)\n",
      "  64976 14516        0.4474     6        0.4533        0.4474   252418    1.31%           rho_0 D  64976  64974     66\n",
      "  82518 12729        0.4501     6        0.4533        0.4500   288445    0.72%           rho_8 D  82518  44517     56\n",
      "  98441  4264        0.4532     3        0.4533        0.4525   325910    0.17%           rho_9 D  98441  98440     15\n",
      "\n",
      "Gomory fractional cuts applied:  1\n",
      "User cuts applied:  77\n",
      "\n",
      "Root node processing (before b&c):\n",
      "  Real time             =    0.06 sec. (0.99 ticks)\n",
      "Sequential b&c:\n",
      "  Real time             =    5.53 sec. (6274.72 ticks)\n",
      "                          ------------\n",
      "Total (root+branch&cut) =    5.59 sec. (6275.71 ticks)\n",
      "+----------------------------------------------+------------------+-----------+\n",
      "| Pr(Y = +1) = 1.0/(1.0 + exp(-(-2 + score))   |                  |           |\n",
      "| ============================================ | ================ | ========= |\n",
      "| p_arrest>=2                                  |         1 points |   + ..... |\n",
      "| p_arrest>=5                                  |         1 points |   + ..... |\n",
      "| ============================================ | ================ | ========= |\n",
      "| ADD POINTS FROM ROWS 1 to 2                  |            SCORE |   = ..... |\n",
      "+----------------------------------------------+------------------+-----------+\n",
      "model_id, score_thresholds 0 {'rank_abs': [0]}\n",
      "get_disparity_predefined_group()\n"
     ]
    }
   ],
   "source": [
    "riskslim_summary = slim.risk_cv(X=sub_X, \n",
    "                                Y=sub_Y, \n",
    "                                indicator = indicator,\n",
    "                                y_label='recid_M2', \n",
    "                                max_coef=20, \n",
    "                                max_coef_number=10, \n",
    "                                max_runtime=200, \n",
    "                                c=1e-5, \n",
    "                                seed=816)"
   ]
  },
  {
   "cell_type": "code",
   "execution_count": 38,
   "metadata": {},
   "outputs": [
    {
     "data": {
      "text/plain": [
       "(0.6660618542875627, 0.6660784306230215)"
      ]
     },
     "execution_count": 38,
     "metadata": {},
     "output_type": "execute_result"
    }
   ],
   "source": [
    "np.mean(riskslim_summary['train_auc']), np.mean(riskslim_summary['test_auc'])"
   ]
  },
  {
   "cell_type": "markdown",
   "metadata": {},
   "source": [
    "### Results"
   ]
  },
  {
   "cell_type": "code",
   "execution_count": 27,
   "metadata": {},
   "outputs": [
    {
     "name": "stdout",
     "output_type": "stream",
     "text": [
      "Stored 'summary_M2_KY_interpret' (dict)\n"
     ]
    }
   ],
   "source": [
    "#### save results\n",
    "summary_M2_KY_interpret = {\"CART\": cart_summary,\n",
    "                                   \"EBM\": ebm_summary, \n",
    "                                   'Lasso Stumps': stump_summary, \n",
    "                                   'RiskSLIM': riskslim_summary, \n",
    "                                   'Arnold PSA Raw': raw_auc, \n",
    "                                   'Arnold PSA': calc_auc}\n",
    "%store summary_M2_KY_interpret"
   ]
  },
  {
   "cell_type": "code",
   "execution_count": 28,
   "metadata": {},
   "outputs": [
    {
     "data": {
      "text/plain": [
       "[['CART', 0.7030375736229602, 0.011760264698188671],\n",
       " ['EBM', 0.7125336080636797, 0.004566020388930325],\n",
       " ['Lasso Stumps', 0.7062530901638538, 0.00044542381557681753],\n",
       " ['RiskSLIM', 0.6660784306230215],\n",
       " ['Arnold PSA Raw', 0.687],\n",
       " ['Arnold PSA', 0.678]]"
      ]
     },
     "execution_count": 28,
     "metadata": {},
     "output_type": "execute_result"
    }
   ],
   "source": [
    "results = [[\"CART\", np.mean(cart_summary['holdout_test_auc']), np.mean(cart_summary['auc_diffs'])],\n",
    "           [\"EBM\", np.mean(ebm_summary['holdout_test_auc']), np.mean(ebm_summary['auc_diffs'])], \n",
    "           [\"Lasso Stumps\", np.mean(stump_summary['holdout_test_auc']), np.mean(stump_summary['auc_diffs'])],\n",
    "           ['RiskSLIM', np.mean(riskslim_summary['test_auc'])],\n",
    "           ['Arnold PSA Raw', round(np.mean(raw_auc), 3)], \n",
    "           ['Arnold PSA', round(np.mean(calc_auc), 3)]]\n",
    "results"
   ]
  },
  {
   "cell_type": "code",
   "execution_count": 32,
   "metadata": {},
   "outputs": [],
   "source": [
    "auc = [np.mean(cart_summary['holdout_test_auc']), \n",
    "       np.mean(ebm_summary['holdout_test_auc']), \n",
    "       np.mean(stump_summary['holdout_test_auc']), \n",
    "       np.mean(riskslim_summary['test_auc'])]"
   ]
  },
  {
   "cell_type": "code",
   "execution_count": 33,
   "metadata": {},
   "outputs": [],
   "source": [
    "path = \"C:/Users/binha/Documents/Duke/Cynthia Research/KY-analysis-mytrials/KY Recidivism/KY Results/Models/Two Year/\"\n",
    "results = [[\"Misdemeanor\", np.str((round(np.mean(cart_summary['holdout_test_auc']), 3))) + \" (\" + np.str(round(np.std(cart_summary['holdout_test_auc']), 3)) + \")\", \n",
    "            np.str(round(np.mean(ebm_summary['holdout_test_auc']),3)) + \" (\" + np.str(round(np.std(ebm_summary['holdout_test_auc']), 3)) + \")\", \n",
    "            np.str(round(np.mean(stump_summary['holdout_test_auc']),3)) + \" (\" + np.str(round(np.std(stump_summary['holdout_test_auc']), 3)) + \")\",             \n",
    "            np.str(round(np.mean(riskslim_summary['test_auc']),3)) + \" (\" + np.str(round(np.std(riskslim_summary['test_auc']), 3)) + \")\", \n",
    "            round(np.max(auc) - np.min(auc), 3),\n",
    "            np.str(round(np.mean(raw_auc), 3)) + \" (\" + np.str(round(np.std(raw_auc),3)) + \")\", \n",
    "            np.str(round(np.mean(calc_auc), 3)) + \" (\" + np.str(round(np.std(calc_auc),3)) + \")\"]]\n",
    "with open(path + 'Interpretable Models Summary.csv', 'a') as writeFile:\n",
    "    writer = csv.writer(writeFile)\n",
    "    writer.writerows(results)"
   ]
  }
 ],
 "metadata": {
  "kernelspec": {
   "display_name": "Python 3",
   "language": "python",
   "name": "python3"
  },
  "language_info": {
   "codemirror_mode": {
    "name": "ipython",
    "version": 3
   },
   "file_extension": ".py",
   "mimetype": "text/x-python",
   "name": "python",
   "nbconvert_exporter": "python",
   "pygments_lexer": "ipython3",
   "version": "3.7.4"
  }
 },
 "nbformat": 4,
 "nbformat_minor": 4
}
