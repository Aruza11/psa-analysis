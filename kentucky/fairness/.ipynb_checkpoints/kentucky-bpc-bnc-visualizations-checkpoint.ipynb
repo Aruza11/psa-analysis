{
 "cells": [
  {
   "cell_type": "code",
   "execution_count": 1,
   "metadata": {},
   "outputs": [
    {
     "name": "stdout",
     "output_type": "stream",
     "text": [
      "Current working directory is now:  C:\\Users\\Caroline Wang\\OneDrive\\Duke\\Criminal Recidivism\\psa-analysis\n"
     ]
    }
   ],
   "source": [
    "import os \n",
    "os.chdir('../../')\n",
    "print(\"Current working directory is now: \", os.getcwd())\n",
    "\n",
    "import numpy as np \n",
    "import pandas as pd \n",
    "\n",
    "import matplotlib.pyplot as plt \n",
    "\n",
    "from utils.load_settings import load_settings\n",
    "from utils.fairness_functions import reshape_general_violent_cond_auc_summaries\n",
    "\n",
    "%matplotlib inline\n",
    "# load parameters\n",
    "settings = load_settings()"
   ]
  },
  {
   "cell_type": "code",
   "execution_count": 2,
   "metadata": {},
   "outputs": [
    {
     "data": {
      "text/plain": [
       "dict_keys(['broward-general-two-year-arnold', 'broward-general-two-year-compas', 'broward-general-two-year-ebm', 'broward-general-two-year-riskslim_cs', 'broward-general-two-year-riskslim', 'kentucky-general-two-year-arnold', 'kentucky-general-two-year-ebm', 'kentucky-general-two-year-riskslim', 'broward-violent-two-year-arnold', 'broward-violent-two-year-compas', 'broward-violent-two-year-ebm', 'broward-violent-two-year-riskslim_cs', 'broward-violent-two-year-riskslim', 'kentucky-violent-two-year-arnold', 'kentucky-violent-two-year-ebm', 'kentucky-violent-two-year-riskslim'])"
      ]
     },
     "execution_count": 2,
     "metadata": {},
     "output_type": "execute_result"
    }
   ],
   "source": [
    "# read in Broward/Kentucky BNC/BPC data for prediction problems of interest\n",
    "bpc_bnc_data = {}\n",
    "for time_period in [\n",
    "#                     \"six-month\", \n",
    "                    \"two-year\"\n",
    "                    ]:\n",
    "    \n",
    "#     time_period_formatted = time_period.rel\n",
    "    for problem in ['general', 'violent']:\n",
    "        for region, pn_folder_name in {'broward': \"no-condition-pn\", 'kentucky': \"no-condition-pn\"}.items():\n",
    "            problem_path = region + \"/\" +  pn_folder_name + \"/\" + time_period + \"/\" + problem\n",
    "            dircontents = os.listdir()\n",
    "            if os.path.isdir(problem_path):\n",
    "                onlyfiles = [f for f in os.listdir(problem_path) if os.path.isfile(os.path.join(problem_path, f))]\n",
    "            else: \n",
    "                continue\n",
    "            for filename in onlyfiles:\n",
    "                filename_list = filename.split(\"_\")\n",
    "                if len(filename_list) == 4: \n",
    "                    model_name = filename_list[0]\n",
    "                elif len(filename_list) == 5: \n",
    "                    model_name = filename_list[0] + \"_\" + filename_list[1]\n",
    "                if model_name in ['ebm', 'riskslim', 'riskslim_cs', 'compas', 'arnold']:\n",
    "                    bpc_bnc_data[\"-\".join((region, problem, time_period, model_name))] = pd.read_csv(problem_path + \"/\" + filename)\n",
    "\n",
    "bpc_bnc_data.keys()"
   ]
  },
  {
   "cell_type": "code",
   "execution_count": 3,
   "metadata": {},
   "outputs": [
    {
     "data": {
      "text/plain": [
       "array(['African-American', 'Hispanic', 'Caucasian', 'Other', 'male',\n",
       "       'female'], dtype=object)"
      ]
     },
     "execution_count": 3,
     "metadata": {},
     "output_type": "execute_result"
    }
   ],
   "source": [
    "bpc_bnc_data['broward-violent-two-year-arnold']['Attribute Value'].unique()"
   ]
  },
  {
   "cell_type": "code",
   "execution_count": 4,
   "metadata": {},
   "outputs": [
    {
     "data": {
      "text/plain": [
       "array(['African-American', 'Caucasian', 'Other', 'male', 'female'],\n",
       "      dtype=object)"
      ]
     },
     "execution_count": 4,
     "metadata": {},
     "output_type": "execute_result"
    }
   ],
   "source": [
    "bpc_bnc_data['kentucky-violent-two-year-arnold']['Attribute Value'].unique()"
   ]
  },
  {
   "cell_type": "markdown",
   "metadata": {},
   "source": [
    "## BPC and BNC\n",
    "A score $S$ is **balanced for the positive class** if \n",
    "$$\n",
    "E[S |Y = 1,G = g_i] = E[S |Y = 1,G = g_j],\\forall i \\neq j \\in \\alpha.\n",
    "$$\n",
    "\n",
    "Similarly, a score $S$ satisfies **balance for negative class** (BNC) if\n",
    "\n",
    "$$\n",
    "E[S |Y = 0,G = g_i] = E[S |Y = 0,G = g_j],\\forall i \\neq j \\in \\alpha.\n",
    "$$\n"
   ]
  },
  {
   "cell_type": "markdown",
   "metadata": {},
   "source": [
    "## Plot BPC and BNC"
   ]
  },
  {
   "cell_type": "code",
   "execution_count": 5,
   "metadata": {},
   "outputs": [],
   "source": [
    "def summarize_bpc_bnc_data(bpc_bnc_df:pd.DataFrame,\n",
    "                           problem_name:str):\n",
    "    \"\"\"\n",
    "    Summarize balance for positive class and negative class output.\n",
    "    \"\"\"\n",
    "    summary = (bpc_bnc_df\n",
    "                 .drop(columns=[\"fold_num\"])\n",
    "                 .groupby([\"Attribute\", \"Attribute Value\", \"Label\"])\n",
    "                 .agg('mean')\n",
    "                 .reset_index()\n",
    "                 .replace({\"Label\": {0: \"bnc\",\n",
    "                                     1: \"bpc\"}})\n",
    "              )\n",
    "\n",
    "    summary['Label Name'] = f'{problem_name}_'\n",
    "    summary['Label'] = summary['Label Name'] + summary['Label']\n",
    "    del summary['Label Name']\n",
    "\n",
    "    \n",
    "    return summary\n",
    "\n",
    "\n",
    "def reshape_general_summary(general_summary):\n",
    "    \"\"\"\n",
    "    \"\"\"\n",
    "    new_df = (general_summary.replace({\"Attribute Value\": {\"African-American\": \"Afr-Am.\",\n",
    "                                                  \"Other\": \"Other Race\",\n",
    "                                                  \"Hispanic\": \"Hisp.\",\n",
    "                                                  \"Caucasian\": \"Cauc.\",\n",
    "                                                  \"female\": \"Female\", \n",
    "                                                  \"male\": \"Male\"}}))\n",
    " \n",
    "    wide_df = new_df.pivot(index=\"Label\",\n",
    "                       columns=\"Attribute Value\",\n",
    "                       values=[\"Expected Score\"])\n",
    "    \n",
    "    col_order = ['Afr-Am.', 'Cauc.', 'Hisp.', \"Other Race\", \"Female\", \"Male\"]\n",
    "    # check if Kentucky\n",
    "    if \"Hispanic\" not in new_df['Attribute Value'].unique():\n",
    "        col_order = ['Afr-Am.', 'Cauc.', \"Other Race\", \"Female\", \"Male\"]\n",
    "        \n",
    "    wide_df = wide_df.T.reindex(col_order, level=1).T\n",
    "\n",
    "    return wide_df"
   ]
  },
  {
   "cell_type": "code",
   "execution_count": 6,
   "metadata": {},
   "outputs": [],
   "source": [
    "def autolabel(rects):\n",
    "    \"\"\"\n",
    "    Attach a text label above each bar displaying its height\n",
    "    \"\"\"\n",
    "    for rect in rects:\n",
    "        height = rect.get_height()\n",
    "        plt.text(rect.get_x() + rect.get_width()/2., 1.05*height,\n",
    "                '%d' % int(height),\n",
    "                ha='center', va='bottom')\n",
    "\n",
    "def plot_bpc_bnc_kentucky_general(wide_df,\n",
    "                                  model_name:str,\n",
    "                                  region:str,\n",
    "                                  save_path=None):\n",
    "    \"\"\"\n",
    "    \"\"\"\n",
    "    plt.figure(figsize=(8, 6))\n",
    "    plt.style.use('ggplot')\n",
    "\n",
    "    attribute_values = wide_df.columns.get_level_values(1)\n",
    "    barWidth = 0.12\n",
    "\n",
    "    bars = {attribute_value: {\"bar\": None, \"pos\": None} for attribute_value in attribute_values}\n",
    "    for attribute_value in attribute_values:\n",
    "        bars[attribute_value][\"bar\"] = wide_df[('Expected Score', attribute_value)]\n",
    "        bar_len = len(bars[attribute_value][\"bar\"])\n",
    "\n",
    "    # Set position of bar on X axis\n",
    "    for i, (bar_name, bar_dict) in enumerate(bars.items()):\n",
    "        if i == 0:\n",
    "            bar_dict[\"pos\"] = np.arange(len(bar_dict[\"bar\"]))\n",
    "        else: \n",
    "            prev_bar_pos = bars[prev_bar_name][\"pos\"]\n",
    "            bar_dict[\"pos\"] = [x + barWidth for x in prev_bar_pos]\n",
    "        prev_bar_name = bar_name \n",
    "\n",
    "    colors = {\"Afr-Am.\": 'cornflowerblue',\n",
    "              \"Other Race\": 'lightslategrey',\n",
    "              \"Hisp.\": 'lightskyblue',\n",
    "              \"Cauc.\": 'steelblue',\n",
    "              \"Female\": 'lightcoral', \n",
    "              \"Male\": 'pink'}\n",
    "\n",
    "    for i, (bar_name, bar_dict) in enumerate(bars.items()):\n",
    "        attr_bars = plt.bar(bar_dict[\"pos\"], \n",
    "                      bar_dict[\"bar\"], \n",
    "                      color=colors[bar_name], \n",
    "                      width=barWidth, \n",
    "                      edgecolor='white', \n",
    "                      label=f\"{bar_name}\")\n",
    "        \n",
    "        autolabel(attr_bars)\n",
    "\n",
    "    \n",
    "    # Add xticks on the middle of the group bars\n",
    "#     plt.xlabel(f'\\nTwo Yr Problems, {region_cap}', fontsize=25)\n",
    "\n",
    "    xtick_labels = list(wide_df.index)\n",
    "    plt.xticks(np.arange(len(xtick_labels))+.2, xtick_labels)\n",
    "    plt.tick_params(axis=\"x\", labelsize=20)\n",
    "\n",
    "    # y axis formatting\n",
    "    if model_name == \"Arnold\":\n",
    "        plt.ylim(0,8)\n",
    "        plt.axhline(y=6, color='firebrick', linestyle='--', alpha=.8)\n",
    "        plt.axhline(y=7, color='firebrick', linestyle='--', alpha=.8)\n",
    "    else:\n",
    "        plt.ylim(0,1.05)\n",
    "        plt.axhline(y=1, color='firebrick', linestyle='--', alpha=.8)\n",
    "\n",
    "    plt.tick_params(axis=\"y\", labelsize=25)\n",
    "\n",
    "    plt.legend(fontsize=20, ncol=2)\n",
    "    plt.ylabel(f'E({model_name} | Attr = attr, Y = i)', fontsize=25)\n",
    "\n",
    "    region_cap = region.capitalize()\n",
    "    plt.title(f\"BPC/BNC for {model_name} on \\ngeneral_two_year in {region_cap}\", fontsize = 24)\n",
    "\n",
    "    if save_path is not None:\n",
    "        safe_save_plt(plt, save_path)\n",
    "    plt.show()\n",
    "    plt.close()\n",
    "    return\n"
   ]
  },
  {
   "cell_type": "code",
   "execution_count": 7,
   "metadata": {
    "scrolled": true
   },
   "outputs": [
    {
     "ename": "NameError",
     "evalue": "name 'ax' is not defined",
     "output_type": "error",
     "traceback": [
      "\u001b[1;31m---------------------------------------------------------------------------\u001b[0m",
      "\u001b[1;31mNameError\u001b[0m                                 Traceback (most recent call last)",
      "\u001b[1;32m<ipython-input-7-7defe23ec84a>\u001b[0m in \u001b[0;36m<module>\u001b[1;34m()\u001b[0m\n\u001b[0;32m     19\u001b[0m              \u001b[0mmodel_name\u001b[0m\u001b[1;33m=\u001b[0m\u001b[0mmodel_name\u001b[0m\u001b[1;33m,\u001b[0m\u001b[1;33m\u001b[0m\u001b[0m\n\u001b[0;32m     20\u001b[0m              \u001b[0mregion\u001b[0m\u001b[1;33m=\u001b[0m\u001b[1;34m'kentucky'\u001b[0m\u001b[1;33m,\u001b[0m\u001b[1;33m\u001b[0m\u001b[0m\n\u001b[1;32m---> 21\u001b[1;33m              \u001b[0msave_path\u001b[0m\u001b[1;33m=\u001b[0m\u001b[1;34mf\"kentucky/logs/fairness_results/bpc_bnc_visualizations/{model_name_lower}_bpc_bnc.pdf\"\u001b[0m\u001b[1;33m\u001b[0m\u001b[0m\n\u001b[0m\u001b[0;32m     22\u001b[0m                              )\n",
      "\u001b[1;32m<ipython-input-6-1ad1b460a119>\u001b[0m in \u001b[0;36mplot_bpc_bnc_kentucky_general\u001b[1;34m(wide_df, model_name, region, save_path)\u001b[0m\n\u001b[0;32m     50\u001b[0m                       label=f\"{bar_name}\")\n\u001b[0;32m     51\u001b[0m \u001b[1;33m\u001b[0m\u001b[0m\n\u001b[1;32m---> 52\u001b[1;33m         \u001b[0mautolabel\u001b[0m\u001b[1;33m(\u001b[0m\u001b[0mattr_bars\u001b[0m\u001b[1;33m)\u001b[0m\u001b[1;33m\u001b[0m\u001b[0m\n\u001b[0m\u001b[0;32m     53\u001b[0m \u001b[1;33m\u001b[0m\u001b[0m\n\u001b[0;32m     54\u001b[0m \u001b[1;33m\u001b[0m\u001b[0m\n",
      "\u001b[1;32m<ipython-input-6-1ad1b460a119>\u001b[0m in \u001b[0;36mautolabel\u001b[1;34m(rects)\u001b[0m\n\u001b[0;32m      5\u001b[0m     \u001b[1;32mfor\u001b[0m \u001b[0mrect\u001b[0m \u001b[1;32min\u001b[0m \u001b[0mrects\u001b[0m\u001b[1;33m:\u001b[0m\u001b[1;33m\u001b[0m\u001b[0m\n\u001b[0;32m      6\u001b[0m         \u001b[0mheight\u001b[0m \u001b[1;33m=\u001b[0m \u001b[0mrect\u001b[0m\u001b[1;33m.\u001b[0m\u001b[0mget_height\u001b[0m\u001b[1;33m(\u001b[0m\u001b[1;33m)\u001b[0m\u001b[1;33m\u001b[0m\u001b[0m\n\u001b[1;32m----> 7\u001b[1;33m         ax.text(rect.get_x() + rect.get_width()/2., 1.05*height,\n\u001b[0m\u001b[0;32m      8\u001b[0m                 \u001b[1;34m'%d'\u001b[0m \u001b[1;33m%\u001b[0m \u001b[0mint\u001b[0m\u001b[1;33m(\u001b[0m\u001b[0mheight\u001b[0m\u001b[1;33m)\u001b[0m\u001b[1;33m,\u001b[0m\u001b[1;33m\u001b[0m\u001b[0m\n\u001b[0;32m      9\u001b[0m                 ha='center', va='bottom')\n",
      "\u001b[1;31mNameError\u001b[0m: name 'ax' is not defined"
     ]
    },
    {
     "data": {
      "image/png": "[encoded data removed]",
      "text/plain": [
       "<Figure size 576x432 with 1 Axes>"
      ]
     },
     "metadata": {},
     "output_type": "display_data"
    }
   ],
   "source": [
    "for model_name in [\n",
    "                   'Arnold', \n",
    "                   'EBM', \n",
    "                   'RiskSLIM'\n",
    "                  ]:\n",
    "    \n",
    "    model_name_lower = model_name.lower()\n",
    "    wide_dfs = {\"kentucky\": None}\n",
    "    \n",
    "    if model_name == \"RiskSLIM\": \n",
    "        model_name_lower = \"riskslim\"    \n",
    "\n",
    "    general_summary = summarize_bpc_bnc_data(bpc_bnc_df=bpc_bnc_data[f'{region}-general-two-year-{model_name_lower}'],\n",
    "                                                            problem_name=\"general\")\n",
    "    \n",
    "    general_summary = reshape_general_summary(general_summary)\n",
    "    \n",
    "    plot_bpc_bnc_kentucky_general(wide_df=general_summary,\n",
    "             model_name=model_name,\n",
    "             region='kentucky',\n",
    "             save_path=f\"kentucky/logs/fairness_results/bpc_bnc_visualizations/{model_name_lower}_bpc_bnc.pdf\"\n",
    "                             )\n",
    "\n"
   ]
  }
 ],
 "metadata": {
  "kernelspec": {
   "display_name": "Python 3",
   "language": "python",
   "name": "python3"
  },
  "language_info": {
   "codemirror_mode": {
    "name": "ipython",
    "version": 3
   },
   "file_extension": ".py",
   "mimetype": "text/x-python",
   "name": "python",
   "nbconvert_exporter": "python",
   "pygments_lexer": "ipython3",
   "version": "3.6.5"
  }
 },
 "nbformat": 4,
 "nbformat_minor": 2
}
