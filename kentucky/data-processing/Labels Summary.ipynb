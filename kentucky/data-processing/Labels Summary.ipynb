{
 "cells": [
  {
   "cell_type": "code",
   "execution_count": 3,
   "metadata": {},
   "outputs": [],
   "source": [
    "import pandas as pd \n",
    "import numpy as np\n",
    "import csv"
   ]
  },
  {
   "cell_type": "code",
   "execution_count": 4,
   "metadata": {},
   "outputs": [],
   "source": [
    "### load data\n",
    "data = pd.read_csv(\"~/Documents/Duke/Cynthia Research/KY-analysis-mytrials/KY Recidivism/KY data/kentucky_data.csv\")\n",
    "data = data.drop(['PersonID', 'screening_date','fta_risk_score_raw','nca_risk_score_raw',\n",
    "                  'pvf_risk_score_raw', 'fta_calc', 'nca_calc', 'pvf_calc'], axis=1)\n",
    "X = data.loc[:,:'current_violence'].values\n",
    "Y = data['recid_two_year'].values"
   ]
  },
  {
   "cell_type": "code",
   "execution_count": 5,
   "metadata": {},
   "outputs": [],
   "source": [
    "labels = data.columns[-14:]"
   ]
  },
  {
   "cell_type": "code",
   "execution_count": 6,
   "metadata": {},
   "outputs": [
    {
     "data": {
      "text/plain": [
       "Index(['recid_two_year', 'recid_drug_two_year', 'recid_traffic_two_year',\n",
       "       'recid_violence_two_year', 'recid_F_two_year', 'recid_M_two_year',\n",
       "       'recid_property_two_year', 'recid_six_month', 'recid_drug_six_month',\n",
       "       'recid_traffic_six_month', 'recid_violence_six_month',\n",
       "       'recid_F_six_month', 'recid_M_six_month', 'recid_property_six_month'],\n",
       "      dtype='object')"
      ]
     },
     "execution_count": 6,
     "metadata": {},
     "output_type": "execute_result"
    }
   ],
   "source": [
    "labels"
   ]
  },
  {
   "cell_type": "code",
   "execution_count": 8,
   "metadata": {},
   "outputs": [
    {
     "name": "stdout",
     "output_type": "stream",
     "text": [
      "recid_two_year 0.272\n",
      "recid_drug_two_year 0.088\n",
      "recid_traffic_two_year 0.058\n",
      "recid_violence_two_year 0.07\n",
      "recid_F_two_year 0.147\n",
      "recid_M_two_year 0.19\n",
      "recid_property_two_year 0.018\n",
      "recid_six_month 0.084\n",
      "recid_drug_six_month 0.021\n",
      "recid_traffic_six_month 0.012\n",
      "recid_violence_six_month 0.02\n",
      "recid_F_six_month 0.043\n",
      "recid_M_six_month 0.051\n",
      "recid_property_six_month 0.005\n"
     ]
    }
   ],
   "source": [
    "for i in labels:\n",
    "    print(i, round(np.mean(data[i]), 3))"
   ]
  }
 ],
 "metadata": {
  "kernelspec": {
   "display_name": "Python 3",
   "language": "python",
   "name": "python3"
  },
  "language_info": {
   "codemirror_mode": {
    "name": "ipython",
    "version": 3
   },
   "file_extension": ".py",
   "mimetype": "text/x-python",
   "name": "python",
   "nbconvert_exporter": "python",
   "pygments_lexer": "ipython3",
   "version": "3.7.4"
  }
 },
 "nbformat": 4,
 "nbformat_minor": 2
}
