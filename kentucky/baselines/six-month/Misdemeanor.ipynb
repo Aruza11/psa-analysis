{
 "cells": [
  {
   "cell_type": "code",
   "execution_count": 1,
   "metadata": {},
   "outputs": [
    {
     "name": "stdout",
     "output_type": "stream",
     "text": [
      "Current working directory is now:  C:\\Users\\binha\\Documents\\Duke\\Cynthia Research\\psa-analysis - test2\n"
     ]
    }
   ],
   "source": [
    "import os \n",
    "os.chdir('../../../')\n",
    "print(\"Current working directory is now: \", os.getcwd())\n",
    "\n",
    "import pandas as pd \n",
    "import numpy as np\n",
    "import csv\n",
    "import utils.baseline_functions as base\n",
    "\n",
    "# restore saved variables\n",
    "%store -r summary_M6_KY"
   ]
  },
  {
   "cell_type": "code",
   "execution_count": 2,
   "metadata": {},
   "outputs": [],
   "source": [
    "### load data\n",
    "data = pd.read_csv(\"~/Documents/Duke/Cynthia Research/KY-analysis-mytrials/KY Recidivism/KY data/kentucky_data.csv\")\n",
    "data = data.drop(['arnold_fta_raw','arnold_nca_raw','arnold_nvca_raw'], axis=1)\n",
    "x = data.loc[:,:'current_violence20']\n",
    "y = data['misdemeanor_six_month'].values"
   ]
  },
  {
   "cell_type": "code",
   "execution_count": 3,
   "metadata": {
    "scrolled": true
   },
   "outputs": [
    {
     "name": "stderr",
     "output_type": "stream",
     "text": [
      "C:\\Users\\binha\\Documents\\Duke\\Cynthia Research\\psa-analysis - test2\\utils\\fairness_functions.py:84: RuntimeWarning: invalid value encountered in longlong_scalars\n",
      "  prob = labels.sum() / len(labels)\n",
      "C:\\Users\\binha\\Documents\\Duke\\Cynthia Research\\psa-analysis - test2\\utils\\fairness_functions.py:84: RuntimeWarning: invalid value encountered in longlong_scalars\n",
      "  prob = labels.sum() / len(labels)\n",
      "C:\\Users\\binha\\Documents\\Duke\\Cynthia Research\\psa-analysis - test2\\utils\\fairness_functions.py:44: RuntimeWarning: divide by zero encountered in longlong_scalars\n",
      "  ratio = fn / fp\n",
      "C:\\Users\\binha\\Documents\\Duke\\Cynthia Research\\psa-analysis - test2\\utils\\fairness_functions.py:84: RuntimeWarning: invalid value encountered in longlong_scalars\n",
      "  prob = labels.sum() / len(labels)\n",
      "C:\\Users\\binha\\Documents\\Duke\\Cynthia Research\\psa-analysis - test2\\utils\\fairness_functions.py:84: RuntimeWarning: invalid value encountered in longlong_scalars\n",
      "  prob = labels.sum() / len(labels)\n",
      "C:\\Users\\binha\\Documents\\Duke\\Cynthia Research\\psa-analysis - test2\\utils\\fairness_functions.py:84: RuntimeWarning: invalid value encountered in longlong_scalars\n",
      "  prob = labels.sum() / len(labels)\n",
      "C:\\Users\\binha\\Documents\\Duke\\Cynthia Research\\psa-analysis - test2\\utils\\fairness_functions.py:84: RuntimeWarning: invalid value encountered in longlong_scalars\n",
      "  prob = labels.sum() / len(labels)\n",
      "C:\\Users\\binha\\Documents\\Duke\\Cynthia Research\\psa-analysis - test2\\utils\\fairness_functions.py:84: RuntimeWarning: invalid value encountered in longlong_scalars\n",
      "  prob = labels.sum() / len(labels)\n",
      "C:\\Users\\binha\\Documents\\Duke\\Cynthia Research\\psa-analysis - test2\\utils\\fairness_functions.py:44: RuntimeWarning: divide by zero encountered in longlong_scalars\n",
      "  ratio = fn / fp\n",
      "C:\\Users\\binha\\Documents\\Duke\\Cynthia Research\\psa-analysis - test2\\utils\\fairness_functions.py:31: RuntimeWarning: invalid value encountered in longlong_scalars\n",
      "  ppv = tp / (tp + fp)\n",
      "C:\\Users\\binha\\Documents\\Duke\\Cynthia Research\\psa-analysis - test2\\utils\\fairness_functions.py:84: RuntimeWarning: invalid value encountered in longlong_scalars\n",
      "  prob = labels.sum() / len(labels)\n",
      "C:\\Users\\binha\\Documents\\Duke\\Cynthia Research\\psa-analysis - test2\\utils\\fairness_functions.py:44: RuntimeWarning: divide by zero encountered in longlong_scalars\n",
      "  ratio = fn / fp\n",
      "C:\\Users\\binha\\Documents\\Duke\\Cynthia Research\\psa-analysis - test2\\utils\\fairness_functions.py:31: RuntimeWarning: invalid value encountered in longlong_scalars\n",
      "  ppv = tp / (tp + fp)\n",
      "C:\\Users\\binha\\Documents\\Duke\\Cynthia Research\\psa-analysis - test2\\utils\\fairness_functions.py:84: RuntimeWarning: invalid value encountered in longlong_scalars\n",
      "  prob = labels.sum() / len(labels)\n",
      "C:\\Users\\binha\\Documents\\Duke\\Cynthia Research\\psa-analysis - test2\\utils\\fairness_functions.py:44: RuntimeWarning: divide by zero encountered in longlong_scalars\n",
      "  ratio = fn / fp\n",
      "C:\\Users\\binha\\Documents\\Duke\\Cynthia Research\\psa-analysis - test2\\utils\\fairness_functions.py:31: RuntimeWarning: invalid value encountered in longlong_scalars\n",
      "  ppv = tp / (tp + fp)\n",
      "C:\\Users\\binha\\Documents\\Duke\\Cynthia Research\\psa-analysis - test2\\utils\\fairness_functions.py:84: RuntimeWarning: invalid value encountered in longlong_scalars\n",
      "  prob = labels.sum() / len(labels)\n",
      "C:\\Users\\binha\\Documents\\Duke\\Cynthia Research\\psa-analysis - test2\\utils\\fairness_functions.py:31: RuntimeWarning: invalid value encountered in longlong_scalars\n",
      "  ppv = tp / (tp + fp)\n",
      "C:\\Users\\binha\\Documents\\Duke\\Cynthia Research\\psa-analysis - test2\\utils\\fairness_functions.py:44: RuntimeWarning: divide by zero encountered in longlong_scalars\n",
      "  ratio = fn / fp\n",
      "C:\\Users\\binha\\Documents\\Duke\\Cynthia Research\\psa-analysis - test2\\utils\\fairness_functions.py:84: RuntimeWarning: invalid value encountered in longlong_scalars\n",
      "  prob = labels.sum() / len(labels)\n",
      "C:\\Users\\binha\\Documents\\Duke\\Cynthia Research\\psa-analysis - test2\\utils\\fairness_functions.py:31: RuntimeWarning: invalid value encountered in longlong_scalars\n",
      "  ppv = tp / (tp + fp)\n",
      "C:\\Users\\binha\\Documents\\Duke\\Cynthia Research\\psa-analysis - test2\\utils\\fairness_functions.py:44: RuntimeWarning: divide by zero encountered in longlong_scalars\n",
      "  ratio = fn / fp\n",
      "C:\\Users\\binha\\Documents\\Duke\\Cynthia Research\\psa-analysis - test2\\utils\\fairness_functions.py:84: RuntimeWarning: invalid value encountered in longlong_scalars\n",
      "  prob = labels.sum() / len(labels)\n",
      "C:\\Users\\binha\\Documents\\Duke\\Cynthia Research\\psa-analysis - test2\\utils\\fairness_functions.py:44: RuntimeWarning: divide by zero encountered in longlong_scalars\n",
      "  ratio = fn / fp\n",
      "C:\\Users\\binha\\Documents\\Duke\\Cynthia Research\\psa-analysis - test2\\utils\\fairness_functions.py:84: RuntimeWarning: invalid value encountered in longlong_scalars\n",
      "  prob = labels.sum() / len(labels)\n",
      "C:\\Users\\binha\\Documents\\Duke\\Cynthia Research\\psa-analysis - test2\\utils\\fairness_functions.py:31: RuntimeWarning: invalid value encountered in longlong_scalars\n",
      "  ppv = tp / (tp + fp)\n",
      "C:\\Users\\binha\\Documents\\Duke\\Cynthia Research\\psa-analysis - test2\\utils\\fairness_functions.py:44: RuntimeWarning: divide by zero encountered in longlong_scalars\n",
      "  ratio = fn / fp\n",
      "C:\\Users\\binha\\Documents\\Duke\\Cynthia Research\\psa-analysis - test2\\utils\\fairness_functions.py:84: RuntimeWarning: invalid value encountered in longlong_scalars\n",
      "  prob = labels.sum() / len(labels)\n",
      "C:\\Users\\binha\\Documents\\Duke\\Cynthia Research\\psa-analysis - test2\\utils\\fairness_functions.py:31: RuntimeWarning: invalid value encountered in longlong_scalars\n",
      "  ppv = tp / (tp + fp)\n",
      "C:\\Users\\binha\\Documents\\Duke\\Cynthia Research\\psa-analysis - test2\\utils\\fairness_functions.py:44: RuntimeWarning: divide by zero encountered in longlong_scalars\n",
      "  ratio = fn / fp\n",
      "C:\\Users\\binha\\Documents\\Duke\\Cynthia Research\\psa-analysis - test2\\utils\\fairness_functions.py:84: RuntimeWarning: invalid value encountered in longlong_scalars\n",
      "  prob = labels.sum() / len(labels)\n",
      "C:\\Users\\binha\\Documents\\Duke\\Cynthia Research\\psa-analysis - test2\\utils\\fairness_functions.py:31: RuntimeWarning: invalid value encountered in longlong_scalars\n",
      "  ppv = tp / (tp + fp)\n",
      "C:\\Users\\binha\\Documents\\Duke\\Cynthia Research\\psa-analysis - test2\\utils\\fairness_functions.py:44: RuntimeWarning: divide by zero encountered in longlong_scalars\n",
      "  ratio = fn / fp\n",
      "C:\\Users\\binha\\Documents\\Duke\\Cynthia Research\\psa-analysis - test2\\utils\\fairness_functions.py:84: RuntimeWarning: invalid value encountered in longlong_scalars\n",
      "  prob = labels.sum() / len(labels)\n",
      "C:\\Users\\binha\\Documents\\Duke\\Cynthia Research\\psa-analysis - test2\\utils\\fairness_functions.py:31: RuntimeWarning: invalid value encountered in longlong_scalars\n",
      "  ppv = tp / (tp + fp)\n",
      "C:\\Users\\binha\\Documents\\Duke\\Cynthia Research\\psa-analysis - test2\\utils\\fairness_functions.py:44: RuntimeWarning: divide by zero encountered in longlong_scalars\n",
      "  ratio = fn / fp\n",
      "C:\\Users\\binha\\Documents\\Duke\\Cynthia Research\\psa-analysis - test2\\utils\\fairness_functions.py:84: RuntimeWarning: invalid value encountered in longlong_scalars\n",
      "  prob = labels.sum() / len(labels)\n"
     ]
    },
    {
     "name": "stdout",
     "output_type": "stream",
     "text": [
      "Stored 'summary_M6_KY' (dict)\n"
     ]
    }
   ],
   "source": [
    "#### Logistic\n",
    "c = [1e-4, 1e-3, 0.01, 0.1, 1]\n",
    "logistic_summary = base.Logistic(X=x,\n",
    "                                 Y=y,\n",
    "                                 C=c,\n",
    "                                 seed=816)\n",
    "#### Lasso\n",
    "c = [1e-4, 1e-3, 0.01, 0.1, 1]\n",
    "lasso_summary = base.Lasso(X=x,\n",
    "                           Y=y,\n",
    "                           C=c,\n",
    "                           seed=816)\n",
    "\n",
    "#### LinearSVM\n",
    "c = [1e-4, 1e-3, 0.01, 0.1, 1]\n",
    "svm_summary = base.LinearSVM(X=x,\n",
    "                             Y=y, \n",
    "                             C=c,\n",
    "                             seed=816)\n",
    "\n",
    "#### Random Forest\n",
    "n_estimators =  [100,150,200]\n",
    "depth = [6,7,8]\n",
    "rf_summary = base.RF(X=x,\n",
    "                     Y=y, \n",
    "                     depth=depth, \n",
    "                     estimators=n_estimators, \n",
    "                     seed=816)\n",
    "\n",
    "#### XGBoost\n",
    "learning_rate = [0.1]\n",
    "depth = [3,4]\n",
    "n_estimators = [100,150]\n",
    "xgb_summary = base.XGB(X=x,\n",
    "                       Y=y, \n",
    "                       learning_rate=learning_rate, \n",
    "                       depth=depth, \n",
    "                       estimators=n_estimators, \n",
    "                       seed=816)\n",
    "\n",
    "#### save results\n",
    "summary_M6_KY = {\"Logistic\": logistic_summary,\n",
    "                 \"Lasso\": lasso_summary,\n",
    "                 \"LinearSVM\": svm_summary,\n",
    "                 \"RF\": rf_summary,\n",
    "                 \"XGBoost\": xgb_summary}\n",
    "%store summary_M6_KY"
   ]
  },
  {
   "cell_type": "code",
   "execution_count": 4,
   "metadata": {},
   "outputs": [
    {
     "data": {
      "text/plain": [
       "[['Logistic', 0.7424920028228156, 0.001023008038077733],\n",
       " ['Lasso', 0.7424752602365082, 0.0010669170063756673],\n",
       " ['LinearSVM', 0.7457036916183257, 0.0009216867259678408],\n",
       " ['RF', 0.7526699884055184, 0.016360095110053118],\n",
       " ['XGBoost', 0.764122250265751, 0.012911770719005445]]"
      ]
     },
     "execution_count": 4,
     "metadata": {},
     "output_type": "execute_result"
    }
   ],
   "source": [
    "results = []\n",
    "auc = [] ## for table writing -- the performance range \n",
    "for model_name, model_summary in summary_M6_KY.items():\n",
    "    results.append([model_name, np.mean(model_summary['holdout_test_auc']), np.mean(model_summary['auc_diffs'])])\n",
    "    auc.append(np.mean(model_summary['holdout_test_auc']))\n",
    "results"
   ]
  },
  {
   "cell_type": "code",
   "execution_count": 5,
   "metadata": {},
   "outputs": [
    {
     "data": {
      "text/plain": [
       "[['Logistic',\n",
       "  [{'C': 0.01}, {'C': 0.01}, {'C': 0.01}, {'C': 0.01}, {'C': 0.1}]],\n",
       " ['Lasso', [{'C': 0.1}, {'C': 0.1}, {'C': 0.1}, {'C': 0.1}, {'C': 1}]],\n",
       " ['LinearSVM',\n",
       "  [{'C': 0.01}, {'C': 0.01}, {'C': 0.01}, {'C': 0.01}, {'C': 0.01}]],\n",
       " ['RF',\n",
       "  [{'max_depth': 8, 'n_estimators': 150},\n",
       "   {'max_depth': 8, 'n_estimators': 200},\n",
       "   {'max_depth': 8, 'n_estimators': 200},\n",
       "   {'max_depth': 8, 'n_estimators': 200},\n",
       "   {'max_depth': 8, 'n_estimators': 150}]],\n",
       " ['XGBoost',\n",
       "  [{'learning_rate': 0.1, 'max_depth': 4, 'n_estimators': 150},\n",
       "   {'learning_rate': 0.1, 'max_depth': 4, 'n_estimators': 150},\n",
       "   {'learning_rate': 0.1, 'max_depth': 4, 'n_estimators': 150},\n",
       "   {'learning_rate': 0.1, 'max_depth': 4, 'n_estimators': 150},\n",
       "   {'learning_rate': 0.1, 'max_depth': 4, 'n_estimators': 150}]]]"
      ]
     },
     "execution_count": 5,
     "metadata": {},
     "output_type": "execute_result"
    }
   ],
   "source": [
    "params = [[model_name, model_summary['best_param']] for model_name, model_summary in summary_M6_KY.items()]\n",
    "params"
   ]
  },
  {
   "cell_type": "code",
   "execution_count": 6,
   "metadata": {},
   "outputs": [],
   "source": [
    "path = \"C:\\\\Users\\\\binha\\\\Documents\\\\Duke\\\\Cynthia Research\\\\KY-analysis-mytrials\\\\KY Recidivism\\\\KY Results\\\\Baselines\\\\Six Month\\\\\"\n",
    "results = [[\"Misdemeanor\", np.str((round(np.mean(logistic_summary['holdout_test_auc']), 3))) + \" (\" + np.str(round(np.std(logistic_summary['holdout_test_auc']), 3)) + \")\", \n",
    "            np.str(round(np.mean(lasso_summary['holdout_test_auc']),3)) + \" (\" + np.str(round(np.std(lasso_summary['holdout_test_auc']), 3)) + \")\", \n",
    "            np.str(round(np.mean(svm_summary['holdout_test_auc']),3)) + \" (\" + np.str(round(np.std(svm_summary['holdout_test_auc']), 3)) + \")\", \n",
    "            np.str(round(np.mean(rf_summary['holdout_test_auc']),3)) + \" (\" + np.str(round(np.std(rf_summary['holdout_test_auc']), 3)) + \")\", \n",
    "            np.str(round(np.mean(xgb_summary['holdout_test_auc']),3)) + \" (\" + np.str(round(np.std(xgb_summary['holdout_test_auc']), 3)) + \")\", \n",
    "            round(np.max(auc) - np.min(auc), 3)]]\n",
    "with open(path + 'Six Month Baseline Summary.csv', 'a') as writeFile:\n",
    "    writer = csv.writer(writeFile)\n",
    "    writer.writerows(results)"
   ]
  }
 ],
 "metadata": {
  "kernelspec": {
   "display_name": "Python 3",
   "language": "python",
   "name": "python3"
  },
  "language_info": {
   "codemirror_mode": {
    "name": "ipython",
    "version": 3
   },
   "file_extension": ".py",
   "mimetype": "text/x-python",
   "name": "python",
   "nbconvert_exporter": "python",
   "pygments_lexer": "ipython3",
   "version": "3.7.4"
  }
 },
 "nbformat": 4,
 "nbformat_minor": 4
}
