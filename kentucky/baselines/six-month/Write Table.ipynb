{
 "cells": [
  {
   "cell_type": "code",
   "execution_count": 1,
   "metadata": {
    "hideCode": false,
    "hidePrompt": false
   },
   "outputs": [],
   "source": [
    "import pytablewriter\n",
    "import pandas as pd\n",
    "import numpy as np"
   ]
  },
  {
   "cell_type": "code",
   "execution_count": 2,
   "metadata": {
    "hideCode": false,
    "hidePrompt": false
   },
   "outputs": [],
   "source": [
    "result = pd.read_csv(\"C:\\\\Users\\\\binha\\\\Documents\\\\Duke\\\\Cynthia Research\\\\KY-analysis-mytrials\\\\KY Recidivism\\\\KY Results\\\\Baselines\\\\Six Month\\\\Six Month Baseline Summary.csv\")"
   ]
  },
  {
   "cell_type": "code",
   "execution_count": 3,
   "metadata": {},
   "outputs": [
    {
     "data": {
      "text/html": [
       "<div>\n",
       "<style scoped>\n",
       "    .dataframe tbody tr th:only-of-type {\n",
       "        vertical-align: middle;\n",
       "    }\n",
       "\n",
       "    .dataframe tbody tr th {\n",
       "        vertical-align: top;\n",
       "    }\n",
       "\n",
       "    .dataframe thead th {\n",
       "        text-align: right;\n",
       "    }\n",
       "</style>\n",
       "<table border=\"1\" class=\"dataframe\">\n",
       "  <thead>\n",
       "    <tr style=\"text-align: right;\">\n",
       "      <th></th>\n",
       "      <th>Unnamed: 0</th>\n",
       "      <th>Logistic</th>\n",
       "      <th>Lasso</th>\n",
       "      <th>Linear SVM</th>\n",
       "      <th>Random Forest</th>\n",
       "      <th>XGBoost</th>\n",
       "      <th>Performance Range</th>\n",
       "    </tr>\n",
       "  </thead>\n",
       "  <tbody>\n",
       "    <tr>\n",
       "      <th>0</th>\n",
       "      <td>General</td>\n",
       "      <td>0.732 (0.006)</td>\n",
       "      <td>0.732 (0.006)</td>\n",
       "      <td>0.733 (0.005)</td>\n",
       "      <td>0.744 (0.005)</td>\n",
       "      <td>0.753 (0.004)</td>\n",
       "      <td>0.021</td>\n",
       "    </tr>\n",
       "    <tr>\n",
       "      <th>1</th>\n",
       "      <td>Violent</td>\n",
       "      <td>0.866 (0.009)</td>\n",
       "      <td>0.866 (0.009)</td>\n",
       "      <td>0.867 (0.01)</td>\n",
       "      <td>0.872 (0.011)</td>\n",
       "      <td>0.877 (0.011)</td>\n",
       "      <td>0.011</td>\n",
       "    </tr>\n",
       "    <tr>\n",
       "      <th>2</th>\n",
       "      <td>Drug</td>\n",
       "      <td>0.747 (0.011)</td>\n",
       "      <td>0.748 (0.01)</td>\n",
       "      <td>0.748 (0.012)</td>\n",
       "      <td>0.756 (0.007)</td>\n",
       "      <td>0.769 (0.008)</td>\n",
       "      <td>0.022</td>\n",
       "    </tr>\n",
       "    <tr>\n",
       "      <th>3</th>\n",
       "      <td>Property</td>\n",
       "      <td>0.835 (0.022)</td>\n",
       "      <td>0.836 (0.022)</td>\n",
       "      <td>0.828 (0.018)</td>\n",
       "      <td>0.841 (0.013)</td>\n",
       "      <td>0.854 (0.016)</td>\n",
       "      <td>0.026</td>\n",
       "    </tr>\n",
       "    <tr>\n",
       "      <th>4</th>\n",
       "      <td>Felony</td>\n",
       "      <td>0.753 (0.008)</td>\n",
       "      <td>0.754 (0.007)</td>\n",
       "      <td>0.751 (0.006)</td>\n",
       "      <td>0.775 (0.006)</td>\n",
       "      <td>0.786 (0.006)</td>\n",
       "      <td>0.035</td>\n",
       "    </tr>\n",
       "    <tr>\n",
       "      <th>5</th>\n",
       "      <td>Misdemeanor</td>\n",
       "      <td>0.719 (0.012)</td>\n",
       "      <td>0.719 (0.012)</td>\n",
       "      <td>0.722 (0.012)</td>\n",
       "      <td>0.728 (0.009)</td>\n",
       "      <td>0.742 (0.007)</td>\n",
       "      <td>0.023</td>\n",
       "    </tr>\n",
       "  </tbody>\n",
       "</table>\n",
       "</div>"
      ],
      "text/plain": [
       "    Unnamed: 0       Logistic          Lasso     Linear SVM  Random Forest  \\\n",
       "0      General  0.732 (0.006)  0.732 (0.006)  0.733 (0.005)  0.744 (0.005)   \n",
       "1      Violent  0.866 (0.009)  0.866 (0.009)   0.867 (0.01)  0.872 (0.011)   \n",
       "2         Drug  0.747 (0.011)   0.748 (0.01)  0.748 (0.012)  0.756 (0.007)   \n",
       "3     Property  0.835 (0.022)  0.836 (0.022)  0.828 (0.018)  0.841 (0.013)   \n",
       "4       Felony  0.753 (0.008)  0.754 (0.007)  0.751 (0.006)  0.775 (0.006)   \n",
       "5  Misdemeanor  0.719 (0.012)  0.719 (0.012)  0.722 (0.012)  0.728 (0.009)   \n",
       "\n",
       "         XGBoost  Performance Range  \n",
       "0  0.753 (0.004)              0.021  \n",
       "1  0.877 (0.011)              0.011  \n",
       "2  0.769 (0.008)              0.022  \n",
       "3  0.854 (0.016)              0.026  \n",
       "4  0.786 (0.006)              0.035  \n",
       "5  0.742 (0.007)              0.023  "
      ]
     },
     "execution_count": 3,
     "metadata": {},
     "output_type": "execute_result"
    }
   ],
   "source": [
    "result"
   ]
  },
  {
   "cell_type": "code",
   "execution_count": 4,
   "metadata": {
    "hideCode": false,
    "hidePrompt": false
   },
   "outputs": [],
   "source": [
    "cols = result.columns.to_list()\n",
    "values = result.values.tolist()"
   ]
  },
  {
   "cell_type": "code",
   "execution_count": 5,
   "metadata": {
    "hideCode": false,
    "hideOutput": true,
    "hidePrompt": false
   },
   "outputs": [
    {
     "name": "stdout",
     "output_type": "stream",
     "text": [
      "\\begin{array}{l | l | l | l | l | l | r} \\hline\n",
      "    General     & \\verb|0.732 (0.006)| & \\verb|0.732 (0.006)| & \\verb|0.733 (0.005)| & \\verb|0.744 (0.005)| & \\verb|0.753 (0.004)| & 0.02100 \\\\ \\hline\n",
      "    Violent     & \\verb|0.866 (0.009)| & \\verb|0.866 (0.009)| & \\verb|0.867 (0.01) | & \\verb|0.872 (0.011)| & \\verb|0.877 (0.011)| & 0.01100 \\\\ \\hline\n",
      "    Drug        & \\verb|0.747 (0.011)| & \\verb|0.748 (0.01) | & \\verb|0.748 (0.012)| & \\verb|0.756 (0.007)| & \\verb|0.769 (0.008)| & 0.02200 \\\\ \\hline\n",
      "    Property    & \\verb|0.835 (0.022)| & \\verb|0.836 (0.022)| & \\verb|0.828 (0.018)| & \\verb|0.841 (0.013)| & \\verb|0.854 (0.016)| & 0.02600 \\\\ \\hline\n",
      "    Felony      & \\verb|0.753 (0.008)| & \\verb|0.754 (0.007)| & \\verb|0.751 (0.006)| & \\verb|0.775 (0.006)| & \\verb|0.786 (0.006)| & 0.03500 \\\\ \\hline\n",
      "    Misdemeanor & \\verb|0.719 (0.012)| & \\verb|0.719 (0.012)| & \\verb|0.722 (0.012)| & \\verb|0.728 (0.009)| & \\verb|0.742 (0.007)| & 0.02300 \\\\ \\hline\n",
      "\\end{array}\n"
     ]
    }
   ],
   "source": [
    "writer = pytablewriter.LatexTableWriter()\n",
    "writer.value_matrix = values\n",
    "writer.write_table()"
   ]
  }
 ],
 "metadata": {
  "hide_code_all_hidden": false,
  "kernelspec": {
   "display_name": "Python 3",
   "language": "python",
   "name": "python3"
  },
  "language_info": {
   "codemirror_mode": {
    "name": "ipython",
    "version": 3
   },
   "file_extension": ".py",
   "mimetype": "text/x-python",
   "name": "python",
   "nbconvert_exporter": "python",
   "pygments_lexer": "ipython3",
   "version": "3.7.4"
  }
 },
 "nbformat": 4,
 "nbformat_minor": 4
}
