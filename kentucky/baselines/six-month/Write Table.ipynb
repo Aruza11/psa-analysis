{
 "cells": [
  {
   "cell_type": "code",
   "execution_count": 1,
   "metadata": {
    "hideCode": false,
    "hidePrompt": false
   },
   "outputs": [],
   "source": [
    "import pytablewriter\n",
    "import pandas as pd\n",
    "import numpy as np"
   ]
  },
  {
   "cell_type": "code",
   "execution_count": 2,
   "metadata": {
    "hideCode": false,
    "hidePrompt": false
   },
   "outputs": [],
   "source": [
    "result = pd.read_csv(\"C:\\\\Users\\\\binha\\\\Documents\\\\Duke\\\\Cynthia Research\\\\KY-analysis-mytrials\\\\KY Recidivism\\\\KY Results\\\\Baselines\\\\Six Month\\\\Six Month Baseline Summary.csv\")"
   ]
  },
  {
   "cell_type": "code",
   "execution_count": 8,
   "metadata": {},
   "outputs": [
    {
     "data": {
      "text/html": [
       "<div>\n",
       "<style scoped>\n",
       "    .dataframe tbody tr th:only-of-type {\n",
       "        vertical-align: middle;\n",
       "    }\n",
       "\n",
       "    .dataframe tbody tr th {\n",
       "        vertical-align: top;\n",
       "    }\n",
       "\n",
       "    .dataframe thead th {\n",
       "        text-align: right;\n",
       "    }\n",
       "</style>\n",
       "<table border=\"1\" class=\"dataframe\">\n",
       "  <thead>\n",
       "    <tr style=\"text-align: right;\">\n",
       "      <th></th>\n",
       "      <th>Unnamed: 0</th>\n",
       "      <th>Logistic</th>\n",
       "      <th>Lasso</th>\n",
       "      <th>Linear SVM</th>\n",
       "      <th>CART</th>\n",
       "      <th>Random Forest</th>\n",
       "      <th>XGBoost</th>\n",
       "    </tr>\n",
       "  </thead>\n",
       "  <tbody>\n",
       "    <tr>\n",
       "      <th>0</th>\n",
       "      <td>General</td>\n",
       "      <td>0.75 (0.003)</td>\n",
       "      <td>0.75 (0.003)</td>\n",
       "      <td>0.756 (0.004)</td>\n",
       "      <td>0.761 (0.005)</td>\n",
       "      <td>0.764 (0.005)</td>\n",
       "      <td>0.768 (0.005)</td>\n",
       "    </tr>\n",
       "    <tr>\n",
       "      <th>1</th>\n",
       "      <td>Violent</td>\n",
       "      <td>0.873 (0.007)</td>\n",
       "      <td>0.873 (0.007)</td>\n",
       "      <td>0.875 (0.008)</td>\n",
       "      <td>0.872 (0.004)</td>\n",
       "      <td>0.878 (0.006)</td>\n",
       "      <td>0.871 (0.008)</td>\n",
       "    </tr>\n",
       "    <tr>\n",
       "      <th>2</th>\n",
       "      <td>Drug</td>\n",
       "      <td>0.764 (0.006)</td>\n",
       "      <td>0.766 (0.006)</td>\n",
       "      <td>0.767 (0.005)</td>\n",
       "      <td>0.771 (0.012)</td>\n",
       "      <td>0.769 (0.011)</td>\n",
       "      <td>0.776 (0.01)</td>\n",
       "    </tr>\n",
       "    <tr>\n",
       "      <th>3</th>\n",
       "      <td>Property</td>\n",
       "      <td>0.85 (0.014)</td>\n",
       "      <td>0.853 (0.013)</td>\n",
       "      <td>0.848 (0.017)</td>\n",
       "      <td>0.835 (0.007)</td>\n",
       "      <td>0.857 (0.011)</td>\n",
       "      <td>0.843 (0.012)</td>\n",
       "    </tr>\n",
       "    <tr>\n",
       "      <th>4</th>\n",
       "      <td>Felony</td>\n",
       "      <td>0.766 (0.004)</td>\n",
       "      <td>0.767 (0.004)</td>\n",
       "      <td>0.77 (0.004)</td>\n",
       "      <td>0.78 (0.008)</td>\n",
       "      <td>0.79 (0.006)</td>\n",
       "      <td>0.794 (0.005)</td>\n",
       "    </tr>\n",
       "    <tr>\n",
       "      <th>5</th>\n",
       "      <td>Misdemeanor</td>\n",
       "      <td>0.736 (0.004)</td>\n",
       "      <td>0.736 (0.004)</td>\n",
       "      <td>0.741 (0.005)</td>\n",
       "      <td>0.745 (0.006)</td>\n",
       "      <td>0.744 (0.005)</td>\n",
       "      <td>0.752 (0.006)</td>\n",
       "    </tr>\n",
       "  </tbody>\n",
       "</table>\n",
       "</div>"
      ],
      "text/plain": [
       "    Unnamed: 0       Logistic          Lasso     Linear SVM           CART  \\\n",
       "0      General   0.75 (0.003)   0.75 (0.003)  0.756 (0.004)  0.761 (0.005)   \n",
       "1      Violent  0.873 (0.007)  0.873 (0.007)  0.875 (0.008)  0.872 (0.004)   \n",
       "2         Drug  0.764 (0.006)  0.766 (0.006)  0.767 (0.005)  0.771 (0.012)   \n",
       "3     Property   0.85 (0.014)  0.853 (0.013)  0.848 (0.017)  0.835 (0.007)   \n",
       "4       Felony  0.766 (0.004)  0.767 (0.004)   0.77 (0.004)   0.78 (0.008)   \n",
       "5  Misdemeanor  0.736 (0.004)  0.736 (0.004)  0.741 (0.005)  0.745 (0.006)   \n",
       "\n",
       "   Random Forest        XGBoost  \n",
       "0  0.764 (0.005)  0.768 (0.005)  \n",
       "1  0.878 (0.006)  0.871 (0.008)  \n",
       "2  0.769 (0.011)   0.776 (0.01)  \n",
       "3  0.857 (0.011)  0.843 (0.012)  \n",
       "4   0.79 (0.006)  0.794 (0.005)  \n",
       "5  0.744 (0.005)  0.752 (0.006)  "
      ]
     },
     "execution_count": 8,
     "metadata": {},
     "output_type": "execute_result"
    }
   ],
   "source": [
    "result"
   ]
  },
  {
   "cell_type": "code",
   "execution_count": 6,
   "metadata": {
    "hideCode": false,
    "hidePrompt": false
   },
   "outputs": [],
   "source": [
    "cols = result.columns.to_list()\n",
    "values = result.values.tolist()"
   ]
  },
  {
   "cell_type": "code",
   "execution_count": 7,
   "metadata": {
    "hideCode": false,
    "hideOutput": true,
    "hidePrompt": false
   },
   "outputs": [
    {
     "name": "stdout",
     "output_type": "stream",
     "text": [
      "\\begin{array}{l | l | l | l | l | l | l} \\hline\n",
      "    General     & \\verb|0.75 (0.003) | & \\verb|0.75 (0.003) | & \\verb|0.756 (0.004)| & \\verb|0.761 (0.005)| & \\verb|0.764 (0.005)| & \\verb|0.768 (0.005)| \\\\ \\hline\n",
      "    Violent     & \\verb|0.873 (0.007)| & \\verb|0.873 (0.007)| & \\verb|0.875 (0.008)| & \\verb|0.872 (0.004)| & \\verb|0.878 (0.006)| & \\verb|0.871 (0.008)| \\\\ \\hline\n",
      "    Drug        & \\verb|0.764 (0.006)| & \\verb|0.766 (0.006)| & \\verb|0.767 (0.005)| & \\verb|0.771 (0.012)| & \\verb|0.769 (0.011)| & \\verb|0.776 (0.01) | \\\\ \\hline\n",
      "    Property    & \\verb|0.85 (0.014) | & \\verb|0.853 (0.013)| & \\verb|0.848 (0.017)| & \\verb|0.835 (0.007)| & \\verb|0.857 (0.011)| & \\verb|0.843 (0.012)| \\\\ \\hline\n",
      "    Felony      & \\verb|0.766 (0.004)| & \\verb|0.767 (0.004)| & \\verb|0.77 (0.004) | & \\verb|0.78 (0.008) | & \\verb|0.79 (0.006) | & \\verb|0.794 (0.005)| \\\\ \\hline\n",
      "    Misdemeanor & \\verb|0.736 (0.004)| & \\verb|0.736 (0.004)| & \\verb|0.741 (0.005)| & \\verb|0.745 (0.006)| & \\verb|0.744 (0.005)| & \\verb|0.752 (0.006)| \\\\ \\hline\n",
      "\\end{array}\n"
     ]
    }
   ],
   "source": [
    "writer = pytablewriter.LatexTableWriter()\n",
    "writer.value_matrix = values\n",
    "writer.write_table()"
   ]
  }
 ],
 "metadata": {
  "hide_code_all_hidden": false,
  "kernelspec": {
   "display_name": "Python 3",
   "language": "python",
   "name": "python3"
  },
  "language_info": {
   "codemirror_mode": {
    "name": "ipython",
    "version": 3
   },
   "file_extension": ".py",
   "mimetype": "text/x-python",
   "name": "python",
   "nbconvert_exporter": "python",
   "pygments_lexer": "ipython3",
   "version": "3.7.4"
  }
 },
 "nbformat": 4,
 "nbformat_minor": 4
}
