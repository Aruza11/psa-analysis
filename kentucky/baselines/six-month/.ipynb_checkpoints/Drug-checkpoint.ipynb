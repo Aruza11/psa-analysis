{
 "cells": [
  {
   "cell_type": "code",
   "execution_count": 1,
   "metadata": {},
   "outputs": [
    {
     "name": "stdout",
     "output_type": "stream",
     "text": [
      "Current working directory is now:  C:\\Users\\Caroline Wang\\OneDrive\\Duke\\Criminal Recidivism\\psa-analysis\n"
     ]
    },
    {
     "name": "stderr",
     "output_type": "stream",
     "text": [
      "C:\\Users\\Caroline Wang\\Anaconda3\\lib\\site-packages\\sklearn\\ensemble\\weight_boosting.py:29: DeprecationWarning: numpy.core.umath_tests is an internal NumPy module and should not be imported. It will be removed in a future NumPy release.\n",
      "  from numpy.core.umath_tests import inner1d\n"
     ]
    }
   ],
   "source": [
    "import os \n",
    "os.chdir('../../../')\n",
    "print(\"Current working directory is now: \", os.getcwd())\n",
    "\n",
    "import pandas as pd \n",
    "import numpy as np\n",
    "import csv\n",
    "import utils.baseline_functions as base"
   ]
  },
  {
   "cell_type": "code",
   "execution_count": 2,
   "metadata": {},
   "outputs": [],
   "source": [
    "### train data\n",
    "train_data = pd.read_csv(\"kentucky/data/processed/train.csv\")\n",
    "train_data = train_data.drop(['fta_risk_score_raw','nca_risk_score_raw',\n",
    "                  'pvf_risk_score_raw', 'fta_calc', 'nca_calc', 'pvf_calc'], axis=1)\n",
    "train_X = train_data.loc[:,:'current_violence']\n",
    "train_Y = train_data['recid_drug_six_month']\n",
    "\n",
    "### test data\n",
    "test_data = pd.read_csv(\"kentucky/data/processed/test.csv\")\n",
    "test_data = test_data.drop(['fta_risk_score_raw','nca_risk_score_raw',\n",
    "                  'pvf_risk_score_raw', 'fta_calc', 'nca_calc', 'pvf_calc'], axis=1)\n",
    "test_X = test_data.loc[:,:'current_violence']\n",
    "test_Y = test_data['recid_drug_six_month']"
   ]
  },
  {
   "cell_type": "code",
   "execution_count": 3,
   "metadata": {},
   "outputs": [
    {
     "name": "stdout",
     "output_type": "stream",
     "text": [
      "model_id, score_thresholds 1 {'rank_abs': [306]}\n",
      "get_disparity_predefined_group()\n",
      "model_id, score_thresholds 1 {'rank_abs': [0]}\n",
      "get_disparity_predefined_group()\n",
      "model_id, score_thresholds 1 {'rank_abs': [1]}\n",
      "get_disparity_predefined_group()\n",
      "model_id, score_thresholds 1 {'rank_abs': [4]}\n",
      "get_disparity_predefined_group()\n",
      "model_id, score_thresholds 1 {'rank_abs': [0]}\n",
      "get_disparity_predefined_group()\n"
     ]
    },
    {
     "name": "stderr",
     "output_type": "stream",
     "text": [
      "C:\\Users\\Caroline Wang\\Anaconda3\\lib\\site-packages\\sklearn\\preprocessing\\label.py:151: DeprecationWarning: The truth value of an empty array is ambiguous. Returning False, but in future this will result in an error. Use `array.size > 0` to check that an array is not empty.\n",
      "  if diff:\n"
     ]
    },
    {
     "name": "stdout",
     "output_type": "stream",
     "text": [
      "model_id, score_thresholds 1 {'rank_abs': [0]}\n",
      "get_disparity_predefined_group()\n"
     ]
    }
   ],
   "source": [
    "#### Logistic\n",
    "c = [1e-4, 1e-3, 0.01, 0.1, 1]\n",
    "logistic_summary = base.Logistic(train_x=train_X, \n",
    "                                 train_y=train_Y, \n",
    "                                 test_x=test_X, \n",
    "                                 test_y=test_Y, \n",
    "                                 C=c,\n",
    "                                 seed=816)\n",
    "\n",
    "#### Lasso\n",
    "alpha = [1e-4, 1e-3, 0.01, 0.1, 1]\n",
    "lasso_summary = base.Lasso(train_x=train_X, \n",
    "                           train_y=train_Y, \n",
    "                           test_x=test_X, \n",
    "                           test_y=test_Y, \n",
    "                           alpha=alpha,\n",
    "                           seed=816)\n",
    "\n",
    "#### LinearSVM\n",
    "c = [1e-4, 1e-3, 0.01, 0.1, 1]\n",
    "svm_summary = base.LinearSVM(train_x=train_X, \n",
    "                             train_y=train_Y, \n",
    "                             test_x=test_X, \n",
    "                             test_y=test_Y, \n",
    "                             C=c,\n",
    "                             seed=816)\n",
    "\n",
    "#### CART\n",
    "depth = [5,6]\n",
    "cart_summary = base.CART(train_x=train_X, \n",
    "                         train_y=train_Y, \n",
    "                         test_x=test_X, \n",
    "                         test_y=test_Y, \n",
    "                         depth=depth,\n",
    "                         seed=816)\n",
    "\n",
    "#### Random Forest\n",
    "n_estimators =  [40,50]\n",
    "depth = [5,6]\n",
    "rf_summary = base.RF(train_x=train_X, \n",
    "                     train_y=train_Y, \n",
    "                     test_x=test_X, \n",
    "                     test_y=test_Y, \n",
    "                     depth=depth, \n",
    "                     estimators=n_estimators, \n",
    "                     seed=816)\n",
    "\n",
    "#### XGBoost\n",
    "learning_rate = [0.01]\n",
    "depth = [6]\n",
    "n_estimators = [200]\n",
    "xgb_summary = base.XGB(train_x=train_X, \n",
    "                       train_y=train_Y, \n",
    "                       test_x=test_X, \n",
    "                       test_y=test_Y, \n",
    "                       learning_rate=learning_rate, \n",
    "                       depth=depth, \n",
    "                       estimators=n_estimators, \n",
    "                       seed=816)"
   ]
  },
  {
   "cell_type": "code",
   "execution_count": 7,
   "metadata": {},
   "outputs": [],
   "source": [
    "results = [[\"Logistic\", logistic_summary['best_validation_auc'], logistic_summary['best_validation_auc_diff'], logistic_summary['best_param']],\n",
    "           [\"Lasso\", lasso_summary['best_validation_auc'], lasso_summary['best_validation_auc_diff'], lasso_summary['best_param']],\n",
    "           [\"LinearSVM\", svm_summary['best_validation_auc'], svm_summary['best_validation_auc_diff'], svm_summary['best_param']],\n",
    "           [\"CART\", cart_summary['best_validation_auc'], cart_summary['best_validation_auc_diff'], cart_summary['best_param']],\n",
    "           [\"RF\", rf_summary['best_validation_auc'], rf_summary['best_validation_auc_diff'], rf_summary['best_param']],\n",
    "           [\"XGBoost\", xgb_summary['best_validation_auc'], xgb_summary['best_validation_auc_diff'], xgb_summary['best_param']]]"
   ]
  },
  {
   "cell_type": "code",
   "execution_count": 8,
   "metadata": {
    "scrolled": true
   },
   "outputs": [
    {
     "data": {
      "text/plain": [
       "[['Logistic', 0.6220958495862468, 0.09741197943226254, {'C': 0.001}],\n",
       " ['Lasso', 0.6021320011647083, 0.18416171760401412, {'alpha': 0.001}],\n",
       " ['LinearSVM', 0.5891764117055863, 0.2680025025024029, {'C': 1}],\n",
       " ['CART', 0.5466572040829197, 0.29701653643880377, {'max_depth': 5}],\n",
       " ['RF',\n",
       "  0.6542010436752181,\n",
       "  0.30869777826202904,\n",
       "  {'max_depth': 5, 'n_estimators': 50}],\n",
       " ['XGBoost',\n",
       "  0.5283279136827727,\n",
       "  0.37686357122473235,\n",
       "  {'learning_rate': 0.01, 'max_depth': 6, 'n_estimators': 200}]]"
      ]
     },
     "execution_count": 8,
     "metadata": {},
     "output_type": "execute_result"
    }
   ],
   "source": [
    "results"
   ]
  },
  {
   "cell_type": "code",
   "execution_count": 6,
   "metadata": {},
   "outputs": [
    {
     "ename": "FileNotFoundError",
     "evalue": "[Errno 2] No such file or directory: 'C:\\\\Users\\\\binha\\\\Documents\\\\Duke\\\\Cynthia Research\\\\KY-analysis-mytrials\\\\KY Recidivism\\\\KY Results\\\\Baselines\\\\Six Month\\\\Six Month Baseline Summary.csv'",
     "output_type": "error",
     "traceback": [
      "\u001b[1;31m---------------------------------------------------------------------------\u001b[0m",
      "\u001b[1;31mFileNotFoundError\u001b[0m                         Traceback (most recent call last)",
      "\u001b[1;32m<ipython-input-6-fd517310145a>\u001b[0m in \u001b[0;36m<module>\u001b[1;34m()\u001b[0m\n\u001b[0;32m      6\u001b[0m             \u001b[0mround\u001b[0m\u001b[1;33m(\u001b[0m\u001b[0mrf_summary\u001b[0m\u001b[1;33m[\u001b[0m\u001b[1;34m'best_validation_auc'\u001b[0m\u001b[1;33m]\u001b[0m\u001b[1;33m,\u001b[0m\u001b[1;36m3\u001b[0m\u001b[1;33m)\u001b[0m\u001b[1;33m,\u001b[0m \u001b[0mround\u001b[0m\u001b[1;33m(\u001b[0m\u001b[0mrf_summary\u001b[0m\u001b[1;33m[\u001b[0m\u001b[1;34m'best_validation_std'\u001b[0m\u001b[1;33m]\u001b[0m\u001b[1;33m,\u001b[0m \u001b[1;36m3\u001b[0m\u001b[1;33m)\u001b[0m\u001b[1;33m,\u001b[0m\u001b[1;33m\u001b[0m\u001b[0m\n\u001b[0;32m      7\u001b[0m             round(xgb_summary['best_validation_auc'],3), round(xgb_summary['best_validation_std'], 3)]]\n\u001b[1;32m----> 8\u001b[1;33m \u001b[1;32mwith\u001b[0m \u001b[0mopen\u001b[0m\u001b[1;33m(\u001b[0m\u001b[0mpath\u001b[0m \u001b[1;33m+\u001b[0m \u001b[1;34m'Six Month Baseline Summary.csv'\u001b[0m\u001b[1;33m,\u001b[0m \u001b[1;34m'a'\u001b[0m\u001b[1;33m)\u001b[0m \u001b[1;32mas\u001b[0m \u001b[0mwriteFile\u001b[0m\u001b[1;33m:\u001b[0m\u001b[1;33m\u001b[0m\u001b[0m\n\u001b[0m\u001b[0;32m      9\u001b[0m     \u001b[0mwriter\u001b[0m \u001b[1;33m=\u001b[0m \u001b[0mcsv\u001b[0m\u001b[1;33m.\u001b[0m\u001b[0mwriter\u001b[0m\u001b[1;33m(\u001b[0m\u001b[0mwriteFile\u001b[0m\u001b[1;33m)\u001b[0m\u001b[1;33m\u001b[0m\u001b[0m\n\u001b[0;32m     10\u001b[0m     \u001b[0mwriter\u001b[0m\u001b[1;33m.\u001b[0m\u001b[0mwriterows\u001b[0m\u001b[1;33m(\u001b[0m\u001b[0mresults\u001b[0m\u001b[1;33m)\u001b[0m\u001b[1;33m\u001b[0m\u001b[0m\n",
      "\u001b[1;31mFileNotFoundError\u001b[0m: [Errno 2] No such file or directory: 'C:\\\\Users\\\\binha\\\\Documents\\\\Duke\\\\Cynthia Research\\\\KY-analysis-mytrials\\\\KY Recidivism\\\\KY Results\\\\Baselines\\\\Six Month\\\\Six Month Baseline Summary.csv'"
     ]
    }
   ],
   "source": [
    "path = \"C:\\\\Users\\\\binha\\\\Documents\\\\Duke\\\\Cynthia Research\\\\KY-analysis-mytrials\\\\KY Recidivism\\\\KY Results\\\\Baselines\\\\Six Month\\\\\"\n",
    "results = [[\"Drug\", round(logistic_summary['best_validation_auc'],3), round(logistic_summary['best_validation_std'], 3), \n",
    "            round(lasso_summary['best_validation_auc'],3), round(lasso_summary['best_validation_std'], 3), \n",
    "            round(svm_summary['best_validation_auc'],3), round(lasso_summary['best_validation_std'], 3), \n",
    "            round(cart_summary['best_validation_auc'],3), round(cart_summary['best_validation_std'], 3), \n",
    "            round(rf_summary['best_validation_auc'],3), round(rf_summary['best_validation_std'], 3), \n",
    "            round(xgb_summary['best_validation_auc'],3), round(xgb_summary['best_validation_std'], 3)]]\n",
    "with open(path + 'Six Month Baseline Summary.csv', 'a') as writeFile:\n",
    "    writer = csv.writer(writeFile)\n",
    "    writer.writerows(results)"
   ]
  }
 ],
 "metadata": {
  "kernelspec": {
   "display_name": "Python 3",
   "language": "python",
   "name": "python3"
  },
  "language_info": {
   "codemirror_mode": {
    "name": "ipython",
    "version": 3
   },
   "file_extension": ".py",
   "mimetype": "text/x-python",
   "name": "python",
   "nbconvert_exporter": "python",
   "pygments_lexer": "ipython3",
   "version": "3.6.5"
  }
 },
 "nbformat": 4,
 "nbformat_minor": 2
}
