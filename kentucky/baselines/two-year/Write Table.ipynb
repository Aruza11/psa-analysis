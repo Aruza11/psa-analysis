{
 "cells": [
  {
   "cell_type": "code",
   "execution_count": 1,
   "metadata": {
    "hideCode": false,
    "hidePrompt": false
   },
   "outputs": [],
   "source": [
    "import pytablewriter\n",
    "import pandas as pd\n",
    "import numpy as np"
   ]
  },
  {
   "cell_type": "code",
   "execution_count": 2,
   "metadata": {
    "hideCode": false,
    "hidePrompt": false
   },
   "outputs": [],
   "source": [
    "result = pd.read_csv(\"C:\\\\Users\\\\binha\\\\Documents\\\\Duke\\\\Cynthia Research\\\\KY-analysis-mytrials\\\\KY Recidivism\\\\KY Results\\\\Baselines\\\\Two Year\\\\Two Year Baseline Summary.csv\")"
   ]
  },
  {
   "cell_type": "code",
   "execution_count": 3,
   "metadata": {
    "hideCode": false,
    "hidePrompt": false
   },
   "outputs": [
    {
     "data": {
      "text/html": [
       "<div>\n",
       "<style scoped>\n",
       "    .dataframe tbody tr th:only-of-type {\n",
       "        vertical-align: middle;\n",
       "    }\n",
       "\n",
       "    .dataframe tbody tr th {\n",
       "        vertical-align: top;\n",
       "    }\n",
       "\n",
       "    .dataframe thead th {\n",
       "        text-align: right;\n",
       "    }\n",
       "</style>\n",
       "<table border=\"1\" class=\"dataframe\">\n",
       "  <thead>\n",
       "    <tr style=\"text-align: right;\">\n",
       "      <th></th>\n",
       "      <th>Unnamed: 0</th>\n",
       "      <th>Logistic</th>\n",
       "      <th>Lasso</th>\n",
       "      <th>Linear SVM</th>\n",
       "      <th>Random Forest</th>\n",
       "      <th>XGBoost</th>\n",
       "      <th>Performance Range</th>\n",
       "    </tr>\n",
       "  </thead>\n",
       "  <tbody>\n",
       "    <tr>\n",
       "      <th>0</th>\n",
       "      <td>General</td>\n",
       "      <td>0.711 (0.002)</td>\n",
       "      <td>0.711 (0.002)</td>\n",
       "      <td>0.709 (0.002)</td>\n",
       "      <td>0.723 (0.003)</td>\n",
       "      <td>0.727 (0.002)</td>\n",
       "      <td>0.019</td>\n",
       "    </tr>\n",
       "    <tr>\n",
       "      <th>1</th>\n",
       "      <td>Violent</td>\n",
       "      <td>0.809 (0.008)</td>\n",
       "      <td>0.809 (0.008)</td>\n",
       "      <td>0.808 (0.008)</td>\n",
       "      <td>0.815 (0.009)</td>\n",
       "      <td>0.82 (0.008)</td>\n",
       "      <td>0.011</td>\n",
       "    </tr>\n",
       "    <tr>\n",
       "      <th>2</th>\n",
       "      <td>Drug</td>\n",
       "      <td>0.675 (0.005)</td>\n",
       "      <td>0.675 (0.005)</td>\n",
       "      <td>0.676 (0.005)</td>\n",
       "      <td>0.685 (0.004)</td>\n",
       "      <td>0.695 (0.004)</td>\n",
       "      <td>0.020</td>\n",
       "    </tr>\n",
       "    <tr>\n",
       "      <th>3</th>\n",
       "      <td>Property</td>\n",
       "      <td>0.759 (0.012)</td>\n",
       "      <td>0.76 (0.012)</td>\n",
       "      <td>0.761 (0.011)</td>\n",
       "      <td>0.764 (0.008)</td>\n",
       "      <td>0.78 (0.007)</td>\n",
       "      <td>0.021</td>\n",
       "    </tr>\n",
       "    <tr>\n",
       "      <th>4</th>\n",
       "      <td>Felony</td>\n",
       "      <td>0.708 (0.001)</td>\n",
       "      <td>0.708 (0.001)</td>\n",
       "      <td>0.708 (0.001)</td>\n",
       "      <td>0.727 (0.003)</td>\n",
       "      <td>0.734 (0.002)</td>\n",
       "      <td>0.027</td>\n",
       "    </tr>\n",
       "    <tr>\n",
       "      <th>5</th>\n",
       "      <td>Misdemeanor</td>\n",
       "      <td>0.683 (0.005)</td>\n",
       "      <td>0.683 (0.005)</td>\n",
       "      <td>0.682 (0.005)</td>\n",
       "      <td>0.695 (0.004)</td>\n",
       "      <td>0.702 (0.004)</td>\n",
       "      <td>0.020</td>\n",
       "    </tr>\n",
       "  </tbody>\n",
       "</table>\n",
       "</div>"
      ],
      "text/plain": [
       "    Unnamed: 0       Logistic          Lasso     Linear SVM  Random Forest  \\\n",
       "0      General  0.711 (0.002)  0.711 (0.002)  0.709 (0.002)  0.723 (0.003)   \n",
       "1      Violent  0.809 (0.008)  0.809 (0.008)  0.808 (0.008)  0.815 (0.009)   \n",
       "2         Drug  0.675 (0.005)  0.675 (0.005)  0.676 (0.005)  0.685 (0.004)   \n",
       "3     Property  0.759 (0.012)   0.76 (0.012)  0.761 (0.011)  0.764 (0.008)   \n",
       "4       Felony  0.708 (0.001)  0.708 (0.001)  0.708 (0.001)  0.727 (0.003)   \n",
       "5  Misdemeanor  0.683 (0.005)  0.683 (0.005)  0.682 (0.005)  0.695 (0.004)   \n",
       "\n",
       "         XGBoost  Performance Range  \n",
       "0  0.727 (0.002)              0.019  \n",
       "1   0.82 (0.008)              0.011  \n",
       "2  0.695 (0.004)              0.020  \n",
       "3   0.78 (0.007)              0.021  \n",
       "4  0.734 (0.002)              0.027  \n",
       "5  0.702 (0.004)              0.020  "
      ]
     },
     "execution_count": 3,
     "metadata": {},
     "output_type": "execute_result"
    }
   ],
   "source": [
    "result"
   ]
  },
  {
   "cell_type": "code",
   "execution_count": 8,
   "metadata": {
    "hideCode": false,
    "hidePrompt": false
   },
   "outputs": [],
   "source": [
    "cols = result.columns.to_list()\n",
    "values = result.values.tolist()"
   ]
  },
  {
   "cell_type": "code",
   "execution_count": 9,
   "metadata": {
    "hideCode": false,
    "hideOutput": true,
    "hidePrompt": false
   },
   "outputs": [
    {
     "name": "stdout",
     "output_type": "stream",
     "text": [
      "\\begin{array}{l | l | l | l | l | l | r} \\hline\n",
      "    General     & \\verb|0.711 (0.002)| & \\verb|0.711 (0.002)| & \\verb|0.709 (0.002)| & \\verb|0.723 (0.003)| & \\verb|0.727 (0.002)| & 0.01900 \\\\ \\hline\n",
      "    Violent     & \\verb|0.809 (0.008)| & \\verb|0.809 (0.008)| & \\verb|0.808 (0.008)| & \\verb|0.815 (0.009)| & \\verb|0.82 (0.008) | & 0.01100 \\\\ \\hline\n",
      "    Drug        & \\verb|0.675 (0.005)| & \\verb|0.675 (0.005)| & \\verb|0.676 (0.005)| & \\verb|0.685 (0.004)| & \\verb|0.695 (0.004)| & 0.02000 \\\\ \\hline\n",
      "    Property    & \\verb|0.759 (0.012)| & \\verb|0.76 (0.012) | & \\verb|0.761 (0.011)| & \\verb|0.764 (0.008)| & \\verb|0.78 (0.007) | & 0.02100 \\\\ \\hline\n",
      "    Felony      & \\verb|0.708 (0.001)| & \\verb|0.708 (0.001)| & \\verb|0.708 (0.001)| & \\verb|0.727 (0.003)| & \\verb|0.734 (0.002)| & 0.02700 \\\\ \\hline\n",
      "    Misdemeanor & \\verb|0.683 (0.005)| & \\verb|0.683 (0.005)| & \\verb|0.682 (0.005)| & \\verb|0.695 (0.004)| & \\verb|0.702 (0.004)| & 0.02000 \\\\ \\hline\n",
      "\\end{array}\n"
     ]
    }
   ],
   "source": [
    "writer = pytablewriter.LatexTableWriter()\n",
    "writer.value_matrix = values\n",
    "writer.write_table()"
   ]
  }
 ],
 "metadata": {
  "hide_code_all_hidden": false,
  "kernelspec": {
   "display_name": "Python 3",
   "language": "python",
   "name": "python3"
  },
  "language_info": {
   "codemirror_mode": {
    "name": "ipython",
    "version": 3
   },
   "file_extension": ".py",
   "mimetype": "text/x-python",
   "name": "python",
   "nbconvert_exporter": "python",
   "pygments_lexer": "ipython3",
   "version": "3.7.4"
  }
 },
 "nbformat": 4,
 "nbformat_minor": 4
}
