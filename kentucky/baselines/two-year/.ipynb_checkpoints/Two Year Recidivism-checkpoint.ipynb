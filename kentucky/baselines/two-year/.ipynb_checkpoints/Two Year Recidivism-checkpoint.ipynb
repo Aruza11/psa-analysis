{
 "cells": [
  {
   "cell_type": "code",
   "execution_count": 1,
   "metadata": {},
   "outputs": [
    {
     "name": "stdout",
     "output_type": "stream",
     "text": [
      "Current working directory is now:  C:\\Users\\binha\\Documents\\Duke\\Cynthia Research\\psa-analysis - test\n"
     ]
    },
    {
     "name": "stderr",
     "output_type": "stream",
     "text": [
      "C:\\Users\\binha\\Anaconda3\\lib\\site-packages\\sklearn\\externals\\six.py:31: DeprecationWarning:\n",
      "\n",
      "The module is deprecated in version 0.21 and will be removed in version 0.23 since we've dropped support for Python 2.7. Please rely on the official version of six (https://pypi.org/project/six/).\n",
      "\n"
     ]
    }
   ],
   "source": [
    "import os \n",
    "os.chdir('../../../')\n",
    "print(\"Current working directory is now: \", os.getcwd())\n",
    "\n",
    "import pandas as pd\n",
    "import numpy as np\n",
    "import csv\n",
    "import utils.baseline_functions as base\n",
    "\n",
    "# restore saved variables\n",
    "%store -r summary_general_two_year_kentucky"
   ]
  },
  {
   "cell_type": "code",
   "execution_count": 2,
   "metadata": {},
   "outputs": [],
   "source": [
    "### load data\n",
    "data = pd.read_csv(\"~/Documents/Duke/Cynthia Research/KY-analysis-mytrials/KY Recidivism/KY data/kentucky_data.csv\")\n",
    "data = data.drop(['fta_risk_score_raw','nca_risk_score_raw','pvf_risk_score_raw', \n",
    "                  'fta_calc', 'nca_calc', 'pvf_calc'], axis=1)\n",
    "x = data.loc[:,:'current_violence']\n",
    "y = data['recid_two_year'].values"
   ]
  },
  {
   "cell_type": "code",
   "execution_count": 3,
   "metadata": {
    "collapsed": true,
    "jupyter": {
     "outputs_hidden": true
    },
    "scrolled": true
   },
   "outputs": [
    {
     "name": "stdout",
     "output_type": "stream",
     "text": [
      "model_id, score_thresholds 0 {'rank_abs': [9273]}\n",
      "get_disparity_predefined_group()\n",
      "model_id, score_thresholds 0 {'rank_abs': [9564]}\n",
      "get_disparity_predefined_group()\n",
      "model_id, score_thresholds 0 {'rank_abs': [9571]}\n",
      "get_disparity_predefined_group()\n",
      "model_id, score_thresholds 0 {'rank_abs': [9490]}\n",
      "get_disparity_predefined_group()\n",
      "model_id, score_thresholds 0 {'rank_abs': [9369]}\n",
      "get_disparity_predefined_group()\n",
      "model_id, score_thresholds 0 {'rank_abs': [9272]}\n",
      "get_disparity_predefined_group()\n",
      "model_id, score_thresholds 0 {'rank_abs': [9562]}\n",
      "get_disparity_predefined_group()\n",
      "model_id, score_thresholds 0 {'rank_abs': [9577]}\n",
      "get_disparity_predefined_group()\n",
      "model_id, score_thresholds 0 {'rank_abs': [9485]}\n",
      "get_disparity_predefined_group()\n",
      "model_id, score_thresholds 0 {'rank_abs': [9371]}\n",
      "get_disparity_predefined_group()\n",
      "model_id, score_thresholds 0 {'rank_abs': [3362]}\n",
      "get_disparity_predefined_group()\n",
      "model_id, score_thresholds 0 {'rank_abs': [3466]}\n",
      "get_disparity_predefined_group()\n",
      "model_id, score_thresholds 0 {'rank_abs': [3520]}\n",
      "get_disparity_predefined_group()\n",
      "model_id, score_thresholds 0 {'rank_abs': [3456]}\n",
      "get_disparity_predefined_group()\n",
      "model_id, score_thresholds 0 {'rank_abs': [3314]}\n",
      "get_disparity_predefined_group()\n",
      "model_id, score_thresholds 0 {'rank_abs': [3875]}\n",
      "get_disparity_predefined_group()\n",
      "model_id, score_thresholds 0 {'rank_abs': [4102]}\n",
      "get_disparity_predefined_group()\n",
      "model_id, score_thresholds 0 {'rank_abs': [3889]}\n",
      "get_disparity_predefined_group()\n",
      "model_id, score_thresholds 0 {'rank_abs': [3594]}\n",
      "get_disparity_predefined_group()\n",
      "model_id, score_thresholds 0 {'rank_abs': [3542]}\n",
      "get_disparity_predefined_group()\n",
      "model_id, score_thresholds 0 {'rank_abs': [3492]}\n",
      "get_disparity_predefined_group()\n",
      "model_id, score_thresholds 0 {'rank_abs': [3701]}\n",
      "get_disparity_predefined_group()\n",
      "model_id, score_thresholds 0 {'rank_abs': [3573]}\n",
      "get_disparity_predefined_group()\n",
      "model_id, score_thresholds 0 {'rank_abs': [3552]}\n",
      "get_disparity_predefined_group()\n",
      "model_id, score_thresholds 0 {'rank_abs': [3397]}\n",
      "get_disparity_predefined_group()\n",
      "model_id, score_thresholds 0 {'rank_abs': [3829]}\n",
      "get_disparity_predefined_group()\n",
      "model_id, score_thresholds 0 {'rank_abs': [3998]}\n",
      "get_disparity_predefined_group()\n",
      "model_id, score_thresholds 0 {'rank_abs': [3985]}\n",
      "get_disparity_predefined_group()\n",
      "model_id, score_thresholds 0 {'rank_abs': [3792]}\n",
      "get_disparity_predefined_group()\n",
      "model_id, score_thresholds 0 {'rank_abs': [3696]}\n",
      "get_disparity_predefined_group()\n"
     ]
    }
   ],
   "source": [
    "#### Logistic\n",
    "c = [1e-4, 1e-3, 0.01, 0.1, 1]\n",
    "logistic_summary = base.Logistic(X=x,\n",
    "                                 Y=y,\n",
    "                                 C=c,\n",
    "                                 seed=816)\n",
    "\n",
    "#### Lasso\n",
    "c = [1e-4, 1e-3, 0.01, 0.1, 1]\n",
    "lasso_summary = base.Lasso(X=x,\n",
    "                           Y=y, \n",
    "                           C=c,\n",
    "                           seed=816)\n",
    "\n",
    "#### LinearSVM\n",
    "c = [1e-4, 1e-3, 0.01, 0.1, 1]\n",
    "svm_summary = base.LinearSVM(X=x,\n",
    "                             Y=y,\n",
    "                             C=c,\n",
    "                             seed=816)\n",
    "\n",
    "#### Random Forest\n",
    "n_estimators =  [40,50]\n",
    "depth = [8,9,10]\n",
    "rf_summary = base.RF(X=x,\n",
    "                     Y=y,\n",
    "                     depth=depth, \n",
    "                     estimators=n_estimators, \n",
    "                     seed=816)\n",
    "\n",
    "#### XGBoost\n",
    "learning_rate = [0.01, 0.03]\n",
    "depth = [7]\n",
    "n_estimators = [200]\n",
    "xgb_summary = base.XGB(X=x,\n",
    "                       Y=y,\n",
    "                       learning_rate=learning_rate, \n",
    "                       depth=depth, \n",
    "                       estimators=n_estimators, \n",
    "                       seed=816)\n",
    "\n",
    "#### save results\n",
    "summary_general_two_year_kentucky = {\"Logistic\": logistic_summary,\n",
    "                         \"Lasso\": lasso_summary,\n",
    "                         \"LinearSVM\": svm_summary,\n",
    "                         \"RF\": rf_summary,\n",
    "                         \"XGBoost\": xgb_summary}\n",
    "%store summary_general_two_year_kentucky"
   ]
  },
  {
   "cell_type": "code",
   "execution_count": 42,
   "metadata": {},
   "outputs": [],
   "source": [
    "results = []\n",
    "auc = [] ## for table writing -- the performance range \n",
    "\n",
    "for model_name, model_summary in summary_general_two_year_kentucky.items():\n",
    "    results.append([model_name, np.mean(model_summary['holdout_test_auc']), np.mean(model_summary['auc_diffs'])])\n",
    "    auc.append(np.mean(model_summary['holdout_test_auc']))\n",
    "    \n",
    "results"
   ]
  },
  {
   "cell_type": "code",
   "execution_count": 11,
   "metadata": {},
   "outputs": [],
   "source": [
    "params = [[model_name, model_summary['best_param']] for model_name, model_summary in summary_general_two_year_kentucky.items()]\n",
    "params"
   ]
  },
  {
   "cell_type": "code",
   "execution_count": 37,
   "metadata": {},
   "outputs": [],
   "source": [
    "path = \"C:\\\\Users\\\\binha\\\\Documents\\\\Duke\\\\Cynthia Research\\\\KY-analysis-mytrials\\\\KY Recidivism\\\\KY Results\\\\Baselines\\\\Two Year\\\\\"\n",
    "results = [[\"\", \"Logistic\", \"Lasso\", \"Linear SVM\", \"Random Forest\", \"XGBoost\", \"Performance Range\"],\n",
    "           [\"General\", np.str((round(np.mean(logistic_summary['holdout_test_auc']), 3))) + \" (\" + np.str(round(np.std(logistic_summary['holdout_test_auc']), 3)) + \")\", \n",
    "            np.str(round(np.mean(lasso_summary['holdout_test_auc']),3)) + \" (\" + np.str(round(np.std(lasso_summary['holdout_test_auc']), 3)) + \")\", \n",
    "            np.str(round(np.mean(svm_summary['holdout_test_auc']),3)) + \" (\" + np.str(round(np.std(svm_summary['holdout_test_auc']), 3)) + \")\", \n",
    "            np.str(round(np.mean(rf_summary['holdout_test_auc']),3)) + \" (\" + np.str(round(np.std(rf_summary['holdout_test_auc']), 3)) + \")\", \n",
    "            np.str(round(np.mean(xgb_summary['holdout_test_auc']),3)) + \" (\" + np.str(round(np.std(xgb_summary['holdout_test_auc']), 3)) + \")\", \n",
    "            round(np.max(auc) - np.min(auc), 3)]]\n",
    "with open(path + 'Two Year Baseline Summary.csv', 'w') as writeFile:\n",
    "    writer = csv.writer(writeFile)\n",
    "    writer.writerows(results)"
   ]
  }
 ],
 "metadata": {
  "kernelspec": {
   "display_name": "Python 3",
   "language": "python",
   "name": "python3"
  },
  "language_info": {
   "codemirror_mode": {
    "name": "ipython",
    "version": 3
   },
   "file_extension": ".py",
   "mimetype": "text/x-python",
   "name": "python",
   "nbconvert_exporter": "python",
   "pygments_lexer": "ipython3",
   "version": "3.7.4"
  }
 },
 "nbformat": 4,
 "nbformat_minor": 4
}
