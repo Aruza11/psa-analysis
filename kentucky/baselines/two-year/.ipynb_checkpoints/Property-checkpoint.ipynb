{
 "cells": [
  {
   "cell_type": "code",
   "execution_count": 1,
   "metadata": {
    "hideCode": false,
    "hidePrompt": false
   },
   "outputs": [
    {
     "name": "stdout",
     "output_type": "stream",
     "text": [
      "Current working directory is now:  C:\\Users\\binha\\Documents\\Duke\\Cynthia Research\\psa-analysis - test2\n"
     ]
    }
   ],
   "source": [
    "import os \n",
    "os.chdir('../../../')\n",
    "print(\"Current working directory is now: \", os.getcwd())\n",
    "\n",
    "import pandas as pd \n",
    "import numpy as np\n",
    "import csv\n",
    "import utils.baseline_functions as base"
   ]
  },
  {
   "cell_type": "code",
   "execution_count": 3,
   "metadata": {
    "hideCode": false,
    "hidePrompt": false
   },
   "outputs": [],
   "source": [
    "### load data\n",
    "data = pd.read_csv(\"~/Documents/Duke/Cynthia Research/KY-analysis-mytrials/KY Recidivism/KY data/kentucky_data.csv\").sort_values('person_id')\n",
    "x = data.loc[:,:'current_violence20']\n",
    "y = data['property_two_year'].values"
   ]
  },
  {
   "cell_type": "code",
   "execution_count": 3,
   "metadata": {
    "scrolled": true
   },
   "outputs": [
    {
     "name": "stderr",
     "output_type": "stream",
     "text": [
      "C:\\Users\\binha\\Documents\\Duke\\Cynthia Research\\psa-analysis - test2\\utils\\fairness_functions.py:88: RuntimeWarning: invalid value encountered in longlong_scalars\n",
      "  prob = labels.sum() / len(labels)\n",
      "C:\\Users\\binha\\Documents\\Duke\\Cynthia Research\\psa-analysis - test2\\utils\\fairness_functions.py:88: RuntimeWarning: invalid value encountered in longlong_scalars\n",
      "  prob = labels.sum() / len(labels)\n",
      "C:\\Users\\binha\\Documents\\Duke\\Cynthia Research\\psa-analysis - test2\\utils\\fairness_functions.py:88: RuntimeWarning: invalid value encountered in longlong_scalars\n",
      "  prob = labels.sum() / len(labels)\n",
      "C:\\Users\\binha\\Anaconda3\\lib\\site-packages\\sklearn\\calibration.py:455: RuntimeWarning: invalid value encountered in multiply\n",
      "  TEP_minus_T1P = P * (T * E - T1)\n",
      "C:\\Users\\binha\\Anaconda3\\lib\\site-packages\\sklearn\\calibration.py:455: RuntimeWarning: invalid value encountered in multiply\n",
      "  TEP_minus_T1P = P * (T * E - T1)\n",
      "C:\\Users\\binha\\Documents\\Duke\\Cynthia Research\\psa-analysis - test2\\utils\\fairness_functions.py:88: RuntimeWarning: invalid value encountered in longlong_scalars\n",
      "  prob = labels.sum() / len(labels)\n",
      "C:\\Users\\binha\\Anaconda3\\lib\\site-packages\\sklearn\\calibration.py:455: RuntimeWarning: invalid value encountered in multiply\n",
      "  TEP_minus_T1P = P * (T * E - T1)\n",
      "C:\\Users\\binha\\Anaconda3\\lib\\site-packages\\sklearn\\calibration.py:455: RuntimeWarning: invalid value encountered in multiply\n",
      "  TEP_minus_T1P = P * (T * E - T1)\n",
      "C:\\Users\\binha\\Documents\\Duke\\Cynthia Research\\psa-analysis - test2\\utils\\fairness_functions.py:43: RuntimeWarning: divide by zero encountered in longlong_scalars\n",
      "  ratio = fn / fp if fp is not 0 else 0\n",
      "C:\\Users\\binha\\Documents\\Duke\\Cynthia Research\\psa-analysis - test2\\utils\\fairness_functions.py:88: RuntimeWarning: invalid value encountered in longlong_scalars\n",
      "  prob = labels.sum() / len(labels)\n",
      "C:\\Users\\binha\\Anaconda3\\lib\\site-packages\\sklearn\\calibration.py:455: RuntimeWarning: invalid value encountered in multiply\n",
      "  TEP_minus_T1P = P * (T * E - T1)\n",
      "C:\\Users\\binha\\Anaconda3\\lib\\site-packages\\sklearn\\calibration.py:455: RuntimeWarning: invalid value encountered in multiply\n",
      "  TEP_minus_T1P = P * (T * E - T1)\n",
      "C:\\Users\\binha\\Documents\\Duke\\Cynthia Research\\psa-analysis - test2\\utils\\fairness_functions.py:88: RuntimeWarning: invalid value encountered in longlong_scalars\n",
      "  prob = labels.sum() / len(labels)\n",
      "C:\\Users\\binha\\Anaconda3\\lib\\site-packages\\sklearn\\calibration.py:455: RuntimeWarning: invalid value encountered in multiply\n",
      "  TEP_minus_T1P = P * (T * E - T1)\n",
      "C:\\Users\\binha\\Anaconda3\\lib\\site-packages\\sklearn\\calibration.py:455: RuntimeWarning: invalid value encountered in multiply\n",
      "  TEP_minus_T1P = P * (T * E - T1)\n",
      "C:\\Users\\binha\\Documents\\Duke\\Cynthia Research\\psa-analysis - test2\\utils\\fairness_functions.py:43: RuntimeWarning: divide by zero encountered in longlong_scalars\n",
      "  ratio = fn / fp if fp is not 0 else 0\n",
      "C:\\Users\\binha\\Documents\\Duke\\Cynthia Research\\psa-analysis - test2\\utils\\fairness_functions.py:88: RuntimeWarning: invalid value encountered in longlong_scalars\n",
      "  prob = labels.sum() / len(labels)\n",
      "C:\\Users\\binha\\Documents\\Duke\\Cynthia Research\\psa-analysis - test2\\utils\\fairness_functions.py:88: RuntimeWarning: invalid value encountered in longlong_scalars\n",
      "  prob = labels.sum() / len(labels)\n",
      "C:\\Users\\binha\\Documents\\Duke\\Cynthia Research\\psa-analysis - test2\\utils\\fairness_functions.py:43: RuntimeWarning: divide by zero encountered in longlong_scalars\n",
      "  ratio = fn / fp if fp is not 0 else 0\n",
      "C:\\Users\\binha\\Documents\\Duke\\Cynthia Research\\psa-analysis - test2\\utils\\fairness_functions.py:88: RuntimeWarning: invalid value encountered in longlong_scalars\n",
      "  prob = labels.sum() / len(labels)\n",
      "C:\\Users\\binha\\Documents\\Duke\\Cynthia Research\\psa-analysis - test2\\utils\\fairness_functions.py:43: RuntimeWarning: divide by zero encountered in longlong_scalars\n",
      "  ratio = fn / fp if fp is not 0 else 0\n",
      "C:\\Users\\binha\\Documents\\Duke\\Cynthia Research\\psa-analysis - test2\\utils\\fairness_functions.py:88: RuntimeWarning: invalid value encountered in longlong_scalars\n",
      "  prob = labels.sum() / len(labels)\n",
      "C:\\Users\\binha\\Documents\\Duke\\Cynthia Research\\psa-analysis - test2\\utils\\fairness_functions.py:43: RuntimeWarning: divide by zero encountered in longlong_scalars\n",
      "  ratio = fn / fp if fp is not 0 else 0\n",
      "C:\\Users\\binha\\Documents\\Duke\\Cynthia Research\\psa-analysis - test2\\utils\\fairness_functions.py:88: RuntimeWarning: invalid value encountered in longlong_scalars\n",
      "  prob = labels.sum() / len(labels)\n",
      "C:\\Users\\binha\\Documents\\Duke\\Cynthia Research\\psa-analysis - test2\\utils\\fairness_functions.py:43: RuntimeWarning: divide by zero encountered in longlong_scalars\n",
      "  ratio = fn / fp if fp is not 0 else 0\n",
      "C:\\Users\\binha\\Documents\\Duke\\Cynthia Research\\psa-analysis - test2\\utils\\fairness_functions.py:88: RuntimeWarning: invalid value encountered in longlong_scalars\n",
      "  prob = labels.sum() / len(labels)\n",
      "C:\\Users\\binha\\Documents\\Duke\\Cynthia Research\\psa-analysis - test2\\utils\\fairness_functions.py:43: RuntimeWarning: divide by zero encountered in longlong_scalars\n",
      "  ratio = fn / fp if fp is not 0 else 0\n",
      "C:\\Users\\binha\\Documents\\Duke\\Cynthia Research\\psa-analysis - test2\\utils\\fairness_functions.py:88: RuntimeWarning: invalid value encountered in longlong_scalars\n",
      "  prob = labels.sum() / len(labels)\n",
      "C:\\Users\\binha\\Documents\\Duke\\Cynthia Research\\psa-analysis - test2\\utils\\fairness_functions.py:43: RuntimeWarning: divide by zero encountered in longlong_scalars\n",
      "  ratio = fn / fp if fp is not 0 else 0\n",
      "C:\\Users\\binha\\Documents\\Duke\\Cynthia Research\\psa-analysis - test2\\utils\\fairness_functions.py:88: RuntimeWarning: invalid value encountered in longlong_scalars\n",
      "  prob = labels.sum() / len(labels)\n",
      "C:\\Users\\binha\\Documents\\Duke\\Cynthia Research\\psa-analysis - test2\\utils\\fairness_functions.py:43: RuntimeWarning: divide by zero encountered in longlong_scalars\n",
      "  ratio = fn / fp if fp is not 0 else 0\n",
      "C:\\Users\\binha\\Documents\\Duke\\Cynthia Research\\psa-analysis - test2\\utils\\fairness_functions.py:88: RuntimeWarning: invalid value encountered in longlong_scalars\n",
      "  prob = labels.sum() / len(labels)\n",
      "C:\\Users\\binha\\Documents\\Duke\\Cynthia Research\\psa-analysis - test2\\utils\\fairness_functions.py:88: RuntimeWarning: invalid value encountered in longlong_scalars\n",
      "  prob = labels.sum() / len(labels)\n",
      "C:\\Users\\binha\\Documents\\Duke\\Cynthia Research\\psa-analysis - test2\\utils\\fairness_functions.py:43: RuntimeWarning: divide by zero encountered in longlong_scalars\n",
      "  ratio = fn / fp if fp is not 0 else 0\n",
      "C:\\Users\\binha\\Documents\\Duke\\Cynthia Research\\psa-analysis - test2\\utils\\fairness_functions.py:88: RuntimeWarning: invalid value encountered in longlong_scalars\n",
      "  prob = labels.sum() / len(labels)\n",
      "C:\\Users\\binha\\Documents\\Duke\\Cynthia Research\\psa-analysis - test2\\utils\\fairness_functions.py:43: RuntimeWarning: divide by zero encountered in longlong_scalars\n",
      "  ratio = fn / fp if fp is not 0 else 0\n",
      "C:\\Users\\binha\\Documents\\Duke\\Cynthia Research\\psa-analysis - test2\\utils\\fairness_functions.py:88: RuntimeWarning: invalid value encountered in longlong_scalars\n",
      "  prob = labels.sum() / len(labels)\n"
     ]
    }
   ],
   "source": [
    "#### Logistic\n",
    "c = [1e-4, 1e-3, 0.01, 0.1, 1]\n",
    "logistic_summary = base.Logistic(X=x,\n",
    "                                 Y=y, \n",
    "                                 C=c,\n",
    "                                 seed=816)\n",
    "\n",
    "#### Lasso\n",
    "c = [1e-4, 1e-3, 0.01, 0.1, 1]\n",
    "lasso_summary = base.Lasso(X=x,\n",
    "                           Y=y,\n",
    "                           C=c,\n",
    "                           seed=816)\n",
    "\n",
    "#### LinearSVM\n",
    "c = [1e-4, 1e-3, 0.01, 0.1, 1]\n",
    "svm_summary = base.LinearSVM(X=x,\n",
    "                             Y=y,\n",
    "                             C=c,\n",
    "                             seed=816)\n",
    "\n",
    "#### Random Forest\n",
    "n_estimators =  [100,150,200]\n",
    "depth = [7,8,9]\n",
    "rf_summary = base.RF(X=x,\n",
    "                     Y=y,\n",
    "                     depth=depth, \n",
    "                     estimators=n_estimators, \n",
    "                     seed=816)\n",
    "\n",
    "#### XGBoost\n",
    "learning_rate = [0.1]\n",
    "depth = [4,5,6]\n",
    "n_estimators = [100,150]\n",
    "xgb_summary = base.XGB(X=x,\n",
    "                       Y=y,\n",
    "                       learning_rate=learning_rate, \n",
    "                       depth=depth, \n",
    "                       estimators=n_estimators, \n",
    "                       seed=816)\n",
    "\n",
    "#### save results\n",
    "summary_property2_KY = {\"Logistic\": logistic_summary,\n",
    "                        \"Lasso\": lasso_summary,\n",
    "                        \"LinearSVM\": svm_summary,\n",
    "                        \"RF\": rf_summary,\n",
    "                        \"XGBoost\": xgb_summary}"
   ]
  },
  {
   "cell_type": "code",
   "execution_count": 8,
   "metadata": {},
   "outputs": [
    {
     "data": {
      "text/plain": [
       "[['Logistic', 0.7667407562360221, 0.001000727247961386],\n",
       " ['Lasso', 0.7650955418638092, 0.0010039267905683324],\n",
       " ['LinearSVM', 0.7667484624815536, 0.0011370101701232427],\n",
       " ['RF', 0.7872748121122948, 0.03824560185705881],\n",
       " ['XGBoost', 0.7915887790218685, 0.019807814393214596]]"
      ]
     },
     "execution_count": 8,
     "metadata": {},
     "output_type": "execute_result"
    }
   ],
   "source": [
    "results = []\n",
    "auc = [] ## for table writing -- the performance range \n",
    "for model_name, model_summary in summary_property2_KY.items():\n",
    "    results.append([model_name, np.mean(model_summary['holdout_test_auc']), np.mean(model_summary['auc_diffs'])])\n",
    "    auc.append(np.mean(model_summary['holdout_test_auc']))\n",
    "results"
   ]
  },
  {
   "cell_type": "code",
   "execution_count": 9,
   "metadata": {},
   "outputs": [
    {
     "data": {
      "text/plain": [
       "[['Logistic',\n",
       "  [{'C': 0.001}, {'C': 0.001}, {'C': 0.001}, {'C': 0.001}, {'C': 0.001}]],\n",
       " ['Lasso', [{'C': 0.1}, {'C': 0.1}, {'C': 0.001}, {'C': 0.001}, {'C': 0.1}]],\n",
       " ['LinearSVM',\n",
       "  [{'C': 0.01}, {'C': 0.01}, {'C': 0.01}, {'C': 0.01}, {'C': 0.01}]],\n",
       " ['RF',\n",
       "  [{'max_depth': 10, 'n_estimators': 200},\n",
       "   {'max_depth': 10, 'n_estimators': 200},\n",
       "   {'max_depth': 10, 'n_estimators': 200},\n",
       "   {'max_depth': 10, 'n_estimators': 200},\n",
       "   {'max_depth': 10, 'n_estimators': 200}]],\n",
       " ['XGBoost',\n",
       "  [{'learning_rate': 0.1, 'max_depth': 5, 'n_estimators': 100},\n",
       "   {'learning_rate': 0.1, 'max_depth': 5, 'n_estimators': 100},\n",
       "   {'learning_rate': 0.1, 'max_depth': 5, 'n_estimators': 150},\n",
       "   {'learning_rate': 0.1, 'max_depth': 5, 'n_estimators': 100},\n",
       "   {'learning_rate': 0.1, 'max_depth': 5, 'n_estimators': 100}]]]"
      ]
     },
     "execution_count": 9,
     "metadata": {},
     "output_type": "execute_result"
    }
   ],
   "source": [
    "params = [[model_name, model_summary['best_param']] for model_name, model_summary in summary_property2_KY.items()]\n",
    "params"
   ]
  },
  {
   "cell_type": "code",
   "execution_count": 10,
   "metadata": {},
   "outputs": [],
   "source": [
    "path = \"C:\\\\Users\\\\binha\\\\Documents\\\\Duke\\\\Cynthia Research\\\\KY-analysis-mytrials\\\\KY Recidivism\\\\KY Results\\\\Baselines\\\\Two Year\\\\\"\n",
    "results = [[\"Property\", np.str((round(np.mean(logistic_summary['holdout_test_auc']), 3))) + \" (\" + np.str(round(np.std(logistic_summary['holdout_test_auc']), 3)) + \")\", \n",
    "            np.str(round(np.mean(lasso_summary['holdout_test_auc']),3)) + \" (\" + np.str(round(np.std(lasso_summary['holdout_test_auc']), 3)) + \")\", \n",
    "            np.str(round(np.mean(svm_summary['holdout_test_auc']),3)) + \" (\" + np.str(round(np.std(svm_summary['holdout_test_auc']), 3)) + \")\", \n",
    "            np.str(round(np.mean(rf_summary['holdout_test_auc']),3)) + \" (\" + np.str(round(np.std(rf_summary['holdout_test_auc']), 3)) + \")\", \n",
    "            np.str(round(np.mean(xgb_summary['holdout_test_auc']),3)) + \" (\" + np.str(round(np.std(xgb_summary['holdout_test_auc']), 3)) + \")\", \n",
    "            round(np.max(auc) - np.min(auc), 3)]]\n",
    "with open(path + 'Two Year Baseline Summary.csv', 'a') as writeFile:\n",
    "    writer = csv.writer(writeFile)\n",
    "    writer.writerows(results)"
   ]
  }
 ],
 "metadata": {
  "hide_code_all_hidden": false,
  "kernelspec": {
   "display_name": "Python 3",
   "language": "python",
   "name": "python3"
  },
  "language_info": {
   "codemirror_mode": {
    "name": "ipython",
    "version": 3
   },
   "file_extension": ".py",
   "mimetype": "text/x-python",
   "name": "python",
   "nbconvert_exporter": "python",
   "pygments_lexer": "ipython3",
   "version": "3.7.4"
  }
 },
 "nbformat": 4,
 "nbformat_minor": 4
}
