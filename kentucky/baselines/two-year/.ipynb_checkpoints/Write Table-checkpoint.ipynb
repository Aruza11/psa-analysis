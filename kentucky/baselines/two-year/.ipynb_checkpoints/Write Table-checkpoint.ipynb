{
 "cells": [
  {
   "cell_type": "code",
   "execution_count": 6,
   "metadata": {
    "hideCode": false,
    "hidePrompt": false
   },
   "outputs": [],
   "source": [
    "import pytablewriter\n",
    "import pandas as pd\n",
    "import numpy as np"
   ]
  },
  {
   "cell_type": "code",
   "execution_count": 11,
   "metadata": {
    "hideCode": false,
    "hidePrompt": false
   },
   "outputs": [],
   "source": [
    "result = pd.read_csv(\"C:\\\\Users\\\\binha\\\\Documents\\\\Duke\\\\Cynthia Research\\\\KY-analysis-mytrials\\\\KY Recidivism\\\\KY Results\\\\Baselines\\\\Two Year\\\\Two Year Baseline Summary.csv\")"
   ]
  },
  {
   "cell_type": "code",
   "execution_count": 12,
   "metadata": {
    "hideCode": false,
    "hidePrompt": false
   },
   "outputs": [
    {
     "data": {
      "text/html": [
       "<div>\n",
       "<style scoped>\n",
       "    .dataframe tbody tr th:only-of-type {\n",
       "        vertical-align: middle;\n",
       "    }\n",
       "\n",
       "    .dataframe tbody tr th {\n",
       "        vertical-align: top;\n",
       "    }\n",
       "\n",
       "    .dataframe thead th {\n",
       "        text-align: right;\n",
       "    }\n",
       "</style>\n",
       "<table border=\"1\" class=\"dataframe\">\n",
       "  <thead>\n",
       "    <tr style=\"text-align: right;\">\n",
       "      <th></th>\n",
       "      <th>Unnamed: 0</th>\n",
       "      <th>Logistic</th>\n",
       "      <th>STD</th>\n",
       "      <th>Lasso</th>\n",
       "      <th>STD.1</th>\n",
       "      <th>Linear SVM</th>\n",
       "      <th>STD.2</th>\n",
       "      <th>CART</th>\n",
       "      <th>STD.3</th>\n",
       "      <th>Random Forest</th>\n",
       "      <th>STD.4</th>\n",
       "      <th>XGBoost</th>\n",
       "      <th>STD.5</th>\n",
       "    </tr>\n",
       "  </thead>\n",
       "  <tbody>\n",
       "    <tr>\n",
       "      <th>0</th>\n",
       "      <td>Recidivism</td>\n",
       "      <td>0.665</td>\n",
       "      <td>0.016</td>\n",
       "      <td>0.665</td>\n",
       "      <td>0.019</td>\n",
       "      <td>0.668</td>\n",
       "      <td>0.019</td>\n",
       "      <td>0.612</td>\n",
       "      <td>0.012</td>\n",
       "      <td>0.653</td>\n",
       "      <td>0.020</td>\n",
       "      <td>0.661</td>\n",
       "      <td>0.018</td>\n",
       "    </tr>\n",
       "    <tr>\n",
       "      <th>1</th>\n",
       "      <td>Violence</td>\n",
       "      <td>0.681</td>\n",
       "      <td>0.015</td>\n",
       "      <td>0.684</td>\n",
       "      <td>0.013</td>\n",
       "      <td>0.668</td>\n",
       "      <td>0.013</td>\n",
       "      <td>0.569</td>\n",
       "      <td>0.013</td>\n",
       "      <td>0.624</td>\n",
       "      <td>0.034</td>\n",
       "      <td>0.652</td>\n",
       "      <td>0.026</td>\n",
       "    </tr>\n",
       "    <tr>\n",
       "      <th>2</th>\n",
       "      <td>Drug</td>\n",
       "      <td>0.669</td>\n",
       "      <td>0.033</td>\n",
       "      <td>0.708</td>\n",
       "      <td>0.027</td>\n",
       "      <td>0.687</td>\n",
       "      <td>0.027</td>\n",
       "      <td>0.625</td>\n",
       "      <td>0.025</td>\n",
       "      <td>0.666</td>\n",
       "      <td>0.024</td>\n",
       "      <td>0.690</td>\n",
       "      <td>0.022</td>\n",
       "    </tr>\n",
       "    <tr>\n",
       "      <th>3</th>\n",
       "      <td>Property</td>\n",
       "      <td>0.735</td>\n",
       "      <td>0.029</td>\n",
       "      <td>0.742</td>\n",
       "      <td>0.030</td>\n",
       "      <td>0.695</td>\n",
       "      <td>0.030</td>\n",
       "      <td>0.638</td>\n",
       "      <td>0.035</td>\n",
       "      <td>0.691</td>\n",
       "      <td>0.045</td>\n",
       "      <td>0.726</td>\n",
       "      <td>0.029</td>\n",
       "    </tr>\n",
       "    <tr>\n",
       "      <th>4</th>\n",
       "      <td>Felony</td>\n",
       "      <td>0.653</td>\n",
       "      <td>0.041</td>\n",
       "      <td>0.642</td>\n",
       "      <td>0.036</td>\n",
       "      <td>0.628</td>\n",
       "      <td>0.036</td>\n",
       "      <td>0.623</td>\n",
       "      <td>0.036</td>\n",
       "      <td>0.615</td>\n",
       "      <td>0.042</td>\n",
       "      <td>0.639</td>\n",
       "      <td>0.039</td>\n",
       "    </tr>\n",
       "    <tr>\n",
       "      <th>5</th>\n",
       "      <td>Misdemeanor</td>\n",
       "      <td>0.627</td>\n",
       "      <td>0.029</td>\n",
       "      <td>0.635</td>\n",
       "      <td>0.025</td>\n",
       "      <td>0.638</td>\n",
       "      <td>0.025</td>\n",
       "      <td>0.518</td>\n",
       "      <td>0.022</td>\n",
       "      <td>0.618</td>\n",
       "      <td>0.018</td>\n",
       "      <td>0.607</td>\n",
       "      <td>0.013</td>\n",
       "    </tr>\n",
       "  </tbody>\n",
       "</table>\n",
       "</div>"
      ],
      "text/plain": [
       "    Unnamed: 0  Logistic    STD  Lasso  STD.1  Linear SVM  STD.2   CART  \\\n",
       "0   Recidivism     0.665  0.016  0.665  0.019       0.668  0.019  0.612   \n",
       "1     Violence     0.681  0.015  0.684  0.013       0.668  0.013  0.569   \n",
       "2         Drug     0.669  0.033  0.708  0.027       0.687  0.027  0.625   \n",
       "3     Property     0.735  0.029  0.742  0.030       0.695  0.030  0.638   \n",
       "4       Felony     0.653  0.041  0.642  0.036       0.628  0.036  0.623   \n",
       "5  Misdemeanor     0.627  0.029  0.635  0.025       0.638  0.025  0.518   \n",
       "\n",
       "   STD.3  Random Forest  STD.4  XGBoost  STD.5  \n",
       "0  0.012          0.653  0.020    0.661  0.018  \n",
       "1  0.013          0.624  0.034    0.652  0.026  \n",
       "2  0.025          0.666  0.024    0.690  0.022  \n",
       "3  0.035          0.691  0.045    0.726  0.029  \n",
       "4  0.036          0.615  0.042    0.639  0.039  \n",
       "5  0.022          0.618  0.018    0.607  0.013  "
      ]
     },
     "execution_count": 12,
     "metadata": {},
     "output_type": "execute_result"
    }
   ],
   "source": [
    "result"
   ]
  },
  {
   "cell_type": "code",
   "execution_count": 4,
   "metadata": {
    "hideCode": false,
    "hidePrompt": false
   },
   "outputs": [],
   "source": [
    "cols = result.columns.to_list()\n",
    "values = result.values.tolist()"
   ]
  },
  {
   "cell_type": "code",
   "execution_count": 5,
   "metadata": {
    "hideCode": false,
    "hideOutput": true,
    "hidePrompt": false
   },
   "outputs": [
    {
     "name": "stdout",
     "output_type": "stream",
     "text": [
      "\\begin{array}{l | l | l | l | l | l | l} \\hline\n",
      "    General     & \\verb|0.726 (0.001)| & \\verb|0.726 (0.001)| & \\verb|0.726 (0.002)| & \\verb|0.731 (0.002)| & \\verb|0.738 (0.002)| & \\verb|0.743 (0.003)| \\\\ \\hline\n",
      "    Violent     & \\verb|0.817 (0.003)| & \\verb|0.817 (0.003)| & \\verb|0.817 (0.003)| & \\verb|0.813 (0.003)| & \\verb|0.822 (0.003)| & \\verb|0.821 (0.002)| \\\\ \\hline\n",
      "    Drug        & \\verb|0.688 (0.002)| & \\verb|0.688 (0.002)| & \\verb|0.692 (0.002)| & \\verb|0.695 (0.006)| & \\verb|0.698 (0.004)| & \\verb|0.703 (0.005)| \\\\ \\hline\n",
      "    Proprety    & \\verb|0.776 (0.006)| & \\verb|0.776 (0.006)| & \\verb|0.781 (0.005)| & \\verb|0.772 (0.007)| & \\verb|0.781 (0.006)| & \\verb|0.78 (0.007) | \\\\ \\hline\n",
      "    Felony      & \\verb|0.725 (0.003)| & \\verb|0.725 (0.003)| & \\verb|0.728 (0.003)| & \\verb|0.737 (0.003)| & \\verb|0.745 (0.002)| & \\verb|0.748 (0.003)| \\\\ \\hline\n",
      "    Misdemeanor & \\verb|0.7 (0.002)  | & \\verb|0.7 (0.002)  | & \\verb|0.702 (0.002)| & \\verb|0.703 (0.003)| & \\verb|0.712 (0.002)| & \\verb|0.714 (0.002)| \\\\ \\hline\n",
      "\\end{array}\n"
     ]
    }
   ],
   "source": [
    "writer = pytablewriter.LatexTableWriter()\n",
    "writer.value_matrix = values\n",
    "writer.write_table()"
   ]
  }
 ],
 "metadata": {
  "hide_code_all_hidden": false,
  "kernelspec": {
   "display_name": "Python 3",
   "language": "python",
   "name": "python3"
  },
  "language_info": {
   "codemirror_mode": {
    "name": "ipython",
    "version": 3
   },
   "file_extension": ".py",
   "mimetype": "text/x-python",
   "name": "python",
   "nbconvert_exporter": "python",
   "pygments_lexer": "ipython3",
   "version": "3.7.4"
  }
 },
 "nbformat": 4,
 "nbformat_minor": 4
}
