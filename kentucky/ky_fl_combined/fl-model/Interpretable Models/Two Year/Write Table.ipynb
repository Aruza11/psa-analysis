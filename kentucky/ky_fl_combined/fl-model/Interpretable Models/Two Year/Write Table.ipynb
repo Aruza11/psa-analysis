{
 "cells": [
  {
   "cell_type": "code",
   "execution_count": 1,
   "metadata": {
    "hideCode": false,
    "hidePrompt": false
   },
   "outputs": [],
   "source": [
    "import pytablewriter\n",
    "import pandas as pd\n",
    "import numpy as np"
   ]
  },
  {
   "cell_type": "code",
   "execution_count": 4,
   "metadata": {
    "hideCode": false,
    "hidePrompt": false
   },
   "outputs": [],
   "source": [
    "result = pd.read_csv(\"C:\\\\Users\\\\binha\\\\Documents\\\\Duke\\\\Cynthia Research\\\\KY-analysis-mytrials\\\\KY Recidivism\\\\KY Results\\\\KY_FL\\\\FL Model\\\\interpretable\\\\Two Year\\\\Two Year FL_inter_model.csv\")"
   ]
  },
  {
   "cell_type": "code",
   "execution_count": 6,
   "metadata": {
    "hideCode": false,
    "hidePrompt": false
   },
   "outputs": [
    {
     "data": {
      "text/html": [
       "<div>\n",
       "<style scoped>\n",
       "    .dataframe tbody tr th:only-of-type {\n",
       "        vertical-align: middle;\n",
       "    }\n",
       "\n",
       "    .dataframe tbody tr th {\n",
       "        vertical-align: top;\n",
       "    }\n",
       "\n",
       "    .dataframe thead th {\n",
       "        text-align: right;\n",
       "    }\n",
       "</style>\n",
       "<table border=\"1\" class=\"dataframe\">\n",
       "  <thead>\n",
       "    <tr style=\"text-align: right;\">\n",
       "      <th></th>\n",
       "      <th>Unnamed: 0</th>\n",
       "      <th>CART</th>\n",
       "      <th>EBM</th>\n",
       "      <th>Lasso Stumps</th>\n",
       "      <th>RiskSLIM</th>\n",
       "    </tr>\n",
       "  </thead>\n",
       "  <tbody>\n",
       "    <tr>\n",
       "      <th>0</th>\n",
       "      <td>General</td>\n",
       "      <td>0.573</td>\n",
       "      <td>0.678</td>\n",
       "      <td>0.640</td>\n",
       "      <td>0.634</td>\n",
       "    </tr>\n",
       "    <tr>\n",
       "      <th>1</th>\n",
       "      <td>Violent</td>\n",
       "      <td>0.616</td>\n",
       "      <td>0.749</td>\n",
       "      <td>0.778</td>\n",
       "      <td>0.713</td>\n",
       "    </tr>\n",
       "    <tr>\n",
       "      <th>2</th>\n",
       "      <td>Drug</td>\n",
       "      <td>0.595</td>\n",
       "      <td>0.642</td>\n",
       "      <td>0.620</td>\n",
       "      <td>0.623</td>\n",
       "    </tr>\n",
       "    <tr>\n",
       "      <th>3</th>\n",
       "      <td>Property</td>\n",
       "      <td>0.529</td>\n",
       "      <td>0.673</td>\n",
       "      <td>0.632</td>\n",
       "      <td>0.566</td>\n",
       "    </tr>\n",
       "    <tr>\n",
       "      <th>4</th>\n",
       "      <td>Felony</td>\n",
       "      <td>0.551</td>\n",
       "      <td>0.706</td>\n",
       "      <td>0.689</td>\n",
       "      <td>0.514</td>\n",
       "    </tr>\n",
       "    <tr>\n",
       "      <th>5</th>\n",
       "      <td>Misdemeanor</td>\n",
       "      <td>0.574</td>\n",
       "      <td>0.645</td>\n",
       "      <td>0.620</td>\n",
       "      <td>0.619</td>\n",
       "    </tr>\n",
       "  </tbody>\n",
       "</table>\n",
       "</div>"
      ],
      "text/plain": [
       "    Unnamed: 0   CART    EBM  Lasso Stumps  RiskSLIM\n",
       "0      General  0.573  0.678         0.640     0.634\n",
       "1      Violent  0.616  0.749         0.778     0.713\n",
       "2         Drug  0.595  0.642         0.620     0.623\n",
       "3     Property  0.529  0.673         0.632     0.566\n",
       "4       Felony  0.551  0.706         0.689     0.514\n",
       "5  Misdemeanor  0.574  0.645         0.620     0.619"
      ]
     },
     "execution_count": 6,
     "metadata": {},
     "output_type": "execute_result"
    }
   ],
   "source": [
    "result"
   ]
  },
  {
   "cell_type": "code",
   "execution_count": 5,
   "metadata": {
    "hideCode": false,
    "hidePrompt": false
   },
   "outputs": [],
   "source": [
    "cols = result.columns.to_list()\n",
    "values = result.values.tolist()"
   ]
  },
  {
   "cell_type": "code",
   "execution_count": 6,
   "metadata": {
    "hideCode": false,
    "hideOutput": true,
    "hidePrompt": false
   },
   "outputs": [
    {
     "name": "stdout",
     "output_type": "stream",
     "text": [
      "\\begin{array}{l | r | r | r | r} \\hline\n",
      "    General     & 0.5540 & 0.6510 & 0.623 & 0.561 \\\\ \\hline\n",
      "    Violent     & 0.5490 & 0.7160 & 0.762 & 0.703 \\\\ \\hline\n",
      "    Drug        & 0.5530 & 0.6060 & 0.580 & 0.556 \\\\ \\hline\n",
      "    Property    & 0.5230 & 0.6200 & 0.578 & 0.594 \\\\ \\hline\n",
      "    Felony      & 0.5250 & 0.6570 & 0.634 & 0.599 \\\\ \\hline\n",
      "    Misdemeanor & 0.5280 & 0.6120 & 0.603 & 0.599 \\\\ \\hline\n",
      "\\end{array}\n"
     ]
    }
   ],
   "source": [
    "writer = pytablewriter.LatexTableWriter()\n",
    "writer.value_matrix = values\n",
    "writer.write_table()"
   ]
  }
 ],
 "metadata": {
  "hide_code_all_hidden": false,
  "kernelspec": {
   "display_name": "Python 3",
   "language": "python",
   "name": "python3"
  },
  "language_info": {
   "codemirror_mode": {
    "name": "ipython",
    "version": 3
   },
   "file_extension": ".py",
   "mimetype": "text/x-python",
   "name": "python",
   "nbconvert_exporter": "python",
   "pygments_lexer": "ipython3",
   "version": "3.7.4"
  }
 },
 "nbformat": 4,
 "nbformat_minor": 2
}
