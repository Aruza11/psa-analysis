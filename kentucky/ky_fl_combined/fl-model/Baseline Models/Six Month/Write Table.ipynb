{
 "cells": [
  {
   "cell_type": "code",
   "execution_count": 1,
   "metadata": {
    "hideCode": false,
    "hidePrompt": false
   },
   "outputs": [],
   "source": [
    "import pytablewriter\n",
    "import pandas as pd\n",
    "import numpy as np"
   ]
  },
  {
   "cell_type": "code",
   "execution_count": 2,
   "metadata": {
    "hideCode": false,
    "hidePrompt": false
   },
   "outputs": [],
   "source": [
    "result = pd.read_csv(\"C:\\\\Users\\\\binha\\\\Documents\\\\Duke\\\\Cynthia Research\\\\KY-analysis-mytrials\\\\KY Recidivism\\\\KY Results\\\\KY_FL\\\\FL Model\\\\baselines\\\\Six Month\\\\FL_model_six_month_comb.csv\")"
   ]
  },
  {
   "cell_type": "code",
   "execution_count": 3,
   "metadata": {
    "hideCode": false,
    "hidePrompt": false
   },
   "outputs": [
    {
     "data": {
      "text/html": [
       "<div>\n",
       "<style scoped>\n",
       "    .dataframe tbody tr th:only-of-type {\n",
       "        vertical-align: middle;\n",
       "    }\n",
       "\n",
       "    .dataframe tbody tr th {\n",
       "        vertical-align: top;\n",
       "    }\n",
       "\n",
       "    .dataframe thead th {\n",
       "        text-align: right;\n",
       "    }\n",
       "</style>\n",
       "<table border=\"1\" class=\"dataframe\">\n",
       "  <thead>\n",
       "    <tr style=\"text-align: right;\">\n",
       "      <th></th>\n",
       "      <th>Unnamed: 0</th>\n",
       "      <th>Logistic</th>\n",
       "      <th>Lasso</th>\n",
       "      <th>Linear SVM</th>\n",
       "      <th>Random Forest</th>\n",
       "      <th>XGBoost</th>\n",
       "      <th>CART</th>\n",
       "      <th>EBM</th>\n",
       "      <th>Lasso Stumps</th>\n",
       "      <th>RiskSLIM</th>\n",
       "    </tr>\n",
       "  </thead>\n",
       "  <tbody>\n",
       "    <tr>\n",
       "      <th>0</th>\n",
       "      <td>General</td>\n",
       "      <td>0.667</td>\n",
       "      <td>0.668</td>\n",
       "      <td>0.639</td>\n",
       "      <td>0.701</td>\n",
       "      <td>0.676</td>\n",
       "      <td>0.637</td>\n",
       "      <td>0.701</td>\n",
       "      <td>0.678</td>\n",
       "      <td>0.621</td>\n",
       "    </tr>\n",
       "    <tr>\n",
       "      <th>1</th>\n",
       "      <td>Violent</td>\n",
       "      <td>0.823</td>\n",
       "      <td>0.812</td>\n",
       "      <td>0.823</td>\n",
       "      <td>0.822</td>\n",
       "      <td>0.834</td>\n",
       "      <td>0.759</td>\n",
       "      <td>0.789</td>\n",
       "      <td>0.827</td>\n",
       "      <td>0.801</td>\n",
       "    </tr>\n",
       "    <tr>\n",
       "      <th>2</th>\n",
       "      <td>Drug</td>\n",
       "      <td>0.636</td>\n",
       "      <td>0.623</td>\n",
       "      <td>0.538</td>\n",
       "      <td>0.650</td>\n",
       "      <td>0.653</td>\n",
       "      <td>0.636</td>\n",
       "      <td>0.633</td>\n",
       "      <td>0.629</td>\n",
       "      <td>0.620</td>\n",
       "    </tr>\n",
       "    <tr>\n",
       "      <th>3</th>\n",
       "      <td>Property</td>\n",
       "      <td>0.691</td>\n",
       "      <td>0.696</td>\n",
       "      <td>0.605</td>\n",
       "      <td>0.727</td>\n",
       "      <td>0.738</td>\n",
       "      <td>0.536</td>\n",
       "      <td>0.690</td>\n",
       "      <td>0.625</td>\n",
       "      <td>0.588</td>\n",
       "    </tr>\n",
       "    <tr>\n",
       "      <th>4</th>\n",
       "      <td>Felony</td>\n",
       "      <td>0.665</td>\n",
       "      <td>0.666</td>\n",
       "      <td>0.586</td>\n",
       "      <td>0.724</td>\n",
       "      <td>0.651</td>\n",
       "      <td>0.629</td>\n",
       "      <td>0.671</td>\n",
       "      <td>0.692</td>\n",
       "      <td>0.596</td>\n",
       "    </tr>\n",
       "    <tr>\n",
       "      <th>5</th>\n",
       "      <td>Misdemeanor</td>\n",
       "      <td>0.661</td>\n",
       "      <td>0.657</td>\n",
       "      <td>0.647</td>\n",
       "      <td>0.666</td>\n",
       "      <td>0.655</td>\n",
       "      <td>0.629</td>\n",
       "      <td>0.671</td>\n",
       "      <td>0.605</td>\n",
       "      <td>0.521</td>\n",
       "    </tr>\n",
       "  </tbody>\n",
       "</table>\n",
       "</div>"
      ],
      "text/plain": [
       "    Unnamed: 0  Logistic  Lasso  Linear SVM  Random Forest  XGBoost   CART  \\\n",
       "0      General     0.667  0.668       0.639          0.701    0.676  0.637   \n",
       "1      Violent     0.823  0.812       0.823          0.822    0.834  0.759   \n",
       "2         Drug     0.636  0.623       0.538          0.650    0.653  0.636   \n",
       "3     Property     0.691  0.696       0.605          0.727    0.738  0.536   \n",
       "4       Felony     0.665  0.666       0.586          0.724    0.651  0.629   \n",
       "5  Misdemeanor     0.661  0.657       0.647          0.666    0.655  0.629   \n",
       "\n",
       "     EBM  Lasso Stumps  RiskSLIM  \n",
       "0  0.701         0.678     0.621  \n",
       "1  0.789         0.827     0.801  \n",
       "2  0.633         0.629     0.620  \n",
       "3  0.690         0.625     0.588  \n",
       "4  0.671         0.692     0.596  \n",
       "5  0.671         0.605     0.521  "
      ]
     },
     "execution_count": 3,
     "metadata": {},
     "output_type": "execute_result"
    }
   ],
   "source": [
    "result"
   ]
  },
  {
   "cell_type": "code",
   "execution_count": 4,
   "metadata": {
    "hideCode": false,
    "hidePrompt": false
   },
   "outputs": [],
   "source": [
    "cols = result.columns.to_list()\n",
    "values = result.values.tolist()"
   ]
  },
  {
   "cell_type": "code",
   "execution_count": 5,
   "metadata": {
    "hideCode": false,
    "hideOutput": true,
    "hidePrompt": false
   },
   "outputs": [
    {
     "name": "stdout",
     "output_type": "stream",
     "text": [
      "\\begin{array}{l | r | r | r | r | r | r | r | r | r} \\hline\n",
      "    General     & 0.6670 & 0.6680 & 0.6390 & 0.7010 & 0.6760 & 0.637 & 0.7010 & 0.6780 & 0.6210 \\\\ \\hline\n",
      "    Violent     & 0.8230 & 0.8120 & 0.8230 & 0.8220 & 0.8340 & 0.759 & 0.7890 & 0.8270 & 0.8010 \\\\ \\hline\n",
      "    Drug        & 0.6360 & 0.6230 & 0.5380 & 0.6500 & 0.6530 & 0.636 & 0.6330 & 0.6290 & 0.6200 \\\\ \\hline\n",
      "    Property    & 0.6910 & 0.6960 & 0.6050 & 0.7270 & 0.7380 & 0.536 & 0.6900 & 0.6250 & 0.5880 \\\\ \\hline\n",
      "    Felony      & 0.6650 & 0.6660 & 0.5860 & 0.7240 & 0.6510 & 0.629 & 0.6710 & 0.6920 & 0.5960 \\\\ \\hline\n",
      "    Misdemeanor & 0.6610 & 0.6570 & 0.6470 & 0.6660 & 0.6550 & 0.629 & 0.6710 & 0.6050 & 0.5210 \\\\ \\hline\n",
      "\\end{array}\n"
     ]
    }
   ],
   "source": [
    "writer = pytablewriter.LatexTableWriter()\n",
    "writer.value_matrix = values\n",
    "writer.write_table()"
   ]
  }
 ],
 "metadata": {
  "hide_code_all_hidden": false,
  "kernelspec": {
   "display_name": "Python 3",
   "language": "python",
   "name": "python3"
  },
  "language_info": {
   "codemirror_mode": {
    "name": "ipython",
    "version": 3
   },
   "file_extension": ".py",
   "mimetype": "text/x-python",
   "name": "python",
   "nbconvert_exporter": "python",
   "pygments_lexer": "ipython3",
   "version": "3.7.4"
  }
 },
 "nbformat": 4,
 "nbformat_minor": 4
}
