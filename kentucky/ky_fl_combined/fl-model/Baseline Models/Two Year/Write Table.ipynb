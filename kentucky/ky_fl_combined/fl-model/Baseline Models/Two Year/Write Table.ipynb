{
 "cells": [
  {
   "cell_type": "code",
   "execution_count": 1,
   "metadata": {
    "hideCode": false,
    "hidePrompt": false
   },
   "outputs": [],
   "source": [
    "import pytablewriter\n",
    "import pandas as pd\n",
    "import numpy as np"
   ]
  },
  {
   "cell_type": "code",
   "execution_count": 2,
   "metadata": {
    "hideCode": false,
    "hidePrompt": false
   },
   "outputs": [],
   "source": [
    "result = pd.read_csv(\"C:\\\\Users\\\\binha\\\\Documents\\\\Duke\\\\Cynthia Research\\\\KY-analysis-mytrials\\\\KY Recidivism\\\\KY Results\\\\KY_FL\\\\FL Model\\\\baselines\\\\Two Year\\\\FL_model_two_year_comb.csv\")"
   ]
  },
  {
   "cell_type": "code",
   "execution_count": 3,
   "metadata": {
    "hideCode": false,
    "hidePrompt": false
   },
   "outputs": [
    {
     "data": {
      "text/html": [
       "<div>\n",
       "<style scoped>\n",
       "    .dataframe tbody tr th:only-of-type {\n",
       "        vertical-align: middle;\n",
       "    }\n",
       "\n",
       "    .dataframe tbody tr th {\n",
       "        vertical-align: top;\n",
       "    }\n",
       "\n",
       "    .dataframe thead th {\n",
       "        text-align: right;\n",
       "    }\n",
       "</style>\n",
       "<table border=\"1\" class=\"dataframe\">\n",
       "  <thead>\n",
       "    <tr style=\"text-align: right;\">\n",
       "      <th></th>\n",
       "      <th>Unnamed: 0</th>\n",
       "      <th>Logistic</th>\n",
       "      <th>Lasso</th>\n",
       "      <th>Linear SVM</th>\n",
       "      <th>Random Forest</th>\n",
       "      <th>XGBoost</th>\n",
       "      <th>CART</th>\n",
       "      <th>EBM</th>\n",
       "      <th>Lasso Stumps</th>\n",
       "      <th>RiskSLIM</th>\n",
       "    </tr>\n",
       "  </thead>\n",
       "  <tbody>\n",
       "    <tr>\n",
       "      <th>0</th>\n",
       "      <td>General</td>\n",
       "      <td>0.651</td>\n",
       "      <td>0.642</td>\n",
       "      <td>0.641</td>\n",
       "      <td>0.674</td>\n",
       "      <td>0.651</td>\n",
       "      <td>0.573</td>\n",
       "      <td>0.678</td>\n",
       "      <td>0.640</td>\n",
       "      <td>0.634</td>\n",
       "    </tr>\n",
       "    <tr>\n",
       "      <th>1</th>\n",
       "      <td>Violent</td>\n",
       "      <td>0.774</td>\n",
       "      <td>0.774</td>\n",
       "      <td>0.776</td>\n",
       "      <td>0.763</td>\n",
       "      <td>0.767</td>\n",
       "      <td>0.616</td>\n",
       "      <td>0.749</td>\n",
       "      <td>0.778</td>\n",
       "      <td>0.713</td>\n",
       "    </tr>\n",
       "    <tr>\n",
       "      <th>2</th>\n",
       "      <td>Drug</td>\n",
       "      <td>0.628</td>\n",
       "      <td>0.618</td>\n",
       "      <td>0.552</td>\n",
       "      <td>0.634</td>\n",
       "      <td>0.636</td>\n",
       "      <td>0.595</td>\n",
       "      <td>0.642</td>\n",
       "      <td>0.620</td>\n",
       "      <td>0.623</td>\n",
       "    </tr>\n",
       "    <tr>\n",
       "      <th>3</th>\n",
       "      <td>Property</td>\n",
       "      <td>0.672</td>\n",
       "      <td>0.686</td>\n",
       "      <td>0.651</td>\n",
       "      <td>0.685</td>\n",
       "      <td>0.671</td>\n",
       "      <td>0.529</td>\n",
       "      <td>0.673</td>\n",
       "      <td>0.632</td>\n",
       "      <td>0.566</td>\n",
       "    </tr>\n",
       "    <tr>\n",
       "      <th>4</th>\n",
       "      <td>Felony</td>\n",
       "      <td>0.650</td>\n",
       "      <td>0.656</td>\n",
       "      <td>0.644</td>\n",
       "      <td>0.708</td>\n",
       "      <td>0.683</td>\n",
       "      <td>0.551</td>\n",
       "      <td>0.706</td>\n",
       "      <td>0.689</td>\n",
       "      <td>0.514</td>\n",
       "    </tr>\n",
       "    <tr>\n",
       "      <th>5</th>\n",
       "      <td>Misdemeanor</td>\n",
       "      <td>0.634</td>\n",
       "      <td>0.638</td>\n",
       "      <td>0.589</td>\n",
       "      <td>0.640</td>\n",
       "      <td>0.628</td>\n",
       "      <td>0.574</td>\n",
       "      <td>0.645</td>\n",
       "      <td>0.620</td>\n",
       "      <td>0.619</td>\n",
       "    </tr>\n",
       "  </tbody>\n",
       "</table>\n",
       "</div>"
      ],
      "text/plain": [
       "    Unnamed: 0  Logistic  Lasso  Linear SVM  Random Forest  XGBoost   CART  \\\n",
       "0      General     0.651  0.642       0.641          0.674    0.651  0.573   \n",
       "1      Violent     0.774  0.774       0.776          0.763    0.767  0.616   \n",
       "2         Drug     0.628  0.618       0.552          0.634    0.636  0.595   \n",
       "3     Property     0.672  0.686       0.651          0.685    0.671  0.529   \n",
       "4       Felony     0.650  0.656       0.644          0.708    0.683  0.551   \n",
       "5  Misdemeanor     0.634  0.638       0.589          0.640    0.628  0.574   \n",
       "\n",
       "     EBM  Lasso Stumps  RiskSLIM  \n",
       "0  0.678         0.640     0.634  \n",
       "1  0.749         0.778     0.713  \n",
       "2  0.642         0.620     0.623  \n",
       "3  0.673         0.632     0.566  \n",
       "4  0.706         0.689     0.514  \n",
       "5  0.645         0.620     0.619  "
      ]
     },
     "execution_count": 3,
     "metadata": {},
     "output_type": "execute_result"
    }
   ],
   "source": [
    "result"
   ]
  },
  {
   "cell_type": "code",
   "execution_count": 4,
   "metadata": {
    "hideCode": false,
    "hidePrompt": false
   },
   "outputs": [],
   "source": [
    "cols = result.columns.to_list()\n",
    "values = result.values.tolist()"
   ]
  },
  {
   "cell_type": "code",
   "execution_count": 5,
   "metadata": {
    "hideCode": false,
    "hideOutput": true,
    "hidePrompt": false
   },
   "outputs": [
    {
     "name": "stdout",
     "output_type": "stream",
     "text": [
      "\\begin{array}{l | r | r | r | r | r | r | r | r | r} \\hline\n",
      "    General     & 0.6510 & 0.6420 & 0.6410 & 0.674 & 0.6510 & 0.573 & 0.6780 & 0.6400 & 0.6340 \\\\ \\hline\n",
      "    Violent     & 0.7740 & 0.7740 & 0.7760 & 0.763 & 0.7670 & 0.616 & 0.7490 & 0.7780 & 0.7130 \\\\ \\hline\n",
      "    Drug        & 0.6280 & 0.6180 & 0.5520 & 0.634 & 0.6360 & 0.595 & 0.6420 & 0.6200 & 0.6230 \\\\ \\hline\n",
      "    Property    & 0.6720 & 0.6860 & 0.6510 & 0.685 & 0.6710 & 0.529 & 0.6730 & 0.6320 & 0.5660 \\\\ \\hline\n",
      "    Felony      & 0.6500 & 0.6560 & 0.6440 & 0.708 & 0.6830 & 0.551 & 0.7060 & 0.6890 & 0.5140 \\\\ \\hline\n",
      "    Misdemeanor & 0.6340 & 0.6380 & 0.5890 & 0.640 & 0.6280 & 0.574 & 0.6450 & 0.6200 & 0.6190 \\\\ \\hline\n",
      "\\end{array}\n"
     ]
    }
   ],
   "source": [
    "writer = pytablewriter.LatexTableWriter()\n",
    "writer.value_matrix = values\n",
    "writer.write_table()"
   ]
  }
 ],
 "metadata": {
  "hide_code_all_hidden": false,
  "kernelspec": {
   "display_name": "Python 3",
   "language": "python",
   "name": "python3"
  },
  "language_info": {
   "codemirror_mode": {
    "name": "ipython",
    "version": 3
   },
   "file_extension": ".py",
   "mimetype": "text/x-python",
   "name": "python",
   "nbconvert_exporter": "python",
   "pygments_lexer": "ipython3",
   "version": "3.7.4"
  }
 },
 "nbformat": 4,
 "nbformat_minor": 4
}
