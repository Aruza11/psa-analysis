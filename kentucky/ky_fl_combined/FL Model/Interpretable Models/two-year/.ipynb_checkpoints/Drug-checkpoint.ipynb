{
 "cells": [
  {
   "cell_type": "code",
   "execution_count": 1,
   "metadata": {},
   "outputs": [
    {
     "name": "stdout",
     "output_type": "stream",
     "text": [
      "Current working directory is now:  C:\\Users\\binha\\Documents\\Duke\\Cynthia Research\\psa-analysis - test2\\kentucky\\ky_fl_combined\\FL Model\n"
     ]
    },
    {
     "name": "stderr",
     "output_type": "stream",
     "text": [
      "C:\\Users\\binha\\Anaconda3\\lib\\site-packages\\sklearn\\externals\\six.py:31: DeprecationWarning:\n",
      "\n",
      "The module is deprecated in version 0.21 and will be removed in version 0.23 since we've dropped support for Python 2.7. Please rely on the official version of six (https://pypi.org/project/six/).\n",
      "\n"
     ]
    }
   ],
   "source": [
    "import os \n",
    "os.chdir('../../')\n",
    "print(\"Current working directory is now: \", os.getcwd())\n",
    "\n",
    "import pandas as pd \n",
    "import numpy as np\n",
    "import csv\n",
    "\n",
    "import FL_utils.FL_interpretable_functions as interpret\n",
    "import FL_utils.FL_RiskSLIM as slim\n",
    "import FL_utils.FL_stumps as stumps\n",
    "import FL_utils.FL_Corel as Corel\n",
    "\n",
    "# restore saved variables\n",
    "%store -r summary_drug2_fl_inter_model"
   ]
  },
  {
   "cell_type": "markdown",
   "metadata": {},
   "source": [
    "### EBM & CART"
   ]
  },
  {
   "cell_type": "code",
   "execution_count": 13,
   "metadata": {},
   "outputs": [],
   "source": [
    "KY_data = pd.read_csv(\"~/Documents/Duke/Cynthia Research/psa-analysis - test/kentucky/models/ky_fl_combined/data preparation/KY_cleaned\")\n",
    "FL_data = pd.read_csv(\"~/Documents/Duke/Cynthia Research/psa-analysis - test/kentucky/models/ky_fl_combined/data preparation/FL_cleaned\")\n",
    "\n",
    "## split x and y \n",
    "KY_X = KY_data.loc[:,:'current_violence']\n",
    "KY_Y = KY_data['recid_drug_two_year'].values\n",
    "FL_X = FL_data.loc[:,:'current_violence']\n",
    "FL_Y = FL_data['recid_drug_two_year'].values"
   ]
  },
  {
   "cell_type": "code",
   "execution_count": 14,
   "metadata": {},
   "outputs": [],
   "source": [
    "#### CART\n",
    "depth = [1,2]\n",
    "impurity = [0.001, 0.003]\n",
    "split = [2,3,4]\n",
    "cart_summary = advance.CART(KY_X, KY_Y, FL_X, FL_Y, depth, split, impurity, seed=816)\n",
    "\n",
    "### EBM\n",
    "estimators = [60, 80, 100]\n",
    "depth = [1]\n",
    "learning_rate = [0.05]\n",
    "holdout_split = [0.9]\n",
    "ebm_summary = advance.EBM(KY_X, KY_Y, FL_X, FL_Y, learning_rate, depth, estimators, holdout_split, seed=816)"
   ]
  },
  {
   "cell_type": "code",
   "execution_count": 15,
   "metadata": {},
   "outputs": [
    {
     "data": {
      "text/plain": [
       "(0.5529579578635895, 0.6060750536229718)"
      ]
     },
     "execution_count": 15,
     "metadata": {},
     "output_type": "execute_result"
    }
   ],
   "source": [
    "cart_summary['KY_score'], ebm_summary['KY_score']"
   ]
  },
  {
   "cell_type": "markdown",
   "metadata": {},
   "source": [
    "### Lasso Stumps"
   ]
  },
  {
   "cell_type": "code",
   "execution_count": 2,
   "metadata": {},
   "outputs": [],
   "source": [
    "KY_stumps = pd.read_csv(\"~/Documents/Duke/Cynthia Research/psa-analysis - test/kentucky/models/ky_fl_combined/data preparation/KY_stumps\")\n",
    "FL_stumps = pd.read_csv(\"~/Documents/Duke/Cynthia Research/psa-analysis - test/kentucky/models/ky_fl_combined/data preparation/FL_stumps\")\n",
    "\n",
    "## split x and y \n",
    "KY_X = KY_stumps.loc[:,:'current_violence>=1']\n",
    "KY_Y = KY_stumps['recid_drug_two_year'].values\n",
    "FL_X = FL_stumps.loc[:,:'current_violence>=1']\n",
    "FL_Y = FL_stumps['recid_drug_two_year'].values\n",
    "\n",
    "## columns \n",
    "cols = KY_X.columns"
   ]
  },
  {
   "cell_type": "code",
   "execution_count": 5,
   "metadata": {},
   "outputs": [],
   "source": [
    "c_grid = {'C': [0.01, 0.03, 0.05, 0.07, 0.09]}\n",
    "stumps_summary = stumps.stump_cv(KY_X, KY_Y, FL_X, FL_Y, cols, c_grid, seed=816)"
   ]
  },
  {
   "cell_type": "code",
   "execution_count": 7,
   "metadata": {},
   "outputs": [
    {
     "data": {
      "text/plain": [
       "{'best_auc': 0.695235670092981,\n",
       " 'best_params': {'C': 0.05},\n",
       " 'auc_diffs': 0.041264406288626376,\n",
       " 'KY_score': 0.5801387513674704}"
      ]
     },
     "execution_count": 7,
     "metadata": {},
     "output_type": "execute_result"
    }
   ],
   "source": [
    "stumps_summary"
   ]
  },
  {
   "cell_type": "markdown",
   "metadata": {},
   "source": [
    "### RiskSLIM"
   ]
  },
  {
   "cell_type": "code",
   "execution_count": 9,
   "metadata": {},
   "outputs": [
    {
     "data": {
      "text/plain": [
       "22"
      ]
     },
     "execution_count": 9,
     "metadata": {},
     "output_type": "execute_result"
    }
   ],
   "source": [
    "## train on best param chosen by Lasso Stumps from above\n",
    "lasso = LogisticRegression(class_weight='balanced', solver='liblinear', penalty='l1', C=0.05, random_state=816).fit(FL_X, FL_Y)\n",
    "selected_features = cols[lasso.coef_[0] != 0].tolist()\n",
    "len(selected_features)"
   ]
  },
  {
   "cell_type": "code",
   "execution_count": 10,
   "metadata": {},
   "outputs": [],
   "source": [
    "### Subset features\n",
    "sub_FL_X = FL_stumps.loc[:, selected_features]\n",
    "sub_KY_X = KY_stumps.loc[:, selected_features]\n",
    "sub_FL_X.insert(0, '(Intercept)', 1)"
   ]
  },
  {
   "cell_type": "code",
   "execution_count": 11,
   "metadata": {
    "scrolled": true
   },
   "outputs": [
    {
     "name": "stdout",
     "output_type": "stream",
     "text": [
      "setting c0 = 0.0 to ensure that intercept is not penalized\n",
      "09/17/19 @ 11:10 AM | 981 rows in lookup table\n",
      "09/17/19 @ 11:10 AM | ------------------------------------------------------------\n",
      "09/17/19 @ 11:10 AM | runnning initialization procedure\n",
      "09/17/19 @ 11:10 AM | ------------------------------------------------------------\n",
      "09/17/19 @ 11:10 AM | CPA produced 2 cuts\n",
      "09/17/19 @ 11:10 AM | running naive rounding on 139 solutions\n",
      "09/17/19 @ 11:10 AM | best objective value: 0.2804\n",
      "09/17/19 @ 11:10 AM | rounding produced 2 integer solutions\n",
      "09/17/19 @ 11:10 AM | best objective value is 0.2944\n",
      "09/17/19 @ 11:10 AM | running sequential rounding on 139 solutions\n",
      "09/17/19 @ 11:10 AM | best objective value: 0.2804\n",
      "09/17/19 @ 11:10 AM | sequential rounding produced 1 integer solutions\n",
      "09/17/19 @ 11:10 AM | best objective value: 0.2944\n",
      "09/17/19 @ 11:10 AM | polishing 3 solutions\n",
      "09/17/19 @ 11:10 AM | best objective value: 0.2944\n",
      "09/17/19 @ 11:10 AM | polishing produced 2 integer solutions\n",
      "09/17/19 @ 11:10 AM | initialization produced 4 feasible solutions\n",
      "09/17/19 @ 11:10 AM | best objective value: 0.2942\n",
      "09/17/19 @ 11:10 AM | ------------------------------------------------------------\n",
      "09/17/19 @ 11:10 AM | completed initialization procedure\n",
      "09/17/19 @ 11:10 AM | ------------------------------------------------------------\n",
      "09/17/19 @ 11:10 AM | 981 rows in lookup table\n",
      "CPXPARAM_Read_DataCheck                          1\n",
      "CPXPARAM_Threads                                 1\n",
      "CPXPARAM_Parallel                                1\n",
      "CPXPARAM_RandomSeed                              0\n",
      "CPXPARAM_TimeLimit                               200\n",
      "CPXPARAM_MIP_Tolerances_LowerCutoff              0.28039871609248607\n",
      "CPXPARAM_MIP_Tolerances_UpperCutoff              0.29416940866146157\n"
     ]
    },
    {
     "name": "stderr",
     "output_type": "stream",
     "text": [
      "Warning: Control callbacks may disable some MIP features.\n"
     ]
    },
    {
     "name": "stdout",
     "output_type": "stream",
     "text": [
      "Lazy constraint(s) or lazy constraint callback is present.\n",
      "    Disabling dual reductions (CPX_PARAM_REDUCE) in presolve.\n",
      "    Disabling non-linear reductions (CPX_PARAM_PRELINEAR) in presolve.\n",
      "         Disabling repeat represolve because of lazy constraint/incumbent callback.\n",
      "09/17/19 @ 11:10 AM | adding 138 initial cuts\n",
      "1 of 1 MIP starts provided solutions.\n",
      "MIP start 'mip_start_0' defined initial solution with objective 0.2942.\n",
      "Tried aggregator 1 time.\n",
      "Reduced MIP has 24 rows, 48 columns, and 91 nonzeros.\n",
      "Reduced MIP has 22 binaries, 24 generals, 0 SOSs, and 0 indicators.\n",
      "Presolve time = 0.00 sec. (0.05 ticks)\n",
      "Probing time = 0.00 sec. (0.01 ticks)\n",
      "MIP emphasis: balance optimality and feasibility.\n",
      "MIP search method: traditional branch-and-cut.\n",
      "Parallel mode: none, using 1 thread.\n",
      "Root relaxation solution time = 0.00 sec. (0.03 ticks)\n",
      "\n",
      "        Nodes                                         Cuts/\n",
      "   Node  Left     Objective  IInf  Best Integer    Best Bound    ItCnt     Gap         Variable B NodeID Parent  Depth\n",
      "\n",
      "*     0+    0                            0.2942        0.2704             8.08%\n",
      "      0     0        0.2804     1        0.2942        0.2804        1    4.68%\n",
      "      0     2        0.2804     5        0.2942        0.2804        1    4.68%                        0             0\n",
      "Elapsed time = 0.08 sec. (1.13 ticks, tree = 0.01 MB, solutions = 1)\n",
      "*  1124   526      integral     0        0.2924        0.2804     3135    4.09%\n",
      "*  1640+  565                            0.2901        0.2804             3.35%\n",
      "   2989  1068        cutoff              0.2901        0.2804    10232    3.35%          rho_17 D   2989   2987     10\n",
      "   5672  2996        0.2816     5        0.2901        0.2804    15641    3.35%           rho_0 U   5672   5671     54\n",
      "   8290  4152        0.2814     7        0.2901        0.2804    23150    3.35%           rho_7 D   8290   8289     17\n",
      "  10634  5541        0.2804     3        0.2901        0.2804    30892    3.35%          rho_11 U  10634  10632     74\n",
      "  12773  6880        0.2890     3        0.2901        0.2804    40319    3.35%          rho_14 D  12773  12772     74\n",
      "  14981  8119        0.2831     6        0.2901        0.2804    49163    3.35%           rho_0 U  14981  14980     62\n",
      "  17016  9138        cutoff              0.2901        0.2804    58524    3.35%           rho_0 U  17016  17015     78\n",
      "  19140 10299        0.2804     7        0.2901        0.2804    67069    3.35%          rho_11 D  19140  18975     62\n",
      "  21555 11434        0.2804     8        0.2901        0.2804    75133    3.35%          rho_11 D  21555  21266     59\n",
      "  30406 15686        0.2857     1        0.2901        0.2804   107776    3.35%          rho_18 N  30406  30404     71\n",
      "Elapsed time = 3.69 sec. (3101.49 ticks, tree = 3.92 MB, solutions = 3)\n",
      "  39472 19777        0.2804     3        0.2901        0.2804   143574    3.35%           rho_0 D  39472  39470     55\n",
      "  49283 23222        0.2804     3        0.2901        0.2804   176225    3.35%           rho_0 D  49283  49279     52\n",
      "  58401 26768        0.2804     7        0.2901        0.2804   209241    3.35%          rho_22 D  58401  58400     50\n",
      "  65548 28084        0.2813    10        0.2901        0.2804   242753    3.35%           rho_6 N  65548  20739     58\n",
      "  73023 29638        0.2864     5        0.2901        0.2804   279456    3.35%          rho_15 D  73023  73022     42\n",
      "  82108 31624        0.2853     7        0.2901        0.2804   314730    3.35%          rho_15 D  82108  82106     49\n",
      "  90494 33467        0.2853     9        0.2901        0.2804   349144    3.35%          rho_18 D  90494  90492     74\n",
      "  98468 35382        cutoff              0.2901        0.2804   382126    3.35%          rho_18 D  98468  98466     79\n",
      " 106048 37396        cutoff              0.2901        0.2804   414242    3.35%          rho_15 U 106048 106047     94\n",
      " 113634 39460        0.2840     7        0.2901        0.2804   446505    3.35%           rho_0 U 113634 113633     84\n",
      "Elapsed time = 14.19 sec. (12638.83 ticks, tree = 11.11 MB, solutions = 3)\n",
      " 121754 42195        0.2804     7        0.2901        0.2804   481796    3.35%          rho_11 U 121754 121752     84\n",
      " 129885 44733        0.2851     4        0.2901        0.2804   517428    3.35%           rho_9 D 129885 129884     55\n",
      " 137951 47070        0.2851     4        0.2901        0.2804   548499    3.35%           rho_9 D 137951 137950     61\n",
      " 146256 50176        0.2828     7        0.2901        0.2804   585543    3.35%           rho_0 U 146256 146255     79\n",
      " 154835 53020        cutoff              0.2901        0.2804   618724    3.35%          rho_22 D 154835 154834     40\n",
      " 162374 57207        0.2887     5        0.2901        0.2804   656367    3.35%          rho_17 D 162374 162372     94\n",
      " 168331 61029        0.2836     8        0.2901        0.2804   695245    3.35%           rho_0 D 168331 168329     78\n",
      " 174977 64560        0.2809    10        0.2901        0.2804   725435    3.35%           rho_0 D 174977 174975     51\n",
      " 182483 68924        0.2806    10        0.2901        0.2804   752449    3.35%           rho_0 U 182483 182482     59\n",
      " 189693 73011        0.2829     9        0.2901        0.2804   784566    3.35%           rho_0 D 189693 189692     39\n",
      "Elapsed time = 24.16 sec. (22176.28 ticks, tree = 21.07 MB, solutions = 3)\n",
      " 197713 78415        0.2818     8        0.2901        0.2804   807949    3.35%          rho_21 D 197713 197712     63\n",
      " 205946 83595        0.2849     9        0.2901        0.2804   831147    3.35%           rho_6 U 205946 205944     72\n",
      " 213670 87711        0.2900     5        0.2901        0.2804   862866    3.35%          rho_14 N 213670 213669     38\n",
      " 222121 91948        0.2804     8        0.2901        0.2804   899067    3.35%           rho_8 U 222121 222004     31\n",
      " 231525 96429        0.2804     8        0.2901        0.2804   934638    3.35%          rho_12 U 231525 231438     60\n",
      " 240740 100590        0.2804    11        0.2901        0.2804   974545    3.35%          rho_11 U 240740 240739     51\n",
      " 249886 104887        0.2804     9        0.2901        0.2804  1000944    3.35%          rho_15 D 249886 229975     36\n",
      " 259258 107184        0.2871     7        0.2901        0.2804  1026587    3.35%          rho_14 D 259258 259255    109\n",
      " 268674 111018        0.2846     6        0.2901        0.2804  1059330    3.35%          rho_21 D 268674 268673     74\n",
      " 276740 114677        0.2860     8        0.2901        0.2804  1095909    3.35%           rho_5 D 276740 276738     76\n",
      "Elapsed time = 32.81 sec. (31714.28 ticks, tree = 29.97 MB, solutions = 3)\n",
      " 285070 117855        cutoff              0.2901        0.2804  1131643    3.35%          rho_14 U 285070 285069     44\n",
      " 293213 121465        0.2883     4        0.2901        0.2804  1170539    3.35%          rho_22 D 293213 293212     31\n",
      " 301115 124310        0.2836    11        0.2901        0.2804  1208221    3.35%          rho_11 D 301115 301114     15\n",
      " 309940 129399        0.2828     6        0.2901        0.2804  1236002    3.35%          rho_15 D 309940 309939     75\n",
      " 318364 134354        0.2895     6        0.2901        0.2804  1256331    3.35%          rho_22 N 318364 318363     40\n",
      " 326666 139616        0.2813     9        0.2901        0.2804  1276176    3.35%          rho_12 U 326666 326664     36\n",
      " 334450 143770        0.2804    12        0.2901        0.2804  1298988    3.35%           rho_8 D 334450 334449     16\n",
      " 342489 147979        0.2824     4        0.2901        0.2804  1329140    3.35%           rho_9 D 342489 342487     32\n",
      " 350796 153402        0.2833     9        0.2901        0.2804  1349789    3.35%           rho_6 U 350796 350794     54\n",
      " 358742 158068        0.2873     6        0.2901        0.2804  1373686    3.35%          rho_21 D 358742 358741     36\n",
      "Elapsed time = 45.58 sec. (41251.74 ticks, tree = 44.07 MB, solutions = 3)\n",
      " 366277 161941        0.2827     8        0.2901        0.2804  1402468    3.35%          rho_15 D 366277 366276     44\n",
      " 374289 166412        0.2805     9        0.2901        0.2804  1424600    3.34%          rho_11 D 374289 374288     65\n",
      " 384184 171178        0.2892     4        0.2901        0.2804  1452259    3.34%          rho_13 N 384184 384182     39\n",
      " 392732 175277        0.2827     9        0.2901        0.2804  1474262    3.33%           rho_6 U 392732 392730     72\n",
      " 402710 179862        0.2814     8        0.2901        0.2804  1500739    3.33%           rho_0 D 402710 402708     59\n",
      " 412648 184386        0.2814     8        0.2901        0.2804  1526795    3.33%           rho_0 D 412648 412646     45\n",
      " 422399 187120        0.2876     8        0.2901        0.2805  1556544    3.32%           rho_6 U 422399 422397     88\n",
      " 433013 192097        cutoff              0.2901        0.2805  1583229    3.32%           rho_0 U 433013 433012     82\n",
      " 443217 196580        0.2819    12        0.2901        0.2805  1609851    3.32%           rho_6 D 443217 443215     46\n",
      " 453155 201311        0.2882     9        0.2901        0.2805  1638497    3.31%           rho_5 D 453155 453153     41\n",
      "Elapsed time = 59.94 sec. (50789.04 ticks, tree = 55.48 MB, solutions = 3)\n",
      " 462229 204896        0.2807     9        0.2901        0.2805  1663816    3.31%           rho_6 U 462229 462227     51\n",
      " 471268 208511        0.2845     8        0.2901        0.2805  1688042    3.31%           rho_0 D 471268 471266     82\n",
      " 480397 212385        0.2848     9        0.2901        0.2805  1711922    3.30%           rho_0 U 480397 480396     43\n",
      " 489562 216451        0.2878     9        0.2901        0.2806  1736958    3.28%           rho_0 D 489562 489560     73\n",
      " 499832 220888        0.2821     9        0.2901        0.2806  1759422    3.28%           rho_6 D 499832 499831     75\n",
      " 508932 224200        0.2844     8        0.2901        0.2806  1782453    3.28%           rho_6 U 508932 508931     93\n",
      " 517867 227511        0.2844     8        0.2901        0.2806  1805089    3.28%           rho_6 U 517867 517864     57\n",
      " 526783 230938        0.2835     8        0.2901        0.2806  1828126    3.28%           rho_0 D 526783 526781     83\n",
      " 535833 234458        0.2866     8        0.2901        0.2806  1851846    3.28%           rho_6 U 535833 535831     98\n",
      " 544856 238002        cutoff              0.2901        0.2806  1875594    3.28%           rho_8 U 544856   2665     19\n",
      "Elapsed time = 75.20 sec. (60326.48 ticks, tree = 65.90 MB, solutions = 3)\n",
      " 553987 241453        0.2841     9        0.2901        0.2806  1901809    3.26%           rho_9 U 553987 553986     30\n",
      " 563351 244037        0.2826    10        0.2901        0.2806  1929313    3.26%           rho_0 D 563351 563349     84\n",
      " 573126 248279        0.2849     8        0.2901        0.2807  1957411    3.25%           rho_9 U 573126 573125     48\n",
      " 581744 252730        cutoff              0.2901        0.2807  1979656    3.25%           rho_0 U 581744 581743     73\n",
      " 590488 254012        cutoff              0.2901        0.2807  2005663    3.24%           rho_9 U 590488 590487     59\n",
      " 600589 259152        0.2814    14        0.2901        0.2807  2029288    3.23%           rho_6 D 600589 600588     27\n",
      " 610831 263701        0.2818     9        0.2901        0.2808  2053428    3.21%          rho_12 N 610831 607006     58\n",
      " 618734 266141        0.2857    10        0.2901        0.2808  2085982    3.21%          rho_14 N 618734 618733     58\n",
      " 627884 270252        cutoff              0.2901        0.2808  2111301    3.19%          rho_22 U 627884 627882     25\n",
      " 636741 273080        0.2896     6        0.2901        0.2809  2154814    3.19%          rho_15 N 636741 241030     56\n",
      "Elapsed time = 90.58 sec. (69863.81 ticks, tree = 76.37 MB, solutions = 3)\n",
      " 644565 273681        0.2822     9        0.2901        0.2809  2181966    3.18%           rho_0 D 644565 644563     27\n",
      " 653217 274929        0.2898     6        0.2901        0.2809  2208383    3.17%           rho_5 D 653217 653216     29\n",
      " 662456 279265        0.2873     9        0.2901        0.2809  2230989    3.16%          rho_11 U 662456 662454     63\n",
      " 672479 283827        0.2811    12        0.2901        0.2809  2256544    3.16%          rho_12 D 672479 672478     32\n",
      " 682804 288698        cutoff              0.2901        0.2809  2281757    3.16%          rho_15 U 682804 682803     60\n",
      " 692372 293012        0.2810    11        0.2901        0.2810  2307405    3.16%           rho_7 D 692372 670274     55\n",
      " 701975 295178        0.2855     6        0.2901        0.2810  2334529    3.15%          rho_22 D 701975 701974     66\n",
      " 711196 298756        0.2853     5        0.2901        0.2810  2361213    3.14%           rho_0 D 711196 711195     59\n",
      " 720506 303719        0.2821     6        0.2901        0.2810  2386499    3.14%          rho_15 D 720506 720505     72\n",
      " 731554 308936        0.2875     6        0.2901        0.2810  2418777    3.14%           rho_9 D 731554 731553     80\n",
      "Elapsed time = 108.34 sec. (79401.00 ticks, tree = 84.12 MB, solutions = 3)\n",
      " 742534 313812        0.2814     8        0.2901        0.2810  2450397    3.14%           rho_6 U 742534 742532     61\n",
      " 753116 318313        0.2810     7        0.2901        0.2810  2478842    3.14%          rho_11 U 753116 753097     72\n",
      " 763414 321674        cutoff              0.2901        0.2810  2509750    3.14%          rho_18 D 763414 763413    107\n",
      " 773740 325143        0.2810     7        0.2901        0.2810  2540508    3.14%           rho_0 D 773740 773737     96\n",
      " 784254 328595        0.2812     8        0.2901        0.2810  2571634    3.14%          rho_11 D 784254 784253     80\n",
      " 795114 332117        0.2810     8        0.2901        0.2810  2602811    3.14%          rho_11 U 795114 795113     74\n",
      " 806486 336054        0.2810     7        0.2901        0.2810  2633526    3.14%           rho_0 D 806486 806469     81\n",
      " 817693 339992        0.2810     7        0.2901        0.2810  2664335    3.14%           rho_0 D 817693 817648    103\n",
      " 828924 343949        0.2810     7        0.2901        0.2810  2695048    3.14%           rho_0 D 828924 828913     61\n",
      " 873422 359829        0.2812     8        0.2901        0.2810  2815569    3.14%          rho_11 D 873422 873421     74\n",
      "Elapsed time = 134.20 sec. (91799.21 ticks, tree = 98.71 MB, solutions = 3)\n",
      " 917257 374791        0.2891     4        0.2901        0.2810  2935311    3.14%           rho_9 D 917257 917255     62\n",
      " 960975 392441        0.2810     7        0.2901        0.2810  3054112    3.14%          rho_11 U 960975 960969     86\n",
      " 1002255 404772        cutoff              0.2901        0.2810  3162313    3.14%           rho_5 U 1002255 1002254     62\n",
      " 1040492 416546        0.2864     7        0.2901        0.2810  3267366    3.12%           rho_5 D 1040492 1040490     54\n",
      " 1075820 426074        0.2814     9        0.2901        0.2811  3383045    3.12%           rho_6 D 1075820 1075819     37\n",
      " 1110180 443054        cutoff              0.2901        0.2811  3489955    3.12%           rho_5 U 1110180 1110179     68\n",
      " 1147585 460734        0.2831     7        0.2901        0.2811  3597539    3.11%           rho_0 D 1147585 1147583     75\n",
      " 1184190 475003        0.2867     5        0.2901        0.2811  3708951    3.09%          rho_22 D 1184190 1184189     64\n",
      " 1224306 487231        0.2811     9        0.2901        0.2811  3822153    3.09%          rho_11 U 1224306 1224291     76\n",
      "\n",
      "Implied bound cuts applied:  1\n",
      "User cuts applied:  146\n",
      "\n",
      "Root node processing (before b&c):\n",
      "  Real time             =    0.08 sec. (1.14 ticks)\n",
      "Sequential b&c:\n",
      "  Real time             =  199.94 sec. (129312.56 ticks)\n",
      "                          ------------\n",
      "Total (root+branch&cut) =  200.02 sec. (129313.70 ticks)\n",
      "+----------------------------------------------+------------------+-----------+\n",
      "| Pr(Y = +1) = 1.0/(1.0 + exp(-(-4 + score))   |                  |           |\n",
      "| ============================================ | ================ | ========= |\n",
      "| age_at_current_charge<=25.0                  |         1 points |   + ..... |\n",
      "| p_arrest>=6                                  |         1 points |   + ..... |\n",
      "| p_drug>=2                                    |         1 points |   + ..... |\n",
      "| ============================================ | ================ | ========= |\n",
      "| ADD POINTS FROM ROWS 1 to 3                  |            SCORE |   = ..... |\n",
      "+----------------------------------------------+------------------+-----------+\n"
     ]
    }
   ],
   "source": [
    "riskslim_summary = slim.risk_cv(sub_KY_X, KY_Y, sub_FL_X, FL_Y, \n",
    "                                y_label = 'general2', \n",
    "                                max_coef = 20, \n",
    "                                max_coef_number = 10, \n",
    "                                max_runtime=200, \n",
    "                                c=1e-3, \n",
    "                                seed=816)"
   ]
  },
  {
   "cell_type": "code",
   "execution_count": 12,
   "metadata": {},
   "outputs": [
    {
     "data": {
      "text/plain": [
       "[0.555948844557844]"
      ]
     },
     "execution_count": 12,
     "metadata": {},
     "output_type": "execute_result"
    }
   ],
   "source": [
    "riskslim_summary['KY_auc']"
   ]
  },
  {
   "cell_type": "markdown",
   "metadata": {},
   "source": [
    "### Corel"
   ]
  },
  {
   "cell_type": "code",
   "execution_count": 2,
   "metadata": {},
   "outputs": [],
   "source": [
    "KY_stumps = pd.read_csv(\"~/Documents/Duke/Cynthia Research/psa-analysis - test/kentucky/models/ky_fl_combined/data preparation/KY_stumps\")\n",
    "FL_stumps = pd.read_csv(\"~/Documents/Duke/Cynthia Research/psa-analysis - test/kentucky/models/ky_fl_combined/data preparation/FL_stumps\")\n",
    "\n",
    "## split x and y \n",
    "KY_X = KY_stumps.loc[:,:'current_violence>=1']\n",
    "KY_Y = KY_stumps['recid_drug_two_year'].values\n",
    "FL_X = FL_stumps.loc[:,:'current_violence>=1']\n",
    "FL_Y = FL_stumps['recid_drug_two_year'].values"
   ]
  },
  {
   "cell_type": "code",
   "execution_count": 3,
   "metadata": {},
   "outputs": [],
   "source": [
    "KY_score, FL_score = Corel.corel_cv(KY_X, KY_Y, FL_X, FL_Y, max_card=2, c=1e-3, seed=816)"
   ]
  },
  {
   "cell_type": "code",
   "execution_count": 16,
   "metadata": {},
   "outputs": [
    {
     "name": "stdout",
     "output_type": "stream",
     "text": [
      "Stored 'summary_general2_fl_inter_model' (dict)\n"
     ]
    }
   ],
   "source": [
    "#### save results\n",
    "summary_drug2_fl_inter_model = {\"CART\": cart_summary,\n",
    "                                    \"EBM\": ebm_summary,\n",
    "                                    \"Stumps\": stumps_summary,\n",
    "                                    \"RiskSLIM\": riskslim_summary, \n",
    "                                   \"Corel\": KY_score}\n",
    "%store summary_drug2_fl_inter_model"
   ]
  },
  {
   "cell_type": "code",
   "execution_count": 17,
   "metadata": {},
   "outputs": [],
   "source": [
    "path = \"C:\\\\Users\\\\binha\\\\Documents\\\\Duke\\\\Cynthia Research\\\\KY-analysis-mytrials\\\\KY Recidivism\\\\KY Results\\\\KY_FL\\\\FL Model\\\\interpretable\\\\Two Year\\\\\"\n",
    "results = [[\"Drug\",             \n",
    "            round(cart_summary['KY_score'],3), \n",
    "            round(ebm_summary['KY_score'], 3), \n",
    "            round(stumps_summary['KY_score'],3), \n",
    "            round(riskslim_summary['KY_auc'][0], 3), \n",
    "            round(KY_score, 3)]]\n",
    "with open(path + 'Two Year FL_inter_model.csv', 'a') as writeFile:\n",
    "    writer = csv.writer(writeFile)\n",
    "    writer.writerows(results)"
   ]
  }
 ],
 "metadata": {
  "kernelspec": {
   "display_name": "Python 3",
   "language": "python",
   "name": "python3"
  },
  "language_info": {
   "codemirror_mode": {
    "name": "ipython",
    "version": 3
   },
   "file_extension": ".py",
   "mimetype": "text/x-python",
   "name": "python",
   "nbconvert_exporter": "python",
   "pygments_lexer": "ipython3",
   "version": "3.7.4"
  }
 },
 "nbformat": 4,
 "nbformat_minor": 4
}
