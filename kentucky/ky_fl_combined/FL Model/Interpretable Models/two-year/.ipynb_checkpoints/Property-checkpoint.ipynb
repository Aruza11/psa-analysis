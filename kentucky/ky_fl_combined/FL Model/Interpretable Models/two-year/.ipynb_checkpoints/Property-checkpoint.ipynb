{
 "cells": [
  {
   "cell_type": "code",
   "execution_count": 1,
   "metadata": {},
   "outputs": [
    {
     "name": "stdout",
     "output_type": "stream",
     "text": [
      "Current working directory is now:  C:\\Users\\binha\\Documents\\Duke\\Cynthia Research\\psa-analysis - test2\\kentucky\\ky_fl_combined\\FL Model\n"
     ]
    },
    {
     "name": "stderr",
     "output_type": "stream",
     "text": [
      "C:\\Users\\binha\\Anaconda3\\lib\\site-packages\\sklearn\\externals\\six.py:31: DeprecationWarning:\n",
      "\n",
      "The module is deprecated in version 0.21 and will be removed in version 0.23 since we've dropped support for Python 2.7. Please rely on the official version of six (https://pypi.org/project/six/).\n",
      "\n"
     ]
    }
   ],
   "source": [
    "import os \n",
    "os.chdir('../../')\n",
    "print(\"Current working directory is now: \", os.getcwd())\n",
    "\n",
    "import pandas as pd \n",
    "import numpy as np\n",
    "import csv\n",
    "\n",
    "import FL_utils.FL_interpretable_functions as interpret\n",
    "import FL_utils.FL_RiskSLIM as slim\n",
    "import FL_utils.FL_stumps as stumps\n",
    "import FL_utils.FL_Corel as Corel\n",
    "\n",
    "# restore saved variables\n",
    "%store -r summary_property2_fl_inter_model"
   ]
  },
  {
   "cell_type": "markdown",
   "metadata": {},
   "source": [
    "### EBM & CART"
   ]
  },
  {
   "cell_type": "code",
   "execution_count": 2,
   "metadata": {},
   "outputs": [],
   "source": [
    "KY_data = pd.read_csv(\"~/Documents/Duke/Cynthia Research/psa-analysis - test/kentucky/models/ky_fl_combined/data preparation/KY_cleaned\")\n",
    "FL_data = pd.read_csv(\"~/Documents/Duke/Cynthia Research/psa-analysis - test/kentucky/models/ky_fl_combined/data preparation/FL_cleaned\")\n",
    "\n",
    "## split x and y \n",
    "KY_X = KY_data.loc[:,:'current_violence']\n",
    "KY_Y = KY_data['recid_property_two_year'].values\n",
    "FL_X = FL_data.loc[:,:'current_violence']\n",
    "FL_Y = FL_data['recid_property_two_year'].values"
   ]
  },
  {
   "cell_type": "code",
   "execution_count": 3,
   "metadata": {},
   "outputs": [],
   "source": [
    "#### CART\n",
    "depth = [1,2,3]\n",
    "impurity = [0.001, 0.003]\n",
    "split = [2,3,4]\n",
    "cart_summary = advance.CART(KY_X, KY_Y, FL_X, FL_Y, depth, split, impurity, seed=816)\n",
    "\n",
    "### EBM\n",
    "estimators = [60, 80, 100]\n",
    "depth = [1]\n",
    "learning_rate = [0.05]\n",
    "holdout_split = [0.7, 0.9]\n",
    "ebm_summary = advance.EBM(KY_X, KY_Y, FL_X, FL_Y, learning_rate, depth, estimators, holdout_split, seed=816)"
   ]
  },
  {
   "cell_type": "code",
   "execution_count": 5,
   "metadata": {},
   "outputs": [
    {
     "data": {
      "text/plain": [
       "{'best_auc': 0.6999708369305008,\n",
       " 'auc_diff': 0.033286240822143376,\n",
       " 'best_param': {'max_depth': 3,\n",
       "  'min_impurity_decrease': 0.001,\n",
       "  'min_samples_split': 2},\n",
       " 'KY_score': 0.5226884321300713}"
      ]
     },
     "execution_count": 5,
     "metadata": {},
     "output_type": "execute_result"
    }
   ],
   "source": [
    "cart_summary"
   ]
  },
  {
   "cell_type": "code",
   "execution_count": 6,
   "metadata": {},
   "outputs": [
    {
     "data": {
      "text/plain": [
       "{'best_auc': 0.7356115487523278,\n",
       " 'auc_diff': 0.053433603372518235,\n",
       " 'best_param': {'holdout_split': 0.7,\n",
       "  'learning_rate': 0.05,\n",
       "  'max_tree_splits': 1,\n",
       "  'n_estimators': 100},\n",
       " 'KY_score': 0.6204796278640818}"
      ]
     },
     "execution_count": 6,
     "metadata": {},
     "output_type": "execute_result"
    }
   ],
   "source": [
    " ebm_summary"
   ]
  },
  {
   "cell_type": "markdown",
   "metadata": {},
   "source": [
    "### Lasso Stumps"
   ]
  },
  {
   "cell_type": "code",
   "execution_count": 7,
   "metadata": {},
   "outputs": [],
   "source": [
    "KY_stumps = pd.read_csv(\"~/Documents/Duke/Cynthia Research/psa-analysis - test/kentucky/models/ky_fl_combined/data preparation/KY_stumps\")\n",
    "FL_stumps = pd.read_csv(\"~/Documents/Duke/Cynthia Research/psa-analysis - test/kentucky/models/ky_fl_combined/data preparation/FL_stumps\")\n",
    "\n",
    "## split x and y \n",
    "KY_X = KY_stumps.loc[:,:'current_violence>=1']\n",
    "KY_Y = KY_stumps['recid_property_two_year'].values\n",
    "FL_X = FL_stumps.loc[:,:'current_violence>=1']\n",
    "FL_Y = FL_stumps['recid_property_two_year'].values\n",
    "\n",
    "## columns \n",
    "cols = KY_X.columns"
   ]
  },
  {
   "cell_type": "code",
   "execution_count": 22,
   "metadata": {},
   "outputs": [],
   "source": [
    "c_grid = {'C':[0.03, 0.05, 0.07, 0.09]}\n",
    "stumps_summary = stumps.stump_cv(KY_X, KY_Y, FL_X, FL_Y, cols, c_grid, seed=816)"
   ]
  },
  {
   "cell_type": "code",
   "execution_count": 23,
   "metadata": {},
   "outputs": [
    {
     "data": {
      "text/plain": [
       "{'best_auc': 0.7106485290634161,\n",
       " 'best_params': {'C': 0.09},\n",
       " 'auc_diffs': 0.05678128120547987,\n",
       " 'KY_score': 0.5781027839197072}"
      ]
     },
     "execution_count": 23,
     "metadata": {},
     "output_type": "execute_result"
    }
   ],
   "source": [
    "stumps_summary"
   ]
  },
  {
   "cell_type": "markdown",
   "metadata": {},
   "source": [
    "### RiskSLIM"
   ]
  },
  {
   "cell_type": "code",
   "execution_count": 24,
   "metadata": {},
   "outputs": [
    {
     "data": {
      "text/plain": [
       "35"
      ]
     },
     "execution_count": 24,
     "metadata": {},
     "output_type": "execute_result"
    }
   ],
   "source": [
    "## train on best param chosen by Lasso Stumps from above\n",
    "lasso = LogisticRegression(class_weight='balanced', solver='liblinear', penalty='l1', C=0.09, random_state=816).fit(FL_X, FL_Y)\n",
    "selected_features = cols[lasso.coef_[0] != 0].tolist()\n",
    "len(selected_features)"
   ]
  },
  {
   "cell_type": "code",
   "execution_count": 25,
   "metadata": {},
   "outputs": [],
   "source": [
    "### Subset features\n",
    "sub_FL_X = FL_stumps.loc[:, selected_features]\n",
    "sub_KY_X = KY_stumps.loc[:, selected_features]\n",
    "sub_FL_X.insert(0, '(Intercept)', 1)"
   ]
  },
  {
   "cell_type": "code",
   "execution_count": 26,
   "metadata": {
    "scrolled": true
   },
   "outputs": [
    {
     "name": "stdout",
     "output_type": "stream",
     "text": [
      "setting c0 = 0.0 to ensure that intercept is not penalized\n",
      "09/17/19 @ 01:41 PM | 1501 rows in lookup table\n",
      "09/17/19 @ 01:41 PM | ------------------------------------------------------------\n",
      "09/17/19 @ 01:41 PM | runnning initialization procedure\n",
      "09/17/19 @ 01:41 PM | ------------------------------------------------------------\n",
      "09/17/19 @ 01:41 PM | CPA produced 2 cuts\n",
      "09/17/19 @ 01:41 PM | running naive rounding on 73 solutions\n",
      "09/17/19 @ 01:41 PM | best objective value: 0.2762\n",
      "09/17/19 @ 01:41 PM | rounding produced 5 integer solutions\n",
      "09/17/19 @ 01:41 PM | best objective value is 0.2940\n",
      "09/17/19 @ 01:41 PM | running sequential rounding on 73 solutions\n",
      "09/17/19 @ 01:41 PM | best objective value: 0.2762\n",
      "09/17/19 @ 01:41 PM | sequential rounding produced 6 integer solutions\n",
      "09/17/19 @ 01:41 PM | best objective value: 0.2856\n",
      "09/17/19 @ 01:41 PM | polishing 11 solutions\n",
      "09/17/19 @ 01:41 PM | best objective value: 0.2856\n",
      "09/17/19 @ 01:41 PM | polishing produced 5 integer solutions\n",
      "09/17/19 @ 01:41 PM | initialization produced 14 feasible solutions\n",
      "09/17/19 @ 01:41 PM | best objective value: 0.2845\n",
      "09/17/19 @ 01:41 PM | ------------------------------------------------------------\n",
      "09/17/19 @ 01:41 PM | completed initialization procedure\n",
      "09/17/19 @ 01:41 PM | ------------------------------------------------------------\n",
      "09/17/19 @ 01:41 PM | 1501 rows in lookup table\n",
      "CPXPARAM_Read_DataCheck                          1\n",
      "CPXPARAM_Threads                                 1\n",
      "CPXPARAM_Parallel                                1\n",
      "CPXPARAM_RandomSeed                              0\n",
      "CPXPARAM_TimeLimit                               200\n",
      "CPXPARAM_MIP_Tolerances_LowerCutoff              0.27159518518064973\n",
      "CPXPARAM_MIP_Tolerances_UpperCutoff              0.28447027562009775\n"
     ]
    },
    {
     "name": "stderr",
     "output_type": "stream",
     "text": [
      "Warning: Control callbacks may disable some MIP features.\n"
     ]
    },
    {
     "name": "stdout",
     "output_type": "stream",
     "text": [
      "Lazy constraint(s) or lazy constraint callback is present.\n",
      "    Disabling dual reductions (CPX_PARAM_REDUCE) in presolve.\n",
      "    Disabling non-linear reductions (CPX_PARAM_PRELINEAR) in presolve.\n",
      "         Disabling repeat represolve because of lazy constraint/incumbent callback.\n",
      "09/17/19 @ 01:41 PM | adding 252 initial cuts\n",
      "1 of 1 MIP starts provided solutions.\n",
      "MIP start 'mip_start_0' defined initial solution with objective 0.2845.\n",
      "Tried aggregator 1 time.\n",
      "Reduced MIP has 37 rows, 74 columns, and 143 nonzeros.\n",
      "Reduced MIP has 35 binaries, 37 generals, 0 SOSs, and 0 indicators.\n",
      "Presolve time = 0.01 sec. (0.08 ticks)\n",
      "Probing time = 0.00 sec. (0.03 ticks)\n",
      "MIP emphasis: balance optimality and feasibility.\n",
      "MIP search method: traditional branch-and-cut.\n",
      "Parallel mode: none, using 1 thread.\n",
      "Root relaxation solution time = 0.00 sec. (0.05 ticks)\n",
      "\n",
      "        Nodes                                         Cuts/\n",
      "   Node  Left     Objective  IInf  Best Integer    Best Bound    ItCnt     Gap         Variable B NodeID Parent  Depth\n",
      "\n",
      "*     0+    0                            0.2845        0.2616             8.04%\n",
      "      0     0        0.2716     1        0.2845        0.2716        1    4.53%\n",
      "      0     0        0.2716     5        0.2845      Fract: 1        2    4.53%\n",
      "      0     0        0.2716     5        0.2845    MIRcuts: 1        5    4.53%\n",
      "      0     0        0.2716     1        0.2845    MIRcuts: 1        7    4.53%\n",
      "      0     0        0.2716     2        0.2845    MIRcuts: 1        8    4.53%\n",
      "      0     2        0.2716     4        0.2845        0.2716        8    4.53%                        0             0\n",
      "Elapsed time = 0.13 sec. (3.12 ticks, tree = 0.01 MB, solutions = 1)\n",
      "   1980   903        0.2798     4        0.2845        0.2716     8472    4.53%          rho_16 D   1980   1979     27\n",
      "   3175  1298        0.2838     5        0.2845        0.2716    15004    4.53%          rho_30 D   3175   3173     21\n",
      "   4180  1650        0.2804     7        0.2845        0.2716    20123    4.53%          rho_19 D   4180   4178     23\n",
      "   5105  2036        0.2760     5        0.2845        0.2716    24684    4.53%          rho_16 D   5105   5103     27\n",
      "   6010  2361        0.2793     7        0.2845        0.2716    28646    4.53%          rho_24 U   6010   6009     16\n",
      "   6730  2620        0.2796     3        0.2845        0.2716    33067    4.53%          rho_19 D   6730   6728     31\n",
      "   7408  2923        0.2747     9        0.2845        0.2716    37027    4.53%           rho_3 D   7408   7407     12\n",
      "*  7818  3064      integral     0        0.2843        0.2716    39338    4.46%\n",
      "   8110  3230        0.2763     7        0.2843        0.2716    40557    4.46%          rho_23 D   8110   8109     23\n",
      "   8823  3478        cutoff              0.2843        0.2716    44265    4.46%          rho_19 U   8823   8822     19\n",
      "  11828  4677        0.2807     7        0.2843        0.2716    58039    4.46%           rho_4 U  11828  11827     21\n",
      "Elapsed time = 2.72 sec. (3105.97 ticks, tree = 1.51 MB, solutions = 2)\n",
      "  14530  5750        0.2817     4        0.2843        0.2716    70729    4.46%          rho_18 U  14530  14529     24\n",
      "  17040  6846        0.2763    13        0.2843        0.2716    82787    4.46%          rho_17 D  17040  17039     17\n",
      "  19234  7809        0.2731    17        0.2843        0.2716    94604    4.46%          rho_29 D  19234  19233     12\n",
      "  21731  8899        0.2817     7        0.2843        0.2718   105793    4.38%          rho_23 D  21731  21729     22\n",
      "* 22643  8643      integral     0        0.2833        0.2720   108992    4.00%\n",
      "  24222  9188        0.2819     5        0.2833        0.2721   115208    3.94%           rho_6 D  24222  24221     24\n",
      "  26653 10122        cutoff              0.2833        0.2724   124674    3.84%          rho_21 U  26653  26652     25\n",
      "  29066 10962        cutoff              0.2833        0.2726   133576    3.76%          rho_23 U  29066  29065     23\n",
      "  31384 11688        0.2746    11        0.2833        0.2728   141790    3.70%          rho_29 U  31384  16297     20\n",
      "  33553 12608        cutoff              0.2833        0.2730   149327    3.64%          rho_29 D  33553  33551     19\n",
      "  35590 13173        0.2809     5        0.2833        0.2732   157902    3.57%          rho_15 D  35590  35589     24\n",
      "Elapsed time = 8.28 sec. (12646.65 ticks, tree = 4.28 MB, solutions = 3)\n",
      "  37690 13765        0.2791     5        0.2833        0.2734   165674    3.51%          rho_21 D  37690  37689     20\n",
      "  39755 14504        0.2832     7        0.2833        0.2735   173559    3.45%          rho_20 N  39755  39754     22\n",
      "  41888 15230        0.2753    11        0.2833        0.2736   181078    3.41%           rho_4 D  41888   7099     21\n",
      "  43940 15922        0.2782     9        0.2833        0.2738   188709    3.36%           rho_4 D  43940  43939     24\n",
      "  45997 16630        0.2751     5        0.2833        0.2739   196272    3.32%          rho_11 D  45997  45996     30\n",
      "  48218 17341        0.2778    10        0.2833        0.2740   203313    3.27%          rho_30 D  48218  48217     20\n",
      "  50369 18159        0.2813     7        0.2833        0.2741   210465    3.23%           rho_0 U  50369  50368     20\n",
      "  52474 18936        0.2830     3        0.2833        0.2743   217924    3.18%          rho_30 N  52474  52473     21\n",
      "  54508 19533        0.2766     9        0.2833        0.2744   225234    3.14%          rho_22 D  54508   3003     12\n",
      "  56635 20261        0.2825     4        0.2833        0.2745   232351    3.11%           rho_0 U  56635  56633     60\n",
      "Elapsed time = 14.00 sec. (22187.00 ticks, tree = 7.08 MB, solutions = 3)\n",
      "  58738 20982        0.2823     4        0.2833        0.2746   239483    3.08%           rho_0 D  58738  58737     65\n",
      "  60930 21835        0.2801     8        0.2833        0.2747   246498    3.04%          rho_31 D  60930    551     13\n",
      "  63095 22539        0.2750    15        0.2833        0.2748   253118    3.00%           rho_3 D  63095  26021     21\n",
      "  65159 23345        0.2787     5        0.2833        0.2749   259564    2.97%          rho_16 D  65159  65157     28\n",
      "  67180 24013        0.2830     5        0.2833        0.2749   266338    2.95%          rho_23 N  67180  67178     22\n",
      "  69176 24550        cutoff              0.2833        0.2750   273335    2.91%          rho_30 U  69176  69174     15\n",
      "  71178 25201        0.2803    15        0.2833        0.2751   279941    2.89%           rho_0 D  71178   6589     12\n",
      "  73168 25801        cutoff              0.2833        0.2752   286938    2.85%          rho_20 U  73168  73167     24\n",
      "  75186 26514        cutoff              0.2833        0.2753   293420    2.82%          rho_10 D  75186  75184     26\n",
      "  77117 27088        cutoff              0.2833        0.2754   300373    2.79%          rho_11 U  77117  77116     30\n",
      "Elapsed time = 19.92 sec. (31728.32 ticks, tree = 9.15 MB, solutions = 3)\n",
      "  79167 27831        cutoff              0.2833        0.2754   306451    2.77%           rho_0 U  79167  79166     32\n",
      "  81303 28613        0.2790     5        0.2833        0.2755   312868    2.75%          rho_16 D  81303  81301     30\n",
      "  83474 29420        0.2787     6        0.2833        0.2756   318857    2.73%           rho_3 D  83474  83472     21\n",
      "  85680 30426        0.2784     5        0.2833        0.2756   324048    2.72%          rho_12 D  85680  85679     63\n",
      "  87753 31419        0.2766     4        0.2833        0.2756   328977    2.71%           rho_0 D  87753  87751     70\n",
      "  89890 32481        0.2798     4        0.2833        0.2756   333380    2.70%          rho_15 U  89890  89888     35\n",
      "  92041 33320        0.2785    13        0.2833        0.2757   339138    2.69%           rho_4 D  92041  52251     13\n",
      "  94016 34052        cutoff              0.2833        0.2758   345354    2.66%           rho_8 N  94016  94014     39\n",
      "  96270 35178        0.2810     5        0.2833        0.2758   350714    2.65%          rho_30 D  96270  96269     24\n",
      "  98400 35989        0.2827     6        0.2833        0.2758   356332    2.63%          rho_16 U  98400  98398    108\n",
      "Elapsed time = 25.20 sec. (41274.54 ticks, tree = 13.26 MB, solutions = 3)\n",
      " 100505 36721        0.2781     8        0.2833        0.2759   362216    2.62%          rho_21 D 100505 100503     25\n",
      " 102545 37464        0.2785     9        0.2833        0.2759   368446    2.59%          rho_20 D 102545 102543     18\n",
      " 104650 38256        0.2820     9        0.2833        0.2760   374458    2.57%          rho_34 D 104650 104647     17\n",
      " 106650 38978        0.2807     6        0.2833        0.2760   380321    2.56%          rho_10 D 106650 106649     69\n",
      " 108690 39731        0.2792     7        0.2833        0.2761   386298    2.54%           rho_8 D 108690 108687     78\n",
      " 110876 40841        0.2787     7        0.2833        0.2761   391993    2.53%          rho_34 U 110876  51944     26\n",
      " 112970 42031        0.2771     6        0.2833        0.2761   397226    2.53%           rho_0 D 112970 112968     50\n",
      " 114939 42970        0.2771     7        0.2833        0.2761   402508    2.53%           rho_0 D 114939 114937     47\n",
      " 116870 43912        0.2815     5        0.2833        0.2761   408227    2.52%          rho_18 D 116870 116869     28\n",
      " 118800 44589        0.2783     8        0.2833        0.2762   413611    2.51%          rho_10 U 118800 118798     24\n",
      "Elapsed time = 31.08 sec. (50817.89 ticks, tree = 15.89 MB, solutions = 3)\n",
      " 120720 45559        0.2772     5        0.2833        0.2762   419087    2.50%          rho_15 U 120720 120718     48\n",
      " 122779 46502        0.2774    12        0.2833        0.2762   424500    2.49%          rho_23 D 122779  46909     18\n",
      " 124722 47339        0.2772     6        0.2833        0.2763   429965    2.48%          rho_10 D 124722 124721     42\n",
      " 126775 48272        0.2772     5        0.2833        0.2763   434938    2.48%          rho_11 N 126775  60331     63\n",
      " 128848 49166        0.2821     8        0.2833        0.2763   440164    2.48%          rho_10 U 128848 128846     95\n",
      " 130790 50096        0.2807     3        0.2833        0.2763   445938    2.47%          rho_12 D 130790 130788     40\n",
      " 132806 51057        cutoff              0.2833        0.2763   451680    2.46%          rho_11 U 132806 132804     74\n",
      " 134859 52011        0.2773     4        0.2833        0.2763   457228    2.45%           rho_0 D 134859 134857     40\n",
      " 137072 53113        0.2808     6        0.2833        0.2764   462282    2.45%           rho_0 D 137072 137070     26\n",
      " 139202 54041        0.2819     1        0.2833        0.2764   467304    2.44%           rho_8 N 139202 139201     34\n",
      "Elapsed time = 36.55 sec. (60358.13 ticks, tree = 18.82 MB, solutions = 3)\n",
      " 141291 54884        0.2773     4        0.2833        0.2764   471845    2.44%           rho_0 D 141291 141289     49\n",
      " 143379 55990        0.2810     5        0.2833        0.2764   477251    2.43%          rho_13 D 143379 143377     39\n",
      " 145433 56870        0.2808     6        0.2833        0.2764   482753    2.42%          rho_10 U 145433 145432     30\n",
      " 147290 57638        0.2796     6        0.2833        0.2764   487563    2.42%          rho_12 D 147290 147289     53\n",
      " 149382 58643        0.2769     4        0.2833        0.2765   492328    2.41%          rho_35 D 149382 149381     34\n",
      " 151490 59829        cutoff              0.2833        0.2765   497311    2.40%          rho_21 D 151490 151489     24\n",
      " 153621 60710        0.2816     5        0.2833        0.2765   502335    2.40%          rho_16 U 153621 153620     19\n",
      " 155949 61754        0.2788     3        0.2833        0.2765   506487    2.40%           rho_9 D 155949 155948     59\n",
      " 158069 62869        0.2799     8        0.2833        0.2765   511165    2.39%          rho_10 U 158069 158067     92\n",
      " 160170 63742        0.2796     7        0.2833        0.2765   515851    2.39%          rho_17 U 160170  59071     15\n",
      "Elapsed time = 40.98 sec. (69897.58 ticks, tree = 21.80 MB, solutions = 3)\n",
      " 162195 64599        0.2808     3        0.2833        0.2765   520284    2.39%          rho_12 D 162195 162194     60\n",
      " 164290 65562        0.2785     4        0.2833        0.2765   525257    2.38%          rho_10 U 164290 164289     34\n",
      " 166324 66523        0.2824     4        0.2833        0.2765   529589    2.38%           rho_0 N 166324 166323     72\n",
      " 168432 67463        0.2804     9        0.2833        0.2766   534120    2.37%          rho_10 U 168432 168430     62\n",
      " 170660 68739        0.2800     3        0.2833        0.2766   538767    2.37%          rho_12 D 170660 170659    104\n",
      " 172530 69698        0.2776     4        0.2833        0.2766   542068    2.37%           rho_0 D 172530 172528     89\n",
      " 174365 70638        cutoff              0.2833        0.2766   545417    2.37%           rho_0 U 174365 174364     93\n",
      " 176549 71659        0.2819     1        0.2833        0.2766   549502    2.37%           rho_8 N 176549 176548     85\n",
      " 178877 72759        0.2776     4        0.2833        0.2766   553810    2.37%           rho_0 N 178877 178875     83\n",
      " 181000 73720        0.2787     5        0.2833        0.2766   557803    2.37%          rho_11 D 181000 180999    112\n",
      "Elapsed time = 45.63 sec. (79441.08 ticks, tree = 27.73 MB, solutions = 3)\n",
      " 183125 74733        cutoff              0.2833        0.2766   561744    2.37%           rho_0 U 183125 183124     54\n",
      " 185336 75889        0.2786     4        0.2833        0.2766   565744    2.37%          rho_12 N 185336 185333     92\n",
      " 187402 76883        cutoff              0.2833        0.2766   569811    2.37%           rho_8 U 187402 187401     72\n",
      " 189432 77874        0.2786     4        0.2833        0.2766   573695    2.37%          rho_11 N 189432 189430     73\n",
      " 191370 78791        0.2767     5        0.2833        0.2766   577567    2.37%          rho_11 D 191370 191368     68\n",
      " 193414 79769        0.2785     6        0.2833        0.2766   582046    2.37%          rho_10 N 193414  86027     47\n",
      " 195717 80975        cutoff              0.2833        0.2766   586332    2.36%          rho_15 U 195717 195715     83\n",
      " 197480 81997        0.2808     4        0.2833        0.2766   589386    2.36%          rho_15 D 197480 197479     84\n",
      " 199268 83057        0.2776     4        0.2833        0.2766   592409    2.36%          rho_11 U 199268 199266     87\n",
      " 206491 87284        0.2790     4        0.2833        0.2766   604692    2.36%          rho_12 N 206491 206490     79\n",
      "Elapsed time = 53.00 sec. (91843.11 ticks, tree = 31.96 MB, solutions = 3)\n",
      " 213857 91267        cutoff              0.2833        0.2766   618195    2.35%           rho_6 U 213857 213856    124\n",
      " 221061 95246        0.2816     4        0.2833        0.2766   630473    2.35%           rho_0 D 221061 221060     74\n",
      " 228270 99218        0.2776     5        0.2833        0.2766   642963    2.35%          rho_15 D 228270 228269     92\n",
      " 235515 103271        0.2776     4        0.2833        0.2766   655249    2.35%           rho_0 N 235515 235513     81\n",
      " 242718 107190        cutoff              0.2833        0.2766   667726    2.35%           rho_0 U 242718 242717    115\n",
      " 249848 111141        cutoff              0.2833        0.2766   680160    2.35%           rho_0 U 249848 249847     70\n",
      " 257178 115273        0.2776     4        0.2833        0.2766   692669    2.35%          rho_11 U 257178 257176     77\n",
      " 264910 119464        0.2786     4        0.2833        0.2766   707352    2.34%          rho_12 U 264910 264909     67\n",
      " 272415 124202        0.2767     5        0.2833        0.2766   719256    2.34%          rho_15 D 272415 204863     67\n",
      " 280045 128083        0.2776     1        0.2833        0.2767   733337    2.33%          rho_10 U 280045 280043     37\n",
      "Elapsed time = 71.09 sec. (129994.15 ticks, tree = 44.66 MB, solutions = 3)\n",
      " 289846 132702        0.2776     4        0.2833        0.2767   752180    2.32%          rho_11 D 289846 289845     36\n",
      " 299374 137270        0.2798     8        0.2833        0.2768   770023    2.30%           rho_5 U 299374  14380     19\n",
      " 309189 141685        0.2780     3        0.2833        0.2768   804038    2.30%           rho_9 D 309189 309188     77\n",
      " 318993 146045        0.2828     4        0.2833        0.2768   838816    2.30%          rho_12 U 318993 318991     68\n",
      " 328738 150174        0.2828     4        0.2833        0.2768   872753    2.30%          rho_12 U 328738 328736     99\n",
      " 338598 155029        0.2781     7        0.2833        0.2768   899500    2.29%           rho_9 D 338598 338597     40\n",
      " 346073 159505        0.2814     4        0.2833        0.2768   911672    2.29%           rho_0 D 346073 346072     90\n",
      " 353392 163757        0.2801     3        0.2833        0.2768   923884    2.28%           rho_0 D 353392 353391     38\n",
      " 360717 167668        0.2815     4        0.2833        0.2768   940407    2.27%           rho_0 D 360717 360716     62\n",
      " 368220 171613        0.2805     1        0.2833        0.2769   956078    2.26%           rho_0 D 368220 368219     50\n",
      "Elapsed time = 88.30 sec. (168144.16 ticks, tree = 62.79 MB, solutions = 3)\n",
      " 377057 175948        0.2802     1        0.2833        0.2769   975607    2.24%           rho_0 D 377057 377056     43\n",
      " 386545 180567        0.2779     4        0.2833        0.2770   996133    2.23%           rho_0 D 386545 386543     70\n",
      " 394346 184828        0.2799     8        0.2833        0.2770  1010775    2.22%           rho_0 D 394346 394344     72\n",
      " 401800 188629        0.2816     9        0.2833        0.2770  1027914    2.21%          rho_11 D 401800 401799     64\n",
      " 409727 192856        cutoff              0.2833        0.2770  1043876    2.21%           rho_0 U 409727 409726     39\n",
      " 417817 197358        cutoff              0.2833        0.2771  1061166    2.20%           rho_0 U 417817 417816     90\n",
      " 425520 201535        0.2786     7        0.2833        0.2771  1078988    2.19%          rho_12 U 425520 425519     38\n",
      " 433877 206195        0.2781     6        0.2833        0.2771  1095704    2.18%          rho_15 U 433877 433875     66\n",
      " 442796 210452        0.2771     6        0.2833        0.2771  1112412    2.18%          rho_16 U 442796 442794     69\n",
      " 450923 214688        0.2791     6        0.2833        0.2771  1127652    2.18%           rho_0 D 450923 450921    105\n",
      "Elapsed time = 104.30 sec. (206292.63 ticks, tree = 78.10 MB, solutions = 3)\n",
      " 459240 219124        0.2783     4        0.2833        0.2771  1142966    2.18%          rho_15 N 459240 459239     88\n",
      " 467210 223416        0.2823     3        0.2833        0.2771  1158280    2.18%           rho_0 U 467210 467209     79\n",
      " 476091 227595        0.2825     4        0.2833        0.2771  1176475    2.17%           rho_0 D 476091 476090    103\n",
      " 486106 232327        0.2781     6        0.2833        0.2771  1196617    2.17%           rho_0 D 486106 486104     87\n",
      " 495710 236854        cutoff              0.2833        0.2771  1216126    2.17%           rho_0 U 495710 495709     77\n",
      " 505391 241622        0.2781     6        0.2833        0.2771  1235668    2.17%           rho_0 D 505391 505389     92\n",
      " 514904 246161        0.2798     4        0.2833        0.2771  1255031    2.17%          rho_29 D 514904 514903    108\n",
      " 523109 250899        0.2814     8        0.2833        0.2771  1272954    2.17%          rho_12 U 523109 523108     86\n",
      " 529973 255623        0.2825     3        0.2833        0.2771  1289689    2.17%        alpha_23 U 529973 529972     48\n",
      " 537008 260541        0.2798     8        0.2833        0.2771  1306294    2.17%           rho_0 N 537008 537007     59\n",
      "Elapsed time = 121.36 sec. (244442.85 ticks, tree = 94.63 MB, solutions = 3)\n",
      " 543942 265290        0.2805    12        0.2833        0.2771  1323238    2.17%           rho_9 D 543942 543941     82\n",
      " 550521 268536        cutoff              0.2833        0.2772  1341536    2.16%           rho_8 D 550521 550520     56\n",
      " 558528 272660        0.2806     4        0.2833        0.2772  1358835    2.16%          rho_12 U 558528 558526     58\n",
      " 565822 276571        cutoff              0.2833        0.2772  1375309    2.15%          rho_18 D 565822 565821     73\n",
      " 573386 279449        0.2772     9        0.2833        0.2772  1394678    2.15%          rho_10 D 573386 122335     24\n",
      " 584539 285017        0.2774     5        0.2833        0.2772  1412018    2.15%           rho_9 D 584539 584538     78\n",
      " 592400 289072        0.2792     4        0.2833        0.2772  1427335    2.14%          rho_10 U 592400 592398    100\n",
      " 600180 293738        0.2780     6        0.2833        0.2772  1441946    2.14%          rho_12 D 600180 600179     49\n",
      " 608672 298493        0.2804     5        0.2833        0.2772  1459283    2.14%           rho_0 D 608672 608671     77\n",
      " 617277 303286        0.2828     3        0.2833        0.2772  1477263    2.14%           rho_0 N 617277 617276    104\n",
      "Elapsed time = 137.66 sec. (282595.57 ticks, tree = 110.84 MB, solutions = 3)\n",
      " 625600 307329        0.2795     6        0.2833        0.2772  1494350    2.14%          rho_18 D 625600 625599     65\n",
      " 633800 311788        0.2814     4        0.2833        0.2772  1510788    2.14%           rho_0 D 633800 633799     73\n",
      " 642386 315385        0.2829     1        0.2833        0.2773  1527998    2.13%           rho_9 U 642386 642385     50\n",
      " 651540 320093        0.2782     6        0.2833        0.2773  1546122    2.13%          rho_11 U 651540 632250     40\n",
      " 661491 324864        0.2783     6        0.2833        0.2773  1565451    2.13%          rho_10 D 661491 661490     81\n",
      " 670465 329325        0.2809     5        0.2833        0.2773  1583992    2.13%           rho_0 D 670465 670464     61\n",
      " 678460 333364        0.2804     5        0.2833        0.2773  1600244    2.13%           rho_0 D 678460 678459     91\n",
      " 686325 337432        0.2782     5        0.2833        0.2773  1615940    2.13%          rho_10 U 686325 594288     50\n",
      " 694632 341571        0.2810     5        0.2833        0.2773  1633037    2.13%           rho_5 D 694632 694630    122\n",
      " 702808 345702        cutoff              0.2833        0.2773  1649698    2.13%           rho_0 U 702808 702806     47\n",
      "Elapsed time = 153.14 sec. (320749.24 ticks, tree = 127.70 MB, solutions = 3)\n",
      " 710989 350182        0.2824     3        0.2833        0.2773  1672037    2.12%          rho_23 U 710989 710987    100\n",
      " 718152 356069        0.2783     7        0.2833        0.2773  1697653    2.12%          rho_10 U 718152 718150     83\n",
      " 726312 360948        cutoff              0.2833        0.2773  1716512    2.12%          rho_12 U 726312 726311     87\n",
      " 734895 366308        cutoff              0.2833        0.2773  1733268    2.12%           rho_0 U 734895 734893     52\n",
      " 743529 371813        0.2773     6        0.2833        0.2773  1749883    2.12%          rho_11 D 743529 609227     95\n",
      " 751739 376743        cutoff              0.2833        0.2773  1768005    2.12%           rho_0 U 751739 751738     75\n",
      " 759827 380858        0.2785     7        0.2833        0.2773  1786774    2.11%           rho_9 D 759827 759826     96\n",
      " 770422 385582        0.2783     4        0.2833        0.2773  1808256    2.11%           rho_9 U 770422 434570     46\n",
      " 781291 390537        cutoff              0.2833        0.2773  1829836    2.11%          rho_12 U 781291 781290     88\n",
      " 792139 395561        0.2800     5        0.2833        0.2773  1851457    2.11%          rho_11 D 792139 792138     49\n",
      "Elapsed time = 170.22 sec. (358899.08 ticks, tree = 147.37 MB, solutions = 3)\n",
      " 802191 400207        0.2783     6        0.2833        0.2773  1872939    2.11%          rho_10 U 802191 802189     89\n",
      " 810923 403884        0.2827     6        0.2833        0.2773  1892232    2.11%          rho_16 U 810923 810921     62\n",
      " 818860 408127        0.2807    10        0.2833        0.2773  1910492    2.10%          rho_11 U 818860 818858     65\n",
      " 826257 412776        0.2830     3        0.2833        0.2773  1928248    2.10%           rho_0 N 826257 826256     98\n",
      " 833749 416795        0.2773     4        0.2833        0.2773  1944461    2.10%          rho_15 U 833749 833747     43\n",
      " 842099 421030        0.2783     4        0.2833        0.2773  1957500    2.10%          rho_10 U 842099 842097     68\n",
      " 850936 425642        0.2783     4        0.2833        0.2773  1971795    2.10%          rho_10 U 850936 850934     73\n",
      " 859089 429828        0.2796     4        0.2833        0.2773  1985399    2.10%          rho_12 U 859089 859088     76\n",
      " 869694 434561        cutoff              0.2833        0.2773  2000727    2.10%           rho_0 D 869694 869693    119\n",
      " 878795 439172        0.2783     1        0.2833        0.2773  2017718    2.10%          rho_10 U 878795 878793     69\n",
      "Elapsed time = 186.05 sec. (397048.46 ticks, tree = 160.93 MB, solutions = 3)\n",
      " 885648 442902        cutoff              0.2833        0.2774  2033331    2.09%           rho_0 U 885648 885647     76\n",
      " 893467 446617        0.2802     5        0.2833        0.2774  2048723    2.09%          rho_16 D 893467 893466     70\n",
      " 902521 451034        0.2783     4        0.2833        0.2774  2068010    2.09%          rho_15 U 902521 810357     57\n",
      " 911200 455461        0.2783     6        0.2833        0.2774  2085309    2.09%          rho_15 U 911200 816250     26\n",
      " 917791 460028        0.2774     6        0.2833        0.2774  2101526    2.08%           rho_0 D 917791 917789     49\n",
      " 924573 463665        0.2827     4        0.2833        0.2774  2113624    2.08%          rho_12 U 924573 924572     67\n",
      " 933266 467586        0.2793     4        0.2833        0.2774  2128364    2.08%           rho_0 D 933266 933264     89\n",
      " 942800 471805        0.2783     4        0.2833        0.2774  2144485    2.08%           rho_0 D 942800 942798    115\n",
      "\n",
      "Mixed integer rounding cuts applied:  2\n",
      "User cuts applied:  736\n",
      "\n",
      "Root node processing (before b&c):\n",
      "  Real time             =    0.13 sec. (3.20 ticks)\n",
      "Sequential b&c:\n",
      "  Real time             =  199.89 sec. (428994.82 ticks)\n",
      "                          ------------\n",
      "Total (root+branch&cut) =  200.02 sec. (428998.01 ticks)\n",
      "+----------------------------------------------+------------------+-----------+\n",
      "| Pr(Y = +1) = 1.0/(1.0 + exp(-(-5 + score))   |                  |           |\n",
      "| ============================================ | ================ | ========= |\n",
      "| age_at_current_charge<=21.0                  |         1 points |   + ..... |\n",
      "| p_stealing>=1                                |         1 points |   + ..... |\n",
      "| p_prison>=1                                  |         1 points |   + ..... |\n",
      "| three_year>=1                                |         1 points |   + ..... |\n",
      "| current_violence>=1                          |         1 points |   + ..... |\n",
      "| ============================================ | ================ | ========= |\n",
      "| ADD POINTS FROM ROWS 1 to 5                  |            SCORE |   = ..... |\n",
      "+----------------------------------------------+------------------+-----------+\n"
     ]
    }
   ],
   "source": [
    "riskslim_summary = slim.risk_cv(sub_KY_X, KY_Y, sub_FL_X, FL_Y, \n",
    "                                y_label = 'general2', \n",
    "                                max_coef = 20, \n",
    "                                max_coef_number = 10, \n",
    "                                max_runtime=200, \n",
    "                                c=1e-3, \n",
    "                                seed=816)"
   ]
  },
  {
   "cell_type": "code",
   "execution_count": 27,
   "metadata": {},
   "outputs": [
    {
     "data": {
      "text/plain": [
       "[0.5937782366348155]"
      ]
     },
     "execution_count": 27,
     "metadata": {},
     "output_type": "execute_result"
    }
   ],
   "source": [
    "riskslim_summary['KY_auc']"
   ]
  },
  {
   "cell_type": "markdown",
   "metadata": {},
   "source": [
    "### Corel"
   ]
  },
  {
   "cell_type": "code",
   "execution_count": 2,
   "metadata": {},
   "outputs": [],
   "source": [
    "KY_stumps = pd.read_csv(\"~/Documents/Duke/Cynthia Research/psa-analysis - test/kentucky/models/ky_fl_combined/data preparation/KY_stumps\")\n",
    "FL_stumps = pd.read_csv(\"~/Documents/Duke/Cynthia Research/psa-analysis - test/kentucky/models/ky_fl_combined/data preparation/FL_stumps\")\n",
    "\n",
    "## split x and y \n",
    "KY_X = KY_stumps.loc[:,:'current_violence>=1']\n",
    "KY_Y = KY_stumps['recid_property_two_year'].values\n",
    "FL_X = FL_stumps.loc[:,:'current_violence>=1']\n",
    "FL_Y = FL_stumps['recid_property_two_year'].values"
   ]
  },
  {
   "cell_type": "code",
   "execution_count": 3,
   "metadata": {},
   "outputs": [],
   "source": [
    "KY_score, FL_score = Corel.corel_cv(KY_X, KY_Y, FL_X, FL_Y, max_card=2, c=1e-3, seed=816)"
   ]
  },
  {
   "cell_type": "code",
   "execution_count": 16,
   "metadata": {},
   "outputs": [
    {
     "name": "stdout",
     "output_type": "stream",
     "text": [
      "Stored 'summary_general2_fl_inter_model' (dict)\n"
     ]
    }
   ],
   "source": [
    "#### save results\n",
    "summary_property2_fl_inter_model = {\"CART\": cart_summary,\n",
    "                                    \"EBM\": ebm_summary,\n",
    "                                    \"Stumps\": stumps_summary,\n",
    "                                    \"RiskSLIM\": riskslim_summary, \n",
    "                                   \"Corel\": KY_score}\n",
    "%store summary_property2_fl_inter_model"
   ]
  },
  {
   "cell_type": "code",
   "execution_count": 29,
   "metadata": {},
   "outputs": [],
   "source": [
    "path = \"C:\\\\Users\\\\binha\\\\Documents\\\\Duke\\\\Cynthia Research\\\\KY-analysis-mytrials\\\\KY Recidivism\\\\KY Results\\\\KY_FL\\\\FL Model\\\\interpretable\\\\Two Year\\\\\"\n",
    "results = [[\"Property\",             \n",
    "            round(cart_summary['KY_score'],3), \n",
    "            round(ebm_summary['KY_score'], 3), \n",
    "            round(stumps_summary['KY_score'],3), \n",
    "            round(riskslim_summary['KY_auc'][0], 3), \n",
    "            round(KY_score, 3)]]\n",
    "with open(path + 'Two Year FL_inter_model.csv', 'a') as writeFile:\n",
    "    writer = csv.writer(writeFile)\n",
    "    writer.writerows(results)"
   ]
  }
 ],
 "metadata": {
  "kernelspec": {
   "display_name": "Python 3",
   "language": "python",
   "name": "python3"
  },
  "language_info": {
   "codemirror_mode": {
    "name": "ipython",
    "version": 3
   },
   "file_extension": ".py",
   "mimetype": "text/x-python",
   "name": "python",
   "nbconvert_exporter": "python",
   "pygments_lexer": "ipython3",
   "version": "3.7.4"
  }
 },
 "nbformat": 4,
 "nbformat_minor": 4
}
