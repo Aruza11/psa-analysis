{
 "cells": [
  {
   "cell_type": "code",
   "execution_count": 1,
   "metadata": {},
   "outputs": [
    {
     "name": "stdout",
     "output_type": "stream",
     "text": [
      "Current working directory is now:  C:\\Users\\binha\\Documents\\Duke\\Cynthia Research\\psa-analysis - test2\\kentucky\\ky_fl_combined\\FL Model\n"
     ]
    },
    {
     "name": "stderr",
     "output_type": "stream",
     "text": [
      "C:\\Users\\binha\\Anaconda3\\lib\\site-packages\\sklearn\\externals\\six.py:31: DeprecationWarning:\n",
      "\n",
      "The module is deprecated in version 0.21 and will be removed in version 0.23 since we've dropped support for Python 2.7. Please rely on the official version of six (https://pypi.org/project/six/).\n",
      "\n"
     ]
    }
   ],
   "source": [
    "import os \n",
    "os.chdir('../../')\n",
    "print(\"Current working directory is now: \", os.getcwd())\n",
    "\n",
    "import pandas as pd \n",
    "import numpy as np\n",
    "import csv\n",
    "\n",
    "import FL_utils.FL_interpretable_functions as interpret\n",
    "import FL_utils.FL_RiskSLIM as slim\n",
    "import FL_utils.FL_stumps as stumps\n",
    "import FL_utils.FL_Corel as Corel\n",
    "\n",
    "# restore saved variables\n",
    "%store -r summary_M2_fl_inter_model"
   ]
  },
  {
   "cell_type": "markdown",
   "metadata": {},
   "source": [
    "### EBM & CART"
   ]
  },
  {
   "cell_type": "code",
   "execution_count": 2,
   "metadata": {},
   "outputs": [],
   "source": [
    "KY_data = pd.read_csv(\"~/Documents/Duke/Cynthia Research/psa-analysis - test/kentucky/models/ky_fl_combined/data preparation/KY_cleaned\")\n",
    "FL_data = pd.read_csv(\"~/Documents/Duke/Cynthia Research/psa-analysis - test/kentucky/models/ky_fl_combined/data preparation/FL_cleaned\")\n",
    "\n",
    "## split x and y \n",
    "KY_X = KY_data.loc[:,:'current_violence']\n",
    "KY_Y = KY_data['recid_M_two_year'].values\n",
    "FL_X = FL_data.loc[:,:'current_violence']\n",
    "FL_Y = FL_data['recid_M_two_year'].values"
   ]
  },
  {
   "cell_type": "code",
   "execution_count": 3,
   "metadata": {},
   "outputs": [],
   "source": [
    "#### CART\n",
    "depth = [1,2]\n",
    "impurity = [0.001, 0.003]\n",
    "split = [2,3,4]\n",
    "cart_summary = advance.CART(KY_X, KY_Y, FL_X, FL_Y, depth, split, impurity, seed=816)\n",
    "\n",
    "### EBM\n",
    "estimators = [60, 80, 100]\n",
    "depth = [1]\n",
    "learning_rate = [0.05]\n",
    "holdout_split = [0.9]\n",
    "ebm_summary = advance.EBM(KY_X, KY_Y, FL_X, FL_Y, learning_rate, depth, estimators, holdout_split, seed=816)"
   ]
  },
  {
   "cell_type": "code",
   "execution_count": 4,
   "metadata": {},
   "outputs": [
    {
     "data": {
      "text/plain": [
       "(0.5283467439553625, 0.611792408932997)"
      ]
     },
     "execution_count": 4,
     "metadata": {},
     "output_type": "execute_result"
    }
   ],
   "source": [
    "cart_summary['KY_score'], ebm_summary['KY_score']"
   ]
  },
  {
   "cell_type": "markdown",
   "metadata": {},
   "source": [
    "### Lasso Stumps"
   ]
  },
  {
   "cell_type": "code",
   "execution_count": 5,
   "metadata": {},
   "outputs": [],
   "source": [
    "KY_stumps = pd.read_csv(\"~/Documents/Duke/Cynthia Research/psa-analysis - test/kentucky/models/ky_fl_combined/data preparation/KY_stumps\")\n",
    "FL_stumps = pd.read_csv(\"~/Documents/Duke/Cynthia Research/psa-analysis - test/kentucky/models/ky_fl_combined/data preparation/FL_stumps\")\n",
    "\n",
    "## split x and y \n",
    "KY_X = KY_stumps.loc[:,:'current_violence>=1']\n",
    "KY_Y = KY_stumps['recid_M_two_year'].values\n",
    "FL_X = FL_stumps.loc[:,:'current_violence>=1']\n",
    "FL_Y = FL_stumps['recid_M_two_year'].values\n",
    "\n",
    "## columns \n",
    "cols = KY_X.columns"
   ]
  },
  {
   "cell_type": "code",
   "execution_count": 10,
   "metadata": {},
   "outputs": [],
   "source": [
    "c_grid = {'C': [0.03, 0.05, 0.07]}\n",
    "stumps_summary = stumps.stump_cv(KY_X, KY_Y, FL_X, FL_Y, cols, c_grid, seed=816)"
   ]
  },
  {
   "cell_type": "code",
   "execution_count": 12,
   "metadata": {},
   "outputs": [
    {
     "data": {
      "text/plain": [
       "{'best_auc': 0.6084505763566949,\n",
       " 'best_params': {'C': 0.07},\n",
       " 'auc_diffs': 0.041810926620840294,\n",
       " 'KY_score': 0.602717291946106}"
      ]
     },
     "execution_count": 12,
     "metadata": {},
     "output_type": "execute_result"
    }
   ],
   "source": [
    "stumps_summary"
   ]
  },
  {
   "cell_type": "markdown",
   "metadata": {},
   "source": [
    "### RiskSLIM"
   ]
  },
  {
   "cell_type": "code",
   "execution_count": 13,
   "metadata": {},
   "outputs": [
    {
     "data": {
      "text/plain": [
       "19"
      ]
     },
     "execution_count": 13,
     "metadata": {},
     "output_type": "execute_result"
    }
   ],
   "source": [
    "## train on best param chosen by Lasso Stumps from above\n",
    "lasso = LogisticRegression(class_weight='balanced', solver='liblinear', penalty='l1', C=0.07, random_state=816).fit(FL_X, FL_Y)\n",
    "selected_features = cols[lasso.coef_[0] != 0].tolist()\n",
    "len(selected_features)"
   ]
  },
  {
   "cell_type": "code",
   "execution_count": 14,
   "metadata": {},
   "outputs": [],
   "source": [
    "### Subset features\n",
    "sub_FL_X = FL_stumps.loc[:, selected_features]\n",
    "sub_KY_X = KY_stumps.loc[:, selected_features]\n",
    "sub_FL_X.insert(0, '(Intercept)', 1)"
   ]
  },
  {
   "cell_type": "code",
   "execution_count": 15,
   "metadata": {
    "scrolled": true
   },
   "outputs": [
    {
     "name": "stdout",
     "output_type": "stream",
     "text": [
      "setting c0 = 0.0 to ensure that intercept is not penalized\n",
      "09/17/19 @ 01:36 PM | 861 rows in lookup table\n",
      "09/17/19 @ 01:36 PM | ------------------------------------------------------------\n",
      "09/17/19 @ 01:36 PM | runnning initialization procedure\n",
      "09/17/19 @ 01:36 PM | ------------------------------------------------------------\n",
      "09/17/19 @ 01:36 PM | CPA produced 2 cuts\n",
      "09/17/19 @ 01:36 PM | running naive rounding on 72 solutions\n",
      "09/17/19 @ 01:36 PM | best objective value: 0.5586\n",
      "09/17/19 @ 01:36 PM | rounding produced 2 integer solutions\n",
      "09/17/19 @ 01:36 PM | best objective value is 0.6493\n",
      "09/17/19 @ 01:36 PM | running sequential rounding on 72 solutions\n",
      "09/17/19 @ 01:36 PM | best objective value: 0.5586\n",
      "09/17/19 @ 01:36 PM | sequential rounding produced 4 integer solutions\n",
      "09/17/19 @ 01:36 PM | best objective value: 0.5819\n",
      "09/17/19 @ 01:36 PM | polishing 6 solutions\n",
      "09/17/19 @ 01:36 PM | best objective value: 0.5819\n",
      "09/17/19 @ 01:36 PM | polishing produced 5 integer solutions\n",
      "09/17/19 @ 01:36 PM | initialization produced 10 feasible solutions\n",
      "09/17/19 @ 01:36 PM | best objective value: 0.5793\n",
      "09/17/19 @ 01:36 PM | ------------------------------------------------------------\n",
      "09/17/19 @ 01:36 PM | completed initialization procedure\n",
      "09/17/19 @ 01:36 PM | ------------------------------------------------------------\n",
      "09/17/19 @ 01:36 PM | 861 rows in lookup table\n",
      "CPXPARAM_Read_DataCheck                          1\n",
      "CPXPARAM_Threads                                 1\n",
      "CPXPARAM_Parallel                                1\n",
      "CPXPARAM_RandomSeed                              0\n",
      "CPXPARAM_TimeLimit                               200\n",
      "CPXPARAM_MIP_Tolerances_LowerCutoff              0.55761527365267671\n",
      "CPXPARAM_MIP_Tolerances_UpperCutoff              0.57925001656430009\n"
     ]
    },
    {
     "name": "stderr",
     "output_type": "stream",
     "text": [
      "Warning: Control callbacks may disable some MIP features.\n"
     ]
    },
    {
     "name": "stdout",
     "output_type": "stream",
     "text": [
      "Lazy constraint(s) or lazy constraint callback is present.\n",
      "    Disabling dual reductions (CPX_PARAM_REDUCE) in presolve.\n",
      "    Disabling non-linear reductions (CPX_PARAM_PRELINEAR) in presolve.\n",
      "         Disabling repeat represolve because of lazy constraint/incumbent callback.\n",
      "09/17/19 @ 01:36 PM | adding 195 initial cuts\n",
      "1 of 1 MIP starts provided solutions.\n",
      "MIP start 'mip_start_0' defined initial solution with objective 0.5793.\n",
      "Tried aggregator 1 time.\n",
      "Reduced MIP has 21 rows, 42 columns, and 79 nonzeros.\n",
      "Reduced MIP has 19 binaries, 21 generals, 0 SOSs, and 0 indicators.\n",
      "Presolve time = 0.00 sec. (0.04 ticks)\n",
      "Probing time = 0.00 sec. (0.01 ticks)\n",
      "MIP emphasis: balance optimality and feasibility.\n",
      "MIP search method: traditional branch-and-cut.\n",
      "Parallel mode: none, using 1 thread.\n",
      "Root relaxation solution time = 0.00 sec. (0.03 ticks)\n",
      "\n",
      "        Nodes                                         Cuts/\n",
      "   Node  Left     Objective  IInf  Best Integer    Best Bound    ItCnt     Gap         Variable B NodeID Parent  Depth\n",
      "\n",
      "*     0+    0                            0.5793        0.5476             5.46%\n",
      "      0     0        0.5576     1        0.5793        0.5576        1    3.73%\n",
      "      0     2        0.5576     4        0.5793        0.5576        1    3.73%                        0             0\n",
      "Elapsed time = 0.39 sec. (0.98 ticks, tree = 0.01 MB, solutions = 1)\n",
      "   2430   857        0.5751     4        0.5793        0.5576    10850    3.73%          rho_17 D   2430   2429     18\n",
      "   4183  1516        0.5608    15        0.5793        0.5576    19240    3.73%           rho_6 D   4183   4182     12\n",
      "   5654  2081        0.5665     9        0.5793        0.5578    26283    3.70%           rho_0 U   5654   5652     15\n",
      "   7350  2805        0.5710    11        0.5793        0.5598    31561    3.35%          rho_15 D   7350   7349     31\n",
      "   8980  3301        0.5701     7        0.5793        0.5612    37098    3.11%          rho_15 D   8980   8979     22\n",
      "  10612  3861        0.5663    11        0.5793        0.5623    42300    2.93%           rho_6 D  10612  10611     23\n",
      "  12169  4299        0.5748     7        0.5793        0.5633    47566    2.75%          rho_18 D  12169  12166     18\n",
      "  13865  4675        0.5724     7        0.5793        0.5641    53221    2.61%           rho_2 D  13865  13864     31\n",
      "  15640  5077        0.5720     8        0.5793        0.5649    58892    2.48%          rho_14 U  15640   4608      9\n",
      "  22409  6018        0.5704    11        0.5793        0.5676    81324    2.01%          rho_18 D  22409  22407     21\n",
      "Elapsed time = 9.55 sec. (3102.09 ticks, tree = 1.63 MB, solutions = 1)\n",
      "  28735  6281        0.5789     3        0.5793        0.5698   102800    1.62%           rho_9 D  28735  28734     28\n",
      "  34803  5728        cutoff              0.5793        0.5719   123525    1.26%          rho_10 U  34803  27879     25\n",
      "  40586  4202        0.5785     5        0.5793        0.5742   143099    0.87%          rho_11 N  40586  40584     40\n",
      "  46354  1555        cutoff              0.5793        0.5772   160760    0.35%           rho_6 D  46354   7760     23\n",
      "\n",
      "User cuts applied:  241\n",
      "\n",
      "Root node processing (before b&c):\n",
      "  Real time             =    0.39 sec. (1.00 ticks)\n",
      "Sequential b&c:\n",
      "  Real time             =   15.38 sec. (7258.45 ticks)\n",
      "                          ------------\n",
      "Total (root+branch&cut) =   15.76 sec. (7259.44 ticks)\n",
      "+----------------------------------------------+------------------+-----------+\n",
      "| Pr(Y = +1) = 1.0/(1.0 + exp(-(-2 + score))   |                  |           |\n",
      "| ============================================ | ================ | ========= |\n",
      "| p_fta_two_year>=1                            |         1 points |   + ..... |\n",
      "| three_year>=1                                |         1 points |   + ..... |\n",
      "| ============================================ | ================ | ========= |\n",
      "| ADD POINTS FROM ROWS 1 to 2                  |            SCORE |   = ..... |\n",
      "+----------------------------------------------+------------------+-----------+\n"
     ]
    }
   ],
   "source": [
    "riskslim_summary = slim.risk_cv(sub_KY_X, KY_Y, sub_FL_X, FL_Y, \n",
    "                                y_label = 'general2', \n",
    "                                max_coef = 20, \n",
    "                                max_coef_number = 10, \n",
    "                                max_runtime=200, \n",
    "                                c=1e-3, \n",
    "                                seed=816)"
   ]
  },
  {
   "cell_type": "code",
   "execution_count": 16,
   "metadata": {},
   "outputs": [
    {
     "data": {
      "text/plain": [
       "[0.5989477275642047]"
      ]
     },
     "execution_count": 16,
     "metadata": {},
     "output_type": "execute_result"
    }
   ],
   "source": [
    "riskslim_summary['KY_auc']"
   ]
  },
  {
   "cell_type": "markdown",
   "metadata": {},
   "source": [
    "### Corel"
   ]
  },
  {
   "cell_type": "code",
   "execution_count": 2,
   "metadata": {},
   "outputs": [],
   "source": [
    "KY_stumps = pd.read_csv(\"~/Documents/Duke/Cynthia Research/psa-analysis - test/kentucky/models/ky_fl_combined/data preparation/KY_stumps\")\n",
    "FL_stumps = pd.read_csv(\"~/Documents/Duke/Cynthia Research/psa-analysis - test/kentucky/models/ky_fl_combined/data preparation/FL_stumps\")\n",
    "\n",
    "## split x and y \n",
    "KY_X = KY_stumps.loc[:,:'current_violence>=1']\n",
    "KY_Y = KY_stumps['recid_M_two_year'].values\n",
    "FL_X = FL_stumps.loc[:,:'current_violence>=1']\n",
    "FL_Y = FL_stumps['recid_M_two_year'].values"
   ]
  },
  {
   "cell_type": "code",
   "execution_count": 3,
   "metadata": {},
   "outputs": [],
   "source": [
    "KY_score, FL_score = Corel.corel_cv(KY_X, KY_Y, FL_X, FL_Y, max_card=2, c=1e-3, seed=816)"
   ]
  },
  {
   "cell_type": "code",
   "execution_count": 16,
   "metadata": {},
   "outputs": [
    {
     "name": "stdout",
     "output_type": "stream",
     "text": [
      "Stored 'summary_general2_fl_inter_model' (dict)\n"
     ]
    }
   ],
   "source": [
    "#### save results\n",
    "summary_M2_fl_inter_model = {\"CART\": cart_summary,\n",
    "                                    \"EBM\": ebm_summary,\n",
    "                                    \"Stumps\": stumps_summary,\n",
    "                                    \"RiskSLIM\": riskslim_summary, \n",
    "                                   \"Corel\": KY_score}\n",
    "%store summary_M2_fl_inter_model"
   ]
  },
  {
   "cell_type": "code",
   "execution_count": 18,
   "metadata": {},
   "outputs": [],
   "source": [
    "path = \"C:\\\\Users\\\\binha\\\\Documents\\\\Duke\\\\Cynthia Research\\\\KY-analysis-mytrials\\\\KY Recidivism\\\\KY Results\\\\KY_FL\\\\FL Model\\\\interpretable\\\\Two Year\\\\\"\n",
    "results = [[\"Misdemeanor\",             \n",
    "            round(cart_summary['KY_score'],3), \n",
    "            round(ebm_summary['KY_score'], 3), \n",
    "            round(stumps_summary['KY_score'],3), \n",
    "            round(riskslim_summary['KY_auc'][0], 3), \n",
    "            round(KY_score, 3)]]\n",
    "with open(path + 'Two Year FL_inter_model.csv', 'a') as writeFile:\n",
    "    writer = csv.writer(writeFile)\n",
    "    writer.writerows(results)"
   ]
  }
 ],
 "metadata": {
  "kernelspec": {
   "display_name": "Python 3",
   "language": "python",
   "name": "python3"
  },
  "language_info": {
   "codemirror_mode": {
    "name": "ipython",
    "version": 3
   },
   "file_extension": ".py",
   "mimetype": "text/x-python",
   "name": "python",
   "nbconvert_exporter": "python",
   "pygments_lexer": "ipython3",
   "version": "3.7.4"
  }
 },
 "nbformat": 4,
 "nbformat_minor": 4
}
