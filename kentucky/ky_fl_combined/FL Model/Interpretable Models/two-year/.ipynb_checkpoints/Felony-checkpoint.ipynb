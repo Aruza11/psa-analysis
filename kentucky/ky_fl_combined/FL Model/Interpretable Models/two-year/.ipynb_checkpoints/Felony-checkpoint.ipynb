{
 "cells": [
  {
   "cell_type": "code",
   "execution_count": 1,
   "metadata": {},
   "outputs": [
    {
     "name": "stdout",
     "output_type": "stream",
     "text": [
      "Current working directory is now:  C:\\Users\\binha\\Documents\\Duke\\Cynthia Research\\psa-analysis - test2\\kentucky\\ky_fl_combined\\FL Model\n"
     ]
    },
    {
     "name": "stderr",
     "output_type": "stream",
     "text": [
      "C:\\Users\\binha\\Anaconda3\\lib\\site-packages\\sklearn\\externals\\six.py:31: DeprecationWarning:\n",
      "\n",
      "The module is deprecated in version 0.21 and will be removed in version 0.23 since we've dropped support for Python 2.7. Please rely on the official version of six (https://pypi.org/project/six/).\n",
      "\n"
     ]
    }
   ],
   "source": [
    "import os \n",
    "os.chdir('../../')\n",
    "print(\"Current working directory is now: \", os.getcwd())\n",
    "\n",
    "import pandas as pd \n",
    "import numpy as np\n",
    "import csv\n",
    "\n",
    "import FL_utils.FL_interpretable_functions as interpret\n",
    "import FL_utils.FL_RiskSLIM as slim\n",
    "import FL_utils.FL_stumps as stumps\n",
    "import FL_utils.FL_Corel as Corel\n",
    "\n",
    "# restore saved variables\n",
    "%store -r summary_F2_fl_inter_model"
   ]
  },
  {
   "cell_type": "markdown",
   "metadata": {},
   "source": [
    "### EBM & CART"
   ]
  },
  {
   "cell_type": "code",
   "execution_count": 2,
   "metadata": {},
   "outputs": [],
   "source": [
    "KY_data = pd.read_csv(\"~/Documents/Duke/Cynthia Research/psa-analysis - test/kentucky/models/ky_fl_combined/data preparation/KY_cleaned\")\n",
    "FL_data = pd.read_csv(\"~/Documents/Duke/Cynthia Research/psa-analysis - test/kentucky/models/ky_fl_combined/data preparation/FL_cleaned\")\n",
    "\n",
    "## split x and y \n",
    "KY_X = KY_data.loc[:,:'current_violence']\n",
    "KY_Y = KY_data['recid_F_two_year'].values\n",
    "FL_X = FL_data.loc[:,:'current_violence']\n",
    "FL_Y = FL_data['recid_F_two_year'].values"
   ]
  },
  {
   "cell_type": "code",
   "execution_count": 3,
   "metadata": {},
   "outputs": [],
   "source": [
    "#### CART\n",
    "depth = [1,2]\n",
    "impurity = [0.001, 0.003]\n",
    "split = [2,3,4]\n",
    "cart_summary = advance.CART(KY_X, KY_Y, FL_X, FL_Y, depth, split, impurity, seed=816)\n",
    "\n",
    "### EBM\n",
    "estimators = [40,60, 80]\n",
    "depth = [1]\n",
    "learning_rate = [0.05]\n",
    "holdout_split = [0.9]\n",
    "ebm_summary = advance.EBM(KY_X, KY_Y, FL_X, FL_Y, learning_rate, depth, estimators, holdout_split, seed=816)"
   ]
  },
  {
   "cell_type": "code",
   "execution_count": 4,
   "metadata": {},
   "outputs": [
    {
     "data": {
      "text/plain": [
       "(0.5248927224670745, 0.6566773029401798)"
      ]
     },
     "execution_count": 4,
     "metadata": {},
     "output_type": "execute_result"
    }
   ],
   "source": [
    "cart_summary['KY_score'], ebm_summary['KY_score']"
   ]
  },
  {
   "cell_type": "markdown",
   "metadata": {},
   "source": [
    "### Lasso Stumps"
   ]
  },
  {
   "cell_type": "code",
   "execution_count": 5,
   "metadata": {},
   "outputs": [],
   "source": [
    "KY_stumps = pd.read_csv(\"~/Documents/Duke/Cynthia Research/psa-analysis - test/kentucky/models/ky_fl_combined/data preparation/KY_stumps\")\n",
    "FL_stumps = pd.read_csv(\"~/Documents/Duke/Cynthia Research/psa-analysis - test/kentucky/models/ky_fl_combined/data preparation/FL_stumps\")\n",
    "\n",
    "## split x and y \n",
    "KY_X = KY_stumps.loc[:,:'current_violence>=1']\n",
    "KY_Y = KY_stumps['recid_F_two_year'].values\n",
    "FL_X = FL_stumps.loc[:,:'current_violence>=1']\n",
    "FL_Y = FL_stumps['recid_F_two_year'].values\n",
    "\n",
    "## columns \n",
    "cols = KY_X.columns"
   ]
  },
  {
   "cell_type": "code",
   "execution_count": 8,
   "metadata": {},
   "outputs": [],
   "source": [
    "c_grid = {'C':[0.03, 0.05, 0.07, 0.09, 0.11]}\n",
    "stumps_summary = stumps.stump_cv(KY_X, KY_Y, FL_X, FL_Y, cols, c_grid, seed=816)"
   ]
  },
  {
   "cell_type": "code",
   "execution_count": 9,
   "metadata": {},
   "outputs": [
    {
     "data": {
      "text/plain": [
       "{'best_auc': 0.6418185275365839,\n",
       " 'best_params': {'C': 0.09},\n",
       " 'auc_diffs': 0.03364699905803015,\n",
       " 'KY_score': 0.6343272367073387}"
      ]
     },
     "execution_count": 9,
     "metadata": {},
     "output_type": "execute_result"
    }
   ],
   "source": [
    "stumps_summary"
   ]
  },
  {
   "cell_type": "markdown",
   "metadata": {},
   "source": [
    "### RiskSLIM"
   ]
  },
  {
   "cell_type": "code",
   "execution_count": 10,
   "metadata": {},
   "outputs": [
    {
     "data": {
      "text/plain": [
       "20"
      ]
     },
     "execution_count": 10,
     "metadata": {},
     "output_type": "execute_result"
    }
   ],
   "source": [
    "## train on best param chosen by Lasso Stumps from above\n",
    "lasso = LogisticRegression(class_weight='balanced', solver='liblinear', penalty='l1', C=0.09, random_state=816).fit(FL_X, FL_Y)\n",
    "selected_features = cols[lasso.coef_[0] != 0].tolist()\n",
    "len(selected_features)"
   ]
  },
  {
   "cell_type": "code",
   "execution_count": 11,
   "metadata": {},
   "outputs": [],
   "source": [
    "### Subset features\n",
    "sub_FL_X = FL_stumps.loc[:, selected_features]\n",
    "sub_KY_X = KY_stumps.loc[:, selected_features]\n",
    "sub_FL_X.insert(0, '(Intercept)', 1)"
   ]
  },
  {
   "cell_type": "code",
   "execution_count": 14,
   "metadata": {
    "scrolled": true
   },
   "outputs": [
    {
     "name": "stdout",
     "output_type": "stream",
     "text": [
      "setting c0 = 0.0 to ensure that intercept is not penalized\n",
      "09/17/19 @ 01:42 PM | 901 rows in lookup table\n",
      "09/17/19 @ 01:42 PM | ------------------------------------------------------------\n",
      "09/17/19 @ 01:42 PM | runnning initialization procedure\n",
      "09/17/19 @ 01:42 PM | ------------------------------------------------------------\n",
      "09/17/19 @ 01:42 PM | CPA produced 2 cuts\n",
      "09/17/19 @ 01:42 PM | running naive rounding on 63 solutions\n",
      "09/17/19 @ 01:42 PM | best objective value: 0.4406\n",
      "09/17/19 @ 01:42 PM | rounding produced 4 integer solutions\n",
      "09/17/19 @ 01:42 PM | best objective value is 0.4748\n",
      "09/17/19 @ 01:42 PM | running sequential rounding on 63 solutions\n",
      "09/17/19 @ 01:42 PM | best objective value: 0.4406\n",
      "09/17/19 @ 01:42 PM | sequential rounding produced 6 integer solutions\n",
      "09/17/19 @ 01:42 PM | best objective value: 0.4569\n",
      "09/17/19 @ 01:42 PM | polishing 10 solutions\n",
      "09/17/19 @ 01:42 PM | best objective value: 0.4569\n",
      "09/17/19 @ 01:42 PM | polishing produced 5 integer solutions\n",
      "09/17/19 @ 01:42 PM | initialization produced 11 feasible solutions\n",
      "09/17/19 @ 01:42 PM | best objective value: 0.4569\n",
      "09/17/19 @ 01:42 PM | ------------------------------------------------------------\n",
      "09/17/19 @ 01:42 PM | completed initialization procedure\n",
      "09/17/19 @ 01:42 PM | ------------------------------------------------------------\n",
      "09/17/19 @ 01:42 PM | 901 rows in lookup table\n",
      "CPXPARAM_Read_DataCheck                          1\n",
      "CPXPARAM_Threads                                 1\n",
      "CPXPARAM_Parallel                                1\n",
      "CPXPARAM_RandomSeed                              0\n",
      "CPXPARAM_TimeLimit                               200\n",
      "CPXPARAM_MIP_Tolerances_LowerCutoff              0.43970701001572021\n",
      "CPXPARAM_MIP_Tolerances_UpperCutoff              0.45686305319884007\n"
     ]
    },
    {
     "name": "stderr",
     "output_type": "stream",
     "text": [
      "Warning: Control callbacks may disable some MIP features.\n"
     ]
    },
    {
     "name": "stdout",
     "output_type": "stream",
     "text": [
      "Lazy constraint(s) or lazy constraint callback is present.\n",
      "    Disabling dual reductions (CPX_PARAM_REDUCE) in presolve.\n",
      "    Disabling non-linear reductions (CPX_PARAM_PRELINEAR) in presolve.\n",
      "         Disabling repeat represolve because of lazy constraint/incumbent callback.\n",
      "09/17/19 @ 01:42 PM | adding 202 initial cuts\n",
      "1 of 1 MIP starts provided solutions.\n",
      "MIP start 'mip_start_0' defined initial solution with objective 0.4569.\n",
      "Tried aggregator 1 time.\n",
      "Reduced MIP has 22 rows, 44 columns, and 83 nonzeros.\n",
      "Reduced MIP has 20 binaries, 22 generals, 0 SOSs, and 0 indicators.\n",
      "Presolve time = 0.00 sec. (0.04 ticks)\n",
      "Probing time = 0.00 sec. (0.01 ticks)\n",
      "MIP emphasis: balance optimality and feasibility.\n",
      "MIP search method: traditional branch-and-cut.\n",
      "Parallel mode: none, using 1 thread.\n",
      "Root relaxation solution time = 0.00 sec. (0.03 ticks)\n",
      "\n",
      "        Nodes                                         Cuts/\n",
      "   Node  Left     Objective  IInf  Best Integer    Best Bound    ItCnt     Gap         Variable B NodeID Parent  Depth\n",
      "\n",
      "*     0+    0                            0.4569        0.4297             5.94%\n",
      "      0     0        0.4397     1        0.4569        0.4397        1    3.76%\n",
      "      0     0        0.4397     1        0.4569       Cuts: 2        2    3.76%\n",
      "      0     2        0.4397     7        0.4569        0.4397        2    3.76%                        0             0\n",
      "Elapsed time = 0.20 sec. (1.56 ticks, tree = 0.01 MB, solutions = 1)\n",
      "   2853  1051        cutoff              0.4569        0.4397    10063    3.76%           rho_5 U   2853   2852     19\n",
      "   4874  1910        0.4403     3        0.4569        0.4397    15547    3.76%           rho_8 D   4874   4873     77\n",
      "   7299  3052        0.4438     1        0.4569        0.4397    19081    3.76%           rho_6 U   7299   7298     52\n",
      "   9562  4044        0.4453     7        0.4569        0.4397    23076    3.76%           rho_0 U   9562   9561     33\n",
      "* 10730+ 4849                            0.4566        0.4397             3.71%\n",
      "  11285  5119        0.4432     6        0.4566        0.4397    27631    3.71%           rho_1 D  11285  11284     12\n",
      "  12968  5903        0.4519     8        0.4566        0.4397    32596    3.71%           rho_6 U  12968  12966     32\n",
      "* 14147  6210      integral     0        0.4562        0.4397    36238    3.62%\n",
      "  14590  6430        0.4492     6        0.4562        0.4397    37455    3.62%           rho_1 D  14590  14589     79\n",
      "  16276  7293        0.4512     4        0.4562        0.4397    42508    3.62%           rho_8 U  16276  16274     37\n",
      "  17984  8237        0.4402     9        0.4562        0.4400    46388    3.56%           rho_0 D  17984  17982     57\n",
      "  23448 12224        0.4495     4        0.4562        0.4403    60601    3.49%           rho_0 D  23448  23447     71\n",
      "Elapsed time = 3.34 sec. (3101.54 ticks, tree = 3.28 MB, solutions = 3)\n",
      "  31252 17050        0.4522     4        0.4562        0.4403    71325    3.48%           rho_6 U  31252  31250     54\n",
      "  39458 21954        0.4499     4        0.4562        0.4405    82403    3.46%           rho_6 U  39458  39457     76\n",
      "  47828 27050        0.4499     4        0.4562        0.4405    93939    3.46%           rho_6 U  47828  47826     66\n",
      "  57210 33408        0.4438     1        0.4562        0.4405   106542    3.46%           rho_0 D  57210  57209     65\n",
      "  67249 40704        0.4484     1        0.4562        0.4405   120227    3.46%           rho_0 D  67249  67248     77\n",
      "  77080 47621        0.4518     4        0.4562        0.4405   133870    3.45%           rho_0 D  77080  77078    113\n",
      "  86260 53154        0.4419     3        0.4562        0.4405   147295    3.45%           rho_4 D  86260  86259     85\n",
      "  95462 58659        0.4415     1        0.4562        0.4405   161712    3.45%           rho_4 U  95462  95460     49\n",
      " 104765 64298        0.4524     1        0.4562        0.4405   176132    3.45%           rho_6 U 104765 104764     78\n",
      " 113388 68851        0.4415     1        0.4562        0.4405   189892    3.45%           rho_4 U 113388 113386     33\n",
      "Elapsed time = 11.05 sec. (12639.14 ticks, tree = 20.49 MB, solutions = 3)\n",
      " 121706 73385        0.4419     3        0.4562        0.4406   203695    3.44%           rho_9 D 121706 121705     65\n",
      " 130725 78850        0.4415     1        0.4562        0.4406   217826    3.44%           rho_4 U 130725 130723     83\n",
      " 139750 83849        0.4415     1        0.4562        0.4406   231576    3.44%           rho_4 U 139750 139748    113\n",
      " 148735 88784        0.4461     1        0.4562        0.4406   244643    3.43%           rho_6 U 148735 148734     48\n",
      " 157386 93653        0.4485     4        0.4562        0.4408   258309    3.39%           rho_6 D 157386 157384    107\n",
      " 166776 100584        0.4546     4        0.4562        0.4408   272575    3.38%           rho_6 U 166776 166775    112\n",
      " 175130 105357        0.4510     1        0.4562        0.4410   286588    3.35%           rho_6 U 175130 175129     53\n",
      " 183278 110573        0.4449     1        0.4562        0.4411   298389    3.32%           rho_6 N 183278 183277     39\n",
      " 190370 115665        0.4472     8        0.4562        0.4412   312306    3.31%           rho_0 D 190370 190368     88\n",
      " 196367 120468        0.4541     3        0.4562        0.4412   328011    3.31%           rho_0 U 196367 196365     55\n",
      "Elapsed time = 19.02 sec. (22177.06 ticks, tree = 31.93 MB, solutions = 3)\n",
      " 202160 124970        0.4503     5        0.4562        0.4412   343511    3.31%           rho_0 U 202160 202159     78\n",
      " 208053 129089        0.4526     5        0.4562        0.4412   359338    3.31%           rho_0 U 208053 208051     75\n",
      " 213469 132291        0.4422     8        0.4562        0.4412   375285    3.31%           rho_5 U 213469 213467     83\n",
      " 218926 135426        0.4488     8        0.4562        0.4412   391098    3.31%           rho_6 D 218926 218924     74\n",
      " 224430 138560        0.4505     5        0.4562        0.4412   406940    3.31%           rho_0 U 224430 224429     89\n",
      " 229913 141767        0.4431     8        0.4562        0.4412   422665    3.31%           rho_6 U 229913 229911     60\n",
      " 235451 145011        0.4462     8        0.4562        0.4412   438675    3.31%           rho_0 D 235451 235450     67\n",
      " 241120 148214        0.4421     8        0.4562        0.4412   453940    3.30%           rho_8 U 241120 241118     69\n",
      " 246564 151512        0.4474     7        0.4562        0.4412   467818    3.30%           rho_6 D 246564 246562     32\n",
      " 251718 154555        0.4422     8        0.4562        0.4412   483163    3.30%           rho_5 N 251718 218905     63\n",
      "Elapsed time = 25.31 sec. (31715.38 ticks, tree = 42.46 MB, solutions = 3)\n",
      " 256930 157628        0.4515     5        0.4562        0.4412   498530    3.30%           rho_0 U 256930 256929     67\n",
      " 262169 160669        0.4503     5        0.4562        0.4412   514074    3.30%           rho_0 N 262169 262168     78\n",
      " 267420 163413        0.4518     5        0.4562        0.4413   528682    3.27%           rho_7 D 267420 267419     63\n",
      " 273351 166745        0.4442     1        0.4562        0.4414   542528    3.26%           rho_6 U 273351 273349     66\n",
      " 280790 170907        0.4546     4        0.4562        0.4414   552208    3.26%           rho_6 U 280790 280789     90\n",
      " 287532 174837        0.4436     5        0.4562        0.4414   562911    3.26%           rho_6 D 287532 287530     57\n",
      " 294532 178877        0.4443     8        0.4562        0.4414   573228    3.24%           rho_0 D 294532 294531     29\n",
      " 302613 183589        0.4546     1        0.4562        0.4415   584454    3.24%           rho_9 D 302613 302612     89\n",
      " 311383 187895        0.4415     1        0.4562        0.4415   596499    3.24%           rho_0 U 311383 103312     60\n",
      " 320390 193256        0.4475     1        0.4562        0.4415   608305    3.24%           rho_0 D 320390 320387    101\n",
      "Elapsed time = 32.97 sec. (41253.08 ticks, tree = 54.80 MB, solutions = 3)\n",
      " 329223 197148        0.4479     1        0.4562        0.4415   620879    3.24%           rho_6 U 329223 329222     74\n",
      " 337156 201480        0.4415     1        0.4562        0.4415   632643    3.24%           rho_0 U 337156 337110     96\n",
      " 345101 205780        0.4524     1        0.4562        0.4415   644440    3.24%           rho_6 U 345101 345100     68\n",
      " 353689 210530        cutoff              0.4562        0.4415   656837    3.24%           rho_0 U 353689 353687     98\n",
      " 362426 215459        0.4429     3        0.4562        0.4415   669975    3.24%           rho_4 D 362426 362425     65\n",
      " 371420 220779        0.4415     1        0.4562        0.4415   683868    3.24%           rho_4 U 371420 371369     51\n",
      " 380114 225563        0.4506     1        0.4562        0.4415   697297    3.24%           rho_0 D 380114 380112    107\n",
      " 388782 230181        0.4506     1        0.4562        0.4415   709870    3.24%           rho_0 D 388782 388781    103\n",
      " 397445 234681        0.4442     1        0.4562        0.4415   722417    3.24%           rho_6 N 397445 397444     76\n",
      " 406364 239823        cutoff              0.4562        0.4415   735743    3.24%           rho_0 U 406364 406363     95\n",
      "Elapsed time = 40.61 sec. (50790.73 ticks, tree = 67.55 MB, solutions = 3)\n",
      " 414978 244270        cutoff              0.4562        0.4415   748286    3.24%           rho_0 U 414978 414977    101\n",
      " 423510 248750        0.4461     1        0.4562        0.4415   760693    3.24%           rho_6 U 423510 423509     95\n",
      " 432960 253213        0.4533     1        0.4562        0.4415   774027    3.24%           rho_0 D 432960 432959     91\n",
      " 440893 257389        0.4466     1        0.4562        0.4415   785375    3.24%           rho_0 D 440893 440892     73\n",
      " 449480 262585        0.4550     1        0.4562        0.4415   798280    3.24%           rho_6 U 449480 449479     74\n",
      " 458546 267741        cutoff              0.4562        0.4415   812251    3.24%           rho_6 D 458546 458544    116\n",
      " 467270 272434        0.4457     1        0.4562        0.4415   824977    3.24%           rho_0 D 467270 467269     51\n",
      " 476346 277690        0.4452     1        0.4562        0.4415   838609    3.24%           rho_6 U 476346 476345     71\n",
      " 485136 282342        0.4549     3        0.4562        0.4415   852227    3.24%          rho_10 D 485136 485135    116\n",
      " 494094 286201        cutoff              0.4562        0.4415   866120    3.24%           rho_0 U 494094 494093    107\n",
      "Elapsed time = 46.70 sec. (60328.85 ticks, tree = 80.75 MB, solutions = 3)\n",
      " 503272 289564        cutoff              0.4562        0.4415   880592    3.24%          rho_10 U 503272 503270    103\n",
      " 512528 293188        0.4461     1        0.4562        0.4415   895034    3.24%           rho_6 U 512528 512527     94\n",
      " 522529 298056        0.4415     1        0.4562        0.4415   910781    3.24%           rho_9 U 522529 522439     97\n",
      " 532337 302571        0.4424     3        0.4562        0.4415   926173    3.24%           rho_6 U 532337 532336     92\n",
      " 542252 307359        0.4415     1        0.4562        0.4415   941869    3.24%           rho_4 U 542252 542250    105\n",
      " 551538 311170        0.4461     1        0.4562        0.4415   956086    3.24%           rho_6 U 551538 551537    110\n",
      " 560584 315799        0.4415     1        0.4562        0.4415   970310    3.24%           rho_0 D 560584 560583     72\n",
      " 568810 319808        0.4415     3        0.4562        0.4415   982648    3.24%           rho_5 D 568810 294008     40\n",
      " 575870 324197        0.4494     1        0.4562        0.4415   993667    3.23%           rho_9 D 575870 575869    101\n",
      " 582831 327889        0.4424     1        0.4562        0.4415  1004157    3.23%           rho_5 U 582831 582829     47\n",
      "Elapsed time = 53.78 sec. (69866.26 ticks, tree = 93.52 MB, solutions = 3)\n",
      " 591186 330094        0.4448     1        0.4562        0.4415  1018991    3.23%           rho_9 D 591186 591185     69\n",
      " 599994 334706        0.4429     3        0.4562        0.4415  1033682    3.23%           rho_4 D 599994 599993     95\n",
      " 606877 338411        0.4415     3        0.4562        0.4415  1044941    3.23%           rho_4 U 606877 350609     67\n",
      " 614178 342042        0.4543     1        0.4562        0.4415  1056967    3.23%           rho_0 D 614178 614177     87\n",
      " 621001 345530        0.4458     1        0.4562        0.4415  1068378    3.23%           rho_0 D 621001 620999     95\n",
      " 629973 349767        0.4425     1        0.4562        0.4415  1083319    3.23%           rho_4 U 629973 629971     75\n",
      " 639569 354166        0.4415     3        0.4562        0.4415  1099181    3.23%           rho_4 U 639569 350686     73\n",
      " 649068 358652        0.4556     1        0.4562        0.4415  1114859    3.23%           rho_0 N 649068 649067    111\n",
      " 657844 362058        0.4429     3        0.4562        0.4415  1129666    3.23%           rho_4 D 657844 657843     85\n",
      " 667242 366303        0.4547     1        0.4562        0.4415  1145251    3.23%           rho_6 U 667242 667241    108\n",
      "Elapsed time = 60.56 sec. (79403.65 ticks, tree = 102.03 MB, solutions = 3)\n",
      " 676452 370335        0.4425     1        0.4562        0.4416  1161675    3.22%           rho_0 D 676452 676451     94\n",
      " 685604 375032        cutoff              0.4562        0.4416  1176674    3.21%           rho_0 U 685604 685603     23\n",
      " 692540 378757        0.4462     1        0.4562        0.4417  1188873    3.20%           rho_6 U 692540 692539     91\n",
      " 697649 381800        0.4437     8        0.4562        0.4417  1204896    3.20%           rho_6 U 697649 697647     77\n",
      " 703265 385441        0.4520     4        0.4562        0.4417  1217562    3.18%           rho_0 D 703265 703263     56\n",
      " 709700 390400        0.4472     6        0.4562        0.4418  1231629    3.17%           rho_6 U 709700 709699     70\n",
      " 716164 395564        0.4466     6        0.4562        0.4418  1246052    3.17%           rho_0 D 716164 716163     61\n",
      " 723130 401261        0.4439     6        0.4562        0.4418  1261456    3.17%           rho_0 N 723130 723129     63\n",
      " 729982 406588        0.4497     6        0.4562        0.4418  1277368    3.17%           rho_0 D 729982 729981     75\n",
      " 758586 423386        0.4534     5        0.4562        0.4418  1333577    3.16%           rho_3 D 758586 758583     64\n",
      "Elapsed time = 68.66 sec. (91802.25 ticks, tree = 118.95 MB, solutions = 3)\n",
      " 788200 438389        0.4530     6        0.4562        0.4419  1393729    3.14%           rho_6 D 788200 788199    110\n",
      " 827293 456065        0.4448     1        0.4562        0.4420  1459436    3.13%           rho_6 N 827293 827292     57\n",
      " 866011 474295        0.4429     1        0.4562        0.4420  1521989    3.13%           rho_0 D 866011 866010     88\n",
      " 895740 490817        0.4557     1        0.4562        0.4420  1564848    3.11%           rho_6 U 895740 895739     52\n",
      " 920367 505363        0.4420     1        0.4562        0.4420  1596930    3.11%           rho_8 D 920367 920366     69\n",
      " 945818 521763        0.4431    10        0.4562        0.4421  1634397    3.10%           rho_0 D 945818 945816     74\n",
      " 972149 538180        0.4488     1        0.4562        0.4421  1672365    3.10%           rho_6 U 972149 972148     34\n",
      " 996678 553154        0.4510    10        0.4562        0.4421  1717313    3.09%           rho_0 D 996678 996677     42\n",
      " 1020300 569676        0.4422     8        0.4562        0.4422  1771508    3.09%           rho_0 D 1020300 1020298     90\n",
      " 1042471 586641        0.4479     7        0.4562        0.4422  1830147    3.09%           rho_6 D 1042471 1042470     75\n",
      "Elapsed time = 91.55 sec. (129950.38 ticks, tree = 167.59 MB, solutions = 3)\n",
      " 1064400 603881        0.4432     8        0.4562        0.4422  1889574    3.09%           rho_5 U 1064400 1064398    100\n",
      " 1086430 621214        0.4513     5        0.4562        0.4422  1947888    3.09%           rho_0 U 1086430 1086429    104\n",
      " 1108781 638447        0.4432     8        0.4562        0.4422  2005567    3.09%           rho_0 D 1108781 1108779     96\n",
      " 1131061 655510        0.4432     8        0.4562        0.4422  2064506    3.09%           rho_5 U 1131061 1131059     61\n",
      " 1153290 673102        0.4432     8        0.4562        0.4422  2123050    3.09%           rho_0 D 1153290 1153288     84\n",
      " 1175500 690678        0.4432     8        0.4562        0.4422  2180777    3.09%           rho_5 U 1175500 1175498     95\n",
      " 1197960 708172        0.4432     8        0.4562        0.4422  2238448    3.09%           rho_5 U 1197960 1197958     91\n",
      " 1220154 725717        0.4534     8        0.4562        0.4422  2296385    3.09%           rho_6 D 1220154 1220152    113\n",
      " 1242434 743000        0.4433     9        0.4562        0.4422  2354399    3.09%           rho_5 D 1242434 1242433    103\n",
      " 1264918 760567        0.4491     8        0.4562        0.4422  2413528    3.09%           rho_6 D 1264918 1264917    101\n",
      "Elapsed time = 115.23 sec. (168099.26 ticks, tree = 213.38 MB, solutions = 3)\n",
      " 1287850 778579        0.4432     8        0.4562        0.4422  2471655    3.09%           rho_0 D 1287850 1287848     54\n",
      " 1310347 796291        0.4422     8        0.4562        0.4422  2530244    3.09%           rho_5 U 1310347 1310345     89\n",
      " 1332987 813532        0.4433     9        0.4562        0.4422  2589144    3.09%           rho_5 D 1332987 1332986     89\n",
      " 1355431 831175        0.4423     9        0.4562        0.4422  2647678    3.09%           rho_5 D 1355431 1355429     71\n",
      " 1377834 849054        0.4501     8        0.4562        0.4422  2707002    3.09%           rho_6 D 1377834 1377833    101\n",
      " 1400361 863906        0.4432     8        0.4562        0.4422  2761028    3.08%           rho_5 U 1400361 1400359     87\n",
      " 1421505 878915        0.4432     8        0.4562        0.4422  2816584    3.08%           rho_0 D 1421505 1421503    104\n",
      " 1442892 892289        0.4440     8        0.4562        0.4422  2876720    3.07%           rho_6 U 1442892 1442889     50\n",
      " 1464730 908921        0.4432     8        0.4562        0.4422  2935740    3.07%           rho_5 U 1464730 1464728     89\n",
      " 1487301 922925        0.4520     8        0.4562        0.4423  3002899    3.05%           rho_6 U 1487301 1487299     88\n",
      "Elapsed time = 139.08 sec. (206248.22 ticks, tree = 258.15 MB, solutions = 3)\n",
      " 1509250 934583        0.4491     6        0.4562        0.4423  3070189    3.05%           rho_2 D 1509250 1509249     82\n",
      " 1532000 950458        0.4446     4        0.4562        0.4423  3131883    3.05%           rho_0 D 1532000 1531999     30\n",
      " 1563203 964134        cutoff              0.4562        0.4424  3180037    3.04%           rho_0 U 1563203 1563201    101\n",
      " 1601725 980893        0.4457     1        0.4562        0.4424  3230071    3.04%           rho_0 D 1601725 1601724     55\n",
      " 1636746 993417        0.4479     1        0.4562        0.4424  3277777    3.04%           rho_6 U 1636746 1636745     90\n",
      " 1673602 1008167        0.4489     1        0.4562        0.4424  3326426    3.04%           rho_6 U 1673602 1673601    104\n",
      " 1710099 1022851        cutoff              0.4562        0.4424  3374608    3.04%           rho_0 U 1710099 1710098    101\n",
      " 1744511 1035049        0.4438     1        0.4562        0.4424  3421462    3.04%           rho_0 N 1744511 1744509     93\n",
      " 1777799 1046162        0.4438     1        0.4562        0.4424  3467400    3.04%           rho_0 D 1777799 1777797    107\n",
      " 1814793 1061597        cutoff              0.4562        0.4424  3515986    3.04%           rho_0 U 1814793 1814791    109\n",
      "Elapsed time = 162.78 sec. (244395.86 ticks, tree = 299.40 MB, solutions = 3)\n",
      " 1852579 1077967        0.4537     1        0.4562        0.4424  3565385    3.04%           rho_6 U 1852579 1852578     90\n",
      " 1885931 1089459        0.4523     4        0.4562        0.4424  3611686    3.04%           rho_6 D 1885931 1885929     94\n",
      " 1922876 1104984        0.4433     1        0.4562        0.4424  3660714    3.04%           rho_6 N 1922876 134465    109\n",
      " 1953278 1119431        0.4433     4        0.4562        0.4424  3713838    3.04%           rho_9 D 1953278 1953277     46\n",
      " 1975855 1135741        0.4442     7        0.4562        0.4424  3749164    3.04%           rho_4 D 1975855 1975853     54\n",
      " 1998496 1151180        0.4558     3        0.4562        0.4424  3786208    3.03%          rho_19 N 1998496 1998494     57\n",
      " 2024996 1164324        0.4549     5        0.4562        0.4424  3839633    3.03%           rho_0 U 2024996 2024994     90\n",
      " 2053626 1177530        0.4424     8        0.4562        0.4424  3905639    3.03%           rho_8 U 2053626 2053619     56\n",
      " 2079132 1192314        cutoff              0.4562        0.4424  3943065    3.03%           rho_0 U 2079132 2079130     75\n",
      " 2103251 1206051        0.4500     1        0.4562        0.4424  3981907    3.03%           rho_0 D 2103251 2103250     62\n",
      "Elapsed time = 185.86 sec. (282543.70 ticks, tree = 344.55 MB, solutions = 3)\n",
      " 2139006 1222091        0.4434     1        0.4562        0.4424  4027469    3.03%           rho_0 D 2139006 2139004     82\n",
      " 2166750 1234581        0.4459     9        0.4562        0.4425  4078437    3.02%           rho_6 U 2166750 2166748     78\n",
      " 2193900 1248422        0.4434     3        0.4562        0.4425  4122424    3.02%           rho_6 U 2193900 2193899     68\n",
      " 2223701 1263171        0.4495     1        0.4562        0.4425  4167939    3.02%           rho_9 D 2223701 2223700    101\n",
      " 2253799 1278049        0.4489     1        0.4562        0.4425  4212510    3.02%           rho_6 U 2253799 2253798     84\n",
      " 2282335 1292304        0.4425     1        0.4562        0.4425  4256033    3.02%           rho_9 U 2282335 2281774     43\n",
      "\n",
      "User cuts applied:  280\n",
      "\n",
      "Root node processing (before b&c):\n",
      "  Real time             =    0.20 sec. (1.58 ticks)\n",
      "Sequential b&c:\n",
      "  Real time             =  199.81 sec. (306857.15 ticks)\n",
      "                          ------------\n",
      "Total (root+branch&cut) =  200.02 sec. (306858.73 ticks)\n",
      "+----------------------------------------------+------------------+-----------+\n",
      "| Pr(Y = +1) = 1.0/(1.0 + exp(-(-3 + score))   |                  |           |\n",
      "| ============================================ | ================ | ========= |\n",
      "| age_at_current_charge<=30.0                  |         1 points |   + ..... |\n",
      "| p_charges>=5                                 |         1 points |   + ..... |\n",
      "| p_jail30>=1                                  |         1 points |   + ..... |\n",
      "| ============================================ | ================ | ========= |\n",
      "| ADD POINTS FROM ROWS 1 to 3                  |            SCORE |   = ..... |\n",
      "+----------------------------------------------+------------------+-----------+\n"
     ]
    }
   ],
   "source": [
    "riskslim_summary = slim.risk_cv(sub_KY_X, KY_Y, sub_FL_X, FL_Y, \n",
    "                                y_label = 'general2', \n",
    "                                max_coef = 20, \n",
    "                                max_coef_number = 10, \n",
    "                                max_runtime=200, \n",
    "                                c=1e-3, \n",
    "                                seed=816)"
   ]
  },
  {
   "cell_type": "code",
   "execution_count": 15,
   "metadata": {},
   "outputs": [
    {
     "data": {
      "text/plain": [
       "[0.5986665619592781]"
      ]
     },
     "execution_count": 15,
     "metadata": {},
     "output_type": "execute_result"
    }
   ],
   "source": [
    "riskslim_summary['KY_auc']"
   ]
  },
  {
   "cell_type": "markdown",
   "metadata": {},
   "source": [
    "### Corel"
   ]
  },
  {
   "cell_type": "code",
   "execution_count": 2,
   "metadata": {},
   "outputs": [],
   "source": [
    "KY_stumps = pd.read_csv(\"~/Documents/Duke/Cynthia Research/psa-analysis - test/kentucky/models/ky_fl_combined/data preparation/KY_stumps\")\n",
    "FL_stumps = pd.read_csv(\"~/Documents/Duke/Cynthia Research/psa-analysis - test/kentucky/models/ky_fl_combined/data preparation/FL_stumps\")\n",
    "\n",
    "## split x and y \n",
    "KY_X = KY_stumps.loc[:,:'current_violence>=1']\n",
    "KY_Y = KY_stumps['recid_F_two_year'].values\n",
    "FL_X = FL_stumps.loc[:,:'current_violence>=1']\n",
    "FL_Y = FL_stumps['recid_F_two_year'].values"
   ]
  },
  {
   "cell_type": "code",
   "execution_count": 3,
   "metadata": {},
   "outputs": [],
   "source": [
    "KY_score, FL_score = Corel.corel_cv(KY_X, KY_Y, FL_X, FL_Y, max_card=2, c=1e-3, seed=816)"
   ]
  },
  {
   "cell_type": "code",
   "execution_count": 16,
   "metadata": {},
   "outputs": [
    {
     "name": "stdout",
     "output_type": "stream",
     "text": [
      "Stored 'summary_general2_fl_inter_model' (dict)\n"
     ]
    }
   ],
   "source": [
    "#### save results\n",
    "summary_F2_fl_inter_model = {\"CART\": cart_summary,\n",
    "                                    \"EBM\": ebm_summary,\n",
    "                                    \"Stumps\": stumps_summary,\n",
    "                                    \"RiskSLIM\": riskslim_summary, \n",
    "                                   \"Corel\": KY_score}\n",
    "%store summary_F2_fl_inter_model"
   ]
  },
  {
   "cell_type": "code",
   "execution_count": 17,
   "metadata": {},
   "outputs": [],
   "source": [
    "path = \"C:\\\\Users\\\\binha\\\\Documents\\\\Duke\\\\Cynthia Research\\\\KY-analysis-mytrials\\\\KY Recidivism\\\\KY Results\\\\KY_FL\\\\FL Model\\\\interpretable\\\\Two Year\\\\\"\n",
    "results = [[\"Felony\",             \n",
    "            round(cart_summary['KY_score'],3), \n",
    "            round(ebm_summary['KY_score'], 3), \n",
    "            round(stumps_summary['KY_score'],3), \n",
    "            round(riskslim_summary['KY_auc'][0], 3), \n",
    "            round(KY_score, 3)]]\n",
    "with open(path + 'Two Year FL_inter_model.csv', 'a') as writeFile:\n",
    "    writer = csv.writer(writeFile)\n",
    "    writer.writerows(results)"
   ]
  }
 ],
 "metadata": {
  "kernelspec": {
   "display_name": "Python 3",
   "language": "python",
   "name": "python3"
  },
  "language_info": {
   "codemirror_mode": {
    "name": "ipython",
    "version": 3
   },
   "file_extension": ".py",
   "mimetype": "text/x-python",
   "name": "python",
   "nbconvert_exporter": "python",
   "pygments_lexer": "ipython3",
   "version": "3.7.4"
  }
 },
 "nbformat": 4,
 "nbformat_minor": 4
}
