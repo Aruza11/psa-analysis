{
 "cells": [
  {
   "cell_type": "code",
   "execution_count": 1,
   "metadata": {},
   "outputs": [
    {
     "name": "stdout",
     "output_type": "stream",
     "text": [
      "Current working directory is now:  C:\\Users\\binha\\Documents\\Duke\\Cynthia Research\\psa-analysis - test2\\kentucky\\ky_fl_combined\\FL Model\n"
     ]
    },
    {
     "name": "stderr",
     "output_type": "stream",
     "text": [
      "C:\\Users\\binha\\Anaconda3\\lib\\site-packages\\sklearn\\externals\\six.py:31: DeprecationWarning:\n",
      "\n",
      "The module is deprecated in version 0.21 and will be removed in version 0.23 since we've dropped support for Python 2.7. Please rely on the official version of six (https://pypi.org/project/six/).\n",
      "\n"
     ]
    }
   ],
   "source": [
    "import os \n",
    "os.chdir('../../')\n",
    "print(\"Current working directory is now: \", os.getcwd())\n",
    "\n",
    "import pandas as pd \n",
    "import numpy as np\n",
    "import csv\n",
    "\n",
    "import FL_utils.FL_interpretable_functions as interpret\n",
    "import FL_utils.FL_RiskSLIM as slim\n",
    "import FL_utils.FL_stumps as stumps\n",
    "import FL_utils.FL_Corel as Corel\n",
    "\n",
    "# restore saved variables\n",
    "%store -r summary_property6_fl_inter_model"
   ]
  },
  {
   "cell_type": "markdown",
   "metadata": {},
   "source": [
    "### EBM & CART"
   ]
  },
  {
   "cell_type": "code",
   "execution_count": 2,
   "metadata": {},
   "outputs": [],
   "source": [
    "KY_data = pd.read_csv(\"~/Documents/Duke/Cynthia Research/psa-analysis - test/kentucky/models/ky_fl_combined/data preparation/KY_cleaned\")\n",
    "FL_data = pd.read_csv(\"~/Documents/Duke/Cynthia Research/psa-analysis - test/kentucky/models/ky_fl_combined/data preparation/FL_cleaned\")\n",
    "\n",
    "## split x and y \n",
    "KY_X = KY_data.loc[:,:'current_violence']\n",
    "KY_Y = KY_data['recid_property_six_month'].values\n",
    "FL_X = FL_data.loc[:,:'current_violence']\n",
    "FL_Y = FL_data['recid_property_six_month'].values"
   ]
  },
  {
   "cell_type": "code",
   "execution_count": 3,
   "metadata": {},
   "outputs": [],
   "source": [
    "#### CART\n",
    "depth = [1,2]\n",
    "impurity = [0.001, 0.003]\n",
    "split = [2,3,4]\n",
    "cart_summary = advance.CART(KY_X, KY_Y, FL_X, FL_Y, depth, split, impurity, seed=816)\n",
    "\n",
    "### EBM\n",
    "estimators = [40,60]\n",
    "depth = [1]\n",
    "learning_rate = [0.01, 0.03]\n",
    "holdout_split = [0.9]\n",
    "ebm_summary = advance.EBM(KY_X, KY_Y, FL_X, FL_Y, learning_rate, depth, estimators, holdout_split, seed=816)"
   ]
  },
  {
   "cell_type": "code",
   "execution_count": 4,
   "metadata": {},
   "outputs": [
    {
     "data": {
      "text/plain": [
       "(0.5020859972749186, 0.632085901198337)"
      ]
     },
     "execution_count": 4,
     "metadata": {},
     "output_type": "execute_result"
    }
   ],
   "source": [
    "cart_summary['KY_score'], ebm_summary['KY_score']"
   ]
  },
  {
   "cell_type": "markdown",
   "metadata": {},
   "source": [
    "### Lasso Stumps"
   ]
  },
  {
   "cell_type": "code",
   "execution_count": 5,
   "metadata": {},
   "outputs": [],
   "source": [
    "KY_stumps = pd.read_csv(\"~/Documents/Duke/Cynthia Research/psa-analysis - test/kentucky/models/ky_fl_combined/data preparation/KY_stumps\")\n",
    "FL_stumps = pd.read_csv(\"~/Documents/Duke/Cynthia Research/psa-analysis - test/kentucky/models/ky_fl_combined/data preparation/FL_stumps\")\n",
    "\n",
    "## split x and y \n",
    "KY_X = KY_stumps.loc[:,:'current_violence>=1']\n",
    "KY_Y = KY_stumps['recid_property_six_month'].values\n",
    "FL_X = FL_stumps.loc[:,:'current_violence>=1']\n",
    "FL_Y = FL_stumps['recid_property_six_month'].values\n",
    "\n",
    "## columns \n",
    "cols = KY_X.columns"
   ]
  },
  {
   "cell_type": "code",
   "execution_count": 19,
   "metadata": {},
   "outputs": [],
   "source": [
    "c_grid = {'C':[0.03, 0.05, 0.07]}\n",
    "stumps_summary = stumps.stump_cv(KY_X, KY_Y, FL_X, FL_Y, cols, c_grid, seed=816)"
   ]
  },
  {
   "cell_type": "code",
   "execution_count": 20,
   "metadata": {},
   "outputs": [
    {
     "data": {
      "text/plain": [
       "{'best_auc': 0.6820553427559057,\n",
       " 'best_params': {'C': 0.07},\n",
       " 'auc_diffs': 0.09177252058620788,\n",
       " 'KY_score': 0.6174834748279356}"
      ]
     },
     "execution_count": 20,
     "metadata": {},
     "output_type": "execute_result"
    }
   ],
   "source": [
    "stumps_summary"
   ]
  },
  {
   "cell_type": "markdown",
   "metadata": {},
   "source": [
    "### RiskSLIM"
   ]
  },
  {
   "cell_type": "code",
   "execution_count": 21,
   "metadata": {},
   "outputs": [
    {
     "data": {
      "text/plain": [
       "28"
      ]
     },
     "execution_count": 21,
     "metadata": {},
     "output_type": "execute_result"
    }
   ],
   "source": [
    "## train on best param chosen by Lasso Stumps from above\n",
    "lasso = LogisticRegression(class_weight='balanced', solver='liblinear', penalty='l1', C=0.07, random_state=816).fit(FL_X, FL_Y)\n",
    "selected_features = cols[lasso.coef_[0] != 0].tolist()\n",
    "len(selected_features)"
   ]
  },
  {
   "cell_type": "code",
   "execution_count": 22,
   "metadata": {},
   "outputs": [],
   "source": [
    "### Subset features\n",
    "sub_FL_X = FL_stumps.loc[:, selected_features]\n",
    "sub_KY_X = KY_stumps.loc[:, selected_features]\n",
    "sub_FL_X.insert(0, '(Intercept)', 1)"
   ]
  },
  {
   "cell_type": "code",
   "execution_count": 23,
   "metadata": {
    "scrolled": true
   },
   "outputs": [
    {
     "name": "stdout",
     "output_type": "stream",
     "text": [
      "setting c0 = 0.0 to ensure that intercept is not penalized\n",
      "09/17/19 @ 01:28 PM | 1221 rows in lookup table\n",
      "09/17/19 @ 01:28 PM | ------------------------------------------------------------\n",
      "09/17/19 @ 01:28 PM | runnning initialization procedure\n",
      "09/17/19 @ 01:28 PM | ------------------------------------------------------------\n",
      "09/17/19 @ 01:28 PM | CPA produced 2 cuts\n",
      "09/17/19 @ 01:28 PM | running naive rounding on 87 solutions\n",
      "09/17/19 @ 01:28 PM | best objective value: 0.1815\n",
      "09/17/19 @ 01:28 PM | rounding produced 5 integer solutions\n",
      "09/17/19 @ 01:28 PM | best objective value is 0.1968\n",
      "09/17/19 @ 01:28 PM | running sequential rounding on 87 solutions\n",
      "09/17/19 @ 01:28 PM | best objective value: 0.1815\n",
      "09/17/19 @ 01:28 PM | sequential rounding produced 6 integer solutions\n",
      "09/17/19 @ 01:28 PM | best objective value: 0.1889\n",
      "09/17/19 @ 01:28 PM | polishing 11 solutions\n",
      "09/17/19 @ 01:28 PM | best objective value: 0.1889\n",
      "09/17/19 @ 01:28 PM | polishing produced 5 integer solutions\n",
      "09/17/19 @ 01:28 PM | initialization produced 11 feasible solutions\n",
      "09/17/19 @ 01:28 PM | best objective value: 0.1889\n",
      "09/17/19 @ 01:28 PM | ------------------------------------------------------------\n",
      "09/17/19 @ 01:28 PM | completed initialization procedure\n",
      "09/17/19 @ 01:28 PM | ------------------------------------------------------------\n",
      "09/17/19 @ 01:28 PM | 1221 rows in lookup table\n",
      "CPXPARAM_Read_DataCheck                          1\n",
      "CPXPARAM_Threads                                 1\n",
      "CPXPARAM_Parallel                                1\n",
      "CPXPARAM_RandomSeed                              0\n",
      "CPXPARAM_TimeLimit                               200\n",
      "CPXPARAM_MIP_Tolerances_LowerCutoff              0.18100742835110575\n",
      "CPXPARAM_MIP_Tolerances_UpperCutoff              0.18890116382823213\n"
     ]
    },
    {
     "name": "stderr",
     "output_type": "stream",
     "text": [
      "Warning: Control callbacks may disable some MIP features.\n"
     ]
    },
    {
     "name": "stdout",
     "output_type": "stream",
     "text": [
      "Lazy constraint(s) or lazy constraint callback is present.\n",
      "    Disabling dual reductions (CPX_PARAM_REDUCE) in presolve.\n",
      "    Disabling non-linear reductions (CPX_PARAM_PRELINEAR) in presolve.\n",
      "         Disabling repeat represolve because of lazy constraint/incumbent callback.\n",
      "09/17/19 @ 01:28 PM | adding 249 initial cuts\n",
      "1 of 1 MIP starts provided solutions.\n",
      "MIP start 'mip_start_0' defined initial solution with objective 0.1889.\n",
      "Tried aggregator 1 time.\n",
      "Reduced MIP has 30 rows, 60 columns, and 115 nonzeros.\n",
      "Reduced MIP has 28 binaries, 30 generals, 0 SOSs, and 0 indicators.\n",
      "Presolve time = 0.00 sec. (0.06 ticks)\n",
      "Probing time = 0.00 sec. (0.02 ticks)\n",
      "MIP emphasis: balance optimality and feasibility.\n",
      "MIP search method: traditional branch-and-cut.\n",
      "Parallel mode: none, using 1 thread.\n",
      "Root relaxation solution time = 0.00 sec. (0.04 ticks)\n",
      "\n",
      "        Nodes                                         Cuts/\n",
      "   Node  Left     Objective  IInf  Best Integer    Best Bound    ItCnt     Gap         Variable B NodeID Parent  Depth\n",
      "\n",
      "*     0+    0                            0.1889        0.1710             9.47%\n",
      "      0     0        0.1810     1        0.1889        0.1810        1    4.18%\n",
      "      0     0        0.1810     2        0.1889    MIRcuts: 1        2    4.18%\n",
      "      0     0        0.1810     2        0.1889    MIRcuts: 1        3    4.18%\n",
      "      0     2        0.1810     5        0.1889        0.1810        3    4.18%                        0             0\n",
      "Elapsed time = 0.13 sec. (1.93 ticks, tree = 0.01 MB, solutions = 1)\n",
      "   2659  1118        cutoff              0.1889        0.1810    11986    4.18%           rho_3 D   2659   2658     15\n",
      "   4310  1722        0.1820    11        0.1889        0.1810    20498    4.18%           rho_1 U   4310   4309     14\n",
      "   5660  2280        0.1834    10        0.1889        0.1810    27620    4.18%           rho_8 D   5660   5659     16\n",
      "   6874  2840        0.1887     4        0.1889        0.1810    34083    4.18%           rho_7 U   6874   6873     20\n",
      "   8022  3339        0.1889     5        0.1889        0.1810    39788    4.18%          rho_11 D   8022   8021     17\n",
      "   9040  3883        0.1846     5        0.1889        0.1810    45489    4.18%          rho_12 D   9040   9039     27\n",
      "  10115  4425        0.1818    15        0.1889        0.1810    50819    4.18%          rho_13 D  10115  10114     12\n",
      "  11252  5034        0.1862     5        0.1889        0.1812    55553    4.05%          rho_16 D  11252  11250     53\n",
      "  12564  5523        0.1866     3        0.1889        0.1815    60493    3.92%          rho_12 D  12564  12562     22\n",
      "  17577  7841        0.1872     4        0.1889        0.1821    78322    3.58%           rho_3 D  17577  17576     53\n",
      "Elapsed time = 2.86 sec. (3102.86 ticks, tree = 2.15 MB, solutions = 1)\n",
      "  22331  9943        cutoff              0.1889        0.1825    95028    3.40%          rho_27 U  22331  22330     20\n",
      "  26870 11777        0.1830    14        0.1889        0.1827   112304    3.28%           rho_0 D  26870  26315     50\n",
      "  31223 13318        0.1865    15        0.1889        0.1830   129260    3.11%          rho_22 D  31223   1851     16\n",
      "  35689 15167        0.1871     9        0.1889        0.1832   145038    3.02%           rho_0 D  35689  35687     44\n",
      "  39897 16407        0.1878     3        0.1889        0.1834   161549    2.93%          rho_24 U  39897  39896     32\n",
      "  44155 17908        0.1855     9        0.1889        0.1835   177332    2.85%           rho_2 D  44155  44153     14\n",
      "  48053 19188        0.1850     9        0.1889        0.1836   192822    2.80%          rho_27 U  48053  48052     19\n",
      "  51985 20604        0.1863    11        0.1889        0.1837   207160    2.76%           rho_0 D  51985  51983     51\n",
      "  55770 21754        0.1851     7        0.1889        0.1838   221420    2.70%          rho_14 D  55770  55769     19\n",
      "  59709 23343        0.1880     5        0.1889        0.1838   234692    2.68%          rho_10 D  59709  59708     24\n",
      "Elapsed time = 8.73 sec. (12641.93 ticks, tree = 7.02 MB, solutions = 1)\n",
      "  63668 24478        0.1839    12        0.1889        0.1839   248959    2.65%           rho_0 D  63668  63666     39\n",
      "  67516 25751        0.1876     4        0.1889        0.1840   263601    2.61%          rho_14 N  67516  67515     39\n",
      "  71671 27002        0.1878     3        0.1889        0.1841   278616    2.56%          rho_26 D  71671  71670     38\n",
      "  75645 28193        0.1846    12        0.1889        0.1841   293101    2.52%          rho_27 D  75645  61899     50\n",
      "  79534 29341        0.1884     8        0.1889        0.1842   307328    2.49%          rho_27 N  79534  79533     42\n",
      "  83519 30596        0.1861     9        0.1889        0.1843   321096    2.46%          rho_27 D  83519  83517     29\n",
      "  87459 31717        0.1843    13        0.1889        0.1843   334930    2.42%           rho_8 U  87459  87022     20\n",
      "  91306 32781        0.1844    12        0.1889        0.1844   348785    2.38%          rho_27 D  91306  87504     30\n",
      "  95047 33660        0.1856     8        0.1889        0.1845   362433    2.35%           rho_0 U  95047  95046     19\n",
      "  98861 34732        cutoff              0.1889        0.1845   376058    2.32%          rho_26 U  98861  98860     17\n",
      "Elapsed time = 13.94 sec. (22180.23 ticks, tree = 11.25 MB, solutions = 1)\n",
      " 102702 35807        0.1861     9        0.1889        0.1846   388960    2.30%          rho_26 D 102702 102701     32\n",
      " 106532 36637        0.1887     9        0.1889        0.1846   402879    2.28%           rho_0 N 106532 106531     33\n",
      " 110412 37560        0.1848    10        0.1889        0.1846   416811    2.25%          rho_13 D 110412 110410     42\n",
      " 114160 38279        0.1864     6        0.1889        0.1847   430231    2.23%          rho_13 D 114160 114157     20\n",
      " 118165 39363        0.1868    11        0.1889        0.1847   443892    2.21%          rho_26 U 118165  56074     26\n",
      " 121919 40233        0.1863    10        0.1889        0.1848   457705    2.19%          rho_14 U 121919 121918     49\n",
      " 125856 41212        0.1863     8        0.1889        0.1848   472461    2.17%          rho_14 U 125856  38072     38\n",
      " 129755 42208        0.1865     5        0.1889        0.1848   485176    2.15%           rho_0 U 129755 129754     34\n",
      " 133497 43082        0.1860     7        0.1889        0.1849   498492    2.13%          rho_27 U 133497  89211     49\n",
      " 137332 44172        0.1865     7        0.1889        0.1849   511493    2.11%           rho_7 D 137332 137330     32\n",
      "Elapsed time = 18.84 sec. (31719.00 ticks, tree = 13.62 MB, solutions = 1)\n",
      " 141231 45343        cutoff              0.1889        0.1850   524454    2.09%          rho_14 U 141231 141228     48\n",
      " 144957 45972        0.1864    12        0.1889        0.1850   537347    2.07%           rho_8 U 144957 144955     45\n",
      " 148754 46838        cutoff              0.1889        0.1850   550518    2.05%          rho_21 U 148754 148753     45\n",
      " 152451 47554        0.1882     5        0.1889        0.1851   563179    2.03%          rho_27 D 152451 152450     24\n",
      " 156290 48435        0.1884    10        0.1889        0.1851   575727    2.01%           rho_7 N 156290 156289     26\n",
      " 159836 49098        0.1871    10        0.1889        0.1851   588867    1.99%          rho_14 U 159836 159834     25\n",
      " 163512 49857        0.1865    12        0.1889        0.1852   601571    1.97%          rho_14 D 163512 163511     41\n",
      " 167269 50775        0.1863    12        0.1889        0.1852   614684    1.95%          rho_14 D 167269 167268     45\n",
      " 171008 51606        0.1872     7        0.1889        0.1853   628002    1.93%          rho_14 U 171008  43201     47\n",
      " 174637 52195        cutoff              0.1889        0.1853   640972    1.91%          rho_27 U 174637 174636     27\n",
      "Elapsed time = 23.56 sec. (41257.39 ticks, tree = 15.67 MB, solutions = 1)\n",
      " 178488 53132        cutoff              0.1889        0.1853   653955    1.89%          rho_21 U 178488 178487     31\n",
      " 182313 54072        0.1885     5        0.1889        0.1854   666237    1.86%          rho_27 N 182313 182312     42\n",
      " 185951 54736        cutoff              0.1889        0.1854   679087    1.85%           rho_8 D 185951 185949     17\n",
      " 189495 55219        0.1878     9        0.1889        0.1854   691782    1.83%           rho_7 D 189495 189493     40\n",
      " 193400 55811        0.1882     5        0.1889        0.1855   704248    1.81%          rho_10 N 193400 193398     34\n",
      " 196912 56387        cutoff              0.1889        0.1855   716609    1.79%           rho_0 U 196912 196910     40\n",
      " 200554 56781        cutoff              0.1889        0.1856   728914    1.77%           rho_7 U 200554 200553     48\n",
      " 204290 57257        cutoff              0.1889        0.1856   741394    1.76%          rho_14 U 204290 204288     56\n",
      " 208067 58036        0.1879    10        0.1889        0.1856   753938    1.74%          rho_16 N 208067   7526     18\n",
      " 211724 58452        0.1870    12        0.1889        0.1856   766584    1.72%           rho_8 D 211724 211723     21\n",
      "Elapsed time = 28.28 sec. (50795.70 ticks, tree = 17.27 MB, solutions = 1)\n",
      " 215275 58863        0.1878    10        0.1889        0.1857   778862    1.71%          rho_25 N 215275 184854     27\n",
      " 218885 59335        cutoff              0.1889        0.1857   790840    1.69%          rho_10 D 218885 218884     36\n",
      " 222455 59783        0.1864    11        0.1889        0.1857   803555    1.68%          rho_25 D 222455 222453     39\n",
      " 225993 60061        0.1858     9        0.1889        0.1858   815511    1.66%          rho_11 D 225993 207922     26\n",
      " 229510 60339        0.1869     6        0.1889        0.1858   827608    1.64%          rho_13 D 229510 229508     28\n",
      " 233058 60607        0.1866     9        0.1889        0.1858   840574    1.62%          rho_16 D 233058 147326     23\n",
      " 236798 60976        0.1869     8        0.1889        0.1859   853265    1.61%          rho_14 D 236798  99939     41\n",
      " 240616 61277        0.1889     5        0.1889        0.1859   865108    1.59%           rho_0 U 240616 240614     36\n",
      " 244230 61319        0.1889     7        0.1889        0.1859   877529    1.57%           rho_4 D 244230 244228     51\n",
      " 248013 61771        cutoff              0.1889        0.1860   890134    1.56%           rho_8 U 248013 121787     27\n",
      "Elapsed time = 34.05 sec. (60334.37 ticks, tree = 18.13 MB, solutions = 1)\n",
      " 251703 61936        cutoff              0.1889        0.1860   902715    1.54%           rho_7 D 251703 251701     50\n",
      " 255424 62558        0.1880    10        0.1889        0.1860   915600    1.53%           rho_8 N 255424 255423     18\n",
      " 259289 63044        0.1879     9        0.1889        0.1860   928169    1.52%           rho_7 N 259289 259288     54\n",
      " 262654 63008        cutoff              0.1889        0.1861   940454    1.50%           rho_0 U 262654 262652     46\n",
      " 266034 63023        cutoff              0.1889        0.1861   952511    1.48%          rho_20 N 266034 164705     22\n",
      " 269554 63067        cutoff              0.1889        0.1861   963834    1.47%           rho_7 U 269554 269553     44\n",
      " 273151 63296        0.1880     9        0.1889        0.1862   976001    1.45%          rho_24 N 273151  29234     22\n",
      " 276695 63518        0.1886     8        0.1889        0.1862   987394    1.44%          rho_16 N 276695 276694     18\n",
      " 280228 63626        cutoff              0.1889        0.1862   999446    1.43%          rho_14 D 280228 280226     29\n",
      " 283740 63618        cutoff              0.1889        0.1862  1011192    1.41%          rho_26 U 283740 283739     54\n",
      "Elapsed time = 38.78 sec. (69872.44 ticks, tree = 18.61 MB, solutions = 1)\n",
      " 287259 63678        cutoff              0.1889        0.1863  1023096    1.40%          rho_16 U 287259 287258     39\n",
      " 290924 63896        0.1866     7        0.1889        0.1863  1034837    1.39%           rho_2 D 290924 290922     49\n",
      " 294553 63961        cutoff              0.1889        0.1863  1047379    1.38%          rho_27 U 294553 294552     21\n",
      " 298291 64355        0.1883     7        0.1889        0.1863  1059962    1.36%           rho_7 U 298291 298289     45\n",
      " 301988 64520        0.1883     6        0.1889        0.1863  1072621    1.35%           rho_7 N 301988 301987     48\n",
      " 305565 64714        0.1873     7        0.1889        0.1864  1084143    1.34%          rho_27 U 305565 167491     51\n",
      " 308924 64567        cutoff              0.1889        0.1864  1096757    1.32%           rho_7 U 308924 308923     33\n",
      " 312498 64586        0.1867     7        0.1889        0.1864  1108746    1.31%          rho_27 D 312498  67931     19\n",
      " 316000 64696        0.1869    14        0.1889        0.1864  1119972    1.30%          rho_20 D 316000 315998     26\n",
      " 319535 64721        0.1879     9        0.1889        0.1865  1131048    1.29%           rho_4 N 319535 286175     26\n",
      "Elapsed time = 43.39 sec. (79412.67 ticks, tree = 18.91 MB, solutions = 1)\n",
      " 323050 64826        0.1889     5        0.1889        0.1865  1142540    1.27%          rho_27 D 323050 323049     24\n",
      " 326493 64959        0.1888     8        0.1889        0.1865  1154259    1.26%           rho_7 D 326493 326492     36\n",
      " 329962 65017        0.1866    12        0.1889        0.1865  1165704    1.25%          rho_14 D 329962  61082     22\n",
      " 333521 65067        0.1879     6        0.1889        0.1866  1176753    1.23%          rho_26 N 333521 209840     23\n",
      " 336976 64842        0.1887     6        0.1889        0.1866  1188019    1.22%           rho_0 N 336976 336974     53\n",
      " 340349 64635        0.1889     8        0.1889        0.1866  1199378    1.20%          rho_16 N 340349 340348     17\n",
      " 343831 64413        0.1886     7        0.1889        0.1867  1210856    1.19%          rho_10 D 343831 343829     35\n",
      " 347265 64284        cutoff              0.1889        0.1867  1221814    1.18%           rho_4 U 347265 347264     25\n",
      " 350818 64468        0.1872     9        0.1889        0.1867  1232843    1.16%          rho_27 D 350818 318837     27\n",
      " 364445 63646        0.1873     9        0.1889        0.1868  1276680    1.12%           rho_7 D 364445 269816     21\n",
      "Elapsed time = 49.20 sec. (91812.28 ticks, tree = 18.66 MB, solutions = 1)\n",
      " 378518 63972        0.1883     3        0.1889        0.1869  1320363    1.07%          rho_10 N 378518  35168     60\n",
      " 392362 63195        0.1879     5        0.1889        0.1870  1363312    1.03%           rho_7 D 392362 392361     50\n",
      " 405865 61727        0.1885    13        0.1889        0.1871  1406584    0.98%          rho_26 N 405865 281388     41\n",
      " 419393 59963        0.1877     6        0.1889        0.1871  1449216    0.93%           rho_7 D 419393  82514     53\n",
      " 433150 58445        0.1886    12        0.1889        0.1872  1490848    0.89%           rho_7 N 433150 259005     19\n",
      " 446768 56752        cutoff              0.1889        0.1873  1531040    0.85%           rho_3 D 446768 389165     24\n",
      " 460220 54683        0.1875     9        0.1889        0.1874  1571620    0.80%          rho_20 D 460220 460219     37\n",
      " 473884 52451        cutoff              0.1889        0.1875  1611536    0.76%          rho_10 U 473884 473883     38\n",
      " 487682 49563        cutoff              0.1889        0.1876  1651846    0.71%           rho_7 U 487682 487681     38\n",
      " 501665 46883        0.1882     9        0.1889        0.1876  1691594    0.66%          rho_14 N 501665 359724     40\n",
      "Elapsed time = 67.22 sec. (129961.33 ticks, tree = 14.48 MB, solutions = 1)\n",
      " 515241 43633        cutoff              0.1889        0.1877  1730938    0.61%          rho_20 D 515241 202116     49\n",
      " 529199 39748        0.1879    11        0.1889        0.1878  1767221    0.56%           rho_7 N 529199 529198     35\n",
      " 542987 35375        cutoff              0.1889        0.1880  1803345    0.50%          rho_20 U 542987  49456     56\n",
      " 557072 29658        0.1881     7        0.1889        0.1881  1837578    0.43%         alpha_8 N 557072 235310     25\n",
      " 571931 23687        cutoff              0.1889        0.1883  1869404    0.34%           rho_0 D 571931 524672     24\n",
      " 586596 15669        cutoff              0.1889        0.1884  1900484    0.25%           rho_7 U 586596 586595     36\n",
      " 600980  5855        cutoff              0.1889        0.1887  1928713    0.11%          rho_27 U 600980 496577     26\n",
      "\n",
      "Mixed integer rounding cuts applied:  1\n",
      "User cuts applied:  377\n",
      "\n",
      "Root node processing (before b&c):\n",
      "  Real time             =    0.13 sec. (1.96 ticks)\n",
      "Sequential b&c:\n",
      "  Real time             =   79.33 sec. (158471.06 ticks)\n",
      "                          ------------\n",
      "Total (root+branch&cut) =   79.45 sec. (158473.01 ticks)\n",
      "+----------------------------------------------+------------------+-----------+\n",
      "| Pr(Y = +1) = 1.0/(1.0 + exp(-(-5 + score))   |                  |           |\n",
      "| ============================================ | ================ | ========= |\n",
      "| p_stealing>=1                                |         1 points |   + ..... |\n",
      "| three_year>=1                                |         1 points |   + ..... |\n",
      "| current_violence>=1                          |         1 points |   + ..... |\n",
      "| ============================================ | ================ | ========= |\n",
      "| ADD POINTS FROM ROWS 1 to 3                  |            SCORE |   = ..... |\n",
      "+----------------------------------------------+------------------+-----------+\n"
     ]
    }
   ],
   "source": [
    "riskslim_summary = slim.risk_cv(sub_KY_X, KY_Y, sub_FL_X, FL_Y, \n",
    "                                y_label = 'general2', \n",
    "                                max_coef = 20, \n",
    "                                max_coef_number = 10, \n",
    "                                max_runtime=200, \n",
    "                                c=1e-3, \n",
    "                                seed=816)"
   ]
  },
  {
   "cell_type": "code",
   "execution_count": 24,
   "metadata": {},
   "outputs": [
    {
     "data": {
      "text/plain": [
       "[0.6216585874995633]"
      ]
     },
     "execution_count": 24,
     "metadata": {},
     "output_type": "execute_result"
    }
   ],
   "source": [
    "riskslim_summary['KY_auc']"
   ]
  },
  {
   "cell_type": "markdown",
   "metadata": {},
   "source": [
    "### Corel"
   ]
  },
  {
   "cell_type": "code",
   "execution_count": 2,
   "metadata": {},
   "outputs": [],
   "source": [
    "KY_stumps = pd.read_csv(\"~/Documents/Duke/Cynthia Research/psa-analysis - test/kentucky/models/ky_fl_combined/data preparation/KY_stumps\")\n",
    "FL_stumps = pd.read_csv(\"~/Documents/Duke/Cynthia Research/psa-analysis - test/kentucky/models/ky_fl_combined/data preparation/FL_stumps\")\n",
    "\n",
    "## split x and y \n",
    "KY_X = KY_stumps.loc[:,:'current_violence>=1']\n",
    "KY_Y = KY_stumps['recid_property_six_month'].values\n",
    "FL_X = FL_stumps.loc[:,:'current_violence>=1']\n",
    "FL_Y = FL_stumps['recid_property_six_month'].values"
   ]
  },
  {
   "cell_type": "code",
   "execution_count": 3,
   "metadata": {},
   "outputs": [],
   "source": [
    "KY_score, FL_score = Corel.corel_cv(KY_X, KY_Y, FL_X, FL_Y, max_card=2, c=1e-3, seed=816)"
   ]
  },
  {
   "cell_type": "code",
   "execution_count": 16,
   "metadata": {},
   "outputs": [
    {
     "name": "stdout",
     "output_type": "stream",
     "text": [
      "Stored 'summary_general2_fl_inter_model' (dict)\n"
     ]
    }
   ],
   "source": [
    "#### save results\n",
    "summary_property6_fl_inter_model = {\"CART\": cart_summary,\n",
    "                                    \"EBM\": ebm_summary,\n",
    "                                    \"Stumps\": stumps_summary,\n",
    "                                    \"RiskSLIM\": riskslim_summary, \n",
    "                                   \"Corel\": KY_score}\n",
    "%store summary_property6_fl_inter_model"
   ]
  },
  {
   "cell_type": "code",
   "execution_count": 26,
   "metadata": {},
   "outputs": [],
   "source": [
    "path = \"C:\\\\Users\\\\binha\\\\Documents\\\\Duke\\\\Cynthia Research\\\\KY-analysis-mytrials\\\\KY Recidivism\\\\KY Results\\\\KY_FL\\\\FL Model\\\\interpretable\\\\Six Month\\\\\"\n",
    "results = [[\"Property\",             \n",
    "            round(cart_summary['KY_score'],3), \n",
    "            round(ebm_summary['KY_score'], 3), \n",
    "            round(stumps_summary['KY_score'],3), \n",
    "            round(riskslim_summary['KY_auc'][0], 3),\n",
    "            round(KY_score, 3)]]\n",
    "with open(path + 'Six Month FL_inter_model.csv', 'a') as writeFile:\n",
    "    writer = csv.writer(writeFile)\n",
    "    writer.writerows(results)"
   ]
  }
 ],
 "metadata": {
  "kernelspec": {
   "display_name": "Python 3",
   "language": "python",
   "name": "python3"
  },
  "language_info": {
   "codemirror_mode": {
    "name": "ipython",
    "version": 3
   },
   "file_extension": ".py",
   "mimetype": "text/x-python",
   "name": "python",
   "nbconvert_exporter": "python",
   "pygments_lexer": "ipython3",
   "version": "3.7.4"
  }
 },
 "nbformat": 4,
 "nbformat_minor": 4
}
