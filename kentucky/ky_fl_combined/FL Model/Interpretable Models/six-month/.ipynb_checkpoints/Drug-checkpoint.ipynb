{
 "cells": [
  {
   "cell_type": "code",
   "execution_count": 1,
   "metadata": {},
   "outputs": [
    {
     "name": "stdout",
     "output_type": "stream",
     "text": [
      "Current working directory is now:  C:\\Users\\binha\\Documents\\Duke\\Cynthia Research\\psa-analysis - test2\\kentucky\\ky_fl_combined\\FL Model\n"
     ]
    },
    {
     "name": "stderr",
     "output_type": "stream",
     "text": [
      "C:\\Users\\binha\\Anaconda3\\lib\\site-packages\\sklearn\\externals\\six.py:31: DeprecationWarning:\n",
      "\n",
      "The module is deprecated in version 0.21 and will be removed in version 0.23 since we've dropped support for Python 2.7. Please rely on the official version of six (https://pypi.org/project/six/).\n",
      "\n"
     ]
    }
   ],
   "source": [
    "import os \n",
    "os.chdir('../../')\n",
    "print(\"Current working directory is now: \", os.getcwd())\n",
    "\n",
    "import pandas as pd \n",
    "import numpy as np\n",
    "import csv\n",
    "\n",
    "import FL_utils.FL_interpretable_functions as interpret\n",
    "import FL_utils.FL_RiskSLIM as slim\n",
    "import FL_utils.FL_stumps as stumps\n",
    "import FL_utils.FL_Corel as Corel\n",
    "\n",
    "# restore saved variables\n",
    "%store -r summary_drug6_fl_inter_model"
   ]
  },
  {
   "cell_type": "markdown",
   "metadata": {},
   "source": [
    "### EBM & CART"
   ]
  },
  {
   "cell_type": "code",
   "execution_count": 2,
   "metadata": {},
   "outputs": [],
   "source": [
    "KY_data = pd.read_csv(\"~/Documents/Duke/Cynthia Research/psa-analysis - test/kentucky/models/ky_fl_combined/data preparation/KY_cleaned\")\n",
    "FL_data = pd.read_csv(\"~/Documents/Duke/Cynthia Research/psa-analysis - test/kentucky/models/ky_fl_combined/data preparation/FL_cleaned\")\n",
    "\n",
    "## split x and y \n",
    "KY_X = KY_data.loc[:,:'current_violence']\n",
    "KY_Y = KY_data['recid_drug_six_month'].values\n",
    "FL_X = FL_data.loc[:,:'current_violence']\n",
    "FL_Y = FL_data['recid_drug_six_month'].values"
   ]
  },
  {
   "cell_type": "code",
   "execution_count": 3,
   "metadata": {},
   "outputs": [],
   "source": [
    "#### CART\n",
    "depth = [1,2]\n",
    "impurity = [0.001, 0.003]\n",
    "split = [2,3,4]\n",
    "cart_summary = advance.CART(KY_X, KY_Y, FL_X, FL_Y, depth, split, impurity, seed=816)\n",
    "\n",
    "### EBM\n",
    "estimators = [40,60]\n",
    "depth = [1]\n",
    "learning_rate = [0.01]\n",
    "holdout_split = [0.9]\n",
    "ebm_summary = advance.EBM(KY_X, KY_Y, FL_X, FL_Y, learning_rate, depth, estimators, holdout_split, seed=816)"
   ]
  },
  {
   "cell_type": "code",
   "execution_count": 15,
   "metadata": {},
   "outputs": [
    {
     "data": {
      "text/plain": [
       "(0.5529579578635895, 0.6060750536229718)"
      ]
     },
     "execution_count": 15,
     "metadata": {},
     "output_type": "execute_result"
    }
   ],
   "source": [
    "cart_summary['KY_score'], ebm_summary['KY_score']"
   ]
  },
  {
   "cell_type": "markdown",
   "metadata": {},
   "source": [
    "### Lasso Stumps"
   ]
  },
  {
   "cell_type": "code",
   "execution_count": 4,
   "metadata": {},
   "outputs": [],
   "source": [
    "KY_stumps = pd.read_csv(\"~/Documents/Duke/Cynthia Research/psa-analysis - test/kentucky/models/ky_fl_combined/data preparation/KY_stumps\")\n",
    "FL_stumps = pd.read_csv(\"~/Documents/Duke/Cynthia Research/psa-analysis - test/kentucky/models/ky_fl_combined/data preparation/FL_stumps\")\n",
    "\n",
    "## split x and y \n",
    "KY_X = KY_stumps.loc[:,:'current_violence>=1']\n",
    "KY_Y = KY_stumps['recid_drug_six_month'].values\n",
    "FL_X = FL_stumps.loc[:,:'current_violence>=1']\n",
    "FL_Y = FL_stumps['recid_drug_six_month'].values\n",
    "\n",
    "## columns \n",
    "cols = KY_X.columns"
   ]
  },
  {
   "cell_type": "code",
   "execution_count": 25,
   "metadata": {},
   "outputs": [],
   "source": [
    "c_grid = {'C': [0.03, 0.05]}\n",
    "stumps_summary = stumps.stump_cv(KY_X, KY_Y, FL_X, FL_Y, cols, c_grid, seed=816)"
   ]
  },
  {
   "cell_type": "code",
   "execution_count": 26,
   "metadata": {},
   "outputs": [
    {
     "data": {
      "text/plain": [
       "{'best_auc': 0.6807839142513151,\n",
       " 'best_params': {'C': 0.03},\n",
       " 'auc_diffs': 0.05303206429264273,\n",
       " 'KY_score': 0.5529839003451811}"
      ]
     },
     "execution_count": 26,
     "metadata": {},
     "output_type": "execute_result"
    }
   ],
   "source": [
    "stumps_summary"
   ]
  },
  {
   "cell_type": "markdown",
   "metadata": {},
   "source": [
    "### RiskSLIM"
   ]
  },
  {
   "cell_type": "code",
   "execution_count": 27,
   "metadata": {},
   "outputs": [
    {
     "data": {
      "text/plain": [
       "22"
      ]
     },
     "execution_count": 27,
     "metadata": {},
     "output_type": "execute_result"
    }
   ],
   "source": [
    "## train on best param chosen by Lasso Stumps from above\n",
    "lasso = LogisticRegression(class_weight='balanced', solver='liblinear', penalty='l1', C=0.05, random_state=816).fit(FL_X, FL_Y)\n",
    "selected_features = cols[lasso.coef_[0] != 0].tolist()\n",
    "len(selected_features)"
   ]
  },
  {
   "cell_type": "code",
   "execution_count": 28,
   "metadata": {},
   "outputs": [],
   "source": [
    "### Subset features\n",
    "sub_FL_X = FL_stumps.loc[:, selected_features]\n",
    "sub_KY_X = KY_stumps.loc[:, selected_features]\n",
    "sub_FL_X.insert(0, '(Intercept)', 1)"
   ]
  },
  {
   "cell_type": "code",
   "execution_count": 29,
   "metadata": {
    "scrolled": true
   },
   "outputs": [
    {
     "name": "stdout",
     "output_type": "stream",
     "text": [
      "setting c0 = 0.0 to ensure that intercept is not penalized\n",
      "09/17/19 @ 01:21 PM | 981 rows in lookup table\n",
      "09/17/19 @ 01:21 PM | ------------------------------------------------------------\n",
      "09/17/19 @ 01:21 PM | runnning initialization procedure\n",
      "09/17/19 @ 01:21 PM | ------------------------------------------------------------\n",
      "09/17/19 @ 01:21 PM | CPA produced 2 cuts\n",
      "09/17/19 @ 01:21 PM | running naive rounding on 99 solutions\n",
      "09/17/19 @ 01:21 PM | best objective value: 0.1541\n",
      "09/17/19 @ 01:21 PM | rounding produced 2 integer solutions\n",
      "09/17/19 @ 01:21 PM | best objective value is 0.1594\n",
      "09/17/19 @ 01:21 PM | running sequential rounding on 99 solutions\n",
      "09/17/19 @ 01:21 PM | best objective value: 0.1541\n",
      "09/17/19 @ 01:21 PM | sequential rounding produced 1 integer solutions\n",
      "09/17/19 @ 01:21 PM | best objective value: 0.1594\n",
      "09/17/19 @ 01:21 PM | polishing 3 solutions\n",
      "09/17/19 @ 01:21 PM | best objective value: 0.1594\n",
      "09/17/19 @ 01:21 PM | polishing produced 2 integer solutions\n",
      "09/17/19 @ 01:21 PM | initialization produced 2 feasible solutions\n",
      "09/17/19 @ 01:21 PM | best objective value: 0.1594\n",
      "09/17/19 @ 01:21 PM | ------------------------------------------------------------\n",
      "09/17/19 @ 01:21 PM | completed initialization procedure\n",
      "09/17/19 @ 01:21 PM | ------------------------------------------------------------\n",
      "09/17/19 @ 01:21 PM | 981 rows in lookup table\n",
      "CPXPARAM_Read_DataCheck                          1\n",
      "CPXPARAM_Threads                                 1\n",
      "CPXPARAM_Parallel                                1\n",
      "CPXPARAM_RandomSeed                              0\n",
      "CPXPARAM_TimeLimit                               200\n",
      "CPXPARAM_MIP_Tolerances_LowerCutoff              0.15408856050676198\n",
      "CPXPARAM_MIP_Tolerances_UpperCutoff              0.1594104817235551\n"
     ]
    },
    {
     "name": "stderr",
     "output_type": "stream",
     "text": [
      "Warning: Control callbacks may disable some MIP features.\n"
     ]
    },
    {
     "name": "stdout",
     "output_type": "stream",
     "text": [
      "Lazy constraint(s) or lazy constraint callback is present.\n",
      "    Disabling dual reductions (CPX_PARAM_REDUCE) in presolve.\n",
      "    Disabling non-linear reductions (CPX_PARAM_PRELINEAR) in presolve.\n",
      "         Disabling repeat represolve because of lazy constraint/incumbent callback.\n",
      "09/17/19 @ 01:21 PM | adding 98 initial cuts\n",
      "1 of 1 MIP starts provided solutions.\n",
      "MIP start 'mip_start_0' defined initial solution with objective 0.1594.\n",
      "Tried aggregator 1 time.\n",
      "Reduced MIP has 24 rows, 48 columns, and 91 nonzeros.\n",
      "Reduced MIP has 22 binaries, 24 generals, 0 SOSs, and 0 indicators.\n",
      "Presolve time = 0.02 sec. (0.05 ticks)\n",
      "Probing time = 0.00 sec. (0.01 ticks)\n",
      "MIP emphasis: balance optimality and feasibility.\n",
      "MIP search method: traditional branch-and-cut.\n",
      "Parallel mode: none, using 1 thread.\n",
      "Root relaxation solution time = 0.00 sec. (0.03 ticks)\n",
      "\n",
      "        Nodes                                         Cuts/\n",
      "   Node  Left     Objective  IInf  Best Integer    Best Bound    ItCnt     Gap         Variable B NodeID Parent  Depth\n",
      "\n",
      "*     0+    0                            0.1594        0.1441             9.61%\n",
      "      0     0        0.1541     1        0.1594        0.1541        1    3.34%\n",
      "      0     0        0.1541     2        0.1594      Fract: 1        2    3.34%\n",
      "      0     2        0.1541     5        0.1594        0.1541        2    3.34%                        0             0\n",
      "Elapsed time = 0.34 sec. (1.19 ticks, tree = 0.01 MB, solutions = 1)\n",
      "   5154  1447        0.1558     8        0.1594        0.1556    14092    2.37%           rho_0 U   5154   1932     21\n",
      "   9646  2892        0.1570     4        0.1594        0.1560    23945    2.15%           rho_9 D   9646   9644     41\n",
      "  13791  4161        0.1570     5        0.1594        0.1560    31830    2.15%           rho_9 D  13791  13789     59\n",
      "  18114  5581        0.1560     5        0.1594        0.1560    39763    2.15%           rho_4 D  18114  17209     51\n",
      "  22224  7300        0.1574     7        0.1594        0.1560    48098    2.15%         L0_norm U  22224  22223     38\n",
      "  26304  9203        0.1560     5        0.1594        0.1560    56433    2.15%           rho_9 D  26304   7656     46\n",
      "  31260 11434        0.1584     7        0.1594        0.1560    66972    2.14%         L0_norm U  31260  31259     57\n",
      "  35880 14376        0.1570     4        0.1594        0.1560    76248    2.12%          rho_10 U  35880  20922     48\n",
      "  40226 16442        0.1570     4        0.1594        0.1561    85611    2.10%          rho_10 U  40226  40224     71\n",
      "  59240 24972        cutoff              0.1594        0.1563   124169    1.94%           rho_3 D  59240  59238     25\n",
      "Elapsed time = 9.63 sec. (3101.14 ticks, tree = 6.19 MB, solutions = 1)\n",
      "  75574 28754        0.1579     7        0.1594        0.1567   167761    1.70%           rho_2 U  75574  75573     55\n",
      "  92718 33522        0.1577     6        0.1594        0.1567   210624    1.69%           rho_5 U  92718  92717     57\n",
      " 109992 37209        0.1580     4        0.1594        0.1570   251413    1.53%          rho_10 U 109992 109990     72\n",
      " 129580 45945        0.1570     4        0.1594        0.1570   291292    1.53%          rho_10 U 129580 129578     62\n",
      " 148153 55205        0.1570     5        0.1594        0.1570   334300    1.53%           rho_0 D 148153 148152     58\n",
      " 167875 64751        0.1574     7        0.1594        0.1570   377310    1.53%          rho_10 D 167875 167873     74\n",
      " 187395 72468        0.1570     4        0.1594        0.1570   422979    1.53%          rho_10 U 187395 187392     78\n",
      " 206311 80523        cutoff              0.1594        0.1570   468990    1.53%           rho_3 U 206311 206310     78\n",
      " 224281 86536        0.1585     7        0.1594        0.1570   524874    1.52%           rho_3 N 224281 224279     61\n",
      " 243411 90340        0.1580     4        0.1594        0.1570   575437    1.49%           rho_5 D 243411 243410     51\n",
      "Elapsed time = 31.22 sec. (12638.23 ticks, tree = 23.12 MB, solutions = 1)\n",
      " 262991 93434        0.1580     4        0.1594        0.1571   625537    1.46%           rho_9 U 262991 262989     63\n",
      " 287543 100253        0.1571     5        0.1594        0.1571   664806    1.42%          rho_10 D 287543 278368     57\n",
      " 313633 106080        0.1577     7        0.1594        0.1573   700306    1.34%           rho_0 U 313633 313632     21\n",
      " 334240 114391        0.1573    11        0.1594        0.1573   731060    1.34%           rho_0 D 334240 334185     52\n",
      " 355080 119999        0.1583     7        0.1594        0.1573   767184    1.31%           rho_5 N 355080 355079     46\n",
      " 369989 123884        0.1587     7        0.1594        0.1573   789063    1.31%           rho_0 U 369989 369988     60\n",
      " 385942 123684        0.1574     7        0.1594        0.1573   833795    1.31%          rho_10 D 385942 165326     54\n",
      " 403950 123450        cutoff              0.1594        0.1573   888310    1.31%           rho_3 U 403950 403949     48\n",
      " 422454 123354        0.1593     6        0.1594        0.1574   932614    1.26%          rho_10 U 422454 422453     62\n",
      " 441194 121409        cutoff              0.1594        0.1576   968228    1.13%         L0_norm D 441194 346315     35\n",
      "Elapsed time = 46.38 sec. (22175.28 ticks, tree = 29.24 MB, solutions = 1)\n",
      " 462261 122518        0.1587     1        0.1594        0.1577  1012249    1.08%           rho_0 D 462261 462260     82\n",
      " 482571 126358        0.1587     1        0.1594        0.1577  1060918    1.08%           rho_0 D 482571 482570     52\n",
      " 503437 130963        cutoff              0.1594        0.1577  1101387    1.08%           rho_2 U 503437 503436     88\n",
      " 524315 134372        cutoff              0.1594        0.1577  1144974    1.08%           rho_2 U 524315 524314     75\n",
      " 542951 136216        cutoff              0.1594        0.1577  1174719    1.08%           rho_4 D 542951 542950     91\n",
      " 561034 137254        0.1577     6        0.1594        0.1577  1203703    1.08%           rho_0 D 561034 561031     49\n",
      " 580344 140116        cutoff              0.1594        0.1577  1242935    1.08%           rho_2 U 580344 580343     56\n",
      " 597301 142354        0.1587     1        0.1594        0.1577  1271155    1.08%           rho_0 D 597301 597300     78\n",
      " 615750 146636        0.1577     6        0.1594        0.1577  1302688    1.08%          rho_10 U 615750 615743     84\n",
      " 632391 147950        0.1583     9        0.1594        0.1577  1328544    1.08%          rho_10 D 632391 632390     32\n",
      "Elapsed time = 57.22 sec. (31712.29 ticks, tree = 37.44 MB, solutions = 1)\n",
      " 649683 148542        cutoff              0.1594        0.1577  1354698    1.08%           rho_2 U 649683 649682     79\n",
      " 666760 149204        0.1587     1        0.1594        0.1577  1380163    1.08%           rho_0 D 666760 666759     68\n",
      " 683728 149991        cutoff              0.1594        0.1577  1407408    1.08%           rho_2 U 683728 683727     56\n",
      " 700133 150667        0.1587     1        0.1594        0.1577  1434762    1.08%           rho_4 U 700133 700131     85\n",
      " 715692 152750        cutoff              0.1594        0.1577  1463278    1.08%           rho_2 U 715692 715691     90\n",
      " 732482 157389        0.1587     1        0.1594        0.1577  1490986    1.08%           rho_5 U 732482 732481     51\n",
      " 750120 161478        0.1577     7        0.1594        0.1577  1529071    1.08%           rho_5 U 750120 750119     59\n",
      " 768246 164165        0.1587     1        0.1594        0.1577  1565761    1.08%           rho_0 D 768246 768245     78\n",
      " 784683 165537        cutoff              0.1594        0.1577  1599700    1.08%         alpha_3 D 784683 784681     89\n",
      " 801798 166648        0.1577     6        0.1594        0.1577  1636308    1.08%           rho_4 U 801798 801792     81\n",
      "Elapsed time = 66.89 sec. (41249.34 ticks, tree = 42.98 MB, solutions = 1)\n",
      " 818612 167337        0.1587     1        0.1594        0.1577  1668328    1.06%           rho_0 D 818612 818611     78\n",
      " 837180 167257        0.1587     1        0.1594        0.1577  1694661    1.05%          rho_10 U 837180 837178     52\n",
      " 855721 166544        cutoff              0.1594        0.1577  1721818    1.05%          rho_10 D 855721 855720     68\n",
      " 874334 165615        0.1580     7        0.1594        0.1578  1750038    1.04%          rho_10 D 874334 265521     37\n",
      " 896494 164406        0.1587     1        0.1594        0.1578  1786395    1.03%           rho_5 U 896494 896493     71\n",
      " 916054 163299        0.1587     1        0.1594        0.1578  1814988    1.03%           rho_4 U 916054 916052     89\n",
      " 933154 161126        cutoff              0.1594        0.1579  1846035    0.97%           rho_2 U 933154 933153     39\n",
      " 945257 156404        cutoff              0.1594        0.1579  1876177    0.95%         L0_norm D 945257 317814     35\n",
      " 958955 156183        0.1590     1        0.1594        0.1580  1909959    0.91%           rho_0 D 958955 958954     75\n",
      " 981844 157925        0.1580     4        0.1594        0.1580  1938099    0.91%           rho_4 U 981844 228473     45\n",
      "Elapsed time = 75.69 sec. (50786.46 ticks, tree = 41.33 MB, solutions = 1)\n",
      " 1001842 157638        cutoff              0.1594        0.1580  1986996    0.90%         L0_norm D 1001842 1001841     79\n",
      " 1022725 157430        0.1584     7        0.1594        0.1580  2038899    0.90%          rho_10 D 1022725 1022724     63\n",
      " 1043450 157133        0.1580     4        0.1594        0.1580  2090219    0.90%          rho_10 U 1043450 1030540     64\n",
      " 1064124 156793        0.1580     4        0.1594        0.1580  2141644    0.90%          rho_10 U 1064124 1064117     70\n",
      " 1084829 156747        0.1584     7        0.1594        0.1580  2193180    0.90%          rho_10 D 1084829 1084828     68\n",
      " 1105311 156687        0.1580     4        0.1594        0.1580  2244479    0.90%           rho_5 D 1105311 1105310     69\n",
      " 1126155 156658        0.1584     7        0.1594        0.1580  2296391    0.90%          rho_10 D 1126155 1126154     94\n",
      " 1146780 156619        0.1580     4        0.1594        0.1580  2348111    0.90%          rho_10 U 1146780 1146765     86\n",
      " 1167467 156473        cutoff              0.1594        0.1580  2399772    0.90%         L0_norm D 1167467 1167466     67\n",
      " 1188154 156412        0.1580     4        0.1594        0.1580  2451512    0.90%          rho_10 U 1188154 1188147     63\n",
      "Elapsed time = 84.73 sec. (60323.49 ticks, tree = 41.04 MB, solutions = 1)\n",
      " 1208970 156355        0.1580     4        0.1594        0.1580  2503537    0.90%           rho_9 D 1208970 1208969     46\n",
      " 1229560 156273        0.1584     7        0.1594        0.1580  2555022    0.90%          rho_10 D 1229560 1229559     70\n",
      " 1250449 156146        cutoff              0.1594        0.1580  2606946    0.90%         L0_norm D 1250449 1250448     63\n",
      " 1270440 155993        0.1580     4        0.1594        0.1580  2656107    0.90%          rho_10 U 1270440 1270433     85\n",
      " 1290654 156025        cutoff              0.1594        0.1580  2706149    0.90%         L0_norm D 1290654 1290653     50\n",
      " 1311103 155958        cutoff              0.1594        0.1580  2756677    0.90%         L0_norm D 1311103 1311102     69\n",
      " 1330784 157036        0.1593     1        0.1594        0.1580  2801700    0.89%         alpha_3 U 1330784 1330783     60\n",
      " 1347072 159962        cutoff              0.1594        0.1580  2839385    0.89%         alpha_3 D 1347072 1347070     71\n",
      " 1361363 159777        0.1583     9        0.1594        0.1580  2892651    0.89%           rho_0 D 1361363 692063     73\n",
      " 1376483 159581        0.1583     9        0.1594        0.1580  2949000    0.89%           rho_5 D 1376483 495306     83\n",
      "Elapsed time = 93.67 sec. (69860.62 ticks, tree = 41.70 MB, solutions = 1)\n",
      " 1391721 159383        0.1583     9        0.1594        0.1580  3005792    0.89%          rho_10 D 1391721 643922     68\n",
      " 1406985 159185        cutoff              0.1594        0.1580  3062675    0.89%         alpha_3 D 1406985 1406984     75\n",
      " 1425686 159032        0.1590     1        0.1594        0.1580  3108925    0.87%          rho_10 U 1425686 1425685     53\n",
      " 1448653 153817        0.1586     1        0.1594        0.1581  3145686    0.85%         L0_norm D 1448653 874699     40\n",
      " 1472785 154819        0.1581     5        0.1594        0.1581  3188487    0.81%          rho_10 D 1472785 1472784     69\n",
      " 1502237 158734        0.1581     4        0.1594        0.1581  3222398    0.81%          rho_10 U 1502237 1502087     43\n",
      " 1536608 163636        0.1581     4        0.1594        0.1581  3260889    0.81%           rho_9 U 1536608 1536466     47\n",
      " 1568388 167163        0.1591     1        0.1594        0.1581  3298741    0.81%          rho_10 N 1568388 1568386     37\n",
      " 1602899 172346        0.1591     1        0.1594        0.1581  3337628    0.81%           rho_4 U 1602899 1602898     79\n",
      " 1631300 174858        0.1581     6        0.1594        0.1581  3377143    0.80%          rho_10 U 1631300 1624732     31\n",
      "Elapsed time = 103.44 sec. (79397.71 ticks, tree = 44.67 MB, solutions = 1)\n",
      " 1653880 176161        cutoff              0.1594        0.1582  3417202    0.76%          rho_10 D 1653880 1653878     59\n",
      " 1668482 177229        0.1583     7        0.1594        0.1583  3445029    0.71%           rho_0 N 1668482 361984     42\n",
      " 1684464 179719        0.1583     7        0.1594        0.1583  3470075    0.71%          rho_10 N 1684464 1684462     43\n",
      " 1700821 181825        0.1592     1        0.1594        0.1583  3496074    0.71%         L0_norm N 1700821 1700820     48\n",
      " 1718950 185155        0.1592     1        0.1594        0.1583  3522570    0.71%         L0_norm N 1718950 1718949     66\n",
      " 1736014 187441        0.1583     7        0.1594        0.1583  3549109    0.71%          rho_10 U 1736014 1736012     54\n",
      " 1760281 187116        0.1594    12        0.1594        0.1583  3580565    0.71%           rho_0 N 1760281 374882     22\n",
      " 1786666 186089        cutoff              0.1594        0.1583  3613932    0.70%         L0_norm D 1786666 405326     41\n",
      " 1802102 170653        cutoff              0.1594        0.1583  3644804    0.70%         L0_norm D 1802102 204563     47\n",
      " 1865138 145691        0.1584     7        0.1594        0.1584  3812737    0.61%           rho_0 D 1865138 1865134     63\n",
      "Elapsed time = 114.72 sec. (91795.80 ticks, tree = 38.99 MB, solutions = 1)\n",
      " 1929633 114604        0.1591     7        0.1594        0.1587  3939550    0.47%           rho_9 D 1929633 1929632     46\n",
      " 2001265 80515        cutoff              0.1594        0.1588  4078902    0.41%           rho_4 D 2001265 1520312     77\n",
      " 2063563 40330        cutoff              0.1594        0.1590  4177670    0.26%           rho_5 U 2063563 199433     69\n",
      " 2142225 18479        0.1591     1        0.1594        0.1591  4282502    0.18%           rho_4 U 2142225 2142224     75\n",
      "\n",
      "Implied bound cuts applied:  2\n",
      "User cuts applied:  68\n",
      "\n",
      "Root node processing (before b&c):\n",
      "  Real time             =    0.34 sec. (1.20 ticks)\n",
      "Sequential b&c:\n",
      "  Real time             =  128.78 sec. (109763.87 ticks)\n",
      "                          ------------\n",
      "Total (root+branch&cut) =  129.13 sec. (109765.07 ticks)\n",
      "+----------------------------------------------+------------------+-----------+\n",
      "| Pr(Y = +1) = 1.0/(1.0 + exp(-(-5 + score))   |                  |           |\n",
      "| ============================================ | ================ | ========= |\n",
      "| age_at_current_charge<=21.0                  |         1 points |   + ..... |\n",
      "| age_at_current_charge<=36.0                  |         1 points |   + ..... |\n",
      "| p_drug>=2                                    |         1 points |   + ..... |\n",
      "| p_prison>=1                                  |         1 points |   + ..... |\n",
      "| ============================================ | ================ | ========= |\n",
      "| ADD POINTS FROM ROWS 1 to 4                  |            SCORE |   = ..... |\n",
      "+----------------------------------------------+------------------+-----------+\n"
     ]
    }
   ],
   "source": [
    "riskslim_summary = slim.risk_cv(sub_KY_X, KY_Y, sub_FL_X, FL_Y, \n",
    "                                y_label = 'general2', \n",
    "                                max_coef = 20, \n",
    "                                max_coef_number = 10, \n",
    "                                max_runtime=200, \n",
    "                                c=1e-3, \n",
    "                                seed=816)"
   ]
  },
  {
   "cell_type": "code",
   "execution_count": 30,
   "metadata": {},
   "outputs": [
    {
     "data": {
      "text/plain": [
       "[0.5592673029235068]"
      ]
     },
     "execution_count": 30,
     "metadata": {},
     "output_type": "execute_result"
    }
   ],
   "source": [
    "riskslim_summary['KY_auc']"
   ]
  },
  {
   "cell_type": "markdown",
   "metadata": {},
   "source": [
    "### Corel"
   ]
  },
  {
   "cell_type": "code",
   "execution_count": 2,
   "metadata": {},
   "outputs": [],
   "source": [
    "KY_stumps = pd.read_csv(\"~/Documents/Duke/Cynthia Research/psa-analysis - test/kentucky/models/ky_fl_combined/data preparation/KY_stumps\")\n",
    "FL_stumps = pd.read_csv(\"~/Documents/Duke/Cynthia Research/psa-analysis - test/kentucky/models/ky_fl_combined/data preparation/FL_stumps\")\n",
    "\n",
    "## split x and y \n",
    "KY_X = KY_stumps.loc[:,:'current_violence>=1']\n",
    "KY_Y = KY_stumps['recid_drug_six_month'].values\n",
    "FL_X = FL_stumps.loc[:,:'current_violence>=1']\n",
    "FL_Y = FL_stumps['recid_drug_six_month'].values"
   ]
  },
  {
   "cell_type": "code",
   "execution_count": 3,
   "metadata": {},
   "outputs": [],
   "source": [
    "KY_score, FL_score = Corel.corel_cv(KY_X, KY_Y, FL_X, FL_Y, max_card=2, c=1e-3, seed=816)"
   ]
  },
  {
   "cell_type": "code",
   "execution_count": 16,
   "metadata": {},
   "outputs": [
    {
     "name": "stdout",
     "output_type": "stream",
     "text": [
      "Stored 'summary_general2_fl_inter_model' (dict)\n"
     ]
    }
   ],
   "source": [
    "#### save results\n",
    "summary_drug6_fl_inter_model = {\"CART\": cart_summary,\n",
    "                                    \"EBM\": ebm_summary,\n",
    "                                    \"Stumps\": stumps_summary,\n",
    "                                    \"RiskSLIM\": riskslim_summary, \n",
    "                                   \"Corel\": KY_score}\n",
    "%store summary_drug6_fl_inter_model"
   ]
  },
  {
   "cell_type": "code",
   "execution_count": 32,
   "metadata": {},
   "outputs": [],
   "source": [
    "path = \"C:\\\\Users\\\\binha\\\\Documents\\\\Duke\\\\Cynthia Research\\\\KY-analysis-mytrials\\\\KY Recidivism\\\\KY Results\\\\KY_FL\\\\FL Model\\\\interpretable\\\\Six Month\\\\\"\n",
    "results = [[\"Drug\",             \n",
    "            round(cart_summary['KY_score'],3), \n",
    "            round(ebm_summary['KY_score'], 3), \n",
    "            round(stumps_summary['KY_score'],3), \n",
    "            round(riskslim_summary['KY_auc'][0], 3), \n",
    "            round(KY_score, 3)]]\n",
    "with open(path + 'Six Month FL_inter_model.csv', 'a') as writeFile:\n",
    "    writer = csv.writer(writeFile)\n",
    "    writer.writerows(results)"
   ]
  }
 ],
 "metadata": {
  "kernelspec": {
   "display_name": "Python 3",
   "language": "python",
   "name": "python3"
  },
  "language_info": {
   "codemirror_mode": {
    "name": "ipython",
    "version": 3
   },
   "file_extension": ".py",
   "mimetype": "text/x-python",
   "name": "python",
   "nbconvert_exporter": "python",
   "pygments_lexer": "ipython3",
   "version": "3.7.4"
  }
 },
 "nbformat": 4,
 "nbformat_minor": 4
}
