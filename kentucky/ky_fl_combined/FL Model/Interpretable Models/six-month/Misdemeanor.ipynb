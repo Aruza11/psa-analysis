{
 "cells": [
  {
   "cell_type": "code",
   "execution_count": 2,
   "metadata": {},
   "outputs": [
    {
     "name": "stdout",
     "output_type": "stream",
     "text": [
      "Current working directory is now:  C:\\Users\\binha\\Documents\\Duke\\Cynthia Research\\psa-analysis - test2\\kentucky\\ky_fl_combined\\FL Model\n"
     ]
    },
    {
     "name": "stderr",
     "output_type": "stream",
     "text": [
      "C:\\Users\\binha\\Anaconda3\\lib\\site-packages\\sklearn\\externals\\six.py:31: DeprecationWarning:\n",
      "\n",
      "The module is deprecated in version 0.21 and will be removed in version 0.23 since we've dropped support for Python 2.7. Please rely on the official version of six (https://pypi.org/project/six/).\n",
      "\n"
     ]
    }
   ],
   "source": [
    "import os \n",
    "os.chdir('../../')\n",
    "print(\"Current working directory is now: \", os.getcwd())\n",
    "\n",
    "import pandas as pd \n",
    "import numpy as np\n",
    "import csv\n",
    "\n",
    "import FL_utils.FL_interpretable_functions as interpret\n",
    "import FL_utils.FL_RiskSLIM as slim\n",
    "import FL_utils.FL_stumps as stumps\n",
    "import FL_utils.FL_Corel as Corel\n",
    "\n",
    "# restore saved variables\n",
    "%store -r summary_M6_fl_inter_model"
   ]
  },
  {
   "cell_type": "markdown",
   "metadata": {},
   "source": [
    "### EBM & CART"
   ]
  },
  {
   "cell_type": "code",
   "execution_count": 3,
   "metadata": {},
   "outputs": [],
   "source": [
    "KY_data = pd.read_csv(\"~/Documents/Duke/Cynthia Research/psa-analysis - test/kentucky/models/ky_fl_combined/data preparation/KY_cleaned\")\n",
    "FL_data = pd.read_csv(\"~/Documents/Duke/Cynthia Research/psa-analysis - test/kentucky/models/ky_fl_combined/data preparation/FL_cleaned\")\n",
    "\n",
    "## split x and y \n",
    "KY_X = KY_data.loc[:,:'current_violence']\n",
    "KY_Y = KY_data['recid_M_six_month'].values\n",
    "FL_X = FL_data.loc[:,:'current_violence']\n",
    "FL_Y = FL_data['recid_M_six_month'].values"
   ]
  },
  {
   "cell_type": "code",
   "execution_count": 4,
   "metadata": {},
   "outputs": [],
   "source": [
    "#### CART\n",
    "depth = [1,2]\n",
    "impurity = [0.001, 0.003]\n",
    "split = [2,3,4]\n",
    "cart_summary = advance.CART(KY_X, KY_Y, FL_X, FL_Y, depth, split, impurity, seed=816)\n",
    "\n",
    "### EBM\n",
    "estimators = [40, 60]\n",
    "depth = [1]\n",
    "learning_rate = [0.01]\n",
    "holdout_split = [0.9]\n",
    "ebm_summary = advance.EBM(KY_X, KY_Y, FL_X, FL_Y, learning_rate, depth, estimators, holdout_split, seed=816)"
   ]
  },
  {
   "cell_type": "code",
   "execution_count": 5,
   "metadata": {},
   "outputs": [
    {
     "data": {
      "text/plain": [
       "(0.6162432825418865, 0.6248487050058547)"
      ]
     },
     "execution_count": 5,
     "metadata": {},
     "output_type": "execute_result"
    }
   ],
   "source": [
    "cart_summary['KY_score'], ebm_summary['KY_score']"
   ]
  },
  {
   "cell_type": "markdown",
   "metadata": {},
   "source": [
    "### Lasso Stumps"
   ]
  },
  {
   "cell_type": "code",
   "execution_count": 6,
   "metadata": {},
   "outputs": [],
   "source": [
    "KY_stumps = pd.read_csv(\"~/Documents/Duke/Cynthia Research/psa-analysis - test/kentucky/models/ky_fl_combined/data preparation/KY_stumps\")\n",
    "FL_stumps = pd.read_csv(\"~/Documents/Duke/Cynthia Research/psa-analysis - test/kentucky/models/ky_fl_combined/data preparation/FL_stumps\")\n",
    "\n",
    "## split x and y \n",
    "KY_X = KY_stumps.loc[:,:'current_violence>=1']\n",
    "KY_Y = KY_stumps['recid_M_six_month'].values\n",
    "FL_X = FL_stumps.loc[:,:'current_violence>=1']\n",
    "FL_Y = FL_stumps['recid_M_six_month'].values\n",
    "\n",
    "## columns \n",
    "cols = KY_X.columns"
   ]
  },
  {
   "cell_type": "code",
   "execution_count": 24,
   "metadata": {},
   "outputs": [],
   "source": [
    "c_grid = {'C':[0.05, 0.07, 0.09]}\n",
    "stumps_summary = stumps.stump_cv(KY_X, KY_Y, FL_X, FL_Y, cols, c_grid, seed=816)"
   ]
  },
  {
   "cell_type": "code",
   "execution_count": 25,
   "metadata": {},
   "outputs": [
    {
     "data": {
      "text/plain": [
       "{'best_auc': 0.575887238864957,\n",
       " 'best_params': {'C': 0.09},\n",
       " 'auc_diffs': 0.07467211947690156,\n",
       " 'KY_score': 0.5984379303413238}"
      ]
     },
     "execution_count": 25,
     "metadata": {},
     "output_type": "execute_result"
    }
   ],
   "source": [
    "stumps_summary"
   ]
  },
  {
   "cell_type": "markdown",
   "metadata": {},
   "source": [
    "### RiskSLIM"
   ]
  },
  {
   "cell_type": "code",
   "execution_count": 26,
   "metadata": {},
   "outputs": [
    {
     "data": {
      "text/plain": [
       "21"
      ]
     },
     "execution_count": 26,
     "metadata": {},
     "output_type": "execute_result"
    }
   ],
   "source": [
    "## train on best param chosen by Lasso Stumps from above\n",
    "lasso = LogisticRegression(class_weight='balanced', solver='liblinear', penalty='l1', C=0.09, random_state=816).fit(FL_X, FL_Y)\n",
    "selected_features = cols[lasso.coef_[0] != 0].tolist()\n",
    "len(selected_features)"
   ]
  },
  {
   "cell_type": "code",
   "execution_count": 27,
   "metadata": {},
   "outputs": [],
   "source": [
    "### Subset features\n",
    "sub_FL_X = FL_stumps.loc[:, selected_features]\n",
    "sub_KY_X = KY_stumps.loc[:, selected_features]\n",
    "sub_FL_X.insert(0, '(Intercept)', 1)"
   ]
  },
  {
   "cell_type": "code",
   "execution_count": 30,
   "metadata": {
    "scrolled": true
   },
   "outputs": [
    {
     "name": "stdout",
     "output_type": "stream",
     "text": [
      "setting c0 = 0.0 to ensure that intercept is not penalized\n",
      "09/17/19 @ 01:32 PM | 941 rows in lookup table\n",
      "09/17/19 @ 01:32 PM | ------------------------------------------------------------\n",
      "09/17/19 @ 01:32 PM | runnning initialization procedure\n",
      "09/17/19 @ 01:32 PM | ------------------------------------------------------------\n",
      "09/17/19 @ 01:32 PM | CPA produced 2 cuts\n",
      "09/17/19 @ 01:32 PM | running naive rounding on 70 solutions\n",
      "09/17/19 @ 01:32 PM | best objective value: 0.3647\n",
      "09/17/19 @ 01:32 PM | rounding produced 1 integer solutions\n",
      "09/17/19 @ 01:32 PM | best objective value is 0.4133\n",
      "09/17/19 @ 01:32 PM | running sequential rounding on 70 solutions\n",
      "09/17/19 @ 01:32 PM | best objective value: 0.3647\n",
      "09/17/19 @ 01:32 PM | sequential rounding produced 5 integer solutions\n",
      "09/17/19 @ 01:32 PM | best objective value: 0.3750\n",
      "09/17/19 @ 01:32 PM | polishing 6 solutions\n",
      "09/17/19 @ 01:32 PM | best objective value: 0.3750\n",
      "09/17/19 @ 01:32 PM | polishing produced 5 integer solutions\n",
      "09/17/19 @ 01:32 PM | initialization produced 9 feasible solutions\n",
      "09/17/19 @ 01:32 PM | best objective value: 0.3734\n",
      "09/17/19 @ 01:32 PM | ------------------------------------------------------------\n",
      "09/17/19 @ 01:32 PM | completed initialization procedure\n",
      "09/17/19 @ 01:32 PM | ------------------------------------------------------------\n",
      "09/17/19 @ 01:32 PM | 941 rows in lookup table\n",
      "CPXPARAM_Read_DataCheck                          1\n",
      "CPXPARAM_Threads                                 1\n",
      "CPXPARAM_Parallel                                1\n",
      "CPXPARAM_RandomSeed                              0\n",
      "CPXPARAM_TimeLimit                               200\n",
      "CPXPARAM_MIP_Tolerances_LowerCutoff              0.36363276220915602\n",
      "CPXPARAM_MIP_Tolerances_UpperCutoff              0.37341006338922822\n"
     ]
    },
    {
     "name": "stderr",
     "output_type": "stream",
     "text": [
      "Warning: Control callbacks may disable some MIP features.\n"
     ]
    },
    {
     "name": "stdout",
     "output_type": "stream",
     "text": [
      "Lazy constraint(s) or lazy constraint callback is present.\n",
      "    Disabling dual reductions (CPX_PARAM_REDUCE) in presolve.\n",
      "    Disabling non-linear reductions (CPX_PARAM_PRELINEAR) in presolve.\n",
      "         Disabling repeat represolve because of lazy constraint/incumbent callback.\n",
      "09/17/19 @ 01:32 PM | adding 191 initial cuts\n",
      "1 of 1 MIP starts provided solutions.\n",
      "MIP start 'mip_start_0' defined initial solution with objective 0.3734.\n",
      "Tried aggregator 1 time.\n",
      "Reduced MIP has 23 rows, 46 columns, and 87 nonzeros.\n",
      "Reduced MIP has 21 binaries, 23 generals, 0 SOSs, and 0 indicators.\n",
      "Presolve time = 0.00 sec. (0.05 ticks)\n",
      "Probing time = 0.00 sec. (0.01 ticks)\n",
      "MIP emphasis: balance optimality and feasibility.\n",
      "MIP search method: traditional branch-and-cut.\n",
      "Parallel mode: none, using 1 thread.\n",
      "Root relaxation solution time = 0.00 sec. (0.03 ticks)\n",
      "\n",
      "        Nodes                                         Cuts/\n",
      "   Node  Left     Objective  IInf  Best Integer    Best Bound    ItCnt     Gap         Variable B NodeID Parent  Depth\n",
      "\n",
      "*     0+    0                            0.3734        0.3626             2.89%\n",
      "      0     0        0.3636     1        0.3734        0.3636        1    2.62%\n",
      "      0     0        0.3636     1        0.3734       Cuts: 2        2    2.62%\n",
      "      0     0        0.3636     3        0.3734    MIRcuts: 1        5    2.62%\n",
      "      0     2        0.3636     4        0.3734        0.3636        5    2.62%                        0             0\n",
      "Elapsed time = 0.09 sec. (1.44 ticks, tree = 0.01 MB, solutions = 1)\n",
      "   2500   783        0.3700     7        0.3734        0.3636    10372    2.62%           rho_6 D   2500   2499     14\n",
      "   4060  1298        cutoff              0.3734        0.3636    17362    2.62%          rho_20 U   4060   4058     20\n",
      "   5380  1806        0.3642     8        0.3734        0.3636    24274    2.62%           rho_4 U   5380   5347     10\n",
      "   6634  2274        cutoff              0.3734        0.3636    30387    2.62%           rho_8 D   6634   6632     29\n",
      "   7945  2717        0.3670     3        0.3734        0.3646    35291    2.37%          rho_15 U   7945   7944     18\n",
      "   9306  3182        0.3678     6        0.3734        0.3651    39550    2.23%          rho_20 U   9306   9305     18\n",
      "  10673  3477        0.3670     8        0.3734        0.3656    44381    2.08%          rho_20 D  10673  10672     22\n",
      "  12000  3737        0.3665     7        0.3734        0.3661    49134    1.95%           rho_6 D  12000  11999     15\n",
      "  13402  4024        0.3668    12        0.3734        0.3665    53913    1.84%           rho_6 U  13402   5928     13\n",
      "  19303  4731        0.3708     4        0.3734        0.3680    73672    1.46%          rho_20 U  19303  14922     20\n",
      "Elapsed time = 3.00 sec. (3103.61 ticks, tree = 1.34 MB, solutions = 1)\n",
      "  24762  4652        0.3701     9        0.3734        0.3692    91814    1.14%           rho_2 D  24762   3041     33\n",
      "  30111  3886        cutoff              0.3734        0.3704   109019    0.82%           rho_4 U  30111  20191     23\n",
      "  35618  1833        0.3734     5        0.3734        0.3719   126080    0.40%           rho_2 N  35618  14751     24\n",
      "\n",
      "Mixed integer rounding cuts applied:  1\n",
      "User cuts applied:  258\n",
      "\n",
      "Root node processing (before b&c):\n",
      "  Real time             =    0.09 sec. (1.45 ticks)\n",
      "Sequential b&c:\n",
      "  Real time             =    5.30 sec. (6399.10 ticks)\n",
      "                          ------------\n",
      "Total (root+branch&cut) =    5.39 sec. (6400.55 ticks)\n",
      "+----------------------------------------------+------------------+-----------+\n",
      "| Pr(Y = +1) = 1.0/(1.0 + exp(-(-3 + score))   |                  |           |\n",
      "| ============================================ | ================ | ========= |\n",
      "| age_at_current_charge<=19.0                  |         1 points |   + ..... |\n",
      "| three_year>=1                                |         1 points |   + ..... |\n",
      "| ============================================ | ================ | ========= |\n",
      "| ADD POINTS FROM ROWS 1 to 2                  |            SCORE |   = ..... |\n",
      "+----------------------------------------------+------------------+-----------+\n"
     ]
    }
   ],
   "source": [
    "riskslim_summary = slim.risk_cv(sub_KY_X, KY_Y, sub_FL_X, FL_Y, \n",
    "                                y_label = 'general2', \n",
    "                                max_coef = 20, \n",
    "                                max_coef_number =10, \n",
    "                                max_runtime=200, \n",
    "                                c=1e-4, \n",
    "                                seed=816)"
   ]
  },
  {
   "cell_type": "code",
   "execution_count": 31,
   "metadata": {},
   "outputs": [
    {
     "data": {
      "text/plain": [
       "[0.6078705108473821]"
      ]
     },
     "execution_count": 31,
     "metadata": {},
     "output_type": "execute_result"
    }
   ],
   "source": [
    "riskslim_summary['KY_auc']"
   ]
  },
  {
   "cell_type": "markdown",
   "metadata": {},
   "source": [
    "### Corel"
   ]
  },
  {
   "cell_type": "code",
   "execution_count": 3,
   "metadata": {},
   "outputs": [],
   "source": [
    "KY_stumps = pd.read_csv(\"~/Documents/Duke/Cynthia Research/psa-analysis - test/kentucky/models/ky_fl_combined/data preparation/KY_stumps\")\n",
    "FL_stumps = pd.read_csv(\"~/Documents/Duke/Cynthia Research/psa-analysis - test/kentucky/models/ky_fl_combined/data preparation/FL_stumps\")\n",
    "\n",
    "## split x and y \n",
    "KY_X = KY_stumps.loc[:,:'current_violence>=1']\n",
    "KY_Y = KY_stumps['recid_M_six_month'].values\n",
    "FL_X = FL_stumps.loc[:,:'current_violence>=1']\n",
    "FL_Y = FL_stumps['recid_M_six_month'].values"
   ]
  },
  {
   "cell_type": "code",
   "execution_count": 4,
   "metadata": {},
   "outputs": [],
   "source": [
    "KY_score, FL_score = Corel.corel_cv(KY_X, KY_Y, FL_X, FL_Y, max_card=2, c=1e-3, seed=816)"
   ]
  },
  {
   "cell_type": "code",
   "execution_count": 16,
   "metadata": {},
   "outputs": [
    {
     "name": "stdout",
     "output_type": "stream",
     "text": [
      "Stored 'summary_general2_fl_inter_model' (dict)\n"
     ]
    }
   ],
   "source": [
    "#### save results\n",
    "summary_M6_fl_inter_model = {\"CART\": cart_summary,\n",
    "                                    \"EBM\": ebm_summary,\n",
    "                                    \"Stumps\": stumps_summary,\n",
    "                                    \"RiskSLIM\": riskslim_summary, \n",
    "                                   \"Corel\": KY_score}\n",
    "%store summary_M6_fl_inter_model"
   ]
  },
  {
   "cell_type": "code",
   "execution_count": 33,
   "metadata": {},
   "outputs": [],
   "source": [
    "path = \"C:\\\\Users\\\\binha\\\\Documents\\\\Duke\\\\Cynthia Research\\\\KY-analysis-mytrials\\\\KY Recidivism\\\\KY Results\\\\KY_FL\\\\FL Model\\\\interpretable\\\\Six Month\\\\\"\n",
    "results = [[\"Misdemeanor\",             \n",
    "            round(cart_summary['KY_score'],3), \n",
    "            round(ebm_summary['KY_score'], 3), \n",
    "            round(stumps_summary['KY_score'],3), \n",
    "            round(riskslim_summary['KY_auc'][0], 3), \n",
    "            round(KY_score, 3)]]\n",
    "with open(path + 'Six Month FL_inter_model.csv', 'a') as writeFile:\n",
    "    writer = csv.writer(writeFile)\n",
    "    writer.writerows(results)"
   ]
  }
 ],
 "metadata": {
  "kernelspec": {
   "display_name": "Python 3",
   "language": "python",
   "name": "python3"
  },
  "language_info": {
   "codemirror_mode": {
    "name": "ipython",
    "version": 3
   },
   "file_extension": ".py",
   "mimetype": "text/x-python",
   "name": "python",
   "nbconvert_exporter": "python",
   "pygments_lexer": "ipython3",
   "version": "3.7.4"
  }
 },
 "nbformat": 4,
 "nbformat_minor": 4
}
