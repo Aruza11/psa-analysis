{
 "cells": [
  {
   "cell_type": "code",
   "execution_count": 1,
   "metadata": {},
   "outputs": [
    {
     "name": "stdout",
     "output_type": "stream",
     "text": [
      "Current working directory is now:  C:\\Users\\binha\\Documents\\Duke\\Cynthia Research\\psa-analysis - test2\\kentucky\\ky_fl_combined\\FL Model\n"
     ]
    },
    {
     "name": "stderr",
     "output_type": "stream",
     "text": [
      "C:\\Users\\binha\\Anaconda3\\lib\\site-packages\\sklearn\\externals\\six.py:31: DeprecationWarning:\n",
      "\n",
      "The module is deprecated in version 0.21 and will be removed in version 0.23 since we've dropped support for Python 2.7. Please rely on the official version of six (https://pypi.org/project/six/).\n",
      "\n"
     ]
    }
   ],
   "source": [
    "import os \n",
    "os.chdir('../../')\n",
    "print(\"Current working directory is now: \", os.getcwd())\n",
    "\n",
    "import pandas as pd \n",
    "import numpy as np\n",
    "import csv\n",
    "\n",
    "import FL_utils.FL_interpretable_functions as interpret\n",
    "import FL_utils.FL_RiskSLIM as slim\n",
    "import FL_utils.FL_stumps as stumps\n",
    "import FL_utils.FL_Corel as Corel\n",
    "\n",
    "# restore saved variables\n",
    "%store -r summary_violent6_fl_inter_model"
   ]
  },
  {
   "cell_type": "markdown",
   "metadata": {},
   "source": [
    "### EBM & CART"
   ]
  },
  {
   "cell_type": "code",
   "execution_count": 2,
   "metadata": {},
   "outputs": [],
   "source": [
    "KY_data = pd.read_csv(\"~/Documents/Duke/Cynthia Research/psa-analysis - test/kentucky/models/ky_fl_combined/data preparation/KY_cleaned\")\n",
    "FL_data = pd.read_csv(\"~/Documents/Duke/Cynthia Research/psa-analysis - test/kentucky/models/ky_fl_combined/data preparation/FL_cleaned\")\n",
    "\n",
    "## split x and y \n",
    "KY_X = KY_data.loc[:,:'current_violence']\n",
    "KY_Y = KY_data['recid_violence_six_month'].values\n",
    "FL_X = FL_data.loc[:,:'current_violence']\n",
    "FL_Y = FL_data['recid_violence_six_month'].values"
   ]
  },
  {
   "cell_type": "code",
   "execution_count": 3,
   "metadata": {},
   "outputs": [],
   "source": [
    "#### CART\n",
    "depth = [1,2]\n",
    "impurity = [0.001, 0.003]\n",
    "split = [2,3,4]\n",
    "cart_summary = advance.CART(KY_X, KY_Y, FL_X, FL_Y, depth, split, impurity, seed=816)\n",
    "\n",
    "### EBM\n",
    "estimators = [40,60]\n",
    "depth = [1]\n",
    "learning_rate = [0.05]\n",
    "holdout_split = [0.9]\n",
    "ebm_summary = advance.EBM(KY_X, KY_Y, FL_X, FL_Y, learning_rate, depth, estimators, holdout_split, seed=816)"
   ]
  },
  {
   "cell_type": "code",
   "execution_count": 26,
   "metadata": {},
   "outputs": [
    {
     "data": {
      "text/plain": [
       "(0.5486723502829878, 0.7162025824758036)"
      ]
     },
     "execution_count": 26,
     "metadata": {},
     "output_type": "execute_result"
    }
   ],
   "source": [
    "cart_summary['KY_score'], ebm_summary['KY_score']"
   ]
  },
  {
   "cell_type": "markdown",
   "metadata": {},
   "source": [
    "### Lasso Stumps"
   ]
  },
  {
   "cell_type": "code",
   "execution_count": 4,
   "metadata": {},
   "outputs": [],
   "source": [
    "KY_stumps = pd.read_csv(\"~/Documents/Duke/Cynthia Research/psa-analysis - test/kentucky/models/ky_fl_combined/data preparation/KY_stumps\")\n",
    "FL_stumps = pd.read_csv(\"~/Documents/Duke/Cynthia Research/psa-analysis - test/kentucky/models/ky_fl_combined/data preparation/FL_stumps\")\n",
    "\n",
    "## split x and y \n",
    "KY_X = KY_stumps.loc[:,:'current_violence>=1']\n",
    "KY_Y = KY_stumps['recid_violence_six_month'].values\n",
    "FL_X = FL_stumps.loc[:,:'current_violence>=1']\n",
    "FL_Y = FL_stumps['recid_violence_six_month'].values\n",
    "\n",
    "## columns \n",
    "cols = KY_X.columns"
   ]
  },
  {
   "cell_type": "code",
   "execution_count": 9,
   "metadata": {},
   "outputs": [],
   "source": [
    "c_grid = {'C': [0.01, 0.03, 0.05, 0.07]}\n",
    "stumps_summary = stumps.stump_cv(KY_X, KY_Y, FL_X, FL_Y, cols, c_grid, seed=816)"
   ]
  },
  {
   "cell_type": "code",
   "execution_count": 10,
   "metadata": {},
   "outputs": [
    {
     "data": {
      "text/plain": [
       "{'best_auc': 0.6621725341440978,\n",
       " 'best_params': {'C': 0.05},\n",
       " 'auc_diffs': 0.054133158134484605,\n",
       " 'KY_score': 0.8368798019860898}"
      ]
     },
     "execution_count": 10,
     "metadata": {},
     "output_type": "execute_result"
    }
   ],
   "source": [
    "stumps_summary"
   ]
  },
  {
   "cell_type": "markdown",
   "metadata": {},
   "source": [
    "### RiskSLIM"
   ]
  },
  {
   "cell_type": "code",
   "execution_count": 11,
   "metadata": {},
   "outputs": [
    {
     "data": {
      "text/plain": [
       "19"
      ]
     },
     "execution_count": 11,
     "metadata": {},
     "output_type": "execute_result"
    }
   ],
   "source": [
    "## train on best param chosen by Lasso Stumps from above\n",
    "lasso = LogisticRegression(class_weight='balanced', solver='liblinear', penalty='l1', C=0.05, random_state=816).fit(FL_X, FL_Y)\n",
    "selected_features = cols[lasso.coef_[0] != 0].tolist()\n",
    "len(selected_features)"
   ]
  },
  {
   "cell_type": "code",
   "execution_count": 12,
   "metadata": {},
   "outputs": [],
   "source": [
    "### Subset features\n",
    "sub_FL_X = FL_stumps.loc[:, selected_features]\n",
    "sub_KY_X = KY_stumps.loc[:, selected_features]\n",
    "sub_FL_X.insert(0, '(Intercept)', 1)"
   ]
  },
  {
   "cell_type": "code",
   "execution_count": 13,
   "metadata": {
    "scrolled": true
   },
   "outputs": [
    {
     "name": "stdout",
     "output_type": "stream",
     "text": [
      "setting c0 = 0.0 to ensure that intercept is not penalized\n",
      "09/17/19 @ 01:19 PM | 861 rows in lookup table\n",
      "09/17/19 @ 01:19 PM | ------------------------------------------------------------\n",
      "09/17/19 @ 01:19 PM | runnning initialization procedure\n",
      "09/17/19 @ 01:19 PM | ------------------------------------------------------------\n",
      "09/17/19 @ 01:19 PM | CPA produced 2 cuts\n",
      "09/17/19 @ 01:19 PM | running naive rounding on 110 solutions\n",
      "09/17/19 @ 01:19 PM | best objective value: 0.2674\n",
      "09/17/19 @ 01:19 PM | rounding produced 2 integer solutions\n",
      "09/17/19 @ 01:19 PM | best objective value is 0.2824\n",
      "09/17/19 @ 01:19 PM | running sequential rounding on 110 solutions\n",
      "09/17/19 @ 01:19 PM | best objective value: 0.2674\n",
      "09/17/19 @ 01:19 PM | sequential rounding produced 2 integer solutions\n",
      "09/17/19 @ 01:19 PM | best objective value: 0.2793\n",
      "09/17/19 @ 01:19 PM | polishing 4 solutions\n",
      "09/17/19 @ 01:19 PM | best objective value: 0.2793\n",
      "09/17/19 @ 01:19 PM | polishing produced 4 integer solutions\n",
      "09/17/19 @ 01:19 PM | initialization produced 6 feasible solutions\n",
      "09/17/19 @ 01:19 PM | best objective value: 0.2793\n",
      "09/17/19 @ 01:19 PM | ------------------------------------------------------------\n",
      "09/17/19 @ 01:19 PM | completed initialization procedure\n",
      "09/17/19 @ 01:19 PM | ------------------------------------------------------------\n",
      "09/17/19 @ 01:19 PM | 861 rows in lookup table\n",
      "CPXPARAM_Read_DataCheck                          1\n",
      "CPXPARAM_Threads                                 1\n",
      "CPXPARAM_Parallel                                1\n",
      "CPXPARAM_RandomSeed                              0\n",
      "CPXPARAM_TimeLimit                               200\n",
      "CPXPARAM_MIP_Tolerances_LowerCutoff              0.26736451486303642\n",
      "CPXPARAM_MIP_Tolerances_UpperCutoff              0.27934250775311698\n"
     ]
    },
    {
     "name": "stderr",
     "output_type": "stream",
     "text": [
      "Warning: Control callbacks may disable some MIP features.\n"
     ]
    },
    {
     "name": "stdout",
     "output_type": "stream",
     "text": [
      "Lazy constraint(s) or lazy constraint callback is present.\n",
      "    Disabling dual reductions (CPX_PARAM_REDUCE) in presolve.\n",
      "    Disabling non-linear reductions (CPX_PARAM_PRELINEAR) in presolve.\n",
      "         Disabling repeat represolve because of lazy constraint/incumbent callback.\n",
      "09/17/19 @ 01:19 PM | adding 200 initial cuts\n",
      "1 of 1 MIP starts provided solutions.\n",
      "MIP start 'mip_start_0' defined initial solution with objective 0.2793.\n",
      "Tried aggregator 1 time.\n",
      "Reduced MIP has 21 rows, 42 columns, and 79 nonzeros.\n",
      "Reduced MIP has 19 binaries, 21 generals, 0 SOSs, and 0 indicators.\n",
      "Presolve time = 0.00 sec. (0.04 ticks)\n",
      "Probing time = 0.00 sec. (0.01 ticks)\n",
      "MIP emphasis: balance optimality and feasibility.\n",
      "MIP search method: traditional branch-and-cut.\n",
      "Parallel mode: none, using 1 thread.\n",
      "Root relaxation solution time = 0.00 sec. (0.03 ticks)\n",
      "\n",
      "        Nodes                                         Cuts/\n",
      "   Node  Left     Objective  IInf  Best Integer    Best Bound    ItCnt     Gap         Variable B NodeID Parent  Depth\n",
      "\n",
      "*     0+    0                            0.2793        0.2574             7.87%\n",
      "      0     0        0.2674     1        0.2793        0.2674        1    4.29%\n",
      "      0     2        0.2674     3        0.2793        0.2674        1    4.29%                        0             0\n",
      "Elapsed time = 0.13 sec. (1.14 ticks, tree = 0.01 MB, solutions = 1)\n",
      "   2668  1123        0.2787     3        0.2793        0.2674     9976    4.29%           rho_9 D   2668   2666     17\n",
      "*  3461  1435      integral     0        0.2787        0.2674    13435    4.03%\n",
      "   4656  1889        0.2711     4        0.2787        0.2686    16728    3.63%           rho_0 D   4656   4654     30\n",
      "   6700  2655        0.2696     5        0.2787        0.2695    22302    3.27%           rho_9 D   6700   6699     31\n",
      "   8590  3511        0.2706     5        0.2787        0.2696    27161    3.26%           rho_0 D   8590   8588     95\n",
      "  10430  4323        0.2716     5        0.2787        0.2696    31965    3.25%           rho_0 D  10430  10428     96\n",
      "  12190  5097        0.2731     5        0.2787        0.2696    36536    3.25%           rho_7 D  12190  12189     31\n",
      "  14020  5821        0.2706     4        0.2787        0.2696    41363    3.24%           rho_0 D  14020  14018     35\n",
      "  15878  6603        0.2706     4        0.2787        0.2696    46249    3.24%           rho_0 D  15878  15876     32\n",
      "  17708  7285        0.2745     1        0.2787        0.2698    51301    3.19%           rho_7 U  17708  17706     26\n",
      "  25853 10584        0.2712     4        0.2787        0.2702    67741    3.03%           rho_0 D  25853  25851     68\n",
      "Elapsed time = 6.41 sec. (3102.68 ticks, tree = 2.85 MB, solutions = 2)\n",
      "  34543 14089        0.2703     5        0.2787        0.2703    90772    3.00%           rho_6 D  34543  34062     30\n",
      "  42200 16709        0.2723     6        0.2787        0.2703   114017    2.99%           rho_0 D  42200  42198     73\n",
      "  50064 20190        0.2705     6        0.2787        0.2705   135110    2.94%           rho_8 U  50064  50039     23\n",
      "  58001 23591        0.2741     5        0.2787        0.2705   151541    2.91%           rho_7 D  58001  58000     86\n",
      "  65773 26835        cutoff              0.2787        0.2705   170086    2.91%           rho_0 U  65773  65772     47\n",
      "  73500 30886        0.2705     4        0.2787        0.2705   186426    2.91%           rho_9 U  73500  10340     59\n",
      "  82010 34501        0.2706     4        0.2787        0.2706   206335    2.90%           rho_5 U  82010  16042     35\n",
      "  90243 38008        0.2706     4        0.2787        0.2706   223996    2.90%           rho_0 D  90243  90241     44\n",
      "  97765 41186        cutoff              0.2787        0.2706   239836    2.90%           rho_0 D  97765  97764     78\n",
      " 105351 44324        cutoff              0.2787        0.2706   255899    2.90%           rho_0 U 105351 105350    106\n",
      "Elapsed time = 26.28 sec. (12640.06 ticks, tree = 12.06 MB, solutions = 2)\n",
      " 112573 47042        0.2716     4        0.2787        0.2706   270885    2.90%           rho_5 U 112573 112571     80\n",
      " 120180 49861        0.2776     3        0.2787        0.2706   288174    2.90%          rho_18 D 120180 120179     88\n",
      " 128687 53570        0.2716     4        0.2787        0.2706   307232    2.90%           rho_6 U 128687 128685     62\n",
      " 137070 56565        0.2716     4        0.2787        0.2706   326031    2.90%           rho_0 D 137070 137068     59\n",
      " 145401 59390        0.2764     5        0.2787        0.2706   344694    2.90%           rho_3 D 145401 145400    113\n",
      " 153708 62283        cutoff              0.2787        0.2706   363619    2.89%           rho_3 N 153708 153706     41\n",
      " 160980 64972        cutoff              0.2787        0.2706   382492    2.89%           rho_0 D 160980 160979     85\n",
      " 168301 67432        0.2760     4        0.2787        0.2706   402621    2.89%           rho_4 N 168301 168300     41\n",
      " 175807 70051        0.2726     4        0.2787        0.2706   421215    2.89%           rho_0 D 175807 175805     49\n",
      " 182949 72589        cutoff              0.2787        0.2706   437797    2.89%           rho_0 U 182949 182948     73\n",
      "Elapsed time = 44.66 sec. (22177.59 ticks, tree = 20.94 MB, solutions = 2)\n",
      " 189968 75118        0.2749     5        0.2787        0.2706   453968    2.89%           rho_3 D 189968 189967     83\n",
      " 197018 77588        0.2749     5        0.2787        0.2706   470218    2.89%           rho_7 D 197018 197017    101\n",
      " 204456 78794        0.2717     4        0.2787        0.2707   490213    2.87%           rho_0 D 204456 204454     40\n",
      " 211827 78865        0.2757     5        0.2787        0.2707   512265    2.87%           rho_3 D 211827 211825     63\n",
      " 219091 78933        cutoff              0.2787        0.2707   533999    2.87%          rho_17 U 219091 219090     60\n",
      " 226408 79006        0.2750     5        0.2787        0.2707   555808    2.87%           rho_4 D 226408 226406     49\n",
      " 234683 81886        0.2720     1        0.2787        0.2708   573904    2.82%           rho_7 N 234683 234682     75\n",
      " 242700 85638        0.2747     5        0.2787        0.2709   590727    2.80%           rho_2 D 242700 242698     81\n",
      " 250179 88765        0.2746     5        0.2787        0.2709   608128    2.78%           rho_4 D 250179 250177     86\n",
      " 260060 94086        0.2748     4        0.2787        0.2709   620569    2.78%           rho_7 U 260060 260059    101\n",
      "Elapsed time = 63.14 sec. (31715.06 ticks, tree = 25.53 MB, solutions = 2)\n",
      " 268750 98699        0.2759     4        0.2787        0.2709   631030    2.78%           rho_7 U 268750 268749     85\n",
      " 277702 103659        0.2776     4        0.2787        0.2709   641680    2.78%           rho_0 D 277702 277701     82\n",
      " 286695 108628        0.2761     4        0.2787        0.2709   652395    2.78%           rho_0 D 286695 286694     72\n",
      " 295855 113476        0.2739     4        0.2787        0.2709   663620    2.78%           rho_0 D 295855 295854     64\n",
      " 304758 118283        0.2753     4        0.2787        0.2709   674384    2.78%           rho_7 U 304758 304757     79\n",
      " 313594 122886        0.2771     4        0.2787        0.2709   685210    2.78%           rho_0 D 313594 313593    100\n",
      " 322864 127171        0.2737     7        0.2787        0.2711   699085    2.72%           rho_0 D 322864 322862     24\n",
      " 332420 132157        0.2721     4        0.2787        0.2711   712259    2.70%           rho_5 U 332420 332418     60\n",
      " 340254 136318        0.2721     4        0.2787        0.2711   722680    2.70%           rho_5 U 340254 340252     76\n",
      " 347859 140141        0.2721     4        0.2787        0.2711   733139    2.70%           rho_0 D 347859 347857     79\n",
      "Elapsed time = 80.28 sec. (41252.87 ticks, tree = 38.34 MB, solutions = 2)\n",
      " 357149 144699        0.2721     4        0.2787        0.2711   745879    2.70%           rho_5 U 357149 357147     72\n",
      " 365224 148724        cutoff              0.2787        0.2711   756832    2.70%           rho_0 U 365224 365223    105\n",
      " 374247 153302        cutoff              0.2787        0.2712   769297    2.69%           rho_0 U 374247 374246     87\n",
      " 382125 157267        0.2731     4        0.2787        0.2712   779970    2.68%           rho_5 U 382125 382123     70\n",
      " 389742 161416        0.2743     4        0.2787        0.2712   790363    2.68%           rho_7 N 389742 389741     92\n",
      " 397370 165415        0.2732     5        0.2787        0.2712   801015    2.68%           rho_5 D 397370 397369     68\n",
      " 405000 169979        0.2758     5        0.2787        0.2712   811258    2.68%           rho_7 D 405000 404999     82\n",
      " 412693 174201        0.2721     4        0.2787        0.2712   821633    2.68%           rho_0 D 412693 412691     52\n",
      " 421106 178339        0.2712     4        0.2787        0.2712   833892    2.67%           rho_0 D 421106 421104     62\n",
      " 429804 183104        0.2773     4        0.2787        0.2712   849361    2.67%           rho_7 U 429804 429803     83\n",
      "Elapsed time = 97.28 sec. (50790.88 ticks, tree = 49.23 MB, solutions = 2)\n",
      " 438876 188330        0.2712     4        0.2787        0.2712   865176    2.67%           rho_0 D 438876 438874     53\n",
      " 448080 193797        0.2722     4        0.2787        0.2712   880771    2.67%           rho_5 U 448080 448078     73\n",
      " 457090 198833        0.2763     4        0.2787        0.2712   896783    2.67%           rho_7 U 457090 457089     95\n",
      " 466130 203928        0.2712     5        0.2787        0.2712   912514    2.67%           rho_6 D 466130 466129     84\n",
      " 475018 208273        0.2778     4        0.2787        0.2712   925911    2.67%           rho_7 U 475018 475017     85\n",
      " 484237 213044        0.2714     5        0.2787        0.2712   938720    2.66%           rho_7 U 484237 484236     96\n",
      " 492755 217839        0.2724     5        0.2787        0.2712   949886    2.66%           rho_5 N 492755 492754     65\n",
      " 501380 222649        0.2773     4        0.2787        0.2713   965309    2.65%           rho_7 U 501380 501379     59\n",
      " 509924 228295        0.2713     5        0.2787        0.2713   979817    2.65%           rho_6 U 509924 452792     38\n",
      " 518000 233067        0.2724     6        0.2787        0.2713   995791    2.65%           rho_7 N 518000 517999     51\n",
      "Elapsed time = 115.41 sec. (60328.91 ticks, tree = 64.39 MB, solutions = 2)\n",
      " 525304 235743        0.2723     6        0.2787        0.2713  1016163    2.65%           rho_5 U 525304 525303     90\n",
      " 532453 238346        0.2723     6        0.2787        0.2713  1037161    2.65%           rho_0 D 532453 532451     29\n",
      " 539729 241157        0.2733     5        0.2787        0.2713  1058381    2.65%           rho_0 D 539729 539727     69\n",
      " 546933 243742        0.2748     8        0.2787        0.2713  1079193    2.65%           rho_7 U 546933 546931     76\n",
      " 554049 246272        cutoff              0.2787        0.2713  1099404    2.65%           rho_0 U 554049 554048     50\n",
      " 563264 250233        0.2735     5        0.2787        0.2713  1119063    2.65%           rho_0 U 563264 563263     92\n",
      " 573427 254517        0.2713     6        0.2787        0.2713  1139884    2.65%           rho_9 D 573427 573426     71\n",
      " 583621 258813        0.2726     5        0.2787        0.2713  1161165    2.65%           rho_5 D 583621 583620     60\n",
      " 593520 264160        0.2737     4        0.2787        0.2713  1178056    2.64%           rho_0 D 593520 593519     78\n",
      " 602068 269299        0.2739     4        0.2787        0.2713  1189732    2.64%           rho_7 U 602068 602066     87\n",
      "Elapsed time = 128.27 sec. (69866.31 ticks, tree = 72.13 MB, solutions = 2)\n",
      " 610590 274491        0.2778     6        0.2787        0.2713  1201410    2.64%           rho_0 D 610590 610589     92\n",
      " 619232 279944        0.2714     5        0.2787        0.2713  1213149    2.64%           rho_5 D 619232 430470     77\n",
      " 626598 283731        0.2741     9        0.2787        0.2713  1228968    2.64%           rho_7 D 626598 626597     80\n",
      " 634068 286485        0.2723     6        0.2787        0.2713  1251105    2.64%           rho_0 D 634068 634066     77\n",
      " 641158 289044        0.2742     7        0.2787        0.2713  1272550    2.64%           rho_3 D 641158 641156     94\n",
      " 648443 291895        cutoff              0.2787        0.2713  1293516    2.64%           rho_0 U 648443 648442     71\n",
      " 655902 294934        0.2731     9        0.2787        0.2713  1314543    2.64%           rho_7 D 655902 655901     59\n",
      " 663285 297964        0.2748     7        0.2787        0.2713  1335288    2.64%           rho_0 U 663285 663284     58\n",
      " 671227 300750        0.2723     5        0.2787        0.2713  1359889    2.64%           rho_5 U 671227 671225    100\n",
      " 681278 305729        cutoff              0.2787        0.2713  1379801    2.64%           rho_0 U 681278 681276     89\n",
      "Elapsed time = 138.63 sec. (79403.91 ticks, tree = 82.86 MB, solutions = 2)\n",
      " 689357 310202        0.2722     4        0.2787        0.2713  1394019    2.64%           rho_5 U 689357 689355     81\n",
      " 697098 314047        cutoff              0.2787        0.2713  1410284    2.63%           rho_2 U 697098 697097     47\n",
      " 705722 316508        0.2713     6        0.2787        0.2713  1438451    2.63%           rho_6 U 705722 705720     66\n",
      " 713511 319635        0.2741     7        0.2787        0.2713  1462863    2.63%           rho_4 D 713511 713509     99\n",
      " 723030 324344        0.2757     4        0.2787        0.2713  1478288    2.63%           rho_0 D 723030 723029     49\n",
      " 730715 328456        0.2775     4        0.2787        0.2713  1488288    2.63%           rho_7 U 730715 730714     81\n",
      " 738400 332622        0.2748     4        0.2787        0.2713  1498208    2.63%           rho_7 U 738400 738399     78\n",
      " 745826 336040        0.2733     6        0.2787        0.2713  1512324    2.63%           rho_0 D 745826 745824     55\n",
      " 753544 338701        0.2781     5        0.2787        0.2713  1534303    2.63%           rho_4 N 753544 753542    109\n",
      " 787004 351139        0.2723     6        0.2787        0.2713  1621241    2.63%           rho_8 D 787004 787003     49\n",
      "Elapsed time = 149.94 sec. (91803.34 ticks, tree = 96.09 MB, solutions = 2)\n",
      " 819098 362278        0.2739     7        0.2787        0.2714  1722167    2.62%           rho_9 D 819098 819095    102\n",
      " 849934 372329        cutoff              0.2787        0.2715  1814587    2.58%           rho_0 U 849934 849933     64\n",
      " 881701 391092        0.2725     6        0.2787        0.2715  1862029    2.58%           rho_6 U 881701 881699     64\n",
      " 912488 408019        cutoff              0.2787        0.2715  1913199    2.57%           rho_0 D 912488 912487     33\n",
      " 943654 425906        cutoff              0.2787        0.2715  1962935    2.56%           rho_0 U 943654 943653     71\n",
      " 974340 444543        0.2742     6        0.2787        0.2715  2008138    2.56%           rho_7 U 974340 974339     49\n",
      " 1006033 462330        0.2732     6        0.2787        0.2716  2055447    2.55%           rho_7 N 1006033 1006031     49\n",
      " 1038964 482886        cutoff              0.2787        0.2716  2099919    2.55%           rho_3 U 1038964 1038963     96\n",
      " 1079316 500324        cutoff              0.2787        0.2716  2165120    2.55%          rho_14 U 1079316 1079314    116\n",
      " 1119998 518683        0.2722     5        0.2787        0.2716  2232039    2.55%           rho_0 D 1119998 1119997     44\n",
      "Elapsed time = 173.53 sec. (129951.16 ticks, tree = 141.21 MB, solutions = 2)\n",
      " 1160875 537383        cutoff              0.2787        0.2716  2298771    2.55%           rho_0 U 1160875 1160874     82\n",
      " 1199114 554630        0.2754     4        0.2787        0.2716  2363724    2.55%           rho_7 U 1199114 1199113     81\n",
      " 1236671 571965        0.2716     4        0.2787        0.2716  2425697    2.55%           rho_0 D 1236671 1236669     56\n",
      " 1270760 588412        0.2726     4        0.2787        0.2716  2480710    2.55%           rho_6 U 1270760 1270758     82\n",
      " 1302308 604915        0.2773     7        0.2787        0.2716  2531973    2.55%           rho_7 D 1302308 1302306    110\n",
      " 1335913 622066        0.2749     4        0.2787        0.2716  2585312    2.55%           rho_0 D 1335913 1335912     66\n",
      " 1367556 637982        0.2754     5        0.2787        0.2716  2635233    2.54%          rho_17 D 1367556 1367554    106\n",
      " 1399489 649650        0.2726     4        0.2787        0.2716  2708570    2.54%           rho_0 D 1399489 1399487     76\n",
      " 1431221 661484        0.2752     4        0.2787        0.2716  2781983    2.54%           rho_0 D 1431221 1431218     99\n",
      " 1460320 671720        cutoff              0.2787        0.2716  2849655    2.54%           rho_0 U 1460320 1460319     83\n",
      "Elapsed time = 196.92 sec. (168098.84 ticks, tree = 179.99 MB, solutions = 2)\n",
      " 1489456 682327        0.2716     5        0.2787        0.2716  2916506    2.54%           rho_5 D 1489456 1489455     39\n",
      "\n",
      "User cuts applied:  211\n",
      "\n",
      "Root node processing (before b&c):\n",
      "  Real time             =    0.11 sec. (1.15 ticks)\n",
      "Sequential b&c:\n",
      "  Real time             =  199.91 sec. (172692.37 ticks)\n",
      "                          ------------\n",
      "Total (root+branch&cut) =  200.02 sec. (172693.52 ticks)\n",
      "+----------------------------------------------+------------------+-----------+\n",
      "| Pr(Y = +1) = 1.0/(1.0 + exp(-(-4 + score))   |                  |           |\n",
      "| ============================================ | ================ | ========= |\n",
      "| p_stealing>=1                                |         1 points |   + ..... |\n",
      "| six_month>=1                                 |         1 points |   + ..... |\n",
      "| current_violence>=1                          |         1 points |   + ..... |\n",
      "| ============================================ | ================ | ========= |\n",
      "| ADD POINTS FROM ROWS 1 to 3                  |            SCORE |   = ..... |\n",
      "+----------------------------------------------+------------------+-----------+\n"
     ]
    }
   ],
   "source": [
    "riskslim_summary = slim.risk_cv(sub_KY_X, KY_Y, sub_FL_X, FL_Y, \n",
    "                                y_label = 'general2', \n",
    "                                max_coef = 20, \n",
    "                                max_coef_number = 10, \n",
    "                                max_runtime=200, \n",
    "                                c=1e-3, \n",
    "                                seed=816)"
   ]
  },
  {
   "cell_type": "code",
   "execution_count": 14,
   "metadata": {},
   "outputs": [
    {
     "data": {
      "text/plain": [
       "[0.7697387481466732]"
      ]
     },
     "execution_count": 14,
     "metadata": {},
     "output_type": "execute_result"
    }
   ],
   "source": [
    "riskslim_summary['KY_auc']"
   ]
  },
  {
   "cell_type": "markdown",
   "metadata": {},
   "source": [
    "### Corel"
   ]
  },
  {
   "cell_type": "code",
   "execution_count": 2,
   "metadata": {},
   "outputs": [],
   "source": [
    "KY_stumps = pd.read_csv(\"~/Documents/Duke/Cynthia Research/psa-analysis - test/kentucky/models/ky_fl_combined/data preparation/KY_stumps\")\n",
    "FL_stumps = pd.read_csv(\"~/Documents/Duke/Cynthia Research/psa-analysis - test/kentucky/models/ky_fl_combined/data preparation/FL_stumps\")\n",
    "\n",
    "## split x and y \n",
    "KY_X = KY_stumps.loc[:,:'current_violence>=1']\n",
    "KY_Y = KY_stumps['recid_violence_six_month'].values\n",
    "FL_X = FL_stumps.loc[:,:'current_violence>=1']\n",
    "FL_Y = FL_stumps['recid_violence_six_month'].values"
   ]
  },
  {
   "cell_type": "code",
   "execution_count": 3,
   "metadata": {},
   "outputs": [],
   "source": [
    "KY_score, FL_score = Corel.corel_cv(KY_X, KY_Y, FL_X, FL_Y, max_card=2, c=1e-3, seed=816)"
   ]
  },
  {
   "cell_type": "code",
   "execution_count": 16,
   "metadata": {},
   "outputs": [
    {
     "name": "stdout",
     "output_type": "stream",
     "text": [
      "Stored 'summary_general2_fl_inter_model' (dict)\n"
     ]
    }
   ],
   "source": [
    "#### save results\n",
    "summary_violent6_fl_inter_model = {\"CART\": cart_summary,\n",
    "                                    \"EBM\": ebm_summary,\n",
    "                                    \"Stumps\": stumps_summary,\n",
    "                                    \"RiskSLIM\": riskslim_summary, \n",
    "                                   \"Corel\": KY_score}\n",
    "%store summary_violent6_fl_inter_model"
   ]
  },
  {
   "cell_type": "code",
   "execution_count": 16,
   "metadata": {},
   "outputs": [],
   "source": [
    "path = \"C:\\\\Users\\\\binha\\\\Documents\\\\Duke\\\\Cynthia Research\\\\KY-analysis-mytrials\\\\KY Recidivism\\\\KY Results\\\\KY_FL\\\\FL Model\\\\interpretable\\\\Six Month\\\\\"\n",
    "results = [[\"Violent\",             \n",
    "            round(cart_summary['KY_score'],3), \n",
    "            round(ebm_summary['KY_score'], 3), \n",
    "            round(stumps_summary['KY_score'],3), \n",
    "            round(riskslim_summary['KY_auc'][0], 3), \n",
    "            round(KY_score, 3)]]\n",
    "with open(path + 'Six Month FL_inter_model.csv', 'a') as writeFile:\n",
    "    writer = csv.writer(writeFile)\n",
    "    writer.writerows(results)"
   ]
  }
 ],
 "metadata": {
  "kernelspec": {
   "display_name": "Python 3",
   "language": "python",
   "name": "python3"
  },
  "language_info": {
   "codemirror_mode": {
    "name": "ipython",
    "version": 3
   },
   "file_extension": ".py",
   "mimetype": "text/x-python",
   "name": "python",
   "nbconvert_exporter": "python",
   "pygments_lexer": "ipython3",
   "version": "3.7.4"
  }
 },
 "nbformat": 4,
 "nbformat_minor": 4
}
