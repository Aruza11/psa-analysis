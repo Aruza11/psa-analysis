{
 "cells": [
  {
   "cell_type": "code",
   "execution_count": 3,
   "metadata": {},
   "outputs": [
    {
     "name": "stdout",
     "output_type": "stream",
     "text": [
      "no stored variable summary_general6_fl_model\n"
     ]
    }
   ],
   "source": [
    "import pandas as pd \n",
    "import numpy as np\n",
    "import csv\n",
    "import baseline_functions as base\n",
    "\n",
    "# restore saved variables\n",
    "%store -r summary_general6_fl_model"
   ]
  },
  {
   "cell_type": "code",
   "execution_count": 4,
   "metadata": {},
   "outputs": [],
   "source": [
    "KY_data = pd.read_csv(\"~/Documents/Duke/Cynthia Research/psa-analysis - test/kentucky/models/ky_fl_combined/KY_cleaned\")\n",
    "FL_data = pd.read_csv(\"~/Documents/Duke/Cynthia Research/psa-analysis - test/kentucky/models/ky_fl_combined/FL_cleaned\")\n",
    "\n",
    "## split x and y \n",
    "KY_X = KY_data.loc[:,:'current_violence']\n",
    "KY_Y = KY_data['recid_six_month'].values\n",
    "FL_X = FL_data.loc[:,:'current_violence']\n",
    "FL_Y = FL_data['recid_six_month'].values"
   ]
  },
  {
   "cell_type": "markdown",
   "metadata": {},
   "source": [
    "### Model"
   ]
  },
  {
   "cell_type": "code",
   "execution_count": 5,
   "metadata": {},
   "outputs": [
    {
     "name": "stdout",
     "output_type": "stream",
     "text": [
      "Stored 'summary_general6_fl_model' (dict)\n"
     ]
    }
   ],
   "source": [
    "#### Logistic\n",
    "c = [1e-5, 1e-4, 1e-3, 1e-2]\n",
    "logistic_summary = base.Logistic(FL_X, FL_Y, KY_X, KY_Y,C=c,seed=816)\n",
    "\n",
    "#### Lasso\n",
    "c = [1e-5, 1e-4, 1e-3, 1e-2]\n",
    "lasso_summary = base.Lasso(FL_X, FL_Y, KY_X, KY_Y,C=c,seed=816)\n",
    "\n",
    "#### LinearSVM\n",
    "c = [1e-5, 1e-4, 1e-3, 1e-2]\n",
    "svm_summary = base.LinearSVM(FL_X, FL_Y, KY_X, KY_Y,C=c,seed=816)\n",
    "\n",
    "#### Random Forest\n",
    "n_estimators =  [60,80,100]\n",
    "depth = [1,2,3]\n",
    "impurity = [0.001, 0.003]\n",
    "rf_summary = base.RF(FL_X, FL_Y, KY_X, KY_Y, \n",
    "                     depth=depth, \n",
    "                     estimators=n_estimators, \n",
    "                     impurity=impurity,\n",
    "                     seed=816)\n",
    "\n",
    "#### XGBoost\n",
    "learning_rate = [0.05, 0.07]\n",
    "depth = [1,2]\n",
    "n_estimators = [20,40,60]\n",
    "gamma = [8,10,12]\n",
    "child_weight = [8,10,12]\n",
    "subsample = [0.3, 0.5]\n",
    "xgb_summary = base.XGB(FL_X, FL_Y, KY_X, KY_Y,\n",
    "                       learning_rate=learning_rate, \n",
    "                       depth=depth, \n",
    "                       estimators=n_estimators,\n",
    "                       gamma=gamma, \n",
    "                       child_weight=child_weight, \n",
    "                       subsample=subsample, \n",
    "                       seed=816)\n",
    "\n",
    "#### save results\n",
    "summary_general6_fl_model = {\"Logistic\": logistic_summary,\n",
    "                                    \"Lasso\": lasso_summary,\n",
    "                                    \"LinearSVM\": svm_summary,\n",
    "                                    \"RF\": rf_summary,\n",
    "                                    \"XGBoost\": xgb_summary}\n",
    "%store summary_general6_fl_model"
   ]
  },
  {
   "cell_type": "code",
   "execution_count": 6,
   "metadata": {},
   "outputs": [
    {
     "data": {
      "text/plain": [
       "[['Logistic',\n",
       "  0.6281770967972454,\n",
       "  0.0288975767733326,\n",
       "  {'C': 0.01},\n",
       "  0.6379150844720549],\n",
       " ['Lasso',\n",
       "  0.6102907670998795,\n",
       "  0.0019955576445755963,\n",
       "  {'C': 0.01},\n",
       "  0.6159522340517792],\n",
       " ['LinearSVM',\n",
       "  0.6209537681462247,\n",
       "  0.03468125095632346,\n",
       "  {'C': 0.01},\n",
       "  0.5589051272440109],\n",
       " ['RF',\n",
       "  0.6202053104425336,\n",
       "  0.025909119274548864,\n",
       "  {'max_depth': 1, 'min_impurity_decrease': 0.003, 'n_estimators': 100},\n",
       "  0.6562546162512506],\n",
       " ['XGBoost',\n",
       "  0.6228750647965099,\n",
       "  0.023751660319631607,\n",
       "  {'gamma': 8,\n",
       "   'learning_rate': 0.07,\n",
       "   'max_depth': 1,\n",
       "   'min_child_weight': 10,\n",
       "   'n_estimators': 40,\n",
       "   'subsample': 0.3},\n",
       "  0.6514639149393907]]"
      ]
     },
     "execution_count": 6,
     "metadata": {},
     "output_type": "execute_result"
    }
   ],
   "source": [
    "results = []\n",
    "\n",
    "for model_name, model_summary in summary_general6_fl_model.items():\n",
    "    results.append([model_name, \n",
    "                    model_summary['best_auc'], \n",
    "                    model_summary['auc_diff'], \n",
    "                    model_summary['best_param'], \n",
    "                    model_summary['KY_score']])\n",
    "results"
   ]
  },
  {
   "cell_type": "code",
   "execution_count": 8,
   "metadata": {},
   "outputs": [],
   "source": [
    "path = \"C:\\\\Users\\\\binha\\\\Documents\\\\Duke\\\\Cynthia Research\\\\KY-analysis-mytrials\\\\KY Recidivism\\\\KY Results\\\\KY_FL\\\\FL Model\\\\Six Month\\\\\"\n",
    "results = [[\"\", \"Logistic\", \"Lasso\", \"Linear SVM\", \"Random Forest\", \"XGBoost\"],\n",
    "           [\"General\", \n",
    "            round(logistic_summary['KY_score'],3), \n",
    "            round(lasso_summary['KY_score'], 3), \n",
    "            round(svm_summary['KY_score'],3), \n",
    "            round(rf_summary['KY_score'],3), \n",
    "            round(xgb_summary['KY_score'],3)]]\n",
    "with open(path + 'Six Month FL_model.csv', 'w') as writeFile:\n",
    "    writer = csv.writer(writeFile)\n",
    "    writer.writerows(results)"
   ]
  }
 ],
 "metadata": {
  "kernelspec": {
   "display_name": "Python 3",
   "language": "python",
   "name": "python3"
  },
  "language_info": {
   "codemirror_mode": {
    "name": "ipython",
    "version": 3
   },
   "file_extension": ".py",
   "mimetype": "text/x-python",
   "name": "python",
   "nbconvert_exporter": "python",
   "pygments_lexer": "ipython3",
   "version": "3.7.4"
  }
 },
 "nbformat": 4,
 "nbformat_minor": 4
}
