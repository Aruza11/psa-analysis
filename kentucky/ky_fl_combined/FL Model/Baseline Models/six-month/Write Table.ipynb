{
 "cells": [
  {
   "cell_type": "code",
   "execution_count": 1,
   "metadata": {
    "hideCode": false,
    "hidePrompt": false
   },
   "outputs": [],
   "source": [
    "import pytablewriter\n",
    "import pandas as pd\n",
    "import numpy as np"
   ]
  },
  {
   "cell_type": "code",
   "execution_count": 2,
   "metadata": {
    "hideCode": false,
    "hidePrompt": false
   },
   "outputs": [],
   "source": [
    "result = pd.read_csv(\"C:\\\\Users\\\\binha\\\\Documents\\\\Duke\\\\Cynthia Research\\\\KY-analysis-mytrials\\\\KY Recidivism\\\\KY Results\\\\KY_FL\\\\FL Model\\\\baselines\\\\Six Month\\\\FL_model_six_month_comb.csv\")"
   ]
  },
  {
   "cell_type": "code",
   "execution_count": 3,
   "metadata": {
    "hideCode": false,
    "hidePrompt": false
   },
   "outputs": [
    {
     "data": {
      "text/html": [
       "<div>\n",
       "<style scoped>\n",
       "    .dataframe tbody tr th:only-of-type {\n",
       "        vertical-align: middle;\n",
       "    }\n",
       "\n",
       "    .dataframe tbody tr th {\n",
       "        vertical-align: top;\n",
       "    }\n",
       "\n",
       "    .dataframe thead th {\n",
       "        text-align: right;\n",
       "    }\n",
       "</style>\n",
       "<table border=\"1\" class=\"dataframe\">\n",
       "  <thead>\n",
       "    <tr style=\"text-align: right;\">\n",
       "      <th></th>\n",
       "      <th>Unnamed: 0</th>\n",
       "      <th>Logistic</th>\n",
       "      <th>Lasso</th>\n",
       "      <th>Linear SVM</th>\n",
       "      <th>Random Forest</th>\n",
       "      <th>XGBoost</th>\n",
       "      <th>CART</th>\n",
       "      <th>EBM</th>\n",
       "      <th>Lasso Stumps</th>\n",
       "      <th>RiskSLIM</th>\n",
       "    </tr>\n",
       "  </thead>\n",
       "  <tbody>\n",
       "    <tr>\n",
       "      <th>0</th>\n",
       "      <td>General</td>\n",
       "      <td>0.670</td>\n",
       "      <td>0.668</td>\n",
       "      <td>0.645</td>\n",
       "      <td>0.700</td>\n",
       "      <td>0.672</td>\n",
       "      <td>0.637</td>\n",
       "      <td>0.695</td>\n",
       "      <td>0.668</td>\n",
       "      <td>0.624</td>\n",
       "    </tr>\n",
       "    <tr>\n",
       "      <th>1</th>\n",
       "      <td>Violent</td>\n",
       "      <td>0.819</td>\n",
       "      <td>0.808</td>\n",
       "      <td>0.818</td>\n",
       "      <td>0.827</td>\n",
       "      <td>0.821</td>\n",
       "      <td>0.748</td>\n",
       "      <td>0.791</td>\n",
       "      <td>0.824</td>\n",
       "      <td>0.801</td>\n",
       "    </tr>\n",
       "    <tr>\n",
       "      <th>2</th>\n",
       "      <td>Drug</td>\n",
       "      <td>0.606</td>\n",
       "      <td>0.565</td>\n",
       "      <td>0.519</td>\n",
       "      <td>0.601</td>\n",
       "      <td>0.578</td>\n",
       "      <td>0.591</td>\n",
       "      <td>0.604</td>\n",
       "      <td>0.565</td>\n",
       "      <td>0.584</td>\n",
       "    </tr>\n",
       "    <tr>\n",
       "      <th>3</th>\n",
       "      <td>Property</td>\n",
       "      <td>0.638</td>\n",
       "      <td>0.651</td>\n",
       "      <td>0.598</td>\n",
       "      <td>0.664</td>\n",
       "      <td>0.665</td>\n",
       "      <td>0.508</td>\n",
       "      <td>0.663</td>\n",
       "      <td>0.552</td>\n",
       "      <td>0.540</td>\n",
       "    </tr>\n",
       "    <tr>\n",
       "      <th>4</th>\n",
       "      <td>Felony</td>\n",
       "      <td>0.653</td>\n",
       "      <td>0.663</td>\n",
       "      <td>0.582</td>\n",
       "      <td>0.720</td>\n",
       "      <td>0.672</td>\n",
       "      <td>0.605</td>\n",
       "      <td>0.672</td>\n",
       "      <td>0.675</td>\n",
       "      <td>0.597</td>\n",
       "    </tr>\n",
       "    <tr>\n",
       "      <th>5</th>\n",
       "      <td>Misdemeanor</td>\n",
       "      <td>0.664</td>\n",
       "      <td>0.657</td>\n",
       "      <td>0.651</td>\n",
       "      <td>0.660</td>\n",
       "      <td>0.666</td>\n",
       "      <td>0.605</td>\n",
       "      <td>0.672</td>\n",
       "      <td>0.638</td>\n",
       "      <td>0.614</td>\n",
       "    </tr>\n",
       "  </tbody>\n",
       "</table>\n",
       "</div>"
      ],
      "text/plain": [
       "    Unnamed: 0  Logistic  Lasso  Linear SVM  Random Forest  XGBoost   CART  \\\n",
       "0      General     0.670  0.668       0.645          0.700    0.672  0.637   \n",
       "1      Violent     0.819  0.808       0.818          0.827    0.821  0.748   \n",
       "2         Drug     0.606  0.565       0.519          0.601    0.578  0.591   \n",
       "3     Property     0.638  0.651       0.598          0.664    0.665  0.508   \n",
       "4       Felony     0.653  0.663       0.582          0.720    0.672  0.605   \n",
       "5  Misdemeanor     0.664  0.657       0.651          0.660    0.666  0.605   \n",
       "\n",
       "     EBM  Lasso Stumps  RiskSLIM  \n",
       "0  0.695         0.668     0.624  \n",
       "1  0.791         0.824     0.801  \n",
       "2  0.604         0.565     0.584  \n",
       "3  0.663         0.552     0.540  \n",
       "4  0.672         0.675     0.597  \n",
       "5  0.672         0.638     0.614  "
      ]
     },
     "execution_count": 3,
     "metadata": {},
     "output_type": "execute_result"
    }
   ],
   "source": [
    "result"
   ]
  },
  {
   "cell_type": "code",
   "execution_count": 4,
   "metadata": {
    "hideCode": false,
    "hidePrompt": false
   },
   "outputs": [],
   "source": [
    "cols = result.columns.to_list()\n",
    "values = result.values.tolist()"
   ]
  },
  {
   "cell_type": "code",
   "execution_count": 5,
   "metadata": {
    "hideCode": false,
    "hideOutput": true,
    "hidePrompt": false
   },
   "outputs": [
    {
     "name": "stdout",
     "output_type": "stream",
     "text": [
      "\\begin{array}{l | r | r | r | r | r | r | r | r | r} \\hline\n",
      "    General     & 0.6700 & 0.6680 & 0.6450 & 0.7000 & 0.6720 & 0.637 & 0.6950 & 0.6680 & 0.6240 \\\\ \\hline\n",
      "    Violent     & 0.8190 & 0.8080 & 0.8180 & 0.8270 & 0.8210 & 0.748 & 0.7910 & 0.8240 & 0.8010 \\\\ \\hline\n",
      "    Drug        & 0.6060 & 0.5650 & 0.5190 & 0.6010 & 0.5780 & 0.591 & 0.6040 & 0.5650 & 0.5840 \\\\ \\hline\n",
      "    Property    & 0.6380 & 0.6510 & 0.5980 & 0.6640 & 0.6650 & 0.508 & 0.6630 & 0.5520 & 0.5400 \\\\ \\hline\n",
      "    Felony      & 0.6530 & 0.6630 & 0.5820 & 0.7200 & 0.6720 & 0.605 & 0.6720 & 0.6750 & 0.5970 \\\\ \\hline\n",
      "    Misdemeanor & 0.6640 & 0.6570 & 0.6510 & 0.6600 & 0.6660 & 0.605 & 0.6720 & 0.6380 & 0.6140 \\\\ \\hline\n",
      "\\end{array}\n"
     ]
    }
   ],
   "source": [
    "writer = pytablewriter.LatexTableWriter()\n",
    "writer.value_matrix = values\n",
    "writer.write_table()"
   ]
  }
 ],
 "metadata": {
  "hide_code_all_hidden": false,
  "kernelspec": {
   "display_name": "Python 3",
   "language": "python",
   "name": "python3"
  },
  "language_info": {
   "codemirror_mode": {
    "name": "ipython",
    "version": 3
   },
   "file_extension": ".py",
   "mimetype": "text/x-python",
   "name": "python",
   "nbconvert_exporter": "python",
   "pygments_lexer": "ipython3",
   "version": "3.7.4"
  }
 },
 "nbformat": 4,
 "nbformat_minor": 4
}
