{
 "cells": [
  {
   "cell_type": "code",
   "execution_count": 1,
   "metadata": {
    "hideCode": false,
    "hidePrompt": false
   },
   "outputs": [],
   "source": [
    "import pytablewriter\n",
    "import pandas as pd\n",
    "import numpy as np"
   ]
  },
  {
   "cell_type": "code",
   "execution_count": 4,
   "metadata": {
    "hideCode": false,
    "hidePrompt": false
   },
   "outputs": [],
   "source": [
    "result = pd.read_csv(\"C:\\\\Users\\\\binha\\\\Documents\\\\Duke\\\\Cynthia Research\\\\KY-analysis-mytrials\\\\KY Recidivism\\\\KY Results\\\\KY_FL\\\\FL Model\\\\baselines\\\\Two Year\\\\FL_model_two_year_comb.csv\")"
   ]
  },
  {
   "cell_type": "code",
   "execution_count": 5,
   "metadata": {
    "hideCode": false,
    "hidePrompt": false
   },
   "outputs": [
    {
     "data": {
      "text/html": [
       "<div>\n",
       "<style scoped>\n",
       "    .dataframe tbody tr th:only-of-type {\n",
       "        vertical-align: middle;\n",
       "    }\n",
       "\n",
       "    .dataframe tbody tr th {\n",
       "        vertical-align: top;\n",
       "    }\n",
       "\n",
       "    .dataframe thead th {\n",
       "        text-align: right;\n",
       "    }\n",
       "</style>\n",
       "<table border=\"1\" class=\"dataframe\">\n",
       "  <thead>\n",
       "    <tr style=\"text-align: right;\">\n",
       "      <th></th>\n",
       "      <th>Unnamed: 0</th>\n",
       "      <th>Logistic</th>\n",
       "      <th>Lasso</th>\n",
       "      <th>Linear SVM</th>\n",
       "      <th>Random Forest</th>\n",
       "      <th>XGBoost</th>\n",
       "      <th>CART</th>\n",
       "      <th>EBM</th>\n",
       "      <th>Lasso Stumps</th>\n",
       "      <th>RiskSLIM</th>\n",
       "    </tr>\n",
       "  </thead>\n",
       "  <tbody>\n",
       "    <tr>\n",
       "      <th>0</th>\n",
       "      <td>General</td>\n",
       "      <td>0.649</td>\n",
       "      <td>0.641</td>\n",
       "      <td>0.639</td>\n",
       "      <td>0.672</td>\n",
       "      <td>0.661</td>\n",
       "      <td>0.640</td>\n",
       "      <td>0.666</td>\n",
       "      <td>0.639</td>\n",
       "      <td>0.634</td>\n",
       "    </tr>\n",
       "    <tr>\n",
       "      <th>1</th>\n",
       "      <td>Violent</td>\n",
       "      <td>0.776</td>\n",
       "      <td>0.775</td>\n",
       "      <td>0.779</td>\n",
       "      <td>0.767</td>\n",
       "      <td>0.763</td>\n",
       "      <td>0.616</td>\n",
       "      <td>0.751</td>\n",
       "      <td>0.774</td>\n",
       "      <td>0.713</td>\n",
       "    </tr>\n",
       "    <tr>\n",
       "      <th>2</th>\n",
       "      <td>Drug</td>\n",
       "      <td>0.602</td>\n",
       "      <td>0.586</td>\n",
       "      <td>0.529</td>\n",
       "      <td>0.599</td>\n",
       "      <td>0.604</td>\n",
       "      <td>0.562</td>\n",
       "      <td>0.625</td>\n",
       "      <td>0.591</td>\n",
       "      <td>0.593</td>\n",
       "    </tr>\n",
       "    <tr>\n",
       "      <th>3</th>\n",
       "      <td>Property</td>\n",
       "      <td>0.643</td>\n",
       "      <td>0.649</td>\n",
       "      <td>0.625</td>\n",
       "      <td>0.666</td>\n",
       "      <td>0.671</td>\n",
       "      <td>0.522</td>\n",
       "      <td>0.661</td>\n",
       "      <td>0.545</td>\n",
       "      <td>0.539</td>\n",
       "    </tr>\n",
       "    <tr>\n",
       "      <th>4</th>\n",
       "      <td>Felony</td>\n",
       "      <td>0.638</td>\n",
       "      <td>0.645</td>\n",
       "      <td>0.630</td>\n",
       "      <td>0.704</td>\n",
       "      <td>0.697</td>\n",
       "      <td>0.551</td>\n",
       "      <td>0.705</td>\n",
       "      <td>0.687</td>\n",
       "      <td>0.514</td>\n",
       "    </tr>\n",
       "    <tr>\n",
       "      <th>5</th>\n",
       "      <td>Misdemeanor</td>\n",
       "      <td>0.639</td>\n",
       "      <td>0.641</td>\n",
       "      <td>0.594</td>\n",
       "      <td>0.641</td>\n",
       "      <td>0.640</td>\n",
       "      <td>0.575</td>\n",
       "      <td>0.647</td>\n",
       "      <td>0.620</td>\n",
       "      <td>0.622</td>\n",
       "    </tr>\n",
       "  </tbody>\n",
       "</table>\n",
       "</div>"
      ],
      "text/plain": [
       "    Unnamed: 0  Logistic  Lasso  Linear SVM  Random Forest  XGBoost   CART  \\\n",
       "0      General     0.649  0.641       0.639          0.672    0.661  0.640   \n",
       "1      Violent     0.776  0.775       0.779          0.767    0.763  0.616   \n",
       "2         Drug     0.602  0.586       0.529          0.599    0.604  0.562   \n",
       "3     Property     0.643  0.649       0.625          0.666    0.671  0.522   \n",
       "4       Felony     0.638  0.645       0.630          0.704    0.697  0.551   \n",
       "5  Misdemeanor     0.639  0.641       0.594          0.641    0.640  0.575   \n",
       "\n",
       "     EBM  Lasso Stumps  RiskSLIM  \n",
       "0  0.666         0.639     0.634  \n",
       "1  0.751         0.774     0.713  \n",
       "2  0.625         0.591     0.593  \n",
       "3  0.661         0.545     0.539  \n",
       "4  0.705         0.687     0.514  \n",
       "5  0.647         0.620     0.622  "
      ]
     },
     "execution_count": 5,
     "metadata": {},
     "output_type": "execute_result"
    }
   ],
   "source": [
    "result"
   ]
  },
  {
   "cell_type": "code",
   "execution_count": 6,
   "metadata": {
    "hideCode": false,
    "hidePrompt": false
   },
   "outputs": [],
   "source": [
    "cols = result.columns.to_list()\n",
    "values = result.values.tolist()"
   ]
  },
  {
   "cell_type": "code",
   "execution_count": 7,
   "metadata": {
    "hideCode": false,
    "hideOutput": true,
    "hidePrompt": false
   },
   "outputs": [
    {
     "name": "stdout",
     "output_type": "stream",
     "text": [
      "\\begin{array}{l | r | r | r | r | r | r | r | r | r} \\hline\n",
      "    General     & 0.6490 & 0.6410 & 0.639 & 0.6720 & 0.6610 & 0.640 & 0.6660 & 0.639 & 0.634 \\\\ \\hline\n",
      "    Violent     & 0.7760 & 0.7750 & 0.779 & 0.7670 & 0.7630 & 0.616 & 0.7510 & 0.774 & 0.713 \\\\ \\hline\n",
      "    Drug        & 0.6020 & 0.5860 & 0.529 & 0.5990 & 0.6040 & 0.562 & 0.6250 & 0.591 & 0.593 \\\\ \\hline\n",
      "    Property    & 0.6430 & 0.6490 & 0.625 & 0.6660 & 0.6710 & 0.522 & 0.6610 & 0.545 & 0.539 \\\\ \\hline\n",
      "    Felony      & 0.6380 & 0.6450 & 0.630 & 0.7040 & 0.6970 & 0.551 & 0.7050 & 0.687 & 0.514 \\\\ \\hline\n",
      "    Misdemeanor & 0.6390 & 0.6410 & 0.594 & 0.6410 & 0.6400 & 0.575 & 0.6470 & 0.620 & 0.622 \\\\ \\hline\n",
      "\\end{array}\n"
     ]
    }
   ],
   "source": [
    "writer = pytablewriter.LatexTableWriter()\n",
    "writer.value_matrix = values\n",
    "writer.write_table()"
   ]
  }
 ],
 "metadata": {
  "hide_code_all_hidden": false,
  "kernelspec": {
   "display_name": "Python 3",
   "language": "python",
   "name": "python3"
  },
  "language_info": {
   "codemirror_mode": {
    "name": "ipython",
    "version": 3
   },
   "file_extension": ".py",
   "mimetype": "text/x-python",
   "name": "python",
   "nbconvert_exporter": "python",
   "pygments_lexer": "ipython3",
   "version": "3.7.4"
  }
 },
 "nbformat": 4,
 "nbformat_minor": 4
}
