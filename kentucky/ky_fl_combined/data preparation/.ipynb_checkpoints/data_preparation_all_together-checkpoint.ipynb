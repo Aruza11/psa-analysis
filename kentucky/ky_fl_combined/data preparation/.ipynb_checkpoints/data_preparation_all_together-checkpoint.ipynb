{
 "cells": [
  {
   "cell_type": "code",
   "execution_count": 1,
   "metadata": {},
   "outputs": [],
   "source": [
    "import pandas as pd\n",
    "import numpy as np\n",
    "import csv"
   ]
  },
  {
   "cell_type": "markdown",
   "metadata": {},
   "source": [
    "### Prepare Combiend Code"
   ]
  },
  {
   "cell_type": "code",
   "execution_count": 2,
   "metadata": {},
   "outputs": [],
   "source": [
    "### KY data\n",
    "KY_data = pd.read_csv(\"~/Documents/Duke/Cynthia Research/KY-analysis-mytrials/KY Recidivism/KY data/kentucky_data.csv\")\n",
    "KY_data = KY_data.drop(['ADE', 'Treatment','p_assault','p_pending_charge','fta_risk_score_raw',\n",
    "                        'nca_risk_score_raw', 'pvf_risk_score_raw', 'fta_calc', 'nca_calc', 'pvf_calc',\n",
    "                        'recid_traffic_two_year', 'recid_traffic_six_month'], axis=1)\n",
    "KY_data.insert(0, 'index', 'KY')"
   ]
  },
  {
   "cell_type": "code",
   "execution_count": 3,
   "metadata": {},
   "outputs": [],
   "source": [
    "### FL data\n",
    "FL_data = pd.read_csv(\"~/Documents/Duke/Cynthia Research/KY-analysis-mytrials/broward/data/broward_data.csv\")\n",
    "FL_data = FL_data.drop(['p_age_first_offense', 'p_famviol_arrest', 'p_juv_fel_count', 'p_domestic',\n",
    "                        'current_violent20', 'pending_charge', 'total_convictions', 'years_since_last_crime'], axis=1)\n",
    "FL_data.insert(0, 'index', 'FL')\n",
    "\n",
    "FL_data.columns = ['index', 'person_id', 'screening_date', 'sex', 'race','age_at_current_charge', 'p_charges', 'p_jail30', 'p_prison', \n",
    "                   'p_probation', 'p_felprop_viol','p_murder', \n",
    "                   'p_felassult', 'p_misdeassult', 'p_sex_offense', \n",
    "                   'p_weapon', 'p_fta_two_year', 'p_fta_two_year_plus', \n",
    "                   'current_violence', 'p_felony', 'p_misdemeanor', \n",
    "                   'p_violence', 'p_arrest', 'p_property', 'p_traffic', 'p_drug', \n",
    "                   'p_dui', 'p_stalking', 'p_voyeurism', 'p_fraud', 'p_stealing', \n",
    "                   'p_trespass', 'six_month', 'one_year', 'three_year', 'five_year', \n",
    "                   'recid_two_year', 'recid_six_month', 'recid_drug_two_year', 'recid_property_two_year',\n",
    "                   'recid_M_two_year', 'recid_F_two_year', 'recid_violence_two_year', 'recid_drug_six_month',\n",
    "                   'recid_property_six_month', 'recid_M_six_month', 'recid_F_six_month', 'recid_violence_six_month']\n",
    "\n",
    "reorder = ['index', 'person_id', 'sex','race', 'screening_date',  \n",
    "           'age_at_current_charge', 'p_arrest', 'p_charges',\n",
    "           'p_violence', 'p_felony', 'p_misdemeanor', 'p_property', 'p_murder',\n",
    "           'p_sex_offense', 'p_weapon', 'p_felprop_viol', 'p_felassult',\n",
    "           'p_misdeassult', 'p_traffic', 'p_drug', 'p_dui', 'p_stalking',\n",
    "           'p_voyeurism', 'p_fraud', 'p_stealing', 'p_trespass', 'p_prison',\n",
    "           'p_jail30', 'p_fta_two_year', 'p_fta_two_year_plus', 'p_probation',\n",
    "           'six_month', 'one_year', 'three_year', 'five_year', 'current_violence',\n",
    "           'recid_two_year', 'recid_drug_two_year', 'recid_violence_two_year',\n",
    "           'recid_F_two_year', 'recid_M_two_year', 'recid_property_two_year',\n",
    "           'recid_six_month', 'recid_drug_six_month', 'recid_violence_six_month',\n",
    "           'recid_F_six_month', 'recid_M_six_month', 'recid_property_six_month']\n",
    "\n",
    "FL_data = FL_data.reindex(columns=reorder)"
   ]
  },
  {
   "cell_type": "markdown",
   "metadata": {},
   "source": [
    "#### Combine Two Data Sets"
   ]
  },
  {
   "cell_type": "code",
   "execution_count": 4,
   "metadata": {},
   "outputs": [
    {
     "data": {
      "text/plain": [
       "((96010, 48), (1954, 48))"
      ]
     },
     "execution_count": 4,
     "metadata": {},
     "output_type": "execute_result"
    }
   ],
   "source": [
    "KY_data.shape, FL_data.shape"
   ]
  },
  {
   "cell_type": "code",
   "execution_count": 6,
   "metadata": {},
   "outputs": [],
   "source": [
    "total = pd.concat([KY_data, FL_data], sort=False)\n",
    "\n",
    "## change column types\n",
    "cols = ['sex'] + total.columns[5:].tolist()\n",
    "for i in cols:\n",
    "    total[i] = total[i].astype('int64')"
   ]
  },
  {
   "cell_type": "code",
   "execution_count": 7,
   "metadata": {},
   "outputs": [],
   "source": [
    "total = total.sample(frac=1)"
   ]
  },
  {
   "cell_type": "code",
   "execution_count": 10,
   "metadata": {},
   "outputs": [],
   "source": [
    "total.to_csv(\"combined data\", index=False)"
   ]
  }
 ],
 "metadata": {
  "kernelspec": {
   "display_name": "Python 3",
   "language": "python",
   "name": "python3"
  },
  "language_info": {
   "codemirror_mode": {
    "name": "ipython",
    "version": 3
   },
   "file_extension": ".py",
   "mimetype": "text/x-python",
   "name": "python",
   "nbconvert_exporter": "python",
   "pygments_lexer": "ipython3",
   "version": "3.7.4"
  }
 },
 "nbformat": 4,
 "nbformat_minor": 4
}
