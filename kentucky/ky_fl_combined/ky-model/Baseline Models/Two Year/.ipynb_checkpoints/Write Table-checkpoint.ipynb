{
 "cells": [
  {
   "cell_type": "code",
   "execution_count": 1,
   "metadata": {
    "hideCode": false,
    "hidePrompt": false
   },
   "outputs": [],
   "source": [
    "import pytablewriter\n",
    "import pandas as pd\n",
    "import numpy as np"
   ]
  },
  {
   "cell_type": "code",
   "execution_count": 2,
   "metadata": {
    "hideCode": false,
    "hidePrompt": false
   },
   "outputs": [],
   "source": [
    "result = pd.read_csv(\"C:\\\\Users\\\\binha\\\\Documents\\\\Duke\\\\Cynthia Research\\\\KY-analysis-mytrials\\\\KY Recidivism\\\\KY Results\\\\KY_FL\\\\KY Model\\\\baselines\\\\Two Year\\\\KY_model_two_year_comb.csv\")"
   ]
  },
  {
   "cell_type": "code",
   "execution_count": 3,
   "metadata": {
    "hideCode": false,
    "hidePrompt": false
   },
   "outputs": [
    {
     "data": {
      "text/html": [
       "<div>\n",
       "<style scoped>\n",
       "    .dataframe tbody tr th:only-of-type {\n",
       "        vertical-align: middle;\n",
       "    }\n",
       "\n",
       "    .dataframe tbody tr th {\n",
       "        vertical-align: top;\n",
       "    }\n",
       "\n",
       "    .dataframe thead th {\n",
       "        text-align: right;\n",
       "    }\n",
       "</style>\n",
       "<table border=\"1\" class=\"dataframe\">\n",
       "  <thead>\n",
       "    <tr style=\"text-align: right;\">\n",
       "      <th></th>\n",
       "      <th>Unnamed: 0</th>\n",
       "      <th>Logistic</th>\n",
       "      <th>Lasso</th>\n",
       "      <th>Linear SVM</th>\n",
       "      <th>Random Forest</th>\n",
       "      <th>XGBoost</th>\n",
       "      <th>CART</th>\n",
       "      <th>EBM</th>\n",
       "      <th>Lasso Stumps</th>\n",
       "      <th>RiskSLIM</th>\n",
       "    </tr>\n",
       "  </thead>\n",
       "  <tbody>\n",
       "    <tr>\n",
       "      <th>0</th>\n",
       "      <td>General</td>\n",
       "      <td>0.600</td>\n",
       "      <td>0.600</td>\n",
       "      <td>0.599</td>\n",
       "      <td>0.610</td>\n",
       "      <td>0.610</td>\n",
       "      <td>0.595</td>\n",
       "      <td>0.589</td>\n",
       "      <td>0.598</td>\n",
       "      <td>0.579</td>\n",
       "    </tr>\n",
       "    <tr>\n",
       "      <th>1</th>\n",
       "      <td>Violent</td>\n",
       "      <td>0.640</td>\n",
       "      <td>0.640</td>\n",
       "      <td>0.631</td>\n",
       "      <td>0.653</td>\n",
       "      <td>0.648</td>\n",
       "      <td>0.636</td>\n",
       "      <td>0.621</td>\n",
       "      <td>0.660</td>\n",
       "      <td>0.586</td>\n",
       "    </tr>\n",
       "    <tr>\n",
       "      <th>2</th>\n",
       "      <td>Drug</td>\n",
       "      <td>0.625</td>\n",
       "      <td>0.623</td>\n",
       "      <td>0.619</td>\n",
       "      <td>0.646</td>\n",
       "      <td>0.679</td>\n",
       "      <td>0.647</td>\n",
       "      <td>0.622</td>\n",
       "      <td>0.656</td>\n",
       "      <td>0.637</td>\n",
       "    </tr>\n",
       "    <tr>\n",
       "      <th>3</th>\n",
       "      <td>Property</td>\n",
       "      <td>0.628</td>\n",
       "      <td>0.615</td>\n",
       "      <td>0.620</td>\n",
       "      <td>0.664</td>\n",
       "      <td>0.655</td>\n",
       "      <td>0.621</td>\n",
       "      <td>0.673</td>\n",
       "      <td>0.666</td>\n",
       "      <td>0.599</td>\n",
       "    </tr>\n",
       "    <tr>\n",
       "      <th>4</th>\n",
       "      <td>Felony</td>\n",
       "      <td>0.634</td>\n",
       "      <td>0.636</td>\n",
       "      <td>0.634</td>\n",
       "      <td>0.632</td>\n",
       "      <td>0.628</td>\n",
       "      <td>0.619</td>\n",
       "      <td>0.603</td>\n",
       "      <td>0.626</td>\n",
       "      <td>0.584</td>\n",
       "    </tr>\n",
       "    <tr>\n",
       "      <th>5</th>\n",
       "      <td>Misdemeanor</td>\n",
       "      <td>0.542</td>\n",
       "      <td>0.542</td>\n",
       "      <td>0.541</td>\n",
       "      <td>0.555</td>\n",
       "      <td>0.569</td>\n",
       "      <td>0.539</td>\n",
       "      <td>0.517</td>\n",
       "      <td>0.555</td>\n",
       "      <td>0.529</td>\n",
       "    </tr>\n",
       "  </tbody>\n",
       "</table>\n",
       "</div>"
      ],
      "text/plain": [
       "    Unnamed: 0  Logistic  Lasso  Linear SVM  Random Forest  XGBoost   CART  \\\n",
       "0      General     0.600  0.600       0.599          0.610    0.610  0.595   \n",
       "1      Violent     0.640  0.640       0.631          0.653    0.648  0.636   \n",
       "2         Drug     0.625  0.623       0.619          0.646    0.679  0.647   \n",
       "3     Property     0.628  0.615       0.620          0.664    0.655  0.621   \n",
       "4       Felony     0.634  0.636       0.634          0.632    0.628  0.619   \n",
       "5  Misdemeanor     0.542  0.542       0.541          0.555    0.569  0.539   \n",
       "\n",
       "     EBM  Lasso Stumps  RiskSLIM  \n",
       "0  0.589         0.598     0.579  \n",
       "1  0.621         0.660     0.586  \n",
       "2  0.622         0.656     0.637  \n",
       "3  0.673         0.666     0.599  \n",
       "4  0.603         0.626     0.584  \n",
       "5  0.517         0.555     0.529  "
      ]
     },
     "execution_count": 3,
     "metadata": {},
     "output_type": "execute_result"
    }
   ],
   "source": [
    "result"
   ]
  },
  {
   "cell_type": "code",
   "execution_count": 4,
   "metadata": {
    "hideCode": false,
    "hidePrompt": false
   },
   "outputs": [],
   "source": [
    "cols = result.columns.to_list()\n",
    "values = result.values.tolist()"
   ]
  },
  {
   "cell_type": "code",
   "execution_count": 5,
   "metadata": {
    "hideCode": false,
    "hideOutput": true,
    "hidePrompt": false
   },
   "outputs": [
    {
     "name": "stdout",
     "output_type": "stream",
     "text": [
      "\\begin{array}{l | r | r | r | r | r | r | r | r | r} \\hline\n",
      "    General     & 0.600 & 0.600 & 0.599 & 0.6100 & 0.610 & 0.595 & 0.5890 & 0.5980 & 0.579 \\\\ \\hline\n",
      "    Violent     & 0.640 & 0.640 & 0.631 & 0.6530 & 0.648 & 0.636 & 0.6210 & 0.6600 & 0.586 \\\\ \\hline\n",
      "    Drug        & 0.625 & 0.623 & 0.619 & 0.6460 & 0.679 & 0.647 & 0.6220 & 0.6560 & 0.637 \\\\ \\hline\n",
      "    Property    & 0.628 & 0.615 & 0.620 & 0.6640 & 0.655 & 0.621 & 0.6730 & 0.6660 & 0.599 \\\\ \\hline\n",
      "    Felony      & 0.634 & 0.636 & 0.634 & 0.6320 & 0.628 & 0.619 & 0.6030 & 0.6260 & 0.584 \\\\ \\hline\n",
      "    Misdemeanor & 0.542 & 0.542 & 0.541 & 0.5550 & 0.569 & 0.539 & 0.5170 & 0.5550 & 0.529 \\\\ \\hline\n",
      "\\end{array}\n"
     ]
    }
   ],
   "source": [
    "writer = pytablewriter.LatexTableWriter()\n",
    "writer.value_matrix = values\n",
    "writer.write_table()"
   ]
  }
 ],
 "metadata": {
  "hide_code_all_hidden": false,
  "kernelspec": {
   "display_name": "Python 3",
   "language": "python",
   "name": "python3"
  },
  "language_info": {
   "codemirror_mode": {
    "name": "ipython",
    "version": 3
   },
   "file_extension": ".py",
   "mimetype": "text/x-python",
   "name": "python",
   "nbconvert_exporter": "python",
   "pygments_lexer": "ipython3",
   "version": "3.7.4"
  }
 },
 "nbformat": 4,
 "nbformat_minor": 4
}
