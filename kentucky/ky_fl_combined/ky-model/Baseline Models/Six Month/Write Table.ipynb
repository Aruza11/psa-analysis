{
 "cells": [
  {
   "cell_type": "code",
   "execution_count": 1,
   "metadata": {
    "hideCode": false,
    "hidePrompt": false
   },
   "outputs": [],
   "source": [
    "import pytablewriter\n",
    "import pandas as pd\n",
    "import numpy as np"
   ]
  },
  {
   "cell_type": "code",
   "execution_count": 2,
   "metadata": {
    "hideCode": false,
    "hidePrompt": false
   },
   "outputs": [],
   "source": [
    "result = pd.read_csv(\"C:\\\\Users\\\\binha\\\\Documents\\\\Duke\\\\Cynthia Research\\\\KY-analysis-mytrials\\\\KY Recidivism\\\\KY Results\\\\KY_FL\\\\KY Model\\\\baselines\\\\Six Month\\\\KY_model_six_month_comb.csv\")"
   ]
  },
  {
   "cell_type": "code",
   "execution_count": 3,
   "metadata": {
    "hideCode": false,
    "hidePrompt": false
   },
   "outputs": [
    {
     "data": {
      "text/html": [
       "<div>\n",
       "<style scoped>\n",
       "    .dataframe tbody tr th:only-of-type {\n",
       "        vertical-align: middle;\n",
       "    }\n",
       "\n",
       "    .dataframe tbody tr th {\n",
       "        vertical-align: top;\n",
       "    }\n",
       "\n",
       "    .dataframe thead th {\n",
       "        text-align: right;\n",
       "    }\n",
       "</style>\n",
       "<table border=\"1\" class=\"dataframe\">\n",
       "  <thead>\n",
       "    <tr style=\"text-align: right;\">\n",
       "      <th></th>\n",
       "      <th>Unnamed: 0</th>\n",
       "      <th>Logistic</th>\n",
       "      <th>Lasso</th>\n",
       "      <th>Linear SVM</th>\n",
       "      <th>Random Forest</th>\n",
       "      <th>XGBoost</th>\n",
       "      <th>CART</th>\n",
       "      <th>EBM</th>\n",
       "      <th>Lasso Stumps</th>\n",
       "      <th>RiskSLIM</th>\n",
       "    </tr>\n",
       "  </thead>\n",
       "  <tbody>\n",
       "    <tr>\n",
       "      <th>0</th>\n",
       "      <td>General</td>\n",
       "      <td>0.571</td>\n",
       "      <td>0.569</td>\n",
       "      <td>0.567</td>\n",
       "      <td>0.577</td>\n",
       "      <td>0.572</td>\n",
       "      <td>0.541</td>\n",
       "      <td>0.557</td>\n",
       "      <td>0.561</td>\n",
       "      <td>0.541</td>\n",
       "    </tr>\n",
       "    <tr>\n",
       "      <th>1</th>\n",
       "      <td>Violent</td>\n",
       "      <td>0.634</td>\n",
       "      <td>0.632</td>\n",
       "      <td>0.625</td>\n",
       "      <td>0.659</td>\n",
       "      <td>0.616</td>\n",
       "      <td>0.615</td>\n",
       "      <td>0.624</td>\n",
       "      <td>0.655</td>\n",
       "      <td>0.599</td>\n",
       "    </tr>\n",
       "    <tr>\n",
       "      <th>2</th>\n",
       "      <td>Drug</td>\n",
       "      <td>0.584</td>\n",
       "      <td>0.586</td>\n",
       "      <td>0.581</td>\n",
       "      <td>0.591</td>\n",
       "      <td>0.597</td>\n",
       "      <td>0.607</td>\n",
       "      <td>0.583</td>\n",
       "      <td>0.586</td>\n",
       "      <td>0.566</td>\n",
       "    </tr>\n",
       "    <tr>\n",
       "      <th>3</th>\n",
       "      <td>Property</td>\n",
       "      <td>0.618</td>\n",
       "      <td>0.627</td>\n",
       "      <td>0.600</td>\n",
       "      <td>0.636</td>\n",
       "      <td>0.655</td>\n",
       "      <td>0.621</td>\n",
       "      <td>0.555</td>\n",
       "      <td>0.642</td>\n",
       "      <td>0.598</td>\n",
       "    </tr>\n",
       "    <tr>\n",
       "      <th>4</th>\n",
       "      <td>Felony</td>\n",
       "      <td>0.600</td>\n",
       "      <td>0.599</td>\n",
       "      <td>0.596</td>\n",
       "      <td>0.590</td>\n",
       "      <td>0.581</td>\n",
       "      <td>0.559</td>\n",
       "      <td>0.547</td>\n",
       "      <td>0.580</td>\n",
       "      <td>0.573</td>\n",
       "    </tr>\n",
       "    <tr>\n",
       "      <th>5</th>\n",
       "      <td>Misdemeanor</td>\n",
       "      <td>0.544</td>\n",
       "      <td>0.545</td>\n",
       "      <td>0.540</td>\n",
       "      <td>0.549</td>\n",
       "      <td>0.553</td>\n",
       "      <td>0.550</td>\n",
       "      <td>0.521</td>\n",
       "      <td>0.541</td>\n",
       "      <td>0.526</td>\n",
       "    </tr>\n",
       "  </tbody>\n",
       "</table>\n",
       "</div>"
      ],
      "text/plain": [
       "    Unnamed: 0  Logistic  Lasso  Linear SVM  Random Forest  XGBoost   CART  \\\n",
       "0      General     0.571  0.569       0.567          0.577    0.572  0.541   \n",
       "1      Violent     0.634  0.632       0.625          0.659    0.616  0.615   \n",
       "2         Drug     0.584  0.586       0.581          0.591    0.597  0.607   \n",
       "3     Property     0.618  0.627       0.600          0.636    0.655  0.621   \n",
       "4       Felony     0.600  0.599       0.596          0.590    0.581  0.559   \n",
       "5  Misdemeanor     0.544  0.545       0.540          0.549    0.553  0.550   \n",
       "\n",
       "     EBM  Lasso Stumps  RiskSLIM  \n",
       "0  0.557         0.561     0.541  \n",
       "1  0.624         0.655     0.599  \n",
       "2  0.583         0.586     0.566  \n",
       "3  0.555         0.642     0.598  \n",
       "4  0.547         0.580     0.573  \n",
       "5  0.521         0.541     0.526  "
      ]
     },
     "execution_count": 3,
     "metadata": {},
     "output_type": "execute_result"
    }
   ],
   "source": [
    "result"
   ]
  },
  {
   "cell_type": "code",
   "execution_count": 4,
   "metadata": {
    "hideCode": false,
    "hidePrompt": false
   },
   "outputs": [],
   "source": [
    "cols = result.columns.to_list()\n",
    "values = result.values.tolist()"
   ]
  },
  {
   "cell_type": "code",
   "execution_count": 5,
   "metadata": {
    "hideCode": false,
    "hideOutput": true,
    "hidePrompt": false
   },
   "outputs": [
    {
     "name": "stdout",
     "output_type": "stream",
     "text": [
      "\\begin{array}{l | r | r | r | r | r | r | r | r | r} \\hline\n",
      "    General     & 0.5710 & 0.569 & 0.5670 & 0.5770 & 0.5720 & 0.5410 & 0.557 & 0.561 & 0.5410 \\\\ \\hline\n",
      "    Violent     & 0.6340 & 0.632 & 0.6250 & 0.6590 & 0.6160 & 0.6150 & 0.624 & 0.655 & 0.5990 \\\\ \\hline\n",
      "    Drug        & 0.5840 & 0.586 & 0.5810 & 0.5910 & 0.5970 & 0.6070 & 0.583 & 0.586 & 0.5660 \\\\ \\hline\n",
      "    Property    & 0.6180 & 0.627 & 0.6000 & 0.6360 & 0.6550 & 0.6210 & 0.555 & 0.642 & 0.5980 \\\\ \\hline\n",
      "    Felony      & 0.6000 & 0.599 & 0.5960 & 0.5900 & 0.5810 & 0.5590 & 0.547 & 0.580 & 0.5730 \\\\ \\hline\n",
      "    Misdemeanor & 0.5440 & 0.545 & 0.5400 & 0.5490 & 0.5530 & 0.5500 & 0.521 & 0.541 & 0.5260 \\\\ \\hline\n",
      "\\end{array}\n"
     ]
    }
   ],
   "source": [
    "writer = pytablewriter.LatexTableWriter()\n",
    "writer.value_matrix = values\n",
    "writer.write_table()"
   ]
  }
 ],
 "metadata": {
  "hide_code_all_hidden": false,
  "kernelspec": {
   "display_name": "Python 3",
   "language": "python",
   "name": "python3"
  },
  "language_info": {
   "codemirror_mode": {
    "name": "ipython",
    "version": 3
   },
   "file_extension": ".py",
   "mimetype": "text/x-python",
   "name": "python",
   "nbconvert_exporter": "python",
   "pygments_lexer": "ipython3",
   "version": "3.7.4"
  }
 },
 "nbformat": 4,
 "nbformat_minor": 4
}
