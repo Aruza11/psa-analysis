{
 "cells": [
  {
   "cell_type": "code",
   "execution_count": 1,
   "metadata": {
    "hideCode": false,
    "hidePrompt": false
   },
   "outputs": [],
   "source": [
    "import pytablewriter\n",
    "import pandas as pd\n",
    "import numpy as np"
   ]
  },
  {
   "cell_type": "code",
   "execution_count": 2,
   "metadata": {
    "hideCode": false,
    "hidePrompt": false
   },
   "outputs": [],
   "source": [
    "result = pd.read_csv(\"C:\\\\Users\\\\binha\\\\Documents\\\\Duke\\\\Cynthia Research\\\\KY-analysis-mytrials\\\\KY Recidivism\\\\KY Results\\\\KY_FL\\\\KY Model\\\\baselines\\\\Six Month\\\\KY_model_six_month_comb.csv\")"
   ]
  },
  {
   "cell_type": "code",
   "execution_count": 3,
   "metadata": {
    "hideCode": false,
    "hidePrompt": false
   },
   "outputs": [
    {
     "data": {
      "text/html": [
       "<div>\n",
       "<style scoped>\n",
       "    .dataframe tbody tr th:only-of-type {\n",
       "        vertical-align: middle;\n",
       "    }\n",
       "\n",
       "    .dataframe tbody tr th {\n",
       "        vertical-align: top;\n",
       "    }\n",
       "\n",
       "    .dataframe thead th {\n",
       "        text-align: right;\n",
       "    }\n",
       "</style>\n",
       "<table border=\"1\" class=\"dataframe\">\n",
       "  <thead>\n",
       "    <tr style=\"text-align: right;\">\n",
       "      <th></th>\n",
       "      <th>Unnamed: 0</th>\n",
       "      <th>Logistic</th>\n",
       "      <th>Lasso</th>\n",
       "      <th>Linear SVM</th>\n",
       "      <th>Random Forest</th>\n",
       "      <th>XGBoost</th>\n",
       "      <th>CART</th>\n",
       "      <th>EBM</th>\n",
       "      <th>Lasso Stumps</th>\n",
       "      <th>RiskSLIM</th>\n",
       "    </tr>\n",
       "  </thead>\n",
       "  <tbody>\n",
       "    <tr>\n",
       "      <th>0</th>\n",
       "      <td>General</td>\n",
       "      <td>0.571</td>\n",
       "      <td>0.570</td>\n",
       "      <td>0.567</td>\n",
       "      <td>0.579</td>\n",
       "      <td>0.563</td>\n",
       "      <td>0.555</td>\n",
       "      <td>0.553</td>\n",
       "      <td>0.560</td>\n",
       "      <td>0.541</td>\n",
       "    </tr>\n",
       "    <tr>\n",
       "      <th>1</th>\n",
       "      <td>Violent</td>\n",
       "      <td>0.629</td>\n",
       "      <td>0.631</td>\n",
       "      <td>0.619</td>\n",
       "      <td>0.659</td>\n",
       "      <td>0.618</td>\n",
       "      <td>0.627</td>\n",
       "      <td>0.619</td>\n",
       "      <td>0.655</td>\n",
       "      <td>0.599</td>\n",
       "    </tr>\n",
       "    <tr>\n",
       "      <th>2</th>\n",
       "      <td>Drug</td>\n",
       "      <td>0.594</td>\n",
       "      <td>0.594</td>\n",
       "      <td>0.586</td>\n",
       "      <td>0.568</td>\n",
       "      <td>0.592</td>\n",
       "      <td>0.532</td>\n",
       "      <td>0.594</td>\n",
       "      <td>0.567</td>\n",
       "      <td>0.566</td>\n",
       "    </tr>\n",
       "    <tr>\n",
       "      <th>3</th>\n",
       "      <td>Property</td>\n",
       "      <td>0.679</td>\n",
       "      <td>0.680</td>\n",
       "      <td>0.671</td>\n",
       "      <td>0.642</td>\n",
       "      <td>0.617</td>\n",
       "      <td>0.590</td>\n",
       "      <td>0.653</td>\n",
       "      <td>0.653</td>\n",
       "      <td>0.637</td>\n",
       "    </tr>\n",
       "    <tr>\n",
       "      <th>4</th>\n",
       "      <td>Felony</td>\n",
       "      <td>0.600</td>\n",
       "      <td>0.591</td>\n",
       "      <td>0.599</td>\n",
       "      <td>0.594</td>\n",
       "      <td>0.591</td>\n",
       "      <td>0.560</td>\n",
       "      <td>0.535</td>\n",
       "      <td>0.577</td>\n",
       "      <td>0.548</td>\n",
       "    </tr>\n",
       "    <tr>\n",
       "      <th>5</th>\n",
       "      <td>Misdemeanor</td>\n",
       "      <td>0.549</td>\n",
       "      <td>0.549</td>\n",
       "      <td>0.543</td>\n",
       "      <td>0.552</td>\n",
       "      <td>0.558</td>\n",
       "      <td>0.554</td>\n",
       "      <td>0.556</td>\n",
       "      <td>0.540</td>\n",
       "      <td>0.526</td>\n",
       "    </tr>\n",
       "  </tbody>\n",
       "</table>\n",
       "</div>"
      ],
      "text/plain": [
       "    Unnamed: 0  Logistic  Lasso  Linear SVM  Random Forest  XGBoost   CART  \\\n",
       "0      General     0.571  0.570       0.567          0.579    0.563  0.555   \n",
       "1      Violent     0.629  0.631       0.619          0.659    0.618  0.627   \n",
       "2         Drug     0.594  0.594       0.586          0.568    0.592  0.532   \n",
       "3     Property     0.679  0.680       0.671          0.642    0.617  0.590   \n",
       "4       Felony     0.600  0.591       0.599          0.594    0.591  0.560   \n",
       "5  Misdemeanor     0.549  0.549       0.543          0.552    0.558  0.554   \n",
       "\n",
       "     EBM  Lasso Stumps  RiskSLIM  \n",
       "0  0.553         0.560     0.541  \n",
       "1  0.619         0.655     0.599  \n",
       "2  0.594         0.567     0.566  \n",
       "3  0.653         0.653     0.637  \n",
       "4  0.535         0.577     0.548  \n",
       "5  0.556         0.540     0.526  "
      ]
     },
     "execution_count": 3,
     "metadata": {},
     "output_type": "execute_result"
    }
   ],
   "source": [
    "result"
   ]
  },
  {
   "cell_type": "code",
   "execution_count": 4,
   "metadata": {
    "hideCode": false,
    "hidePrompt": false
   },
   "outputs": [],
   "source": [
    "cols = result.columns.to_list()\n",
    "values = result.values.tolist()"
   ]
  },
  {
   "cell_type": "code",
   "execution_count": 5,
   "metadata": {
    "hideCode": false,
    "hideOutput": true,
    "hidePrompt": false
   },
   "outputs": [
    {
     "name": "stdout",
     "output_type": "stream",
     "text": [
      "\\begin{array}{l | r | r | r | r | r | r | r | r | r} \\hline\n",
      "    General     & 0.5710 & 0.5700 & 0.5670 & 0.579 & 0.5630 & 0.5550 & 0.5530 & 0.5600 & 0.5410 \\\\ \\hline\n",
      "    Violent     & 0.6290 & 0.6310 & 0.6190 & 0.659 & 0.6180 & 0.6270 & 0.6190 & 0.6550 & 0.5990 \\\\ \\hline\n",
      "    Drug        & 0.5940 & 0.5940 & 0.5860 & 0.568 & 0.5920 & 0.5320 & 0.5940 & 0.5670 & 0.5660 \\\\ \\hline\n",
      "    Property    & 0.6790 & 0.6800 & 0.6710 & 0.642 & 0.6170 & 0.5900 & 0.6530 & 0.6530 & 0.6370 \\\\ \\hline\n",
      "    Felony      & 0.6000 & 0.5910 & 0.5990 & 0.594 & 0.5910 & 0.5600 & 0.5350 & 0.5770 & 0.5480 \\\\ \\hline\n",
      "    Misdemeanor & 0.5490 & 0.5490 & 0.5430 & 0.552 & 0.5580 & 0.5540 & 0.5560 & 0.5400 & 0.5260 \\\\ \\hline\n",
      "\\end{array}\n"
     ]
    }
   ],
   "source": [
    "writer = pytablewriter.LatexTableWriter()\n",
    "writer.value_matrix = values\n",
    "writer.write_table()"
   ]
  }
 ],
 "metadata": {
  "hide_code_all_hidden": false,
  "kernelspec": {
   "display_name": "Python 3",
   "language": "python",
   "name": "python3"
  },
  "language_info": {
   "codemirror_mode": {
    "name": "ipython",
    "version": 3
   },
   "file_extension": ".py",
   "mimetype": "text/x-python",
   "name": "python",
   "nbconvert_exporter": "python",
   "pygments_lexer": "ipython3",
   "version": "3.7.4"
  }
 },
 "nbformat": 4,
 "nbformat_minor": 4
}
