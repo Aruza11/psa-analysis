{
 "cells": [
  {
   "cell_type": "code",
   "execution_count": 2,
   "metadata": {
    "hideCode": false,
    "hidePrompt": false
   },
   "outputs": [],
   "source": [
    "import pytablewriter\n",
    "import pandas as pd\n",
    "import numpy as np"
   ]
  },
  {
   "cell_type": "code",
   "execution_count": 4,
   "metadata": {
    "hideCode": false,
    "hidePrompt": false
   },
   "outputs": [],
   "source": [
    "result = pd.read_csv(\"C:\\\\Users\\\\binha\\\\Documents\\\\Duke\\\\Cynthia Research\\\\KY-analysis-mytrials\\\\KY Recidivism\\\\KY Results\\\\KY_FL\\\\All together\\\\two_year\\\\Combined Holdout Summary.csv\")"
   ]
  },
  {
   "cell_type": "code",
   "execution_count": 5,
   "metadata": {
    "hideCode": false,
    "hidePrompt": false
   },
   "outputs": [
    {
     "data": {
      "text/html": [
       "<div>\n",
       "<style scoped>\n",
       "    .dataframe tbody tr th:only-of-type {\n",
       "        vertical-align: middle;\n",
       "    }\n",
       "\n",
       "    .dataframe tbody tr th {\n",
       "        vertical-align: top;\n",
       "    }\n",
       "\n",
       "    .dataframe thead th {\n",
       "        text-align: right;\n",
       "    }\n",
       "</style>\n",
       "<table border=\"1\" class=\"dataframe\">\n",
       "  <thead>\n",
       "    <tr style=\"text-align: right;\">\n",
       "      <th></th>\n",
       "      <th>Unnamed: 0</th>\n",
       "      <th>Logistic</th>\n",
       "      <th>Lasso</th>\n",
       "      <th>Linear SVM</th>\n",
       "      <th>Random Forest</th>\n",
       "      <th>XGBoost</th>\n",
       "    </tr>\n",
       "  </thead>\n",
       "  <tbody>\n",
       "    <tr>\n",
       "      <th>0</th>\n",
       "      <td>General</td>\n",
       "      <td>0.712 (0.002)</td>\n",
       "      <td>0.712 (0.002)</td>\n",
       "      <td>0.712 (0.002)</td>\n",
       "      <td>0.847 (0.001)</td>\n",
       "      <td>0.887 (0.002)</td>\n",
       "    </tr>\n",
       "    <tr>\n",
       "      <th>1</th>\n",
       "      <td>Violent</td>\n",
       "      <td>0.787 (0.003)</td>\n",
       "      <td>0.787 (0.003)</td>\n",
       "      <td>0.785 (0.003)</td>\n",
       "      <td>0.901 (0.002)</td>\n",
       "      <td>0.948 (0.002)</td>\n",
       "    </tr>\n",
       "    <tr>\n",
       "      <th>2</th>\n",
       "      <td>Drug</td>\n",
       "      <td>0.695 (0.004)</td>\n",
       "      <td>0.695 (0.004)</td>\n",
       "      <td>0.695 (0.004)</td>\n",
       "      <td>0.791 (0.006)</td>\n",
       "      <td>0.871 (0.004)</td>\n",
       "    </tr>\n",
       "    <tr>\n",
       "      <th>3</th>\n",
       "      <td>Property</td>\n",
       "      <td>0.787 (0.003)</td>\n",
       "      <td>0.787 (0.003)</td>\n",
       "      <td>0.785 (0.003)</td>\n",
       "      <td>0.901 (0.002)</td>\n",
       "      <td>0.92 (0.002)</td>\n",
       "    </tr>\n",
       "    <tr>\n",
       "      <th>4</th>\n",
       "      <td>Felony</td>\n",
       "      <td>0.681 (0.003)</td>\n",
       "      <td>0.681 (0.003)</td>\n",
       "      <td>0.68 (0.003)</td>\n",
       "      <td>0.821 (0.003)</td>\n",
       "      <td>0.904 (0.004)</td>\n",
       "    </tr>\n",
       "    <tr>\n",
       "      <th>5</th>\n",
       "      <td>Misdemeanor</td>\n",
       "      <td>0.671 (0.003)</td>\n",
       "      <td>0.671 (0.003)</td>\n",
       "      <td>0.67 (0.003)</td>\n",
       "      <td>0.81 (0.002)</td>\n",
       "      <td>0.886 (0.001)</td>\n",
       "    </tr>\n",
       "  </tbody>\n",
       "</table>\n",
       "</div>"
      ],
      "text/plain": [
       "    Unnamed: 0       Logistic          Lasso     Linear SVM  Random Forest  \\\n",
       "0      General  0.712 (0.002)  0.712 (0.002)  0.712 (0.002)  0.847 (0.001)   \n",
       "1      Violent  0.787 (0.003)  0.787 (0.003)  0.785 (0.003)  0.901 (0.002)   \n",
       "2         Drug  0.695 (0.004)  0.695 (0.004)  0.695 (0.004)  0.791 (0.006)   \n",
       "3     Property  0.787 (0.003)  0.787 (0.003)  0.785 (0.003)  0.901 (0.002)   \n",
       "4       Felony  0.681 (0.003)  0.681 (0.003)   0.68 (0.003)  0.821 (0.003)   \n",
       "5  Misdemeanor  0.671 (0.003)  0.671 (0.003)   0.67 (0.003)   0.81 (0.002)   \n",
       "\n",
       "         XGBoost  \n",
       "0  0.887 (0.002)  \n",
       "1  0.948 (0.002)  \n",
       "2  0.871 (0.004)  \n",
       "3   0.92 (0.002)  \n",
       "4  0.904 (0.004)  \n",
       "5  0.886 (0.001)  "
      ]
     },
     "execution_count": 5,
     "metadata": {},
     "output_type": "execute_result"
    }
   ],
   "source": [
    "result"
   ]
  },
  {
   "cell_type": "code",
   "execution_count": 6,
   "metadata": {
    "hideCode": false,
    "hidePrompt": false
   },
   "outputs": [],
   "source": [
    "cols = result.columns.to_list()\n",
    "values = result.values.tolist()"
   ]
  },
  {
   "cell_type": "code",
   "execution_count": 7,
   "metadata": {
    "hideCode": false,
    "hideOutput": true,
    "hidePrompt": false
   },
   "outputs": [
    {
     "name": "stdout",
     "output_type": "stream",
     "text": [
      "\\begin{array}{l | l | l | l | l | l} \\hline\n",
      "    General     & \\verb|0.712 (0.002)| & \\verb|0.712 (0.002)| & \\verb|0.712 (0.002)| & \\verb|0.847 (0.001)| & \\verb|0.887 (0.002)| \\\\ \\hline\n",
      "    Violent     & \\verb|0.787 (0.003)| & \\verb|0.787 (0.003)| & \\verb|0.785 (0.003)| & \\verb|0.901 (0.002)| & \\verb|0.948 (0.002)| \\\\ \\hline\n",
      "    Drug        & \\verb|0.695 (0.004)| & \\verb|0.695 (0.004)| & \\verb|0.695 (0.004)| & \\verb|0.791 (0.006)| & \\verb|0.871 (0.004)| \\\\ \\hline\n",
      "    Property    & \\verb|0.787 (0.003)| & \\verb|0.787 (0.003)| & \\verb|0.785 (0.003)| & \\verb|0.901 (0.002)| & \\verb|0.92 (0.002) | \\\\ \\hline\n",
      "    Felony      & \\verb|0.681 (0.003)| & \\verb|0.681 (0.003)| & \\verb|0.68 (0.003) | & \\verb|0.821 (0.003)| & \\verb|0.904 (0.004)| \\\\ \\hline\n",
      "    Misdemeanor & \\verb|0.671 (0.003)| & \\verb|0.671 (0.003)| & \\verb|0.67 (0.003) | & \\verb|0.81 (0.002) | & \\verb|0.886 (0.001)| \\\\ \\hline\n",
      "\\end{array}\n"
     ]
    }
   ],
   "source": [
    "writer = pytablewriter.LatexTableWriter()\n",
    "writer.value_matrix = values\n",
    "writer.write_table()"
   ]
  }
 ],
 "metadata": {
  "hide_code_all_hidden": false,
  "kernelspec": {
   "display_name": "Python 3",
   "language": "python",
   "name": "python3"
  },
  "language_info": {
   "codemirror_mode": {
    "name": "ipython",
    "version": 3
   },
   "file_extension": ".py",
   "mimetype": "text/x-python",
   "name": "python",
   "nbconvert_exporter": "python",
   "pygments_lexer": "ipython3",
   "version": "3.7.4"
  }
 },
 "nbformat": 4,
 "nbformat_minor": 2
}
