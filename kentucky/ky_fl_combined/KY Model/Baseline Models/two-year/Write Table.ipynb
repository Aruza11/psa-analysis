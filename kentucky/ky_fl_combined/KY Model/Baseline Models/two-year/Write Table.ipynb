{
 "cells": [
  {
   "cell_type": "code",
   "execution_count": 1,
   "metadata": {
    "hideCode": false,
    "hidePrompt": false
   },
   "outputs": [],
   "source": [
    "import pytablewriter\n",
    "import pandas as pd\n",
    "import numpy as np"
   ]
  },
  {
   "cell_type": "code",
   "execution_count": 6,
   "metadata": {
    "hideCode": false,
    "hidePrompt": false
   },
   "outputs": [],
   "source": [
    "result = pd.read_csv(\"C:\\\\Users\\\\binha\\\\Documents\\\\Duke\\\\Cynthia Research\\\\KY-analysis-mytrials\\\\KY Recidivism\\\\KY Results\\\\KY_FL\\\\KY Model\\\\baselines\\\\Two Year\\\\KY_model_two_year_comb.csv\")"
   ]
  },
  {
   "cell_type": "code",
   "execution_count": 7,
   "metadata": {
    "hideCode": false,
    "hidePrompt": false
   },
   "outputs": [
    {
     "data": {
      "text/html": [
       "<div>\n",
       "<style scoped>\n",
       "    .dataframe tbody tr th:only-of-type {\n",
       "        vertical-align: middle;\n",
       "    }\n",
       "\n",
       "    .dataframe tbody tr th {\n",
       "        vertical-align: top;\n",
       "    }\n",
       "\n",
       "    .dataframe thead th {\n",
       "        text-align: right;\n",
       "    }\n",
       "</style>\n",
       "<table border=\"1\" class=\"dataframe\">\n",
       "  <thead>\n",
       "    <tr style=\"text-align: right;\">\n",
       "      <th></th>\n",
       "      <th>Unnamed: 0</th>\n",
       "      <th>Logistic</th>\n",
       "      <th>Lasso</th>\n",
       "      <th>Linear SVM</th>\n",
       "      <th>Random Forest</th>\n",
       "      <th>XGBoost</th>\n",
       "      <th>CART</th>\n",
       "      <th>EBM</th>\n",
       "      <th>Lasso Stumps</th>\n",
       "      <th>RiskSLIM</th>\n",
       "    </tr>\n",
       "  </thead>\n",
       "  <tbody>\n",
       "    <tr>\n",
       "      <th>0</th>\n",
       "      <td>General</td>\n",
       "      <td>0.601</td>\n",
       "      <td>0.601</td>\n",
       "      <td>0.600</td>\n",
       "      <td>0.616</td>\n",
       "      <td>0.598</td>\n",
       "      <td>0.583</td>\n",
       "      <td>0.590</td>\n",
       "      <td>0.598</td>\n",
       "      <td>0.579</td>\n",
       "    </tr>\n",
       "    <tr>\n",
       "      <th>1</th>\n",
       "      <td>Violent</td>\n",
       "      <td>0.640</td>\n",
       "      <td>0.640</td>\n",
       "      <td>0.629</td>\n",
       "      <td>0.653</td>\n",
       "      <td>0.643</td>\n",
       "      <td>0.638</td>\n",
       "      <td>0.620</td>\n",
       "      <td>0.651</td>\n",
       "      <td>0.586</td>\n",
       "    </tr>\n",
       "    <tr>\n",
       "      <th>2</th>\n",
       "      <td>Drug</td>\n",
       "      <td>0.632</td>\n",
       "      <td>0.631</td>\n",
       "      <td>0.623</td>\n",
       "      <td>0.627</td>\n",
       "      <td>0.665</td>\n",
       "      <td>0.624</td>\n",
       "      <td>0.620</td>\n",
       "      <td>0.648</td>\n",
       "      <td>0.631</td>\n",
       "    </tr>\n",
       "    <tr>\n",
       "      <th>3</th>\n",
       "      <td>Property</td>\n",
       "      <td>0.684</td>\n",
       "      <td>0.670</td>\n",
       "      <td>0.677</td>\n",
       "      <td>0.664</td>\n",
       "      <td>0.662</td>\n",
       "      <td>0.640</td>\n",
       "      <td>0.691</td>\n",
       "      <td>0.674</td>\n",
       "      <td>0.635</td>\n",
       "    </tr>\n",
       "    <tr>\n",
       "      <th>4</th>\n",
       "      <td>Felony</td>\n",
       "      <td>0.635</td>\n",
       "      <td>0.638</td>\n",
       "      <td>0.634</td>\n",
       "      <td>0.633</td>\n",
       "      <td>0.625</td>\n",
       "      <td>0.618</td>\n",
       "      <td>0.594</td>\n",
       "      <td>0.622</td>\n",
       "      <td>0.584</td>\n",
       "    </tr>\n",
       "    <tr>\n",
       "      <th>5</th>\n",
       "      <td>Misdemeanor</td>\n",
       "      <td>0.546</td>\n",
       "      <td>0.546</td>\n",
       "      <td>0.545</td>\n",
       "      <td>0.568</td>\n",
       "      <td>0.573</td>\n",
       "      <td>0.540</td>\n",
       "      <td>0.554</td>\n",
       "      <td>0.558</td>\n",
       "      <td>0.529</td>\n",
       "    </tr>\n",
       "  </tbody>\n",
       "</table>\n",
       "</div>"
      ],
      "text/plain": [
       "    Unnamed: 0  Logistic  Lasso  Linear SVM  Random Forest  XGBoost   CART  \\\n",
       "0      General     0.601  0.601       0.600          0.616    0.598  0.583   \n",
       "1      Violent     0.640  0.640       0.629          0.653    0.643  0.638   \n",
       "2         Drug     0.632  0.631       0.623          0.627    0.665  0.624   \n",
       "3     Property     0.684  0.670       0.677          0.664    0.662  0.640   \n",
       "4       Felony     0.635  0.638       0.634          0.633    0.625  0.618   \n",
       "5  Misdemeanor     0.546  0.546       0.545          0.568    0.573  0.540   \n",
       "\n",
       "     EBM  Lasso Stumps  RiskSLIM  \n",
       "0  0.590         0.598     0.579  \n",
       "1  0.620         0.651     0.586  \n",
       "2  0.620         0.648     0.631  \n",
       "3  0.691         0.674     0.635  \n",
       "4  0.594         0.622     0.584  \n",
       "5  0.554         0.558     0.529  "
      ]
     },
     "execution_count": 7,
     "metadata": {},
     "output_type": "execute_result"
    }
   ],
   "source": [
    "result"
   ]
  },
  {
   "cell_type": "code",
   "execution_count": 8,
   "metadata": {
    "hideCode": false,
    "hidePrompt": false
   },
   "outputs": [],
   "source": [
    "cols = result.columns.to_list()\n",
    "values = result.values.tolist()"
   ]
  },
  {
   "cell_type": "code",
   "execution_count": 9,
   "metadata": {
    "hideCode": false,
    "hideOutput": true,
    "hidePrompt": false
   },
   "outputs": [
    {
     "name": "stdout",
     "output_type": "stream",
     "text": [
      "\\begin{array}{l | r | r | r | r | r | r | r | r | r} \\hline\n",
      "    General     & 0.601 & 0.601 & 0.600 & 0.616 & 0.598 & 0.583 & 0.5900 & 0.5980 & 0.579 \\\\ \\hline\n",
      "    Violent     & 0.640 & 0.640 & 0.629 & 0.653 & 0.643 & 0.638 & 0.6200 & 0.6510 & 0.586 \\\\ \\hline\n",
      "    Drug        & 0.632 & 0.631 & 0.623 & 0.627 & 0.665 & 0.624 & 0.6200 & 0.6480 & 0.631 \\\\ \\hline\n",
      "    Property    & 0.684 & 0.670 & 0.677 & 0.664 & 0.662 & 0.640 & 0.6910 & 0.6740 & 0.635 \\\\ \\hline\n",
      "    Felony      & 0.635 & 0.638 & 0.634 & 0.633 & 0.625 & 0.618 & 0.5940 & 0.6220 & 0.584 \\\\ \\hline\n",
      "    Misdemeanor & 0.546 & 0.546 & 0.545 & 0.568 & 0.573 & 0.540 & 0.5540 & 0.5580 & 0.529 \\\\ \\hline\n",
      "\\end{array}\n"
     ]
    }
   ],
   "source": [
    "writer = pytablewriter.LatexTableWriter()\n",
    "writer.value_matrix = values\n",
    "writer.write_table()"
   ]
  }
 ],
 "metadata": {
  "hide_code_all_hidden": false,
  "kernelspec": {
   "display_name": "Python 3",
   "language": "python",
   "name": "python3"
  },
  "language_info": {
   "codemirror_mode": {
    "name": "ipython",
    "version": 3
   },
   "file_extension": ".py",
   "mimetype": "text/x-python",
   "name": "python",
   "nbconvert_exporter": "python",
   "pygments_lexer": "ipython3",
   "version": "3.7.4"
  }
 },
 "nbformat": 4,
 "nbformat_minor": 4
}
