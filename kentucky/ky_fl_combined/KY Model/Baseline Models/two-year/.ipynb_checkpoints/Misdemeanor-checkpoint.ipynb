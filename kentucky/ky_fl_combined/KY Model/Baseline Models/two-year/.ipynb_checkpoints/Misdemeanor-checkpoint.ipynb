{
 "cells": [
  {
   "cell_type": "code",
   "execution_count": 1,
   "metadata": {},
   "outputs": [
    {
     "name": "stdout",
     "output_type": "stream",
     "text": [
      "Current working directory is now:  C:\\Users\\binha\\Documents\\Duke\\Cynthia Research\\psa-analysis - test2\\kentucky\\ky_fl_combined\\KY Model\n"
     ]
    }
   ],
   "source": [
    "import os \n",
    "os.chdir('../../')\n",
    "print(\"Current working directory is now: \", os.getcwd())\n",
    "\n",
    "import pandas as pd \n",
    "import numpy as np\n",
    "import csv\n",
    "import KY_utils.KY_baseline_functions as base\n",
    "\n",
    "# restore saved variables\n",
    "%store -r summary_M2_ky_model"
   ]
  },
  {
   "cell_type": "code",
   "execution_count": 2,
   "metadata": {},
   "outputs": [],
   "source": [
    "KY_data = pd.read_csv(\"~/Documents/Duke/Cynthia Research/psa-analysis - test2/kentucky/ky_fl_combined/data preparation/KY_cleaned\")\n",
    "FL_data = pd.read_csv(\"~/Documents/Duke/Cynthia Research/psa-analysis - test2/kentucky/ky_fl_combined/data preparation/FL_cleaned\")\n",
    "\n",
    "## split x and y \n",
    "KY_X = KY_data.loc[:,:'current_violence']\n",
    "KY_Y = KY_data['recid_M_two_year'].values\n",
    "FL_X = FL_data.loc[:,:'current_violence']\n",
    "FL_Y = FL_data['recid_M_two_year'].values"
   ]
  },
  {
   "cell_type": "markdown",
   "metadata": {},
   "source": [
    "### Model"
   ]
  },
  {
   "cell_type": "code",
   "execution_count": 3,
   "metadata": {},
   "outputs": [
    {
     "name": "stdout",
     "output_type": "stream",
     "text": [
      "Stored 'summary_M2_ky_model' (dict)\n"
     ]
    }
   ],
   "source": [
    "#### Logistic\n",
    "c = [1e-4, 1e-3, 0.01, 0.1, 1]\n",
    "logistic_summary = base.Logistic(KY_X, KY_Y, FL_X, FL_Y,C=c,seed=816)\n",
    "\n",
    "#### Lasso\n",
    "c = [1e-4, 1e-3, 0.01, 0.1, 1]\n",
    "lasso_summary = base.Lasso(KY_X, KY_Y, FL_X, FL_Y,C=c,seed=816)\n",
    "\n",
    "#### LinearSVM\n",
    "c = [1e-4, 1e-3, 0.01, 0.1, 1]\n",
    "svm_summary = base.LinearSVM(KY_X, KY_Y, FL_X, FL_Y,C=c,seed=816)\n",
    "\n",
    "#### Random Forest\n",
    "n_estimators =  [40,50]\n",
    "depth = [8,9]\n",
    "rf_summary = base.RF(KY_X, KY_Y, FL_X, FL_Y,\n",
    "                     depth=depth, \n",
    "                     estimators=n_estimators, \n",
    "                     seed=816)\n",
    "\n",
    "#### XGBoost\n",
    "learning_rate = [0.01]\n",
    "depth = [7]\n",
    "n_estimators = [200]\n",
    "xgb_summary = base.XGB(KY_X, KY_Y, FL_X, FL_Y,\n",
    "                       learning_rate=learning_rate, \n",
    "                       depth=depth, \n",
    "                       estimators=n_estimators,\n",
    "                       seed=816)\n",
    "\n",
    "#### save results\n",
    "summary_M2_ky_model = {\"Logistic\": logistic_summary,\n",
    "                                    \"Lasso\": lasso_summary,\n",
    "                                    \"LinearSVM\": svm_summary,\n",
    "                                    \"RF\": rf_summary,\n",
    "                                    \"XGBoost\": xgb_summary}\n",
    "%store summary_M2_ky_model"
   ]
  },
  {
   "cell_type": "code",
   "execution_count": 4,
   "metadata": {},
   "outputs": [
    {
     "data": {
      "text/plain": [
       "[['Logistic',\n",
       "  0.6720695697967902,\n",
       "  0.001060528874191169,\n",
       "  {'C': 0.1},\n",
       "  0.5394036250964965],\n",
       " ['Lasso',\n",
       "  0.6721094450041449,\n",
       "  0.0009490095656821129,\n",
       "  {'C': 0.1},\n",
       "  0.5390863762782484],\n",
       " ['LinearSVM',\n",
       "  0.6718673264949555,\n",
       "  0.000869292704615332,\n",
       "  {'C': 1},\n",
       "  0.5393177035415543],\n",
       " ['RF',\n",
       "  0.6807706505082579,\n",
       "  0.0203593248187941,\n",
       "  {'max_depth': 9, 'n_estimators': 50},\n",
       "  0.566778232501084],\n",
       " ['XGBoost',\n",
       "  0.6859445504564078,\n",
       "  0.020054872146181624,\n",
       "  {'learning_rate': 0.01, 'max_depth': 7, 'n_estimators': 200},\n",
       "  0.549892664149826]]"
      ]
     },
     "execution_count": 4,
     "metadata": {},
     "output_type": "execute_result"
    }
   ],
   "source": [
    "results = []\n",
    "\n",
    "for model_name, model_summary in summary_M2_ky_model.items():\n",
    "    results.append([model_name, \n",
    "                    model_summary['best_auc'], \n",
    "                    model_summary['auc_diff'], \n",
    "                    model_summary['best_param'], \n",
    "                    model_summary['FL_score']])\n",
    "results"
   ]
  },
  {
   "cell_type": "code",
   "execution_count": 5,
   "metadata": {},
   "outputs": [],
   "source": [
    "path = \"C:\\\\Users\\\\binha\\\\Documents\\\\Duke\\\\Cynthia Research\\\\KY-analysis-mytrials\\\\KY Recidivism\\\\KY Results\\\\KY_FL\\\\KY Model\\\\baselines\\\\Two Year\\\\\"\n",
    "results = [[\"Misdemeanor\",             \n",
    "            round(logistic_summary['FL_score'],3), \n",
    "            round(lasso_summary['FL_score'], 3), \n",
    "            round(svm_summary['FL_score'],3), \n",
    "            round(rf_summary['FL_score'],3), \n",
    "            round(xgb_summary['FL_score'],3)]]\n",
    "with open(path + 'Two Year KY_model.csv', 'a') as writeFile:\n",
    "    writer = csv.writer(writeFile)\n",
    "    writer.writerows(results)"
   ]
  }
 ],
 "metadata": {
  "kernelspec": {
   "display_name": "Python 3",
   "language": "python",
   "name": "python3"
  },
  "language_info": {
   "codemirror_mode": {
    "name": "ipython",
    "version": 3
   },
   "file_extension": ".py",
   "mimetype": "text/x-python",
   "name": "python",
   "nbconvert_exporter": "python",
   "pygments_lexer": "ipython3",
   "version": "3.7.4"
  }
 },
 "nbformat": 4,
 "nbformat_minor": 4
}
