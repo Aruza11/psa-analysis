{
 "cells": [
  {
   "cell_type": "code",
   "execution_count": 1,
   "metadata": {},
   "outputs": [
    {
     "name": "stdout",
     "output_type": "stream",
     "text": [
      "Current working directory is now:  C:\\Users\\binha\\Documents\\Duke\\Cynthia Research\\psa-analysis - test2\\kentucky\\ky_fl_combined\\KY Model\n"
     ]
    },
    {
     "name": "stderr",
     "output_type": "stream",
     "text": [
      "C:\\Users\\binha\\Anaconda3\\lib\\site-packages\\sklearn\\externals\\six.py:31: DeprecationWarning:\n",
      "\n",
      "The module is deprecated in version 0.21 and will be removed in version 0.23 since we've dropped support for Python 2.7. Please rely on the official version of six (https://pypi.org/project/six/).\n",
      "\n"
     ]
    }
   ],
   "source": [
    "import os \n",
    "os.chdir('../../')\n",
    "print(\"Current working directory is now: \", os.getcwd())\n",
    "\n",
    "import pandas as pd \n",
    "import numpy as np\n",
    "import csv\n",
    "\n",
    "import KY_utils.KY_interpretable_functions as interpret\n",
    "import KY_utils.KY_RiskSLIM as slim\n",
    "import KY_utils.KY_stumps as stumps\n",
    "import KY_utils.KY_Corel as Corel\n",
    "\n",
    "# restore saved variables\n",
    "%store -r summary_M2_ky_inter_model"
   ]
  },
  {
   "cell_type": "markdown",
   "metadata": {},
   "source": [
    "### EBM & CART"
   ]
  },
  {
   "cell_type": "code",
   "execution_count": 2,
   "metadata": {},
   "outputs": [],
   "source": [
    "KY_data = pd.read_csv(\"~/Documents/Duke/Cynthia Research/psa-analysis - test/kentucky/models/ky_fl_combined/data preparation/KY_cleaned\")\n",
    "FL_data = pd.read_csv(\"~/Documents/Duke/Cynthia Research/psa-analysis - test/kentucky/models/ky_fl_combined/data preparation/FL_cleaned\")\n",
    "\n",
    "## split x and y \n",
    "KY_X = KY_data.loc[:,:'current_violence']\n",
    "KY_Y = KY_data['recid_M_two_year'].values\n",
    "FL_X = FL_data.loc[:,:'current_violence']\n",
    "FL_Y = FL_data['recid_M_two_year'].values"
   ]
  },
  {
   "cell_type": "code",
   "execution_count": 3,
   "metadata": {},
   "outputs": [],
   "source": [
    "#### CART\n",
    "depth = [7,8,9]\n",
    "cart_summary = advance.CART(KY_X, KY_Y, FL_X, FL_Y, depth, seed=816)\n",
    "\n",
    "### EBM\n",
    "estimators = [20]\n",
    "depth = [2]\n",
    "learning_rate = [0.5]\n",
    "ebm_summary = advance.EBM(KY_X, KY_Y, FL_X, FL_Y, learning_rate, depth, estimators, seed=816)"
   ]
  },
  {
   "cell_type": "code",
   "execution_count": 4,
   "metadata": {},
   "outputs": [
    {
     "data": {
      "text/plain": [
       "({'best_auc': 0.6735188155627971,\n",
       "  'auc_diff': 0.020849868415384498,\n",
       "  'best_param': {'max_depth': 8},\n",
       "  'FL_score': 0.5367473271787063},\n",
       " {'best_auc': 0.6801049127204781,\n",
       "  'auc_diff': 0.004459317650466588,\n",
       "  'best_param': {'learning_rate': 0.5,\n",
       "   'max_tree_splits': 2,\n",
       "   'n_estimators': 20},\n",
       "  'FL_score': 0.549502712477396})"
      ]
     },
     "execution_count": 4,
     "metadata": {},
     "output_type": "execute_result"
    }
   ],
   "source": [
    "cart_summary, ebm_summary"
   ]
  },
  {
   "cell_type": "markdown",
   "metadata": {},
   "source": [
    "### Lasso Stumps"
   ]
  },
  {
   "cell_type": "code",
   "execution_count": 5,
   "metadata": {},
   "outputs": [],
   "source": [
    "KY_stumps = pd.read_csv(\"~/Documents/Duke/Cynthia Research/psa-analysis - test/kentucky/models/ky_fl_combined/data preparation/KY_stumps\")\n",
    "FL_stumps = pd.read_csv(\"~/Documents/Duke/Cynthia Research/psa-analysis - test/kentucky/models/ky_fl_combined/data preparation/FL_stumps\")\n",
    "\n",
    "## split x and y \n",
    "KY_X = KY_stumps.loc[:,:'current_violence>=1']\n",
    "KY_Y = KY_stumps['recid_M_two_year'].values\n",
    "FL_X = FL_stumps.loc[:,:'current_violence>=1']\n",
    "FL_Y = FL_stumps['recid_M_two_year'].values\n",
    "\n",
    "## columns \n",
    "cols = KY_X.columns"
   ]
  },
  {
   "cell_type": "code",
   "execution_count": 6,
   "metadata": {},
   "outputs": [],
   "source": [
    "c_grid = {'C': [0.03, 0.05, 0.07]}\n",
    "stumps_summary = stumps.stump_cv(KY_X, KY_Y, FL_X, FL_Y, cols, c_grid, seed=816)"
   ]
  },
  {
   "cell_type": "code",
   "execution_count": 7,
   "metadata": {},
   "outputs": [
    {
     "data": {
      "text/plain": [
       "{'best_auc': 0.6811217378784978,\n",
       " 'best_params': {'C': 0.07},\n",
       " 'auc_diffs': 0.0017836604681417123,\n",
       " 'FL_score': 0.5435271987986845}"
      ]
     },
     "execution_count": 7,
     "metadata": {},
     "output_type": "execute_result"
    }
   ],
   "source": [
    "stumps_summary"
   ]
  },
  {
   "cell_type": "markdown",
   "metadata": {},
   "source": [
    "### RiskSLIM"
   ]
  },
  {
   "cell_type": "code",
   "execution_count": 8,
   "metadata": {},
   "outputs": [
    {
     "data": {
      "text/plain": [
       "66"
      ]
     },
     "execution_count": 8,
     "metadata": {},
     "output_type": "execute_result"
    }
   ],
   "source": [
    "## train on best param chosen by Lasso Stumps from above\n",
    "lasso = LogisticRegression(class_weight='balanced', solver='liblinear', penalty='l1', C=0.07, random_state=816).fit(KY_X, KY_Y)\n",
    "selected_features = cols[lasso.coef_[0] != 0].tolist()\n",
    "len(selected_features)"
   ]
  },
  {
   "cell_type": "code",
   "execution_count": 9,
   "metadata": {},
   "outputs": [],
   "source": [
    "### Subset features\n",
    "sub_FL_X = FL_stumps.loc[:, selected_features]\n",
    "sub_KY_X = KY_stumps.loc[:, selected_features]\n",
    "sub_KY_X.insert(0, '(Intercept)', 1)"
   ]
  },
  {
   "cell_type": "code",
   "execution_count": 10,
   "metadata": {
    "scrolled": true
   },
   "outputs": [
    {
     "name": "stdout",
     "output_type": "stream",
     "text": [
      "setting c0 = 0.0 to ensure that intercept is not penalized\n",
      "09/17/19 @ 04:45 PM | 2741 rows in lookup table\n",
      "09/17/19 @ 04:45 PM | ------------------------------------------------------------\n",
      "09/17/19 @ 04:45 PM | runnning initialization procedure\n",
      "09/17/19 @ 04:45 PM | ------------------------------------------------------------\n",
      "09/17/19 @ 04:45 PM | CPA produced 2 cuts\n",
      "09/17/19 @ 04:45 PM | running naive rounding on 56 solutions\n",
      "09/17/19 @ 04:45 PM | best objective value: 0.5248\n",
      "09/17/19 @ 04:45 PM | rounding produced 5 integer solutions\n",
      "09/17/19 @ 04:45 PM | best objective value is 0.5382\n",
      "09/17/19 @ 04:45 PM | running sequential rounding on 56 solutions\n",
      "09/17/19 @ 04:45 PM | best objective value: 0.5248\n",
      "09/17/19 @ 04:45 PM | sequential rounding produced 6 integer solutions\n",
      "09/17/19 @ 04:45 PM | best objective value: 0.5360\n",
      "09/17/19 @ 04:45 PM | polishing 11 solutions\n",
      "09/17/19 @ 04:45 PM | best objective value: 0.5360\n",
      "09/17/19 @ 04:45 PM | polishing produced 3 integer solutions\n",
      "09/17/19 @ 04:45 PM | initialization produced 11 feasible solutions\n",
      "09/17/19 @ 04:45 PM | best objective value: 0.5360\n",
      "09/17/19 @ 04:45 PM | ------------------------------------------------------------\n",
      "09/17/19 @ 04:45 PM | completed initialization procedure\n",
      "09/17/19 @ 04:45 PM | ------------------------------------------------------------\n",
      "09/17/19 @ 04:45 PM | 2741 rows in lookup table\n",
      "CPXPARAM_Read_DataCheck                          1\n",
      "CPXPARAM_Threads                                 1\n",
      "CPXPARAM_Parallel                                1\n",
      "CPXPARAM_RandomSeed                              0\n",
      "CPXPARAM_TimeLimit                               200\n",
      "CPXPARAM_MIP_Tolerances_LowerCutoff              0.51603165982737786\n",
      "CPXPARAM_MIP_Tolerances_UpperCutoff              0.53601223105004792\n"
     ]
    },
    {
     "name": "stderr",
     "output_type": "stream",
     "text": [
      "Warning: Control callbacks may disable some MIP features.\n"
     ]
    },
    {
     "name": "stdout",
     "output_type": "stream",
     "text": [
      "Lazy constraint(s) or lazy constraint callback is present.\n",
      "    Disabling dual reductions (CPX_PARAM_REDUCE) in presolve.\n",
      "    Disabling non-linear reductions (CPX_PARAM_PRELINEAR) in presolve.\n",
      "         Disabling repeat represolve because of lazy constraint/incumbent callback.\n",
      "09/17/19 @ 04:45 PM | adding 259 initial cuts\n",
      "1 of 1 MIP starts provided solutions.\n",
      "MIP start 'mip_start_0' defined initial solution with objective 0.5360.\n",
      "Tried aggregator 1 time.\n",
      "Reduced MIP has 68 rows, 136 columns, and 267 nonzeros.\n",
      "Reduced MIP has 66 binaries, 68 generals, 0 SOSs, and 0 indicators.\n",
      "Presolve time = 0.00 sec. (0.16 ticks)\n",
      "Probing time = 0.00 sec. (0.07 ticks)\n",
      "MIP emphasis: balance optimality and feasibility.\n",
      "MIP search method: traditional branch-and-cut.\n",
      "Parallel mode: none, using 1 thread.\n",
      "Root relaxation solution time = 0.00 sec. (0.09 ticks)\n",
      "\n",
      "        Nodes                                         Cuts/\n",
      "   Node  Left     Objective  IInf  Best Integer    Best Bound    ItCnt     Gap         Variable B NodeID Parent  Depth\n",
      "\n",
      "*     0+    0                            0.5360        0.5060             5.59%\n",
      "      0     0        0.5160     1        0.5360        0.5160        1    3.73%\n",
      "      0     0        0.5160     1        0.5360      Fract: 2        3    3.73%\n",
      "      0     0        0.5160     1        0.5360      Fract: 2        5    3.73%\n",
      "      0     2        0.5160     2        0.5360        0.5160        5    3.73%                        0             0\n",
      "Elapsed time = 0.16 sec. (4.26 ticks, tree = 0.01 MB, solutions = 1)\n",
      "   1487   968        cutoff              0.5360        0.5160     7829    3.73%          rho_24 U   1487   1486     19\n",
      "   2497  1547        0.5254     7        0.5360        0.5160    14430    3.73%          rho_53 U   2497   2496     34\n",
      "   3360  1973        0.5160    19        0.5360        0.5160    20349    3.73%          rho_29 D   3360   3359     26\n",
      "   4140  2348        0.5308     0        0.5360        0.5160    26362    3.73%          rho_16 D   4140   4138     27\n",
      "   4855  2696        0.5357     9        0.5360        0.5160    31384    3.73%          rho_18 D   4855   4854     21\n",
      "   5492  3059        0.5267    10        0.5360        0.5160    36291    3.73%          rho_53 U   5492   5491     39\n",
      "   6074  3346        cutoff              0.5360        0.5160    41372    3.73%           rho_6 U   6074   6073     52\n",
      "   6624  3683        0.5321     9        0.5360        0.5160    46074    3.73%          rho_26 D   6624   6622     35\n",
      "   7240  3942        0.5161     9        0.5360        0.5160    50018    3.73%          rho_46 D   7240   7239     55\n",
      "  13424  4257        0.5160     1        0.5360        0.5160    64321    3.73%           rho_0 D  13424  13423    111\n",
      "Elapsed time = 5.58 sec. (3106.08 ticks, tree = 1.59 MB, solutions = 1)\n",
      "  18290  5001        cutoff              0.5360        0.5160    80977    3.73%          rho_36 U  18290  18289    106\n",
      "  22168  5407        0.5160     6        0.5360        0.5160    97944    3.73%           rho_0 D  22168  22166    114\n",
      "  26393  5793        0.5174    11        0.5360        0.5160   114080    3.73%         L0_norm U  26393  26392    115\n",
      "  29669  6239        cutoff              0.5360        0.5160   129914    3.73%           rho_4 U  29669  29668    109\n",
      "  32927  6751        0.5160     1        0.5360        0.5160   144659    3.73%          rho_34 U  32927  32925    115\n",
      "  36717  7094        cutoff              0.5360        0.5160   156662    3.73%          rho_34 D  36717  36716     89\n",
      "  39915  7942        0.5243    11        0.5360        0.5160   170235    3.73%          rho_14 D  39915  39914    111\n",
      "  42706  9011        0.5160     7        0.5360        0.5160   186024    3.73%          rho_34 U  42706  42705     56\n",
      "  45481  9948        0.5330    14        0.5360        0.5160   201770    3.73%         L0_norm U  45481  45480     95\n",
      "  48251 10712        0.5170     6        0.5360        0.5160   217102    3.73%          rho_46 D  48251  48250    126\n",
      "Elapsed time = 12.61 sec. (12644.62 ticks, tree = 3.99 MB, solutions = 1)\n",
      "  51020 11556        0.5329     9        0.5360        0.5160   232645    3.73%          rho_62 D  51020  51019    141\n",
      "  53720 12773        cutoff              0.5360        0.5160   248464    3.73%           rho_0 D  53720  53719     71\n",
      "  56507 14047        0.5263     1        0.5360        0.5160   264234    3.73%          rho_14 U  56507  56506    112\n",
      "  59499 15171        0.5160     8        0.5360        0.5160   280174    3.73%          rho_21 U  59499  59498    100\n",
      "  62199 16172        0.5160     9        0.5360        0.5160   296585    3.73%          rho_34 D  62199  59763     92\n",
      "  65185 17170        0.5237     6        0.5360        0.5160   310861    3.73%          rho_14 U  65185  65184     64\n",
      "  67949 18123        cutoff              0.5360        0.5160   326014    3.73%           rho_2 U  67949  67948    146\n",
      "  70802 19208        0.5246    15        0.5360        0.5160   341081    3.73%          rho_65 D  70802  70800    142\n",
      "  73526 20206        0.5160    11        0.5360        0.5160   356406    3.73%          rho_34 D  73526  73525     58\n",
      "  76018 21120        0.5169    11        0.5360        0.5160   374482    3.73%         L0_norm U  76018  76017    111\n",
      "Elapsed time = 20.19 sec. (22184.45 ticks, tree = 7.99 MB, solutions = 1)\n",
      "  78400 21950        0.5169    11        0.5360        0.5160   391979    3.73%         L0_norm U  78400  78398    101\n",
      "  80817 22814        cutoff              0.5360        0.5160   409450    3.73%          rho_60 U  80817  80816    123\n",
      "  83223 23671        cutoff              0.5360        0.5160   426942    3.73%          rho_63 U  83223  83222     84\n",
      "  85720 24653        0.5160     8        0.5360        0.5160   443849    3.73%           rho_0 D  85720  85718     71\n",
      "  88124 25648        cutoff              0.5360        0.5160   462466    3.73%          rho_60 U  88124  88123    118\n",
      "  90490 26544        0.5344    13        0.5360        0.5160   481679    3.73%           rho_7 D  90490  90488    103\n",
      "  92946 27341        cutoff              0.5360        0.5160   499410    3.73%          rho_14 U  92946  92945    140\n",
      "  95415 28186        cutoff              0.5360        0.5160   517420    3.73%           rho_0 D  95415  95413    137\n",
      "  97920 28967        0.5170    11        0.5360        0.5160   536307    3.73%          rho_34 D  97920  97919    112\n",
      " 100625 30014        0.5169    11        0.5360        0.5160   553503    3.73%         L0_norm U 100625 100624     87\n",
      "Elapsed time = 27.31 sec. (31727.68 ticks, tree = 10.83 MB, solutions = 1)\n",
      " 103266 30960        cutoff              0.5360        0.5160   569809    3.73%           rho_0 U 103266 103265    105\n",
      " 105953 31990        cutoff              0.5360        0.5160   586054    3.73%           rho_0 U 105953 105951    103\n",
      " 108539 32836        cutoff              0.5360        0.5160   602854    3.73%          rho_34 U 108539 108538    135\n",
      " 111550 33482        cutoff              0.5360        0.5160   618738    3.73%          rho_21 D 111550 111549    130\n",
      " 116164 33825        0.5165     1        0.5360        0.5160   628126    3.73%          rho_21 U 116164 116162     94\n",
      " 121420 34003        0.5192     1        0.5360        0.5160   636057    3.73%           rho_0 D 121420 121419    106\n",
      " 126830 34132        cutoff              0.5360        0.5160   643551    3.73%           rho_0 U 126830 126829     94\n",
      " 131744 34493        cutoff              0.5360        0.5160   651934    3.73%          rho_34 D 131744 131742     79\n",
      " 134622 35483        0.5170    11        0.5360        0.5160   667206    3.73%          rho_34 D 134622 134621    128\n",
      " 137413 36418        0.5160     8        0.5360        0.5160   684045    3.73%           rho_0 D 137413 137411     80\n",
      "Elapsed time = 33.81 sec. (41266.26 ticks, tree = 14.30 MB, solutions = 1)\n",
      " 140696 36974        cutoff              0.5360        0.5160   697210    3.73%          rho_34 D 140696 140695     94\n",
      " 143888 37774        0.5163     1        0.5360        0.5160   711148    3.73%          rho_34 U 143888 143886    109\n",
      " 147165 38350        cutoff              0.5360        0.5160   724819    3.73%           rho_0 U 147165 147164     56\n",
      " 150098 39212        0.5160     4        0.5360        0.5160   740852    3.73%          rho_34 U 150098 150090     91\n",
      " 153257 40232        cutoff              0.5360        0.5160   757460    3.73%           rho_0 U 153257 153256    126\n",
      " 156760 41174        0.5160     6        0.5360        0.5160   773394    3.73%          rho_34 D 156760 156403    107\n",
      " 160355 41929        cutoff              0.5360        0.5160   788170    3.73%           rho_0 U 160355 160354    132\n",
      " 163822 42801        cutoff              0.5360        0.5160   804074    3.73%           rho_0 D 163822 163821     76\n",
      " 167467 43708        cutoff              0.5360        0.5160   819296    3.73%         L0_norm D 167467 167465     64\n",
      " 170761 44643        cutoff              0.5360        0.5160   834554    3.73%         L0_norm D 170761 170760     57\n",
      "Elapsed time = 40.61 sec. (50804.96 ticks, tree = 16.94 MB, solutions = 1)\n",
      " 173775 45503        cutoff              0.5360        0.5160   849737    3.73%          rho_30 U 173775 173774     99\n",
      " 176444 46428        0.5170    13        0.5360        0.5160   866920    3.73%         L0_norm U 176444 176443     71\n",
      " 178954 47564        0.5347    10        0.5360        0.5160   883921    3.73%           rho_2 D 178954 178953    127\n",
      " 181659 48535        0.5162    10        0.5360        0.5160   898642    3.73%           rho_0 D 181659 181657    117\n",
      " 184313 49800        0.5333    17        0.5360        0.5160   914318    3.73%           rho_0 D 184313 184312     79\n",
      " 186940 51068        0.5333    17        0.5360        0.5160   930219    3.73%           rho_0 D 186940 186939     91\n",
      " 189994 51984        0.5263     1        0.5360        0.5160   942218    3.73%          rho_14 U 189994 189993     69\n",
      " 193044 53205        0.5179    10        0.5360        0.5160   960267    3.73%         L0_norm U 193044 193043     74\n",
      " 197499 53809        cutoff              0.5360        0.5160   973311    3.73%           rho_0 U 197499 197498     94\n",
      " 200936 54724        cutoff              0.5360        0.5160   988490    3.73%           rho_0 D 200936 200935     71\n",
      "Elapsed time = 47.84 sec. (60343.63 ticks, tree = 20.19 MB, solutions = 1)\n",
      " 205206 55359        0.5160     4        0.5360        0.5160  1001572    3.73%           rho_0 D 205206 205204     76\n",
      " 208424 56563        cutoff              0.5360        0.5160  1019700    3.73%           rho_0 U 208424 208423    118\n",
      " 211625 57607        cutoff              0.5360        0.5160  1037386    3.73%           rho_0 U 211625 211624     58\n",
      " 214836 58750        cutoff              0.5360        0.5160  1055374    3.73%          rho_21 D 214836 214835     96\n",
      " 218788 59496        0.5249     1        0.5360        0.5160  1070098    3.73%          rho_21 U 218788 218787     98\n",
      " 221936 60384        0.5331    15        0.5360        0.5160  1086151    3.73%         L0_norm U 221936 221935     72\n",
      " 224453 61281        0.5324    15        0.5360        0.5160  1103224    3.73%          rho_33 D 224453 224452    104\n",
      " 226950 62173        0.5331    14        0.5360        0.5160  1119808    3.73%         L0_norm U 226950 226949    123\n",
      " 229441 63059        0.5341    13        0.5360        0.5160  1136476    3.73%          rho_60 D 229441 229439     84\n",
      " 232606 63938        cutoff              0.5360        0.5160  1152438    3.73%           rho_6 U 232606 232605    100\n",
      "Elapsed time = 55.36 sec. (69882.83 ticks, tree = 23.12 MB, solutions = 1)\n",
      " 235229 65091        0.5247    15        0.5360        0.5160  1170434    3.73%          rho_65 D 235229 235227    143\n",
      " 238552 65922        cutoff              0.5360        0.5160  1186189    3.73%           rho_0 U 238552 238551    119\n",
      " 241636 66742        0.5160     1        0.5360        0.5160  1202359    3.73%           rho_0 D 241636 241634     85\n",
      " 244541 67581        0.5160     1        0.5360        0.5160  1218979    3.73%           rho_0 D 244541 244539     89\n",
      " 247195 68549        0.5160     1        0.5360        0.5160  1235689    3.73%           rho_0 D 247195 247193     71\n",
      " 250936 69213        0.5160     4        0.5360        0.5160  1249535    3.73%           rho_0 D 250936 250934     88\n",
      " 253429 70150        0.5341    15        0.5360        0.5160  1266446    3.73%          rho_54 D 253429 253427    142\n",
      " 255962 71068        0.5160     1        0.5360        0.5160  1283384    3.73%          rho_34 U 255962 255947     76\n",
      " 259600 71539        cutoff              0.5360        0.5160  1294263    3.73%           rho_0 U 259600 259599     91\n",
      " 263760 71685        0.5174     1        0.5360        0.5160  1300664    3.73%          rho_22 U 263760 263758     96\n",
      "Elapsed time = 62.44 sec. (79421.39 ticks, tree = 28.42 MB, solutions = 1)\n",
      " 268000 71668        0.5199     1        0.5360        0.5160  1306979    3.73%          rho_22 U 268000 267999    120\n",
      " 272014 71773        0.5169     1        0.5360        0.5160  1313207    3.73%           rho_0 D 272014 272012    121\n",
      " 276016 71807        cutoff              0.5360        0.5160  1319436    3.73%          rho_22 D 276016 276015    110\n",
      " 281331 72037        0.5228    15        0.5360        0.5160  1328751    3.73%          rho_63 D 281331 281329     73\n",
      " 284413 72403        0.5163     1        0.5360        0.5160  1342614    3.73%           rho_0 D 284413 284411     99\n",
      " 288586 72783        0.5224    17        0.5360        0.5160  1355145    3.73%          rho_64 D 288586 288584     74\n",
      " 292388 73152        0.5227     1        0.5360        0.5160  1368021    3.73%           rho_0 D 292388 292387     81\n",
      " 296050 73954        0.5160     8        0.5360        0.5160  1384672    3.73%          rho_21 U 296050 296049     67\n",
      " 298636 75117        0.5313    11        0.5360        0.5160  1402695    3.73%          rho_54 D 298636 298635    158\n",
      " 308649 78587        0.5349    13        0.5360        0.5160  1468215    3.73%          rho_60 D 308649 308647     87\n",
      "Elapsed time = 71.11 sec. (91821.23 ticks, tree = 30.62 MB, solutions = 1)\n",
      " 320953 82093        cutoff              0.5360        0.5160  1531444    3.73%           rho_0 U 320953 320952     98\n",
      " 333927 85492        cutoff              0.5360        0.5160  1593092    3.73%           rho_0 U 333927 333926     98\n",
      " 351815 87702        cutoff              0.5360        0.5160  1638495    3.73%           rho_0 U 351815 351814    106\n",
      " 368408 90655        cutoff              0.5360        0.5160  1691193    3.73%          rho_21 D 368408 368407     96\n",
      " 382350 93413        0.5310    15        0.5360        0.5160  1752216    3.73%          rho_60 D 382350 382348    130\n",
      " 393165 96897        0.5160    11        0.5360        0.5160  1817457    3.73%          rho_34 D 393165 393164    124\n",
      " 403678 100755        0.5325    15        0.5360        0.5160  1885481    3.73%           rho_0 D 403678 403677     90\n",
      " 415456 104211        0.5169    10        0.5360        0.5160  1949880    3.73%         L0_norm U 415456 415455    116\n",
      " 430441 107076        cutoff              0.5360        0.5160  2007552    3.73%          rho_21 D 430441 430440     84\n",
      " 443693 110470        cutoff              0.5360        0.5160  2070317    3.73%           rho_0 D 443693 443692     93\n",
      "Elapsed time = 99.83 sec. (129971.54 ticks, tree = 40.72 MB, solutions = 1)\n",
      " 454930 113731        0.5330    11        0.5360        0.5160  2134506    3.73%           rho_4 D 454930 454928    160\n",
      " 470127 116664        0.5184     1        0.5360        0.5160  2191208    3.73%          rho_21 U 470127 470125     90\n",
      " 487098 118679        0.5169    11        0.5360        0.5160  2237142    3.73%          rho_21 D 487098 480745    123\n",
      " 505810 120653        0.5221     1        0.5360        0.5160  2279756    3.73%          rho_15 U 505810 505808     91\n",
      " 526635 122275        0.5169    11        0.5360        0.5160  2320804    3.73%          rho_21 D 526635 198611    100\n",
      " 546465 124044        0.5262     1        0.5360        0.5160  2361895    3.73%          rho_14 U 546465 546464    124\n",
      " 565579 125807        0.5332    14        0.5360        0.5160  2403512    3.73%         L0_norm U 565579 565578     86\n",
      " 583480 127757        0.5186     1        0.5360        0.5160  2446809    3.73%           rho_0 D 583480 583479    121\n",
      " 599909 130171        0.5205     1        0.5360        0.5160  2493318    3.73%           rho_0 D 599909 599908     95\n",
      " 617685 132194        0.5175     1        0.5360        0.5160  2538951    3.73%          rho_21 U 617685 323128    128\n",
      "Elapsed time = 124.44 sec. (168121.16 ticks, tree = 50.69 MB, solutions = 1)\n",
      " 636637 133945        cutoff              0.5360        0.5160  2581538    3.73%           rho_0 D 636637 636636    103\n",
      " 651325 136537        0.5341    11        0.5360        0.5160  2635864    3.73%          rho_30 D 651325 651323     74\n",
      " 668729 138484        0.5257     1        0.5360        0.5160  2680022    3.73%           rho_0 D 668729 668728    123\n",
      " 684540 140591        0.5179     1        0.5360        0.5160  2734135    3.73%          rho_21 U 684540 684538    119\n",
      " 699314 142867        0.5160     6        0.5360        0.5160  2790078    3.73%           rho_0 D 699314 699312     71\n",
      " 711061 145819        0.5223     1        0.5360        0.5160  2852336    3.73%          rho_21 U 711061 711060    102\n",
      " 725255 148487        0.5262     1        0.5360        0.5160  2910011    3.73%          rho_14 U 725255 725254    113\n",
      " 737430 151362        cutoff              0.5360        0.5160  2970469    3.73%          rho_30 D 737430 737428    117\n",
      " 749027 153863        0.5240    16        0.5360        0.5160  3030870    3.73%          rho_65 D 749027 749025     61\n",
      " 759704 156144        0.5341    15        0.5360        0.5160  3098208    3.73%           rho_5 D 759704 759702    115\n",
      "Elapsed time = 149.63 sec. (206269.91 ticks, tree = 58.42 MB, solutions = 1)\n",
      " 769220 159334        0.5184    15        0.5360        0.5160  3163620    3.73%          rho_15 D 769220 769219     93\n",
      " 778320 162548        0.5341    15        0.5360        0.5160  3230770    3.73%           rho_7 D 778320 778318     68\n",
      " 788168 165561        cutoff              0.5360        0.5160  3293291    3.73%           rho_0 U 788168 788167     86\n",
      " 798160 168514        0.5301    17        0.5360        0.5160  3355354    3.73%          rho_57 D 798160 798159     84\n",
      " 806941 171472        cutoff              0.5360        0.5160  3416550    3.73%           rho_0 U 806941 806939     93\n",
      " 814494 174547        cutoff              0.5360        0.5160  3488145    3.73%           rho_6 U 814494 814492    110\n",
      " 822404 178113        0.5160     6        0.5360        0.5160  3556036    3.73%          rho_24 U 822404 822403     78\n",
      " 830297 181434        0.5160     6        0.5360        0.5160  3621333    3.73%           rho_0 D 830297 830295    112\n",
      " 838628 183907        cutoff              0.5360        0.5160  3679267    3.73%          rho_39 U 838628 838627    122\n",
      " 847101 186200        0.5253    11        0.5360        0.5160  3733985    3.73%          rho_37 D 847101 847099     91\n",
      "Elapsed time = 170.66 sec. (244419.75 ticks, tree = 69.96 MB, solutions = 1)\n",
      " 855433 188766        0.5160     8        0.5360        0.5160  3792172    3.73%           rho_0 D 855433 855431     94\n",
      " 863111 191620        cutoff              0.5360        0.5160  3856489    3.73%           rho_0 U 863111 863110     96\n",
      " 869953 194518        0.5160     1        0.5360        0.5160  3934200    3.73%          rho_34 U 869953 869937     63\n",
      " 878795 196968        cutoff              0.5360        0.5160  3989229    3.73%         L0_norm D 878795 878794     98\n",
      " 887346 199028        cutoff              0.5360        0.5160  4042893    3.73%           rho_0 U 887346 887345     90\n",
      " 895785 201704        0.5343     7        0.5360        0.5160  4095157    3.73%          rho_52 D 895785 895783    126\n",
      " 904088 204502        cutoff              0.5360        0.5160  4147390    3.73%          rho_39 U 904088 904087    148\n",
      " 912467 207479        cutoff              0.5360        0.5160  4202932    3.73%           rho_6 U 912467 912466    112\n",
      " 920710 210423        0.5338    13        0.5360        0.5160  4260321    3.73%          rho_60 D 920710 920708    107\n",
      " 929066 213403        cutoff              0.5360        0.5160  4317773    3.73%           rho_0 U 929066 929064    118\n",
      "Elapsed time = 188.88 sec. (282568.63 ticks, tree = 80.97 MB, solutions = 1)\n",
      " 937380 216366        0.5229     8        0.5360        0.5160  4375045    3.73%          rho_14 U 937380 937379     82\n",
      " 946118 219666        cutoff              0.5360        0.5160  4426731    3.73%          rho_60 U 946118 946117    100\n",
      " 955507 223508        0.5253    13        0.5360        0.5160  4475434    3.73%          rho_63 D 955507 955506     91\n",
      " 964770 227384        0.5298    13        0.5360        0.5160  4526546    3.73%          rho_51 D 964770 964769    131\n",
      " 974031 231123        0.5344    11        0.5360        0.5160  4577496    3.73%          rho_60 D 974031 974029    128\n",
      " 983306 234868        0.5160     1        0.5360        0.5160  4627292    3.73%          rho_34 U 983306 983304     93\n",
      "\n",
      "Gomory fractional cuts applied:  3\n",
      "User cuts applied:  346\n",
      "\n",
      "Root node processing (before b&c):\n",
      "  Real time             =    0.14 sec. (4.32 ticks)\n",
      "Sequential b&c:\n",
      "  Real time             =  199.88 sec. (306852.93 ticks)\n",
      "                          ------------\n",
      "Total (root+branch&cut) =  200.02 sec. (306857.26 ticks)\n",
      "+----------------------------------------------+------------------+-----------+\n",
      "| Pr(Y = +1) = 1.0/(1.0 + exp(-(-2 + score))   |                  |           |\n",
      "| ============================================ | ================ | ========= |\n",
      "| p_arrest>=2                                  |         1 points |   + ..... |\n",
      "| p_arrest>=4                                  |         1 points |   + ..... |\n",
      "| ============================================ | ================ | ========= |\n",
      "| ADD POINTS FROM ROWS 1 to 2                  |            SCORE |   = ..... |\n",
      "+----------------------------------------------+------------------+-----------+\n"
     ]
    }
   ],
   "source": [
    "riskslim_summary = slim.risk_cv(sub_KY_X, KY_Y, sub_FL_X, FL_Y, \n",
    "                                y_label = 'general2', \n",
    "                                max_coef = 20, \n",
    "                                max_coef_number = 10, \n",
    "                                max_runtime=200, \n",
    "                                c=1e-3, \n",
    "                                seed=816)"
   ]
  },
  {
   "cell_type": "code",
   "execution_count": 11,
   "metadata": {},
   "outputs": [
    {
     "data": {
      "text/plain": [
       "{'FL_Score': 0.5289092985628628}"
      ]
     },
     "execution_count": 11,
     "metadata": {},
     "output_type": "execute_result"
    }
   ],
   "source": [
    "riskslim_summary"
   ]
  },
  {
   "cell_type": "markdown",
   "metadata": {},
   "source": [
    "### Corel"
   ]
  },
  {
   "cell_type": "code",
   "execution_count": 2,
   "metadata": {},
   "outputs": [],
   "source": [
    "KY_stumps = pd.read_csv(\"~/Documents/Duke/Cynthia Research/psa-analysis - test/kentucky/models/ky_fl_combined/data preparation/KY_stumps\")\n",
    "FL_stumps = pd.read_csv(\"~/Documents/Duke/Cynthia Research/psa-analysis - test/kentucky/models/ky_fl_combined/data preparation/FL_stumps\")\n",
    "\n",
    "## split x and y \n",
    "KY_X = KY_stumps.loc[:,:'current_violence>=1']\n",
    "KY_Y = KY_stumps['recid_M_two_year'].values\n",
    "FL_X = FL_stumps.loc[:,:'current_violence>=1']\n",
    "FL_Y = FL_stumps['recid_M_two_year'].values"
   ]
  },
  {
   "cell_type": "code",
   "execution_count": 3,
   "metadata": {},
   "outputs": [],
   "source": [
    "KY_score, FL_score = Corel.corel_cv(KY_X, KY_Y, FL_X, FL_Y, max_card=2, c=1e-3, seed=816)"
   ]
  },
  {
   "cell_type": "code",
   "execution_count": 17,
   "metadata": {},
   "outputs": [
    {
     "name": "stdout",
     "output_type": "stream",
     "text": [
      "Stored 'summary_general2_ky_inter_model' (dict)\n"
     ]
    }
   ],
   "source": [
    "#### save results\n",
    "summary_M2_ky_inter_model = {\"CART\": cart_summary,\n",
    "                                   \"EBM\": ebm_summary,\n",
    "                                   \"Stumps\": stumps_summary,\n",
    "                                   \"RiskSLIM\": riskslim_summary, \n",
    "                                   \"Corel\": FL_score}\n",
    "%store summary_M2_ky_inter_model"
   ]
  },
  {
   "cell_type": "code",
   "execution_count": 14,
   "metadata": {},
   "outputs": [],
   "source": [
    "path = \"C:\\\\Users\\\\binha\\\\Documents\\\\Duke\\\\Cynthia Research\\\\KY-analysis-mytrials\\\\KY Recidivism\\\\KY Results\\\\KY_FL\\\\KY Model\\\\interpretable\\\\Two Year\\\\\"\n",
    "results = [[\"Misdemeanor\",             \n",
    "            round(cart_summary['FL_score'],3), \n",
    "            round(ebm_summary['FL_score'], 3), \n",
    "            round(stumps_summary['FL_score'],3), \n",
    "            round(riskslim_summary['FL_Score'], 3), \n",
    "            round(FL_score, 3)]]\n",
    "with open(path + 'Two Year KY_inter_model.csv', 'a') as writeFile:\n",
    "    writer = csv.writer(writeFile)\n",
    "    writer.writerows(results)"
   ]
  }
 ],
 "metadata": {
  "kernelspec": {
   "display_name": "Python 3",
   "language": "python",
   "name": "python3"
  },
  "language_info": {
   "codemirror_mode": {
    "name": "ipython",
    "version": 3
   },
   "file_extension": ".py",
   "mimetype": "text/x-python",
   "name": "python",
   "nbconvert_exporter": "python",
   "pygments_lexer": "ipython3",
   "version": "3.7.4"
  }
 },
 "nbformat": 4,
 "nbformat_minor": 4
}
