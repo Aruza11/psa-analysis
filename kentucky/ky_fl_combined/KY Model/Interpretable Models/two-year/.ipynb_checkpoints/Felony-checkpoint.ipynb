{
 "cells": [
  {
   "cell_type": "code",
   "execution_count": 1,
   "metadata": {},
   "outputs": [
    {
     "name": "stdout",
     "output_type": "stream",
     "text": [
      "Current working directory is now:  C:\\Users\\binha\\Documents\\Duke\\Cynthia Research\\psa-analysis - test2\\kentucky\\ky_fl_combined\\KY Model\n"
     ]
    },
    {
     "name": "stderr",
     "output_type": "stream",
     "text": [
      "C:\\Users\\binha\\Anaconda3\\lib\\site-packages\\sklearn\\externals\\six.py:31: DeprecationWarning:\n",
      "\n",
      "The module is deprecated in version 0.21 and will be removed in version 0.23 since we've dropped support for Python 2.7. Please rely on the official version of six (https://pypi.org/project/six/).\n",
      "\n"
     ]
    }
   ],
   "source": [
    "import os \n",
    "os.chdir('../../')\n",
    "print(\"Current working directory is now: \", os.getcwd())\n",
    "\n",
    "import pandas as pd \n",
    "import numpy as np\n",
    "import csv\n",
    "\n",
    "import KY_utils.KY_interpretable_functions as interpret\n",
    "import KY_utils.KY_RiskSLIM as slim\n",
    "import KY_utils.KY_stumps as stumps\n",
    "import KY_utils.KY_Corel as Corel\n",
    "\n",
    "# restore saved variables\n",
    "%store -r summary_F2_ky_inter_model"
   ]
  },
  {
   "cell_type": "markdown",
   "metadata": {},
   "source": [
    "### EBM & CART"
   ]
  },
  {
   "cell_type": "code",
   "execution_count": 2,
   "metadata": {},
   "outputs": [],
   "source": [
    "KY_data = pd.read_csv(\"~/Documents/Duke/Cynthia Research/psa-analysis - test/kentucky/models/ky_fl_combined/data preparation/KY_cleaned\")\n",
    "FL_data = pd.read_csv(\"~/Documents/Duke/Cynthia Research/psa-analysis - test/kentucky/models/ky_fl_combined/data preparation/FL_cleaned\")\n",
    "\n",
    "## split x and y \n",
    "KY_X = KY_data.loc[:,:'current_violence']\n",
    "KY_Y = KY_data['recid_F_two_year'].values\n",
    "FL_X = FL_data.loc[:,:'current_violence']\n",
    "FL_Y = FL_data['recid_F_two_year'].values"
   ]
  },
  {
   "cell_type": "code",
   "execution_count": 3,
   "metadata": {},
   "outputs": [],
   "source": [
    "#### CART\n",
    "depth = [7,8,9]\n",
    "cart_summary = advance.CART(KY_X, KY_Y, FL_X, FL_Y, depth, seed=816)\n",
    "\n",
    "### EBM\n",
    "estimators = [20]\n",
    "depth = [2]\n",
    "learning_rate = [0.5]\n",
    "ebm_summary = advance.EBM(KY_X, KY_Y, FL_X, FL_Y, learning_rate, depth, estimators, seed=816)"
   ]
  },
  {
   "cell_type": "code",
   "execution_count": 4,
   "metadata": {},
   "outputs": [
    {
     "data": {
      "text/plain": [
       "({'best_auc': 0.7084231166194397,\n",
       "  'auc_diff': 0.02125644444847763,\n",
       "  'best_param': {'max_depth': 8},\n",
       "  'FL_score': 0.5999548606095623},\n",
       " {'best_auc': 0.7135176252090998,\n",
       "  'auc_diff': 0.0047054153124705955,\n",
       "  'best_param': {'learning_rate': 0.5,\n",
       "   'max_tree_splits': 2,\n",
       "   'n_estimators': 20},\n",
       "  'FL_score': 0.567783114256825})"
      ]
     },
     "execution_count": 4,
     "metadata": {},
     "output_type": "execute_result"
    }
   ],
   "source": [
    "cart_summary, ebm_summary"
   ]
  },
  {
   "cell_type": "markdown",
   "metadata": {},
   "source": [
    "### Lasso Stumps"
   ]
  },
  {
   "cell_type": "code",
   "execution_count": 5,
   "metadata": {},
   "outputs": [],
   "source": [
    "KY_stumps = pd.read_csv(\"~/Documents/Duke/Cynthia Research/psa-analysis - test/kentucky/models/ky_fl_combined/data preparation/KY_stumps\")\n",
    "FL_stumps = pd.read_csv(\"~/Documents/Duke/Cynthia Research/psa-analysis - test/kentucky/models/ky_fl_combined/data preparation/FL_stumps\")\n",
    "\n",
    "## split x and y \n",
    "KY_X = KY_stumps.loc[:,:'current_violence>=1']\n",
    "KY_Y = KY_stumps['recid_F_two_year'].values\n",
    "FL_X = FL_stumps.loc[:,:'current_violence>=1']\n",
    "FL_Y = FL_stumps['recid_F_two_year'].values\n",
    "\n",
    "## columns \n",
    "cols = KY_X.columns"
   ]
  },
  {
   "cell_type": "code",
   "execution_count": 6,
   "metadata": {},
   "outputs": [],
   "source": [
    "c_grid = {'C':[0.03, 0.05, 0.07]}\n",
    "stumps_summary = stumps.stump_cv(KY_X, KY_Y, FL_X, FL_Y, cols, c_grid, seed=816)"
   ]
  },
  {
   "cell_type": "code",
   "execution_count": 7,
   "metadata": {},
   "outputs": [
    {
     "data": {
      "text/plain": [
       "{'best_auc': 0.7156878900449132,\n",
       " 'best_params': {'C': 0.07},\n",
       " 'auc_diffs': 0.00168728885315228,\n",
       " 'FL_score': 0.5989789469882999}"
      ]
     },
     "execution_count": 7,
     "metadata": {},
     "output_type": "execute_result"
    }
   ],
   "source": [
    "stumps_summary"
   ]
  },
  {
   "cell_type": "markdown",
   "metadata": {},
   "source": [
    "### RiskSLIM"
   ]
  },
  {
   "cell_type": "code",
   "execution_count": 9,
   "metadata": {},
   "outputs": [
    {
     "data": {
      "text/plain": [
       "66"
      ]
     },
     "execution_count": 9,
     "metadata": {},
     "output_type": "execute_result"
    }
   ],
   "source": [
    "## train on best param chosen by Lasso Stumps from above\n",
    "lasso = LogisticRegression(class_weight='balanced', solver='liblinear', penalty='l1', C=0.07, random_state=816).fit(KY_X, KY_Y)\n",
    "selected_features = cols[lasso.coef_[0] != 0].tolist()\n",
    "len(selected_features)"
   ]
  },
  {
   "cell_type": "code",
   "execution_count": 10,
   "metadata": {},
   "outputs": [],
   "source": [
    "### Subset features\n",
    "sub_FL_X = FL_stumps.loc[:, selected_features]\n",
    "sub_KY_X = KY_stumps.loc[:, selected_features]\n",
    "sub_KY_X.insert(0, '(Intercept)', 1)"
   ]
  },
  {
   "cell_type": "code",
   "execution_count": 11,
   "metadata": {
    "scrolled": true
   },
   "outputs": [
    {
     "name": "stdout",
     "output_type": "stream",
     "text": [
      "setting c0 = 0.0 to ensure that intercept is not penalized\n",
      "09/17/19 @ 04:44 PM | 2741 rows in lookup table\n",
      "09/17/19 @ 04:44 PM | ------------------------------------------------------------\n",
      "09/17/19 @ 04:44 PM | runnning initialization procedure\n",
      "09/17/19 @ 04:44 PM | ------------------------------------------------------------\n",
      "09/17/19 @ 04:44 PM | CPA produced 2 cuts\n",
      "09/17/19 @ 04:44 PM | running naive rounding on 60 solutions\n",
      "09/17/19 @ 04:44 PM | best objective value: 0.4463\n",
      "09/17/19 @ 04:44 PM | rounding produced 5 integer solutions\n",
      "09/17/19 @ 04:44 PM | best objective value is 0.4599\n",
      "09/17/19 @ 04:44 PM | running sequential rounding on 60 solutions\n",
      "09/17/19 @ 04:44 PM | best objective value: 0.4463\n",
      "09/17/19 @ 04:44 PM | sequential rounding produced 6 integer solutions\n",
      "09/17/19 @ 04:44 PM | best objective value: 0.4599\n",
      "09/17/19 @ 04:44 PM | polishing 11 solutions\n",
      "09/17/19 @ 04:44 PM | best objective value: 0.4599\n",
      "09/17/19 @ 04:44 PM | polishing produced 4 integer solutions\n",
      "09/17/19 @ 04:44 PM | initialization produced 12 feasible solutions\n",
      "09/17/19 @ 04:44 PM | best objective value: 0.4599\n",
      "09/17/19 @ 04:44 PM | ------------------------------------------------------------\n",
      "09/17/19 @ 04:44 PM | completed initialization procedure\n",
      "09/17/19 @ 04:44 PM | ------------------------------------------------------------\n",
      "09/17/19 @ 04:44 PM | 2741 rows in lookup table\n",
      "CPXPARAM_Read_DataCheck                          1\n",
      "CPXPARAM_Threads                                 1\n",
      "CPXPARAM_Parallel                                1\n",
      "CPXPARAM_RandomSeed                              0\n",
      "CPXPARAM_TimeLimit                               200\n",
      "CPXPARAM_MIP_Tolerances_LowerCutoff              0.43785055602958867\n",
      "CPXPARAM_MIP_Tolerances_UpperCutoff              0.45987292460043139\n"
     ]
    },
    {
     "name": "stderr",
     "output_type": "stream",
     "text": [
      "Warning: Control callbacks may disable some MIP features.\n"
     ]
    },
    {
     "name": "stdout",
     "output_type": "stream",
     "text": [
      "Lazy constraint(s) or lazy constraint callback is present.\n",
      "    Disabling dual reductions (CPX_PARAM_REDUCE) in presolve.\n",
      "    Disabling non-linear reductions (CPX_PARAM_PRELINEAR) in presolve.\n",
      "         Disabling repeat represolve because of lazy constraint/incumbent callback.\n",
      "09/17/19 @ 04:44 PM | adding 253 initial cuts\n",
      "1 of 1 MIP starts provided solutions.\n",
      "MIP start 'mip_start_0' defined initial solution with objective 0.4599.\n",
      "Tried aggregator 1 time.\n",
      "Reduced MIP has 68 rows, 136 columns, and 267 nonzeros.\n",
      "Reduced MIP has 66 binaries, 68 generals, 0 SOSs, and 0 indicators.\n",
      "Presolve time = 0.00 sec. (0.16 ticks)\n",
      "Probing time = 0.00 sec. (0.07 ticks)\n",
      "MIP emphasis: balance optimality and feasibility.\n",
      "MIP search method: traditional branch-and-cut.\n",
      "Parallel mode: none, using 1 thread.\n",
      "Root relaxation solution time = 0.00 sec. (0.09 ticks)\n",
      "\n",
      "        Nodes                                         Cuts/\n",
      "   Node  Left     Objective  IInf  Best Integer    Best Bound    ItCnt     Gap         Variable B NodeID Parent  Depth\n",
      "\n",
      "*     0+    0                            0.4599        0.4279             6.96%\n",
      "      0     0        0.4379     1        0.4599        0.4379        1    4.79%\n",
      "      0     0        0.4379     1        0.4599      Fract: 2        3    4.79%\n",
      "      0     2        0.4379     8        0.4599        0.4379        3    4.79%                        0             0\n",
      "Elapsed time = 0.19 sec. (5.46 ticks, tree = 0.01 MB, solutions = 1)\n",
      "*   823   530      integral     0        0.4571        0.4379     3726    4.21%\n",
      "   1330   752        0.4430     5        0.4571        0.4379     6491    4.21%           rho_2 D   1330   1329     26\n",
      "   2235  1319        0.4560     5        0.4571        0.4379    12649    4.21%         L0_norm U   2235   2233     23\n",
      "   2926  1715        0.4379    31        0.4571        0.4379    18167    4.21%          rho_58 D   2926   2925      8\n",
      "   3580  2097        0.4379    14        0.4571        0.4379    22571    4.21%          rho_13 D   3580   3579     23\n",
      "   4180  2399        0.4485    11        0.4571        0.4379    26658    4.21%          rho_12 D   4180   4179     36\n",
      "   4795  2675        cutoff              0.4571        0.4379    30479    4.21%           rho_0 D   4795     74      7\n",
      "   5295  2962        0.4449     8        0.4571        0.4379    34379    4.21%          rho_49 U   5295   5294     24\n",
      "   5790  3202        0.4384    15        0.4571        0.4379    37857    4.21%          rho_18 D   5790   5789     37\n",
      "   6292  3391        cutoff              0.4571        0.4379    41364    4.21%          rho_19 U   6292   6291     47\n",
      "   8006  4245        0.4394    12        0.4571        0.4379    54306    4.21%          rho_17 U   8006   7901     24\n",
      "Elapsed time = 3.97 sec. (3112.39 ticks, tree = 1.57 MB, solutions = 2)\n",
      "   9892  5041        0.4379    22        0.4571        0.4379    66573    4.21%          rho_58 D   9892   9891     44\n",
      "  11573  5837        0.4379    24        0.4571        0.4379    78752    4.21%           rho_1 D  11573  11572     21\n",
      "  13273  6630        0.4421    19        0.4571        0.4379    90632    4.21%          rho_20 D  13273  13272     41\n",
      "  14890  7347        0.4502    19        0.4571        0.4379   101789    4.21%          rho_11 D  14890  14889     28\n",
      "  16448  8055        0.4419    15        0.4571        0.4379   112786    4.21%          rho_43 D  16448  16446     36\n",
      "  18054  8759        0.4379    13        0.4571        0.4379   123439    4.21%         L0_norm U  18054  18053     25\n",
      "  19457  9463        0.4391    23        0.4571        0.4379   134126    4.21%          rho_23 D  19457  19456     50\n",
      "  20798 10035        0.4499    15        0.4571        0.4379   144390    4.21%          rho_60 D  20798  20797     65\n",
      "  22174 10552        cutoff              0.4571        0.4379   154110    4.21%         alpha_1 D  22174  22173     77\n",
      "  23516 11171        0.4387    13        0.4571        0.4379   164471    4.21%          rho_21 D  23516  23515     56\n",
      "Elapsed time = 10.39 sec. (12651.97 ticks, tree = 4.23 MB, solutions = 2)\n",
      "  24898 11588        0.4402    16        0.4571        0.4379   174031    4.21%          rho_35 D  24898  24896     53\n",
      "  26251 12176        0.4523    11        0.4571        0.4379   183829    4.21%          rho_24 D  26251  26250     34\n",
      "  27489 12752        0.4403    25        0.4571        0.4379   193296    4.21%          rho_48 U  27489   6262     23\n",
      "  28754 13310        0.4467     1        0.4571        0.4379   202224    4.21%          rho_15 U  28754  28488     25\n",
      "  30170 13905        0.4539     1        0.4571        0.4379   210796    4.21%           rho_0 D  30170  30168     57\n",
      "  31631 14517        0.4539    13        0.4571        0.4379   218591    4.21%          rho_14 D  31631  31629     31\n",
      "  33039 14960        0.4544    13        0.4571        0.4379   226692    4.21%          rho_10 D  33039  33037     85\n",
      "  34520 15273        cutoff              0.4571        0.4379   233941    4.21%           rho_0 U  34520  34519     73\n",
      "  36729 15420        0.4511     1        0.4571        0.4379   238911    4.21%           rho_0 D  36729  36728     77\n",
      "  38819 15626        0.4509     1        0.4571        0.4379   244051    4.21%           rho_0 U  38819  38817     52\n",
      "Elapsed time = 14.95 sec. (22194.73 ticks, tree = 5.81 MB, solutions = 2)\n",
      "  40548 16019        0.4466    22        0.4571        0.4379   251446    4.21%          rho_63 U  40548  33129     38\n",
      "  42205 16495        cutoff              0.4571        0.4379   259185    4.21%          rho_33 U  42205  42204    105\n",
      "  43696 16957        0.4495    13        0.4571        0.4379   267920    4.21%          rho_55 D  43696  43694     82\n",
      "  45280 17296        0.4498     1        0.4571        0.4379   275661    4.21%           rho_0 D  45280  45279     69\n",
      "  47000 17717        0.4429     1        0.4571        0.4379   284255    4.21%           rho_0 D  47000  46998     58\n",
      "  48491 18148        0.4564     1        0.4571        0.4379   292873    4.21%           rho_0 U  48491  48490     70\n",
      "  49955 18571        0.4390    18        0.4571        0.4379   301619    4.21%          rho_10 D  49955  49954     39\n",
      "  51138 19146        cutoff              0.4571        0.4379   310947    4.21%          rho_14 U  51138  51137     42\n",
      "  52362 19684        0.4500    18        0.4571        0.4379   320181    4.21%          rho_34 D  52362  52361     55\n",
      "  53541 20287        cutoff              0.4571        0.4379   329529    4.21%           rho_0 U  53541  53540     38\n",
      "Elapsed time = 20.09 sec. (31739.29 ticks, tree = 8.18 MB, solutions = 2)\n",
      "  54889 21031        cutoff              0.4571        0.4379   338331    4.21%          rho_18 U  54889  54887     93\n",
      "  56433 21802        0.4407    17        0.4571        0.4379   345571    4.21%          rho_17 U  56433  52922     32\n",
      "  57610 22267        0.4381    16        0.4571        0.4379   354942    4.21%           rho_0 D  57610  57608     80\n",
      "  58790 22668        0.4513    11        0.4571        0.4379   364430    4.21%           rho_6 D  58790  58788     78\n",
      "  60097 23294        0.4379    11        0.4571        0.4379   373573    4.21%          rho_35 U  60097  59890     81\n",
      "  61354 23902        cutoff              0.4571        0.4379   382746    4.21%          rho_54 U  61354  61353    110\n",
      "  62649 24529        0.4397    16        0.4571        0.4379   390851    4.21%          rho_22 D  62649  62647     89\n",
      "  63891 25044        cutoff              0.4571        0.4379   400174    4.21%          rho_16 U  63891  63890    110\n",
      "  65080 25536        cutoff              0.4571        0.4379   409694    4.21%          rho_14 U  65080  65079    108\n",
      "  66270 26025        0.4400    15        0.4571        0.4379   419144    4.21%          rho_22 U  66270  66268     51\n",
      "Elapsed time = 25.36 sec. (41283.85 ticks, tree = 10.36 MB, solutions = 2)\n",
      "  67461 26540        0.4409    16        0.4571        0.4379   428919    4.21%          rho_12 D  67461  67460     58\n",
      "  68580 27037        0.4379    18        0.4571        0.4379   438469    4.21%          rho_58 D  68580  68579     37\n",
      "  69890 27510        0.4514     3        0.4571        0.4379   446835    4.21%          rho_25 D  69890  69889     33\n",
      "  71294 27842        cutoff              0.4571        0.4379   454003    4.21%           rho_0 U  71294  71293     86\n",
      "  72757 27945        cutoff              0.4571        0.4379   458953    4.21%          rho_23 U  72757  72756     40\n",
      "  73860 28439        0.4410    13        0.4571        0.4379   468401    4.21%          rho_20 D  73860  73859     43\n",
      "  75344 28987        cutoff              0.4571        0.4379   475685    4.21%          rho_22 D  75344  75343     40\n",
      "  76757 29311        0.4410    18        0.4571        0.4379   481768    4.21%          rho_14 D  76757  76755     86\n",
      "  78023 29815        0.4387    18        0.4571        0.4379   490109    4.21%           rho_7 D  78023  78021     77\n",
      "  79323 30223        0.4407    19        0.4571        0.4379   498975    4.21%          rho_34 D  79323  79322     64\n",
      "Elapsed time = 31.20 sec. (50828.31 ticks, tree = 11.92 MB, solutions = 2)\n",
      "  80523 30739        cutoff              0.4571        0.4379   508732    4.21%          rho_42 U  80523  80522    104\n",
      "  81691 31140        cutoff              0.4571        0.4379   516780    4.21%          rho_63 U  81691  81690     39\n",
      "  82835 31527        0.4442    24        0.4571        0.4379   524006    4.21%          rho_35 D  82835  82833     38\n",
      "  84033 31962        0.4405     2        0.4571        0.4379   532009    4.21%          rho_22 U  84033  83971     46\n",
      "  85184 32315        cutoff              0.4571        0.4379   541372    4.21%          rho_11 U  85184  85183     33\n",
      "  86392 32677        0.4387    17        0.4571        0.4379   549207    4.21%          rho_25 D  86392  86390     47\n",
      "  87653 33163        0.4541    10        0.4571        0.4379   557839    4.21%          rho_60 D  87653  87652     51\n",
      "  88758 33579        0.4379    23        0.4571        0.4379   566467    4.21%          rho_10 D  88758  88757     45\n",
      "  89804 33948        0.4379    16        0.4571        0.4379   575349    4.21%          rho_20 U  89804  89803     36\n",
      "  90984 34329        0.4533    10        0.4571        0.4379   583115    4.21%          rho_33 D  90984  90982     34\n",
      "Elapsed time = 36.00 sec. (60369.30 ticks, tree = 14.83 MB, solutions = 2)\n",
      "  92167 34729        0.4424    23        0.4571        0.4379   592164    4.21%          rho_17 D  92167  92165     34\n",
      "  93235 35258        cutoff              0.4571        0.4379   600784    4.21%           rho_7 U  93235  93234     63\n",
      "  94218 35667        0.4379    23        0.4571        0.4379   608606    4.21%          rho_29 D  94218  94217     20\n",
      "  95289 36079        0.4427    16        0.4571        0.4379   616012    4.21%           rho_2 D  95289  95287     33\n",
      "  96247 36538        0.4546     2        0.4571        0.4379   624736    4.21%          rho_17 D  96247  96246     87\n",
      "  97216 36962        0.4477    17        0.4571        0.4379   632382    4.21%           rho_8 D  97216  97214     55\n",
      "  98204 37370        0.4390    20        0.4571        0.4379   640236    4.21%          rho_13 D  98204  98203     38\n",
      "  99335 37786        0.4386    22        0.4571        0.4379   647693    4.21%          rho_22 D  99335  99334     20\n",
      " 100473 38169        0.4400    15        0.4571        0.4379   655305    4.21%          rho_58 U 100473 100324     32\n",
      " 101452 38534        cutoff              0.4571        0.4379   663159    4.21%          rho_12 U 101452 101451     30\n",
      "Elapsed time = 42.94 sec. (69912.93 ticks, tree = 16.38 MB, solutions = 2)\n",
      " 102470 38928        0.4379    13        0.4571        0.4379   670876    4.21%          rho_22 D 102470 102469     35\n",
      " 103650 39391        0.4379    25        0.4571        0.4379   678618    4.21%          rho_18 D 103650  42763     35\n",
      " 104637 39741        0.4532     2        0.4571        0.4379   686778    4.21%          rho_16 D 104637 104636     47\n",
      " 105961 39958        0.4420    19        0.4571        0.4379   693044    4.21%          rho_49 D 105961 105960     24\n",
      " 107187 40281        0.4379    22        0.4571        0.4379   699782    4.21%          rho_12 D 107187 107186     41\n",
      " 108130 40822        0.4437    23        0.4571        0.4379   709170    4.21%          rho_34 U 108130 108129     37\n",
      " 109208 41232        0.4404    33        0.4571        0.4379   717501    4.21%          rho_48 D 109208 109207     27\n",
      " 110066 41569        0.4391    20        0.4571        0.4379   725828    4.21%          rho_49 D 110066 110065     18\n",
      " 111120 41909        0.4389    27        0.4571        0.4379   733474    4.21%         L0_norm D 111120 111119     25\n",
      " 112093 42236        0.4516    11        0.4571        0.4379   740275    4.21%          rho_21 D 112093 112092     40\n",
      "Elapsed time = 49.64 sec. (79460.20 ticks, tree = 17.78 MB, solutions = 2)\n",
      " 113143 42449        0.4554     1        0.4571        0.4379   746918    4.21%          rho_25 D 113143 113142     96\n",
      " 114365 42600        0.4388    21        0.4571        0.4379   751327    4.21%          rho_62 D 114365 114364     48\n",
      " 115448 43068        cutoff              0.4571        0.4379   758735    4.21%           rho_5 U 115448 115447     54\n",
      " 116390 43713        0.4380    24        0.4571        0.4379   767383    4.21%           rho_2 D 116390 116389     42\n",
      " 117418 44363        0.4379    15        0.4571        0.4379   778360    4.21%          rho_22 D 117418 117417     64\n",
      " 118346 45027        0.4483    15        0.4571        0.4379   788311    4.21%          rho_20 U 118346 118344     95\n",
      " 119330 45395        0.4448     1        0.4571        0.4379   796193    4.21%          rho_20 U 119330 119329     78\n",
      " 120421 45879        0.4379    19        0.4571        0.4379   805129    4.21%          rho_22 D 120421 120420     81\n",
      " 121745 45993        0.4552     1        0.4571        0.4379   809118    4.21%          rho_35 D 121745 121744    105\n",
      " 126800 46861        0.4552     1        0.4571        0.4379   829578    4.21%          rho_35 D 126800 126799     62\n",
      "Elapsed time = 57.78 sec. (91862.37 ticks, tree = 19.51 MB, solutions = 2)\n",
      " 131071 48343        0.4509    17        0.4571        0.4379   855986    4.21%          rho_66 D 131071 131070     91\n",
      " 135990 49100        0.4552     1        0.4571        0.4379   877373    4.21%          rho_35 D 135990 135989     76\n",
      " 140930 49859        0.4552     1        0.4571        0.4379   899530    4.21%           rho_0 D 140930 140928    117\n",
      " 145906 50847        0.4379    12        0.4571        0.4379   921298    4.21%           rho_0 D 145906 145904     63\n",
      " 150801 51577        0.4423     1        0.4571        0.4379   941899    4.21%           rho_0 D 150801 150799    113\n",
      " 155446 52759        cutoff              0.4571        0.4379   970134    4.21%           rho_0 U 155446 155445     79\n",
      " 160141 53924        cutoff              0.4571        0.4379   996635    4.21%           rho_3 D 160141 160140     39\n",
      " 164450 55765        0.4379    22        0.4571        0.4379  1029351    4.21%          rho_49 D 164450 164449     71\n",
      " 168740 57817        0.4450     1        0.4571        0.4379  1060150    4.21%           rho_2 U 168740 168739     48\n",
      " 172850 59180        0.4533     3        0.4571        0.4379  1088544    4.21%          rho_22 U 172850 172849     39\n",
      "Elapsed time = 80.00 sec. (130019.11 ticks, tree = 24.16 MB, solutions = 2)\n",
      " 176980 60698        0.4452     1        0.4571        0.4379  1118801    4.21%          rho_35 D 176980 176979     73\n",
      " 181088 61986        0.4422    15        0.4571        0.4379  1149897    4.21%         L0_norm U 181088 181087     43\n",
      " 185380 63193        0.4462    13        0.4571        0.4379  1175740    4.21%          rho_62 D 185380 185378     70\n",
      " 189490 64388        0.4392    14        0.4571        0.4379  1203475    4.21%          rho_34 D 189490 189489     30\n",
      " 194050 65998        0.4411    12        0.4571        0.4379  1228755    4.21%           rho_2 D 194050 194049     37\n",
      " 198659 67098        cutoff              0.4571        0.4379  1250022    4.21%          rho_66 U 198659 198658     55\n",
      "*199252 66901      integral     0        0.4567        0.4379  1253196    4.14%\n",
      " 203070 68004        0.4483    10        0.4567        0.4379  1274055    4.14%          rho_61 D 203070 203068     64\n",
      " 206296 69198        0.4469    16        0.4567        0.4379  1302349    4.14%           rho_6 D 206296 206294     48\n",
      " 209856 70848        0.4439    16        0.4567        0.4379  1329023    4.14%          rho_12 U 209856  49941     26\n",
      " 213320 72482        0.4379    16        0.4567        0.4379  1355268    4.14%          rho_47 D 213320 213319     30\n",
      "Elapsed time = 105.58 sec. (168175.08 ticks, tree = 32.17 MB, solutions = 3)\n",
      " 217171 73751        0.4526    15        0.4567        0.4379  1381036    4.14%          rho_15 D 217171 217169     61\n",
      " 221301 74699        0.4383    28        0.4567        0.4379  1406870    4.14%          rho_33 D 221301 221300     32\n",
      " 225048 75873        0.4379    13        0.4567        0.4379  1432570    4.14%          rho_23 U 225048 225008     64\n",
      " 228580 76748        0.4385    26        0.4567        0.4379  1455950    4.14%         L0_norm U 228580 228579     42\n",
      " 232183 78102        0.4379    13        0.4567        0.4379  1479206    4.14%          rho_23 U 232183 107555     21\n",
      " 235820 79682        0.4416     2        0.4567        0.4379  1505721    4.14%         L0_norm D 235820 235804     44\n",
      " 239336 80605        0.4469    13        0.4567        0.4379  1529724    4.14%          rho_20 D 239336 239334     56\n",
      " 242507 81996        cutoff              0.4567        0.4379  1554673    4.14%          rho_15 U 242507 242506     39\n",
      " 246297 82934        cutoff              0.4567        0.4379  1577630    4.14%          rho_48 U 246297  16429     19\n",
      " 249501 84100        0.4419     1        0.4567        0.4379  1602643    4.14%          rho_35 U 249501 249499     32\n",
      "Elapsed time = 130.64 sec. (206332.76 ticks, tree = 36.82 MB, solutions = 3)\n",
      " 252590 85221        cutoff              0.4567        0.4379  1628129    4.14%          rho_16 D 252590 252589     65\n",
      " 255907 86722        0.4553     9        0.4567        0.4379  1655643    4.14%          rho_55 D 255907 255905     48\n",
      " 259091 88130        cutoff              0.4567        0.4379  1681174    4.14%           rho_0 U 259091 259090     76\n",
      " 262330 89486        0.4388    26        0.4567        0.4379  1706674    4.14%          rho_35 D 262330 262329     30\n",
      " 265610 90797        0.4386    19        0.4567        0.4379  1731367    4.14%          rho_28 D 265610 265609     27\n",
      " 269016 92090        0.4411    23        0.4567        0.4379  1754546    4.14%           rho_8 D 269016 269015     46\n",
      " 272448 93539        0.4519    16        0.4567        0.4379  1777194    4.14%          rho_10 D 272448 272446     43\n",
      " 275898 94721        0.4461    12        0.4567        0.4379  1800971    4.14%          rho_28 D 275898 275896     86\n",
      " 279400 96000        0.4535    12        0.4567        0.4379  1823226    4.14%          rho_51 D 279400 279399     62\n",
      " 283034 96804        cutoff              0.4567        0.4379  1842959    4.14%          rho_24 D 283034 283033     45\n",
      "Elapsed time = 155.70 sec. (244492.10 ticks, tree = 41.97 MB, solutions = 3)\n",
      " 286680 97465        0.4545     2        0.4567        0.4379  1860329    4.14%          rho_24 D 286680 286679     49\n",
      " 290478 98251        0.4445     2        0.4567        0.4379  1880567    4.14%          rho_25 D 290478 290476     46\n",
      " 293817 99582        0.4517     3        0.4567        0.4379  1902044    4.14%           rho_2 U 293817 293021     29\n",
      " 297389 100898        0.4420     1        0.4567        0.4379  1923080    4.14%          rho_35 U 297389 297387     81\n",
      " 300642 102333        cutoff              0.4567        0.4379  1947980    4.14%           rho_0 U 300642 300641     87\n",
      " 304111 103192        0.4540     2        0.4567        0.4379  1968580    4.14%          rho_26 D 304111 304110     26\n",
      " 307310 104471        0.4389    30        0.4567        0.4379  1991997    4.14%           rho_1 D 307310 307309     17\n",
      " 310500 105704        0.4425     1        0.4567        0.4379  2015382    4.14%          rho_26 D 310500 310499     38\n",
      " 313710 106851        0.4531     2        0.4567        0.4379  2040057    4.14%          rho_30 U 313710 313708     65\n",
      " 316822 107936        0.4379    23        0.4567        0.4379  2062458    4.14%          rho_27 D 316822 316821     18\n",
      "Elapsed time = 177.81 sec. (282657.22 ticks, tree = 46.60 MB, solutions = 3)\n",
      " 319723 109292        0.4379    20        0.4567        0.4379  2086686    4.14%          rho_22 D 319723 319722     24\n",
      " 322935 110274        cutoff              0.4567        0.4379  2106537    4.14%           rho_6 U 322935 322934     74\n",
      " 325969 111322        0.4379    24        0.4567        0.4379  2130112    4.14%           rho_0 U 325969 325968      8\n",
      " 328950 112473        0.4381    26        0.4567        0.4379  2152334    4.14%          rho_25 D 328950 328948     33\n",
      " 331800 113426        0.4379    25        0.4567        0.4379  2175768    4.14%          rho_10 D 331800 331799     39\n",
      " 334703 114573        cutoff              0.4567        0.4379  2196874    4.14%          rho_17 U 334703 334702     39\n",
      " 337753 115406        cutoff              0.4567        0.4379  2216466    4.14%          rho_14 U 337753 337752     35\n",
      " 341243 116665        0.4379    13        0.4567        0.4379  2238139    4.14%          rho_25 D 341243 341242     58\n",
      " 344792 117442        0.4426     1        0.4567        0.4379  2253960    4.14%           rho_0 D 344792 344790     85\n",
      "\n",
      "Gomory fractional cuts applied:  2\n",
      "User cuts applied:  1006\n",
      "\n",
      "Root node processing (before b&c):\n",
      "  Real time             =    0.19 sec. (5.67 ticks)\n",
      "Sequential b&c:\n",
      "  Real time             =  199.83 sec. (318745.82 ticks)\n",
      "                          ------------\n",
      "Total (root+branch&cut) =  200.01 sec. (318751.48 ticks)\n",
      "+----------------------------------------------+------------------+-----------+\n",
      "| Pr(Y = +1) = 1.0/(1.0 + exp(-(-3 + score))   |                  |           |\n",
      "| ============================================ | ================ | ========= |\n",
      "| age_at_current_charge<=64.0                  |         1 points |   + ..... |\n",
      "| p_arrest>=2                                  |         1 points |   + ..... |\n",
      "| p_arrest>=5                                  |         1 points |   + ..... |\n",
      "| ============================================ | ================ | ========= |\n",
      "| ADD POINTS FROM ROWS 1 to 3                  |            SCORE |   = ..... |\n",
      "+----------------------------------------------+------------------+-----------+\n"
     ]
    }
   ],
   "source": [
    "riskslim_summary = slim.risk_cv(sub_KY_X, KY_Y, sub_FL_X, FL_Y, \n",
    "                                y_label = 'general2', \n",
    "                                max_coef = 20, \n",
    "                                max_coef_number = 10, \n",
    "                                max_runtime=200, \n",
    "                                c=1e-3, \n",
    "                                seed=816)"
   ]
  },
  {
   "cell_type": "code",
   "execution_count": 13,
   "metadata": {},
   "outputs": [
    {
     "data": {
      "text/plain": [
       "{'FL_Score': 0.5570588978766431}"
      ]
     },
     "execution_count": 13,
     "metadata": {},
     "output_type": "execute_result"
    }
   ],
   "source": [
    "riskslim_summary"
   ]
  },
  {
   "cell_type": "markdown",
   "metadata": {},
   "source": [
    "### Corel"
   ]
  },
  {
   "cell_type": "code",
   "execution_count": 2,
   "metadata": {},
   "outputs": [],
   "source": [
    "KY_stumps = pd.read_csv(\"~/Documents/Duke/Cynthia Research/psa-analysis - test/kentucky/models/ky_fl_combined/data preparation/KY_stumps\")\n",
    "FL_stumps = pd.read_csv(\"~/Documents/Duke/Cynthia Research/psa-analysis - test/kentucky/models/ky_fl_combined/data preparation/FL_stumps\")\n",
    "\n",
    "## split x and y \n",
    "KY_X = KY_stumps.loc[:,:'current_violence>=1']\n",
    "KY_Y = KY_stumps['recid_F_two_year'].values\n",
    "FL_X = FL_stumps.loc[:,:'current_violence>=1']\n",
    "FL_Y = FL_stumps['recid_F_two_year'].values"
   ]
  },
  {
   "cell_type": "code",
   "execution_count": 3,
   "metadata": {},
   "outputs": [],
   "source": [
    "KY_score, FL_score = Corel.corel_cv(KY_X, KY_Y, FL_X, FL_Y, max_card=2, c=1e-3, seed=816)"
   ]
  },
  {
   "cell_type": "code",
   "execution_count": 17,
   "metadata": {},
   "outputs": [
    {
     "name": "stdout",
     "output_type": "stream",
     "text": [
      "Stored 'summary_general2_ky_inter_model' (dict)\n"
     ]
    }
   ],
   "source": [
    "#### save results\n",
    "summary_F2_ky_inter_model = {\"CART\": cart_summary,\n",
    "                                   \"EBM\": ebm_summary,\n",
    "                                   \"Stumps\": stumps_summary,\n",
    "                                   \"RiskSLIM\": riskslim_summary, \n",
    "                                   \"Corel\": FL_score}\n",
    "%store summary_F2_ky_inter_model"
   ]
  },
  {
   "cell_type": "code",
   "execution_count": 16,
   "metadata": {},
   "outputs": [],
   "source": [
    "path = \"C:\\\\Users\\\\binha\\\\Documents\\\\Duke\\\\Cynthia Research\\\\KY-analysis-mytrials\\\\KY Recidivism\\\\KY Results\\\\KY_FL\\\\KY Model\\\\interpretable\\\\Two Year\\\\\"\n",
    "results = [[\"Felony\",             \n",
    "            round(cart_summary['FL_score'],3), \n",
    "            round(ebm_summary['FL_score'], 3), \n",
    "            round(stumps_summary['FL_score'],3), \n",
    "            round(riskslim_summary['FL_Score'], 3), \n",
    "            round(FL_score, 3)]]\n",
    "with open(path + 'Two Year KY_inter_model.csv', 'a') as writeFile:\n",
    "    writer = csv.writer(writeFile)\n",
    "    writer.writerows(results)"
   ]
  }
 ],
 "metadata": {
  "kernelspec": {
   "display_name": "Python 3",
   "language": "python",
   "name": "python3"
  },
  "language_info": {
   "codemirror_mode": {
    "name": "ipython",
    "version": 3
   },
   "file_extension": ".py",
   "mimetype": "text/x-python",
   "name": "python",
   "nbconvert_exporter": "python",
   "pygments_lexer": "ipython3",
   "version": "3.7.4"
  }
 },
 "nbformat": 4,
 "nbformat_minor": 4
}
