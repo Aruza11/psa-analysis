{
 "cells": [
  {
   "cell_type": "code",
   "execution_count": 1,
   "metadata": {},
   "outputs": [
    {
     "name": "stdout",
     "output_type": "stream",
     "text": [
      "Current working directory is now:  C:\\Users\\binha\\Documents\\Duke\\Cynthia Research\\psa-analysis - test2\\kentucky\\ky_fl_combined\\KY Model\n"
     ]
    },
    {
     "name": "stderr",
     "output_type": "stream",
     "text": [
      "C:\\Users\\binha\\Anaconda3\\lib\\site-packages\\sklearn\\externals\\six.py:31: DeprecationWarning:\n",
      "\n",
      "The module is deprecated in version 0.21 and will be removed in version 0.23 since we've dropped support for Python 2.7. Please rely on the official version of six (https://pypi.org/project/six/).\n",
      "\n"
     ]
    }
   ],
   "source": [
    "import os \n",
    "os.chdir('../../')\n",
    "print(\"Current working directory is now: \", os.getcwd())\n",
    "\n",
    "import pandas as pd \n",
    "import numpy as np\n",
    "import csv\n",
    "\n",
    "import KY_utils.KY_interpretable_functions as interpret\n",
    "import KY_utils.KY_RiskSLIM as slim\n",
    "import KY_utils.KY_stumps as stumps\n",
    "import KY_utils.KY_Corel as Corel\n",
    "\n",
    "# restore saved variables\n",
    "%store -r summary_property2_ky_inter_model"
   ]
  },
  {
   "cell_type": "markdown",
   "metadata": {},
   "source": [
    "### EBM & CART"
   ]
  },
  {
   "cell_type": "code",
   "execution_count": 2,
   "metadata": {},
   "outputs": [],
   "source": [
    "KY_data = pd.read_csv(\"~/Documents/Duke/Cynthia Research/psa-analysis - test/kentucky/models/ky_fl_combined/data preparation/KY_cleaned\")\n",
    "FL_data = pd.read_csv(\"~/Documents/Duke/Cynthia Research/psa-analysis - test/kentucky/models/ky_fl_combined/data preparation/FL_cleaned\")\n",
    "\n",
    "## split x and y \n",
    "KY_X = KY_data.loc[:,:'current_violence']\n",
    "KY_Y = KY_data['recid_property_two_year'].values\n",
    "FL_X = FL_data.loc[:,:'current_violence']\n",
    "FL_Y = FL_data['recid_property_two_year'].values"
   ]
  },
  {
   "cell_type": "code",
   "execution_count": 3,
   "metadata": {},
   "outputs": [],
   "source": [
    "#### CART\n",
    "depth = [6,7]\n",
    "cart_summary = advance.CART(KY_X, KY_Y, FL_X, FL_Y, depth, seed=816)\n",
    "\n",
    "### EBM\n",
    "estimators = [20]\n",
    "depth = [1]\n",
    "learning_rate = [0.5]\n",
    "ebm_summary = advance.EBM(KY_X, KY_Y, FL_X, FL_Y, learning_rate, depth, estimators, seed=816)"
   ]
  },
  {
   "cell_type": "code",
   "execution_count": 4,
   "metadata": {},
   "outputs": [
    {
     "data": {
      "text/plain": [
       "({'best_auc': 0.7416464035217375,\n",
       "  'auc_diff': 0.02323260771323321,\n",
       "  'best_param': {'max_depth': 6},\n",
       "  'FL_score': 0.631144302577692},\n",
       " {'best_auc': 0.7571520507804892,\n",
       "  'auc_diff': 0.014964936814798713,\n",
       "  'best_param': {'learning_rate': 0.5,\n",
       "   'max_tree_splits': 1,\n",
       "   'n_estimators': 20},\n",
       "  'FL_score': 0.5718348992210711})"
      ]
     },
     "execution_count": 4,
     "metadata": {},
     "output_type": "execute_result"
    }
   ],
   "source": [
    "cart_summary,  ebm_summary"
   ]
  },
  {
   "cell_type": "markdown",
   "metadata": {},
   "source": [
    "### Lasso Stumps"
   ]
  },
  {
   "cell_type": "code",
   "execution_count": 5,
   "metadata": {},
   "outputs": [],
   "source": [
    "KY_stumps = pd.read_csv(\"~/Documents/Duke/Cynthia Research/psa-analysis - test/kentucky/models/ky_fl_combined/data preparation/KY_stumps\")\n",
    "FL_stumps = pd.read_csv(\"~/Documents/Duke/Cynthia Research/psa-analysis - test/kentucky/models/ky_fl_combined/data preparation/FL_stumps\")\n",
    "\n",
    "## split x and y \n",
    "KY_X = KY_stumps.loc[:,:'current_violence>=1']\n",
    "KY_Y = KY_stumps['recid_property_two_year'].values\n",
    "FL_X = FL_stumps.loc[:,:'current_violence>=1']\n",
    "FL_Y = FL_stumps['recid_property_two_year'].values\n",
    "\n",
    "## columns \n",
    "cols = KY_X.columns"
   ]
  },
  {
   "cell_type": "code",
   "execution_count": 6,
   "metadata": {},
   "outputs": [],
   "source": [
    "c_grid = {'C':[0.03, 0.05, 0.07, 0.09]}\n",
    "stumps_summary = stumps.stump_cv(KY_X, KY_Y, FL_X, FL_Y, cols, c_grid, seed=816)"
   ]
  },
  {
   "cell_type": "code",
   "execution_count": 7,
   "metadata": {},
   "outputs": [
    {
     "data": {
      "text/plain": [
       "{'best_auc': 0.761386706423515,\n",
       " 'best_params': {'C': 0.03},\n",
       " 'auc_diffs': 0.010510162480754537,\n",
       " 'FL_score': 0.6349698867742711}"
      ]
     },
     "execution_count": 7,
     "metadata": {},
     "output_type": "execute_result"
    }
   ],
   "source": [
    "stumps_summary"
   ]
  },
  {
   "cell_type": "markdown",
   "metadata": {},
   "source": [
    "### RiskSLIM"
   ]
  },
  {
   "cell_type": "code",
   "execution_count": 9,
   "metadata": {},
   "outputs": [
    {
     "data": {
      "text/plain": [
       "61"
      ]
     },
     "execution_count": 9,
     "metadata": {},
     "output_type": "execute_result"
    }
   ],
   "source": [
    "## train on best param chosen by Lasso Stumps from above\n",
    "lasso = LogisticRegression(class_weight='balanced', solver='liblinear', penalty='l1', C=0.03, random_state=816).fit(KY_X, KY_Y)\n",
    "selected_features = cols[lasso.coef_[0] != 0].tolist()\n",
    "len(selected_features)"
   ]
  },
  {
   "cell_type": "code",
   "execution_count": 10,
   "metadata": {},
   "outputs": [],
   "source": [
    "### Subset features\n",
    "sub_FL_X = FL_stumps.loc[:, selected_features]\n",
    "sub_KY_X = KY_stumps.loc[:, selected_features]\n",
    "sub_KY_X.insert(0, '(Intercept)', 1)"
   ]
  },
  {
   "cell_type": "code",
   "execution_count": 11,
   "metadata": {
    "scrolled": true
   },
   "outputs": [
    {
     "name": "stdout",
     "output_type": "stream",
     "text": [
      "setting c0 = 0.0 to ensure that intercept is not penalized\n",
      "09/17/19 @ 04:45 PM | 2541 rows in lookup table\n",
      "09/17/19 @ 04:45 PM | ------------------------------------------------------------\n",
      "09/17/19 @ 04:45 PM | runnning initialization procedure\n",
      "09/17/19 @ 04:45 PM | ------------------------------------------------------------\n",
      "09/17/19 @ 04:45 PM | CPA produced 2 cuts\n",
      "09/17/19 @ 04:45 PM | running naive rounding on 129 solutions\n",
      "09/17/19 @ 04:45 PM | best objective value: 0.0995\n",
      "09/17/19 @ 04:45 PM | rounding produced 5 integer solutions\n",
      "09/17/19 @ 04:45 PM | best objective value is 0.1050\n",
      "09/17/19 @ 04:45 PM | running sequential rounding on 129 solutions\n",
      "09/17/19 @ 04:45 PM | best objective value: 0.0995\n",
      "09/17/19 @ 04:45 PM | sequential rounding produced 5 integer solutions\n",
      "09/17/19 @ 04:45 PM | best objective value: 0.1039\n",
      "09/17/19 @ 04:45 PM | polishing 10 solutions\n",
      "09/17/19 @ 04:45 PM | best objective value: 0.1039\n",
      "09/17/19 @ 04:45 PM | polishing produced 4 integer solutions\n",
      "09/17/19 @ 04:45 PM | initialization produced 11 feasible solutions\n",
      "09/17/19 @ 04:45 PM | best objective value: 0.1039\n",
      "09/17/19 @ 04:45 PM | ------------------------------------------------------------\n",
      "09/17/19 @ 04:45 PM | completed initialization procedure\n",
      "09/17/19 @ 04:45 PM | ------------------------------------------------------------\n",
      "09/17/19 @ 04:45 PM | 2541 rows in lookup table\n",
      "CPXPARAM_Read_DataCheck                          1\n",
      "CPXPARAM_Threads                                 1\n",
      "CPXPARAM_Parallel                                1\n",
      "CPXPARAM_RandomSeed                              0\n",
      "CPXPARAM_TimeLimit                               200\n",
      "CPXPARAM_MIP_Tolerances_LowerCutoff              0.09835126041562238\n",
      "CPXPARAM_MIP_Tolerances_UpperCutoff              0.10389769655990987\n"
     ]
    },
    {
     "name": "stderr",
     "output_type": "stream",
     "text": [
      "Warning: Control callbacks may disable some MIP features.\n"
     ]
    },
    {
     "name": "stdout",
     "output_type": "stream",
     "text": [
      "Lazy constraint(s) or lazy constraint callback is present.\n",
      "    Disabling dual reductions (CPX_PARAM_REDUCE) in presolve.\n",
      "    Disabling non-linear reductions (CPX_PARAM_PRELINEAR) in presolve.\n",
      "         Disabling repeat represolve because of lazy constraint/incumbent callback.\n",
      "09/17/19 @ 04:45 PM | adding 250 initial cuts\n",
      "1 of 1 MIP starts provided solutions.\n",
      "MIP start 'mip_start_0' defined initial solution with objective 0.1039.\n",
      "Tried aggregator 1 time.\n",
      "Reduced MIP has 63 rows, 126 columns, and 247 nonzeros.\n",
      "Reduced MIP has 61 binaries, 63 generals, 0 SOSs, and 0 indicators.\n",
      "Presolve time = 0.00 sec. (0.15 ticks)\n",
      "Probing time = 0.00 sec. (0.06 ticks)\n",
      "MIP emphasis: balance optimality and feasibility.\n",
      "MIP search method: traditional branch-and-cut.\n",
      "Parallel mode: none, using 1 thread.\n",
      "Root relaxation solution time = 0.00 sec. (0.08 ticks)\n",
      "\n",
      "        Nodes                                         Cuts/\n",
      "   Node  Left     Objective  IInf  Best Integer    Best Bound    ItCnt     Gap         Variable B NodeID Parent  Depth\n",
      "\n",
      "*     0+    0                            0.1039        0.0884            14.96%\n",
      "      0     0        0.0984     1        0.1039        0.0984        1    5.34%\n",
      "      0     0        0.0984     3        0.1039    MIRcuts: 1        4    5.34%\n",
      "      0     2        0.0984     2        0.1039        0.0984        4    5.34%                        0             0\n",
      "Elapsed time = 0.20 sec. (3.45 ticks, tree = 0.01 MB, solutions = 1)\n",
      "   1618   969        0.1006    15        0.1039        0.0984     8489    5.34%           rho_1 U   1618   1616     16\n",
      "   2907  1659        0.0996    15        0.1039        0.0984    16959    5.34%           rho_3 U   2907   2906     24\n",
      "   4031  2253        0.0984    16        0.1039        0.0984    25071    5.34%          rho_22 D   4031   4029     32\n",
      "   5060  2821        0.1026    14        0.1039        0.0984    32392    5.34%          rho_30 U   5060   5059     30\n",
      "   6036  3347        0.1015     9        0.1039        0.0984    39926    5.34%          rho_13 D   6036   6035     44\n",
      "   7075  3988        0.0988    26        0.1039        0.0984    47338    5.34%         L0_norm U   7075   7074     15\n",
      "   8062  4624        0.0986    23        0.1039        0.0984    54193    5.34%           rho_1 D   8062   4199     23\n",
      "   8929  5178        0.1034    15        0.1039        0.0984    61390    5.34%          rho_32 U   8929   8928     62\n",
      "   9786  5693        0.1037     7        0.1039        0.0984    68256    5.34%         alpha_1 D   9786   9785     24\n",
      "  13362  7793        0.1024    11        0.1039        0.0984    94158    5.34%           rho_3 D  13362  13361     33\n",
      "Elapsed time = 4.36 sec. (3106.02 ticks, tree = 2.58 MB, solutions = 1)\n",
      "  16788  9961        0.0984    28        0.1039        0.0984   120041    5.34%          rho_41 U  16788  16787     15\n",
      "  20183 12034        0.0985    20        0.1039        0.0984   145051    5.34%          rho_31 D  20183  20182     47\n",
      "  23221 13976        0.0984    24        0.1039        0.0984   170507    5.34%          rho_56 U  23221  23068     20\n",
      "  26090 15752        0.1014    14        0.1039        0.0984   194562    5.34%         L0_norm U  26090  26089     30\n",
      "  29133 17834        0.1030    15        0.1039        0.0984   218456    5.34%          rho_29 D  29133  29131     44\n",
      "  32180 19779        0.1000    23        0.1039        0.0984   242332    5.34%          rho_21 D  32180  32179     31\n",
      "  35031 21739        0.1029    15        0.1039        0.0984   266218    5.34%          rho_29 D  35031  35030     35\n",
      "  37888 23629        0.1001    27        0.1039        0.0984   290677    5.34%         L0_norm U  37888  37887     26\n",
      "  40888 25548        0.0988    22        0.1039        0.0984   314153    5.34%         L0_norm U  40888  40886     25\n",
      "  43658 27301        0.1022    13        0.1039        0.0984   337999    5.34%          rho_18 D  43658  43657     34\n",
      "Elapsed time = 12.89 sec. (12646.07 ticks, tree = 9.43 MB, solutions = 1)\n",
      "  46416 29120        0.0989    27        0.1039        0.0984   361449    5.34%         L0_norm U  46416  46414     22\n",
      "  49069 30941        0.0994    31        0.1039        0.0984   385159    5.34%         L0_norm U  49069  49067     25\n",
      "  52131 32813        0.1006    23        0.1039        0.0984   406898    5.31%          rho_30 D  52131  52129     58\n",
      "  55314 34835        0.1024    18        0.1039        0.0984   428068    5.28%          rho_11 D  55314  55313     49\n",
      "  58343 36776        0.1006    16        0.1039        0.0984   449171    5.25%          rho_37 U  58343  58340     26\n",
      "  61356 38775        0.1007    21        0.1039        0.0985   470472    5.23%          rho_23 D  61356  61353     47\n",
      "  64215 40618        0.0993    27        0.1039        0.0985   491259    5.21%          rho_22 U  64215  64214     28\n",
      "  67000 42370        0.1017    15        0.1039        0.0985   511308    5.19%          rho_17 U  67000  66999     32\n",
      "  69996 44299        0.1006    21        0.1039        0.0985   532034    5.16%          rho_29 U  69996  69995     25\n",
      "  72942 46132        0.0990    23        0.1039        0.0986   552445    5.14%          rho_23 D  72942  72939     32\n",
      "Elapsed time = 21.45 sec. (22188.00 ticks, tree = 16.50 MB, solutions = 1)\n",
      "  75839 47988        0.1031    17        0.1039        0.0986   573204    5.12%          rho_36 U  75839  75838     23\n",
      "  78635 49696        0.1016    12        0.1039        0.0986   593923    5.09%          rho_36 U  78635   8806     24\n",
      "  81433 51487        0.1037     9        0.1039        0.0986   613629    5.07%          rho_37 D  81433  81431     64\n",
      "  84114 53176        0.1027    22        0.1039        0.0987   633549    5.04%          rho_37 D  84114  84113     37\n",
      "  86762 54849        0.1018    19        0.1039        0.0987   653741    5.02%          rho_14 D  86762  86760     50\n",
      "  89494 56541        0.1030    21        0.1039        0.0987   673297    4.99%          rho_47 U  89494  89493     33\n",
      "  92182 58112        0.1014    18        0.1039        0.0987   692678    4.97%          rho_21 D  92182  92181     28\n",
      "  94827 59668        0.1025    17        0.1039        0.0988   711706    4.95%          rho_20 U  94827  94826     38\n",
      "  97362 61236        0.1034    17        0.1039        0.0988   731478    4.93%          rho_19 D  97362  97360     53\n",
      "  99881 62721        0.1032    14        0.1039        0.0988   750966    4.91%          rho_57 D  99881  99879     33\n",
      "Elapsed time = 30.14 sec. (31726.65 ticks, tree = 21.60 MB, solutions = 1)\n",
      " 102382 64202        0.1008    28        0.1039        0.0988   770661    4.89%          rho_44 D 102382 102380     36\n",
      " 104884 65615        0.0999    29        0.1039        0.0988   789577    4.87%         L0_norm U 104884 104882     27\n",
      " 107359 67133        0.1007    27        0.1039        0.0989   809079    4.85%          rho_19 D 107359 107357     38\n",
      " 109851 68603        0.1024    18        0.1039        0.0989   828804    4.83%          rho_18 D 109851 109850     33\n",
      " 112314 70134        cutoff              0.1039        0.0989   848619    4.81%          rho_47 U 112314 112313     31\n",
      " 114858 71529        0.1030     9        0.1039        0.0989   867499    4.79%          rho_20 U 114858 114856     32\n",
      " 117315 73012        0.1004    19        0.1039        0.0989   886237    4.77%          rho_29 U 117315  27551     22\n",
      " 119794 74246        0.1000    20        0.1039        0.0990   905259    4.76%          rho_56 U 119794 119793     28\n",
      " 122250 75496        0.1032     8        0.1039        0.0990   923838    4.74%           rho_6 U 122250 122248     34\n",
      " 124683 76853        0.1012    22        0.1039        0.0990   941855    4.72%          rho_23 D 124683 124682     28\n",
      "Elapsed time = 38.34 sec. (41266.66 ticks, tree = 28.80 MB, solutions = 1)\n",
      " 127139 78176        cutoff              0.1039        0.0990   960045    4.71%          rho_37 U 127139 127138     39\n",
      " 129560 79668        0.1014    20        0.1039        0.0990   978353    4.69%          rho_57 U 129560  48919     23\n",
      " 132000 80959        0.1015    19        0.1039        0.0990   996312    4.68%          rho_60 D 132000 131999     50\n",
      " 134369 82258        0.1035    11        0.1039        0.0991  1014209    4.66%          rho_47 D 134369 134367     30\n",
      " 136740 83562        0.1028    15        0.1039        0.0991  1031710    4.65%          rho_13 D 136740 136738     46\n",
      " 139039 84686        0.1031    12        0.1039        0.0991  1049892    4.63%          rho_12 D 139039 139037     39\n",
      " 141291 85976        0.1003    26        0.1039        0.0991  1068204    4.61%          rho_22 U 141291 141290     39\n",
      " 143702 87228        0.1013    17        0.1039        0.0991  1086173    4.59%          rho_37 D 143702 143699     48\n",
      " 146027 88505        0.1002    27        0.1039        0.0991  1103870    4.58%          rho_23 U 146027  45818     42\n",
      " 148364 89863        0.1028    17        0.1039        0.0992  1121861    4.56%          rho_20 D 148364 148362     40\n",
      "Elapsed time = 46.45 sec. (50806.31 ticks, tree = 32.87 MB, solutions = 1)\n",
      " 150600 91162        0.1019    18        0.1039        0.0992  1139561    4.55%          rho_11 U 150600 150598     54\n",
      " 152817 92444        0.1037    16        0.1039        0.0992  1157362    4.53%          rho_24 D 152817 152816     37\n",
      " 155080 93704        0.1001    27        0.1039        0.0992  1175291    4.52%          rho_57 U 155080 155079     24\n",
      " 157326 94786        0.1023     9        0.1039        0.0992  1192085    4.50%          rho_21 U 157326 157325     30\n",
      " 159420 95975        0.1013    21        0.1039        0.0992  1209691    4.49%          rho_21 U 159420  34335     34\n",
      " 161704 97186        0.1015    18        0.1039        0.0992  1226986    4.48%           rho_3 U 161704   9021     21\n",
      " 163965 98394        0.1023    16        0.1039        0.0993  1244086    4.46%          rho_55 U 163965 163964     32\n",
      " 166152 99552        0.1032    17        0.1039        0.0993  1261594    4.45%          rho_55 D 166152 166151     29\n",
      " 168427 100742        0.1014    21        0.1039        0.0993  1278278    4.44%         L0_norm U 168427 168426     28\n",
      " 170624 101949        0.1009    30        0.1039        0.0993  1295127    4.43%         L0_norm U 170624 170623     29\n",
      "Elapsed time = 54.75 sec. (60350.18 ticks, tree = 36.67 MB, solutions = 1)\n",
      " 172878 103079        0.1012    24        0.1039        0.0993  1312171    4.42%          rho_47 U 172878 172877     31\n",
      " 174987 104232        0.1008    23        0.1039        0.0993  1329564    4.41%         L0_norm U 174987 174986     25\n",
      " 177002 105246        0.1019    13        0.1039        0.0993  1346810    4.40%          rho_17 U 177002 177001     29\n",
      " 179248 106288        0.1014    31        0.1039        0.0993  1364454    4.38%          rho_56 D 179248 179247     26\n",
      " 181336 107448        0.1027    11        0.1039        0.0994  1382385    4.37%          rho_17 N 181336 181335     44\n",
      " 183320 108492        0.1032    16        0.1039        0.0994  1398914    4.36%           rho_3 U 183320 183318     29\n",
      " 185429 109580        0.1013    16        0.1039        0.0994  1415427    4.35%          rho_38 D 185429 185427     39\n",
      " 187464 110570        0.1023    26        0.1039        0.0994  1432628    4.33%          rho_44 U 187464 187463     28\n",
      " 189642 111621        0.1024    18        0.1039        0.0994  1449461    4.32%          rho_60 U 189642 189640     50\n",
      " 191840 112737        0.1027    18        0.1039        0.0994  1467210    4.31%          rho_13 U 191840 191839     50\n",
      "Elapsed time = 62.81 sec. (69891.80 ticks, tree = 40.10 MB, solutions = 1)\n",
      " 193933 113850        0.1007    19        0.1039        0.0994  1484013    4.30%          rho_24 U 193933 193932     28\n",
      " 195953 114891        0.1029    17        0.1039        0.0994  1500378    4.29%          rho_29 U 195953 195952     33\n",
      " 198056 115910        cutoff              0.1039        0.0995  1517551    4.28%          rho_19 U 198056 198055     40\n",
      " 200257 116942        0.1013    26        0.1039        0.0995  1534381    4.27%        alpha_21 D 200257 200255     45\n",
      " 202465 117967        0.1018    21        0.1039        0.0995  1551503    4.26%         L0_norm U 202465 202464     18\n",
      " 204550 119047        0.1026    19        0.1039        0.0995  1569371    4.25%          rho_23 U 204550 204548     31\n",
      " 206755 120164        0.1007    25        0.1039        0.0995  1586547    4.24%         L0_norm U 206755 206754     33\n",
      " 208873 121237        0.1003    27        0.1039        0.0995  1603862    4.23%          rho_22 D 208873  45250     26\n",
      " 211022 122240        0.1009    28        0.1039        0.0995  1620670    4.22%          rho_22 D 211022 211021     18\n",
      " 213083 123282        0.1029    17        0.1039        0.0995  1638133    4.21%          rho_20 D 213083 213081     35\n",
      "Elapsed time = 70.91 sec. (79430.67 ticks, tree = 43.46 MB, solutions = 1)\n",
      " 215149 124270        0.1033    17        0.1039        0.0995  1655792    4.20%         L0_norm U 215149 215148     39\n",
      " 217301 125313        0.1003    27        0.1039        0.0996  1672820    4.18%          rho_56 D 217301 217300     27\n",
      " 219432 126300        0.1020    18        0.1039        0.0996  1689471    4.17%           rho_0 U 219432 219431     31\n",
      " 221531 127326        0.1021    14        0.1039        0.0996  1707496    4.16%          rho_17 U 221531 221529     35\n",
      " 223626 128410        0.1028    19        0.1039        0.0996  1725264    4.15%          rho_13 D 223626 223625     36\n",
      " 225848 129422        0.1021    13        0.1039        0.0996  1741979    4.15%          rho_29 U 225848 225846     25\n",
      " 228103 130517        0.1031    15        0.1039        0.0996  1759296    4.14%           rho_0 U 228103 228102     32\n",
      " 230156 131495        cutoff              0.1039        0.0996  1775848    4.13%          rho_60 U 230156 230155     47\n",
      " 232315 132516        0.0996    24        0.1039        0.0996  1792596    4.12%           rho_0 D 232315 232278     34\n",
      " 240942 136548        0.1009    32        0.1039        0.0996  1861754    4.09%         L0_norm U 240942 240941     22\n",
      "Elapsed time = 81.69 sec. (91831.44 ticks, tree = 50.66 MB, solutions = 1)\n",
      " 249493 140552        0.1022    13        0.1039        0.0997  1929261    4.06%          rho_21 U 249493 249492     24\n",
      " 257938 144575        0.1034    12        0.1039        0.0997  1995193    4.03%          rho_30 D 257938 257936     39\n",
      " 266243 148375        0.1026    16        0.1039        0.0998  2063006    3.99%          rho_41 U 266243 266242     54\n",
      " 274506 152182        cutoff              0.1039        0.0998  2129634    3.96%          rho_21 U 274506 274505     48\n",
      "*277030 150341      integral     0        0.1037        0.0998  2150510    3.80%\n",
      " 282889 152644        0.1022    19        0.1037        0.0998  2195368    3.77%          rho_55 U 282889 282888     35\n",
      " 291181 156216        cutoff              0.1037        0.0998  2260728    3.75%          rho_46 U 291181 291180     53\n",
      " 299594 159742        0.1017    15        0.1037        0.0999  2326069    3.71%          rho_19 D 299594 299592     33\n",
      " 307844 163487        0.1032    17        0.1037        0.0999  2391218    3.69%          rho_47 N 307844 307843     33\n",
      " 316044 166966        0.1019    22        0.1037        0.0999  2455128    3.66%          rho_55 D 316044 316043     30\n",
      " 324169 170363        0.1025    16        0.1037        0.1000  2519517    3.63%          rho_30 U 324169 324167     36\n",
      "Elapsed time = 111.50 sec. (129982.25 ticks, tree = 63.27 MB, solutions = 2)\n",
      " 332030 173949        0.1024    14        0.1037        0.1000  2583599    3.61%          rho_16 D 332030 332028     55\n",
      " 339829 177220        0.1030    17        0.1037        0.1000  2645955    3.58%          rho_30 D 339829 339827     40\n",
      " 347516 180340        0.1036    12        0.1037        0.1000  2707801    3.56%          rho_13 N 347516 347515     45\n",
      " 355247 183782        cutoff              0.1037        0.1001  2768746    3.54%          rho_10 U 355247 355246     55\n",
      " 363375 187551        0.1028    15        0.1037        0.1001  2831244    3.52%          rho_23 U 363375 363374     36\n",
      " 371128 190880        0.1009    25        0.1037        0.1001  2893297    3.50%           rho_3 D 371128 371127     39\n",
      " 378989 194009        0.1018    24        0.1037        0.1001  2952869    3.47%          rho_18 U 378989 134890     42\n",
      " 386646 197238        0.1023    14        0.1037        0.1002  3013690    3.45%          rho_16 D 386646 386644     29\n",
      "*388120+187143                            0.1035        0.1002             3.20%\n",
      " 394152 189476        0.1018    23        0.1035        0.1002  3072468    3.18%          rho_47 U 394152 394151     31\n",
      " 401624 192203        0.1025    15        0.1035        0.1002  3130301    3.15%          rho_18 D 401624 401622     42\n",
      "Elapsed time = 141.36 sec. (168133.30 ticks, tree = 72.46 MB, solutions = 3)\n",
      " 409178 195058        0.1033    12        0.1035        0.1002  3190133    3.13%          rho_58 D 409178 409176     44\n",
      " 416806 197832        0.1029    19        0.1035        0.1002  3249081    3.11%         L0_norm U 416806 416805     45\n",
      " 424247 200640        0.1034    14        0.1035        0.1003  3308227    3.09%          rho_35 D 424247 424246     44\n",
      " 431858 203457        0.1014    24        0.1035        0.1003  3364728    3.08%          rho_16 D 431858 431856     52\n",
      " 439344 206268        0.1025    24        0.1035        0.1003  3423916    3.06%          rho_47 D 439344 439341     32\n",
      " 447013 209020        0.1028    22        0.1035        0.1003  3481300    3.04%          rho_22 U 447013 447012     27\n",
      " 454700 211916        0.1023    20        0.1035        0.1003  3537780    3.02%          rho_55 U 454700 454699     33\n",
      " 462348 214626        0.1028    20        0.1035        0.1004  3596064    3.01%          rho_13 N 462348 462347     43\n",
      " 470026 217522        0.1011    22        0.1035        0.1004  3654097    2.99%          rho_12 D 470026 470024     39\n",
      " 477715 220099        0.1030    15        0.1035        0.1004  3710656    2.97%          rho_31 D 477715 477713     36\n",
      "Elapsed time = 163.47 sec. (206283.09 ticks, tree = 81.47 MB, solutions = 3)\n",
      " 485283 222883        0.1019    19        0.1035        0.1004  3768186    2.96%          rho_30 U 485283 485282     39\n",
      " 492945 225566        0.1032    17        0.1035        0.1004  3825139    2.94%          rho_60 D 492945 492943     41\n",
      " 500416 228127        cutoff              0.1035        0.1004  3882291    2.92%          rho_57 U 500416 500415     32\n",
      " 508216 230879        0.1019    25        0.1035        0.1005  3939721    2.91%           rho_0 U 508216 508214     29\n",
      " 515975 233551        0.1009    15        0.1035        0.1005  3996297    2.89%          rho_24 U 515975 513823     41\n",
      " 523564 236117        cutoff              0.1035        0.1005  4052587    2.87%          rho_59 U 523564 523563     48\n",
      " 531153 239196        0.1011    24        0.1035        0.1005  4108662    2.86%          rho_54 D 531153 531152     61\n",
      " 538752 242080        0.1011    20        0.1035        0.1005  4164754    2.85%          rho_21 U 538752 538751     29\n",
      " 546525 244567        0.1006    20        0.1035        0.1005  4218582    2.84%          rho_47 D 546525 452954     33\n",
      " 553860 247176        cutoff              0.1035        0.1005  4273167    2.83%          rho_47 D 553860 553858     29\n",
      "Elapsed time = 184.22 sec. (244433.18 ticks, tree = 92.69 MB, solutions = 3)\n",
      " 561360 249952        cutoff              0.1035        0.1006  4327301    2.81%          rho_30 U 561360 561359     42\n",
      " 568737 252326        0.1010    20        0.1035        0.1006  4381376    2.80%          rho_54 D 568737 568735     47\n",
      " 575984 255008        0.1030    22        0.1035        0.1006  4436111    2.79%          rho_13 D 575984 575982     45\n",
      " 583517 257486        cutoff              0.1035        0.1006  4489661    2.78%          rho_16 U 583517 583516     61\n",
      " 591033 259719        0.1029    19        0.1035        0.1006  4542238    2.77%          rho_19 D 591033 591032     81\n",
      " 598295 262183        0.1030    24        0.1035        0.1006  4597312    2.76%          rho_41 N 598295 598293     31\n",
      " 605570 264695        0.1028    14        0.1035        0.1006  4650987    2.75%          rho_46 D 605570 605568     42\n",
      "\n",
      "User cuts applied:  355\n",
      "\n",
      "Root node processing (before b&c):\n",
      "  Real time             =    0.19 sec. (3.52 ticks)\n",
      "Sequential b&c:\n",
      "  Real time             =  199.83 sec. (274119.79 ticks)\n",
      "                          ------------\n",
      "Total (root+branch&cut) =  200.01 sec. (274123.31 ticks)\n",
      "+----------------------------------------------+------------------+-----------+\n",
      "| Pr(Y = +1) = 1.0/(1.0 + exp(-(-5 + score))   |                  |           |\n",
      "| ============================================ | ================ | ========= |\n",
      "| p_property>=1                                |         2 points |   + ..... |\n",
      "| age_at_current_charge<=40.0                  |         1 points |   + ..... |\n",
      "| p_arrest>=3                                  |         1 points |   + ..... |\n",
      "| ============================================ | ================ | ========= |\n",
      "| ADD POINTS FROM ROWS 1 to 3                  |            SCORE |   = ..... |\n",
      "+----------------------------------------------+------------------+-----------+\n"
     ]
    }
   ],
   "source": [
    "riskslim_summary = slim.risk_cv(sub_KY_X, KY_Y, sub_FL_X, FL_Y, \n",
    "                                y_label = 'general2', \n",
    "                                max_coef = 20, \n",
    "                                max_coef_number = 10, \n",
    "                                max_runtime=200, \n",
    "                                c=1e-3, \n",
    "                                seed=816)"
   ]
  },
  {
   "cell_type": "code",
   "execution_count": 17,
   "metadata": {},
   "outputs": [
    {
     "data": {
      "text/plain": [
       "{'FL_Score': 0.6314831767445596}"
      ]
     },
     "execution_count": 17,
     "metadata": {},
     "output_type": "execute_result"
    }
   ],
   "source": [
    "riskslim_summary"
   ]
  },
  {
   "cell_type": "markdown",
   "metadata": {},
   "source": [
    "### Corel"
   ]
  },
  {
   "cell_type": "code",
   "execution_count": 2,
   "metadata": {},
   "outputs": [],
   "source": [
    "KY_stumps = pd.read_csv(\"~/Documents/Duke/Cynthia Research/psa-analysis - test/kentucky/models/ky_fl_combined/data preparation/KY_stumps\")\n",
    "FL_stumps = pd.read_csv(\"~/Documents/Duke/Cynthia Research/psa-analysis - test/kentucky/models/ky_fl_combined/data preparation/FL_stumps\")\n",
    "\n",
    "## split x and y \n",
    "KY_X = KY_stumps.loc[:,:'current_violence>=1']\n",
    "KY_Y = KY_stumps['recid_property_two_year'].values\n",
    "FL_X = FL_stumps.loc[:,:'current_violence>=1']\n",
    "FL_Y = FL_stumps['recid_property_two_year'].values"
   ]
  },
  {
   "cell_type": "code",
   "execution_count": 3,
   "metadata": {},
   "outputs": [],
   "source": [
    "KY_score, FL_score = Corel.corel_cv(KY_X, KY_Y, FL_X, FL_Y, max_card=2, c=1e-3, seed=816)"
   ]
  },
  {
   "cell_type": "code",
   "execution_count": 17,
   "metadata": {},
   "outputs": [
    {
     "name": "stdout",
     "output_type": "stream",
     "text": [
      "Stored 'summary_general2_ky_inter_model' (dict)\n"
     ]
    }
   ],
   "source": [
    "#### save results\n",
    "summary_property2_ky_inter_model = {\"CART\": cart_summary,\n",
    "                                   \"EBM\": ebm_summary,\n",
    "                                   \"Stumps\": stumps_summary,\n",
    "                                   \"RiskSLIM\": riskslim_summary, \n",
    "                                   \"Corel\": FL_score}\n",
    "%store summary_property2_ky_inter_model"
   ]
  },
  {
   "cell_type": "code",
   "execution_count": 16,
   "metadata": {},
   "outputs": [],
   "source": [
    "path = \"C:\\\\Users\\\\binha\\\\Documents\\\\Duke\\\\Cynthia Research\\\\KY-analysis-mytrials\\\\KY Recidivism\\\\KY Results\\\\KY_FL\\\\KY Model\\\\interpretable\\\\Two Year\\\\\"\n",
    "results = [[\"Property\",             \n",
    "            round(cart_summary['FL_score'],3), \n",
    "            round(ebm_summary['FL_score'], 3), \n",
    "            round(stumps_summary['FL_score'],3), \n",
    "            round(riskslim_summary['FL_Score'], 3), \n",
    "            round(FL_score, 3)]]\n",
    "with open(path + 'Two Year KY_inter_model.csv', 'a') as writeFile:\n",
    "    writer = csv.writer(writeFile)\n",
    "    writer.writerows(results)"
   ]
  }
 ],
 "metadata": {
  "kernelspec": {
   "display_name": "Python 3",
   "language": "python",
   "name": "python3"
  },
  "language_info": {
   "codemirror_mode": {
    "name": "ipython",
    "version": 3
   },
   "file_extension": ".py",
   "mimetype": "text/x-python",
   "name": "python",
   "nbconvert_exporter": "python",
   "pygments_lexer": "ipython3",
   "version": "3.7.4"
  }
 },
 "nbformat": 4,
 "nbformat_minor": 4
}
