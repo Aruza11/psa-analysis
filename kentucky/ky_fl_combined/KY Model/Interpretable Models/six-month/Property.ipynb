{
 "cells": [
  {
   "cell_type": "code",
   "execution_count": 1,
   "metadata": {},
   "outputs": [
    {
     "name": "stdout",
     "output_type": "stream",
     "text": [
      "Current working directory is now:  C:\\Users\\binha\\Documents\\Duke\\Cynthia Research\\psa-analysis - test2\\kentucky\\ky_fl_combined\\KY Model\n"
     ]
    },
    {
     "name": "stderr",
     "output_type": "stream",
     "text": [
      "C:\\Users\\binha\\Anaconda3\\lib\\site-packages\\sklearn\\externals\\six.py:31: DeprecationWarning:\n",
      "\n",
      "The module is deprecated in version 0.21 and will be removed in version 0.23 since we've dropped support for Python 2.7. Please rely on the official version of six (https://pypi.org/project/six/).\n",
      "\n"
     ]
    }
   ],
   "source": [
    "import os \n",
    "os.chdir('../../')\n",
    "print(\"Current working directory is now: \", os.getcwd())\n",
    "\n",
    "import pandas as pd \n",
    "import numpy as np\n",
    "import csv\n",
    "\n",
    "import KY_utils.KY_interpretable_functions as interpret\n",
    "import KY_utils.KY_RiskSLIM as slim\n",
    "import KY_utils.KY_stumps as stumps\n",
    "import KY_utils.KY_Corel as Corel\n",
    "\n",
    "# restore saved variables\n",
    "%store -r summary_property6_ky_inter_model"
   ]
  },
  {
   "cell_type": "markdown",
   "metadata": {},
   "source": [
    "### EBM & CART"
   ]
  },
  {
   "cell_type": "code",
   "execution_count": 2,
   "metadata": {},
   "outputs": [],
   "source": [
    "KY_data = pd.read_csv(\"~/Documents/Duke/Cynthia Research/psa-analysis - test/kentucky/models/ky_fl_combined/data preparation/KY_cleaned\")\n",
    "FL_data = pd.read_csv(\"~/Documents/Duke/Cynthia Research/psa-analysis - test/kentucky/models/ky_fl_combined/data preparation/FL_cleaned\")\n",
    "\n",
    "## split x and y \n",
    "KY_X = KY_data.loc[:,:'current_violence']\n",
    "KY_Y = KY_data['recid_property_six_month'].values\n",
    "FL_X = FL_data.loc[:,:'current_violence']\n",
    "FL_Y = FL_data['recid_property_six_month'].values"
   ]
  },
  {
   "cell_type": "code",
   "execution_count": 3,
   "metadata": {},
   "outputs": [],
   "source": [
    "#### CART\n",
    "depth = [4,5]\n",
    "cart_summary = advance.CART(KY_X, KY_Y, FL_X, FL_Y, depth, seed=816)\n",
    "\n",
    "### EBM\n",
    "estimators = [20]\n",
    "depth = [2]\n",
    "learning_rate = [0.5]\n",
    "ebm_summary = advance.EBM(KY_X, KY_Y, FL_X, FL_Y, learning_rate, depth, estimators, seed=816)"
   ]
  },
  {
   "cell_type": "code",
   "execution_count": 4,
   "metadata": {},
   "outputs": [
    {
     "data": {
      "text/plain": [
       "({'best_auc': 0.8177417291332514,\n",
       "  'auc_diff': 0.011805015643108319,\n",
       "  'best_param': {'max_depth': 4},\n",
       "  'FL_score': 0.6258411769880365},\n",
       " {'best_auc': 0.8326026655722354,\n",
       "  'auc_diff': 0.024666357228204205,\n",
       "  'best_param': {'learning_rate': 0.5,\n",
       "   'max_tree_splits': 2,\n",
       "   'n_estimators': 20},\n",
       "  'FL_score': 0.5040711866643208})"
      ]
     },
     "execution_count": 4,
     "metadata": {},
     "output_type": "execute_result"
    }
   ],
   "source": [
    "cart_summary,  ebm_summary"
   ]
  },
  {
   "cell_type": "markdown",
   "metadata": {},
   "source": [
    "### Lasso Stumps"
   ]
  },
  {
   "cell_type": "code",
   "execution_count": 7,
   "metadata": {},
   "outputs": [],
   "source": [
    "KY_stumps = pd.read_csv(\"~/Documents/Duke/Cynthia Research/psa-analysis - test/kentucky/models/ky_fl_combined/data preparation/KY_stumps\")\n",
    "FL_stumps = pd.read_csv(\"~/Documents/Duke/Cynthia Research/psa-analysis - test/kentucky/models/ky_fl_combined/data preparation/FL_stumps\")\n",
    "\n",
    "## split x and y \n",
    "KY_X = KY_stumps.loc[:,:'current_violence>=1']\n",
    "KY_Y = KY_stumps['recid_property_six_month'].values\n",
    "FL_X = FL_stumps.loc[:,:'current_violence>=1']\n",
    "FL_Y = FL_stumps['recid_property_six_month'].values\n",
    "\n",
    "## columns \n",
    "cols = KY_X.columns"
   ]
  },
  {
   "cell_type": "code",
   "execution_count": 8,
   "metadata": {},
   "outputs": [],
   "source": [
    "c_grid = {'C':[0.03, 0.05, 0.07]}\n",
    "stumps_summary = stumps.stump_cv(KY_X, KY_Y, FL_X, FL_Y, cols, c_grid, seed=816)"
   ]
  },
  {
   "cell_type": "code",
   "execution_count": 9,
   "metadata": {},
   "outputs": [
    {
     "data": {
      "text/plain": [
       "{'best_auc': 0.8385703643892033,\n",
       " 'best_params': {'C': 0.03},\n",
       " 'auc_diffs': 0.026543810657584377,\n",
       " 'FL_score': 0.6626935256861366}"
      ]
     },
     "execution_count": 9,
     "metadata": {},
     "output_type": "execute_result"
    }
   ],
   "source": [
    "stumps_summary"
   ]
  },
  {
   "cell_type": "markdown",
   "metadata": {},
   "source": [
    "### RiskSLIM"
   ]
  },
  {
   "cell_type": "code",
   "execution_count": 14,
   "metadata": {},
   "outputs": [
    {
     "data": {
      "text/plain": [
       "67"
      ]
     },
     "execution_count": 14,
     "metadata": {},
     "output_type": "execute_result"
    }
   ],
   "source": [
    "## train on best param chosen by Lasso Stumps from above\n",
    "lasso = LogisticRegression(class_weight='balanced', solver='liblinear', penalty='l1', C=0.03, random_state=816).fit(KY_X, KY_Y)\n",
    "selected_features = cols[lasso.coef_[0] != 0].tolist()\n",
    "len(selected_features)"
   ]
  },
  {
   "cell_type": "code",
   "execution_count": 15,
   "metadata": {},
   "outputs": [],
   "source": [
    "### Subset features\n",
    "sub_FL_X = FL_stumps.loc[:, selected_features]\n",
    "sub_KY_X = KY_stumps.loc[:, selected_features]\n",
    "sub_KY_X.insert(0, '(Intercept)', 1)"
   ]
  },
  {
   "cell_type": "code",
   "execution_count": 16,
   "metadata": {
    "scrolled": true
   },
   "outputs": [
    {
     "name": "stdout",
     "output_type": "stream",
     "text": [
      "setting c0 = 0.0 to ensure that intercept is not penalized\n",
      "09/17/19 @ 09:31 PM | 2781 rows in lookup table\n",
      "09/17/19 @ 09:31 PM | ------------------------------------------------------------\n",
      "09/17/19 @ 09:31 PM | runnning initialization procedure\n",
      "09/17/19 @ 09:31 PM | ------------------------------------------------------------\n",
      "09/17/19 @ 09:31 PM | CPA produced 2 cuts\n",
      "09/17/19 @ 09:31 PM | running naive rounding on 164 solutions\n",
      "09/17/19 @ 09:31 PM | best objective value: 0.0319\n",
      "09/17/19 @ 09:31 PM | rounding produced 5 integer solutions\n",
      "09/17/19 @ 09:31 PM | best objective value is 0.0354\n",
      "09/17/19 @ 09:31 PM | running sequential rounding on 164 solutions\n",
      "09/17/19 @ 09:31 PM | best objective value: 0.0319\n",
      "09/17/19 @ 09:31 PM | sequential rounding produced 3 integer solutions\n",
      "09/17/19 @ 09:31 PM | best objective value: 0.0352\n",
      "09/17/19 @ 09:31 PM | polishing 8 solutions\n",
      "09/17/19 @ 09:31 PM | best objective value: 0.0352\n",
      "09/17/19 @ 09:31 PM | polishing produced 3 integer solutions\n",
      "09/17/19 @ 09:31 PM | initialization produced 9 feasible solutions\n",
      "09/17/19 @ 09:31 PM | best objective value: 0.0341\n",
      "09/17/19 @ 09:31 PM | ------------------------------------------------------------\n",
      "09/17/19 @ 09:31 PM | completed initialization procedure\n",
      "09/17/19 @ 09:31 PM | ------------------------------------------------------------\n",
      "09/17/19 @ 09:32 PM | 2781 rows in lookup table\n",
      "CPXPARAM_Read_DataCheck                          1\n",
      "CPXPARAM_Threads                                 1\n",
      "CPXPARAM_Parallel                                1\n",
      "CPXPARAM_RandomSeed                              0\n",
      "CPXPARAM_TimeLimit                               400\n",
      "CPXPARAM_MIP_Tolerances_LowerCutoff              0.031735509346652126\n",
      "CPXPARAM_MIP_Tolerances_UpperCutoff              0.034084873162460741\n"
     ]
    },
    {
     "name": "stderr",
     "output_type": "stream",
     "text": [
      "Warning: Control callbacks may disable some MIP features.\n"
     ]
    },
    {
     "name": "stdout",
     "output_type": "stream",
     "text": [
      "Lazy constraint(s) or lazy constraint callback is present.\n",
      "    Disabling dual reductions (CPX_PARAM_REDUCE) in presolve.\n",
      "    Disabling non-linear reductions (CPX_PARAM_PRELINEAR) in presolve.\n",
      "         Disabling repeat represolve because of lazy constraint/incumbent callback.\n",
      "09/17/19 @ 09:32 PM | adding 258 initial cuts\n",
      "1 of 1 MIP starts provided solutions.\n",
      "MIP start 'mip_start_0' defined initial solution with objective 0.0341.\n",
      "Tried aggregator 1 time.\n",
      "Reduced MIP has 69 rows, 138 columns, and 271 nonzeros.\n",
      "Reduced MIP has 67 binaries, 69 generals, 0 SOSs, and 0 indicators.\n",
      "Presolve time = 0.00 sec. (0.16 ticks)\n",
      "Probing time = 0.00 sec. (0.07 ticks)\n",
      "MIP emphasis: balance optimality and feasibility.\n",
      "MIP search method: traditional branch-and-cut.\n",
      "Parallel mode: none, using 1 thread.\n",
      "Root relaxation solution time = 0.00 sec. (0.09 ticks)\n",
      "\n",
      "        Nodes                                         Cuts/\n",
      "   Node  Left     Objective  IInf  Best Integer    Best Bound    ItCnt     Gap         Variable B NodeID Parent  Depth\n",
      "\n",
      "*     0+    0                            0.0341        0.0217            36.23%\n",
      "      0     0        0.0317     1        0.0341        0.0317        1    6.89%\n",
      "      0     2        0.0317     5        0.0341        0.0317        1    6.89%                        0             0\n",
      "Elapsed time = 0.20 sec. (3.62 ticks, tree = 0.01 MB, solutions = 1)\n",
      "   2136   901        0.0317     9        0.0341        0.0317    11252    6.89%         L0_norm U   2136   2134     12\n",
      "   4359  2026        0.0333    10        0.0341        0.0317    21797    6.89%           rho_4 D   4359   4357     36\n",
      "   6142  2753        0.0317    15        0.0341        0.0317    30709    6.89%         L0_norm U   6142   1724      8\n",
      "   7806  3436        0.0317    10        0.0341        0.0317    39376    6.89%          rho_33 U   7806   7805     16\n",
      "   9443  4265        0.0317    13        0.0341        0.0317    48156    6.89%          rho_22 U   9443   9033     23\n",
      "  11070  5173        0.0331    10        0.0341        0.0317    57351    6.89%         L0_norm U  11070  11069     22\n",
      "  12572  5849        0.0317     6        0.0341        0.0317    65092    6.89%          rho_39 U  12572  12448     13\n",
      "  14159  6506        0.0318    17        0.0341        0.0317    73715    6.89%          rho_62 U  14159  14158     22\n",
      "  15670  7106        0.0321    18        0.0341        0.0317    81425    6.89%          rho_13 D  15670  15669     54\n",
      "  22437 10126        0.0325    15        0.0341        0.0317   114378    6.89%          rho_15 D  22437  22434     40\n",
      "Elapsed time = 4.33 sec. (3104.14 ticks, tree = 3.60 MB, solutions = 1)\n",
      "  28939 12820        cutoff              0.0341        0.0317   146615    6.89%         L0_norm D  28939  28816     32\n",
      "  35157 15453        cutoff              0.0341        0.0317   177323    6.89%          rho_37 U  35157  35156     77\n",
      "  41046 17590        0.0332    17        0.0341        0.0317   206929    6.89%          rho_28 D  41046  41045     60\n",
      "  46589 20000        0.0331    11        0.0341        0.0317   237941    6.89%          rho_23 D  46589  46587     59\n",
      "  52112 22546        0.0336    13        0.0341        0.0317   268704    6.89%          rho_25 D  52112  52110     67\n",
      "  57902 24971        0.0323    18        0.0341        0.0317   298550    6.89%          rho_41 N  57902  57899     68\n",
      "  63480 27149        0.0333    15        0.0341        0.0317   327936    6.89%          rho_25 D  63480  63479     52\n",
      "  68897 29690        0.0320    15        0.0341        0.0317   358483    6.89%           rho_3 D  68897  68894     47\n",
      "  74415 32141        0.0325    18        0.0341        0.0317   387257    6.89%          rho_50 D  74415  74414     52\n",
      "  80372 34723        cutoff              0.0341        0.0317   415793    6.89%          rho_28 U  80372  80371     66\n",
      "Elapsed time = 14.78 sec. (12641.52 ticks, tree = 12.94 MB, solutions = 1)\n",
      "  86194 37394        0.0325    12        0.0341        0.0317   444475    6.89%          rho_56 D  86194  86193     63\n",
      "  91824 39710        0.0334    17        0.0341        0.0317   472499    6.89%          rho_15 U  91824  91821     41\n",
      "  97686 42308        cutoff              0.0341        0.0317   500429    6.89%           rho_7 U  97686  97684     47\n",
      " 102874 44614        0.0335    13        0.0341        0.0317   528835    6.89%          rho_55 D 102874 102873     37\n",
      " 108264 46703        0.0318    20        0.0341        0.0317   556605    6.89%           rho_3 D 108264 108262     41\n",
      " 113799 48937        0.0326    14        0.0341        0.0317   584833    6.89%           rho_5 U 113799 113321     43\n",
      " 119384 51291        0.0333    18        0.0341        0.0317   612026    6.89%          rho_13 D 119384 119382     48\n",
      " 124994 53771        0.0325    14        0.0341        0.0317   639940    6.89%           rho_0 U 124994 124993     23\n",
      " 130459 56022        0.0319    16        0.0341        0.0317   667375    6.89%           rho_1 D 130459 130457     27\n",
      " 136023 58365        0.0324    19        0.0341        0.0317   693888    6.89%          rho_20 D 136023 136021     61\n",
      "Elapsed time = 24.94 sec. (22179.54 ticks, tree = 20.01 MB, solutions = 1)\n",
      " 141800 60842        0.0334    16        0.0341        0.0317   722248    6.89%        alpha_12 D 141800 141799     68\n",
      " 147090 62882        0.0329    15        0.0341        0.0317   748569    6.89%          rho_40 N 147090 147088     31\n",
      " 152845 65456        0.0321    12        0.0341        0.0317   776305    6.89%          rho_55 U 152845 110215     32\n",
      " 158755 67881        0.0333    14        0.0341        0.0317   804137    6.89%          rho_62 D 158755 158753     48\n",
      " 164297 70346        0.0323    15        0.0341        0.0317   831487    6.89%          rho_25 D 164297 164295     56\n",
      " 169519 72631        0.0330    11        0.0341        0.0317   860227    6.89%          rho_43 U 169519  61814     27\n",
      " 174582 74656        0.0334    10        0.0341        0.0317   888475    6.89%          rho_14 U 174582 174579     46\n",
      " 180001 76991        0.0336     9        0.0341        0.0317   915514    6.89%          rho_13 U 180001 180000     48\n",
      " 185239 79170        0.0323    16        0.0341        0.0317   941475    6.89%           rho_0 D 185239 185238     58\n",
      " 190638 81416        cutoff              0.0341        0.0317   967953    6.89%          rho_23 U 190638 190546     60\n",
      "Elapsed time = 34.27 sec. (31718.87 ticks, tree = 29.77 MB, solutions = 1)\n",
      " 196312 83769        0.0325    23        0.0341        0.0317   994969    6.89%          rho_13 D 196312 196310     60\n",
      " 201706 86145        0.0338    18        0.0341        0.0317  1021103    6.89%          rho_15 N 201706 201704     55\n",
      " 207310 88716        0.0334    11        0.0341        0.0317  1048652    6.89%          rho_22 U 207310 207309     50\n",
      " 213024 90852        0.0318    16        0.0341        0.0317  1075421    6.89%          rho_62 U 213024 213023     33\n",
      " 218286 93194        cutoff              0.0341        0.0317  1102765    6.89%        alpha_55 D 218286 218285     79\n",
      " 223645 95814        0.0328    16        0.0341        0.0317  1130298    6.89%          rho_29 D 223645 223643     70\n",
      " 229280 98157        0.0319    18        0.0341        0.0317  1156445    6.89%          rho_56 D 229280 229278     64\n",
      " 235028 100432        0.0331    16        0.0341        0.0317  1182323    6.89%          rho_40 U 235028 235026     42\n",
      " 240134 102474        0.0334    15        0.0341        0.0317  1208981    6.89%          rho_15 D 240134 240132     36\n",
      " 245136 104587        cutoff              0.0341        0.0317  1236534    6.89%          rho_61 D 245136 245134     28\n",
      "Elapsed time = 43.77 sec. (41257.27 ticks, tree = 36.79 MB, solutions = 1)\n",
      " 250680 106869        0.0328    17        0.0341        0.0317  1262450    6.89%          rho_16 D 250680 250678     80\n",
      " 256160 108850        0.0336    15        0.0341        0.0317  1286186    6.89%          rho_50 D 256160 256158     68\n",
      " 261370 111072        cutoff              0.0341        0.0317  1313371    6.89%           rho_7 U 261370 261369     49\n",
      " 266466 113225        0.0331    10        0.0341        0.0317  1341369    6.89%          rho_18 U 266466 266465     82\n",
      " 271575 115643        cutoff              0.0341        0.0317  1369525    6.89%          rho_43 D 271575 271573     94\n",
      " 276323 117948        0.0326    17        0.0341        0.0317  1398576    6.89%          rho_43 D 276323 276321     89\n",
      " 281277 120021        0.0324    17        0.0341        0.0317  1426647    6.89%          rho_65 D 281277 281276     49\n",
      " 287576 122037        0.0326    14        0.0341        0.0317  1451095    6.89%          rho_25 D 287576 287574     66\n",
      " 292090 124017        0.0338    12        0.0341        0.0317  1485201    6.89%          rho_17 U 292090 292089     41\n",
      " 297495 126180        0.0321    15        0.0341        0.0317  1510824    6.89%          rho_27 D 297495 297494     73\n",
      "Elapsed time = 54.48 sec. (50795.33 ticks, tree = 43.39 MB, solutions = 1)\n",
      " 303007 128474        0.0337    12        0.0341        0.0317  1536683    6.89%          rho_28 N 303007 303006     68\n",
      " 308373 130747        0.0323    13        0.0341        0.0317  1563342    6.89%          rho_23 D 308373 308372     65\n",
      " 313676 132859        cutoff              0.0341        0.0317  1591419    6.89%         L0_norm D 313676 313675     45\n",
      " 319332 134938        0.0320    18        0.0341        0.0317  1616958    6.89%          rho_11 D 319332 319330     58\n",
      " 324800 137028        0.0327    13        0.0341        0.0317  1643175    6.89%          rho_43 U 324800 324721     34\n",
      " 330043 139122        0.0338    11        0.0341        0.0317  1669825    6.89%          rho_22 U 330043 330042     50\n",
      " 335094 140899        0.0322    18        0.0341        0.0317  1695400    6.89%           rho_3 U 335094 192399     28\n",
      " 340439 143060        cutoff              0.0341        0.0317  1721819    6.89%          rho_39 U 340439 340438     34\n",
      " 345507 144800        0.0333    20        0.0341        0.0317  1747919    6.89%          rho_55 U 345507 345506     44\n",
      " 350609 146749        cutoff              0.0341        0.0317  1773786    6.89%           rho_9 D 350609 350607     69\n",
      "Elapsed time = 64.98 sec. (60336.14 ticks, tree = 52.60 MB, solutions = 1)\n",
      " 355588 148964        0.0335    15        0.0341        0.0317  1800963    6.89%           rho_0 D 355588 355587     44\n",
      " 360536 150866        0.0324    16        0.0341        0.0317  1826332    6.89%          rho_27 D 360536 360534     69\n",
      " 365868 152752        0.0321    16        0.0341        0.0317  1850340    6.89%           rho_0 U 365868 365867     53\n",
      " 371009 154811        0.0317    22        0.0341        0.0317  1876504    6.89%           rho_0 U 371009 371008     40\n",
      " 375859 156955        0.0322    22        0.0341        0.0317  1904382    6.89%         L0_norm U 375859 375857     20\n",
      " 381527 158995        0.0327    15        0.0341        0.0317  1929581    6.89%           rho_3 D 381527 381525     56\n",
      " 387591 161110        0.0331    11        0.0341        0.0317  1953823    6.89%        alpha_57 U 387591 387589     65\n",
      " 393231 163335        0.0341    16        0.0341        0.0317  1978636    6.89%         L0_norm U 393231 393230     59\n",
      " 398621 165390        cutoff              0.0341        0.0317  2003764    6.89%          rho_47 U 398621 398620     52\n",
      " 403793 167355        0.0329    12        0.0341        0.0317  2029937    6.89%          rho_47 U 403793  83915     34\n",
      "Elapsed time = 75.84 sec. (69874.11 ticks, tree = 60.59 MB, solutions = 1)\n",
      " 408670 169256        0.0337    13        0.0341        0.0317  2055294    6.89%          rho_47 U 408670 408669     56\n",
      " 413484 170867        0.0329    22        0.0341        0.0317  2080886    6.89%          rho_57 U 413484 259146     21\n",
      " 418469 172852        cutoff              0.0341        0.0317  2106179    6.89%          rho_16 U 418469 418467     59\n",
      " 423144 174640        0.0334    14        0.0341        0.0317  2132411    6.89%          rho_66 U 423144 423143     72\n",
      " 428081 176491        0.0321    12        0.0341        0.0317  2158022    6.89%          rho_61 U 428081 428080     21\n",
      " 433193 178657        0.0335    15        0.0341        0.0317  2183504    6.89%          rho_65 D 433193 433191     72\n",
      " 438340 180893        0.0333    15        0.0341        0.0317  2211170    6.89%          rho_64 U 438340 438339     65\n",
      " 443484 182940        0.0332    15        0.0341        0.0317  2235672    6.89%          rho_43 N 443484 443482     58\n",
      " 448708 184813        cutoff              0.0341        0.0317  2260673    6.89%          rho_17 U 448708 448238     64\n",
      " 453589 186430        0.0329    13        0.0341        0.0317  2284224    6.89%          rho_66 N 453589 453587     96\n",
      "Elapsed time = 84.94 sec. (79412.94 ticks, tree = 66.44 MB, solutions = 1)\n",
      " 458519 188500        0.0330    18        0.0341        0.0317  2310500    6.89%          rho_43 D 458519 458517     64\n",
      " 463066 190418        0.0318    19        0.0341        0.0317  2336349    6.89%           rho_0 U 463066 463065     54\n",
      " 467745 192149        0.0334    16        0.0341        0.0317  2360396    6.89%          rho_62 U 467745 467744     43\n",
      " 472490 193990        0.0330    22        0.0341        0.0317  2385577    6.89%           rho_3 U 472490 472488     45\n",
      " 477279 195911        0.0335    15        0.0341        0.0317  2410764    6.89%          rho_29 D 477279 477278     49\n",
      " 482501 197815        0.0317    21        0.0341        0.0317  2435060    6.89%           rho_0 D 482501 482430     31\n",
      " 487435 199764        cutoff              0.0341        0.0317  2458675    6.89%          rho_24 U 487435 487433     55\n",
      " 491956 201519        cutoff              0.0341        0.0317  2483407    6.89%          rho_15 U 491956 491955     37\n",
      " 496927 203413        0.0324    15        0.0341        0.0317  2505599    6.89%          rho_66 D 496927 496925     77\n",
      " 517178 210799        0.0319    23        0.0341        0.0317  2601680    6.89%         L0_norm U 517178 264485     32\n",
      "Elapsed time = 97.28 sec. (91811.88 ticks, tree = 75.94 MB, solutions = 1)\n",
      " 536550 218359        0.0324    21        0.0341        0.0317  2698702    6.89%          rho_29 D 536550 536549     79\n",
      " 556197 225797        0.0335    16        0.0341        0.0317  2789613    6.89%           rho_3 N 556197 556196     53\n",
      " 574950 233412        cutoff              0.0341        0.0317  2882976    6.89%          rho_50 U 574950 574949     39\n",
      " 593248 241030        0.0317    19        0.0341        0.0317  2976795    6.89%          rho_57 D 593248 593247     28\n",
      " 609753 247696        0.0320    21        0.0341        0.0317  3072539    6.89%          rho_23 D 609753 609751     58\n",
      " 628501 255175        0.0327    14        0.0341        0.0317  3167012    6.89%          rho_17 D 628501 628499     69\n",
      " 648642 261451        0.0336    15        0.0341        0.0318  3252425    6.85%          rho_22 N 648642 208845     60\n",
      " 668403 267617        0.0334    24        0.0341        0.0318  3338528    6.82%          rho_43 U 668403 668402     47\n",
      " 688210 273379        cutoff              0.0341        0.0318  3426457    6.78%         alpha_1 U 688210 688208     85\n",
      " 707756 279064        0.0318    20        0.0341        0.0318  3515042    6.74%          rho_12 D 707756 707753     51\n",
      "Elapsed time = 133.92 sec. (129960.96 ticks, tree = 102.16 MB, solutions = 1)\n",
      " 726911 284244        0.0324    21        0.0341        0.0318  3602690    6.70%          rho_34 U 726911 620030     80\n",
      " 746130 289628        0.0330    13        0.0341        0.0318  3689912    6.67%          rho_41 N 746130 746128     74\n",
      " 764822 294249        0.0336    17        0.0341        0.0318  3776067    6.63%          rho_55 D 764822 764820     69\n",
      " 783583 299331        0.0330    14        0.0341        0.0318  3861334    6.59%          rho_66 D 783583 783582     82\n",
      " 800850 303547        0.0322    23        0.0341        0.0319  3951361    6.55%          rho_55 U 800850 640303     38\n",
      " 818106 307344        0.0335    18        0.0341        0.0319  4039090    6.51%          rho_39 D 818106 818104     54\n",
      " 835293 311153        0.0333    19        0.0341        0.0319  4124330    6.46%          rho_25 U 835293 835292     63\n",
      " 852512 314524        cutoff              0.0341        0.0319  4208747    6.42%          rho_57 U 852512 852510     62\n",
      " 869463 318656        0.0326    15        0.0341        0.0319  4298810    6.37%          rho_61 D 869463 869461     30\n",
      " 886698 322169        cutoff              0.0341        0.0319  4384330    6.32%          rho_22 U 886698 886697     62\n",
      "Elapsed time = 168.28 sec. (168109.61 ticks, tree = 115.41 MB, solutions = 1)\n",
      " 903963 325842        0.0332    18        0.0341        0.0319  4471361    6.28%          rho_56 U 903963  32392     41\n",
      " 921119 329750        0.0325    19        0.0341        0.0320  4559128    6.23%          rho_10 U 921119 850313     51\n",
      " 938293 333310        cutoff              0.0341        0.0320  4642892    6.19%          rho_26 U 938293 338225     59\n",
      " 954870 336887        0.0332    21        0.0341        0.0320  4726277    6.15%           rho_0 U 954870 954869     60\n",
      " 971936 340551        0.0335    21        0.0341        0.0320  4805121    6.11%          rho_47 D 971936 971934     45\n",
      " 988833 344314        0.0322    17        0.0341        0.0320  4886538    6.07%          rho_14 D 988833 988831     45\n",
      " 1005577 347613        0.0329    22        0.0341        0.0320  4968200    6.03%          rho_26 D 1005577 1005575     46\n",
      " 1022611 351240        0.0325    22        0.0341        0.0320  5049505    5.99%          rho_12 D 1022611 216131     42\n",
      " 1039460 354966        0.0327    13        0.0341        0.0321  5131341    5.96%          rho_44 D 1039460 897512     39\n",
      " 1056034 359050        0.0335    13        0.0341        0.0321  5215060    5.92%          rho_55 D 1056034 1056033     50\n",
      "Elapsed time = 204.44 sec. (206258.09 ticks, tree = 130.27 MB, solutions = 1)\n",
      " 1072716 362933        0.0323    17        0.0341        0.0321  5298948    5.88%          rho_47 D 1072716 1072714     28\n",
      " 1089793 366919        cutoff              0.0341        0.0321  5381345    5.84%          rho_56 N 1089793 1089791     64\n",
      " 1106729 371284        0.0330    20        0.0341        0.0321  5465490    5.81%          rho_14 D 1106729 1106728     74\n",
      " 1123618 374900        cutoff              0.0341        0.0321  5545853    5.78%          rho_64 U 1123618 888170     59\n",
      " 1140570 379253        0.0335    15        0.0341        0.0321  5630704    5.75%          rho_55 D 1140570 1140568     43\n",
      " 1157635 383341        0.0334    14        0.0341        0.0321  5713878    5.72%          rho_50 D 1157635 1157634     33\n",
      " 1174354 387158        0.0340    17        0.0341        0.0321  5796369    5.69%          rho_44 U 1174354 1174353     44\n",
      " 1191522 391269        0.0331    12        0.0341        0.0322  5878228    5.66%           rho_3 U 1191522 1191520     30\n",
      " 1208552 395532        0.0324    19        0.0341        0.0322  5960869    5.64%          rho_29 D 1208552 1208551     74\n",
      " 1225237 399357        0.0322    14        0.0341        0.0322  6043215    5.61%           rho_0 N 1225237 1071461     36\n",
      "Elapsed time = 239.98 sec. (244407.77 ticks, tree = 146.88 MB, solutions = 1)\n",
      " 1241835 403055        0.0322    22        0.0341        0.0322  6124563    5.58%          rho_56 D 1241835 1241833     57\n",
      " 1258709 406487        0.0331    19        0.0341        0.0322  6205133    5.55%          rho_25 D 1258709 1258707     64\n",
      " 1275323 409857        0.0334    14        0.0341        0.0322  6283746    5.52%          rho_25 N 1275323 1275322     66\n",
      " 1292357 413530        cutoff              0.0341        0.0322  6362043    5.50%          rho_25 D 1292357 1292355     58\n",
      " 1309368 417471        0.0334    13        0.0341        0.0322  6442185    5.47%          rho_25 D 1309368 1309366     42\n",
      " 1326757 421202        0.0334    22        0.0341        0.0322  6521026    5.45%          rho_57 N 1326757 1326756     53\n",
      " 1343697 424746        0.0331    23        0.0341        0.0322  6601199    5.42%          rho_50 N 1343697 1343696     23\n",
      " 1360726 428823        cutoff              0.0341        0.0322  6681954    5.40%          rho_15 U 1360726 463302     35\n",
      " 1377747 432599        cutoff              0.0341        0.0323  6762990    5.38%          rho_20 N 1377747 1112250     58\n",
      " 1394668 436614        0.0334    18        0.0341        0.0323  6843485    5.35%          rho_24 U 1394668 1394667     64\n",
      "Elapsed time = 275.75 sec. (282557.56 ticks, tree = 158.31 MB, solutions = 1)\n",
      " 1411722 440790        0.0334    17        0.0341        0.0323  6924482    5.33%         L0_norm U 1411722 1411720     64\n",
      " 1428917 444514        0.0334    16        0.0341        0.0323  7004314    5.31%           rho_1 D 1428917 1428915     37\n",
      " 1445845 448365        0.0324    17        0.0341        0.0323  7087031    5.29%         L0_norm D 1445845 562871     43\n",
      " 1462734 452614        0.0331    26        0.0341        0.0323  7170524    5.27%          rho_57 D 1462734 1462732     60\n",
      " 1479320 456356        0.0325    22        0.0341        0.0323  7255553    5.25%           rho_0 D 1479320 408384     51\n",
      " 1495996 460206        0.0334    20        0.0341        0.0323  7340564    5.23%          rho_55 D 1495996 1495995     43\n",
      " 1512717 464355        0.0323    20        0.0341        0.0323  7425053    5.21%           rho_0 D 1512717 1196166     64\n",
      " 1529430 468539        0.0338    13        0.0341        0.0323  7510577    5.19%          rho_43 N 1529430 585120     44\n",
      " 1545796 472302        cutoff              0.0341        0.0323  7594798    5.17%          rho_10 U 1545796 1545795     53\n",
      " 1562714 476203        0.0323    19        0.0341        0.0323  7678101    5.15%          rho_35 D 1562714 1562713     68\n",
      "Elapsed time = 303.25 sec. (320706.00 ticks, tree = 175.52 MB, solutions = 1)\n",
      " 1579459 480265        0.0330    22        0.0341        0.0323  7763914    5.14%          rho_13 U 1579459 1579456     51\n",
      " 1596265 484179        0.0334     8        0.0341        0.0323  7848144    5.12%          rho_50 D 1596265 1596263     39\n",
      " 1613006 487996        cutoff              0.0341        0.0323  7933097    5.10%          rho_44 D 1613006 1613004     44\n",
      " 1629948 492021        0.0330    15        0.0341        0.0324  8015992    5.08%           rho_3 U 1629948 1607881     45\n",
      " 1647241 496244        0.0328    19        0.0341        0.0324  8097567    5.07%          rho_50 D 1647241 1647239     71\n",
      " 1664024 500158        0.0334    12        0.0341        0.0324  8179474    5.05%          rho_17 D 1664024 1664023     80\n",
      " 1680594 503922        cutoff              0.0341        0.0324  8263589    5.03%          rho_12 U 1680594 1200836     30\n",
      " 1697153 507410        0.0331    19        0.0341        0.0324  8344431    5.02%          rho_57 N 1697153 1670684     26\n",
      " 1713949 511071        0.0328    19        0.0341        0.0324  8430701    5.00%          rho_24 U 1713949 1631971     65\n",
      " 1730820 514541        0.0331    16        0.0341        0.0324  8513877    4.98%          rho_27 D 1730820 1730819     68\n",
      "Elapsed time = 328.17 sec. (358855.85 ticks, tree = 187.29 MB, solutions = 1)\n",
      " 1747676 517841        0.0324    24        0.0341        0.0324  8598563    4.97%          rho_25 D 1747676 1747674     68\n",
      " 1764130 520999        0.0336    12        0.0341        0.0324  8682294    4.95%          rho_11 D 1764130 1764129     79\n",
      " 1781205 524545        0.0327    19        0.0341        0.0324  8763482    4.93%           rho_0 U 1781205 1781204     75\n",
      " 1798111 527807        0.0334    24        0.0341        0.0324  8845440    4.91%          rho_22 D 1798111 1798110     41\n",
      " 1815051 531506        0.0327    23        0.0341        0.0324  8927107    4.90%          rho_35 D 1815051 1815050     72\n",
      " 1832139 534762        cutoff              0.0341        0.0324  9008102    4.88%          rho_44 U 1832139 1832138     69\n",
      " 1848538 537886        0.0334    21        0.0341        0.0324  9089402    4.87%          rho_61 D 1848538 1848536     33\n",
      " 1865299 541295        0.0326    20        0.0341        0.0324  9171866    4.85%         L0_norm N 1865299 610404     55\n",
      " 1882223 544643        0.0335    17        0.0341        0.0324  9253044    4.83%          rho_19 U 1882223 1882221     75\n",
      " 1898800 547910        0.0337    10        0.0341        0.0324  9333943    4.82%          rho_55 U 1898800 1898799     45\n",
      "Elapsed time = 353.41 sec. (397004.68 ticks, tree = 197.55 MB, solutions = 1)\n",
      " 1915327 550845        0.0338    16        0.0341        0.0324  9413310    4.80%           rho_3 U 1915327 1915325     43\n",
      " 1931972 553843        0.0337    19        0.0341        0.0325  9493908    4.79%          rho_39 D 1931972 1931970     28\n",
      " 1948507 557169        0.0337    14        0.0341        0.0325  9574056    4.77%          rho_57 D 1948507 1948506     72\n",
      " 1964729 560341        0.0330    24        0.0341        0.0325  9652213    4.76%          rho_47 D 1964729 1964727     57\n",
      " 1981307 563539        0.0341    20        0.0341        0.0325  9731235    4.74%          rho_16 U 1981307  86147     63\n",
      " 1997693 566545        0.0340    14        0.0341        0.0325  9811137    4.73%          rho_15 N 1997693 1997691     40\n",
      " 2013737 569860        cutoff              0.0341        0.0325  9891246    4.71%          rho_22 U 2013737 1583444     62\n",
      " 2029938 572686        0.0327    21        0.0341        0.0325  9969798    4.70%          rho_55 N 2029938 2029936     66\n",
      " 2046016 575980        0.0327    16        0.0341        0.0325 10048263    4.68%          rho_21 D 2046016 2046014     73\n",
      " 2062300 579539        0.0325    16        0.0341        0.0325 10126025    4.67%          rho_43 D 2062300 1286066     49\n",
      "Elapsed time = 382.34 sec. (435154.22 ticks, tree = 213.39 MB, solutions = 1)\n",
      " 2078667 582868        0.0333    27        0.0341        0.0325 10204682    4.66%           rho_3 N 2078667 898328     51\n",
      " 2094817 586358        0.0334     8        0.0341        0.0325 10284547    4.64%          rho_28 U 2094817 2057460     70\n",
      " 2111028 589417        0.0331    16        0.0341        0.0325 10361711    4.63%           rho_9 D 2111028 2111027     73\n",
      " 2127220 592643        cutoff              0.0341        0.0325 10438380    4.62%          rho_29 U 2127220 1216463     69\n",
      " 2143311 595592        0.0334    18        0.0341        0.0325 10515056    4.60%          rho_62 U 2143311 1477747     31\n",
      "\n",
      "User cuts applied:  106\n",
      "\n",
      "Root node processing (before b&c):\n",
      "  Real time             =    0.19 sec. (3.64 ticks)\n",
      "Sequential b&c:\n",
      "  Real time             =  399.83 sec. (458362.44 ticks)\n",
      "                          ------------\n",
      "Total (root+branch&cut) =  400.02 sec. (458366.08 ticks)\n",
      "+----------------------------------------------+------------------+-----------+\n",
      "| Pr(Y = +1) = 1.0/(1.0 + exp(-(-6 + score))   |                  |           |\n",
      "| ============================================ | ================ | ========= |\n",
      "| p_property>=1                                |         3 points |   + ..... |\n",
      "| ============================================ | ================ | ========= |\n",
      "| ADD POINTS FROM ROWS 1 to 1                  |            SCORE |   = ..... |\n",
      "+----------------------------------------------+------------------+-----------+\n"
     ]
    }
   ],
   "source": [
    "riskslim_summary = slim.risk_cv(sub_KY_X, KY_Y, sub_FL_X, FL_Y, \n",
    "                                y_label = 'general2', \n",
    "                                max_coef = 20, \n",
    "                                max_coef_number = 10, \n",
    "                                max_runtime=400, \n",
    "                                c=1e-3, \n",
    "                                seed=816)"
   ]
  },
  {
   "cell_type": "code",
   "execution_count": 17,
   "metadata": {},
   "outputs": [
    {
     "data": {
      "text/plain": [
       "{'FL_Score': 0.6395254222378607}"
      ]
     },
     "execution_count": 17,
     "metadata": {},
     "output_type": "execute_result"
    }
   ],
   "source": [
    "riskslim_summary"
   ]
  },
  {
   "cell_type": "markdown",
   "metadata": {},
   "source": [
    "### Corel"
   ]
  },
  {
   "cell_type": "code",
   "execution_count": 2,
   "metadata": {},
   "outputs": [],
   "source": [
    "KY_stumps = pd.read_csv(\"~/Documents/Duke/Cynthia Research/psa-analysis - test/kentucky/models/ky_fl_combined/data preparation/KY_stumps\")\n",
    "FL_stumps = pd.read_csv(\"~/Documents/Duke/Cynthia Research/psa-analysis - test/kentucky/models/ky_fl_combined/data preparation/FL_stumps\")\n",
    "\n",
    "## split x and y \n",
    "KY_X = KY_stumps.loc[:,:'current_violence>=1']\n",
    "KY_Y = KY_stumps['recid_property_six_month'].values\n",
    "FL_X = FL_stumps.loc[:,:'current_violence>=1']\n",
    "FL_Y = FL_stumps['recid_property_six_month'].values"
   ]
  },
  {
   "cell_type": "code",
   "execution_count": 3,
   "metadata": {},
   "outputs": [],
   "source": [
    "KY_score, FL_score = Corel.corel_cv(KY_X, KY_Y, FL_X, FL_Y, max_card=2, c=1e-3, seed=816)"
   ]
  },
  {
   "cell_type": "code",
   "execution_count": 17,
   "metadata": {},
   "outputs": [
    {
     "name": "stdout",
     "output_type": "stream",
     "text": [
      "Stored 'summary_general2_ky_inter_model' (dict)\n"
     ]
    }
   ],
   "source": [
    "#### save results\n",
    "summary_property6_ky_inter_model = {\"CART\": cart_summary,\n",
    "                                   \"EBM\": ebm_summary,\n",
    "                                   \"Stumps\": stumps_summary,\n",
    "                                   \"RiskSLIM\": riskslim_summary, \n",
    "                                   \"Corel\": FL_score}\n",
    "%store summary_property6_ky_inter_model"
   ]
  },
  {
   "cell_type": "code",
   "execution_count": 20,
   "metadata": {},
   "outputs": [],
   "source": [
    "path = \"C:\\\\Users\\\\binha\\\\Documents\\\\Duke\\\\Cynthia Research\\\\KY-analysis-mytrials\\\\KY Recidivism\\\\KY Results\\\\KY_FL\\\\KY Model\\\\interpretable\\\\Six Month\\\\\"\n",
    "results = [[\"Property\",             \n",
    "            round(cart_summary['FL_score'],3), \n",
    "            round(ebm_summary['FL_score'], 3), \n",
    "            round(stumps_summary['FL_score'],3), \n",
    "            round(riskslim_summary['FL_Score'], 3), \n",
    "            round(FL_score, 3)]]\n",
    "with open(path + 'Six Month KY_inter_model.csv', 'a') as writeFile:\n",
    "    writer = csv.writer(writeFile)\n",
    "    writer.writerows(results)"
   ]
  }
 ],
 "metadata": {
  "kernelspec": {
   "display_name": "Python 3",
   "language": "python",
   "name": "python3"
  },
  "language_info": {
   "codemirror_mode": {
    "name": "ipython",
    "version": 3
   },
   "file_extension": ".py",
   "mimetype": "text/x-python",
   "name": "python",
   "nbconvert_exporter": "python",
   "pygments_lexer": "ipython3",
   "version": "3.7.4"
  }
 },
 "nbformat": 4,
 "nbformat_minor": 4
}
