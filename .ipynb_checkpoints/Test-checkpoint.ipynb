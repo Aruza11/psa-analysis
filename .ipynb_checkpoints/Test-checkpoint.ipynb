{
 "cells": [
  {
   "cell_type": "code",
   "execution_count": 1,
   "metadata": {},
   "outputs": [],
   "source": [
    "import pandas as pd \n",
    "import numpy as np\n",
    "import csv\n",
    "\n",
    "import numpy as np\n",
    "from sklearn.linear_model import LogisticRegression\n",
    "from sklearn.model_selection import KFold, GridSearchCV, train_test_split\n",
    "from sklearn.metrics import roc_auc_score"
   ]
  },
  {
   "cell_type": "code",
   "execution_count": 2,
   "metadata": {},
   "outputs": [],
   "source": [
    "### load data\n",
    "data = pd.read_csv(\"~/Documents/Duke/Cynthia Research/KY-analysis-mytrials/KY Recidivism/KY data/kentucky_data.csv\")\n",
    "data = data.drop(['PersonID', 'screening_date','fta_risk_score_raw','nca_risk_score_raw',\n",
    "                  'pvf_risk_score_raw', 'fta_calc', 'nca_calc', 'pvf_calc', 'Race'], axis=1)\n",
    "X = data.loc[:,:'current_violence'].values\n",
    "Y = data['recid_two_year'].values"
   ]
  },
  {
   "cell_type": "code",
   "execution_count": 3,
   "metadata": {},
   "outputs": [
    {
     "data": {
      "text/plain": [
       "((146003, 36), (146003,))"
      ]
     },
     "execution_count": 3,
     "metadata": {},
     "output_type": "execute_result"
    }
   ],
   "source": [
    "X.shape, Y.shape"
   ]
  },
  {
   "cell_type": "code",
   "execution_count": 4,
   "metadata": {},
   "outputs": [],
   "source": [
    "## outer loop CV setup\n",
    "train_outer = []\n",
    "test_outer = []\n",
    "outer_cv = KFold(n_splits=5, random_state=816, shuffle=True)"
   ]
  },
  {
   "cell_type": "code",
   "execution_count": 5,
   "metadata": {},
   "outputs": [],
   "source": [
    "## save index\n",
    "for train, test in outer_cv.split(X,Y):\n",
    "    train_outer.append(train)\n",
    "    test_outer.append(test)"
   ]
  },
  {
   "cell_type": "markdown",
   "metadata": {},
   "source": [
    "### Logistic Regression\n",
    "\n",
    "- automic parameter tuning"
   ]
  },
  {
   "cell_type": "code",
   "execution_count": 46,
   "metadata": {},
   "outputs": [],
   "source": [
    "## model setup\n",
    "lr = LogisticRegression(class_weight = 'balanced', solver='liblinear', random_state=816)\n",
    "inner_cv = KFold(n_splits=5,shuffle=True, random_state=816)\n",
    "#c_grid = {\"C\": [0.001, 0.01]}\n",
    "c_grid = {\"C\": [0.001, 0.01, 0.1]}"
   ]
  },
  {
   "cell_type": "code",
   "execution_count": 47,
   "metadata": {},
   "outputs": [
    {
     "name": "stdout",
     "output_type": "stream",
     "text": [
      "0\n",
      "1\n",
      "2\n",
      "3\n",
      "4\n"
     ]
    }
   ],
   "source": [
    "holdout_auc = []\n",
    "best_params = []\n",
    "index = []\n",
    "i = 0\n",
    "\n",
    "while i < len(train_outer):\n",
    "    \n",
    "    if len(c_grid['C']) == 0: \n",
    "        print (\"No parameters!\") \n",
    "        break\n",
    "        \n",
    "    print(i)\n",
    "    train_x, test_x = X[train_outer[i]], X[test_outer[i]]\n",
    "    train_y, test_y = Y[train_outer[i]], Y[test_outer[i]]\n",
    "    \n",
    "    ## GridSearch: innver CV\n",
    "    clf = GridSearchCV(estimator=lr, param_grid=c_grid, scoring='roc_auc',\n",
    "                       cv=inner_cv, return_train_score=True).fit(train_x, train_y)\n",
    "    \n",
    "    ## best parameter & scores\n",
    "    train_score = clf.cv_results_['mean_train_score']\n",
    "    test_score = clf.cv_results_['mean_test_score']\n",
    "    best_param = clf.best_params_\n",
    "    auc_diff = np.mean(train_score) - np.mean(test_score)\n",
    "    \n",
    "    ## sanity check\n",
    "    if auc_diff > 0.2: \n",
    "        i = i\n",
    "        c_grid.remove(best_param['C'])\n",
    "    else: \n",
    "        ## train model on best param\n",
    "        best_model = LogisticRegression(class_weight = 'balanced', solver='liblinear', \n",
    "                                        random_state=816, C=best_param['C']).fit(train_x, train_y)\n",
    "        prob = best_model.predict_proba(test_x)[:,1]\n",
    "        pred = best_model.predict(test_x)\n",
    "        \n",
    "        ## store results\n",
    "        holdout_auc.append(roc_auc_score(test_y, prob))\n",
    "        best_params.append(best_param)\n",
    "        index.append(i)\n",
    "        i += 1"
   ]
  },
  {
   "cell_type": "code",
   "execution_count": 48,
   "metadata": {},
   "outputs": [
    {
     "data": {
      "text/plain": [
       "[0.7235678695035542,\n",
       " 0.7268969344189598,\n",
       " 0.7275984005748546,\n",
       " 0.7267346330719366,\n",
       " 0.7264735231656887]"
      ]
     },
     "execution_count": 48,
     "metadata": {},
     "output_type": "execute_result"
    }
   ],
   "source": [
    "holdout_auc"
   ]
  },
  {
   "cell_type": "code",
   "execution_count": 49,
   "metadata": {},
   "outputs": [
    {
     "data": {
      "text/plain": [
       "[{'C': 0.1}, {'C': 0.1}, {'C': 0.1}, {'C': 0.1}, {'C': 0.1}]"
      ]
     },
     "execution_count": 49,
     "metadata": {},
     "output_type": "execute_result"
    }
   ],
   "source": [
    "best_params"
   ]
  },
  {
   "cell_type": "markdown",
   "metadata": {},
   "source": [
    "### Manually Specify Parameters"
   ]
  },
  {
   "cell_type": "code",
   "execution_count": 50,
   "metadata": {},
   "outputs": [
    {
     "name": "stdout",
     "output_type": "stream",
     "text": [
      "0\n",
      "1\n",
      "2\n",
      "3\n",
      "4\n"
     ]
    }
   ],
   "source": [
    "holdout_auc = []\n",
    "best_params = []\n",
    "auc_diff = []\n",
    "index = []\n",
    "\n",
    "for i in range(len(train_outer)):\n",
    "    print(i)\n",
    "    train_x, test_x = X[train_outer[i]], X[test_outer[i]]\n",
    "    train_y, test_y = Y[train_outer[i]], Y[test_outer[i]]\n",
    "    \n",
    "    ## GridSearch: innver CV\n",
    "    clf = GridSearchCV(estimator=lr, param_grid=c_grid, scoring='roc_auc',\n",
    "                       cv=inner_cv, return_train_score=True).fit(train_x, train_y)\n",
    "    \n",
    "    ## best parameter & scores\n",
    "    train_score = clf.cv_results_['mean_train_score']\n",
    "    test_score = clf.cv_results_['mean_test_score']\n",
    "    best_param = clf.best_params_\n",
    "    auc_diff.append(np.mean(train_score) - np.mean(test_score))\n",
    "    \n",
    "    ## train model on best param\n",
    "    best_model = LogisticRegression(class_weight = 'balanced', solver='liblinear', \n",
    "                                    random_state=816, C=best_param['C']).fit(train_x, train_y)\n",
    "    prob = best_model.predict_proba(test_x)[:,1]\n",
    "    pred = best_model.predict(test_x)\n",
    "    \n",
    "    ## store results\n",
    "    holdout_auc.append(roc_auc_score(test_y, prob))\n",
    "    best_params.append(best_param)\n",
    "    index.append(i)"
   ]
  },
  {
   "cell_type": "code",
   "execution_count": 51,
   "metadata": {},
   "outputs": [
    {
     "data": {
      "text/plain": [
       "[0.7235678695035542,\n",
       " 0.7268969344189598,\n",
       " 0.7275984005748546,\n",
       " 0.7267346330719366,\n",
       " 0.7264735231656887]"
      ]
     },
     "execution_count": 51,
     "metadata": {},
     "output_type": "execute_result"
    }
   ],
   "source": [
    "holdout_auc"
   ]
  },
  {
   "cell_type": "code",
   "execution_count": 52,
   "metadata": {},
   "outputs": [
    {
     "data": {
      "text/plain": [
       "[0.0004437469642566416,\n",
       " 0.0003579192572692458,\n",
       " 0.0004714136295144167,\n",
       " 0.0005590508592319132,\n",
       " 0.000578855086546981]"
      ]
     },
     "execution_count": 52,
     "metadata": {},
     "output_type": "execute_result"
    }
   ],
   "source": [
    "auc_diff"
   ]
  },
  {
   "cell_type": "code",
   "execution_count": 53,
   "metadata": {},
   "outputs": [
    {
     "data": {
      "text/plain": [
       "{'C': 0.1}"
      ]
     },
     "execution_count": 53,
     "metadata": {},
     "output_type": "execute_result"
    }
   ],
   "source": [
    "best_param"
   ]
  }
 ],
 "metadata": {
  "kernelspec": {
   "display_name": "Python 3",
   "language": "python",
   "name": "python3"
  },
  "language_info": {
   "codemirror_mode": {
    "name": "ipython",
    "version": 3
   },
   "file_extension": ".py",
   "mimetype": "text/x-python",
   "name": "python",
   "nbconvert_exporter": "python",
   "pygments_lexer": "ipython3",
   "version": "3.7.4"
  }
 },
 "nbformat": 4,
 "nbformat_minor": 2
}
