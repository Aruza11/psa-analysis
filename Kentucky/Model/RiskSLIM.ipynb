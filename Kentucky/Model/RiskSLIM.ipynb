{
 "cells": [
  {
   "cell_type": "code",
   "execution_count": 2,
   "metadata": {},
   "outputs": [],
   "source": [
    "import os\n",
    "import numpy as np\n",
    "import pandas as pd\n",
    "import matplotlib.pyplot as plt\n",
    "from pprint import pprint\n",
    "\n",
    "from riskslim.helper_functions import load_data_from_csv, print_model\n",
    "from riskslim.setup_functions import get_conservative_offset\n",
    "from riskslim.coefficient_set import CoefficientSet\n",
    "from riskslim.lattice_cpa import run_lattice_cpa\n",
    "\n",
    "from sklearn.model_selection import train_test_split, KFold\n",
    "from sklearn.metrics import roc_curve, auc\n",
    "from sklearn.utils import shuffle"
   ]
  },
  {
   "cell_type": "markdown",
   "metadata": {},
   "source": [
    "#### Load any data (test or train) in order to extract the column names"
   ]
  },
  {
   "cell_type": "code",
   "execution_count": 4,
   "metadata": {},
   "outputs": [],
   "source": [
    "original_data = pd.read_csv(\"~/Documents/Duke/Cynthia Research/KY-analysis-mytrials/KY Recidivism/KY models/combined.csv\")\n",
    "cols = original_data.columns[1:]"
   ]
  },
  {
   "cell_type": "markdown",
   "metadata": {},
   "source": [
    "### Modeling -- RiskSLIM"
   ]
  },
  {
   "cell_type": "code",
   "execution_count": 8,
   "metadata": {},
   "outputs": [],
   "source": [
    "# data path\n",
    "data_name = \"combined.csv\"          \n",
    "data_csv_file = os.getcwd() + '/' + data_name \n",
    "sample_weights_csv_file = None \n",
    "\n",
    "# load data\n",
    "data = load_data_from_csv(dataset_csv_file = data_csv_file, sample_weights_csv_file = sample_weights_csv_file)"
   ]
  },
  {
   "cell_type": "code",
   "execution_count": 49,
   "metadata": {},
   "outputs": [],
   "source": [
    "def risk_slim(data, max_coefficient, max_L0_value, c0_value, max_runtime = 120, w_pos = 1, max_offset=50):\n",
    "    \n",
    "    \n",
    "    \"\"\"\n",
    "    @parameters:\n",
    "    \n",
    "    max_coefficient:  value of largest/smallest coefficient\n",
    "    max_L0_value:     maximum model size (set as float(inf))\n",
    "    max_offset:       maximum value of offset parameter (optional)\n",
    "    c0_value:         L0-penalty parameter such that c0_value > 0; larger values -> \n",
    "                      sparser models; we set to a small value (1e-6) so that we get a model with max_L0_value terms\n",
    "    w_pos:            relative weight on examples with y = +1; w_neg = 1.00 (optional)\n",
    "\n",
    "    \"\"\"\n",
    "    \n",
    "    #######################################################################################################\n",
    "    # create coefficient set and set the value of the offset parameter\n",
    "    coef_set = CoefficientSet(variable_names = data['variable_names'], lb = 0, ub = max_coefficient, sign = 0)\n",
    "    conservative_offset = get_conservative_offset(data, coef_set, max_L0_value)\n",
    "    max_offset = min(max_offset, conservative_offset)\n",
    "    coef_set['(Intercept)'].ub = max_offset\n",
    "    coef_set['(Intercept)'].lb = -max_offset\n",
    "    constraints = {\n",
    "        'L0_min': 0,\n",
    "        'L0_max': max_L0_value,\n",
    "        'coef_set':coef_set,\n",
    "    }\n",
    "    \n",
    "    #######################################################################################################\n",
    "    # Set parameters\n",
    "    settings = {\n",
    "        # Problem Parameters\n",
    "        'c0_value': c0_value,\n",
    "        'w_pos': w_pos,\n",
    "        #\n",
    "        # LCPA Settings\n",
    "        'max_runtime': max_runtime,                         # max runtime for LCPA\n",
    "        'max_tolerance': np.finfo('float').eps,             # tolerance to stop LCPA (set to 0 to return provably optimal solution)\n",
    "        'display_cplex_progress': False,                    # print CPLEX progress on screen\n",
    "        'loss_computation': 'normal',                       # how to compute the loss function ('normal','fast','lookup')\n",
    "        #\n",
    "        # RiskSLIM MIP settings\n",
    "        'drop_variables': False,\n",
    "        #\n",
    "        # LCPA Improvements\n",
    "        'round_flag': False,                                # round continuous solutions with SeqRd\n",
    "        'polish_flag': False,                               # polish integer feasible solutions with DCD\n",
    "        'chained_updates_flag': False,                      # use chained updates\n",
    "        'initialization_flag': False,                       # use initialization procedure\n",
    "        'init_max_runtime': 300.0,                          # max time to run CPA in initialization procedure\n",
    "        'add_cuts_at_heuristic_solutions': True,            # add cuts at integer feasible solutions found using polishing/rounding\n",
    "        #\n",
    "        # CPLEX Solver Parameters\n",
    "        'cplex_randomseed': 0,                              # random seed\n",
    "        'cplex_mipemphasis': 0,                             # cplex MIP strategy\n",
    "    }\n",
    "    \n",
    "    #######################################################################################################\n",
    "    # train model using lattice_cpa\n",
    "    model_info, mip_info, lcpa_info = run_lattice_cpa(data, constraints, settings)\n",
    "        \n",
    "    return model_info, mip_info, lcpa_info"
   ]
  },
  {
   "cell_type": "code",
   "execution_count": 10,
   "metadata": {},
   "outputs": [],
   "source": [
    "def riskslim_prediction(X, model_info, subtratcion_score):\n",
    "    \"\"\"\n",
    "    @parameters\n",
    "    X: test input features (array)\n",
    "    model_info: output from RiskSLIM model\n",
    "    subtraction_score: the score used to calcualte probability\n",
    "    \"\"\"\n",
    "    \n",
    "    ## initialize parameters\n",
    "    dictionary = {}\n",
    "    prob = np.zeros(len(X))\n",
    "    scores = np.zeros(len(X))\n",
    "    \n",
    "    ## prepare statistics\n",
    "    coefs = model_info['solution'][1:]\n",
    "    index = np.where(coefs != 0)[0]\n",
    "    \n",
    "    nonzero_coefs = coefs[index]\n",
    "    features = cols[index]\n",
    "    X_sub = X[:,index]\n",
    "    \n",
    "    ## build dictionaries\n",
    "    for i in range(len(index)):\n",
    "        feature_name = features[i]\n",
    "        coef = nonzero_coefs[i]\n",
    "        dictionary.update({feature_name: coef})\n",
    "        \n",
    "    ## calculate probability\n",
    "    for i in range(len(X_sub)):\n",
    "        summation = 0\n",
    "        for j in range(len(features)):\n",
    "            a = X_sub[i,j]\n",
    "            summation += dictionary[features[j]] * a\n",
    "    \n",
    "        scores[i] = summation\n",
    "    \n",
    "    prob = 1/(1+np.exp(-(scores - subtratcion_score)))\n",
    "    \n",
    "    return prob"
   ]
  },
  {
   "cell_type": "code",
   "execution_count": 11,
   "metadata": {},
   "outputs": [],
   "source": [
    "def riskslim_accuracy(X, Y, model_info, subtraction_score, threshold=0.5):\n",
    "    \n",
    "    prob = riskslim_prediction(X, model_info, subtraction_score)\n",
    "    pred = np.mean((prob > threshold) == Y)\n",
    "    \n",
    "    return pred"
   ]
  },
  {
   "cell_type": "markdown",
   "metadata": {},
   "source": [
    "### Test One Model"
   ]
  },
  {
   "cell_type": "code",
   "execution_count": 43,
   "metadata": {},
   "outputs": [],
   "source": [
    "original_test = pd.read_csv('C:\\\\Users\\\\binha\\\\Documents\\\\Duke\\\\Cynthia Research\\\\KY-analysis-mytrials\\\\KY Recidivism\\\\KY models/test_stumps.csv')\n",
    "original_train = pd.read_csv('C:\\\\Users\\\\binha\\\\Documents\\\\Duke\\\\Cynthia Research\\\\KY-analysis-mytrials\\\\KY Recidivism\\\\KY models/train_stumps.csv')\n",
    "original_test_x, original_test_y = original_test.iloc[:,1:].values, original_test.iloc[:,0].values\n",
    "original_train_x, original_train_y = original_train.iloc[:,1:].values, original_train.iloc[:,0].values\n",
    "original_test_y[original_test_y == -1] = 0\n",
    "original_train_y[original_train_y == -1] = 0"
   ]
  },
  {
   "cell_type": "code",
   "execution_count": 56,
   "metadata": {},
   "outputs": [],
   "source": [
    "# data path\n",
    "data_name = \"train_stumps.csv\"          \n",
    "data_csv_file = os.getcwd() + '/' + data_name \n",
    "sample_weights_csv_file = None \n",
    "\n",
    "# load data\n",
    "data = load_data_from_csv(dataset_csv_file = data_csv_file, sample_weights_csv_file = sample_weights_csv_file)"
   ]
  },
  {
   "cell_type": "code",
   "execution_count": 66,
   "metadata": {},
   "outputs": [
    {
     "name": "stdout",
     "output_type": "stream",
     "text": [
      "setting c0 = 0.0 to ensure that intercept is not penalized\n",
      "05/24/19 @ 03:31 PM | switching loss computation from normal to lookup\n",
      "05/24/19 @ 03:31 PM | 3116 rows in lookup table\n",
      "05/24/19 @ 03:31 PM | switching loss computation from normal to lookup\n",
      "05/24/19 @ 03:31 PM | 3116 rows in lookup table\n",
      "+----------------------------------------------+------------------+-----------+\n",
      "| Pr(Y = +1) = 1.0/(1.0 + exp(-(-7 + score))   |                  |           |\n",
      "| ============================================ | ================ | ========= |\n",
      "| p_current_age_sixty5                         |         5 points |   + ..... |\n",
      "| fail_appear_two_plus_two                     |         5 points |   + ..... |\n",
      "| fail_appear_two_yr_six                       |         5 points |   + ..... |\n",
      "| p_juv_fel_count_seven                        |         5 points |   + ..... |\n",
      "| p_sex_arrest_seven                           |         5 points |   + ..... |\n",
      "| p_juv_fel_count_eight                        |         5 points |   + ..... |\n",
      "| p_sex_arrest_eight                           |         5 points |   + ..... |\n",
      "| p_sex_arrest_nine                            |         5 points |   + ..... |\n",
      "| p_probation_seven                            |         4 points |   + ..... |\n",
      "| p_current_age_thirty2                        |         1 points |   + ..... |\n",
      "| p_misdem_count_person_one                    |         1 points |   + ..... |\n",
      "| p_murder_arrest_two                          |         1 points |   + ..... |\n",
      "| p_misdemassault_arrest_three                 |         1 points |   + ..... |\n",
      "| fail_appear_two_yr_three                     |         1 points |   + ..... |\n",
      "| p_probation_four                             |         1 points |   + ..... |\n",
      "| p_weapons_arrest_six                         |         1 points |   + ..... |\n",
      "| ============================================ | ================ | ========= |\n",
      "| ADD POINTS FROM ROWS 1 to 16                 |            SCORE |   = ..... |\n",
      "+----------------------------------------------+------------------+-----------+\n"
     ]
    },
    {
     "data": {
      "text/plain": [
       "<prettytable.PrettyTable at 0x1d0f86b44e0>"
      ]
     },
     "execution_count": 66,
     "metadata": {},
     "output_type": "execute_result"
    }
   ],
   "source": [
    "model_info, mip_info, lcpa_info = risk_slim(data, max_coefficient=5, max_L0_value=10, c0_value=1e-6, max_runtime=120)\n",
    "\n",
    "#model info contains key results\n",
    "print_model(model_info['solution'], data)"
   ]
  },
  {
   "cell_type": "code",
   "execution_count": 67,
   "metadata": {},
   "outputs": [
    {
     "data": {
      "text/plain": [
       "0.5683646112600537"
      ]
     },
     "execution_count": 67,
     "metadata": {},
     "output_type": "execute_result"
    }
   ],
   "source": [
    "riskslim_accuracy(original_test_x, original_test_y, model_info, 7)"
   ]
  },
  {
   "cell_type": "code",
   "execution_count": 68,
   "metadata": {},
   "outputs": [
    {
     "data": {
      "text/plain": [
       "0.5841330774152271"
      ]
     },
     "execution_count": 68,
     "metadata": {},
     "output_type": "execute_result"
    }
   ],
   "source": [
    "riskslim_accuracy(original_train_x, original_train_y, model_info, 7)"
   ]
  },
  {
   "cell_type": "markdown",
   "metadata": {},
   "source": [
    "### Cross Validation"
   ]
  },
  {
   "cell_type": "code",
   "execution_count": 69,
   "metadata": {},
   "outputs": [],
   "source": [
    "# data path\n",
    "data_name = \"combined.csv\"          \n",
    "data_csv_file = os.getcwd() + '/' + data_name \n",
    "sample_weights_csv_file = None \n",
    "\n",
    "# load data\n",
    "data = load_data_from_csv(dataset_csv_file = data_csv_file, sample_weights_csv_file = sample_weights_csv_file)\n",
    "X, Y = data['X'], data['Y']\n",
    "variable_names = data['variable_names']\n",
    "outcome_name = data['outcome_name']\n",
    "sample_weights = data['sample_weights']"
   ]
  },
  {
   "cell_type": "code",
   "execution_count": 70,
   "metadata": {
    "scrolled": true
   },
   "outputs": [
    {
     "name": "stdout",
     "output_type": "stream",
     "text": [
      "setting c0 = 0.0 to ensure that intercept is not penalized\n",
      "05/24/19 @ 03:34 PM | switching loss computation from normal to lookup\n",
      "05/24/19 @ 03:34 PM | 3023 rows in lookup table\n",
      "05/24/19 @ 03:34 PM | switching loss computation from normal to lookup\n",
      "05/24/19 @ 03:34 PM | 3023 rows in lookup table\n",
      "+----------------------------------------------+------------------+-----------+\n",
      "| Pr(Y = +1) = 1.0/(1.0 + exp(-(-2 + score))   |                  |           |\n",
      "| ============================================ | ================ | ========= |\n",
      "| fail_appear_two_plus_one                     |         2 points |   + ..... |\n",
      "| p_current_age_thirty2                        |         1 points |   + ..... |\n",
      "| p_misdem_count_person_one                    |         1 points |   + ..... |\n",
      "| violent_conviction_five                      |         1 points |   + ..... |\n",
      "| prior_conviction_M_eight                     |         1 points |   + ..... |\n",
      "| ============================================ | ================ | ========= |\n",
      "| ADD POINTS FROM ROWS 1 to 5                  |            SCORE |   = ..... |\n",
      "+----------------------------------------------+------------------+-----------+\n",
      "setting c0 = 0.0 to ensure that intercept is not penalized\n",
      "05/24/19 @ 03:36 PM | switching loss computation from normal to weighted\n",
      "05/24/19 @ 03:36 PM | switching loss computation from normal to weighted\n",
      "+----------------------------------------------+------------------+-----------+\n",
      "| Pr(Y = +1) = 1.0/(1.0 + exp(-(-1 + score))   |                  |           |\n",
      "| ============================================ | ================ | ========= |\n",
      "| p_current_age_thirty                         |         1 points |   + ..... |\n",
      "| p_n_on_probation_four                        |         1 points |   + ..... |\n",
      "| p_property_eight                             |         1 points |   + ..... |\n",
      "| ============================================ | ================ | ========= |\n",
      "| ADD POINTS FROM ROWS 1 to 3                  |            SCORE |   = ..... |\n",
      "+----------------------------------------------+------------------+-----------+\n",
      "setting c0 = 0.0 to ensure that intercept is not penalized\n",
      "05/24/19 @ 03:40 PM | switching loss computation from normal to weighted\n",
      "05/24/19 @ 03:40 PM | switching loss computation from normal to weighted\n",
      "+----------------------------------------------+------------------+-----------+\n",
      "| Pr(Y = +1) = 1.0/(1.0 + exp(-(-2 + score))   |                  |           |\n",
      "| ============================================ | ================ | ========= |\n",
      "| p_current_age_thirty                         |         1 points |   + ..... |\n",
      "| fail_appear_two_yr_one                       |         1 points |   + ..... |\n",
      "| p_misdem_count_person_two                    |         1 points |   + ..... |\n",
      "| prior_conviction_M_six                       |         1 points |   + ..... |\n",
      "| ============================================ | ================ | ========= |\n",
      "| ADD POINTS FROM ROWS 1 to 4                  |            SCORE |   = ..... |\n",
      "+----------------------------------------------+------------------+-----------+\n",
      "setting c0 = 0.0 to ensure that intercept is not penalized\n",
      "05/24/19 @ 03:42 PM | switching loss computation from normal to weighted\n",
      "05/24/19 @ 03:42 PM | switching loss computation from normal to weighted\n",
      "+----------------------------------------------+------------------+-----------+\n",
      "| Pr(Y = +1) = 1.0/(1.0 + exp(-(-2 + score))   |                  |           |\n",
      "| ============================================ | ================ | ========= |\n",
      "| p_current_age_thirty                         |         1 points |   + ..... |\n",
      "| fail_appear_two_yr_one                       |         1 points |   + ..... |\n",
      "| p_arrest_three                               |         1 points |   + ..... |\n",
      "| p_misdem_count_person_eight                  |         1 points |   + ..... |\n",
      "| ============================================ | ================ | ========= |\n",
      "| ADD POINTS FROM ROWS 1 to 4                  |            SCORE |   = ..... |\n",
      "+----------------------------------------------+------------------+-----------+\n",
      "setting c0 = 0.0 to ensure that intercept is not penalized\n",
      "05/24/19 @ 03:44 PM | switching loss computation from normal to weighted\n",
      "05/24/19 @ 03:44 PM | switching loss computation from normal to weighted\n",
      "+----------------------------------------------+------------------+-----------+\n",
      "| Pr(Y = +1) = 1.0/(1.0 + exp(-(-1 + score))   |                  |           |\n",
      "| ============================================ | ================ | ========= |\n",
      "| p_juv_fel_count_eight                        |         5 points |   + ..... |\n",
      "| p_sex_arrest_eight                           |         3 points |   + ..... |\n",
      "| p_domestic_two                               |         2 points |   + ..... |\n",
      "| p_current_age_thirty2                        |         1 points |   + ..... |\n",
      "| prior_conviction_M_six                       |         1 points |   + ..... |\n",
      "| ============================================ | ================ | ========= |\n",
      "| ADD POINTS FROM ROWS 1 to 5                  |            SCORE |   = ..... |\n",
      "+----------------------------------------------+------------------+-----------+\n"
     ]
    }
   ],
   "source": [
    "cv = KFold(n_splits=5, random_state=816, shuffle=True)\n",
    "results = []\n",
    "x_train_agg = []\n",
    "x_test_agg = []\n",
    "y_train_agg = []\n",
    "y_test_agg = []\n",
    "model_information = []\n",
    "\n",
    "i = 0\n",
    "for train, test in cv.split(X, Y):\n",
    "    \n",
    "    ## subset train data & store test data\n",
    "    X_train, Y_train = X[train], Y[train]\n",
    "    X_test, Y_test = X[test], Y[test]\n",
    "    sample_weights_train = sample_weights[train]\n",
    "    sample_weights_test = sample_weights[test]\n",
    "\n",
    "    x_test_agg.append(X_test)\n",
    "    x_train_agg.append(X_train)\n",
    "    y_test_agg.append(Y_test)\n",
    "    y_train_agg.append(Y_train)\n",
    "\n",
    "    ## create new data dictionary\n",
    "    new_train_data = {\n",
    "        'X': X_train,\n",
    "        'Y': Y_train,\n",
    "        'variable_names': variable_names,\n",
    "        'outcome_name': outcome_name,\n",
    "        'sample_weights': sample_weights_train\n",
    "    }\n",
    "        \n",
    "    ## fit the model\n",
    "    model_info, mip_info, lcpa_info = risk_slim(new_train_data, max_coefficient=5, max_L0_value=10, c0_value=1e-6, max_runtime=120)\n",
    "    model_information.append(model_info)\n",
    "    print_model(model_info['solution'], new_train_data)"
   ]
  },
  {
   "cell_type": "markdown",
   "metadata": {},
   "source": [
    "#### Manually type in subtraction scores"
   ]
  },
  {
   "cell_type": "code",
   "execution_count": 78,
   "metadata": {},
   "outputs": [],
   "source": [
    "subtraction_scores = [2, 1, 2, 2, 1]"
   ]
  },
  {
   "cell_type": "markdown",
   "metadata": {},
   "source": [
    "#### Plot ROC"
   ]
  },
  {
   "cell_type": "code",
   "execution_count": 72,
   "metadata": {},
   "outputs": [
    {
     "data": {
      "text/plain": [
       "Text(0,0.5,'True Positive Rate')"
      ]
     },
     "execution_count": 72,
     "metadata": {},
     "output_type": "execute_result"
    },
    {
     "data": {
      "image/png": "[encoded data removed]",
      "text/plain": [
       "<Figure size 432x288 with 1 Axes>"
      ]
     },
     "metadata": {
      "needs_background": "light"
     },
     "output_type": "display_data"
    }
   ],
   "source": [
    "test_acc = []\n",
    "train_acc = []\n",
    "\n",
    "for i in range(5):\n",
    "    #plt.figure(figsize=(8,6))\n",
    "    test_prob = riskslim_prediction(x_test_agg[i], model_information[i], subtraction_scores[i])\n",
    "    train_prob = riskslim_prediction(x_train_agg[i], model_information[i], subtraction_scores[i])\n",
    "    y_test, y_train = y_test_agg[i], y_train_agg[i]\n",
    "    y_test[y_test == -1] = 0\n",
    "    y_train[y_train == -1] = 0\n",
    "    \n",
    "    test_acc.append(np.mean((test_prob > 0.5) == y_test))\n",
    "    train_acc.append(np.mean((train_prob > 0.5) == y_test))\n",
    "    ## compute ROC curve and AUC\n",
    "    fpr, tpr, thresholds = roc_curve(y_test, test_prob)\n",
    "    roc_auc = auc(fpr, tpr)\n",
    "    plt.plot(fpr, tpr, lw=1, alpha=0.8, \n",
    "             label = 'ROC fold %d (AUC = %0.2f)' % (i, roc_auc))\n",
    "    i += 1\n",
    "    \n",
    "plt.plot([0, 1], [0, 1], lw=2, linestyle = '--',color='black',alpha=.8)\n",
    "plt.title(\"ROC & AUC\")\n",
    "plt.legend(loc = \"lower right\")\n",
    "plt.xlim([-0.05, 1.05])\n",
    "plt.ylim([-0.05, 1.05])\n",
    "plt.xlabel('False Positive Rate')\n",
    "plt.ylabel('True Positive Rate')"
   ]
  },
  {
   "cell_type": "code",
   "execution_count": 73,
   "metadata": {},
   "outputs": [
    {
     "data": {
      "text/plain": [
       "[0.5185992135189712,\n",
       " 0.5424153195921719,\n",
       " 0.5415807009461236,\n",
       " 0.5065601025579393,\n",
       " 0.5326803277046652]"
      ]
     },
     "execution_count": 73,
     "metadata": {},
     "output_type": "execute_result"
    }
   ],
   "source": [
    "test_acc"
   ]
  },
  {
   "cell_type": "code",
   "execution_count": 74,
   "metadata": {},
   "outputs": [
    {
     "data": {
      "text/plain": [
       "[0.5218439489597485,\n",
       " 0.5416447720710036,\n",
       " 0.5395545680050312,\n",
       " 0.5064933115138048,\n",
       " 0.5297641389043194]"
      ]
     },
     "execution_count": 74,
     "metadata": {},
     "output_type": "execute_result"
    }
   ],
   "source": [
    "train_acc"
   ]
  },
  {
   "cell_type": "code",
   "execution_count": 76,
   "metadata": {},
   "outputs": [
    {
     "data": {
      "text/plain": [
       "(0.5278601478907815, 0.5283671328639743)"
      ]
     },
     "execution_count": 76,
     "metadata": {},
     "output_type": "execute_result"
    }
   ],
   "source": [
    "np.mean(train_acc), np.mean(test_acc)"
   ]
  },
  {
   "cell_type": "code",
   "execution_count": null,
   "metadata": {},
   "outputs": [],
   "source": []
  },
  {
   "cell_type": "code",
   "execution_count": null,
   "metadata": {},
   "outputs": [],
   "source": []
  }
 ],
 "metadata": {
  "kernelspec": {
   "display_name": "Python 3",
   "language": "python",
   "name": "python3"
  },
  "language_info": {
   "codemirror_mode": {
    "name": "ipython",
    "version": 3
   },
   "file_extension": ".py",
   "mimetype": "text/x-python",
   "name": "python",
   "nbconvert_exporter": "python",
   "pygments_lexer": "ipython3",
   "version": "3.7.0"
  }
 },
 "nbformat": 4,
 "nbformat_minor": 2
}
